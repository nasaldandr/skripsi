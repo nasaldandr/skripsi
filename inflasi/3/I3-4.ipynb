{
 "cells": [
  {
   "cell_type": "code",
   "execution_count": 1,
   "metadata": {},
   "outputs": [],
   "source": [
    "import numpy as np"
   ]
  },
  {
   "cell_type": "code",
   "execution_count": 2,
   "metadata": {},
   "outputs": [],
   "source": [
    "#UNTUK NILAI IMPOR\n",
    "class Neural_Network(object):\n",
    "    def __init__(self):\n",
    "        #parameters\n",
    "        self.inputLayerSize = 3\n",
    "        self.outputLayerSize = 1\n",
    "        self.hiddenLayerSize = 4\n",
    "\n",
    "        #weights\n",
    "        self.W1 = np.random.randn(self.inputLayerSize,\\\n",
    "                                 self.hiddenLayerSize)  \n",
    "        self.W2 = np.random.randn(self.hiddenLayerSize,\\\n",
    "                                 self.outputLayerSize)  \n",
    "    \n",
    "    def printw(self):\n",
    "        return self.W1\n",
    "        \n",
    "    def weight(self, W1, W2):\n",
    "        #Make an internal variable for the weight:\n",
    "        self.W1 = W1\n",
    "        self.W2 = W2\n",
    "        \n",
    "    def forward(self, X):\n",
    "        #forward propagation through our network\n",
    "        self.z2 = np.dot(X,self.W1)  \n",
    "        self.a2 = self.sigmoid(self.z2)  # activation function\n",
    "        self.z3 = np.dot(self.a2, self.W2) \n",
    "        yHat = self.sigmoid(self.z3)  # final activation function\n",
    "        return yHat\n",
    "\n",
    "    def sigmoid(self, z):\n",
    "        # activation function\n",
    "        return 1 / (1 + np.exp(-z))\n",
    "    \n",
    "    def sigmoidPrime(self,z): \n",
    "        #derivative of sigmoid     \n",
    "        return np.exp(-z)/((1+np.exp(-z))**2)\n",
    "    \n",
    "    def costFunction(self,X,y):\n",
    "        self.yHat = self.forward(X)\n",
    "        J=0.5*sum((y-self.yHat)**2)\n",
    "        return J\n",
    "    \n",
    "    def costFunctionPrime(self,X,y):\n",
    "        self.yHat=self.forward(X)\n",
    "        \n",
    "        delta3=np.multiply(-(y-self.yHat),self.sigmoidPrime(self.z3))\n",
    "        dJdW2=np.dot(self.a2.T,delta3)\n",
    "        \n",
    "        delta2=np.dot(delta3,self.W2.T)*self.sigmoidPrime(self.z2)\n",
    "        dJdW1=np.dot(X.T,delta2)\n",
    "        return dJdW1,dJdW2\n",
    "    \n",
    "    def predict(self):\n",
    "        prediksi = self.forward(dataprediksi)\n",
    "        return prediksi\n",
    "    \n",
    "    def getParams(self):\n",
    "        params=np.concatenate((self.W1.ravel(),self.W2.ravel()))\n",
    "        return params\n",
    "    \n",
    "    def setParams(self,params):\n",
    "        W1_start=0\n",
    "        W1_end=self.hiddenLayerSize*self.inputLayerSize\n",
    "        self.W1=np.reshape(params[W1_start:W1_end],\\\n",
    "                          (self.inputLayerSize,self.hiddenLayerSize))\n",
    "        W2_end=W1_end+self.hiddenLayerSize*self.outputLayerSize\n",
    "        self.W2=np.reshape(params[W1_end:W2_end],\\\n",
    "                          (self.hiddenLayerSize,self.outputLayerSize))\n",
    "        \n",
    "    def computeGradients(self, X, y):\n",
    "        dJdW1, dJdW2 = self.costFunctionPrime(X, y)\n",
    "        return np.concatenate((dJdW1.ravel(), dJdW2.ravel()))"
   ]
  },
  {
   "cell_type": "code",
   "execution_count": 3,
   "metadata": {},
   "outputs": [],
   "source": [
    "NN = Neural_Network()"
   ]
  },
  {
   "cell_type": "code",
   "execution_count": 4,
   "metadata": {},
   "outputs": [
    {
     "data": {
      "text/plain": [
       "array([[-2.36435745,  0.05982156, -0.27756434, -1.45061059],\n",
       "       [-0.78126926, -0.32146314, -1.09594121,  1.33377966],\n",
       "       [ 0.29309787, -0.16617948,  0.15154997,  1.48034129]])"
      ]
     },
     "execution_count": 4,
     "metadata": {},
     "output_type": "execute_result"
    }
   ],
   "source": [
    "NN.W1"
   ]
  },
  {
   "cell_type": "code",
   "execution_count": 5,
   "metadata": {},
   "outputs": [
    {
     "data": {
      "text/plain": [
       "array([[ 2.10197499],\n",
       "       [ 0.81680816],\n",
       "       [ 1.76397173],\n",
       "       [-0.6865899 ]])"
      ]
     },
     "execution_count": 5,
     "metadata": {},
     "output_type": "execute_result"
    }
   ],
   "source": [
    "NN.W2"
   ]
  },
  {
   "cell_type": "code",
   "execution_count": 6,
   "metadata": {},
   "outputs": [],
   "source": [
    "#NILAI IMPOR\n",
    "X=np.array(([\t0.147887324\t,\t0.063380282\t,\t0.436619718\t]\t,\n",
    "[\t0.063380282\t,\t0.436619718\t,\t0.570422535\t]\t,\n",
    "[\t0.436619718\t,\t0.570422535\t,\t0.669014085\t]\t,\n",
    "[\t0.570422535\t,\t0.669014085\t,\t0.697183099\t]\t,\n",
    "[\t0.669014085\t,\t0.697183099\t,\t0.971830986\t]\t,\n",
    "[\t0.697183099\t,\t0.971830986\t,\t0.591549296\t]\t,\n",
    "[\t0.971830986\t,\t0.591549296\t,\t0.281690141\t]\t,\n",
    "[\t0.591549296\t,\t0.281690141\t,\t0.26056338\t]\t,\n",
    "[\t0.281690141\t,\t0.26056338\t,\t0.464788732\t]\t,\n",
    "[\t0.26056338\t,\t0.464788732\t,\t0.992957746\t]\t,\n",
    "[\t0.464788732\t,\t0.992957746\t,\t0.676056338\t]\t,\n",
    "[\t0.992957746\t,\t0.676056338\t,\t0.253521127\t]\t,\n",
    "[\t0.676056338\t,\t0.253521127\t,\t0.450704225\t]\t,\n",
    "[\t0.253521127\t,\t0.450704225\t,\t0\t]\t,\n",
    "[\t0.450704225\t,\t0\t,\t0.485915493\t]\t,\n",
    "[\t0\t,\t0.485915493\t,\t0.781690141\t]\t,\n",
    "[\t0.485915493\t,\t0.781690141\t,\t0.802816901\t]\t,\n",
    "[\t0.781690141\t,\t0.802816901\t,\t0.302816901\t]\t,\n",
    "[\t0.802816901\t,\t0.302816901\t,\t0.471830986\t]\t,\n",
    "[\t0.302816901\t,\t0.471830986\t,\t0.415492958\t]\t,\n",
    "[\t0.471830986\t,\t0.415492958\t,\t0.647887324\t]\t,\n",
    "[\t0.415492958\t,\t0.647887324\t,\t0.612676056\t]\t,\n",
    "[\t0.647887324\t,\t0.612676056\t,\t1\t]\t,\n",
    "[\t0.612676056\t,\t1\t,\t0.478873239\t]\t,\n",
    "[\t1\t,\t0.478873239\t,\t0.302816901\t]\t,\n",
    "[\t0.478873239\t,\t0.302816901\t,\t0.38028169\t]\t,\n",
    "[\t0.302816901\t,\t0.38028169\t,\t0.591549296\t]\t,\n",
    "[\t0.38028169\t,\t0.591549296\t,\t0.802816901\t]\t,\n",
    "[\t0.591549296\t,\t0.802816901\t,\t0.471830986\t]\t,\n",
    "[\t0.802816901\t,\t0.471830986\t,\t0.267605634\t]\t,\n",
    "[\t0.471830986\t,\t0.267605634\t,\t0.408450704\t]\t,\n",
    "[\t0.267605634\t,\t0.408450704\t,\t0.323943662\t]\t,\n",
    "[\t0.408450704\t,\t0.323943662\t,\t0.457746479\t]\t,\n",
    "[\t0.323943662\t,\t0.457746479\t,\t0.816901408\t]\t,\n",
    "[\t0.457746479\t,\t0.816901408\t,\t0.753521127\t]\t,\n",
    "[\t0.816901408\t,\t0.753521127\t,\t0.436619718\t]\t,\n",
    "[\t0.753521127\t,\t0.436619718\t,\t0.457746479\t]\t,\n",
    "[\t0.436619718\t,\t0.457746479\t,\t0.387323944\t]\t,\n",
    "[\t0.457746479\t,\t0.387323944\t,\t0.464788732\t]\t,\n",
    "[\t0.387323944\t,\t0.464788732\t,\t0.732394366\t]\t,\n",
    "[\t0.464788732\t,\t0.732394366\t,\t0.514084507\t]\t,\n",
    "[\t0.732394366\t,\t0.514084507\t,\t0.281690141\t]\t,\n",
    "[\t0.514084507\t,\t0.281690141\t,\t0.190140845\t]\t,\n",
    "[\t0.281690141\t,\t0.190140845\t,\t0.514084507\t]\t,\n",
    "[\t0.190140845\t,\t0.514084507\t,\t0.507042254\t]\t,\n",
    "[\t0.514084507\t,\t0.507042254\t,\t0.753521127\t]\t,\n",
    "[\t0.507042254\t,\t0.753521127\t,\t0.542253521\t]\t,\n",
    "[\t0.753521127\t,\t0.542253521\t,\t0.26056338\t]\t,\n",
    "[\t0.542253521\t,\t0.26056338\t,\t0.394366197\t]\t,\n",
    "[\t0.26056338\t,\t0.394366197\t,\t0.626760563\t]\t,\n",
    "[\t0.394366197\t,\t0.626760563\t,\t0.795774648\t]\t,\n",
    "[\t0.626760563\t,\t0.795774648\t,\t0.704225352\t]\t,\n",
    "[\t0.795774648\t,\t0.704225352\t,\t0.535211268\t]\t,\n",
    "[\t0.704225352\t,\t0.535211268\t,\t0.401408451\t]\t,\n",
    "[\t0.535211268\t,\t0.401408451\t,\t0.126760563\t]\t,\n",
    "[\t0.401408451\t,\t0.126760563\t,\t0.330985915\t]\t,\n",
    "[\t0.126760563\t,\t0.330985915\t,\t0.415492958\t]\t,\n",
    "[\t0.330985915\t,\t0.415492958\t,\t0.556338028\t]\t,\n",
    "[\t0.415492958\t,\t0.556338028\t,\t0.591549296\t]\t,\n",
    "\n",
    "\n",
    ")           \n",
    ",dtype=float)\n",
    "y=np.array(([\t0.570422535\t]\t,\n",
    "[\t0.669014085\t]\t,\n",
    "[\t0.697183099\t]\t,\n",
    "[\t0.971830986\t]\t,\n",
    "[\t0.591549296\t]\t,\n",
    "[\t0.281690141\t]\t,\n",
    "[\t0.26056338\t]\t,\n",
    "[\t0.464788732\t]\t,\n",
    "[\t0.992957746\t]\t,\n",
    "[\t0.676056338\t]\t,\n",
    "[\t0.253521127\t]\t,\n",
    "[\t0.450704225\t]\t,\n",
    "[\t0\t]\t,\n",
    "[\t0.485915493\t]\t,\n",
    "[\t0.781690141\t]\t,\n",
    "[\t0.802816901\t]\t,\n",
    "[\t0.302816901\t]\t,\n",
    "[\t0.471830986\t]\t,\n",
    "[\t0.415492958\t]\t,\n",
    "[\t0.647887324\t]\t,\n",
    "[\t0.612676056\t]\t,\n",
    "[\t1\t]\t,\n",
    "[\t0.478873239\t]\t,\n",
    "[\t0.302816901\t]\t,\n",
    "[\t0.38028169\t]\t,\n",
    "[\t0.591549296\t]\t,\n",
    "[\t0.802816901\t]\t,\n",
    "[\t0.471830986\t]\t,\n",
    "[\t0.267605634\t]\t,\n",
    "[\t0.408450704\t]\t,\n",
    "[\t0.323943662\t]\t,\n",
    "[\t0.457746479\t]\t,\n",
    "[\t0.816901408\t]\t,\n",
    "[\t0.753521127\t]\t,\n",
    "[\t0.436619718\t]\t,\n",
    "[\t0.457746479\t]\t,\n",
    "[\t0.387323944\t]\t,\n",
    "[\t0.464788732\t]\t,\n",
    "[\t0.732394366\t]\t,\n",
    "[\t0.514084507\t]\t,\n",
    "[\t0.281690141\t]\t,\n",
    "[\t0.190140845\t]\t,\n",
    "[\t0.514084507\t]\t,\n",
    "[\t0.507042254\t]\t,\n",
    "[\t0.753521127\t]\t,\n",
    "[\t0.542253521\t]\t,\n",
    "[\t0.26056338\t]\t,\n",
    "[\t0.394366197\t]\t,\n",
    "[\t0.626760563\t]\t,\n",
    "[\t0.795774648\t]\t,\n",
    "[\t0.704225352\t]\t,\n",
    "[\t0.535211268\t]\t,\n",
    "[\t0.401408451\t]\t,\n",
    "[\t0.126760563\t]\t,\n",
    "[\t0.330985915\t]\t,\n",
    "[\t0.415492958\t]\t,\n",
    "[\t0.556338028\t]\t,\n",
    "[\t0.591549296\t]\t,\n",
    "[\t0.514084507\t]\t,\n",
    "\n",
    ")\n",
    ",dtype=float)\n",
    "\n",
    "dataprediksi = np.array(([\t0.556338028\t,\t0.591549296\t,\t0.514084507\t]\t,\n",
    "[\t0.591549296\t,\t0.514084507\t,\t0.387323944\t]\t,\n",
    "[\t0.514084507\t,\t0.387323944\t,\t0.373239437\t]\t,\n",
    "[\t0.387323944\t,\t0.373239437\t,\t0.366197183\t]\t,\n",
    "\n",
    "\n",
    "), dtype=float)\n"
   ]
  },
  {
   "cell_type": "code",
   "execution_count": 7,
   "metadata": {},
   "outputs": [],
   "source": [
    "import matplotlib.pyplot as plot"
   ]
  },
  {
   "cell_type": "code",
   "execution_count": 8,
   "metadata": {},
   "outputs": [],
   "source": [
    "from scipy import optimize"
   ]
  },
  {
   "cell_type": "code",
   "execution_count": 9,
   "metadata": {},
   "outputs": [],
   "source": [
    "class trainer(object):\n",
    "    def __init__(self, N):\n",
    "        #Make Local reference to network:\n",
    "        self.N = N\n",
    "        \n",
    "    def callbackF(self, params):\n",
    "        self.N.setParams(params)\n",
    "        self.J.append(self.N.costFunction(self.X, self.y))   \n",
    "        \n",
    "    def costFunctionWrapper(self, params, X, y):\n",
    "        self.N.setParams(params)\n",
    "        cost = self.N.costFunction(X, y)\n",
    "        grad = self.N.computeGradients(X,y)\n",
    "        \n",
    "        return cost, grad\n",
    "        \n",
    "    def train(self, X, y):\n",
    "        #Make an internal variable for the callback function:\n",
    "        self.X = X\n",
    "        self.y = y\n",
    "\n",
    "        #Make empty list to store costs:\n",
    "        self.J = []\n",
    "        \n",
    "        params0 = self.N.getParams()\n",
    "\n",
    "        options = {'maxiter': 100, 'disp' : True}\n",
    "        _res = optimize.minimize(self.costFunctionWrapper, params0, jac=True, method='BFGS', \\\n",
    "                                 args=(X, y), options=options, callback=self.callbackF)\n",
    "\n",
    "        self.N.setParams(_res.x)\n",
    "        self.optimizationResults = _res"
   ]
  },
  {
   "cell_type": "code",
   "execution_count": 10,
   "metadata": {},
   "outputs": [],
   "source": [
    "NN=Neural_Network()"
   ]
  },
  {
   "cell_type": "code",
   "execution_count": 11,
   "metadata": {},
   "outputs": [],
   "source": [
    "T = trainer(NN)"
   ]
  },
  {
   "cell_type": "code",
   "execution_count": 12,
   "metadata": {},
   "outputs": [
    {
     "name": "stdout",
     "output_type": "stream",
     "text": [
      "Warning: Maximum number of iterations has been exceeded.\n",
      "         Current function value: 0.639065\n",
      "         Iterations: 100\n",
      "         Function evaluations: 106\n",
      "         Gradient evaluations: 106\n"
     ]
    }
   ],
   "source": [
    "#Train network with new data:\n",
    "T = trainer(NN)\n",
    "T.train(X,y)"
   ]
  },
  {
   "cell_type": "code",
   "execution_count": 13,
   "metadata": {},
   "outputs": [
    {
     "data": {
      "image/png": "[encoded data removed]",
      "text/plain": [
       "<Figure size 432x288 with 1 Axes>"
      ]
     },
     "metadata": {
      "needs_background": "light"
     },
     "output_type": "display_data"
    }
   ],
   "source": [
    "#Plot cost during training:\n",
    "plot.plot(T.J)\n",
    "plot.grid(1)\n",
    "plot.xlabel('Iterations')\n",
    "plot.ylabel('Cost')\n",
    "plot.show()"
   ]
  },
  {
   "cell_type": "code",
   "execution_count": 14,
   "metadata": {},
   "outputs": [],
   "source": [
    "#Training Data:\n",
    "trainX = np.array(([\t0.147887324\t,\t0.063380282\t,\t0.436619718\t]\t,\n",
    "[\t0.063380282\t,\t0.436619718\t,\t0.570422535\t]\t,\n",
    "[\t0.436619718\t,\t0.570422535\t,\t0.669014085\t]\t,\n",
    "[\t0.570422535\t,\t0.669014085\t,\t0.697183099\t]\t,\n",
    "[\t0.669014085\t,\t0.697183099\t,\t0.971830986\t]\t,\n",
    "[\t0.697183099\t,\t0.971830986\t,\t0.591549296\t]\t,\n",
    "[\t0.971830986\t,\t0.591549296\t,\t0.281690141\t]\t,\n",
    "[\t0.591549296\t,\t0.281690141\t,\t0.26056338\t]\t,\n",
    "[\t0.281690141\t,\t0.26056338\t,\t0.464788732\t]\t,\n",
    "[\t0.26056338\t,\t0.464788732\t,\t0.992957746\t]\t,\n",
    "[\t0.464788732\t,\t0.992957746\t,\t0.676056338\t]\t,\n",
    "[\t0.992957746\t,\t0.676056338\t,\t0.253521127\t]\t,\n",
    "[\t0.676056338\t,\t0.253521127\t,\t0.450704225\t]\t,\n",
    "[\t0.253521127\t,\t0.450704225\t,\t0\t]\t,\n",
    "[\t0.450704225\t,\t0\t,\t0.485915493\t]\t,\n",
    "[\t0\t,\t0.485915493\t,\t0.781690141\t]\t,\n",
    "[\t0.485915493\t,\t0.781690141\t,\t0.802816901\t]\t,\n",
    "[\t0.781690141\t,\t0.802816901\t,\t0.302816901\t]\t,\n",
    "[\t0.802816901\t,\t0.302816901\t,\t0.471830986\t]\t,\n",
    "[\t0.302816901\t,\t0.471830986\t,\t0.415492958\t]\t,\n",
    "[\t0.471830986\t,\t0.415492958\t,\t0.647887324\t]\t,\n",
    "[\t0.415492958\t,\t0.647887324\t,\t0.612676056\t]\t,\n",
    "[\t0.647887324\t,\t0.612676056\t,\t1\t]\t,\n",
    "[\t0.612676056\t,\t1\t,\t0.478873239\t]\t,\n",
    "[\t1\t,\t0.478873239\t,\t0.302816901\t]\t,\n",
    "[\t0.478873239\t,\t0.302816901\t,\t0.38028169\t]\t,\n",
    "[\t0.302816901\t,\t0.38028169\t,\t0.591549296\t]\t,\n",
    "[\t0.38028169\t,\t0.591549296\t,\t0.802816901\t]\t,\n",
    "[\t0.591549296\t,\t0.802816901\t,\t0.471830986\t]\t,\n",
    "[\t0.802816901\t,\t0.471830986\t,\t0.267605634\t]\t,\n",
    "[\t0.471830986\t,\t0.267605634\t,\t0.408450704\t]\t,\n",
    "[\t0.267605634\t,\t0.408450704\t,\t0.323943662\t]\t,\n",
    "[\t0.408450704\t,\t0.323943662\t,\t0.457746479\t]\t,\n",
    "[\t0.323943662\t,\t0.457746479\t,\t0.816901408\t]\t,\n",
    "[\t0.457746479\t,\t0.816901408\t,\t0.753521127\t]\t,\n",
    "[\t0.816901408\t,\t0.753521127\t,\t0.436619718\t]\t,\n",
    "[\t0.753521127\t,\t0.436619718\t,\t0.457746479\t]\t,\n",
    "[\t0.436619718\t,\t0.457746479\t,\t0.387323944\t]\t,\n",
    "[\t0.457746479\t,\t0.387323944\t,\t0.464788732\t]\t,\n",
    "[\t0.387323944\t,\t0.464788732\t,\t0.732394366\t]\t,\n",
    "[\t0.464788732\t,\t0.732394366\t,\t0.514084507\t]\t,\n",
    "[\t0.732394366\t,\t0.514084507\t,\t0.281690141\t]\t,\n",
    "[\t0.514084507\t,\t0.281690141\t,\t0.190140845\t]\t,\n",
    "[\t0.281690141\t,\t0.190140845\t,\t0.514084507\t]\t,\n",
    "[\t0.190140845\t,\t0.514084507\t,\t0.507042254\t]\t,\n",
    "[\t0.514084507\t,\t0.507042254\t,\t0.753521127\t]\t,\n",
    "\n",
    ")\n",
    ", dtype=float)\n",
    "trainY = np.array(([\t0.570422535\t]\t,\n",
    "[\t0.669014085\t]\t,\n",
    "[\t0.697183099\t]\t,\n",
    "[\t0.971830986\t]\t,\n",
    "[\t0.591549296\t]\t,\n",
    "[\t0.281690141\t]\t,\n",
    "[\t0.26056338\t]\t,\n",
    "[\t0.464788732\t]\t,\n",
    "[\t0.992957746\t]\t,\n",
    "[\t0.676056338\t]\t,\n",
    "[\t0.253521127\t]\t,\n",
    "[\t0.450704225\t]\t,\n",
    "[\t0\t]\t,\n",
    "[\t0.485915493\t]\t,\n",
    "[\t0.781690141\t]\t,\n",
    "[\t0.802816901\t]\t,\n",
    "[\t0.302816901\t]\t,\n",
    "[\t0.471830986\t]\t,\n",
    "[\t0.415492958\t]\t,\n",
    "[\t0.647887324\t]\t,\n",
    "[\t0.612676056\t]\t,\n",
    "[\t1\t]\t,\n",
    "[\t0.478873239\t]\t,\n",
    "[\t0.302816901\t]\t,\n",
    "[\t0.38028169\t]\t,\n",
    "[\t0.591549296\t]\t,\n",
    "[\t0.802816901\t]\t,\n",
    "[\t0.471830986\t]\t,\n",
    "[\t0.267605634\t]\t,\n",
    "[\t0.408450704\t]\t,\n",
    "[\t0.323943662\t]\t,\n",
    "[\t0.457746479\t]\t,\n",
    "[\t0.816901408\t]\t,\n",
    "[\t0.753521127\t]\t,\n",
    "[\t0.436619718\t]\t,\n",
    "[\t0.457746479\t]\t,\n",
    "[\t0.387323944\t]\t,\n",
    "[\t0.464788732\t]\t,\n",
    "[\t0.732394366\t]\t,\n",
    "[\t0.514084507\t]\t,\n",
    "[\t0.281690141\t]\t,\n",
    "[\t0.190140845\t]\t,\n",
    "[\t0.514084507\t]\t,\n",
    "[\t0.507042254\t]\t,\n",
    "[\t0.753521127\t]\t,\n",
    "[\t0.542253521\t]\t,\n",
    "\n",
    ")\n",
    ", dtype=float)\n",
    "\n",
    "#Testing Data:\n",
    "testX = np.array(([\t0.507042254\t,\t0.753521127\t,\t0.542253521\t]\t,\n",
    "[\t0.753521127\t,\t0.542253521\t,\t0.26056338\t]\t,\n",
    "[\t0.542253521\t,\t0.26056338\t,\t0.394366197\t]\t,\n",
    "[\t0.26056338\t,\t0.394366197\t,\t0.626760563\t]\t,\n",
    "[\t0.394366197\t,\t0.626760563\t,\t0.795774648\t]\t,\n",
    "[\t0.626760563\t,\t0.795774648\t,\t0.704225352\t]\t,\n",
    "[\t0.795774648\t,\t0.704225352\t,\t0.535211268\t]\t,\n",
    "[\t0.704225352\t,\t0.535211268\t,\t0.401408451\t]\t,\n",
    "[\t0.535211268\t,\t0.401408451\t,\t0.126760563\t]\t,\n",
    "[\t0.401408451\t,\t0.126760563\t,\t0.330985915\t]\t,\n",
    "[\t0.126760563\t,\t0.330985915\t,\t0.415492958\t]\t,\n",
    "[\t0.330985915\t,\t0.415492958\t,\t0.556338028\t]\t,\n",
    "[\t0.415492958\t,\t0.556338028\t,\t0.591549296\t]\t,\n",
    "\n",
    "\n",
    ")\n",
    ", dtype=float)\n",
    "testY = np.array(([\t0.26056338\t]\t,\n",
    "[\t0.394366197\t]\t,\n",
    "[\t0.626760563\t]\t,\n",
    "[\t0.795774648\t]\t,\n",
    "[\t0.704225352\t]\t,\n",
    "[\t0.535211268\t]\t,\n",
    "[\t0.401408451\t]\t,\n",
    "[\t0.126760563\t]\t,\n",
    "[\t0.330985915\t]\t,\n",
    "[\t0.415492958\t]\t,\n",
    "[\t0.556338028\t]\t,\n",
    "[\t0.591549296\t]\t,\n",
    "[\t0.514084507\t]\t,\n",
    "\n",
    "\n",
    ")\n",
    ", dtype=float)\n",
    "\n",
    "\n",
    "dataprediksi = np.array(([\t0.556338028\t,\t0.591549296\t,\t0.514084507\t]\t,\n",
    "[\t0.591549296\t,\t0.514084507\t,\t0.387323944\t]\t,\n",
    "[\t0.514084507\t,\t0.387323944\t,\t0.373239437\t]\t,\n",
    "[\t0.387323944\t,\t0.373239437\t,\t0.366197183\t]\t,\n",
    "\n",
    "\n",
    "), dtype=float)"
   ]
  },
  {
   "cell_type": "code",
   "execution_count": 15,
   "metadata": {},
   "outputs": [
    {
     "data": {
      "text/plain": [
       "array([[0.50704225, 0.75352113, 0.54225352],\n",
       "       [0.75352113, 0.54225352, 0.26056338],\n",
       "       [0.54225352, 0.26056338, 0.3943662 ],\n",
       "       [0.26056338, 0.3943662 , 0.62676056],\n",
       "       [0.3943662 , 0.62676056, 0.79577465],\n",
       "       [0.62676056, 0.79577465, 0.70422535],\n",
       "       [0.79577465, 0.70422535, 0.53521127],\n",
       "       [0.70422535, 0.53521127, 0.40140845],\n",
       "       [0.53521127, 0.40140845, 0.12676056],\n",
       "       [0.40140845, 0.12676056, 0.33098592],\n",
       "       [0.12676056, 0.33098592, 0.41549296],\n",
       "       [0.33098592, 0.41549296, 0.55633803],\n",
       "       [0.41549296, 0.55633803, 0.5915493 ]])"
      ]
     },
     "execution_count": 15,
     "metadata": {},
     "output_type": "execute_result"
    }
   ],
   "source": [
    "testX"
   ]
  },
  {
   "cell_type": "code",
   "execution_count": 16,
   "metadata": {},
   "outputs": [],
   "source": [
    "##Need to modify trainer class a bit to check testing error during training:\n",
    "class trainer(object):\n",
    "    def __init__(self, N):\n",
    "        #Make Local reference to network:\n",
    "        self.N = N\n",
    "        \n",
    "    def callbackF(self, params):\n",
    "        self.N.setParams(params)\n",
    "        self.J.append(self.N.costFunction(self.X, self.y))\n",
    "        self.testJ.append(self.N.costFunction(self.testX, self.testY))\n",
    "        \n",
    "    def costFunctionWrapper(self, params, X, y):\n",
    "        self.N.setParams(params)\n",
    "        cost = self.N.costFunction(X, y)\n",
    "        grad = self.N.computeGradients(X,y)\n",
    "        \n",
    "        return cost, grad\n",
    "        \n",
    "    def train(self, trainX, trainY, testX, testY):\n",
    "        #Make an internal variable for the callback function:\n",
    "        self.X = trainX\n",
    "        self.y = trainY\n",
    "        \n",
    "        self.testX = testX\n",
    "        self.testY = testY\n",
    "\n",
    "        #Make empty list to store training costs:\n",
    "        self.J = []\n",
    "        self.testJ = []\n",
    "        \n",
    "        params0 = self.N.getParams()\n",
    "\n",
    "        options = {'maxiter': 100, 'disp' : True}\n",
    "        _res = optimize.minimize(self.costFunctionWrapper, params0, jac=True, method='BFGS', \\\n",
    "                                 args=(trainX, trainY), options=options, callback=self.callbackF)\n",
    "\n",
    "        self.N.setParams(_res.x)\n",
    "        self.optimizationResults = _res"
   ]
  },
  {
   "cell_type": "code",
   "execution_count": 17,
   "metadata": {},
   "outputs": [
    {
     "name": "stdout",
     "output_type": "stream",
     "text": [
      "Warning: Maximum number of iterations has been exceeded.\n",
      "         Current function value: 0.415699\n",
      "         Iterations: 100\n",
      "         Function evaluations: 106\n",
      "         Gradient evaluations: 106\n"
     ]
    }
   ],
   "source": [
    "#Train network with new data:\n",
    "NN = Neural_Network()\n",
    "\n",
    "T = trainer(NN)\n",
    "T.train(trainX, trainY, testX, testY)"
   ]
  },
  {
   "cell_type": "code",
   "execution_count": 18,
   "metadata": {},
   "outputs": [
    {
     "data": {
      "image/png": "[encoded data removed]",
      "text/plain": [
       "<Figure size 432x288 with 1 Axes>"
      ]
     },
     "metadata": {
      "needs_background": "light"
     },
     "output_type": "display_data"
    }
   ],
   "source": [
    "#Plot cost during training:\n",
    "plot.plot(T.J)\n",
    "plot.plot(T.testJ)\n",
    "plot.grid(1)\n",
    "plot.xlabel('Iterations')\n",
    "plot.ylabel('Cost')\n",
    "plot.legend(['Training', 'Testing'])\n",
    "plot.show()"
   ]
  },
  {
   "cell_type": "code",
   "execution_count": 19,
   "metadata": {},
   "outputs": [
    {
     "data": {
      "text/plain": [
       "[array([0.90370609]),\n",
       " array([0.7802614]),\n",
       " array([0.76732454]),\n",
       " array([0.7450538]),\n",
       " array([0.72386643]),\n",
       " array([0.72275896]),\n",
       " array([0.72072791]),\n",
       " array([0.71723031]),\n",
       " array([0.71274228]),\n",
       " array([0.71162255]),\n",
       " array([0.71104519]),\n",
       " array([0.71090033]),\n",
       " array([0.71083979]),\n",
       " array([0.7107356]),\n",
       " array([0.71055526]),\n",
       " array([0.71026034]),\n",
       " array([0.70988372]),\n",
       " array([0.70971875]),\n",
       " array([0.70954025]),\n",
       " array([0.70942044]),\n",
       " array([0.7092622]),\n",
       " array([0.70900693]),\n",
       " array([0.70862959]),\n",
       " array([0.70835257]),\n",
       " array([0.70827251]),\n",
       " array([0.70821508]),\n",
       " array([0.70818523]),\n",
       " array([0.70813262]),\n",
       " array([0.70803764]),\n",
       " array([0.7078628]),\n",
       " array([0.70753536]),\n",
       " array([0.70691103]),\n",
       " array([0.70575801]),\n",
       " array([0.70485186]),\n",
       " array([0.70397475]),\n",
       " array([0.70260693]),\n",
       " array([0.7009436]),\n",
       " array([0.70018282]),\n",
       " array([0.6999666]),\n",
       " array([0.69966697]),\n",
       " array([0.69934405]),\n",
       " array([0.69889855]),\n",
       " array([0.69566331]),\n",
       " array([0.69373789]),\n",
       " array([0.69009301]),\n",
       " array([0.68374579]),\n",
       " array([0.67447408]),\n",
       " array([0.66257632]),\n",
       " array([0.65748363]),\n",
       " array([0.6493877]),\n",
       " array([0.64008711]),\n",
       " array([0.63807065]),\n",
       " array([0.63579279]),\n",
       " array([0.63182519]),\n",
       " array([0.62512177]),\n",
       " array([0.61518663]),\n",
       " array([0.60628862]),\n",
       " array([0.59842933]),\n",
       " array([0.58865146]),\n",
       " array([0.57960279]),\n",
       " array([0.56758355]),\n",
       " array([0.54790127]),\n",
       " array([0.52140512]),\n",
       " array([0.50490892]),\n",
       " array([0.49753263]),\n",
       " array([0.4929022]),\n",
       " array([0.4897527]),\n",
       " array([0.48404586]),\n",
       " array([0.47438689]),\n",
       " array([0.46349372]),\n",
       " array([0.45111204]),\n",
       " array([0.43755502]),\n",
       " array([0.43545369]),\n",
       " array([0.43462084]),\n",
       " array([0.43435288]),\n",
       " array([0.43389831]),\n",
       " array([0.43314819]),\n",
       " array([0.43210925]),\n",
       " array([0.43146792]),\n",
       " array([0.43059402]),\n",
       " array([0.42953973]),\n",
       " array([0.42873013]),\n",
       " array([0.42829163]),\n",
       " array([0.42793722]),\n",
       " array([0.42736272]),\n",
       " array([0.42637482]),\n",
       " array([0.42480902]),\n",
       " array([0.42391659]),\n",
       " array([0.42352826]),\n",
       " array([0.42333567]),\n",
       " array([0.42303713]),\n",
       " array([0.42265879]),\n",
       " array([0.42212055]),\n",
       " array([0.42121236]),\n",
       " array([0.41975508]),\n",
       " array([0.41781048]),\n",
       " array([0.41657378]),\n",
       " array([0.41599185]),\n",
       " array([0.41586973]),\n",
       " array([0.41569896])]"
      ]
     },
     "execution_count": 19,
     "metadata": {},
     "output_type": "execute_result"
    }
   ],
   "source": [
    "T.J"
   ]
  },
  {
   "cell_type": "code",
   "execution_count": 20,
   "metadata": {},
   "outputs": [
    {
     "data": {
      "text/plain": [
       "[array([0.13824563]),\n",
       " array([0.14018515]),\n",
       " array([0.13507128]),\n",
       " array([0.12427913]),\n",
       " array([0.10538812]),\n",
       " array([0.10577338]),\n",
       " array([0.10682805]),\n",
       " array([0.10925758]),\n",
       " array([0.11529637]),\n",
       " array([0.11750328]),\n",
       " array([0.11836502]),\n",
       " array([0.11831501]),\n",
       " array([0.11810566]),\n",
       " array([0.11776609]),\n",
       " array([0.11726633]),\n",
       " array([0.1165326]),\n",
       " array([0.11552266]),\n",
       " array([0.11521332]),\n",
       " array([0.11528656]),\n",
       " array([0.11545587]),\n",
       " array([0.11574948]),\n",
       " array([0.11572817]),\n",
       " array([0.1154183]),\n",
       " array([0.11378097]),\n",
       " array([0.11370652]),\n",
       " array([0.11285539]),\n",
       " array([0.11296237]),\n",
       " array([0.11313103]),\n",
       " array([0.11331685]),\n",
       " array([0.11350062]),\n",
       " array([0.11364225]),\n",
       " array([0.11361579]),\n",
       " array([0.11299425]),\n",
       " array([0.11189105]),\n",
       " array([0.11007316]),\n",
       " array([0.11038875]),\n",
       " array([0.10802262]),\n",
       " array([0.10364468]),\n",
       " array([0.10062108]),\n",
       " array([0.10064575]),\n",
       " array([0.09968916]),\n",
       " array([0.0986327]),\n",
       " array([0.09794858]),\n",
       " array([0.09937006]),\n",
       " array([0.10113481]),\n",
       " array([0.10473427]),\n",
       " array([0.10922851]),\n",
       " array([0.11378142]),\n",
       " array([0.10976873]),\n",
       " array([0.108646]),\n",
       " array([0.11158649]),\n",
       " array([0.11115449]),\n",
       " array([0.11311327]),\n",
       " array([0.11766594]),\n",
       " array([0.12815232]),\n",
       " array([0.15281803]),\n",
       " array([0.1852398]),\n",
       " array([0.2061315]),\n",
       " array([0.22281305]),\n",
       " array([0.23312769]),\n",
       " array([0.2161285]),\n",
       " array([0.20272293]),\n",
       " array([0.17111157]),\n",
       " array([0.1654745]),\n",
       " array([0.1526877]),\n",
       " array([0.16065417]),\n",
       " array([0.1597525]),\n",
       " array([0.15629091]),\n",
       " array([0.15003083]),\n",
       " array([0.14469066]),\n",
       " array([0.15661608]),\n",
       " array([0.16397974]),\n",
       " array([0.16567072]),\n",
       " array([0.16809111]),\n",
       " array([0.16808477]),\n",
       " array([0.1678429]),\n",
       " array([0.16686905]),\n",
       " array([0.16436879]),\n",
       " array([0.16219559]),\n",
       " array([0.15912788]),\n",
       " array([0.15546765]),\n",
       " array([0.15298478]),\n",
       " array([0.15279243]),\n",
       " array([0.15328132]),\n",
       " array([0.1535766]),\n",
       " array([0.15323336]),\n",
       " array([0.15166705]),\n",
       " array([0.14925721]),\n",
       " array([0.14973937]),\n",
       " array([0.14918783]),\n",
       " array([0.14817563]),\n",
       " array([0.14749236]),\n",
       " array([0.14753856]),\n",
       " array([0.14850477]),\n",
       " array([0.15089239]),\n",
       " array([0.15587687]),\n",
       " array([0.15896949]),\n",
       " array([0.15917187]),\n",
       " array([0.15793574]),\n",
       " array([0.15673966])]"
      ]
     },
     "execution_count": 20,
     "metadata": {},
     "output_type": "execute_result"
    }
   ],
   "source": [
    "T.testJ"
   ]
  },
  {
   "cell_type": "code",
   "execution_count": 21,
   "metadata": {},
   "outputs": [
    {
     "data": {
      "text/plain": [
       "0.4595083041071449"
      ]
     },
     "execution_count": 21,
     "metadata": {},
     "output_type": "execute_result"
    }
   ],
   "source": [
    "from sklearn.metrics import mean_absolute_error\n",
    "mean_absolute_error(T.J, T.testJ)"
   ]
  },
  {
   "cell_type": "code",
   "execution_count": 22,
   "metadata": {},
   "outputs": [],
   "source": [
    "yHat = NN.forward(X)"
   ]
  },
  {
   "cell_type": "code",
   "execution_count": 23,
   "metadata": {},
   "outputs": [
    {
     "data": {
      "text/plain": [
       "array([[0.68348404],\n",
       "       [0.77993425],\n",
       "       [0.64889205],\n",
       "       [0.8411613 ],\n",
       "       [0.54811963],\n",
       "       [0.34991644],\n",
       "       [0.35706359],\n",
       "       [0.37401539],\n",
       "       [0.74834714],\n",
       "       [0.77431117],\n",
       "       [0.3365946 ],\n",
       "       [0.35679021],\n",
       "       [0.38294325],\n",
       "       [0.43092775],\n",
       "       [0.91080906],\n",
       "       [0.84461451],\n",
       "       [0.48126405],\n",
       "       [0.36099342],\n",
       "       [0.36424169],\n",
       "       [0.72692652],\n",
       "       [0.82510093],\n",
       "       [0.68918038],\n",
       "       [0.4295242 ],\n",
       "       [0.35764854],\n",
       "       [0.35692188],\n",
       "       [0.4107771 ],\n",
       "       [0.58957241],\n",
       "       [0.52731753],\n",
       "       [0.35590203],\n",
       "       [0.35993867],\n",
       "       [0.51284895],\n",
       "       [0.55939201],\n",
       "       [0.81204288],\n",
       "       [0.61516927],\n",
       "       [0.50298943],\n",
       "       [0.36175768],\n",
       "       [0.36566864],\n",
       "       [0.34958223],\n",
       "       [0.58236439],\n",
       "       [0.51633973],\n",
       "       [0.32174851],\n",
       "       [0.36295933],\n",
       "       [0.38111741],\n",
       "       [0.66464268],\n",
       "       [0.6431319 ],\n",
       "       [0.66945639],\n",
       "       [0.30757418],\n",
       "       [0.36154664],\n",
       "       [0.40755814],\n",
       "       [0.60738389],\n",
       "       [0.50827217],\n",
       "       [0.49736314],\n",
       "       [0.36358486],\n",
       "       [0.36727568],\n",
       "       [0.37432435],\n",
       "       [0.61967418],\n",
       "       [0.68724363],\n",
       "       [0.65939511],\n",
       "       [0.76355516]])"
      ]
     },
     "execution_count": 23,
     "metadata": {},
     "output_type": "execute_result"
    }
   ],
   "source": [
    "yHat"
   ]
  },
  {
   "cell_type": "code",
   "execution_count": 24,
   "metadata": {},
   "outputs": [
    {
     "data": {
      "text/plain": [
       "array([[0.57042253],\n",
       "       [0.66901409],\n",
       "       [0.6971831 ],\n",
       "       [0.97183099],\n",
       "       [0.5915493 ],\n",
       "       [0.28169014],\n",
       "       [0.26056338],\n",
       "       [0.46478873],\n",
       "       [0.99295775],\n",
       "       [0.67605634],\n",
       "       [0.25352113],\n",
       "       [0.45070423],\n",
       "       [0.        ],\n",
       "       [0.48591549],\n",
       "       [0.78169014],\n",
       "       [0.8028169 ],\n",
       "       [0.3028169 ],\n",
       "       [0.47183099],\n",
       "       [0.41549296],\n",
       "       [0.64788732],\n",
       "       [0.61267606],\n",
       "       [1.        ],\n",
       "       [0.47887324],\n",
       "       [0.3028169 ],\n",
       "       [0.38028169],\n",
       "       [0.5915493 ],\n",
       "       [0.8028169 ],\n",
       "       [0.47183099],\n",
       "       [0.26760563],\n",
       "       [0.4084507 ],\n",
       "       [0.32394366],\n",
       "       [0.45774648],\n",
       "       [0.81690141],\n",
       "       [0.75352113],\n",
       "       [0.43661972],\n",
       "       [0.45774648],\n",
       "       [0.38732394],\n",
       "       [0.46478873],\n",
       "       [0.73239437],\n",
       "       [0.51408451],\n",
       "       [0.28169014],\n",
       "       [0.19014085],\n",
       "       [0.51408451],\n",
       "       [0.50704225],\n",
       "       [0.75352113],\n",
       "       [0.54225352],\n",
       "       [0.26056338],\n",
       "       [0.3943662 ],\n",
       "       [0.62676056],\n",
       "       [0.79577465],\n",
       "       [0.70422535],\n",
       "       [0.53521127],\n",
       "       [0.40140845],\n",
       "       [0.12676056],\n",
       "       [0.33098592],\n",
       "       [0.41549296],\n",
       "       [0.55633803],\n",
       "       [0.5915493 ],\n",
       "       [0.51408451]])"
      ]
     },
     "execution_count": 24,
     "metadata": {},
     "output_type": "execute_result"
    }
   ],
   "source": [
    "y"
   ]
  },
  {
   "cell_type": "code",
   "execution_count": 25,
   "metadata": {},
   "outputs": [
    {
     "data": {
      "text/plain": [
       "0.019404699099884397"
      ]
     },
     "execution_count": 25,
     "metadata": {},
     "output_type": "execute_result"
    }
   ],
   "source": [
    "from sklearn.metrics import mean_squared_error \n",
    "mean_squared_error(y,yHat) "
   ]
  },
  {
   "cell_type": "code",
   "execution_count": 26,
   "metadata": {},
   "outputs": [
    {
     "data": {
      "image/png": "[encoded data removed]",
      "text/plain": [
       "<Figure size 432x288 with 1 Axes>"
      ]
     },
     "metadata": {
      "needs_background": "light"
     },
     "output_type": "display_data"
    }
   ],
   "source": [
    "#Plot cost during training:\n",
    "plot.plot(y)\n",
    "plot.plot(yHat)\n",
    "plot.grid(1)\n",
    "plot.legend(['y', 'yHat'])\n",
    "plot.show()"
   ]
  },
  {
   "cell_type": "code",
   "execution_count": 27,
   "metadata": {},
   "outputs": [],
   "source": [
    "#Regularization Parameter:\n",
    "Lambda = 0.0001"
   ]
  },
  {
   "cell_type": "code",
   "execution_count": 28,
   "metadata": {},
   "outputs": [],
   "source": [
    "#Need to make changes to costFunction and costFunctionPrim:\n",
    "def costFunction(self, X, y):\n",
    "    #Compute cost for given X,y, use weights already stored in class.\n",
    "    self.yHat = self.forward(X)\n",
    "    #We don't want cost to increase with the number of examples, so normalize by dividing the error term by number of examples(X.shape[0])\n",
    "    J = 0.5*sum((y-self.yHat)**2)/X.shape[0] + (self.Lambda/2)*(sum(self.W1**2)+sum(self.W2**2))\n",
    "    return J\n",
    "\n",
    "def costFunctionPrime(self, X, y):\n",
    "    #Compute derivative with respect to W and W2 for a given X and y:\n",
    "    self.yHat = self.forward(X)\n",
    "\n",
    "    delta3 = np.multiply(-(y-self.yHat), self.sigmoidPrime(self.z3))\n",
    "    #Add gradient of regularization term:\n",
    "    dJdW2 = np.dot(self.a2.T, delta3)/X.shape[0] + self.Lambda*self.W2\n",
    "\n",
    "    delta2 = np.dot(delta3, self.W2.T)*self.sigmoidPrime(self.z2)\n",
    "    #Add gradient of regularization term:\n",
    "    dJdW1 = np.dot(X.T, delta2)/X.shape[0] + self.Lambda*self.W1\n",
    "\n",
    "    return dJdW1, dJdW2"
   ]
  },
  {
   "cell_type": "code",
   "execution_count": 29,
   "metadata": {},
   "outputs": [],
   "source": [
    "#New complete class, with changes:\n",
    "class Neural_Network(object):\n",
    "    def __init__(self, Lambda=0.0001):        \n",
    "        #Define Hyperparameters\n",
    "        self.inputLayerSize = 3\n",
    "        self.outputLayerSize = 1\n",
    "        self.hiddenLayerSize = 4\n",
    "        \n",
    "        #Weights (parameters)\n",
    "        self.W1 = np.random.randn(self.inputLayerSize,self.hiddenLayerSize)\n",
    "        self.W2 = np.random.randn(self.hiddenLayerSize,self.outputLayerSize)\n",
    "        \n",
    "        #Regularization Parameter:\n",
    "        self.Lambda = Lambda\n",
    "        \n",
    "    def forward(self, X):\n",
    "        #Propogate inputs though network\n",
    "        self.z2 = np.dot(X, self.W1)\n",
    "        self.a2 = self.sigmoid(self.z2)\n",
    "        self.z3 = np.dot(self.a2, self.W2)\n",
    "        yHat = self.sigmoid(self.z3) \n",
    "        return yHat\n",
    "        \n",
    "    def sigmoid(self, z):\n",
    "        #Apply sigmoid activation function to scalar, vector, or matrix\n",
    "        return 1/(1+np.exp(-z))\n",
    "    \n",
    "    def sigmoidPrime(self,z):\n",
    "        #Gradient of sigmoid\n",
    "        return np.exp(-z)/((1+np.exp(-z))**2)\n",
    "    \n",
    "    def costFunction(self, X, y):\n",
    "        #Compute cost for given X,y, use weights already stored in class.\n",
    "        self.yHat = self.forward(X)\n",
    "        J = 0.5*sum((y-self.yHat)**2)/X.shape[0] + (self.Lambda/2)*(np.sum(self.W1**2)+np.sum(self.W2**2))\n",
    "        return J\n",
    "        \n",
    "    def costFunctionPrime(self, X, y):\n",
    "        #Compute derivative with respect to W and W2 for a given X and y:\n",
    "        self.yHat = self.forward(X)\n",
    "        \n",
    "        delta3 = np.multiply(-(y-self.yHat), self.sigmoidPrime(self.z3))\n",
    "        #Add gradient of regularization term:\n",
    "        dJdW2 = np.dot(self.a2.T, delta3)/X.shape[0] + self.Lambda*self.W2\n",
    "        \n",
    "        delta2 = np.dot(delta3, self.W2.T)*self.sigmoidPrime(self.z2)\n",
    "        #Add gradient of regularization term:\n",
    "        dJdW1 = np.dot(X.T, delta2)/X.shape[0] + self.Lambda*self.W1\n",
    "        \n",
    "        return dJdW1, dJdW2\n",
    "    \n",
    "    def predict(self):\n",
    "        prediksi = self.forward(dataprediksi)\n",
    "        return prediksi\n",
    "    \n",
    "    #Helper functions for interacting with other methods/classes\n",
    "    def getParams(self):\n",
    "        #Get W1 and W2 Rolled into vector:\n",
    "        params = np.concatenate((self.W1.ravel(), self.W2.ravel()))\n",
    "        return params\n",
    "    \n",
    "    def setParams(self, params):\n",
    "        #Set W1 and W2 using single parameter vector:\n",
    "        W1_start = 0\n",
    "        W1_end = self.hiddenLayerSize*self.inputLayerSize\n",
    "        self.W1 = np.reshape(params[W1_start:W1_end], \\\n",
    "                             (self.inputLayerSize, self.hiddenLayerSize))\n",
    "        W2_end = W1_end + self.hiddenLayerSize*self.outputLayerSize\n",
    "        self.W2 = np.reshape(params[W1_end:W2_end], \\\n",
    "                             (self.hiddenLayerSize, self.outputLayerSize))\n",
    "        \n",
    "    def computeGradients(self, X, y):\n",
    "        dJdW1, dJdW2 = self.costFunctionPrime(X, y)\n",
    "        return np.concatenate((dJdW1.ravel(), dJdW2.ravel()))"
   ]
  },
  {
   "cell_type": "code",
   "execution_count": 30,
   "metadata": {},
   "outputs": [],
   "source": [
    "def computeNumericalGradient(N, X, y):\n",
    "    paramsInitial = N.getParams()\n",
    "    numgrad = np.zeros(paramsInitial.shape)\n",
    "    perturb = np.zeros(paramsInitial.shape)\n",
    "    e = 1e-4\n",
    "\n",
    "    for p in range(len(paramsInitial)):\n",
    "        #Set perturbation vector\n",
    "        perturb[p] = e\n",
    "        N.setParams(paramsInitial + perturb)\n",
    "        loss2 = N.costFunction(X, y)\n",
    "            \n",
    "        N.setParams(paramsInitial - perturb)\n",
    "        loss1 = N.costFunction(X, y)\n",
    "\n",
    "        #Compute Numerical Gradient\n",
    "        numgrad[p] = (loss2 - loss1) / (2*e)\n",
    "\n",
    "            #Return the value we changed to zero:\n",
    "        perturb[p] = 0\n",
    "            \n",
    "    #Return Params to original value:\n",
    "    N.setParams(paramsInitial)\n",
    "\n",
    "    return numgrad "
   ]
  },
  {
   "cell_type": "code",
   "execution_count": 31,
   "metadata": {},
   "outputs": [],
   "source": [
    "NN = Neural_Network(Lambda=0.0001)"
   ]
  },
  {
   "cell_type": "code",
   "execution_count": 32,
   "metadata": {},
   "outputs": [],
   "source": [
    "#Make sure our gradients our correct after making changes:\n",
    "numgrad = computeNumericalGradient(NN, X, y)\n",
    "grad = NN.computeGradients(X,y)"
   ]
  },
  {
   "cell_type": "code",
   "execution_count": 33,
   "metadata": {},
   "outputs": [
    {
     "data": {
      "text/plain": [
       "1.1031203111594613e-09"
      ]
     },
     "execution_count": 33,
     "metadata": {},
     "output_type": "execute_result"
    }
   ],
   "source": [
    "#Should be less than 1e-8:\n",
    "np.linalg.norm(grad-numgrad)/np.linalg.norm(grad+numgrad)"
   ]
  },
  {
   "cell_type": "code",
   "execution_count": 34,
   "metadata": {},
   "outputs": [],
   "source": [
    "T = trainer(NN)"
   ]
  },
  {
   "cell_type": "code",
   "execution_count": 35,
   "metadata": {},
   "outputs": [
    {
     "name": "stdout",
     "output_type": "stream",
     "text": [
      "Optimization terminated successfully.\n",
      "         Current function value: 0.014900\n",
      "         Iterations: 92\n",
      "         Function evaluations: 95\n",
      "         Gradient evaluations: 95\n"
     ]
    }
   ],
   "source": [
    "T.train(X,y,testX,testY)"
   ]
  },
  {
   "cell_type": "code",
   "execution_count": 36,
   "metadata": {},
   "outputs": [
    {
     "data": {
      "image/png": "[encoded data removed]",
      "text/plain": [
       "<Figure size 432x288 with 1 Axes>"
      ]
     },
     "metadata": {
      "needs_background": "light"
     },
     "output_type": "display_data"
    }
   ],
   "source": [
    "plot.plot(T.J)\n",
    "plot.plot(T.testJ)\n",
    "plot.grid(1)\n",
    "plot.xlabel('Iterations')\n",
    "plot.ylabel('Cost')\n",
    "plot.legend(['Training', 'Testing'])\n",
    "plot.show()"
   ]
  },
  {
   "cell_type": "code",
   "execution_count": 37,
   "metadata": {},
   "outputs": [
    {
     "data": {
      "text/plain": [
       "[array([0.02794221]),\n",
       " array([0.02541523]),\n",
       " array([0.02534969]),\n",
       " array([0.02531862]),\n",
       " array([0.02506372]),\n",
       " array([0.02462968]),\n",
       " array([0.02387638]),\n",
       " array([0.02258986]),\n",
       " array([0.02056957]),\n",
       " array([0.01887734]),\n",
       " array([0.01860029]),\n",
       " array([0.01851482]),\n",
       " array([0.01846579]),\n",
       " array([0.01845317]),\n",
       " array([0.01843117]),\n",
       " array([0.01839124]),\n",
       " array([0.01831746]),\n",
       " array([0.01818065]),\n",
       " array([0.01792836]),\n",
       " array([0.01747176]),\n",
       " array([0.0166968]),\n",
       " array([0.01586487]),\n",
       " array([0.01578129]),\n",
       " array([0.01564151]),\n",
       " array([0.01552879]),\n",
       " array([0.01552029]),\n",
       " array([0.01551759]),\n",
       " array([0.01551643]),\n",
       " array([0.01551451]),\n",
       " array([0.01551111]),\n",
       " array([0.01550492]),\n",
       " array([0.01549356]),\n",
       " array([0.01547302]),\n",
       " array([0.01543726]),\n",
       " array([0.01538006]),\n",
       " array([0.01530773]),\n",
       " array([0.01525058]),\n",
       " array([0.01518147]),\n",
       " array([0.01514919]),\n",
       " array([0.0151439]),\n",
       " array([0.01514345]),\n",
       " array([0.0151432]),\n",
       " array([0.01514297]),\n",
       " array([0.01514259]),\n",
       " array([0.01514192]),\n",
       " array([0.01514066]),\n",
       " array([0.0151383]),\n",
       " array([0.01513393]),\n",
       " array([0.015126]),\n",
       " array([0.01511222]),\n",
       " array([0.01509029]),\n",
       " array([0.01506188]),\n",
       " array([0.01503155]),\n",
       " array([0.01498544]),\n",
       " array([0.01495838]),\n",
       " array([0.01495663]),\n",
       " array([0.01495609]),\n",
       " array([0.0149558]),\n",
       " array([0.01495572]),\n",
       " array([0.01495559]),\n",
       " array([0.01495537]),\n",
       " array([0.01495511]),\n",
       " array([0.01495473]),\n",
       " array([0.01495404]),\n",
       " array([0.01495278]),\n",
       " array([0.01495045]),\n",
       " array([0.01494625]),\n",
       " array([0.01493909]),\n",
       " array([0.01492879]),\n",
       " array([0.01492263]),\n",
       " array([0.01491868]),\n",
       " array([0.0149135]),\n",
       " array([0.01490937]),\n",
       " array([0.01490893]),\n",
       " array([0.01490889]),\n",
       " array([0.01490889]),\n",
       " array([0.01490888]),\n",
       " array([0.01490887]),\n",
       " array([0.01490885]),\n",
       " array([0.01490881]),\n",
       " array([0.01490874]),\n",
       " array([0.01490861]),\n",
       " array([0.01490837]),\n",
       " array([0.01490795]),\n",
       " array([0.01490726]),\n",
       " array([0.01490617]),\n",
       " array([0.01490468]),\n",
       " array([0.01490294]),\n",
       " array([0.01490106]),\n",
       " array([0.01490007]),\n",
       " array([0.01489987]),\n",
       " array([0.01489986])]"
      ]
     },
     "execution_count": 37,
     "metadata": {},
     "output_type": "execute_result"
    }
   ],
   "source": [
    "T.J"
   ]
  },
  {
   "cell_type": "code",
   "execution_count": 38,
   "metadata": {},
   "outputs": [
    {
     "data": {
      "text/plain": [
       "[array([0.02422731]),\n",
       " array([0.01880535]),\n",
       " array([0.01908489]),\n",
       " array([0.01913343]),\n",
       " array([0.01929788]),\n",
       " array([0.01934588]),\n",
       " array([0.01912378]),\n",
       " array([0.01837776]),\n",
       " array([0.01673524]),\n",
       " array([0.01483273]),\n",
       " array([0.01418917]),\n",
       " array([0.01383022]),\n",
       " array([0.01352254]),\n",
       " array([0.01346586]),\n",
       " array([0.01340984]),\n",
       " array([0.01333266]),\n",
       " array([0.01320983]),\n",
       " array([0.01300103]),\n",
       " array([0.01263441]),\n",
       " array([0.01198229]),\n",
       " array([0.01083795]),\n",
       " array([0.00916734]),\n",
       " array([0.00901541]),\n",
       " array([0.0088407]),\n",
       " array([0.00870452]),\n",
       " array([0.0086762]),\n",
       " array([0.00871571]),\n",
       " array([0.00874592]),\n",
       " array([0.00878341]),\n",
       " array([0.00882534]),\n",
       " array([0.00887557]),\n",
       " array([0.00894132]),\n",
       " array([0.00903321]),\n",
       " array([0.00916677]),\n",
       " array([0.00936085]),\n",
       " array([0.00957517]),\n",
       " array([0.00956364]),\n",
       " array([0.00936861]),\n",
       " array([0.0091349]),\n",
       " array([0.00906415]),\n",
       " array([0.00904592]),\n",
       " array([0.00906398]),\n",
       " array([0.00907951]),\n",
       " array([0.00909483]),\n",
       " array([0.00911032]),\n",
       " array([0.00912835]),\n",
       " array([0.00915177]),\n",
       " array([0.00918438]),\n",
       " array([0.00923181]),\n",
       " array([0.00930241]),\n",
       " array([0.00940688]),\n",
       " array([0.00952792]),\n",
       " array([0.00948979]),\n",
       " array([0.00930894]),\n",
       " array([0.00912869]),\n",
       " array([0.00903543]),\n",
       " array([0.00906832]),\n",
       " array([0.00906369]),\n",
       " array([0.00906405]),\n",
       " array([0.00906565]),\n",
       " array([0.00906905]),\n",
       " array([0.00907351]),\n",
       " array([0.00907671]),\n",
       " array([0.0090789]),\n",
       " array([0.00907999]),\n",
       " array([0.00907912]),\n",
       " array([0.00907404]),\n",
       " array([0.00905893]),\n",
       " array([0.00901589]),\n",
       " array([0.00895046]),\n",
       " array([0.00891988]),\n",
       " array([0.00886541]),\n",
       " array([0.00887922]),\n",
       " array([0.00888659]),\n",
       " array([0.0088849]),\n",
       " array([0.00888615]),\n",
       " array([0.00888751]),\n",
       " array([0.00888874]),\n",
       " array([0.00888998]),\n",
       " array([0.00889141]),\n",
       " array([0.00889324]),\n",
       " array([0.00889575]),\n",
       " array([0.00889929]),\n",
       " array([0.0089043]),\n",
       " array([0.0089111]),\n",
       " array([0.00891904]),\n",
       " array([0.00892299]),\n",
       " array([0.00891552]),\n",
       " array([0.00889549]),\n",
       " array([0.00887883]),\n",
       " array([0.00887707]),\n",
       " array([0.00888019])]"
      ]
     },
     "execution_count": 38,
     "metadata": {},
     "output_type": "execute_result"
    }
   ],
   "source": [
    "T.testJ"
   ]
  },
  {
   "cell_type": "code",
   "execution_count": 39,
   "metadata": {},
   "outputs": [
    {
     "data": {
      "text/plain": [
       "0.005845351301527093"
      ]
     },
     "execution_count": 39,
     "metadata": {},
     "output_type": "execute_result"
    }
   ],
   "source": [
    "from sklearn.metrics import mean_absolute_error\n",
    "mean_absolute_error(T.J, T.testJ)"
   ]
  },
  {
   "cell_type": "code",
   "execution_count": 40,
   "metadata": {},
   "outputs": [],
   "source": [
    "yHat=NN.forward(X)"
   ]
  },
  {
   "cell_type": "code",
   "execution_count": 41,
   "metadata": {},
   "outputs": [
    {
     "data": {
      "text/plain": [
       "array([[0.72200445],\n",
       "       [0.7122567 ],\n",
       "       [0.5656047 ],\n",
       "       [0.49633568],\n",
       "       [0.54049975],\n",
       "       [0.36700485],\n",
       "       [0.31093198],\n",
       "       [0.44451861],\n",
       "       [0.63676288],\n",
       "       [0.75234072],\n",
       "       [0.45676427],\n",
       "       [0.2971686 ],\n",
       "       [0.47434423],\n",
       "       [0.45463593],\n",
       "       [0.63775737],\n",
       "       [0.77372155],\n",
       "       [0.53844791],\n",
       "       [0.32331298],\n",
       "       [0.42593466],\n",
       "       [0.55967107],\n",
       "       [0.58201944],\n",
       "       [0.53624368],\n",
       "       [0.57995033],\n",
       "       [0.36187942],\n",
       "       [0.32038803],\n",
       "       [0.51712808],\n",
       "       [0.64133249],\n",
       "       [0.62920219],\n",
       "       [0.39835124],\n",
       "       [0.35478668],\n",
       "       [0.53760283],\n",
       "       [0.55900928],\n",
       "       [0.56647038],\n",
       "       [0.68632596],\n",
       "       [0.52487851],\n",
       "       [0.34203729],\n",
       "       [0.41259738],\n",
       "       [0.49971475],\n",
       "       [0.53300197],\n",
       "       [0.63342551],\n",
       "       [0.46576188],\n",
       "       [0.36768566],\n",
       "       [0.45183616],\n",
       "       [0.66912408],\n",
       "       [0.62698572],\n",
       "       [0.57774072],\n",
       "       [0.45405772],\n",
       "       [0.35495687],\n",
       "       [0.50650177],\n",
       "       [0.66601721],\n",
       "       [0.61253664],\n",
       "       [0.44883635],\n",
       "       [0.37201203],\n",
       "       [0.39638334],\n",
       "       [0.40649651],\n",
       "       [0.57514612],\n",
       "       [0.66574163],\n",
       "       [0.60958574],\n",
       "       [0.55156822]])"
      ]
     },
     "execution_count": 41,
     "metadata": {},
     "output_type": "execute_result"
    }
   ],
   "source": [
    "yHat"
   ]
  },
  {
   "cell_type": "code",
   "execution_count": 42,
   "metadata": {},
   "outputs": [
    {
     "data": {
      "text/plain": [
       "array([[0.57042253],\n",
       "       [0.66901409],\n",
       "       [0.6971831 ],\n",
       "       [0.97183099],\n",
       "       [0.5915493 ],\n",
       "       [0.28169014],\n",
       "       [0.26056338],\n",
       "       [0.46478873],\n",
       "       [0.99295775],\n",
       "       [0.67605634],\n",
       "       [0.25352113],\n",
       "       [0.45070423],\n",
       "       [0.        ],\n",
       "       [0.48591549],\n",
       "       [0.78169014],\n",
       "       [0.8028169 ],\n",
       "       [0.3028169 ],\n",
       "       [0.47183099],\n",
       "       [0.41549296],\n",
       "       [0.64788732],\n",
       "       [0.61267606],\n",
       "       [1.        ],\n",
       "       [0.47887324],\n",
       "       [0.3028169 ],\n",
       "       [0.38028169],\n",
       "       [0.5915493 ],\n",
       "       [0.8028169 ],\n",
       "       [0.47183099],\n",
       "       [0.26760563],\n",
       "       [0.4084507 ],\n",
       "       [0.32394366],\n",
       "       [0.45774648],\n",
       "       [0.81690141],\n",
       "       [0.75352113],\n",
       "       [0.43661972],\n",
       "       [0.45774648],\n",
       "       [0.38732394],\n",
       "       [0.46478873],\n",
       "       [0.73239437],\n",
       "       [0.51408451],\n",
       "       [0.28169014],\n",
       "       [0.19014085],\n",
       "       [0.51408451],\n",
       "       [0.50704225],\n",
       "       [0.75352113],\n",
       "       [0.54225352],\n",
       "       [0.26056338],\n",
       "       [0.3943662 ],\n",
       "       [0.62676056],\n",
       "       [0.79577465],\n",
       "       [0.70422535],\n",
       "       [0.53521127],\n",
       "       [0.40140845],\n",
       "       [0.12676056],\n",
       "       [0.33098592],\n",
       "       [0.41549296],\n",
       "       [0.55633803],\n",
       "       [0.5915493 ],\n",
       "       [0.51408451]])"
      ]
     },
     "execution_count": 42,
     "metadata": {},
     "output_type": "execute_result"
    }
   ],
   "source": [
    "y"
   ]
  },
  {
   "cell_type": "code",
   "execution_count": 43,
   "metadata": {},
   "outputs": [
    {
     "data": {
      "text/plain": [
       "0.027778620974096797"
      ]
     },
     "execution_count": 43,
     "metadata": {},
     "output_type": "execute_result"
    }
   ],
   "source": [
    "from sklearn.metrics import mean_squared_error \n",
    "mean_squared_error(y,yHat) "
   ]
  },
  {
   "cell_type": "code",
   "execution_count": 44,
   "metadata": {},
   "outputs": [
    {
     "data": {
      "image/png": "[encoded data removed]",
      "text/plain": [
       "<Figure size 432x288 with 1 Axes>"
      ]
     },
     "metadata": {
      "needs_background": "light"
     },
     "output_type": "display_data"
    }
   ],
   "source": [
    "#Plot cost during training:\n",
    "plot.plot(y)\n",
    "plot.plot(yHat)\n",
    "plot.grid(1)\n",
    "plot.legend(['y', 'yHat'])\n",
    "plot.show()"
   ]
  },
  {
   "cell_type": "code",
   "execution_count": 45,
   "metadata": {},
   "outputs": [],
   "source": [
    "prediksi=NN.forward(dataprediksi)"
   ]
  },
  {
   "cell_type": "code",
   "execution_count": 46,
   "metadata": {},
   "outputs": [
    {
     "data": {
      "text/plain": [
       "array([[0.46297059],\n",
       "       [0.43161685],\n",
       "       [0.48177998],\n",
       "       [0.53253854]])"
      ]
     },
     "execution_count": 46,
     "metadata": {},
     "output_type": "execute_result"
    }
   ],
   "source": [
    "prediksi"
   ]
  },
  {
   "cell_type": "code",
   "execution_count": 47,
   "metadata": {},
   "outputs": [],
   "source": [
    "from sklearn.metrics import mean_squared_error "
   ]
  },
  {
   "cell_type": "code",
   "execution_count": 48,
   "metadata": {},
   "outputs": [
    {
     "data": {
      "text/plain": [
       "0.007597191222433414"
      ]
     },
     "execution_count": 48,
     "metadata": {},
     "output_type": "execute_result"
    }
   ],
   "source": [
    "Y_true= ([\t0.387323944\t]\t,\n",
    "[\t0.373239437\t]\t,\n",
    "[\t0.366197183\t]\t,\n",
    "[\t0.443661972\t]\t,\n",
    ")\n",
    "\n",
    "\n",
    "Y_pred=prediksi\n",
    "mean_squared_error(Y_true,Y_pred) "
   ]
  },
  {
   "cell_type": "code",
   "execution_count": 49,
   "metadata": {},
   "outputs": [
    {
     "data": {
      "text/plain": [
       "array([[0.55633803, 0.5915493 , 0.51408451],\n",
       "       [0.5915493 , 0.51408451, 0.38732394],\n",
       "       [0.51408451, 0.38732394, 0.37323944],\n",
       "       [0.38732394, 0.37323944, 0.36619718]])"
      ]
     },
     "execution_count": 49,
     "metadata": {},
     "output_type": "execute_result"
    }
   ],
   "source": [
    "dataprediksi"
   ]
  },
  {
   "cell_type": "code",
   "execution_count": 50,
   "metadata": {},
   "outputs": [],
   "source": [
    "a=np.array([\t0.373239437\t,\t0.366197183\t,\t0.443661972\t])"
   ]
  },
  {
   "cell_type": "code",
   "execution_count": 51,
   "metadata": {},
   "outputs": [
    {
     "data": {
      "text/plain": [
       "array([0.56593723])"
      ]
     },
     "execution_count": 51,
     "metadata": {},
     "output_type": "execute_result"
    }
   ],
   "source": [
    "#prediksi 1\n",
    "prediksi=NN.forward(a)\n",
    "prediksi"
   ]
  },
  {
   "cell_type": "code",
   "execution_count": 52,
   "metadata": {},
   "outputs": [
    {
     "data": {
      "text/plain": [
       "array([0.59126928])"
      ]
     },
     "execution_count": 52,
     "metadata": {},
     "output_type": "execute_result"
    }
   ],
   "source": [
    "#prediksi 2\n",
    "c=prediksi\n",
    "b=a[1:]\n",
    "d=np.concatenate((b,c))\n",
    "prediksi=NN.forward(d)\n",
    "prediksi"
   ]
  },
  {
   "cell_type": "code",
   "execution_count": 53,
   "metadata": {},
   "outputs": [
    {
     "data": {
      "text/plain": [
       "array([0.53746742])"
      ]
     },
     "execution_count": 53,
     "metadata": {},
     "output_type": "execute_result"
    }
   ],
   "source": [
    "#prediksi 3\n",
    "c=prediksi\n",
    "b=d[1:]\n",
    "e=np.concatenate((b,c))\n",
    "prediksi=NN.forward(e)\n",
    "prediksi"
   ]
  },
  {
   "cell_type": "code",
   "execution_count": 54,
   "metadata": {},
   "outputs": [
    {
     "data": {
      "text/plain": [
       "array([0.46640718])"
      ]
     },
     "execution_count": 54,
     "metadata": {},
     "output_type": "execute_result"
    }
   ],
   "source": [
    "#prediksi 4\n",
    "c=prediksi\n",
    "b=e[1:]\n",
    "f=np.concatenate((b,c))\n",
    "prediksi=NN.forward(f)\n",
    "prediksi"
   ]
  },
  {
   "cell_type": "code",
   "execution_count": 55,
   "metadata": {},
   "outputs": [
    {
     "data": {
      "text/plain": [
       "array([0.44836675])"
      ]
     },
     "execution_count": 55,
     "metadata": {},
     "output_type": "execute_result"
    }
   ],
   "source": [
    "#prediksi 5\n",
    "c=prediksi\n",
    "b=f[1:]\n",
    "g=np.concatenate((b,c))\n",
    "prediksi=NN.forward(g)\n",
    "prediksi"
   ]
  },
  {
   "cell_type": "code",
   "execution_count": 56,
   "metadata": {},
   "outputs": [
    {
     "data": {
      "text/plain": [
       "array([0.47799248])"
      ]
     },
     "execution_count": 56,
     "metadata": {},
     "output_type": "execute_result"
    }
   ],
   "source": [
    "#prediksi 6\n",
    "c=prediksi\n",
    "b=g[1:]\n",
    "h=np.concatenate((b,c))\n",
    "prediksi=NN.forward(h)\n",
    "prediksi"
   ]
  },
  {
   "cell_type": "code",
   "execution_count": null,
   "metadata": {},
   "outputs": [],
   "source": []
  }
 ],
 "metadata": {
  "kernelspec": {
   "display_name": "Python 3",
   "language": "python",
   "name": "python3"
  },
  "language_info": {
   "codemirror_mode": {
    "name": "ipython",
    "version": 3
   },
   "file_extension": ".py",
   "mimetype": "text/x-python",
   "name": "python",
   "nbconvert_exporter": "python",
   "pygments_lexer": "ipython3",
   "version": "3.7.3"
  }
 },
 "nbformat": 4,
 "nbformat_minor": 2
}
