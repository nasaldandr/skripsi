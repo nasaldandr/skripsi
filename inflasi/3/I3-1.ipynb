{
 "cells": [
  {
   "cell_type": "code",
   "execution_count": 1,
   "metadata": {},
   "outputs": [],
   "source": [
    "import numpy as np"
   ]
  },
  {
   "cell_type": "code",
   "execution_count": 2,
   "metadata": {},
   "outputs": [],
   "source": [
    "#UNTUK NILAI IMPOR\n",
    "class Neural_Network(object):\n",
    "    def __init__(self):\n",
    "        #parameters\n",
    "        self.inputLayerSize = 3\n",
    "        self.outputLayerSize = 1\n",
    "        self.hiddenLayerSize = 1\n",
    "\n",
    "        #weights\n",
    "        self.W1 = np.random.randn(self.inputLayerSize,\\\n",
    "                                 self.hiddenLayerSize)  \n",
    "        self.W2 = np.random.randn(self.hiddenLayerSize,\\\n",
    "                                 self.outputLayerSize)  \n",
    "    \n",
    "    def printw(self):\n",
    "        return self.W1\n",
    "        \n",
    "    def weight(self, W1, W2):\n",
    "        #Make an internal variable for the weight:\n",
    "        self.W1 = W1\n",
    "        self.W2 = W2\n",
    "        \n",
    "    def forward(self, X):\n",
    "        #forward propagation through our network\n",
    "        self.z2 = np.dot(X,self.W1)  \n",
    "        self.a2 = self.tanh(self.z2)  # activation function\n",
    "        self.z3 = np.dot(self.a2, self.W2) \n",
    "        yHat = self.tanh(self.z3)  # final activation function\n",
    "        return yHat\n",
    "\n",
    "    def tanh(self, z):\n",
    "        # activation function\n",
    "        return (np.exp(z)-np.exp(-z))/(np.exp(z)+np.exp(-z))\n",
    "    \n",
    "    def tanhPrime(self,z): \n",
    "        #derivative of tanh\n",
    "        return 1-((np.exp(z)-np.exp(-z))/(np.exp(z)+np.exp(-z)))**2\n",
    "    \n",
    "    def costFunction(self,X,y):\n",
    "        self.yHat = self.forward(X)\n",
    "        J=0.5*sum((y-self.yHat)**2)\n",
    "        return J\n",
    "    \n",
    "    def costFunctionPrime(self,X,y):\n",
    "        self.yHat=self.forward(X)\n",
    "        \n",
    "        delta3=np.multiply(-(y-self.yHat),self.tanhPrime(self.z3))\n",
    "        dJdW2=np.dot(self.a2.T,delta3)\n",
    "        \n",
    "        delta2=np.dot(delta3,self.W2.T)*self.tanhPrime(self.z2)\n",
    "        dJdW1=np.dot(X.T,delta2)\n",
    "        return dJdW1,dJdW2\n",
    "    \n",
    "    def predict(self):\n",
    "        prediksi = self.forward(dataprediksi)\n",
    "        return prediksi\n",
    "    \n",
    "    def getParams(self):\n",
    "        params=np.concatenate((self.W1.ravel(),self.W2.ravel()))\n",
    "        return params\n",
    "    \n",
    "    def setParams(self,params):\n",
    "        W1_start=0\n",
    "        W1_end=self.hiddenLayerSize*self.inputLayerSize\n",
    "        self.W1=np.reshape(params[W1_start:W1_end],\\\n",
    "                          (self.inputLayerSize,self.hiddenLayerSize))\n",
    "        W2_end=W1_end+self.hiddenLayerSize*self.outputLayerSize\n",
    "        self.W2=np.reshape(params[W1_end:W2_end],\\\n",
    "                          (self.hiddenLayerSize,self.outputLayerSize))\n",
    "        \n",
    "    def computeGradients(self, X, y):\n",
    "        dJdW1, dJdW2 = self.costFunctionPrime(X, y)\n",
    "        return np.concatenate((dJdW1.ravel(), dJdW2.ravel()))"
   ]
  },
  {
   "cell_type": "code",
   "execution_count": 3,
   "metadata": {},
   "outputs": [],
   "source": [
    "NN = Neural_Network()"
   ]
  },
  {
   "cell_type": "code",
   "execution_count": 4,
   "metadata": {},
   "outputs": [
    {
     "data": {
      "text/plain": [
       "array([[-0.5976762 ],\n",
       "       [-0.33086656],\n",
       "       [ 0.5558567 ]])"
      ]
     },
     "execution_count": 4,
     "metadata": {},
     "output_type": "execute_result"
    }
   ],
   "source": [
    "NN.W1"
   ]
  },
  {
   "cell_type": "code",
   "execution_count": 5,
   "metadata": {},
   "outputs": [
    {
     "data": {
      "text/plain": [
       "array([[0.33295792]])"
      ]
     },
     "execution_count": 5,
     "metadata": {},
     "output_type": "execute_result"
    }
   ],
   "source": [
    "NN.W2"
   ]
  },
  {
   "cell_type": "code",
   "execution_count": 6,
   "metadata": {},
   "outputs": [],
   "source": [
    "#NILAI IMPOR\n",
    "X=np.array(([\t0.147887324\t,\t0.063380282\t,\t0.436619718\t]\t,\n",
    "[\t0.063380282\t,\t0.436619718\t,\t0.570422535\t]\t,\n",
    "[\t0.436619718\t,\t0.570422535\t,\t0.669014085\t]\t,\n",
    "[\t0.570422535\t,\t0.669014085\t,\t0.697183099\t]\t,\n",
    "[\t0.669014085\t,\t0.697183099\t,\t0.971830986\t]\t,\n",
    "[\t0.697183099\t,\t0.971830986\t,\t0.591549296\t]\t,\n",
    "[\t0.971830986\t,\t0.591549296\t,\t0.281690141\t]\t,\n",
    "[\t0.591549296\t,\t0.281690141\t,\t0.26056338\t]\t,\n",
    "[\t0.281690141\t,\t0.26056338\t,\t0.464788732\t]\t,\n",
    "[\t0.26056338\t,\t0.464788732\t,\t0.992957746\t]\t,\n",
    "[\t0.464788732\t,\t0.992957746\t,\t0.676056338\t]\t,\n",
    "[\t0.992957746\t,\t0.676056338\t,\t0.253521127\t]\t,\n",
    "[\t0.676056338\t,\t0.253521127\t,\t0.450704225\t]\t,\n",
    "[\t0.253521127\t,\t0.450704225\t,\t0\t]\t,\n",
    "[\t0.450704225\t,\t0\t,\t0.485915493\t]\t,\n",
    "[\t0\t,\t0.485915493\t,\t0.781690141\t]\t,\n",
    "[\t0.485915493\t,\t0.781690141\t,\t0.802816901\t]\t,\n",
    "[\t0.781690141\t,\t0.802816901\t,\t0.302816901\t]\t,\n",
    "[\t0.802816901\t,\t0.302816901\t,\t0.471830986\t]\t,\n",
    "[\t0.302816901\t,\t0.471830986\t,\t0.415492958\t]\t,\n",
    "[\t0.471830986\t,\t0.415492958\t,\t0.647887324\t]\t,\n",
    "[\t0.415492958\t,\t0.647887324\t,\t0.612676056\t]\t,\n",
    "[\t0.647887324\t,\t0.612676056\t,\t1\t]\t,\n",
    "[\t0.612676056\t,\t1\t,\t0.478873239\t]\t,\n",
    "[\t1\t,\t0.478873239\t,\t0.302816901\t]\t,\n",
    "[\t0.478873239\t,\t0.302816901\t,\t0.38028169\t]\t,\n",
    "[\t0.302816901\t,\t0.38028169\t,\t0.591549296\t]\t,\n",
    "[\t0.38028169\t,\t0.591549296\t,\t0.802816901\t]\t,\n",
    "[\t0.591549296\t,\t0.802816901\t,\t0.471830986\t]\t,\n",
    "[\t0.802816901\t,\t0.471830986\t,\t0.267605634\t]\t,\n",
    "[\t0.471830986\t,\t0.267605634\t,\t0.408450704\t]\t,\n",
    "[\t0.267605634\t,\t0.408450704\t,\t0.323943662\t]\t,\n",
    "[\t0.408450704\t,\t0.323943662\t,\t0.457746479\t]\t,\n",
    "[\t0.323943662\t,\t0.457746479\t,\t0.816901408\t]\t,\n",
    "[\t0.457746479\t,\t0.816901408\t,\t0.753521127\t]\t,\n",
    "[\t0.816901408\t,\t0.753521127\t,\t0.436619718\t]\t,\n",
    "[\t0.753521127\t,\t0.436619718\t,\t0.457746479\t]\t,\n",
    "[\t0.436619718\t,\t0.457746479\t,\t0.387323944\t]\t,\n",
    "[\t0.457746479\t,\t0.387323944\t,\t0.464788732\t]\t,\n",
    "[\t0.387323944\t,\t0.464788732\t,\t0.732394366\t]\t,\n",
    "[\t0.464788732\t,\t0.732394366\t,\t0.514084507\t]\t,\n",
    "[\t0.732394366\t,\t0.514084507\t,\t0.281690141\t]\t,\n",
    "[\t0.514084507\t,\t0.281690141\t,\t0.190140845\t]\t,\n",
    "[\t0.281690141\t,\t0.190140845\t,\t0.514084507\t]\t,\n",
    "[\t0.190140845\t,\t0.514084507\t,\t0.507042254\t]\t,\n",
    "[\t0.514084507\t,\t0.507042254\t,\t0.753521127\t]\t,\n",
    "[\t0.507042254\t,\t0.753521127\t,\t0.542253521\t]\t,\n",
    "[\t0.753521127\t,\t0.542253521\t,\t0.26056338\t]\t,\n",
    "[\t0.542253521\t,\t0.26056338\t,\t0.394366197\t]\t,\n",
    "[\t0.26056338\t,\t0.394366197\t,\t0.626760563\t]\t,\n",
    "[\t0.394366197\t,\t0.626760563\t,\t0.795774648\t]\t,\n",
    "[\t0.626760563\t,\t0.795774648\t,\t0.704225352\t]\t,\n",
    "[\t0.795774648\t,\t0.704225352\t,\t0.535211268\t]\t,\n",
    "[\t0.704225352\t,\t0.535211268\t,\t0.401408451\t]\t,\n",
    "[\t0.535211268\t,\t0.401408451\t,\t0.126760563\t]\t,\n",
    "[\t0.401408451\t,\t0.126760563\t,\t0.330985915\t]\t,\n",
    "[\t0.126760563\t,\t0.330985915\t,\t0.415492958\t]\t,\n",
    "[\t0.330985915\t,\t0.415492958\t,\t0.556338028\t]\t,\n",
    "[\t0.415492958\t,\t0.556338028\t,\t0.591549296\t]\t,\n",
    "\n",
    "\n",
    ")           \n",
    ",dtype=float)\n",
    "y=np.array(([\t0.570422535\t]\t,\n",
    "[\t0.669014085\t]\t,\n",
    "[\t0.697183099\t]\t,\n",
    "[\t0.971830986\t]\t,\n",
    "[\t0.591549296\t]\t,\n",
    "[\t0.281690141\t]\t,\n",
    "[\t0.26056338\t]\t,\n",
    "[\t0.464788732\t]\t,\n",
    "[\t0.992957746\t]\t,\n",
    "[\t0.676056338\t]\t,\n",
    "[\t0.253521127\t]\t,\n",
    "[\t0.450704225\t]\t,\n",
    "[\t0\t]\t,\n",
    "[\t0.485915493\t]\t,\n",
    "[\t0.781690141\t]\t,\n",
    "[\t0.802816901\t]\t,\n",
    "[\t0.302816901\t]\t,\n",
    "[\t0.471830986\t]\t,\n",
    "[\t0.415492958\t]\t,\n",
    "[\t0.647887324\t]\t,\n",
    "[\t0.612676056\t]\t,\n",
    "[\t1\t]\t,\n",
    "[\t0.478873239\t]\t,\n",
    "[\t0.302816901\t]\t,\n",
    "[\t0.38028169\t]\t,\n",
    "[\t0.591549296\t]\t,\n",
    "[\t0.802816901\t]\t,\n",
    "[\t0.471830986\t]\t,\n",
    "[\t0.267605634\t]\t,\n",
    "[\t0.408450704\t]\t,\n",
    "[\t0.323943662\t]\t,\n",
    "[\t0.457746479\t]\t,\n",
    "[\t0.816901408\t]\t,\n",
    "[\t0.753521127\t]\t,\n",
    "[\t0.436619718\t]\t,\n",
    "[\t0.457746479\t]\t,\n",
    "[\t0.387323944\t]\t,\n",
    "[\t0.464788732\t]\t,\n",
    "[\t0.732394366\t]\t,\n",
    "[\t0.514084507\t]\t,\n",
    "[\t0.281690141\t]\t,\n",
    "[\t0.190140845\t]\t,\n",
    "[\t0.514084507\t]\t,\n",
    "[\t0.507042254\t]\t,\n",
    "[\t0.753521127\t]\t,\n",
    "[\t0.542253521\t]\t,\n",
    "[\t0.26056338\t]\t,\n",
    "[\t0.394366197\t]\t,\n",
    "[\t0.626760563\t]\t,\n",
    "[\t0.795774648\t]\t,\n",
    "[\t0.704225352\t]\t,\n",
    "[\t0.535211268\t]\t,\n",
    "[\t0.401408451\t]\t,\n",
    "[\t0.126760563\t]\t,\n",
    "[\t0.330985915\t]\t,\n",
    "[\t0.415492958\t]\t,\n",
    "[\t0.556338028\t]\t,\n",
    "[\t0.591549296\t]\t,\n",
    "[\t0.514084507\t]\t,\n",
    "\n",
    ")\n",
    ",dtype=float)\n",
    "\n",
    "dataprediksi = np.array(([\t0.556338028\t,\t0.591549296\t,\t0.514084507\t]\t,\n",
    "[\t0.591549296\t,\t0.514084507\t,\t0.387323944\t]\t,\n",
    "[\t0.514084507\t,\t0.387323944\t,\t0.373239437\t]\t,\n",
    "[\t0.387323944\t,\t0.373239437\t,\t0.366197183\t]\t,\n",
    "\n",
    "\n",
    "), dtype=float)\n"
   ]
  },
  {
   "cell_type": "code",
   "execution_count": 7,
   "metadata": {},
   "outputs": [],
   "source": [
    "import matplotlib.pyplot as plot"
   ]
  },
  {
   "cell_type": "code",
   "execution_count": 8,
   "metadata": {},
   "outputs": [],
   "source": [
    "from scipy import optimize"
   ]
  },
  {
   "cell_type": "code",
   "execution_count": 9,
   "metadata": {},
   "outputs": [],
   "source": [
    "class trainer(object):\n",
    "    def __init__(self, N):\n",
    "        #Make Local reference to network:\n",
    "        self.N = N\n",
    "        \n",
    "    def callbackF(self, params):\n",
    "        self.N.setParams(params)\n",
    "        self.J.append(self.N.costFunction(self.X, self.y))   \n",
    "        \n",
    "    def costFunctionWrapper(self, params, X, y):\n",
    "        self.N.setParams(params)\n",
    "        cost = self.N.costFunction(X, y)\n",
    "        grad = self.N.computeGradients(X,y)\n",
    "        \n",
    "        return cost, grad\n",
    "        \n",
    "    def train(self, X, y):\n",
    "        #Make an internal variable for the callback function:\n",
    "        self.X = X\n",
    "        self.y = y\n",
    "\n",
    "        #Make empty list to store costs:\n",
    "        self.J = []\n",
    "        \n",
    "        params0 = self.N.getParams()\n",
    "\n",
    "        options = {'maxiter': 100, 'disp' : True}\n",
    "        _res = optimize.minimize(self.costFunctionWrapper, params0, jac=True, method='BFGS', \\\n",
    "                                 args=(X, y), options=options, callback=self.callbackF)\n",
    "\n",
    "        self.N.setParams(_res.x)\n",
    "        self.optimizationResults = _res"
   ]
  },
  {
   "cell_type": "code",
   "execution_count": 10,
   "metadata": {},
   "outputs": [],
   "source": [
    "NN=Neural_Network()"
   ]
  },
  {
   "cell_type": "code",
   "execution_count": 11,
   "metadata": {},
   "outputs": [],
   "source": [
    "T = trainer(NN)"
   ]
  },
  {
   "cell_type": "code",
   "execution_count": 12,
   "metadata": {},
   "outputs": [
    {
     "name": "stdout",
     "output_type": "stream",
     "text": [
      "Optimization terminated successfully.\n",
      "         Current function value: 1.202548\n",
      "         Iterations: 40\n",
      "         Function evaluations: 50\n",
      "         Gradient evaluations: 50\n"
     ]
    }
   ],
   "source": [
    "#Train network with new data:\n",
    "T = trainer(NN)\n",
    "T.train(X,y)"
   ]
  },
  {
   "cell_type": "code",
   "execution_count": 13,
   "metadata": {},
   "outputs": [
    {
     "data": {
      "image/png": "[encoded data removed]",
      "text/plain": [
       "<Figure size 432x288 with 1 Axes>"
      ]
     },
     "metadata": {
      "needs_background": "light"
     },
     "output_type": "display_data"
    }
   ],
   "source": [
    "#Plot cost during training:\n",
    "plot.plot(T.J)\n",
    "plot.grid(1)\n",
    "plot.xlabel('Iterations')\n",
    "plot.ylabel('Cost')\n",
    "plot.show()"
   ]
  },
  {
   "cell_type": "code",
   "execution_count": 14,
   "metadata": {},
   "outputs": [],
   "source": [
    "#Training Data:\n",
    "trainX = np.array(([\t0.147887324\t,\t0.063380282\t,\t0.436619718\t]\t,\n",
    "[\t0.063380282\t,\t0.436619718\t,\t0.570422535\t]\t,\n",
    "[\t0.436619718\t,\t0.570422535\t,\t0.669014085\t]\t,\n",
    "[\t0.570422535\t,\t0.669014085\t,\t0.697183099\t]\t,\n",
    "[\t0.669014085\t,\t0.697183099\t,\t0.971830986\t]\t,\n",
    "[\t0.697183099\t,\t0.971830986\t,\t0.591549296\t]\t,\n",
    "[\t0.971830986\t,\t0.591549296\t,\t0.281690141\t]\t,\n",
    "[\t0.591549296\t,\t0.281690141\t,\t0.26056338\t]\t,\n",
    "[\t0.281690141\t,\t0.26056338\t,\t0.464788732\t]\t,\n",
    "[\t0.26056338\t,\t0.464788732\t,\t0.992957746\t]\t,\n",
    "[\t0.464788732\t,\t0.992957746\t,\t0.676056338\t]\t,\n",
    "[\t0.992957746\t,\t0.676056338\t,\t0.253521127\t]\t,\n",
    "[\t0.676056338\t,\t0.253521127\t,\t0.450704225\t]\t,\n",
    "[\t0.253521127\t,\t0.450704225\t,\t0\t]\t,\n",
    "[\t0.450704225\t,\t0\t,\t0.485915493\t]\t,\n",
    "[\t0\t,\t0.485915493\t,\t0.781690141\t]\t,\n",
    "[\t0.485915493\t,\t0.781690141\t,\t0.802816901\t]\t,\n",
    "[\t0.781690141\t,\t0.802816901\t,\t0.302816901\t]\t,\n",
    "[\t0.802816901\t,\t0.302816901\t,\t0.471830986\t]\t,\n",
    "[\t0.302816901\t,\t0.471830986\t,\t0.415492958\t]\t,\n",
    "[\t0.471830986\t,\t0.415492958\t,\t0.647887324\t]\t,\n",
    "[\t0.415492958\t,\t0.647887324\t,\t0.612676056\t]\t,\n",
    "[\t0.647887324\t,\t0.612676056\t,\t1\t]\t,\n",
    "[\t0.612676056\t,\t1\t,\t0.478873239\t]\t,\n",
    "[\t1\t,\t0.478873239\t,\t0.302816901\t]\t,\n",
    "[\t0.478873239\t,\t0.302816901\t,\t0.38028169\t]\t,\n",
    "[\t0.302816901\t,\t0.38028169\t,\t0.591549296\t]\t,\n",
    "[\t0.38028169\t,\t0.591549296\t,\t0.802816901\t]\t,\n",
    "[\t0.591549296\t,\t0.802816901\t,\t0.471830986\t]\t,\n",
    "[\t0.802816901\t,\t0.471830986\t,\t0.267605634\t]\t,\n",
    "[\t0.471830986\t,\t0.267605634\t,\t0.408450704\t]\t,\n",
    "[\t0.267605634\t,\t0.408450704\t,\t0.323943662\t]\t,\n",
    "[\t0.408450704\t,\t0.323943662\t,\t0.457746479\t]\t,\n",
    "[\t0.323943662\t,\t0.457746479\t,\t0.816901408\t]\t,\n",
    "[\t0.457746479\t,\t0.816901408\t,\t0.753521127\t]\t,\n",
    "[\t0.816901408\t,\t0.753521127\t,\t0.436619718\t]\t,\n",
    "[\t0.753521127\t,\t0.436619718\t,\t0.457746479\t]\t,\n",
    "[\t0.436619718\t,\t0.457746479\t,\t0.387323944\t]\t,\n",
    "[\t0.457746479\t,\t0.387323944\t,\t0.464788732\t]\t,\n",
    "[\t0.387323944\t,\t0.464788732\t,\t0.732394366\t]\t,\n",
    "[\t0.464788732\t,\t0.732394366\t,\t0.514084507\t]\t,\n",
    "[\t0.732394366\t,\t0.514084507\t,\t0.281690141\t]\t,\n",
    "[\t0.514084507\t,\t0.281690141\t,\t0.190140845\t]\t,\n",
    "[\t0.281690141\t,\t0.190140845\t,\t0.514084507\t]\t,\n",
    "[\t0.190140845\t,\t0.514084507\t,\t0.507042254\t]\t,\n",
    "[\t0.514084507\t,\t0.507042254\t,\t0.753521127\t]\t,\n",
    "\n",
    ")\n",
    ", dtype=float)\n",
    "trainY = np.array(([\t0.570422535\t]\t,\n",
    "[\t0.669014085\t]\t,\n",
    "[\t0.697183099\t]\t,\n",
    "[\t0.971830986\t]\t,\n",
    "[\t0.591549296\t]\t,\n",
    "[\t0.281690141\t]\t,\n",
    "[\t0.26056338\t]\t,\n",
    "[\t0.464788732\t]\t,\n",
    "[\t0.992957746\t]\t,\n",
    "[\t0.676056338\t]\t,\n",
    "[\t0.253521127\t]\t,\n",
    "[\t0.450704225\t]\t,\n",
    "[\t0\t]\t,\n",
    "[\t0.485915493\t]\t,\n",
    "[\t0.781690141\t]\t,\n",
    "[\t0.802816901\t]\t,\n",
    "[\t0.302816901\t]\t,\n",
    "[\t0.471830986\t]\t,\n",
    "[\t0.415492958\t]\t,\n",
    "[\t0.647887324\t]\t,\n",
    "[\t0.612676056\t]\t,\n",
    "[\t1\t]\t,\n",
    "[\t0.478873239\t]\t,\n",
    "[\t0.302816901\t]\t,\n",
    "[\t0.38028169\t]\t,\n",
    "[\t0.591549296\t]\t,\n",
    "[\t0.802816901\t]\t,\n",
    "[\t0.471830986\t]\t,\n",
    "[\t0.267605634\t]\t,\n",
    "[\t0.408450704\t]\t,\n",
    "[\t0.323943662\t]\t,\n",
    "[\t0.457746479\t]\t,\n",
    "[\t0.816901408\t]\t,\n",
    "[\t0.753521127\t]\t,\n",
    "[\t0.436619718\t]\t,\n",
    "[\t0.457746479\t]\t,\n",
    "[\t0.387323944\t]\t,\n",
    "[\t0.464788732\t]\t,\n",
    "[\t0.732394366\t]\t,\n",
    "[\t0.514084507\t]\t,\n",
    "[\t0.281690141\t]\t,\n",
    "[\t0.190140845\t]\t,\n",
    "[\t0.514084507\t]\t,\n",
    "[\t0.507042254\t]\t,\n",
    "[\t0.753521127\t]\t,\n",
    "[\t0.542253521\t]\t,\n",
    "\n",
    ")\n",
    ", dtype=float)\n",
    "\n",
    "#Testing Data:\n",
    "testX = np.array(([\t0.507042254\t,\t0.753521127\t,\t0.542253521\t]\t,\n",
    "[\t0.753521127\t,\t0.542253521\t,\t0.26056338\t]\t,\n",
    "[\t0.542253521\t,\t0.26056338\t,\t0.394366197\t]\t,\n",
    "[\t0.26056338\t,\t0.394366197\t,\t0.626760563\t]\t,\n",
    "[\t0.394366197\t,\t0.626760563\t,\t0.795774648\t]\t,\n",
    "[\t0.626760563\t,\t0.795774648\t,\t0.704225352\t]\t,\n",
    "[\t0.795774648\t,\t0.704225352\t,\t0.535211268\t]\t,\n",
    "[\t0.704225352\t,\t0.535211268\t,\t0.401408451\t]\t,\n",
    "[\t0.535211268\t,\t0.401408451\t,\t0.126760563\t]\t,\n",
    "[\t0.401408451\t,\t0.126760563\t,\t0.330985915\t]\t,\n",
    "[\t0.126760563\t,\t0.330985915\t,\t0.415492958\t]\t,\n",
    "[\t0.330985915\t,\t0.415492958\t,\t0.556338028\t]\t,\n",
    "[\t0.415492958\t,\t0.556338028\t,\t0.591549296\t]\t,\n",
    "\n",
    "\n",
    ")\n",
    ", dtype=float)\n",
    "testY = np.array(([\t0.26056338\t]\t,\n",
    "[\t0.394366197\t]\t,\n",
    "[\t0.626760563\t]\t,\n",
    "[\t0.795774648\t]\t,\n",
    "[\t0.704225352\t]\t,\n",
    "[\t0.535211268\t]\t,\n",
    "[\t0.401408451\t]\t,\n",
    "[\t0.126760563\t]\t,\n",
    "[\t0.330985915\t]\t,\n",
    "[\t0.415492958\t]\t,\n",
    "[\t0.556338028\t]\t,\n",
    "[\t0.591549296\t]\t,\n",
    "[\t0.514084507\t]\t,\n",
    "\n",
    "\n",
    ")\n",
    ", dtype=float)\n",
    "\n",
    "\n",
    "dataprediksi = np.array(([\t0.556338028\t,\t0.591549296\t,\t0.514084507\t]\t,\n",
    "[\t0.591549296\t,\t0.514084507\t,\t0.387323944\t]\t,\n",
    "[\t0.514084507\t,\t0.387323944\t,\t0.373239437\t]\t,\n",
    "[\t0.387323944\t,\t0.373239437\t,\t0.366197183\t]\t,\n",
    "\n",
    "\n",
    "), dtype=float)"
   ]
  },
  {
   "cell_type": "code",
   "execution_count": 15,
   "metadata": {},
   "outputs": [
    {
     "data": {
      "text/plain": [
       "array([[0.50704225, 0.75352113, 0.54225352],\n",
       "       [0.75352113, 0.54225352, 0.26056338],\n",
       "       [0.54225352, 0.26056338, 0.3943662 ],\n",
       "       [0.26056338, 0.3943662 , 0.62676056],\n",
       "       [0.3943662 , 0.62676056, 0.79577465],\n",
       "       [0.62676056, 0.79577465, 0.70422535],\n",
       "       [0.79577465, 0.70422535, 0.53521127],\n",
       "       [0.70422535, 0.53521127, 0.40140845],\n",
       "       [0.53521127, 0.40140845, 0.12676056],\n",
       "       [0.40140845, 0.12676056, 0.33098592],\n",
       "       [0.12676056, 0.33098592, 0.41549296],\n",
       "       [0.33098592, 0.41549296, 0.55633803],\n",
       "       [0.41549296, 0.55633803, 0.5915493 ]])"
      ]
     },
     "execution_count": 15,
     "metadata": {},
     "output_type": "execute_result"
    }
   ],
   "source": [
    "testX"
   ]
  },
  {
   "cell_type": "code",
   "execution_count": 16,
   "metadata": {},
   "outputs": [],
   "source": [
    "##Need to modify trainer class a bit to check testing error during training:\n",
    "class trainer(object):\n",
    "    def __init__(self, N):\n",
    "        #Make Local reference to network:\n",
    "        self.N = N\n",
    "        \n",
    "    def callbackF(self, params):\n",
    "        self.N.setParams(params)\n",
    "        self.J.append(self.N.costFunction(self.X, self.y))\n",
    "        self.testJ.append(self.N.costFunction(self.testX, self.testY))\n",
    "        \n",
    "    def costFunctionWrapper(self, params, X, y):\n",
    "        self.N.setParams(params)\n",
    "        cost = self.N.costFunction(X, y)\n",
    "        grad = self.N.computeGradients(X,y)\n",
    "        \n",
    "        return cost, grad\n",
    "        \n",
    "    def train(self, trainX, trainY, testX, testY):\n",
    "        #Make an internal variable for the callback function:\n",
    "        self.X = trainX\n",
    "        self.y = trainY\n",
    "        \n",
    "        self.testX = testX\n",
    "        self.testY = testY\n",
    "\n",
    "        #Make empty list to store training costs:\n",
    "        self.J = []\n",
    "        self.testJ = []\n",
    "        \n",
    "        params0 = self.N.getParams()\n",
    "\n",
    "        options = {'maxiter': 100, 'disp' : True}\n",
    "        _res = optimize.minimize(self.costFunctionWrapper, params0, jac=True, method='BFGS', \\\n",
    "                                 args=(trainX, trainY), options=options, callback=self.callbackF)\n",
    "\n",
    "        self.N.setParams(_res.x)\n",
    "        self.optimizationResults = _res"
   ]
  },
  {
   "cell_type": "code",
   "execution_count": 17,
   "metadata": {},
   "outputs": [
    {
     "name": "stdout",
     "output_type": "stream",
     "text": [
      "Optimization terminated successfully.\n",
      "         Current function value: 1.011058\n",
      "         Iterations: 33\n",
      "         Function evaluations: 38\n",
      "         Gradient evaluations: 38\n"
     ]
    }
   ],
   "source": [
    "#Train network with new data:\n",
    "NN = Neural_Network()\n",
    "\n",
    "T = trainer(NN)\n",
    "T.train(trainX, trainY, testX, testY)"
   ]
  },
  {
   "cell_type": "code",
   "execution_count": 18,
   "metadata": {},
   "outputs": [
    {
     "data": {
      "image/png": "[encoded data removed]",
      "text/plain": [
       "<Figure size 432x288 with 1 Axes>"
      ]
     },
     "metadata": {
      "needs_background": "light"
     },
     "output_type": "display_data"
    }
   ],
   "source": [
    "#Plot cost during training:\n",
    "plot.plot(T.J)\n",
    "plot.plot(T.testJ)\n",
    "plot.grid(1)\n",
    "plot.xlabel('Iterations')\n",
    "plot.ylabel('Cost')\n",
    "plot.legend(['Training', 'Testing'])\n",
    "plot.show()"
   ]
  },
  {
   "cell_type": "code",
   "execution_count": 19,
   "metadata": {},
   "outputs": [
    {
     "data": {
      "text/plain": [
       "[array([1.69560057]),\n",
       " array([1.59636918]),\n",
       " array([1.44499797]),\n",
       " array([1.35003475]),\n",
       " array([1.27910479]),\n",
       " array([1.19546142]),\n",
       " array([1.15822802]),\n",
       " array([1.12856589]),\n",
       " array([1.10449678]),\n",
       " array([1.0747701]),\n",
       " array([1.04825572]),\n",
       " array([1.04047777]),\n",
       " array([1.03799689]),\n",
       " array([1.03584606]),\n",
       " array([1.03212677]),\n",
       " array([1.02670385]),\n",
       " array([1.02436737]),\n",
       " array([1.02391124]),\n",
       " array([1.02373942]),\n",
       " array([1.02345465]),\n",
       " array([1.02294791]),\n",
       " array([1.022023]),\n",
       " array([1.02040098]),\n",
       " array([1.0185775]),\n",
       " array([1.0165533]),\n",
       " array([1.01307905]),\n",
       " array([1.01118008]),\n",
       " array([1.01108156]),\n",
       " array([1.01107472]),\n",
       " array([1.01106381]),\n",
       " array([1.01105839]),\n",
       " array([1.01105839]),\n",
       " array([1.01105839])]"
      ]
     },
     "execution_count": 19,
     "metadata": {},
     "output_type": "execute_result"
    }
   ],
   "source": [
    "T.J"
   ]
  },
  {
   "cell_type": "code",
   "execution_count": 20,
   "metadata": {},
   "outputs": [
    {
     "data": {
      "text/plain": [
       "[array([0.38872604]),\n",
       " array([0.34706178]),\n",
       " array([0.28336327]),\n",
       " array([0.24137292]),\n",
       " array([0.22815685]),\n",
       " array([0.21532743]),\n",
       " array([0.2049367]),\n",
       " array([0.19773042]),\n",
       " array([0.19393585]),\n",
       " array([0.19150928]),\n",
       " array([0.19286437]),\n",
       " array([0.19583986]),\n",
       " array([0.20105249]),\n",
       " array([0.20140219]),\n",
       " array([0.20125053]),\n",
       " array([0.20007937]),\n",
       " array([0.19892911]),\n",
       " array([0.1986455]),\n",
       " array([0.19851305]),\n",
       " array([0.19830698]),\n",
       " array([0.19799697]),\n",
       " array([0.19749409]),\n",
       " array([0.19663709]),\n",
       " array([0.1953872]),\n",
       " array([0.19538755]),\n",
       " array([0.19441683]),\n",
       " array([0.19347754]),\n",
       " array([0.19394807]),\n",
       " array([0.19475779]),\n",
       " array([0.19459744]),\n",
       " array([0.19437897]),\n",
       " array([0.19438226]),\n",
       " array([0.19438178])]"
      ]
     },
     "execution_count": 20,
     "metadata": {},
     "output_type": "execute_result"
    }
   ],
   "source": [
    "T.testJ"
   ]
  },
  {
   "cell_type": "code",
   "execution_count": 21,
   "metadata": {},
   "outputs": [
    {
     "data": {
      "text/plain": [
       "0.8945278389684024"
      ]
     },
     "execution_count": 21,
     "metadata": {},
     "output_type": "execute_result"
    }
   ],
   "source": [
    "from sklearn.metrics import mean_absolute_error\n",
    "mean_absolute_error(T.J, T.testJ)"
   ]
  },
  {
   "cell_type": "code",
   "execution_count": 22,
   "metadata": {},
   "outputs": [],
   "source": [
    "yHat = NN.forward(X)"
   ]
  },
  {
   "cell_type": "code",
   "execution_count": 23,
   "metadata": {},
   "outputs": [
    {
     "data": {
      "text/plain": [
       "array([[0.54101583],\n",
       "       [0.57002667],\n",
       "       [0.57008498],\n",
       "       [0.57028531],\n",
       "       [0.57099423],\n",
       "       [0.57042354],\n",
       "       [0.405513  ],\n",
       "       [0.35619868],\n",
       "       [0.55643963],\n",
       "       [0.5710404 ],\n",
       "       [0.57097796],\n",
       "       [0.42258274],\n",
       "       [0.49439323],\n",
       "       [0.35965672],\n",
       "       [0.48375849],\n",
       "       [0.57098707],\n",
       "       [0.57096298],\n",
       "       [0.54703756],\n",
       "       [0.4895321 ],\n",
       "       [0.56296933],\n",
       "       [0.56804066],\n",
       "       [0.57009743],\n",
       "       [0.57098088],\n",
       "       [0.57002759],\n",
       "       [0.31059029],\n",
       "       [0.52081815],\n",
       "       [0.56806473],\n",
       "       [0.5708583 ],\n",
       "       [0.56822788],\n",
       "       [0.3937325 ],\n",
       "       [0.52461551],\n",
       "       [0.55027308],\n",
       "       [0.55277645],\n",
       "       [0.57075651],\n",
       "       [0.57094563],\n",
       "       [0.55931138],\n",
       "       [0.53226504],\n",
       "       [0.55265702],\n",
       "       [0.55595824],\n",
       "       [0.57024731],\n",
       "       [0.56932114],\n",
       "       [0.4704503 ],\n",
       "       [0.29689114],\n",
       "       [0.5571124 ],\n",
       "       [0.56910885],\n",
       "       [0.57015804],\n",
       "       [0.56961043],\n",
       "       [0.45907582],\n",
       "       [0.50066596],\n",
       "       [0.56930679],\n",
       "       [0.57087414],\n",
       "       [0.57060063],\n",
       "       [0.56490049],\n",
       "       [0.54013849],\n",
       "       [0.2984657 ],\n",
       "       [0.43810628],\n",
       "       [0.5626419 ],\n",
       "       [0.56731909],\n",
       "       [0.56919275]])"
      ]
     },
     "execution_count": 23,
     "metadata": {},
     "output_type": "execute_result"
    }
   ],
   "source": [
    "yHat"
   ]
  },
  {
   "cell_type": "code",
   "execution_count": 24,
   "metadata": {},
   "outputs": [
    {
     "data": {
      "text/plain": [
       "array([[0.57042253],\n",
       "       [0.66901409],\n",
       "       [0.6971831 ],\n",
       "       [0.97183099],\n",
       "       [0.5915493 ],\n",
       "       [0.28169014],\n",
       "       [0.26056338],\n",
       "       [0.46478873],\n",
       "       [0.99295775],\n",
       "       [0.67605634],\n",
       "       [0.25352113],\n",
       "       [0.45070423],\n",
       "       [0.        ],\n",
       "       [0.48591549],\n",
       "       [0.78169014],\n",
       "       [0.8028169 ],\n",
       "       [0.3028169 ],\n",
       "       [0.47183099],\n",
       "       [0.41549296],\n",
       "       [0.64788732],\n",
       "       [0.61267606],\n",
       "       [1.        ],\n",
       "       [0.47887324],\n",
       "       [0.3028169 ],\n",
       "       [0.38028169],\n",
       "       [0.5915493 ],\n",
       "       [0.8028169 ],\n",
       "       [0.47183099],\n",
       "       [0.26760563],\n",
       "       [0.4084507 ],\n",
       "       [0.32394366],\n",
       "       [0.45774648],\n",
       "       [0.81690141],\n",
       "       [0.75352113],\n",
       "       [0.43661972],\n",
       "       [0.45774648],\n",
       "       [0.38732394],\n",
       "       [0.46478873],\n",
       "       [0.73239437],\n",
       "       [0.51408451],\n",
       "       [0.28169014],\n",
       "       [0.19014085],\n",
       "       [0.51408451],\n",
       "       [0.50704225],\n",
       "       [0.75352113],\n",
       "       [0.54225352],\n",
       "       [0.26056338],\n",
       "       [0.3943662 ],\n",
       "       [0.62676056],\n",
       "       [0.79577465],\n",
       "       [0.70422535],\n",
       "       [0.53521127],\n",
       "       [0.40140845],\n",
       "       [0.12676056],\n",
       "       [0.33098592],\n",
       "       [0.41549296],\n",
       "       [0.55633803],\n",
       "       [0.5915493 ],\n",
       "       [0.51408451]])"
      ]
     },
     "execution_count": 24,
     "metadata": {},
     "output_type": "execute_result"
    }
   ],
   "source": [
    "y"
   ]
  },
  {
   "cell_type": "code",
   "execution_count": 25,
   "metadata": {},
   "outputs": [
    {
     "data": {
      "text/plain": [
       "0.04086237849763991"
      ]
     },
     "execution_count": 25,
     "metadata": {},
     "output_type": "execute_result"
    }
   ],
   "source": [
    "from sklearn.metrics import mean_squared_error \n",
    "mean_squared_error(y,yHat) "
   ]
  },
  {
   "cell_type": "code",
   "execution_count": 26,
   "metadata": {},
   "outputs": [
    {
     "data": {
      "image/png": "[encoded data removed]",
      "text/plain": [
       "<Figure size 432x288 with 1 Axes>"
      ]
     },
     "metadata": {
      "needs_background": "light"
     },
     "output_type": "display_data"
    }
   ],
   "source": [
    "#Plot cost during training:\n",
    "plot.plot(y)\n",
    "plot.plot(yHat)\n",
    "plot.grid(1)\n",
    "plot.legend(['y', 'yHat'])\n",
    "plot.show()"
   ]
  },
  {
   "cell_type": "code",
   "execution_count": 27,
   "metadata": {},
   "outputs": [],
   "source": [
    "#Regularization Parameter:\n",
    "Lambda = 0.0001"
   ]
  },
  {
   "cell_type": "code",
   "execution_count": 28,
   "metadata": {},
   "outputs": [],
   "source": [
    "#Need to make changes to costFunction and costFunctionPrim:\n",
    "def costFunction(self, X, y):\n",
    "    #Compute cost for given X,y, use weights already stored in class.\n",
    "    self.yHat = self.forward(X)\n",
    "    #We don't want cost to increase with the number of examples, so normalize by dividing the error term by number of examples(X.shape[0])\n",
    "    J = 0.5*sum((y-self.yHat)**2)/X.shape[0] + (self.Lambda/2)*(sum(self.W1**2)+sum(self.W2**2))\n",
    "    return J\n",
    "\n",
    "def costFunctionPrime(self, X, y):\n",
    "    #Compute derivative with respect to W and W2 for a given X and y:\n",
    "    self.yHat = self.forward(X)\n",
    "\n",
    "    delta3 = np.multiply(-(y-self.yHat), self.tanhPrime(self.z3))\n",
    "    #Add gradient of regularization term:\n",
    "    dJdW2 = np.dot(self.a2.T, delta3)/X.shape[0] + self.Lambda*self.W2\n",
    "\n",
    "    delta2 = np.dot(delta3, self.W2.T)*self.tanhPrime(self.z2)\n",
    "    #Add gradient of regularization term:\n",
    "    dJdW1 = np.dot(X.T, delta2)/X.shape[0] + self.Lambda*self.W1\n",
    "\n",
    "    return dJdW1, dJdW2"
   ]
  },
  {
   "cell_type": "code",
   "execution_count": 29,
   "metadata": {},
   "outputs": [],
   "source": [
    "#New complete class, with changes:\n",
    "class Neural_Network(object):\n",
    "    def __init__(self, Lambda=0.0001):        \n",
    "        #Define Hyperparameters\n",
    "        self.inputLayerSize = 3\n",
    "        self.outputLayerSize = 1\n",
    "        self.hiddenLayerSize = 1\n",
    "        \n",
    "        #Weights (parameters)\n",
    "        self.W1 = np.random.randn(self.inputLayerSize,self.hiddenLayerSize)\n",
    "        self.W2 = np.random.randn(self.hiddenLayerSize,self.outputLayerSize)\n",
    "        \n",
    "        #Regularization Parameter:\n",
    "        self.Lambda = Lambda\n",
    "        \n",
    "    def forward(self, X):\n",
    "        #Propogate inputs though network\n",
    "        self.z2 = np.dot(X, self.W1)\n",
    "        self.a2 = self.tanh(self.z2)\n",
    "        self.z3 = np.dot(self.a2, self.W2)\n",
    "        yHat = self.tanh(self.z3) \n",
    "        return yHat\n",
    "        \n",
    "    def tanh(self, z):\n",
    "        # activation function\n",
    "        return (np.exp(z)-np.exp(-z))/(np.exp(z)+np.exp(-z))\n",
    "    \n",
    "    def tanhPrime(self,z): \n",
    "        #derivative of tanh\n",
    "        return 1-((np.exp(z)-np.exp(-z))/(np.exp(z)+np.exp(-z)))**2\n",
    "    \n",
    "    def costFunction(self, X, y):\n",
    "        #Compute cost for given X,y, use weights already stored in class.\n",
    "        self.yHat = self.forward(X)\n",
    "        J = 0.5*sum((y-self.yHat)**2)/X.shape[0] + (self.Lambda/2)*(np.sum(self.W1**2)+np.sum(self.W2**2))\n",
    "        return J\n",
    "        \n",
    "    def costFunctionPrime(self, X, y):\n",
    "        #Compute derivative with respect to W and W2 for a given X and y:\n",
    "        self.yHat = self.forward(X)\n",
    "        \n",
    "        delta3 = np.multiply(-(y-self.yHat), self.tanhPrime(self.z3))\n",
    "        #Add gradient of regularization term:\n",
    "        dJdW2 = np.dot(self.a2.T, delta3)/X.shape[0] + self.Lambda*self.W2\n",
    "        \n",
    "        delta2 = np.dot(delta3, self.W2.T)*self.tanhPrime(self.z2)\n",
    "        #Add gradient of regularization term:\n",
    "        dJdW1 = np.dot(X.T, delta2)/X.shape[0] + self.Lambda*self.W1\n",
    "        \n",
    "        return dJdW1, dJdW2\n",
    "    \n",
    "    def predict(self):\n",
    "        prediksi = self.forward(dataprediksi)\n",
    "        return prediksi\n",
    "    \n",
    "    #Helper functions for interacting with other methods/classes\n",
    "    def getParams(self):\n",
    "        #Get W1 and W2 Rolled into vector:\n",
    "        params = np.concatenate((self.W1.ravel(), self.W2.ravel()))\n",
    "        return params\n",
    "    \n",
    "    def setParams(self, params):\n",
    "        #Set W1 and W2 using single parameter vector:\n",
    "        W1_start = 0\n",
    "        W1_end = self.hiddenLayerSize*self.inputLayerSize\n",
    "        self.W1 = np.reshape(params[W1_start:W1_end], \\\n",
    "                             (self.inputLayerSize, self.hiddenLayerSize))\n",
    "        W2_end = W1_end + self.hiddenLayerSize*self.outputLayerSize\n",
    "        self.W2 = np.reshape(params[W1_end:W2_end], \\\n",
    "                             (self.hiddenLayerSize, self.outputLayerSize))\n",
    "        \n",
    "    def computeGradients(self, X, y):\n",
    "        dJdW1, dJdW2 = self.costFunctionPrime(X, y)\n",
    "        return np.concatenate((dJdW1.ravel(), dJdW2.ravel()))"
   ]
  },
  {
   "cell_type": "code",
   "execution_count": 30,
   "metadata": {},
   "outputs": [],
   "source": [
    "def computeNumericalGradient(N, X, y):\n",
    "    paramsInitial = N.getParams()\n",
    "    numgrad = np.zeros(paramsInitial.shape)\n",
    "    perturb = np.zeros(paramsInitial.shape)\n",
    "    e = 1e-4\n",
    "\n",
    "    for p in range(len(paramsInitial)):\n",
    "        #Set perturbation vector\n",
    "        perturb[p] = e\n",
    "        N.setParams(paramsInitial + perturb)\n",
    "        loss2 = N.costFunction(X, y)\n",
    "            \n",
    "        N.setParams(paramsInitial - perturb)\n",
    "        loss1 = N.costFunction(X, y)\n",
    "\n",
    "        #Compute Numerical Gradient\n",
    "        numgrad[p] = (loss2 - loss1) / (2*e)\n",
    "\n",
    "            #Return the value we changed to zero:\n",
    "        perturb[p] = 0\n",
    "            \n",
    "    #Return Params to original value:\n",
    "    N.setParams(paramsInitial)\n",
    "\n",
    "    return numgrad "
   ]
  },
  {
   "cell_type": "code",
   "execution_count": 31,
   "metadata": {},
   "outputs": [],
   "source": [
    "NN = Neural_Network(Lambda=0.0001)"
   ]
  },
  {
   "cell_type": "code",
   "execution_count": 32,
   "metadata": {},
   "outputs": [],
   "source": [
    "#Make sure our gradients our correct after making changes:\n",
    "numgrad = computeNumericalGradient(NN, X, y)\n",
    "grad = NN.computeGradients(X,y)"
   ]
  },
  {
   "cell_type": "code",
   "execution_count": 33,
   "metadata": {},
   "outputs": [
    {
     "data": {
      "text/plain": [
       "9.362640143059043e-09"
      ]
     },
     "execution_count": 33,
     "metadata": {},
     "output_type": "execute_result"
    }
   ],
   "source": [
    "#Should be less than 1e-8:\n",
    "np.linalg.norm(grad-numgrad)/np.linalg.norm(grad+numgrad)"
   ]
  },
  {
   "cell_type": "code",
   "execution_count": 34,
   "metadata": {},
   "outputs": [],
   "source": [
    "T = trainer(NN)"
   ]
  },
  {
   "cell_type": "code",
   "execution_count": 35,
   "metadata": {},
   "outputs": [
    {
     "name": "stdout",
     "output_type": "stream",
     "text": [
      "Optimization terminated successfully.\n",
      "         Current function value: 0.021196\n",
      "         Iterations: 41\n",
      "         Function evaluations: 46\n",
      "         Gradient evaluations: 46\n"
     ]
    }
   ],
   "source": [
    "T.train(X,y,testX,testY)"
   ]
  },
  {
   "cell_type": "code",
   "execution_count": 36,
   "metadata": {},
   "outputs": [
    {
     "data": {
      "image/png": "[encoded data removed]",
      "text/plain": [
       "<Figure size 432x288 with 1 Axes>"
      ]
     },
     "metadata": {
      "needs_background": "light"
     },
     "output_type": "display_data"
    }
   ],
   "source": [
    "plot.plot(T.J)\n",
    "plot.plot(T.testJ)\n",
    "plot.grid(1)\n",
    "plot.xlabel('Iterations')\n",
    "plot.ylabel('Cost')\n",
    "plot.legend(['Training', 'Testing'])\n",
    "plot.show()"
   ]
  },
  {
   "cell_type": "code",
   "execution_count": 37,
   "metadata": {},
   "outputs": [
    {
     "data": {
      "text/plain": [
       "[array([0.03393693]),\n",
       " array([0.0315162]),\n",
       " array([0.03066564]),\n",
       " array([0.02997516]),\n",
       " array([0.02870071]),\n",
       " array([0.02655184]),\n",
       " array([0.02404058]),\n",
       " array([0.02358588]),\n",
       " array([0.02346576]),\n",
       " array([0.02342048]),\n",
       " array([0.02334058]),\n",
       " array([0.02319055]),\n",
       " array([0.02249909]),\n",
       " array([0.02230844]),\n",
       " array([0.0221883]),\n",
       " array([0.02204936]),\n",
       " array([0.02201723]),\n",
       " array([0.02201109]),\n",
       " array([0.02200585]),\n",
       " array([0.02199725]),\n",
       " array([0.02198383]),\n",
       " array([0.02196959]),\n",
       " array([0.02196203]),\n",
       " array([0.02195781]),\n",
       " array([0.02195432]),\n",
       " array([0.02194879]),\n",
       " array([0.0219392]),\n",
       " array([0.02192167]),\n",
       " array([0.0218891]),\n",
       " array([0.02182869]),\n",
       " array([0.02171933]),\n",
       " array([0.02154033]),\n",
       " array([0.0213587]),\n",
       " array([0.02129013]),\n",
       " array([0.02122528]),\n",
       " array([0.0211976]),\n",
       " array([0.02119663]),\n",
       " array([0.02119616]),\n",
       " array([0.021196]),\n",
       " array([0.02119594]),\n",
       " array([0.02119594])]"
      ]
     },
     "execution_count": 37,
     "metadata": {},
     "output_type": "execute_result"
    }
   ],
   "source": [
    "T.J"
   ]
  },
  {
   "cell_type": "code",
   "execution_count": 38,
   "metadata": {},
   "outputs": [
    {
     "data": {
      "text/plain": [
       "[array([0.02582855]),\n",
       " array([0.02220352]),\n",
       " array([0.02062899]),\n",
       " array([0.01985054]),\n",
       " array([0.01861248]),\n",
       " array([0.01662482]),\n",
       " array([0.01438997]),\n",
       " array([0.01420898]),\n",
       " array([0.01430668]),\n",
       " array([0.01435959]),\n",
       " array([0.01439002]),\n",
       " array([0.01436391]),\n",
       " array([0.01377985]),\n",
       " array([0.0134586]),\n",
       " array([0.01329702]),\n",
       " array([0.01331743]),\n",
       " array([0.01336527]),\n",
       " array([0.01337549]),\n",
       " array([0.01339798]),\n",
       " array([0.01342836]),\n",
       " array([0.01347877]),\n",
       " array([0.0135412]),\n",
       " array([0.01358506]),\n",
       " array([0.01359911]),\n",
       " array([0.01361101]),\n",
       " array([0.01360516]),\n",
       " array([0.01361528]),\n",
       " array([0.01363097]),\n",
       " array([0.01367882]),\n",
       " array([0.01377678]),\n",
       " array([0.01396337]),\n",
       " array([0.01427266]),\n",
       " array([0.01483627]),\n",
       " array([0.0148531]),\n",
       " array([0.01509981]),\n",
       " array([0.01493774]),\n",
       " array([0.01494289]),\n",
       " array([0.01494028]),\n",
       " array([0.01493366]),\n",
       " array([0.01492716]),\n",
       " array([0.01492595])]"
      ]
     },
     "execution_count": 38,
     "metadata": {},
     "output_type": "execute_result"
    }
   ],
   "source": [
    "T.testJ"
   ]
  },
  {
   "cell_type": "code",
   "execution_count": 39,
   "metadata": {},
   "outputs": [
    {
     "data": {
      "text/plain": [
       "0.008224168796788972"
      ]
     },
     "execution_count": 39,
     "metadata": {},
     "output_type": "execute_result"
    }
   ],
   "source": [
    "from sklearn.metrics import mean_absolute_error\n",
    "mean_absolute_error(T.J, T.testJ)"
   ]
  },
  {
   "cell_type": "code",
   "execution_count": 40,
   "metadata": {},
   "outputs": [],
   "source": [
    "yHat=NN.forward(X)"
   ]
  },
  {
   "cell_type": "code",
   "execution_count": 41,
   "metadata": {},
   "outputs": [
    {
     "data": {
      "text/plain": [
       "array([[0.50617289],\n",
       "       [0.57049082],\n",
       "       [0.57280171],\n",
       "       [0.57420165],\n",
       "       [0.57918718],\n",
       "       [0.57433962],\n",
       "       [0.40175477],\n",
       "       [0.34580074],\n",
       "       [0.53419154],\n",
       "       [0.57947106],\n",
       "       [0.57828913],\n",
       "       [0.40826354],\n",
       "       [0.47514742],\n",
       "       [0.25354259],\n",
       "       [0.46412994],\n",
       "       [0.57834288],\n",
       "       [0.57848616],\n",
       "       [0.51733864],\n",
       "       [0.47786923],\n",
       "       [0.54552618],\n",
       "       [0.56586535],\n",
       "       [0.57228149],\n",
       "       [0.57912757],\n",
       "       [0.57110587],\n",
       "       [0.3555783 ],\n",
       "       [0.48506055],\n",
       "       [0.56412112],\n",
       "       [0.57758545],\n",
       "       [0.56381195],\n",
       "       [0.38290178],\n",
       "       [0.49176816],\n",
       "       [0.51413099],\n",
       "       [0.52959397],\n",
       "       [0.57691672],\n",
       "       [0.57818285],\n",
       "       [0.54450903],\n",
       "       [0.51064273],\n",
       "       [0.52562262],\n",
       "       [0.53578607],\n",
       "       [0.57393276],\n",
       "       [0.56791081],\n",
       "       [0.43549561],\n",
       "       [0.28631467],\n",
       "       [0.53785934],\n",
       "       [0.56577707],\n",
       "       [0.57397903],\n",
       "       [0.56962875],\n",
       "       [0.42407602],\n",
       "       [0.46931729],\n",
       "       [0.56868502],\n",
       "       [0.57768795],\n",
       "       [0.57587183],\n",
       "       [0.55798245],\n",
       "       [0.51393673],\n",
       "       [0.27068403],\n",
       "       [0.40431342],\n",
       "       [0.54278228],\n",
       "       [0.56134767],\n",
       "       [0.56834607]])"
      ]
     },
     "execution_count": 41,
     "metadata": {},
     "output_type": "execute_result"
    }
   ],
   "source": [
    "yHat"
   ]
  },
  {
   "cell_type": "code",
   "execution_count": 42,
   "metadata": {},
   "outputs": [
    {
     "data": {
      "text/plain": [
       "array([[0.57042253],\n",
       "       [0.66901409],\n",
       "       [0.6971831 ],\n",
       "       [0.97183099],\n",
       "       [0.5915493 ],\n",
       "       [0.28169014],\n",
       "       [0.26056338],\n",
       "       [0.46478873],\n",
       "       [0.99295775],\n",
       "       [0.67605634],\n",
       "       [0.25352113],\n",
       "       [0.45070423],\n",
       "       [0.        ],\n",
       "       [0.48591549],\n",
       "       [0.78169014],\n",
       "       [0.8028169 ],\n",
       "       [0.3028169 ],\n",
       "       [0.47183099],\n",
       "       [0.41549296],\n",
       "       [0.64788732],\n",
       "       [0.61267606],\n",
       "       [1.        ],\n",
       "       [0.47887324],\n",
       "       [0.3028169 ],\n",
       "       [0.38028169],\n",
       "       [0.5915493 ],\n",
       "       [0.8028169 ],\n",
       "       [0.47183099],\n",
       "       [0.26760563],\n",
       "       [0.4084507 ],\n",
       "       [0.32394366],\n",
       "       [0.45774648],\n",
       "       [0.81690141],\n",
       "       [0.75352113],\n",
       "       [0.43661972],\n",
       "       [0.45774648],\n",
       "       [0.38732394],\n",
       "       [0.46478873],\n",
       "       [0.73239437],\n",
       "       [0.51408451],\n",
       "       [0.28169014],\n",
       "       [0.19014085],\n",
       "       [0.51408451],\n",
       "       [0.50704225],\n",
       "       [0.75352113],\n",
       "       [0.54225352],\n",
       "       [0.26056338],\n",
       "       [0.3943662 ],\n",
       "       [0.62676056],\n",
       "       [0.79577465],\n",
       "       [0.70422535],\n",
       "       [0.53521127],\n",
       "       [0.40140845],\n",
       "       [0.12676056],\n",
       "       [0.33098592],\n",
       "       [0.41549296],\n",
       "       [0.55633803],\n",
       "       [0.5915493 ],\n",
       "       [0.51408451]])"
      ]
     },
     "execution_count": 42,
     "metadata": {},
     "output_type": "execute_result"
    }
   ],
   "source": [
    "y"
   ]
  },
  {
   "cell_type": "code",
   "execution_count": 43,
   "metadata": {},
   "outputs": [
    {
     "data": {
      "image/png": "[encoded data removed]",
      "text/plain": [
       "<Figure size 432x288 with 1 Axes>"
      ]
     },
     "metadata": {
      "needs_background": "light"
     },
     "output_type": "display_data"
    }
   ],
   "source": [
    "#Plot cost during training:\n",
    "plot.plot(y)\n",
    "plot.plot(yHat)\n",
    "plot.grid(1)\n",
    "plot.legend(['y', 'yHat'])\n",
    "plot.show()"
   ]
  },
  {
   "cell_type": "code",
   "execution_count": 44,
   "metadata": {},
   "outputs": [],
   "source": [
    "prediksi=NN.forward(dataprediksi)"
   ]
  },
  {
   "cell_type": "code",
   "execution_count": 45,
   "metadata": {},
   "outputs": [
    {
     "data": {
      "text/plain": [
       "array([[0.55801081],\n",
       "       [0.51826063],\n",
       "       [0.49689748],\n",
       "       [0.50869471]])"
      ]
     },
     "execution_count": 45,
     "metadata": {},
     "output_type": "execute_result"
    }
   ],
   "source": [
    "prediksi"
   ]
  },
  {
   "cell_type": "code",
   "execution_count": 46,
   "metadata": {},
   "outputs": [],
   "source": [
    "from sklearn.metrics import mean_squared_error "
   ]
  },
  {
   "cell_type": "code",
   "execution_count": 47,
   "metadata": {},
   "outputs": [
    {
     "data": {
      "text/plain": [
       "0.01786924404434308"
      ]
     },
     "execution_count": 47,
     "metadata": {},
     "output_type": "execute_result"
    }
   ],
   "source": [
    "Y_true= ([\t0.387323944\t]\t,\n",
    "[\t0.373239437\t]\t,\n",
    "[\t0.366197183\t]\t,\n",
    "[\t0.443661972\t]\t,\n",
    ")\n",
    "\n",
    "\n",
    "Y_pred=prediksi\n",
    "mean_squared_error(Y_true,Y_pred) "
   ]
  },
  {
   "cell_type": "code",
   "execution_count": 48,
   "metadata": {},
   "outputs": [
    {
     "data": {
      "text/plain": [
       "array([[0.55633803, 0.5915493 , 0.51408451],\n",
       "       [0.5915493 , 0.51408451, 0.38732394],\n",
       "       [0.51408451, 0.38732394, 0.37323944],\n",
       "       [0.38732394, 0.37323944, 0.36619718]])"
      ]
     },
     "execution_count": 48,
     "metadata": {},
     "output_type": "execute_result"
    }
   ],
   "source": [
    "dataprediksi"
   ]
  },
  {
   "cell_type": "code",
   "execution_count": 49,
   "metadata": {},
   "outputs": [],
   "source": [
    "a=np.array([\t0.373239437\t,\t0.366197183\t,\t0.443661972\t])"
   ]
  },
  {
   "cell_type": "code",
   "execution_count": 50,
   "metadata": {},
   "outputs": [
    {
     "data": {
      "text/plain": [
       "array([0.53465568])"
      ]
     },
     "execution_count": 50,
     "metadata": {},
     "output_type": "execute_result"
    }
   ],
   "source": [
    "#prediksi 1\n",
    "prediksi=NN.forward(a)\n",
    "prediksi"
   ]
  },
  {
   "cell_type": "code",
   "execution_count": 51,
   "metadata": {},
   "outputs": [
    {
     "data": {
      "text/plain": [
       "array([0.55909976])"
      ]
     },
     "execution_count": 51,
     "metadata": {},
     "output_type": "execute_result"
    }
   ],
   "source": [
    "#prediksi 2\n",
    "c=prediksi\n",
    "b=a[1:]\n",
    "d=np.concatenate((b,c))\n",
    "prediksi=NN.forward(d)\n",
    "prediksi"
   ]
  },
  {
   "cell_type": "code",
   "execution_count": 52,
   "metadata": {},
   "outputs": [
    {
     "data": {
      "text/plain": [
       "array([0.56399743])"
      ]
     },
     "execution_count": 52,
     "metadata": {},
     "output_type": "execute_result"
    }
   ],
   "source": [
    "#prediksi 3\n",
    "c=prediksi\n",
    "b=d[1:]\n",
    "e=np.concatenate((b,c))\n",
    "prediksi=NN.forward(e)\n",
    "prediksi"
   ]
  },
  {
   "cell_type": "code",
   "execution_count": 53,
   "metadata": {},
   "outputs": [
    {
     "data": {
      "text/plain": [
       "array([0.56276639])"
      ]
     },
     "execution_count": 53,
     "metadata": {},
     "output_type": "execute_result"
    }
   ],
   "source": [
    "#prediksi 4\n",
    "c=prediksi\n",
    "b=e[1:]\n",
    "f=np.concatenate((b,c))\n",
    "prediksi=NN.forward(f)\n",
    "prediksi"
   ]
  },
  {
   "cell_type": "code",
   "execution_count": 54,
   "metadata": {},
   "outputs": [
    {
     "data": {
      "text/plain": [
       "array([0.56206136])"
      ]
     },
     "execution_count": 54,
     "metadata": {},
     "output_type": "execute_result"
    }
   ],
   "source": [
    "#prediksi 5\n",
    "c=prediksi\n",
    "b=f[1:]\n",
    "g=np.concatenate((b,c))\n",
    "prediksi=NN.forward(g)\n",
    "prediksi"
   ]
  },
  {
   "cell_type": "code",
   "execution_count": 55,
   "metadata": {},
   "outputs": [
    {
     "data": {
      "text/plain": [
       "array([0.56174752])"
      ]
     },
     "execution_count": 55,
     "metadata": {},
     "output_type": "execute_result"
    }
   ],
   "source": [
    "#prediksi 6\n",
    "c=prediksi\n",
    "b=g[1:]\n",
    "h=np.concatenate((b,c))\n",
    "prediksi=NN.forward(h)\n",
    "prediksi"
   ]
  },
  {
   "cell_type": "code",
   "execution_count": null,
   "metadata": {},
   "outputs": [],
   "source": []
  }
 ],
 "metadata": {
  "kernelspec": {
   "display_name": "Python 3",
   "language": "python",
   "name": "python3"
  },
  "language_info": {
   "codemirror_mode": {
    "name": "ipython",
    "version": 3
   },
   "file_extension": ".py",
   "mimetype": "text/x-python",
   "name": "python",
   "nbconvert_exporter": "python",
   "pygments_lexer": "ipython3",
   "version": "3.7.3"
  }
 },
 "nbformat": 4,
 "nbformat_minor": 2
}
