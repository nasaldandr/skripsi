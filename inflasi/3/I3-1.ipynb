{
 "cells": [
  {
   "cell_type": "code",
   "execution_count": 1,
   "metadata": {},
   "outputs": [],
   "source": [
    "import numpy as np"
   ]
  },
  {
   "cell_type": "code",
   "execution_count": 2,
   "metadata": {},
   "outputs": [],
   "source": [
    "#UNTUK NILAI IMPOR\n",
    "class Neural_Network(object):\n",
    "    def __init__(self):\n",
    "        #parameters\n",
    "        self.inputLayerSize = 3\n",
    "        self.outputLayerSize = 1\n",
    "        self.hiddenLayerSize = 1\n",
    "\n",
    "        #weights\n",
    "        self.W1 = np.random.randn(self.inputLayerSize,\\\n",
    "                                 self.hiddenLayerSize)  \n",
    "        self.W2 = np.random.randn(self.hiddenLayerSize,\\\n",
    "                                 self.outputLayerSize)  \n",
    "    \n",
    "    def printw(self):\n",
    "        return self.W1\n",
    "        \n",
    "    def weight(self, W1, W2):\n",
    "        #Make an internal variable for the weight:\n",
    "        self.W1 = W1\n",
    "        self.W2 = W2\n",
    "        \n",
    "    def forward(self, X):\n",
    "        #forward propagation through our network\n",
    "        self.z2 = np.dot(X,self.W1)  \n",
    "        self.a2 = self.sigmoid(self.z2)  # activation function\n",
    "        self.z3 = np.dot(self.a2, self.W2) \n",
    "        yHat = self.sigmoid(self.z3)  # final activation function\n",
    "        return yHat\n",
    "\n",
    "    def sigmoid(self, z):\n",
    "        # activation function\n",
    "        return 1 / (1 + np.exp(-z))\n",
    "    \n",
    "    def sigmoidPrime(self,z): \n",
    "        #derivative of sigmoid     \n",
    "        return np.exp(-z)/((1+np.exp(-z))**2)\n",
    "    \n",
    "    def costFunction(self,X,y):\n",
    "        self.yHat = self.forward(X)\n",
    "        J=0.5*sum((y-self.yHat)**2)\n",
    "        return J\n",
    "    \n",
    "    def costFunctionPrime(self,X,y):\n",
    "        self.yHat=self.forward(X)\n",
    "        \n",
    "        delta3=np.multiply(-(y-self.yHat),self.sigmoidPrime(self.z3))\n",
    "        dJdW2=np.dot(self.a2.T,delta3)\n",
    "        \n",
    "        delta2=np.dot(delta3,self.W2.T)*self.sigmoidPrime(self.z2)\n",
    "        dJdW1=np.dot(X.T,delta2)\n",
    "        return dJdW1,dJdW2\n",
    "    \n",
    "    def predict(self):\n",
    "        prediksi = self.forward(dataprediksi)\n",
    "        return prediksi\n",
    "    \n",
    "    def getParams(self):\n",
    "        params=np.concatenate((self.W1.ravel(),self.W2.ravel()))\n",
    "        return params\n",
    "    \n",
    "    def setParams(self,params):\n",
    "        W1_start=0\n",
    "        W1_end=self.hiddenLayerSize*self.inputLayerSize\n",
    "        self.W1=np.reshape(params[W1_start:W1_end],\\\n",
    "                          (self.inputLayerSize,self.hiddenLayerSize))\n",
    "        W2_end=W1_end+self.hiddenLayerSize*self.outputLayerSize\n",
    "        self.W2=np.reshape(params[W1_end:W2_end],\\\n",
    "                          (self.hiddenLayerSize,self.outputLayerSize))\n",
    "        \n",
    "    def computeGradients(self, X, y):\n",
    "        dJdW1, dJdW2 = self.costFunctionPrime(X, y)\n",
    "        return np.concatenate((dJdW1.ravel(), dJdW2.ravel()))"
   ]
  },
  {
   "cell_type": "code",
   "execution_count": 3,
   "metadata": {},
   "outputs": [],
   "source": [
    "NN = Neural_Network()"
   ]
  },
  {
   "cell_type": "code",
   "execution_count": 4,
   "metadata": {},
   "outputs": [
    {
     "data": {
      "text/plain": [
       "array([[-0.99315825],\n",
       "       [ 0.81276464],\n",
       "       [ 0.68060649]])"
      ]
     },
     "execution_count": 4,
     "metadata": {},
     "output_type": "execute_result"
    }
   ],
   "source": [
    "NN.W1"
   ]
  },
  {
   "cell_type": "code",
   "execution_count": 5,
   "metadata": {},
   "outputs": [
    {
     "data": {
      "text/plain": [
       "array([[-0.19048302]])"
      ]
     },
     "execution_count": 5,
     "metadata": {},
     "output_type": "execute_result"
    }
   ],
   "source": [
    "NN.W2"
   ]
  },
  {
   "cell_type": "code",
   "execution_count": 6,
   "metadata": {},
   "outputs": [],
   "source": [
    "#NILAI IMPOR\n",
    "X=np.array(([\t0.147887324\t,\t0.063380282\t,\t0.436619718\t]\t,\n",
    "[\t0.063380282\t,\t0.436619718\t,\t0.570422535\t]\t,\n",
    "[\t0.436619718\t,\t0.570422535\t,\t0.669014085\t]\t,\n",
    "[\t0.570422535\t,\t0.669014085\t,\t0.697183099\t]\t,\n",
    "[\t0.669014085\t,\t0.697183099\t,\t0.971830986\t]\t,\n",
    "[\t0.697183099\t,\t0.971830986\t,\t0.591549296\t]\t,\n",
    "[\t0.971830986\t,\t0.591549296\t,\t0.281690141\t]\t,\n",
    "[\t0.591549296\t,\t0.281690141\t,\t0.26056338\t]\t,\n",
    "[\t0.281690141\t,\t0.26056338\t,\t0.464788732\t]\t,\n",
    "[\t0.26056338\t,\t0.464788732\t,\t0.992957746\t]\t,\n",
    "[\t0.464788732\t,\t0.992957746\t,\t0.676056338\t]\t,\n",
    "[\t0.992957746\t,\t0.676056338\t,\t0.253521127\t]\t,\n",
    "[\t0.676056338\t,\t0.253521127\t,\t0.450704225\t]\t,\n",
    "[\t0.253521127\t,\t0.450704225\t,\t0\t]\t,\n",
    "[\t0.450704225\t,\t0\t,\t0.485915493\t]\t,\n",
    "[\t0\t,\t0.485915493\t,\t0.781690141\t]\t,\n",
    "[\t0.485915493\t,\t0.781690141\t,\t0.802816901\t]\t,\n",
    "[\t0.781690141\t,\t0.802816901\t,\t0.302816901\t]\t,\n",
    "[\t0.802816901\t,\t0.302816901\t,\t0.471830986\t]\t,\n",
    "[\t0.302816901\t,\t0.471830986\t,\t0.415492958\t]\t,\n",
    "[\t0.471830986\t,\t0.415492958\t,\t0.647887324\t]\t,\n",
    "[\t0.415492958\t,\t0.647887324\t,\t0.612676056\t]\t,\n",
    "[\t0.647887324\t,\t0.612676056\t,\t1\t]\t,\n",
    "[\t0.612676056\t,\t1\t,\t0.478873239\t]\t,\n",
    "[\t1\t,\t0.478873239\t,\t0.302816901\t]\t,\n",
    "[\t0.478873239\t,\t0.302816901\t,\t0.38028169\t]\t,\n",
    "[\t0.302816901\t,\t0.38028169\t,\t0.591549296\t]\t,\n",
    "[\t0.38028169\t,\t0.591549296\t,\t0.802816901\t]\t,\n",
    "[\t0.591549296\t,\t0.802816901\t,\t0.471830986\t]\t,\n",
    "[\t0.802816901\t,\t0.471830986\t,\t0.267605634\t]\t,\n",
    "[\t0.471830986\t,\t0.267605634\t,\t0.408450704\t]\t,\n",
    "[\t0.267605634\t,\t0.408450704\t,\t0.323943662\t]\t,\n",
    "[\t0.408450704\t,\t0.323943662\t,\t0.457746479\t]\t,\n",
    "[\t0.323943662\t,\t0.457746479\t,\t0.816901408\t]\t,\n",
    "[\t0.457746479\t,\t0.816901408\t,\t0.753521127\t]\t,\n",
    "[\t0.816901408\t,\t0.753521127\t,\t0.436619718\t]\t,\n",
    "[\t0.753521127\t,\t0.436619718\t,\t0.457746479\t]\t,\n",
    "[\t0.436619718\t,\t0.457746479\t,\t0.387323944\t]\t,\n",
    "[\t0.457746479\t,\t0.387323944\t,\t0.464788732\t]\t,\n",
    "[\t0.387323944\t,\t0.464788732\t,\t0.732394366\t]\t,\n",
    "[\t0.464788732\t,\t0.732394366\t,\t0.514084507\t]\t,\n",
    "[\t0.732394366\t,\t0.514084507\t,\t0.281690141\t]\t,\n",
    "[\t0.514084507\t,\t0.281690141\t,\t0.190140845\t]\t,\n",
    "[\t0.281690141\t,\t0.190140845\t,\t0.514084507\t]\t,\n",
    "[\t0.190140845\t,\t0.514084507\t,\t0.507042254\t]\t,\n",
    "[\t0.514084507\t,\t0.507042254\t,\t0.753521127\t]\t,\n",
    "[\t0.507042254\t,\t0.753521127\t,\t0.542253521\t]\t,\n",
    "[\t0.753521127\t,\t0.542253521\t,\t0.26056338\t]\t,\n",
    "[\t0.542253521\t,\t0.26056338\t,\t0.394366197\t]\t,\n",
    "[\t0.26056338\t,\t0.394366197\t,\t0.626760563\t]\t,\n",
    "[\t0.394366197\t,\t0.626760563\t,\t0.795774648\t]\t,\n",
    "[\t0.626760563\t,\t0.795774648\t,\t0.704225352\t]\t,\n",
    "[\t0.795774648\t,\t0.704225352\t,\t0.535211268\t]\t,\n",
    "[\t0.704225352\t,\t0.535211268\t,\t0.401408451\t]\t,\n",
    "[\t0.535211268\t,\t0.401408451\t,\t0.126760563\t]\t,\n",
    "[\t0.401408451\t,\t0.126760563\t,\t0.330985915\t]\t,\n",
    "[\t0.126760563\t,\t0.330985915\t,\t0.415492958\t]\t,\n",
    "[\t0.330985915\t,\t0.415492958\t,\t0.556338028\t]\t,\n",
    "[\t0.415492958\t,\t0.556338028\t,\t0.591549296\t]\t,\n",
    "\n",
    "\n",
    ")           \n",
    ",dtype=float)\n",
    "y=np.array(([\t0.570422535\t]\t,\n",
    "[\t0.669014085\t]\t,\n",
    "[\t0.697183099\t]\t,\n",
    "[\t0.971830986\t]\t,\n",
    "[\t0.591549296\t]\t,\n",
    "[\t0.281690141\t]\t,\n",
    "[\t0.26056338\t]\t,\n",
    "[\t0.464788732\t]\t,\n",
    "[\t0.992957746\t]\t,\n",
    "[\t0.676056338\t]\t,\n",
    "[\t0.253521127\t]\t,\n",
    "[\t0.450704225\t]\t,\n",
    "[\t0\t]\t,\n",
    "[\t0.485915493\t]\t,\n",
    "[\t0.781690141\t]\t,\n",
    "[\t0.802816901\t]\t,\n",
    "[\t0.302816901\t]\t,\n",
    "[\t0.471830986\t]\t,\n",
    "[\t0.415492958\t]\t,\n",
    "[\t0.647887324\t]\t,\n",
    "[\t0.612676056\t]\t,\n",
    "[\t1\t]\t,\n",
    "[\t0.478873239\t]\t,\n",
    "[\t0.302816901\t]\t,\n",
    "[\t0.38028169\t]\t,\n",
    "[\t0.591549296\t]\t,\n",
    "[\t0.802816901\t]\t,\n",
    "[\t0.471830986\t]\t,\n",
    "[\t0.267605634\t]\t,\n",
    "[\t0.408450704\t]\t,\n",
    "[\t0.323943662\t]\t,\n",
    "[\t0.457746479\t]\t,\n",
    "[\t0.816901408\t]\t,\n",
    "[\t0.753521127\t]\t,\n",
    "[\t0.436619718\t]\t,\n",
    "[\t0.457746479\t]\t,\n",
    "[\t0.387323944\t]\t,\n",
    "[\t0.464788732\t]\t,\n",
    "[\t0.732394366\t]\t,\n",
    "[\t0.514084507\t]\t,\n",
    "[\t0.281690141\t]\t,\n",
    "[\t0.190140845\t]\t,\n",
    "[\t0.514084507\t]\t,\n",
    "[\t0.507042254\t]\t,\n",
    "[\t0.753521127\t]\t,\n",
    "[\t0.542253521\t]\t,\n",
    "[\t0.26056338\t]\t,\n",
    "[\t0.394366197\t]\t,\n",
    "[\t0.626760563\t]\t,\n",
    "[\t0.795774648\t]\t,\n",
    "[\t0.704225352\t]\t,\n",
    "[\t0.535211268\t]\t,\n",
    "[\t0.401408451\t]\t,\n",
    "[\t0.126760563\t]\t,\n",
    "[\t0.330985915\t]\t,\n",
    "[\t0.415492958\t]\t,\n",
    "[\t0.556338028\t]\t,\n",
    "[\t0.591549296\t]\t,\n",
    "[\t0.514084507\t]\t,\n",
    "\n",
    ")\n",
    ",dtype=float)\n",
    "\n",
    "dataprediksi = np.array(([\t0.556338028\t,\t0.591549296\t,\t0.514084507\t]\t,\n",
    "[\t0.591549296\t,\t0.514084507\t,\t0.387323944\t]\t,\n",
    "[\t0.514084507\t,\t0.387323944\t,\t0.373239437\t]\t,\n",
    "[\t0.387323944\t,\t0.373239437\t,\t0.366197183\t]\t,\n",
    "\n",
    "\n",
    "), dtype=float)\n"
   ]
  },
  {
   "cell_type": "code",
   "execution_count": 7,
   "metadata": {},
   "outputs": [],
   "source": [
    "import matplotlib.pyplot as plot"
   ]
  },
  {
   "cell_type": "code",
   "execution_count": 8,
   "metadata": {},
   "outputs": [],
   "source": [
    "from scipy import optimize"
   ]
  },
  {
   "cell_type": "code",
   "execution_count": 9,
   "metadata": {},
   "outputs": [],
   "source": [
    "class trainer(object):\n",
    "    def __init__(self, N):\n",
    "        #Make Local reference to network:\n",
    "        self.N = N\n",
    "        \n",
    "    def callbackF(self, params):\n",
    "        self.N.setParams(params)\n",
    "        self.J.append(self.N.costFunction(self.X, self.y))   \n",
    "        \n",
    "    def costFunctionWrapper(self, params, X, y):\n",
    "        self.N.setParams(params)\n",
    "        cost = self.N.costFunction(X, y)\n",
    "        grad = self.N.computeGradients(X,y)\n",
    "        \n",
    "        return cost, grad\n",
    "        \n",
    "    def train(self, X, y):\n",
    "        #Make an internal variable for the callback function:\n",
    "        self.X = X\n",
    "        self.y = y\n",
    "\n",
    "        #Make empty list to store costs:\n",
    "        self.J = []\n",
    "        \n",
    "        params0 = self.N.getParams()\n",
    "\n",
    "        options = {'maxiter': 100, 'disp' : True}\n",
    "        _res = optimize.minimize(self.costFunctionWrapper, params0, jac=True, method='BFGS', \\\n",
    "                                 args=(X, y), options=options, callback=self.callbackF)\n",
    "\n",
    "        self.N.setParams(_res.x)\n",
    "        self.optimizationResults = _res"
   ]
  },
  {
   "cell_type": "code",
   "execution_count": 10,
   "metadata": {},
   "outputs": [],
   "source": [
    "NN=Neural_Network()"
   ]
  },
  {
   "cell_type": "code",
   "execution_count": 11,
   "metadata": {},
   "outputs": [],
   "source": [
    "T = trainer(NN)"
   ]
  },
  {
   "cell_type": "code",
   "execution_count": 12,
   "metadata": {},
   "outputs": [
    {
     "name": "stdout",
     "output_type": "stream",
     "text": [
      "Warning: Desired error not necessarily achieved due to precision loss.\n",
      "         Current function value: 0.973877\n",
      "         Iterations: 65\n",
      "         Function evaluations: 101\n",
      "         Gradient evaluations: 92\n"
     ]
    },
    {
     "name": "stderr",
     "output_type": "stream",
     "text": [
      "C:\\Users\\ASUS\\Anaconda3\\lib\\site-packages\\ipykernel_launcher.py:37: RuntimeWarning: overflow encountered in square\n",
      "C:\\Users\\ASUS\\Anaconda3\\lib\\site-packages\\ipykernel_launcher.py:37: RuntimeWarning: invalid value encountered in true_divide\n",
      "C:\\Users\\ASUS\\Anaconda3\\lib\\site-packages\\ipykernel_launcher.py:37: RuntimeWarning: overflow encountered in square\n",
      "C:\\Users\\ASUS\\Anaconda3\\lib\\site-packages\\ipykernel_launcher.py:37: RuntimeWarning: invalid value encountered in true_divide\n",
      "C:\\Users\\ASUS\\Anaconda3\\lib\\site-packages\\ipykernel_launcher.py:37: RuntimeWarning: overflow encountered in square\n",
      "C:\\Users\\ASUS\\Anaconda3\\lib\\site-packages\\ipykernel_launcher.py:37: RuntimeWarning: invalid value encountered in true_divide\n",
      "C:\\Users\\ASUS\\Anaconda3\\lib\\site-packages\\scipy\\optimize\\linesearch.py:581: RuntimeWarning: invalid value encountered in greater_equal\n",
      "  if derphi_aj*(a_hi - a_lo) >= 0:\n"
     ]
    }
   ],
   "source": [
    "#Train network with new data:\n",
    "T = trainer(NN)\n",
    "T.train(X,y)"
   ]
  },
  {
   "cell_type": "code",
   "execution_count": 13,
   "metadata": {},
   "outputs": [
    {
     "data": {
      "image/png": "[encoded data removed]",
      "text/plain": [
       "<Figure size 432x288 with 1 Axes>"
      ]
     },
     "metadata": {
      "needs_background": "light"
     },
     "output_type": "display_data"
    }
   ],
   "source": [
    "#Plot cost during training:\n",
    "plot.plot(T.J)\n",
    "plot.grid(1)\n",
    "plot.xlabel('Iterations')\n",
    "plot.ylabel('Cost')\n",
    "plot.show()"
   ]
  },
  {
   "cell_type": "code",
   "execution_count": 14,
   "metadata": {},
   "outputs": [],
   "source": [
    "#Training Data:\n",
    "trainX = np.array(([\t0.147887324\t,\t0.063380282\t,\t0.436619718\t]\t,\n",
    "[\t0.063380282\t,\t0.436619718\t,\t0.570422535\t]\t,\n",
    "[\t0.436619718\t,\t0.570422535\t,\t0.669014085\t]\t,\n",
    "[\t0.570422535\t,\t0.669014085\t,\t0.697183099\t]\t,\n",
    "[\t0.669014085\t,\t0.697183099\t,\t0.971830986\t]\t,\n",
    "[\t0.697183099\t,\t0.971830986\t,\t0.591549296\t]\t,\n",
    "[\t0.971830986\t,\t0.591549296\t,\t0.281690141\t]\t,\n",
    "[\t0.591549296\t,\t0.281690141\t,\t0.26056338\t]\t,\n",
    "[\t0.281690141\t,\t0.26056338\t,\t0.464788732\t]\t,\n",
    "[\t0.26056338\t,\t0.464788732\t,\t0.992957746\t]\t,\n",
    "[\t0.464788732\t,\t0.992957746\t,\t0.676056338\t]\t,\n",
    "[\t0.992957746\t,\t0.676056338\t,\t0.253521127\t]\t,\n",
    "[\t0.676056338\t,\t0.253521127\t,\t0.450704225\t]\t,\n",
    "[\t0.253521127\t,\t0.450704225\t,\t0\t]\t,\n",
    "[\t0.450704225\t,\t0\t,\t0.485915493\t]\t,\n",
    "[\t0\t,\t0.485915493\t,\t0.781690141\t]\t,\n",
    "[\t0.485915493\t,\t0.781690141\t,\t0.802816901\t]\t,\n",
    "[\t0.781690141\t,\t0.802816901\t,\t0.302816901\t]\t,\n",
    "[\t0.802816901\t,\t0.302816901\t,\t0.471830986\t]\t,\n",
    "[\t0.302816901\t,\t0.471830986\t,\t0.415492958\t]\t,\n",
    "[\t0.471830986\t,\t0.415492958\t,\t0.647887324\t]\t,\n",
    "[\t0.415492958\t,\t0.647887324\t,\t0.612676056\t]\t,\n",
    "[\t0.647887324\t,\t0.612676056\t,\t1\t]\t,\n",
    "[\t0.612676056\t,\t1\t,\t0.478873239\t]\t,\n",
    "[\t1\t,\t0.478873239\t,\t0.302816901\t]\t,\n",
    "[\t0.478873239\t,\t0.302816901\t,\t0.38028169\t]\t,\n",
    "[\t0.302816901\t,\t0.38028169\t,\t0.591549296\t]\t,\n",
    "[\t0.38028169\t,\t0.591549296\t,\t0.802816901\t]\t,\n",
    "[\t0.591549296\t,\t0.802816901\t,\t0.471830986\t]\t,\n",
    "[\t0.802816901\t,\t0.471830986\t,\t0.267605634\t]\t,\n",
    "[\t0.471830986\t,\t0.267605634\t,\t0.408450704\t]\t,\n",
    "[\t0.267605634\t,\t0.408450704\t,\t0.323943662\t]\t,\n",
    "[\t0.408450704\t,\t0.323943662\t,\t0.457746479\t]\t,\n",
    "[\t0.323943662\t,\t0.457746479\t,\t0.816901408\t]\t,\n",
    "[\t0.457746479\t,\t0.816901408\t,\t0.753521127\t]\t,\n",
    "[\t0.816901408\t,\t0.753521127\t,\t0.436619718\t]\t,\n",
    "[\t0.753521127\t,\t0.436619718\t,\t0.457746479\t]\t,\n",
    "[\t0.436619718\t,\t0.457746479\t,\t0.387323944\t]\t,\n",
    "[\t0.457746479\t,\t0.387323944\t,\t0.464788732\t]\t,\n",
    "[\t0.387323944\t,\t0.464788732\t,\t0.732394366\t]\t,\n",
    "[\t0.464788732\t,\t0.732394366\t,\t0.514084507\t]\t,\n",
    "[\t0.732394366\t,\t0.514084507\t,\t0.281690141\t]\t,\n",
    "[\t0.514084507\t,\t0.281690141\t,\t0.190140845\t]\t,\n",
    "[\t0.281690141\t,\t0.190140845\t,\t0.514084507\t]\t,\n",
    "[\t0.190140845\t,\t0.514084507\t,\t0.507042254\t]\t,\n",
    "[\t0.514084507\t,\t0.507042254\t,\t0.753521127\t]\t,\n",
    "\n",
    ")\n",
    ", dtype=float)\n",
    "trainY = np.array(([\t0.570422535\t]\t,\n",
    "[\t0.669014085\t]\t,\n",
    "[\t0.697183099\t]\t,\n",
    "[\t0.971830986\t]\t,\n",
    "[\t0.591549296\t]\t,\n",
    "[\t0.281690141\t]\t,\n",
    "[\t0.26056338\t]\t,\n",
    "[\t0.464788732\t]\t,\n",
    "[\t0.992957746\t]\t,\n",
    "[\t0.676056338\t]\t,\n",
    "[\t0.253521127\t]\t,\n",
    "[\t0.450704225\t]\t,\n",
    "[\t0\t]\t,\n",
    "[\t0.485915493\t]\t,\n",
    "[\t0.781690141\t]\t,\n",
    "[\t0.802816901\t]\t,\n",
    "[\t0.302816901\t]\t,\n",
    "[\t0.471830986\t]\t,\n",
    "[\t0.415492958\t]\t,\n",
    "[\t0.647887324\t]\t,\n",
    "[\t0.612676056\t]\t,\n",
    "[\t1\t]\t,\n",
    "[\t0.478873239\t]\t,\n",
    "[\t0.302816901\t]\t,\n",
    "[\t0.38028169\t]\t,\n",
    "[\t0.591549296\t]\t,\n",
    "[\t0.802816901\t]\t,\n",
    "[\t0.471830986\t]\t,\n",
    "[\t0.267605634\t]\t,\n",
    "[\t0.408450704\t]\t,\n",
    "[\t0.323943662\t]\t,\n",
    "[\t0.457746479\t]\t,\n",
    "[\t0.816901408\t]\t,\n",
    "[\t0.753521127\t]\t,\n",
    "[\t0.436619718\t]\t,\n",
    "[\t0.457746479\t]\t,\n",
    "[\t0.387323944\t]\t,\n",
    "[\t0.464788732\t]\t,\n",
    "[\t0.732394366\t]\t,\n",
    "[\t0.514084507\t]\t,\n",
    "[\t0.281690141\t]\t,\n",
    "[\t0.190140845\t]\t,\n",
    "[\t0.514084507\t]\t,\n",
    "[\t0.507042254\t]\t,\n",
    "[\t0.753521127\t]\t,\n",
    "[\t0.542253521\t]\t,\n",
    "\n",
    ")\n",
    ", dtype=float)\n",
    "\n",
    "#Testing Data:\n",
    "testX = np.array(([\t0.507042254\t,\t0.753521127\t,\t0.542253521\t]\t,\n",
    "[\t0.753521127\t,\t0.542253521\t,\t0.26056338\t]\t,\n",
    "[\t0.542253521\t,\t0.26056338\t,\t0.394366197\t]\t,\n",
    "[\t0.26056338\t,\t0.394366197\t,\t0.626760563\t]\t,\n",
    "[\t0.394366197\t,\t0.626760563\t,\t0.795774648\t]\t,\n",
    "[\t0.626760563\t,\t0.795774648\t,\t0.704225352\t]\t,\n",
    "[\t0.795774648\t,\t0.704225352\t,\t0.535211268\t]\t,\n",
    "[\t0.704225352\t,\t0.535211268\t,\t0.401408451\t]\t,\n",
    "[\t0.535211268\t,\t0.401408451\t,\t0.126760563\t]\t,\n",
    "[\t0.401408451\t,\t0.126760563\t,\t0.330985915\t]\t,\n",
    "[\t0.126760563\t,\t0.330985915\t,\t0.415492958\t]\t,\n",
    "[\t0.330985915\t,\t0.415492958\t,\t0.556338028\t]\t,\n",
    "[\t0.415492958\t,\t0.556338028\t,\t0.591549296\t]\t,\n",
    "\n",
    "\n",
    ")\n",
    ", dtype=float)\n",
    "testY = np.array(([\t0.26056338\t]\t,\n",
    "[\t0.394366197\t]\t,\n",
    "[\t0.626760563\t]\t,\n",
    "[\t0.795774648\t]\t,\n",
    "[\t0.704225352\t]\t,\n",
    "[\t0.535211268\t]\t,\n",
    "[\t0.401408451\t]\t,\n",
    "[\t0.126760563\t]\t,\n",
    "[\t0.330985915\t]\t,\n",
    "[\t0.415492958\t]\t,\n",
    "[\t0.556338028\t]\t,\n",
    "[\t0.591549296\t]\t,\n",
    "[\t0.514084507\t]\t,\n",
    "\n",
    "\n",
    ")\n",
    ", dtype=float)\n",
    "\n",
    "\n",
    "dataprediksi = np.array(([\t0.556338028\t,\t0.591549296\t,\t0.514084507\t]\t,\n",
    "[\t0.591549296\t,\t0.514084507\t,\t0.387323944\t]\t,\n",
    "[\t0.514084507\t,\t0.387323944\t,\t0.373239437\t]\t,\n",
    "[\t0.387323944\t,\t0.373239437\t,\t0.366197183\t]\t,\n",
    "\n",
    "\n",
    "), dtype=float)"
   ]
  },
  {
   "cell_type": "code",
   "execution_count": 15,
   "metadata": {},
   "outputs": [
    {
     "data": {
      "text/plain": [
       "array([[0.50704225, 0.75352113, 0.54225352],\n",
       "       [0.75352113, 0.54225352, 0.26056338],\n",
       "       [0.54225352, 0.26056338, 0.3943662 ],\n",
       "       [0.26056338, 0.3943662 , 0.62676056],\n",
       "       [0.3943662 , 0.62676056, 0.79577465],\n",
       "       [0.62676056, 0.79577465, 0.70422535],\n",
       "       [0.79577465, 0.70422535, 0.53521127],\n",
       "       [0.70422535, 0.53521127, 0.40140845],\n",
       "       [0.53521127, 0.40140845, 0.12676056],\n",
       "       [0.40140845, 0.12676056, 0.33098592],\n",
       "       [0.12676056, 0.33098592, 0.41549296],\n",
       "       [0.33098592, 0.41549296, 0.55633803],\n",
       "       [0.41549296, 0.55633803, 0.5915493 ]])"
      ]
     },
     "execution_count": 15,
     "metadata": {},
     "output_type": "execute_result"
    }
   ],
   "source": [
    "testX"
   ]
  },
  {
   "cell_type": "code",
   "execution_count": 16,
   "metadata": {},
   "outputs": [],
   "source": [
    "##Need to modify trainer class a bit to check testing error during training:\n",
    "class trainer(object):\n",
    "    def __init__(self, N):\n",
    "        #Make Local reference to network:\n",
    "        self.N = N\n",
    "        \n",
    "    def callbackF(self, params):\n",
    "        self.N.setParams(params)\n",
    "        self.J.append(self.N.costFunction(self.X, self.y))\n",
    "        self.testJ.append(self.N.costFunction(self.testX, self.testY))\n",
    "        \n",
    "    def costFunctionWrapper(self, params, X, y):\n",
    "        self.N.setParams(params)\n",
    "        cost = self.N.costFunction(X, y)\n",
    "        grad = self.N.computeGradients(X,y)\n",
    "        \n",
    "        return cost, grad\n",
    "        \n",
    "    def train(self, trainX, trainY, testX, testY):\n",
    "        #Make an internal variable for the callback function:\n",
    "        self.X = trainX\n",
    "        self.y = trainY\n",
    "        \n",
    "        self.testX = testX\n",
    "        self.testY = testY\n",
    "\n",
    "        #Make empty list to store training costs:\n",
    "        self.J = []\n",
    "        self.testJ = []\n",
    "        \n",
    "        params0 = self.N.getParams()\n",
    "\n",
    "        options = {'maxiter': 100, 'disp' : True}\n",
    "        _res = optimize.minimize(self.costFunctionWrapper, params0, jac=True, method='BFGS', \\\n",
    "                                 args=(trainX, trainY), options=options, callback=self.callbackF)\n",
    "\n",
    "        self.N.setParams(_res.x)\n",
    "        self.optimizationResults = _res"
   ]
  },
  {
   "cell_type": "code",
   "execution_count": 17,
   "metadata": {},
   "outputs": [
    {
     "name": "stdout",
     "output_type": "stream",
     "text": [
      "Optimization terminated successfully.\n",
      "         Current function value: 0.859012\n",
      "         Iterations: 37\n",
      "         Function evaluations: 44\n",
      "         Gradient evaluations: 44\n"
     ]
    }
   ],
   "source": [
    "#Train network with new data:\n",
    "NN = Neural_Network()\n",
    "\n",
    "T = trainer(NN)\n",
    "T.train(trainX, trainY, testX, testY)"
   ]
  },
  {
   "cell_type": "code",
   "execution_count": 18,
   "metadata": {},
   "outputs": [
    {
     "data": {
      "image/png": "[encoded data removed]",
      "text/plain": [
       "<Figure size 432x288 with 1 Axes>"
      ]
     },
     "metadata": {
      "needs_background": "light"
     },
     "output_type": "display_data"
    }
   ],
   "source": [
    "#Plot cost during training:\n",
    "plot.plot(T.J)\n",
    "plot.plot(T.testJ)\n",
    "plot.grid(1)\n",
    "plot.xlabel('Iterations')\n",
    "plot.ylabel('Cost')\n",
    "plot.legend(['Training', 'Testing'])\n",
    "plot.show()"
   ]
  },
  {
   "cell_type": "code",
   "execution_count": 19,
   "metadata": {},
   "outputs": [
    {
     "data": {
      "text/plain": [
       "[array([1.08776128]),\n",
       " array([1.08506333]),\n",
       " array([1.08010242]),\n",
       " array([1.04286857]),\n",
       " array([0.99793901]),\n",
       " array([0.97030979]),\n",
       " array([0.9670169]),\n",
       " array([0.96104314]),\n",
       " array([0.91461318]),\n",
       " array([0.89647196]),\n",
       " array([0.88511735]),\n",
       " array([0.86847104]),\n",
       " array([0.86455698]),\n",
       " array([0.86151153]),\n",
       " array([0.86148712]),\n",
       " array([0.86141821]),\n",
       " array([0.86128957]),\n",
       " array([0.8610463]),\n",
       " array([0.8606017]),\n",
       " array([0.85993847]),\n",
       " array([0.859689]),\n",
       " array([0.85964329]),\n",
       " array([0.85963225]),\n",
       " array([0.85961699]),\n",
       " array([0.85960828]),\n",
       " array([0.85959763]),\n",
       " array([0.85957905]),\n",
       " array([0.85954557]),\n",
       " array([0.8594854]),\n",
       " array([0.8593817]),\n",
       " array([0.85922453]),\n",
       " array([0.85909813]),\n",
       " array([0.85903768]),\n",
       " array([0.85901498]),\n",
       " array([0.85901246]),\n",
       " array([0.85901237]),\n",
       " array([0.85901237])]"
      ]
     },
     "execution_count": 19,
     "metadata": {},
     "output_type": "execute_result"
    }
   ],
   "source": [
    "T.J"
   ]
  },
  {
   "cell_type": "code",
   "execution_count": 20,
   "metadata": {},
   "outputs": [
    {
     "data": {
      "text/plain": [
       "[array([0.21503838]),\n",
       " array([0.21267119]),\n",
       " array([0.21041605]),\n",
       " array([0.19918666]),\n",
       " array([0.19082642]),\n",
       " array([0.18476361]),\n",
       " array([0.18344228]),\n",
       " array([0.1812465]),\n",
       " array([0.16424209]),\n",
       " array([0.16294824]),\n",
       " array([0.16759433]),\n",
       " array([0.17084788]),\n",
       " array([0.16932338]),\n",
       " array([0.1692539]),\n",
       " array([0.16965374]),\n",
       " array([0.16919008]),\n",
       " array([0.1686533]),\n",
       " array([0.16783367]),\n",
       " array([0.16645887]),\n",
       " array([0.16409136]),\n",
       " array([0.16256928]),\n",
       " array([0.1628329]),\n",
       " array([0.16281643]),\n",
       " array([0.16295402]),\n",
       " array([0.16314046]),\n",
       " array([0.1633339]),\n",
       " array([0.16352401]),\n",
       " array([0.16370595]),\n",
       " array([0.1638694]),\n",
       " array([0.16395742]),\n",
       " array([0.1637804]),\n",
       " array([0.16313758]),\n",
       " array([0.1624438]),\n",
       " array([0.16194383]),\n",
       " array([0.16182846]),\n",
       " array([0.16182368]),\n",
       " array([0.16182664])]"
      ]
     },
     "execution_count": 20,
     "metadata": {},
     "output_type": "execute_result"
    }
   ],
   "source": [
    "T.testJ"
   ]
  },
  {
   "cell_type": "code",
   "execution_count": 21,
   "metadata": {},
   "outputs": [
    {
     "data": {
      "text/plain": [
       "0.727044579567569"
      ]
     },
     "execution_count": 21,
     "metadata": {},
     "output_type": "execute_result"
    }
   ],
   "source": [
    "from sklearn.metrics import mean_absolute_error\n",
    "mean_absolute_error(T.J, T.testJ)"
   ]
  },
  {
   "cell_type": "code",
   "execution_count": 22,
   "metadata": {},
   "outputs": [],
   "source": [
    "yHat = NN.forward(X)"
   ]
  },
  {
   "cell_type": "code",
   "execution_count": 23,
   "metadata": {},
   "outputs": [
    {
     "data": {
      "text/plain": [
       "array([[0.7184395 ],\n",
       "       [0.7137237 ],\n",
       "       [0.5784036 ],\n",
       "       [0.53073095],\n",
       "       [0.57469822],\n",
       "       [0.50180749],\n",
       "       [0.5001758 ],\n",
       "       [0.50797382],\n",
       "       [0.64215055],\n",
       "       [0.7412593 ],\n",
       "       [0.51390913],\n",
       "       [0.50008601],\n",
       "       [0.51808881],\n",
       "       [0.50637987],\n",
       "       [0.651099  ],\n",
       "       [0.74328795],\n",
       "       [0.56039136],\n",
       "       [0.50029349],\n",
       "       [0.50733488],\n",
       "       [0.55853646],\n",
       "       [0.59585268],\n",
       "       [0.55013186],\n",
       "       [0.6175479 ],\n",
       "       [0.50131102],\n",
       "       [0.5002765 ],\n",
       "       [0.53262546],\n",
       "       [0.65447983],\n",
       "       [0.65374921],\n",
       "       [0.50344144],\n",
       "       [0.50086486],\n",
       "       [0.54590904],\n",
       "       [0.5537225 ],\n",
       "       [0.56936441],\n",
       "       [0.70747298],\n",
       "       [0.54739374],\n",
       "       [0.50072172],\n",
       "       [0.5051926 ],\n",
       "       [0.52384441],\n",
       "       [0.54417554],\n",
       "       [0.65549461],\n",
       "       [0.51443932],\n",
       "       [0.50127953],\n",
       "       [0.50833544],\n",
       "       [0.68033091],\n",
       "       [0.62897478],\n",
       "       [0.5978268 ],\n",
       "       [0.51205565],\n",
       "       [0.50084522],\n",
       "       [0.52855422],\n",
       "       [0.6811387 ],\n",
       "       [0.63478909],\n",
       "       [0.51337038],\n",
       "       [0.50204255],\n",
       "       [0.50320864],\n",
       "       [0.50279028],\n",
       "       [0.571916  ],\n",
       "       [0.66705389],\n",
       "       [0.61684072],\n",
       "       [0.56162267]])"
      ]
     },
     "execution_count": 23,
     "metadata": {},
     "output_type": "execute_result"
    }
   ],
   "source": [
    "yHat"
   ]
  },
  {
   "cell_type": "code",
   "execution_count": 24,
   "metadata": {},
   "outputs": [
    {
     "data": {
      "text/plain": [
       "array([[0.57042253],\n",
       "       [0.66901409],\n",
       "       [0.6971831 ],\n",
       "       [0.97183099],\n",
       "       [0.5915493 ],\n",
       "       [0.28169014],\n",
       "       [0.26056338],\n",
       "       [0.46478873],\n",
       "       [0.99295775],\n",
       "       [0.67605634],\n",
       "       [0.25352113],\n",
       "       [0.45070423],\n",
       "       [0.        ],\n",
       "       [0.48591549],\n",
       "       [0.78169014],\n",
       "       [0.8028169 ],\n",
       "       [0.3028169 ],\n",
       "       [0.47183099],\n",
       "       [0.41549296],\n",
       "       [0.64788732],\n",
       "       [0.61267606],\n",
       "       [1.        ],\n",
       "       [0.47887324],\n",
       "       [0.3028169 ],\n",
       "       [0.38028169],\n",
       "       [0.5915493 ],\n",
       "       [0.8028169 ],\n",
       "       [0.47183099],\n",
       "       [0.26760563],\n",
       "       [0.4084507 ],\n",
       "       [0.32394366],\n",
       "       [0.45774648],\n",
       "       [0.81690141],\n",
       "       [0.75352113],\n",
       "       [0.43661972],\n",
       "       [0.45774648],\n",
       "       [0.38732394],\n",
       "       [0.46478873],\n",
       "       [0.73239437],\n",
       "       [0.51408451],\n",
       "       [0.28169014],\n",
       "       [0.19014085],\n",
       "       [0.51408451],\n",
       "       [0.50704225],\n",
       "       [0.75352113],\n",
       "       [0.54225352],\n",
       "       [0.26056338],\n",
       "       [0.3943662 ],\n",
       "       [0.62676056],\n",
       "       [0.79577465],\n",
       "       [0.70422535],\n",
       "       [0.53521127],\n",
       "       [0.40140845],\n",
       "       [0.12676056],\n",
       "       [0.33098592],\n",
       "       [0.41549296],\n",
       "       [0.55633803],\n",
       "       [0.5915493 ],\n",
       "       [0.51408451]])"
      ]
     },
     "execution_count": 24,
     "metadata": {},
     "output_type": "execute_result"
    }
   ],
   "source": [
    "y"
   ]
  },
  {
   "cell_type": "code",
   "execution_count": 25,
   "metadata": {},
   "outputs": [
    {
     "data": {
      "text/plain": [
       "0.03460471199402641"
      ]
     },
     "execution_count": 25,
     "metadata": {},
     "output_type": "execute_result"
    }
   ],
   "source": [
    "from sklearn.metrics import mean_squared_error \n",
    "mean_squared_error(y,yHat) "
   ]
  },
  {
   "cell_type": "code",
   "execution_count": 26,
   "metadata": {},
   "outputs": [
    {
     "data": {
      "image/png": "[encoded data removed]",
      "text/plain": [
       "<Figure size 432x288 with 1 Axes>"
      ]
     },
     "metadata": {
      "needs_background": "light"
     },
     "output_type": "display_data"
    }
   ],
   "source": [
    "#Plot cost during training:\n",
    "plot.plot(y)\n",
    "plot.plot(yHat)\n",
    "plot.grid(1)\n",
    "plot.legend(['y', 'yHat'])\n",
    "plot.show()"
   ]
  },
  {
   "cell_type": "code",
   "execution_count": null,
   "metadata": {},
   "outputs": [],
   "source": []
  }
 ],
 "metadata": {
  "kernelspec": {
   "display_name": "Python 3",
   "language": "python",
   "name": "python3"
  },
  "language_info": {
   "codemirror_mode": {
    "name": "ipython",
    "version": 3
   },
   "file_extension": ".py",
   "mimetype": "text/x-python",
   "name": "python",
   "nbconvert_exporter": "python",
   "pygments_lexer": "ipython3",
   "version": "3.7.3"
  }
 },
 "nbformat": 4,
 "nbformat_minor": 2
}
