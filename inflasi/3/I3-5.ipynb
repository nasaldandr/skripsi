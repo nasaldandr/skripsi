{
 "cells": [
  {
   "cell_type": "code",
   "execution_count": 1,
   "metadata": {},
   "outputs": [],
   "source": [
    "import numpy as np"
   ]
  },
  {
   "cell_type": "code",
   "execution_count": 2,
   "metadata": {},
   "outputs": [],
   "source": [
    "#UNTUK NILAI IMPOR\n",
    "class Neural_Network(object):\n",
    "    def __init__(self):\n",
    "        #parameters\n",
    "        self.inputLayerSize = 3\n",
    "        self.outputLayerSize = 1\n",
    "        self.hiddenLayerSize = 5\n",
    "\n",
    "        #weights\n",
    "        self.W1 = np.random.randn(self.inputLayerSize,\\\n",
    "                                 self.hiddenLayerSize)  \n",
    "        self.W2 = np.random.randn(self.hiddenLayerSize,\\\n",
    "                                 self.outputLayerSize)  \n",
    "    \n",
    "    def printw(self):\n",
    "        return self.W1\n",
    "        \n",
    "    def weight(self, W1, W2):\n",
    "        #Make an internal variable for the weight:\n",
    "        self.W1 = W1\n",
    "        self.W2 = W2\n",
    "        \n",
    "    def forward(self, X):\n",
    "        #forward propagation through our network\n",
    "        self.z2 = np.dot(X,self.W1)  \n",
    "        self.a2 = self.tanh(self.z2)  # activation function\n",
    "        self.z3 = np.dot(self.a2, self.W2) \n",
    "        yHat = self.tanh(self.z3)  # final activation function\n",
    "        return yHat\n",
    "\n",
    "    def tanh(self, z):\n",
    "        # activation function\n",
    "        return (np.exp(z)-np.exp(-z))/(np.exp(z)+np.exp(-z))\n",
    "    \n",
    "    def tanhPrime(self,z): \n",
    "        #derivative of tanh\n",
    "        return 1-((np.exp(z)-np.exp(-z))/(np.exp(z)+np.exp(-z)))**2\n",
    "    \n",
    "    def costFunction(self,X,y):\n",
    "        self.yHat = self.forward(X)\n",
    "        J=0.5*sum((y-self.yHat)**2)\n",
    "        return J\n",
    "    \n",
    "    def costFunctionPrime(self,X,y):\n",
    "        self.yHat=self.forward(X)\n",
    "        \n",
    "        delta3=np.multiply(-(y-self.yHat),self.tanhPrime(self.z3))\n",
    "        dJdW2=np.dot(self.a2.T,delta3)\n",
    "        \n",
    "        delta2=np.dot(delta3,self.W2.T)*self.tanhPrime(self.z2)\n",
    "        dJdW1=np.dot(X.T,delta2)\n",
    "        return dJdW1,dJdW2\n",
    "    \n",
    "    def predict(self):\n",
    "        prediksi = self.forward(dataprediksi)\n",
    "        return prediksi\n",
    "    \n",
    "    def getParams(self):\n",
    "        params=np.concatenate((self.W1.ravel(),self.W2.ravel()))\n",
    "        return params\n",
    "    \n",
    "    def setParams(self,params):\n",
    "        W1_start=0\n",
    "        W1_end=self.hiddenLayerSize*self.inputLayerSize\n",
    "        self.W1=np.reshape(params[W1_start:W1_end],\\\n",
    "                          (self.inputLayerSize,self.hiddenLayerSize))\n",
    "        W2_end=W1_end+self.hiddenLayerSize*self.outputLayerSize\n",
    "        self.W2=np.reshape(params[W1_end:W2_end],\\\n",
    "                          (self.hiddenLayerSize,self.outputLayerSize))\n",
    "        \n",
    "    def computeGradients(self, X, y):\n",
    "        dJdW1, dJdW2 = self.costFunctionPrime(X, y)\n",
    "        return np.concatenate((dJdW1.ravel(), dJdW2.ravel()))"
   ]
  },
  {
   "cell_type": "code",
   "execution_count": 3,
   "metadata": {},
   "outputs": [],
   "source": [
    "NN = Neural_Network()"
   ]
  },
  {
   "cell_type": "code",
   "execution_count": 4,
   "metadata": {},
   "outputs": [
    {
     "data": {
      "text/plain": [
       "array([[ 1.06421876, -0.81590457, -1.07065396, -0.17405591, -0.80108201],\n",
       "       [-1.23902474,  0.73950754, -0.78842799, -0.24928516,  0.19205807],\n",
       "       [-1.26828017, -1.20112939,  0.34779708,  2.08348421,  0.33655461]])"
      ]
     },
     "execution_count": 4,
     "metadata": {},
     "output_type": "execute_result"
    }
   ],
   "source": [
    "NN.W1"
   ]
  },
  {
   "cell_type": "code",
   "execution_count": 5,
   "metadata": {},
   "outputs": [
    {
     "data": {
      "text/plain": [
       "array([[ 1.96982515],\n",
       "       [-0.72327309],\n",
       "       [ 1.08935613],\n",
       "       [ 0.50525149],\n",
       "       [-1.25774582]])"
      ]
     },
     "execution_count": 5,
     "metadata": {},
     "output_type": "execute_result"
    }
   ],
   "source": [
    "NN.W2"
   ]
  },
  {
   "cell_type": "code",
   "execution_count": 6,
   "metadata": {},
   "outputs": [],
   "source": [
    "#NILAI IMPOR\n",
    "X=np.array(([\t0.147887324\t,\t0.063380282\t,\t0.436619718\t]\t,\n",
    "[\t0.063380282\t,\t0.436619718\t,\t0.570422535\t]\t,\n",
    "[\t0.436619718\t,\t0.570422535\t,\t0.669014085\t]\t,\n",
    "[\t0.570422535\t,\t0.669014085\t,\t0.697183099\t]\t,\n",
    "[\t0.669014085\t,\t0.697183099\t,\t0.971830986\t]\t,\n",
    "[\t0.697183099\t,\t0.971830986\t,\t0.591549296\t]\t,\n",
    "[\t0.971830986\t,\t0.591549296\t,\t0.281690141\t]\t,\n",
    "[\t0.591549296\t,\t0.281690141\t,\t0.26056338\t]\t,\n",
    "[\t0.281690141\t,\t0.26056338\t,\t0.464788732\t]\t,\n",
    "[\t0.26056338\t,\t0.464788732\t,\t0.992957746\t]\t,\n",
    "[\t0.464788732\t,\t0.992957746\t,\t0.676056338\t]\t,\n",
    "[\t0.992957746\t,\t0.676056338\t,\t0.253521127\t]\t,\n",
    "[\t0.676056338\t,\t0.253521127\t,\t0.450704225\t]\t,\n",
    "[\t0.253521127\t,\t0.450704225\t,\t0\t]\t,\n",
    "[\t0.450704225\t,\t0\t,\t0.485915493\t]\t,\n",
    "[\t0\t,\t0.485915493\t,\t0.781690141\t]\t,\n",
    "[\t0.485915493\t,\t0.781690141\t,\t0.802816901\t]\t,\n",
    "[\t0.781690141\t,\t0.802816901\t,\t0.302816901\t]\t,\n",
    "[\t0.802816901\t,\t0.302816901\t,\t0.471830986\t]\t,\n",
    "[\t0.302816901\t,\t0.471830986\t,\t0.415492958\t]\t,\n",
    "[\t0.471830986\t,\t0.415492958\t,\t0.647887324\t]\t,\n",
    "[\t0.415492958\t,\t0.647887324\t,\t0.612676056\t]\t,\n",
    "[\t0.647887324\t,\t0.612676056\t,\t1\t]\t,\n",
    "[\t0.612676056\t,\t1\t,\t0.478873239\t]\t,\n",
    "[\t1\t,\t0.478873239\t,\t0.302816901\t]\t,\n",
    "[\t0.478873239\t,\t0.302816901\t,\t0.38028169\t]\t,\n",
    "[\t0.302816901\t,\t0.38028169\t,\t0.591549296\t]\t,\n",
    "[\t0.38028169\t,\t0.591549296\t,\t0.802816901\t]\t,\n",
    "[\t0.591549296\t,\t0.802816901\t,\t0.471830986\t]\t,\n",
    "[\t0.802816901\t,\t0.471830986\t,\t0.267605634\t]\t,\n",
    "[\t0.471830986\t,\t0.267605634\t,\t0.408450704\t]\t,\n",
    "[\t0.267605634\t,\t0.408450704\t,\t0.323943662\t]\t,\n",
    "[\t0.408450704\t,\t0.323943662\t,\t0.457746479\t]\t,\n",
    "[\t0.323943662\t,\t0.457746479\t,\t0.816901408\t]\t,\n",
    "[\t0.457746479\t,\t0.816901408\t,\t0.753521127\t]\t,\n",
    "[\t0.816901408\t,\t0.753521127\t,\t0.436619718\t]\t,\n",
    "[\t0.753521127\t,\t0.436619718\t,\t0.457746479\t]\t,\n",
    "[\t0.436619718\t,\t0.457746479\t,\t0.387323944\t]\t,\n",
    "[\t0.457746479\t,\t0.387323944\t,\t0.464788732\t]\t,\n",
    "[\t0.387323944\t,\t0.464788732\t,\t0.732394366\t]\t,\n",
    "[\t0.464788732\t,\t0.732394366\t,\t0.514084507\t]\t,\n",
    "[\t0.732394366\t,\t0.514084507\t,\t0.281690141\t]\t,\n",
    "[\t0.514084507\t,\t0.281690141\t,\t0.190140845\t]\t,\n",
    "[\t0.281690141\t,\t0.190140845\t,\t0.514084507\t]\t,\n",
    "[\t0.190140845\t,\t0.514084507\t,\t0.507042254\t]\t,\n",
    "[\t0.514084507\t,\t0.507042254\t,\t0.753521127\t]\t,\n",
    "[\t0.507042254\t,\t0.753521127\t,\t0.542253521\t]\t,\n",
    "[\t0.753521127\t,\t0.542253521\t,\t0.26056338\t]\t,\n",
    "[\t0.542253521\t,\t0.26056338\t,\t0.394366197\t]\t,\n",
    "[\t0.26056338\t,\t0.394366197\t,\t0.626760563\t]\t,\n",
    "[\t0.394366197\t,\t0.626760563\t,\t0.795774648\t]\t,\n",
    "[\t0.626760563\t,\t0.795774648\t,\t0.704225352\t]\t,\n",
    "[\t0.795774648\t,\t0.704225352\t,\t0.535211268\t]\t,\n",
    "[\t0.704225352\t,\t0.535211268\t,\t0.401408451\t]\t,\n",
    "[\t0.535211268\t,\t0.401408451\t,\t0.126760563\t]\t,\n",
    "[\t0.401408451\t,\t0.126760563\t,\t0.330985915\t]\t,\n",
    "[\t0.126760563\t,\t0.330985915\t,\t0.415492958\t]\t,\n",
    "[\t0.330985915\t,\t0.415492958\t,\t0.556338028\t]\t,\n",
    "[\t0.415492958\t,\t0.556338028\t,\t0.591549296\t]\t,\n",
    "\n",
    "\n",
    ")           \n",
    ",dtype=float)\n",
    "y=np.array(([\t0.570422535\t]\t,\n",
    "[\t0.669014085\t]\t,\n",
    "[\t0.697183099\t]\t,\n",
    "[\t0.971830986\t]\t,\n",
    "[\t0.591549296\t]\t,\n",
    "[\t0.281690141\t]\t,\n",
    "[\t0.26056338\t]\t,\n",
    "[\t0.464788732\t]\t,\n",
    "[\t0.992957746\t]\t,\n",
    "[\t0.676056338\t]\t,\n",
    "[\t0.253521127\t]\t,\n",
    "[\t0.450704225\t]\t,\n",
    "[\t0\t]\t,\n",
    "[\t0.485915493\t]\t,\n",
    "[\t0.781690141\t]\t,\n",
    "[\t0.802816901\t]\t,\n",
    "[\t0.302816901\t]\t,\n",
    "[\t0.471830986\t]\t,\n",
    "[\t0.415492958\t]\t,\n",
    "[\t0.647887324\t]\t,\n",
    "[\t0.612676056\t]\t,\n",
    "[\t1\t]\t,\n",
    "[\t0.478873239\t]\t,\n",
    "[\t0.302816901\t]\t,\n",
    "[\t0.38028169\t]\t,\n",
    "[\t0.591549296\t]\t,\n",
    "[\t0.802816901\t]\t,\n",
    "[\t0.471830986\t]\t,\n",
    "[\t0.267605634\t]\t,\n",
    "[\t0.408450704\t]\t,\n",
    "[\t0.323943662\t]\t,\n",
    "[\t0.457746479\t]\t,\n",
    "[\t0.816901408\t]\t,\n",
    "[\t0.753521127\t]\t,\n",
    "[\t0.436619718\t]\t,\n",
    "[\t0.457746479\t]\t,\n",
    "[\t0.387323944\t]\t,\n",
    "[\t0.464788732\t]\t,\n",
    "[\t0.732394366\t]\t,\n",
    "[\t0.514084507\t]\t,\n",
    "[\t0.281690141\t]\t,\n",
    "[\t0.190140845\t]\t,\n",
    "[\t0.514084507\t]\t,\n",
    "[\t0.507042254\t]\t,\n",
    "[\t0.753521127\t]\t,\n",
    "[\t0.542253521\t]\t,\n",
    "[\t0.26056338\t]\t,\n",
    "[\t0.394366197\t]\t,\n",
    "[\t0.626760563\t]\t,\n",
    "[\t0.795774648\t]\t,\n",
    "[\t0.704225352\t]\t,\n",
    "[\t0.535211268\t]\t,\n",
    "[\t0.401408451\t]\t,\n",
    "[\t0.126760563\t]\t,\n",
    "[\t0.330985915\t]\t,\n",
    "[\t0.415492958\t]\t,\n",
    "[\t0.556338028\t]\t,\n",
    "[\t0.591549296\t]\t,\n",
    "[\t0.514084507\t]\t,\n",
    "\n",
    ")\n",
    ",dtype=float)\n",
    "\n",
    "dataprediksi = np.array(([\t0.556338028\t,\t0.591549296\t,\t0.514084507\t]\t,\n",
    "[\t0.591549296\t,\t0.514084507\t,\t0.387323944\t]\t,\n",
    "[\t0.514084507\t,\t0.387323944\t,\t0.373239437\t]\t,\n",
    "[\t0.387323944\t,\t0.373239437\t,\t0.366197183\t]\t,\n",
    "\n",
    "\n",
    "), dtype=float)\n"
   ]
  },
  {
   "cell_type": "code",
   "execution_count": 7,
   "metadata": {},
   "outputs": [],
   "source": [
    "import matplotlib.pyplot as plot"
   ]
  },
  {
   "cell_type": "code",
   "execution_count": 8,
   "metadata": {},
   "outputs": [],
   "source": [
    "from scipy import optimize"
   ]
  },
  {
   "cell_type": "code",
   "execution_count": 9,
   "metadata": {},
   "outputs": [],
   "source": [
    "class trainer(object):\n",
    "    def __init__(self, N):\n",
    "        #Make Local reference to network:\n",
    "        self.N = N\n",
    "        \n",
    "    def callbackF(self, params):\n",
    "        self.N.setParams(params)\n",
    "        self.J.append(self.N.costFunction(self.X, self.y))   \n",
    "        \n",
    "    def costFunctionWrapper(self, params, X, y):\n",
    "        self.N.setParams(params)\n",
    "        cost = self.N.costFunction(X, y)\n",
    "        grad = self.N.computeGradients(X,y)\n",
    "        \n",
    "        return cost, grad\n",
    "        \n",
    "    def train(self, X, y):\n",
    "        #Make an internal variable for the callback function:\n",
    "        self.X = X\n",
    "        self.y = y\n",
    "\n",
    "        #Make empty list to store costs:\n",
    "        self.J = []\n",
    "        \n",
    "        params0 = self.N.getParams()\n",
    "\n",
    "        options = {'maxiter': 100, 'disp' : True}\n",
    "        _res = optimize.minimize(self.costFunctionWrapper, params0, jac=True, method='BFGS', \\\n",
    "                                 args=(X, y), options=options, callback=self.callbackF)\n",
    "\n",
    "        self.N.setParams(_res.x)\n",
    "        self.optimizationResults = _res"
   ]
  },
  {
   "cell_type": "code",
   "execution_count": 10,
   "metadata": {},
   "outputs": [],
   "source": [
    "NN=Neural_Network()"
   ]
  },
  {
   "cell_type": "code",
   "execution_count": 11,
   "metadata": {},
   "outputs": [],
   "source": [
    "T = trainer(NN)"
   ]
  },
  {
   "cell_type": "code",
   "execution_count": 12,
   "metadata": {},
   "outputs": [
    {
     "name": "stdout",
     "output_type": "stream",
     "text": [
      "Warning: Maximum number of iterations has been exceeded.\n",
      "         Current function value: 0.435019\n",
      "         Iterations: 100\n",
      "         Function evaluations: 104\n",
      "         Gradient evaluations: 104\n"
     ]
    }
   ],
   "source": [
    "#Train network with new data:\n",
    "T = trainer(NN)\n",
    "T.train(X,y)"
   ]
  },
  {
   "cell_type": "code",
   "execution_count": 13,
   "metadata": {},
   "outputs": [
    {
     "data": {
      "image/png": "[encoded data removed]",
      "text/plain": [
       "<Figure size 432x288 with 1 Axes>"
      ]
     },
     "metadata": {
      "needs_background": "light"
     },
     "output_type": "display_data"
    }
   ],
   "source": [
    "#Plot cost during training:\n",
    "plot.plot(T.J)\n",
    "plot.grid(1)\n",
    "plot.xlabel('Iterations')\n",
    "plot.ylabel('Cost')\n",
    "plot.show()"
   ]
  },
  {
   "cell_type": "code",
   "execution_count": 14,
   "metadata": {},
   "outputs": [],
   "source": [
    "#Training Data:\n",
    "trainX = np.array(([\t0.147887324\t,\t0.063380282\t,\t0.436619718\t]\t,\n",
    "[\t0.063380282\t,\t0.436619718\t,\t0.570422535\t]\t,\n",
    "[\t0.436619718\t,\t0.570422535\t,\t0.669014085\t]\t,\n",
    "[\t0.570422535\t,\t0.669014085\t,\t0.697183099\t]\t,\n",
    "[\t0.669014085\t,\t0.697183099\t,\t0.971830986\t]\t,\n",
    "[\t0.697183099\t,\t0.971830986\t,\t0.591549296\t]\t,\n",
    "[\t0.971830986\t,\t0.591549296\t,\t0.281690141\t]\t,\n",
    "[\t0.591549296\t,\t0.281690141\t,\t0.26056338\t]\t,\n",
    "[\t0.281690141\t,\t0.26056338\t,\t0.464788732\t]\t,\n",
    "[\t0.26056338\t,\t0.464788732\t,\t0.992957746\t]\t,\n",
    "[\t0.464788732\t,\t0.992957746\t,\t0.676056338\t]\t,\n",
    "[\t0.992957746\t,\t0.676056338\t,\t0.253521127\t]\t,\n",
    "[\t0.676056338\t,\t0.253521127\t,\t0.450704225\t]\t,\n",
    "[\t0.253521127\t,\t0.450704225\t,\t0\t]\t,\n",
    "[\t0.450704225\t,\t0\t,\t0.485915493\t]\t,\n",
    "[\t0\t,\t0.485915493\t,\t0.781690141\t]\t,\n",
    "[\t0.485915493\t,\t0.781690141\t,\t0.802816901\t]\t,\n",
    "[\t0.781690141\t,\t0.802816901\t,\t0.302816901\t]\t,\n",
    "[\t0.802816901\t,\t0.302816901\t,\t0.471830986\t]\t,\n",
    "[\t0.302816901\t,\t0.471830986\t,\t0.415492958\t]\t,\n",
    "[\t0.471830986\t,\t0.415492958\t,\t0.647887324\t]\t,\n",
    "[\t0.415492958\t,\t0.647887324\t,\t0.612676056\t]\t,\n",
    "[\t0.647887324\t,\t0.612676056\t,\t1\t]\t,\n",
    "[\t0.612676056\t,\t1\t,\t0.478873239\t]\t,\n",
    "[\t1\t,\t0.478873239\t,\t0.302816901\t]\t,\n",
    "[\t0.478873239\t,\t0.302816901\t,\t0.38028169\t]\t,\n",
    "[\t0.302816901\t,\t0.38028169\t,\t0.591549296\t]\t,\n",
    "[\t0.38028169\t,\t0.591549296\t,\t0.802816901\t]\t,\n",
    "[\t0.591549296\t,\t0.802816901\t,\t0.471830986\t]\t,\n",
    "[\t0.802816901\t,\t0.471830986\t,\t0.267605634\t]\t,\n",
    "[\t0.471830986\t,\t0.267605634\t,\t0.408450704\t]\t,\n",
    "[\t0.267605634\t,\t0.408450704\t,\t0.323943662\t]\t,\n",
    "[\t0.408450704\t,\t0.323943662\t,\t0.457746479\t]\t,\n",
    "[\t0.323943662\t,\t0.457746479\t,\t0.816901408\t]\t,\n",
    "[\t0.457746479\t,\t0.816901408\t,\t0.753521127\t]\t,\n",
    "[\t0.816901408\t,\t0.753521127\t,\t0.436619718\t]\t,\n",
    "[\t0.753521127\t,\t0.436619718\t,\t0.457746479\t]\t,\n",
    "[\t0.436619718\t,\t0.457746479\t,\t0.387323944\t]\t,\n",
    "[\t0.457746479\t,\t0.387323944\t,\t0.464788732\t]\t,\n",
    "[\t0.387323944\t,\t0.464788732\t,\t0.732394366\t]\t,\n",
    "[\t0.464788732\t,\t0.732394366\t,\t0.514084507\t]\t,\n",
    "[\t0.732394366\t,\t0.514084507\t,\t0.281690141\t]\t,\n",
    "[\t0.514084507\t,\t0.281690141\t,\t0.190140845\t]\t,\n",
    "[\t0.281690141\t,\t0.190140845\t,\t0.514084507\t]\t,\n",
    "[\t0.190140845\t,\t0.514084507\t,\t0.507042254\t]\t,\n",
    "[\t0.514084507\t,\t0.507042254\t,\t0.753521127\t]\t,\n",
    "\n",
    ")\n",
    ", dtype=float)\n",
    "trainY = np.array(([\t0.570422535\t]\t,\n",
    "[\t0.669014085\t]\t,\n",
    "[\t0.697183099\t]\t,\n",
    "[\t0.971830986\t]\t,\n",
    "[\t0.591549296\t]\t,\n",
    "[\t0.281690141\t]\t,\n",
    "[\t0.26056338\t]\t,\n",
    "[\t0.464788732\t]\t,\n",
    "[\t0.992957746\t]\t,\n",
    "[\t0.676056338\t]\t,\n",
    "[\t0.253521127\t]\t,\n",
    "[\t0.450704225\t]\t,\n",
    "[\t0\t]\t,\n",
    "[\t0.485915493\t]\t,\n",
    "[\t0.781690141\t]\t,\n",
    "[\t0.802816901\t]\t,\n",
    "[\t0.302816901\t]\t,\n",
    "[\t0.471830986\t]\t,\n",
    "[\t0.415492958\t]\t,\n",
    "[\t0.647887324\t]\t,\n",
    "[\t0.612676056\t]\t,\n",
    "[\t1\t]\t,\n",
    "[\t0.478873239\t]\t,\n",
    "[\t0.302816901\t]\t,\n",
    "[\t0.38028169\t]\t,\n",
    "[\t0.591549296\t]\t,\n",
    "[\t0.802816901\t]\t,\n",
    "[\t0.471830986\t]\t,\n",
    "[\t0.267605634\t]\t,\n",
    "[\t0.408450704\t]\t,\n",
    "[\t0.323943662\t]\t,\n",
    "[\t0.457746479\t]\t,\n",
    "[\t0.816901408\t]\t,\n",
    "[\t0.753521127\t]\t,\n",
    "[\t0.436619718\t]\t,\n",
    "[\t0.457746479\t]\t,\n",
    "[\t0.387323944\t]\t,\n",
    "[\t0.464788732\t]\t,\n",
    "[\t0.732394366\t]\t,\n",
    "[\t0.514084507\t]\t,\n",
    "[\t0.281690141\t]\t,\n",
    "[\t0.190140845\t]\t,\n",
    "[\t0.514084507\t]\t,\n",
    "[\t0.507042254\t]\t,\n",
    "[\t0.753521127\t]\t,\n",
    "[\t0.542253521\t]\t,\n",
    "\n",
    ")\n",
    ", dtype=float)\n",
    "\n",
    "#Testing Data:\n",
    "testX = np.array(([\t0.507042254\t,\t0.753521127\t,\t0.542253521\t]\t,\n",
    "[\t0.753521127\t,\t0.542253521\t,\t0.26056338\t]\t,\n",
    "[\t0.542253521\t,\t0.26056338\t,\t0.394366197\t]\t,\n",
    "[\t0.26056338\t,\t0.394366197\t,\t0.626760563\t]\t,\n",
    "[\t0.394366197\t,\t0.626760563\t,\t0.795774648\t]\t,\n",
    "[\t0.626760563\t,\t0.795774648\t,\t0.704225352\t]\t,\n",
    "[\t0.795774648\t,\t0.704225352\t,\t0.535211268\t]\t,\n",
    "[\t0.704225352\t,\t0.535211268\t,\t0.401408451\t]\t,\n",
    "[\t0.535211268\t,\t0.401408451\t,\t0.126760563\t]\t,\n",
    "[\t0.401408451\t,\t0.126760563\t,\t0.330985915\t]\t,\n",
    "[\t0.126760563\t,\t0.330985915\t,\t0.415492958\t]\t,\n",
    "[\t0.330985915\t,\t0.415492958\t,\t0.556338028\t]\t,\n",
    "[\t0.415492958\t,\t0.556338028\t,\t0.591549296\t]\t,\n",
    "\n",
    "\n",
    ")\n",
    ", dtype=float)\n",
    "testY = np.array(([\t0.26056338\t]\t,\n",
    "[\t0.394366197\t]\t,\n",
    "[\t0.626760563\t]\t,\n",
    "[\t0.795774648\t]\t,\n",
    "[\t0.704225352\t]\t,\n",
    "[\t0.535211268\t]\t,\n",
    "[\t0.401408451\t]\t,\n",
    "[\t0.126760563\t]\t,\n",
    "[\t0.330985915\t]\t,\n",
    "[\t0.415492958\t]\t,\n",
    "[\t0.556338028\t]\t,\n",
    "[\t0.591549296\t]\t,\n",
    "[\t0.514084507\t]\t,\n",
    "\n",
    "\n",
    ")\n",
    ", dtype=float)\n",
    "\n",
    "\n",
    "dataprediksi = np.array(([\t0.556338028\t,\t0.591549296\t,\t0.514084507\t]\t,\n",
    "[\t0.591549296\t,\t0.514084507\t,\t0.387323944\t]\t,\n",
    "[\t0.514084507\t,\t0.387323944\t,\t0.373239437\t]\t,\n",
    "[\t0.387323944\t,\t0.373239437\t,\t0.366197183\t]\t,\n",
    "\n",
    "\n",
    "), dtype=float)"
   ]
  },
  {
   "cell_type": "code",
   "execution_count": 15,
   "metadata": {},
   "outputs": [
    {
     "data": {
      "text/plain": [
       "array([[0.50704225, 0.75352113, 0.54225352],\n",
       "       [0.75352113, 0.54225352, 0.26056338],\n",
       "       [0.54225352, 0.26056338, 0.3943662 ],\n",
       "       [0.26056338, 0.3943662 , 0.62676056],\n",
       "       [0.3943662 , 0.62676056, 0.79577465],\n",
       "       [0.62676056, 0.79577465, 0.70422535],\n",
       "       [0.79577465, 0.70422535, 0.53521127],\n",
       "       [0.70422535, 0.53521127, 0.40140845],\n",
       "       [0.53521127, 0.40140845, 0.12676056],\n",
       "       [0.40140845, 0.12676056, 0.33098592],\n",
       "       [0.12676056, 0.33098592, 0.41549296],\n",
       "       [0.33098592, 0.41549296, 0.55633803],\n",
       "       [0.41549296, 0.55633803, 0.5915493 ]])"
      ]
     },
     "execution_count": 15,
     "metadata": {},
     "output_type": "execute_result"
    }
   ],
   "source": [
    "testX"
   ]
  },
  {
   "cell_type": "code",
   "execution_count": 16,
   "metadata": {},
   "outputs": [],
   "source": [
    "##Need to modify trainer class a bit to check testing error during training:\n",
    "class trainer(object):\n",
    "    def __init__(self, N):\n",
    "        #Make Local reference to network:\n",
    "        self.N = N\n",
    "        \n",
    "    def callbackF(self, params):\n",
    "        self.N.setParams(params)\n",
    "        self.J.append(self.N.costFunction(self.X, self.y))\n",
    "        self.testJ.append(self.N.costFunction(self.testX, self.testY))\n",
    "        \n",
    "    def costFunctionWrapper(self, params, X, y):\n",
    "        self.N.setParams(params)\n",
    "        cost = self.N.costFunction(X, y)\n",
    "        grad = self.N.computeGradients(X,y)\n",
    "        \n",
    "        return cost, grad\n",
    "        \n",
    "    def train(self, trainX, trainY, testX, testY):\n",
    "        #Make an internal variable for the callback function:\n",
    "        self.X = trainX\n",
    "        self.y = trainY\n",
    "        \n",
    "        self.testX = testX\n",
    "        self.testY = testY\n",
    "\n",
    "        #Make empty list to store training costs:\n",
    "        self.J = []\n",
    "        self.testJ = []\n",
    "        \n",
    "        params0 = self.N.getParams()\n",
    "\n",
    "        options = {'maxiter': 100, 'disp' : True}\n",
    "        _res = optimize.minimize(self.costFunctionWrapper, params0, jac=True, method='BFGS', \\\n",
    "                                 args=(trainX, trainY), options=options, callback=self.callbackF)\n",
    "\n",
    "        self.N.setParams(_res.x)\n",
    "        self.optimizationResults = _res"
   ]
  },
  {
   "cell_type": "code",
   "execution_count": 17,
   "metadata": {},
   "outputs": [
    {
     "name": "stdout",
     "output_type": "stream",
     "text": [
      "Warning: Maximum number of iterations has been exceeded.\n",
      "         Current function value: 0.490829\n",
      "         Iterations: 100\n",
      "         Function evaluations: 115\n",
      "         Gradient evaluations: 115\n"
     ]
    }
   ],
   "source": [
    "#Train network with new data:\n",
    "NN = Neural_Network()\n",
    "\n",
    "T = trainer(NN)\n",
    "T.train(trainX, trainY, testX, testY)"
   ]
  },
  {
   "cell_type": "code",
   "execution_count": 18,
   "metadata": {},
   "outputs": [
    {
     "data": {
      "image/png": "[encoded data removed]",
      "text/plain": [
       "<Figure size 432x288 with 1 Axes>"
      ]
     },
     "metadata": {
      "needs_background": "light"
     },
     "output_type": "display_data"
    }
   ],
   "source": [
    "#Plot cost during training:\n",
    "plot.plot(T.J)\n",
    "plot.plot(T.testJ)\n",
    "plot.grid(1)\n",
    "plot.xlabel('Iterations')\n",
    "plot.ylabel('Cost')\n",
    "plot.legend(['Training', 'Testing'])\n",
    "plot.show()"
   ]
  },
  {
   "cell_type": "code",
   "execution_count": 19,
   "metadata": {},
   "outputs": [
    {
     "data": {
      "text/plain": [
       "[array([2.86566968]),\n",
       " array([1.55478753]),\n",
       " array([1.1954754]),\n",
       " array([1.13231699]),\n",
       " array([1.03958303]),\n",
       " array([0.89995861]),\n",
       " array([0.81172924]),\n",
       " array([0.7649491]),\n",
       " array([0.73465499]),\n",
       " array([0.72626536]),\n",
       " array([0.71801577]),\n",
       " array([0.71474218]),\n",
       " array([0.71100152]),\n",
       " array([0.70845496]),\n",
       " array([0.70632103]),\n",
       " array([0.70461254]),\n",
       " array([0.7031386]),\n",
       " array([0.70210609]),\n",
       " array([0.70054127]),\n",
       " array([0.6991708]),\n",
       " array([0.69863059]),\n",
       " array([0.69769923]),\n",
       " array([0.69601392]),\n",
       " array([0.69349253]),\n",
       " array([0.69193511]),\n",
       " array([0.69158851]),\n",
       " array([0.69129331]),\n",
       " array([0.69077145]),\n",
       " array([0.68982608]),\n",
       " array([0.68832754]),\n",
       " array([0.68646338]),\n",
       " array([0.68368893]),\n",
       " array([0.67986314]),\n",
       " array([0.67424247]),\n",
       " array([0.66880883]),\n",
       " array([0.66545455]),\n",
       " array([0.66412343]),\n",
       " array([0.66380858]),\n",
       " array([0.6636218]),\n",
       " array([0.66350239]),\n",
       " array([0.66252655]),\n",
       " array([0.65772206]),\n",
       " array([0.65497974]),\n",
       " array([0.65086619]),\n",
       " array([0.64458281]),\n",
       " array([0.63387998]),\n",
       " array([0.61803509]),\n",
       " array([0.61329084]),\n",
       " array([0.60837135]),\n",
       " array([0.60157015]),\n",
       " array([0.59773843]),\n",
       " array([0.59580853]),\n",
       " array([0.59306008]),\n",
       " array([0.58987949]),\n",
       " array([0.58542543]),\n",
       " array([0.57937375]),\n",
       " array([0.5785033]),\n",
       " array([0.57762411]),\n",
       " array([0.57720824]),\n",
       " array([0.57661697]),\n",
       " array([0.57596232]),\n",
       " array([0.57483379]),\n",
       " array([0.57344703]),\n",
       " array([0.57226458]),\n",
       " array([0.57058195]),\n",
       " array([0.56985894]),\n",
       " array([0.56934809]),\n",
       " array([0.56844046]),\n",
       " array([0.56685411]),\n",
       " array([0.56420028]),\n",
       " array([0.56213394]),\n",
       " array([0.55980069]),\n",
       " array([0.55680785]),\n",
       " array([0.55414055]),\n",
       " array([0.55006829]),\n",
       " array([0.5445744]),\n",
       " array([0.54143648]),\n",
       " array([0.53916154]),\n",
       " array([0.53539392]),\n",
       " array([0.52994662]),\n",
       " array([0.52671882]),\n",
       " array([0.52486756]),\n",
       " array([0.52237301]),\n",
       " array([0.51912896]),\n",
       " array([0.51588604]),\n",
       " array([0.51262045]),\n",
       " array([0.50826567]),\n",
       " array([0.50352495]),\n",
       " array([0.50204923]),\n",
       " array([0.50045459]),\n",
       " array([0.499059]),\n",
       " array([0.4981637]),\n",
       " array([0.49748549]),\n",
       " array([0.49644204]),\n",
       " array([0.49517397]),\n",
       " array([0.4941441]),\n",
       " array([0.49262704]),\n",
       " array([0.49162704]),\n",
       " array([0.491224]),\n",
       " array([0.49082873])]"
      ]
     },
     "execution_count": 19,
     "metadata": {},
     "output_type": "execute_result"
    }
   ],
   "source": [
    "T.J"
   ]
  },
  {
   "cell_type": "code",
   "execution_count": 20,
   "metadata": {},
   "outputs": [
    {
     "data": {
      "text/plain": [
       "[array([0.49941328]),\n",
       " array([0.31662198]),\n",
       " array([0.18877995]),\n",
       " array([0.16527772]),\n",
       " array([0.16251973]),\n",
       " array([0.13750016]),\n",
       " array([0.11616282]),\n",
       " array([0.12850324]),\n",
       " array([0.12683516]),\n",
       " array([0.11233056]),\n",
       " array([0.11782009]),\n",
       " array([0.12044086]),\n",
       " array([0.12174777]),\n",
       " array([0.12094274]),\n",
       " array([0.11849442]),\n",
       " array([0.11534253]),\n",
       " array([0.11192506]),\n",
       " array([0.11104067]),\n",
       " array([0.11230204]),\n",
       " array([0.1157033]),\n",
       " array([0.11492723]),\n",
       " array([0.11528272]),\n",
       " array([0.11375346]),\n",
       " array([0.10870648]),\n",
       " array([0.10596211]),\n",
       " array([0.10433779]),\n",
       " array([0.10541496]),\n",
       " array([0.10540796]),\n",
       " array([0.10602818]),\n",
       " array([0.10804136]),\n",
       " array([0.11444266]),\n",
       " array([0.12048583]),\n",
       " array([0.12322015]),\n",
       " array([0.12664667]),\n",
       " array([0.12505342]),\n",
       " array([0.12245408]),\n",
       " array([0.12129743]),\n",
       " array([0.11825164]),\n",
       " array([0.11916911]),\n",
       " array([0.11944731]),\n",
       " array([0.12037794]),\n",
       " array([0.1205456]),\n",
       " array([0.11999405]),\n",
       " array([0.11925078]),\n",
       " array([0.11887474]),\n",
       " array([0.11629285]),\n",
       " array([0.11638764]),\n",
       " array([0.11934037]),\n",
       " array([0.12431982]),\n",
       " array([0.12352874]),\n",
       " array([0.1235939]),\n",
       " array([0.12008819]),\n",
       " array([0.11886494]),\n",
       " array([0.1242475]),\n",
       " array([0.12181775]),\n",
       " array([0.12005085]),\n",
       " array([0.12182342]),\n",
       " array([0.12007375]),\n",
       " array([0.12007576]),\n",
       " array([0.11949015]),\n",
       " array([0.1194805]),\n",
       " array([0.11997341]),\n",
       " array([0.12186194]),\n",
       " array([0.12255194]),\n",
       " array([0.12421755]),\n",
       " array([0.12485035]),\n",
       " array([0.12657614]),\n",
       " array([0.12822548]),\n",
       " array([0.1299507]),\n",
       " array([0.13406577]),\n",
       " array([0.13702429]),\n",
       " array([0.13866188]),\n",
       " array([0.14770325]),\n",
       " array([0.15227423]),\n",
       " array([0.15281469]),\n",
       " array([0.15198568]),\n",
       " array([0.15302774]),\n",
       " array([0.14354297]),\n",
       " array([0.14474322]),\n",
       " array([0.14657198]),\n",
       " array([0.14085343]),\n",
       " array([0.14140045]),\n",
       " array([0.13705664]),\n",
       " array([0.13401738]),\n",
       " array([0.13305905]),\n",
       " array([0.13456151]),\n",
       " array([0.1310824]),\n",
       " array([0.12777544]),\n",
       " array([0.12682775]),\n",
       " array([0.12723231]),\n",
       " array([0.12861087]),\n",
       " array([0.13136445]),\n",
       " array([0.13254157]),\n",
       " array([0.13440771]),\n",
       " array([0.13564872]),\n",
       " array([0.13611621]),\n",
       " array([0.1371596]),\n",
       " array([0.13909583]),\n",
       " array([0.14056637]),\n",
       " array([0.1418167])]"
      ]
     },
     "execution_count": 20,
     "metadata": {},
     "output_type": "execute_result"
    }
   ],
   "source": [
    "T.testJ"
   ]
  },
  {
   "cell_type": "code",
   "execution_count": 21,
   "metadata": {},
   "outputs": [
    {
     "data": {
      "text/plain": [
       "0.5265726224663893"
      ]
     },
     "execution_count": 21,
     "metadata": {},
     "output_type": "execute_result"
    }
   ],
   "source": [
    "from sklearn.metrics import mean_absolute_error\n",
    "mean_absolute_error(T.J, T.testJ)"
   ]
  },
  {
   "cell_type": "code",
   "execution_count": 22,
   "metadata": {},
   "outputs": [],
   "source": [
    "yHat = NN.forward(X)"
   ]
  },
  {
   "cell_type": "code",
   "execution_count": 23,
   "metadata": {},
   "outputs": [
    {
     "data": {
      "text/plain": [
       "array([[0.56701593],\n",
       "       [0.7338248 ],\n",
       "       [0.7278669 ],\n",
       "       [0.6150548 ],\n",
       "       [0.58370147],\n",
       "       [0.36518487],\n",
       "       [0.36591785],\n",
       "       [0.45069875],\n",
       "       [0.63126092],\n",
       "       [0.81682174],\n",
       "       [0.1578178 ],\n",
       "       [0.36405734],\n",
       "       [0.1273373 ],\n",
       "       [0.38178327],\n",
       "       [0.81796412],\n",
       "       [0.80959407],\n",
       "       [0.61539464],\n",
       "       [0.3664435 ],\n",
       "       [0.24829147],\n",
       "       [0.68210771],\n",
       "       [0.59036768],\n",
       "       [0.62516631],\n",
       "       [0.50471179],\n",
       "       [0.33835708],\n",
       "       [0.36732672],\n",
       "       [0.56899882],\n",
       "       [0.61569911],\n",
       "       [0.62067735],\n",
       "       [0.38420486],\n",
       "       [0.3786278 ],\n",
       "       [0.49388149],\n",
       "       [0.6812512 ],\n",
       "       [0.64655051],\n",
       "       [0.63363148],\n",
       "       [0.49018536],\n",
       "       [0.37444503],\n",
       "       [0.41734899],\n",
       "       [0.60143032],\n",
       "       [0.65521192],\n",
       "       [0.60792542],\n",
       "       [0.4273949 ],\n",
       "       [0.38593314],\n",
       "       [0.47728577],\n",
       "       [0.71570196],\n",
       "       [0.67053132],\n",
       "       [0.60740973],\n",
       "       [0.43070038],\n",
       "       [0.37849877],\n",
       "       [0.39950378],\n",
       "       [0.57449791],\n",
       "       [0.67314449],\n",
       "       [0.4824378 ],\n",
       "       [0.39474886],\n",
       "       [0.41360522],\n",
       "       [0.41105366],\n",
       "       [0.34128079],\n",
       "       [0.63066715],\n",
       "       [0.70089703],\n",
       "       [0.70991782]])"
      ]
     },
     "execution_count": 23,
     "metadata": {},
     "output_type": "execute_result"
    }
   ],
   "source": [
    "yHat"
   ]
  },
  {
   "cell_type": "code",
   "execution_count": 24,
   "metadata": {},
   "outputs": [
    {
     "data": {
      "text/plain": [
       "array([[0.57042253],\n",
       "       [0.66901409],\n",
       "       [0.6971831 ],\n",
       "       [0.97183099],\n",
       "       [0.5915493 ],\n",
       "       [0.28169014],\n",
       "       [0.26056338],\n",
       "       [0.46478873],\n",
       "       [0.99295775],\n",
       "       [0.67605634],\n",
       "       [0.25352113],\n",
       "       [0.45070423],\n",
       "       [0.        ],\n",
       "       [0.48591549],\n",
       "       [0.78169014],\n",
       "       [0.8028169 ],\n",
       "       [0.3028169 ],\n",
       "       [0.47183099],\n",
       "       [0.41549296],\n",
       "       [0.64788732],\n",
       "       [0.61267606],\n",
       "       [1.        ],\n",
       "       [0.47887324],\n",
       "       [0.3028169 ],\n",
       "       [0.38028169],\n",
       "       [0.5915493 ],\n",
       "       [0.8028169 ],\n",
       "       [0.47183099],\n",
       "       [0.26760563],\n",
       "       [0.4084507 ],\n",
       "       [0.32394366],\n",
       "       [0.45774648],\n",
       "       [0.81690141],\n",
       "       [0.75352113],\n",
       "       [0.43661972],\n",
       "       [0.45774648],\n",
       "       [0.38732394],\n",
       "       [0.46478873],\n",
       "       [0.73239437],\n",
       "       [0.51408451],\n",
       "       [0.28169014],\n",
       "       [0.19014085],\n",
       "       [0.51408451],\n",
       "       [0.50704225],\n",
       "       [0.75352113],\n",
       "       [0.54225352],\n",
       "       [0.26056338],\n",
       "       [0.3943662 ],\n",
       "       [0.62676056],\n",
       "       [0.79577465],\n",
       "       [0.70422535],\n",
       "       [0.53521127],\n",
       "       [0.40140845],\n",
       "       [0.12676056],\n",
       "       [0.33098592],\n",
       "       [0.41549296],\n",
       "       [0.55633803],\n",
       "       [0.5915493 ],\n",
       "       [0.51408451]])"
      ]
     },
     "execution_count": 24,
     "metadata": {},
     "output_type": "execute_result"
    }
   ],
   "source": [
    "y"
   ]
  },
  {
   "cell_type": "code",
   "execution_count": 25,
   "metadata": {},
   "outputs": [
    {
     "data": {
      "text/plain": [
       "0.021445607917231015"
      ]
     },
     "execution_count": 25,
     "metadata": {},
     "output_type": "execute_result"
    }
   ],
   "source": [
    "from sklearn.metrics import mean_squared_error \n",
    "mean_squared_error(y,yHat) "
   ]
  },
  {
   "cell_type": "code",
   "execution_count": 26,
   "metadata": {},
   "outputs": [
    {
     "data": {
      "image/png": "[encoded data removed]",
      "text/plain": [
       "<Figure size 432x288 with 1 Axes>"
      ]
     },
     "metadata": {
      "needs_background": "light"
     },
     "output_type": "display_data"
    }
   ],
   "source": [
    "#Plot cost during training:\n",
    "plot.plot(y)\n",
    "plot.plot(yHat)\n",
    "plot.grid(1)\n",
    "plot.legend(['y', 'yHat'])\n",
    "plot.show()"
   ]
  },
  {
   "cell_type": "code",
   "execution_count": 27,
   "metadata": {},
   "outputs": [],
   "source": [
    "#Regularization Parameter:\n",
    "Lambda = 0.0001"
   ]
  },
  {
   "cell_type": "code",
   "execution_count": 28,
   "metadata": {},
   "outputs": [],
   "source": [
    "#Need to make changes to costFunction and costFunctionPrim:\n",
    "def costFunction(self, X, y):\n",
    "    #Compute cost for given X,y, use weights already stored in class.\n",
    "    self.yHat = self.forward(X)\n",
    "    #We don't want cost to increase with the number of examples, so normalize by dividing the error term by number of examples(X.shape[0])\n",
    "    J = 0.5*sum((y-self.yHat)**2)/X.shape[0] + (self.Lambda/2)*(sum(self.W1**2)+sum(self.W2**2))\n",
    "    return J\n",
    "\n",
    "def costFunctionPrime(self, X, y):\n",
    "    #Compute derivative with respect to W and W2 for a given X and y:\n",
    "    self.yHat = self.forward(X)\n",
    "\n",
    "    delta3 = np.multiply(-(y-self.yHat), self.tanhPrime(self.z3))\n",
    "    #Add gradient of regularization term:\n",
    "    dJdW2 = np.dot(self.a2.T, delta3)/X.shape[0] + self.Lambda*self.W2\n",
    "\n",
    "    delta2 = np.dot(delta3, self.W2.T)*self.tanhPrime(self.z2)\n",
    "    #Add gradient of regularization term:\n",
    "    dJdW1 = np.dot(X.T, delta2)/X.shape[0] + self.Lambda*self.W1\n",
    "\n",
    "    return dJdW1, dJdW2"
   ]
  },
  {
   "cell_type": "code",
   "execution_count": 29,
   "metadata": {},
   "outputs": [],
   "source": [
    "#New complete class, with changes:\n",
    "class Neural_Network(object):\n",
    "    def __init__(self, Lambda=0.0001):        \n",
    "        #Define Hyperparameters\n",
    "        self.inputLayerSize = 3\n",
    "        self.outputLayerSize = 1\n",
    "        self.hiddenLayerSize = 5\n",
    "        \n",
    "        #Weights (parameters)\n",
    "        self.W1 = np.random.randn(self.inputLayerSize,self.hiddenLayerSize)\n",
    "        self.W2 = np.random.randn(self.hiddenLayerSize,self.outputLayerSize)\n",
    "        \n",
    "        #Regularization Parameter:\n",
    "        self.Lambda = Lambda\n",
    "        \n",
    "    def forward(self, X):\n",
    "        #Propogate inputs though network\n",
    "        self.z2 = np.dot(X, self.W1)\n",
    "        self.a2 = self.tanh(self.z2)\n",
    "        self.z3 = np.dot(self.a2, self.W2)\n",
    "        yHat = self.tanh(self.z3) \n",
    "        return yHat\n",
    "        \n",
    "    def tanh(self, z):\n",
    "        # activation function\n",
    "        return (np.exp(z)-np.exp(-z))/(np.exp(z)+np.exp(-z))\n",
    "    \n",
    "    def tanhPrime(self,z): \n",
    "        #derivative of tanh\n",
    "        return 1-((np.exp(z)-np.exp(-z))/(np.exp(z)+np.exp(-z)))**2\n",
    "    \n",
    "    def costFunction(self, X, y):\n",
    "        #Compute cost for given X,y, use weights already stored in class.\n",
    "        self.yHat = self.forward(X)\n",
    "        J = 0.5*sum((y-self.yHat)**2)/X.shape[0] + (self.Lambda/2)*(np.sum(self.W1**2)+np.sum(self.W2**2))\n",
    "        return J\n",
    "        \n",
    "    def costFunctionPrime(self, X, y):\n",
    "        #Compute derivative with respect to W and W2 for a given X and y:\n",
    "        self.yHat = self.forward(X)\n",
    "        \n",
    "        delta3 = np.multiply(-(y-self.yHat), self.tanhPrime(self.z3))\n",
    "        #Add gradient of regularization term:\n",
    "        dJdW2 = np.dot(self.a2.T, delta3)/X.shape[0] + self.Lambda*self.W2\n",
    "        \n",
    "        delta2 = np.dot(delta3, self.W2.T)*self.tanhPrime(self.z2)\n",
    "        #Add gradient of regularization term:\n",
    "        dJdW1 = np.dot(X.T, delta2)/X.shape[0] + self.Lambda*self.W1\n",
    "        \n",
    "        return dJdW1, dJdW2\n",
    "    \n",
    "    def predict(self):\n",
    "        prediksi = self.forward(dataprediksi)\n",
    "        return prediksi\n",
    "    \n",
    "    #Helper functions for interacting with other methods/classes\n",
    "    def getParams(self):\n",
    "        #Get W1 and W2 Rolled into vector:\n",
    "        params = np.concatenate((self.W1.ravel(), self.W2.ravel()))\n",
    "        return params\n",
    "    \n",
    "    def setParams(self, params):\n",
    "        #Set W1 and W2 using single parameter vector:\n",
    "        W1_start = 0\n",
    "        W1_end = self.hiddenLayerSize*self.inputLayerSize\n",
    "        self.W1 = np.reshape(params[W1_start:W1_end], \\\n",
    "                             (self.inputLayerSize, self.hiddenLayerSize))\n",
    "        W2_end = W1_end + self.hiddenLayerSize*self.outputLayerSize\n",
    "        self.W2 = np.reshape(params[W1_end:W2_end], \\\n",
    "                             (self.hiddenLayerSize, self.outputLayerSize))\n",
    "        \n",
    "    def computeGradients(self, X, y):\n",
    "        dJdW1, dJdW2 = self.costFunctionPrime(X, y)\n",
    "        return np.concatenate((dJdW1.ravel(), dJdW2.ravel()))"
   ]
  },
  {
   "cell_type": "code",
   "execution_count": 30,
   "metadata": {},
   "outputs": [],
   "source": [
    "def computeNumericalGradient(N, X, y):\n",
    "    paramsInitial = N.getParams()\n",
    "    numgrad = np.zeros(paramsInitial.shape)\n",
    "    perturb = np.zeros(paramsInitial.shape)\n",
    "    e = 1e-4\n",
    "\n",
    "    for p in range(len(paramsInitial)):\n",
    "        #Set perturbation vector\n",
    "        perturb[p] = e\n",
    "        N.setParams(paramsInitial + perturb)\n",
    "        loss2 = N.costFunction(X, y)\n",
    "            \n",
    "        N.setParams(paramsInitial - perturb)\n",
    "        loss1 = N.costFunction(X, y)\n",
    "\n",
    "        #Compute Numerical Gradient\n",
    "        numgrad[p] = (loss2 - loss1) / (2*e)\n",
    "\n",
    "            #Return the value we changed to zero:\n",
    "        perturb[p] = 0\n",
    "            \n",
    "    #Return Params to original value:\n",
    "    N.setParams(paramsInitial)\n",
    "\n",
    "    return numgrad "
   ]
  },
  {
   "cell_type": "code",
   "execution_count": 31,
   "metadata": {},
   "outputs": [],
   "source": [
    "NN = Neural_Network(Lambda=0.0001)"
   ]
  },
  {
   "cell_type": "code",
   "execution_count": 32,
   "metadata": {},
   "outputs": [],
   "source": [
    "#Make sure our gradients our correct after making changes:\n",
    "numgrad = computeNumericalGradient(NN, X, y)\n",
    "grad = NN.computeGradients(X,y)"
   ]
  },
  {
   "cell_type": "code",
   "execution_count": 33,
   "metadata": {},
   "outputs": [
    {
     "data": {
      "text/plain": [
       "1.097809786939731e-09"
      ]
     },
     "execution_count": 33,
     "metadata": {},
     "output_type": "execute_result"
    }
   ],
   "source": [
    "#Should be less than 1e-8:\n",
    "np.linalg.norm(grad-numgrad)/np.linalg.norm(grad+numgrad)"
   ]
  },
  {
   "cell_type": "code",
   "execution_count": 34,
   "metadata": {},
   "outputs": [],
   "source": [
    "T = trainer(NN)"
   ]
  },
  {
   "cell_type": "code",
   "execution_count": 35,
   "metadata": {},
   "outputs": [
    {
     "name": "stdout",
     "output_type": "stream",
     "text": [
      "Warning: Maximum number of iterations has been exceeded.\n",
      "         Current function value: 0.013425\n",
      "         Iterations: 100\n",
      "         Function evaluations: 116\n",
      "         Gradient evaluations: 116\n"
     ]
    }
   ],
   "source": [
    "T.train(X,y,testX,testY)"
   ]
  },
  {
   "cell_type": "code",
   "execution_count": 36,
   "metadata": {},
   "outputs": [
    {
     "data": {
      "image/png": "[encoded data removed]",
      "text/plain": [
       "<Figure size 432x288 with 1 Axes>"
      ]
     },
     "metadata": {
      "needs_background": "light"
     },
     "output_type": "display_data"
    }
   ],
   "source": [
    "plot.plot(T.J)\n",
    "plot.plot(T.testJ)\n",
    "plot.grid(1)\n",
    "plot.xlabel('Iterations')\n",
    "plot.ylabel('Cost')\n",
    "plot.legend(['Training', 'Testing'])\n",
    "plot.show()"
   ]
  },
  {
   "cell_type": "code",
   "execution_count": 37,
   "metadata": {},
   "outputs": [
    {
     "data": {
      "text/plain": [
       "[array([0.10681734]),\n",
       " array([0.04008068]),\n",
       " array([0.0370986]),\n",
       " array([0.03374751]),\n",
       " array([0.03111699]),\n",
       " array([0.02919626]),\n",
       " array([0.02730581]),\n",
       " array([0.02649252]),\n",
       " array([0.02603991]),\n",
       " array([0.02554279]),\n",
       " array([0.02268632]),\n",
       " array([0.0222211]),\n",
       " array([0.02134341]),\n",
       " array([0.01975085]),\n",
       " array([0.0173611]),\n",
       " array([0.0161891]),\n",
       " array([0.01592826]),\n",
       " array([0.01564008]),\n",
       " array([0.01553124]),\n",
       " array([0.01550048]),\n",
       " array([0.01544854]),\n",
       " array([0.01535744]),\n",
       " array([0.01520016]),\n",
       " array([0.01497018]),\n",
       " array([0.01486118]),\n",
       " array([0.01482076]),\n",
       " array([0.01477611]),\n",
       " array([0.01476767]),\n",
       " array([0.0147639]),\n",
       " array([0.01475739]),\n",
       " array([0.01474573]),\n",
       " array([0.01472457]),\n",
       " array([0.01468647]),\n",
       " array([0.01461982]),\n",
       " array([0.01451167]),\n",
       " array([0.01437549]),\n",
       " array([0.01430507]),\n",
       " array([0.01423509]),\n",
       " array([0.01418758]),\n",
       " array([0.01417986]),\n",
       " array([0.01417914]),\n",
       " array([0.01417793]),\n",
       " array([0.01417579]),\n",
       " array([0.01417191]),\n",
       " array([0.01416485]),\n",
       " array([0.01415209]),\n",
       " array([0.01412974]),\n",
       " array([0.01409378]),\n",
       " array([0.01404539]),\n",
       " array([0.01397477]),\n",
       " array([0.01387348]),\n",
       " array([0.01382357]),\n",
       " array([0.01381428]),\n",
       " array([0.01381155]),\n",
       " array([0.01380945]),\n",
       " array([0.01380798]),\n",
       " array([0.01380568]),\n",
       " array([0.01380257]),\n",
       " array([0.0137992]),\n",
       " array([0.01379309]),\n",
       " array([0.01378172]),\n",
       " array([0.01376034]),\n",
       " array([0.0137202]),\n",
       " array([0.01365279]),\n",
       " array([0.01357955]),\n",
       " array([0.01356412]),\n",
       " array([0.01354714]),\n",
       " array([0.0135442]),\n",
       " array([0.01354119]),\n",
       " array([0.01353972]),\n",
       " array([0.01353764]),\n",
       " array([0.01353405]),\n",
       " array([0.01352965]),\n",
       " array([0.01352878]),\n",
       " array([0.01352756]),\n",
       " array([0.01352588]),\n",
       " array([0.01352312]),\n",
       " array([0.01351853]),\n",
       " array([0.01351113]),\n",
       " array([0.0135008]),\n",
       " array([0.01348791]),\n",
       " array([0.01347818]),\n",
       " array([0.01347328]),\n",
       " array([0.01347143]),\n",
       " array([0.01347061]),\n",
       " array([0.0134699]),\n",
       " array([0.0134696]),\n",
       " array([0.0134693]),\n",
       " array([0.01346907]),\n",
       " array([0.01346869]),\n",
       " array([0.01346812]),\n",
       " array([0.01346739]),\n",
       " array([0.01346606]),\n",
       " array([0.0134636]),\n",
       " array([0.01345908]),\n",
       " array([0.01345111]),\n",
       " array([0.013439]),\n",
       " array([0.01343339]),\n",
       " array([0.01342974]),\n",
       " array([0.01342462])]"
      ]
     },
     "execution_count": 37,
     "metadata": {},
     "output_type": "execute_result"
    }
   ],
   "source": [
    "T.J"
   ]
  },
  {
   "cell_type": "code",
   "execution_count": 38,
   "metadata": {},
   "outputs": [
    {
     "data": {
      "text/plain": [
       "[array([0.11315209]),\n",
       " array([0.03581729]),\n",
       " array([0.03060719]),\n",
       " array([0.02423342]),\n",
       " array([0.02080143]),\n",
       " array([0.01921602]),\n",
       " array([0.01863326]),\n",
       " array([0.01817841]),\n",
       " array([0.01802679]),\n",
       " array([0.01771679]),\n",
       " array([0.01471764]),\n",
       " array([0.01392302]),\n",
       " array([0.01315821]),\n",
       " array([0.01191637]),\n",
       " array([0.0097696]),\n",
       " array([0.00945116]),\n",
       " array([0.0087675]),\n",
       " array([0.00861864]),\n",
       " array([0.00885464]),\n",
       " array([0.00892338]),\n",
       " array([0.00906027]),\n",
       " array([0.00924436]),\n",
       " array([0.00955211]),\n",
       " array([0.01010677]),\n",
       " array([0.01063702]),\n",
       " array([0.01045858]),\n",
       " array([0.01018901]),\n",
       " array([0.01008318]),\n",
       " array([0.01012628]),\n",
       " array([0.01017338]),\n",
       " array([0.01022417]),\n",
       " array([0.01027956]),\n",
       " array([0.01033661]),\n",
       " array([0.01037849]),\n",
       " array([0.01034462]),\n",
       " array([0.01005966]),\n",
       " array([0.00976171]),\n",
       " array([0.00953191]),\n",
       " array([0.00945128]),\n",
       " array([0.00948736]),\n",
       " array([0.00950332]),\n",
       " array([0.0095191]),\n",
       " array([0.00953737]),\n",
       " array([0.00955978]),\n",
       " array([0.00958934]),\n",
       " array([0.0096314]),\n",
       " array([0.00969603]),\n",
       " array([0.00980198]),\n",
       " array([0.00994184]),\n",
       " array([0.00985375]),\n",
       " array([0.00945965]),\n",
       " array([0.00904476]),\n",
       " array([0.00906829]),\n",
       " array([0.00919164]),\n",
       " array([0.00916068]),\n",
       " array([0.00914765]),\n",
       " array([0.00914857]),\n",
       " array([0.00916674]),\n",
       " array([0.00919057]),\n",
       " array([0.00921874]),\n",
       " array([0.00925591]),\n",
       " array([0.00930422]),\n",
       " array([0.00935361]),\n",
       " array([0.00934765]),\n",
       " array([0.00937917]),\n",
       " array([0.00926028]),\n",
       " array([0.00930999]),\n",
       " array([0.00924743]),\n",
       " array([0.00932386]),\n",
       " array([0.00934179]),\n",
       " array([0.00932781]),\n",
       " array([0.00929967]),\n",
       " array([0.00924457]),\n",
       " array([0.00923643]),\n",
       " array([0.00923732]),\n",
       " array([0.0092424]),\n",
       " array([0.00924806]),\n",
       " array([0.0092521]),\n",
       " array([0.00925497]),\n",
       " array([0.00925745]),\n",
       " array([0.00923516]),\n",
       " array([0.00918656]),\n",
       " array([0.00911108]),\n",
       " array([0.00907281]),\n",
       " array([0.00905784]),\n",
       " array([0.00906016]),\n",
       " array([0.00906181]),\n",
       " array([0.00905363]),\n",
       " array([0.00904807]),\n",
       " array([0.00903489]),\n",
       " array([0.00901881]),\n",
       " array([0.00900434]),\n",
       " array([0.0089915]),\n",
       " array([0.00897737]),\n",
       " array([0.00896361]),\n",
       " array([0.0089492]),\n",
       " array([0.00894199]),\n",
       " array([0.00891583]),\n",
       " array([0.00893355]),\n",
       " array([0.00900757])]"
      ]
     },
     "execution_count": 38,
     "metadata": {},
     "output_type": "execute_result"
    }
   ],
   "source": [
    "T.testJ"
   ]
  },
  {
   "cell_type": "code",
   "execution_count": 39,
   "metadata": {},
   "outputs": [
    {
     "data": {
      "text/plain": [
       "0.0051390810824324725"
      ]
     },
     "execution_count": 39,
     "metadata": {},
     "output_type": "execute_result"
    }
   ],
   "source": [
    "from sklearn.metrics import mean_absolute_error\n",
    "mean_absolute_error(T.J, T.testJ)"
   ]
  },
  {
   "cell_type": "code",
   "execution_count": 40,
   "metadata": {},
   "outputs": [],
   "source": [
    "yHat=NN.forward(X)"
   ]
  },
  {
   "cell_type": "code",
   "execution_count": 41,
   "metadata": {},
   "outputs": [
    {
     "data": {
      "text/plain": [
       "array([[0.61618904],\n",
       "       [0.72658425],\n",
       "       [0.59973646],\n",
       "       [0.51322093],\n",
       "       [0.52882657],\n",
       "       [0.30178366],\n",
       "       [0.31828937],\n",
       "       [0.40493356],\n",
       "       [0.64493845],\n",
       "       [0.79952525],\n",
       "       [0.25848269],\n",
       "       [0.35943137],\n",
       "       [0.41510571],\n",
       "       [0.42186986],\n",
       "       [0.59864003],\n",
       "       [0.79762446],\n",
       "       [0.50060943],\n",
       "       [0.40015101],\n",
       "       [0.33228033],\n",
       "       [0.59678833],\n",
       "       [0.61240389],\n",
       "       [0.55252996],\n",
       "       [0.5749228 ],\n",
       "       [0.25399278],\n",
       "       [0.23665386],\n",
       "       [0.51670117],\n",
       "       [0.68197058],\n",
       "       [0.65650989],\n",
       "       [0.39955019],\n",
       "       [0.34325258],\n",
       "       [0.52903447],\n",
       "       [0.58222578],\n",
       "       [0.58617228],\n",
       "       [0.73098395],\n",
       "       [0.46188818],\n",
       "       [0.39800436],\n",
       "       [0.38049839],\n",
       "       [0.54257102],\n",
       "       [0.56201788],\n",
       "       [0.67519012],\n",
       "       [0.46127862],\n",
       "       [0.39447844],\n",
       "       [0.42115592],\n",
       "       [0.66152111],\n",
       "       [0.64632236],\n",
       "       [0.60615646],\n",
       "       [0.44806595],\n",
       "       [0.3926631 ],\n",
       "       [0.48095385],\n",
       "       [0.70856147],\n",
       "       [0.63103951],\n",
       "       [0.43469407],\n",
       "       [0.40483339],\n",
       "       [0.42210251],\n",
       "       [0.42823828],\n",
       "       [0.51225243],\n",
       "       [0.66427769],\n",
       "       [0.65197524],\n",
       "       [0.58954696]])"
      ]
     },
     "execution_count": 41,
     "metadata": {},
     "output_type": "execute_result"
    }
   ],
   "source": [
    "yHat"
   ]
  },
  {
   "cell_type": "code",
   "execution_count": 42,
   "metadata": {},
   "outputs": [
    {
     "data": {
      "text/plain": [
       "array([[0.57042253],\n",
       "       [0.66901409],\n",
       "       [0.6971831 ],\n",
       "       [0.97183099],\n",
       "       [0.5915493 ],\n",
       "       [0.28169014],\n",
       "       [0.26056338],\n",
       "       [0.46478873],\n",
       "       [0.99295775],\n",
       "       [0.67605634],\n",
       "       [0.25352113],\n",
       "       [0.45070423],\n",
       "       [0.        ],\n",
       "       [0.48591549],\n",
       "       [0.78169014],\n",
       "       [0.8028169 ],\n",
       "       [0.3028169 ],\n",
       "       [0.47183099],\n",
       "       [0.41549296],\n",
       "       [0.64788732],\n",
       "       [0.61267606],\n",
       "       [1.        ],\n",
       "       [0.47887324],\n",
       "       [0.3028169 ],\n",
       "       [0.38028169],\n",
       "       [0.5915493 ],\n",
       "       [0.8028169 ],\n",
       "       [0.47183099],\n",
       "       [0.26760563],\n",
       "       [0.4084507 ],\n",
       "       [0.32394366],\n",
       "       [0.45774648],\n",
       "       [0.81690141],\n",
       "       [0.75352113],\n",
       "       [0.43661972],\n",
       "       [0.45774648],\n",
       "       [0.38732394],\n",
       "       [0.46478873],\n",
       "       [0.73239437],\n",
       "       [0.51408451],\n",
       "       [0.28169014],\n",
       "       [0.19014085],\n",
       "       [0.51408451],\n",
       "       [0.50704225],\n",
       "       [0.75352113],\n",
       "       [0.54225352],\n",
       "       [0.26056338],\n",
       "       [0.3943662 ],\n",
       "       [0.62676056],\n",
       "       [0.79577465],\n",
       "       [0.70422535],\n",
       "       [0.53521127],\n",
       "       [0.40140845],\n",
       "       [0.12676056],\n",
       "       [0.33098592],\n",
       "       [0.41549296],\n",
       "       [0.55633803],\n",
       "       [0.5915493 ],\n",
       "       [0.51408451]])"
      ]
     },
     "execution_count": 42,
     "metadata": {},
     "output_type": "execute_result"
    }
   ],
   "source": [
    "y"
   ]
  },
  {
   "cell_type": "code",
   "execution_count": 43,
   "metadata": {},
   "outputs": [
    {
     "data": {
      "image/png": "[encoded data removed]",
      "text/plain": [
       "<Figure size 432x288 with 1 Axes>"
      ]
     },
     "metadata": {
      "needs_background": "light"
     },
     "output_type": "display_data"
    }
   ],
   "source": [
    "#Plot cost during training:\n",
    "plot.plot(y)\n",
    "plot.plot(yHat)\n",
    "plot.grid(1)\n",
    "plot.legend(['y', 'yHat'])\n",
    "plot.show()"
   ]
  },
  {
   "cell_type": "code",
   "execution_count": 44,
   "metadata": {},
   "outputs": [],
   "source": [
    "prediksi=NN.forward(dataprediksi)"
   ]
  },
  {
   "cell_type": "code",
   "execution_count": 45,
   "metadata": {},
   "outputs": [
    {
     "data": {
      "text/plain": [
       "array([[0.50249432],\n",
       "       [0.471669  ],\n",
       "       [0.5019308 ],\n",
       "       [0.56135288]])"
      ]
     },
     "execution_count": 45,
     "metadata": {},
     "output_type": "execute_result"
    }
   ],
   "source": [
    "prediksi"
   ]
  },
  {
   "cell_type": "code",
   "execution_count": 46,
   "metadata": {},
   "outputs": [],
   "source": [
    "from sklearn.metrics import mean_squared_error "
   ]
  },
  {
   "cell_type": "code",
   "execution_count": 47,
   "metadata": {},
   "outputs": [
    {
     "data": {
      "text/plain": [
       "0.013806839870704952"
      ]
     },
     "execution_count": 47,
     "metadata": {},
     "output_type": "execute_result"
    }
   ],
   "source": [
    "Y_true= ([\t0.387323944\t]\t,\n",
    "[\t0.373239437\t]\t,\n",
    "[\t0.366197183\t]\t,\n",
    "[\t0.443661972\t]\t,\n",
    ")\n",
    "\n",
    "\n",
    "Y_pred=prediksi\n",
    "mean_squared_error(Y_true,Y_pred) "
   ]
  },
  {
   "cell_type": "code",
   "execution_count": 48,
   "metadata": {},
   "outputs": [
    {
     "data": {
      "text/plain": [
       "array([[0.55633803, 0.5915493 , 0.51408451],\n",
       "       [0.5915493 , 0.51408451, 0.38732394],\n",
       "       [0.51408451, 0.38732394, 0.37323944],\n",
       "       [0.38732394, 0.37323944, 0.36619718]])"
      ]
     },
     "execution_count": 48,
     "metadata": {},
     "output_type": "execute_result"
    }
   ],
   "source": [
    "dataprediksi"
   ]
  },
  {
   "cell_type": "code",
   "execution_count": 49,
   "metadata": {},
   "outputs": [],
   "source": [
    "a=np.array([\t0.373239437\t,\t0.366197183\t,\t0.443661972\t])"
   ]
  },
  {
   "cell_type": "code",
   "execution_count": 50,
   "metadata": {},
   "outputs": [
    {
     "data": {
      "text/plain": [
       "array([0.59742902])"
      ]
     },
     "execution_count": 50,
     "metadata": {},
     "output_type": "execute_result"
    }
   ],
   "source": [
    "#prediksi 1\n",
    "prediksi=NN.forward(a)\n",
    "prediksi"
   ]
  },
  {
   "cell_type": "code",
   "execution_count": 51,
   "metadata": {},
   "outputs": [
    {
     "data": {
      "text/plain": [
       "array([0.64547692])"
      ]
     },
     "execution_count": 51,
     "metadata": {},
     "output_type": "execute_result"
    }
   ],
   "source": [
    "#prediksi 2\n",
    "c=prediksi\n",
    "b=a[1:]\n",
    "d=np.concatenate((b,c))\n",
    "prediksi=NN.forward(d)\n",
    "prediksi"
   ]
  },
  {
   "cell_type": "code",
   "execution_count": 52,
   "metadata": {},
   "outputs": [
    {
     "data": {
      "text/plain": [
       "array([0.57851212])"
      ]
     },
     "execution_count": 52,
     "metadata": {},
     "output_type": "execute_result"
    }
   ],
   "source": [
    "#prediksi 3\n",
    "c=prediksi\n",
    "b=d[1:]\n",
    "e=np.concatenate((b,c))\n",
    "prediksi=NN.forward(e)\n",
    "prediksi"
   ]
  },
  {
   "cell_type": "code",
   "execution_count": 53,
   "metadata": {},
   "outputs": [
    {
     "data": {
      "text/plain": [
       "array([0.48577637])"
      ]
     },
     "execution_count": 53,
     "metadata": {},
     "output_type": "execute_result"
    }
   ],
   "source": [
    "#prediksi 4\n",
    "c=prediksi\n",
    "b=e[1:]\n",
    "f=np.concatenate((b,c))\n",
    "prediksi=NN.forward(f)\n",
    "prediksi"
   ]
  },
  {
   "cell_type": "code",
   "execution_count": 54,
   "metadata": {},
   "outputs": [
    {
     "data": {
      "text/plain": [
       "array([0.46248049])"
      ]
     },
     "execution_count": 54,
     "metadata": {},
     "output_type": "execute_result"
    }
   ],
   "source": [
    "#prediksi 5\n",
    "c=prediksi\n",
    "b=f[1:]\n",
    "g=np.concatenate((b,c))\n",
    "prediksi=NN.forward(g)\n",
    "prediksi"
   ]
  },
  {
   "cell_type": "code",
   "execution_count": 55,
   "metadata": {},
   "outputs": [
    {
     "data": {
      "text/plain": [
       "array([0.4937486])"
      ]
     },
     "execution_count": 55,
     "metadata": {},
     "output_type": "execute_result"
    }
   ],
   "source": [
    "#prediksi 6\n",
    "c=prediksi\n",
    "b=g[1:]\n",
    "h=np.concatenate((b,c))\n",
    "prediksi=NN.forward(h)\n",
    "prediksi"
   ]
  },
  {
   "cell_type": "code",
   "execution_count": null,
   "metadata": {},
   "outputs": [],
   "source": []
  }
 ],
 "metadata": {
  "kernelspec": {
   "display_name": "Python 3",
   "language": "python",
   "name": "python3"
  },
  "language_info": {
   "codemirror_mode": {
    "name": "ipython",
    "version": 3
   },
   "file_extension": ".py",
   "mimetype": "text/x-python",
   "name": "python",
   "nbconvert_exporter": "python",
   "pygments_lexer": "ipython3",
   "version": "3.7.3"
  }
 },
 "nbformat": 4,
 "nbformat_minor": 2
}
