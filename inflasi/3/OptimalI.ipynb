{
 "cells": [
  {
   "cell_type": "code",
   "execution_count": 1,
   "metadata": {},
   "outputs": [
    {
     "name": "stdout",
     "output_type": "stream",
     "text": [
      "Warning: Maximum number of iterations has been exceeded.\n",
      "         Current function value: 0.531492\n",
      "         Iterations: 100\n",
      "         Function evaluations: 110\n",
      "         Gradient evaluations: 110\n"
     ]
    },
    {
     "data": {
      "text/plain": [
       "<Figure size 640x480 with 1 Axes>"
      ]
     },
     "metadata": {},
     "output_type": "display_data"
    },
    {
     "name": "stdout",
     "output_type": "stream",
     "text": [
      "Warning: Maximum number of iterations has been exceeded.\n",
      "         Current function value: 0.356360\n",
      "         Iterations: 100\n",
      "         Function evaluations: 110\n",
      "         Gradient evaluations: 110\n"
     ]
    },
    {
     "data": {
      "text/plain": [
       "<Figure size 640x480 with 1 Axes>"
      ]
     },
     "metadata": {},
     "output_type": "display_data"
    },
    {
     "data": {
      "text/plain": [
       "<Figure size 640x480 with 1 Axes>"
      ]
     },
     "metadata": {},
     "output_type": "display_data"
    }
   ],
   "source": [
    "#Import code from last time\n",
    "%run I3-6.ipynb"
   ]
  },
  {
   "cell_type": "code",
   "execution_count": 2,
   "metadata": {},
   "outputs": [
    {
     "data": {
      "text/plain": [
       "array([[0.50704225, 0.75352113, 0.54225352],\n",
       "       [0.75352113, 0.54225352, 0.26056338],\n",
       "       [0.54225352, 0.26056338, 0.3943662 ],\n",
       "       [0.26056338, 0.3943662 , 0.62676056],\n",
       "       [0.3943662 , 0.62676056, 0.79577465],\n",
       "       [0.62676056, 0.79577465, 0.70422535],\n",
       "       [0.79577465, 0.70422535, 0.53521127],\n",
       "       [0.70422535, 0.53521127, 0.40140845],\n",
       "       [0.53521127, 0.40140845, 0.12676056],\n",
       "       [0.40140845, 0.12676056, 0.33098592],\n",
       "       [0.12676056, 0.33098592, 0.41549296],\n",
       "       [0.33098592, 0.41549296, 0.55633803],\n",
       "       [0.41549296, 0.55633803, 0.5915493 ]])"
      ]
     },
     "execution_count": 2,
     "metadata": {},
     "output_type": "execute_result"
    }
   ],
   "source": [
    "testX"
   ]
  },
  {
   "cell_type": "code",
   "execution_count": 3,
   "metadata": {},
   "outputs": [
    {
     "data": {
      "text/plain": [
       "array([[0.26056338],\n",
       "       [0.3943662 ],\n",
       "       [0.62676056],\n",
       "       [0.79577465],\n",
       "       [0.70422535],\n",
       "       [0.53521127],\n",
       "       [0.40140845],\n",
       "       [0.12676056],\n",
       "       [0.33098592],\n",
       "       [0.41549296],\n",
       "       [0.55633803],\n",
       "       [0.5915493 ],\n",
       "       [0.51408451]])"
      ]
     },
     "execution_count": 3,
     "metadata": {},
     "output_type": "execute_result"
    }
   ],
   "source": [
    "testY"
   ]
  },
  {
   "cell_type": "code",
   "execution_count": 4,
   "metadata": {},
   "outputs": [
    {
     "data": {
      "text/plain": [
       "array([[0.14788732, 0.06338028, 0.43661972],\n",
       "       [0.06338028, 0.43661972, 0.57042253],\n",
       "       [0.43661972, 0.57042253, 0.66901409],\n",
       "       [0.57042253, 0.66901409, 0.6971831 ],\n",
       "       [0.66901409, 0.6971831 , 0.97183099],\n",
       "       [0.6971831 , 0.97183099, 0.5915493 ],\n",
       "       [0.97183099, 0.5915493 , 0.28169014],\n",
       "       [0.5915493 , 0.28169014, 0.26056338],\n",
       "       [0.28169014, 0.26056338, 0.46478873],\n",
       "       [0.26056338, 0.46478873, 0.99295775],\n",
       "       [0.46478873, 0.99295775, 0.67605634],\n",
       "       [0.99295775, 0.67605634, 0.25352113],\n",
       "       [0.67605634, 0.25352113, 0.45070423],\n",
       "       [0.25352113, 0.45070423, 0.        ],\n",
       "       [0.45070423, 0.        , 0.48591549],\n",
       "       [0.        , 0.48591549, 0.78169014],\n",
       "       [0.48591549, 0.78169014, 0.8028169 ],\n",
       "       [0.78169014, 0.8028169 , 0.3028169 ],\n",
       "       [0.8028169 , 0.3028169 , 0.47183099],\n",
       "       [0.3028169 , 0.47183099, 0.41549296],\n",
       "       [0.47183099, 0.41549296, 0.64788732],\n",
       "       [0.41549296, 0.64788732, 0.61267606],\n",
       "       [0.64788732, 0.61267606, 1.        ],\n",
       "       [0.61267606, 1.        , 0.47887324],\n",
       "       [1.        , 0.47887324, 0.3028169 ],\n",
       "       [0.47887324, 0.3028169 , 0.38028169],\n",
       "       [0.3028169 , 0.38028169, 0.5915493 ],\n",
       "       [0.38028169, 0.5915493 , 0.8028169 ],\n",
       "       [0.5915493 , 0.8028169 , 0.47183099],\n",
       "       [0.8028169 , 0.47183099, 0.26760563],\n",
       "       [0.47183099, 0.26760563, 0.4084507 ],\n",
       "       [0.26760563, 0.4084507 , 0.32394366],\n",
       "       [0.4084507 , 0.32394366, 0.45774648],\n",
       "       [0.32394366, 0.45774648, 0.81690141],\n",
       "       [0.45774648, 0.81690141, 0.75352113],\n",
       "       [0.81690141, 0.75352113, 0.43661972],\n",
       "       [0.75352113, 0.43661972, 0.45774648],\n",
       "       [0.43661972, 0.45774648, 0.38732394],\n",
       "       [0.45774648, 0.38732394, 0.46478873],\n",
       "       [0.38732394, 0.46478873, 0.73239437],\n",
       "       [0.46478873, 0.73239437, 0.51408451],\n",
       "       [0.73239437, 0.51408451, 0.28169014],\n",
       "       [0.51408451, 0.28169014, 0.19014085],\n",
       "       [0.28169014, 0.19014085, 0.51408451],\n",
       "       [0.19014085, 0.51408451, 0.50704225],\n",
       "       [0.51408451, 0.50704225, 0.75352113]])"
      ]
     },
     "execution_count": 4,
     "metadata": {},
     "output_type": "execute_result"
    }
   ],
   "source": [
    "trainX"
   ]
  },
  {
   "cell_type": "code",
   "execution_count": 5,
   "metadata": {},
   "outputs": [
    {
     "data": {
      "text/plain": [
       "array([[0.57042253],\n",
       "       [0.66901409],\n",
       "       [0.6971831 ],\n",
       "       [0.97183099],\n",
       "       [0.5915493 ],\n",
       "       [0.28169014],\n",
       "       [0.26056338],\n",
       "       [0.46478873],\n",
       "       [0.99295775],\n",
       "       [0.67605634],\n",
       "       [0.25352113],\n",
       "       [0.45070423],\n",
       "       [0.        ],\n",
       "       [0.48591549],\n",
       "       [0.78169014],\n",
       "       [0.8028169 ],\n",
       "       [0.3028169 ],\n",
       "       [0.47183099],\n",
       "       [0.41549296],\n",
       "       [0.64788732],\n",
       "       [0.61267606],\n",
       "       [1.        ],\n",
       "       [0.47887324],\n",
       "       [0.3028169 ],\n",
       "       [0.38028169],\n",
       "       [0.5915493 ],\n",
       "       [0.8028169 ],\n",
       "       [0.47183099],\n",
       "       [0.26760563],\n",
       "       [0.4084507 ],\n",
       "       [0.32394366],\n",
       "       [0.45774648],\n",
       "       [0.81690141],\n",
       "       [0.75352113],\n",
       "       [0.43661972],\n",
       "       [0.45774648],\n",
       "       [0.38732394],\n",
       "       [0.46478873],\n",
       "       [0.73239437],\n",
       "       [0.51408451],\n",
       "       [0.28169014],\n",
       "       [0.19014085],\n",
       "       [0.51408451],\n",
       "       [0.50704225],\n",
       "       [0.75352113],\n",
       "       [0.54225352]])"
      ]
     },
     "execution_count": 5,
     "metadata": {},
     "output_type": "execute_result"
    }
   ],
   "source": [
    "trainY"
   ]
  },
  {
   "cell_type": "code",
   "execution_count": 6,
   "metadata": {},
   "outputs": [],
   "source": [
    "#Regularization Parameter:\n",
    "Lambda = 0.0001"
   ]
  },
  {
   "cell_type": "code",
   "execution_count": 7,
   "metadata": {},
   "outputs": [],
   "source": [
    "#Need to make changes to costFunction and costFunctionPrim:\n",
    "def costFunction(self, X, y):\n",
    "    #Compute cost for given X,y, use weights already stored in class.\n",
    "    self.yHat = self.forward(X)\n",
    "    #We don't want cost to increase with the number of examples, so normalize by dividing the error term by number of examples(X.shape[0])\n",
    "    J = 0.5*sum((y-self.yHat)**2)/X.shape[0] + (self.Lambda/2)*(sum(self.W1**2)+sum(self.W2**2))\n",
    "    return J\n",
    "\n",
    "def costFunctionPrime(self, X, y):\n",
    "    #Compute derivative with respect to W and W2 for a given X and y:\n",
    "    self.yHat = self.forward(X)\n",
    "\n",
    "    delta3 = np.multiply(-(y-self.yHat), self.sigmoidPrime(self.z3))\n",
    "    #Add gradient of regularization term:\n",
    "    dJdW2 = np.dot(self.a2.T, delta3)/X.shape[0] + self.Lambda*self.W2\n",
    "\n",
    "    delta2 = np.dot(delta3, self.W2.T)*self.sigmoidPrime(self.z2)\n",
    "    #Add gradient of regularization term:\n",
    "    dJdW1 = np.dot(X.T, delta2)/X.shape[0] + self.Lambda*self.W1\n",
    "\n",
    "    return dJdW1, dJdW2"
   ]
  },
  {
   "cell_type": "code",
   "execution_count": 8,
   "metadata": {},
   "outputs": [],
   "source": [
    "#New complete class, with changes:\n",
    "class Neural_Network(object):\n",
    "    def __init__(self, Lambda=0.0001):        \n",
    "        #Define Hyperparameters\n",
    "        self.inputLayerSize = 3\n",
    "        self.outputLayerSize = 1\n",
    "        self.hiddenLayerSize = 6\n",
    "        \n",
    "        #Weights (parameters)\n",
    "        self.W1 = np.random.randn(self.inputLayerSize,self.hiddenLayerSize)\n",
    "        self.W2 = np.random.randn(self.hiddenLayerSize,self.outputLayerSize)\n",
    "        \n",
    "        #Regularization Parameter:\n",
    "        self.Lambda = Lambda\n",
    "        \n",
    "    def forward(self, X):\n",
    "        #Propogate inputs though network\n",
    "        self.z2 = np.dot(X, self.W1)\n",
    "        self.a2 = self.sigmoid(self.z2)\n",
    "        self.z3 = np.dot(self.a2, self.W2)\n",
    "        yHat = self.sigmoid(self.z3) \n",
    "        return yHat\n",
    "        \n",
    "    def sigmoid(self, z):\n",
    "        #Apply sigmoid activation function to scalar, vector, or matrix\n",
    "        return 1/(1+np.exp(-z))\n",
    "    \n",
    "    def sigmoidPrime(self,z):\n",
    "        #Gradient of sigmoid\n",
    "        return np.exp(-z)/((1+np.exp(-z))**2)\n",
    "    \n",
    "    def costFunction(self, X, y):\n",
    "        #Compute cost for given X,y, use weights already stored in class.\n",
    "        self.yHat = self.forward(X)\n",
    "        J = 0.5*sum((y-self.yHat)**2)/X.shape[0] + (self.Lambda/2)*(np.sum(self.W1**2)+np.sum(self.W2**2))\n",
    "        return J\n",
    "        \n",
    "    def costFunctionPrime(self, X, y):\n",
    "        #Compute derivative with respect to W and W2 for a given X and y:\n",
    "        self.yHat = self.forward(X)\n",
    "        \n",
    "        delta3 = np.multiply(-(y-self.yHat), self.sigmoidPrime(self.z3))\n",
    "        #Add gradient of regularization term:\n",
    "        dJdW2 = np.dot(self.a2.T, delta3)/X.shape[0] + self.Lambda*self.W2\n",
    "        \n",
    "        delta2 = np.dot(delta3, self.W2.T)*self.sigmoidPrime(self.z2)\n",
    "        #Add gradient of regularization term:\n",
    "        dJdW1 = np.dot(X.T, delta2)/X.shape[0] + self.Lambda*self.W1\n",
    "        \n",
    "        return dJdW1, dJdW2\n",
    "    \n",
    "    def predict(self):\n",
    "        prediksi = self.forward(dataprediksi)\n",
    "        return prediksi\n",
    "    \n",
    "    #Helper functions for interacting with other methods/classes\n",
    "    def getParams(self):\n",
    "        #Get W1 and W2 Rolled into vector:\n",
    "        params = np.concatenate((self.W1.ravel(), self.W2.ravel()))\n",
    "        return params\n",
    "    \n",
    "    def setParams(self, params):\n",
    "        #Set W1 and W2 using single parameter vector:\n",
    "        W1_start = 0\n",
    "        W1_end = self.hiddenLayerSize*self.inputLayerSize\n",
    "        self.W1 = np.reshape(params[W1_start:W1_end], \\\n",
    "                             (self.inputLayerSize, self.hiddenLayerSize))\n",
    "        W2_end = W1_end + self.hiddenLayerSize*self.outputLayerSize\n",
    "        self.W2 = np.reshape(params[W1_end:W2_end], \\\n",
    "                             (self.hiddenLayerSize, self.outputLayerSize))\n",
    "        \n",
    "    def computeGradients(self, X, y):\n",
    "        dJdW1, dJdW2 = self.costFunctionPrime(X, y)\n",
    "        return np.concatenate((dJdW1.ravel(), dJdW2.ravel()))"
   ]
  },
  {
   "cell_type": "code",
   "execution_count": 9,
   "metadata": {},
   "outputs": [],
   "source": [
    "def computeNumericalGradient(N, X, y):\n",
    "    paramsInitial = N.getParams()\n",
    "    numgrad = np.zeros(paramsInitial.shape)\n",
    "    perturb = np.zeros(paramsInitial.shape)\n",
    "    e = 1e-4\n",
    "\n",
    "    for p in range(len(paramsInitial)):\n",
    "        #Set perturbation vector\n",
    "        perturb[p] = e\n",
    "        N.setParams(paramsInitial + perturb)\n",
    "        loss2 = N.costFunction(X, y)\n",
    "            \n",
    "        N.setParams(paramsInitial - perturb)\n",
    "        loss1 = N.costFunction(X, y)\n",
    "\n",
    "        #Compute Numerical Gradient\n",
    "        numgrad[p] = (loss2 - loss1) / (2*e)\n",
    "\n",
    "            #Return the value we changed to zero:\n",
    "        perturb[p] = 0\n",
    "            \n",
    "    #Return Params to original value:\n",
    "    N.setParams(paramsInitial)\n",
    "\n",
    "    return numgrad "
   ]
  },
  {
   "cell_type": "code",
   "execution_count": 10,
   "metadata": {},
   "outputs": [],
   "source": [
    "NN = Neural_Network(Lambda=0.0001)"
   ]
  },
  {
   "cell_type": "code",
   "execution_count": 11,
   "metadata": {},
   "outputs": [],
   "source": [
    "#Make sure our gradients our correct after making changes:\n",
    "numgrad = computeNumericalGradient(NN, X, y)\n",
    "grad = NN.computeGradients(X,y)"
   ]
  },
  {
   "cell_type": "code",
   "execution_count": 12,
   "metadata": {},
   "outputs": [
    {
     "data": {
      "text/plain": [
       "3.957835988219421e-10"
      ]
     },
     "execution_count": 12,
     "metadata": {},
     "output_type": "execute_result"
    }
   ],
   "source": [
    "#Should be less than 1e-8:\n",
    "np.linalg.norm(grad-numgrad)/np.linalg.norm(grad+numgrad)"
   ]
  },
  {
   "cell_type": "code",
   "execution_count": 13,
   "metadata": {},
   "outputs": [],
   "source": [
    "T = trainer(NN)"
   ]
  },
  {
   "cell_type": "code",
   "execution_count": 14,
   "metadata": {},
   "outputs": [
    {
     "name": "stdout",
     "output_type": "stream",
     "text": [
      "Warning: Maximum number of iterations has been exceeded.\n",
      "         Current function value: 0.014966\n",
      "         Iterations: 100\n",
      "         Function evaluations: 102\n",
      "         Gradient evaluations: 102\n"
     ]
    }
   ],
   "source": [
    "T.train(X,y,testX,testY)"
   ]
  },
  {
   "cell_type": "code",
   "execution_count": 15,
   "metadata": {},
   "outputs": [
    {
     "data": {
      "image/png": "[encoded data removed]",
      "text/plain": [
       "<Figure size 432x288 with 1 Axes>"
      ]
     },
     "metadata": {
      "needs_background": "light"
     },
     "output_type": "display_data"
    }
   ],
   "source": [
    "plot.plot(T.J)\n",
    "plot.plot(T.testJ)\n",
    "plot.grid(1)\n",
    "plot.xlabel('Iterations')\n",
    "plot.ylabel('Cost')\n",
    "plot.legend(['Training', 'Testing'])\n",
    "plot.show()"
   ]
  },
  {
   "cell_type": "code",
   "execution_count": 16,
   "metadata": {},
   "outputs": [
    {
     "data": {
      "text/plain": [
       "[array([0.03010623]),\n",
       " array([0.02110235]),\n",
       " array([0.01975086]),\n",
       " array([0.01973261]),\n",
       " array([0.01971418]),\n",
       " array([0.01967983]),\n",
       " array([0.01961488]),\n",
       " array([0.01949245]),\n",
       " array([0.01926558]),\n",
       " array([0.01886103]),\n",
       " array([0.0181993]),\n",
       " array([0.01732553]),\n",
       " array([0.01673601]),\n",
       " array([0.01594356]),\n",
       " array([0.01570795]),\n",
       " array([0.01568581]),\n",
       " array([0.0156845]),\n",
       " array([0.01568312]),\n",
       " array([0.01568061]),\n",
       " array([0.01567597]),\n",
       " array([0.01566732]),\n",
       " array([0.01565143]),\n",
       " array([0.01562312]),\n",
       " array([0.01557585]),\n",
       " array([0.01550699]),\n",
       " array([0.01544684]),\n",
       " array([0.01539683]),\n",
       " array([0.01537853]),\n",
       " array([0.01537415]),\n",
       " array([0.01537393]),\n",
       " array([0.01537365]),\n",
       " array([0.01537314]),\n",
       " array([0.01537219]),\n",
       " array([0.01537042]),\n",
       " array([0.01536711]),\n",
       " array([0.01536105]),\n",
       " array([0.01535027]),\n",
       " array([0.01533194]),\n",
       " array([0.01530234]),\n",
       " array([0.01525603]),\n",
       " array([0.01518585]),\n",
       " array([0.01511058]),\n",
       " array([0.01507262]),\n",
       " array([0.0150531]),\n",
       " array([0.01505046]),\n",
       " array([0.01505008]),\n",
       " array([0.01504994]),\n",
       " array([0.01504982]),\n",
       " array([0.01504961]),\n",
       " array([0.0150492]),\n",
       " array([0.01504844]),\n",
       " array([0.01504703]),\n",
       " array([0.01504446]),\n",
       " array([0.01503999]),\n",
       " array([0.01503272]),\n",
       " array([0.0150218]),\n",
       " array([0.01500932]),\n",
       " array([0.01499684]),\n",
       " array([0.0149916]),\n",
       " array([0.01498997]),\n",
       " array([0.01498972]),\n",
       " array([0.01498971]),\n",
       " array([0.01498969]),\n",
       " array([0.01498966]),\n",
       " array([0.0149896]),\n",
       " array([0.0149895]),\n",
       " array([0.01498931]),\n",
       " array([0.01498896]),\n",
       " array([0.01498833]),\n",
       " array([0.01498726]),\n",
       " array([0.01498552]),\n",
       " array([0.01498287]),\n",
       " array([0.01497927]),\n",
       " array([0.01497494]),\n",
       " array([0.01497226]),\n",
       " array([0.01497163]),\n",
       " array([0.01497159]),\n",
       " array([0.01497158]),\n",
       " array([0.01497158]),\n",
       " array([0.01497158]),\n",
       " array([0.01497157]),\n",
       " array([0.01497155]),\n",
       " array([0.01497152]),\n",
       " array([0.01497147]),\n",
       " array([0.01497138]),\n",
       " array([0.01497122]),\n",
       " array([0.01497096]),\n",
       " array([0.01497053]),\n",
       " array([0.01496984]),\n",
       " array([0.01496874]),\n",
       " array([0.0149672]),\n",
       " array([0.01496625]),\n",
       " array([0.01496588]),\n",
       " array([0.01496585]),\n",
       " array([0.01496585]),\n",
       " array([0.01496584]),\n",
       " array([0.01496584]),\n",
       " array([0.01496583]),\n",
       " array([0.01496581]),\n",
       " array([0.01496577])]"
      ]
     },
     "execution_count": 16,
     "metadata": {},
     "output_type": "execute_result"
    }
   ],
   "source": [
    "T.J"
   ]
  },
  {
   "cell_type": "code",
   "execution_count": 17,
   "metadata": {},
   "outputs": [
    {
     "data": {
      "text/plain": [
       "[array([0.0306033]),\n",
       " array([0.01461099]),\n",
       " array([0.01533038]),\n",
       " array([0.0151627]),\n",
       " array([0.0150607]),\n",
       " array([0.01494441]),\n",
       " array([0.01478332]),\n",
       " array([0.01453614]),\n",
       " array([0.01413869]),\n",
       " array([0.0134949]),\n",
       " array([0.01249332]),\n",
       " array([0.01115073]),\n",
       " array([0.01054579]),\n",
       " array([0.01010741]),\n",
       " array([0.01037804]),\n",
       " array([0.01056449]),\n",
       " array([0.01058573]),\n",
       " array([0.01059526]),\n",
       " array([0.01060102]),\n",
       " array([0.01060245]),\n",
       " array([0.01059606]),\n",
       " array([0.01057362]),\n",
       " array([0.01051783]),\n",
       " array([0.01039456]),\n",
       " array([0.01014327]),\n",
       " array([0.00987568]),\n",
       " array([0.00960705]),\n",
       " array([0.00948411]),\n",
       " array([0.00945649]),\n",
       " array([0.00946336]),\n",
       " array([0.00947088]),\n",
       " array([0.00947853]),\n",
       " array([0.00948715]),\n",
       " array([0.00949783]),\n",
       " array([0.00951187]),\n",
       " array([0.00953088]),\n",
       " array([0.00955673]),\n",
       " array([0.00959071]),\n",
       " array([0.00962938]),\n",
       " array([0.00965015]),\n",
       " array([0.00958861]),\n",
       " array([0.00935902]),\n",
       " array([0.00912289]),\n",
       " array([0.00900596]),\n",
       " array([0.00900423]),\n",
       " array([0.00900489]),\n",
       " array([0.00900501]),\n",
       " array([0.00900542]),\n",
       " array([0.00900607]),\n",
       " array([0.00900716]),\n",
       " array([0.00900908]),\n",
       " array([0.00901262]),\n",
       " array([0.00901935]),\n",
       " array([0.00903242]),\n",
       " array([0.0090579]),\n",
       " array([0.00910499]),\n",
       " array([0.00915713]),\n",
       " array([0.00920245]),\n",
       " array([0.00920123]),\n",
       " array([0.00919761]),\n",
       " array([0.00919334]),\n",
       " array([0.00919282]),\n",
       " array([0.00919198]),\n",
       " array([0.00919126]),\n",
       " array([0.0091903]),\n",
       " array([0.00918901]),\n",
       " array([0.00918705]),\n",
       " array([0.00918398]),\n",
       " array([0.00917902]),\n",
       " array([0.00917102]),\n",
       " array([0.00915855]),\n",
       " array([0.00914084]),\n",
       " array([0.00912195]),\n",
       " array([0.00910702]),\n",
       " array([0.00910448]),\n",
       " array([0.00911283]),\n",
       " array([0.00911716]),\n",
       " array([0.00911778]),\n",
       " array([0.00911827]),\n",
       " array([0.00911863]),\n",
       " array([0.00911912]),\n",
       " array([0.00911971]),\n",
       " array([0.00912056]),\n",
       " array([0.0091218]),\n",
       " array([0.00912366]),\n",
       " array([0.00912644]),\n",
       " array([0.00913044]),\n",
       " array([0.00913549]),\n",
       " array([0.00914055]),\n",
       " array([0.00914372]),\n",
       " array([0.00914151]),\n",
       " array([0.0091337]),\n",
       " array([0.00912552]),\n",
       " array([0.00912206]),\n",
       " array([0.00912192]),\n",
       " array([0.00912179]),\n",
       " array([0.00912172]),\n",
       " array([0.00912159]),\n",
       " array([0.00912142]),\n",
       " array([0.00912114])]"
      ]
     },
     "execution_count": 17,
     "metadata": {},
     "output_type": "execute_result"
    }
   ],
   "source": [
    "T.testJ"
   ]
  },
  {
   "cell_type": "code",
   "execution_count": 18,
   "metadata": {},
   "outputs": [
    {
     "data": {
      "text/plain": [
       "0.005655154351859431"
      ]
     },
     "execution_count": 18,
     "metadata": {},
     "output_type": "execute_result"
    }
   ],
   "source": [
    "from sklearn.metrics import mean_absolute_error\n",
    "mean_absolute_error(T.J, T.testJ)"
   ]
  },
  {
   "cell_type": "code",
   "execution_count": 19,
   "metadata": {},
   "outputs": [],
   "source": [
    "yHat=NN.forward(X)"
   ]
  },
  {
   "cell_type": "code",
   "execution_count": 20,
   "metadata": {},
   "outputs": [
    {
     "data": {
      "text/plain": [
       "array([[0.7181156 ],\n",
       "       [0.70580162],\n",
       "       [0.56479095],\n",
       "       [0.49826039],\n",
       "       [0.53280106],\n",
       "       [0.36461175],\n",
       "       [0.29157735],\n",
       "       [0.45493009],\n",
       "       [0.63672395],\n",
       "       [0.73851595],\n",
       "       [0.45979665],\n",
       "       [0.27159909],\n",
       "       [0.48220151],\n",
       "       [0.47081844],\n",
       "       [0.63717863],\n",
       "       [0.76532739],\n",
       "       [0.53551791],\n",
       "       [0.31023337],\n",
       "       [0.43126231],\n",
       "       [0.5660674 ],\n",
       "       [0.58078249],\n",
       "       [0.53865982],\n",
       "       [0.56888182],\n",
       "       [0.35977075],\n",
       "       [0.30447519],\n",
       "       [0.52628629],\n",
       "       [0.63763816],\n",
       "       [0.62051282],\n",
       "       [0.40175336],\n",
       "       [0.35057415],\n",
       "       [0.54532274],\n",
       "       [0.56784654],\n",
       "       [0.57137835],\n",
       "       [0.67475432],\n",
       "       [0.52404306],\n",
       "       [0.33462369],\n",
       "       [0.41713923],\n",
       "       [0.50910997],\n",
       "       [0.53948547],\n",
       "       [0.62645295],\n",
       "       [0.47242468],\n",
       "       [0.36692849],\n",
       "       [0.4640478 ],\n",
       "       [0.66577152],\n",
       "       [0.62642347],\n",
       "       [0.57383731],\n",
       "       [0.45992491],\n",
       "       [0.35111825],\n",
       "       [0.5155464 ],\n",
       "       [0.65997259],\n",
       "       [0.60505717],\n",
       "       [0.45111475],\n",
       "       [0.37046804],\n",
       "       [0.39992214],\n",
       "       [0.41470498],\n",
       "       [0.58288504],\n",
       "       [0.66501688],\n",
       "       [0.60894761],\n",
       "       [0.55372826]])"
      ]
     },
     "execution_count": 20,
     "metadata": {},
     "output_type": "execute_result"
    }
   ],
   "source": [
    "yHat"
   ]
  },
  {
   "cell_type": "code",
   "execution_count": 21,
   "metadata": {},
   "outputs": [
    {
     "data": {
      "text/plain": [
       "array([[0.57042253],\n",
       "       [0.66901409],\n",
       "       [0.6971831 ],\n",
       "       [0.97183099],\n",
       "       [0.5915493 ],\n",
       "       [0.28169014],\n",
       "       [0.26056338],\n",
       "       [0.46478873],\n",
       "       [0.99295775],\n",
       "       [0.67605634],\n",
       "       [0.25352113],\n",
       "       [0.45070423],\n",
       "       [0.        ],\n",
       "       [0.48591549],\n",
       "       [0.78169014],\n",
       "       [0.8028169 ],\n",
       "       [0.3028169 ],\n",
       "       [0.47183099],\n",
       "       [0.41549296],\n",
       "       [0.64788732],\n",
       "       [0.61267606],\n",
       "       [1.        ],\n",
       "       [0.47887324],\n",
       "       [0.3028169 ],\n",
       "       [0.38028169],\n",
       "       [0.5915493 ],\n",
       "       [0.8028169 ],\n",
       "       [0.47183099],\n",
       "       [0.26760563],\n",
       "       [0.4084507 ],\n",
       "       [0.32394366],\n",
       "       [0.45774648],\n",
       "       [0.81690141],\n",
       "       [0.75352113],\n",
       "       [0.43661972],\n",
       "       [0.45774648],\n",
       "       [0.38732394],\n",
       "       [0.46478873],\n",
       "       [0.73239437],\n",
       "       [0.51408451],\n",
       "       [0.28169014],\n",
       "       [0.19014085],\n",
       "       [0.51408451],\n",
       "       [0.50704225],\n",
       "       [0.75352113],\n",
       "       [0.54225352],\n",
       "       [0.26056338],\n",
       "       [0.3943662 ],\n",
       "       [0.62676056],\n",
       "       [0.79577465],\n",
       "       [0.70422535],\n",
       "       [0.53521127],\n",
       "       [0.40140845],\n",
       "       [0.12676056],\n",
       "       [0.33098592],\n",
       "       [0.41549296],\n",
       "       [0.55633803],\n",
       "       [0.5915493 ],\n",
       "       [0.51408451]])"
      ]
     },
     "execution_count": 21,
     "metadata": {},
     "output_type": "execute_result"
    }
   ],
   "source": [
    "y"
   ]
  },
  {
   "cell_type": "code",
   "execution_count": 22,
   "metadata": {},
   "outputs": [
    {
     "data": {
      "text/plain": [
       "0.028121696624982956"
      ]
     },
     "execution_count": 22,
     "metadata": {},
     "output_type": "execute_result"
    }
   ],
   "source": [
    "from sklearn.metrics import mean_squared_error \n",
    "mean_squared_error(y,yHat) "
   ]
  },
  {
   "cell_type": "code",
   "execution_count": 23,
   "metadata": {},
   "outputs": [
    {
     "data": {
      "image/png": "[encoded data removed]",
      "text/plain": [
       "<Figure size 432x288 with 1 Axes>"
      ]
     },
     "metadata": {
      "needs_background": "light"
     },
     "output_type": "display_data"
    }
   ],
   "source": [
    "#Plot cost during training:\n",
    "plot.plot(y)\n",
    "plot.plot(yHat)\n",
    "plot.grid(1)\n",
    "plot.legend(['y', 'yHat'])\n",
    "plot.show()"
   ]
  },
  {
   "cell_type": "code",
   "execution_count": 24,
   "metadata": {},
   "outputs": [],
   "source": [
    "prediksi=NN.forward(dataprediksi)"
   ]
  },
  {
   "cell_type": "code",
   "execution_count": 25,
   "metadata": {},
   "outputs": [
    {
     "data": {
      "text/plain": [
       "array([[0.46951319],\n",
       "       [0.43917993],\n",
       "       [0.49151119],\n",
       "       [0.5415459 ]])"
      ]
     },
     "execution_count": 25,
     "metadata": {},
     "output_type": "execute_result"
    }
   ],
   "source": [
    "prediksi"
   ]
  },
  {
   "cell_type": "code",
   "execution_count": 26,
   "metadata": {},
   "outputs": [],
   "source": [
    "from sklearn.metrics import mean_squared_error "
   ]
  },
  {
   "cell_type": "code",
   "execution_count": 27,
   "metadata": {},
   "outputs": [
    {
     "data": {
      "text/plain": [
       "0.009097021312834144"
      ]
     },
     "execution_count": 27,
     "metadata": {},
     "output_type": "execute_result"
    }
   ],
   "source": [
    "Y_true= ([\t0.387323944\t]\t,\n",
    "[\t0.373239437\t]\t,\n",
    "[\t0.366197183\t]\t,\n",
    "[\t0.443661972\t]\t,\n",
    ")\n",
    "\n",
    "\n",
    "Y_pred=prediksi\n",
    "mean_squared_error(Y_true,Y_pred) "
   ]
  },
  {
   "cell_type": "code",
   "execution_count": 28,
   "metadata": {},
   "outputs": [
    {
     "data": {
      "text/plain": [
       "array([[0.55633803, 0.5915493 , 0.51408451],\n",
       "       [0.5915493 , 0.51408451, 0.38732394],\n",
       "       [0.51408451, 0.38732394, 0.37323944],\n",
       "       [0.38732394, 0.37323944, 0.36619718]])"
      ]
     },
     "execution_count": 28,
     "metadata": {},
     "output_type": "execute_result"
    }
   ],
   "source": [
    "dataprediksi"
   ]
  },
  {
   "cell_type": "code",
   "execution_count": 29,
   "metadata": {},
   "outputs": [],
   "source": [
    "a=np.array([\t0.373239437\t,\t0.366197183\t,\t0.443661972\t])"
   ]
  },
  {
   "cell_type": "code",
   "execution_count": 30,
   "metadata": {},
   "outputs": [
    {
     "data": {
      "text/plain": [
       "array([0.57124049])"
      ]
     },
     "execution_count": 30,
     "metadata": {},
     "output_type": "execute_result"
    }
   ],
   "source": [
    "#prediksi 1\n",
    "prediksi=NN.forward(a)\n",
    "prediksi"
   ]
  },
  {
   "cell_type": "code",
   "execution_count": 31,
   "metadata": {},
   "outputs": [
    {
     "data": {
      "text/plain": [
       "array([0.59315789])"
      ]
     },
     "execution_count": 31,
     "metadata": {},
     "output_type": "execute_result"
    }
   ],
   "source": [
    "#prediksi 2\n",
    "c=prediksi\n",
    "b=a[1:]\n",
    "d=np.concatenate((b,c))\n",
    "prediksi=NN.forward(d)\n",
    "prediksi"
   ]
  },
  {
   "cell_type": "code",
   "execution_count": 32,
   "metadata": {},
   "outputs": [
    {
     "data": {
      "text/plain": [
       "array([0.53973515])"
      ]
     },
     "execution_count": 32,
     "metadata": {},
     "output_type": "execute_result"
    }
   ],
   "source": [
    "#prediksi 3\n",
    "c=prediksi\n",
    "b=d[1:]\n",
    "e=np.concatenate((b,c))\n",
    "prediksi=NN.forward(e)\n",
    "prediksi"
   ]
  },
  {
   "cell_type": "code",
   "execution_count": 33,
   "metadata": {},
   "outputs": [
    {
     "data": {
      "text/plain": [
       "array([0.47072039])"
      ]
     },
     "execution_count": 33,
     "metadata": {},
     "output_type": "execute_result"
    }
   ],
   "source": [
    "#prediksi 4\n",
    "c=prediksi\n",
    "b=e[1:]\n",
    "f=np.concatenate((b,c))\n",
    "prediksi=NN.forward(f)\n",
    "prediksi"
   ]
  },
  {
   "cell_type": "code",
   "execution_count": 34,
   "metadata": {},
   "outputs": [
    {
     "data": {
      "text/plain": [
       "array([0.45544004])"
      ]
     },
     "execution_count": 34,
     "metadata": {},
     "output_type": "execute_result"
    }
   ],
   "source": [
    "#prediksi 5\n",
    "c=prediksi\n",
    "b=f[1:]\n",
    "g=np.concatenate((b,c))\n",
    "prediksi=NN.forward(g)\n",
    "prediksi"
   ]
  },
  {
   "cell_type": "code",
   "execution_count": 35,
   "metadata": {},
   "outputs": [
    {
     "data": {
      "text/plain": [
       "array([0.4862379])"
      ]
     },
     "execution_count": 35,
     "metadata": {},
     "output_type": "execute_result"
    }
   ],
   "source": [
    "#prediksi 6\n",
    "c=prediksi\n",
    "b=g[1:]\n",
    "h=np.concatenate((b,c))\n",
    "prediksi=NN.forward(h)\n",
    "prediksi"
   ]
  },
  {
   "cell_type": "code",
   "execution_count": null,
   "metadata": {},
   "outputs": [],
   "source": []
  }
 ],
 "metadata": {
  "kernelspec": {
   "display_name": "Python 3",
   "language": "python",
   "name": "python3"
  },
  "language_info": {
   "codemirror_mode": {
    "name": "ipython",
    "version": 3
   },
   "file_extension": ".py",
   "mimetype": "text/x-python",
   "name": "python",
   "nbconvert_exporter": "python",
   "pygments_lexer": "ipython3",
   "version": "3.7.3"
  }
 },
 "nbformat": 4,
 "nbformat_minor": 2
}
