{
 "cells": [
  {
   "cell_type": "code",
   "execution_count": 1,
   "metadata": {},
   "outputs": [],
   "source": [
    "import numpy as np"
   ]
  },
  {
   "cell_type": "code",
   "execution_count": 2,
   "metadata": {},
   "outputs": [],
   "source": [
    "#UNTUK NILAI IMPOR\n",
    "class Neural_Network(object):\n",
    "    def __init__(self):\n",
    "        #parameters\n",
    "        self.inputLayerSize = 3\n",
    "        self.outputLayerSize = 1\n",
    "        self.hiddenLayerSize = 2\n",
    "\n",
    "        #weights\n",
    "        self.W1 = np.random.randn(self.inputLayerSize,\\\n",
    "                                 self.hiddenLayerSize)  \n",
    "        self.W2 = np.random.randn(self.hiddenLayerSize,\\\n",
    "                                 self.outputLayerSize)  \n",
    "    \n",
    "    def printw(self):\n",
    "        return self.W1\n",
    "        \n",
    "    def weight(self, W1, W2):\n",
    "        #Make an internal variable for the weight:\n",
    "        self.W1 = W1\n",
    "        self.W2 = W2\n",
    "        \n",
    "    def forward(self, X):\n",
    "        #forward propagation through our network\n",
    "        self.z2 = np.dot(X,self.W1)  \n",
    "        self.a2 = self.sigmoid(self.z2)  # activation function\n",
    "        self.z3 = np.dot(self.a2, self.W2) \n",
    "        yHat = self.sigmoid(self.z3)  # final activation function\n",
    "        return yHat\n",
    "\n",
    "    def sigmoid(self, z):\n",
    "        # activation function\n",
    "        return 1 / (1 + np.exp(-z))\n",
    "    \n",
    "    def sigmoidPrime(self,z): \n",
    "        #derivative of sigmoid     \n",
    "        return np.exp(-z)/((1+np.exp(-z))**2)\n",
    "    \n",
    "    def costFunction(self,X,y):\n",
    "        self.yHat = self.forward(X)\n",
    "        J=0.5*sum((y-self.yHat)**2)\n",
    "        return J\n",
    "    \n",
    "    def costFunctionPrime(self,X,y):\n",
    "        self.yHat=self.forward(X)\n",
    "        \n",
    "        delta3=np.multiply(-(y-self.yHat),self.sigmoidPrime(self.z3))\n",
    "        dJdW2=np.dot(self.a2.T,delta3)\n",
    "        \n",
    "        delta2=np.dot(delta3,self.W2.T)*self.sigmoidPrime(self.z2)\n",
    "        dJdW1=np.dot(X.T,delta2)\n",
    "        return dJdW1,dJdW2\n",
    "    \n",
    "    def predict(self):\n",
    "        prediksi = self.forward(dataprediksi)\n",
    "        return prediksi\n",
    "    \n",
    "    def getParams(self):\n",
    "        params=np.concatenate((self.W1.ravel(),self.W2.ravel()))\n",
    "        return params\n",
    "    \n",
    "    def setParams(self,params):\n",
    "        W1_start=0\n",
    "        W1_end=self.hiddenLayerSize*self.inputLayerSize\n",
    "        self.W1=np.reshape(params[W1_start:W1_end],\\\n",
    "                          (self.inputLayerSize,self.hiddenLayerSize))\n",
    "        W2_end=W1_end+self.hiddenLayerSize*self.outputLayerSize\n",
    "        self.W2=np.reshape(params[W1_end:W2_end],\\\n",
    "                          (self.hiddenLayerSize,self.outputLayerSize))\n",
    "        \n",
    "    def computeGradients(self, X, y):\n",
    "        dJdW1, dJdW2 = self.costFunctionPrime(X, y)\n",
    "        return np.concatenate((dJdW1.ravel(), dJdW2.ravel()))"
   ]
  },
  {
   "cell_type": "code",
   "execution_count": 3,
   "metadata": {},
   "outputs": [],
   "source": [
    "NN = Neural_Network()"
   ]
  },
  {
   "cell_type": "code",
   "execution_count": 4,
   "metadata": {},
   "outputs": [
    {
     "data": {
      "text/plain": [
       "array([[-0.87490846,  0.6118683 ],\n",
       "       [ 0.93491065, -0.26450548],\n",
       "       [ 2.11056791, -0.43061577]])"
      ]
     },
     "execution_count": 4,
     "metadata": {},
     "output_type": "execute_result"
    }
   ],
   "source": [
    "NN.W1"
   ]
  },
  {
   "cell_type": "code",
   "execution_count": 5,
   "metadata": {},
   "outputs": [
    {
     "data": {
      "text/plain": [
       "array([[ 0.74436311],\n",
       "       [-0.7411706 ]])"
      ]
     },
     "execution_count": 5,
     "metadata": {},
     "output_type": "execute_result"
    }
   ],
   "source": [
    "NN.W2"
   ]
  },
  {
   "cell_type": "code",
   "execution_count": 6,
   "metadata": {},
   "outputs": [],
   "source": [
    "#NILAI IMPOR\n",
    "X=np.array(([\t0.147887324\t,\t0.063380282\t,\t0.436619718\t]\t,\n",
    "[\t0.063380282\t,\t0.436619718\t,\t0.570422535\t]\t,\n",
    "[\t0.436619718\t,\t0.570422535\t,\t0.669014085\t]\t,\n",
    "[\t0.570422535\t,\t0.669014085\t,\t0.697183099\t]\t,\n",
    "[\t0.669014085\t,\t0.697183099\t,\t0.971830986\t]\t,\n",
    "[\t0.697183099\t,\t0.971830986\t,\t0.591549296\t]\t,\n",
    "[\t0.971830986\t,\t0.591549296\t,\t0.281690141\t]\t,\n",
    "[\t0.591549296\t,\t0.281690141\t,\t0.26056338\t]\t,\n",
    "[\t0.281690141\t,\t0.26056338\t,\t0.464788732\t]\t,\n",
    "[\t0.26056338\t,\t0.464788732\t,\t0.992957746\t]\t,\n",
    "[\t0.464788732\t,\t0.992957746\t,\t0.676056338\t]\t,\n",
    "[\t0.992957746\t,\t0.676056338\t,\t0.253521127\t]\t,\n",
    "[\t0.676056338\t,\t0.253521127\t,\t0.450704225\t]\t,\n",
    "[\t0.253521127\t,\t0.450704225\t,\t0\t]\t,\n",
    "[\t0.450704225\t,\t0\t,\t0.485915493\t]\t,\n",
    "[\t0\t,\t0.485915493\t,\t0.781690141\t]\t,\n",
    "[\t0.485915493\t,\t0.781690141\t,\t0.802816901\t]\t,\n",
    "[\t0.781690141\t,\t0.802816901\t,\t0.302816901\t]\t,\n",
    "[\t0.802816901\t,\t0.302816901\t,\t0.471830986\t]\t,\n",
    "[\t0.302816901\t,\t0.471830986\t,\t0.415492958\t]\t,\n",
    "[\t0.471830986\t,\t0.415492958\t,\t0.647887324\t]\t,\n",
    "[\t0.415492958\t,\t0.647887324\t,\t0.612676056\t]\t,\n",
    "[\t0.647887324\t,\t0.612676056\t,\t1\t]\t,\n",
    "[\t0.612676056\t,\t1\t,\t0.478873239\t]\t,\n",
    "[\t1\t,\t0.478873239\t,\t0.302816901\t]\t,\n",
    "[\t0.478873239\t,\t0.302816901\t,\t0.38028169\t]\t,\n",
    "[\t0.302816901\t,\t0.38028169\t,\t0.591549296\t]\t,\n",
    "[\t0.38028169\t,\t0.591549296\t,\t0.802816901\t]\t,\n",
    "[\t0.591549296\t,\t0.802816901\t,\t0.471830986\t]\t,\n",
    "[\t0.802816901\t,\t0.471830986\t,\t0.267605634\t]\t,\n",
    "[\t0.471830986\t,\t0.267605634\t,\t0.408450704\t]\t,\n",
    "[\t0.267605634\t,\t0.408450704\t,\t0.323943662\t]\t,\n",
    "[\t0.408450704\t,\t0.323943662\t,\t0.457746479\t]\t,\n",
    "[\t0.323943662\t,\t0.457746479\t,\t0.816901408\t]\t,\n",
    "[\t0.457746479\t,\t0.816901408\t,\t0.753521127\t]\t,\n",
    "[\t0.816901408\t,\t0.753521127\t,\t0.436619718\t]\t,\n",
    "[\t0.753521127\t,\t0.436619718\t,\t0.457746479\t]\t,\n",
    "[\t0.436619718\t,\t0.457746479\t,\t0.387323944\t]\t,\n",
    "[\t0.457746479\t,\t0.387323944\t,\t0.464788732\t]\t,\n",
    "[\t0.387323944\t,\t0.464788732\t,\t0.732394366\t]\t,\n",
    "[\t0.464788732\t,\t0.732394366\t,\t0.514084507\t]\t,\n",
    "[\t0.732394366\t,\t0.514084507\t,\t0.281690141\t]\t,\n",
    "[\t0.514084507\t,\t0.281690141\t,\t0.190140845\t]\t,\n",
    "[\t0.281690141\t,\t0.190140845\t,\t0.514084507\t]\t,\n",
    "[\t0.190140845\t,\t0.514084507\t,\t0.507042254\t]\t,\n",
    "[\t0.514084507\t,\t0.507042254\t,\t0.753521127\t]\t,\n",
    "[\t0.507042254\t,\t0.753521127\t,\t0.542253521\t]\t,\n",
    "[\t0.753521127\t,\t0.542253521\t,\t0.26056338\t]\t,\n",
    "[\t0.542253521\t,\t0.26056338\t,\t0.394366197\t]\t,\n",
    "[\t0.26056338\t,\t0.394366197\t,\t0.626760563\t]\t,\n",
    "[\t0.394366197\t,\t0.626760563\t,\t0.795774648\t]\t,\n",
    "[\t0.626760563\t,\t0.795774648\t,\t0.704225352\t]\t,\n",
    "[\t0.795774648\t,\t0.704225352\t,\t0.535211268\t]\t,\n",
    "[\t0.704225352\t,\t0.535211268\t,\t0.401408451\t]\t,\n",
    "[\t0.535211268\t,\t0.401408451\t,\t0.126760563\t]\t,\n",
    "[\t0.401408451\t,\t0.126760563\t,\t0.330985915\t]\t,\n",
    "[\t0.126760563\t,\t0.330985915\t,\t0.415492958\t]\t,\n",
    "[\t0.330985915\t,\t0.415492958\t,\t0.556338028\t]\t,\n",
    "[\t0.415492958\t,\t0.556338028\t,\t0.591549296\t]\t,\n",
    "\n",
    "\n",
    ")           \n",
    ",dtype=float)\n",
    "y=np.array(([\t0.570422535\t]\t,\n",
    "[\t0.669014085\t]\t,\n",
    "[\t0.697183099\t]\t,\n",
    "[\t0.971830986\t]\t,\n",
    "[\t0.591549296\t]\t,\n",
    "[\t0.281690141\t]\t,\n",
    "[\t0.26056338\t]\t,\n",
    "[\t0.464788732\t]\t,\n",
    "[\t0.992957746\t]\t,\n",
    "[\t0.676056338\t]\t,\n",
    "[\t0.253521127\t]\t,\n",
    "[\t0.450704225\t]\t,\n",
    "[\t0\t]\t,\n",
    "[\t0.485915493\t]\t,\n",
    "[\t0.781690141\t]\t,\n",
    "[\t0.802816901\t]\t,\n",
    "[\t0.302816901\t]\t,\n",
    "[\t0.471830986\t]\t,\n",
    "[\t0.415492958\t]\t,\n",
    "[\t0.647887324\t]\t,\n",
    "[\t0.612676056\t]\t,\n",
    "[\t1\t]\t,\n",
    "[\t0.478873239\t]\t,\n",
    "[\t0.302816901\t]\t,\n",
    "[\t0.38028169\t]\t,\n",
    "[\t0.591549296\t]\t,\n",
    "[\t0.802816901\t]\t,\n",
    "[\t0.471830986\t]\t,\n",
    "[\t0.267605634\t]\t,\n",
    "[\t0.408450704\t]\t,\n",
    "[\t0.323943662\t]\t,\n",
    "[\t0.457746479\t]\t,\n",
    "[\t0.816901408\t]\t,\n",
    "[\t0.753521127\t]\t,\n",
    "[\t0.436619718\t]\t,\n",
    "[\t0.457746479\t]\t,\n",
    "[\t0.387323944\t]\t,\n",
    "[\t0.464788732\t]\t,\n",
    "[\t0.732394366\t]\t,\n",
    "[\t0.514084507\t]\t,\n",
    "[\t0.281690141\t]\t,\n",
    "[\t0.190140845\t]\t,\n",
    "[\t0.514084507\t]\t,\n",
    "[\t0.507042254\t]\t,\n",
    "[\t0.753521127\t]\t,\n",
    "[\t0.542253521\t]\t,\n",
    "[\t0.26056338\t]\t,\n",
    "[\t0.394366197\t]\t,\n",
    "[\t0.626760563\t]\t,\n",
    "[\t0.795774648\t]\t,\n",
    "[\t0.704225352\t]\t,\n",
    "[\t0.535211268\t]\t,\n",
    "[\t0.401408451\t]\t,\n",
    "[\t0.126760563\t]\t,\n",
    "[\t0.330985915\t]\t,\n",
    "[\t0.415492958\t]\t,\n",
    "[\t0.556338028\t]\t,\n",
    "[\t0.591549296\t]\t,\n",
    "[\t0.514084507\t]\t,\n",
    "\n",
    ")\n",
    ",dtype=float)\n",
    "\n",
    "dataprediksi = np.array(([\t0.556338028\t,\t0.591549296\t,\t0.514084507\t]\t,\n",
    "[\t0.591549296\t,\t0.514084507\t,\t0.387323944\t]\t,\n",
    "[\t0.514084507\t,\t0.387323944\t,\t0.373239437\t]\t,\n",
    "[\t0.387323944\t,\t0.373239437\t,\t0.366197183\t]\t,\n",
    "\n",
    "\n",
    "), dtype=float)\n"
   ]
  },
  {
   "cell_type": "code",
   "execution_count": 7,
   "metadata": {},
   "outputs": [],
   "source": [
    "import matplotlib.pyplot as plot"
   ]
  },
  {
   "cell_type": "code",
   "execution_count": 8,
   "metadata": {},
   "outputs": [],
   "source": [
    "from scipy import optimize"
   ]
  },
  {
   "cell_type": "code",
   "execution_count": 9,
   "metadata": {},
   "outputs": [],
   "source": [
    "class trainer(object):\n",
    "    def __init__(self, N):\n",
    "        #Make Local reference to network:\n",
    "        self.N = N\n",
    "        \n",
    "    def callbackF(self, params):\n",
    "        self.N.setParams(params)\n",
    "        self.J.append(self.N.costFunction(self.X, self.y))   \n",
    "        \n",
    "    def costFunctionWrapper(self, params, X, y):\n",
    "        self.N.setParams(params)\n",
    "        cost = self.N.costFunction(X, y)\n",
    "        grad = self.N.computeGradients(X,y)\n",
    "        \n",
    "        return cost, grad\n",
    "        \n",
    "    def train(self, X, y):\n",
    "        #Make an internal variable for the callback function:\n",
    "        self.X = X\n",
    "        self.y = y\n",
    "\n",
    "        #Make empty list to store costs:\n",
    "        self.J = []\n",
    "        \n",
    "        params0 = self.N.getParams()\n",
    "\n",
    "        options = {'maxiter': 100, 'disp' : True}\n",
    "        _res = optimize.minimize(self.costFunctionWrapper, params0, jac=True, method='BFGS', \\\n",
    "                                 args=(X, y), options=options, callback=self.callbackF)\n",
    "\n",
    "        self.N.setParams(_res.x)\n",
    "        self.optimizationResults = _res"
   ]
  },
  {
   "cell_type": "code",
   "execution_count": 10,
   "metadata": {},
   "outputs": [],
   "source": [
    "NN=Neural_Network()"
   ]
  },
  {
   "cell_type": "code",
   "execution_count": 11,
   "metadata": {},
   "outputs": [],
   "source": [
    "T = trainer(NN)"
   ]
  },
  {
   "cell_type": "code",
   "execution_count": 12,
   "metadata": {},
   "outputs": [
    {
     "name": "stdout",
     "output_type": "stream",
     "text": [
      "Warning: Maximum number of iterations has been exceeded.\n",
      "         Current function value: 0.724875\n",
      "         Iterations: 100\n",
      "         Function evaluations: 106\n",
      "         Gradient evaluations: 106\n"
     ]
    }
   ],
   "source": [
    "#Train network with new data:\n",
    "T = trainer(NN)\n",
    "T.train(X,y)"
   ]
  },
  {
   "cell_type": "code",
   "execution_count": 13,
   "metadata": {},
   "outputs": [
    {
     "data": {
      "image/png": "[encoded data removed]",
      "text/plain": [
       "<Figure size 432x288 with 1 Axes>"
      ]
     },
     "metadata": {
      "needs_background": "light"
     },
     "output_type": "display_data"
    }
   ],
   "source": [
    "#Plot cost during training:\n",
    "plot.plot(T.J)\n",
    "plot.grid(1)\n",
    "plot.xlabel('Iterations')\n",
    "plot.ylabel('Cost')\n",
    "plot.show()"
   ]
  },
  {
   "cell_type": "code",
   "execution_count": 14,
   "metadata": {},
   "outputs": [],
   "source": [
    "#Training Data:\n",
    "trainX = np.array(([\t0.147887324\t,\t0.063380282\t,\t0.436619718\t]\t,\n",
    "[\t0.063380282\t,\t0.436619718\t,\t0.570422535\t]\t,\n",
    "[\t0.436619718\t,\t0.570422535\t,\t0.669014085\t]\t,\n",
    "[\t0.570422535\t,\t0.669014085\t,\t0.697183099\t]\t,\n",
    "[\t0.669014085\t,\t0.697183099\t,\t0.971830986\t]\t,\n",
    "[\t0.697183099\t,\t0.971830986\t,\t0.591549296\t]\t,\n",
    "[\t0.971830986\t,\t0.591549296\t,\t0.281690141\t]\t,\n",
    "[\t0.591549296\t,\t0.281690141\t,\t0.26056338\t]\t,\n",
    "[\t0.281690141\t,\t0.26056338\t,\t0.464788732\t]\t,\n",
    "[\t0.26056338\t,\t0.464788732\t,\t0.992957746\t]\t,\n",
    "[\t0.464788732\t,\t0.992957746\t,\t0.676056338\t]\t,\n",
    "[\t0.992957746\t,\t0.676056338\t,\t0.253521127\t]\t,\n",
    "[\t0.676056338\t,\t0.253521127\t,\t0.450704225\t]\t,\n",
    "[\t0.253521127\t,\t0.450704225\t,\t0\t]\t,\n",
    "[\t0.450704225\t,\t0\t,\t0.485915493\t]\t,\n",
    "[\t0\t,\t0.485915493\t,\t0.781690141\t]\t,\n",
    "[\t0.485915493\t,\t0.781690141\t,\t0.802816901\t]\t,\n",
    "[\t0.781690141\t,\t0.802816901\t,\t0.302816901\t]\t,\n",
    "[\t0.802816901\t,\t0.302816901\t,\t0.471830986\t]\t,\n",
    "[\t0.302816901\t,\t0.471830986\t,\t0.415492958\t]\t,\n",
    "[\t0.471830986\t,\t0.415492958\t,\t0.647887324\t]\t,\n",
    "[\t0.415492958\t,\t0.647887324\t,\t0.612676056\t]\t,\n",
    "[\t0.647887324\t,\t0.612676056\t,\t1\t]\t,\n",
    "[\t0.612676056\t,\t1\t,\t0.478873239\t]\t,\n",
    "[\t1\t,\t0.478873239\t,\t0.302816901\t]\t,\n",
    "[\t0.478873239\t,\t0.302816901\t,\t0.38028169\t]\t,\n",
    "[\t0.302816901\t,\t0.38028169\t,\t0.591549296\t]\t,\n",
    "[\t0.38028169\t,\t0.591549296\t,\t0.802816901\t]\t,\n",
    "[\t0.591549296\t,\t0.802816901\t,\t0.471830986\t]\t,\n",
    "[\t0.802816901\t,\t0.471830986\t,\t0.267605634\t]\t,\n",
    "[\t0.471830986\t,\t0.267605634\t,\t0.408450704\t]\t,\n",
    "[\t0.267605634\t,\t0.408450704\t,\t0.323943662\t]\t,\n",
    "[\t0.408450704\t,\t0.323943662\t,\t0.457746479\t]\t,\n",
    "[\t0.323943662\t,\t0.457746479\t,\t0.816901408\t]\t,\n",
    "[\t0.457746479\t,\t0.816901408\t,\t0.753521127\t]\t,\n",
    "[\t0.816901408\t,\t0.753521127\t,\t0.436619718\t]\t,\n",
    "[\t0.753521127\t,\t0.436619718\t,\t0.457746479\t]\t,\n",
    "[\t0.436619718\t,\t0.457746479\t,\t0.387323944\t]\t,\n",
    "[\t0.457746479\t,\t0.387323944\t,\t0.464788732\t]\t,\n",
    "[\t0.387323944\t,\t0.464788732\t,\t0.732394366\t]\t,\n",
    "[\t0.464788732\t,\t0.732394366\t,\t0.514084507\t]\t,\n",
    "[\t0.732394366\t,\t0.514084507\t,\t0.281690141\t]\t,\n",
    "[\t0.514084507\t,\t0.281690141\t,\t0.190140845\t]\t,\n",
    "[\t0.281690141\t,\t0.190140845\t,\t0.514084507\t]\t,\n",
    "[\t0.190140845\t,\t0.514084507\t,\t0.507042254\t]\t,\n",
    "[\t0.514084507\t,\t0.507042254\t,\t0.753521127\t]\t,\n",
    "\n",
    ")\n",
    ", dtype=float)\n",
    "trainY = np.array(([\t0.570422535\t]\t,\n",
    "[\t0.669014085\t]\t,\n",
    "[\t0.697183099\t]\t,\n",
    "[\t0.971830986\t]\t,\n",
    "[\t0.591549296\t]\t,\n",
    "[\t0.281690141\t]\t,\n",
    "[\t0.26056338\t]\t,\n",
    "[\t0.464788732\t]\t,\n",
    "[\t0.992957746\t]\t,\n",
    "[\t0.676056338\t]\t,\n",
    "[\t0.253521127\t]\t,\n",
    "[\t0.450704225\t]\t,\n",
    "[\t0\t]\t,\n",
    "[\t0.485915493\t]\t,\n",
    "[\t0.781690141\t]\t,\n",
    "[\t0.802816901\t]\t,\n",
    "[\t0.302816901\t]\t,\n",
    "[\t0.471830986\t]\t,\n",
    "[\t0.415492958\t]\t,\n",
    "[\t0.647887324\t]\t,\n",
    "[\t0.612676056\t]\t,\n",
    "[\t1\t]\t,\n",
    "[\t0.478873239\t]\t,\n",
    "[\t0.302816901\t]\t,\n",
    "[\t0.38028169\t]\t,\n",
    "[\t0.591549296\t]\t,\n",
    "[\t0.802816901\t]\t,\n",
    "[\t0.471830986\t]\t,\n",
    "[\t0.267605634\t]\t,\n",
    "[\t0.408450704\t]\t,\n",
    "[\t0.323943662\t]\t,\n",
    "[\t0.457746479\t]\t,\n",
    "[\t0.816901408\t]\t,\n",
    "[\t0.753521127\t]\t,\n",
    "[\t0.436619718\t]\t,\n",
    "[\t0.457746479\t]\t,\n",
    "[\t0.387323944\t]\t,\n",
    "[\t0.464788732\t]\t,\n",
    "[\t0.732394366\t]\t,\n",
    "[\t0.514084507\t]\t,\n",
    "[\t0.281690141\t]\t,\n",
    "[\t0.190140845\t]\t,\n",
    "[\t0.514084507\t]\t,\n",
    "[\t0.507042254\t]\t,\n",
    "[\t0.753521127\t]\t,\n",
    "[\t0.542253521\t]\t,\n",
    "\n",
    ")\n",
    ", dtype=float)\n",
    "\n",
    "#Testing Data:\n",
    "testX = np.array(([\t0.507042254\t,\t0.753521127\t,\t0.542253521\t]\t,\n",
    "[\t0.753521127\t,\t0.542253521\t,\t0.26056338\t]\t,\n",
    "[\t0.542253521\t,\t0.26056338\t,\t0.394366197\t]\t,\n",
    "[\t0.26056338\t,\t0.394366197\t,\t0.626760563\t]\t,\n",
    "[\t0.394366197\t,\t0.626760563\t,\t0.795774648\t]\t,\n",
    "[\t0.626760563\t,\t0.795774648\t,\t0.704225352\t]\t,\n",
    "[\t0.795774648\t,\t0.704225352\t,\t0.535211268\t]\t,\n",
    "[\t0.704225352\t,\t0.535211268\t,\t0.401408451\t]\t,\n",
    "[\t0.535211268\t,\t0.401408451\t,\t0.126760563\t]\t,\n",
    "[\t0.401408451\t,\t0.126760563\t,\t0.330985915\t]\t,\n",
    "[\t0.126760563\t,\t0.330985915\t,\t0.415492958\t]\t,\n",
    "[\t0.330985915\t,\t0.415492958\t,\t0.556338028\t]\t,\n",
    "[\t0.415492958\t,\t0.556338028\t,\t0.591549296\t]\t,\n",
    "\n",
    "\n",
    ")\n",
    ", dtype=float)\n",
    "testY = np.array(([\t0.26056338\t]\t,\n",
    "[\t0.394366197\t]\t,\n",
    "[\t0.626760563\t]\t,\n",
    "[\t0.795774648\t]\t,\n",
    "[\t0.704225352\t]\t,\n",
    "[\t0.535211268\t]\t,\n",
    "[\t0.401408451\t]\t,\n",
    "[\t0.126760563\t]\t,\n",
    "[\t0.330985915\t]\t,\n",
    "[\t0.415492958\t]\t,\n",
    "[\t0.556338028\t]\t,\n",
    "[\t0.591549296\t]\t,\n",
    "[\t0.514084507\t]\t,\n",
    "\n",
    "\n",
    ")\n",
    ", dtype=float)\n",
    "\n",
    "\n",
    "dataprediksi = np.array(([\t0.556338028\t,\t0.591549296\t,\t0.514084507\t]\t,\n",
    "[\t0.591549296\t,\t0.514084507\t,\t0.387323944\t]\t,\n",
    "[\t0.514084507\t,\t0.387323944\t,\t0.373239437\t]\t,\n",
    "[\t0.387323944\t,\t0.373239437\t,\t0.366197183\t]\t,\n",
    "\n",
    "\n",
    "), dtype=float)"
   ]
  },
  {
   "cell_type": "code",
   "execution_count": 15,
   "metadata": {},
   "outputs": [
    {
     "data": {
      "text/plain": [
       "array([[0.50704225, 0.75352113, 0.54225352],\n",
       "       [0.75352113, 0.54225352, 0.26056338],\n",
       "       [0.54225352, 0.26056338, 0.3943662 ],\n",
       "       [0.26056338, 0.3943662 , 0.62676056],\n",
       "       [0.3943662 , 0.62676056, 0.79577465],\n",
       "       [0.62676056, 0.79577465, 0.70422535],\n",
       "       [0.79577465, 0.70422535, 0.53521127],\n",
       "       [0.70422535, 0.53521127, 0.40140845],\n",
       "       [0.53521127, 0.40140845, 0.12676056],\n",
       "       [0.40140845, 0.12676056, 0.33098592],\n",
       "       [0.12676056, 0.33098592, 0.41549296],\n",
       "       [0.33098592, 0.41549296, 0.55633803],\n",
       "       [0.41549296, 0.55633803, 0.5915493 ]])"
      ]
     },
     "execution_count": 15,
     "metadata": {},
     "output_type": "execute_result"
    }
   ],
   "source": [
    "testX"
   ]
  },
  {
   "cell_type": "code",
   "execution_count": 16,
   "metadata": {},
   "outputs": [],
   "source": [
    "##Need to modify trainer class a bit to check testing error during training:\n",
    "class trainer(object):\n",
    "    def __init__(self, N):\n",
    "        #Make Local reference to network:\n",
    "        self.N = N\n",
    "        \n",
    "    def callbackF(self, params):\n",
    "        self.N.setParams(params)\n",
    "        self.J.append(self.N.costFunction(self.X, self.y))\n",
    "        self.testJ.append(self.N.costFunction(self.testX, self.testY))\n",
    "        \n",
    "    def costFunctionWrapper(self, params, X, y):\n",
    "        self.N.setParams(params)\n",
    "        cost = self.N.costFunction(X, y)\n",
    "        grad = self.N.computeGradients(X,y)\n",
    "        \n",
    "        return cost, grad\n",
    "        \n",
    "    def train(self, trainX, trainY, testX, testY):\n",
    "        #Make an internal variable for the callback function:\n",
    "        self.X = trainX\n",
    "        self.y = trainY\n",
    "        \n",
    "        self.testX = testX\n",
    "        self.testY = testY\n",
    "\n",
    "        #Make empty list to store training costs:\n",
    "        self.J = []\n",
    "        self.testJ = []\n",
    "        \n",
    "        params0 = self.N.getParams()\n",
    "\n",
    "        options = {'maxiter': 100, 'disp' : True}\n",
    "        _res = optimize.minimize(self.costFunctionWrapper, params0, jac=True, method='BFGS', \\\n",
    "                                 args=(trainX, trainY), options=options, callback=self.callbackF)\n",
    "\n",
    "        self.N.setParams(_res.x)\n",
    "        self.optimizationResults = _res"
   ]
  },
  {
   "cell_type": "code",
   "execution_count": 17,
   "metadata": {},
   "outputs": [
    {
     "name": "stdout",
     "output_type": "stream",
     "text": [
      "Warning: Maximum number of iterations has been exceeded.\n",
      "         Current function value: 0.468255\n",
      "         Iterations: 100\n",
      "         Function evaluations: 112\n",
      "         Gradient evaluations: 112\n"
     ]
    },
    {
     "name": "stderr",
     "output_type": "stream",
     "text": [
      "C:\\Users\\ASUS\\Anaconda3\\lib\\site-packages\\ipykernel_launcher.py:37: RuntimeWarning: overflow encountered in square\n"
     ]
    }
   ],
   "source": [
    "#Train network with new data:\n",
    "NN = Neural_Network()\n",
    "\n",
    "T = trainer(NN)\n",
    "T.train(trainX, trainY, testX, testY)"
   ]
  },
  {
   "cell_type": "code",
   "execution_count": 18,
   "metadata": {},
   "outputs": [
    {
     "data": {
      "image/png": "[encoded data removed]",
      "text/plain": [
       "<Figure size 432x288 with 1 Axes>"
      ]
     },
     "metadata": {
      "needs_background": "light"
     },
     "output_type": "display_data"
    }
   ],
   "source": [
    "#Plot cost during training:\n",
    "plot.plot(T.J)\n",
    "plot.plot(T.testJ)\n",
    "plot.grid(1)\n",
    "plot.xlabel('Iterations')\n",
    "plot.ylabel('Cost')\n",
    "plot.legend(['Training', 'Testing'])\n",
    "plot.show()"
   ]
  },
  {
   "cell_type": "code",
   "execution_count": 19,
   "metadata": {},
   "outputs": [
    {
     "data": {
      "text/plain": [
       "[array([1.19430465]),\n",
       " array([1.05950588]),\n",
       " array([1.0540656]),\n",
       " array([1.00949176]),\n",
       " array([0.98245739]),\n",
       " array([0.93521738]),\n",
       " array([0.86918245]),\n",
       " array([0.8302683]),\n",
       " array([0.82132856]),\n",
       " array([0.81861102]),\n",
       " array([0.79763044]),\n",
       " array([0.77328649]),\n",
       " array([0.75263203]),\n",
       " array([0.73233886]),\n",
       " array([0.73086035]),\n",
       " array([0.72875582]),\n",
       " array([0.72718458]),\n",
       " array([0.72686481]),\n",
       " array([0.72634421]),\n",
       " array([0.72567179]),\n",
       " array([0.72514348]),\n",
       " array([0.72420651]),\n",
       " array([0.72260016]),\n",
       " array([0.72019754]),\n",
       " array([0.71854577]),\n",
       " array([0.71795066]),\n",
       " array([0.71772987]),\n",
       " array([0.71741535]),\n",
       " array([0.71697627]),\n",
       " array([0.71647824]),\n",
       " array([0.71585938]),\n",
       " array([0.71497748]),\n",
       " array([0.71390994]),\n",
       " array([0.71307729]),\n",
       " array([0.71294259]),\n",
       " array([0.71292036]),\n",
       " array([0.71288272]),\n",
       " array([0.71281586]),\n",
       " array([0.71269466]),\n",
       " array([0.7124755]),\n",
       " array([0.7120901]),\n",
       " array([0.71146891]),\n",
       " array([0.71076323]),\n",
       " array([0.71032574]),\n",
       " array([0.70986917]),\n",
       " array([0.7098332]),\n",
       " array([0.7097991]),\n",
       " array([0.70978415]),\n",
       " array([0.70978132]),\n",
       " array([0.70978014]),\n",
       " array([0.70977907]),\n",
       " array([0.70977708]),\n",
       " array([0.70977328]),\n",
       " array([0.70976606]),\n",
       " array([0.70975232]),\n",
       " array([0.70972627]),\n",
       " array([0.70967653]),\n",
       " array([0.70813908]),\n",
       " array([0.7080306]),\n",
       " array([0.7043285]),\n",
       " array([0.69951233]),\n",
       " array([0.69377102]),\n",
       " array([0.69110377]),\n",
       " array([0.68676554]),\n",
       " array([0.68069922]),\n",
       " array([0.67782664]),\n",
       " array([0.67534425]),\n",
       " array([0.67062104]),\n",
       " array([0.66191545]),\n",
       " array([0.6485999]),\n",
       " array([0.63900563]),\n",
       " array([0.63307579]),\n",
       " array([0.62612403]),\n",
       " array([0.62286372]),\n",
       " array([0.62155788]),\n",
       " array([0.6198222]),\n",
       " array([0.61796098]),\n",
       " array([0.61641819]),\n",
       " array([0.61389656]),\n",
       " array([0.60992912]),\n",
       " array([0.60380459]),\n",
       " array([0.59573015]),\n",
       " array([0.58399014]),\n",
       " array([0.5637535]),\n",
       " array([0.53315171]),\n",
       " array([0.5077435]),\n",
       " array([0.50472741]),\n",
       " array([0.50100264]),\n",
       " array([0.49550318]),\n",
       " array([0.48692687]),\n",
       " array([0.47965763]),\n",
       " array([0.47679955]),\n",
       " array([0.47490841]),\n",
       " array([0.47327347]),\n",
       " array([0.4719275]),\n",
       " array([0.47078672]),\n",
       " array([0.46979275]),\n",
       " array([0.46909873]),\n",
       " array([0.46860794]),\n",
       " array([0.46825517])]"
      ]
     },
     "execution_count": 19,
     "metadata": {},
     "output_type": "execute_result"
    }
   ],
   "source": [
    "T.J"
   ]
  },
  {
   "cell_type": "code",
   "execution_count": 20,
   "metadata": {},
   "outputs": [
    {
     "data": {
      "text/plain": [
       "[array([0.28508114]),\n",
       " array([0.20680406]),\n",
       " array([0.20262209]),\n",
       " array([0.17195197]),\n",
       " array([0.15221543]),\n",
       " array([0.1293221]),\n",
       " array([0.09795407]),\n",
       " array([0.0952663]),\n",
       " array([0.1072435]),\n",
       " array([0.10602967]),\n",
       " array([0.09895365]),\n",
       " array([0.09794382]),\n",
       " array([0.10025529]),\n",
       " array([0.1136596]),\n",
       " array([0.11737714]),\n",
       " array([0.12155953]),\n",
       " array([0.12041021]),\n",
       " array([0.12060832]),\n",
       " array([0.12056476]),\n",
       " array([0.12024911]),\n",
       " array([0.12006806]),\n",
       " array([0.11964886]),\n",
       " array([0.11893155]),\n",
       " array([0.11730514]),\n",
       " array([0.11423399]),\n",
       " array([0.11407825]),\n",
       " array([0.11005595]),\n",
       " array([0.11132046]),\n",
       " array([0.11230576]),\n",
       " array([0.11236614]),\n",
       " array([0.11138544]),\n",
       " array([0.10945722]),\n",
       " array([0.10754788]),\n",
       " array([0.10660908]),\n",
       " array([0.10638969]),\n",
       " array([0.10639748]),\n",
       " array([0.10645362]),\n",
       " array([0.10657921]),\n",
       " array([0.10680358]),\n",
       " array([0.10720277]),\n",
       " array([0.10793189]),\n",
       " array([0.10933445]),\n",
       " array([0.11204544]),\n",
       " array([0.11303858]),\n",
       " array([0.11426229]),\n",
       " array([0.11406368]),\n",
       " array([0.11342592]),\n",
       " array([0.11336429]),\n",
       " array([0.11325285]),\n",
       " array([0.11333639]),\n",
       " array([0.11336093]),\n",
       " array([0.11338998]),\n",
       " array([0.11342599]),\n",
       " array([0.11347691]),\n",
       " array([0.11355501]),\n",
       " array([0.11368256]),\n",
       " array([0.1139036]),\n",
       " array([0.12385039]),\n",
       " array([0.12646694]),\n",
       " array([0.12558235]),\n",
       " array([0.12223496]),\n",
       " array([0.11312531]),\n",
       " array([0.1128679]),\n",
       " array([0.10742029]),\n",
       " array([0.09968263]),\n",
       " array([0.09759296]),\n",
       " array([0.0945537]),\n",
       " array([0.09450572]),\n",
       " array([0.0946398]),\n",
       " array([0.09886463]),\n",
       " array([0.10549678]),\n",
       " array([0.10977621]),\n",
       " array([0.1181961]),\n",
       " array([0.12935246]),\n",
       " array([0.13969347]),\n",
       " array([0.13803564]),\n",
       " array([0.13523122]),\n",
       " array([0.13577859]),\n",
       " array([0.1383484]),\n",
       " array([0.14413237]),\n",
       " array([0.15353633]),\n",
       " array([0.1652779]),\n",
       " array([0.17235931]),\n",
       " array([0.17879487]),\n",
       " array([0.18578639]),\n",
       " array([0.17928459]),\n",
       " array([0.17935709]),\n",
       " array([0.18099659]),\n",
       " array([0.19058216]),\n",
       " array([0.20745651]),\n",
       " array([0.22097266]),\n",
       " array([0.22379003]),\n",
       " array([0.2260469]),\n",
       " array([0.22758873]),\n",
       " array([0.22993665]),\n",
       " array([0.23153854]),\n",
       " array([0.23413194]),\n",
       " array([0.23484507]),\n",
       " array([0.23504317]),\n",
       " array([0.23334531])]"
      ]
     },
     "execution_count": 20,
     "metadata": {},
     "output_type": "execute_result"
    }
   ],
   "source": [
    "T.testJ"
   ]
  },
  {
   "cell_type": "code",
   "execution_count": 21,
   "metadata": {},
   "outputs": [
    {
     "data": {
      "text/plain": [
       "0.5500013848894459"
      ]
     },
     "execution_count": 21,
     "metadata": {},
     "output_type": "execute_result"
    }
   ],
   "source": [
    "from sklearn.metrics import mean_absolute_error\n",
    "mean_absolute_error(T.J, T.testJ)"
   ]
  },
  {
   "cell_type": "code",
   "execution_count": 22,
   "metadata": {},
   "outputs": [],
   "source": [
    "yHat = NN.forward(X)"
   ]
  },
  {
   "cell_type": "code",
   "execution_count": 23,
   "metadata": {},
   "outputs": [
    {
     "data": {
      "text/plain": [
       "array([[0.75407464],\n",
       "       [0.71494496],\n",
       "       [0.66704891],\n",
       "       [0.65349959],\n",
       "       [0.5893474 ],\n",
       "       [0.28714182],\n",
       "       [0.38060915],\n",
       "       [0.41781291],\n",
       "       [0.73780458],\n",
       "       [0.5972513 ],\n",
       "       [0.27476851],\n",
       "       [0.3917271 ],\n",
       "       [0.33184392],\n",
       "       [0.58788609],\n",
       "       [0.72169016],\n",
       "       [0.65516692],\n",
       "       [0.63030749],\n",
       "       [0.38503484],\n",
       "       [0.31758915],\n",
       "       [0.75333216],\n",
       "       [0.67129957],\n",
       "       [0.68451361],\n",
       "       [0.585041  ],\n",
       "       [0.32642368],\n",
       "       [0.36947807],\n",
       "       [0.37174285],\n",
       "       [0.69613416],\n",
       "       [0.63421665],\n",
       "       [0.3298421 ],\n",
       "       [0.39884987],\n",
       "       [0.36049403],\n",
       "       [0.41251725],\n",
       "       [0.73350064],\n",
       "       [0.632873  ],\n",
       "       [0.64362232],\n",
       "       [0.32946473],\n",
       "       [0.32522033],\n",
       "       [0.37186264],\n",
       "       [0.70983227],\n",
       "       [0.65173638],\n",
       "       [0.32211773],\n",
       "       [0.39763191],\n",
       "       [0.45958327],\n",
       "       [0.72155669],\n",
       "       [0.72901745],\n",
       "       [0.64104745],\n",
       "       [0.31059695],\n",
       "       [0.40590717],\n",
       "       [0.36162162],\n",
       "       [0.68746545],\n",
       "       [0.6354163 ],\n",
       "       [0.26182086],\n",
       "       [0.29845186],\n",
       "       [0.34891068],\n",
       "       [0.49192572],\n",
       "       [0.77588697],\n",
       "       [0.76259468],\n",
       "       [0.70575762],\n",
       "       [0.69079324]])"
      ]
     },
     "execution_count": 23,
     "metadata": {},
     "output_type": "execute_result"
    }
   ],
   "source": [
    "yHat"
   ]
  },
  {
   "cell_type": "code",
   "execution_count": 24,
   "metadata": {},
   "outputs": [
    {
     "data": {
      "text/plain": [
       "array([[0.57042253],\n",
       "       [0.66901409],\n",
       "       [0.6971831 ],\n",
       "       [0.97183099],\n",
       "       [0.5915493 ],\n",
       "       [0.28169014],\n",
       "       [0.26056338],\n",
       "       [0.46478873],\n",
       "       [0.99295775],\n",
       "       [0.67605634],\n",
       "       [0.25352113],\n",
       "       [0.45070423],\n",
       "       [0.        ],\n",
       "       [0.48591549],\n",
       "       [0.78169014],\n",
       "       [0.8028169 ],\n",
       "       [0.3028169 ],\n",
       "       [0.47183099],\n",
       "       [0.41549296],\n",
       "       [0.64788732],\n",
       "       [0.61267606],\n",
       "       [1.        ],\n",
       "       [0.47887324],\n",
       "       [0.3028169 ],\n",
       "       [0.38028169],\n",
       "       [0.5915493 ],\n",
       "       [0.8028169 ],\n",
       "       [0.47183099],\n",
       "       [0.26760563],\n",
       "       [0.4084507 ],\n",
       "       [0.32394366],\n",
       "       [0.45774648],\n",
       "       [0.81690141],\n",
       "       [0.75352113],\n",
       "       [0.43661972],\n",
       "       [0.45774648],\n",
       "       [0.38732394],\n",
       "       [0.46478873],\n",
       "       [0.73239437],\n",
       "       [0.51408451],\n",
       "       [0.28169014],\n",
       "       [0.19014085],\n",
       "       [0.51408451],\n",
       "       [0.50704225],\n",
       "       [0.75352113],\n",
       "       [0.54225352],\n",
       "       [0.26056338],\n",
       "       [0.3943662 ],\n",
       "       [0.62676056],\n",
       "       [0.79577465],\n",
       "       [0.70422535],\n",
       "       [0.53521127],\n",
       "       [0.40140845],\n",
       "       [0.12676056],\n",
       "       [0.33098592],\n",
       "       [0.41549296],\n",
       "       [0.55633803],\n",
       "       [0.5915493 ],\n",
       "       [0.51408451]])"
      ]
     },
     "execution_count": 24,
     "metadata": {},
     "output_type": "execute_result"
    }
   ],
   "source": [
    "y"
   ]
  },
  {
   "cell_type": "code",
   "execution_count": 25,
   "metadata": {},
   "outputs": [
    {
     "data": {
      "text/plain": [
       "0.023783066875055547"
      ]
     },
     "execution_count": 25,
     "metadata": {},
     "output_type": "execute_result"
    }
   ],
   "source": [
    "from sklearn.metrics import mean_squared_error \n",
    "mean_squared_error(y,yHat) "
   ]
  },
  {
   "cell_type": "code",
   "execution_count": 26,
   "metadata": {},
   "outputs": [
    {
     "data": {
      "image/png": "[encoded data removed]",
      "text/plain": [
       "<Figure size 432x288 with 1 Axes>"
      ]
     },
     "metadata": {
      "needs_background": "light"
     },
     "output_type": "display_data"
    }
   ],
   "source": [
    "#Plot cost during training:\n",
    "plot.plot(y)\n",
    "plot.plot(yHat)\n",
    "plot.grid(1)\n",
    "plot.legend(['y', 'yHat'])\n",
    "plot.show()"
   ]
  },
  {
   "cell_type": "code",
   "execution_count": 27,
   "metadata": {},
   "outputs": [],
   "source": [
    "#Regularization Parameter:\n",
    "Lambda = 0.0001"
   ]
  },
  {
   "cell_type": "code",
   "execution_count": 28,
   "metadata": {},
   "outputs": [],
   "source": [
    "#Need to make changes to costFunction and costFunctionPrim:\n",
    "def costFunction(self, X, y):\n",
    "    #Compute cost for given X,y, use weights already stored in class.\n",
    "    self.yHat = self.forward(X)\n",
    "    #We don't want cost to increase with the number of examples, so normalize by dividing the error term by number of examples(X.shape[0])\n",
    "    J = 0.5*sum((y-self.yHat)**2)/X.shape[0] + (self.Lambda/2)*(sum(self.W1**2)+sum(self.W2**2))\n",
    "    return J\n",
    "\n",
    "def costFunctionPrime(self, X, y):\n",
    "    #Compute derivative with respect to W and W2 for a given X and y:\n",
    "    self.yHat = self.forward(X)\n",
    "\n",
    "    delta3 = np.multiply(-(y-self.yHat), self.sigmoidPrime(self.z3))\n",
    "    #Add gradient of regularization term:\n",
    "    dJdW2 = np.dot(self.a2.T, delta3)/X.shape[0] + self.Lambda*self.W2\n",
    "\n",
    "    delta2 = np.dot(delta3, self.W2.T)*self.sigmoidPrime(self.z2)\n",
    "    #Add gradient of regularization term:\n",
    "    dJdW1 = np.dot(X.T, delta2)/X.shape[0] + self.Lambda*self.W1\n",
    "\n",
    "    return dJdW1, dJdW2"
   ]
  },
  {
   "cell_type": "code",
   "execution_count": 29,
   "metadata": {},
   "outputs": [],
   "source": [
    "#New complete class, with changes:\n",
    "class Neural_Network(object):\n",
    "    def __init__(self, Lambda=0.0001):        \n",
    "        #Define Hyperparameters\n",
    "        self.inputLayerSize = 3\n",
    "        self.outputLayerSize = 1\n",
    "        self.hiddenLayerSize = 2\n",
    "        \n",
    "        #Weights (parameters)\n",
    "        self.W1 = np.random.randn(self.inputLayerSize,self.hiddenLayerSize)\n",
    "        self.W2 = np.random.randn(self.hiddenLayerSize,self.outputLayerSize)\n",
    "        \n",
    "        #Regularization Parameter:\n",
    "        self.Lambda = Lambda\n",
    "        \n",
    "    def forward(self, X):\n",
    "        #Propogate inputs though network\n",
    "        self.z2 = np.dot(X, self.W1)\n",
    "        self.a2 = self.sigmoid(self.z2)\n",
    "        self.z3 = np.dot(self.a2, self.W2)\n",
    "        yHat = self.sigmoid(self.z3) \n",
    "        return yHat\n",
    "        \n",
    "    def sigmoid(self, z):\n",
    "        #Apply sigmoid activation function to scalar, vector, or matrix\n",
    "        return 1/(1+np.exp(-z))\n",
    "    \n",
    "    def sigmoidPrime(self,z):\n",
    "        #Gradient of sigmoid\n",
    "        return np.exp(-z)/((1+np.exp(-z))**2)\n",
    "    \n",
    "    def costFunction(self, X, y):\n",
    "        #Compute cost for given X,y, use weights already stored in class.\n",
    "        self.yHat = self.forward(X)\n",
    "        J = 0.5*sum((y-self.yHat)**2)/X.shape[0] + (self.Lambda/2)*(np.sum(self.W1**2)+np.sum(self.W2**2))\n",
    "        return J\n",
    "        \n",
    "    def costFunctionPrime(self, X, y):\n",
    "        #Compute derivative with respect to W and W2 for a given X and y:\n",
    "        self.yHat = self.forward(X)\n",
    "        \n",
    "        delta3 = np.multiply(-(y-self.yHat), self.sigmoidPrime(self.z3))\n",
    "        #Add gradient of regularization term:\n",
    "        dJdW2 = np.dot(self.a2.T, delta3)/X.shape[0] + self.Lambda*self.W2\n",
    "        \n",
    "        delta2 = np.dot(delta3, self.W2.T)*self.sigmoidPrime(self.z2)\n",
    "        #Add gradient of regularization term:\n",
    "        dJdW1 = np.dot(X.T, delta2)/X.shape[0] + self.Lambda*self.W1\n",
    "        \n",
    "        return dJdW1, dJdW2\n",
    "    \n",
    "    def predict(self):\n",
    "        prediksi = self.forward(dataprediksi)\n",
    "        return prediksi\n",
    "    \n",
    "    #Helper functions for interacting with other methods/classes\n",
    "    def getParams(self):\n",
    "        #Get W1 and W2 Rolled into vector:\n",
    "        params = np.concatenate((self.W1.ravel(), self.W2.ravel()))\n",
    "        return params\n",
    "    \n",
    "    def setParams(self, params):\n",
    "        #Set W1 and W2 using single parameter vector:\n",
    "        W1_start = 0\n",
    "        W1_end = self.hiddenLayerSize*self.inputLayerSize\n",
    "        self.W1 = np.reshape(params[W1_start:W1_end], \\\n",
    "                             (self.inputLayerSize, self.hiddenLayerSize))\n",
    "        W2_end = W1_end + self.hiddenLayerSize*self.outputLayerSize\n",
    "        self.W2 = np.reshape(params[W1_end:W2_end], \\\n",
    "                             (self.hiddenLayerSize, self.outputLayerSize))\n",
    "        \n",
    "    def computeGradients(self, X, y):\n",
    "        dJdW1, dJdW2 = self.costFunctionPrime(X, y)\n",
    "        return np.concatenate((dJdW1.ravel(), dJdW2.ravel()))"
   ]
  },
  {
   "cell_type": "code",
   "execution_count": 30,
   "metadata": {},
   "outputs": [],
   "source": [
    "def computeNumericalGradient(N, X, y):\n",
    "    paramsInitial = N.getParams()\n",
    "    numgrad = np.zeros(paramsInitial.shape)\n",
    "    perturb = np.zeros(paramsInitial.shape)\n",
    "    e = 1e-4\n",
    "\n",
    "    for p in range(len(paramsInitial)):\n",
    "        #Set perturbation vector\n",
    "        perturb[p] = e\n",
    "        N.setParams(paramsInitial + perturb)\n",
    "        loss2 = N.costFunction(X, y)\n",
    "            \n",
    "        N.setParams(paramsInitial - perturb)\n",
    "        loss1 = N.costFunction(X, y)\n",
    "\n",
    "        #Compute Numerical Gradient\n",
    "        numgrad[p] = (loss2 - loss1) / (2*e)\n",
    "\n",
    "            #Return the value we changed to zero:\n",
    "        perturb[p] = 0\n",
    "            \n",
    "    #Return Params to original value:\n",
    "    N.setParams(paramsInitial)\n",
    "\n",
    "    return numgrad "
   ]
  },
  {
   "cell_type": "code",
   "execution_count": 31,
   "metadata": {},
   "outputs": [],
   "source": [
    "NN = Neural_Network(Lambda=0.0001)"
   ]
  },
  {
   "cell_type": "code",
   "execution_count": 32,
   "metadata": {},
   "outputs": [],
   "source": [
    "#Make sure our gradients our correct after making changes:\n",
    "numgrad = computeNumericalGradient(NN, X, y)\n",
    "grad = NN.computeGradients(X,y)"
   ]
  },
  {
   "cell_type": "code",
   "execution_count": 33,
   "metadata": {},
   "outputs": [
    {
     "data": {
      "text/plain": [
       "6.121625724595962e-10"
      ]
     },
     "execution_count": 33,
     "metadata": {},
     "output_type": "execute_result"
    }
   ],
   "source": [
    "#Should be less than 1e-8:\n",
    "np.linalg.norm(grad-numgrad)/np.linalg.norm(grad+numgrad)"
   ]
  },
  {
   "cell_type": "code",
   "execution_count": 34,
   "metadata": {},
   "outputs": [],
   "source": [
    "T = trainer(NN)"
   ]
  },
  {
   "cell_type": "code",
   "execution_count": 35,
   "metadata": {},
   "outputs": [
    {
     "name": "stdout",
     "output_type": "stream",
     "text": [
      "Optimization terminated successfully.\n",
      "         Current function value: 0.014907\n",
      "         Iterations: 90\n",
      "         Function evaluations: 95\n",
      "         Gradient evaluations: 95\n"
     ]
    }
   ],
   "source": [
    "T.train(X,y,testX,testY)"
   ]
  },
  {
   "cell_type": "code",
   "execution_count": 36,
   "metadata": {},
   "outputs": [
    {
     "data": {
      "image/png": "[encoded data removed]",
      "text/plain": [
       "<Figure size 432x288 with 1 Axes>"
      ]
     },
     "metadata": {
      "needs_background": "light"
     },
     "output_type": "display_data"
    }
   ],
   "source": [
    "plot.plot(T.J)\n",
    "plot.plot(T.testJ)\n",
    "plot.grid(1)\n",
    "plot.xlabel('Iterations')\n",
    "plot.ylabel('Cost')\n",
    "plot.legend(['Training', 'Testing'])\n",
    "plot.show()"
   ]
  },
  {
   "cell_type": "code",
   "execution_count": 37,
   "metadata": {},
   "outputs": [
    {
     "data": {
      "text/plain": [
       "[array([0.02306724]),\n",
       " array([0.02269311]),\n",
       " array([0.02252117]),\n",
       " array([0.02249677]),\n",
       " array([0.02245028]),\n",
       " array([0.02236122]),\n",
       " array([0.02219315]),\n",
       " array([0.02188921]),\n",
       " array([0.02140978]),\n",
       " array([0.02116721]),\n",
       " array([0.02116011]),\n",
       " array([0.02114791]),\n",
       " array([0.02113182]),\n",
       " array([0.02112392]),\n",
       " array([0.02110967]),\n",
       " array([0.02108305]),\n",
       " array([0.02103257]),\n",
       " array([0.02093588]),\n",
       " array([0.02014136]),\n",
       " array([0.01901339]),\n",
       " array([0.01833094]),\n",
       " array([0.01730775]),\n",
       " array([0.01582266]),\n",
       " array([0.01546902]),\n",
       " array([0.01536572]),\n",
       " array([0.01528599]),\n",
       " array([0.0152672]),\n",
       " array([0.01525959]),\n",
       " array([0.01525823]),\n",
       " array([0.01525663]),\n",
       " array([0.01525373]),\n",
       " array([0.01524836]),\n",
       " array([0.01523839]),\n",
       " array([0.01522025]),\n",
       " array([0.01518897]),\n",
       " array([0.01514372]),\n",
       " array([0.0151173]),\n",
       " array([0.01509234]),\n",
       " array([0.01505236]),\n",
       " array([0.01498626]),\n",
       " array([0.0149635]),\n",
       " array([0.01496251]),\n",
       " array([0.01496202]),\n",
       " array([0.01496189]),\n",
       " array([0.01496179]),\n",
       " array([0.01496162]),\n",
       " array([0.01496132]),\n",
       " array([0.01496076]),\n",
       " array([0.01495976]),\n",
       " array([0.014958]),\n",
       " array([0.01495498]),\n",
       " array([0.01495004]),\n",
       " array([0.0149425]),\n",
       " array([0.01493381]),\n",
       " array([0.01492687]),\n",
       " array([0.01492387]),\n",
       " array([0.01492342]),\n",
       " array([0.01492341]),\n",
       " array([0.0149234]),\n",
       " array([0.01492339]),\n",
       " array([0.01492337]),\n",
       " array([0.01492334]),\n",
       " array([0.01492327]),\n",
       " array([0.01492316]),\n",
       " array([0.01492295]),\n",
       " array([0.0149226]),\n",
       " array([0.01492203]),\n",
       " array([0.0149211]),\n",
       " array([0.01491959]),\n",
       " array([0.01491723]),\n",
       " array([0.01491436]),\n",
       " array([0.01491303]),\n",
       " array([0.01491271]),\n",
       " array([0.01491269]),\n",
       " array([0.01491268]),\n",
       " array([0.01491268]),\n",
       " array([0.01491267]),\n",
       " array([0.01491266]),\n",
       " array([0.01491263]),\n",
       " array([0.01491259]),\n",
       " array([0.01491251]),\n",
       " array([0.01491236]),\n",
       " array([0.01491212]),\n",
       " array([0.01491171]),\n",
       " array([0.01491105]),\n",
       " array([0.01491001]),\n",
       " array([0.01490852]),\n",
       " array([0.0149075]),\n",
       " array([0.0149072]),\n",
       " array([0.01490717])]"
      ]
     },
     "execution_count": 37,
     "metadata": {},
     "output_type": "execute_result"
    }
   ],
   "source": [
    "T.J"
   ]
  },
  {
   "cell_type": "code",
   "execution_count": 38,
   "metadata": {},
   "outputs": [
    {
     "data": {
      "text/plain": [
       "[array([0.0188461]),\n",
       " array([0.01796009]),\n",
       " array([0.01715052]),\n",
       " array([0.01704333]),\n",
       " array([0.01692973]),\n",
       " array([0.01677253]),\n",
       " array([0.01653559]),\n",
       " array([0.01618467]),\n",
       " array([0.01577896]),\n",
       " array([0.01585715]),\n",
       " array([0.01586419]),\n",
       " array([0.01590742]),\n",
       " array([0.01602245]),\n",
       " array([0.01608119]),\n",
       " array([0.01613901]),\n",
       " array([0.01620122]),\n",
       " array([0.01627466]),\n",
       " array([0.01636604]),\n",
       " array([0.01686379]),\n",
       " array([0.01640534]),\n",
       " array([0.01511821]),\n",
       " array([0.01344193]),\n",
       " array([0.01125371]),\n",
       " array([0.01050065]),\n",
       " array([0.01034646]),\n",
       " array([0.01044744]),\n",
       " array([0.0103369]),\n",
       " array([0.01030475]),\n",
       " array([0.01027148]),\n",
       " array([0.01025651]),\n",
       " array([0.01023562]),\n",
       " array([0.0102061]),\n",
       " array([0.01015884]),\n",
       " array([0.01007876]),\n",
       " array([0.00993568]),\n",
       " array([0.00965995]),\n",
       " array([0.00941316]),\n",
       " array([0.00930798]),\n",
       " array([0.00910076]),\n",
       " array([0.00904395]),\n",
       " array([0.00912292]),\n",
       " array([0.00912404]),\n",
       " array([0.00910585]),\n",
       " array([0.00910013]),\n",
       " array([0.00909988]),\n",
       " array([0.0091017]),\n",
       " array([0.00910494]),\n",
       " array([0.00910963]),\n",
       " array([0.00911578]),\n",
       " array([0.00912325]),\n",
       " array([0.00913086]),\n",
       " array([0.00913476]),\n",
       " array([0.00912428]),\n",
       " array([0.00908431]),\n",
       " array([0.00902205]),\n",
       " array([0.00897661]),\n",
       " array([0.00896696]),\n",
       " array([0.00896793]),\n",
       " array([0.00896873]),\n",
       " array([0.00896968]),\n",
       " array([0.00897086]),\n",
       " array([0.00897244]),\n",
       " array([0.00897465]),\n",
       " array([0.00897782]),\n",
       " array([0.0089824]),\n",
       " array([0.00898877]),\n",
       " array([0.00899681]),\n",
       " array([0.00900477]),\n",
       " array([0.00900884]),\n",
       " array([0.00900279]),\n",
       " array([0.00897574]),\n",
       " array([0.00894584]),\n",
       " array([0.00892805]),\n",
       " array([0.00892629]),\n",
       " array([0.0089267]),\n",
       " array([0.00892757]),\n",
       " array([0.0089287]),\n",
       " array([0.0089301]),\n",
       " array([0.00893193]),\n",
       " array([0.00893443]),\n",
       " array([0.00893796]),\n",
       " array([0.00894298]),\n",
       " array([0.00894998]),\n",
       " array([0.00895906]),\n",
       " array([0.00896893]),\n",
       " array([0.00897568]),\n",
       " array([0.00897109]),\n",
       " array([0.0089511]),\n",
       " array([0.00893325]),\n",
       " array([0.00892838])]"
      ]
     },
     "execution_count": 38,
     "metadata": {},
     "output_type": "execute_result"
    }
   ],
   "source": [
    "T.testJ"
   ]
  },
  {
   "cell_type": "code",
   "execution_count": 39,
   "metadata": {},
   "outputs": [
    {
     "data": {
      "text/plain": [
       "0.005509662258282378"
      ]
     },
     "execution_count": 39,
     "metadata": {},
     "output_type": "execute_result"
    }
   ],
   "source": [
    "from sklearn.metrics import mean_absolute_error\n",
    "mean_absolute_error(T.J, T.testJ)"
   ]
  },
  {
   "cell_type": "code",
   "execution_count": 40,
   "metadata": {},
   "outputs": [],
   "source": [
    "yHat=NN.forward(X)"
   ]
  },
  {
   "cell_type": "code",
   "execution_count": 41,
   "metadata": {},
   "outputs": [
    {
     "data": {
      "text/plain": [
       "array([[0.72306119],\n",
       "       [0.71264624],\n",
       "       [0.56512002],\n",
       "       [0.49623993],\n",
       "       [0.538325  ],\n",
       "       [0.36794235],\n",
       "       [0.30875229],\n",
       "       [0.44561931],\n",
       "       [0.63736785],\n",
       "       [0.75130699],\n",
       "       [0.45750862],\n",
       "       [0.29456398],\n",
       "       [0.47494682],\n",
       "       [0.45726832],\n",
       "       [0.63803115],\n",
       "       [0.77449464],\n",
       "       [0.5374609 ],\n",
       "       [0.32243065],\n",
       "       [0.42613125],\n",
       "       [0.56087996],\n",
       "       [0.58147992],\n",
       "       [0.53637539],\n",
       "       [0.57710054],\n",
       "       [0.362835  ],\n",
       "       [0.31829054],\n",
       "       [0.51836659],\n",
       "       [0.6410935 ],\n",
       "       [0.62755337],\n",
       "       [0.39931491],\n",
       "       [0.35394693],\n",
       "       [0.53866141],\n",
       "       [0.56079488],\n",
       "       [0.56723958],\n",
       "       [0.68480481],\n",
       "       [0.52437274],\n",
       "       [0.3418693 ],\n",
       "       [0.4129485 ],\n",
       "       [0.50105829],\n",
       "       [0.53382588],\n",
       "       [0.63220769],\n",
       "       [0.4667953 ],\n",
       "       [0.36741909],\n",
       "       [0.45333534],\n",
       "       [0.66939345],\n",
       "       [0.62744991],\n",
       "       [0.57654625],\n",
       "       [0.45500082],\n",
       "       [0.3543289 ],\n",
       "       [0.50756687],\n",
       "       [0.66560782],\n",
       "       [0.61098175],\n",
       "       [0.44920959],\n",
       "       [0.3723497 ],\n",
       "       [0.39680959],\n",
       "       [0.40728513],\n",
       "       [0.57663267],\n",
       "       [0.66679171],\n",
       "       [0.60963715],\n",
       "       [0.55167327]])"
      ]
     },
     "execution_count": 41,
     "metadata": {},
     "output_type": "execute_result"
    }
   ],
   "source": [
    "yHat"
   ]
  },
  {
   "cell_type": "code",
   "execution_count": 42,
   "metadata": {},
   "outputs": [
    {
     "data": {
      "text/plain": [
       "array([[0.57042253],\n",
       "       [0.66901409],\n",
       "       [0.6971831 ],\n",
       "       [0.97183099],\n",
       "       [0.5915493 ],\n",
       "       [0.28169014],\n",
       "       [0.26056338],\n",
       "       [0.46478873],\n",
       "       [0.99295775],\n",
       "       [0.67605634],\n",
       "       [0.25352113],\n",
       "       [0.45070423],\n",
       "       [0.        ],\n",
       "       [0.48591549],\n",
       "       [0.78169014],\n",
       "       [0.8028169 ],\n",
       "       [0.3028169 ],\n",
       "       [0.47183099],\n",
       "       [0.41549296],\n",
       "       [0.64788732],\n",
       "       [0.61267606],\n",
       "       [1.        ],\n",
       "       [0.47887324],\n",
       "       [0.3028169 ],\n",
       "       [0.38028169],\n",
       "       [0.5915493 ],\n",
       "       [0.8028169 ],\n",
       "       [0.47183099],\n",
       "       [0.26760563],\n",
       "       [0.4084507 ],\n",
       "       [0.32394366],\n",
       "       [0.45774648],\n",
       "       [0.81690141],\n",
       "       [0.75352113],\n",
       "       [0.43661972],\n",
       "       [0.45774648],\n",
       "       [0.38732394],\n",
       "       [0.46478873],\n",
       "       [0.73239437],\n",
       "       [0.51408451],\n",
       "       [0.28169014],\n",
       "       [0.19014085],\n",
       "       [0.51408451],\n",
       "       [0.50704225],\n",
       "       [0.75352113],\n",
       "       [0.54225352],\n",
       "       [0.26056338],\n",
       "       [0.3943662 ],\n",
       "       [0.62676056],\n",
       "       [0.79577465],\n",
       "       [0.70422535],\n",
       "       [0.53521127],\n",
       "       [0.40140845],\n",
       "       [0.12676056],\n",
       "       [0.33098592],\n",
       "       [0.41549296],\n",
       "       [0.55633803],\n",
       "       [0.5915493 ],\n",
       "       [0.51408451]])"
      ]
     },
     "execution_count": 42,
     "metadata": {},
     "output_type": "execute_result"
    }
   ],
   "source": [
    "y"
   ]
  },
  {
   "cell_type": "code",
   "execution_count": 43,
   "metadata": {},
   "outputs": [
    {
     "data": {
      "text/plain": [
       "0.02781517492413637"
      ]
     },
     "execution_count": 43,
     "metadata": {},
     "output_type": "execute_result"
    }
   ],
   "source": [
    "from sklearn.metrics import mean_squared_error \n",
    "mean_squared_error(y,yHat) "
   ]
  },
  {
   "cell_type": "code",
   "execution_count": 44,
   "metadata": {},
   "outputs": [
    {
     "data": {
      "image/png": "[encoded data removed]",
      "text/plain": [
       "<Figure size 432x288 with 1 Axes>"
      ]
     },
     "metadata": {
      "needs_background": "light"
     },
     "output_type": "display_data"
    }
   ],
   "source": [
    "#Plot cost during training:\n",
    "plot.plot(y)\n",
    "plot.plot(yHat)\n",
    "plot.grid(1)\n",
    "plot.legend(['y', 'yHat'])\n",
    "plot.show()"
   ]
  },
  {
   "cell_type": "code",
   "execution_count": 45,
   "metadata": {},
   "outputs": [],
   "source": [
    "prediksi=NN.forward(dataprediksi)"
   ]
  },
  {
   "cell_type": "code",
   "execution_count": 46,
   "metadata": {},
   "outputs": [
    {
     "data": {
      "text/plain": [
       "array([[0.46377999],\n",
       "       [0.4325585 ],\n",
       "       [0.4830137 ],\n",
       "       [0.53398117]])"
      ]
     },
     "execution_count": 46,
     "metadata": {},
     "output_type": "execute_result"
    }
   ],
   "source": [
    "prediksi"
   ]
  },
  {
   "cell_type": "code",
   "execution_count": 47,
   "metadata": {},
   "outputs": [],
   "source": [
    "from sklearn.metrics import mean_squared_error "
   ]
  },
  {
   "cell_type": "code",
   "execution_count": 48,
   "metadata": {},
   "outputs": [
    {
     "data": {
      "text/plain": [
       "0.007791983285604416"
      ]
     },
     "execution_count": 48,
     "metadata": {},
     "output_type": "execute_result"
    }
   ],
   "source": [
    "Y_true= ([\t0.387323944\t]\t,\n",
    "[\t0.373239437\t]\t,\n",
    "[\t0.366197183\t]\t,\n",
    "[\t0.443661972\t]\t,\n",
    ")\n",
    "\n",
    "\n",
    "Y_pred=prediksi\n",
    "mean_squared_error(Y_true,Y_pred) "
   ]
  },
  {
   "cell_type": "code",
   "execution_count": 49,
   "metadata": {},
   "outputs": [
    {
     "data": {
      "text/plain": [
       "array([[0.55633803, 0.5915493 , 0.51408451],\n",
       "       [0.5915493 , 0.51408451, 0.38732394],\n",
       "       [0.51408451, 0.38732394, 0.37323944],\n",
       "       [0.38732394, 0.37323944, 0.36619718]])"
      ]
     },
     "execution_count": 49,
     "metadata": {},
     "output_type": "execute_result"
    }
   ],
   "source": [
    "dataprediksi"
   ]
  },
  {
   "cell_type": "code",
   "execution_count": 50,
   "metadata": {},
   "outputs": [],
   "source": [
    "a=np.array([\t0.373239437\t,\t0.366197183\t,\t0.443661972\t])"
   ]
  },
  {
   "cell_type": "code",
   "execution_count": 51,
   "metadata": {},
   "outputs": [
    {
     "data": {
      "text/plain": [
       "array([0.56684407])"
      ]
     },
     "execution_count": 51,
     "metadata": {},
     "output_type": "execute_result"
    }
   ],
   "source": [
    "#prediksi 1\n",
    "prediksi=NN.forward(a)\n",
    "prediksi"
   ]
  },
  {
   "cell_type": "code",
   "execution_count": 52,
   "metadata": {},
   "outputs": [
    {
     "data": {
      "text/plain": [
       "array([0.59161196])"
      ]
     },
     "execution_count": 52,
     "metadata": {},
     "output_type": "execute_result"
    }
   ],
   "source": [
    "#prediksi 2\n",
    "c=prediksi\n",
    "b=a[1:]\n",
    "d=np.concatenate((b,c))\n",
    "prediksi=NN.forward(d)\n",
    "prediksi"
   ]
  },
  {
   "cell_type": "code",
   "execution_count": 53,
   "metadata": {},
   "outputs": [
    {
     "data": {
      "text/plain": [
       "array([0.53754189])"
      ]
     },
     "execution_count": 53,
     "metadata": {},
     "output_type": "execute_result"
    }
   ],
   "source": [
    "#prediksi 3\n",
    "c=prediksi\n",
    "b=d[1:]\n",
    "e=np.concatenate((b,c))\n",
    "prediksi=NN.forward(e)\n",
    "prediksi"
   ]
  },
  {
   "cell_type": "code",
   "execution_count": 54,
   "metadata": {},
   "outputs": [
    {
     "data": {
      "text/plain": [
       "array([0.46672825])"
      ]
     },
     "execution_count": 54,
     "metadata": {},
     "output_type": "execute_result"
    }
   ],
   "source": [
    "#prediksi 4\n",
    "c=prediksi\n",
    "b=e[1:]\n",
    "f=np.concatenate((b,c))\n",
    "prediksi=NN.forward(f)\n",
    "prediksi"
   ]
  },
  {
   "cell_type": "code",
   "execution_count": 55,
   "metadata": {},
   "outputs": [
    {
     "data": {
      "text/plain": [
       "array([0.44918017])"
      ]
     },
     "execution_count": 55,
     "metadata": {},
     "output_type": "execute_result"
    }
   ],
   "source": [
    "#prediksi 5\n",
    "c=prediksi\n",
    "b=f[1:]\n",
    "g=np.concatenate((b,c))\n",
    "prediksi=NN.forward(g)\n",
    "prediksi"
   ]
  },
  {
   "cell_type": "code",
   "execution_count": 56,
   "metadata": {},
   "outputs": [
    {
     "data": {
      "text/plain": [
       "array([0.47909621])"
      ]
     },
     "execution_count": 56,
     "metadata": {},
     "output_type": "execute_result"
    }
   ],
   "source": [
    "#prediksi 6\n",
    "c=prediksi\n",
    "b=g[1:]\n",
    "h=np.concatenate((b,c))\n",
    "prediksi=NN.forward(h)\n",
    "prediksi"
   ]
  },
  {
   "cell_type": "code",
   "execution_count": null,
   "metadata": {},
   "outputs": [],
   "source": []
  }
 ],
 "metadata": {
  "kernelspec": {
   "display_name": "Python 3",
   "language": "python",
   "name": "python3"
  },
  "language_info": {
   "codemirror_mode": {
    "name": "ipython",
    "version": 3
   },
   "file_extension": ".py",
   "mimetype": "text/x-python",
   "name": "python",
   "nbconvert_exporter": "python",
   "pygments_lexer": "ipython3",
   "version": "3.7.3"
  }
 },
 "nbformat": 4,
 "nbformat_minor": 2
}
