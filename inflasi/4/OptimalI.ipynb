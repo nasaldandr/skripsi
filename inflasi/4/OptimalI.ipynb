{
 "cells": [
  {
   "cell_type": "code",
   "execution_count": 1,
   "metadata": {},
   "outputs": [
    {
     "name": "stdout",
     "output_type": "stream",
     "text": [
      "Warning: Maximum number of iterations has been exceeded.\n",
      "         Current function value: 0.501753\n",
      "         Iterations: 100\n",
      "         Function evaluations: 104\n",
      "         Gradient evaluations: 104\n"
     ]
    },
    {
     "data": {
      "text/plain": [
       "<Figure size 640x480 with 1 Axes>"
      ]
     },
     "metadata": {},
     "output_type": "display_data"
    },
    {
     "name": "stdout",
     "output_type": "stream",
     "text": [
      "Warning: Maximum number of iterations has been exceeded.\n",
      "         Current function value: 0.531601\n",
      "         Iterations: 100\n",
      "         Function evaluations: 104\n",
      "         Gradient evaluations: 104\n"
     ]
    },
    {
     "data": {
      "text/plain": [
       "<Figure size 640x480 with 1 Axes>"
      ]
     },
     "metadata": {},
     "output_type": "display_data"
    },
    {
     "data": {
      "text/plain": [
       "<Figure size 640x480 with 1 Axes>"
      ]
     },
     "metadata": {},
     "output_type": "display_data"
    }
   ],
   "source": [
    "#Import code from last time\n",
    "%run I4-7.ipynb"
   ]
  },
  {
   "cell_type": "code",
   "execution_count": 2,
   "metadata": {},
   "outputs": [
    {
     "data": {
      "text/plain": [
       "array([[0.51408451, 0.50704225, 0.75352113, 0.54225352],\n",
       "       [0.50704225, 0.75352113, 0.54225352, 0.26056338],\n",
       "       [0.75352113, 0.54225352, 0.26056338, 0.3943662 ],\n",
       "       [0.54225352, 0.26056338, 0.3943662 , 0.62676056],\n",
       "       [0.26056338, 0.3943662 , 0.62676056, 0.79577465],\n",
       "       [0.3943662 , 0.62676056, 0.79577465, 0.70422535],\n",
       "       [0.62676056, 0.79577465, 0.70422535, 0.53521127],\n",
       "       [0.79577465, 0.70422535, 0.53521127, 0.40140845],\n",
       "       [0.70422535, 0.53521127, 0.40140845, 0.12676056],\n",
       "       [0.53521127, 0.40140845, 0.12676056, 0.33098592],\n",
       "       [0.40140845, 0.12676056, 0.33098592, 0.41549296],\n",
       "       [0.12676056, 0.33098592, 0.41549296, 0.55633803],\n",
       "       [0.33098592, 0.41549296, 0.55633803, 0.5915493 ]])"
      ]
     },
     "execution_count": 2,
     "metadata": {},
     "output_type": "execute_result"
    }
   ],
   "source": [
    "testX"
   ]
  },
  {
   "cell_type": "code",
   "execution_count": 3,
   "metadata": {},
   "outputs": [
    {
     "data": {
      "text/plain": [
       "array([[0.26056338],\n",
       "       [0.3943662 ],\n",
       "       [0.62676056],\n",
       "       [0.79577465],\n",
       "       [0.70422535],\n",
       "       [0.53521127],\n",
       "       [0.40140845],\n",
       "       [0.12676056],\n",
       "       [0.33098592],\n",
       "       [0.41549296],\n",
       "       [0.55633803],\n",
       "       [0.5915493 ],\n",
       "       [0.51408451]])"
      ]
     },
     "execution_count": 3,
     "metadata": {},
     "output_type": "execute_result"
    }
   ],
   "source": [
    "testY"
   ]
  },
  {
   "cell_type": "code",
   "execution_count": 4,
   "metadata": {},
   "outputs": [
    {
     "data": {
      "text/plain": [
       "array([[0.14788732, 0.06338028, 0.43661972, 0.57042253],\n",
       "       [0.06338028, 0.43661972, 0.57042253, 0.66901409],\n",
       "       [0.43661972, 0.57042253, 0.66901409, 0.6971831 ],\n",
       "       [0.57042253, 0.66901409, 0.6971831 , 0.97183099],\n",
       "       [0.66901409, 0.6971831 , 0.97183099, 0.5915493 ],\n",
       "       [0.6971831 , 0.97183099, 0.5915493 , 0.28169014],\n",
       "       [0.97183099, 0.5915493 , 0.28169014, 0.26056338],\n",
       "       [0.5915493 , 0.28169014, 0.26056338, 0.46478873],\n",
       "       [0.28169014, 0.26056338, 0.46478873, 0.99295775],\n",
       "       [0.26056338, 0.46478873, 0.99295775, 0.67605634],\n",
       "       [0.46478873, 0.99295775, 0.67605634, 0.25352113],\n",
       "       [0.99295775, 0.67605634, 0.25352113, 0.45070423],\n",
       "       [0.67605634, 0.25352113, 0.45070423, 0.        ],\n",
       "       [0.25352113, 0.45070423, 0.        , 0.48591549],\n",
       "       [0.45070423, 0.        , 0.48591549, 0.78169014],\n",
       "       [0.        , 0.48591549, 0.78169014, 0.8028169 ],\n",
       "       [0.48591549, 0.78169014, 0.8028169 , 0.3028169 ],\n",
       "       [0.78169014, 0.8028169 , 0.3028169 , 0.47183099],\n",
       "       [0.8028169 , 0.3028169 , 0.47183099, 0.41549296],\n",
       "       [0.3028169 , 0.47183099, 0.41549296, 0.64788732],\n",
       "       [0.47183099, 0.41549296, 0.64788732, 0.61267606],\n",
       "       [0.41549296, 0.64788732, 0.61267606, 1.        ],\n",
       "       [0.64788732, 0.61267606, 1.        , 0.47887324],\n",
       "       [0.61267606, 1.        , 0.47887324, 0.3028169 ],\n",
       "       [1.        , 0.47887324, 0.3028169 , 0.38028169],\n",
       "       [0.47887324, 0.3028169 , 0.38028169, 0.5915493 ],\n",
       "       [0.3028169 , 0.38028169, 0.5915493 , 0.8028169 ],\n",
       "       [0.38028169, 0.5915493 , 0.8028169 , 0.47183099],\n",
       "       [0.5915493 , 0.8028169 , 0.47183099, 0.26760563],\n",
       "       [0.8028169 , 0.47183099, 0.26760563, 0.4084507 ],\n",
       "       [0.47183099, 0.26760563, 0.4084507 , 0.32394366],\n",
       "       [0.26760563, 0.4084507 , 0.32394366, 0.45774648],\n",
       "       [0.4084507 , 0.32394366, 0.45774648, 0.81690141],\n",
       "       [0.32394366, 0.45774648, 0.81690141, 0.75352113],\n",
       "       [0.45774648, 0.81690141, 0.75352113, 0.43661972],\n",
       "       [0.81690141, 0.75352113, 0.43661972, 0.45774648],\n",
       "       [0.75352113, 0.43661972, 0.45774648, 0.38732394],\n",
       "       [0.43661972, 0.45774648, 0.38732394, 0.46478873],\n",
       "       [0.45774648, 0.38732394, 0.46478873, 0.73239437],\n",
       "       [0.38732394, 0.46478873, 0.73239437, 0.51408451],\n",
       "       [0.46478873, 0.73239437, 0.51408451, 0.28169014],\n",
       "       [0.73239437, 0.51408451, 0.28169014, 0.19014085],\n",
       "       [0.51408451, 0.28169014, 0.19014085, 0.51408451],\n",
       "       [0.28169014, 0.19014085, 0.51408451, 0.50704225],\n",
       "       [0.19014085, 0.51408451, 0.50704225, 0.75352113]])"
      ]
     },
     "execution_count": 4,
     "metadata": {},
     "output_type": "execute_result"
    }
   ],
   "source": [
    "trainX"
   ]
  },
  {
   "cell_type": "code",
   "execution_count": 5,
   "metadata": {},
   "outputs": [
    {
     "data": {
      "text/plain": [
       "array([[0.66901409],\n",
       "       [0.6971831 ],\n",
       "       [0.97183099],\n",
       "       [0.5915493 ],\n",
       "       [0.28169014],\n",
       "       [0.26056338],\n",
       "       [0.46478873],\n",
       "       [0.99295775],\n",
       "       [0.67605634],\n",
       "       [0.25352113],\n",
       "       [0.45070423],\n",
       "       [0.        ],\n",
       "       [0.48591549],\n",
       "       [0.78169014],\n",
       "       [0.8028169 ],\n",
       "       [0.3028169 ],\n",
       "       [0.47183099],\n",
       "       [0.41549296],\n",
       "       [0.64788732],\n",
       "       [0.61267606],\n",
       "       [1.        ],\n",
       "       [0.47887324],\n",
       "       [0.3028169 ],\n",
       "       [0.38028169],\n",
       "       [0.5915493 ],\n",
       "       [0.8028169 ],\n",
       "       [0.47183099],\n",
       "       [0.26760563],\n",
       "       [0.4084507 ],\n",
       "       [0.32394366],\n",
       "       [0.45774648],\n",
       "       [0.81690141],\n",
       "       [0.75352113],\n",
       "       [0.43661972],\n",
       "       [0.45774648],\n",
       "       [0.38732394],\n",
       "       [0.46478873],\n",
       "       [0.73239437],\n",
       "       [0.51408451],\n",
       "       [0.28169014],\n",
       "       [0.19014085],\n",
       "       [0.51408451],\n",
       "       [0.50704225],\n",
       "       [0.75352113],\n",
       "       [0.54225352]])"
      ]
     },
     "execution_count": 5,
     "metadata": {},
     "output_type": "execute_result"
    }
   ],
   "source": [
    "trainY"
   ]
  },
  {
   "cell_type": "code",
   "execution_count": 6,
   "metadata": {},
   "outputs": [],
   "source": [
    "#Regularization Parameter:\n",
    "Lambda = 0.0001"
   ]
  },
  {
   "cell_type": "code",
   "execution_count": 7,
   "metadata": {},
   "outputs": [],
   "source": [
    "#Need to make changes to costFunction and costFunctionPrim:\n",
    "def costFunction(self, X, y):\n",
    "    #Compute cost for given X,y, use weights already stored in class.\n",
    "    self.yHat = self.forward(X)\n",
    "    #We don't want cost to increase with the number of examples, so normalize by dividing the error term by number of examples(X.shape[0])\n",
    "    J = 0.5*sum((y-self.yHat)**2)/X.shape[0] + (self.Lambda/2)*(sum(self.W1**2)+sum(self.W2**2))\n",
    "    return J\n",
    "\n",
    "def costFunctionPrime(self, X, y):\n",
    "    #Compute derivative with respect to W and W2 for a given X and y:\n",
    "    self.yHat = self.forward(X)\n",
    "\n",
    "    delta3 = np.multiply(-(y-self.yHat), self.sigmoidPrime(self.z3))\n",
    "    #Add gradient of regularization term:\n",
    "    dJdW2 = np.dot(self.a2.T, delta3)/X.shape[0] + self.Lambda*self.W2\n",
    "\n",
    "    delta2 = np.dot(delta3, self.W2.T)*self.sigmoidPrime(self.z2)\n",
    "    #Add gradient of regularization term:\n",
    "    dJdW1 = np.dot(X.T, delta2)/X.shape[0] + self.Lambda*self.W1\n",
    "\n",
    "    return dJdW1, dJdW2"
   ]
  },
  {
   "cell_type": "code",
   "execution_count": 8,
   "metadata": {},
   "outputs": [],
   "source": [
    "#New complete class, with changes:\n",
    "class Neural_Network(object):\n",
    "    def __init__(self, Lambda=0.0001):        \n",
    "        #Define Hyperparameters\n",
    "        self.inputLayerSize = 4\n",
    "        self.outputLayerSize = 1\n",
    "        self.hiddenLayerSize = 7\n",
    "        \n",
    "        #Weights (parameters)\n",
    "        self.W1 = np.random.randn(self.inputLayerSize,self.hiddenLayerSize)\n",
    "        self.W2 = np.random.randn(self.hiddenLayerSize,self.outputLayerSize)\n",
    "        \n",
    "        #Regularization Parameter:\n",
    "        self.Lambda = Lambda\n",
    "        \n",
    "    def forward(self, X):\n",
    "        #Propogate inputs though network\n",
    "        self.z2 = np.dot(X, self.W1)\n",
    "        self.a2 = self.sigmoid(self.z2)\n",
    "        self.z3 = np.dot(self.a2, self.W2)\n",
    "        yHat = self.sigmoid(self.z3) \n",
    "        return yHat\n",
    "        \n",
    "    def sigmoid(self, z):\n",
    "        #Apply sigmoid activation function to scalar, vector, or matrix\n",
    "        return 1/(1+np.exp(-z))\n",
    "    \n",
    "    def sigmoidPrime(self,z):\n",
    "        #Gradient of sigmoid\n",
    "        return np.exp(-z)/((1+np.exp(-z))**2)\n",
    "    \n",
    "    def costFunction(self, X, y):\n",
    "        #Compute cost for given X,y, use weights already stored in class.\n",
    "        self.yHat = self.forward(X)\n",
    "        J = 0.5*sum((y-self.yHat)**2)/X.shape[0] + (self.Lambda/2)*(np.sum(self.W1**2)+np.sum(self.W2**2))\n",
    "        return J\n",
    "        \n",
    "    def costFunctionPrime(self, X, y):\n",
    "        #Compute derivative with respect to W and W2 for a given X and y:\n",
    "        self.yHat = self.forward(X)\n",
    "        \n",
    "        delta3 = np.multiply(-(y-self.yHat), self.sigmoidPrime(self.z3))\n",
    "        #Add gradient of regularization term:\n",
    "        dJdW2 = np.dot(self.a2.T, delta3)/X.shape[0] + self.Lambda*self.W2\n",
    "        \n",
    "        delta2 = np.dot(delta3, self.W2.T)*self.sigmoidPrime(self.z2)\n",
    "        #Add gradient of regularization term:\n",
    "        dJdW1 = np.dot(X.T, delta2)/X.shape[0] + self.Lambda*self.W1\n",
    "        \n",
    "        return dJdW1, dJdW2\n",
    "    \n",
    "    def predict(self):\n",
    "        prediksi = self.forward(dataprediksi)\n",
    "        return prediksi\n",
    "    \n",
    "    #Helper functions for interacting with other methods/classes\n",
    "    def getParams(self):\n",
    "        #Get W1 and W2 Rolled into vector:\n",
    "        params = np.concatenate((self.W1.ravel(), self.W2.ravel()))\n",
    "        return params\n",
    "    \n",
    "    def setParams(self, params):\n",
    "        #Set W1 and W2 using single parameter vector:\n",
    "        W1_start = 0\n",
    "        W1_end = self.hiddenLayerSize*self.inputLayerSize\n",
    "        self.W1 = np.reshape(params[W1_start:W1_end], \\\n",
    "                             (self.inputLayerSize, self.hiddenLayerSize))\n",
    "        W2_end = W1_end + self.hiddenLayerSize*self.outputLayerSize\n",
    "        self.W2 = np.reshape(params[W1_end:W2_end], \\\n",
    "                             (self.hiddenLayerSize, self.outputLayerSize))\n",
    "        \n",
    "    def computeGradients(self, X, y):\n",
    "        dJdW1, dJdW2 = self.costFunctionPrime(X, y)\n",
    "        return np.concatenate((dJdW1.ravel(), dJdW2.ravel()))"
   ]
  },
  {
   "cell_type": "code",
   "execution_count": 9,
   "metadata": {},
   "outputs": [],
   "source": [
    "def computeNumericalGradient(N, X, y):\n",
    "    paramsInitial = N.getParams()\n",
    "    numgrad = np.zeros(paramsInitial.shape)\n",
    "    perturb = np.zeros(paramsInitial.shape)\n",
    "    e = 1e-4\n",
    "\n",
    "    for p in range(len(paramsInitial)):\n",
    "        #Set perturbation vector\n",
    "        perturb[p] = e\n",
    "        N.setParams(paramsInitial + perturb)\n",
    "        loss2 = N.costFunction(X, y)\n",
    "            \n",
    "        N.setParams(paramsInitial - perturb)\n",
    "        loss1 = N.costFunction(X, y)\n",
    "\n",
    "        #Compute Numerical Gradient\n",
    "        numgrad[p] = (loss2 - loss1) / (2*e)\n",
    "\n",
    "            #Return the value we changed to zero:\n",
    "        perturb[p] = 0\n",
    "            \n",
    "    #Return Params to original value:\n",
    "    N.setParams(paramsInitial)\n",
    "\n",
    "    return numgrad "
   ]
  },
  {
   "cell_type": "code",
   "execution_count": 10,
   "metadata": {},
   "outputs": [],
   "source": [
    "NN = Neural_Network(Lambda=0.0001)"
   ]
  },
  {
   "cell_type": "code",
   "execution_count": 11,
   "metadata": {},
   "outputs": [],
   "source": [
    "#Make sure our gradients our correct after making changes:\n",
    "numgrad = computeNumericalGradient(NN, X, y)\n",
    "grad = NN.computeGradients(X,y)"
   ]
  },
  {
   "cell_type": "code",
   "execution_count": 12,
   "metadata": {},
   "outputs": [
    {
     "data": {
      "text/plain": [
       "5.868151087229939e-10"
      ]
     },
     "execution_count": 12,
     "metadata": {},
     "output_type": "execute_result"
    }
   ],
   "source": [
    "#Should be less than 1e-8:\n",
    "np.linalg.norm(grad-numgrad)/np.linalg.norm(grad+numgrad)"
   ]
  },
  {
   "cell_type": "code",
   "execution_count": 13,
   "metadata": {},
   "outputs": [],
   "source": [
    "T = trainer(NN)"
   ]
  },
  {
   "cell_type": "code",
   "execution_count": 14,
   "metadata": {},
   "outputs": [
    {
     "name": "stdout",
     "output_type": "stream",
     "text": [
      "Warning: Maximum number of iterations has been exceeded.\n",
      "         Current function value: 0.014755\n",
      "         Iterations: 100\n",
      "         Function evaluations: 101\n",
      "         Gradient evaluations: 101\n"
     ]
    }
   ],
   "source": [
    "T.train(X,y,testX,testY)"
   ]
  },
  {
   "cell_type": "code",
   "execution_count": 15,
   "metadata": {},
   "outputs": [
    {
     "data": {
      "image/png": "[encoded data removed]",
      "text/plain": [
       "<Figure size 432x288 with 1 Axes>"
      ]
     },
     "metadata": {
      "needs_background": "light"
     },
     "output_type": "display_data"
    }
   ],
   "source": [
    "plot.plot(T.J)\n",
    "plot.plot(T.testJ)\n",
    "plot.grid(1)\n",
    "plot.xlabel('Iterations')\n",
    "plot.ylabel('Cost')\n",
    "plot.legend(['Training', 'Testing'])\n",
    "plot.show()"
   ]
  },
  {
   "cell_type": "code",
   "execution_count": 16,
   "metadata": {},
   "outputs": [
    {
     "data": {
      "text/plain": [
       "[array([0.02798184]),\n",
       " array([0.02435616]),\n",
       " array([0.02084447]),\n",
       " array([0.02079811]),\n",
       " array([0.02071736]),\n",
       " array([0.02057006]),\n",
       " array([0.02029944]),\n",
       " array([0.01981215]),\n",
       " array([0.01898733]),\n",
       " array([0.0178165]),\n",
       " array([0.01706699]),\n",
       " array([0.01650394]),\n",
       " array([0.01631179]),\n",
       " array([0.01629385]),\n",
       " array([0.01628994]),\n",
       " array([0.0162836]),\n",
       " array([0.01627259]),\n",
       " array([0.01625278]),\n",
       " array([0.01621692]),\n",
       " array([0.0161535]),\n",
       " array([0.01604901]),\n",
       " array([0.01591054]),\n",
       " array([0.0158415]),\n",
       " array([0.01578822]),\n",
       " array([0.01577935]),\n",
       " array([0.01577841]),\n",
       " array([0.0157777]),\n",
       " array([0.01577641]),\n",
       " array([0.01577402]),\n",
       " array([0.01576955]),\n",
       " array([0.01576124]),\n",
       " array([0.01574604]),\n",
       " array([0.01571893]),\n",
       " array([0.01567214]),\n",
       " array([0.01559449]),\n",
       " array([0.01547423]),\n",
       " array([0.01536132]),\n",
       " array([0.01527999]),\n",
       " array([0.01516384]),\n",
       " array([0.01512669]),\n",
       " array([0.01512594]),\n",
       " array([0.01512577]),\n",
       " array([0.01512546]),\n",
       " array([0.0151249]),\n",
       " array([0.01512384]),\n",
       " array([0.01512189]),\n",
       " array([0.01511851]),\n",
       " array([0.01511329]),\n",
       " array([0.01510738]),\n",
       " array([0.01509894]),\n",
       " array([0.01508412]),\n",
       " array([0.01505844]),\n",
       " array([0.01501636]),\n",
       " array([0.01495638]),\n",
       " array([0.01491816]),\n",
       " array([0.01489839]),\n",
       " array([0.01489152]),\n",
       " array([0.01488611]),\n",
       " array([0.01488378]),\n",
       " array([0.01488344]),\n",
       " array([0.01488322]),\n",
       " array([0.014883]),\n",
       " array([0.01488259]),\n",
       " array([0.01488182]),\n",
       " array([0.01488039]),\n",
       " array([0.01487774]),\n",
       " array([0.01487297]),\n",
       " array([0.01486482]),\n",
       " array([0.01485226]),\n",
       " array([0.01483769]),\n",
       " array([0.01482097]),\n",
       " array([0.01480295]),\n",
       " array([0.01479788]),\n",
       " array([0.01479737]),\n",
       " array([0.01479729]),\n",
       " array([0.01479724]),\n",
       " array([0.01479717]),\n",
       " array([0.01479702]),\n",
       " array([0.01479675]),\n",
       " array([0.01479625]),\n",
       " array([0.01479533]),\n",
       " array([0.01479371]),\n",
       " array([0.014791]),\n",
       " array([0.01478677]),\n",
       " array([0.01478062]),\n",
       " array([0.01477214]),\n",
       " array([0.0147631]),\n",
       " array([0.01475929]),\n",
       " array([0.01475882]),\n",
       " array([0.0147588]),\n",
       " array([0.0147588]),\n",
       " array([0.01475878]),\n",
       " array([0.01475875]),\n",
       " array([0.0147587]),\n",
       " array([0.01475859]),\n",
       " array([0.0147584]),\n",
       " array([0.01475806]),\n",
       " array([0.01475749]),\n",
       " array([0.01475658]),\n",
       " array([0.01475537])]"
      ]
     },
     "execution_count": 16,
     "metadata": {},
     "output_type": "execute_result"
    }
   ],
   "source": [
    "T.J"
   ]
  },
  {
   "cell_type": "code",
   "execution_count": 17,
   "metadata": {},
   "outputs": [
    {
     "data": {
      "text/plain": [
       "[array([0.02627923]),\n",
       " array([0.02146124]),\n",
       " array([0.01494132]),\n",
       " array([0.01507161]),\n",
       " array([0.01516356]),\n",
       " array([0.01519971]),\n",
       " array([0.01514486]),\n",
       " array([0.01491671]),\n",
       " array([0.01436354]),\n",
       " array([0.01327572]),\n",
       " array([0.01213067]),\n",
       " array([0.0108498]),\n",
       " array([0.01012148]),\n",
       " array([0.00999069]),\n",
       " array([0.00998503]),\n",
       " array([0.00999498]),\n",
       " array([0.01001208]),\n",
       " array([0.01003479]),\n",
       " array([0.01006655]),\n",
       " array([0.0101157]),\n",
       " array([0.01020266]),\n",
       " array([0.01038586]),\n",
       " array([0.01044183]),\n",
       " array([0.01042352]),\n",
       " array([0.01036154]),\n",
       " array([0.01033505]),\n",
       " array([0.01032074]),\n",
       " array([0.01030652]),\n",
       " array([0.01028956]),\n",
       " array([0.01026655]),\n",
       " array([0.01023291]),\n",
       " array([0.0101819]),\n",
       " array([0.01010415]),\n",
       " array([0.00998955]),\n",
       " array([0.00983738]),\n",
       " array([0.0096924]),\n",
       " array([0.0096948]),\n",
       " array([0.00956868]),\n",
       " array([0.00953885]),\n",
       " array([0.00963071]),\n",
       " array([0.00967157]),\n",
       " array([0.00966043]),\n",
       " array([0.00966269]),\n",
       " array([0.00966648]),\n",
       " array([0.00967273]),\n",
       " array([0.00968359]),\n",
       " array([0.00970328]),\n",
       " array([0.00974003]),\n",
       " array([0.00978452]),\n",
       " array([0.00981123]),\n",
       " array([0.00981481]),\n",
       " array([0.0097815]),\n",
       " array([0.00968082]),\n",
       " array([0.00945649]),\n",
       " array([0.00923298]),\n",
       " array([0.00905358]),\n",
       " array([0.00898904]),\n",
       " array([0.00897653]),\n",
       " array([0.0090077]),\n",
       " array([0.00902269]),\n",
       " array([0.00903284]),\n",
       " array([0.00903867]),\n",
       " array([0.00904487]),\n",
       " array([0.00905302]),\n",
       " array([0.00906522]),\n",
       " array([0.00908498]),\n",
       " array([0.00911868]),\n",
       " array([0.00917803]),\n",
       " array([0.00928292]),\n",
       " array([0.00940819]),\n",
       " array([0.00950226]),\n",
       " array([0.00954287]),\n",
       " array([0.00949649]),\n",
       " array([0.00946824]),\n",
       " array([0.00945377]),\n",
       " array([0.00945088]),\n",
       " array([0.0094474]),\n",
       " array([0.00944374]),\n",
       " array([0.00943857]),\n",
       " array([0.00943106]),\n",
       " array([0.00941945]),\n",
       " array([0.00940133]),\n",
       " array([0.00937349]),\n",
       " array([0.00933387]),\n",
       " array([0.00928975]),\n",
       " array([0.00925871]),\n",
       " array([0.00926102]),\n",
       " array([0.00928613]),\n",
       " array([0.00931086]),\n",
       " array([0.00931355]),\n",
       " array([0.00931708]),\n",
       " array([0.00931964]),\n",
       " array([0.00932244]),\n",
       " array([0.00932598]),\n",
       " array([0.00933088]),\n",
       " array([0.009338]),\n",
       " array([0.00934854]),\n",
       " array([0.00936381]),\n",
       " array([0.00938376]),\n",
       " array([0.00939888])]"
      ]
     },
     "execution_count": 17,
     "metadata": {},
     "output_type": "execute_result"
    }
   ],
   "source": [
    "T.testJ"
   ]
  },
  {
   "cell_type": "code",
   "execution_count": 18,
   "metadata": {},
   "outputs": [
    {
     "data": {
      "text/plain": [
       "0.0054801507449719535"
      ]
     },
     "execution_count": 18,
     "metadata": {},
     "output_type": "execute_result"
    }
   ],
   "source": [
    "from sklearn.metrics import mean_absolute_error\n",
    "mean_absolute_error(T.J, T.testJ)"
   ]
  },
  {
   "cell_type": "code",
   "execution_count": 19,
   "metadata": {},
   "outputs": [],
   "source": [
    "yHat=NN.forward(X)"
   ]
  },
  {
   "cell_type": "code",
   "execution_count": 20,
   "metadata": {},
   "outputs": [
    {
     "data": {
      "text/plain": [
       "array([[0.73603343],\n",
       "       [0.6044984 ],\n",
       "       [0.49415221],\n",
       "       [0.50374462],\n",
       "       [0.34226397],\n",
       "       [0.29983658],\n",
       "       [0.43107892],\n",
       "       [0.6373628 ],\n",
       "       [0.74587552],\n",
       "       [0.45871612],\n",
       "       [0.29509143],\n",
       "       [0.45085246],\n",
       "       [0.47047503],\n",
       "       [0.69022005],\n",
       "       [0.75957516],\n",
       "       [0.56782926],\n",
       "       [0.32254086],\n",
       "       [0.42442185],\n",
       "       [0.53375735],\n",
       "       [0.60306831],\n",
       "       [0.53017331],\n",
       "       [0.55921976],\n",
       "       [0.34041613],\n",
       "       [0.32132518],\n",
       "       [0.48732608],\n",
       "       [0.64046014],\n",
       "       [0.62583325],\n",
       "       [0.40960149],\n",
       "       [0.36511071],\n",
       "       [0.52809972],\n",
       "       [0.57879413],\n",
       "       [0.60805829],\n",
       "       [0.67460029],\n",
       "       [0.51951405],\n",
       "       [0.34638798],\n",
       "       [0.40156991],\n",
       "       [0.48875968],\n",
       "       [0.55490581],\n",
       "       [0.62388179],\n",
       "       [0.47559412],\n",
       "       [0.38884616],\n",
       "       [0.465121  ],\n",
       "       [0.67707285],\n",
       "       [0.64452992],\n",
       "       [0.60114831],\n",
       "       [0.44929439],\n",
       "       [0.36960787],\n",
       "       [0.50699595],\n",
       "       [0.65344102],\n",
       "       [0.61377517],\n",
       "       [0.44836696],\n",
       "       [0.36401732],\n",
       "       [0.38458787],\n",
       "       [0.41791632],\n",
       "       [0.60418613],\n",
       "       [0.6813614 ],\n",
       "       [0.65062396],\n",
       "       [0.56643775]])"
      ]
     },
     "execution_count": 20,
     "metadata": {},
     "output_type": "execute_result"
    }
   ],
   "source": [
    "yHat"
   ]
  },
  {
   "cell_type": "code",
   "execution_count": 21,
   "metadata": {},
   "outputs": [
    {
     "data": {
      "text/plain": [
       "array([[0.66901409],\n",
       "       [0.6971831 ],\n",
       "       [0.97183099],\n",
       "       [0.5915493 ],\n",
       "       [0.28169014],\n",
       "       [0.26056338],\n",
       "       [0.46478873],\n",
       "       [0.99295775],\n",
       "       [0.67605634],\n",
       "       [0.25352113],\n",
       "       [0.45070423],\n",
       "       [0.        ],\n",
       "       [0.48591549],\n",
       "       [0.78169014],\n",
       "       [0.8028169 ],\n",
       "       [0.3028169 ],\n",
       "       [0.47183099],\n",
       "       [0.41549296],\n",
       "       [0.64788732],\n",
       "       [0.61267606],\n",
       "       [1.        ],\n",
       "       [0.47887324],\n",
       "       [0.3028169 ],\n",
       "       [0.38028169],\n",
       "       [0.5915493 ],\n",
       "       [0.8028169 ],\n",
       "       [0.47183099],\n",
       "       [0.26760563],\n",
       "       [0.4084507 ],\n",
       "       [0.32394366],\n",
       "       [0.45774648],\n",
       "       [0.81690141],\n",
       "       [0.75352113],\n",
       "       [0.43661972],\n",
       "       [0.45774648],\n",
       "       [0.38732394],\n",
       "       [0.46478873],\n",
       "       [0.73239437],\n",
       "       [0.51408451],\n",
       "       [0.28169014],\n",
       "       [0.19014085],\n",
       "       [0.51408451],\n",
       "       [0.50704225],\n",
       "       [0.75352113],\n",
       "       [0.54225352],\n",
       "       [0.26056338],\n",
       "       [0.3943662 ],\n",
       "       [0.62676056],\n",
       "       [0.79577465],\n",
       "       [0.70422535],\n",
       "       [0.53521127],\n",
       "       [0.40140845],\n",
       "       [0.12676056],\n",
       "       [0.33098592],\n",
       "       [0.41549296],\n",
       "       [0.55633803],\n",
       "       [0.5915493 ],\n",
       "       [0.51408451]])"
      ]
     },
     "execution_count": 21,
     "metadata": {},
     "output_type": "execute_result"
    }
   ],
   "source": [
    "y"
   ]
  },
  {
   "cell_type": "code",
   "execution_count": 22,
   "metadata": {},
   "outputs": [
    {
     "data": {
      "text/plain": [
       "0.02759409763510492"
      ]
     },
     "execution_count": 22,
     "metadata": {},
     "output_type": "execute_result"
    }
   ],
   "source": [
    "from sklearn.metrics import mean_squared_error \n",
    "mean_squared_error(y,yHat) "
   ]
  },
  {
   "cell_type": "code",
   "execution_count": 23,
   "metadata": {},
   "outputs": [
    {
     "data": {
      "image/png": "[encoded data removed]",
      "text/plain": [
       "<Figure size 432x288 with 1 Axes>"
      ]
     },
     "metadata": {
      "needs_background": "light"
     },
     "output_type": "display_data"
    }
   ],
   "source": [
    "#Plot cost during training:\n",
    "plot.plot(y)\n",
    "plot.plot(yHat)\n",
    "plot.grid(1)\n",
    "plot.legend(['y', 'yHat'])\n",
    "plot.show()"
   ]
  },
  {
   "cell_type": "code",
   "execution_count": 24,
   "metadata": {},
   "outputs": [],
   "source": [
    "prediksi=NN.forward(dataprediksi)"
   ]
  },
  {
   "cell_type": "code",
   "execution_count": 25,
   "metadata": {},
   "outputs": [
    {
     "data": {
      "text/plain": [
       "array([[0.47864032],\n",
       "       [0.44346184],\n",
       "       [0.49515242],\n",
       "       [0.55097238]])"
      ]
     },
     "execution_count": 25,
     "metadata": {},
     "output_type": "execute_result"
    }
   ],
   "source": [
    "prediksi"
   ]
  },
  {
   "cell_type": "code",
   "execution_count": 26,
   "metadata": {},
   "outputs": [],
   "source": [
    "from sklearn.metrics import mean_squared_error "
   ]
  },
  {
   "cell_type": "code",
   "execution_count": 27,
   "metadata": {},
   "outputs": [
    {
     "data": {
      "text/plain": [
       "0.010353710903699192"
      ]
     },
     "execution_count": 27,
     "metadata": {},
     "output_type": "execute_result"
    }
   ],
   "source": [
    "Y_true= ([\t0.387323944\t]\t,\n",
    "[\t0.373239437\t]\t,\n",
    "[\t0.366197183\t]\t,\n",
    "[\t0.443661972\t]\t,\n",
    ")\n",
    "\n",
    "\n",
    "Y_pred=prediksi\n",
    "mean_squared_error(Y_true,Y_pred) "
   ]
  },
  {
   "cell_type": "code",
   "execution_count": 28,
   "metadata": {},
   "outputs": [
    {
     "data": {
      "text/plain": [
       "array([[0.41549296, 0.55633803, 0.5915493 , 0.51408451],\n",
       "       [0.55633803, 0.5915493 , 0.51408451, 0.38732394],\n",
       "       [0.5915493 , 0.51408451, 0.38732394, 0.37323944],\n",
       "       [0.51408451, 0.38732394, 0.37323944, 0.36619718]])"
      ]
     },
     "execution_count": 28,
     "metadata": {},
     "output_type": "execute_result"
    }
   ],
   "source": [
    "dataprediksi"
   ]
  },
  {
   "cell_type": "code",
   "execution_count": 29,
   "metadata": {},
   "outputs": [],
   "source": [
    "a=np.array([\t0.387323944\t,\t0.373239437\t,\t0.366197183\t,\t0.443661972\t])"
   ]
  },
  {
   "cell_type": "code",
   "execution_count": 30,
   "metadata": {},
   "outputs": [
    {
     "data": {
      "text/plain": [
       "array([0.59192863])"
      ]
     },
     "execution_count": 30,
     "metadata": {},
     "output_type": "execute_result"
    }
   ],
   "source": [
    "#prediksi 1\n",
    "prediksi=NN.forward(a)\n",
    "prediksi"
   ]
  },
  {
   "cell_type": "code",
   "execution_count": 31,
   "metadata": {},
   "outputs": [
    {
     "data": {
      "text/plain": [
       "array([0.61161388])"
      ]
     },
     "execution_count": 31,
     "metadata": {},
     "output_type": "execute_result"
    }
   ],
   "source": [
    "#prediksi 2\n",
    "c=prediksi\n",
    "b=a[1:]\n",
    "d=np.concatenate((b,c))\n",
    "prediksi=NN.forward(d)\n",
    "prediksi"
   ]
  },
  {
   "cell_type": "code",
   "execution_count": 32,
   "metadata": {},
   "outputs": [
    {
     "data": {
      "text/plain": [
       "array([0.54724677])"
      ]
     },
     "execution_count": 32,
     "metadata": {},
     "output_type": "execute_result"
    }
   ],
   "source": [
    "#prediksi 3\n",
    "c=prediksi\n",
    "b=d[1:]\n",
    "e=np.concatenate((b,c))\n",
    "prediksi=NN.forward(e)\n",
    "prediksi"
   ]
  },
  {
   "cell_type": "code",
   "execution_count": 33,
   "metadata": {},
   "outputs": [
    {
     "data": {
      "text/plain": [
       "array([0.46614602])"
      ]
     },
     "execution_count": 33,
     "metadata": {},
     "output_type": "execute_result"
    }
   ],
   "source": [
    "#prediksi 4\n",
    "c=prediksi\n",
    "b=e[1:]\n",
    "f=np.concatenate((b,c))\n",
    "prediksi=NN.forward(f)\n",
    "prediksi"
   ]
  },
  {
   "cell_type": "code",
   "execution_count": 34,
   "metadata": {},
   "outputs": [
    {
     "data": {
      "text/plain": [
       "array([0.44247548])"
      ]
     },
     "execution_count": 34,
     "metadata": {},
     "output_type": "execute_result"
    }
   ],
   "source": [
    "#prediksi 5\n",
    "c=prediksi\n",
    "b=f[1:]\n",
    "g=np.concatenate((b,c))\n",
    "prediksi=NN.forward(g)\n",
    "prediksi"
   ]
  },
  {
   "cell_type": "code",
   "execution_count": 35,
   "metadata": {},
   "outputs": [
    {
     "data": {
      "text/plain": [
       "array([0.47699449])"
      ]
     },
     "execution_count": 35,
     "metadata": {},
     "output_type": "execute_result"
    }
   ],
   "source": [
    "#prediksi 6\n",
    "c=prediksi\n",
    "b=g[1:]\n",
    "h=np.concatenate((b,c))\n",
    "prediksi=NN.forward(h)\n",
    "prediksi"
   ]
  },
  {
   "cell_type": "code",
   "execution_count": null,
   "metadata": {},
   "outputs": [],
   "source": []
  }
 ],
 "metadata": {
  "kernelspec": {
   "display_name": "Python 3",
   "language": "python",
   "name": "python3"
  },
  "language_info": {
   "codemirror_mode": {
    "name": "ipython",
    "version": 3
   },
   "file_extension": ".py",
   "mimetype": "text/x-python",
   "name": "python",
   "nbconvert_exporter": "python",
   "pygments_lexer": "ipython3",
   "version": "3.7.3"
  }
 },
 "nbformat": 4,
 "nbformat_minor": 2
}
