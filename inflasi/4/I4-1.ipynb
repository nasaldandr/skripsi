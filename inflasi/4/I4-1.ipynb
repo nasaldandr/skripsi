{
 "cells": [
  {
   "cell_type": "code",
   "execution_count": 1,
   "metadata": {},
   "outputs": [],
   "source": [
    "import numpy as np"
   ]
  },
  {
   "cell_type": "code",
   "execution_count": 2,
   "metadata": {},
   "outputs": [],
   "source": [
    "#UNTUK NILAI IMPOR\n",
    "class Neural_Network(object):\n",
    "    def __init__(self):\n",
    "        #parameters\n",
    "        self.inputLayerSize = 4\n",
    "        self.outputLayerSize = 1\n",
    "        self.hiddenLayerSize = 1\n",
    "\n",
    "        #weights\n",
    "        self.W1 = np.random.randn(self.inputLayerSize,\\\n",
    "                                 self.hiddenLayerSize)  \n",
    "        self.W2 = np.random.randn(self.hiddenLayerSize,\\\n",
    "                                 self.outputLayerSize)  \n",
    "    \n",
    "    def printw(self):\n",
    "        return self.W1\n",
    "        \n",
    "    def weight(self, W1, W2):\n",
    "        #Make an internal variable for the weight:\n",
    "        self.W1 = W1\n",
    "        self.W2 = W2\n",
    "        \n",
    "    def forward(self, X):\n",
    "        #forward propagation through our network\n",
    "        self.z2 = np.dot(X,self.W1)  \n",
    "        self.a2 = self.tanh(self.z2)  # activation function\n",
    "        self.z3 = np.dot(self.a2, self.W2) \n",
    "        yHat = self.tanh(self.z3)  # final activation function\n",
    "        return yHat\n",
    "\n",
    "    def tanh(self, z):\n",
    "        # activation function\n",
    "        return (np.exp(z)-np.exp(-z))/(np.exp(z)+np.exp(-z))\n",
    "    \n",
    "    def tanhPrime(self,z): \n",
    "        #derivative of tanh\n",
    "        return 1-((np.exp(z)-np.exp(-z))/(np.exp(z)+np.exp(-z)))**2\n",
    "    \n",
    "    def costFunction(self,X,y):\n",
    "        self.yHat = self.forward(X)\n",
    "        J=0.5*sum((y-self.yHat)**2)\n",
    "        return J\n",
    "    \n",
    "    def costFunctionPrime(self,X,y):\n",
    "        self.yHat=self.forward(X)\n",
    "        \n",
    "        delta3=np.multiply(-(y-self.yHat),self.tanhPrime(self.z3))\n",
    "        dJdW2=np.dot(self.a2.T,delta3)\n",
    "        \n",
    "        delta2=np.dot(delta3,self.W2.T)*self.tanhPrime(self.z2)\n",
    "        dJdW1=np.dot(X.T,delta2)\n",
    "        return dJdW1,dJdW2\n",
    "    \n",
    "    def predict(self):\n",
    "        prediksi = self.forward(dataprediksi)\n",
    "        return prediksi\n",
    "    \n",
    "    def getParams(self):\n",
    "        params=np.concatenate((self.W1.ravel(),self.W2.ravel()))\n",
    "        return params\n",
    "    \n",
    "    def setParams(self,params):\n",
    "        W1_start=0\n",
    "        W1_end=self.hiddenLayerSize*self.inputLayerSize\n",
    "        self.W1=np.reshape(params[W1_start:W1_end],\\\n",
    "                          (self.inputLayerSize,self.hiddenLayerSize))\n",
    "        W2_end=W1_end+self.hiddenLayerSize*self.outputLayerSize\n",
    "        self.W2=np.reshape(params[W1_end:W2_end],\\\n",
    "                          (self.hiddenLayerSize,self.outputLayerSize))\n",
    "        \n",
    "    def computeGradients(self, X, y):\n",
    "        dJdW1, dJdW2 = self.costFunctionPrime(X, y)\n",
    "        return np.concatenate((dJdW1.ravel(), dJdW2.ravel()))"
   ]
  },
  {
   "cell_type": "code",
   "execution_count": 3,
   "metadata": {},
   "outputs": [],
   "source": [
    "NN = Neural_Network()"
   ]
  },
  {
   "cell_type": "code",
   "execution_count": 4,
   "metadata": {},
   "outputs": [
    {
     "data": {
      "text/plain": [
       "array([[ 1.23872853],\n",
       "       [-0.01052397],\n",
       "       [ 1.03177525],\n",
       "       [ 1.18158769]])"
      ]
     },
     "execution_count": 4,
     "metadata": {},
     "output_type": "execute_result"
    }
   ],
   "source": [
    "NN.W1"
   ]
  },
  {
   "cell_type": "code",
   "execution_count": 5,
   "metadata": {},
   "outputs": [
    {
     "data": {
      "text/plain": [
       "array([[0.15931832]])"
      ]
     },
     "execution_count": 5,
     "metadata": {},
     "output_type": "execute_result"
    }
   ],
   "source": [
    "NN.W2"
   ]
  },
  {
   "cell_type": "code",
   "execution_count": 6,
   "metadata": {},
   "outputs": [],
   "source": [
    "#NILAI IMPOR\n",
    "X=np.array(([\t0.147887324\t,\t0.063380282\t,\t0.436619718\t,\t0.570422535\t]\t,\n",
    "[\t0.063380282\t,\t0.436619718\t,\t0.570422535\t,\t0.669014085\t]\t,\n",
    "[\t0.436619718\t,\t0.570422535\t,\t0.669014085\t,\t0.697183099\t]\t,\n",
    "[\t0.570422535\t,\t0.669014085\t,\t0.697183099\t,\t0.971830986\t]\t,\n",
    "[\t0.669014085\t,\t0.697183099\t,\t0.971830986\t,\t0.591549296\t]\t,\n",
    "[\t0.697183099\t,\t0.971830986\t,\t0.591549296\t,\t0.281690141\t]\t,\n",
    "[\t0.971830986\t,\t0.591549296\t,\t0.281690141\t,\t0.26056338\t]\t,\n",
    "[\t0.591549296\t,\t0.281690141\t,\t0.26056338\t,\t0.464788732\t]\t,\n",
    "[\t0.281690141\t,\t0.26056338\t,\t0.464788732\t,\t0.992957746\t]\t,\n",
    "[\t0.26056338\t,\t0.464788732\t,\t0.992957746\t,\t0.676056338\t]\t,\n",
    "[\t0.464788732\t,\t0.992957746\t,\t0.676056338\t,\t0.253521127\t]\t,\n",
    "[\t0.992957746\t,\t0.676056338\t,\t0.253521127\t,\t0.450704225\t]\t,\n",
    "[\t0.676056338\t,\t0.253521127\t,\t0.450704225\t,\t0\t]\t,\n",
    "[\t0.253521127\t,\t0.450704225\t,\t0\t,\t0.485915493\t]\t,\n",
    "[\t0.450704225\t,\t0\t,\t0.485915493\t,\t0.781690141\t]\t,\n",
    "[\t0\t,\t0.485915493\t,\t0.781690141\t,\t0.802816901\t]\t,\n",
    "[\t0.485915493\t,\t0.781690141\t,\t0.802816901\t,\t0.302816901\t]\t,\n",
    "[\t0.781690141\t,\t0.802816901\t,\t0.302816901\t,\t0.471830986\t]\t,\n",
    "[\t0.802816901\t,\t0.302816901\t,\t0.471830986\t,\t0.415492958\t]\t,\n",
    "[\t0.302816901\t,\t0.471830986\t,\t0.415492958\t,\t0.647887324\t]\t,\n",
    "[\t0.471830986\t,\t0.415492958\t,\t0.647887324\t,\t0.612676056\t]\t,\n",
    "[\t0.415492958\t,\t0.647887324\t,\t0.612676056\t,\t1\t]\t,\n",
    "[\t0.647887324\t,\t0.612676056\t,\t1\t,\t0.478873239\t]\t,\n",
    "[\t0.612676056\t,\t1\t,\t0.478873239\t,\t0.302816901\t]\t,\n",
    "[\t1\t,\t0.478873239\t,\t0.302816901\t,\t0.38028169\t]\t,\n",
    "[\t0.478873239\t,\t0.302816901\t,\t0.38028169\t,\t0.591549296\t]\t,\n",
    "[\t0.302816901\t,\t0.38028169\t,\t0.591549296\t,\t0.802816901\t]\t,\n",
    "[\t0.38028169\t,\t0.591549296\t,\t0.802816901\t,\t0.471830986\t]\t,\n",
    "[\t0.591549296\t,\t0.802816901\t,\t0.471830986\t,\t0.267605634\t]\t,\n",
    "[\t0.802816901\t,\t0.471830986\t,\t0.267605634\t,\t0.408450704\t]\t,\n",
    "[\t0.471830986\t,\t0.267605634\t,\t0.408450704\t,\t0.323943662\t]\t,\n",
    "[\t0.267605634\t,\t0.408450704\t,\t0.323943662\t,\t0.457746479\t]\t,\n",
    "[\t0.408450704\t,\t0.323943662\t,\t0.457746479\t,\t0.816901408\t]\t,\n",
    "[\t0.323943662\t,\t0.457746479\t,\t0.816901408\t,\t0.753521127\t]\t,\n",
    "[\t0.457746479\t,\t0.816901408\t,\t0.753521127\t,\t0.436619718\t]\t,\n",
    "[\t0.816901408\t,\t0.753521127\t,\t0.436619718\t,\t0.457746479\t]\t,\n",
    "[\t0.753521127\t,\t0.436619718\t,\t0.457746479\t,\t0.387323944\t]\t,\n",
    "[\t0.436619718\t,\t0.457746479\t,\t0.387323944\t,\t0.464788732\t]\t,\n",
    "[\t0.457746479\t,\t0.387323944\t,\t0.464788732\t,\t0.732394366\t]\t,\n",
    "[\t0.387323944\t,\t0.464788732\t,\t0.732394366\t,\t0.514084507\t]\t,\n",
    "[\t0.464788732\t,\t0.732394366\t,\t0.514084507\t,\t0.281690141\t]\t,\n",
    "[\t0.732394366\t,\t0.514084507\t,\t0.281690141\t,\t0.190140845\t]\t,\n",
    "[\t0.514084507\t,\t0.281690141\t,\t0.190140845\t,\t0.514084507\t]\t,\n",
    "[\t0.281690141\t,\t0.190140845\t,\t0.514084507\t,\t0.507042254\t]\t,\n",
    "[\t0.190140845\t,\t0.514084507\t,\t0.507042254\t,\t0.753521127\t]\t,\n",
    "[\t0.514084507\t,\t0.507042254\t,\t0.753521127\t,\t0.542253521\t]\t,\n",
    "[\t0.507042254\t,\t0.753521127\t,\t0.542253521\t,\t0.26056338\t]\t,\n",
    "[\t0.753521127\t,\t0.542253521\t,\t0.26056338\t,\t0.394366197\t]\t,\n",
    "[\t0.542253521\t,\t0.26056338\t,\t0.394366197\t,\t0.626760563\t]\t,\n",
    "[\t0.26056338\t,\t0.394366197\t,\t0.626760563\t,\t0.795774648\t]\t,\n",
    "[\t0.394366197\t,\t0.626760563\t,\t0.795774648\t,\t0.704225352\t]\t,\n",
    "[\t0.626760563\t,\t0.795774648\t,\t0.704225352\t,\t0.535211268\t]\t,\n",
    "[\t0.795774648\t,\t0.704225352\t,\t0.535211268\t,\t0.401408451\t]\t,\n",
    "[\t0.704225352\t,\t0.535211268\t,\t0.401408451\t,\t0.126760563\t]\t,\n",
    "[\t0.535211268\t,\t0.401408451\t,\t0.126760563\t,\t0.330985915\t]\t,\n",
    "[\t0.401408451\t,\t0.126760563\t,\t0.330985915\t,\t0.415492958\t]\t,\n",
    "[\t0.126760563\t,\t0.330985915\t,\t0.415492958\t,\t0.556338028\t]\t,\n",
    "[\t0.330985915\t,\t0.415492958\t,\t0.556338028\t,\t0.591549296\t]\t,\n",
    "\n",
    ")           \n",
    ",dtype=float)\n",
    "y=np.array(([\t0.669014085\t]\t,\n",
    "[\t0.697183099\t]\t,\n",
    "[\t0.971830986\t]\t,\n",
    "[\t0.591549296\t]\t,\n",
    "[\t0.281690141\t]\t,\n",
    "[\t0.26056338\t]\t,\n",
    "[\t0.464788732\t]\t,\n",
    "[\t0.992957746\t]\t,\n",
    "[\t0.676056338\t]\t,\n",
    "[\t0.253521127\t]\t,\n",
    "[\t0.450704225\t]\t,\n",
    "[\t0\t]\t,\n",
    "[\t0.485915493\t]\t,\n",
    "[\t0.781690141\t]\t,\n",
    "[\t0.802816901\t]\t,\n",
    "[\t0.302816901\t]\t,\n",
    "[\t0.471830986\t]\t,\n",
    "[\t0.415492958\t]\t,\n",
    "[\t0.647887324\t]\t,\n",
    "[\t0.612676056\t]\t,\n",
    "[\t1\t]\t,\n",
    "[\t0.478873239\t]\t,\n",
    "[\t0.302816901\t]\t,\n",
    "[\t0.38028169\t]\t,\n",
    "[\t0.591549296\t]\t,\n",
    "[\t0.802816901\t]\t,\n",
    "[\t0.471830986\t]\t,\n",
    "[\t0.267605634\t]\t,\n",
    "[\t0.408450704\t]\t,\n",
    "[\t0.323943662\t]\t,\n",
    "[\t0.457746479\t]\t,\n",
    "[\t0.816901408\t]\t,\n",
    "[\t0.753521127\t]\t,\n",
    "[\t0.436619718\t]\t,\n",
    "[\t0.457746479\t]\t,\n",
    "[\t0.387323944\t]\t,\n",
    "[\t0.464788732\t]\t,\n",
    "[\t0.732394366\t]\t,\n",
    "[\t0.514084507\t]\t,\n",
    "[\t0.281690141\t]\t,\n",
    "[\t0.190140845\t]\t,\n",
    "[\t0.514084507\t]\t,\n",
    "[\t0.507042254\t]\t,\n",
    "[\t0.753521127\t]\t,\n",
    "[\t0.542253521\t]\t,\n",
    "[\t0.26056338\t]\t,\n",
    "[\t0.394366197\t]\t,\n",
    "[\t0.626760563\t]\t,\n",
    "[\t0.795774648\t]\t,\n",
    "[\t0.704225352\t]\t,\n",
    "[\t0.535211268\t]\t,\n",
    "[\t0.401408451\t]\t,\n",
    "[\t0.126760563\t]\t,\n",
    "[\t0.330985915\t]\t,\n",
    "[\t0.415492958\t]\t,\n",
    "[\t0.556338028\t]\t,\n",
    "[\t0.591549296\t]\t,\n",
    "[\t0.514084507\t]\t,\n",
    "\n",
    ")\n",
    ",dtype=float)\n",
    "\n",
    "dataprediksi = np.array(([\t0.415492958\t,\t0.556338028\t,\t0.591549296\t,\t0.514084507\t]\t,\n",
    "[\t0.556338028\t,\t0.591549296\t,\t0.514084507\t,\t0.387323944\t]\t,\n",
    "[\t0.591549296\t,\t0.514084507\t,\t0.387323944\t,\t0.373239437\t]\t,\n",
    "[\t0.514084507\t,\t0.387323944\t,\t0.373239437\t,\t0.366197183\t]\t,\n",
    "\n",
    "\n",
    "), dtype=float)\n"
   ]
  },
  {
   "cell_type": "code",
   "execution_count": 7,
   "metadata": {},
   "outputs": [],
   "source": [
    "import matplotlib.pyplot as plot"
   ]
  },
  {
   "cell_type": "code",
   "execution_count": 8,
   "metadata": {},
   "outputs": [],
   "source": [
    "from scipy import optimize"
   ]
  },
  {
   "cell_type": "code",
   "execution_count": 9,
   "metadata": {},
   "outputs": [],
   "source": [
    "class trainer(object):\n",
    "    def __init__(self, N):\n",
    "        #Make Local reference to network:\n",
    "        self.N = N\n",
    "        \n",
    "    def callbackF(self, params):\n",
    "        self.N.setParams(params)\n",
    "        self.J.append(self.N.costFunction(self.X, self.y))   \n",
    "        \n",
    "    def costFunctionWrapper(self, params, X, y):\n",
    "        self.N.setParams(params)\n",
    "        cost = self.N.costFunction(X, y)\n",
    "        grad = self.N.computeGradients(X,y)\n",
    "        \n",
    "        return cost, grad\n",
    "        \n",
    "    def train(self, X, y):\n",
    "        #Make an internal variable for the callback function:\n",
    "        self.X = X\n",
    "        self.y = y\n",
    "\n",
    "        #Make empty list to store costs:\n",
    "        self.J = []\n",
    "        \n",
    "        params0 = self.N.getParams()\n",
    "\n",
    "        options = {'maxiter': 100, 'disp' : True}\n",
    "        _res = optimize.minimize(self.costFunctionWrapper, params0, jac=True, method='BFGS', \\\n",
    "                                 args=(X, y), options=options, callback=self.callbackF)\n",
    "\n",
    "        self.N.setParams(_res.x)\n",
    "        self.optimizationResults = _res"
   ]
  },
  {
   "cell_type": "code",
   "execution_count": 10,
   "metadata": {},
   "outputs": [],
   "source": [
    "NN=Neural_Network()"
   ]
  },
  {
   "cell_type": "code",
   "execution_count": 11,
   "metadata": {},
   "outputs": [],
   "source": [
    "T = trainer(NN)"
   ]
  },
  {
   "cell_type": "code",
   "execution_count": 12,
   "metadata": {},
   "outputs": [
    {
     "name": "stdout",
     "output_type": "stream",
     "text": [
      "Optimization terminated successfully.\n",
      "         Current function value: 1.175213\n",
      "         Iterations: 30\n",
      "         Function evaluations: 36\n",
      "         Gradient evaluations: 36\n"
     ]
    }
   ],
   "source": [
    "#Train network with new data:\n",
    "T = trainer(NN)\n",
    "T.train(X,y)"
   ]
  },
  {
   "cell_type": "code",
   "execution_count": 13,
   "metadata": {},
   "outputs": [
    {
     "data": {
      "image/png": "[encoded data removed]",
      "text/plain": [
       "<Figure size 432x288 with 1 Axes>"
      ]
     },
     "metadata": {
      "needs_background": "light"
     },
     "output_type": "display_data"
    }
   ],
   "source": [
    "#Plot cost during training:\n",
    "plot.plot(T.J)\n",
    "plot.grid(1)\n",
    "plot.xlabel('Iterations')\n",
    "plot.ylabel('Cost')\n",
    "plot.show()"
   ]
  },
  {
   "cell_type": "code",
   "execution_count": 14,
   "metadata": {},
   "outputs": [],
   "source": [
    "#Training Data:\n",
    "trainX = np.array(([\t0.147887324\t,\t0.063380282\t,\t0.436619718\t,\t0.570422535\t]\t,\n",
    "[\t0.063380282\t,\t0.436619718\t,\t0.570422535\t,\t0.669014085\t]\t,\n",
    "[\t0.436619718\t,\t0.570422535\t,\t0.669014085\t,\t0.697183099\t]\t,\n",
    "[\t0.570422535\t,\t0.669014085\t,\t0.697183099\t,\t0.971830986\t]\t,\n",
    "[\t0.669014085\t,\t0.697183099\t,\t0.971830986\t,\t0.591549296\t]\t,\n",
    "[\t0.697183099\t,\t0.971830986\t,\t0.591549296\t,\t0.281690141\t]\t,\n",
    "[\t0.971830986\t,\t0.591549296\t,\t0.281690141\t,\t0.26056338\t]\t,\n",
    "[\t0.591549296\t,\t0.281690141\t,\t0.26056338\t,\t0.464788732\t]\t,\n",
    "[\t0.281690141\t,\t0.26056338\t,\t0.464788732\t,\t0.992957746\t]\t,\n",
    "[\t0.26056338\t,\t0.464788732\t,\t0.992957746\t,\t0.676056338\t]\t,\n",
    "[\t0.464788732\t,\t0.992957746\t,\t0.676056338\t,\t0.253521127\t]\t,\n",
    "[\t0.992957746\t,\t0.676056338\t,\t0.253521127\t,\t0.450704225\t]\t,\n",
    "[\t0.676056338\t,\t0.253521127\t,\t0.450704225\t,\t0\t]\t,\n",
    "[\t0.253521127\t,\t0.450704225\t,\t0\t,\t0.485915493\t]\t,\n",
    "[\t0.450704225\t,\t0\t,\t0.485915493\t,\t0.781690141\t]\t,\n",
    "[\t0\t,\t0.485915493\t,\t0.781690141\t,\t0.802816901\t]\t,\n",
    "[\t0.485915493\t,\t0.781690141\t,\t0.802816901\t,\t0.302816901\t]\t,\n",
    "[\t0.781690141\t,\t0.802816901\t,\t0.302816901\t,\t0.471830986\t]\t,\n",
    "[\t0.802816901\t,\t0.302816901\t,\t0.471830986\t,\t0.415492958\t]\t,\n",
    "[\t0.302816901\t,\t0.471830986\t,\t0.415492958\t,\t0.647887324\t]\t,\n",
    "[\t0.471830986\t,\t0.415492958\t,\t0.647887324\t,\t0.612676056\t]\t,\n",
    "[\t0.415492958\t,\t0.647887324\t,\t0.612676056\t,\t1\t]\t,\n",
    "[\t0.647887324\t,\t0.612676056\t,\t1\t,\t0.478873239\t]\t,\n",
    "[\t0.612676056\t,\t1\t,\t0.478873239\t,\t0.302816901\t]\t,\n",
    "[\t1\t,\t0.478873239\t,\t0.302816901\t,\t0.38028169\t]\t,\n",
    "[\t0.478873239\t,\t0.302816901\t,\t0.38028169\t,\t0.591549296\t]\t,\n",
    "[\t0.302816901\t,\t0.38028169\t,\t0.591549296\t,\t0.802816901\t]\t,\n",
    "[\t0.38028169\t,\t0.591549296\t,\t0.802816901\t,\t0.471830986\t]\t,\n",
    "[\t0.591549296\t,\t0.802816901\t,\t0.471830986\t,\t0.267605634\t]\t,\n",
    "[\t0.802816901\t,\t0.471830986\t,\t0.267605634\t,\t0.408450704\t]\t,\n",
    "[\t0.471830986\t,\t0.267605634\t,\t0.408450704\t,\t0.323943662\t]\t,\n",
    "[\t0.267605634\t,\t0.408450704\t,\t0.323943662\t,\t0.457746479\t]\t,\n",
    "[\t0.408450704\t,\t0.323943662\t,\t0.457746479\t,\t0.816901408\t]\t,\n",
    "[\t0.323943662\t,\t0.457746479\t,\t0.816901408\t,\t0.753521127\t]\t,\n",
    "[\t0.457746479\t,\t0.816901408\t,\t0.753521127\t,\t0.436619718\t]\t,\n",
    "[\t0.816901408\t,\t0.753521127\t,\t0.436619718\t,\t0.457746479\t]\t,\n",
    "[\t0.753521127\t,\t0.436619718\t,\t0.457746479\t,\t0.387323944\t]\t,\n",
    "[\t0.436619718\t,\t0.457746479\t,\t0.387323944\t,\t0.464788732\t]\t,\n",
    "[\t0.457746479\t,\t0.387323944\t,\t0.464788732\t,\t0.732394366\t]\t,\n",
    "[\t0.387323944\t,\t0.464788732\t,\t0.732394366\t,\t0.514084507\t]\t,\n",
    "[\t0.464788732\t,\t0.732394366\t,\t0.514084507\t,\t0.281690141\t]\t,\n",
    "[\t0.732394366\t,\t0.514084507\t,\t0.281690141\t,\t0.190140845\t]\t,\n",
    "[\t0.514084507\t,\t0.281690141\t,\t0.190140845\t,\t0.514084507\t]\t,\n",
    "[\t0.281690141\t,\t0.190140845\t,\t0.514084507\t,\t0.507042254\t]\t,\n",
    "[\t0.190140845\t,\t0.514084507\t,\t0.507042254\t,\t0.753521127\t]\t,\n",
    "                  )\n",
    ", dtype=float)\n",
    "trainY = np.array(([\t0.669014085\t]\t,\n",
    "[\t0.697183099\t]\t,\n",
    "[\t0.971830986\t]\t,\n",
    "[\t0.591549296\t]\t,\n",
    "[\t0.281690141\t]\t,\n",
    "[\t0.26056338\t]\t,\n",
    "[\t0.464788732\t]\t,\n",
    "[\t0.992957746\t]\t,\n",
    "[\t0.676056338\t]\t,\n",
    "[\t0.253521127\t]\t,\n",
    "[\t0.450704225\t]\t,\n",
    "[\t0\t]\t,\n",
    "[\t0.485915493\t]\t,\n",
    "[\t0.781690141\t]\t,\n",
    "[\t0.802816901\t]\t,\n",
    "[\t0.302816901\t]\t,\n",
    "[\t0.471830986\t]\t,\n",
    "[\t0.415492958\t]\t,\n",
    "[\t0.647887324\t]\t,\n",
    "[\t0.612676056\t]\t,\n",
    "[\t1\t]\t,\n",
    "[\t0.478873239\t]\t,\n",
    "[\t0.302816901\t]\t,\n",
    "[\t0.38028169\t]\t,\n",
    "[\t0.591549296\t]\t,\n",
    "[\t0.802816901\t]\t,\n",
    "[\t0.471830986\t]\t,\n",
    "[\t0.267605634\t]\t,\n",
    "[\t0.408450704\t]\t,\n",
    "[\t0.323943662\t]\t,\n",
    "[\t0.457746479\t]\t,\n",
    "[\t0.816901408\t]\t,\n",
    "[\t0.753521127\t]\t,\n",
    "[\t0.436619718\t]\t,\n",
    "[\t0.457746479\t]\t,\n",
    "[\t0.387323944\t]\t,\n",
    "[\t0.464788732\t]\t,\n",
    "[\t0.732394366\t]\t,\n",
    "[\t0.514084507\t]\t,\n",
    "[\t0.281690141\t]\t,\n",
    "[\t0.190140845\t]\t,\n",
    "[\t0.514084507\t]\t,\n",
    "[\t0.507042254\t]\t,\n",
    "[\t0.753521127\t]\t,\n",
    "[\t0.542253521\t]\t,\n",
    "\n",
    ")\n",
    ", dtype=float)\n",
    "\n",
    "#Testing Data:\n",
    "testX = np.array(([\t0.514084507\t,\t0.507042254\t,\t0.753521127\t,\t0.542253521\t]\t,\n",
    "[\t0.507042254\t,\t0.753521127\t,\t0.542253521\t,\t0.26056338\t]\t,\n",
    "[\t0.753521127\t,\t0.542253521\t,\t0.26056338\t,\t0.394366197\t]\t,\n",
    "[\t0.542253521\t,\t0.26056338\t,\t0.394366197\t,\t0.626760563\t]\t,\n",
    "[\t0.26056338\t,\t0.394366197\t,\t0.626760563\t,\t0.795774648\t]\t,\n",
    "[\t0.394366197\t,\t0.626760563\t,\t0.795774648\t,\t0.704225352\t]\t,\n",
    "[\t0.626760563\t,\t0.795774648\t,\t0.704225352\t,\t0.535211268\t]\t,\n",
    "[\t0.795774648\t,\t0.704225352\t,\t0.535211268\t,\t0.401408451\t]\t,\n",
    "[\t0.704225352\t,\t0.535211268\t,\t0.401408451\t,\t0.126760563\t]\t,\n",
    "[\t0.535211268\t,\t0.401408451\t,\t0.126760563\t,\t0.330985915\t]\t,\n",
    "[\t0.401408451\t,\t0.126760563\t,\t0.330985915\t,\t0.415492958\t]\t,\n",
    "[\t0.126760563\t,\t0.330985915\t,\t0.415492958\t,\t0.556338028\t]\t,\n",
    "[\t0.330985915\t,\t0.415492958\t,\t0.556338028\t,\t0.591549296\t]\t,\n",
    "\n",
    ")\n",
    ", dtype=float)\n",
    "testY = np.array(([\t0.26056338\t]\t,\n",
    "[\t0.394366197\t]\t,\n",
    "[\t0.626760563\t]\t,\n",
    "[\t0.795774648\t]\t,\n",
    "[\t0.704225352\t]\t,\n",
    "[\t0.535211268\t]\t,\n",
    "[\t0.401408451\t]\t,\n",
    "[\t0.126760563\t]\t,\n",
    "[\t0.330985915\t]\t,\n",
    "[\t0.415492958\t]\t,\n",
    "[\t0.556338028\t]\t,\n",
    "[\t0.591549296\t]\t,\n",
    "[\t0.514084507\t]\t,\n",
    "\n",
    "\n",
    ")\n",
    ", dtype=float)\n",
    "\n",
    "\n",
    "dataprediksi = np.array(([\t0.415492958\t,\t0.556338028\t,\t0.591549296\t,\t0.514084507\t]\t,\n",
    "[\t0.556338028\t,\t0.591549296\t,\t0.514084507\t,\t0.387323944\t]\t,\n",
    "[\t0.591549296\t,\t0.514084507\t,\t0.387323944\t,\t0.373239437\t]\t,\n",
    "[\t0.514084507\t,\t0.387323944\t,\t0.373239437\t,\t0.366197183\t]\t,\n",
    "\n",
    "\n",
    "), dtype=float)"
   ]
  },
  {
   "cell_type": "code",
   "execution_count": 15,
   "metadata": {},
   "outputs": [
    {
     "data": {
      "text/plain": [
       "array([[0.51408451, 0.50704225, 0.75352113, 0.54225352],\n",
       "       [0.50704225, 0.75352113, 0.54225352, 0.26056338],\n",
       "       [0.75352113, 0.54225352, 0.26056338, 0.3943662 ],\n",
       "       [0.54225352, 0.26056338, 0.3943662 , 0.62676056],\n",
       "       [0.26056338, 0.3943662 , 0.62676056, 0.79577465],\n",
       "       [0.3943662 , 0.62676056, 0.79577465, 0.70422535],\n",
       "       [0.62676056, 0.79577465, 0.70422535, 0.53521127],\n",
       "       [0.79577465, 0.70422535, 0.53521127, 0.40140845],\n",
       "       [0.70422535, 0.53521127, 0.40140845, 0.12676056],\n",
       "       [0.53521127, 0.40140845, 0.12676056, 0.33098592],\n",
       "       [0.40140845, 0.12676056, 0.33098592, 0.41549296],\n",
       "       [0.12676056, 0.33098592, 0.41549296, 0.55633803],\n",
       "       [0.33098592, 0.41549296, 0.55633803, 0.5915493 ]])"
      ]
     },
     "execution_count": 15,
     "metadata": {},
     "output_type": "execute_result"
    }
   ],
   "source": [
    "testX"
   ]
  },
  {
   "cell_type": "code",
   "execution_count": 16,
   "metadata": {},
   "outputs": [],
   "source": [
    "##Need to modify trainer class a bit to check testing error during training:\n",
    "class trainer(object):\n",
    "    def __init__(self, N):\n",
    "        #Make Local reference to network:\n",
    "        self.N = N\n",
    "        \n",
    "    def callbackF(self, params):\n",
    "        self.N.setParams(params)\n",
    "        self.J.append(self.N.costFunction(self.X, self.y))\n",
    "        self.testJ.append(self.N.costFunction(self.testX, self.testY))\n",
    "        \n",
    "    def costFunctionWrapper(self, params, X, y):\n",
    "        self.N.setParams(params)\n",
    "        cost = self.N.costFunction(X, y)\n",
    "        grad = self.N.computeGradients(X,y)\n",
    "        \n",
    "        return cost, grad\n",
    "        \n",
    "    def train(self, trainX, trainY, testX, testY):\n",
    "        #Make an internal variable for the callback function:\n",
    "        self.X = trainX\n",
    "        self.y = trainY\n",
    "        \n",
    "        self.testX = testX\n",
    "        self.testY = testY\n",
    "\n",
    "        #Make empty list to store training costs:\n",
    "        self.J = []\n",
    "        self.testJ = []\n",
    "        \n",
    "        params0 = self.N.getParams()\n",
    "\n",
    "        options = {'maxiter': 100, 'disp' : True}\n",
    "        _res = optimize.minimize(self.costFunctionWrapper, params0, jac=True, method='BFGS', \\\n",
    "                                 args=(trainX, trainY), options=options, callback=self.callbackF)\n",
    "\n",
    "        self.N.setParams(_res.x)\n",
    "        self.optimizationResults = _res"
   ]
  },
  {
   "cell_type": "code",
   "execution_count": 17,
   "metadata": {},
   "outputs": [
    {
     "name": "stdout",
     "output_type": "stream",
     "text": [
      "Optimization terminated successfully.\n",
      "         Current function value: 0.959853\n",
      "         Iterations: 53\n",
      "         Function evaluations: 64\n",
      "         Gradient evaluations: 64\n"
     ]
    }
   ],
   "source": [
    "#Train network with new data:\n",
    "NN = Neural_Network()\n",
    "\n",
    "T = trainer(NN)\n",
    "T.train(trainX, trainY, testX, testY)"
   ]
  },
  {
   "cell_type": "code",
   "execution_count": 18,
   "metadata": {},
   "outputs": [
    {
     "data": {
      "image/png": "[encoded data removed]",
      "text/plain": [
       "<Figure size 432x288 with 1 Axes>"
      ]
     },
     "metadata": {
      "needs_background": "light"
     },
     "output_type": "display_data"
    }
   ],
   "source": [
    "#Plot cost during training:\n",
    "plot.plot(T.J)\n",
    "plot.plot(T.testJ)\n",
    "plot.grid(1)\n",
    "plot.xlabel('Iterations')\n",
    "plot.ylabel('Cost')\n",
    "plot.legend(['Training', 'Testing'])\n",
    "plot.show()"
   ]
  },
  {
   "cell_type": "code",
   "execution_count": 19,
   "metadata": {},
   "outputs": [
    {
     "data": {
      "text/plain": [
       "[array([1.56900948]),\n",
       " array([1.37262056]),\n",
       " array([1.24886862]),\n",
       " array([1.17705278]),\n",
       " array([1.13148542]),\n",
       " array([1.10758269]),\n",
       " array([1.09206025]),\n",
       " array([1.08386446]),\n",
       " array([1.07941585]),\n",
       " array([1.07718523]),\n",
       " array([1.07606316]),\n",
       " array([1.07546828]),\n",
       " array([1.07505909]),\n",
       " array([1.07462427]),\n",
       " array([1.0739029]),\n",
       " array([1.0725983]),\n",
       " array([1.07054691]),\n",
       " array([1.07010053]),\n",
       " array([1.06194573]),\n",
       " array([1.05934201]),\n",
       " array([1.05414564]),\n",
       " array([1.05024885]),\n",
       " array([1.04482228]),\n",
       " array([1.03567997]),\n",
       " array([1.02095082]),\n",
       " array([1.01246717]),\n",
       " array([1.00648098]),\n",
       " array([1.00446211]),\n",
       " array([1.00342548]),\n",
       " array([1.00186616]),\n",
       " array([1.000063]),\n",
       " array([0.99754042]),\n",
       " array([0.99583158]),\n",
       " array([0.99538404]),\n",
       " array([0.99458279]),\n",
       " array([0.99318176]),\n",
       " array([0.99121871]),\n",
       " array([0.99006689]),\n",
       " array([0.98813234]),\n",
       " array([0.97525836]),\n",
       " array([0.97019363]),\n",
       " array([0.96655909]),\n",
       " array([0.96305828]),\n",
       " array([0.96058005]),\n",
       " array([0.96008003]),\n",
       " array([0.9599577]),\n",
       " array([0.95991551]),\n",
       " array([0.95987361]),\n",
       " array([0.95985643]),\n",
       " array([0.95985312]),\n",
       " array([0.95985294]),\n",
       " array([0.95985293]),\n",
       " array([0.95985292])]"
      ]
     },
     "execution_count": 19,
     "metadata": {},
     "output_type": "execute_result"
    }
   ],
   "source": [
    "T.J"
   ]
  },
  {
   "cell_type": "code",
   "execution_count": 20,
   "metadata": {},
   "outputs": [
    {
     "data": {
      "text/plain": [
       "[array([0.38313255]),\n",
       " array([0.2932036]),\n",
       " array([0.25133297]),\n",
       " array([0.24466608]),\n",
       " array([0.22158185]),\n",
       " array([0.21814117]),\n",
       " array([0.21656943]),\n",
       " array([0.21500938]),\n",
       " array([0.21497054]),\n",
       " array([0.21464054]),\n",
       " array([0.21493356]),\n",
       " array([0.21483137]),\n",
       " array([0.21503592]),\n",
       " array([0.21498582]),\n",
       " array([0.21506271]),\n",
       " array([0.21488971]),\n",
       " array([0.21435922]),\n",
       " array([0.21414183]),\n",
       " array([0.20865378]),\n",
       " array([0.20272]),\n",
       " array([0.19772078]),\n",
       " array([0.19336468]),\n",
       " array([0.18635843]),\n",
       " array([0.18292475]),\n",
       " array([0.18413568]),\n",
       " array([0.18625834]),\n",
       " array([0.19640375]),\n",
       " array([0.19262423]),\n",
       " array([0.19179801]),\n",
       " array([0.19075417]),\n",
       " array([0.18933147]),\n",
       " array([0.18925552]),\n",
       " array([0.19222824]),\n",
       " array([0.18747663]),\n",
       " array([0.18802427]),\n",
       " array([0.18828048]),\n",
       " array([0.18857814]),\n",
       " array([0.19001117]),\n",
       " array([0.19340679]),\n",
       " array([0.20755521]),\n",
       " array([0.21533991]),\n",
       " array([0.22829594]),\n",
       " array([0.22896034]),\n",
       " array([0.22897239]),\n",
       " array([0.23124162]),\n",
       " array([0.23190927]),\n",
       " array([0.23204693]),\n",
       " array([0.2318141]),\n",
       " array([0.231508]),\n",
       " array([0.23134103]),\n",
       " array([0.23133987]),\n",
       " array([0.23134425]),\n",
       " array([0.23134721])]"
      ]
     },
     "execution_count": 20,
     "metadata": {},
     "output_type": "execute_result"
    }
   ],
   "source": [
    "T.testJ"
   ]
  },
  {
   "cell_type": "code",
   "execution_count": 21,
   "metadata": {},
   "outputs": [
    {
     "data": {
      "text/plain": [
       "0.8282882737773336"
      ]
     },
     "execution_count": 21,
     "metadata": {},
     "output_type": "execute_result"
    }
   ],
   "source": [
    "from sklearn.metrics import mean_absolute_error\n",
    "mean_absolute_error(T.J, T.testJ)"
   ]
  },
  {
   "cell_type": "code",
   "execution_count": 22,
   "metadata": {},
   "outputs": [],
   "source": [
    "yHat = NN.forward(X)"
   ]
  },
  {
   "cell_type": "code",
   "execution_count": 23,
   "metadata": {},
   "outputs": [
    {
     "data": {
      "text/plain": [
       "array([[0.51084881],\n",
       "       [0.48777011],\n",
       "       [0.56549722],\n",
       "       [0.57568378],\n",
       "       [0.53916319],\n",
       "       [0.5557569 ],\n",
       "       [0.57553046],\n",
       "       [0.57421566],\n",
       "       [0.57526987],\n",
       "       [0.23469609],\n",
       "       [0.38579755],\n",
       "       [0.57613809],\n",
       "       [0.41367365],\n",
       "       [0.57398778],\n",
       "       [0.57368178],\n",
       "       [0.39735429],\n",
       "       [0.2705645 ],\n",
       "       [0.5758073 ],\n",
       "       [0.57315327],\n",
       "       [0.56873794],\n",
       "       [0.55943082],\n",
       "       [0.57553272],\n",
       "       [0.44430608],\n",
       "       [0.56259911],\n",
       "       [0.57594578],\n",
       "       [0.57279823],\n",
       "       [0.56823537],\n",
       "       [0.36918334],\n",
       "       [0.55225705],\n",
       "       [0.5755564 ],\n",
       "       [0.53896791],\n",
       "       [0.55203402],\n",
       "       [0.57471727],\n",
       "       [0.53249935],\n",
       "       [0.47722801],\n",
       "       [0.57523313],\n",
       "       [0.5720052 ],\n",
       "       [0.56513232],\n",
       "       [0.57412178],\n",
       "       [0.4715228 ],\n",
       "       [0.5067786 ],\n",
       "       [0.5697824 ],\n",
       "       [0.57483041],\n",
       "       [0.50929685],\n",
       "       [0.56407332],\n",
       "       [0.53488699],\n",
       "       [0.50255699],\n",
       "       [0.57530112],\n",
       "       [0.57426721],\n",
       "       [0.56226462],\n",
       "       [0.5463577 ],\n",
       "       [0.564972  ],\n",
       "       [0.5725198 ],\n",
       "       [0.54801701],\n",
       "       [0.57322804],\n",
       "       [0.55665234],\n",
       "       [0.52045165],\n",
       "       [0.54948029]])"
      ]
     },
     "execution_count": 23,
     "metadata": {},
     "output_type": "execute_result"
    }
   ],
   "source": [
    "yHat"
   ]
  },
  {
   "cell_type": "code",
   "execution_count": 24,
   "metadata": {},
   "outputs": [
    {
     "data": {
      "text/plain": [
       "array([[0.66901409],\n",
       "       [0.6971831 ],\n",
       "       [0.97183099],\n",
       "       [0.5915493 ],\n",
       "       [0.28169014],\n",
       "       [0.26056338],\n",
       "       [0.46478873],\n",
       "       [0.99295775],\n",
       "       [0.67605634],\n",
       "       [0.25352113],\n",
       "       [0.45070423],\n",
       "       [0.        ],\n",
       "       [0.48591549],\n",
       "       [0.78169014],\n",
       "       [0.8028169 ],\n",
       "       [0.3028169 ],\n",
       "       [0.47183099],\n",
       "       [0.41549296],\n",
       "       [0.64788732],\n",
       "       [0.61267606],\n",
       "       [1.        ],\n",
       "       [0.47887324],\n",
       "       [0.3028169 ],\n",
       "       [0.38028169],\n",
       "       [0.5915493 ],\n",
       "       [0.8028169 ],\n",
       "       [0.47183099],\n",
       "       [0.26760563],\n",
       "       [0.4084507 ],\n",
       "       [0.32394366],\n",
       "       [0.45774648],\n",
       "       [0.81690141],\n",
       "       [0.75352113],\n",
       "       [0.43661972],\n",
       "       [0.45774648],\n",
       "       [0.38732394],\n",
       "       [0.46478873],\n",
       "       [0.73239437],\n",
       "       [0.51408451],\n",
       "       [0.28169014],\n",
       "       [0.19014085],\n",
       "       [0.51408451],\n",
       "       [0.50704225],\n",
       "       [0.75352113],\n",
       "       [0.54225352],\n",
       "       [0.26056338],\n",
       "       [0.3943662 ],\n",
       "       [0.62676056],\n",
       "       [0.79577465],\n",
       "       [0.70422535],\n",
       "       [0.53521127],\n",
       "       [0.40140845],\n",
       "       [0.12676056],\n",
       "       [0.33098592],\n",
       "       [0.41549296],\n",
       "       [0.55633803],\n",
       "       [0.5915493 ],\n",
       "       [0.51408451]])"
      ]
     },
     "execution_count": 24,
     "metadata": {},
     "output_type": "execute_result"
    }
   ],
   "source": [
    "y"
   ]
  },
  {
   "cell_type": "code",
   "execution_count": 25,
   "metadata": {},
   "outputs": [
    {
     "data": {
      "text/plain": [
       "0.04107586664171412"
      ]
     },
     "execution_count": 25,
     "metadata": {},
     "output_type": "execute_result"
    }
   ],
   "source": [
    "from sklearn.metrics import mean_squared_error \n",
    "mean_squared_error(y,yHat) "
   ]
  },
  {
   "cell_type": "code",
   "execution_count": 26,
   "metadata": {},
   "outputs": [
    {
     "data": {
      "image/png": "[encoded data removed]",
      "text/plain": [
       "<Figure size 432x288 with 1 Axes>"
      ]
     },
     "metadata": {
      "needs_background": "light"
     },
     "output_type": "display_data"
    }
   ],
   "source": [
    "#Plot cost during training:\n",
    "plot.plot(y)\n",
    "plot.plot(yHat)\n",
    "plot.grid(1)\n",
    "plot.legend(['y', 'yHat'])\n",
    "plot.show()"
   ]
  },
  {
   "cell_type": "code",
   "execution_count": 27,
   "metadata": {},
   "outputs": [],
   "source": [
    "#Regularization Parameter:\n",
    "Lambda = 0.0001"
   ]
  },
  {
   "cell_type": "code",
   "execution_count": 28,
   "metadata": {},
   "outputs": [],
   "source": [
    "#Need to make changes to costFunction and costFunctionPrim:\n",
    "def costFunction(self, X, y):\n",
    "    #Compute cost for given X,y, use weights already stored in class.\n",
    "    self.yHat = self.forward(X)\n",
    "    #We don't want cost to increase with the number of examples, so normalize by dividing the error term by number of examples(X.shape[0])\n",
    "    J = 0.5*sum((y-self.yHat)**2)/X.shape[0] + (self.Lambda/2)*(sum(self.W1**2)+sum(self.W2**2))\n",
    "    return J\n",
    "\n",
    "def costFunctionPrime(self, X, y):\n",
    "    #Compute derivative with respect to W and W2 for a given X and y:\n",
    "    self.yHat = self.forward(X)\n",
    "\n",
    "    delta3 = np.multiply(-(y-self.yHat), self.tanhPrime(self.z3))\n",
    "    #Add gradient of regularization term:\n",
    "    dJdW2 = np.dot(self.a2.T, delta3)/X.shape[0] + self.Lambda*self.W2\n",
    "\n",
    "    delta2 = np.dot(delta3, self.W2.T)*self.tanhPrime(self.z2)\n",
    "    #Add gradient of regularization term:\n",
    "    dJdW1 = np.dot(X.T, delta2)/X.shape[0] + self.Lambda*self.W1\n",
    "\n",
    "    return dJdW1, dJdW2"
   ]
  },
  {
   "cell_type": "code",
   "execution_count": 29,
   "metadata": {},
   "outputs": [],
   "source": [
    "#New complete class, with changes:\n",
    "class Neural_Network(object):\n",
    "    def __init__(self, Lambda=0.0001):        \n",
    "        #Define Hyperparameters\n",
    "        self.inputLayerSize = 4\n",
    "        self.outputLayerSize = 1\n",
    "        self.hiddenLayerSize = 1\n",
    "        \n",
    "        #Weights (parameters)\n",
    "        self.W1 = np.random.randn(self.inputLayerSize,self.hiddenLayerSize)\n",
    "        self.W2 = np.random.randn(self.hiddenLayerSize,self.outputLayerSize)\n",
    "        \n",
    "        #Regularization Parameter:\n",
    "        self.Lambda = Lambda\n",
    "        \n",
    "    def forward(self, X):\n",
    "        #Propogate inputs though network\n",
    "        self.z2 = np.dot(X, self.W1)\n",
    "        self.a2 = self.tanh(self.z2)\n",
    "        self.z3 = np.dot(self.a2, self.W2)\n",
    "        yHat = self.tanh(self.z3) \n",
    "        return yHat\n",
    "        \n",
    "    def tanh(self, z):\n",
    "        # activation function\n",
    "        return (np.exp(z)-np.exp(-z))/(np.exp(z)+np.exp(-z))\n",
    "    \n",
    "    def tanhPrime(self,z): \n",
    "        #derivative of tanh\n",
    "        return 1-((np.exp(z)-np.exp(-z))/(np.exp(z)+np.exp(-z)))**2\n",
    "    \n",
    "    def costFunction(self, X, y):\n",
    "        #Compute cost for given X,y, use weights already stored in class.\n",
    "        self.yHat = self.forward(X)\n",
    "        J = 0.5*sum((y-self.yHat)**2)/X.shape[0] + (self.Lambda/2)*(np.sum(self.W1**2)+np.sum(self.W2**2))\n",
    "        return J\n",
    "        \n",
    "    def costFunctionPrime(self, X, y):\n",
    "        #Compute derivative with respect to W and W2 for a given X and y:\n",
    "        self.yHat = self.forward(X)\n",
    "        \n",
    "        delta3 = np.multiply(-(y-self.yHat), self.tanhPrime(self.z3))\n",
    "        #Add gradient of regularization term:\n",
    "        dJdW2 = np.dot(self.a2.T, delta3)/X.shape[0] + self.Lambda*self.W2\n",
    "        \n",
    "        delta2 = np.dot(delta3, self.W2.T)*self.tanhPrime(self.z2)\n",
    "        #Add gradient of regularization term:\n",
    "        dJdW1 = np.dot(X.T, delta2)/X.shape[0] + self.Lambda*self.W1\n",
    "        \n",
    "        return dJdW1, dJdW2\n",
    "    \n",
    "    def predict(self):\n",
    "        prediksi = self.forward(dataprediksi)\n",
    "        return prediksi\n",
    "    \n",
    "    #Helper functions for interacting with other methods/classes\n",
    "    def getParams(self):\n",
    "        #Get W1 and W2 Rolled into vector:\n",
    "        params = np.concatenate((self.W1.ravel(), self.W2.ravel()))\n",
    "        return params\n",
    "    \n",
    "    def setParams(self, params):\n",
    "        #Set W1 and W2 using single parameter vector:\n",
    "        W1_start = 0\n",
    "        W1_end = self.hiddenLayerSize*self.inputLayerSize\n",
    "        self.W1 = np.reshape(params[W1_start:W1_end], \\\n",
    "                             (self.inputLayerSize, self.hiddenLayerSize))\n",
    "        W2_end = W1_end + self.hiddenLayerSize*self.outputLayerSize\n",
    "        self.W2 = np.reshape(params[W1_end:W2_end], \\\n",
    "                             (self.hiddenLayerSize, self.outputLayerSize))\n",
    "        \n",
    "    def computeGradients(self, X, y):\n",
    "        dJdW1, dJdW2 = self.costFunctionPrime(X, y)\n",
    "        return np.concatenate((dJdW1.ravel(), dJdW2.ravel()))"
   ]
  },
  {
   "cell_type": "code",
   "execution_count": 30,
   "metadata": {},
   "outputs": [],
   "source": [
    "def computeNumericalGradient(N, X, y):\n",
    "    paramsInitial = N.getParams()\n",
    "    numgrad = np.zeros(paramsInitial.shape)\n",
    "    perturb = np.zeros(paramsInitial.shape)\n",
    "    e = 1e-4\n",
    "\n",
    "    for p in range(len(paramsInitial)):\n",
    "        #Set perturbation vector\n",
    "        perturb[p] = e\n",
    "        N.setParams(paramsInitial + perturb)\n",
    "        loss2 = N.costFunction(X, y)\n",
    "            \n",
    "        N.setParams(paramsInitial - perturb)\n",
    "        loss1 = N.costFunction(X, y)\n",
    "\n",
    "        #Compute Numerical Gradient\n",
    "        numgrad[p] = (loss2 - loss1) / (2*e)\n",
    "\n",
    "            #Return the value we changed to zero:\n",
    "        perturb[p] = 0\n",
    "            \n",
    "    #Return Params to original value:\n",
    "    N.setParams(paramsInitial)\n",
    "\n",
    "    return numgrad "
   ]
  },
  {
   "cell_type": "code",
   "execution_count": 31,
   "metadata": {},
   "outputs": [],
   "source": [
    "NN = Neural_Network(Lambda=0.0001)"
   ]
  },
  {
   "cell_type": "code",
   "execution_count": 32,
   "metadata": {},
   "outputs": [],
   "source": [
    "#Make sure our gradients our correct after making changes:\n",
    "numgrad = computeNumericalGradient(NN, X, y)\n",
    "grad = NN.computeGradients(X,y)"
   ]
  },
  {
   "cell_type": "code",
   "execution_count": 33,
   "metadata": {},
   "outputs": [
    {
     "data": {
      "text/plain": [
       "5.696440232511989e-10"
      ]
     },
     "execution_count": 33,
     "metadata": {},
     "output_type": "execute_result"
    }
   ],
   "source": [
    "#Should be less than 1e-8:\n",
    "np.linalg.norm(grad-numgrad)/np.linalg.norm(grad+numgrad)"
   ]
  },
  {
   "cell_type": "code",
   "execution_count": 34,
   "metadata": {},
   "outputs": [],
   "source": [
    "T = trainer(NN)"
   ]
  },
  {
   "cell_type": "code",
   "execution_count": 35,
   "metadata": {},
   "outputs": [
    {
     "name": "stdout",
     "output_type": "stream",
     "text": [
      "Optimization terminated successfully.\n",
      "         Current function value: 0.020576\n",
      "         Iterations: 81\n",
      "         Function evaluations: 99\n",
      "         Gradient evaluations: 99\n"
     ]
    }
   ],
   "source": [
    "T.train(X,y,testX,testY)"
   ]
  },
  {
   "cell_type": "code",
   "execution_count": 36,
   "metadata": {},
   "outputs": [
    {
     "data": {
      "image/png": "[encoded data removed]",
      "text/plain": [
       "<Figure size 432x288 with 1 Axes>"
      ]
     },
     "metadata": {
      "needs_background": "light"
     },
     "output_type": "display_data"
    }
   ],
   "source": [
    "plot.plot(T.J)\n",
    "plot.plot(T.testJ)\n",
    "plot.grid(1)\n",
    "plot.xlabel('Iterations')\n",
    "plot.ylabel('Cost')\n",
    "plot.legend(['Training', 'Testing'])\n",
    "plot.show()"
   ]
  },
  {
   "cell_type": "code",
   "execution_count": 37,
   "metadata": {},
   "outputs": [
    {
     "data": {
      "text/plain": [
       "[array([0.28008492]),\n",
       " array([0.19785992]),\n",
       " array([0.1383896]),\n",
       " array([0.0624977]),\n",
       " array([0.04627123]),\n",
       " array([0.04210542]),\n",
       " array([0.03516297]),\n",
       " array([0.02988212]),\n",
       " array([0.0271173]),\n",
       " array([0.02559065]),\n",
       " array([0.02462114]),\n",
       " array([0.02404428]),\n",
       " array([0.02363415]),\n",
       " array([0.0233568]),\n",
       " array([0.02315505]),\n",
       " array([0.02308315]),\n",
       " array([0.02303695]),\n",
       " array([0.02302914]),\n",
       " array([0.02302846]),\n",
       " array([0.02302844]),\n",
       " array([0.0230284]),\n",
       " array([0.02302833]),\n",
       " array([0.02302819]),\n",
       " array([0.02302795]),\n",
       " array([0.02302748]),\n",
       " array([0.02302662]),\n",
       " array([0.02302506]),\n",
       " array([0.02302232]),\n",
       " array([0.02301761]),\n",
       " array([0.0230096]),\n",
       " array([0.02299547]),\n",
       " array([0.02292907]),\n",
       " array([0.02291562]),\n",
       " array([0.02289042]),\n",
       " array([0.02284295]),\n",
       " array([0.02276198]),\n",
       " array([0.02271472]),\n",
       " array([0.0227088]),\n",
       " array([0.02270726]),\n",
       " array([0.02270518]),\n",
       " array([0.02270264]),\n",
       " array([0.02269798]),\n",
       " array([0.02268912]),\n",
       " array([0.02260964]),\n",
       " array([0.02251247]),\n",
       " array([0.02245979]),\n",
       " array([0.02236143]),\n",
       " array([0.02217665]),\n",
       " array([0.02186074]),\n",
       " array([0.02169418]),\n",
       " array([0.02159239]),\n",
       " array([0.02153276]),\n",
       " array([0.02143866]),\n",
       " array([0.02128775]),\n",
       " array([0.02110606]),\n",
       " array([0.02100688]),\n",
       " array([0.02091984]),\n",
       " array([0.02091053]),\n",
       " array([0.0209093]),\n",
       " array([0.02090918]),\n",
       " array([0.02090901]),\n",
       " array([0.02090872]),\n",
       " array([0.02090818]),\n",
       " array([0.02090717]),\n",
       " array([0.0209053]),\n",
       " array([0.02090186]),\n",
       " array([0.02089561]),\n",
       " array([0.02088424]),\n",
       " array([0.02072556]),\n",
       " array([0.0207193]),\n",
       " array([0.02066478]),\n",
       " array([0.02058925]),\n",
       " array([0.02057664]),\n",
       " array([0.02057633]),\n",
       " array([0.02057629]),\n",
       " array([0.02057622]),\n",
       " array([0.02057611]),\n",
       " array([0.02057594]),\n",
       " array([0.02057583]),\n",
       " array([0.02057579]),\n",
       " array([0.02057579])]"
      ]
     },
     "execution_count": 37,
     "metadata": {},
     "output_type": "execute_result"
    }
   ],
   "source": [
    "T.J"
   ]
  },
  {
   "cell_type": "code",
   "execution_count": 38,
   "metadata": {},
   "outputs": [
    {
     "data": {
      "text/plain": [
       "[array([0.25276208]),\n",
       " array([0.16927906]),\n",
       " array([0.11640705]),\n",
       " array([0.04408085]),\n",
       " array([0.03110365]),\n",
       " array([0.02839709]),\n",
       " array([0.0231571]),\n",
       " array([0.019084]),\n",
       " array([0.01785695]),\n",
       " array([0.01714014]),\n",
       " array([0.01647119]),\n",
       " array([0.01635107]),\n",
       " array([0.01637802]),\n",
       " array([0.01635257]),\n",
       " array([0.01660566]),\n",
       " array([0.01643639]),\n",
       " array([0.01666236]),\n",
       " array([0.01673386]),\n",
       " array([0.01674976]),\n",
       " array([0.01675282]),\n",
       " array([0.01675549]),\n",
       " array([0.01675809]),\n",
       " array([0.01676099]),\n",
       " array([0.01676457]),\n",
       " array([0.01676925]),\n",
       " array([0.01677556]),\n",
       " array([0.01678408]),\n",
       " array([0.01679518]),\n",
       " array([0.01680835]),\n",
       " array([0.01682029]),\n",
       " array([0.01682125]),\n",
       " array([0.01661825]),\n",
       " array([0.01645975]),\n",
       " array([0.01631407]),\n",
       " array([0.01609669]),\n",
       " array([0.0157329]),\n",
       " array([0.01550778]),\n",
       " array([0.01548378]),\n",
       " array([0.01548866]),\n",
       " array([0.01550024]),\n",
       " array([0.0154976]),\n",
       " array([0.01549541]),\n",
       " array([0.01546614]),\n",
       " array([0.01520953]),\n",
       " array([0.01477229]),\n",
       " array([0.01474545]),\n",
       " array([0.01482809]),\n",
       " array([0.01485828]),\n",
       " array([0.01486424]),\n",
       " array([0.01454052]),\n",
       " array([0.01474499]),\n",
       " array([0.01456086]),\n",
       " array([0.01437587]),\n",
       " array([0.0140932]),\n",
       " array([0.01373973]),\n",
       " array([0.01371755]),\n",
       " array([0.01381699]),\n",
       " array([0.0139238]),\n",
       " array([0.01393581]),\n",
       " array([0.0139436]),\n",
       " array([0.01395035]),\n",
       " array([0.01395657]),\n",
       " array([0.0139628]),\n",
       " array([0.01396939]),\n",
       " array([0.01397621]),\n",
       " array([0.01398203]),\n",
       " array([0.01398274]),\n",
       " array([0.01396613]),\n",
       " array([0.01307402]),\n",
       " array([0.01292752]),\n",
       " array([0.01296103]),\n",
       " array([0.01297466]),\n",
       " array([0.01308494]),\n",
       " array([0.0130698]),\n",
       " array([0.01307227]),\n",
       " array([0.01307823]),\n",
       " array([0.01308726]),\n",
       " array([0.01310144]),\n",
       " array([0.01311154]),\n",
       " array([0.01311162]),\n",
       " array([0.01310904])]"
      ]
     },
     "execution_count": 38,
     "metadata": {},
     "output_type": "execute_result"
    }
   ],
   "source": [
    "T.testJ"
   ]
  },
  {
   "cell_type": "code",
   "execution_count": 39,
   "metadata": {},
   "outputs": [
    {
     "data": {
      "text/plain": [
       "0.008180961720723098"
      ]
     },
     "execution_count": 39,
     "metadata": {},
     "output_type": "execute_result"
    }
   ],
   "source": [
    "from sklearn.metrics import mean_absolute_error\n",
    "mean_absolute_error(T.J, T.testJ)"
   ]
  },
  {
   "cell_type": "code",
   "execution_count": 40,
   "metadata": {},
   "outputs": [],
   "source": [
    "yHat=NN.forward(X)"
   ]
  },
  {
   "cell_type": "code",
   "execution_count": 41,
   "metadata": {},
   "outputs": [
    {
     "data": {
      "text/plain": [
       "array([[0.52836361],\n",
       "       [0.51742771],\n",
       "       [0.57372487],\n",
       "       [0.62486079],\n",
       "       [0.54185615],\n",
       "       [0.39091994],\n",
       "       [0.53671621],\n",
       "       [0.56690184],\n",
       "       [0.6254659 ],\n",
       "       [0.5106219 ],\n",
       "       [0.22048173],\n",
       "       [0.59447242],\n",
       "       [0.21770209],\n",
       "       [0.53528978],\n",
       "       [0.61478091],\n",
       "       [0.53843859],\n",
       "       [0.29021536],\n",
       "       [0.56944503],\n",
       "       [0.56353766],\n",
       "       [0.56409262],\n",
       "       [0.56092215],\n",
       "       [0.62341492],\n",
       "       [0.48383842],\n",
       "       [0.39765978],\n",
       "       [0.58289222],\n",
       "       [0.57942143],\n",
       "       [0.59542658],\n",
       "       [0.4332307 ],\n",
       "       [0.38374191],\n",
       "       [0.56959665],\n",
       "       [0.45842197],\n",
       "       [0.4870753 ],\n",
       "       [0.61202736],\n",
       "       [0.56963161],\n",
       "       [0.4172754 ],\n",
       "       [0.56182399],\n",
       "       [0.54015984],\n",
       "       [0.51884518],\n",
       "       [0.60071891],\n",
       "       [0.48763634],\n",
       "       [0.34217693],\n",
       "       [0.44302168],\n",
       "       [0.57620532],\n",
       "       [0.50869272],\n",
       "       [0.57232145],\n",
       "       [0.525767  ],\n",
       "       [0.32926693],\n",
       "       [0.55551527],\n",
       "       [0.59441663],\n",
       "       [0.58773554],\n",
       "       [0.55813298],\n",
       "       [0.53237855],\n",
       "       [0.53028874],\n",
       "       [0.34832642],\n",
       "       [0.50975506],\n",
       "       [0.51636193],\n",
       "       [0.50101247],\n",
       "       [0.53855984]])"
      ]
     },
     "execution_count": 41,
     "metadata": {},
     "output_type": "execute_result"
    }
   ],
   "source": [
    "yHat"
   ]
  },
  {
   "cell_type": "code",
   "execution_count": 42,
   "metadata": {},
   "outputs": [
    {
     "data": {
      "text/plain": [
       "array([[0.66901409],\n",
       "       [0.6971831 ],\n",
       "       [0.97183099],\n",
       "       [0.5915493 ],\n",
       "       [0.28169014],\n",
       "       [0.26056338],\n",
       "       [0.46478873],\n",
       "       [0.99295775],\n",
       "       [0.67605634],\n",
       "       [0.25352113],\n",
       "       [0.45070423],\n",
       "       [0.        ],\n",
       "       [0.48591549],\n",
       "       [0.78169014],\n",
       "       [0.8028169 ],\n",
       "       [0.3028169 ],\n",
       "       [0.47183099],\n",
       "       [0.41549296],\n",
       "       [0.64788732],\n",
       "       [0.61267606],\n",
       "       [1.        ],\n",
       "       [0.47887324],\n",
       "       [0.3028169 ],\n",
       "       [0.38028169],\n",
       "       [0.5915493 ],\n",
       "       [0.8028169 ],\n",
       "       [0.47183099],\n",
       "       [0.26760563],\n",
       "       [0.4084507 ],\n",
       "       [0.32394366],\n",
       "       [0.45774648],\n",
       "       [0.81690141],\n",
       "       [0.75352113],\n",
       "       [0.43661972],\n",
       "       [0.45774648],\n",
       "       [0.38732394],\n",
       "       [0.46478873],\n",
       "       [0.73239437],\n",
       "       [0.51408451],\n",
       "       [0.28169014],\n",
       "       [0.19014085],\n",
       "       [0.51408451],\n",
       "       [0.50704225],\n",
       "       [0.75352113],\n",
       "       [0.54225352],\n",
       "       [0.26056338],\n",
       "       [0.3943662 ],\n",
       "       [0.62676056],\n",
       "       [0.79577465],\n",
       "       [0.70422535],\n",
       "       [0.53521127],\n",
       "       [0.40140845],\n",
       "       [0.12676056],\n",
       "       [0.33098592],\n",
       "       [0.41549296],\n",
       "       [0.55633803],\n",
       "       [0.5915493 ],\n",
       "       [0.51408451]])"
      ]
     },
     "execution_count": 42,
     "metadata": {},
     "output_type": "execute_result"
    }
   ],
   "source": [
    "y"
   ]
  },
  {
   "cell_type": "code",
   "execution_count": 43,
   "metadata": {},
   "outputs": [
    {
     "data": {
      "image/png": "[encoded data removed]",
      "text/plain": [
       "<Figure size 432x288 with 1 Axes>"
      ]
     },
     "metadata": {
      "needs_background": "light"
     },
     "output_type": "display_data"
    }
   ],
   "source": [
    "#Plot cost during training:\n",
    "plot.plot(y)\n",
    "plot.plot(yHat)\n",
    "plot.grid(1)\n",
    "plot.legend(['y', 'yHat'])\n",
    "plot.show()"
   ]
  },
  {
   "cell_type": "code",
   "execution_count": 44,
   "metadata": {},
   "outputs": [],
   "source": [
    "prediksi=NN.forward(dataprediksi)"
   ]
  },
  {
   "cell_type": "code",
   "execution_count": 45,
   "metadata": {},
   "outputs": [
    {
     "data": {
      "text/plain": [
       "array([[0.50680325],\n",
       "       [0.47799444],\n",
       "       [0.50314992],\n",
       "       [0.49188368]])"
      ]
     },
     "execution_count": 45,
     "metadata": {},
     "output_type": "execute_result"
    }
   ],
   "source": [
    "prediksi"
   ]
  },
  {
   "cell_type": "code",
   "execution_count": 46,
   "metadata": {},
   "outputs": [],
   "source": [
    "from sklearn.metrics import mean_squared_error "
   ]
  },
  {
   "cell_type": "code",
   "execution_count": 47,
   "metadata": {},
   "outputs": [
    {
     "data": {
      "text/plain": [
       "0.011582575586581082"
      ]
     },
     "execution_count": 47,
     "metadata": {},
     "output_type": "execute_result"
    }
   ],
   "source": [
    "Y_true= ([\t0.387323944\t]\t,\n",
    "[\t0.373239437\t]\t,\n",
    "[\t0.366197183\t]\t,\n",
    "[\t0.443661972\t]\t,\n",
    ")\n",
    "\n",
    "\n",
    "Y_pred=prediksi\n",
    "mean_squared_error(Y_true,Y_pred) "
   ]
  },
  {
   "cell_type": "code",
   "execution_count": 48,
   "metadata": {},
   "outputs": [
    {
     "data": {
      "text/plain": [
       "array([[0.41549296, 0.55633803, 0.5915493 , 0.51408451],\n",
       "       [0.55633803, 0.5915493 , 0.51408451, 0.38732394],\n",
       "       [0.5915493 , 0.51408451, 0.38732394, 0.37323944],\n",
       "       [0.51408451, 0.38732394, 0.37323944, 0.36619718]])"
      ]
     },
     "execution_count": 48,
     "metadata": {},
     "output_type": "execute_result"
    }
   ],
   "source": [
    "dataprediksi"
   ]
  },
  {
   "cell_type": "code",
   "execution_count": 49,
   "metadata": {},
   "outputs": [],
   "source": [
    "a=np.array([\t0.387323944\t,\t0.373239437\t,\t0.366197183\t,\t0.443661972\t])"
   ]
  },
  {
   "cell_type": "code",
   "execution_count": 50,
   "metadata": {},
   "outputs": [
    {
     "data": {
      "text/plain": [
       "array([0.50573167])"
      ]
     },
     "execution_count": 50,
     "metadata": {},
     "output_type": "execute_result"
    }
   ],
   "source": [
    "#prediksi 1\n",
    "prediksi=NN.forward(a)\n",
    "prediksi"
   ]
  },
  {
   "cell_type": "code",
   "execution_count": 51,
   "metadata": {},
   "outputs": [
    {
     "data": {
      "text/plain": [
       "array([0.52438164])"
      ]
     },
     "execution_count": 51,
     "metadata": {},
     "output_type": "execute_result"
    }
   ],
   "source": [
    "#prediksi 2\n",
    "c=prediksi\n",
    "b=a[1:]\n",
    "d=np.concatenate((b,c))\n",
    "prediksi=NN.forward(d)\n",
    "prediksi"
   ]
  },
  {
   "cell_type": "code",
   "execution_count": 52,
   "metadata": {},
   "outputs": [
    {
     "data": {
      "text/plain": [
       "array([0.51945517])"
      ]
     },
     "execution_count": 52,
     "metadata": {},
     "output_type": "execute_result"
    }
   ],
   "source": [
    "#prediksi 3\n",
    "c=prediksi\n",
    "b=d[1:]\n",
    "e=np.concatenate((b,c))\n",
    "prediksi=NN.forward(e)\n",
    "prediksi"
   ]
  },
  {
   "cell_type": "code",
   "execution_count": 53,
   "metadata": {},
   "outputs": [
    {
     "data": {
      "text/plain": [
       "array([0.52696317])"
      ]
     },
     "execution_count": 53,
     "metadata": {},
     "output_type": "execute_result"
    }
   ],
   "source": [
    "#prediksi 4\n",
    "c=prediksi\n",
    "b=e[1:]\n",
    "f=np.concatenate((b,c))\n",
    "prediksi=NN.forward(f)\n",
    "prediksi"
   ]
  },
  {
   "cell_type": "code",
   "execution_count": 54,
   "metadata": {},
   "outputs": [
    {
     "data": {
      "text/plain": [
       "array([0.54125654])"
      ]
     },
     "execution_count": 54,
     "metadata": {},
     "output_type": "execute_result"
    }
   ],
   "source": [
    "#prediksi 5\n",
    "c=prediksi\n",
    "b=f[1:]\n",
    "g=np.concatenate((b,c))\n",
    "prediksi=NN.forward(g)\n",
    "prediksi"
   ]
  },
  {
   "cell_type": "code",
   "execution_count": 55,
   "metadata": {},
   "outputs": [
    {
     "data": {
      "text/plain": [
       "array([0.54948299])"
      ]
     },
     "execution_count": 55,
     "metadata": {},
     "output_type": "execute_result"
    }
   ],
   "source": [
    "#prediksi 6\n",
    "c=prediksi\n",
    "b=g[1:]\n",
    "h=np.concatenate((b,c))\n",
    "prediksi=NN.forward(h)\n",
    "prediksi"
   ]
  },
  {
   "cell_type": "code",
   "execution_count": null,
   "metadata": {},
   "outputs": [],
   "source": []
  }
 ],
 "metadata": {
  "kernelspec": {
   "display_name": "Python 3",
   "language": "python",
   "name": "python3"
  },
  "language_info": {
   "codemirror_mode": {
    "name": "ipython",
    "version": 3
   },
   "file_extension": ".py",
   "mimetype": "text/x-python",
   "name": "python",
   "nbconvert_exporter": "python",
   "pygments_lexer": "ipython3",
   "version": "3.7.3"
  }
 },
 "nbformat": 4,
 "nbformat_minor": 2
}
