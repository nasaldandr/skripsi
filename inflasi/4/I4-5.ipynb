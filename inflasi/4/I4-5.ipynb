{
 "cells": [
  {
   "cell_type": "code",
   "execution_count": 1,
   "metadata": {},
   "outputs": [],
   "source": [
    "import numpy as np"
   ]
  },
  {
   "cell_type": "code",
   "execution_count": 2,
   "metadata": {},
   "outputs": [],
   "source": [
    "#UNTUK NILAI IMPOR\n",
    "class Neural_Network(object):\n",
    "    def __init__(self):\n",
    "        #parameters\n",
    "        self.inputLayerSize = 4\n",
    "        self.outputLayerSize = 1\n",
    "        self.hiddenLayerSize = 5\n",
    "\n",
    "        #weights\n",
    "        self.W1 = np.random.randn(self.inputLayerSize,\\\n",
    "                                 self.hiddenLayerSize)  \n",
    "        self.W2 = np.random.randn(self.hiddenLayerSize,\\\n",
    "                                 self.outputLayerSize)  \n",
    "    \n",
    "    def printw(self):\n",
    "        return self.W1\n",
    "        \n",
    "    def weight(self, W1, W2):\n",
    "        #Make an internal variable for the weight:\n",
    "        self.W1 = W1\n",
    "        self.W2 = W2\n",
    "        \n",
    "    def forward(self, X):\n",
    "        #forward propagation through our network\n",
    "        self.z2 = np.dot(X,self.W1)  \n",
    "        self.a2 = self.tanh(self.z2)  # activation function\n",
    "        self.z3 = np.dot(self.a2, self.W2) \n",
    "        yHat = self.tanh(self.z3)  # final activation function\n",
    "        return yHat\n",
    "\n",
    "    def tanh(self, z):\n",
    "        # activation function\n",
    "        return (np.exp(z)-np.exp(-z))/(np.exp(z)+np.exp(-z))\n",
    "    \n",
    "    def tanhPrime(self,z): \n",
    "        #derivative of tanh\n",
    "        return 1-((np.exp(z)-np.exp(-z))/(np.exp(z)+np.exp(-z)))**2\n",
    "    \n",
    "    def costFunction(self,X,y):\n",
    "        self.yHat = self.forward(X)\n",
    "        J=0.5*sum((y-self.yHat)**2)\n",
    "        return J\n",
    "    \n",
    "    def costFunctionPrime(self,X,y):\n",
    "        self.yHat=self.forward(X)\n",
    "        \n",
    "        delta3=np.multiply(-(y-self.yHat),self.tanhPrime(self.z3))\n",
    "        dJdW2=np.dot(self.a2.T,delta3)\n",
    "        \n",
    "        delta2=np.dot(delta3,self.W2.T)*self.tanhPrime(self.z2)\n",
    "        dJdW1=np.dot(X.T,delta2)\n",
    "        return dJdW1,dJdW2\n",
    "    \n",
    "    def predict(self):\n",
    "        prediksi = self.forward(dataprediksi)\n",
    "        return prediksi\n",
    "    \n",
    "    def getParams(self):\n",
    "        params=np.concatenate((self.W1.ravel(),self.W2.ravel()))\n",
    "        return params\n",
    "    \n",
    "    def setParams(self,params):\n",
    "        W1_start=0\n",
    "        W1_end=self.hiddenLayerSize*self.inputLayerSize\n",
    "        self.W1=np.reshape(params[W1_start:W1_end],\\\n",
    "                          (self.inputLayerSize,self.hiddenLayerSize))\n",
    "        W2_end=W1_end+self.hiddenLayerSize*self.outputLayerSize\n",
    "        self.W2=np.reshape(params[W1_end:W2_end],\\\n",
    "                          (self.hiddenLayerSize,self.outputLayerSize))\n",
    "        \n",
    "    def computeGradients(self, X, y):\n",
    "        dJdW1, dJdW2 = self.costFunctionPrime(X, y)\n",
    "        return np.concatenate((dJdW1.ravel(), dJdW2.ravel()))"
   ]
  },
  {
   "cell_type": "code",
   "execution_count": 3,
   "metadata": {},
   "outputs": [],
   "source": [
    "NN = Neural_Network()"
   ]
  },
  {
   "cell_type": "code",
   "execution_count": 4,
   "metadata": {},
   "outputs": [
    {
     "data": {
      "text/plain": [
       "array([[ 0.50562802, -1.00208211, -0.54460537,  0.97871446, -1.51834221],\n",
       "       [-1.84765157,  0.72041561, -1.59300614, -0.83643603, -0.30362674],\n",
       "       [-0.04062947, -1.23412731,  0.04064246,  0.11309235, -0.04437761],\n",
       "       [ 0.13795165,  0.37137707, -0.4356184 ,  0.69779187, -0.57023323]])"
      ]
     },
     "execution_count": 4,
     "metadata": {},
     "output_type": "execute_result"
    }
   ],
   "source": [
    "NN.W1"
   ]
  },
  {
   "cell_type": "code",
   "execution_count": 5,
   "metadata": {},
   "outputs": [
    {
     "data": {
      "text/plain": [
       "array([[-0.58057974],\n",
       "       [ 0.66086819],\n",
       "       [ 0.05262763],\n",
       "       [-0.49449779],\n",
       "       [ 0.32929645]])"
      ]
     },
     "execution_count": 5,
     "metadata": {},
     "output_type": "execute_result"
    }
   ],
   "source": [
    "NN.W2"
   ]
  },
  {
   "cell_type": "code",
   "execution_count": 6,
   "metadata": {},
   "outputs": [],
   "source": [
    "#NILAI IMPOR\n",
    "X=np.array(([\t0.147887324\t,\t0.063380282\t,\t0.436619718\t,\t0.570422535\t]\t,\n",
    "[\t0.063380282\t,\t0.436619718\t,\t0.570422535\t,\t0.669014085\t]\t,\n",
    "[\t0.436619718\t,\t0.570422535\t,\t0.669014085\t,\t0.697183099\t]\t,\n",
    "[\t0.570422535\t,\t0.669014085\t,\t0.697183099\t,\t0.971830986\t]\t,\n",
    "[\t0.669014085\t,\t0.697183099\t,\t0.971830986\t,\t0.591549296\t]\t,\n",
    "[\t0.697183099\t,\t0.971830986\t,\t0.591549296\t,\t0.281690141\t]\t,\n",
    "[\t0.971830986\t,\t0.591549296\t,\t0.281690141\t,\t0.26056338\t]\t,\n",
    "[\t0.591549296\t,\t0.281690141\t,\t0.26056338\t,\t0.464788732\t]\t,\n",
    "[\t0.281690141\t,\t0.26056338\t,\t0.464788732\t,\t0.992957746\t]\t,\n",
    "[\t0.26056338\t,\t0.464788732\t,\t0.992957746\t,\t0.676056338\t]\t,\n",
    "[\t0.464788732\t,\t0.992957746\t,\t0.676056338\t,\t0.253521127\t]\t,\n",
    "[\t0.992957746\t,\t0.676056338\t,\t0.253521127\t,\t0.450704225\t]\t,\n",
    "[\t0.676056338\t,\t0.253521127\t,\t0.450704225\t,\t0\t]\t,\n",
    "[\t0.253521127\t,\t0.450704225\t,\t0\t,\t0.485915493\t]\t,\n",
    "[\t0.450704225\t,\t0\t,\t0.485915493\t,\t0.781690141\t]\t,\n",
    "[\t0\t,\t0.485915493\t,\t0.781690141\t,\t0.802816901\t]\t,\n",
    "[\t0.485915493\t,\t0.781690141\t,\t0.802816901\t,\t0.302816901\t]\t,\n",
    "[\t0.781690141\t,\t0.802816901\t,\t0.302816901\t,\t0.471830986\t]\t,\n",
    "[\t0.802816901\t,\t0.302816901\t,\t0.471830986\t,\t0.415492958\t]\t,\n",
    "[\t0.302816901\t,\t0.471830986\t,\t0.415492958\t,\t0.647887324\t]\t,\n",
    "[\t0.471830986\t,\t0.415492958\t,\t0.647887324\t,\t0.612676056\t]\t,\n",
    "[\t0.415492958\t,\t0.647887324\t,\t0.612676056\t,\t1\t]\t,\n",
    "[\t0.647887324\t,\t0.612676056\t,\t1\t,\t0.478873239\t]\t,\n",
    "[\t0.612676056\t,\t1\t,\t0.478873239\t,\t0.302816901\t]\t,\n",
    "[\t1\t,\t0.478873239\t,\t0.302816901\t,\t0.38028169\t]\t,\n",
    "[\t0.478873239\t,\t0.302816901\t,\t0.38028169\t,\t0.591549296\t]\t,\n",
    "[\t0.302816901\t,\t0.38028169\t,\t0.591549296\t,\t0.802816901\t]\t,\n",
    "[\t0.38028169\t,\t0.591549296\t,\t0.802816901\t,\t0.471830986\t]\t,\n",
    "[\t0.591549296\t,\t0.802816901\t,\t0.471830986\t,\t0.267605634\t]\t,\n",
    "[\t0.802816901\t,\t0.471830986\t,\t0.267605634\t,\t0.408450704\t]\t,\n",
    "[\t0.471830986\t,\t0.267605634\t,\t0.408450704\t,\t0.323943662\t]\t,\n",
    "[\t0.267605634\t,\t0.408450704\t,\t0.323943662\t,\t0.457746479\t]\t,\n",
    "[\t0.408450704\t,\t0.323943662\t,\t0.457746479\t,\t0.816901408\t]\t,\n",
    "[\t0.323943662\t,\t0.457746479\t,\t0.816901408\t,\t0.753521127\t]\t,\n",
    "[\t0.457746479\t,\t0.816901408\t,\t0.753521127\t,\t0.436619718\t]\t,\n",
    "[\t0.816901408\t,\t0.753521127\t,\t0.436619718\t,\t0.457746479\t]\t,\n",
    "[\t0.753521127\t,\t0.436619718\t,\t0.457746479\t,\t0.387323944\t]\t,\n",
    "[\t0.436619718\t,\t0.457746479\t,\t0.387323944\t,\t0.464788732\t]\t,\n",
    "[\t0.457746479\t,\t0.387323944\t,\t0.464788732\t,\t0.732394366\t]\t,\n",
    "[\t0.387323944\t,\t0.464788732\t,\t0.732394366\t,\t0.514084507\t]\t,\n",
    "[\t0.464788732\t,\t0.732394366\t,\t0.514084507\t,\t0.281690141\t]\t,\n",
    "[\t0.732394366\t,\t0.514084507\t,\t0.281690141\t,\t0.190140845\t]\t,\n",
    "[\t0.514084507\t,\t0.281690141\t,\t0.190140845\t,\t0.514084507\t]\t,\n",
    "[\t0.281690141\t,\t0.190140845\t,\t0.514084507\t,\t0.507042254\t]\t,\n",
    "[\t0.190140845\t,\t0.514084507\t,\t0.507042254\t,\t0.753521127\t]\t,\n",
    "[\t0.514084507\t,\t0.507042254\t,\t0.753521127\t,\t0.542253521\t]\t,\n",
    "[\t0.507042254\t,\t0.753521127\t,\t0.542253521\t,\t0.26056338\t]\t,\n",
    "[\t0.753521127\t,\t0.542253521\t,\t0.26056338\t,\t0.394366197\t]\t,\n",
    "[\t0.542253521\t,\t0.26056338\t,\t0.394366197\t,\t0.626760563\t]\t,\n",
    "[\t0.26056338\t,\t0.394366197\t,\t0.626760563\t,\t0.795774648\t]\t,\n",
    "[\t0.394366197\t,\t0.626760563\t,\t0.795774648\t,\t0.704225352\t]\t,\n",
    "[\t0.626760563\t,\t0.795774648\t,\t0.704225352\t,\t0.535211268\t]\t,\n",
    "[\t0.795774648\t,\t0.704225352\t,\t0.535211268\t,\t0.401408451\t]\t,\n",
    "[\t0.704225352\t,\t0.535211268\t,\t0.401408451\t,\t0.126760563\t]\t,\n",
    "[\t0.535211268\t,\t0.401408451\t,\t0.126760563\t,\t0.330985915\t]\t,\n",
    "[\t0.401408451\t,\t0.126760563\t,\t0.330985915\t,\t0.415492958\t]\t,\n",
    "[\t0.126760563\t,\t0.330985915\t,\t0.415492958\t,\t0.556338028\t]\t,\n",
    "[\t0.330985915\t,\t0.415492958\t,\t0.556338028\t,\t0.591549296\t]\t,\n",
    "\n",
    ")           \n",
    ",dtype=float)\n",
    "y=np.array(([\t0.669014085\t]\t,\n",
    "[\t0.697183099\t]\t,\n",
    "[\t0.971830986\t]\t,\n",
    "[\t0.591549296\t]\t,\n",
    "[\t0.281690141\t]\t,\n",
    "[\t0.26056338\t]\t,\n",
    "[\t0.464788732\t]\t,\n",
    "[\t0.992957746\t]\t,\n",
    "[\t0.676056338\t]\t,\n",
    "[\t0.253521127\t]\t,\n",
    "[\t0.450704225\t]\t,\n",
    "[\t0\t]\t,\n",
    "[\t0.485915493\t]\t,\n",
    "[\t0.781690141\t]\t,\n",
    "[\t0.802816901\t]\t,\n",
    "[\t0.302816901\t]\t,\n",
    "[\t0.471830986\t]\t,\n",
    "[\t0.415492958\t]\t,\n",
    "[\t0.647887324\t]\t,\n",
    "[\t0.612676056\t]\t,\n",
    "[\t1\t]\t,\n",
    "[\t0.478873239\t]\t,\n",
    "[\t0.302816901\t]\t,\n",
    "[\t0.38028169\t]\t,\n",
    "[\t0.591549296\t]\t,\n",
    "[\t0.802816901\t]\t,\n",
    "[\t0.471830986\t]\t,\n",
    "[\t0.267605634\t]\t,\n",
    "[\t0.408450704\t]\t,\n",
    "[\t0.323943662\t]\t,\n",
    "[\t0.457746479\t]\t,\n",
    "[\t0.816901408\t]\t,\n",
    "[\t0.753521127\t]\t,\n",
    "[\t0.436619718\t]\t,\n",
    "[\t0.457746479\t]\t,\n",
    "[\t0.387323944\t]\t,\n",
    "[\t0.464788732\t]\t,\n",
    "[\t0.732394366\t]\t,\n",
    "[\t0.514084507\t]\t,\n",
    "[\t0.281690141\t]\t,\n",
    "[\t0.190140845\t]\t,\n",
    "[\t0.514084507\t]\t,\n",
    "[\t0.507042254\t]\t,\n",
    "[\t0.753521127\t]\t,\n",
    "[\t0.542253521\t]\t,\n",
    "[\t0.26056338\t]\t,\n",
    "[\t0.394366197\t]\t,\n",
    "[\t0.626760563\t]\t,\n",
    "[\t0.795774648\t]\t,\n",
    "[\t0.704225352\t]\t,\n",
    "[\t0.535211268\t]\t,\n",
    "[\t0.401408451\t]\t,\n",
    "[\t0.126760563\t]\t,\n",
    "[\t0.330985915\t]\t,\n",
    "[\t0.415492958\t]\t,\n",
    "[\t0.556338028\t]\t,\n",
    "[\t0.591549296\t]\t,\n",
    "[\t0.514084507\t]\t,\n",
    "\n",
    ")\n",
    ",dtype=float)\n",
    "\n",
    "dataprediksi = np.array(([\t0.415492958\t,\t0.556338028\t,\t0.591549296\t,\t0.514084507\t]\t,\n",
    "[\t0.556338028\t,\t0.591549296\t,\t0.514084507\t,\t0.387323944\t]\t,\n",
    "[\t0.591549296\t,\t0.514084507\t,\t0.387323944\t,\t0.373239437\t]\t,\n",
    "[\t0.514084507\t,\t0.387323944\t,\t0.373239437\t,\t0.366197183\t]\t,\n",
    "\n",
    "\n",
    "), dtype=float)\n"
   ]
  },
  {
   "cell_type": "code",
   "execution_count": 7,
   "metadata": {},
   "outputs": [],
   "source": [
    "import matplotlib.pyplot as plot"
   ]
  },
  {
   "cell_type": "code",
   "execution_count": 8,
   "metadata": {},
   "outputs": [],
   "source": [
    "from scipy import optimize"
   ]
  },
  {
   "cell_type": "code",
   "execution_count": 9,
   "metadata": {},
   "outputs": [],
   "source": [
    "class trainer(object):\n",
    "    def __init__(self, N):\n",
    "        #Make Local reference to network:\n",
    "        self.N = N\n",
    "        \n",
    "    def callbackF(self, params):\n",
    "        self.N.setParams(params)\n",
    "        self.J.append(self.N.costFunction(self.X, self.y))   \n",
    "        \n",
    "    def costFunctionWrapper(self, params, X, y):\n",
    "        self.N.setParams(params)\n",
    "        cost = self.N.costFunction(X, y)\n",
    "        grad = self.N.computeGradients(X,y)\n",
    "        \n",
    "        return cost, grad\n",
    "        \n",
    "    def train(self, X, y):\n",
    "        #Make an internal variable for the callback function:\n",
    "        self.X = X\n",
    "        self.y = y\n",
    "\n",
    "        #Make empty list to store costs:\n",
    "        self.J = []\n",
    "        \n",
    "        params0 = self.N.getParams()\n",
    "\n",
    "        options = {'maxiter': 100, 'disp' : True}\n",
    "        _res = optimize.minimize(self.costFunctionWrapper, params0, jac=True, method='BFGS', \\\n",
    "                                 args=(X, y), options=options, callback=self.callbackF)\n",
    "\n",
    "        self.N.setParams(_res.x)\n",
    "        self.optimizationResults = _res"
   ]
  },
  {
   "cell_type": "code",
   "execution_count": 10,
   "metadata": {},
   "outputs": [],
   "source": [
    "NN=Neural_Network()"
   ]
  },
  {
   "cell_type": "code",
   "execution_count": 11,
   "metadata": {},
   "outputs": [],
   "source": [
    "T = trainer(NN)"
   ]
  },
  {
   "cell_type": "code",
   "execution_count": 12,
   "metadata": {},
   "outputs": [
    {
     "name": "stdout",
     "output_type": "stream",
     "text": [
      "Warning: Maximum number of iterations has been exceeded.\n",
      "         Current function value: 0.427569\n",
      "         Iterations: 100\n",
      "         Function evaluations: 109\n",
      "         Gradient evaluations: 109\n"
     ]
    }
   ],
   "source": [
    "#Train network with new data:\n",
    "T = trainer(NN)\n",
    "T.train(X,y)"
   ]
  },
  {
   "cell_type": "code",
   "execution_count": 13,
   "metadata": {},
   "outputs": [
    {
     "data": {
      "image/png": "[encoded data removed]",
      "text/plain": [
       "<Figure size 432x288 with 1 Axes>"
      ]
     },
     "metadata": {
      "needs_background": "light"
     },
     "output_type": "display_data"
    }
   ],
   "source": [
    "#Plot cost during training:\n",
    "plot.plot(T.J)\n",
    "plot.grid(1)\n",
    "plot.xlabel('Iterations')\n",
    "plot.ylabel('Cost')\n",
    "plot.show()"
   ]
  },
  {
   "cell_type": "code",
   "execution_count": 14,
   "metadata": {},
   "outputs": [],
   "source": [
    "#Training Data:\n",
    "trainX = np.array(([\t0.147887324\t,\t0.063380282\t,\t0.436619718\t,\t0.570422535\t]\t,\n",
    "[\t0.063380282\t,\t0.436619718\t,\t0.570422535\t,\t0.669014085\t]\t,\n",
    "[\t0.436619718\t,\t0.570422535\t,\t0.669014085\t,\t0.697183099\t]\t,\n",
    "[\t0.570422535\t,\t0.669014085\t,\t0.697183099\t,\t0.971830986\t]\t,\n",
    "[\t0.669014085\t,\t0.697183099\t,\t0.971830986\t,\t0.591549296\t]\t,\n",
    "[\t0.697183099\t,\t0.971830986\t,\t0.591549296\t,\t0.281690141\t]\t,\n",
    "[\t0.971830986\t,\t0.591549296\t,\t0.281690141\t,\t0.26056338\t]\t,\n",
    "[\t0.591549296\t,\t0.281690141\t,\t0.26056338\t,\t0.464788732\t]\t,\n",
    "[\t0.281690141\t,\t0.26056338\t,\t0.464788732\t,\t0.992957746\t]\t,\n",
    "[\t0.26056338\t,\t0.464788732\t,\t0.992957746\t,\t0.676056338\t]\t,\n",
    "[\t0.464788732\t,\t0.992957746\t,\t0.676056338\t,\t0.253521127\t]\t,\n",
    "[\t0.992957746\t,\t0.676056338\t,\t0.253521127\t,\t0.450704225\t]\t,\n",
    "[\t0.676056338\t,\t0.253521127\t,\t0.450704225\t,\t0\t]\t,\n",
    "[\t0.253521127\t,\t0.450704225\t,\t0\t,\t0.485915493\t]\t,\n",
    "[\t0.450704225\t,\t0\t,\t0.485915493\t,\t0.781690141\t]\t,\n",
    "[\t0\t,\t0.485915493\t,\t0.781690141\t,\t0.802816901\t]\t,\n",
    "[\t0.485915493\t,\t0.781690141\t,\t0.802816901\t,\t0.302816901\t]\t,\n",
    "[\t0.781690141\t,\t0.802816901\t,\t0.302816901\t,\t0.471830986\t]\t,\n",
    "[\t0.802816901\t,\t0.302816901\t,\t0.471830986\t,\t0.415492958\t]\t,\n",
    "[\t0.302816901\t,\t0.471830986\t,\t0.415492958\t,\t0.647887324\t]\t,\n",
    "[\t0.471830986\t,\t0.415492958\t,\t0.647887324\t,\t0.612676056\t]\t,\n",
    "[\t0.415492958\t,\t0.647887324\t,\t0.612676056\t,\t1\t]\t,\n",
    "[\t0.647887324\t,\t0.612676056\t,\t1\t,\t0.478873239\t]\t,\n",
    "[\t0.612676056\t,\t1\t,\t0.478873239\t,\t0.302816901\t]\t,\n",
    "[\t1\t,\t0.478873239\t,\t0.302816901\t,\t0.38028169\t]\t,\n",
    "[\t0.478873239\t,\t0.302816901\t,\t0.38028169\t,\t0.591549296\t]\t,\n",
    "[\t0.302816901\t,\t0.38028169\t,\t0.591549296\t,\t0.802816901\t]\t,\n",
    "[\t0.38028169\t,\t0.591549296\t,\t0.802816901\t,\t0.471830986\t]\t,\n",
    "[\t0.591549296\t,\t0.802816901\t,\t0.471830986\t,\t0.267605634\t]\t,\n",
    "[\t0.802816901\t,\t0.471830986\t,\t0.267605634\t,\t0.408450704\t]\t,\n",
    "[\t0.471830986\t,\t0.267605634\t,\t0.408450704\t,\t0.323943662\t]\t,\n",
    "[\t0.267605634\t,\t0.408450704\t,\t0.323943662\t,\t0.457746479\t]\t,\n",
    "[\t0.408450704\t,\t0.323943662\t,\t0.457746479\t,\t0.816901408\t]\t,\n",
    "[\t0.323943662\t,\t0.457746479\t,\t0.816901408\t,\t0.753521127\t]\t,\n",
    "[\t0.457746479\t,\t0.816901408\t,\t0.753521127\t,\t0.436619718\t]\t,\n",
    "[\t0.816901408\t,\t0.753521127\t,\t0.436619718\t,\t0.457746479\t]\t,\n",
    "[\t0.753521127\t,\t0.436619718\t,\t0.457746479\t,\t0.387323944\t]\t,\n",
    "[\t0.436619718\t,\t0.457746479\t,\t0.387323944\t,\t0.464788732\t]\t,\n",
    "[\t0.457746479\t,\t0.387323944\t,\t0.464788732\t,\t0.732394366\t]\t,\n",
    "[\t0.387323944\t,\t0.464788732\t,\t0.732394366\t,\t0.514084507\t]\t,\n",
    "[\t0.464788732\t,\t0.732394366\t,\t0.514084507\t,\t0.281690141\t]\t,\n",
    "[\t0.732394366\t,\t0.514084507\t,\t0.281690141\t,\t0.190140845\t]\t,\n",
    "[\t0.514084507\t,\t0.281690141\t,\t0.190140845\t,\t0.514084507\t]\t,\n",
    "[\t0.281690141\t,\t0.190140845\t,\t0.514084507\t,\t0.507042254\t]\t,\n",
    "[\t0.190140845\t,\t0.514084507\t,\t0.507042254\t,\t0.753521127\t]\t,\n",
    "                  )\n",
    ", dtype=float)\n",
    "trainY = np.array(([\t0.669014085\t]\t,\n",
    "[\t0.697183099\t]\t,\n",
    "[\t0.971830986\t]\t,\n",
    "[\t0.591549296\t]\t,\n",
    "[\t0.281690141\t]\t,\n",
    "[\t0.26056338\t]\t,\n",
    "[\t0.464788732\t]\t,\n",
    "[\t0.992957746\t]\t,\n",
    "[\t0.676056338\t]\t,\n",
    "[\t0.253521127\t]\t,\n",
    "[\t0.450704225\t]\t,\n",
    "[\t0\t]\t,\n",
    "[\t0.485915493\t]\t,\n",
    "[\t0.781690141\t]\t,\n",
    "[\t0.802816901\t]\t,\n",
    "[\t0.302816901\t]\t,\n",
    "[\t0.471830986\t]\t,\n",
    "[\t0.415492958\t]\t,\n",
    "[\t0.647887324\t]\t,\n",
    "[\t0.612676056\t]\t,\n",
    "[\t1\t]\t,\n",
    "[\t0.478873239\t]\t,\n",
    "[\t0.302816901\t]\t,\n",
    "[\t0.38028169\t]\t,\n",
    "[\t0.591549296\t]\t,\n",
    "[\t0.802816901\t]\t,\n",
    "[\t0.471830986\t]\t,\n",
    "[\t0.267605634\t]\t,\n",
    "[\t0.408450704\t]\t,\n",
    "[\t0.323943662\t]\t,\n",
    "[\t0.457746479\t]\t,\n",
    "[\t0.816901408\t]\t,\n",
    "[\t0.753521127\t]\t,\n",
    "[\t0.436619718\t]\t,\n",
    "[\t0.457746479\t]\t,\n",
    "[\t0.387323944\t]\t,\n",
    "[\t0.464788732\t]\t,\n",
    "[\t0.732394366\t]\t,\n",
    "[\t0.514084507\t]\t,\n",
    "[\t0.281690141\t]\t,\n",
    "[\t0.190140845\t]\t,\n",
    "[\t0.514084507\t]\t,\n",
    "[\t0.507042254\t]\t,\n",
    "[\t0.753521127\t]\t,\n",
    "[\t0.542253521\t]\t,\n",
    "\n",
    ")\n",
    ", dtype=float)\n",
    "\n",
    "#Testing Data:\n",
    "testX = np.array(([\t0.514084507\t,\t0.507042254\t,\t0.753521127\t,\t0.542253521\t]\t,\n",
    "[\t0.507042254\t,\t0.753521127\t,\t0.542253521\t,\t0.26056338\t]\t,\n",
    "[\t0.753521127\t,\t0.542253521\t,\t0.26056338\t,\t0.394366197\t]\t,\n",
    "[\t0.542253521\t,\t0.26056338\t,\t0.394366197\t,\t0.626760563\t]\t,\n",
    "[\t0.26056338\t,\t0.394366197\t,\t0.626760563\t,\t0.795774648\t]\t,\n",
    "[\t0.394366197\t,\t0.626760563\t,\t0.795774648\t,\t0.704225352\t]\t,\n",
    "[\t0.626760563\t,\t0.795774648\t,\t0.704225352\t,\t0.535211268\t]\t,\n",
    "[\t0.795774648\t,\t0.704225352\t,\t0.535211268\t,\t0.401408451\t]\t,\n",
    "[\t0.704225352\t,\t0.535211268\t,\t0.401408451\t,\t0.126760563\t]\t,\n",
    "[\t0.535211268\t,\t0.401408451\t,\t0.126760563\t,\t0.330985915\t]\t,\n",
    "[\t0.401408451\t,\t0.126760563\t,\t0.330985915\t,\t0.415492958\t]\t,\n",
    "[\t0.126760563\t,\t0.330985915\t,\t0.415492958\t,\t0.556338028\t]\t,\n",
    "[\t0.330985915\t,\t0.415492958\t,\t0.556338028\t,\t0.591549296\t]\t,\n",
    "\n",
    ")\n",
    ", dtype=float)\n",
    "testY = np.array(([\t0.26056338\t]\t,\n",
    "[\t0.394366197\t]\t,\n",
    "[\t0.626760563\t]\t,\n",
    "[\t0.795774648\t]\t,\n",
    "[\t0.704225352\t]\t,\n",
    "[\t0.535211268\t]\t,\n",
    "[\t0.401408451\t]\t,\n",
    "[\t0.126760563\t]\t,\n",
    "[\t0.330985915\t]\t,\n",
    "[\t0.415492958\t]\t,\n",
    "[\t0.556338028\t]\t,\n",
    "[\t0.591549296\t]\t,\n",
    "[\t0.514084507\t]\t,\n",
    "\n",
    "\n",
    ")\n",
    ", dtype=float)\n",
    "\n",
    "\n",
    "dataprediksi = np.array(([\t0.415492958\t,\t0.556338028\t,\t0.591549296\t,\t0.514084507\t]\t,\n",
    "[\t0.556338028\t,\t0.591549296\t,\t0.514084507\t,\t0.387323944\t]\t,\n",
    "[\t0.591549296\t,\t0.514084507\t,\t0.387323944\t,\t0.373239437\t]\t,\n",
    "[\t0.514084507\t,\t0.387323944\t,\t0.373239437\t,\t0.366197183\t]\t,\n",
    "\n",
    "\n",
    "), dtype=float)"
   ]
  },
  {
   "cell_type": "code",
   "execution_count": 15,
   "metadata": {},
   "outputs": [
    {
     "data": {
      "text/plain": [
       "array([[0.51408451, 0.50704225, 0.75352113, 0.54225352],\n",
       "       [0.50704225, 0.75352113, 0.54225352, 0.26056338],\n",
       "       [0.75352113, 0.54225352, 0.26056338, 0.3943662 ],\n",
       "       [0.54225352, 0.26056338, 0.3943662 , 0.62676056],\n",
       "       [0.26056338, 0.3943662 , 0.62676056, 0.79577465],\n",
       "       [0.3943662 , 0.62676056, 0.79577465, 0.70422535],\n",
       "       [0.62676056, 0.79577465, 0.70422535, 0.53521127],\n",
       "       [0.79577465, 0.70422535, 0.53521127, 0.40140845],\n",
       "       [0.70422535, 0.53521127, 0.40140845, 0.12676056],\n",
       "       [0.53521127, 0.40140845, 0.12676056, 0.33098592],\n",
       "       [0.40140845, 0.12676056, 0.33098592, 0.41549296],\n",
       "       [0.12676056, 0.33098592, 0.41549296, 0.55633803],\n",
       "       [0.33098592, 0.41549296, 0.55633803, 0.5915493 ]])"
      ]
     },
     "execution_count": 15,
     "metadata": {},
     "output_type": "execute_result"
    }
   ],
   "source": [
    "testX"
   ]
  },
  {
   "cell_type": "code",
   "execution_count": 16,
   "metadata": {},
   "outputs": [],
   "source": [
    "##Need to modify trainer class a bit to check testing error during training:\n",
    "class trainer(object):\n",
    "    def __init__(self, N):\n",
    "        #Make Local reference to network:\n",
    "        self.N = N\n",
    "        \n",
    "    def callbackF(self, params):\n",
    "        self.N.setParams(params)\n",
    "        self.J.append(self.N.costFunction(self.X, self.y))\n",
    "        self.testJ.append(self.N.costFunction(self.testX, self.testY))\n",
    "        \n",
    "    def costFunctionWrapper(self, params, X, y):\n",
    "        self.N.setParams(params)\n",
    "        cost = self.N.costFunction(X, y)\n",
    "        grad = self.N.computeGradients(X,y)\n",
    "        \n",
    "        return cost, grad\n",
    "        \n",
    "    def train(self, trainX, trainY, testX, testY):\n",
    "        #Make an internal variable for the callback function:\n",
    "        self.X = trainX\n",
    "        self.y = trainY\n",
    "        \n",
    "        self.testX = testX\n",
    "        self.testY = testY\n",
    "\n",
    "        #Make empty list to store training costs:\n",
    "        self.J = []\n",
    "        self.testJ = []\n",
    "        \n",
    "        params0 = self.N.getParams()\n",
    "\n",
    "        options = {'maxiter': 100, 'disp' : True}\n",
    "        _res = optimize.minimize(self.costFunctionWrapper, params0, jac=True, method='BFGS', \\\n",
    "                                 args=(trainX, trainY), options=options, callback=self.callbackF)\n",
    "\n",
    "        self.N.setParams(_res.x)\n",
    "        self.optimizationResults = _res"
   ]
  },
  {
   "cell_type": "code",
   "execution_count": 17,
   "metadata": {},
   "outputs": [
    {
     "name": "stdout",
     "output_type": "stream",
     "text": [
      "Warning: Maximum number of iterations has been exceeded.\n",
      "         Current function value: 0.369034\n",
      "         Iterations: 100\n",
      "         Function evaluations: 108\n",
      "         Gradient evaluations: 108\n"
     ]
    }
   ],
   "source": [
    "#Train network with new data:\n",
    "NN = Neural_Network()\n",
    "\n",
    "T = trainer(NN)\n",
    "T.train(trainX, trainY, testX, testY)"
   ]
  },
  {
   "cell_type": "code",
   "execution_count": 18,
   "metadata": {},
   "outputs": [
    {
     "data": {
      "image/png": "[encoded data removed]",
      "text/plain": [
       "<Figure size 432x288 with 1 Axes>"
      ]
     },
     "metadata": {
      "needs_background": "light"
     },
     "output_type": "display_data"
    }
   ],
   "source": [
    "#Plot cost during training:\n",
    "plot.plot(T.J)\n",
    "plot.plot(T.testJ)\n",
    "plot.grid(1)\n",
    "plot.xlabel('Iterations')\n",
    "plot.ylabel('Cost')\n",
    "plot.legend(['Training', 'Testing'])\n",
    "plot.show()"
   ]
  },
  {
   "cell_type": "code",
   "execution_count": 19,
   "metadata": {},
   "outputs": [
    {
     "data": {
      "text/plain": [
       "[array([3.03228031]),\n",
       " array([2.29295272]),\n",
       " array([1.56398133]),\n",
       " array([1.04796415]),\n",
       " array([0.78232976]),\n",
       " array([0.74545322]),\n",
       " array([0.73256487]),\n",
       " array([0.71815179]),\n",
       " array([0.70487435]),\n",
       " array([0.68185708]),\n",
       " array([0.65489723]),\n",
       " array([0.64055674]),\n",
       " array([0.62824251]),\n",
       " array([0.61786686]),\n",
       " array([0.60899624]),\n",
       " array([0.59229167]),\n",
       " array([0.56410181]),\n",
       " array([0.55334715]),\n",
       " array([0.54499085]),\n",
       " array([0.5437594]),\n",
       " array([0.54242647]),\n",
       " array([0.54108232]),\n",
       " array([0.53861416]),\n",
       " array([0.5346509]),\n",
       " array([0.53186925]),\n",
       " array([0.53072963]),\n",
       " array([0.53012864]),\n",
       " array([0.52925038]),\n",
       " array([0.52785349]),\n",
       " array([0.52590272]),\n",
       " array([0.52433272]),\n",
       " array([0.52258811]),\n",
       " array([0.52000733]),\n",
       " array([0.51781484]),\n",
       " array([0.51594205]),\n",
       " array([0.5127091]),\n",
       " array([0.50768322]),\n",
       " array([0.50522306]),\n",
       " array([0.50144829]),\n",
       " array([0.49722152]),\n",
       " array([0.49210861]),\n",
       " array([0.48407192]),\n",
       " array([0.47616395]),\n",
       " array([0.47265653]),\n",
       " array([0.46752801]),\n",
       " array([0.45871319]),\n",
       " array([0.4541397]),\n",
       " array([0.45077445]),\n",
       " array([0.44935857]),\n",
       " array([0.44758518]),\n",
       " array([0.44488022]),\n",
       " array([0.44195094]),\n",
       " array([0.43954845]),\n",
       " array([0.43723872]),\n",
       " array([0.43520772]),\n",
       " array([0.43200025]),\n",
       " array([0.42693914]),\n",
       " array([0.4199183]),\n",
       " array([0.41293909]),\n",
       " array([0.41024945]),\n",
       " array([0.40633638]),\n",
       " array([0.40364974]),\n",
       " array([0.40013934]),\n",
       " array([0.39737571]),\n",
       " array([0.39558277]),\n",
       " array([0.3939897]),\n",
       " array([0.39242325]),\n",
       " array([0.38972749]),\n",
       " array([0.38579701]),\n",
       " array([0.38359767]),\n",
       " array([0.38262715]),\n",
       " array([0.38104154]),\n",
       " array([0.37865976]),\n",
       " array([0.37598155]),\n",
       " array([0.37505815]),\n",
       " array([0.37443983]),\n",
       " array([0.37427181]),\n",
       " array([0.37408636]),\n",
       " array([0.37385068]),\n",
       " array([0.37373]),\n",
       " array([0.37362114]),\n",
       " array([0.37346611]),\n",
       " array([0.37322729]),\n",
       " array([0.37290973]),\n",
       " array([0.37263029]),\n",
       " array([0.37244474]),\n",
       " array([0.37231495]),\n",
       " array([0.37215391]),\n",
       " array([0.37196886]),\n",
       " array([0.37180684]),\n",
       " array([0.37168283]),\n",
       " array([0.37155276]),\n",
       " array([0.37134961]),\n",
       " array([0.37104511]),\n",
       " array([0.37075938]),\n",
       " array([0.37052592]),\n",
       " array([0.37036145]),\n",
       " array([0.37010087]),\n",
       " array([0.36967023]),\n",
       " array([0.36903447])]"
      ]
     },
     "execution_count": 19,
     "metadata": {},
     "output_type": "execute_result"
    }
   ],
   "source": [
    "T.J"
   ]
  },
  {
   "cell_type": "code",
   "execution_count": 20,
   "metadata": {},
   "outputs": [
    {
     "data": {
      "text/plain": [
       "[array([0.88784014]),\n",
       " array([0.50854376]),\n",
       " array([0.25805893]),\n",
       " array([0.13093074]),\n",
       " array([0.1189337]),\n",
       " array([0.13132186]),\n",
       " array([0.11738158]),\n",
       " array([0.10843071]),\n",
       " array([0.11469689]),\n",
       " array([0.12003872]),\n",
       " array([0.1209394]),\n",
       " array([0.13212041]),\n",
       " array([0.1483808]),\n",
       " array([0.13527006]),\n",
       " array([0.1332348]),\n",
       " array([0.13289008]),\n",
       " array([0.13223832]),\n",
       " array([0.13997931]),\n",
       " array([0.13953182]),\n",
       " array([0.13674361]),\n",
       " array([0.13941316]),\n",
       " array([0.13758447]),\n",
       " array([0.13446803]),\n",
       " array([0.12876303]),\n",
       " array([0.12098071]),\n",
       " array([0.11946834]),\n",
       " array([0.12057767]),\n",
       " array([0.12049139]),\n",
       " array([0.1213073]),\n",
       " array([0.12180426]),\n",
       " array([0.1225469]),\n",
       " array([0.1180926]),\n",
       " array([0.1148222]),\n",
       " array([0.11165513]),\n",
       " array([0.1096253]),\n",
       " array([0.1101677]),\n",
       " array([0.11217657]),\n",
       " array([0.12019076]),\n",
       " array([0.12476287]),\n",
       " array([0.13777968]),\n",
       " array([0.13941838]),\n",
       " array([0.14819026]),\n",
       " array([0.15152698]),\n",
       " array([0.15756209]),\n",
       " array([0.16600959]),\n",
       " array([0.16971236]),\n",
       " array([0.18350373]),\n",
       " array([0.1817695]),\n",
       " array([0.1717555]),\n",
       " array([0.17467587]),\n",
       " array([0.1772681]),\n",
       " array([0.17667088]),\n",
       " array([0.17353821]),\n",
       " array([0.16606887]),\n",
       " array([0.16459493]),\n",
       " array([0.16178129]),\n",
       " array([0.16770114]),\n",
       " array([0.17428784]),\n",
       " array([0.20019407]),\n",
       " array([0.23349184]),\n",
       " array([0.23500785]),\n",
       " array([0.22388992]),\n",
       " array([0.21922923]),\n",
       " array([0.20841642]),\n",
       " array([0.20025188]),\n",
       " array([0.2065461]),\n",
       " array([0.20597729]),\n",
       " array([0.20843995]),\n",
       " array([0.20692925]),\n",
       " array([0.20903994]),\n",
       " array([0.20772263]),\n",
       " array([0.20925437]),\n",
       " array([0.20585745]),\n",
       " array([0.20349754]),\n",
       " array([0.20687325]),\n",
       " array([0.20584232]),\n",
       " array([0.20821175]),\n",
       " array([0.20985604]),\n",
       " array([0.21403066]),\n",
       " array([0.21490148]),\n",
       " array([0.2148632]),\n",
       " array([0.21318744]),\n",
       " array([0.20987902]),\n",
       " array([0.20500988]),\n",
       " array([0.20156212]),\n",
       " array([0.20032726]),\n",
       " array([0.20043268]),\n",
       " array([0.20085183]),\n",
       " array([0.20202878]),\n",
       " array([0.20280362]),\n",
       " array([0.20377979]),\n",
       " array([0.2038174]),\n",
       " array([0.20313556]),\n",
       " array([0.20175045]),\n",
       " array([0.20028426]),\n",
       " array([0.20003565]),\n",
       " array([0.19805428]),\n",
       " array([0.19885874]),\n",
       " array([0.20014272]),\n",
       " array([0.20248269])]"
      ]
     },
     "execution_count": 20,
     "metadata": {},
     "output_type": "execute_result"
    }
   ],
   "source": [
    "T.testJ"
   ]
  },
  {
   "cell_type": "code",
   "execution_count": 21,
   "metadata": {},
   "outputs": [
    {
     "data": {
      "text/plain": [
       "0.34800935164584124"
      ]
     },
     "execution_count": 21,
     "metadata": {},
     "output_type": "execute_result"
    }
   ],
   "source": [
    "from sklearn.metrics import mean_absolute_error\n",
    "mean_absolute_error(T.J, T.testJ)"
   ]
  },
  {
   "cell_type": "code",
   "execution_count": 22,
   "metadata": {},
   "outputs": [],
   "source": [
    "yHat = NN.forward(X)"
   ]
  },
  {
   "cell_type": "code",
   "execution_count": 23,
   "metadata": {},
   "outputs": [
    {
     "data": {
      "text/plain": [
       "array([[0.68948012],\n",
       "       [0.5402608 ],\n",
       "       [0.66323515],\n",
       "       [0.5614887 ],\n",
       "       [0.370796  ],\n",
       "       [0.26409723],\n",
       "       [0.41018853],\n",
       "       [0.75148475],\n",
       "       [0.78506583],\n",
       "       [0.22070219],\n",
       "       [0.45553114],\n",
       "       [0.07785218],\n",
       "       [0.53449564],\n",
       "       [0.65614937],\n",
       "       [0.96646232],\n",
       "       [0.28220161],\n",
       "       [0.37418272],\n",
       "       [0.4026661 ],\n",
       "       [0.500417  ],\n",
       "       [0.71141747],\n",
       "       [0.7121493 ],\n",
       "       [0.45689882],\n",
       "       [0.20637476],\n",
       "       [0.37616993],\n",
       "       [0.57670368],\n",
       "       [0.71899985],\n",
       "       [0.48872298],\n",
       "       [0.36550337],\n",
       "       [0.31829697],\n",
       "       [0.39063239],\n",
       "       [0.69234118],\n",
       "       [0.79305264],\n",
       "       [0.71483437],\n",
       "       [0.47902882],\n",
       "       [0.47118083],\n",
       "       [0.38058023],\n",
       "       [0.49475417],\n",
       "       [0.7646359 ],\n",
       "       [0.60020785],\n",
       "       [0.49742308],\n",
       "       [0.45668571],\n",
       "       [0.48145988],\n",
       "       [0.85033654],\n",
       "       [0.718184  ],\n",
       "       [0.65845044],\n",
       "       [0.54645175],\n",
       "       [0.40080034],\n",
       "       [0.28945106],\n",
       "       [0.81932851],\n",
       "       [0.55895583],\n",
       "       [0.49907845],\n",
       "       [0.52846929],\n",
       "       [0.30111865],\n",
       "       [0.14294797],\n",
       "       [0.50389279],\n",
       "       [0.7474663 ],\n",
       "       [0.7234567 ],\n",
       "       [0.72097323]])"
      ]
     },
     "execution_count": 23,
     "metadata": {},
     "output_type": "execute_result"
    }
   ],
   "source": [
    "yHat"
   ]
  },
  {
   "cell_type": "code",
   "execution_count": 24,
   "metadata": {},
   "outputs": [
    {
     "data": {
      "text/plain": [
       "array([[0.66901409],\n",
       "       [0.6971831 ],\n",
       "       [0.97183099],\n",
       "       [0.5915493 ],\n",
       "       [0.28169014],\n",
       "       [0.26056338],\n",
       "       [0.46478873],\n",
       "       [0.99295775],\n",
       "       [0.67605634],\n",
       "       [0.25352113],\n",
       "       [0.45070423],\n",
       "       [0.        ],\n",
       "       [0.48591549],\n",
       "       [0.78169014],\n",
       "       [0.8028169 ],\n",
       "       [0.3028169 ],\n",
       "       [0.47183099],\n",
       "       [0.41549296],\n",
       "       [0.64788732],\n",
       "       [0.61267606],\n",
       "       [1.        ],\n",
       "       [0.47887324],\n",
       "       [0.3028169 ],\n",
       "       [0.38028169],\n",
       "       [0.5915493 ],\n",
       "       [0.8028169 ],\n",
       "       [0.47183099],\n",
       "       [0.26760563],\n",
       "       [0.4084507 ],\n",
       "       [0.32394366],\n",
       "       [0.45774648],\n",
       "       [0.81690141],\n",
       "       [0.75352113],\n",
       "       [0.43661972],\n",
       "       [0.45774648],\n",
       "       [0.38732394],\n",
       "       [0.46478873],\n",
       "       [0.73239437],\n",
       "       [0.51408451],\n",
       "       [0.28169014],\n",
       "       [0.19014085],\n",
       "       [0.51408451],\n",
       "       [0.50704225],\n",
       "       [0.75352113],\n",
       "       [0.54225352],\n",
       "       [0.26056338],\n",
       "       [0.3943662 ],\n",
       "       [0.62676056],\n",
       "       [0.79577465],\n",
       "       [0.70422535],\n",
       "       [0.53521127],\n",
       "       [0.40140845],\n",
       "       [0.12676056],\n",
       "       [0.33098592],\n",
       "       [0.41549296],\n",
       "       [0.55633803],\n",
       "       [0.5915493 ],\n",
       "       [0.51408451]])"
      ]
     },
     "execution_count": 24,
     "metadata": {},
     "output_type": "execute_result"
    }
   ],
   "source": [
    "y"
   ]
  },
  {
   "cell_type": "code",
   "execution_count": 25,
   "metadata": {},
   "outputs": [
    {
     "data": {
      "text/plain": [
       "0.019707488119430364"
      ]
     },
     "execution_count": 25,
     "metadata": {},
     "output_type": "execute_result"
    }
   ],
   "source": [
    "from sklearn.metrics import mean_squared_error \n",
    "mean_squared_error(y,yHat) "
   ]
  },
  {
   "cell_type": "code",
   "execution_count": 26,
   "metadata": {},
   "outputs": [
    {
     "data": {
      "image/png": "[encoded data removed]",
      "text/plain": [
       "<Figure size 432x288 with 1 Axes>"
      ]
     },
     "metadata": {
      "needs_background": "light"
     },
     "output_type": "display_data"
    }
   ],
   "source": [
    "#Plot cost during training:\n",
    "plot.plot(y)\n",
    "plot.plot(yHat)\n",
    "plot.grid(1)\n",
    "plot.legend(['y', 'yHat'])\n",
    "plot.show()"
   ]
  },
  {
   "cell_type": "code",
   "execution_count": 27,
   "metadata": {},
   "outputs": [],
   "source": [
    "#Regularization Parameter:\n",
    "Lambda = 0.0001"
   ]
  },
  {
   "cell_type": "code",
   "execution_count": 28,
   "metadata": {},
   "outputs": [],
   "source": [
    "#Need to make changes to costFunction and costFunctionPrim:\n",
    "def costFunction(self, X, y):\n",
    "    #Compute cost for given X,y, use weights already stored in class.\n",
    "    self.yHat = self.forward(X)\n",
    "    #We don't want cost to increase with the number of examples, so normalize by dividing the error term by number of examples(X.shape[0])\n",
    "    J = 0.5*sum((y-self.yHat)**2)/X.shape[0] + (self.Lambda/2)*(sum(self.W1**2)+sum(self.W2**2))\n",
    "    return J\n",
    "\n",
    "def costFunctionPrime(self, X, y):\n",
    "    #Compute derivative with respect to W and W2 for a given X and y:\n",
    "    self.yHat = self.forward(X)\n",
    "\n",
    "    delta3 = np.multiply(-(y-self.yHat), self.tanhPrime(self.z3))\n",
    "    #Add gradient of regularization term:\n",
    "    dJdW2 = np.dot(self.a2.T, delta3)/X.shape[0] + self.Lambda*self.W2\n",
    "\n",
    "    delta2 = np.dot(delta3, self.W2.T)*self.tanhPrime(self.z2)\n",
    "    #Add gradient of regularization term:\n",
    "    dJdW1 = np.dot(X.T, delta2)/X.shape[0] + self.Lambda*self.W1\n",
    "\n",
    "    return dJdW1, dJdW2"
   ]
  },
  {
   "cell_type": "code",
   "execution_count": 29,
   "metadata": {},
   "outputs": [],
   "source": [
    "#New complete class, with changes:\n",
    "class Neural_Network(object):\n",
    "    def __init__(self, Lambda=0.0001):        \n",
    "        #Define Hyperparameters\n",
    "        self.inputLayerSize = 4\n",
    "        self.outputLayerSize = 1\n",
    "        self.hiddenLayerSize = 5\n",
    "        \n",
    "        #Weights (parameters)\n",
    "        self.W1 = np.random.randn(self.inputLayerSize,self.hiddenLayerSize)\n",
    "        self.W2 = np.random.randn(self.hiddenLayerSize,self.outputLayerSize)\n",
    "        \n",
    "        #Regularization Parameter:\n",
    "        self.Lambda = Lambda\n",
    "        \n",
    "    def forward(self, X):\n",
    "        #Propogate inputs though network\n",
    "        self.z2 = np.dot(X, self.W1)\n",
    "        self.a2 = self.tanh(self.z2)\n",
    "        self.z3 = np.dot(self.a2, self.W2)\n",
    "        yHat = self.tanh(self.z3) \n",
    "        return yHat\n",
    "        \n",
    "    def tanh(self, z):\n",
    "        # activation function\n",
    "        return (np.exp(z)-np.exp(-z))/(np.exp(z)+np.exp(-z))\n",
    "    \n",
    "    def tanhPrime(self,z): \n",
    "        #derivative of tanh\n",
    "        return 1-((np.exp(z)-np.exp(-z))/(np.exp(z)+np.exp(-z)))**2\n",
    "    \n",
    "    def costFunction(self, X, y):\n",
    "        #Compute cost for given X,y, use weights already stored in class.\n",
    "        self.yHat = self.forward(X)\n",
    "        J = 0.5*sum((y-self.yHat)**2)/X.shape[0] + (self.Lambda/2)*(np.sum(self.W1**2)+np.sum(self.W2**2))\n",
    "        return J\n",
    "        \n",
    "    def costFunctionPrime(self, X, y):\n",
    "        #Compute derivative with respect to W and W2 for a given X and y:\n",
    "        self.yHat = self.forward(X)\n",
    "        \n",
    "        delta3 = np.multiply(-(y-self.yHat), self.tanhPrime(self.z3))\n",
    "        #Add gradient of regularization term:\n",
    "        dJdW2 = np.dot(self.a2.T, delta3)/X.shape[0] + self.Lambda*self.W2\n",
    "        \n",
    "        delta2 = np.dot(delta3, self.W2.T)*self.tanhPrime(self.z2)\n",
    "        #Add gradient of regularization term:\n",
    "        dJdW1 = np.dot(X.T, delta2)/X.shape[0] + self.Lambda*self.W1\n",
    "        \n",
    "        return dJdW1, dJdW2\n",
    "    \n",
    "    def predict(self):\n",
    "        prediksi = self.forward(dataprediksi)\n",
    "        return prediksi\n",
    "    \n",
    "    #Helper functions for interacting with other methods/classes\n",
    "    def getParams(self):\n",
    "        #Get W1 and W2 Rolled into vector:\n",
    "        params = np.concatenate((self.W1.ravel(), self.W2.ravel()))\n",
    "        return params\n",
    "    \n",
    "    def setParams(self, params):\n",
    "        #Set W1 and W2 using single parameter vector:\n",
    "        W1_start = 0\n",
    "        W1_end = self.hiddenLayerSize*self.inputLayerSize\n",
    "        self.W1 = np.reshape(params[W1_start:W1_end], \\\n",
    "                             (self.inputLayerSize, self.hiddenLayerSize))\n",
    "        W2_end = W1_end + self.hiddenLayerSize*self.outputLayerSize\n",
    "        self.W2 = np.reshape(params[W1_end:W2_end], \\\n",
    "                             (self.hiddenLayerSize, self.outputLayerSize))\n",
    "        \n",
    "    def computeGradients(self, X, y):\n",
    "        dJdW1, dJdW2 = self.costFunctionPrime(X, y)\n",
    "        return np.concatenate((dJdW1.ravel(), dJdW2.ravel()))"
   ]
  },
  {
   "cell_type": "code",
   "execution_count": 30,
   "metadata": {},
   "outputs": [],
   "source": [
    "def computeNumericalGradient(N, X, y):\n",
    "    paramsInitial = N.getParams()\n",
    "    numgrad = np.zeros(paramsInitial.shape)\n",
    "    perturb = np.zeros(paramsInitial.shape)\n",
    "    e = 1e-4\n",
    "\n",
    "    for p in range(len(paramsInitial)):\n",
    "        #Set perturbation vector\n",
    "        perturb[p] = e\n",
    "        N.setParams(paramsInitial + perturb)\n",
    "        loss2 = N.costFunction(X, y)\n",
    "            \n",
    "        N.setParams(paramsInitial - perturb)\n",
    "        loss1 = N.costFunction(X, y)\n",
    "\n",
    "        #Compute Numerical Gradient\n",
    "        numgrad[p] = (loss2 - loss1) / (2*e)\n",
    "\n",
    "            #Return the value we changed to zero:\n",
    "        perturb[p] = 0\n",
    "            \n",
    "    #Return Params to original value:\n",
    "    N.setParams(paramsInitial)\n",
    "\n",
    "    return numgrad "
   ]
  },
  {
   "cell_type": "code",
   "execution_count": 31,
   "metadata": {},
   "outputs": [],
   "source": [
    "NN = Neural_Network(Lambda=0.0001)"
   ]
  },
  {
   "cell_type": "code",
   "execution_count": 32,
   "metadata": {},
   "outputs": [],
   "source": [
    "#Make sure our gradients our correct after making changes:\n",
    "numgrad = computeNumericalGradient(NN, X, y)\n",
    "grad = NN.computeGradients(X,y)"
   ]
  },
  {
   "cell_type": "code",
   "execution_count": 33,
   "metadata": {},
   "outputs": [
    {
     "data": {
      "text/plain": [
       "1.3963719959388249e-09"
      ]
     },
     "execution_count": 33,
     "metadata": {},
     "output_type": "execute_result"
    }
   ],
   "source": [
    "#Should be less than 1e-8:\n",
    "np.linalg.norm(grad-numgrad)/np.linalg.norm(grad+numgrad)"
   ]
  },
  {
   "cell_type": "code",
   "execution_count": 34,
   "metadata": {},
   "outputs": [],
   "source": [
    "T = trainer(NN)"
   ]
  },
  {
   "cell_type": "code",
   "execution_count": 35,
   "metadata": {},
   "outputs": [
    {
     "name": "stdout",
     "output_type": "stream",
     "text": [
      "Warning: Maximum number of iterations has been exceeded.\n",
      "         Current function value: 0.012463\n",
      "         Iterations: 100\n",
      "         Function evaluations: 109\n",
      "         Gradient evaluations: 109\n"
     ]
    }
   ],
   "source": [
    "T.train(X,y,testX,testY)"
   ]
  },
  {
   "cell_type": "code",
   "execution_count": 36,
   "metadata": {},
   "outputs": [
    {
     "data": {
      "image/png": "[encoded data removed]",
      "text/plain": [
       "<Figure size 432x288 with 1 Axes>"
      ]
     },
     "metadata": {
      "needs_background": "light"
     },
     "output_type": "display_data"
    }
   ],
   "source": [
    "plot.plot(T.J)\n",
    "plot.plot(T.testJ)\n",
    "plot.grid(1)\n",
    "plot.xlabel('Iterations')\n",
    "plot.ylabel('Cost')\n",
    "plot.legend(['Training', 'Testing'])\n",
    "plot.show()"
   ]
  },
  {
   "cell_type": "code",
   "execution_count": 37,
   "metadata": {},
   "outputs": [
    {
     "data": {
      "text/plain": [
       "[array([0.09370294]),\n",
       " array([0.09027918]),\n",
       " array([0.08704418]),\n",
       " array([0.04154173]),\n",
       " array([0.03966861]),\n",
       " array([0.03610778]),\n",
       " array([0.02960273]),\n",
       " array([0.02090333]),\n",
       " array([0.01966476]),\n",
       " array([0.01895101]),\n",
       " array([0.01786497]),\n",
       " array([0.01729737]),\n",
       " array([0.01722553]),\n",
       " array([0.01718464]),\n",
       " array([0.0171123]),\n",
       " array([0.01698054]),\n",
       " array([0.01674325]),\n",
       " array([0.0163384]),\n",
       " array([0.01576091]),\n",
       " array([0.01553033]),\n",
       " array([0.0154722]),\n",
       " array([0.01541006]),\n",
       " array([0.01532009]),\n",
       " array([0.01525415]),\n",
       " array([0.01519768]),\n",
       " array([0.01510149]),\n",
       " array([0.01493874]),\n",
       " array([0.01468001]),\n",
       " array([0.01440805]),\n",
       " array([0.01430601]),\n",
       " array([0.01425026]),\n",
       " array([0.0142191]),\n",
       " array([0.01420532]),\n",
       " array([0.01420038]),\n",
       " array([0.0141974]),\n",
       " array([0.01419261]),\n",
       " array([0.01418489]),\n",
       " array([0.01417295]),\n",
       " array([0.01415826]),\n",
       " array([0.01414426]),\n",
       " array([0.01413071]),\n",
       " array([0.014114]),\n",
       " array([0.01408894]),\n",
       " array([0.01407152]),\n",
       " array([0.01405662]),\n",
       " array([0.01404846]),\n",
       " array([0.01404694]),\n",
       " array([0.01404533]),\n",
       " array([0.01404313]),\n",
       " array([0.01403939]),\n",
       " array([0.01403257]),\n",
       " array([0.01401977]),\n",
       " array([0.01399603]),\n",
       " array([0.01396012]),\n",
       " array([0.01392547]),\n",
       " array([0.01388984]),\n",
       " array([0.01384104]),\n",
       " array([0.01377109]),\n",
       " array([0.01374589]),\n",
       " array([0.01374105]),\n",
       " array([0.01373652]),\n",
       " array([0.0137304]),\n",
       " array([0.01372054]),\n",
       " array([0.01370485]),\n",
       " array([0.01367977]),\n",
       " array([0.01364301]),\n",
       " array([0.01362539]),\n",
       " array([0.01361365]),\n",
       " array([0.01359902]),\n",
       " array([0.01358626]),\n",
       " array([0.01356954]),\n",
       " array([0.01354478]),\n",
       " array([0.01352925]),\n",
       " array([0.01350308]),\n",
       " array([0.01346229]),\n",
       " array([0.01343888]),\n",
       " array([0.01340362]),\n",
       " array([0.01336008]),\n",
       " array([0.01329625]),\n",
       " array([0.0132452]),\n",
       " array([0.01321567]),\n",
       " array([0.01320152]),\n",
       " array([0.01317646]),\n",
       " array([0.01313021]),\n",
       " array([0.01304899]),\n",
       " array([0.01294004]),\n",
       " array([0.01288203]),\n",
       " array([0.01281158]),\n",
       " array([0.01274894]),\n",
       " array([0.01272635]),\n",
       " array([0.01269201]),\n",
       " array([0.01264758]),\n",
       " array([0.01259466]),\n",
       " array([0.01257753]),\n",
       " array([0.01255092]),\n",
       " array([0.01251253]),\n",
       " array([0.01249381]),\n",
       " array([0.01247558]),\n",
       " array([0.01246847]),\n",
       " array([0.01246286])]"
      ]
     },
     "execution_count": 37,
     "metadata": {},
     "output_type": "execute_result"
    }
   ],
   "source": [
    "T.J"
   ]
  },
  {
   "cell_type": "code",
   "execution_count": 38,
   "metadata": {},
   "outputs": [
    {
     "data": {
      "text/plain": [
       "[array([0.09274792]),\n",
       " array([0.09070786]),\n",
       " array([0.08753897]),\n",
       " array([0.03308847]),\n",
       " array([0.02863396]),\n",
       " array([0.02395845]),\n",
       " array([0.01700495]),\n",
       " array([0.00915837]),\n",
       " array([0.00818206]),\n",
       " array([0.00766079]),\n",
       " array([0.00703023]),\n",
       " array([0.00691413]),\n",
       " array([0.0070429]),\n",
       " array([0.00707782]),\n",
       " array([0.00710515]),\n",
       " array([0.00709889]),\n",
       " array([0.00703407]),\n",
       " array([0.00686286]),\n",
       " array([0.00655234]),\n",
       " array([0.00639944]),\n",
       " array([0.00633084]),\n",
       " array([0.006248]),\n",
       " array([0.00611325]),\n",
       " array([0.00601492]),\n",
       " array([0.00597726]),\n",
       " array([0.00598175]),\n",
       " array([0.00605664]),\n",
       " array([0.00625701]),\n",
       " array([0.0066025]),\n",
       " array([0.00684539]),\n",
       " array([0.0069927]),\n",
       " array([0.00709129]),\n",
       " array([0.00714895]),\n",
       " array([0.00717304]),\n",
       " array([0.0071808]),\n",
       " array([0.0072008]),\n",
       " array([0.00723557]),\n",
       " array([0.00731284]),\n",
       " array([0.00742573]),\n",
       " array([0.00756301]),\n",
       " array([0.00768886]),\n",
       " array([0.00782787]),\n",
       " array([0.00795447]),\n",
       " array([0.00798359]),\n",
       " array([0.00790233]),\n",
       " array([0.00781312]),\n",
       " array([0.00782448]),\n",
       " array([0.007819]),\n",
       " array([0.00780995]),\n",
       " array([0.00778495]),\n",
       " array([0.00775898]),\n",
       " array([0.00772419]),\n",
       " array([0.00769916]),\n",
       " array([0.00770665]),\n",
       " array([0.00782473]),\n",
       " array([0.00765552]),\n",
       " array([0.00741866]),\n",
       " array([0.00755607]),\n",
       " array([0.00772295]),\n",
       " array([0.00776292]),\n",
       " array([0.00778896]),\n",
       " array([0.00781363]),\n",
       " array([0.00787266]),\n",
       " array([0.00789806]),\n",
       " array([0.00791607]),\n",
       " array([0.00781535]),\n",
       " array([0.00793587]),\n",
       " array([0.00783753]),\n",
       " array([0.00775966]),\n",
       " array([0.00776948]),\n",
       " array([0.00777935]),\n",
       " array([0.0077723]),\n",
       " array([0.00783663]),\n",
       " array([0.00782684]),\n",
       " array([0.00788952]),\n",
       " array([0.00790859]),\n",
       " array([0.00779322]),\n",
       " array([0.00796285]),\n",
       " array([0.00791448]),\n",
       " array([0.00793642]),\n",
       " array([0.00780928]),\n",
       " array([0.00791897]),\n",
       " array([0.00796869]),\n",
       " array([0.00796255]),\n",
       " array([0.00795304]),\n",
       " array([0.00795186]),\n",
       " array([0.00791598]),\n",
       " array([0.00784616]),\n",
       " array([0.00786825]),\n",
       " array([0.00794686]),\n",
       " array([0.0080103]),\n",
       " array([0.00809362]),\n",
       " array([0.00811622]),\n",
       " array([0.00821076]),\n",
       " array([0.00827722]),\n",
       " array([0.00825265]),\n",
       " array([0.00833828]),\n",
       " array([0.0082228]),\n",
       " array([0.00829614]),\n",
       " array([0.00828471])]"
      ]
     },
     "execution_count": 38,
     "metadata": {},
     "output_type": "execute_result"
    }
   ],
   "source": [
    "T.testJ"
   ]
  },
  {
   "cell_type": "code",
   "execution_count": 39,
   "metadata": {},
   "outputs": [
    {
     "data": {
      "text/plain": [
       "0.006692612259749419"
      ]
     },
     "execution_count": 39,
     "metadata": {},
     "output_type": "execute_result"
    }
   ],
   "source": [
    "from sklearn.metrics import mean_absolute_error\n",
    "mean_absolute_error(T.J, T.testJ)"
   ]
  },
  {
   "cell_type": "code",
   "execution_count": 40,
   "metadata": {},
   "outputs": [],
   "source": [
    "yHat=NN.forward(X)"
   ]
  },
  {
   "cell_type": "code",
   "execution_count": 41,
   "metadata": {},
   "outputs": [
    {
     "data": {
      "text/plain": [
       "array([[0.62434582],\n",
       "       [0.51351681],\n",
       "       [0.53174405],\n",
       "       [0.56821124],\n",
       "       [0.28596673],\n",
       "       [0.29122836],\n",
       "       [0.31253641],\n",
       "       [0.70171274],\n",
       "       [0.77463862],\n",
       "       [0.33121671],\n",
       "       [0.42700518],\n",
       "       [0.32010582],\n",
       "       [0.44443253],\n",
       "       [0.71523924],\n",
       "       [0.77087171],\n",
       "       [0.3884068 ],\n",
       "       [0.35648447],\n",
       "       [0.33207332],\n",
       "       [0.59634444],\n",
       "       [0.6453102 ],\n",
       "       [0.57723555],\n",
       "       [0.63492618],\n",
       "       [0.28563091],\n",
       "       [0.35208319],\n",
       "       [0.44200234],\n",
       "       [0.70767985],\n",
       "       [0.66289609],\n",
       "       [0.386254  ],\n",
       "       [0.38197525],\n",
       "       [0.53615218],\n",
       "       [0.60494387],\n",
       "       [0.62144086],\n",
       "       [0.74340088],\n",
       "       [0.51386934],\n",
       "       [0.37218772],\n",
       "       [0.30853913],\n",
       "       [0.51155641],\n",
       "       [0.59755387],\n",
       "       [0.69930116],\n",
       "       [0.46544753],\n",
       "       [0.43281122],\n",
       "       [0.44073987],\n",
       "       [0.7362129 ],\n",
       "       [0.6134316 ],\n",
       "       [0.61585245],\n",
       "       [0.46296024],\n",
       "       [0.41059461],\n",
       "       [0.49915645],\n",
       "       [0.73072024],\n",
       "       [0.62982269],\n",
       "       [0.45521231],\n",
       "       [0.33115869],\n",
       "       [0.31079061],\n",
       "       [0.39785482],\n",
       "       [0.63253969],\n",
       "       [0.69453106],\n",
       "       [0.5964733 ],\n",
       "       [0.58826843]])"
      ]
     },
     "execution_count": 41,
     "metadata": {},
     "output_type": "execute_result"
    }
   ],
   "source": [
    "yHat"
   ]
  },
  {
   "cell_type": "code",
   "execution_count": 42,
   "metadata": {},
   "outputs": [
    {
     "data": {
      "text/plain": [
       "array([[0.66901409],\n",
       "       [0.6971831 ],\n",
       "       [0.97183099],\n",
       "       [0.5915493 ],\n",
       "       [0.28169014],\n",
       "       [0.26056338],\n",
       "       [0.46478873],\n",
       "       [0.99295775],\n",
       "       [0.67605634],\n",
       "       [0.25352113],\n",
       "       [0.45070423],\n",
       "       [0.        ],\n",
       "       [0.48591549],\n",
       "       [0.78169014],\n",
       "       [0.8028169 ],\n",
       "       [0.3028169 ],\n",
       "       [0.47183099],\n",
       "       [0.41549296],\n",
       "       [0.64788732],\n",
       "       [0.61267606],\n",
       "       [1.        ],\n",
       "       [0.47887324],\n",
       "       [0.3028169 ],\n",
       "       [0.38028169],\n",
       "       [0.5915493 ],\n",
       "       [0.8028169 ],\n",
       "       [0.47183099],\n",
       "       [0.26760563],\n",
       "       [0.4084507 ],\n",
       "       [0.32394366],\n",
       "       [0.45774648],\n",
       "       [0.81690141],\n",
       "       [0.75352113],\n",
       "       [0.43661972],\n",
       "       [0.45774648],\n",
       "       [0.38732394],\n",
       "       [0.46478873],\n",
       "       [0.73239437],\n",
       "       [0.51408451],\n",
       "       [0.28169014],\n",
       "       [0.19014085],\n",
       "       [0.51408451],\n",
       "       [0.50704225],\n",
       "       [0.75352113],\n",
       "       [0.54225352],\n",
       "       [0.26056338],\n",
       "       [0.3943662 ],\n",
       "       [0.62676056],\n",
       "       [0.79577465],\n",
       "       [0.70422535],\n",
       "       [0.53521127],\n",
       "       [0.40140845],\n",
       "       [0.12676056],\n",
       "       [0.33098592],\n",
       "       [0.41549296],\n",
       "       [0.55633803],\n",
       "       [0.5915493 ],\n",
       "       [0.51408451]])"
      ]
     },
     "execution_count": 42,
     "metadata": {},
     "output_type": "execute_result"
    }
   ],
   "source": [
    "y"
   ]
  },
  {
   "cell_type": "code",
   "execution_count": 43,
   "metadata": {},
   "outputs": [
    {
     "data": {
      "image/png": "[encoded data removed]",
      "text/plain": [
       "<Figure size 432x288 with 1 Axes>"
      ]
     },
     "metadata": {
      "needs_background": "light"
     },
     "output_type": "display_data"
    }
   ],
   "source": [
    "#Plot cost during training:\n",
    "plot.plot(y)\n",
    "plot.plot(yHat)\n",
    "plot.grid(1)\n",
    "plot.legend(['y', 'yHat'])\n",
    "plot.show()"
   ]
  },
  {
   "cell_type": "code",
   "execution_count": 44,
   "metadata": {},
   "outputs": [],
   "source": [
    "prediksi=NN.forward(dataprediksi)"
   ]
  },
  {
   "cell_type": "code",
   "execution_count": 45,
   "metadata": {},
   "outputs": [
    {
     "data": {
      "text/plain": [
       "array([[0.50155442],\n",
       "       [0.45844132],\n",
       "       [0.51954418],\n",
       "       [0.59045951]])"
      ]
     },
     "execution_count": 45,
     "metadata": {},
     "output_type": "execute_result"
    }
   ],
   "source": [
    "prediksi"
   ]
  },
  {
   "cell_type": "code",
   "execution_count": 46,
   "metadata": {},
   "outputs": [],
   "source": [
    "from sklearn.metrics import mean_squared_error "
   ]
  },
  {
   "cell_type": "code",
   "execution_count": 47,
   "metadata": {},
   "outputs": [
    {
     "data": {
      "text/plain": [
       "0.016343195575430746"
      ]
     },
     "execution_count": 47,
     "metadata": {},
     "output_type": "execute_result"
    }
   ],
   "source": [
    "Y_true= ([\t0.387323944\t]\t,\n",
    "[\t0.373239437\t]\t,\n",
    "[\t0.366197183\t]\t,\n",
    "[\t0.443661972\t]\t,\n",
    ")\n",
    "\n",
    "\n",
    "Y_pred=prediksi\n",
    "mean_squared_error(Y_true,Y_pred) "
   ]
  },
  {
   "cell_type": "code",
   "execution_count": 48,
   "metadata": {},
   "outputs": [
    {
     "data": {
      "text/plain": [
       "array([[0.41549296, 0.55633803, 0.5915493 , 0.51408451],\n",
       "       [0.55633803, 0.5915493 , 0.51408451, 0.38732394],\n",
       "       [0.5915493 , 0.51408451, 0.38732394, 0.37323944],\n",
       "       [0.51408451, 0.38732394, 0.37323944, 0.36619718]])"
      ]
     },
     "execution_count": 48,
     "metadata": {},
     "output_type": "execute_result"
    }
   ],
   "source": [
    "dataprediksi"
   ]
  },
  {
   "cell_type": "code",
   "execution_count": 49,
   "metadata": {},
   "outputs": [],
   "source": [
    "a=np.array([\t0.387323944\t,\t0.373239437\t,\t0.366197183\t,\t0.443661972\t])"
   ]
  },
  {
   "cell_type": "code",
   "execution_count": 50,
   "metadata": {},
   "outputs": [
    {
     "data": {
      "text/plain": [
       "array([0.62648846])"
      ]
     },
     "execution_count": 50,
     "metadata": {},
     "output_type": "execute_result"
    }
   ],
   "source": [
    "#prediksi 1\n",
    "prediksi=NN.forward(a)\n",
    "prediksi"
   ]
  },
  {
   "cell_type": "code",
   "execution_count": 51,
   "metadata": {},
   "outputs": [
    {
     "data": {
      "text/plain": [
       "array([0.67047966])"
      ]
     },
     "execution_count": 51,
     "metadata": {},
     "output_type": "execute_result"
    }
   ],
   "source": [
    "#prediksi 2\n",
    "c=prediksi\n",
    "b=a[1:]\n",
    "d=np.concatenate((b,c))\n",
    "prediksi=NN.forward(d)\n",
    "prediksi"
   ]
  },
  {
   "cell_type": "code",
   "execution_count": 52,
   "metadata": {},
   "outputs": [
    {
     "data": {
      "text/plain": [
       "array([0.58644302])"
      ]
     },
     "execution_count": 52,
     "metadata": {},
     "output_type": "execute_result"
    }
   ],
   "source": [
    "#prediksi 3\n",
    "c=prediksi\n",
    "b=d[1:]\n",
    "e=np.concatenate((b,c))\n",
    "prediksi=NN.forward(e)\n",
    "prediksi"
   ]
  },
  {
   "cell_type": "code",
   "execution_count": 53,
   "metadata": {},
   "outputs": [
    {
     "data": {
      "text/plain": [
       "array([0.46680047])"
      ]
     },
     "execution_count": 53,
     "metadata": {},
     "output_type": "execute_result"
    }
   ],
   "source": [
    "#prediksi 4\n",
    "c=prediksi\n",
    "b=e[1:]\n",
    "f=np.concatenate((b,c))\n",
    "prediksi=NN.forward(f)\n",
    "prediksi"
   ]
  },
  {
   "cell_type": "code",
   "execution_count": 54,
   "metadata": {},
   "outputs": [
    {
     "data": {
      "text/plain": [
       "array([0.40240579])"
      ]
     },
     "execution_count": 54,
     "metadata": {},
     "output_type": "execute_result"
    }
   ],
   "source": [
    "#prediksi 5\n",
    "c=prediksi\n",
    "b=f[1:]\n",
    "g=np.concatenate((b,c))\n",
    "prediksi=NN.forward(g)\n",
    "prediksi"
   ]
  },
  {
   "cell_type": "code",
   "execution_count": 55,
   "metadata": {},
   "outputs": [
    {
     "data": {
      "text/plain": [
       "array([0.44672764])"
      ]
     },
     "execution_count": 55,
     "metadata": {},
     "output_type": "execute_result"
    }
   ],
   "source": [
    "#prediksi 6\n",
    "c=prediksi\n",
    "b=g[1:]\n",
    "h=np.concatenate((b,c))\n",
    "prediksi=NN.forward(h)\n",
    "prediksi"
   ]
  },
  {
   "cell_type": "code",
   "execution_count": null,
   "metadata": {},
   "outputs": [],
   "source": []
  }
 ],
 "metadata": {
  "kernelspec": {
   "display_name": "Python 3",
   "language": "python",
   "name": "python3"
  },
  "language_info": {
   "codemirror_mode": {
    "name": "ipython",
    "version": 3
   },
   "file_extension": ".py",
   "mimetype": "text/x-python",
   "name": "python",
   "nbconvert_exporter": "python",
   "pygments_lexer": "ipython3",
   "version": "3.7.3"
  }
 },
 "nbformat": 4,
 "nbformat_minor": 2
}
