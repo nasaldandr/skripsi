{
 "cells": [
  {
   "cell_type": "code",
   "execution_count": 1,
   "metadata": {},
   "outputs": [],
   "source": [
    "import numpy as np"
   ]
  },
  {
   "cell_type": "code",
   "execution_count": 2,
   "metadata": {},
   "outputs": [],
   "source": [
    "#UNTUK NILAI IMPOR\n",
    "class Neural_Network(object):\n",
    "    def __init__(self):\n",
    "        #parameters\n",
    "        self.inputLayerSize = 2\n",
    "        self.outputLayerSize = 1\n",
    "        self.hiddenLayerSize = 3\n",
    "\n",
    "        #weights\n",
    "        self.W1 = np.random.randn(self.inputLayerSize,\\\n",
    "                                 self.hiddenLayerSize)  \n",
    "        self.W2 = np.random.randn(self.hiddenLayerSize,\\\n",
    "                                 self.outputLayerSize)  \n",
    "    \n",
    "    def printw(self):\n",
    "        return self.W1\n",
    "        \n",
    "    def weight(self, W1, W2):\n",
    "        #Make an internal variable for the weight:\n",
    "        self.W1 = W1\n",
    "        self.W2 = W2\n",
    "        \n",
    "    def forward(self, X):\n",
    "        #forward propagation through our network\n",
    "        self.z2 = np.dot(X,self.W1)  \n",
    "        self.a2 = self.sigmoid(self.z2)  # activation function\n",
    "        self.z3 = np.dot(self.a2, self.W2) \n",
    "        yHat = self.sigmoid(self.z3)  # final activation function\n",
    "        return yHat\n",
    "\n",
    "    def sigmoid(self, z):\n",
    "        # activation function\n",
    "        return 1 / (1 + np.exp(-z))\n",
    "    \n",
    "    def sigmoidPrime(self,z): \n",
    "        #derivative of sigmoid     \n",
    "        return np.exp(-z)/((1+np.exp(-z))**2)\n",
    "    \n",
    "    def costFunction(self,X,y):\n",
    "        self.yHat = self.forward(X)\n",
    "        J=0.5*sum((y-self.yHat)**2)\n",
    "        return J\n",
    "    \n",
    "    def costFunctionPrime(self,X,y):\n",
    "        self.yHat=self.forward(X)\n",
    "        \n",
    "        delta3=np.multiply(-(y-self.yHat),self.sigmoidPrime(self.z3))\n",
    "        dJdW2=np.dot(self.a2.T,delta3)\n",
    "        \n",
    "        delta2=np.dot(delta3,self.W2.T)*self.sigmoidPrime(self.z2)\n",
    "        dJdW1=np.dot(X.T,delta2)\n",
    "        return dJdW1,dJdW2\n",
    "    \n",
    "    def predict(self):\n",
    "        prediksi = self.forward(dataprediksi)\n",
    "        return prediksi\n",
    "    \n",
    "    def getParams(self):\n",
    "        params=np.concatenate((self.W1.ravel(),self.W2.ravel()))\n",
    "        return params\n",
    "    \n",
    "    def setParams(self,params):\n",
    "        W1_start=0\n",
    "        W1_end=self.hiddenLayerSize*self.inputLayerSize\n",
    "        self.W1=np.reshape(params[W1_start:W1_end],\\\n",
    "                          (self.inputLayerSize,self.hiddenLayerSize))\n",
    "        W2_end=W1_end+self.hiddenLayerSize*self.outputLayerSize\n",
    "        self.W2=np.reshape(params[W1_end:W2_end],\\\n",
    "                          (self.hiddenLayerSize,self.outputLayerSize))\n",
    "        \n",
    "    def computeGradients(self, X, y):\n",
    "        dJdW1, dJdW2 = self.costFunctionPrime(X, y)\n",
    "        return np.concatenate((dJdW1.ravel(), dJdW2.ravel()))"
   ]
  },
  {
   "cell_type": "code",
   "execution_count": 3,
   "metadata": {},
   "outputs": [],
   "source": [
    "NN = Neural_Network()"
   ]
  },
  {
   "cell_type": "code",
   "execution_count": 4,
   "metadata": {},
   "outputs": [
    {
     "data": {
      "text/plain": [
       "array([[ 1.60265373, -0.28076642,  0.07920474],\n",
       "       [ 0.1052136 , -0.38767044,  0.051059  ]])"
      ]
     },
     "execution_count": 4,
     "metadata": {},
     "output_type": "execute_result"
    }
   ],
   "source": [
    "NN.W1"
   ]
  },
  {
   "cell_type": "code",
   "execution_count": 5,
   "metadata": {},
   "outputs": [
    {
     "data": {
      "text/plain": [
       "array([[ 0.64314661],\n",
       "       [-0.80256905],\n",
       "       [ 1.20208747]])"
      ]
     },
     "execution_count": 5,
     "metadata": {},
     "output_type": "execute_result"
    }
   ],
   "source": [
    "NN.W2"
   ]
  },
  {
   "cell_type": "code",
   "execution_count": 6,
   "metadata": {},
   "outputs": [],
   "source": [
    "#NILAI IMPOR\n",
    "X=np.array(([\t0.147887324\t,\t0.063380282\t]\t,\n",
    "[\t0.063380282\t,\t0.436619718\t]\t,\n",
    "[\t0.436619718\t,\t0.570422535\t]\t,\n",
    "[\t0.570422535\t,\t0.669014085\t]\t,\n",
    "[\t0.669014085\t,\t0.697183099\t]\t,\n",
    "[\t0.697183099\t,\t0.971830986\t]\t,\n",
    "[\t0.971830986\t,\t0.591549296\t]\t,\n",
    "[\t0.591549296\t,\t0.281690141\t]\t,\n",
    "[\t0.281690141\t,\t0.26056338\t]\t,\n",
    "[\t0.26056338\t,\t0.464788732\t]\t,\n",
    "[\t0.464788732\t,\t0.992957746\t]\t,\n",
    "[\t0.992957746\t,\t0.676056338\t]\t,\n",
    "[\t0.676056338\t,\t0.253521127\t]\t,\n",
    "[\t0.253521127\t,\t0.450704225\t]\t,\n",
    "[\t0.450704225\t,\t0\t]\t,\n",
    "[\t0\t,\t0.485915493\t]\t,\n",
    "[\t0.485915493\t,\t0.781690141\t]\t,\n",
    "[\t0.781690141\t,\t0.802816901\t]\t,\n",
    "[\t0.802816901\t,\t0.302816901\t]\t,\n",
    "[\t0.302816901\t,\t0.471830986\t]\t,\n",
    "[\t0.471830986\t,\t0.415492958\t]\t,\n",
    "[\t0.415492958\t,\t0.647887324\t]\t,\n",
    "[\t0.647887324\t,\t0.612676056\t]\t,\n",
    "[\t0.612676056\t,\t1\t]\t,\n",
    "[\t1\t,\t0.478873239\t]\t,\n",
    "[\t0.478873239\t,\t0.302816901\t]\t,\n",
    "[\t0.302816901\t,\t0.38028169\t]\t,\n",
    "[\t0.38028169\t,\t0.591549296\t]\t,\n",
    "[\t0.591549296\t,\t0.802816901\t]\t,\n",
    "[\t0.802816901\t,\t0.471830986\t]\t,\n",
    "[\t0.471830986\t,\t0.267605634\t]\t,\n",
    "[\t0.267605634\t,\t0.408450704\t]\t,\n",
    "[\t0.408450704\t,\t0.323943662\t]\t,\n",
    "[\t0.323943662\t,\t0.457746479\t]\t,\n",
    "[\t0.457746479\t,\t0.816901408\t]\t,\n",
    "[\t0.816901408\t,\t0.753521127\t]\t,\n",
    "[\t0.753521127\t,\t0.436619718\t]\t,\n",
    "[\t0.436619718\t,\t0.457746479\t]\t,\n",
    "[\t0.457746479\t,\t0.387323944\t]\t,\n",
    "[\t0.387323944\t,\t0.464788732\t]\t,\n",
    "[\t0.464788732\t,\t0.732394366\t]\t,\n",
    "[\t0.732394366\t,\t0.514084507\t]\t,\n",
    "[\t0.514084507\t,\t0.281690141\t]\t,\n",
    "[\t0.281690141\t,\t0.190140845\t]\t,\n",
    "[\t0.190140845\t,\t0.514084507\t]\t,\n",
    "[\t0.514084507\t,\t0.507042254\t]\t,\n",
    "[\t0.507042254\t,\t0.753521127\t]\t,\n",
    "[\t0.753521127\t,\t0.542253521\t]\t,\n",
    "[\t0.542253521\t,\t0.26056338\t]\t,\n",
    "[\t0.26056338\t,\t0.394366197\t]\t,\n",
    "[\t0.394366197\t,\t0.626760563\t]\t,\n",
    "[\t0.626760563\t,\t0.795774648\t]\t,\n",
    "[\t0.795774648\t,\t0.704225352\t]\t,\n",
    "[\t0.704225352\t,\t0.535211268\t]\t,\n",
    "[\t0.535211268\t,\t0.401408451\t]\t,\n",
    "[\t0.401408451\t,\t0.126760563\t]\t,\n",
    "[\t0.126760563\t,\t0.330985915\t]\t,\n",
    "[\t0.330985915\t,\t0.415492958\t]\t,\n",
    "[\t0.415492958\t,\t0.556338028\t]\t,\n",
    "[\t0.556338028\t,\t0.591549296\t]\t,\n",
    "\n",
    ")           \n",
    ",dtype=float)\n",
    "y=np.array(([\t0.436619718\t]\t,\n",
    "[\t0.570422535\t]\t,\n",
    "[\t0.669014085\t]\t,\n",
    "[\t0.697183099\t]\t,\n",
    "[\t0.971830986\t]\t,\n",
    "[\t0.591549296\t]\t,\n",
    "[\t0.281690141\t]\t,\n",
    "[\t0.26056338\t]\t,\n",
    "[\t0.464788732\t]\t,\n",
    "[\t0.992957746\t]\t,\n",
    "[\t0.676056338\t]\t,\n",
    "[\t0.253521127\t]\t,\n",
    "[\t0.450704225\t]\t,\n",
    "[\t0\t]\t,\n",
    "[\t0.485915493\t]\t,\n",
    "[\t0.781690141\t]\t,\n",
    "[\t0.802816901\t]\t,\n",
    "[\t0.302816901\t]\t,\n",
    "[\t0.471830986\t]\t,\n",
    "[\t0.415492958\t]\t,\n",
    "[\t0.647887324\t]\t,\n",
    "[\t0.612676056\t]\t,\n",
    "[\t1\t]\t,\n",
    "[\t0.478873239\t]\t,\n",
    "[\t0.302816901\t]\t,\n",
    "[\t0.38028169\t]\t,\n",
    "[\t0.591549296\t]\t,\n",
    "[\t0.802816901\t]\t,\n",
    "[\t0.471830986\t]\t,\n",
    "[\t0.267605634\t]\t,\n",
    "[\t0.408450704\t]\t,\n",
    "[\t0.323943662\t]\t,\n",
    "[\t0.457746479\t]\t,\n",
    "[\t0.816901408\t]\t,\n",
    "[\t0.753521127\t]\t,\n",
    "[\t0.436619718\t]\t,\n",
    "[\t0.457746479\t]\t,\n",
    "[\t0.387323944\t]\t,\n",
    "[\t0.464788732\t]\t,\n",
    "[\t0.732394366\t]\t,\n",
    "[\t0.514084507\t]\t,\n",
    "[\t0.281690141\t]\t,\n",
    "[\t0.190140845\t]\t,\n",
    "[\t0.514084507\t]\t,\n",
    "[\t0.507042254\t]\t,\n",
    "[\t0.753521127\t]\t,\n",
    "[\t0.542253521\t]\t,\n",
    "[\t0.26056338\t]\t,\n",
    "[\t0.394366197\t]\t,\n",
    "[\t0.626760563\t]\t,\n",
    "[\t0.795774648\t]\t,\n",
    "[\t0.704225352\t]\t,\n",
    "[\t0.535211268\t]\t,\n",
    "[\t0.401408451\t]\t,\n",
    "[\t0.126760563\t]\t,\n",
    "[\t0.330985915\t]\t,\n",
    "[\t0.415492958\t]\t,\n",
    "[\t0.556338028\t]\t,\n",
    "[\t0.591549296\t]\t,\n",
    "[\t0.514084507\t]\t,\n",
    "\n",
    ")\n",
    ",dtype=float)\n",
    "\n",
    "dataprediksi = np.array(([\t0.591549296\t,\t0.514084507\t]\t,\n",
    "[\t0.514084507\t,\t0.387323944\t]\t,\n",
    "[\t0.387323944\t,\t0.373239437\t]\t,\n",
    "[\t0.373239437\t,\t0.366197183\t]\t,\n",
    "\n",
    "\n",
    "\n",
    "), dtype=float)\n"
   ]
  },
  {
   "cell_type": "code",
   "execution_count": 7,
   "metadata": {},
   "outputs": [],
   "source": [
    "import matplotlib.pyplot as plot"
   ]
  },
  {
   "cell_type": "code",
   "execution_count": 8,
   "metadata": {},
   "outputs": [],
   "source": [
    "from scipy import optimize"
   ]
  },
  {
   "cell_type": "code",
   "execution_count": 9,
   "metadata": {},
   "outputs": [],
   "source": [
    "class trainer(object):\n",
    "    def __init__(self, N):\n",
    "        #Make Local reference to network:\n",
    "        self.N = N\n",
    "        \n",
    "    def callbackF(self, params):\n",
    "        self.N.setParams(params)\n",
    "        self.J.append(self.N.costFunction(self.X, self.y))   \n",
    "        \n",
    "    def costFunctionWrapper(self, params, X, y):\n",
    "        self.N.setParams(params)\n",
    "        cost = self.N.costFunction(X, y)\n",
    "        grad = self.N.computeGradients(X,y)\n",
    "        \n",
    "        return cost, grad\n",
    "        \n",
    "    def train(self, X, y):\n",
    "        #Make an internal variable for the callback function:\n",
    "        self.X = X\n",
    "        self.y = y\n",
    "\n",
    "        #Make empty list to store costs:\n",
    "        self.J = []\n",
    "        \n",
    "        params0 = self.N.getParams()\n",
    "\n",
    "        options = {'maxiter': 100, 'disp' : True}\n",
    "        _res = optimize.minimize(self.costFunctionWrapper, params0, jac=True, method='BFGS', \\\n",
    "                                 args=(X, y), options=options, callback=self.callbackF)\n",
    "\n",
    "        self.N.setParams(_res.x)\n",
    "        self.optimizationResults = _res"
   ]
  },
  {
   "cell_type": "code",
   "execution_count": 10,
   "metadata": {},
   "outputs": [],
   "source": [
    "NN=Neural_Network()"
   ]
  },
  {
   "cell_type": "code",
   "execution_count": 11,
   "metadata": {},
   "outputs": [],
   "source": [
    "T = trainer(NN)"
   ]
  },
  {
   "cell_type": "code",
   "execution_count": 12,
   "metadata": {},
   "outputs": [
    {
     "name": "stdout",
     "output_type": "stream",
     "text": [
      "Warning: Maximum number of iterations has been exceeded.\n",
      "         Current function value: 0.820391\n",
      "         Iterations: 100\n",
      "         Function evaluations: 110\n",
      "         Gradient evaluations: 110\n"
     ]
    }
   ],
   "source": [
    "#Train network with new data:\n",
    "T = trainer(NN)\n",
    "T.train(X,y)"
   ]
  },
  {
   "cell_type": "code",
   "execution_count": 13,
   "metadata": {},
   "outputs": [
    {
     "data": {
      "image/png": "[encoded data removed]",
      "text/plain": [
       "<Figure size 432x288 with 1 Axes>"
      ]
     },
     "metadata": {
      "needs_background": "light"
     },
     "output_type": "display_data"
    }
   ],
   "source": [
    "#Plot cost during training:\n",
    "plot.plot(T.J)\n",
    "plot.grid(1)\n",
    "plot.xlabel('Iterations')\n",
    "plot.ylabel('Cost')\n",
    "plot.show()"
   ]
  },
  {
   "cell_type": "code",
   "execution_count": 14,
   "metadata": {},
   "outputs": [],
   "source": [
    "#Training Data:\n",
    "trainX = np.array(([\t0.147887324\t,\t0.063380282\t]\t,\n",
    "[\t0.063380282\t,\t0.436619718\t]\t,\n",
    "[\t0.436619718\t,\t0.570422535\t]\t,\n",
    "[\t0.570422535\t,\t0.669014085\t]\t,\n",
    "[\t0.669014085\t,\t0.697183099\t]\t,\n",
    "[\t0.697183099\t,\t0.971830986\t]\t,\n",
    "[\t0.971830986\t,\t0.591549296\t]\t,\n",
    "[\t0.591549296\t,\t0.281690141\t]\t,\n",
    "[\t0.281690141\t,\t0.26056338\t]\t,\n",
    "[\t0.26056338\t,\t0.464788732\t]\t,\n",
    "[\t0.464788732\t,\t0.992957746\t]\t,\n",
    "[\t0.992957746\t,\t0.676056338\t]\t,\n",
    "[\t0.676056338\t,\t0.253521127\t]\t,\n",
    "[\t0.253521127\t,\t0.450704225\t]\t,\n",
    "[\t0.450704225\t,\t0\t]\t,\n",
    "[\t0\t,\t0.485915493\t]\t,\n",
    "[\t0.485915493\t,\t0.781690141\t]\t,\n",
    "[\t0.781690141\t,\t0.802816901\t]\t,\n",
    "[\t0.802816901\t,\t0.302816901\t]\t,\n",
    "[\t0.302816901\t,\t0.471830986\t]\t,\n",
    "[\t0.471830986\t,\t0.415492958\t]\t,\n",
    "[\t0.415492958\t,\t0.647887324\t]\t,\n",
    "[\t0.647887324\t,\t0.612676056\t]\t,\n",
    "[\t0.612676056\t,\t1\t]\t,\n",
    "[\t1\t,\t0.478873239\t]\t,\n",
    "[\t0.478873239\t,\t0.302816901\t]\t,\n",
    "[\t0.302816901\t,\t0.38028169\t]\t,\n",
    "[\t0.38028169\t,\t0.591549296\t]\t,\n",
    "[\t0.591549296\t,\t0.802816901\t]\t,\n",
    "[\t0.802816901\t,\t0.471830986\t]\t,\n",
    "[\t0.471830986\t,\t0.267605634\t]\t,\n",
    "[\t0.267605634\t,\t0.408450704\t]\t,\n",
    "[\t0.408450704\t,\t0.323943662\t]\t,\n",
    "[\t0.323943662\t,\t0.457746479\t]\t,\n",
    "[\t0.457746479\t,\t0.816901408\t]\t,\n",
    "[\t0.816901408\t,\t0.753521127\t]\t,\n",
    "[\t0.753521127\t,\t0.436619718\t]\t,\n",
    "[\t0.436619718\t,\t0.457746479\t]\t,\n",
    "[\t0.457746479\t,\t0.387323944\t]\t,\n",
    "[\t0.387323944\t,\t0.464788732\t]\t,\n",
    "[\t0.464788732\t,\t0.732394366\t]\t,\n",
    "[\t0.732394366\t,\t0.514084507\t]\t,\n",
    "[\t0.514084507\t,\t0.281690141\t]\t,\n",
    "[\t0.281690141\t,\t0.190140845\t]\t,\n",
    "[\t0.190140845\t,\t0.514084507\t]\t,\n",
    "[\t0.514084507\t,\t0.507042254\t]\t,\n",
    "[\t0.507042254\t,\t0.753521127\t]\t,\n",
    "\n",
    ")\n",
    ", dtype=float)\n",
    "trainY = np.array(([\t0.436619718\t]\t,\n",
    "[\t0.570422535\t]\t,\n",
    "[\t0.669014085\t]\t,\n",
    "[\t0.697183099\t]\t,\n",
    "[\t0.971830986\t]\t,\n",
    "[\t0.591549296\t]\t,\n",
    "[\t0.281690141\t]\t,\n",
    "[\t0.26056338\t]\t,\n",
    "[\t0.464788732\t]\t,\n",
    "[\t0.992957746\t]\t,\n",
    "[\t0.676056338\t]\t,\n",
    "[\t0.253521127\t]\t,\n",
    "[\t0.450704225\t]\t,\n",
    "[\t0\t]\t,\n",
    "[\t0.485915493\t]\t,\n",
    "[\t0.781690141\t]\t,\n",
    "[\t0.802816901\t]\t,\n",
    "[\t0.302816901\t]\t,\n",
    "[\t0.471830986\t]\t,\n",
    "[\t0.415492958\t]\t,\n",
    "[\t0.647887324\t]\t,\n",
    "[\t0.612676056\t]\t,\n",
    "[\t1\t]\t,\n",
    "[\t0.478873239\t]\t,\n",
    "[\t0.302816901\t]\t,\n",
    "[\t0.38028169\t]\t,\n",
    "[\t0.591549296\t]\t,\n",
    "[\t0.802816901\t]\t,\n",
    "[\t0.471830986\t]\t,\n",
    "[\t0.267605634\t]\t,\n",
    "[\t0.408450704\t]\t,\n",
    "[\t0.323943662\t]\t,\n",
    "[\t0.457746479\t]\t,\n",
    "[\t0.816901408\t]\t,\n",
    "[\t0.753521127\t]\t,\n",
    "[\t0.436619718\t]\t,\n",
    "[\t0.457746479\t]\t,\n",
    "[\t0.387323944\t]\t,\n",
    "[\t0.464788732\t]\t,\n",
    "[\t0.732394366\t]\t,\n",
    "[\t0.514084507\t]\t,\n",
    "[\t0.281690141\t]\t,\n",
    "[\t0.190140845\t]\t,\n",
    "[\t0.514084507\t]\t,\n",
    "[\t0.507042254\t]\t,\n",
    "[\t0.753521127\t]\t,\n",
    "[\t0.542253521\t]\t,\n",
    "\n",
    ")\n",
    ", dtype=float)\n",
    "\n",
    "#Testing Data:\n",
    "testX = np.array(([\t0.753521127\t,\t0.542253521\t]\t,\n",
    "[\t0.542253521\t,\t0.26056338\t]\t,\n",
    "[\t0.26056338\t,\t0.394366197\t]\t,\n",
    "[\t0.394366197\t,\t0.626760563\t]\t,\n",
    "[\t0.626760563\t,\t0.795774648\t]\t,\n",
    "[\t0.795774648\t,\t0.704225352\t]\t,\n",
    "[\t0.704225352\t,\t0.535211268\t]\t,\n",
    "[\t0.535211268\t,\t0.401408451\t]\t,\n",
    "[\t0.401408451\t,\t0.126760563\t]\t,\n",
    "[\t0.126760563\t,\t0.330985915\t]\t,\n",
    "[\t0.330985915\t,\t0.415492958\t]\t,\n",
    "[\t0.415492958\t,\t0.556338028\t]\t,\n",
    "[\t0.556338028\t,\t0.591549296\t]\t,\n",
    "\n",
    ")\n",
    ", dtype=float)\n",
    "testY = np.array(([\t0.26056338\t]\t,\n",
    "[\t0.394366197\t]\t,\n",
    "[\t0.626760563\t]\t,\n",
    "[\t0.795774648\t]\t,\n",
    "[\t0.704225352\t]\t,\n",
    "[\t0.535211268\t]\t,\n",
    "[\t0.401408451\t]\t,\n",
    "[\t0.126760563\t]\t,\n",
    "[\t0.330985915\t]\t,\n",
    "[\t0.415492958\t]\t,\n",
    "[\t0.556338028\t]\t,\n",
    "[\t0.591549296\t]\t,\n",
    "[\t0.514084507\t]\t,\n",
    "\n",
    ")\n",
    ", dtype=float)\n",
    "\n",
    "\n",
    "dataprediksi = np.array(([\t0.591549296\t,\t0.514084507\t]\t,\n",
    "[\t0.514084507\t,\t0.387323944\t]\t,\n",
    "[\t0.387323944\t,\t0.373239437\t]\t,\n",
    "[\t0.373239437\t,\t0.366197183\t]\t,\n",
    "\n",
    "\n",
    "), dtype=float)"
   ]
  },
  {
   "cell_type": "code",
   "execution_count": 15,
   "metadata": {},
   "outputs": [
    {
     "data": {
      "text/plain": [
       "array([[0.75352113, 0.54225352],\n",
       "       [0.54225352, 0.26056338],\n",
       "       [0.26056338, 0.3943662 ],\n",
       "       [0.3943662 , 0.62676056],\n",
       "       [0.62676056, 0.79577465],\n",
       "       [0.79577465, 0.70422535],\n",
       "       [0.70422535, 0.53521127],\n",
       "       [0.53521127, 0.40140845],\n",
       "       [0.40140845, 0.12676056],\n",
       "       [0.12676056, 0.33098592],\n",
       "       [0.33098592, 0.41549296],\n",
       "       [0.41549296, 0.55633803],\n",
       "       [0.55633803, 0.5915493 ]])"
      ]
     },
     "execution_count": 15,
     "metadata": {},
     "output_type": "execute_result"
    }
   ],
   "source": [
    "testX"
   ]
  },
  {
   "cell_type": "code",
   "execution_count": 16,
   "metadata": {},
   "outputs": [],
   "source": [
    "##Need to modify trainer class a bit to check testing error during training:\n",
    "class trainer(object):\n",
    "    def __init__(self, N):\n",
    "        #Make Local reference to network:\n",
    "        self.N = N\n",
    "        \n",
    "    def callbackF(self, params):\n",
    "        self.N.setParams(params)\n",
    "        self.J.append(self.N.costFunction(self.X, self.y))\n",
    "        self.testJ.append(self.N.costFunction(self.testX, self.testY))\n",
    "        \n",
    "    def costFunctionWrapper(self, params, X, y):\n",
    "        self.N.setParams(params)\n",
    "        cost = self.N.costFunction(X, y)\n",
    "        grad = self.N.computeGradients(X,y)\n",
    "        \n",
    "        return cost, grad\n",
    "        \n",
    "    def train(self, trainX, trainY, testX, testY):\n",
    "        #Make an internal variable for the callback function:\n",
    "        self.X = trainX\n",
    "        self.y = trainY\n",
    "        \n",
    "        self.testX = testX\n",
    "        self.testY = testY\n",
    "\n",
    "        #Make empty list to store training costs:\n",
    "        self.J = []\n",
    "        self.testJ = []\n",
    "        \n",
    "        params0 = self.N.getParams()\n",
    "\n",
    "        options = {'maxiter': 100, 'disp' : True}\n",
    "        _res = optimize.minimize(self.costFunctionWrapper, params0, jac=True, method='BFGS', \\\n",
    "                                 args=(trainX, trainY), options=options, callback=self.callbackF)\n",
    "\n",
    "        self.N.setParams(_res.x)\n",
    "        self.optimizationResults = _res"
   ]
  },
  {
   "cell_type": "code",
   "execution_count": 17,
   "metadata": {},
   "outputs": [
    {
     "name": "stdout",
     "output_type": "stream",
     "text": [
      "Warning: Maximum number of iterations has been exceeded.\n",
      "         Current function value: 0.753966\n",
      "         Iterations: 100\n",
      "         Function evaluations: 112\n",
      "         Gradient evaluations: 112\n"
     ]
    }
   ],
   "source": [
    "#Train network with new data:\n",
    "NN = Neural_Network()\n",
    "\n",
    "T = trainer(NN)\n",
    "T.train(trainX, trainY, testX, testY)"
   ]
  },
  {
   "cell_type": "code",
   "execution_count": 18,
   "metadata": {},
   "outputs": [
    {
     "data": {
      "image/png": "[encoded data removed]",
      "text/plain": [
       "<Figure size 432x288 with 1 Axes>"
      ]
     },
     "metadata": {
      "needs_background": "light"
     },
     "output_type": "display_data"
    }
   ],
   "source": [
    "#Plot cost during training:\n",
    "plot.plot(T.J)\n",
    "plot.plot(T.testJ)\n",
    "plot.grid(1)\n",
    "plot.xlabel('Iterations')\n",
    "plot.ylabel('Cost')\n",
    "plot.legend(['Training', 'Testing'])\n",
    "plot.show()"
   ]
  },
  {
   "cell_type": "code",
   "execution_count": 19,
   "metadata": {},
   "outputs": [
    {
     "data": {
      "text/plain": [
       "[array([1.09225284]),\n",
       " array([1.04220328]),\n",
       " array([0.95603021]),\n",
       " array([0.86693515]),\n",
       " array([0.86403868]),\n",
       " array([0.8600482]),\n",
       " array([0.85741273]),\n",
       " array([0.85425243]),\n",
       " array([0.85272343]),\n",
       " array([0.85260364]),\n",
       " array([0.85255012]),\n",
       " array([0.85245447]),\n",
       " array([0.85227881]),\n",
       " array([0.85195768]),\n",
       " array([0.85139184]),\n",
       " array([0.85049282]),\n",
       " array([0.84936722]),\n",
       " array([0.84820778]),\n",
       " array([0.8465686]),\n",
       " array([0.84565948]),\n",
       " array([0.84509104]),\n",
       " array([0.84436701]),\n",
       " array([0.84395468]),\n",
       " array([0.84325627]),\n",
       " array([0.84207548]),\n",
       " array([0.84009982]),\n",
       " array([0.83772934]),\n",
       " array([0.8354962]),\n",
       " array([0.83452155]),\n",
       " array([0.83420155]),\n",
       " array([0.83376391]),\n",
       " array([0.83302188]),\n",
       " array([0.83177095]),\n",
       " array([0.82975594]),\n",
       " array([0.82706717]),\n",
       " array([0.82491921]),\n",
       " array([0.82132273]),\n",
       " array([0.81547602]),\n",
       " array([0.80749245]),\n",
       " array([0.79885431]),\n",
       " array([0.79324711]),\n",
       " array([0.78879265]),\n",
       " array([0.78205529]),\n",
       " array([0.77541685]),\n",
       " array([0.77155238]),\n",
       " array([0.77018493]),\n",
       " array([0.76984674]),\n",
       " array([0.76977492]),\n",
       " array([0.76975565]),\n",
       " array([0.76973782]),\n",
       " array([0.76971945]),\n",
       " array([0.76970828]),\n",
       " array([0.76969965]),\n",
       " array([0.76968608]),\n",
       " array([0.76966356]),\n",
       " array([0.76962561]),\n",
       " array([0.76956527]),\n",
       " array([0.76948328]),\n",
       " array([0.76941337]),\n",
       " array([0.76933514]),\n",
       " array([0.76924799]),\n",
       " array([0.76909173]),\n",
       " array([0.76880048]),\n",
       " array([0.76824574]),\n",
       " array([0.76718172]),\n",
       " array([0.76522084]),\n",
       " array([0.76269346]),\n",
       " array([0.76218141]),\n",
       " array([0.7617909]),\n",
       " array([0.76164727]),\n",
       " array([0.76153694]),\n",
       " array([0.76134732]),\n",
       " array([0.76103832]),\n",
       " array([0.76080244]),\n",
       " array([0.76040497]),\n",
       " array([0.75975711]),\n",
       " array([0.75904139]),\n",
       " array([0.75897306]),\n",
       " array([0.75894496]),\n",
       " array([0.7589379]),\n",
       " array([0.75893534]),\n",
       " array([0.75893236]),\n",
       " array([0.7589307]),\n",
       " array([0.75892889]),\n",
       " array([0.75892584]),\n",
       " array([0.75892035]),\n",
       " array([0.75891022]),\n",
       " array([0.75889151]),\n",
       " array([0.75885738]),\n",
       " array([0.75879743]),\n",
       " array([0.75870063]),\n",
       " array([0.75856048]),\n",
       " array([0.7583725]),\n",
       " array([0.75814029]),\n",
       " array([0.75785077]),\n",
       " array([0.75770069]),\n",
       " array([0.75762481]),\n",
       " array([0.75756903]),\n",
       " array([0.75752195]),\n",
       " array([0.75396635])]"
      ]
     },
     "execution_count": 19,
     "metadata": {},
     "output_type": "execute_result"
    }
   ],
   "source": [
    "T.J"
   ]
  },
  {
   "cell_type": "code",
   "execution_count": 20,
   "metadata": {},
   "outputs": [
    {
     "data": {
      "text/plain": [
       "[array([0.19908292]),\n",
       " array([0.18388459]),\n",
       " array([0.16230776]),\n",
       " array([0.14084242]),\n",
       " array([0.13745722]),\n",
       " array([0.13139069]),\n",
       " array([0.12685873]),\n",
       " array([0.12220108]),\n",
       " array([0.12074427]),\n",
       " array([0.12045614]),\n",
       " array([0.12025654]),\n",
       " array([0.12002056]),\n",
       " array([0.1197234]),\n",
       " array([0.11932543]),\n",
       " array([0.11879756]),\n",
       " array([0.11825519]),\n",
       " array([0.11860543]),\n",
       " array([0.11958237]),\n",
       " array([0.11892622]),\n",
       " array([0.11617534]),\n",
       " array([0.11630069]),\n",
       " array([0.11443886]),\n",
       " array([0.11356669]),\n",
       " array([0.11325333]),\n",
       " array([0.11256703]),\n",
       " array([0.1129122]),\n",
       " array([0.11141911]),\n",
       " array([0.11540839]),\n",
       " array([0.11815533]),\n",
       " array([0.11719499]),\n",
       " array([0.11803385]),\n",
       " array([0.11923716]),\n",
       " array([0.12059975]),\n",
       " array([0.12241534]),\n",
       " array([0.12474555]),\n",
       " array([0.124004]),\n",
       " array([0.12162325]),\n",
       " array([0.11722446]),\n",
       " array([0.1139268]),\n",
       " array([0.10554433]),\n",
       " array([0.1001154]),\n",
       " array([0.10021709]),\n",
       " array([0.10071289]),\n",
       " array([0.10058774]),\n",
       " array([0.09932506]),\n",
       " array([0.09803188]),\n",
       " array([0.09709666]),\n",
       " array([0.09655443]),\n",
       " array([0.09620147]),\n",
       " array([0.0957955]),\n",
       " array([0.09534246]),\n",
       " array([0.0951351]),\n",
       " array([0.09515019]),\n",
       " array([0.09534983]),\n",
       " array([0.09575221]),\n",
       " array([0.09642559]),\n",
       " array([0.09755318]),\n",
       " array([0.09930576]),\n",
       " array([0.09993109]),\n",
       " array([0.10004828]),\n",
       " array([0.10018777]),\n",
       " array([0.10046335]),\n",
       " array([0.10101025]),\n",
       " array([0.10207149]),\n",
       " array([0.10400252]),\n",
       " array([0.10662395]),\n",
       " array([0.10566582]),\n",
       " array([0.09422167]),\n",
       " array([0.09427084]),\n",
       " array([0.0941401]),\n",
       " array([0.09282873]),\n",
       " array([0.09052272]),\n",
       " array([0.08792251]),\n",
       " array([0.08687533]),\n",
       " array([0.08646281]),\n",
       " array([0.08694553]),\n",
       " array([0.09140799]),\n",
       " array([0.09171305]),\n",
       " array([0.09304585]),\n",
       " array([0.09292594]),\n",
       " array([0.0928589]),\n",
       " array([0.09289286]),\n",
       " array([0.09294669]),\n",
       " array([0.09301696]),\n",
       " array([0.09309023]),\n",
       " array([0.0931743]),\n",
       " array([0.0932811]),\n",
       " array([0.09343338]),\n",
       " array([0.09366715]),\n",
       " array([0.09404349]),\n",
       " array([0.09464258]),\n",
       " array([0.09536359]),\n",
       " array([0.09556649]),\n",
       " array([0.09646254]),\n",
       " array([0.09562228]),\n",
       " array([0.09603306]),\n",
       " array([0.09572319]),\n",
       " array([0.09622295]),\n",
       " array([0.09727458]),\n",
       " array([0.11444536])]"
      ]
     },
     "execution_count": 20,
     "metadata": {},
     "output_type": "execute_result"
    }
   ],
   "source": [
    "T.testJ"
   ]
  },
  {
   "cell_type": "code",
   "execution_count": 21,
   "metadata": {},
   "outputs": [
    {
     "data": {
      "text/plain": [
       "0.693666877699461"
      ]
     },
     "execution_count": 21,
     "metadata": {},
     "output_type": "execute_result"
    }
   ],
   "source": [
    "from sklearn.metrics import mean_absolute_error\n",
    "mean_absolute_error(T.J, T.testJ)"
   ]
  },
  {
   "cell_type": "code",
   "execution_count": 22,
   "metadata": {},
   "outputs": [],
   "source": [
    "yHat = NN.forward(X)"
   ]
  },
  {
   "cell_type": "code",
   "execution_count": 23,
   "metadata": {},
   "outputs": [
    {
     "data": {
      "text/plain": [
       "array([[0.46496305],\n",
       "       [0.61528049],\n",
       "       [0.61420535],\n",
       "       [0.61386471],\n",
       "       [0.6119972 ],\n",
       "       [0.61458472],\n",
       "       [0.32179031],\n",
       "       [0.35071441],\n",
       "       [0.56055413],\n",
       "       [0.6151728 ],\n",
       "       [0.61458897],\n",
       "       [0.34234619],\n",
       "       [0.37222991],\n",
       "       [0.61525699],\n",
       "       [0.49398815],\n",
       "       [0.61487584],\n",
       "       [0.61460421],\n",
       "       [0.61290135],\n",
       "       [0.36395884],\n",
       "       [0.61488955],\n",
       "       [0.56026222],\n",
       "       [0.6146423 ],\n",
       "       [0.60110522],\n",
       "       [0.61458908],\n",
       "       [0.32546303],\n",
       "       [0.37574549],\n",
       "       [0.61162153],\n",
       "       [0.61468177],\n",
       "       [0.61456238],\n",
       "       [0.32720895],\n",
       "       [0.36337319],\n",
       "       [0.61498935],\n",
       "       [0.49404432],\n",
       "       [0.61442106],\n",
       "       [0.61460123],\n",
       "       [0.60405921],\n",
       "       [0.32974274],\n",
       "       [0.60474247],\n",
       "       [0.53664076],\n",
       "       [0.61203527],\n",
       "       [0.61461248],\n",
       "       [0.37880918],\n",
       "       [0.35469151],\n",
       "       [0.44819291],\n",
       "       [0.6149514 ],\n",
       "       [0.60088462],\n",
       "       [0.61459568],\n",
       "       [0.39484091],\n",
       "       [0.35558459],\n",
       "       [0.6149708 ],\n",
       "       [0.61466562],\n",
       "       [0.61449941],\n",
       "       [0.59141549],\n",
       "       [0.45105032],\n",
       "       [0.44753152],\n",
       "       [0.40896384],\n",
       "       [0.61743447],\n",
       "       [0.6123148 ],\n",
       "       [0.61430093],\n",
       "       [0.61071177]])"
      ]
     },
     "execution_count": 23,
     "metadata": {},
     "output_type": "execute_result"
    }
   ],
   "source": [
    "yHat"
   ]
  },
  {
   "cell_type": "code",
   "execution_count": 24,
   "metadata": {},
   "outputs": [
    {
     "data": {
      "text/plain": [
       "array([[0.43661972],\n",
       "       [0.57042253],\n",
       "       [0.66901409],\n",
       "       [0.6971831 ],\n",
       "       [0.97183099],\n",
       "       [0.5915493 ],\n",
       "       [0.28169014],\n",
       "       [0.26056338],\n",
       "       [0.46478873],\n",
       "       [0.99295775],\n",
       "       [0.67605634],\n",
       "       [0.25352113],\n",
       "       [0.45070423],\n",
       "       [0.        ],\n",
       "       [0.48591549],\n",
       "       [0.78169014],\n",
       "       [0.8028169 ],\n",
       "       [0.3028169 ],\n",
       "       [0.47183099],\n",
       "       [0.41549296],\n",
       "       [0.64788732],\n",
       "       [0.61267606],\n",
       "       [1.        ],\n",
       "       [0.47887324],\n",
       "       [0.3028169 ],\n",
       "       [0.38028169],\n",
       "       [0.5915493 ],\n",
       "       [0.8028169 ],\n",
       "       [0.47183099],\n",
       "       [0.26760563],\n",
       "       [0.4084507 ],\n",
       "       [0.32394366],\n",
       "       [0.45774648],\n",
       "       [0.81690141],\n",
       "       [0.75352113],\n",
       "       [0.43661972],\n",
       "       [0.45774648],\n",
       "       [0.38732394],\n",
       "       [0.46478873],\n",
       "       [0.73239437],\n",
       "       [0.51408451],\n",
       "       [0.28169014],\n",
       "       [0.19014085],\n",
       "       [0.51408451],\n",
       "       [0.50704225],\n",
       "       [0.75352113],\n",
       "       [0.54225352],\n",
       "       [0.26056338],\n",
       "       [0.3943662 ],\n",
       "       [0.62676056],\n",
       "       [0.79577465],\n",
       "       [0.70422535],\n",
       "       [0.53521127],\n",
       "       [0.40140845],\n",
       "       [0.12676056],\n",
       "       [0.33098592],\n",
       "       [0.41549296],\n",
       "       [0.55633803],\n",
       "       [0.5915493 ],\n",
       "       [0.51408451]])"
      ]
     },
     "execution_count": 24,
     "metadata": {},
     "output_type": "execute_result"
    }
   ],
   "source": [
    "y"
   ]
  },
  {
   "cell_type": "code",
   "execution_count": 25,
   "metadata": {},
   "outputs": [
    {
     "data": {
      "text/plain": [
       "0.028947057068244818"
      ]
     },
     "execution_count": 25,
     "metadata": {},
     "output_type": "execute_result"
    }
   ],
   "source": [
    "from sklearn.metrics import mean_squared_error \n",
    "mean_squared_error(y,yHat) "
   ]
  },
  {
   "cell_type": "code",
   "execution_count": 26,
   "metadata": {},
   "outputs": [
    {
     "data": {
      "image/png": "[encoded data removed]",
      "text/plain": [
       "<Figure size 432x288 with 1 Axes>"
      ]
     },
     "metadata": {
      "needs_background": "light"
     },
     "output_type": "display_data"
    }
   ],
   "source": [
    "#Plot cost during training:\n",
    "plot.plot(y)\n",
    "plot.plot(yHat)\n",
    "plot.grid(1)\n",
    "plot.legend(['y', 'yHat'])\n",
    "plot.show()"
   ]
  },
  {
   "cell_type": "code",
   "execution_count": 27,
   "metadata": {},
   "outputs": [],
   "source": [
    "#Regularization Parameter:\n",
    "Lambda = 0.0001"
   ]
  },
  {
   "cell_type": "code",
   "execution_count": 28,
   "metadata": {},
   "outputs": [],
   "source": [
    "#Need to make changes to costFunction and costFunctionPrim:\n",
    "def costFunction(self, X, y):\n",
    "    #Compute cost for given X,y, use weights already stored in class.\n",
    "    self.yHat = self.forward(X)\n",
    "    #We don't want cost to increase with the number of examples, so normalize by dividing the error term by number of examples(X.shape[0])\n",
    "    J = 0.5*sum((y-self.yHat)**2)/X.shape[0] + (self.Lambda/2)*(sum(self.W1**2)+sum(self.W2**2))\n",
    "    return J\n",
    "\n",
    "def costFunctionPrime(self, X, y):\n",
    "    #Compute derivative with respect to W and W2 for a given X and y:\n",
    "    self.yHat = self.forward(X)\n",
    "\n",
    "    delta3 = np.multiply(-(y-self.yHat), self.sigmoidPrime(self.z3))\n",
    "    #Add gradient of regularization term:\n",
    "    dJdW2 = np.dot(self.a2.T, delta3)/X.shape[0] + self.Lambda*self.W2\n",
    "\n",
    "    delta2 = np.dot(delta3, self.W2.T)*self.sigmoidPrime(self.z2)\n",
    "    #Add gradient of regularization term:\n",
    "    dJdW1 = np.dot(X.T, delta2)/X.shape[0] + self.Lambda*self.W1\n",
    "\n",
    "    return dJdW1, dJdW2"
   ]
  },
  {
   "cell_type": "code",
   "execution_count": 29,
   "metadata": {},
   "outputs": [],
   "source": [
    "#New complete class, with changes:\n",
    "class Neural_Network(object):\n",
    "    def __init__(self, Lambda=0.0001):        \n",
    "        #Define Hyperparameters\n",
    "        self.inputLayerSize = 2\n",
    "        self.outputLayerSize = 1\n",
    "        self.hiddenLayerSize = 3\n",
    "        \n",
    "        #Weights (parameters)\n",
    "        self.W1 = np.random.randn(self.inputLayerSize,self.hiddenLayerSize)\n",
    "        self.W2 = np.random.randn(self.hiddenLayerSize,self.outputLayerSize)\n",
    "        \n",
    "        #Regularization Parameter:\n",
    "        self.Lambda = Lambda\n",
    "        \n",
    "    def forward(self, X):\n",
    "        #Propogate inputs though network\n",
    "        self.z2 = np.dot(X, self.W1)\n",
    "        self.a2 = self.sigmoid(self.z2)\n",
    "        self.z3 = np.dot(self.a2, self.W2)\n",
    "        yHat = self.sigmoid(self.z3) \n",
    "        return yHat\n",
    "        \n",
    "    def sigmoid(self, z):\n",
    "        #Apply sigmoid activation function to scalar, vector, or matrix\n",
    "        return 1/(1+np.exp(-z))\n",
    "    \n",
    "    def sigmoidPrime(self,z):\n",
    "        #Gradient of sigmoid\n",
    "        return np.exp(-z)/((1+np.exp(-z))**2)\n",
    "    \n",
    "    def costFunction(self, X, y):\n",
    "        #Compute cost for given X,y, use weights already stored in class.\n",
    "        self.yHat = self.forward(X)\n",
    "        J = 0.5*sum((y-self.yHat)**2)/X.shape[0] + (self.Lambda/2)*(np.sum(self.W1**2)+np.sum(self.W2**2))\n",
    "        return J\n",
    "        \n",
    "    def costFunctionPrime(self, X, y):\n",
    "        #Compute derivative with respect to W and W2 for a given X and y:\n",
    "        self.yHat = self.forward(X)\n",
    "        \n",
    "        delta3 = np.multiply(-(y-self.yHat), self.sigmoidPrime(self.z3))\n",
    "        #Add gradient of regularization term:\n",
    "        dJdW2 = np.dot(self.a2.T, delta3)/X.shape[0] + self.Lambda*self.W2\n",
    "        \n",
    "        delta2 = np.dot(delta3, self.W2.T)*self.sigmoidPrime(self.z2)\n",
    "        #Add gradient of regularization term:\n",
    "        dJdW1 = np.dot(X.T, delta2)/X.shape[0] + self.Lambda*self.W1\n",
    "        \n",
    "        return dJdW1, dJdW2\n",
    "    \n",
    "    def predict(self):\n",
    "        prediksi = self.forward(dataprediksi)\n",
    "        return prediksi\n",
    "    \n",
    "    #Helper functions for interacting with other methods/classes\n",
    "    def getParams(self):\n",
    "        #Get W1 and W2 Rolled into vector:\n",
    "        params = np.concatenate((self.W1.ravel(), self.W2.ravel()))\n",
    "        return params\n",
    "    \n",
    "    def setParams(self, params):\n",
    "        #Set W1 and W2 using single parameter vector:\n",
    "        W1_start = 0\n",
    "        W1_end = self.hiddenLayerSize*self.inputLayerSize\n",
    "        self.W1 = np.reshape(params[W1_start:W1_end], \\\n",
    "                             (self.inputLayerSize, self.hiddenLayerSize))\n",
    "        W2_end = W1_end + self.hiddenLayerSize*self.outputLayerSize\n",
    "        self.W2 = np.reshape(params[W1_end:W2_end], \\\n",
    "                             (self.hiddenLayerSize, self.outputLayerSize))\n",
    "        \n",
    "    def computeGradients(self, X, y):\n",
    "        dJdW1, dJdW2 = self.costFunctionPrime(X, y)\n",
    "        return np.concatenate((dJdW1.ravel(), dJdW2.ravel()))"
   ]
  },
  {
   "cell_type": "code",
   "execution_count": 30,
   "metadata": {},
   "outputs": [],
   "source": [
    "def computeNumericalGradient(N, X, y):\n",
    "    paramsInitial = N.getParams()\n",
    "    numgrad = np.zeros(paramsInitial.shape)\n",
    "    perturb = np.zeros(paramsInitial.shape)\n",
    "    e = 1e-4\n",
    "\n",
    "    for p in range(len(paramsInitial)):\n",
    "        #Set perturbation vector\n",
    "        perturb[p] = e\n",
    "        N.setParams(paramsInitial + perturb)\n",
    "        loss2 = N.costFunction(X, y)\n",
    "            \n",
    "        N.setParams(paramsInitial - perturb)\n",
    "        loss1 = N.costFunction(X, y)\n",
    "\n",
    "        #Compute Numerical Gradient\n",
    "        numgrad[p] = (loss2 - loss1) / (2*e)\n",
    "\n",
    "            #Return the value we changed to zero:\n",
    "        perturb[p] = 0\n",
    "            \n",
    "    #Return Params to original value:\n",
    "    N.setParams(paramsInitial)\n",
    "\n",
    "    return numgrad "
   ]
  },
  {
   "cell_type": "code",
   "execution_count": 31,
   "metadata": {},
   "outputs": [],
   "source": [
    "NN = Neural_Network(Lambda=0.0001)"
   ]
  },
  {
   "cell_type": "code",
   "execution_count": 32,
   "metadata": {},
   "outputs": [],
   "source": [
    "#Make sure our gradients our correct after making changes:\n",
    "numgrad = computeNumericalGradient(NN, X, y)\n",
    "grad = NN.computeGradients(X,y)"
   ]
  },
  {
   "cell_type": "code",
   "execution_count": 33,
   "metadata": {},
   "outputs": [
    {
     "data": {
      "text/plain": [
       "5.563321151451852e-10"
      ]
     },
     "execution_count": 33,
     "metadata": {},
     "output_type": "execute_result"
    }
   ],
   "source": [
    "#Should be less than 1e-8:\n",
    "np.linalg.norm(grad-numgrad)/np.linalg.norm(grad+numgrad)"
   ]
  },
  {
   "cell_type": "code",
   "execution_count": 34,
   "metadata": {},
   "outputs": [],
   "source": [
    "T = trainer(NN)"
   ]
  },
  {
   "cell_type": "code",
   "execution_count": 35,
   "metadata": {},
   "outputs": [
    {
     "name": "stdout",
     "output_type": "stream",
     "text": [
      "Optimization terminated successfully.\n",
      "         Current function value: 0.017097\n",
      "         Iterations: 77\n",
      "         Function evaluations: 79\n",
      "         Gradient evaluations: 79\n"
     ]
    }
   ],
   "source": [
    "T.train(X,y,testX,testY)"
   ]
  },
  {
   "cell_type": "code",
   "execution_count": 36,
   "metadata": {},
   "outputs": [
    {
     "data": {
      "image/png": "[encoded data removed]",
      "text/plain": [
       "<Figure size 432x288 with 1 Axes>"
      ]
     },
     "metadata": {
      "needs_background": "light"
     },
     "output_type": "display_data"
    }
   ],
   "source": [
    "plot.plot(T.J)\n",
    "plot.plot(T.testJ)\n",
    "plot.grid(1)\n",
    "plot.xlabel('Iterations')\n",
    "plot.ylabel('Cost')\n",
    "plot.legend(['Training', 'Testing'])\n",
    "plot.show()"
   ]
  },
  {
   "cell_type": "code",
   "execution_count": 37,
   "metadata": {},
   "outputs": [
    {
     "data": {
      "text/plain": [
       "[array([0.0296647]),\n",
       " array([0.02232359]),\n",
       " array([0.02206792]),\n",
       " array([0.02206174]),\n",
       " array([0.02205359]),\n",
       " array([0.02203864]),\n",
       " array([0.02201064]),\n",
       " array([0.02195818]),\n",
       " array([0.02186113]),\n",
       " array([0.02168649]),\n",
       " array([0.02138769]),\n",
       " array([0.02091696]),\n",
       " array([0.02031162]),\n",
       " array([0.01970672]),\n",
       " array([0.0192998]),\n",
       " array([0.01919606]),\n",
       " array([0.01913732]),\n",
       " array([0.019122]),\n",
       " array([0.01910919]),\n",
       " array([0.01908543]),\n",
       " array([0.01904052]),\n",
       " array([0.01895541]),\n",
       " array([0.01879539]),\n",
       " array([0.0185008]),\n",
       " array([0.01799216]),\n",
       " array([0.0174151]),\n",
       " array([0.01736971]),\n",
       " array([0.0173582]),\n",
       " array([0.01733956]),\n",
       " array([0.01731786]),\n",
       " array([0.01731663]),\n",
       " array([0.01731595]),\n",
       " array([0.01731474]),\n",
       " array([0.01731252]),\n",
       " array([0.01730842]),\n",
       " array([0.01730087]),\n",
       " array([0.01728741]),\n",
       " array([0.01726499]),\n",
       " array([0.01723356]),\n",
       " array([0.01721068]),\n",
       " array([0.0171762]),\n",
       " array([0.01714675]),\n",
       " array([0.01714311]),\n",
       " array([0.01714296]),\n",
       " array([0.0171429]),\n",
       " array([0.01714287]),\n",
       " array([0.01714282]),\n",
       " array([0.01714272]),\n",
       " array([0.01714255]),\n",
       " array([0.01714222]),\n",
       " array([0.01714162]),\n",
       " array([0.01714052]),\n",
       " array([0.0171386]),\n",
       " array([0.01713534]),\n",
       " array([0.01713015]),\n",
       " array([0.01712257]),\n",
       " array([0.01711511]),\n",
       " array([0.01710769]),\n",
       " array([0.01710397]),\n",
       " array([0.01710336]),\n",
       " array([0.01710334]),\n",
       " array([0.01710334]),\n",
       " array([0.01710334]),\n",
       " array([0.01710333]),\n",
       " array([0.01710332]),\n",
       " array([0.01710331]),\n",
       " array([0.01710327]),\n",
       " array([0.01710322]),\n",
       " array([0.01710311]),\n",
       " array([0.01710293]),\n",
       " array([0.01710263]),\n",
       " array([0.01710215]),\n",
       " array([0.01710138]),\n",
       " array([0.01710014]),\n",
       " array([0.01709843]),\n",
       " array([0.01709746]),\n",
       " array([0.01709714])]"
      ]
     },
     "execution_count": 37,
     "metadata": {},
     "output_type": "execute_result"
    }
   ],
   "source": [
    "T.J"
   ]
  },
  {
   "cell_type": "code",
   "execution_count": 38,
   "metadata": {},
   "outputs": [
    {
     "data": {
      "text/plain": [
       "[array([0.02830459]),\n",
       " array([0.017683]),\n",
       " array([0.0165998]),\n",
       " array([0.01666666]),\n",
       " array([0.01671451]),\n",
       " array([0.01675495]),\n",
       " array([0.01679097]),\n",
       " array([0.01681993]),\n",
       " array([0.01683057]),\n",
       " array([0.01679548]),\n",
       " array([0.01665451]),\n",
       " array([0.0162766]),\n",
       " array([0.01547753]),\n",
       " array([0.01431362]),\n",
       " array([0.01315704]),\n",
       " array([0.01277865]),\n",
       " array([0.01262273]),\n",
       " array([0.0126338]),\n",
       " array([0.01264851]),\n",
       " array([0.01265352]),\n",
       " array([0.01264158]),\n",
       " array([0.01259753]),\n",
       " array([0.01248943]),\n",
       " array([0.01225058]),\n",
       " array([0.01173771]),\n",
       " array([0.01073774]),\n",
       " array([0.01085829]),\n",
       " array([0.0107618]),\n",
       " array([0.0106578]),\n",
       " array([0.01057128]),\n",
       " array([0.0105591]),\n",
       " array([0.01054784]),\n",
       " array([0.01053287]),\n",
       " array([0.01051179]),\n",
       " array([0.01047931]),\n",
       " array([0.01042605]),\n",
       " array([0.01033537]),\n",
       " array([0.01017857]),\n",
       " array([0.00991316]),\n",
       " array([0.00974611]),\n",
       " array([0.0096161]),\n",
       " array([0.00967253]),\n",
       " array([0.00974812]),\n",
       " array([0.00975933]),\n",
       " array([0.00976093]),\n",
       " array([0.00976653]),\n",
       " array([0.00977275]),\n",
       " array([0.00977953]),\n",
       " array([0.00978769]),\n",
       " array([0.00979843]),\n",
       " array([0.00981345]),\n",
       " array([0.00983517]),\n",
       " array([0.00986692]),\n",
       " array([0.00991225]),\n",
       " array([0.00997165]),\n",
       " array([0.0100318]),\n",
       " array([0.01003131]),\n",
       " array([0.00995517]),\n",
       " array([0.00985767]),\n",
       " array([0.00981892]),\n",
       " array([0.00981783]),\n",
       " array([0.00981887]),\n",
       " array([0.00981986]),\n",
       " array([0.00982088]),\n",
       " array([0.00982206]),\n",
       " array([0.00982359]),\n",
       " array([0.00982572]),\n",
       " array([0.00982879]),\n",
       " array([0.00983326]),\n",
       " array([0.00983964]),\n",
       " array([0.00984808]),\n",
       " array([0.00985725]),\n",
       " array([0.00986344]),\n",
       " array([0.00986092]),\n",
       " array([0.00983917]),\n",
       " array([0.0098107]),\n",
       " array([0.00979173])]"
      ]
     },
     "execution_count": 38,
     "metadata": {},
     "output_type": "execute_result"
    }
   ],
   "source": [
    "T.testJ"
   ]
  },
  {
   "cell_type": "code",
   "execution_count": 39,
   "metadata": {},
   "outputs": [
    {
     "data": {
      "text/plain": [
       "0.006623335304181165"
      ]
     },
     "execution_count": 39,
     "metadata": {},
     "output_type": "execute_result"
    }
   ],
   "source": [
    "from sklearn.metrics import mean_absolute_error\n",
    "mean_absolute_error(T.J, T.testJ)"
   ]
  },
  {
   "cell_type": "code",
   "execution_count": 40,
   "metadata": {},
   "outputs": [],
   "source": [
    "yHat=NN.forward(X)"
   ]
  },
  {
   "cell_type": "code",
   "execution_count": 41,
   "metadata": {},
   "outputs": [
    {
     "data": {
      "text/plain": [
       "array([[0.4576031 ],\n",
       "       [0.64274433],\n",
       "       [0.56767396],\n",
       "       [0.56000438],\n",
       "       [0.53540297],\n",
       "       [0.63525144],\n",
       "       [0.37775773],\n",
       "       [0.38668824],\n",
       "       [0.49265824],\n",
       "       [0.58749115],\n",
       "       [0.70727858],\n",
       "       [0.40445939],\n",
       "       [0.34749653],\n",
       "       [0.58427928],\n",
       "       [0.32752489],\n",
       "       [0.67828669],\n",
       "       [0.63351731],\n",
       "       [0.53848234],\n",
       "       [0.32554499],\n",
       "       [0.57528497],\n",
       "       [0.48781871],\n",
       "       [0.60634357],\n",
       "       [0.506809  ],\n",
       "       [0.67029365],\n",
       "       [0.32670065],\n",
       "       [0.43627438],\n",
       "       [0.5366882 ],\n",
       "       [0.59631109],\n",
       "       [0.60663265],\n",
       "       [0.3889048 ],\n",
       "       [0.42393549],\n",
       "       [0.56173308],\n",
       "       [0.4719939 ],\n",
       "       [0.56175608],\n",
       "       [0.65469768],\n",
       "       [0.50387556],\n",
       "       [0.39207478],\n",
       "       [0.51966576],\n",
       "       [0.48087883],\n",
       "       [0.54127087],\n",
       "       [0.62213945],\n",
       "       [0.43197327],\n",
       "       [0.41436238],\n",
       "       [0.46191791],\n",
       "       [0.63048962],\n",
       "       [0.51168805],\n",
       "       [0.61613239],\n",
       "       [0.43612305],\n",
       "       [0.3955336 ],\n",
       "       [0.55840019],\n",
       "       [0.60531977],\n",
       "       [0.59173138],\n",
       "       [0.49041009],\n",
       "       [0.45160267],\n",
       "       [0.45755272],\n",
       "       [0.39120234],\n",
       "       [0.58066484],\n",
       "       [0.54123719],\n",
       "       [0.56949466],\n",
       "       [0.5323078 ]])"
      ]
     },
     "execution_count": 41,
     "metadata": {},
     "output_type": "execute_result"
    }
   ],
   "source": [
    "yHat"
   ]
  },
  {
   "cell_type": "code",
   "execution_count": 42,
   "metadata": {},
   "outputs": [
    {
     "data": {
      "text/plain": [
       "array([[0.43661972],\n",
       "       [0.57042253],\n",
       "       [0.66901409],\n",
       "       [0.6971831 ],\n",
       "       [0.97183099],\n",
       "       [0.5915493 ],\n",
       "       [0.28169014],\n",
       "       [0.26056338],\n",
       "       [0.46478873],\n",
       "       [0.99295775],\n",
       "       [0.67605634],\n",
       "       [0.25352113],\n",
       "       [0.45070423],\n",
       "       [0.        ],\n",
       "       [0.48591549],\n",
       "       [0.78169014],\n",
       "       [0.8028169 ],\n",
       "       [0.3028169 ],\n",
       "       [0.47183099],\n",
       "       [0.41549296],\n",
       "       [0.64788732],\n",
       "       [0.61267606],\n",
       "       [1.        ],\n",
       "       [0.47887324],\n",
       "       [0.3028169 ],\n",
       "       [0.38028169],\n",
       "       [0.5915493 ],\n",
       "       [0.8028169 ],\n",
       "       [0.47183099],\n",
       "       [0.26760563],\n",
       "       [0.4084507 ],\n",
       "       [0.32394366],\n",
       "       [0.45774648],\n",
       "       [0.81690141],\n",
       "       [0.75352113],\n",
       "       [0.43661972],\n",
       "       [0.45774648],\n",
       "       [0.38732394],\n",
       "       [0.46478873],\n",
       "       [0.73239437],\n",
       "       [0.51408451],\n",
       "       [0.28169014],\n",
       "       [0.19014085],\n",
       "       [0.51408451],\n",
       "       [0.50704225],\n",
       "       [0.75352113],\n",
       "       [0.54225352],\n",
       "       [0.26056338],\n",
       "       [0.3943662 ],\n",
       "       [0.62676056],\n",
       "       [0.79577465],\n",
       "       [0.70422535],\n",
       "       [0.53521127],\n",
       "       [0.40140845],\n",
       "       [0.12676056],\n",
       "       [0.33098592],\n",
       "       [0.41549296],\n",
       "       [0.55633803],\n",
       "       [0.5915493 ],\n",
       "       [0.51408451]])"
      ]
     },
     "execution_count": 42,
     "metadata": {},
     "output_type": "execute_result"
    }
   ],
   "source": [
    "y"
   ]
  },
  {
   "cell_type": "code",
   "execution_count": 43,
   "metadata": {},
   "outputs": [
    {
     "data": {
      "text/plain": [
       "0.03232834362447898"
      ]
     },
     "execution_count": 43,
     "metadata": {},
     "output_type": "execute_result"
    }
   ],
   "source": [
    "from sklearn.metrics import mean_squared_error \n",
    "mean_squared_error(y,yHat) "
   ]
  },
  {
   "cell_type": "code",
   "execution_count": 44,
   "metadata": {},
   "outputs": [
    {
     "data": {
      "image/png": "[encoded data removed]",
      "text/plain": [
       "<Figure size 432x288 with 1 Axes>"
      ]
     },
     "metadata": {
      "needs_background": "light"
     },
     "output_type": "display_data"
    }
   ],
   "source": [
    "#Plot cost during training:\n",
    "plot.plot(y)\n",
    "plot.plot(yHat)\n",
    "plot.grid(1)\n",
    "plot.legend(['y', 'yHat'])\n",
    "plot.show()"
   ]
  },
  {
   "cell_type": "code",
   "execution_count": 45,
   "metadata": {},
   "outputs": [],
   "source": [
    "prediksi=NN.forward(dataprediksi)"
   ]
  },
  {
   "cell_type": "code",
   "execution_count": 46,
   "metadata": {},
   "outputs": [
    {
     "data": {
      "text/plain": [
       "array([[0.48522975],\n",
       "       [0.45944391],\n",
       "       [0.50160086],\n",
       "       [0.5038961 ]])"
      ]
     },
     "execution_count": 46,
     "metadata": {},
     "output_type": "execute_result"
    }
   ],
   "source": [
    "prediksi"
   ]
  },
  {
   "cell_type": "code",
   "execution_count": 47,
   "metadata": {},
   "outputs": [],
   "source": [
    "from sklearn.metrics import mean_squared_error "
   ]
  },
  {
   "cell_type": "code",
   "execution_count": 48,
   "metadata": {},
   "outputs": [
    {
     "data": {
      "text/plain": [
       "0.009744765948906687"
      ]
     },
     "execution_count": 48,
     "metadata": {},
     "output_type": "execute_result"
    }
   ],
   "source": [
    "Y_true= ([\t0.387323944\t]\t,\n",
    "[\t0.373239437\t]\t,\n",
    "[\t0.366197183\t]\t,\n",
    "[\t0.443661972\t]\t,\n",
    ")\n",
    "\n",
    "\n",
    "Y_pred=prediksi\n",
    "mean_squared_error(Y_true,Y_pred) "
   ]
  },
  {
   "cell_type": "code",
   "execution_count": 49,
   "metadata": {},
   "outputs": [
    {
     "data": {
      "text/plain": [
       "array([[0.5915493 , 0.51408451],\n",
       "       [0.51408451, 0.38732394],\n",
       "       [0.38732394, 0.37323944],\n",
       "       [0.37323944, 0.36619718]])"
      ]
     },
     "execution_count": 49,
     "metadata": {},
     "output_type": "execute_result"
    }
   ],
   "source": [
    "dataprediksi"
   ]
  },
  {
   "cell_type": "code",
   "execution_count": 50,
   "metadata": {},
   "outputs": [],
   "source": [
    "a=np.array([\t0.366197183\t,\t0.443661972\t])"
   ]
  },
  {
   "cell_type": "code",
   "execution_count": 51,
   "metadata": {},
   "outputs": [
    {
     "data": {
      "text/plain": [
       "array([0.54012753])"
      ]
     },
     "execution_count": 51,
     "metadata": {},
     "output_type": "execute_result"
    }
   ],
   "source": [
    "#prediksi 1\n",
    "prediksi=NN.forward(a)\n",
    "prediksi"
   ]
  },
  {
   "cell_type": "code",
   "execution_count": 52,
   "metadata": {},
   "outputs": [
    {
     "data": {
      "text/plain": [
       "array([0.55238482])"
      ]
     },
     "execution_count": 52,
     "metadata": {},
     "output_type": "execute_result"
    }
   ],
   "source": [
    "#prediksi 2\n",
    "c=prediksi\n",
    "b=a[1:]\n",
    "d=np.concatenate((b,c))\n",
    "prediksi=NN.forward(d)\n",
    "prediksi"
   ]
  },
  {
   "cell_type": "code",
   "execution_count": 53,
   "metadata": {},
   "outputs": [
    {
     "data": {
      "text/plain": [
       "array([0.52150672])"
      ]
     },
     "execution_count": 53,
     "metadata": {},
     "output_type": "execute_result"
    }
   ],
   "source": [
    "#prediksi 3\n",
    "c=prediksi\n",
    "b=d[1:]\n",
    "e=np.concatenate((b,c))\n",
    "prediksi=NN.forward(e)\n",
    "prediksi"
   ]
  },
  {
   "cell_type": "code",
   "execution_count": 54,
   "metadata": {},
   "outputs": [
    {
     "data": {
      "text/plain": [
       "array([0.50341459])"
      ]
     },
     "execution_count": 54,
     "metadata": {},
     "output_type": "execute_result"
    }
   ],
   "source": [
    "#prediksi 4\n",
    "c=prediksi\n",
    "b=e[1:]\n",
    "f=np.concatenate((b,c))\n",
    "prediksi=NN.forward(f)\n",
    "prediksi"
   ]
  },
  {
   "cell_type": "code",
   "execution_count": 55,
   "metadata": {},
   "outputs": [
    {
     "data": {
      "text/plain": [
       "array([0.50728344])"
      ]
     },
     "execution_count": 55,
     "metadata": {},
     "output_type": "execute_result"
    }
   ],
   "source": [
    "#prediksi 5\n",
    "c=prediksi\n",
    "b=f[1:]\n",
    "g=np.concatenate((b,c))\n",
    "prediksi=NN.forward(g)\n",
    "prediksi"
   ]
  },
  {
   "cell_type": "code",
   "execution_count": 56,
   "metadata": {},
   "outputs": [
    {
     "data": {
      "text/plain": [
       "array([0.51584646])"
      ]
     },
     "execution_count": 56,
     "metadata": {},
     "output_type": "execute_result"
    }
   ],
   "source": [
    "#prediksi 6\n",
    "c=prediksi\n",
    "b=g[1:]\n",
    "h=np.concatenate((b,c))\n",
    "prediksi=NN.forward(h)\n",
    "prediksi"
   ]
  },
  {
   "cell_type": "code",
   "execution_count": null,
   "metadata": {},
   "outputs": [],
   "source": []
  }
 ],
 "metadata": {
  "kernelspec": {
   "display_name": "Python 3",
   "language": "python",
   "name": "python3"
  },
  "language_info": {
   "codemirror_mode": {
    "name": "ipython",
    "version": 3
   },
   "file_extension": ".py",
   "mimetype": "text/x-python",
   "name": "python",
   "nbconvert_exporter": "python",
   "pygments_lexer": "ipython3",
   "version": "3.7.3"
  }
 },
 "nbformat": 4,
 "nbformat_minor": 2
}
