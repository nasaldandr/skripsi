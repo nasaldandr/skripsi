{
 "cells": [
  {
   "cell_type": "code",
   "execution_count": 1,
   "metadata": {},
   "outputs": [],
   "source": [
    "import numpy as np"
   ]
  },
  {
   "cell_type": "code",
   "execution_count": 2,
   "metadata": {},
   "outputs": [],
   "source": [
    "#UNTUK NILAI IMPOR\n",
    "class Neural_Network(object):\n",
    "    def __init__(self):\n",
    "        #parameters\n",
    "        self.inputLayerSize = 2\n",
    "        self.outputLayerSize = 1\n",
    "        self.hiddenLayerSize = 1\n",
    "\n",
    "        #weights\n",
    "        self.W1 = np.random.randn(self.inputLayerSize,\\\n",
    "                                 self.hiddenLayerSize)  \n",
    "        self.W2 = np.random.randn(self.hiddenLayerSize,\\\n",
    "                                 self.outputLayerSize)  \n",
    "    \n",
    "    def printw(self):\n",
    "        return self.W1\n",
    "        \n",
    "    def weight(self, W1, W2):\n",
    "        #Make an internal variable for the weight:\n",
    "        self.W1 = W1\n",
    "        self.W2 = W2\n",
    "        \n",
    "    def forward(self, X):\n",
    "        #forward propagation through our network\n",
    "        self.z2 = np.dot(X,self.W1)  \n",
    "        self.a2 = self.tanh(self.z2)  # activation function\n",
    "        self.z3 = np.dot(self.a2, self.W2) \n",
    "        yHat = self.tanh(self.z3)  # final activation function\n",
    "        return yHat\n",
    "\n",
    "    def tanh(self, z):\n",
    "        # activation function\n",
    "        return (np.exp(z)-np.exp(-z))/(np.exp(z)+np.exp(-z))\n",
    "    \n",
    "    def tanhPrime(self,z): \n",
    "        #derivative of tanh\n",
    "        return 1-((np.exp(z)-np.exp(-z))/(np.exp(z)+np.exp(-z)))**2\n",
    "    \n",
    "    def costFunction(self,X,y):\n",
    "        self.yHat = self.forward(X)\n",
    "        J=0.5*sum((y-self.yHat)**2)\n",
    "        return J\n",
    "    \n",
    "    def costFunctionPrime(self,X,y):\n",
    "        self.yHat=self.forward(X)\n",
    "        \n",
    "        delta3=np.multiply(-(y-self.yHat),self.tanhPrime(self.z3))\n",
    "        dJdW2=np.dot(self.a2.T,delta3)\n",
    "        \n",
    "        delta2=np.dot(delta3,self.W2.T)*self.tanhPrime(self.z2)\n",
    "        dJdW1=np.dot(X.T,delta2)\n",
    "        return dJdW1,dJdW2\n",
    "    \n",
    "    def predict(self):\n",
    "        prediksi = self.forward(dataprediksi)\n",
    "        return prediksi\n",
    "    \n",
    "    def getParams(self):\n",
    "        params=np.concatenate((self.W1.ravel(),self.W2.ravel()))\n",
    "        return params\n",
    "    \n",
    "    def setParams(self,params):\n",
    "        W1_start=0\n",
    "        W1_end=self.hiddenLayerSize*self.inputLayerSize\n",
    "        self.W1=np.reshape(params[W1_start:W1_end],\\\n",
    "                          (self.inputLayerSize,self.hiddenLayerSize))\n",
    "        W2_end=W1_end+self.hiddenLayerSize*self.outputLayerSize\n",
    "        self.W2=np.reshape(params[W1_end:W2_end],\\\n",
    "                          (self.hiddenLayerSize,self.outputLayerSize))\n",
    "        \n",
    "    def computeGradients(self, X, y):\n",
    "        dJdW1, dJdW2 = self.costFunctionPrime(X, y)\n",
    "        return np.concatenate((dJdW1.ravel(), dJdW2.ravel()))"
   ]
  },
  {
   "cell_type": "code",
   "execution_count": 3,
   "metadata": {},
   "outputs": [],
   "source": [
    "NN = Neural_Network()"
   ]
  },
  {
   "cell_type": "code",
   "execution_count": 4,
   "metadata": {},
   "outputs": [
    {
     "data": {
      "text/plain": [
       "array([[-0.86831224],\n",
       "       [ 0.5172189 ]])"
      ]
     },
     "execution_count": 4,
     "metadata": {},
     "output_type": "execute_result"
    }
   ],
   "source": [
    "NN.W1"
   ]
  },
  {
   "cell_type": "code",
   "execution_count": 5,
   "metadata": {},
   "outputs": [
    {
     "data": {
      "text/plain": [
       "array([[0.33040068]])"
      ]
     },
     "execution_count": 5,
     "metadata": {},
     "output_type": "execute_result"
    }
   ],
   "source": [
    "NN.W2"
   ]
  },
  {
   "cell_type": "code",
   "execution_count": 6,
   "metadata": {},
   "outputs": [],
   "source": [
    "#NILAI IMPOR\n",
    "X=np.array(([\t0.147887324\t,\t0.063380282\t]\t,\n",
    "[\t0.063380282\t,\t0.436619718\t]\t,\n",
    "[\t0.436619718\t,\t0.570422535\t]\t,\n",
    "[\t0.570422535\t,\t0.669014085\t]\t,\n",
    "[\t0.669014085\t,\t0.697183099\t]\t,\n",
    "[\t0.697183099\t,\t0.971830986\t]\t,\n",
    "[\t0.971830986\t,\t0.591549296\t]\t,\n",
    "[\t0.591549296\t,\t0.281690141\t]\t,\n",
    "[\t0.281690141\t,\t0.26056338\t]\t,\n",
    "[\t0.26056338\t,\t0.464788732\t]\t,\n",
    "[\t0.464788732\t,\t0.992957746\t]\t,\n",
    "[\t0.992957746\t,\t0.676056338\t]\t,\n",
    "[\t0.676056338\t,\t0.253521127\t]\t,\n",
    "[\t0.253521127\t,\t0.450704225\t]\t,\n",
    "[\t0.450704225\t,\t0\t]\t,\n",
    "[\t0\t,\t0.485915493\t]\t,\n",
    "[\t0.485915493\t,\t0.781690141\t]\t,\n",
    "[\t0.781690141\t,\t0.802816901\t]\t,\n",
    "[\t0.802816901\t,\t0.302816901\t]\t,\n",
    "[\t0.302816901\t,\t0.471830986\t]\t,\n",
    "[\t0.471830986\t,\t0.415492958\t]\t,\n",
    "[\t0.415492958\t,\t0.647887324\t]\t,\n",
    "[\t0.647887324\t,\t0.612676056\t]\t,\n",
    "[\t0.612676056\t,\t1\t]\t,\n",
    "[\t1\t,\t0.478873239\t]\t,\n",
    "[\t0.478873239\t,\t0.302816901\t]\t,\n",
    "[\t0.302816901\t,\t0.38028169\t]\t,\n",
    "[\t0.38028169\t,\t0.591549296\t]\t,\n",
    "[\t0.591549296\t,\t0.802816901\t]\t,\n",
    "[\t0.802816901\t,\t0.471830986\t]\t,\n",
    "[\t0.471830986\t,\t0.267605634\t]\t,\n",
    "[\t0.267605634\t,\t0.408450704\t]\t,\n",
    "[\t0.408450704\t,\t0.323943662\t]\t,\n",
    "[\t0.323943662\t,\t0.457746479\t]\t,\n",
    "[\t0.457746479\t,\t0.816901408\t]\t,\n",
    "[\t0.816901408\t,\t0.753521127\t]\t,\n",
    "[\t0.753521127\t,\t0.436619718\t]\t,\n",
    "[\t0.436619718\t,\t0.457746479\t]\t,\n",
    "[\t0.457746479\t,\t0.387323944\t]\t,\n",
    "[\t0.387323944\t,\t0.464788732\t]\t,\n",
    "[\t0.464788732\t,\t0.732394366\t]\t,\n",
    "[\t0.732394366\t,\t0.514084507\t]\t,\n",
    "[\t0.514084507\t,\t0.281690141\t]\t,\n",
    "[\t0.281690141\t,\t0.190140845\t]\t,\n",
    "[\t0.190140845\t,\t0.514084507\t]\t,\n",
    "[\t0.514084507\t,\t0.507042254\t]\t,\n",
    "[\t0.507042254\t,\t0.753521127\t]\t,\n",
    "[\t0.753521127\t,\t0.542253521\t]\t,\n",
    "[\t0.542253521\t,\t0.26056338\t]\t,\n",
    "[\t0.26056338\t,\t0.394366197\t]\t,\n",
    "[\t0.394366197\t,\t0.626760563\t]\t,\n",
    "[\t0.626760563\t,\t0.795774648\t]\t,\n",
    "[\t0.795774648\t,\t0.704225352\t]\t,\n",
    "[\t0.704225352\t,\t0.535211268\t]\t,\n",
    "[\t0.535211268\t,\t0.401408451\t]\t,\n",
    "[\t0.401408451\t,\t0.126760563\t]\t,\n",
    "[\t0.126760563\t,\t0.330985915\t]\t,\n",
    "[\t0.330985915\t,\t0.415492958\t]\t,\n",
    "[\t0.415492958\t,\t0.556338028\t]\t,\n",
    "[\t0.556338028\t,\t0.591549296\t]\t,\n",
    "\n",
    ")           \n",
    ",dtype=float)\n",
    "y=np.array(([\t0.436619718\t]\t,\n",
    "[\t0.570422535\t]\t,\n",
    "[\t0.669014085\t]\t,\n",
    "[\t0.697183099\t]\t,\n",
    "[\t0.971830986\t]\t,\n",
    "[\t0.591549296\t]\t,\n",
    "[\t0.281690141\t]\t,\n",
    "[\t0.26056338\t]\t,\n",
    "[\t0.464788732\t]\t,\n",
    "[\t0.992957746\t]\t,\n",
    "[\t0.676056338\t]\t,\n",
    "[\t0.253521127\t]\t,\n",
    "[\t0.450704225\t]\t,\n",
    "[\t0\t]\t,\n",
    "[\t0.485915493\t]\t,\n",
    "[\t0.781690141\t]\t,\n",
    "[\t0.802816901\t]\t,\n",
    "[\t0.302816901\t]\t,\n",
    "[\t0.471830986\t]\t,\n",
    "[\t0.415492958\t]\t,\n",
    "[\t0.647887324\t]\t,\n",
    "[\t0.612676056\t]\t,\n",
    "[\t1\t]\t,\n",
    "[\t0.478873239\t]\t,\n",
    "[\t0.302816901\t]\t,\n",
    "[\t0.38028169\t]\t,\n",
    "[\t0.591549296\t]\t,\n",
    "[\t0.802816901\t]\t,\n",
    "[\t0.471830986\t]\t,\n",
    "[\t0.267605634\t]\t,\n",
    "[\t0.408450704\t]\t,\n",
    "[\t0.323943662\t]\t,\n",
    "[\t0.457746479\t]\t,\n",
    "[\t0.816901408\t]\t,\n",
    "[\t0.753521127\t]\t,\n",
    "[\t0.436619718\t]\t,\n",
    "[\t0.457746479\t]\t,\n",
    "[\t0.387323944\t]\t,\n",
    "[\t0.464788732\t]\t,\n",
    "[\t0.732394366\t]\t,\n",
    "[\t0.514084507\t]\t,\n",
    "[\t0.281690141\t]\t,\n",
    "[\t0.190140845\t]\t,\n",
    "[\t0.514084507\t]\t,\n",
    "[\t0.507042254\t]\t,\n",
    "[\t0.753521127\t]\t,\n",
    "[\t0.542253521\t]\t,\n",
    "[\t0.26056338\t]\t,\n",
    "[\t0.394366197\t]\t,\n",
    "[\t0.626760563\t]\t,\n",
    "[\t0.795774648\t]\t,\n",
    "[\t0.704225352\t]\t,\n",
    "[\t0.535211268\t]\t,\n",
    "[\t0.401408451\t]\t,\n",
    "[\t0.126760563\t]\t,\n",
    "[\t0.330985915\t]\t,\n",
    "[\t0.415492958\t]\t,\n",
    "[\t0.556338028\t]\t,\n",
    "[\t0.591549296\t]\t,\n",
    "[\t0.514084507\t]\t,\n",
    "\n",
    ")\n",
    ",dtype=float)\n",
    "\n",
    "dataprediksi = np.array(([\t0.591549296\t,\t0.514084507\t]\t,\n",
    "[\t0.514084507\t,\t0.387323944\t]\t,\n",
    "[\t0.387323944\t,\t0.373239437\t]\t,\n",
    "[\t0.373239437\t,\t0.366197183\t]\t,\n",
    "\n",
    "\n",
    "\n",
    "), dtype=float)\n"
   ]
  },
  {
   "cell_type": "code",
   "execution_count": 7,
   "metadata": {},
   "outputs": [],
   "source": [
    "import matplotlib.pyplot as plot"
   ]
  },
  {
   "cell_type": "code",
   "execution_count": 8,
   "metadata": {},
   "outputs": [],
   "source": [
    "from scipy import optimize"
   ]
  },
  {
   "cell_type": "code",
   "execution_count": 9,
   "metadata": {},
   "outputs": [],
   "source": [
    "class trainer(object):\n",
    "    def __init__(self, N):\n",
    "        #Make Local reference to network:\n",
    "        self.N = N\n",
    "        \n",
    "    def callbackF(self, params):\n",
    "        self.N.setParams(params)\n",
    "        self.J.append(self.N.costFunction(self.X, self.y))   \n",
    "        \n",
    "    def costFunctionWrapper(self, params, X, y):\n",
    "        self.N.setParams(params)\n",
    "        cost = self.N.costFunction(X, y)\n",
    "        grad = self.N.computeGradients(X,y)\n",
    "        \n",
    "        return cost, grad\n",
    "        \n",
    "    def train(self, X, y):\n",
    "        #Make an internal variable for the callback function:\n",
    "        self.X = X\n",
    "        self.y = y\n",
    "\n",
    "        #Make empty list to store costs:\n",
    "        self.J = []\n",
    "        \n",
    "        params0 = self.N.getParams()\n",
    "\n",
    "        options = {'maxiter': 100, 'disp' : True}\n",
    "        _res = optimize.minimize(self.costFunctionWrapper, params0, jac=True, method='BFGS', \\\n",
    "                                 args=(X, y), options=options, callback=self.callbackF)\n",
    "\n",
    "        self.N.setParams(_res.x)\n",
    "        self.optimizationResults = _res"
   ]
  },
  {
   "cell_type": "code",
   "execution_count": 10,
   "metadata": {},
   "outputs": [],
   "source": [
    "NN=Neural_Network()"
   ]
  },
  {
   "cell_type": "code",
   "execution_count": 11,
   "metadata": {},
   "outputs": [],
   "source": [
    "T = trainer(NN)"
   ]
  },
  {
   "cell_type": "code",
   "execution_count": 12,
   "metadata": {},
   "outputs": [
    {
     "name": "stdout",
     "output_type": "stream",
     "text": [
      "Optimization terminated successfully.\n",
      "         Current function value: 1.293632\n",
      "         Iterations: 30\n",
      "         Function evaluations: 32\n",
      "         Gradient evaluations: 32\n"
     ]
    }
   ],
   "source": [
    "#Train network with new data:\n",
    "T = trainer(NN)\n",
    "T.train(X,y)"
   ]
  },
  {
   "cell_type": "code",
   "execution_count": 13,
   "metadata": {},
   "outputs": [
    {
     "data": {
      "image/png": "[encoded data removed]",
      "text/plain": [
       "<Figure size 432x288 with 1 Axes>"
      ]
     },
     "metadata": {
      "needs_background": "light"
     },
     "output_type": "display_data"
    }
   ],
   "source": [
    "#Plot cost during training:\n",
    "plot.plot(T.J)\n",
    "plot.grid(1)\n",
    "plot.xlabel('Iterations')\n",
    "plot.ylabel('Cost')\n",
    "plot.show()"
   ]
  },
  {
   "cell_type": "code",
   "execution_count": 14,
   "metadata": {},
   "outputs": [],
   "source": [
    "#Training Data:\n",
    "trainX = np.array(([\t0.147887324\t,\t0.063380282\t]\t,\n",
    "[\t0.063380282\t,\t0.436619718\t]\t,\n",
    "[\t0.436619718\t,\t0.570422535\t]\t,\n",
    "[\t0.570422535\t,\t0.669014085\t]\t,\n",
    "[\t0.669014085\t,\t0.697183099\t]\t,\n",
    "[\t0.697183099\t,\t0.971830986\t]\t,\n",
    "[\t0.971830986\t,\t0.591549296\t]\t,\n",
    "[\t0.591549296\t,\t0.281690141\t]\t,\n",
    "[\t0.281690141\t,\t0.26056338\t]\t,\n",
    "[\t0.26056338\t,\t0.464788732\t]\t,\n",
    "[\t0.464788732\t,\t0.992957746\t]\t,\n",
    "[\t0.992957746\t,\t0.676056338\t]\t,\n",
    "[\t0.676056338\t,\t0.253521127\t]\t,\n",
    "[\t0.253521127\t,\t0.450704225\t]\t,\n",
    "[\t0.450704225\t,\t0\t]\t,\n",
    "[\t0\t,\t0.485915493\t]\t,\n",
    "[\t0.485915493\t,\t0.781690141\t]\t,\n",
    "[\t0.781690141\t,\t0.802816901\t]\t,\n",
    "[\t0.802816901\t,\t0.302816901\t]\t,\n",
    "[\t0.302816901\t,\t0.471830986\t]\t,\n",
    "[\t0.471830986\t,\t0.415492958\t]\t,\n",
    "[\t0.415492958\t,\t0.647887324\t]\t,\n",
    "[\t0.647887324\t,\t0.612676056\t]\t,\n",
    "[\t0.612676056\t,\t1\t]\t,\n",
    "[\t1\t,\t0.478873239\t]\t,\n",
    "[\t0.478873239\t,\t0.302816901\t]\t,\n",
    "[\t0.302816901\t,\t0.38028169\t]\t,\n",
    "[\t0.38028169\t,\t0.591549296\t]\t,\n",
    "[\t0.591549296\t,\t0.802816901\t]\t,\n",
    "[\t0.802816901\t,\t0.471830986\t]\t,\n",
    "[\t0.471830986\t,\t0.267605634\t]\t,\n",
    "[\t0.267605634\t,\t0.408450704\t]\t,\n",
    "[\t0.408450704\t,\t0.323943662\t]\t,\n",
    "[\t0.323943662\t,\t0.457746479\t]\t,\n",
    "[\t0.457746479\t,\t0.816901408\t]\t,\n",
    "[\t0.816901408\t,\t0.753521127\t]\t,\n",
    "[\t0.753521127\t,\t0.436619718\t]\t,\n",
    "[\t0.436619718\t,\t0.457746479\t]\t,\n",
    "[\t0.457746479\t,\t0.387323944\t]\t,\n",
    "[\t0.387323944\t,\t0.464788732\t]\t,\n",
    "[\t0.464788732\t,\t0.732394366\t]\t,\n",
    "[\t0.732394366\t,\t0.514084507\t]\t,\n",
    "[\t0.514084507\t,\t0.281690141\t]\t,\n",
    "[\t0.281690141\t,\t0.190140845\t]\t,\n",
    "[\t0.190140845\t,\t0.514084507\t]\t,\n",
    "[\t0.514084507\t,\t0.507042254\t]\t,\n",
    "[\t0.507042254\t,\t0.753521127\t]\t,\n",
    "\n",
    ")\n",
    ", dtype=float)\n",
    "trainY = np.array(([\t0.436619718\t]\t,\n",
    "[\t0.570422535\t]\t,\n",
    "[\t0.669014085\t]\t,\n",
    "[\t0.697183099\t]\t,\n",
    "[\t0.971830986\t]\t,\n",
    "[\t0.591549296\t]\t,\n",
    "[\t0.281690141\t]\t,\n",
    "[\t0.26056338\t]\t,\n",
    "[\t0.464788732\t]\t,\n",
    "[\t0.992957746\t]\t,\n",
    "[\t0.676056338\t]\t,\n",
    "[\t0.253521127\t]\t,\n",
    "[\t0.450704225\t]\t,\n",
    "[\t0\t]\t,\n",
    "[\t0.485915493\t]\t,\n",
    "[\t0.781690141\t]\t,\n",
    "[\t0.802816901\t]\t,\n",
    "[\t0.302816901\t]\t,\n",
    "[\t0.471830986\t]\t,\n",
    "[\t0.415492958\t]\t,\n",
    "[\t0.647887324\t]\t,\n",
    "[\t0.612676056\t]\t,\n",
    "[\t1\t]\t,\n",
    "[\t0.478873239\t]\t,\n",
    "[\t0.302816901\t]\t,\n",
    "[\t0.38028169\t]\t,\n",
    "[\t0.591549296\t]\t,\n",
    "[\t0.802816901\t]\t,\n",
    "[\t0.471830986\t]\t,\n",
    "[\t0.267605634\t]\t,\n",
    "[\t0.408450704\t]\t,\n",
    "[\t0.323943662\t]\t,\n",
    "[\t0.457746479\t]\t,\n",
    "[\t0.816901408\t]\t,\n",
    "[\t0.753521127\t]\t,\n",
    "[\t0.436619718\t]\t,\n",
    "[\t0.457746479\t]\t,\n",
    "[\t0.387323944\t]\t,\n",
    "[\t0.464788732\t]\t,\n",
    "[\t0.732394366\t]\t,\n",
    "[\t0.514084507\t]\t,\n",
    "[\t0.281690141\t]\t,\n",
    "[\t0.190140845\t]\t,\n",
    "[\t0.514084507\t]\t,\n",
    "[\t0.507042254\t]\t,\n",
    "[\t0.753521127\t]\t,\n",
    "[\t0.542253521\t]\t,\n",
    "\n",
    ")\n",
    ", dtype=float)\n",
    "\n",
    "#Testing Data:\n",
    "testX = np.array(([\t0.753521127\t,\t0.542253521\t]\t,\n",
    "[\t0.542253521\t,\t0.26056338\t]\t,\n",
    "[\t0.26056338\t,\t0.394366197\t]\t,\n",
    "[\t0.394366197\t,\t0.626760563\t]\t,\n",
    "[\t0.626760563\t,\t0.795774648\t]\t,\n",
    "[\t0.795774648\t,\t0.704225352\t]\t,\n",
    "[\t0.704225352\t,\t0.535211268\t]\t,\n",
    "[\t0.535211268\t,\t0.401408451\t]\t,\n",
    "[\t0.401408451\t,\t0.126760563\t]\t,\n",
    "[\t0.126760563\t,\t0.330985915\t]\t,\n",
    "[\t0.330985915\t,\t0.415492958\t]\t,\n",
    "[\t0.415492958\t,\t0.556338028\t]\t,\n",
    "[\t0.556338028\t,\t0.591549296\t]\t,\n",
    "\n",
    ")\n",
    ", dtype=float)\n",
    "testY = np.array(([\t0.26056338\t]\t,\n",
    "[\t0.394366197\t]\t,\n",
    "[\t0.626760563\t]\t,\n",
    "[\t0.795774648\t]\t,\n",
    "[\t0.704225352\t]\t,\n",
    "[\t0.535211268\t]\t,\n",
    "[\t0.401408451\t]\t,\n",
    "[\t0.126760563\t]\t,\n",
    "[\t0.330985915\t]\t,\n",
    "[\t0.415492958\t]\t,\n",
    "[\t0.556338028\t]\t,\n",
    "[\t0.591549296\t]\t,\n",
    "[\t0.514084507\t]\t,\n",
    "\n",
    ")\n",
    ", dtype=float)\n",
    "\n",
    "\n",
    "dataprediksi = np.array(([\t0.591549296\t,\t0.514084507\t]\t,\n",
    "[\t0.514084507\t,\t0.387323944\t]\t,\n",
    "[\t0.387323944\t,\t0.373239437\t]\t,\n",
    "[\t0.373239437\t,\t0.366197183\t]\t,\n",
    "\n",
    "\n",
    "), dtype=float)"
   ]
  },
  {
   "cell_type": "code",
   "execution_count": 15,
   "metadata": {},
   "outputs": [
    {
     "data": {
      "text/plain": [
       "array([[0.75352113, 0.54225352],\n",
       "       [0.54225352, 0.26056338],\n",
       "       [0.26056338, 0.3943662 ],\n",
       "       [0.3943662 , 0.62676056],\n",
       "       [0.62676056, 0.79577465],\n",
       "       [0.79577465, 0.70422535],\n",
       "       [0.70422535, 0.53521127],\n",
       "       [0.53521127, 0.40140845],\n",
       "       [0.40140845, 0.12676056],\n",
       "       [0.12676056, 0.33098592],\n",
       "       [0.33098592, 0.41549296],\n",
       "       [0.41549296, 0.55633803],\n",
       "       [0.55633803, 0.5915493 ]])"
      ]
     },
     "execution_count": 15,
     "metadata": {},
     "output_type": "execute_result"
    }
   ],
   "source": [
    "testX"
   ]
  },
  {
   "cell_type": "code",
   "execution_count": 16,
   "metadata": {},
   "outputs": [],
   "source": [
    "##Need to modify trainer class a bit to check testing error during training:\n",
    "class trainer(object):\n",
    "    def __init__(self, N):\n",
    "        #Make Local reference to network:\n",
    "        self.N = N\n",
    "        \n",
    "    def callbackF(self, params):\n",
    "        self.N.setParams(params)\n",
    "        self.J.append(self.N.costFunction(self.X, self.y))\n",
    "        self.testJ.append(self.N.costFunction(self.testX, self.testY))\n",
    "        \n",
    "    def costFunctionWrapper(self, params, X, y):\n",
    "        self.N.setParams(params)\n",
    "        cost = self.N.costFunction(X, y)\n",
    "        grad = self.N.computeGradients(X,y)\n",
    "        \n",
    "        return cost, grad\n",
    "        \n",
    "    def train(self, trainX, trainY, testX, testY):\n",
    "        #Make an internal variable for the callback function:\n",
    "        self.X = trainX\n",
    "        self.y = trainY\n",
    "        \n",
    "        self.testX = testX\n",
    "        self.testY = testY\n",
    "\n",
    "        #Make empty list to store training costs:\n",
    "        self.J = []\n",
    "        self.testJ = []\n",
    "        \n",
    "        params0 = self.N.getParams()\n",
    "\n",
    "        options = {'maxiter': 100, 'disp' : True}\n",
    "        _res = optimize.minimize(self.costFunctionWrapper, params0, jac=True, method='BFGS', \\\n",
    "                                 args=(trainX, trainY), options=options, callback=self.callbackF)\n",
    "\n",
    "        self.N.setParams(_res.x)\n",
    "        self.optimizationResults = _res"
   ]
  },
  {
   "cell_type": "code",
   "execution_count": 17,
   "metadata": {},
   "outputs": [
    {
     "name": "stdout",
     "output_type": "stream",
     "text": [
      "Optimization terminated successfully.\n",
      "         Current function value: 1.081066\n",
      "         Iterations: 41\n",
      "         Function evaluations: 45\n",
      "         Gradient evaluations: 45\n"
     ]
    }
   ],
   "source": [
    "#Train network with new data:\n",
    "NN = Neural_Network()\n",
    "\n",
    "T = trainer(NN)\n",
    "T.train(trainX, trainY, testX, testY)"
   ]
  },
  {
   "cell_type": "code",
   "execution_count": 18,
   "metadata": {},
   "outputs": [
    {
     "data": {
      "image/png": "[encoded data removed]",
      "text/plain": [
       "<Figure size 432x288 with 1 Axes>"
      ]
     },
     "metadata": {
      "needs_background": "light"
     },
     "output_type": "display_data"
    }
   ],
   "source": [
    "#Plot cost during training:\n",
    "plot.plot(T.J)\n",
    "plot.plot(T.testJ)\n",
    "plot.grid(1)\n",
    "plot.xlabel('Iterations')\n",
    "plot.ylabel('Cost')\n",
    "plot.legend(['Training', 'Testing'])\n",
    "plot.show()"
   ]
  },
  {
   "cell_type": "code",
   "execution_count": 19,
   "metadata": {},
   "outputs": [
    {
     "data": {
      "text/plain": [
       "[array([3.79441087]),\n",
       " array([3.73582251]),\n",
       " array([1.47791547]),\n",
       " array([1.41702624]),\n",
       " array([1.31996248]),\n",
       " array([1.18581484]),\n",
       " array([1.15381445]),\n",
       " array([1.15143425]),\n",
       " array([1.15067628]),\n",
       " array([1.14927062]),\n",
       " array([1.14664499]),\n",
       " array([1.14185441]),\n",
       " array([1.13393781]),\n",
       " array([1.12505533]),\n",
       " array([1.11504903]),\n",
       " array([1.10159933]),\n",
       " array([1.09192425]),\n",
       " array([1.0875159]),\n",
       " array([1.08542762]),\n",
       " array([1.08364855]),\n",
       " array([1.08285635]),\n",
       " array([1.08253673]),\n",
       " array([1.08246758]),\n",
       " array([1.08245561]),\n",
       " array([1.08244929]),\n",
       " array([1.08243804]),\n",
       " array([1.08241739]),\n",
       " array([1.08237926]),\n",
       " array([1.08230945]),\n",
       " array([1.08218386]),\n",
       " array([1.08196319]),\n",
       " array([1.08158325]),\n",
       " array([1.08107652]),\n",
       " array([1.08107471]),\n",
       " array([1.08107205]),\n",
       " array([1.081069]),\n",
       " array([1.08106666]),\n",
       " array([1.08106588]),\n",
       " array([1.08106578]),\n",
       " array([1.08106578]),\n",
       " array([1.08106578])]"
      ]
     },
     "execution_count": 19,
     "metadata": {},
     "output_type": "execute_result"
    }
   ],
   "source": [
    "T.J"
   ]
  },
  {
   "cell_type": "code",
   "execution_count": 20,
   "metadata": {},
   "outputs": [
    {
     "data": {
      "text/plain": [
       "[array([0.74762227]),\n",
       " array([1.11718585]),\n",
       " array([0.30353726]),\n",
       " array([0.26096571]),\n",
       " array([0.23621108]),\n",
       " array([0.19757187]),\n",
       " array([0.18241925]),\n",
       " array([0.18098259]),\n",
       " array([0.18063309]),\n",
       " array([0.18051506]),\n",
       " array([0.18056023]),\n",
       " array([0.18079141]),\n",
       " array([0.18110542]),\n",
       " array([0.18219757]),\n",
       " array([0.1881052]),\n",
       " array([0.19499534]),\n",
       " array([0.2066296]),\n",
       " array([0.2072347]),\n",
       " array([0.21029156]),\n",
       " array([0.21339036]),\n",
       " array([0.21459571]),\n",
       " array([0.21556747]),\n",
       " array([0.21579994]),\n",
       " array([0.21599001]),\n",
       " array([0.21602128]),\n",
       " array([0.21607175]),\n",
       " array([0.21612019]),\n",
       " array([0.21617962]),\n",
       " array([0.21625284]),\n",
       " array([0.21634489]),\n",
       " array([0.21645302]),\n",
       " array([0.21654115]),\n",
       " array([0.21636808]),\n",
       " array([0.21623384]),\n",
       " array([0.21622741]),\n",
       " array([0.21629521]),\n",
       " array([0.21634775]),\n",
       " array([0.21638343]),\n",
       " array([0.21638546]),\n",
       " array([0.21638505]),\n",
       " array([0.21638448])]"
      ]
     },
     "execution_count": 20,
     "metadata": {},
     "output_type": "execute_result"
    }
   ],
   "source": [
    "T.testJ"
   ]
  },
  {
   "cell_type": "code",
   "execution_count": 21,
   "metadata": {},
   "outputs": [
    {
     "data": {
      "text/plain": [
       "1.0071847171334367"
      ]
     },
     "execution_count": 21,
     "metadata": {},
     "output_type": "execute_result"
    }
   ],
   "source": [
    "from sklearn.metrics import mean_absolute_error\n",
    "mean_absolute_error(T.J, T.testJ)"
   ]
  },
  {
   "cell_type": "code",
   "execution_count": 22,
   "metadata": {},
   "outputs": [],
   "source": [
    "yHat = NN.forward(X)"
   ]
  },
  {
   "cell_type": "code",
   "execution_count": 23,
   "metadata": {},
   "outputs": [
    {
     "data": {
      "text/plain": [
       "array([[0.4248032 ],\n",
       "       [0.52794631],\n",
       "       [0.52829575],\n",
       "       [0.52829862],\n",
       "       [0.52829878],\n",
       "       [0.52829886],\n",
       "       [0.5282988 ],\n",
       "       [0.52815332],\n",
       "       [0.52668171],\n",
       "       [0.52823947],\n",
       "       [0.52829886],\n",
       "       [0.52829885],\n",
       "       [0.52816512],\n",
       "       [0.52821994],\n",
       "       [0.48632442],\n",
       "       [0.52806528],\n",
       "       [0.5282988 ],\n",
       "       [0.52829886],\n",
       "       [0.52827371],\n",
       "       [0.52825899],\n",
       "       [0.5282652 ],\n",
       "       [0.52829789],\n",
       "       [0.52829849],\n",
       "       [0.52829886],\n",
       "       [0.52829851],\n",
       "       [0.52808393],\n",
       "       [0.52811212],\n",
       "       [0.52829569],\n",
       "       [0.52829884],\n",
       "       [0.52829741],\n",
       "       [0.52789104],\n",
       "       [0.52815225],\n",
       "       [0.52805892],\n",
       "       [0.52825491],\n",
       "       [0.52829882],\n",
       "       [0.52829885],\n",
       "       [0.52829521],\n",
       "       [0.52827802],\n",
       "       [0.52823943],\n",
       "       [0.52827321],\n",
       "       [0.52829869],\n",
       "       [0.52829773],\n",
       "       [0.52805576],\n",
       "       [0.52300323],\n",
       "       [0.52825763],\n",
       "       [0.52829343],\n",
       "       [0.52829877],\n",
       "       [0.52829825],\n",
       "       [0.52801078],\n",
       "       [0.52810405],\n",
       "       [0.52829727],\n",
       "       [0.52829884],\n",
       "       [0.52829883],\n",
       "       [0.5282979 ],\n",
       "       [0.5282708 ],\n",
       "       [0.52132419],\n",
       "       [0.52692307],\n",
       "       [0.5282133 ],\n",
       "       [0.52829432],\n",
       "       [0.52829787]])"
      ]
     },
     "execution_count": 23,
     "metadata": {},
     "output_type": "execute_result"
    }
   ],
   "source": [
    "yHat"
   ]
  },
  {
   "cell_type": "code",
   "execution_count": 24,
   "metadata": {},
   "outputs": [
    {
     "data": {
      "text/plain": [
       "array([[0.43661972],\n",
       "       [0.57042253],\n",
       "       [0.66901409],\n",
       "       [0.6971831 ],\n",
       "       [0.97183099],\n",
       "       [0.5915493 ],\n",
       "       [0.28169014],\n",
       "       [0.26056338],\n",
       "       [0.46478873],\n",
       "       [0.99295775],\n",
       "       [0.67605634],\n",
       "       [0.25352113],\n",
       "       [0.45070423],\n",
       "       [0.        ],\n",
       "       [0.48591549],\n",
       "       [0.78169014],\n",
       "       [0.8028169 ],\n",
       "       [0.3028169 ],\n",
       "       [0.47183099],\n",
       "       [0.41549296],\n",
       "       [0.64788732],\n",
       "       [0.61267606],\n",
       "       [1.        ],\n",
       "       [0.47887324],\n",
       "       [0.3028169 ],\n",
       "       [0.38028169],\n",
       "       [0.5915493 ],\n",
       "       [0.8028169 ],\n",
       "       [0.47183099],\n",
       "       [0.26760563],\n",
       "       [0.4084507 ],\n",
       "       [0.32394366],\n",
       "       [0.45774648],\n",
       "       [0.81690141],\n",
       "       [0.75352113],\n",
       "       [0.43661972],\n",
       "       [0.45774648],\n",
       "       [0.38732394],\n",
       "       [0.46478873],\n",
       "       [0.73239437],\n",
       "       [0.51408451],\n",
       "       [0.28169014],\n",
       "       [0.19014085],\n",
       "       [0.51408451],\n",
       "       [0.50704225],\n",
       "       [0.75352113],\n",
       "       [0.54225352],\n",
       "       [0.26056338],\n",
       "       [0.3943662 ],\n",
       "       [0.62676056],\n",
       "       [0.79577465],\n",
       "       [0.70422535],\n",
       "       [0.53521127],\n",
       "       [0.40140845],\n",
       "       [0.12676056],\n",
       "       [0.33098592],\n",
       "       [0.41549296],\n",
       "       [0.55633803],\n",
       "       [0.5915493 ],\n",
       "       [0.51408451]])"
      ]
     },
     "execution_count": 24,
     "metadata": {},
     "output_type": "execute_result"
    }
   ],
   "source": [
    "y"
   ]
  },
  {
   "cell_type": "code",
   "execution_count": 25,
   "metadata": {},
   "outputs": [
    {
     "data": {
      "text/plain": [
       "0.04324834190271008"
      ]
     },
     "execution_count": 25,
     "metadata": {},
     "output_type": "execute_result"
    }
   ],
   "source": [
    "from sklearn.metrics import mean_squared_error \n",
    "mean_squared_error(y,yHat) "
   ]
  },
  {
   "cell_type": "code",
   "execution_count": 26,
   "metadata": {},
   "outputs": [
    {
     "data": {
      "image/png": "[encoded data removed]",
      "text/plain": [
       "<Figure size 432x288 with 1 Axes>"
      ]
     },
     "metadata": {
      "needs_background": "light"
     },
     "output_type": "display_data"
    }
   ],
   "source": [
    "#Plot cost during training:\n",
    "plot.plot(y)\n",
    "plot.plot(yHat)\n",
    "plot.grid(1)\n",
    "plot.legend(['y', 'yHat'])\n",
    "plot.show()"
   ]
  },
  {
   "cell_type": "code",
   "execution_count": 27,
   "metadata": {},
   "outputs": [],
   "source": [
    "#Regularization Parameter:\n",
    "Lambda = 0.0001"
   ]
  },
  {
   "cell_type": "code",
   "execution_count": 28,
   "metadata": {},
   "outputs": [],
   "source": [
    "#Need to make changes to costFunction and costFunctionPrim:\n",
    "def costFunction(self, X, y):\n",
    "    #Compute cost for given X,y, use weights already stored in class.\n",
    "    self.yHat = self.forward(X)\n",
    "    #We don't want cost to increase with the number of examples, so normalize by dividing the error term by number of examples(X.shape[0])\n",
    "    J = 0.5*sum((y-self.yHat)**2)/X.shape[0] + (self.Lambda/2)*(sum(self.W1**2)+sum(self.W2**2))\n",
    "    return J\n",
    "\n",
    "def costFunctionPrime(self, X, y):\n",
    "    #Compute derivative with respect to W and W2 for a given X and y:\n",
    "    self.yHat = self.forward(X)\n",
    "\n",
    "    delta3 = np.multiply(-(y-self.yHat), self.tanhPrime(self.z3))\n",
    "    #Add gradient of regularization term:\n",
    "    dJdW2 = np.dot(self.a2.T, delta3)/X.shape[0] + self.Lambda*self.W2\n",
    "\n",
    "    delta2 = np.dot(delta3, self.W2.T)*self.tanhPrime(self.z2)\n",
    "    #Add gradient of regularization term:\n",
    "    dJdW1 = np.dot(X.T, delta2)/X.shape[0] + self.Lambda*self.W1\n",
    "\n",
    "    return dJdW1, dJdW2"
   ]
  },
  {
   "cell_type": "code",
   "execution_count": 29,
   "metadata": {},
   "outputs": [],
   "source": [
    "#New complete class, with changes:\n",
    "class Neural_Network(object):\n",
    "    def __init__(self, Lambda=0.0001):        \n",
    "        #Define Hyperparameters\n",
    "        self.inputLayerSize = 2\n",
    "        self.outputLayerSize = 1\n",
    "        self.hiddenLayerSize = 1\n",
    "        \n",
    "        #Weights (parameters)\n",
    "        self.W1 = np.random.randn(self.inputLayerSize,self.hiddenLayerSize)\n",
    "        self.W2 = np.random.randn(self.hiddenLayerSize,self.outputLayerSize)\n",
    "        \n",
    "        #Regularization Parameter:\n",
    "        self.Lambda = Lambda\n",
    "        \n",
    "    def forward(self, X):\n",
    "        #Propogate inputs though network\n",
    "        self.z2 = np.dot(X, self.W1)\n",
    "        self.a2 = self.tanh(self.z2)\n",
    "        self.z3 = np.dot(self.a2, self.W2)\n",
    "        yHat = self.tanh(self.z3) \n",
    "        return yHat\n",
    "        \n",
    "    def tanh(self, z):\n",
    "        # activation function\n",
    "        return (np.exp(z)-np.exp(-z))/(np.exp(z)+np.exp(-z))\n",
    "    \n",
    "    def tanhPrime(self,z): \n",
    "        #derivative of tanh\n",
    "        return 1-((np.exp(z)-np.exp(-z))/(np.exp(z)+np.exp(-z)))**2\n",
    "    \n",
    "    def costFunction(self, X, y):\n",
    "        #Compute cost for given X,y, use weights already stored in class.\n",
    "        self.yHat = self.forward(X)\n",
    "        J = 0.5*sum((y-self.yHat)**2)/X.shape[0] + (self.Lambda/2)*(np.sum(self.W1**2)+np.sum(self.W2**2))\n",
    "        return J\n",
    "        \n",
    "    def costFunctionPrime(self, X, y):\n",
    "        #Compute derivative with respect to W and W2 for a given X and y:\n",
    "        self.yHat = self.forward(X)\n",
    "        \n",
    "        delta3 = np.multiply(-(y-self.yHat), self.tanhPrime(self.z3))\n",
    "        #Add gradient of regularization term:\n",
    "        dJdW2 = np.dot(self.a2.T, delta3)/X.shape[0] + self.Lambda*self.W2\n",
    "        \n",
    "        delta2 = np.dot(delta3, self.W2.T)*self.tanhPrime(self.z2)\n",
    "        #Add gradient of regularization term:\n",
    "        dJdW1 = np.dot(X.T, delta2)/X.shape[0] + self.Lambda*self.W1\n",
    "        \n",
    "        return dJdW1, dJdW2\n",
    "    \n",
    "    def predict(self):\n",
    "        prediksi = self.forward(dataprediksi)\n",
    "        return prediksi\n",
    "    \n",
    "    #Helper functions for interacting with other methods/classes\n",
    "    def getParams(self):\n",
    "        #Get W1 and W2 Rolled into vector:\n",
    "        params = np.concatenate((self.W1.ravel(), self.W2.ravel()))\n",
    "        return params\n",
    "    \n",
    "    def setParams(self, params):\n",
    "        #Set W1 and W2 using single parameter vector:\n",
    "        W1_start = 0\n",
    "        W1_end = self.hiddenLayerSize*self.inputLayerSize\n",
    "        self.W1 = np.reshape(params[W1_start:W1_end], \\\n",
    "                             (self.inputLayerSize, self.hiddenLayerSize))\n",
    "        W2_end = W1_end + self.hiddenLayerSize*self.outputLayerSize\n",
    "        self.W2 = np.reshape(params[W1_end:W2_end], \\\n",
    "                             (self.hiddenLayerSize, self.outputLayerSize))\n",
    "        \n",
    "    def computeGradients(self, X, y):\n",
    "        dJdW1, dJdW2 = self.costFunctionPrime(X, y)\n",
    "        return np.concatenate((dJdW1.ravel(), dJdW2.ravel()))"
   ]
  },
  {
   "cell_type": "code",
   "execution_count": 30,
   "metadata": {},
   "outputs": [],
   "source": [
    "def computeNumericalGradient(N, X, y):\n",
    "    paramsInitial = N.getParams()\n",
    "    numgrad = np.zeros(paramsInitial.shape)\n",
    "    perturb = np.zeros(paramsInitial.shape)\n",
    "    e = 1e-4\n",
    "\n",
    "    for p in range(len(paramsInitial)):\n",
    "        #Set perturbation vector\n",
    "        perturb[p] = e\n",
    "        N.setParams(paramsInitial + perturb)\n",
    "        loss2 = N.costFunction(X, y)\n",
    "            \n",
    "        N.setParams(paramsInitial - perturb)\n",
    "        loss1 = N.costFunction(X, y)\n",
    "\n",
    "        #Compute Numerical Gradient\n",
    "        numgrad[p] = (loss2 - loss1) / (2*e)\n",
    "\n",
    "            #Return the value we changed to zero:\n",
    "        perturb[p] = 0\n",
    "            \n",
    "    #Return Params to original value:\n",
    "    N.setParams(paramsInitial)\n",
    "\n",
    "    return numgrad "
   ]
  },
  {
   "cell_type": "code",
   "execution_count": 31,
   "metadata": {},
   "outputs": [],
   "source": [
    "NN = Neural_Network(Lambda=0.0001)"
   ]
  },
  {
   "cell_type": "code",
   "execution_count": 32,
   "metadata": {},
   "outputs": [],
   "source": [
    "#Make sure our gradients our correct after making changes:\n",
    "numgrad = computeNumericalGradient(NN, X, y)\n",
    "grad = NN.computeGradients(X,y)"
   ]
  },
  {
   "cell_type": "code",
   "execution_count": 33,
   "metadata": {},
   "outputs": [
    {
     "data": {
      "text/plain": [
       "8.20494242644506e-10"
      ]
     },
     "execution_count": 33,
     "metadata": {},
     "output_type": "execute_result"
    }
   ],
   "source": [
    "#Should be less than 1e-8:\n",
    "np.linalg.norm(grad-numgrad)/np.linalg.norm(grad+numgrad)"
   ]
  },
  {
   "cell_type": "code",
   "execution_count": 34,
   "metadata": {},
   "outputs": [],
   "source": [
    "T = trainer(NN)"
   ]
  },
  {
   "cell_type": "code",
   "execution_count": 35,
   "metadata": {},
   "outputs": [
    {
     "name": "stdout",
     "output_type": "stream",
     "text": [
      "Optimization terminated successfully.\n",
      "         Current function value: 0.022133\n",
      "         Iterations: 35\n",
      "         Function evaluations: 42\n",
      "         Gradient evaluations: 42\n"
     ]
    }
   ],
   "source": [
    "T.train(X,y,testX,testY)"
   ]
  },
  {
   "cell_type": "code",
   "execution_count": 36,
   "metadata": {},
   "outputs": [
    {
     "data": {
      "image/png": "[encoded data removed]",
      "text/plain": [
       "<Figure size 432x288 with 1 Axes>"
      ]
     },
     "metadata": {
      "needs_background": "light"
     },
     "output_type": "display_data"
    }
   ],
   "source": [
    "plot.plot(T.J)\n",
    "plot.plot(T.testJ)\n",
    "plot.grid(1)\n",
    "plot.xlabel('Iterations')\n",
    "plot.ylabel('Cost')\n",
    "plot.legend(['Training', 'Testing'])\n",
    "plot.show()"
   ]
  },
  {
   "cell_type": "code",
   "execution_count": 37,
   "metadata": {},
   "outputs": [
    {
     "data": {
      "text/plain": [
       "[array([0.15040315]),\n",
       " array([0.13753854]),\n",
       " array([0.05183992]),\n",
       " array([0.02744371]),\n",
       " array([0.02326009]),\n",
       " array([0.02276391]),\n",
       " array([0.02274724]),\n",
       " array([0.02274597]),\n",
       " array([0.02274357]),\n",
       " array([0.02273903]),\n",
       " array([0.02273042]),\n",
       " array([0.02271437]),\n",
       " array([0.02268512]),\n",
       " array([0.02263214]),\n",
       " array([0.02252952]),\n",
       " array([0.02249038]),\n",
       " array([0.02248792]),\n",
       " array([0.02247849]),\n",
       " array([0.02246135]),\n",
       " array([0.02243336]),\n",
       " array([0.02240456]),\n",
       " array([0.02239681]),\n",
       " array([0.02238987]),\n",
       " array([0.02238284]),\n",
       " array([0.02232297]),\n",
       " array([0.02224633]),\n",
       " array([0.02215528]),\n",
       " array([0.02213703]),\n",
       " array([0.02213396]),\n",
       " array([0.02213372]),\n",
       " array([0.02213343]),\n",
       " array([0.02213309]),\n",
       " array([0.02213287]),\n",
       " array([0.02213281]),\n",
       " array([0.02213281])]"
      ]
     },
     "execution_count": 37,
     "metadata": {},
     "output_type": "execute_result"
    }
   ],
   "source": [
    "T.J"
   ]
  },
  {
   "cell_type": "code",
   "execution_count": 38,
   "metadata": {},
   "outputs": [
    {
     "data": {
      "text/plain": [
       "[array([0.12960486]),\n",
       " array([0.1166889]),\n",
       " array([0.03656796]),\n",
       " array([0.01695533]),\n",
       " array([0.01527574]),\n",
       " array([0.01586359]),\n",
       " array([0.01606241]),\n",
       " array([0.01608203]),\n",
       " array([0.016097]),\n",
       " array([0.01610811]),\n",
       " array([0.01611116]),\n",
       " array([0.01609303]),\n",
       " array([0.01601765]),\n",
       " array([0.01577986]),\n",
       " array([0.01503936]),\n",
       " array([0.01451358]),\n",
       " array([0.01438424]),\n",
       " array([0.01432725]),\n",
       " array([0.0142813]),\n",
       " array([0.0141919]),\n",
       " array([0.01404542]),\n",
       " array([0.01416652]),\n",
       " array([0.01394315]),\n",
       " array([0.01401375]),\n",
       " array([0.01426333]),\n",
       " array([0.01442161]),\n",
       " array([0.01476438]),\n",
       " array([0.01493148]),\n",
       " array([0.01499596]),\n",
       " array([0.01500044]),\n",
       " array([0.01499345]),\n",
       " array([0.01496848]),\n",
       " array([0.01493499]),\n",
       " array([0.01492084]),\n",
       " array([0.01491992])]"
      ]
     },
     "execution_count": 38,
     "metadata": {},
     "output_type": "execute_result"
    }
   ],
   "source": [
    "T.testJ"
   ]
  },
  {
   "cell_type": "code",
   "execution_count": 39,
   "metadata": {},
   "outputs": [
    {
     "data": {
      "text/plain": [
       "0.008511646691383119"
      ]
     },
     "execution_count": 39,
     "metadata": {},
     "output_type": "execute_result"
    }
   ],
   "source": [
    "from sklearn.metrics import mean_absolute_error\n",
    "mean_absolute_error(T.J, T.testJ)"
   ]
  },
  {
   "cell_type": "code",
   "execution_count": 40,
   "metadata": {},
   "outputs": [],
   "source": [
    "yHat=NN.forward(X)"
   ]
  },
  {
   "cell_type": "code",
   "execution_count": 41,
   "metadata": {},
   "outputs": [
    {
     "data": {
      "text/plain": [
       "array([[0.18215012],\n",
       "       [0.48573316],\n",
       "       [0.54175276],\n",
       "       [0.55216868],\n",
       "       [0.55472455],\n",
       "       [0.55991997],\n",
       "       [0.55461452],\n",
       "       [0.49443246],\n",
       "       [0.43493185],\n",
       "       [0.51494209],\n",
       "       [0.55938839],\n",
       "       [0.55721728],\n",
       "       [0.49458477],\n",
       "       [0.51081547],\n",
       "       [0.23757666],\n",
       "       [0.49576679],\n",
       "       [0.55547172],\n",
       "       [0.55827728],\n",
       "       [0.5198654 ],\n",
       "       [0.51980427],\n",
       "       [0.51999562],\n",
       "       [0.54780989],\n",
       "       [0.55058479],\n",
       "       [0.55991645],\n",
       "       [0.54972353],\n",
       "       [0.48834279],\n",
       "       [0.4947158 ],\n",
       "       [0.54196258],\n",
       "       [0.55700991],\n",
       "       [0.54420024],\n",
       "       [0.47295737],\n",
       "       [0.50004636],\n",
       "       [0.48732253],\n",
       "       [0.51828311],\n",
       "       [0.55622285],\n",
       "       [0.5575941 ],\n",
       "       [0.53883106],\n",
       "       [0.52602807],\n",
       "       [0.51230033],\n",
       "       [0.52420929],\n",
       "       [0.55341752],\n",
       "       [0.54578252],\n",
       "       [0.48483213],\n",
       "       [0.38329459],\n",
       "       [0.52067959],\n",
       "       [0.53753926],\n",
       "       [0.55477695],\n",
       "       [0.54842491],\n",
       "       [0.48018162],\n",
       "       [0.49463983],\n",
       "       [0.54563616],\n",
       "       [0.5571217 ],\n",
       "       [0.55627124],\n",
       "       [0.5467036 ],\n",
       "       [0.52154952],\n",
       "       [0.36297626],\n",
       "       [0.44571772],\n",
       "       [0.50841625],\n",
       "       [0.5394437 ],\n",
       "       [0.54717879]])"
      ]
     },
     "execution_count": 41,
     "metadata": {},
     "output_type": "execute_result"
    }
   ],
   "source": [
    "yHat"
   ]
  },
  {
   "cell_type": "code",
   "execution_count": 42,
   "metadata": {},
   "outputs": [
    {
     "data": {
      "text/plain": [
       "array([[0.43661972],\n",
       "       [0.57042253],\n",
       "       [0.66901409],\n",
       "       [0.6971831 ],\n",
       "       [0.97183099],\n",
       "       [0.5915493 ],\n",
       "       [0.28169014],\n",
       "       [0.26056338],\n",
       "       [0.46478873],\n",
       "       [0.99295775],\n",
       "       [0.67605634],\n",
       "       [0.25352113],\n",
       "       [0.45070423],\n",
       "       [0.        ],\n",
       "       [0.48591549],\n",
       "       [0.78169014],\n",
       "       [0.8028169 ],\n",
       "       [0.3028169 ],\n",
       "       [0.47183099],\n",
       "       [0.41549296],\n",
       "       [0.64788732],\n",
       "       [0.61267606],\n",
       "       [1.        ],\n",
       "       [0.47887324],\n",
       "       [0.3028169 ],\n",
       "       [0.38028169],\n",
       "       [0.5915493 ],\n",
       "       [0.8028169 ],\n",
       "       [0.47183099],\n",
       "       [0.26760563],\n",
       "       [0.4084507 ],\n",
       "       [0.32394366],\n",
       "       [0.45774648],\n",
       "       [0.81690141],\n",
       "       [0.75352113],\n",
       "       [0.43661972],\n",
       "       [0.45774648],\n",
       "       [0.38732394],\n",
       "       [0.46478873],\n",
       "       [0.73239437],\n",
       "       [0.51408451],\n",
       "       [0.28169014],\n",
       "       [0.19014085],\n",
       "       [0.51408451],\n",
       "       [0.50704225],\n",
       "       [0.75352113],\n",
       "       [0.54225352],\n",
       "       [0.26056338],\n",
       "       [0.3943662 ],\n",
       "       [0.62676056],\n",
       "       [0.79577465],\n",
       "       [0.70422535],\n",
       "       [0.53521127],\n",
       "       [0.40140845],\n",
       "       [0.12676056],\n",
       "       [0.33098592],\n",
       "       [0.41549296],\n",
       "       [0.55633803],\n",
       "       [0.5915493 ],\n",
       "       [0.51408451]])"
      ]
     },
     "execution_count": 42,
     "metadata": {},
     "output_type": "execute_result"
    }
   ],
   "source": [
    "y"
   ]
  },
  {
   "cell_type": "code",
   "execution_count": 43,
   "metadata": {},
   "outputs": [
    {
     "data": {
      "image/png": "[encoded data removed]",
      "text/plain": [
       "<Figure size 432x288 with 1 Axes>"
      ]
     },
     "metadata": {
      "needs_background": "light"
     },
     "output_type": "display_data"
    }
   ],
   "source": [
    "#Plot cost during training:\n",
    "plot.plot(y)\n",
    "plot.plot(yHat)\n",
    "plot.grid(1)\n",
    "plot.legend(['y', 'yHat'])\n",
    "plot.show()"
   ]
  },
  {
   "cell_type": "code",
   "execution_count": 44,
   "metadata": {},
   "outputs": [],
   "source": [
    "prediksi=NN.forward(dataprediksi)"
   ]
  },
  {
   "cell_type": "code",
   "execution_count": 45,
   "metadata": {},
   "outputs": [
    {
     "data": {
      "text/plain": [
       "array([[0.54134972],\n",
       "       [0.51691276],\n",
       "       [0.50170187],\n",
       "       [0.49796955]])"
      ]
     },
     "execution_count": 45,
     "metadata": {},
     "output_type": "execute_result"
    }
   ],
   "source": [
    "prediksi"
   ]
  },
  {
   "cell_type": "code",
   "execution_count": 46,
   "metadata": {},
   "outputs": [],
   "source": [
    "from sklearn.metrics import mean_squared_error "
   ]
  },
  {
   "cell_type": "code",
   "execution_count": 47,
   "metadata": {},
   "outputs": [
    {
     "data": {
      "text/plain": [
       "0.01641919923380371"
      ]
     },
     "execution_count": 47,
     "metadata": {},
     "output_type": "execute_result"
    }
   ],
   "source": [
    "Y_true= ([\t0.387323944\t]\t,\n",
    "[\t0.373239437\t]\t,\n",
    "[\t0.366197183\t]\t,\n",
    "[\t0.443661972\t]\t,\n",
    ")\n",
    "\n",
    "\n",
    "Y_pred=prediksi\n",
    "mean_squared_error(Y_true,Y_pred) "
   ]
  },
  {
   "cell_type": "code",
   "execution_count": 48,
   "metadata": {},
   "outputs": [
    {
     "data": {
      "text/plain": [
       "array([[0.5915493 , 0.51408451],\n",
       "       [0.51408451, 0.38732394],\n",
       "       [0.38732394, 0.37323944],\n",
       "       [0.37323944, 0.36619718]])"
      ]
     },
     "execution_count": 48,
     "metadata": {},
     "output_type": "execute_result"
    }
   ],
   "source": [
    "dataprediksi"
   ]
  },
  {
   "cell_type": "code",
   "execution_count": 49,
   "metadata": {},
   "outputs": [],
   "source": [
    "a=np.array([\t0.366197183\t,\t0.443661972\t])"
   ]
  },
  {
   "cell_type": "code",
   "execution_count": 50,
   "metadata": {},
   "outputs": [
    {
     "data": {
      "text/plain": [
       "array([0.51833274])"
      ]
     },
     "execution_count": 50,
     "metadata": {},
     "output_type": "execute_result"
    }
   ],
   "source": [
    "#prediksi 1\n",
    "prediksi=NN.forward(a)\n",
    "prediksi"
   ]
  },
  {
   "cell_type": "code",
   "execution_count": 51,
   "metadata": {},
   "outputs": [
    {
     "data": {
      "text/plain": [
       "array([0.53592221])"
      ]
     },
     "execution_count": 51,
     "metadata": {},
     "output_type": "execute_result"
    }
   ],
   "source": [
    "#prediksi 2\n",
    "c=prediksi\n",
    "b=a[1:]\n",
    "d=np.concatenate((b,c))\n",
    "prediksi=NN.forward(d)\n",
    "prediksi"
   ]
  },
  {
   "cell_type": "code",
   "execution_count": 52,
   "metadata": {},
   "outputs": [
    {
     "data": {
      "text/plain": [
       "array([0.54103745])"
      ]
     },
     "execution_count": 52,
     "metadata": {},
     "output_type": "execute_result"
    }
   ],
   "source": [
    "#prediksi 3\n",
    "c=prediksi\n",
    "b=d[1:]\n",
    "e=np.concatenate((b,c))\n",
    "prediksi=NN.forward(e)\n",
    "prediksi"
   ]
  },
  {
   "cell_type": "code",
   "execution_count": 53,
   "metadata": {},
   "outputs": [
    {
     "data": {
      "text/plain": [
       "array([0.5421839])"
      ]
     },
     "execution_count": 53,
     "metadata": {},
     "output_type": "execute_result"
    }
   ],
   "source": [
    "#prediksi 4\n",
    "c=prediksi\n",
    "b=e[1:]\n",
    "f=np.concatenate((b,c))\n",
    "prediksi=NN.forward(f)\n",
    "prediksi"
   ]
  },
  {
   "cell_type": "code",
   "execution_count": 54,
   "metadata": {},
   "outputs": [
    {
     "data": {
      "text/plain": [
       "array([0.54247134])"
      ]
     },
     "execution_count": 54,
     "metadata": {},
     "output_type": "execute_result"
    }
   ],
   "source": [
    "#prediksi 5\n",
    "c=prediksi\n",
    "b=f[1:]\n",
    "g=np.concatenate((b,c))\n",
    "prediksi=NN.forward(g)\n",
    "prediksi"
   ]
  },
  {
   "cell_type": "code",
   "execution_count": 55,
   "metadata": {},
   "outputs": [
    {
     "data": {
      "text/plain": [
       "array([0.54253819])"
      ]
     },
     "execution_count": 55,
     "metadata": {},
     "output_type": "execute_result"
    }
   ],
   "source": [
    "#prediksi 6\n",
    "c=prediksi\n",
    "b=g[1:]\n",
    "h=np.concatenate((b,c))\n",
    "prediksi=NN.forward(h)\n",
    "prediksi"
   ]
  },
  {
   "cell_type": "code",
   "execution_count": null,
   "metadata": {},
   "outputs": [],
   "source": []
  }
 ],
 "metadata": {
  "kernelspec": {
   "display_name": "Python 3",
   "language": "python",
   "name": "python3"
  },
  "language_info": {
   "codemirror_mode": {
    "name": "ipython",
    "version": 3
   },
   "file_extension": ".py",
   "mimetype": "text/x-python",
   "name": "python",
   "nbconvert_exporter": "python",
   "pygments_lexer": "ipython3",
   "version": "3.7.3"
  }
 },
 "nbformat": 4,
 "nbformat_minor": 2
}
