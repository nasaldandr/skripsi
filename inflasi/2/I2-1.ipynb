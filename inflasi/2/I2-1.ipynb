{
 "cells": [
  {
   "cell_type": "code",
   "execution_count": 1,
   "metadata": {},
   "outputs": [],
   "source": [
    "import numpy as np"
   ]
  },
  {
   "cell_type": "code",
   "execution_count": 2,
   "metadata": {},
   "outputs": [],
   "source": [
    "#UNTUK NILAI IMPOR\n",
    "class Neural_Network(object):\n",
    "    def __init__(self):\n",
    "        #parameters\n",
    "        self.inputLayerSize = 2\n",
    "        self.outputLayerSize = 1\n",
    "        self.hiddenLayerSize = 1\n",
    "\n",
    "        #weights\n",
    "        self.W1 = np.random.randn(self.inputLayerSize,\\\n",
    "                                 self.hiddenLayerSize)  \n",
    "        self.W2 = np.random.randn(self.hiddenLayerSize,\\\n",
    "                                 self.outputLayerSize)  \n",
    "    \n",
    "    def printw(self):\n",
    "        return self.W1\n",
    "        \n",
    "    def weight(self, W1, W2):\n",
    "        #Make an internal variable for the weight:\n",
    "        self.W1 = W1\n",
    "        self.W2 = W2\n",
    "        \n",
    "    def forward(self, X):\n",
    "        #forward propagation through our network\n",
    "        self.z2 = np.dot(X,self.W1)  \n",
    "        self.a2 = self.sigmoid(self.z2)  # activation function\n",
    "        self.z3 = np.dot(self.a2, self.W2) \n",
    "        yHat = self.sigmoid(self.z3)  # final activation function\n",
    "        return yHat\n",
    "\n",
    "    def sigmoid(self, z):\n",
    "        # activation function\n",
    "        return 1 / (1 + np.exp(-z))\n",
    "    \n",
    "    def sigmoidPrime(self,z): \n",
    "        #derivative of sigmoid     \n",
    "        return np.exp(-z)/((1+np.exp(-z))**2)\n",
    "    \n",
    "    def costFunction(self,X,y):\n",
    "        self.yHat = self.forward(X)\n",
    "        J=0.5*sum((y-self.yHat)**2)\n",
    "        return J\n",
    "    \n",
    "    def costFunctionPrime(self,X,y):\n",
    "        self.yHat=self.forward(X)\n",
    "        \n",
    "        delta3=np.multiply(-(y-self.yHat),self.sigmoidPrime(self.z3))\n",
    "        dJdW2=np.dot(self.a2.T,delta3)\n",
    "        \n",
    "        delta2=np.dot(delta3,self.W2.T)*self.sigmoidPrime(self.z2)\n",
    "        dJdW1=np.dot(X.T,delta2)\n",
    "        return dJdW1,dJdW2\n",
    "    \n",
    "    def predict(self):\n",
    "        prediksi = self.forward(dataprediksi)\n",
    "        return prediksi\n",
    "    \n",
    "    def getParams(self):\n",
    "        params=np.concatenate((self.W1.ravel(),self.W2.ravel()))\n",
    "        return params\n",
    "    \n",
    "    def setParams(self,params):\n",
    "        W1_start=0\n",
    "        W1_end=self.hiddenLayerSize*self.inputLayerSize\n",
    "        self.W1=np.reshape(params[W1_start:W1_end],\\\n",
    "                          (self.inputLayerSize,self.hiddenLayerSize))\n",
    "        W2_end=W1_end+self.hiddenLayerSize*self.outputLayerSize\n",
    "        self.W2=np.reshape(params[W1_end:W2_end],\\\n",
    "                          (self.hiddenLayerSize,self.outputLayerSize))\n",
    "        \n",
    "    def computeGradients(self, X, y):\n",
    "        dJdW1, dJdW2 = self.costFunctionPrime(X, y)\n",
    "        return np.concatenate((dJdW1.ravel(), dJdW2.ravel()))"
   ]
  },
  {
   "cell_type": "code",
   "execution_count": 3,
   "metadata": {},
   "outputs": [],
   "source": [
    "NN = Neural_Network()"
   ]
  },
  {
   "cell_type": "code",
   "execution_count": 4,
   "metadata": {},
   "outputs": [
    {
     "data": {
      "text/plain": [
       "array([[-0.89927976],\n",
       "       [-0.43033482]])"
      ]
     },
     "execution_count": 4,
     "metadata": {},
     "output_type": "execute_result"
    }
   ],
   "source": [
    "NN.W1"
   ]
  },
  {
   "cell_type": "code",
   "execution_count": 5,
   "metadata": {},
   "outputs": [
    {
     "data": {
      "text/plain": [
       "array([[-0.79110182]])"
      ]
     },
     "execution_count": 5,
     "metadata": {},
     "output_type": "execute_result"
    }
   ],
   "source": [
    "NN.W2"
   ]
  },
  {
   "cell_type": "code",
   "execution_count": 6,
   "metadata": {},
   "outputs": [],
   "source": [
    "#NILAI IMPOR\n",
    "X=np.array(([\t0.147887324\t,\t0.063380282\t]\t,\n",
    "[\t0.063380282\t,\t0.436619718\t]\t,\n",
    "[\t0.436619718\t,\t0.570422535\t]\t,\n",
    "[\t0.570422535\t,\t0.669014085\t]\t,\n",
    "[\t0.669014085\t,\t0.697183099\t]\t,\n",
    "[\t0.697183099\t,\t0.971830986\t]\t,\n",
    "[\t0.971830986\t,\t0.591549296\t]\t,\n",
    "[\t0.591549296\t,\t0.281690141\t]\t,\n",
    "[\t0.281690141\t,\t0.26056338\t]\t,\n",
    "[\t0.26056338\t,\t0.464788732\t]\t,\n",
    "[\t0.464788732\t,\t0.992957746\t]\t,\n",
    "[\t0.992957746\t,\t0.676056338\t]\t,\n",
    "[\t0.676056338\t,\t0.253521127\t]\t,\n",
    "[\t0.253521127\t,\t0.450704225\t]\t,\n",
    "[\t0.450704225\t,\t0\t]\t,\n",
    "[\t0\t,\t0.485915493\t]\t,\n",
    "[\t0.485915493\t,\t0.781690141\t]\t,\n",
    "[\t0.781690141\t,\t0.802816901\t]\t,\n",
    "[\t0.802816901\t,\t0.302816901\t]\t,\n",
    "[\t0.302816901\t,\t0.471830986\t]\t,\n",
    "[\t0.471830986\t,\t0.415492958\t]\t,\n",
    "[\t0.415492958\t,\t0.647887324\t]\t,\n",
    "[\t0.647887324\t,\t0.612676056\t]\t,\n",
    "[\t0.612676056\t,\t1\t]\t,\n",
    "[\t1\t,\t0.478873239\t]\t,\n",
    "[\t0.478873239\t,\t0.302816901\t]\t,\n",
    "[\t0.302816901\t,\t0.38028169\t]\t,\n",
    "[\t0.38028169\t,\t0.591549296\t]\t,\n",
    "[\t0.591549296\t,\t0.802816901\t]\t,\n",
    "[\t0.802816901\t,\t0.471830986\t]\t,\n",
    "[\t0.471830986\t,\t0.267605634\t]\t,\n",
    "[\t0.267605634\t,\t0.408450704\t]\t,\n",
    "[\t0.408450704\t,\t0.323943662\t]\t,\n",
    "[\t0.323943662\t,\t0.457746479\t]\t,\n",
    "[\t0.457746479\t,\t0.816901408\t]\t,\n",
    "[\t0.816901408\t,\t0.753521127\t]\t,\n",
    "[\t0.753521127\t,\t0.436619718\t]\t,\n",
    "[\t0.436619718\t,\t0.457746479\t]\t,\n",
    "[\t0.457746479\t,\t0.387323944\t]\t,\n",
    "[\t0.387323944\t,\t0.464788732\t]\t,\n",
    "[\t0.464788732\t,\t0.732394366\t]\t,\n",
    "[\t0.732394366\t,\t0.514084507\t]\t,\n",
    "[\t0.514084507\t,\t0.281690141\t]\t,\n",
    "[\t0.281690141\t,\t0.190140845\t]\t,\n",
    "[\t0.190140845\t,\t0.514084507\t]\t,\n",
    "[\t0.514084507\t,\t0.507042254\t]\t,\n",
    "[\t0.507042254\t,\t0.753521127\t]\t,\n",
    "[\t0.753521127\t,\t0.542253521\t]\t,\n",
    "[\t0.542253521\t,\t0.26056338\t]\t,\n",
    "[\t0.26056338\t,\t0.394366197\t]\t,\n",
    "[\t0.394366197\t,\t0.626760563\t]\t,\n",
    "[\t0.626760563\t,\t0.795774648\t]\t,\n",
    "[\t0.795774648\t,\t0.704225352\t]\t,\n",
    "[\t0.704225352\t,\t0.535211268\t]\t,\n",
    "[\t0.535211268\t,\t0.401408451\t]\t,\n",
    "[\t0.401408451\t,\t0.126760563\t]\t,\n",
    "[\t0.126760563\t,\t0.330985915\t]\t,\n",
    "[\t0.330985915\t,\t0.415492958\t]\t,\n",
    "[\t0.415492958\t,\t0.556338028\t]\t,\n",
    "[\t0.556338028\t,\t0.591549296\t]\t,\n",
    "\n",
    ")           \n",
    ",dtype=float)\n",
    "y=np.array(([\t0.436619718\t]\t,\n",
    "[\t0.570422535\t]\t,\n",
    "[\t0.669014085\t]\t,\n",
    "[\t0.697183099\t]\t,\n",
    "[\t0.971830986\t]\t,\n",
    "[\t0.591549296\t]\t,\n",
    "[\t0.281690141\t]\t,\n",
    "[\t0.26056338\t]\t,\n",
    "[\t0.464788732\t]\t,\n",
    "[\t0.992957746\t]\t,\n",
    "[\t0.676056338\t]\t,\n",
    "[\t0.253521127\t]\t,\n",
    "[\t0.450704225\t]\t,\n",
    "[\t0\t]\t,\n",
    "[\t0.485915493\t]\t,\n",
    "[\t0.781690141\t]\t,\n",
    "[\t0.802816901\t]\t,\n",
    "[\t0.302816901\t]\t,\n",
    "[\t0.471830986\t]\t,\n",
    "[\t0.415492958\t]\t,\n",
    "[\t0.647887324\t]\t,\n",
    "[\t0.612676056\t]\t,\n",
    "[\t1\t]\t,\n",
    "[\t0.478873239\t]\t,\n",
    "[\t0.302816901\t]\t,\n",
    "[\t0.38028169\t]\t,\n",
    "[\t0.591549296\t]\t,\n",
    "[\t0.802816901\t]\t,\n",
    "[\t0.471830986\t]\t,\n",
    "[\t0.267605634\t]\t,\n",
    "[\t0.408450704\t]\t,\n",
    "[\t0.323943662\t]\t,\n",
    "[\t0.457746479\t]\t,\n",
    "[\t0.816901408\t]\t,\n",
    "[\t0.753521127\t]\t,\n",
    "[\t0.436619718\t]\t,\n",
    "[\t0.457746479\t]\t,\n",
    "[\t0.387323944\t]\t,\n",
    "[\t0.464788732\t]\t,\n",
    "[\t0.732394366\t]\t,\n",
    "[\t0.514084507\t]\t,\n",
    "[\t0.281690141\t]\t,\n",
    "[\t0.190140845\t]\t,\n",
    "[\t0.514084507\t]\t,\n",
    "[\t0.507042254\t]\t,\n",
    "[\t0.753521127\t]\t,\n",
    "[\t0.542253521\t]\t,\n",
    "[\t0.26056338\t]\t,\n",
    "[\t0.394366197\t]\t,\n",
    "[\t0.626760563\t]\t,\n",
    "[\t0.795774648\t]\t,\n",
    "[\t0.704225352\t]\t,\n",
    "[\t0.535211268\t]\t,\n",
    "[\t0.401408451\t]\t,\n",
    "[\t0.126760563\t]\t,\n",
    "[\t0.330985915\t]\t,\n",
    "[\t0.415492958\t]\t,\n",
    "[\t0.556338028\t]\t,\n",
    "[\t0.591549296\t]\t,\n",
    "[\t0.514084507\t]\t,\n",
    "\n",
    ")\n",
    ",dtype=float)\n",
    "\n",
    "dataprediksi = np.array(([\t0.591549296\t,\t0.514084507\t]\t,\n",
    "[\t0.514084507\t,\t0.387323944\t]\t,\n",
    "[\t0.387323944\t,\t0.373239437\t]\t,\n",
    "[\t0.373239437\t,\t0.366197183\t]\t,\n",
    "\n",
    "\n",
    "\n",
    "), dtype=float)\n"
   ]
  },
  {
   "cell_type": "code",
   "execution_count": 7,
   "metadata": {},
   "outputs": [],
   "source": [
    "import matplotlib.pyplot as plot"
   ]
  },
  {
   "cell_type": "code",
   "execution_count": 8,
   "metadata": {},
   "outputs": [],
   "source": [
    "from scipy import optimize"
   ]
  },
  {
   "cell_type": "code",
   "execution_count": 9,
   "metadata": {},
   "outputs": [],
   "source": [
    "class trainer(object):\n",
    "    def __init__(self, N):\n",
    "        #Make Local reference to network:\n",
    "        self.N = N\n",
    "        \n",
    "    def callbackF(self, params):\n",
    "        self.N.setParams(params)\n",
    "        self.J.append(self.N.costFunction(self.X, self.y))   \n",
    "        \n",
    "    def costFunctionWrapper(self, params, X, y):\n",
    "        self.N.setParams(params)\n",
    "        cost = self.N.costFunction(X, y)\n",
    "        grad = self.N.computeGradients(X,y)\n",
    "        \n",
    "        return cost, grad\n",
    "        \n",
    "    def train(self, X, y):\n",
    "        #Make an internal variable for the callback function:\n",
    "        self.X = X\n",
    "        self.y = y\n",
    "\n",
    "        #Make empty list to store costs:\n",
    "        self.J = []\n",
    "        \n",
    "        params0 = self.N.getParams()\n",
    "\n",
    "        options = {'maxiter': 100, 'disp' : True}\n",
    "        _res = optimize.minimize(self.costFunctionWrapper, params0, jac=True, method='BFGS', \\\n",
    "                                 args=(X, y), options=options, callback=self.callbackF)\n",
    "\n",
    "        self.N.setParams(_res.x)\n",
    "        self.optimizationResults = _res"
   ]
  },
  {
   "cell_type": "code",
   "execution_count": 10,
   "metadata": {},
   "outputs": [],
   "source": [
    "NN=Neural_Network()"
   ]
  },
  {
   "cell_type": "code",
   "execution_count": 11,
   "metadata": {},
   "outputs": [],
   "source": [
    "T = trainer(NN)"
   ]
  },
  {
   "cell_type": "code",
   "execution_count": 12,
   "metadata": {},
   "outputs": [
    {
     "name": "stdout",
     "output_type": "stream",
     "text": [
      "Warning: Desired error not necessarily achieved due to precision loss.\n",
      "         Current function value: 1.090896\n",
      "         Iterations: 43\n",
      "         Function evaluations: 68\n",
      "         Gradient evaluations: 57\n"
     ]
    },
    {
     "name": "stderr",
     "output_type": "stream",
     "text": [
      "C:\\Users\\ASUS\\Anaconda3\\lib\\site-packages\\ipykernel_launcher.py:37: RuntimeWarning: overflow encountered in square\n",
      "C:\\Users\\ASUS\\Anaconda3\\lib\\site-packages\\ipykernel_launcher.py:37: RuntimeWarning: invalid value encountered in true_divide\n",
      "C:\\Users\\ASUS\\Anaconda3\\lib\\site-packages\\ipykernel_launcher.py:37: RuntimeWarning: overflow encountered in square\n",
      "C:\\Users\\ASUS\\Anaconda3\\lib\\site-packages\\ipykernel_launcher.py:37: RuntimeWarning: invalid value encountered in true_divide\n"
     ]
    }
   ],
   "source": [
    "#Train network with new data:\n",
    "T = trainer(NN)\n",
    "T.train(X,y)"
   ]
  },
  {
   "cell_type": "code",
   "execution_count": 13,
   "metadata": {},
   "outputs": [
    {
     "data": {
      "image/png": "[encoded data removed]",
      "text/plain": [
       "<Figure size 432x288 with 1 Axes>"
      ]
     },
     "metadata": {
      "needs_background": "light"
     },
     "output_type": "display_data"
    }
   ],
   "source": [
    "#Plot cost during training:\n",
    "plot.plot(T.J)\n",
    "plot.grid(1)\n",
    "plot.xlabel('Iterations')\n",
    "plot.ylabel('Cost')\n",
    "plot.show()"
   ]
  },
  {
   "cell_type": "code",
   "execution_count": 14,
   "metadata": {},
   "outputs": [],
   "source": [
    "#Training Data:\n",
    "trainX = np.array(([\t0.147887324\t,\t0.063380282\t]\t,\n",
    "[\t0.063380282\t,\t0.436619718\t]\t,\n",
    "[\t0.436619718\t,\t0.570422535\t]\t,\n",
    "[\t0.570422535\t,\t0.669014085\t]\t,\n",
    "[\t0.669014085\t,\t0.697183099\t]\t,\n",
    "[\t0.697183099\t,\t0.971830986\t]\t,\n",
    "[\t0.971830986\t,\t0.591549296\t]\t,\n",
    "[\t0.591549296\t,\t0.281690141\t]\t,\n",
    "[\t0.281690141\t,\t0.26056338\t]\t,\n",
    "[\t0.26056338\t,\t0.464788732\t]\t,\n",
    "[\t0.464788732\t,\t0.992957746\t]\t,\n",
    "[\t0.992957746\t,\t0.676056338\t]\t,\n",
    "[\t0.676056338\t,\t0.253521127\t]\t,\n",
    "[\t0.253521127\t,\t0.450704225\t]\t,\n",
    "[\t0.450704225\t,\t0\t]\t,\n",
    "[\t0\t,\t0.485915493\t]\t,\n",
    "[\t0.485915493\t,\t0.781690141\t]\t,\n",
    "[\t0.781690141\t,\t0.802816901\t]\t,\n",
    "[\t0.802816901\t,\t0.302816901\t]\t,\n",
    "[\t0.302816901\t,\t0.471830986\t]\t,\n",
    "[\t0.471830986\t,\t0.415492958\t]\t,\n",
    "[\t0.415492958\t,\t0.647887324\t]\t,\n",
    "[\t0.647887324\t,\t0.612676056\t]\t,\n",
    "[\t0.612676056\t,\t1\t]\t,\n",
    "[\t1\t,\t0.478873239\t]\t,\n",
    "[\t0.478873239\t,\t0.302816901\t]\t,\n",
    "[\t0.302816901\t,\t0.38028169\t]\t,\n",
    "[\t0.38028169\t,\t0.591549296\t]\t,\n",
    "[\t0.591549296\t,\t0.802816901\t]\t,\n",
    "[\t0.802816901\t,\t0.471830986\t]\t,\n",
    "[\t0.471830986\t,\t0.267605634\t]\t,\n",
    "[\t0.267605634\t,\t0.408450704\t]\t,\n",
    "[\t0.408450704\t,\t0.323943662\t]\t,\n",
    "[\t0.323943662\t,\t0.457746479\t]\t,\n",
    "[\t0.457746479\t,\t0.816901408\t]\t,\n",
    "[\t0.816901408\t,\t0.753521127\t]\t,\n",
    "[\t0.753521127\t,\t0.436619718\t]\t,\n",
    "[\t0.436619718\t,\t0.457746479\t]\t,\n",
    "[\t0.457746479\t,\t0.387323944\t]\t,\n",
    "[\t0.387323944\t,\t0.464788732\t]\t,\n",
    "[\t0.464788732\t,\t0.732394366\t]\t,\n",
    "[\t0.732394366\t,\t0.514084507\t]\t,\n",
    "[\t0.514084507\t,\t0.281690141\t]\t,\n",
    "[\t0.281690141\t,\t0.190140845\t]\t,\n",
    "[\t0.190140845\t,\t0.514084507\t]\t,\n",
    "[\t0.514084507\t,\t0.507042254\t]\t,\n",
    "[\t0.507042254\t,\t0.753521127\t]\t,\n",
    "\n",
    ")\n",
    ", dtype=float)\n",
    "trainY = np.array(([\t0.436619718\t]\t,\n",
    "[\t0.570422535\t]\t,\n",
    "[\t0.669014085\t]\t,\n",
    "[\t0.697183099\t]\t,\n",
    "[\t0.971830986\t]\t,\n",
    "[\t0.591549296\t]\t,\n",
    "[\t0.281690141\t]\t,\n",
    "[\t0.26056338\t]\t,\n",
    "[\t0.464788732\t]\t,\n",
    "[\t0.992957746\t]\t,\n",
    "[\t0.676056338\t]\t,\n",
    "[\t0.253521127\t]\t,\n",
    "[\t0.450704225\t]\t,\n",
    "[\t0\t]\t,\n",
    "[\t0.485915493\t]\t,\n",
    "[\t0.781690141\t]\t,\n",
    "[\t0.802816901\t]\t,\n",
    "[\t0.302816901\t]\t,\n",
    "[\t0.471830986\t]\t,\n",
    "[\t0.415492958\t]\t,\n",
    "[\t0.647887324\t]\t,\n",
    "[\t0.612676056\t]\t,\n",
    "[\t1\t]\t,\n",
    "[\t0.478873239\t]\t,\n",
    "[\t0.302816901\t]\t,\n",
    "[\t0.38028169\t]\t,\n",
    "[\t0.591549296\t]\t,\n",
    "[\t0.802816901\t]\t,\n",
    "[\t0.471830986\t]\t,\n",
    "[\t0.267605634\t]\t,\n",
    "[\t0.408450704\t]\t,\n",
    "[\t0.323943662\t]\t,\n",
    "[\t0.457746479\t]\t,\n",
    "[\t0.816901408\t]\t,\n",
    "[\t0.753521127\t]\t,\n",
    "[\t0.436619718\t]\t,\n",
    "[\t0.457746479\t]\t,\n",
    "[\t0.387323944\t]\t,\n",
    "[\t0.464788732\t]\t,\n",
    "[\t0.732394366\t]\t,\n",
    "[\t0.514084507\t]\t,\n",
    "[\t0.281690141\t]\t,\n",
    "[\t0.190140845\t]\t,\n",
    "[\t0.514084507\t]\t,\n",
    "[\t0.507042254\t]\t,\n",
    "[\t0.753521127\t]\t,\n",
    "[\t0.542253521\t]\t,\n",
    "\n",
    ")\n",
    ", dtype=float)\n",
    "\n",
    "#Testing Data:\n",
    "testX = np.array(([\t0.753521127\t,\t0.542253521\t]\t,\n",
    "[\t0.542253521\t,\t0.26056338\t]\t,\n",
    "[\t0.26056338\t,\t0.394366197\t]\t,\n",
    "[\t0.394366197\t,\t0.626760563\t]\t,\n",
    "[\t0.626760563\t,\t0.795774648\t]\t,\n",
    "[\t0.795774648\t,\t0.704225352\t]\t,\n",
    "[\t0.704225352\t,\t0.535211268\t]\t,\n",
    "[\t0.535211268\t,\t0.401408451\t]\t,\n",
    "[\t0.401408451\t,\t0.126760563\t]\t,\n",
    "[\t0.126760563\t,\t0.330985915\t]\t,\n",
    "[\t0.330985915\t,\t0.415492958\t]\t,\n",
    "[\t0.415492958\t,\t0.556338028\t]\t,\n",
    "[\t0.556338028\t,\t0.591549296\t]\t,\n",
    "\n",
    ")\n",
    ", dtype=float)\n",
    "testY = np.array(([\t0.26056338\t]\t,\n",
    "[\t0.394366197\t]\t,\n",
    "[\t0.626760563\t]\t,\n",
    "[\t0.795774648\t]\t,\n",
    "[\t0.704225352\t]\t,\n",
    "[\t0.535211268\t]\t,\n",
    "[\t0.401408451\t]\t,\n",
    "[\t0.126760563\t]\t,\n",
    "[\t0.330985915\t]\t,\n",
    "[\t0.415492958\t]\t,\n",
    "[\t0.556338028\t]\t,\n",
    "[\t0.591549296\t]\t,\n",
    "[\t0.514084507\t]\t,\n",
    "\n",
    ")\n",
    ", dtype=float)\n",
    "\n",
    "\n",
    "dataprediksi = np.array(([\t0.591549296\t,\t0.514084507\t]\t,\n",
    "[\t0.514084507\t,\t0.387323944\t]\t,\n",
    "[\t0.387323944\t,\t0.373239437\t]\t,\n",
    "[\t0.373239437\t,\t0.366197183\t]\t,\n",
    "\n",
    "\n",
    "), dtype=float)"
   ]
  },
  {
   "cell_type": "code",
   "execution_count": 15,
   "metadata": {},
   "outputs": [
    {
     "data": {
      "text/plain": [
       "array([[0.75352113, 0.54225352],\n",
       "       [0.54225352, 0.26056338],\n",
       "       [0.26056338, 0.3943662 ],\n",
       "       [0.3943662 , 0.62676056],\n",
       "       [0.62676056, 0.79577465],\n",
       "       [0.79577465, 0.70422535],\n",
       "       [0.70422535, 0.53521127],\n",
       "       [0.53521127, 0.40140845],\n",
       "       [0.40140845, 0.12676056],\n",
       "       [0.12676056, 0.33098592],\n",
       "       [0.33098592, 0.41549296],\n",
       "       [0.41549296, 0.55633803],\n",
       "       [0.55633803, 0.5915493 ]])"
      ]
     },
     "execution_count": 15,
     "metadata": {},
     "output_type": "execute_result"
    }
   ],
   "source": [
    "testX"
   ]
  },
  {
   "cell_type": "code",
   "execution_count": 16,
   "metadata": {},
   "outputs": [],
   "source": [
    "##Need to modify trainer class a bit to check testing error during training:\n",
    "class trainer(object):\n",
    "    def __init__(self, N):\n",
    "        #Make Local reference to network:\n",
    "        self.N = N\n",
    "        \n",
    "    def callbackF(self, params):\n",
    "        self.N.setParams(params)\n",
    "        self.J.append(self.N.costFunction(self.X, self.y))\n",
    "        self.testJ.append(self.N.costFunction(self.testX, self.testY))\n",
    "        \n",
    "    def costFunctionWrapper(self, params, X, y):\n",
    "        self.N.setParams(params)\n",
    "        cost = self.N.costFunction(X, y)\n",
    "        grad = self.N.computeGradients(X,y)\n",
    "        \n",
    "        return cost, grad\n",
    "        \n",
    "    def train(self, trainX, trainY, testX, testY):\n",
    "        #Make an internal variable for the callback function:\n",
    "        self.X = trainX\n",
    "        self.y = trainY\n",
    "        \n",
    "        self.testX = testX\n",
    "        self.testY = testY\n",
    "\n",
    "        #Make empty list to store training costs:\n",
    "        self.J = []\n",
    "        self.testJ = []\n",
    "        \n",
    "        params0 = self.N.getParams()\n",
    "\n",
    "        options = {'maxiter': 100, 'disp' : True}\n",
    "        _res = optimize.minimize(self.costFunctionWrapper, params0, jac=True, method='BFGS', \\\n",
    "                                 args=(trainX, trainY), options=options, callback=self.callbackF)\n",
    "\n",
    "        self.N.setParams(_res.x)\n",
    "        self.optimizationResults = _res"
   ]
  },
  {
   "cell_type": "code",
   "execution_count": 17,
   "metadata": {},
   "outputs": [
    {
     "name": "stdout",
     "output_type": "stream",
     "text": [
      "Optimization terminated successfully.\n",
      "         Current function value: 0.919658\n",
      "         Iterations: 41\n",
      "         Function evaluations: 51\n",
      "         Gradient evaluations: 51\n"
     ]
    }
   ],
   "source": [
    "#Train network with new data:\n",
    "NN = Neural_Network()\n",
    "\n",
    "T = trainer(NN)\n",
    "T.train(trainX, trainY, testX, testY)"
   ]
  },
  {
   "cell_type": "code",
   "execution_count": 18,
   "metadata": {},
   "outputs": [
    {
     "data": {
      "image/png": "[encoded data removed]",
      "text/plain": [
       "<Figure size 432x288 with 1 Axes>"
      ]
     },
     "metadata": {
      "needs_background": "light"
     },
     "output_type": "display_data"
    }
   ],
   "source": [
    "#Plot cost during training:\n",
    "plot.plot(T.J)\n",
    "plot.plot(T.testJ)\n",
    "plot.grid(1)\n",
    "plot.xlabel('Iterations')\n",
    "plot.ylabel('Cost')\n",
    "plot.legend(['Training', 'Testing'])\n",
    "plot.show()"
   ]
  },
  {
   "cell_type": "code",
   "execution_count": 19,
   "metadata": {},
   "outputs": [
    {
     "data": {
      "text/plain": [
       "[array([1.07934708]),\n",
       " array([1.07790556]),\n",
       " array([1.07758312]),\n",
       " array([1.07479005]),\n",
       " array([1.0696324]),\n",
       " array([1.02995825]),\n",
       " array([0.97981705]),\n",
       " array([0.97447244]),\n",
       " array([0.97297859]),\n",
       " array([0.9709247]),\n",
       " array([0.97068196]),\n",
       " array([0.97041299]),\n",
       " array([0.96989958]),\n",
       " array([0.96892201]),\n",
       " array([0.96711984]),\n",
       " array([0.96418452]),\n",
       " array([0.96093329]),\n",
       " array([0.94212573]),\n",
       " array([0.92898491]),\n",
       " array([0.92588673]),\n",
       " array([0.92428185]),\n",
       " array([0.92327473]),\n",
       " array([0.92251303]),\n",
       " array([0.92171223]),\n",
       " array([0.92081531]),\n",
       " array([0.92008396]),\n",
       " array([0.91977791]),\n",
       " array([0.91971877]),\n",
       " array([0.91971413]),\n",
       " array([0.91971382]),\n",
       " array([0.91971328]),\n",
       " array([0.91971224]),\n",
       " array([0.91967724]),\n",
       " array([0.91967627]),\n",
       " array([0.91967441]),\n",
       " array([0.91967089]),\n",
       " array([0.9196647]),\n",
       " array([0.91965817]),\n",
       " array([0.91965795]),\n",
       " array([0.91965788]),\n",
       " array([0.91965788])]"
      ]
     },
     "execution_count": 19,
     "metadata": {},
     "output_type": "execute_result"
    }
   ],
   "source": [
    "T.J"
   ]
  },
  {
   "cell_type": "code",
   "execution_count": 20,
   "metadata": {},
   "outputs": [
    {
     "data": {
      "text/plain": [
       "[array([0.22214723]),\n",
       " array([0.21779238]),\n",
       " array([0.21728448]),\n",
       " array([0.21500095]),\n",
       " array([0.21265995]),\n",
       " array([0.19954332]),\n",
       " array([0.18028704]),\n",
       " array([0.17533627]),\n",
       " array([0.17573229]),\n",
       " array([0.17915243]),\n",
       " array([0.18126303]),\n",
       " array([0.18075867]),\n",
       " array([0.18022959]),\n",
       " array([0.17941027]),\n",
       " array([0.17814487]),\n",
       " array([0.17647968]),\n",
       " array([0.17536742]),\n",
       " array([0.17435359]),\n",
       " array([0.17699922]),\n",
       " array([0.17706185]),\n",
       " array([0.1767119]),\n",
       " array([0.17538625]),\n",
       " array([0.17440419]),\n",
       " array([0.17323028]),\n",
       " array([0.17241943]),\n",
       " array([0.17202107]),\n",
       " array([0.17181346]),\n",
       " array([0.17169436]),\n",
       " array([0.17165066]),\n",
       " array([0.17163897]),\n",
       " array([0.17161838]),\n",
       " array([0.17158312]),\n",
       " array([0.17054964]),\n",
       " array([0.17048353]),\n",
       " array([0.17050106]),\n",
       " array([0.17053565]),\n",
       " array([0.17061081]),\n",
       " array([0.17079511]),\n",
       " array([0.17077715]),\n",
       " array([0.17077228]),\n",
       " array([0.17077233])]"
      ]
     },
     "execution_count": 20,
     "metadata": {},
     "output_type": "execute_result"
    }
   ],
   "source": [
    "T.testJ"
   ]
  },
  {
   "cell_type": "code",
   "execution_count": 21,
   "metadata": {},
   "outputs": [
    {
     "data": {
      "text/plain": [
       "0.7760881287813854"
      ]
     },
     "execution_count": 21,
     "metadata": {},
     "output_type": "execute_result"
    }
   ],
   "source": [
    "from sklearn.metrics import mean_absolute_error\n",
    "mean_absolute_error(T.J, T.testJ)"
   ]
  },
  {
   "cell_type": "code",
   "execution_count": 22,
   "metadata": {},
   "outputs": [],
   "source": [
    "yHat = NN.forward(X)"
   ]
  },
  {
   "cell_type": "code",
   "execution_count": 23,
   "metadata": {},
   "outputs": [
    {
     "data": {
      "text/plain": [
       "array([[0.50015421],\n",
       "       [0.61211302],\n",
       "       [0.61211302],\n",
       "       [0.61211301],\n",
       "       [0.61211077],\n",
       "       [0.61211302],\n",
       "       [0.5       ],\n",
       "       [0.5       ],\n",
       "       [0.58816762],\n",
       "       [0.61211302],\n",
       "       [0.61211302],\n",
       "       [0.5       ],\n",
       "       [0.5       ],\n",
       "       [0.61211302],\n",
       "       [0.5       ],\n",
       "       [0.61211302],\n",
       "       [0.61211302],\n",
       "       [0.61211184],\n",
       "       [0.5       ],\n",
       "       [0.61211302],\n",
       "       [0.558367  ],\n",
       "       [0.61211302],\n",
       "       [0.61059305],\n",
       "       [0.61211302],\n",
       "       [0.5       ],\n",
       "       [0.50000093],\n",
       "       [0.61211167],\n",
       "       [0.61211302],\n",
       "       [0.61211302],\n",
       "       [0.5       ],\n",
       "       [0.50000005],\n",
       "       [0.61211301],\n",
       "       [0.50337096],\n",
       "       [0.61211301],\n",
       "       [0.61211302],\n",
       "       [0.60887663],\n",
       "       [0.5       ],\n",
       "       [0.61204061],\n",
       "       [0.52067291],\n",
       "       [0.61211252],\n",
       "       [0.61211302],\n",
       "       [0.50000029],\n",
       "       [0.50000001],\n",
       "       [0.50037895],\n",
       "       [0.61211302],\n",
       "       [0.61164715],\n",
       "       [0.61211302],\n",
       "       [0.50000075],\n",
       "       [0.5       ],\n",
       "       [0.61211301],\n",
       "       [0.61211302],\n",
       "       [0.61211302],\n",
       "       [0.568899  ],\n",
       "       [0.50002752],\n",
       "       [0.50011946],\n",
       "       [0.5       ],\n",
       "       [0.61211302],\n",
       "       [0.61211254],\n",
       "       [0.61211302],\n",
       "       [0.61210872]])"
      ]
     },
     "execution_count": 23,
     "metadata": {},
     "output_type": "execute_result"
    }
   ],
   "source": [
    "yHat"
   ]
  },
  {
   "cell_type": "code",
   "execution_count": 24,
   "metadata": {},
   "outputs": [
    {
     "data": {
      "text/plain": [
       "array([[0.43661972],\n",
       "       [0.57042253],\n",
       "       [0.66901409],\n",
       "       [0.6971831 ],\n",
       "       [0.97183099],\n",
       "       [0.5915493 ],\n",
       "       [0.28169014],\n",
       "       [0.26056338],\n",
       "       [0.46478873],\n",
       "       [0.99295775],\n",
       "       [0.67605634],\n",
       "       [0.25352113],\n",
       "       [0.45070423],\n",
       "       [0.        ],\n",
       "       [0.48591549],\n",
       "       [0.78169014],\n",
       "       [0.8028169 ],\n",
       "       [0.3028169 ],\n",
       "       [0.47183099],\n",
       "       [0.41549296],\n",
       "       [0.64788732],\n",
       "       [0.61267606],\n",
       "       [1.        ],\n",
       "       [0.47887324],\n",
       "       [0.3028169 ],\n",
       "       [0.38028169],\n",
       "       [0.5915493 ],\n",
       "       [0.8028169 ],\n",
       "       [0.47183099],\n",
       "       [0.26760563],\n",
       "       [0.4084507 ],\n",
       "       [0.32394366],\n",
       "       [0.45774648],\n",
       "       [0.81690141],\n",
       "       [0.75352113],\n",
       "       [0.43661972],\n",
       "       [0.45774648],\n",
       "       [0.38732394],\n",
       "       [0.46478873],\n",
       "       [0.73239437],\n",
       "       [0.51408451],\n",
       "       [0.28169014],\n",
       "       [0.19014085],\n",
       "       [0.51408451],\n",
       "       [0.50704225],\n",
       "       [0.75352113],\n",
       "       [0.54225352],\n",
       "       [0.26056338],\n",
       "       [0.3943662 ],\n",
       "       [0.62676056],\n",
       "       [0.79577465],\n",
       "       [0.70422535],\n",
       "       [0.53521127],\n",
       "       [0.40140845],\n",
       "       [0.12676056],\n",
       "       [0.33098592],\n",
       "       [0.41549296],\n",
       "       [0.55633803],\n",
       "       [0.5915493 ],\n",
       "       [0.51408451]])"
      ]
     },
     "execution_count": 24,
     "metadata": {},
     "output_type": "execute_result"
    }
   ],
   "source": [
    "y"
   ]
  },
  {
   "cell_type": "code",
   "execution_count": 25,
   "metadata": {},
   "outputs": [
    {
     "data": {
      "text/plain": [
       "0.036347673551256614"
      ]
     },
     "execution_count": 25,
     "metadata": {},
     "output_type": "execute_result"
    }
   ],
   "source": [
    "from sklearn.metrics import mean_squared_error \n",
    "mean_squared_error(y,yHat) "
   ]
  },
  {
   "cell_type": "code",
   "execution_count": 26,
   "metadata": {},
   "outputs": [
    {
     "data": {
      "image/png": "[encoded data removed]",
      "text/plain": [
       "<Figure size 432x288 with 1 Axes>"
      ]
     },
     "metadata": {
      "needs_background": "light"
     },
     "output_type": "display_data"
    }
   ],
   "source": [
    "#Plot cost during training:\n",
    "plot.plot(y)\n",
    "plot.plot(yHat)\n",
    "plot.grid(1)\n",
    "plot.legend(['y', 'yHat'])\n",
    "plot.show()"
   ]
  },
  {
   "cell_type": "code",
   "execution_count": 27,
   "metadata": {},
   "outputs": [],
   "source": [
    "#Regularization Parameter:\n",
    "Lambda = 0.0001"
   ]
  },
  {
   "cell_type": "code",
   "execution_count": 28,
   "metadata": {},
   "outputs": [],
   "source": [
    "#Need to make changes to costFunction and costFunctionPrim:\n",
    "def costFunction(self, X, y):\n",
    "    #Compute cost for given X,y, use weights already stored in class.\n",
    "    self.yHat = self.forward(X)\n",
    "    #We don't want cost to increase with the number of examples, so normalize by dividing the error term by number of examples(X.shape[0])\n",
    "    J = 0.5*sum((y-self.yHat)**2)/X.shape[0] + (self.Lambda/2)*(sum(self.W1**2)+sum(self.W2**2))\n",
    "    return J\n",
    "\n",
    "def costFunctionPrime(self, X, y):\n",
    "    #Compute derivative with respect to W and W2 for a given X and y:\n",
    "    self.yHat = self.forward(X)\n",
    "\n",
    "    delta3 = np.multiply(-(y-self.yHat), self.sigmoidPrime(self.z3))\n",
    "    #Add gradient of regularization term:\n",
    "    dJdW2 = np.dot(self.a2.T, delta3)/X.shape[0] + self.Lambda*self.W2\n",
    "\n",
    "    delta2 = np.dot(delta3, self.W2.T)*self.sigmoidPrime(self.z2)\n",
    "    #Add gradient of regularization term:\n",
    "    dJdW1 = np.dot(X.T, delta2)/X.shape[0] + self.Lambda*self.W1\n",
    "\n",
    "    return dJdW1, dJdW2"
   ]
  },
  {
   "cell_type": "code",
   "execution_count": 29,
   "metadata": {},
   "outputs": [],
   "source": [
    "#New complete class, with changes:\n",
    "class Neural_Network(object):\n",
    "    def __init__(self, Lambda=0.0001):        \n",
    "        #Define Hyperparameters\n",
    "        self.inputLayerSize = 2\n",
    "        self.outputLayerSize = 1\n",
    "        self.hiddenLayerSize = 1\n",
    "        \n",
    "        #Weights (parameters)\n",
    "        self.W1 = np.random.randn(self.inputLayerSize,self.hiddenLayerSize)\n",
    "        self.W2 = np.random.randn(self.hiddenLayerSize,self.outputLayerSize)\n",
    "        \n",
    "        #Regularization Parameter:\n",
    "        self.Lambda = Lambda\n",
    "        \n",
    "    def forward(self, X):\n",
    "        #Propogate inputs though network\n",
    "        self.z2 = np.dot(X, self.W1)\n",
    "        self.a2 = self.sigmoid(self.z2)\n",
    "        self.z3 = np.dot(self.a2, self.W2)\n",
    "        yHat = self.sigmoid(self.z3) \n",
    "        return yHat\n",
    "        \n",
    "    def sigmoid(self, z):\n",
    "        #Apply sigmoid activation function to scalar, vector, or matrix\n",
    "        return 1/(1+np.exp(-z))\n",
    "    \n",
    "    def sigmoidPrime(self,z):\n",
    "        #Gradient of sigmoid\n",
    "        return np.exp(-z)/((1+np.exp(-z))**2)\n",
    "    \n",
    "    def costFunction(self, X, y):\n",
    "        #Compute cost for given X,y, use weights already stored in class.\n",
    "        self.yHat = self.forward(X)\n",
    "        J = 0.5*sum((y-self.yHat)**2)/X.shape[0] + (self.Lambda/2)*(np.sum(self.W1**2)+np.sum(self.W2**2))\n",
    "        return J\n",
    "        \n",
    "    def costFunctionPrime(self, X, y):\n",
    "        #Compute derivative with respect to W and W2 for a given X and y:\n",
    "        self.yHat = self.forward(X)\n",
    "        \n",
    "        delta3 = np.multiply(-(y-self.yHat), self.sigmoidPrime(self.z3))\n",
    "        #Add gradient of regularization term:\n",
    "        dJdW2 = np.dot(self.a2.T, delta3)/X.shape[0] + self.Lambda*self.W2\n",
    "        \n",
    "        delta2 = np.dot(delta3, self.W2.T)*self.sigmoidPrime(self.z2)\n",
    "        #Add gradient of regularization term:\n",
    "        dJdW1 = np.dot(X.T, delta2)/X.shape[0] + self.Lambda*self.W1\n",
    "        \n",
    "        return dJdW1, dJdW2\n",
    "    \n",
    "    def predict(self):\n",
    "        prediksi = self.forward(dataprediksi)\n",
    "        return prediksi\n",
    "    \n",
    "    #Helper functions for interacting with other methods/classes\n",
    "    def getParams(self):\n",
    "        #Get W1 and W2 Rolled into vector:\n",
    "        params = np.concatenate((self.W1.ravel(), self.W2.ravel()))\n",
    "        return params\n",
    "    \n",
    "    def setParams(self, params):\n",
    "        #Set W1 and W2 using single parameter vector:\n",
    "        W1_start = 0\n",
    "        W1_end = self.hiddenLayerSize*self.inputLayerSize\n",
    "        self.W1 = np.reshape(params[W1_start:W1_end], \\\n",
    "                             (self.inputLayerSize, self.hiddenLayerSize))\n",
    "        W2_end = W1_end + self.hiddenLayerSize*self.outputLayerSize\n",
    "        self.W2 = np.reshape(params[W1_end:W2_end], \\\n",
    "                             (self.hiddenLayerSize, self.outputLayerSize))\n",
    "        \n",
    "    def computeGradients(self, X, y):\n",
    "        dJdW1, dJdW2 = self.costFunctionPrime(X, y)\n",
    "        return np.concatenate((dJdW1.ravel(), dJdW2.ravel()))"
   ]
  },
  {
   "cell_type": "code",
   "execution_count": 30,
   "metadata": {},
   "outputs": [],
   "source": [
    "def computeNumericalGradient(N, X, y):\n",
    "    paramsInitial = N.getParams()\n",
    "    numgrad = np.zeros(paramsInitial.shape)\n",
    "    perturb = np.zeros(paramsInitial.shape)\n",
    "    e = 1e-4\n",
    "\n",
    "    for p in range(len(paramsInitial)):\n",
    "        #Set perturbation vector\n",
    "        perturb[p] = e\n",
    "        N.setParams(paramsInitial + perturb)\n",
    "        loss2 = N.costFunction(X, y)\n",
    "            \n",
    "        N.setParams(paramsInitial - perturb)\n",
    "        loss1 = N.costFunction(X, y)\n",
    "\n",
    "        #Compute Numerical Gradient\n",
    "        numgrad[p] = (loss2 - loss1) / (2*e)\n",
    "\n",
    "            #Return the value we changed to zero:\n",
    "        perturb[p] = 0\n",
    "            \n",
    "    #Return Params to original value:\n",
    "    N.setParams(paramsInitial)\n",
    "\n",
    "    return numgrad "
   ]
  },
  {
   "cell_type": "code",
   "execution_count": 31,
   "metadata": {},
   "outputs": [],
   "source": [
    "NN = Neural_Network(Lambda=0.0001)"
   ]
  },
  {
   "cell_type": "code",
   "execution_count": 32,
   "metadata": {},
   "outputs": [],
   "source": [
    "#Make sure our gradients our correct after making changes:\n",
    "numgrad = computeNumericalGradient(NN, X, y)\n",
    "grad = NN.computeGradients(X,y)"
   ]
  },
  {
   "cell_type": "code",
   "execution_count": 33,
   "metadata": {},
   "outputs": [
    {
     "data": {
      "text/plain": [
       "3.1034122288072906e-10"
      ]
     },
     "execution_count": 33,
     "metadata": {},
     "output_type": "execute_result"
    }
   ],
   "source": [
    "#Should be less than 1e-8:\n",
    "np.linalg.norm(grad-numgrad)/np.linalg.norm(grad+numgrad)"
   ]
  },
  {
   "cell_type": "code",
   "execution_count": 34,
   "metadata": {},
   "outputs": [],
   "source": [
    "T = trainer(NN)"
   ]
  },
  {
   "cell_type": "code",
   "execution_count": 35,
   "metadata": {},
   "outputs": [
    {
     "name": "stdout",
     "output_type": "stream",
     "text": [
      "Optimization terminated successfully.\n",
      "         Current function value: 0.021306\n",
      "         Iterations: 41\n",
      "         Function evaluations: 46\n",
      "         Gradient evaluations: 46\n"
     ]
    }
   ],
   "source": [
    "T.train(X,y,testX,testY)"
   ]
  },
  {
   "cell_type": "code",
   "execution_count": 36,
   "metadata": {},
   "outputs": [
    {
     "data": {
      "image/png": "[encoded data removed]",
      "text/plain": [
       "<Figure size 432x288 with 1 Axes>"
      ]
     },
     "metadata": {
      "needs_background": "light"
     },
     "output_type": "display_data"
    }
   ],
   "source": [
    "plot.plot(T.J)\n",
    "plot.plot(T.testJ)\n",
    "plot.grid(1)\n",
    "plot.xlabel('Iterations')\n",
    "plot.ylabel('Cost')\n",
    "plot.legend(['Training', 'Testing'])\n",
    "plot.show()"
   ]
  },
  {
   "cell_type": "code",
   "execution_count": 37,
   "metadata": {},
   "outputs": [
    {
     "data": {
      "text/plain": [
       "[array([0.03040635]),\n",
       " array([0.0224672]),\n",
       " array([0.02195673]),\n",
       " array([0.02187198]),\n",
       " array([0.02186916]),\n",
       " array([0.02186911]),\n",
       " array([0.02186906]),\n",
       " array([0.02186896]),\n",
       " array([0.02186877]),\n",
       " array([0.02186842]),\n",
       " array([0.02186776]),\n",
       " array([0.02186655]),\n",
       " array([0.02186438]),\n",
       " array([0.02186067]),\n",
       " array([0.02185467]),\n",
       " array([0.02184536]),\n",
       " array([0.02183016]),\n",
       " array([0.02180416]),\n",
       " array([0.02175947]),\n",
       " array([0.02168622]),\n",
       " array([0.02162291]),\n",
       " array([0.0216209]),\n",
       " array([0.02162082]),\n",
       " array([0.0216208]),\n",
       " array([0.02162063]),\n",
       " array([0.02162033]),\n",
       " array([0.02161979]),\n",
       " array([0.02161878]),\n",
       " array([0.02161689]),\n",
       " array([0.02161337]),\n",
       " array([0.02160693]),\n",
       " array([0.02159554]),\n",
       " array([0.02157677]),\n",
       " array([0.02155049]),\n",
       " array([0.02152306]),\n",
       " array([0.02147701]),\n",
       " array([0.02140719]),\n",
       " array([0.02133333]),\n",
       " array([0.02130738]),\n",
       " array([0.02130611]),\n",
       " array([0.02130593])]"
      ]
     },
     "execution_count": 37,
     "metadata": {},
     "output_type": "execute_result"
    }
   ],
   "source": [
    "T.J"
   ]
  },
  {
   "cell_type": "code",
   "execution_count": 38,
   "metadata": {},
   "outputs": [
    {
     "data": {
      "text/plain": [
       "[array([0.02029052]),\n",
       " array([0.01539578]),\n",
       " array([0.01560362]),\n",
       " array([0.01589279]),\n",
       " array([0.01596552]),\n",
       " array([0.01597274]),\n",
       " array([0.01597755]),\n",
       " array([0.01598254]),\n",
       " array([0.01598871]),\n",
       " array([0.01599729]),\n",
       " array([0.01601016]),\n",
       " array([0.01603037]),\n",
       " array([0.01606307]),\n",
       " array([0.01611647]),\n",
       " array([0.01620118]),\n",
       " array([0.01631973]),\n",
       " array([0.01644738]),\n",
       " array([0.01656126]),\n",
       " array([0.01663581]),\n",
       " array([0.01659821]),\n",
       " array([0.01628277]),\n",
       " array([0.01633369]),\n",
       " array([0.01632371]),\n",
       " array([0.01632174]),\n",
       " array([0.01631195]),\n",
       " array([0.01630251]),\n",
       " array([0.01629301]),\n",
       " array([0.01628215]),\n",
       " array([0.01626862]),\n",
       " array([0.0162511]),\n",
       " array([0.01622859]),\n",
       " array([0.01620197]),\n",
       " array([0.01617884]),\n",
       " array([0.01618683]),\n",
       " array([0.01624711]),\n",
       " array([0.01636363]),\n",
       " array([0.01655685]),\n",
       " array([0.01673618]),\n",
       " array([0.01680375]),\n",
       " array([0.01685825]),\n",
       " array([0.01685696])]"
      ]
     },
     "execution_count": 38,
     "metadata": {},
     "output_type": "execute_result"
    }
   ],
   "source": [
    "T.testJ"
   ]
  },
  {
   "cell_type": "code",
   "execution_count": 39,
   "metadata": {},
   "outputs": [
    {
     "data": {
      "text/plain": [
       "0.005563394622151129"
      ]
     },
     "execution_count": 39,
     "metadata": {},
     "output_type": "execute_result"
    }
   ],
   "source": [
    "from sklearn.metrics import mean_absolute_error\n",
    "mean_absolute_error(T.J, T.testJ)"
   ]
  },
  {
   "cell_type": "code",
   "execution_count": 40,
   "metadata": {},
   "outputs": [],
   "source": [
    "yHat=NN.forward(X)"
   ]
  },
  {
   "cell_type": "code",
   "execution_count": 41,
   "metadata": {},
   "outputs": [
    {
     "data": {
      "text/plain": [
       "array([[0.54826935],\n",
       "       [0.57286287],\n",
       "       [0.54921621],\n",
       "       [0.54323265],\n",
       "       [0.53707614],\n",
       "       [0.54739074],\n",
       "       [0.51633036],\n",
       "       [0.52601132],\n",
       "       [0.54691074],\n",
       "       [0.55850212],\n",
       "       [0.56731181],\n",
       "       [0.5175397 ],\n",
       "       [0.5205944 ],\n",
       "       [0.55839501],\n",
       "       [0.52452512],\n",
       "       [0.57953789],\n",
       "       [0.55541525],\n",
       "       [0.53354383],\n",
       "       [0.51624585],\n",
       "       [0.55537218],\n",
       "       [0.53929992],\n",
       "       [0.55468657],\n",
       "       [0.53501023],\n",
       "       [0.55562976],\n",
       "       [0.51284516],\n",
       "       [0.53399238],\n",
       "       [0.55093012],\n",
       "       [0.5548365 ],\n",
       "       [0.54782968],\n",
       "       [0.52072234],\n",
       "       [0.53304498],\n",
       "       [0.55517924],\n",
       "       [0.53998309],\n",
       "       [0.55295363],\n",
       "       [0.55944412],\n",
       "       [0.52930106],\n",
       "       [0.52215601],\n",
       "       [0.54390277],\n",
       "       [0.53910571],\n",
       "       [0.54814374],\n",
       "       [0.55475089],\n",
       "       [0.5258298 ],\n",
       "       [0.53078858],\n",
       "       [0.54361779],\n",
       "       [0.56658652],\n",
       "       [0.54019904],\n",
       "       [0.55231357],\n",
       "       [0.52557405],\n",
       "       [0.52821225],\n",
       "       [0.55507208],\n",
       "       [0.55539372],\n",
       "       [0.54469993],\n",
       "       [0.52879398],\n",
       "       [0.52826054],\n",
       "       [0.53413678],\n",
       "       [0.53216558],\n",
       "       [0.56295685],\n",
       "       [0.55033629],\n",
       "       [0.55025165],\n",
       "       [0.54079039]])"
      ]
     },
     "execution_count": 41,
     "metadata": {},
     "output_type": "execute_result"
    }
   ],
   "source": [
    "yHat"
   ]
  },
  {
   "cell_type": "code",
   "execution_count": 42,
   "metadata": {},
   "outputs": [
    {
     "data": {
      "text/plain": [
       "array([[0.43661972],\n",
       "       [0.57042253],\n",
       "       [0.66901409],\n",
       "       [0.6971831 ],\n",
       "       [0.97183099],\n",
       "       [0.5915493 ],\n",
       "       [0.28169014],\n",
       "       [0.26056338],\n",
       "       [0.46478873],\n",
       "       [0.99295775],\n",
       "       [0.67605634],\n",
       "       [0.25352113],\n",
       "       [0.45070423],\n",
       "       [0.        ],\n",
       "       [0.48591549],\n",
       "       [0.78169014],\n",
       "       [0.8028169 ],\n",
       "       [0.3028169 ],\n",
       "       [0.47183099],\n",
       "       [0.41549296],\n",
       "       [0.64788732],\n",
       "       [0.61267606],\n",
       "       [1.        ],\n",
       "       [0.47887324],\n",
       "       [0.3028169 ],\n",
       "       [0.38028169],\n",
       "       [0.5915493 ],\n",
       "       [0.8028169 ],\n",
       "       [0.47183099],\n",
       "       [0.26760563],\n",
       "       [0.4084507 ],\n",
       "       [0.32394366],\n",
       "       [0.45774648],\n",
       "       [0.81690141],\n",
       "       [0.75352113],\n",
       "       [0.43661972],\n",
       "       [0.45774648],\n",
       "       [0.38732394],\n",
       "       [0.46478873],\n",
       "       [0.73239437],\n",
       "       [0.51408451],\n",
       "       [0.28169014],\n",
       "       [0.19014085],\n",
       "       [0.51408451],\n",
       "       [0.50704225],\n",
       "       [0.75352113],\n",
       "       [0.54225352],\n",
       "       [0.26056338],\n",
       "       [0.3943662 ],\n",
       "       [0.62676056],\n",
       "       [0.79577465],\n",
       "       [0.70422535],\n",
       "       [0.53521127],\n",
       "       [0.40140845],\n",
       "       [0.12676056],\n",
       "       [0.33098592],\n",
       "       [0.41549296],\n",
       "       [0.55633803],\n",
       "       [0.5915493 ],\n",
       "       [0.51408451]])"
      ]
     },
     "execution_count": 42,
     "metadata": {},
     "output_type": "execute_result"
    }
   ],
   "source": [
    "y"
   ]
  },
  {
   "cell_type": "code",
   "execution_count": 43,
   "metadata": {},
   "outputs": [
    {
     "data": {
      "text/plain": [
       "0.041457757863613325"
      ]
     },
     "execution_count": 43,
     "metadata": {},
     "output_type": "execute_result"
    }
   ],
   "source": [
    "from sklearn.metrics import mean_squared_error \n",
    "mean_squared_error(y,yHat) "
   ]
  },
  {
   "cell_type": "code",
   "execution_count": 44,
   "metadata": {},
   "outputs": [
    {
     "data": {
      "image/png": "[encoded data removed]",
      "text/plain": [
       "<Figure size 432x288 with 1 Axes>"
      ]
     },
     "metadata": {
      "needs_background": "light"
     },
     "output_type": "display_data"
    }
   ],
   "source": [
    "#Plot cost during training:\n",
    "plot.plot(y)\n",
    "plot.plot(yHat)\n",
    "plot.grid(1)\n",
    "plot.legend(['y', 'yHat'])\n",
    "plot.show()"
   ]
  },
  {
   "cell_type": "code",
   "execution_count": 45,
   "metadata": {},
   "outputs": [],
   "source": [
    "prediksi=NN.forward(dataprediksi)"
   ]
  },
  {
   "cell_type": "code",
   "execution_count": 46,
   "metadata": {},
   "outputs": [
    {
     "data": {
      "text/plain": [
       "array([[0.53486376],\n",
       "       [0.53502843],\n",
       "       [0.54384163],\n",
       "       [0.5446177 ]])"
      ]
     },
     "execution_count": 46,
     "metadata": {},
     "output_type": "execute_result"
    }
   ],
   "source": [
    "prediksi"
   ]
  },
  {
   "cell_type": "code",
   "execution_count": 47,
   "metadata": {},
   "outputs": [],
   "source": [
    "from sklearn.metrics import mean_squared_error "
   ]
  },
  {
   "cell_type": "code",
   "execution_count": 48,
   "metadata": {},
   "outputs": [
    {
     "data": {
      "text/plain": [
       "0.022423320967324"
      ]
     },
     "execution_count": 48,
     "metadata": {},
     "output_type": "execute_result"
    }
   ],
   "source": [
    "Y_true= ([\t0.387323944\t]\t,\n",
    "[\t0.373239437\t]\t,\n",
    "[\t0.366197183\t]\t,\n",
    "[\t0.443661972\t]\t,\n",
    ")\n",
    "\n",
    "\n",
    "Y_pred=prediksi\n",
    "mean_squared_error(Y_true,Y_pred) "
   ]
  },
  {
   "cell_type": "code",
   "execution_count": 49,
   "metadata": {},
   "outputs": [
    {
     "data": {
      "text/plain": [
       "array([[0.5915493 , 0.51408451],\n",
       "       [0.51408451, 0.38732394],\n",
       "       [0.38732394, 0.37323944],\n",
       "       [0.37323944, 0.36619718]])"
      ]
     },
     "execution_count": 49,
     "metadata": {},
     "output_type": "execute_result"
    }
   ],
   "source": [
    "dataprediksi"
   ]
  },
  {
   "cell_type": "code",
   "execution_count": 50,
   "metadata": {},
   "outputs": [],
   "source": [
    "a=np.array([\t0.366197183\t,\t0.443661972\t])"
   ]
  },
  {
   "cell_type": "code",
   "execution_count": 51,
   "metadata": {},
   "outputs": [
    {
     "data": {
      "text/plain": [
       "array([0.54883698])"
      ]
     },
     "execution_count": 51,
     "metadata": {},
     "output_type": "execute_result"
    }
   ],
   "source": [
    "#prediksi 1\n",
    "prediksi=NN.forward(a)\n",
    "prediksi"
   ]
  },
  {
   "cell_type": "code",
   "execution_count": 52,
   "metadata": {},
   "outputs": [
    {
     "data": {
      "text/plain": [
       "array([0.54761943])"
      ]
     },
     "execution_count": 52,
     "metadata": {},
     "output_type": "execute_result"
    }
   ],
   "source": [
    "#prediksi 2\n",
    "c=prediksi\n",
    "b=a[1:]\n",
    "d=np.concatenate((b,c))\n",
    "prediksi=NN.forward(d)\n",
    "prediksi"
   ]
  },
  {
   "cell_type": "code",
   "execution_count": 53,
   "metadata": {},
   "outputs": [
    {
     "data": {
      "text/plain": [
       "array([0.5393963])"
      ]
     },
     "execution_count": 53,
     "metadata": {},
     "output_type": "execute_result"
    }
   ],
   "source": [
    "#prediksi 3\n",
    "c=prediksi\n",
    "b=d[1:]\n",
    "e=np.concatenate((b,c))\n",
    "prediksi=NN.forward(e)\n",
    "prediksi"
   ]
  },
  {
   "cell_type": "code",
   "execution_count": 54,
   "metadata": {},
   "outputs": [
    {
     "data": {
      "text/plain": [
       "array([0.53912395])"
      ]
     },
     "execution_count": 54,
     "metadata": {},
     "output_type": "execute_result"
    }
   ],
   "source": [
    "#prediksi 4\n",
    "c=prediksi\n",
    "b=e[1:]\n",
    "f=np.concatenate((b,c))\n",
    "prediksi=NN.forward(f)\n",
    "prediksi"
   ]
  },
  {
   "cell_type": "code",
   "execution_count": 55,
   "metadata": {},
   "outputs": [
    {
     "data": {
      "text/plain": [
       "array([0.53972577])"
      ]
     },
     "execution_count": 55,
     "metadata": {},
     "output_type": "execute_result"
    }
   ],
   "source": [
    "#prediksi 5\n",
    "c=prediksi\n",
    "b=f[1:]\n",
    "g=np.concatenate((b,c))\n",
    "prediksi=NN.forward(g)\n",
    "prediksi"
   ]
  },
  {
   "cell_type": "code",
   "execution_count": 56,
   "metadata": {},
   "outputs": [
    {
     "data": {
      "text/plain": [
       "array([0.53977291])"
      ]
     },
     "execution_count": 56,
     "metadata": {},
     "output_type": "execute_result"
    }
   ],
   "source": [
    "#prediksi 6\n",
    "c=prediksi\n",
    "b=g[1:]\n",
    "h=np.concatenate((b,c))\n",
    "prediksi=NN.forward(h)\n",
    "prediksi"
   ]
  },
  {
   "cell_type": "code",
   "execution_count": null,
   "metadata": {},
   "outputs": [],
   "source": []
  },
  {
   "cell_type": "code",
   "execution_count": null,
   "metadata": {},
   "outputs": [],
   "source": []
  }
 ],
 "metadata": {
  "kernelspec": {
   "display_name": "Python 3",
   "language": "python",
   "name": "python3"
  },
  "language_info": {
   "codemirror_mode": {
    "name": "ipython",
    "version": 3
   },
   "file_extension": ".py",
   "mimetype": "text/x-python",
   "name": "python",
   "nbconvert_exporter": "python",
   "pygments_lexer": "ipython3",
   "version": "3.7.3"
  }
 },
 "nbformat": 4,
 "nbformat_minor": 2
}
