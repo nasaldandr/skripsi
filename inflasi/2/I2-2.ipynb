{
 "cells": [
  {
   "cell_type": "code",
   "execution_count": 1,
   "metadata": {},
   "outputs": [],
   "source": [
    "import numpy as np"
   ]
  },
  {
   "cell_type": "code",
   "execution_count": 2,
   "metadata": {},
   "outputs": [],
   "source": [
    "#UNTUK NILAI IMPOR\n",
    "class Neural_Network(object):\n",
    "    def __init__(self):\n",
    "        #parameters\n",
    "        self.inputLayerSize = 2\n",
    "        self.outputLayerSize = 1\n",
    "        self.hiddenLayerSize = 2\n",
    "\n",
    "        #weights\n",
    "        self.W1 = np.random.randn(self.inputLayerSize,\\\n",
    "                                 self.hiddenLayerSize)  \n",
    "        self.W2 = np.random.randn(self.hiddenLayerSize,\\\n",
    "                                 self.outputLayerSize)  \n",
    "    \n",
    "    def printw(self):\n",
    "        return self.W1\n",
    "        \n",
    "    def weight(self, W1, W2):\n",
    "        #Make an internal variable for the weight:\n",
    "        self.W1 = W1\n",
    "        self.W2 = W2\n",
    "        \n",
    "    def forward(self, X):\n",
    "        #forward propagation through our network\n",
    "        self.z2 = np.dot(X,self.W1)  \n",
    "        self.a2 = self.tanh(self.z2)  # activation function\n",
    "        self.z3 = np.dot(self.a2, self.W2) \n",
    "        yHat = self.tanh(self.z3)  # final activation function\n",
    "        return yHat\n",
    "\n",
    "    def tanh(self, z):\n",
    "        # activation function\n",
    "        return (np.exp(z)-np.exp(-z))/(np.exp(z)+np.exp(-z))\n",
    "    \n",
    "    def tanhPrime(self,z): \n",
    "        #derivative of tanh\n",
    "        return 1-((np.exp(z)-np.exp(-z))/(np.exp(z)+np.exp(-z)))**2\n",
    "    \n",
    "    def costFunction(self,X,y):\n",
    "        self.yHat = self.forward(X)\n",
    "        J=0.5*sum((y-self.yHat)**2)\n",
    "        return J\n",
    "    \n",
    "    def costFunctionPrime(self,X,y):\n",
    "        self.yHat=self.forward(X)\n",
    "        \n",
    "        delta3=np.multiply(-(y-self.yHat),self.tanhPrime(self.z3))\n",
    "        dJdW2=np.dot(self.a2.T,delta3)\n",
    "        \n",
    "        delta2=np.dot(delta3,self.W2.T)*self.tanhPrime(self.z2)\n",
    "        dJdW1=np.dot(X.T,delta2)\n",
    "        return dJdW1,dJdW2\n",
    "    \n",
    "    def predict(self):\n",
    "        prediksi = self.forward(dataprediksi)\n",
    "        return prediksi\n",
    "    \n",
    "    def getParams(self):\n",
    "        params=np.concatenate((self.W1.ravel(),self.W2.ravel()))\n",
    "        return params\n",
    "    \n",
    "    def setParams(self,params):\n",
    "        W1_start=0\n",
    "        W1_end=self.hiddenLayerSize*self.inputLayerSize\n",
    "        self.W1=np.reshape(params[W1_start:W1_end],\\\n",
    "                          (self.inputLayerSize,self.hiddenLayerSize))\n",
    "        W2_end=W1_end+self.hiddenLayerSize*self.outputLayerSize\n",
    "        self.W2=np.reshape(params[W1_end:W2_end],\\\n",
    "                          (self.hiddenLayerSize,self.outputLayerSize))\n",
    "        \n",
    "    def computeGradients(self, X, y):\n",
    "        dJdW1, dJdW2 = self.costFunctionPrime(X, y)\n",
    "        return np.concatenate((dJdW1.ravel(), dJdW2.ravel()))"
   ]
  },
  {
   "cell_type": "code",
   "execution_count": 3,
   "metadata": {},
   "outputs": [],
   "source": [
    "NN = Neural_Network()"
   ]
  },
  {
   "cell_type": "code",
   "execution_count": 4,
   "metadata": {},
   "outputs": [
    {
     "data": {
      "text/plain": [
       "array([[ 0.04117069, -0.65648547],\n",
       "       [ 1.33713604,  0.52448332]])"
      ]
     },
     "execution_count": 4,
     "metadata": {},
     "output_type": "execute_result"
    }
   ],
   "source": [
    "NN.W1"
   ]
  },
  {
   "cell_type": "code",
   "execution_count": 5,
   "metadata": {},
   "outputs": [
    {
     "data": {
      "text/plain": [
       "array([[1.58237033],\n",
       "       [1.04025797]])"
      ]
     },
     "execution_count": 5,
     "metadata": {},
     "output_type": "execute_result"
    }
   ],
   "source": [
    "NN.W2"
   ]
  },
  {
   "cell_type": "code",
   "execution_count": 6,
   "metadata": {},
   "outputs": [],
   "source": [
    "#NILAI IMPOR\n",
    "X=np.array(([\t0.147887324\t,\t0.063380282\t]\t,\n",
    "[\t0.063380282\t,\t0.436619718\t]\t,\n",
    "[\t0.436619718\t,\t0.570422535\t]\t,\n",
    "[\t0.570422535\t,\t0.669014085\t]\t,\n",
    "[\t0.669014085\t,\t0.697183099\t]\t,\n",
    "[\t0.697183099\t,\t0.971830986\t]\t,\n",
    "[\t0.971830986\t,\t0.591549296\t]\t,\n",
    "[\t0.591549296\t,\t0.281690141\t]\t,\n",
    "[\t0.281690141\t,\t0.26056338\t]\t,\n",
    "[\t0.26056338\t,\t0.464788732\t]\t,\n",
    "[\t0.464788732\t,\t0.992957746\t]\t,\n",
    "[\t0.992957746\t,\t0.676056338\t]\t,\n",
    "[\t0.676056338\t,\t0.253521127\t]\t,\n",
    "[\t0.253521127\t,\t0.450704225\t]\t,\n",
    "[\t0.450704225\t,\t0\t]\t,\n",
    "[\t0\t,\t0.485915493\t]\t,\n",
    "[\t0.485915493\t,\t0.781690141\t]\t,\n",
    "[\t0.781690141\t,\t0.802816901\t]\t,\n",
    "[\t0.802816901\t,\t0.302816901\t]\t,\n",
    "[\t0.302816901\t,\t0.471830986\t]\t,\n",
    "[\t0.471830986\t,\t0.415492958\t]\t,\n",
    "[\t0.415492958\t,\t0.647887324\t]\t,\n",
    "[\t0.647887324\t,\t0.612676056\t]\t,\n",
    "[\t0.612676056\t,\t1\t]\t,\n",
    "[\t1\t,\t0.478873239\t]\t,\n",
    "[\t0.478873239\t,\t0.302816901\t]\t,\n",
    "[\t0.302816901\t,\t0.38028169\t]\t,\n",
    "[\t0.38028169\t,\t0.591549296\t]\t,\n",
    "[\t0.591549296\t,\t0.802816901\t]\t,\n",
    "[\t0.802816901\t,\t0.471830986\t]\t,\n",
    "[\t0.471830986\t,\t0.267605634\t]\t,\n",
    "[\t0.267605634\t,\t0.408450704\t]\t,\n",
    "[\t0.408450704\t,\t0.323943662\t]\t,\n",
    "[\t0.323943662\t,\t0.457746479\t]\t,\n",
    "[\t0.457746479\t,\t0.816901408\t]\t,\n",
    "[\t0.816901408\t,\t0.753521127\t]\t,\n",
    "[\t0.753521127\t,\t0.436619718\t]\t,\n",
    "[\t0.436619718\t,\t0.457746479\t]\t,\n",
    "[\t0.457746479\t,\t0.387323944\t]\t,\n",
    "[\t0.387323944\t,\t0.464788732\t]\t,\n",
    "[\t0.464788732\t,\t0.732394366\t]\t,\n",
    "[\t0.732394366\t,\t0.514084507\t]\t,\n",
    "[\t0.514084507\t,\t0.281690141\t]\t,\n",
    "[\t0.281690141\t,\t0.190140845\t]\t,\n",
    "[\t0.190140845\t,\t0.514084507\t]\t,\n",
    "[\t0.514084507\t,\t0.507042254\t]\t,\n",
    "[\t0.507042254\t,\t0.753521127\t]\t,\n",
    "[\t0.753521127\t,\t0.542253521\t]\t,\n",
    "[\t0.542253521\t,\t0.26056338\t]\t,\n",
    "[\t0.26056338\t,\t0.394366197\t]\t,\n",
    "[\t0.394366197\t,\t0.626760563\t]\t,\n",
    "[\t0.626760563\t,\t0.795774648\t]\t,\n",
    "[\t0.795774648\t,\t0.704225352\t]\t,\n",
    "[\t0.704225352\t,\t0.535211268\t]\t,\n",
    "[\t0.535211268\t,\t0.401408451\t]\t,\n",
    "[\t0.401408451\t,\t0.126760563\t]\t,\n",
    "[\t0.126760563\t,\t0.330985915\t]\t,\n",
    "[\t0.330985915\t,\t0.415492958\t]\t,\n",
    "[\t0.415492958\t,\t0.556338028\t]\t,\n",
    "[\t0.556338028\t,\t0.591549296\t]\t,\n",
    "\n",
    ")           \n",
    ",dtype=float)\n",
    "y=np.array(([\t0.436619718\t]\t,\n",
    "[\t0.570422535\t]\t,\n",
    "[\t0.669014085\t]\t,\n",
    "[\t0.697183099\t]\t,\n",
    "[\t0.971830986\t]\t,\n",
    "[\t0.591549296\t]\t,\n",
    "[\t0.281690141\t]\t,\n",
    "[\t0.26056338\t]\t,\n",
    "[\t0.464788732\t]\t,\n",
    "[\t0.992957746\t]\t,\n",
    "[\t0.676056338\t]\t,\n",
    "[\t0.253521127\t]\t,\n",
    "[\t0.450704225\t]\t,\n",
    "[\t0\t]\t,\n",
    "[\t0.485915493\t]\t,\n",
    "[\t0.781690141\t]\t,\n",
    "[\t0.802816901\t]\t,\n",
    "[\t0.302816901\t]\t,\n",
    "[\t0.471830986\t]\t,\n",
    "[\t0.415492958\t]\t,\n",
    "[\t0.647887324\t]\t,\n",
    "[\t0.612676056\t]\t,\n",
    "[\t1\t]\t,\n",
    "[\t0.478873239\t]\t,\n",
    "[\t0.302816901\t]\t,\n",
    "[\t0.38028169\t]\t,\n",
    "[\t0.591549296\t]\t,\n",
    "[\t0.802816901\t]\t,\n",
    "[\t0.471830986\t]\t,\n",
    "[\t0.267605634\t]\t,\n",
    "[\t0.408450704\t]\t,\n",
    "[\t0.323943662\t]\t,\n",
    "[\t0.457746479\t]\t,\n",
    "[\t0.816901408\t]\t,\n",
    "[\t0.753521127\t]\t,\n",
    "[\t0.436619718\t]\t,\n",
    "[\t0.457746479\t]\t,\n",
    "[\t0.387323944\t]\t,\n",
    "[\t0.464788732\t]\t,\n",
    "[\t0.732394366\t]\t,\n",
    "[\t0.514084507\t]\t,\n",
    "[\t0.281690141\t]\t,\n",
    "[\t0.190140845\t]\t,\n",
    "[\t0.514084507\t]\t,\n",
    "[\t0.507042254\t]\t,\n",
    "[\t0.753521127\t]\t,\n",
    "[\t0.542253521\t]\t,\n",
    "[\t0.26056338\t]\t,\n",
    "[\t0.394366197\t]\t,\n",
    "[\t0.626760563\t]\t,\n",
    "[\t0.795774648\t]\t,\n",
    "[\t0.704225352\t]\t,\n",
    "[\t0.535211268\t]\t,\n",
    "[\t0.401408451\t]\t,\n",
    "[\t0.126760563\t]\t,\n",
    "[\t0.330985915\t]\t,\n",
    "[\t0.415492958\t]\t,\n",
    "[\t0.556338028\t]\t,\n",
    "[\t0.591549296\t]\t,\n",
    "[\t0.514084507\t]\t,\n",
    "\n",
    ")\n",
    ",dtype=float)\n",
    "\n",
    "dataprediksi = np.array(([\t0.591549296\t,\t0.514084507\t]\t,\n",
    "[\t0.514084507\t,\t0.387323944\t]\t,\n",
    "[\t0.387323944\t,\t0.373239437\t]\t,\n",
    "[\t0.373239437\t,\t0.366197183\t]\t,\n",
    "\n",
    "\n",
    "\n",
    "), dtype=float)\n"
   ]
  },
  {
   "cell_type": "code",
   "execution_count": 7,
   "metadata": {},
   "outputs": [],
   "source": [
    "import matplotlib.pyplot as plot"
   ]
  },
  {
   "cell_type": "code",
   "execution_count": 8,
   "metadata": {},
   "outputs": [],
   "source": [
    "from scipy import optimize"
   ]
  },
  {
   "cell_type": "code",
   "execution_count": 9,
   "metadata": {},
   "outputs": [],
   "source": [
    "class trainer(object):\n",
    "    def __init__(self, N):\n",
    "        #Make Local reference to network:\n",
    "        self.N = N\n",
    "        \n",
    "    def callbackF(self, params):\n",
    "        self.N.setParams(params)\n",
    "        self.J.append(self.N.costFunction(self.X, self.y))   \n",
    "        \n",
    "    def costFunctionWrapper(self, params, X, y):\n",
    "        self.N.setParams(params)\n",
    "        cost = self.N.costFunction(X, y)\n",
    "        grad = self.N.computeGradients(X,y)\n",
    "        \n",
    "        return cost, grad\n",
    "        \n",
    "    def train(self, X, y):\n",
    "        #Make an internal variable for the callback function:\n",
    "        self.X = X\n",
    "        self.y = y\n",
    "\n",
    "        #Make empty list to store costs:\n",
    "        self.J = []\n",
    "        \n",
    "        params0 = self.N.getParams()\n",
    "\n",
    "        options = {'maxiter': 100, 'disp' : True}\n",
    "        _res = optimize.minimize(self.costFunctionWrapper, params0, jac=True, method='BFGS', \\\n",
    "                                 args=(X, y), options=options, callback=self.callbackF)\n",
    "\n",
    "        self.N.setParams(_res.x)\n",
    "        self.optimizationResults = _res"
   ]
  },
  {
   "cell_type": "code",
   "execution_count": 10,
   "metadata": {},
   "outputs": [],
   "source": [
    "NN=Neural_Network()"
   ]
  },
  {
   "cell_type": "code",
   "execution_count": 11,
   "metadata": {},
   "outputs": [],
   "source": [
    "T = trainer(NN)"
   ]
  },
  {
   "cell_type": "code",
   "execution_count": 12,
   "metadata": {},
   "outputs": [
    {
     "name": "stdout",
     "output_type": "stream",
     "text": [
      "Warning: Maximum number of iterations has been exceeded.\n",
      "         Current function value: 0.929607\n",
      "         Iterations: 100\n",
      "         Function evaluations: 121\n",
      "         Gradient evaluations: 121\n"
     ]
    }
   ],
   "source": [
    "#Train network with new data:\n",
    "T = trainer(NN)\n",
    "T.train(X,y)"
   ]
  },
  {
   "cell_type": "code",
   "execution_count": 13,
   "metadata": {},
   "outputs": [
    {
     "data": {
      "image/png": "[encoded data removed]",
      "text/plain": [
       "<Figure size 432x288 with 1 Axes>"
      ]
     },
     "metadata": {
      "needs_background": "light"
     },
     "output_type": "display_data"
    }
   ],
   "source": [
    "#Plot cost during training:\n",
    "plot.plot(T.J)\n",
    "plot.grid(1)\n",
    "plot.xlabel('Iterations')\n",
    "plot.ylabel('Cost')\n",
    "plot.show()"
   ]
  },
  {
   "cell_type": "code",
   "execution_count": 14,
   "metadata": {},
   "outputs": [],
   "source": [
    "#Training Data:\n",
    "trainX = np.array(([\t0.147887324\t,\t0.063380282\t]\t,\n",
    "[\t0.063380282\t,\t0.436619718\t]\t,\n",
    "[\t0.436619718\t,\t0.570422535\t]\t,\n",
    "[\t0.570422535\t,\t0.669014085\t]\t,\n",
    "[\t0.669014085\t,\t0.697183099\t]\t,\n",
    "[\t0.697183099\t,\t0.971830986\t]\t,\n",
    "[\t0.971830986\t,\t0.591549296\t]\t,\n",
    "[\t0.591549296\t,\t0.281690141\t]\t,\n",
    "[\t0.281690141\t,\t0.26056338\t]\t,\n",
    "[\t0.26056338\t,\t0.464788732\t]\t,\n",
    "[\t0.464788732\t,\t0.992957746\t]\t,\n",
    "[\t0.992957746\t,\t0.676056338\t]\t,\n",
    "[\t0.676056338\t,\t0.253521127\t]\t,\n",
    "[\t0.253521127\t,\t0.450704225\t]\t,\n",
    "[\t0.450704225\t,\t0\t]\t,\n",
    "[\t0\t,\t0.485915493\t]\t,\n",
    "[\t0.485915493\t,\t0.781690141\t]\t,\n",
    "[\t0.781690141\t,\t0.802816901\t]\t,\n",
    "[\t0.802816901\t,\t0.302816901\t]\t,\n",
    "[\t0.302816901\t,\t0.471830986\t]\t,\n",
    "[\t0.471830986\t,\t0.415492958\t]\t,\n",
    "[\t0.415492958\t,\t0.647887324\t]\t,\n",
    "[\t0.647887324\t,\t0.612676056\t]\t,\n",
    "[\t0.612676056\t,\t1\t]\t,\n",
    "[\t1\t,\t0.478873239\t]\t,\n",
    "[\t0.478873239\t,\t0.302816901\t]\t,\n",
    "[\t0.302816901\t,\t0.38028169\t]\t,\n",
    "[\t0.38028169\t,\t0.591549296\t]\t,\n",
    "[\t0.591549296\t,\t0.802816901\t]\t,\n",
    "[\t0.802816901\t,\t0.471830986\t]\t,\n",
    "[\t0.471830986\t,\t0.267605634\t]\t,\n",
    "[\t0.267605634\t,\t0.408450704\t]\t,\n",
    "[\t0.408450704\t,\t0.323943662\t]\t,\n",
    "[\t0.323943662\t,\t0.457746479\t]\t,\n",
    "[\t0.457746479\t,\t0.816901408\t]\t,\n",
    "[\t0.816901408\t,\t0.753521127\t]\t,\n",
    "[\t0.753521127\t,\t0.436619718\t]\t,\n",
    "[\t0.436619718\t,\t0.457746479\t]\t,\n",
    "[\t0.457746479\t,\t0.387323944\t]\t,\n",
    "[\t0.387323944\t,\t0.464788732\t]\t,\n",
    "[\t0.464788732\t,\t0.732394366\t]\t,\n",
    "[\t0.732394366\t,\t0.514084507\t]\t,\n",
    "[\t0.514084507\t,\t0.281690141\t]\t,\n",
    "[\t0.281690141\t,\t0.190140845\t]\t,\n",
    "[\t0.190140845\t,\t0.514084507\t]\t,\n",
    "[\t0.514084507\t,\t0.507042254\t]\t,\n",
    "[\t0.507042254\t,\t0.753521127\t]\t,\n",
    "\n",
    ")\n",
    ", dtype=float)\n",
    "trainY = np.array(([\t0.436619718\t]\t,\n",
    "[\t0.570422535\t]\t,\n",
    "[\t0.669014085\t]\t,\n",
    "[\t0.697183099\t]\t,\n",
    "[\t0.971830986\t]\t,\n",
    "[\t0.591549296\t]\t,\n",
    "[\t0.281690141\t]\t,\n",
    "[\t0.26056338\t]\t,\n",
    "[\t0.464788732\t]\t,\n",
    "[\t0.992957746\t]\t,\n",
    "[\t0.676056338\t]\t,\n",
    "[\t0.253521127\t]\t,\n",
    "[\t0.450704225\t]\t,\n",
    "[\t0\t]\t,\n",
    "[\t0.485915493\t]\t,\n",
    "[\t0.781690141\t]\t,\n",
    "[\t0.802816901\t]\t,\n",
    "[\t0.302816901\t]\t,\n",
    "[\t0.471830986\t]\t,\n",
    "[\t0.415492958\t]\t,\n",
    "[\t0.647887324\t]\t,\n",
    "[\t0.612676056\t]\t,\n",
    "[\t1\t]\t,\n",
    "[\t0.478873239\t]\t,\n",
    "[\t0.302816901\t]\t,\n",
    "[\t0.38028169\t]\t,\n",
    "[\t0.591549296\t]\t,\n",
    "[\t0.802816901\t]\t,\n",
    "[\t0.471830986\t]\t,\n",
    "[\t0.267605634\t]\t,\n",
    "[\t0.408450704\t]\t,\n",
    "[\t0.323943662\t]\t,\n",
    "[\t0.457746479\t]\t,\n",
    "[\t0.816901408\t]\t,\n",
    "[\t0.753521127\t]\t,\n",
    "[\t0.436619718\t]\t,\n",
    "[\t0.457746479\t]\t,\n",
    "[\t0.387323944\t]\t,\n",
    "[\t0.464788732\t]\t,\n",
    "[\t0.732394366\t]\t,\n",
    "[\t0.514084507\t]\t,\n",
    "[\t0.281690141\t]\t,\n",
    "[\t0.190140845\t]\t,\n",
    "[\t0.514084507\t]\t,\n",
    "[\t0.507042254\t]\t,\n",
    "[\t0.753521127\t]\t,\n",
    "[\t0.542253521\t]\t,\n",
    "\n",
    ")\n",
    ", dtype=float)\n",
    "\n",
    "#Testing Data:\n",
    "testX = np.array(([\t0.753521127\t,\t0.542253521\t]\t,\n",
    "[\t0.542253521\t,\t0.26056338\t]\t,\n",
    "[\t0.26056338\t,\t0.394366197\t]\t,\n",
    "[\t0.394366197\t,\t0.626760563\t]\t,\n",
    "[\t0.626760563\t,\t0.795774648\t]\t,\n",
    "[\t0.795774648\t,\t0.704225352\t]\t,\n",
    "[\t0.704225352\t,\t0.535211268\t]\t,\n",
    "[\t0.535211268\t,\t0.401408451\t]\t,\n",
    "[\t0.401408451\t,\t0.126760563\t]\t,\n",
    "[\t0.126760563\t,\t0.330985915\t]\t,\n",
    "[\t0.330985915\t,\t0.415492958\t]\t,\n",
    "[\t0.415492958\t,\t0.556338028\t]\t,\n",
    "[\t0.556338028\t,\t0.591549296\t]\t,\n",
    "\n",
    ")\n",
    ", dtype=float)\n",
    "testY = np.array(([\t0.26056338\t]\t,\n",
    "[\t0.394366197\t]\t,\n",
    "[\t0.626760563\t]\t,\n",
    "[\t0.795774648\t]\t,\n",
    "[\t0.704225352\t]\t,\n",
    "[\t0.535211268\t]\t,\n",
    "[\t0.401408451\t]\t,\n",
    "[\t0.126760563\t]\t,\n",
    "[\t0.330985915\t]\t,\n",
    "[\t0.415492958\t]\t,\n",
    "[\t0.556338028\t]\t,\n",
    "[\t0.591549296\t]\t,\n",
    "[\t0.514084507\t]\t,\n",
    "\n",
    ")\n",
    ", dtype=float)\n",
    "\n",
    "\n",
    "dataprediksi = np.array(([\t0.591549296\t,\t0.514084507\t]\t,\n",
    "[\t0.514084507\t,\t0.387323944\t]\t,\n",
    "[\t0.387323944\t,\t0.373239437\t]\t,\n",
    "[\t0.373239437\t,\t0.366197183\t]\t,\n",
    "\n",
    "\n",
    "), dtype=float)"
   ]
  },
  {
   "cell_type": "code",
   "execution_count": 15,
   "metadata": {},
   "outputs": [
    {
     "data": {
      "text/plain": [
       "array([[0.75352113, 0.54225352],\n",
       "       [0.54225352, 0.26056338],\n",
       "       [0.26056338, 0.3943662 ],\n",
       "       [0.3943662 , 0.62676056],\n",
       "       [0.62676056, 0.79577465],\n",
       "       [0.79577465, 0.70422535],\n",
       "       [0.70422535, 0.53521127],\n",
       "       [0.53521127, 0.40140845],\n",
       "       [0.40140845, 0.12676056],\n",
       "       [0.12676056, 0.33098592],\n",
       "       [0.33098592, 0.41549296],\n",
       "       [0.41549296, 0.55633803],\n",
       "       [0.55633803, 0.5915493 ]])"
      ]
     },
     "execution_count": 15,
     "metadata": {},
     "output_type": "execute_result"
    }
   ],
   "source": [
    "testX"
   ]
  },
  {
   "cell_type": "code",
   "execution_count": 16,
   "metadata": {},
   "outputs": [],
   "source": [
    "##Need to modify trainer class a bit to check testing error during training:\n",
    "class trainer(object):\n",
    "    def __init__(self, N):\n",
    "        #Make Local reference to network:\n",
    "        self.N = N\n",
    "        \n",
    "    def callbackF(self, params):\n",
    "        self.N.setParams(params)\n",
    "        self.J.append(self.N.costFunction(self.X, self.y))\n",
    "        self.testJ.append(self.N.costFunction(self.testX, self.testY))\n",
    "        \n",
    "    def costFunctionWrapper(self, params, X, y):\n",
    "        self.N.setParams(params)\n",
    "        cost = self.N.costFunction(X, y)\n",
    "        grad = self.N.computeGradients(X,y)\n",
    "        \n",
    "        return cost, grad\n",
    "        \n",
    "    def train(self, trainX, trainY, testX, testY):\n",
    "        #Make an internal variable for the callback function:\n",
    "        self.X = trainX\n",
    "        self.y = trainY\n",
    "        \n",
    "        self.testX = testX\n",
    "        self.testY = testY\n",
    "\n",
    "        #Make empty list to store training costs:\n",
    "        self.J = []\n",
    "        self.testJ = []\n",
    "        \n",
    "        params0 = self.N.getParams()\n",
    "\n",
    "        options = {'maxiter': 100, 'disp' : True}\n",
    "        _res = optimize.minimize(self.costFunctionWrapper, params0, jac=True, method='BFGS', \\\n",
    "                                 args=(trainX, trainY), options=options, callback=self.callbackF)\n",
    "\n",
    "        self.N.setParams(_res.x)\n",
    "        self.optimizationResults = _res"
   ]
  },
  {
   "cell_type": "code",
   "execution_count": 17,
   "metadata": {},
   "outputs": [
    {
     "name": "stdout",
     "output_type": "stream",
     "text": [
      "Optimization terminated successfully.\n",
      "         Current function value: 0.769400\n",
      "         Iterations: 71\n",
      "         Function evaluations: 77\n",
      "         Gradient evaluations: 77\n"
     ]
    }
   ],
   "source": [
    "#Train network with new data:\n",
    "NN = Neural_Network()\n",
    "\n",
    "T = trainer(NN)\n",
    "T.train(trainX, trainY, testX, testY)"
   ]
  },
  {
   "cell_type": "code",
   "execution_count": 18,
   "metadata": {},
   "outputs": [
    {
     "data": {
      "image/png": "[encoded data removed]",
      "text/plain": [
       "<Figure size 432x288 with 1 Axes>"
      ]
     },
     "metadata": {
      "needs_background": "light"
     },
     "output_type": "display_data"
    }
   ],
   "source": [
    "#Plot cost during training:\n",
    "plot.plot(T.J)\n",
    "plot.plot(T.testJ)\n",
    "plot.grid(1)\n",
    "plot.xlabel('Iterations')\n",
    "plot.ylabel('Cost')\n",
    "plot.legend(['Training', 'Testing'])\n",
    "plot.show()"
   ]
  },
  {
   "cell_type": "code",
   "execution_count": 19,
   "metadata": {},
   "outputs": [
    {
     "data": {
      "text/plain": [
       "[array([1.54226889]),\n",
       " array([1.30104074]),\n",
       " array([1.21849727]),\n",
       " array([1.11212056]),\n",
       " array([1.09104454]),\n",
       " array([1.0687648]),\n",
       " array([1.03028591]),\n",
       " array([0.99844122]),\n",
       " array([0.95535966]),\n",
       " array([0.89776123]),\n",
       " array([0.87952422]),\n",
       " array([0.86533315]),\n",
       " array([0.86384977]),\n",
       " array([0.86350265]),\n",
       " array([0.86284661]),\n",
       " array([0.86164575]),\n",
       " array([0.85961122]),\n",
       " array([0.85680657]),\n",
       " array([0.85503133]),\n",
       " array([0.85274886]),\n",
       " array([0.85118825]),\n",
       " array([0.85029909]),\n",
       " array([0.84979217]),\n",
       " array([0.84951018]),\n",
       " array([0.84935958]),\n",
       " array([0.84915263]),\n",
       " array([0.8488416]),\n",
       " array([0.84836326]),\n",
       " array([0.84751494]),\n",
       " array([0.8459448]),\n",
       " array([0.84306933]),\n",
       " array([0.83797647]),\n",
       " array([0.82939363]),\n",
       " array([0.81650505]),\n",
       " array([0.81091711]),\n",
       " array([0.80172252]),\n",
       " array([0.79622136]),\n",
       " array([0.79383973]),\n",
       " array([0.78993993]),\n",
       " array([0.78452441]),\n",
       " array([0.78071085]),\n",
       " array([0.77662984]),\n",
       " array([0.77418823]),\n",
       " array([0.7725374]),\n",
       " array([0.77050209]),\n",
       " array([0.76964425]),\n",
       " array([0.76957814]),\n",
       " array([0.76946867]),\n",
       " array([0.76942067]),\n",
       " array([0.76941371]),\n",
       " array([0.76941349]),\n",
       " array([0.76941349]),\n",
       " array([0.76941347]),\n",
       " array([0.76941345]),\n",
       " array([0.76941341]),\n",
       " array([0.76941333]),\n",
       " array([0.76941318]),\n",
       " array([0.76941291]),\n",
       " array([0.76941243]),\n",
       " array([0.76941161]),\n",
       " array([0.7694103]),\n",
       " array([0.76940836]),\n",
       " array([0.7694057]),\n",
       " array([0.76940207]),\n",
       " array([0.76940016]),\n",
       " array([0.76939992]),\n",
       " array([0.76939991]),\n",
       " array([0.76939991]),\n",
       " array([0.76939991]),\n",
       " array([0.76939991]),\n",
       " array([0.76939991])]"
      ]
     },
     "execution_count": 19,
     "metadata": {},
     "output_type": "execute_result"
    }
   ],
   "source": [
    "T.J"
   ]
  },
  {
   "cell_type": "code",
   "execution_count": 20,
   "metadata": {},
   "outputs": [
    {
     "data": {
      "text/plain": [
       "[array([0.2503859]),\n",
       " array([0.1799724]),\n",
       " array([0.15572887]),\n",
       " array([0.1674487]),\n",
       " array([0.19017669]),\n",
       " array([0.17132432]),\n",
       " array([0.15321551]),\n",
       " array([0.12043408]),\n",
       " array([0.1254743]),\n",
       " array([0.12360745]),\n",
       " array([0.11214524]),\n",
       " array([0.13454591]),\n",
       " array([0.1267419]),\n",
       " array([0.12729573]),\n",
       " array([0.1276938]),\n",
       " array([0.1279244]),\n",
       " array([0.12772791]),\n",
       " array([0.12646532]),\n",
       " array([0.12565419]),\n",
       " array([0.1240265]),\n",
       " array([0.12104093]),\n",
       " array([0.11859995]),\n",
       " array([0.11709627]),\n",
       " array([0.11638114]),\n",
       " array([0.11539102]),\n",
       " array([0.11497001]),\n",
       " array([0.11409749]),\n",
       " array([0.11341471]),\n",
       " array([0.11305817]),\n",
       " array([0.11296759]),\n",
       " array([0.11335112]),\n",
       " array([0.11469465]),\n",
       " array([0.11818472]),\n",
       " array([0.12678267]),\n",
       " array([0.14212504]),\n",
       " array([0.1445075]),\n",
       " array([0.14802461]),\n",
       " array([0.14846054]),\n",
       " array([0.14828278]),\n",
       " array([0.14669762]),\n",
       " array([0.14105388]),\n",
       " array([0.13308579]),\n",
       " array([0.12168432]),\n",
       " array([0.11411048]),\n",
       " array([0.1032258]),\n",
       " array([0.0961154]),\n",
       " array([0.09674043]),\n",
       " array([0.09797273]),\n",
       " array([0.10022024]),\n",
       " array([0.09941505]),\n",
       " array([0.09955195]),\n",
       " array([0.09954972]),\n",
       " array([0.0995542]),\n",
       " array([0.09955641]),\n",
       " array([0.09955885]),\n",
       " array([0.09956205]),\n",
       " array([0.09956667]),\n",
       " array([0.0995737]),\n",
       " array([0.09958468]),\n",
       " array([0.0996017]),\n",
       " array([0.09962619]),\n",
       " array([0.09965272]),\n",
       " array([0.09966553]),\n",
       " array([0.09965447]),\n",
       " array([0.09962403]),\n",
       " array([0.09960862]),\n",
       " array([0.0996064]),\n",
       " array([0.09960595]),\n",
       " array([0.09960629]),\n",
       " array([0.09960682]),\n",
       " array([0.09960702])]"
      ]
     },
     "execution_count": 20,
     "metadata": {},
     "output_type": "execute_result"
    }
   ],
   "source": [
    "T.testJ"
   ]
  },
  {
   "cell_type": "code",
   "execution_count": 21,
   "metadata": {},
   "outputs": [
    {
     "data": {
      "text/plain": [
       "0.7282950134988705"
      ]
     },
     "execution_count": 21,
     "metadata": {},
     "output_type": "execute_result"
    }
   ],
   "source": [
    "from sklearn.metrics import mean_absolute_error\n",
    "mean_absolute_error(T.J, T.testJ)"
   ]
  },
  {
   "cell_type": "code",
   "execution_count": 22,
   "metadata": {},
   "outputs": [],
   "source": [
    "yHat = NN.forward(X)"
   ]
  },
  {
   "cell_type": "code",
   "execution_count": 23,
   "metadata": {},
   "outputs": [
    {
     "data": {
      "text/plain": [
       "array([[0.38485457],\n",
       "       [0.61374625],\n",
       "       [0.61366679],\n",
       "       [0.61363255],\n",
       "       [0.61299628],\n",
       "       [0.61374676],\n",
       "       [0.35095369],\n",
       "       [0.35093746],\n",
       "       [0.56019891],\n",
       "       [0.61372603],\n",
       "       [0.61374684],\n",
       "       [0.35354107],\n",
       "       [0.35071557],\n",
       "       [0.61371859],\n",
       "       [0.35070932],\n",
       "       [0.6137424 ],\n",
       "       [0.61374668],\n",
       "       [0.61330209],\n",
       "       [0.35070978],\n",
       "       [0.61369078],\n",
       "       [0.56165802],\n",
       "       [0.61374429],\n",
       "       [0.60522995],\n",
       "       [0.61374684],\n",
       "       [0.35071057],\n",
       "       [0.36382344],\n",
       "       [0.61217624],\n",
       "       [0.61373982],\n",
       "       [0.61374522],\n",
       "       [0.35116629],\n",
       "       [0.35532713],\n",
       "       [0.61354707],\n",
       "       [0.47687634],\n",
       "       [0.61357207],\n",
       "       [0.61374682],\n",
       "       [0.60634606],\n",
       "       [0.35125187],\n",
       "       [0.60895781],\n",
       "       [0.53120452],\n",
       "       [0.61287044],\n",
       "       [0.61374634],\n",
       "       [0.36681256],\n",
       "       [0.35294477],\n",
       "       [0.41035585],\n",
       "       [0.61374641],\n",
       "       [0.60601386],\n",
       "       [0.61374603],\n",
       "       [0.37412102],\n",
       "       [0.3511622 ],\n",
       "       [0.61347573],\n",
       "       [0.61374389],\n",
       "       [0.61374091],\n",
       "       [0.59117321],\n",
       "       [0.41536133],\n",
       "       [0.42102557],\n",
       "       [0.35092975],\n",
       "       [0.61369407],\n",
       "       [0.61274541],\n",
       "       [0.61367515],\n",
       "       [0.61248116]])"
      ]
     },
     "execution_count": 23,
     "metadata": {},
     "output_type": "execute_result"
    }
   ],
   "source": [
    "yHat"
   ]
  },
  {
   "cell_type": "code",
   "execution_count": 24,
   "metadata": {},
   "outputs": [
    {
     "data": {
      "text/plain": [
       "array([[0.43661972],\n",
       "       [0.57042253],\n",
       "       [0.66901409],\n",
       "       [0.6971831 ],\n",
       "       [0.97183099],\n",
       "       [0.5915493 ],\n",
       "       [0.28169014],\n",
       "       [0.26056338],\n",
       "       [0.46478873],\n",
       "       [0.99295775],\n",
       "       [0.67605634],\n",
       "       [0.25352113],\n",
       "       [0.45070423],\n",
       "       [0.        ],\n",
       "       [0.48591549],\n",
       "       [0.78169014],\n",
       "       [0.8028169 ],\n",
       "       [0.3028169 ],\n",
       "       [0.47183099],\n",
       "       [0.41549296],\n",
       "       [0.64788732],\n",
       "       [0.61267606],\n",
       "       [1.        ],\n",
       "       [0.47887324],\n",
       "       [0.3028169 ],\n",
       "       [0.38028169],\n",
       "       [0.5915493 ],\n",
       "       [0.8028169 ],\n",
       "       [0.47183099],\n",
       "       [0.26760563],\n",
       "       [0.4084507 ],\n",
       "       [0.32394366],\n",
       "       [0.45774648],\n",
       "       [0.81690141],\n",
       "       [0.75352113],\n",
       "       [0.43661972],\n",
       "       [0.45774648],\n",
       "       [0.38732394],\n",
       "       [0.46478873],\n",
       "       [0.73239437],\n",
       "       [0.51408451],\n",
       "       [0.28169014],\n",
       "       [0.19014085],\n",
       "       [0.51408451],\n",
       "       [0.50704225],\n",
       "       [0.75352113],\n",
       "       [0.54225352],\n",
       "       [0.26056338],\n",
       "       [0.3943662 ],\n",
       "       [0.62676056],\n",
       "       [0.79577465],\n",
       "       [0.70422535],\n",
       "       [0.53521127],\n",
       "       [0.40140845],\n",
       "       [0.12676056],\n",
       "       [0.33098592],\n",
       "       [0.41549296],\n",
       "       [0.55633803],\n",
       "       [0.5915493 ],\n",
       "       [0.51408451]])"
      ]
     },
     "execution_count": 24,
     "metadata": {},
     "output_type": "execute_result"
    }
   ],
   "source": [
    "y"
   ]
  },
  {
   "cell_type": "code",
   "execution_count": 25,
   "metadata": {},
   "outputs": [
    {
     "data": {
      "text/plain": [
       "0.02896689753959349"
      ]
     },
     "execution_count": 25,
     "metadata": {},
     "output_type": "execute_result"
    }
   ],
   "source": [
    "from sklearn.metrics import mean_squared_error \n",
    "mean_squared_error(y,yHat) "
   ]
  },
  {
   "cell_type": "code",
   "execution_count": 26,
   "metadata": {},
   "outputs": [
    {
     "data": {
      "image/png": "[encoded data removed]",
      "text/plain": [
       "<Figure size 432x288 with 1 Axes>"
      ]
     },
     "metadata": {
      "needs_background": "light"
     },
     "output_type": "display_data"
    }
   ],
   "source": [
    "#Plot cost during training:\n",
    "plot.plot(y)\n",
    "plot.plot(yHat)\n",
    "plot.grid(1)\n",
    "plot.legend(['y', 'yHat'])\n",
    "plot.show()"
   ]
  },
  {
   "cell_type": "code",
   "execution_count": 27,
   "metadata": {},
   "outputs": [],
   "source": [
    "#Regularization Parameter:\n",
    "Lambda = 0.0001"
   ]
  },
  {
   "cell_type": "code",
   "execution_count": 28,
   "metadata": {},
   "outputs": [],
   "source": [
    "#Need to make changes to costFunction and costFunctionPrim:\n",
    "def costFunction(self, X, y):\n",
    "    #Compute cost for given X,y, use weights already stored in class.\n",
    "    self.yHat = self.forward(X)\n",
    "    #We don't want cost to increase with the number of examples, so normalize by dividing the error term by number of examples(X.shape[0])\n",
    "    J = 0.5*sum((y-self.yHat)**2)/X.shape[0] + (self.Lambda/2)*(sum(self.W1**2)+sum(self.W2**2))\n",
    "    return J\n",
    "\n",
    "def costFunctionPrime(self, X, y):\n",
    "    #Compute derivative with respect to W and W2 for a given X and y:\n",
    "    self.yHat = self.forward(X)\n",
    "\n",
    "    delta3 = np.multiply(-(y-self.yHat), self.tanhPrime(self.z3))\n",
    "    #Add gradient of regularization term:\n",
    "    dJdW2 = np.dot(self.a2.T, delta3)/X.shape[0] + self.Lambda*self.W2\n",
    "\n",
    "    delta2 = np.dot(delta3, self.W2.T)*self.tanhPrime(self.z2)\n",
    "    #Add gradient of regularization term:\n",
    "    dJdW1 = np.dot(X.T, delta2)/X.shape[0] + self.Lambda*self.W1\n",
    "\n",
    "    return dJdW1, dJdW2"
   ]
  },
  {
   "cell_type": "code",
   "execution_count": 29,
   "metadata": {},
   "outputs": [],
   "source": [
    "#New complete class, with changes:\n",
    "class Neural_Network(object):\n",
    "    def __init__(self, Lambda=0.0001):        \n",
    "        #Define Hyperparameters\n",
    "        self.inputLayerSize = 2\n",
    "        self.outputLayerSize = 1\n",
    "        self.hiddenLayerSize = 2\n",
    "        \n",
    "        #Weights (parameters)\n",
    "        self.W1 = np.random.randn(self.inputLayerSize,self.hiddenLayerSize)\n",
    "        self.W2 = np.random.randn(self.hiddenLayerSize,self.outputLayerSize)\n",
    "        \n",
    "        #Regularization Parameter:\n",
    "        self.Lambda = Lambda\n",
    "        \n",
    "    def forward(self, X):\n",
    "        #Propogate inputs though network\n",
    "        self.z2 = np.dot(X, self.W1)\n",
    "        self.a2 = self.tanh(self.z2)\n",
    "        self.z3 = np.dot(self.a2, self.W2)\n",
    "        yHat = self.tanh(self.z3) \n",
    "        return yHat\n",
    "        \n",
    "    def tanh(self, z):\n",
    "        # activation function\n",
    "        return (np.exp(z)-np.exp(-z))/(np.exp(z)+np.exp(-z))\n",
    "    \n",
    "    def tanhPrime(self,z): \n",
    "        #derivative of tanh\n",
    "        return 1-((np.exp(z)-np.exp(-z))/(np.exp(z)+np.exp(-z)))**2\n",
    "    \n",
    "    def costFunction(self, X, y):\n",
    "        #Compute cost for given X,y, use weights already stored in class.\n",
    "        self.yHat = self.forward(X)\n",
    "        J = 0.5*sum((y-self.yHat)**2)/X.shape[0] + (self.Lambda/2)*(np.sum(self.W1**2)+np.sum(self.W2**2))\n",
    "        return J\n",
    "        \n",
    "    def costFunctionPrime(self, X, y):\n",
    "        #Compute derivative with respect to W and W2 for a given X and y:\n",
    "        self.yHat = self.forward(X)\n",
    "        \n",
    "        delta3 = np.multiply(-(y-self.yHat), self.tanhPrime(self.z3))\n",
    "        #Add gradient of regularization term:\n",
    "        dJdW2 = np.dot(self.a2.T, delta3)/X.shape[0] + self.Lambda*self.W2\n",
    "        \n",
    "        delta2 = np.dot(delta3, self.W2.T)*self.tanhPrime(self.z2)\n",
    "        #Add gradient of regularization term:\n",
    "        dJdW1 = np.dot(X.T, delta2)/X.shape[0] + self.Lambda*self.W1\n",
    "        \n",
    "        return dJdW1, dJdW2\n",
    "    \n",
    "    def predict(self):\n",
    "        prediksi = self.forward(dataprediksi)\n",
    "        return prediksi\n",
    "    \n",
    "    #Helper functions for interacting with other methods/classes\n",
    "    def getParams(self):\n",
    "        #Get W1 and W2 Rolled into vector:\n",
    "        params = np.concatenate((self.W1.ravel(), self.W2.ravel()))\n",
    "        return params\n",
    "    \n",
    "    def setParams(self, params):\n",
    "        #Set W1 and W2 using single parameter vector:\n",
    "        W1_start = 0\n",
    "        W1_end = self.hiddenLayerSize*self.inputLayerSize\n",
    "        self.W1 = np.reshape(params[W1_start:W1_end], \\\n",
    "                             (self.inputLayerSize, self.hiddenLayerSize))\n",
    "        W2_end = W1_end + self.hiddenLayerSize*self.outputLayerSize\n",
    "        self.W2 = np.reshape(params[W1_end:W2_end], \\\n",
    "                             (self.hiddenLayerSize, self.outputLayerSize))\n",
    "        \n",
    "    def computeGradients(self, X, y):\n",
    "        dJdW1, dJdW2 = self.costFunctionPrime(X, y)\n",
    "        return np.concatenate((dJdW1.ravel(), dJdW2.ravel()))"
   ]
  },
  {
   "cell_type": "code",
   "execution_count": 30,
   "metadata": {},
   "outputs": [],
   "source": [
    "def computeNumericalGradient(N, X, y):\n",
    "    paramsInitial = N.getParams()\n",
    "    numgrad = np.zeros(paramsInitial.shape)\n",
    "    perturb = np.zeros(paramsInitial.shape)\n",
    "    e = 1e-4\n",
    "\n",
    "    for p in range(len(paramsInitial)):\n",
    "        #Set perturbation vector\n",
    "        perturb[p] = e\n",
    "        N.setParams(paramsInitial + perturb)\n",
    "        loss2 = N.costFunction(X, y)\n",
    "            \n",
    "        N.setParams(paramsInitial - perturb)\n",
    "        loss1 = N.costFunction(X, y)\n",
    "\n",
    "        #Compute Numerical Gradient\n",
    "        numgrad[p] = (loss2 - loss1) / (2*e)\n",
    "\n",
    "            #Return the value we changed to zero:\n",
    "        perturb[p] = 0\n",
    "            \n",
    "    #Return Params to original value:\n",
    "    N.setParams(paramsInitial)\n",
    "\n",
    "    return numgrad "
   ]
  },
  {
   "cell_type": "code",
   "execution_count": 31,
   "metadata": {},
   "outputs": [],
   "source": [
    "NN = Neural_Network(Lambda=0.0001)"
   ]
  },
  {
   "cell_type": "code",
   "execution_count": 32,
   "metadata": {},
   "outputs": [],
   "source": [
    "#Make sure our gradients our correct after making changes:\n",
    "numgrad = computeNumericalGradient(NN, X, y)\n",
    "grad = NN.computeGradients(X,y)"
   ]
  },
  {
   "cell_type": "code",
   "execution_count": 33,
   "metadata": {},
   "outputs": [
    {
     "data": {
      "text/plain": [
       "6.356417521028212e-10"
      ]
     },
     "execution_count": 33,
     "metadata": {},
     "output_type": "execute_result"
    }
   ],
   "source": [
    "#Should be less than 1e-8:\n",
    "np.linalg.norm(grad-numgrad)/np.linalg.norm(grad+numgrad)"
   ]
  },
  {
   "cell_type": "code",
   "execution_count": 34,
   "metadata": {},
   "outputs": [],
   "source": [
    "T = trainer(NN)"
   ]
  },
  {
   "cell_type": "code",
   "execution_count": 35,
   "metadata": {},
   "outputs": [
    {
     "name": "stdout",
     "output_type": "stream",
     "text": [
      "Optimization terminated successfully.\n",
      "         Current function value: 0.016641\n",
      "         Iterations: 82\n",
      "         Function evaluations: 85\n",
      "         Gradient evaluations: 85\n"
     ]
    }
   ],
   "source": [
    "T.train(X,y,testX,testY)"
   ]
  },
  {
   "cell_type": "code",
   "execution_count": 36,
   "metadata": {},
   "outputs": [
    {
     "data": {
      "image/png": "[encoded data removed]",
      "text/plain": [
       "<Figure size 432x288 with 1 Axes>"
      ]
     },
     "metadata": {
      "needs_background": "light"
     },
     "output_type": "display_data"
    }
   ],
   "source": [
    "plot.plot(T.J)\n",
    "plot.plot(T.testJ)\n",
    "plot.grid(1)\n",
    "plot.xlabel('Iterations')\n",
    "plot.ylabel('Cost')\n",
    "plot.legend(['Training', 'Testing'])\n",
    "plot.show()"
   ]
  },
  {
   "cell_type": "code",
   "execution_count": 37,
   "metadata": {},
   "outputs": [
    {
     "data": {
      "text/plain": [
       "[array([0.05520221]),\n",
       " array([0.02712156]),\n",
       " array([0.02435458]),\n",
       " array([0.02394083]),\n",
       " array([0.0236891]),\n",
       " array([0.0232612]),\n",
       " array([0.02256221]),\n",
       " array([0.02178145]),\n",
       " array([0.02169299]),\n",
       " array([0.02166039]),\n",
       " array([0.02160525]),\n",
       " array([0.02152298]),\n",
       " array([0.02142441]),\n",
       " array([0.02125747]),\n",
       " array([0.0209719]),\n",
       " array([0.02049482]),\n",
       " array([0.01971104]),\n",
       " array([0.0185106]),\n",
       " array([0.01766331]),\n",
       " array([0.01735315]),\n",
       " array([0.01728479]),\n",
       " array([0.0172754]),\n",
       " array([0.01726169]),\n",
       " array([0.01725699]),\n",
       " array([0.01725574]),\n",
       " array([0.01725343]),\n",
       " array([0.01724916]),\n",
       " array([0.01724137]),\n",
       " array([0.01722774]),\n",
       " array([0.01720579]),\n",
       " array([0.01717697]),\n",
       " array([0.01715403]),\n",
       " array([0.01712638]),\n",
       " array([0.01711518]),\n",
       " array([0.0171132]),\n",
       " array([0.0171127]),\n",
       " array([0.01711191]),\n",
       " array([0.01711068]),\n",
       " array([0.01710859]),\n",
       " array([0.0171048]),\n",
       " array([0.01709773]),\n",
       " array([0.01708457]),\n",
       " array([0.0170605]),\n",
       " array([0.0170193]),\n",
       " array([0.01696247]),\n",
       " array([0.01688709]),\n",
       " array([0.01678341]),\n",
       " array([0.0167329]),\n",
       " array([0.01672345]),\n",
       " array([0.01671184]),\n",
       " array([0.01670124]),\n",
       " array([0.01668984]),\n",
       " array([0.01667583]),\n",
       " array([0.01666765]),\n",
       " array([0.01666678]),\n",
       " array([0.01666515]),\n",
       " array([0.01666251]),\n",
       " array([0.01666173]),\n",
       " array([0.01666158]),\n",
       " array([0.01666152]),\n",
       " array([0.01666144]),\n",
       " array([0.01666135]),\n",
       " array([0.0166613]),\n",
       " array([0.01666121]),\n",
       " array([0.01666106]),\n",
       " array([0.01666078]),\n",
       " array([0.01666026]),\n",
       " array([0.01665932]),\n",
       " array([0.01665763]),\n",
       " array([0.0166554]),\n",
       " array([0.01665284]),\n",
       " array([0.01665145]),\n",
       " array([0.01665051]),\n",
       " array([0.01664994]),\n",
       " array([0.01664889]),\n",
       " array([0.01664696]),\n",
       " array([0.01664395]),\n",
       " array([0.01664243]),\n",
       " array([0.01664212]),\n",
       " array([0.01664164]),\n",
       " array([0.01664111]),\n",
       " array([0.01664107])]"
      ]
     },
     "execution_count": 37,
     "metadata": {},
     "output_type": "execute_result"
    }
   ],
   "source": [
    "T.J"
   ]
  },
  {
   "cell_type": "code",
   "execution_count": 38,
   "metadata": {},
   "outputs": [
    {
     "data": {
      "text/plain": [
       "[array([0.03676966]),\n",
       " array([0.0126454]),\n",
       " array([0.01164376]),\n",
       " array([0.01199702]),\n",
       " array([0.01224603]),\n",
       " array([0.01246446]),\n",
       " array([0.01258623]),\n",
       " array([0.01262941]),\n",
       " array([0.01258585]),\n",
       " array([0.01247185]),\n",
       " array([0.01225423]),\n",
       " array([0.01189889]),\n",
       " array([0.01155358]),\n",
       " array([0.01119148]),\n",
       " array([0.01075785]),\n",
       " array([0.01020263]),\n",
       " array([0.00953202]),\n",
       " array([0.00897389]),\n",
       " array([0.008945]),\n",
       " array([0.00916245]),\n",
       " array([0.00973893]),\n",
       " array([0.0096534]),\n",
       " array([0.00967837]),\n",
       " array([0.00970619]),\n",
       " array([0.00971415]),\n",
       " array([0.00972216]),\n",
       " array([0.00973012]),\n",
       " array([0.00973659]),\n",
       " array([0.00973739]),\n",
       " array([0.00972244]),\n",
       " array([0.00967312]),\n",
       " array([0.00961386]),\n",
       " array([0.00949371]),\n",
       " array([0.00938855]),\n",
       " array([0.0093369]),\n",
       " array([0.00932033]),\n",
       " array([0.00929593]),\n",
       " array([0.00926192]),\n",
       " array([0.00922487]),\n",
       " array([0.00918347]),\n",
       " array([0.0091299]),\n",
       " array([0.00905197]),\n",
       " array([0.00892903]),\n",
       " array([0.0087262]),\n",
       " array([0.00842004]),\n",
       " array([0.00830394]),\n",
       " array([0.00838169]),\n",
       " array([0.00863932]),\n",
       " array([0.00883724]),\n",
       " array([0.00890314]),\n",
       " array([0.00886958]),\n",
       " array([0.00881935]),\n",
       " array([0.00877835]),\n",
       " array([0.00872127]),\n",
       " array([0.0087984]),\n",
       " array([0.00878385]),\n",
       " array([0.00876075]),\n",
       " array([0.00874746]),\n",
       " array([0.00876087]),\n",
       " array([0.00876257]),\n",
       " array([0.00876869]),\n",
       " array([0.00876843]),\n",
       " array([0.00877026]),\n",
       " array([0.00876956]),\n",
       " array([0.00877104]),\n",
       " array([0.00877241]),\n",
       " array([0.00877675]),\n",
       " array([0.00878301]),\n",
       " array([0.00880316]),\n",
       " array([0.0088195]),\n",
       " array([0.00892017]),\n",
       " array([0.008927]),\n",
       " array([0.00896671]),\n",
       " array([0.00900437]),\n",
       " array([0.00897821]),\n",
       " array([0.00895294]),\n",
       " array([0.00891153]),\n",
       " array([0.00897]),\n",
       " array([0.00890384]),\n",
       " array([0.00892154]),\n",
       " array([0.00897295]),\n",
       " array([0.00897865])]"
      ]
     },
     "execution_count": 38,
     "metadata": {},
     "output_type": "execute_result"
    }
   ],
   "source": [
    "T.testJ"
   ]
  },
  {
   "cell_type": "code",
   "execution_count": 39,
   "metadata": {},
   "outputs": [
    {
     "data": {
      "text/plain": [
       "0.008510706795708364"
      ]
     },
     "execution_count": 39,
     "metadata": {},
     "output_type": "execute_result"
    }
   ],
   "source": [
    "from sklearn.metrics import mean_absolute_error\n",
    "mean_absolute_error(T.J, T.testJ)"
   ]
  },
  {
   "cell_type": "code",
   "execution_count": 40,
   "metadata": {},
   "outputs": [],
   "source": [
    "yHat=NN.forward(X)"
   ]
  },
  {
   "cell_type": "code",
   "execution_count": 41,
   "metadata": {},
   "outputs": [
    {
     "data": {
      "text/plain": [
       "array([[0.21892999],\n",
       "       [0.56018586],\n",
       "       [0.60690973],\n",
       "       [0.57999046],\n",
       "       [0.53264565],\n",
       "       [0.59930274],\n",
       "       [0.3088666 ],\n",
       "       [0.41335676],\n",
       "       [0.46683367],\n",
       "       [0.60274379],\n",
       "       [0.73020494],\n",
       "       [0.31904271],\n",
       "       [0.36323792],\n",
       "       [0.59520878],\n",
       "       [0.27380905],\n",
       "       [0.57482848],\n",
       "       [0.66058391],\n",
       "       [0.49446752],\n",
       "       [0.31840769],\n",
       "       [0.60087141],\n",
       "       [0.52494905],\n",
       "       [0.6455558 ],\n",
       "       [0.51662128],\n",
       "       [0.65747238],\n",
       "       [0.26161598],\n",
       "       [0.46594759],\n",
       "       [0.54853331],\n",
       "       [0.63637419],\n",
       "       [0.61213138],\n",
       "       [0.37560347],\n",
       "       [0.44885921],\n",
       "       [0.56880031],\n",
       "       [0.49708421],\n",
       "       [0.58947003],\n",
       "       [0.68453001],\n",
       "       [0.45613882],\n",
       "       [0.39257474],\n",
       "       [0.55777383],\n",
       "       [0.51641494],\n",
       "       [0.57727457],\n",
       "       [0.65440961],\n",
       "       [0.43203855],\n",
       "       [0.44321079],\n",
       "       [0.41017423],\n",
       "       [0.63453364],\n",
       "       [0.54749177],\n",
       "       [0.6413057 ],\n",
       "       [0.42892861],\n",
       "       [0.42244413],\n",
       "       [0.56029855],\n",
       "       [0.64550702],\n",
       "       [0.58965336],\n",
       "       [0.45474337],\n",
       "       [0.45618783],\n",
       "       [0.49250976],\n",
       "       [0.36899036],\n",
       "       [0.49276791],\n",
       "       [0.56514222],\n",
       "       [0.60922005],\n",
       "       [0.55973446]])"
      ]
     },
     "execution_count": 41,
     "metadata": {},
     "output_type": "execute_result"
    }
   ],
   "source": [
    "yHat"
   ]
  },
  {
   "cell_type": "code",
   "execution_count": 42,
   "metadata": {},
   "outputs": [
    {
     "data": {
      "text/plain": [
       "array([[0.43661972],\n",
       "       [0.57042253],\n",
       "       [0.66901409],\n",
       "       [0.6971831 ],\n",
       "       [0.97183099],\n",
       "       [0.5915493 ],\n",
       "       [0.28169014],\n",
       "       [0.26056338],\n",
       "       [0.46478873],\n",
       "       [0.99295775],\n",
       "       [0.67605634],\n",
       "       [0.25352113],\n",
       "       [0.45070423],\n",
       "       [0.        ],\n",
       "       [0.48591549],\n",
       "       [0.78169014],\n",
       "       [0.8028169 ],\n",
       "       [0.3028169 ],\n",
       "       [0.47183099],\n",
       "       [0.41549296],\n",
       "       [0.64788732],\n",
       "       [0.61267606],\n",
       "       [1.        ],\n",
       "       [0.47887324],\n",
       "       [0.3028169 ],\n",
       "       [0.38028169],\n",
       "       [0.5915493 ],\n",
       "       [0.8028169 ],\n",
       "       [0.47183099],\n",
       "       [0.26760563],\n",
       "       [0.4084507 ],\n",
       "       [0.32394366],\n",
       "       [0.45774648],\n",
       "       [0.81690141],\n",
       "       [0.75352113],\n",
       "       [0.43661972],\n",
       "       [0.45774648],\n",
       "       [0.38732394],\n",
       "       [0.46478873],\n",
       "       [0.73239437],\n",
       "       [0.51408451],\n",
       "       [0.28169014],\n",
       "       [0.19014085],\n",
       "       [0.51408451],\n",
       "       [0.50704225],\n",
       "       [0.75352113],\n",
       "       [0.54225352],\n",
       "       [0.26056338],\n",
       "       [0.3943662 ],\n",
       "       [0.62676056],\n",
       "       [0.79577465],\n",
       "       [0.70422535],\n",
       "       [0.53521127],\n",
       "       [0.40140845],\n",
       "       [0.12676056],\n",
       "       [0.33098592],\n",
       "       [0.41549296],\n",
       "       [0.55633803],\n",
       "       [0.5915493 ],\n",
       "       [0.51408451]])"
      ]
     },
     "execution_count": 42,
     "metadata": {},
     "output_type": "execute_result"
    }
   ],
   "source": [
    "y"
   ]
  },
  {
   "cell_type": "code",
   "execution_count": 43,
   "metadata": {},
   "outputs": [
    {
     "data": {
      "image/png": "[encoded data removed]",
      "text/plain": [
       "<Figure size 432x288 with 1 Axes>"
      ]
     },
     "metadata": {
      "needs_background": "light"
     },
     "output_type": "display_data"
    }
   ],
   "source": [
    "#Plot cost during training:\n",
    "plot.plot(y)\n",
    "plot.plot(yHat)\n",
    "plot.grid(1)\n",
    "plot.legend(['y', 'yHat'])\n",
    "plot.show()"
   ]
  },
  {
   "cell_type": "code",
   "execution_count": 44,
   "metadata": {},
   "outputs": [],
   "source": [
    "prediksi=NN.forward(dataprediksi)"
   ]
  },
  {
   "cell_type": "code",
   "execution_count": 45,
   "metadata": {},
   "outputs": [
    {
     "data": {
      "text/plain": [
       "array([[0.51191513],\n",
       "       [0.49505316],\n",
       "       [0.52979471],\n",
       "       [0.52903529]])"
      ]
     },
     "execution_count": 45,
     "metadata": {},
     "output_type": "execute_result"
    }
   ],
   "source": [
    "prediksi"
   ]
  },
  {
   "cell_type": "code",
   "execution_count": 46,
   "metadata": {},
   "outputs": [],
   "source": [
    "from sklearn.metrics import mean_squared_error "
   ]
  },
  {
   "cell_type": "code",
   "execution_count": 47,
   "metadata": {},
   "outputs": [
    {
     "data": {
      "text/plain": [
       "0.016103575323057347"
      ]
     },
     "execution_count": 47,
     "metadata": {},
     "output_type": "execute_result"
    }
   ],
   "source": [
    "Y_true= ([\t0.387323944\t]\t,\n",
    "[\t0.373239437\t]\t,\n",
    "[\t0.366197183\t]\t,\n",
    "[\t0.443661972\t]\t,\n",
    ")\n",
    "\n",
    "\n",
    "Y_pred=prediksi\n",
    "mean_squared_error(Y_true,Y_pred) "
   ]
  },
  {
   "cell_type": "code",
   "execution_count": 48,
   "metadata": {},
   "outputs": [
    {
     "data": {
      "text/plain": [
       "array([[0.5915493 , 0.51408451],\n",
       "       [0.51408451, 0.38732394],\n",
       "       [0.38732394, 0.37323944],\n",
       "       [0.37323944, 0.36619718]])"
      ]
     },
     "execution_count": 48,
     "metadata": {},
     "output_type": "execute_result"
    }
   ],
   "source": [
    "dataprediksi"
   ]
  },
  {
   "cell_type": "code",
   "execution_count": 49,
   "metadata": {},
   "outputs": [],
   "source": [
    "a=np.array([\t0.366197183\t,\t0.443661972\t])"
   ]
  },
  {
   "cell_type": "code",
   "execution_count": 50,
   "metadata": {},
   "outputs": [
    {
     "data": {
      "text/plain": [
       "array([0.57254047])"
      ]
     },
     "execution_count": 50,
     "metadata": {},
     "output_type": "execute_result"
    }
   ],
   "source": [
    "#prediksi 1\n",
    "prediksi=NN.forward(a)\n",
    "prediksi"
   ]
  },
  {
   "cell_type": "code",
   "execution_count": 51,
   "metadata": {},
   "outputs": [
    {
     "data": {
      "text/plain": [
       "array([0.60492777])"
      ]
     },
     "execution_count": 51,
     "metadata": {},
     "output_type": "execute_result"
    }
   ],
   "source": [
    "#prediksi 2\n",
    "c=prediksi\n",
    "b=a[1:]\n",
    "d=np.concatenate((b,c))\n",
    "prediksi=NN.forward(d)\n",
    "prediksi"
   ]
  },
  {
   "cell_type": "code",
   "execution_count": 52,
   "metadata": {},
   "outputs": [
    {
     "data": {
      "text/plain": [
       "array([0.55611392])"
      ]
     },
     "execution_count": 52,
     "metadata": {},
     "output_type": "execute_result"
    }
   ],
   "source": [
    "#prediksi 3\n",
    "c=prediksi\n",
    "b=d[1:]\n",
    "e=np.concatenate((b,c))\n",
    "prediksi=NN.forward(e)\n",
    "prediksi"
   ]
  },
  {
   "cell_type": "code",
   "execution_count": 53,
   "metadata": {},
   "outputs": [
    {
     "data": {
      "text/plain": [
       "array([0.52063534])"
      ]
     },
     "execution_count": 53,
     "metadata": {},
     "output_type": "execute_result"
    }
   ],
   "source": [
    "#prediksi 4\n",
    "c=prediksi\n",
    "b=e[1:]\n",
    "f=np.concatenate((b,c))\n",
    "prediksi=NN.forward(f)\n",
    "prediksi"
   ]
  },
  {
   "cell_type": "code",
   "execution_count": 54,
   "metadata": {},
   "outputs": [
    {
     "data": {
      "text/plain": [
       "array([0.5327198])"
      ]
     },
     "execution_count": 54,
     "metadata": {},
     "output_type": "execute_result"
    }
   ],
   "source": [
    "#prediksi 5\n",
    "c=prediksi\n",
    "b=f[1:]\n",
    "g=np.concatenate((b,c))\n",
    "prediksi=NN.forward(g)\n",
    "prediksi"
   ]
  },
  {
   "cell_type": "code",
   "execution_count": 55,
   "metadata": {},
   "outputs": [
    {
     "data": {
      "text/plain": [
       "array([0.55485659])"
      ]
     },
     "execution_count": 55,
     "metadata": {},
     "output_type": "execute_result"
    }
   ],
   "source": [
    "#prediksi 6\n",
    "c=prediksi\n",
    "b=g[1:]\n",
    "h=np.concatenate((b,c))\n",
    "prediksi=NN.forward(h)\n",
    "prediksi"
   ]
  },
  {
   "cell_type": "code",
   "execution_count": null,
   "metadata": {},
   "outputs": [],
   "source": []
  }
 ],
 "metadata": {
  "kernelspec": {
   "display_name": "Python 3",
   "language": "python",
   "name": "python3"
  },
  "language_info": {
   "codemirror_mode": {
    "name": "ipython",
    "version": 3
   },
   "file_extension": ".py",
   "mimetype": "text/x-python",
   "name": "python",
   "nbconvert_exporter": "python",
   "pygments_lexer": "ipython3",
   "version": "3.7.3"
  }
 },
 "nbformat": 4,
 "nbformat_minor": 2
}
