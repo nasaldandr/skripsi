{
 "cells": [
  {
   "cell_type": "code",
   "execution_count": 1,
   "metadata": {},
   "outputs": [],
   "source": [
    "import numpy as np"
   ]
  },
  {
   "cell_type": "code",
   "execution_count": 2,
   "metadata": {},
   "outputs": [],
   "source": [
    "#UNTUK NILAI IMPOR\n",
    "class Neural_Network(object):\n",
    "    def __init__(self):\n",
    "        #parameters\n",
    "        self.inputLayerSize = 2\n",
    "        self.outputLayerSize = 1\n",
    "        self.hiddenLayerSize = 2\n",
    "\n",
    "        #weights\n",
    "        self.W1 = np.random.randn(self.inputLayerSize,\\\n",
    "                                 self.hiddenLayerSize)  \n",
    "        self.W2 = np.random.randn(self.hiddenLayerSize,\\\n",
    "                                 self.outputLayerSize)  \n",
    "    \n",
    "    def printw(self):\n",
    "        return self.W1\n",
    "        \n",
    "    def weight(self, W1, W2):\n",
    "        #Make an internal variable for the weight:\n",
    "        self.W1 = W1\n",
    "        self.W2 = W2\n",
    "        \n",
    "    def forward(self, X):\n",
    "        #forward propagation through our network\n",
    "        self.z2 = np.dot(X,self.W1)  \n",
    "        self.a2 = self.sigmoid(self.z2)  # activation function\n",
    "        self.z3 = np.dot(self.a2, self.W2) \n",
    "        yHat = self.sigmoid(self.z3)  # final activation function\n",
    "        return yHat\n",
    "\n",
    "    def sigmoid(self, z):\n",
    "        # activation function\n",
    "        return 1 / (1 + np.exp(-z))\n",
    "    \n",
    "    def sigmoidPrime(self,z): \n",
    "        #derivative of sigmoid     \n",
    "        return np.exp(-z)/((1+np.exp(-z))**2)\n",
    "    \n",
    "    def costFunction(self,X,y):\n",
    "        self.yHat = self.forward(X)\n",
    "        J=0.5*sum((y-self.yHat)**2)\n",
    "        return J\n",
    "    \n",
    "    def costFunctionPrime(self,X,y):\n",
    "        self.yHat=self.forward(X)\n",
    "        \n",
    "        delta3=np.multiply(-(y-self.yHat),self.sigmoidPrime(self.z3))\n",
    "        dJdW2=np.dot(self.a2.T,delta3)\n",
    "        \n",
    "        delta2=np.dot(delta3,self.W2.T)*self.sigmoidPrime(self.z2)\n",
    "        dJdW1=np.dot(X.T,delta2)\n",
    "        return dJdW1,dJdW2\n",
    "    \n",
    "    def predict(self):\n",
    "        prediksi = self.forward(dataprediksi)\n",
    "        return prediksi\n",
    "    \n",
    "    def getParams(self):\n",
    "        params=np.concatenate((self.W1.ravel(),self.W2.ravel()))\n",
    "        return params\n",
    "    \n",
    "    def setParams(self,params):\n",
    "        W1_start=0\n",
    "        W1_end=self.hiddenLayerSize*self.inputLayerSize\n",
    "        self.W1=np.reshape(params[W1_start:W1_end],\\\n",
    "                          (self.inputLayerSize,self.hiddenLayerSize))\n",
    "        W2_end=W1_end+self.hiddenLayerSize*self.outputLayerSize\n",
    "        self.W2=np.reshape(params[W1_end:W2_end],\\\n",
    "                          (self.hiddenLayerSize,self.outputLayerSize))\n",
    "        \n",
    "    def computeGradients(self, X, y):\n",
    "        dJdW1, dJdW2 = self.costFunctionPrime(X, y)\n",
    "        return np.concatenate((dJdW1.ravel(), dJdW2.ravel()))"
   ]
  },
  {
   "cell_type": "code",
   "execution_count": 3,
   "metadata": {},
   "outputs": [],
   "source": [
    "NN = Neural_Network()"
   ]
  },
  {
   "cell_type": "code",
   "execution_count": 4,
   "metadata": {},
   "outputs": [
    {
     "data": {
      "text/plain": [
       "array([[-0.65820234, -0.56191942],\n",
       "       [-0.93821061, -1.75559577]])"
      ]
     },
     "execution_count": 4,
     "metadata": {},
     "output_type": "execute_result"
    }
   ],
   "source": [
    "NN.W1"
   ]
  },
  {
   "cell_type": "code",
   "execution_count": 5,
   "metadata": {},
   "outputs": [
    {
     "data": {
      "text/plain": [
       "array([[-1.72908159],\n",
       "       [-0.4652028 ]])"
      ]
     },
     "execution_count": 5,
     "metadata": {},
     "output_type": "execute_result"
    }
   ],
   "source": [
    "NN.W2"
   ]
  },
  {
   "cell_type": "code",
   "execution_count": 6,
   "metadata": {},
   "outputs": [],
   "source": [
    "#NILAI IMPOR\n",
    "X=np.array(([\t0.147887324\t,\t0.063380282\t]\t,\n",
    "[\t0.063380282\t,\t0.436619718\t]\t,\n",
    "[\t0.436619718\t,\t0.570422535\t]\t,\n",
    "[\t0.570422535\t,\t0.669014085\t]\t,\n",
    "[\t0.669014085\t,\t0.697183099\t]\t,\n",
    "[\t0.697183099\t,\t0.971830986\t]\t,\n",
    "[\t0.971830986\t,\t0.591549296\t]\t,\n",
    "[\t0.591549296\t,\t0.281690141\t]\t,\n",
    "[\t0.281690141\t,\t0.26056338\t]\t,\n",
    "[\t0.26056338\t,\t0.464788732\t]\t,\n",
    "[\t0.464788732\t,\t0.992957746\t]\t,\n",
    "[\t0.992957746\t,\t0.676056338\t]\t,\n",
    "[\t0.676056338\t,\t0.253521127\t]\t,\n",
    "[\t0.253521127\t,\t0.450704225\t]\t,\n",
    "[\t0.450704225\t,\t0\t]\t,\n",
    "[\t0\t,\t0.485915493\t]\t,\n",
    "[\t0.485915493\t,\t0.781690141\t]\t,\n",
    "[\t0.781690141\t,\t0.802816901\t]\t,\n",
    "[\t0.802816901\t,\t0.302816901\t]\t,\n",
    "[\t0.302816901\t,\t0.471830986\t]\t,\n",
    "[\t0.471830986\t,\t0.415492958\t]\t,\n",
    "[\t0.415492958\t,\t0.647887324\t]\t,\n",
    "[\t0.647887324\t,\t0.612676056\t]\t,\n",
    "[\t0.612676056\t,\t1\t]\t,\n",
    "[\t1\t,\t0.478873239\t]\t,\n",
    "[\t0.478873239\t,\t0.302816901\t]\t,\n",
    "[\t0.302816901\t,\t0.38028169\t]\t,\n",
    "[\t0.38028169\t,\t0.591549296\t]\t,\n",
    "[\t0.591549296\t,\t0.802816901\t]\t,\n",
    "[\t0.802816901\t,\t0.471830986\t]\t,\n",
    "[\t0.471830986\t,\t0.267605634\t]\t,\n",
    "[\t0.267605634\t,\t0.408450704\t]\t,\n",
    "[\t0.408450704\t,\t0.323943662\t]\t,\n",
    "[\t0.323943662\t,\t0.457746479\t]\t,\n",
    "[\t0.457746479\t,\t0.816901408\t]\t,\n",
    "[\t0.816901408\t,\t0.753521127\t]\t,\n",
    "[\t0.753521127\t,\t0.436619718\t]\t,\n",
    "[\t0.436619718\t,\t0.457746479\t]\t,\n",
    "[\t0.457746479\t,\t0.387323944\t]\t,\n",
    "[\t0.387323944\t,\t0.464788732\t]\t,\n",
    "[\t0.464788732\t,\t0.732394366\t]\t,\n",
    "[\t0.732394366\t,\t0.514084507\t]\t,\n",
    "[\t0.514084507\t,\t0.281690141\t]\t,\n",
    "[\t0.281690141\t,\t0.190140845\t]\t,\n",
    "[\t0.190140845\t,\t0.514084507\t]\t,\n",
    "[\t0.514084507\t,\t0.507042254\t]\t,\n",
    "[\t0.507042254\t,\t0.753521127\t]\t,\n",
    "[\t0.753521127\t,\t0.542253521\t]\t,\n",
    "[\t0.542253521\t,\t0.26056338\t]\t,\n",
    "[\t0.26056338\t,\t0.394366197\t]\t,\n",
    "[\t0.394366197\t,\t0.626760563\t]\t,\n",
    "[\t0.626760563\t,\t0.795774648\t]\t,\n",
    "[\t0.795774648\t,\t0.704225352\t]\t,\n",
    "[\t0.704225352\t,\t0.535211268\t]\t,\n",
    "[\t0.535211268\t,\t0.401408451\t]\t,\n",
    "[\t0.401408451\t,\t0.126760563\t]\t,\n",
    "[\t0.126760563\t,\t0.330985915\t]\t,\n",
    "[\t0.330985915\t,\t0.415492958\t]\t,\n",
    "[\t0.415492958\t,\t0.556338028\t]\t,\n",
    "[\t0.556338028\t,\t0.591549296\t]\t,\n",
    "\n",
    ")           \n",
    ",dtype=float)\n",
    "y=np.array(([\t0.436619718\t]\t,\n",
    "[\t0.570422535\t]\t,\n",
    "[\t0.669014085\t]\t,\n",
    "[\t0.697183099\t]\t,\n",
    "[\t0.971830986\t]\t,\n",
    "[\t0.591549296\t]\t,\n",
    "[\t0.281690141\t]\t,\n",
    "[\t0.26056338\t]\t,\n",
    "[\t0.464788732\t]\t,\n",
    "[\t0.992957746\t]\t,\n",
    "[\t0.676056338\t]\t,\n",
    "[\t0.253521127\t]\t,\n",
    "[\t0.450704225\t]\t,\n",
    "[\t0\t]\t,\n",
    "[\t0.485915493\t]\t,\n",
    "[\t0.781690141\t]\t,\n",
    "[\t0.802816901\t]\t,\n",
    "[\t0.302816901\t]\t,\n",
    "[\t0.471830986\t]\t,\n",
    "[\t0.415492958\t]\t,\n",
    "[\t0.647887324\t]\t,\n",
    "[\t0.612676056\t]\t,\n",
    "[\t1\t]\t,\n",
    "[\t0.478873239\t]\t,\n",
    "[\t0.302816901\t]\t,\n",
    "[\t0.38028169\t]\t,\n",
    "[\t0.591549296\t]\t,\n",
    "[\t0.802816901\t]\t,\n",
    "[\t0.471830986\t]\t,\n",
    "[\t0.267605634\t]\t,\n",
    "[\t0.408450704\t]\t,\n",
    "[\t0.323943662\t]\t,\n",
    "[\t0.457746479\t]\t,\n",
    "[\t0.816901408\t]\t,\n",
    "[\t0.753521127\t]\t,\n",
    "[\t0.436619718\t]\t,\n",
    "[\t0.457746479\t]\t,\n",
    "[\t0.387323944\t]\t,\n",
    "[\t0.464788732\t]\t,\n",
    "[\t0.732394366\t]\t,\n",
    "[\t0.514084507\t]\t,\n",
    "[\t0.281690141\t]\t,\n",
    "[\t0.190140845\t]\t,\n",
    "[\t0.514084507\t]\t,\n",
    "[\t0.507042254\t]\t,\n",
    "[\t0.753521127\t]\t,\n",
    "[\t0.542253521\t]\t,\n",
    "[\t0.26056338\t]\t,\n",
    "[\t0.394366197\t]\t,\n",
    "[\t0.626760563\t]\t,\n",
    "[\t0.795774648\t]\t,\n",
    "[\t0.704225352\t]\t,\n",
    "[\t0.535211268\t]\t,\n",
    "[\t0.401408451\t]\t,\n",
    "[\t0.126760563\t]\t,\n",
    "[\t0.330985915\t]\t,\n",
    "[\t0.415492958\t]\t,\n",
    "[\t0.556338028\t]\t,\n",
    "[\t0.591549296\t]\t,\n",
    "[\t0.514084507\t]\t,\n",
    "\n",
    ")\n",
    ",dtype=float)\n",
    "\n",
    "dataprediksi = np.array(([\t0.591549296\t,\t0.514084507\t]\t,\n",
    "[\t0.514084507\t,\t0.387323944\t]\t,\n",
    "[\t0.387323944\t,\t0.373239437\t]\t,\n",
    "[\t0.373239437\t,\t0.366197183\t]\t,\n",
    "\n",
    "\n",
    "\n",
    "), dtype=float)\n"
   ]
  },
  {
   "cell_type": "code",
   "execution_count": 7,
   "metadata": {},
   "outputs": [],
   "source": [
    "import matplotlib.pyplot as plot"
   ]
  },
  {
   "cell_type": "code",
   "execution_count": 8,
   "metadata": {},
   "outputs": [],
   "source": [
    "from scipy import optimize"
   ]
  },
  {
   "cell_type": "code",
   "execution_count": 9,
   "metadata": {},
   "outputs": [],
   "source": [
    "class trainer(object):\n",
    "    def __init__(self, N):\n",
    "        #Make Local reference to network:\n",
    "        self.N = N\n",
    "        \n",
    "    def callbackF(self, params):\n",
    "        self.N.setParams(params)\n",
    "        self.J.append(self.N.costFunction(self.X, self.y))   \n",
    "        \n",
    "    def costFunctionWrapper(self, params, X, y):\n",
    "        self.N.setParams(params)\n",
    "        cost = self.N.costFunction(X, y)\n",
    "        grad = self.N.computeGradients(X,y)\n",
    "        \n",
    "        return cost, grad\n",
    "        \n",
    "    def train(self, X, y):\n",
    "        #Make an internal variable for the callback function:\n",
    "        self.X = X\n",
    "        self.y = y\n",
    "\n",
    "        #Make empty list to store costs:\n",
    "        self.J = []\n",
    "        \n",
    "        params0 = self.N.getParams()\n",
    "\n",
    "        options = {'maxiter': 100, 'disp' : True}\n",
    "        _res = optimize.minimize(self.costFunctionWrapper, params0, jac=True, method='BFGS', \\\n",
    "                                 args=(X, y), options=options, callback=self.callbackF)\n",
    "\n",
    "        self.N.setParams(_res.x)\n",
    "        self.optimizationResults = _res"
   ]
  },
  {
   "cell_type": "code",
   "execution_count": 10,
   "metadata": {},
   "outputs": [],
   "source": [
    "NN=Neural_Network()"
   ]
  },
  {
   "cell_type": "code",
   "execution_count": 11,
   "metadata": {},
   "outputs": [],
   "source": [
    "T = trainer(NN)"
   ]
  },
  {
   "cell_type": "code",
   "execution_count": 12,
   "metadata": {},
   "outputs": [
    {
     "name": "stdout",
     "output_type": "stream",
     "text": [
      "Optimization terminated successfully.\n",
      "         Current function value: 0.827419\n",
      "         Iterations: 99\n",
      "         Function evaluations: 112\n",
      "         Gradient evaluations: 112\n"
     ]
    }
   ],
   "source": [
    "#Train network with new data:\n",
    "T = trainer(NN)\n",
    "T.train(X,y)"
   ]
  },
  {
   "cell_type": "code",
   "execution_count": 13,
   "metadata": {},
   "outputs": [
    {
     "data": {
      "image/png": "[encoded data removed]",
      "text/plain": [
       "<Figure size 432x288 with 1 Axes>"
      ]
     },
     "metadata": {
      "needs_background": "light"
     },
     "output_type": "display_data"
    }
   ],
   "source": [
    "#Plot cost during training:\n",
    "plot.plot(T.J)\n",
    "plot.grid(1)\n",
    "plot.xlabel('Iterations')\n",
    "plot.ylabel('Cost')\n",
    "plot.show()"
   ]
  },
  {
   "cell_type": "code",
   "execution_count": 14,
   "metadata": {},
   "outputs": [],
   "source": [
    "#Training Data:\n",
    "trainX = np.array(([\t0.147887324\t,\t0.063380282\t]\t,\n",
    "[\t0.063380282\t,\t0.436619718\t]\t,\n",
    "[\t0.436619718\t,\t0.570422535\t]\t,\n",
    "[\t0.570422535\t,\t0.669014085\t]\t,\n",
    "[\t0.669014085\t,\t0.697183099\t]\t,\n",
    "[\t0.697183099\t,\t0.971830986\t]\t,\n",
    "[\t0.971830986\t,\t0.591549296\t]\t,\n",
    "[\t0.591549296\t,\t0.281690141\t]\t,\n",
    "[\t0.281690141\t,\t0.26056338\t]\t,\n",
    "[\t0.26056338\t,\t0.464788732\t]\t,\n",
    "[\t0.464788732\t,\t0.992957746\t]\t,\n",
    "[\t0.992957746\t,\t0.676056338\t]\t,\n",
    "[\t0.676056338\t,\t0.253521127\t]\t,\n",
    "[\t0.253521127\t,\t0.450704225\t]\t,\n",
    "[\t0.450704225\t,\t0\t]\t,\n",
    "[\t0\t,\t0.485915493\t]\t,\n",
    "[\t0.485915493\t,\t0.781690141\t]\t,\n",
    "[\t0.781690141\t,\t0.802816901\t]\t,\n",
    "[\t0.802816901\t,\t0.302816901\t]\t,\n",
    "[\t0.302816901\t,\t0.471830986\t]\t,\n",
    "[\t0.471830986\t,\t0.415492958\t]\t,\n",
    "[\t0.415492958\t,\t0.647887324\t]\t,\n",
    "[\t0.647887324\t,\t0.612676056\t]\t,\n",
    "[\t0.612676056\t,\t1\t]\t,\n",
    "[\t1\t,\t0.478873239\t]\t,\n",
    "[\t0.478873239\t,\t0.302816901\t]\t,\n",
    "[\t0.302816901\t,\t0.38028169\t]\t,\n",
    "[\t0.38028169\t,\t0.591549296\t]\t,\n",
    "[\t0.591549296\t,\t0.802816901\t]\t,\n",
    "[\t0.802816901\t,\t0.471830986\t]\t,\n",
    "[\t0.471830986\t,\t0.267605634\t]\t,\n",
    "[\t0.267605634\t,\t0.408450704\t]\t,\n",
    "[\t0.408450704\t,\t0.323943662\t]\t,\n",
    "[\t0.323943662\t,\t0.457746479\t]\t,\n",
    "[\t0.457746479\t,\t0.816901408\t]\t,\n",
    "[\t0.816901408\t,\t0.753521127\t]\t,\n",
    "[\t0.753521127\t,\t0.436619718\t]\t,\n",
    "[\t0.436619718\t,\t0.457746479\t]\t,\n",
    "[\t0.457746479\t,\t0.387323944\t]\t,\n",
    "[\t0.387323944\t,\t0.464788732\t]\t,\n",
    "[\t0.464788732\t,\t0.732394366\t]\t,\n",
    "[\t0.732394366\t,\t0.514084507\t]\t,\n",
    "[\t0.514084507\t,\t0.281690141\t]\t,\n",
    "[\t0.281690141\t,\t0.190140845\t]\t,\n",
    "[\t0.190140845\t,\t0.514084507\t]\t,\n",
    "[\t0.514084507\t,\t0.507042254\t]\t,\n",
    "[\t0.507042254\t,\t0.753521127\t]\t,\n",
    "\n",
    ")\n",
    ", dtype=float)\n",
    "trainY = np.array(([\t0.436619718\t]\t,\n",
    "[\t0.570422535\t]\t,\n",
    "[\t0.669014085\t]\t,\n",
    "[\t0.697183099\t]\t,\n",
    "[\t0.971830986\t]\t,\n",
    "[\t0.591549296\t]\t,\n",
    "[\t0.281690141\t]\t,\n",
    "[\t0.26056338\t]\t,\n",
    "[\t0.464788732\t]\t,\n",
    "[\t0.992957746\t]\t,\n",
    "[\t0.676056338\t]\t,\n",
    "[\t0.253521127\t]\t,\n",
    "[\t0.450704225\t]\t,\n",
    "[\t0\t]\t,\n",
    "[\t0.485915493\t]\t,\n",
    "[\t0.781690141\t]\t,\n",
    "[\t0.802816901\t]\t,\n",
    "[\t0.302816901\t]\t,\n",
    "[\t0.471830986\t]\t,\n",
    "[\t0.415492958\t]\t,\n",
    "[\t0.647887324\t]\t,\n",
    "[\t0.612676056\t]\t,\n",
    "[\t1\t]\t,\n",
    "[\t0.478873239\t]\t,\n",
    "[\t0.302816901\t]\t,\n",
    "[\t0.38028169\t]\t,\n",
    "[\t0.591549296\t]\t,\n",
    "[\t0.802816901\t]\t,\n",
    "[\t0.471830986\t]\t,\n",
    "[\t0.267605634\t]\t,\n",
    "[\t0.408450704\t]\t,\n",
    "[\t0.323943662\t]\t,\n",
    "[\t0.457746479\t]\t,\n",
    "[\t0.816901408\t]\t,\n",
    "[\t0.753521127\t]\t,\n",
    "[\t0.436619718\t]\t,\n",
    "[\t0.457746479\t]\t,\n",
    "[\t0.387323944\t]\t,\n",
    "[\t0.464788732\t]\t,\n",
    "[\t0.732394366\t]\t,\n",
    "[\t0.514084507\t]\t,\n",
    "[\t0.281690141\t]\t,\n",
    "[\t0.190140845\t]\t,\n",
    "[\t0.514084507\t]\t,\n",
    "[\t0.507042254\t]\t,\n",
    "[\t0.753521127\t]\t,\n",
    "[\t0.542253521\t]\t,\n",
    "\n",
    ")\n",
    ", dtype=float)\n",
    "\n",
    "#Testing Data:\n",
    "testX = np.array(([\t0.753521127\t,\t0.542253521\t]\t,\n",
    "[\t0.542253521\t,\t0.26056338\t]\t,\n",
    "[\t0.26056338\t,\t0.394366197\t]\t,\n",
    "[\t0.394366197\t,\t0.626760563\t]\t,\n",
    "[\t0.626760563\t,\t0.795774648\t]\t,\n",
    "[\t0.795774648\t,\t0.704225352\t]\t,\n",
    "[\t0.704225352\t,\t0.535211268\t]\t,\n",
    "[\t0.535211268\t,\t0.401408451\t]\t,\n",
    "[\t0.401408451\t,\t0.126760563\t]\t,\n",
    "[\t0.126760563\t,\t0.330985915\t]\t,\n",
    "[\t0.330985915\t,\t0.415492958\t]\t,\n",
    "[\t0.415492958\t,\t0.556338028\t]\t,\n",
    "[\t0.556338028\t,\t0.591549296\t]\t,\n",
    "\n",
    ")\n",
    ", dtype=float)\n",
    "testY = np.array(([\t0.26056338\t]\t,\n",
    "[\t0.394366197\t]\t,\n",
    "[\t0.626760563\t]\t,\n",
    "[\t0.795774648\t]\t,\n",
    "[\t0.704225352\t]\t,\n",
    "[\t0.535211268\t]\t,\n",
    "[\t0.401408451\t]\t,\n",
    "[\t0.126760563\t]\t,\n",
    "[\t0.330985915\t]\t,\n",
    "[\t0.415492958\t]\t,\n",
    "[\t0.556338028\t]\t,\n",
    "[\t0.591549296\t]\t,\n",
    "[\t0.514084507\t]\t,\n",
    "\n",
    ")\n",
    ", dtype=float)\n",
    "\n",
    "\n",
    "dataprediksi = np.array(([\t0.591549296\t,\t0.514084507\t]\t,\n",
    "[\t0.514084507\t,\t0.387323944\t]\t,\n",
    "[\t0.387323944\t,\t0.373239437\t]\t,\n",
    "[\t0.373239437\t,\t0.366197183\t]\t,\n",
    "\n",
    "\n",
    "), dtype=float)"
   ]
  },
  {
   "cell_type": "code",
   "execution_count": 15,
   "metadata": {},
   "outputs": [
    {
     "data": {
      "text/plain": [
       "array([[0.75352113, 0.54225352],\n",
       "       [0.54225352, 0.26056338],\n",
       "       [0.26056338, 0.3943662 ],\n",
       "       [0.3943662 , 0.62676056],\n",
       "       [0.62676056, 0.79577465],\n",
       "       [0.79577465, 0.70422535],\n",
       "       [0.70422535, 0.53521127],\n",
       "       [0.53521127, 0.40140845],\n",
       "       [0.40140845, 0.12676056],\n",
       "       [0.12676056, 0.33098592],\n",
       "       [0.33098592, 0.41549296],\n",
       "       [0.41549296, 0.55633803],\n",
       "       [0.55633803, 0.5915493 ]])"
      ]
     },
     "execution_count": 15,
     "metadata": {},
     "output_type": "execute_result"
    }
   ],
   "source": [
    "testX"
   ]
  },
  {
   "cell_type": "code",
   "execution_count": 16,
   "metadata": {},
   "outputs": [],
   "source": [
    "##Need to modify trainer class a bit to check testing error during training:\n",
    "class trainer(object):\n",
    "    def __init__(self, N):\n",
    "        #Make Local reference to network:\n",
    "        self.N = N\n",
    "        \n",
    "    def callbackF(self, params):\n",
    "        self.N.setParams(params)\n",
    "        self.J.append(self.N.costFunction(self.X, self.y))\n",
    "        self.testJ.append(self.N.costFunction(self.testX, self.testY))\n",
    "        \n",
    "    def costFunctionWrapper(self, params, X, y):\n",
    "        self.N.setParams(params)\n",
    "        cost = self.N.costFunction(X, y)\n",
    "        grad = self.N.computeGradients(X,y)\n",
    "        \n",
    "        return cost, grad\n",
    "        \n",
    "    def train(self, trainX, trainY, testX, testY):\n",
    "        #Make an internal variable for the callback function:\n",
    "        self.X = trainX\n",
    "        self.y = trainY\n",
    "        \n",
    "        self.testX = testX\n",
    "        self.testY = testY\n",
    "\n",
    "        #Make empty list to store training costs:\n",
    "        self.J = []\n",
    "        self.testJ = []\n",
    "        \n",
    "        params0 = self.N.getParams()\n",
    "\n",
    "        options = {'maxiter': 100, 'disp' : True}\n",
    "        _res = optimize.minimize(self.costFunctionWrapper, params0, jac=True, method='BFGS', \\\n",
    "                                 args=(trainX, trainY), options=options, callback=self.callbackF)\n",
    "\n",
    "        self.N.setParams(_res.x)\n",
    "        self.optimizationResults = _res"
   ]
  },
  {
   "cell_type": "code",
   "execution_count": 17,
   "metadata": {},
   "outputs": [
    {
     "name": "stdout",
     "output_type": "stream",
     "text": [
      "Optimization terminated successfully.\n",
      "         Current function value: 0.765511\n",
      "         Iterations: 67\n",
      "         Function evaluations: 71\n",
      "         Gradient evaluations: 71\n"
     ]
    }
   ],
   "source": [
    "#Train network with new data:\n",
    "NN = Neural_Network()\n",
    "\n",
    "T = trainer(NN)\n",
    "T.train(trainX, trainY, testX, testY)"
   ]
  },
  {
   "cell_type": "code",
   "execution_count": 18,
   "metadata": {},
   "outputs": [
    {
     "data": {
      "image/png": "[encoded data removed]",
      "text/plain": [
       "<Figure size 432x288 with 1 Axes>"
      ]
     },
     "metadata": {
      "needs_background": "light"
     },
     "output_type": "display_data"
    }
   ],
   "source": [
    "#Plot cost during training:\n",
    "plot.plot(T.J)\n",
    "plot.plot(T.testJ)\n",
    "plot.grid(1)\n",
    "plot.xlabel('Iterations')\n",
    "plot.ylabel('Cost')\n",
    "plot.legend(['Training', 'Testing'])\n",
    "plot.show()"
   ]
  },
  {
   "cell_type": "code",
   "execution_count": 19,
   "metadata": {},
   "outputs": [
    {
     "data": {
      "text/plain": [
       "[array([1.08294085]),\n",
       " array([1.07054813]),\n",
       " array([1.0552429]),\n",
       " array([1.02783071]),\n",
       " array([0.97875863]),\n",
       " array([0.90167538]),\n",
       " array([0.88473573]),\n",
       " array([0.8814983]),\n",
       " array([0.87600557]),\n",
       " array([0.86784485]),\n",
       " array([0.86007944]),\n",
       " array([0.8546825]),\n",
       " array([0.85424979]),\n",
       " array([0.85417795]),\n",
       " array([0.8541704]),\n",
       " array([0.85415591]),\n",
       " array([0.8540452]),\n",
       " array([0.85391856]),\n",
       " array([0.85376251]),\n",
       " array([0.85359583]),\n",
       " array([0.85355222]),\n",
       " array([0.85354159]),\n",
       " array([0.85353859]),\n",
       " array([0.85353436]),\n",
       " array([0.85352658]),\n",
       " array([0.85351187]),\n",
       " array([0.85348369]),\n",
       " array([0.8532895]),\n",
       " array([0.85310913]),\n",
       " array([0.8527979]),\n",
       " array([0.8522844]),\n",
       " array([0.85141283]),\n",
       " array([0.84985836]),\n",
       " array([0.8470506]),\n",
       " array([0.84204426]),\n",
       " array([0.83340207]),\n",
       " array([0.82112044]),\n",
       " array([0.80947816]),\n",
       " array([0.79627108]),\n",
       " array([0.79166768]),\n",
       " array([0.78497706]),\n",
       " array([0.781231]),\n",
       " array([0.77957969]),\n",
       " array([0.77788383]),\n",
       " array([0.77510279]),\n",
       " array([0.77072708]),\n",
       " array([0.76654135]),\n",
       " array([0.76570698]),\n",
       " array([0.7656397]),\n",
       " array([0.7656173]),\n",
       " array([0.7656136]),\n",
       " array([0.76561329]),\n",
       " array([0.76561301]),\n",
       " array([0.76561254]),\n",
       " array([0.76561172]),\n",
       " array([0.76561025]),\n",
       " array([0.76560758]),\n",
       " array([0.76560279]),\n",
       " array([0.76559441]),\n",
       " array([0.76558044]),\n",
       " array([0.76555928]),\n",
       " array([0.76553813]),\n",
       " array([0.76552204]),\n",
       " array([0.76551331]),\n",
       " array([0.76551158]),\n",
       " array([0.76551149]),\n",
       " array([0.76551149])]"
      ]
     },
     "execution_count": 19,
     "metadata": {},
     "output_type": "execute_result"
    }
   ],
   "source": [
    "T.J"
   ]
  },
  {
   "cell_type": "code",
   "execution_count": 20,
   "metadata": {},
   "outputs": [
    {
     "data": {
      "text/plain": [
       "[array([0.20642054]),\n",
       " array([0.21178808]),\n",
       " array([0.21434428]),\n",
       " array([0.21333299]),\n",
       " array([0.20456109]),\n",
       " array([0.17259995]),\n",
       " array([0.15289562]),\n",
       " array([0.15061997]),\n",
       " array([0.1468275]),\n",
       " array([0.1386217]),\n",
       " array([0.12838847]),\n",
       " array([0.11963898]),\n",
       " array([0.12077021]),\n",
       " array([0.12202276]),\n",
       " array([0.1220979]),\n",
       " array([0.12218411]),\n",
       " array([0.12273597]),\n",
       " array([0.12320555]),\n",
       " array([0.12321692]),\n",
       " array([0.12253857]),\n",
       " array([0.12204002]),\n",
       " array([0.12205957]),\n",
       " array([0.12212265]),\n",
       " array([0.12218796]),\n",
       " array([0.12225162]),\n",
       " array([0.12232606]),\n",
       " array([0.12242728]),\n",
       " array([0.12349602]),\n",
       " array([0.12419599]),\n",
       " array([0.12493311]),\n",
       " array([0.12574641]),\n",
       " array([0.12606947]),\n",
       " array([0.12549258]),\n",
       " array([0.12377891]),\n",
       " array([0.12063712]),\n",
       " array([0.11523727]),\n",
       " array([0.11240829]),\n",
       " array([0.09732965]),\n",
       " array([0.09961111]),\n",
       " array([0.10087252]),\n",
       " array([0.1002157]),\n",
       " array([0.09895104]),\n",
       " array([0.09964843]),\n",
       " array([0.09882022]),\n",
       " array([0.09819764]),\n",
       " array([0.09800052]),\n",
       " array([0.10121024]),\n",
       " array([0.10526912]),\n",
       " array([0.10549561]),\n",
       " array([0.10512666]),\n",
       " array([0.10476867]),\n",
       " array([0.10469772]),\n",
       " array([0.10464987]),\n",
       " array([0.10460599]),\n",
       " array([0.10456134]),\n",
       " array([0.1045089]),\n",
       " array([0.1044372]),\n",
       " array([0.10432897]),\n",
       " array([0.10415547]),\n",
       " array([0.10387053]),\n",
       " array([0.10341165]),\n",
       " array([0.10296265]),\n",
       " array([0.10274318]),\n",
       " array([0.10278786]),\n",
       " array([0.10291931]),\n",
       " array([0.10295943]),\n",
       " array([0.10296369])]"
      ]
     },
     "execution_count": 20,
     "metadata": {},
     "output_type": "execute_result"
    }
   ],
   "source": [
    "T.testJ"
   ]
  },
  {
   "cell_type": "code",
   "execution_count": 21,
   "metadata": {},
   "outputs": [
    {
     "data": {
      "text/plain": [
       "0.7098481464320328"
      ]
     },
     "execution_count": 21,
     "metadata": {},
     "output_type": "execute_result"
    }
   ],
   "source": [
    "from sklearn.metrics import mean_absolute_error\n",
    "mean_absolute_error(T.J, T.testJ)"
   ]
  },
  {
   "cell_type": "code",
   "execution_count": 22,
   "metadata": {},
   "outputs": [],
   "source": [
    "yHat = NN.forward(X)"
   ]
  },
  {
   "cell_type": "code",
   "execution_count": 23,
   "metadata": {},
   "outputs": [
    {
     "data": {
      "text/plain": [
       "array([[0.40190601],\n",
       "       [0.62111012],\n",
       "       [0.62012961],\n",
       "       [0.61367256],\n",
       "       [0.61313836],\n",
       "       [0.58515313],\n",
       "       [0.33311522],\n",
       "       [0.35615596],\n",
       "       [0.57839938],\n",
       "       [0.6258602 ],\n",
       "       [0.57538014],\n",
       "       [0.32663115],\n",
       "       [0.36342394],\n",
       "       [0.62729462],\n",
       "       [0.38724412],\n",
       "       [0.61258032],\n",
       "       [0.59766683],\n",
       "       [0.60578208],\n",
       "       [0.36259754],\n",
       "       [0.62669975],\n",
       "       [0.56744529],\n",
       "       [0.61016255],\n",
       "       [0.60997311],\n",
       "       [0.57950441],\n",
       "       [0.34826237],\n",
       "       [0.36236258],\n",
       "       [0.63558582],\n",
       "       [0.61540934],\n",
       "       [0.59930723],\n",
       "       [0.34113132],\n",
       "       [0.35765127],\n",
       "       [0.63285519],\n",
       "       [0.47575059],\n",
       "       [0.62912244],\n",
       "       [0.59280147],\n",
       "       [0.60141123],\n",
       "       [0.34357621],\n",
       "       [0.62633184],\n",
       "       [0.53242802],\n",
       "       [0.6296943 ],\n",
       "       [0.60236578],\n",
       "       [0.34917142],\n",
       "       [0.35504157],\n",
       "       [0.41707154],\n",
       "       [0.61695045],\n",
       "       [0.61882001],\n",
       "       [0.60160503],\n",
       "       [0.35384106],\n",
       "       [0.35700885],\n",
       "       [0.63419935],\n",
       "       [0.61180117],\n",
       "       [0.60142641],\n",
       "       [0.58376533],\n",
       "       [0.39407349],\n",
       "       [0.41043814],\n",
       "       [0.36816438],\n",
       "       [0.63686292],\n",
       "       [0.63328238],\n",
       "       [0.62098659],\n",
       "       [0.62040349]])"
      ]
     },
     "execution_count": 23,
     "metadata": {},
     "output_type": "execute_result"
    }
   ],
   "source": [
    "yHat"
   ]
  },
  {
   "cell_type": "code",
   "execution_count": 24,
   "metadata": {},
   "outputs": [
    {
     "data": {
      "text/plain": [
       "array([[0.43661972],\n",
       "       [0.57042253],\n",
       "       [0.66901409],\n",
       "       [0.6971831 ],\n",
       "       [0.97183099],\n",
       "       [0.5915493 ],\n",
       "       [0.28169014],\n",
       "       [0.26056338],\n",
       "       [0.46478873],\n",
       "       [0.99295775],\n",
       "       [0.67605634],\n",
       "       [0.25352113],\n",
       "       [0.45070423],\n",
       "       [0.        ],\n",
       "       [0.48591549],\n",
       "       [0.78169014],\n",
       "       [0.8028169 ],\n",
       "       [0.3028169 ],\n",
       "       [0.47183099],\n",
       "       [0.41549296],\n",
       "       [0.64788732],\n",
       "       [0.61267606],\n",
       "       [1.        ],\n",
       "       [0.47887324],\n",
       "       [0.3028169 ],\n",
       "       [0.38028169],\n",
       "       [0.5915493 ],\n",
       "       [0.8028169 ],\n",
       "       [0.47183099],\n",
       "       [0.26760563],\n",
       "       [0.4084507 ],\n",
       "       [0.32394366],\n",
       "       [0.45774648],\n",
       "       [0.81690141],\n",
       "       [0.75352113],\n",
       "       [0.43661972],\n",
       "       [0.45774648],\n",
       "       [0.38732394],\n",
       "       [0.46478873],\n",
       "       [0.73239437],\n",
       "       [0.51408451],\n",
       "       [0.28169014],\n",
       "       [0.19014085],\n",
       "       [0.51408451],\n",
       "       [0.50704225],\n",
       "       [0.75352113],\n",
       "       [0.54225352],\n",
       "       [0.26056338],\n",
       "       [0.3943662 ],\n",
       "       [0.62676056],\n",
       "       [0.79577465],\n",
       "       [0.70422535],\n",
       "       [0.53521127],\n",
       "       [0.40140845],\n",
       "       [0.12676056],\n",
       "       [0.33098592],\n",
       "       [0.41549296],\n",
       "       [0.55633803],\n",
       "       [0.5915493 ],\n",
       "       [0.51408451]])"
      ]
     },
     "execution_count": 24,
     "metadata": {},
     "output_type": "execute_result"
    }
   ],
   "source": [
    "y"
   ]
  },
  {
   "cell_type": "code",
   "execution_count": 25,
   "metadata": {},
   "outputs": [
    {
     "data": {
      "text/plain": [
       "0.028949172684062885"
      ]
     },
     "execution_count": 25,
     "metadata": {},
     "output_type": "execute_result"
    }
   ],
   "source": [
    "from sklearn.metrics import mean_squared_error \n",
    "mean_squared_error(y,yHat) "
   ]
  },
  {
   "cell_type": "code",
   "execution_count": 26,
   "metadata": {},
   "outputs": [
    {
     "data": {
      "image/png": "[encoded data removed]",
      "text/plain": [
       "<Figure size 432x288 with 1 Axes>"
      ]
     },
     "metadata": {
      "needs_background": "light"
     },
     "output_type": "display_data"
    }
   ],
   "source": [
    "#Plot cost during training:\n",
    "plot.plot(y)\n",
    "plot.plot(yHat)\n",
    "plot.grid(1)\n",
    "plot.legend(['y', 'yHat'])\n",
    "plot.show()"
   ]
  },
  {
   "cell_type": "code",
   "execution_count": 27,
   "metadata": {},
   "outputs": [],
   "source": [
    "#Regularization Parameter:\n",
    "Lambda = 0.0001"
   ]
  },
  {
   "cell_type": "code",
   "execution_count": 28,
   "metadata": {},
   "outputs": [],
   "source": [
    "#Need to make changes to costFunction and costFunctionPrim:\n",
    "def costFunction(self, X, y):\n",
    "    #Compute cost for given X,y, use weights already stored in class.\n",
    "    self.yHat = self.forward(X)\n",
    "    #We don't want cost to increase with the number of examples, so normalize by dividing the error term by number of examples(X.shape[0])\n",
    "    J = 0.5*sum((y-self.yHat)**2)/X.shape[0] + (self.Lambda/2)*(sum(self.W1**2)+sum(self.W2**2))\n",
    "    return J\n",
    "\n",
    "def costFunctionPrime(self, X, y):\n",
    "    #Compute derivative with respect to W and W2 for a given X and y:\n",
    "    self.yHat = self.forward(X)\n",
    "\n",
    "    delta3 = np.multiply(-(y-self.yHat), self.sigmoidPrime(self.z3))\n",
    "    #Add gradient of regularization term:\n",
    "    dJdW2 = np.dot(self.a2.T, delta3)/X.shape[0] + self.Lambda*self.W2\n",
    "\n",
    "    delta2 = np.dot(delta3, self.W2.T)*self.sigmoidPrime(self.z2)\n",
    "    #Add gradient of regularization term:\n",
    "    dJdW1 = np.dot(X.T, delta2)/X.shape[0] + self.Lambda*self.W1\n",
    "\n",
    "    return dJdW1, dJdW2"
   ]
  },
  {
   "cell_type": "code",
   "execution_count": 29,
   "metadata": {},
   "outputs": [],
   "source": [
    "#New complete class, with changes:\n",
    "class Neural_Network(object):\n",
    "    def __init__(self, Lambda=0.0001):        \n",
    "        #Define Hyperparameters\n",
    "        self.inputLayerSize = 2\n",
    "        self.outputLayerSize = 1\n",
    "        self.hiddenLayerSize = 2\n",
    "        \n",
    "        #Weights (parameters)\n",
    "        self.W1 = np.random.randn(self.inputLayerSize,self.hiddenLayerSize)\n",
    "        self.W2 = np.random.randn(self.hiddenLayerSize,self.outputLayerSize)\n",
    "        \n",
    "        #Regularization Parameter:\n",
    "        self.Lambda = Lambda\n",
    "        \n",
    "    def forward(self, X):\n",
    "        #Propogate inputs though network\n",
    "        self.z2 = np.dot(X, self.W1)\n",
    "        self.a2 = self.sigmoid(self.z2)\n",
    "        self.z3 = np.dot(self.a2, self.W2)\n",
    "        yHat = self.sigmoid(self.z3) \n",
    "        return yHat\n",
    "        \n",
    "    def sigmoid(self, z):\n",
    "        #Apply sigmoid activation function to scalar, vector, or matrix\n",
    "        return 1/(1+np.exp(-z))\n",
    "    \n",
    "    def sigmoidPrime(self,z):\n",
    "        #Gradient of sigmoid\n",
    "        return np.exp(-z)/((1+np.exp(-z))**2)\n",
    "    \n",
    "    def costFunction(self, X, y):\n",
    "        #Compute cost for given X,y, use weights already stored in class.\n",
    "        self.yHat = self.forward(X)\n",
    "        J = 0.5*sum((y-self.yHat)**2)/X.shape[0] + (self.Lambda/2)*(np.sum(self.W1**2)+np.sum(self.W2**2))\n",
    "        return J\n",
    "        \n",
    "    def costFunctionPrime(self, X, y):\n",
    "        #Compute derivative with respect to W and W2 for a given X and y:\n",
    "        self.yHat = self.forward(X)\n",
    "        \n",
    "        delta3 = np.multiply(-(y-self.yHat), self.sigmoidPrime(self.z3))\n",
    "        #Add gradient of regularization term:\n",
    "        dJdW2 = np.dot(self.a2.T, delta3)/X.shape[0] + self.Lambda*self.W2\n",
    "        \n",
    "        delta2 = np.dot(delta3, self.W2.T)*self.sigmoidPrime(self.z2)\n",
    "        #Add gradient of regularization term:\n",
    "        dJdW1 = np.dot(X.T, delta2)/X.shape[0] + self.Lambda*self.W1\n",
    "        \n",
    "        return dJdW1, dJdW2\n",
    "    \n",
    "    def predict(self):\n",
    "        prediksi = self.forward(dataprediksi)\n",
    "        return prediksi\n",
    "    \n",
    "    #Helper functions for interacting with other methods/classes\n",
    "    def getParams(self):\n",
    "        #Get W1 and W2 Rolled into vector:\n",
    "        params = np.concatenate((self.W1.ravel(), self.W2.ravel()))\n",
    "        return params\n",
    "    \n",
    "    def setParams(self, params):\n",
    "        #Set W1 and W2 using single parameter vector:\n",
    "        W1_start = 0\n",
    "        W1_end = self.hiddenLayerSize*self.inputLayerSize\n",
    "        self.W1 = np.reshape(params[W1_start:W1_end], \\\n",
    "                             (self.inputLayerSize, self.hiddenLayerSize))\n",
    "        W2_end = W1_end + self.hiddenLayerSize*self.outputLayerSize\n",
    "        self.W2 = np.reshape(params[W1_end:W2_end], \\\n",
    "                             (self.hiddenLayerSize, self.outputLayerSize))\n",
    "        \n",
    "    def computeGradients(self, X, y):\n",
    "        dJdW1, dJdW2 = self.costFunctionPrime(X, y)\n",
    "        return np.concatenate((dJdW1.ravel(), dJdW2.ravel()))"
   ]
  },
  {
   "cell_type": "code",
   "execution_count": 30,
   "metadata": {},
   "outputs": [],
   "source": [
    "def computeNumericalGradient(N, X, y):\n",
    "    paramsInitial = N.getParams()\n",
    "    numgrad = np.zeros(paramsInitial.shape)\n",
    "    perturb = np.zeros(paramsInitial.shape)\n",
    "    e = 1e-4\n",
    "\n",
    "    for p in range(len(paramsInitial)):\n",
    "        #Set perturbation vector\n",
    "        perturb[p] = e\n",
    "        N.setParams(paramsInitial + perturb)\n",
    "        loss2 = N.costFunction(X, y)\n",
    "            \n",
    "        N.setParams(paramsInitial - perturb)\n",
    "        loss1 = N.costFunction(X, y)\n",
    "\n",
    "        #Compute Numerical Gradient\n",
    "        numgrad[p] = (loss2 - loss1) / (2*e)\n",
    "\n",
    "            #Return the value we changed to zero:\n",
    "        perturb[p] = 0\n",
    "            \n",
    "    #Return Params to original value:\n",
    "    N.setParams(paramsInitial)\n",
    "\n",
    "    return numgrad "
   ]
  },
  {
   "cell_type": "code",
   "execution_count": 31,
   "metadata": {},
   "outputs": [],
   "source": [
    "NN = Neural_Network(Lambda=0.0001)"
   ]
  },
  {
   "cell_type": "code",
   "execution_count": 32,
   "metadata": {},
   "outputs": [],
   "source": [
    "#Make sure our gradients our correct after making changes:\n",
    "numgrad = computeNumericalGradient(NN, X, y)\n",
    "grad = NN.computeGradients(X,y)"
   ]
  },
  {
   "cell_type": "code",
   "execution_count": 33,
   "metadata": {},
   "outputs": [
    {
     "data": {
      "text/plain": [
       "8.780558393163406e-10"
      ]
     },
     "execution_count": 33,
     "metadata": {},
     "output_type": "execute_result"
    }
   ],
   "source": [
    "#Should be less than 1e-8:\n",
    "np.linalg.norm(grad-numgrad)/np.linalg.norm(grad+numgrad)"
   ]
  },
  {
   "cell_type": "code",
   "execution_count": 34,
   "metadata": {},
   "outputs": [],
   "source": [
    "T = trainer(NN)"
   ]
  },
  {
   "cell_type": "code",
   "execution_count": 35,
   "metadata": {},
   "outputs": [
    {
     "name": "stdout",
     "output_type": "stream",
     "text": [
      "Optimization terminated successfully.\n",
      "         Current function value: 0.017101\n",
      "         Iterations: 62\n",
      "         Function evaluations: 65\n",
      "         Gradient evaluations: 65\n"
     ]
    }
   ],
   "source": [
    "T.train(X,y,testX,testY)"
   ]
  },
  {
   "cell_type": "code",
   "execution_count": 36,
   "metadata": {},
   "outputs": [
    {
     "data": {
      "image/png": "[encoded data removed]",
      "text/plain": [
       "<Figure size 432x288 with 1 Axes>"
      ]
     },
     "metadata": {
      "needs_background": "light"
     },
     "output_type": "display_data"
    }
   ],
   "source": [
    "plot.plot(T.J)\n",
    "plot.plot(T.testJ)\n",
    "plot.grid(1)\n",
    "plot.xlabel('Iterations')\n",
    "plot.ylabel('Cost')\n",
    "plot.legend(['Training', 'Testing'])\n",
    "plot.show()"
   ]
  },
  {
   "cell_type": "code",
   "execution_count": 37,
   "metadata": {},
   "outputs": [
    {
     "data": {
      "text/plain": [
       "[array([0.02807517]),\n",
       " array([0.02255866]),\n",
       " array([0.0221405]),\n",
       " array([0.02213977]),\n",
       " array([0.02213852]),\n",
       " array([0.02213623]),\n",
       " array([0.02213195]),\n",
       " array([0.02212393]),\n",
       " array([0.02210903]),\n",
       " array([0.02208174]),\n",
       " array([0.02203287]),\n",
       " array([0.02194796]),\n",
       " array([0.02180526]),\n",
       " array([0.02157861]),\n",
       " array([0.0212913]),\n",
       " array([0.02094676]),\n",
       " array([0.02033398]),\n",
       " array([0.0194672]),\n",
       " array([0.01918928]),\n",
       " array([0.01914025]),\n",
       " array([0.01912385]),\n",
       " array([0.01910993]),\n",
       " array([0.01899183]),\n",
       " array([0.01879316]),\n",
       " array([0.01847647]),\n",
       " array([0.0180795]),\n",
       " array([0.01771739]),\n",
       " array([0.01754845]),\n",
       " array([0.01737337]),\n",
       " array([0.01735826]),\n",
       " array([0.01734983]),\n",
       " array([0.01734735]),\n",
       " array([0.0173468]),\n",
       " array([0.01734637]),\n",
       " array([0.01734562]),\n",
       " array([0.01734426]),\n",
       " array([0.01734176]),\n",
       " array([0.01733716]),\n",
       " array([0.01732883]),\n",
       " array([0.01731408]),\n",
       " array([0.01728906]),\n",
       " array([0.01725374]),\n",
       " array([0.0172382]),\n",
       " array([0.01722233]),\n",
       " array([0.01719922]),\n",
       " array([0.01719163]),\n",
       " array([0.01719128]),\n",
       " array([0.01719114]),\n",
       " array([0.01719092]),\n",
       " array([0.01719053]),\n",
       " array([0.0171898]),\n",
       " array([0.01718844]),\n",
       " array([0.01718594]),\n",
       " array([0.01718141]),\n",
       " array([0.01717355]),\n",
       " array([0.01716132]),\n",
       " array([0.01714797]),\n",
       " array([0.01713514]),\n",
       " array([0.01711555]),\n",
       " array([0.01710219]),\n",
       " array([0.01710096]),\n",
       " array([0.01710076])]"
      ]
     },
     "execution_count": 37,
     "metadata": {},
     "output_type": "execute_result"
    }
   ],
   "source": [
    "T.J"
   ]
  },
  {
   "cell_type": "code",
   "execution_count": 38,
   "metadata": {},
   "outputs": [
    {
     "data": {
      "text/plain": [
       "[array([0.01901937]),\n",
       " array([0.01799675]),\n",
       " array([0.0166268]),\n",
       " array([0.01664708]),\n",
       " array([0.01666668]),\n",
       " array([0.01668648]),\n",
       " array([0.01670892]),\n",
       " array([0.01673655]),\n",
       " array([0.01677213]),\n",
       " array([0.01681877]),\n",
       " array([0.01687939]),\n",
       " array([0.01695438]),\n",
       " array([0.0170361]),\n",
       " array([0.01710749]),\n",
       " array([0.01717252]),\n",
       " array([0.01676267]),\n",
       " array([0.01583536]),\n",
       " array([0.01428463]),\n",
       " array([0.01365884]),\n",
       " array([0.01332927]),\n",
       " array([0.01329504]),\n",
       " array([0.01324579]),\n",
       " array([0.01290325]),\n",
       " array([0.01238536]),\n",
       " array([0.01158724]),\n",
       " array([0.01054712]),\n",
       " array([0.01020596]),\n",
       " array([0.01106184]),\n",
       " array([0.01019384]),\n",
       " array([0.01010673]),\n",
       " array([0.01008244]),\n",
       " array([0.01005663]),\n",
       " array([0.01003452]),\n",
       " array([0.01002079]),\n",
       " array([0.01000714]),\n",
       " array([0.00999132]),\n",
       " array([0.00997024]),\n",
       " array([0.00993948]),\n",
       " array([0.00989205]),\n",
       " array([0.00981717]),\n",
       " array([0.0097013]),\n",
       " array([0.00954799]),\n",
       " array([0.00948617]),\n",
       " array([0.00947653]),\n",
       " array([0.00954779]),\n",
       " array([0.0096865]),\n",
       " array([0.0096811]),\n",
       " array([0.00968326]),\n",
       " array([0.00968832]),\n",
       " array([0.00969448]),\n",
       " array([0.00970224]),\n",
       " array([0.00971275]),\n",
       " array([0.0097279]),\n",
       " array([0.0097508]),\n",
       " array([0.00978695]),\n",
       " array([0.00984634]),\n",
       " array([0.00991677]),\n",
       " array([0.00993074]),\n",
       " array([0.00987759]),\n",
       " array([0.00978931]),\n",
       " array([0.00976691]),\n",
       " array([0.0097825])]"
      ]
     },
     "execution_count": 38,
     "metadata": {},
     "output_type": "execute_result"
    }
   ],
   "source": [
    "T.testJ"
   ]
  },
  {
   "cell_type": "code",
   "execution_count": 39,
   "metadata": {},
   "outputs": [
    {
     "data": {
      "text/plain": [
       "0.00662025723575962"
      ]
     },
     "execution_count": 39,
     "metadata": {},
     "output_type": "execute_result"
    }
   ],
   "source": [
    "from sklearn.metrics import mean_absolute_error\n",
    "mean_absolute_error(T.J, T.testJ)"
   ]
  },
  {
   "cell_type": "code",
   "execution_count": 40,
   "metadata": {},
   "outputs": [],
   "source": [
    "yHat=NN.forward(X)"
   ]
  },
  {
   "cell_type": "code",
   "execution_count": 41,
   "metadata": {},
   "outputs": [
    {
     "data": {
      "text/plain": [
       "array([[0.45775384],\n",
       "       [0.64305073],\n",
       "       [0.56746811],\n",
       "       [0.55974545],\n",
       "       [0.53502893],\n",
       "       [0.63608021],\n",
       "       [0.37800501],\n",
       "       [0.38696457],\n",
       "       [0.49256108],\n",
       "       [0.5873893 ],\n",
       "       [0.70976544],\n",
       "       [0.40447217],\n",
       "       [0.34790538],\n",
       "       [0.58415893],\n",
       "       [0.32780182],\n",
       "       [0.67905966],\n",
       "       [0.63408573],\n",
       "       [0.53807856],\n",
       "       [0.32604247],\n",
       "       [0.57512204],\n",
       "       [0.48762065],\n",
       "       [0.60644988],\n",
       "       [0.50644368],\n",
       "       [0.67192936],\n",
       "       [0.32729159],\n",
       "       [0.43633856],\n",
       "       [0.53645925],\n",
       "       [0.59629964],\n",
       "       [0.6068319 ],\n",
       "       [0.3891158 ],\n",
       "       [0.42407039],\n",
       "       [0.56153058],\n",
       "       [0.47191009],\n",
       "       [0.56154296],\n",
       "       [0.65567365],\n",
       "       [0.50341805],\n",
       "       [0.39227996],\n",
       "       [0.51939347],\n",
       "       [0.48072027],\n",
       "       [0.54100803],\n",
       "       [0.62249282],\n",
       "       [0.43191762],\n",
       "       [0.41452807],\n",
       "       [0.46196582],\n",
       "       [0.63075013],\n",
       "       [0.51138862],\n",
       "       [0.61642259],\n",
       "       [0.43602646],\n",
       "       [0.39578186],\n",
       "       [0.55819328],\n",
       "       [0.60540484],\n",
       "       [0.59174648],\n",
       "       [0.48999548],\n",
       "       [0.45143743],\n",
       "       [0.45746254],\n",
       "       [0.39149866],\n",
       "       [0.58052633],\n",
       "       [0.54099536],\n",
       "       [0.56929928],\n",
       "       [0.53197329]])"
      ]
     },
     "execution_count": 41,
     "metadata": {},
     "output_type": "execute_result"
    }
   ],
   "source": [
    "yHat"
   ]
  },
  {
   "cell_type": "code",
   "execution_count": 42,
   "metadata": {},
   "outputs": [
    {
     "data": {
      "text/plain": [
       "array([[0.43661972],\n",
       "       [0.57042253],\n",
       "       [0.66901409],\n",
       "       [0.6971831 ],\n",
       "       [0.97183099],\n",
       "       [0.5915493 ],\n",
       "       [0.28169014],\n",
       "       [0.26056338],\n",
       "       [0.46478873],\n",
       "       [0.99295775],\n",
       "       [0.67605634],\n",
       "       [0.25352113],\n",
       "       [0.45070423],\n",
       "       [0.        ],\n",
       "       [0.48591549],\n",
       "       [0.78169014],\n",
       "       [0.8028169 ],\n",
       "       [0.3028169 ],\n",
       "       [0.47183099],\n",
       "       [0.41549296],\n",
       "       [0.64788732],\n",
       "       [0.61267606],\n",
       "       [1.        ],\n",
       "       [0.47887324],\n",
       "       [0.3028169 ],\n",
       "       [0.38028169],\n",
       "       [0.5915493 ],\n",
       "       [0.8028169 ],\n",
       "       [0.47183099],\n",
       "       [0.26760563],\n",
       "       [0.4084507 ],\n",
       "       [0.32394366],\n",
       "       [0.45774648],\n",
       "       [0.81690141],\n",
       "       [0.75352113],\n",
       "       [0.43661972],\n",
       "       [0.45774648],\n",
       "       [0.38732394],\n",
       "       [0.46478873],\n",
       "       [0.73239437],\n",
       "       [0.51408451],\n",
       "       [0.28169014],\n",
       "       [0.19014085],\n",
       "       [0.51408451],\n",
       "       [0.50704225],\n",
       "       [0.75352113],\n",
       "       [0.54225352],\n",
       "       [0.26056338],\n",
       "       [0.3943662 ],\n",
       "       [0.62676056],\n",
       "       [0.79577465],\n",
       "       [0.70422535],\n",
       "       [0.53521127],\n",
       "       [0.40140845],\n",
       "       [0.12676056],\n",
       "       [0.33098592],\n",
       "       [0.41549296],\n",
       "       [0.55633803],\n",
       "       [0.5915493 ],\n",
       "       [0.51408451]])"
      ]
     },
     "execution_count": 42,
     "metadata": {},
     "output_type": "execute_result"
    }
   ],
   "source": [
    "y"
   ]
  },
  {
   "cell_type": "code",
   "execution_count": 43,
   "metadata": {},
   "outputs": [
    {
     "data": {
      "text/plain": [
       "0.03234746631109711"
      ]
     },
     "execution_count": 43,
     "metadata": {},
     "output_type": "execute_result"
    }
   ],
   "source": [
    "from sklearn.metrics import mean_squared_error \n",
    "mean_squared_error(y,yHat) "
   ]
  },
  {
   "cell_type": "code",
   "execution_count": 44,
   "metadata": {},
   "outputs": [
    {
     "data": {
      "image/png": "[encoded data removed]",
      "text/plain": [
       "<Figure size 432x288 with 1 Axes>"
      ]
     },
     "metadata": {
      "needs_background": "light"
     },
     "output_type": "display_data"
    }
   ],
   "source": [
    "#Plot cost during training:\n",
    "plot.plot(y)\n",
    "plot.plot(yHat)\n",
    "plot.grid(1)\n",
    "plot.legend(['y', 'yHat'])\n",
    "plot.show()"
   ]
  },
  {
   "cell_type": "code",
   "execution_count": 45,
   "metadata": {},
   "outputs": [],
   "source": [
    "prediksi=NN.forward(dataprediksi)"
   ]
  },
  {
   "cell_type": "code",
   "execution_count": 46,
   "metadata": {},
   "outputs": [
    {
     "data": {
      "text/plain": [
       "array([[0.48496521],\n",
       "       [0.45935693],\n",
       "       [0.5014033 ],\n",
       "       [0.50369927]])"
      ]
     },
     "execution_count": 46,
     "metadata": {},
     "output_type": "execute_result"
    }
   ],
   "source": [
    "prediksi"
   ]
  },
  {
   "cell_type": "code",
   "execution_count": 47,
   "metadata": {},
   "outputs": [],
   "source": [
    "from sklearn.metrics import mean_squared_error "
   ]
  },
  {
   "cell_type": "code",
   "execution_count": 48,
   "metadata": {},
   "outputs": [
    {
     "data": {
      "text/plain": [
       "0.009708802344495268"
      ]
     },
     "execution_count": 48,
     "metadata": {},
     "output_type": "execute_result"
    }
   ],
   "source": [
    "Y_true= ([\t0.387323944\t]\t,\n",
    "[\t0.373239437\t]\t,\n",
    "[\t0.366197183\t]\t,\n",
    "[\t0.443661972\t]\t,\n",
    ")\n",
    "\n",
    "\n",
    "Y_pred=prediksi\n",
    "mean_squared_error(Y_true,Y_pred) "
   ]
  },
  {
   "cell_type": "code",
   "execution_count": 49,
   "metadata": {},
   "outputs": [
    {
     "data": {
      "text/plain": [
       "array([[0.5915493 , 0.51408451],\n",
       "       [0.51408451, 0.38732394],\n",
       "       [0.38732394, 0.37323944],\n",
       "       [0.37323944, 0.36619718]])"
      ]
     },
     "execution_count": 49,
     "metadata": {},
     "output_type": "execute_result"
    }
   ],
   "source": [
    "dataprediksi"
   ]
  },
  {
   "cell_type": "code",
   "execution_count": 50,
   "metadata": {},
   "outputs": [],
   "source": [
    "a=np.array([\t0.366197183\t,\t0.443661972\t])"
   ]
  },
  {
   "cell_type": "code",
   "execution_count": 51,
   "metadata": {},
   "outputs": [
    {
     "data": {
      "text/plain": [
       "array([0.5398722])"
      ]
     },
     "execution_count": 51,
     "metadata": {},
     "output_type": "execute_result"
    }
   ],
   "source": [
    "#prediksi 1\n",
    "prediksi=NN.forward(a)\n",
    "prediksi"
   ]
  },
  {
   "cell_type": "code",
   "execution_count": 52,
   "metadata": {},
   "outputs": [
    {
     "data": {
      "text/plain": [
       "array([0.55201292])"
      ]
     },
     "execution_count": 52,
     "metadata": {},
     "output_type": "execute_result"
    }
   ],
   "source": [
    "#prediksi 2\n",
    "c=prediksi\n",
    "b=a[1:]\n",
    "d=np.concatenate((b,c))\n",
    "prediksi=NN.forward(d)\n",
    "prediksi"
   ]
  },
  {
   "cell_type": "code",
   "execution_count": 53,
   "metadata": {},
   "outputs": [
    {
     "data": {
      "text/plain": [
       "array([0.52111547])"
      ]
     },
     "execution_count": 53,
     "metadata": {},
     "output_type": "execute_result"
    }
   ],
   "source": [
    "#prediksi 3\n",
    "c=prediksi\n",
    "b=d[1:]\n",
    "e=np.concatenate((b,c))\n",
    "prediksi=NN.forward(e)\n",
    "prediksi"
   ]
  },
  {
   "cell_type": "code",
   "execution_count": 54,
   "metadata": {},
   "outputs": [
    {
     "data": {
      "text/plain": [
       "array([0.50308375])"
      ]
     },
     "execution_count": 54,
     "metadata": {},
     "output_type": "execute_result"
    }
   ],
   "source": [
    "#prediksi 4\n",
    "c=prediksi\n",
    "b=e[1:]\n",
    "f=np.concatenate((b,c))\n",
    "prediksi=NN.forward(f)\n",
    "prediksi"
   ]
  },
  {
   "cell_type": "code",
   "execution_count": 55,
   "metadata": {},
   "outputs": [
    {
     "data": {
      "text/plain": [
       "array([0.50699448])"
      ]
     },
     "execution_count": 55,
     "metadata": {},
     "output_type": "execute_result"
    }
   ],
   "source": [
    "#prediksi 5\n",
    "c=prediksi\n",
    "b=f[1:]\n",
    "g=np.concatenate((b,c))\n",
    "prediksi=NN.forward(g)\n",
    "prediksi"
   ]
  },
  {
   "cell_type": "code",
   "execution_count": 56,
   "metadata": {},
   "outputs": [
    {
     "data": {
      "text/plain": [
       "array([0.51554542])"
      ]
     },
     "execution_count": 56,
     "metadata": {},
     "output_type": "execute_result"
    }
   ],
   "source": [
    "#prediksi 6\n",
    "c=prediksi\n",
    "b=g[1:]\n",
    "h=np.concatenate((b,c))\n",
    "prediksi=NN.forward(h)\n",
    "prediksi"
   ]
  },
  {
   "cell_type": "code",
   "execution_count": null,
   "metadata": {},
   "outputs": [],
   "source": []
  }
 ],
 "metadata": {
  "kernelspec": {
   "display_name": "Python 3",
   "language": "python",
   "name": "python3"
  },
  "language_info": {
   "codemirror_mode": {
    "name": "ipython",
    "version": 3
   },
   "file_extension": ".py",
   "mimetype": "text/x-python",
   "name": "python",
   "nbconvert_exporter": "python",
   "pygments_lexer": "ipython3",
   "version": "3.7.3"
  }
 },
 "nbformat": 4,
 "nbformat_minor": 2
}
