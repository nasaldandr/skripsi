{
 "cells": [
  {
   "cell_type": "code",
   "execution_count": 1,
   "metadata": {},
   "outputs": [],
   "source": [
    "import numpy as np"
   ]
  },
  {
   "cell_type": "code",
   "execution_count": 2,
   "metadata": {},
   "outputs": [],
   "source": [
    "#UNTUK NILAI IMPOR\n",
    "class Neural_Network(object):\n",
    "    def __init__(self):\n",
    "        #parameters\n",
    "        self.inputLayerSize = 5\n",
    "        self.outputLayerSize = 1\n",
    "        self.hiddenLayerSize = 8\n",
    "\n",
    "        #weights\n",
    "        self.W1 = np.random.randn(self.inputLayerSize,\\\n",
    "                                 self.hiddenLayerSize)  \n",
    "        self.W2 = np.random.randn(self.hiddenLayerSize,\\\n",
    "                                 self.outputLayerSize)  \n",
    "    \n",
    "    def printw(self):\n",
    "        return self.W1\n",
    "        \n",
    "    def weight(self, W1, W2):\n",
    "        #Make an internal variable for the weight:\n",
    "        self.W1 = W1\n",
    "        self.W2 = W2\n",
    "        \n",
    "    def forward(self, X):\n",
    "        #forward propagation through our network\n",
    "        self.z2 = np.dot(X,self.W1)  \n",
    "        self.a2 = self.tanh(self.z2)  # activation function\n",
    "        self.z3 = np.dot(self.a2, self.W2) \n",
    "        yHat = self.tanh(self.z3)  # final activation function\n",
    "        return yHat\n",
    "\n",
    "    def tanh(self, z):\n",
    "        # activation function\n",
    "        return (np.exp(z)-np.exp(-z))/(np.exp(z)+np.exp(-z))\n",
    "    \n",
    "    def tanhPrime(self,z): \n",
    "        #derivative of tanh\n",
    "        return 1-((np.exp(z)-np.exp(-z))/(np.exp(z)+np.exp(-z)))**2\n",
    "    \n",
    "    def costFunction(self,X,y):\n",
    "        self.yHat = self.forward(X)\n",
    "        J=0.5*sum((y-self.yHat)**2)\n",
    "        return J\n",
    "    \n",
    "    def costFunctionPrime(self,X,y):\n",
    "        self.yHat=self.forward(X)\n",
    "        \n",
    "        delta3=np.multiply(-(y-self.yHat),self.tanhPrime(self.z3))\n",
    "        dJdW2=np.dot(self.a2.T,delta3)\n",
    "        \n",
    "        delta2=np.dot(delta3,self.W2.T)*self.tanhPrime(self.z2)\n",
    "        dJdW1=np.dot(X.T,delta2)\n",
    "        return dJdW1,dJdW2\n",
    "    \n",
    "    def predict(self):\n",
    "        prediksi = self.forward(dataprediksi)\n",
    "        return prediksi\n",
    "    \n",
    "    def getParams(self):\n",
    "        params=np.concatenate((self.W1.ravel(),self.W2.ravel()))\n",
    "        return params\n",
    "    \n",
    "    def setParams(self,params):\n",
    "        W1_start=0\n",
    "        W1_end=self.hiddenLayerSize*self.inputLayerSize\n",
    "        self.W1=np.reshape(params[W1_start:W1_end],\\\n",
    "                          (self.inputLayerSize,self.hiddenLayerSize))\n",
    "        W2_end=W1_end+self.hiddenLayerSize*self.outputLayerSize\n",
    "        self.W2=np.reshape(params[W1_end:W2_end],\\\n",
    "                          (self.hiddenLayerSize,self.outputLayerSize))\n",
    "        \n",
    "    def computeGradients(self, X, y):\n",
    "        dJdW1, dJdW2 = self.costFunctionPrime(X, y)\n",
    "        return np.concatenate((dJdW1.ravel(), dJdW2.ravel()))"
   ]
  },
  {
   "cell_type": "code",
   "execution_count": 3,
   "metadata": {},
   "outputs": [],
   "source": [
    "NN = Neural_Network()"
   ]
  },
  {
   "cell_type": "code",
   "execution_count": 4,
   "metadata": {},
   "outputs": [
    {
     "data": {
      "text/plain": [
       "array([[-0.67345161,  0.23912847, -1.95738286,  0.78798576, -0.81804511,\n",
       "         0.17248482, -0.80099598,  1.00818092],\n",
       "       [ 0.24008648, -0.15920058,  1.10704155,  1.43533169, -0.31925034,\n",
       "         0.04239635,  1.1829591 , -0.2957892 ],\n",
       "       [-0.26362563,  0.89928161,  0.02509872, -0.96466927,  1.15209284,\n",
       "        -1.02186059,  0.56524964,  1.34863968],\n",
       "       [ 0.72904568,  0.29038178, -0.42278036, -1.26182066, -0.17850053,\n",
       "        -0.65625626,  1.35165658, -2.19067814],\n",
       "       [ 0.41481766,  0.32297146,  0.77264952,  1.83577358,  1.65186467,\n",
       "         1.87923372, -0.89211014, -0.53680597]])"
      ]
     },
     "execution_count": 4,
     "metadata": {},
     "output_type": "execute_result"
    }
   ],
   "source": [
    "NN.W1"
   ]
  },
  {
   "cell_type": "code",
   "execution_count": 5,
   "metadata": {},
   "outputs": [
    {
     "data": {
      "text/plain": [
       "array([[ 0.88127918],\n",
       "       [-0.86380677],\n",
       "       [-0.45837561],\n",
       "       [ 0.48831652],\n",
       "       [-2.20197196],\n",
       "       [-0.33627471],\n",
       "       [-0.79587644],\n",
       "       [ 0.96346531]])"
      ]
     },
     "execution_count": 5,
     "metadata": {},
     "output_type": "execute_result"
    }
   ],
   "source": [
    "NN.W2"
   ]
  },
  {
   "cell_type": "code",
   "execution_count": 6,
   "metadata": {},
   "outputs": [],
   "source": [
    "#NILAI IMPOR\n",
    "X=np.array(([\t0.147887324\t,\t0.063380282\t,\t0.436619718\t,\t0.570422535\t,\t0.669014085\t]\t,\n",
    "[\t0.063380282\t,\t0.436619718\t,\t0.570422535\t,\t0.669014085\t,\t0.697183099\t]\t,\n",
    "[\t0.436619718\t,\t0.570422535\t,\t0.669014085\t,\t0.697183099\t,\t0.971830986\t]\t,\n",
    "[\t0.570422535\t,\t0.669014085\t,\t0.697183099\t,\t0.971830986\t,\t0.591549296\t]\t,\n",
    "[\t0.669014085\t,\t0.697183099\t,\t0.971830986\t,\t0.591549296\t,\t0.281690141\t]\t,\n",
    "[\t0.697183099\t,\t0.971830986\t,\t0.591549296\t,\t0.281690141\t,\t0.26056338\t]\t,\n",
    "[\t0.971830986\t,\t0.591549296\t,\t0.281690141\t,\t0.26056338\t,\t0.464788732\t]\t,\n",
    "[\t0.591549296\t,\t0.281690141\t,\t0.26056338\t,\t0.464788732\t,\t0.992957746\t]\t,\n",
    "[\t0.281690141\t,\t0.26056338\t,\t0.464788732\t,\t0.992957746\t,\t0.676056338\t]\t,\n",
    "[\t0.26056338\t,\t0.464788732\t,\t0.992957746\t,\t0.676056338\t,\t0.253521127\t]\t,\n",
    "[\t0.464788732\t,\t0.992957746\t,\t0.676056338\t,\t0.253521127\t,\t0.450704225\t]\t,\n",
    "[\t0.992957746\t,\t0.676056338\t,\t0.253521127\t,\t0.450704225\t,\t0\t]\t,\n",
    "[\t0.676056338\t,\t0.253521127\t,\t0.450704225\t,\t0\t,\t0.485915493\t]\t,\n",
    "[\t0.253521127\t,\t0.450704225\t,\t0\t,\t0.485915493\t,\t0.781690141\t]\t,\n",
    "[\t0.450704225\t,\t0\t,\t0.485915493\t,\t0.781690141\t,\t0.802816901\t]\t,\n",
    "[\t0\t,\t0.485915493\t,\t0.781690141\t,\t0.802816901\t,\t0.302816901\t]\t,\n",
    "[\t0.485915493\t,\t0.781690141\t,\t0.802816901\t,\t0.302816901\t,\t0.471830986\t]\t,\n",
    "[\t0.781690141\t,\t0.802816901\t,\t0.302816901\t,\t0.471830986\t,\t0.415492958\t]\t,\n",
    "[\t0.802816901\t,\t0.302816901\t,\t0.471830986\t,\t0.415492958\t,\t0.647887324\t]\t,\n",
    "[\t0.302816901\t,\t0.471830986\t,\t0.415492958\t,\t0.647887324\t,\t0.612676056\t]\t,\n",
    "[\t0.471830986\t,\t0.415492958\t,\t0.647887324\t,\t0.612676056\t,\t1\t]\t,\n",
    "[\t0.415492958\t,\t0.647887324\t,\t0.612676056\t,\t1\t,\t0.478873239\t]\t,\n",
    "[\t0.647887324\t,\t0.612676056\t,\t1\t,\t0.478873239\t,\t0.302816901\t]\t,\n",
    "[\t0.612676056\t,\t1\t,\t0.478873239\t,\t0.302816901\t,\t0.38028169\t]\t,\n",
    "[\t1\t,\t0.478873239\t,\t0.302816901\t,\t0.38028169\t,\t0.591549296\t]\t,\n",
    "[\t0.478873239\t,\t0.302816901\t,\t0.38028169\t,\t0.591549296\t,\t0.802816901\t]\t,\n",
    "[\t0.302816901\t,\t0.38028169\t,\t0.591549296\t,\t0.802816901\t,\t0.471830986\t]\t,\n",
    "[\t0.38028169\t,\t0.591549296\t,\t0.802816901\t,\t0.471830986\t,\t0.267605634\t]\t,\n",
    "[\t0.591549296\t,\t0.802816901\t,\t0.471830986\t,\t0.267605634\t,\t0.408450704\t]\t,\n",
    "[\t0.802816901\t,\t0.471830986\t,\t0.267605634\t,\t0.408450704\t,\t0.323943662\t]\t,\n",
    "[\t0.471830986\t,\t0.267605634\t,\t0.408450704\t,\t0.323943662\t,\t0.457746479\t]\t,\n",
    "[\t0.267605634\t,\t0.408450704\t,\t0.323943662\t,\t0.457746479\t,\t0.816901408\t]\t,\n",
    "[\t0.408450704\t,\t0.323943662\t,\t0.457746479\t,\t0.816901408\t,\t0.753521127\t]\t,\n",
    "[\t0.323943662\t,\t0.457746479\t,\t0.816901408\t,\t0.753521127\t,\t0.436619718\t]\t,\n",
    "[\t0.457746479\t,\t0.816901408\t,\t0.753521127\t,\t0.436619718\t,\t0.457746479\t]\t,\n",
    "[\t0.816901408\t,\t0.753521127\t,\t0.436619718\t,\t0.457746479\t,\t0.387323944\t]\t,\n",
    "[\t0.753521127\t,\t0.436619718\t,\t0.457746479\t,\t0.387323944\t,\t0.464788732\t]\t,\n",
    "[\t0.436619718\t,\t0.457746479\t,\t0.387323944\t,\t0.464788732\t,\t0.732394366\t]\t,\n",
    "[\t0.457746479\t,\t0.387323944\t,\t0.464788732\t,\t0.732394366\t,\t0.514084507\t]\t,\n",
    "[\t0.387323944\t,\t0.464788732\t,\t0.732394366\t,\t0.514084507\t,\t0.281690141\t]\t,\n",
    "[\t0.464788732\t,\t0.732394366\t,\t0.514084507\t,\t0.281690141\t,\t0.190140845\t]\t,\n",
    "[\t0.732394366\t,\t0.514084507\t,\t0.281690141\t,\t0.190140845\t,\t0.514084507\t]\t,\n",
    "[\t0.514084507\t,\t0.281690141\t,\t0.190140845\t,\t0.514084507\t,\t0.507042254\t]\t,\n",
    "[\t0.281690141\t,\t0.190140845\t,\t0.514084507\t,\t0.507042254\t,\t0.753521127\t]\t,\n",
    "[\t0.190140845\t,\t0.514084507\t,\t0.507042254\t,\t0.753521127\t,\t0.542253521\t]\t,\n",
    "[\t0.514084507\t,\t0.507042254\t,\t0.753521127\t,\t0.542253521\t,\t0.26056338\t]\t,\n",
    "[\t0.507042254\t,\t0.753521127\t,\t0.542253521\t,\t0.26056338\t,\t0.394366197\t]\t,\n",
    "[\t0.753521127\t,\t0.542253521\t,\t0.26056338\t,\t0.394366197\t,\t0.626760563\t]\t,\n",
    "[\t0.542253521\t,\t0.26056338\t,\t0.394366197\t,\t0.626760563\t,\t0.795774648\t]\t,\n",
    "[\t0.26056338\t,\t0.394366197\t,\t0.626760563\t,\t0.795774648\t,\t0.704225352\t]\t,\n",
    "[\t0.394366197\t,\t0.626760563\t,\t0.795774648\t,\t0.704225352\t,\t0.535211268\t]\t,\n",
    "[\t0.626760563\t,\t0.795774648\t,\t0.704225352\t,\t0.535211268\t,\t0.401408451\t]\t,\n",
    "[\t0.795774648\t,\t0.704225352\t,\t0.535211268\t,\t0.401408451\t,\t0.126760563\t]\t,\n",
    "[\t0.704225352\t,\t0.535211268\t,\t0.401408451\t,\t0.126760563\t,\t0.330985915\t]\t,\n",
    "[\t0.535211268\t,\t0.401408451\t,\t0.126760563\t,\t0.330985915\t,\t0.415492958\t]\t,\n",
    "[\t0.401408451\t,\t0.126760563\t,\t0.330985915\t,\t0.415492958\t,\t0.556338028\t]\t,\n",
    "[\t0.126760563\t,\t0.330985915\t,\t0.415492958\t,\t0.556338028\t,\t0.591549296\t]\t,\n",
    "\n",
    ")           \n",
    ",dtype=float)\n",
    "y=np.array(([\t0.697183099\t]\t,\n",
    "[\t0.971830986\t]\t,\n",
    "[\t0.591549296\t]\t,\n",
    "[\t0.281690141\t]\t,\n",
    "[\t0.26056338\t]\t,\n",
    "[\t0.464788732\t]\t,\n",
    "[\t0.992957746\t]\t,\n",
    "[\t0.676056338\t]\t,\n",
    "[\t0.253521127\t]\t,\n",
    "[\t0.450704225\t]\t,\n",
    "[\t0\t]\t,\n",
    "[\t0.485915493\t]\t,\n",
    "[\t0.781690141\t]\t,\n",
    "[\t0.802816901\t]\t,\n",
    "[\t0.302816901\t]\t,\n",
    "[\t0.471830986\t]\t,\n",
    "[\t0.415492958\t]\t,\n",
    "[\t0.647887324\t]\t,\n",
    "[\t0.612676056\t]\t,\n",
    "[\t1\t]\t,\n",
    "[\t0.478873239\t]\t,\n",
    "[\t0.302816901\t]\t,\n",
    "[\t0.38028169\t]\t,\n",
    "[\t0.591549296\t]\t,\n",
    "[\t0.802816901\t]\t,\n",
    "[\t0.471830986\t]\t,\n",
    "[\t0.267605634\t]\t,\n",
    "[\t0.408450704\t]\t,\n",
    "[\t0.323943662\t]\t,\n",
    "[\t0.457746479\t]\t,\n",
    "[\t0.816901408\t]\t,\n",
    "[\t0.753521127\t]\t,\n",
    "[\t0.436619718\t]\t,\n",
    "[\t0.457746479\t]\t,\n",
    "[\t0.387323944\t]\t,\n",
    "[\t0.464788732\t]\t,\n",
    "[\t0.732394366\t]\t,\n",
    "[\t0.514084507\t]\t,\n",
    "[\t0.281690141\t]\t,\n",
    "[\t0.190140845\t]\t,\n",
    "[\t0.514084507\t]\t,\n",
    "[\t0.507042254\t]\t,\n",
    "[\t0.753521127\t]\t,\n",
    "[\t0.542253521\t]\t,\n",
    "[\t0.26056338\t]\t,\n",
    "[\t0.394366197\t]\t,\n",
    "[\t0.626760563\t]\t,\n",
    "[\t0.795774648\t]\t,\n",
    "[\t0.704225352\t]\t,\n",
    "[\t0.535211268\t]\t,\n",
    "[\t0.401408451\t]\t,\n",
    "[\t0.126760563\t]\t,\n",
    "[\t0.330985915\t]\t,\n",
    "[\t0.415492958\t]\t,\n",
    "[\t0.556338028\t]\t,\n",
    "[\t0.591549296\t]\t,\n",
    "[\t0.514084507\t]\t,\n",
    "\n",
    ")\n",
    ",dtype=float)\n",
    "\n",
    "dataprediksi = np.array(([\t0.330985915\t,\t0.415492958\t,\t0.556338028\t,\t0.591549296\t,\t0.514084507\t]\t,\n",
    "[\t0.415492958\t,\t0.556338028\t,\t0.591549296\t,\t0.514084507\t,\t0.387323944\t]\t,\n",
    "[\t0.556338028\t,\t0.591549296\t,\t0.514084507\t,\t0.387323944\t,\t0.373239437\t]\t,\n",
    "[\t0.591549296\t,\t0.514084507\t,\t0.387323944\t,\t0.373239437\t,\t0.366197183\t]\t,\n",
    "\n",
    "\n",
    "), dtype=float)\n"
   ]
  },
  {
   "cell_type": "code",
   "execution_count": 7,
   "metadata": {},
   "outputs": [],
   "source": [
    "import matplotlib.pyplot as plot"
   ]
  },
  {
   "cell_type": "code",
   "execution_count": 8,
   "metadata": {},
   "outputs": [],
   "source": [
    "from scipy import optimize"
   ]
  },
  {
   "cell_type": "code",
   "execution_count": 9,
   "metadata": {},
   "outputs": [],
   "source": [
    "class trainer(object):\n",
    "    def __init__(self, N):\n",
    "        #Make Local reference to network:\n",
    "        self.N = N\n",
    "        \n",
    "    def callbackF(self, params):\n",
    "        self.N.setParams(params)\n",
    "        self.J.append(self.N.costFunction(self.X, self.y))   \n",
    "        \n",
    "    def costFunctionWrapper(self, params, X, y):\n",
    "        self.N.setParams(params)\n",
    "        cost = self.N.costFunction(X, y)\n",
    "        grad = self.N.computeGradients(X,y)\n",
    "        \n",
    "        return cost, grad\n",
    "        \n",
    "    def train(self, X, y):\n",
    "        #Make an internal variable for the callback function:\n",
    "        self.X = X\n",
    "        self.y = y\n",
    "\n",
    "        #Make empty list to store costs:\n",
    "        self.J = []\n",
    "        \n",
    "        params0 = self.N.getParams()\n",
    "\n",
    "        options = {'maxiter': 100, 'disp' : True}\n",
    "        _res = optimize.minimize(self.costFunctionWrapper, params0, jac=True, method='BFGS', \\\n",
    "                                 args=(X, y), options=options, callback=self.callbackF)\n",
    "\n",
    "        self.N.setParams(_res.x)\n",
    "        self.optimizationResults = _res"
   ]
  },
  {
   "cell_type": "code",
   "execution_count": 10,
   "metadata": {},
   "outputs": [],
   "source": [
    "NN=Neural_Network()"
   ]
  },
  {
   "cell_type": "code",
   "execution_count": 11,
   "metadata": {},
   "outputs": [],
   "source": [
    "T = trainer(NN)"
   ]
  },
  {
   "cell_type": "code",
   "execution_count": 12,
   "metadata": {},
   "outputs": [
    {
     "name": "stdout",
     "output_type": "stream",
     "text": [
      "Warning: Maximum number of iterations has been exceeded.\n",
      "         Current function value: 0.331554\n",
      "         Iterations: 100\n",
      "         Function evaluations: 126\n",
      "         Gradient evaluations: 126\n"
     ]
    }
   ],
   "source": [
    "#Train network with new data:\n",
    "T = trainer(NN)\n",
    "T.train(X,y)"
   ]
  },
  {
   "cell_type": "code",
   "execution_count": 13,
   "metadata": {},
   "outputs": [
    {
     "data": {
      "image/png": "[encoded data removed]",
      "text/plain": [
       "<Figure size 432x288 with 1 Axes>"
      ]
     },
     "metadata": {
      "needs_background": "light"
     },
     "output_type": "display_data"
    }
   ],
   "source": [
    "#Plot cost during training:\n",
    "plot.plot(T.J)\n",
    "plot.grid(1)\n",
    "plot.xlabel('Iterations')\n",
    "plot.ylabel('Cost')\n",
    "plot.show()"
   ]
  },
  {
   "cell_type": "code",
   "execution_count": 14,
   "metadata": {},
   "outputs": [],
   "source": [
    "#Training Data:\n",
    "trainX = np.array(([\t0.147887324\t,\t0.063380282\t,\t0.436619718\t,\t0.570422535\t,\t0.669014085\t]\t,\n",
    "[\t0.063380282\t,\t0.436619718\t,\t0.570422535\t,\t0.669014085\t,\t0.697183099\t]\t,\n",
    "[\t0.436619718\t,\t0.570422535\t,\t0.669014085\t,\t0.697183099\t,\t0.971830986\t]\t,\n",
    "[\t0.570422535\t,\t0.669014085\t,\t0.697183099\t,\t0.971830986\t,\t0.591549296\t]\t,\n",
    "[\t0.669014085\t,\t0.697183099\t,\t0.971830986\t,\t0.591549296\t,\t0.281690141\t]\t,\n",
    "[\t0.697183099\t,\t0.971830986\t,\t0.591549296\t,\t0.281690141\t,\t0.26056338\t]\t,\n",
    "[\t0.971830986\t,\t0.591549296\t,\t0.281690141\t,\t0.26056338\t,\t0.464788732\t]\t,\n",
    "[\t0.591549296\t,\t0.281690141\t,\t0.26056338\t,\t0.464788732\t,\t0.992957746\t]\t,\n",
    "[\t0.281690141\t,\t0.26056338\t,\t0.464788732\t,\t0.992957746\t,\t0.676056338\t]\t,\n",
    "[\t0.26056338\t,\t0.464788732\t,\t0.992957746\t,\t0.676056338\t,\t0.253521127\t]\t,\n",
    "[\t0.464788732\t,\t0.992957746\t,\t0.676056338\t,\t0.253521127\t,\t0.450704225\t]\t,\n",
    "[\t0.992957746\t,\t0.676056338\t,\t0.253521127\t,\t0.450704225\t,\t0\t]\t,\n",
    "[\t0.676056338\t,\t0.253521127\t,\t0.450704225\t,\t0\t,\t0.485915493\t]\t,\n",
    "[\t0.253521127\t,\t0.450704225\t,\t0\t,\t0.485915493\t,\t0.781690141\t]\t,\n",
    "[\t0.450704225\t,\t0\t,\t0.485915493\t,\t0.781690141\t,\t0.802816901\t]\t,\n",
    "[\t0\t,\t0.485915493\t,\t0.781690141\t,\t0.802816901\t,\t0.302816901\t]\t,\n",
    "[\t0.485915493\t,\t0.781690141\t,\t0.802816901\t,\t0.302816901\t,\t0.471830986\t]\t,\n",
    "[\t0.781690141\t,\t0.802816901\t,\t0.302816901\t,\t0.471830986\t,\t0.415492958\t]\t,\n",
    "[\t0.802816901\t,\t0.302816901\t,\t0.471830986\t,\t0.415492958\t,\t0.647887324\t]\t,\n",
    "[\t0.302816901\t,\t0.471830986\t,\t0.415492958\t,\t0.647887324\t,\t0.612676056\t]\t,\n",
    "[\t0.471830986\t,\t0.415492958\t,\t0.647887324\t,\t0.612676056\t,\t1\t]\t,\n",
    "[\t0.415492958\t,\t0.647887324\t,\t0.612676056\t,\t1\t,\t0.478873239\t]\t,\n",
    "[\t0.647887324\t,\t0.612676056\t,\t1\t,\t0.478873239\t,\t0.302816901\t]\t,\n",
    "[\t0.612676056\t,\t1\t,\t0.478873239\t,\t0.302816901\t,\t0.38028169\t]\t,\n",
    "[\t1\t,\t0.478873239\t,\t0.302816901\t,\t0.38028169\t,\t0.591549296\t]\t,\n",
    "[\t0.478873239\t,\t0.302816901\t,\t0.38028169\t,\t0.591549296\t,\t0.802816901\t]\t,\n",
    "[\t0.302816901\t,\t0.38028169\t,\t0.591549296\t,\t0.802816901\t,\t0.471830986\t]\t,\n",
    "[\t0.38028169\t,\t0.591549296\t,\t0.802816901\t,\t0.471830986\t,\t0.267605634\t]\t,\n",
    "[\t0.591549296\t,\t0.802816901\t,\t0.471830986\t,\t0.267605634\t,\t0.408450704\t]\t,\n",
    "[\t0.802816901\t,\t0.471830986\t,\t0.267605634\t,\t0.408450704\t,\t0.323943662\t]\t,\n",
    "[\t0.471830986\t,\t0.267605634\t,\t0.408450704\t,\t0.323943662\t,\t0.457746479\t]\t,\n",
    "[\t0.267605634\t,\t0.408450704\t,\t0.323943662\t,\t0.457746479\t,\t0.816901408\t]\t,\n",
    "[\t0.408450704\t,\t0.323943662\t,\t0.457746479\t,\t0.816901408\t,\t0.753521127\t]\t,\n",
    "[\t0.323943662\t,\t0.457746479\t,\t0.816901408\t,\t0.753521127\t,\t0.436619718\t]\t,\n",
    "[\t0.457746479\t,\t0.816901408\t,\t0.753521127\t,\t0.436619718\t,\t0.457746479\t]\t,\n",
    "[\t0.816901408\t,\t0.753521127\t,\t0.436619718\t,\t0.457746479\t,\t0.387323944\t]\t,\n",
    "[\t0.753521127\t,\t0.436619718\t,\t0.457746479\t,\t0.387323944\t,\t0.464788732\t]\t,\n",
    "[\t0.436619718\t,\t0.457746479\t,\t0.387323944\t,\t0.464788732\t,\t0.732394366\t]\t,\n",
    "[\t0.457746479\t,\t0.387323944\t,\t0.464788732\t,\t0.732394366\t,\t0.514084507\t]\t,\n",
    "[\t0.387323944\t,\t0.464788732\t,\t0.732394366\t,\t0.514084507\t,\t0.281690141\t]\t,\n",
    "[\t0.464788732\t,\t0.732394366\t,\t0.514084507\t,\t0.281690141\t,\t0.190140845\t]\t,\n",
    "[\t0.732394366\t,\t0.514084507\t,\t0.281690141\t,\t0.190140845\t,\t0.514084507\t]\t,\n",
    "[\t0.514084507\t,\t0.281690141\t,\t0.190140845\t,\t0.514084507\t,\t0.507042254\t]\t,\n",
    "[\t0.281690141\t,\t0.190140845\t,\t0.514084507\t,\t0.507042254\t,\t0.753521127\t]\t,\n",
    "[\t0.190140845\t,\t0.514084507\t,\t0.507042254\t,\t0.753521127\t,\t0.542253521\t]\t,\n",
    "\n",
    ")\n",
    ", dtype=float)\n",
    "trainY = np.array(([\t0.697183099\t]\t,\n",
    "[\t0.971830986\t]\t,\n",
    "[\t0.591549296\t]\t,\n",
    "[\t0.281690141\t]\t,\n",
    "[\t0.26056338\t]\t,\n",
    "[\t0.464788732\t]\t,\n",
    "[\t0.992957746\t]\t,\n",
    "[\t0.676056338\t]\t,\n",
    "[\t0.253521127\t]\t,\n",
    "[\t0.450704225\t]\t,\n",
    "[\t0\t]\t,\n",
    "[\t0.485915493\t]\t,\n",
    "[\t0.781690141\t]\t,\n",
    "[\t0.802816901\t]\t,\n",
    "[\t0.302816901\t]\t,\n",
    "[\t0.471830986\t]\t,\n",
    "[\t0.415492958\t]\t,\n",
    "[\t0.647887324\t]\t,\n",
    "[\t0.612676056\t]\t,\n",
    "[\t1\t]\t,\n",
    "[\t0.478873239\t]\t,\n",
    "[\t0.302816901\t]\t,\n",
    "[\t0.38028169\t]\t,\n",
    "[\t0.591549296\t]\t,\n",
    "[\t0.802816901\t]\t,\n",
    "[\t0.471830986\t]\t,\n",
    "[\t0.267605634\t]\t,\n",
    "[\t0.408450704\t]\t,\n",
    "[\t0.323943662\t]\t,\n",
    "[\t0.457746479\t]\t,\n",
    "[\t0.816901408\t]\t,\n",
    "[\t0.753521127\t]\t,\n",
    "[\t0.436619718\t]\t,\n",
    "[\t0.457746479\t]\t,\n",
    "[\t0.387323944\t]\t,\n",
    "[\t0.464788732\t]\t,\n",
    "[\t0.732394366\t]\t,\n",
    "[\t0.514084507\t]\t,\n",
    "[\t0.281690141\t]\t,\n",
    "[\t0.190140845\t]\t,\n",
    "[\t0.514084507\t]\t,\n",
    "[\t0.507042254\t]\t,\n",
    "[\t0.753521127\t]\t,\n",
    "[\t0.542253521\t]\t,\n",
    "[\t0.26056338\t]\t,\n",
    "\n",
    ")\n",
    ", dtype=float)\n",
    "\n",
    "#Testing Data:\n",
    "testX = np.array(([\t0.514084507\t,\t0.507042254\t,\t0.753521127\t,\t0.542253521\t,\t0.26056338\t]\t,\n",
    "[\t0.507042254\t,\t0.753521127\t,\t0.542253521\t,\t0.26056338\t,\t0.394366197\t]\t,\n",
    "[\t0.753521127\t,\t0.542253521\t,\t0.26056338\t,\t0.394366197\t,\t0.626760563\t]\t,\n",
    "[\t0.542253521\t,\t0.26056338\t,\t0.394366197\t,\t0.626760563\t,\t0.795774648\t]\t,\n",
    "[\t0.26056338\t,\t0.394366197\t,\t0.626760563\t,\t0.795774648\t,\t0.704225352\t]\t,\n",
    "[\t0.394366197\t,\t0.626760563\t,\t0.795774648\t,\t0.704225352\t,\t0.535211268\t]\t,\n",
    "[\t0.626760563\t,\t0.795774648\t,\t0.704225352\t,\t0.535211268\t,\t0.401408451\t]\t,\n",
    "[\t0.795774648\t,\t0.704225352\t,\t0.535211268\t,\t0.401408451\t,\t0.126760563\t]\t,\n",
    "[\t0.704225352\t,\t0.535211268\t,\t0.401408451\t,\t0.126760563\t,\t0.330985915\t]\t,\n",
    "[\t0.535211268\t,\t0.401408451\t,\t0.126760563\t,\t0.330985915\t,\t0.415492958\t]\t,\n",
    "[\t0.401408451\t,\t0.126760563\t,\t0.330985915\t,\t0.415492958\t,\t0.556338028\t]\t,\n",
    "[\t0.126760563\t,\t0.330985915\t,\t0.415492958\t,\t0.556338028\t,\t0.591549296\t]\t,\n",
    "\n",
    ")\n",
    ", dtype=float)\n",
    "testY = np.array(([\t0.394366197\t]\t,\n",
    "[\t0.626760563\t]\t,\n",
    "[\t0.795774648\t]\t,\n",
    "[\t0.704225352\t]\t,\n",
    "[\t0.535211268\t]\t,\n",
    "[\t0.401408451\t]\t,\n",
    "[\t0.126760563\t]\t,\n",
    "[\t0.330985915\t]\t,\n",
    "[\t0.415492958\t]\t,\n",
    "[\t0.556338028\t]\t,\n",
    "[\t0.591549296\t]\t,\n",
    "[\t0.514084507\t]\t,\n",
    "\n",
    ")\n",
    ", dtype=float)\n",
    "\n",
    "\n",
    "dataprediksi = np.array(([\t0.330985915\t,\t0.415492958\t,\t0.556338028\t,\t0.591549296\t,\t0.514084507\t]\t,\n",
    "[\t0.415492958\t,\t0.556338028\t,\t0.591549296\t,\t0.514084507\t,\t0.387323944\t]\t,\n",
    "[\t0.556338028\t,\t0.591549296\t,\t0.514084507\t,\t0.387323944\t,\t0.373239437\t]\t,\n",
    "[\t0.591549296\t,\t0.514084507\t,\t0.387323944\t,\t0.373239437\t,\t0.366197183\t]\t,\n",
    "\n",
    "\n",
    "), dtype=float)"
   ]
  },
  {
   "cell_type": "code",
   "execution_count": 15,
   "metadata": {},
   "outputs": [
    {
     "data": {
      "text/plain": [
       "array([[0.51408451, 0.50704225, 0.75352113, 0.54225352, 0.26056338],\n",
       "       [0.50704225, 0.75352113, 0.54225352, 0.26056338, 0.3943662 ],\n",
       "       [0.75352113, 0.54225352, 0.26056338, 0.3943662 , 0.62676056],\n",
       "       [0.54225352, 0.26056338, 0.3943662 , 0.62676056, 0.79577465],\n",
       "       [0.26056338, 0.3943662 , 0.62676056, 0.79577465, 0.70422535],\n",
       "       [0.3943662 , 0.62676056, 0.79577465, 0.70422535, 0.53521127],\n",
       "       [0.62676056, 0.79577465, 0.70422535, 0.53521127, 0.40140845],\n",
       "       [0.79577465, 0.70422535, 0.53521127, 0.40140845, 0.12676056],\n",
       "       [0.70422535, 0.53521127, 0.40140845, 0.12676056, 0.33098592],\n",
       "       [0.53521127, 0.40140845, 0.12676056, 0.33098592, 0.41549296],\n",
       "       [0.40140845, 0.12676056, 0.33098592, 0.41549296, 0.55633803],\n",
       "       [0.12676056, 0.33098592, 0.41549296, 0.55633803, 0.5915493 ]])"
      ]
     },
     "execution_count": 15,
     "metadata": {},
     "output_type": "execute_result"
    }
   ],
   "source": [
    "testX"
   ]
  },
  {
   "cell_type": "code",
   "execution_count": 16,
   "metadata": {},
   "outputs": [],
   "source": [
    "##Need to modify trainer class a bit to check testing error during training:\n",
    "class trainer(object):\n",
    "    def __init__(self, N):\n",
    "        #Make Local reference to network:\n",
    "        self.N = N\n",
    "        \n",
    "    def callbackF(self, params):\n",
    "        self.N.setParams(params)\n",
    "        self.J.append(self.N.costFunction(self.X, self.y))\n",
    "        self.testJ.append(self.N.costFunction(self.testX, self.testY))\n",
    "        \n",
    "    def costFunctionWrapper(self, params, X, y):\n",
    "        self.N.setParams(params)\n",
    "        cost = self.N.costFunction(X, y)\n",
    "        grad = self.N.computeGradients(X,y)\n",
    "        \n",
    "        return cost, grad\n",
    "        \n",
    "    def train(self, trainX, trainY, testX, testY):\n",
    "        #Make an internal variable for the callback function:\n",
    "        self.X = trainX\n",
    "        self.y = trainY\n",
    "        \n",
    "        self.testX = testX\n",
    "        self.testY = testY\n",
    "\n",
    "        #Make empty list to store training costs:\n",
    "        self.J = []\n",
    "        self.testJ = []\n",
    "        \n",
    "        params0 = self.N.getParams()\n",
    "\n",
    "        options = {'maxiter': 100, 'disp' : True}\n",
    "        _res = optimize.minimize(self.costFunctionWrapper, params0, jac=True, method='BFGS', \\\n",
    "                                 args=(trainX, trainY), options=options, callback=self.callbackF)\n",
    "\n",
    "        self.N.setParams(_res.x)\n",
    "        self.optimizationResults = _res"
   ]
  },
  {
   "cell_type": "code",
   "execution_count": 17,
   "metadata": {},
   "outputs": [
    {
     "name": "stdout",
     "output_type": "stream",
     "text": [
      "Optimization terminated successfully.\n",
      "         Current function value: 6.355508\n",
      "         Iterations: 1\n",
      "         Function evaluations: 3\n",
      "         Gradient evaluations: 3\n"
     ]
    }
   ],
   "source": [
    "#Train network with new data:\n",
    "NN = Neural_Network()\n",
    "\n",
    "T = trainer(NN)\n",
    "T.train(trainX, trainY, testX, testY)"
   ]
  },
  {
   "cell_type": "code",
   "execution_count": 18,
   "metadata": {},
   "outputs": [
    {
     "data": {
      "image/png": "[encoded data removed]",
      "text/plain": [
       "<Figure size 432x288 with 1 Axes>"
      ]
     },
     "metadata": {
      "needs_background": "light"
     },
     "output_type": "display_data"
    }
   ],
   "source": [
    "#Plot cost during training:\n",
    "plot.plot(T.J)\n",
    "plot.plot(T.testJ)\n",
    "plot.grid(1)\n",
    "plot.xlabel('Iterations')\n",
    "plot.ylabel('Cost')\n",
    "plot.legend(['Training', 'Testing'])\n",
    "plot.show()"
   ]
  },
  {
   "cell_type": "code",
   "execution_count": 19,
   "metadata": {},
   "outputs": [
    {
     "data": {
      "text/plain": [
       "[array([6.35550814])]"
      ]
     },
     "execution_count": 19,
     "metadata": {},
     "output_type": "execute_result"
    }
   ],
   "source": [
    "T.J"
   ]
  },
  {
   "cell_type": "code",
   "execution_count": 20,
   "metadata": {},
   "outputs": [
    {
     "data": {
      "text/plain": [
       "[array([1.68059371])]"
      ]
     },
     "execution_count": 20,
     "metadata": {},
     "output_type": "execute_result"
    }
   ],
   "source": [
    "T.testJ"
   ]
  },
  {
   "cell_type": "code",
   "execution_count": 21,
   "metadata": {},
   "outputs": [
    {
     "data": {
      "text/plain": [
       "4.674914428109271"
      ]
     },
     "execution_count": 21,
     "metadata": {},
     "output_type": "execute_result"
    }
   ],
   "source": [
    "from sklearn.metrics import mean_absolute_error\n",
    "mean_absolute_error(T.J, T.testJ)"
   ]
  },
  {
   "cell_type": "code",
   "execution_count": 22,
   "metadata": {},
   "outputs": [],
   "source": [
    "yHat = NN.forward(X)"
   ]
  },
  {
   "cell_type": "code",
   "execution_count": 23,
   "metadata": {},
   "outputs": [
    {
     "data": {
      "text/plain": [
       "array([[0.99999998],\n",
       "       [0.99999999],\n",
       "       [1.        ],\n",
       "       [0.99999999],\n",
       "       [0.99999991],\n",
       "       [0.99999987],\n",
       "       [0.99999992],\n",
       "       [1.        ],\n",
       "       [0.99999999],\n",
       "       [0.99999992],\n",
       "       [0.99999992],\n",
       "       [0.99999881],\n",
       "       [0.99999987],\n",
       "       [0.99999998],\n",
       "       [0.99999999],\n",
       "       [0.99999991],\n",
       "       [0.99999993],\n",
       "       [0.99999995],\n",
       "       [0.99999998],\n",
       "       [0.99999999],\n",
       "       [1.        ],\n",
       "       [0.99999999],\n",
       "       [0.99999989],\n",
       "       [0.9999999 ],\n",
       "       [0.99999997],\n",
       "       [0.99999999],\n",
       "       [0.99999998],\n",
       "       [0.99999991],\n",
       "       [0.99999991],\n",
       "       [0.99999992],\n",
       "       [0.99999996],\n",
       "       [0.99999999],\n",
       "       [0.99999999],\n",
       "       [0.99999998],\n",
       "       [0.99999995],\n",
       "       [0.99999994],\n",
       "       [0.99999996],\n",
       "       [0.99999999],\n",
       "       [0.99999999],\n",
       "       [0.99999993],\n",
       "       [0.99999977],\n",
       "       [0.99999993],\n",
       "       [0.99999997],\n",
       "       [0.99999999],\n",
       "       [0.99999999],\n",
       "       [0.99999992],\n",
       "       [0.99999991],\n",
       "       [0.99999998],\n",
       "       [0.99999999],\n",
       "       [0.99999999],\n",
       "       [0.99999998],\n",
       "       [0.99999995],\n",
       "       [0.99999981],\n",
       "       [0.99999984],\n",
       "       [0.9999999 ],\n",
       "       [0.99999997],\n",
       "       [0.99999999]])"
      ]
     },
     "execution_count": 23,
     "metadata": {},
     "output_type": "execute_result"
    }
   ],
   "source": [
    "yHat"
   ]
  },
  {
   "cell_type": "code",
   "execution_count": 24,
   "metadata": {},
   "outputs": [
    {
     "data": {
      "text/plain": [
       "array([[0.6971831 ],\n",
       "       [0.97183099],\n",
       "       [0.5915493 ],\n",
       "       [0.28169014],\n",
       "       [0.26056338],\n",
       "       [0.46478873],\n",
       "       [0.99295775],\n",
       "       [0.67605634],\n",
       "       [0.25352113],\n",
       "       [0.45070423],\n",
       "       [0.        ],\n",
       "       [0.48591549],\n",
       "       [0.78169014],\n",
       "       [0.8028169 ],\n",
       "       [0.3028169 ],\n",
       "       [0.47183099],\n",
       "       [0.41549296],\n",
       "       [0.64788732],\n",
       "       [0.61267606],\n",
       "       [1.        ],\n",
       "       [0.47887324],\n",
       "       [0.3028169 ],\n",
       "       [0.38028169],\n",
       "       [0.5915493 ],\n",
       "       [0.8028169 ],\n",
       "       [0.47183099],\n",
       "       [0.26760563],\n",
       "       [0.4084507 ],\n",
       "       [0.32394366],\n",
       "       [0.45774648],\n",
       "       [0.81690141],\n",
       "       [0.75352113],\n",
       "       [0.43661972],\n",
       "       [0.45774648],\n",
       "       [0.38732394],\n",
       "       [0.46478873],\n",
       "       [0.73239437],\n",
       "       [0.51408451],\n",
       "       [0.28169014],\n",
       "       [0.19014085],\n",
       "       [0.51408451],\n",
       "       [0.50704225],\n",
       "       [0.75352113],\n",
       "       [0.54225352],\n",
       "       [0.26056338],\n",
       "       [0.3943662 ],\n",
       "       [0.62676056],\n",
       "       [0.79577465],\n",
       "       [0.70422535],\n",
       "       [0.53521127],\n",
       "       [0.40140845],\n",
       "       [0.12676056],\n",
       "       [0.33098592],\n",
       "       [0.41549296],\n",
       "       [0.55633803],\n",
       "       [0.5915493 ],\n",
       "       [0.51408451]])"
      ]
     },
     "execution_count": 24,
     "metadata": {},
     "output_type": "execute_result"
    }
   ],
   "source": [
    "y"
   ]
  },
  {
   "cell_type": "code",
   "execution_count": 25,
   "metadata": {},
   "outputs": [
    {
     "data": {
      "text/plain": [
       "0.2819684858240404"
      ]
     },
     "execution_count": 25,
     "metadata": {},
     "output_type": "execute_result"
    }
   ],
   "source": [
    "from sklearn.metrics import mean_squared_error \n",
    "mean_squared_error(y,yHat) "
   ]
  },
  {
   "cell_type": "code",
   "execution_count": 26,
   "metadata": {},
   "outputs": [
    {
     "data": {
      "image/png": "[encoded data removed]",
      "text/plain": [
       "<Figure size 432x288 with 1 Axes>"
      ]
     },
     "metadata": {
      "needs_background": "light"
     },
     "output_type": "display_data"
    }
   ],
   "source": [
    "#Plot cost during training:\n",
    "plot.plot(y)\n",
    "plot.plot(yHat)\n",
    "plot.grid(1)\n",
    "plot.legend(['y', 'yHat'])\n",
    "plot.show()"
   ]
  },
  {
   "cell_type": "code",
   "execution_count": 27,
   "metadata": {},
   "outputs": [],
   "source": [
    "#Regularization Parameter:\n",
    "Lambda = 0.0001"
   ]
  },
  {
   "cell_type": "code",
   "execution_count": 28,
   "metadata": {},
   "outputs": [],
   "source": [
    "#Need to make changes to costFunction and costFunctionPrim:\n",
    "def costFunction(self, X, y):\n",
    "    #Compute cost for given X,y, use weights already stored in class.\n",
    "    self.yHat = self.forward(X)\n",
    "    #We don't want cost to increase with the number of examples, so normalize by dividing the error term by number of examples(X.shape[0])\n",
    "    J = 0.5*sum((y-self.yHat)**2)/X.shape[0] + (self.Lambda/2)*(sum(self.W1**2)+sum(self.W2**2))\n",
    "    return J\n",
    "\n",
    "def costFunctionPrime(self, X, y):\n",
    "    #Compute derivative with respect to W and W2 for a given X and y:\n",
    "    self.yHat = self.forward(X)\n",
    "\n",
    "    delta3 = np.multiply(-(y-self.yHat), self.tanhPrime(self.z3))\n",
    "    #Add gradient of regularization term:\n",
    "    dJdW2 = np.dot(self.a2.T, delta3)/X.shape[0] + self.Lambda*self.W2\n",
    "\n",
    "    delta2 = np.dot(delta3, self.W2.T)*self.tanhPrime(self.z2)\n",
    "    #Add gradient of regularization term:\n",
    "    dJdW1 = np.dot(X.T, delta2)/X.shape[0] + self.Lambda*self.W1\n",
    "\n",
    "    return dJdW1, dJdW2"
   ]
  },
  {
   "cell_type": "code",
   "execution_count": 29,
   "metadata": {},
   "outputs": [],
   "source": [
    "#New complete class, with changes:\n",
    "class Neural_Network(object):\n",
    "    def __init__(self, Lambda=0.0001):        \n",
    "        #Define Hyperparameters\n",
    "        self.inputLayerSize = 5\n",
    "        self.outputLayerSize = 1\n",
    "        self.hiddenLayerSize = 8\n",
    "        \n",
    "        #Weights (parameters)\n",
    "        self.W1 = np.random.randn(self.inputLayerSize,self.hiddenLayerSize)\n",
    "        self.W2 = np.random.randn(self.hiddenLayerSize,self.outputLayerSize)\n",
    "        \n",
    "        #Regularization Parameter:\n",
    "        self.Lambda = Lambda\n",
    "        \n",
    "    def forward(self, X):\n",
    "        #Propogate inputs though network\n",
    "        self.z2 = np.dot(X, self.W1)\n",
    "        self.a2 = self.tanh(self.z2)\n",
    "        self.z3 = np.dot(self.a2, self.W2)\n",
    "        yHat = self.tanh(self.z3) \n",
    "        return yHat\n",
    "        \n",
    "    def tanh(self, z):\n",
    "        # activation function\n",
    "        return (np.exp(z)-np.exp(-z))/(np.exp(z)+np.exp(-z))\n",
    "    \n",
    "    def tanhPrime(self,z): \n",
    "        #derivative of tanh\n",
    "        return 1-((np.exp(z)-np.exp(-z))/(np.exp(z)+np.exp(-z)))**2\n",
    "    \n",
    "    def costFunction(self, X, y):\n",
    "        #Compute cost for given X,y, use weights already stored in class.\n",
    "        self.yHat = self.forward(X)\n",
    "        J = 0.5*sum((y-self.yHat)**2)/X.shape[0] + (self.Lambda/2)*(np.sum(self.W1**2)+np.sum(self.W2**2))\n",
    "        return J\n",
    "        \n",
    "    def costFunctionPrime(self, X, y):\n",
    "        #Compute derivative with respect to W and W2 for a given X and y:\n",
    "        self.yHat = self.forward(X)\n",
    "        \n",
    "        delta3 = np.multiply(-(y-self.yHat), self.tanhPrime(self.z3))\n",
    "        #Add gradient of regularization term:\n",
    "        dJdW2 = np.dot(self.a2.T, delta3)/X.shape[0] + self.Lambda*self.W2\n",
    "        \n",
    "        delta2 = np.dot(delta3, self.W2.T)*self.tanhPrime(self.z2)\n",
    "        #Add gradient of regularization term:\n",
    "        dJdW1 = np.dot(X.T, delta2)/X.shape[0] + self.Lambda*self.W1\n",
    "        \n",
    "        return dJdW1, dJdW2\n",
    "    \n",
    "    def predict(self):\n",
    "        prediksi = self.forward(dataprediksi)\n",
    "        return prediksi\n",
    "    \n",
    "    #Helper functions for interacting with other methods/classes\n",
    "    def getParams(self):\n",
    "        #Get W1 and W2 Rolled into vector:\n",
    "        params = np.concatenate((self.W1.ravel(), self.W2.ravel()))\n",
    "        return params\n",
    "    \n",
    "    def setParams(self, params):\n",
    "        #Set W1 and W2 using single parameter vector:\n",
    "        W1_start = 0\n",
    "        W1_end = self.hiddenLayerSize*self.inputLayerSize\n",
    "        self.W1 = np.reshape(params[W1_start:W1_end], \\\n",
    "                             (self.inputLayerSize, self.hiddenLayerSize))\n",
    "        W2_end = W1_end + self.hiddenLayerSize*self.outputLayerSize\n",
    "        self.W2 = np.reshape(params[W1_end:W2_end], \\\n",
    "                             (self.hiddenLayerSize, self.outputLayerSize))\n",
    "        \n",
    "    def computeGradients(self, X, y):\n",
    "        dJdW1, dJdW2 = self.costFunctionPrime(X, y)\n",
    "        return np.concatenate((dJdW1.ravel(), dJdW2.ravel()))"
   ]
  },
  {
   "cell_type": "code",
   "execution_count": 30,
   "metadata": {},
   "outputs": [],
   "source": [
    "def computeNumericalGradient(N, X, y):\n",
    "    paramsInitial = N.getParams()\n",
    "    numgrad = np.zeros(paramsInitial.shape)\n",
    "    perturb = np.zeros(paramsInitial.shape)\n",
    "    e = 1e-4\n",
    "\n",
    "    for p in range(len(paramsInitial)):\n",
    "        #Set perturbation vector\n",
    "        perturb[p] = e\n",
    "        N.setParams(paramsInitial + perturb)\n",
    "        loss2 = N.costFunction(X, y)\n",
    "            \n",
    "        N.setParams(paramsInitial - perturb)\n",
    "        loss1 = N.costFunction(X, y)\n",
    "\n",
    "        #Compute Numerical Gradient\n",
    "        numgrad[p] = (loss2 - loss1) / (2*e)\n",
    "\n",
    "            #Return the value we changed to zero:\n",
    "        perturb[p] = 0\n",
    "            \n",
    "    #Return Params to original value:\n",
    "    N.setParams(paramsInitial)\n",
    "\n",
    "    return numgrad "
   ]
  },
  {
   "cell_type": "code",
   "execution_count": 31,
   "metadata": {},
   "outputs": [],
   "source": [
    "NN = Neural_Network(Lambda=0.0001)"
   ]
  },
  {
   "cell_type": "code",
   "execution_count": 32,
   "metadata": {},
   "outputs": [],
   "source": [
    "#Make sure our gradients our correct after making changes:\n",
    "numgrad = computeNumericalGradient(NN, X, y)\n",
    "grad = NN.computeGradients(X,y)"
   ]
  },
  {
   "cell_type": "code",
   "execution_count": 33,
   "metadata": {},
   "outputs": [
    {
     "data": {
      "text/plain": [
       "1.3677474920670848e-08"
      ]
     },
     "execution_count": 33,
     "metadata": {},
     "output_type": "execute_result"
    }
   ],
   "source": [
    "#Should be less than 1e-8:\n",
    "np.linalg.norm(grad-numgrad)/np.linalg.norm(grad+numgrad)"
   ]
  },
  {
   "cell_type": "code",
   "execution_count": 34,
   "metadata": {},
   "outputs": [],
   "source": [
    "T = trainer(NN)"
   ]
  },
  {
   "cell_type": "code",
   "execution_count": 35,
   "metadata": {},
   "outputs": [
    {
     "name": "stdout",
     "output_type": "stream",
     "text": [
      "Warning: Maximum number of iterations has been exceeded.\n",
      "         Current function value: 0.010882\n",
      "         Iterations: 100\n",
      "         Function evaluations: 122\n",
      "         Gradient evaluations: 122\n"
     ]
    }
   ],
   "source": [
    "T.train(X,y,testX,testY)"
   ]
  },
  {
   "cell_type": "code",
   "execution_count": 36,
   "metadata": {},
   "outputs": [
    {
     "data": {
      "image/png": "[encoded data removed]",
      "text/plain": [
       "<Figure size 432x288 with 1 Axes>"
      ]
     },
     "metadata": {
      "needs_background": "light"
     },
     "output_type": "display_data"
    }
   ],
   "source": [
    "plot.plot(T.J)\n",
    "plot.plot(T.testJ)\n",
    "plot.grid(1)\n",
    "plot.xlabel('Iterations')\n",
    "plot.ylabel('Cost')\n",
    "plot.legend(['Training', 'Testing'])\n",
    "plot.show()"
   ]
  },
  {
   "cell_type": "code",
   "execution_count": 37,
   "metadata": {},
   "outputs": [
    {
     "data": {
      "text/plain": [
       "[array([0.13810815]),\n",
       " array([0.10848689]),\n",
       " array([0.10845882]),\n",
       " array([0.07407332]),\n",
       " array([0.07125047]),\n",
       " array([0.06612268]),\n",
       " array([0.05789715]),\n",
       " array([0.04869656]),\n",
       " array([0.04432044]),\n",
       " array([0.03921112]),\n",
       " array([0.03145104]),\n",
       " array([0.02644069]),\n",
       " array([0.02513051]),\n",
       " array([0.02370879]),\n",
       " array([0.02357228]),\n",
       " array([0.02333536]),\n",
       " array([0.02290733]),\n",
       " array([0.02215364]),\n",
       " array([0.02098369]),\n",
       " array([0.0196792]),\n",
       " array([0.01829832]),\n",
       " array([0.01750228]),\n",
       " array([0.01728602]),\n",
       " array([0.01703459]),\n",
       " array([0.01663489]),\n",
       " array([0.01615411]),\n",
       " array([0.01595321]),\n",
       " array([0.01588735]),\n",
       " array([0.0158402]),\n",
       " array([0.01576123]),\n",
       " array([0.01562616]),\n",
       " array([0.01539915]),\n",
       " array([0.01503745]),\n",
       " array([0.01458492]),\n",
       " array([0.0144418]),\n",
       " array([0.01425347]),\n",
       " array([0.01411674]),\n",
       " array([0.01404402]),\n",
       " array([0.01397516]),\n",
       " array([0.01394217]),\n",
       " array([0.01390244]),\n",
       " array([0.01388038]),\n",
       " array([0.01384119]),\n",
       " array([0.01377191]),\n",
       " array([0.01365159]),\n",
       " array([0.01344673]),\n",
       " array([0.01310133]),\n",
       " array([0.01249427]),\n",
       " array([0.01223429]),\n",
       " array([0.01208853]),\n",
       " array([0.01202589]),\n",
       " array([0.01200594]),\n",
       " array([0.01198255]),\n",
       " array([0.01197625]),\n",
       " array([0.01196854]),\n",
       " array([0.01195648]),\n",
       " array([0.01193637]),\n",
       " array([0.01190804]),\n",
       " array([0.0118901]),\n",
       " array([0.01186779]),\n",
       " array([0.01183399]),\n",
       " array([0.0117973]),\n",
       " array([0.01177417]),\n",
       " array([0.01176352]),\n",
       " array([0.01175511]),\n",
       " array([0.01174141]),\n",
       " array([0.01171974]),\n",
       " array([0.0116892]),\n",
       " array([0.01165801]),\n",
       " array([0.01161296]),\n",
       " array([0.01157341]),\n",
       " array([0.01153749]),\n",
       " array([0.01150493]),\n",
       " array([0.01149169]),\n",
       " array([0.01147449]),\n",
       " array([0.0114649]),\n",
       " array([0.01145189]),\n",
       " array([0.01144425]),\n",
       " array([0.01143698]),\n",
       " array([0.01142999]),\n",
       " array([0.01142038]),\n",
       " array([0.01140513]),\n",
       " array([0.01138022]),\n",
       " array([0.01134089]),\n",
       " array([0.01128161]),\n",
       " array([0.01120542]),\n",
       " array([0.01114221]),\n",
       " array([0.01113654]),\n",
       " array([0.01112608]),\n",
       " array([0.01110916]),\n",
       " array([0.01109835]),\n",
       " array([0.01109621]),\n",
       " array([0.01109277]),\n",
       " array([0.01108684]),\n",
       " array([0.01107702]),\n",
       " array([0.01106204]),\n",
       " array([0.01104268]),\n",
       " array([0.01101112]),\n",
       " array([0.0109592]),\n",
       " array([0.01088215])]"
      ]
     },
     "execution_count": 37,
     "metadata": {},
     "output_type": "execute_result"
    }
   ],
   "source": [
    "T.J"
   ]
  },
  {
   "cell_type": "code",
   "execution_count": 38,
   "metadata": {},
   "outputs": [
    {
     "data": {
      "text/plain": [
       "[array([0.14085818]),\n",
       " array([0.07605206]),\n",
       " array([0.0747396]),\n",
       " array([0.03139395]),\n",
       " array([0.02776483]),\n",
       " array([0.02422557]),\n",
       " array([0.0199921]),\n",
       " array([0.02069537]),\n",
       " array([0.0244091]),\n",
       " array([0.02326825]),\n",
       " array([0.01869267]),\n",
       " array([0.0138589]),\n",
       " array([0.01273174]),\n",
       " array([0.01247119]),\n",
       " array([0.01270508]),\n",
       " array([0.0128806]),\n",
       " array([0.01293873]),\n",
       " array([0.01279388]),\n",
       " array([0.0123425]),\n",
       " array([0.01152312]),\n",
       " array([0.0099094]),\n",
       " array([0.00849219]),\n",
       " array([0.00828128]),\n",
       " array([0.00812477]),\n",
       " array([0.00796932]),\n",
       " array([0.00783899]),\n",
       " array([0.00773522]),\n",
       " array([0.00776932]),\n",
       " array([0.0077484]),\n",
       " array([0.00775168]),\n",
       " array([0.0077683]),\n",
       " array([0.00795611]),\n",
       " array([0.00832726]),\n",
       " array([0.00917244]),\n",
       " array([0.00904214]),\n",
       " array([0.00987917]),\n",
       " array([0.01020963]),\n",
       " array([0.01056986]),\n",
       " array([0.01084078]),\n",
       " array([0.0111704]),\n",
       " array([0.01126144]),\n",
       " array([0.01127996]),\n",
       " array([0.01124223]),\n",
       " array([0.01116015]),\n",
       " array([0.01102153]),\n",
       " array([0.01081396]),\n",
       " array([0.01048068]),\n",
       " array([0.00981329]),\n",
       " array([0.00961187]),\n",
       " array([0.00993633]),\n",
       " array([0.01020051]),\n",
       " array([0.01028443]),\n",
       " array([0.01019937]),\n",
       " array([0.01012102]),\n",
       " array([0.0101123]),\n",
       " array([0.01003459]),\n",
       " array([0.01001461]),\n",
       " array([0.01002472]),\n",
       " array([0.01006816]),\n",
       " array([0.01011448]),\n",
       " array([0.01013327]),\n",
       " array([0.01006945]),\n",
       " array([0.00992515]),\n",
       " array([0.00978771]),\n",
       " array([0.00967722]),\n",
       " array([0.00954086]),\n",
       " array([0.00938311]),\n",
       " array([0.00924019]),\n",
       " array([0.00923398]),\n",
       " array([0.00934953]),\n",
       " array([0.00948817]),\n",
       " array([0.00959109]),\n",
       " array([0.00968892]),\n",
       " array([0.00964911]),\n",
       " array([0.009705]),\n",
       " array([0.00970344]),\n",
       " array([0.00969293]),\n",
       " array([0.00972637]),\n",
       " array([0.00978672]),\n",
       " array([0.00984466]),\n",
       " array([0.00987045]),\n",
       " array([0.00988369]),\n",
       " array([0.00986717]),\n",
       " array([0.00983142]),\n",
       " array([0.00973324]),\n",
       " array([0.00962235]),\n",
       " array([0.00929015]),\n",
       " array([0.00914031]),\n",
       " array([0.00912625]),\n",
       " array([0.00909583]),\n",
       " array([0.00904378]),\n",
       " array([0.00901634]),\n",
       " array([0.00900061]),\n",
       " array([0.00898538]),\n",
       " array([0.00896667]),\n",
       " array([0.00894142]),\n",
       " array([0.0089156]),\n",
       " array([0.00888172]),\n",
       " array([0.00883739]),\n",
       " array([0.00877328])]"
      ]
     },
     "execution_count": 38,
     "metadata": {},
     "output_type": "execute_result"
    }
   ],
   "source": [
    "T.testJ"
   ]
  },
  {
   "cell_type": "code",
   "execution_count": 39,
   "metadata": {},
   "outputs": [
    {
     "data": {
      "text/plain": [
       "0.006615738217526923"
      ]
     },
     "execution_count": 39,
     "metadata": {},
     "output_type": "execute_result"
    }
   ],
   "source": [
    "from sklearn.metrics import mean_absolute_error\n",
    "mean_absolute_error(T.J, T.testJ)"
   ]
  },
  {
   "cell_type": "code",
   "execution_count": 40,
   "metadata": {},
   "outputs": [],
   "source": [
    "yHat=NN.forward(X)"
   ]
  },
  {
   "cell_type": "code",
   "execution_count": 41,
   "metadata": {},
   "outputs": [
    {
     "data": {
      "text/plain": [
       "array([[0.59162095],\n",
       "       [0.74671371],\n",
       "       [0.56259386],\n",
       "       [0.22401756],\n",
       "       [0.25449611],\n",
       "       [0.33635684],\n",
       "       [0.75543666],\n",
       "       [0.71445342],\n",
       "       [0.28251568],\n",
       "       [0.36452377],\n",
       "       [0.24341543],\n",
       "       [0.45121766],\n",
       "       [0.69104675],\n",
       "       [0.78275426],\n",
       "       [0.3171454 ],\n",
       "       [0.4289236 ],\n",
       "       [0.3642845 ],\n",
       "       [0.61774972],\n",
       "       [0.64234102],\n",
       "       [0.56644945],\n",
       "       [0.60473058],\n",
       "       [0.2076324 ],\n",
       "       [0.35872634],\n",
       "       [0.3642698 ],\n",
       "       [0.77351004],\n",
       "       [0.61625402],\n",
       "       [0.33824169],\n",
       "       [0.40683537],\n",
       "       [0.4693306 ],\n",
       "       [0.63875728],\n",
       "       [0.58348208],\n",
       "       [0.73340686],\n",
       "       [0.48710489],\n",
       "       [0.37237561],\n",
       "       [0.31407304],\n",
       "       [0.55482498],\n",
       "       [0.60467052],\n",
       "       [0.63579059],\n",
       "       [0.40453874],\n",
       "       [0.41359094],\n",
       "       [0.42019657],\n",
       "       [0.7114308 ],\n",
       "       [0.59227587],\n",
       "       [0.66871556],\n",
       "       [0.52314346],\n",
       "       [0.35974083],\n",
       "       [0.44560895],\n",
       "       [0.71870047],\n",
       "       [0.58320811],\n",
       "       [0.55392038],\n",
       "       [0.37520182],\n",
       "       [0.29650067],\n",
       "       [0.42177883],\n",
       "       [0.62728503],\n",
       "       [0.67997906],\n",
       "       [0.55010454],\n",
       "       [0.66525485]])"
      ]
     },
     "execution_count": 41,
     "metadata": {},
     "output_type": "execute_result"
    }
   ],
   "source": [
    "yHat"
   ]
  },
  {
   "cell_type": "code",
   "execution_count": 42,
   "metadata": {},
   "outputs": [
    {
     "data": {
      "text/plain": [
       "array([[0.6971831 ],\n",
       "       [0.97183099],\n",
       "       [0.5915493 ],\n",
       "       [0.28169014],\n",
       "       [0.26056338],\n",
       "       [0.46478873],\n",
       "       [0.99295775],\n",
       "       [0.67605634],\n",
       "       [0.25352113],\n",
       "       [0.45070423],\n",
       "       [0.        ],\n",
       "       [0.48591549],\n",
       "       [0.78169014],\n",
       "       [0.8028169 ],\n",
       "       [0.3028169 ],\n",
       "       [0.47183099],\n",
       "       [0.41549296],\n",
       "       [0.64788732],\n",
       "       [0.61267606],\n",
       "       [1.        ],\n",
       "       [0.47887324],\n",
       "       [0.3028169 ],\n",
       "       [0.38028169],\n",
       "       [0.5915493 ],\n",
       "       [0.8028169 ],\n",
       "       [0.47183099],\n",
       "       [0.26760563],\n",
       "       [0.4084507 ],\n",
       "       [0.32394366],\n",
       "       [0.45774648],\n",
       "       [0.81690141],\n",
       "       [0.75352113],\n",
       "       [0.43661972],\n",
       "       [0.45774648],\n",
       "       [0.38732394],\n",
       "       [0.46478873],\n",
       "       [0.73239437],\n",
       "       [0.51408451],\n",
       "       [0.28169014],\n",
       "       [0.19014085],\n",
       "       [0.51408451],\n",
       "       [0.50704225],\n",
       "       [0.75352113],\n",
       "       [0.54225352],\n",
       "       [0.26056338],\n",
       "       [0.3943662 ],\n",
       "       [0.62676056],\n",
       "       [0.79577465],\n",
       "       [0.70422535],\n",
       "       [0.53521127],\n",
       "       [0.40140845],\n",
       "       [0.12676056],\n",
       "       [0.33098592],\n",
       "       [0.41549296],\n",
       "       [0.55633803],\n",
       "       [0.5915493 ],\n",
       "       [0.51408451]])"
      ]
     },
     "execution_count": 42,
     "metadata": {},
     "output_type": "execute_result"
    }
   ],
   "source": [
    "y"
   ]
  },
  {
   "cell_type": "code",
   "execution_count": 43,
   "metadata": {},
   "outputs": [
    {
     "data": {
      "text/plain": [
       "0.01900151224916925"
      ]
     },
     "execution_count": 43,
     "metadata": {},
     "output_type": "execute_result"
    }
   ],
   "source": [
    "from sklearn.metrics import mean_squared_error \n",
    "mean_squared_error(y,yHat) "
   ]
  },
  {
   "cell_type": "code",
   "execution_count": 44,
   "metadata": {},
   "outputs": [
    {
     "data": {
      "image/png": "[encoded data removed]",
      "text/plain": [
       "<Figure size 432x288 with 1 Axes>"
      ]
     },
     "metadata": {
      "needs_background": "light"
     },
     "output_type": "display_data"
    }
   ],
   "source": [
    "#Plot cost during training:\n",
    "plot.plot(y)\n",
    "plot.plot(yHat)\n",
    "plot.grid(1)\n",
    "plot.legend(['y', 'yHat'])\n",
    "plot.show()"
   ]
  },
  {
   "cell_type": "code",
   "execution_count": 45,
   "metadata": {},
   "outputs": [],
   "source": [
    "prediksi=NN.forward(dataprediksi)"
   ]
  },
  {
   "cell_type": "code",
   "execution_count": 46,
   "metadata": {},
   "outputs": [
    {
     "data": {
      "text/plain": [
       "array([[0.50880022],\n",
       "       [0.44120999],\n",
       "       [0.48928882],\n",
       "       [0.56043372]])"
      ]
     },
     "execution_count": 46,
     "metadata": {},
     "output_type": "execute_result"
    }
   ],
   "source": [
    "prediksi"
   ]
  },
  {
   "cell_type": "code",
   "execution_count": 47,
   "metadata": {},
   "outputs": [],
   "source": [
    "from sklearn.metrics import mean_squared_error "
   ]
  },
  {
   "cell_type": "code",
   "execution_count": 48,
   "metadata": {},
   "outputs": [
    {
     "data": {
      "text/plain": [
       "0.012040918834985908"
      ]
     },
     "execution_count": 48,
     "metadata": {},
     "output_type": "execute_result"
    }
   ],
   "source": [
    "Y_true= ([\t0.387323944\t]\t,\n",
    "[\t0.373239437\t]\t,\n",
    "[\t0.366197183\t]\t,\n",
    "[\t0.443661972\t]\t,\n",
    ")\n",
    "\n",
    "\n",
    "Y_pred=prediksi\n",
    "mean_squared_error(Y_true,Y_pred) "
   ]
  },
  {
   "cell_type": "code",
   "execution_count": 49,
   "metadata": {},
   "outputs": [
    {
     "data": {
      "text/plain": [
       "array([[0.33098592, 0.41549296, 0.55633803, 0.5915493 , 0.51408451],\n",
       "       [0.41549296, 0.55633803, 0.5915493 , 0.51408451, 0.38732394],\n",
       "       [0.55633803, 0.5915493 , 0.51408451, 0.38732394, 0.37323944],\n",
       "       [0.5915493 , 0.51408451, 0.38732394, 0.37323944, 0.36619718]])"
      ]
     },
     "execution_count": 49,
     "metadata": {},
     "output_type": "execute_result"
    }
   ],
   "source": [
    "dataprediksi"
   ]
  },
  {
   "cell_type": "code",
   "execution_count": 50,
   "metadata": {},
   "outputs": [],
   "source": [
    "a=np.array([\t0.514084507\t,\t0.387323944\t,\t0.373239437\t,\t0.366197183\t,\t0.443661972\t])"
   ]
  },
  {
   "cell_type": "code",
   "execution_count": 51,
   "metadata": {},
   "outputs": [
    {
     "data": {
      "text/plain": [
       "array([0.58467037])"
      ]
     },
     "execution_count": 51,
     "metadata": {},
     "output_type": "execute_result"
    }
   ],
   "source": [
    "#prediksi 1\n",
    "prediksi=NN.forward(a)\n",
    "prediksi"
   ]
  },
  {
   "cell_type": "code",
   "execution_count": 52,
   "metadata": {},
   "outputs": [
    {
     "data": {
      "text/plain": [
       "array([0.61459097])"
      ]
     },
     "execution_count": 52,
     "metadata": {},
     "output_type": "execute_result"
    }
   ],
   "source": [
    "#prediksi 2\n",
    "c=prediksi\n",
    "b=a[1:]\n",
    "d=np.concatenate((b,c))\n",
    "prediksi=NN.forward(d)\n",
    "prediksi"
   ]
  },
  {
   "cell_type": "code",
   "execution_count": 53,
   "metadata": {},
   "outputs": [
    {
     "data": {
      "text/plain": [
       "array([0.55821063])"
      ]
     },
     "execution_count": 53,
     "metadata": {},
     "output_type": "execute_result"
    }
   ],
   "source": [
    "#prediksi 3\n",
    "c=prediksi\n",
    "b=d[1:]\n",
    "e=np.concatenate((b,c))\n",
    "prediksi=NN.forward(e)\n",
    "prediksi"
   ]
  },
  {
   "cell_type": "code",
   "execution_count": 54,
   "metadata": {},
   "outputs": [
    {
     "data": {
      "text/plain": [
       "array([0.50248587])"
      ]
     },
     "execution_count": 54,
     "metadata": {},
     "output_type": "execute_result"
    }
   ],
   "source": [
    "#prediksi 4\n",
    "c=prediksi\n",
    "b=e[1:]\n",
    "f=np.concatenate((b,c))\n",
    "prediksi=NN.forward(f)\n",
    "prediksi"
   ]
  },
  {
   "cell_type": "code",
   "execution_count": 55,
   "metadata": {},
   "outputs": [
    {
     "data": {
      "text/plain": [
       "array([0.4446128])"
      ]
     },
     "execution_count": 55,
     "metadata": {},
     "output_type": "execute_result"
    }
   ],
   "source": [
    "#prediksi 5\n",
    "c=prediksi\n",
    "b=f[1:]\n",
    "g=np.concatenate((b,c))\n",
    "prediksi=NN.forward(g)\n",
    "prediksi"
   ]
  },
  {
   "cell_type": "code",
   "execution_count": 56,
   "metadata": {},
   "outputs": [
    {
     "data": {
      "text/plain": [
       "array([0.45070177])"
      ]
     },
     "execution_count": 56,
     "metadata": {},
     "output_type": "execute_result"
    }
   ],
   "source": [
    "#prediksi 6\n",
    "c=prediksi\n",
    "b=g[1:]\n",
    "h=np.concatenate((b,c))\n",
    "prediksi=NN.forward(h)\n",
    "prediksi"
   ]
  },
  {
   "cell_type": "code",
   "execution_count": null,
   "metadata": {},
   "outputs": [],
   "source": []
  }
 ],
 "metadata": {
  "kernelspec": {
   "display_name": "Python 3",
   "language": "python",
   "name": "python3"
  },
  "language_info": {
   "codemirror_mode": {
    "name": "ipython",
    "version": 3
   },
   "file_extension": ".py",
   "mimetype": "text/x-python",
   "name": "python",
   "nbconvert_exporter": "python",
   "pygments_lexer": "ipython3",
   "version": "3.7.3"
  }
 },
 "nbformat": 4,
 "nbformat_minor": 2
}
