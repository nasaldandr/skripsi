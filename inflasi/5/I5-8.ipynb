{
 "cells": [
  {
   "cell_type": "code",
   "execution_count": 1,
   "metadata": {},
   "outputs": [],
   "source": [
    "import numpy as np"
   ]
  },
  {
   "cell_type": "code",
   "execution_count": 2,
   "metadata": {},
   "outputs": [],
   "source": [
    "#UNTUK NILAI IMPOR\n",
    "class Neural_Network(object):\n",
    "    def __init__(self):\n",
    "        #parameters\n",
    "        self.inputLayerSize = 5\n",
    "        self.outputLayerSize = 1\n",
    "        self.hiddenLayerSize = 8\n",
    "\n",
    "        #weights\n",
    "        self.W1 = np.random.randn(self.inputLayerSize,\\\n",
    "                                 self.hiddenLayerSize)  \n",
    "        self.W2 = np.random.randn(self.hiddenLayerSize,\\\n",
    "                                 self.outputLayerSize)  \n",
    "    \n",
    "    def printw(self):\n",
    "        return self.W1\n",
    "        \n",
    "    def weight(self, W1, W2):\n",
    "        #Make an internal variable for the weight:\n",
    "        self.W1 = W1\n",
    "        self.W2 = W2\n",
    "        \n",
    "    def forward(self, X):\n",
    "        #forward propagation through our network\n",
    "        self.z2 = np.dot(X,self.W1)  \n",
    "        self.a2 = self.sigmoid(self.z2)  # activation function\n",
    "        self.z3 = np.dot(self.a2, self.W2) \n",
    "        yHat = self.sigmoid(self.z3)  # final activation function\n",
    "        return yHat\n",
    "\n",
    "    def sigmoid(self, z):\n",
    "        # activation function\n",
    "        return 1 / (1 + np.exp(-z))\n",
    "    \n",
    "    def sigmoidPrime(self,z): \n",
    "        #derivative of sigmoid     \n",
    "        return np.exp(-z)/((1+np.exp(-z))**2)\n",
    "    \n",
    "    def costFunction(self,X,y):\n",
    "        self.yHat = self.forward(X)\n",
    "        J=0.5*sum((y-self.yHat)**2)\n",
    "        return J\n",
    "    \n",
    "    def costFunctionPrime(self,X,y):\n",
    "        self.yHat=self.forward(X)\n",
    "        \n",
    "        delta3=np.multiply(-(y-self.yHat),self.sigmoidPrime(self.z3))\n",
    "        dJdW2=np.dot(self.a2.T,delta3)\n",
    "        \n",
    "        delta2=np.dot(delta3,self.W2.T)*self.sigmoidPrime(self.z2)\n",
    "        dJdW1=np.dot(X.T,delta2)\n",
    "        return dJdW1,dJdW2\n",
    "    \n",
    "    def predict(self):\n",
    "        prediksi = self.forward(dataprediksi)\n",
    "        return prediksi\n",
    "    \n",
    "    def getParams(self):\n",
    "        params=np.concatenate((self.W1.ravel(),self.W2.ravel()))\n",
    "        return params\n",
    "    \n",
    "    def setParams(self,params):\n",
    "        W1_start=0\n",
    "        W1_end=self.hiddenLayerSize*self.inputLayerSize\n",
    "        self.W1=np.reshape(params[W1_start:W1_end],\\\n",
    "                          (self.inputLayerSize,self.hiddenLayerSize))\n",
    "        W2_end=W1_end+self.hiddenLayerSize*self.outputLayerSize\n",
    "        self.W2=np.reshape(params[W1_end:W2_end],\\\n",
    "                          (self.hiddenLayerSize,self.outputLayerSize))\n",
    "        \n",
    "    def computeGradients(self, X, y):\n",
    "        dJdW1, dJdW2 = self.costFunctionPrime(X, y)\n",
    "        return np.concatenate((dJdW1.ravel(), dJdW2.ravel()))"
   ]
  },
  {
   "cell_type": "code",
   "execution_count": 3,
   "metadata": {},
   "outputs": [],
   "source": [
    "NN = Neural_Network()"
   ]
  },
  {
   "cell_type": "code",
   "execution_count": 4,
   "metadata": {},
   "outputs": [
    {
     "data": {
      "text/plain": [
       "array([[-1.09337791, -0.73082752, -2.07543943,  0.30151651,  2.24079031,\n",
       "        -1.23781777, -0.36487541, -0.45262874],\n",
       "       [ 1.79315364,  1.50062331, -2.35408772,  0.31765449, -0.64819185,\n",
       "         0.38947478, -0.20264572,  0.03324932],\n",
       "       [-0.48598313,  1.10540298, -0.80522164,  0.27650927, -0.66313685,\n",
       "         1.30072613, -0.6059816 ,  1.10848189],\n",
       "       [ 0.32152281,  0.60558875, -0.22808782, -0.68199255, -0.53740959,\n",
       "         0.49219035,  0.64246975,  0.56070858],\n",
       "       [-0.53359103, -0.49556671, -1.31984163,  1.46248328,  0.83162346,\n",
       "         0.27180832, -3.19438642, -1.05221887]])"
      ]
     },
     "execution_count": 4,
     "metadata": {},
     "output_type": "execute_result"
    }
   ],
   "source": [
    "NN.W1"
   ]
  },
  {
   "cell_type": "code",
   "execution_count": 5,
   "metadata": {},
   "outputs": [
    {
     "data": {
      "text/plain": [
       "array([[ 0.51251597],\n",
       "       [-0.14352383],\n",
       "       [-1.43488492],\n",
       "       [ 1.75383647],\n",
       "       [ 1.15636599],\n",
       "       [-1.24581008],\n",
       "       [-0.52807478],\n",
       "       [ 0.39934283]])"
      ]
     },
     "execution_count": 5,
     "metadata": {},
     "output_type": "execute_result"
    }
   ],
   "source": [
    "NN.W2"
   ]
  },
  {
   "cell_type": "code",
   "execution_count": 6,
   "metadata": {},
   "outputs": [],
   "source": [
    "#NILAI IMPOR\n",
    "X=np.array(([\t0.147887324\t,\t0.063380282\t,\t0.436619718\t,\t0.570422535\t,\t0.669014085\t]\t,\n",
    "[\t0.063380282\t,\t0.436619718\t,\t0.570422535\t,\t0.669014085\t,\t0.697183099\t]\t,\n",
    "[\t0.436619718\t,\t0.570422535\t,\t0.669014085\t,\t0.697183099\t,\t0.971830986\t]\t,\n",
    "[\t0.570422535\t,\t0.669014085\t,\t0.697183099\t,\t0.971830986\t,\t0.591549296\t]\t,\n",
    "[\t0.669014085\t,\t0.697183099\t,\t0.971830986\t,\t0.591549296\t,\t0.281690141\t]\t,\n",
    "[\t0.697183099\t,\t0.971830986\t,\t0.591549296\t,\t0.281690141\t,\t0.26056338\t]\t,\n",
    "[\t0.971830986\t,\t0.591549296\t,\t0.281690141\t,\t0.26056338\t,\t0.464788732\t]\t,\n",
    "[\t0.591549296\t,\t0.281690141\t,\t0.26056338\t,\t0.464788732\t,\t0.992957746\t]\t,\n",
    "[\t0.281690141\t,\t0.26056338\t,\t0.464788732\t,\t0.992957746\t,\t0.676056338\t]\t,\n",
    "[\t0.26056338\t,\t0.464788732\t,\t0.992957746\t,\t0.676056338\t,\t0.253521127\t]\t,\n",
    "[\t0.464788732\t,\t0.992957746\t,\t0.676056338\t,\t0.253521127\t,\t0.450704225\t]\t,\n",
    "[\t0.992957746\t,\t0.676056338\t,\t0.253521127\t,\t0.450704225\t,\t0\t]\t,\n",
    "[\t0.676056338\t,\t0.253521127\t,\t0.450704225\t,\t0\t,\t0.485915493\t]\t,\n",
    "[\t0.253521127\t,\t0.450704225\t,\t0\t,\t0.485915493\t,\t0.781690141\t]\t,\n",
    "[\t0.450704225\t,\t0\t,\t0.485915493\t,\t0.781690141\t,\t0.802816901\t]\t,\n",
    "[\t0\t,\t0.485915493\t,\t0.781690141\t,\t0.802816901\t,\t0.302816901\t]\t,\n",
    "[\t0.485915493\t,\t0.781690141\t,\t0.802816901\t,\t0.302816901\t,\t0.471830986\t]\t,\n",
    "[\t0.781690141\t,\t0.802816901\t,\t0.302816901\t,\t0.471830986\t,\t0.415492958\t]\t,\n",
    "[\t0.802816901\t,\t0.302816901\t,\t0.471830986\t,\t0.415492958\t,\t0.647887324\t]\t,\n",
    "[\t0.302816901\t,\t0.471830986\t,\t0.415492958\t,\t0.647887324\t,\t0.612676056\t]\t,\n",
    "[\t0.471830986\t,\t0.415492958\t,\t0.647887324\t,\t0.612676056\t,\t1\t]\t,\n",
    "[\t0.415492958\t,\t0.647887324\t,\t0.612676056\t,\t1\t,\t0.478873239\t]\t,\n",
    "[\t0.647887324\t,\t0.612676056\t,\t1\t,\t0.478873239\t,\t0.302816901\t]\t,\n",
    "[\t0.612676056\t,\t1\t,\t0.478873239\t,\t0.302816901\t,\t0.38028169\t]\t,\n",
    "[\t1\t,\t0.478873239\t,\t0.302816901\t,\t0.38028169\t,\t0.591549296\t]\t,\n",
    "[\t0.478873239\t,\t0.302816901\t,\t0.38028169\t,\t0.591549296\t,\t0.802816901\t]\t,\n",
    "[\t0.302816901\t,\t0.38028169\t,\t0.591549296\t,\t0.802816901\t,\t0.471830986\t]\t,\n",
    "[\t0.38028169\t,\t0.591549296\t,\t0.802816901\t,\t0.471830986\t,\t0.267605634\t]\t,\n",
    "[\t0.591549296\t,\t0.802816901\t,\t0.471830986\t,\t0.267605634\t,\t0.408450704\t]\t,\n",
    "[\t0.802816901\t,\t0.471830986\t,\t0.267605634\t,\t0.408450704\t,\t0.323943662\t]\t,\n",
    "[\t0.471830986\t,\t0.267605634\t,\t0.408450704\t,\t0.323943662\t,\t0.457746479\t]\t,\n",
    "[\t0.267605634\t,\t0.408450704\t,\t0.323943662\t,\t0.457746479\t,\t0.816901408\t]\t,\n",
    "[\t0.408450704\t,\t0.323943662\t,\t0.457746479\t,\t0.816901408\t,\t0.753521127\t]\t,\n",
    "[\t0.323943662\t,\t0.457746479\t,\t0.816901408\t,\t0.753521127\t,\t0.436619718\t]\t,\n",
    "[\t0.457746479\t,\t0.816901408\t,\t0.753521127\t,\t0.436619718\t,\t0.457746479\t]\t,\n",
    "[\t0.816901408\t,\t0.753521127\t,\t0.436619718\t,\t0.457746479\t,\t0.387323944\t]\t,\n",
    "[\t0.753521127\t,\t0.436619718\t,\t0.457746479\t,\t0.387323944\t,\t0.464788732\t]\t,\n",
    "[\t0.436619718\t,\t0.457746479\t,\t0.387323944\t,\t0.464788732\t,\t0.732394366\t]\t,\n",
    "[\t0.457746479\t,\t0.387323944\t,\t0.464788732\t,\t0.732394366\t,\t0.514084507\t]\t,\n",
    "[\t0.387323944\t,\t0.464788732\t,\t0.732394366\t,\t0.514084507\t,\t0.281690141\t]\t,\n",
    "[\t0.464788732\t,\t0.732394366\t,\t0.514084507\t,\t0.281690141\t,\t0.190140845\t]\t,\n",
    "[\t0.732394366\t,\t0.514084507\t,\t0.281690141\t,\t0.190140845\t,\t0.514084507\t]\t,\n",
    "[\t0.514084507\t,\t0.281690141\t,\t0.190140845\t,\t0.514084507\t,\t0.507042254\t]\t,\n",
    "[\t0.281690141\t,\t0.190140845\t,\t0.514084507\t,\t0.507042254\t,\t0.753521127\t]\t,\n",
    "[\t0.190140845\t,\t0.514084507\t,\t0.507042254\t,\t0.753521127\t,\t0.542253521\t]\t,\n",
    "[\t0.514084507\t,\t0.507042254\t,\t0.753521127\t,\t0.542253521\t,\t0.26056338\t]\t,\n",
    "[\t0.507042254\t,\t0.753521127\t,\t0.542253521\t,\t0.26056338\t,\t0.394366197\t]\t,\n",
    "[\t0.753521127\t,\t0.542253521\t,\t0.26056338\t,\t0.394366197\t,\t0.626760563\t]\t,\n",
    "[\t0.542253521\t,\t0.26056338\t,\t0.394366197\t,\t0.626760563\t,\t0.795774648\t]\t,\n",
    "[\t0.26056338\t,\t0.394366197\t,\t0.626760563\t,\t0.795774648\t,\t0.704225352\t]\t,\n",
    "[\t0.394366197\t,\t0.626760563\t,\t0.795774648\t,\t0.704225352\t,\t0.535211268\t]\t,\n",
    "[\t0.626760563\t,\t0.795774648\t,\t0.704225352\t,\t0.535211268\t,\t0.401408451\t]\t,\n",
    "[\t0.795774648\t,\t0.704225352\t,\t0.535211268\t,\t0.401408451\t,\t0.126760563\t]\t,\n",
    "[\t0.704225352\t,\t0.535211268\t,\t0.401408451\t,\t0.126760563\t,\t0.330985915\t]\t,\n",
    "[\t0.535211268\t,\t0.401408451\t,\t0.126760563\t,\t0.330985915\t,\t0.415492958\t]\t,\n",
    "[\t0.401408451\t,\t0.126760563\t,\t0.330985915\t,\t0.415492958\t,\t0.556338028\t]\t,\n",
    "[\t0.126760563\t,\t0.330985915\t,\t0.415492958\t,\t0.556338028\t,\t0.591549296\t]\t,\n",
    "\n",
    ")           \n",
    ",dtype=float)\n",
    "y=np.array(([\t0.697183099\t]\t,\n",
    "[\t0.971830986\t]\t,\n",
    "[\t0.591549296\t]\t,\n",
    "[\t0.281690141\t]\t,\n",
    "[\t0.26056338\t]\t,\n",
    "[\t0.464788732\t]\t,\n",
    "[\t0.992957746\t]\t,\n",
    "[\t0.676056338\t]\t,\n",
    "[\t0.253521127\t]\t,\n",
    "[\t0.450704225\t]\t,\n",
    "[\t0\t]\t,\n",
    "[\t0.485915493\t]\t,\n",
    "[\t0.781690141\t]\t,\n",
    "[\t0.802816901\t]\t,\n",
    "[\t0.302816901\t]\t,\n",
    "[\t0.471830986\t]\t,\n",
    "[\t0.415492958\t]\t,\n",
    "[\t0.647887324\t]\t,\n",
    "[\t0.612676056\t]\t,\n",
    "[\t1\t]\t,\n",
    "[\t0.478873239\t]\t,\n",
    "[\t0.302816901\t]\t,\n",
    "[\t0.38028169\t]\t,\n",
    "[\t0.591549296\t]\t,\n",
    "[\t0.802816901\t]\t,\n",
    "[\t0.471830986\t]\t,\n",
    "[\t0.267605634\t]\t,\n",
    "[\t0.408450704\t]\t,\n",
    "[\t0.323943662\t]\t,\n",
    "[\t0.457746479\t]\t,\n",
    "[\t0.816901408\t]\t,\n",
    "[\t0.753521127\t]\t,\n",
    "[\t0.436619718\t]\t,\n",
    "[\t0.457746479\t]\t,\n",
    "[\t0.387323944\t]\t,\n",
    "[\t0.464788732\t]\t,\n",
    "[\t0.732394366\t]\t,\n",
    "[\t0.514084507\t]\t,\n",
    "[\t0.281690141\t]\t,\n",
    "[\t0.190140845\t]\t,\n",
    "[\t0.514084507\t]\t,\n",
    "[\t0.507042254\t]\t,\n",
    "[\t0.753521127\t]\t,\n",
    "[\t0.542253521\t]\t,\n",
    "[\t0.26056338\t]\t,\n",
    "[\t0.394366197\t]\t,\n",
    "[\t0.626760563\t]\t,\n",
    "[\t0.795774648\t]\t,\n",
    "[\t0.704225352\t]\t,\n",
    "[\t0.535211268\t]\t,\n",
    "[\t0.401408451\t]\t,\n",
    "[\t0.126760563\t]\t,\n",
    "[\t0.330985915\t]\t,\n",
    "[\t0.415492958\t]\t,\n",
    "[\t0.556338028\t]\t,\n",
    "[\t0.591549296\t]\t,\n",
    "[\t0.514084507\t]\t,\n",
    "\n",
    ")\n",
    ",dtype=float)\n",
    "\n",
    "dataprediksi = np.array(([\t0.330985915\t,\t0.415492958\t,\t0.556338028\t,\t0.591549296\t,\t0.514084507\t]\t,\n",
    "[\t0.415492958\t,\t0.556338028\t,\t0.591549296\t,\t0.514084507\t,\t0.387323944\t]\t,\n",
    "[\t0.556338028\t,\t0.591549296\t,\t0.514084507\t,\t0.387323944\t,\t0.373239437\t]\t,\n",
    "[\t0.591549296\t,\t0.514084507\t,\t0.387323944\t,\t0.373239437\t,\t0.366197183\t]\t,\n",
    "\n",
    "\n",
    "), dtype=float)\n"
   ]
  },
  {
   "cell_type": "code",
   "execution_count": 7,
   "metadata": {},
   "outputs": [],
   "source": [
    "import matplotlib.pyplot as plot"
   ]
  },
  {
   "cell_type": "code",
   "execution_count": 8,
   "metadata": {},
   "outputs": [],
   "source": [
    "from scipy import optimize"
   ]
  },
  {
   "cell_type": "code",
   "execution_count": 9,
   "metadata": {},
   "outputs": [],
   "source": [
    "class trainer(object):\n",
    "    def __init__(self, N):\n",
    "        #Make Local reference to network:\n",
    "        self.N = N\n",
    "        \n",
    "    def callbackF(self, params):\n",
    "        self.N.setParams(params)\n",
    "        self.J.append(self.N.costFunction(self.X, self.y))   \n",
    "        \n",
    "    def costFunctionWrapper(self, params, X, y):\n",
    "        self.N.setParams(params)\n",
    "        cost = self.N.costFunction(X, y)\n",
    "        grad = self.N.computeGradients(X,y)\n",
    "        \n",
    "        return cost, grad\n",
    "        \n",
    "    def train(self, X, y):\n",
    "        #Make an internal variable for the callback function:\n",
    "        self.X = X\n",
    "        self.y = y\n",
    "\n",
    "        #Make empty list to store costs:\n",
    "        self.J = []\n",
    "        \n",
    "        params0 = self.N.getParams()\n",
    "\n",
    "        options = {'maxiter': 100, 'disp' : True}\n",
    "        _res = optimize.minimize(self.costFunctionWrapper, params0, jac=True, method='BFGS', \\\n",
    "                                 args=(X, y), options=options, callback=self.callbackF)\n",
    "\n",
    "        self.N.setParams(_res.x)\n",
    "        self.optimizationResults = _res"
   ]
  },
  {
   "cell_type": "code",
   "execution_count": 10,
   "metadata": {},
   "outputs": [],
   "source": [
    "NN=Neural_Network()"
   ]
  },
  {
   "cell_type": "code",
   "execution_count": 11,
   "metadata": {},
   "outputs": [],
   "source": [
    "T = trainer(NN)"
   ]
  },
  {
   "cell_type": "code",
   "execution_count": 12,
   "metadata": {},
   "outputs": [
    {
     "name": "stdout",
     "output_type": "stream",
     "text": [
      "Warning: Maximum number of iterations has been exceeded.\n",
      "         Current function value: 0.515855\n",
      "         Iterations: 100\n",
      "         Function evaluations: 105\n",
      "         Gradient evaluations: 105\n"
     ]
    }
   ],
   "source": [
    "#Train network with new data:\n",
    "T = trainer(NN)\n",
    "T.train(X,y)"
   ]
  },
  {
   "cell_type": "code",
   "execution_count": 13,
   "metadata": {},
   "outputs": [
    {
     "data": {
      "image/png": "[encoded data removed]",
      "text/plain": [
       "<Figure size 432x288 with 1 Axes>"
      ]
     },
     "metadata": {
      "needs_background": "light"
     },
     "output_type": "display_data"
    }
   ],
   "source": [
    "#Plot cost during training:\n",
    "plot.plot(T.J)\n",
    "plot.grid(1)\n",
    "plot.xlabel('Iterations')\n",
    "plot.ylabel('Cost')\n",
    "plot.show()"
   ]
  },
  {
   "cell_type": "code",
   "execution_count": 14,
   "metadata": {},
   "outputs": [],
   "source": [
    "#Training Data:\n",
    "trainX = np.array(([\t0.147887324\t,\t0.063380282\t,\t0.436619718\t,\t0.570422535\t,\t0.669014085\t]\t,\n",
    "[\t0.063380282\t,\t0.436619718\t,\t0.570422535\t,\t0.669014085\t,\t0.697183099\t]\t,\n",
    "[\t0.436619718\t,\t0.570422535\t,\t0.669014085\t,\t0.697183099\t,\t0.971830986\t]\t,\n",
    "[\t0.570422535\t,\t0.669014085\t,\t0.697183099\t,\t0.971830986\t,\t0.591549296\t]\t,\n",
    "[\t0.669014085\t,\t0.697183099\t,\t0.971830986\t,\t0.591549296\t,\t0.281690141\t]\t,\n",
    "[\t0.697183099\t,\t0.971830986\t,\t0.591549296\t,\t0.281690141\t,\t0.26056338\t]\t,\n",
    "[\t0.971830986\t,\t0.591549296\t,\t0.281690141\t,\t0.26056338\t,\t0.464788732\t]\t,\n",
    "[\t0.591549296\t,\t0.281690141\t,\t0.26056338\t,\t0.464788732\t,\t0.992957746\t]\t,\n",
    "[\t0.281690141\t,\t0.26056338\t,\t0.464788732\t,\t0.992957746\t,\t0.676056338\t]\t,\n",
    "[\t0.26056338\t,\t0.464788732\t,\t0.992957746\t,\t0.676056338\t,\t0.253521127\t]\t,\n",
    "[\t0.464788732\t,\t0.992957746\t,\t0.676056338\t,\t0.253521127\t,\t0.450704225\t]\t,\n",
    "[\t0.992957746\t,\t0.676056338\t,\t0.253521127\t,\t0.450704225\t,\t0\t]\t,\n",
    "[\t0.676056338\t,\t0.253521127\t,\t0.450704225\t,\t0\t,\t0.485915493\t]\t,\n",
    "[\t0.253521127\t,\t0.450704225\t,\t0\t,\t0.485915493\t,\t0.781690141\t]\t,\n",
    "[\t0.450704225\t,\t0\t,\t0.485915493\t,\t0.781690141\t,\t0.802816901\t]\t,\n",
    "[\t0\t,\t0.485915493\t,\t0.781690141\t,\t0.802816901\t,\t0.302816901\t]\t,\n",
    "[\t0.485915493\t,\t0.781690141\t,\t0.802816901\t,\t0.302816901\t,\t0.471830986\t]\t,\n",
    "[\t0.781690141\t,\t0.802816901\t,\t0.302816901\t,\t0.471830986\t,\t0.415492958\t]\t,\n",
    "[\t0.802816901\t,\t0.302816901\t,\t0.471830986\t,\t0.415492958\t,\t0.647887324\t]\t,\n",
    "[\t0.302816901\t,\t0.471830986\t,\t0.415492958\t,\t0.647887324\t,\t0.612676056\t]\t,\n",
    "[\t0.471830986\t,\t0.415492958\t,\t0.647887324\t,\t0.612676056\t,\t1\t]\t,\n",
    "[\t0.415492958\t,\t0.647887324\t,\t0.612676056\t,\t1\t,\t0.478873239\t]\t,\n",
    "[\t0.647887324\t,\t0.612676056\t,\t1\t,\t0.478873239\t,\t0.302816901\t]\t,\n",
    "[\t0.612676056\t,\t1\t,\t0.478873239\t,\t0.302816901\t,\t0.38028169\t]\t,\n",
    "[\t1\t,\t0.478873239\t,\t0.302816901\t,\t0.38028169\t,\t0.591549296\t]\t,\n",
    "[\t0.478873239\t,\t0.302816901\t,\t0.38028169\t,\t0.591549296\t,\t0.802816901\t]\t,\n",
    "[\t0.302816901\t,\t0.38028169\t,\t0.591549296\t,\t0.802816901\t,\t0.471830986\t]\t,\n",
    "[\t0.38028169\t,\t0.591549296\t,\t0.802816901\t,\t0.471830986\t,\t0.267605634\t]\t,\n",
    "[\t0.591549296\t,\t0.802816901\t,\t0.471830986\t,\t0.267605634\t,\t0.408450704\t]\t,\n",
    "[\t0.802816901\t,\t0.471830986\t,\t0.267605634\t,\t0.408450704\t,\t0.323943662\t]\t,\n",
    "[\t0.471830986\t,\t0.267605634\t,\t0.408450704\t,\t0.323943662\t,\t0.457746479\t]\t,\n",
    "[\t0.267605634\t,\t0.408450704\t,\t0.323943662\t,\t0.457746479\t,\t0.816901408\t]\t,\n",
    "[\t0.408450704\t,\t0.323943662\t,\t0.457746479\t,\t0.816901408\t,\t0.753521127\t]\t,\n",
    "[\t0.323943662\t,\t0.457746479\t,\t0.816901408\t,\t0.753521127\t,\t0.436619718\t]\t,\n",
    "[\t0.457746479\t,\t0.816901408\t,\t0.753521127\t,\t0.436619718\t,\t0.457746479\t]\t,\n",
    "[\t0.816901408\t,\t0.753521127\t,\t0.436619718\t,\t0.457746479\t,\t0.387323944\t]\t,\n",
    "[\t0.753521127\t,\t0.436619718\t,\t0.457746479\t,\t0.387323944\t,\t0.464788732\t]\t,\n",
    "[\t0.436619718\t,\t0.457746479\t,\t0.387323944\t,\t0.464788732\t,\t0.732394366\t]\t,\n",
    "[\t0.457746479\t,\t0.387323944\t,\t0.464788732\t,\t0.732394366\t,\t0.514084507\t]\t,\n",
    "[\t0.387323944\t,\t0.464788732\t,\t0.732394366\t,\t0.514084507\t,\t0.281690141\t]\t,\n",
    "[\t0.464788732\t,\t0.732394366\t,\t0.514084507\t,\t0.281690141\t,\t0.190140845\t]\t,\n",
    "[\t0.732394366\t,\t0.514084507\t,\t0.281690141\t,\t0.190140845\t,\t0.514084507\t]\t,\n",
    "[\t0.514084507\t,\t0.281690141\t,\t0.190140845\t,\t0.514084507\t,\t0.507042254\t]\t,\n",
    "[\t0.281690141\t,\t0.190140845\t,\t0.514084507\t,\t0.507042254\t,\t0.753521127\t]\t,\n",
    "[\t0.190140845\t,\t0.514084507\t,\t0.507042254\t,\t0.753521127\t,\t0.542253521\t]\t,\n",
    "\n",
    ")\n",
    ", dtype=float)\n",
    "trainY = np.array(([\t0.697183099\t]\t,\n",
    "[\t0.971830986\t]\t,\n",
    "[\t0.591549296\t]\t,\n",
    "[\t0.281690141\t]\t,\n",
    "[\t0.26056338\t]\t,\n",
    "[\t0.464788732\t]\t,\n",
    "[\t0.992957746\t]\t,\n",
    "[\t0.676056338\t]\t,\n",
    "[\t0.253521127\t]\t,\n",
    "[\t0.450704225\t]\t,\n",
    "[\t0\t]\t,\n",
    "[\t0.485915493\t]\t,\n",
    "[\t0.781690141\t]\t,\n",
    "[\t0.802816901\t]\t,\n",
    "[\t0.302816901\t]\t,\n",
    "[\t0.471830986\t]\t,\n",
    "[\t0.415492958\t]\t,\n",
    "[\t0.647887324\t]\t,\n",
    "[\t0.612676056\t]\t,\n",
    "[\t1\t]\t,\n",
    "[\t0.478873239\t]\t,\n",
    "[\t0.302816901\t]\t,\n",
    "[\t0.38028169\t]\t,\n",
    "[\t0.591549296\t]\t,\n",
    "[\t0.802816901\t]\t,\n",
    "[\t0.471830986\t]\t,\n",
    "[\t0.267605634\t]\t,\n",
    "[\t0.408450704\t]\t,\n",
    "[\t0.323943662\t]\t,\n",
    "[\t0.457746479\t]\t,\n",
    "[\t0.816901408\t]\t,\n",
    "[\t0.753521127\t]\t,\n",
    "[\t0.436619718\t]\t,\n",
    "[\t0.457746479\t]\t,\n",
    "[\t0.387323944\t]\t,\n",
    "[\t0.464788732\t]\t,\n",
    "[\t0.732394366\t]\t,\n",
    "[\t0.514084507\t]\t,\n",
    "[\t0.281690141\t]\t,\n",
    "[\t0.190140845\t]\t,\n",
    "[\t0.514084507\t]\t,\n",
    "[\t0.507042254\t]\t,\n",
    "[\t0.753521127\t]\t,\n",
    "[\t0.542253521\t]\t,\n",
    "[\t0.26056338\t]\t,\n",
    "\n",
    ")\n",
    ", dtype=float)\n",
    "\n",
    "#Testing Data:\n",
    "testX = np.array(([\t0.514084507\t,\t0.507042254\t,\t0.753521127\t,\t0.542253521\t,\t0.26056338\t]\t,\n",
    "[\t0.507042254\t,\t0.753521127\t,\t0.542253521\t,\t0.26056338\t,\t0.394366197\t]\t,\n",
    "[\t0.753521127\t,\t0.542253521\t,\t0.26056338\t,\t0.394366197\t,\t0.626760563\t]\t,\n",
    "[\t0.542253521\t,\t0.26056338\t,\t0.394366197\t,\t0.626760563\t,\t0.795774648\t]\t,\n",
    "[\t0.26056338\t,\t0.394366197\t,\t0.626760563\t,\t0.795774648\t,\t0.704225352\t]\t,\n",
    "[\t0.394366197\t,\t0.626760563\t,\t0.795774648\t,\t0.704225352\t,\t0.535211268\t]\t,\n",
    "[\t0.626760563\t,\t0.795774648\t,\t0.704225352\t,\t0.535211268\t,\t0.401408451\t]\t,\n",
    "[\t0.795774648\t,\t0.704225352\t,\t0.535211268\t,\t0.401408451\t,\t0.126760563\t]\t,\n",
    "[\t0.704225352\t,\t0.535211268\t,\t0.401408451\t,\t0.126760563\t,\t0.330985915\t]\t,\n",
    "[\t0.535211268\t,\t0.401408451\t,\t0.126760563\t,\t0.330985915\t,\t0.415492958\t]\t,\n",
    "[\t0.401408451\t,\t0.126760563\t,\t0.330985915\t,\t0.415492958\t,\t0.556338028\t]\t,\n",
    "[\t0.126760563\t,\t0.330985915\t,\t0.415492958\t,\t0.556338028\t,\t0.591549296\t]\t,\n",
    "\n",
    ")\n",
    ", dtype=float)\n",
    "testY = np.array(([\t0.394366197\t]\t,\n",
    "[\t0.626760563\t]\t,\n",
    "[\t0.795774648\t]\t,\n",
    "[\t0.704225352\t]\t,\n",
    "[\t0.535211268\t]\t,\n",
    "[\t0.401408451\t]\t,\n",
    "[\t0.126760563\t]\t,\n",
    "[\t0.330985915\t]\t,\n",
    "[\t0.415492958\t]\t,\n",
    "[\t0.556338028\t]\t,\n",
    "[\t0.591549296\t]\t,\n",
    "[\t0.514084507\t]\t,\n",
    "\n",
    ")\n",
    ", dtype=float)\n",
    "\n",
    "\n",
    "dataprediksi = np.array(([\t0.330985915\t,\t0.415492958\t,\t0.556338028\t,\t0.591549296\t,\t0.514084507\t]\t,\n",
    "[\t0.415492958\t,\t0.556338028\t,\t0.591549296\t,\t0.514084507\t,\t0.387323944\t]\t,\n",
    "[\t0.556338028\t,\t0.591549296\t,\t0.514084507\t,\t0.387323944\t,\t0.373239437\t]\t,\n",
    "[\t0.591549296\t,\t0.514084507\t,\t0.387323944\t,\t0.373239437\t,\t0.366197183\t]\t,\n",
    "\n",
    "\n",
    "), dtype=float)"
   ]
  },
  {
   "cell_type": "code",
   "execution_count": 15,
   "metadata": {},
   "outputs": [
    {
     "data": {
      "text/plain": [
       "array([[0.51408451, 0.50704225, 0.75352113, 0.54225352, 0.26056338],\n",
       "       [0.50704225, 0.75352113, 0.54225352, 0.26056338, 0.3943662 ],\n",
       "       [0.75352113, 0.54225352, 0.26056338, 0.3943662 , 0.62676056],\n",
       "       [0.54225352, 0.26056338, 0.3943662 , 0.62676056, 0.79577465],\n",
       "       [0.26056338, 0.3943662 , 0.62676056, 0.79577465, 0.70422535],\n",
       "       [0.3943662 , 0.62676056, 0.79577465, 0.70422535, 0.53521127],\n",
       "       [0.62676056, 0.79577465, 0.70422535, 0.53521127, 0.40140845],\n",
       "       [0.79577465, 0.70422535, 0.53521127, 0.40140845, 0.12676056],\n",
       "       [0.70422535, 0.53521127, 0.40140845, 0.12676056, 0.33098592],\n",
       "       [0.53521127, 0.40140845, 0.12676056, 0.33098592, 0.41549296],\n",
       "       [0.40140845, 0.12676056, 0.33098592, 0.41549296, 0.55633803],\n",
       "       [0.12676056, 0.33098592, 0.41549296, 0.55633803, 0.5915493 ]])"
      ]
     },
     "execution_count": 15,
     "metadata": {},
     "output_type": "execute_result"
    }
   ],
   "source": [
    "testX"
   ]
  },
  {
   "cell_type": "code",
   "execution_count": 16,
   "metadata": {},
   "outputs": [],
   "source": [
    "##Need to modify trainer class a bit to check testing error during training:\n",
    "class trainer(object):\n",
    "    def __init__(self, N):\n",
    "        #Make Local reference to network:\n",
    "        self.N = N\n",
    "        \n",
    "    def callbackF(self, params):\n",
    "        self.N.setParams(params)\n",
    "        self.J.append(self.N.costFunction(self.X, self.y))\n",
    "        self.testJ.append(self.N.costFunction(self.testX, self.testY))\n",
    "        \n",
    "    def costFunctionWrapper(self, params, X, y):\n",
    "        self.N.setParams(params)\n",
    "        cost = self.N.costFunction(X, y)\n",
    "        grad = self.N.computeGradients(X,y)\n",
    "        \n",
    "        return cost, grad\n",
    "        \n",
    "    def train(self, trainX, trainY, testX, testY):\n",
    "        #Make an internal variable for the callback function:\n",
    "        self.X = trainX\n",
    "        self.y = trainY\n",
    "        \n",
    "        self.testX = testX\n",
    "        self.testY = testY\n",
    "\n",
    "        #Make empty list to store training costs:\n",
    "        self.J = []\n",
    "        self.testJ = []\n",
    "        \n",
    "        params0 = self.N.getParams()\n",
    "\n",
    "        options = {'maxiter': 100, 'disp' : True}\n",
    "        _res = optimize.minimize(self.costFunctionWrapper, params0, jac=True, method='BFGS', \\\n",
    "                                 args=(trainX, trainY), options=options, callback=self.callbackF)\n",
    "\n",
    "        self.N.setParams(_res.x)\n",
    "        self.optimizationResults = _res"
   ]
  },
  {
   "cell_type": "code",
   "execution_count": 17,
   "metadata": {},
   "outputs": [
    {
     "name": "stdout",
     "output_type": "stream",
     "text": [
      "Warning: Maximum number of iterations has been exceeded.\n",
      "         Current function value: 0.322357\n",
      "         Iterations: 100\n",
      "         Function evaluations: 106\n",
      "         Gradient evaluations: 106\n"
     ]
    }
   ],
   "source": [
    "#Train network with new data:\n",
    "NN = Neural_Network()\n",
    "\n",
    "T = trainer(NN)\n",
    "T.train(trainX, trainY, testX, testY)"
   ]
  },
  {
   "cell_type": "code",
   "execution_count": 18,
   "metadata": {},
   "outputs": [
    {
     "data": {
      "image/png": "[encoded data removed]",
      "text/plain": [
       "<Figure size 432x288 with 1 Axes>"
      ]
     },
     "metadata": {
      "needs_background": "light"
     },
     "output_type": "display_data"
    }
   ],
   "source": [
    "#Plot cost during training:\n",
    "plot.plot(T.J)\n",
    "plot.plot(T.testJ)\n",
    "plot.grid(1)\n",
    "plot.xlabel('Iterations')\n",
    "plot.ylabel('Cost')\n",
    "plot.legend(['Training', 'Testing'])\n",
    "plot.show()"
   ]
  },
  {
   "cell_type": "code",
   "execution_count": 19,
   "metadata": {},
   "outputs": [
    {
     "data": {
      "text/plain": [
       "[array([1.23386566]),\n",
       " array([0.9799313]),\n",
       " array([0.94283389]),\n",
       " array([0.87794045]),\n",
       " array([0.78255716]),\n",
       " array([0.75351742]),\n",
       " array([0.74563232]),\n",
       " array([0.73130018]),\n",
       " array([0.70898237]),\n",
       " array([0.69483211]),\n",
       " array([0.68933564]),\n",
       " array([0.68061357]),\n",
       " array([0.67312487]),\n",
       " array([0.67126243]),\n",
       " array([0.66824514]),\n",
       " array([0.66352028]),\n",
       " array([0.65630679]),\n",
       " array([0.64509029]),\n",
       " array([0.63134601]),\n",
       " array([0.62446506]),\n",
       " array([0.6173584]),\n",
       " array([0.60962037]),\n",
       " array([0.60322996]),\n",
       " array([0.59342994]),\n",
       " array([0.58464288]),\n",
       " array([0.58172022]),\n",
       " array([0.5787211]),\n",
       " array([0.57504557]),\n",
       " array([0.56882476]),\n",
       " array([0.56220145]),\n",
       " array([0.56032931]),\n",
       " array([0.55721607]),\n",
       " array([0.55296457]),\n",
       " array([0.55063393]),\n",
       " array([0.54695723]),\n",
       " array([0.54152046]),\n",
       " array([0.53733274]),\n",
       " array([0.53087824]),\n",
       " array([0.52755253]),\n",
       " array([0.52667907]),\n",
       " array([0.52632694]),\n",
       " array([0.52568142]),\n",
       " array([0.52454869]),\n",
       " array([0.5227257]),\n",
       " array([0.5202461]),\n",
       " array([0.51754644]),\n",
       " array([0.5134744]),\n",
       " array([0.50937522]),\n",
       " array([0.50686698]),\n",
       " array([0.50428514]),\n",
       " array([0.50222594]),\n",
       " array([0.50078455]),\n",
       " array([0.49900977]),\n",
       " array([0.49588577]),\n",
       " array([0.49057028]),\n",
       " array([0.48351684]),\n",
       " array([0.48034424]),\n",
       " array([0.47728882]),\n",
       " array([0.47390086]),\n",
       " array([0.46910374]),\n",
       " array([0.46198801]),\n",
       " array([0.45246353]),\n",
       " array([0.44380237]),\n",
       " array([0.43568528]),\n",
       " array([0.42816195]),\n",
       " array([0.42418475]),\n",
       " array([0.42065647]),\n",
       " array([0.41910172]),\n",
       " array([0.41805513]),\n",
       " array([0.41743736]),\n",
       " array([0.41639216]),\n",
       " array([0.41460452]),\n",
       " array([0.41164589]),\n",
       " array([0.40764047]),\n",
       " array([0.40559049]),\n",
       " array([0.40512823]),\n",
       " array([0.40441139]),\n",
       " array([0.40342098]),\n",
       " array([0.40268456]),\n",
       " array([0.4014597]),\n",
       " array([0.39956776]),\n",
       " array([0.39699967]),\n",
       " array([0.39299891]),\n",
       " array([0.38922167]),\n",
       " array([0.38401843]),\n",
       " array([0.37905888]),\n",
       " array([0.37073084]),\n",
       " array([0.35838628]),\n",
       " array([0.35063783]),\n",
       " array([0.34632073]),\n",
       " array([0.34607997]),\n",
       " array([0.34394332]),\n",
       " array([0.34042716]),\n",
       " array([0.33604514]),\n",
       " array([0.33351986]),\n",
       " array([0.33040387]),\n",
       " array([0.32647932]),\n",
       " array([0.32541267]),\n",
       " array([0.32427861]),\n",
       " array([0.32235684])]"
      ]
     },
     "execution_count": 19,
     "metadata": {},
     "output_type": "execute_result"
    }
   ],
   "source": [
    "T.J"
   ]
  },
  {
   "cell_type": "code",
   "execution_count": 20,
   "metadata": {},
   "outputs": [
    {
     "data": {
      "text/plain": [
       "[array([0.20973725]),\n",
       " array([0.165844]),\n",
       " array([0.15711399]),\n",
       " array([0.13660648]),\n",
       " array([0.09815677]),\n",
       " array([0.07822089]),\n",
       " array([0.0801515]),\n",
       " array([0.0832022]),\n",
       " array([0.09104592]),\n",
       " array([0.1037549]),\n",
       " array([0.10700674]),\n",
       " array([0.11098034]),\n",
       " array([0.11409203]),\n",
       " array([0.11391864]),\n",
       " array([0.1145487]),\n",
       " array([0.11308559]),\n",
       " array([0.11564214]),\n",
       " array([0.11639376]),\n",
       " array([0.12354236]),\n",
       " array([0.1262804]),\n",
       " array([0.13376867]),\n",
       " array([0.13945012]),\n",
       " array([0.14648523]),\n",
       " array([0.14967455]),\n",
       " array([0.15142691]),\n",
       " array([0.15409676]),\n",
       " array([0.15577901]),\n",
       " array([0.16094534]),\n",
       " array([0.16054771]),\n",
       " array([0.15375487]),\n",
       " array([0.15407214]),\n",
       " array([0.15247623]),\n",
       " array([0.14672274]),\n",
       " array([0.14504648]),\n",
       " array([0.14347183]),\n",
       " array([0.14611433]),\n",
       " array([0.14523849]),\n",
       " array([0.14755271]),\n",
       " array([0.15076117]),\n",
       " array([0.15061634]),\n",
       " array([0.15143612]),\n",
       " array([0.15237798]),\n",
       " array([0.15363447]),\n",
       " array([0.15540893]),\n",
       " array([0.15754685]),\n",
       " array([0.15866846]),\n",
       " array([0.15816365]),\n",
       " array([0.15547288]),\n",
       " array([0.15580265]),\n",
       " array([0.15349538]),\n",
       " array([0.14916067]),\n",
       " array([0.14745466]),\n",
       " array([0.1442542]),\n",
       " array([0.14339948]),\n",
       " array([0.14399726]),\n",
       " array([0.14776811]),\n",
       " array([0.15224611]),\n",
       " array([0.15696422]),\n",
       " array([0.16347327]),\n",
       " array([0.16836555]),\n",
       " array([0.17611383]),\n",
       " array([0.17672422]),\n",
       " array([0.17096974]),\n",
       " array([0.1634585]),\n",
       " array([0.16511996]),\n",
       " array([0.16579227]),\n",
       " array([0.16916673]),\n",
       " array([0.17068868]),\n",
       " array([0.17046441]),\n",
       " array([0.16971281]),\n",
       " array([0.16924097]),\n",
       " array([0.16901396]),\n",
       " array([0.16959568]),\n",
       " array([0.171796]),\n",
       " array([0.17123253]),\n",
       " array([0.17317763]),\n",
       " array([0.17196042]),\n",
       " array([0.16914042]),\n",
       " array([0.16821186]),\n",
       " array([0.16711747]),\n",
       " array([0.16709798]),\n",
       " array([0.16554101]),\n",
       " array([0.16498709]),\n",
       " array([0.16912926]),\n",
       " array([0.16784687]),\n",
       " array([0.17146047]),\n",
       " array([0.17202101]),\n",
       " array([0.17203861]),\n",
       " array([0.17772826]),\n",
       " array([0.18207347]),\n",
       " array([0.18169714]),\n",
       " array([0.18230451]),\n",
       " array([0.18380721]),\n",
       " array([0.19108694]),\n",
       " array([0.19332639]),\n",
       " array([0.19830904]),\n",
       " array([0.20306465]),\n",
       " array([0.20299118]),\n",
       " array([0.20206057]),\n",
       " array([0.20156212])]"
      ]
     },
     "execution_count": 20,
     "metadata": {},
     "output_type": "execute_result"
    }
   ],
   "source": [
    "T.testJ"
   ]
  },
  {
   "cell_type": "code",
   "execution_count": 21,
   "metadata": {},
   "outputs": [
    {
     "data": {
      "text/plain": [
       "0.36431423266894974"
      ]
     },
     "execution_count": 21,
     "metadata": {},
     "output_type": "execute_result"
    }
   ],
   "source": [
    "from sklearn.metrics import mean_absolute_error\n",
    "mean_absolute_error(T.J, T.testJ)"
   ]
  },
  {
   "cell_type": "code",
   "execution_count": 22,
   "metadata": {},
   "outputs": [],
   "source": [
    "yHat = NN.forward(X)"
   ]
  },
  {
   "cell_type": "code",
   "execution_count": 23,
   "metadata": {},
   "outputs": [
    {
     "data": {
      "text/plain": [
       "array([[0.6930459 ],\n",
       "       [0.89550017],\n",
       "       [0.59953728],\n",
       "       [0.23681739],\n",
       "       [0.24542044],\n",
       "       [0.48258346],\n",
       "       [0.80121655],\n",
       "       [0.57158236],\n",
       "       [0.23234517],\n",
       "       [0.30531546],\n",
       "       [0.247078  ],\n",
       "       [0.5056388 ],\n",
       "       [0.70884838],\n",
       "       [0.86727772],\n",
       "       [0.28206919],\n",
       "       [0.44502768],\n",
       "       [0.2565781 ],\n",
       "       [0.58112857],\n",
       "       [0.73623877],\n",
       "       [0.6721945 ],\n",
       "       [0.51504892],\n",
       "       [0.22467804],\n",
       "       [0.3663282 ],\n",
       "       [0.42348126],\n",
       "       [0.85339625],\n",
       "       [0.61210219],\n",
       "       [0.28136026],\n",
       "       [0.41509716],\n",
       "       [0.39156519],\n",
       "       [0.58880611],\n",
       "       [0.68960889],\n",
       "       [0.74129633],\n",
       "       [0.46817706],\n",
       "       [0.35816986],\n",
       "       [0.32662957],\n",
       "       [0.52652822],\n",
       "       [0.70936661],\n",
       "       [0.62498622],\n",
       "       [0.33154965],\n",
       "       [0.39879771],\n",
       "       [0.46797367],\n",
       "       [0.66919471],\n",
       "       [0.63951878],\n",
       "       [0.61069404],\n",
       "       [0.61086836],\n",
       "       [0.29611154],\n",
       "       [0.33907768],\n",
       "       [0.70117495],\n",
       "       [0.57760596],\n",
       "       [0.62665032],\n",
       "       [0.56673489],\n",
       "       [0.34135102],\n",
       "       [0.37728689],\n",
       "       [0.65994682],\n",
       "       [0.75744393],\n",
       "       [0.66274699],\n",
       "       [0.8248418 ]])"
      ]
     },
     "execution_count": 23,
     "metadata": {},
     "output_type": "execute_result"
    }
   ],
   "source": [
    "yHat"
   ]
  },
  {
   "cell_type": "code",
   "execution_count": 24,
   "metadata": {},
   "outputs": [
    {
     "data": {
      "text/plain": [
       "array([[0.6971831 ],\n",
       "       [0.97183099],\n",
       "       [0.5915493 ],\n",
       "       [0.28169014],\n",
       "       [0.26056338],\n",
       "       [0.46478873],\n",
       "       [0.99295775],\n",
       "       [0.67605634],\n",
       "       [0.25352113],\n",
       "       [0.45070423],\n",
       "       [0.        ],\n",
       "       [0.48591549],\n",
       "       [0.78169014],\n",
       "       [0.8028169 ],\n",
       "       [0.3028169 ],\n",
       "       [0.47183099],\n",
       "       [0.41549296],\n",
       "       [0.64788732],\n",
       "       [0.61267606],\n",
       "       [1.        ],\n",
       "       [0.47887324],\n",
       "       [0.3028169 ],\n",
       "       [0.38028169],\n",
       "       [0.5915493 ],\n",
       "       [0.8028169 ],\n",
       "       [0.47183099],\n",
       "       [0.26760563],\n",
       "       [0.4084507 ],\n",
       "       [0.32394366],\n",
       "       [0.45774648],\n",
       "       [0.81690141],\n",
       "       [0.75352113],\n",
       "       [0.43661972],\n",
       "       [0.45774648],\n",
       "       [0.38732394],\n",
       "       [0.46478873],\n",
       "       [0.73239437],\n",
       "       [0.51408451],\n",
       "       [0.28169014],\n",
       "       [0.19014085],\n",
       "       [0.51408451],\n",
       "       [0.50704225],\n",
       "       [0.75352113],\n",
       "       [0.54225352],\n",
       "       [0.26056338],\n",
       "       [0.3943662 ],\n",
       "       [0.62676056],\n",
       "       [0.79577465],\n",
       "       [0.70422535],\n",
       "       [0.53521127],\n",
       "       [0.40140845],\n",
       "       [0.12676056],\n",
       "       [0.33098592],\n",
       "       [0.41549296],\n",
       "       [0.55633803],\n",
       "       [0.5915493 ],\n",
       "       [0.51408451]])"
      ]
     },
     "execution_count": 24,
     "metadata": {},
     "output_type": "execute_result"
    }
   ],
   "source": [
    "y"
   ]
  },
  {
   "cell_type": "code",
   "execution_count": 25,
   "metadata": {},
   "outputs": [
    {
     "data": {
      "text/plain": [
       "0.018383121500174435"
      ]
     },
     "execution_count": 25,
     "metadata": {},
     "output_type": "execute_result"
    }
   ],
   "source": [
    "from sklearn.metrics import mean_squared_error \n",
    "mean_squared_error(y,yHat) "
   ]
  },
  {
   "cell_type": "code",
   "execution_count": 26,
   "metadata": {},
   "outputs": [
    {
     "data": {
      "image/png": "[encoded data removed]",
      "text/plain": [
       "<Figure size 432x288 with 1 Axes>"
      ]
     },
     "metadata": {
      "needs_background": "light"
     },
     "output_type": "display_data"
    }
   ],
   "source": [
    "#Plot cost during training:\n",
    "plot.plot(y)\n",
    "plot.plot(yHat)\n",
    "plot.grid(1)\n",
    "plot.legend(['y', 'yHat'])\n",
    "plot.show()"
   ]
  },
  {
   "cell_type": "code",
   "execution_count": 27,
   "metadata": {},
   "outputs": [],
   "source": [
    "#Regularization Parameter:\n",
    "Lambda = 0.0001"
   ]
  },
  {
   "cell_type": "code",
   "execution_count": 28,
   "metadata": {},
   "outputs": [],
   "source": [
    "#Need to make changes to costFunction and costFunctionPrim:\n",
    "def costFunction(self, X, y):\n",
    "    #Compute cost for given X,y, use weights already stored in class.\n",
    "    self.yHat = self.forward(X)\n",
    "    #We don't want cost to increase with the number of examples, so normalize by dividing the error term by number of examples(X.shape[0])\n",
    "    J = 0.5*sum((y-self.yHat)**2)/X.shape[0] + (self.Lambda/2)*(sum(self.W1**2)+sum(self.W2**2))\n",
    "    return J\n",
    "\n",
    "def costFunctionPrime(self, X, y):\n",
    "    #Compute derivative with respect to W and W2 for a given X and y:\n",
    "    self.yHat = self.forward(X)\n",
    "\n",
    "    delta3 = np.multiply(-(y-self.yHat), self.sigmoidPrime(self.z3))\n",
    "    #Add gradient of regularization term:\n",
    "    dJdW2 = np.dot(self.a2.T, delta3)/X.shape[0] + self.Lambda*self.W2\n",
    "\n",
    "    delta2 = np.dot(delta3, self.W2.T)*self.sigmoidPrime(self.z2)\n",
    "    #Add gradient of regularization term:\n",
    "    dJdW1 = np.dot(X.T, delta2)/X.shape[0] + self.Lambda*self.W1\n",
    "\n",
    "    return dJdW1, dJdW2"
   ]
  },
  {
   "cell_type": "code",
   "execution_count": 29,
   "metadata": {},
   "outputs": [],
   "source": [
    "#New complete class, with changes:\n",
    "class Neural_Network(object):\n",
    "    def __init__(self, Lambda=0.0001):        \n",
    "        #Define Hyperparameters\n",
    "        self.inputLayerSize = 5\n",
    "        self.outputLayerSize = 1\n",
    "        self.hiddenLayerSize = 8\n",
    "        \n",
    "        #Weights (parameters)\n",
    "        self.W1 = np.random.randn(self.inputLayerSize,self.hiddenLayerSize)\n",
    "        self.W2 = np.random.randn(self.hiddenLayerSize,self.outputLayerSize)\n",
    "        \n",
    "        #Regularization Parameter:\n",
    "        self.Lambda = Lambda\n",
    "        \n",
    "    def forward(self, X):\n",
    "        #Propogate inputs though network\n",
    "        self.z2 = np.dot(X, self.W1)\n",
    "        self.a2 = self.sigmoid(self.z2)\n",
    "        self.z3 = np.dot(self.a2, self.W2)\n",
    "        yHat = self.sigmoid(self.z3) \n",
    "        return yHat\n",
    "        \n",
    "    def sigmoid(self, z):\n",
    "        #Apply sigmoid activation function to scalar, vector, or matrix\n",
    "        return 1/(1+np.exp(-z))\n",
    "    \n",
    "    def sigmoidPrime(self,z):\n",
    "        #Gradient of sigmoid\n",
    "        return np.exp(-z)/((1+np.exp(-z))**2)\n",
    "    \n",
    "    def costFunction(self, X, y):\n",
    "        #Compute cost for given X,y, use weights already stored in class.\n",
    "        self.yHat = self.forward(X)\n",
    "        J = 0.5*sum((y-self.yHat)**2)/X.shape[0] + (self.Lambda/2)*(np.sum(self.W1**2)+np.sum(self.W2**2))\n",
    "        return J\n",
    "        \n",
    "    def costFunctionPrime(self, X, y):\n",
    "        #Compute derivative with respect to W and W2 for a given X and y:\n",
    "        self.yHat = self.forward(X)\n",
    "        \n",
    "        delta3 = np.multiply(-(y-self.yHat), self.sigmoidPrime(self.z3))\n",
    "        #Add gradient of regularization term:\n",
    "        dJdW2 = np.dot(self.a2.T, delta3)/X.shape[0] + self.Lambda*self.W2\n",
    "        \n",
    "        delta2 = np.dot(delta3, self.W2.T)*self.sigmoidPrime(self.z2)\n",
    "        #Add gradient of regularization term:\n",
    "        dJdW1 = np.dot(X.T, delta2)/X.shape[0] + self.Lambda*self.W1\n",
    "        \n",
    "        return dJdW1, dJdW2\n",
    "    \n",
    "    def predict(self):\n",
    "        prediksi = self.forward(dataprediksi)\n",
    "        return prediksi\n",
    "    \n",
    "    #Helper functions for interacting with other methods/classes\n",
    "    def getParams(self):\n",
    "        #Get W1 and W2 Rolled into vector:\n",
    "        params = np.concatenate((self.W1.ravel(), self.W2.ravel()))\n",
    "        return params\n",
    "    \n",
    "    def setParams(self, params):\n",
    "        #Set W1 and W2 using single parameter vector:\n",
    "        W1_start = 0\n",
    "        W1_end = self.hiddenLayerSize*self.inputLayerSize\n",
    "        self.W1 = np.reshape(params[W1_start:W1_end], \\\n",
    "                             (self.inputLayerSize, self.hiddenLayerSize))\n",
    "        W2_end = W1_end + self.hiddenLayerSize*self.outputLayerSize\n",
    "        self.W2 = np.reshape(params[W1_end:W2_end], \\\n",
    "                             (self.hiddenLayerSize, self.outputLayerSize))\n",
    "        \n",
    "    def computeGradients(self, X, y):\n",
    "        dJdW1, dJdW2 = self.costFunctionPrime(X, y)\n",
    "        return np.concatenate((dJdW1.ravel(), dJdW2.ravel()))"
   ]
  },
  {
   "cell_type": "code",
   "execution_count": 30,
   "metadata": {},
   "outputs": [],
   "source": [
    "def computeNumericalGradient(N, X, y):\n",
    "    paramsInitial = N.getParams()\n",
    "    numgrad = np.zeros(paramsInitial.shape)\n",
    "    perturb = np.zeros(paramsInitial.shape)\n",
    "    e = 1e-4\n",
    "\n",
    "    for p in range(len(paramsInitial)):\n",
    "        #Set perturbation vector\n",
    "        perturb[p] = e\n",
    "        N.setParams(paramsInitial + perturb)\n",
    "        loss2 = N.costFunction(X, y)\n",
    "            \n",
    "        N.setParams(paramsInitial - perturb)\n",
    "        loss1 = N.costFunction(X, y)\n",
    "\n",
    "        #Compute Numerical Gradient\n",
    "        numgrad[p] = (loss2 - loss1) / (2*e)\n",
    "\n",
    "            #Return the value we changed to zero:\n",
    "        perturb[p] = 0\n",
    "            \n",
    "    #Return Params to original value:\n",
    "    N.setParams(paramsInitial)\n",
    "\n",
    "    return numgrad "
   ]
  },
  {
   "cell_type": "code",
   "execution_count": 31,
   "metadata": {},
   "outputs": [],
   "source": [
    "NN = Neural_Network(Lambda=0.0001)"
   ]
  },
  {
   "cell_type": "code",
   "execution_count": 32,
   "metadata": {},
   "outputs": [],
   "source": [
    "#Make sure our gradients our correct after making changes:\n",
    "numgrad = computeNumericalGradient(NN, X, y)\n",
    "grad = NN.computeGradients(X,y)"
   ]
  },
  {
   "cell_type": "code",
   "execution_count": 33,
   "metadata": {},
   "outputs": [
    {
     "data": {
      "text/plain": [
       "5.988044243288231e-10"
      ]
     },
     "execution_count": 33,
     "metadata": {},
     "output_type": "execute_result"
    }
   ],
   "source": [
    "#Should be less than 1e-8:\n",
    "np.linalg.norm(grad-numgrad)/np.linalg.norm(grad+numgrad)"
   ]
  },
  {
   "cell_type": "code",
   "execution_count": 34,
   "metadata": {},
   "outputs": [],
   "source": [
    "T = trainer(NN)"
   ]
  },
  {
   "cell_type": "code",
   "execution_count": 35,
   "metadata": {},
   "outputs": [
    {
     "name": "stdout",
     "output_type": "stream",
     "text": [
      "Warning: Maximum number of iterations has been exceeded.\n",
      "         Current function value: 0.014982\n",
      "         Iterations: 100\n",
      "         Function evaluations: 102\n",
      "         Gradient evaluations: 102\n"
     ]
    }
   ],
   "source": [
    "T.train(X,y,testX,testY)"
   ]
  },
  {
   "cell_type": "code",
   "execution_count": 36,
   "metadata": {},
   "outputs": [
    {
     "data": {
      "image/png": "[encoded data removed]",
      "text/plain": [
       "<Figure size 432x288 with 1 Axes>"
      ]
     },
     "metadata": {
      "needs_background": "light"
     },
     "output_type": "display_data"
    }
   ],
   "source": [
    "plot.plot(T.J)\n",
    "plot.plot(T.testJ)\n",
    "plot.grid(1)\n",
    "plot.xlabel('Iterations')\n",
    "plot.ylabel('Cost')\n",
    "plot.legend(['Training', 'Testing'])\n",
    "plot.show()"
   ]
  },
  {
   "cell_type": "code",
   "execution_count": 37,
   "metadata": {},
   "outputs": [
    {
     "data": {
      "text/plain": [
       "[array([0.02840771]),\n",
       " array([0.02742665]),\n",
       " array([0.0270595]),\n",
       " array([0.02676204]),\n",
       " array([0.02620993]),\n",
       " array([0.02518101]),\n",
       " array([0.02333276]),\n",
       " array([0.02038354]),\n",
       " array([0.01812791]),\n",
       " array([0.01789847]),\n",
       " array([0.0178771]),\n",
       " array([0.01786791]),\n",
       " array([0.01785686]),\n",
       " array([0.01784708]),\n",
       " array([0.0178303]),\n",
       " array([0.0178002]),\n",
       " array([0.01774539]),\n",
       " array([0.01764625]),\n",
       " array([0.01747302]),\n",
       " array([0.01720141]),\n",
       " array([0.01697195]),\n",
       " array([0.01689233]),\n",
       " array([0.01681274]),\n",
       " array([0.01679536]),\n",
       " array([0.01678973]),\n",
       " array([0.01677965]),\n",
       " array([0.01676112]),\n",
       " array([0.01672689]),\n",
       " array([0.01666449]),\n",
       " array([0.01655464]),\n",
       " array([0.01637582]),\n",
       " array([0.01614707]),\n",
       " array([0.01602168]),\n",
       " array([0.01590217]),\n",
       " array([0.01585284]),\n",
       " array([0.01584547]),\n",
       " array([0.01584482]),\n",
       " array([0.01584408]),\n",
       " array([0.01584281]),\n",
       " array([0.0158405]),\n",
       " array([0.01583624]),\n",
       " array([0.01582833]),\n",
       " array([0.01581379]),\n",
       " array([0.01578757]),\n",
       " array([0.01574208]),\n",
       " array([0.01566869]),\n",
       " array([0.01557172]),\n",
       " array([0.01550364]),\n",
       " array([0.01542718]),\n",
       " array([0.01539584]),\n",
       " array([0.01538908]),\n",
       " array([0.01538818]),\n",
       " array([0.01538767]),\n",
       " array([0.01538725]),\n",
       " array([0.01538663]),\n",
       " array([0.01538552]),\n",
       " array([0.0153835]),\n",
       " array([0.01537974]),\n",
       " array([0.0153728]),\n",
       " array([0.01536026]),\n",
       " array([0.0153384]),\n",
       " array([0.01530201]),\n",
       " array([0.01524317]),\n",
       " array([0.01516613]),\n",
       " array([0.01514511]),\n",
       " array([0.01513785]),\n",
       " array([0.01513059]),\n",
       " array([0.01512843]),\n",
       " array([0.0151273]),\n",
       " array([0.01512715]),\n",
       " array([0.01512703]),\n",
       " array([0.01512688]),\n",
       " array([0.01512661]),\n",
       " array([0.01512611]),\n",
       " array([0.01512518]),\n",
       " array([0.01512348]),\n",
       " array([0.01512039]),\n",
       " array([0.01511495]),\n",
       " array([0.0151059]),\n",
       " array([0.01509223]),\n",
       " array([0.01507751]),\n",
       " array([0.01506312]),\n",
       " array([0.01505453]),\n",
       " array([0.01505198]),\n",
       " array([0.01505164]),\n",
       " array([0.01505158]),\n",
       " array([0.01505148]),\n",
       " array([0.01505128]),\n",
       " array([0.01505091]),\n",
       " array([0.01505024]),\n",
       " array([0.01504903]),\n",
       " array([0.01504692]),\n",
       " array([0.01504336]),\n",
       " array([0.01503748]),\n",
       " array([0.0150281]),\n",
       " array([0.01501498]),\n",
       " array([0.01500539]),\n",
       " array([0.01499477]),\n",
       " array([0.01498727]),\n",
       " array([0.01498159])]"
      ]
     },
     "execution_count": 37,
     "metadata": {},
     "output_type": "execute_result"
    }
   ],
   "source": [
    "T.J"
   ]
  },
  {
   "cell_type": "code",
   "execution_count": 38,
   "metadata": {},
   "outputs": [
    {
     "data": {
      "text/plain": [
       "[array([0.01863214]),\n",
       " array([0.01797073]),\n",
       " array([0.01792849]),\n",
       " array([0.01783589]),\n",
       " array([0.01752262]),\n",
       " array([0.01684002]),\n",
       " array([0.01551002]),\n",
       " array([0.01321364]),\n",
       " array([0.01116222]),\n",
       " array([0.01082562]),\n",
       " array([0.01074288]),\n",
       " array([0.01069047]),\n",
       " array([0.0106228]),\n",
       " array([0.01057707]),\n",
       " array([0.01052311]),\n",
       " array([0.01044749]),\n",
       " array([0.01032827]),\n",
       " array([0.01012933]),\n",
       " array([0.0097917]),\n",
       " array([0.00923171]),\n",
       " array([0.00863047]),\n",
       " array([0.00848675]),\n",
       " array([0.00848333]),\n",
       " array([0.00857807]),\n",
       " array([0.00862017]),\n",
       " array([0.00866521]),\n",
       " array([0.00871852]),\n",
       " array([0.00878844]),\n",
       " array([0.00888713]),\n",
       " array([0.00903258]),\n",
       " array([0.00924611]),\n",
       " array([0.00949622]),\n",
       " array([0.00945105]),\n",
       " array([0.00920002]),\n",
       " array([0.0089419]),\n",
       " array([0.00881996]),\n",
       " array([0.00879841]),\n",
       " array([0.00878315]),\n",
       " array([0.00876989]),\n",
       " array([0.0087564]),\n",
       " array([0.00874012]),\n",
       " array([0.00871819]),\n",
       " array([0.00868683]),\n",
       " array([0.00864122]),\n",
       " array([0.00857713]),\n",
       " array([0.00849948]),\n",
       " array([0.00845398]),\n",
       " array([0.00846707]),\n",
       " array([0.00852341]),\n",
       " array([0.00858375]),\n",
       " array([0.00863482]),\n",
       " array([0.00865675]),\n",
       " array([0.00867704]),\n",
       " array([0.00869139]),\n",
       " array([0.00870488]),\n",
       " array([0.00871806]),\n",
       " array([0.0087331]),\n",
       " array([0.00875227]),\n",
       " array([0.00877877]),\n",
       " array([0.00881742]),\n",
       " array([0.00887511]),\n",
       " array([0.00895597]),\n",
       " array([0.0090327]),\n",
       " array([0.00898613]),\n",
       " array([0.00896662]),\n",
       " array([0.00894125]),\n",
       " array([0.00881108]),\n",
       " array([0.00876103]),\n",
       " array([0.00873232]),\n",
       " array([0.00873478]),\n",
       " array([0.0087383]),\n",
       " array([0.00874246]),\n",
       " array([0.00874645]),\n",
       " array([0.00875064]),\n",
       " array([0.00875521]),\n",
       " array([0.0087603]),\n",
       " array([0.00876558]),\n",
       " array([0.0087697]),\n",
       " array([0.00876861]),\n",
       " array([0.00875154]),\n",
       " array([0.00870545]),\n",
       " array([0.00863156]),\n",
       " array([0.00856453]),\n",
       " array([0.00854722]),\n",
       " array([0.00855303]),\n",
       " array([0.00855743]),\n",
       " array([0.00856315]),\n",
       " array([0.00857107]),\n",
       " array([0.00858264]),\n",
       " array([0.0086004]),\n",
       " array([0.0086284]),\n",
       " array([0.00867292]),\n",
       " array([0.00874253]),\n",
       " array([0.00884668]),\n",
       " array([0.00899523]),\n",
       " array([0.00920368]),\n",
       " array([0.00931598]),\n",
       " array([0.00933373]),\n",
       " array([0.00926027]),\n",
       " array([0.00909331])]"
      ]
     },
     "execution_count": 38,
     "metadata": {},
     "output_type": "execute_result"
    }
   ],
   "source": [
    "T.testJ"
   ]
  },
  {
   "cell_type": "code",
   "execution_count": 39,
   "metadata": {},
   "outputs": [
    {
     "data": {
      "text/plain": [
       "0.006963242931083096"
      ]
     },
     "execution_count": 39,
     "metadata": {},
     "output_type": "execute_result"
    }
   ],
   "source": [
    "from sklearn.metrics import mean_absolute_error\n",
    "mean_absolute_error(T.J, T.testJ)"
   ]
  },
  {
   "cell_type": "code",
   "execution_count": 40,
   "metadata": {},
   "outputs": [],
   "source": [
    "yHat=NN.forward(X)"
   ]
  },
  {
   "cell_type": "code",
   "execution_count": 41,
   "metadata": {},
   "outputs": [
    {
     "data": {
      "text/plain": [
       "array([[0.62107667],\n",
       "       [0.50108073],\n",
       "       [0.48873192],\n",
       "       [0.32502338],\n",
       "       [0.28408356],\n",
       "       [0.42042835],\n",
       "       [0.64394652],\n",
       "       [0.74392071],\n",
       "       [0.46033688],\n",
       "       [0.29992911],\n",
       "       [0.43918117],\n",
       "       [0.47647384],\n",
       "       [0.71078419],\n",
       "       [0.76418121],\n",
       "       [0.57206593],\n",
       "       [0.33656139],\n",
       "       [0.41651158],\n",
       "       [0.52661575],\n",
       "       [0.60624231],\n",
       "       [0.52948594],\n",
       "       [0.54806454],\n",
       "       [0.32790149],\n",
       "       [0.31038457],\n",
       "       [0.47685918],\n",
       "       [0.64348411],\n",
       "       [0.6243832 ],\n",
       "       [0.41257386],\n",
       "       [0.36416748],\n",
       "       [0.52510463],\n",
       "       [0.5873055 ],\n",
       "       [0.62326878],\n",
       "       [0.67623895],\n",
       "       [0.51531549],\n",
       "       [0.34793898],\n",
       "       [0.39062341],\n",
       "       [0.48043938],\n",
       "       [0.55855971],\n",
       "       [0.62310368],\n",
       "       [0.47434142],\n",
       "       [0.39190856],\n",
       "       [0.467638  ],\n",
       "       [0.68670384],\n",
       "       [0.65503021],\n",
       "       [0.60951517],\n",
       "       [0.45023137],\n",
       "       [0.36645151],\n",
       "       [0.50554719],\n",
       "       [0.65408923],\n",
       "       [0.61204581],\n",
       "       [0.44950453],\n",
       "       [0.35698093],\n",
       "       [0.36926733],\n",
       "       [0.41277228],\n",
       "       [0.61753534],\n",
       "       [0.69597777],\n",
       "       [0.66695022],\n",
       "       [0.57746926]])"
      ]
     },
     "execution_count": 41,
     "metadata": {},
     "output_type": "execute_result"
    }
   ],
   "source": [
    "yHat"
   ]
  },
  {
   "cell_type": "code",
   "execution_count": 42,
   "metadata": {},
   "outputs": [
    {
     "data": {
      "text/plain": [
       "array([[0.6971831 ],\n",
       "       [0.97183099],\n",
       "       [0.5915493 ],\n",
       "       [0.28169014],\n",
       "       [0.26056338],\n",
       "       [0.46478873],\n",
       "       [0.99295775],\n",
       "       [0.67605634],\n",
       "       [0.25352113],\n",
       "       [0.45070423],\n",
       "       [0.        ],\n",
       "       [0.48591549],\n",
       "       [0.78169014],\n",
       "       [0.8028169 ],\n",
       "       [0.3028169 ],\n",
       "       [0.47183099],\n",
       "       [0.41549296],\n",
       "       [0.64788732],\n",
       "       [0.61267606],\n",
       "       [1.        ],\n",
       "       [0.47887324],\n",
       "       [0.3028169 ],\n",
       "       [0.38028169],\n",
       "       [0.5915493 ],\n",
       "       [0.8028169 ],\n",
       "       [0.47183099],\n",
       "       [0.26760563],\n",
       "       [0.4084507 ],\n",
       "       [0.32394366],\n",
       "       [0.45774648],\n",
       "       [0.81690141],\n",
       "       [0.75352113],\n",
       "       [0.43661972],\n",
       "       [0.45774648],\n",
       "       [0.38732394],\n",
       "       [0.46478873],\n",
       "       [0.73239437],\n",
       "       [0.51408451],\n",
       "       [0.28169014],\n",
       "       [0.19014085],\n",
       "       [0.51408451],\n",
       "       [0.50704225],\n",
       "       [0.75352113],\n",
       "       [0.54225352],\n",
       "       [0.26056338],\n",
       "       [0.3943662 ],\n",
       "       [0.62676056],\n",
       "       [0.79577465],\n",
       "       [0.70422535],\n",
       "       [0.53521127],\n",
       "       [0.40140845],\n",
       "       [0.12676056],\n",
       "       [0.33098592],\n",
       "       [0.41549296],\n",
       "       [0.55633803],\n",
       "       [0.5915493 ],\n",
       "       [0.51408451]])"
      ]
     },
     "execution_count": 42,
     "metadata": {},
     "output_type": "execute_result"
    }
   ],
   "source": [
    "y"
   ]
  },
  {
   "cell_type": "code",
   "execution_count": 43,
   "metadata": {},
   "outputs": [
    {
     "data": {
      "text/plain": [
       "0.027516968964360445"
      ]
     },
     "execution_count": 43,
     "metadata": {},
     "output_type": "execute_result"
    }
   ],
   "source": [
    "from sklearn.metrics import mean_squared_error \n",
    "mean_squared_error(y,yHat) "
   ]
  },
  {
   "cell_type": "code",
   "execution_count": 44,
   "metadata": {},
   "outputs": [
    {
     "data": {
      "image/png": "[encoded data removed]",
      "text/plain": [
       "<Figure size 432x288 with 1 Axes>"
      ]
     },
     "metadata": {
      "needs_background": "light"
     },
     "output_type": "display_data"
    }
   ],
   "source": [
    "#Plot cost during training:\n",
    "plot.plot(y)\n",
    "plot.plot(yHat)\n",
    "plot.grid(1)\n",
    "plot.legend(['y', 'yHat'])\n",
    "plot.show()"
   ]
  },
  {
   "cell_type": "code",
   "execution_count": 45,
   "metadata": {},
   "outputs": [],
   "source": [
    "prediksi=NN.forward(dataprediksi)"
   ]
  },
  {
   "cell_type": "code",
   "execution_count": 46,
   "metadata": {},
   "outputs": [
    {
     "data": {
      "text/plain": [
       "array([[0.48228988],\n",
       "       [0.44272234],\n",
       "       [0.49536951],\n",
       "       [0.55684773]])"
      ]
     },
     "execution_count": 46,
     "metadata": {},
     "output_type": "execute_result"
    }
   ],
   "source": [
    "prediksi"
   ]
  },
  {
   "cell_type": "code",
   "execution_count": 47,
   "metadata": {},
   "outputs": [],
   "source": [
    "from sklearn.metrics import mean_squared_error "
   ]
  },
  {
   "cell_type": "code",
   "execution_count": 48,
   "metadata": {},
   "outputs": [
    {
     "data": {
      "text/plain": [
       "0.010835727459092157"
      ]
     },
     "execution_count": 48,
     "metadata": {},
     "output_type": "execute_result"
    }
   ],
   "source": [
    "Y_true= ([\t0.387323944\t]\t,\n",
    "[\t0.373239437\t]\t,\n",
    "[\t0.366197183\t]\t,\n",
    "[\t0.443661972\t]\t,\n",
    ")\n",
    "\n",
    "\n",
    "Y_pred=prediksi\n",
    "mean_squared_error(Y_true,Y_pred) "
   ]
  },
  {
   "cell_type": "code",
   "execution_count": 49,
   "metadata": {},
   "outputs": [
    {
     "data": {
      "text/plain": [
       "array([[0.33098592, 0.41549296, 0.55633803, 0.5915493 , 0.51408451],\n",
       "       [0.41549296, 0.55633803, 0.5915493 , 0.51408451, 0.38732394],\n",
       "       [0.55633803, 0.5915493 , 0.51408451, 0.38732394, 0.37323944],\n",
       "       [0.5915493 , 0.51408451, 0.38732394, 0.37323944, 0.36619718]])"
      ]
     },
     "execution_count": 49,
     "metadata": {},
     "output_type": "execute_result"
    }
   ],
   "source": [
    "dataprediksi"
   ]
  },
  {
   "cell_type": "code",
   "execution_count": 50,
   "metadata": {},
   "outputs": [],
   "source": [
    "a=np.array([\t0.514084507\t,\t0.387323944\t,\t0.373239437\t,\t0.366197183\t,\t0.443661972\t])"
   ]
  },
  {
   "cell_type": "code",
   "execution_count": 51,
   "metadata": {},
   "outputs": [
    {
     "data": {
      "text/plain": [
       "array([0.60211715])"
      ]
     },
     "execution_count": 51,
     "metadata": {},
     "output_type": "execute_result"
    }
   ],
   "source": [
    "#prediksi 1\n",
    "prediksi=NN.forward(a)\n",
    "prediksi"
   ]
  },
  {
   "cell_type": "code",
   "execution_count": 52,
   "metadata": {},
   "outputs": [
    {
     "data": {
      "text/plain": [
       "array([0.62080909])"
      ]
     },
     "execution_count": 52,
     "metadata": {},
     "output_type": "execute_result"
    }
   ],
   "source": [
    "#prediksi 2\n",
    "c=prediksi\n",
    "b=a[1:]\n",
    "d=np.concatenate((b,c))\n",
    "prediksi=NN.forward(d)\n",
    "prediksi"
   ]
  },
  {
   "cell_type": "code",
   "execution_count": 53,
   "metadata": {},
   "outputs": [
    {
     "data": {
      "text/plain": [
       "array([0.54898215])"
      ]
     },
     "execution_count": 53,
     "metadata": {},
     "output_type": "execute_result"
    }
   ],
   "source": [
    "#prediksi 3\n",
    "c=prediksi\n",
    "b=d[1:]\n",
    "e=np.concatenate((b,c))\n",
    "prediksi=NN.forward(e)\n",
    "prediksi"
   ]
  },
  {
   "cell_type": "code",
   "execution_count": 54,
   "metadata": {},
   "outputs": [
    {
     "data": {
      "text/plain": [
       "array([0.46134529])"
      ]
     },
     "execution_count": 54,
     "metadata": {},
     "output_type": "execute_result"
    }
   ],
   "source": [
    "#prediksi 4\n",
    "c=prediksi\n",
    "b=e[1:]\n",
    "f=np.concatenate((b,c))\n",
    "prediksi=NN.forward(f)\n",
    "prediksi"
   ]
  },
  {
   "cell_type": "code",
   "execution_count": 55,
   "metadata": {},
   "outputs": [
    {
     "data": {
      "text/plain": [
       "array([0.43213196])"
      ]
     },
     "execution_count": 55,
     "metadata": {},
     "output_type": "execute_result"
    }
   ],
   "source": [
    "#prediksi 5\n",
    "c=prediksi\n",
    "b=f[1:]\n",
    "g=np.concatenate((b,c))\n",
    "prediksi=NN.forward(g)\n",
    "prediksi"
   ]
  },
  {
   "cell_type": "code",
   "execution_count": 56,
   "metadata": {},
   "outputs": [
    {
     "data": {
      "text/plain": [
       "array([0.46904285])"
      ]
     },
     "execution_count": 56,
     "metadata": {},
     "output_type": "execute_result"
    }
   ],
   "source": [
    "#prediksi 6\n",
    "c=prediksi\n",
    "b=g[1:]\n",
    "h=np.concatenate((b,c))\n",
    "prediksi=NN.forward(h)\n",
    "prediksi"
   ]
  },
  {
   "cell_type": "code",
   "execution_count": null,
   "metadata": {},
   "outputs": [],
   "source": []
  }
 ],
 "metadata": {
  "kernelspec": {
   "display_name": "Python 3",
   "language": "python",
   "name": "python3"
  },
  "language_info": {
   "codemirror_mode": {
    "name": "ipython",
    "version": 3
   },
   "file_extension": ".py",
   "mimetype": "text/x-python",
   "name": "python",
   "nbconvert_exporter": "python",
   "pygments_lexer": "ipython3",
   "version": "3.7.3"
  }
 },
 "nbformat": 4,
 "nbformat_minor": 2
}
