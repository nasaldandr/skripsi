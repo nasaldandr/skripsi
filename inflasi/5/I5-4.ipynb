{
 "cells": [
  {
   "cell_type": "code",
   "execution_count": 1,
   "metadata": {},
   "outputs": [],
   "source": [
    "import numpy as np"
   ]
  },
  {
   "cell_type": "code",
   "execution_count": 2,
   "metadata": {},
   "outputs": [],
   "source": [
    "#UNTUK NILAI IMPOR\n",
    "class Neural_Network(object):\n",
    "    def __init__(self):\n",
    "        #parameters\n",
    "        self.inputLayerSize = 5\n",
    "        self.outputLayerSize = 1\n",
    "        self.hiddenLayerSize = 4\n",
    "\n",
    "        #weights\n",
    "        self.W1 = np.random.randn(self.inputLayerSize,\\\n",
    "                                 self.hiddenLayerSize)  \n",
    "        self.W2 = np.random.randn(self.hiddenLayerSize,\\\n",
    "                                 self.outputLayerSize)  \n",
    "    \n",
    "    def printw(self):\n",
    "        return self.W1\n",
    "        \n",
    "    def weight(self, W1, W2):\n",
    "        #Make an internal variable for the weight:\n",
    "        self.W1 = W1\n",
    "        self.W2 = W2\n",
    "        \n",
    "    def forward(self, X):\n",
    "        #forward propagation through our network\n",
    "        self.z2 = np.dot(X,self.W1)  \n",
    "        self.a2 = self.sigmoid(self.z2)  # activation function\n",
    "        self.z3 = np.dot(self.a2, self.W2) \n",
    "        yHat = self.sigmoid(self.z3)  # final activation function\n",
    "        return yHat\n",
    "\n",
    "    def sigmoid(self, z):\n",
    "        # activation function\n",
    "        return 1 / (1 + np.exp(-z))\n",
    "    \n",
    "    def sigmoidPrime(self,z): \n",
    "        #derivative of sigmoid     \n",
    "        return np.exp(-z)/((1+np.exp(-z))**2)\n",
    "    \n",
    "    def costFunction(self,X,y):\n",
    "        self.yHat = self.forward(X)\n",
    "        J=0.5*sum((y-self.yHat)**2)\n",
    "        return J\n",
    "    \n",
    "    def costFunctionPrime(self,X,y):\n",
    "        self.yHat=self.forward(X)\n",
    "        \n",
    "        delta3=np.multiply(-(y-self.yHat),self.sigmoidPrime(self.z3))\n",
    "        dJdW2=np.dot(self.a2.T,delta3)\n",
    "        \n",
    "        delta2=np.dot(delta3,self.W2.T)*self.sigmoidPrime(self.z2)\n",
    "        dJdW1=np.dot(X.T,delta2)\n",
    "        return dJdW1,dJdW2\n",
    "    \n",
    "    def predict(self):\n",
    "        prediksi = self.forward(dataprediksi)\n",
    "        return prediksi\n",
    "    \n",
    "    def getParams(self):\n",
    "        params=np.concatenate((self.W1.ravel(),self.W2.ravel()))\n",
    "        return params\n",
    "    \n",
    "    def setParams(self,params):\n",
    "        W1_start=0\n",
    "        W1_end=self.hiddenLayerSize*self.inputLayerSize\n",
    "        self.W1=np.reshape(params[W1_start:W1_end],\\\n",
    "                          (self.inputLayerSize,self.hiddenLayerSize))\n",
    "        W2_end=W1_end+self.hiddenLayerSize*self.outputLayerSize\n",
    "        self.W2=np.reshape(params[W1_end:W2_end],\\\n",
    "                          (self.hiddenLayerSize,self.outputLayerSize))\n",
    "        \n",
    "    def computeGradients(self, X, y):\n",
    "        dJdW1, dJdW2 = self.costFunctionPrime(X, y)\n",
    "        return np.concatenate((dJdW1.ravel(), dJdW2.ravel()))"
   ]
  },
  {
   "cell_type": "code",
   "execution_count": 3,
   "metadata": {},
   "outputs": [],
   "source": [
    "NN = Neural_Network()"
   ]
  },
  {
   "cell_type": "code",
   "execution_count": 4,
   "metadata": {},
   "outputs": [
    {
     "data": {
      "text/plain": [
       "array([[ 1.10470785, -0.13705818, -2.26579857,  0.1047322 ],\n",
       "       [-0.43779833, -0.58027883, -0.19560045,  0.47551451],\n",
       "       [ 0.66121814, -1.50047909,  0.98570977,  1.10527899],\n",
       "       [-0.21167384, -1.07970207, -0.83317106, -0.59785098],\n",
       "       [-0.6425082 ,  0.88378149,  0.06410139, -1.54078686]])"
      ]
     },
     "execution_count": 4,
     "metadata": {},
     "output_type": "execute_result"
    }
   ],
   "source": [
    "NN.W1"
   ]
  },
  {
   "cell_type": "code",
   "execution_count": 5,
   "metadata": {},
   "outputs": [
    {
     "data": {
      "text/plain": [
       "array([[ 0.00970391],\n",
       "       [ 0.69561383],\n",
       "       [ 1.01171562],\n",
       "       [-0.93974643]])"
      ]
     },
     "execution_count": 5,
     "metadata": {},
     "output_type": "execute_result"
    }
   ],
   "source": [
    "NN.W2"
   ]
  },
  {
   "cell_type": "code",
   "execution_count": 6,
   "metadata": {},
   "outputs": [],
   "source": [
    "#NILAI IMPOR\n",
    "X=np.array(([\t0.147887324\t,\t0.063380282\t,\t0.436619718\t,\t0.570422535\t,\t0.669014085\t]\t,\n",
    "[\t0.063380282\t,\t0.436619718\t,\t0.570422535\t,\t0.669014085\t,\t0.697183099\t]\t,\n",
    "[\t0.436619718\t,\t0.570422535\t,\t0.669014085\t,\t0.697183099\t,\t0.971830986\t]\t,\n",
    "[\t0.570422535\t,\t0.669014085\t,\t0.697183099\t,\t0.971830986\t,\t0.591549296\t]\t,\n",
    "[\t0.669014085\t,\t0.697183099\t,\t0.971830986\t,\t0.591549296\t,\t0.281690141\t]\t,\n",
    "[\t0.697183099\t,\t0.971830986\t,\t0.591549296\t,\t0.281690141\t,\t0.26056338\t]\t,\n",
    "[\t0.971830986\t,\t0.591549296\t,\t0.281690141\t,\t0.26056338\t,\t0.464788732\t]\t,\n",
    "[\t0.591549296\t,\t0.281690141\t,\t0.26056338\t,\t0.464788732\t,\t0.992957746\t]\t,\n",
    "[\t0.281690141\t,\t0.26056338\t,\t0.464788732\t,\t0.992957746\t,\t0.676056338\t]\t,\n",
    "[\t0.26056338\t,\t0.464788732\t,\t0.992957746\t,\t0.676056338\t,\t0.253521127\t]\t,\n",
    "[\t0.464788732\t,\t0.992957746\t,\t0.676056338\t,\t0.253521127\t,\t0.450704225\t]\t,\n",
    "[\t0.992957746\t,\t0.676056338\t,\t0.253521127\t,\t0.450704225\t,\t0\t]\t,\n",
    "[\t0.676056338\t,\t0.253521127\t,\t0.450704225\t,\t0\t,\t0.485915493\t]\t,\n",
    "[\t0.253521127\t,\t0.450704225\t,\t0\t,\t0.485915493\t,\t0.781690141\t]\t,\n",
    "[\t0.450704225\t,\t0\t,\t0.485915493\t,\t0.781690141\t,\t0.802816901\t]\t,\n",
    "[\t0\t,\t0.485915493\t,\t0.781690141\t,\t0.802816901\t,\t0.302816901\t]\t,\n",
    "[\t0.485915493\t,\t0.781690141\t,\t0.802816901\t,\t0.302816901\t,\t0.471830986\t]\t,\n",
    "[\t0.781690141\t,\t0.802816901\t,\t0.302816901\t,\t0.471830986\t,\t0.415492958\t]\t,\n",
    "[\t0.802816901\t,\t0.302816901\t,\t0.471830986\t,\t0.415492958\t,\t0.647887324\t]\t,\n",
    "[\t0.302816901\t,\t0.471830986\t,\t0.415492958\t,\t0.647887324\t,\t0.612676056\t]\t,\n",
    "[\t0.471830986\t,\t0.415492958\t,\t0.647887324\t,\t0.612676056\t,\t1\t]\t,\n",
    "[\t0.415492958\t,\t0.647887324\t,\t0.612676056\t,\t1\t,\t0.478873239\t]\t,\n",
    "[\t0.647887324\t,\t0.612676056\t,\t1\t,\t0.478873239\t,\t0.302816901\t]\t,\n",
    "[\t0.612676056\t,\t1\t,\t0.478873239\t,\t0.302816901\t,\t0.38028169\t]\t,\n",
    "[\t1\t,\t0.478873239\t,\t0.302816901\t,\t0.38028169\t,\t0.591549296\t]\t,\n",
    "[\t0.478873239\t,\t0.302816901\t,\t0.38028169\t,\t0.591549296\t,\t0.802816901\t]\t,\n",
    "[\t0.302816901\t,\t0.38028169\t,\t0.591549296\t,\t0.802816901\t,\t0.471830986\t]\t,\n",
    "[\t0.38028169\t,\t0.591549296\t,\t0.802816901\t,\t0.471830986\t,\t0.267605634\t]\t,\n",
    "[\t0.591549296\t,\t0.802816901\t,\t0.471830986\t,\t0.267605634\t,\t0.408450704\t]\t,\n",
    "[\t0.802816901\t,\t0.471830986\t,\t0.267605634\t,\t0.408450704\t,\t0.323943662\t]\t,\n",
    "[\t0.471830986\t,\t0.267605634\t,\t0.408450704\t,\t0.323943662\t,\t0.457746479\t]\t,\n",
    "[\t0.267605634\t,\t0.408450704\t,\t0.323943662\t,\t0.457746479\t,\t0.816901408\t]\t,\n",
    "[\t0.408450704\t,\t0.323943662\t,\t0.457746479\t,\t0.816901408\t,\t0.753521127\t]\t,\n",
    "[\t0.323943662\t,\t0.457746479\t,\t0.816901408\t,\t0.753521127\t,\t0.436619718\t]\t,\n",
    "[\t0.457746479\t,\t0.816901408\t,\t0.753521127\t,\t0.436619718\t,\t0.457746479\t]\t,\n",
    "[\t0.816901408\t,\t0.753521127\t,\t0.436619718\t,\t0.457746479\t,\t0.387323944\t]\t,\n",
    "[\t0.753521127\t,\t0.436619718\t,\t0.457746479\t,\t0.387323944\t,\t0.464788732\t]\t,\n",
    "[\t0.436619718\t,\t0.457746479\t,\t0.387323944\t,\t0.464788732\t,\t0.732394366\t]\t,\n",
    "[\t0.457746479\t,\t0.387323944\t,\t0.464788732\t,\t0.732394366\t,\t0.514084507\t]\t,\n",
    "[\t0.387323944\t,\t0.464788732\t,\t0.732394366\t,\t0.514084507\t,\t0.281690141\t]\t,\n",
    "[\t0.464788732\t,\t0.732394366\t,\t0.514084507\t,\t0.281690141\t,\t0.190140845\t]\t,\n",
    "[\t0.732394366\t,\t0.514084507\t,\t0.281690141\t,\t0.190140845\t,\t0.514084507\t]\t,\n",
    "[\t0.514084507\t,\t0.281690141\t,\t0.190140845\t,\t0.514084507\t,\t0.507042254\t]\t,\n",
    "[\t0.281690141\t,\t0.190140845\t,\t0.514084507\t,\t0.507042254\t,\t0.753521127\t]\t,\n",
    "[\t0.190140845\t,\t0.514084507\t,\t0.507042254\t,\t0.753521127\t,\t0.542253521\t]\t,\n",
    "[\t0.514084507\t,\t0.507042254\t,\t0.753521127\t,\t0.542253521\t,\t0.26056338\t]\t,\n",
    "[\t0.507042254\t,\t0.753521127\t,\t0.542253521\t,\t0.26056338\t,\t0.394366197\t]\t,\n",
    "[\t0.753521127\t,\t0.542253521\t,\t0.26056338\t,\t0.394366197\t,\t0.626760563\t]\t,\n",
    "[\t0.542253521\t,\t0.26056338\t,\t0.394366197\t,\t0.626760563\t,\t0.795774648\t]\t,\n",
    "[\t0.26056338\t,\t0.394366197\t,\t0.626760563\t,\t0.795774648\t,\t0.704225352\t]\t,\n",
    "[\t0.394366197\t,\t0.626760563\t,\t0.795774648\t,\t0.704225352\t,\t0.535211268\t]\t,\n",
    "[\t0.626760563\t,\t0.795774648\t,\t0.704225352\t,\t0.535211268\t,\t0.401408451\t]\t,\n",
    "[\t0.795774648\t,\t0.704225352\t,\t0.535211268\t,\t0.401408451\t,\t0.126760563\t]\t,\n",
    "[\t0.704225352\t,\t0.535211268\t,\t0.401408451\t,\t0.126760563\t,\t0.330985915\t]\t,\n",
    "[\t0.535211268\t,\t0.401408451\t,\t0.126760563\t,\t0.330985915\t,\t0.415492958\t]\t,\n",
    "[\t0.401408451\t,\t0.126760563\t,\t0.330985915\t,\t0.415492958\t,\t0.556338028\t]\t,\n",
    "[\t0.126760563\t,\t0.330985915\t,\t0.415492958\t,\t0.556338028\t,\t0.591549296\t]\t,\n",
    "\n",
    ")           \n",
    ",dtype=float)\n",
    "y=np.array(([\t0.697183099\t]\t,\n",
    "[\t0.971830986\t]\t,\n",
    "[\t0.591549296\t]\t,\n",
    "[\t0.281690141\t]\t,\n",
    "[\t0.26056338\t]\t,\n",
    "[\t0.464788732\t]\t,\n",
    "[\t0.992957746\t]\t,\n",
    "[\t0.676056338\t]\t,\n",
    "[\t0.253521127\t]\t,\n",
    "[\t0.450704225\t]\t,\n",
    "[\t0\t]\t,\n",
    "[\t0.485915493\t]\t,\n",
    "[\t0.781690141\t]\t,\n",
    "[\t0.802816901\t]\t,\n",
    "[\t0.302816901\t]\t,\n",
    "[\t0.471830986\t]\t,\n",
    "[\t0.415492958\t]\t,\n",
    "[\t0.647887324\t]\t,\n",
    "[\t0.612676056\t]\t,\n",
    "[\t1\t]\t,\n",
    "[\t0.478873239\t]\t,\n",
    "[\t0.302816901\t]\t,\n",
    "[\t0.38028169\t]\t,\n",
    "[\t0.591549296\t]\t,\n",
    "[\t0.802816901\t]\t,\n",
    "[\t0.471830986\t]\t,\n",
    "[\t0.267605634\t]\t,\n",
    "[\t0.408450704\t]\t,\n",
    "[\t0.323943662\t]\t,\n",
    "[\t0.457746479\t]\t,\n",
    "[\t0.816901408\t]\t,\n",
    "[\t0.753521127\t]\t,\n",
    "[\t0.436619718\t]\t,\n",
    "[\t0.457746479\t]\t,\n",
    "[\t0.387323944\t]\t,\n",
    "[\t0.464788732\t]\t,\n",
    "[\t0.732394366\t]\t,\n",
    "[\t0.514084507\t]\t,\n",
    "[\t0.281690141\t]\t,\n",
    "[\t0.190140845\t]\t,\n",
    "[\t0.514084507\t]\t,\n",
    "[\t0.507042254\t]\t,\n",
    "[\t0.753521127\t]\t,\n",
    "[\t0.542253521\t]\t,\n",
    "[\t0.26056338\t]\t,\n",
    "[\t0.394366197\t]\t,\n",
    "[\t0.626760563\t]\t,\n",
    "[\t0.795774648\t]\t,\n",
    "[\t0.704225352\t]\t,\n",
    "[\t0.535211268\t]\t,\n",
    "[\t0.401408451\t]\t,\n",
    "[\t0.126760563\t]\t,\n",
    "[\t0.330985915\t]\t,\n",
    "[\t0.415492958\t]\t,\n",
    "[\t0.556338028\t]\t,\n",
    "[\t0.591549296\t]\t,\n",
    "[\t0.514084507\t]\t,\n",
    "\n",
    ")\n",
    ",dtype=float)\n",
    "\n",
    "dataprediksi = np.array(([\t0.330985915\t,\t0.415492958\t,\t0.556338028\t,\t0.591549296\t,\t0.514084507\t]\t,\n",
    "[\t0.415492958\t,\t0.556338028\t,\t0.591549296\t,\t0.514084507\t,\t0.387323944\t]\t,\n",
    "[\t0.556338028\t,\t0.591549296\t,\t0.514084507\t,\t0.387323944\t,\t0.373239437\t]\t,\n",
    "[\t0.591549296\t,\t0.514084507\t,\t0.387323944\t,\t0.373239437\t,\t0.366197183\t]\t,\n",
    "\n",
    "\n",
    "), dtype=float)\n"
   ]
  },
  {
   "cell_type": "code",
   "execution_count": 7,
   "metadata": {},
   "outputs": [],
   "source": [
    "import matplotlib.pyplot as plot"
   ]
  },
  {
   "cell_type": "code",
   "execution_count": 8,
   "metadata": {},
   "outputs": [],
   "source": [
    "from scipy import optimize"
   ]
  },
  {
   "cell_type": "code",
   "execution_count": 9,
   "metadata": {},
   "outputs": [],
   "source": [
    "class trainer(object):\n",
    "    def __init__(self, N):\n",
    "        #Make Local reference to network:\n",
    "        self.N = N\n",
    "        \n",
    "    def callbackF(self, params):\n",
    "        self.N.setParams(params)\n",
    "        self.J.append(self.N.costFunction(self.X, self.y))   \n",
    "        \n",
    "    def costFunctionWrapper(self, params, X, y):\n",
    "        self.N.setParams(params)\n",
    "        cost = self.N.costFunction(X, y)\n",
    "        grad = self.N.computeGradients(X,y)\n",
    "        \n",
    "        return cost, grad\n",
    "        \n",
    "    def train(self, X, y):\n",
    "        #Make an internal variable for the callback function:\n",
    "        self.X = X\n",
    "        self.y = y\n",
    "\n",
    "        #Make empty list to store costs:\n",
    "        self.J = []\n",
    "        \n",
    "        params0 = self.N.getParams()\n",
    "\n",
    "        options = {'maxiter': 100, 'disp' : True}\n",
    "        _res = optimize.minimize(self.costFunctionWrapper, params0, jac=True, method='BFGS', \\\n",
    "                                 args=(X, y), options=options, callback=self.callbackF)\n",
    "\n",
    "        self.N.setParams(_res.x)\n",
    "        self.optimizationResults = _res"
   ]
  },
  {
   "cell_type": "code",
   "execution_count": 10,
   "metadata": {},
   "outputs": [],
   "source": [
    "NN=Neural_Network()"
   ]
  },
  {
   "cell_type": "code",
   "execution_count": 11,
   "metadata": {},
   "outputs": [],
   "source": [
    "T = trainer(NN)"
   ]
  },
  {
   "cell_type": "code",
   "execution_count": 12,
   "metadata": {},
   "outputs": [
    {
     "name": "stdout",
     "output_type": "stream",
     "text": [
      "Warning: Maximum number of iterations has been exceeded.\n",
      "         Current function value: 0.603690\n",
      "         Iterations: 100\n",
      "         Function evaluations: 103\n",
      "         Gradient evaluations: 103\n"
     ]
    }
   ],
   "source": [
    "#Train network with new data:\n",
    "T = trainer(NN)\n",
    "T.train(X,y)"
   ]
  },
  {
   "cell_type": "code",
   "execution_count": 13,
   "metadata": {},
   "outputs": [
    {
     "data": {
      "image/png": "[encoded data removed]",
      "text/plain": [
       "<Figure size 432x288 with 1 Axes>"
      ]
     },
     "metadata": {
      "needs_background": "light"
     },
     "output_type": "display_data"
    }
   ],
   "source": [
    "#Plot cost during training:\n",
    "plot.plot(T.J)\n",
    "plot.grid(1)\n",
    "plot.xlabel('Iterations')\n",
    "plot.ylabel('Cost')\n",
    "plot.show()"
   ]
  },
  {
   "cell_type": "code",
   "execution_count": 14,
   "metadata": {},
   "outputs": [],
   "source": [
    "#Training Data:\n",
    "trainX = np.array(([\t0.147887324\t,\t0.063380282\t,\t0.436619718\t,\t0.570422535\t,\t0.669014085\t]\t,\n",
    "[\t0.063380282\t,\t0.436619718\t,\t0.570422535\t,\t0.669014085\t,\t0.697183099\t]\t,\n",
    "[\t0.436619718\t,\t0.570422535\t,\t0.669014085\t,\t0.697183099\t,\t0.971830986\t]\t,\n",
    "[\t0.570422535\t,\t0.669014085\t,\t0.697183099\t,\t0.971830986\t,\t0.591549296\t]\t,\n",
    "[\t0.669014085\t,\t0.697183099\t,\t0.971830986\t,\t0.591549296\t,\t0.281690141\t]\t,\n",
    "[\t0.697183099\t,\t0.971830986\t,\t0.591549296\t,\t0.281690141\t,\t0.26056338\t]\t,\n",
    "[\t0.971830986\t,\t0.591549296\t,\t0.281690141\t,\t0.26056338\t,\t0.464788732\t]\t,\n",
    "[\t0.591549296\t,\t0.281690141\t,\t0.26056338\t,\t0.464788732\t,\t0.992957746\t]\t,\n",
    "[\t0.281690141\t,\t0.26056338\t,\t0.464788732\t,\t0.992957746\t,\t0.676056338\t]\t,\n",
    "[\t0.26056338\t,\t0.464788732\t,\t0.992957746\t,\t0.676056338\t,\t0.253521127\t]\t,\n",
    "[\t0.464788732\t,\t0.992957746\t,\t0.676056338\t,\t0.253521127\t,\t0.450704225\t]\t,\n",
    "[\t0.992957746\t,\t0.676056338\t,\t0.253521127\t,\t0.450704225\t,\t0\t]\t,\n",
    "[\t0.676056338\t,\t0.253521127\t,\t0.450704225\t,\t0\t,\t0.485915493\t]\t,\n",
    "[\t0.253521127\t,\t0.450704225\t,\t0\t,\t0.485915493\t,\t0.781690141\t]\t,\n",
    "[\t0.450704225\t,\t0\t,\t0.485915493\t,\t0.781690141\t,\t0.802816901\t]\t,\n",
    "[\t0\t,\t0.485915493\t,\t0.781690141\t,\t0.802816901\t,\t0.302816901\t]\t,\n",
    "[\t0.485915493\t,\t0.781690141\t,\t0.802816901\t,\t0.302816901\t,\t0.471830986\t]\t,\n",
    "[\t0.781690141\t,\t0.802816901\t,\t0.302816901\t,\t0.471830986\t,\t0.415492958\t]\t,\n",
    "[\t0.802816901\t,\t0.302816901\t,\t0.471830986\t,\t0.415492958\t,\t0.647887324\t]\t,\n",
    "[\t0.302816901\t,\t0.471830986\t,\t0.415492958\t,\t0.647887324\t,\t0.612676056\t]\t,\n",
    "[\t0.471830986\t,\t0.415492958\t,\t0.647887324\t,\t0.612676056\t,\t1\t]\t,\n",
    "[\t0.415492958\t,\t0.647887324\t,\t0.612676056\t,\t1\t,\t0.478873239\t]\t,\n",
    "[\t0.647887324\t,\t0.612676056\t,\t1\t,\t0.478873239\t,\t0.302816901\t]\t,\n",
    "[\t0.612676056\t,\t1\t,\t0.478873239\t,\t0.302816901\t,\t0.38028169\t]\t,\n",
    "[\t1\t,\t0.478873239\t,\t0.302816901\t,\t0.38028169\t,\t0.591549296\t]\t,\n",
    "[\t0.478873239\t,\t0.302816901\t,\t0.38028169\t,\t0.591549296\t,\t0.802816901\t]\t,\n",
    "[\t0.302816901\t,\t0.38028169\t,\t0.591549296\t,\t0.802816901\t,\t0.471830986\t]\t,\n",
    "[\t0.38028169\t,\t0.591549296\t,\t0.802816901\t,\t0.471830986\t,\t0.267605634\t]\t,\n",
    "[\t0.591549296\t,\t0.802816901\t,\t0.471830986\t,\t0.267605634\t,\t0.408450704\t]\t,\n",
    "[\t0.802816901\t,\t0.471830986\t,\t0.267605634\t,\t0.408450704\t,\t0.323943662\t]\t,\n",
    "[\t0.471830986\t,\t0.267605634\t,\t0.408450704\t,\t0.323943662\t,\t0.457746479\t]\t,\n",
    "[\t0.267605634\t,\t0.408450704\t,\t0.323943662\t,\t0.457746479\t,\t0.816901408\t]\t,\n",
    "[\t0.408450704\t,\t0.323943662\t,\t0.457746479\t,\t0.816901408\t,\t0.753521127\t]\t,\n",
    "[\t0.323943662\t,\t0.457746479\t,\t0.816901408\t,\t0.753521127\t,\t0.436619718\t]\t,\n",
    "[\t0.457746479\t,\t0.816901408\t,\t0.753521127\t,\t0.436619718\t,\t0.457746479\t]\t,\n",
    "[\t0.816901408\t,\t0.753521127\t,\t0.436619718\t,\t0.457746479\t,\t0.387323944\t]\t,\n",
    "[\t0.753521127\t,\t0.436619718\t,\t0.457746479\t,\t0.387323944\t,\t0.464788732\t]\t,\n",
    "[\t0.436619718\t,\t0.457746479\t,\t0.387323944\t,\t0.464788732\t,\t0.732394366\t]\t,\n",
    "[\t0.457746479\t,\t0.387323944\t,\t0.464788732\t,\t0.732394366\t,\t0.514084507\t]\t,\n",
    "[\t0.387323944\t,\t0.464788732\t,\t0.732394366\t,\t0.514084507\t,\t0.281690141\t]\t,\n",
    "[\t0.464788732\t,\t0.732394366\t,\t0.514084507\t,\t0.281690141\t,\t0.190140845\t]\t,\n",
    "[\t0.732394366\t,\t0.514084507\t,\t0.281690141\t,\t0.190140845\t,\t0.514084507\t]\t,\n",
    "[\t0.514084507\t,\t0.281690141\t,\t0.190140845\t,\t0.514084507\t,\t0.507042254\t]\t,\n",
    "[\t0.281690141\t,\t0.190140845\t,\t0.514084507\t,\t0.507042254\t,\t0.753521127\t]\t,\n",
    "[\t0.190140845\t,\t0.514084507\t,\t0.507042254\t,\t0.753521127\t,\t0.542253521\t]\t,\n",
    "\n",
    ")\n",
    ", dtype=float)\n",
    "trainY = np.array(([\t0.697183099\t]\t,\n",
    "[\t0.971830986\t]\t,\n",
    "[\t0.591549296\t]\t,\n",
    "[\t0.281690141\t]\t,\n",
    "[\t0.26056338\t]\t,\n",
    "[\t0.464788732\t]\t,\n",
    "[\t0.992957746\t]\t,\n",
    "[\t0.676056338\t]\t,\n",
    "[\t0.253521127\t]\t,\n",
    "[\t0.450704225\t]\t,\n",
    "[\t0\t]\t,\n",
    "[\t0.485915493\t]\t,\n",
    "[\t0.781690141\t]\t,\n",
    "[\t0.802816901\t]\t,\n",
    "[\t0.302816901\t]\t,\n",
    "[\t0.471830986\t]\t,\n",
    "[\t0.415492958\t]\t,\n",
    "[\t0.647887324\t]\t,\n",
    "[\t0.612676056\t]\t,\n",
    "[\t1\t]\t,\n",
    "[\t0.478873239\t]\t,\n",
    "[\t0.302816901\t]\t,\n",
    "[\t0.38028169\t]\t,\n",
    "[\t0.591549296\t]\t,\n",
    "[\t0.802816901\t]\t,\n",
    "[\t0.471830986\t]\t,\n",
    "[\t0.267605634\t]\t,\n",
    "[\t0.408450704\t]\t,\n",
    "[\t0.323943662\t]\t,\n",
    "[\t0.457746479\t]\t,\n",
    "[\t0.816901408\t]\t,\n",
    "[\t0.753521127\t]\t,\n",
    "[\t0.436619718\t]\t,\n",
    "[\t0.457746479\t]\t,\n",
    "[\t0.387323944\t]\t,\n",
    "[\t0.464788732\t]\t,\n",
    "[\t0.732394366\t]\t,\n",
    "[\t0.514084507\t]\t,\n",
    "[\t0.281690141\t]\t,\n",
    "[\t0.190140845\t]\t,\n",
    "[\t0.514084507\t]\t,\n",
    "[\t0.507042254\t]\t,\n",
    "[\t0.753521127\t]\t,\n",
    "[\t0.542253521\t]\t,\n",
    "[\t0.26056338\t]\t,\n",
    "\n",
    ")\n",
    ", dtype=float)\n",
    "\n",
    "#Testing Data:\n",
    "testX = np.array(([\t0.514084507\t,\t0.507042254\t,\t0.753521127\t,\t0.542253521\t,\t0.26056338\t]\t,\n",
    "[\t0.507042254\t,\t0.753521127\t,\t0.542253521\t,\t0.26056338\t,\t0.394366197\t]\t,\n",
    "[\t0.753521127\t,\t0.542253521\t,\t0.26056338\t,\t0.394366197\t,\t0.626760563\t]\t,\n",
    "[\t0.542253521\t,\t0.26056338\t,\t0.394366197\t,\t0.626760563\t,\t0.795774648\t]\t,\n",
    "[\t0.26056338\t,\t0.394366197\t,\t0.626760563\t,\t0.795774648\t,\t0.704225352\t]\t,\n",
    "[\t0.394366197\t,\t0.626760563\t,\t0.795774648\t,\t0.704225352\t,\t0.535211268\t]\t,\n",
    "[\t0.626760563\t,\t0.795774648\t,\t0.704225352\t,\t0.535211268\t,\t0.401408451\t]\t,\n",
    "[\t0.795774648\t,\t0.704225352\t,\t0.535211268\t,\t0.401408451\t,\t0.126760563\t]\t,\n",
    "[\t0.704225352\t,\t0.535211268\t,\t0.401408451\t,\t0.126760563\t,\t0.330985915\t]\t,\n",
    "[\t0.535211268\t,\t0.401408451\t,\t0.126760563\t,\t0.330985915\t,\t0.415492958\t]\t,\n",
    "[\t0.401408451\t,\t0.126760563\t,\t0.330985915\t,\t0.415492958\t,\t0.556338028\t]\t,\n",
    "[\t0.126760563\t,\t0.330985915\t,\t0.415492958\t,\t0.556338028\t,\t0.591549296\t]\t,\n",
    "\n",
    ")\n",
    ", dtype=float)\n",
    "testY = np.array(([\t0.394366197\t]\t,\n",
    "[\t0.626760563\t]\t,\n",
    "[\t0.795774648\t]\t,\n",
    "[\t0.704225352\t]\t,\n",
    "[\t0.535211268\t]\t,\n",
    "[\t0.401408451\t]\t,\n",
    "[\t0.126760563\t]\t,\n",
    "[\t0.330985915\t]\t,\n",
    "[\t0.415492958\t]\t,\n",
    "[\t0.556338028\t]\t,\n",
    "[\t0.591549296\t]\t,\n",
    "[\t0.514084507\t]\t,\n",
    "\n",
    ")\n",
    ", dtype=float)\n",
    "\n",
    "\n",
    "dataprediksi = np.array(([\t0.330985915\t,\t0.415492958\t,\t0.556338028\t,\t0.591549296\t,\t0.514084507\t]\t,\n",
    "[\t0.415492958\t,\t0.556338028\t,\t0.591549296\t,\t0.514084507\t,\t0.387323944\t]\t,\n",
    "[\t0.556338028\t,\t0.591549296\t,\t0.514084507\t,\t0.387323944\t,\t0.373239437\t]\t,\n",
    "[\t0.591549296\t,\t0.514084507\t,\t0.387323944\t,\t0.373239437\t,\t0.366197183\t]\t,\n",
    "\n",
    "\n",
    "), dtype=float)"
   ]
  },
  {
   "cell_type": "code",
   "execution_count": 15,
   "metadata": {},
   "outputs": [
    {
     "data": {
      "text/plain": [
       "array([[0.51408451, 0.50704225, 0.75352113, 0.54225352, 0.26056338],\n",
       "       [0.50704225, 0.75352113, 0.54225352, 0.26056338, 0.3943662 ],\n",
       "       [0.75352113, 0.54225352, 0.26056338, 0.3943662 , 0.62676056],\n",
       "       [0.54225352, 0.26056338, 0.3943662 , 0.62676056, 0.79577465],\n",
       "       [0.26056338, 0.3943662 , 0.62676056, 0.79577465, 0.70422535],\n",
       "       [0.3943662 , 0.62676056, 0.79577465, 0.70422535, 0.53521127],\n",
       "       [0.62676056, 0.79577465, 0.70422535, 0.53521127, 0.40140845],\n",
       "       [0.79577465, 0.70422535, 0.53521127, 0.40140845, 0.12676056],\n",
       "       [0.70422535, 0.53521127, 0.40140845, 0.12676056, 0.33098592],\n",
       "       [0.53521127, 0.40140845, 0.12676056, 0.33098592, 0.41549296],\n",
       "       [0.40140845, 0.12676056, 0.33098592, 0.41549296, 0.55633803],\n",
       "       [0.12676056, 0.33098592, 0.41549296, 0.55633803, 0.5915493 ]])"
      ]
     },
     "execution_count": 15,
     "metadata": {},
     "output_type": "execute_result"
    }
   ],
   "source": [
    "testX"
   ]
  },
  {
   "cell_type": "code",
   "execution_count": 16,
   "metadata": {},
   "outputs": [],
   "source": [
    "##Need to modify trainer class a bit to check testing error during training:\n",
    "class trainer(object):\n",
    "    def __init__(self, N):\n",
    "        #Make Local reference to network:\n",
    "        self.N = N\n",
    "        \n",
    "    def callbackF(self, params):\n",
    "        self.N.setParams(params)\n",
    "        self.J.append(self.N.costFunction(self.X, self.y))\n",
    "        self.testJ.append(self.N.costFunction(self.testX, self.testY))\n",
    "        \n",
    "    def costFunctionWrapper(self, params, X, y):\n",
    "        self.N.setParams(params)\n",
    "        cost = self.N.costFunction(X, y)\n",
    "        grad = self.N.computeGradients(X,y)\n",
    "        \n",
    "        return cost, grad\n",
    "        \n",
    "    def train(self, trainX, trainY, testX, testY):\n",
    "        #Make an internal variable for the callback function:\n",
    "        self.X = trainX\n",
    "        self.y = trainY\n",
    "        \n",
    "        self.testX = testX\n",
    "        self.testY = testY\n",
    "\n",
    "        #Make empty list to store training costs:\n",
    "        self.J = []\n",
    "        self.testJ = []\n",
    "        \n",
    "        params0 = self.N.getParams()\n",
    "\n",
    "        options = {'maxiter': 100, 'disp' : True}\n",
    "        _res = optimize.minimize(self.costFunctionWrapper, params0, jac=True, method='BFGS', \\\n",
    "                                 args=(trainX, trainY), options=options, callback=self.callbackF)\n",
    "\n",
    "        self.N.setParams(_res.x)\n",
    "        self.optimizationResults = _res"
   ]
  },
  {
   "cell_type": "code",
   "execution_count": 17,
   "metadata": {},
   "outputs": [
    {
     "name": "stdout",
     "output_type": "stream",
     "text": [
      "Warning: Maximum number of iterations has been exceeded.\n",
      "         Current function value: 0.340753\n",
      "         Iterations: 100\n",
      "         Function evaluations: 106\n",
      "         Gradient evaluations: 106\n"
     ]
    }
   ],
   "source": [
    "#Train network with new data:\n",
    "NN = Neural_Network()\n",
    "\n",
    "T = trainer(NN)\n",
    "T.train(trainX, trainY, testX, testY)"
   ]
  },
  {
   "cell_type": "code",
   "execution_count": 18,
   "metadata": {},
   "outputs": [
    {
     "data": {
      "image/png": "[encoded data removed]",
      "text/plain": [
       "<Figure size 432x288 with 1 Axes>"
      ]
     },
     "metadata": {
      "needs_background": "light"
     },
     "output_type": "display_data"
    }
   ],
   "source": [
    "#Plot cost during training:\n",
    "plot.plot(T.J)\n",
    "plot.plot(T.testJ)\n",
    "plot.grid(1)\n",
    "plot.xlabel('Iterations')\n",
    "plot.ylabel('Cost')\n",
    "plot.legend(['Training', 'Testing'])\n",
    "plot.show()"
   ]
  },
  {
   "cell_type": "code",
   "execution_count": 19,
   "metadata": {},
   "outputs": [
    {
     "data": {
      "text/plain": [
       "[array([1.33690254]),\n",
       " array([1.25118475]),\n",
       " array([1.18982834]),\n",
       " array([1.0853746]),\n",
       " array([0.94343732]),\n",
       " array([0.90112631]),\n",
       " array([0.87263206]),\n",
       " array([0.82033342]),\n",
       " array([0.7313467]),\n",
       " array([0.7078228]),\n",
       " array([0.69811529]),\n",
       " array([0.68714781]),\n",
       " array([0.68571347]),\n",
       " array([0.6830619]),\n",
       " array([0.67907759]),\n",
       " array([0.67665626]),\n",
       " array([0.67601301]),\n",
       " array([0.67496824]),\n",
       " array([0.67323547]),\n",
       " array([0.6702646]),\n",
       " array([0.66509654]),\n",
       " array([0.6564606]),\n",
       " array([0.6497859]),\n",
       " array([0.64437184]),\n",
       " array([0.64255694]),\n",
       " array([0.64106949]),\n",
       " array([0.63869869]),\n",
       " array([0.63431566]),\n",
       " array([0.62656997]),\n",
       " array([0.61582587]),\n",
       " array([0.60733437]),\n",
       " array([0.59583311]),\n",
       " array([0.58400214]),\n",
       " array([0.57998006]),\n",
       " array([0.57310898]),\n",
       " array([0.5618562]),\n",
       " array([0.55298195]),\n",
       " array([0.547564]),\n",
       " array([0.54421283]),\n",
       " array([0.5423883]),\n",
       " array([0.53945366]),\n",
       " array([0.53446231]),\n",
       " array([0.52673793]),\n",
       " array([0.51756839]),\n",
       " array([0.50660538]),\n",
       " array([0.49718991]),\n",
       " array([0.49002377]),\n",
       " array([0.48733449]),\n",
       " array([0.48636659]),\n",
       " array([0.48552015]),\n",
       " array([0.4841657]),\n",
       " array([0.48198948]),\n",
       " array([0.47888125]),\n",
       " array([0.47681183]),\n",
       " array([0.47487362]),\n",
       " array([0.47266844]),\n",
       " array([0.47086048]),\n",
       " array([0.46920919]),\n",
       " array([0.46647155]),\n",
       " array([0.46272568]),\n",
       " array([0.46071067]),\n",
       " array([0.45939602]),\n",
       " array([0.45762543]),\n",
       " array([0.45472051]),\n",
       " array([0.44945904]),\n",
       " array([0.44090636]),\n",
       " array([0.4351756]),\n",
       " array([0.43024594]),\n",
       " array([0.4230196]),\n",
       " array([0.41517485]),\n",
       " array([0.41055417]),\n",
       " array([0.40719983]),\n",
       " array([0.40452072]),\n",
       " array([0.4022067]),\n",
       " array([0.40028851]),\n",
       " array([0.39854399]),\n",
       " array([0.3971026]),\n",
       " array([0.39516346]),\n",
       " array([0.39355871]),\n",
       " array([0.39186798]),\n",
       " array([0.39021181]),\n",
       " array([0.38852349]),\n",
       " array([0.38565457]),\n",
       " array([0.38065743]),\n",
       " array([0.37367305]),\n",
       " array([0.36578142]),\n",
       " array([0.36349823]),\n",
       " array([0.35991495]),\n",
       " array([0.35450452]),\n",
       " array([0.35195629]),\n",
       " array([0.34987756]),\n",
       " array([0.34816855]),\n",
       " array([0.347491]),\n",
       " array([0.34713211]),\n",
       " array([0.34656101]),\n",
       " array([0.34579971]),\n",
       " array([0.34505879]),\n",
       " array([0.34389121]),\n",
       " array([0.34225094]),\n",
       " array([0.34075306])]"
      ]
     },
     "execution_count": 19,
     "metadata": {},
     "output_type": "execute_result"
    }
   ],
   "source": [
    "T.J"
   ]
  },
  {
   "cell_type": "code",
   "execution_count": 20,
   "metadata": {},
   "outputs": [
    {
     "data": {
      "text/plain": [
       "[array([0.23541292]),\n",
       " array([0.2055171]),\n",
       " array([0.18866523]),\n",
       " array([0.16056405]),\n",
       " array([0.1180494]),\n",
       " array([0.10197515]),\n",
       " array([0.09180125]),\n",
       " array([0.08232925]),\n",
       " array([0.08679774]),\n",
       " array([0.10237543]),\n",
       " array([0.10142432]),\n",
       " array([0.10715228]),\n",
       " array([0.10441905]),\n",
       " array([0.10599148]),\n",
       " array([0.10981959]),\n",
       " array([0.11437114]),\n",
       " array([0.1150556]),\n",
       " array([0.11567074]),\n",
       " array([0.11673394]),\n",
       " array([0.11868465]),\n",
       " array([0.12215273]),\n",
       " array([0.12820436]),\n",
       " array([0.13779455]),\n",
       " array([0.13532827]),\n",
       " array([0.13249784]),\n",
       " array([0.13240634]),\n",
       " array([0.13227628]),\n",
       " array([0.13220173]),\n",
       " array([0.13267974]),\n",
       " array([0.13457247]),\n",
       " array([0.13448852]),\n",
       " array([0.13342628]),\n",
       " array([0.13588317]),\n",
       " array([0.13922579]),\n",
       " array([0.13923069]),\n",
       " array([0.14163475]),\n",
       " array([0.13007877]),\n",
       " array([0.13836146]),\n",
       " array([0.13771258]),\n",
       " array([0.13095846]),\n",
       " array([0.13063621]),\n",
       " array([0.12947836]),\n",
       " array([0.12856374]),\n",
       " array([0.12586036]),\n",
       " array([0.12851048]),\n",
       " array([0.12819044]),\n",
       " array([0.13680685]),\n",
       " array([0.12966379]),\n",
       " array([0.13156596]),\n",
       " array([0.13408798]),\n",
       " array([0.13714629]),\n",
       " array([0.14171031]),\n",
       " array([0.14773956]),\n",
       " array([0.15327046]),\n",
       " array([0.15998088]),\n",
       " array([0.16647202]),\n",
       " array([0.17287366]),\n",
       " array([0.17636905]),\n",
       " array([0.18273106]),\n",
       " array([0.18817595]),\n",
       " array([0.19232692]),\n",
       " array([0.19090487]),\n",
       " array([0.18451425]),\n",
       " array([0.18305911]),\n",
       " array([0.18409885]),\n",
       " array([0.18659377]),\n",
       " array([0.18687571]),\n",
       " array([0.20131169]),\n",
       " array([0.20280064]),\n",
       " array([0.21240235]),\n",
       " array([0.21924288]),\n",
       " array([0.2269853]),\n",
       " array([0.22966879]),\n",
       " array([0.23114007]),\n",
       " array([0.22952857]),\n",
       " array([0.22533935]),\n",
       " array([0.21927764]),\n",
       " array([0.21001619]),\n",
       " array([0.20499477]),\n",
       " array([0.20527072]),\n",
       " array([0.2093684]),\n",
       " array([0.21122456]),\n",
       " array([0.21164184]),\n",
       " array([0.21336817]),\n",
       " array([0.2178049]),\n",
       " array([0.21952498]),\n",
       " array([0.22318072]),\n",
       " array([0.22745132]),\n",
       " array([0.22586138]),\n",
       " array([0.23265395]),\n",
       " array([0.2365526]),\n",
       " array([0.23958205]),\n",
       " array([0.24384738]),\n",
       " array([0.24712112]),\n",
       " array([0.2520629]),\n",
       " array([0.25817191]),\n",
       " array([0.2623872]),\n",
       " array([0.265834]),\n",
       " array([0.26864228]),\n",
       " array([0.26440665])]"
      ]
     },
     "execution_count": 20,
     "metadata": {},
     "output_type": "execute_result"
    }
   ],
   "source": [
    "T.testJ"
   ]
  },
  {
   "cell_type": "code",
   "execution_count": 21,
   "metadata": {},
   "outputs": [
    {
     "data": {
      "text/plain": [
       "0.37206176843584715"
      ]
     },
     "execution_count": 21,
     "metadata": {},
     "output_type": "execute_result"
    }
   ],
   "source": [
    "from sklearn.metrics import mean_absolute_error\n",
    "mean_absolute_error(T.J, T.testJ)"
   ]
  },
  {
   "cell_type": "code",
   "execution_count": 22,
   "metadata": {},
   "outputs": [],
   "source": [
    "yHat = NN.forward(X)"
   ]
  },
  {
   "cell_type": "code",
   "execution_count": 23,
   "metadata": {},
   "outputs": [
    {
     "data": {
      "text/plain": [
       "array([[0.70421131],\n",
       "       [0.98842067],\n",
       "       [0.48543986],\n",
       "       [0.305222  ],\n",
       "       [0.30682827],\n",
       "       [0.50379261],\n",
       "       [0.86971711],\n",
       "       [0.65550732],\n",
       "       [0.3257612 ],\n",
       "       [0.30323558],\n",
       "       [0.102139  ],\n",
       "       [0.3793896 ],\n",
       "       [0.6785903 ],\n",
       "       [0.81090226],\n",
       "       [0.38160575],\n",
       "       [0.45270069],\n",
       "       [0.44420268],\n",
       "       [0.61890916],\n",
       "       [0.63849901],\n",
       "       [0.53886882],\n",
       "       [0.53960047],\n",
       "       [0.30407735],\n",
       "       [0.31817682],\n",
       "       [0.3068365 ],\n",
       "       [0.79576117],\n",
       "       [0.63967951],\n",
       "       [0.32834042],\n",
       "       [0.35509968],\n",
       "       [0.4394967 ],\n",
       "       [0.60564688],\n",
       "       [0.70246608],\n",
       "       [0.7351604 ],\n",
       "       [0.39111313],\n",
       "       [0.3133009 ],\n",
       "       [0.43839113],\n",
       "       [0.51395469],\n",
       "       [0.58494796],\n",
       "       [0.62865514],\n",
       "       [0.36588322],\n",
       "       [0.34815416],\n",
       "       [0.53321241],\n",
       "       [0.69180494],\n",
       "       [0.68467924],\n",
       "       [0.67255868],\n",
       "       [0.47498816],\n",
       "       [0.32967323],\n",
       "       [0.4448504 ],\n",
       "       [0.81229711],\n",
       "       [0.57123534],\n",
       "       [0.38342597],\n",
       "       [0.33718441],\n",
       "       [0.37451534],\n",
       "       [0.38964715],\n",
       "       [0.76526581],\n",
       "       [0.83877725],\n",
       "       [0.72044819],\n",
       "       [0.91764679]])"
      ]
     },
     "execution_count": 23,
     "metadata": {},
     "output_type": "execute_result"
    }
   ],
   "source": [
    "yHat"
   ]
  },
  {
   "cell_type": "code",
   "execution_count": 24,
   "metadata": {},
   "outputs": [
    {
     "data": {
      "text/plain": [
       "array([[0.6971831 ],\n",
       "       [0.97183099],\n",
       "       [0.5915493 ],\n",
       "       [0.28169014],\n",
       "       [0.26056338],\n",
       "       [0.46478873],\n",
       "       [0.99295775],\n",
       "       [0.67605634],\n",
       "       [0.25352113],\n",
       "       [0.45070423],\n",
       "       [0.        ],\n",
       "       [0.48591549],\n",
       "       [0.78169014],\n",
       "       [0.8028169 ],\n",
       "       [0.3028169 ],\n",
       "       [0.47183099],\n",
       "       [0.41549296],\n",
       "       [0.64788732],\n",
       "       [0.61267606],\n",
       "       [1.        ],\n",
       "       [0.47887324],\n",
       "       [0.3028169 ],\n",
       "       [0.38028169],\n",
       "       [0.5915493 ],\n",
       "       [0.8028169 ],\n",
       "       [0.47183099],\n",
       "       [0.26760563],\n",
       "       [0.4084507 ],\n",
       "       [0.32394366],\n",
       "       [0.45774648],\n",
       "       [0.81690141],\n",
       "       [0.75352113],\n",
       "       [0.43661972],\n",
       "       [0.45774648],\n",
       "       [0.38732394],\n",
       "       [0.46478873],\n",
       "       [0.73239437],\n",
       "       [0.51408451],\n",
       "       [0.28169014],\n",
       "       [0.19014085],\n",
       "       [0.51408451],\n",
       "       [0.50704225],\n",
       "       [0.75352113],\n",
       "       [0.54225352],\n",
       "       [0.26056338],\n",
       "       [0.3943662 ],\n",
       "       [0.62676056],\n",
       "       [0.79577465],\n",
       "       [0.70422535],\n",
       "       [0.53521127],\n",
       "       [0.40140845],\n",
       "       [0.12676056],\n",
       "       [0.33098592],\n",
       "       [0.41549296],\n",
       "       [0.55633803],\n",
       "       [0.5915493 ],\n",
       "       [0.51408451]])"
      ]
     },
     "execution_count": 24,
     "metadata": {},
     "output_type": "execute_result"
    }
   ],
   "source": [
    "y"
   ]
  },
  {
   "cell_type": "code",
   "execution_count": 25,
   "metadata": {},
   "outputs": [
    {
     "data": {
      "text/plain": [
       "0.02123367416469365"
      ]
     },
     "execution_count": 25,
     "metadata": {},
     "output_type": "execute_result"
    }
   ],
   "source": [
    "from sklearn.metrics import mean_squared_error \n",
    "mean_squared_error(y,yHat) "
   ]
  },
  {
   "cell_type": "code",
   "execution_count": 26,
   "metadata": {},
   "outputs": [
    {
     "data": {
      "image/png": "[encoded data removed]",
      "text/plain": [
       "<Figure size 432x288 with 1 Axes>"
      ]
     },
     "metadata": {
      "needs_background": "light"
     },
     "output_type": "display_data"
    }
   ],
   "source": [
    "#Plot cost during training:\n",
    "plot.plot(y)\n",
    "plot.plot(yHat)\n",
    "plot.grid(1)\n",
    "plot.legend(['y', 'yHat'])\n",
    "plot.show()"
   ]
  },
  {
   "cell_type": "code",
   "execution_count": 27,
   "metadata": {},
   "outputs": [],
   "source": [
    "#Regularization Parameter:\n",
    "Lambda = 0.0001"
   ]
  },
  {
   "cell_type": "code",
   "execution_count": 28,
   "metadata": {},
   "outputs": [],
   "source": [
    "#Need to make changes to costFunction and costFunctionPrim:\n",
    "def costFunction(self, X, y):\n",
    "    #Compute cost for given X,y, use weights already stored in class.\n",
    "    self.yHat = self.forward(X)\n",
    "    #We don't want cost to increase with the number of examples, so normalize by dividing the error term by number of examples(X.shape[0])\n",
    "    J = 0.5*sum((y-self.yHat)**2)/X.shape[0] + (self.Lambda/2)*(sum(self.W1**2)+sum(self.W2**2))\n",
    "    return J\n",
    "\n",
    "def costFunctionPrime(self, X, y):\n",
    "    #Compute derivative with respect to W and W2 for a given X and y:\n",
    "    self.yHat = self.forward(X)\n",
    "\n",
    "    delta3 = np.multiply(-(y-self.yHat), self.sigmoidPrime(self.z3))\n",
    "    #Add gradient of regularization term:\n",
    "    dJdW2 = np.dot(self.a2.T, delta3)/X.shape[0] + self.Lambda*self.W2\n",
    "\n",
    "    delta2 = np.dot(delta3, self.W2.T)*self.sigmoidPrime(self.z2)\n",
    "    #Add gradient of regularization term:\n",
    "    dJdW1 = np.dot(X.T, delta2)/X.shape[0] + self.Lambda*self.W1\n",
    "\n",
    "    return dJdW1, dJdW2"
   ]
  },
  {
   "cell_type": "code",
   "execution_count": 29,
   "metadata": {},
   "outputs": [],
   "source": [
    "#New complete class, with changes:\n",
    "class Neural_Network(object):\n",
    "    def __init__(self, Lambda=0.0001):        \n",
    "        #Define Hyperparameters\n",
    "        self.inputLayerSize = 5\n",
    "        self.outputLayerSize = 1\n",
    "        self.hiddenLayerSize = 4\n",
    "        \n",
    "        #Weights (parameters)\n",
    "        self.W1 = np.random.randn(self.inputLayerSize,self.hiddenLayerSize)\n",
    "        self.W2 = np.random.randn(self.hiddenLayerSize,self.outputLayerSize)\n",
    "        \n",
    "        #Regularization Parameter:\n",
    "        self.Lambda = Lambda\n",
    "        \n",
    "    def forward(self, X):\n",
    "        #Propogate inputs though network\n",
    "        self.z2 = np.dot(X, self.W1)\n",
    "        self.a2 = self.sigmoid(self.z2)\n",
    "        self.z3 = np.dot(self.a2, self.W2)\n",
    "        yHat = self.sigmoid(self.z3) \n",
    "        return yHat\n",
    "        \n",
    "    def sigmoid(self, z):\n",
    "        #Apply sigmoid activation function to scalar, vector, or matrix\n",
    "        return 1/(1+np.exp(-z))\n",
    "    \n",
    "    def sigmoidPrime(self,z):\n",
    "        #Gradient of sigmoid\n",
    "        return np.exp(-z)/((1+np.exp(-z))**2)\n",
    "    \n",
    "    def costFunction(self, X, y):\n",
    "        #Compute cost for given X,y, use weights already stored in class.\n",
    "        self.yHat = self.forward(X)\n",
    "        J = 0.5*sum((y-self.yHat)**2)/X.shape[0] + (self.Lambda/2)*(np.sum(self.W1**2)+np.sum(self.W2**2))\n",
    "        return J\n",
    "        \n",
    "    def costFunctionPrime(self, X, y):\n",
    "        #Compute derivative with respect to W and W2 for a given X and y:\n",
    "        self.yHat = self.forward(X)\n",
    "        \n",
    "        delta3 = np.multiply(-(y-self.yHat), self.sigmoidPrime(self.z3))\n",
    "        #Add gradient of regularization term:\n",
    "        dJdW2 = np.dot(self.a2.T, delta3)/X.shape[0] + self.Lambda*self.W2\n",
    "        \n",
    "        delta2 = np.dot(delta3, self.W2.T)*self.sigmoidPrime(self.z2)\n",
    "        #Add gradient of regularization term:\n",
    "        dJdW1 = np.dot(X.T, delta2)/X.shape[0] + self.Lambda*self.W1\n",
    "        \n",
    "        return dJdW1, dJdW2\n",
    "    \n",
    "    def predict(self):\n",
    "        prediksi = self.forward(dataprediksi)\n",
    "        return prediksi\n",
    "    \n",
    "    #Helper functions for interacting with other methods/classes\n",
    "    def getParams(self):\n",
    "        #Get W1 and W2 Rolled into vector:\n",
    "        params = np.concatenate((self.W1.ravel(), self.W2.ravel()))\n",
    "        return params\n",
    "    \n",
    "    def setParams(self, params):\n",
    "        #Set W1 and W2 using single parameter vector:\n",
    "        W1_start = 0\n",
    "        W1_end = self.hiddenLayerSize*self.inputLayerSize\n",
    "        self.W1 = np.reshape(params[W1_start:W1_end], \\\n",
    "                             (self.inputLayerSize, self.hiddenLayerSize))\n",
    "        W2_end = W1_end + self.hiddenLayerSize*self.outputLayerSize\n",
    "        self.W2 = np.reshape(params[W1_end:W2_end], \\\n",
    "                             (self.hiddenLayerSize, self.outputLayerSize))\n",
    "        \n",
    "    def computeGradients(self, X, y):\n",
    "        dJdW1, dJdW2 = self.costFunctionPrime(X, y)\n",
    "        return np.concatenate((dJdW1.ravel(), dJdW2.ravel()))"
   ]
  },
  {
   "cell_type": "code",
   "execution_count": 30,
   "metadata": {},
   "outputs": [],
   "source": [
    "def computeNumericalGradient(N, X, y):\n",
    "    paramsInitial = N.getParams()\n",
    "    numgrad = np.zeros(paramsInitial.shape)\n",
    "    perturb = np.zeros(paramsInitial.shape)\n",
    "    e = 1e-4\n",
    "\n",
    "    for p in range(len(paramsInitial)):\n",
    "        #Set perturbation vector\n",
    "        perturb[p] = e\n",
    "        N.setParams(paramsInitial + perturb)\n",
    "        loss2 = N.costFunction(X, y)\n",
    "            \n",
    "        N.setParams(paramsInitial - perturb)\n",
    "        loss1 = N.costFunction(X, y)\n",
    "\n",
    "        #Compute Numerical Gradient\n",
    "        numgrad[p] = (loss2 - loss1) / (2*e)\n",
    "\n",
    "            #Return the value we changed to zero:\n",
    "        perturb[p] = 0\n",
    "            \n",
    "    #Return Params to original value:\n",
    "    N.setParams(paramsInitial)\n",
    "\n",
    "    return numgrad "
   ]
  },
  {
   "cell_type": "code",
   "execution_count": 31,
   "metadata": {},
   "outputs": [],
   "source": [
    "NN = Neural_Network(Lambda=0.0001)"
   ]
  },
  {
   "cell_type": "code",
   "execution_count": 32,
   "metadata": {},
   "outputs": [],
   "source": [
    "#Make sure our gradients our correct after making changes:\n",
    "numgrad = computeNumericalGradient(NN, X, y)\n",
    "grad = NN.computeGradients(X,y)"
   ]
  },
  {
   "cell_type": "code",
   "execution_count": 33,
   "metadata": {},
   "outputs": [
    {
     "data": {
      "text/plain": [
       "3.610649710814562e-10"
      ]
     },
     "execution_count": 33,
     "metadata": {},
     "output_type": "execute_result"
    }
   ],
   "source": [
    "#Should be less than 1e-8:\n",
    "np.linalg.norm(grad-numgrad)/np.linalg.norm(grad+numgrad)"
   ]
  },
  {
   "cell_type": "code",
   "execution_count": 34,
   "metadata": {},
   "outputs": [],
   "source": [
    "T = trainer(NN)"
   ]
  },
  {
   "cell_type": "code",
   "execution_count": 35,
   "metadata": {},
   "outputs": [
    {
     "name": "stdout",
     "output_type": "stream",
     "text": [
      "Warning: Maximum number of iterations has been exceeded.\n",
      "         Current function value: 0.014611\n",
      "         Iterations: 100\n",
      "         Function evaluations: 105\n",
      "         Gradient evaluations: 105\n"
     ]
    }
   ],
   "source": [
    "T.train(X,y,testX,testY)"
   ]
  },
  {
   "cell_type": "code",
   "execution_count": 36,
   "metadata": {},
   "outputs": [
    {
     "data": {
      "image/png": "[encoded data removed]",
      "text/plain": [
       "<Figure size 432x288 with 1 Axes>"
      ]
     },
     "metadata": {
      "needs_background": "light"
     },
     "output_type": "display_data"
    }
   ],
   "source": [
    "plot.plot(T.J)\n",
    "plot.plot(T.testJ)\n",
    "plot.grid(1)\n",
    "plot.xlabel('Iterations')\n",
    "plot.ylabel('Cost')\n",
    "plot.legend(['Training', 'Testing'])\n",
    "plot.show()"
   ]
  },
  {
   "cell_type": "code",
   "execution_count": 37,
   "metadata": {},
   "outputs": [
    {
     "data": {
      "text/plain": [
       "[array([0.02386164]),\n",
       " array([0.02365752]),\n",
       " array([0.02356423]),\n",
       " array([0.02351094]),\n",
       " array([0.02340954]),\n",
       " array([0.02321529]),\n",
       " array([0.02284813]),\n",
       " array([0.02217996]),\n",
       " array([0.02107269]),\n",
       " array([0.01980572]),\n",
       " array([0.01953565]),\n",
       " array([0.01947094]),\n",
       " array([0.01943362]),\n",
       " array([0.01939805]),\n",
       " array([0.01937344]),\n",
       " array([0.0193297]),\n",
       " array([0.01924887]),\n",
       " array([0.01909729]),\n",
       " array([0.01881211]),\n",
       " array([0.01828055]),\n",
       " array([0.0173467]),\n",
       " array([0.01651494]),\n",
       " array([0.01645372]),\n",
       " array([0.01643755]),\n",
       " array([0.0164161]),\n",
       " array([0.01640245]),\n",
       " array([0.01638445]),\n",
       " array([0.01637855]),\n",
       " array([0.01637241]),\n",
       " array([0.01636152]),\n",
       " array([0.01634179]),\n",
       " array([0.016306]),\n",
       " array([0.01624205]),\n",
       " array([0.01613231]),\n",
       " array([0.01596119]),\n",
       " array([0.01576421]),\n",
       " array([0.01558009]),\n",
       " array([0.01536198]),\n",
       " array([0.01528809]),\n",
       " array([0.01527492]),\n",
       " array([0.01527268]),\n",
       " array([0.01527149]),\n",
       " array([0.01526957]),\n",
       " array([0.01526624]),\n",
       " array([0.01526015]),\n",
       " array([0.01524888]),\n",
       " array([0.01522839]),\n",
       " array([0.01519261]),\n",
       " array([0.01513454]),\n",
       " array([0.01504932]),\n",
       " array([0.01500461]),\n",
       " array([0.01497797]),\n",
       " array([0.01497298]),\n",
       " array([0.01497223]),\n",
       " array([0.01497149]),\n",
       " array([0.01497106]),\n",
       " array([0.01497053]),\n",
       " array([0.01496992]),\n",
       " array([0.01496887]),\n",
       " array([0.01496699]),\n",
       " array([0.01496356]),\n",
       " array([0.01495734]),\n",
       " array([0.01494626]),\n",
       " array([0.0149275]),\n",
       " array([0.01489964]),\n",
       " array([0.01487774]),\n",
       " array([0.01486016]),\n",
       " array([0.0148424]),\n",
       " array([0.0148386]),\n",
       " array([0.01483582]),\n",
       " array([0.01483568]),\n",
       " array([0.01483556]),\n",
       " array([0.01483463]),\n",
       " array([0.01483309]),\n",
       " array([0.01483038]),\n",
       " array([0.01482557]),\n",
       " array([0.01481706]),\n",
       " array([0.01480266]),\n",
       " array([0.01478137]),\n",
       " array([0.01476314]),\n",
       " array([0.01474776]),\n",
       " array([0.01474101]),\n",
       " array([0.01474034]),\n",
       " array([0.01473996]),\n",
       " array([0.01473984]),\n",
       " array([0.01473963]),\n",
       " array([0.01473923]),\n",
       " array([0.01473848]),\n",
       " array([0.0147371]),\n",
       " array([0.01473467]),\n",
       " array([0.01473062]),\n",
       " array([0.01472416]),\n",
       " array([0.0147137]),\n",
       " array([0.01469621]),\n",
       " array([0.0146681]),\n",
       " array([0.01463287]),\n",
       " array([0.01461752]),\n",
       " array([0.01461168]),\n",
       " array([0.01461144]),\n",
       " array([0.01461137])]"
      ]
     },
     "execution_count": 37,
     "metadata": {},
     "output_type": "execute_result"
    }
   ],
   "source": [
    "T.J"
   ]
  },
  {
   "cell_type": "code",
   "execution_count": 38,
   "metadata": {},
   "outputs": [
    {
     "data": {
      "text/plain": [
       "[array([0.01587804]),\n",
       " array([0.01615301]),\n",
       " array([0.01588995]),\n",
       " array([0.01577858]),\n",
       " array([0.01561653]),\n",
       " array([0.01533813]),\n",
       " array([0.01483826]),\n",
       " array([0.01394346]),\n",
       " array([0.01241971]),\n",
       " array([0.0104261]),\n",
       " array([0.009907]),\n",
       " array([0.00981088]),\n",
       " array([0.00983785]),\n",
       " array([0.00993952]),\n",
       " array([0.01000524]),\n",
       " array([0.01005738]),\n",
       " array([0.01008931]),\n",
       " array([0.01008715]),\n",
       " array([0.01001965]),\n",
       " array([0.00983195]),\n",
       " array([0.00948496]),\n",
       " array([0.00971051]),\n",
       " array([0.00935594]),\n",
       " array([0.0092837]),\n",
       " array([0.00914743]),\n",
       " array([0.00906263]),\n",
       " array([0.00896304]),\n",
       " array([0.00896649]),\n",
       " array([0.00899292]),\n",
       " array([0.00902826]),\n",
       " array([0.00907694]),\n",
       " array([0.00914525]),\n",
       " array([0.00924764]),\n",
       " array([0.00940957]),\n",
       " array([0.00967172]),\n",
       " array([0.00992979]),\n",
       " array([0.00986272]),\n",
       " array([0.00945122]),\n",
       " array([0.00910375]),\n",
       " array([0.00896067]),\n",
       " array([0.00892673]),\n",
       " array([0.00891211]),\n",
       " array([0.00890343]),\n",
       " array([0.0088845]),\n",
       " array([0.00886503]),\n",
       " array([0.00883407]),\n",
       " array([0.00878664]),\n",
       " array([0.00871189]),\n",
       " array([0.00861104]),\n",
       " array([0.00855685]),\n",
       " array([0.00866423]),\n",
       " array([0.00849372]),\n",
       " array([0.00849163]),\n",
       " array([0.00848525]),\n",
       " array([0.00847868]),\n",
       " array([0.00847362]),\n",
       " array([0.00846851]),\n",
       " array([0.00846562]),\n",
       " array([0.00846488]),\n",
       " array([0.00846727]),\n",
       " array([0.00847519]),\n",
       " array([0.00849401]),\n",
       " array([0.00853537]),\n",
       " array([0.00862436]),\n",
       " array([0.00881536]),\n",
       " array([0.00902114]),\n",
       " array([0.00913664]),\n",
       " array([0.00926811]),\n",
       " array([0.00923333]),\n",
       " array([0.00920314]),\n",
       " array([0.00920463]),\n",
       " array([0.00920238]),\n",
       " array([0.00919864]),\n",
       " array([0.00920233]),\n",
       " array([0.00921297]),\n",
       " array([0.00923151]),\n",
       " array([0.00926171]),\n",
       " array([0.00931157]),\n",
       " array([0.00939486]),\n",
       " array([0.00943855]),\n",
       " array([0.00933319]),\n",
       " array([0.00915485]),\n",
       " array([0.0091528]),\n",
       " array([0.00915677]),\n",
       " array([0.00916006]),\n",
       " array([0.00916302]),\n",
       " array([0.00916854]),\n",
       " array([0.00917619]),\n",
       " array([0.00918929]),\n",
       " array([0.00920997]),\n",
       " array([0.00924375]),\n",
       " array([0.0092928]),\n",
       " array([0.00935271]),\n",
       " array([0.00941346]),\n",
       " array([0.00946615]),\n",
       " array([0.00947083]),\n",
       " array([0.00937456]),\n",
       " array([0.00930835]),\n",
       " array([0.0093137]),\n",
       " array([0.00930945])]"
      ]
     },
     "execution_count": 38,
     "metadata": {},
     "output_type": "execute_result"
    }
   ],
   "source": [
    "T.testJ"
   ]
  },
  {
   "cell_type": "code",
   "execution_count": 39,
   "metadata": {},
   "outputs": [
    {
     "data": {
      "text/plain": [
       "0.006639464914843027"
      ]
     },
     "execution_count": 39,
     "metadata": {},
     "output_type": "execute_result"
    }
   ],
   "source": [
    "from sklearn.metrics import mean_absolute_error\n",
    "mean_absolute_error(T.J, T.testJ)"
   ]
  },
  {
   "cell_type": "code",
   "execution_count": 40,
   "metadata": {},
   "outputs": [],
   "source": [
    "yHat=NN.forward(X)"
   ]
  },
  {
   "cell_type": "code",
   "execution_count": 41,
   "metadata": {},
   "outputs": [
    {
     "data": {
      "text/plain": [
       "array([[0.6166869 ],\n",
       "       [0.53336241],\n",
       "       [0.48772939],\n",
       "       [0.31658249],\n",
       "       [0.27650996],\n",
       "       [0.40642069],\n",
       "       [0.68043605],\n",
       "       [0.75754007],\n",
       "       [0.45658871],\n",
       "       [0.35040807],\n",
       "       [0.42874798],\n",
       "       [0.50709929],\n",
       "       [0.72120194],\n",
       "       [0.77115887],\n",
       "       [0.54996181],\n",
       "       [0.42269423],\n",
       "       [0.40731437],\n",
       "       [0.53380071],\n",
       "       [0.60642907],\n",
       "       [0.51421106],\n",
       "       [0.54237869],\n",
       "       [0.3296109 ],\n",
       "       [0.30054402],\n",
       "       [0.46697646],\n",
       "       [0.67653347],\n",
       "       [0.61224883],\n",
       "       [0.41185892],\n",
       "       [0.3641813 ],\n",
       "       [0.51524618],\n",
       "       [0.59516483],\n",
       "       [0.60684676],\n",
       "       [0.67482337],\n",
       "       [0.49578235],\n",
       "       [0.37052224],\n",
       "       [0.3836207 ],\n",
       "       [0.47825815],\n",
       "       [0.5512483 ],\n",
       "       [0.61421676],\n",
       "       [0.44605691],\n",
       "       [0.38264838],\n",
       "       [0.44268375],\n",
       "       [0.70422285],\n",
       "       [0.64379324],\n",
       "       [0.6025394 ],\n",
       "       [0.45834731],\n",
       "       [0.34780146],\n",
       "       [0.48876255],\n",
       "       [0.66916451],\n",
       "       [0.59721865],\n",
       "       [0.4625804 ],\n",
       "       [0.3680137 ],\n",
       "       [0.34949221],\n",
       "       [0.39484692],\n",
       "       [0.62461895],\n",
       "       [0.69777269],\n",
       "       [0.65314009],\n",
       "       [0.57483101]])"
      ]
     },
     "execution_count": 41,
     "metadata": {},
     "output_type": "execute_result"
    }
   ],
   "source": [
    "yHat"
   ]
  },
  {
   "cell_type": "code",
   "execution_count": 42,
   "metadata": {},
   "outputs": [
    {
     "data": {
      "text/plain": [
       "array([[0.6971831 ],\n",
       "       [0.97183099],\n",
       "       [0.5915493 ],\n",
       "       [0.28169014],\n",
       "       [0.26056338],\n",
       "       [0.46478873],\n",
       "       [0.99295775],\n",
       "       [0.67605634],\n",
       "       [0.25352113],\n",
       "       [0.45070423],\n",
       "       [0.        ],\n",
       "       [0.48591549],\n",
       "       [0.78169014],\n",
       "       [0.8028169 ],\n",
       "       [0.3028169 ],\n",
       "       [0.47183099],\n",
       "       [0.41549296],\n",
       "       [0.64788732],\n",
       "       [0.61267606],\n",
       "       [1.        ],\n",
       "       [0.47887324],\n",
       "       [0.3028169 ],\n",
       "       [0.38028169],\n",
       "       [0.5915493 ],\n",
       "       [0.8028169 ],\n",
       "       [0.47183099],\n",
       "       [0.26760563],\n",
       "       [0.4084507 ],\n",
       "       [0.32394366],\n",
       "       [0.45774648],\n",
       "       [0.81690141],\n",
       "       [0.75352113],\n",
       "       [0.43661972],\n",
       "       [0.45774648],\n",
       "       [0.38732394],\n",
       "       [0.46478873],\n",
       "       [0.73239437],\n",
       "       [0.51408451],\n",
       "       [0.28169014],\n",
       "       [0.19014085],\n",
       "       [0.51408451],\n",
       "       [0.50704225],\n",
       "       [0.75352113],\n",
       "       [0.54225352],\n",
       "       [0.26056338],\n",
       "       [0.3943662 ],\n",
       "       [0.62676056],\n",
       "       [0.79577465],\n",
       "       [0.70422535],\n",
       "       [0.53521127],\n",
       "       [0.40140845],\n",
       "       [0.12676056],\n",
       "       [0.33098592],\n",
       "       [0.41549296],\n",
       "       [0.55633803],\n",
       "       [0.5915493 ],\n",
       "       [0.51408451]])"
      ]
     },
     "execution_count": 42,
     "metadata": {},
     "output_type": "execute_result"
    }
   ],
   "source": [
    "y"
   ]
  },
  {
   "cell_type": "code",
   "execution_count": 43,
   "metadata": {},
   "outputs": [
    {
     "data": {
      "text/plain": [
       "0.025603132255819217"
      ]
     },
     "execution_count": 43,
     "metadata": {},
     "output_type": "execute_result"
    }
   ],
   "source": [
    "from sklearn.metrics import mean_squared_error \n",
    "mean_squared_error(y,yHat) "
   ]
  },
  {
   "cell_type": "code",
   "execution_count": 44,
   "metadata": {},
   "outputs": [
    {
     "data": {
      "image/png": "[encoded data removed]",
      "text/plain": [
       "<Figure size 432x288 with 1 Axes>"
      ]
     },
     "metadata": {
      "needs_background": "light"
     },
     "output_type": "display_data"
    }
   ],
   "source": [
    "#Plot cost during training:\n",
    "plot.plot(y)\n",
    "plot.plot(yHat)\n",
    "plot.grid(1)\n",
    "plot.legend(['y', 'yHat'])\n",
    "plot.show()"
   ]
  },
  {
   "cell_type": "code",
   "execution_count": 45,
   "metadata": {},
   "outputs": [],
   "source": [
    "prediksi=NN.forward(dataprediksi)"
   ]
  },
  {
   "cell_type": "code",
   "execution_count": 46,
   "metadata": {},
   "outputs": [
    {
     "data": {
      "text/plain": [
       "array([[0.46878052],\n",
       "       [0.42296734],\n",
       "       [0.47187689],\n",
       "       [0.54047879]])"
      ]
     },
     "execution_count": 46,
     "metadata": {},
     "output_type": "execute_result"
    }
   ],
   "source": [
    "prediksi"
   ]
  },
  {
   "cell_type": "code",
   "execution_count": 47,
   "metadata": {},
   "outputs": [],
   "source": [
    "from sklearn.metrics import mean_squared_error "
   ]
  },
  {
   "cell_type": "code",
   "execution_count": 48,
   "metadata": {},
   "outputs": [
    {
     "data": {
      "text/plain": [
       "0.007412433643272034"
      ]
     },
     "execution_count": 48,
     "metadata": {},
     "output_type": "execute_result"
    }
   ],
   "source": [
    "Y_true= ([\t0.387323944\t]\t,\n",
    "[\t0.373239437\t]\t,\n",
    "[\t0.366197183\t]\t,\n",
    "[\t0.443661972\t]\t,\n",
    ")\n",
    "\n",
    "\n",
    "Y_pred=prediksi\n",
    "mean_squared_error(Y_true,Y_pred) "
   ]
  },
  {
   "cell_type": "code",
   "execution_count": 49,
   "metadata": {},
   "outputs": [
    {
     "data": {
      "text/plain": [
       "array([[0.33098592, 0.41549296, 0.55633803, 0.5915493 , 0.51408451],\n",
       "       [0.41549296, 0.55633803, 0.5915493 , 0.51408451, 0.38732394],\n",
       "       [0.55633803, 0.5915493 , 0.51408451, 0.38732394, 0.37323944],\n",
       "       [0.5915493 , 0.51408451, 0.38732394, 0.37323944, 0.36619718]])"
      ]
     },
     "execution_count": 49,
     "metadata": {},
     "output_type": "execute_result"
    }
   ],
   "source": [
    "dataprediksi"
   ]
  },
  {
   "cell_type": "code",
   "execution_count": 50,
   "metadata": {},
   "outputs": [],
   "source": [
    "a=np.array([\t0.514084507\t,\t0.387323944\t,\t0.373239437\t,\t0.366197183\t,\t0.443661972\t])"
   ]
  },
  {
   "cell_type": "code",
   "execution_count": 51,
   "metadata": {},
   "outputs": [
    {
     "data": {
      "text/plain": [
       "array([0.5861152])"
      ]
     },
     "execution_count": 51,
     "metadata": {},
     "output_type": "execute_result"
    }
   ],
   "source": [
    "#prediksi 1\n",
    "prediksi=NN.forward(a)\n",
    "prediksi"
   ]
  },
  {
   "cell_type": "code",
   "execution_count": 52,
   "metadata": {},
   "outputs": [
    {
     "data": {
      "text/plain": [
       "array([0.6021982])"
      ]
     },
     "execution_count": 52,
     "metadata": {},
     "output_type": "execute_result"
    }
   ],
   "source": [
    "#prediksi 2\n",
    "c=prediksi\n",
    "b=a[1:]\n",
    "d=np.concatenate((b,c))\n",
    "prediksi=NN.forward(d)\n",
    "prediksi"
   ]
  },
  {
   "cell_type": "code",
   "execution_count": 53,
   "metadata": {},
   "outputs": [
    {
     "data": {
      "text/plain": [
       "array([0.52955525])"
      ]
     },
     "execution_count": 53,
     "metadata": {},
     "output_type": "execute_result"
    }
   ],
   "source": [
    "#prediksi 3\n",
    "c=prediksi\n",
    "b=d[1:]\n",
    "e=np.concatenate((b,c))\n",
    "prediksi=NN.forward(e)\n",
    "prediksi"
   ]
  },
  {
   "cell_type": "code",
   "execution_count": 54,
   "metadata": {},
   "outputs": [
    {
     "data": {
      "text/plain": [
       "array([0.45379166])"
      ]
     },
     "execution_count": 54,
     "metadata": {},
     "output_type": "execute_result"
    }
   ],
   "source": [
    "#prediksi 4\n",
    "c=prediksi\n",
    "b=e[1:]\n",
    "f=np.concatenate((b,c))\n",
    "prediksi=NN.forward(f)\n",
    "prediksi"
   ]
  },
  {
   "cell_type": "code",
   "execution_count": 55,
   "metadata": {},
   "outputs": [
    {
     "data": {
      "text/plain": [
       "array([0.42498012])"
      ]
     },
     "execution_count": 55,
     "metadata": {},
     "output_type": "execute_result"
    }
   ],
   "source": [
    "#prediksi 5\n",
    "c=prediksi\n",
    "b=f[1:]\n",
    "g=np.concatenate((b,c))\n",
    "prediksi=NN.forward(g)\n",
    "prediksi"
   ]
  },
  {
   "cell_type": "code",
   "execution_count": 56,
   "metadata": {},
   "outputs": [
    {
     "data": {
      "text/plain": [
       "array([0.45557211])"
      ]
     },
     "execution_count": 56,
     "metadata": {},
     "output_type": "execute_result"
    }
   ],
   "source": [
    "#prediksi 6\n",
    "c=prediksi\n",
    "b=g[1:]\n",
    "h=np.concatenate((b,c))\n",
    "prediksi=NN.forward(h)\n",
    "prediksi"
   ]
  },
  {
   "cell_type": "code",
   "execution_count": null,
   "metadata": {},
   "outputs": [],
   "source": []
  }
 ],
 "metadata": {
  "kernelspec": {
   "display_name": "Python 3",
   "language": "python",
   "name": "python3"
  },
  "language_info": {
   "codemirror_mode": {
    "name": "ipython",
    "version": 3
   },
   "file_extension": ".py",
   "mimetype": "text/x-python",
   "name": "python",
   "nbconvert_exporter": "python",
   "pygments_lexer": "ipython3",
   "version": "3.7.3"
  }
 },
 "nbformat": 4,
 "nbformat_minor": 2
}
