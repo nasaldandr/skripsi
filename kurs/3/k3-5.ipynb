{
 "cells": [
  {
   "cell_type": "code",
   "execution_count": 1,
   "metadata": {},
   "outputs": [],
   "source": [
    "import numpy as np"
   ]
  },
  {
   "cell_type": "code",
   "execution_count": 2,
   "metadata": {},
   "outputs": [],
   "source": [
    "#UNTUK NILAI IMPOR\n",
    "class Neural_Network(object):\n",
    "    def __init__(self):\n",
    "        #parameters\n",
    "        self.inputLayerSize = 3\n",
    "        self.outputLayerSize = 1\n",
    "        self.hiddenLayerSize = 5\n",
    "\n",
    "        #weights\n",
    "        self.W1 = np.random.randn(self.inputLayerSize,\\\n",
    "                                 self.hiddenLayerSize)  \n",
    "        self.W2 = np.random.randn(self.hiddenLayerSize,\\\n",
    "                                 self.outputLayerSize)  \n",
    "    \n",
    "    def printw(self):\n",
    "        return self.W1\n",
    "        \n",
    "    def weight(self, W1, W2):\n",
    "        #Make an internal variable for the weight:\n",
    "        self.W1 = W1\n",
    "        self.W2 = W2\n",
    "        \n",
    "    def forward(self, X):\n",
    "        #forward propagation through our network\n",
    "        self.z2 = np.dot(X,self.W1)  \n",
    "        self.a2 = self.sigmoid(self.z2)  # activation function\n",
    "        self.z3 = np.dot(self.a2, self.W2) \n",
    "        yHat = self.sigmoid(self.z3)  # final activation function\n",
    "        return yHat\n",
    "\n",
    "    def sigmoid(self, z):\n",
    "        # activation function\n",
    "        return 1 / (1 + np.exp(-z))\n",
    "    \n",
    "    def sigmoidPrime(self,z): \n",
    "        #derivative of sigmoid     \n",
    "        return np.exp(-z)/((1+np.exp(-z))**2)\n",
    "    \n",
    "    def costFunction(self,X,y):\n",
    "        self.yHat = self.forward(X)\n",
    "        J=0.5*sum((y-self.yHat)**2)\n",
    "        return J\n",
    "    \n",
    "    def costFunctionPrime(self,X,y):\n",
    "        self.yHat=self.forward(X)\n",
    "        \n",
    "        delta3=np.multiply(-(y-self.yHat),self.sigmoidPrime(self.z3))\n",
    "        dJdW2=np.dot(self.a2.T,delta3)\n",
    "        \n",
    "        delta2=np.dot(delta3,self.W2.T)*self.sigmoidPrime(self.z2)\n",
    "        dJdW1=np.dot(X.T,delta2)\n",
    "        return dJdW1,dJdW2\n",
    "    \n",
    "    def predict(self):\n",
    "        prediksi = self.forward(dataprediksi)\n",
    "        return prediksi\n",
    "    \n",
    "    def getParams(self):\n",
    "        params=np.concatenate((self.W1.ravel(),self.W2.ravel()))\n",
    "        return params\n",
    "    \n",
    "    def setParams(self,params):\n",
    "        W1_start=0\n",
    "        W1_end=self.hiddenLayerSize*self.inputLayerSize\n",
    "        self.W1=np.reshape(params[W1_start:W1_end],\\\n",
    "                          (self.inputLayerSize,self.hiddenLayerSize))\n",
    "        W2_end=W1_end+self.hiddenLayerSize*self.outputLayerSize\n",
    "        self.W2=np.reshape(params[W1_end:W2_end],\\\n",
    "                          (self.hiddenLayerSize,self.outputLayerSize))\n",
    "        \n",
    "    def computeGradients(self, X, y):\n",
    "        dJdW1, dJdW2 = self.costFunctionPrime(X, y)\n",
    "        return np.concatenate((dJdW1.ravel(), dJdW2.ravel()))"
   ]
  },
  {
   "cell_type": "code",
   "execution_count": 3,
   "metadata": {},
   "outputs": [],
   "source": [
    "NN = Neural_Network()"
   ]
  },
  {
   "cell_type": "code",
   "execution_count": 4,
   "metadata": {},
   "outputs": [
    {
     "data": {
      "text/plain": [
       "array([[-1.20271134,  0.78931136,  1.13572589, -1.18041921,  0.97638896],\n",
       "       [-0.863758  , -0.72285568,  0.07528799,  0.38466124, -0.31816102],\n",
       "       [ 1.89973714,  0.27082166,  1.13084652,  0.50251875, -0.22137045]])"
      ]
     },
     "execution_count": 4,
     "metadata": {},
     "output_type": "execute_result"
    }
   ],
   "source": [
    "NN.W1"
   ]
  },
  {
   "cell_type": "code",
   "execution_count": 5,
   "metadata": {},
   "outputs": [
    {
     "data": {
      "text/plain": [
       "array([[ 0.54712318],\n",
       "       [-0.75160318],\n",
       "       [-0.09666711],\n",
       "       [-0.49305295],\n",
       "       [-0.23273864]])"
      ]
     },
     "execution_count": 5,
     "metadata": {},
     "output_type": "execute_result"
    }
   ],
   "source": [
    "NN.W2"
   ]
  },
  {
   "cell_type": "code",
   "execution_count": 6,
   "metadata": {},
   "outputs": [],
   "source": [
    "#KURS\n",
    "X=np.array(([\t0\t,\t0.051924996\t,\t0.148319042\t]\t,\n",
    "[\t0.051924996\t,\t0.148319042\t,\t0.112113419\t]\t,\n",
    "[\t0.148319042\t,\t0.112113419\t,\t0.170734062\t]\t,\n",
    "[\t0.112113419\t,\t0.170734062\t,\t0.223256598\t]\t,\n",
    "[\t0.170734062\t,\t0.223256598\t,\t0.241974687\t]\t,\n",
    "[\t0.223256598\t,\t0.241974687\t,\t0.365733465\t]\t,\n",
    "[\t0.241974687\t,\t0.365733465\t,\t0.552558994\t]\t,\n",
    "[\t0.365733465\t,\t0.552558994\t,\t0.370023519\t]\t,\n",
    "[\t0.552558994\t,\t0.370023519\t,\t0.332531703\t]\t,\n",
    "[\t0.370023519\t,\t0.332531703\t,\t0.387887522\t]\t,\n",
    "[\t0.332531703\t,\t0.387887522\t,\t0.398363943\t]\t,\n",
    "[\t0.387887522\t,\t0.398363943\t,\t0.284826299\t]\t,\n",
    "[\t0.398363943\t,\t0.284826299\t,\t0.186735022\t]\t,\n",
    "[\t0.284826299\t,\t0.186735022\t,\t0.182694768\t]\t,\n",
    "[\t0.186735022\t,\t0.182694768\t,\t0.255617002\t]\t,\n",
    "[\t0.182694768\t,\t0.255617002\t,\t0.23597043\t]\t,\n",
    "[\t0.255617002\t,\t0.23597043\t,\t0.164134134\t]\t,\n",
    "[\t0.23597043\t,\t0.164134134\t,\t0.178176635\t]\t,\n",
    "[\t0.164134134\t,\t0.178176635\t,\t0.163956101\t]\t,\n",
    "[\t0.178176635\t,\t0.163956101\t,\t0.133241484\t]\t,\n",
    "[\t0.163956101\t,\t0.133241484\t,\t0.226399017\t]\t,\n",
    "[\t0.133241484\t,\t0.226399017\t,\t0.255013861\t]\t,\n",
    "[\t0.226399017\t,\t0.255013861\t,\t0.23708614\t]\t,\n",
    "[\t0.255013861\t,\t0.23708614\t,\t0.231651119\t]\t,\n",
    "[\t0.23708614\t,\t0.231651119\t,\t0.233067608\t]\t,\n",
    "[\t0.231651119\t,\t0.233067608\t,\t0.221173719\t]\t,\n",
    "[\t0.233067608\t,\t0.221173719\t,\t0.22633168\t]\t,\n",
    "[\t0.221173719\t,\t0.22633168\t,\t0.218698642\t]\t,\n",
    "[\t0.22633168\t,\t0.218698642\t,\t0.232032203\t]\t,\n",
    "[\t0.218698642\t,\t0.232032203\t,\t0.231947948\t]\t,\n",
    "[\t0.232032203\t,\t0.231947948\t,\t0.221547817\t]\t,\n",
    "[\t0.231947948\t,\t0.221547817\t,\t0.287958581\t]\t,\n",
    "[\t0.221547817\t,\t0.287958581\t,\t0.28837327\t]\t,\n",
    "[\t0.287958581\t,\t0.28837327\t,\t0.297145757\t]\t,\n",
    "[\t0.28837327\t,\t0.297145757\t,\t0.243669818\t]\t,\n",
    "[\t0.297145757\t,\t0.243669818\t,\t0.307437314\t]\t,\n",
    "[\t0.243669818\t,\t0.307437314\t,\t0.358597855\t]\t,\n",
    "[\t0.307437314\t,\t0.358597855\t,\t0.372181217\t]\t,\n",
    "[\t0.358597855\t,\t0.372181217\t,\t0.450259481\t]\t,\n",
    "[\t0.372181217\t,\t0.450259481\t,\t0.443095634\t]\t,\n",
    "[\t0.450259481\t,\t0.443095634\t,\t0.558155976\t]\t,\n",
    "[\t0.443095634\t,\t0.558155976\t,\t0.602359827\t]\t,\n",
    "[\t0.558155976\t,\t0.602359827\t,\t0.696291723\t]\t,\n",
    "[\t0.602359827\t,\t0.696291723\t,\t0.790604671\t]\t,\n",
    "[\t0.696291723\t,\t0.790604671\t,\t0.644022227\t]\t,\n",
    "[\t0.790604671\t,\t0.644022227\t,\t0.583228643\t]\t,\n",
    "[\t0.644022227\t,\t0.583228643\t,\t0.481715009\t]\t,\n",
    "[\t0.583228643\t,\t0.481715009\t,\t0.442812107\t]\t,\n",
    "[\t0.481715009\t,\t0.442812107\t,\t0.496270585\t]\t,\n",
    "[\t0.442812107\t,\t0.496270585\t,\t0.475463393\t]\t,\n",
    "[\t0.496270585\t,\t0.475463393\t,\t0.551559791\t]\t,\n",
    "[\t0.475463393\t,\t0.551559791\t,\t0.500994351\t]\t,\n",
    "[\t0.551559791\t,\t0.500994351\t,\t0.445458587\t]\t,\n",
    "[\t0.500994351\t,\t0.445458587\t,\t0.505711667\t]\t,\n",
    "[\t0.445458587\t,\t0.505711667\t,\t0.465889036\t]\t,\n",
    "[\t0.505711667\t,\t0.465889036\t,\t0.46785659\t]\t,\n",
    "[\t0.465889036\t,\t0.46785659\t,\t0.453001423\t]\t,\n",
    "[\t0.46785659\t,\t0.453001423\t,\t0.437411724\t]\t,\n",
    "[\t0.453001423\t,\t0.437411724\t,\t0.350673696\t]\t,\n",
    "\n",
    ")           \n",
    ",dtype=float)\n",
    "y=np.array(([\t0.112113419\t]\t,\n",
    "[\t0.170734062\t]\t,\n",
    "[\t0.223256598\t]\t,\n",
    "[\t0.241974687\t]\t,\n",
    "[\t0.365733465\t]\t,\n",
    "[\t0.552558994\t]\t,\n",
    "[\t0.370023519\t]\t,\n",
    "[\t0.332531703\t]\t,\n",
    "[\t0.387887522\t]\t,\n",
    "[\t0.398363943\t]\t,\n",
    "[\t0.284826299\t]\t,\n",
    "[\t0.186735022\t]\t,\n",
    "[\t0.182694768\t]\t,\n",
    "[\t0.255617002\t]\t,\n",
    "[\t0.23597043\t]\t,\n",
    "[\t0.164134134\t]\t,\n",
    "[\t0.178176635\t]\t,\n",
    "[\t0.163956101\t]\t,\n",
    "[\t0.133241484\t]\t,\n",
    "[\t0.226399017\t]\t,\n",
    "[\t0.255013861\t]\t,\n",
    "[\t0.23708614\t]\t,\n",
    "[\t0.231651119\t]\t,\n",
    "[\t0.233067608\t]\t,\n",
    "[\t0.221173719\t]\t,\n",
    "[\t0.22633168\t]\t,\n",
    "[\t0.218698642\t]\t,\n",
    "[\t0.232032203\t]\t,\n",
    "[\t0.231947948\t]\t,\n",
    "[\t0.221547817\t]\t,\n",
    "[\t0.287958581\t]\t,\n",
    "[\t0.28837327\t]\t,\n",
    "[\t0.297145757\t]\t,\n",
    "[\t0.243669818\t]\t,\n",
    "[\t0.307437314\t]\t,\n",
    "[\t0.358597855\t]\t,\n",
    "[\t0.372181217\t]\t,\n",
    "[\t0.450259481\t]\t,\n",
    "[\t0.443095634\t]\t,\n",
    "[\t0.558155976\t]\t,\n",
    "[\t0.602359827\t]\t,\n",
    "[\t0.696291723\t]\t,\n",
    "[\t0.790604671\t]\t,\n",
    "[\t0.644022227\t]\t,\n",
    "[\t0.583228643\t]\t,\n",
    "[\t0.481715009\t]\t,\n",
    "[\t0.442812107\t]\t,\n",
    "[\t0.496270585\t]\t,\n",
    "[\t0.475463393\t]\t,\n",
    "[\t0.551559791\t]\t,\n",
    "[\t0.500994351\t]\t,\n",
    "[\t0.445458587\t]\t,\n",
    "[\t0.505711667\t]\t,\n",
    "[\t0.465889036\t]\t,\n",
    "[\t0.46785659\t]\t,\n",
    "[\t0.453001423\t]\t,\n",
    "[\t0.437411724\t]\t,\n",
    "[\t0.350673696\t]\t,\n",
    "[\t0.364031312\t]\t,\n",
    "\n",
    ")\n",
    ",dtype=float)\n",
    "\n",
    "dataprediksi = np.array(([\t0.437411724\t,\t0.350673696\t,\t0.364031312\t]\t,\n",
    "[\t0.350673696\t,\t0.364031312\t,\t0.795380412\t]\t,\n",
    "[\t0.364031312\t,\t0.795380412\t,\t1\t]\t,\n",
    "[\t0.795380412\t,\t1\t,\t0.707681705\t]\t,\n",
    "\n",
    "\n",
    "), dtype=float)\n"
   ]
  },
  {
   "cell_type": "code",
   "execution_count": 7,
   "metadata": {},
   "outputs": [],
   "source": [
    "import matplotlib.pyplot as plot"
   ]
  },
  {
   "cell_type": "code",
   "execution_count": 8,
   "metadata": {},
   "outputs": [],
   "source": [
    "from scipy import optimize"
   ]
  },
  {
   "cell_type": "code",
   "execution_count": 9,
   "metadata": {},
   "outputs": [],
   "source": [
    "class trainer(object):\n",
    "    def __init__(self, N):\n",
    "        #Make Local reference to network:\n",
    "        self.N = N\n",
    "        \n",
    "    def callbackF(self, params):\n",
    "        self.N.setParams(params)\n",
    "        self.J.append(self.N.costFunction(self.X, self.y))   \n",
    "        \n",
    "    def costFunctionWrapper(self, params, X, y):\n",
    "        self.N.setParams(params)\n",
    "        cost = self.N.costFunction(X, y)\n",
    "        grad = self.N.computeGradients(X,y)\n",
    "        \n",
    "        return cost, grad\n",
    "        \n",
    "    def train(self, X, y):\n",
    "        #Make an internal variable for the callback function:\n",
    "        self.X = X\n",
    "        self.y = y\n",
    "\n",
    "        #Make empty list to store costs:\n",
    "        self.J = []\n",
    "        \n",
    "        params0 = self.N.getParams()\n",
    "\n",
    "        options = {'maxiter': 100, 'disp' : True}\n",
    "        _res = optimize.minimize(self.costFunctionWrapper, params0, jac=True, method='BFGS', \\\n",
    "                                 args=(X, y), options=options, callback=self.callbackF)\n",
    "\n",
    "        self.N.setParams(_res.x)\n",
    "        self.optimizationResults = _res"
   ]
  },
  {
   "cell_type": "code",
   "execution_count": 10,
   "metadata": {},
   "outputs": [],
   "source": [
    "NN=Neural_Network()"
   ]
  },
  {
   "cell_type": "code",
   "execution_count": 11,
   "metadata": {},
   "outputs": [],
   "source": [
    "T = trainer(NN)"
   ]
  },
  {
   "cell_type": "code",
   "execution_count": 12,
   "metadata": {},
   "outputs": [
    {
     "name": "stdout",
     "output_type": "stream",
     "text": [
      "Warning: Maximum number of iterations has been exceeded.\n",
      "         Current function value: 0.093233\n",
      "         Iterations: 100\n",
      "         Function evaluations: 112\n",
      "         Gradient evaluations: 112\n"
     ]
    }
   ],
   "source": [
    "#Train network with new data:\n",
    "T = trainer(NN)\n",
    "T.train(X,y)"
   ]
  },
  {
   "cell_type": "code",
   "execution_count": 13,
   "metadata": {},
   "outputs": [
    {
     "data": {
      "image/png": "[encoded data removed]",
      "text/plain": [
       "<Figure size 432x288 with 1 Axes>"
      ]
     },
     "metadata": {
      "needs_background": "light"
     },
     "output_type": "display_data"
    }
   ],
   "source": [
    "#Plot cost during training:\n",
    "plot.plot(T.J)\n",
    "plot.grid(1)\n",
    "plot.xlabel('Iterations')\n",
    "plot.ylabel('Cost')\n",
    "plot.show()"
   ]
  },
  {
   "cell_type": "code",
   "execution_count": 14,
   "metadata": {},
   "outputs": [],
   "source": [
    "#Training Data:\n",
    "trainX = np.array(([\t0\t,\t0.051924996\t,\t0.148319042\t]\t,\n",
    "[\t0.051924996\t,\t0.148319042\t,\t0.112113419\t]\t,\n",
    "[\t0.148319042\t,\t0.112113419\t,\t0.170734062\t]\t,\n",
    "[\t0.112113419\t,\t0.170734062\t,\t0.223256598\t]\t,\n",
    "[\t0.170734062\t,\t0.223256598\t,\t0.241974687\t]\t,\n",
    "[\t0.223256598\t,\t0.241974687\t,\t0.365733465\t]\t,\n",
    "[\t0.241974687\t,\t0.365733465\t,\t0.552558994\t]\t,\n",
    "[\t0.365733465\t,\t0.552558994\t,\t0.370023519\t]\t,\n",
    "[\t0.552558994\t,\t0.370023519\t,\t0.332531703\t]\t,\n",
    "[\t0.370023519\t,\t0.332531703\t,\t0.387887522\t]\t,\n",
    "[\t0.332531703\t,\t0.387887522\t,\t0.398363943\t]\t,\n",
    "[\t0.387887522\t,\t0.398363943\t,\t0.284826299\t]\t,\n",
    "[\t0.398363943\t,\t0.284826299\t,\t0.186735022\t]\t,\n",
    "[\t0.284826299\t,\t0.186735022\t,\t0.182694768\t]\t,\n",
    "[\t0.186735022\t,\t0.182694768\t,\t0.255617002\t]\t,\n",
    "[\t0.182694768\t,\t0.255617002\t,\t0.23597043\t]\t,\n",
    "[\t0.255617002\t,\t0.23597043\t,\t0.164134134\t]\t,\n",
    "[\t0.23597043\t,\t0.164134134\t,\t0.178176635\t]\t,\n",
    "[\t0.164134134\t,\t0.178176635\t,\t0.163956101\t]\t,\n",
    "[\t0.178176635\t,\t0.163956101\t,\t0.133241484\t]\t,\n",
    "[\t0.163956101\t,\t0.133241484\t,\t0.226399017\t]\t,\n",
    "[\t0.133241484\t,\t0.226399017\t,\t0.255013861\t]\t,\n",
    "[\t0.226399017\t,\t0.255013861\t,\t0.23708614\t]\t,\n",
    "[\t0.255013861\t,\t0.23708614\t,\t0.231651119\t]\t,\n",
    "[\t0.23708614\t,\t0.231651119\t,\t0.233067608\t]\t,\n",
    "[\t0.231651119\t,\t0.233067608\t,\t0.221173719\t]\t,\n",
    "[\t0.233067608\t,\t0.221173719\t,\t0.22633168\t]\t,\n",
    "[\t0.221173719\t,\t0.22633168\t,\t0.218698642\t]\t,\n",
    "[\t0.22633168\t,\t0.218698642\t,\t0.232032203\t]\t,\n",
    "[\t0.218698642\t,\t0.232032203\t,\t0.231947948\t]\t,\n",
    "[\t0.232032203\t,\t0.231947948\t,\t0.221547817\t]\t,\n",
    "[\t0.231947948\t,\t0.221547817\t,\t0.287958581\t]\t,\n",
    "[\t0.221547817\t,\t0.287958581\t,\t0.28837327\t]\t,\n",
    "[\t0.287958581\t,\t0.28837327\t,\t0.297145757\t]\t,\n",
    "[\t0.28837327\t,\t0.297145757\t,\t0.243669818\t]\t,\n",
    "[\t0.297145757\t,\t0.243669818\t,\t0.307437314\t]\t,\n",
    "[\t0.243669818\t,\t0.307437314\t,\t0.358597855\t]\t,\n",
    "[\t0.307437314\t,\t0.358597855\t,\t0.372181217\t]\t,\n",
    "[\t0.358597855\t,\t0.372181217\t,\t0.450259481\t]\t,\n",
    "[\t0.372181217\t,\t0.450259481\t,\t0.443095634\t]\t,\n",
    "[\t0.450259481\t,\t0.443095634\t,\t0.558155976\t]\t,\n",
    "[\t0.443095634\t,\t0.558155976\t,\t0.602359827\t]\t,\n",
    "[\t0.558155976\t,\t0.602359827\t,\t0.696291723\t]\t,\n",
    "[\t0.602359827\t,\t0.696291723\t,\t0.790604671\t]\t,\n",
    "[\t0.696291723\t,\t0.790604671\t,\t0.644022227\t]\t,\n",
    "[\t0.790604671\t,\t0.644022227\t,\t0.583228643\t]\t,\n",
    "\n",
    ")\n",
    ", dtype=float)\n",
    "trainY = np.array(([\t0.112113419\t]\t,\n",
    "[\t0.170734062\t]\t,\n",
    "[\t0.223256598\t]\t,\n",
    "[\t0.241974687\t]\t,\n",
    "[\t0.365733465\t]\t,\n",
    "[\t0.552558994\t]\t,\n",
    "[\t0.370023519\t]\t,\n",
    "[\t0.332531703\t]\t,\n",
    "[\t0.387887522\t]\t,\n",
    "[\t0.398363943\t]\t,\n",
    "[\t0.284826299\t]\t,\n",
    "[\t0.186735022\t]\t,\n",
    "[\t0.182694768\t]\t,\n",
    "[\t0.255617002\t]\t,\n",
    "[\t0.23597043\t]\t,\n",
    "[\t0.164134134\t]\t,\n",
    "[\t0.178176635\t]\t,\n",
    "[\t0.163956101\t]\t,\n",
    "[\t0.133241484\t]\t,\n",
    "[\t0.226399017\t]\t,\n",
    "[\t0.255013861\t]\t,\n",
    "[\t0.23708614\t]\t,\n",
    "[\t0.231651119\t]\t,\n",
    "[\t0.233067608\t]\t,\n",
    "[\t0.221173719\t]\t,\n",
    "[\t0.22633168\t]\t,\n",
    "[\t0.218698642\t]\t,\n",
    "[\t0.232032203\t]\t,\n",
    "[\t0.231947948\t]\t,\n",
    "[\t0.221547817\t]\t,\n",
    "[\t0.287958581\t]\t,\n",
    "[\t0.28837327\t]\t,\n",
    "[\t0.297145757\t]\t,\n",
    "[\t0.243669818\t]\t,\n",
    "[\t0.307437314\t]\t,\n",
    "[\t0.358597855\t]\t,\n",
    "[\t0.372181217\t]\t,\n",
    "[\t0.450259481\t]\t,\n",
    "[\t0.443095634\t]\t,\n",
    "[\t0.558155976\t]\t,\n",
    "[\t0.602359827\t]\t,\n",
    "[\t0.696291723\t]\t,\n",
    "[\t0.790604671\t]\t,\n",
    "[\t0.644022227\t]\t,\n",
    "[\t0.583228643\t]\t,\n",
    "[\t0.481715009\t]\t,\n",
    "\n",
    "\n",
    ")\n",
    ", dtype=float)\n",
    "\n",
    "#Testing Data:\n",
    "testX = np.array(([\t0.644022227\t,\t0.583228643\t,\t0.481715009\t]\t,\n",
    "[\t0.583228643\t,\t0.481715009\t,\t0.442812107\t]\t,\n",
    "[\t0.481715009\t,\t0.442812107\t,\t0.496270585\t]\t,\n",
    "[\t0.442812107\t,\t0.496270585\t,\t0.475463393\t]\t,\n",
    "[\t0.496270585\t,\t0.475463393\t,\t0.551559791\t]\t,\n",
    "[\t0.475463393\t,\t0.551559791\t,\t0.500994351\t]\t,\n",
    "[\t0.551559791\t,\t0.500994351\t,\t0.445458587\t]\t,\n",
    "[\t0.500994351\t,\t0.445458587\t,\t0.505711667\t]\t,\n",
    "[\t0.445458587\t,\t0.505711667\t,\t0.465889036\t]\t,\n",
    "[\t0.505711667\t,\t0.465889036\t,\t0.46785659\t]\t,\n",
    "[\t0.465889036\t,\t0.46785659\t,\t0.453001423\t]\t,\n",
    "[\t0.46785659\t,\t0.453001423\t,\t0.437411724\t]\t,\n",
    "[\t0.453001423\t,\t0.437411724\t,\t0.350673696\t]\t,\n",
    "\n",
    ")\n",
    ", dtype=float)\n",
    "testY = np.array(([\t0.442812107\t]\t,\n",
    "[\t0.496270585\t]\t,\n",
    "[\t0.475463393\t]\t,\n",
    "[\t0.551559791\t]\t,\n",
    "[\t0.500994351\t]\t,\n",
    "[\t0.445458587\t]\t,\n",
    "[\t0.505711667\t]\t,\n",
    "[\t0.465889036\t]\t,\n",
    "[\t0.46785659\t]\t,\n",
    "[\t0.453001423\t]\t,\n",
    "[\t0.437411724\t]\t,\n",
    "[\t0.350673696\t]\t,\n",
    "[\t0.364031312\t]\t,\n",
    "                 )\n",
    ", dtype=float)\n",
    "\n",
    "\n",
    "dataprediksi = np.array(([\t0.437411724\t,\t0.350673696\t,\t0.364031312\t]\t,\n",
    "[\t0.350673696\t,\t0.364031312\t,\t0.795380412\t]\t,\n",
    "[\t0.364031312\t,\t0.795380412\t,\t1\t]\t,\n",
    "[\t0.795380412\t,\t1\t,\t0.707681705\t]\t,\n",
    "\n",
    "\n",
    "), dtype=float)"
   ]
  },
  {
   "cell_type": "code",
   "execution_count": 15,
   "metadata": {},
   "outputs": [
    {
     "data": {
      "text/plain": [
       "array([[0.64402223, 0.58322864, 0.48171501],\n",
       "       [0.58322864, 0.48171501, 0.44281211],\n",
       "       [0.48171501, 0.44281211, 0.49627058],\n",
       "       [0.44281211, 0.49627058, 0.47546339],\n",
       "       [0.49627058, 0.47546339, 0.55155979],\n",
       "       [0.47546339, 0.55155979, 0.50099435],\n",
       "       [0.55155979, 0.50099435, 0.44545859],\n",
       "       [0.50099435, 0.44545859, 0.50571167],\n",
       "       [0.44545859, 0.50571167, 0.46588904],\n",
       "       [0.50571167, 0.46588904, 0.46785659],\n",
       "       [0.46588904, 0.46785659, 0.45300142],\n",
       "       [0.46785659, 0.45300142, 0.43741172],\n",
       "       [0.45300142, 0.43741172, 0.3506737 ]])"
      ]
     },
     "execution_count": 15,
     "metadata": {},
     "output_type": "execute_result"
    }
   ],
   "source": [
    "testX"
   ]
  },
  {
   "cell_type": "code",
   "execution_count": 16,
   "metadata": {},
   "outputs": [],
   "source": [
    "##Need to modify trainer class a bit to check testing error during training:\n",
    "class trainer(object):\n",
    "    def __init__(self, N):\n",
    "        #Make Local reference to network:\n",
    "        self.N = N\n",
    "        \n",
    "    def callbackF(self, params):\n",
    "        self.N.setParams(params)\n",
    "        self.J.append(self.N.costFunction(self.X, self.y))\n",
    "        self.testJ.append(self.N.costFunction(self.testX, self.testY))\n",
    "        \n",
    "    def costFunctionWrapper(self, params, X, y):\n",
    "        self.N.setParams(params)\n",
    "        cost = self.N.costFunction(X, y)\n",
    "        grad = self.N.computeGradients(X,y)\n",
    "        \n",
    "        return cost, grad\n",
    "        \n",
    "    def train(self, trainX, trainY, testX, testY):\n",
    "        #Make an internal variable for the callback function:\n",
    "        self.X = trainX\n",
    "        self.y = trainY\n",
    "        \n",
    "        self.testX = testX\n",
    "        self.testY = testY\n",
    "\n",
    "        #Make empty list to store training costs:\n",
    "        self.J = []\n",
    "        self.testJ = []\n",
    "        \n",
    "        params0 = self.N.getParams()\n",
    "\n",
    "        options = {'maxiter': 100, 'disp' : True}\n",
    "        _res = optimize.minimize(self.costFunctionWrapper, params0, jac=True, method='BFGS', \\\n",
    "                                 args=(trainX, trainY), options=options, callback=self.callbackF)\n",
    "\n",
    "        self.N.setParams(_res.x)\n",
    "        self.optimizationResults = _res"
   ]
  },
  {
   "cell_type": "code",
   "execution_count": 17,
   "metadata": {},
   "outputs": [
    {
     "name": "stdout",
     "output_type": "stream",
     "text": [
      "Warning: Maximum number of iterations has been exceeded.\n",
      "         Current function value: 0.075126\n",
      "         Iterations: 100\n",
      "         Function evaluations: 114\n",
      "         Gradient evaluations: 114\n"
     ]
    }
   ],
   "source": [
    "#Train network with new data:\n",
    "NN = Neural_Network()\n",
    "\n",
    "T = trainer(NN)\n",
    "T.train(trainX, trainY, testX, testY)"
   ]
  },
  {
   "cell_type": "code",
   "execution_count": 18,
   "metadata": {},
   "outputs": [
    {
     "data": {
      "image/png": "[encoded data removed]",
      "text/plain": [
       "<Figure size 432x288 with 1 Axes>"
      ]
     },
     "metadata": {
      "needs_background": "light"
     },
     "output_type": "display_data"
    }
   ],
   "source": [
    "#Plot cost during training:\n",
    "plot.plot(T.J)\n",
    "plot.plot(T.testJ)\n",
    "plot.grid(1)\n",
    "plot.xlabel('Iterations')\n",
    "plot.ylabel('Cost')\n",
    "plot.legend(['Training', 'Testing'])\n",
    "plot.show()"
   ]
  },
  {
   "cell_type": "code",
   "execution_count": 19,
   "metadata": {},
   "outputs": [
    {
     "data": {
      "text/plain": [
       "[array([0.54580162]),\n",
       " array([0.30291583]),\n",
       " array([0.19793617]),\n",
       " array([0.18286014]),\n",
       " array([0.16819602]),\n",
       " array([0.15901797]),\n",
       " array([0.15011056]),\n",
       " array([0.14242326]),\n",
       " array([0.13592083]),\n",
       " array([0.12946659]),\n",
       " array([0.12342886]),\n",
       " array([0.11580128]),\n",
       " array([0.11145233]),\n",
       " array([0.10741744]),\n",
       " array([0.10613236]),\n",
       " array([0.10458898]),\n",
       " array([0.10412479]),\n",
       " array([0.1039179]),\n",
       " array([0.10378904]),\n",
       " array([0.10356629]),\n",
       " array([0.10316782]),\n",
       " array([0.10246091]),\n",
       " array([0.10128761]),\n",
       " array([0.0997495]),\n",
       " array([0.09886997]),\n",
       " array([0.09800693]),\n",
       " array([0.09779895]),\n",
       " array([0.09777915]),\n",
       " array([0.09777262]),\n",
       " array([0.09776047]),\n",
       " array([0.09773747]),\n",
       " array([0.09769382]),\n",
       " array([0.09761126]),\n",
       " array([0.09745525]),\n",
       " array([0.0961315]),\n",
       " array([0.09550708]),\n",
       " array([0.09449393]),\n",
       " array([0.09285415]),\n",
       " array([0.09088413]),\n",
       " array([0.09026926]),\n",
       " array([0.09002219]),\n",
       " array([0.08994876]),\n",
       " array([0.08983332]),\n",
       " array([0.08965048]),\n",
       " array([0.08933996]),\n",
       " array([0.08880147]),\n",
       " array([0.08792473]),\n",
       " array([0.08673829]),\n",
       " array([0.08502531]),\n",
       " array([0.08273099]),\n",
       " array([0.0822091]),\n",
       " array([0.08186351]),\n",
       " array([0.08160873]),\n",
       " array([0.08145793]),\n",
       " array([0.08123384]),\n",
       " array([0.08098711]),\n",
       " array([0.08082076]),\n",
       " array([0.08062196]),\n",
       " array([0.08031079]),\n",
       " array([0.08004826]),\n",
       " array([0.08002821]),\n",
       " array([0.08001951]),\n",
       " array([0.08001458]),\n",
       " array([0.08001245]),\n",
       " array([0.07999582]),\n",
       " array([0.07996733]),\n",
       " array([0.07991579]),\n",
       " array([0.07982335]),\n",
       " array([0.0796756]),\n",
       " array([0.07947646]),\n",
       " array([0.07912484]),\n",
       " array([0.07857709]),\n",
       " array([0.07821724]),\n",
       " array([0.07805227]),\n",
       " array([0.07796472]),\n",
       " array([0.07795219]),\n",
       " array([0.07793185]),\n",
       " array([0.07790663]),\n",
       " array([0.07789184]),\n",
       " array([0.077871]),\n",
       " array([0.07785461]),\n",
       " array([0.07782793]),\n",
       " array([0.07778144]),\n",
       " array([0.07769715]),\n",
       " array([0.07754828]),\n",
       " array([0.0773882]),\n",
       " array([0.07715543]),\n",
       " array([0.07688982]),\n",
       " array([0.07670825]),\n",
       " array([0.07642415]),\n",
       " array([0.07626201]),\n",
       " array([0.07600965]),\n",
       " array([0.07568501]),\n",
       " array([0.07556507]),\n",
       " array([0.07537318]),\n",
       " array([0.07527345]),\n",
       " array([0.07523465]),\n",
       " array([0.07519784]),\n",
       " array([0.07515761]),\n",
       " array([0.07512638])]"
      ]
     },
     "execution_count": 19,
     "metadata": {},
     "output_type": "execute_result"
    }
   ],
   "source": [
    "T.J"
   ]
  },
  {
   "cell_type": "code",
   "execution_count": 20,
   "metadata": {},
   "outputs": [
    {
     "data": {
      "text/plain": [
       "[array([0.1444085]),\n",
       " array([0.04957735]),\n",
       " array([0.01571054]),\n",
       " array([0.01396626]),\n",
       " array([0.01313824]),\n",
       " array([0.01503493]),\n",
       " array([0.01911893]),\n",
       " array([0.02411055]),\n",
       " array([0.0275269]),\n",
       " array([0.02605743]),\n",
       " array([0.01504155]),\n",
       " array([0.01557989]),\n",
       " array([0.01355455]),\n",
       " array([0.01529161]),\n",
       " array([0.01492167]),\n",
       " array([0.01498998]),\n",
       " array([0.0156478]),\n",
       " array([0.01599841]),\n",
       " array([0.01620359]),\n",
       " array([0.01643654]),\n",
       " array([0.01672616]),\n",
       " array([0.0170865]),\n",
       " array([0.01760253]),\n",
       " array([0.01841727]),\n",
       " array([0.01849875]),\n",
       " array([0.01857237]),\n",
       " array([0.01733622]),\n",
       " array([0.01744363]),\n",
       " array([0.01745042]),\n",
       " array([0.01745758]),\n",
       " array([0.01746987]),\n",
       " array([0.01749236]),\n",
       " array([0.01753373]),\n",
       " array([0.01760671]),\n",
       " array([0.01727427]),\n",
       " array([0.01673225]),\n",
       " array([0.01685072]),\n",
       " array([0.01808446]),\n",
       " array([0.02132246]),\n",
       " array([0.02172514]),\n",
       " array([0.02301666]),\n",
       " array([0.02314909]),\n",
       " array([0.02349156]),\n",
       " array([0.02406057]),\n",
       " array([0.02488458]),\n",
       " array([0.0260974]),\n",
       " array([0.02796189]),\n",
       " array([0.03046759]),\n",
       " array([0.03135534]),\n",
       " array([0.02845042]),\n",
       " array([0.03167652]),\n",
       " array([0.03062573]),\n",
       " array([0.03064622]),\n",
       " array([0.03118287]),\n",
       " array([0.03151375]),\n",
       " array([0.03375247]),\n",
       " array([0.03280028]),\n",
       " array([0.03310404]),\n",
       " array([0.03438211]),\n",
       " array([0.03568426]),\n",
       " array([0.03547716]),\n",
       " array([0.03625667]),\n",
       " array([0.03599242]),\n",
       " array([0.03594694]),\n",
       " array([0.03572623]),\n",
       " array([0.03554527]),\n",
       " array([0.03538046]),\n",
       " array([0.03517563]),\n",
       " array([0.03491608]),\n",
       " array([0.03510651]),\n",
       " array([0.03536137]),\n",
       " array([0.03683719]),\n",
       " array([0.03630502]),\n",
       " array([0.03827503]),\n",
       " array([0.0377786]),\n",
       " array([0.03768814]),\n",
       " array([0.03751657]),\n",
       " array([0.03707932]),\n",
       " array([0.03672022]),\n",
       " array([0.0361632]),\n",
       " array([0.03578482]),\n",
       " array([0.03537481]),\n",
       " array([0.03488152]),\n",
       " array([0.0341738]),\n",
       " array([0.03297897]),\n",
       " array([0.03085901]),\n",
       " array([0.03153892]),\n",
       " array([0.03135568]),\n",
       " array([0.03481288]),\n",
       " array([0.03342978]),\n",
       " array([0.03233779]),\n",
       " array([0.03137747]),\n",
       " array([0.02887533]),\n",
       " array([0.02859928]),\n",
       " array([0.02808551]),\n",
       " array([0.0275734]),\n",
       " array([0.02879015]),\n",
       " array([0.02864906]),\n",
       " array([0.02800208]),\n",
       " array([0.02843625])]"
      ]
     },
     "execution_count": 20,
     "metadata": {},
     "output_type": "execute_result"
    }
   ],
   "source": [
    "T.testJ"
   ]
  },
  {
   "cell_type": "code",
   "execution_count": 21,
   "metadata": {},
   "outputs": [
    {
     "data": {
      "text/plain": [
       "0.07143449866749836"
      ]
     },
     "execution_count": 21,
     "metadata": {},
     "output_type": "execute_result"
    }
   ],
   "source": [
    "from sklearn.metrics import mean_absolute_error\n",
    "mean_absolute_error(T.J, T.testJ)"
   ]
  },
  {
   "cell_type": "code",
   "execution_count": 22,
   "metadata": {},
   "outputs": [],
   "source": [
    "yHat = NN.forward(X)"
   ]
  },
  {
   "cell_type": "code",
   "execution_count": 23,
   "metadata": {},
   "outputs": [
    {
     "data": {
      "text/plain": [
       "array([[0.15696496],\n",
       "       [0.13667295],\n",
       "       [0.19915625],\n",
       "       [0.23547557],\n",
       "       [0.25819521],\n",
       "       [0.38563282],\n",
       "       [0.38793403],\n",
       "       [0.32737239],\n",
       "       [0.3344488 ],\n",
       "       [0.42595691],\n",
       "       [0.43041495],\n",
       "       [0.25877492],\n",
       "       [0.21922427],\n",
       "       [0.19380288],\n",
       "       [0.28337187],\n",
       "       [0.24509858],\n",
       "       [0.16959061],\n",
       "       [0.19309481],\n",
       "       [0.17897751],\n",
       "       [0.1514574 ],\n",
       "       [0.25689436],\n",
       "       [0.2617033 ],\n",
       "       [0.24420373],\n",
       "       [0.23834859],\n",
       "       [0.24346601],\n",
       "       [0.22852031],\n",
       "       [0.23766637],\n",
       "       [0.22796881],\n",
       "       [0.24629679],\n",
       "       [0.24370036],\n",
       "       [0.22920619],\n",
       "       [0.31943674],\n",
       "       [0.30422371],\n",
       "       [0.3117687 ],\n",
       "       [0.23602574],\n",
       "       [0.33871688],\n",
       "       [0.38493068],\n",
       "       [0.40168769],\n",
       "       [0.50288954],\n",
       "       [0.47515828],\n",
       "       [0.61627886],\n",
       "       [0.62690013],\n",
       "       [0.71701029],\n",
       "       [0.75513053],\n",
       "       [0.55030474],\n",
       "       [0.49850132],\n",
       "       [0.42169308],\n",
       "       [0.40429806],\n",
       "       [0.53676443],\n",
       "       [0.49647497],\n",
       "       [0.60629993],\n",
       "       [0.5083044 ],\n",
       "       [0.40654545],\n",
       "       [0.54451877],\n",
       "       [0.47581813],\n",
       "       [0.46844885],\n",
       "       [0.45889486],\n",
       "       [0.43633143],\n",
       "       [0.31909622]])"
      ]
     },
     "execution_count": 23,
     "metadata": {},
     "output_type": "execute_result"
    }
   ],
   "source": [
    "yHat"
   ]
  },
  {
   "cell_type": "code",
   "execution_count": 24,
   "metadata": {},
   "outputs": [
    {
     "data": {
      "text/plain": [
       "array([[0.11211342],\n",
       "       [0.17073406],\n",
       "       [0.2232566 ],\n",
       "       [0.24197469],\n",
       "       [0.36573346],\n",
       "       [0.55255899],\n",
       "       [0.37002352],\n",
       "       [0.3325317 ],\n",
       "       [0.38788752],\n",
       "       [0.39836394],\n",
       "       [0.2848263 ],\n",
       "       [0.18673502],\n",
       "       [0.18269477],\n",
       "       [0.255617  ],\n",
       "       [0.23597043],\n",
       "       [0.16413413],\n",
       "       [0.17817663],\n",
       "       [0.1639561 ],\n",
       "       [0.13324148],\n",
       "       [0.22639902],\n",
       "       [0.25501386],\n",
       "       [0.23708614],\n",
       "       [0.23165112],\n",
       "       [0.23306761],\n",
       "       [0.22117372],\n",
       "       [0.22633168],\n",
       "       [0.21869864],\n",
       "       [0.2320322 ],\n",
       "       [0.23194795],\n",
       "       [0.22154782],\n",
       "       [0.28795858],\n",
       "       [0.28837327],\n",
       "       [0.29714576],\n",
       "       [0.24366982],\n",
       "       [0.30743731],\n",
       "       [0.35859786],\n",
       "       [0.37218122],\n",
       "       [0.45025948],\n",
       "       [0.44309563],\n",
       "       [0.55815598],\n",
       "       [0.60235983],\n",
       "       [0.69629172],\n",
       "       [0.79060467],\n",
       "       [0.64402223],\n",
       "       [0.58322864],\n",
       "       [0.48171501],\n",
       "       [0.44281211],\n",
       "       [0.49627058],\n",
       "       [0.47546339],\n",
       "       [0.55155979],\n",
       "       [0.50099435],\n",
       "       [0.44545859],\n",
       "       [0.50571167],\n",
       "       [0.46588904],\n",
       "       [0.46785659],\n",
       "       [0.45300142],\n",
       "       [0.43741172],\n",
       "       [0.3506737 ],\n",
       "       [0.36403131]])"
      ]
     },
     "execution_count": 24,
     "metadata": {},
     "output_type": "execute_result"
    }
   ],
   "source": [
    "y"
   ]
  },
  {
   "cell_type": "code",
   "execution_count": 25,
   "metadata": {},
   "outputs": [
    {
     "data": {
      "text/plain": [
       "0.00351059741266152"
      ]
     },
     "execution_count": 25,
     "metadata": {},
     "output_type": "execute_result"
    }
   ],
   "source": [
    "from sklearn.metrics import mean_squared_error \n",
    "mean_squared_error(y,yHat) "
   ]
  },
  {
   "cell_type": "code",
   "execution_count": 26,
   "metadata": {},
   "outputs": [
    {
     "data": {
      "image/png": "[encoded data removed]",
      "text/plain": [
       "<Figure size 432x288 with 1 Axes>"
      ]
     },
     "metadata": {
      "needs_background": "light"
     },
     "output_type": "display_data"
    }
   ],
   "source": [
    "#Plot cost during training:\n",
    "plot.plot(y)\n",
    "plot.plot(yHat)\n",
    "plot.grid(1)\n",
    "plot.legend(['y', 'yHat'])\n",
    "plot.show()"
   ]
  },
  {
   "cell_type": "code",
   "execution_count": 27,
   "metadata": {},
   "outputs": [],
   "source": [
    "#Regularization Parameter:\n",
    "Lambda = 0.0001"
   ]
  },
  {
   "cell_type": "code",
   "execution_count": 28,
   "metadata": {},
   "outputs": [],
   "source": [
    "#Need to make changes to costFunction and costFunctionPrim:\n",
    "def costFunction(self, X, y):\n",
    "    #Compute cost for given X,y, use weights already stored in class.\n",
    "    self.yHat = self.forward(X)\n",
    "    #We don't want cost to increase with the number of examples, so normalize by dividing the error term by number of examples(X.shape[0])\n",
    "    J = 0.5*sum((y-self.yHat)**2)/X.shape[0] + (self.Lambda/2)*(sum(self.W1**2)+sum(self.W2**2))\n",
    "    return J\n",
    "\n",
    "def costFunctionPrime(self, X, y):\n",
    "    #Compute derivative with respect to W and W2 for a given X and y:\n",
    "    self.yHat = self.forward(X)\n",
    "\n",
    "    delta3 = np.multiply(-(y-self.yHat), self.sigmoidPrime(self.z3))\n",
    "    #Add gradient of regularization term:\n",
    "    dJdW2 = np.dot(self.a2.T, delta3)/X.shape[0] + self.Lambda*self.W2\n",
    "\n",
    "    delta2 = np.dot(delta3, self.W2.T)*self.sigmoidPrime(self.z2)\n",
    "    #Add gradient of regularization term:\n",
    "    dJdW1 = np.dot(X.T, delta2)/X.shape[0] + self.Lambda*self.W1\n",
    "\n",
    "    return dJdW1, dJdW2"
   ]
  },
  {
   "cell_type": "code",
   "execution_count": 29,
   "metadata": {},
   "outputs": [],
   "source": [
    "#New complete class, with changes:\n",
    "class Neural_Network(object):\n",
    "    def __init__(self, Lambda=0.0001):        \n",
    "        #Define Hyperparameters\n",
    "        self.inputLayerSize = 3\n",
    "        self.outputLayerSize = 1\n",
    "        self.hiddenLayerSize = 5\n",
    "        \n",
    "        #Weights (parameters)\n",
    "        self.W1 = np.random.randn(self.inputLayerSize,self.hiddenLayerSize)\n",
    "        self.W2 = np.random.randn(self.hiddenLayerSize,self.outputLayerSize)\n",
    "        \n",
    "        #Regularization Parameter:\n",
    "        self.Lambda = Lambda\n",
    "        \n",
    "    def forward(self, X):\n",
    "        #Propogate inputs though network\n",
    "        self.z2 = np.dot(X, self.W1)\n",
    "        self.a2 = self.sigmoid(self.z2)\n",
    "        self.z3 = np.dot(self.a2, self.W2)\n",
    "        yHat = self.sigmoid(self.z3) \n",
    "        return yHat\n",
    "        \n",
    "    def sigmoid(self, z):\n",
    "        #Apply sigmoid activation function to scalar, vector, or matrix\n",
    "        return 1/(1+np.exp(-z))\n",
    "    \n",
    "    def sigmoidPrime(self,z):\n",
    "        #Gradient of sigmoid\n",
    "        return np.exp(-z)/((1+np.exp(-z))**2)\n",
    "    \n",
    "    def costFunction(self, X, y):\n",
    "        #Compute cost for given X,y, use weights already stored in class.\n",
    "        self.yHat = self.forward(X)\n",
    "        J = 0.5*sum((y-self.yHat)**2)/X.shape[0] + (self.Lambda/2)*(np.sum(self.W1**2)+np.sum(self.W2**2))\n",
    "        return J\n",
    "        \n",
    "    def costFunctionPrime(self, X, y):\n",
    "        #Compute derivative with respect to W and W2 for a given X and y:\n",
    "        self.yHat = self.forward(X)\n",
    "        \n",
    "        delta3 = np.multiply(-(y-self.yHat), self.sigmoidPrime(self.z3))\n",
    "        #Add gradient of regularization term:\n",
    "        dJdW2 = np.dot(self.a2.T, delta3)/X.shape[0] + self.Lambda*self.W2\n",
    "        \n",
    "        delta2 = np.dot(delta3, self.W2.T)*self.sigmoidPrime(self.z2)\n",
    "        #Add gradient of regularization term:\n",
    "        dJdW1 = np.dot(X.T, delta2)/X.shape[0] + self.Lambda*self.W1\n",
    "        \n",
    "        return dJdW1, dJdW2\n",
    "    \n",
    "    def predict(self):\n",
    "        prediksi = self.forward(dataprediksi)\n",
    "        return prediksi\n",
    "    \n",
    "    #Helper functions for interacting with other methods/classes\n",
    "    def getParams(self):\n",
    "        #Get W1 and W2 Rolled into vector:\n",
    "        params = np.concatenate((self.W1.ravel(), self.W2.ravel()))\n",
    "        return params\n",
    "    \n",
    "    def setParams(self, params):\n",
    "        #Set W1 and W2 using single parameter vector:\n",
    "        W1_start = 0\n",
    "        W1_end = self.hiddenLayerSize*self.inputLayerSize\n",
    "        self.W1 = np.reshape(params[W1_start:W1_end], \\\n",
    "                             (self.inputLayerSize, self.hiddenLayerSize))\n",
    "        W2_end = W1_end + self.hiddenLayerSize*self.outputLayerSize\n",
    "        self.W2 = np.reshape(params[W1_end:W2_end], \\\n",
    "                             (self.hiddenLayerSize, self.outputLayerSize))\n",
    "        \n",
    "    def computeGradients(self, X, y):\n",
    "        dJdW1, dJdW2 = self.costFunctionPrime(X, y)\n",
    "        return np.concatenate((dJdW1.ravel(), dJdW2.ravel()))"
   ]
  },
  {
   "cell_type": "code",
   "execution_count": 30,
   "metadata": {},
   "outputs": [],
   "source": [
    "def computeNumericalGradient(N, X, y):\n",
    "    paramsInitial = N.getParams()\n",
    "    numgrad = np.zeros(paramsInitial.shape)\n",
    "    perturb = np.zeros(paramsInitial.shape)\n",
    "    e = 1e-4\n",
    "\n",
    "    for p in range(len(paramsInitial)):\n",
    "        #Set perturbation vector\n",
    "        perturb[p] = e\n",
    "        N.setParams(paramsInitial + perturb)\n",
    "        loss2 = N.costFunction(X, y)\n",
    "            \n",
    "        N.setParams(paramsInitial - perturb)\n",
    "        loss1 = N.costFunction(X, y)\n",
    "\n",
    "        #Compute Numerical Gradient\n",
    "        numgrad[p] = (loss2 - loss1) / (2*e)\n",
    "\n",
    "            #Return the value we changed to zero:\n",
    "        perturb[p] = 0\n",
    "            \n",
    "    #Return Params to original value:\n",
    "    N.setParams(paramsInitial)\n",
    "\n",
    "    return numgrad "
   ]
  },
  {
   "cell_type": "code",
   "execution_count": 31,
   "metadata": {},
   "outputs": [],
   "source": [
    "NN = Neural_Network(Lambda=0.0001)"
   ]
  },
  {
   "cell_type": "code",
   "execution_count": 32,
   "metadata": {},
   "outputs": [],
   "source": [
    "#Make sure our gradients our correct after making changes:\n",
    "numgrad = computeNumericalGradient(NN, X, y)\n",
    "grad = NN.computeGradients(X,y)"
   ]
  },
  {
   "cell_type": "code",
   "execution_count": 33,
   "metadata": {},
   "outputs": [
    {
     "data": {
      "text/plain": [
       "1.0682128301779015e-09"
      ]
     },
     "execution_count": 33,
     "metadata": {},
     "output_type": "execute_result"
    }
   ],
   "source": [
    "#Should be less than 1e-8:\n",
    "np.linalg.norm(grad-numgrad)/np.linalg.norm(grad+numgrad)"
   ]
  },
  {
   "cell_type": "code",
   "execution_count": 34,
   "metadata": {},
   "outputs": [],
   "source": [
    "T = trainer(NN)"
   ]
  },
  {
   "cell_type": "code",
   "execution_count": 35,
   "metadata": {},
   "outputs": [
    {
     "name": "stdout",
     "output_type": "stream",
     "text": [
      "Warning: Maximum number of iterations has been exceeded.\n",
      "         Current function value: 0.003663\n",
      "         Iterations: 100\n",
      "         Function evaluations: 103\n",
      "         Gradient evaluations: 103\n"
     ]
    }
   ],
   "source": [
    "T.train(X,y,testX,testY)"
   ]
  },
  {
   "cell_type": "code",
   "execution_count": 36,
   "metadata": {},
   "outputs": [
    {
     "data": {
      "image/png": "[encoded data removed]",
      "text/plain": [
       "<Figure size 432x288 with 1 Axes>"
      ]
     },
     "metadata": {
      "needs_background": "light"
     },
     "output_type": "display_data"
    }
   ],
   "source": [
    "plot.plot(T.J)\n",
    "plot.plot(T.testJ)\n",
    "plot.grid(1)\n",
    "plot.xlabel('Iterations')\n",
    "plot.ylabel('Cost')\n",
    "plot.legend(['Training', 'Testing'])\n",
    "plot.show()"
   ]
  },
  {
   "cell_type": "code",
   "execution_count": 37,
   "metadata": {},
   "outputs": [
    {
     "data": {
      "text/plain": [
       "[array([0.01561403]),\n",
       " array([0.01355321]),\n",
       " array([0.01354054]),\n",
       " array([0.01351706]),\n",
       " array([0.01347241]),\n",
       " array([0.01338713]),\n",
       " array([0.01322532]),\n",
       " array([0.01292292]),\n",
       " array([0.0123726]),\n",
       " array([0.01141373]),\n",
       " array([0.00987343]),\n",
       " array([0.00809518]),\n",
       " array([0.00710315]),\n",
       " array([0.00558598]),\n",
       " array([0.00465985]),\n",
       " array([0.00461556]),\n",
       " array([0.00460371]),\n",
       " array([0.00460298]),\n",
       " array([0.0046016]),\n",
       " array([0.00459895]),\n",
       " array([0.0045939]),\n",
       " array([0.00458447]),\n",
       " array([0.00456755]),\n",
       " array([0.00453984]),\n",
       " array([0.00450151]),\n",
       " array([0.00445708]),\n",
       " array([0.0043814]),\n",
       " array([0.00427236]),\n",
       " array([0.00420295]),\n",
       " array([0.00415527]),\n",
       " array([0.00414719]),\n",
       " array([0.00413583]),\n",
       " array([0.00413229]),\n",
       " array([0.00413175]),\n",
       " array([0.00413121]),\n",
       " array([0.00413068]),\n",
       " array([0.0041297]),\n",
       " array([0.00412786]),\n",
       " array([0.0041244]),\n",
       " array([0.00411794]),\n",
       " array([0.00410617]),\n",
       " array([0.00408555]),\n",
       " array([0.00405188]),\n",
       " array([0.00400271]),\n",
       " array([0.00395091]),\n",
       " array([0.00387008]),\n",
       " array([0.00381116]),\n",
       " array([0.00378451]),\n",
       " array([0.00377542]),\n",
       " array([0.00377436]),\n",
       " array([0.003774]),\n",
       " array([0.00377382]),\n",
       " array([0.00377377]),\n",
       " array([0.00377343]),\n",
       " array([0.00377285]),\n",
       " array([0.00377179]),\n",
       " array([0.00376982]),\n",
       " array([0.00376619]),\n",
       " array([0.00375959]),\n",
       " array([0.00374816]),\n",
       " array([0.00373035]),\n",
       " array([0.00371254]),\n",
       " array([0.00370108]),\n",
       " array([0.00369395]),\n",
       " array([0.00369229]),\n",
       " array([0.00369168]),\n",
       " array([0.00369157]),\n",
       " array([0.00369156]),\n",
       " array([0.00369155]),\n",
       " array([0.00369153]),\n",
       " array([0.00369149]),\n",
       " array([0.00369142]),\n",
       " array([0.00369128]),\n",
       " array([0.00369104]),\n",
       " array([0.00369059]),\n",
       " array([0.00368982]),\n",
       " array([0.00368854]),\n",
       " array([0.00368652]),\n",
       " array([0.00368335]),\n",
       " array([0.00367851]),\n",
       " array([0.0036733]),\n",
       " array([0.00367143]),\n",
       " array([0.00367118]),\n",
       " array([0.00367116]),\n",
       " array([0.00367115]),\n",
       " array([0.00367115]),\n",
       " array([0.00367114]),\n",
       " array([0.00367112]),\n",
       " array([0.00367109]),\n",
       " array([0.00367104]),\n",
       " array([0.00367093]),\n",
       " array([0.00367076]),\n",
       " array([0.00367045]),\n",
       " array([0.00366995]),\n",
       " array([0.00366911]),\n",
       " array([0.00366771]),\n",
       " array([0.00366554]),\n",
       " array([0.00366357]),\n",
       " array([0.0036629]),\n",
       " array([0.00366264])]"
      ]
     },
     "execution_count": 37,
     "metadata": {},
     "output_type": "execute_result"
    }
   ],
   "source": [
    "T.J"
   ]
  },
  {
   "cell_type": "code",
   "execution_count": 38,
   "metadata": {},
   "outputs": [
    {
     "data": {
      "text/plain": [
       "[array([0.01723054]),\n",
       " array([0.00761458]),\n",
       " array([0.00786519]),\n",
       " array([0.00807512]),\n",
       " array([0.00829966]),\n",
       " array([0.00857358]),\n",
       " array([0.00892801]),\n",
       " array([0.00938859]),\n",
       " array([0.00994473]),\n",
       " array([0.01043819]),\n",
       " array([0.01027094]),\n",
       " array([0.00846554]),\n",
       " array([0.00668332]),\n",
       " array([0.00415271]),\n",
       " array([0.00293433]),\n",
       " array([0.00283251]),\n",
       " array([0.00274174]),\n",
       " array([0.00273787]),\n",
       " array([0.00273414]),\n",
       " array([0.00272918]),\n",
       " array([0.00272199]),\n",
       " array([0.0027114]),\n",
       " array([0.00269673]),\n",
       " array([0.00268096]),\n",
       " array([0.0026761]),\n",
       " array([0.00266392]),\n",
       " array([0.00262303]),\n",
       " array([0.00257934]),\n",
       " array([0.00252437]),\n",
       " array([0.00252454]),\n",
       " array([0.00243431]),\n",
       " array([0.00246324]),\n",
       " array([0.00249416]),\n",
       " array([0.00249955]),\n",
       " array([0.00250362]),\n",
       " array([0.00250674]),\n",
       " array([0.00251008]),\n",
       " array([0.00251387]),\n",
       " array([0.00251855]),\n",
       " array([0.00252463]),\n",
       " array([0.00253289]),\n",
       " array([0.00254511]),\n",
       " array([0.00256611]),\n",
       " array([0.0026048]),\n",
       " array([0.00262494]),\n",
       " array([0.00259462]),\n",
       " array([0.00256789]),\n",
       " array([0.00247937]),\n",
       " array([0.00244585]),\n",
       " array([0.00244357]),\n",
       " array([0.00244673]),\n",
       " array([0.00245258]),\n",
       " array([0.00245371]),\n",
       " array([0.00245926]),\n",
       " array([0.00246427]),\n",
       " array([0.00246877]),\n",
       " array([0.00247312]),\n",
       " array([0.00247718]),\n",
       " array([0.00248003]),\n",
       " array([0.00247897]),\n",
       " array([0.00246733]),\n",
       " array([0.00243962]),\n",
       " array([0.00240628]),\n",
       " array([0.00235998]),\n",
       " array([0.00235099]),\n",
       " array([0.00234524]),\n",
       " array([0.0023461]),\n",
       " array([0.00234631]),\n",
       " array([0.00234696]),\n",
       " array([0.00234754]),\n",
       " array([0.00234817]),\n",
       " array([0.00234892]),\n",
       " array([0.00234991]),\n",
       " array([0.00235125]),\n",
       " array([0.00235314]),\n",
       " array([0.00235577]),\n",
       " array([0.00235928]),\n",
       " array([0.00236323]),\n",
       " array([0.00236534]),\n",
       " array([0.00236079]),\n",
       " array([0.00234396]),\n",
       " array([0.00232774]),\n",
       " array([0.0023226]),\n",
       " array([0.00232172]),\n",
       " array([0.00232167]),\n",
       " array([0.00232159]),\n",
       " array([0.00232151]),\n",
       " array([0.00232139]),\n",
       " array([0.00232123]),\n",
       " array([0.00232099]),\n",
       " array([0.00232062]),\n",
       " array([0.00232005]),\n",
       " array([0.00231921]),\n",
       " array([0.00231804]),\n",
       " array([0.00231652]),\n",
       " array([0.00231473]),\n",
       " array([0.00231323]),\n",
       " array([0.00231384]),\n",
       " array([0.00231331]),\n",
       " array([0.00231442])]"
      ]
     },
     "execution_count": 38,
     "metadata": {},
     "output_type": "execute_result"
    }
   ],
   "source": [
    "T.testJ"
   ]
  },
  {
   "cell_type": "code",
   "execution_count": 39,
   "metadata": {},
   "outputs": [
    {
     "data": {
      "text/plain": [
       "0.0016805554338288917"
      ]
     },
     "execution_count": 39,
     "metadata": {},
     "output_type": "execute_result"
    }
   ],
   "source": [
    "from sklearn.metrics import mean_absolute_error\n",
    "mean_absolute_error(T.J, T.testJ)"
   ]
  },
  {
   "cell_type": "code",
   "execution_count": 40,
   "metadata": {},
   "outputs": [],
   "source": [
    "yHat=NN.forward(X)"
   ]
  },
  {
   "cell_type": "code",
   "execution_count": 41,
   "metadata": {},
   "outputs": [
    {
     "data": {
      "text/plain": [
       "array([[0.18320302],\n",
       "       [0.17738018],\n",
       "       [0.20727055],\n",
       "       [0.24027602],\n",
       "       [0.26034752],\n",
       "       [0.34349851],\n",
       "       [0.483876  ],\n",
       "       [0.39603192],\n",
       "       [0.35882014],\n",
       "       [0.37919432],\n",
       "       [0.39110362],\n",
       "       [0.32110443],\n",
       "       [0.24767893],\n",
       "       [0.22844545],\n",
       "       [0.26459383],\n",
       "       [0.2612421 ],\n",
       "       [0.22209631],\n",
       "       [0.22103093],\n",
       "       [0.21131419],\n",
       "       [0.19481193],\n",
       "       [0.2406351 ],\n",
       "       [0.26637197],\n",
       "       [0.26428561],\n",
       "       [0.26055559],\n",
       "       [0.25975925],\n",
       "       [0.252637  ],\n",
       "       [0.25435745],\n",
       "       [0.24985111],\n",
       "       [0.25704316],\n",
       "       [0.25811912],\n",
       "       [0.25274731],\n",
       "       [0.29160903],\n",
       "       [0.29946519],\n",
       "       [0.30903951],\n",
       "       [0.2767928 ],\n",
       "       [0.31052265],\n",
       "       [0.34858599],\n",
       "       [0.36824147],\n",
       "       [0.42522931],\n",
       "       [0.43159757],\n",
       "       [0.50966905],\n",
       "       [0.54974075],\n",
       "       [0.61212047],\n",
       "       [0.66713252],\n",
       "       [0.61141631],\n",
       "       [0.56772632],\n",
       "       [0.49072382],\n",
       "       [0.44875521],\n",
       "       [0.47229664],\n",
       "       [0.46327867],\n",
       "       [0.51230124],\n",
       "       [0.48879022],\n",
       "       [0.45102977],\n",
       "       [0.47989819],\n",
       "       [0.45842102],\n",
       "       [0.45829207],\n",
       "       [0.44632383],\n",
       "       [0.43421339],\n",
       "       [0.37345992]])"
      ]
     },
     "execution_count": 41,
     "metadata": {},
     "output_type": "execute_result"
    }
   ],
   "source": [
    "yHat"
   ]
  },
  {
   "cell_type": "code",
   "execution_count": 42,
   "metadata": {},
   "outputs": [
    {
     "data": {
      "text/plain": [
       "array([[0.11211342],\n",
       "       [0.17073406],\n",
       "       [0.2232566 ],\n",
       "       [0.24197469],\n",
       "       [0.36573346],\n",
       "       [0.55255899],\n",
       "       [0.37002352],\n",
       "       [0.3325317 ],\n",
       "       [0.38788752],\n",
       "       [0.39836394],\n",
       "       [0.2848263 ],\n",
       "       [0.18673502],\n",
       "       [0.18269477],\n",
       "       [0.255617  ],\n",
       "       [0.23597043],\n",
       "       [0.16413413],\n",
       "       [0.17817663],\n",
       "       [0.1639561 ],\n",
       "       [0.13324148],\n",
       "       [0.22639902],\n",
       "       [0.25501386],\n",
       "       [0.23708614],\n",
       "       [0.23165112],\n",
       "       [0.23306761],\n",
       "       [0.22117372],\n",
       "       [0.22633168],\n",
       "       [0.21869864],\n",
       "       [0.2320322 ],\n",
       "       [0.23194795],\n",
       "       [0.22154782],\n",
       "       [0.28795858],\n",
       "       [0.28837327],\n",
       "       [0.29714576],\n",
       "       [0.24366982],\n",
       "       [0.30743731],\n",
       "       [0.35859786],\n",
       "       [0.37218122],\n",
       "       [0.45025948],\n",
       "       [0.44309563],\n",
       "       [0.55815598],\n",
       "       [0.60235983],\n",
       "       [0.69629172],\n",
       "       [0.79060467],\n",
       "       [0.64402223],\n",
       "       [0.58322864],\n",
       "       [0.48171501],\n",
       "       [0.44281211],\n",
       "       [0.49627058],\n",
       "       [0.47546339],\n",
       "       [0.55155979],\n",
       "       [0.50099435],\n",
       "       [0.44545859],\n",
       "       [0.50571167],\n",
       "       [0.46588904],\n",
       "       [0.46785659],\n",
       "       [0.45300142],\n",
       "       [0.43741172],\n",
       "       [0.3506737 ],\n",
       "       [0.36403131]])"
      ]
     },
     "execution_count": 42,
     "metadata": {},
     "output_type": "execute_result"
    }
   ],
   "source": [
    "y"
   ]
  },
  {
   "cell_type": "code",
   "execution_count": 43,
   "metadata": {},
   "outputs": [
    {
     "data": {
      "text/plain": [
       "0.004605118961710626"
      ]
     },
     "execution_count": 43,
     "metadata": {},
     "output_type": "execute_result"
    }
   ],
   "source": [
    "from sklearn.metrics import mean_squared_error \n",
    "mean_squared_error(y,yHat) "
   ]
  },
  {
   "cell_type": "code",
   "execution_count": 44,
   "metadata": {},
   "outputs": [
    {
     "data": {
      "image/png": "[encoded data removed]",
      "text/plain": [
       "<Figure size 432x288 with 1 Axes>"
      ]
     },
     "metadata": {
      "needs_background": "light"
     },
     "output_type": "display_data"
    }
   ],
   "source": [
    "#Plot cost during training:\n",
    "plot.plot(y)\n",
    "plot.plot(yHat)\n",
    "plot.grid(1)\n",
    "plot.legend(['y', 'yHat'])\n",
    "plot.show()"
   ]
  },
  {
   "cell_type": "code",
   "execution_count": 45,
   "metadata": {},
   "outputs": [],
   "source": [
    "prediksi=NN.forward(dataprediksi)"
   ]
  },
  {
   "cell_type": "code",
   "execution_count": 46,
   "metadata": {},
   "outputs": [
    {
     "data": {
      "text/plain": [
       "array([[0.36996074],\n",
       "       [0.62757939],\n",
       "       [0.74124028],\n",
       "       [0.66566667]])"
      ]
     },
     "execution_count": 46,
     "metadata": {},
     "output_type": "execute_result"
    }
   ],
   "source": [
    "prediksi"
   ]
  },
  {
   "cell_type": "code",
   "execution_count": 47,
   "metadata": {},
   "outputs": [],
   "source": [
    "from sklearn.metrics import mean_squared_error "
   ]
  },
  {
   "cell_type": "code",
   "execution_count": 48,
   "metadata": {},
   "outputs": [
    {
     "data": {
      "text/plain": [
       "0.08776780241692783"
      ]
     },
     "execution_count": 48,
     "metadata": {},
     "output_type": "execute_result"
    }
   ],
   "source": [
    "Y_true= ([\t0.795380412\t]\t,\n",
    "[\t1\t]\t,\n",
    "[\t0.707681705\t]\t,\n",
    "[\t0.491695324\t]\t,\n",
    "\t)\n",
    "\n",
    "\n",
    "Y_pred=prediksi\n",
    "mean_squared_error(Y_true,Y_pred) "
   ]
  },
  {
   "cell_type": "code",
   "execution_count": 49,
   "metadata": {},
   "outputs": [
    {
     "data": {
      "text/plain": [
       "array([[0.43741172, 0.3506737 , 0.36403131],\n",
       "       [0.3506737 , 0.36403131, 0.79538041],\n",
       "       [0.36403131, 0.79538041, 1.        ],\n",
       "       [0.79538041, 1.        , 0.70768171]])"
      ]
     },
     "execution_count": 49,
     "metadata": {},
     "output_type": "execute_result"
    }
   ],
   "source": [
    "dataprediksi"
   ]
  },
  {
   "cell_type": "code",
   "execution_count": 50,
   "metadata": {},
   "outputs": [],
   "source": [
    "a=np.array([\t1\t,\t0.707681705\t,\t0.491695324\t])"
   ]
  },
  {
   "cell_type": "code",
   "execution_count": 51,
   "metadata": {},
   "outputs": [
    {
     "data": {
      "text/plain": [
       "array([0.53314602])"
      ]
     },
     "execution_count": 51,
     "metadata": {},
     "output_type": "execute_result"
    }
   ],
   "source": [
    "#prediksi 1\n",
    "prediksi=NN.forward(a)\n",
    "prediksi"
   ]
  },
  {
   "cell_type": "code",
   "execution_count": 52,
   "metadata": {},
   "outputs": [
    {
     "data": {
      "text/plain": [
       "array([0.51538535])"
      ]
     },
     "execution_count": 52,
     "metadata": {},
     "output_type": "execute_result"
    }
   ],
   "source": [
    "#prediksi 2\n",
    "c=prediksi\n",
    "b=a[1:]\n",
    "d=np.concatenate((b,c))\n",
    "prediksi=NN.forward(d)\n",
    "prediksi"
   ]
  },
  {
   "cell_type": "code",
   "execution_count": 53,
   "metadata": {},
   "outputs": [
    {
     "data": {
      "text/plain": [
       "array([0.49657706])"
      ]
     },
     "execution_count": 53,
     "metadata": {},
     "output_type": "execute_result"
    }
   ],
   "source": [
    "#prediksi 3\n",
    "c=prediksi\n",
    "b=d[1:]\n",
    "e=np.concatenate((b,c))\n",
    "prediksi=NN.forward(e)\n",
    "prediksi"
   ]
  },
  {
   "cell_type": "code",
   "execution_count": 54,
   "metadata": {},
   "outputs": [
    {
     "data": {
      "text/plain": [
       "array([0.48489888])"
      ]
     },
     "execution_count": 54,
     "metadata": {},
     "output_type": "execute_result"
    }
   ],
   "source": [
    "#prediksi 4\n",
    "c=prediksi\n",
    "b=e[1:]\n",
    "f=np.concatenate((b,c))\n",
    "prediksi=NN.forward(f)\n",
    "prediksi"
   ]
  },
  {
   "cell_type": "code",
   "execution_count": 55,
   "metadata": {},
   "outputs": [
    {
     "data": {
      "text/plain": [
       "array([0.47391309])"
      ]
     },
     "execution_count": 55,
     "metadata": {},
     "output_type": "execute_result"
    }
   ],
   "source": [
    "#prediksi 5\n",
    "c=prediksi\n",
    "b=f[1:]\n",
    "g=np.concatenate((b,c))\n",
    "prediksi=NN.forward(g)\n",
    "prediksi"
   ]
  },
  {
   "cell_type": "code",
   "execution_count": 56,
   "metadata": {},
   "outputs": [
    {
     "data": {
      "text/plain": [
       "array([0.4641318])"
      ]
     },
     "execution_count": 56,
     "metadata": {},
     "output_type": "execute_result"
    }
   ],
   "source": [
    "#prediksi 6\n",
    "c=prediksi\n",
    "b=g[1:]\n",
    "h=np.concatenate((b,c))\n",
    "prediksi=NN.forward(h)\n",
    "prediksi"
   ]
  },
  {
   "cell_type": "code",
   "execution_count": 57,
   "metadata": {},
   "outputs": [
    {
     "data": {
      "text/plain": [
       "array([0.45775328])"
      ]
     },
     "execution_count": 57,
     "metadata": {},
     "output_type": "execute_result"
    }
   ],
   "source": [
    "#prediksi 7\n",
    "c=prediksi\n",
    "b=g[1:]\n",
    "i=np.concatenate((b,c))\n",
    "prediksi=NN.forward(i)\n",
    "prediksi"
   ]
  },
  {
   "cell_type": "code",
   "execution_count": 58,
   "metadata": {},
   "outputs": [
    {
     "data": {
      "text/plain": [
       "array([0.45357848])"
      ]
     },
     "execution_count": 58,
     "metadata": {},
     "output_type": "execute_result"
    }
   ],
   "source": [
    "#prediksi 8\n",
    "c=prediksi\n",
    "b=g[1:]\n",
    "j=np.concatenate((b,c))\n",
    "prediksi=NN.forward(j)\n",
    "prediksi"
   ]
  },
  {
   "cell_type": "code",
   "execution_count": 59,
   "metadata": {},
   "outputs": [
    {
     "data": {
      "text/plain": [
       "array([0.45083993])"
      ]
     },
     "execution_count": 59,
     "metadata": {},
     "output_type": "execute_result"
    }
   ],
   "source": [
    "#prediksi 9\n",
    "c=prediksi\n",
    "b=g[1:]\n",
    "k=np.concatenate((b,c))\n",
    "prediksi=NN.forward(k)\n",
    "prediksi"
   ]
  },
  {
   "cell_type": "code",
   "execution_count": 60,
   "metadata": {},
   "outputs": [
    {
     "data": {
      "text/plain": [
       "array([0.44904103])"
      ]
     },
     "execution_count": 60,
     "metadata": {},
     "output_type": "execute_result"
    }
   ],
   "source": [
    "#prediksi 10\n",
    "c=prediksi\n",
    "b=g[1:]\n",
    "l=np.concatenate((b,c))\n",
    "prediksi=NN.forward(l)\n",
    "prediksi"
   ]
  },
  {
   "cell_type": "code",
   "execution_count": 61,
   "metadata": {},
   "outputs": [
    {
     "data": {
      "text/plain": [
       "array([0.44785831])"
      ]
     },
     "execution_count": 61,
     "metadata": {},
     "output_type": "execute_result"
    }
   ],
   "source": [
    "#prediksi 11\n",
    "c=prediksi\n",
    "b=g[1:]\n",
    "m=np.concatenate((b,c))\n",
    "prediksi=NN.forward(m)\n",
    "prediksi"
   ]
  },
  {
   "cell_type": "code",
   "execution_count": 62,
   "metadata": {},
   "outputs": [
    {
     "data": {
      "text/plain": [
       "array([0.44708028])"
      ]
     },
     "execution_count": 62,
     "metadata": {},
     "output_type": "execute_result"
    }
   ],
   "source": [
    "#prediksi 12\n",
    "c=prediksi\n",
    "b=g[1:]\n",
    "n=np.concatenate((b,c))\n",
    "prediksi=NN.forward(n)\n",
    "prediksi"
   ]
  },
  {
   "cell_type": "code",
   "execution_count": null,
   "metadata": {},
   "outputs": [],
   "source": []
  }
 ],
 "metadata": {
  "kernelspec": {
   "display_name": "Python 3",
   "language": "python",
   "name": "python3"
  },
  "language_info": {
   "codemirror_mode": {
    "name": "ipython",
    "version": 3
   },
   "file_extension": ".py",
   "mimetype": "text/x-python",
   "name": "python",
   "nbconvert_exporter": "python",
   "pygments_lexer": "ipython3",
   "version": "3.7.3"
  }
 },
 "nbformat": 4,
 "nbformat_minor": 2
}
