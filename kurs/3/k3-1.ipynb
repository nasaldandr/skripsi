{
 "cells": [
  {
   "cell_type": "code",
   "execution_count": 1,
   "metadata": {},
   "outputs": [],
   "source": [
    "import numpy as np"
   ]
  },
  {
   "cell_type": "code",
   "execution_count": 2,
   "metadata": {},
   "outputs": [],
   "source": [
    "#UNTUK NILAI IMPOR\n",
    "class Neural_Network(object):\n",
    "    def __init__(self):\n",
    "        #parameters\n",
    "        self.inputLayerSize = 3\n",
    "        self.outputLayerSize = 1\n",
    "        self.hiddenLayerSize = 1\n",
    "\n",
    "        #weights\n",
    "        self.W1 = np.random.randn(self.inputLayerSize,\\\n",
    "                                 self.hiddenLayerSize)  \n",
    "        self.W2 = np.random.randn(self.hiddenLayerSize,\\\n",
    "                                 self.outputLayerSize)  \n",
    "    \n",
    "    def printw(self):\n",
    "        return self.W1\n",
    "        \n",
    "    def weight(self, W1, W2):\n",
    "        #Make an internal variable for the weight:\n",
    "        self.W1 = W1\n",
    "        self.W2 = W2\n",
    "        \n",
    "    def forward(self, X):\n",
    "        #forward propagation through our network\n",
    "        self.z2 = np.dot(X,self.W1)  \n",
    "        self.a2 = self.sigmoid(self.z2)  # activation function\n",
    "        self.z3 = np.dot(self.a2, self.W2) \n",
    "        yHat = self.sigmoid(self.z3)  # final activation function\n",
    "        return yHat\n",
    "\n",
    "    def sigmoid(self, z):\n",
    "        # activation function\n",
    "        return 1 / (1 + np.exp(-z))\n",
    "    \n",
    "    def sigmoidPrime(self,z): \n",
    "        #derivative of sigmoid     \n",
    "        return np.exp(-z)/((1+np.exp(-z))**2)\n",
    "    \n",
    "    def costFunction(self,X,y):\n",
    "        self.yHat = self.forward(X)\n",
    "        J=0.5*sum((y-self.yHat)**2)\n",
    "        return J\n",
    "    \n",
    "    def costFunctionPrime(self,X,y):\n",
    "        self.yHat=self.forward(X)\n",
    "        \n",
    "        delta3=np.multiply(-(y-self.yHat),self.sigmoidPrime(self.z3))\n",
    "        dJdW2=np.dot(self.a2.T,delta3)\n",
    "        \n",
    "        delta2=np.dot(delta3,self.W2.T)*self.sigmoidPrime(self.z2)\n",
    "        dJdW1=np.dot(X.T,delta2)\n",
    "        return dJdW1,dJdW2\n",
    "    \n",
    "    def predict(self):\n",
    "        prediksi = self.forward(dataprediksi)\n",
    "        return prediksi\n",
    "    \n",
    "    def getParams(self):\n",
    "        params=np.concatenate((self.W1.ravel(),self.W2.ravel()))\n",
    "        return params\n",
    "    \n",
    "    def setParams(self,params):\n",
    "        W1_start=0\n",
    "        W1_end=self.hiddenLayerSize*self.inputLayerSize\n",
    "        self.W1=np.reshape(params[W1_start:W1_end],\\\n",
    "                          (self.inputLayerSize,self.hiddenLayerSize))\n",
    "        W2_end=W1_end+self.hiddenLayerSize*self.outputLayerSize\n",
    "        self.W2=np.reshape(params[W1_end:W2_end],\\\n",
    "                          (self.hiddenLayerSize,self.outputLayerSize))\n",
    "        \n",
    "    def computeGradients(self, X, y):\n",
    "        dJdW1, dJdW2 = self.costFunctionPrime(X, y)\n",
    "        return np.concatenate((dJdW1.ravel(), dJdW2.ravel()))"
   ]
  },
  {
   "cell_type": "code",
   "execution_count": 3,
   "metadata": {},
   "outputs": [],
   "source": [
    "NN = Neural_Network()"
   ]
  },
  {
   "cell_type": "code",
   "execution_count": 4,
   "metadata": {},
   "outputs": [
    {
     "data": {
      "text/plain": [
       "array([[0.37185351],\n",
       "       [1.09550466],\n",
       "       [1.64475957]])"
      ]
     },
     "execution_count": 4,
     "metadata": {},
     "output_type": "execute_result"
    }
   ],
   "source": [
    "NN.W1"
   ]
  },
  {
   "cell_type": "code",
   "execution_count": 5,
   "metadata": {},
   "outputs": [
    {
     "data": {
      "text/plain": [
       "array([[-0.59703156]])"
      ]
     },
     "execution_count": 5,
     "metadata": {},
     "output_type": "execute_result"
    }
   ],
   "source": [
    "NN.W2"
   ]
  },
  {
   "cell_type": "code",
   "execution_count": 6,
   "metadata": {},
   "outputs": [],
   "source": [
    "#KURS\n",
    "X=np.array(([\t0\t,\t0.051924996\t,\t0.148319042\t]\t,\n",
    "[\t0.051924996\t,\t0.148319042\t,\t0.112113419\t]\t,\n",
    "[\t0.148319042\t,\t0.112113419\t,\t0.170734062\t]\t,\n",
    "[\t0.112113419\t,\t0.170734062\t,\t0.223256598\t]\t,\n",
    "[\t0.170734062\t,\t0.223256598\t,\t0.241974687\t]\t,\n",
    "[\t0.223256598\t,\t0.241974687\t,\t0.365733465\t]\t,\n",
    "[\t0.241974687\t,\t0.365733465\t,\t0.552558994\t]\t,\n",
    "[\t0.365733465\t,\t0.552558994\t,\t0.370023519\t]\t,\n",
    "[\t0.552558994\t,\t0.370023519\t,\t0.332531703\t]\t,\n",
    "[\t0.370023519\t,\t0.332531703\t,\t0.387887522\t]\t,\n",
    "[\t0.332531703\t,\t0.387887522\t,\t0.398363943\t]\t,\n",
    "[\t0.387887522\t,\t0.398363943\t,\t0.284826299\t]\t,\n",
    "[\t0.398363943\t,\t0.284826299\t,\t0.186735022\t]\t,\n",
    "[\t0.284826299\t,\t0.186735022\t,\t0.182694768\t]\t,\n",
    "[\t0.186735022\t,\t0.182694768\t,\t0.255617002\t]\t,\n",
    "[\t0.182694768\t,\t0.255617002\t,\t0.23597043\t]\t,\n",
    "[\t0.255617002\t,\t0.23597043\t,\t0.164134134\t]\t,\n",
    "[\t0.23597043\t,\t0.164134134\t,\t0.178176635\t]\t,\n",
    "[\t0.164134134\t,\t0.178176635\t,\t0.163956101\t]\t,\n",
    "[\t0.178176635\t,\t0.163956101\t,\t0.133241484\t]\t,\n",
    "[\t0.163956101\t,\t0.133241484\t,\t0.226399017\t]\t,\n",
    "[\t0.133241484\t,\t0.226399017\t,\t0.255013861\t]\t,\n",
    "[\t0.226399017\t,\t0.255013861\t,\t0.23708614\t]\t,\n",
    "[\t0.255013861\t,\t0.23708614\t,\t0.231651119\t]\t,\n",
    "[\t0.23708614\t,\t0.231651119\t,\t0.233067608\t]\t,\n",
    "[\t0.231651119\t,\t0.233067608\t,\t0.221173719\t]\t,\n",
    "[\t0.233067608\t,\t0.221173719\t,\t0.22633168\t]\t,\n",
    "[\t0.221173719\t,\t0.22633168\t,\t0.218698642\t]\t,\n",
    "[\t0.22633168\t,\t0.218698642\t,\t0.232032203\t]\t,\n",
    "[\t0.218698642\t,\t0.232032203\t,\t0.231947948\t]\t,\n",
    "[\t0.232032203\t,\t0.231947948\t,\t0.221547817\t]\t,\n",
    "[\t0.231947948\t,\t0.221547817\t,\t0.287958581\t]\t,\n",
    "[\t0.221547817\t,\t0.287958581\t,\t0.28837327\t]\t,\n",
    "[\t0.287958581\t,\t0.28837327\t,\t0.297145757\t]\t,\n",
    "[\t0.28837327\t,\t0.297145757\t,\t0.243669818\t]\t,\n",
    "[\t0.297145757\t,\t0.243669818\t,\t0.307437314\t]\t,\n",
    "[\t0.243669818\t,\t0.307437314\t,\t0.358597855\t]\t,\n",
    "[\t0.307437314\t,\t0.358597855\t,\t0.372181217\t]\t,\n",
    "[\t0.358597855\t,\t0.372181217\t,\t0.450259481\t]\t,\n",
    "[\t0.372181217\t,\t0.450259481\t,\t0.443095634\t]\t,\n",
    "[\t0.450259481\t,\t0.443095634\t,\t0.558155976\t]\t,\n",
    "[\t0.443095634\t,\t0.558155976\t,\t0.602359827\t]\t,\n",
    "[\t0.558155976\t,\t0.602359827\t,\t0.696291723\t]\t,\n",
    "[\t0.602359827\t,\t0.696291723\t,\t0.790604671\t]\t,\n",
    "[\t0.696291723\t,\t0.790604671\t,\t0.644022227\t]\t,\n",
    "[\t0.790604671\t,\t0.644022227\t,\t0.583228643\t]\t,\n",
    "[\t0.644022227\t,\t0.583228643\t,\t0.481715009\t]\t,\n",
    "[\t0.583228643\t,\t0.481715009\t,\t0.442812107\t]\t,\n",
    "[\t0.481715009\t,\t0.442812107\t,\t0.496270585\t]\t,\n",
    "[\t0.442812107\t,\t0.496270585\t,\t0.475463393\t]\t,\n",
    "[\t0.496270585\t,\t0.475463393\t,\t0.551559791\t]\t,\n",
    "[\t0.475463393\t,\t0.551559791\t,\t0.500994351\t]\t,\n",
    "[\t0.551559791\t,\t0.500994351\t,\t0.445458587\t]\t,\n",
    "[\t0.500994351\t,\t0.445458587\t,\t0.505711667\t]\t,\n",
    "[\t0.445458587\t,\t0.505711667\t,\t0.465889036\t]\t,\n",
    "[\t0.505711667\t,\t0.465889036\t,\t0.46785659\t]\t,\n",
    "[\t0.465889036\t,\t0.46785659\t,\t0.453001423\t]\t,\n",
    "[\t0.46785659\t,\t0.453001423\t,\t0.437411724\t]\t,\n",
    "[\t0.453001423\t,\t0.437411724\t,\t0.350673696\t]\t,\n",
    "\n",
    ")           \n",
    ",dtype=float)\n",
    "y=np.array(([\t0.112113419\t]\t,\n",
    "[\t0.170734062\t]\t,\n",
    "[\t0.223256598\t]\t,\n",
    "[\t0.241974687\t]\t,\n",
    "[\t0.365733465\t]\t,\n",
    "[\t0.552558994\t]\t,\n",
    "[\t0.370023519\t]\t,\n",
    "[\t0.332531703\t]\t,\n",
    "[\t0.387887522\t]\t,\n",
    "[\t0.398363943\t]\t,\n",
    "[\t0.284826299\t]\t,\n",
    "[\t0.186735022\t]\t,\n",
    "[\t0.182694768\t]\t,\n",
    "[\t0.255617002\t]\t,\n",
    "[\t0.23597043\t]\t,\n",
    "[\t0.164134134\t]\t,\n",
    "[\t0.178176635\t]\t,\n",
    "[\t0.163956101\t]\t,\n",
    "[\t0.133241484\t]\t,\n",
    "[\t0.226399017\t]\t,\n",
    "[\t0.255013861\t]\t,\n",
    "[\t0.23708614\t]\t,\n",
    "[\t0.231651119\t]\t,\n",
    "[\t0.233067608\t]\t,\n",
    "[\t0.221173719\t]\t,\n",
    "[\t0.22633168\t]\t,\n",
    "[\t0.218698642\t]\t,\n",
    "[\t0.232032203\t]\t,\n",
    "[\t0.231947948\t]\t,\n",
    "[\t0.221547817\t]\t,\n",
    "[\t0.287958581\t]\t,\n",
    "[\t0.28837327\t]\t,\n",
    "[\t0.297145757\t]\t,\n",
    "[\t0.243669818\t]\t,\n",
    "[\t0.307437314\t]\t,\n",
    "[\t0.358597855\t]\t,\n",
    "[\t0.372181217\t]\t,\n",
    "[\t0.450259481\t]\t,\n",
    "[\t0.443095634\t]\t,\n",
    "[\t0.558155976\t]\t,\n",
    "[\t0.602359827\t]\t,\n",
    "[\t0.696291723\t]\t,\n",
    "[\t0.790604671\t]\t,\n",
    "[\t0.644022227\t]\t,\n",
    "[\t0.583228643\t]\t,\n",
    "[\t0.481715009\t]\t,\n",
    "[\t0.442812107\t]\t,\n",
    "[\t0.496270585\t]\t,\n",
    "[\t0.475463393\t]\t,\n",
    "[\t0.551559791\t]\t,\n",
    "[\t0.500994351\t]\t,\n",
    "[\t0.445458587\t]\t,\n",
    "[\t0.505711667\t]\t,\n",
    "[\t0.465889036\t]\t,\n",
    "[\t0.46785659\t]\t,\n",
    "[\t0.453001423\t]\t,\n",
    "[\t0.437411724\t]\t,\n",
    "[\t0.350673696\t]\t,\n",
    "[\t0.364031312\t]\t,\n",
    "\n",
    ")\n",
    ",dtype=float)\n",
    "\n",
    "dataprediksi = np.array(([\t0.437411724\t,\t0.350673696\t,\t0.364031312\t]\t,\n",
    "[\t0.350673696\t,\t0.364031312\t,\t0.795380412\t]\t,\n",
    "[\t0.364031312\t,\t0.795380412\t,\t1\t]\t,\n",
    "[\t0.795380412\t,\t1\t,\t0.707681705\t]\t,\n",
    "\n",
    "\n",
    "), dtype=float)\n"
   ]
  },
  {
   "cell_type": "code",
   "execution_count": 7,
   "metadata": {},
   "outputs": [],
   "source": [
    "import matplotlib.pyplot as plot"
   ]
  },
  {
   "cell_type": "code",
   "execution_count": 8,
   "metadata": {},
   "outputs": [],
   "source": [
    "from scipy import optimize"
   ]
  },
  {
   "cell_type": "code",
   "execution_count": 9,
   "metadata": {},
   "outputs": [],
   "source": [
    "class trainer(object):\n",
    "    def __init__(self, N):\n",
    "        #Make Local reference to network:\n",
    "        self.N = N\n",
    "        \n",
    "    def callbackF(self, params):\n",
    "        self.N.setParams(params)\n",
    "        self.J.append(self.N.costFunction(self.X, self.y))   \n",
    "        \n",
    "    def costFunctionWrapper(self, params, X, y):\n",
    "        self.N.setParams(params)\n",
    "        cost = self.N.costFunction(X, y)\n",
    "        grad = self.N.computeGradients(X,y)\n",
    "        \n",
    "        return cost, grad\n",
    "        \n",
    "    def train(self, X, y):\n",
    "        #Make an internal variable for the callback function:\n",
    "        self.X = X\n",
    "        self.y = y\n",
    "\n",
    "        #Make empty list to store costs:\n",
    "        self.J = []\n",
    "        \n",
    "        params0 = self.N.getParams()\n",
    "\n",
    "        options = {'maxiter': 100, 'disp' : True}\n",
    "        _res = optimize.minimize(self.costFunctionWrapper, params0, jac=True, method='BFGS', \\\n",
    "                                 args=(X, y), options=options, callback=self.callbackF)\n",
    "\n",
    "        self.N.setParams(_res.x)\n",
    "        self.optimizationResults = _res"
   ]
  },
  {
   "cell_type": "code",
   "execution_count": 10,
   "metadata": {},
   "outputs": [],
   "source": [
    "NN=Neural_Network()"
   ]
  },
  {
   "cell_type": "code",
   "execution_count": 11,
   "metadata": {},
   "outputs": [],
   "source": [
    "T = trainer(NN)"
   ]
  },
  {
   "cell_type": "code",
   "execution_count": 12,
   "metadata": {},
   "outputs": [
    {
     "name": "stdout",
     "output_type": "stream",
     "text": [
      "Optimization terminated successfully.\n",
      "         Current function value: 0.180727\n",
      "         Iterations: 39\n",
      "         Function evaluations: 45\n",
      "         Gradient evaluations: 45\n"
     ]
    }
   ],
   "source": [
    "#Train network with new data:\n",
    "T = trainer(NN)\n",
    "T.train(X,y)"
   ]
  },
  {
   "cell_type": "code",
   "execution_count": 13,
   "metadata": {},
   "outputs": [
    {
     "data": {
      "image/png": "[encoded data removed]",
      "text/plain": [
       "<Figure size 432x288 with 1 Axes>"
      ]
     },
     "metadata": {
      "needs_background": "light"
     },
     "output_type": "display_data"
    }
   ],
   "source": [
    "#Plot cost during training:\n",
    "plot.plot(T.J)\n",
    "plot.grid(1)\n",
    "plot.xlabel('Iterations')\n",
    "plot.ylabel('Cost')\n",
    "plot.show()"
   ]
  },
  {
   "cell_type": "code",
   "execution_count": 14,
   "metadata": {},
   "outputs": [],
   "source": [
    "#Training Data:\n",
    "trainX = np.array(([\t0\t,\t0.051924996\t,\t0.148319042\t]\t,\n",
    "[\t0.051924996\t,\t0.148319042\t,\t0.112113419\t]\t,\n",
    "[\t0.148319042\t,\t0.112113419\t,\t0.170734062\t]\t,\n",
    "[\t0.112113419\t,\t0.170734062\t,\t0.223256598\t]\t,\n",
    "[\t0.170734062\t,\t0.223256598\t,\t0.241974687\t]\t,\n",
    "[\t0.223256598\t,\t0.241974687\t,\t0.365733465\t]\t,\n",
    "[\t0.241974687\t,\t0.365733465\t,\t0.552558994\t]\t,\n",
    "[\t0.365733465\t,\t0.552558994\t,\t0.370023519\t]\t,\n",
    "[\t0.552558994\t,\t0.370023519\t,\t0.332531703\t]\t,\n",
    "[\t0.370023519\t,\t0.332531703\t,\t0.387887522\t]\t,\n",
    "[\t0.332531703\t,\t0.387887522\t,\t0.398363943\t]\t,\n",
    "[\t0.387887522\t,\t0.398363943\t,\t0.284826299\t]\t,\n",
    "[\t0.398363943\t,\t0.284826299\t,\t0.186735022\t]\t,\n",
    "[\t0.284826299\t,\t0.186735022\t,\t0.182694768\t]\t,\n",
    "[\t0.186735022\t,\t0.182694768\t,\t0.255617002\t]\t,\n",
    "[\t0.182694768\t,\t0.255617002\t,\t0.23597043\t]\t,\n",
    "[\t0.255617002\t,\t0.23597043\t,\t0.164134134\t]\t,\n",
    "[\t0.23597043\t,\t0.164134134\t,\t0.178176635\t]\t,\n",
    "[\t0.164134134\t,\t0.178176635\t,\t0.163956101\t]\t,\n",
    "[\t0.178176635\t,\t0.163956101\t,\t0.133241484\t]\t,\n",
    "[\t0.163956101\t,\t0.133241484\t,\t0.226399017\t]\t,\n",
    "[\t0.133241484\t,\t0.226399017\t,\t0.255013861\t]\t,\n",
    "[\t0.226399017\t,\t0.255013861\t,\t0.23708614\t]\t,\n",
    "[\t0.255013861\t,\t0.23708614\t,\t0.231651119\t]\t,\n",
    "[\t0.23708614\t,\t0.231651119\t,\t0.233067608\t]\t,\n",
    "[\t0.231651119\t,\t0.233067608\t,\t0.221173719\t]\t,\n",
    "[\t0.233067608\t,\t0.221173719\t,\t0.22633168\t]\t,\n",
    "[\t0.221173719\t,\t0.22633168\t,\t0.218698642\t]\t,\n",
    "[\t0.22633168\t,\t0.218698642\t,\t0.232032203\t]\t,\n",
    "[\t0.218698642\t,\t0.232032203\t,\t0.231947948\t]\t,\n",
    "[\t0.232032203\t,\t0.231947948\t,\t0.221547817\t]\t,\n",
    "[\t0.231947948\t,\t0.221547817\t,\t0.287958581\t]\t,\n",
    "[\t0.221547817\t,\t0.287958581\t,\t0.28837327\t]\t,\n",
    "[\t0.287958581\t,\t0.28837327\t,\t0.297145757\t]\t,\n",
    "[\t0.28837327\t,\t0.297145757\t,\t0.243669818\t]\t,\n",
    "[\t0.297145757\t,\t0.243669818\t,\t0.307437314\t]\t,\n",
    "[\t0.243669818\t,\t0.307437314\t,\t0.358597855\t]\t,\n",
    "[\t0.307437314\t,\t0.358597855\t,\t0.372181217\t]\t,\n",
    "[\t0.358597855\t,\t0.372181217\t,\t0.450259481\t]\t,\n",
    "[\t0.372181217\t,\t0.450259481\t,\t0.443095634\t]\t,\n",
    "[\t0.450259481\t,\t0.443095634\t,\t0.558155976\t]\t,\n",
    "[\t0.443095634\t,\t0.558155976\t,\t0.602359827\t]\t,\n",
    "[\t0.558155976\t,\t0.602359827\t,\t0.696291723\t]\t,\n",
    "[\t0.602359827\t,\t0.696291723\t,\t0.790604671\t]\t,\n",
    "[\t0.696291723\t,\t0.790604671\t,\t0.644022227\t]\t,\n",
    "[\t0.790604671\t,\t0.644022227\t,\t0.583228643\t]\t,\n",
    "\n",
    ")\n",
    ", dtype=float)\n",
    "trainY = np.array(([\t0.112113419\t]\t,\n",
    "[\t0.170734062\t]\t,\n",
    "[\t0.223256598\t]\t,\n",
    "[\t0.241974687\t]\t,\n",
    "[\t0.365733465\t]\t,\n",
    "[\t0.552558994\t]\t,\n",
    "[\t0.370023519\t]\t,\n",
    "[\t0.332531703\t]\t,\n",
    "[\t0.387887522\t]\t,\n",
    "[\t0.398363943\t]\t,\n",
    "[\t0.284826299\t]\t,\n",
    "[\t0.186735022\t]\t,\n",
    "[\t0.182694768\t]\t,\n",
    "[\t0.255617002\t]\t,\n",
    "[\t0.23597043\t]\t,\n",
    "[\t0.164134134\t]\t,\n",
    "[\t0.178176635\t]\t,\n",
    "[\t0.163956101\t]\t,\n",
    "[\t0.133241484\t]\t,\n",
    "[\t0.226399017\t]\t,\n",
    "[\t0.255013861\t]\t,\n",
    "[\t0.23708614\t]\t,\n",
    "[\t0.231651119\t]\t,\n",
    "[\t0.233067608\t]\t,\n",
    "[\t0.221173719\t]\t,\n",
    "[\t0.22633168\t]\t,\n",
    "[\t0.218698642\t]\t,\n",
    "[\t0.232032203\t]\t,\n",
    "[\t0.231947948\t]\t,\n",
    "[\t0.221547817\t]\t,\n",
    "[\t0.287958581\t]\t,\n",
    "[\t0.28837327\t]\t,\n",
    "[\t0.297145757\t]\t,\n",
    "[\t0.243669818\t]\t,\n",
    "[\t0.307437314\t]\t,\n",
    "[\t0.358597855\t]\t,\n",
    "[\t0.372181217\t]\t,\n",
    "[\t0.450259481\t]\t,\n",
    "[\t0.443095634\t]\t,\n",
    "[\t0.558155976\t]\t,\n",
    "[\t0.602359827\t]\t,\n",
    "[\t0.696291723\t]\t,\n",
    "[\t0.790604671\t]\t,\n",
    "[\t0.644022227\t]\t,\n",
    "[\t0.583228643\t]\t,\n",
    "[\t0.481715009\t]\t,\n",
    "\n",
    "\n",
    ")\n",
    ", dtype=float)\n",
    "\n",
    "#Testing Data:\n",
    "testX = np.array(([\t0.644022227\t,\t0.583228643\t,\t0.481715009\t]\t,\n",
    "[\t0.583228643\t,\t0.481715009\t,\t0.442812107\t]\t,\n",
    "[\t0.481715009\t,\t0.442812107\t,\t0.496270585\t]\t,\n",
    "[\t0.442812107\t,\t0.496270585\t,\t0.475463393\t]\t,\n",
    "[\t0.496270585\t,\t0.475463393\t,\t0.551559791\t]\t,\n",
    "[\t0.475463393\t,\t0.551559791\t,\t0.500994351\t]\t,\n",
    "[\t0.551559791\t,\t0.500994351\t,\t0.445458587\t]\t,\n",
    "[\t0.500994351\t,\t0.445458587\t,\t0.505711667\t]\t,\n",
    "[\t0.445458587\t,\t0.505711667\t,\t0.465889036\t]\t,\n",
    "[\t0.505711667\t,\t0.465889036\t,\t0.46785659\t]\t,\n",
    "[\t0.465889036\t,\t0.46785659\t,\t0.453001423\t]\t,\n",
    "[\t0.46785659\t,\t0.453001423\t,\t0.437411724\t]\t,\n",
    "[\t0.453001423\t,\t0.437411724\t,\t0.350673696\t]\t,\n",
    "\n",
    ")\n",
    ", dtype=float)\n",
    "testY = np.array(([\t0.442812107\t]\t,\n",
    "[\t0.496270585\t]\t,\n",
    "[\t0.475463393\t]\t,\n",
    "[\t0.551559791\t]\t,\n",
    "[\t0.500994351\t]\t,\n",
    "[\t0.445458587\t]\t,\n",
    "[\t0.505711667\t]\t,\n",
    "[\t0.465889036\t]\t,\n",
    "[\t0.46785659\t]\t,\n",
    "[\t0.453001423\t]\t,\n",
    "[\t0.437411724\t]\t,\n",
    "[\t0.350673696\t]\t,\n",
    "[\t0.364031312\t]\t,\n",
    "                 )\n",
    ", dtype=float)\n",
    "\n",
    "\n",
    "dataprediksi = np.array(([\t0.437411724\t,\t0.350673696\t,\t0.364031312\t]\t,\n",
    "[\t0.350673696\t,\t0.364031312\t,\t0.795380412\t]\t,\n",
    "[\t0.364031312\t,\t0.795380412\t,\t1\t]\t,\n",
    "[\t0.795380412\t,\t1\t,\t0.707681705\t]\t,\n",
    "\n",
    "\n",
    "), dtype=float)"
   ]
  },
  {
   "cell_type": "code",
   "execution_count": 15,
   "metadata": {},
   "outputs": [
    {
     "data": {
      "text/plain": [
       "array([[0.64402223, 0.58322864, 0.48171501],\n",
       "       [0.58322864, 0.48171501, 0.44281211],\n",
       "       [0.48171501, 0.44281211, 0.49627058],\n",
       "       [0.44281211, 0.49627058, 0.47546339],\n",
       "       [0.49627058, 0.47546339, 0.55155979],\n",
       "       [0.47546339, 0.55155979, 0.50099435],\n",
       "       [0.55155979, 0.50099435, 0.44545859],\n",
       "       [0.50099435, 0.44545859, 0.50571167],\n",
       "       [0.44545859, 0.50571167, 0.46588904],\n",
       "       [0.50571167, 0.46588904, 0.46785659],\n",
       "       [0.46588904, 0.46785659, 0.45300142],\n",
       "       [0.46785659, 0.45300142, 0.43741172],\n",
       "       [0.45300142, 0.43741172, 0.3506737 ]])"
      ]
     },
     "execution_count": 15,
     "metadata": {},
     "output_type": "execute_result"
    }
   ],
   "source": [
    "testX"
   ]
  },
  {
   "cell_type": "code",
   "execution_count": 16,
   "metadata": {},
   "outputs": [],
   "source": [
    "##Need to modify trainer class a bit to check testing error during training:\n",
    "class trainer(object):\n",
    "    def __init__(self, N):\n",
    "        #Make Local reference to network:\n",
    "        self.N = N\n",
    "        \n",
    "    def callbackF(self, params):\n",
    "        self.N.setParams(params)\n",
    "        self.J.append(self.N.costFunction(self.X, self.y))\n",
    "        self.testJ.append(self.N.costFunction(self.testX, self.testY))\n",
    "        \n",
    "    def costFunctionWrapper(self, params, X, y):\n",
    "        self.N.setParams(params)\n",
    "        cost = self.N.costFunction(X, y)\n",
    "        grad = self.N.computeGradients(X,y)\n",
    "        \n",
    "        return cost, grad\n",
    "        \n",
    "    def train(self, trainX, trainY, testX, testY):\n",
    "        #Make an internal variable for the callback function:\n",
    "        self.X = trainX\n",
    "        self.y = trainY\n",
    "        \n",
    "        self.testX = testX\n",
    "        self.testY = testY\n",
    "\n",
    "        #Make empty list to store training costs:\n",
    "        self.J = []\n",
    "        self.testJ = []\n",
    "        \n",
    "        params0 = self.N.getParams()\n",
    "\n",
    "        options = {'maxiter': 100, 'disp' : True}\n",
    "        _res = optimize.minimize(self.costFunctionWrapper, params0, jac=True, method='BFGS', \\\n",
    "                                 args=(trainX, trainY), options=options, callback=self.callbackF)\n",
    "\n",
    "        self.N.setParams(_res.x)\n",
    "        self.optimizationResults = _res"
   ]
  },
  {
   "cell_type": "code",
   "execution_count": 17,
   "metadata": {},
   "outputs": [
    {
     "name": "stdout",
     "output_type": "stream",
     "text": [
      "Optimization terminated successfully.\n",
      "         Current function value: 0.167156\n",
      "         Iterations: 40\n",
      "         Function evaluations: 44\n",
      "         Gradient evaluations: 44\n"
     ]
    }
   ],
   "source": [
    "#Train network with new data:\n",
    "NN = Neural_Network()\n",
    "\n",
    "T = trainer(NN)\n",
    "T.train(trainX, trainY, testX, testY)"
   ]
  },
  {
   "cell_type": "code",
   "execution_count": 18,
   "metadata": {},
   "outputs": [
    {
     "data": {
      "image/png": "[encoded data removed]",
      "text/plain": [
       "<Figure size 432x288 with 1 Axes>"
      ]
     },
     "metadata": {
      "needs_background": "light"
     },
     "output_type": "display_data"
    }
   ],
   "source": [
    "#Plot cost during training:\n",
    "plot.plot(T.J)\n",
    "plot.plot(T.testJ)\n",
    "plot.grid(1)\n",
    "plot.xlabel('Iterations')\n",
    "plot.ylabel('Cost')\n",
    "plot.legend(['Training', 'Testing'])\n",
    "plot.show()"
   ]
  },
  {
   "cell_type": "code",
   "execution_count": 19,
   "metadata": {},
   "outputs": [
    {
     "data": {
      "text/plain": [
       "[array([0.63716387]),\n",
       " array([0.6079651]),\n",
       " array([0.5931718]),\n",
       " array([0.36863126]),\n",
       " array([0.23837113]),\n",
       " array([0.23309896]),\n",
       " array([0.22985441]),\n",
       " array([0.22460893]),\n",
       " array([0.21649438]),\n",
       " array([0.20508074]),\n",
       " array([0.19289735]),\n",
       " array([0.18827602]),\n",
       " array([0.18730787]),\n",
       " array([0.18666111]),\n",
       " array([0.18635636]),\n",
       " array([0.18617315]),\n",
       " array([0.18586604]),\n",
       " array([0.18532884]),\n",
       " array([0.1843837]),\n",
       " array([0.18277494]),\n",
       " array([0.18029112]),\n",
       " array([0.17752272]),\n",
       " array([0.17417409]),\n",
       " array([0.17182573]),\n",
       " array([0.17116574]),\n",
       " array([0.17098192]),\n",
       " array([0.17095569]),\n",
       " array([0.17091743]),\n",
       " array([0.17084733]),\n",
       " array([0.1707148]),\n",
       " array([0.17046468]),\n",
       " array([0.17000406]),\n",
       " array([0.16921203]),\n",
       " array([0.16813113]),\n",
       " array([0.16762889]),\n",
       " array([0.16726594]),\n",
       " array([0.16716563]),\n",
       " array([0.16715655]),\n",
       " array([0.1671562]),\n",
       " array([0.1671562])]"
      ]
     },
     "execution_count": 19,
     "metadata": {},
     "output_type": "execute_result"
    }
   ],
   "source": [
    "T.J"
   ]
  },
  {
   "cell_type": "code",
   "execution_count": 20,
   "metadata": {},
   "outputs": [
    {
     "data": {
      "text/plain": [
       "[array([0.09315329]),\n",
       " array([0.13810703]),\n",
       " array([0.15318283]),\n",
       " array([0.02029176]),\n",
       " array([0.02592361]),\n",
       " array([0.01652795]),\n",
       " array([0.01810757]),\n",
       " array([0.02054989]),\n",
       " array([0.02326978]),\n",
       " array([0.02261861]),\n",
       " array([0.01734395]),\n",
       " array([0.01462911]),\n",
       " array([0.0141214]),\n",
       " array([0.01389093]),\n",
       " array([0.01380521]),\n",
       " array([0.0137516]),\n",
       " array([0.01367365]),\n",
       " array([0.01356846]),\n",
       " array([0.01342822]),\n",
       " array([0.0132462]),\n",
       " array([0.0130405]),\n",
       " array([0.01300169]),\n",
       " array([0.01347004]),\n",
       " array([0.01549468]),\n",
       " array([0.01438128]),\n",
       " array([0.01459921]),\n",
       " array([0.01470367]),\n",
       " array([0.01475894]),\n",
       " array([0.01480782]),\n",
       " array([0.0148616]),\n",
       " array([0.01492289]),\n",
       " array([0.01498876]),\n",
       " array([0.01503576]),\n",
       " array([0.01494976]),\n",
       " array([0.01460676]),\n",
       " array([0.01413483]),\n",
       " array([0.01395536]),\n",
       " array([0.0139776]),\n",
       " array([0.01399654]),\n",
       " array([0.01399877])]"
      ]
     },
     "execution_count": 20,
     "metadata": {},
     "output_type": "execute_result"
    }
   ],
   "source": [
    "T.testJ"
   ]
  },
  {
   "cell_type": "code",
   "execution_count": 21,
   "metadata": {},
   "outputs": [
    {
     "data": {
      "text/plain": [
       "0.1967581587072063"
      ]
     },
     "execution_count": 21,
     "metadata": {},
     "output_type": "execute_result"
    }
   ],
   "source": [
    "from sklearn.metrics import mean_absolute_error\n",
    "mean_absolute_error(T.J, T.testJ)"
   ]
  },
  {
   "cell_type": "code",
   "execution_count": 22,
   "metadata": {},
   "outputs": [],
   "source": [
    "yHat = NN.forward(X)"
   ]
  },
  {
   "cell_type": "code",
   "execution_count": 23,
   "metadata": {},
   "outputs": [
    {
     "data": {
      "text/plain": [
       "array([[0.15509598],\n",
       "       [0.07924243],\n",
       "       [0.19181961],\n",
       "       [0.24201514],\n",
       "       [0.25901673],\n",
       "       [0.40602383],\n",
       "       [0.47503742],\n",
       "       [0.33939849],\n",
       "       [0.38039838],\n",
       "       [0.41652085],\n",
       "       [0.40926577],\n",
       "       [0.28805966],\n",
       "       [0.18730049],\n",
       "       [0.20358739],\n",
       "       [0.29940767],\n",
       "       [0.23733581],\n",
       "       [0.14666586],\n",
       "       [0.19709602],\n",
       "       [0.15447248],\n",
       "       [0.11835397],\n",
       "       [0.27334315],\n",
       "       [0.27056736],\n",
       "       [0.24784589],\n",
       "       [0.25287274],\n",
       "       [0.25408269],\n",
       "       [0.23361647],\n",
       "       [0.24746415],\n",
       "       [0.23069415],\n",
       "       [0.25619383],\n",
       "       [0.24863348],\n",
       "       [0.23479881],\n",
       "       [0.33492701],\n",
       "       [0.30896089],\n",
       "       [0.33106324],\n",
       "       [0.25115816],\n",
       "       [0.35961796],\n",
       "       [0.38616641],\n",
       "       [0.39223835],\n",
       "       [0.44527766],\n",
       "       [0.43052883],\n",
       "       [0.47693744],\n",
       "       [0.47895616],\n",
       "       [0.49098055],\n",
       "       [0.49529095],\n",
       "       [0.48006409],\n",
       "       [0.47874536],\n",
       "       [0.44803337],\n",
       "       [0.43970083],\n",
       "       [0.46162239],\n",
       "       [0.44526835],\n",
       "       [0.47475879],\n",
       "       [0.45137707],\n",
       "       [0.4361083 ],\n",
       "       [0.4651569 ],\n",
       "       [0.43934458],\n",
       "       [0.4492759 ],\n",
       "       [0.43958402],\n",
       "       [0.43357181],\n",
       "       [0.36695989]])"
      ]
     },
     "execution_count": 23,
     "metadata": {},
     "output_type": "execute_result"
    }
   ],
   "source": [
    "yHat"
   ]
  },
  {
   "cell_type": "code",
   "execution_count": 24,
   "metadata": {},
   "outputs": [
    {
     "data": {
      "text/plain": [
       "array([[0.11211342],\n",
       "       [0.17073406],\n",
       "       [0.2232566 ],\n",
       "       [0.24197469],\n",
       "       [0.36573346],\n",
       "       [0.55255899],\n",
       "       [0.37002352],\n",
       "       [0.3325317 ],\n",
       "       [0.38788752],\n",
       "       [0.39836394],\n",
       "       [0.2848263 ],\n",
       "       [0.18673502],\n",
       "       [0.18269477],\n",
       "       [0.255617  ],\n",
       "       [0.23597043],\n",
       "       [0.16413413],\n",
       "       [0.17817663],\n",
       "       [0.1639561 ],\n",
       "       [0.13324148],\n",
       "       [0.22639902],\n",
       "       [0.25501386],\n",
       "       [0.23708614],\n",
       "       [0.23165112],\n",
       "       [0.23306761],\n",
       "       [0.22117372],\n",
       "       [0.22633168],\n",
       "       [0.21869864],\n",
       "       [0.2320322 ],\n",
       "       [0.23194795],\n",
       "       [0.22154782],\n",
       "       [0.28795858],\n",
       "       [0.28837327],\n",
       "       [0.29714576],\n",
       "       [0.24366982],\n",
       "       [0.30743731],\n",
       "       [0.35859786],\n",
       "       [0.37218122],\n",
       "       [0.45025948],\n",
       "       [0.44309563],\n",
       "       [0.55815598],\n",
       "       [0.60235983],\n",
       "       [0.69629172],\n",
       "       [0.79060467],\n",
       "       [0.64402223],\n",
       "       [0.58322864],\n",
       "       [0.48171501],\n",
       "       [0.44281211],\n",
       "       [0.49627058],\n",
       "       [0.47546339],\n",
       "       [0.55155979],\n",
       "       [0.50099435],\n",
       "       [0.44545859],\n",
       "       [0.50571167],\n",
       "       [0.46588904],\n",
       "       [0.46785659],\n",
       "       [0.45300142],\n",
       "       [0.43741172],\n",
       "       [0.3506737 ],\n",
       "       [0.36403131]])"
      ]
     },
     "execution_count": 24,
     "metadata": {},
     "output_type": "execute_result"
    }
   ],
   "source": [
    "y"
   ]
  },
  {
   "cell_type": "code",
   "execution_count": 25,
   "metadata": {},
   "outputs": [
    {
     "data": {
      "text/plain": [
       "0.0061408464964717935"
      ]
     },
     "execution_count": 25,
     "metadata": {},
     "output_type": "execute_result"
    }
   ],
   "source": [
    "from sklearn.metrics import mean_squared_error \n",
    "mean_squared_error(y,yHat) "
   ]
  },
  {
   "cell_type": "code",
   "execution_count": 26,
   "metadata": {},
   "outputs": [
    {
     "data": {
      "image/png": "[encoded data removed]",
      "text/plain": [
       "<Figure size 432x288 with 1 Axes>"
      ]
     },
     "metadata": {
      "needs_background": "light"
     },
     "output_type": "display_data"
    }
   ],
   "source": [
    "#Plot cost during training:\n",
    "plot.plot(y)\n",
    "plot.plot(yHat)\n",
    "plot.grid(1)\n",
    "plot.legend(['y', 'yHat'])\n",
    "plot.show()"
   ]
  },
  {
   "cell_type": "code",
   "execution_count": null,
   "metadata": {},
   "outputs": [],
   "source": []
  }
 ],
 "metadata": {
  "kernelspec": {
   "display_name": "Python 3",
   "language": "python",
   "name": "python3"
  },
  "language_info": {
   "codemirror_mode": {
    "name": "ipython",
    "version": 3
   },
   "file_extension": ".py",
   "mimetype": "text/x-python",
   "name": "python",
   "nbconvert_exporter": "python",
   "pygments_lexer": "ipython3",
   "version": "3.7.3"
  }
 },
 "nbformat": 4,
 "nbformat_minor": 2
}
