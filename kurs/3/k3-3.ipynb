{
 "cells": [
  {
   "cell_type": "code",
   "execution_count": 1,
   "metadata": {},
   "outputs": [],
   "source": [
    "import numpy as np"
   ]
  },
  {
   "cell_type": "code",
   "execution_count": 2,
   "metadata": {},
   "outputs": [],
   "source": [
    "#UNTUK NILAI IMPOR\n",
    "class Neural_Network(object):\n",
    "    def __init__(self):\n",
    "        #parameters\n",
    "        self.inputLayerSize = 3\n",
    "        self.outputLayerSize = 1\n",
    "        self.hiddenLayerSize = 3\n",
    "\n",
    "        #weights\n",
    "        self.W1 = np.random.randn(self.inputLayerSize,\\\n",
    "                                 self.hiddenLayerSize)  \n",
    "        self.W2 = np.random.randn(self.hiddenLayerSize,\\\n",
    "                                 self.outputLayerSize)  \n",
    "    \n",
    "    def printw(self):\n",
    "        return self.W1\n",
    "        \n",
    "    def weight(self, W1, W2):\n",
    "        #Make an internal variable for the weight:\n",
    "        self.W1 = W1\n",
    "        self.W2 = W2\n",
    "        \n",
    "    def forward(self, X):\n",
    "        #forward propagation through our network\n",
    "        self.z2 = np.dot(X,self.W1)  \n",
    "        self.a2 = self.sigmoid(self.z2)  # activation function\n",
    "        self.z3 = np.dot(self.a2, self.W2) \n",
    "        yHat = self.sigmoid(self.z3)  # final activation function\n",
    "        return yHat\n",
    "\n",
    "    def sigmoid(self, z):\n",
    "        # activation function\n",
    "        return 1 / (1 + np.exp(-z))\n",
    "    \n",
    "    def sigmoidPrime(self,z): \n",
    "        #derivative of sigmoid     \n",
    "        return np.exp(-z)/((1+np.exp(-z))**2)\n",
    "    \n",
    "    def costFunction(self,X,y):\n",
    "        self.yHat = self.forward(X)\n",
    "        J=0.5*sum((y-self.yHat)**2)\n",
    "        return J\n",
    "    \n",
    "    def costFunctionPrime(self,X,y):\n",
    "        self.yHat=self.forward(X)\n",
    "        \n",
    "        delta3=np.multiply(-(y-self.yHat),self.sigmoidPrime(self.z3))\n",
    "        dJdW2=np.dot(self.a2.T,delta3)\n",
    "        \n",
    "        delta2=np.dot(delta3,self.W2.T)*self.sigmoidPrime(self.z2)\n",
    "        dJdW1=np.dot(X.T,delta2)\n",
    "        return dJdW1,dJdW2\n",
    "    \n",
    "    def predict(self):\n",
    "        prediksi = self.forward(dataprediksi)\n",
    "        return prediksi\n",
    "    \n",
    "    def getParams(self):\n",
    "        params=np.concatenate((self.W1.ravel(),self.W2.ravel()))\n",
    "        return params\n",
    "    \n",
    "    def setParams(self,params):\n",
    "        W1_start=0\n",
    "        W1_end=self.hiddenLayerSize*self.inputLayerSize\n",
    "        self.W1=np.reshape(params[W1_start:W1_end],\\\n",
    "                          (self.inputLayerSize,self.hiddenLayerSize))\n",
    "        W2_end=W1_end+self.hiddenLayerSize*self.outputLayerSize\n",
    "        self.W2=np.reshape(params[W1_end:W2_end],\\\n",
    "                          (self.hiddenLayerSize,self.outputLayerSize))\n",
    "        \n",
    "    def computeGradients(self, X, y):\n",
    "        dJdW1, dJdW2 = self.costFunctionPrime(X, y)\n",
    "        return np.concatenate((dJdW1.ravel(), dJdW2.ravel()))"
   ]
  },
  {
   "cell_type": "code",
   "execution_count": 3,
   "metadata": {},
   "outputs": [],
   "source": [
    "NN = Neural_Network()"
   ]
  },
  {
   "cell_type": "code",
   "execution_count": 4,
   "metadata": {},
   "outputs": [
    {
     "data": {
      "text/plain": [
       "array([[-1.25302612, -1.13052896,  2.1099123 ],\n",
       "       [-0.99200203, -0.12522682,  1.17187974],\n",
       "       [-3.06014901, -0.80186768, -0.72291368]])"
      ]
     },
     "execution_count": 4,
     "metadata": {},
     "output_type": "execute_result"
    }
   ],
   "source": [
    "NN.W1"
   ]
  },
  {
   "cell_type": "code",
   "execution_count": 5,
   "metadata": {},
   "outputs": [
    {
     "data": {
      "text/plain": [
       "array([[ 0.02519989],\n",
       "       [ 0.20812859],\n",
       "       [-0.10969412]])"
      ]
     },
     "execution_count": 5,
     "metadata": {},
     "output_type": "execute_result"
    }
   ],
   "source": [
    "NN.W2"
   ]
  },
  {
   "cell_type": "code",
   "execution_count": 6,
   "metadata": {},
   "outputs": [],
   "source": [
    "#KURS\n",
    "X=np.array(([\t0\t,\t0.051924996\t,\t0.148319042\t]\t,\n",
    "[\t0.051924996\t,\t0.148319042\t,\t0.112113419\t]\t,\n",
    "[\t0.148319042\t,\t0.112113419\t,\t0.170734062\t]\t,\n",
    "[\t0.112113419\t,\t0.170734062\t,\t0.223256598\t]\t,\n",
    "[\t0.170734062\t,\t0.223256598\t,\t0.241974687\t]\t,\n",
    "[\t0.223256598\t,\t0.241974687\t,\t0.365733465\t]\t,\n",
    "[\t0.241974687\t,\t0.365733465\t,\t0.552558994\t]\t,\n",
    "[\t0.365733465\t,\t0.552558994\t,\t0.370023519\t]\t,\n",
    "[\t0.552558994\t,\t0.370023519\t,\t0.332531703\t]\t,\n",
    "[\t0.370023519\t,\t0.332531703\t,\t0.387887522\t]\t,\n",
    "[\t0.332531703\t,\t0.387887522\t,\t0.398363943\t]\t,\n",
    "[\t0.387887522\t,\t0.398363943\t,\t0.284826299\t]\t,\n",
    "[\t0.398363943\t,\t0.284826299\t,\t0.186735022\t]\t,\n",
    "[\t0.284826299\t,\t0.186735022\t,\t0.182694768\t]\t,\n",
    "[\t0.186735022\t,\t0.182694768\t,\t0.255617002\t]\t,\n",
    "[\t0.182694768\t,\t0.255617002\t,\t0.23597043\t]\t,\n",
    "[\t0.255617002\t,\t0.23597043\t,\t0.164134134\t]\t,\n",
    "[\t0.23597043\t,\t0.164134134\t,\t0.178176635\t]\t,\n",
    "[\t0.164134134\t,\t0.178176635\t,\t0.163956101\t]\t,\n",
    "[\t0.178176635\t,\t0.163956101\t,\t0.133241484\t]\t,\n",
    "[\t0.163956101\t,\t0.133241484\t,\t0.226399017\t]\t,\n",
    "[\t0.133241484\t,\t0.226399017\t,\t0.255013861\t]\t,\n",
    "[\t0.226399017\t,\t0.255013861\t,\t0.23708614\t]\t,\n",
    "[\t0.255013861\t,\t0.23708614\t,\t0.231651119\t]\t,\n",
    "[\t0.23708614\t,\t0.231651119\t,\t0.233067608\t]\t,\n",
    "[\t0.231651119\t,\t0.233067608\t,\t0.221173719\t]\t,\n",
    "[\t0.233067608\t,\t0.221173719\t,\t0.22633168\t]\t,\n",
    "[\t0.221173719\t,\t0.22633168\t,\t0.218698642\t]\t,\n",
    "[\t0.22633168\t,\t0.218698642\t,\t0.232032203\t]\t,\n",
    "[\t0.218698642\t,\t0.232032203\t,\t0.231947948\t]\t,\n",
    "[\t0.232032203\t,\t0.231947948\t,\t0.221547817\t]\t,\n",
    "[\t0.231947948\t,\t0.221547817\t,\t0.287958581\t]\t,\n",
    "[\t0.221547817\t,\t0.287958581\t,\t0.28837327\t]\t,\n",
    "[\t0.287958581\t,\t0.28837327\t,\t0.297145757\t]\t,\n",
    "[\t0.28837327\t,\t0.297145757\t,\t0.243669818\t]\t,\n",
    "[\t0.297145757\t,\t0.243669818\t,\t0.307437314\t]\t,\n",
    "[\t0.243669818\t,\t0.307437314\t,\t0.358597855\t]\t,\n",
    "[\t0.307437314\t,\t0.358597855\t,\t0.372181217\t]\t,\n",
    "[\t0.358597855\t,\t0.372181217\t,\t0.450259481\t]\t,\n",
    "[\t0.372181217\t,\t0.450259481\t,\t0.443095634\t]\t,\n",
    "[\t0.450259481\t,\t0.443095634\t,\t0.558155976\t]\t,\n",
    "[\t0.443095634\t,\t0.558155976\t,\t0.602359827\t]\t,\n",
    "[\t0.558155976\t,\t0.602359827\t,\t0.696291723\t]\t,\n",
    "[\t0.602359827\t,\t0.696291723\t,\t0.790604671\t]\t,\n",
    "[\t0.696291723\t,\t0.790604671\t,\t0.644022227\t]\t,\n",
    "[\t0.790604671\t,\t0.644022227\t,\t0.583228643\t]\t,\n",
    "[\t0.644022227\t,\t0.583228643\t,\t0.481715009\t]\t,\n",
    "[\t0.583228643\t,\t0.481715009\t,\t0.442812107\t]\t,\n",
    "[\t0.481715009\t,\t0.442812107\t,\t0.496270585\t]\t,\n",
    "[\t0.442812107\t,\t0.496270585\t,\t0.475463393\t]\t,\n",
    "[\t0.496270585\t,\t0.475463393\t,\t0.551559791\t]\t,\n",
    "[\t0.475463393\t,\t0.551559791\t,\t0.500994351\t]\t,\n",
    "[\t0.551559791\t,\t0.500994351\t,\t0.445458587\t]\t,\n",
    "[\t0.500994351\t,\t0.445458587\t,\t0.505711667\t]\t,\n",
    "[\t0.445458587\t,\t0.505711667\t,\t0.465889036\t]\t,\n",
    "[\t0.505711667\t,\t0.465889036\t,\t0.46785659\t]\t,\n",
    "[\t0.465889036\t,\t0.46785659\t,\t0.453001423\t]\t,\n",
    "[\t0.46785659\t,\t0.453001423\t,\t0.437411724\t]\t,\n",
    "[\t0.453001423\t,\t0.437411724\t,\t0.350673696\t]\t,\n",
    "\n",
    ")           \n",
    ",dtype=float)\n",
    "y=np.array(([\t0.112113419\t]\t,\n",
    "[\t0.170734062\t]\t,\n",
    "[\t0.223256598\t]\t,\n",
    "[\t0.241974687\t]\t,\n",
    "[\t0.365733465\t]\t,\n",
    "[\t0.552558994\t]\t,\n",
    "[\t0.370023519\t]\t,\n",
    "[\t0.332531703\t]\t,\n",
    "[\t0.387887522\t]\t,\n",
    "[\t0.398363943\t]\t,\n",
    "[\t0.284826299\t]\t,\n",
    "[\t0.186735022\t]\t,\n",
    "[\t0.182694768\t]\t,\n",
    "[\t0.255617002\t]\t,\n",
    "[\t0.23597043\t]\t,\n",
    "[\t0.164134134\t]\t,\n",
    "[\t0.178176635\t]\t,\n",
    "[\t0.163956101\t]\t,\n",
    "[\t0.133241484\t]\t,\n",
    "[\t0.226399017\t]\t,\n",
    "[\t0.255013861\t]\t,\n",
    "[\t0.23708614\t]\t,\n",
    "[\t0.231651119\t]\t,\n",
    "[\t0.233067608\t]\t,\n",
    "[\t0.221173719\t]\t,\n",
    "[\t0.22633168\t]\t,\n",
    "[\t0.218698642\t]\t,\n",
    "[\t0.232032203\t]\t,\n",
    "[\t0.231947948\t]\t,\n",
    "[\t0.221547817\t]\t,\n",
    "[\t0.287958581\t]\t,\n",
    "[\t0.28837327\t]\t,\n",
    "[\t0.297145757\t]\t,\n",
    "[\t0.243669818\t]\t,\n",
    "[\t0.307437314\t]\t,\n",
    "[\t0.358597855\t]\t,\n",
    "[\t0.372181217\t]\t,\n",
    "[\t0.450259481\t]\t,\n",
    "[\t0.443095634\t]\t,\n",
    "[\t0.558155976\t]\t,\n",
    "[\t0.602359827\t]\t,\n",
    "[\t0.696291723\t]\t,\n",
    "[\t0.790604671\t]\t,\n",
    "[\t0.644022227\t]\t,\n",
    "[\t0.583228643\t]\t,\n",
    "[\t0.481715009\t]\t,\n",
    "[\t0.442812107\t]\t,\n",
    "[\t0.496270585\t]\t,\n",
    "[\t0.475463393\t]\t,\n",
    "[\t0.551559791\t]\t,\n",
    "[\t0.500994351\t]\t,\n",
    "[\t0.445458587\t]\t,\n",
    "[\t0.505711667\t]\t,\n",
    "[\t0.465889036\t]\t,\n",
    "[\t0.46785659\t]\t,\n",
    "[\t0.453001423\t]\t,\n",
    "[\t0.437411724\t]\t,\n",
    "[\t0.350673696\t]\t,\n",
    "[\t0.364031312\t]\t,\n",
    "\n",
    ")\n",
    ",dtype=float)\n",
    "\n",
    "dataprediksi = np.array(([\t0.437411724\t,\t0.350673696\t,\t0.364031312\t]\t,\n",
    "[\t0.350673696\t,\t0.364031312\t,\t0.795380412\t]\t,\n",
    "[\t0.364031312\t,\t0.795380412\t,\t1\t]\t,\n",
    "[\t0.795380412\t,\t1\t,\t0.707681705\t]\t,\n",
    "\n",
    "\n",
    "), dtype=float)\n"
   ]
  },
  {
   "cell_type": "code",
   "execution_count": 7,
   "metadata": {},
   "outputs": [],
   "source": [
    "import matplotlib.pyplot as plot"
   ]
  },
  {
   "cell_type": "code",
   "execution_count": 8,
   "metadata": {},
   "outputs": [],
   "source": [
    "from scipy import optimize"
   ]
  },
  {
   "cell_type": "code",
   "execution_count": 9,
   "metadata": {},
   "outputs": [],
   "source": [
    "class trainer(object):\n",
    "    def __init__(self, N):\n",
    "        #Make Local reference to network:\n",
    "        self.N = N\n",
    "        \n",
    "    def callbackF(self, params):\n",
    "        self.N.setParams(params)\n",
    "        self.J.append(self.N.costFunction(self.X, self.y))   \n",
    "        \n",
    "    def costFunctionWrapper(self, params, X, y):\n",
    "        self.N.setParams(params)\n",
    "        cost = self.N.costFunction(X, y)\n",
    "        grad = self.N.computeGradients(X,y)\n",
    "        \n",
    "        return cost, grad\n",
    "        \n",
    "    def train(self, X, y):\n",
    "        #Make an internal variable for the callback function:\n",
    "        self.X = X\n",
    "        self.y = y\n",
    "\n",
    "        #Make empty list to store costs:\n",
    "        self.J = []\n",
    "        \n",
    "        params0 = self.N.getParams()\n",
    "\n",
    "        options = {'maxiter': 100, 'disp' : True}\n",
    "        _res = optimize.minimize(self.costFunctionWrapper, params0, jac=True, method='BFGS', \\\n",
    "                                 args=(X, y), options=options, callback=self.callbackF)\n",
    "\n",
    "        self.N.setParams(_res.x)\n",
    "        self.optimizationResults = _res"
   ]
  },
  {
   "cell_type": "code",
   "execution_count": 10,
   "metadata": {},
   "outputs": [],
   "source": [
    "NN=Neural_Network()"
   ]
  },
  {
   "cell_type": "code",
   "execution_count": 11,
   "metadata": {},
   "outputs": [],
   "source": [
    "T = trainer(NN)"
   ]
  },
  {
   "cell_type": "code",
   "execution_count": 12,
   "metadata": {},
   "outputs": [
    {
     "name": "stdout",
     "output_type": "stream",
     "text": [
      "Warning: Maximum number of iterations has been exceeded.\n",
      "         Current function value: 0.107498\n",
      "         Iterations: 100\n",
      "         Function evaluations: 107\n",
      "         Gradient evaluations: 107\n"
     ]
    }
   ],
   "source": [
    "#Train network with new data:\n",
    "T = trainer(NN)\n",
    "T.train(X,y)"
   ]
  },
  {
   "cell_type": "code",
   "execution_count": 13,
   "metadata": {},
   "outputs": [
    {
     "data": {
      "image/png": "[encoded data removed]",
      "text/plain": [
       "<Figure size 432x288 with 1 Axes>"
      ]
     },
     "metadata": {
      "needs_background": "light"
     },
     "output_type": "display_data"
    }
   ],
   "source": [
    "#Plot cost during training:\n",
    "plot.plot(T.J)\n",
    "plot.grid(1)\n",
    "plot.xlabel('Iterations')\n",
    "plot.ylabel('Cost')\n",
    "plot.show()"
   ]
  },
  {
   "cell_type": "code",
   "execution_count": 14,
   "metadata": {},
   "outputs": [],
   "source": [
    "#Training Data:\n",
    "trainX = np.array(([\t0\t,\t0.051924996\t,\t0.148319042\t]\t,\n",
    "[\t0.051924996\t,\t0.148319042\t,\t0.112113419\t]\t,\n",
    "[\t0.148319042\t,\t0.112113419\t,\t0.170734062\t]\t,\n",
    "[\t0.112113419\t,\t0.170734062\t,\t0.223256598\t]\t,\n",
    "[\t0.170734062\t,\t0.223256598\t,\t0.241974687\t]\t,\n",
    "[\t0.223256598\t,\t0.241974687\t,\t0.365733465\t]\t,\n",
    "[\t0.241974687\t,\t0.365733465\t,\t0.552558994\t]\t,\n",
    "[\t0.365733465\t,\t0.552558994\t,\t0.370023519\t]\t,\n",
    "[\t0.552558994\t,\t0.370023519\t,\t0.332531703\t]\t,\n",
    "[\t0.370023519\t,\t0.332531703\t,\t0.387887522\t]\t,\n",
    "[\t0.332531703\t,\t0.387887522\t,\t0.398363943\t]\t,\n",
    "[\t0.387887522\t,\t0.398363943\t,\t0.284826299\t]\t,\n",
    "[\t0.398363943\t,\t0.284826299\t,\t0.186735022\t]\t,\n",
    "[\t0.284826299\t,\t0.186735022\t,\t0.182694768\t]\t,\n",
    "[\t0.186735022\t,\t0.182694768\t,\t0.255617002\t]\t,\n",
    "[\t0.182694768\t,\t0.255617002\t,\t0.23597043\t]\t,\n",
    "[\t0.255617002\t,\t0.23597043\t,\t0.164134134\t]\t,\n",
    "[\t0.23597043\t,\t0.164134134\t,\t0.178176635\t]\t,\n",
    "[\t0.164134134\t,\t0.178176635\t,\t0.163956101\t]\t,\n",
    "[\t0.178176635\t,\t0.163956101\t,\t0.133241484\t]\t,\n",
    "[\t0.163956101\t,\t0.133241484\t,\t0.226399017\t]\t,\n",
    "[\t0.133241484\t,\t0.226399017\t,\t0.255013861\t]\t,\n",
    "[\t0.226399017\t,\t0.255013861\t,\t0.23708614\t]\t,\n",
    "[\t0.255013861\t,\t0.23708614\t,\t0.231651119\t]\t,\n",
    "[\t0.23708614\t,\t0.231651119\t,\t0.233067608\t]\t,\n",
    "[\t0.231651119\t,\t0.233067608\t,\t0.221173719\t]\t,\n",
    "[\t0.233067608\t,\t0.221173719\t,\t0.22633168\t]\t,\n",
    "[\t0.221173719\t,\t0.22633168\t,\t0.218698642\t]\t,\n",
    "[\t0.22633168\t,\t0.218698642\t,\t0.232032203\t]\t,\n",
    "[\t0.218698642\t,\t0.232032203\t,\t0.231947948\t]\t,\n",
    "[\t0.232032203\t,\t0.231947948\t,\t0.221547817\t]\t,\n",
    "[\t0.231947948\t,\t0.221547817\t,\t0.287958581\t]\t,\n",
    "[\t0.221547817\t,\t0.287958581\t,\t0.28837327\t]\t,\n",
    "[\t0.287958581\t,\t0.28837327\t,\t0.297145757\t]\t,\n",
    "[\t0.28837327\t,\t0.297145757\t,\t0.243669818\t]\t,\n",
    "[\t0.297145757\t,\t0.243669818\t,\t0.307437314\t]\t,\n",
    "[\t0.243669818\t,\t0.307437314\t,\t0.358597855\t]\t,\n",
    "[\t0.307437314\t,\t0.358597855\t,\t0.372181217\t]\t,\n",
    "[\t0.358597855\t,\t0.372181217\t,\t0.450259481\t]\t,\n",
    "[\t0.372181217\t,\t0.450259481\t,\t0.443095634\t]\t,\n",
    "[\t0.450259481\t,\t0.443095634\t,\t0.558155976\t]\t,\n",
    "[\t0.443095634\t,\t0.558155976\t,\t0.602359827\t]\t,\n",
    "[\t0.558155976\t,\t0.602359827\t,\t0.696291723\t]\t,\n",
    "[\t0.602359827\t,\t0.696291723\t,\t0.790604671\t]\t,\n",
    "[\t0.696291723\t,\t0.790604671\t,\t0.644022227\t]\t,\n",
    "[\t0.790604671\t,\t0.644022227\t,\t0.583228643\t]\t,\n",
    "\n",
    ")\n",
    ", dtype=float)\n",
    "trainY = np.array(([\t0.112113419\t]\t,\n",
    "[\t0.170734062\t]\t,\n",
    "[\t0.223256598\t]\t,\n",
    "[\t0.241974687\t]\t,\n",
    "[\t0.365733465\t]\t,\n",
    "[\t0.552558994\t]\t,\n",
    "[\t0.370023519\t]\t,\n",
    "[\t0.332531703\t]\t,\n",
    "[\t0.387887522\t]\t,\n",
    "[\t0.398363943\t]\t,\n",
    "[\t0.284826299\t]\t,\n",
    "[\t0.186735022\t]\t,\n",
    "[\t0.182694768\t]\t,\n",
    "[\t0.255617002\t]\t,\n",
    "[\t0.23597043\t]\t,\n",
    "[\t0.164134134\t]\t,\n",
    "[\t0.178176635\t]\t,\n",
    "[\t0.163956101\t]\t,\n",
    "[\t0.133241484\t]\t,\n",
    "[\t0.226399017\t]\t,\n",
    "[\t0.255013861\t]\t,\n",
    "[\t0.23708614\t]\t,\n",
    "[\t0.231651119\t]\t,\n",
    "[\t0.233067608\t]\t,\n",
    "[\t0.221173719\t]\t,\n",
    "[\t0.22633168\t]\t,\n",
    "[\t0.218698642\t]\t,\n",
    "[\t0.232032203\t]\t,\n",
    "[\t0.231947948\t]\t,\n",
    "[\t0.221547817\t]\t,\n",
    "[\t0.287958581\t]\t,\n",
    "[\t0.28837327\t]\t,\n",
    "[\t0.297145757\t]\t,\n",
    "[\t0.243669818\t]\t,\n",
    "[\t0.307437314\t]\t,\n",
    "[\t0.358597855\t]\t,\n",
    "[\t0.372181217\t]\t,\n",
    "[\t0.450259481\t]\t,\n",
    "[\t0.443095634\t]\t,\n",
    "[\t0.558155976\t]\t,\n",
    "[\t0.602359827\t]\t,\n",
    "[\t0.696291723\t]\t,\n",
    "[\t0.790604671\t]\t,\n",
    "[\t0.644022227\t]\t,\n",
    "[\t0.583228643\t]\t,\n",
    "[\t0.481715009\t]\t,\n",
    "\n",
    "\n",
    ")\n",
    ", dtype=float)\n",
    "\n",
    "#Testing Data:\n",
    "testX = np.array(([\t0.644022227\t,\t0.583228643\t,\t0.481715009\t]\t,\n",
    "[\t0.583228643\t,\t0.481715009\t,\t0.442812107\t]\t,\n",
    "[\t0.481715009\t,\t0.442812107\t,\t0.496270585\t]\t,\n",
    "[\t0.442812107\t,\t0.496270585\t,\t0.475463393\t]\t,\n",
    "[\t0.496270585\t,\t0.475463393\t,\t0.551559791\t]\t,\n",
    "[\t0.475463393\t,\t0.551559791\t,\t0.500994351\t]\t,\n",
    "[\t0.551559791\t,\t0.500994351\t,\t0.445458587\t]\t,\n",
    "[\t0.500994351\t,\t0.445458587\t,\t0.505711667\t]\t,\n",
    "[\t0.445458587\t,\t0.505711667\t,\t0.465889036\t]\t,\n",
    "[\t0.505711667\t,\t0.465889036\t,\t0.46785659\t]\t,\n",
    "[\t0.465889036\t,\t0.46785659\t,\t0.453001423\t]\t,\n",
    "[\t0.46785659\t,\t0.453001423\t,\t0.437411724\t]\t,\n",
    "[\t0.453001423\t,\t0.437411724\t,\t0.350673696\t]\t,\n",
    "\n",
    ")\n",
    ", dtype=float)\n",
    "testY = np.array(([\t0.442812107\t]\t,\n",
    "[\t0.496270585\t]\t,\n",
    "[\t0.475463393\t]\t,\n",
    "[\t0.551559791\t]\t,\n",
    "[\t0.500994351\t]\t,\n",
    "[\t0.445458587\t]\t,\n",
    "[\t0.505711667\t]\t,\n",
    "[\t0.465889036\t]\t,\n",
    "[\t0.46785659\t]\t,\n",
    "[\t0.453001423\t]\t,\n",
    "[\t0.437411724\t]\t,\n",
    "[\t0.350673696\t]\t,\n",
    "[\t0.364031312\t]\t,\n",
    "                 )\n",
    ", dtype=float)\n",
    "\n",
    "\n",
    "dataprediksi = np.array(([\t0.437411724\t,\t0.350673696\t,\t0.364031312\t]\t,\n",
    "[\t0.350673696\t,\t0.364031312\t,\t0.795380412\t]\t,\n",
    "[\t0.364031312\t,\t0.795380412\t,\t1\t]\t,\n",
    "[\t0.795380412\t,\t1\t,\t0.707681705\t]\t,\n",
    "\n",
    "\n",
    "), dtype=float)"
   ]
  },
  {
   "cell_type": "code",
   "execution_count": 15,
   "metadata": {},
   "outputs": [
    {
     "data": {
      "text/plain": [
       "array([[0.64402223, 0.58322864, 0.48171501],\n",
       "       [0.58322864, 0.48171501, 0.44281211],\n",
       "       [0.48171501, 0.44281211, 0.49627058],\n",
       "       [0.44281211, 0.49627058, 0.47546339],\n",
       "       [0.49627058, 0.47546339, 0.55155979],\n",
       "       [0.47546339, 0.55155979, 0.50099435],\n",
       "       [0.55155979, 0.50099435, 0.44545859],\n",
       "       [0.50099435, 0.44545859, 0.50571167],\n",
       "       [0.44545859, 0.50571167, 0.46588904],\n",
       "       [0.50571167, 0.46588904, 0.46785659],\n",
       "       [0.46588904, 0.46785659, 0.45300142],\n",
       "       [0.46785659, 0.45300142, 0.43741172],\n",
       "       [0.45300142, 0.43741172, 0.3506737 ]])"
      ]
     },
     "execution_count": 15,
     "metadata": {},
     "output_type": "execute_result"
    }
   ],
   "source": [
    "testX"
   ]
  },
  {
   "cell_type": "code",
   "execution_count": 16,
   "metadata": {},
   "outputs": [],
   "source": [
    "##Need to modify trainer class a bit to check testing error during training:\n",
    "class trainer(object):\n",
    "    def __init__(self, N):\n",
    "        #Make Local reference to network:\n",
    "        self.N = N\n",
    "        \n",
    "    def callbackF(self, params):\n",
    "        self.N.setParams(params)\n",
    "        self.J.append(self.N.costFunction(self.X, self.y))\n",
    "        self.testJ.append(self.N.costFunction(self.testX, self.testY))\n",
    "        \n",
    "    def costFunctionWrapper(self, params, X, y):\n",
    "        self.N.setParams(params)\n",
    "        cost = self.N.costFunction(X, y)\n",
    "        grad = self.N.computeGradients(X,y)\n",
    "        \n",
    "        return cost, grad\n",
    "        \n",
    "    def train(self, trainX, trainY, testX, testY):\n",
    "        #Make an internal variable for the callback function:\n",
    "        self.X = trainX\n",
    "        self.y = trainY\n",
    "        \n",
    "        self.testX = testX\n",
    "        self.testY = testY\n",
    "\n",
    "        #Make empty list to store training costs:\n",
    "        self.J = []\n",
    "        self.testJ = []\n",
    "        \n",
    "        params0 = self.N.getParams()\n",
    "\n",
    "        options = {'maxiter': 100, 'disp' : True}\n",
    "        _res = optimize.minimize(self.costFunctionWrapper, params0, jac=True, method='BFGS', \\\n",
    "                                 args=(trainX, trainY), options=options, callback=self.callbackF)\n",
    "\n",
    "        self.N.setParams(_res.x)\n",
    "        self.optimizationResults = _res"
   ]
  },
  {
   "cell_type": "code",
   "execution_count": 17,
   "metadata": {},
   "outputs": [
    {
     "name": "stdout",
     "output_type": "stream",
     "text": [
      "Warning: Maximum number of iterations has been exceeded.\n",
      "         Current function value: 0.083049\n",
      "         Iterations: 100\n",
      "         Function evaluations: 104\n",
      "         Gradient evaluations: 104\n"
     ]
    }
   ],
   "source": [
    "#Train network with new data:\n",
    "NN = Neural_Network()\n",
    "\n",
    "T = trainer(NN)\n",
    "T.train(trainX, trainY, testX, testY)"
   ]
  },
  {
   "cell_type": "code",
   "execution_count": 18,
   "metadata": {},
   "outputs": [
    {
     "data": {
      "image/png": "[encoded data removed]",
      "text/plain": [
       "<Figure size 432x288 with 1 Axes>"
      ]
     },
     "metadata": {
      "needs_background": "light"
     },
     "output_type": "display_data"
    }
   ],
   "source": [
    "#Plot cost during training:\n",
    "plot.plot(T.J)\n",
    "plot.plot(T.testJ)\n",
    "plot.grid(1)\n",
    "plot.xlabel('Iterations')\n",
    "plot.ylabel('Cost')\n",
    "plot.legend(['Training', 'Testing'])\n",
    "plot.show()"
   ]
  },
  {
   "cell_type": "code",
   "execution_count": 19,
   "metadata": {},
   "outputs": [
    {
     "data": {
      "text/plain": [
       "[array([0.61288186]),\n",
       " array([0.53224772]),\n",
       " array([0.40203958]),\n",
       " array([0.3147115]),\n",
       " array([0.30195442]),\n",
       " array([0.2787619]),\n",
       " array([0.24220798]),\n",
       " array([0.21327587]),\n",
       " array([0.18981222]),\n",
       " array([0.16409583]),\n",
       " array([0.15906392]),\n",
       " array([0.15638631]),\n",
       " array([0.15395954]),\n",
       " array([0.14972964]),\n",
       " array([0.14229922]),\n",
       " array([0.13064066]),\n",
       " array([0.12369372]),\n",
       " array([0.11607616]),\n",
       " array([0.11200442]),\n",
       " array([0.10960025]),\n",
       " array([0.10831196]),\n",
       " array([0.10816169]),\n",
       " array([0.10790519]),\n",
       " array([0.10743251]),\n",
       " array([0.10655395]),\n",
       " array([0.10496681]),\n",
       " array([0.10240501]),\n",
       " array([0.10034367]),\n",
       " array([0.0998276]),\n",
       " array([0.09948612]),\n",
       " array([0.09947058]),\n",
       " array([0.09946458]),\n",
       " array([0.09945345]),\n",
       " array([0.09943258]),\n",
       " array([0.09939359]),\n",
       " array([0.09932172]),\n",
       " array([0.09919291]),\n",
       " array([0.0989731]),\n",
       " array([0.09862924]),\n",
       " array([0.09816034]),\n",
       " array([0.09754381]),\n",
       " array([0.09674007]),\n",
       " array([0.09657411]),\n",
       " array([0.09654537]),\n",
       " array([0.09651559]),\n",
       " array([0.09648958]),\n",
       " array([0.09644926]),\n",
       " array([0.09638115]),\n",
       " array([0.09625712]),\n",
       " array([0.09602494]),\n",
       " array([0.09559043]),\n",
       " array([0.09481004]),\n",
       " array([0.09360546]),\n",
       " array([0.09195375]),\n",
       " array([0.08927492]),\n",
       " array([0.08562462]),\n",
       " array([0.08518018]),\n",
       " array([0.08447518]),\n",
       " array([0.08415007]),\n",
       " array([0.08413242]),\n",
       " array([0.08412961]),\n",
       " array([0.08412855]),\n",
       " array([0.08412677]),\n",
       " array([0.08412363]),\n",
       " array([0.0841182]),\n",
       " array([0.08410938]),\n",
       " array([0.08409661]),\n",
       " array([0.08408227]),\n",
       " array([0.08405758]),\n",
       " array([0.08401666]),\n",
       " array([0.08396616]),\n",
       " array([0.08391879]),\n",
       " array([0.08384805]),\n",
       " array([0.0838211]),\n",
       " array([0.08379064]),\n",
       " array([0.08378368]),\n",
       " array([0.08377966]),\n",
       " array([0.08377861]),\n",
       " array([0.08377772]),\n",
       " array([0.08377648]),\n",
       " array([0.08377483]),\n",
       " array([0.08377205]),\n",
       " array([0.08376712]),\n",
       " array([0.08375818]),\n",
       " array([0.08374187]),\n",
       " array([0.08371239]),\n",
       " array([0.08366049]),\n",
       " array([0.08357527]),\n",
       " array([0.08346121]),\n",
       " array([0.08336277]),\n",
       " array([0.08327518]),\n",
       " array([0.0832045]),\n",
       " array([0.08317548]),\n",
       " array([0.08316037]),\n",
       " array([0.0831392]),\n",
       " array([0.0831096]),\n",
       " array([0.08307916]),\n",
       " array([0.08306749]),\n",
       " array([0.08306019]),\n",
       " array([0.08304918])]"
      ]
     },
     "execution_count": 19,
     "metadata": {},
     "output_type": "execute_result"
    }
   ],
   "source": [
    "T.J"
   ]
  },
  {
   "cell_type": "code",
   "execution_count": 20,
   "metadata": {},
   "outputs": [
    {
     "data": {
      "text/plain": [
       "[array([0.14992005]),\n",
       " array([0.09879272]),\n",
       " array([0.0616333]),\n",
       " array([0.06526216]),\n",
       " array([0.05863681]),\n",
       " array([0.0440232]),\n",
       " array([0.02250526]),\n",
       " array([0.01386981]),\n",
       " array([0.01374716]),\n",
       " array([0.01493924]),\n",
       " array([0.01903642]),\n",
       " array([0.01829076]),\n",
       " array([0.02179682]),\n",
       " array([0.02458941]),\n",
       " array([0.02485826]),\n",
       " array([0.01614433]),\n",
       " array([0.01264304]),\n",
       " array([0.01295057]),\n",
       " array([0.01402033]),\n",
       " array([0.01436212]),\n",
       " array([0.01602652]),\n",
       " array([0.01587474]),\n",
       " array([0.01581248]),\n",
       " array([0.01576882]),\n",
       " array([0.01574134]),\n",
       " array([0.01578732]),\n",
       " array([0.01612711]),\n",
       " array([0.01727048]),\n",
       " array([0.01718611]),\n",
       " array([0.0167969]),\n",
       " array([0.01696978]),\n",
       " array([0.01697944]),\n",
       " array([0.01698922]),\n",
       " array([0.01700569]),\n",
       " array([0.01703407]),\n",
       " array([0.01708655]),\n",
       " array([0.01718815]),\n",
       " array([0.01738871]),\n",
       " array([0.01776873]),\n",
       " array([0.01829257]),\n",
       " array([0.01852086]),\n",
       " array([0.01854786]),\n",
       " array([0.01843242]),\n",
       " array([0.01864702]),\n",
       " array([0.01840074]),\n",
       " array([0.01821996]),\n",
       " array([0.01803088]),\n",
       " array([0.01787108]),\n",
       " array([0.01774431]),\n",
       " array([0.01763945]),\n",
       " array([0.01756514]),\n",
       " array([0.01759112]),\n",
       " array([0.0180358]),\n",
       " array([0.01942214]),\n",
       " array([0.02144688]),\n",
       " array([0.02562725]),\n",
       " array([0.03423863]),\n",
       " array([0.03279301]),\n",
       " array([0.03119174]),\n",
       " array([0.03109355]),\n",
       " array([0.03131237]),\n",
       " array([0.03133478]),\n",
       " array([0.03138831]),\n",
       " array([0.03143766]),\n",
       " array([0.03150608]),\n",
       " array([0.03158362]),\n",
       " array([0.03166588]),\n",
       " array([0.03167596]),\n",
       " array([0.03160814]),\n",
       " array([0.03137926]),\n",
       " array([0.0307799]),\n",
       " array([0.0307948]),\n",
       " array([0.03090882]),\n",
       " array([0.0300202]),\n",
       " array([0.03058748]),\n",
       " array([0.03055007]),\n",
       " array([0.03045658]),\n",
       " array([0.0305]),\n",
       " array([0.03048182]),\n",
       " array([0.03047942]),\n",
       " array([0.03046048]),\n",
       " array([0.03045825]),\n",
       " array([0.03045394]),\n",
       " array([0.0304677]),\n",
       " array([0.03049583]),\n",
       " array([0.03056431]),\n",
       " array([0.03068148]),\n",
       " array([0.03081665]),\n",
       " array([0.03083479]),\n",
       " array([0.03170176]),\n",
       " array([0.03143858]),\n",
       " array([0.03185774]),\n",
       " array([0.03205996]),\n",
       " array([0.03196038]),\n",
       " array([0.03238902]),\n",
       " array([0.03245122]),\n",
       " array([0.03292161]),\n",
       " array([0.03332145]),\n",
       " array([0.03331675]),\n",
       " array([0.03351874])]"
      ]
     },
     "execution_count": 20,
     "metadata": {},
     "output_type": "execute_result"
    }
   ],
   "source": [
    "T.testJ"
   ]
  },
  {
   "cell_type": "code",
   "execution_count": 21,
   "metadata": {},
   "outputs": [
    {
     "data": {
      "text/plain": [
       "0.09102985936603245"
      ]
     },
     "execution_count": 21,
     "metadata": {},
     "output_type": "execute_result"
    }
   ],
   "source": [
    "from sklearn.metrics import mean_absolute_error\n",
    "mean_absolute_error(T.J, T.testJ)"
   ]
  },
  {
   "cell_type": "code",
   "execution_count": 22,
   "metadata": {},
   "outputs": [],
   "source": [
    "yHat = NN.forward(X)"
   ]
  },
  {
   "cell_type": "code",
   "execution_count": 23,
   "metadata": {},
   "outputs": [
    {
     "data": {
      "text/plain": [
       "array([[0.12909201],\n",
       "       [0.11791414],\n",
       "       [0.19801985],\n",
       "       [0.22506902],\n",
       "       [0.24993794],\n",
       "       [0.3744761 ],\n",
       "       [0.46265465],\n",
       "       [0.30925167],\n",
       "       [0.3052303 ],\n",
       "       [0.43938854],\n",
       "       [0.42279409],\n",
       "       [0.25212203],\n",
       "       [0.16718333],\n",
       "       [0.21532393],\n",
       "       [0.27723032],\n",
       "       [0.23921121],\n",
       "       [0.17618865],\n",
       "       [0.21368335],\n",
       "       [0.18332192],\n",
       "       [0.15966131],\n",
       "       [0.251865  ],\n",
       "       [0.24926289],\n",
       "       [0.25009707],\n",
       "       [0.25444826],\n",
       "       [0.25496575],\n",
       "       [0.24001419],\n",
       "       [0.24987142],\n",
       "       [0.2375467 ],\n",
       "       [0.25562862],\n",
       "       [0.24990867],\n",
       "       [0.24085908],\n",
       "       [0.31579344],\n",
       "       [0.29537599],\n",
       "       [0.32241572],\n",
       "       [0.24954328],\n",
       "       [0.3521683 ],\n",
       "       [0.36795605],\n",
       "       [0.39395956],\n",
       "       [0.48830388],\n",
       "       [0.46673131],\n",
       "       [0.59824479],\n",
       "       [0.60910555],\n",
       "       [0.70041268],\n",
       "       [0.74157032],\n",
       "       [0.57810663],\n",
       "       [0.51751068],\n",
       "       [0.41660906],\n",
       "       [0.43692975],\n",
       "       [0.55771167],\n",
       "       [0.50494596],\n",
       "       [0.60816731],\n",
       "       [0.51896765],\n",
       "       [0.43924775],\n",
       "       [0.57126353],\n",
       "       [0.48727485],\n",
       "       [0.50997052],\n",
       "       [0.48649523],\n",
       "       [0.46930135],\n",
       "       [0.32692609]])"
      ]
     },
     "execution_count": 23,
     "metadata": {},
     "output_type": "execute_result"
    }
   ],
   "source": [
    "yHat"
   ]
  },
  {
   "cell_type": "code",
   "execution_count": 24,
   "metadata": {},
   "outputs": [
    {
     "data": {
      "text/plain": [
       "array([[0.11211342],\n",
       "       [0.17073406],\n",
       "       [0.2232566 ],\n",
       "       [0.24197469],\n",
       "       [0.36573346],\n",
       "       [0.55255899],\n",
       "       [0.37002352],\n",
       "       [0.3325317 ],\n",
       "       [0.38788752],\n",
       "       [0.39836394],\n",
       "       [0.2848263 ],\n",
       "       [0.18673502],\n",
       "       [0.18269477],\n",
       "       [0.255617  ],\n",
       "       [0.23597043],\n",
       "       [0.16413413],\n",
       "       [0.17817663],\n",
       "       [0.1639561 ],\n",
       "       [0.13324148],\n",
       "       [0.22639902],\n",
       "       [0.25501386],\n",
       "       [0.23708614],\n",
       "       [0.23165112],\n",
       "       [0.23306761],\n",
       "       [0.22117372],\n",
       "       [0.22633168],\n",
       "       [0.21869864],\n",
       "       [0.2320322 ],\n",
       "       [0.23194795],\n",
       "       [0.22154782],\n",
       "       [0.28795858],\n",
       "       [0.28837327],\n",
       "       [0.29714576],\n",
       "       [0.24366982],\n",
       "       [0.30743731],\n",
       "       [0.35859786],\n",
       "       [0.37218122],\n",
       "       [0.45025948],\n",
       "       [0.44309563],\n",
       "       [0.55815598],\n",
       "       [0.60235983],\n",
       "       [0.69629172],\n",
       "       [0.79060467],\n",
       "       [0.64402223],\n",
       "       [0.58322864],\n",
       "       [0.48171501],\n",
       "       [0.44281211],\n",
       "       [0.49627058],\n",
       "       [0.47546339],\n",
       "       [0.55155979],\n",
       "       [0.50099435],\n",
       "       [0.44545859],\n",
       "       [0.50571167],\n",
       "       [0.46588904],\n",
       "       [0.46785659],\n",
       "       [0.45300142],\n",
       "       [0.43741172],\n",
       "       [0.3506737 ],\n",
       "       [0.36403131]])"
      ]
     },
     "execution_count": 24,
     "metadata": {},
     "output_type": "execute_result"
    }
   ],
   "source": [
    "y"
   ]
  },
  {
   "cell_type": "code",
   "execution_count": 25,
   "metadata": {},
   "outputs": [
    {
     "data": {
      "text/plain": [
       "0.003951454888788491"
      ]
     },
     "execution_count": 25,
     "metadata": {},
     "output_type": "execute_result"
    }
   ],
   "source": [
    "from sklearn.metrics import mean_squared_error \n",
    "mean_squared_error(y,yHat) "
   ]
  },
  {
   "cell_type": "code",
   "execution_count": 26,
   "metadata": {},
   "outputs": [
    {
     "data": {
      "image/png": "[encoded data removed]",
      "text/plain": [
       "<Figure size 432x288 with 1 Axes>"
      ]
     },
     "metadata": {
      "needs_background": "light"
     },
     "output_type": "display_data"
    }
   ],
   "source": [
    "#Plot cost during training:\n",
    "plot.plot(y)\n",
    "plot.plot(yHat)\n",
    "plot.grid(1)\n",
    "plot.legend(['y', 'yHat'])\n",
    "plot.show()"
   ]
  },
  {
   "cell_type": "code",
   "execution_count": 27,
   "metadata": {},
   "outputs": [],
   "source": [
    "#Regularization Parameter:\n",
    "Lambda = 0.0001"
   ]
  },
  {
   "cell_type": "code",
   "execution_count": 28,
   "metadata": {},
   "outputs": [],
   "source": [
    "#Need to make changes to costFunction and costFunctionPrim:\n",
    "def costFunction(self, X, y):\n",
    "    #Compute cost for given X,y, use weights already stored in class.\n",
    "    self.yHat = self.forward(X)\n",
    "    #We don't want cost to increase with the number of examples, so normalize by dividing the error term by number of examples(X.shape[0])\n",
    "    J = 0.5*sum((y-self.yHat)**2)/X.shape[0] + (self.Lambda/2)*(sum(self.W1**2)+sum(self.W2**2))\n",
    "    return J\n",
    "\n",
    "def costFunctionPrime(self, X, y):\n",
    "    #Compute derivative with respect to W and W2 for a given X and y:\n",
    "    self.yHat = self.forward(X)\n",
    "\n",
    "    delta3 = np.multiply(-(y-self.yHat), self.sigmoidPrime(self.z3))\n",
    "    #Add gradient of regularization term:\n",
    "    dJdW2 = np.dot(self.a2.T, delta3)/X.shape[0] + self.Lambda*self.W2\n",
    "\n",
    "    delta2 = np.dot(delta3, self.W2.T)*self.sigmoidPrime(self.z2)\n",
    "    #Add gradient of regularization term:\n",
    "    dJdW1 = np.dot(X.T, delta2)/X.shape[0] + self.Lambda*self.W1\n",
    "\n",
    "    return dJdW1, dJdW2"
   ]
  },
  {
   "cell_type": "code",
   "execution_count": 29,
   "metadata": {},
   "outputs": [],
   "source": [
    "#New complete class, with changes:\n",
    "class Neural_Network(object):\n",
    "    def __init__(self, Lambda=0.0001):        \n",
    "        #Define Hyperparameters\n",
    "        self.inputLayerSize = 3\n",
    "        self.outputLayerSize = 1\n",
    "        self.hiddenLayerSize = 3\n",
    "        \n",
    "        #Weights (parameters)\n",
    "        self.W1 = np.random.randn(self.inputLayerSize,self.hiddenLayerSize)\n",
    "        self.W2 = np.random.randn(self.hiddenLayerSize,self.outputLayerSize)\n",
    "        \n",
    "        #Regularization Parameter:\n",
    "        self.Lambda = Lambda\n",
    "        \n",
    "    def forward(self, X):\n",
    "        #Propogate inputs though network\n",
    "        self.z2 = np.dot(X, self.W1)\n",
    "        self.a2 = self.sigmoid(self.z2)\n",
    "        self.z3 = np.dot(self.a2, self.W2)\n",
    "        yHat = self.sigmoid(self.z3) \n",
    "        return yHat\n",
    "        \n",
    "    def sigmoid(self, z):\n",
    "        #Apply sigmoid activation function to scalar, vector, or matrix\n",
    "        return 1/(1+np.exp(-z))\n",
    "    \n",
    "    def sigmoidPrime(self,z):\n",
    "        #Gradient of sigmoid\n",
    "        return np.exp(-z)/((1+np.exp(-z))**2)\n",
    "    \n",
    "    def costFunction(self, X, y):\n",
    "        #Compute cost for given X,y, use weights already stored in class.\n",
    "        self.yHat = self.forward(X)\n",
    "        J = 0.5*sum((y-self.yHat)**2)/X.shape[0] + (self.Lambda/2)*(np.sum(self.W1**2)+np.sum(self.W2**2))\n",
    "        return J\n",
    "        \n",
    "    def costFunctionPrime(self, X, y):\n",
    "        #Compute derivative with respect to W and W2 for a given X and y:\n",
    "        self.yHat = self.forward(X)\n",
    "        \n",
    "        delta3 = np.multiply(-(y-self.yHat), self.sigmoidPrime(self.z3))\n",
    "        #Add gradient of regularization term:\n",
    "        dJdW2 = np.dot(self.a2.T, delta3)/X.shape[0] + self.Lambda*self.W2\n",
    "        \n",
    "        delta2 = np.dot(delta3, self.W2.T)*self.sigmoidPrime(self.z2)\n",
    "        #Add gradient of regularization term:\n",
    "        dJdW1 = np.dot(X.T, delta2)/X.shape[0] + self.Lambda*self.W1\n",
    "        \n",
    "        return dJdW1, dJdW2\n",
    "    \n",
    "    def predict(self):\n",
    "        prediksi = self.forward(dataprediksi)\n",
    "        return prediksi\n",
    "    \n",
    "    #Helper functions for interacting with other methods/classes\n",
    "    def getParams(self):\n",
    "        #Get W1 and W2 Rolled into vector:\n",
    "        params = np.concatenate((self.W1.ravel(), self.W2.ravel()))\n",
    "        return params\n",
    "    \n",
    "    def setParams(self, params):\n",
    "        #Set W1 and W2 using single parameter vector:\n",
    "        W1_start = 0\n",
    "        W1_end = self.hiddenLayerSize*self.inputLayerSize\n",
    "        self.W1 = np.reshape(params[W1_start:W1_end], \\\n",
    "                             (self.inputLayerSize, self.hiddenLayerSize))\n",
    "        W2_end = W1_end + self.hiddenLayerSize*self.outputLayerSize\n",
    "        self.W2 = np.reshape(params[W1_end:W2_end], \\\n",
    "                             (self.hiddenLayerSize, self.outputLayerSize))\n",
    "        \n",
    "    def computeGradients(self, X, y):\n",
    "        dJdW1, dJdW2 = self.costFunctionPrime(X, y)\n",
    "        return np.concatenate((dJdW1.ravel(), dJdW2.ravel()))"
   ]
  },
  {
   "cell_type": "code",
   "execution_count": 30,
   "metadata": {},
   "outputs": [],
   "source": [
    "def computeNumericalGradient(N, X, y):\n",
    "    paramsInitial = N.getParams()\n",
    "    numgrad = np.zeros(paramsInitial.shape)\n",
    "    perturb = np.zeros(paramsInitial.shape)\n",
    "    e = 1e-4\n",
    "\n",
    "    for p in range(len(paramsInitial)):\n",
    "        #Set perturbation vector\n",
    "        perturb[p] = e\n",
    "        N.setParams(paramsInitial + perturb)\n",
    "        loss2 = N.costFunction(X, y)\n",
    "            \n",
    "        N.setParams(paramsInitial - perturb)\n",
    "        loss1 = N.costFunction(X, y)\n",
    "\n",
    "        #Compute Numerical Gradient\n",
    "        numgrad[p] = (loss2 - loss1) / (2*e)\n",
    "\n",
    "            #Return the value we changed to zero:\n",
    "        perturb[p] = 0\n",
    "            \n",
    "    #Return Params to original value:\n",
    "    N.setParams(paramsInitial)\n",
    "\n",
    "    return numgrad "
   ]
  },
  {
   "cell_type": "code",
   "execution_count": 31,
   "metadata": {},
   "outputs": [],
   "source": [
    "NN = Neural_Network(Lambda=0.0001)"
   ]
  },
  {
   "cell_type": "code",
   "execution_count": 32,
   "metadata": {},
   "outputs": [],
   "source": [
    "#Make sure our gradients our correct after making changes:\n",
    "numgrad = computeNumericalGradient(NN, X, y)\n",
    "grad = NN.computeGradients(X,y)"
   ]
  },
  {
   "cell_type": "code",
   "execution_count": 33,
   "metadata": {},
   "outputs": [
    {
     "data": {
      "text/plain": [
       "2.5921468241369404e-10"
      ]
     },
     "execution_count": 33,
     "metadata": {},
     "output_type": "execute_result"
    }
   ],
   "source": [
    "#Should be less than 1e-8:\n",
    "np.linalg.norm(grad-numgrad)/np.linalg.norm(grad+numgrad)"
   ]
  },
  {
   "cell_type": "code",
   "execution_count": 34,
   "metadata": {},
   "outputs": [],
   "source": [
    "T = trainer(NN)"
   ]
  },
  {
   "cell_type": "code",
   "execution_count": 35,
   "metadata": {},
   "outputs": [
    {
     "name": "stdout",
     "output_type": "stream",
     "text": [
      "Warning: Maximum number of iterations has been exceeded.\n",
      "         Current function value: 0.003817\n",
      "         Iterations: 100\n",
      "         Function evaluations: 106\n",
      "         Gradient evaluations: 106\n"
     ]
    }
   ],
   "source": [
    "T.train(X,y,testX,testY)"
   ]
  },
  {
   "cell_type": "code",
   "execution_count": 36,
   "metadata": {},
   "outputs": [
    {
     "data": {
      "image/png": "[encoded data removed]",
      "text/plain": [
       "<Figure size 432x288 with 1 Axes>"
      ]
     },
     "metadata": {
      "needs_background": "light"
     },
     "output_type": "display_data"
    }
   ],
   "source": [
    "plot.plot(T.J)\n",
    "plot.plot(T.testJ)\n",
    "plot.grid(1)\n",
    "plot.xlabel('Iterations')\n",
    "plot.ylabel('Cost')\n",
    "plot.legend(['Training', 'Testing'])\n",
    "plot.show()"
   ]
  },
  {
   "cell_type": "code",
   "execution_count": 37,
   "metadata": {},
   "outputs": [
    {
     "data": {
      "text/plain": [
       "[array([0.02235967]),\n",
       " array([0.01148222]),\n",
       " array([0.01116871]),\n",
       " array([0.01115669]),\n",
       " array([0.01114294]),\n",
       " array([0.01111779]),\n",
       " array([0.01107068]),\n",
       " array([0.01098179]),\n",
       " array([0.01081414]),\n",
       " array([0.01049833]),\n",
       " array([0.00990151]),\n",
       " array([0.00878678]),\n",
       " array([0.00708864]),\n",
       " array([0.00654048]),\n",
       " array([0.00599741]),\n",
       " array([0.00576292]),\n",
       " array([0.00575684]),\n",
       " array([0.00574584]),\n",
       " array([0.0057253]),\n",
       " array([0.00568607]),\n",
       " array([0.00561157]),\n",
       " array([0.00547388]),\n",
       " array([0.00523908]),\n",
       " array([0.0049605]),\n",
       " array([0.00488896]),\n",
       " array([0.00476577]),\n",
       " array([0.00458112]),\n",
       " array([0.0044562]),\n",
       " array([0.00444421]),\n",
       " array([0.00442852]),\n",
       " array([0.00442383]),\n",
       " array([0.00442261]),\n",
       " array([0.00442205]),\n",
       " array([0.00442169]),\n",
       " array([0.00442102]),\n",
       " array([0.00441974]),\n",
       " array([0.00441735]),\n",
       " array([0.00441287]),\n",
       " array([0.00440468]),\n",
       " array([0.00439025]),\n",
       " array([0.00436642]),\n",
       " array([0.00433073]),\n",
       " array([0.00428587]),\n",
       " array([0.00421272]),\n",
       " array([0.00409396]),\n",
       " array([0.00403477]),\n",
       " array([0.00402536]),\n",
       " array([0.00402262]),\n",
       " array([0.0040222]),\n",
       " array([0.00402204]),\n",
       " array([0.00402196]),\n",
       " array([0.00402183]),\n",
       " array([0.00402159]),\n",
       " array([0.00402117]),\n",
       " array([0.00402038]),\n",
       " array([0.00401893]),\n",
       " array([0.00401628]),\n",
       " array([0.00401154]),\n",
       " array([0.00400337]),\n",
       " array([0.00398991]),\n",
       " array([0.00396981]),\n",
       " array([0.00395065]),\n",
       " array([0.00394292]),\n",
       " array([0.00393022]),\n",
       " array([0.00391135]),\n",
       " array([0.00389072]),\n",
       " array([0.00388128]),\n",
       " array([0.00387623]),\n",
       " array([0.00387527]),\n",
       " array([0.00387474]),\n",
       " array([0.00387415]),\n",
       " array([0.0038741]),\n",
       " array([0.00387406]),\n",
       " array([0.00387399]),\n",
       " array([0.00387386]),\n",
       " array([0.00387361]),\n",
       " array([0.00387316]),\n",
       " array([0.00387232]),\n",
       " array([0.0038708]),\n",
       " array([0.00386815]),\n",
       " array([0.00386375]),\n",
       " array([0.00385684]),\n",
       " array([0.00384691]),\n",
       " array([0.00383482]),\n",
       " array([0.00382393]),\n",
       " array([0.00381985]),\n",
       " array([0.00381926]),\n",
       " array([0.00381843]),\n",
       " array([0.00381818]),\n",
       " array([0.00381815]),\n",
       " array([0.00381812]),\n",
       " array([0.00381811]),\n",
       " array([0.0038181]),\n",
       " array([0.00381809]),\n",
       " array([0.00381806]),\n",
       " array([0.003818]),\n",
       " array([0.0038179]),\n",
       " array([0.0038177]),\n",
       " array([0.00381736]),\n",
       " array([0.00381675])]"
      ]
     },
     "execution_count": 37,
     "metadata": {},
     "output_type": "execute_result"
    }
   ],
   "source": [
    "T.J"
   ]
  },
  {
   "cell_type": "code",
   "execution_count": 38,
   "metadata": {},
   "outputs": [
    {
     "data": {
      "text/plain": [
       "[array([0.00341408]),\n",
       " array([0.00418135]),\n",
       " array([0.00598596]),\n",
       " array([0.0062777]),\n",
       " array([0.00648742]),\n",
       " array([0.00669176]),\n",
       " array([0.00691955]),\n",
       " array([0.00719574]),\n",
       " array([0.00753589]),\n",
       " array([0.00791401]),\n",
       " array([0.00814312]),\n",
       " array([0.00757973]),\n",
       " array([0.00528244]),\n",
       " array([0.00406154]),\n",
       " array([0.00323717]),\n",
       " array([0.00259211]),\n",
       " array([0.00264729]),\n",
       " array([0.0026873]),\n",
       " array([0.00271604]),\n",
       " array([0.00274252]),\n",
       " array([0.00276699]),\n",
       " array([0.00278346]),\n",
       " array([0.00278664]),\n",
       " array([0.00289712]),\n",
       " array([0.00286494]),\n",
       " array([0.00284568]),\n",
       " array([0.00268099]),\n",
       " array([0.00273693]),\n",
       " array([0.00259215]),\n",
       " array([0.00265463]),\n",
       " array([0.00271082]),\n",
       " array([0.00272567]),\n",
       " array([0.00272834]),\n",
       " array([0.00272901]),\n",
       " array([0.00272973]),\n",
       " array([0.00273056]),\n",
       " array([0.00273154]),\n",
       " array([0.00273271]),\n",
       " array([0.00273426]),\n",
       " array([0.00273702]),\n",
       " array([0.00274438]),\n",
       " array([0.00276641]),\n",
       " array([0.00279925]),\n",
       " array([0.00282401]),\n",
       " array([0.00277926]),\n",
       " array([0.00271513]),\n",
       " array([0.00267362]),\n",
       " array([0.00267483]),\n",
       " array([0.00268062]),\n",
       " array([0.00268437]),\n",
       " array([0.00268566]),\n",
       " array([0.00268646]),\n",
       " array([0.00268693]),\n",
       " array([0.00268718]),\n",
       " array([0.00268713]),\n",
       " array([0.00268649]),\n",
       " array([0.00268463]),\n",
       " array([0.00268026]),\n",
       " array([0.00267078]),\n",
       " array([0.00265111]),\n",
       " array([0.00261474]),\n",
       " array([0.00258913]),\n",
       " array([0.00251393]),\n",
       " array([0.00250787]),\n",
       " array([0.00249914]),\n",
       " array([0.00247735]),\n",
       " array([0.00246952]),\n",
       " array([0.00248904]),\n",
       " array([0.00250218]),\n",
       " array([0.0025011]),\n",
       " array([0.00249461]),\n",
       " array([0.00249312]),\n",
       " array([0.00249234]),\n",
       " array([0.00249158]),\n",
       " array([0.0024907]),\n",
       " array([0.00248953]),\n",
       " array([0.00248782]),\n",
       " array([0.00248518]),\n",
       " array([0.00248103]),\n",
       " array([0.00247452]),\n",
       " array([0.00246469]),\n",
       " array([0.00245062]),\n",
       " array([0.00243226]),\n",
       " array([0.00241354]),\n",
       " array([0.00239669]),\n",
       " array([0.00240581]),\n",
       " array([0.00241326]),\n",
       " array([0.00241313]),\n",
       " array([0.00241252]),\n",
       " array([0.00241291]),\n",
       " array([0.00241343]),\n",
       " array([0.00241364]),\n",
       " array([0.00241388]),\n",
       " array([0.00241412]),\n",
       " array([0.00241439]),\n",
       " array([0.00241472]),\n",
       " array([0.00241519]),\n",
       " array([0.00241587]),\n",
       " array([0.00241693]),\n",
       " array([0.00241863])]"
      ]
     },
     "execution_count": 38,
     "metadata": {},
     "output_type": "execute_result"
    }
   ],
   "source": [
    "T.testJ"
   ]
  },
  {
   "cell_type": "code",
   "execution_count": 39,
   "metadata": {},
   "outputs": [
    {
     "data": {
      "text/plain": [
       "0.0020593291379061795"
      ]
     },
     "execution_count": 39,
     "metadata": {},
     "output_type": "execute_result"
    }
   ],
   "source": [
    "from sklearn.metrics import mean_absolute_error\n",
    "mean_absolute_error(T.J, T.testJ)"
   ]
  },
  {
   "cell_type": "code",
   "execution_count": 40,
   "metadata": {},
   "outputs": [],
   "source": [
    "yHat=NN.forward(X)"
   ]
  },
  {
   "cell_type": "code",
   "execution_count": 41,
   "metadata": {},
   "outputs": [
    {
     "data": {
      "text/plain": [
       "array([[0.18270835],\n",
       "       [0.1768461 ],\n",
       "       [0.20815869],\n",
       "       [0.24119797],\n",
       "       [0.26180266],\n",
       "       [0.34531673],\n",
       "       [0.48048   ],\n",
       "       [0.39656546],\n",
       "       [0.36276762],\n",
       "       [0.38142024],\n",
       "       [0.39242528],\n",
       "       [0.3238128 ],\n",
       "       [0.25054939],\n",
       "       [0.23053211],\n",
       "       [0.26639368],\n",
       "       [0.26267436],\n",
       "       [0.2236248 ],\n",
       "       [0.22268111],\n",
       "       [0.21216256],\n",
       "       [0.19548055],\n",
       "       [0.24214409],\n",
       "       [0.26753694],\n",
       "       [0.2661256 ],\n",
       "       [0.262678  ],\n",
       "       [0.26174422],\n",
       "       [0.25448291],\n",
       "       [0.25628862],\n",
       "       [0.25160164],\n",
       "       [0.25896065],\n",
       "       [0.25992702],\n",
       "       [0.2546027 ],\n",
       "       [0.29382884],\n",
       "       [0.30131623],\n",
       "       [0.31149077],\n",
       "       [0.27907859],\n",
       "       [0.31326524],\n",
       "       [0.35026792],\n",
       "       [0.36997794],\n",
       "       [0.42579625],\n",
       "       [0.43166397],\n",
       "       [0.50635995],\n",
       "       [0.54297326],\n",
       "       [0.60043268],\n",
       "       [0.64942023],\n",
       "       [0.59964071],\n",
       "       [0.56129772],\n",
       "       [0.48926058],\n",
       "       [0.44967101],\n",
       "       [0.47149421],\n",
       "       [0.46232137],\n",
       "       [0.50905841],\n",
       "       [0.4864338 ],\n",
       "       [0.45147666],\n",
       "       [0.47883123],\n",
       "       [0.45766382],\n",
       "       [0.45826325],\n",
       "       [0.44649688],\n",
       "       [0.43498566],\n",
       "       [0.37593231]])"
      ]
     },
     "execution_count": 41,
     "metadata": {},
     "output_type": "execute_result"
    }
   ],
   "source": [
    "yHat"
   ]
  },
  {
   "cell_type": "code",
   "execution_count": 42,
   "metadata": {},
   "outputs": [
    {
     "data": {
      "text/plain": [
       "array([[0.11211342],\n",
       "       [0.17073406],\n",
       "       [0.2232566 ],\n",
       "       [0.24197469],\n",
       "       [0.36573346],\n",
       "       [0.55255899],\n",
       "       [0.37002352],\n",
       "       [0.3325317 ],\n",
       "       [0.38788752],\n",
       "       [0.39836394],\n",
       "       [0.2848263 ],\n",
       "       [0.18673502],\n",
       "       [0.18269477],\n",
       "       [0.255617  ],\n",
       "       [0.23597043],\n",
       "       [0.16413413],\n",
       "       [0.17817663],\n",
       "       [0.1639561 ],\n",
       "       [0.13324148],\n",
       "       [0.22639902],\n",
       "       [0.25501386],\n",
       "       [0.23708614],\n",
       "       [0.23165112],\n",
       "       [0.23306761],\n",
       "       [0.22117372],\n",
       "       [0.22633168],\n",
       "       [0.21869864],\n",
       "       [0.2320322 ],\n",
       "       [0.23194795],\n",
       "       [0.22154782],\n",
       "       [0.28795858],\n",
       "       [0.28837327],\n",
       "       [0.29714576],\n",
       "       [0.24366982],\n",
       "       [0.30743731],\n",
       "       [0.35859786],\n",
       "       [0.37218122],\n",
       "       [0.45025948],\n",
       "       [0.44309563],\n",
       "       [0.55815598],\n",
       "       [0.60235983],\n",
       "       [0.69629172],\n",
       "       [0.79060467],\n",
       "       [0.64402223],\n",
       "       [0.58322864],\n",
       "       [0.48171501],\n",
       "       [0.44281211],\n",
       "       [0.49627058],\n",
       "       [0.47546339],\n",
       "       [0.55155979],\n",
       "       [0.50099435],\n",
       "       [0.44545859],\n",
       "       [0.50571167],\n",
       "       [0.46588904],\n",
       "       [0.46785659],\n",
       "       [0.45300142],\n",
       "       [0.43741172],\n",
       "       [0.3506737 ],\n",
       "       [0.36403131]])"
      ]
     },
     "execution_count": 42,
     "metadata": {},
     "output_type": "execute_result"
    }
   ],
   "source": [
    "y"
   ]
  },
  {
   "cell_type": "code",
   "execution_count": 43,
   "metadata": {},
   "outputs": [
    {
     "data": {
      "text/plain": [
       "0.0046904970128891265"
      ]
     },
     "execution_count": 43,
     "metadata": {},
     "output_type": "execute_result"
    }
   ],
   "source": [
    "from sklearn.metrics import mean_squared_error \n",
    "mean_squared_error(y,yHat) "
   ]
  },
  {
   "cell_type": "code",
   "execution_count": 44,
   "metadata": {},
   "outputs": [
    {
     "data": {
      "image/png": "[encoded data removed]",
      "text/plain": [
       "<Figure size 432x288 with 1 Axes>"
      ]
     },
     "metadata": {
      "needs_background": "light"
     },
     "output_type": "display_data"
    }
   ],
   "source": [
    "#Plot cost during training:\n",
    "plot.plot(y)\n",
    "plot.plot(yHat)\n",
    "plot.grid(1)\n",
    "plot.legend(['y', 'yHat'])\n",
    "plot.show()"
   ]
  },
  {
   "cell_type": "code",
   "execution_count": 45,
   "metadata": {},
   "outputs": [],
   "source": [
    "prediksi=NN.forward(dataprediksi)"
   ]
  },
  {
   "cell_type": "code",
   "execution_count": 46,
   "metadata": {},
   "outputs": [
    {
     "data": {
      "text/plain": [
       "array([[0.37288116],\n",
       "       [0.61303321],\n",
       "       [0.7126588 ],\n",
       "       [0.64744743]])"
      ]
     },
     "execution_count": 46,
     "metadata": {},
     "output_type": "execute_result"
    }
   ],
   "source": [
    "prediksi"
   ]
  },
  {
   "cell_type": "code",
   "execution_count": 47,
   "metadata": {},
   "outputs": [],
   "source": [
    "from sklearn.metrics import mean_squared_error "
   ]
  },
  {
   "cell_type": "code",
   "execution_count": 48,
   "metadata": {},
   "outputs": [
    {
     "data": {
      "text/plain": [
       "0.08813310139127713"
      ]
     },
     "execution_count": 48,
     "metadata": {},
     "output_type": "execute_result"
    }
   ],
   "source": [
    "Y_true= ([\t0.795380412\t]\t,\n",
    "[\t1\t]\t,\n",
    "[\t0.707681705\t]\t,\n",
    "[\t0.491695324\t]\t,\n",
    "\t)\n",
    "\n",
    "\n",
    "Y_pred=prediksi\n",
    "mean_squared_error(Y_true,Y_pred) "
   ]
  },
  {
   "cell_type": "code",
   "execution_count": 49,
   "metadata": {},
   "outputs": [
    {
     "data": {
      "text/plain": [
       "array([[0.43741172, 0.3506737 , 0.36403131],\n",
       "       [0.3506737 , 0.36403131, 0.79538041],\n",
       "       [0.36403131, 0.79538041, 1.        ],\n",
       "       [0.79538041, 1.        , 0.70768171]])"
      ]
     },
     "execution_count": 49,
     "metadata": {},
     "output_type": "execute_result"
    }
   ],
   "source": [
    "dataprediksi"
   ]
  },
  {
   "cell_type": "code",
   "execution_count": 50,
   "metadata": {},
   "outputs": [],
   "source": [
    "a=np.array([\t1\t,\t0.707681705\t,\t0.491695324\t])"
   ]
  },
  {
   "cell_type": "code",
   "execution_count": 51,
   "metadata": {},
   "outputs": [
    {
     "data": {
      "text/plain": [
       "array([0.52978039])"
      ]
     },
     "execution_count": 51,
     "metadata": {},
     "output_type": "execute_result"
    }
   ],
   "source": [
    "#prediksi 1\n",
    "prediksi=NN.forward(a)\n",
    "prediksi"
   ]
  },
  {
   "cell_type": "code",
   "execution_count": 52,
   "metadata": {},
   "outputs": [
    {
     "data": {
      "text/plain": [
       "array([0.51149866])"
      ]
     },
     "execution_count": 52,
     "metadata": {},
     "output_type": "execute_result"
    }
   ],
   "source": [
    "#prediksi 2\n",
    "c=prediksi\n",
    "b=a[1:]\n",
    "d=np.concatenate((b,c))\n",
    "prediksi=NN.forward(d)\n",
    "prediksi"
   ]
  },
  {
   "cell_type": "code",
   "execution_count": 53,
   "metadata": {},
   "outputs": [
    {
     "data": {
      "text/plain": [
       "array([0.49130753])"
      ]
     },
     "execution_count": 53,
     "metadata": {},
     "output_type": "execute_result"
    }
   ],
   "source": [
    "#prediksi 3\n",
    "c=prediksi\n",
    "b=d[1:]\n",
    "e=np.concatenate((b,c))\n",
    "prediksi=NN.forward(e)\n",
    "prediksi"
   ]
  },
  {
   "cell_type": "code",
   "execution_count": 54,
   "metadata": {},
   "outputs": [
    {
     "data": {
      "text/plain": [
       "array([0.47956871])"
      ]
     },
     "execution_count": 54,
     "metadata": {},
     "output_type": "execute_result"
    }
   ],
   "source": [
    "#prediksi 4\n",
    "c=prediksi\n",
    "b=e[1:]\n",
    "f=np.concatenate((b,c))\n",
    "prediksi=NN.forward(f)\n",
    "prediksi"
   ]
  },
  {
   "cell_type": "code",
   "execution_count": 55,
   "metadata": {},
   "outputs": [
    {
     "data": {
      "text/plain": [
       "array([0.46886622])"
      ]
     },
     "execution_count": 55,
     "metadata": {},
     "output_type": "execute_result"
    }
   ],
   "source": [
    "#prediksi 5\n",
    "c=prediksi\n",
    "b=f[1:]\n",
    "g=np.concatenate((b,c))\n",
    "prediksi=NN.forward(g)\n",
    "prediksi"
   ]
  },
  {
   "cell_type": "code",
   "execution_count": 56,
   "metadata": {},
   "outputs": [
    {
     "data": {
      "text/plain": [
       "array([0.45952935])"
      ]
     },
     "execution_count": 56,
     "metadata": {},
     "output_type": "execute_result"
    }
   ],
   "source": [
    "#prediksi 6\n",
    "c=prediksi\n",
    "b=g[1:]\n",
    "h=np.concatenate((b,c))\n",
    "prediksi=NN.forward(h)\n",
    "prediksi"
   ]
  },
  {
   "cell_type": "code",
   "execution_count": 57,
   "metadata": {},
   "outputs": [
    {
     "data": {
      "text/plain": [
       "array([0.45370757])"
      ]
     },
     "execution_count": 57,
     "metadata": {},
     "output_type": "execute_result"
    }
   ],
   "source": [
    "#prediksi 7\n",
    "c=prediksi\n",
    "b=g[1:]\n",
    "i=np.concatenate((b,c))\n",
    "prediksi=NN.forward(i)\n",
    "prediksi"
   ]
  },
  {
   "cell_type": "code",
   "execution_count": 58,
   "metadata": {},
   "outputs": [
    {
     "data": {
      "text/plain": [
       "array([0.45005894])"
      ]
     },
     "execution_count": 58,
     "metadata": {},
     "output_type": "execute_result"
    }
   ],
   "source": [
    "#prediksi 8\n",
    "c=prediksi\n",
    "b=g[1:]\n",
    "j=np.concatenate((b,c))\n",
    "prediksi=NN.forward(j)\n",
    "prediksi"
   ]
  },
  {
   "cell_type": "code",
   "execution_count": 59,
   "metadata": {},
   "outputs": [
    {
     "data": {
      "text/plain": [
       "array([0.44776529])"
      ]
     },
     "execution_count": 59,
     "metadata": {},
     "output_type": "execute_result"
    }
   ],
   "source": [
    "#prediksi 9\n",
    "c=prediksi\n",
    "b=g[1:]\n",
    "k=np.concatenate((b,c))\n",
    "prediksi=NN.forward(k)\n",
    "prediksi"
   ]
  },
  {
   "cell_type": "code",
   "execution_count": 60,
   "metadata": {},
   "outputs": [
    {
     "data": {
      "text/plain": [
       "array([0.44632074])"
      ]
     },
     "execution_count": 60,
     "metadata": {},
     "output_type": "execute_result"
    }
   ],
   "source": [
    "#prediksi 10\n",
    "c=prediksi\n",
    "b=g[1:]\n",
    "l=np.concatenate((b,c))\n",
    "prediksi=NN.forward(l)\n",
    "prediksi"
   ]
  },
  {
   "cell_type": "code",
   "execution_count": 61,
   "metadata": {},
   "outputs": [
    {
     "data": {
      "text/plain": [
       "array([0.44540991])"
      ]
     },
     "execution_count": 61,
     "metadata": {},
     "output_type": "execute_result"
    }
   ],
   "source": [
    "#prediksi 11\n",
    "c=prediksi\n",
    "b=g[1:]\n",
    "m=np.concatenate((b,c))\n",
    "prediksi=NN.forward(m)\n",
    "prediksi"
   ]
  },
  {
   "cell_type": "code",
   "execution_count": 62,
   "metadata": {},
   "outputs": [
    {
     "data": {
      "text/plain": [
       "array([0.4448352])"
      ]
     },
     "execution_count": 62,
     "metadata": {},
     "output_type": "execute_result"
    }
   ],
   "source": [
    "#prediksi 12\n",
    "c=prediksi\n",
    "b=g[1:]\n",
    "n=np.concatenate((b,c))\n",
    "prediksi=NN.forward(n)\n",
    "prediksi"
   ]
  },
  {
   "cell_type": "code",
   "execution_count": null,
   "metadata": {},
   "outputs": [],
   "source": []
  }
 ],
 "metadata": {
  "kernelspec": {
   "display_name": "Python 3",
   "language": "python",
   "name": "python3"
  },
  "language_info": {
   "codemirror_mode": {
    "name": "ipython",
    "version": 3
   },
   "file_extension": ".py",
   "mimetype": "text/x-python",
   "name": "python",
   "nbconvert_exporter": "python",
   "pygments_lexer": "ipython3",
   "version": "3.7.3"
  }
 },
 "nbformat": 4,
 "nbformat_minor": 2
}
