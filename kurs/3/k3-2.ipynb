{
 "cells": [
  {
   "cell_type": "code",
   "execution_count": 1,
   "metadata": {},
   "outputs": [],
   "source": [
    "import numpy as np"
   ]
  },
  {
   "cell_type": "code",
   "execution_count": 2,
   "metadata": {},
   "outputs": [],
   "source": [
    "#UNTUK NILAI IMPOR\n",
    "class Neural_Network(object):\n",
    "    def __init__(self):\n",
    "        #parameters\n",
    "        self.inputLayerSize = 3\n",
    "        self.outputLayerSize = 1\n",
    "        self.hiddenLayerSize = 2\n",
    "\n",
    "        #weights\n",
    "        self.W1 = np.random.randn(self.inputLayerSize,\\\n",
    "                                 self.hiddenLayerSize)  \n",
    "        self.W2 = np.random.randn(self.hiddenLayerSize,\\\n",
    "                                 self.outputLayerSize)  \n",
    "    \n",
    "    def printw(self):\n",
    "        return self.W1\n",
    "        \n",
    "    def weight(self, W1, W2):\n",
    "        #Make an internal variable for the weight:\n",
    "        self.W1 = W1\n",
    "        self.W2 = W2\n",
    "        \n",
    "    def forward(self, X):\n",
    "        #forward propagation through our network\n",
    "        self.z2 = np.dot(X,self.W1)  \n",
    "        self.a2 = self.tanh(self.z2)  # activation function\n",
    "        self.z3 = np.dot(self.a2, self.W2) \n",
    "        yHat = self.tanh(self.z3)  # final activation function\n",
    "        return yHat\n",
    "\n",
    "    def tanh(self, z):\n",
    "        # activation function\n",
    "        return (np.exp(z)-np.exp(-z))/(np.exp(z)+np.exp(-z))\n",
    "    \n",
    "    def tanhPrime(self,z): \n",
    "        #derivative of tanh\n",
    "        return 1-((np.exp(z)-np.exp(-z))/(np.exp(z)+np.exp(-z)))**2\n",
    "    \n",
    "    def costFunction(self,X,y):\n",
    "        self.yHat = self.forward(X)\n",
    "        J=0.5*sum((y-self.yHat)**2)\n",
    "        return J\n",
    "    \n",
    "    def costFunctionPrime(self,X,y):\n",
    "        self.yHat=self.forward(X)\n",
    "        \n",
    "        delta3=np.multiply(-(y-self.yHat),self.tanhPrime(self.z3))\n",
    "        dJdW2=np.dot(self.a2.T,delta3)\n",
    "        \n",
    "        delta2=np.dot(delta3,self.W2.T)*self.tanhPrime(self.z2)\n",
    "        dJdW1=np.dot(X.T,delta2)\n",
    "        return dJdW1,dJdW2\n",
    "    \n",
    "    def predict(self):\n",
    "        prediksi = self.forward(dataprediksi)\n",
    "        return prediksi\n",
    "    \n",
    "    def getParams(self):\n",
    "        params=np.concatenate((self.W1.ravel(),self.W2.ravel()))\n",
    "        return params\n",
    "    \n",
    "    def setParams(self,params):\n",
    "        W1_start=0\n",
    "        W1_end=self.hiddenLayerSize*self.inputLayerSize\n",
    "        self.W1=np.reshape(params[W1_start:W1_end],\\\n",
    "                          (self.inputLayerSize,self.hiddenLayerSize))\n",
    "        W2_end=W1_end+self.hiddenLayerSize*self.outputLayerSize\n",
    "        self.W2=np.reshape(params[W1_end:W2_end],\\\n",
    "                          (self.hiddenLayerSize,self.outputLayerSize))\n",
    "        \n",
    "    def computeGradients(self, X, y):\n",
    "        dJdW1, dJdW2 = self.costFunctionPrime(X, y)\n",
    "        return np.concatenate((dJdW1.ravel(), dJdW2.ravel()))"
   ]
  },
  {
   "cell_type": "code",
   "execution_count": 3,
   "metadata": {},
   "outputs": [],
   "source": [
    "NN = Neural_Network()"
   ]
  },
  {
   "cell_type": "code",
   "execution_count": 4,
   "metadata": {},
   "outputs": [
    {
     "data": {
      "text/plain": [
       "array([[-1.9434285 ,  0.28380793],\n",
       "       [ 0.24832104, -0.54136906],\n",
       "       [-0.37233687,  0.28488508]])"
      ]
     },
     "execution_count": 4,
     "metadata": {},
     "output_type": "execute_result"
    }
   ],
   "source": [
    "NN.W1"
   ]
  },
  {
   "cell_type": "code",
   "execution_count": 5,
   "metadata": {},
   "outputs": [
    {
     "data": {
      "text/plain": [
       "array([[0.2515237 ],\n",
       "       [0.43655688]])"
      ]
     },
     "execution_count": 5,
     "metadata": {},
     "output_type": "execute_result"
    }
   ],
   "source": [
    "NN.W2"
   ]
  },
  {
   "cell_type": "code",
   "execution_count": 6,
   "metadata": {},
   "outputs": [],
   "source": [
    "#KURS\n",
    "X=np.array(([\t0\t,\t0.051924996\t,\t0.148319042\t]\t,\n",
    "[\t0.051924996\t,\t0.148319042\t,\t0.112113419\t]\t,\n",
    "[\t0.148319042\t,\t0.112113419\t,\t0.170734062\t]\t,\n",
    "[\t0.112113419\t,\t0.170734062\t,\t0.223256598\t]\t,\n",
    "[\t0.170734062\t,\t0.223256598\t,\t0.241974687\t]\t,\n",
    "[\t0.223256598\t,\t0.241974687\t,\t0.365733465\t]\t,\n",
    "[\t0.241974687\t,\t0.365733465\t,\t0.552558994\t]\t,\n",
    "[\t0.365733465\t,\t0.552558994\t,\t0.370023519\t]\t,\n",
    "[\t0.552558994\t,\t0.370023519\t,\t0.332531703\t]\t,\n",
    "[\t0.370023519\t,\t0.332531703\t,\t0.387887522\t]\t,\n",
    "[\t0.332531703\t,\t0.387887522\t,\t0.398363943\t]\t,\n",
    "[\t0.387887522\t,\t0.398363943\t,\t0.284826299\t]\t,\n",
    "[\t0.398363943\t,\t0.284826299\t,\t0.186735022\t]\t,\n",
    "[\t0.284826299\t,\t0.186735022\t,\t0.182694768\t]\t,\n",
    "[\t0.186735022\t,\t0.182694768\t,\t0.255617002\t]\t,\n",
    "[\t0.182694768\t,\t0.255617002\t,\t0.23597043\t]\t,\n",
    "[\t0.255617002\t,\t0.23597043\t,\t0.164134134\t]\t,\n",
    "[\t0.23597043\t,\t0.164134134\t,\t0.178176635\t]\t,\n",
    "[\t0.164134134\t,\t0.178176635\t,\t0.163956101\t]\t,\n",
    "[\t0.178176635\t,\t0.163956101\t,\t0.133241484\t]\t,\n",
    "[\t0.163956101\t,\t0.133241484\t,\t0.226399017\t]\t,\n",
    "[\t0.133241484\t,\t0.226399017\t,\t0.255013861\t]\t,\n",
    "[\t0.226399017\t,\t0.255013861\t,\t0.23708614\t]\t,\n",
    "[\t0.255013861\t,\t0.23708614\t,\t0.231651119\t]\t,\n",
    "[\t0.23708614\t,\t0.231651119\t,\t0.233067608\t]\t,\n",
    "[\t0.231651119\t,\t0.233067608\t,\t0.221173719\t]\t,\n",
    "[\t0.233067608\t,\t0.221173719\t,\t0.22633168\t]\t,\n",
    "[\t0.221173719\t,\t0.22633168\t,\t0.218698642\t]\t,\n",
    "[\t0.22633168\t,\t0.218698642\t,\t0.232032203\t]\t,\n",
    "[\t0.218698642\t,\t0.232032203\t,\t0.231947948\t]\t,\n",
    "[\t0.232032203\t,\t0.231947948\t,\t0.221547817\t]\t,\n",
    "[\t0.231947948\t,\t0.221547817\t,\t0.287958581\t]\t,\n",
    "[\t0.221547817\t,\t0.287958581\t,\t0.28837327\t]\t,\n",
    "[\t0.287958581\t,\t0.28837327\t,\t0.297145757\t]\t,\n",
    "[\t0.28837327\t,\t0.297145757\t,\t0.243669818\t]\t,\n",
    "[\t0.297145757\t,\t0.243669818\t,\t0.307437314\t]\t,\n",
    "[\t0.243669818\t,\t0.307437314\t,\t0.358597855\t]\t,\n",
    "[\t0.307437314\t,\t0.358597855\t,\t0.372181217\t]\t,\n",
    "[\t0.358597855\t,\t0.372181217\t,\t0.450259481\t]\t,\n",
    "[\t0.372181217\t,\t0.450259481\t,\t0.443095634\t]\t,\n",
    "[\t0.450259481\t,\t0.443095634\t,\t0.558155976\t]\t,\n",
    "[\t0.443095634\t,\t0.558155976\t,\t0.602359827\t]\t,\n",
    "[\t0.558155976\t,\t0.602359827\t,\t0.696291723\t]\t,\n",
    "[\t0.602359827\t,\t0.696291723\t,\t0.790604671\t]\t,\n",
    "[\t0.696291723\t,\t0.790604671\t,\t0.644022227\t]\t,\n",
    "[\t0.790604671\t,\t0.644022227\t,\t0.583228643\t]\t,\n",
    "[\t0.644022227\t,\t0.583228643\t,\t0.481715009\t]\t,\n",
    "[\t0.583228643\t,\t0.481715009\t,\t0.442812107\t]\t,\n",
    "[\t0.481715009\t,\t0.442812107\t,\t0.496270585\t]\t,\n",
    "[\t0.442812107\t,\t0.496270585\t,\t0.475463393\t]\t,\n",
    "[\t0.496270585\t,\t0.475463393\t,\t0.551559791\t]\t,\n",
    "[\t0.475463393\t,\t0.551559791\t,\t0.500994351\t]\t,\n",
    "[\t0.551559791\t,\t0.500994351\t,\t0.445458587\t]\t,\n",
    "[\t0.500994351\t,\t0.445458587\t,\t0.505711667\t]\t,\n",
    "[\t0.445458587\t,\t0.505711667\t,\t0.465889036\t]\t,\n",
    "[\t0.505711667\t,\t0.465889036\t,\t0.46785659\t]\t,\n",
    "[\t0.465889036\t,\t0.46785659\t,\t0.453001423\t]\t,\n",
    "[\t0.46785659\t,\t0.453001423\t,\t0.437411724\t]\t,\n",
    "[\t0.453001423\t,\t0.437411724\t,\t0.350673696\t]\t,\n",
    "\n",
    "\n",
    ")           \n",
    ",dtype=float)\n",
    "y=np.array(([\t0.112113419\t]\t,\n",
    "[\t0.170734062\t]\t,\n",
    "[\t0.223256598\t]\t,\n",
    "[\t0.241974687\t]\t,\n",
    "[\t0.365733465\t]\t,\n",
    "[\t0.552558994\t]\t,\n",
    "[\t0.370023519\t]\t,\n",
    "[\t0.332531703\t]\t,\n",
    "[\t0.387887522\t]\t,\n",
    "[\t0.398363943\t]\t,\n",
    "[\t0.284826299\t]\t,\n",
    "[\t0.186735022\t]\t,\n",
    "[\t0.182694768\t]\t,\n",
    "[\t0.255617002\t]\t,\n",
    "[\t0.23597043\t]\t,\n",
    "[\t0.164134134\t]\t,\n",
    "[\t0.178176635\t]\t,\n",
    "[\t0.163956101\t]\t,\n",
    "[\t0.133241484\t]\t,\n",
    "[\t0.226399017\t]\t,\n",
    "[\t0.255013861\t]\t,\n",
    "[\t0.23708614\t]\t,\n",
    "[\t0.231651119\t]\t,\n",
    "[\t0.233067608\t]\t,\n",
    "[\t0.221173719\t]\t,\n",
    "[\t0.22633168\t]\t,\n",
    "[\t0.218698642\t]\t,\n",
    "[\t0.232032203\t]\t,\n",
    "[\t0.231947948\t]\t,\n",
    "[\t0.221547817\t]\t,\n",
    "[\t0.287958581\t]\t,\n",
    "[\t0.28837327\t]\t,\n",
    "[\t0.297145757\t]\t,\n",
    "[\t0.243669818\t]\t,\n",
    "[\t0.307437314\t]\t,\n",
    "[\t0.358597855\t]\t,\n",
    "[\t0.372181217\t]\t,\n",
    "[\t0.450259481\t]\t,\n",
    "[\t0.443095634\t]\t,\n",
    "[\t0.558155976\t]\t,\n",
    "[\t0.602359827\t]\t,\n",
    "[\t0.696291723\t]\t,\n",
    "[\t0.790604671\t]\t,\n",
    "[\t0.644022227\t]\t,\n",
    "[\t0.583228643\t]\t,\n",
    "[\t0.481715009\t]\t,\n",
    "[\t0.442812107\t]\t,\n",
    "[\t0.496270585\t]\t,\n",
    "[\t0.475463393\t]\t,\n",
    "[\t0.551559791\t]\t,\n",
    "[\t0.500994351\t]\t,\n",
    "[\t0.445458587\t]\t,\n",
    "[\t0.505711667\t]\t,\n",
    "[\t0.465889036\t]\t,\n",
    "[\t0.46785659\t]\t,\n",
    "[\t0.453001423\t]\t,\n",
    "[\t0.437411724\t]\t,\n",
    "[\t0.350673696\t]\t,\n",
    "[\t0.364031312\t]\t,\n",
    "\n",
    "\n",
    ")\n",
    ",dtype=float)\n",
    "\n",
    "dataprediksi = np.array(([\t0.437411724\t,\t0.350673696\t,\t0.364031312\t]\t,\n",
    "[\t0.350673696\t,\t0.364031312\t,\t0.795380412\t]\t,\n",
    "[\t0.364031312\t,\t0.795380412\t,\t1\t]\t,\n",
    "[\t0.795380412\t,\t1\t,\t0.707681705\t]\t,\n",
    "\n",
    "\n",
    "), dtype=float)\n"
   ]
  },
  {
   "cell_type": "code",
   "execution_count": 7,
   "metadata": {},
   "outputs": [],
   "source": [
    "import matplotlib.pyplot as plot"
   ]
  },
  {
   "cell_type": "code",
   "execution_count": 8,
   "metadata": {},
   "outputs": [],
   "source": [
    "from scipy import optimize"
   ]
  },
  {
   "cell_type": "code",
   "execution_count": 9,
   "metadata": {},
   "outputs": [],
   "source": [
    "class trainer(object):\n",
    "    def __init__(self, N):\n",
    "        #Make Local reference to network:\n",
    "        self.N = N\n",
    "        \n",
    "    def callbackF(self, params):\n",
    "        self.N.setParams(params)\n",
    "        self.J.append(self.N.costFunction(self.X, self.y))   \n",
    "        \n",
    "    def costFunctionWrapper(self, params, X, y):\n",
    "        self.N.setParams(params)\n",
    "        cost = self.N.costFunction(X, y)\n",
    "        grad = self.N.computeGradients(X,y)\n",
    "        \n",
    "        return cost, grad\n",
    "        \n",
    "    def train(self, X, y):\n",
    "        #Make an internal variable for the callback function:\n",
    "        self.X = X\n",
    "        self.y = y\n",
    "\n",
    "        #Make empty list to store costs:\n",
    "        self.J = []\n",
    "        \n",
    "        params0 = self.N.getParams()\n",
    "\n",
    "        options = {'maxiter': 100, 'disp' : True}\n",
    "        _res = optimize.minimize(self.costFunctionWrapper, params0, jac=True, method='BFGS', \\\n",
    "                                 args=(X, y), options=options, callback=self.callbackF)\n",
    "\n",
    "        self.N.setParams(_res.x)\n",
    "        self.optimizationResults = _res"
   ]
  },
  {
   "cell_type": "code",
   "execution_count": 10,
   "metadata": {},
   "outputs": [],
   "source": [
    "NN=Neural_Network()"
   ]
  },
  {
   "cell_type": "code",
   "execution_count": 11,
   "metadata": {},
   "outputs": [],
   "source": [
    "T = trainer(NN)"
   ]
  },
  {
   "cell_type": "code",
   "execution_count": 12,
   "metadata": {},
   "outputs": [
    {
     "name": "stdout",
     "output_type": "stream",
     "text": [
      "Warning: Maximum number of iterations has been exceeded.\n",
      "         Current function value: 0.099492\n",
      "         Iterations: 100\n",
      "         Function evaluations: 119\n",
      "         Gradient evaluations: 119\n"
     ]
    }
   ],
   "source": [
    "#Train network with new data:\n",
    "T = trainer(NN)\n",
    "T.train(X,y)"
   ]
  },
  {
   "cell_type": "code",
   "execution_count": 13,
   "metadata": {},
   "outputs": [
    {
     "data": {
      "image/png": "[encoded data removed]",
      "text/plain": [
       "<Figure size 432x288 with 1 Axes>"
      ]
     },
     "metadata": {
      "needs_background": "light"
     },
     "output_type": "display_data"
    }
   ],
   "source": [
    "#Plot cost during training:\n",
    "plot.plot(T.J)\n",
    "plot.grid(1)\n",
    "plot.xlabel('Iterations')\n",
    "plot.ylabel('Cost')\n",
    "plot.show()"
   ]
  },
  {
   "cell_type": "code",
   "execution_count": 14,
   "metadata": {},
   "outputs": [],
   "source": [
    "#Training Data:\n",
    "trainX = np.array(([\t0\t,\t0.051924996\t,\t0.148319042\t]\t,\n",
    "[\t0.051924996\t,\t0.148319042\t,\t0.112113419\t]\t,\n",
    "[\t0.148319042\t,\t0.112113419\t,\t0.170734062\t]\t,\n",
    "[\t0.112113419\t,\t0.170734062\t,\t0.223256598\t]\t,\n",
    "[\t0.170734062\t,\t0.223256598\t,\t0.241974687\t]\t,\n",
    "[\t0.223256598\t,\t0.241974687\t,\t0.365733465\t]\t,\n",
    "[\t0.241974687\t,\t0.365733465\t,\t0.552558994\t]\t,\n",
    "[\t0.365733465\t,\t0.552558994\t,\t0.370023519\t]\t,\n",
    "[\t0.552558994\t,\t0.370023519\t,\t0.332531703\t]\t,\n",
    "[\t0.370023519\t,\t0.332531703\t,\t0.387887522\t]\t,\n",
    "[\t0.332531703\t,\t0.387887522\t,\t0.398363943\t]\t,\n",
    "[\t0.387887522\t,\t0.398363943\t,\t0.284826299\t]\t,\n",
    "[\t0.398363943\t,\t0.284826299\t,\t0.186735022\t]\t,\n",
    "[\t0.284826299\t,\t0.186735022\t,\t0.182694768\t]\t,\n",
    "[\t0.186735022\t,\t0.182694768\t,\t0.255617002\t]\t,\n",
    "[\t0.182694768\t,\t0.255617002\t,\t0.23597043\t]\t,\n",
    "[\t0.255617002\t,\t0.23597043\t,\t0.164134134\t]\t,\n",
    "[\t0.23597043\t,\t0.164134134\t,\t0.178176635\t]\t,\n",
    "[\t0.164134134\t,\t0.178176635\t,\t0.163956101\t]\t,\n",
    "[\t0.178176635\t,\t0.163956101\t,\t0.133241484\t]\t,\n",
    "[\t0.163956101\t,\t0.133241484\t,\t0.226399017\t]\t,\n",
    "[\t0.133241484\t,\t0.226399017\t,\t0.255013861\t]\t,\n",
    "[\t0.226399017\t,\t0.255013861\t,\t0.23708614\t]\t,\n",
    "[\t0.255013861\t,\t0.23708614\t,\t0.231651119\t]\t,\n",
    "[\t0.23708614\t,\t0.231651119\t,\t0.233067608\t]\t,\n",
    "[\t0.231651119\t,\t0.233067608\t,\t0.221173719\t]\t,\n",
    "[\t0.233067608\t,\t0.221173719\t,\t0.22633168\t]\t,\n",
    "[\t0.221173719\t,\t0.22633168\t,\t0.218698642\t]\t,\n",
    "[\t0.22633168\t,\t0.218698642\t,\t0.232032203\t]\t,\n",
    "[\t0.218698642\t,\t0.232032203\t,\t0.231947948\t]\t,\n",
    "[\t0.232032203\t,\t0.231947948\t,\t0.221547817\t]\t,\n",
    "[\t0.231947948\t,\t0.221547817\t,\t0.287958581\t]\t,\n",
    "[\t0.221547817\t,\t0.287958581\t,\t0.28837327\t]\t,\n",
    "[\t0.287958581\t,\t0.28837327\t,\t0.297145757\t]\t,\n",
    "[\t0.28837327\t,\t0.297145757\t,\t0.243669818\t]\t,\n",
    "[\t0.297145757\t,\t0.243669818\t,\t0.307437314\t]\t,\n",
    "[\t0.243669818\t,\t0.307437314\t,\t0.358597855\t]\t,\n",
    "[\t0.307437314\t,\t0.358597855\t,\t0.372181217\t]\t,\n",
    "[\t0.358597855\t,\t0.372181217\t,\t0.450259481\t]\t,\n",
    "[\t0.372181217\t,\t0.450259481\t,\t0.443095634\t]\t,\n",
    "[\t0.450259481\t,\t0.443095634\t,\t0.558155976\t]\t,\n",
    "[\t0.443095634\t,\t0.558155976\t,\t0.602359827\t]\t,\n",
    "[\t0.558155976\t,\t0.602359827\t,\t0.696291723\t]\t,\n",
    "[\t0.602359827\t,\t0.696291723\t,\t0.790604671\t]\t,\n",
    "[\t0.696291723\t,\t0.790604671\t,\t0.644022227\t]\t,\n",
    "[\t0.790604671\t,\t0.644022227\t,\t0.583228643\t]\t,\n",
    "\n",
    "\n",
    ")\n",
    ", dtype=float)\n",
    "trainY = np.array(([\t0.112113419\t]\t,\n",
    "[\t0.170734062\t]\t,\n",
    "[\t0.223256598\t]\t,\n",
    "[\t0.241974687\t]\t,\n",
    "[\t0.365733465\t]\t,\n",
    "[\t0.552558994\t]\t,\n",
    "[\t0.370023519\t]\t,\n",
    "[\t0.332531703\t]\t,\n",
    "[\t0.387887522\t]\t,\n",
    "[\t0.398363943\t]\t,\n",
    "[\t0.284826299\t]\t,\n",
    "[\t0.186735022\t]\t,\n",
    "[\t0.182694768\t]\t,\n",
    "[\t0.255617002\t]\t,\n",
    "[\t0.23597043\t]\t,\n",
    "[\t0.164134134\t]\t,\n",
    "[\t0.178176635\t]\t,\n",
    "[\t0.163956101\t]\t,\n",
    "[\t0.133241484\t]\t,\n",
    "[\t0.226399017\t]\t,\n",
    "[\t0.255013861\t]\t,\n",
    "[\t0.23708614\t]\t,\n",
    "[\t0.231651119\t]\t,\n",
    "[\t0.233067608\t]\t,\n",
    "[\t0.221173719\t]\t,\n",
    "[\t0.22633168\t]\t,\n",
    "[\t0.218698642\t]\t,\n",
    "[\t0.232032203\t]\t,\n",
    "[\t0.231947948\t]\t,\n",
    "[\t0.221547817\t]\t,\n",
    "[\t0.287958581\t]\t,\n",
    "[\t0.28837327\t]\t,\n",
    "[\t0.297145757\t]\t,\n",
    "[\t0.243669818\t]\t,\n",
    "[\t0.307437314\t]\t,\n",
    "[\t0.358597855\t]\t,\n",
    "[\t0.372181217\t]\t,\n",
    "[\t0.450259481\t]\t,\n",
    "[\t0.443095634\t]\t,\n",
    "[\t0.558155976\t]\t,\n",
    "[\t0.602359827\t]\t,\n",
    "[\t0.696291723\t]\t,\n",
    "[\t0.790604671\t]\t,\n",
    "[\t0.644022227\t]\t,\n",
    "[\t0.583228643\t]\t,\n",
    "[\t0.481715009\t]\t,\n",
    "\n",
    "\n",
    ")\n",
    ", dtype=float)\n",
    "\n",
    "#Testing Data:\n",
    "testX = np.array(([\t0.644022227\t,\t0.583228643\t,\t0.481715009\t]\t,\n",
    "[\t0.583228643\t,\t0.481715009\t,\t0.442812107\t]\t,\n",
    "[\t0.481715009\t,\t0.442812107\t,\t0.496270585\t]\t,\n",
    "[\t0.442812107\t,\t0.496270585\t,\t0.475463393\t]\t,\n",
    "[\t0.496270585\t,\t0.475463393\t,\t0.551559791\t]\t,\n",
    "[\t0.475463393\t,\t0.551559791\t,\t0.500994351\t]\t,\n",
    "[\t0.551559791\t,\t0.500994351\t,\t0.445458587\t]\t,\n",
    "[\t0.500994351\t,\t0.445458587\t,\t0.505711667\t]\t,\n",
    "[\t0.445458587\t,\t0.505711667\t,\t0.465889036\t]\t,\n",
    "[\t0.505711667\t,\t0.465889036\t,\t0.46785659\t]\t,\n",
    "[\t0.465889036\t,\t0.46785659\t,\t0.453001423\t]\t,\n",
    "[\t0.46785659\t,\t0.453001423\t,\t0.437411724\t]\t,\n",
    "[\t0.453001423\t,\t0.437411724\t,\t0.350673696\t]\t,\n",
    "\n",
    ")\n",
    ", dtype=float)\n",
    "testY = np.array(([\t0.442812107\t]\t,\n",
    "[\t0.496270585\t]\t,\n",
    "[\t0.475463393\t]\t,\n",
    "[\t0.551559791\t]\t,\n",
    "[\t0.500994351\t]\t,\n",
    "[\t0.445458587\t]\t,\n",
    "[\t0.505711667\t]\t,\n",
    "[\t0.465889036\t]\t,\n",
    "[\t0.46785659\t]\t,\n",
    "[\t0.453001423\t]\t,\n",
    "[\t0.437411724\t]\t,\n",
    "[\t0.350673696\t]\t,\n",
    "[\t0.364031312\t]\t,\n",
    "\n",
    "                 )\n",
    ", dtype=float)\n",
    "\n",
    "\n",
    "dataprediksi = np.array(([\t0.437411724\t,\t0.350673696\t,\t0.364031312\t]\t,\n",
    "[\t0.350673696\t,\t0.364031312\t,\t0.795380412\t]\t,\n",
    "[\t0.364031312\t,\t0.795380412\t,\t1\t]\t,\n",
    "[\t0.795380412\t,\t1\t,\t0.707681705\t]\t,\n",
    "\n",
    "\n",
    "), dtype=float)"
   ]
  },
  {
   "cell_type": "code",
   "execution_count": 15,
   "metadata": {},
   "outputs": [
    {
     "data": {
      "text/plain": [
       "array([[0.64402223, 0.58322864, 0.48171501],\n",
       "       [0.58322864, 0.48171501, 0.44281211],\n",
       "       [0.48171501, 0.44281211, 0.49627058],\n",
       "       [0.44281211, 0.49627058, 0.47546339],\n",
       "       [0.49627058, 0.47546339, 0.55155979],\n",
       "       [0.47546339, 0.55155979, 0.50099435],\n",
       "       [0.55155979, 0.50099435, 0.44545859],\n",
       "       [0.50099435, 0.44545859, 0.50571167],\n",
       "       [0.44545859, 0.50571167, 0.46588904],\n",
       "       [0.50571167, 0.46588904, 0.46785659],\n",
       "       [0.46588904, 0.46785659, 0.45300142],\n",
       "       [0.46785659, 0.45300142, 0.43741172],\n",
       "       [0.45300142, 0.43741172, 0.3506737 ]])"
      ]
     },
     "execution_count": 15,
     "metadata": {},
     "output_type": "execute_result"
    }
   ],
   "source": [
    "testX"
   ]
  },
  {
   "cell_type": "code",
   "execution_count": 16,
   "metadata": {},
   "outputs": [],
   "source": [
    "##Need to modify trainer class a bit to check testing error during training:\n",
    "class trainer(object):\n",
    "    def __init__(self, N):\n",
    "        #Make Local reference to network:\n",
    "        self.N = N\n",
    "        \n",
    "    def callbackF(self, params):\n",
    "        self.N.setParams(params)\n",
    "        self.J.append(self.N.costFunction(self.X, self.y))\n",
    "        self.testJ.append(self.N.costFunction(self.testX, self.testY))\n",
    "        \n",
    "    def costFunctionWrapper(self, params, X, y):\n",
    "        self.N.setParams(params)\n",
    "        cost = self.N.costFunction(X, y)\n",
    "        grad = self.N.computeGradients(X,y)\n",
    "        \n",
    "        return cost, grad\n",
    "        \n",
    "    def train(self, trainX, trainY, testX, testY):\n",
    "        #Make an internal variable for the callback function:\n",
    "        self.X = trainX\n",
    "        self.y = trainY\n",
    "        \n",
    "        self.testX = testX\n",
    "        self.testY = testY\n",
    "\n",
    "        #Make empty list to store training costs:\n",
    "        self.J = []\n",
    "        self.testJ = []\n",
    "        \n",
    "        params0 = self.N.getParams()\n",
    "\n",
    "        options = {'maxiter': 100, 'disp' : True}\n",
    "        _res = optimize.minimize(self.costFunctionWrapper, params0, jac=True, method='BFGS', \\\n",
    "                                 args=(trainX, trainY), options=options, callback=self.callbackF)\n",
    "\n",
    "        self.N.setParams(_res.x)\n",
    "        self.optimizationResults = _res"
   ]
  },
  {
   "cell_type": "code",
   "execution_count": 17,
   "metadata": {},
   "outputs": [
    {
     "name": "stdout",
     "output_type": "stream",
     "text": [
      "Warning: Maximum number of iterations has been exceeded.\n",
      "         Current function value: 0.081800\n",
      "         Iterations: 100\n",
      "         Function evaluations: 117\n",
      "         Gradient evaluations: 117\n"
     ]
    }
   ],
   "source": [
    "#Train network with new data:\n",
    "NN = Neural_Network()\n",
    "\n",
    "T = trainer(NN)\n",
    "T.train(trainX, trainY, testX, testY)"
   ]
  },
  {
   "cell_type": "code",
   "execution_count": 18,
   "metadata": {},
   "outputs": [
    {
     "data": {
      "image/png": "[encoded data removed]",
      "text/plain": [
       "<Figure size 432x288 with 1 Axes>"
      ]
     },
     "metadata": {
      "needs_background": "light"
     },
     "output_type": "display_data"
    }
   ],
   "source": [
    "#Plot cost during training:\n",
    "plot.plot(T.J)\n",
    "plot.plot(T.testJ)\n",
    "plot.grid(1)\n",
    "plot.xlabel('Iterations')\n",
    "plot.ylabel('Cost')\n",
    "plot.legend(['Training', 'Testing'])\n",
    "plot.show()"
   ]
  },
  {
   "cell_type": "code",
   "execution_count": 19,
   "metadata": {},
   "outputs": [
    {
     "data": {
      "text/plain": [
       "[array([1.42695969]),\n",
       " array([0.44151685]),\n",
       " array([0.34574274]),\n",
       " array([0.28378665]),\n",
       " array([0.23476396]),\n",
       " array([0.18097121]),\n",
       " array([0.16160153]),\n",
       " array([0.1485848]),\n",
       " array([0.1433907]),\n",
       " array([0.13846624]),\n",
       " array([0.13172491]),\n",
       " array([0.12799688]),\n",
       " array([0.12335087]),\n",
       " array([0.11747408]),\n",
       " array([0.11277776]),\n",
       " array([0.1104118]),\n",
       " array([0.10984248]),\n",
       " array([0.10969026]),\n",
       " array([0.10958089]),\n",
       " array([0.1095114]),\n",
       " array([0.10937852]),\n",
       " array([0.10818874]),\n",
       " array([0.10672216]),\n",
       " array([0.10487796]),\n",
       " array([0.10287602]),\n",
       " array([0.10016091]),\n",
       " array([0.09944583]),\n",
       " array([0.09921024]),\n",
       " array([0.09877563]),\n",
       " array([0.09796467]),\n",
       " array([0.09663025]),\n",
       " array([0.0954767]),\n",
       " array([0.09490397]),\n",
       " array([0.09437467]),\n",
       " array([0.09417617]),\n",
       " array([0.09386762]),\n",
       " array([0.09346716]),\n",
       " array([0.09327531]),\n",
       " array([0.09320553]),\n",
       " array([0.09315655]),\n",
       " array([0.09314919]),\n",
       " array([0.09313563]),\n",
       " array([0.09310999]),\n",
       " array([0.09306097]),\n",
       " array([0.0927286]),\n",
       " array([0.09216981]),\n",
       " array([0.09141176]),\n",
       " array([0.09109903]),\n",
       " array([0.09059716]),\n",
       " array([0.08991367]),\n",
       " array([0.08970137]),\n",
       " array([0.08947149]),\n",
       " array([0.08938884]),\n",
       " array([0.08931706]),\n",
       " array([0.08930485]),\n",
       " array([0.08928303]),\n",
       " array([0.08924295]),\n",
       " array([0.08916959]),\n",
       " array([0.08903611]),\n",
       " array([0.08835437]),\n",
       " array([0.08814196]),\n",
       " array([0.08779394]),\n",
       " array([0.08731343]),\n",
       " array([0.0871765]),\n",
       " array([0.08699974]),\n",
       " array([0.08687189]),\n",
       " array([0.08674685]),\n",
       " array([0.08673839]),\n",
       " array([0.0867235]),\n",
       " array([0.08669815]),\n",
       " array([0.08665758]),\n",
       " array([0.08660018]),\n",
       " array([0.08654391]),\n",
       " array([0.08647276]),\n",
       " array([0.08641087]),\n",
       " array([0.08635137]),\n",
       " array([0.08634146]),\n",
       " array([0.08626683]),\n",
       " array([0.086225]),\n",
       " array([0.08616247]),\n",
       " array([0.08605106]),\n",
       " array([0.0855781]),\n",
       " array([0.08543965]),\n",
       " array([0.08520438]),\n",
       " array([0.08483623]),\n",
       " array([0.08447024]),\n",
       " array([0.08406981]),\n",
       " array([0.08392327]),\n",
       " array([0.08372109]),\n",
       " array([0.08362398]),\n",
       " array([0.08360414]),\n",
       " array([0.08358996]),\n",
       " array([0.08356487]),\n",
       " array([0.08351985]),\n",
       " array([0.08344038]),\n",
       " array([0.08331115]),\n",
       " array([0.08319144]),\n",
       " array([0.08301358]),\n",
       " array([0.08205529]),\n",
       " array([0.08179983])]"
      ]
     },
     "execution_count": 19,
     "metadata": {},
     "output_type": "execute_result"
    }
   ],
   "source": [
    "T.J"
   ]
  },
  {
   "cell_type": "code",
   "execution_count": 20,
   "metadata": {},
   "outputs": [
    {
     "data": {
      "text/plain": [
       "[array([0.47821237]),\n",
       " array([0.05473822]),\n",
       " array([0.02545272]),\n",
       " array([0.02338357]),\n",
       " array([0.03621938]),\n",
       " array([0.02009314]),\n",
       " array([0.01929719]),\n",
       " array([0.01609681]),\n",
       " array([0.0156792]),\n",
       " array([0.01421012]),\n",
       " array([0.01282622]),\n",
       " array([0.01283948]),\n",
       " array([0.01343164]),\n",
       " array([0.01428614]),\n",
       " array([0.01402781]),\n",
       " array([0.01469916]),\n",
       " array([0.01410096]),\n",
       " array([0.01422237]),\n",
       " array([0.01435375]),\n",
       " array([0.01440444]),\n",
       " array([0.01446723]),\n",
       " array([0.01489106]),\n",
       " array([0.0152803]),\n",
       " array([0.01540826]),\n",
       " array([0.01589246]),\n",
       " array([0.01592274]),\n",
       " array([0.01594767]),\n",
       " array([0.01603944]),\n",
       " array([0.01616759]),\n",
       " array([0.0164304]),\n",
       " array([0.01678225]),\n",
       " array([0.01763612]),\n",
       " array([0.01872825]),\n",
       " array([0.01903604]),\n",
       " array([0.01873465]),\n",
       " array([0.01897081]),\n",
       " array([0.02001394]),\n",
       " array([0.02045342]),\n",
       " array([0.02124116]),\n",
       " array([0.02119512]),\n",
       " array([0.02124989]),\n",
       " array([0.02134192]),\n",
       " array([0.02147084]),\n",
       " array([0.02163296]),\n",
       " array([0.02216983]),\n",
       " array([0.022436]),\n",
       " array([0.02297029]),\n",
       " array([0.0225917]),\n",
       " array([0.02203779]),\n",
       " array([0.02146958]),\n",
       " array([0.0209406]),\n",
       " array([0.02035086]),\n",
       " array([0.02038188]),\n",
       " array([0.01984623]),\n",
       " array([0.01950272]),\n",
       " array([0.01953462]),\n",
       " array([0.01962876]),\n",
       " array([0.01971994]),\n",
       " array([0.01990431]),\n",
       " array([0.01997184]),\n",
       " array([0.01974175]),\n",
       " array([0.01992428]),\n",
       " array([0.02073809]),\n",
       " array([0.02074889]),\n",
       " array([0.02097048]),\n",
       " array([0.02058763]),\n",
       " array([0.01988191]),\n",
       " array([0.0202974]),\n",
       " array([0.02020963]),\n",
       " array([0.02005832]),\n",
       " array([0.01985753]),\n",
       " array([0.01959788]),\n",
       " array([0.01939512]),\n",
       " array([0.01934971]),\n",
       " array([0.01927602]),\n",
       " array([0.01938359]),\n",
       " array([0.01945994]),\n",
       " array([0.01945823]),\n",
       " array([0.01960051]),\n",
       " array([0.01952178]),\n",
       " array([0.01950917]),\n",
       " array([0.01951862]),\n",
       " array([0.01964387]),\n",
       " array([0.01957084]),\n",
       " array([0.01935189]),\n",
       " array([0.01936627]),\n",
       " array([0.01877492]),\n",
       " array([0.01881962]),\n",
       " array([0.01881674]),\n",
       " array([0.01876483]),\n",
       " array([0.01869834]),\n",
       " array([0.0186502]),\n",
       " array([0.0185472]),\n",
       " array([0.01839934]),\n",
       " array([0.01817563]),\n",
       " array([0.01785763]),\n",
       " array([0.01759955]),\n",
       " array([0.01765283]),\n",
       " array([0.02072017]),\n",
       " array([0.01979744])]"
      ]
     },
     "execution_count": 20,
     "metadata": {},
     "output_type": "execute_result"
    }
   ],
   "source": [
    "T.testJ"
   ]
  },
  {
   "cell_type": "code",
   "execution_count": 21,
   "metadata": {},
   "outputs": [
    {
     "data": {
      "text/plain": [
       "0.0947691092022736"
      ]
     },
     "execution_count": 21,
     "metadata": {},
     "output_type": "execute_result"
    }
   ],
   "source": [
    "from sklearn.metrics import mean_absolute_error\n",
    "mean_absolute_error(T.J, T.testJ)"
   ]
  },
  {
   "cell_type": "code",
   "execution_count": 22,
   "metadata": {},
   "outputs": [],
   "source": [
    "yHat = NN.forward(X)"
   ]
  },
  {
   "cell_type": "code",
   "execution_count": 23,
   "metadata": {},
   "outputs": [
    {
     "data": {
      "text/plain": [
       "array([[0.17805269],\n",
       "       [0.12141533],\n",
       "       [0.20644758],\n",
       "       [0.2607222 ],\n",
       "       [0.27672579],\n",
       "       [0.41577793],\n",
       "       [0.39720568],\n",
       "       [0.34551869],\n",
       "       [0.36699047],\n",
       "       [0.41524595],\n",
       "       [0.42700975],\n",
       "       [0.25372164],\n",
       "       [0.22107189],\n",
       "       [0.18573069],\n",
       "       [0.30586475],\n",
       "       [0.25926324],\n",
       "       [0.14548651],\n",
       "       [0.1850664 ],\n",
       "       [0.17524059],\n",
       "       [0.12801653],\n",
       "       [0.28090645],\n",
       "       [0.28082747],\n",
       "       [0.25353927],\n",
       "       [0.24150554],\n",
       "       [0.24999889],\n",
       "       [0.23289405],\n",
       "       [0.24325724],\n",
       "       [0.23359278],\n",
       "       [0.25450043],\n",
       "       [0.25325039],\n",
       "       [0.23363132],\n",
       "       [0.33494048],\n",
       "       [0.31892969],\n",
       "       [0.31921453],\n",
       "       [0.23671666],\n",
       "       [0.34113278],\n",
       "       [0.39579383],\n",
       "       [0.40359917],\n",
       "       [0.48979785],\n",
       "       [0.46302622],\n",
       "       [0.58331406],\n",
       "       [0.58496718],\n",
       "       [0.67046351],\n",
       "       [0.71074081],\n",
       "       [0.55207769],\n",
       "       [0.50740837],\n",
       "       [0.42439481],\n",
       "       [0.40723292],\n",
       "       [0.50243011],\n",
       "       [0.48074664],\n",
       "       [0.56219197],\n",
       "       [0.49411951],\n",
       "       [0.405198  ],\n",
       "       [0.506209  ],\n",
       "       [0.46561315],\n",
       "       [0.45087024],\n",
       "       [0.44650801],\n",
       "       [0.42657339],\n",
       "       [0.32054046]])"
      ]
     },
     "execution_count": 23,
     "metadata": {},
     "output_type": "execute_result"
    }
   ],
   "source": [
    "yHat"
   ]
  },
  {
   "cell_type": "code",
   "execution_count": 24,
   "metadata": {},
   "outputs": [
    {
     "data": {
      "text/plain": [
       "array([[0.11211342],\n",
       "       [0.17073406],\n",
       "       [0.2232566 ],\n",
       "       [0.24197469],\n",
       "       [0.36573346],\n",
       "       [0.55255899],\n",
       "       [0.37002352],\n",
       "       [0.3325317 ],\n",
       "       [0.38788752],\n",
       "       [0.39836394],\n",
       "       [0.2848263 ],\n",
       "       [0.18673502],\n",
       "       [0.18269477],\n",
       "       [0.255617  ],\n",
       "       [0.23597043],\n",
       "       [0.16413413],\n",
       "       [0.17817663],\n",
       "       [0.1639561 ],\n",
       "       [0.13324148],\n",
       "       [0.22639902],\n",
       "       [0.25501386],\n",
       "       [0.23708614],\n",
       "       [0.23165112],\n",
       "       [0.23306761],\n",
       "       [0.22117372],\n",
       "       [0.22633168],\n",
       "       [0.21869864],\n",
       "       [0.2320322 ],\n",
       "       [0.23194795],\n",
       "       [0.22154782],\n",
       "       [0.28795858],\n",
       "       [0.28837327],\n",
       "       [0.29714576],\n",
       "       [0.24366982],\n",
       "       [0.30743731],\n",
       "       [0.35859786],\n",
       "       [0.37218122],\n",
       "       [0.45025948],\n",
       "       [0.44309563],\n",
       "       [0.55815598],\n",
       "       [0.60235983],\n",
       "       [0.69629172],\n",
       "       [0.79060467],\n",
       "       [0.64402223],\n",
       "       [0.58322864],\n",
       "       [0.48171501],\n",
       "       [0.44281211],\n",
       "       [0.49627058],\n",
       "       [0.47546339],\n",
       "       [0.55155979],\n",
       "       [0.50099435],\n",
       "       [0.44545859],\n",
       "       [0.50571167],\n",
       "       [0.46588904],\n",
       "       [0.46785659],\n",
       "       [0.45300142],\n",
       "       [0.43741172],\n",
       "       [0.3506737 ],\n",
       "       [0.36403131]])"
      ]
     },
     "execution_count": 24,
     "metadata": {},
     "output_type": "execute_result"
    }
   ],
   "source": [
    "y"
   ]
  },
  {
   "cell_type": "code",
   "execution_count": 25,
   "metadata": {},
   "outputs": [
    {
     "data": {
      "text/plain": [
       "0.0034439751137748274"
      ]
     },
     "execution_count": 25,
     "metadata": {},
     "output_type": "execute_result"
    }
   ],
   "source": [
    "from sklearn.metrics import mean_squared_error \n",
    "mean_squared_error(y,yHat) "
   ]
  },
  {
   "cell_type": "code",
   "execution_count": 26,
   "metadata": {},
   "outputs": [
    {
     "data": {
      "image/png": "[encoded data removed]",
      "text/plain": [
       "<Figure size 432x288 with 1 Axes>"
      ]
     },
     "metadata": {
      "needs_background": "light"
     },
     "output_type": "display_data"
    }
   ],
   "source": [
    "#Plot cost during training:\n",
    "plot.plot(y)\n",
    "plot.plot(yHat)\n",
    "plot.grid(1)\n",
    "plot.legend(['y', 'yHat'])\n",
    "plot.show()"
   ]
  },
  {
   "cell_type": "code",
   "execution_count": 27,
   "metadata": {},
   "outputs": [],
   "source": [
    "#Regularization Parameter:\n",
    "Lambda = 0.0001"
   ]
  },
  {
   "cell_type": "code",
   "execution_count": 28,
   "metadata": {},
   "outputs": [],
   "source": [
    "#Need to make changes to costFunction and costFunctionPrim:\n",
    "def costFunction(self, X, y):\n",
    "    #Compute cost for given X,y, use weights already stored in class.\n",
    "    self.yHat = self.forward(X)\n",
    "    #We don't want cost to increase with the number of examples, so normalize by dividing the error term by number of examples(X.shape[0])\n",
    "    J = 0.5*sum((y-self.yHat)**2)/X.shape[0] + (self.Lambda/2)*(sum(self.W1**2)+sum(self.W2**2))\n",
    "    return J\n",
    "\n",
    "def costFunctionPrime(self, X, y):\n",
    "    #Compute derivative with respect to W and W2 for a given X and y:\n",
    "    self.yHat = self.forward(X)\n",
    "\n",
    "    delta3 = np.multiply(-(y-self.yHat), self.tanhPrime(self.z3))\n",
    "    #Add gradient of regularization term:\n",
    "    dJdW2 = np.dot(self.a2.T, delta3)/X.shape[0] + self.Lambda*self.W2\n",
    "\n",
    "    delta2 = np.dot(delta3, self.W2.T)*self.tanhPrime(self.z2)\n",
    "    #Add gradient of regularization term:\n",
    "    dJdW1 = np.dot(X.T, delta2)/X.shape[0] + self.Lambda*self.W1\n",
    "\n",
    "    return dJdW1, dJdW2"
   ]
  },
  {
   "cell_type": "code",
   "execution_count": 29,
   "metadata": {},
   "outputs": [],
   "source": [
    "#New complete class, with changes:\n",
    "class Neural_Network(object):\n",
    "    def __init__(self, Lambda=0.0001):        \n",
    "        #Define Hyperparameters\n",
    "        self.inputLayerSize = 3\n",
    "        self.outputLayerSize = 1\n",
    "        self.hiddenLayerSize = 2\n",
    "        \n",
    "        #Weights (parameters)\n",
    "        self.W1 = np.random.randn(self.inputLayerSize,self.hiddenLayerSize)\n",
    "        self.W2 = np.random.randn(self.hiddenLayerSize,self.outputLayerSize)\n",
    "        \n",
    "        #Regularization Parameter:\n",
    "        self.Lambda = Lambda\n",
    "        \n",
    "    def forward(self, X):\n",
    "        #Propogate inputs though network\n",
    "        self.z2 = np.dot(X, self.W1)\n",
    "        self.a2 = self.tanh(self.z2)\n",
    "        self.z3 = np.dot(self.a2, self.W2)\n",
    "        yHat = self.tanh(self.z3) \n",
    "        return yHat\n",
    "        \n",
    "    def tanh(self, z):\n",
    "        # activation function\n",
    "        return (np.exp(z)-np.exp(-z))/(np.exp(z)+np.exp(-z))\n",
    "    \n",
    "    def tanhPrime(self,z): \n",
    "        #derivative of tanh\n",
    "        return 1-((np.exp(z)-np.exp(-z))/(np.exp(z)+np.exp(-z)))**2\n",
    "    \n",
    "    def costFunction(self, X, y):\n",
    "        #Compute cost for given X,y, use weights already stored in class.\n",
    "        self.yHat = self.forward(X)\n",
    "        J = 0.5*sum((y-self.yHat)**2)/X.shape[0] + (self.Lambda/2)*(np.sum(self.W1**2)+np.sum(self.W2**2))\n",
    "        return J\n",
    "        \n",
    "    def costFunctionPrime(self, X, y):\n",
    "        #Compute derivative with respect to W and W2 for a given X and y:\n",
    "        self.yHat = self.forward(X)\n",
    "        \n",
    "        delta3 = np.multiply(-(y-self.yHat), self.tanhPrime(self.z3))\n",
    "        #Add gradient of regularization term:\n",
    "        dJdW2 = np.dot(self.a2.T, delta3)/X.shape[0] + self.Lambda*self.W2\n",
    "        \n",
    "        delta2 = np.dot(delta3, self.W2.T)*self.tanhPrime(self.z2)\n",
    "        #Add gradient of regularization term:\n",
    "        dJdW1 = np.dot(X.T, delta2)/X.shape[0] + self.Lambda*self.W1\n",
    "        \n",
    "        return dJdW1, dJdW2\n",
    "    \n",
    "    def predict(self):\n",
    "        prediksi = self.forward(dataprediksi)\n",
    "        return prediksi\n",
    "    \n",
    "    #Helper functions for interacting with other methods/classes\n",
    "    def getParams(self):\n",
    "        #Get W1 and W2 Rolled into vector:\n",
    "        params = np.concatenate((self.W1.ravel(), self.W2.ravel()))\n",
    "        return params\n",
    "    \n",
    "    def setParams(self, params):\n",
    "        #Set W1 and W2 using single parameter vector:\n",
    "        W1_start = 0\n",
    "        W1_end = self.hiddenLayerSize*self.inputLayerSize\n",
    "        self.W1 = np.reshape(params[W1_start:W1_end], \\\n",
    "                             (self.inputLayerSize, self.hiddenLayerSize))\n",
    "        W2_end = W1_end + self.hiddenLayerSize*self.outputLayerSize\n",
    "        self.W2 = np.reshape(params[W1_end:W2_end], \\\n",
    "                             (self.hiddenLayerSize, self.outputLayerSize))\n",
    "        \n",
    "    def computeGradients(self, X, y):\n",
    "        dJdW1, dJdW2 = self.costFunctionPrime(X, y)\n",
    "        return np.concatenate((dJdW1.ravel(), dJdW2.ravel()))"
   ]
  },
  {
   "cell_type": "code",
   "execution_count": 30,
   "metadata": {},
   "outputs": [],
   "source": [
    "def computeNumericalGradient(N, X, y):\n",
    "    paramsInitial = N.getParams()\n",
    "    numgrad = np.zeros(paramsInitial.shape)\n",
    "    perturb = np.zeros(paramsInitial.shape)\n",
    "    e = 1e-4\n",
    "\n",
    "    for p in range(len(paramsInitial)):\n",
    "        #Set perturbation vector\n",
    "        perturb[p] = e\n",
    "        N.setParams(paramsInitial + perturb)\n",
    "        loss2 = N.costFunction(X, y)\n",
    "            \n",
    "        N.setParams(paramsInitial - perturb)\n",
    "        loss1 = N.costFunction(X, y)\n",
    "\n",
    "        #Compute Numerical Gradient\n",
    "        numgrad[p] = (loss2 - loss1) / (2*e)\n",
    "\n",
    "            #Return the value we changed to zero:\n",
    "        perturb[p] = 0\n",
    "            \n",
    "    #Return Params to original value:\n",
    "    N.setParams(paramsInitial)\n",
    "\n",
    "    return numgrad "
   ]
  },
  {
   "cell_type": "code",
   "execution_count": 31,
   "metadata": {},
   "outputs": [],
   "source": [
    "NN = Neural_Network(Lambda=0.0001)"
   ]
  },
  {
   "cell_type": "code",
   "execution_count": 32,
   "metadata": {},
   "outputs": [],
   "source": [
    "#Make sure our gradients our correct after making changes:\n",
    "numgrad = computeNumericalGradient(NN, X, y)\n",
    "grad = NN.computeGradients(X,y)"
   ]
  },
  {
   "cell_type": "code",
   "execution_count": 33,
   "metadata": {},
   "outputs": [
    {
     "data": {
      "text/plain": [
       "5.079693380879362e-10"
      ]
     },
     "execution_count": 33,
     "metadata": {},
     "output_type": "execute_result"
    }
   ],
   "source": [
    "#Should be less than 1e-8:\n",
    "np.linalg.norm(grad-numgrad)/np.linalg.norm(grad+numgrad)"
   ]
  },
  {
   "cell_type": "code",
   "execution_count": 34,
   "metadata": {},
   "outputs": [],
   "source": [
    "T = trainer(NN)"
   ]
  },
  {
   "cell_type": "code",
   "execution_count": 35,
   "metadata": {},
   "outputs": [
    {
     "name": "stdout",
     "output_type": "stream",
     "text": [
      "Optimization terminated successfully.\n",
      "         Current function value: 0.002156\n",
      "         Iterations: 85\n",
      "         Function evaluations: 94\n",
      "         Gradient evaluations: 94\n"
     ]
    }
   ],
   "source": [
    "T.train(X,y,testX,testY)"
   ]
  },
  {
   "cell_type": "code",
   "execution_count": 36,
   "metadata": {},
   "outputs": [
    {
     "data": {
      "image/png": "[encoded data removed]",
      "text/plain": [
       "<Figure size 432x288 with 1 Axes>"
      ]
     },
     "metadata": {
      "needs_background": "light"
     },
     "output_type": "display_data"
    }
   ],
   "source": [
    "plot.plot(T.J)\n",
    "plot.plot(T.testJ)\n",
    "plot.grid(1)\n",
    "plot.xlabel('Iterations')\n",
    "plot.ylabel('Cost')\n",
    "plot.legend(['Training', 'Testing'])\n",
    "plot.show()"
   ]
  },
  {
   "cell_type": "code",
   "execution_count": 37,
   "metadata": {},
   "outputs": [
    {
     "data": {
      "text/plain": [
       "[array([0.05131557]),\n",
       " array([0.00577321]),\n",
       " array([0.00332663]),\n",
       " array([0.00331952]),\n",
       " array([0.00330918]),\n",
       " array([0.0032905]),\n",
       " array([0.00325572]),\n",
       " array([0.00319]),\n",
       " array([0.00257798]),\n",
       " array([0.00236946]),\n",
       " array([0.00235394]),\n",
       " array([0.00234497]),\n",
       " array([0.00233422]),\n",
       " array([0.00233325]),\n",
       " array([0.00233249]),\n",
       " array([0.00233109]),\n",
       " array([0.00232844]),\n",
       " array([0.00232349]),\n",
       " array([0.0023144]),\n",
       " array([0.00229832]),\n",
       " array([0.00227159]),\n",
       " array([0.00223613]),\n",
       " array([0.00223106]),\n",
       " array([0.00222924]),\n",
       " array([0.00222882]),\n",
       " array([0.00222813]),\n",
       " array([0.00222772]),\n",
       " array([0.00222749]),\n",
       " array([0.00222545]),\n",
       " array([0.00222194]),\n",
       " array([0.0022162]),\n",
       " array([0.00220859]),\n",
       " array([0.00219905]),\n",
       " array([0.00218916]),\n",
       " array([0.00218649]),\n",
       " array([0.00218422]),\n",
       " array([0.00218242]),\n",
       " array([0.00218158]),\n",
       " array([0.00218122]),\n",
       " array([0.00218104]),\n",
       " array([0.00218101]),\n",
       " array([0.00218098]),\n",
       " array([0.00218096]),\n",
       " array([0.00218094]),\n",
       " array([0.0021809]),\n",
       " array([0.00218083]),\n",
       " array([0.0021807]),\n",
       " array([0.00218045]),\n",
       " array([0.00218]),\n",
       " array([0.00217919]),\n",
       " array([0.00217784]),\n",
       " array([0.00217578]),\n",
       " array([0.00217391]),\n",
       " array([0.00217271]),\n",
       " array([0.00217112]),\n",
       " array([0.00216806]),\n",
       " array([0.00216291]),\n",
       " array([0.00216165]),\n",
       " array([0.00216075]),\n",
       " array([0.00216006]),\n",
       " array([0.00215948]),\n",
       " array([0.00215928]),\n",
       " array([0.00215921]),\n",
       " array([0.0021592]),\n",
       " array([0.00215918]),\n",
       " array([0.00215917]),\n",
       " array([0.00215917]),\n",
       " array([0.00215917]),\n",
       " array([0.00215916]),\n",
       " array([0.00215916]),\n",
       " array([0.00215914]),\n",
       " array([0.00215912]),\n",
       " array([0.00215907]),\n",
       " array([0.002159]),\n",
       " array([0.00215887]),\n",
       " array([0.00215866]),\n",
       " array([0.00215833]),\n",
       " array([0.0021578]),\n",
       " array([0.00215697]),\n",
       " array([0.00215631]),\n",
       " array([0.00215621]),\n",
       " array([0.00215619]),\n",
       " array([0.00215619]),\n",
       " array([0.00215619]),\n",
       " array([0.00215618])]"
      ]
     },
     "execution_count": 37,
     "metadata": {},
     "output_type": "execute_result"
    }
   ],
   "source": [
    "T.J"
   ]
  },
  {
   "cell_type": "code",
   "execution_count": 38,
   "metadata": {},
   "outputs": [
    {
     "data": {
      "text/plain": [
       "[array([0.06928996]),\n",
       " array([0.00336182]),\n",
       " array([0.00145067]),\n",
       " array([0.00150346]),\n",
       " array([0.00155551]),\n",
       " array([0.00160761]),\n",
       " array([0.00166347]),\n",
       " array([0.00172233]),\n",
       " array([0.00151718]),\n",
       " array([0.0012608]),\n",
       " array([0.00124361]),\n",
       " array([0.0012602]),\n",
       " array([0.0012974]),\n",
       " array([0.00130755]),\n",
       " array([0.00131258]),\n",
       " array([0.00131713]),\n",
       " array([0.00132176]),\n",
       " array([0.00132644]),\n",
       " array([0.00133017]),\n",
       " array([0.0013292]),\n",
       " array([0.00131091]),\n",
       " array([0.00123689]),\n",
       " array([0.00118768]),\n",
       " array([0.00119749]),\n",
       " array([0.00119602]),\n",
       " array([0.00119484]),\n",
       " array([0.00119415]),\n",
       " array([0.00119256]),\n",
       " array([0.00118507]),\n",
       " array([0.00117654]),\n",
       " array([0.0011664]),\n",
       " array([0.00115659]),\n",
       " array([0.0011669]),\n",
       " array([0.00119492]),\n",
       " array([0.00120638]),\n",
       " array([0.00121313]),\n",
       " array([0.00122188]),\n",
       " array([0.0012167]),\n",
       " array([0.00121404]),\n",
       " array([0.00121456]),\n",
       " array([0.0012147]),\n",
       " array([0.00121612]),\n",
       " array([0.00121748]),\n",
       " array([0.00121869]),\n",
       " array([0.0012199]),\n",
       " array([0.00122125]),\n",
       " array([0.00122291]),\n",
       " array([0.00122506]),\n",
       " array([0.00122789]),\n",
       " array([0.00123151]),\n",
       " array([0.0012358]),\n",
       " array([0.00124044]),\n",
       " array([0.00124106]),\n",
       " array([0.00124667]),\n",
       " array([0.00123606]),\n",
       " array([0.0012247]),\n",
       " array([0.00119732]),\n",
       " array([0.0011836]),\n",
       " array([0.00117892]),\n",
       " array([0.00118078]),\n",
       " array([0.0011783]),\n",
       " array([0.00118739]),\n",
       " array([0.00118399]),\n",
       " array([0.001183]),\n",
       " array([0.0011818]),\n",
       " array([0.00118174]),\n",
       " array([0.00118182]),\n",
       " array([0.00118192]),\n",
       " array([0.00118203]),\n",
       " array([0.00118216]),\n",
       " array([0.00118234]),\n",
       " array([0.00118259]),\n",
       " array([0.00118296]),\n",
       " array([0.0011835]),\n",
       " array([0.00118431]),\n",
       " array([0.00118547]),\n",
       " array([0.00118688]),\n",
       " array([0.00118808]),\n",
       " array([0.00118832]),\n",
       " array([0.00118528]),\n",
       " array([0.00118471]),\n",
       " array([0.00118406]),\n",
       " array([0.00118523]),\n",
       " array([0.00118495]),\n",
       " array([0.00118493])]"
      ]
     },
     "execution_count": 38,
     "metadata": {},
     "output_type": "execute_result"
    }
   ],
   "source": [
    "T.testJ"
   ]
  },
  {
   "cell_type": "code",
   "execution_count": 39,
   "metadata": {},
   "outputs": [
    {
     "data": {
      "text/plain": [
       "0.0012547615418396858"
      ]
     },
     "execution_count": 39,
     "metadata": {},
     "output_type": "execute_result"
    }
   ],
   "source": [
    "from sklearn.metrics import mean_absolute_error\n",
    "mean_absolute_error(T.J, T.testJ)"
   ]
  },
  {
   "cell_type": "code",
   "execution_count": 40,
   "metadata": {},
   "outputs": [],
   "source": [
    "yHat=NN.forward(X)"
   ]
  },
  {
   "cell_type": "code",
   "execution_count": 41,
   "metadata": {},
   "outputs": [
    {
     "data": {
      "text/plain": [
       "array([[0.17088688],\n",
       "       [0.11172827],\n",
       "       [0.19665087],\n",
       "       [0.24362632],\n",
       "       [0.25915091],\n",
       "       [0.39131663],\n",
       "       [0.53962672],\n",
       "       [0.3516167 ],\n",
       "       [0.3558257 ],\n",
       "       [0.40730623],\n",
       "       [0.40623585],\n",
       "       [0.28913562],\n",
       "       [0.19939357],\n",
       "       [0.2059522 ],\n",
       "       [0.28318926],\n",
       "       [0.24701674],\n",
       "       [0.17210627],\n",
       "       [0.20157456],\n",
       "       [0.17670447],\n",
       "       [0.14376617],\n",
       "       [0.25806664],\n",
       "       [0.27058943],\n",
       "       [0.25149984],\n",
       "       [0.25073599],\n",
       "       [0.25212926],\n",
       "       [0.23785892],\n",
       "       [0.24615958],\n",
       "       [0.23556327],\n",
       "       [0.25266206],\n",
       "       [0.24948393],\n",
       "       [0.23853175],\n",
       "       [0.31464569],\n",
       "       [0.30230786],\n",
       "       [0.31624406],\n",
       "       [0.25528577],\n",
       "       [0.3358884 ],\n",
       "       [0.37447251],\n",
       "       [0.38358468],\n",
       "       [0.45913713],\n",
       "       [0.44131036],\n",
       "       [0.54459035],\n",
       "       [0.56317571],\n",
       "       [0.62732994],\n",
       "       [0.67471706],\n",
       "       [0.57574699],\n",
       "       [0.55254498],\n",
       "       [0.47042708],\n",
       "       [0.44759048],\n",
       "       [0.49582279],\n",
       "       [0.46773841],\n",
       "       [0.53740926],\n",
       "       [0.48381033],\n",
       "       [0.44538048],\n",
       "       [0.50441738],\n",
       "       [0.45780235],\n",
       "       [0.46881692],\n",
       "       [0.45294022],\n",
       "       [0.44092396],\n",
       "       [0.35696307]])"
      ]
     },
     "execution_count": 41,
     "metadata": {},
     "output_type": "execute_result"
    }
   ],
   "source": [
    "yHat"
   ]
  },
  {
   "cell_type": "code",
   "execution_count": 42,
   "metadata": {},
   "outputs": [
    {
     "data": {
      "text/plain": [
       "array([[0.11211342],\n",
       "       [0.17073406],\n",
       "       [0.2232566 ],\n",
       "       [0.24197469],\n",
       "       [0.36573346],\n",
       "       [0.55255899],\n",
       "       [0.37002352],\n",
       "       [0.3325317 ],\n",
       "       [0.38788752],\n",
       "       [0.39836394],\n",
       "       [0.2848263 ],\n",
       "       [0.18673502],\n",
       "       [0.18269477],\n",
       "       [0.255617  ],\n",
       "       [0.23597043],\n",
       "       [0.16413413],\n",
       "       [0.17817663],\n",
       "       [0.1639561 ],\n",
       "       [0.13324148],\n",
       "       [0.22639902],\n",
       "       [0.25501386],\n",
       "       [0.23708614],\n",
       "       [0.23165112],\n",
       "       [0.23306761],\n",
       "       [0.22117372],\n",
       "       [0.22633168],\n",
       "       [0.21869864],\n",
       "       [0.2320322 ],\n",
       "       [0.23194795],\n",
       "       [0.22154782],\n",
       "       [0.28795858],\n",
       "       [0.28837327],\n",
       "       [0.29714576],\n",
       "       [0.24366982],\n",
       "       [0.30743731],\n",
       "       [0.35859786],\n",
       "       [0.37218122],\n",
       "       [0.45025948],\n",
       "       [0.44309563],\n",
       "       [0.55815598],\n",
       "       [0.60235983],\n",
       "       [0.69629172],\n",
       "       [0.79060467],\n",
       "       [0.64402223],\n",
       "       [0.58322864],\n",
       "       [0.48171501],\n",
       "       [0.44281211],\n",
       "       [0.49627058],\n",
       "       [0.47546339],\n",
       "       [0.55155979],\n",
       "       [0.50099435],\n",
       "       [0.44545859],\n",
       "       [0.50571167],\n",
       "       [0.46588904],\n",
       "       [0.46785659],\n",
       "       [0.45300142],\n",
       "       [0.43741172],\n",
       "       [0.3506737 ],\n",
       "       [0.36403131]])"
      ]
     },
     "execution_count": 42,
     "metadata": {},
     "output_type": "execute_result"
    }
   ],
   "source": [
    "y"
   ]
  },
  {
   "cell_type": "code",
   "execution_count": 43,
   "metadata": {},
   "outputs": [
    {
     "data": {
      "text/plain": [
       "0.004041081351468866"
      ]
     },
     "execution_count": 43,
     "metadata": {},
     "output_type": "execute_result"
    }
   ],
   "source": [
    "from sklearn.metrics import mean_squared_error \n",
    "mean_squared_error(y,yHat) "
   ]
  },
  {
   "cell_type": "code",
   "execution_count": 44,
   "metadata": {},
   "outputs": [
    {
     "data": {
      "image/png": "[encoded data removed]",
      "text/plain": [
       "<Figure size 432x288 with 1 Axes>"
      ]
     },
     "metadata": {
      "needs_background": "light"
     },
     "output_type": "display_data"
    }
   ],
   "source": [
    "#Plot cost during training:\n",
    "plot.plot(y)\n",
    "plot.plot(yHat)\n",
    "plot.grid(1)\n",
    "plot.legend(['y', 'yHat'])\n",
    "plot.show()"
   ]
  },
  {
   "cell_type": "code",
   "execution_count": 45,
   "metadata": {},
   "outputs": [],
   "source": [
    "prediksi=NN.forward(dataprediksi)"
   ]
  },
  {
   "cell_type": "code",
   "execution_count": 46,
   "metadata": {},
   "outputs": [
    {
     "data": {
      "text/plain": [
       "array([[0.38462832],\n",
       "       [0.69622146],\n",
       "       [0.75379706],\n",
       "       [0.59910841]])"
      ]
     },
     "execution_count": 46,
     "metadata": {},
     "output_type": "execute_result"
    }
   ],
   "source": [
    "prediksi"
   ]
  },
  {
   "cell_type": "code",
   "execution_count": 47,
   "metadata": {},
   "outputs": [],
   "source": [
    "from sklearn.metrics import mean_squared_error "
   ]
  },
  {
   "cell_type": "code",
   "execution_count": 48,
   "metadata": {},
   "outputs": [
    {
     "data": {
      "text/plain": [
       "0.06866571969437557"
      ]
     },
     "execution_count": 48,
     "metadata": {},
     "output_type": "execute_result"
    }
   ],
   "source": [
    "Y_true= ([\t0.795380412\t]\t,\n",
    "[\t1\t]\t,\n",
    "[\t0.707681705\t]\t,\n",
    "[\t0.491695324\t]\t,\n",
    "\t)\n",
    "\n",
    "\n",
    "Y_pred=prediksi\n",
    "mean_squared_error(Y_true,Y_pred) "
   ]
  },
  {
   "cell_type": "code",
   "execution_count": 49,
   "metadata": {},
   "outputs": [
    {
     "data": {
      "text/plain": [
       "array([[0.43741172, 0.3506737 , 0.36403131],\n",
       "       [0.3506737 , 0.36403131, 0.79538041],\n",
       "       [0.36403131, 0.79538041, 1.        ],\n",
       "       [0.79538041, 1.        , 0.70768171]])"
      ]
     },
     "execution_count": 49,
     "metadata": {},
     "output_type": "execute_result"
    }
   ],
   "source": [
    "dataprediksi"
   ]
  },
  {
   "cell_type": "code",
   "execution_count": 50,
   "metadata": {},
   "outputs": [],
   "source": [
    "a=np.array([\t1\t,\t0.707681705\t,\t0.491695324\t])"
   ]
  },
  {
   "cell_type": "code",
   "execution_count": 51,
   "metadata": {},
   "outputs": [
    {
     "data": {
      "text/plain": [
       "array([0.4757923])"
      ]
     },
     "execution_count": 51,
     "metadata": {},
     "output_type": "execute_result"
    }
   ],
   "source": [
    "#prediksi 1\n",
    "prediksi=NN.forward(a)\n",
    "prediksi"
   ]
  },
  {
   "cell_type": "code",
   "execution_count": 52,
   "metadata": {},
   "outputs": [
    {
     "data": {
      "text/plain": [
       "array([0.48192627])"
      ]
     },
     "execution_count": 52,
     "metadata": {},
     "output_type": "execute_result"
    }
   ],
   "source": [
    "#prediksi 2\n",
    "c=prediksi\n",
    "b=a[1:]\n",
    "d=np.concatenate((b,c))\n",
    "prediksi=NN.forward(d)\n",
    "prediksi"
   ]
  },
  {
   "cell_type": "code",
   "execution_count": 53,
   "metadata": {},
   "outputs": [
    {
     "data": {
      "text/plain": [
       "array([0.47909829])"
      ]
     },
     "execution_count": 53,
     "metadata": {},
     "output_type": "execute_result"
    }
   ],
   "source": [
    "#prediksi 3\n",
    "c=prediksi\n",
    "b=d[1:]\n",
    "e=np.concatenate((b,c))\n",
    "prediksi=NN.forward(e)\n",
    "prediksi"
   ]
  },
  {
   "cell_type": "code",
   "execution_count": 54,
   "metadata": {},
   "outputs": [
    {
     "data": {
      "text/plain": [
       "array([0.47486545])"
      ]
     },
     "execution_count": 54,
     "metadata": {},
     "output_type": "execute_result"
    }
   ],
   "source": [
    "#prediksi 4\n",
    "c=prediksi\n",
    "b=e[1:]\n",
    "f=np.concatenate((b,c))\n",
    "prediksi=NN.forward(f)\n",
    "prediksi"
   ]
  },
  {
   "cell_type": "code",
   "execution_count": 55,
   "metadata": {},
   "outputs": [
    {
     "data": {
      "text/plain": [
       "array([0.4718493])"
      ]
     },
     "execution_count": 55,
     "metadata": {},
     "output_type": "execute_result"
    }
   ],
   "source": [
    "#prediksi 5\n",
    "c=prediksi\n",
    "b=f[1:]\n",
    "g=np.concatenate((b,c))\n",
    "prediksi=NN.forward(g)\n",
    "prediksi"
   ]
  },
  {
   "cell_type": "code",
   "execution_count": 56,
   "metadata": {},
   "outputs": [
    {
     "data": {
      "text/plain": [
       "array([0.46964525])"
      ]
     },
     "execution_count": 56,
     "metadata": {},
     "output_type": "execute_result"
    }
   ],
   "source": [
    "#prediksi 6\n",
    "c=prediksi\n",
    "b=g[1:]\n",
    "h=np.concatenate((b,c))\n",
    "prediksi=NN.forward(h)\n",
    "prediksi"
   ]
  },
  {
   "cell_type": "code",
   "execution_count": 57,
   "metadata": {},
   "outputs": [
    {
     "data": {
      "text/plain": [
       "array([0.46767261])"
      ]
     },
     "execution_count": 57,
     "metadata": {},
     "output_type": "execute_result"
    }
   ],
   "source": [
    "#prediksi 7\n",
    "c=prediksi\n",
    "b=g[1:]\n",
    "i=np.concatenate((b,c))\n",
    "prediksi=NN.forward(i)\n",
    "prediksi"
   ]
  },
  {
   "cell_type": "code",
   "execution_count": 58,
   "metadata": {},
   "outputs": [
    {
     "data": {
      "text/plain": [
       "array([0.46590166])"
      ]
     },
     "execution_count": 58,
     "metadata": {},
     "output_type": "execute_result"
    }
   ],
   "source": [
    "#prediksi 8\n",
    "c=prediksi\n",
    "b=g[1:]\n",
    "j=np.concatenate((b,c))\n",
    "prediksi=NN.forward(j)\n",
    "prediksi"
   ]
  },
  {
   "cell_type": "code",
   "execution_count": 59,
   "metadata": {},
   "outputs": [
    {
     "data": {
      "text/plain": [
       "array([0.46430742])"
      ]
     },
     "execution_count": 59,
     "metadata": {},
     "output_type": "execute_result"
    }
   ],
   "source": [
    "#prediksi 9\n",
    "c=prediksi\n",
    "b=g[1:]\n",
    "k=np.concatenate((b,c))\n",
    "prediksi=NN.forward(k)\n",
    "prediksi"
   ]
  },
  {
   "cell_type": "code",
   "execution_count": 60,
   "metadata": {},
   "outputs": [
    {
     "data": {
      "text/plain": [
       "array([0.46286873])"
      ]
     },
     "execution_count": 60,
     "metadata": {},
     "output_type": "execute_result"
    }
   ],
   "source": [
    "#prediksi 10\n",
    "c=prediksi\n",
    "b=g[1:]\n",
    "l=np.concatenate((b,c))\n",
    "prediksi=NN.forward(l)\n",
    "prediksi"
   ]
  },
  {
   "cell_type": "code",
   "execution_count": 61,
   "metadata": {},
   "outputs": [
    {
     "data": {
      "text/plain": [
       "array([0.46156755])"
      ]
     },
     "execution_count": 61,
     "metadata": {},
     "output_type": "execute_result"
    }
   ],
   "source": [
    "#prediksi 11\n",
    "c=prediksi\n",
    "b=g[1:]\n",
    "m=np.concatenate((b,c))\n",
    "prediksi=NN.forward(m)\n",
    "prediksi"
   ]
  },
  {
   "cell_type": "code",
   "execution_count": 62,
   "metadata": {},
   "outputs": [
    {
     "data": {
      "text/plain": [
       "array([0.4603884])"
      ]
     },
     "execution_count": 62,
     "metadata": {},
     "output_type": "execute_result"
    }
   ],
   "source": [
    "#prediksi 12\n",
    "c=prediksi\n",
    "b=g[1:]\n",
    "n=np.concatenate((b,c))\n",
    "prediksi=NN.forward(n)\n",
    "prediksi"
   ]
  },
  {
   "cell_type": "code",
   "execution_count": null,
   "metadata": {},
   "outputs": [],
   "source": []
  }
 ],
 "metadata": {
  "kernelspec": {
   "display_name": "Python 3",
   "language": "python",
   "name": "python3"
  },
  "language_info": {
   "codemirror_mode": {
    "name": "ipython",
    "version": 3
   },
   "file_extension": ".py",
   "mimetype": "text/x-python",
   "name": "python",
   "nbconvert_exporter": "python",
   "pygments_lexer": "ipython3",
   "version": "3.7.3"
  }
 },
 "nbformat": 4,
 "nbformat_minor": 2
}
