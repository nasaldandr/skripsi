{
 "cells": [
  {
   "cell_type": "code",
   "execution_count": 1,
   "metadata": {},
   "outputs": [
    {
     "name": "stdout",
     "output_type": "stream",
     "text": [
      "Warning: Maximum number of iterations has been exceeded.\n",
      "         Current function value: 0.084975\n",
      "         Iterations: 100\n",
      "         Function evaluations: 104\n",
      "         Gradient evaluations: 104\n"
     ]
    },
    {
     "data": {
      "text/plain": [
       "<Figure size 640x480 with 1 Axes>"
      ]
     },
     "metadata": {},
     "output_type": "display_data"
    },
    {
     "name": "stdout",
     "output_type": "stream",
     "text": [
      "Warning: Maximum number of iterations has been exceeded.\n",
      "         Current function value: 0.076535\n",
      "         Iterations: 100\n",
      "         Function evaluations: 108\n",
      "         Gradient evaluations: 108\n"
     ]
    },
    {
     "data": {
      "text/plain": [
       "<Figure size 640x480 with 1 Axes>"
      ]
     },
     "metadata": {},
     "output_type": "display_data"
    },
    {
     "data": {
      "text/plain": [
       "<Figure size 640x480 with 1 Axes>"
      ]
     },
     "metadata": {},
     "output_type": "display_data"
    }
   ],
   "source": [
    "#Import code from last time\n",
    "%run k3-4.ipynb"
   ]
  },
  {
   "cell_type": "code",
   "execution_count": 2,
   "metadata": {},
   "outputs": [
    {
     "data": {
      "text/plain": [
       "array([[0.64402223, 0.58322864, 0.48171501],\n",
       "       [0.58322864, 0.48171501, 0.44281211],\n",
       "       [0.48171501, 0.44281211, 0.49627058],\n",
       "       [0.44281211, 0.49627058, 0.47546339],\n",
       "       [0.49627058, 0.47546339, 0.55155979],\n",
       "       [0.47546339, 0.55155979, 0.50099435],\n",
       "       [0.55155979, 0.50099435, 0.44545859],\n",
       "       [0.50099435, 0.44545859, 0.50571167],\n",
       "       [0.44545859, 0.50571167, 0.46588904],\n",
       "       [0.50571167, 0.46588904, 0.46785659],\n",
       "       [0.46588904, 0.46785659, 0.45300142],\n",
       "       [0.46785659, 0.45300142, 0.43741172],\n",
       "       [0.45300142, 0.43741172, 0.3506737 ]])"
      ]
     },
     "execution_count": 2,
     "metadata": {},
     "output_type": "execute_result"
    }
   ],
   "source": [
    "testX"
   ]
  },
  {
   "cell_type": "code",
   "execution_count": 3,
   "metadata": {},
   "outputs": [
    {
     "data": {
      "text/plain": [
       "array([[0.44281211],\n",
       "       [0.49627058],\n",
       "       [0.47546339],\n",
       "       [0.55155979],\n",
       "       [0.50099435],\n",
       "       [0.44545859],\n",
       "       [0.50571167],\n",
       "       [0.46588904],\n",
       "       [0.46785659],\n",
       "       [0.45300142],\n",
       "       [0.43741172],\n",
       "       [0.3506737 ],\n",
       "       [0.36403131]])"
      ]
     },
     "execution_count": 3,
     "metadata": {},
     "output_type": "execute_result"
    }
   ],
   "source": [
    "testY"
   ]
  },
  {
   "cell_type": "code",
   "execution_count": 4,
   "metadata": {},
   "outputs": [
    {
     "data": {
      "text/plain": [
       "array([[0.        , 0.051925  , 0.14831904],\n",
       "       [0.051925  , 0.14831904, 0.11211342],\n",
       "       [0.14831904, 0.11211342, 0.17073406],\n",
       "       [0.11211342, 0.17073406, 0.2232566 ],\n",
       "       [0.17073406, 0.2232566 , 0.24197469],\n",
       "       [0.2232566 , 0.24197469, 0.36573346],\n",
       "       [0.24197469, 0.36573346, 0.55255899],\n",
       "       [0.36573346, 0.55255899, 0.37002352],\n",
       "       [0.55255899, 0.37002352, 0.3325317 ],\n",
       "       [0.37002352, 0.3325317 , 0.38788752],\n",
       "       [0.3325317 , 0.38788752, 0.39836394],\n",
       "       [0.38788752, 0.39836394, 0.2848263 ],\n",
       "       [0.39836394, 0.2848263 , 0.18673502],\n",
       "       [0.2848263 , 0.18673502, 0.18269477],\n",
       "       [0.18673502, 0.18269477, 0.255617  ],\n",
       "       [0.18269477, 0.255617  , 0.23597043],\n",
       "       [0.255617  , 0.23597043, 0.16413413],\n",
       "       [0.23597043, 0.16413413, 0.17817663],\n",
       "       [0.16413413, 0.17817663, 0.1639561 ],\n",
       "       [0.17817663, 0.1639561 , 0.13324148],\n",
       "       [0.1639561 , 0.13324148, 0.22639902],\n",
       "       [0.13324148, 0.22639902, 0.25501386],\n",
       "       [0.22639902, 0.25501386, 0.23708614],\n",
       "       [0.25501386, 0.23708614, 0.23165112],\n",
       "       [0.23708614, 0.23165112, 0.23306761],\n",
       "       [0.23165112, 0.23306761, 0.22117372],\n",
       "       [0.23306761, 0.22117372, 0.22633168],\n",
       "       [0.22117372, 0.22633168, 0.21869864],\n",
       "       [0.22633168, 0.21869864, 0.2320322 ],\n",
       "       [0.21869864, 0.2320322 , 0.23194795],\n",
       "       [0.2320322 , 0.23194795, 0.22154782],\n",
       "       [0.23194795, 0.22154782, 0.28795858],\n",
       "       [0.22154782, 0.28795858, 0.28837327],\n",
       "       [0.28795858, 0.28837327, 0.29714576],\n",
       "       [0.28837327, 0.29714576, 0.24366982],\n",
       "       [0.29714576, 0.24366982, 0.30743731],\n",
       "       [0.24366982, 0.30743731, 0.35859786],\n",
       "       [0.30743731, 0.35859786, 0.37218122],\n",
       "       [0.35859786, 0.37218122, 0.45025948],\n",
       "       [0.37218122, 0.45025948, 0.44309563],\n",
       "       [0.45025948, 0.44309563, 0.55815598],\n",
       "       [0.44309563, 0.55815598, 0.60235983],\n",
       "       [0.55815598, 0.60235983, 0.69629172],\n",
       "       [0.60235983, 0.69629172, 0.79060467],\n",
       "       [0.69629172, 0.79060467, 0.64402223],\n",
       "       [0.79060467, 0.64402223, 0.58322864]])"
      ]
     },
     "execution_count": 4,
     "metadata": {},
     "output_type": "execute_result"
    }
   ],
   "source": [
    "trainX"
   ]
  },
  {
   "cell_type": "code",
   "execution_count": 5,
   "metadata": {},
   "outputs": [
    {
     "data": {
      "text/plain": [
       "array([[0.11211342],\n",
       "       [0.17073406],\n",
       "       [0.2232566 ],\n",
       "       [0.24197469],\n",
       "       [0.36573346],\n",
       "       [0.55255899],\n",
       "       [0.37002352],\n",
       "       [0.3325317 ],\n",
       "       [0.38788752],\n",
       "       [0.39836394],\n",
       "       [0.2848263 ],\n",
       "       [0.18673502],\n",
       "       [0.18269477],\n",
       "       [0.255617  ],\n",
       "       [0.23597043],\n",
       "       [0.16413413],\n",
       "       [0.17817663],\n",
       "       [0.1639561 ],\n",
       "       [0.13324148],\n",
       "       [0.22639902],\n",
       "       [0.25501386],\n",
       "       [0.23708614],\n",
       "       [0.23165112],\n",
       "       [0.23306761],\n",
       "       [0.22117372],\n",
       "       [0.22633168],\n",
       "       [0.21869864],\n",
       "       [0.2320322 ],\n",
       "       [0.23194795],\n",
       "       [0.22154782],\n",
       "       [0.28795858],\n",
       "       [0.28837327],\n",
       "       [0.29714576],\n",
       "       [0.24366982],\n",
       "       [0.30743731],\n",
       "       [0.35859786],\n",
       "       [0.37218122],\n",
       "       [0.45025948],\n",
       "       [0.44309563],\n",
       "       [0.55815598],\n",
       "       [0.60235983],\n",
       "       [0.69629172],\n",
       "       [0.79060467],\n",
       "       [0.64402223],\n",
       "       [0.58322864],\n",
       "       [0.48171501]])"
      ]
     },
     "execution_count": 5,
     "metadata": {},
     "output_type": "execute_result"
    }
   ],
   "source": [
    "trainY"
   ]
  },
  {
   "cell_type": "code",
   "execution_count": 6,
   "metadata": {},
   "outputs": [],
   "source": [
    "#Regularization Parameter:\n",
    "Lambda = 0.0001"
   ]
  },
  {
   "cell_type": "code",
   "execution_count": 7,
   "metadata": {},
   "outputs": [],
   "source": [
    "#Need to make changes to costFunction and costFunctionPrim:\n",
    "def costFunction(self, X, y):\n",
    "    #Compute cost for given X,y, use weights already stored in class.\n",
    "    self.yHat = self.forward(X)\n",
    "    #We don't want cost to increase with the number of examples, so normalize by dividing the error term by number of examples(X.shape[0])\n",
    "    J = 0.5*sum((y-self.yHat)**2)/X.shape[0] + (self.Lambda/2)*(sum(self.W1**2)+sum(self.W2**2))\n",
    "    return J\n",
    "\n",
    "def costFunctionPrime(self, X, y):\n",
    "    #Compute derivative with respect to W and W2 for a given X and y:\n",
    "    self.yHat = self.forward(X)\n",
    "\n",
    "    delta3 = np.multiply(-(y-self.yHat), self.sigmoidPrime(self.z3))\n",
    "    #Add gradient of regularization term:\n",
    "    dJdW2 = np.dot(self.a2.T, delta3)/X.shape[0] + self.Lambda*self.W2\n",
    "\n",
    "    delta2 = np.dot(delta3, self.W2.T)*self.sigmoidPrime(self.z2)\n",
    "    #Add gradient of regularization term:\n",
    "    dJdW1 = np.dot(X.T, delta2)/X.shape[0] + self.Lambda*self.W1\n",
    "\n",
    "    return dJdW1, dJdW2"
   ]
  },
  {
   "cell_type": "code",
   "execution_count": 8,
   "metadata": {},
   "outputs": [],
   "source": [
    "#New complete class, with changes:\n",
    "class Neural_Network(object):\n",
    "    def __init__(self, Lambda=0.0001):        \n",
    "        #Define Hyperparameters\n",
    "        self.inputLayerSize = 3\n",
    "        self.outputLayerSize = 1\n",
    "        self.hiddenLayerSize = 4\n",
    "        \n",
    "        #Weights (parameters)\n",
    "        self.W1 = np.random.randn(self.inputLayerSize,self.hiddenLayerSize)\n",
    "        self.W2 = np.random.randn(self.hiddenLayerSize,self.outputLayerSize)\n",
    "        \n",
    "        #Regularization Parameter:\n",
    "        self.Lambda = Lambda\n",
    "        \n",
    "    def forward(self, X):\n",
    "        #Propogate inputs though network\n",
    "        self.z2 = np.dot(X, self.W1)\n",
    "        self.a2 = self.sigmoid(self.z2)\n",
    "        self.z3 = np.dot(self.a2, self.W2)\n",
    "        yHat = self.sigmoid(self.z3) \n",
    "        return yHat\n",
    "        \n",
    "    def sigmoid(self, z):\n",
    "        #Apply sigmoid activation function to scalar, vector, or matrix\n",
    "        return 1/(1+np.exp(-z))\n",
    "    \n",
    "    def sigmoidPrime(self,z):\n",
    "        #Gradient of sigmoid\n",
    "        return np.exp(-z)/((1+np.exp(-z))**2)\n",
    "    \n",
    "    def costFunction(self, X, y):\n",
    "        #Compute cost for given X,y, use weights already stored in class.\n",
    "        self.yHat = self.forward(X)\n",
    "        J = 0.5*sum((y-self.yHat)**2)/X.shape[0] + (self.Lambda/2)*(np.sum(self.W1**2)+np.sum(self.W2**2))\n",
    "        return J\n",
    "        \n",
    "    def costFunctionPrime(self, X, y):\n",
    "        #Compute derivative with respect to W and W2 for a given X and y:\n",
    "        self.yHat = self.forward(X)\n",
    "        \n",
    "        delta3 = np.multiply(-(y-self.yHat), self.sigmoidPrime(self.z3))\n",
    "        #Add gradient of regularization term:\n",
    "        dJdW2 = np.dot(self.a2.T, delta3)/X.shape[0] + self.Lambda*self.W2\n",
    "        \n",
    "        delta2 = np.dot(delta3, self.W2.T)*self.sigmoidPrime(self.z2)\n",
    "        #Add gradient of regularization term:\n",
    "        dJdW1 = np.dot(X.T, delta2)/X.shape[0] + self.Lambda*self.W1\n",
    "        \n",
    "        return dJdW1, dJdW2\n",
    "    \n",
    "    def predict(self):\n",
    "        prediksi = self.forward(dataprediksi)\n",
    "        return prediksi\n",
    "    \n",
    "    #Helper functions for interacting with other methods/classes\n",
    "    def getParams(self):\n",
    "        #Get W1 and W2 Rolled into vector:\n",
    "        params = np.concatenate((self.W1.ravel(), self.W2.ravel()))\n",
    "        return params\n",
    "    \n",
    "    def setParams(self, params):\n",
    "        #Set W1 and W2 using single parameter vector:\n",
    "        W1_start = 0\n",
    "        W1_end = self.hiddenLayerSize*self.inputLayerSize\n",
    "        self.W1 = np.reshape(params[W1_start:W1_end], \\\n",
    "                             (self.inputLayerSize, self.hiddenLayerSize))\n",
    "        W2_end = W1_end + self.hiddenLayerSize*self.outputLayerSize\n",
    "        self.W2 = np.reshape(params[W1_end:W2_end], \\\n",
    "                             (self.hiddenLayerSize, self.outputLayerSize))\n",
    "        \n",
    "    def computeGradients(self, X, y):\n",
    "        dJdW1, dJdW2 = self.costFunctionPrime(X, y)\n",
    "        return np.concatenate((dJdW1.ravel(), dJdW2.ravel()))"
   ]
  },
  {
   "cell_type": "code",
   "execution_count": 9,
   "metadata": {},
   "outputs": [],
   "source": [
    "def computeNumericalGradient(N, X, y):\n",
    "    paramsInitial = N.getParams()\n",
    "    numgrad = np.zeros(paramsInitial.shape)\n",
    "    perturb = np.zeros(paramsInitial.shape)\n",
    "    e = 1e-4\n",
    "\n",
    "    for p in range(len(paramsInitial)):\n",
    "        #Set perturbation vector\n",
    "        perturb[p] = e\n",
    "        N.setParams(paramsInitial + perturb)\n",
    "        loss2 = N.costFunction(X, y)\n",
    "            \n",
    "        N.setParams(paramsInitial - perturb)\n",
    "        loss1 = N.costFunction(X, y)\n",
    "\n",
    "        #Compute Numerical Gradient\n",
    "        numgrad[p] = (loss2 - loss1) / (2*e)\n",
    "\n",
    "            #Return the value we changed to zero:\n",
    "        perturb[p] = 0\n",
    "            \n",
    "    #Return Params to original value:\n",
    "    N.setParams(paramsInitial)\n",
    "\n",
    "    return numgrad "
   ]
  },
  {
   "cell_type": "code",
   "execution_count": 10,
   "metadata": {},
   "outputs": [],
   "source": [
    "NN = Neural_Network(Lambda=0.0001)"
   ]
  },
  {
   "cell_type": "code",
   "execution_count": 11,
   "metadata": {},
   "outputs": [],
   "source": [
    "#Make sure our gradients our correct after making changes:\n",
    "numgrad = computeNumericalGradient(NN, X, y)\n",
    "grad = NN.computeGradients(X,y)"
   ]
  },
  {
   "cell_type": "code",
   "execution_count": 12,
   "metadata": {},
   "outputs": [
    {
     "data": {
      "text/plain": [
       "7.605694605499123e-11"
      ]
     },
     "execution_count": 12,
     "metadata": {},
     "output_type": "execute_result"
    }
   ],
   "source": [
    "#Should be less than 1e-8:\n",
    "np.linalg.norm(grad-numgrad)/np.linalg.norm(grad+numgrad)"
   ]
  },
  {
   "cell_type": "code",
   "execution_count": 13,
   "metadata": {},
   "outputs": [],
   "source": [
    "T = trainer(NN)"
   ]
  },
  {
   "cell_type": "code",
   "execution_count": 14,
   "metadata": {},
   "outputs": [
    {
     "name": "stdout",
     "output_type": "stream",
     "text": [
      "Warning: Maximum number of iterations has been exceeded.\n",
      "         Current function value: 0.003689\n",
      "         Iterations: 100\n",
      "         Function evaluations: 105\n",
      "         Gradient evaluations: 105\n"
     ]
    }
   ],
   "source": [
    "T.train(X,y,testX,testY)"
   ]
  },
  {
   "cell_type": "code",
   "execution_count": 15,
   "metadata": {},
   "outputs": [
    {
     "data": {
      "image/png": "[encoded data removed]",
      "text/plain": [
       "<Figure size 432x288 with 1 Axes>"
      ]
     },
     "metadata": {
      "needs_background": "light"
     },
     "output_type": "display_data"
    }
   ],
   "source": [
    "plot.plot(T.J)\n",
    "plot.plot(T.testJ)\n",
    "plot.grid(1)\n",
    "plot.xlabel('Iterations')\n",
    "plot.ylabel('Cost')\n",
    "plot.legend(['Training', 'Testing'])\n",
    "plot.show()"
   ]
  },
  {
   "cell_type": "code",
   "execution_count": 16,
   "metadata": {},
   "outputs": [
    {
     "data": {
      "text/plain": [
       "[array([0.01475118]),\n",
       " array([0.012307]),\n",
       " array([0.01227226]),\n",
       " array([0.01223364]),\n",
       " array([0.01216424]),\n",
       " array([0.01203574]),\n",
       " array([0.01179626]),\n",
       " array([0.01135321]),\n",
       " array([0.01055524]),\n",
       " array([0.00924481]),\n",
       " array([0.00788004]),\n",
       " array([0.00723415]),\n",
       " array([0.00614947]),\n",
       " array([0.00526493]),\n",
       " array([0.00521894]),\n",
       " array([0.00519409]),\n",
       " array([0.00519148]),\n",
       " array([0.00518702]),\n",
       " array([0.00517909]),\n",
       " array([0.00516476]),\n",
       " array([0.00513905]),\n",
       " array([0.00509417]),\n",
       " array([0.00502074]),\n",
       " array([0.00491117]),\n",
       " array([0.00474886]),\n",
       " array([0.00448151]),\n",
       " array([0.0044145]),\n",
       " array([0.00436773]),\n",
       " array([0.00430024]),\n",
       " array([0.00426668]),\n",
       " array([0.00424679]),\n",
       " array([0.00423256]),\n",
       " array([0.00423163]),\n",
       " array([0.00423103]),\n",
       " array([0.00423016]),\n",
       " array([0.00422856]),\n",
       " array([0.00422553]),\n",
       " array([0.00421976]),\n",
       " array([0.00420887]),\n",
       " array([0.00418862]),\n",
       " array([0.00415231]),\n",
       " array([0.00409413]),\n",
       " array([0.00403367]),\n",
       " array([0.00400255]),\n",
       " array([0.00394549]),\n",
       " array([0.00384439]),\n",
       " array([0.00382721]),\n",
       " array([0.00381626]),\n",
       " array([0.00381431]),\n",
       " array([0.00381413]),\n",
       " array([0.00381395]),\n",
       " array([0.00381372]),\n",
       " array([0.00381355]),\n",
       " array([0.00381347]),\n",
       " array([0.00381339]),\n",
       " array([0.00381327]),\n",
       " array([0.00381305]),\n",
       " array([0.00381264]),\n",
       " array([0.00381189]),\n",
       " array([0.0038105]),\n",
       " array([0.00380798]),\n",
       " array([0.00380355]),\n",
       " array([0.00379618]),\n",
       " array([0.00378491]),\n",
       " array([0.00377099]),\n",
       " array([0.00375215]),\n",
       " array([0.0037272]),\n",
       " array([0.00372125]),\n",
       " array([0.00372005]),\n",
       " array([0.00371978]),\n",
       " array([0.00371975]),\n",
       " array([0.00371974]),\n",
       " array([0.00371971]),\n",
       " array([0.00371968]),\n",
       " array([0.00371963]),\n",
       " array([0.00371953]),\n",
       " array([0.00371935]),\n",
       " array([0.00371901]),\n",
       " array([0.00371839]),\n",
       " array([0.00371725]),\n",
       " array([0.00371523]),\n",
       " array([0.00371184]),\n",
       " array([0.00370683]),\n",
       " array([0.00370304]),\n",
       " array([0.00370031]),\n",
       " array([0.00369647]),\n",
       " array([0.00369223]),\n",
       " array([0.00369093]),\n",
       " array([0.00369081]),\n",
       " array([0.0036908]),\n",
       " array([0.0036908]),\n",
       " array([0.00369079]),\n",
       " array([0.00369077]),\n",
       " array([0.00369075]),\n",
       " array([0.0036907]),\n",
       " array([0.0036906]),\n",
       " array([0.00369044]),\n",
       " array([0.00369017]),\n",
       " array([0.00368971]),\n",
       " array([0.00368896])]"
      ]
     },
     "execution_count": 16,
     "metadata": {},
     "output_type": "execute_result"
    }
   ],
   "source": [
    "T.J"
   ]
  },
  {
   "cell_type": "code",
   "execution_count": 17,
   "metadata": {},
   "outputs": [
    {
     "data": {
      "text/plain": [
       "[array([0.00249091]),\n",
       " array([0.00682477]),\n",
       " array([0.00735896]),\n",
       " array([0.0077705]),\n",
       " array([0.00816309]),\n",
       " array([0.00856771]),\n",
       " array([0.00899845]),\n",
       " array([0.00941365]),\n",
       " array([0.00962591]),\n",
       " array([0.00913435]),\n",
       " array([0.00750915]),\n",
       " array([0.00629857]),\n",
       " array([0.00428117]),\n",
       " array([0.00233762]),\n",
       " array([0.00236812]),\n",
       " array([0.0024143]),\n",
       " array([0.00241879]),\n",
       " array([0.00242462]),\n",
       " array([0.00243359]),\n",
       " array([0.00244834]),\n",
       " array([0.0024749]),\n",
       " array([0.00252728]),\n",
       " array([0.00263714]),\n",
       " array([0.00284412]),\n",
       " array([0.00295832]),\n",
       " array([0.00268919]),\n",
       " array([0.00252526]),\n",
       " array([0.00246003]),\n",
       " array([0.00240528]),\n",
       " array([0.00240601]),\n",
       " array([0.00241612]),\n",
       " array([0.00250307]),\n",
       " array([0.00249864]),\n",
       " array([0.00250847]),\n",
       " array([0.00252077]),\n",
       " array([0.00252856]),\n",
       " array([0.00253568]),\n",
       " array([0.00254359]),\n",
       " array([0.00255298]),\n",
       " array([0.0025636]),\n",
       " array([0.00257253]),\n",
       " array([0.00258012]),\n",
       " array([0.00263802]),\n",
       " array([0.00267288]),\n",
       " array([0.00267371]),\n",
       " array([0.00257927]),\n",
       " array([0.00253909]),\n",
       " array([0.00247533]),\n",
       " array([0.00245454]),\n",
       " array([0.00244983]),\n",
       " array([0.00244669]),\n",
       " array([0.00244394]),\n",
       " array([0.00244385]),\n",
       " array([0.00244543]),\n",
       " array([0.00244725]),\n",
       " array([0.0024493]),\n",
       " array([0.00245142]),\n",
       " array([0.0024538]),\n",
       " array([0.00245673]),\n",
       " array([0.00246052]),\n",
       " array([0.00246555]),\n",
       " array([0.00247219]),\n",
       " array([0.00248049]),\n",
       " array([0.00248884]),\n",
       " array([0.00248745]),\n",
       " array([0.00246706]),\n",
       " array([0.00241369]),\n",
       " array([0.00239572]),\n",
       " array([0.00240482]),\n",
       " array([0.00239419]),\n",
       " array([0.00239304]),\n",
       " array([0.00239276]),\n",
       " array([0.00239269]),\n",
       " array([0.00239276]),\n",
       " array([0.00239284]),\n",
       " array([0.00239285]),\n",
       " array([0.00239272]),\n",
       " array([0.00239233]),\n",
       " array([0.00239142]),\n",
       " array([0.00238948]),\n",
       " array([0.00238548]),\n",
       " array([0.0023774]),\n",
       " array([0.00236241]),\n",
       " array([0.00235376]),\n",
       " array([0.00234283]),\n",
       " array([0.0023374]),\n",
       " array([0.0023179]),\n",
       " array([0.0023183]),\n",
       " array([0.0023198]),\n",
       " array([0.00231841]),\n",
       " array([0.00231785]),\n",
       " array([0.00231724]),\n",
       " array([0.00231651]),\n",
       " array([0.00231555]),\n",
       " array([0.0023142]),\n",
       " array([0.00231227]),\n",
       " array([0.00230955]),\n",
       " array([0.00230582]),\n",
       " array([0.00230115]),\n",
       " array([0.00229619])]"
      ]
     },
     "execution_count": 17,
     "metadata": {},
     "output_type": "execute_result"
    }
   ],
   "source": [
    "T.testJ"
   ]
  },
  {
   "cell_type": "code",
   "execution_count": 18,
   "metadata": {},
   "outputs": [
    {
     "data": {
      "text/plain": [
       "0.0018208907945784858"
      ]
     },
     "execution_count": 18,
     "metadata": {},
     "output_type": "execute_result"
    }
   ],
   "source": [
    "from sklearn.metrics import mean_absolute_error\n",
    "mean_absolute_error(T.J, T.testJ)"
   ]
  },
  {
   "cell_type": "code",
   "execution_count": 19,
   "metadata": {},
   "outputs": [],
   "source": [
    "yHat=NN.forward(X)"
   ]
  },
  {
   "cell_type": "code",
   "execution_count": 20,
   "metadata": {},
   "outputs": [
    {
     "data": {
      "text/plain": [
       "array([[0.18103641],\n",
       "       [0.1760895 ],\n",
       "       [0.20728372],\n",
       "       [0.23835636],\n",
       "       [0.25901199],\n",
       "       [0.34084416],\n",
       "       [0.47624031],\n",
       "       [0.39374043],\n",
       "       [0.36371829],\n",
       "       [0.37877332],\n",
       "       [0.3889895 ],\n",
       "       [0.32269924],\n",
       "       [0.25185745],\n",
       "       [0.23073693],\n",
       "       [0.2636965 ],\n",
       "       [0.2600328 ],\n",
       "       [0.22366914],\n",
       "       [0.22245916],\n",
       "       [0.21133029],\n",
       "       [0.19555977],\n",
       "       [0.24006084],\n",
       "       [0.26393133],\n",
       "       [0.26405521],\n",
       "       [0.26119718],\n",
       "       [0.26001016],\n",
       "       [0.25293811],\n",
       "       [0.25469719],\n",
       "       [0.25000286],\n",
       "       [0.25716077],\n",
       "       [0.25796785],\n",
       "       [0.25305931],\n",
       "       [0.29088754],\n",
       "       [0.29794083],\n",
       "       [0.30892772],\n",
       "       [0.27756608],\n",
       "       [0.31081297],\n",
       "       [0.34597856],\n",
       "       [0.36640445],\n",
       "       [0.42265337],\n",
       "       [0.428719  ],\n",
       "       [0.50568405],\n",
       "       [0.54330403],\n",
       "       [0.60508182],\n",
       "       [0.657865  ],\n",
       "       [0.6060355 ],\n",
       "       [0.56739374],\n",
       "       [0.49147788],\n",
       "       [0.45044856],\n",
       "       [0.4706429 ],\n",
       "       [0.46072938],\n",
       "       [0.50911727],\n",
       "       [0.48569931],\n",
       "       [0.45171693],\n",
       "       [0.47838744],\n",
       "       [0.45608237],\n",
       "       [0.45770063],\n",
       "       [0.4451972 ],\n",
       "       [0.43369848],\n",
       "       [0.37489191]])"
      ]
     },
     "execution_count": 20,
     "metadata": {},
     "output_type": "execute_result"
    }
   ],
   "source": [
    "yHat"
   ]
  },
  {
   "cell_type": "code",
   "execution_count": 21,
   "metadata": {},
   "outputs": [
    {
     "data": {
      "text/plain": [
       "array([[0.11211342],\n",
       "       [0.17073406],\n",
       "       [0.2232566 ],\n",
       "       [0.24197469],\n",
       "       [0.36573346],\n",
       "       [0.55255899],\n",
       "       [0.37002352],\n",
       "       [0.3325317 ],\n",
       "       [0.38788752],\n",
       "       [0.39836394],\n",
       "       [0.2848263 ],\n",
       "       [0.18673502],\n",
       "       [0.18269477],\n",
       "       [0.255617  ],\n",
       "       [0.23597043],\n",
       "       [0.16413413],\n",
       "       [0.17817663],\n",
       "       [0.1639561 ],\n",
       "       [0.13324148],\n",
       "       [0.22639902],\n",
       "       [0.25501386],\n",
       "       [0.23708614],\n",
       "       [0.23165112],\n",
       "       [0.23306761],\n",
       "       [0.22117372],\n",
       "       [0.22633168],\n",
       "       [0.21869864],\n",
       "       [0.2320322 ],\n",
       "       [0.23194795],\n",
       "       [0.22154782],\n",
       "       [0.28795858],\n",
       "       [0.28837327],\n",
       "       [0.29714576],\n",
       "       [0.24366982],\n",
       "       [0.30743731],\n",
       "       [0.35859786],\n",
       "       [0.37218122],\n",
       "       [0.45025948],\n",
       "       [0.44309563],\n",
       "       [0.55815598],\n",
       "       [0.60235983],\n",
       "       [0.69629172],\n",
       "       [0.79060467],\n",
       "       [0.64402223],\n",
       "       [0.58322864],\n",
       "       [0.48171501],\n",
       "       [0.44281211],\n",
       "       [0.49627058],\n",
       "       [0.47546339],\n",
       "       [0.55155979],\n",
       "       [0.50099435],\n",
       "       [0.44545859],\n",
       "       [0.50571167],\n",
       "       [0.46588904],\n",
       "       [0.46785659],\n",
       "       [0.45300142],\n",
       "       [0.43741172],\n",
       "       [0.3506737 ],\n",
       "       [0.36403131]])"
      ]
     },
     "execution_count": 21,
     "metadata": {},
     "output_type": "execute_result"
    }
   ],
   "source": [
    "y"
   ]
  },
  {
   "cell_type": "code",
   "execution_count": 22,
   "metadata": {},
   "outputs": [
    {
     "data": {
      "image/png": "[encoded data removed]",
      "text/plain": [
       "<Figure size 432x288 with 1 Axes>"
      ]
     },
     "metadata": {
      "needs_background": "light"
     },
     "output_type": "display_data"
    }
   ],
   "source": [
    "#Plot cost during training:\n",
    "plot.plot(y)\n",
    "plot.plot(yHat)\n",
    "plot.grid(1)\n",
    "plot.legend(['y', 'yHat'])\n",
    "plot.show()"
   ]
  },
  {
   "cell_type": "code",
   "execution_count": 23,
   "metadata": {},
   "outputs": [],
   "source": [
    "prediksi=NN.forward(dataprediksi)"
   ]
  },
  {
   "cell_type": "code",
   "execution_count": 24,
   "metadata": {},
   "outputs": [
    {
     "data": {
      "text/plain": [
       "array([[0.37154441],\n",
       "       [0.61729808],\n",
       "       [0.72601197],\n",
       "       [0.65799443]])"
      ]
     },
     "execution_count": 24,
     "metadata": {},
     "output_type": "execute_result"
    }
   ],
   "source": [
    "prediksi"
   ]
  },
  {
   "cell_type": "code",
   "execution_count": 25,
   "metadata": {},
   "outputs": [],
   "source": [
    "from sklearn.metrics import mean_squared_error "
   ]
  },
  {
   "cell_type": "code",
   "execution_count": 26,
   "metadata": {},
   "outputs": [
    {
     "data": {
      "text/plain": [
       "0.0885222782851201"
      ]
     },
     "execution_count": 26,
     "metadata": {},
     "output_type": "execute_result"
    }
   ],
   "source": [
    "Y_true= ([\t0.795380412\t]\t,\n",
    "[\t1\t]\t,\n",
    "[\t0.707681705\t]\t,\n",
    "[\t0.491695324\t]\t,\n",
    "\t)\n",
    "\n",
    "\n",
    "Y_pred=prediksi\n",
    "mean_squared_error(Y_true,Y_pred) "
   ]
  },
  {
   "cell_type": "code",
   "execution_count": 27,
   "metadata": {},
   "outputs": [
    {
     "data": {
      "text/plain": [
       "array([[0.43741172, 0.3506737 , 0.36403131],\n",
       "       [0.3506737 , 0.36403131, 0.79538041],\n",
       "       [0.36403131, 0.79538041, 1.        ],\n",
       "       [0.79538041, 1.        , 0.70768171]])"
      ]
     },
     "execution_count": 27,
     "metadata": {},
     "output_type": "execute_result"
    }
   ],
   "source": [
    "dataprediksi"
   ]
  },
  {
   "cell_type": "code",
   "execution_count": 28,
   "metadata": {},
   "outputs": [],
   "source": [
    "a=np.array([\t1\t,\t0.707681705\t,\t0.491695324\t])"
   ]
  },
  {
   "cell_type": "code",
   "execution_count": 29,
   "metadata": {},
   "outputs": [
    {
     "data": {
      "text/plain": [
       "array([0.53912595])"
      ]
     },
     "execution_count": 29,
     "metadata": {},
     "output_type": "execute_result"
    }
   ],
   "source": [
    "#prediksi 1\n",
    "prediksi=NN.forward(a)\n",
    "prediksi"
   ]
  },
  {
   "cell_type": "code",
   "execution_count": 30,
   "metadata": {},
   "outputs": [
    {
     "data": {
      "text/plain": [
       "array([0.52039604])"
      ]
     },
     "execution_count": 30,
     "metadata": {},
     "output_type": "execute_result"
    }
   ],
   "source": [
    "#prediksi 2\n",
    "c=prediksi\n",
    "b=a[1:]\n",
    "d=np.concatenate((b,c))\n",
    "prediksi=NN.forward(d)\n",
    "prediksi"
   ]
  },
  {
   "cell_type": "code",
   "execution_count": 31,
   "metadata": {},
   "outputs": [
    {
     "data": {
      "text/plain": [
       "array([0.49735522])"
      ]
     },
     "execution_count": 31,
     "metadata": {},
     "output_type": "execute_result"
    }
   ],
   "source": [
    "#prediksi 3\n",
    "c=prediksi\n",
    "b=d[1:]\n",
    "e=np.concatenate((b,c))\n",
    "prediksi=NN.forward(e)\n",
    "prediksi"
   ]
  },
  {
   "cell_type": "code",
   "execution_count": 32,
   "metadata": {},
   "outputs": [
    {
     "data": {
      "text/plain": [
       "array([0.48513479])"
      ]
     },
     "execution_count": 32,
     "metadata": {},
     "output_type": "execute_result"
    }
   ],
   "source": [
    "#prediksi 4\n",
    "c=prediksi\n",
    "b=e[1:]\n",
    "f=np.concatenate((b,c))\n",
    "prediksi=NN.forward(f)\n",
    "prediksi"
   ]
  },
  {
   "cell_type": "code",
   "execution_count": 33,
   "metadata": {},
   "outputs": [
    {
     "data": {
      "text/plain": [
       "array([0.47339488])"
      ]
     },
     "execution_count": 33,
     "metadata": {},
     "output_type": "execute_result"
    }
   ],
   "source": [
    "#prediksi 5\n",
    "c=prediksi\n",
    "b=f[1:]\n",
    "g=np.concatenate((b,c))\n",
    "prediksi=NN.forward(g)\n",
    "prediksi"
   ]
  },
  {
   "cell_type": "code",
   "execution_count": 34,
   "metadata": {},
   "outputs": [
    {
     "data": {
      "text/plain": [
       "array([0.46273435])"
      ]
     },
     "execution_count": 34,
     "metadata": {},
     "output_type": "execute_result"
    }
   ],
   "source": [
    "#prediksi 6\n",
    "c=prediksi\n",
    "b=g[1:]\n",
    "h=np.concatenate((b,c))\n",
    "prediksi=NN.forward(h)\n",
    "prediksi"
   ]
  },
  {
   "cell_type": "code",
   "execution_count": 35,
   "metadata": {},
   "outputs": [
    {
     "data": {
      "text/plain": [
       "array([0.45606881])"
      ]
     },
     "execution_count": 35,
     "metadata": {},
     "output_type": "execute_result"
    }
   ],
   "source": [
    "#prediksi 7\n",
    "c=prediksi\n",
    "b=g[1:]\n",
    "i=np.concatenate((b,c))\n",
    "prediksi=NN.forward(i)\n",
    "prediksi"
   ]
  },
  {
   "cell_type": "code",
   "execution_count": 36,
   "metadata": {},
   "outputs": [
    {
     "data": {
      "text/plain": [
       "array([0.45188357])"
      ]
     },
     "execution_count": 36,
     "metadata": {},
     "output_type": "execute_result"
    }
   ],
   "source": [
    "#prediksi 8\n",
    "c=prediksi\n",
    "b=g[1:]\n",
    "j=np.concatenate((b,c))\n",
    "prediksi=NN.forward(j)\n",
    "prediksi"
   ]
  },
  {
   "cell_type": "code",
   "execution_count": 37,
   "metadata": {},
   "outputs": [
    {
     "data": {
      "text/plain": [
       "array([0.44924919])"
      ]
     },
     "execution_count": 37,
     "metadata": {},
     "output_type": "execute_result"
    }
   ],
   "source": [
    "#prediksi 9\n",
    "c=prediksi\n",
    "b=g[1:]\n",
    "k=np.concatenate((b,c))\n",
    "prediksi=NN.forward(k)\n",
    "prediksi"
   ]
  },
  {
   "cell_type": "code",
   "execution_count": 38,
   "metadata": {},
   "outputs": [
    {
     "data": {
      "text/plain": [
       "array([0.44758854])"
      ]
     },
     "execution_count": 38,
     "metadata": {},
     "output_type": "execute_result"
    }
   ],
   "source": [
    "#prediksi 10\n",
    "c=prediksi\n",
    "b=g[1:]\n",
    "l=np.concatenate((b,c))\n",
    "prediksi=NN.forward(l)\n",
    "prediksi"
   ]
  },
  {
   "cell_type": "code",
   "execution_count": 39,
   "metadata": {},
   "outputs": [
    {
     "data": {
      "text/plain": [
       "array([0.44654074])"
      ]
     },
     "execution_count": 39,
     "metadata": {},
     "output_type": "execute_result"
    }
   ],
   "source": [
    "#prediksi 11\n",
    "c=prediksi\n",
    "b=g[1:]\n",
    "m=np.concatenate((b,c))\n",
    "prediksi=NN.forward(m)\n",
    "prediksi"
   ]
  },
  {
   "cell_type": "code",
   "execution_count": 40,
   "metadata": {},
   "outputs": [
    {
     "data": {
      "text/plain": [
       "array([0.44587926])"
      ]
     },
     "execution_count": 40,
     "metadata": {},
     "output_type": "execute_result"
    }
   ],
   "source": [
    "#prediksi 12\n",
    "c=prediksi\n",
    "b=g[1:]\n",
    "n=np.concatenate((b,c))\n",
    "prediksi=NN.forward(n)\n",
    "prediksi"
   ]
  },
  {
   "cell_type": "code",
   "execution_count": null,
   "metadata": {},
   "outputs": [],
   "source": []
  }
 ],
 "metadata": {
  "kernelspec": {
   "display_name": "Python 3",
   "language": "python",
   "name": "python3"
  },
  "language_info": {
   "codemirror_mode": {
    "name": "ipython",
    "version": 3
   },
   "file_extension": ".py",
   "mimetype": "text/x-python",
   "name": "python",
   "nbconvert_exporter": "python",
   "pygments_lexer": "ipython3",
   "version": "3.7.3"
  }
 },
 "nbformat": 4,
 "nbformat_minor": 2
}
