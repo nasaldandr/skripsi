{
 "cells": [
  {
   "cell_type": "code",
   "execution_count": 1,
   "metadata": {},
   "outputs": [],
   "source": [
    "import numpy as np"
   ]
  },
  {
   "cell_type": "code",
   "execution_count": 2,
   "metadata": {},
   "outputs": [],
   "source": [
    "#UNTUK NILAI IMPOR\n",
    "class Neural_Network(object):\n",
    "    def __init__(self):\n",
    "        #parameters\n",
    "        self.inputLayerSize = 3\n",
    "        self.outputLayerSize = 1\n",
    "        self.hiddenLayerSize = 4\n",
    "\n",
    "        #weights\n",
    "        self.W1 = np.random.randn(self.inputLayerSize,\\\n",
    "                                 self.hiddenLayerSize)  \n",
    "        self.W2 = np.random.randn(self.hiddenLayerSize,\\\n",
    "                                 self.outputLayerSize)  \n",
    "    \n",
    "    def printw(self):\n",
    "        return self.W1\n",
    "        \n",
    "    def weight(self, W1, W2):\n",
    "        #Make an internal variable for the weight:\n",
    "        self.W1 = W1\n",
    "        self.W2 = W2\n",
    "        \n",
    "    def forward(self, X):\n",
    "        #forward propagation through our network\n",
    "        self.z2 = np.dot(X,self.W1)  \n",
    "        self.a2 = self.sigmoid(self.z2)  # activation function\n",
    "        self.z3 = np.dot(self.a2, self.W2) \n",
    "        yHat = self.sigmoid(self.z3)  # final activation function\n",
    "        return yHat\n",
    "\n",
    "    def sigmoid(self, z):\n",
    "        # activation function\n",
    "        return 1 / (1 + np.exp(-z))\n",
    "    \n",
    "    def sigmoidPrime(self,z): \n",
    "        #derivative of sigmoid     \n",
    "        return np.exp(-z)/((1+np.exp(-z))**2)\n",
    "    \n",
    "    def costFunction(self,X,y):\n",
    "        self.yHat = self.forward(X)\n",
    "        J=0.5*sum((y-self.yHat)**2)\n",
    "        return J\n",
    "    \n",
    "    def costFunctionPrime(self,X,y):\n",
    "        self.yHat=self.forward(X)\n",
    "        \n",
    "        delta3=np.multiply(-(y-self.yHat),self.sigmoidPrime(self.z3))\n",
    "        dJdW2=np.dot(self.a2.T,delta3)\n",
    "        \n",
    "        delta2=np.dot(delta3,self.W2.T)*self.sigmoidPrime(self.z2)\n",
    "        dJdW1=np.dot(X.T,delta2)\n",
    "        return dJdW1,dJdW2\n",
    "    \n",
    "    def predict(self):\n",
    "        prediksi = self.forward(dataprediksi)\n",
    "        return prediksi\n",
    "    \n",
    "    def getParams(self):\n",
    "        params=np.concatenate((self.W1.ravel(),self.W2.ravel()))\n",
    "        return params\n",
    "    \n",
    "    def setParams(self,params):\n",
    "        W1_start=0\n",
    "        W1_end=self.hiddenLayerSize*self.inputLayerSize\n",
    "        self.W1=np.reshape(params[W1_start:W1_end],\\\n",
    "                          (self.inputLayerSize,self.hiddenLayerSize))\n",
    "        W2_end=W1_end+self.hiddenLayerSize*self.outputLayerSize\n",
    "        self.W2=np.reshape(params[W1_end:W2_end],\\\n",
    "                          (self.hiddenLayerSize,self.outputLayerSize))\n",
    "        \n",
    "    def computeGradients(self, X, y):\n",
    "        dJdW1, dJdW2 = self.costFunctionPrime(X, y)\n",
    "        return np.concatenate((dJdW1.ravel(), dJdW2.ravel()))"
   ]
  },
  {
   "cell_type": "code",
   "execution_count": 3,
   "metadata": {},
   "outputs": [],
   "source": [
    "NN = Neural_Network()"
   ]
  },
  {
   "cell_type": "code",
   "execution_count": 4,
   "metadata": {},
   "outputs": [
    {
     "data": {
      "text/plain": [
       "array([[-1.09922323, -0.45509425, -1.01180013, -1.521266  ],\n",
       "       [ 2.02623113, -0.00646344, -0.76175226,  2.09278523],\n",
       "       [-0.22639186,  1.46894414,  0.32766898,  1.43309992]])"
      ]
     },
     "execution_count": 4,
     "metadata": {},
     "output_type": "execute_result"
    }
   ],
   "source": [
    "NN.W1"
   ]
  },
  {
   "cell_type": "code",
   "execution_count": 5,
   "metadata": {},
   "outputs": [
    {
     "data": {
      "text/plain": [
       "array([[ 0.91239744],\n",
       "       [-1.2447345 ],\n",
       "       [-1.12035021],\n",
       "       [ 0.9469244 ]])"
      ]
     },
     "execution_count": 5,
     "metadata": {},
     "output_type": "execute_result"
    }
   ],
   "source": [
    "NN.W2"
   ]
  },
  {
   "cell_type": "code",
   "execution_count": 6,
   "metadata": {},
   "outputs": [],
   "source": [
    "#KURS\n",
    "X=np.array(([\t0\t,\t0.051924996\t,\t0.148319042\t]\t,\n",
    "[\t0.051924996\t,\t0.148319042\t,\t0.112113419\t]\t,\n",
    "[\t0.148319042\t,\t0.112113419\t,\t0.170734062\t]\t,\n",
    "[\t0.112113419\t,\t0.170734062\t,\t0.223256598\t]\t,\n",
    "[\t0.170734062\t,\t0.223256598\t,\t0.241974687\t]\t,\n",
    "[\t0.223256598\t,\t0.241974687\t,\t0.365733465\t]\t,\n",
    "[\t0.241974687\t,\t0.365733465\t,\t0.552558994\t]\t,\n",
    "[\t0.365733465\t,\t0.552558994\t,\t0.370023519\t]\t,\n",
    "[\t0.552558994\t,\t0.370023519\t,\t0.332531703\t]\t,\n",
    "[\t0.370023519\t,\t0.332531703\t,\t0.387887522\t]\t,\n",
    "[\t0.332531703\t,\t0.387887522\t,\t0.398363943\t]\t,\n",
    "[\t0.387887522\t,\t0.398363943\t,\t0.284826299\t]\t,\n",
    "[\t0.398363943\t,\t0.284826299\t,\t0.186735022\t]\t,\n",
    "[\t0.284826299\t,\t0.186735022\t,\t0.182694768\t]\t,\n",
    "[\t0.186735022\t,\t0.182694768\t,\t0.255617002\t]\t,\n",
    "[\t0.182694768\t,\t0.255617002\t,\t0.23597043\t]\t,\n",
    "[\t0.255617002\t,\t0.23597043\t,\t0.164134134\t]\t,\n",
    "[\t0.23597043\t,\t0.164134134\t,\t0.178176635\t]\t,\n",
    "[\t0.164134134\t,\t0.178176635\t,\t0.163956101\t]\t,\n",
    "[\t0.178176635\t,\t0.163956101\t,\t0.133241484\t]\t,\n",
    "[\t0.163956101\t,\t0.133241484\t,\t0.226399017\t]\t,\n",
    "[\t0.133241484\t,\t0.226399017\t,\t0.255013861\t]\t,\n",
    "[\t0.226399017\t,\t0.255013861\t,\t0.23708614\t]\t,\n",
    "[\t0.255013861\t,\t0.23708614\t,\t0.231651119\t]\t,\n",
    "[\t0.23708614\t,\t0.231651119\t,\t0.233067608\t]\t,\n",
    "[\t0.231651119\t,\t0.233067608\t,\t0.221173719\t]\t,\n",
    "[\t0.233067608\t,\t0.221173719\t,\t0.22633168\t]\t,\n",
    "[\t0.221173719\t,\t0.22633168\t,\t0.218698642\t]\t,\n",
    "[\t0.22633168\t,\t0.218698642\t,\t0.232032203\t]\t,\n",
    "[\t0.218698642\t,\t0.232032203\t,\t0.231947948\t]\t,\n",
    "[\t0.232032203\t,\t0.231947948\t,\t0.221547817\t]\t,\n",
    "[\t0.231947948\t,\t0.221547817\t,\t0.287958581\t]\t,\n",
    "[\t0.221547817\t,\t0.287958581\t,\t0.28837327\t]\t,\n",
    "[\t0.287958581\t,\t0.28837327\t,\t0.297145757\t]\t,\n",
    "[\t0.28837327\t,\t0.297145757\t,\t0.243669818\t]\t,\n",
    "[\t0.297145757\t,\t0.243669818\t,\t0.307437314\t]\t,\n",
    "[\t0.243669818\t,\t0.307437314\t,\t0.358597855\t]\t,\n",
    "[\t0.307437314\t,\t0.358597855\t,\t0.372181217\t]\t,\n",
    "[\t0.358597855\t,\t0.372181217\t,\t0.450259481\t]\t,\n",
    "[\t0.372181217\t,\t0.450259481\t,\t0.443095634\t]\t,\n",
    "[\t0.450259481\t,\t0.443095634\t,\t0.558155976\t]\t,\n",
    "[\t0.443095634\t,\t0.558155976\t,\t0.602359827\t]\t,\n",
    "[\t0.558155976\t,\t0.602359827\t,\t0.696291723\t]\t,\n",
    "[\t0.602359827\t,\t0.696291723\t,\t0.790604671\t]\t,\n",
    "[\t0.696291723\t,\t0.790604671\t,\t0.644022227\t]\t,\n",
    "[\t0.790604671\t,\t0.644022227\t,\t0.583228643\t]\t,\n",
    "[\t0.644022227\t,\t0.583228643\t,\t0.481715009\t]\t,\n",
    "[\t0.583228643\t,\t0.481715009\t,\t0.442812107\t]\t,\n",
    "[\t0.481715009\t,\t0.442812107\t,\t0.496270585\t]\t,\n",
    "[\t0.442812107\t,\t0.496270585\t,\t0.475463393\t]\t,\n",
    "[\t0.496270585\t,\t0.475463393\t,\t0.551559791\t]\t,\n",
    "[\t0.475463393\t,\t0.551559791\t,\t0.500994351\t]\t,\n",
    "[\t0.551559791\t,\t0.500994351\t,\t0.445458587\t]\t,\n",
    "[\t0.500994351\t,\t0.445458587\t,\t0.505711667\t]\t,\n",
    "[\t0.445458587\t,\t0.505711667\t,\t0.465889036\t]\t,\n",
    "[\t0.505711667\t,\t0.465889036\t,\t0.46785659\t]\t,\n",
    "[\t0.465889036\t,\t0.46785659\t,\t0.453001423\t]\t,\n",
    "[\t0.46785659\t,\t0.453001423\t,\t0.437411724\t]\t,\n",
    "[\t0.453001423\t,\t0.437411724\t,\t0.350673696\t]\t,\n",
    "\n",
    ")           \n",
    ",dtype=float)\n",
    "y=np.array(([\t0.112113419\t]\t,\n",
    "[\t0.170734062\t]\t,\n",
    "[\t0.223256598\t]\t,\n",
    "[\t0.241974687\t]\t,\n",
    "[\t0.365733465\t]\t,\n",
    "[\t0.552558994\t]\t,\n",
    "[\t0.370023519\t]\t,\n",
    "[\t0.332531703\t]\t,\n",
    "[\t0.387887522\t]\t,\n",
    "[\t0.398363943\t]\t,\n",
    "[\t0.284826299\t]\t,\n",
    "[\t0.186735022\t]\t,\n",
    "[\t0.182694768\t]\t,\n",
    "[\t0.255617002\t]\t,\n",
    "[\t0.23597043\t]\t,\n",
    "[\t0.164134134\t]\t,\n",
    "[\t0.178176635\t]\t,\n",
    "[\t0.163956101\t]\t,\n",
    "[\t0.133241484\t]\t,\n",
    "[\t0.226399017\t]\t,\n",
    "[\t0.255013861\t]\t,\n",
    "[\t0.23708614\t]\t,\n",
    "[\t0.231651119\t]\t,\n",
    "[\t0.233067608\t]\t,\n",
    "[\t0.221173719\t]\t,\n",
    "[\t0.22633168\t]\t,\n",
    "[\t0.218698642\t]\t,\n",
    "[\t0.232032203\t]\t,\n",
    "[\t0.231947948\t]\t,\n",
    "[\t0.221547817\t]\t,\n",
    "[\t0.287958581\t]\t,\n",
    "[\t0.28837327\t]\t,\n",
    "[\t0.297145757\t]\t,\n",
    "[\t0.243669818\t]\t,\n",
    "[\t0.307437314\t]\t,\n",
    "[\t0.358597855\t]\t,\n",
    "[\t0.372181217\t]\t,\n",
    "[\t0.450259481\t]\t,\n",
    "[\t0.443095634\t]\t,\n",
    "[\t0.558155976\t]\t,\n",
    "[\t0.602359827\t]\t,\n",
    "[\t0.696291723\t]\t,\n",
    "[\t0.790604671\t]\t,\n",
    "[\t0.644022227\t]\t,\n",
    "[\t0.583228643\t]\t,\n",
    "[\t0.481715009\t]\t,\n",
    "[\t0.442812107\t]\t,\n",
    "[\t0.496270585\t]\t,\n",
    "[\t0.475463393\t]\t,\n",
    "[\t0.551559791\t]\t,\n",
    "[\t0.500994351\t]\t,\n",
    "[\t0.445458587\t]\t,\n",
    "[\t0.505711667\t]\t,\n",
    "[\t0.465889036\t]\t,\n",
    "[\t0.46785659\t]\t,\n",
    "[\t0.453001423\t]\t,\n",
    "[\t0.437411724\t]\t,\n",
    "[\t0.350673696\t]\t,\n",
    "[\t0.364031312\t]\t,\n",
    "\n",
    ")\n",
    ",dtype=float)\n",
    "\n",
    "dataprediksi = np.array(([\t0.437411724\t,\t0.350673696\t,\t0.364031312\t]\t,\n",
    "[\t0.350673696\t,\t0.364031312\t,\t0.795380412\t]\t,\n",
    "[\t0.364031312\t,\t0.795380412\t,\t1\t]\t,\n",
    "[\t0.795380412\t,\t1\t,\t0.707681705\t]\t,\n",
    "\n",
    "\n",
    "), dtype=float)\n"
   ]
  },
  {
   "cell_type": "code",
   "execution_count": 7,
   "metadata": {},
   "outputs": [],
   "source": [
    "import matplotlib.pyplot as plot"
   ]
  },
  {
   "cell_type": "code",
   "execution_count": 8,
   "metadata": {},
   "outputs": [],
   "source": [
    "from scipy import optimize"
   ]
  },
  {
   "cell_type": "code",
   "execution_count": 9,
   "metadata": {},
   "outputs": [],
   "source": [
    "class trainer(object):\n",
    "    def __init__(self, N):\n",
    "        #Make Local reference to network:\n",
    "        self.N = N\n",
    "        \n",
    "    def callbackF(self, params):\n",
    "        self.N.setParams(params)\n",
    "        self.J.append(self.N.costFunction(self.X, self.y))   \n",
    "        \n",
    "    def costFunctionWrapper(self, params, X, y):\n",
    "        self.N.setParams(params)\n",
    "        cost = self.N.costFunction(X, y)\n",
    "        grad = self.N.computeGradients(X,y)\n",
    "        \n",
    "        return cost, grad\n",
    "        \n",
    "    def train(self, X, y):\n",
    "        #Make an internal variable for the callback function:\n",
    "        self.X = X\n",
    "        self.y = y\n",
    "\n",
    "        #Make empty list to store costs:\n",
    "        self.J = []\n",
    "        \n",
    "        params0 = self.N.getParams()\n",
    "\n",
    "        options = {'maxiter': 100, 'disp' : True}\n",
    "        _res = optimize.minimize(self.costFunctionWrapper, params0, jac=True, method='BFGS', \\\n",
    "                                 args=(X, y), options=options, callback=self.callbackF)\n",
    "\n",
    "        self.N.setParams(_res.x)\n",
    "        self.optimizationResults = _res"
   ]
  },
  {
   "cell_type": "code",
   "execution_count": 10,
   "metadata": {},
   "outputs": [],
   "source": [
    "NN=Neural_Network()"
   ]
  },
  {
   "cell_type": "code",
   "execution_count": 11,
   "metadata": {},
   "outputs": [],
   "source": [
    "T = trainer(NN)"
   ]
  },
  {
   "cell_type": "code",
   "execution_count": 12,
   "metadata": {},
   "outputs": [
    {
     "name": "stdout",
     "output_type": "stream",
     "text": [
      "Warning: Maximum number of iterations has been exceeded.\n",
      "         Current function value: 0.171025\n",
      "         Iterations: 100\n",
      "         Function evaluations: 107\n",
      "         Gradient evaluations: 107\n"
     ]
    }
   ],
   "source": [
    "#Train network with new data:\n",
    "T = trainer(NN)\n",
    "T.train(X,y)"
   ]
  },
  {
   "cell_type": "code",
   "execution_count": 13,
   "metadata": {},
   "outputs": [
    {
     "data": {
      "image/png": "[encoded data removed]",
      "text/plain": [
       "<Figure size 432x288 with 1 Axes>"
      ]
     },
     "metadata": {
      "needs_background": "light"
     },
     "output_type": "display_data"
    }
   ],
   "source": [
    "#Plot cost during training:\n",
    "plot.plot(T.J)\n",
    "plot.grid(1)\n",
    "plot.xlabel('Iterations')\n",
    "plot.ylabel('Cost')\n",
    "plot.show()"
   ]
  },
  {
   "cell_type": "code",
   "execution_count": 14,
   "metadata": {},
   "outputs": [],
   "source": [
    "#Training Data:\n",
    "trainX = np.array(([\t0\t,\t0.051924996\t,\t0.148319042\t]\t,\n",
    "[\t0.051924996\t,\t0.148319042\t,\t0.112113419\t]\t,\n",
    "[\t0.148319042\t,\t0.112113419\t,\t0.170734062\t]\t,\n",
    "[\t0.112113419\t,\t0.170734062\t,\t0.223256598\t]\t,\n",
    "[\t0.170734062\t,\t0.223256598\t,\t0.241974687\t]\t,\n",
    "[\t0.223256598\t,\t0.241974687\t,\t0.365733465\t]\t,\n",
    "[\t0.241974687\t,\t0.365733465\t,\t0.552558994\t]\t,\n",
    "[\t0.365733465\t,\t0.552558994\t,\t0.370023519\t]\t,\n",
    "[\t0.552558994\t,\t0.370023519\t,\t0.332531703\t]\t,\n",
    "[\t0.370023519\t,\t0.332531703\t,\t0.387887522\t]\t,\n",
    "[\t0.332531703\t,\t0.387887522\t,\t0.398363943\t]\t,\n",
    "[\t0.387887522\t,\t0.398363943\t,\t0.284826299\t]\t,\n",
    "[\t0.398363943\t,\t0.284826299\t,\t0.186735022\t]\t,\n",
    "[\t0.284826299\t,\t0.186735022\t,\t0.182694768\t]\t,\n",
    "[\t0.186735022\t,\t0.182694768\t,\t0.255617002\t]\t,\n",
    "[\t0.182694768\t,\t0.255617002\t,\t0.23597043\t]\t,\n",
    "[\t0.255617002\t,\t0.23597043\t,\t0.164134134\t]\t,\n",
    "[\t0.23597043\t,\t0.164134134\t,\t0.178176635\t]\t,\n",
    "[\t0.164134134\t,\t0.178176635\t,\t0.163956101\t]\t,\n",
    "[\t0.178176635\t,\t0.163956101\t,\t0.133241484\t]\t,\n",
    "[\t0.163956101\t,\t0.133241484\t,\t0.226399017\t]\t,\n",
    "[\t0.133241484\t,\t0.226399017\t,\t0.255013861\t]\t,\n",
    "[\t0.226399017\t,\t0.255013861\t,\t0.23708614\t]\t,\n",
    "[\t0.255013861\t,\t0.23708614\t,\t0.231651119\t]\t,\n",
    "[\t0.23708614\t,\t0.231651119\t,\t0.233067608\t]\t,\n",
    "[\t0.231651119\t,\t0.233067608\t,\t0.221173719\t]\t,\n",
    "[\t0.233067608\t,\t0.221173719\t,\t0.22633168\t]\t,\n",
    "[\t0.221173719\t,\t0.22633168\t,\t0.218698642\t]\t,\n",
    "[\t0.22633168\t,\t0.218698642\t,\t0.232032203\t]\t,\n",
    "[\t0.218698642\t,\t0.232032203\t,\t0.231947948\t]\t,\n",
    "[\t0.232032203\t,\t0.231947948\t,\t0.221547817\t]\t,\n",
    "[\t0.231947948\t,\t0.221547817\t,\t0.287958581\t]\t,\n",
    "[\t0.221547817\t,\t0.287958581\t,\t0.28837327\t]\t,\n",
    "[\t0.287958581\t,\t0.28837327\t,\t0.297145757\t]\t,\n",
    "[\t0.28837327\t,\t0.297145757\t,\t0.243669818\t]\t,\n",
    "[\t0.297145757\t,\t0.243669818\t,\t0.307437314\t]\t,\n",
    "[\t0.243669818\t,\t0.307437314\t,\t0.358597855\t]\t,\n",
    "[\t0.307437314\t,\t0.358597855\t,\t0.372181217\t]\t,\n",
    "[\t0.358597855\t,\t0.372181217\t,\t0.450259481\t]\t,\n",
    "[\t0.372181217\t,\t0.450259481\t,\t0.443095634\t]\t,\n",
    "[\t0.450259481\t,\t0.443095634\t,\t0.558155976\t]\t,\n",
    "[\t0.443095634\t,\t0.558155976\t,\t0.602359827\t]\t,\n",
    "[\t0.558155976\t,\t0.602359827\t,\t0.696291723\t]\t,\n",
    "[\t0.602359827\t,\t0.696291723\t,\t0.790604671\t]\t,\n",
    "[\t0.696291723\t,\t0.790604671\t,\t0.644022227\t]\t,\n",
    "[\t0.790604671\t,\t0.644022227\t,\t0.583228643\t]\t,\n",
    "\n",
    ")\n",
    ", dtype=float)\n",
    "trainY = np.array(([\t0.112113419\t]\t,\n",
    "[\t0.170734062\t]\t,\n",
    "[\t0.223256598\t]\t,\n",
    "[\t0.241974687\t]\t,\n",
    "[\t0.365733465\t]\t,\n",
    "[\t0.552558994\t]\t,\n",
    "[\t0.370023519\t]\t,\n",
    "[\t0.332531703\t]\t,\n",
    "[\t0.387887522\t]\t,\n",
    "[\t0.398363943\t]\t,\n",
    "[\t0.284826299\t]\t,\n",
    "[\t0.186735022\t]\t,\n",
    "[\t0.182694768\t]\t,\n",
    "[\t0.255617002\t]\t,\n",
    "[\t0.23597043\t]\t,\n",
    "[\t0.164134134\t]\t,\n",
    "[\t0.178176635\t]\t,\n",
    "[\t0.163956101\t]\t,\n",
    "[\t0.133241484\t]\t,\n",
    "[\t0.226399017\t]\t,\n",
    "[\t0.255013861\t]\t,\n",
    "[\t0.23708614\t]\t,\n",
    "[\t0.231651119\t]\t,\n",
    "[\t0.233067608\t]\t,\n",
    "[\t0.221173719\t]\t,\n",
    "[\t0.22633168\t]\t,\n",
    "[\t0.218698642\t]\t,\n",
    "[\t0.232032203\t]\t,\n",
    "[\t0.231947948\t]\t,\n",
    "[\t0.221547817\t]\t,\n",
    "[\t0.287958581\t]\t,\n",
    "[\t0.28837327\t]\t,\n",
    "[\t0.297145757\t]\t,\n",
    "[\t0.243669818\t]\t,\n",
    "[\t0.307437314\t]\t,\n",
    "[\t0.358597855\t]\t,\n",
    "[\t0.372181217\t]\t,\n",
    "[\t0.450259481\t]\t,\n",
    "[\t0.443095634\t]\t,\n",
    "[\t0.558155976\t]\t,\n",
    "[\t0.602359827\t]\t,\n",
    "[\t0.696291723\t]\t,\n",
    "[\t0.790604671\t]\t,\n",
    "[\t0.644022227\t]\t,\n",
    "[\t0.583228643\t]\t,\n",
    "[\t0.481715009\t]\t,\n",
    "\n",
    "\n",
    ")\n",
    ", dtype=float)\n",
    "\n",
    "#Testing Data:\n",
    "testX = np.array(([\t0.644022227\t,\t0.583228643\t,\t0.481715009\t]\t,\n",
    "[\t0.583228643\t,\t0.481715009\t,\t0.442812107\t]\t,\n",
    "[\t0.481715009\t,\t0.442812107\t,\t0.496270585\t]\t,\n",
    "[\t0.442812107\t,\t0.496270585\t,\t0.475463393\t]\t,\n",
    "[\t0.496270585\t,\t0.475463393\t,\t0.551559791\t]\t,\n",
    "[\t0.475463393\t,\t0.551559791\t,\t0.500994351\t]\t,\n",
    "[\t0.551559791\t,\t0.500994351\t,\t0.445458587\t]\t,\n",
    "[\t0.500994351\t,\t0.445458587\t,\t0.505711667\t]\t,\n",
    "[\t0.445458587\t,\t0.505711667\t,\t0.465889036\t]\t,\n",
    "[\t0.505711667\t,\t0.465889036\t,\t0.46785659\t]\t,\n",
    "[\t0.465889036\t,\t0.46785659\t,\t0.453001423\t]\t,\n",
    "[\t0.46785659\t,\t0.453001423\t,\t0.437411724\t]\t,\n",
    "[\t0.453001423\t,\t0.437411724\t,\t0.350673696\t]\t,\n",
    "\n",
    ")\n",
    ", dtype=float)\n",
    "testY = np.array(([\t0.442812107\t]\t,\n",
    "[\t0.496270585\t]\t,\n",
    "[\t0.475463393\t]\t,\n",
    "[\t0.551559791\t]\t,\n",
    "[\t0.500994351\t]\t,\n",
    "[\t0.445458587\t]\t,\n",
    "[\t0.505711667\t]\t,\n",
    "[\t0.465889036\t]\t,\n",
    "[\t0.46785659\t]\t,\n",
    "[\t0.453001423\t]\t,\n",
    "[\t0.437411724\t]\t,\n",
    "[\t0.350673696\t]\t,\n",
    "[\t0.364031312\t]\t,\n",
    "                 )\n",
    ", dtype=float)\n",
    "\n",
    "\n",
    "dataprediksi = np.array(([\t0.437411724\t,\t0.350673696\t,\t0.364031312\t]\t,\n",
    "[\t0.350673696\t,\t0.364031312\t,\t0.795380412\t]\t,\n",
    "[\t0.364031312\t,\t0.795380412\t,\t1\t]\t,\n",
    "[\t0.795380412\t,\t1\t,\t0.707681705\t]\t,\n",
    "\n",
    "\n",
    "), dtype=float)"
   ]
  },
  {
   "cell_type": "code",
   "execution_count": 15,
   "metadata": {},
   "outputs": [
    {
     "data": {
      "text/plain": [
       "array([[0.64402223, 0.58322864, 0.48171501],\n",
       "       [0.58322864, 0.48171501, 0.44281211],\n",
       "       [0.48171501, 0.44281211, 0.49627058],\n",
       "       [0.44281211, 0.49627058, 0.47546339],\n",
       "       [0.49627058, 0.47546339, 0.55155979],\n",
       "       [0.47546339, 0.55155979, 0.50099435],\n",
       "       [0.55155979, 0.50099435, 0.44545859],\n",
       "       [0.50099435, 0.44545859, 0.50571167],\n",
       "       [0.44545859, 0.50571167, 0.46588904],\n",
       "       [0.50571167, 0.46588904, 0.46785659],\n",
       "       [0.46588904, 0.46785659, 0.45300142],\n",
       "       [0.46785659, 0.45300142, 0.43741172],\n",
       "       [0.45300142, 0.43741172, 0.3506737 ]])"
      ]
     },
     "execution_count": 15,
     "metadata": {},
     "output_type": "execute_result"
    }
   ],
   "source": [
    "testX"
   ]
  },
  {
   "cell_type": "code",
   "execution_count": 16,
   "metadata": {},
   "outputs": [],
   "source": [
    "##Need to modify trainer class a bit to check testing error during training:\n",
    "class trainer(object):\n",
    "    def __init__(self, N):\n",
    "        #Make Local reference to network:\n",
    "        self.N = N\n",
    "        \n",
    "    def callbackF(self, params):\n",
    "        self.N.setParams(params)\n",
    "        self.J.append(self.N.costFunction(self.X, self.y))\n",
    "        self.testJ.append(self.N.costFunction(self.testX, self.testY))\n",
    "        \n",
    "    def costFunctionWrapper(self, params, X, y):\n",
    "        self.N.setParams(params)\n",
    "        cost = self.N.costFunction(X, y)\n",
    "        grad = self.N.computeGradients(X,y)\n",
    "        \n",
    "        return cost, grad\n",
    "        \n",
    "    def train(self, trainX, trainY, testX, testY):\n",
    "        #Make an internal variable for the callback function:\n",
    "        self.X = trainX\n",
    "        self.y = trainY\n",
    "        \n",
    "        self.testX = testX\n",
    "        self.testY = testY\n",
    "\n",
    "        #Make empty list to store training costs:\n",
    "        self.J = []\n",
    "        self.testJ = []\n",
    "        \n",
    "        params0 = self.N.getParams()\n",
    "\n",
    "        options = {'maxiter': 100, 'disp' : True}\n",
    "        _res = optimize.minimize(self.costFunctionWrapper, params0, jac=True, method='BFGS', \\\n",
    "                                 args=(trainX, trainY), options=options, callback=self.callbackF)\n",
    "\n",
    "        self.N.setParams(_res.x)\n",
    "        self.optimizationResults = _res"
   ]
  },
  {
   "cell_type": "code",
   "execution_count": 17,
   "metadata": {},
   "outputs": [
    {
     "name": "stdout",
     "output_type": "stream",
     "text": [
      "Warning: Maximum number of iterations has been exceeded.\n",
      "         Current function value: 0.073873\n",
      "         Iterations: 100\n",
      "         Function evaluations: 112\n",
      "         Gradient evaluations: 112\n"
     ]
    }
   ],
   "source": [
    "#Train network with new data:\n",
    "NN = Neural_Network()\n",
    "\n",
    "T = trainer(NN)\n",
    "T.train(trainX, trainY, testX, testY)"
   ]
  },
  {
   "cell_type": "code",
   "execution_count": 18,
   "metadata": {},
   "outputs": [
    {
     "data": {
      "image/png": "[encoded data removed]",
      "text/plain": [
       "<Figure size 432x288 with 1 Axes>"
      ]
     },
     "metadata": {
      "needs_background": "light"
     },
     "output_type": "display_data"
    }
   ],
   "source": [
    "#Plot cost during training:\n",
    "plot.plot(T.J)\n",
    "plot.plot(T.testJ)\n",
    "plot.grid(1)\n",
    "plot.xlabel('Iterations')\n",
    "plot.ylabel('Cost')\n",
    "plot.legend(['Training', 'Testing'])\n",
    "plot.show()"
   ]
  },
  {
   "cell_type": "code",
   "execution_count": 19,
   "metadata": {},
   "outputs": [
    {
     "data": {
      "text/plain": [
       "[array([1.63934091]),\n",
       " array([0.48067687]),\n",
       " array([0.46349248]),\n",
       " array([0.43056304]),\n",
       " array([0.37243656]),\n",
       " array([0.31405406]),\n",
       " array([0.27300856]),\n",
       " array([0.20637797]),\n",
       " array([0.15063473]),\n",
       " array([0.14149046]),\n",
       " array([0.13940789]),\n",
       " array([0.13830768]),\n",
       " array([0.13640013]),\n",
       " array([0.13304087]),\n",
       " array([0.12741205]),\n",
       " array([0.11999752]),\n",
       " array([0.11519723]),\n",
       " array([0.11029924]),\n",
       " array([0.10904641]),\n",
       " array([0.10878719]),\n",
       " array([0.10856399]),\n",
       " array([0.10817135]),\n",
       " array([0.10746651]),\n",
       " array([0.10623578]),\n",
       " array([0.10427887]),\n",
       " array([0.10227984]),\n",
       " array([0.10162832]),\n",
       " array([0.10144408]),\n",
       " array([0.10135474]),\n",
       " array([0.1013348]),\n",
       " array([0.10133083]),\n",
       " array([0.10132324]),\n",
       " array([0.10126307]),\n",
       " array([0.10075516]),\n",
       " array([0.10066487]),\n",
       " array([0.10049977]),\n",
       " array([0.10040341]),\n",
       " array([0.10037008]),\n",
       " array([0.10035019]),\n",
       " array([0.10032844]),\n",
       " array([0.10031033]),\n",
       " array([0.10030014]),\n",
       " array([0.10029434]),\n",
       " array([0.10028458]),\n",
       " array([0.10026715]),\n",
       " array([0.10023496]),\n",
       " array([0.10017448]),\n",
       " array([0.10005897]),\n",
       " array([0.09902277]),\n",
       " array([0.09856568]),\n",
       " array([0.09783909]),\n",
       " array([0.09738702]),\n",
       " array([0.09693197]),\n",
       " array([0.09668469]),\n",
       " array([0.09627895]),\n",
       " array([0.09565282]),\n",
       " array([0.09480944]),\n",
       " array([0.09399757]),\n",
       " array([0.09361736]),\n",
       " array([0.09341566]),\n",
       " array([0.093165]),\n",
       " array([0.0930531]),\n",
       " array([0.09287293]),\n",
       " array([0.09276196]),\n",
       " array([0.09267772]),\n",
       " array([0.09261479]),\n",
       " array([0.09250092]),\n",
       " array([0.09229274]),\n",
       " array([0.09191142]),\n",
       " array([0.0912367]),\n",
       " array([0.09015767]),\n",
       " array([0.08869263]),\n",
       " array([0.08684279]),\n",
       " array([0.08569577]),\n",
       " array([0.08387453]),\n",
       " array([0.08135421]),\n",
       " array([0.07977179]),\n",
       " array([0.07916758]),\n",
       " array([0.07834224]),\n",
       " array([0.07806129]),\n",
       " array([0.07799037]),\n",
       " array([0.0779384]),\n",
       " array([0.07784228]),\n",
       " array([0.0770621]),\n",
       " array([0.07647026]),\n",
       " array([0.07583294]),\n",
       " array([0.07528347]),\n",
       " array([0.07513929]),\n",
       " array([0.0749793]),\n",
       " array([0.07480493]),\n",
       " array([0.07461792]),\n",
       " array([0.07451522]),\n",
       " array([0.07448445]),\n",
       " array([0.07447006]),\n",
       " array([0.07445377]),\n",
       " array([0.07442503]),\n",
       " array([0.07437354]),\n",
       " array([0.07428215]),\n",
       " array([0.07412516]),\n",
       " array([0.07387295])]"
      ]
     },
     "execution_count": 19,
     "metadata": {},
     "output_type": "execute_result"
    }
   ],
   "source": [
    "T.J"
   ]
  },
  {
   "cell_type": "code",
   "execution_count": 20,
   "metadata": {},
   "outputs": [
    {
     "data": {
      "text/plain": [
       "[array([0.1214554]),\n",
       " array([0.09822785]),\n",
       " array([0.0829747]),\n",
       " array([0.06181742]),\n",
       " array([0.03143028]),\n",
       " array([0.02039466]),\n",
       " array([0.01636054]),\n",
       " array([0.01582337]),\n",
       " array([0.01830371]),\n",
       " array([0.02350756]),\n",
       " array([0.02463699]),\n",
       " array([0.02614151]),\n",
       " array([0.02664854]),\n",
       " array([0.02662326]),\n",
       " array([0.02456599]),\n",
       " array([0.02000895]),\n",
       " array([0.02035754]),\n",
       " array([0.01795404]),\n",
       " array([0.01605029]),\n",
       " array([0.01527414]),\n",
       " array([0.0150173]),\n",
       " array([0.01474187]),\n",
       " array([0.01450328]),\n",
       " array([0.01430813]),\n",
       " array([0.01434965]),\n",
       " array([0.01516417]),\n",
       " array([0.0159966]),\n",
       " array([0.0162241]),\n",
       " array([0.01652016]),\n",
       " array([0.01640589]),\n",
       " array([0.01644144]),\n",
       " array([0.01648576]),\n",
       " array([0.01680214]),\n",
       " array([0.01685278]),\n",
       " array([0.018228]),\n",
       " array([0.01824056]),\n",
       " array([0.01803394]),\n",
       " array([0.01791045]),\n",
       " array([0.01793102]),\n",
       " array([0.01786545]),\n",
       " array([0.0177128]),\n",
       " array([0.01757751]),\n",
       " array([0.01751916]),\n",
       " array([0.0174633]),\n",
       " array([0.01740703]),\n",
       " array([0.01734528]),\n",
       " array([0.01727343]),\n",
       " array([0.01719185]),\n",
       " array([0.01739439]),\n",
       " array([0.01808834]),\n",
       " array([0.01806905]),\n",
       " array([0.01636187]),\n",
       " array([0.01775394]),\n",
       " array([0.01815198]),\n",
       " array([0.01862297]),\n",
       " array([0.0184956]),\n",
       " array([0.01853125]),\n",
       " array([0.01972459]),\n",
       " array([0.019233]),\n",
       " array([0.01971393]),\n",
       " array([0.01947991]),\n",
       " array([0.02077366]),\n",
       " array([0.02069913]),\n",
       " array([0.02087647]),\n",
       " array([0.02136525]),\n",
       " array([0.02168479]),\n",
       " array([0.02221255]),\n",
       " array([0.02297358]),\n",
       " array([0.02418974]),\n",
       " array([0.02605127]),\n",
       " array([0.02939476]),\n",
       " array([0.03567125]),\n",
       " array([0.04380875]),\n",
       " array([0.04273304]),\n",
       " array([0.03918601]),\n",
       " array([0.03780047]),\n",
       " array([0.03600097]),\n",
       " array([0.03770085]),\n",
       " array([0.03324488]),\n",
       " array([0.03319428]),\n",
       " array([0.03114839]),\n",
       " array([0.03143581]),\n",
       " array([0.03154632]),\n",
       " array([0.03038188]),\n",
       " array([0.02850955]),\n",
       " array([0.02679506]),\n",
       " array([0.02717982]),\n",
       " array([0.02918272]),\n",
       " array([0.02855544]),\n",
       " array([0.02833922]),\n",
       " array([0.02836513]),\n",
       " array([0.02892347]),\n",
       " array([0.02908313]),\n",
       " array([0.02919021]),\n",
       " array([0.0292875]),\n",
       " array([0.02932378]),\n",
       " array([0.02932304]),\n",
       " array([0.02925743]),\n",
       " array([0.02907598]),\n",
       " array([0.02869937])]"
      ]
     },
     "execution_count": 20,
     "metadata": {},
     "output_type": "execute_result"
    }
   ],
   "source": [
    "T.testJ"
   ]
  },
  {
   "cell_type": "code",
   "execution_count": 21,
   "metadata": {},
   "outputs": [
    {
     "data": {
      "text/plain": [
       "0.10411302962124112"
      ]
     },
     "execution_count": 21,
     "metadata": {},
     "output_type": "execute_result"
    }
   ],
   "source": [
    "from sklearn.metrics import mean_absolute_error\n",
    "mean_absolute_error(T.J, T.testJ)"
   ]
  },
  {
   "cell_type": "code",
   "execution_count": 22,
   "metadata": {},
   "outputs": [],
   "source": [
    "yHat = NN.forward(X)"
   ]
  },
  {
   "cell_type": "code",
   "execution_count": 23,
   "metadata": {},
   "outputs": [
    {
     "data": {
      "text/plain": [
       "array([[0.1577318 ],\n",
       "       [0.13765783],\n",
       "       [0.19880679],\n",
       "       [0.23304277],\n",
       "       [0.25663598],\n",
       "       [0.39109919],\n",
       "       [0.39220325],\n",
       "       [0.33839773],\n",
       "       [0.34147269],\n",
       "       [0.41451082],\n",
       "       [0.42936355],\n",
       "       [0.25043139],\n",
       "       [0.22566565],\n",
       "       [0.19121196],\n",
       "       [0.28389663],\n",
       "       [0.24375238],\n",
       "       [0.16607918],\n",
       "       [0.18841865],\n",
       "       [0.17806177],\n",
       "       [0.14979359],\n",
       "       [0.25886308],\n",
       "       [0.25361319],\n",
       "       [0.24177658],\n",
       "       [0.23270913],\n",
       "       [0.23915694],\n",
       "       [0.22468294],\n",
       "       [0.23324208],\n",
       "       [0.22472339],\n",
       "       [0.24246131],\n",
       "       [0.24100862],\n",
       "       [0.22529497],\n",
       "       [0.31785606],\n",
       "       [0.30189196],\n",
       "       [0.30612573],\n",
       "       [0.23043678],\n",
       "       [0.32891319],\n",
       "       [0.38092676],\n",
       "       [0.40005272],\n",
       "       [0.50404931],\n",
       "       [0.47612826],\n",
       "       [0.62165926],\n",
       "       [0.6258798 ],\n",
       "       [0.72425353],\n",
       "       [0.76328092],\n",
       "       [0.55534802],\n",
       "       [0.47940729],\n",
       "       [0.40753563],\n",
       "       [0.38768978],\n",
       "       [0.52040441],\n",
       "       [0.49694765],\n",
       "       [0.59913933],\n",
       "       [0.51288363],\n",
       "       [0.38959919],\n",
       "       [0.52300632],\n",
       "       [0.47695514],\n",
       "       [0.44832838],\n",
       "       [0.44842859],\n",
       "       [0.42243436],\n",
       "       [0.30868076]])"
      ]
     },
     "execution_count": 23,
     "metadata": {},
     "output_type": "execute_result"
    }
   ],
   "source": [
    "yHat"
   ]
  },
  {
   "cell_type": "code",
   "execution_count": 24,
   "metadata": {},
   "outputs": [
    {
     "data": {
      "text/plain": [
       "array([[0.11211342],\n",
       "       [0.17073406],\n",
       "       [0.2232566 ],\n",
       "       [0.24197469],\n",
       "       [0.36573346],\n",
       "       [0.55255899],\n",
       "       [0.37002352],\n",
       "       [0.3325317 ],\n",
       "       [0.38788752],\n",
       "       [0.39836394],\n",
       "       [0.2848263 ],\n",
       "       [0.18673502],\n",
       "       [0.18269477],\n",
       "       [0.255617  ],\n",
       "       [0.23597043],\n",
       "       [0.16413413],\n",
       "       [0.17817663],\n",
       "       [0.1639561 ],\n",
       "       [0.13324148],\n",
       "       [0.22639902],\n",
       "       [0.25501386],\n",
       "       [0.23708614],\n",
       "       [0.23165112],\n",
       "       [0.23306761],\n",
       "       [0.22117372],\n",
       "       [0.22633168],\n",
       "       [0.21869864],\n",
       "       [0.2320322 ],\n",
       "       [0.23194795],\n",
       "       [0.22154782],\n",
       "       [0.28795858],\n",
       "       [0.28837327],\n",
       "       [0.29714576],\n",
       "       [0.24366982],\n",
       "       [0.30743731],\n",
       "       [0.35859786],\n",
       "       [0.37218122],\n",
       "       [0.45025948],\n",
       "       [0.44309563],\n",
       "       [0.55815598],\n",
       "       [0.60235983],\n",
       "       [0.69629172],\n",
       "       [0.79060467],\n",
       "       [0.64402223],\n",
       "       [0.58322864],\n",
       "       [0.48171501],\n",
       "       [0.44281211],\n",
       "       [0.49627058],\n",
       "       [0.47546339],\n",
       "       [0.55155979],\n",
       "       [0.50099435],\n",
       "       [0.44545859],\n",
       "       [0.50571167],\n",
       "       [0.46588904],\n",
       "       [0.46785659],\n",
       "       [0.45300142],\n",
       "       [0.43741172],\n",
       "       [0.3506737 ],\n",
       "       [0.36403131]])"
      ]
     },
     "execution_count": 24,
     "metadata": {},
     "output_type": "execute_result"
    }
   ],
   "source": [
    "y"
   ]
  },
  {
   "cell_type": "code",
   "execution_count": 25,
   "metadata": {},
   "outputs": [
    {
     "data": {
      "text/plain": [
       "0.0034770278944031827"
      ]
     },
     "execution_count": 25,
     "metadata": {},
     "output_type": "execute_result"
    }
   ],
   "source": [
    "from sklearn.metrics import mean_squared_error \n",
    "mean_squared_error(y,yHat) "
   ]
  },
  {
   "cell_type": "code",
   "execution_count": 26,
   "metadata": {},
   "outputs": [
    {
     "data": {
      "image/png": "[encoded data removed]",
      "text/plain": [
       "<Figure size 432x288 with 1 Axes>"
      ]
     },
     "metadata": {
      "needs_background": "light"
     },
     "output_type": "display_data"
    }
   ],
   "source": [
    "#Plot cost during training:\n",
    "plot.plot(y)\n",
    "plot.plot(yHat)\n",
    "plot.grid(1)\n",
    "plot.legend(['y', 'yHat'])\n",
    "plot.show()"
   ]
  },
  {
   "cell_type": "code",
   "execution_count": 27,
   "metadata": {},
   "outputs": [],
   "source": [
    "#Regularization Parameter:\n",
    "Lambda = 0.0001"
   ]
  },
  {
   "cell_type": "code",
   "execution_count": 28,
   "metadata": {},
   "outputs": [],
   "source": [
    "#Need to make changes to costFunction and costFunctionPrim:\n",
    "def costFunction(self, X, y):\n",
    "    #Compute cost for given X,y, use weights already stored in class.\n",
    "    self.yHat = self.forward(X)\n",
    "    #We don't want cost to increase with the number of examples, so normalize by dividing the error term by number of examples(X.shape[0])\n",
    "    J = 0.5*sum((y-self.yHat)**2)/X.shape[0] + (self.Lambda/2)*(sum(self.W1**2)+sum(self.W2**2))\n",
    "    return J\n",
    "\n",
    "def costFunctionPrime(self, X, y):\n",
    "    #Compute derivative with respect to W and W2 for a given X and y:\n",
    "    self.yHat = self.forward(X)\n",
    "\n",
    "    delta3 = np.multiply(-(y-self.yHat), self.sigmoidPrime(self.z3))\n",
    "    #Add gradient of regularization term:\n",
    "    dJdW2 = np.dot(self.a2.T, delta3)/X.shape[0] + self.Lambda*self.W2\n",
    "\n",
    "    delta2 = np.dot(delta3, self.W2.T)*self.sigmoidPrime(self.z2)\n",
    "    #Add gradient of regularization term:\n",
    "    dJdW1 = np.dot(X.T, delta2)/X.shape[0] + self.Lambda*self.W1\n",
    "\n",
    "    return dJdW1, dJdW2"
   ]
  },
  {
   "cell_type": "code",
   "execution_count": 29,
   "metadata": {},
   "outputs": [],
   "source": [
    "#New complete class, with changes:\n",
    "class Neural_Network(object):\n",
    "    def __init__(self, Lambda=0.0001):        \n",
    "        #Define Hyperparameters\n",
    "        self.inputLayerSize = 3\n",
    "        self.outputLayerSize = 1\n",
    "        self.hiddenLayerSize = 4\n",
    "        \n",
    "        #Weights (parameters)\n",
    "        self.W1 = np.random.randn(self.inputLayerSize,self.hiddenLayerSize)\n",
    "        self.W2 = np.random.randn(self.hiddenLayerSize,self.outputLayerSize)\n",
    "        \n",
    "        #Regularization Parameter:\n",
    "        self.Lambda = Lambda\n",
    "        \n",
    "    def forward(self, X):\n",
    "        #Propogate inputs though network\n",
    "        self.z2 = np.dot(X, self.W1)\n",
    "        self.a2 = self.sigmoid(self.z2)\n",
    "        self.z3 = np.dot(self.a2, self.W2)\n",
    "        yHat = self.sigmoid(self.z3) \n",
    "        return yHat\n",
    "        \n",
    "    def sigmoid(self, z):\n",
    "        #Apply sigmoid activation function to scalar, vector, or matrix\n",
    "        return 1/(1+np.exp(-z))\n",
    "    \n",
    "    def sigmoidPrime(self,z):\n",
    "        #Gradient of sigmoid\n",
    "        return np.exp(-z)/((1+np.exp(-z))**2)\n",
    "    \n",
    "    def costFunction(self, X, y):\n",
    "        #Compute cost for given X,y, use weights already stored in class.\n",
    "        self.yHat = self.forward(X)\n",
    "        J = 0.5*sum((y-self.yHat)**2)/X.shape[0] + (self.Lambda/2)*(np.sum(self.W1**2)+np.sum(self.W2**2))\n",
    "        return J\n",
    "        \n",
    "    def costFunctionPrime(self, X, y):\n",
    "        #Compute derivative with respect to W and W2 for a given X and y:\n",
    "        self.yHat = self.forward(X)\n",
    "        \n",
    "        delta3 = np.multiply(-(y-self.yHat), self.sigmoidPrime(self.z3))\n",
    "        #Add gradient of regularization term:\n",
    "        dJdW2 = np.dot(self.a2.T, delta3)/X.shape[0] + self.Lambda*self.W2\n",
    "        \n",
    "        delta2 = np.dot(delta3, self.W2.T)*self.sigmoidPrime(self.z2)\n",
    "        #Add gradient of regularization term:\n",
    "        dJdW1 = np.dot(X.T, delta2)/X.shape[0] + self.Lambda*self.W1\n",
    "        \n",
    "        return dJdW1, dJdW2\n",
    "    \n",
    "    def predict(self):\n",
    "        prediksi = self.forward(dataprediksi)\n",
    "        return prediksi\n",
    "    \n",
    "    #Helper functions for interacting with other methods/classes\n",
    "    def getParams(self):\n",
    "        #Get W1 and W2 Rolled into vector:\n",
    "        params = np.concatenate((self.W1.ravel(), self.W2.ravel()))\n",
    "        return params\n",
    "    \n",
    "    def setParams(self, params):\n",
    "        #Set W1 and W2 using single parameter vector:\n",
    "        W1_start = 0\n",
    "        W1_end = self.hiddenLayerSize*self.inputLayerSize\n",
    "        self.W1 = np.reshape(params[W1_start:W1_end], \\\n",
    "                             (self.inputLayerSize, self.hiddenLayerSize))\n",
    "        W2_end = W1_end + self.hiddenLayerSize*self.outputLayerSize\n",
    "        self.W2 = np.reshape(params[W1_end:W2_end], \\\n",
    "                             (self.hiddenLayerSize, self.outputLayerSize))\n",
    "        \n",
    "    def computeGradients(self, X, y):\n",
    "        dJdW1, dJdW2 = self.costFunctionPrime(X, y)\n",
    "        return np.concatenate((dJdW1.ravel(), dJdW2.ravel()))"
   ]
  },
  {
   "cell_type": "code",
   "execution_count": 30,
   "metadata": {},
   "outputs": [],
   "source": [
    "def computeNumericalGradient(N, X, y):\n",
    "    paramsInitial = N.getParams()\n",
    "    numgrad = np.zeros(paramsInitial.shape)\n",
    "    perturb = np.zeros(paramsInitial.shape)\n",
    "    e = 1e-4\n",
    "\n",
    "    for p in range(len(paramsInitial)):\n",
    "        #Set perturbation vector\n",
    "        perturb[p] = e\n",
    "        N.setParams(paramsInitial + perturb)\n",
    "        loss2 = N.costFunction(X, y)\n",
    "            \n",
    "        N.setParams(paramsInitial - perturb)\n",
    "        loss1 = N.costFunction(X, y)\n",
    "\n",
    "        #Compute Numerical Gradient\n",
    "        numgrad[p] = (loss2 - loss1) / (2*e)\n",
    "\n",
    "            #Return the value we changed to zero:\n",
    "        perturb[p] = 0\n",
    "            \n",
    "    #Return Params to original value:\n",
    "    N.setParams(paramsInitial)\n",
    "\n",
    "    return numgrad "
   ]
  },
  {
   "cell_type": "code",
   "execution_count": 31,
   "metadata": {},
   "outputs": [],
   "source": [
    "NN = Neural_Network(Lambda=0.0001)"
   ]
  },
  {
   "cell_type": "code",
   "execution_count": 32,
   "metadata": {},
   "outputs": [],
   "source": [
    "#Make sure our gradients our correct after making changes:\n",
    "numgrad = computeNumericalGradient(NN, X, y)\n",
    "grad = NN.computeGradients(X,y)"
   ]
  },
  {
   "cell_type": "code",
   "execution_count": 33,
   "metadata": {},
   "outputs": [
    {
     "data": {
      "text/plain": [
       "7.995143578522463e-11"
      ]
     },
     "execution_count": 33,
     "metadata": {},
     "output_type": "execute_result"
    }
   ],
   "source": [
    "#Should be less than 1e-8:\n",
    "np.linalg.norm(grad-numgrad)/np.linalg.norm(grad+numgrad)"
   ]
  },
  {
   "cell_type": "code",
   "execution_count": 34,
   "metadata": {},
   "outputs": [],
   "source": [
    "T = trainer(NN)"
   ]
  },
  {
   "cell_type": "code",
   "execution_count": 35,
   "metadata": {},
   "outputs": [
    {
     "name": "stdout",
     "output_type": "stream",
     "text": [
      "Optimization terminated successfully.\n",
      "         Current function value: 0.003807\n",
      "         Iterations: 99\n",
      "         Function evaluations: 108\n",
      "         Gradient evaluations: 108\n"
     ]
    }
   ],
   "source": [
    "T.train(X,y,testX,testY)"
   ]
  },
  {
   "cell_type": "code",
   "execution_count": 36,
   "metadata": {},
   "outputs": [
    {
     "data": {
      "image/png": "[encoded data removed]",
      "text/plain": [
       "<Figure size 432x288 with 1 Axes>"
      ]
     },
     "metadata": {
      "needs_background": "light"
     },
     "output_type": "display_data"
    }
   ],
   "source": [
    "plot.plot(T.J)\n",
    "plot.plot(T.testJ)\n",
    "plot.grid(1)\n",
    "plot.xlabel('Iterations')\n",
    "plot.ylabel('Cost')\n",
    "plot.legend(['Training', 'Testing'])\n",
    "plot.show()"
   ]
  },
  {
   "cell_type": "code",
   "execution_count": 37,
   "metadata": {},
   "outputs": [
    {
     "data": {
      "text/plain": [
       "[array([0.01369194]),\n",
       " array([0.01319936]),\n",
       " array([0.01316591]),\n",
       " array([0.01314622]),\n",
       " array([0.01298349]),\n",
       " array([0.01270248]),\n",
       " array([0.01220523]),\n",
       " array([0.01133685]),\n",
       " array([0.00990422]),\n",
       " array([0.00770498]),\n",
       " array([0.00615143]),\n",
       " array([0.00610996]),\n",
       " array([0.00603568]),\n",
       " array([0.00594881]),\n",
       " array([0.00594132]),\n",
       " array([0.00592728]),\n",
       " array([0.00590054]),\n",
       " array([0.00584969]),\n",
       " array([0.00575404]),\n",
       " array([0.00557757]),\n",
       " array([0.00526078]),\n",
       " array([0.0047505]),\n",
       " array([0.00459039]),\n",
       " array([0.00449209]),\n",
       " array([0.00432323]),\n",
       " array([0.00419896]),\n",
       " array([0.00415805]),\n",
       " array([0.00413329]),\n",
       " array([0.00412406]),\n",
       " array([0.00412302]),\n",
       " array([0.0041227]),\n",
       " array([0.00412245]),\n",
       " array([0.00412205]),\n",
       " array([0.00412134]),\n",
       " array([0.00412006]),\n",
       " array([0.0041177]),\n",
       " array([0.00411334]),\n",
       " array([0.0041054]),\n",
       " array([0.00409128]),\n",
       " array([0.00406731]),\n",
       " array([0.00403059]),\n",
       " array([0.00399511]),\n",
       " array([0.00396457]),\n",
       " array([0.00392356]),\n",
       " array([0.00390584]),\n",
       " array([0.00388248]),\n",
       " array([0.00387011]),\n",
       " array([0.00386814]),\n",
       " array([0.00386754]),\n",
       " array([0.00386733]),\n",
       " array([0.00386726]),\n",
       " array([0.00386723]),\n",
       " array([0.00386717]),\n",
       " array([0.00386705]),\n",
       " array([0.00386683]),\n",
       " array([0.00386642]),\n",
       " array([0.00386567]),\n",
       " array([0.00386432]),\n",
       " array([0.00386206]),\n",
       " array([0.0038585]),\n",
       " array([0.003853]),\n",
       " array([0.00384439]),\n",
       " array([0.00383156]),\n",
       " array([0.00382079]),\n",
       " array([0.00381705]),\n",
       " array([0.00381658]),\n",
       " array([0.00381656]),\n",
       " array([0.00381656]),\n",
       " array([0.00381655]),\n",
       " array([0.00381654]),\n",
       " array([0.00381653]),\n",
       " array([0.0038165]),\n",
       " array([0.00381645]),\n",
       " array([0.00381635]),\n",
       " array([0.00381617]),\n",
       " array([0.00381585]),\n",
       " array([0.00381534]),\n",
       " array([0.00381452]),\n",
       " array([0.00381329]),\n",
       " array([0.00381174]),\n",
       " array([0.0038102]),\n",
       " array([0.00380954]),\n",
       " array([0.00380944]),\n",
       " array([0.00380944]),\n",
       " array([0.00380943]),\n",
       " array([0.00380943]),\n",
       " array([0.00380943]),\n",
       " array([0.00380943]),\n",
       " array([0.00380942]),\n",
       " array([0.0038094]),\n",
       " array([0.00380938]),\n",
       " array([0.00380933]),\n",
       " array([0.00380926]),\n",
       " array([0.00380914]),\n",
       " array([0.00380894]),\n",
       " array([0.00380861]),\n",
       " array([0.00380809]),\n",
       " array([0.00380757]),\n",
       " array([0.00380739])]"
      ]
     },
     "execution_count": 37,
     "metadata": {},
     "output_type": "execute_result"
    }
   ],
   "source": [
    "T.J"
   ]
  },
  {
   "cell_type": "code",
   "execution_count": 38,
   "metadata": {},
   "outputs": [
    {
     "data": {
      "text/plain": [
       "[array([0.01216331]),\n",
       " array([0.00861222]),\n",
       " array([0.00780165]),\n",
       " array([0.00759295]),\n",
       " array([0.00652732]),\n",
       " array([0.00536028]),\n",
       " array([0.00410867]),\n",
       " array([0.00284717]),\n",
       " array([0.00195484]),\n",
       " array([0.00195833]),\n",
       " array([0.00267279]),\n",
       " array([0.00271989]),\n",
       " array([0.00274443]),\n",
       " array([0.00293975]),\n",
       " array([0.00299249]),\n",
       " array([0.00304498]),\n",
       " array([0.00310434]),\n",
       " array([0.00317668]),\n",
       " array([0.00326307]),\n",
       " array([0.00334291]),\n",
       " array([0.00331417]),\n",
       " array([0.00294386]),\n",
       " array([0.00305061]),\n",
       " array([0.00276834]),\n",
       " array([0.00262455]),\n",
       " array([0.00246901]),\n",
       " array([0.0024669]),\n",
       " array([0.00255842]),\n",
       " array([0.00251792]),\n",
       " array([0.00250748]),\n",
       " array([0.00250837]),\n",
       " array([0.00251154]),\n",
       " array([0.00251674]),\n",
       " array([0.00252206]),\n",
       " array([0.00252796]),\n",
       " array([0.00253483]),\n",
       " array([0.0025433]),\n",
       " array([0.00255362]),\n",
       " array([0.00256575]),\n",
       " array([0.00258031]),\n",
       " array([0.0026063]),\n",
       " array([0.00264253]),\n",
       " array([0.00265312]),\n",
       " array([0.00267742]),\n",
       " array([0.0026467]),\n",
       " array([0.00257194]),\n",
       " array([0.00249834]),\n",
       " array([0.00249805]),\n",
       " array([0.00250644]),\n",
       " array([0.0025047]),\n",
       " array([0.00250209]),\n",
       " array([0.00250092]),\n",
       " array([0.0024997]),\n",
       " array([0.00249815]),\n",
       " array([0.00249595]),\n",
       " array([0.00249265]),\n",
       " array([0.0024875]),\n",
       " array([0.0024794]),\n",
       " array([0.00246694]),\n",
       " array([0.0024492]),\n",
       " array([0.00242828]),\n",
       " array([0.00240998]),\n",
       " array([0.00240219]),\n",
       " array([0.00241747]),\n",
       " array([0.00243542]),\n",
       " array([0.00244036]),\n",
       " array([0.00243934]),\n",
       " array([0.00243895]),\n",
       " array([0.00243812]),\n",
       " array([0.00243746]),\n",
       " array([0.00243668]),\n",
       " array([0.00243575]),\n",
       " array([0.00243451]),\n",
       " array([0.00243279]),\n",
       " array([0.00243035]),\n",
       " array([0.00242697]),\n",
       " array([0.00242263]),\n",
       " array([0.00241824]),\n",
       " array([0.00241688]),\n",
       " array([0.00242317]),\n",
       " array([0.00243845]),\n",
       " array([0.00245041]),\n",
       " array([0.00245283]),\n",
       " array([0.00245231]),\n",
       " array([0.0024521]),\n",
       " array([0.00245189]),\n",
       " array([0.00245163]),\n",
       " array([0.00245128]),\n",
       " array([0.00245076]),\n",
       " array([0.00244996]),\n",
       " array([0.0024487]),\n",
       " array([0.00244671]),\n",
       " array([0.0024437]),\n",
       " array([0.00243952]),\n",
       " array([0.00243439]),\n",
       " array([0.0024286]),\n",
       " array([0.00242277]),\n",
       " array([0.00242088]),\n",
       " array([0.00242491])]"
      ]
     },
     "execution_count": 38,
     "metadata": {},
     "output_type": "execute_result"
    }
   ],
   "source": [
    "T.testJ"
   ]
  },
  {
   "cell_type": "code",
   "execution_count": 39,
   "metadata": {},
   "outputs": [
    {
     "data": {
      "text/plain": [
       "0.002059886814217764"
      ]
     },
     "execution_count": 39,
     "metadata": {},
     "output_type": "execute_result"
    }
   ],
   "source": [
    "from sklearn.metrics import mean_absolute_error\n",
    "mean_absolute_error(T.J, T.testJ)"
   ]
  },
  {
   "cell_type": "code",
   "execution_count": 40,
   "metadata": {},
   "outputs": [],
   "source": [
    "yHat=NN.forward(X)"
   ]
  },
  {
   "cell_type": "code",
   "execution_count": 41,
   "metadata": {},
   "outputs": [
    {
     "data": {
      "text/plain": [
       "array([[0.18520929],\n",
       "       [0.17786306],\n",
       "       [0.2097531 ],\n",
       "       [0.2428772 ],\n",
       "       [0.26283782],\n",
       "       [0.34737542],\n",
       "       [0.48345814],\n",
       "       [0.39477167],\n",
       "       [0.36178281],\n",
       "       [0.38210467],\n",
       "       [0.39277598],\n",
       "       [0.32246692],\n",
       "       [0.24945576],\n",
       "       [0.23091104],\n",
       "       [0.26798507],\n",
       "       [0.26322097],\n",
       "       [0.22341856],\n",
       "       [0.22345422],\n",
       "       [0.21293172],\n",
       "       [0.19606535],\n",
       "       [0.24406383],\n",
       "       [0.26884216],\n",
       "       [0.26650926],\n",
       "       [0.26309371],\n",
       "       [0.26231012],\n",
       "       [0.25493309],\n",
       "       [0.25692088],\n",
       "       [0.25214605],\n",
       "       [0.25970835],\n",
       "       [0.26055281],\n",
       "       [0.25506781],\n",
       "       [0.29514177],\n",
       "       [0.30189343],\n",
       "       [0.31188964],\n",
       "       [0.27879682],\n",
       "       [0.31426813],\n",
       "       [0.35136318],\n",
       "       [0.37040214],\n",
       "       [0.42691584],\n",
       "       [0.43185679],\n",
       "       [0.50802774],\n",
       "       [0.54443244],\n",
       "       [0.60285518],\n",
       "       [0.65274267],\n",
       "       [0.6007515 ],\n",
       "       [0.56195163],\n",
       "       [0.48853157],\n",
       "       [0.44911588],\n",
       "       [0.47222577],\n",
       "       [0.46238282],\n",
       "       [0.5102826 ],\n",
       "       [0.48637778],\n",
       "       [0.45085652],\n",
       "       [0.47963224],\n",
       "       [0.4574993 ],\n",
       "       [0.45834101],\n",
       "       [0.44642836],\n",
       "       [0.43482348],\n",
       "       [0.37477403]])"
      ]
     },
     "execution_count": 41,
     "metadata": {},
     "output_type": "execute_result"
    }
   ],
   "source": [
    "yHat"
   ]
  },
  {
   "cell_type": "code",
   "execution_count": 42,
   "metadata": {},
   "outputs": [
    {
     "data": {
      "text/plain": [
       "array([[0.11211342],\n",
       "       [0.17073406],\n",
       "       [0.2232566 ],\n",
       "       [0.24197469],\n",
       "       [0.36573346],\n",
       "       [0.55255899],\n",
       "       [0.37002352],\n",
       "       [0.3325317 ],\n",
       "       [0.38788752],\n",
       "       [0.39836394],\n",
       "       [0.2848263 ],\n",
       "       [0.18673502],\n",
       "       [0.18269477],\n",
       "       [0.255617  ],\n",
       "       [0.23597043],\n",
       "       [0.16413413],\n",
       "       [0.17817663],\n",
       "       [0.1639561 ],\n",
       "       [0.13324148],\n",
       "       [0.22639902],\n",
       "       [0.25501386],\n",
       "       [0.23708614],\n",
       "       [0.23165112],\n",
       "       [0.23306761],\n",
       "       [0.22117372],\n",
       "       [0.22633168],\n",
       "       [0.21869864],\n",
       "       [0.2320322 ],\n",
       "       [0.23194795],\n",
       "       [0.22154782],\n",
       "       [0.28795858],\n",
       "       [0.28837327],\n",
       "       [0.29714576],\n",
       "       [0.24366982],\n",
       "       [0.30743731],\n",
       "       [0.35859786],\n",
       "       [0.37218122],\n",
       "       [0.45025948],\n",
       "       [0.44309563],\n",
       "       [0.55815598],\n",
       "       [0.60235983],\n",
       "       [0.69629172],\n",
       "       [0.79060467],\n",
       "       [0.64402223],\n",
       "       [0.58322864],\n",
       "       [0.48171501],\n",
       "       [0.44281211],\n",
       "       [0.49627058],\n",
       "       [0.47546339],\n",
       "       [0.55155979],\n",
       "       [0.50099435],\n",
       "       [0.44545859],\n",
       "       [0.50571167],\n",
       "       [0.46588904],\n",
       "       [0.46785659],\n",
       "       [0.45300142],\n",
       "       [0.43741172],\n",
       "       [0.3506737 ],\n",
       "       [0.36403131]])"
      ]
     },
     "execution_count": 42,
     "metadata": {},
     "output_type": "execute_result"
    }
   ],
   "source": [
    "y"
   ]
  },
  {
   "cell_type": "code",
   "execution_count": 43,
   "metadata": {},
   "outputs": [
    {
     "data": {
      "text/plain": [
       "0.004661053523192858"
      ]
     },
     "execution_count": 43,
     "metadata": {},
     "output_type": "execute_result"
    }
   ],
   "source": [
    "from sklearn.metrics import mean_squared_error \n",
    "mean_squared_error(y,yHat) "
   ]
  },
  {
   "cell_type": "code",
   "execution_count": 44,
   "metadata": {},
   "outputs": [
    {
     "data": {
      "image/png": "[encoded data removed]",
      "text/plain": [
       "<Figure size 432x288 with 1 Axes>"
      ]
     },
     "metadata": {
      "needs_background": "light"
     },
     "output_type": "display_data"
    }
   ],
   "source": [
    "#Plot cost during training:\n",
    "plot.plot(y)\n",
    "plot.plot(yHat)\n",
    "plot.grid(1)\n",
    "plot.legend(['y', 'yHat'])\n",
    "plot.show()"
   ]
  },
  {
   "cell_type": "code",
   "execution_count": 45,
   "metadata": {},
   "outputs": [],
   "source": [
    "prediksi=NN.forward(dataprediksi)"
   ]
  },
  {
   "cell_type": "code",
   "execution_count": 46,
   "metadata": {},
   "outputs": [
    {
     "data": {
      "text/plain": [
       "array([[0.37283454],\n",
       "       [0.61835725],\n",
       "       [0.7180673 ],\n",
       "       [0.64961557]])"
      ]
     },
     "execution_count": 46,
     "metadata": {},
     "output_type": "execute_result"
    }
   ],
   "source": [
    "prediksi"
   ]
  },
  {
   "cell_type": "code",
   "execution_count": 47,
   "metadata": {},
   "outputs": [],
   "source": [
    "from sklearn.metrics import mean_squared_error "
   ]
  },
  {
   "cell_type": "code",
   "execution_count": 48,
   "metadata": {},
   "outputs": [
    {
     "data": {
      "text/plain": [
       "0.08731071610344987"
      ]
     },
     "execution_count": 48,
     "metadata": {},
     "output_type": "execute_result"
    }
   ],
   "source": [
    "Y_true= ([\t0.795380412\t]\t,\n",
    "[\t1\t]\t,\n",
    "[\t0.707681705\t]\t,\n",
    "[\t0.491695324\t]\t,\n",
    "\t)\n",
    "\n",
    "\n",
    "Y_pred=prediksi\n",
    "mean_squared_error(Y_true,Y_pred) "
   ]
  },
  {
   "cell_type": "code",
   "execution_count": 49,
   "metadata": {},
   "outputs": [
    {
     "data": {
      "text/plain": [
       "array([[0.43741172, 0.3506737 , 0.36403131],\n",
       "       [0.3506737 , 0.36403131, 0.79538041],\n",
       "       [0.36403131, 0.79538041, 1.        ],\n",
       "       [0.79538041, 1.        , 0.70768171]])"
      ]
     },
     "execution_count": 49,
     "metadata": {},
     "output_type": "execute_result"
    }
   ],
   "source": [
    "dataprediksi"
   ]
  },
  {
   "cell_type": "code",
   "execution_count": 50,
   "metadata": {},
   "outputs": [],
   "source": [
    "a=np.array([\t1\t,\t0.707681705\t,\t0.491695324\t])"
   ]
  },
  {
   "cell_type": "code",
   "execution_count": 51,
   "metadata": {},
   "outputs": [
    {
     "data": {
      "text/plain": [
       "array([0.52909])"
      ]
     },
     "execution_count": 51,
     "metadata": {},
     "output_type": "execute_result"
    }
   ],
   "source": [
    "#prediksi 1\n",
    "prediksi=NN.forward(a)\n",
    "prediksi"
   ]
  },
  {
   "cell_type": "code",
   "execution_count": 52,
   "metadata": {},
   "outputs": [
    {
     "data": {
      "text/plain": [
       "array([0.51162379])"
      ]
     },
     "execution_count": 52,
     "metadata": {},
     "output_type": "execute_result"
    }
   ],
   "source": [
    "#prediksi 2\n",
    "c=prediksi\n",
    "b=a[1:]\n",
    "d=np.concatenate((b,c))\n",
    "prediksi=NN.forward(d)\n",
    "prediksi"
   ]
  },
  {
   "cell_type": "code",
   "execution_count": 53,
   "metadata": {},
   "outputs": [
    {
     "data": {
      "text/plain": [
       "array([0.49155088])"
      ]
     },
     "execution_count": 53,
     "metadata": {},
     "output_type": "execute_result"
    }
   ],
   "source": [
    "#prediksi 3\n",
    "c=prediksi\n",
    "b=d[1:]\n",
    "e=np.concatenate((b,c))\n",
    "prediksi=NN.forward(e)\n",
    "prediksi"
   ]
  },
  {
   "cell_type": "code",
   "execution_count": 54,
   "metadata": {},
   "outputs": [
    {
     "data": {
      "text/plain": [
       "array([0.47970486])"
      ]
     },
     "execution_count": 54,
     "metadata": {},
     "output_type": "execute_result"
    }
   ],
   "source": [
    "#prediksi 4\n",
    "c=prediksi\n",
    "b=e[1:]\n",
    "f=np.concatenate((b,c))\n",
    "prediksi=NN.forward(f)\n",
    "prediksi"
   ]
  },
  {
   "cell_type": "code",
   "execution_count": 55,
   "metadata": {},
   "outputs": [
    {
     "data": {
      "text/plain": [
       "array([0.46901506])"
      ]
     },
     "execution_count": 55,
     "metadata": {},
     "output_type": "execute_result"
    }
   ],
   "source": [
    "#prediksi 5\n",
    "c=prediksi\n",
    "b=f[1:]\n",
    "g=np.concatenate((b,c))\n",
    "prediksi=NN.forward(g)\n",
    "prediksi"
   ]
  },
  {
   "cell_type": "code",
   "execution_count": 56,
   "metadata": {},
   "outputs": [
    {
     "data": {
      "text/plain": [
       "array([0.45966108])"
      ]
     },
     "execution_count": 56,
     "metadata": {},
     "output_type": "execute_result"
    }
   ],
   "source": [
    "#prediksi 6\n",
    "c=prediksi\n",
    "b=g[1:]\n",
    "h=np.concatenate((b,c))\n",
    "prediksi=NN.forward(h)\n",
    "prediksi"
   ]
  },
  {
   "cell_type": "code",
   "execution_count": 57,
   "metadata": {},
   "outputs": [
    {
     "data": {
      "text/plain": [
       "array([0.45369328])"
      ]
     },
     "execution_count": 57,
     "metadata": {},
     "output_type": "execute_result"
    }
   ],
   "source": [
    "#prediksi 7\n",
    "c=prediksi\n",
    "b=g[1:]\n",
    "i=np.concatenate((b,c))\n",
    "prediksi=NN.forward(i)\n",
    "prediksi"
   ]
  },
  {
   "cell_type": "code",
   "execution_count": 58,
   "metadata": {},
   "outputs": [
    {
     "data": {
      "text/plain": [
       "array([0.4498667])"
      ]
     },
     "execution_count": 58,
     "metadata": {},
     "output_type": "execute_result"
    }
   ],
   "source": [
    "#prediksi 8\n",
    "c=prediksi\n",
    "b=g[1:]\n",
    "j=np.concatenate((b,c))\n",
    "prediksi=NN.forward(j)\n",
    "prediksi"
   ]
  },
  {
   "cell_type": "code",
   "execution_count": 59,
   "metadata": {},
   "outputs": [
    {
     "data": {
      "text/plain": [
       "array([0.44740555])"
      ]
     },
     "execution_count": 59,
     "metadata": {},
     "output_type": "execute_result"
    }
   ],
   "source": [
    "#prediksi 9\n",
    "c=prediksi\n",
    "b=g[1:]\n",
    "k=np.concatenate((b,c))\n",
    "prediksi=NN.forward(k)\n",
    "prediksi"
   ]
  },
  {
   "cell_type": "code",
   "execution_count": 60,
   "metadata": {},
   "outputs": [
    {
     "data": {
      "text/plain": [
       "array([0.4458196])"
      ]
     },
     "execution_count": 60,
     "metadata": {},
     "output_type": "execute_result"
    }
   ],
   "source": [
    "#prediksi 10\n",
    "c=prediksi\n",
    "b=g[1:]\n",
    "l=np.concatenate((b,c))\n",
    "prediksi=NN.forward(l)\n",
    "prediksi"
   ]
  },
  {
   "cell_type": "code",
   "execution_count": 61,
   "metadata": {},
   "outputs": [
    {
     "data": {
      "text/plain": [
       "array([0.44479639])"
      ]
     },
     "execution_count": 61,
     "metadata": {},
     "output_type": "execute_result"
    }
   ],
   "source": [
    "#prediksi 11\n",
    "c=prediksi\n",
    "b=g[1:]\n",
    "m=np.concatenate((b,c))\n",
    "prediksi=NN.forward(m)\n",
    "prediksi"
   ]
  },
  {
   "cell_type": "code",
   "execution_count": 62,
   "metadata": {},
   "outputs": [
    {
     "data": {
      "text/plain": [
       "array([0.44413575])"
      ]
     },
     "execution_count": 62,
     "metadata": {},
     "output_type": "execute_result"
    }
   ],
   "source": [
    "#prediksi 12\n",
    "c=prediksi\n",
    "b=g[1:]\n",
    "n=np.concatenate((b,c))\n",
    "prediksi=NN.forward(n)\n",
    "prediksi"
   ]
  },
  {
   "cell_type": "code",
   "execution_count": null,
   "metadata": {},
   "outputs": [],
   "source": []
  }
 ],
 "metadata": {
  "kernelspec": {
   "display_name": "Python 3",
   "language": "python",
   "name": "python3"
  },
  "language_info": {
   "codemirror_mode": {
    "name": "ipython",
    "version": 3
   },
   "file_extension": ".py",
   "mimetype": "text/x-python",
   "name": "python",
   "nbconvert_exporter": "python",
   "pygments_lexer": "ipython3",
   "version": "3.7.3"
  }
 },
 "nbformat": 4,
 "nbformat_minor": 2
}
