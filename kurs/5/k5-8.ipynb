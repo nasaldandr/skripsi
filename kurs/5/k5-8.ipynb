{
 "cells": [
  {
   "cell_type": "code",
   "execution_count": 1,
   "metadata": {},
   "outputs": [],
   "source": [
    "import numpy as np"
   ]
  },
  {
   "cell_type": "code",
   "execution_count": 2,
   "metadata": {},
   "outputs": [],
   "source": [
    "#UNTUK NILAI IMPOR\n",
    "class Neural_Network(object):\n",
    "    def __init__(self):\n",
    "        #parameters\n",
    "        self.inputLayerSize = 5\n",
    "        self.outputLayerSize = 1\n",
    "        self.hiddenLayerSize = 8\n",
    "\n",
    "        #weights\n",
    "        self.W1 = np.random.randn(self.inputLayerSize,\\\n",
    "                                 self.hiddenLayerSize)  \n",
    "        self.W2 = np.random.randn(self.hiddenLayerSize,\\\n",
    "                                 self.outputLayerSize)  \n",
    "    \n",
    "    def printw(self):\n",
    "        return self.W1\n",
    "        \n",
    "    def weight(self, W1, W2):\n",
    "        #Make an internal variable for the weight:\n",
    "        self.W1 = W1\n",
    "        self.W2 = W2\n",
    "        \n",
    "    def forward(self, X):\n",
    "        #forward propagation through our network\n",
    "        self.z2 = np.dot(X,self.W1)  \n",
    "        self.a2 = self.tanh(self.z2)  # activation function\n",
    "        self.z3 = np.dot(self.a2, self.W2) \n",
    "        yHat = self.tanh(self.z3)  # final activation function\n",
    "        return yHat\n",
    "\n",
    "    def tanh(self, z):\n",
    "        # activation function\n",
    "        return (np.exp(z)-np.exp(-z))/(np.exp(z)+np.exp(-z))\n",
    "    \n",
    "    def tanhPrime(self,z): \n",
    "        #derivative of tanh\n",
    "        return 1-((np.exp(z)-np.exp(-z))/(np.exp(z)+np.exp(-z)))**2\n",
    "    \n",
    "    def costFunction(self,X,y):\n",
    "        self.yHat = self.forward(X)\n",
    "        J=0.5*sum((y-self.yHat)**2)\n",
    "        return J\n",
    "    \n",
    "    def costFunctionPrime(self,X,y):\n",
    "        self.yHat=self.forward(X)\n",
    "        \n",
    "        delta3=np.multiply(-(y-self.yHat),self.tanhPrime(self.z3))\n",
    "        dJdW2=np.dot(self.a2.T,delta3)\n",
    "        \n",
    "        delta2=np.dot(delta3,self.W2.T)*self.tanhPrime(self.z2)\n",
    "        dJdW1=np.dot(X.T,delta2)\n",
    "        return dJdW1,dJdW2\n",
    "    \n",
    "    def predict(self):\n",
    "        prediksi = self.forward(dataprediksi)\n",
    "        return prediksi\n",
    "    \n",
    "    def getParams(self):\n",
    "        params=np.concatenate((self.W1.ravel(),self.W2.ravel()))\n",
    "        return params\n",
    "    \n",
    "    def setParams(self,params):\n",
    "        W1_start=0\n",
    "        W1_end=self.hiddenLayerSize*self.inputLayerSize\n",
    "        self.W1=np.reshape(params[W1_start:W1_end],\\\n",
    "                          (self.inputLayerSize,self.hiddenLayerSize))\n",
    "        W2_end=W1_end+self.hiddenLayerSize*self.outputLayerSize\n",
    "        self.W2=np.reshape(params[W1_end:W2_end],\\\n",
    "                          (self.hiddenLayerSize,self.outputLayerSize))\n",
    "        \n",
    "    def computeGradients(self, X, y):\n",
    "        dJdW1, dJdW2 = self.costFunctionPrime(X, y)\n",
    "        return np.concatenate((dJdW1.ravel(), dJdW2.ravel()))"
   ]
  },
  {
   "cell_type": "code",
   "execution_count": 3,
   "metadata": {},
   "outputs": [],
   "source": [
    "NN = Neural_Network()"
   ]
  },
  {
   "cell_type": "code",
   "execution_count": 4,
   "metadata": {},
   "outputs": [
    {
     "data": {
      "text/plain": [
       "array([[ 7.42393071e-02,  7.68763078e-02,  9.12086449e-01,\n",
       "         4.98727565e-01,  1.15324156e+00, -2.30683878e-01,\n",
       "         9.77857808e-01, -9.21846178e-01],\n",
       "       [ 1.32109331e+00, -4.72562005e-01, -1.25071825e+00,\n",
       "        -1.11103931e+00,  1.41791931e-01, -3.75748380e-01,\n",
       "         4.65659700e-01, -1.46430039e-01],\n",
       "       [ 1.79524802e-01, -3.46698519e-01,  4.11730508e-01,\n",
       "        -4.53118593e-01,  1.18719234e-03,  4.72416838e-01,\n",
       "        -5.54340538e-01, -2.46895901e+00],\n",
       "       [ 1.86937293e+00, -1.66736634e+00, -1.52653028e-01,\n",
       "        -9.74198217e-01, -8.49096971e-04,  5.42693223e-01,\n",
       "        -5.23146591e-01, -4.20759461e-01],\n",
       "       [ 3.64098347e-01, -5.65638154e-01, -8.82171844e-01,\n",
       "         3.89766121e-01,  2.58877787e-01,  2.42136854e-01,\n",
       "         1.65084349e+00, -9.75539647e-01]])"
      ]
     },
     "execution_count": 4,
     "metadata": {},
     "output_type": "execute_result"
    }
   ],
   "source": [
    "NN.W1"
   ]
  },
  {
   "cell_type": "code",
   "execution_count": 5,
   "metadata": {},
   "outputs": [
    {
     "data": {
      "text/plain": [
       "array([[ 0.05487335],\n",
       "       [-1.610515  ],\n",
       "       [ 1.26521144],\n",
       "       [ 1.16797369],\n",
       "       [-0.24390502],\n",
       "       [ 1.12294682],\n",
       "       [-0.27192836],\n",
       "       [ 0.99179053]])"
      ]
     },
     "execution_count": 5,
     "metadata": {},
     "output_type": "execute_result"
    }
   ],
   "source": [
    "NN.W2"
   ]
  },
  {
   "cell_type": "code",
   "execution_count": 6,
   "metadata": {},
   "outputs": [],
   "source": [
    "#KURS\n",
    "X=np.array(([\t0\t,\t0.051924996\t,\t0.148319042\t,\t0.112113419\t,\t0.170734062\t]\t,\n",
    "[\t0.051924996\t,\t0.148319042\t,\t0.112113419\t,\t0.170734062\t,\t0.223256598\t]\t,\n",
    "[\t0.148319042\t,\t0.112113419\t,\t0.170734062\t,\t0.223256598\t,\t0.241974687\t]\t,\n",
    "[\t0.112113419\t,\t0.170734062\t,\t0.223256598\t,\t0.241974687\t,\t0.365733465\t]\t,\n",
    "[\t0.170734062\t,\t0.223256598\t,\t0.241974687\t,\t0.365733465\t,\t0.552558994\t]\t,\n",
    "[\t0.223256598\t,\t0.241974687\t,\t0.365733465\t,\t0.552558994\t,\t0.370023519\t]\t,\n",
    "[\t0.241974687\t,\t0.365733465\t,\t0.552558994\t,\t0.370023519\t,\t0.332531703\t]\t,\n",
    "[\t0.365733465\t,\t0.552558994\t,\t0.370023519\t,\t0.332531703\t,\t0.387887522\t]\t,\n",
    "[\t0.552558994\t,\t0.370023519\t,\t0.332531703\t,\t0.387887522\t,\t0.398363943\t]\t,\n",
    "[\t0.370023519\t,\t0.332531703\t,\t0.387887522\t,\t0.398363943\t,\t0.284826299\t]\t,\n",
    "[\t0.332531703\t,\t0.387887522\t,\t0.398363943\t,\t0.284826299\t,\t0.186735022\t]\t,\n",
    "[\t0.387887522\t,\t0.398363943\t,\t0.284826299\t,\t0.186735022\t,\t0.182694768\t]\t,\n",
    "[\t0.398363943\t,\t0.284826299\t,\t0.186735022\t,\t0.182694768\t,\t0.255617002\t]\t,\n",
    "[\t0.284826299\t,\t0.186735022\t,\t0.182694768\t,\t0.255617002\t,\t0.23597043\t]\t,\n",
    "[\t0.186735022\t,\t0.182694768\t,\t0.255617002\t,\t0.23597043\t,\t0.164134134\t]\t,\n",
    "[\t0.182694768\t,\t0.255617002\t,\t0.23597043\t,\t0.164134134\t,\t0.178176635\t]\t,\n",
    "[\t0.255617002\t,\t0.23597043\t,\t0.164134134\t,\t0.178176635\t,\t0.163956101\t]\t,\n",
    "[\t0.23597043\t,\t0.164134134\t,\t0.178176635\t,\t0.163956101\t,\t0.133241484\t]\t,\n",
    "[\t0.164134134\t,\t0.178176635\t,\t0.163956101\t,\t0.133241484\t,\t0.226399017\t]\t,\n",
    "[\t0.178176635\t,\t0.163956101\t,\t0.133241484\t,\t0.226399017\t,\t0.255013861\t]\t,\n",
    "[\t0.163956101\t,\t0.133241484\t,\t0.226399017\t,\t0.255013861\t,\t0.23708614\t]\t,\n",
    "[\t0.133241484\t,\t0.226399017\t,\t0.255013861\t,\t0.23708614\t,\t0.231651119\t]\t,\n",
    "[\t0.226399017\t,\t0.255013861\t,\t0.23708614\t,\t0.231651119\t,\t0.233067608\t]\t,\n",
    "[\t0.255013861\t,\t0.23708614\t,\t0.231651119\t,\t0.233067608\t,\t0.221173719\t]\t,\n",
    "[\t0.23708614\t,\t0.231651119\t,\t0.233067608\t,\t0.221173719\t,\t0.22633168\t]\t,\n",
    "[\t0.231651119\t,\t0.233067608\t,\t0.221173719\t,\t0.22633168\t,\t0.218698642\t]\t,\n",
    "[\t0.233067608\t,\t0.221173719\t,\t0.22633168\t,\t0.218698642\t,\t0.232032203\t]\t,\n",
    "[\t0.221173719\t,\t0.22633168\t,\t0.218698642\t,\t0.232032203\t,\t0.231947948\t]\t,\n",
    "[\t0.22633168\t,\t0.218698642\t,\t0.232032203\t,\t0.231947948\t,\t0.221547817\t]\t,\n",
    "[\t0.218698642\t,\t0.232032203\t,\t0.231947948\t,\t0.221547817\t,\t0.287958581\t]\t,\n",
    "[\t0.232032203\t,\t0.231947948\t,\t0.221547817\t,\t0.287958581\t,\t0.28837327\t]\t,\n",
    "[\t0.231947948\t,\t0.221547817\t,\t0.287958581\t,\t0.28837327\t,\t0.297145757\t]\t,\n",
    "[\t0.221547817\t,\t0.287958581\t,\t0.28837327\t,\t0.297145757\t,\t0.243669818\t]\t,\n",
    "[\t0.287958581\t,\t0.28837327\t,\t0.297145757\t,\t0.243669818\t,\t0.307437314\t]\t,\n",
    "[\t0.28837327\t,\t0.297145757\t,\t0.243669818\t,\t0.307437314\t,\t0.358597855\t]\t,\n",
    "[\t0.297145757\t,\t0.243669818\t,\t0.307437314\t,\t0.358597855\t,\t0.372181217\t]\t,\n",
    "[\t0.243669818\t,\t0.307437314\t,\t0.358597855\t,\t0.372181217\t,\t0.450259481\t]\t,\n",
    "[\t0.307437314\t,\t0.358597855\t,\t0.372181217\t,\t0.450259481\t,\t0.443095634\t]\t,\n",
    "[\t0.358597855\t,\t0.372181217\t,\t0.450259481\t,\t0.443095634\t,\t0.558155976\t]\t,\n",
    "[\t0.372181217\t,\t0.450259481\t,\t0.443095634\t,\t0.558155976\t,\t0.602359827\t]\t,\n",
    "[\t0.450259481\t,\t0.443095634\t,\t0.558155976\t,\t0.602359827\t,\t0.696291723\t]\t,\n",
    "[\t0.443095634\t,\t0.558155976\t,\t0.602359827\t,\t0.696291723\t,\t0.790604671\t]\t,\n",
    "[\t0.558155976\t,\t0.602359827\t,\t0.696291723\t,\t0.790604671\t,\t0.644022227\t]\t,\n",
    "[\t0.602359827\t,\t0.696291723\t,\t0.790604671\t,\t0.644022227\t,\t0.583228643\t]\t,\n",
    "[\t0.696291723\t,\t0.790604671\t,\t0.644022227\t,\t0.583228643\t,\t0.481715009\t]\t,\n",
    "[\t0.790604671\t,\t0.644022227\t,\t0.583228643\t,\t0.481715009\t,\t0.442812107\t]\t,\n",
    "[\t0.644022227\t,\t0.583228643\t,\t0.481715009\t,\t0.442812107\t,\t0.496270585\t]\t,\n",
    "[\t0.583228643\t,\t0.481715009\t,\t0.442812107\t,\t0.496270585\t,\t0.475463393\t]\t,\n",
    "[\t0.481715009\t,\t0.442812107\t,\t0.496270585\t,\t0.475463393\t,\t0.551559791\t]\t,\n",
    "[\t0.442812107\t,\t0.496270585\t,\t0.475463393\t,\t0.551559791\t,\t0.500994351\t]\t,\n",
    "[\t0.496270585\t,\t0.475463393\t,\t0.551559791\t,\t0.500994351\t,\t0.445458587\t]\t,\n",
    "[\t0.475463393\t,\t0.551559791\t,\t0.500994351\t,\t0.445458587\t,\t0.505711667\t]\t,\n",
    "[\t0.551559791\t,\t0.500994351\t,\t0.445458587\t,\t0.505711667\t,\t0.465889036\t]\t,\n",
    "[\t0.500994351\t,\t0.445458587\t,\t0.505711667\t,\t0.465889036\t,\t0.46785659\t]\t,\n",
    "[\t0.445458587\t,\t0.505711667\t,\t0.465889036\t,\t0.46785659\t,\t0.453001423\t]\t,\n",
    "[\t0.505711667\t,\t0.465889036\t,\t0.46785659\t,\t0.453001423\t,\t0.437411724\t]\t,\n",
    "[\t0.465889036\t,\t0.46785659\t,\t0.453001423\t,\t0.437411724\t,\t0.350673696\t]\t,\n",
    "\n",
    ")           \n",
    ",dtype=float)\n",
    "y=np.array(([\t0.223256598\t]\t,\n",
    "[\t0.241974687\t]\t,\n",
    "[\t0.365733465\t]\t,\n",
    "[\t0.552558994\t]\t,\n",
    "[\t0.370023519\t]\t,\n",
    "[\t0.332531703\t]\t,\n",
    "[\t0.387887522\t]\t,\n",
    "[\t0.398363943\t]\t,\n",
    "[\t0.284826299\t]\t,\n",
    "[\t0.186735022\t]\t,\n",
    "[\t0.182694768\t]\t,\n",
    "[\t0.255617002\t]\t,\n",
    "[\t0.23597043\t]\t,\n",
    "[\t0.164134134\t]\t,\n",
    "[\t0.178176635\t]\t,\n",
    "[\t0.163956101\t]\t,\n",
    "[\t0.133241484\t]\t,\n",
    "[\t0.226399017\t]\t,\n",
    "[\t0.255013861\t]\t,\n",
    "[\t0.23708614\t]\t,\n",
    "[\t0.231651119\t]\t,\n",
    "[\t0.233067608\t]\t,\n",
    "[\t0.221173719\t]\t,\n",
    "[\t0.22633168\t]\t,\n",
    "[\t0.218698642\t]\t,\n",
    "[\t0.232032203\t]\t,\n",
    "[\t0.231947948\t]\t,\n",
    "[\t0.221547817\t]\t,\n",
    "[\t0.287958581\t]\t,\n",
    "[\t0.28837327\t]\t,\n",
    "[\t0.297145757\t]\t,\n",
    "[\t0.243669818\t]\t,\n",
    "[\t0.307437314\t]\t,\n",
    "[\t0.358597855\t]\t,\n",
    "[\t0.372181217\t]\t,\n",
    "[\t0.450259481\t]\t,\n",
    "[\t0.443095634\t]\t,\n",
    "[\t0.558155976\t]\t,\n",
    "[\t0.602359827\t]\t,\n",
    "[\t0.696291723\t]\t,\n",
    "[\t0.790604671\t]\t,\n",
    "[\t0.644022227\t]\t,\n",
    "[\t0.583228643\t]\t,\n",
    "[\t0.481715009\t]\t,\n",
    "[\t0.442812107\t]\t,\n",
    "[\t0.496270585\t]\t,\n",
    "[\t0.475463393\t]\t,\n",
    "[\t0.551559791\t]\t,\n",
    "[\t0.500994351\t]\t,\n",
    "[\t0.445458587\t]\t,\n",
    "[\t0.505711667\t]\t,\n",
    "[\t0.465889036\t]\t,\n",
    "[\t0.46785659\t]\t,\n",
    "[\t0.453001423\t]\t,\n",
    "[\t0.437411724\t]\t,\n",
    "[\t0.350673696\t]\t,\n",
    "[\t0.364031312\t]\t,\n",
    "\n",
    "\n",
    ")\n",
    ",dtype=float)\n",
    "\n",
    "dataprediksi = np.array(([\t0.46785659\t,\t0.453001423\t,\t0.437411724\t,\t0.350673696\t,\t0.364031312\t]\t,\n",
    "[\t0.453001423\t,\t0.437411724\t,\t0.350673696\t,\t0.364031312\t,\t0.795380412\t]\t,\n",
    "[\t0.437411724\t,\t0.350673696\t,\t0.364031312\t,\t0.795380412\t,\t1\t]\t,\n",
    "[\t0.350673696\t,\t0.364031312\t,\t0.795380412\t,\t1\t,\t0.707681705\t]\t,\n",
    "\n",
    "\n",
    "), dtype=float)\n"
   ]
  },
  {
   "cell_type": "code",
   "execution_count": 7,
   "metadata": {},
   "outputs": [],
   "source": [
    "import matplotlib.pyplot as plot"
   ]
  },
  {
   "cell_type": "code",
   "execution_count": 8,
   "metadata": {},
   "outputs": [],
   "source": [
    "from scipy import optimize"
   ]
  },
  {
   "cell_type": "code",
   "execution_count": 9,
   "metadata": {},
   "outputs": [],
   "source": [
    "class trainer(object):\n",
    "    def __init__(self, N):\n",
    "        #Make Local reference to network:\n",
    "        self.N = N\n",
    "        \n",
    "    def callbackF(self, params):\n",
    "        self.N.setParams(params)\n",
    "        self.J.append(self.N.costFunction(self.X, self.y))   \n",
    "        \n",
    "    def costFunctionWrapper(self, params, X, y):\n",
    "        self.N.setParams(params)\n",
    "        cost = self.N.costFunction(X, y)\n",
    "        grad = self.N.computeGradients(X,y)\n",
    "        \n",
    "        return cost, grad\n",
    "        \n",
    "    def train(self, X, y):\n",
    "        #Make an internal variable for the callback function:\n",
    "        self.X = X\n",
    "        self.y = y\n",
    "\n",
    "        #Make empty list to store costs:\n",
    "        self.J = []\n",
    "        \n",
    "        params0 = self.N.getParams()\n",
    "\n",
    "        options = {'maxiter': 100, 'disp' : True}\n",
    "        _res = optimize.minimize(self.costFunctionWrapper, params0, jac=True, method='BFGS', \\\n",
    "                                 args=(X, y), options=options, callback=self.callbackF)\n",
    "\n",
    "        self.N.setParams(_res.x)\n",
    "        self.optimizationResults = _res"
   ]
  },
  {
   "cell_type": "code",
   "execution_count": 10,
   "metadata": {},
   "outputs": [],
   "source": [
    "NN=Neural_Network()"
   ]
  },
  {
   "cell_type": "code",
   "execution_count": 11,
   "metadata": {},
   "outputs": [],
   "source": [
    "T = trainer(NN)"
   ]
  },
  {
   "cell_type": "code",
   "execution_count": 12,
   "metadata": {},
   "outputs": [
    {
     "name": "stdout",
     "output_type": "stream",
     "text": [
      "Warning: Maximum number of iterations has been exceeded.\n",
      "         Current function value: 0.062727\n",
      "         Iterations: 100\n",
      "         Function evaluations: 107\n",
      "         Gradient evaluations: 107\n"
     ]
    }
   ],
   "source": [
    "#Train network with new data:\n",
    "T = trainer(NN)\n",
    "T.train(X,y)"
   ]
  },
  {
   "cell_type": "code",
   "execution_count": 13,
   "metadata": {},
   "outputs": [
    {
     "data": {
      "image/png": "[encoded data removed]",
      "text/plain": [
       "<Figure size 432x288 with 1 Axes>"
      ]
     },
     "metadata": {
      "needs_background": "light"
     },
     "output_type": "display_data"
    }
   ],
   "source": [
    "#Plot cost during training:\n",
    "plot.plot(T.J)\n",
    "plot.grid(1)\n",
    "plot.xlabel('Iterations')\n",
    "plot.ylabel('Cost')\n",
    "plot.show()"
   ]
  },
  {
   "cell_type": "code",
   "execution_count": 14,
   "metadata": {},
   "outputs": [],
   "source": [
    "#Training Data:\n",
    "trainX = np.array(([\t0\t,\t0.051924996\t,\t0.148319042\t,\t0.112113419\t,\t0.170734062\t]\t,\n",
    "[\t0.051924996\t,\t0.148319042\t,\t0.112113419\t,\t0.170734062\t,\t0.223256598\t]\t,\n",
    "[\t0.148319042\t,\t0.112113419\t,\t0.170734062\t,\t0.223256598\t,\t0.241974687\t]\t,\n",
    "[\t0.112113419\t,\t0.170734062\t,\t0.223256598\t,\t0.241974687\t,\t0.365733465\t]\t,\n",
    "[\t0.170734062\t,\t0.223256598\t,\t0.241974687\t,\t0.365733465\t,\t0.552558994\t]\t,\n",
    "[\t0.223256598\t,\t0.241974687\t,\t0.365733465\t,\t0.552558994\t,\t0.370023519\t]\t,\n",
    "[\t0.241974687\t,\t0.365733465\t,\t0.552558994\t,\t0.370023519\t,\t0.332531703\t]\t,\n",
    "[\t0.365733465\t,\t0.552558994\t,\t0.370023519\t,\t0.332531703\t,\t0.387887522\t]\t,\n",
    "[\t0.552558994\t,\t0.370023519\t,\t0.332531703\t,\t0.387887522\t,\t0.398363943\t]\t,\n",
    "[\t0.370023519\t,\t0.332531703\t,\t0.387887522\t,\t0.398363943\t,\t0.284826299\t]\t,\n",
    "[\t0.332531703\t,\t0.387887522\t,\t0.398363943\t,\t0.284826299\t,\t0.186735022\t]\t,\n",
    "[\t0.387887522\t,\t0.398363943\t,\t0.284826299\t,\t0.186735022\t,\t0.182694768\t]\t,\n",
    "[\t0.398363943\t,\t0.284826299\t,\t0.186735022\t,\t0.182694768\t,\t0.255617002\t]\t,\n",
    "[\t0.284826299\t,\t0.186735022\t,\t0.182694768\t,\t0.255617002\t,\t0.23597043\t]\t,\n",
    "[\t0.186735022\t,\t0.182694768\t,\t0.255617002\t,\t0.23597043\t,\t0.164134134\t]\t,\n",
    "[\t0.182694768\t,\t0.255617002\t,\t0.23597043\t,\t0.164134134\t,\t0.178176635\t]\t,\n",
    "[\t0.255617002\t,\t0.23597043\t,\t0.164134134\t,\t0.178176635\t,\t0.163956101\t]\t,\n",
    "[\t0.23597043\t,\t0.164134134\t,\t0.178176635\t,\t0.163956101\t,\t0.133241484\t]\t,\n",
    "[\t0.164134134\t,\t0.178176635\t,\t0.163956101\t,\t0.133241484\t,\t0.226399017\t]\t,\n",
    "[\t0.178176635\t,\t0.163956101\t,\t0.133241484\t,\t0.226399017\t,\t0.255013861\t]\t,\n",
    "[\t0.163956101\t,\t0.133241484\t,\t0.226399017\t,\t0.255013861\t,\t0.23708614\t]\t,\n",
    "[\t0.133241484\t,\t0.226399017\t,\t0.255013861\t,\t0.23708614\t,\t0.231651119\t]\t,\n",
    "[\t0.226399017\t,\t0.255013861\t,\t0.23708614\t,\t0.231651119\t,\t0.233067608\t]\t,\n",
    "[\t0.255013861\t,\t0.23708614\t,\t0.231651119\t,\t0.233067608\t,\t0.221173719\t]\t,\n",
    "[\t0.23708614\t,\t0.231651119\t,\t0.233067608\t,\t0.221173719\t,\t0.22633168\t]\t,\n",
    "[\t0.231651119\t,\t0.233067608\t,\t0.221173719\t,\t0.22633168\t,\t0.218698642\t]\t,\n",
    "[\t0.233067608\t,\t0.221173719\t,\t0.22633168\t,\t0.218698642\t,\t0.232032203\t]\t,\n",
    "[\t0.221173719\t,\t0.22633168\t,\t0.218698642\t,\t0.232032203\t,\t0.231947948\t]\t,\n",
    "[\t0.22633168\t,\t0.218698642\t,\t0.232032203\t,\t0.231947948\t,\t0.221547817\t]\t,\n",
    "[\t0.218698642\t,\t0.232032203\t,\t0.231947948\t,\t0.221547817\t,\t0.287958581\t]\t,\n",
    "[\t0.232032203\t,\t0.231947948\t,\t0.221547817\t,\t0.287958581\t,\t0.28837327\t]\t,\n",
    "[\t0.231947948\t,\t0.221547817\t,\t0.287958581\t,\t0.28837327\t,\t0.297145757\t]\t,\n",
    "[\t0.221547817\t,\t0.287958581\t,\t0.28837327\t,\t0.297145757\t,\t0.243669818\t]\t,\n",
    "[\t0.287958581\t,\t0.28837327\t,\t0.297145757\t,\t0.243669818\t,\t0.307437314\t]\t,\n",
    "[\t0.28837327\t,\t0.297145757\t,\t0.243669818\t,\t0.307437314\t,\t0.358597855\t]\t,\n",
    "[\t0.297145757\t,\t0.243669818\t,\t0.307437314\t,\t0.358597855\t,\t0.372181217\t]\t,\n",
    "[\t0.243669818\t,\t0.307437314\t,\t0.358597855\t,\t0.372181217\t,\t0.450259481\t]\t,\n",
    "[\t0.307437314\t,\t0.358597855\t,\t0.372181217\t,\t0.450259481\t,\t0.443095634\t]\t,\n",
    "[\t0.358597855\t,\t0.372181217\t,\t0.450259481\t,\t0.443095634\t,\t0.558155976\t]\t,\n",
    "[\t0.372181217\t,\t0.450259481\t,\t0.443095634\t,\t0.558155976\t,\t0.602359827\t]\t,\n",
    "[\t0.450259481\t,\t0.443095634\t,\t0.558155976\t,\t0.602359827\t,\t0.696291723\t]\t,\n",
    "[\t0.443095634\t,\t0.558155976\t,\t0.602359827\t,\t0.696291723\t,\t0.790604671\t]\t,\n",
    "[\t0.558155976\t,\t0.602359827\t,\t0.696291723\t,\t0.790604671\t,\t0.644022227\t]\t,\n",
    "[\t0.602359827\t,\t0.696291723\t,\t0.790604671\t,\t0.644022227\t,\t0.583228643\t]\t,\n",
    "[\t0.696291723\t,\t0.790604671\t,\t0.644022227\t,\t0.583228643\t,\t0.481715009\t]\t,\n",
    "\n",
    ")\n",
    ", dtype=float)\n",
    "trainY = np.array(([\t0.223256598\t]\t,\n",
    "[\t0.241974687\t]\t,\n",
    "[\t0.365733465\t]\t,\n",
    "[\t0.552558994\t]\t,\n",
    "[\t0.370023519\t]\t,\n",
    "[\t0.332531703\t]\t,\n",
    "[\t0.387887522\t]\t,\n",
    "[\t0.398363943\t]\t,\n",
    "[\t0.284826299\t]\t,\n",
    "[\t0.186735022\t]\t,\n",
    "[\t0.182694768\t]\t,\n",
    "[\t0.255617002\t]\t,\n",
    "[\t0.23597043\t]\t,\n",
    "[\t0.164134134\t]\t,\n",
    "[\t0.178176635\t]\t,\n",
    "[\t0.163956101\t]\t,\n",
    "[\t0.133241484\t]\t,\n",
    "[\t0.226399017\t]\t,\n",
    "[\t0.255013861\t]\t,\n",
    "[\t0.23708614\t]\t,\n",
    "[\t0.231651119\t]\t,\n",
    "[\t0.233067608\t]\t,\n",
    "[\t0.221173719\t]\t,\n",
    "[\t0.22633168\t]\t,\n",
    "[\t0.218698642\t]\t,\n",
    "[\t0.232032203\t]\t,\n",
    "[\t0.231947948\t]\t,\n",
    "[\t0.221547817\t]\t,\n",
    "[\t0.287958581\t]\t,\n",
    "[\t0.28837327\t]\t,\n",
    "[\t0.297145757\t]\t,\n",
    "[\t0.243669818\t]\t,\n",
    "[\t0.307437314\t]\t,\n",
    "[\t0.358597855\t]\t,\n",
    "[\t0.372181217\t]\t,\n",
    "[\t0.450259481\t]\t,\n",
    "[\t0.443095634\t]\t,\n",
    "[\t0.558155976\t]\t,\n",
    "[\t0.602359827\t]\t,\n",
    "[\t0.696291723\t]\t,\n",
    "[\t0.790604671\t]\t,\n",
    "[\t0.644022227\t]\t,\n",
    "[\t0.583228643\t]\t,\n",
    "[\t0.481715009\t]\t,\n",
    "[\t0.442812107\t]\t,\n",
    "\n",
    ")\n",
    ", dtype=float)\n",
    "\n",
    "#Testing Data:\n",
    "testX = np.array(([\t0.790604671\t,\t0.644022227\t,\t0.583228643\t,\t0.481715009\t,\t0.442812107\t]\t,\n",
    "[\t0.644022227\t,\t0.583228643\t,\t0.481715009\t,\t0.442812107\t,\t0.496270585\t]\t,\n",
    "[\t0.583228643\t,\t0.481715009\t,\t0.442812107\t,\t0.496270585\t,\t0.475463393\t]\t,\n",
    "[\t0.481715009\t,\t0.442812107\t,\t0.496270585\t,\t0.475463393\t,\t0.551559791\t]\t,\n",
    "[\t0.442812107\t,\t0.496270585\t,\t0.475463393\t,\t0.551559791\t,\t0.500994351\t]\t,\n",
    "[\t0.496270585\t,\t0.475463393\t,\t0.551559791\t,\t0.500994351\t,\t0.445458587\t]\t,\n",
    "[\t0.475463393\t,\t0.551559791\t,\t0.500994351\t,\t0.445458587\t,\t0.505711667\t]\t,\n",
    "[\t0.551559791\t,\t0.500994351\t,\t0.445458587\t,\t0.505711667\t,\t0.465889036\t]\t,\n",
    "[\t0.500994351\t,\t0.445458587\t,\t0.505711667\t,\t0.465889036\t,\t0.46785659\t]\t,\n",
    "[\t0.445458587\t,\t0.505711667\t,\t0.465889036\t,\t0.46785659\t,\t0.453001423\t]\t,\n",
    "[\t0.505711667\t,\t0.465889036\t,\t0.46785659\t,\t0.453001423\t,\t0.437411724\t]\t,\n",
    "[\t0.465889036\t,\t0.46785659\t,\t0.453001423\t,\t0.437411724\t,\t0.350673696\t]\t,\n",
    "\n",
    "\n",
    "\n",
    ")\n",
    ", dtype=float)\n",
    "testY = np.array(([\t0.496270585\t]\t,\n",
    "[\t0.475463393\t]\t,\n",
    "[\t0.551559791\t]\t,\n",
    "[\t0.500994351\t]\t,\n",
    "[\t0.445458587\t]\t,\n",
    "[\t0.505711667\t]\t,\n",
    "[\t0.465889036\t]\t,\n",
    "[\t0.46785659\t]\t,\n",
    "[\t0.453001423\t]\t,\n",
    "[\t0.437411724\t]\t,\n",
    "[\t0.350673696\t]\t,\n",
    "[\t0.364031312\t]\t,\n",
    "\n",
    "\n",
    ")\n",
    ", dtype=float)\n",
    "\n",
    "\n",
    "dataprediksi = np.array(([\t0.46785659\t,\t0.453001423\t,\t0.437411724\t,\t0.350673696\t,\t0.364031312\t]\t,\n",
    "[\t0.453001423\t,\t0.437411724\t,\t0.350673696\t,\t0.364031312\t,\t0.795380412\t]\t,\n",
    "[\t0.437411724\t,\t0.350673696\t,\t0.364031312\t,\t0.795380412\t,\t1\t]\t,\n",
    "[\t0.350673696\t,\t0.364031312\t,\t0.795380412\t,\t1\t,\t0.707681705\t]\t,\n",
    "\n",
    "\n",
    "\n",
    "), dtype=float)"
   ]
  },
  {
   "cell_type": "code",
   "execution_count": 15,
   "metadata": {},
   "outputs": [
    {
     "data": {
      "text/plain": [
       "array([[0.79060467, 0.64402223, 0.58322864, 0.48171501, 0.44281211],\n",
       "       [0.64402223, 0.58322864, 0.48171501, 0.44281211, 0.49627058],\n",
       "       [0.58322864, 0.48171501, 0.44281211, 0.49627058, 0.47546339],\n",
       "       [0.48171501, 0.44281211, 0.49627058, 0.47546339, 0.55155979],\n",
       "       [0.44281211, 0.49627058, 0.47546339, 0.55155979, 0.50099435],\n",
       "       [0.49627058, 0.47546339, 0.55155979, 0.50099435, 0.44545859],\n",
       "       [0.47546339, 0.55155979, 0.50099435, 0.44545859, 0.50571167],\n",
       "       [0.55155979, 0.50099435, 0.44545859, 0.50571167, 0.46588904],\n",
       "       [0.50099435, 0.44545859, 0.50571167, 0.46588904, 0.46785659],\n",
       "       [0.44545859, 0.50571167, 0.46588904, 0.46785659, 0.45300142],\n",
       "       [0.50571167, 0.46588904, 0.46785659, 0.45300142, 0.43741172],\n",
       "       [0.46588904, 0.46785659, 0.45300142, 0.43741172, 0.3506737 ]])"
      ]
     },
     "execution_count": 15,
     "metadata": {},
     "output_type": "execute_result"
    }
   ],
   "source": [
    "testX"
   ]
  },
  {
   "cell_type": "code",
   "execution_count": 16,
   "metadata": {},
   "outputs": [],
   "source": [
    "##Need to modify trainer class a bit to check testing error during training:\n",
    "class trainer(object):\n",
    "    def __init__(self, N):\n",
    "        #Make Local reference to network:\n",
    "        self.N = N\n",
    "        \n",
    "    def callbackF(self, params):\n",
    "        self.N.setParams(params)\n",
    "        self.J.append(self.N.costFunction(self.X, self.y))\n",
    "        self.testJ.append(self.N.costFunction(self.testX, self.testY))\n",
    "        \n",
    "    def costFunctionWrapper(self, params, X, y):\n",
    "        self.N.setParams(params)\n",
    "        cost = self.N.costFunction(X, y)\n",
    "        grad = self.N.computeGradients(X,y)\n",
    "        \n",
    "        return cost, grad\n",
    "        \n",
    "    def train(self, trainX, trainY, testX, testY):\n",
    "        #Make an internal variable for the callback function:\n",
    "        self.X = trainX\n",
    "        self.y = trainY\n",
    "        \n",
    "        self.testX = testX\n",
    "        self.testY = testY\n",
    "\n",
    "        #Make empty list to store training costs:\n",
    "        self.J = []\n",
    "        self.testJ = []\n",
    "        \n",
    "        params0 = self.N.getParams()\n",
    "\n",
    "        options = {'maxiter': 100, 'disp' : True}\n",
    "        _res = optimize.minimize(self.costFunctionWrapper, params0, jac=True, method='BFGS', \\\n",
    "                                 args=(trainX, trainY), options=options, callback=self.callbackF)\n",
    "\n",
    "        self.N.setParams(_res.x)\n",
    "        self.optimizationResults = _res"
   ]
  },
  {
   "cell_type": "code",
   "execution_count": 17,
   "metadata": {},
   "outputs": [
    {
     "name": "stdout",
     "output_type": "stream",
     "text": [
      "Warning: Maximum number of iterations has been exceeded.\n",
      "         Current function value: 0.047489\n",
      "         Iterations: 100\n",
      "         Function evaluations: 111\n",
      "         Gradient evaluations: 111\n"
     ]
    }
   ],
   "source": [
    "#Train network with new data:\n",
    "NN = Neural_Network()\n",
    "\n",
    "T = trainer(NN)\n",
    "T.train(trainX, trainY, testX, testY)"
   ]
  },
  {
   "cell_type": "code",
   "execution_count": 18,
   "metadata": {},
   "outputs": [
    {
     "data": {
      "image/png": "[encoded data removed]",
      "text/plain": [
       "<Figure size 432x288 with 1 Axes>"
      ]
     },
     "metadata": {
      "needs_background": "light"
     },
     "output_type": "display_data"
    }
   ],
   "source": [
    "#Plot cost during training:\n",
    "plot.plot(T.J)\n",
    "plot.plot(T.testJ)\n",
    "plot.grid(1)\n",
    "plot.xlabel('Iterations')\n",
    "plot.ylabel('Cost')\n",
    "plot.legend(['Training', 'Testing'])\n",
    "plot.show()"
   ]
  },
  {
   "cell_type": "code",
   "execution_count": 19,
   "metadata": {},
   "outputs": [
    {
     "data": {
      "text/plain": [
       "[array([1.91677144]),\n",
       " array([1.37542784]),\n",
       " array([0.44123658]),\n",
       " array([0.26776967]),\n",
       " array([0.18353043]),\n",
       " array([0.1563774]),\n",
       " array([0.1304596]),\n",
       " array([0.11466565]),\n",
       " array([0.10637758]),\n",
       " array([0.10318424]),\n",
       " array([0.10067395]),\n",
       " array([0.09812302]),\n",
       " array([0.09462442]),\n",
       " array([0.08943842]),\n",
       " array([0.08622864]),\n",
       " array([0.08205153]),\n",
       " array([0.08099634]),\n",
       " array([0.08054776]),\n",
       " array([0.08000134]),\n",
       " array([0.07900256]),\n",
       " array([0.0774279]),\n",
       " array([0.07644907]),\n",
       " array([0.07605527]),\n",
       " array([0.07556252]),\n",
       " array([0.07505142]),\n",
       " array([0.07428113]),\n",
       " array([0.07343392]),\n",
       " array([0.07312315]),\n",
       " array([0.07267247]),\n",
       " array([0.07201177]),\n",
       " array([0.07152297]),\n",
       " array([0.07108229]),\n",
       " array([0.07039601]),\n",
       " array([0.06950572]),\n",
       " array([0.06829133]),\n",
       " array([0.06656249]),\n",
       " array([0.06510087]),\n",
       " array([0.06465221]),\n",
       " array([0.06392022]),\n",
       " array([0.06269787]),\n",
       " array([0.06086605]),\n",
       " array([0.05920425]),\n",
       " array([0.05851967]),\n",
       " array([0.05782824]),\n",
       " array([0.05745329]),\n",
       " array([0.05701809]),\n",
       " array([0.05688502]),\n",
       " array([0.0567685]),\n",
       " array([0.05667638]),\n",
       " array([0.05659966]),\n",
       " array([0.05648584]),\n",
       " array([0.05637115]),\n",
       " array([0.0562169]),\n",
       " array([0.05613968]),\n",
       " array([0.05601448]),\n",
       " array([0.05584315]),\n",
       " array([0.05572728]),\n",
       " array([0.0556316]),\n",
       " array([0.05562162]),\n",
       " array([0.05554587]),\n",
       " array([0.05550242]),\n",
       " array([0.05548209]),\n",
       " array([0.05545042]),\n",
       " array([0.05540886]),\n",
       " array([0.05535918]),\n",
       " array([0.05528003]),\n",
       " array([0.05516172]),\n",
       " array([0.05505466]),\n",
       " array([0.0550056]),\n",
       " array([0.0549456]),\n",
       " array([0.05490865]),\n",
       " array([0.05488315]),\n",
       " array([0.05485332]),\n",
       " array([0.05480568]),\n",
       " array([0.05472856]),\n",
       " array([0.05461705]),\n",
       " array([0.05445845]),\n",
       " array([0.05419769]),\n",
       " array([0.05380787]),\n",
       " array([0.05344042]),\n",
       " array([0.05289888]),\n",
       " array([0.05249542]),\n",
       " array([0.05204617]),\n",
       " array([0.05183854]),\n",
       " array([0.05154632]),\n",
       " array([0.05134949]),\n",
       " array([0.05120301]),\n",
       " array([0.05117639]),\n",
       " array([0.05112567]),\n",
       " array([0.05103344]),\n",
       " array([0.05089956]),\n",
       " array([0.05080477]),\n",
       " array([0.0506535]),\n",
       " array([0.05040002]),\n",
       " array([0.049987]),\n",
       " array([0.04940816]),\n",
       " array([0.04880251]),\n",
       " array([0.04831825]),\n",
       " array([0.0476836]),\n",
       " array([0.04748936])]"
      ]
     },
     "execution_count": 19,
     "metadata": {},
     "output_type": "execute_result"
    }
   ],
   "source": [
    "T.J"
   ]
  },
  {
   "cell_type": "code",
   "execution_count": 20,
   "metadata": {},
   "outputs": [
    {
     "data": {
      "text/plain": [
       "[array([0.59608212]),\n",
       " array([0.40739794]),\n",
       " array([0.24694506]),\n",
       " array([0.15588758]),\n",
       " array([0.05035126]),\n",
       " array([0.0282833]),\n",
       " array([0.03153455]),\n",
       " array([0.02278499]),\n",
       " array([0.01772428]),\n",
       " array([0.01764434]),\n",
       " array([0.01718821]),\n",
       " array([0.01676169]),\n",
       " array([0.01655194]),\n",
       " array([0.01744868]),\n",
       " array([0.02448963]),\n",
       " array([0.02250268]),\n",
       " array([0.02436903]),\n",
       " array([0.02463917]),\n",
       " array([0.02504385]),\n",
       " array([0.02570438]),\n",
       " array([0.02790012]),\n",
       " array([0.03198592]),\n",
       " array([0.03348819]),\n",
       " array([0.03839212]),\n",
       " array([0.04272113]),\n",
       " array([0.04274986]),\n",
       " array([0.04215853]),\n",
       " array([0.04337546]),\n",
       " array([0.04158836]),\n",
       " array([0.03835917]),\n",
       " array([0.03707635]),\n",
       " array([0.0343524]),\n",
       " array([0.03464171]),\n",
       " array([0.03771048]),\n",
       " array([0.04042623]),\n",
       " array([0.04291628]),\n",
       " array([0.04354866]),\n",
       " array([0.04792215]),\n",
       " array([0.04841711]),\n",
       " array([0.05100701]),\n",
       " array([0.05445742]),\n",
       " array([0.05571609]),\n",
       " array([0.06244674]),\n",
       " array([0.05640876]),\n",
       " array([0.05780646]),\n",
       " array([0.06154451]),\n",
       " array([0.06169143]),\n",
       " array([0.06254552]),\n",
       " array([0.06274818]),\n",
       " array([0.06347964]),\n",
       " array([0.06338826]),\n",
       " array([0.0637046]),\n",
       " array([0.06106651]),\n",
       " array([0.06136602]),\n",
       " array([0.05979307]),\n",
       " array([0.05531348]),\n",
       " array([0.05329328]),\n",
       " array([0.05131482]),\n",
       " array([0.04910327]),\n",
       " array([0.05027226]),\n",
       " array([0.05154149]),\n",
       " array([0.05226903]),\n",
       " array([0.05270467]),\n",
       " array([0.05281038]),\n",
       " array([0.05223876]),\n",
       " array([0.05120521]),\n",
       " array([0.0502567]),\n",
       " array([0.04978855]),\n",
       " array([0.04895516]),\n",
       " array([0.04820617]),\n",
       " array([0.04706898]),\n",
       " array([0.04664502]),\n",
       " array([0.04605697]),\n",
       " array([0.04534713]),\n",
       " array([0.04424264]),\n",
       " array([0.04382136]),\n",
       " array([0.04203497]),\n",
       " array([0.04251368]),\n",
       " array([0.04200633]),\n",
       " array([0.04020461]),\n",
       " array([0.04112454]),\n",
       " array([0.04301948]),\n",
       " array([0.04142493]),\n",
       " array([0.04099049]),\n",
       " array([0.04219899]),\n",
       " array([0.04263098]),\n",
       " array([0.04375982]),\n",
       " array([0.04604057]),\n",
       " array([0.04596834]),\n",
       " array([0.04558974]),\n",
       " array([0.04491271]),\n",
       " array([0.04375722]),\n",
       " array([0.04281424]),\n",
       " array([0.04123613]),\n",
       " array([0.03931952]),\n",
       " array([0.03569747]),\n",
       " array([0.03514273]),\n",
       " array([0.03075759]),\n",
       " array([0.03156393]),\n",
       " array([0.03327661])]"
      ]
     },
     "execution_count": 20,
     "metadata": {},
     "output_type": "execute_result"
    }
   ],
   "source": [
    "T.testJ"
   ]
  },
  {
   "cell_type": "code",
   "execution_count": 21,
   "metadata": {},
   "outputs": [
    {
     "data": {
      "text/plain": [
       "0.04935405692656472"
      ]
     },
     "execution_count": 21,
     "metadata": {},
     "output_type": "execute_result"
    }
   ],
   "source": [
    "from sklearn.metrics import mean_absolute_error\n",
    "mean_absolute_error(T.J, T.testJ)"
   ]
  },
  {
   "cell_type": "code",
   "execution_count": 22,
   "metadata": {},
   "outputs": [],
   "source": [
    "yHat = NN.forward(X)"
   ]
  },
  {
   "cell_type": "code",
   "execution_count": 23,
   "metadata": {},
   "outputs": [
    {
     "data": {
      "text/plain": [
       "array([[0.25001522],\n",
       "       [0.20576978],\n",
       "       [0.32146352],\n",
       "       [0.43285508],\n",
       "       [0.40673644],\n",
       "       [0.33339966],\n",
       "       [0.36564901],\n",
       "       [0.38352118],\n",
       "       [0.29570261],\n",
       "       [0.20371679],\n",
       "       [0.17492269],\n",
       "       [0.27324481],\n",
       "       [0.21367547],\n",
       "       [0.21202388],\n",
       "       [0.1629701 ],\n",
       "       [0.19816942],\n",
       "       [0.12977821],\n",
       "       [0.15833176],\n",
       "       [0.28930231],\n",
       "       [0.27427101],\n",
       "       [0.30673804],\n",
       "       [0.28248262],\n",
       "       [0.2367276 ],\n",
       "       [0.20896578],\n",
       "       [0.23111016],\n",
       "       [0.21532238],\n",
       "       [0.2435208 ],\n",
       "       [0.23975326],\n",
       "       [0.22867262],\n",
       "       [0.32177341],\n",
       "       [0.30761513],\n",
       "       [0.34330838],\n",
       "       [0.2548882 ],\n",
       "       [0.32011875],\n",
       "       [0.35591574],\n",
       "       [0.40681024],\n",
       "       [0.52755478],\n",
       "       [0.50494836],\n",
       "       [0.60232177],\n",
       "       [0.62341991],\n",
       "       [0.70723149],\n",
       "       [0.73436083],\n",
       "       [0.61453666],\n",
       "       [0.47099305],\n",
       "       [0.46177535],\n",
       "       [0.50466213],\n",
       "       [0.45635305],\n",
       "       [0.38137688],\n",
       "       [0.52193283],\n",
       "       [0.52135138],\n",
       "       [0.37627016],\n",
       "       [0.47833498],\n",
       "       [0.38904359],\n",
       "       [0.41684543],\n",
       "       [0.43838466],\n",
       "       [0.38326487],\n",
       "       [0.2901033 ]])"
      ]
     },
     "execution_count": 23,
     "metadata": {},
     "output_type": "execute_result"
    }
   ],
   "source": [
    "yHat"
   ]
  },
  {
   "cell_type": "code",
   "execution_count": 24,
   "metadata": {},
   "outputs": [
    {
     "data": {
      "text/plain": [
       "array([[0.2232566 ],\n",
       "       [0.24197469],\n",
       "       [0.36573346],\n",
       "       [0.55255899],\n",
       "       [0.37002352],\n",
       "       [0.3325317 ],\n",
       "       [0.38788752],\n",
       "       [0.39836394],\n",
       "       [0.2848263 ],\n",
       "       [0.18673502],\n",
       "       [0.18269477],\n",
       "       [0.255617  ],\n",
       "       [0.23597043],\n",
       "       [0.16413413],\n",
       "       [0.17817663],\n",
       "       [0.1639561 ],\n",
       "       [0.13324148],\n",
       "       [0.22639902],\n",
       "       [0.25501386],\n",
       "       [0.23708614],\n",
       "       [0.23165112],\n",
       "       [0.23306761],\n",
       "       [0.22117372],\n",
       "       [0.22633168],\n",
       "       [0.21869864],\n",
       "       [0.2320322 ],\n",
       "       [0.23194795],\n",
       "       [0.22154782],\n",
       "       [0.28795858],\n",
       "       [0.28837327],\n",
       "       [0.29714576],\n",
       "       [0.24366982],\n",
       "       [0.30743731],\n",
       "       [0.35859786],\n",
       "       [0.37218122],\n",
       "       [0.45025948],\n",
       "       [0.44309563],\n",
       "       [0.55815598],\n",
       "       [0.60235983],\n",
       "       [0.69629172],\n",
       "       [0.79060467],\n",
       "       [0.64402223],\n",
       "       [0.58322864],\n",
       "       [0.48171501],\n",
       "       [0.44281211],\n",
       "       [0.49627058],\n",
       "       [0.47546339],\n",
       "       [0.55155979],\n",
       "       [0.50099435],\n",
       "       [0.44545859],\n",
       "       [0.50571167],\n",
       "       [0.46588904],\n",
       "       [0.46785659],\n",
       "       [0.45300142],\n",
       "       [0.43741172],\n",
       "       [0.3506737 ],\n",
       "       [0.36403131]])"
      ]
     },
     "execution_count": 24,
     "metadata": {},
     "output_type": "execute_result"
    }
   ],
   "source": [
    "y"
   ]
  },
  {
   "cell_type": "code",
   "execution_count": 25,
   "metadata": {},
   "outputs": [
    {
     "data": {
      "text/plain": [
       "0.002833893483376431"
      ]
     },
     "execution_count": 25,
     "metadata": {},
     "output_type": "execute_result"
    }
   ],
   "source": [
    "from sklearn.metrics import mean_squared_error \n",
    "mean_squared_error(y,yHat) "
   ]
  },
  {
   "cell_type": "code",
   "execution_count": 26,
   "metadata": {},
   "outputs": [
    {
     "data": {
      "image/png": "[encoded data removed]",
      "text/plain": [
       "<Figure size 432x288 with 1 Axes>"
      ]
     },
     "metadata": {
      "needs_background": "light"
     },
     "output_type": "display_data"
    }
   ],
   "source": [
    "#Plot cost during training:\n",
    "plot.plot(y)\n",
    "plot.plot(yHat)\n",
    "plot.grid(1)\n",
    "plot.legend(['y', 'yHat'])\n",
    "plot.show()"
   ]
  },
  {
   "cell_type": "code",
   "execution_count": 27,
   "metadata": {},
   "outputs": [],
   "source": [
    "#Regularization Parameter:\n",
    "Lambda = 0.0001"
   ]
  },
  {
   "cell_type": "code",
   "execution_count": 28,
   "metadata": {},
   "outputs": [],
   "source": [
    "#Need to make changes to costFunction and costFunctionPrim:\n",
    "def costFunction(self, X, y):\n",
    "    #Compute cost for given X,y, use weights already stored in class.\n",
    "    self.yHat = self.forward(X)\n",
    "    #We don't want cost to increase with the number of examples, so normalize by dividing the error term by number of examples(X.shape[0])\n",
    "    J = 0.5*sum((y-self.yHat)**2)/X.shape[0] + (self.Lambda/2)*(sum(self.W1**2)+sum(self.W2**2))\n",
    "    return J\n",
    "\n",
    "def costFunctionPrime(self, X, y):\n",
    "    #Compute derivative with respect to W and W2 for a given X and y:\n",
    "    self.yHat = self.forward(X)\n",
    "\n",
    "    delta3 = np.multiply(-(y-self.yHat), self.tanhPrime(self.z3))\n",
    "    #Add gradient of regularization term:\n",
    "    dJdW2 = np.dot(self.a2.T, delta3)/X.shape[0] + self.Lambda*self.W2\n",
    "\n",
    "    delta2 = np.dot(delta3, self.W2.T)*self.tanhPrime(self.z2)\n",
    "    #Add gradient of regularization term:\n",
    "    dJdW1 = np.dot(X.T, delta2)/X.shape[0] + self.Lambda*self.W1\n",
    "\n",
    "    return dJdW1, dJdW2"
   ]
  },
  {
   "cell_type": "code",
   "execution_count": 29,
   "metadata": {},
   "outputs": [],
   "source": [
    "#New complete class, with changes:\n",
    "class Neural_Network(object):\n",
    "    def __init__(self, Lambda=0.0001):        \n",
    "        #Define Hyperparameters\n",
    "        self.inputLayerSize = 5\n",
    "        self.outputLayerSize = 1\n",
    "        self.hiddenLayerSize = 8\n",
    "        \n",
    "        #Weights (parameters)\n",
    "        self.W1 = np.random.randn(self.inputLayerSize,self.hiddenLayerSize)\n",
    "        self.W2 = np.random.randn(self.hiddenLayerSize,self.outputLayerSize)\n",
    "        \n",
    "        #Regularization Parameter:\n",
    "        self.Lambda = Lambda\n",
    "        \n",
    "    def forward(self, X):\n",
    "        #Propogate inputs though network\n",
    "        self.z2 = np.dot(X, self.W1)\n",
    "        self.a2 = self.tanh(self.z2)\n",
    "        self.z3 = np.dot(self.a2, self.W2)\n",
    "        yHat = self.tanh(self.z3) \n",
    "        return yHat\n",
    "        \n",
    "    def tanh(self, z):\n",
    "        # activation function\n",
    "        return (np.exp(z)-np.exp(-z))/(np.exp(z)+np.exp(-z))\n",
    "    \n",
    "    def tanhPrime(self,z): \n",
    "        #derivative of tanh\n",
    "        return 1-((np.exp(z)-np.exp(-z))/(np.exp(z)+np.exp(-z)))**2\n",
    "    \n",
    "    def costFunction(self, X, y):\n",
    "        #Compute cost for given X,y, use weights already stored in class.\n",
    "        self.yHat = self.forward(X)\n",
    "        J = 0.5*sum((y-self.yHat)**2)/X.shape[0] + (self.Lambda/2)*(np.sum(self.W1**2)+np.sum(self.W2**2))\n",
    "        return J\n",
    "        \n",
    "    def costFunctionPrime(self, X, y):\n",
    "        #Compute derivative with respect to W and W2 for a given X and y:\n",
    "        self.yHat = self.forward(X)\n",
    "        \n",
    "        delta3 = np.multiply(-(y-self.yHat), self.tanhPrime(self.z3))\n",
    "        #Add gradient of regularization term:\n",
    "        dJdW2 = np.dot(self.a2.T, delta3)/X.shape[0] + self.Lambda*self.W2\n",
    "        \n",
    "        delta2 = np.dot(delta3, self.W2.T)*self.tanhPrime(self.z2)\n",
    "        #Add gradient of regularization term:\n",
    "        dJdW1 = np.dot(X.T, delta2)/X.shape[0] + self.Lambda*self.W1\n",
    "        \n",
    "        return dJdW1, dJdW2\n",
    "    \n",
    "    def predict(self):\n",
    "        prediksi = self.forward(dataprediksi)\n",
    "        return prediksi\n",
    "    \n",
    "    #Helper functions for interacting with other methods/classes\n",
    "    def getParams(self):\n",
    "        #Get W1 and W2 Rolled into vector:\n",
    "        params = np.concatenate((self.W1.ravel(), self.W2.ravel()))\n",
    "        return params\n",
    "    \n",
    "    def setParams(self, params):\n",
    "        #Set W1 and W2 using single parameter vector:\n",
    "        W1_start = 0\n",
    "        W1_end = self.hiddenLayerSize*self.inputLayerSize\n",
    "        self.W1 = np.reshape(params[W1_start:W1_end], \\\n",
    "                             (self.inputLayerSize, self.hiddenLayerSize))\n",
    "        W2_end = W1_end + self.hiddenLayerSize*self.outputLayerSize\n",
    "        self.W2 = np.reshape(params[W1_end:W2_end], \\\n",
    "                             (self.hiddenLayerSize, self.outputLayerSize))\n",
    "        \n",
    "    def computeGradients(self, X, y):\n",
    "        dJdW1, dJdW2 = self.costFunctionPrime(X, y)\n",
    "        return np.concatenate((dJdW1.ravel(), dJdW2.ravel()))"
   ]
  },
  {
   "cell_type": "code",
   "execution_count": 30,
   "metadata": {},
   "outputs": [],
   "source": [
    "def computeNumericalGradient(N, X, y):\n",
    "    paramsInitial = N.getParams()\n",
    "    numgrad = np.zeros(paramsInitial.shape)\n",
    "    perturb = np.zeros(paramsInitial.shape)\n",
    "    e = 1e-4\n",
    "\n",
    "    for p in range(len(paramsInitial)):\n",
    "        #Set perturbation vector\n",
    "        perturb[p] = e\n",
    "        N.setParams(paramsInitial + perturb)\n",
    "        loss2 = N.costFunction(X, y)\n",
    "            \n",
    "        N.setParams(paramsInitial - perturb)\n",
    "        loss1 = N.costFunction(X, y)\n",
    "\n",
    "        #Compute Numerical Gradient\n",
    "        numgrad[p] = (loss2 - loss1) / (2*e)\n",
    "\n",
    "            #Return the value we changed to zero:\n",
    "        perturb[p] = 0\n",
    "            \n",
    "    #Return Params to original value:\n",
    "    N.setParams(paramsInitial)\n",
    "\n",
    "    return numgrad "
   ]
  },
  {
   "cell_type": "code",
   "execution_count": 31,
   "metadata": {},
   "outputs": [],
   "source": [
    "NN = Neural_Network(Lambda=0.0001)"
   ]
  },
  {
   "cell_type": "code",
   "execution_count": 32,
   "metadata": {},
   "outputs": [],
   "source": [
    "#Make sure our gradients our correct after making changes:\n",
    "numgrad = computeNumericalGradient(NN, X, y)\n",
    "grad = NN.computeGradients(X,y)"
   ]
  },
  {
   "cell_type": "code",
   "execution_count": 33,
   "metadata": {},
   "outputs": [
    {
     "data": {
      "text/plain": [
       "1.0079200972565316e-09"
      ]
     },
     "execution_count": 33,
     "metadata": {},
     "output_type": "execute_result"
    }
   ],
   "source": [
    "#Should be less than 1e-8:\n",
    "np.linalg.norm(grad-numgrad)/np.linalg.norm(grad+numgrad)"
   ]
  },
  {
   "cell_type": "code",
   "execution_count": 34,
   "metadata": {},
   "outputs": [],
   "source": [
    "T = trainer(NN)"
   ]
  },
  {
   "cell_type": "code",
   "execution_count": 35,
   "metadata": {},
   "outputs": [
    {
     "name": "stdout",
     "output_type": "stream",
     "text": [
      "Warning: Maximum number of iterations has been exceeded.\n",
      "         Current function value: 0.002314\n",
      "         Iterations: 100\n",
      "         Function evaluations: 115\n",
      "         Gradient evaluations: 115\n"
     ]
    }
   ],
   "source": [
    "T.train(X,y,testX,testY)"
   ]
  },
  {
   "cell_type": "code",
   "execution_count": 36,
   "metadata": {},
   "outputs": [
    {
     "data": {
      "image/png": "[encoded data removed]",
      "text/plain": [
       "<Figure size 432x288 with 1 Axes>"
      ]
     },
     "metadata": {
      "needs_background": "light"
     },
     "output_type": "display_data"
    }
   ],
   "source": [
    "plot.plot(T.J)\n",
    "plot.plot(T.testJ)\n",
    "plot.grid(1)\n",
    "plot.xlabel('Iterations')\n",
    "plot.ylabel('Cost')\n",
    "plot.legend(['Training', 'Testing'])\n",
    "plot.show()"
   ]
  },
  {
   "cell_type": "code",
   "execution_count": 37,
   "metadata": {},
   "outputs": [
    {
     "data": {
      "text/plain": [
       "[array([0.1954141]),\n",
       " array([0.01045632]),\n",
       " array([0.01029056]),\n",
       " array([0.00874936]),\n",
       " array([0.00627944]),\n",
       " array([0.00486534]),\n",
       " array([0.00481071]),\n",
       " array([0.00477301]),\n",
       " array([0.00470272]),\n",
       " array([0.00457307]),\n",
       " array([0.00434839]),\n",
       " array([0.00405332]),\n",
       " array([0.00398917]),\n",
       " array([0.00396256]),\n",
       " array([0.00394727]),\n",
       " array([0.00394248]),\n",
       " array([0.0039338]),\n",
       " array([0.00391794]),\n",
       " array([0.0038896]),\n",
       " array([0.00384256]),\n",
       " array([0.00378359]),\n",
       " array([0.00376584]),\n",
       " array([0.00375334]),\n",
       " array([0.00375026]),\n",
       " array([0.00374858]),\n",
       " array([0.00374573]),\n",
       " array([0.00374068]),\n",
       " array([0.00373156]),\n",
       " array([0.00371521]),\n",
       " array([0.00368712]),\n",
       " array([0.00364371]),\n",
       " array([0.00360025]),\n",
       " array([0.00356114]),\n",
       " array([0.00351721]),\n",
       " array([0.00347081]),\n",
       " array([0.00346258]),\n",
       " array([0.00344808]),\n",
       " array([0.00342368]),\n",
       " array([0.00338934]),\n",
       " array([0.00337027]),\n",
       " array([0.00336185]),\n",
       " array([0.00335212]),\n",
       " array([0.00334645]),\n",
       " array([0.00334138]),\n",
       " array([0.00333299]),\n",
       " array([0.00331871]),\n",
       " array([0.00329442]),\n",
       " array([0.0032547]),\n",
       " array([0.00319677]),\n",
       " array([0.00314826]),\n",
       " array([0.00310577]),\n",
       " array([0.00308545]),\n",
       " array([0.00307889]),\n",
       " array([0.00307519]),\n",
       " array([0.00306945]),\n",
       " array([0.00306002]),\n",
       " array([0.00304314]),\n",
       " array([0.00274166]),\n",
       " array([0.00271324]),\n",
       " array([0.00266601]),\n",
       " array([0.00260188]),\n",
       " array([0.00256023]),\n",
       " array([0.0025319]),\n",
       " array([0.00252318]),\n",
       " array([0.00251437]),\n",
       " array([0.00251103]),\n",
       " array([0.00250666]),\n",
       " array([0.00250162]),\n",
       " array([0.00249572]),\n",
       " array([0.00248798]),\n",
       " array([0.00247859]),\n",
       " array([0.00247147]),\n",
       " array([0.00246408]),\n",
       " array([0.00245188]),\n",
       " array([0.00243712]),\n",
       " array([0.00243036]),\n",
       " array([0.00242163]),\n",
       " array([0.00241402]),\n",
       " array([0.00241203]),\n",
       " array([0.00241124]),\n",
       " array([0.0024105]),\n",
       " array([0.00240927]),\n",
       " array([0.0024071]),\n",
       " array([0.00240323]),\n",
       " array([0.0023965]),\n",
       " array([0.00238615]),\n",
       " array([0.00237789]),\n",
       " array([0.00237699]),\n",
       " array([0.00237554]),\n",
       " array([0.00237389]),\n",
       " array([0.00237302]),\n",
       " array([0.00237155]),\n",
       " array([0.00236912]),\n",
       " array([0.00236513]),\n",
       " array([0.00235867]),\n",
       " array([0.00234903]),\n",
       " array([0.00233772]),\n",
       " array([0.00232352]),\n",
       " array([0.00231568]),\n",
       " array([0.00231433])]"
      ]
     },
     "execution_count": 37,
     "metadata": {},
     "output_type": "execute_result"
    }
   ],
   "source": [
    "T.J"
   ]
  },
  {
   "cell_type": "code",
   "execution_count": 38,
   "metadata": {},
   "outputs": [
    {
     "data": {
      "text/plain": [
       "[array([0.14833685]),\n",
       " array([0.00653682]),\n",
       " array([0.00484817]),\n",
       " array([0.00421691]),\n",
       " array([0.00357847]),\n",
       " array([0.00450511]),\n",
       " array([0.00459653]),\n",
       " array([0.00464818]),\n",
       " array([0.00465314]),\n",
       " array([0.00458719]),\n",
       " array([0.00438137]),\n",
       " array([0.00393314]),\n",
       " array([0.00374526]),\n",
       " array([0.0036592]),\n",
       " array([0.00359817]),\n",
       " array([0.00358959]),\n",
       " array([0.00358126]),\n",
       " array([0.00356914]),\n",
       " array([0.00354963]),\n",
       " array([0.00351851]),\n",
       " array([0.0034772]),\n",
       " array([0.00349026]),\n",
       " array([0.00351292]),\n",
       " array([0.00351919]),\n",
       " array([0.00351483]),\n",
       " array([0.00350524]),\n",
       " array([0.00348667]),\n",
       " array([0.00345404]),\n",
       " array([0.00339642]),\n",
       " array([0.00329746]),\n",
       " array([0.00313735]),\n",
       " array([0.00296879]),\n",
       " array([0.00284379]),\n",
       " array([0.00269718]),\n",
       " array([0.00252417]),\n",
       " array([0.00252646]),\n",
       " array([0.0025104]),\n",
       " array([0.00246953]),\n",
       " array([0.00240544]),\n",
       " array([0.00237553]),\n",
       " array([0.00236608]),\n",
       " array([0.00236377]),\n",
       " array([0.00236558]),\n",
       " array([0.00236662]),\n",
       " array([0.0023662]),\n",
       " array([0.00236437]),\n",
       " array([0.00236233]),\n",
       " array([0.00236396]),\n",
       " array([0.00238224]),\n",
       " array([0.0024203]),\n",
       " array([0.00248533]),\n",
       " array([0.00255396]),\n",
       " array([0.00260538]),\n",
       " array([0.00264117]),\n",
       " array([0.00269196]),\n",
       " array([0.00274838]),\n",
       " array([0.00281235]),\n",
       " array([0.00231294]),\n",
       " array([0.00200352]),\n",
       " array([0.00207061]),\n",
       " array([0.00214443]),\n",
       " array([0.00218592]),\n",
       " array([0.00210179]),\n",
       " array([0.00196558]),\n",
       " array([0.00196431]),\n",
       " array([0.00195356]),\n",
       " array([0.00193085]),\n",
       " array([0.00191811]),\n",
       " array([0.0019173]),\n",
       " array([0.00192905]),\n",
       " array([0.0019451]),\n",
       " array([0.00195144]),\n",
       " array([0.00194593]),\n",
       " array([0.00192648]),\n",
       " array([0.00185866]),\n",
       " array([0.00184621]),\n",
       " array([0.00179468]),\n",
       " array([0.00176935]),\n",
       " array([0.00174454]),\n",
       " array([0.00172446]),\n",
       " array([0.00171411]),\n",
       " array([0.00170227]),\n",
       " array([0.00168833]),\n",
       " array([0.00166941]),\n",
       " array([0.00164269]),\n",
       " array([0.00160922]),\n",
       " array([0.00160651]),\n",
       " array([0.00161021]),\n",
       " array([0.00161099]),\n",
       " array([0.00160496]),\n",
       " array([0.00160593]),\n",
       " array([0.00160803]),\n",
       " array([0.00160931]),\n",
       " array([0.00160665]),\n",
       " array([0.0015967]),\n",
       " array([0.00157735]),\n",
       " array([0.00156571]),\n",
       " array([0.00158994]),\n",
       " array([0.00164715]),\n",
       " array([0.00165369])]"
      ]
     },
     "execution_count": 38,
     "metadata": {},
     "output_type": "execute_result"
    }
   ],
   "source": [
    "T.testJ"
   ]
  },
  {
   "cell_type": "code",
   "execution_count": 39,
   "metadata": {},
   "outputs": [
    {
     "data": {
      "text/plain": [
       "0.001183236928330599"
      ]
     },
     "execution_count": 39,
     "metadata": {},
     "output_type": "execute_result"
    }
   ],
   "source": [
    "from sklearn.metrics import mean_absolute_error\n",
    "mean_absolute_error(T.J, T.testJ)"
   ]
  },
  {
   "cell_type": "code",
   "execution_count": 40,
   "metadata": {},
   "outputs": [],
   "source": [
    "yHat=NN.forward(X)"
   ]
  },
  {
   "cell_type": "code",
   "execution_count": 41,
   "metadata": {},
   "outputs": [
    {
     "data": {
      "text/plain": [
       "array([[0.2108463 ],\n",
       "       [0.2520087 ],\n",
       "       [0.25144179],\n",
       "       [0.40143264],\n",
       "       [0.55092229],\n",
       "       [0.36735654],\n",
       "       [0.37993782],\n",
       "       [0.40142444],\n",
       "       [0.37355131],\n",
       "       [0.2812435 ],\n",
       "       [0.19806046],\n",
       "       [0.1856032 ],\n",
       "       [0.24344023],\n",
       "       [0.22027785],\n",
       "       [0.16556963],\n",
       "       [0.1998474 ],\n",
       "       [0.15428977],\n",
       "       [0.12026703],\n",
       "       [0.25154254],\n",
       "       [0.25858799],\n",
       "       [0.24633694],\n",
       "       [0.25886035],\n",
       "       [0.24386809],\n",
       "       [0.22273302],\n",
       "       [0.23409368],\n",
       "       [0.22332846],\n",
       "       [0.24036715],\n",
       "       [0.23902783],\n",
       "       [0.22737781],\n",
       "       [0.30824856],\n",
       "       [0.29342675],\n",
       "       [0.31256953],\n",
       "       [0.25471738],\n",
       "       [0.32625636],\n",
       "       [0.36483802],\n",
       "       [0.37787489],\n",
       "       [0.47073892],\n",
       "       [0.44926169],\n",
       "       [0.55569982],\n",
       "       [0.57960252],\n",
       "       [0.64723551],\n",
       "       [0.70081391],\n",
       "       [0.59912278],\n",
       "       [0.56230327],\n",
       "       [0.46528137],\n",
       "       [0.42898827],\n",
       "       [0.47088809],\n",
       "       [0.45099218],\n",
       "       [0.53746998],\n",
       "       [0.49011656],\n",
       "       [0.44709602],\n",
       "       [0.50035526],\n",
       "       [0.44534678],\n",
       "       [0.46412776],\n",
       "       [0.45170646],\n",
       "       [0.43153862],\n",
       "       [0.35054502]])"
      ]
     },
     "execution_count": 41,
     "metadata": {},
     "output_type": "execute_result"
    }
   ],
   "source": [
    "yHat"
   ]
  },
  {
   "cell_type": "code",
   "execution_count": 42,
   "metadata": {},
   "outputs": [
    {
     "data": {
      "text/plain": [
       "array([[0.2232566 ],\n",
       "       [0.24197469],\n",
       "       [0.36573346],\n",
       "       [0.55255899],\n",
       "       [0.37002352],\n",
       "       [0.3325317 ],\n",
       "       [0.38788752],\n",
       "       [0.39836394],\n",
       "       [0.2848263 ],\n",
       "       [0.18673502],\n",
       "       [0.18269477],\n",
       "       [0.255617  ],\n",
       "       [0.23597043],\n",
       "       [0.16413413],\n",
       "       [0.17817663],\n",
       "       [0.1639561 ],\n",
       "       [0.13324148],\n",
       "       [0.22639902],\n",
       "       [0.25501386],\n",
       "       [0.23708614],\n",
       "       [0.23165112],\n",
       "       [0.23306761],\n",
       "       [0.22117372],\n",
       "       [0.22633168],\n",
       "       [0.21869864],\n",
       "       [0.2320322 ],\n",
       "       [0.23194795],\n",
       "       [0.22154782],\n",
       "       [0.28795858],\n",
       "       [0.28837327],\n",
       "       [0.29714576],\n",
       "       [0.24366982],\n",
       "       [0.30743731],\n",
       "       [0.35859786],\n",
       "       [0.37218122],\n",
       "       [0.45025948],\n",
       "       [0.44309563],\n",
       "       [0.55815598],\n",
       "       [0.60235983],\n",
       "       [0.69629172],\n",
       "       [0.79060467],\n",
       "       [0.64402223],\n",
       "       [0.58322864],\n",
       "       [0.48171501],\n",
       "       [0.44281211],\n",
       "       [0.49627058],\n",
       "       [0.47546339],\n",
       "       [0.55155979],\n",
       "       [0.50099435],\n",
       "       [0.44545859],\n",
       "       [0.50571167],\n",
       "       [0.46588904],\n",
       "       [0.46785659],\n",
       "       [0.45300142],\n",
       "       [0.43741172],\n",
       "       [0.3506737 ],\n",
       "       [0.36403131]])"
      ]
     },
     "execution_count": 42,
     "metadata": {},
     "output_type": "execute_result"
    }
   ],
   "source": [
    "y"
   ]
  },
  {
   "cell_type": "code",
   "execution_count": 43,
   "metadata": {},
   "outputs": [
    {
     "data": {
      "text/plain": [
       "0.0038351102448061065"
      ]
     },
     "execution_count": 43,
     "metadata": {},
     "output_type": "execute_result"
    }
   ],
   "source": [
    "from sklearn.metrics import mean_squared_error \n",
    "mean_squared_error(y,yHat) "
   ]
  },
  {
   "cell_type": "code",
   "execution_count": 44,
   "metadata": {},
   "outputs": [
    {
     "data": {
      "image/png": "[encoded data removed]",
      "text/plain": [
       "<Figure size 432x288 with 1 Axes>"
      ]
     },
     "metadata": {
      "needs_background": "light"
     },
     "output_type": "display_data"
    }
   ],
   "source": [
    "#Plot cost during training:\n",
    "plot.plot(y)\n",
    "plot.plot(yHat)\n",
    "plot.grid(1)\n",
    "plot.legend(['y', 'yHat'])\n",
    "plot.show()"
   ]
  },
  {
   "cell_type": "code",
   "execution_count": 45,
   "metadata": {},
   "outputs": [],
   "source": [
    "prediksi=NN.forward(dataprediksi)"
   ]
  },
  {
   "cell_type": "code",
   "execution_count": 46,
   "metadata": {},
   "outputs": [
    {
     "data": {
      "text/plain": [
       "array([[0.37084865],\n",
       "       [0.69914304],\n",
       "       [0.77660456],\n",
       "       [0.66579266]])"
      ]
     },
     "execution_count": 46,
     "metadata": {},
     "output_type": "execute_result"
    }
   ],
   "source": [
    "prediksi"
   ]
  },
  {
   "cell_type": "code",
   "execution_count": 47,
   "metadata": {},
   "outputs": [],
   "source": [
    "from sklearn.metrics import mean_squared_error "
   ]
  },
  {
   "cell_type": "code",
   "execution_count": 48,
   "metadata": {},
   "outputs": [
    {
     "data": {
      "text/plain": [
       "0.07645059271974874"
      ]
     },
     "execution_count": 48,
     "metadata": {},
     "output_type": "execute_result"
    }
   ],
   "source": [
    "Y_true= ([\t0.795380412\t]\t,\n",
    "[\t1\t]\t,\n",
    "[\t0.707681705\t]\t,\n",
    "[\t0.491695324\t]\t,\n",
    "\n",
    ")\n",
    "\n",
    "\n",
    "Y_pred=prediksi\n",
    "mean_squared_error(Y_true,Y_pred) "
   ]
  },
  {
   "cell_type": "code",
   "execution_count": 49,
   "metadata": {},
   "outputs": [
    {
     "data": {
      "text/plain": [
       "array([[0.46785659, 0.45300142, 0.43741172, 0.3506737 , 0.36403131],\n",
       "       [0.45300142, 0.43741172, 0.3506737 , 0.36403131, 0.79538041],\n",
       "       [0.43741172, 0.3506737 , 0.36403131, 0.79538041, 1.        ],\n",
       "       [0.3506737 , 0.36403131, 0.79538041, 1.        , 0.70768171]])"
      ]
     },
     "execution_count": 49,
     "metadata": {},
     "output_type": "execute_result"
    }
   ],
   "source": [
    "dataprediksi"
   ]
  },
  {
   "cell_type": "code",
   "execution_count": 50,
   "metadata": {},
   "outputs": [],
   "source": [
    "a=np.array([\t0.364031312\t,\t0.795380412\t,\t1\t,\t0.707681705\t,\t0.491695324\t])"
   ]
  },
  {
   "cell_type": "code",
   "execution_count": 51,
   "metadata": {},
   "outputs": [
    {
     "data": {
      "text/plain": [
       "array([0.52981557])"
      ]
     },
     "execution_count": 51,
     "metadata": {},
     "output_type": "execute_result"
    }
   ],
   "source": [
    "#prediksi 1\n",
    "prediksi=NN.forward(a)\n",
    "prediksi"
   ]
  },
  {
   "cell_type": "code",
   "execution_count": 52,
   "metadata": {},
   "outputs": [
    {
     "data": {
      "text/plain": [
       "array([0.50417284])"
      ]
     },
     "execution_count": 52,
     "metadata": {},
     "output_type": "execute_result"
    }
   ],
   "source": [
    "#prediksi 2\n",
    "c=prediksi\n",
    "b=a[1:]\n",
    "d=np.concatenate((b,c))\n",
    "prediksi=NN.forward(d)\n",
    "prediksi"
   ]
  },
  {
   "cell_type": "code",
   "execution_count": 53,
   "metadata": {},
   "outputs": [
    {
     "data": {
      "text/plain": [
       "array([0.4516282])"
      ]
     },
     "execution_count": 53,
     "metadata": {},
     "output_type": "execute_result"
    }
   ],
   "source": [
    "#prediksi 3\n",
    "c=prediksi\n",
    "b=d[1:]\n",
    "e=np.concatenate((b,c))\n",
    "prediksi=NN.forward(e)\n",
    "prediksi"
   ]
  },
  {
   "cell_type": "code",
   "execution_count": 54,
   "metadata": {},
   "outputs": [
    {
     "data": {
      "text/plain": [
       "array([0.42949811])"
      ]
     },
     "execution_count": 54,
     "metadata": {},
     "output_type": "execute_result"
    }
   ],
   "source": [
    "#prediksi 4\n",
    "c=prediksi\n",
    "b=e[1:]\n",
    "f=np.concatenate((b,c))\n",
    "prediksi=NN.forward(f)\n",
    "prediksi"
   ]
  },
  {
   "cell_type": "code",
   "execution_count": 55,
   "metadata": {},
   "outputs": [
    {
     "data": {
      "text/plain": [
       "array([0.43089199])"
      ]
     },
     "execution_count": 55,
     "metadata": {},
     "output_type": "execute_result"
    }
   ],
   "source": [
    "#prediksi 5\n",
    "c=prediksi\n",
    "b=f[1:]\n",
    "g=np.concatenate((b,c))\n",
    "prediksi=NN.forward(g)\n",
    "prediksi"
   ]
  },
  {
   "cell_type": "code",
   "execution_count": 56,
   "metadata": {},
   "outputs": [
    {
     "data": {
      "text/plain": [
       "array([0.42273278])"
      ]
     },
     "execution_count": 56,
     "metadata": {},
     "output_type": "execute_result"
    }
   ],
   "source": [
    "#prediksi 6\n",
    "c=prediksi\n",
    "b=g[1:]\n",
    "h=np.concatenate((b,c))\n",
    "prediksi=NN.forward(h)\n",
    "prediksi"
   ]
  },
  {
   "cell_type": "code",
   "execution_count": 57,
   "metadata": {},
   "outputs": [
    {
     "data": {
      "text/plain": [
       "array([0.41511625])"
      ]
     },
     "execution_count": 57,
     "metadata": {},
     "output_type": "execute_result"
    }
   ],
   "source": [
    "#prediksi 7\n",
    "c=prediksi\n",
    "b=g[1:]\n",
    "i=np.concatenate((b,c))\n",
    "prediksi=NN.forward(i)\n",
    "prediksi"
   ]
  },
  {
   "cell_type": "code",
   "execution_count": 58,
   "metadata": {},
   "outputs": [
    {
     "data": {
      "text/plain": [
       "array([0.40795951])"
      ]
     },
     "execution_count": 58,
     "metadata": {},
     "output_type": "execute_result"
    }
   ],
   "source": [
    "#prediksi 8\n",
    "c=prediksi\n",
    "b=g[1:]\n",
    "j=np.concatenate((b,c))\n",
    "prediksi=NN.forward(j)\n",
    "prediksi"
   ]
  },
  {
   "cell_type": "code",
   "execution_count": 59,
   "metadata": {},
   "outputs": [
    {
     "data": {
      "text/plain": [
       "array([0.40119467])"
      ]
     },
     "execution_count": 59,
     "metadata": {},
     "output_type": "execute_result"
    }
   ],
   "source": [
    "#prediksi 9\n",
    "c=prediksi\n",
    "b=g[1:]\n",
    "k=np.concatenate((b,c))\n",
    "prediksi=NN.forward(k)\n",
    "prediksi"
   ]
  },
  {
   "cell_type": "code",
   "execution_count": 60,
   "metadata": {},
   "outputs": [
    {
     "data": {
      "text/plain": [
       "array([0.39476543])"
      ]
     },
     "execution_count": 60,
     "metadata": {},
     "output_type": "execute_result"
    }
   ],
   "source": [
    "#prediksi 10\n",
    "c=prediksi\n",
    "b=g[1:]\n",
    "l=np.concatenate((b,c))\n",
    "prediksi=NN.forward(l)\n",
    "prediksi"
   ]
  },
  {
   "cell_type": "code",
   "execution_count": 61,
   "metadata": {},
   "outputs": [
    {
     "data": {
      "text/plain": [
       "array([0.3886245])"
      ]
     },
     "execution_count": 61,
     "metadata": {},
     "output_type": "execute_result"
    }
   ],
   "source": [
    "#prediksi 11\n",
    "c=prediksi\n",
    "b=g[1:]\n",
    "m=np.concatenate((b,c))\n",
    "prediksi=NN.forward(m)\n",
    "prediksi"
   ]
  },
  {
   "cell_type": "code",
   "execution_count": 62,
   "metadata": {},
   "outputs": [
    {
     "data": {
      "text/plain": [
       "array([0.38273177])"
      ]
     },
     "execution_count": 62,
     "metadata": {},
     "output_type": "execute_result"
    }
   ],
   "source": [
    "#prediksi 12\n",
    "c=prediksi\n",
    "b=g[1:]\n",
    "n=np.concatenate((b,c))\n",
    "prediksi=NN.forward(n)\n",
    "prediksi"
   ]
  },
  {
   "cell_type": "code",
   "execution_count": null,
   "metadata": {},
   "outputs": [],
   "source": []
  }
 ],
 "metadata": {
  "kernelspec": {
   "display_name": "Python 3",
   "language": "python",
   "name": "python3"
  },
  "language_info": {
   "codemirror_mode": {
    "name": "ipython",
    "version": 3
   },
   "file_extension": ".py",
   "mimetype": "text/x-python",
   "name": "python",
   "nbconvert_exporter": "python",
   "pygments_lexer": "ipython3",
   "version": "3.7.3"
  }
 },
 "nbformat": 4,
 "nbformat_minor": 2
}
