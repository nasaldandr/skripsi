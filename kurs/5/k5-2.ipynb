{
 "cells": [
  {
   "cell_type": "code",
   "execution_count": 1,
   "metadata": {},
   "outputs": [],
   "source": [
    "import numpy as np"
   ]
  },
  {
   "cell_type": "code",
   "execution_count": 2,
   "metadata": {},
   "outputs": [],
   "source": [
    "#UNTUK NILAI IMPOR\n",
    "class Neural_Network(object):\n",
    "    def __init__(self):\n",
    "        #parameters\n",
    "        self.inputLayerSize = 5\n",
    "        self.outputLayerSize = 1\n",
    "        self.hiddenLayerSize = 2\n",
    "\n",
    "        #weights\n",
    "        self.W1 = np.random.randn(self.inputLayerSize,\\\n",
    "                                 self.hiddenLayerSize)  \n",
    "        self.W2 = np.random.randn(self.hiddenLayerSize,\\\n",
    "                                 self.outputLayerSize)  \n",
    "    \n",
    "    def printw(self):\n",
    "        return self.W1\n",
    "        \n",
    "    def weight(self, W1, W2):\n",
    "        #Make an internal variable for the weight:\n",
    "        self.W1 = W1\n",
    "        self.W2 = W2\n",
    "        \n",
    "    def forward(self, X):\n",
    "        #forward propagation through our network\n",
    "        self.z2 = np.dot(X,self.W1)  \n",
    "        self.a2 = self.sigmoid(self.z2)  # activation function\n",
    "        self.z3 = np.dot(self.a2, self.W2) \n",
    "        yHat = self.sigmoid(self.z3)  # final activation function\n",
    "        return yHat\n",
    "\n",
    "    def sigmoid(self, z):\n",
    "        # activation function\n",
    "        return 1 / (1 + np.exp(-z))\n",
    "    \n",
    "    def sigmoidPrime(self,z): \n",
    "        #derivative of sigmoid     \n",
    "        return np.exp(-z)/((1+np.exp(-z))**2)\n",
    "    \n",
    "    def costFunction(self,X,y):\n",
    "        self.yHat = self.forward(X)\n",
    "        J=0.5*sum((y-self.yHat)**2)\n",
    "        return J\n",
    "    \n",
    "    def costFunctionPrime(self,X,y):\n",
    "        self.yHat=self.forward(X)\n",
    "        \n",
    "        delta3=np.multiply(-(y-self.yHat),self.sigmoidPrime(self.z3))\n",
    "        dJdW2=np.dot(self.a2.T,delta3)\n",
    "        \n",
    "        delta2=np.dot(delta3,self.W2.T)*self.sigmoidPrime(self.z2)\n",
    "        dJdW1=np.dot(X.T,delta2)\n",
    "        return dJdW1,dJdW2\n",
    "    \n",
    "    def predict(self):\n",
    "        prediksi = self.forward(dataprediksi)\n",
    "        return prediksi\n",
    "    \n",
    "    def getParams(self):\n",
    "        params=np.concatenate((self.W1.ravel(),self.W2.ravel()))\n",
    "        return params\n",
    "    \n",
    "    def setParams(self,params):\n",
    "        W1_start=0\n",
    "        W1_end=self.hiddenLayerSize*self.inputLayerSize\n",
    "        self.W1=np.reshape(params[W1_start:W1_end],\\\n",
    "                          (self.inputLayerSize,self.hiddenLayerSize))\n",
    "        W2_end=W1_end+self.hiddenLayerSize*self.outputLayerSize\n",
    "        self.W2=np.reshape(params[W1_end:W2_end],\\\n",
    "                          (self.hiddenLayerSize,self.outputLayerSize))\n",
    "        \n",
    "    def computeGradients(self, X, y):\n",
    "        dJdW1, dJdW2 = self.costFunctionPrime(X, y)\n",
    "        return np.concatenate((dJdW1.ravel(), dJdW2.ravel()))"
   ]
  },
  {
   "cell_type": "code",
   "execution_count": 3,
   "metadata": {},
   "outputs": [],
   "source": [
    "NN = Neural_Network()"
   ]
  },
  {
   "cell_type": "code",
   "execution_count": 4,
   "metadata": {},
   "outputs": [
    {
     "data": {
      "text/plain": [
       "array([[-0.02879234,  0.43048097],\n",
       "       [ 1.4745949 ,  1.14884682],\n",
       "       [ 0.48671233, -0.19707534],\n",
       "       [ 0.96529122,  0.94456489],\n",
       "       [-0.4032822 , -1.26989652]])"
      ]
     },
     "execution_count": 4,
     "metadata": {},
     "output_type": "execute_result"
    }
   ],
   "source": [
    "NN.W1"
   ]
  },
  {
   "cell_type": "code",
   "execution_count": 5,
   "metadata": {},
   "outputs": [
    {
     "data": {
      "text/plain": [
       "array([[-0.58491083],\n",
       "       [ 0.1517273 ]])"
      ]
     },
     "execution_count": 5,
     "metadata": {},
     "output_type": "execute_result"
    }
   ],
   "source": [
    "NN.W2"
   ]
  },
  {
   "cell_type": "code",
   "execution_count": 6,
   "metadata": {},
   "outputs": [],
   "source": [
    "#KURS\n",
    "X=np.array(([\t0\t,\t0.051924996\t,\t0.148319042\t,\t0.112113419\t,\t0.170734062\t]\t,\n",
    "[\t0.051924996\t,\t0.148319042\t,\t0.112113419\t,\t0.170734062\t,\t0.223256598\t]\t,\n",
    "[\t0.148319042\t,\t0.112113419\t,\t0.170734062\t,\t0.223256598\t,\t0.241974687\t]\t,\n",
    "[\t0.112113419\t,\t0.170734062\t,\t0.223256598\t,\t0.241974687\t,\t0.365733465\t]\t,\n",
    "[\t0.170734062\t,\t0.223256598\t,\t0.241974687\t,\t0.365733465\t,\t0.552558994\t]\t,\n",
    "[\t0.223256598\t,\t0.241974687\t,\t0.365733465\t,\t0.552558994\t,\t0.370023519\t]\t,\n",
    "[\t0.241974687\t,\t0.365733465\t,\t0.552558994\t,\t0.370023519\t,\t0.332531703\t]\t,\n",
    "[\t0.365733465\t,\t0.552558994\t,\t0.370023519\t,\t0.332531703\t,\t0.387887522\t]\t,\n",
    "[\t0.552558994\t,\t0.370023519\t,\t0.332531703\t,\t0.387887522\t,\t0.398363943\t]\t,\n",
    "[\t0.370023519\t,\t0.332531703\t,\t0.387887522\t,\t0.398363943\t,\t0.284826299\t]\t,\n",
    "[\t0.332531703\t,\t0.387887522\t,\t0.398363943\t,\t0.284826299\t,\t0.186735022\t]\t,\n",
    "[\t0.387887522\t,\t0.398363943\t,\t0.284826299\t,\t0.186735022\t,\t0.182694768\t]\t,\n",
    "[\t0.398363943\t,\t0.284826299\t,\t0.186735022\t,\t0.182694768\t,\t0.255617002\t]\t,\n",
    "[\t0.284826299\t,\t0.186735022\t,\t0.182694768\t,\t0.255617002\t,\t0.23597043\t]\t,\n",
    "[\t0.186735022\t,\t0.182694768\t,\t0.255617002\t,\t0.23597043\t,\t0.164134134\t]\t,\n",
    "[\t0.182694768\t,\t0.255617002\t,\t0.23597043\t,\t0.164134134\t,\t0.178176635\t]\t,\n",
    "[\t0.255617002\t,\t0.23597043\t,\t0.164134134\t,\t0.178176635\t,\t0.163956101\t]\t,\n",
    "[\t0.23597043\t,\t0.164134134\t,\t0.178176635\t,\t0.163956101\t,\t0.133241484\t]\t,\n",
    "[\t0.164134134\t,\t0.178176635\t,\t0.163956101\t,\t0.133241484\t,\t0.226399017\t]\t,\n",
    "[\t0.178176635\t,\t0.163956101\t,\t0.133241484\t,\t0.226399017\t,\t0.255013861\t]\t,\n",
    "[\t0.163956101\t,\t0.133241484\t,\t0.226399017\t,\t0.255013861\t,\t0.23708614\t]\t,\n",
    "[\t0.133241484\t,\t0.226399017\t,\t0.255013861\t,\t0.23708614\t,\t0.231651119\t]\t,\n",
    "[\t0.226399017\t,\t0.255013861\t,\t0.23708614\t,\t0.231651119\t,\t0.233067608\t]\t,\n",
    "[\t0.255013861\t,\t0.23708614\t,\t0.231651119\t,\t0.233067608\t,\t0.221173719\t]\t,\n",
    "[\t0.23708614\t,\t0.231651119\t,\t0.233067608\t,\t0.221173719\t,\t0.22633168\t]\t,\n",
    "[\t0.231651119\t,\t0.233067608\t,\t0.221173719\t,\t0.22633168\t,\t0.218698642\t]\t,\n",
    "[\t0.233067608\t,\t0.221173719\t,\t0.22633168\t,\t0.218698642\t,\t0.232032203\t]\t,\n",
    "[\t0.221173719\t,\t0.22633168\t,\t0.218698642\t,\t0.232032203\t,\t0.231947948\t]\t,\n",
    "[\t0.22633168\t,\t0.218698642\t,\t0.232032203\t,\t0.231947948\t,\t0.221547817\t]\t,\n",
    "[\t0.218698642\t,\t0.232032203\t,\t0.231947948\t,\t0.221547817\t,\t0.287958581\t]\t,\n",
    "[\t0.232032203\t,\t0.231947948\t,\t0.221547817\t,\t0.287958581\t,\t0.28837327\t]\t,\n",
    "[\t0.231947948\t,\t0.221547817\t,\t0.287958581\t,\t0.28837327\t,\t0.297145757\t]\t,\n",
    "[\t0.221547817\t,\t0.287958581\t,\t0.28837327\t,\t0.297145757\t,\t0.243669818\t]\t,\n",
    "[\t0.287958581\t,\t0.28837327\t,\t0.297145757\t,\t0.243669818\t,\t0.307437314\t]\t,\n",
    "[\t0.28837327\t,\t0.297145757\t,\t0.243669818\t,\t0.307437314\t,\t0.358597855\t]\t,\n",
    "[\t0.297145757\t,\t0.243669818\t,\t0.307437314\t,\t0.358597855\t,\t0.372181217\t]\t,\n",
    "[\t0.243669818\t,\t0.307437314\t,\t0.358597855\t,\t0.372181217\t,\t0.450259481\t]\t,\n",
    "[\t0.307437314\t,\t0.358597855\t,\t0.372181217\t,\t0.450259481\t,\t0.443095634\t]\t,\n",
    "[\t0.358597855\t,\t0.372181217\t,\t0.450259481\t,\t0.443095634\t,\t0.558155976\t]\t,\n",
    "[\t0.372181217\t,\t0.450259481\t,\t0.443095634\t,\t0.558155976\t,\t0.602359827\t]\t,\n",
    "[\t0.450259481\t,\t0.443095634\t,\t0.558155976\t,\t0.602359827\t,\t0.696291723\t]\t,\n",
    "[\t0.443095634\t,\t0.558155976\t,\t0.602359827\t,\t0.696291723\t,\t0.790604671\t]\t,\n",
    "[\t0.558155976\t,\t0.602359827\t,\t0.696291723\t,\t0.790604671\t,\t0.644022227\t]\t,\n",
    "[\t0.602359827\t,\t0.696291723\t,\t0.790604671\t,\t0.644022227\t,\t0.583228643\t]\t,\n",
    "[\t0.696291723\t,\t0.790604671\t,\t0.644022227\t,\t0.583228643\t,\t0.481715009\t]\t,\n",
    "[\t0.790604671\t,\t0.644022227\t,\t0.583228643\t,\t0.481715009\t,\t0.442812107\t]\t,\n",
    "[\t0.644022227\t,\t0.583228643\t,\t0.481715009\t,\t0.442812107\t,\t0.496270585\t]\t,\n",
    "[\t0.583228643\t,\t0.481715009\t,\t0.442812107\t,\t0.496270585\t,\t0.475463393\t]\t,\n",
    "[\t0.481715009\t,\t0.442812107\t,\t0.496270585\t,\t0.475463393\t,\t0.551559791\t]\t,\n",
    "[\t0.442812107\t,\t0.496270585\t,\t0.475463393\t,\t0.551559791\t,\t0.500994351\t]\t,\n",
    "[\t0.496270585\t,\t0.475463393\t,\t0.551559791\t,\t0.500994351\t,\t0.445458587\t]\t,\n",
    "[\t0.475463393\t,\t0.551559791\t,\t0.500994351\t,\t0.445458587\t,\t0.505711667\t]\t,\n",
    "[\t0.551559791\t,\t0.500994351\t,\t0.445458587\t,\t0.505711667\t,\t0.465889036\t]\t,\n",
    "[\t0.500994351\t,\t0.445458587\t,\t0.505711667\t,\t0.465889036\t,\t0.46785659\t]\t,\n",
    "[\t0.445458587\t,\t0.505711667\t,\t0.465889036\t,\t0.46785659\t,\t0.453001423\t]\t,\n",
    "[\t0.505711667\t,\t0.465889036\t,\t0.46785659\t,\t0.453001423\t,\t0.437411724\t]\t,\n",
    "[\t0.465889036\t,\t0.46785659\t,\t0.453001423\t,\t0.437411724\t,\t0.350673696\t]\t,\n",
    "\n",
    ")           \n",
    ",dtype=float)\n",
    "y=np.array(([\t0.223256598\t]\t,\n",
    "[\t0.241974687\t]\t,\n",
    "[\t0.365733465\t]\t,\n",
    "[\t0.552558994\t]\t,\n",
    "[\t0.370023519\t]\t,\n",
    "[\t0.332531703\t]\t,\n",
    "[\t0.387887522\t]\t,\n",
    "[\t0.398363943\t]\t,\n",
    "[\t0.284826299\t]\t,\n",
    "[\t0.186735022\t]\t,\n",
    "[\t0.182694768\t]\t,\n",
    "[\t0.255617002\t]\t,\n",
    "[\t0.23597043\t]\t,\n",
    "[\t0.164134134\t]\t,\n",
    "[\t0.178176635\t]\t,\n",
    "[\t0.163956101\t]\t,\n",
    "[\t0.133241484\t]\t,\n",
    "[\t0.226399017\t]\t,\n",
    "[\t0.255013861\t]\t,\n",
    "[\t0.23708614\t]\t,\n",
    "[\t0.231651119\t]\t,\n",
    "[\t0.233067608\t]\t,\n",
    "[\t0.221173719\t]\t,\n",
    "[\t0.22633168\t]\t,\n",
    "[\t0.218698642\t]\t,\n",
    "[\t0.232032203\t]\t,\n",
    "[\t0.231947948\t]\t,\n",
    "[\t0.221547817\t]\t,\n",
    "[\t0.287958581\t]\t,\n",
    "[\t0.28837327\t]\t,\n",
    "[\t0.297145757\t]\t,\n",
    "[\t0.243669818\t]\t,\n",
    "[\t0.307437314\t]\t,\n",
    "[\t0.358597855\t]\t,\n",
    "[\t0.372181217\t]\t,\n",
    "[\t0.450259481\t]\t,\n",
    "[\t0.443095634\t]\t,\n",
    "[\t0.558155976\t]\t,\n",
    "[\t0.602359827\t]\t,\n",
    "[\t0.696291723\t]\t,\n",
    "[\t0.790604671\t]\t,\n",
    "[\t0.644022227\t]\t,\n",
    "[\t0.583228643\t]\t,\n",
    "[\t0.481715009\t]\t,\n",
    "[\t0.442812107\t]\t,\n",
    "[\t0.496270585\t]\t,\n",
    "[\t0.475463393\t]\t,\n",
    "[\t0.551559791\t]\t,\n",
    "[\t0.500994351\t]\t,\n",
    "[\t0.445458587\t]\t,\n",
    "[\t0.505711667\t]\t,\n",
    "[\t0.465889036\t]\t,\n",
    "[\t0.46785659\t]\t,\n",
    "[\t0.453001423\t]\t,\n",
    "[\t0.437411724\t]\t,\n",
    "[\t0.350673696\t]\t,\n",
    "[\t0.364031312\t]\t,\n",
    "\n",
    "\n",
    ")\n",
    ",dtype=float)\n",
    "\n",
    "dataprediksi = np.array(([\t0.46785659\t,\t0.453001423\t,\t0.437411724\t,\t0.350673696\t,\t0.364031312\t]\t,\n",
    "[\t0.453001423\t,\t0.437411724\t,\t0.350673696\t,\t0.364031312\t,\t0.795380412\t]\t,\n",
    "[\t0.437411724\t,\t0.350673696\t,\t0.364031312\t,\t0.795380412\t,\t1\t]\t,\n",
    "[\t0.350673696\t,\t0.364031312\t,\t0.795380412\t,\t1\t,\t0.707681705\t]\t,\n",
    "\n",
    "\n",
    "), dtype=float)\n"
   ]
  },
  {
   "cell_type": "code",
   "execution_count": 7,
   "metadata": {},
   "outputs": [],
   "source": [
    "import matplotlib.pyplot as plot"
   ]
  },
  {
   "cell_type": "code",
   "execution_count": 8,
   "metadata": {},
   "outputs": [],
   "source": [
    "from scipy import optimize"
   ]
  },
  {
   "cell_type": "code",
   "execution_count": 9,
   "metadata": {},
   "outputs": [],
   "source": [
    "class trainer(object):\n",
    "    def __init__(self, N):\n",
    "        #Make Local reference to network:\n",
    "        self.N = N\n",
    "        \n",
    "    def callbackF(self, params):\n",
    "        self.N.setParams(params)\n",
    "        self.J.append(self.N.costFunction(self.X, self.y))   \n",
    "        \n",
    "    def costFunctionWrapper(self, params, X, y):\n",
    "        self.N.setParams(params)\n",
    "        cost = self.N.costFunction(X, y)\n",
    "        grad = self.N.computeGradients(X,y)\n",
    "        \n",
    "        return cost, grad\n",
    "        \n",
    "    def train(self, X, y):\n",
    "        #Make an internal variable for the callback function:\n",
    "        self.X = X\n",
    "        self.y = y\n",
    "\n",
    "        #Make empty list to store costs:\n",
    "        self.J = []\n",
    "        \n",
    "        params0 = self.N.getParams()\n",
    "\n",
    "        options = {'maxiter': 100, 'disp' : True}\n",
    "        _res = optimize.minimize(self.costFunctionWrapper, params0, jac=True, method='BFGS', \\\n",
    "                                 args=(X, y), options=options, callback=self.callbackF)\n",
    "\n",
    "        self.N.setParams(_res.x)\n",
    "        self.optimizationResults = _res"
   ]
  },
  {
   "cell_type": "code",
   "execution_count": 10,
   "metadata": {},
   "outputs": [],
   "source": [
    "NN=Neural_Network()"
   ]
  },
  {
   "cell_type": "code",
   "execution_count": 11,
   "metadata": {},
   "outputs": [],
   "source": [
    "T = trainer(NN)"
   ]
  },
  {
   "cell_type": "code",
   "execution_count": 12,
   "metadata": {},
   "outputs": [
    {
     "name": "stdout",
     "output_type": "stream",
     "text": [
      "Warning: Maximum number of iterations has been exceeded.\n",
      "         Current function value: 0.101359\n",
      "         Iterations: 100\n",
      "         Function evaluations: 108\n",
      "         Gradient evaluations: 108\n"
     ]
    }
   ],
   "source": [
    "#Train network with new data:\n",
    "T = trainer(NN)\n",
    "T.train(X,y)"
   ]
  },
  {
   "cell_type": "code",
   "execution_count": 13,
   "metadata": {},
   "outputs": [
    {
     "data": {
      "image/png": "[encoded data removed]",
      "text/plain": [
       "<Figure size 432x288 with 1 Axes>"
      ]
     },
     "metadata": {
      "needs_background": "light"
     },
     "output_type": "display_data"
    }
   ],
   "source": [
    "#Plot cost during training:\n",
    "plot.plot(T.J)\n",
    "plot.grid(1)\n",
    "plot.xlabel('Iterations')\n",
    "plot.ylabel('Cost')\n",
    "plot.show()"
   ]
  },
  {
   "cell_type": "code",
   "execution_count": 14,
   "metadata": {},
   "outputs": [],
   "source": [
    "#Training Data:\n",
    "trainX = np.array(([\t0\t,\t0.051924996\t,\t0.148319042\t,\t0.112113419\t,\t0.170734062\t]\t,\n",
    "[\t0.051924996\t,\t0.148319042\t,\t0.112113419\t,\t0.170734062\t,\t0.223256598\t]\t,\n",
    "[\t0.148319042\t,\t0.112113419\t,\t0.170734062\t,\t0.223256598\t,\t0.241974687\t]\t,\n",
    "[\t0.112113419\t,\t0.170734062\t,\t0.223256598\t,\t0.241974687\t,\t0.365733465\t]\t,\n",
    "[\t0.170734062\t,\t0.223256598\t,\t0.241974687\t,\t0.365733465\t,\t0.552558994\t]\t,\n",
    "[\t0.223256598\t,\t0.241974687\t,\t0.365733465\t,\t0.552558994\t,\t0.370023519\t]\t,\n",
    "[\t0.241974687\t,\t0.365733465\t,\t0.552558994\t,\t0.370023519\t,\t0.332531703\t]\t,\n",
    "[\t0.365733465\t,\t0.552558994\t,\t0.370023519\t,\t0.332531703\t,\t0.387887522\t]\t,\n",
    "[\t0.552558994\t,\t0.370023519\t,\t0.332531703\t,\t0.387887522\t,\t0.398363943\t]\t,\n",
    "[\t0.370023519\t,\t0.332531703\t,\t0.387887522\t,\t0.398363943\t,\t0.284826299\t]\t,\n",
    "[\t0.332531703\t,\t0.387887522\t,\t0.398363943\t,\t0.284826299\t,\t0.186735022\t]\t,\n",
    "[\t0.387887522\t,\t0.398363943\t,\t0.284826299\t,\t0.186735022\t,\t0.182694768\t]\t,\n",
    "[\t0.398363943\t,\t0.284826299\t,\t0.186735022\t,\t0.182694768\t,\t0.255617002\t]\t,\n",
    "[\t0.284826299\t,\t0.186735022\t,\t0.182694768\t,\t0.255617002\t,\t0.23597043\t]\t,\n",
    "[\t0.186735022\t,\t0.182694768\t,\t0.255617002\t,\t0.23597043\t,\t0.164134134\t]\t,\n",
    "[\t0.182694768\t,\t0.255617002\t,\t0.23597043\t,\t0.164134134\t,\t0.178176635\t]\t,\n",
    "[\t0.255617002\t,\t0.23597043\t,\t0.164134134\t,\t0.178176635\t,\t0.163956101\t]\t,\n",
    "[\t0.23597043\t,\t0.164134134\t,\t0.178176635\t,\t0.163956101\t,\t0.133241484\t]\t,\n",
    "[\t0.164134134\t,\t0.178176635\t,\t0.163956101\t,\t0.133241484\t,\t0.226399017\t]\t,\n",
    "[\t0.178176635\t,\t0.163956101\t,\t0.133241484\t,\t0.226399017\t,\t0.255013861\t]\t,\n",
    "[\t0.163956101\t,\t0.133241484\t,\t0.226399017\t,\t0.255013861\t,\t0.23708614\t]\t,\n",
    "[\t0.133241484\t,\t0.226399017\t,\t0.255013861\t,\t0.23708614\t,\t0.231651119\t]\t,\n",
    "[\t0.226399017\t,\t0.255013861\t,\t0.23708614\t,\t0.231651119\t,\t0.233067608\t]\t,\n",
    "[\t0.255013861\t,\t0.23708614\t,\t0.231651119\t,\t0.233067608\t,\t0.221173719\t]\t,\n",
    "[\t0.23708614\t,\t0.231651119\t,\t0.233067608\t,\t0.221173719\t,\t0.22633168\t]\t,\n",
    "[\t0.231651119\t,\t0.233067608\t,\t0.221173719\t,\t0.22633168\t,\t0.218698642\t]\t,\n",
    "[\t0.233067608\t,\t0.221173719\t,\t0.22633168\t,\t0.218698642\t,\t0.232032203\t]\t,\n",
    "[\t0.221173719\t,\t0.22633168\t,\t0.218698642\t,\t0.232032203\t,\t0.231947948\t]\t,\n",
    "[\t0.22633168\t,\t0.218698642\t,\t0.232032203\t,\t0.231947948\t,\t0.221547817\t]\t,\n",
    "[\t0.218698642\t,\t0.232032203\t,\t0.231947948\t,\t0.221547817\t,\t0.287958581\t]\t,\n",
    "[\t0.232032203\t,\t0.231947948\t,\t0.221547817\t,\t0.287958581\t,\t0.28837327\t]\t,\n",
    "[\t0.231947948\t,\t0.221547817\t,\t0.287958581\t,\t0.28837327\t,\t0.297145757\t]\t,\n",
    "[\t0.221547817\t,\t0.287958581\t,\t0.28837327\t,\t0.297145757\t,\t0.243669818\t]\t,\n",
    "[\t0.287958581\t,\t0.28837327\t,\t0.297145757\t,\t0.243669818\t,\t0.307437314\t]\t,\n",
    "[\t0.28837327\t,\t0.297145757\t,\t0.243669818\t,\t0.307437314\t,\t0.358597855\t]\t,\n",
    "[\t0.297145757\t,\t0.243669818\t,\t0.307437314\t,\t0.358597855\t,\t0.372181217\t]\t,\n",
    "[\t0.243669818\t,\t0.307437314\t,\t0.358597855\t,\t0.372181217\t,\t0.450259481\t]\t,\n",
    "[\t0.307437314\t,\t0.358597855\t,\t0.372181217\t,\t0.450259481\t,\t0.443095634\t]\t,\n",
    "[\t0.358597855\t,\t0.372181217\t,\t0.450259481\t,\t0.443095634\t,\t0.558155976\t]\t,\n",
    "[\t0.372181217\t,\t0.450259481\t,\t0.443095634\t,\t0.558155976\t,\t0.602359827\t]\t,\n",
    "[\t0.450259481\t,\t0.443095634\t,\t0.558155976\t,\t0.602359827\t,\t0.696291723\t]\t,\n",
    "[\t0.443095634\t,\t0.558155976\t,\t0.602359827\t,\t0.696291723\t,\t0.790604671\t]\t,\n",
    "[\t0.558155976\t,\t0.602359827\t,\t0.696291723\t,\t0.790604671\t,\t0.644022227\t]\t,\n",
    "[\t0.602359827\t,\t0.696291723\t,\t0.790604671\t,\t0.644022227\t,\t0.583228643\t]\t,\n",
    "[\t0.696291723\t,\t0.790604671\t,\t0.644022227\t,\t0.583228643\t,\t0.481715009\t]\t,\n",
    "\n",
    ")\n",
    ", dtype=float)\n",
    "trainY = np.array(([\t0.223256598\t]\t,\n",
    "[\t0.241974687\t]\t,\n",
    "[\t0.365733465\t]\t,\n",
    "[\t0.552558994\t]\t,\n",
    "[\t0.370023519\t]\t,\n",
    "[\t0.332531703\t]\t,\n",
    "[\t0.387887522\t]\t,\n",
    "[\t0.398363943\t]\t,\n",
    "[\t0.284826299\t]\t,\n",
    "[\t0.186735022\t]\t,\n",
    "[\t0.182694768\t]\t,\n",
    "[\t0.255617002\t]\t,\n",
    "[\t0.23597043\t]\t,\n",
    "[\t0.164134134\t]\t,\n",
    "[\t0.178176635\t]\t,\n",
    "[\t0.163956101\t]\t,\n",
    "[\t0.133241484\t]\t,\n",
    "[\t0.226399017\t]\t,\n",
    "[\t0.255013861\t]\t,\n",
    "[\t0.23708614\t]\t,\n",
    "[\t0.231651119\t]\t,\n",
    "[\t0.233067608\t]\t,\n",
    "[\t0.221173719\t]\t,\n",
    "[\t0.22633168\t]\t,\n",
    "[\t0.218698642\t]\t,\n",
    "[\t0.232032203\t]\t,\n",
    "[\t0.231947948\t]\t,\n",
    "[\t0.221547817\t]\t,\n",
    "[\t0.287958581\t]\t,\n",
    "[\t0.28837327\t]\t,\n",
    "[\t0.297145757\t]\t,\n",
    "[\t0.243669818\t]\t,\n",
    "[\t0.307437314\t]\t,\n",
    "[\t0.358597855\t]\t,\n",
    "[\t0.372181217\t]\t,\n",
    "[\t0.450259481\t]\t,\n",
    "[\t0.443095634\t]\t,\n",
    "[\t0.558155976\t]\t,\n",
    "[\t0.602359827\t]\t,\n",
    "[\t0.696291723\t]\t,\n",
    "[\t0.790604671\t]\t,\n",
    "[\t0.644022227\t]\t,\n",
    "[\t0.583228643\t]\t,\n",
    "[\t0.481715009\t]\t,\n",
    "[\t0.442812107\t]\t,\n",
    "\n",
    ")\n",
    ", dtype=float)\n",
    "\n",
    "#Testing Data:\n",
    "testX = np.array(([\t0.790604671\t,\t0.644022227\t,\t0.583228643\t,\t0.481715009\t,\t0.442812107\t]\t,\n",
    "[\t0.644022227\t,\t0.583228643\t,\t0.481715009\t,\t0.442812107\t,\t0.496270585\t]\t,\n",
    "[\t0.583228643\t,\t0.481715009\t,\t0.442812107\t,\t0.496270585\t,\t0.475463393\t]\t,\n",
    "[\t0.481715009\t,\t0.442812107\t,\t0.496270585\t,\t0.475463393\t,\t0.551559791\t]\t,\n",
    "[\t0.442812107\t,\t0.496270585\t,\t0.475463393\t,\t0.551559791\t,\t0.500994351\t]\t,\n",
    "[\t0.496270585\t,\t0.475463393\t,\t0.551559791\t,\t0.500994351\t,\t0.445458587\t]\t,\n",
    "[\t0.475463393\t,\t0.551559791\t,\t0.500994351\t,\t0.445458587\t,\t0.505711667\t]\t,\n",
    "[\t0.551559791\t,\t0.500994351\t,\t0.445458587\t,\t0.505711667\t,\t0.465889036\t]\t,\n",
    "[\t0.500994351\t,\t0.445458587\t,\t0.505711667\t,\t0.465889036\t,\t0.46785659\t]\t,\n",
    "[\t0.445458587\t,\t0.505711667\t,\t0.465889036\t,\t0.46785659\t,\t0.453001423\t]\t,\n",
    "[\t0.505711667\t,\t0.465889036\t,\t0.46785659\t,\t0.453001423\t,\t0.437411724\t]\t,\n",
    "[\t0.465889036\t,\t0.46785659\t,\t0.453001423\t,\t0.437411724\t,\t0.350673696\t]\t,\n",
    "\n",
    "\n",
    "\n",
    ")\n",
    ", dtype=float)\n",
    "testY = np.array(([\t0.496270585\t]\t,\n",
    "[\t0.475463393\t]\t,\n",
    "[\t0.551559791\t]\t,\n",
    "[\t0.500994351\t]\t,\n",
    "[\t0.445458587\t]\t,\n",
    "[\t0.505711667\t]\t,\n",
    "[\t0.465889036\t]\t,\n",
    "[\t0.46785659\t]\t,\n",
    "[\t0.453001423\t]\t,\n",
    "[\t0.437411724\t]\t,\n",
    "[\t0.350673696\t]\t,\n",
    "[\t0.364031312\t]\t,\n",
    "\n",
    "\n",
    ")\n",
    ", dtype=float)\n",
    "\n",
    "\n",
    "dataprediksi = np.array(([\t0.46785659\t,\t0.453001423\t,\t0.437411724\t,\t0.350673696\t,\t0.364031312\t]\t,\n",
    "[\t0.453001423\t,\t0.437411724\t,\t0.350673696\t,\t0.364031312\t,\t0.795380412\t]\t,\n",
    "[\t0.437411724\t,\t0.350673696\t,\t0.364031312\t,\t0.795380412\t,\t1\t]\t,\n",
    "[\t0.350673696\t,\t0.364031312\t,\t0.795380412\t,\t1\t,\t0.707681705\t]\t,\n",
    "\n",
    "\n",
    "\n",
    "), dtype=float)"
   ]
  },
  {
   "cell_type": "code",
   "execution_count": 15,
   "metadata": {},
   "outputs": [
    {
     "data": {
      "text/plain": [
       "array([[0.79060467, 0.64402223, 0.58322864, 0.48171501, 0.44281211],\n",
       "       [0.64402223, 0.58322864, 0.48171501, 0.44281211, 0.49627058],\n",
       "       [0.58322864, 0.48171501, 0.44281211, 0.49627058, 0.47546339],\n",
       "       [0.48171501, 0.44281211, 0.49627058, 0.47546339, 0.55155979],\n",
       "       [0.44281211, 0.49627058, 0.47546339, 0.55155979, 0.50099435],\n",
       "       [0.49627058, 0.47546339, 0.55155979, 0.50099435, 0.44545859],\n",
       "       [0.47546339, 0.55155979, 0.50099435, 0.44545859, 0.50571167],\n",
       "       [0.55155979, 0.50099435, 0.44545859, 0.50571167, 0.46588904],\n",
       "       [0.50099435, 0.44545859, 0.50571167, 0.46588904, 0.46785659],\n",
       "       [0.44545859, 0.50571167, 0.46588904, 0.46785659, 0.45300142],\n",
       "       [0.50571167, 0.46588904, 0.46785659, 0.45300142, 0.43741172],\n",
       "       [0.46588904, 0.46785659, 0.45300142, 0.43741172, 0.3506737 ]])"
      ]
     },
     "execution_count": 15,
     "metadata": {},
     "output_type": "execute_result"
    }
   ],
   "source": [
    "testX"
   ]
  },
  {
   "cell_type": "code",
   "execution_count": 16,
   "metadata": {},
   "outputs": [],
   "source": [
    "##Need to modify trainer class a bit to check testing error during training:\n",
    "class trainer(object):\n",
    "    def __init__(self, N):\n",
    "        #Make Local reference to network:\n",
    "        self.N = N\n",
    "        \n",
    "    def callbackF(self, params):\n",
    "        self.N.setParams(params)\n",
    "        self.J.append(self.N.costFunction(self.X, self.y))\n",
    "        self.testJ.append(self.N.costFunction(self.testX, self.testY))\n",
    "        \n",
    "    def costFunctionWrapper(self, params, X, y):\n",
    "        self.N.setParams(params)\n",
    "        cost = self.N.costFunction(X, y)\n",
    "        grad = self.N.computeGradients(X,y)\n",
    "        \n",
    "        return cost, grad\n",
    "        \n",
    "    def train(self, trainX, trainY, testX, testY):\n",
    "        #Make an internal variable for the callback function:\n",
    "        self.X = trainX\n",
    "        self.y = trainY\n",
    "        \n",
    "        self.testX = testX\n",
    "        self.testY = testY\n",
    "\n",
    "        #Make empty list to store training costs:\n",
    "        self.J = []\n",
    "        self.testJ = []\n",
    "        \n",
    "        params0 = self.N.getParams()\n",
    "\n",
    "        options = {'maxiter': 100, 'disp' : True}\n",
    "        _res = optimize.minimize(self.costFunctionWrapper, params0, jac=True, method='BFGS', \\\n",
    "                                 args=(trainX, trainY), options=options, callback=self.callbackF)\n",
    "\n",
    "        self.N.setParams(_res.x)\n",
    "        self.optimizationResults = _res"
   ]
  },
  {
   "cell_type": "code",
   "execution_count": 17,
   "metadata": {},
   "outputs": [
    {
     "name": "stdout",
     "output_type": "stream",
     "text": [
      "Warning: Maximum number of iterations has been exceeded.\n",
      "         Current function value: 0.063496\n",
      "         Iterations: 100\n",
      "         Function evaluations: 108\n",
      "         Gradient evaluations: 108\n"
     ]
    }
   ],
   "source": [
    "#Train network with new data:\n",
    "NN = Neural_Network()\n",
    "\n",
    "T = trainer(NN)\n",
    "T.train(trainX, trainY, testX, testY)"
   ]
  },
  {
   "cell_type": "code",
   "execution_count": 18,
   "metadata": {},
   "outputs": [
    {
     "data": {
      "image/png": "[encoded data removed]",
      "text/plain": [
       "<Figure size 432x288 with 1 Axes>"
      ]
     },
     "metadata": {
      "needs_background": "light"
     },
     "output_type": "display_data"
    }
   ],
   "source": [
    "#Plot cost during training:\n",
    "plot.plot(T.J)\n",
    "plot.plot(T.testJ)\n",
    "plot.grid(1)\n",
    "plot.xlabel('Iterations')\n",
    "plot.ylabel('Cost')\n",
    "plot.legend(['Training', 'Testing'])\n",
    "plot.show()"
   ]
  },
  {
   "cell_type": "code",
   "execution_count": 19,
   "metadata": {},
   "outputs": [
    {
     "data": {
      "text/plain": [
       "[array([0.59666024]),\n",
       " array([0.48953373]),\n",
       " array([0.46472628]),\n",
       " array([0.44167531]),\n",
       " array([0.42557728]),\n",
       " array([0.39705005]),\n",
       " array([0.34801191]),\n",
       " array([0.26777518]),\n",
       " array([0.22694101]),\n",
       " array([0.21511975]),\n",
       " array([0.21241771]),\n",
       " array([0.21086226]),\n",
       " array([0.20814151]),\n",
       " array([0.20323353]),\n",
       " array([0.19454844]),\n",
       " array([0.18040211]),\n",
       " array([0.1652947]),\n",
       " array([0.14903023]),\n",
       " array([0.13599586]),\n",
       " array([0.13449175]),\n",
       " array([0.13364973]),\n",
       " array([0.13289834]),\n",
       " array([0.13148901]),\n",
       " array([0.12882992]),\n",
       " array([0.1239328]),\n",
       " array([0.11556205]),\n",
       " array([0.10442323]),\n",
       " array([0.10062138]),\n",
       " array([0.09903965]),\n",
       " array([0.09747522]),\n",
       " array([0.09533324]),\n",
       " array([0.09375063]),\n",
       " array([0.09244191]),\n",
       " array([0.09022283]),\n",
       " array([0.08706571]),\n",
       " array([0.0850757]),\n",
       " array([0.08448613]),\n",
       " array([0.08437156]),\n",
       " array([0.08415239]),\n",
       " array([0.08375824]),\n",
       " array([0.08352491]),\n",
       " array([0.08332556]),\n",
       " array([0.08319957]),\n",
       " array([0.08297762]),\n",
       " array([0.08266282]),\n",
       " array([0.08235002]),\n",
       " array([0.08218789]),\n",
       " array([0.08214293]),\n",
       " array([0.08210137]),\n",
       " array([0.08206379]),\n",
       " array([0.08199743]),\n",
       " array([0.08187806]),\n",
       " array([0.08166472]),\n",
       " array([0.08130334]),\n",
       " array([0.08078322]),\n",
       " array([0.08048931]),\n",
       " array([0.08025459]),\n",
       " array([0.08014769]),\n",
       " array([0.0801118]),\n",
       " array([0.08008271]),\n",
       " array([0.08006411]),\n",
       " array([0.08003166]),\n",
       " array([0.07997226]),\n",
       " array([0.07986363]),\n",
       " array([0.0796725]),\n",
       " array([0.07937223]),\n",
       " array([0.07908605]),\n",
       " array([0.07896558]),\n",
       " array([0.07889026]),\n",
       " array([0.07886238]),\n",
       " array([0.07882856]),\n",
       " array([0.07878535]),\n",
       " array([0.07870944]),\n",
       " array([0.07857075]),\n",
       " array([0.0783152]),\n",
       " array([0.07785099]),\n",
       " array([0.07704696]),\n",
       " array([0.07584631]),\n",
       " array([0.07482136]),\n",
       " array([0.07397438]),\n",
       " array([0.07387378]),\n",
       " array([0.07380806]),\n",
       " array([0.07378375]),\n",
       " array([0.07374758]),\n",
       " array([0.0736998]),\n",
       " array([0.07361665]),\n",
       " array([0.07346721]),\n",
       " array([0.0731971]),\n",
       " array([0.07271669]),\n",
       " array([0.07189157]),\n",
       " array([0.07057237]),\n",
       " array([0.0692999]),\n",
       " array([0.06828175]),\n",
       " array([0.06693636]),\n",
       " array([0.0653167]),\n",
       " array([0.06380876]),\n",
       " array([0.06362615]),\n",
       " array([0.06358155]),\n",
       " array([0.06352701]),\n",
       " array([0.06349597])]"
      ]
     },
     "execution_count": 19,
     "metadata": {},
     "output_type": "execute_result"
    }
   ],
   "source": [
    "T.J"
   ]
  },
  {
   "cell_type": "code",
   "execution_count": 20,
   "metadata": {},
   "outputs": [
    {
     "data": {
      "text/plain": [
       "[array([0.13255081]),\n",
       " array([0.04987063]),\n",
       " array([0.0560531]),\n",
       " array([0.09876254]),\n",
       " array([0.08794477]),\n",
       " array([0.07166623]),\n",
       " array([0.04665834]),\n",
       " array([0.02167395]),\n",
       " array([0.01606859]),\n",
       " array([0.01273861]),\n",
       " array([0.01383435]),\n",
       " array([0.01556101]),\n",
       " array([0.01771813]),\n",
       " array([0.02124561]),\n",
       " array([0.02639048]),\n",
       " array([0.03098232]),\n",
       " array([0.03972101]),\n",
       " array([0.0351992]),\n",
       " array([0.03319624]),\n",
       " array([0.03237998]),\n",
       " array([0.03854194]),\n",
       " array([0.03746269]),\n",
       " array([0.03662883]),\n",
       " array([0.03567845]),\n",
       " array([0.03468606]),\n",
       " array([0.03416611]),\n",
       " array([0.0359371]),\n",
       " array([0.03721916]),\n",
       " array([0.03804841]),\n",
       " array([0.0383769]),\n",
       " array([0.03817863]),\n",
       " array([0.03754557]),\n",
       " array([0.03730156]),\n",
       " array([0.03777157]),\n",
       " array([0.03800878]),\n",
       " array([0.03575553]),\n",
       " array([0.03646678]),\n",
       " array([0.03627494]),\n",
       " array([0.03680754]),\n",
       " array([0.03747565]),\n",
       " array([0.04046596]),\n",
       " array([0.03932255]),\n",
       " array([0.03924766]),\n",
       " array([0.04004296]),\n",
       " array([0.04082283]),\n",
       " array([0.04231428]),\n",
       " array([0.04254244]),\n",
       " array([0.04349324]),\n",
       " array([0.04465413]),\n",
       " array([0.04456309]),\n",
       " array([0.04469602]),\n",
       " array([0.04477502]),\n",
       " array([0.04501791]),\n",
       " array([0.04533949]),\n",
       " array([0.04504941]),\n",
       " array([0.04494788]),\n",
       " array([0.04432095]),\n",
       " array([0.04466325]),\n",
       " array([0.0450021]),\n",
       " array([0.04580835]),\n",
       " array([0.0459378]),\n",
       " array([0.04595929]),\n",
       " array([0.04586918]),\n",
       " array([0.04564972]),\n",
       " array([0.04518823]),\n",
       " array([0.04431675]),\n",
       " array([0.04339167]),\n",
       " array([0.04378775]),\n",
       " array([0.0445611]),\n",
       " array([0.04522618]),\n",
       " array([0.04557026]),\n",
       " array([0.04596197]),\n",
       " array([0.04640074]),\n",
       " array([0.04703591]),\n",
       " array([0.04814817]),\n",
       " array([0.05021488]),\n",
       " array([0.05425711]),\n",
       " array([0.06232488]),\n",
       " array([0.06952392]),\n",
       " array([0.07111862]),\n",
       " array([0.06809065]),\n",
       " array([0.06772317]),\n",
       " array([0.06793423]),\n",
       " array([0.06768245]),\n",
       " array([0.06763748]),\n",
       " array([0.06750492]),\n",
       " array([0.06730711]),\n",
       " array([0.06698685]),\n",
       " array([0.06641237]),\n",
       " array([0.06549731]),\n",
       " array([0.06371204]),\n",
       " array([0.06217886]),\n",
       " array([0.05810877]),\n",
       " array([0.0582275]),\n",
       " array([0.0570828]),\n",
       " array([0.05677083]),\n",
       " array([0.05746874]),\n",
       " array([0.05742356]),\n",
       " array([0.05718519]),\n",
       " array([0.05740714])]"
      ]
     },
     "execution_count": 20,
     "metadata": {},
     "output_type": "execute_result"
    }
   ],
   "source": [
    "T.testJ"
   ]
  },
  {
   "cell_type": "code",
   "execution_count": 21,
   "metadata": {},
   "outputs": [
    {
     "data": {
      "text/plain": [
       "0.07596672799513353"
      ]
     },
     "execution_count": 21,
     "metadata": {},
     "output_type": "execute_result"
    }
   ],
   "source": [
    "from sklearn.metrics import mean_absolute_error\n",
    "mean_absolute_error(T.J, T.testJ)"
   ]
  },
  {
   "cell_type": "code",
   "execution_count": 22,
   "metadata": {},
   "outputs": [],
   "source": [
    "yHat = NN.forward(X)"
   ]
  },
  {
   "cell_type": "code",
   "execution_count": 23,
   "metadata": {},
   "outputs": [
    {
     "data": {
      "text/plain": [
       "array([[0.24462713],\n",
       "       [0.2266335 ],\n",
       "       [0.27037767],\n",
       "       [0.40711108],\n",
       "       [0.45557977],\n",
       "       [0.34045303],\n",
       "       [0.35769405],\n",
       "       [0.40301417],\n",
       "       [0.32971446],\n",
       "       [0.21007649],\n",
       "       [0.15638998],\n",
       "       [0.17673347],\n",
       "       [0.21306448],\n",
       "       [0.21265267],\n",
       "       [0.16537166],\n",
       "       [0.22531869],\n",
       "       [0.15913789],\n",
       "       [0.13219806],\n",
       "       [0.24281644],\n",
       "       [0.24221009],\n",
       "       [0.2617122 ],\n",
       "       [0.3005589 ],\n",
       "       [0.26190598],\n",
       "       [0.22977705],\n",
       "       [0.24713078],\n",
       "       [0.23565575],\n",
       "       [0.25377806],\n",
       "       [0.2537224 ],\n",
       "       [0.23977738],\n",
       "       [0.32643057],\n",
       "       [0.30947649],\n",
       "       [0.33685509],\n",
       "       [0.27629531],\n",
       "       [0.35561689],\n",
       "       [0.36617369],\n",
       "       [0.40247997],\n",
       "       [0.53553118],\n",
       "       [0.50474405],\n",
       "       [0.61962414],\n",
       "       [0.62776607],\n",
       "       [0.68755807],\n",
       "       [0.72511829],\n",
       "       [0.56715068],\n",
       "       [0.529086  ],\n",
       "       [0.42609008],\n",
       "       [0.27339273],\n",
       "       [0.486403  ],\n",
       "       [0.42764761],\n",
       "       [0.5805569 ],\n",
       "       [0.5277472 ],\n",
       "       [0.38850669],\n",
       "       [0.56486568],\n",
       "       [0.4357518 ],\n",
       "       [0.44504218],\n",
       "       [0.49158198],\n",
       "       [0.41635644],\n",
       "       [0.29556133]])"
      ]
     },
     "execution_count": 23,
     "metadata": {},
     "output_type": "execute_result"
    }
   ],
   "source": [
    "yHat"
   ]
  },
  {
   "cell_type": "code",
   "execution_count": 24,
   "metadata": {},
   "outputs": [
    {
     "data": {
      "text/plain": [
       "array([[0.2232566 ],\n",
       "       [0.24197469],\n",
       "       [0.36573346],\n",
       "       [0.55255899],\n",
       "       [0.37002352],\n",
       "       [0.3325317 ],\n",
       "       [0.38788752],\n",
       "       [0.39836394],\n",
       "       [0.2848263 ],\n",
       "       [0.18673502],\n",
       "       [0.18269477],\n",
       "       [0.255617  ],\n",
       "       [0.23597043],\n",
       "       [0.16413413],\n",
       "       [0.17817663],\n",
       "       [0.1639561 ],\n",
       "       [0.13324148],\n",
       "       [0.22639902],\n",
       "       [0.25501386],\n",
       "       [0.23708614],\n",
       "       [0.23165112],\n",
       "       [0.23306761],\n",
       "       [0.22117372],\n",
       "       [0.22633168],\n",
       "       [0.21869864],\n",
       "       [0.2320322 ],\n",
       "       [0.23194795],\n",
       "       [0.22154782],\n",
       "       [0.28795858],\n",
       "       [0.28837327],\n",
       "       [0.29714576],\n",
       "       [0.24366982],\n",
       "       [0.30743731],\n",
       "       [0.35859786],\n",
       "       [0.37218122],\n",
       "       [0.45025948],\n",
       "       [0.44309563],\n",
       "       [0.55815598],\n",
       "       [0.60235983],\n",
       "       [0.69629172],\n",
       "       [0.79060467],\n",
       "       [0.64402223],\n",
       "       [0.58322864],\n",
       "       [0.48171501],\n",
       "       [0.44281211],\n",
       "       [0.49627058],\n",
       "       [0.47546339],\n",
       "       [0.55155979],\n",
       "       [0.50099435],\n",
       "       [0.44545859],\n",
       "       [0.50571167],\n",
       "       [0.46588904],\n",
       "       [0.46785659],\n",
       "       [0.45300142],\n",
       "       [0.43741172],\n",
       "       [0.3506737 ],\n",
       "       [0.36403131]])"
      ]
     },
     "execution_count": 24,
     "metadata": {},
     "output_type": "execute_result"
    }
   ],
   "source": [
    "y"
   ]
  },
  {
   "cell_type": "code",
   "execution_count": 25,
   "metadata": {},
   "outputs": [
    {
     "data": {
      "text/plain": [
       "0.004242214551536448"
      ]
     },
     "execution_count": 25,
     "metadata": {},
     "output_type": "execute_result"
    }
   ],
   "source": [
    "from sklearn.metrics import mean_squared_error \n",
    "mean_squared_error(y,yHat) "
   ]
  },
  {
   "cell_type": "code",
   "execution_count": 26,
   "metadata": {},
   "outputs": [
    {
     "data": {
      "image/png": "[encoded data removed]",
      "text/plain": [
       "<Figure size 432x288 with 1 Axes>"
      ]
     },
     "metadata": {
      "needs_background": "light"
     },
     "output_type": "display_data"
    }
   ],
   "source": [
    "#Plot cost during training:\n",
    "plot.plot(y)\n",
    "plot.plot(yHat)\n",
    "plot.grid(1)\n",
    "plot.legend(['y', 'yHat'])\n",
    "plot.show()"
   ]
  },
  {
   "cell_type": "code",
   "execution_count": 27,
   "metadata": {},
   "outputs": [],
   "source": [
    "#Regularization Parameter:\n",
    "Lambda = 0.0001"
   ]
  },
  {
   "cell_type": "code",
   "execution_count": 28,
   "metadata": {},
   "outputs": [],
   "source": [
    "#Need to make changes to costFunction and costFunctionPrim:\n",
    "def costFunction(self, X, y):\n",
    "    #Compute cost for given X,y, use weights already stored in class.\n",
    "    self.yHat = self.forward(X)\n",
    "    #We don't want cost to increase with the number of examples, so normalize by dividing the error term by number of examples(X.shape[0])\n",
    "    J = 0.5*sum((y-self.yHat)**2)/X.shape[0] + (self.Lambda/2)*(sum(self.W1**2)+sum(self.W2**2))\n",
    "    return J\n",
    "\n",
    "def costFunctionPrime(self, X, y):\n",
    "    #Compute derivative with respect to W and W2 for a given X and y:\n",
    "    self.yHat = self.forward(X)\n",
    "\n",
    "    delta3 = np.multiply(-(y-self.yHat), self.sigmoidPrime(self.z3))\n",
    "    #Add gradient of regularization term:\n",
    "    dJdW2 = np.dot(self.a2.T, delta3)/X.shape[0] + self.Lambda*self.W2\n",
    "\n",
    "    delta2 = np.dot(delta3, self.W2.T)*self.sigmoidPrime(self.z2)\n",
    "    #Add gradient of regularization term:\n",
    "    dJdW1 = np.dot(X.T, delta2)/X.shape[0] + self.Lambda*self.W1\n",
    "\n",
    "    return dJdW1, dJdW2"
   ]
  },
  {
   "cell_type": "code",
   "execution_count": 29,
   "metadata": {},
   "outputs": [],
   "source": [
    "#New complete class, with changes:\n",
    "class Neural_Network(object):\n",
    "    def __init__(self, Lambda=0.0001):        \n",
    "        #Define Hyperparameters\n",
    "        self.inputLayerSize = 5\n",
    "        self.outputLayerSize = 1\n",
    "        self.hiddenLayerSize = 2\n",
    "        \n",
    "        #Weights (parameters)\n",
    "        self.W1 = np.random.randn(self.inputLayerSize,self.hiddenLayerSize)\n",
    "        self.W2 = np.random.randn(self.hiddenLayerSize,self.outputLayerSize)\n",
    "        \n",
    "        #Regularization Parameter:\n",
    "        self.Lambda = Lambda\n",
    "        \n",
    "    def forward(self, X):\n",
    "        #Propogate inputs though network\n",
    "        self.z2 = np.dot(X, self.W1)\n",
    "        self.a2 = self.sigmoid(self.z2)\n",
    "        self.z3 = np.dot(self.a2, self.W2)\n",
    "        yHat = self.sigmoid(self.z3) \n",
    "        return yHat\n",
    "        \n",
    "    def sigmoid(self, z):\n",
    "        #Apply sigmoid activation function to scalar, vector, or matrix\n",
    "        return 1/(1+np.exp(-z))\n",
    "    \n",
    "    def sigmoidPrime(self,z):\n",
    "        #Gradient of sigmoid\n",
    "        return np.exp(-z)/((1+np.exp(-z))**2)\n",
    "    \n",
    "    def costFunction(self, X, y):\n",
    "        #Compute cost for given X,y, use weights already stored in class.\n",
    "        self.yHat = self.forward(X)\n",
    "        J = 0.5*sum((y-self.yHat)**2)/X.shape[0] + (self.Lambda/2)*(np.sum(self.W1**2)+np.sum(self.W2**2))\n",
    "        return J\n",
    "        \n",
    "    def costFunctionPrime(self, X, y):\n",
    "        #Compute derivative with respect to W and W2 for a given X and y:\n",
    "        self.yHat = self.forward(X)\n",
    "        \n",
    "        delta3 = np.multiply(-(y-self.yHat), self.sigmoidPrime(self.z3))\n",
    "        #Add gradient of regularization term:\n",
    "        dJdW2 = np.dot(self.a2.T, delta3)/X.shape[0] + self.Lambda*self.W2\n",
    "        \n",
    "        delta2 = np.dot(delta3, self.W2.T)*self.sigmoidPrime(self.z2)\n",
    "        #Add gradient of regularization term:\n",
    "        dJdW1 = np.dot(X.T, delta2)/X.shape[0] + self.Lambda*self.W1\n",
    "        \n",
    "        return dJdW1, dJdW2\n",
    "    \n",
    "    def predict(self):\n",
    "        prediksi = self.forward(dataprediksi)\n",
    "        return prediksi\n",
    "    \n",
    "    #Helper functions for interacting with other methods/classes\n",
    "    def getParams(self):\n",
    "        #Get W1 and W2 Rolled into vector:\n",
    "        params = np.concatenate((self.W1.ravel(), self.W2.ravel()))\n",
    "        return params\n",
    "    \n",
    "    def setParams(self, params):\n",
    "        #Set W1 and W2 using single parameter vector:\n",
    "        W1_start = 0\n",
    "        W1_end = self.hiddenLayerSize*self.inputLayerSize\n",
    "        self.W1 = np.reshape(params[W1_start:W1_end], \\\n",
    "                             (self.inputLayerSize, self.hiddenLayerSize))\n",
    "        W2_end = W1_end + self.hiddenLayerSize*self.outputLayerSize\n",
    "        self.W2 = np.reshape(params[W1_end:W2_end], \\\n",
    "                             (self.hiddenLayerSize, self.outputLayerSize))\n",
    "        \n",
    "    def computeGradients(self, X, y):\n",
    "        dJdW1, dJdW2 = self.costFunctionPrime(X, y)\n",
    "        return np.concatenate((dJdW1.ravel(), dJdW2.ravel()))"
   ]
  },
  {
   "cell_type": "code",
   "execution_count": 30,
   "metadata": {},
   "outputs": [],
   "source": [
    "def computeNumericalGradient(N, X, y):\n",
    "    paramsInitial = N.getParams()\n",
    "    numgrad = np.zeros(paramsInitial.shape)\n",
    "    perturb = np.zeros(paramsInitial.shape)\n",
    "    e = 1e-4\n",
    "\n",
    "    for p in range(len(paramsInitial)):\n",
    "        #Set perturbation vector\n",
    "        perturb[p] = e\n",
    "        N.setParams(paramsInitial + perturb)\n",
    "        loss2 = N.costFunction(X, y)\n",
    "            \n",
    "        N.setParams(paramsInitial - perturb)\n",
    "        loss1 = N.costFunction(X, y)\n",
    "\n",
    "        #Compute Numerical Gradient\n",
    "        numgrad[p] = (loss2 - loss1) / (2*e)\n",
    "\n",
    "            #Return the value we changed to zero:\n",
    "        perturb[p] = 0\n",
    "            \n",
    "    #Return Params to original value:\n",
    "    N.setParams(paramsInitial)\n",
    "\n",
    "    return numgrad "
   ]
  },
  {
   "cell_type": "code",
   "execution_count": 31,
   "metadata": {},
   "outputs": [],
   "source": [
    "NN = Neural_Network(Lambda=0.0001)"
   ]
  },
  {
   "cell_type": "code",
   "execution_count": 32,
   "metadata": {},
   "outputs": [],
   "source": [
    "#Make sure our gradients our correct after making changes:\n",
    "numgrad = computeNumericalGradient(NN, X, y)\n",
    "grad = NN.computeGradients(X,y)"
   ]
  },
  {
   "cell_type": "code",
   "execution_count": 33,
   "metadata": {},
   "outputs": [
    {
     "data": {
      "text/plain": [
       "6.722058254917375e-10"
      ]
     },
     "execution_count": 33,
     "metadata": {},
     "output_type": "execute_result"
    }
   ],
   "source": [
    "#Should be less than 1e-8:\n",
    "np.linalg.norm(grad-numgrad)/np.linalg.norm(grad+numgrad)"
   ]
  },
  {
   "cell_type": "code",
   "execution_count": 34,
   "metadata": {},
   "outputs": [],
   "source": [
    "T = trainer(NN)"
   ]
  },
  {
   "cell_type": "code",
   "execution_count": 35,
   "metadata": {},
   "outputs": [
    {
     "name": "stdout",
     "output_type": "stream",
     "text": [
      "Warning: Maximum number of iterations has been exceeded.\n",
      "         Current function value: 0.004246\n",
      "         Iterations: 100\n",
      "         Function evaluations: 102\n",
      "         Gradient evaluations: 102\n"
     ]
    }
   ],
   "source": [
    "T.train(X,y,testX,testY)"
   ]
  },
  {
   "cell_type": "code",
   "execution_count": 36,
   "metadata": {},
   "outputs": [
    {
     "data": {
      "image/png": "[encoded data removed]",
      "text/plain": [
       "<Figure size 432x288 with 1 Axes>"
      ]
     },
     "metadata": {
      "needs_background": "light"
     },
     "output_type": "display_data"
    }
   ],
   "source": [
    "plot.plot(T.J)\n",
    "plot.plot(T.testJ)\n",
    "plot.grid(1)\n",
    "plot.xlabel('Iterations')\n",
    "plot.ylabel('Cost')\n",
    "plot.legend(['Training', 'Testing'])\n",
    "plot.show()"
   ]
  },
  {
   "cell_type": "code",
   "execution_count": 37,
   "metadata": {},
   "outputs": [
    {
     "data": {
      "text/plain": [
       "[array([0.01550015]),\n",
       " array([0.01379239]),\n",
       " array([0.01195934]),\n",
       " array([0.01194227]),\n",
       " array([0.01191232]),\n",
       " array([0.01185724]),\n",
       " array([0.01175463]),\n",
       " array([0.0115644]),\n",
       " array([0.01121977]),\n",
       " array([0.01062727]),\n",
       " array([0.009705]),\n",
       " array([0.00896228]),\n",
       " array([0.00885703]),\n",
       " array([0.00871107]),\n",
       " array([0.00846886]),\n",
       " array([0.00840969]),\n",
       " array([0.00835889]),\n",
       " array([0.00835473]),\n",
       " array([0.00834698]),\n",
       " array([0.00833252]),\n",
       " array([0.00830576]),\n",
       " array([0.00825718]),\n",
       " array([0.00817167]),\n",
       " array([0.00802682]),\n",
       " array([0.00778612]),\n",
       " array([0.00738091]),\n",
       " array([0.00674645]),\n",
       " array([0.0063847]),\n",
       " array([0.00636951]),\n",
       " array([0.00634331]),\n",
       " array([0.00630823]),\n",
       " array([0.00630249]),\n",
       " array([0.00630138]),\n",
       " array([0.00629982]),\n",
       " array([0.00629914]),\n",
       " array([0.00629835]),\n",
       " array([0.00629688]),\n",
       " array([0.00629413]),\n",
       " array([0.00628895]),\n",
       " array([0.00627925]),\n",
       " array([0.00626144]),\n",
       " array([0.00622969]),\n",
       " array([0.00617554]),\n",
       " array([0.00608835]),\n",
       " array([0.00595474]),\n",
       " array([0.00576675]),\n",
       " array([0.00552402]),\n",
       " array([0.0054458]),\n",
       " array([0.00531328]),\n",
       " array([0.00511769]),\n",
       " array([0.00502397]),\n",
       " array([0.00500323]),\n",
       " array([0.00499941]),\n",
       " array([0.00499833]),\n",
       " array([0.00499691]),\n",
       " array([0.00499436]),\n",
       " array([0.00498966]),\n",
       " array([0.0049809]),\n",
       " array([0.00496468]),\n",
       " array([0.00493514]),\n",
       " array([0.00488312]),\n",
       " array([0.00479721]),\n",
       " array([0.00467551]),\n",
       " array([0.00458261]),\n",
       " array([0.00452388]),\n",
       " array([0.00445367]),\n",
       " array([0.00439281]),\n",
       " array([0.00432031]),\n",
       " array([0.00430934]),\n",
       " array([0.00430224]),\n",
       " array([0.00429974]),\n",
       " array([0.00429915]),\n",
       " array([0.00429899]),\n",
       " array([0.00429895]),\n",
       " array([0.00429888]),\n",
       " array([0.00429876]),\n",
       " array([0.00429855]),\n",
       " array([0.00429816]),\n",
       " array([0.00429745]),\n",
       " array([0.00429619]),\n",
       " array([0.00429399]),\n",
       " array([0.00429023]),\n",
       " array([0.00428407]),\n",
       " array([0.00427456]),\n",
       " array([0.00426277]),\n",
       " array([0.00425337]),\n",
       " array([0.00424912]),\n",
       " array([0.00424844]),\n",
       " array([0.00424841]),\n",
       " array([0.00424841]),\n",
       " array([0.0042484]),\n",
       " array([0.00424839]),\n",
       " array([0.00424837]),\n",
       " array([0.00424833]),\n",
       " array([0.00424826]),\n",
       " array([0.00424814]),\n",
       " array([0.00424792]),\n",
       " array([0.00424757]),\n",
       " array([0.00424703]),\n",
       " array([0.00424614])]"
      ]
     },
     "execution_count": 37,
     "metadata": {},
     "output_type": "execute_result"
    }
   ],
   "source": [
    "T.J"
   ]
  },
  {
   "cell_type": "code",
   "execution_count": 38,
   "metadata": {},
   "outputs": [
    {
     "data": {
      "text/plain": [
       "[array([0.01969548]),\n",
       " array([0.01525713]),\n",
       " array([0.00716085]),\n",
       " array([0.00683031]),\n",
       " array([0.00649834]),\n",
       " array([0.00612688]),\n",
       " array([0.00565672]),\n",
       " array([0.00502312]),\n",
       " array([0.00417582]),\n",
       " array([0.00317372]),\n",
       " array([0.00242224]),\n",
       " array([0.00275973]),\n",
       " array([0.00314264]),\n",
       " array([0.00338511]),\n",
       " array([0.00373936]),\n",
       " array([0.00481486]),\n",
       " array([0.00421835]),\n",
       " array([0.00424629]),\n",
       " array([0.00427018]),\n",
       " array([0.00429526]),\n",
       " array([0.00432577]),\n",
       " array([0.00436753]),\n",
       " array([0.00442989]),\n",
       " array([0.00451943]),\n",
       " array([0.0045904]),\n",
       " array([0.00444458]),\n",
       " array([0.00376165]),\n",
       " array([0.00309265]),\n",
       " array([0.00308074]),\n",
       " array([0.00307442]),\n",
       " array([0.0030749]),\n",
       " array([0.00307342]),\n",
       " array([0.00305971]),\n",
       " array([0.00303088]),\n",
       " array([0.00301293]),\n",
       " array([0.0030006]),\n",
       " array([0.0029883]),\n",
       " array([0.00297389]),\n",
       " array([0.00295514]),\n",
       " array([0.00292936]),\n",
       " array([0.00289309]),\n",
       " array([0.00284259]),\n",
       " array([0.0027764]),\n",
       " array([0.00270351]),\n",
       " array([0.0026646]),\n",
       " array([0.00277375]),\n",
       " array([0.00305595]),\n",
       " array([0.00443466]),\n",
       " array([0.00438921]),\n",
       " array([0.00394749]),\n",
       " array([0.00417982]),\n",
       " array([0.00388736]),\n",
       " array([0.00396771]),\n",
       " array([0.00398329]),\n",
       " array([0.0039859]),\n",
       " array([0.00398611]),\n",
       " array([0.00398451]),\n",
       " array([0.00398022]),\n",
       " array([0.00397117]),\n",
       " array([0.00395398]),\n",
       " array([0.00392407]),\n",
       " array([0.00387655]),\n",
       " array([0.00379995]),\n",
       " array([0.00368861]),\n",
       " array([0.00370246]),\n",
       " array([0.00347175]),\n",
       " array([0.00344737]),\n",
       " array([0.00339151]),\n",
       " array([0.00323388]),\n",
       " array([0.00320679]),\n",
       " array([0.00319484]),\n",
       " array([0.00320312]),\n",
       " array([0.00320396]),\n",
       " array([0.00320119]),\n",
       " array([0.00319787]),\n",
       " array([0.00319376]),\n",
       " array([0.00318851]),\n",
       " array([0.00318149]),\n",
       " array([0.0031717]),\n",
       " array([0.00315763]),\n",
       " array([0.00313722]),\n",
       " array([0.00310803]),\n",
       " array([0.00306828]),\n",
       " array([0.00302036]),\n",
       " array([0.00298619]),\n",
       " array([0.00299658]),\n",
       " array([0.00303878]),\n",
       " array([0.00306333]),\n",
       " array([0.00306665]),\n",
       " array([0.0030666]),\n",
       " array([0.00306653]),\n",
       " array([0.00306645]),\n",
       " array([0.00306635]),\n",
       " array([0.00306621]),\n",
       " array([0.00306605]),\n",
       " array([0.00306587]),\n",
       " array([0.00306576]),\n",
       " array([0.00306598]),\n",
       " array([0.00306699]),\n",
       " array([0.00306941])]"
      ]
     },
     "execution_count": 38,
     "metadata": {},
     "output_type": "execute_result"
    }
   ],
   "source": [
    "T.testJ"
   ]
  },
  {
   "cell_type": "code",
   "execution_count": 39,
   "metadata": {},
   "outputs": [
    {
     "data": {
      "text/plain": [
       "0.0024992480747938204"
      ]
     },
     "execution_count": 39,
     "metadata": {},
     "output_type": "execute_result"
    }
   ],
   "source": [
    "from sklearn.metrics import mean_absolute_error\n",
    "mean_absolute_error(T.J, T.testJ)"
   ]
  },
  {
   "cell_type": "code",
   "execution_count": 40,
   "metadata": {},
   "outputs": [],
   "source": [
    "yHat=NN.forward(X)"
   ]
  },
  {
   "cell_type": "code",
   "execution_count": 41,
   "metadata": {},
   "outputs": [
    {
     "data": {
      "text/plain": [
       "array([[0.23304897],\n",
       "       [0.26660105],\n",
       "       [0.27892267],\n",
       "       [0.37252997],\n",
       "       [0.49856723],\n",
       "       [0.4092214 ],\n",
       "       [0.37617552],\n",
       "       [0.38799468],\n",
       "       [0.37866763],\n",
       "       [0.32235146],\n",
       "       [0.24901264],\n",
       "       [0.22517607],\n",
       "       [0.26330726],\n",
       "       [0.26727525],\n",
       "       [0.23259936],\n",
       "       [0.2341456 ],\n",
       "       [0.21611246],\n",
       "       [0.19866014],\n",
       "       [0.25816393],\n",
       "       [0.2833187 ],\n",
       "       [0.28144432],\n",
       "       [0.28170409],\n",
       "       [0.27248208],\n",
       "       [0.26160501],\n",
       "       [0.26544742],\n",
       "       [0.26075003],\n",
       "       [0.2687783 ],\n",
       "       [0.27079253],\n",
       "       [0.26422456],\n",
       "       [0.3085277 ],\n",
       "       [0.31405813],\n",
       "       [0.32444994],\n",
       "       [0.29064491],\n",
       "       [0.32262134],\n",
       "       [0.36132069],\n",
       "       [0.37898195],\n",
       "       [0.44110531],\n",
       "       [0.44049446],\n",
       "       [0.5091745 ],\n",
       "       [0.54182139],\n",
       "       [0.58831678],\n",
       "       [0.6315566 ],\n",
       "       [0.58047415],\n",
       "       [0.54257036],\n",
       "       [0.46344489],\n",
       "       [0.41396739],\n",
       "       [0.45264942],\n",
       "       [0.44695498],\n",
       "       [0.50244757],\n",
       "       [0.48263251],\n",
       "       [0.44269125],\n",
       "       [0.47460019],\n",
       "       [0.44498915],\n",
       "       [0.44997067],\n",
       "       [0.44382002],\n",
       "       [0.42626561],\n",
       "       [0.3684645 ]])"
      ]
     },
     "execution_count": 41,
     "metadata": {},
     "output_type": "execute_result"
    }
   ],
   "source": [
    "yHat"
   ]
  },
  {
   "cell_type": "code",
   "execution_count": 42,
   "metadata": {},
   "outputs": [
    {
     "data": {
      "text/plain": [
       "array([[0.2232566 ],\n",
       "       [0.24197469],\n",
       "       [0.36573346],\n",
       "       [0.55255899],\n",
       "       [0.37002352],\n",
       "       [0.3325317 ],\n",
       "       [0.38788752],\n",
       "       [0.39836394],\n",
       "       [0.2848263 ],\n",
       "       [0.18673502],\n",
       "       [0.18269477],\n",
       "       [0.255617  ],\n",
       "       [0.23597043],\n",
       "       [0.16413413],\n",
       "       [0.17817663],\n",
       "       [0.1639561 ],\n",
       "       [0.13324148],\n",
       "       [0.22639902],\n",
       "       [0.25501386],\n",
       "       [0.23708614],\n",
       "       [0.23165112],\n",
       "       [0.23306761],\n",
       "       [0.22117372],\n",
       "       [0.22633168],\n",
       "       [0.21869864],\n",
       "       [0.2320322 ],\n",
       "       [0.23194795],\n",
       "       [0.22154782],\n",
       "       [0.28795858],\n",
       "       [0.28837327],\n",
       "       [0.29714576],\n",
       "       [0.24366982],\n",
       "       [0.30743731],\n",
       "       [0.35859786],\n",
       "       [0.37218122],\n",
       "       [0.45025948],\n",
       "       [0.44309563],\n",
       "       [0.55815598],\n",
       "       [0.60235983],\n",
       "       [0.69629172],\n",
       "       [0.79060467],\n",
       "       [0.64402223],\n",
       "       [0.58322864],\n",
       "       [0.48171501],\n",
       "       [0.44281211],\n",
       "       [0.49627058],\n",
       "       [0.47546339],\n",
       "       [0.55155979],\n",
       "       [0.50099435],\n",
       "       [0.44545859],\n",
       "       [0.50571167],\n",
       "       [0.46588904],\n",
       "       [0.46785659],\n",
       "       [0.45300142],\n",
       "       [0.43741172],\n",
       "       [0.3506737 ],\n",
       "       [0.36403131]])"
      ]
     },
     "execution_count": 42,
     "metadata": {},
     "output_type": "execute_result"
    }
   ],
   "source": [
    "y"
   ]
  },
  {
   "cell_type": "code",
   "execution_count": 43,
   "metadata": {},
   "outputs": [
    {
     "data": {
      "text/plain": [
       "0.004851376394553081"
      ]
     },
     "execution_count": 43,
     "metadata": {},
     "output_type": "execute_result"
    }
   ],
   "source": [
    "from sklearn.metrics import mean_squared_error \n",
    "mean_squared_error(y,yHat) "
   ]
  },
  {
   "cell_type": "code",
   "execution_count": 44,
   "metadata": {},
   "outputs": [
    {
     "data": {
      "image/png": "[encoded data removed]",
      "text/plain": [
       "<Figure size 432x288 with 1 Axes>"
      ]
     },
     "metadata": {
      "needs_background": "light"
     },
     "output_type": "display_data"
    }
   ],
   "source": [
    "#Plot cost during training:\n",
    "plot.plot(y)\n",
    "plot.plot(yHat)\n",
    "plot.grid(1)\n",
    "plot.legend(['y', 'yHat'])\n",
    "plot.show()"
   ]
  },
  {
   "cell_type": "code",
   "execution_count": 45,
   "metadata": {},
   "outputs": [],
   "source": [
    "prediksi=NN.forward(dataprediksi)"
   ]
  },
  {
   "cell_type": "code",
   "execution_count": 46,
   "metadata": {},
   "outputs": [
    {
     "data": {
      "text/plain": [
       "array([[0.36693709],\n",
       "       [0.60225503],\n",
       "       [0.67945053],\n",
       "       [0.62985995]])"
      ]
     },
     "execution_count": 46,
     "metadata": {},
     "output_type": "execute_result"
    }
   ],
   "source": [
    "prediksi"
   ]
  },
  {
   "cell_type": "code",
   "execution_count": 47,
   "metadata": {},
   "outputs": [],
   "source": [
    "from sklearn.metrics import mean_squared_error "
   ]
  },
  {
   "cell_type": "code",
   "execution_count": 48,
   "metadata": {},
   "outputs": [
    {
     "data": {
      "text/plain": [
       "0.09041280186704878"
      ]
     },
     "execution_count": 48,
     "metadata": {},
     "output_type": "execute_result"
    }
   ],
   "source": [
    "Y_true= ([\t0.795380412\t]\t,\n",
    "[\t1\t]\t,\n",
    "[\t0.707681705\t]\t,\n",
    "[\t0.491695324\t]\t,\n",
    "\n",
    ")\n",
    "\n",
    "\n",
    "Y_pred=prediksi\n",
    "mean_squared_error(Y_true,Y_pred) "
   ]
  },
  {
   "cell_type": "code",
   "execution_count": 49,
   "metadata": {},
   "outputs": [
    {
     "data": {
      "text/plain": [
       "array([[0.46785659, 0.45300142, 0.43741172, 0.3506737 , 0.36403131],\n",
       "       [0.45300142, 0.43741172, 0.3506737 , 0.36403131, 0.79538041],\n",
       "       [0.43741172, 0.3506737 , 0.36403131, 0.79538041, 1.        ],\n",
       "       [0.3506737 , 0.36403131, 0.79538041, 1.        , 0.70768171]])"
      ]
     },
     "execution_count": 49,
     "metadata": {},
     "output_type": "execute_result"
    }
   ],
   "source": [
    "dataprediksi"
   ]
  },
  {
   "cell_type": "code",
   "execution_count": 50,
   "metadata": {},
   "outputs": [],
   "source": [
    "a=np.array([\t0.364031312\t,\t0.795380412\t,\t1\t,\t0.707681705\t,\t0.491695324\t])"
   ]
  },
  {
   "cell_type": "code",
   "execution_count": 51,
   "metadata": {},
   "outputs": [
    {
     "data": {
      "text/plain": [
       "array([0.52846512])"
      ]
     },
     "execution_count": 51,
     "metadata": {},
     "output_type": "execute_result"
    }
   ],
   "source": [
    "#prediksi 1\n",
    "prediksi=NN.forward(a)\n",
    "prediksi"
   ]
  },
  {
   "cell_type": "code",
   "execution_count": 52,
   "metadata": {},
   "outputs": [
    {
     "data": {
      "text/plain": [
       "array([0.47925013])"
      ]
     },
     "execution_count": 52,
     "metadata": {},
     "output_type": "execute_result"
    }
   ],
   "source": [
    "#prediksi 2\n",
    "c=prediksi\n",
    "b=a[1:]\n",
    "d=np.concatenate((b,c))\n",
    "prediksi=NN.forward(d)\n",
    "prediksi"
   ]
  },
  {
   "cell_type": "code",
   "execution_count": 53,
   "metadata": {},
   "outputs": [
    {
     "data": {
      "text/plain": [
       "array([0.4174763])"
      ]
     },
     "execution_count": 53,
     "metadata": {},
     "output_type": "execute_result"
    }
   ],
   "source": [
    "#prediksi 3\n",
    "c=prediksi\n",
    "b=d[1:]\n",
    "e=np.concatenate((b,c))\n",
    "prediksi=NN.forward(e)\n",
    "prediksi"
   ]
  },
  {
   "cell_type": "code",
   "execution_count": 54,
   "metadata": {},
   "outputs": [
    {
     "data": {
      "text/plain": [
       "array([0.40019373])"
      ]
     },
     "execution_count": 54,
     "metadata": {},
     "output_type": "execute_result"
    }
   ],
   "source": [
    "#prediksi 4\n",
    "c=prediksi\n",
    "b=e[1:]\n",
    "f=np.concatenate((b,c))\n",
    "prediksi=NN.forward(f)\n",
    "prediksi"
   ]
  },
  {
   "cell_type": "code",
   "execution_count": 55,
   "metadata": {},
   "outputs": [
    {
     "data": {
      "text/plain": [
       "array([0.40014597])"
      ]
     },
     "execution_count": 55,
     "metadata": {},
     "output_type": "execute_result"
    }
   ],
   "source": [
    "#prediksi 5\n",
    "c=prediksi\n",
    "b=f[1:]\n",
    "g=np.concatenate((b,c))\n",
    "prediksi=NN.forward(g)\n",
    "prediksi"
   ]
  },
  {
   "cell_type": "code",
   "execution_count": 56,
   "metadata": {},
   "outputs": [
    {
     "data": {
      "text/plain": [
       "array([0.39022037])"
      ]
     },
     "execution_count": 56,
     "metadata": {},
     "output_type": "execute_result"
    }
   ],
   "source": [
    "#prediksi 6\n",
    "c=prediksi\n",
    "b=g[1:]\n",
    "h=np.concatenate((b,c))\n",
    "prediksi=NN.forward(h)\n",
    "prediksi"
   ]
  },
  {
   "cell_type": "code",
   "execution_count": 57,
   "metadata": {},
   "outputs": [
    {
     "data": {
      "text/plain": [
       "array([0.38339324])"
      ]
     },
     "execution_count": 57,
     "metadata": {},
     "output_type": "execute_result"
    }
   ],
   "source": [
    "#prediksi 7\n",
    "c=prediksi\n",
    "b=g[1:]\n",
    "i=np.concatenate((b,c))\n",
    "prediksi=NN.forward(i)\n",
    "prediksi"
   ]
  },
  {
   "cell_type": "code",
   "execution_count": 58,
   "metadata": {},
   "outputs": [
    {
     "data": {
      "text/plain": [
       "array([0.37867905])"
      ]
     },
     "execution_count": 58,
     "metadata": {},
     "output_type": "execute_result"
    }
   ],
   "source": [
    "#prediksi 8\n",
    "c=prediksi\n",
    "b=g[1:]\n",
    "j=np.concatenate((b,c))\n",
    "prediksi=NN.forward(j)\n",
    "prediksi"
   ]
  },
  {
   "cell_type": "code",
   "execution_count": 59,
   "metadata": {},
   "outputs": [
    {
     "data": {
      "text/plain": [
       "array([0.37541613])"
      ]
     },
     "execution_count": 59,
     "metadata": {},
     "output_type": "execute_result"
    }
   ],
   "source": [
    "#prediksi 9\n",
    "c=prediksi\n",
    "b=g[1:]\n",
    "k=np.concatenate((b,c))\n",
    "prediksi=NN.forward(k)\n",
    "prediksi"
   ]
  },
  {
   "cell_type": "code",
   "execution_count": 60,
   "metadata": {},
   "outputs": [
    {
     "data": {
      "text/plain": [
       "array([0.37315434])"
      ]
     },
     "execution_count": 60,
     "metadata": {},
     "output_type": "execute_result"
    }
   ],
   "source": [
    "#prediksi 10\n",
    "c=prediksi\n",
    "b=g[1:]\n",
    "l=np.concatenate((b,c))\n",
    "prediksi=NN.forward(l)\n",
    "prediksi"
   ]
  },
  {
   "cell_type": "code",
   "execution_count": 61,
   "metadata": {},
   "outputs": [
    {
     "data": {
      "text/plain": [
       "array([0.371585])"
      ]
     },
     "execution_count": 61,
     "metadata": {},
     "output_type": "execute_result"
    }
   ],
   "source": [
    "#prediksi 11\n",
    "c=prediksi\n",
    "b=g[1:]\n",
    "m=np.concatenate((b,c))\n",
    "prediksi=NN.forward(m)\n",
    "prediksi"
   ]
  },
  {
   "cell_type": "code",
   "execution_count": 62,
   "metadata": {},
   "outputs": [
    {
     "data": {
      "text/plain": [
       "array([0.37049543])"
      ]
     },
     "execution_count": 62,
     "metadata": {},
     "output_type": "execute_result"
    }
   ],
   "source": [
    "#prediksi 12\n",
    "c=prediksi\n",
    "b=g[1:]\n",
    "n=np.concatenate((b,c))\n",
    "prediksi=NN.forward(n)\n",
    "prediksi"
   ]
  },
  {
   "cell_type": "code",
   "execution_count": null,
   "metadata": {},
   "outputs": [],
   "source": []
  }
 ],
 "metadata": {
  "kernelspec": {
   "display_name": "Python 3",
   "language": "python",
   "name": "python3"
  },
  "language_info": {
   "codemirror_mode": {
    "name": "ipython",
    "version": 3
   },
   "file_extension": ".py",
   "mimetype": "text/x-python",
   "name": "python",
   "nbconvert_exporter": "python",
   "pygments_lexer": "ipython3",
   "version": "3.7.3"
  }
 },
 "nbformat": 4,
 "nbformat_minor": 2
}
