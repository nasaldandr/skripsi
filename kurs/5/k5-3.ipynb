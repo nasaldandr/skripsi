{
 "cells": [
  {
   "cell_type": "code",
   "execution_count": 1,
   "metadata": {},
   "outputs": [],
   "source": [
    "import numpy as np"
   ]
  },
  {
   "cell_type": "code",
   "execution_count": 2,
   "metadata": {},
   "outputs": [],
   "source": [
    "#UNTUK NILAI IMPOR\n",
    "class Neural_Network(object):\n",
    "    def __init__(self):\n",
    "        #parameters\n",
    "        self.inputLayerSize = 5\n",
    "        self.outputLayerSize = 1\n",
    "        self.hiddenLayerSize = 3\n",
    "\n",
    "        #weights\n",
    "        self.W1 = np.random.randn(self.inputLayerSize,\\\n",
    "                                 self.hiddenLayerSize)  \n",
    "        self.W2 = np.random.randn(self.hiddenLayerSize,\\\n",
    "                                 self.outputLayerSize)  \n",
    "    \n",
    "    def printw(self):\n",
    "        return self.W1\n",
    "        \n",
    "    def weight(self, W1, W2):\n",
    "        #Make an internal variable for the weight:\n",
    "        self.W1 = W1\n",
    "        self.W2 = W2\n",
    "        \n",
    "    def forward(self, X):\n",
    "        #forward propagation through our network\n",
    "        self.z2 = np.dot(X,self.W1)  \n",
    "        self.a2 = self.sigmoid(self.z2)  # activation function\n",
    "        self.z3 = np.dot(self.a2, self.W2) \n",
    "        yHat = self.sigmoid(self.z3)  # final activation function\n",
    "        return yHat\n",
    "\n",
    "    def sigmoid(self, z):\n",
    "        # activation function\n",
    "        return 1 / (1 + np.exp(-z))\n",
    "    \n",
    "    def sigmoidPrime(self,z): \n",
    "        #derivative of sigmoid     \n",
    "        return np.exp(-z)/((1+np.exp(-z))**2)\n",
    "    \n",
    "    def costFunction(self,X,y):\n",
    "        self.yHat = self.forward(X)\n",
    "        J=0.5*sum((y-self.yHat)**2)\n",
    "        return J\n",
    "    \n",
    "    def costFunctionPrime(self,X,y):\n",
    "        self.yHat=self.forward(X)\n",
    "        \n",
    "        delta3=np.multiply(-(y-self.yHat),self.sigmoidPrime(self.z3))\n",
    "        dJdW2=np.dot(self.a2.T,delta3)\n",
    "        \n",
    "        delta2=np.dot(delta3,self.W2.T)*self.sigmoidPrime(self.z2)\n",
    "        dJdW1=np.dot(X.T,delta2)\n",
    "        return dJdW1,dJdW2\n",
    "    \n",
    "    def predict(self):\n",
    "        prediksi = self.forward(dataprediksi)\n",
    "        return prediksi\n",
    "    \n",
    "    def getParams(self):\n",
    "        params=np.concatenate((self.W1.ravel(),self.W2.ravel()))\n",
    "        return params\n",
    "    \n",
    "    def setParams(self,params):\n",
    "        W1_start=0\n",
    "        W1_end=self.hiddenLayerSize*self.inputLayerSize\n",
    "        self.W1=np.reshape(params[W1_start:W1_end],\\\n",
    "                          (self.inputLayerSize,self.hiddenLayerSize))\n",
    "        W2_end=W1_end+self.hiddenLayerSize*self.outputLayerSize\n",
    "        self.W2=np.reshape(params[W1_end:W2_end],\\\n",
    "                          (self.hiddenLayerSize,self.outputLayerSize))\n",
    "        \n",
    "    def computeGradients(self, X, y):\n",
    "        dJdW1, dJdW2 = self.costFunctionPrime(X, y)\n",
    "        return np.concatenate((dJdW1.ravel(), dJdW2.ravel()))"
   ]
  },
  {
   "cell_type": "code",
   "execution_count": 3,
   "metadata": {},
   "outputs": [],
   "source": [
    "NN = Neural_Network()"
   ]
  },
  {
   "cell_type": "code",
   "execution_count": 4,
   "metadata": {},
   "outputs": [
    {
     "data": {
      "text/plain": [
       "array([[ 1.67281822, -0.40807133, -0.39611042],\n",
       "       [ 1.39632679, -1.60723487, -1.26324231],\n",
       "       [ 1.19318976,  1.02862579, -1.24042816],\n",
       "       [-1.72493966,  0.91030352, -1.65850033],\n",
       "       [ 0.48248866,  0.13252555, -0.75510673]])"
      ]
     },
     "execution_count": 4,
     "metadata": {},
     "output_type": "execute_result"
    }
   ],
   "source": [
    "NN.W1"
   ]
  },
  {
   "cell_type": "code",
   "execution_count": 5,
   "metadata": {},
   "outputs": [
    {
     "data": {
      "text/plain": [
       "array([[ 2.86263786],\n",
       "       [-2.08976551],\n",
       "       [ 0.8886288 ]])"
      ]
     },
     "execution_count": 5,
     "metadata": {},
     "output_type": "execute_result"
    }
   ],
   "source": [
    "NN.W2"
   ]
  },
  {
   "cell_type": "code",
   "execution_count": 6,
   "metadata": {},
   "outputs": [],
   "source": [
    "#KURS\n",
    "X=np.array(([\t0\t,\t0.051924996\t,\t0.148319042\t,\t0.112113419\t,\t0.170734062\t]\t,\n",
    "[\t0.051924996\t,\t0.148319042\t,\t0.112113419\t,\t0.170734062\t,\t0.223256598\t]\t,\n",
    "[\t0.148319042\t,\t0.112113419\t,\t0.170734062\t,\t0.223256598\t,\t0.241974687\t]\t,\n",
    "[\t0.112113419\t,\t0.170734062\t,\t0.223256598\t,\t0.241974687\t,\t0.365733465\t]\t,\n",
    "[\t0.170734062\t,\t0.223256598\t,\t0.241974687\t,\t0.365733465\t,\t0.552558994\t]\t,\n",
    "[\t0.223256598\t,\t0.241974687\t,\t0.365733465\t,\t0.552558994\t,\t0.370023519\t]\t,\n",
    "[\t0.241974687\t,\t0.365733465\t,\t0.552558994\t,\t0.370023519\t,\t0.332531703\t]\t,\n",
    "[\t0.365733465\t,\t0.552558994\t,\t0.370023519\t,\t0.332531703\t,\t0.387887522\t]\t,\n",
    "[\t0.552558994\t,\t0.370023519\t,\t0.332531703\t,\t0.387887522\t,\t0.398363943\t]\t,\n",
    "[\t0.370023519\t,\t0.332531703\t,\t0.387887522\t,\t0.398363943\t,\t0.284826299\t]\t,\n",
    "[\t0.332531703\t,\t0.387887522\t,\t0.398363943\t,\t0.284826299\t,\t0.186735022\t]\t,\n",
    "[\t0.387887522\t,\t0.398363943\t,\t0.284826299\t,\t0.186735022\t,\t0.182694768\t]\t,\n",
    "[\t0.398363943\t,\t0.284826299\t,\t0.186735022\t,\t0.182694768\t,\t0.255617002\t]\t,\n",
    "[\t0.284826299\t,\t0.186735022\t,\t0.182694768\t,\t0.255617002\t,\t0.23597043\t]\t,\n",
    "[\t0.186735022\t,\t0.182694768\t,\t0.255617002\t,\t0.23597043\t,\t0.164134134\t]\t,\n",
    "[\t0.182694768\t,\t0.255617002\t,\t0.23597043\t,\t0.164134134\t,\t0.178176635\t]\t,\n",
    "[\t0.255617002\t,\t0.23597043\t,\t0.164134134\t,\t0.178176635\t,\t0.163956101\t]\t,\n",
    "[\t0.23597043\t,\t0.164134134\t,\t0.178176635\t,\t0.163956101\t,\t0.133241484\t]\t,\n",
    "[\t0.164134134\t,\t0.178176635\t,\t0.163956101\t,\t0.133241484\t,\t0.226399017\t]\t,\n",
    "[\t0.178176635\t,\t0.163956101\t,\t0.133241484\t,\t0.226399017\t,\t0.255013861\t]\t,\n",
    "[\t0.163956101\t,\t0.133241484\t,\t0.226399017\t,\t0.255013861\t,\t0.23708614\t]\t,\n",
    "[\t0.133241484\t,\t0.226399017\t,\t0.255013861\t,\t0.23708614\t,\t0.231651119\t]\t,\n",
    "[\t0.226399017\t,\t0.255013861\t,\t0.23708614\t,\t0.231651119\t,\t0.233067608\t]\t,\n",
    "[\t0.255013861\t,\t0.23708614\t,\t0.231651119\t,\t0.233067608\t,\t0.221173719\t]\t,\n",
    "[\t0.23708614\t,\t0.231651119\t,\t0.233067608\t,\t0.221173719\t,\t0.22633168\t]\t,\n",
    "[\t0.231651119\t,\t0.233067608\t,\t0.221173719\t,\t0.22633168\t,\t0.218698642\t]\t,\n",
    "[\t0.233067608\t,\t0.221173719\t,\t0.22633168\t,\t0.218698642\t,\t0.232032203\t]\t,\n",
    "[\t0.221173719\t,\t0.22633168\t,\t0.218698642\t,\t0.232032203\t,\t0.231947948\t]\t,\n",
    "[\t0.22633168\t,\t0.218698642\t,\t0.232032203\t,\t0.231947948\t,\t0.221547817\t]\t,\n",
    "[\t0.218698642\t,\t0.232032203\t,\t0.231947948\t,\t0.221547817\t,\t0.287958581\t]\t,\n",
    "[\t0.232032203\t,\t0.231947948\t,\t0.221547817\t,\t0.287958581\t,\t0.28837327\t]\t,\n",
    "[\t0.231947948\t,\t0.221547817\t,\t0.287958581\t,\t0.28837327\t,\t0.297145757\t]\t,\n",
    "[\t0.221547817\t,\t0.287958581\t,\t0.28837327\t,\t0.297145757\t,\t0.243669818\t]\t,\n",
    "[\t0.287958581\t,\t0.28837327\t,\t0.297145757\t,\t0.243669818\t,\t0.307437314\t]\t,\n",
    "[\t0.28837327\t,\t0.297145757\t,\t0.243669818\t,\t0.307437314\t,\t0.358597855\t]\t,\n",
    "[\t0.297145757\t,\t0.243669818\t,\t0.307437314\t,\t0.358597855\t,\t0.372181217\t]\t,\n",
    "[\t0.243669818\t,\t0.307437314\t,\t0.358597855\t,\t0.372181217\t,\t0.450259481\t]\t,\n",
    "[\t0.307437314\t,\t0.358597855\t,\t0.372181217\t,\t0.450259481\t,\t0.443095634\t]\t,\n",
    "[\t0.358597855\t,\t0.372181217\t,\t0.450259481\t,\t0.443095634\t,\t0.558155976\t]\t,\n",
    "[\t0.372181217\t,\t0.450259481\t,\t0.443095634\t,\t0.558155976\t,\t0.602359827\t]\t,\n",
    "[\t0.450259481\t,\t0.443095634\t,\t0.558155976\t,\t0.602359827\t,\t0.696291723\t]\t,\n",
    "[\t0.443095634\t,\t0.558155976\t,\t0.602359827\t,\t0.696291723\t,\t0.790604671\t]\t,\n",
    "[\t0.558155976\t,\t0.602359827\t,\t0.696291723\t,\t0.790604671\t,\t0.644022227\t]\t,\n",
    "[\t0.602359827\t,\t0.696291723\t,\t0.790604671\t,\t0.644022227\t,\t0.583228643\t]\t,\n",
    "[\t0.696291723\t,\t0.790604671\t,\t0.644022227\t,\t0.583228643\t,\t0.481715009\t]\t,\n",
    "[\t0.790604671\t,\t0.644022227\t,\t0.583228643\t,\t0.481715009\t,\t0.442812107\t]\t,\n",
    "[\t0.644022227\t,\t0.583228643\t,\t0.481715009\t,\t0.442812107\t,\t0.496270585\t]\t,\n",
    "[\t0.583228643\t,\t0.481715009\t,\t0.442812107\t,\t0.496270585\t,\t0.475463393\t]\t,\n",
    "[\t0.481715009\t,\t0.442812107\t,\t0.496270585\t,\t0.475463393\t,\t0.551559791\t]\t,\n",
    "[\t0.442812107\t,\t0.496270585\t,\t0.475463393\t,\t0.551559791\t,\t0.500994351\t]\t,\n",
    "[\t0.496270585\t,\t0.475463393\t,\t0.551559791\t,\t0.500994351\t,\t0.445458587\t]\t,\n",
    "[\t0.475463393\t,\t0.551559791\t,\t0.500994351\t,\t0.445458587\t,\t0.505711667\t]\t,\n",
    "[\t0.551559791\t,\t0.500994351\t,\t0.445458587\t,\t0.505711667\t,\t0.465889036\t]\t,\n",
    "[\t0.500994351\t,\t0.445458587\t,\t0.505711667\t,\t0.465889036\t,\t0.46785659\t]\t,\n",
    "[\t0.445458587\t,\t0.505711667\t,\t0.465889036\t,\t0.46785659\t,\t0.453001423\t]\t,\n",
    "[\t0.505711667\t,\t0.465889036\t,\t0.46785659\t,\t0.453001423\t,\t0.437411724\t]\t,\n",
    "[\t0.465889036\t,\t0.46785659\t,\t0.453001423\t,\t0.437411724\t,\t0.350673696\t]\t,\n",
    "\n",
    ")           \n",
    ",dtype=float)\n",
    "y=np.array(([\t0.223256598\t]\t,\n",
    "[\t0.241974687\t]\t,\n",
    "[\t0.365733465\t]\t,\n",
    "[\t0.552558994\t]\t,\n",
    "[\t0.370023519\t]\t,\n",
    "[\t0.332531703\t]\t,\n",
    "[\t0.387887522\t]\t,\n",
    "[\t0.398363943\t]\t,\n",
    "[\t0.284826299\t]\t,\n",
    "[\t0.186735022\t]\t,\n",
    "[\t0.182694768\t]\t,\n",
    "[\t0.255617002\t]\t,\n",
    "[\t0.23597043\t]\t,\n",
    "[\t0.164134134\t]\t,\n",
    "[\t0.178176635\t]\t,\n",
    "[\t0.163956101\t]\t,\n",
    "[\t0.133241484\t]\t,\n",
    "[\t0.226399017\t]\t,\n",
    "[\t0.255013861\t]\t,\n",
    "[\t0.23708614\t]\t,\n",
    "[\t0.231651119\t]\t,\n",
    "[\t0.233067608\t]\t,\n",
    "[\t0.221173719\t]\t,\n",
    "[\t0.22633168\t]\t,\n",
    "[\t0.218698642\t]\t,\n",
    "[\t0.232032203\t]\t,\n",
    "[\t0.231947948\t]\t,\n",
    "[\t0.221547817\t]\t,\n",
    "[\t0.287958581\t]\t,\n",
    "[\t0.28837327\t]\t,\n",
    "[\t0.297145757\t]\t,\n",
    "[\t0.243669818\t]\t,\n",
    "[\t0.307437314\t]\t,\n",
    "[\t0.358597855\t]\t,\n",
    "[\t0.372181217\t]\t,\n",
    "[\t0.450259481\t]\t,\n",
    "[\t0.443095634\t]\t,\n",
    "[\t0.558155976\t]\t,\n",
    "[\t0.602359827\t]\t,\n",
    "[\t0.696291723\t]\t,\n",
    "[\t0.790604671\t]\t,\n",
    "[\t0.644022227\t]\t,\n",
    "[\t0.583228643\t]\t,\n",
    "[\t0.481715009\t]\t,\n",
    "[\t0.442812107\t]\t,\n",
    "[\t0.496270585\t]\t,\n",
    "[\t0.475463393\t]\t,\n",
    "[\t0.551559791\t]\t,\n",
    "[\t0.500994351\t]\t,\n",
    "[\t0.445458587\t]\t,\n",
    "[\t0.505711667\t]\t,\n",
    "[\t0.465889036\t]\t,\n",
    "[\t0.46785659\t]\t,\n",
    "[\t0.453001423\t]\t,\n",
    "[\t0.437411724\t]\t,\n",
    "[\t0.350673696\t]\t,\n",
    "[\t0.364031312\t]\t,\n",
    "\n",
    "\n",
    ")\n",
    ",dtype=float)\n",
    "\n",
    "dataprediksi = np.array(([\t0.46785659\t,\t0.453001423\t,\t0.437411724\t,\t0.350673696\t,\t0.364031312\t]\t,\n",
    "[\t0.453001423\t,\t0.437411724\t,\t0.350673696\t,\t0.364031312\t,\t0.795380412\t]\t,\n",
    "[\t0.437411724\t,\t0.350673696\t,\t0.364031312\t,\t0.795380412\t,\t1\t]\t,\n",
    "[\t0.350673696\t,\t0.364031312\t,\t0.795380412\t,\t1\t,\t0.707681705\t]\t,\n",
    "\n",
    "\n",
    "), dtype=float)\n"
   ]
  },
  {
   "cell_type": "code",
   "execution_count": 7,
   "metadata": {},
   "outputs": [],
   "source": [
    "import matplotlib.pyplot as plot"
   ]
  },
  {
   "cell_type": "code",
   "execution_count": 8,
   "metadata": {},
   "outputs": [],
   "source": [
    "from scipy import optimize"
   ]
  },
  {
   "cell_type": "code",
   "execution_count": 9,
   "metadata": {},
   "outputs": [],
   "source": [
    "class trainer(object):\n",
    "    def __init__(self, N):\n",
    "        #Make Local reference to network:\n",
    "        self.N = N\n",
    "        \n",
    "    def callbackF(self, params):\n",
    "        self.N.setParams(params)\n",
    "        self.J.append(self.N.costFunction(self.X, self.y))   \n",
    "        \n",
    "    def costFunctionWrapper(self, params, X, y):\n",
    "        self.N.setParams(params)\n",
    "        cost = self.N.costFunction(X, y)\n",
    "        grad = self.N.computeGradients(X,y)\n",
    "        \n",
    "        return cost, grad\n",
    "        \n",
    "    def train(self, X, y):\n",
    "        #Make an internal variable for the callback function:\n",
    "        self.X = X\n",
    "        self.y = y\n",
    "\n",
    "        #Make empty list to store costs:\n",
    "        self.J = []\n",
    "        \n",
    "        params0 = self.N.getParams()\n",
    "\n",
    "        options = {'maxiter': 100, 'disp' : True}\n",
    "        _res = optimize.minimize(self.costFunctionWrapper, params0, jac=True, method='BFGS', \\\n",
    "                                 args=(X, y), options=options, callback=self.callbackF)\n",
    "\n",
    "        self.N.setParams(_res.x)\n",
    "        self.optimizationResults = _res"
   ]
  },
  {
   "cell_type": "code",
   "execution_count": 10,
   "metadata": {},
   "outputs": [],
   "source": [
    "NN=Neural_Network()"
   ]
  },
  {
   "cell_type": "code",
   "execution_count": 11,
   "metadata": {},
   "outputs": [],
   "source": [
    "T = trainer(NN)"
   ]
  },
  {
   "cell_type": "code",
   "execution_count": 12,
   "metadata": {},
   "outputs": [
    {
     "name": "stdout",
     "output_type": "stream",
     "text": [
      "Warning: Maximum number of iterations has been exceeded.\n",
      "         Current function value: 0.100521\n",
      "         Iterations: 100\n",
      "         Function evaluations: 106\n",
      "         Gradient evaluations: 106\n"
     ]
    }
   ],
   "source": [
    "#Train network with new data:\n",
    "T = trainer(NN)\n",
    "T.train(X,y)"
   ]
  },
  {
   "cell_type": "code",
   "execution_count": 13,
   "metadata": {},
   "outputs": [
    {
     "data": {
      "image/png": "[encoded data removed]",
      "text/plain": [
       "<Figure size 432x288 with 1 Axes>"
      ]
     },
     "metadata": {
      "needs_background": "light"
     },
     "output_type": "display_data"
    }
   ],
   "source": [
    "#Plot cost during training:\n",
    "plot.plot(T.J)\n",
    "plot.grid(1)\n",
    "plot.xlabel('Iterations')\n",
    "plot.ylabel('Cost')\n",
    "plot.show()"
   ]
  },
  {
   "cell_type": "code",
   "execution_count": 14,
   "metadata": {},
   "outputs": [],
   "source": [
    "#Training Data:\n",
    "trainX = np.array(([\t0\t,\t0.051924996\t,\t0.148319042\t,\t0.112113419\t,\t0.170734062\t]\t,\n",
    "[\t0.051924996\t,\t0.148319042\t,\t0.112113419\t,\t0.170734062\t,\t0.223256598\t]\t,\n",
    "[\t0.148319042\t,\t0.112113419\t,\t0.170734062\t,\t0.223256598\t,\t0.241974687\t]\t,\n",
    "[\t0.112113419\t,\t0.170734062\t,\t0.223256598\t,\t0.241974687\t,\t0.365733465\t]\t,\n",
    "[\t0.170734062\t,\t0.223256598\t,\t0.241974687\t,\t0.365733465\t,\t0.552558994\t]\t,\n",
    "[\t0.223256598\t,\t0.241974687\t,\t0.365733465\t,\t0.552558994\t,\t0.370023519\t]\t,\n",
    "[\t0.241974687\t,\t0.365733465\t,\t0.552558994\t,\t0.370023519\t,\t0.332531703\t]\t,\n",
    "[\t0.365733465\t,\t0.552558994\t,\t0.370023519\t,\t0.332531703\t,\t0.387887522\t]\t,\n",
    "[\t0.552558994\t,\t0.370023519\t,\t0.332531703\t,\t0.387887522\t,\t0.398363943\t]\t,\n",
    "[\t0.370023519\t,\t0.332531703\t,\t0.387887522\t,\t0.398363943\t,\t0.284826299\t]\t,\n",
    "[\t0.332531703\t,\t0.387887522\t,\t0.398363943\t,\t0.284826299\t,\t0.186735022\t]\t,\n",
    "[\t0.387887522\t,\t0.398363943\t,\t0.284826299\t,\t0.186735022\t,\t0.182694768\t]\t,\n",
    "[\t0.398363943\t,\t0.284826299\t,\t0.186735022\t,\t0.182694768\t,\t0.255617002\t]\t,\n",
    "[\t0.284826299\t,\t0.186735022\t,\t0.182694768\t,\t0.255617002\t,\t0.23597043\t]\t,\n",
    "[\t0.186735022\t,\t0.182694768\t,\t0.255617002\t,\t0.23597043\t,\t0.164134134\t]\t,\n",
    "[\t0.182694768\t,\t0.255617002\t,\t0.23597043\t,\t0.164134134\t,\t0.178176635\t]\t,\n",
    "[\t0.255617002\t,\t0.23597043\t,\t0.164134134\t,\t0.178176635\t,\t0.163956101\t]\t,\n",
    "[\t0.23597043\t,\t0.164134134\t,\t0.178176635\t,\t0.163956101\t,\t0.133241484\t]\t,\n",
    "[\t0.164134134\t,\t0.178176635\t,\t0.163956101\t,\t0.133241484\t,\t0.226399017\t]\t,\n",
    "[\t0.178176635\t,\t0.163956101\t,\t0.133241484\t,\t0.226399017\t,\t0.255013861\t]\t,\n",
    "[\t0.163956101\t,\t0.133241484\t,\t0.226399017\t,\t0.255013861\t,\t0.23708614\t]\t,\n",
    "[\t0.133241484\t,\t0.226399017\t,\t0.255013861\t,\t0.23708614\t,\t0.231651119\t]\t,\n",
    "[\t0.226399017\t,\t0.255013861\t,\t0.23708614\t,\t0.231651119\t,\t0.233067608\t]\t,\n",
    "[\t0.255013861\t,\t0.23708614\t,\t0.231651119\t,\t0.233067608\t,\t0.221173719\t]\t,\n",
    "[\t0.23708614\t,\t0.231651119\t,\t0.233067608\t,\t0.221173719\t,\t0.22633168\t]\t,\n",
    "[\t0.231651119\t,\t0.233067608\t,\t0.221173719\t,\t0.22633168\t,\t0.218698642\t]\t,\n",
    "[\t0.233067608\t,\t0.221173719\t,\t0.22633168\t,\t0.218698642\t,\t0.232032203\t]\t,\n",
    "[\t0.221173719\t,\t0.22633168\t,\t0.218698642\t,\t0.232032203\t,\t0.231947948\t]\t,\n",
    "[\t0.22633168\t,\t0.218698642\t,\t0.232032203\t,\t0.231947948\t,\t0.221547817\t]\t,\n",
    "[\t0.218698642\t,\t0.232032203\t,\t0.231947948\t,\t0.221547817\t,\t0.287958581\t]\t,\n",
    "[\t0.232032203\t,\t0.231947948\t,\t0.221547817\t,\t0.287958581\t,\t0.28837327\t]\t,\n",
    "[\t0.231947948\t,\t0.221547817\t,\t0.287958581\t,\t0.28837327\t,\t0.297145757\t]\t,\n",
    "[\t0.221547817\t,\t0.287958581\t,\t0.28837327\t,\t0.297145757\t,\t0.243669818\t]\t,\n",
    "[\t0.287958581\t,\t0.28837327\t,\t0.297145757\t,\t0.243669818\t,\t0.307437314\t]\t,\n",
    "[\t0.28837327\t,\t0.297145757\t,\t0.243669818\t,\t0.307437314\t,\t0.358597855\t]\t,\n",
    "[\t0.297145757\t,\t0.243669818\t,\t0.307437314\t,\t0.358597855\t,\t0.372181217\t]\t,\n",
    "[\t0.243669818\t,\t0.307437314\t,\t0.358597855\t,\t0.372181217\t,\t0.450259481\t]\t,\n",
    "[\t0.307437314\t,\t0.358597855\t,\t0.372181217\t,\t0.450259481\t,\t0.443095634\t]\t,\n",
    "[\t0.358597855\t,\t0.372181217\t,\t0.450259481\t,\t0.443095634\t,\t0.558155976\t]\t,\n",
    "[\t0.372181217\t,\t0.450259481\t,\t0.443095634\t,\t0.558155976\t,\t0.602359827\t]\t,\n",
    "[\t0.450259481\t,\t0.443095634\t,\t0.558155976\t,\t0.602359827\t,\t0.696291723\t]\t,\n",
    "[\t0.443095634\t,\t0.558155976\t,\t0.602359827\t,\t0.696291723\t,\t0.790604671\t]\t,\n",
    "[\t0.558155976\t,\t0.602359827\t,\t0.696291723\t,\t0.790604671\t,\t0.644022227\t]\t,\n",
    "[\t0.602359827\t,\t0.696291723\t,\t0.790604671\t,\t0.644022227\t,\t0.583228643\t]\t,\n",
    "[\t0.696291723\t,\t0.790604671\t,\t0.644022227\t,\t0.583228643\t,\t0.481715009\t]\t,\n",
    "\n",
    ")\n",
    ", dtype=float)\n",
    "trainY = np.array(([\t0.223256598\t]\t,\n",
    "[\t0.241974687\t]\t,\n",
    "[\t0.365733465\t]\t,\n",
    "[\t0.552558994\t]\t,\n",
    "[\t0.370023519\t]\t,\n",
    "[\t0.332531703\t]\t,\n",
    "[\t0.387887522\t]\t,\n",
    "[\t0.398363943\t]\t,\n",
    "[\t0.284826299\t]\t,\n",
    "[\t0.186735022\t]\t,\n",
    "[\t0.182694768\t]\t,\n",
    "[\t0.255617002\t]\t,\n",
    "[\t0.23597043\t]\t,\n",
    "[\t0.164134134\t]\t,\n",
    "[\t0.178176635\t]\t,\n",
    "[\t0.163956101\t]\t,\n",
    "[\t0.133241484\t]\t,\n",
    "[\t0.226399017\t]\t,\n",
    "[\t0.255013861\t]\t,\n",
    "[\t0.23708614\t]\t,\n",
    "[\t0.231651119\t]\t,\n",
    "[\t0.233067608\t]\t,\n",
    "[\t0.221173719\t]\t,\n",
    "[\t0.22633168\t]\t,\n",
    "[\t0.218698642\t]\t,\n",
    "[\t0.232032203\t]\t,\n",
    "[\t0.231947948\t]\t,\n",
    "[\t0.221547817\t]\t,\n",
    "[\t0.287958581\t]\t,\n",
    "[\t0.28837327\t]\t,\n",
    "[\t0.297145757\t]\t,\n",
    "[\t0.243669818\t]\t,\n",
    "[\t0.307437314\t]\t,\n",
    "[\t0.358597855\t]\t,\n",
    "[\t0.372181217\t]\t,\n",
    "[\t0.450259481\t]\t,\n",
    "[\t0.443095634\t]\t,\n",
    "[\t0.558155976\t]\t,\n",
    "[\t0.602359827\t]\t,\n",
    "[\t0.696291723\t]\t,\n",
    "[\t0.790604671\t]\t,\n",
    "[\t0.644022227\t]\t,\n",
    "[\t0.583228643\t]\t,\n",
    "[\t0.481715009\t]\t,\n",
    "[\t0.442812107\t]\t,\n",
    "\n",
    ")\n",
    ", dtype=float)\n",
    "\n",
    "#Testing Data:\n",
    "testX = np.array(([\t0.790604671\t,\t0.644022227\t,\t0.583228643\t,\t0.481715009\t,\t0.442812107\t]\t,\n",
    "[\t0.644022227\t,\t0.583228643\t,\t0.481715009\t,\t0.442812107\t,\t0.496270585\t]\t,\n",
    "[\t0.583228643\t,\t0.481715009\t,\t0.442812107\t,\t0.496270585\t,\t0.475463393\t]\t,\n",
    "[\t0.481715009\t,\t0.442812107\t,\t0.496270585\t,\t0.475463393\t,\t0.551559791\t]\t,\n",
    "[\t0.442812107\t,\t0.496270585\t,\t0.475463393\t,\t0.551559791\t,\t0.500994351\t]\t,\n",
    "[\t0.496270585\t,\t0.475463393\t,\t0.551559791\t,\t0.500994351\t,\t0.445458587\t]\t,\n",
    "[\t0.475463393\t,\t0.551559791\t,\t0.500994351\t,\t0.445458587\t,\t0.505711667\t]\t,\n",
    "[\t0.551559791\t,\t0.500994351\t,\t0.445458587\t,\t0.505711667\t,\t0.465889036\t]\t,\n",
    "[\t0.500994351\t,\t0.445458587\t,\t0.505711667\t,\t0.465889036\t,\t0.46785659\t]\t,\n",
    "[\t0.445458587\t,\t0.505711667\t,\t0.465889036\t,\t0.46785659\t,\t0.453001423\t]\t,\n",
    "[\t0.505711667\t,\t0.465889036\t,\t0.46785659\t,\t0.453001423\t,\t0.437411724\t]\t,\n",
    "[\t0.465889036\t,\t0.46785659\t,\t0.453001423\t,\t0.437411724\t,\t0.350673696\t]\t,\n",
    "\n",
    "\n",
    "\n",
    ")\n",
    ", dtype=float)\n",
    "testY = np.array(([\t0.496270585\t]\t,\n",
    "[\t0.475463393\t]\t,\n",
    "[\t0.551559791\t]\t,\n",
    "[\t0.500994351\t]\t,\n",
    "[\t0.445458587\t]\t,\n",
    "[\t0.505711667\t]\t,\n",
    "[\t0.465889036\t]\t,\n",
    "[\t0.46785659\t]\t,\n",
    "[\t0.453001423\t]\t,\n",
    "[\t0.437411724\t]\t,\n",
    "[\t0.350673696\t]\t,\n",
    "[\t0.364031312\t]\t,\n",
    "\n",
    "\n",
    ")\n",
    ", dtype=float)\n",
    "\n",
    "\n",
    "dataprediksi = np.array(([\t0.46785659\t,\t0.453001423\t,\t0.437411724\t,\t0.350673696\t,\t0.364031312\t]\t,\n",
    "[\t0.453001423\t,\t0.437411724\t,\t0.350673696\t,\t0.364031312\t,\t0.795380412\t]\t,\n",
    "[\t0.437411724\t,\t0.350673696\t,\t0.364031312\t,\t0.795380412\t,\t1\t]\t,\n",
    "[\t0.350673696\t,\t0.364031312\t,\t0.795380412\t,\t1\t,\t0.707681705\t]\t,\n",
    "\n",
    "\n",
    "\n",
    "), dtype=float)"
   ]
  },
  {
   "cell_type": "code",
   "execution_count": 15,
   "metadata": {},
   "outputs": [
    {
     "data": {
      "text/plain": [
       "array([[0.79060467, 0.64402223, 0.58322864, 0.48171501, 0.44281211],\n",
       "       [0.64402223, 0.58322864, 0.48171501, 0.44281211, 0.49627058],\n",
       "       [0.58322864, 0.48171501, 0.44281211, 0.49627058, 0.47546339],\n",
       "       [0.48171501, 0.44281211, 0.49627058, 0.47546339, 0.55155979],\n",
       "       [0.44281211, 0.49627058, 0.47546339, 0.55155979, 0.50099435],\n",
       "       [0.49627058, 0.47546339, 0.55155979, 0.50099435, 0.44545859],\n",
       "       [0.47546339, 0.55155979, 0.50099435, 0.44545859, 0.50571167],\n",
       "       [0.55155979, 0.50099435, 0.44545859, 0.50571167, 0.46588904],\n",
       "       [0.50099435, 0.44545859, 0.50571167, 0.46588904, 0.46785659],\n",
       "       [0.44545859, 0.50571167, 0.46588904, 0.46785659, 0.45300142],\n",
       "       [0.50571167, 0.46588904, 0.46785659, 0.45300142, 0.43741172],\n",
       "       [0.46588904, 0.46785659, 0.45300142, 0.43741172, 0.3506737 ]])"
      ]
     },
     "execution_count": 15,
     "metadata": {},
     "output_type": "execute_result"
    }
   ],
   "source": [
    "testX"
   ]
  },
  {
   "cell_type": "code",
   "execution_count": 16,
   "metadata": {},
   "outputs": [],
   "source": [
    "##Need to modify trainer class a bit to check testing error during training:\n",
    "class trainer(object):\n",
    "    def __init__(self, N):\n",
    "        #Make Local reference to network:\n",
    "        self.N = N\n",
    "        \n",
    "    def callbackF(self, params):\n",
    "        self.N.setParams(params)\n",
    "        self.J.append(self.N.costFunction(self.X, self.y))\n",
    "        self.testJ.append(self.N.costFunction(self.testX, self.testY))\n",
    "        \n",
    "    def costFunctionWrapper(self, params, X, y):\n",
    "        self.N.setParams(params)\n",
    "        cost = self.N.costFunction(X, y)\n",
    "        grad = self.N.computeGradients(X,y)\n",
    "        \n",
    "        return cost, grad\n",
    "        \n",
    "    def train(self, trainX, trainY, testX, testY):\n",
    "        #Make an internal variable for the callback function:\n",
    "        self.X = trainX\n",
    "        self.y = trainY\n",
    "        \n",
    "        self.testX = testX\n",
    "        self.testY = testY\n",
    "\n",
    "        #Make empty list to store training costs:\n",
    "        self.J = []\n",
    "        self.testJ = []\n",
    "        \n",
    "        params0 = self.N.getParams()\n",
    "\n",
    "        options = {'maxiter': 100, 'disp' : True}\n",
    "        _res = optimize.minimize(self.costFunctionWrapper, params0, jac=True, method='BFGS', \\\n",
    "                                 args=(trainX, trainY), options=options, callback=self.callbackF)\n",
    "\n",
    "        self.N.setParams(_res.x)\n",
    "        self.optimizationResults = _res"
   ]
  },
  {
   "cell_type": "code",
   "execution_count": 17,
   "metadata": {},
   "outputs": [
    {
     "name": "stdout",
     "output_type": "stream",
     "text": [
      "Warning: Maximum number of iterations has been exceeded.\n",
      "         Current function value: 0.060836\n",
      "         Iterations: 100\n",
      "         Function evaluations: 105\n",
      "         Gradient evaluations: 105\n"
     ]
    }
   ],
   "source": [
    "#Train network with new data:\n",
    "NN = Neural_Network()\n",
    "\n",
    "T = trainer(NN)\n",
    "T.train(trainX, trainY, testX, testY)"
   ]
  },
  {
   "cell_type": "code",
   "execution_count": 18,
   "metadata": {},
   "outputs": [
    {
     "data": {
      "image/png": "[encoded data removed]",
      "text/plain": [
       "<Figure size 432x288 with 1 Axes>"
      ]
     },
     "metadata": {
      "needs_background": "light"
     },
     "output_type": "display_data"
    }
   ],
   "source": [
    "#Plot cost during training:\n",
    "plot.plot(T.J)\n",
    "plot.plot(T.testJ)\n",
    "plot.grid(1)\n",
    "plot.xlabel('Iterations')\n",
    "plot.ylabel('Cost')\n",
    "plot.legend(['Training', 'Testing'])\n",
    "plot.show()"
   ]
  },
  {
   "cell_type": "code",
   "execution_count": 19,
   "metadata": {},
   "outputs": [
    {
     "data": {
      "text/plain": [
       "[array([0.70240111]),\n",
       " array([0.6171802]),\n",
       " array([0.47556563]),\n",
       " array([0.33837012]),\n",
       " array([0.31378022]),\n",
       " array([0.29640207]),\n",
       " array([0.26818955]),\n",
       " array([0.22355561]),\n",
       " array([0.17752006]),\n",
       " array([0.1563291]),\n",
       " array([0.13211319]),\n",
       " array([0.12507046]),\n",
       " array([0.12073232]),\n",
       " array([0.1197281]),\n",
       " array([0.11910804]),\n",
       " array([0.11824408]),\n",
       " array([0.11676694]),\n",
       " array([0.11418833]),\n",
       " array([0.10980163]),\n",
       " array([0.10335491]),\n",
       " array([0.09854456]),\n",
       " array([0.09530825]),\n",
       " array([0.09186422]),\n",
       " array([0.09114449]),\n",
       " array([0.09101181]),\n",
       " array([0.09098031]),\n",
       " array([0.09095336]),\n",
       " array([0.09090397]),\n",
       " array([0.09081203]),\n",
       " array([0.09064388]),\n",
       " array([0.09035915]),\n",
       " array([0.09004851]),\n",
       " array([0.0900127]),\n",
       " array([0.08999085]),\n",
       " array([0.08997992]),\n",
       " array([0.08996274]),\n",
       " array([0.08994875]),\n",
       " array([0.08993891]),\n",
       " array([0.08992016]),\n",
       " array([0.08988428]),\n",
       " array([0.08981651]),\n",
       " array([0.08969269]),\n",
       " array([0.08948347]),\n",
       " array([0.08919012]),\n",
       " array([0.08898579]),\n",
       " array([0.08881966]),\n",
       " array([0.08872212]),\n",
       " array([0.08867552]),\n",
       " array([0.08865571]),\n",
       " array([0.0886239]),\n",
       " array([0.08857308]),\n",
       " array([0.08848691]),\n",
       " array([0.08833016]),\n",
       " array([0.08803745]),\n",
       " array([0.08755736]),\n",
       " array([0.08716685]),\n",
       " array([0.08652232]),\n",
       " array([0.08553946]),\n",
       " array([0.08487969]),\n",
       " array([0.08469474]),\n",
       " array([0.08454208]),\n",
       " array([0.08430344]),\n",
       " array([0.08393557]),\n",
       " array([0.08362361]),\n",
       " array([0.08314038]),\n",
       " array([0.0826778]),\n",
       " array([0.08253142]),\n",
       " array([0.08228242]),\n",
       " array([0.08194906]),\n",
       " array([0.08154269]),\n",
       " array([0.08098524]),\n",
       " array([0.08048725]),\n",
       " array([0.08001625]),\n",
       " array([0.07935194]),\n",
       " array([0.07893789]),\n",
       " array([0.07859112]),\n",
       " array([0.07829776]),\n",
       " array([0.07799304]),\n",
       " array([0.07783411]),\n",
       " array([0.07762789]),\n",
       " array([0.07724931]),\n",
       " array([0.07651696]),\n",
       " array([0.07532152]),\n",
       " array([0.07403553]),\n",
       " array([0.071753]),\n",
       " array([0.06909457]),\n",
       " array([0.0653189]),\n",
       " array([0.06467878]),\n",
       " array([0.0638484]),\n",
       " array([0.06364381]),\n",
       " array([0.06347601]),\n",
       " array([0.06339918]),\n",
       " array([0.06330441]),\n",
       " array([0.06313139]),\n",
       " array([0.06280908]),\n",
       " array([0.06225662]),\n",
       " array([0.06190572]),\n",
       " array([0.0614235]),\n",
       " array([0.06101201]),\n",
       " array([0.06083584])]"
      ]
     },
     "execution_count": 19,
     "metadata": {},
     "output_type": "execute_result"
    }
   ],
   "source": [
    "T.J"
   ]
  },
  {
   "cell_type": "code",
   "execution_count": 20,
   "metadata": {},
   "outputs": [
    {
     "data": {
      "text/plain": [
       "[array([0.16862716]),\n",
       " array([0.13047044]),\n",
       " array([0.07318291]),\n",
       " array([0.01833859]),\n",
       " array([0.02974201]),\n",
       " array([0.02267439]),\n",
       " array([0.01850715]),\n",
       " array([0.01384399]),\n",
       " array([0.01467466]),\n",
       " array([0.01526294]),\n",
       " array([0.02068095]),\n",
       " array([0.02141558]),\n",
       " array([0.0237308]),\n",
       " array([0.02461269]),\n",
       " array([0.02545553]),\n",
       " array([0.02605866]),\n",
       " array([0.02701777]),\n",
       " array([0.02782145]),\n",
       " array([0.02929652]),\n",
       " array([0.03074688]),\n",
       " array([0.03405636]),\n",
       " array([0.03337504]),\n",
       " array([0.03225145]),\n",
       " array([0.0290088]),\n",
       " array([0.02732882]),\n",
       " array([0.0268345]),\n",
       " array([0.02657703]),\n",
       " array([0.02644754]),\n",
       " array([0.02638827]),\n",
       " array([0.02650189]),\n",
       " array([0.02704599]),\n",
       " array([0.02919154]),\n",
       " array([0.02955576]),\n",
       " array([0.02981199]),\n",
       " array([0.02990539]),\n",
       " array([0.03009108]),\n",
       " array([0.03032941]),\n",
       " array([0.03041217]),\n",
       " array([0.03046287]),\n",
       " array([0.0304905]),\n",
       " array([0.03047628]),\n",
       " array([0.03037407]),\n",
       " array([0.03009933]),\n",
       " array([0.02953952]),\n",
       " array([0.02898474]),\n",
       " array([0.02741022]),\n",
       " array([0.02702896]),\n",
       " array([0.02681837]),\n",
       " array([0.02668634]),\n",
       " array([0.02655363]),\n",
       " array([0.02642531]),\n",
       " array([0.02632357]),\n",
       " array([0.02629911]),\n",
       " array([0.02649451]),\n",
       " array([0.02737934]),\n",
       " array([0.02946438]),\n",
       " array([0.02862626]),\n",
       " array([0.02857406]),\n",
       " array([0.02919865]),\n",
       " array([0.029672]),\n",
       " array([0.03026199]),\n",
       " array([0.03148872]),\n",
       " array([0.03397114]),\n",
       " array([0.03824513]),\n",
       " array([0.04086162]),\n",
       " array([0.0456079]),\n",
       " array([0.05173645]),\n",
       " array([0.05199977]),\n",
       " array([0.05294296]),\n",
       " array([0.05265845]),\n",
       " array([0.05252992]),\n",
       " array([0.05288136]),\n",
       " array([0.05464764]),\n",
       " array([0.05606044]),\n",
       " array([0.05843651]),\n",
       " array([0.05774987]),\n",
       " array([0.06065592]),\n",
       " array([0.05920454]),\n",
       " array([0.0594572]),\n",
       " array([0.05920892]),\n",
       " array([0.05888248]),\n",
       " array([0.05851187]),\n",
       " array([0.05938588]),\n",
       " array([0.06139258]),\n",
       " array([0.05670342]),\n",
       " array([0.06272367]),\n",
       " array([0.0506449]),\n",
       " array([0.0461774]),\n",
       " array([0.04353873]),\n",
       " array([0.04189128]),\n",
       " array([0.03950993]),\n",
       " array([0.03901038]),\n",
       " array([0.03809022]),\n",
       " array([0.03736148]),\n",
       " array([0.03655735]),\n",
       " array([0.03644492]),\n",
       " array([0.03676069]),\n",
       " array([0.03593215]),\n",
       " array([0.03325541]),\n",
       " array([0.03512647])]"
      ]
     },
     "execution_count": 20,
     "metadata": {},
     "output_type": "execute_result"
    }
   ],
   "source": [
    "T.testJ"
   ]
  },
  {
   "cell_type": "code",
   "execution_count": 21,
   "metadata": {},
   "outputs": [
    {
     "data": {
      "text/plain": [
       "0.07457569727409079"
      ]
     },
     "execution_count": 21,
     "metadata": {},
     "output_type": "execute_result"
    }
   ],
   "source": [
    "from sklearn.metrics import mean_absolute_error\n",
    "mean_absolute_error(T.J, T.testJ)"
   ]
  },
  {
   "cell_type": "code",
   "execution_count": 22,
   "metadata": {},
   "outputs": [],
   "source": [
    "yHat = NN.forward(X)"
   ]
  },
  {
   "cell_type": "code",
   "execution_count": 23,
   "metadata": {},
   "outputs": [
    {
     "data": {
      "text/plain": [
       "array([[0.24190101],\n",
       "       [0.25627513],\n",
       "       [0.27573054],\n",
       "       [0.39482973],\n",
       "       [0.42868553],\n",
       "       [0.35245107],\n",
       "       [0.37266332],\n",
       "       [0.39110787],\n",
       "       [0.32895966],\n",
       "       [0.24110399],\n",
       "       [0.19333443],\n",
       "       [0.17609647],\n",
       "       [0.22553089],\n",
       "       [0.21231727],\n",
       "       [0.16701904],\n",
       "       [0.19586139],\n",
       "       [0.15134189],\n",
       "       [0.13759647],\n",
       "       [0.27702813],\n",
       "       [0.27186159],\n",
       "       [0.26421776],\n",
       "       [0.26889204],\n",
       "       [0.2364151 ],\n",
       "       [0.21146307],\n",
       "       [0.22882136],\n",
       "       [0.21556117],\n",
       "       [0.23956095],\n",
       "       [0.23631316],\n",
       "       [0.2222839 ],\n",
       "       [0.33312645],\n",
       "       [0.2996599 ],\n",
       "       [0.32847066],\n",
       "       [0.23357358],\n",
       "       [0.33934702],\n",
       "       [0.38648878],\n",
       "       [0.40400386],\n",
       "       [0.51840823],\n",
       "       [0.48253391],\n",
       "       [0.62335704],\n",
       "       [0.62789296],\n",
       "       [0.70814358],\n",
       "       [0.73438991],\n",
       "       [0.56680173],\n",
       "       [0.51666461],\n",
       "       [0.40967094],\n",
       "       [0.40578431],\n",
       "       [0.42776585],\n",
       "       [0.39962491],\n",
       "       [0.59537914],\n",
       "       [0.48261419],\n",
       "       [0.40050497],\n",
       "       [0.5203041 ],\n",
       "       [0.39041203],\n",
       "       [0.44106438],\n",
       "       [0.42819777],\n",
       "       [0.38963731],\n",
       "       [0.29588285]])"
      ]
     },
     "execution_count": 23,
     "metadata": {},
     "output_type": "execute_result"
    }
   ],
   "source": [
    "yHat"
   ]
  },
  {
   "cell_type": "code",
   "execution_count": 24,
   "metadata": {},
   "outputs": [
    {
     "data": {
      "text/plain": [
       "array([[0.2232566 ],\n",
       "       [0.24197469],\n",
       "       [0.36573346],\n",
       "       [0.55255899],\n",
       "       [0.37002352],\n",
       "       [0.3325317 ],\n",
       "       [0.38788752],\n",
       "       [0.39836394],\n",
       "       [0.2848263 ],\n",
       "       [0.18673502],\n",
       "       [0.18269477],\n",
       "       [0.255617  ],\n",
       "       [0.23597043],\n",
       "       [0.16413413],\n",
       "       [0.17817663],\n",
       "       [0.1639561 ],\n",
       "       [0.13324148],\n",
       "       [0.22639902],\n",
       "       [0.25501386],\n",
       "       [0.23708614],\n",
       "       [0.23165112],\n",
       "       [0.23306761],\n",
       "       [0.22117372],\n",
       "       [0.22633168],\n",
       "       [0.21869864],\n",
       "       [0.2320322 ],\n",
       "       [0.23194795],\n",
       "       [0.22154782],\n",
       "       [0.28795858],\n",
       "       [0.28837327],\n",
       "       [0.29714576],\n",
       "       [0.24366982],\n",
       "       [0.30743731],\n",
       "       [0.35859786],\n",
       "       [0.37218122],\n",
       "       [0.45025948],\n",
       "       [0.44309563],\n",
       "       [0.55815598],\n",
       "       [0.60235983],\n",
       "       [0.69629172],\n",
       "       [0.79060467],\n",
       "       [0.64402223],\n",
       "       [0.58322864],\n",
       "       [0.48171501],\n",
       "       [0.44281211],\n",
       "       [0.49627058],\n",
       "       [0.47546339],\n",
       "       [0.55155979],\n",
       "       [0.50099435],\n",
       "       [0.44545859],\n",
       "       [0.50571167],\n",
       "       [0.46588904],\n",
       "       [0.46785659],\n",
       "       [0.45300142],\n",
       "       [0.43741172],\n",
       "       [0.3506737 ],\n",
       "       [0.36403131]])"
      ]
     },
     "execution_count": 24,
     "metadata": {},
     "output_type": "execute_result"
    }
   ],
   "source": [
    "y"
   ]
  },
  {
   "cell_type": "code",
   "execution_count": 25,
   "metadata": {},
   "outputs": [
    {
     "data": {
      "text/plain": [
       "0.003367098317966915"
      ]
     },
     "execution_count": 25,
     "metadata": {},
     "output_type": "execute_result"
    }
   ],
   "source": [
    "from sklearn.metrics import mean_squared_error \n",
    "mean_squared_error(y,yHat) "
   ]
  },
  {
   "cell_type": "code",
   "execution_count": 26,
   "metadata": {},
   "outputs": [
    {
     "data": {
      "image/png": "[encoded data removed]",
      "text/plain": [
       "<Figure size 432x288 with 1 Axes>"
      ]
     },
     "metadata": {
      "needs_background": "light"
     },
     "output_type": "display_data"
    }
   ],
   "source": [
    "#Plot cost during training:\n",
    "plot.plot(y)\n",
    "plot.plot(yHat)\n",
    "plot.grid(1)\n",
    "plot.legend(['y', 'yHat'])\n",
    "plot.show()"
   ]
  },
  {
   "cell_type": "code",
   "execution_count": 27,
   "metadata": {},
   "outputs": [],
   "source": [
    "#Regularization Parameter:\n",
    "Lambda = 0.0001"
   ]
  },
  {
   "cell_type": "code",
   "execution_count": 28,
   "metadata": {},
   "outputs": [],
   "source": [
    "#Need to make changes to costFunction and costFunctionPrim:\n",
    "def costFunction(self, X, y):\n",
    "    #Compute cost for given X,y, use weights already stored in class.\n",
    "    self.yHat = self.forward(X)\n",
    "    #We don't want cost to increase with the number of examples, so normalize by dividing the error term by number of examples(X.shape[0])\n",
    "    J = 0.5*sum((y-self.yHat)**2)/X.shape[0] + (self.Lambda/2)*(sum(self.W1**2)+sum(self.W2**2))\n",
    "    return J\n",
    "\n",
    "def costFunctionPrime(self, X, y):\n",
    "    #Compute derivative with respect to W and W2 for a given X and y:\n",
    "    self.yHat = self.forward(X)\n",
    "\n",
    "    delta3 = np.multiply(-(y-self.yHat), self.sigmoidPrime(self.z3))\n",
    "    #Add gradient of regularization term:\n",
    "    dJdW2 = np.dot(self.a2.T, delta3)/X.shape[0] + self.Lambda*self.W2\n",
    "\n",
    "    delta2 = np.dot(delta3, self.W2.T)*self.sigmoidPrime(self.z2)\n",
    "    #Add gradient of regularization term:\n",
    "    dJdW1 = np.dot(X.T, delta2)/X.shape[0] + self.Lambda*self.W1\n",
    "\n",
    "    return dJdW1, dJdW2"
   ]
  },
  {
   "cell_type": "code",
   "execution_count": 29,
   "metadata": {},
   "outputs": [],
   "source": [
    "#New complete class, with changes:\n",
    "class Neural_Network(object):\n",
    "    def __init__(self, Lambda=0.0001):        \n",
    "        #Define Hyperparameters\n",
    "        self.inputLayerSize = 5\n",
    "        self.outputLayerSize = 1\n",
    "        self.hiddenLayerSize = 3\n",
    "        \n",
    "        #Weights (parameters)\n",
    "        self.W1 = np.random.randn(self.inputLayerSize,self.hiddenLayerSize)\n",
    "        self.W2 = np.random.randn(self.hiddenLayerSize,self.outputLayerSize)\n",
    "        \n",
    "        #Regularization Parameter:\n",
    "        self.Lambda = Lambda\n",
    "        \n",
    "    def forward(self, X):\n",
    "        #Propogate inputs though network\n",
    "        self.z2 = np.dot(X, self.W1)\n",
    "        self.a2 = self.sigmoid(self.z2)\n",
    "        self.z3 = np.dot(self.a2, self.W2)\n",
    "        yHat = self.sigmoid(self.z3) \n",
    "        return yHat\n",
    "        \n",
    "    def sigmoid(self, z):\n",
    "        #Apply sigmoid activation function to scalar, vector, or matrix\n",
    "        return 1/(1+np.exp(-z))\n",
    "    \n",
    "    def sigmoidPrime(self,z):\n",
    "        #Gradient of sigmoid\n",
    "        return np.exp(-z)/((1+np.exp(-z))**2)\n",
    "    \n",
    "    def costFunction(self, X, y):\n",
    "        #Compute cost for given X,y, use weights already stored in class.\n",
    "        self.yHat = self.forward(X)\n",
    "        J = 0.5*sum((y-self.yHat)**2)/X.shape[0] + (self.Lambda/2)*(np.sum(self.W1**2)+np.sum(self.W2**2))\n",
    "        return J\n",
    "        \n",
    "    def costFunctionPrime(self, X, y):\n",
    "        #Compute derivative with respect to W and W2 for a given X and y:\n",
    "        self.yHat = self.forward(X)\n",
    "        \n",
    "        delta3 = np.multiply(-(y-self.yHat), self.sigmoidPrime(self.z3))\n",
    "        #Add gradient of regularization term:\n",
    "        dJdW2 = np.dot(self.a2.T, delta3)/X.shape[0] + self.Lambda*self.W2\n",
    "        \n",
    "        delta2 = np.dot(delta3, self.W2.T)*self.sigmoidPrime(self.z2)\n",
    "        #Add gradient of regularization term:\n",
    "        dJdW1 = np.dot(X.T, delta2)/X.shape[0] + self.Lambda*self.W1\n",
    "        \n",
    "        return dJdW1, dJdW2\n",
    "    \n",
    "    def predict(self):\n",
    "        prediksi = self.forward(dataprediksi)\n",
    "        return prediksi\n",
    "    \n",
    "    #Helper functions for interacting with other methods/classes\n",
    "    def getParams(self):\n",
    "        #Get W1 and W2 Rolled into vector:\n",
    "        params = np.concatenate((self.W1.ravel(), self.W2.ravel()))\n",
    "        return params\n",
    "    \n",
    "    def setParams(self, params):\n",
    "        #Set W1 and W2 using single parameter vector:\n",
    "        W1_start = 0\n",
    "        W1_end = self.hiddenLayerSize*self.inputLayerSize\n",
    "        self.W1 = np.reshape(params[W1_start:W1_end], \\\n",
    "                             (self.inputLayerSize, self.hiddenLayerSize))\n",
    "        W2_end = W1_end + self.hiddenLayerSize*self.outputLayerSize\n",
    "        self.W2 = np.reshape(params[W1_end:W2_end], \\\n",
    "                             (self.hiddenLayerSize, self.outputLayerSize))\n",
    "        \n",
    "    def computeGradients(self, X, y):\n",
    "        dJdW1, dJdW2 = self.costFunctionPrime(X, y)\n",
    "        return np.concatenate((dJdW1.ravel(), dJdW2.ravel()))"
   ]
  },
  {
   "cell_type": "code",
   "execution_count": 30,
   "metadata": {},
   "outputs": [],
   "source": [
    "def computeNumericalGradient(N, X, y):\n",
    "    paramsInitial = N.getParams()\n",
    "    numgrad = np.zeros(paramsInitial.shape)\n",
    "    perturb = np.zeros(paramsInitial.shape)\n",
    "    e = 1e-4\n",
    "\n",
    "    for p in range(len(paramsInitial)):\n",
    "        #Set perturbation vector\n",
    "        perturb[p] = e\n",
    "        N.setParams(paramsInitial + perturb)\n",
    "        loss2 = N.costFunction(X, y)\n",
    "            \n",
    "        N.setParams(paramsInitial - perturb)\n",
    "        loss1 = N.costFunction(X, y)\n",
    "\n",
    "        #Compute Numerical Gradient\n",
    "        numgrad[p] = (loss2 - loss1) / (2*e)\n",
    "\n",
    "            #Return the value we changed to zero:\n",
    "        perturb[p] = 0\n",
    "            \n",
    "    #Return Params to original value:\n",
    "    N.setParams(paramsInitial)\n",
    "\n",
    "    return numgrad "
   ]
  },
  {
   "cell_type": "code",
   "execution_count": 31,
   "metadata": {},
   "outputs": [],
   "source": [
    "NN = Neural_Network(Lambda=0.0001)"
   ]
  },
  {
   "cell_type": "code",
   "execution_count": 32,
   "metadata": {},
   "outputs": [],
   "source": [
    "#Make sure our gradients our correct after making changes:\n",
    "numgrad = computeNumericalGradient(NN, X, y)\n",
    "grad = NN.computeGradients(X,y)"
   ]
  },
  {
   "cell_type": "code",
   "execution_count": 33,
   "metadata": {},
   "outputs": [
    {
     "data": {
      "text/plain": [
       "3.2988711865190457e-09"
      ]
     },
     "execution_count": 33,
     "metadata": {},
     "output_type": "execute_result"
    }
   ],
   "source": [
    "#Should be less than 1e-8:\n",
    "np.linalg.norm(grad-numgrad)/np.linalg.norm(grad+numgrad)"
   ]
  },
  {
   "cell_type": "code",
   "execution_count": 34,
   "metadata": {},
   "outputs": [],
   "source": [
    "T = trainer(NN)"
   ]
  },
  {
   "cell_type": "code",
   "execution_count": 35,
   "metadata": {},
   "outputs": [
    {
     "name": "stdout",
     "output_type": "stream",
     "text": [
      "Warning: Maximum number of iterations has been exceeded.\n",
      "         Current function value: 0.003810\n",
      "         Iterations: 100\n",
      "         Function evaluations: 109\n",
      "         Gradient evaluations: 109\n"
     ]
    }
   ],
   "source": [
    "T.train(X,y,testX,testY)"
   ]
  },
  {
   "cell_type": "code",
   "execution_count": 36,
   "metadata": {},
   "outputs": [
    {
     "data": {
      "image/png": "[encoded data removed]",
      "text/plain": [
       "<Figure size 432x288 with 1 Axes>"
      ]
     },
     "metadata": {
      "needs_background": "light"
     },
     "output_type": "display_data"
    }
   ],
   "source": [
    "plot.plot(T.J)\n",
    "plot.plot(T.testJ)\n",
    "plot.grid(1)\n",
    "plot.xlabel('Iterations')\n",
    "plot.ylabel('Cost')\n",
    "plot.legend(['Training', 'Testing'])\n",
    "plot.show()"
   ]
  },
  {
   "cell_type": "code",
   "execution_count": 37,
   "metadata": {},
   "outputs": [
    {
     "data": {
      "text/plain": [
       "[array([0.01091285]),\n",
       " array([0.01061307]),\n",
       " array([0.01057882]),\n",
       " array([0.01053703]),\n",
       " array([0.01046026]),\n",
       " array([0.01031704]),\n",
       " array([0.01005175]),\n",
       " array([0.00957397]),\n",
       " array([0.00876564]),\n",
       " array([0.00757898]),\n",
       " array([0.00691026]),\n",
       " array([0.00675951]),\n",
       " array([0.00670874]),\n",
       " array([0.00662022]),\n",
       " array([0.00653744]),\n",
       " array([0.00653268]),\n",
       " array([0.00652996]),\n",
       " array([0.00652505]),\n",
       " array([0.00651616]),\n",
       " array([0.00650019]),\n",
       " array([0.00647174]),\n",
       " array([0.00642168]),\n",
       " array([0.00633452]),\n",
       " array([0.00618394]),\n",
       " array([0.00592681]),\n",
       " array([0.0055083]),\n",
       " array([0.00500149]),\n",
       " array([0.00485262]),\n",
       " array([0.00478407]),\n",
       " array([0.00466812]),\n",
       " array([0.00454037]),\n",
       " array([0.00453654]),\n",
       " array([0.00453519]),\n",
       " array([0.0045338]),\n",
       " array([0.00453134]),\n",
       " array([0.00452681]),\n",
       " array([0.00451836]),\n",
       " array([0.00450254]),\n",
       " array([0.00447268]),\n",
       " array([0.00434786]),\n",
       " array([0.00428113]),\n",
       " array([0.00421665]),\n",
       " array([0.00421304]),\n",
       " array([0.00419459]),\n",
       " array([0.00417491]),\n",
       " array([0.00416832]),\n",
       " array([0.00416736]),\n",
       " array([0.00416703]),\n",
       " array([0.00416644]),\n",
       " array([0.00416538]),\n",
       " array([0.00416347]),\n",
       " array([0.00416004]),\n",
       " array([0.00415395]),\n",
       " array([0.00414328]),\n",
       " array([0.0041249]),\n",
       " array([0.00409418]),\n",
       " array([0.00404602]),\n",
       " array([0.00399364]),\n",
       " array([0.00396983]),\n",
       " array([0.0039632]),\n",
       " array([0.00395133]),\n",
       " array([0.00393077]),\n",
       " array([0.00390836]),\n",
       " array([0.00390275]),\n",
       " array([0.00390257]),\n",
       " array([0.00390251]),\n",
       " array([0.00390244]),\n",
       " array([0.00390233]),\n",
       " array([0.00390215]),\n",
       " array([0.00390184]),\n",
       " array([0.00390131]),\n",
       " array([0.00390036]),\n",
       " array([0.00389866]),\n",
       " array([0.00389555]),\n",
       " array([0.00388995]),\n",
       " array([0.00388016]),\n",
       " array([0.00386409]),\n",
       " array([0.00384199]),\n",
       " array([0.00382953]),\n",
       " array([0.0038221]),\n",
       " array([0.0038203]),\n",
       " array([0.00382013]),\n",
       " array([0.00382011]),\n",
       " array([0.0038201]),\n",
       " array([0.00382009]),\n",
       " array([0.00382006]),\n",
       " array([0.00382001]),\n",
       " array([0.00381993]),\n",
       " array([0.00381977]),\n",
       " array([0.00381947]),\n",
       " array([0.00381896]),\n",
       " array([0.00381809]),\n",
       " array([0.00381673]),\n",
       " array([0.00381473]),\n",
       " array([0.00381228]),\n",
       " array([0.00381025]),\n",
       " array([0.0038098]),\n",
       " array([0.00380977]),\n",
       " array([0.00380977]),\n",
       " array([0.00380977])]"
      ]
     },
     "execution_count": 37,
     "metadata": {},
     "output_type": "execute_result"
    }
   ],
   "source": [
    "T.J"
   ]
  },
  {
   "cell_type": "code",
   "execution_count": 38,
   "metadata": {},
   "outputs": [
    {
     "data": {
      "text/plain": [
       "[array([0.0055151]),\n",
       " array([0.00387003]),\n",
       " array([0.00351495]),\n",
       " array([0.00327346]),\n",
       " array([0.00303655]),\n",
       " array([0.00277225]),\n",
       " array([0.00247909]),\n",
       " array([0.00223017]),\n",
       " array([0.00227852]),\n",
       " array([0.0030436]),\n",
       " array([0.0035275]),\n",
       " array([0.00351202]),\n",
       " array([0.00337509]),\n",
       " array([0.00309218]),\n",
       " array([0.00258198]),\n",
       " array([0.00263663]),\n",
       " array([0.0026349]),\n",
       " array([0.00262745]),\n",
       " array([0.00261641]),\n",
       " array([0.00260083]),\n",
       " array([0.00257857]),\n",
       " array([0.00254612]),\n",
       " array([0.00249795]),\n",
       " array([0.0024261]),\n",
       " array([0.00232787]),\n",
       " array([0.00225895]),\n",
       " array([0.00248878]),\n",
       " array([0.00272828]),\n",
       " array([0.00293034]),\n",
       " array([0.00293807]),\n",
       " array([0.00283653]),\n",
       " array([0.00286095]),\n",
       " array([0.00286878]),\n",
       " array([0.00286984]),\n",
       " array([0.00287049]),\n",
       " array([0.00287093]),\n",
       " array([0.00287154]),\n",
       " array([0.00287167]),\n",
       " array([0.00286816]),\n",
       " array([0.00278707]),\n",
       " array([0.00290167]),\n",
       " array([0.00306061]),\n",
       " array([0.00312241]),\n",
       " array([0.00303857]),\n",
       " array([0.00302669]),\n",
       " array([0.00306453]),\n",
       " array([0.00308437]),\n",
       " array([0.00308106]),\n",
       " array([0.00307355]),\n",
       " array([0.0030628]),\n",
       " array([0.00304793]),\n",
       " array([0.00302714]),\n",
       " array([0.00299777]),\n",
       " array([0.00295645]),\n",
       " array([0.00289946]),\n",
       " array([0.00282435]),\n",
       " array([0.00273917]),\n",
       " array([0.0026969]),\n",
       " array([0.00269171]),\n",
       " array([0.00269281]),\n",
       " array([0.00268471]),\n",
       " array([0.00268585]),\n",
       " array([0.00275544]),\n",
       " array([0.00275409]),\n",
       " array([0.00277578]),\n",
       " array([0.00277405]),\n",
       " array([0.00277202]),\n",
       " array([0.00277027]),\n",
       " array([0.00276845]),\n",
       " array([0.00276669]),\n",
       " array([0.00276494]),\n",
       " array([0.00276305]),\n",
       " array([0.00276066]),\n",
       " array([0.00275726]),\n",
       " array([0.00275199]),\n",
       " array([0.00274337]),\n",
       " array([0.00272831]),\n",
       " array([0.0027003]),\n",
       " array([0.00267811]),\n",
       " array([0.00266928]),\n",
       " array([0.002672]),\n",
       " array([0.00267392]),\n",
       " array([0.00267473]),\n",
       " array([0.00267581]),\n",
       " array([0.00267674]),\n",
       " array([0.00267769]),\n",
       " array([0.00267874]),\n",
       " array([0.00268003]),\n",
       " array([0.00268168]),\n",
       " array([0.0026839]),\n",
       " array([0.00268687]),\n",
       " array([0.00269066]),\n",
       " array([0.00269458]),\n",
       " array([0.00269516]),\n",
       " array([0.00268614]),\n",
       " array([0.00266706]),\n",
       " array([0.00265606]),\n",
       " array([0.0026534]),\n",
       " array([0.00265332]),\n",
       " array([0.00265334])]"
      ]
     },
     "execution_count": 38,
     "metadata": {},
     "output_type": "execute_result"
    }
   ],
   "source": [
    "T.testJ"
   ]
  },
  {
   "cell_type": "code",
   "execution_count": 39,
   "metadata": {},
   "outputs": [
    {
     "data": {
      "text/plain": [
       "0.002206745439696598"
      ]
     },
     "execution_count": 39,
     "metadata": {},
     "output_type": "execute_result"
    }
   ],
   "source": [
    "from sklearn.metrics import mean_absolute_error\n",
    "mean_absolute_error(T.J, T.testJ)"
   ]
  },
  {
   "cell_type": "code",
   "execution_count": 40,
   "metadata": {},
   "outputs": [],
   "source": [
    "yHat=NN.forward(X)"
   ]
  },
  {
   "cell_type": "code",
   "execution_count": 41,
   "metadata": {},
   "outputs": [
    {
     "data": {
      "text/plain": [
       "array([[0.22251496],\n",
       "       [0.25264087],\n",
       "       [0.26865432],\n",
       "       [0.36222475],\n",
       "       [0.49750893],\n",
       "       [0.40338919],\n",
       "       [0.37725832],\n",
       "       [0.38280309],\n",
       "       [0.37814434],\n",
       "       [0.31988909],\n",
       "       [0.24801383],\n",
       "       [0.22282668],\n",
       "       [0.25762532],\n",
       "       [0.25940837],\n",
       "       [0.22675833],\n",
       "       [0.22726787],\n",
       "       [0.20923023],\n",
       "       [0.19359556],\n",
       "       [0.24863879],\n",
       "       [0.27146777],\n",
       "       [0.27286931],\n",
       "       [0.2724339 ],\n",
       "       [0.26453073],\n",
       "       [0.25463421],\n",
       "       [0.25819318],\n",
       "       [0.2530424 ],\n",
       "       [0.26124271],\n",
       "       [0.26246932],\n",
       "       [0.25680345],\n",
       "       [0.29980954],\n",
       "       [0.30449906],\n",
       "       [0.31747972],\n",
       "       [0.28295806],\n",
       "       [0.31681155],\n",
       "       [0.35275298],\n",
       "       [0.37367306],\n",
       "       [0.43814276],\n",
       "       [0.43768281],\n",
       "       [0.51578947],\n",
       "       [0.5500905 ],\n",
       "       [0.60768097],\n",
       "       [0.65769262],\n",
       "       [0.600219  ],\n",
       "       [0.56208845],\n",
       "       [0.47470023],\n",
       "       [0.42609087],\n",
       "       [0.45922646],\n",
       "       [0.45110782],\n",
       "       [0.51087895],\n",
       "       [0.48638149],\n",
       "       [0.44888393],\n",
       "       [0.47969869],\n",
       "       [0.4480802 ],\n",
       "       [0.45558233],\n",
       "       [0.44551625],\n",
       "       [0.42934743],\n",
       "       [0.36885013]])"
      ]
     },
     "execution_count": 41,
     "metadata": {},
     "output_type": "execute_result"
    }
   ],
   "source": [
    "yHat"
   ]
  },
  {
   "cell_type": "code",
   "execution_count": 42,
   "metadata": {},
   "outputs": [
    {
     "data": {
      "text/plain": [
       "array([[0.2232566 ],\n",
       "       [0.24197469],\n",
       "       [0.36573346],\n",
       "       [0.55255899],\n",
       "       [0.37002352],\n",
       "       [0.3325317 ],\n",
       "       [0.38788752],\n",
       "       [0.39836394],\n",
       "       [0.2848263 ],\n",
       "       [0.18673502],\n",
       "       [0.18269477],\n",
       "       [0.255617  ],\n",
       "       [0.23597043],\n",
       "       [0.16413413],\n",
       "       [0.17817663],\n",
       "       [0.1639561 ],\n",
       "       [0.13324148],\n",
       "       [0.22639902],\n",
       "       [0.25501386],\n",
       "       [0.23708614],\n",
       "       [0.23165112],\n",
       "       [0.23306761],\n",
       "       [0.22117372],\n",
       "       [0.22633168],\n",
       "       [0.21869864],\n",
       "       [0.2320322 ],\n",
       "       [0.23194795],\n",
       "       [0.22154782],\n",
       "       [0.28795858],\n",
       "       [0.28837327],\n",
       "       [0.29714576],\n",
       "       [0.24366982],\n",
       "       [0.30743731],\n",
       "       [0.35859786],\n",
       "       [0.37218122],\n",
       "       [0.45025948],\n",
       "       [0.44309563],\n",
       "       [0.55815598],\n",
       "       [0.60235983],\n",
       "       [0.69629172],\n",
       "       [0.79060467],\n",
       "       [0.64402223],\n",
       "       [0.58322864],\n",
       "       [0.48171501],\n",
       "       [0.44281211],\n",
       "       [0.49627058],\n",
       "       [0.47546339],\n",
       "       [0.55155979],\n",
       "       [0.50099435],\n",
       "       [0.44545859],\n",
       "       [0.50571167],\n",
       "       [0.46588904],\n",
       "       [0.46785659],\n",
       "       [0.45300142],\n",
       "       [0.43741172],\n",
       "       [0.3506737 ],\n",
       "       [0.36403131]])"
      ]
     },
     "execution_count": 42,
     "metadata": {},
     "output_type": "execute_result"
    }
   ],
   "source": [
    "y"
   ]
  },
  {
   "cell_type": "code",
   "execution_count": 43,
   "metadata": {},
   "outputs": [
    {
     "data": {
      "text/plain": [
       "0.004575198031275286"
      ]
     },
     "execution_count": 43,
     "metadata": {},
     "output_type": "execute_result"
    }
   ],
   "source": [
    "from sklearn.metrics import mean_squared_error \n",
    "mean_squared_error(y,yHat) "
   ]
  },
  {
   "cell_type": "code",
   "execution_count": 44,
   "metadata": {},
   "outputs": [
    {
     "data": {
      "image/png": "[encoded data removed]",
      "text/plain": [
       "<Figure size 432x288 with 1 Axes>"
      ]
     },
     "metadata": {
      "needs_background": "light"
     },
     "output_type": "display_data"
    }
   ],
   "source": [
    "#Plot cost during training:\n",
    "plot.plot(y)\n",
    "plot.plot(yHat)\n",
    "plot.grid(1)\n",
    "plot.legend(['y', 'yHat'])\n",
    "plot.show()"
   ]
  },
  {
   "cell_type": "code",
   "execution_count": 45,
   "metadata": {},
   "outputs": [],
   "source": [
    "prediksi=NN.forward(dataprediksi)"
   ]
  },
  {
   "cell_type": "code",
   "execution_count": 46,
   "metadata": {},
   "outputs": [
    {
     "data": {
      "text/plain": [
       "array([[0.36775171],\n",
       "       [0.6220083 ],\n",
       "       [0.71765459],\n",
       "       [0.65834931]])"
      ]
     },
     "execution_count": 46,
     "metadata": {},
     "output_type": "execute_result"
    }
   ],
   "source": [
    "prediksi"
   ]
  },
  {
   "cell_type": "code",
   "execution_count": 47,
   "metadata": {},
   "outputs": [],
   "source": [
    "from sklearn.metrics import mean_squared_error "
   ]
  },
  {
   "cell_type": "code",
   "execution_count": 48,
   "metadata": {},
   "outputs": [
    {
     "data": {
      "text/plain": [
       "0.08840425902527445"
      ]
     },
     "execution_count": 48,
     "metadata": {},
     "output_type": "execute_result"
    }
   ],
   "source": [
    "Y_true= ([\t0.795380412\t]\t,\n",
    "[\t1\t]\t,\n",
    "[\t0.707681705\t]\t,\n",
    "[\t0.491695324\t]\t,\n",
    "\n",
    ")\n",
    "\n",
    "\n",
    "Y_pred=prediksi\n",
    "mean_squared_error(Y_true,Y_pred) "
   ]
  },
  {
   "cell_type": "code",
   "execution_count": 49,
   "metadata": {},
   "outputs": [
    {
     "data": {
      "text/plain": [
       "array([[0.46785659, 0.45300142, 0.43741172, 0.3506737 , 0.36403131],\n",
       "       [0.45300142, 0.43741172, 0.3506737 , 0.36403131, 0.79538041],\n",
       "       [0.43741172, 0.3506737 , 0.36403131, 0.79538041, 1.        ],\n",
       "       [0.3506737 , 0.36403131, 0.79538041, 1.        , 0.70768171]])"
      ]
     },
     "execution_count": 49,
     "metadata": {},
     "output_type": "execute_result"
    }
   ],
   "source": [
    "dataprediksi"
   ]
  },
  {
   "cell_type": "code",
   "execution_count": 50,
   "metadata": {},
   "outputs": [],
   "source": [
    "a=np.array([\t0.364031312\t,\t0.795380412\t,\t1\t,\t0.707681705\t,\t0.491695324\t])"
   ]
  },
  {
   "cell_type": "code",
   "execution_count": 51,
   "metadata": {},
   "outputs": [
    {
     "data": {
      "text/plain": [
       "array([0.54773361])"
      ]
     },
     "execution_count": 51,
     "metadata": {},
     "output_type": "execute_result"
    }
   ],
   "source": [
    "#prediksi 1\n",
    "prediksi=NN.forward(a)\n",
    "prediksi"
   ]
  },
  {
   "cell_type": "code",
   "execution_count": 52,
   "metadata": {},
   "outputs": [
    {
     "data": {
      "text/plain": [
       "array([0.50725402])"
      ]
     },
     "execution_count": 52,
     "metadata": {},
     "output_type": "execute_result"
    }
   ],
   "source": [
    "#prediksi 2\n",
    "c=prediksi\n",
    "b=a[1:]\n",
    "d=np.concatenate((b,c))\n",
    "prediksi=NN.forward(d)\n",
    "prediksi"
   ]
  },
  {
   "cell_type": "code",
   "execution_count": 53,
   "metadata": {},
   "outputs": [
    {
     "data": {
      "text/plain": [
       "array([0.45117766])"
      ]
     },
     "execution_count": 53,
     "metadata": {},
     "output_type": "execute_result"
    }
   ],
   "source": [
    "#prediksi 3\n",
    "c=prediksi\n",
    "b=d[1:]\n",
    "e=np.concatenate((b,c))\n",
    "prediksi=NN.forward(e)\n",
    "prediksi"
   ]
  },
  {
   "cell_type": "code",
   "execution_count": 54,
   "metadata": {},
   "outputs": [
    {
     "data": {
      "text/plain": [
       "array([0.43740172])"
      ]
     },
     "execution_count": 54,
     "metadata": {},
     "output_type": "execute_result"
    }
   ],
   "source": [
    "#prediksi 4\n",
    "c=prediksi\n",
    "b=e[1:]\n",
    "f=np.concatenate((b,c))\n",
    "prediksi=NN.forward(f)\n",
    "prediksi"
   ]
  },
  {
   "cell_type": "code",
   "execution_count": 55,
   "metadata": {},
   "outputs": [
    {
     "data": {
      "text/plain": [
       "array([0.43407689])"
      ]
     },
     "execution_count": 55,
     "metadata": {},
     "output_type": "execute_result"
    }
   ],
   "source": [
    "#prediksi 5\n",
    "c=prediksi\n",
    "b=f[1:]\n",
    "g=np.concatenate((b,c))\n",
    "prediksi=NN.forward(g)\n",
    "prediksi"
   ]
  },
  {
   "cell_type": "code",
   "execution_count": 56,
   "metadata": {},
   "outputs": [
    {
     "data": {
      "text/plain": [
       "array([0.42052026])"
      ]
     },
     "execution_count": 56,
     "metadata": {},
     "output_type": "execute_result"
    }
   ],
   "source": [
    "#prediksi 6\n",
    "c=prediksi\n",
    "b=g[1:]\n",
    "h=np.concatenate((b,c))\n",
    "prediksi=NN.forward(h)\n",
    "prediksi"
   ]
  },
  {
   "cell_type": "code",
   "execution_count": 57,
   "metadata": {},
   "outputs": [
    {
     "data": {
      "text/plain": [
       "array([0.41113716])"
      ]
     },
     "execution_count": 57,
     "metadata": {},
     "output_type": "execute_result"
    }
   ],
   "source": [
    "#prediksi 7\n",
    "c=prediksi\n",
    "b=g[1:]\n",
    "i=np.concatenate((b,c))\n",
    "prediksi=NN.forward(i)\n",
    "prediksi"
   ]
  },
  {
   "cell_type": "code",
   "execution_count": 58,
   "metadata": {},
   "outputs": [
    {
     "data": {
      "text/plain": [
       "array([0.40461572])"
      ]
     },
     "execution_count": 58,
     "metadata": {},
     "output_type": "execute_result"
    }
   ],
   "source": [
    "#prediksi 8\n",
    "c=prediksi\n",
    "b=g[1:]\n",
    "j=np.concatenate((b,c))\n",
    "prediksi=NN.forward(j)\n",
    "prediksi"
   ]
  },
  {
   "cell_type": "code",
   "execution_count": 59,
   "metadata": {},
   "outputs": [
    {
     "data": {
      "text/plain": [
       "array([0.40007229])"
      ]
     },
     "execution_count": 59,
     "metadata": {},
     "output_type": "execute_result"
    }
   ],
   "source": [
    "#prediksi 9\n",
    "c=prediksi\n",
    "b=g[1:]\n",
    "k=np.concatenate((b,c))\n",
    "prediksi=NN.forward(k)\n",
    "prediksi"
   ]
  },
  {
   "cell_type": "code",
   "execution_count": 60,
   "metadata": {},
   "outputs": [
    {
     "data": {
      "text/plain": [
       "array([0.39690236])"
      ]
     },
     "execution_count": 60,
     "metadata": {},
     "output_type": "execute_result"
    }
   ],
   "source": [
    "#prediksi 10\n",
    "c=prediksi\n",
    "b=g[1:]\n",
    "l=np.concatenate((b,c))\n",
    "prediksi=NN.forward(l)\n",
    "prediksi"
   ]
  },
  {
   "cell_type": "code",
   "execution_count": 61,
   "metadata": {},
   "outputs": [
    {
     "data": {
      "text/plain": [
       "array([0.39468875])"
      ]
     },
     "execution_count": 61,
     "metadata": {},
     "output_type": "execute_result"
    }
   ],
   "source": [
    "#prediksi 11\n",
    "c=prediksi\n",
    "b=g[1:]\n",
    "m=np.concatenate((b,c))\n",
    "prediksi=NN.forward(m)\n",
    "prediksi"
   ]
  },
  {
   "cell_type": "code",
   "execution_count": 62,
   "metadata": {},
   "outputs": [
    {
     "data": {
      "text/plain": [
       "array([0.39314208])"
      ]
     },
     "execution_count": 62,
     "metadata": {},
     "output_type": "execute_result"
    }
   ],
   "source": [
    "#prediksi 12\n",
    "c=prediksi\n",
    "b=g[1:]\n",
    "n=np.concatenate((b,c))\n",
    "prediksi=NN.forward(n)\n",
    "prediksi"
   ]
  },
  {
   "cell_type": "code",
   "execution_count": null,
   "metadata": {},
   "outputs": [],
   "source": []
  }
 ],
 "metadata": {
  "kernelspec": {
   "display_name": "Python 3",
   "language": "python",
   "name": "python3"
  },
  "language_info": {
   "codemirror_mode": {
    "name": "ipython",
    "version": 3
   },
   "file_extension": ".py",
   "mimetype": "text/x-python",
   "name": "python",
   "nbconvert_exporter": "python",
   "pygments_lexer": "ipython3",
   "version": "3.7.3"
  }
 },
 "nbformat": 4,
 "nbformat_minor": 2
}
