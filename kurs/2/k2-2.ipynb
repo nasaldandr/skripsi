{
 "cells": [
  {
   "cell_type": "code",
   "execution_count": 1,
   "metadata": {},
   "outputs": [],
   "source": [
    "import numpy as np"
   ]
  },
  {
   "cell_type": "code",
   "execution_count": 2,
   "metadata": {},
   "outputs": [],
   "source": [
    "#UNTUK NILAI IMPOR\n",
    "class Neural_Network(object):\n",
    "    def __init__(self):\n",
    "        #parameters\n",
    "        self.inputLayerSize = 2\n",
    "        self.outputLayerSize = 1\n",
    "        self.hiddenLayerSize = 2\n",
    "\n",
    "        #weights\n",
    "        self.W1 = np.random.randn(self.inputLayerSize,\\\n",
    "                                 self.hiddenLayerSize)  \n",
    "        self.W2 = np.random.randn(self.hiddenLayerSize,\\\n",
    "                                 self.outputLayerSize)  \n",
    "    \n",
    "    def printw(self):\n",
    "        return self.W1\n",
    "        \n",
    "    def weight(self, W1, W2):\n",
    "        #Make an internal variable for the weight:\n",
    "        self.W1 = W1\n",
    "        self.W2 = W2\n",
    "        \n",
    "    def forward(self, X):\n",
    "        #forward propagation through our network\n",
    "        self.z2 = np.dot(X,self.W1)  \n",
    "        self.a2 = self.tanh(self.z2)  # activation function\n",
    "        self.z3 = np.dot(self.a2, self.W2) \n",
    "        yHat = self.tanh(self.z3)  # final activation function\n",
    "        return yHat\n",
    "\n",
    "    def tanh(self, z):\n",
    "        # activation function\n",
    "        return (np.exp(z)-np.exp(-z))/(np.exp(z)+np.exp(-z))\n",
    "    \n",
    "    def tanhPrime(self,z): \n",
    "        #derivative of tanh\n",
    "        return 1-((np.exp(z)-np.exp(-z))/(np.exp(z)+np.exp(-z)))**2\n",
    "    \n",
    "    def costFunction(self,X,y):\n",
    "        self.yHat = self.forward(X)\n",
    "        J=0.5*sum((y-self.yHat)**2)\n",
    "        return J\n",
    "    \n",
    "    def costFunctionPrime(self,X,y):\n",
    "        self.yHat=self.forward(X)\n",
    "        \n",
    "        delta3=np.multiply(-(y-self.yHat),self.tanhPrime(self.z3))\n",
    "        dJdW2=np.dot(self.a2.T,delta3)\n",
    "        \n",
    "        delta2=np.dot(delta3,self.W2.T)*self.tanhPrime(self.z2)\n",
    "        dJdW1=np.dot(X.T,delta2)\n",
    "        return dJdW1,dJdW2\n",
    "    \n",
    "    def predict(self):\n",
    "        prediksi = self.forward(dataprediksi)\n",
    "        return prediksi\n",
    "    \n",
    "    def getParams(self):\n",
    "        params=np.concatenate((self.W1.ravel(),self.W2.ravel()))\n",
    "        return params\n",
    "    \n",
    "    def setParams(self,params):\n",
    "        W1_start=0\n",
    "        W1_end=self.hiddenLayerSize*self.inputLayerSize\n",
    "        self.W1=np.reshape(params[W1_start:W1_end],\\\n",
    "                          (self.inputLayerSize,self.hiddenLayerSize))\n",
    "        W2_end=W1_end+self.hiddenLayerSize*self.outputLayerSize\n",
    "        self.W2=np.reshape(params[W1_end:W2_end],\\\n",
    "                          (self.hiddenLayerSize,self.outputLayerSize))\n",
    "        \n",
    "    def computeGradients(self, X, y):\n",
    "        dJdW1, dJdW2 = self.costFunctionPrime(X, y)\n",
    "        return np.concatenate((dJdW1.ravel(), dJdW2.ravel()))"
   ]
  },
  {
   "cell_type": "code",
   "execution_count": 3,
   "metadata": {},
   "outputs": [],
   "source": [
    "NN = Neural_Network()"
   ]
  },
  {
   "cell_type": "code",
   "execution_count": 4,
   "metadata": {},
   "outputs": [
    {
     "data": {
      "text/plain": [
       "array([[-0.69895469,  0.60547516],\n",
       "       [ 1.15071623, -0.47147071]])"
      ]
     },
     "execution_count": 4,
     "metadata": {},
     "output_type": "execute_result"
    }
   ],
   "source": [
    "NN.W1"
   ]
  },
  {
   "cell_type": "code",
   "execution_count": 5,
   "metadata": {},
   "outputs": [
    {
     "data": {
      "text/plain": [
       "array([[-0.44512665],\n",
       "       [-0.41425339]])"
      ]
     },
     "execution_count": 5,
     "metadata": {},
     "output_type": "execute_result"
    }
   ],
   "source": [
    "NN.W2"
   ]
  },
  {
   "cell_type": "code",
   "execution_count": 6,
   "metadata": {},
   "outputs": [],
   "source": [
    "#KURS\n",
    "X=np.array(([\t0\t,\t0.051924996\t]\t,\n",
    "[\t0.051924996\t,\t0.148319042\t]\t,\n",
    "[\t0.148319042\t,\t0.112113419\t]\t,\n",
    "[\t0.112113419\t,\t0.170734062\t]\t,\n",
    "[\t0.170734062\t,\t0.223256598\t]\t,\n",
    "[\t0.223256598\t,\t0.241974687\t]\t,\n",
    "[\t0.241974687\t,\t0.365733465\t]\t,\n",
    "[\t0.365733465\t,\t0.552558994\t]\t,\n",
    "[\t0.552558994\t,\t0.370023519\t]\t,\n",
    "[\t0.370023519\t,\t0.332531703\t]\t,\n",
    "[\t0.332531703\t,\t0.387887522\t]\t,\n",
    "[\t0.387887522\t,\t0.398363943\t]\t,\n",
    "[\t0.398363943\t,\t0.284826299\t]\t,\n",
    "[\t0.284826299\t,\t0.186735022\t]\t,\n",
    "[\t0.186735022\t,\t0.182694768\t]\t,\n",
    "[\t0.182694768\t,\t0.255617002\t]\t,\n",
    "[\t0.255617002\t,\t0.23597043\t]\t,\n",
    "[\t0.23597043\t,\t0.164134134\t]\t,\n",
    "[\t0.164134134\t,\t0.178176635\t]\t,\n",
    "[\t0.178176635\t,\t0.163956101\t]\t,\n",
    "[\t0.163956101\t,\t0.133241484\t]\t,\n",
    "[\t0.133241484\t,\t0.226399017\t]\t,\n",
    "[\t0.226399017\t,\t0.255013861\t]\t,\n",
    "[\t0.255013861\t,\t0.23708614\t]\t,\n",
    "[\t0.23708614\t,\t0.231651119\t]\t,\n",
    "[\t0.231651119\t,\t0.233067608\t]\t,\n",
    "[\t0.233067608\t,\t0.221173719\t]\t,\n",
    "[\t0.221173719\t,\t0.22633168\t]\t,\n",
    "[\t0.22633168\t,\t0.218698642\t]\t,\n",
    "[\t0.218698642\t,\t0.232032203\t]\t,\n",
    "[\t0.232032203\t,\t0.231947948\t]\t,\n",
    "[\t0.231947948\t,\t0.221547817\t]\t,\n",
    "[\t0.221547817\t,\t0.287958581\t]\t,\n",
    "[\t0.287958581\t,\t0.28837327\t]\t,\n",
    "[\t0.28837327\t,\t0.297145757\t]\t,\n",
    "[\t0.297145757\t,\t0.243669818\t]\t,\n",
    "[\t0.243669818\t,\t0.307437314\t]\t,\n",
    "[\t0.307437314\t,\t0.358597855\t]\t,\n",
    "[\t0.358597855\t,\t0.372181217\t]\t,\n",
    "[\t0.372181217\t,\t0.450259481\t]\t,\n",
    "[\t0.450259481\t,\t0.443095634\t]\t,\n",
    "[\t0.443095634\t,\t0.558155976\t]\t,\n",
    "[\t0.558155976\t,\t0.602359827\t]\t,\n",
    "[\t0.602359827\t,\t0.696291723\t]\t,\n",
    "[\t0.696291723\t,\t0.790604671\t]\t,\n",
    "[\t0.790604671\t,\t0.644022227\t]\t,\n",
    "[\t0.644022227\t,\t0.583228643\t]\t,\n",
    "[\t0.583228643\t,\t0.481715009\t]\t,\n",
    "[\t0.481715009\t,\t0.442812107\t]\t,\n",
    "[\t0.442812107\t,\t0.496270585\t]\t,\n",
    "[\t0.496270585\t,\t0.475463393\t]\t,\n",
    "[\t0.475463393\t,\t0.551559791\t]\t,\n",
    "[\t0.551559791\t,\t0.500994351\t]\t,\n",
    "[\t0.500994351\t,\t0.445458587\t]\t,\n",
    "[\t0.445458587\t,\t0.505711667\t]\t,\n",
    "[\t0.505711667\t,\t0.465889036\t]\t,\n",
    "[\t0.465889036\t,\t0.46785659\t]\t,\n",
    "[\t0.46785659\t,\t0.453001423\t]\t,\n",
    "[\t0.453001423\t,\t0.437411724\t]\t,\n",
    "[\t0.437411724\t,\t0.350673696\t]\t,\n",
    "\n",
    ")           \n",
    ",dtype=float)\n",
    "y=np.array((\n",
    "[\t0.148319042\t]\t,\n",
    "[\t0.112113419\t]\t,\n",
    "[\t0.170734062\t]\t,\n",
    "[\t0.223256598\t]\t,\n",
    "[\t0.241974687\t]\t,\n",
    "[\t0.365733465\t]\t,\n",
    "[\t0.552558994\t]\t,\n",
    "[\t0.370023519\t]\t,\n",
    "[\t0.332531703\t]\t,\n",
    "[\t0.387887522\t]\t,\n",
    "[\t0.398363943\t]\t,\n",
    "[\t0.284826299\t]\t,\n",
    "[\t0.186735022\t]\t,\n",
    "[\t0.182694768\t]\t,\n",
    "[\t0.255617002\t]\t,\n",
    "[\t0.23597043\t]\t,\n",
    "[\t0.164134134\t]\t,\n",
    "[\t0.178176635\t]\t,\n",
    "[\t0.163956101\t]\t,\n",
    "[\t0.133241484\t]\t,\n",
    "[\t0.226399017\t]\t,\n",
    "[\t0.255013861\t]\t,\n",
    "[\t0.23708614\t]\t,\n",
    "[\t0.231651119\t]\t,\n",
    "[\t0.233067608\t]\t,\n",
    "[\t0.221173719\t]\t,\n",
    "[\t0.22633168\t]\t,\n",
    "[\t0.218698642\t]\t,\n",
    "[\t0.232032203\t]\t,\n",
    "[\t0.231947948\t]\t,\n",
    "[\t0.221547817\t]\t,\n",
    "[\t0.287958581\t]\t,\n",
    "[\t0.28837327\t]\t,\n",
    "[\t0.297145757\t]\t,\n",
    "[\t0.243669818\t]\t,\n",
    "[\t0.307437314\t]\t,\n",
    "[\t0.358597855\t]\t,\n",
    "[\t0.372181217\t]\t,\n",
    "[\t0.450259481\t]\t,\n",
    "[\t0.443095634\t]\t,\n",
    "[\t0.558155976\t]\t,\n",
    "[\t0.602359827\t]\t,\n",
    "[\t0.696291723\t]\t,\n",
    "[\t0.790604671\t]\t,\n",
    "[\t0.644022227\t]\t,\n",
    "[\t0.583228643\t]\t,\n",
    "[\t0.481715009\t]\t,\n",
    "[\t0.442812107\t]\t,\n",
    "[\t0.496270585\t]\t,\n",
    "[\t0.475463393\t]\t,\n",
    "[\t0.551559791\t]\t,\n",
    "[\t0.500994351\t]\t,\n",
    "[\t0.445458587\t]\t,\n",
    "[\t0.505711667\t]\t,\n",
    "[\t0.465889036\t]\t,\n",
    "[\t0.46785659\t]\t,\n",
    "[\t0.453001423\t]\t,\n",
    "[\t0.437411724\t]\t,\n",
    "[\t0.350673696\t]\t,\n",
    "[\t0.364031312\t]\t,\n",
    "\n",
    ")\n",
    ",dtype=float)\n",
    "\n",
    "dataprediksi = np.array(([\t0.350673696\t,\t0.364031312\t]\t,\n",
    "[\t0.364031312\t,\t0.795380412\t]\t,\n",
    "[\t0.795380412\t,\t1\t]\t,\n",
    "[\t1\t,\t0.707681705\t]\t,\n",
    "\n",
    "\n",
    "), dtype=float)\n"
   ]
  },
  {
   "cell_type": "code",
   "execution_count": 7,
   "metadata": {},
   "outputs": [],
   "source": [
    "import matplotlib.pyplot as plot"
   ]
  },
  {
   "cell_type": "code",
   "execution_count": 8,
   "metadata": {},
   "outputs": [],
   "source": [
    "from scipy import optimize"
   ]
  },
  {
   "cell_type": "code",
   "execution_count": 9,
   "metadata": {},
   "outputs": [],
   "source": [
    "class trainer(object):\n",
    "    def __init__(self, N):\n",
    "        #Make Local reference to network:\n",
    "        self.N = N\n",
    "        \n",
    "    def callbackF(self, params):\n",
    "        self.N.setParams(params)\n",
    "        self.J.append(self.N.costFunction(self.X, self.y))   \n",
    "        \n",
    "    def costFunctionWrapper(self, params, X, y):\n",
    "        self.N.setParams(params)\n",
    "        cost = self.N.costFunction(X, y)\n",
    "        grad = self.N.computeGradients(X,y)\n",
    "        \n",
    "        return cost, grad\n",
    "        \n",
    "    def train(self, X, y):\n",
    "        #Make an internal variable for the callback function:\n",
    "        self.X = X\n",
    "        self.y = y\n",
    "\n",
    "        #Make empty list to store costs:\n",
    "        self.J = []\n",
    "        \n",
    "        params0 = self.N.getParams()\n",
    "\n",
    "        options = {'maxiter': 100, 'disp' : True}\n",
    "        _res = optimize.minimize(self.costFunctionWrapper, params0, jac=True, method='BFGS', \\\n",
    "                                 args=(X, y), options=options, callback=self.callbackF)\n",
    "\n",
    "        self.N.setParams(_res.x)\n",
    "        self.optimizationResults = _res"
   ]
  },
  {
   "cell_type": "code",
   "execution_count": 10,
   "metadata": {},
   "outputs": [],
   "source": [
    "NN=Neural_Network()"
   ]
  },
  {
   "cell_type": "code",
   "execution_count": 11,
   "metadata": {},
   "outputs": [],
   "source": [
    "T = trainer(NN)"
   ]
  },
  {
   "cell_type": "code",
   "execution_count": 12,
   "metadata": {},
   "outputs": [
    {
     "name": "stdout",
     "output_type": "stream",
     "text": [
      "Warning: Maximum number of iterations has been exceeded.\n",
      "         Current function value: 0.115486\n",
      "         Iterations: 100\n",
      "         Function evaluations: 122\n",
      "         Gradient evaluations: 122\n"
     ]
    }
   ],
   "source": [
    "#Train network with new data:\n",
    "T = trainer(NN)\n",
    "T.train(X,y)"
   ]
  },
  {
   "cell_type": "code",
   "execution_count": 13,
   "metadata": {},
   "outputs": [
    {
     "data": {
      "image/png": "[encoded data removed]",
      "text/plain": [
       "<Figure size 432x288 with 1 Axes>"
      ]
     },
     "metadata": {
      "needs_background": "light"
     },
     "output_type": "display_data"
    }
   ],
   "source": [
    "#Plot cost during training:\n",
    "plot.plot(T.J)\n",
    "plot.grid(1)\n",
    "plot.xlabel('Iterations')\n",
    "plot.ylabel('Cost')\n",
    "plot.show()"
   ]
  },
  {
   "cell_type": "code",
   "execution_count": 14,
   "metadata": {},
   "outputs": [],
   "source": [
    "#Training Data:\n",
    "trainX = np.array(([\t0\t,\t0.051924996\t]\t,\n",
    "[\t0.051924996\t,\t0.148319042\t]\t,\n",
    "[\t0.148319042\t,\t0.112113419\t]\t,\n",
    "[\t0.112113419\t,\t0.170734062\t]\t,\n",
    "[\t0.170734062\t,\t0.223256598\t]\t,\n",
    "[\t0.223256598\t,\t0.241974687\t]\t,\n",
    "[\t0.241974687\t,\t0.365733465\t]\t,\n",
    "[\t0.365733465\t,\t0.552558994\t]\t,\n",
    "[\t0.552558994\t,\t0.370023519\t]\t,\n",
    "[\t0.370023519\t,\t0.332531703\t]\t,\n",
    "[\t0.332531703\t,\t0.387887522\t]\t,\n",
    "[\t0.387887522\t,\t0.398363943\t]\t,\n",
    "[\t0.398363943\t,\t0.284826299\t]\t,\n",
    "[\t0.284826299\t,\t0.186735022\t]\t,\n",
    "[\t0.186735022\t,\t0.182694768\t]\t,\n",
    "[\t0.182694768\t,\t0.255617002\t]\t,\n",
    "[\t0.255617002\t,\t0.23597043\t]\t,\n",
    "[\t0.23597043\t,\t0.164134134\t]\t,\n",
    "[\t0.164134134\t,\t0.178176635\t]\t,\n",
    "[\t0.178176635\t,\t0.163956101\t]\t,\n",
    "[\t0.163956101\t,\t0.133241484\t]\t,\n",
    "[\t0.133241484\t,\t0.226399017\t]\t,\n",
    "[\t0.226399017\t,\t0.255013861\t]\t,\n",
    "[\t0.255013861\t,\t0.23708614\t]\t,\n",
    "[\t0.23708614\t,\t0.231651119\t]\t,\n",
    "[\t0.231651119\t,\t0.233067608\t]\t,\n",
    "[\t0.233067608\t,\t0.221173719\t]\t,\n",
    "[\t0.221173719\t,\t0.22633168\t]\t,\n",
    "[\t0.22633168\t,\t0.218698642\t]\t,\n",
    "[\t0.218698642\t,\t0.232032203\t]\t,\n",
    "[\t0.232032203\t,\t0.231947948\t]\t,\n",
    "[\t0.231947948\t,\t0.221547817\t]\t,\n",
    "[\t0.221547817\t,\t0.287958581\t]\t,\n",
    "[\t0.287958581\t,\t0.28837327\t]\t,\n",
    "[\t0.28837327\t,\t0.297145757\t]\t,\n",
    "[\t0.297145757\t,\t0.243669818\t]\t,\n",
    "[\t0.243669818\t,\t0.307437314\t]\t,\n",
    "[\t0.307437314\t,\t0.358597855\t]\t,\n",
    "[\t0.358597855\t,\t0.372181217\t]\t,\n",
    "[\t0.372181217\t,\t0.450259481\t]\t,\n",
    "[\t0.450259481\t,\t0.443095634\t]\t,\n",
    "[\t0.443095634\t,\t0.558155976\t]\t,\n",
    "[\t0.558155976\t,\t0.602359827\t]\t,\n",
    "[\t0.602359827\t,\t0.696291723\t]\t,\n",
    "[\t0.696291723\t,\t0.790604671\t]\t,\n",
    "[\t0.790604671\t,\t0.644022227\t]\t,\n",
    "[\t0.644022227\t,\t0.583228643\t]\t,\n",
    "\n",
    ")\n",
    ", dtype=float)\n",
    "trainY = np.array((\n",
    "[\t0.148319042\t]\t,\n",
    "[\t0.112113419\t]\t,\n",
    "[\t0.170734062\t]\t,\n",
    "[\t0.223256598\t]\t,\n",
    "[\t0.241974687\t]\t,\n",
    "[\t0.365733465\t]\t,\n",
    "[\t0.552558994\t]\t,\n",
    "[\t0.370023519\t]\t,\n",
    "[\t0.332531703\t]\t,\n",
    "[\t0.387887522\t]\t,\n",
    "[\t0.398363943\t]\t,\n",
    "[\t0.284826299\t]\t,\n",
    "[\t0.186735022\t]\t,\n",
    "[\t0.182694768\t]\t,\n",
    "[\t0.255617002\t]\t,\n",
    "[\t0.23597043\t]\t,\n",
    "[\t0.164134134\t]\t,\n",
    "[\t0.178176635\t]\t,\n",
    "[\t0.163956101\t]\t,\n",
    "[\t0.133241484\t]\t,\n",
    "[\t0.226399017\t]\t,\n",
    "[\t0.255013861\t]\t,\n",
    "[\t0.23708614\t]\t,\n",
    "[\t0.231651119\t]\t,\n",
    "[\t0.233067608\t]\t,\n",
    "[\t0.221173719\t]\t,\n",
    "[\t0.22633168\t]\t,\n",
    "[\t0.218698642\t]\t,\n",
    "[\t0.232032203\t]\t,\n",
    "[\t0.231947948\t]\t,\n",
    "[\t0.221547817\t]\t,\n",
    "[\t0.287958581\t]\t,\n",
    "[\t0.28837327\t]\t,\n",
    "[\t0.297145757\t]\t,\n",
    "[\t0.243669818\t]\t,\n",
    "[\t0.307437314\t]\t,\n",
    "[\t0.358597855\t]\t,\n",
    "[\t0.372181217\t]\t,\n",
    "[\t0.450259481\t]\t,\n",
    "[\t0.443095634\t]\t,\n",
    "[\t0.558155976\t]\t,\n",
    "[\t0.602359827\t]\t,\n",
    "[\t0.696291723\t]\t,\n",
    "[\t0.790604671\t]\t,\n",
    "[\t0.644022227\t]\t,\n",
    "[\t0.583228643\t]\t,\n",
    "[\t0.481715009\t]\t,\n",
    "\n",
    "\n",
    ")\n",
    ", dtype=float)\n",
    "\n",
    "#Testing Data:\n",
    "testX = np.array(([\t0.583228643\t,\t0.481715009\t]\t,\n",
    "[\t0.481715009\t,\t0.442812107\t]\t,\n",
    "[\t0.442812107\t,\t0.496270585\t]\t,\n",
    "[\t0.496270585\t,\t0.475463393\t]\t,\n",
    "[\t0.475463393\t,\t0.551559791\t]\t,\n",
    "[\t0.551559791\t,\t0.500994351\t]\t,\n",
    "[\t0.500994351\t,\t0.445458587\t]\t,\n",
    "[\t0.445458587\t,\t0.505711667\t]\t,\n",
    "[\t0.505711667\t,\t0.465889036\t]\t,\n",
    "[\t0.465889036\t,\t0.46785659\t]\t,\n",
    "[\t0.46785659\t,\t0.453001423\t]\t,\n",
    "[\t0.453001423\t,\t0.437411724\t]\t,\n",
    "[\t0.437411724\t,\t0.350673696\t]\t,\n",
    "\n",
    ")\n",
    ", dtype=float)\n",
    "testY = np.array(([\t0.442812107\t]\t,\n",
    "[\t0.496270585\t]\t,\n",
    "[\t0.475463393\t]\t,\n",
    "[\t0.551559791\t]\t,\n",
    "[\t0.500994351\t]\t,\n",
    "[\t0.445458587\t]\t,\n",
    "[\t0.505711667\t]\t,\n",
    "[\t0.465889036\t]\t,\n",
    "[\t0.46785659\t]\t,\n",
    "[\t0.453001423\t]\t,\n",
    "[\t0.437411724\t]\t,\n",
    "[\t0.350673696\t]\t,\n",
    "[\t0.364031312\t]\t,\n",
    "\n",
    ")\n",
    ", dtype=float)\n",
    "\n",
    "\n",
    "dataprediksi = np.array(([\t0.350673696\t,\t0.364031312\t]\t,\n",
    "[\t0.364031312\t,\t0.795380412\t]\t,\n",
    "[\t0.795380412\t,\t1\t]\t,\n",
    "[\t1\t,\t0.707681705\t]\t,\n",
    "\n",
    "\n",
    "), dtype=float)"
   ]
  },
  {
   "cell_type": "code",
   "execution_count": 15,
   "metadata": {},
   "outputs": [
    {
     "data": {
      "text/plain": [
       "array([[0.58322864, 0.48171501],\n",
       "       [0.48171501, 0.44281211],\n",
       "       [0.44281211, 0.49627058],\n",
       "       [0.49627058, 0.47546339],\n",
       "       [0.47546339, 0.55155979],\n",
       "       [0.55155979, 0.50099435],\n",
       "       [0.50099435, 0.44545859],\n",
       "       [0.44545859, 0.50571167],\n",
       "       [0.50571167, 0.46588904],\n",
       "       [0.46588904, 0.46785659],\n",
       "       [0.46785659, 0.45300142],\n",
       "       [0.45300142, 0.43741172],\n",
       "       [0.43741172, 0.3506737 ]])"
      ]
     },
     "execution_count": 15,
     "metadata": {},
     "output_type": "execute_result"
    }
   ],
   "source": [
    "testX"
   ]
  },
  {
   "cell_type": "code",
   "execution_count": 16,
   "metadata": {},
   "outputs": [],
   "source": [
    "##Need to modify trainer class a bit to check testing error during training:\n",
    "class trainer(object):\n",
    "    def __init__(self, N):\n",
    "        #Make Local reference to network:\n",
    "        self.N = N\n",
    "        \n",
    "    def callbackF(self, params):\n",
    "        self.N.setParams(params)\n",
    "        self.J.append(self.N.costFunction(self.X, self.y))\n",
    "        self.testJ.append(self.N.costFunction(self.testX, self.testY))\n",
    "        \n",
    "    def costFunctionWrapper(self, params, X, y):\n",
    "        self.N.setParams(params)\n",
    "        cost = self.N.costFunction(X, y)\n",
    "        grad = self.N.computeGradients(X,y)\n",
    "        \n",
    "        return cost, grad\n",
    "        \n",
    "    def train(self, trainX, trainY, testX, testY):\n",
    "        #Make an internal variable for the callback function:\n",
    "        self.X = trainX\n",
    "        self.y = trainY\n",
    "        \n",
    "        self.testX = testX\n",
    "        self.testY = testY\n",
    "\n",
    "        #Make empty list to store training costs:\n",
    "        self.J = []\n",
    "        self.testJ = []\n",
    "        \n",
    "        params0 = self.N.getParams()\n",
    "\n",
    "        options = {'maxiter': 100, 'disp' : True}\n",
    "        _res = optimize.minimize(self.costFunctionWrapper, params0, jac=True, method='BFGS', \\\n",
    "                                 args=(trainX, trainY), options=options, callback=self.callbackF)\n",
    "\n",
    "        self.N.setParams(_res.x)\n",
    "        self.optimizationResults = _res"
   ]
  },
  {
   "cell_type": "code",
   "execution_count": 17,
   "metadata": {},
   "outputs": [
    {
     "name": "stdout",
     "output_type": "stream",
     "text": [
      "Warning: Maximum number of iterations has been exceeded.\n",
      "         Current function value: 0.101796\n",
      "         Iterations: 100\n",
      "         Function evaluations: 129\n",
      "         Gradient evaluations: 129\n"
     ]
    }
   ],
   "source": [
    "#Train network with new data:\n",
    "NN = Neural_Network()\n",
    "\n",
    "T = trainer(NN)\n",
    "T.train(trainX, trainY, testX, testY)"
   ]
  },
  {
   "cell_type": "code",
   "execution_count": 18,
   "metadata": {},
   "outputs": [
    {
     "data": {
      "image/png": "[encoded data removed]",
      "text/plain": [
       "<Figure size 432x288 with 1 Axes>"
      ]
     },
     "metadata": {
      "needs_background": "light"
     },
     "output_type": "display_data"
    }
   ],
   "source": [
    "#Plot cost during training:\n",
    "plot.plot(T.J)\n",
    "plot.plot(T.testJ)\n",
    "plot.grid(1)\n",
    "plot.xlabel('Iterations')\n",
    "plot.ylabel('Cost')\n",
    "plot.legend(['Training', 'Testing'])\n",
    "plot.show()"
   ]
  },
  {
   "cell_type": "code",
   "execution_count": 19,
   "metadata": {},
   "outputs": [
    {
     "data": {
      "text/plain": [
       "[array([0.26953067]),\n",
       " array([0.25540285]),\n",
       " array([0.2298192]),\n",
       " array([0.19045486]),\n",
       " array([0.15382717]),\n",
       " array([0.14133517]),\n",
       " array([0.13595658]),\n",
       " array([0.12897782]),\n",
       " array([0.12588781]),\n",
       " array([0.12093852]),\n",
       " array([0.11392233]),\n",
       " array([0.11159037]),\n",
       " array([0.11137371]),\n",
       " array([0.11129349]),\n",
       " array([0.1111798]),\n",
       " array([0.11106759]),\n",
       " array([0.11105895]),\n",
       " array([0.11105044]),\n",
       " array([0.1110355]),\n",
       " array([0.11100788]),\n",
       " array([0.11027822]),\n",
       " array([0.11019346]),\n",
       " array([0.11003115]),\n",
       " array([0.10975927]),\n",
       " array([0.10962382]),\n",
       " array([0.10948009]),\n",
       " array([0.10931818]),\n",
       " array([0.10925865]),\n",
       " array([0.10924069]),\n",
       " array([0.10921]),\n",
       " array([0.10916307]),\n",
       " array([0.10911956]),\n",
       " array([0.10907239]),\n",
       " array([0.10901419]),\n",
       " array([0.10896387]),\n",
       " array([0.10890225]),\n",
       " array([0.10881856]),\n",
       " array([0.10878844]),\n",
       " array([0.10873541]),\n",
       " array([0.10865018]),\n",
       " array([0.10859826]),\n",
       " array([0.10851578]),\n",
       " array([0.10847907]),\n",
       " array([0.10842021]),\n",
       " array([0.10834194]),\n",
       " array([0.10831382]),\n",
       " array([0.10828649]),\n",
       " array([0.10824476]),\n",
       " array([0.10821276]),\n",
       " array([0.10815568]),\n",
       " array([0.1081472]),\n",
       " array([0.1081327]),\n",
       " array([0.10810797]),\n",
       " array([0.1080689]),\n",
       " array([0.10802934]),\n",
       " array([0.10798018]),\n",
       " array([0.10795956]),\n",
       " array([0.10794918]),\n",
       " array([0.10793172]),\n",
       " array([0.10790216]),\n",
       " array([0.10786597]),\n",
       " array([0.10780902]),\n",
       " array([0.10778345]),\n",
       " array([0.10773932]),\n",
       " array([0.1076629]),\n",
       " array([0.1076131]),\n",
       " array([0.10752675]),\n",
       " array([0.10739342]),\n",
       " array([0.10721758]),\n",
       " array([0.10712809]),\n",
       " array([0.10698222]),\n",
       " array([0.10683057]),\n",
       " array([0.10665868]),\n",
       " array([0.10658328]),\n",
       " array([0.10655302]),\n",
       " array([0.10650214]),\n",
       " array([0.10642158]),\n",
       " array([0.10631815]),\n",
       " array([0.10622178]),\n",
       " array([0.10607703]),\n",
       " array([0.10597971]),\n",
       " array([0.10582392]),\n",
       " array([0.105575]),\n",
       " array([0.10542283]),\n",
       " array([0.10516407]),\n",
       " array([0.1047076]),\n",
       " array([0.10396718]),\n",
       " array([0.10314361]),\n",
       " array([0.10303121]),\n",
       " array([0.10301573]),\n",
       " array([0.10299767]),\n",
       " array([0.10298178]),\n",
       " array([0.10295139]),\n",
       " array([0.10239757]),\n",
       " array([0.10234988]),\n",
       " array([0.10226598]),\n",
       " array([0.10213243]),\n",
       " array([0.10200835]),\n",
       " array([0.10193047]),\n",
       " array([0.10179635])]"
      ]
     },
     "execution_count": 19,
     "metadata": {},
     "output_type": "execute_result"
    }
   ],
   "source": [
    "T.J"
   ]
  },
  {
   "cell_type": "code",
   "execution_count": 20,
   "metadata": {},
   "outputs": [
    {
     "data": {
      "text/plain": [
       "[array([0.02002779]),\n",
       " array([0.02535084]),\n",
       " array([0.02161996]),\n",
       " array([0.01994435]),\n",
       " array([0.01394211]),\n",
       " array([0.01413961]),\n",
       " array([0.01223445]),\n",
       " array([0.01312377]),\n",
       " array([0.01323084]),\n",
       " array([0.01260236]),\n",
       " array([0.01307347]),\n",
       " array([0.01404056]),\n",
       " array([0.01414677]),\n",
       " array([0.01428419]),\n",
       " array([0.01435413]),\n",
       " array([0.01424512]),\n",
       " array([0.01423707]),\n",
       " array([0.014235]),\n",
       " array([0.0142381]),\n",
       " array([0.01424726]),\n",
       " array([0.01411957]),\n",
       " array([0.01403935]),\n",
       " array([0.01406586]),\n",
       " array([0.01402991]),\n",
       " array([0.01398122]),\n",
       " array([0.01398417]),\n",
       " array([0.01422709]),\n",
       " array([0.01420644]),\n",
       " array([0.01405013]),\n",
       " array([0.01411799]),\n",
       " array([0.01422225]),\n",
       " array([0.01429427]),\n",
       " array([0.0142315]),\n",
       " array([0.01429324]),\n",
       " array([0.01431009]),\n",
       " array([0.01448938]),\n",
       " array([0.01433811]),\n",
       " array([0.01429244]),\n",
       " array([0.0143344]),\n",
       " array([0.01442718]),\n",
       " array([0.01439529]),\n",
       " array([0.01447245]),\n",
       " array([0.01442854]),\n",
       " array([0.01445852]),\n",
       " array([0.01459971]),\n",
       " array([0.01453061]),\n",
       " array([0.0144212]),\n",
       " array([0.01450985]),\n",
       " array([0.01468589]),\n",
       " array([0.01461068]),\n",
       " array([0.01457949]),\n",
       " array([0.01457785]),\n",
       " array([0.01459203]),\n",
       " array([0.01462088]),\n",
       " array([0.01461917]),\n",
       " array([0.01472191]),\n",
       " array([0.01466607]),\n",
       " array([0.01463769]),\n",
       " array([0.0146468]),\n",
       " array([0.01467681]),\n",
       " array([0.01461336]),\n",
       " array([0.014675]),\n",
       " array([0.0146256]),\n",
       " array([0.01462221]),\n",
       " array([0.01464965]),\n",
       " array([0.01460397]),\n",
       " array([0.01457071]),\n",
       " array([0.01449752]),\n",
       " array([0.01458579]),\n",
       " array([0.01441259]),\n",
       " array([0.01452528]),\n",
       " array([0.01443349]),\n",
       " array([0.01477134]),\n",
       " array([0.0146268]),\n",
       " array([0.0144579]),\n",
       " array([0.01455496]),\n",
       " array([0.01468179]),\n",
       " array([0.01471248]),\n",
       " array([0.01460448]),\n",
       " array([0.01481205]),\n",
       " array([0.01468347]),\n",
       " array([0.0147146]),\n",
       " array([0.01494276]),\n",
       " array([0.01474617]),\n",
       " array([0.01473782]),\n",
       " array([0.01491862]),\n",
       " array([0.01491163]),\n",
       " array([0.01579097]),\n",
       " array([0.01558885]),\n",
       " array([0.01553016]),\n",
       " array([0.0156596]),\n",
       " array([0.01573097]),\n",
       " array([0.01579596]),\n",
       " array([0.01572078]),\n",
       " array([0.0152934]),\n",
       " array([0.01539729]),\n",
       " array([0.01547524]),\n",
       " array([0.01560765]),\n",
       " array([0.01561785]),\n",
       " array([0.01563579])]"
      ]
     },
     "execution_count": 20,
     "metadata": {},
     "output_type": "execute_result"
    }
   ],
   "source": [
    "T.testJ"
   ]
  },
  {
   "cell_type": "code",
   "execution_count": 21,
   "metadata": {},
   "outputs": [
    {
     "data": {
      "text/plain": [
       "0.099452802601047"
      ]
     },
     "execution_count": 21,
     "metadata": {},
     "output_type": "execute_result"
    }
   ],
   "source": [
    "from sklearn.metrics import mean_absolute_error\n",
    "mean_absolute_error(T.J, T.testJ)"
   ]
  },
  {
   "cell_type": "code",
   "execution_count": 22,
   "metadata": {},
   "outputs": [],
   "source": [
    "yHat = NN.forward(X)"
   ]
  },
  {
   "cell_type": "code",
   "execution_count": 23,
   "metadata": {},
   "outputs": [
    {
     "data": {
      "text/plain": [
       "array([[0.08054755],\n",
       "       [0.18914306],\n",
       "       [0.10735142],\n",
       "       [0.2091671 ],\n",
       "       [0.26170331],\n",
       "       [0.27135849],\n",
       "       [0.38418048],\n",
       "       [0.48009657],\n",
       "       [0.33980802],\n",
       "       [0.33932743],\n",
       "       [0.41753604],\n",
       "       [0.4198273 ],\n",
       "       [0.26196268],\n",
       "       [0.16463324],\n",
       "       [0.19974514],\n",
       "       [0.2958669 ],\n",
       "       [0.24904852],\n",
       "       [0.14888518],\n",
       "       [0.20285492],\n",
       "       [0.17473352],\n",
       "       [0.13321978],\n",
       "       [0.26677301],\n",
       "       [0.28783146],\n",
       "       [0.25101248],\n",
       "       [0.25097347],\n",
       "       [0.2554098 ],\n",
       "       [0.23706747],\n",
       "       [0.24995936],\n",
       "       [0.23639735],\n",
       "       [0.25914408],\n",
       "       [0.25360646],\n",
       "       [0.23814442],\n",
       "       [0.32666045],\n",
       "       [0.31152452],\n",
       "       [0.32339487],\n",
       "       [0.24135951],\n",
       "       [0.34491578],\n",
       "       [0.39126012],\n",
       "       [0.39677509],\n",
       "       [0.46810172],\n",
       "       [0.45439117],\n",
       "       [0.53603585],\n",
       "       [0.58512331],\n",
       "       [0.63308189],\n",
       "       [0.68426952],\n",
       "       [0.56793283],\n",
       "       [0.55126985],\n",
       "       [0.45191396],\n",
       "       [0.4426348 ],\n",
       "       [0.50713499],\n",
       "       [0.47789362],\n",
       "       [0.54520352],\n",
       "       [0.48864196],\n",
       "       [0.43817004],\n",
       "       [0.51392869],\n",
       "       [0.46266502],\n",
       "       [0.47826565],\n",
       "       [0.46054264],\n",
       "       [0.44660981],\n",
       "       [0.33593862]])"
      ]
     },
     "execution_count": 23,
     "metadata": {},
     "output_type": "execute_result"
    }
   ],
   "source": [
    "yHat"
   ]
  },
  {
   "cell_type": "code",
   "execution_count": 24,
   "metadata": {},
   "outputs": [
    {
     "data": {
      "text/plain": [
       "array([[0.14831904],\n",
       "       [0.11211342],\n",
       "       [0.17073406],\n",
       "       [0.2232566 ],\n",
       "       [0.24197469],\n",
       "       [0.36573346],\n",
       "       [0.55255899],\n",
       "       [0.37002352],\n",
       "       [0.3325317 ],\n",
       "       [0.38788752],\n",
       "       [0.39836394],\n",
       "       [0.2848263 ],\n",
       "       [0.18673502],\n",
       "       [0.18269477],\n",
       "       [0.255617  ],\n",
       "       [0.23597043],\n",
       "       [0.16413413],\n",
       "       [0.17817663],\n",
       "       [0.1639561 ],\n",
       "       [0.13324148],\n",
       "       [0.22639902],\n",
       "       [0.25501386],\n",
       "       [0.23708614],\n",
       "       [0.23165112],\n",
       "       [0.23306761],\n",
       "       [0.22117372],\n",
       "       [0.22633168],\n",
       "       [0.21869864],\n",
       "       [0.2320322 ],\n",
       "       [0.23194795],\n",
       "       [0.22154782],\n",
       "       [0.28795858],\n",
       "       [0.28837327],\n",
       "       [0.29714576],\n",
       "       [0.24366982],\n",
       "       [0.30743731],\n",
       "       [0.35859786],\n",
       "       [0.37218122],\n",
       "       [0.45025948],\n",
       "       [0.44309563],\n",
       "       [0.55815598],\n",
       "       [0.60235983],\n",
       "       [0.69629172],\n",
       "       [0.79060467],\n",
       "       [0.64402223],\n",
       "       [0.58322864],\n",
       "       [0.48171501],\n",
       "       [0.44281211],\n",
       "       [0.49627058],\n",
       "       [0.47546339],\n",
       "       [0.55155979],\n",
       "       [0.50099435],\n",
       "       [0.44545859],\n",
       "       [0.50571167],\n",
       "       [0.46588904],\n",
       "       [0.46785659],\n",
       "       [0.45300142],\n",
       "       [0.43741172],\n",
       "       [0.3506737 ],\n",
       "       [0.36403131]])"
      ]
     },
     "execution_count": 24,
     "metadata": {},
     "output_type": "execute_result"
    }
   ],
   "source": [
    "y"
   ]
  },
  {
   "cell_type": "code",
   "execution_count": 25,
   "metadata": {},
   "outputs": [
    {
     "data": {
      "text/plain": [
       "0.003914404648313654"
      ]
     },
     "execution_count": 25,
     "metadata": {},
     "output_type": "execute_result"
    }
   ],
   "source": [
    "from sklearn.metrics import mean_squared_error \n",
    "mean_squared_error(y,yHat) "
   ]
  },
  {
   "cell_type": "code",
   "execution_count": 26,
   "metadata": {},
   "outputs": [
    {
     "data": {
      "image/png": "[encoded data removed]",
      "text/plain": [
       "<Figure size 432x288 with 1 Axes>"
      ]
     },
     "metadata": {
      "needs_background": "light"
     },
     "output_type": "display_data"
    }
   ],
   "source": [
    "#Plot cost during training:\n",
    "plot.plot(y)\n",
    "plot.plot(yHat)\n",
    "plot.grid(1)\n",
    "plot.legend(['y', 'yHat'])\n",
    "plot.show()"
   ]
  },
  {
   "cell_type": "code",
   "execution_count": 27,
   "metadata": {},
   "outputs": [],
   "source": [
    "#Regularization Parameter:\n",
    "Lambda = 0.0001"
   ]
  },
  {
   "cell_type": "code",
   "execution_count": 28,
   "metadata": {},
   "outputs": [],
   "source": [
    "#Need to make changes to costFunction and costFunctionPrim:\n",
    "def costFunction(self, X, y):\n",
    "    #Compute cost for given X,y, use weights already stored in class.\n",
    "    self.yHat = self.forward(X)\n",
    "    #We don't want cost to increase with the number of examples, so normalize by dividing the error term by number of examples(X.shape[0])\n",
    "    J = 0.5*sum((y-self.yHat)**2)/X.shape[0] + (self.Lambda/2)*(sum(self.W1**2)+sum(self.W2**2))\n",
    "    return J\n",
    "\n",
    "def costFunctionPrime(self, X, y):\n",
    "    #Compute derivative with respect to W and W2 for a given X and y:\n",
    "    self.yHat = self.forward(X)\n",
    "\n",
    "    delta3 = np.multiply(-(y-self.yHat), self.tanhPrime(self.z3))\n",
    "    #Add gradient of regularization term:\n",
    "    dJdW2 = np.dot(self.a2.T, delta3)/X.shape[0] + self.Lambda*self.W2\n",
    "\n",
    "    delta2 = np.dot(delta3, self.W2.T)*self.tanhPrime(self.z2)\n",
    "    #Add gradient of regularization term:\n",
    "    dJdW1 = np.dot(X.T, delta2)/X.shape[0] + self.Lambda*self.W1\n",
    "\n",
    "    return dJdW1, dJdW2"
   ]
  },
  {
   "cell_type": "code",
   "execution_count": 29,
   "metadata": {},
   "outputs": [],
   "source": [
    "#New complete class, with changes:\n",
    "class Neural_Network(object):\n",
    "    def __init__(self, Lambda=0.0001):        \n",
    "        #Define Hyperparameters\n",
    "        self.inputLayerSize = 2\n",
    "        self.outputLayerSize = 1\n",
    "        self.hiddenLayerSize = 2\n",
    "        \n",
    "        #Weights (parameters)\n",
    "        self.W1 = np.random.randn(self.inputLayerSize,self.hiddenLayerSize)\n",
    "        self.W2 = np.random.randn(self.hiddenLayerSize,self.outputLayerSize)\n",
    "        \n",
    "        #Regularization Parameter:\n",
    "        self.Lambda = Lambda\n",
    "        \n",
    "    def forward(self, X):\n",
    "        #Propogate inputs though network\n",
    "        self.z2 = np.dot(X, self.W1)\n",
    "        self.a2 = self.tanh(self.z2)\n",
    "        self.z3 = np.dot(self.a2, self.W2)\n",
    "        yHat = self.tanh(self.z3) \n",
    "        return yHat\n",
    "        \n",
    "    def tanh(self, z):\n",
    "        # activation function\n",
    "        return (np.exp(z)-np.exp(-z))/(np.exp(z)+np.exp(-z))\n",
    "    \n",
    "    def tanhPrime(self,z): \n",
    "        #derivative of tanh\n",
    "        return 1-((np.exp(z)-np.exp(-z))/(np.exp(z)+np.exp(-z)))**2\n",
    "    \n",
    "    def costFunction(self, X, y):\n",
    "        #Compute cost for given X,y, use weights already stored in class.\n",
    "        self.yHat = self.forward(X)\n",
    "        J = 0.5*sum((y-self.yHat)**2)/X.shape[0] + (self.Lambda/2)*(np.sum(self.W1**2)+np.sum(self.W2**2))\n",
    "        return J\n",
    "        \n",
    "    def costFunctionPrime(self, X, y):\n",
    "        #Compute derivative with respect to W and W2 for a given X and y:\n",
    "        self.yHat = self.forward(X)\n",
    "        \n",
    "        delta3 = np.multiply(-(y-self.yHat), self.tanhPrime(self.z3))\n",
    "        #Add gradient of regularization term:\n",
    "        dJdW2 = np.dot(self.a2.T, delta3)/X.shape[0] + self.Lambda*self.W2\n",
    "        \n",
    "        delta2 = np.dot(delta3, self.W2.T)*self.tanhPrime(self.z2)\n",
    "        #Add gradient of regularization term:\n",
    "        dJdW1 = np.dot(X.T, delta2)/X.shape[0] + self.Lambda*self.W1\n",
    "        \n",
    "        return dJdW1, dJdW2\n",
    "    \n",
    "    def predict(self):\n",
    "        prediksi = self.forward(dataprediksi)\n",
    "        return prediksi\n",
    "    \n",
    "    #Helper functions for interacting with other methods/classes\n",
    "    def getParams(self):\n",
    "        #Get W1 and W2 Rolled into vector:\n",
    "        params = np.concatenate((self.W1.ravel(), self.W2.ravel()))\n",
    "        return params\n",
    "    \n",
    "    def setParams(self, params):\n",
    "        #Set W1 and W2 using single parameter vector:\n",
    "        W1_start = 0\n",
    "        W1_end = self.hiddenLayerSize*self.inputLayerSize\n",
    "        self.W1 = np.reshape(params[W1_start:W1_end], \\\n",
    "                             (self.inputLayerSize, self.hiddenLayerSize))\n",
    "        W2_end = W1_end + self.hiddenLayerSize*self.outputLayerSize\n",
    "        self.W2 = np.reshape(params[W1_end:W2_end], \\\n",
    "                             (self.hiddenLayerSize, self.outputLayerSize))\n",
    "        \n",
    "    def computeGradients(self, X, y):\n",
    "        dJdW1, dJdW2 = self.costFunctionPrime(X, y)\n",
    "        return np.concatenate((dJdW1.ravel(), dJdW2.ravel()))"
   ]
  },
  {
   "cell_type": "code",
   "execution_count": 30,
   "metadata": {},
   "outputs": [],
   "source": [
    "def computeNumericalGradient(N, X, y):\n",
    "    paramsInitial = N.getParams()\n",
    "    numgrad = np.zeros(paramsInitial.shape)\n",
    "    perturb = np.zeros(paramsInitial.shape)\n",
    "    e = 1e-4\n",
    "\n",
    "    for p in range(len(paramsInitial)):\n",
    "        #Set perturbation vector\n",
    "        perturb[p] = e\n",
    "        N.setParams(paramsInitial + perturb)\n",
    "        loss2 = N.costFunction(X, y)\n",
    "            \n",
    "        N.setParams(paramsInitial - perturb)\n",
    "        loss1 = N.costFunction(X, y)\n",
    "\n",
    "        #Compute Numerical Gradient\n",
    "        numgrad[p] = (loss2 - loss1) / (2*e)\n",
    "\n",
    "            #Return the value we changed to zero:\n",
    "        perturb[p] = 0\n",
    "            \n",
    "    #Return Params to original value:\n",
    "    N.setParams(paramsInitial)\n",
    "\n",
    "    return numgrad "
   ]
  },
  {
   "cell_type": "code",
   "execution_count": 31,
   "metadata": {},
   "outputs": [],
   "source": [
    "NN = Neural_Network(Lambda=0.0001)"
   ]
  },
  {
   "cell_type": "code",
   "execution_count": 32,
   "metadata": {},
   "outputs": [],
   "source": [
    "#Make sure our gradients our correct after making changes:\n",
    "numgrad = computeNumericalGradient(NN, X, y)\n",
    "grad = NN.computeGradients(X,y)"
   ]
  },
  {
   "cell_type": "code",
   "execution_count": 33,
   "metadata": {},
   "outputs": [
    {
     "data": {
      "text/plain": [
       "8.762737734361939e-09"
      ]
     },
     "execution_count": 33,
     "metadata": {},
     "output_type": "execute_result"
    }
   ],
   "source": [
    "#Should be less than 1e-8:\n",
    "np.linalg.norm(grad-numgrad)/np.linalg.norm(grad+numgrad)"
   ]
  },
  {
   "cell_type": "code",
   "execution_count": 34,
   "metadata": {},
   "outputs": [],
   "source": [
    "T = trainer(NN)"
   ]
  },
  {
   "cell_type": "code",
   "execution_count": 35,
   "metadata": {},
   "outputs": [
    {
     "name": "stdout",
     "output_type": "stream",
     "text": [
      "Warning: Maximum number of iterations has been exceeded.\n",
      "         Current function value: 0.002200\n",
      "         Iterations: 100\n",
      "         Function evaluations: 115\n",
      "         Gradient evaluations: 115\n"
     ]
    }
   ],
   "source": [
    "T.train(X,y,testX,testY)"
   ]
  },
  {
   "cell_type": "code",
   "execution_count": 36,
   "metadata": {},
   "outputs": [
    {
     "data": {
      "image/png": "[encoded data removed]",
      "text/plain": [
       "<Figure size 432x288 with 1 Axes>"
      ]
     },
     "metadata": {
      "needs_background": "light"
     },
     "output_type": "display_data"
    }
   ],
   "source": [
    "plot.plot(T.J)\n",
    "plot.plot(T.testJ)\n",
    "plot.grid(1)\n",
    "plot.xlabel('Iterations')\n",
    "plot.ylabel('Cost')\n",
    "plot.legend(['Training', 'Testing'])\n",
    "plot.show()"
   ]
  },
  {
   "cell_type": "code",
   "execution_count": 37,
   "metadata": {},
   "outputs": [
    {
     "data": {
      "text/plain": [
       "[array([0.00649075]),\n",
       " array([0.0040938]),\n",
       " array([0.00398719]),\n",
       " array([0.00394168]),\n",
       " array([0.00385649]),\n",
       " array([0.00369692]),\n",
       " array([0.00340832]),\n",
       " array([0.00294018]),\n",
       " array([0.00258132]),\n",
       " array([0.00257576]),\n",
       " array([0.00256973]),\n",
       " array([0.00256112]),\n",
       " array([0.00255398]),\n",
       " array([0.00254052]),\n",
       " array([0.00251599]),\n",
       " array([0.00250496]),\n",
       " array([0.00248434]),\n",
       " array([0.00244649]),\n",
       " array([0.00238563]),\n",
       " array([0.00234321]),\n",
       " array([0.00234216]),\n",
       " array([0.00234094]),\n",
       " array([0.00234077]),\n",
       " array([0.00234045]),\n",
       " array([0.00233988]),\n",
       " array([0.00233879]),\n",
       " array([0.00233678]),\n",
       " array([0.00233309]),\n",
       " array([0.00232656]),\n",
       " array([0.00231611]),\n",
       " array([0.00230625]),\n",
       " array([0.00230414]),\n",
       " array([0.0023001]),\n",
       " array([0.00229255]),\n",
       " array([0.00227993]),\n",
       " array([0.00226899]),\n",
       " array([0.00226692]),\n",
       " array([0.00226379]),\n",
       " array([0.00226174]),\n",
       " array([0.00226117]),\n",
       " array([0.00226082]),\n",
       " array([0.00226077]),\n",
       " array([0.00226076]),\n",
       " array([0.00226073]),\n",
       " array([0.00226067]),\n",
       " array([0.00226057]),\n",
       " array([0.00226038]),\n",
       " array([0.00226003]),\n",
       " array([0.00225938]),\n",
       " array([0.00225825]),\n",
       " array([0.0022563]),\n",
       " array([0.00225311]),\n",
       " array([0.00224836]),\n",
       " array([0.00224552]),\n",
       " array([0.0022444]),\n",
       " array([0.00224358]),\n",
       " array([0.00224205]),\n",
       " array([0.00223922]),\n",
       " array([0.00223452]),\n",
       " array([0.00223254]),\n",
       " array([0.00223213]),\n",
       " array([0.002232]),\n",
       " array([0.00223196]),\n",
       " array([0.00223191]),\n",
       " array([0.00223184]),\n",
       " array([0.00223178]),\n",
       " array([0.00223175]),\n",
       " array([0.00223171]),\n",
       " array([0.00223165]),\n",
       " array([0.00223155]),\n",
       " array([0.00223137]),\n",
       " array([0.00223104]),\n",
       " array([0.00223043]),\n",
       " array([0.00222927]),\n",
       " array([0.00222066]),\n",
       " array([0.00221754]),\n",
       " array([0.00221733]),\n",
       " array([0.00221697]),\n",
       " array([0.00221661]),\n",
       " array([0.00221659]),\n",
       " array([0.00221657]),\n",
       " array([0.00221652]),\n",
       " array([0.00221644]),\n",
       " array([0.00221629]),\n",
       " array([0.00221602]),\n",
       " array([0.00221554]),\n",
       " array([0.00221492]),\n",
       " array([0.00221476]),\n",
       " array([0.00221449]),\n",
       " array([0.00221406]),\n",
       " array([0.0022134]),\n",
       " array([0.00221229]),\n",
       " array([0.0022104]),\n",
       " array([0.00220757]),\n",
       " array([0.0022055]),\n",
       " array([0.00220247]),\n",
       " array([0.00220089]),\n",
       " array([0.0022007]),\n",
       " array([0.00220034]),\n",
       " array([0.0021997])]"
      ]
     },
     "execution_count": 37,
     "metadata": {},
     "output_type": "execute_result"
    }
   ],
   "source": [
    "T.J"
   ]
  },
  {
   "cell_type": "code",
   "execution_count": 38,
   "metadata": {},
   "outputs": [
    {
     "data": {
      "text/plain": [
       "[array([0.00349551]),\n",
       " array([0.00185952]),\n",
       " array([0.00145926]),\n",
       " array([0.00151629]),\n",
       " array([0.0015616]),\n",
       " array([0.00159633]),\n",
       " array([0.00160191]),\n",
       " array([0.00153426]),\n",
       " array([0.00147491]),\n",
       " array([0.00149462]),\n",
       " array([0.00150667]),\n",
       " array([0.00153596]),\n",
       " array([0.00155682]),\n",
       " array([0.00157273]),\n",
       " array([0.00156539]),\n",
       " array([0.00155524]),\n",
       " array([0.00153282]),\n",
       " array([0.00148722]),\n",
       " array([0.00139634]),\n",
       " array([0.00128328]),\n",
       " array([0.00127606]),\n",
       " array([0.00125976]),\n",
       " array([0.0012566]),\n",
       " array([0.00125326]),\n",
       " array([0.00124927]),\n",
       " array([0.00124393]),\n",
       " array([0.00123626]),\n",
       " array([0.0012248]),\n",
       " array([0.00120757]),\n",
       " array([0.0011828]),\n",
       " array([0.00115585]),\n",
       " array([0.00115496]),\n",
       " array([0.00115529]),\n",
       " array([0.00116029]),\n",
       " array([0.00117524]),\n",
       " array([0.00122159]),\n",
       " array([0.00123135]),\n",
       " array([0.0012209]),\n",
       " array([0.00122063]),\n",
       " array([0.00122383]),\n",
       " array([0.00123166]),\n",
       " array([0.00123428]),\n",
       " array([0.001235]),\n",
       " array([0.00123567]),\n",
       " array([0.00123648]),\n",
       " array([0.00123756]),\n",
       " array([0.00123908]),\n",
       " array([0.0012413]),\n",
       " array([0.00124452]),\n",
       " array([0.00124886]),\n",
       " array([0.00125358]),\n",
       " array([0.00125676]),\n",
       " array([0.00125364]),\n",
       " array([0.00125023]),\n",
       " array([0.0012406]),\n",
       " array([0.00123847]),\n",
       " array([0.00123568]),\n",
       " array([0.00122787]),\n",
       " array([0.00121157]),\n",
       " array([0.0011988]),\n",
       " array([0.00119045]),\n",
       " array([0.00119087]),\n",
       " array([0.0011908]),\n",
       " array([0.00119042]),\n",
       " array([0.0011897]),\n",
       " array([0.00118864]),\n",
       " array([0.00118808]),\n",
       " array([0.00118762]),\n",
       " array([0.00118749]),\n",
       " array([0.00118725]),\n",
       " array([0.00118695]),\n",
       " array([0.00118627]),\n",
       " array([0.00118516]),\n",
       " array([0.00118303]),\n",
       " array([0.00117853]),\n",
       " array([0.0011988]),\n",
       " array([0.00119654]),\n",
       " array([0.00119584]),\n",
       " array([0.00119379]),\n",
       " array([0.00119402]),\n",
       " array([0.00119457]),\n",
       " array([0.00119523]),\n",
       " array([0.00119587]),\n",
       " array([0.00119647]),\n",
       " array([0.00119678]),\n",
       " array([0.00119636]),\n",
       " array([0.00119646]),\n",
       " array([0.00119419]),\n",
       " array([0.0011947]),\n",
       " array([0.00119645]),\n",
       " array([0.00119767]),\n",
       " array([0.00119767]),\n",
       " array([0.00119804]),\n",
       " array([0.00119459]),\n",
       " array([0.00119637]),\n",
       " array([0.00119118]),\n",
       " array([0.00119424]),\n",
       " array([0.00119276]),\n",
       " array([0.00119412]),\n",
       " array([0.00119651])]"
      ]
     },
     "execution_count": 38,
     "metadata": {},
     "output_type": "execute_result"
    }
   ],
   "source": [
    "T.testJ"
   ]
  },
  {
   "cell_type": "code",
   "execution_count": 39,
   "metadata": {},
   "outputs": [
    {
     "data": {
      "text/plain": [
       "0.0011308739858088355"
      ]
     },
     "execution_count": 39,
     "metadata": {},
     "output_type": "execute_result"
    }
   ],
   "source": [
    "from sklearn.metrics import mean_absolute_error\n",
    "mean_absolute_error(T.J, T.testJ)"
   ]
  },
  {
   "cell_type": "code",
   "execution_count": 40,
   "metadata": {},
   "outputs": [],
   "source": [
    "yHat=NN.forward(X)"
   ]
  },
  {
   "cell_type": "code",
   "execution_count": 41,
   "metadata": {},
   "outputs": [
    {
     "data": {
      "text/plain": [
       "array([[0.0664615 ],\n",
       "       [0.17878929],\n",
       "       [0.1181725 ],\n",
       "       [0.19661416],\n",
       "       [0.25023846],\n",
       "       [0.26410742],\n",
       "       [0.39605891],\n",
       "       [0.54798022],\n",
       "       [0.35776129],\n",
       "       [0.34405342],\n",
       "       [0.40665549],\n",
       "       [0.4099145 ],\n",
       "       [0.28676734],\n",
       "       [0.18848469],\n",
       "       [0.19932647],\n",
       "       [0.28585   ],\n",
       "       [0.25215145],\n",
       "       [0.1686687 ],\n",
       "       [0.19742892],\n",
       "       [0.17781489],\n",
       "       [0.14208717],\n",
       "       [0.25956249],\n",
       "       [0.27868546],\n",
       "       [0.25355251],\n",
       "       [0.24993712],\n",
       "       [0.25243475],\n",
       "       [0.23819943],\n",
       "       [0.24613205],\n",
       "       [0.23631294],\n",
       "       [0.25320636],\n",
       "       [0.25106307],\n",
       "       [0.23881649],\n",
       "       [0.31653606],\n",
       "       [0.30738095],\n",
       "       [0.31709334],\n",
       "       [0.25475446],\n",
       "       [0.33476913],\n",
       "       [0.380243  ],\n",
       "       [0.38736376],\n",
       "       [0.4614068 ],\n",
       "       [0.44531111],\n",
       "       [0.54493846],\n",
       "       [0.56726866],\n",
       "       [0.62718518],\n",
       "       [0.67441065],\n",
       "       [0.57469245],\n",
       "       [0.54401177],\n",
       "       [0.46463268],\n",
       "       [0.4410856 ],\n",
       "       [0.4942694 ],\n",
       "       [0.46963255],\n",
       "       [0.53656381],\n",
       "       [0.48587038],\n",
       "       [0.44114804],\n",
       "       [0.50207455],\n",
       "       [0.45971585],\n",
       "       [0.46636899],\n",
       "       [0.4524259 ],\n",
       "       [0.43957739],\n",
       "       [0.35388131]])"
      ]
     },
     "execution_count": 41,
     "metadata": {},
     "output_type": "execute_result"
    }
   ],
   "source": [
    "yHat"
   ]
  },
  {
   "cell_type": "code",
   "execution_count": 42,
   "metadata": {},
   "outputs": [
    {
     "data": {
      "text/plain": [
       "array([[0.14831904],\n",
       "       [0.11211342],\n",
       "       [0.17073406],\n",
       "       [0.2232566 ],\n",
       "       [0.24197469],\n",
       "       [0.36573346],\n",
       "       [0.55255899],\n",
       "       [0.37002352],\n",
       "       [0.3325317 ],\n",
       "       [0.38788752],\n",
       "       [0.39836394],\n",
       "       [0.2848263 ],\n",
       "       [0.18673502],\n",
       "       [0.18269477],\n",
       "       [0.255617  ],\n",
       "       [0.23597043],\n",
       "       [0.16413413],\n",
       "       [0.17817663],\n",
       "       [0.1639561 ],\n",
       "       [0.13324148],\n",
       "       [0.22639902],\n",
       "       [0.25501386],\n",
       "       [0.23708614],\n",
       "       [0.23165112],\n",
       "       [0.23306761],\n",
       "       [0.22117372],\n",
       "       [0.22633168],\n",
       "       [0.21869864],\n",
       "       [0.2320322 ],\n",
       "       [0.23194795],\n",
       "       [0.22154782],\n",
       "       [0.28795858],\n",
       "       [0.28837327],\n",
       "       [0.29714576],\n",
       "       [0.24366982],\n",
       "       [0.30743731],\n",
       "       [0.35859786],\n",
       "       [0.37218122],\n",
       "       [0.45025948],\n",
       "       [0.44309563],\n",
       "       [0.55815598],\n",
       "       [0.60235983],\n",
       "       [0.69629172],\n",
       "       [0.79060467],\n",
       "       [0.64402223],\n",
       "       [0.58322864],\n",
       "       [0.48171501],\n",
       "       [0.44281211],\n",
       "       [0.49627058],\n",
       "       [0.47546339],\n",
       "       [0.55155979],\n",
       "       [0.50099435],\n",
       "       [0.44545859],\n",
       "       [0.50571167],\n",
       "       [0.46588904],\n",
       "       [0.46785659],\n",
       "       [0.45300142],\n",
       "       [0.43741172],\n",
       "       [0.3506737 ],\n",
       "       [0.36403131]])"
      ]
     },
     "execution_count": 42,
     "metadata": {},
     "output_type": "execute_result"
    }
   ],
   "source": [
    "y"
   ]
  },
  {
   "cell_type": "code",
   "execution_count": 43,
   "metadata": {},
   "outputs": [
    {
     "data": {
      "text/plain": [
       "0.004117203002439253"
      ]
     },
     "execution_count": 43,
     "metadata": {},
     "output_type": "execute_result"
    }
   ],
   "source": [
    "from sklearn.metrics import mean_squared_error \n",
    "mean_squared_error(y,yHat) "
   ]
  },
  {
   "cell_type": "code",
   "execution_count": 44,
   "metadata": {},
   "outputs": [
    {
     "data": {
      "image/png": "[encoded data removed]",
      "text/plain": [
       "<Figure size 432x288 with 1 Axes>"
      ]
     },
     "metadata": {
      "needs_background": "light"
     },
     "output_type": "display_data"
    }
   ],
   "source": [
    "#Plot cost during training:\n",
    "plot.plot(y)\n",
    "plot.plot(yHat)\n",
    "plot.grid(1)\n",
    "plot.legend(['y', 'yHat'])\n",
    "plot.show()"
   ]
  },
  {
   "cell_type": "code",
   "execution_count": 45,
   "metadata": {},
   "outputs": [],
   "source": [
    "prediksi=NN.forward(dataprediksi)"
   ]
  },
  {
   "cell_type": "code",
   "execution_count": 46,
   "metadata": {},
   "outputs": [
    {
     "data": {
      "text/plain": [
       "array([[0.38004485],\n",
       "       [0.69524136],\n",
       "       [0.75895415],\n",
       "       [0.59809462]])"
      ]
     },
     "execution_count": 46,
     "metadata": {},
     "output_type": "execute_result"
    }
   ],
   "source": [
    "prediksi"
   ]
  },
  {
   "cell_type": "code",
   "execution_count": 47,
   "metadata": {},
   "outputs": [],
   "source": [
    "from sklearn.metrics import mean_squared_error "
   ]
  },
  {
   "cell_type": "code",
   "execution_count": 48,
   "metadata": {},
   "outputs": [
    {
     "data": {
      "text/plain": [
       "0.06983278319775368"
      ]
     },
     "execution_count": 48,
     "metadata": {},
     "output_type": "execute_result"
    }
   ],
   "source": [
    "Y_true= ([\t0.795380412\t]\t,\n",
    "[\t1\t]\t,\n",
    "[\t0.707681705\t]\t,\n",
    "[\t0.491695324\t]\t,\n",
    "\n",
    ")\n",
    "\n",
    "\n",
    "Y_pred=prediksi\n",
    "mean_squared_error(Y_true,Y_pred) "
   ]
  },
  {
   "cell_type": "code",
   "execution_count": 49,
   "metadata": {},
   "outputs": [
    {
     "data": {
      "text/plain": [
       "array([[0.3506737 , 0.36403131],\n",
       "       [0.36403131, 0.79538041],\n",
       "       [0.79538041, 1.        ],\n",
       "       [1.        , 0.70768171]])"
      ]
     },
     "execution_count": 49,
     "metadata": {},
     "output_type": "execute_result"
    }
   ],
   "source": [
    "dataprediksi"
   ]
  },
  {
   "cell_type": "code",
   "execution_count": 50,
   "metadata": {},
   "outputs": [],
   "source": [
    "a=np.array([\t0.707681705\t,\t0.491695324\t])"
   ]
  },
  {
   "cell_type": "code",
   "execution_count": 51,
   "metadata": {},
   "outputs": [
    {
     "data": {
      "text/plain": [
       "array([0.45775984])"
      ]
     },
     "execution_count": 51,
     "metadata": {},
     "output_type": "execute_result"
    }
   ],
   "source": [
    "#prediksi 1\n",
    "prediksi=NN.forward(a)\n",
    "prediksi"
   ]
  },
  {
   "cell_type": "code",
   "execution_count": 52,
   "metadata": {},
   "outputs": [
    {
     "data": {
      "text/plain": [
       "array([0.45390979])"
      ]
     },
     "execution_count": 52,
     "metadata": {},
     "output_type": "execute_result"
    }
   ],
   "source": [
    "#prediksi 2\n",
    "c=prediksi\n",
    "b=a[1:]\n",
    "d=np.concatenate((b,c))\n",
    "prediksi=NN.forward(d)\n",
    "prediksi"
   ]
  },
  {
   "cell_type": "code",
   "execution_count": 53,
   "metadata": {},
   "outputs": [
    {
     "data": {
      "text/plain": [
       "array([0.45451538])"
      ]
     },
     "execution_count": 53,
     "metadata": {},
     "output_type": "execute_result"
    }
   ],
   "source": [
    "#prediksi 3\n",
    "c=prediksi\n",
    "b=d[1:]\n",
    "e=np.concatenate((b,c))\n",
    "prediksi=NN.forward(e)\n",
    "prediksi"
   ]
  },
  {
   "cell_type": "code",
   "execution_count": 54,
   "metadata": {},
   "outputs": [
    {
     "data": {
      "text/plain": [
       "array([0.4555493])"
      ]
     },
     "execution_count": 54,
     "metadata": {},
     "output_type": "execute_result"
    }
   ],
   "source": [
    "#prediksi 4\n",
    "c=prediksi\n",
    "b=e[1:]\n",
    "f=np.concatenate((b,c))\n",
    "prediksi=NN.forward(f)\n",
    "prediksi"
   ]
  },
  {
   "cell_type": "code",
   "execution_count": 55,
   "metadata": {},
   "outputs": [
    {
     "data": {
      "text/plain": [
       "array([0.45643422])"
      ]
     },
     "execution_count": 55,
     "metadata": {},
     "output_type": "execute_result"
    }
   ],
   "source": [
    "#prediksi 5\n",
    "c=prediksi\n",
    "b=f[1:]\n",
    "g=np.concatenate((b,c))\n",
    "prediksi=NN.forward(g)\n",
    "prediksi"
   ]
  },
  {
   "cell_type": "code",
   "execution_count": 56,
   "metadata": {},
   "outputs": [
    {
     "data": {
      "text/plain": [
       "array([0.45712773])"
      ]
     },
     "execution_count": 56,
     "metadata": {},
     "output_type": "execute_result"
    }
   ],
   "source": [
    "#prediksi 6\n",
    "c=prediksi\n",
    "b=g[1:]\n",
    "h=np.concatenate((b,c))\n",
    "prediksi=NN.forward(h)\n",
    "prediksi"
   ]
  },
  {
   "cell_type": "code",
   "execution_count": 57,
   "metadata": {},
   "outputs": [
    {
     "data": {
      "text/plain": [
       "array([0.45776935])"
      ]
     },
     "execution_count": 57,
     "metadata": {},
     "output_type": "execute_result"
    }
   ],
   "source": [
    "#prediksi 7\n",
    "c=prediksi\n",
    "b=g[1:]\n",
    "i=np.concatenate((b,c))\n",
    "prediksi=NN.forward(i)\n",
    "prediksi"
   ]
  },
  {
   "cell_type": "code",
   "execution_count": 58,
   "metadata": {},
   "outputs": [
    {
     "data": {
      "text/plain": [
       "array([0.45836232])"
      ]
     },
     "execution_count": 58,
     "metadata": {},
     "output_type": "execute_result"
    }
   ],
   "source": [
    "#prediksi 8\n",
    "c=prediksi\n",
    "b=g[1:]\n",
    "j=np.concatenate((b,c))\n",
    "prediksi=NN.forward(j)\n",
    "prediksi"
   ]
  },
  {
   "cell_type": "code",
   "execution_count": 59,
   "metadata": {},
   "outputs": [
    {
     "data": {
      "text/plain": [
       "array([0.4589098])"
      ]
     },
     "execution_count": 59,
     "metadata": {},
     "output_type": "execute_result"
    }
   ],
   "source": [
    "#prediksi 9\n",
    "c=prediksi\n",
    "b=g[1:]\n",
    "k=np.concatenate((b,c))\n",
    "prediksi=NN.forward(k)\n",
    "prediksi"
   ]
  },
  {
   "cell_type": "code",
   "execution_count": 60,
   "metadata": {},
   "outputs": [
    {
     "data": {
      "text/plain": [
       "array([0.45941483])"
      ]
     },
     "execution_count": 60,
     "metadata": {},
     "output_type": "execute_result"
    }
   ],
   "source": [
    "#prediksi 10\n",
    "c=prediksi\n",
    "b=g[1:]\n",
    "l=np.concatenate((b,c))\n",
    "prediksi=NN.forward(l)\n",
    "prediksi"
   ]
  },
  {
   "cell_type": "code",
   "execution_count": 61,
   "metadata": {},
   "outputs": [
    {
     "data": {
      "text/plain": [
       "array([0.45988031])"
      ]
     },
     "execution_count": 61,
     "metadata": {},
     "output_type": "execute_result"
    }
   ],
   "source": [
    "#prediksi 11\n",
    "c=prediksi\n",
    "b=g[1:]\n",
    "m=np.concatenate((b,c))\n",
    "prediksi=NN.forward(m)\n",
    "prediksi"
   ]
  },
  {
   "cell_type": "code",
   "execution_count": 62,
   "metadata": {},
   "outputs": [
    {
     "data": {
      "text/plain": [
       "array([0.46030901])"
      ]
     },
     "execution_count": 62,
     "metadata": {},
     "output_type": "execute_result"
    }
   ],
   "source": [
    "#prediksi 12\n",
    "c=prediksi\n",
    "b=g[1:]\n",
    "n=np.concatenate((b,c))\n",
    "prediksi=NN.forward(n)\n",
    "prediksi"
   ]
  },
  {
   "cell_type": "code",
   "execution_count": null,
   "metadata": {},
   "outputs": [],
   "source": []
  }
 ],
 "metadata": {
  "kernelspec": {
   "display_name": "Python 3",
   "language": "python",
   "name": "python3"
  },
  "language_info": {
   "codemirror_mode": {
    "name": "ipython",
    "version": 3
   },
   "file_extension": ".py",
   "mimetype": "text/x-python",
   "name": "python",
   "nbconvert_exporter": "python",
   "pygments_lexer": "ipython3",
   "version": "3.7.3"
  }
 },
 "nbformat": 4,
 "nbformat_minor": 2
}
