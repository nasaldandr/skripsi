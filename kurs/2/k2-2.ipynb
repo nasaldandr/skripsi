{
 "cells": [
  {
   "cell_type": "code",
   "execution_count": 1,
   "metadata": {},
   "outputs": [],
   "source": [
    "import numpy as np"
   ]
  },
  {
   "cell_type": "code",
   "execution_count": 2,
   "metadata": {},
   "outputs": [],
   "source": [
    "#UNTUK NILAI IMPOR\n",
    "class Neural_Network(object):\n",
    "    def __init__(self):\n",
    "        #parameters\n",
    "        self.inputLayerSize = 2\n",
    "        self.outputLayerSize = 1\n",
    "        self.hiddenLayerSize = 2\n",
    "\n",
    "        #weights\n",
    "        self.W1 = np.random.randn(self.inputLayerSize,\\\n",
    "                                 self.hiddenLayerSize)  \n",
    "        self.W2 = np.random.randn(self.hiddenLayerSize,\\\n",
    "                                 self.outputLayerSize)  \n",
    "    \n",
    "    def printw(self):\n",
    "        return self.W1\n",
    "        \n",
    "    def weight(self, W1, W2):\n",
    "        #Make an internal variable for the weight:\n",
    "        self.W1 = W1\n",
    "        self.W2 = W2\n",
    "        \n",
    "    def forward(self, X):\n",
    "        #forward propagation through our network\n",
    "        self.z2 = np.dot(X,self.W1)  \n",
    "        self.a2 = self.sigmoid(self.z2)  # activation function\n",
    "        self.z3 = np.dot(self.a2, self.W2) \n",
    "        yHat = self.sigmoid(self.z3)  # final activation function\n",
    "        return yHat\n",
    "\n",
    "    def sigmoid(self, z):\n",
    "        # activation function\n",
    "        return 1 / (1 + np.exp(-z))\n",
    "    \n",
    "    def sigmoidPrime(self,z): \n",
    "        #derivative of sigmoid     \n",
    "        return np.exp(-z)/((1+np.exp(-z))**2)\n",
    "    \n",
    "    def costFunction(self,X,y):\n",
    "        self.yHat = self.forward(X)\n",
    "        J=0.5*sum((y-self.yHat)**2)\n",
    "        return J\n",
    "    \n",
    "    def costFunctionPrime(self,X,y):\n",
    "        self.yHat=self.forward(X)\n",
    "        \n",
    "        delta3=np.multiply(-(y-self.yHat),self.sigmoidPrime(self.z3))\n",
    "        dJdW2=np.dot(self.a2.T,delta3)\n",
    "        \n",
    "        delta2=np.dot(delta3,self.W2.T)*self.sigmoidPrime(self.z2)\n",
    "        dJdW1=np.dot(X.T,delta2)\n",
    "        return dJdW1,dJdW2\n",
    "    \n",
    "    def predict(self):\n",
    "        prediksi = self.forward(dataprediksi)\n",
    "        return prediksi\n",
    "    \n",
    "    def getParams(self):\n",
    "        params=np.concatenate((self.W1.ravel(),self.W2.ravel()))\n",
    "        return params\n",
    "    \n",
    "    def setParams(self,params):\n",
    "        W1_start=0\n",
    "        W1_end=self.hiddenLayerSize*self.inputLayerSize\n",
    "        self.W1=np.reshape(params[W1_start:W1_end],\\\n",
    "                          (self.inputLayerSize,self.hiddenLayerSize))\n",
    "        W2_end=W1_end+self.hiddenLayerSize*self.outputLayerSize\n",
    "        self.W2=np.reshape(params[W1_end:W2_end],\\\n",
    "                          (self.hiddenLayerSize,self.outputLayerSize))\n",
    "        \n",
    "    def computeGradients(self, X, y):\n",
    "        dJdW1, dJdW2 = self.costFunctionPrime(X, y)\n",
    "        return np.concatenate((dJdW1.ravel(), dJdW2.ravel()))"
   ]
  },
  {
   "cell_type": "code",
   "execution_count": 3,
   "metadata": {},
   "outputs": [],
   "source": [
    "NN = Neural_Network()"
   ]
  },
  {
   "cell_type": "code",
   "execution_count": 4,
   "metadata": {},
   "outputs": [
    {
     "data": {
      "text/plain": [
       "array([[ 0.38985569, -1.10005223],\n",
       "       [-0.57592751,  0.98100821]])"
      ]
     },
     "execution_count": 4,
     "metadata": {},
     "output_type": "execute_result"
    }
   ],
   "source": [
    "NN.W1"
   ]
  },
  {
   "cell_type": "code",
   "execution_count": 5,
   "metadata": {},
   "outputs": [
    {
     "data": {
      "text/plain": [
       "array([[1.49540945],\n",
       "       [0.164755  ]])"
      ]
     },
     "execution_count": 5,
     "metadata": {},
     "output_type": "execute_result"
    }
   ],
   "source": [
    "NN.W2"
   ]
  },
  {
   "cell_type": "code",
   "execution_count": 6,
   "metadata": {},
   "outputs": [],
   "source": [
    "#KURS\n",
    "X=np.array(([\t0\t,\t0.051924996\t]\t,\n",
    "[\t0.051924996\t,\t0.148319042\t]\t,\n",
    "[\t0.148319042\t,\t0.112113419\t]\t,\n",
    "[\t0.112113419\t,\t0.170734062\t]\t,\n",
    "[\t0.170734062\t,\t0.223256598\t]\t,\n",
    "[\t0.223256598\t,\t0.241974687\t]\t,\n",
    "[\t0.241974687\t,\t0.365733465\t]\t,\n",
    "[\t0.365733465\t,\t0.552558994\t]\t,\n",
    "[\t0.552558994\t,\t0.370023519\t]\t,\n",
    "[\t0.370023519\t,\t0.332531703\t]\t,\n",
    "[\t0.332531703\t,\t0.387887522\t]\t,\n",
    "[\t0.387887522\t,\t0.398363943\t]\t,\n",
    "[\t0.398363943\t,\t0.284826299\t]\t,\n",
    "[\t0.284826299\t,\t0.186735022\t]\t,\n",
    "[\t0.186735022\t,\t0.182694768\t]\t,\n",
    "[\t0.182694768\t,\t0.255617002\t]\t,\n",
    "[\t0.255617002\t,\t0.23597043\t]\t,\n",
    "[\t0.23597043\t,\t0.164134134\t]\t,\n",
    "[\t0.164134134\t,\t0.178176635\t]\t,\n",
    "[\t0.178176635\t,\t0.163956101\t]\t,\n",
    "[\t0.163956101\t,\t0.133241484\t]\t,\n",
    "[\t0.133241484\t,\t0.226399017\t]\t,\n",
    "[\t0.226399017\t,\t0.255013861\t]\t,\n",
    "[\t0.255013861\t,\t0.23708614\t]\t,\n",
    "[\t0.23708614\t,\t0.231651119\t]\t,\n",
    "[\t0.231651119\t,\t0.233067608\t]\t,\n",
    "[\t0.233067608\t,\t0.221173719\t]\t,\n",
    "[\t0.221173719\t,\t0.22633168\t]\t,\n",
    "[\t0.22633168\t,\t0.218698642\t]\t,\n",
    "[\t0.218698642\t,\t0.232032203\t]\t,\n",
    "[\t0.232032203\t,\t0.231947948\t]\t,\n",
    "[\t0.231947948\t,\t0.221547817\t]\t,\n",
    "[\t0.221547817\t,\t0.287958581\t]\t,\n",
    "[\t0.287958581\t,\t0.28837327\t]\t,\n",
    "[\t0.28837327\t,\t0.297145757\t]\t,\n",
    "[\t0.297145757\t,\t0.243669818\t]\t,\n",
    "[\t0.243669818\t,\t0.307437314\t]\t,\n",
    "[\t0.307437314\t,\t0.358597855\t]\t,\n",
    "[\t0.358597855\t,\t0.372181217\t]\t,\n",
    "[\t0.372181217\t,\t0.450259481\t]\t,\n",
    "[\t0.450259481\t,\t0.443095634\t]\t,\n",
    "[\t0.443095634\t,\t0.558155976\t]\t,\n",
    "[\t0.558155976\t,\t0.602359827\t]\t,\n",
    "[\t0.602359827\t,\t0.696291723\t]\t,\n",
    "[\t0.696291723\t,\t0.790604671\t]\t,\n",
    "[\t0.790604671\t,\t0.644022227\t]\t,\n",
    "[\t0.644022227\t,\t0.583228643\t]\t,\n",
    "[\t0.583228643\t,\t0.481715009\t]\t,\n",
    "[\t0.481715009\t,\t0.442812107\t]\t,\n",
    "[\t0.442812107\t,\t0.496270585\t]\t,\n",
    "[\t0.496270585\t,\t0.475463393\t]\t,\n",
    "[\t0.475463393\t,\t0.551559791\t]\t,\n",
    "[\t0.551559791\t,\t0.500994351\t]\t,\n",
    "[\t0.500994351\t,\t0.445458587\t]\t,\n",
    "[\t0.445458587\t,\t0.505711667\t]\t,\n",
    "[\t0.505711667\t,\t0.465889036\t]\t,\n",
    "[\t0.465889036\t,\t0.46785659\t]\t,\n",
    "[\t0.46785659\t,\t0.453001423\t]\t,\n",
    "[\t0.453001423\t,\t0.437411724\t]\t,\n",
    "[\t0.437411724\t,\t0.350673696\t]\t,\n",
    "\n",
    ")           \n",
    ",dtype=float)\n",
    "y=np.array((\n",
    "[\t0.148319042\t]\t,\n",
    "[\t0.112113419\t]\t,\n",
    "[\t0.170734062\t]\t,\n",
    "[\t0.223256598\t]\t,\n",
    "[\t0.241974687\t]\t,\n",
    "[\t0.365733465\t]\t,\n",
    "[\t0.552558994\t]\t,\n",
    "[\t0.370023519\t]\t,\n",
    "[\t0.332531703\t]\t,\n",
    "[\t0.387887522\t]\t,\n",
    "[\t0.398363943\t]\t,\n",
    "[\t0.284826299\t]\t,\n",
    "[\t0.186735022\t]\t,\n",
    "[\t0.182694768\t]\t,\n",
    "[\t0.255617002\t]\t,\n",
    "[\t0.23597043\t]\t,\n",
    "[\t0.164134134\t]\t,\n",
    "[\t0.178176635\t]\t,\n",
    "[\t0.163956101\t]\t,\n",
    "[\t0.133241484\t]\t,\n",
    "[\t0.226399017\t]\t,\n",
    "[\t0.255013861\t]\t,\n",
    "[\t0.23708614\t]\t,\n",
    "[\t0.231651119\t]\t,\n",
    "[\t0.233067608\t]\t,\n",
    "[\t0.221173719\t]\t,\n",
    "[\t0.22633168\t]\t,\n",
    "[\t0.218698642\t]\t,\n",
    "[\t0.232032203\t]\t,\n",
    "[\t0.231947948\t]\t,\n",
    "[\t0.221547817\t]\t,\n",
    "[\t0.287958581\t]\t,\n",
    "[\t0.28837327\t]\t,\n",
    "[\t0.297145757\t]\t,\n",
    "[\t0.243669818\t]\t,\n",
    "[\t0.307437314\t]\t,\n",
    "[\t0.358597855\t]\t,\n",
    "[\t0.372181217\t]\t,\n",
    "[\t0.450259481\t]\t,\n",
    "[\t0.443095634\t]\t,\n",
    "[\t0.558155976\t]\t,\n",
    "[\t0.602359827\t]\t,\n",
    "[\t0.696291723\t]\t,\n",
    "[\t0.790604671\t]\t,\n",
    "[\t0.644022227\t]\t,\n",
    "[\t0.583228643\t]\t,\n",
    "[\t0.481715009\t]\t,\n",
    "[\t0.442812107\t]\t,\n",
    "[\t0.496270585\t]\t,\n",
    "[\t0.475463393\t]\t,\n",
    "[\t0.551559791\t]\t,\n",
    "[\t0.500994351\t]\t,\n",
    "[\t0.445458587\t]\t,\n",
    "[\t0.505711667\t]\t,\n",
    "[\t0.465889036\t]\t,\n",
    "[\t0.46785659\t]\t,\n",
    "[\t0.453001423\t]\t,\n",
    "[\t0.437411724\t]\t,\n",
    "[\t0.350673696\t]\t,\n",
    "[\t0.364031312\t]\t,\n",
    "\n",
    ")\n",
    ",dtype=float)\n",
    "\n",
    "dataprediksi = np.array(([\t0.350673696\t,\t0.364031312\t]\t,\n",
    "[\t0.364031312\t,\t0.795380412\t]\t,\n",
    "[\t0.795380412\t,\t1\t]\t,\n",
    "[\t1\t,\t0.707681705\t]\t,\n",
    "\n",
    "\n",
    "), dtype=float)\n"
   ]
  },
  {
   "cell_type": "code",
   "execution_count": 7,
   "metadata": {},
   "outputs": [],
   "source": [
    "import matplotlib.pyplot as plot"
   ]
  },
  {
   "cell_type": "code",
   "execution_count": 8,
   "metadata": {},
   "outputs": [],
   "source": [
    "from scipy import optimize"
   ]
  },
  {
   "cell_type": "code",
   "execution_count": 9,
   "metadata": {},
   "outputs": [],
   "source": [
    "class trainer(object):\n",
    "    def __init__(self, N):\n",
    "        #Make Local reference to network:\n",
    "        self.N = N\n",
    "        \n",
    "    def callbackF(self, params):\n",
    "        self.N.setParams(params)\n",
    "        self.J.append(self.N.costFunction(self.X, self.y))   \n",
    "        \n",
    "    def costFunctionWrapper(self, params, X, y):\n",
    "        self.N.setParams(params)\n",
    "        cost = self.N.costFunction(X, y)\n",
    "        grad = self.N.computeGradients(X,y)\n",
    "        \n",
    "        return cost, grad\n",
    "        \n",
    "    def train(self, X, y):\n",
    "        #Make an internal variable for the callback function:\n",
    "        self.X = X\n",
    "        self.y = y\n",
    "\n",
    "        #Make empty list to store costs:\n",
    "        self.J = []\n",
    "        \n",
    "        params0 = self.N.getParams()\n",
    "\n",
    "        options = {'maxiter': 100, 'disp' : True}\n",
    "        _res = optimize.minimize(self.costFunctionWrapper, params0, jac=True, method='BFGS', \\\n",
    "                                 args=(X, y), options=options, callback=self.callbackF)\n",
    "\n",
    "        self.N.setParams(_res.x)\n",
    "        self.optimizationResults = _res"
   ]
  },
  {
   "cell_type": "code",
   "execution_count": 10,
   "metadata": {},
   "outputs": [],
   "source": [
    "NN=Neural_Network()"
   ]
  },
  {
   "cell_type": "code",
   "execution_count": 11,
   "metadata": {},
   "outputs": [],
   "source": [
    "T = trainer(NN)"
   ]
  },
  {
   "cell_type": "code",
   "execution_count": 12,
   "metadata": {},
   "outputs": [
    {
     "name": "stdout",
     "output_type": "stream",
     "text": [
      "Warning: Maximum number of iterations has been exceeded.\n",
      "         Current function value: 0.110948\n",
      "         Iterations: 100\n",
      "         Function evaluations: 115\n",
      "         Gradient evaluations: 115\n"
     ]
    }
   ],
   "source": [
    "#Train network with new data:\n",
    "T = trainer(NN)\n",
    "T.train(X,y)"
   ]
  },
  {
   "cell_type": "code",
   "execution_count": 13,
   "metadata": {},
   "outputs": [
    {
     "data": {
      "image/png": "[encoded data removed]",
      "text/plain": [
       "<Figure size 432x288 with 1 Axes>"
      ]
     },
     "metadata": {
      "needs_background": "light"
     },
     "output_type": "display_data"
    }
   ],
   "source": [
    "#Plot cost during training:\n",
    "plot.plot(T.J)\n",
    "plot.grid(1)\n",
    "plot.xlabel('Iterations')\n",
    "plot.ylabel('Cost')\n",
    "plot.show()"
   ]
  },
  {
   "cell_type": "code",
   "execution_count": 14,
   "metadata": {},
   "outputs": [],
   "source": [
    "#Training Data:\n",
    "trainX = np.array(([\t0\t,\t0.051924996\t]\t,\n",
    "[\t0.051924996\t,\t0.148319042\t]\t,\n",
    "[\t0.148319042\t,\t0.112113419\t]\t,\n",
    "[\t0.112113419\t,\t0.170734062\t]\t,\n",
    "[\t0.170734062\t,\t0.223256598\t]\t,\n",
    "[\t0.223256598\t,\t0.241974687\t]\t,\n",
    "[\t0.241974687\t,\t0.365733465\t]\t,\n",
    "[\t0.365733465\t,\t0.552558994\t]\t,\n",
    "[\t0.552558994\t,\t0.370023519\t]\t,\n",
    "[\t0.370023519\t,\t0.332531703\t]\t,\n",
    "[\t0.332531703\t,\t0.387887522\t]\t,\n",
    "[\t0.387887522\t,\t0.398363943\t]\t,\n",
    "[\t0.398363943\t,\t0.284826299\t]\t,\n",
    "[\t0.284826299\t,\t0.186735022\t]\t,\n",
    "[\t0.186735022\t,\t0.182694768\t]\t,\n",
    "[\t0.182694768\t,\t0.255617002\t]\t,\n",
    "[\t0.255617002\t,\t0.23597043\t]\t,\n",
    "[\t0.23597043\t,\t0.164134134\t]\t,\n",
    "[\t0.164134134\t,\t0.178176635\t]\t,\n",
    "[\t0.178176635\t,\t0.163956101\t]\t,\n",
    "[\t0.163956101\t,\t0.133241484\t]\t,\n",
    "[\t0.133241484\t,\t0.226399017\t]\t,\n",
    "[\t0.226399017\t,\t0.255013861\t]\t,\n",
    "[\t0.255013861\t,\t0.23708614\t]\t,\n",
    "[\t0.23708614\t,\t0.231651119\t]\t,\n",
    "[\t0.231651119\t,\t0.233067608\t]\t,\n",
    "[\t0.233067608\t,\t0.221173719\t]\t,\n",
    "[\t0.221173719\t,\t0.22633168\t]\t,\n",
    "[\t0.22633168\t,\t0.218698642\t]\t,\n",
    "[\t0.218698642\t,\t0.232032203\t]\t,\n",
    "[\t0.232032203\t,\t0.231947948\t]\t,\n",
    "[\t0.231947948\t,\t0.221547817\t]\t,\n",
    "[\t0.221547817\t,\t0.287958581\t]\t,\n",
    "[\t0.287958581\t,\t0.28837327\t]\t,\n",
    "[\t0.28837327\t,\t0.297145757\t]\t,\n",
    "[\t0.297145757\t,\t0.243669818\t]\t,\n",
    "[\t0.243669818\t,\t0.307437314\t]\t,\n",
    "[\t0.307437314\t,\t0.358597855\t]\t,\n",
    "[\t0.358597855\t,\t0.372181217\t]\t,\n",
    "[\t0.372181217\t,\t0.450259481\t]\t,\n",
    "[\t0.450259481\t,\t0.443095634\t]\t,\n",
    "[\t0.443095634\t,\t0.558155976\t]\t,\n",
    "[\t0.558155976\t,\t0.602359827\t]\t,\n",
    "[\t0.602359827\t,\t0.696291723\t]\t,\n",
    "[\t0.696291723\t,\t0.790604671\t]\t,\n",
    "[\t0.790604671\t,\t0.644022227\t]\t,\n",
    "[\t0.644022227\t,\t0.583228643\t]\t,\n",
    "\n",
    ")\n",
    ", dtype=float)\n",
    "trainY = np.array((\n",
    "[\t0.148319042\t]\t,\n",
    "[\t0.112113419\t]\t,\n",
    "[\t0.170734062\t]\t,\n",
    "[\t0.223256598\t]\t,\n",
    "[\t0.241974687\t]\t,\n",
    "[\t0.365733465\t]\t,\n",
    "[\t0.552558994\t]\t,\n",
    "[\t0.370023519\t]\t,\n",
    "[\t0.332531703\t]\t,\n",
    "[\t0.387887522\t]\t,\n",
    "[\t0.398363943\t]\t,\n",
    "[\t0.284826299\t]\t,\n",
    "[\t0.186735022\t]\t,\n",
    "[\t0.182694768\t]\t,\n",
    "[\t0.255617002\t]\t,\n",
    "[\t0.23597043\t]\t,\n",
    "[\t0.164134134\t]\t,\n",
    "[\t0.178176635\t]\t,\n",
    "[\t0.163956101\t]\t,\n",
    "[\t0.133241484\t]\t,\n",
    "[\t0.226399017\t]\t,\n",
    "[\t0.255013861\t]\t,\n",
    "[\t0.23708614\t]\t,\n",
    "[\t0.231651119\t]\t,\n",
    "[\t0.233067608\t]\t,\n",
    "[\t0.221173719\t]\t,\n",
    "[\t0.22633168\t]\t,\n",
    "[\t0.218698642\t]\t,\n",
    "[\t0.232032203\t]\t,\n",
    "[\t0.231947948\t]\t,\n",
    "[\t0.221547817\t]\t,\n",
    "[\t0.287958581\t]\t,\n",
    "[\t0.28837327\t]\t,\n",
    "[\t0.297145757\t]\t,\n",
    "[\t0.243669818\t]\t,\n",
    "[\t0.307437314\t]\t,\n",
    "[\t0.358597855\t]\t,\n",
    "[\t0.372181217\t]\t,\n",
    "[\t0.450259481\t]\t,\n",
    "[\t0.443095634\t]\t,\n",
    "[\t0.558155976\t]\t,\n",
    "[\t0.602359827\t]\t,\n",
    "[\t0.696291723\t]\t,\n",
    "[\t0.790604671\t]\t,\n",
    "[\t0.644022227\t]\t,\n",
    "[\t0.583228643\t]\t,\n",
    "[\t0.481715009\t]\t,\n",
    "\n",
    "\n",
    ")\n",
    ", dtype=float)\n",
    "\n",
    "#Testing Data:\n",
    "testX = np.array(([\t0.583228643\t,\t0.481715009\t]\t,\n",
    "[\t0.481715009\t,\t0.442812107\t]\t,\n",
    "[\t0.442812107\t,\t0.496270585\t]\t,\n",
    "[\t0.496270585\t,\t0.475463393\t]\t,\n",
    "[\t0.475463393\t,\t0.551559791\t]\t,\n",
    "[\t0.551559791\t,\t0.500994351\t]\t,\n",
    "[\t0.500994351\t,\t0.445458587\t]\t,\n",
    "[\t0.445458587\t,\t0.505711667\t]\t,\n",
    "[\t0.505711667\t,\t0.465889036\t]\t,\n",
    "[\t0.465889036\t,\t0.46785659\t]\t,\n",
    "[\t0.46785659\t,\t0.453001423\t]\t,\n",
    "[\t0.453001423\t,\t0.437411724\t]\t,\n",
    "[\t0.437411724\t,\t0.350673696\t]\t,\n",
    "\n",
    ")\n",
    ", dtype=float)\n",
    "testY = np.array(([\t0.442812107\t]\t,\n",
    "[\t0.496270585\t]\t,\n",
    "[\t0.475463393\t]\t,\n",
    "[\t0.551559791\t]\t,\n",
    "[\t0.500994351\t]\t,\n",
    "[\t0.445458587\t]\t,\n",
    "[\t0.505711667\t]\t,\n",
    "[\t0.465889036\t]\t,\n",
    "[\t0.46785659\t]\t,\n",
    "[\t0.453001423\t]\t,\n",
    "[\t0.437411724\t]\t,\n",
    "[\t0.350673696\t]\t,\n",
    "[\t0.364031312\t]\t,\n",
    "\n",
    ")\n",
    ", dtype=float)\n",
    "\n",
    "\n",
    "dataprediksi = np.array(([\t0.350673696\t,\t0.364031312\t]\t,\n",
    "[\t0.364031312\t,\t0.795380412\t]\t,\n",
    "[\t0.795380412\t,\t1\t]\t,\n",
    "[\t1\t,\t0.707681705\t]\t,\n",
    "\n",
    "\n",
    "), dtype=float)"
   ]
  },
  {
   "cell_type": "code",
   "execution_count": 15,
   "metadata": {},
   "outputs": [
    {
     "data": {
      "text/plain": [
       "array([[0.58322864, 0.48171501],\n",
       "       [0.48171501, 0.44281211],\n",
       "       [0.44281211, 0.49627058],\n",
       "       [0.49627058, 0.47546339],\n",
       "       [0.47546339, 0.55155979],\n",
       "       [0.55155979, 0.50099435],\n",
       "       [0.50099435, 0.44545859],\n",
       "       [0.44545859, 0.50571167],\n",
       "       [0.50571167, 0.46588904],\n",
       "       [0.46588904, 0.46785659],\n",
       "       [0.46785659, 0.45300142],\n",
       "       [0.45300142, 0.43741172],\n",
       "       [0.43741172, 0.3506737 ]])"
      ]
     },
     "execution_count": 15,
     "metadata": {},
     "output_type": "execute_result"
    }
   ],
   "source": [
    "testX"
   ]
  },
  {
   "cell_type": "code",
   "execution_count": 16,
   "metadata": {},
   "outputs": [],
   "source": [
    "##Need to modify trainer class a bit to check testing error during training:\n",
    "class trainer(object):\n",
    "    def __init__(self, N):\n",
    "        #Make Local reference to network:\n",
    "        self.N = N\n",
    "        \n",
    "    def callbackF(self, params):\n",
    "        self.N.setParams(params)\n",
    "        self.J.append(self.N.costFunction(self.X, self.y))\n",
    "        self.testJ.append(self.N.costFunction(self.testX, self.testY))\n",
    "        \n",
    "    def costFunctionWrapper(self, params, X, y):\n",
    "        self.N.setParams(params)\n",
    "        cost = self.N.costFunction(X, y)\n",
    "        grad = self.N.computeGradients(X,y)\n",
    "        \n",
    "        return cost, grad\n",
    "        \n",
    "    def train(self, trainX, trainY, testX, testY):\n",
    "        #Make an internal variable for the callback function:\n",
    "        self.X = trainX\n",
    "        self.y = trainY\n",
    "        \n",
    "        self.testX = testX\n",
    "        self.testY = testY\n",
    "\n",
    "        #Make empty list to store training costs:\n",
    "        self.J = []\n",
    "        self.testJ = []\n",
    "        \n",
    "        params0 = self.N.getParams()\n",
    "\n",
    "        options = {'maxiter': 100, 'disp' : True}\n",
    "        _res = optimize.minimize(self.costFunctionWrapper, params0, jac=True, method='BFGS', \\\n",
    "                                 args=(trainX, trainY), options=options, callback=self.callbackF)\n",
    "\n",
    "        self.N.setParams(_res.x)\n",
    "        self.optimizationResults = _res"
   ]
  },
  {
   "cell_type": "code",
   "execution_count": 17,
   "metadata": {},
   "outputs": [
    {
     "name": "stdout",
     "output_type": "stream",
     "text": [
      "Optimization terminated successfully.\n",
      "         Current function value: 0.093564\n",
      "         Iterations: 85\n",
      "         Function evaluations: 87\n",
      "         Gradient evaluations: 87\n"
     ]
    }
   ],
   "source": [
    "#Train network with new data:\n",
    "NN = Neural_Network()\n",
    "\n",
    "T = trainer(NN)\n",
    "T.train(trainX, trainY, testX, testY)"
   ]
  },
  {
   "cell_type": "code",
   "execution_count": 18,
   "metadata": {},
   "outputs": [
    {
     "data": {
      "image/png": "[encoded data removed]",
      "text/plain": [
       "<Figure size 432x288 with 1 Axes>"
      ]
     },
     "metadata": {
      "needs_background": "light"
     },
     "output_type": "display_data"
    }
   ],
   "source": [
    "#Plot cost during training:\n",
    "plot.plot(T.J)\n",
    "plot.plot(T.testJ)\n",
    "plot.grid(1)\n",
    "plot.xlabel('Iterations')\n",
    "plot.ylabel('Cost')\n",
    "plot.legend(['Training', 'Testing'])\n",
    "plot.show()"
   ]
  },
  {
   "cell_type": "code",
   "execution_count": 19,
   "metadata": {},
   "outputs": [
    {
     "data": {
      "text/plain": [
       "[array([2.24198476]),\n",
       " array([1.02772982]),\n",
       " array([0.64382487]),\n",
       " array([0.58393281]),\n",
       " array([0.54236448]),\n",
       " array([0.49193354]),\n",
       " array([0.40831026]),\n",
       " array([0.32441537]),\n",
       " array([0.30154472]),\n",
       " array([0.27467532]),\n",
       " array([0.26944145]),\n",
       " array([0.25976516]),\n",
       " array([0.24180442]),\n",
       " array([0.2087006]),\n",
       " array([0.16157133]),\n",
       " array([0.1495493]),\n",
       " array([0.14451241]),\n",
       " array([0.13920198]),\n",
       " array([0.13821958]),\n",
       " array([0.13638883]),\n",
       " array([0.13299913]),\n",
       " array([0.12694017]),\n",
       " array([0.11714853]),\n",
       " array([0.10558816]),\n",
       " array([0.10439725]),\n",
       " array([0.10278567]),\n",
       " array([0.10240606]),\n",
       " array([0.10224949]),\n",
       " array([0.10224868]),\n",
       " array([0.10224792]),\n",
       " array([0.10224652]),\n",
       " array([0.1022439]),\n",
       " array([0.10223903]),\n",
       " array([0.10223025]),\n",
       " array([0.10221563]),\n",
       " array([0.10219663]),\n",
       " array([0.10218702]),\n",
       " array([0.10217542]),\n",
       " array([0.10217263]),\n",
       " array([0.10217161]),\n",
       " array([0.10216991]),\n",
       " array([0.10216688]),\n",
       " array([0.10216126]),\n",
       " array([0.1021508]),\n",
       " array([0.10213136]),\n",
       " array([0.10209587]),\n",
       " array([0.10203344]),\n",
       " array([0.10193285]),\n",
       " array([0.10180556]),\n",
       " array([0.10164578]),\n",
       " array([0.10135735]),\n",
       " array([0.10089307]),\n",
       " array([0.10024877]),\n",
       " array([0.1001099]),\n",
       " array([0.09987804]),\n",
       " array([0.09950196]),\n",
       " array([0.09900915]),\n",
       " array([0.09873544]),\n",
       " array([0.0984777]),\n",
       " array([0.0984327]),\n",
       " array([0.09839255]),\n",
       " array([0.09836155]),\n",
       " array([0.09833972]),\n",
       " array([0.09831014]),\n",
       " array([0.0982934]),\n",
       " array([0.09827339]),\n",
       " array([0.0982447]),\n",
       " array([0.09819758]),\n",
       " array([0.09811855]),\n",
       " array([0.09798572]),\n",
       " array([0.09775676]),\n",
       " array([0.09735238]),\n",
       " array([0.09665418]),\n",
       " array([0.09560763]),\n",
       " array([0.09468758]),\n",
       " array([0.09385281]),\n",
       " array([0.09366489]),\n",
       " array([0.09359905]),\n",
       " array([0.093567]),\n",
       " array([0.09356563]),\n",
       " array([0.09356508]),\n",
       " array([0.09356419]),\n",
       " array([0.09356363]),\n",
       " array([0.09356362]),\n",
       " array([0.09356362])]"
      ]
     },
     "execution_count": 19,
     "metadata": {},
     "output_type": "execute_result"
    }
   ],
   "source": [
    "T.J"
   ]
  },
  {
   "cell_type": "code",
   "execution_count": 20,
   "metadata": {},
   "outputs": [
    {
     "data": {
      "text/plain": [
       "[array([0.1062134]),\n",
       " array([0.52059241]),\n",
       " array([0.24255767]),\n",
       " array([0.07957564]),\n",
       " array([0.11487985]),\n",
       " array([0.12539645]),\n",
       " array([0.11293233]),\n",
       " array([0.07876149]),\n",
       " array([0.0599094]),\n",
       " array([0.02943108]),\n",
       " array([0.02500014]),\n",
       " array([0.0207932]),\n",
       " array([0.0165908]),\n",
       " array([0.01372568]),\n",
       " array([0.01316336]),\n",
       " array([0.01240875]),\n",
       " array([0.02916037]),\n",
       " array([0.01835051]),\n",
       " array([0.01865426]),\n",
       " array([0.0193059]),\n",
       " array([0.01987023]),\n",
       " array([0.01964229]),\n",
       " array([0.01729477]),\n",
       " array([0.01708592]),\n",
       " array([0.01954796]),\n",
       " array([0.01718485]),\n",
       " array([0.01585298]),\n",
       " array([0.01598188]),\n",
       " array([0.01599106]),\n",
       " array([0.01599401]),\n",
       " array([0.01599795]),\n",
       " array([0.01600427]),\n",
       " array([0.01601525]),\n",
       " array([0.01603519]),\n",
       " array([0.01607214]),\n",
       " array([0.01613948]),\n",
       " array([0.01616915]),\n",
       " array([0.01618548]),\n",
       " array([0.01616812]),\n",
       " array([0.01615185]),\n",
       " array([0.01613296]),\n",
       " array([0.01611413]),\n",
       " array([0.01609345]),\n",
       " array([0.01606841]),\n",
       " array([0.01603646]),\n",
       " array([0.01599555]),\n",
       " array([0.01594709]),\n",
       " array([0.01590887]),\n",
       " array([0.0159678]),\n",
       " array([0.016074]),\n",
       " array([0.01618833]),\n",
       " array([0.01629698]),\n",
       " array([0.01665648]),\n",
       " array([0.01656922]),\n",
       " array([0.01655564]),\n",
       " array([0.01659159]),\n",
       " array([0.01666453]),\n",
       " array([0.01750482]),\n",
       " array([0.01671116]),\n",
       " array([0.01731116]),\n",
       " array([0.01727846]),\n",
       " array([0.01721511]),\n",
       " array([0.01732507]),\n",
       " array([0.01749747]),\n",
       " array([0.01759105]),\n",
       " array([0.01769054]),\n",
       " array([0.01780935]),\n",
       " array([0.01789223]),\n",
       " array([0.01809763]),\n",
       " array([0.01812618]),\n",
       " array([0.01847242]),\n",
       " array([0.01873396]),\n",
       " array([0.01920038]),\n",
       " array([0.01958031]),\n",
       " array([0.01967107]),\n",
       " array([0.0203122]),\n",
       " array([0.0202166]),\n",
       " array([0.02119916]),\n",
       " array([0.02101216]),\n",
       " array([0.02095424]),\n",
       " array([0.02097155]),\n",
       " array([0.02098646]),\n",
       " array([0.02100125]),\n",
       " array([0.02100827]),\n",
       " array([0.02101193])]"
      ]
     },
     "execution_count": 20,
     "metadata": {},
     "output_type": "execute_result"
    }
   ],
   "source": [
    "T.testJ"
   ]
  },
  {
   "cell_type": "code",
   "execution_count": 21,
   "metadata": {},
   "outputs": [
    {
     "data": {
      "text/plain": [
       "0.14620603035989022"
      ]
     },
     "execution_count": 21,
     "metadata": {},
     "output_type": "execute_result"
    }
   ],
   "source": [
    "from sklearn.metrics import mean_absolute_error\n",
    "mean_absolute_error(T.J, T.testJ)"
   ]
  },
  {
   "cell_type": "code",
   "execution_count": 22,
   "metadata": {},
   "outputs": [],
   "source": [
    "yHat = NN.forward(X)"
   ]
  },
  {
   "cell_type": "code",
   "execution_count": 23,
   "metadata": {},
   "outputs": [
    {
     "data": {
      "text/plain": [
       "array([[0.10751899],\n",
       "       [0.17243075],\n",
       "       [0.14229789],\n",
       "       [0.1913681 ],\n",
       "       [0.24001035],\n",
       "       [0.26042275],\n",
       "       [0.36924301],\n",
       "       [0.50449432],\n",
       "       [0.27573663],\n",
       "       [0.34616539],\n",
       "       [0.4160216 ],\n",
       "       [0.42999738],\n",
       "       [0.25532857],\n",
       "       [0.18110915],\n",
       "       [0.20208039],\n",
       "       [0.2698073 ],\n",
       "       [0.2506331 ],\n",
       "       [0.17332913],\n",
       "       [0.1988908 ],\n",
       "       [0.18481281],\n",
       "       [0.15831194],\n",
       "       [0.23860671],\n",
       "       [0.27381658],\n",
       "       [0.25206132],\n",
       "       [0.2484789 ],\n",
       "       [0.25057664],\n",
       "       [0.23732869],\n",
       "       [0.24411589],\n",
       "       [0.23545777],\n",
       "       [0.25020705],\n",
       "       [0.24932294],\n",
       "       [0.23789345],\n",
       "       [0.30452648],\n",
       "       [0.30831395],\n",
       "       [0.3186441 ],\n",
       "       [0.24872653],\n",
       "       [0.32595057],\n",
       "       [0.38459859],\n",
       "       [0.40173698],\n",
       "       [0.47575271],\n",
       "       [0.47383199],\n",
       "       [0.55972979],\n",
       "       [0.61930048],\n",
       "       [0.67025826],\n",
       "       [0.71881138],\n",
       "       [0.56342162],\n",
       "       [0.57751872],\n",
       "       [0.45850152],\n",
       "       [0.46179091],\n",
       "       [0.52826917],\n",
       "       [0.50180342],\n",
       "       [0.57219749],\n",
       "       [0.5122812 ],\n",
       "       [0.45556729],\n",
       "       [0.53571187],\n",
       "       [0.48434928],\n",
       "       [0.50072653],\n",
       "       [0.48166132],\n",
       "       [0.46561072],\n",
       "       [0.33792319]])"
      ]
     },
     "execution_count": 23,
     "metadata": {},
     "output_type": "execute_result"
    }
   ],
   "source": [
    "yHat"
   ]
  },
  {
   "cell_type": "code",
   "execution_count": 24,
   "metadata": {},
   "outputs": [
    {
     "data": {
      "text/plain": [
       "array([[0.14831904],\n",
       "       [0.11211342],\n",
       "       [0.17073406],\n",
       "       [0.2232566 ],\n",
       "       [0.24197469],\n",
       "       [0.36573346],\n",
       "       [0.55255899],\n",
       "       [0.37002352],\n",
       "       [0.3325317 ],\n",
       "       [0.38788752],\n",
       "       [0.39836394],\n",
       "       [0.2848263 ],\n",
       "       [0.18673502],\n",
       "       [0.18269477],\n",
       "       [0.255617  ],\n",
       "       [0.23597043],\n",
       "       [0.16413413],\n",
       "       [0.17817663],\n",
       "       [0.1639561 ],\n",
       "       [0.13324148],\n",
       "       [0.22639902],\n",
       "       [0.25501386],\n",
       "       [0.23708614],\n",
       "       [0.23165112],\n",
       "       [0.23306761],\n",
       "       [0.22117372],\n",
       "       [0.22633168],\n",
       "       [0.21869864],\n",
       "       [0.2320322 ],\n",
       "       [0.23194795],\n",
       "       [0.22154782],\n",
       "       [0.28795858],\n",
       "       [0.28837327],\n",
       "       [0.29714576],\n",
       "       [0.24366982],\n",
       "       [0.30743731],\n",
       "       [0.35859786],\n",
       "       [0.37218122],\n",
       "       [0.45025948],\n",
       "       [0.44309563],\n",
       "       [0.55815598],\n",
       "       [0.60235983],\n",
       "       [0.69629172],\n",
       "       [0.79060467],\n",
       "       [0.64402223],\n",
       "       [0.58322864],\n",
       "       [0.48171501],\n",
       "       [0.44281211],\n",
       "       [0.49627058],\n",
       "       [0.47546339],\n",
       "       [0.55155979],\n",
       "       [0.50099435],\n",
       "       [0.44545859],\n",
       "       [0.50571167],\n",
       "       [0.46588904],\n",
       "       [0.46785659],\n",
       "       [0.45300142],\n",
       "       [0.43741172],\n",
       "       [0.3506737 ],\n",
       "       [0.36403131]])"
      ]
     },
     "execution_count": 24,
     "metadata": {},
     "output_type": "execute_result"
    }
   ],
   "source": [
    "y"
   ]
  },
  {
   "cell_type": "code",
   "execution_count": 25,
   "metadata": {},
   "outputs": [
    {
     "data": {
      "text/plain": [
       "0.00381918495653224"
      ]
     },
     "execution_count": 25,
     "metadata": {},
     "output_type": "execute_result"
    }
   ],
   "source": [
    "from sklearn.metrics import mean_squared_error \n",
    "mean_squared_error(y,yHat) "
   ]
  },
  {
   "cell_type": "code",
   "execution_count": 26,
   "metadata": {},
   "outputs": [
    {
     "data": {
      "image/png": "[encoded data removed]",
      "text/plain": [
       "<Figure size 432x288 with 1 Axes>"
      ]
     },
     "metadata": {
      "needs_background": "light"
     },
     "output_type": "display_data"
    }
   ],
   "source": [
    "#Plot cost during training:\n",
    "plot.plot(y)\n",
    "plot.plot(yHat)\n",
    "plot.grid(1)\n",
    "plot.legend(['y', 'yHat'])\n",
    "plot.show()"
   ]
  },
  {
   "cell_type": "code",
   "execution_count": 27,
   "metadata": {},
   "outputs": [],
   "source": [
    "#Regularization Parameter:\n",
    "Lambda = 0.0001"
   ]
  },
  {
   "cell_type": "code",
   "execution_count": 28,
   "metadata": {},
   "outputs": [],
   "source": [
    "#Need to make changes to costFunction and costFunctionPrim:\n",
    "def costFunction(self, X, y):\n",
    "    #Compute cost for given X,y, use weights already stored in class.\n",
    "    self.yHat = self.forward(X)\n",
    "    #We don't want cost to increase with the number of examples, so normalize by dividing the error term by number of examples(X.shape[0])\n",
    "    J = 0.5*sum((y-self.yHat)**2)/X.shape[0] + (self.Lambda/2)*(sum(self.W1**2)+sum(self.W2**2))\n",
    "    return J\n",
    "\n",
    "def costFunctionPrime(self, X, y):\n",
    "    #Compute derivative with respect to W and W2 for a given X and y:\n",
    "    self.yHat = self.forward(X)\n",
    "\n",
    "    delta3 = np.multiply(-(y-self.yHat), self.sigmoidPrime(self.z3))\n",
    "    #Add gradient of regularization term:\n",
    "    dJdW2 = np.dot(self.a2.T, delta3)/X.shape[0] + self.Lambda*self.W2\n",
    "\n",
    "    delta2 = np.dot(delta3, self.W2.T)*self.sigmoidPrime(self.z2)\n",
    "    #Add gradient of regularization term:\n",
    "    dJdW1 = np.dot(X.T, delta2)/X.shape[0] + self.Lambda*self.W1\n",
    "\n",
    "    return dJdW1, dJdW2"
   ]
  },
  {
   "cell_type": "code",
   "execution_count": 29,
   "metadata": {},
   "outputs": [],
   "source": [
    "#New complete class, with changes:\n",
    "class Neural_Network(object):\n",
    "    def __init__(self, Lambda=0.0001):        \n",
    "        #Define Hyperparameters\n",
    "        self.inputLayerSize = 2\n",
    "        self.outputLayerSize = 1\n",
    "        self.hiddenLayerSize = 2\n",
    "        \n",
    "        #Weights (parameters)\n",
    "        self.W1 = np.random.randn(self.inputLayerSize,self.hiddenLayerSize)\n",
    "        self.W2 = np.random.randn(self.hiddenLayerSize,self.outputLayerSize)\n",
    "        \n",
    "        #Regularization Parameter:\n",
    "        self.Lambda = Lambda\n",
    "        \n",
    "    def forward(self, X):\n",
    "        #Propogate inputs though network\n",
    "        self.z2 = np.dot(X, self.W1)\n",
    "        self.a2 = self.sigmoid(self.z2)\n",
    "        self.z3 = np.dot(self.a2, self.W2)\n",
    "        yHat = self.sigmoid(self.z3) \n",
    "        return yHat\n",
    "        \n",
    "    def sigmoid(self, z):\n",
    "        #Apply sigmoid activation function to scalar, vector, or matrix\n",
    "        return 1/(1+np.exp(-z))\n",
    "    \n",
    "    def sigmoidPrime(self,z):\n",
    "        #Gradient of sigmoid\n",
    "        return np.exp(-z)/((1+np.exp(-z))**2)\n",
    "    \n",
    "    def costFunction(self, X, y):\n",
    "        #Compute cost for given X,y, use weights already stored in class.\n",
    "        self.yHat = self.forward(X)\n",
    "        J = 0.5*sum((y-self.yHat)**2)/X.shape[0] + (self.Lambda/2)*(np.sum(self.W1**2)+np.sum(self.W2**2))\n",
    "        return J\n",
    "        \n",
    "    def costFunctionPrime(self, X, y):\n",
    "        #Compute derivative with respect to W and W2 for a given X and y:\n",
    "        self.yHat = self.forward(X)\n",
    "        \n",
    "        delta3 = np.multiply(-(y-self.yHat), self.sigmoidPrime(self.z3))\n",
    "        #Add gradient of regularization term:\n",
    "        dJdW2 = np.dot(self.a2.T, delta3)/X.shape[0] + self.Lambda*self.W2\n",
    "        \n",
    "        delta2 = np.dot(delta3, self.W2.T)*self.sigmoidPrime(self.z2)\n",
    "        #Add gradient of regularization term:\n",
    "        dJdW1 = np.dot(X.T, delta2)/X.shape[0] + self.Lambda*self.W1\n",
    "        \n",
    "        return dJdW1, dJdW2\n",
    "    \n",
    "    def predict(self):\n",
    "        prediksi = self.forward(dataprediksi)\n",
    "        return prediksi\n",
    "    \n",
    "    #Helper functions for interacting with other methods/classes\n",
    "    def getParams(self):\n",
    "        #Get W1 and W2 Rolled into vector:\n",
    "        params = np.concatenate((self.W1.ravel(), self.W2.ravel()))\n",
    "        return params\n",
    "    \n",
    "    def setParams(self, params):\n",
    "        #Set W1 and W2 using single parameter vector:\n",
    "        W1_start = 0\n",
    "        W1_end = self.hiddenLayerSize*self.inputLayerSize\n",
    "        self.W1 = np.reshape(params[W1_start:W1_end], \\\n",
    "                             (self.inputLayerSize, self.hiddenLayerSize))\n",
    "        W2_end = W1_end + self.hiddenLayerSize*self.outputLayerSize\n",
    "        self.W2 = np.reshape(params[W1_end:W2_end], \\\n",
    "                             (self.hiddenLayerSize, self.outputLayerSize))\n",
    "        \n",
    "    def computeGradients(self, X, y):\n",
    "        dJdW1, dJdW2 = self.costFunctionPrime(X, y)\n",
    "        return np.concatenate((dJdW1.ravel(), dJdW2.ravel()))"
   ]
  },
  {
   "cell_type": "code",
   "execution_count": 30,
   "metadata": {},
   "outputs": [],
   "source": [
    "def computeNumericalGradient(N, X, y):\n",
    "    paramsInitial = N.getParams()\n",
    "    numgrad = np.zeros(paramsInitial.shape)\n",
    "    perturb = np.zeros(paramsInitial.shape)\n",
    "    e = 1e-4\n",
    "\n",
    "    for p in range(len(paramsInitial)):\n",
    "        #Set perturbation vector\n",
    "        perturb[p] = e\n",
    "        N.setParams(paramsInitial + perturb)\n",
    "        loss2 = N.costFunction(X, y)\n",
    "            \n",
    "        N.setParams(paramsInitial - perturb)\n",
    "        loss1 = N.costFunction(X, y)\n",
    "\n",
    "        #Compute Numerical Gradient\n",
    "        numgrad[p] = (loss2 - loss1) / (2*e)\n",
    "\n",
    "            #Return the value we changed to zero:\n",
    "        perturb[p] = 0\n",
    "            \n",
    "    #Return Params to original value:\n",
    "    N.setParams(paramsInitial)\n",
    "\n",
    "    return numgrad "
   ]
  },
  {
   "cell_type": "code",
   "execution_count": 31,
   "metadata": {},
   "outputs": [],
   "source": [
    "NN = Neural_Network(Lambda=0.0001)"
   ]
  },
  {
   "cell_type": "code",
   "execution_count": 32,
   "metadata": {},
   "outputs": [],
   "source": [
    "#Make sure our gradients our correct after making changes:\n",
    "numgrad = computeNumericalGradient(NN, X, y)\n",
    "grad = NN.computeGradients(X,y)"
   ]
  },
  {
   "cell_type": "code",
   "execution_count": 33,
   "metadata": {},
   "outputs": [
    {
     "data": {
      "text/plain": [
       "2.2807465131695185e-10"
      ]
     },
     "execution_count": 33,
     "metadata": {},
     "output_type": "execute_result"
    }
   ],
   "source": [
    "#Should be less than 1e-8:\n",
    "np.linalg.norm(grad-numgrad)/np.linalg.norm(grad+numgrad)"
   ]
  },
  {
   "cell_type": "code",
   "execution_count": 34,
   "metadata": {},
   "outputs": [],
   "source": [
    "T = trainer(NN)"
   ]
  },
  {
   "cell_type": "code",
   "execution_count": 35,
   "metadata": {},
   "outputs": [
    {
     "name": "stdout",
     "output_type": "stream",
     "text": [
      "Optimization terminated successfully.\n",
      "         Current function value: 0.005918\n",
      "         Iterations: 52\n",
      "         Function evaluations: 56\n",
      "         Gradient evaluations: 56\n"
     ]
    }
   ],
   "source": [
    "T.train(X,y,testX,testY)"
   ]
  },
  {
   "cell_type": "code",
   "execution_count": 36,
   "metadata": {},
   "outputs": [
    {
     "data": {
      "image/png": "[encoded data removed]",
      "text/plain": [
       "<Figure size 432x288 with 1 Axes>"
      ]
     },
     "metadata": {
      "needs_background": "light"
     },
     "output_type": "display_data"
    }
   ],
   "source": [
    "plot.plot(T.J)\n",
    "plot.plot(T.testJ)\n",
    "plot.grid(1)\n",
    "plot.xlabel('Iterations')\n",
    "plot.ylabel('Cost')\n",
    "plot.legend(['Training', 'Testing'])\n",
    "plot.show()"
   ]
  },
  {
   "cell_type": "code",
   "execution_count": 37,
   "metadata": {},
   "outputs": [
    {
     "data": {
      "text/plain": [
       "[array([0.04587648]),\n",
       " array([0.02572574]),\n",
       " array([0.01230746]),\n",
       " array([0.01228112]),\n",
       " array([0.01227567]),\n",
       " array([0.01226729]),\n",
       " array([0.01225194]),\n",
       " array([0.01222314]),\n",
       " array([0.01216886]),\n",
       " array([0.01206717]),\n",
       " array([0.01187994]),\n",
       " array([0.0115479]),\n",
       " array([0.01100727]),\n",
       " array([0.01030652]),\n",
       " array([0.00987762]),\n",
       " array([0.009546]),\n",
       " array([0.00936291]),\n",
       " array([0.00915164]),\n",
       " array([0.00889266]),\n",
       " array([0.00883927]),\n",
       " array([0.00881924]),\n",
       " array([0.00879779]),\n",
       " array([0.00878008]),\n",
       " array([0.00864294]),\n",
       " array([0.0084052]),\n",
       " array([0.00798013]),\n",
       " array([0.00726966]),\n",
       " array([0.00646836]),\n",
       " array([0.00634635]),\n",
       " array([0.00631952]),\n",
       " array([0.00629695]),\n",
       " array([0.006267]),\n",
       " array([0.00623444]),\n",
       " array([0.00623089]),\n",
       " array([0.00623049]),\n",
       " array([0.00623034]),\n",
       " array([0.00623018]),\n",
       " array([0.00622988]),\n",
       " array([0.00622932]),\n",
       " array([0.00622824]),\n",
       " array([0.00622623]),\n",
       " array([0.00622252]),\n",
       " array([0.00621591]),\n",
       " array([0.00620467]),\n",
       " array([0.0061866]),\n",
       " array([0.00615791]),\n",
       " array([0.00611101]),\n",
       " array([0.0060367]),\n",
       " array([0.00595297]),\n",
       " array([0.00592589]),\n",
       " array([0.00591866]),\n",
       " array([0.00591832])]"
      ]
     },
     "execution_count": 37,
     "metadata": {},
     "output_type": "execute_result"
    }
   ],
   "source": [
    "T.J"
   ]
  },
  {
   "cell_type": "code",
   "execution_count": 38,
   "metadata": {},
   "outputs": [
    {
     "data": {
      "text/plain": [
       "[array([0.01317834]),\n",
       " array([0.00328004]),\n",
       " array([0.00826849]),\n",
       " array([0.00765292]),\n",
       " array([0.00744006]),\n",
       " array([0.00725091]),\n",
       " array([0.00706055]),\n",
       " array([0.00683513]),\n",
       " array([0.00653733]),\n",
       " array([0.0061211]),\n",
       " array([0.00553328]),\n",
       " array([0.00474426]),\n",
       " array([0.00386872]),\n",
       " array([0.00349101]),\n",
       " array([0.00389491]),\n",
       " array([0.00472446]),\n",
       " array([0.0053833]),\n",
       " array([0.00602082]),\n",
       " array([0.0067938]),\n",
       " array([0.00712576]),\n",
       " array([0.0068624]),\n",
       " array([0.00651274]),\n",
       " array([0.00637361]),\n",
       " array([0.00567683]),\n",
       " array([0.00503018]),\n",
       " array([0.00441507]),\n",
       " array([0.00384479]),\n",
       " array([0.00358068]),\n",
       " array([0.00349455]),\n",
       " array([0.00368354]),\n",
       " array([0.0036508]),\n",
       " array([0.00365528]),\n",
       " array([0.00371712]),\n",
       " array([0.00375504]),\n",
       " array([0.00375358]),\n",
       " array([0.00375286]),\n",
       " array([0.00375262]),\n",
       " array([0.00375241]),\n",
       " array([0.00375213]),\n",
       " array([0.00375169]),\n",
       " array([0.00375099]),\n",
       " array([0.00374994]),\n",
       " array([0.00374865]),\n",
       " array([0.003748]),\n",
       " array([0.00375058]),\n",
       " array([0.00376009]),\n",
       " array([0.00377804]),\n",
       " array([0.00380657]),\n",
       " array([0.00384145]),\n",
       " array([0.00382007]),\n",
       " array([0.00379143]),\n",
       " array([0.00378428])]"
      ]
     },
     "execution_count": 38,
     "metadata": {},
     "output_type": "execute_result"
    }
   ],
   "source": [
    "T.testJ"
   ]
  },
  {
   "cell_type": "code",
   "execution_count": 39,
   "metadata": {},
   "outputs": [
    {
     "data": {
      "text/plain": [
       "0.0043436114384743"
      ]
     },
     "execution_count": 39,
     "metadata": {},
     "output_type": "execute_result"
    }
   ],
   "source": [
    "from sklearn.metrics import mean_absolute_error\n",
    "mean_absolute_error(T.J, T.testJ)"
   ]
  },
  {
   "cell_type": "code",
   "execution_count": 40,
   "metadata": {},
   "outputs": [],
   "source": [
    "yHat=NN.forward(X)"
   ]
  },
  {
   "cell_type": "code",
   "execution_count": 41,
   "metadata": {},
   "outputs": [
    {
     "data": {
      "text/plain": [
       "array([[0.13680811],\n",
       "       [0.18728781],\n",
       "       [0.19932537],\n",
       "       [0.2141329 ],\n",
       "       [0.2545393 ],\n",
       "       [0.27804558],\n",
       "       [0.3332473 ],\n",
       "       [0.41415201],\n",
       "       [0.40060206],\n",
       "       [0.35235702],\n",
       "       [0.36251992],\n",
       "       [0.37758872],\n",
       "       [0.34221969],\n",
       "       [0.27206752],\n",
       "       [0.24140727],\n",
       "       [0.27217106],\n",
       "       [0.28477777],\n",
       "       [0.24780798],\n",
       "       [0.23271897],\n",
       "       [0.23060902],\n",
       "       [0.21296604],\n",
       "       [0.24483216],\n",
       "       [0.28452272],\n",
       "       [0.28507971],\n",
       "       [0.27760416],\n",
       "       [0.27664201],\n",
       "       [0.27191807],\n",
       "       [0.27068926],\n",
       "       [0.2688809 ],\n",
       "       [0.27243783],\n",
       "       [0.27627026],\n",
       "       [0.2717542 ],\n",
       "       [0.29700517],\n",
       "       [0.31533512],\n",
       "       [0.3189103 ],\n",
       "       [0.29971916],\n",
       "       [0.31104888],\n",
       "       [0.3467211 ],\n",
       "       [0.36312938],\n",
       "       [0.38956138],\n",
       "       [0.40163932],\n",
       "       [0.42633749],\n",
       "       [0.44707813],\n",
       "       [0.46246348],\n",
       "       [0.47595475],\n",
       "       [0.46962038],\n",
       "       [0.45246762],\n",
       "       [0.42984703],\n",
       "       [0.40681714],\n",
       "       [0.41319451],\n",
       "       [0.41660931],\n",
       "       [0.42928758],\n",
       "       [0.42944836],\n",
       "       [0.41053601],\n",
       "       [0.41571419],\n",
       "       [0.4159037 ],\n",
       "       [0.41023379],\n",
       "       [0.40701957],\n",
       "       [0.40066552],\n",
       "       [0.37320876]])"
      ]
     },
     "execution_count": 41,
     "metadata": {},
     "output_type": "execute_result"
    }
   ],
   "source": [
    "yHat"
   ]
  },
  {
   "cell_type": "code",
   "execution_count": 42,
   "metadata": {},
   "outputs": [
    {
     "data": {
      "text/plain": [
       "array([[0.14831904],\n",
       "       [0.11211342],\n",
       "       [0.17073406],\n",
       "       [0.2232566 ],\n",
       "       [0.24197469],\n",
       "       [0.36573346],\n",
       "       [0.55255899],\n",
       "       [0.37002352],\n",
       "       [0.3325317 ],\n",
       "       [0.38788752],\n",
       "       [0.39836394],\n",
       "       [0.2848263 ],\n",
       "       [0.18673502],\n",
       "       [0.18269477],\n",
       "       [0.255617  ],\n",
       "       [0.23597043],\n",
       "       [0.16413413],\n",
       "       [0.17817663],\n",
       "       [0.1639561 ],\n",
       "       [0.13324148],\n",
       "       [0.22639902],\n",
       "       [0.25501386],\n",
       "       [0.23708614],\n",
       "       [0.23165112],\n",
       "       [0.23306761],\n",
       "       [0.22117372],\n",
       "       [0.22633168],\n",
       "       [0.21869864],\n",
       "       [0.2320322 ],\n",
       "       [0.23194795],\n",
       "       [0.22154782],\n",
       "       [0.28795858],\n",
       "       [0.28837327],\n",
       "       [0.29714576],\n",
       "       [0.24366982],\n",
       "       [0.30743731],\n",
       "       [0.35859786],\n",
       "       [0.37218122],\n",
       "       [0.45025948],\n",
       "       [0.44309563],\n",
       "       [0.55815598],\n",
       "       [0.60235983],\n",
       "       [0.69629172],\n",
       "       [0.79060467],\n",
       "       [0.64402223],\n",
       "       [0.58322864],\n",
       "       [0.48171501],\n",
       "       [0.44281211],\n",
       "       [0.49627058],\n",
       "       [0.47546339],\n",
       "       [0.55155979],\n",
       "       [0.50099435],\n",
       "       [0.44545859],\n",
       "       [0.50571167],\n",
       "       [0.46588904],\n",
       "       [0.46785659],\n",
       "       [0.45300142],\n",
       "       [0.43741172],\n",
       "       [0.3506737 ],\n",
       "       [0.36403131]])"
      ]
     },
     "execution_count": 42,
     "metadata": {},
     "output_type": "execute_result"
    }
   ],
   "source": [
    "y"
   ]
  },
  {
   "cell_type": "code",
   "execution_count": 43,
   "metadata": {},
   "outputs": [
    {
     "data": {
      "text/plain": [
       "0.008519496621375548"
      ]
     },
     "execution_count": 43,
     "metadata": {},
     "output_type": "execute_result"
    }
   ],
   "source": [
    "from sklearn.metrics import mean_squared_error \n",
    "mean_squared_error(y,yHat) "
   ]
  },
  {
   "cell_type": "code",
   "execution_count": 44,
   "metadata": {},
   "outputs": [
    {
     "data": {
      "image/png": "[encoded data removed]",
      "text/plain": [
       "<Figure size 432x288 with 1 Axes>"
      ]
     },
     "metadata": {
      "needs_background": "light"
     },
     "output_type": "display_data"
    }
   ],
   "source": [
    "#Plot cost during training:\n",
    "plot.plot(y)\n",
    "plot.plot(yHat)\n",
    "plot.grid(1)\n",
    "plot.legend(['y', 'yHat'])\n",
    "plot.show()"
   ]
  },
  {
   "cell_type": "code",
   "execution_count": 45,
   "metadata": {},
   "outputs": [],
   "source": [
    "prediksi=NN.forward(dataprediksi)"
   ]
  },
  {
   "cell_type": "code",
   "execution_count": 46,
   "metadata": {},
   "outputs": [
    {
     "data": {
      "text/plain": [
       "array([[0.3586533 ],\n",
       "       [0.45533741],\n",
       "       [0.48908841],\n",
       "       [0.48307489]])"
      ]
     },
     "execution_count": 46,
     "metadata": {},
     "output_type": "execute_result"
    }
   ],
   "source": [
    "prediksi"
   ]
  },
  {
   "cell_type": "code",
   "execution_count": 47,
   "metadata": {},
   "outputs": [],
   "source": [
    "from sklearn.metrics import mean_squared_error "
   ]
  },
  {
   "cell_type": "code",
   "execution_count": 48,
   "metadata": {},
   "outputs": [
    {
     "data": {
      "text/plain": [
       "0.13381131145544314"
      ]
     },
     "execution_count": 48,
     "metadata": {},
     "output_type": "execute_result"
    }
   ],
   "source": [
    "Y_true= ([\t0.795380412\t]\t,\n",
    "[\t1\t]\t,\n",
    "[\t0.707681705\t]\t,\n",
    "[\t0.491695324\t]\t,\n",
    "\n",
    ")\n",
    "\n",
    "\n",
    "Y_pred=prediksi\n",
    "mean_squared_error(Y_true,Y_pred) "
   ]
  },
  {
   "cell_type": "code",
   "execution_count": 49,
   "metadata": {},
   "outputs": [
    {
     "data": {
      "text/plain": [
       "array([[0.3506737 , 0.36403131],\n",
       "       [0.36403131, 0.79538041],\n",
       "       [0.79538041, 1.        ],\n",
       "       [1.        , 0.70768171]])"
      ]
     },
     "execution_count": 49,
     "metadata": {},
     "output_type": "execute_result"
    }
   ],
   "source": [
    "dataprediksi"
   ]
  },
  {
   "cell_type": "code",
   "execution_count": 50,
   "metadata": {},
   "outputs": [],
   "source": [
    "a=np.array([\t0.707681705\t,\t0.491695324\t])"
   ]
  },
  {
   "cell_type": "code",
   "execution_count": 51,
   "metadata": {},
   "outputs": [
    {
     "data": {
      "text/plain": [
       "array([0.44566996])"
      ]
     },
     "execution_count": 51,
     "metadata": {},
     "output_type": "execute_result"
    }
   ],
   "source": [
    "#prediksi 1\n",
    "prediksi=NN.forward(a)\n",
    "prediksi"
   ]
  },
  {
   "cell_type": "code",
   "execution_count": 52,
   "metadata": {},
   "outputs": [
    {
     "data": {
      "text/plain": [
       "array([0.40911098])"
      ]
     },
     "execution_count": 52,
     "metadata": {},
     "output_type": "execute_result"
    }
   ],
   "source": [
    "#prediksi 2\n",
    "c=prediksi\n",
    "b=a[1:]\n",
    "d=np.concatenate((b,c))\n",
    "prediksi=NN.forward(d)\n",
    "prediksi"
   ]
  },
  {
   "cell_type": "code",
   "execution_count": 53,
   "metadata": {},
   "outputs": [
    {
     "data": {
      "text/plain": [
       "array([0.39188109])"
      ]
     },
     "execution_count": 53,
     "metadata": {},
     "output_type": "execute_result"
    }
   ],
   "source": [
    "#prediksi 3\n",
    "c=prediksi\n",
    "b=d[1:]\n",
    "e=np.concatenate((b,c))\n",
    "prediksi=NN.forward(e)\n",
    "prediksi"
   ]
  },
  {
   "cell_type": "code",
   "execution_count": 54,
   "metadata": {},
   "outputs": [
    {
     "data": {
      "text/plain": [
       "array([0.37993142])"
      ]
     },
     "execution_count": 54,
     "metadata": {},
     "output_type": "execute_result"
    }
   ],
   "source": [
    "#prediksi 4\n",
    "c=prediksi\n",
    "b=e[1:]\n",
    "f=np.concatenate((b,c))\n",
    "prediksi=NN.forward(f)\n",
    "prediksi"
   ]
  },
  {
   "cell_type": "code",
   "execution_count": 55,
   "metadata": {},
   "outputs": [
    {
     "data": {
      "text/plain": [
       "array([0.37276799])"
      ]
     },
     "execution_count": 55,
     "metadata": {},
     "output_type": "execute_result"
    }
   ],
   "source": [
    "#prediksi 5\n",
    "c=prediksi\n",
    "b=f[1:]\n",
    "g=np.concatenate((b,c))\n",
    "prediksi=NN.forward(g)\n",
    "prediksi"
   ]
  },
  {
   "cell_type": "code",
   "execution_count": 56,
   "metadata": {},
   "outputs": [
    {
     "data": {
      "text/plain": [
       "array([0.36797289])"
      ]
     },
     "execution_count": 56,
     "metadata": {},
     "output_type": "execute_result"
    }
   ],
   "source": [
    "#prediksi 6\n",
    "c=prediksi\n",
    "b=g[1:]\n",
    "h=np.concatenate((b,c))\n",
    "prediksi=NN.forward(h)\n",
    "prediksi"
   ]
  },
  {
   "cell_type": "code",
   "execution_count": 57,
   "metadata": {},
   "outputs": [
    {
     "data": {
      "text/plain": [
       "array([0.36643421])"
      ]
     },
     "execution_count": 57,
     "metadata": {},
     "output_type": "execute_result"
    }
   ],
   "source": [
    "#prediksi 7\n",
    "c=prediksi\n",
    "b=g[1:]\n",
    "i=np.concatenate((b,c))\n",
    "prediksi=NN.forward(i)\n",
    "prediksi"
   ]
  },
  {
   "cell_type": "code",
   "execution_count": 58,
   "metadata": {},
   "outputs": [
    {
     "data": {
      "text/plain": [
       "array([0.36593766])"
      ]
     },
     "execution_count": 58,
     "metadata": {},
     "output_type": "execute_result"
    }
   ],
   "source": [
    "#prediksi 8\n",
    "c=prediksi\n",
    "b=g[1:]\n",
    "j=np.concatenate((b,c))\n",
    "prediksi=NN.forward(j)\n",
    "prediksi"
   ]
  },
  {
   "cell_type": "code",
   "execution_count": 59,
   "metadata": {},
   "outputs": [
    {
     "data": {
      "text/plain": [
       "array([0.36577713])"
      ]
     },
     "execution_count": 59,
     "metadata": {},
     "output_type": "execute_result"
    }
   ],
   "source": [
    "#prediksi 9\n",
    "c=prediksi\n",
    "b=g[1:]\n",
    "k=np.concatenate((b,c))\n",
    "prediksi=NN.forward(k)\n",
    "prediksi"
   ]
  },
  {
   "cell_type": "code",
   "execution_count": 60,
   "metadata": {},
   "outputs": [
    {
     "data": {
      "text/plain": [
       "array([0.36572521])"
      ]
     },
     "execution_count": 60,
     "metadata": {},
     "output_type": "execute_result"
    }
   ],
   "source": [
    "#prediksi 10\n",
    "c=prediksi\n",
    "b=g[1:]\n",
    "l=np.concatenate((b,c))\n",
    "prediksi=NN.forward(l)\n",
    "prediksi"
   ]
  },
  {
   "cell_type": "code",
   "execution_count": 61,
   "metadata": {},
   "outputs": [
    {
     "data": {
      "text/plain": [
       "array([0.36570841])"
      ]
     },
     "execution_count": 61,
     "metadata": {},
     "output_type": "execute_result"
    }
   ],
   "source": [
    "#prediksi 11\n",
    "c=prediksi\n",
    "b=g[1:]\n",
    "m=np.concatenate((b,c))\n",
    "prediksi=NN.forward(m)\n",
    "prediksi"
   ]
  },
  {
   "cell_type": "code",
   "execution_count": 62,
   "metadata": {},
   "outputs": [
    {
     "data": {
      "text/plain": [
       "array([0.36570297])"
      ]
     },
     "execution_count": 62,
     "metadata": {},
     "output_type": "execute_result"
    }
   ],
   "source": [
    "#prediksi 12\n",
    "c=prediksi\n",
    "b=g[1:]\n",
    "n=np.concatenate((b,c))\n",
    "prediksi=NN.forward(n)\n",
    "prediksi"
   ]
  },
  {
   "cell_type": "code",
   "execution_count": null,
   "metadata": {},
   "outputs": [],
   "source": []
  }
 ],
 "metadata": {
  "kernelspec": {
   "display_name": "Python 3",
   "language": "python",
   "name": "python3"
  },
  "language_info": {
   "codemirror_mode": {
    "name": "ipython",
    "version": 3
   },
   "file_extension": ".py",
   "mimetype": "text/x-python",
   "name": "python",
   "nbconvert_exporter": "python",
   "pygments_lexer": "ipython3",
   "version": "3.7.3"
  }
 },
 "nbformat": 4,
 "nbformat_minor": 2
}
