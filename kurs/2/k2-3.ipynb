{
 "cells": [
  {
   "cell_type": "code",
   "execution_count": 1,
   "metadata": {},
   "outputs": [],
   "source": [
    "import numpy as np"
   ]
  },
  {
   "cell_type": "code",
   "execution_count": 2,
   "metadata": {},
   "outputs": [],
   "source": [
    "#UNTUK NILAI IMPOR\n",
    "class Neural_Network(object):\n",
    "    def __init__(self):\n",
    "        #parameters\n",
    "        self.inputLayerSize = 2\n",
    "        self.outputLayerSize = 1\n",
    "        self.hiddenLayerSize = 3\n",
    "\n",
    "        #weights\n",
    "        self.W1 = np.random.randn(self.inputLayerSize,\\\n",
    "                                 self.hiddenLayerSize)  \n",
    "        self.W2 = np.random.randn(self.hiddenLayerSize,\\\n",
    "                                 self.outputLayerSize)  \n",
    "    \n",
    "    def printw(self):\n",
    "        return self.W1\n",
    "        \n",
    "    def weight(self, W1, W2):\n",
    "        #Make an internal variable for the weight:\n",
    "        self.W1 = W1\n",
    "        self.W2 = W2\n",
    "        \n",
    "    def forward(self, X):\n",
    "        #forward propagation through our network\n",
    "        self.z2 = np.dot(X,self.W1)  \n",
    "        self.a2 = self.sigmoid(self.z2)  # activation function\n",
    "        self.z3 = np.dot(self.a2, self.W2) \n",
    "        yHat = self.sigmoid(self.z3)  # final activation function\n",
    "        return yHat\n",
    "\n",
    "    def sigmoid(self, z):\n",
    "        # activation function\n",
    "        return 1 / (1 + np.exp(-z))\n",
    "    \n",
    "    def sigmoidPrime(self,z): \n",
    "        #derivative of sigmoid     \n",
    "        return np.exp(-z)/((1+np.exp(-z))**2)\n",
    "    \n",
    "    def costFunction(self,X,y):\n",
    "        self.yHat = self.forward(X)\n",
    "        J=0.5*sum((y-self.yHat)**2)\n",
    "        return J\n",
    "    \n",
    "    def costFunctionPrime(self,X,y):\n",
    "        self.yHat=self.forward(X)\n",
    "        \n",
    "        delta3=np.multiply(-(y-self.yHat),self.sigmoidPrime(self.z3))\n",
    "        dJdW2=np.dot(self.a2.T,delta3)\n",
    "        \n",
    "        delta2=np.dot(delta3,self.W2.T)*self.sigmoidPrime(self.z2)\n",
    "        dJdW1=np.dot(X.T,delta2)\n",
    "        return dJdW1,dJdW2\n",
    "    \n",
    "    def predict(self):\n",
    "        prediksi = self.forward(dataprediksi)\n",
    "        return prediksi\n",
    "    \n",
    "    def getParams(self):\n",
    "        params=np.concatenate((self.W1.ravel(),self.W2.ravel()))\n",
    "        return params\n",
    "    \n",
    "    def setParams(self,params):\n",
    "        W1_start=0\n",
    "        W1_end=self.hiddenLayerSize*self.inputLayerSize\n",
    "        self.W1=np.reshape(params[W1_start:W1_end],\\\n",
    "                          (self.inputLayerSize,self.hiddenLayerSize))\n",
    "        W2_end=W1_end+self.hiddenLayerSize*self.outputLayerSize\n",
    "        self.W2=np.reshape(params[W1_end:W2_end],\\\n",
    "                          (self.hiddenLayerSize,self.outputLayerSize))\n",
    "        \n",
    "    def computeGradients(self, X, y):\n",
    "        dJdW1, dJdW2 = self.costFunctionPrime(X, y)\n",
    "        return np.concatenate((dJdW1.ravel(), dJdW2.ravel()))"
   ]
  },
  {
   "cell_type": "code",
   "execution_count": 3,
   "metadata": {},
   "outputs": [],
   "source": [
    "NN = Neural_Network()"
   ]
  },
  {
   "cell_type": "code",
   "execution_count": 4,
   "metadata": {},
   "outputs": [
    {
     "data": {
      "text/plain": [
       "array([[ 1.34735544,  1.32753428, -1.65147122],\n",
       "       [ 0.79610794,  1.94132022, -1.67049495]])"
      ]
     },
     "execution_count": 4,
     "metadata": {},
     "output_type": "execute_result"
    }
   ],
   "source": [
    "NN.W1"
   ]
  },
  {
   "cell_type": "code",
   "execution_count": 5,
   "metadata": {},
   "outputs": [
    {
     "data": {
      "text/plain": [
       "array([[-0.54436295],\n",
       "       [ 1.47892791],\n",
       "       [-0.26166653]])"
      ]
     },
     "execution_count": 5,
     "metadata": {},
     "output_type": "execute_result"
    }
   ],
   "source": [
    "NN.W2"
   ]
  },
  {
   "cell_type": "code",
   "execution_count": 6,
   "metadata": {},
   "outputs": [],
   "source": [
    "#KURS\n",
    "X=np.array(([\t0\t,\t0.051924996\t]\t,\n",
    "[\t0.051924996\t,\t0.148319042\t]\t,\n",
    "[\t0.148319042\t,\t0.112113419\t]\t,\n",
    "[\t0.112113419\t,\t0.170734062\t]\t,\n",
    "[\t0.170734062\t,\t0.223256598\t]\t,\n",
    "[\t0.223256598\t,\t0.241974687\t]\t,\n",
    "[\t0.241974687\t,\t0.365733465\t]\t,\n",
    "[\t0.365733465\t,\t0.552558994\t]\t,\n",
    "[\t0.552558994\t,\t0.370023519\t]\t,\n",
    "[\t0.370023519\t,\t0.332531703\t]\t,\n",
    "[\t0.332531703\t,\t0.387887522\t]\t,\n",
    "[\t0.387887522\t,\t0.398363943\t]\t,\n",
    "[\t0.398363943\t,\t0.284826299\t]\t,\n",
    "[\t0.284826299\t,\t0.186735022\t]\t,\n",
    "[\t0.186735022\t,\t0.182694768\t]\t,\n",
    "[\t0.182694768\t,\t0.255617002\t]\t,\n",
    "[\t0.255617002\t,\t0.23597043\t]\t,\n",
    "[\t0.23597043\t,\t0.164134134\t]\t,\n",
    "[\t0.164134134\t,\t0.178176635\t]\t,\n",
    "[\t0.178176635\t,\t0.163956101\t]\t,\n",
    "[\t0.163956101\t,\t0.133241484\t]\t,\n",
    "[\t0.133241484\t,\t0.226399017\t]\t,\n",
    "[\t0.226399017\t,\t0.255013861\t]\t,\n",
    "[\t0.255013861\t,\t0.23708614\t]\t,\n",
    "[\t0.23708614\t,\t0.231651119\t]\t,\n",
    "[\t0.231651119\t,\t0.233067608\t]\t,\n",
    "[\t0.233067608\t,\t0.221173719\t]\t,\n",
    "[\t0.221173719\t,\t0.22633168\t]\t,\n",
    "[\t0.22633168\t,\t0.218698642\t]\t,\n",
    "[\t0.218698642\t,\t0.232032203\t]\t,\n",
    "[\t0.232032203\t,\t0.231947948\t]\t,\n",
    "[\t0.231947948\t,\t0.221547817\t]\t,\n",
    "[\t0.221547817\t,\t0.287958581\t]\t,\n",
    "[\t0.287958581\t,\t0.28837327\t]\t,\n",
    "[\t0.28837327\t,\t0.297145757\t]\t,\n",
    "[\t0.297145757\t,\t0.243669818\t]\t,\n",
    "[\t0.243669818\t,\t0.307437314\t]\t,\n",
    "[\t0.307437314\t,\t0.358597855\t]\t,\n",
    "[\t0.358597855\t,\t0.372181217\t]\t,\n",
    "[\t0.372181217\t,\t0.450259481\t]\t,\n",
    "[\t0.450259481\t,\t0.443095634\t]\t,\n",
    "[\t0.443095634\t,\t0.558155976\t]\t,\n",
    "[\t0.558155976\t,\t0.602359827\t]\t,\n",
    "[\t0.602359827\t,\t0.696291723\t]\t,\n",
    "[\t0.696291723\t,\t0.790604671\t]\t,\n",
    "[\t0.790604671\t,\t0.644022227\t]\t,\n",
    "[\t0.644022227\t,\t0.583228643\t]\t,\n",
    "[\t0.583228643\t,\t0.481715009\t]\t,\n",
    "[\t0.481715009\t,\t0.442812107\t]\t,\n",
    "[\t0.442812107\t,\t0.496270585\t]\t,\n",
    "[\t0.496270585\t,\t0.475463393\t]\t,\n",
    "[\t0.475463393\t,\t0.551559791\t]\t,\n",
    "[\t0.551559791\t,\t0.500994351\t]\t,\n",
    "[\t0.500994351\t,\t0.445458587\t]\t,\n",
    "[\t0.445458587\t,\t0.505711667\t]\t,\n",
    "[\t0.505711667\t,\t0.465889036\t]\t,\n",
    "[\t0.465889036\t,\t0.46785659\t]\t,\n",
    "[\t0.46785659\t,\t0.453001423\t]\t,\n",
    "[\t0.453001423\t,\t0.437411724\t]\t,\n",
    "[\t0.437411724\t,\t0.350673696\t]\t,\n",
    "\n",
    ")           \n",
    ",dtype=float)\n",
    "y=np.array((\n",
    "[\t0.148319042\t]\t,\n",
    "[\t0.112113419\t]\t,\n",
    "[\t0.170734062\t]\t,\n",
    "[\t0.223256598\t]\t,\n",
    "[\t0.241974687\t]\t,\n",
    "[\t0.365733465\t]\t,\n",
    "[\t0.552558994\t]\t,\n",
    "[\t0.370023519\t]\t,\n",
    "[\t0.332531703\t]\t,\n",
    "[\t0.387887522\t]\t,\n",
    "[\t0.398363943\t]\t,\n",
    "[\t0.284826299\t]\t,\n",
    "[\t0.186735022\t]\t,\n",
    "[\t0.182694768\t]\t,\n",
    "[\t0.255617002\t]\t,\n",
    "[\t0.23597043\t]\t,\n",
    "[\t0.164134134\t]\t,\n",
    "[\t0.178176635\t]\t,\n",
    "[\t0.163956101\t]\t,\n",
    "[\t0.133241484\t]\t,\n",
    "[\t0.226399017\t]\t,\n",
    "[\t0.255013861\t]\t,\n",
    "[\t0.23708614\t]\t,\n",
    "[\t0.231651119\t]\t,\n",
    "[\t0.233067608\t]\t,\n",
    "[\t0.221173719\t]\t,\n",
    "[\t0.22633168\t]\t,\n",
    "[\t0.218698642\t]\t,\n",
    "[\t0.232032203\t]\t,\n",
    "[\t0.231947948\t]\t,\n",
    "[\t0.221547817\t]\t,\n",
    "[\t0.287958581\t]\t,\n",
    "[\t0.28837327\t]\t,\n",
    "[\t0.297145757\t]\t,\n",
    "[\t0.243669818\t]\t,\n",
    "[\t0.307437314\t]\t,\n",
    "[\t0.358597855\t]\t,\n",
    "[\t0.372181217\t]\t,\n",
    "[\t0.450259481\t]\t,\n",
    "[\t0.443095634\t]\t,\n",
    "[\t0.558155976\t]\t,\n",
    "[\t0.602359827\t]\t,\n",
    "[\t0.696291723\t]\t,\n",
    "[\t0.790604671\t]\t,\n",
    "[\t0.644022227\t]\t,\n",
    "[\t0.583228643\t]\t,\n",
    "[\t0.481715009\t]\t,\n",
    "[\t0.442812107\t]\t,\n",
    "[\t0.496270585\t]\t,\n",
    "[\t0.475463393\t]\t,\n",
    "[\t0.551559791\t]\t,\n",
    "[\t0.500994351\t]\t,\n",
    "[\t0.445458587\t]\t,\n",
    "[\t0.505711667\t]\t,\n",
    "[\t0.465889036\t]\t,\n",
    "[\t0.46785659\t]\t,\n",
    "[\t0.453001423\t]\t,\n",
    "[\t0.437411724\t]\t,\n",
    "[\t0.350673696\t]\t,\n",
    "[\t0.364031312\t]\t,\n",
    "\n",
    ")\n",
    ",dtype=float)\n",
    "\n",
    "dataprediksi = np.array(([\t0.350673696\t,\t0.364031312\t]\t,\n",
    "[\t0.364031312\t,\t0.795380412\t]\t,\n",
    "[\t0.795380412\t,\t1\t]\t,\n",
    "[\t1\t,\t0.707681705\t]\t,\n",
    "\n",
    "\n",
    "), dtype=float)\n"
   ]
  },
  {
   "cell_type": "code",
   "execution_count": 7,
   "metadata": {},
   "outputs": [],
   "source": [
    "import matplotlib.pyplot as plot"
   ]
  },
  {
   "cell_type": "code",
   "execution_count": 8,
   "metadata": {},
   "outputs": [],
   "source": [
    "from scipy import optimize"
   ]
  },
  {
   "cell_type": "code",
   "execution_count": 9,
   "metadata": {},
   "outputs": [],
   "source": [
    "class trainer(object):\n",
    "    def __init__(self, N):\n",
    "        #Make Local reference to network:\n",
    "        self.N = N\n",
    "        \n",
    "    def callbackF(self, params):\n",
    "        self.N.setParams(params)\n",
    "        self.J.append(self.N.costFunction(self.X, self.y))   \n",
    "        \n",
    "    def costFunctionWrapper(self, params, X, y):\n",
    "        self.N.setParams(params)\n",
    "        cost = self.N.costFunction(X, y)\n",
    "        grad = self.N.computeGradients(X,y)\n",
    "        \n",
    "        return cost, grad\n",
    "        \n",
    "    def train(self, X, y):\n",
    "        #Make an internal variable for the callback function:\n",
    "        self.X = X\n",
    "        self.y = y\n",
    "\n",
    "        #Make empty list to store costs:\n",
    "        self.J = []\n",
    "        \n",
    "        params0 = self.N.getParams()\n",
    "\n",
    "        options = {'maxiter': 100, 'disp' : True}\n",
    "        _res = optimize.minimize(self.costFunctionWrapper, params0, jac=True, method='BFGS', \\\n",
    "                                 args=(X, y), options=options, callback=self.callbackF)\n",
    "\n",
    "        self.N.setParams(_res.x)\n",
    "        self.optimizationResults = _res"
   ]
  },
  {
   "cell_type": "code",
   "execution_count": 10,
   "metadata": {},
   "outputs": [],
   "source": [
    "NN=Neural_Network()"
   ]
  },
  {
   "cell_type": "code",
   "execution_count": 11,
   "metadata": {},
   "outputs": [],
   "source": [
    "T = trainer(NN)"
   ]
  },
  {
   "cell_type": "code",
   "execution_count": 12,
   "metadata": {},
   "outputs": [
    {
     "name": "stdout",
     "output_type": "stream",
     "text": [
      "Warning: Maximum number of iterations has been exceeded.\n",
      "         Current function value: 0.109962\n",
      "         Iterations: 100\n",
      "         Function evaluations: 107\n",
      "         Gradient evaluations: 107\n"
     ]
    }
   ],
   "source": [
    "#Train network with new data:\n",
    "T = trainer(NN)\n",
    "T.train(X,y)"
   ]
  },
  {
   "cell_type": "code",
   "execution_count": 13,
   "metadata": {},
   "outputs": [
    {
     "data": {
      "image/png": "[encoded data removed]",
      "text/plain": [
       "<Figure size 432x288 with 1 Axes>"
      ]
     },
     "metadata": {
      "needs_background": "light"
     },
     "output_type": "display_data"
    }
   ],
   "source": [
    "#Plot cost during training:\n",
    "plot.plot(T.J)\n",
    "plot.grid(1)\n",
    "plot.xlabel('Iterations')\n",
    "plot.ylabel('Cost')\n",
    "plot.show()"
   ]
  },
  {
   "cell_type": "code",
   "execution_count": 14,
   "metadata": {},
   "outputs": [],
   "source": [
    "#Training Data:\n",
    "trainX = np.array(([\t0\t,\t0.051924996\t]\t,\n",
    "[\t0.051924996\t,\t0.148319042\t]\t,\n",
    "[\t0.148319042\t,\t0.112113419\t]\t,\n",
    "[\t0.112113419\t,\t0.170734062\t]\t,\n",
    "[\t0.170734062\t,\t0.223256598\t]\t,\n",
    "[\t0.223256598\t,\t0.241974687\t]\t,\n",
    "[\t0.241974687\t,\t0.365733465\t]\t,\n",
    "[\t0.365733465\t,\t0.552558994\t]\t,\n",
    "[\t0.552558994\t,\t0.370023519\t]\t,\n",
    "[\t0.370023519\t,\t0.332531703\t]\t,\n",
    "[\t0.332531703\t,\t0.387887522\t]\t,\n",
    "[\t0.387887522\t,\t0.398363943\t]\t,\n",
    "[\t0.398363943\t,\t0.284826299\t]\t,\n",
    "[\t0.284826299\t,\t0.186735022\t]\t,\n",
    "[\t0.186735022\t,\t0.182694768\t]\t,\n",
    "[\t0.182694768\t,\t0.255617002\t]\t,\n",
    "[\t0.255617002\t,\t0.23597043\t]\t,\n",
    "[\t0.23597043\t,\t0.164134134\t]\t,\n",
    "[\t0.164134134\t,\t0.178176635\t]\t,\n",
    "[\t0.178176635\t,\t0.163956101\t]\t,\n",
    "[\t0.163956101\t,\t0.133241484\t]\t,\n",
    "[\t0.133241484\t,\t0.226399017\t]\t,\n",
    "[\t0.226399017\t,\t0.255013861\t]\t,\n",
    "[\t0.255013861\t,\t0.23708614\t]\t,\n",
    "[\t0.23708614\t,\t0.231651119\t]\t,\n",
    "[\t0.231651119\t,\t0.233067608\t]\t,\n",
    "[\t0.233067608\t,\t0.221173719\t]\t,\n",
    "[\t0.221173719\t,\t0.22633168\t]\t,\n",
    "[\t0.22633168\t,\t0.218698642\t]\t,\n",
    "[\t0.218698642\t,\t0.232032203\t]\t,\n",
    "[\t0.232032203\t,\t0.231947948\t]\t,\n",
    "[\t0.231947948\t,\t0.221547817\t]\t,\n",
    "[\t0.221547817\t,\t0.287958581\t]\t,\n",
    "[\t0.287958581\t,\t0.28837327\t]\t,\n",
    "[\t0.28837327\t,\t0.297145757\t]\t,\n",
    "[\t0.297145757\t,\t0.243669818\t]\t,\n",
    "[\t0.243669818\t,\t0.307437314\t]\t,\n",
    "[\t0.307437314\t,\t0.358597855\t]\t,\n",
    "[\t0.358597855\t,\t0.372181217\t]\t,\n",
    "[\t0.372181217\t,\t0.450259481\t]\t,\n",
    "[\t0.450259481\t,\t0.443095634\t]\t,\n",
    "[\t0.443095634\t,\t0.558155976\t]\t,\n",
    "[\t0.558155976\t,\t0.602359827\t]\t,\n",
    "[\t0.602359827\t,\t0.696291723\t]\t,\n",
    "[\t0.696291723\t,\t0.790604671\t]\t,\n",
    "[\t0.790604671\t,\t0.644022227\t]\t,\n",
    "[\t0.644022227\t,\t0.583228643\t]\t,\n",
    "\n",
    ")\n",
    ", dtype=float)\n",
    "trainY = np.array((\n",
    "[\t0.148319042\t]\t,\n",
    "[\t0.112113419\t]\t,\n",
    "[\t0.170734062\t]\t,\n",
    "[\t0.223256598\t]\t,\n",
    "[\t0.241974687\t]\t,\n",
    "[\t0.365733465\t]\t,\n",
    "[\t0.552558994\t]\t,\n",
    "[\t0.370023519\t]\t,\n",
    "[\t0.332531703\t]\t,\n",
    "[\t0.387887522\t]\t,\n",
    "[\t0.398363943\t]\t,\n",
    "[\t0.284826299\t]\t,\n",
    "[\t0.186735022\t]\t,\n",
    "[\t0.182694768\t]\t,\n",
    "[\t0.255617002\t]\t,\n",
    "[\t0.23597043\t]\t,\n",
    "[\t0.164134134\t]\t,\n",
    "[\t0.178176635\t]\t,\n",
    "[\t0.163956101\t]\t,\n",
    "[\t0.133241484\t]\t,\n",
    "[\t0.226399017\t]\t,\n",
    "[\t0.255013861\t]\t,\n",
    "[\t0.23708614\t]\t,\n",
    "[\t0.231651119\t]\t,\n",
    "[\t0.233067608\t]\t,\n",
    "[\t0.221173719\t]\t,\n",
    "[\t0.22633168\t]\t,\n",
    "[\t0.218698642\t]\t,\n",
    "[\t0.232032203\t]\t,\n",
    "[\t0.231947948\t]\t,\n",
    "[\t0.221547817\t]\t,\n",
    "[\t0.287958581\t]\t,\n",
    "[\t0.28837327\t]\t,\n",
    "[\t0.297145757\t]\t,\n",
    "[\t0.243669818\t]\t,\n",
    "[\t0.307437314\t]\t,\n",
    "[\t0.358597855\t]\t,\n",
    "[\t0.372181217\t]\t,\n",
    "[\t0.450259481\t]\t,\n",
    "[\t0.443095634\t]\t,\n",
    "[\t0.558155976\t]\t,\n",
    "[\t0.602359827\t]\t,\n",
    "[\t0.696291723\t]\t,\n",
    "[\t0.790604671\t]\t,\n",
    "[\t0.644022227\t]\t,\n",
    "[\t0.583228643\t]\t,\n",
    "[\t0.481715009\t]\t,\n",
    "\n",
    "\n",
    ")\n",
    ", dtype=float)\n",
    "\n",
    "#Testing Data:\n",
    "testX = np.array(([\t0.583228643\t,\t0.481715009\t]\t,\n",
    "[\t0.481715009\t,\t0.442812107\t]\t,\n",
    "[\t0.442812107\t,\t0.496270585\t]\t,\n",
    "[\t0.496270585\t,\t0.475463393\t]\t,\n",
    "[\t0.475463393\t,\t0.551559791\t]\t,\n",
    "[\t0.551559791\t,\t0.500994351\t]\t,\n",
    "[\t0.500994351\t,\t0.445458587\t]\t,\n",
    "[\t0.445458587\t,\t0.505711667\t]\t,\n",
    "[\t0.505711667\t,\t0.465889036\t]\t,\n",
    "[\t0.465889036\t,\t0.46785659\t]\t,\n",
    "[\t0.46785659\t,\t0.453001423\t]\t,\n",
    "[\t0.453001423\t,\t0.437411724\t]\t,\n",
    "[\t0.437411724\t,\t0.350673696\t]\t,\n",
    "\n",
    ")\n",
    ", dtype=float)\n",
    "testY = np.array(([\t0.442812107\t]\t,\n",
    "[\t0.496270585\t]\t,\n",
    "[\t0.475463393\t]\t,\n",
    "[\t0.551559791\t]\t,\n",
    "[\t0.500994351\t]\t,\n",
    "[\t0.445458587\t]\t,\n",
    "[\t0.505711667\t]\t,\n",
    "[\t0.465889036\t]\t,\n",
    "[\t0.46785659\t]\t,\n",
    "[\t0.453001423\t]\t,\n",
    "[\t0.437411724\t]\t,\n",
    "[\t0.350673696\t]\t,\n",
    "[\t0.364031312\t]\t,\n",
    "\n",
    ")\n",
    ", dtype=float)\n",
    "\n",
    "\n",
    "dataprediksi = np.array(([\t0.350673696\t,\t0.364031312\t]\t,\n",
    "[\t0.364031312\t,\t0.795380412\t]\t,\n",
    "[\t0.795380412\t,\t1\t]\t,\n",
    "[\t1\t,\t0.707681705\t]\t,\n",
    "\n",
    "\n",
    "), dtype=float)"
   ]
  },
  {
   "cell_type": "code",
   "execution_count": 15,
   "metadata": {},
   "outputs": [
    {
     "data": {
      "text/plain": [
       "array([[0.58322864, 0.48171501],\n",
       "       [0.48171501, 0.44281211],\n",
       "       [0.44281211, 0.49627058],\n",
       "       [0.49627058, 0.47546339],\n",
       "       [0.47546339, 0.55155979],\n",
       "       [0.55155979, 0.50099435],\n",
       "       [0.50099435, 0.44545859],\n",
       "       [0.44545859, 0.50571167],\n",
       "       [0.50571167, 0.46588904],\n",
       "       [0.46588904, 0.46785659],\n",
       "       [0.46785659, 0.45300142],\n",
       "       [0.45300142, 0.43741172],\n",
       "       [0.43741172, 0.3506737 ]])"
      ]
     },
     "execution_count": 15,
     "metadata": {},
     "output_type": "execute_result"
    }
   ],
   "source": [
    "testX"
   ]
  },
  {
   "cell_type": "code",
   "execution_count": 16,
   "metadata": {},
   "outputs": [],
   "source": [
    "##Need to modify trainer class a bit to check testing error during training:\n",
    "class trainer(object):\n",
    "    def __init__(self, N):\n",
    "        #Make Local reference to network:\n",
    "        self.N = N\n",
    "        \n",
    "    def callbackF(self, params):\n",
    "        self.N.setParams(params)\n",
    "        self.J.append(self.N.costFunction(self.X, self.y))\n",
    "        self.testJ.append(self.N.costFunction(self.testX, self.testY))\n",
    "        \n",
    "    def costFunctionWrapper(self, params, X, y):\n",
    "        self.N.setParams(params)\n",
    "        cost = self.N.costFunction(X, y)\n",
    "        grad = self.N.computeGradients(X,y)\n",
    "        \n",
    "        return cost, grad\n",
    "        \n",
    "    def train(self, trainX, trainY, testX, testY):\n",
    "        #Make an internal variable for the callback function:\n",
    "        self.X = trainX\n",
    "        self.y = trainY\n",
    "        \n",
    "        self.testX = testX\n",
    "        self.testY = testY\n",
    "\n",
    "        #Make empty list to store training costs:\n",
    "        self.J = []\n",
    "        self.testJ = []\n",
    "        \n",
    "        params0 = self.N.getParams()\n",
    "\n",
    "        options = {'maxiter': 100, 'disp' : True}\n",
    "        _res = optimize.minimize(self.costFunctionWrapper, params0, jac=True, method='BFGS', \\\n",
    "                                 args=(trainX, trainY), options=options, callback=self.callbackF)\n",
    "\n",
    "        self.N.setParams(_res.x)\n",
    "        self.optimizationResults = _res"
   ]
  },
  {
   "cell_type": "code",
   "execution_count": 17,
   "metadata": {},
   "outputs": [
    {
     "name": "stdout",
     "output_type": "stream",
     "text": [
      "Warning: Maximum number of iterations has been exceeded.\n",
      "         Current function value: 0.092777\n",
      "         Iterations: 100\n",
      "         Function evaluations: 118\n",
      "         Gradient evaluations: 118\n"
     ]
    }
   ],
   "source": [
    "#Train network with new data:\n",
    "NN = Neural_Network()\n",
    "\n",
    "T = trainer(NN)\n",
    "T.train(trainX, trainY, testX, testY)"
   ]
  },
  {
   "cell_type": "code",
   "execution_count": 18,
   "metadata": {},
   "outputs": [
    {
     "data": {
      "image/png": "[encoded data removed]",
      "text/plain": [
       "<Figure size 432x288 with 1 Axes>"
      ]
     },
     "metadata": {
      "needs_background": "light"
     },
     "output_type": "display_data"
    }
   ],
   "source": [
    "#Plot cost during training:\n",
    "plot.plot(T.J)\n",
    "plot.plot(T.testJ)\n",
    "plot.grid(1)\n",
    "plot.xlabel('Iterations')\n",
    "plot.ylabel('Cost')\n",
    "plot.legend(['Training', 'Testing'])\n",
    "plot.show()"
   ]
  },
  {
   "cell_type": "code",
   "execution_count": 19,
   "metadata": {},
   "outputs": [
    {
     "data": {
      "text/plain": [
       "[array([0.72627048]),\n",
       " array([0.63242113]),\n",
       " array([0.47547193]),\n",
       " array([0.26111396]),\n",
       " array([0.20641855]),\n",
       " array([0.1996465]),\n",
       " array([0.1969213]),\n",
       " array([0.1936301]),\n",
       " array([0.18824798]),\n",
       " array([0.17920133]),\n",
       " array([0.16446188]),\n",
       " array([0.1552731]),\n",
       " array([0.1477634]),\n",
       " array([0.1379288]),\n",
       " array([0.13315178]),\n",
       " array([0.13110818]),\n",
       " array([0.1304363]),\n",
       " array([0.12942305]),\n",
       " array([0.12832275]),\n",
       " array([0.12696764]),\n",
       " array([0.1249414]),\n",
       " array([0.1230066]),\n",
       " array([0.12027489]),\n",
       " array([0.11567706]),\n",
       " array([0.11250071]),\n",
       " array([0.10825001]),\n",
       " array([0.10615672]),\n",
       " array([0.10559023]),\n",
       " array([0.10518136]),\n",
       " array([0.10451964]),\n",
       " array([0.10419632]),\n",
       " array([0.1038665]),\n",
       " array([0.10370325]),\n",
       " array([0.10355941]),\n",
       " array([0.10345389]),\n",
       " array([0.10337092]),\n",
       " array([0.10331981]),\n",
       " array([0.10325771]),\n",
       " array([0.10318385]),\n",
       " array([0.10314499]),\n",
       " array([0.10309154]),\n",
       " array([0.10301469]),\n",
       " array([0.10296116]),\n",
       " array([0.10287399]),\n",
       " array([0.10282122]),\n",
       " array([0.10273428]),\n",
       " array([0.10259899]),\n",
       " array([0.10256036]),\n",
       " array([0.10249405]),\n",
       " array([0.10238269]),\n",
       " array([0.10224259]),\n",
       " array([0.10202668]),\n",
       " array([0.10187197]),\n",
       " array([0.10161453]),\n",
       " array([0.10149712]),\n",
       " array([0.10131707]),\n",
       " array([0.10120733]),\n",
       " array([0.10119184]),\n",
       " array([0.10118976]),\n",
       " array([0.10118815]),\n",
       " array([0.10118527]),\n",
       " array([0.10117995]),\n",
       " array([0.10117005]),\n",
       " array([0.10115161]),\n",
       " array([0.10111767]),\n",
       " array([0.10105645]),\n",
       " array([0.10095094]),\n",
       " array([0.10078746]),\n",
       " array([0.10054572]),\n",
       " array([0.10026052]),\n",
       " array([0.09830805]),\n",
       " array([0.09818026]),\n",
       " array([0.09706324]),\n",
       " array([0.09551364]),\n",
       " array([0.09459635]),\n",
       " array([0.09429521]),\n",
       " array([0.09395872]),\n",
       " array([0.0938982]),\n",
       " array([0.0938535]),\n",
       " array([0.09381963]),\n",
       " array([0.09376801]),\n",
       " array([0.09372587]),\n",
       " array([0.09371139]),\n",
       " array([0.09370475]),\n",
       " array([0.09370018]),\n",
       " array([0.09369206]),\n",
       " array([0.09367696]),\n",
       " array([0.09364834]),\n",
       " array([0.09359391]),\n",
       " array([0.09349326]),\n",
       " array([0.0933524]),\n",
       " array([0.09317247]),\n",
       " array([0.09304674]),\n",
       " array([0.0929153]),\n",
       " array([0.09285003]),\n",
       " array([0.09283652]),\n",
       " array([0.09282998]),\n",
       " array([0.09281939]),\n",
       " array([0.09280236]),\n",
       " array([0.09277665])]"
      ]
     },
     "execution_count": 19,
     "metadata": {},
     "output_type": "execute_result"
    }
   ],
   "source": [
    "T.J"
   ]
  },
  {
   "cell_type": "code",
   "execution_count": 20,
   "metadata": {},
   "outputs": [
    {
     "data": {
      "text/plain": [
       "[array([0.29976872]),\n",
       " array([0.1515744]),\n",
       " array([0.06284934]),\n",
       " array([0.0169109]),\n",
       " array([0.01828436]),\n",
       " array([0.02038979]),\n",
       " array([0.02282376]),\n",
       " array([0.0261695]),\n",
       " array([0.03035318]),\n",
       " array([0.03332012]),\n",
       " array([0.02873564]),\n",
       " array([0.02104352]),\n",
       " array([0.01732318]),\n",
       " array([0.02067039]),\n",
       " array([0.02023493]),\n",
       " array([0.0219028]),\n",
       " array([0.01754082]),\n",
       " array([0.01992049]),\n",
       " array([0.02225915]),\n",
       " array([0.02360197]),\n",
       " array([0.02353913]),\n",
       " array([0.02306215]),\n",
       " array([0.02253211]),\n",
       " array([0.01960822]),\n",
       " array([0.0144983]),\n",
       " array([0.01497197]),\n",
       " array([0.01498038]),\n",
       " array([0.0158964]),\n",
       " array([0.01632407]),\n",
       " array([0.01630872]),\n",
       " array([0.01542838]),\n",
       " array([0.01620496]),\n",
       " array([0.01626614]),\n",
       " array([0.01582857]),\n",
       " array([0.01634901]),\n",
       " array([0.01634005]),\n",
       " array([0.0162002]),\n",
       " array([0.01599389]),\n",
       " array([0.01617392]),\n",
       " array([0.01610207]),\n",
       " array([0.01601145]),\n",
       " array([0.01621228]),\n",
       " array([0.01607492]),\n",
       " array([0.01607159]),\n",
       " array([0.01589592]),\n",
       " array([0.01590631]),\n",
       " array([0.01600357]),\n",
       " array([0.01589515]),\n",
       " array([0.01590309]),\n",
       " array([0.01594394]),\n",
       " array([0.01582731]),\n",
       " array([0.01592768]),\n",
       " array([0.01586637]),\n",
       " array([0.01592973]),\n",
       " array([0.0158344]),\n",
       " array([0.01594582]),\n",
       " array([0.01637707]),\n",
       " array([0.01628826]),\n",
       " array([0.01630497]),\n",
       " array([0.01632153]),\n",
       " array([0.01633919]),\n",
       " array([0.01636003]),\n",
       " array([0.01638688]),\n",
       " array([0.0164236]),\n",
       " array([0.01647348]),\n",
       " array([0.01653361]),\n",
       " array([0.01657943]),\n",
       " array([0.01657159]),\n",
       " array([0.01668178]),\n",
       " array([0.01624074]),\n",
       " array([0.01811524]),\n",
       " array([0.01846922]),\n",
       " array([0.01865856]),\n",
       " array([0.01790341]),\n",
       " array([0.01819397]),\n",
       " array([0.01718632]),\n",
       " array([0.0185366]),\n",
       " array([0.01856399]),\n",
       " array([0.01854844]),\n",
       " array([0.01868224]),\n",
       " array([0.01882251]),\n",
       " array([0.01889491]),\n",
       " array([0.01891231]),\n",
       " array([0.01899322]),\n",
       " array([0.0190258]),\n",
       " array([0.01909431]),\n",
       " array([0.01916573]),\n",
       " array([0.01927096]),\n",
       " array([0.01940651]),\n",
       " array([0.0195438]),\n",
       " array([0.01947949]),\n",
       " array([0.02007155]),\n",
       " array([0.02116805]),\n",
       " array([0.02085392]),\n",
       " array([0.02162791]),\n",
       " array([0.02153389]),\n",
       " array([0.02147937]),\n",
       " array([0.02138668]),\n",
       " array([0.02126927]),\n",
       " array([0.02101188])]"
      ]
     },
     "execution_count": 20,
     "metadata": {},
     "output_type": "execute_result"
    }
   ],
   "source": [
    "T.testJ"
   ]
  },
  {
   "cell_type": "code",
   "execution_count": 21,
   "metadata": {},
   "outputs": [
    {
     "data": {
      "text/plain": [
       "0.10369937112137396"
      ]
     },
     "execution_count": 21,
     "metadata": {},
     "output_type": "execute_result"
    }
   ],
   "source": [
    "from sklearn.metrics import mean_absolute_error\n",
    "mean_absolute_error(T.J, T.testJ)"
   ]
  },
  {
   "cell_type": "code",
   "execution_count": 22,
   "metadata": {},
   "outputs": [],
   "source": [
    "yHat = NN.forward(X)"
   ]
  },
  {
   "cell_type": "code",
   "execution_count": 23,
   "metadata": {},
   "outputs": [
    {
     "data": {
      "text/plain": [
       "array([[0.113571  ],\n",
       "       [0.17820736],\n",
       "       [0.142783  ],\n",
       "       [0.19679684],\n",
       "       [0.24388375],\n",
       "       [0.26109072],\n",
       "       [0.36925356],\n",
       "       [0.4943462 ],\n",
       "       [0.27779772],\n",
       "       [0.34361377],\n",
       "       [0.4158058 ],\n",
       "       [0.42830555],\n",
       "       [0.25641706],\n",
       "       [0.18197713],\n",
       "       [0.20258965],\n",
       "       [0.27387259],\n",
       "       [0.24901755],\n",
       "       [0.172909  ],\n",
       "       [0.20090183],\n",
       "       [0.18513869],\n",
       "       [0.15854549],\n",
       "       [0.24347186],\n",
       "       [0.27492929],\n",
       "       [0.25049305],\n",
       "       [0.24767028],\n",
       "       [0.25017582],\n",
       "       [0.23639379],\n",
       "       [0.24415062],\n",
       "       [0.23482517],\n",
       "       [0.25071429],\n",
       "       [0.24884831],\n",
       "       [0.23703207],\n",
       "       [0.30737991],\n",
       "       [0.30668987],\n",
       "       [0.31733667],\n",
       "       [0.24665063],\n",
       "       [0.32809059],\n",
       "       [0.38470868],\n",
       "       [0.39998283],\n",
       "       [0.47532771],\n",
       "       [0.47310474],\n",
       "       [0.55817866],\n",
       "       [0.62174751],\n",
       "       [0.67147397],\n",
       "       [0.72225875],\n",
       "       [0.56273041],\n",
       "       [0.58424365],\n",
       "       [0.46009045],\n",
       "       [0.46179337],\n",
       "       [0.52779198],\n",
       "       [0.50258774],\n",
       "       [0.57185046],\n",
       "       [0.51500389],\n",
       "       [0.45606209],\n",
       "       [0.53524337],\n",
       "       [0.48528284],\n",
       "       [0.50057521],\n",
       "       [0.48142433],\n",
       "       [0.46487216],\n",
       "       [0.33715341]])"
      ]
     },
     "execution_count": 23,
     "metadata": {},
     "output_type": "execute_result"
    }
   ],
   "source": [
    "yHat"
   ]
  },
  {
   "cell_type": "code",
   "execution_count": 24,
   "metadata": {},
   "outputs": [
    {
     "data": {
      "text/plain": [
       "array([[0.14831904],\n",
       "       [0.11211342],\n",
       "       [0.17073406],\n",
       "       [0.2232566 ],\n",
       "       [0.24197469],\n",
       "       [0.36573346],\n",
       "       [0.55255899],\n",
       "       [0.37002352],\n",
       "       [0.3325317 ],\n",
       "       [0.38788752],\n",
       "       [0.39836394],\n",
       "       [0.2848263 ],\n",
       "       [0.18673502],\n",
       "       [0.18269477],\n",
       "       [0.255617  ],\n",
       "       [0.23597043],\n",
       "       [0.16413413],\n",
       "       [0.17817663],\n",
       "       [0.1639561 ],\n",
       "       [0.13324148],\n",
       "       [0.22639902],\n",
       "       [0.25501386],\n",
       "       [0.23708614],\n",
       "       [0.23165112],\n",
       "       [0.23306761],\n",
       "       [0.22117372],\n",
       "       [0.22633168],\n",
       "       [0.21869864],\n",
       "       [0.2320322 ],\n",
       "       [0.23194795],\n",
       "       [0.22154782],\n",
       "       [0.28795858],\n",
       "       [0.28837327],\n",
       "       [0.29714576],\n",
       "       [0.24366982],\n",
       "       [0.30743731],\n",
       "       [0.35859786],\n",
       "       [0.37218122],\n",
       "       [0.45025948],\n",
       "       [0.44309563],\n",
       "       [0.55815598],\n",
       "       [0.60235983],\n",
       "       [0.69629172],\n",
       "       [0.79060467],\n",
       "       [0.64402223],\n",
       "       [0.58322864],\n",
       "       [0.48171501],\n",
       "       [0.44281211],\n",
       "       [0.49627058],\n",
       "       [0.47546339],\n",
       "       [0.55155979],\n",
       "       [0.50099435],\n",
       "       [0.44545859],\n",
       "       [0.50571167],\n",
       "       [0.46588904],\n",
       "       [0.46785659],\n",
       "       [0.45300142],\n",
       "       [0.43741172],\n",
       "       [0.3506737 ],\n",
       "       [0.36403131]])"
      ]
     },
     "execution_count": 24,
     "metadata": {},
     "output_type": "execute_result"
    }
   ],
   "source": [
    "y"
   ]
  },
  {
   "cell_type": "code",
   "execution_count": 25,
   "metadata": {},
   "outputs": [
    {
     "data": {
      "text/plain": [
       "0.0037929510069580853"
      ]
     },
     "execution_count": 25,
     "metadata": {},
     "output_type": "execute_result"
    }
   ],
   "source": [
    "from sklearn.metrics import mean_squared_error \n",
    "mean_squared_error(y,yHat) "
   ]
  },
  {
   "cell_type": "code",
   "execution_count": 26,
   "metadata": {},
   "outputs": [
    {
     "data": {
      "image/png": "[encoded data removed]",
      "text/plain": [
       "<Figure size 432x288 with 1 Axes>"
      ]
     },
     "metadata": {
      "needs_background": "light"
     },
     "output_type": "display_data"
    }
   ],
   "source": [
    "#Plot cost during training:\n",
    "plot.plot(y)\n",
    "plot.plot(yHat)\n",
    "plot.grid(1)\n",
    "plot.legend(['y', 'yHat'])\n",
    "plot.show()"
   ]
  },
  {
   "cell_type": "code",
   "execution_count": 27,
   "metadata": {},
   "outputs": [],
   "source": [
    "#Regularization Parameter:\n",
    "Lambda = 0.0001"
   ]
  },
  {
   "cell_type": "code",
   "execution_count": 28,
   "metadata": {},
   "outputs": [],
   "source": [
    "#Need to make changes to costFunction and costFunctionPrim:\n",
    "def costFunction(self, X, y):\n",
    "    #Compute cost for given X,y, use weights already stored in class.\n",
    "    self.yHat = self.forward(X)\n",
    "    #We don't want cost to increase with the number of examples, so normalize by dividing the error term by number of examples(X.shape[0])\n",
    "    J = 0.5*sum((y-self.yHat)**2)/X.shape[0] + (self.Lambda/2)*(sum(self.W1**2)+sum(self.W2**2))\n",
    "    return J\n",
    "\n",
    "def costFunctionPrime(self, X, y):\n",
    "    #Compute derivative with respect to W and W2 for a given X and y:\n",
    "    self.yHat = self.forward(X)\n",
    "\n",
    "    delta3 = np.multiply(-(y-self.yHat), self.sigmoidPrime(self.z3))\n",
    "    #Add gradient of regularization term:\n",
    "    dJdW2 = np.dot(self.a2.T, delta3)/X.shape[0] + self.Lambda*self.W2\n",
    "\n",
    "    delta2 = np.dot(delta3, self.W2.T)*self.sigmoidPrime(self.z2)\n",
    "    #Add gradient of regularization term:\n",
    "    dJdW1 = np.dot(X.T, delta2)/X.shape[0] + self.Lambda*self.W1\n",
    "\n",
    "    return dJdW1, dJdW2"
   ]
  },
  {
   "cell_type": "code",
   "execution_count": 29,
   "metadata": {},
   "outputs": [],
   "source": [
    "#New complete class, with changes:\n",
    "class Neural_Network(object):\n",
    "    def __init__(self, Lambda=0.0001):        \n",
    "        #Define Hyperparameters\n",
    "        self.inputLayerSize = 2\n",
    "        self.outputLayerSize = 1\n",
    "        self.hiddenLayerSize = 3\n",
    "        \n",
    "        #Weights (parameters)\n",
    "        self.W1 = np.random.randn(self.inputLayerSize,self.hiddenLayerSize)\n",
    "        self.W2 = np.random.randn(self.hiddenLayerSize,self.outputLayerSize)\n",
    "        \n",
    "        #Regularization Parameter:\n",
    "        self.Lambda = Lambda\n",
    "        \n",
    "    def forward(self, X):\n",
    "        #Propogate inputs though network\n",
    "        self.z2 = np.dot(X, self.W1)\n",
    "        self.a2 = self.sigmoid(self.z2)\n",
    "        self.z3 = np.dot(self.a2, self.W2)\n",
    "        yHat = self.sigmoid(self.z3) \n",
    "        return yHat\n",
    "        \n",
    "    def sigmoid(self, z):\n",
    "        #Apply sigmoid activation function to scalar, vector, or matrix\n",
    "        return 1/(1+np.exp(-z))\n",
    "    \n",
    "    def sigmoidPrime(self,z):\n",
    "        #Gradient of sigmoid\n",
    "        return np.exp(-z)/((1+np.exp(-z))**2)\n",
    "    \n",
    "    def costFunction(self, X, y):\n",
    "        #Compute cost for given X,y, use weights already stored in class.\n",
    "        self.yHat = self.forward(X)\n",
    "        J = 0.5*sum((y-self.yHat)**2)/X.shape[0] + (self.Lambda/2)*(np.sum(self.W1**2)+np.sum(self.W2**2))\n",
    "        return J\n",
    "        \n",
    "    def costFunctionPrime(self, X, y):\n",
    "        #Compute derivative with respect to W and W2 for a given X and y:\n",
    "        self.yHat = self.forward(X)\n",
    "        \n",
    "        delta3 = np.multiply(-(y-self.yHat), self.sigmoidPrime(self.z3))\n",
    "        #Add gradient of regularization term:\n",
    "        dJdW2 = np.dot(self.a2.T, delta3)/X.shape[0] + self.Lambda*self.W2\n",
    "        \n",
    "        delta2 = np.dot(delta3, self.W2.T)*self.sigmoidPrime(self.z2)\n",
    "        #Add gradient of regularization term:\n",
    "        dJdW1 = np.dot(X.T, delta2)/X.shape[0] + self.Lambda*self.W1\n",
    "        \n",
    "        return dJdW1, dJdW2\n",
    "    \n",
    "    def predict(self):\n",
    "        prediksi = self.forward(dataprediksi)\n",
    "        return prediksi\n",
    "    \n",
    "    #Helper functions for interacting with other methods/classes\n",
    "    def getParams(self):\n",
    "        #Get W1 and W2 Rolled into vector:\n",
    "        params = np.concatenate((self.W1.ravel(), self.W2.ravel()))\n",
    "        return params\n",
    "    \n",
    "    def setParams(self, params):\n",
    "        #Set W1 and W2 using single parameter vector:\n",
    "        W1_start = 0\n",
    "        W1_end = self.hiddenLayerSize*self.inputLayerSize\n",
    "        self.W1 = np.reshape(params[W1_start:W1_end], \\\n",
    "                             (self.inputLayerSize, self.hiddenLayerSize))\n",
    "        W2_end = W1_end + self.hiddenLayerSize*self.outputLayerSize\n",
    "        self.W2 = np.reshape(params[W1_end:W2_end], \\\n",
    "                             (self.hiddenLayerSize, self.outputLayerSize))\n",
    "        \n",
    "    def computeGradients(self, X, y):\n",
    "        dJdW1, dJdW2 = self.costFunctionPrime(X, y)\n",
    "        return np.concatenate((dJdW1.ravel(), dJdW2.ravel()))"
   ]
  },
  {
   "cell_type": "code",
   "execution_count": 30,
   "metadata": {},
   "outputs": [],
   "source": [
    "def computeNumericalGradient(N, X, y):\n",
    "    paramsInitial = N.getParams()\n",
    "    numgrad = np.zeros(paramsInitial.shape)\n",
    "    perturb = np.zeros(paramsInitial.shape)\n",
    "    e = 1e-4\n",
    "\n",
    "    for p in range(len(paramsInitial)):\n",
    "        #Set perturbation vector\n",
    "        perturb[p] = e\n",
    "        N.setParams(paramsInitial + perturb)\n",
    "        loss2 = N.costFunction(X, y)\n",
    "            \n",
    "        N.setParams(paramsInitial - perturb)\n",
    "        loss1 = N.costFunction(X, y)\n",
    "\n",
    "        #Compute Numerical Gradient\n",
    "        numgrad[p] = (loss2 - loss1) / (2*e)\n",
    "\n",
    "            #Return the value we changed to zero:\n",
    "        perturb[p] = 0\n",
    "            \n",
    "    #Return Params to original value:\n",
    "    N.setParams(paramsInitial)\n",
    "\n",
    "    return numgrad "
   ]
  },
  {
   "cell_type": "code",
   "execution_count": 31,
   "metadata": {},
   "outputs": [],
   "source": [
    "NN = Neural_Network(Lambda=0.0001)"
   ]
  },
  {
   "cell_type": "code",
   "execution_count": 32,
   "metadata": {},
   "outputs": [],
   "source": [
    "#Make sure our gradients our correct after making changes:\n",
    "numgrad = computeNumericalGradient(NN, X, y)\n",
    "grad = NN.computeGradients(X,y)"
   ]
  },
  {
   "cell_type": "code",
   "execution_count": 33,
   "metadata": {},
   "outputs": [
    {
     "data": {
      "text/plain": [
       "7.70632380946294e-11"
      ]
     },
     "execution_count": 33,
     "metadata": {},
     "output_type": "execute_result"
    }
   ],
   "source": [
    "#Should be less than 1e-8:\n",
    "np.linalg.norm(grad-numgrad)/np.linalg.norm(grad+numgrad)"
   ]
  },
  {
   "cell_type": "code",
   "execution_count": 34,
   "metadata": {},
   "outputs": [],
   "source": [
    "T = trainer(NN)"
   ]
  },
  {
   "cell_type": "code",
   "execution_count": 35,
   "metadata": {},
   "outputs": [
    {
     "name": "stdout",
     "output_type": "stream",
     "text": [
      "Optimization terminated successfully.\n",
      "         Current function value: 0.003785\n",
      "         Iterations: 87\n",
      "         Function evaluations: 91\n",
      "         Gradient evaluations: 91\n"
     ]
    }
   ],
   "source": [
    "T.train(X,y,testX,testY)"
   ]
  },
  {
   "cell_type": "code",
   "execution_count": 36,
   "metadata": {},
   "outputs": [
    {
     "data": {
      "image/png": "[encoded data removed]",
      "text/plain": [
       "<Figure size 432x288 with 1 Axes>"
      ]
     },
     "metadata": {
      "needs_background": "light"
     },
     "output_type": "display_data"
    }
   ],
   "source": [
    "plot.plot(T.J)\n",
    "plot.plot(T.testJ)\n",
    "plot.grid(1)\n",
    "plot.xlabel('Iterations')\n",
    "plot.ylabel('Cost')\n",
    "plot.legend(['Training', 'Testing'])\n",
    "plot.show()"
   ]
  },
  {
   "cell_type": "code",
   "execution_count": 37,
   "metadata": {},
   "outputs": [
    {
     "data": {
      "text/plain": [
       "[array([0.0150042]),\n",
       " array([0.01246462]),\n",
       " array([0.01222287]),\n",
       " array([0.01220978]),\n",
       " array([0.01218651]),\n",
       " array([0.01214373]),\n",
       " array([0.01206424]),\n",
       " array([0.01191699]),\n",
       " array([0.01164796]),\n",
       " array([0.01117221]),\n",
       " array([0.01040545]),\n",
       " array([0.00956106]),\n",
       " array([0.00895023]),\n",
       " array([0.00789072]),\n",
       " array([0.00658342]),\n",
       " array([0.0064257]),\n",
       " array([0.00635373]),\n",
       " array([0.00633304]),\n",
       " array([0.00632127]),\n",
       " array([0.00630067]),\n",
       " array([0.00626361]),\n",
       " array([0.00619693]),\n",
       " array([0.00608042]),\n",
       " array([0.00589297]),\n",
       " array([0.00562973]),\n",
       " array([0.00527988]),\n",
       " array([0.00473643]),\n",
       " array([0.00458561]),\n",
       " array([0.00443041]),\n",
       " array([0.00422075]),\n",
       " array([0.00407962]),\n",
       " array([0.00406983]),\n",
       " array([0.00405324]),\n",
       " array([0.00403889]),\n",
       " array([0.00403689]),\n",
       " array([0.00403606]),\n",
       " array([0.00403536]),\n",
       " array([0.00403525]),\n",
       " array([0.00403504]),\n",
       " array([0.00403464]),\n",
       " array([0.00403389]),\n",
       " array([0.00403248]),\n",
       " array([0.00402987]),\n",
       " array([0.0040252]),\n",
       " array([0.00401719]),\n",
       " array([0.00400429]),\n",
       " array([0.00398532]),\n",
       " array([0.00396465]),\n",
       " array([0.00393574]),\n",
       " array([0.00390309]),\n",
       " array([0.00386101]),\n",
       " array([0.00382034]),\n",
       " array([0.00380786]),\n",
       " array([0.00380684]),\n",
       " array([0.00380624]),\n",
       " array([0.00380615]),\n",
       " array([0.00380613]),\n",
       " array([0.00380612]),\n",
       " array([0.00380603]),\n",
       " array([0.00380588]),\n",
       " array([0.0038056]),\n",
       " array([0.00380509]),\n",
       " array([0.00380415]),\n",
       " array([0.00380247]),\n",
       " array([0.0037996]),\n",
       " array([0.00379541]),\n",
       " array([0.00379255]),\n",
       " array([0.0037905]),\n",
       " array([0.00378872]),\n",
       " array([0.00378833]),\n",
       " array([0.00378831]),\n",
       " array([0.00378831]),\n",
       " array([0.00378831]),\n",
       " array([0.00378831]),\n",
       " array([0.0037883]),\n",
       " array([0.00378829]),\n",
       " array([0.00378827]),\n",
       " array([0.00378824]),\n",
       " array([0.00378818]),\n",
       " array([0.00378808]),\n",
       " array([0.00378792]),\n",
       " array([0.00378766]),\n",
       " array([0.00378724]),\n",
       " array([0.00378656]),\n",
       " array([0.00378554]),\n",
       " array([0.00378485]),\n",
       " array([0.00378465])]"
      ]
     },
     "execution_count": 37,
     "metadata": {},
     "output_type": "execute_result"
    }
   ],
   "source": [
    "T.J"
   ]
  },
  {
   "cell_type": "code",
   "execution_count": 38,
   "metadata": {},
   "outputs": [
    {
     "data": {
      "text/plain": [
       "[array([0.00220181]),\n",
       " array([0.00548091]),\n",
       " array([0.00740789]),\n",
       " array([0.00766275]),\n",
       " array([0.00792211]),\n",
       " array([0.00820772]),\n",
       " array([0.00854982]),\n",
       " array([0.00897814]),\n",
       " array([0.00951138]),\n",
       " array([0.01012031]),\n",
       " array([0.0106463]),\n",
       " array([0.01069751]),\n",
       " array([0.0096751]),\n",
       " array([0.00749477]),\n",
       " array([0.00385084]),\n",
       " array([0.00330095]),\n",
       " array([0.00324498]),\n",
       " array([0.00328448]),\n",
       " array([0.00329252]),\n",
       " array([0.00328822]),\n",
       " array([0.00327272]),\n",
       " array([0.0032421]),\n",
       " array([0.00319134]),\n",
       " array([0.00313433]),\n",
       " array([0.00315765]),\n",
       " array([0.00312751]),\n",
       " array([0.00289046]),\n",
       " array([0.00279975]),\n",
       " array([0.00268801]),\n",
       " array([0.00254879]),\n",
       " array([0.00239132]),\n",
       " array([0.00238389]),\n",
       " array([0.00235188]),\n",
       " array([0.00234473]),\n",
       " array([0.00236452]),\n",
       " array([0.00236803]),\n",
       " array([0.00237591]),\n",
       " array([0.00237708]),\n",
       " array([0.00237831]),\n",
       " array([0.00237986]),\n",
       " array([0.002382]),\n",
       " array([0.00238517]),\n",
       " array([0.00239007]),\n",
       " array([0.00239781]),\n",
       " array([0.00241006]),\n",
       " array([0.00242945]),\n",
       " array([0.00246191]),\n",
       " array([0.00249931]),\n",
       " array([0.00253323]),\n",
       " array([0.00261536]),\n",
       " array([0.00260207]),\n",
       " array([0.00253115]),\n",
       " array([0.00245381]),\n",
       " array([0.00246156]),\n",
       " array([0.00247104]),\n",
       " array([0.00246789]),\n",
       " array([0.00246762]),\n",
       " array([0.00246711]),\n",
       " array([0.00246459]),\n",
       " array([0.00246198]),\n",
       " array([0.00245921]),\n",
       " array([0.00245592]),\n",
       " array([0.00245171]),\n",
       " array([0.00244623]),\n",
       " array([0.0024395]),\n",
       " array([0.00243393]),\n",
       " array([0.00244001]),\n",
       " array([0.00245216]),\n",
       " array([0.00246782]),\n",
       " array([0.00247295]),\n",
       " array([0.00247189]),\n",
       " array([0.0024715]),\n",
       " array([0.00247125]),\n",
       " array([0.00247101]),\n",
       " array([0.00247071]),\n",
       " array([0.00247029]),\n",
       " array([0.00246966]),\n",
       " array([0.00246868]),\n",
       " array([0.00246712]),\n",
       " array([0.00246466]),\n",
       " array([0.00246097]),\n",
       " array([0.00245617]),\n",
       " array([0.00245107]),\n",
       " array([0.00244644]),\n",
       " array([0.00244396]),\n",
       " array([0.00244764]),\n",
       " array([0.00245291])]"
      ]
     },
     "execution_count": 38,
     "metadata": {},
     "output_type": "execute_result"
    }
   ],
   "source": [
    "T.testJ"
   ]
  },
  {
   "cell_type": "code",
   "execution_count": 39,
   "metadata": {},
   "outputs": [
    {
     "data": {
      "text/plain": [
       "0.001979801532641157"
      ]
     },
     "execution_count": 39,
     "metadata": {},
     "output_type": "execute_result"
    }
   ],
   "source": [
    "from sklearn.metrics import mean_absolute_error\n",
    "mean_absolute_error(T.J, T.testJ)"
   ]
  },
  {
   "cell_type": "code",
   "execution_count": 40,
   "metadata": {},
   "outputs": [],
   "source": [
    "yHat=NN.forward(X)"
   ]
  },
  {
   "cell_type": "code",
   "execution_count": 41,
   "metadata": {},
   "outputs": [
    {
     "data": {
      "text/plain": [
       "array([[0.13875147],\n",
       "       [0.18946108],\n",
       "       [0.18234549],\n",
       "       [0.20902772],\n",
       "       [0.24753084],\n",
       "       [0.26666994],\n",
       "       [0.35106725],\n",
       "       [0.49354788],\n",
       "       [0.40312004],\n",
       "       [0.34878952],\n",
       "       [0.38044693],\n",
       "       [0.39631045],\n",
       "       [0.32109009],\n",
       "       [0.24147282],\n",
       "       [0.22563753],\n",
       "       [0.26932537],\n",
       "       [0.26762529],\n",
       "       [0.22152582],\n",
       "       [0.22001686],\n",
       "       [0.21380531],\n",
       "       [0.19520631],\n",
       "       [0.24415508],\n",
       "       [0.27539045],\n",
       "       [0.26824032],\n",
       "       [0.26221308],\n",
       "       [0.2623089 ],\n",
       "       [0.25512806],\n",
       "       [0.25660733],\n",
       "       [0.25264078],\n",
       "       [0.25978687],\n",
       "       [0.26166508],\n",
       "       [0.25519837],\n",
       "       [0.29594005],\n",
       "       [0.30636942],\n",
       "       [0.3122441 ],\n",
       "       [0.27865087],\n",
       "       [0.31216883],\n",
       "       [0.35657688],\n",
       "       [0.3739069 ],\n",
       "       [0.4287035 ],\n",
       "       [0.43605796],\n",
       "       [0.50803466],\n",
       "       [0.54923996],\n",
       "       [0.60283675],\n",
       "       [0.65287663],\n",
       "       [0.59907554],\n",
       "       [0.54981968],\n",
       "       [0.4811537 ],\n",
       "       [0.44072554],\n",
       "       [0.46953733],\n",
       "       [0.46421879],\n",
       "       [0.50863706],\n",
       "       [0.48858657],\n",
       "       [0.4454303 ],\n",
       "       [0.47593866],\n",
       "       [0.45946633],\n",
       "       [0.45470181],\n",
       "       [0.44529737],\n",
       "       [0.43271636],\n",
       "       [0.37177501]])"
      ]
     },
     "execution_count": 41,
     "metadata": {},
     "output_type": "execute_result"
    }
   ],
   "source": [
    "yHat"
   ]
  },
  {
   "cell_type": "code",
   "execution_count": 42,
   "metadata": {},
   "outputs": [
    {
     "data": {
      "text/plain": [
       "array([[0.14831904],\n",
       "       [0.11211342],\n",
       "       [0.17073406],\n",
       "       [0.2232566 ],\n",
       "       [0.24197469],\n",
       "       [0.36573346],\n",
       "       [0.55255899],\n",
       "       [0.37002352],\n",
       "       [0.3325317 ],\n",
       "       [0.38788752],\n",
       "       [0.39836394],\n",
       "       [0.2848263 ],\n",
       "       [0.18673502],\n",
       "       [0.18269477],\n",
       "       [0.255617  ],\n",
       "       [0.23597043],\n",
       "       [0.16413413],\n",
       "       [0.17817663],\n",
       "       [0.1639561 ],\n",
       "       [0.13324148],\n",
       "       [0.22639902],\n",
       "       [0.25501386],\n",
       "       [0.23708614],\n",
       "       [0.23165112],\n",
       "       [0.23306761],\n",
       "       [0.22117372],\n",
       "       [0.22633168],\n",
       "       [0.21869864],\n",
       "       [0.2320322 ],\n",
       "       [0.23194795],\n",
       "       [0.22154782],\n",
       "       [0.28795858],\n",
       "       [0.28837327],\n",
       "       [0.29714576],\n",
       "       [0.24366982],\n",
       "       [0.30743731],\n",
       "       [0.35859786],\n",
       "       [0.37218122],\n",
       "       [0.45025948],\n",
       "       [0.44309563],\n",
       "       [0.55815598],\n",
       "       [0.60235983],\n",
       "       [0.69629172],\n",
       "       [0.79060467],\n",
       "       [0.64402223],\n",
       "       [0.58322864],\n",
       "       [0.48171501],\n",
       "       [0.44281211],\n",
       "       [0.49627058],\n",
       "       [0.47546339],\n",
       "       [0.55155979],\n",
       "       [0.50099435],\n",
       "       [0.44545859],\n",
       "       [0.50571167],\n",
       "       [0.46588904],\n",
       "       [0.46785659],\n",
       "       [0.45300142],\n",
       "       [0.43741172],\n",
       "       [0.3506737 ],\n",
       "       [0.36403131]])"
      ]
     },
     "execution_count": 42,
     "metadata": {},
     "output_type": "execute_result"
    }
   ],
   "source": [
    "y"
   ]
  },
  {
   "cell_type": "code",
   "execution_count": 43,
   "metadata": {},
   "outputs": [
    {
     "data": {
      "text/plain": [
       "0.00457106122741092"
      ]
     },
     "execution_count": 43,
     "metadata": {},
     "output_type": "execute_result"
    }
   ],
   "source": [
    "from sklearn.metrics import mean_squared_error \n",
    "mean_squared_error(y,yHat) "
   ]
  },
  {
   "cell_type": "code",
   "execution_count": 44,
   "metadata": {},
   "outputs": [
    {
     "data": {
      "image/png": "[encoded data removed]",
      "text/plain": [
       "<Figure size 432x288 with 1 Axes>"
      ]
     },
     "metadata": {
      "needs_background": "light"
     },
     "output_type": "display_data"
    }
   ],
   "source": [
    "#Plot cost during training:\n",
    "plot.plot(y)\n",
    "plot.plot(yHat)\n",
    "plot.grid(1)\n",
    "plot.legend(['y', 'yHat'])\n",
    "plot.show()"
   ]
  },
  {
   "cell_type": "code",
   "execution_count": 45,
   "metadata": {},
   "outputs": [],
   "source": [
    "prediksi=NN.forward(dataprediksi)"
   ]
  },
  {
   "cell_type": "code",
   "execution_count": 46,
   "metadata": {},
   "outputs": [
    {
     "data": {
      "text/plain": [
       "array([[0.3671124 ],\n",
       "       [0.62230462],\n",
       "       [0.72539001],\n",
       "       [0.64854733]])"
      ]
     },
     "execution_count": 46,
     "metadata": {},
     "output_type": "execute_result"
    }
   ],
   "source": [
    "prediksi"
   ]
  },
  {
   "cell_type": "code",
   "execution_count": 47,
   "metadata": {},
   "outputs": [],
   "source": [
    "from sklearn.metrics import mean_squared_error "
   ]
  },
  {
   "cell_type": "code",
   "execution_count": 48,
   "metadata": {},
   "outputs": [
    {
     "data": {
      "text/plain": [
       "0.08774585733440272"
      ]
     },
     "execution_count": 48,
     "metadata": {},
     "output_type": "execute_result"
    }
   ],
   "source": [
    "Y_true= ([\t0.795380412\t]\t,\n",
    "[\t1\t]\t,\n",
    "[\t0.707681705\t]\t,\n",
    "[\t0.491695324\t]\t,\n",
    "\n",
    ")\n",
    "\n",
    "\n",
    "Y_pred=prediksi\n",
    "mean_squared_error(Y_true,Y_pred) "
   ]
  },
  {
   "cell_type": "code",
   "execution_count": 49,
   "metadata": {},
   "outputs": [
    {
     "data": {
      "text/plain": [
       "array([[0.3506737 , 0.36403131],\n",
       "       [0.36403131, 0.79538041],\n",
       "       [0.79538041, 1.        ],\n",
       "       [1.        , 0.70768171]])"
      ]
     },
     "execution_count": 49,
     "metadata": {},
     "output_type": "execute_result"
    }
   ],
   "source": [
    "dataprediksi"
   ]
  },
  {
   "cell_type": "code",
   "execution_count": 50,
   "metadata": {},
   "outputs": [],
   "source": [
    "a=np.array([\t0.707681705\t,\t0.491695324\t])"
   ]
  },
  {
   "cell_type": "code",
   "execution_count": 51,
   "metadata": {},
   "outputs": [
    {
     "data": {
      "text/plain": [
       "array([0.505342])"
      ]
     },
     "execution_count": 51,
     "metadata": {},
     "output_type": "execute_result"
    }
   ],
   "source": [
    "#prediksi 1\n",
    "prediksi=NN.forward(a)\n",
    "prediksi"
   ]
  },
  {
   "cell_type": "code",
   "execution_count": 52,
   "metadata": {},
   "outputs": [
    {
     "data": {
      "text/plain": [
       "array([0.48253736])"
      ]
     },
     "execution_count": 52,
     "metadata": {},
     "output_type": "execute_result"
    }
   ],
   "source": [
    "#prediksi 2\n",
    "c=prediksi\n",
    "b=a[1:]\n",
    "d=np.concatenate((b,c))\n",
    "prediksi=NN.forward(d)\n",
    "prediksi"
   ]
  },
  {
   "cell_type": "code",
   "execution_count": 53,
   "metadata": {},
   "outputs": [
    {
     "data": {
      "text/plain": [
       "array([0.47011455])"
      ]
     },
     "execution_count": 53,
     "metadata": {},
     "output_type": "execute_result"
    }
   ],
   "source": [
    "#prediksi 3\n",
    "c=prediksi\n",
    "b=d[1:]\n",
    "e=np.concatenate((b,c))\n",
    "prediksi=NN.forward(e)\n",
    "prediksi"
   ]
  },
  {
   "cell_type": "code",
   "execution_count": 54,
   "metadata": {},
   "outputs": [
    {
     "data": {
      "text/plain": [
       "array([0.45869319])"
      ]
     },
     "execution_count": 54,
     "metadata": {},
     "output_type": "execute_result"
    }
   ],
   "source": [
    "#prediksi 4\n",
    "c=prediksi\n",
    "b=e[1:]\n",
    "f=np.concatenate((b,c))\n",
    "prediksi=NN.forward(f)\n",
    "prediksi"
   ]
  },
  {
   "cell_type": "code",
   "execution_count": 55,
   "metadata": {},
   "outputs": [
    {
     "data": {
      "text/plain": [
       "array([0.44937171])"
      ]
     },
     "execution_count": 55,
     "metadata": {},
     "output_type": "execute_result"
    }
   ],
   "source": [
    "#prediksi 5\n",
    "c=prediksi\n",
    "b=f[1:]\n",
    "g=np.concatenate((b,c))\n",
    "prediksi=NN.forward(g)\n",
    "prediksi"
   ]
  },
  {
   "cell_type": "code",
   "execution_count": 56,
   "metadata": {},
   "outputs": [
    {
     "data": {
      "text/plain": [
       "array([0.44150249])"
      ]
     },
     "execution_count": 56,
     "metadata": {},
     "output_type": "execute_result"
    }
   ],
   "source": [
    "#prediksi 6\n",
    "c=prediksi\n",
    "b=g[1:]\n",
    "h=np.concatenate((b,c))\n",
    "prediksi=NN.forward(h)\n",
    "prediksi"
   ]
  },
  {
   "cell_type": "code",
   "execution_count": 57,
   "metadata": {},
   "outputs": [
    {
     "data": {
      "text/plain": [
       "array([0.43630786])"
      ]
     },
     "execution_count": 57,
     "metadata": {},
     "output_type": "execute_result"
    }
   ],
   "source": [
    "#prediksi 7\n",
    "c=prediksi\n",
    "b=g[1:]\n",
    "i=np.concatenate((b,c))\n",
    "prediksi=NN.forward(i)\n",
    "prediksi"
   ]
  },
  {
   "cell_type": "code",
   "execution_count": 58,
   "metadata": {},
   "outputs": [
    {
     "data": {
      "text/plain": [
       "array([0.43286628])"
      ]
     },
     "execution_count": 58,
     "metadata": {},
     "output_type": "execute_result"
    }
   ],
   "source": [
    "#prediksi 8\n",
    "c=prediksi\n",
    "b=g[1:]\n",
    "j=np.concatenate((b,c))\n",
    "prediksi=NN.forward(j)\n",
    "prediksi"
   ]
  },
  {
   "cell_type": "code",
   "execution_count": 59,
   "metadata": {},
   "outputs": [
    {
     "data": {
      "text/plain": [
       "array([0.43058095])"
      ]
     },
     "execution_count": 59,
     "metadata": {},
     "output_type": "execute_result"
    }
   ],
   "source": [
    "#prediksi 9\n",
    "c=prediksi\n",
    "b=g[1:]\n",
    "k=np.concatenate((b,c))\n",
    "prediksi=NN.forward(k)\n",
    "prediksi"
   ]
  },
  {
   "cell_type": "code",
   "execution_count": 60,
   "metadata": {},
   "outputs": [
    {
     "data": {
      "text/plain": [
       "array([0.4290612])"
      ]
     },
     "execution_count": 60,
     "metadata": {},
     "output_type": "execute_result"
    }
   ],
   "source": [
    "#prediksi 10\n",
    "c=prediksi\n",
    "b=g[1:]\n",
    "l=np.concatenate((b,c))\n",
    "prediksi=NN.forward(l)\n",
    "prediksi"
   ]
  },
  {
   "cell_type": "code",
   "execution_count": 61,
   "metadata": {},
   "outputs": [
    {
     "data": {
      "text/plain": [
       "array([0.4280496])"
      ]
     },
     "execution_count": 61,
     "metadata": {},
     "output_type": "execute_result"
    }
   ],
   "source": [
    "#prediksi 11\n",
    "c=prediksi\n",
    "b=g[1:]\n",
    "m=np.concatenate((b,c))\n",
    "prediksi=NN.forward(m)\n",
    "prediksi"
   ]
  },
  {
   "cell_type": "code",
   "execution_count": 62,
   "metadata": {},
   "outputs": [
    {
     "data": {
      "text/plain": [
       "array([0.42737583])"
      ]
     },
     "execution_count": 62,
     "metadata": {},
     "output_type": "execute_result"
    }
   ],
   "source": [
    "#prediksi 12\n",
    "c=prediksi\n",
    "b=g[1:]\n",
    "n=np.concatenate((b,c))\n",
    "prediksi=NN.forward(n)\n",
    "prediksi"
   ]
  },
  {
   "cell_type": "code",
   "execution_count": null,
   "metadata": {},
   "outputs": [],
   "source": []
  }
 ],
 "metadata": {
  "kernelspec": {
   "display_name": "Python 3",
   "language": "python",
   "name": "python3"
  },
  "language_info": {
   "codemirror_mode": {
    "name": "ipython",
    "version": 3
   },
   "file_extension": ".py",
   "mimetype": "text/x-python",
   "name": "python",
   "nbconvert_exporter": "python",
   "pygments_lexer": "ipython3",
   "version": "3.7.3"
  }
 },
 "nbformat": 4,
 "nbformat_minor": 2
}
