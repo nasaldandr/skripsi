{
 "cells": [
  {
   "cell_type": "code",
   "execution_count": 1,
   "metadata": {},
   "outputs": [],
   "source": [
    "import numpy as np"
   ]
  },
  {
   "cell_type": "code",
   "execution_count": 2,
   "metadata": {},
   "outputs": [],
   "source": [
    "#UNTUK NILAI IMPOR\n",
    "class Neural_Network(object):\n",
    "    def __init__(self):\n",
    "        #parameters\n",
    "        self.inputLayerSize = 2\n",
    "        self.outputLayerSize = 1\n",
    "        self.hiddenLayerSize = 3\n",
    "\n",
    "        #weights\n",
    "        self.W1 = np.random.randn(self.inputLayerSize,\\\n",
    "                                 self.hiddenLayerSize)  \n",
    "        self.W2 = np.random.randn(self.hiddenLayerSize,\\\n",
    "                                 self.outputLayerSize)  \n",
    "    \n",
    "    def printw(self):\n",
    "        return self.W1\n",
    "        \n",
    "    def weight(self, W1, W2):\n",
    "        #Make an internal variable for the weight:\n",
    "        self.W1 = W1\n",
    "        self.W2 = W2\n",
    "        \n",
    "    def forward(self, X):\n",
    "        #forward propagation through our network\n",
    "        self.z2 = np.dot(X,self.W1)  \n",
    "        self.a2 = self.tanh(self.z2)  # activation function\n",
    "        self.z3 = np.dot(self.a2, self.W2) \n",
    "        yHat = self.tanh(self.z3)  # final activation function\n",
    "        return yHat\n",
    "\n",
    "    def tanh(self, z):\n",
    "        # activation function\n",
    "        return (np.exp(z)-np.exp(-z))/(np.exp(z)+np.exp(-z))\n",
    "    \n",
    "    def tanhPrime(self,z): \n",
    "        #derivative of tanh\n",
    "        return 1-((np.exp(z)-np.exp(-z))/(np.exp(z)+np.exp(-z)))**2\n",
    "    \n",
    "    def costFunction(self,X,y):\n",
    "        self.yHat = self.forward(X)\n",
    "        J=0.5*sum((y-self.yHat)**2)\n",
    "        return J\n",
    "    \n",
    "    def costFunctionPrime(self,X,y):\n",
    "        self.yHat=self.forward(X)\n",
    "        \n",
    "        delta3=np.multiply(-(y-self.yHat),self.tanhPrime(self.z3))\n",
    "        dJdW2=np.dot(self.a2.T,delta3)\n",
    "        \n",
    "        delta2=np.dot(delta3,self.W2.T)*self.tanhPrime(self.z2)\n",
    "        dJdW1=np.dot(X.T,delta2)\n",
    "        return dJdW1,dJdW2\n",
    "    \n",
    "    def predict(self):\n",
    "        prediksi = self.forward(dataprediksi)\n",
    "        return prediksi\n",
    "    \n",
    "    def getParams(self):\n",
    "        params=np.concatenate((self.W1.ravel(),self.W2.ravel()))\n",
    "        return params\n",
    "    \n",
    "    def setParams(self,params):\n",
    "        W1_start=0\n",
    "        W1_end=self.hiddenLayerSize*self.inputLayerSize\n",
    "        self.W1=np.reshape(params[W1_start:W1_end],\\\n",
    "                          (self.inputLayerSize,self.hiddenLayerSize))\n",
    "        W2_end=W1_end+self.hiddenLayerSize*self.outputLayerSize\n",
    "        self.W2=np.reshape(params[W1_end:W2_end],\\\n",
    "                          (self.hiddenLayerSize,self.outputLayerSize))\n",
    "        \n",
    "    def computeGradients(self, X, y):\n",
    "        dJdW1, dJdW2 = self.costFunctionPrime(X, y)\n",
    "        return np.concatenate((dJdW1.ravel(), dJdW2.ravel()))"
   ]
  },
  {
   "cell_type": "code",
   "execution_count": 3,
   "metadata": {},
   "outputs": [],
   "source": [
    "NN = Neural_Network()"
   ]
  },
  {
   "cell_type": "code",
   "execution_count": 4,
   "metadata": {},
   "outputs": [
    {
     "data": {
      "text/plain": [
       "array([[-0.41486228,  0.91126873,  0.00409597],\n",
       "       [ 0.37718881,  0.18926446, -1.17382382]])"
      ]
     },
     "execution_count": 4,
     "metadata": {},
     "output_type": "execute_result"
    }
   ],
   "source": [
    "NN.W1"
   ]
  },
  {
   "cell_type": "code",
   "execution_count": 5,
   "metadata": {},
   "outputs": [
    {
     "data": {
      "text/plain": [
       "array([[1.05853718],\n",
       "       [1.82449977],\n",
       "       [0.10083759]])"
      ]
     },
     "execution_count": 5,
     "metadata": {},
     "output_type": "execute_result"
    }
   ],
   "source": [
    "NN.W2"
   ]
  },
  {
   "cell_type": "code",
   "execution_count": 6,
   "metadata": {},
   "outputs": [],
   "source": [
    "#KURS\n",
    "X=np.array(([\t0\t,\t0.051924996\t]\t,\n",
    "[\t0.051924996\t,\t0.148319042\t]\t,\n",
    "[\t0.148319042\t,\t0.112113419\t]\t,\n",
    "[\t0.112113419\t,\t0.170734062\t]\t,\n",
    "[\t0.170734062\t,\t0.223256598\t]\t,\n",
    "[\t0.223256598\t,\t0.241974687\t]\t,\n",
    "[\t0.241974687\t,\t0.365733465\t]\t,\n",
    "[\t0.365733465\t,\t0.552558994\t]\t,\n",
    "[\t0.552558994\t,\t0.370023519\t]\t,\n",
    "[\t0.370023519\t,\t0.332531703\t]\t,\n",
    "[\t0.332531703\t,\t0.387887522\t]\t,\n",
    "[\t0.387887522\t,\t0.398363943\t]\t,\n",
    "[\t0.398363943\t,\t0.284826299\t]\t,\n",
    "[\t0.284826299\t,\t0.186735022\t]\t,\n",
    "[\t0.186735022\t,\t0.182694768\t]\t,\n",
    "[\t0.182694768\t,\t0.255617002\t]\t,\n",
    "[\t0.255617002\t,\t0.23597043\t]\t,\n",
    "[\t0.23597043\t,\t0.164134134\t]\t,\n",
    "[\t0.164134134\t,\t0.178176635\t]\t,\n",
    "[\t0.178176635\t,\t0.163956101\t]\t,\n",
    "[\t0.163956101\t,\t0.133241484\t]\t,\n",
    "[\t0.133241484\t,\t0.226399017\t]\t,\n",
    "[\t0.226399017\t,\t0.255013861\t]\t,\n",
    "[\t0.255013861\t,\t0.23708614\t]\t,\n",
    "[\t0.23708614\t,\t0.231651119\t]\t,\n",
    "[\t0.231651119\t,\t0.233067608\t]\t,\n",
    "[\t0.233067608\t,\t0.221173719\t]\t,\n",
    "[\t0.221173719\t,\t0.22633168\t]\t,\n",
    "[\t0.22633168\t,\t0.218698642\t]\t,\n",
    "[\t0.218698642\t,\t0.232032203\t]\t,\n",
    "[\t0.232032203\t,\t0.231947948\t]\t,\n",
    "[\t0.231947948\t,\t0.221547817\t]\t,\n",
    "[\t0.221547817\t,\t0.287958581\t]\t,\n",
    "[\t0.287958581\t,\t0.28837327\t]\t,\n",
    "[\t0.28837327\t,\t0.297145757\t]\t,\n",
    "[\t0.297145757\t,\t0.243669818\t]\t,\n",
    "[\t0.243669818\t,\t0.307437314\t]\t,\n",
    "[\t0.307437314\t,\t0.358597855\t]\t,\n",
    "[\t0.358597855\t,\t0.372181217\t]\t,\n",
    "[\t0.372181217\t,\t0.450259481\t]\t,\n",
    "[\t0.450259481\t,\t0.443095634\t]\t,\n",
    "[\t0.443095634\t,\t0.558155976\t]\t,\n",
    "[\t0.558155976\t,\t0.602359827\t]\t,\n",
    "[\t0.602359827\t,\t0.696291723\t]\t,\n",
    "[\t0.696291723\t,\t0.790604671\t]\t,\n",
    "[\t0.790604671\t,\t0.644022227\t]\t,\n",
    "[\t0.644022227\t,\t0.583228643\t]\t,\n",
    "[\t0.583228643\t,\t0.481715009\t]\t,\n",
    "[\t0.481715009\t,\t0.442812107\t]\t,\n",
    "[\t0.442812107\t,\t0.496270585\t]\t,\n",
    "[\t0.496270585\t,\t0.475463393\t]\t,\n",
    "[\t0.475463393\t,\t0.551559791\t]\t,\n",
    "[\t0.551559791\t,\t0.500994351\t]\t,\n",
    "[\t0.500994351\t,\t0.445458587\t]\t,\n",
    "[\t0.445458587\t,\t0.505711667\t]\t,\n",
    "[\t0.505711667\t,\t0.465889036\t]\t,\n",
    "[\t0.465889036\t,\t0.46785659\t]\t,\n",
    "[\t0.46785659\t,\t0.453001423\t]\t,\n",
    "[\t0.453001423\t,\t0.437411724\t]\t,\n",
    "[\t0.437411724\t,\t0.350673696\t]\t,\n",
    "\n",
    ")           \n",
    ",dtype=float)\n",
    "y=np.array((\n",
    "[\t0.148319042\t]\t,\n",
    "[\t0.112113419\t]\t,\n",
    "[\t0.170734062\t]\t,\n",
    "[\t0.223256598\t]\t,\n",
    "[\t0.241974687\t]\t,\n",
    "[\t0.365733465\t]\t,\n",
    "[\t0.552558994\t]\t,\n",
    "[\t0.370023519\t]\t,\n",
    "[\t0.332531703\t]\t,\n",
    "[\t0.387887522\t]\t,\n",
    "[\t0.398363943\t]\t,\n",
    "[\t0.284826299\t]\t,\n",
    "[\t0.186735022\t]\t,\n",
    "[\t0.182694768\t]\t,\n",
    "[\t0.255617002\t]\t,\n",
    "[\t0.23597043\t]\t,\n",
    "[\t0.164134134\t]\t,\n",
    "[\t0.178176635\t]\t,\n",
    "[\t0.163956101\t]\t,\n",
    "[\t0.133241484\t]\t,\n",
    "[\t0.226399017\t]\t,\n",
    "[\t0.255013861\t]\t,\n",
    "[\t0.23708614\t]\t,\n",
    "[\t0.231651119\t]\t,\n",
    "[\t0.233067608\t]\t,\n",
    "[\t0.221173719\t]\t,\n",
    "[\t0.22633168\t]\t,\n",
    "[\t0.218698642\t]\t,\n",
    "[\t0.232032203\t]\t,\n",
    "[\t0.231947948\t]\t,\n",
    "[\t0.221547817\t]\t,\n",
    "[\t0.287958581\t]\t,\n",
    "[\t0.28837327\t]\t,\n",
    "[\t0.297145757\t]\t,\n",
    "[\t0.243669818\t]\t,\n",
    "[\t0.307437314\t]\t,\n",
    "[\t0.358597855\t]\t,\n",
    "[\t0.372181217\t]\t,\n",
    "[\t0.450259481\t]\t,\n",
    "[\t0.443095634\t]\t,\n",
    "[\t0.558155976\t]\t,\n",
    "[\t0.602359827\t]\t,\n",
    "[\t0.696291723\t]\t,\n",
    "[\t0.790604671\t]\t,\n",
    "[\t0.644022227\t]\t,\n",
    "[\t0.583228643\t]\t,\n",
    "[\t0.481715009\t]\t,\n",
    "[\t0.442812107\t]\t,\n",
    "[\t0.496270585\t]\t,\n",
    "[\t0.475463393\t]\t,\n",
    "[\t0.551559791\t]\t,\n",
    "[\t0.500994351\t]\t,\n",
    "[\t0.445458587\t]\t,\n",
    "[\t0.505711667\t]\t,\n",
    "[\t0.465889036\t]\t,\n",
    "[\t0.46785659\t]\t,\n",
    "[\t0.453001423\t]\t,\n",
    "[\t0.437411724\t]\t,\n",
    "[\t0.350673696\t]\t,\n",
    "[\t0.364031312\t]\t,\n",
    "\n",
    ")\n",
    ",dtype=float)\n",
    "\n",
    "dataprediksi = np.array(([\t0.350673696\t,\t0.364031312\t]\t,\n",
    "[\t0.364031312\t,\t0.795380412\t]\t,\n",
    "[\t0.795380412\t,\t1\t]\t,\n",
    "[\t1\t,\t0.707681705\t]\t,\n",
    "\n",
    "\n",
    "), dtype=float)\n"
   ]
  },
  {
   "cell_type": "code",
   "execution_count": 7,
   "metadata": {},
   "outputs": [],
   "source": [
    "import matplotlib.pyplot as plot"
   ]
  },
  {
   "cell_type": "code",
   "execution_count": 8,
   "metadata": {},
   "outputs": [],
   "source": [
    "from scipy import optimize"
   ]
  },
  {
   "cell_type": "code",
   "execution_count": 9,
   "metadata": {},
   "outputs": [],
   "source": [
    "class trainer(object):\n",
    "    def __init__(self, N):\n",
    "        #Make Local reference to network:\n",
    "        self.N = N\n",
    "        \n",
    "    def callbackF(self, params):\n",
    "        self.N.setParams(params)\n",
    "        self.J.append(self.N.costFunction(self.X, self.y))   \n",
    "        \n",
    "    def costFunctionWrapper(self, params, X, y):\n",
    "        self.N.setParams(params)\n",
    "        cost = self.N.costFunction(X, y)\n",
    "        grad = self.N.computeGradients(X,y)\n",
    "        \n",
    "        return cost, grad\n",
    "        \n",
    "    def train(self, X, y):\n",
    "        #Make an internal variable for the callback function:\n",
    "        self.X = X\n",
    "        self.y = y\n",
    "\n",
    "        #Make empty list to store costs:\n",
    "        self.J = []\n",
    "        \n",
    "        params0 = self.N.getParams()\n",
    "\n",
    "        options = {'maxiter': 100, 'disp' : True}\n",
    "        _res = optimize.minimize(self.costFunctionWrapper, params0, jac=True, method='BFGS', \\\n",
    "                                 args=(X, y), options=options, callback=self.callbackF)\n",
    "\n",
    "        self.N.setParams(_res.x)\n",
    "        self.optimizationResults = _res"
   ]
  },
  {
   "cell_type": "code",
   "execution_count": 10,
   "metadata": {},
   "outputs": [],
   "source": [
    "NN=Neural_Network()"
   ]
  },
  {
   "cell_type": "code",
   "execution_count": 11,
   "metadata": {},
   "outputs": [],
   "source": [
    "T = trainer(NN)"
   ]
  },
  {
   "cell_type": "code",
   "execution_count": 12,
   "metadata": {},
   "outputs": [
    {
     "name": "stdout",
     "output_type": "stream",
     "text": [
      "Warning: Maximum number of iterations has been exceeded.\n",
      "         Current function value: 0.114679\n",
      "         Iterations: 100\n",
      "         Function evaluations: 113\n",
      "         Gradient evaluations: 113\n"
     ]
    }
   ],
   "source": [
    "#Train network with new data:\n",
    "T = trainer(NN)\n",
    "T.train(X,y)"
   ]
  },
  {
   "cell_type": "code",
   "execution_count": 13,
   "metadata": {},
   "outputs": [
    {
     "data": {
      "image/png": "[encoded data removed]",
      "text/plain": [
       "<Figure size 432x288 with 1 Axes>"
      ]
     },
     "metadata": {
      "needs_background": "light"
     },
     "output_type": "display_data"
    }
   ],
   "source": [
    "#Plot cost during training:\n",
    "plot.plot(T.J)\n",
    "plot.grid(1)\n",
    "plot.xlabel('Iterations')\n",
    "plot.ylabel('Cost')\n",
    "plot.show()"
   ]
  },
  {
   "cell_type": "code",
   "execution_count": 14,
   "metadata": {},
   "outputs": [],
   "source": [
    "#Training Data:\n",
    "trainX = np.array(([\t0\t,\t0.051924996\t]\t,\n",
    "[\t0.051924996\t,\t0.148319042\t]\t,\n",
    "[\t0.148319042\t,\t0.112113419\t]\t,\n",
    "[\t0.112113419\t,\t0.170734062\t]\t,\n",
    "[\t0.170734062\t,\t0.223256598\t]\t,\n",
    "[\t0.223256598\t,\t0.241974687\t]\t,\n",
    "[\t0.241974687\t,\t0.365733465\t]\t,\n",
    "[\t0.365733465\t,\t0.552558994\t]\t,\n",
    "[\t0.552558994\t,\t0.370023519\t]\t,\n",
    "[\t0.370023519\t,\t0.332531703\t]\t,\n",
    "[\t0.332531703\t,\t0.387887522\t]\t,\n",
    "[\t0.387887522\t,\t0.398363943\t]\t,\n",
    "[\t0.398363943\t,\t0.284826299\t]\t,\n",
    "[\t0.284826299\t,\t0.186735022\t]\t,\n",
    "[\t0.186735022\t,\t0.182694768\t]\t,\n",
    "[\t0.182694768\t,\t0.255617002\t]\t,\n",
    "[\t0.255617002\t,\t0.23597043\t]\t,\n",
    "[\t0.23597043\t,\t0.164134134\t]\t,\n",
    "[\t0.164134134\t,\t0.178176635\t]\t,\n",
    "[\t0.178176635\t,\t0.163956101\t]\t,\n",
    "[\t0.163956101\t,\t0.133241484\t]\t,\n",
    "[\t0.133241484\t,\t0.226399017\t]\t,\n",
    "[\t0.226399017\t,\t0.255013861\t]\t,\n",
    "[\t0.255013861\t,\t0.23708614\t]\t,\n",
    "[\t0.23708614\t,\t0.231651119\t]\t,\n",
    "[\t0.231651119\t,\t0.233067608\t]\t,\n",
    "[\t0.233067608\t,\t0.221173719\t]\t,\n",
    "[\t0.221173719\t,\t0.22633168\t]\t,\n",
    "[\t0.22633168\t,\t0.218698642\t]\t,\n",
    "[\t0.218698642\t,\t0.232032203\t]\t,\n",
    "[\t0.232032203\t,\t0.231947948\t]\t,\n",
    "[\t0.231947948\t,\t0.221547817\t]\t,\n",
    "[\t0.221547817\t,\t0.287958581\t]\t,\n",
    "[\t0.287958581\t,\t0.28837327\t]\t,\n",
    "[\t0.28837327\t,\t0.297145757\t]\t,\n",
    "[\t0.297145757\t,\t0.243669818\t]\t,\n",
    "[\t0.243669818\t,\t0.307437314\t]\t,\n",
    "[\t0.307437314\t,\t0.358597855\t]\t,\n",
    "[\t0.358597855\t,\t0.372181217\t]\t,\n",
    "[\t0.372181217\t,\t0.450259481\t]\t,\n",
    "[\t0.450259481\t,\t0.443095634\t]\t,\n",
    "[\t0.443095634\t,\t0.558155976\t]\t,\n",
    "[\t0.558155976\t,\t0.602359827\t]\t,\n",
    "[\t0.602359827\t,\t0.696291723\t]\t,\n",
    "[\t0.696291723\t,\t0.790604671\t]\t,\n",
    "[\t0.790604671\t,\t0.644022227\t]\t,\n",
    "[\t0.644022227\t,\t0.583228643\t]\t,\n",
    "\n",
    ")\n",
    ", dtype=float)\n",
    "trainY = np.array((\n",
    "[\t0.148319042\t]\t,\n",
    "[\t0.112113419\t]\t,\n",
    "[\t0.170734062\t]\t,\n",
    "[\t0.223256598\t]\t,\n",
    "[\t0.241974687\t]\t,\n",
    "[\t0.365733465\t]\t,\n",
    "[\t0.552558994\t]\t,\n",
    "[\t0.370023519\t]\t,\n",
    "[\t0.332531703\t]\t,\n",
    "[\t0.387887522\t]\t,\n",
    "[\t0.398363943\t]\t,\n",
    "[\t0.284826299\t]\t,\n",
    "[\t0.186735022\t]\t,\n",
    "[\t0.182694768\t]\t,\n",
    "[\t0.255617002\t]\t,\n",
    "[\t0.23597043\t]\t,\n",
    "[\t0.164134134\t]\t,\n",
    "[\t0.178176635\t]\t,\n",
    "[\t0.163956101\t]\t,\n",
    "[\t0.133241484\t]\t,\n",
    "[\t0.226399017\t]\t,\n",
    "[\t0.255013861\t]\t,\n",
    "[\t0.23708614\t]\t,\n",
    "[\t0.231651119\t]\t,\n",
    "[\t0.233067608\t]\t,\n",
    "[\t0.221173719\t]\t,\n",
    "[\t0.22633168\t]\t,\n",
    "[\t0.218698642\t]\t,\n",
    "[\t0.232032203\t]\t,\n",
    "[\t0.231947948\t]\t,\n",
    "[\t0.221547817\t]\t,\n",
    "[\t0.287958581\t]\t,\n",
    "[\t0.28837327\t]\t,\n",
    "[\t0.297145757\t]\t,\n",
    "[\t0.243669818\t]\t,\n",
    "[\t0.307437314\t]\t,\n",
    "[\t0.358597855\t]\t,\n",
    "[\t0.372181217\t]\t,\n",
    "[\t0.450259481\t]\t,\n",
    "[\t0.443095634\t]\t,\n",
    "[\t0.558155976\t]\t,\n",
    "[\t0.602359827\t]\t,\n",
    "[\t0.696291723\t]\t,\n",
    "[\t0.790604671\t]\t,\n",
    "[\t0.644022227\t]\t,\n",
    "[\t0.583228643\t]\t,\n",
    "[\t0.481715009\t]\t,\n",
    "\n",
    "\n",
    ")\n",
    ", dtype=float)\n",
    "\n",
    "#Testing Data:\n",
    "testX = np.array(([\t0.583228643\t,\t0.481715009\t]\t,\n",
    "[\t0.481715009\t,\t0.442812107\t]\t,\n",
    "[\t0.442812107\t,\t0.496270585\t]\t,\n",
    "[\t0.496270585\t,\t0.475463393\t]\t,\n",
    "[\t0.475463393\t,\t0.551559791\t]\t,\n",
    "[\t0.551559791\t,\t0.500994351\t]\t,\n",
    "[\t0.500994351\t,\t0.445458587\t]\t,\n",
    "[\t0.445458587\t,\t0.505711667\t]\t,\n",
    "[\t0.505711667\t,\t0.465889036\t]\t,\n",
    "[\t0.465889036\t,\t0.46785659\t]\t,\n",
    "[\t0.46785659\t,\t0.453001423\t]\t,\n",
    "[\t0.453001423\t,\t0.437411724\t]\t,\n",
    "[\t0.437411724\t,\t0.350673696\t]\t,\n",
    "\n",
    ")\n",
    ", dtype=float)\n",
    "testY = np.array(([\t0.442812107\t]\t,\n",
    "[\t0.496270585\t]\t,\n",
    "[\t0.475463393\t]\t,\n",
    "[\t0.551559791\t]\t,\n",
    "[\t0.500994351\t]\t,\n",
    "[\t0.445458587\t]\t,\n",
    "[\t0.505711667\t]\t,\n",
    "[\t0.465889036\t]\t,\n",
    "[\t0.46785659\t]\t,\n",
    "[\t0.453001423\t]\t,\n",
    "[\t0.437411724\t]\t,\n",
    "[\t0.350673696\t]\t,\n",
    "[\t0.364031312\t]\t,\n",
    "\n",
    ")\n",
    ", dtype=float)\n",
    "\n",
    "\n",
    "dataprediksi = np.array(([\t0.350673696\t,\t0.364031312\t]\t,\n",
    "[\t0.364031312\t,\t0.795380412\t]\t,\n",
    "[\t0.795380412\t,\t1\t]\t,\n",
    "[\t1\t,\t0.707681705\t]\t,\n",
    "\n",
    "\n",
    "), dtype=float)"
   ]
  },
  {
   "cell_type": "code",
   "execution_count": 15,
   "metadata": {},
   "outputs": [
    {
     "data": {
      "text/plain": [
       "array([[0.58322864, 0.48171501],\n",
       "       [0.48171501, 0.44281211],\n",
       "       [0.44281211, 0.49627058],\n",
       "       [0.49627058, 0.47546339],\n",
       "       [0.47546339, 0.55155979],\n",
       "       [0.55155979, 0.50099435],\n",
       "       [0.50099435, 0.44545859],\n",
       "       [0.44545859, 0.50571167],\n",
       "       [0.50571167, 0.46588904],\n",
       "       [0.46588904, 0.46785659],\n",
       "       [0.46785659, 0.45300142],\n",
       "       [0.45300142, 0.43741172],\n",
       "       [0.43741172, 0.3506737 ]])"
      ]
     },
     "execution_count": 15,
     "metadata": {},
     "output_type": "execute_result"
    }
   ],
   "source": [
    "testX"
   ]
  },
  {
   "cell_type": "code",
   "execution_count": 16,
   "metadata": {},
   "outputs": [],
   "source": [
    "##Need to modify trainer class a bit to check testing error during training:\n",
    "class trainer(object):\n",
    "    def __init__(self, N):\n",
    "        #Make Local reference to network:\n",
    "        self.N = N\n",
    "        \n",
    "    def callbackF(self, params):\n",
    "        self.N.setParams(params)\n",
    "        self.J.append(self.N.costFunction(self.X, self.y))\n",
    "        self.testJ.append(self.N.costFunction(self.testX, self.testY))\n",
    "        \n",
    "    def costFunctionWrapper(self, params, X, y):\n",
    "        self.N.setParams(params)\n",
    "        cost = self.N.costFunction(X, y)\n",
    "        grad = self.N.computeGradients(X,y)\n",
    "        \n",
    "        return cost, grad\n",
    "        \n",
    "    def train(self, trainX, trainY, testX, testY):\n",
    "        #Make an internal variable for the callback function:\n",
    "        self.X = trainX\n",
    "        self.y = trainY\n",
    "        \n",
    "        self.testX = testX\n",
    "        self.testY = testY\n",
    "\n",
    "        #Make empty list to store training costs:\n",
    "        self.J = []\n",
    "        self.testJ = []\n",
    "        \n",
    "        params0 = self.N.getParams()\n",
    "\n",
    "        options = {'maxiter': 100, 'disp' : True}\n",
    "        _res = optimize.minimize(self.costFunctionWrapper, params0, jac=True, method='BFGS', \\\n",
    "                                 args=(trainX, trainY), options=options, callback=self.callbackF)\n",
    "\n",
    "        self.N.setParams(_res.x)\n",
    "        self.optimizationResults = _res"
   ]
  },
  {
   "cell_type": "code",
   "execution_count": 17,
   "metadata": {},
   "outputs": [
    {
     "name": "stdout",
     "output_type": "stream",
     "text": [
      "Warning: Maximum number of iterations has been exceeded.\n",
      "         Current function value: 0.104656\n",
      "         Iterations: 100\n",
      "         Function evaluations: 119\n",
      "         Gradient evaluations: 119\n"
     ]
    }
   ],
   "source": [
    "#Train network with new data:\n",
    "NN = Neural_Network()\n",
    "\n",
    "T = trainer(NN)\n",
    "T.train(trainX, trainY, testX, testY)"
   ]
  },
  {
   "cell_type": "code",
   "execution_count": 18,
   "metadata": {},
   "outputs": [
    {
     "data": {
      "image/png": "[encoded data removed]",
      "text/plain": [
       "<Figure size 432x288 with 1 Axes>"
      ]
     },
     "metadata": {
      "needs_background": "light"
     },
     "output_type": "display_data"
    }
   ],
   "source": [
    "#Plot cost during training:\n",
    "plot.plot(T.J)\n",
    "plot.plot(T.testJ)\n",
    "plot.grid(1)\n",
    "plot.xlabel('Iterations')\n",
    "plot.ylabel('Cost')\n",
    "plot.legend(['Training', 'Testing'])\n",
    "plot.show()"
   ]
  },
  {
   "cell_type": "code",
   "execution_count": 19,
   "metadata": {},
   "outputs": [
    {
     "data": {
      "text/plain": [
       "[array([1.59539957]),\n",
       " array([0.22446424]),\n",
       " array([0.17990806]),\n",
       " array([0.16928803]),\n",
       " array([0.14990121]),\n",
       " array([0.12127136]),\n",
       " array([0.11447095]),\n",
       " array([0.11412736]),\n",
       " array([0.11356525]),\n",
       " array([0.11300016]),\n",
       " array([0.11207629]),\n",
       " array([0.11092415]),\n",
       " array([0.11053645]),\n",
       " array([0.1099973]),\n",
       " array([0.10961575]),\n",
       " array([0.10945769]),\n",
       " array([0.1093922]),\n",
       " array([0.10933512]),\n",
       " array([0.10922942]),\n",
       " array([0.10903521]),\n",
       " array([0.10871287]),\n",
       " array([0.10849981]),\n",
       " array([0.10845808]),\n",
       " array([0.10841039]),\n",
       " array([0.10840209]),\n",
       " array([0.10837502]),\n",
       " array([0.108323]),\n",
       " array([0.10823536]),\n",
       " array([0.10819193]),\n",
       " array([0.10814613]),\n",
       " array([0.10810235]),\n",
       " array([0.10808824]),\n",
       " array([0.10806863]),\n",
       " array([0.10805369]),\n",
       " array([0.10802881]),\n",
       " array([0.10798698]),\n",
       " array([0.10791623]),\n",
       " array([0.10786469]),\n",
       " array([0.10784218]),\n",
       " array([0.10783208]),\n",
       " array([0.10782416]),\n",
       " array([0.10779887]),\n",
       " array([0.10775816]),\n",
       " array([0.10771601]),\n",
       " array([0.10770712]),\n",
       " array([0.10769261]),\n",
       " array([0.10767818]),\n",
       " array([0.10767019]),\n",
       " array([0.10765775]),\n",
       " array([0.10763856]),\n",
       " array([0.10761397]),\n",
       " array([0.10759371]),\n",
       " array([0.10758953]),\n",
       " array([0.10758228]),\n",
       " array([0.10757026]),\n",
       " array([0.10755163]),\n",
       " array([0.10752339]),\n",
       " array([0.10751689]),\n",
       " array([0.10750556]),\n",
       " array([0.1074863]),\n",
       " array([0.10745464]),\n",
       " array([0.10740211]),\n",
       " array([0.10737871]),\n",
       " array([0.10733793]),\n",
       " array([0.10726824]),\n",
       " array([0.10721931]),\n",
       " array([0.10713733]),\n",
       " array([0.10700358]),\n",
       " array([0.10693862]),\n",
       " array([0.10685937]),\n",
       " array([0.10676749]),\n",
       " array([0.10660837]),\n",
       " array([0.10637143]),\n",
       " array([0.10602824]),\n",
       " array([0.10594452]),\n",
       " array([0.10583272]),\n",
       " array([0.1056929]),\n",
       " array([0.10550539]),\n",
       " array([0.10545754]),\n",
       " array([0.1054012]),\n",
       " array([0.10538664]),\n",
       " array([0.10537684]),\n",
       " array([0.1053767]),\n",
       " array([0.10537645]),\n",
       " array([0.10537607]),\n",
       " array([0.10537573]),\n",
       " array([0.1053753]),\n",
       " array([0.1053745]),\n",
       " array([0.10537299]),\n",
       " array([0.10537014]),\n",
       " array([0.10536472]),\n",
       " array([0.10535439]),\n",
       " array([0.10531046]),\n",
       " array([0.10528705]),\n",
       " array([0.1052494]),\n",
       " array([0.10519565]),\n",
       " array([0.10510586]),\n",
       " array([0.105023]),\n",
       " array([0.10487808]),\n",
       " array([0.10465623])]"
      ]
     },
     "execution_count": 19,
     "metadata": {},
     "output_type": "execute_result"
    }
   ],
   "source": [
    "T.J"
   ]
  },
  {
   "cell_type": "code",
   "execution_count": 20,
   "metadata": {},
   "outputs": [
    {
     "data": {
      "text/plain": [
       "[array([0.67842687]),\n",
       " array([0.05541457]),\n",
       " array([0.01885027]),\n",
       " array([0.01617426]),\n",
       " array([0.01413619]),\n",
       " array([0.01291987]),\n",
       " array([0.01420853]),\n",
       " array([0.01381767]),\n",
       " array([0.01369429]),\n",
       " array([0.01380534]),\n",
       " array([0.01395235]),\n",
       " array([0.01422258]),\n",
       " array([0.01415633]),\n",
       " array([0.01410531]),\n",
       " array([0.01442958]),\n",
       " array([0.01415356]),\n",
       " array([0.01431626]),\n",
       " array([0.01436475]),\n",
       " array([0.01440175]),\n",
       " array([0.0144384]),\n",
       " array([0.01448558]),\n",
       " array([0.01486155]),\n",
       " array([0.01540272]),\n",
       " array([0.01509599]),\n",
       " array([0.01507823]),\n",
       " array([0.0151213]),\n",
       " array([0.01512634]),\n",
       " array([0.01502464]),\n",
       " array([0.01492989]),\n",
       " array([0.0149994]),\n",
       " array([0.01516317]),\n",
       " array([0.01519679]),\n",
       " array([0.01529188]),\n",
       " array([0.01536296]),\n",
       " array([0.01540793]),\n",
       " array([0.01543509]),\n",
       " array([0.01539378]),\n",
       " array([0.01532294]),\n",
       " array([0.01517247]),\n",
       " array([0.01506158]),\n",
       " array([0.01507602]),\n",
       " array([0.01517726]),\n",
       " array([0.01518876]),\n",
       " array([0.01509443]),\n",
       " array([0.01535178]),\n",
       " array([0.01526893]),\n",
       " array([0.01512122]),\n",
       " array([0.01516824]),\n",
       " array([0.01518629]),\n",
       " array([0.01517752]),\n",
       " array([0.01520745]),\n",
       " array([0.01527565]),\n",
       " array([0.0152255]),\n",
       " array([0.01522991]),\n",
       " array([0.01524913]),\n",
       " array([0.01525487]),\n",
       " array([0.01533079]),\n",
       " array([0.01525809]),\n",
       " array([0.01522769]),\n",
       " array([0.01520284]),\n",
       " array([0.01518579]),\n",
       " array([0.01520259]),\n",
       " array([0.01513079]),\n",
       " array([0.0151435]),\n",
       " array([0.01523592]),\n",
       " array([0.01513042]),\n",
       " array([0.01516517]),\n",
       " array([0.01531847]),\n",
       " array([0.0151752]),\n",
       " array([0.01519964]),\n",
       " array([0.01502958]),\n",
       " array([0.01517155]),\n",
       " array([0.0152544]),\n",
       " array([0.0155911]),\n",
       " array([0.0153569]),\n",
       " array([0.01525217]),\n",
       " array([0.01541234]),\n",
       " array([0.01560047]),\n",
       " array([0.01546075]),\n",
       " array([0.01582595]),\n",
       " array([0.01575582]),\n",
       " array([0.01585742]),\n",
       " array([0.01581475]),\n",
       " array([0.0158233]),\n",
       " array([0.01583925]),\n",
       " array([0.01585751]),\n",
       " array([0.01587068]),\n",
       " array([0.01588488]),\n",
       " array([0.01590172]),\n",
       " array([0.01592495]),\n",
       " array([0.01595735]),\n",
       " array([0.01600045]),\n",
       " array([0.01596778]),\n",
       " array([0.01589771]),\n",
       " array([0.01601916]),\n",
       " array([0.01583409]),\n",
       " array([0.01596694]),\n",
       " array([0.01564506]),\n",
       " array([0.01579328]),\n",
       " array([0.01570247])]"
      ]
     },
     "execution_count": 20,
     "metadata": {},
     "output_type": "execute_result"
    }
   ],
   "source": [
    "T.testJ"
   ]
  },
  {
   "cell_type": "code",
   "execution_count": 21,
   "metadata": {},
   "outputs": [
    {
     "data": {
      "text/plain": [
       "0.10323652773932976"
      ]
     },
     "execution_count": 21,
     "metadata": {},
     "output_type": "execute_result"
    }
   ],
   "source": [
    "from sklearn.metrics import mean_absolute_error\n",
    "mean_absolute_error(T.J, T.testJ)"
   ]
  },
  {
   "cell_type": "code",
   "execution_count": 22,
   "metadata": {},
   "outputs": [],
   "source": [
    "yHat = NN.forward(X)"
   ]
  },
  {
   "cell_type": "code",
   "execution_count": 23,
   "metadata": {},
   "outputs": [
    {
     "data": {
      "text/plain": [
       "array([[0.05670712],\n",
       "       [0.16061477],\n",
       "       [0.11667305],\n",
       "       [0.18359706],\n",
       "       [0.24012752],\n",
       "       [0.25955714],\n",
       "       [0.3864365 ],\n",
       "       [0.54840457],\n",
       "       [0.32360897],\n",
       "       [0.34798699],\n",
       "       [0.40979937],\n",
       "       [0.41811724],\n",
       "       [0.28001863],\n",
       "       [0.18526278],\n",
       "       [0.19478103],\n",
       "       [0.27470929],\n",
       "       [0.25074141],\n",
       "       [0.16738612],\n",
       "       [0.19070063],\n",
       "       [0.17395012],\n",
       "       [0.13971173],\n",
       "       [0.24365577],\n",
       "       [0.27375054],\n",
       "       [0.25208666],\n",
       "       [0.24729707],\n",
       "       [0.24924131],\n",
       "       [0.23563476],\n",
       "       [0.24223682],\n",
       "       [0.23329455],\n",
       "       [0.24871891],\n",
       "       [0.24795667],\n",
       "       [0.23614721],\n",
       "       [0.30881393],\n",
       "       [0.30754407],\n",
       "       [0.3172    ],\n",
       "       [0.25437252],\n",
       "       [0.32908315],\n",
       "       [0.38102804],\n",
       "       [0.39311733],\n",
       "       [0.46816255],\n",
       "       [0.45764536],\n",
       "       [0.55863115],\n",
       "       [0.59313609],\n",
       "       [0.65886752],\n",
       "       [0.71497607],\n",
       "       [0.56200914],\n",
       "       [0.55995893],\n",
       "       [0.46508672],\n",
       "       [0.45183116],\n",
       "       [0.50887423],\n",
       "       [0.48403065],\n",
       "       [0.55477744],\n",
       "       [0.49887234],\n",
       "       [0.45012964],\n",
       "       [0.51701896],\n",
       "       [0.47188542],\n",
       "       [0.48080064],\n",
       "       [0.46538347],\n",
       "       [0.45130866],\n",
       "       [0.35357572]])"
      ]
     },
     "execution_count": 23,
     "metadata": {},
     "output_type": "execute_result"
    }
   ],
   "source": [
    "yHat"
   ]
  },
  {
   "cell_type": "code",
   "execution_count": 24,
   "metadata": {},
   "outputs": [
    {
     "data": {
      "text/plain": [
       "array([[0.14831904],\n",
       "       [0.11211342],\n",
       "       [0.17073406],\n",
       "       [0.2232566 ],\n",
       "       [0.24197469],\n",
       "       [0.36573346],\n",
       "       [0.55255899],\n",
       "       [0.37002352],\n",
       "       [0.3325317 ],\n",
       "       [0.38788752],\n",
       "       [0.39836394],\n",
       "       [0.2848263 ],\n",
       "       [0.18673502],\n",
       "       [0.18269477],\n",
       "       [0.255617  ],\n",
       "       [0.23597043],\n",
       "       [0.16413413],\n",
       "       [0.17817663],\n",
       "       [0.1639561 ],\n",
       "       [0.13324148],\n",
       "       [0.22639902],\n",
       "       [0.25501386],\n",
       "       [0.23708614],\n",
       "       [0.23165112],\n",
       "       [0.23306761],\n",
       "       [0.22117372],\n",
       "       [0.22633168],\n",
       "       [0.21869864],\n",
       "       [0.2320322 ],\n",
       "       [0.23194795],\n",
       "       [0.22154782],\n",
       "       [0.28795858],\n",
       "       [0.28837327],\n",
       "       [0.29714576],\n",
       "       [0.24366982],\n",
       "       [0.30743731],\n",
       "       [0.35859786],\n",
       "       [0.37218122],\n",
       "       [0.45025948],\n",
       "       [0.44309563],\n",
       "       [0.55815598],\n",
       "       [0.60235983],\n",
       "       [0.69629172],\n",
       "       [0.79060467],\n",
       "       [0.64402223],\n",
       "       [0.58322864],\n",
       "       [0.48171501],\n",
       "       [0.44281211],\n",
       "       [0.49627058],\n",
       "       [0.47546339],\n",
       "       [0.55155979],\n",
       "       [0.50099435],\n",
       "       [0.44545859],\n",
       "       [0.50571167],\n",
       "       [0.46588904],\n",
       "       [0.46785659],\n",
       "       [0.45300142],\n",
       "       [0.43741172],\n",
       "       [0.3506737 ],\n",
       "       [0.36403131]])"
      ]
     },
     "execution_count": 24,
     "metadata": {},
     "output_type": "execute_result"
    }
   ],
   "source": [
    "y"
   ]
  },
  {
   "cell_type": "code",
   "execution_count": 25,
   "metadata": {},
   "outputs": [
    {
     "data": {
      "text/plain": [
       "0.004011956467399127"
      ]
     },
     "execution_count": 25,
     "metadata": {},
     "output_type": "execute_result"
    }
   ],
   "source": [
    "from sklearn.metrics import mean_squared_error \n",
    "mean_squared_error(y,yHat) "
   ]
  },
  {
   "cell_type": "code",
   "execution_count": 26,
   "metadata": {},
   "outputs": [
    {
     "data": {
      "image/png": "[encoded data removed]",
      "text/plain": [
       "<Figure size 432x288 with 1 Axes>"
      ]
     },
     "metadata": {
      "needs_background": "light"
     },
     "output_type": "display_data"
    }
   ],
   "source": [
    "#Plot cost during training:\n",
    "plot.plot(y)\n",
    "plot.plot(yHat)\n",
    "plot.grid(1)\n",
    "plot.legend(['y', 'yHat'])\n",
    "plot.show()"
   ]
  },
  {
   "cell_type": "code",
   "execution_count": 27,
   "metadata": {},
   "outputs": [],
   "source": [
    "#Regularization Parameter:\n",
    "Lambda = 0.0001"
   ]
  },
  {
   "cell_type": "code",
   "execution_count": 28,
   "metadata": {},
   "outputs": [],
   "source": [
    "#Need to make changes to costFunction and costFunctionPrim:\n",
    "def costFunction(self, X, y):\n",
    "    #Compute cost for given X,y, use weights already stored in class.\n",
    "    self.yHat = self.forward(X)\n",
    "    #We don't want cost to increase with the number of examples, so normalize by dividing the error term by number of examples(X.shape[0])\n",
    "    J = 0.5*sum((y-self.yHat)**2)/X.shape[0] + (self.Lambda/2)*(sum(self.W1**2)+sum(self.W2**2))\n",
    "    return J\n",
    "\n",
    "def costFunctionPrime(self, X, y):\n",
    "    #Compute derivative with respect to W and W2 for a given X and y:\n",
    "    self.yHat = self.forward(X)\n",
    "\n",
    "    delta3 = np.multiply(-(y-self.yHat), self.tanhPrime(self.z3))\n",
    "    #Add gradient of regularization term:\n",
    "    dJdW2 = np.dot(self.a2.T, delta3)/X.shape[0] + self.Lambda*self.W2\n",
    "\n",
    "    delta2 = np.dot(delta3, self.W2.T)*self.tanhPrime(self.z2)\n",
    "    #Add gradient of regularization term:\n",
    "    dJdW1 = np.dot(X.T, delta2)/X.shape[0] + self.Lambda*self.W1\n",
    "\n",
    "    return dJdW1, dJdW2"
   ]
  },
  {
   "cell_type": "code",
   "execution_count": 29,
   "metadata": {},
   "outputs": [],
   "source": [
    "#New complete class, with changes:\n",
    "class Neural_Network(object):\n",
    "    def __init__(self, Lambda=0.0001):        \n",
    "        #Define Hyperparameters\n",
    "        self.inputLayerSize = 2\n",
    "        self.outputLayerSize = 1\n",
    "        self.hiddenLayerSize = 3\n",
    "        \n",
    "        #Weights (parameters)\n",
    "        self.W1 = np.random.randn(self.inputLayerSize,self.hiddenLayerSize)\n",
    "        self.W2 = np.random.randn(self.hiddenLayerSize,self.outputLayerSize)\n",
    "        \n",
    "        #Regularization Parameter:\n",
    "        self.Lambda = Lambda\n",
    "        \n",
    "    def forward(self, X):\n",
    "        #Propogate inputs though network\n",
    "        self.z2 = np.dot(X, self.W1)\n",
    "        self.a2 = self.tanh(self.z2)\n",
    "        self.z3 = np.dot(self.a2, self.W2)\n",
    "        yHat = self.tanh(self.z3) \n",
    "        return yHat\n",
    "        \n",
    "    def tanh(self, z):\n",
    "        # activation function\n",
    "        return (np.exp(z)-np.exp(-z))/(np.exp(z)+np.exp(-z))\n",
    "    \n",
    "    def tanhPrime(self,z): \n",
    "        #derivative of tanh\n",
    "        return 1-((np.exp(z)-np.exp(-z))/(np.exp(z)+np.exp(-z)))**2\n",
    "    \n",
    "    def costFunction(self, X, y):\n",
    "        #Compute cost for given X,y, use weights already stored in class.\n",
    "        self.yHat = self.forward(X)\n",
    "        J = 0.5*sum((y-self.yHat)**2)/X.shape[0] + (self.Lambda/2)*(np.sum(self.W1**2)+np.sum(self.W2**2))\n",
    "        return J\n",
    "        \n",
    "    def costFunctionPrime(self, X, y):\n",
    "        #Compute derivative with respect to W and W2 for a given X and y:\n",
    "        self.yHat = self.forward(X)\n",
    "        \n",
    "        delta3 = np.multiply(-(y-self.yHat), self.tanhPrime(self.z3))\n",
    "        #Add gradient of regularization term:\n",
    "        dJdW2 = np.dot(self.a2.T, delta3)/X.shape[0] + self.Lambda*self.W2\n",
    "        \n",
    "        delta2 = np.dot(delta3, self.W2.T)*self.tanhPrime(self.z2)\n",
    "        #Add gradient of regularization term:\n",
    "        dJdW1 = np.dot(X.T, delta2)/X.shape[0] + self.Lambda*self.W1\n",
    "        \n",
    "        return dJdW1, dJdW2\n",
    "    \n",
    "    def predict(self):\n",
    "        prediksi = self.forward(dataprediksi)\n",
    "        return prediksi\n",
    "    \n",
    "    #Helper functions for interacting with other methods/classes\n",
    "    def getParams(self):\n",
    "        #Get W1 and W2 Rolled into vector:\n",
    "        params = np.concatenate((self.W1.ravel(), self.W2.ravel()))\n",
    "        return params\n",
    "    \n",
    "    def setParams(self, params):\n",
    "        #Set W1 and W2 using single parameter vector:\n",
    "        W1_start = 0\n",
    "        W1_end = self.hiddenLayerSize*self.inputLayerSize\n",
    "        self.W1 = np.reshape(params[W1_start:W1_end], \\\n",
    "                             (self.inputLayerSize, self.hiddenLayerSize))\n",
    "        W2_end = W1_end + self.hiddenLayerSize*self.outputLayerSize\n",
    "        self.W2 = np.reshape(params[W1_end:W2_end], \\\n",
    "                             (self.hiddenLayerSize, self.outputLayerSize))\n",
    "        \n",
    "    def computeGradients(self, X, y):\n",
    "        dJdW1, dJdW2 = self.costFunctionPrime(X, y)\n",
    "        return np.concatenate((dJdW1.ravel(), dJdW2.ravel()))"
   ]
  },
  {
   "cell_type": "code",
   "execution_count": 30,
   "metadata": {},
   "outputs": [],
   "source": [
    "def computeNumericalGradient(N, X, y):\n",
    "    paramsInitial = N.getParams()\n",
    "    numgrad = np.zeros(paramsInitial.shape)\n",
    "    perturb = np.zeros(paramsInitial.shape)\n",
    "    e = 1e-4\n",
    "\n",
    "    for p in range(len(paramsInitial)):\n",
    "        #Set perturbation vector\n",
    "        perturb[p] = e\n",
    "        N.setParams(paramsInitial + perturb)\n",
    "        loss2 = N.costFunction(X, y)\n",
    "            \n",
    "        N.setParams(paramsInitial - perturb)\n",
    "        loss1 = N.costFunction(X, y)\n",
    "\n",
    "        #Compute Numerical Gradient\n",
    "        numgrad[p] = (loss2 - loss1) / (2*e)\n",
    "\n",
    "            #Return the value we changed to zero:\n",
    "        perturb[p] = 0\n",
    "            \n",
    "    #Return Params to original value:\n",
    "    N.setParams(paramsInitial)\n",
    "\n",
    "    return numgrad "
   ]
  },
  {
   "cell_type": "code",
   "execution_count": 31,
   "metadata": {},
   "outputs": [],
   "source": [
    "NN = Neural_Network(Lambda=0.0001)"
   ]
  },
  {
   "cell_type": "code",
   "execution_count": 32,
   "metadata": {},
   "outputs": [],
   "source": [
    "#Make sure our gradients our correct after making changes:\n",
    "numgrad = computeNumericalGradient(NN, X, y)\n",
    "grad = NN.computeGradients(X,y)"
   ]
  },
  {
   "cell_type": "code",
   "execution_count": 33,
   "metadata": {},
   "outputs": [
    {
     "data": {
      "text/plain": [
       "2.2803969552787098e-10"
      ]
     },
     "execution_count": 33,
     "metadata": {},
     "output_type": "execute_result"
    }
   ],
   "source": [
    "#Should be less than 1e-8:\n",
    "np.linalg.norm(grad-numgrad)/np.linalg.norm(grad+numgrad)"
   ]
  },
  {
   "cell_type": "code",
   "execution_count": 34,
   "metadata": {},
   "outputs": [],
   "source": [
    "T = trainer(NN)"
   ]
  },
  {
   "cell_type": "code",
   "execution_count": 35,
   "metadata": {},
   "outputs": [
    {
     "name": "stdout",
     "output_type": "stream",
     "text": [
      "Warning: Maximum number of iterations has been exceeded.\n",
      "         Current function value: 0.002178\n",
      "         Iterations: 100\n",
      "         Function evaluations: 114\n",
      "         Gradient evaluations: 114\n"
     ]
    }
   ],
   "source": [
    "T.train(X,y,testX,testY)"
   ]
  },
  {
   "cell_type": "code",
   "execution_count": 36,
   "metadata": {},
   "outputs": [
    {
     "data": {
      "image/png": "[encoded data removed]",
      "text/plain": [
       "<Figure size 432x288 with 1 Axes>"
      ]
     },
     "metadata": {
      "needs_background": "light"
     },
     "output_type": "display_data"
    }
   ],
   "source": [
    "plot.plot(T.J)\n",
    "plot.plot(T.testJ)\n",
    "plot.grid(1)\n",
    "plot.xlabel('Iterations')\n",
    "plot.ylabel('Cost')\n",
    "plot.legend(['Training', 'Testing'])\n",
    "plot.show()"
   ]
  },
  {
   "cell_type": "code",
   "execution_count": 37,
   "metadata": {},
   "outputs": [
    {
     "data": {
      "text/plain": [
       "[array([0.02107859]),\n",
       " array([0.0042928]),\n",
       " array([0.00402247]),\n",
       " array([0.00401059]),\n",
       " array([0.00400248]),\n",
       " array([0.0039873]),\n",
       " array([0.00395843]),\n",
       " array([0.00390332]),\n",
       " array([0.00307824]),\n",
       " array([0.00304666]),\n",
       " array([0.00303172]),\n",
       " array([0.00300386]),\n",
       " array([0.00295316]),\n",
       " array([0.00286657]),\n",
       " array([0.00273478]),\n",
       " array([0.00258793]),\n",
       " array([0.00247106]),\n",
       " array([0.00241518]),\n",
       " array([0.00239931]),\n",
       " array([0.00238171]),\n",
       " array([0.00238019]),\n",
       " array([0.00237774]),\n",
       " array([0.00237319]),\n",
       " array([0.00236464]),\n",
       " array([0.0023492]),\n",
       " array([0.0023247]),\n",
       " array([0.00230174]),\n",
       " array([0.00228272]),\n",
       " array([0.00225688]),\n",
       " array([0.00224567]),\n",
       " array([0.0022378]),\n",
       " array([0.002234]),\n",
       " array([0.00223168]),\n",
       " array([0.00223064]),\n",
       " array([0.00223045]),\n",
       " array([0.00223026]),\n",
       " array([0.00223016]),\n",
       " array([0.00223003]),\n",
       " array([0.00222996]),\n",
       " array([0.00222984]),\n",
       " array([0.00222962]),\n",
       " array([0.00222923]),\n",
       " array([0.00222852]),\n",
       " array([0.00222722]),\n",
       " array([0.00222492]),\n",
       " array([0.00222126]),\n",
       " array([0.0022156]),\n",
       " array([0.00220824]),\n",
       " array([0.00220476]),\n",
       " array([0.00220301]),\n",
       " array([0.00220019]),\n",
       " array([0.00219644]),\n",
       " array([0.00219568]),\n",
       " array([0.00219476]),\n",
       " array([0.00219456]),\n",
       " array([0.00219449]),\n",
       " array([0.00219445]),\n",
       " array([0.00219437]),\n",
       " array([0.00219422]),\n",
       " array([0.00219395]),\n",
       " array([0.00219363]),\n",
       " array([0.00219348]),\n",
       " array([0.00219343]),\n",
       " array([0.00219342]),\n",
       " array([0.00219341]),\n",
       " array([0.00219339]),\n",
       " array([0.00219336]),\n",
       " array([0.00219333]),\n",
       " array([0.00219326]),\n",
       " array([0.00219313]),\n",
       " array([0.00219289]),\n",
       " array([0.00219245]),\n",
       " array([0.00219161]),\n",
       " array([0.00218404]),\n",
       " array([0.00218354]),\n",
       " array([0.00218281]),\n",
       " array([0.00218268]),\n",
       " array([0.00218263]),\n",
       " array([0.00218262]),\n",
       " array([0.00218262]),\n",
       " array([0.00218262]),\n",
       " array([0.00218261]),\n",
       " array([0.00218259]),\n",
       " array([0.00218257]),\n",
       " array([0.00218254]),\n",
       " array([0.00218252]),\n",
       " array([0.00218251]),\n",
       " array([0.0021825]),\n",
       " array([0.0021825]),\n",
       " array([0.0021825]),\n",
       " array([0.00218249]),\n",
       " array([0.00218248]),\n",
       " array([0.00218246]),\n",
       " array([0.00218242]),\n",
       " array([0.00218235]),\n",
       " array([0.00218223]),\n",
       " array([0.00218202]),\n",
       " array([0.00218165]),\n",
       " array([0.00217907]),\n",
       " array([0.00217839])]"
      ]
     },
     "execution_count": 37,
     "metadata": {},
     "output_type": "execute_result"
    }
   ],
   "source": [
    "T.J"
   ]
  },
  {
   "cell_type": "code",
   "execution_count": 38,
   "metadata": {},
   "outputs": [
    {
     "data": {
      "text/plain": [
       "[array([0.02480238]),\n",
       " array([0.00154519]),\n",
       " array([0.00139668]),\n",
       " array([0.00142866]),\n",
       " array([0.00144529]),\n",
       " array([0.00146208]),\n",
       " array([0.00148155]),\n",
       " array([0.00150448]),\n",
       " array([0.00113352]),\n",
       " array([0.00110818]),\n",
       " array([0.00110691]),\n",
       " array([0.00110356]),\n",
       " array([0.00109598]),\n",
       " array([0.0010841]),\n",
       " array([0.00107729]),\n",
       " array([0.00107463]),\n",
       " array([0.00110434]),\n",
       " array([0.00120192]),\n",
       " array([0.00128235]),\n",
       " array([0.00126306]),\n",
       " array([0.00124099]),\n",
       " array([0.00123436]),\n",
       " array([0.00123086]),\n",
       " array([0.00122772]),\n",
       " array([0.0012243]),\n",
       " array([0.00122161]),\n",
       " array([0.00122462]),\n",
       " array([0.00122119]),\n",
       " array([0.00122082]),\n",
       " array([0.0012145]),\n",
       " array([0.00122596]),\n",
       " array([0.00121726]),\n",
       " array([0.00122909]),\n",
       " array([0.00122606]),\n",
       " array([0.00122387]),\n",
       " array([0.00122681]),\n",
       " array([0.00122754]),\n",
       " array([0.0012278]),\n",
       " array([0.00122772]),\n",
       " array([0.00122774]),\n",
       " array([0.00122766]),\n",
       " array([0.00122718]),\n",
       " array([0.00122586]),\n",
       " array([0.001223]),\n",
       " array([0.00121747]),\n",
       " array([0.00120899]),\n",
       " array([0.0012053]),\n",
       " array([0.00121853]),\n",
       " array([0.00120514]),\n",
       " array([0.0011964]),\n",
       " array([0.00119372]),\n",
       " array([0.0012018]),\n",
       " array([0.00119791]),\n",
       " array([0.00119663]),\n",
       " array([0.00119992]),\n",
       " array([0.00119789]),\n",
       " array([0.00119745]),\n",
       " array([0.0011971]),\n",
       " array([0.00119665]),\n",
       " array([0.00119597]),\n",
       " array([0.00119496]),\n",
       " array([0.00119799]),\n",
       " array([0.00119995]),\n",
       " array([0.00120022]),\n",
       " array([0.00120062]),\n",
       " array([0.00120043]),\n",
       " array([0.00120009]),\n",
       " array([0.00119944]),\n",
       " array([0.00119875]),\n",
       " array([0.00119795]),\n",
       " array([0.00119695]),\n",
       " array([0.00119565]),\n",
       " array([0.00119404]),\n",
       " array([0.00119434]),\n",
       " array([0.00119643]),\n",
       " array([0.00118978]),\n",
       " array([0.00118863]),\n",
       " array([0.00119228]),\n",
       " array([0.00119208]),\n",
       " array([0.00119213]),\n",
       " array([0.00119226]),\n",
       " array([0.00119247]),\n",
       " array([0.00119276]),\n",
       " array([0.00119311]),\n",
       " array([0.00119343]),\n",
       " array([0.00119322]),\n",
       " array([0.00119265]),\n",
       " array([0.00119242]),\n",
       " array([0.00119226]),\n",
       " array([0.00119213]),\n",
       " array([0.00119196]),\n",
       " array([0.00119175]),\n",
       " array([0.00119145]),\n",
       " array([0.00119102]),\n",
       " array([0.00119037]),\n",
       " array([0.00118943]),\n",
       " array([0.00118821]),\n",
       " array([0.00118696]),\n",
       " array([0.00119858]),\n",
       " array([0.00120449])]"
      ]
     },
     "execution_count": 38,
     "metadata": {},
     "output_type": "execute_result"
    }
   ],
   "source": [
    "T.testJ"
   ]
  },
  {
   "cell_type": "code",
   "execution_count": 39,
   "metadata": {},
   "outputs": [
    {
     "data": {
      "text/plain": [
       "0.0012169625762227284"
      ]
     },
     "execution_count": 39,
     "metadata": {},
     "output_type": "execute_result"
    }
   ],
   "source": [
    "from sklearn.metrics import mean_absolute_error\n",
    "mean_absolute_error(T.J, T.testJ)"
   ]
  },
  {
   "cell_type": "code",
   "execution_count": 40,
   "metadata": {},
   "outputs": [],
   "source": [
    "yHat=NN.forward(X)"
   ]
  },
  {
   "cell_type": "code",
   "execution_count": 41,
   "metadata": {},
   "outputs": [
    {
     "data": {
      "text/plain": [
       "array([[0.06628329],\n",
       "       [0.1781051 ],\n",
       "       [0.11650532],\n",
       "       [0.19536256],\n",
       "       [0.24869612],\n",
       "       [0.26218105],\n",
       "       [0.39602841],\n",
       "       [0.55230403],\n",
       "       [0.35526714],\n",
       "       [0.34190601],\n",
       "       [0.40597471],\n",
       "       [0.40887927],\n",
       "       [0.28386101],\n",
       "       [0.18576166],\n",
       "       [0.1973785 ],\n",
       "       [0.28451462],\n",
       "       [0.24987113],\n",
       "       [0.16626836],\n",
       "       [0.19567793],\n",
       "       [0.1758935 ],\n",
       "       [0.14026656],\n",
       "       [0.25848467],\n",
       "       [0.27685685],\n",
       "       [0.25128583],\n",
       "       [0.24779181],\n",
       "       [0.25035104],\n",
       "       [0.23601835],\n",
       "       [0.24409685],\n",
       "       [0.23417744],\n",
       "       [0.2512392 ],\n",
       "       [0.2489671 ],\n",
       "       [0.23664794],\n",
       "       [0.31519043],\n",
       "       [0.3053312 ],\n",
       "       [0.31515658],\n",
       "       [0.25218697],\n",
       "       [0.33347699],\n",
       "       [0.3791873 ],\n",
       "       [0.38604144],\n",
       "       [0.46194457],\n",
       "       [0.44478956],\n",
       "       [0.54825984],\n",
       "       [0.57083614],\n",
       "       [0.63396213],\n",
       "       [0.68398731],\n",
       "       [0.57830431],\n",
       "       [0.54620322],\n",
       "       [0.46420115],\n",
       "       [0.44029534],\n",
       "       [0.49538921],\n",
       "       [0.46958837],\n",
       "       [0.53920548],\n",
       "       [0.48612991],\n",
       "       [0.44028411],\n",
       "       [0.50347467],\n",
       "       [0.45933682],\n",
       "       [0.46637905],\n",
       "       [0.45200978],\n",
       "       [0.43888521],\n",
       "       [0.35154245]])"
      ]
     },
     "execution_count": 41,
     "metadata": {},
     "output_type": "execute_result"
    }
   ],
   "source": [
    "yHat"
   ]
  },
  {
   "cell_type": "code",
   "execution_count": 42,
   "metadata": {},
   "outputs": [
    {
     "data": {
      "text/plain": [
       "array([[0.14831904],\n",
       "       [0.11211342],\n",
       "       [0.17073406],\n",
       "       [0.2232566 ],\n",
       "       [0.24197469],\n",
       "       [0.36573346],\n",
       "       [0.55255899],\n",
       "       [0.37002352],\n",
       "       [0.3325317 ],\n",
       "       [0.38788752],\n",
       "       [0.39836394],\n",
       "       [0.2848263 ],\n",
       "       [0.18673502],\n",
       "       [0.18269477],\n",
       "       [0.255617  ],\n",
       "       [0.23597043],\n",
       "       [0.16413413],\n",
       "       [0.17817663],\n",
       "       [0.1639561 ],\n",
       "       [0.13324148],\n",
       "       [0.22639902],\n",
       "       [0.25501386],\n",
       "       [0.23708614],\n",
       "       [0.23165112],\n",
       "       [0.23306761],\n",
       "       [0.22117372],\n",
       "       [0.22633168],\n",
       "       [0.21869864],\n",
       "       [0.2320322 ],\n",
       "       [0.23194795],\n",
       "       [0.22154782],\n",
       "       [0.28795858],\n",
       "       [0.28837327],\n",
       "       [0.29714576],\n",
       "       [0.24366982],\n",
       "       [0.30743731],\n",
       "       [0.35859786],\n",
       "       [0.37218122],\n",
       "       [0.45025948],\n",
       "       [0.44309563],\n",
       "       [0.55815598],\n",
       "       [0.60235983],\n",
       "       [0.69629172],\n",
       "       [0.79060467],\n",
       "       [0.64402223],\n",
       "       [0.58322864],\n",
       "       [0.48171501],\n",
       "       [0.44281211],\n",
       "       [0.49627058],\n",
       "       [0.47546339],\n",
       "       [0.55155979],\n",
       "       [0.50099435],\n",
       "       [0.44545859],\n",
       "       [0.50571167],\n",
       "       [0.46588904],\n",
       "       [0.46785659],\n",
       "       [0.45300142],\n",
       "       [0.43741172],\n",
       "       [0.3506737 ],\n",
       "       [0.36403131]])"
      ]
     },
     "execution_count": 42,
     "metadata": {},
     "output_type": "execute_result"
    }
   ],
   "source": [
    "y"
   ]
  },
  {
   "cell_type": "code",
   "execution_count": 43,
   "metadata": {},
   "outputs": [
    {
     "data": {
      "text/plain": [
       "0.004095232000517346"
      ]
     },
     "execution_count": 43,
     "metadata": {},
     "output_type": "execute_result"
    }
   ],
   "source": [
    "from sklearn.metrics import mean_squared_error \n",
    "mean_squared_error(y,yHat) "
   ]
  },
  {
   "cell_type": "code",
   "execution_count": 44,
   "metadata": {},
   "outputs": [
    {
     "data": {
      "image/png": "[encoded data removed]",
      "text/plain": [
       "<Figure size 432x288 with 1 Axes>"
      ]
     },
     "metadata": {
      "needs_background": "light"
     },
     "output_type": "display_data"
    }
   ],
   "source": [
    "#Plot cost during training:\n",
    "plot.plot(y)\n",
    "plot.plot(yHat)\n",
    "plot.grid(1)\n",
    "plot.legend(['y', 'yHat'])\n",
    "plot.show()"
   ]
  },
  {
   "cell_type": "code",
   "execution_count": 45,
   "metadata": {},
   "outputs": [],
   "source": [
    "prediksi=NN.forward(dataprediksi)"
   ]
  },
  {
   "cell_type": "code",
   "execution_count": 46,
   "metadata": {},
   "outputs": [
    {
     "data": {
      "text/plain": [
       "array([[0.37863373],\n",
       "       [0.71080514],\n",
       "       [0.77565472],\n",
       "       [0.60407616]])"
      ]
     },
     "execution_count": 46,
     "metadata": {},
     "output_type": "execute_result"
    }
   ],
   "source": [
    "prediksi"
   ]
  },
  {
   "cell_type": "code",
   "execution_count": 47,
   "metadata": {},
   "outputs": [],
   "source": [
    "from sklearn.metrics import mean_squared_error "
   ]
  },
  {
   "cell_type": "code",
   "execution_count": 48,
   "metadata": {},
   "outputs": [
    {
     "data": {
      "text/plain": [
       "0.06864031144210929"
      ]
     },
     "execution_count": 48,
     "metadata": {},
     "output_type": "execute_result"
    }
   ],
   "source": [
    "Y_true= ([\t0.795380412\t]\t,\n",
    "[\t1\t]\t,\n",
    "[\t0.707681705\t]\t,\n",
    "[\t0.491695324\t]\t,\n",
    "\n",
    ")\n",
    "\n",
    "\n",
    "Y_pred=prediksi\n",
    "mean_squared_error(Y_true,Y_pred) "
   ]
  },
  {
   "cell_type": "code",
   "execution_count": 49,
   "metadata": {},
   "outputs": [
    {
     "data": {
      "text/plain": [
       "array([[0.3506737 , 0.36403131],\n",
       "       [0.36403131, 0.79538041],\n",
       "       [0.79538041, 1.        ],\n",
       "       [1.        , 0.70768171]])"
      ]
     },
     "execution_count": 49,
     "metadata": {},
     "output_type": "execute_result"
    }
   ],
   "source": [
    "dataprediksi"
   ]
  },
  {
   "cell_type": "code",
   "execution_count": 50,
   "metadata": {},
   "outputs": [],
   "source": [
    "a=np.array([\t0.707681705\t,\t0.491695324\t])"
   ]
  },
  {
   "cell_type": "code",
   "execution_count": 51,
   "metadata": {},
   "outputs": [
    {
     "data": {
      "text/plain": [
       "array([0.45736538])"
      ]
     },
     "execution_count": 51,
     "metadata": {},
     "output_type": "execute_result"
    }
   ],
   "source": [
    "#prediksi 1\n",
    "prediksi=NN.forward(a)\n",
    "prediksi"
   ]
  },
  {
   "cell_type": "code",
   "execution_count": 52,
   "metadata": {},
   "outputs": [
    {
     "data": {
      "text/plain": [
       "array([0.45304536])"
      ]
     },
     "execution_count": 52,
     "metadata": {},
     "output_type": "execute_result"
    }
   ],
   "source": [
    "#prediksi 2\n",
    "c=prediksi\n",
    "b=a[1:]\n",
    "d=np.concatenate((b,c))\n",
    "prediksi=NN.forward(d)\n",
    "prediksi"
   ]
  },
  {
   "cell_type": "code",
   "execution_count": 53,
   "metadata": {},
   "outputs": [
    {
     "data": {
      "text/plain": [
       "array([0.45343793])"
      ]
     },
     "execution_count": 53,
     "metadata": {},
     "output_type": "execute_result"
    }
   ],
   "source": [
    "#prediksi 3\n",
    "c=prediksi\n",
    "b=d[1:]\n",
    "e=np.concatenate((b,c))\n",
    "prediksi=NN.forward(e)\n",
    "prediksi"
   ]
  },
  {
   "cell_type": "code",
   "execution_count": 54,
   "metadata": {},
   "outputs": [
    {
     "data": {
      "text/plain": [
       "array([0.45438338])"
      ]
     },
     "execution_count": 54,
     "metadata": {},
     "output_type": "execute_result"
    }
   ],
   "source": [
    "#prediksi 4\n",
    "c=prediksi\n",
    "b=e[1:]\n",
    "f=np.concatenate((b,c))\n",
    "prediksi=NN.forward(f)\n",
    "prediksi"
   ]
  },
  {
   "cell_type": "code",
   "execution_count": 55,
   "metadata": {},
   "outputs": [
    {
     "data": {
      "text/plain": [
       "array([0.45523567])"
      ]
     },
     "execution_count": 55,
     "metadata": {},
     "output_type": "execute_result"
    }
   ],
   "source": [
    "#prediksi 5\n",
    "c=prediksi\n",
    "b=f[1:]\n",
    "g=np.concatenate((b,c))\n",
    "prediksi=NN.forward(g)\n",
    "prediksi"
   ]
  },
  {
   "cell_type": "code",
   "execution_count": 56,
   "metadata": {},
   "outputs": [
    {
     "data": {
      "text/plain": [
       "array([0.45592531])"
      ]
     },
     "execution_count": 56,
     "metadata": {},
     "output_type": "execute_result"
    }
   ],
   "source": [
    "#prediksi 6\n",
    "c=prediksi\n",
    "b=g[1:]\n",
    "h=np.concatenate((b,c))\n",
    "prediksi=NN.forward(h)\n",
    "prediksi"
   ]
  },
  {
   "cell_type": "code",
   "execution_count": 57,
   "metadata": {},
   "outputs": [
    {
     "data": {
      "text/plain": [
       "array([0.45658329])"
      ]
     },
     "execution_count": 57,
     "metadata": {},
     "output_type": "execute_result"
    }
   ],
   "source": [
    "#prediksi 7\n",
    "c=prediksi\n",
    "b=g[1:]\n",
    "i=np.concatenate((b,c))\n",
    "prediksi=NN.forward(i)\n",
    "prediksi"
   ]
  },
  {
   "cell_type": "code",
   "execution_count": 58,
   "metadata": {},
   "outputs": [
    {
     "data": {
      "text/plain": [
       "array([0.45721048])"
      ]
     },
     "execution_count": 58,
     "metadata": {},
     "output_type": "execute_result"
    }
   ],
   "source": [
    "#prediksi 8\n",
    "c=prediksi\n",
    "b=g[1:]\n",
    "j=np.concatenate((b,c))\n",
    "prediksi=NN.forward(j)\n",
    "prediksi"
   ]
  },
  {
   "cell_type": "code",
   "execution_count": 59,
   "metadata": {},
   "outputs": [
    {
     "data": {
      "text/plain": [
       "array([0.45780778])"
      ]
     },
     "execution_count": 59,
     "metadata": {},
     "output_type": "execute_result"
    }
   ],
   "source": [
    "#prediksi 9\n",
    "c=prediksi\n",
    "b=g[1:]\n",
    "k=np.concatenate((b,c))\n",
    "prediksi=NN.forward(k)\n",
    "prediksi"
   ]
  },
  {
   "cell_type": "code",
   "execution_count": 60,
   "metadata": {},
   "outputs": [
    {
     "data": {
      "text/plain": [
       "array([0.45837612])"
      ]
     },
     "execution_count": 60,
     "metadata": {},
     "output_type": "execute_result"
    }
   ],
   "source": [
    "#prediksi 10\n",
    "c=prediksi\n",
    "b=g[1:]\n",
    "l=np.concatenate((b,c))\n",
    "prediksi=NN.forward(l)\n",
    "prediksi"
   ]
  },
  {
   "cell_type": "code",
   "execution_count": 61,
   "metadata": {},
   "outputs": [
    {
     "data": {
      "text/plain": [
       "array([0.45891647])"
      ]
     },
     "execution_count": 61,
     "metadata": {},
     "output_type": "execute_result"
    }
   ],
   "source": [
    "#prediksi 11\n",
    "c=prediksi\n",
    "b=g[1:]\n",
    "m=np.concatenate((b,c))\n",
    "prediksi=NN.forward(m)\n",
    "prediksi"
   ]
  },
  {
   "cell_type": "code",
   "execution_count": 62,
   "metadata": {},
   "outputs": [
    {
     "data": {
      "text/plain": [
       "array([0.45942979])"
      ]
     },
     "execution_count": 62,
     "metadata": {},
     "output_type": "execute_result"
    }
   ],
   "source": [
    "#prediksi 12\n",
    "c=prediksi\n",
    "b=g[1:]\n",
    "n=np.concatenate((b,c))\n",
    "prediksi=NN.forward(n)\n",
    "prediksi"
   ]
  },
  {
   "cell_type": "code",
   "execution_count": null,
   "metadata": {},
   "outputs": [],
   "source": []
  }
 ],
 "metadata": {
  "kernelspec": {
   "display_name": "Python 3",
   "language": "python",
   "name": "python3"
  },
  "language_info": {
   "codemirror_mode": {
    "name": "ipython",
    "version": 3
   },
   "file_extension": ".py",
   "mimetype": "text/x-python",
   "name": "python",
   "nbconvert_exporter": "python",
   "pygments_lexer": "ipython3",
   "version": "3.7.3"
  }
 },
 "nbformat": 4,
 "nbformat_minor": 2
}
