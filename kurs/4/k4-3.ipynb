{
 "cells": [
  {
   "cell_type": "code",
   "execution_count": 1,
   "metadata": {},
   "outputs": [],
   "source": [
    "import numpy as np"
   ]
  },
  {
   "cell_type": "code",
   "execution_count": 2,
   "metadata": {},
   "outputs": [],
   "source": [
    "#UNTUK NILAI IMPOR\n",
    "class Neural_Network(object):\n",
    "    def __init__(self):\n",
    "        #parameters\n",
    "        self.inputLayerSize = 4\n",
    "        self.outputLayerSize = 1\n",
    "        self.hiddenLayerSize = 3\n",
    "\n",
    "        #weights\n",
    "        self.W1 = np.random.randn(self.inputLayerSize,\\\n",
    "                                 self.hiddenLayerSize)  \n",
    "        self.W2 = np.random.randn(self.hiddenLayerSize,\\\n",
    "                                 self.outputLayerSize)  \n",
    "    \n",
    "    def printw(self):\n",
    "        return self.W1\n",
    "        \n",
    "    def weight(self, W1, W2):\n",
    "        #Make an internal variable for the weight:\n",
    "        self.W1 = W1\n",
    "        self.W2 = W2\n",
    "        \n",
    "    def forward(self, X):\n",
    "        #forward propagation through our network\n",
    "        self.z2 = np.dot(X,self.W1)  \n",
    "        self.a2 = self.tanh(self.z2)  # activation function\n",
    "        self.z3 = np.dot(self.a2, self.W2) \n",
    "        yHat = self.tanh(self.z3)  # final activation function\n",
    "        return yHat\n",
    "\n",
    "    def tanh(self, z):\n",
    "        # activation function\n",
    "        return (np.exp(z)-np.exp(-z))/(np.exp(z)+np.exp(-z))\n",
    "    \n",
    "    def tanhPrime(self,z): \n",
    "        #derivative of tanh\n",
    "        return 1-((np.exp(z)-np.exp(-z))/(np.exp(z)+np.exp(-z)))**2\n",
    "    \n",
    "    def costFunction(self,X,y):\n",
    "        self.yHat = self.forward(X)\n",
    "        J=0.5*sum((y-self.yHat)**2)\n",
    "        return J\n",
    "    \n",
    "    def costFunctionPrime(self,X,y):\n",
    "        self.yHat=self.forward(X)\n",
    "        \n",
    "        delta3=np.multiply(-(y-self.yHat),self.tanhPrime(self.z3))\n",
    "        dJdW2=np.dot(self.a2.T,delta3)\n",
    "        \n",
    "        delta2=np.dot(delta3,self.W2.T)*self.tanhPrime(self.z2)\n",
    "        dJdW1=np.dot(X.T,delta2)\n",
    "        return dJdW1,dJdW2\n",
    "    \n",
    "    def predict(self):\n",
    "        prediksi = self.forward(dataprediksi)\n",
    "        return prediksi\n",
    "    \n",
    "    def getParams(self):\n",
    "        params=np.concatenate((self.W1.ravel(),self.W2.ravel()))\n",
    "        return params\n",
    "    \n",
    "    def setParams(self,params):\n",
    "        W1_start=0\n",
    "        W1_end=self.hiddenLayerSize*self.inputLayerSize\n",
    "        self.W1=np.reshape(params[W1_start:W1_end],\\\n",
    "                          (self.inputLayerSize,self.hiddenLayerSize))\n",
    "        W2_end=W1_end+self.hiddenLayerSize*self.outputLayerSize\n",
    "        self.W2=np.reshape(params[W1_end:W2_end],\\\n",
    "                          (self.hiddenLayerSize,self.outputLayerSize))\n",
    "        \n",
    "    def computeGradients(self, X, y):\n",
    "        dJdW1, dJdW2 = self.costFunctionPrime(X, y)\n",
    "        return np.concatenate((dJdW1.ravel(), dJdW2.ravel()))"
   ]
  },
  {
   "cell_type": "code",
   "execution_count": 3,
   "metadata": {},
   "outputs": [],
   "source": [
    "NN = Neural_Network()"
   ]
  },
  {
   "cell_type": "code",
   "execution_count": 4,
   "metadata": {},
   "outputs": [
    {
     "data": {
      "text/plain": [
       "array([[-0.41368416,  0.98962137, -1.67279191],\n",
       "       [ 1.22663784, -0.89179526,  0.57744874],\n",
       "       [ 0.21468358, -0.59114862, -0.42664835],\n",
       "       [ 0.27397448, -1.88272532,  0.03756949]])"
      ]
     },
     "execution_count": 4,
     "metadata": {},
     "output_type": "execute_result"
    }
   ],
   "source": [
    "NN.W1"
   ]
  },
  {
   "cell_type": "code",
   "execution_count": 5,
   "metadata": {},
   "outputs": [
    {
     "data": {
      "text/plain": [
       "array([[ 0.24279648],\n",
       "       [ 0.78354683],\n",
       "       [-1.85316769]])"
      ]
     },
     "execution_count": 5,
     "metadata": {},
     "output_type": "execute_result"
    }
   ],
   "source": [
    "NN.W2"
   ]
  },
  {
   "cell_type": "code",
   "execution_count": 6,
   "metadata": {},
   "outputs": [],
   "source": [
    "#KURS\n",
    "X=np.array(([\t0\t,\t0.051924996\t,\t0.148319042\t,\t0.112113419\t]\t,\n",
    "[\t0.051924996\t,\t0.148319042\t,\t0.112113419\t,\t0.170734062\t]\t,\n",
    "[\t0.148319042\t,\t0.112113419\t,\t0.170734062\t,\t0.223256598\t]\t,\n",
    "[\t0.112113419\t,\t0.170734062\t,\t0.223256598\t,\t0.241974687\t]\t,\n",
    "[\t0.170734062\t,\t0.223256598\t,\t0.241974687\t,\t0.365733465\t]\t,\n",
    "[\t0.223256598\t,\t0.241974687\t,\t0.365733465\t,\t0.552558994\t]\t,\n",
    "[\t0.241974687\t,\t0.365733465\t,\t0.552558994\t,\t0.370023519\t]\t,\n",
    "[\t0.365733465\t,\t0.552558994\t,\t0.370023519\t,\t0.332531703\t]\t,\n",
    "[\t0.552558994\t,\t0.370023519\t,\t0.332531703\t,\t0.387887522\t]\t,\n",
    "[\t0.370023519\t,\t0.332531703\t,\t0.387887522\t,\t0.398363943\t]\t,\n",
    "[\t0.332531703\t,\t0.387887522\t,\t0.398363943\t,\t0.284826299\t]\t,\n",
    "[\t0.387887522\t,\t0.398363943\t,\t0.284826299\t,\t0.186735022\t]\t,\n",
    "[\t0.398363943\t,\t0.284826299\t,\t0.186735022\t,\t0.182694768\t]\t,\n",
    "[\t0.284826299\t,\t0.186735022\t,\t0.182694768\t,\t0.255617002\t]\t,\n",
    "[\t0.186735022\t,\t0.182694768\t,\t0.255617002\t,\t0.23597043\t]\t,\n",
    "[\t0.182694768\t,\t0.255617002\t,\t0.23597043\t,\t0.164134134\t]\t,\n",
    "[\t0.255617002\t,\t0.23597043\t,\t0.164134134\t,\t0.178176635\t]\t,\n",
    "[\t0.23597043\t,\t0.164134134\t,\t0.178176635\t,\t0.163956101\t]\t,\n",
    "[\t0.164134134\t,\t0.178176635\t,\t0.163956101\t,\t0.133241484\t]\t,\n",
    "[\t0.178176635\t,\t0.163956101\t,\t0.133241484\t,\t0.226399017\t]\t,\n",
    "[\t0.163956101\t,\t0.133241484\t,\t0.226399017\t,\t0.255013861\t]\t,\n",
    "[\t0.133241484\t,\t0.226399017\t,\t0.255013861\t,\t0.23708614\t]\t,\n",
    "[\t0.226399017\t,\t0.255013861\t,\t0.23708614\t,\t0.231651119\t]\t,\n",
    "[\t0.255013861\t,\t0.23708614\t,\t0.231651119\t,\t0.233067608\t]\t,\n",
    "[\t0.23708614\t,\t0.231651119\t,\t0.233067608\t,\t0.221173719\t]\t,\n",
    "[\t0.231651119\t,\t0.233067608\t,\t0.221173719\t,\t0.22633168\t]\t,\n",
    "[\t0.233067608\t,\t0.221173719\t,\t0.22633168\t,\t0.218698642\t]\t,\n",
    "[\t0.221173719\t,\t0.22633168\t,\t0.218698642\t,\t0.232032203\t]\t,\n",
    "[\t0.22633168\t,\t0.218698642\t,\t0.232032203\t,\t0.231947948\t]\t,\n",
    "[\t0.218698642\t,\t0.232032203\t,\t0.231947948\t,\t0.221547817\t]\t,\n",
    "[\t0.232032203\t,\t0.231947948\t,\t0.221547817\t,\t0.287958581\t]\t,\n",
    "[\t0.231947948\t,\t0.221547817\t,\t0.287958581\t,\t0.28837327\t]\t,\n",
    "[\t0.221547817\t,\t0.287958581\t,\t0.28837327\t,\t0.297145757\t]\t,\n",
    "[\t0.287958581\t,\t0.28837327\t,\t0.297145757\t,\t0.243669818\t]\t,\n",
    "[\t0.28837327\t,\t0.297145757\t,\t0.243669818\t,\t0.307437314\t]\t,\n",
    "[\t0.297145757\t,\t0.243669818\t,\t0.307437314\t,\t0.358597855\t]\t,\n",
    "[\t0.243669818\t,\t0.307437314\t,\t0.358597855\t,\t0.372181217\t]\t,\n",
    "[\t0.307437314\t,\t0.358597855\t,\t0.372181217\t,\t0.450259481\t]\t,\n",
    "[\t0.358597855\t,\t0.372181217\t,\t0.450259481\t,\t0.443095634\t]\t,\n",
    "[\t0.372181217\t,\t0.450259481\t,\t0.443095634\t,\t0.558155976\t]\t,\n",
    "[\t0.450259481\t,\t0.443095634\t,\t0.558155976\t,\t0.602359827\t]\t,\n",
    "[\t0.443095634\t,\t0.558155976\t,\t0.602359827\t,\t0.696291723\t]\t,\n",
    "[\t0.558155976\t,\t0.602359827\t,\t0.696291723\t,\t0.790604671\t]\t,\n",
    "[\t0.602359827\t,\t0.696291723\t,\t0.790604671\t,\t0.644022227\t]\t,\n",
    "[\t0.696291723\t,\t0.790604671\t,\t0.644022227\t,\t0.583228643\t]\t,\n",
    "[\t0.790604671\t,\t0.644022227\t,\t0.583228643\t,\t0.481715009\t]\t,\n",
    "[\t0.644022227\t,\t0.583228643\t,\t0.481715009\t,\t0.442812107\t]\t,\n",
    "[\t0.583228643\t,\t0.481715009\t,\t0.442812107\t,\t0.496270585\t]\t,\n",
    "[\t0.481715009\t,\t0.442812107\t,\t0.496270585\t,\t0.475463393\t]\t,\n",
    "[\t0.442812107\t,\t0.496270585\t,\t0.475463393\t,\t0.551559791\t]\t,\n",
    "[\t0.496270585\t,\t0.475463393\t,\t0.551559791\t,\t0.500994351\t]\t,\n",
    "[\t0.475463393\t,\t0.551559791\t,\t0.500994351\t,\t0.445458587\t]\t,\n",
    "[\t0.551559791\t,\t0.500994351\t,\t0.445458587\t,\t0.505711667\t]\t,\n",
    "[\t0.500994351\t,\t0.445458587\t,\t0.505711667\t,\t0.465889036\t]\t,\n",
    "[\t0.445458587\t,\t0.505711667\t,\t0.465889036\t,\t0.46785659\t]\t,\n",
    "[\t0.505711667\t,\t0.465889036\t,\t0.46785659\t,\t0.453001423\t]\t,\n",
    "[\t0.465889036\t,\t0.46785659\t,\t0.453001423\t,\t0.437411724\t]\t,\n",
    "[\t0.46785659\t,\t0.453001423\t,\t0.437411724\t,\t0.350673696\t]\t,\n",
    "\n",
    ")           \n",
    ",dtype=float)\n",
    "y=np.array(([\t0.170734062\t]\t,\n",
    "[\t0.223256598\t]\t,\n",
    "[\t0.241974687\t]\t,\n",
    "[\t0.365733465\t]\t,\n",
    "[\t0.552558994\t]\t,\n",
    "[\t0.370023519\t]\t,\n",
    "[\t0.332531703\t]\t,\n",
    "[\t0.387887522\t]\t,\n",
    "[\t0.398363943\t]\t,\n",
    "[\t0.284826299\t]\t,\n",
    "[\t0.186735022\t]\t,\n",
    "[\t0.182694768\t]\t,\n",
    "[\t0.255617002\t]\t,\n",
    "[\t0.23597043\t]\t,\n",
    "[\t0.164134134\t]\t,\n",
    "[\t0.178176635\t]\t,\n",
    "[\t0.163956101\t]\t,\n",
    "[\t0.133241484\t]\t,\n",
    "[\t0.226399017\t]\t,\n",
    "[\t0.255013861\t]\t,\n",
    "[\t0.23708614\t]\t,\n",
    "[\t0.231651119\t]\t,\n",
    "[\t0.233067608\t]\t,\n",
    "[\t0.221173719\t]\t,\n",
    "[\t0.22633168\t]\t,\n",
    "[\t0.218698642\t]\t,\n",
    "[\t0.232032203\t]\t,\n",
    "[\t0.231947948\t]\t,\n",
    "[\t0.221547817\t]\t,\n",
    "[\t0.287958581\t]\t,\n",
    "[\t0.28837327\t]\t,\n",
    "[\t0.297145757\t]\t,\n",
    "[\t0.243669818\t]\t,\n",
    "[\t0.307437314\t]\t,\n",
    "[\t0.358597855\t]\t,\n",
    "[\t0.372181217\t]\t,\n",
    "[\t0.450259481\t]\t,\n",
    "[\t0.443095634\t]\t,\n",
    "[\t0.558155976\t]\t,\n",
    "[\t0.602359827\t]\t,\n",
    "[\t0.696291723\t]\t,\n",
    "[\t0.790604671\t]\t,\n",
    "[\t0.644022227\t]\t,\n",
    "[\t0.583228643\t]\t,\n",
    "[\t0.481715009\t]\t,\n",
    "[\t0.442812107\t]\t,\n",
    "[\t0.496270585\t]\t,\n",
    "[\t0.475463393\t]\t,\n",
    "[\t0.551559791\t]\t,\n",
    "[\t0.500994351\t]\t,\n",
    "[\t0.445458587\t]\t,\n",
    "[\t0.505711667\t]\t,\n",
    "[\t0.465889036\t]\t,\n",
    "[\t0.46785659\t]\t,\n",
    "[\t0.453001423\t]\t,\n",
    "[\t0.437411724\t]\t,\n",
    "[\t0.350673696\t]\t,\n",
    "[\t0.364031312\t]\t,\n",
    "\n",
    ")\n",
    ",dtype=float)\n",
    "\n",
    "dataprediksi = np.array(([\t0.453001423\t,\t0.437411724\t,\t0.350673696\t,\t0.364031312\t]\t,\n",
    "[\t0.437411724\t,\t0.350673696\t,\t0.364031312\t,\t0.795380412\t]\t,\n",
    "[\t0.350673696\t,\t0.364031312\t,\t0.795380412\t,\t1\t]\t,\n",
    "[\t0.364031312\t,\t0.795380412\t,\t1\t,\t0.707681705\t]\t,\n",
    "\n",
    "\n",
    "\n",
    "), dtype=float)\n"
   ]
  },
  {
   "cell_type": "code",
   "execution_count": 7,
   "metadata": {},
   "outputs": [],
   "source": [
    "import matplotlib.pyplot as plot"
   ]
  },
  {
   "cell_type": "code",
   "execution_count": 8,
   "metadata": {},
   "outputs": [],
   "source": [
    "from scipy import optimize"
   ]
  },
  {
   "cell_type": "code",
   "execution_count": 9,
   "metadata": {},
   "outputs": [],
   "source": [
    "class trainer(object):\n",
    "    def __init__(self, N):\n",
    "        #Make Local reference to network:\n",
    "        self.N = N\n",
    "        \n",
    "    def callbackF(self, params):\n",
    "        self.N.setParams(params)\n",
    "        self.J.append(self.N.costFunction(self.X, self.y))   \n",
    "        \n",
    "    def costFunctionWrapper(self, params, X, y):\n",
    "        self.N.setParams(params)\n",
    "        cost = self.N.costFunction(X, y)\n",
    "        grad = self.N.computeGradients(X,y)\n",
    "        \n",
    "        return cost, grad\n",
    "        \n",
    "    def train(self, X, y):\n",
    "        #Make an internal variable for the callback function:\n",
    "        self.X = X\n",
    "        self.y = y\n",
    "\n",
    "        #Make empty list to store costs:\n",
    "        self.J = []\n",
    "        \n",
    "        params0 = self.N.getParams()\n",
    "\n",
    "        options = {'maxiter': 100, 'disp' : True}\n",
    "        _res = optimize.minimize(self.costFunctionWrapper, params0, jac=True, method='BFGS', \\\n",
    "                                 args=(X, y), options=options, callback=self.callbackF)\n",
    "\n",
    "        self.N.setParams(_res.x)\n",
    "        self.optimizationResults = _res"
   ]
  },
  {
   "cell_type": "code",
   "execution_count": 10,
   "metadata": {},
   "outputs": [],
   "source": [
    "NN=Neural_Network()"
   ]
  },
  {
   "cell_type": "code",
   "execution_count": 11,
   "metadata": {},
   "outputs": [],
   "source": [
    "T = trainer(NN)"
   ]
  },
  {
   "cell_type": "code",
   "execution_count": 12,
   "metadata": {},
   "outputs": [
    {
     "name": "stdout",
     "output_type": "stream",
     "text": [
      "Warning: Maximum number of iterations has been exceeded.\n",
      "         Current function value: 0.110421\n",
      "         Iterations: 100\n",
      "         Function evaluations: 111\n",
      "         Gradient evaluations: 111\n"
     ]
    }
   ],
   "source": [
    "#Train network with new data:\n",
    "T = trainer(NN)\n",
    "T.train(X,y)"
   ]
  },
  {
   "cell_type": "code",
   "execution_count": 13,
   "metadata": {},
   "outputs": [
    {
     "data": {
      "image/png": "[encoded data removed]",
      "text/plain": [
       "<Figure size 432x288 with 1 Axes>"
      ]
     },
     "metadata": {
      "needs_background": "light"
     },
     "output_type": "display_data"
    }
   ],
   "source": [
    "#Plot cost during training:\n",
    "plot.plot(T.J)\n",
    "plot.grid(1)\n",
    "plot.xlabel('Iterations')\n",
    "plot.ylabel('Cost')\n",
    "plot.show()"
   ]
  },
  {
   "cell_type": "code",
   "execution_count": 14,
   "metadata": {},
   "outputs": [],
   "source": [
    "#Training Data:\n",
    "trainX = np.array(([\t0\t,\t0.051924996\t,\t0.148319042\t,\t0.112113419\t]\t,\n",
    "[\t0.051924996\t,\t0.148319042\t,\t0.112113419\t,\t0.170734062\t]\t,\n",
    "[\t0.148319042\t,\t0.112113419\t,\t0.170734062\t,\t0.223256598\t]\t,\n",
    "[\t0.112113419\t,\t0.170734062\t,\t0.223256598\t,\t0.241974687\t]\t,\n",
    "[\t0.170734062\t,\t0.223256598\t,\t0.241974687\t,\t0.365733465\t]\t,\n",
    "[\t0.223256598\t,\t0.241974687\t,\t0.365733465\t,\t0.552558994\t]\t,\n",
    "[\t0.241974687\t,\t0.365733465\t,\t0.552558994\t,\t0.370023519\t]\t,\n",
    "[\t0.365733465\t,\t0.552558994\t,\t0.370023519\t,\t0.332531703\t]\t,\n",
    "[\t0.552558994\t,\t0.370023519\t,\t0.332531703\t,\t0.387887522\t]\t,\n",
    "[\t0.370023519\t,\t0.332531703\t,\t0.387887522\t,\t0.398363943\t]\t,\n",
    "[\t0.332531703\t,\t0.387887522\t,\t0.398363943\t,\t0.284826299\t]\t,\n",
    "[\t0.387887522\t,\t0.398363943\t,\t0.284826299\t,\t0.186735022\t]\t,\n",
    "[\t0.398363943\t,\t0.284826299\t,\t0.186735022\t,\t0.182694768\t]\t,\n",
    "[\t0.284826299\t,\t0.186735022\t,\t0.182694768\t,\t0.255617002\t]\t,\n",
    "[\t0.186735022\t,\t0.182694768\t,\t0.255617002\t,\t0.23597043\t]\t,\n",
    "[\t0.182694768\t,\t0.255617002\t,\t0.23597043\t,\t0.164134134\t]\t,\n",
    "[\t0.255617002\t,\t0.23597043\t,\t0.164134134\t,\t0.178176635\t]\t,\n",
    "[\t0.23597043\t,\t0.164134134\t,\t0.178176635\t,\t0.163956101\t]\t,\n",
    "[\t0.164134134\t,\t0.178176635\t,\t0.163956101\t,\t0.133241484\t]\t,\n",
    "[\t0.178176635\t,\t0.163956101\t,\t0.133241484\t,\t0.226399017\t]\t,\n",
    "[\t0.163956101\t,\t0.133241484\t,\t0.226399017\t,\t0.255013861\t]\t,\n",
    "[\t0.133241484\t,\t0.226399017\t,\t0.255013861\t,\t0.23708614\t]\t,\n",
    "[\t0.226399017\t,\t0.255013861\t,\t0.23708614\t,\t0.231651119\t]\t,\n",
    "[\t0.255013861\t,\t0.23708614\t,\t0.231651119\t,\t0.233067608\t]\t,\n",
    "[\t0.23708614\t,\t0.231651119\t,\t0.233067608\t,\t0.221173719\t]\t,\n",
    "[\t0.231651119\t,\t0.233067608\t,\t0.221173719\t,\t0.22633168\t]\t,\n",
    "[\t0.233067608\t,\t0.221173719\t,\t0.22633168\t,\t0.218698642\t]\t,\n",
    "[\t0.221173719\t,\t0.22633168\t,\t0.218698642\t,\t0.232032203\t]\t,\n",
    "[\t0.22633168\t,\t0.218698642\t,\t0.232032203\t,\t0.231947948\t]\t,\n",
    "[\t0.218698642\t,\t0.232032203\t,\t0.231947948\t,\t0.221547817\t]\t,\n",
    "[\t0.232032203\t,\t0.231947948\t,\t0.221547817\t,\t0.287958581\t]\t,\n",
    "[\t0.231947948\t,\t0.221547817\t,\t0.287958581\t,\t0.28837327\t]\t,\n",
    "[\t0.221547817\t,\t0.287958581\t,\t0.28837327\t,\t0.297145757\t]\t,\n",
    "[\t0.287958581\t,\t0.28837327\t,\t0.297145757\t,\t0.243669818\t]\t,\n",
    "[\t0.28837327\t,\t0.297145757\t,\t0.243669818\t,\t0.307437314\t]\t,\n",
    "[\t0.297145757\t,\t0.243669818\t,\t0.307437314\t,\t0.358597855\t]\t,\n",
    "[\t0.243669818\t,\t0.307437314\t,\t0.358597855\t,\t0.372181217\t]\t,\n",
    "[\t0.307437314\t,\t0.358597855\t,\t0.372181217\t,\t0.450259481\t]\t,\n",
    "[\t0.358597855\t,\t0.372181217\t,\t0.450259481\t,\t0.443095634\t]\t,\n",
    "[\t0.372181217\t,\t0.450259481\t,\t0.443095634\t,\t0.558155976\t]\t,\n",
    "[\t0.450259481\t,\t0.443095634\t,\t0.558155976\t,\t0.602359827\t]\t,\n",
    "[\t0.443095634\t,\t0.558155976\t,\t0.602359827\t,\t0.696291723\t]\t,\n",
    "[\t0.558155976\t,\t0.602359827\t,\t0.696291723\t,\t0.790604671\t]\t,\n",
    "[\t0.602359827\t,\t0.696291723\t,\t0.790604671\t,\t0.644022227\t]\t,\n",
    "[\t0.696291723\t,\t0.790604671\t,\t0.644022227\t,\t0.583228643\t]\t,\n",
    "\n",
    ")\n",
    ", dtype=float)\n",
    "trainY = np.array(([\t0.170734062\t]\t,\n",
    "[\t0.223256598\t]\t,\n",
    "[\t0.241974687\t]\t,\n",
    "[\t0.365733465\t]\t,\n",
    "[\t0.552558994\t]\t,\n",
    "[\t0.370023519\t]\t,\n",
    "[\t0.332531703\t]\t,\n",
    "[\t0.387887522\t]\t,\n",
    "[\t0.398363943\t]\t,\n",
    "[\t0.284826299\t]\t,\n",
    "[\t0.186735022\t]\t,\n",
    "[\t0.182694768\t]\t,\n",
    "[\t0.255617002\t]\t,\n",
    "[\t0.23597043\t]\t,\n",
    "[\t0.164134134\t]\t,\n",
    "[\t0.178176635\t]\t,\n",
    "[\t0.163956101\t]\t,\n",
    "[\t0.133241484\t]\t,\n",
    "[\t0.226399017\t]\t,\n",
    "[\t0.255013861\t]\t,\n",
    "[\t0.23708614\t]\t,\n",
    "[\t0.231651119\t]\t,\n",
    "[\t0.233067608\t]\t,\n",
    "[\t0.221173719\t]\t,\n",
    "[\t0.22633168\t]\t,\n",
    "[\t0.218698642\t]\t,\n",
    "[\t0.232032203\t]\t,\n",
    "[\t0.231947948\t]\t,\n",
    "[\t0.221547817\t]\t,\n",
    "[\t0.287958581\t]\t,\n",
    "[\t0.28837327\t]\t,\n",
    "[\t0.297145757\t]\t,\n",
    "[\t0.243669818\t]\t,\n",
    "[\t0.307437314\t]\t,\n",
    "[\t0.358597855\t]\t,\n",
    "[\t0.372181217\t]\t,\n",
    "[\t0.450259481\t]\t,\n",
    "[\t0.443095634\t]\t,\n",
    "[\t0.558155976\t]\t,\n",
    "[\t0.602359827\t]\t,\n",
    "[\t0.696291723\t]\t,\n",
    "[\t0.790604671\t]\t,\n",
    "[\t0.644022227\t]\t,\n",
    "[\t0.583228643\t]\t,\n",
    "[\t0.481715009\t]\t,\n",
    "\n",
    ")\n",
    ", dtype=float)\n",
    "\n",
    "#Testing Data:\n",
    "testX = np.array(([\t0.790604671\t,\t0.644022227\t,\t0.583228643\t,\t0.481715009\t]\t,\n",
    "[\t0.644022227\t,\t0.583228643\t,\t0.481715009\t,\t0.442812107\t]\t,\n",
    "[\t0.583228643\t,\t0.481715009\t,\t0.442812107\t,\t0.496270585\t]\t,\n",
    "[\t0.481715009\t,\t0.442812107\t,\t0.496270585\t,\t0.475463393\t]\t,\n",
    "[\t0.442812107\t,\t0.496270585\t,\t0.475463393\t,\t0.551559791\t]\t,\n",
    "[\t0.496270585\t,\t0.475463393\t,\t0.551559791\t,\t0.500994351\t]\t,\n",
    "[\t0.475463393\t,\t0.551559791\t,\t0.500994351\t,\t0.445458587\t]\t,\n",
    "[\t0.551559791\t,\t0.500994351\t,\t0.445458587\t,\t0.505711667\t]\t,\n",
    "[\t0.500994351\t,\t0.445458587\t,\t0.505711667\t,\t0.465889036\t]\t,\n",
    "[\t0.445458587\t,\t0.505711667\t,\t0.465889036\t,\t0.46785659\t]\t,\n",
    "[\t0.505711667\t,\t0.465889036\t,\t0.46785659\t,\t0.453001423\t]\t,\n",
    "[\t0.465889036\t,\t0.46785659\t,\t0.453001423\t,\t0.437411724\t]\t,\n",
    "[\t0.46785659\t,\t0.453001423\t,\t0.437411724\t,\t0.350673696\t]\t,\n",
    "\n",
    "\n",
    ")\n",
    ", dtype=float)\n",
    "testY = np.array(([\t0.442812107\t]\t,\n",
    "[\t0.496270585\t]\t,\n",
    "[\t0.475463393\t]\t,\n",
    "[\t0.551559791\t]\t,\n",
    "[\t0.500994351\t]\t,\n",
    "[\t0.445458587\t]\t,\n",
    "[\t0.505711667\t]\t,\n",
    "[\t0.465889036\t]\t,\n",
    "[\t0.46785659\t]\t,\n",
    "[\t0.453001423\t]\t,\n",
    "[\t0.437411724\t]\t,\n",
    "[\t0.350673696\t]\t,\n",
    "[\t0.364031312\t]\t,\n",
    "\n",
    ")\n",
    ", dtype=float)\n",
    "\n",
    "\n",
    "dataprediksi = np.array(([\t0.453001423\t,\t0.437411724\t,\t0.350673696\t,\t0.364031312\t]\t,\n",
    "[\t0.437411724\t,\t0.350673696\t,\t0.364031312\t,\t0.795380412\t]\t,\n",
    "[\t0.350673696\t,\t0.364031312\t,\t0.795380412\t,\t1\t]\t,\n",
    "[\t0.364031312\t,\t0.795380412\t,\t1\t,\t0.707681705\t]\t,\n",
    "\n",
    "\n",
    "\n",
    "), dtype=float)"
   ]
  },
  {
   "cell_type": "code",
   "execution_count": 15,
   "metadata": {},
   "outputs": [
    {
     "data": {
      "text/plain": [
       "array([[0.79060467, 0.64402223, 0.58322864, 0.48171501],\n",
       "       [0.64402223, 0.58322864, 0.48171501, 0.44281211],\n",
       "       [0.58322864, 0.48171501, 0.44281211, 0.49627058],\n",
       "       [0.48171501, 0.44281211, 0.49627058, 0.47546339],\n",
       "       [0.44281211, 0.49627058, 0.47546339, 0.55155979],\n",
       "       [0.49627058, 0.47546339, 0.55155979, 0.50099435],\n",
       "       [0.47546339, 0.55155979, 0.50099435, 0.44545859],\n",
       "       [0.55155979, 0.50099435, 0.44545859, 0.50571167],\n",
       "       [0.50099435, 0.44545859, 0.50571167, 0.46588904],\n",
       "       [0.44545859, 0.50571167, 0.46588904, 0.46785659],\n",
       "       [0.50571167, 0.46588904, 0.46785659, 0.45300142],\n",
       "       [0.46588904, 0.46785659, 0.45300142, 0.43741172],\n",
       "       [0.46785659, 0.45300142, 0.43741172, 0.3506737 ]])"
      ]
     },
     "execution_count": 15,
     "metadata": {},
     "output_type": "execute_result"
    }
   ],
   "source": [
    "testX"
   ]
  },
  {
   "cell_type": "code",
   "execution_count": 16,
   "metadata": {},
   "outputs": [],
   "source": [
    "##Need to modify trainer class a bit to check testing error during training:\n",
    "class trainer(object):\n",
    "    def __init__(self, N):\n",
    "        #Make Local reference to network:\n",
    "        self.N = N\n",
    "        \n",
    "    def callbackF(self, params):\n",
    "        self.N.setParams(params)\n",
    "        self.J.append(self.N.costFunction(self.X, self.y))\n",
    "        self.testJ.append(self.N.costFunction(self.testX, self.testY))\n",
    "        \n",
    "    def costFunctionWrapper(self, params, X, y):\n",
    "        self.N.setParams(params)\n",
    "        cost = self.N.costFunction(X, y)\n",
    "        grad = self.N.computeGradients(X,y)\n",
    "        \n",
    "        return cost, grad\n",
    "        \n",
    "    def train(self, trainX, trainY, testX, testY):\n",
    "        #Make an internal variable for the callback function:\n",
    "        self.X = trainX\n",
    "        self.y = trainY\n",
    "        \n",
    "        self.testX = testX\n",
    "        self.testY = testY\n",
    "\n",
    "        #Make empty list to store training costs:\n",
    "        self.J = []\n",
    "        self.testJ = []\n",
    "        \n",
    "        params0 = self.N.getParams()\n",
    "\n",
    "        options = {'maxiter': 100, 'disp' : True}\n",
    "        _res = optimize.minimize(self.costFunctionWrapper, params0, jac=True, method='BFGS', \\\n",
    "                                 args=(trainX, trainY), options=options, callback=self.callbackF)\n",
    "\n",
    "        self.N.setParams(_res.x)\n",
    "        self.optimizationResults = _res"
   ]
  },
  {
   "cell_type": "code",
   "execution_count": 17,
   "metadata": {},
   "outputs": [
    {
     "name": "stdout",
     "output_type": "stream",
     "text": [
      "Warning: Maximum number of iterations has been exceeded.\n",
      "         Current function value: 0.067088\n",
      "         Iterations: 100\n",
      "         Function evaluations: 109\n",
      "         Gradient evaluations: 109\n"
     ]
    }
   ],
   "source": [
    "#Train network with new data:\n",
    "NN = Neural_Network()\n",
    "\n",
    "T = trainer(NN)\n",
    "T.train(trainX, trainY, testX, testY)"
   ]
  },
  {
   "cell_type": "code",
   "execution_count": 18,
   "metadata": {},
   "outputs": [
    {
     "data": {
      "image/png": "[encoded data removed]",
      "text/plain": [
       "<Figure size 432x288 with 1 Axes>"
      ]
     },
     "metadata": {
      "needs_background": "light"
     },
     "output_type": "display_data"
    }
   ],
   "source": [
    "#Plot cost during training:\n",
    "plot.plot(T.J)\n",
    "plot.plot(T.testJ)\n",
    "plot.grid(1)\n",
    "plot.xlabel('Iterations')\n",
    "plot.ylabel('Cost')\n",
    "plot.legend(['Training', 'Testing'])\n",
    "plot.show()"
   ]
  },
  {
   "cell_type": "code",
   "execution_count": 19,
   "metadata": {},
   "outputs": [
    {
     "data": {
      "text/plain": [
       "[array([1.47725513]),\n",
       " array([0.81950269]),\n",
       " array([0.24218252]),\n",
       " array([0.22241049]),\n",
       " array([0.19419223]),\n",
       " array([0.1725805]),\n",
       " array([0.16245903]),\n",
       " array([0.15118171]),\n",
       " array([0.15003155]),\n",
       " array([0.14793805]),\n",
       " array([0.14431159]),\n",
       " array([0.14152571]),\n",
       " array([0.13893454]),\n",
       " array([0.13467339]),\n",
       " array([0.12697392]),\n",
       " array([0.11570891]),\n",
       " array([0.10949693]),\n",
       " array([0.10865208]),\n",
       " array([0.10720826]),\n",
       " array([0.10497847]),\n",
       " array([0.10292499]),\n",
       " array([0.10134467]),\n",
       " array([0.10033433]),\n",
       " array([0.10018601]),\n",
       " array([0.10002542]),\n",
       " array([0.09992067]),\n",
       " array([0.09972353]),\n",
       " array([0.09936325]),\n",
       " array([0.09876932]),\n",
       " array([0.09814871]),\n",
       " array([0.09785032]),\n",
       " array([0.09731452]),\n",
       " array([0.09634984]),\n",
       " array([0.09514484]),\n",
       " array([0.0945603]),\n",
       " array([0.09427646]),\n",
       " array([0.09378529]),\n",
       " array([0.09297066]),\n",
       " array([0.09231736]),\n",
       " array([0.09200476]),\n",
       " array([0.09175356]),\n",
       " array([0.09154163]),\n",
       " array([0.09132381]),\n",
       " array([0.09107602]),\n",
       " array([0.09071346]),\n",
       " array([0.09025223]),\n",
       " array([0.08990957]),\n",
       " array([0.08932839]),\n",
       " array([0.08837453]),\n",
       " array([0.08765047]),\n",
       " array([0.0865076]),\n",
       " array([0.08492322]),\n",
       " array([0.08366811]),\n",
       " array([0.08342181]),\n",
       " array([0.08301014]),\n",
       " array([0.08286276]),\n",
       " array([0.08259295]),\n",
       " array([0.08214334]),\n",
       " array([0.08173942]),\n",
       " array([0.08149648]),\n",
       " array([0.08112907]),\n",
       " array([0.08077757]),\n",
       " array([0.08030636]),\n",
       " array([0.07953055]),\n",
       " array([0.07837227]),\n",
       " array([0.07730601]),\n",
       " array([0.07721982]),\n",
       " array([0.07716877]),\n",
       " array([0.0770778]),\n",
       " array([0.07691104]),\n",
       " array([0.07660567]),\n",
       " array([0.07606467]),\n",
       " array([0.07522144]),\n",
       " array([0.07445409]),\n",
       " array([0.07377934]),\n",
       " array([0.07280399]),\n",
       " array([0.07242475]),\n",
       " array([0.07230164]),\n",
       " array([0.07225147]),\n",
       " array([0.07222576]),\n",
       " array([0.07221167]),\n",
       " array([0.07218667]),\n",
       " array([0.07214129]),\n",
       " array([0.0720581]),\n",
       " array([0.07190522]),\n",
       " array([0.07163216]),\n",
       " array([0.0712264]),\n",
       " array([0.07066023]),\n",
       " array([0.06977255]),\n",
       " array([0.06878862]),\n",
       " array([0.06782585]),\n",
       " array([0.06751381]),\n",
       " array([0.06743172]),\n",
       " array([0.06738354]),\n",
       " array([0.06734865]),\n",
       " array([0.06730734]),\n",
       " array([0.06726267]),\n",
       " array([0.06722896]),\n",
       " array([0.06717471]),\n",
       " array([0.06708836])]"
      ]
     },
     "execution_count": 19,
     "metadata": {},
     "output_type": "execute_result"
    }
   ],
   "source": [
    "T.J"
   ]
  },
  {
   "cell_type": "code",
   "execution_count": 20,
   "metadata": {},
   "outputs": [
    {
     "data": {
      "text/plain": [
       "[array([0.37318041]),\n",
       " array([0.07389486]),\n",
       " array([0.01580995]),\n",
       " array([0.01688836]),\n",
       " array([0.0213586]),\n",
       " array([0.0236827]),\n",
       " array([0.01832095]),\n",
       " array([0.01674345]),\n",
       " array([0.01439221]),\n",
       " array([0.01398284]),\n",
       " array([0.01404287]),\n",
       " array([0.01835029]),\n",
       " array([0.0162057]),\n",
       " array([0.01561935]),\n",
       " array([0.01538425]),\n",
       " array([0.0188307]),\n",
       " array([0.01775451]),\n",
       " array([0.01542491]),\n",
       " array([0.01592856]),\n",
       " array([0.01765078]),\n",
       " array([0.02082124]),\n",
       " array([0.0207292]),\n",
       " array([0.01954227]),\n",
       " array([0.02000732]),\n",
       " array([0.01932866]),\n",
       " array([0.01920914]),\n",
       " array([0.01907102]),\n",
       " array([0.01890814]),\n",
       " array([0.01865226]),\n",
       " array([0.01854404]),\n",
       " array([0.01905597]),\n",
       " array([0.01962239]),\n",
       " array([0.02011839]),\n",
       " array([0.01731103]),\n",
       " array([0.01750891]),\n",
       " array([0.01850344]),\n",
       " array([0.01836018]),\n",
       " array([0.01764943]),\n",
       " array([0.01784732]),\n",
       " array([0.01705895]),\n",
       " array([0.01884751]),\n",
       " array([0.01831387]),\n",
       " array([0.01839299]),\n",
       " array([0.01845486]),\n",
       " array([0.01876715]),\n",
       " array([0.01945706]),\n",
       " array([0.01974895]),\n",
       " array([0.02036146]),\n",
       " array([0.02237038]),\n",
       " array([0.02541254]),\n",
       " array([0.02868574]),\n",
       " array([0.02819456]),\n",
       " array([0.02948125]),\n",
       " array([0.03059778]),\n",
       " array([0.02899411]),\n",
       " array([0.03177833]),\n",
       " array([0.03042823]),\n",
       " array([0.02790674]),\n",
       " array([0.02373843]),\n",
       " array([0.02516501]),\n",
       " array([0.02596583]),\n",
       " array([0.02589557]),\n",
       " array([0.02352433]),\n",
       " array([0.02030705]),\n",
       " array([0.01820713]),\n",
       " array([0.01743688]),\n",
       " array([0.01763599]),\n",
       " array([0.01789757]),\n",
       " array([0.0178613]),\n",
       " array([0.01788771]),\n",
       " array([0.01795447]),\n",
       " array([0.01813234]),\n",
       " array([0.01849949]),\n",
       " array([0.01917942]),\n",
       " array([0.01941735]),\n",
       " array([0.01926732]),\n",
       " array([0.01913656]),\n",
       " array([0.01898149]),\n",
       " array([0.01887452]),\n",
       " array([0.01887207]),\n",
       " array([0.01890885]),\n",
       " array([0.01894694]),\n",
       " array([0.01897684]),\n",
       " array([0.01897617]),\n",
       " array([0.01888927]),\n",
       " array([0.01859621]),\n",
       " array([0.01805394]),\n",
       " array([0.01792371]),\n",
       " array([0.01773577]),\n",
       " array([0.01820402]),\n",
       " array([0.01854303]),\n",
       " array([0.01807963]),\n",
       " array([0.01817911]),\n",
       " array([0.01818012]),\n",
       " array([0.01850867]),\n",
       " array([0.01859888]),\n",
       " array([0.0187297]),\n",
       " array([0.01888722]),\n",
       " array([0.01921047]),\n",
       " array([0.01982275])]"
      ]
     },
     "execution_count": 20,
     "metadata": {},
     "output_type": "execute_result"
    }
   ],
   "source": [
    "T.testJ"
   ]
  },
  {
   "cell_type": "code",
   "execution_count": 21,
   "metadata": {},
   "outputs": [
    {
     "data": {
      "text/plain": [
       "0.09184604871200724"
      ]
     },
     "execution_count": 21,
     "metadata": {},
     "output_type": "execute_result"
    }
   ],
   "source": [
    "from sklearn.metrics import mean_absolute_error\n",
    "mean_absolute_error(T.J, T.testJ)"
   ]
  },
  {
   "cell_type": "code",
   "execution_count": 22,
   "metadata": {},
   "outputs": [],
   "source": [
    "yHat = NN.forward(X)"
   ]
  },
  {
   "cell_type": "code",
   "execution_count": 23,
   "metadata": {},
   "outputs": [
    {
     "data": {
      "text/plain": [
       "array([[0.15573776],\n",
       "       [0.27689929],\n",
       "       [0.25998366],\n",
       "       [0.31730178],\n",
       "       [0.44045847],\n",
       "       [0.39970364],\n",
       "       [0.360113  ],\n",
       "       [0.36040896],\n",
       "       [0.41245039],\n",
       "       [0.38679578],\n",
       "       [0.27738883],\n",
       "       [0.21312997],\n",
       "       [0.24537381],\n",
       "       [0.24152827],\n",
       "       [0.24716031],\n",
       "       [0.16824786],\n",
       "       [0.19820446],\n",
       "       [0.12407193],\n",
       "       [0.12357228],\n",
       "       [0.27743835],\n",
       "       [0.28589523],\n",
       "       [0.2989865 ],\n",
       "       [0.24524064],\n",
       "       [0.22958163],\n",
       "       [0.21655329],\n",
       "       [0.2320741 ],\n",
       "       [0.21233847],\n",
       "       [0.24399254],\n",
       "       [0.23244077],\n",
       "       [0.22573805],\n",
       "       [0.32966375],\n",
       "       [0.30401812],\n",
       "       [0.34058852],\n",
       "       [0.2353673 ],\n",
       "       [0.34110657],\n",
       "       [0.37139584],\n",
       "       [0.42880536],\n",
       "       [0.5065041 ],\n",
       "       [0.44631048],\n",
       "       [0.60120862],\n",
       "       [0.58250826],\n",
       "       [0.68964475],\n",
       "       [0.70918758],\n",
       "       [0.54823875],\n",
       "       [0.47405297],\n",
       "       [0.3909361 ],\n",
       "       [0.43607202],\n",
       "       [0.50957455],\n",
       "       [0.45081915],\n",
       "       [0.56337252],\n",
       "       [0.46650788],\n",
       "       [0.44766291],\n",
       "       [0.52233608],\n",
       "       [0.43806386],\n",
       "       [0.48391096],\n",
       "       [0.45269612],\n",
       "       [0.44523093],\n",
       "       [0.35351793]])"
      ]
     },
     "execution_count": 23,
     "metadata": {},
     "output_type": "execute_result"
    }
   ],
   "source": [
    "yHat"
   ]
  },
  {
   "cell_type": "code",
   "execution_count": 24,
   "metadata": {},
   "outputs": [
    {
     "data": {
      "text/plain": [
       "array([[0.17073406],\n",
       "       [0.2232566 ],\n",
       "       [0.24197469],\n",
       "       [0.36573346],\n",
       "       [0.55255899],\n",
       "       [0.37002352],\n",
       "       [0.3325317 ],\n",
       "       [0.38788752],\n",
       "       [0.39836394],\n",
       "       [0.2848263 ],\n",
       "       [0.18673502],\n",
       "       [0.18269477],\n",
       "       [0.255617  ],\n",
       "       [0.23597043],\n",
       "       [0.16413413],\n",
       "       [0.17817663],\n",
       "       [0.1639561 ],\n",
       "       [0.13324148],\n",
       "       [0.22639902],\n",
       "       [0.25501386],\n",
       "       [0.23708614],\n",
       "       [0.23165112],\n",
       "       [0.23306761],\n",
       "       [0.22117372],\n",
       "       [0.22633168],\n",
       "       [0.21869864],\n",
       "       [0.2320322 ],\n",
       "       [0.23194795],\n",
       "       [0.22154782],\n",
       "       [0.28795858],\n",
       "       [0.28837327],\n",
       "       [0.29714576],\n",
       "       [0.24366982],\n",
       "       [0.30743731],\n",
       "       [0.35859786],\n",
       "       [0.37218122],\n",
       "       [0.45025948],\n",
       "       [0.44309563],\n",
       "       [0.55815598],\n",
       "       [0.60235983],\n",
       "       [0.69629172],\n",
       "       [0.79060467],\n",
       "       [0.64402223],\n",
       "       [0.58322864],\n",
       "       [0.48171501],\n",
       "       [0.44281211],\n",
       "       [0.49627058],\n",
       "       [0.47546339],\n",
       "       [0.55155979],\n",
       "       [0.50099435],\n",
       "       [0.44545859],\n",
       "       [0.50571167],\n",
       "       [0.46588904],\n",
       "       [0.46785659],\n",
       "       [0.45300142],\n",
       "       [0.43741172],\n",
       "       [0.3506737 ],\n",
       "       [0.36403131]])"
      ]
     },
     "execution_count": 24,
     "metadata": {},
     "output_type": "execute_result"
    }
   ],
   "source": [
    "y"
   ]
  },
  {
   "cell_type": "code",
   "execution_count": 25,
   "metadata": {},
   "outputs": [
    {
     "data": {
      "text/plain": [
       "0.0029969345928524114"
      ]
     },
     "execution_count": 25,
     "metadata": {},
     "output_type": "execute_result"
    }
   ],
   "source": [
    "from sklearn.metrics import mean_squared_error \n",
    "mean_squared_error(y,yHat) "
   ]
  },
  {
   "cell_type": "code",
   "execution_count": 26,
   "metadata": {},
   "outputs": [
    {
     "data": {
      "image/png": "[encoded data removed]",
      "text/plain": [
       "<Figure size 432x288 with 1 Axes>"
      ]
     },
     "metadata": {
      "needs_background": "light"
     },
     "output_type": "display_data"
    }
   ],
   "source": [
    "#Plot cost during training:\n",
    "plot.plot(y)\n",
    "plot.plot(yHat)\n",
    "plot.grid(1)\n",
    "plot.legend(['y', 'yHat'])\n",
    "plot.show()"
   ]
  },
  {
   "cell_type": "code",
   "execution_count": 27,
   "metadata": {},
   "outputs": [],
   "source": [
    "#Regularization Parameter:\n",
    "Lambda = 0.0001"
   ]
  },
  {
   "cell_type": "code",
   "execution_count": 28,
   "metadata": {},
   "outputs": [],
   "source": [
    "#Need to make changes to costFunction and costFunctionPrim:\n",
    "def costFunction(self, X, y):\n",
    "    #Compute cost for given X,y, use weights already stored in class.\n",
    "    self.yHat = self.forward(X)\n",
    "    #We don't want cost to increase with the number of examples, so normalize by dividing the error term by number of examples(X.shape[0])\n",
    "    J = 0.5*sum((y-self.yHat)**2)/X.shape[0] + (self.Lambda/2)*(sum(self.W1**2)+sum(self.W2**2))\n",
    "    return J\n",
    "\n",
    "def costFunctionPrime(self, X, y):\n",
    "    #Compute derivative with respect to W and W2 for a given X and y:\n",
    "    self.yHat = self.forward(X)\n",
    "\n",
    "    delta3 = np.multiply(-(y-self.yHat), self.tanhPrime(self.z3))\n",
    "    #Add gradient of regularization term:\n",
    "    dJdW2 = np.dot(self.a2.T, delta3)/X.shape[0] + self.Lambda*self.W2\n",
    "\n",
    "    delta2 = np.dot(delta3, self.W2.T)*self.tanhPrime(self.z2)\n",
    "    #Add gradient of regularization term:\n",
    "    dJdW1 = np.dot(X.T, delta2)/X.shape[0] + self.Lambda*self.W1\n",
    "\n",
    "    return dJdW1, dJdW2"
   ]
  },
  {
   "cell_type": "code",
   "execution_count": 29,
   "metadata": {},
   "outputs": [],
   "source": [
    "#New complete class, with changes:\n",
    "class Neural_Network(object):\n",
    "    def __init__(self, Lambda=0.0001):        \n",
    "        #Define Hyperparameters\n",
    "        self.inputLayerSize = 4\n",
    "        self.outputLayerSize = 1\n",
    "        self.hiddenLayerSize = 3\n",
    "        \n",
    "        #Weights (parameters)\n",
    "        self.W1 = np.random.randn(self.inputLayerSize,self.hiddenLayerSize)\n",
    "        self.W2 = np.random.randn(self.hiddenLayerSize,self.outputLayerSize)\n",
    "        \n",
    "        #Regularization Parameter:\n",
    "        self.Lambda = Lambda\n",
    "        \n",
    "    def forward(self, X):\n",
    "        #Propogate inputs though network\n",
    "        self.z2 = np.dot(X, self.W1)\n",
    "        self.a2 = self.tanh(self.z2)\n",
    "        self.z3 = np.dot(self.a2, self.W2)\n",
    "        yHat = self.tanh(self.z3) \n",
    "        return yHat\n",
    "        \n",
    "    def tanh(self, z):\n",
    "        # activation function\n",
    "        return (np.exp(z)-np.exp(-z))/(np.exp(z)+np.exp(-z))\n",
    "    \n",
    "    def tanhPrime(self,z): \n",
    "        #derivative of tanh\n",
    "        return 1-((np.exp(z)-np.exp(-z))/(np.exp(z)+np.exp(-z)))**2\n",
    "    \n",
    "    def costFunction(self, X, y):\n",
    "        #Compute cost for given X,y, use weights already stored in class.\n",
    "        self.yHat = self.forward(X)\n",
    "        J = 0.5*sum((y-self.yHat)**2)/X.shape[0] + (self.Lambda/2)*(np.sum(self.W1**2)+np.sum(self.W2**2))\n",
    "        return J\n",
    "        \n",
    "    def costFunctionPrime(self, X, y):\n",
    "        #Compute derivative with respect to W and W2 for a given X and y:\n",
    "        self.yHat = self.forward(X)\n",
    "        \n",
    "        delta3 = np.multiply(-(y-self.yHat), self.tanhPrime(self.z3))\n",
    "        #Add gradient of regularization term:\n",
    "        dJdW2 = np.dot(self.a2.T, delta3)/X.shape[0] + self.Lambda*self.W2\n",
    "        \n",
    "        delta2 = np.dot(delta3, self.W2.T)*self.tanhPrime(self.z2)\n",
    "        #Add gradient of regularization term:\n",
    "        dJdW1 = np.dot(X.T, delta2)/X.shape[0] + self.Lambda*self.W1\n",
    "        \n",
    "        return dJdW1, dJdW2\n",
    "    \n",
    "    def predict(self):\n",
    "        prediksi = self.forward(dataprediksi)\n",
    "        return prediksi\n",
    "    \n",
    "    #Helper functions for interacting with other methods/classes\n",
    "    def getParams(self):\n",
    "        #Get W1 and W2 Rolled into vector:\n",
    "        params = np.concatenate((self.W1.ravel(), self.W2.ravel()))\n",
    "        return params\n",
    "    \n",
    "    def setParams(self, params):\n",
    "        #Set W1 and W2 using single parameter vector:\n",
    "        W1_start = 0\n",
    "        W1_end = self.hiddenLayerSize*self.inputLayerSize\n",
    "        self.W1 = np.reshape(params[W1_start:W1_end], \\\n",
    "                             (self.inputLayerSize, self.hiddenLayerSize))\n",
    "        W2_end = W1_end + self.hiddenLayerSize*self.outputLayerSize\n",
    "        self.W2 = np.reshape(params[W1_end:W2_end], \\\n",
    "                             (self.hiddenLayerSize, self.outputLayerSize))\n",
    "        \n",
    "    def computeGradients(self, X, y):\n",
    "        dJdW1, dJdW2 = self.costFunctionPrime(X, y)\n",
    "        return np.concatenate((dJdW1.ravel(), dJdW2.ravel()))"
   ]
  },
  {
   "cell_type": "code",
   "execution_count": 30,
   "metadata": {},
   "outputs": [],
   "source": [
    "def computeNumericalGradient(N, X, y):\n",
    "    paramsInitial = N.getParams()\n",
    "    numgrad = np.zeros(paramsInitial.shape)\n",
    "    perturb = np.zeros(paramsInitial.shape)\n",
    "    e = 1e-4\n",
    "\n",
    "    for p in range(len(paramsInitial)):\n",
    "        #Set perturbation vector\n",
    "        perturb[p] = e\n",
    "        N.setParams(paramsInitial + perturb)\n",
    "        loss2 = N.costFunction(X, y)\n",
    "            \n",
    "        N.setParams(paramsInitial - perturb)\n",
    "        loss1 = N.costFunction(X, y)\n",
    "\n",
    "        #Compute Numerical Gradient\n",
    "        numgrad[p] = (loss2 - loss1) / (2*e)\n",
    "\n",
    "            #Return the value we changed to zero:\n",
    "        perturb[p] = 0\n",
    "            \n",
    "    #Return Params to original value:\n",
    "    N.setParams(paramsInitial)\n",
    "\n",
    "    return numgrad "
   ]
  },
  {
   "cell_type": "code",
   "execution_count": 31,
   "metadata": {},
   "outputs": [],
   "source": [
    "NN = Neural_Network(Lambda=0.0001)"
   ]
  },
  {
   "cell_type": "code",
   "execution_count": 32,
   "metadata": {},
   "outputs": [],
   "source": [
    "#Make sure our gradients our correct after making changes:\n",
    "numgrad = computeNumericalGradient(NN, X, y)\n",
    "grad = NN.computeGradients(X,y)"
   ]
  },
  {
   "cell_type": "code",
   "execution_count": 33,
   "metadata": {},
   "outputs": [
    {
     "data": {
      "text/plain": [
       "2.564522102549283e-10"
      ]
     },
     "execution_count": 33,
     "metadata": {},
     "output_type": "execute_result"
    }
   ],
   "source": [
    "#Should be less than 1e-8:\n",
    "np.linalg.norm(grad-numgrad)/np.linalg.norm(grad+numgrad)"
   ]
  },
  {
   "cell_type": "code",
   "execution_count": 34,
   "metadata": {},
   "outputs": [],
   "source": [
    "T = trainer(NN)"
   ]
  },
  {
   "cell_type": "code",
   "execution_count": 35,
   "metadata": {},
   "outputs": [
    {
     "name": "stdout",
     "output_type": "stream",
     "text": [
      "Warning: Maximum number of iterations has been exceeded.\n",
      "         Current function value: 0.002116\n",
      "         Iterations: 100\n",
      "         Function evaluations: 113\n",
      "         Gradient evaluations: 113\n"
     ]
    }
   ],
   "source": [
    "T.train(X,y,testX,testY)"
   ]
  },
  {
   "cell_type": "code",
   "execution_count": 36,
   "metadata": {},
   "outputs": [
    {
     "data": {
      "image/png": "[encoded data removed]",
      "text/plain": [
       "<Figure size 432x288 with 1 Axes>"
      ]
     },
     "metadata": {
      "needs_background": "light"
     },
     "output_type": "display_data"
    }
   ],
   "source": [
    "plot.plot(T.J)\n",
    "plot.plot(T.testJ)\n",
    "plot.grid(1)\n",
    "plot.xlabel('Iterations')\n",
    "plot.ylabel('Cost')\n",
    "plot.legend(['Training', 'Testing'])\n",
    "plot.show()"
   ]
  },
  {
   "cell_type": "code",
   "execution_count": 37,
   "metadata": {},
   "outputs": [
    {
     "data": {
      "text/plain": [
       "[array([0.15245577]),\n",
       " array([0.06901215]),\n",
       " array([0.01225537]),\n",
       " array([0.00553752]),\n",
       " array([0.00516861]),\n",
       " array([0.00510787]),\n",
       " array([0.00506655]),\n",
       " array([0.00498786]),\n",
       " array([0.00483886]),\n",
       " array([0.004566]),\n",
       " array([0.00411363]),\n",
       " array([0.003696]),\n",
       " array([0.0036736]),\n",
       " array([0.00365757]),\n",
       " array([0.00363289]),\n",
       " array([0.0036019]),\n",
       " array([0.0035587]),\n",
       " array([0.00348221]),\n",
       " array([0.00334091]),\n",
       " array([0.00308012]),\n",
       " array([0.00289372]),\n",
       " array([0.00288288]),\n",
       " array([0.00286413]),\n",
       " array([0.00283288]),\n",
       " array([0.00280172]),\n",
       " array([0.00279491]),\n",
       " array([0.00278707]),\n",
       " array([0.00278233]),\n",
       " array([0.0027782]),\n",
       " array([0.00277562]),\n",
       " array([0.00277076]),\n",
       " array([0.00276168]),\n",
       " array([0.00274489]),\n",
       " array([0.00271448]),\n",
       " array([0.00266123]),\n",
       " array([0.00257539]),\n",
       " array([0.00246648]),\n",
       " array([0.00242711]),\n",
       " array([0.00237243]),\n",
       " array([0.00231981]),\n",
       " array([0.00231505]),\n",
       " array([0.00231087]),\n",
       " array([0.00230339]),\n",
       " array([0.00229066]),\n",
       " array([0.00227529]),\n",
       " array([0.00227273]),\n",
       " array([0.00226841]),\n",
       " array([0.00226136]),\n",
       " array([0.00225393]),\n",
       " array([0.00225361]),\n",
       " array([0.00225345]),\n",
       " array([0.0022533]),\n",
       " array([0.00225318]),\n",
       " array([0.00225297]),\n",
       " array([0.00225256]),\n",
       " array([0.00225181]),\n",
       " array([0.00225042]),\n",
       " array([0.0022479]),\n",
       " array([0.00224354]),\n",
       " array([0.00223662]),\n",
       " array([0.0022287]),\n",
       " array([0.00222333]),\n",
       " array([0.00222054]),\n",
       " array([0.00221599]),\n",
       " array([0.00220824]),\n",
       " array([0.0021958]),\n",
       " array([0.00218674]),\n",
       " array([0.00218348]),\n",
       " array([0.00218089]),\n",
       " array([0.00217706]),\n",
       " array([0.00217415]),\n",
       " array([0.00217169]),\n",
       " array([0.00216769]),\n",
       " array([0.00216569]),\n",
       " array([0.0021623]),\n",
       " array([0.00215656]),\n",
       " array([0.0021481]),\n",
       " array([0.00214328]),\n",
       " array([0.00214006]),\n",
       " array([0.00213857]),\n",
       " array([0.00213755]),\n",
       " array([0.00213583]),\n",
       " array([0.00213295]),\n",
       " array([0.00212866]),\n",
       " array([0.00212746]),\n",
       " array([0.00212622]),\n",
       " array([0.00212611]),\n",
       " array([0.00212608]),\n",
       " array([0.00212602]),\n",
       " array([0.00212592]),\n",
       " array([0.00212575]),\n",
       " array([0.00212545]),\n",
       " array([0.00212493]),\n",
       " array([0.00212404]),\n",
       " array([0.00212266]),\n",
       " array([0.00212148]),\n",
       " array([0.00212096]),\n",
       " array([0.00212007]),\n",
       " array([0.00211851]),\n",
       " array([0.00211581])]"
      ]
     },
     "execution_count": 37,
     "metadata": {},
     "output_type": "execute_result"
    }
   ],
   "source": [
    "T.J"
   ]
  },
  {
   "cell_type": "code",
   "execution_count": 38,
   "metadata": {},
   "outputs": [
    {
     "data": {
      "text/plain": [
       "[array([0.22907463]),\n",
       " array([0.07633217]),\n",
       " array([0.01261012]),\n",
       " array([0.00263074]),\n",
       " array([0.00176261]),\n",
       " array([0.00178767]),\n",
       " array([0.00180445]),\n",
       " array([0.00181338]),\n",
       " array([0.00180777]),\n",
       " array([0.00176834]),\n",
       " array([0.00166653]),\n",
       " array([0.00164315]),\n",
       " array([0.00168298]),\n",
       " array([0.00170982]),\n",
       " array([0.00173744]),\n",
       " array([0.00175253]),\n",
       " array([0.00174469]),\n",
       " array([0.00171026]),\n",
       " array([0.00162843]),\n",
       " array([0.00146792]),\n",
       " array([0.00148259]),\n",
       " array([0.00154094]),\n",
       " array([0.00151081]),\n",
       " array([0.00146981]),\n",
       " array([0.00143229]),\n",
       " array([0.00142578]),\n",
       " array([0.00140896]),\n",
       " array([0.0014033]),\n",
       " array([0.00138831]),\n",
       " array([0.0013862]),\n",
       " array([0.00138478]),\n",
       " array([0.00138352]),\n",
       " array([0.00138184]),\n",
       " array([0.00137733]),\n",
       " array([0.00136215]),\n",
       " array([0.00133727]),\n",
       " array([0.00145133]),\n",
       " array([0.00142555]),\n",
       " array([0.00151422]),\n",
       " array([0.00157429]),\n",
       " array([0.00156884]),\n",
       " array([0.00155531]),\n",
       " array([0.00154331]),\n",
       " array([0.00152209]),\n",
       " array([0.00150602]),\n",
       " array([0.00147642]),\n",
       " array([0.00148234]),\n",
       " array([0.00150346]),\n",
       " array([0.00154503]),\n",
       " array([0.00154183]),\n",
       " array([0.00153875]),\n",
       " array([0.00153749]),\n",
       " array([0.00153763]),\n",
       " array([0.00153782]),\n",
       " array([0.00153779]),\n",
       " array([0.00153722]),\n",
       " array([0.00153548]),\n",
       " array([0.00153105]),\n",
       " array([0.00152039]),\n",
       " array([0.0014948]),\n",
       " array([0.00144525]),\n",
       " array([0.00139743]),\n",
       " array([0.00136703]),\n",
       " array([0.0013372]),\n",
       " array([0.00131651]),\n",
       " array([0.00131019]),\n",
       " array([0.00132822]),\n",
       " array([0.0013367]),\n",
       " array([0.00133699]),\n",
       " array([0.00132953]),\n",
       " array([0.00132184]),\n",
       " array([0.0013138]),\n",
       " array([0.00130786]),\n",
       " array([0.00129797]),\n",
       " array([0.00129248]),\n",
       " array([0.00129029]),\n",
       " array([0.00128932]),\n",
       " array([0.00129375]),\n",
       " array([0.00128707]),\n",
       " array([0.00128208]),\n",
       " array([0.00127698]),\n",
       " array([0.00127187]),\n",
       " array([0.00126879]),\n",
       " array([0.0012702]),\n",
       " array([0.00127399]),\n",
       " array([0.00128199]),\n",
       " array([0.00128137]),\n",
       " array([0.00128082]),\n",
       " array([0.00128005]),\n",
       " array([0.0012787]),\n",
       " array([0.00127743]),\n",
       " array([0.00127571]),\n",
       " array([0.00127399]),\n",
       " array([0.0012716]),\n",
       " array([0.00126979]),\n",
       " array([0.00126963]),\n",
       " array([0.00127273]),\n",
       " array([0.00127618]),\n",
       " array([0.00128108]),\n",
       " array([0.00128493])]"
      ]
     },
     "execution_count": 38,
     "metadata": {},
     "output_type": "execute_result"
    }
   ],
   "source": [
    "T.testJ"
   ]
  },
  {
   "cell_type": "code",
   "execution_count": 39,
   "metadata": {},
   "outputs": [
    {
     "data": {
      "text/plain": [
       "0.001995021095895359"
      ]
     },
     "execution_count": 39,
     "metadata": {},
     "output_type": "execute_result"
    }
   ],
   "source": [
    "from sklearn.metrics import mean_absolute_error\n",
    "mean_absolute_error(T.J, T.testJ)"
   ]
  },
  {
   "cell_type": "code",
   "execution_count": 40,
   "metadata": {},
   "outputs": [],
   "source": [
    "yHat=NN.forward(X)"
   ]
  },
  {
   "cell_type": "code",
   "execution_count": 41,
   "metadata": {},
   "outputs": [
    {
     "data": {
      "text/plain": [
       "array([[0.11551254],\n",
       "       [0.21826343],\n",
       "       [0.23757009],\n",
       "       [0.26823839],\n",
       "       [0.40418471],\n",
       "       [0.54493169],\n",
       "       [0.35612303],\n",
       "       [0.38870251],\n",
       "       [0.38035925],\n",
       "       [0.39896303],\n",
       "       [0.290755  ],\n",
       "       [0.19750968],\n",
       "       [0.1867352 ],\n",
       "       [0.2697046 ],\n",
       "       [0.24226925],\n",
       "       [0.18169406],\n",
       "       [0.2007673 ],\n",
       "       [0.16149995],\n",
       "       [0.14478553],\n",
       "       [0.26129978],\n",
       "       [0.26314297],\n",
       "       [0.26567083],\n",
       "       [0.25568833],\n",
       "       [0.24866655],\n",
       "       [0.2356477 ],\n",
       "       [0.24665139],\n",
       "       [0.23231507],\n",
       "       [0.25416603],\n",
       "       [0.24720694],\n",
       "       [0.23988718],\n",
       "       [0.3181695 ],\n",
       "       [0.2979765 ],\n",
       "       [0.32763831],\n",
       "       [0.25121509],\n",
       "       [0.34208573],\n",
       "       [0.36627523],\n",
       "       [0.39274086],\n",
       "       [0.46994983],\n",
       "       [0.44086177],\n",
       "       [0.55997455],\n",
       "       [0.56274852],\n",
       "       [0.64364926],\n",
       "       [0.68313107],\n",
       "       [0.57811621],\n",
       "       [0.56172406],\n",
       "       [0.43622867],\n",
       "       [0.43491508],\n",
       "       [0.48396694],\n",
       "       [0.45899841],\n",
       "       [0.54875252],\n",
       "       [0.47577715],\n",
       "       [0.45404483],\n",
       "       [0.50107312],\n",
       "       [0.44484302],\n",
       "       [0.47834167],\n",
       "       [0.44503306],\n",
       "       [0.43994455],\n",
       "       [0.34784908]])"
      ]
     },
     "execution_count": 41,
     "metadata": {},
     "output_type": "execute_result"
    }
   ],
   "source": [
    "yHat"
   ]
  },
  {
   "cell_type": "code",
   "execution_count": 42,
   "metadata": {},
   "outputs": [
    {
     "data": {
      "text/plain": [
       "array([[0.17073406],\n",
       "       [0.2232566 ],\n",
       "       [0.24197469],\n",
       "       [0.36573346],\n",
       "       [0.55255899],\n",
       "       [0.37002352],\n",
       "       [0.3325317 ],\n",
       "       [0.38788752],\n",
       "       [0.39836394],\n",
       "       [0.2848263 ],\n",
       "       [0.18673502],\n",
       "       [0.18269477],\n",
       "       [0.255617  ],\n",
       "       [0.23597043],\n",
       "       [0.16413413],\n",
       "       [0.17817663],\n",
       "       [0.1639561 ],\n",
       "       [0.13324148],\n",
       "       [0.22639902],\n",
       "       [0.25501386],\n",
       "       [0.23708614],\n",
       "       [0.23165112],\n",
       "       [0.23306761],\n",
       "       [0.22117372],\n",
       "       [0.22633168],\n",
       "       [0.21869864],\n",
       "       [0.2320322 ],\n",
       "       [0.23194795],\n",
       "       [0.22154782],\n",
       "       [0.28795858],\n",
       "       [0.28837327],\n",
       "       [0.29714576],\n",
       "       [0.24366982],\n",
       "       [0.30743731],\n",
       "       [0.35859786],\n",
       "       [0.37218122],\n",
       "       [0.45025948],\n",
       "       [0.44309563],\n",
       "       [0.55815598],\n",
       "       [0.60235983],\n",
       "       [0.69629172],\n",
       "       [0.79060467],\n",
       "       [0.64402223],\n",
       "       [0.58322864],\n",
       "       [0.48171501],\n",
       "       [0.44281211],\n",
       "       [0.49627058],\n",
       "       [0.47546339],\n",
       "       [0.55155979],\n",
       "       [0.50099435],\n",
       "       [0.44545859],\n",
       "       [0.50571167],\n",
       "       [0.46588904],\n",
       "       [0.46785659],\n",
       "       [0.45300142],\n",
       "       [0.43741172],\n",
       "       [0.3506737 ],\n",
       "       [0.36403131]])"
      ]
     },
     "execution_count": 42,
     "metadata": {},
     "output_type": "execute_result"
    }
   ],
   "source": [
    "y"
   ]
  },
  {
   "cell_type": "code",
   "execution_count": 43,
   "metadata": {},
   "outputs": [
    {
     "data": {
      "text/plain": [
       "0.0038937704651338615"
      ]
     },
     "execution_count": 43,
     "metadata": {},
     "output_type": "execute_result"
    }
   ],
   "source": [
    "from sklearn.metrics import mean_squared_error \n",
    "mean_squared_error(y,yHat) "
   ]
  },
  {
   "cell_type": "code",
   "execution_count": 44,
   "metadata": {},
   "outputs": [
    {
     "data": {
      "image/png": "[encoded data removed]",
      "text/plain": [
       "<Figure size 432x288 with 1 Axes>"
      ]
     },
     "metadata": {
      "needs_background": "light"
     },
     "output_type": "display_data"
    }
   ],
   "source": [
    "#Plot cost during training:\n",
    "plot.plot(y)\n",
    "plot.plot(yHat)\n",
    "plot.grid(1)\n",
    "plot.legend(['y', 'yHat'])\n",
    "plot.show()"
   ]
  },
  {
   "cell_type": "code",
   "execution_count": 45,
   "metadata": {},
   "outputs": [],
   "source": [
    "prediksi=NN.forward(dataprediksi)"
   ]
  },
  {
   "cell_type": "code",
   "execution_count": 46,
   "metadata": {},
   "outputs": [
    {
     "data": {
      "text/plain": [
       "array([[0.38409103],\n",
       "       [0.69877143],\n",
       "       [0.75361953],\n",
       "       [0.63378808]])"
      ]
     },
     "execution_count": 46,
     "metadata": {},
     "output_type": "execute_result"
    }
   ],
   "source": [
    "prediksi"
   ]
  },
  {
   "cell_type": "code",
   "execution_count": 47,
   "metadata": {},
   "outputs": [],
   "source": [
    "from sklearn.metrics import mean_squared_error "
   ]
  },
  {
   "cell_type": "code",
   "execution_count": 48,
   "metadata": {},
   "outputs": [
    {
     "data": {
      "text/plain": [
       "0.07054955975138301"
      ]
     },
     "execution_count": 48,
     "metadata": {},
     "output_type": "execute_result"
    }
   ],
   "source": [
    "Y_true= ([\t0.795380412\t]\t,\n",
    "[\t1\t]\t,\n",
    "[\t0.707681705\t]\t,\n",
    "[\t0.491695324\t]\t,\n",
    "\n",
    ")\n",
    "\n",
    "\n",
    "Y_pred=prediksi\n",
    "mean_squared_error(Y_true,Y_pred) "
   ]
  },
  {
   "cell_type": "code",
   "execution_count": 49,
   "metadata": {},
   "outputs": [
    {
     "data": {
      "text/plain": [
       "array([[0.45300142, 0.43741172, 0.3506737 , 0.36403131],\n",
       "       [0.43741172, 0.3506737 , 0.36403131, 0.79538041],\n",
       "       [0.3506737 , 0.36403131, 0.79538041, 1.        ],\n",
       "       [0.36403131, 0.79538041, 1.        , 0.70768171]])"
      ]
     },
     "execution_count": 49,
     "metadata": {},
     "output_type": "execute_result"
    }
   ],
   "source": [
    "dataprediksi"
   ]
  },
  {
   "cell_type": "code",
   "execution_count": 50,
   "metadata": {},
   "outputs": [],
   "source": [
    "a=np.array([\t0.795380412\t,\t1\t,\t0.707681705\t,\t0.491695324\t])"
   ]
  },
  {
   "cell_type": "code",
   "execution_count": 51,
   "metadata": {},
   "outputs": [
    {
     "data": {
      "text/plain": [
       "array([0.48912709])"
      ]
     },
     "execution_count": 51,
     "metadata": {},
     "output_type": "execute_result"
    }
   ],
   "source": [
    "#prediksi 1\n",
    "prediksi=NN.forward(a)\n",
    "prediksi"
   ]
  },
  {
   "cell_type": "code",
   "execution_count": 52,
   "metadata": {},
   "outputs": [
    {
     "data": {
      "text/plain": [
       "array([0.44156033])"
      ]
     },
     "execution_count": 52,
     "metadata": {},
     "output_type": "execute_result"
    }
   ],
   "source": [
    "#prediksi 2\n",
    "c=prediksi\n",
    "b=a[1:]\n",
    "d=np.concatenate((b,c))\n",
    "prediksi=NN.forward(d)\n",
    "prediksi"
   ]
  },
  {
   "cell_type": "code",
   "execution_count": 53,
   "metadata": {},
   "outputs": [
    {
     "data": {
      "text/plain": [
       "array([0.39883042])"
      ]
     },
     "execution_count": 53,
     "metadata": {},
     "output_type": "execute_result"
    }
   ],
   "source": [
    "#prediksi 3\n",
    "c=prediksi\n",
    "b=d[1:]\n",
    "e=np.concatenate((b,c))\n",
    "prediksi=NN.forward(e)\n",
    "prediksi"
   ]
  },
  {
   "cell_type": "code",
   "execution_count": 54,
   "metadata": {},
   "outputs": [
    {
     "data": {
      "text/plain": [
       "array([0.40383963])"
      ]
     },
     "execution_count": 54,
     "metadata": {},
     "output_type": "execute_result"
    }
   ],
   "source": [
    "#prediksi 4\n",
    "c=prediksi\n",
    "b=e[1:]\n",
    "f=np.concatenate((b,c))\n",
    "prediksi=NN.forward(f)\n",
    "prediksi"
   ]
  },
  {
   "cell_type": "code",
   "execution_count": 55,
   "metadata": {},
   "outputs": [
    {
     "data": {
      "text/plain": [
       "array([0.40885515])"
      ]
     },
     "execution_count": 55,
     "metadata": {},
     "output_type": "execute_result"
    }
   ],
   "source": [
    "#prediksi 5\n",
    "c=prediksi\n",
    "b=f[1:]\n",
    "g=np.concatenate((b,c))\n",
    "prediksi=NN.forward(g)\n",
    "prediksi"
   ]
  },
  {
   "cell_type": "code",
   "execution_count": 56,
   "metadata": {},
   "outputs": [
    {
     "data": {
      "text/plain": [
       "array([0.41044129])"
      ]
     },
     "execution_count": 56,
     "metadata": {},
     "output_type": "execute_result"
    }
   ],
   "source": [
    "#prediksi 6\n",
    "c=prediksi\n",
    "b=g[1:]\n",
    "h=np.concatenate((b,c))\n",
    "prediksi=NN.forward(h)\n",
    "prediksi"
   ]
  },
  {
   "cell_type": "code",
   "execution_count": 57,
   "metadata": {},
   "outputs": [
    {
     "data": {
      "text/plain": [
       "array([0.41208653])"
      ]
     },
     "execution_count": 57,
     "metadata": {},
     "output_type": "execute_result"
    }
   ],
   "source": [
    "#prediksi 7\n",
    "c=prediksi\n",
    "b=g[1:]\n",
    "i=np.concatenate((b,c))\n",
    "prediksi=NN.forward(i)\n",
    "prediksi"
   ]
  },
  {
   "cell_type": "code",
   "execution_count": 58,
   "metadata": {},
   "outputs": [
    {
     "data": {
      "text/plain": [
       "array([0.41378928])"
      ]
     },
     "execution_count": 58,
     "metadata": {},
     "output_type": "execute_result"
    }
   ],
   "source": [
    "#prediksi 8\n",
    "c=prediksi\n",
    "b=g[1:]\n",
    "j=np.concatenate((b,c))\n",
    "prediksi=NN.forward(j)\n",
    "prediksi"
   ]
  },
  {
   "cell_type": "code",
   "execution_count": 59,
   "metadata": {},
   "outputs": [
    {
     "data": {
      "text/plain": [
       "array([0.41554748])"
      ]
     },
     "execution_count": 59,
     "metadata": {},
     "output_type": "execute_result"
    }
   ],
   "source": [
    "#prediksi 9\n",
    "c=prediksi\n",
    "b=g[1:]\n",
    "k=np.concatenate((b,c))\n",
    "prediksi=NN.forward(k)\n",
    "prediksi"
   ]
  },
  {
   "cell_type": "code",
   "execution_count": 60,
   "metadata": {},
   "outputs": [
    {
     "data": {
      "text/plain": [
       "array([0.41735857])"
      ]
     },
     "execution_count": 60,
     "metadata": {},
     "output_type": "execute_result"
    }
   ],
   "source": [
    "#prediksi 10\n",
    "c=prediksi\n",
    "b=g[1:]\n",
    "l=np.concatenate((b,c))\n",
    "prediksi=NN.forward(l)\n",
    "prediksi"
   ]
  },
  {
   "cell_type": "code",
   "execution_count": 61,
   "metadata": {},
   "outputs": [
    {
     "data": {
      "text/plain": [
       "array([0.41921952])"
      ]
     },
     "execution_count": 61,
     "metadata": {},
     "output_type": "execute_result"
    }
   ],
   "source": [
    "#prediksi 11\n",
    "c=prediksi\n",
    "b=g[1:]\n",
    "m=np.concatenate((b,c))\n",
    "prediksi=NN.forward(m)\n",
    "prediksi"
   ]
  },
  {
   "cell_type": "code",
   "execution_count": 62,
   "metadata": {},
   "outputs": [
    {
     "data": {
      "text/plain": [
       "array([0.42112675])"
      ]
     },
     "execution_count": 62,
     "metadata": {},
     "output_type": "execute_result"
    }
   ],
   "source": [
    "#prediksi 12\n",
    "c=prediksi\n",
    "b=g[1:]\n",
    "n=np.concatenate((b,c))\n",
    "prediksi=NN.forward(n)\n",
    "prediksi"
   ]
  },
  {
   "cell_type": "code",
   "execution_count": null,
   "metadata": {},
   "outputs": [],
   "source": []
  }
 ],
 "metadata": {
  "kernelspec": {
   "display_name": "Python 3",
   "language": "python",
   "name": "python3"
  },
  "language_info": {
   "codemirror_mode": {
    "name": "ipython",
    "version": 3
   },
   "file_extension": ".py",
   "mimetype": "text/x-python",
   "name": "python",
   "nbconvert_exporter": "python",
   "pygments_lexer": "ipython3",
   "version": "3.7.3"
  }
 },
 "nbformat": 4,
 "nbformat_minor": 2
}
