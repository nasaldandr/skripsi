{
 "cells": [
  {
   "cell_type": "code",
   "execution_count": 1,
   "metadata": {},
   "outputs": [],
   "source": [
    "import numpy as np"
   ]
  },
  {
   "cell_type": "code",
   "execution_count": 2,
   "metadata": {},
   "outputs": [],
   "source": [
    "#UNTUK NILAI IMPOR\n",
    "class Neural_Network(object):\n",
    "    def __init__(self):\n",
    "        #parameters\n",
    "        self.inputLayerSize = 4\n",
    "        self.outputLayerSize = 1\n",
    "        self.hiddenLayerSize = 4\n",
    "\n",
    "        #weights\n",
    "        self.W1 = np.random.randn(self.inputLayerSize,\\\n",
    "                                 self.hiddenLayerSize)  \n",
    "        self.W2 = np.random.randn(self.hiddenLayerSize,\\\n",
    "                                 self.outputLayerSize)  \n",
    "    \n",
    "    def printw(self):\n",
    "        return self.W1\n",
    "        \n",
    "    def weight(self, W1, W2):\n",
    "        #Make an internal variable for the weight:\n",
    "        self.W1 = W1\n",
    "        self.W2 = W2\n",
    "        \n",
    "    def forward(self, X):\n",
    "        #forward propagation through our network\n",
    "        self.z2 = np.dot(X,self.W1)  \n",
    "        self.a2 = self.tanh(self.z2)  # activation function\n",
    "        self.z3 = np.dot(self.a2, self.W2) \n",
    "        yHat = self.tanh(self.z3)  # final activation function\n",
    "        return yHat\n",
    "\n",
    "    def tanh(self, z):\n",
    "        # activation function\n",
    "        return (np.exp(z)-np.exp(-z))/(np.exp(z)+np.exp(-z))\n",
    "    \n",
    "    def tanhPrime(self,z): \n",
    "        #derivative of tanh\n",
    "        return 1-((np.exp(z)-np.exp(-z))/(np.exp(z)+np.exp(-z)))**2\n",
    "    \n",
    "    def costFunction(self,X,y):\n",
    "        self.yHat = self.forward(X)\n",
    "        J=0.5*sum((y-self.yHat)**2)\n",
    "        return J\n",
    "    \n",
    "    def costFunctionPrime(self,X,y):\n",
    "        self.yHat=self.forward(X)\n",
    "        \n",
    "        delta3=np.multiply(-(y-self.yHat),self.tanhPrime(self.z3))\n",
    "        dJdW2=np.dot(self.a2.T,delta3)\n",
    "        \n",
    "        delta2=np.dot(delta3,self.W2.T)*self.tanhPrime(self.z2)\n",
    "        dJdW1=np.dot(X.T,delta2)\n",
    "        return dJdW1,dJdW2\n",
    "    \n",
    "    def predict(self):\n",
    "        prediksi = self.forward(dataprediksi)\n",
    "        return prediksi\n",
    "    \n",
    "    def getParams(self):\n",
    "        params=np.concatenate((self.W1.ravel(),self.W2.ravel()))\n",
    "        return params\n",
    "    \n",
    "    def setParams(self,params):\n",
    "        W1_start=0\n",
    "        W1_end=self.hiddenLayerSize*self.inputLayerSize\n",
    "        self.W1=np.reshape(params[W1_start:W1_end],\\\n",
    "                          (self.inputLayerSize,self.hiddenLayerSize))\n",
    "        W2_end=W1_end+self.hiddenLayerSize*self.outputLayerSize\n",
    "        self.W2=np.reshape(params[W1_end:W2_end],\\\n",
    "                          (self.hiddenLayerSize,self.outputLayerSize))\n",
    "        \n",
    "    def computeGradients(self, X, y):\n",
    "        dJdW1, dJdW2 = self.costFunctionPrime(X, y)\n",
    "        return np.concatenate((dJdW1.ravel(), dJdW2.ravel()))"
   ]
  },
  {
   "cell_type": "code",
   "execution_count": 3,
   "metadata": {},
   "outputs": [],
   "source": [
    "NN = Neural_Network()"
   ]
  },
  {
   "cell_type": "code",
   "execution_count": 4,
   "metadata": {},
   "outputs": [
    {
     "data": {
      "text/plain": [
       "array([[ 0.90825883, -1.21894918, -0.34900067, -0.8143827 ],\n",
       "       [-1.34445702, -0.80429504, -1.3603184 , -0.39787508],\n",
       "       [-0.89677948, -0.31520693, -0.45650814,  0.15018027],\n",
       "       [ 0.41502625,  1.02363653,  0.10878947, -0.88680171]])"
      ]
     },
     "execution_count": 4,
     "metadata": {},
     "output_type": "execute_result"
    }
   ],
   "source": [
    "NN.W1"
   ]
  },
  {
   "cell_type": "code",
   "execution_count": 5,
   "metadata": {},
   "outputs": [
    {
     "data": {
      "text/plain": [
       "array([[-0.80789514],\n",
       "       [-0.06979753],\n",
       "       [ 1.74317537],\n",
       "       [ 1.21493473]])"
      ]
     },
     "execution_count": 5,
     "metadata": {},
     "output_type": "execute_result"
    }
   ],
   "source": [
    "NN.W2"
   ]
  },
  {
   "cell_type": "code",
   "execution_count": 6,
   "metadata": {},
   "outputs": [],
   "source": [
    "#KURS\n",
    "X=np.array(([\t0\t,\t0.051924996\t,\t0.148319042\t,\t0.112113419\t]\t,\n",
    "[\t0.051924996\t,\t0.148319042\t,\t0.112113419\t,\t0.170734062\t]\t,\n",
    "[\t0.148319042\t,\t0.112113419\t,\t0.170734062\t,\t0.223256598\t]\t,\n",
    "[\t0.112113419\t,\t0.170734062\t,\t0.223256598\t,\t0.241974687\t]\t,\n",
    "[\t0.170734062\t,\t0.223256598\t,\t0.241974687\t,\t0.365733465\t]\t,\n",
    "[\t0.223256598\t,\t0.241974687\t,\t0.365733465\t,\t0.552558994\t]\t,\n",
    "[\t0.241974687\t,\t0.365733465\t,\t0.552558994\t,\t0.370023519\t]\t,\n",
    "[\t0.365733465\t,\t0.552558994\t,\t0.370023519\t,\t0.332531703\t]\t,\n",
    "[\t0.552558994\t,\t0.370023519\t,\t0.332531703\t,\t0.387887522\t]\t,\n",
    "[\t0.370023519\t,\t0.332531703\t,\t0.387887522\t,\t0.398363943\t]\t,\n",
    "[\t0.332531703\t,\t0.387887522\t,\t0.398363943\t,\t0.284826299\t]\t,\n",
    "[\t0.387887522\t,\t0.398363943\t,\t0.284826299\t,\t0.186735022\t]\t,\n",
    "[\t0.398363943\t,\t0.284826299\t,\t0.186735022\t,\t0.182694768\t]\t,\n",
    "[\t0.284826299\t,\t0.186735022\t,\t0.182694768\t,\t0.255617002\t]\t,\n",
    "[\t0.186735022\t,\t0.182694768\t,\t0.255617002\t,\t0.23597043\t]\t,\n",
    "[\t0.182694768\t,\t0.255617002\t,\t0.23597043\t,\t0.164134134\t]\t,\n",
    "[\t0.255617002\t,\t0.23597043\t,\t0.164134134\t,\t0.178176635\t]\t,\n",
    "[\t0.23597043\t,\t0.164134134\t,\t0.178176635\t,\t0.163956101\t]\t,\n",
    "[\t0.164134134\t,\t0.178176635\t,\t0.163956101\t,\t0.133241484\t]\t,\n",
    "[\t0.178176635\t,\t0.163956101\t,\t0.133241484\t,\t0.226399017\t]\t,\n",
    "[\t0.163956101\t,\t0.133241484\t,\t0.226399017\t,\t0.255013861\t]\t,\n",
    "[\t0.133241484\t,\t0.226399017\t,\t0.255013861\t,\t0.23708614\t]\t,\n",
    "[\t0.226399017\t,\t0.255013861\t,\t0.23708614\t,\t0.231651119\t]\t,\n",
    "[\t0.255013861\t,\t0.23708614\t,\t0.231651119\t,\t0.233067608\t]\t,\n",
    "[\t0.23708614\t,\t0.231651119\t,\t0.233067608\t,\t0.221173719\t]\t,\n",
    "[\t0.231651119\t,\t0.233067608\t,\t0.221173719\t,\t0.22633168\t]\t,\n",
    "[\t0.233067608\t,\t0.221173719\t,\t0.22633168\t,\t0.218698642\t]\t,\n",
    "[\t0.221173719\t,\t0.22633168\t,\t0.218698642\t,\t0.232032203\t]\t,\n",
    "[\t0.22633168\t,\t0.218698642\t,\t0.232032203\t,\t0.231947948\t]\t,\n",
    "[\t0.218698642\t,\t0.232032203\t,\t0.231947948\t,\t0.221547817\t]\t,\n",
    "[\t0.232032203\t,\t0.231947948\t,\t0.221547817\t,\t0.287958581\t]\t,\n",
    "[\t0.231947948\t,\t0.221547817\t,\t0.287958581\t,\t0.28837327\t]\t,\n",
    "[\t0.221547817\t,\t0.287958581\t,\t0.28837327\t,\t0.297145757\t]\t,\n",
    "[\t0.287958581\t,\t0.28837327\t,\t0.297145757\t,\t0.243669818\t]\t,\n",
    "[\t0.28837327\t,\t0.297145757\t,\t0.243669818\t,\t0.307437314\t]\t,\n",
    "[\t0.297145757\t,\t0.243669818\t,\t0.307437314\t,\t0.358597855\t]\t,\n",
    "[\t0.243669818\t,\t0.307437314\t,\t0.358597855\t,\t0.372181217\t]\t,\n",
    "[\t0.307437314\t,\t0.358597855\t,\t0.372181217\t,\t0.450259481\t]\t,\n",
    "[\t0.358597855\t,\t0.372181217\t,\t0.450259481\t,\t0.443095634\t]\t,\n",
    "[\t0.372181217\t,\t0.450259481\t,\t0.443095634\t,\t0.558155976\t]\t,\n",
    "[\t0.450259481\t,\t0.443095634\t,\t0.558155976\t,\t0.602359827\t]\t,\n",
    "[\t0.443095634\t,\t0.558155976\t,\t0.602359827\t,\t0.696291723\t]\t,\n",
    "[\t0.558155976\t,\t0.602359827\t,\t0.696291723\t,\t0.790604671\t]\t,\n",
    "[\t0.602359827\t,\t0.696291723\t,\t0.790604671\t,\t0.644022227\t]\t,\n",
    "[\t0.696291723\t,\t0.790604671\t,\t0.644022227\t,\t0.583228643\t]\t,\n",
    "[\t0.790604671\t,\t0.644022227\t,\t0.583228643\t,\t0.481715009\t]\t,\n",
    "[\t0.644022227\t,\t0.583228643\t,\t0.481715009\t,\t0.442812107\t]\t,\n",
    "[\t0.583228643\t,\t0.481715009\t,\t0.442812107\t,\t0.496270585\t]\t,\n",
    "[\t0.481715009\t,\t0.442812107\t,\t0.496270585\t,\t0.475463393\t]\t,\n",
    "[\t0.442812107\t,\t0.496270585\t,\t0.475463393\t,\t0.551559791\t]\t,\n",
    "[\t0.496270585\t,\t0.475463393\t,\t0.551559791\t,\t0.500994351\t]\t,\n",
    "[\t0.475463393\t,\t0.551559791\t,\t0.500994351\t,\t0.445458587\t]\t,\n",
    "[\t0.551559791\t,\t0.500994351\t,\t0.445458587\t,\t0.505711667\t]\t,\n",
    "[\t0.500994351\t,\t0.445458587\t,\t0.505711667\t,\t0.465889036\t]\t,\n",
    "[\t0.445458587\t,\t0.505711667\t,\t0.465889036\t,\t0.46785659\t]\t,\n",
    "[\t0.505711667\t,\t0.465889036\t,\t0.46785659\t,\t0.453001423\t]\t,\n",
    "[\t0.465889036\t,\t0.46785659\t,\t0.453001423\t,\t0.437411724\t]\t,\n",
    "[\t0.46785659\t,\t0.453001423\t,\t0.437411724\t,\t0.350673696\t]\t,\n",
    "\n",
    ")           \n",
    ",dtype=float)\n",
    "y=np.array(([\t0.170734062\t]\t,\n",
    "[\t0.223256598\t]\t,\n",
    "[\t0.241974687\t]\t,\n",
    "[\t0.365733465\t]\t,\n",
    "[\t0.552558994\t]\t,\n",
    "[\t0.370023519\t]\t,\n",
    "[\t0.332531703\t]\t,\n",
    "[\t0.387887522\t]\t,\n",
    "[\t0.398363943\t]\t,\n",
    "[\t0.284826299\t]\t,\n",
    "[\t0.186735022\t]\t,\n",
    "[\t0.182694768\t]\t,\n",
    "[\t0.255617002\t]\t,\n",
    "[\t0.23597043\t]\t,\n",
    "[\t0.164134134\t]\t,\n",
    "[\t0.178176635\t]\t,\n",
    "[\t0.163956101\t]\t,\n",
    "[\t0.133241484\t]\t,\n",
    "[\t0.226399017\t]\t,\n",
    "[\t0.255013861\t]\t,\n",
    "[\t0.23708614\t]\t,\n",
    "[\t0.231651119\t]\t,\n",
    "[\t0.233067608\t]\t,\n",
    "[\t0.221173719\t]\t,\n",
    "[\t0.22633168\t]\t,\n",
    "[\t0.218698642\t]\t,\n",
    "[\t0.232032203\t]\t,\n",
    "[\t0.231947948\t]\t,\n",
    "[\t0.221547817\t]\t,\n",
    "[\t0.287958581\t]\t,\n",
    "[\t0.28837327\t]\t,\n",
    "[\t0.297145757\t]\t,\n",
    "[\t0.243669818\t]\t,\n",
    "[\t0.307437314\t]\t,\n",
    "[\t0.358597855\t]\t,\n",
    "[\t0.372181217\t]\t,\n",
    "[\t0.450259481\t]\t,\n",
    "[\t0.443095634\t]\t,\n",
    "[\t0.558155976\t]\t,\n",
    "[\t0.602359827\t]\t,\n",
    "[\t0.696291723\t]\t,\n",
    "[\t0.790604671\t]\t,\n",
    "[\t0.644022227\t]\t,\n",
    "[\t0.583228643\t]\t,\n",
    "[\t0.481715009\t]\t,\n",
    "[\t0.442812107\t]\t,\n",
    "[\t0.496270585\t]\t,\n",
    "[\t0.475463393\t]\t,\n",
    "[\t0.551559791\t]\t,\n",
    "[\t0.500994351\t]\t,\n",
    "[\t0.445458587\t]\t,\n",
    "[\t0.505711667\t]\t,\n",
    "[\t0.465889036\t]\t,\n",
    "[\t0.46785659\t]\t,\n",
    "[\t0.453001423\t]\t,\n",
    "[\t0.437411724\t]\t,\n",
    "[\t0.350673696\t]\t,\n",
    "[\t0.364031312\t]\t,\n",
    "\n",
    ")\n",
    ",dtype=float)\n",
    "\n",
    "dataprediksi = np.array(([\t0.453001423\t,\t0.437411724\t,\t0.350673696\t,\t0.364031312\t]\t,\n",
    "[\t0.437411724\t,\t0.350673696\t,\t0.364031312\t,\t0.795380412\t]\t,\n",
    "[\t0.350673696\t,\t0.364031312\t,\t0.795380412\t,\t1\t]\t,\n",
    "[\t0.364031312\t,\t0.795380412\t,\t1\t,\t0.707681705\t]\t,\n",
    "\n",
    "\n",
    "\n",
    "), dtype=float)\n"
   ]
  },
  {
   "cell_type": "code",
   "execution_count": 7,
   "metadata": {},
   "outputs": [],
   "source": [
    "import matplotlib.pyplot as plot"
   ]
  },
  {
   "cell_type": "code",
   "execution_count": 8,
   "metadata": {},
   "outputs": [],
   "source": [
    "from scipy import optimize"
   ]
  },
  {
   "cell_type": "code",
   "execution_count": 9,
   "metadata": {},
   "outputs": [],
   "source": [
    "class trainer(object):\n",
    "    def __init__(self, N):\n",
    "        #Make Local reference to network:\n",
    "        self.N = N\n",
    "        \n",
    "    def callbackF(self, params):\n",
    "        self.N.setParams(params)\n",
    "        self.J.append(self.N.costFunction(self.X, self.y))   \n",
    "        \n",
    "    def costFunctionWrapper(self, params, X, y):\n",
    "        self.N.setParams(params)\n",
    "        cost = self.N.costFunction(X, y)\n",
    "        grad = self.N.computeGradients(X,y)\n",
    "        \n",
    "        return cost, grad\n",
    "        \n",
    "    def train(self, X, y):\n",
    "        #Make an internal variable for the callback function:\n",
    "        self.X = X\n",
    "        self.y = y\n",
    "\n",
    "        #Make empty list to store costs:\n",
    "        self.J = []\n",
    "        \n",
    "        params0 = self.N.getParams()\n",
    "\n",
    "        options = {'maxiter': 100, 'disp' : True}\n",
    "        _res = optimize.minimize(self.costFunctionWrapper, params0, jac=True, method='BFGS', \\\n",
    "                                 args=(X, y), options=options, callback=self.callbackF)\n",
    "\n",
    "        self.N.setParams(_res.x)\n",
    "        self.optimizationResults = _res"
   ]
  },
  {
   "cell_type": "code",
   "execution_count": 10,
   "metadata": {},
   "outputs": [],
   "source": [
    "NN=Neural_Network()"
   ]
  },
  {
   "cell_type": "code",
   "execution_count": 11,
   "metadata": {},
   "outputs": [],
   "source": [
    "T = trainer(NN)"
   ]
  },
  {
   "cell_type": "code",
   "execution_count": 12,
   "metadata": {},
   "outputs": [
    {
     "name": "stdout",
     "output_type": "stream",
     "text": [
      "Warning: Maximum number of iterations has been exceeded.\n",
      "         Current function value: 0.080826\n",
      "         Iterations: 100\n",
      "         Function evaluations: 120\n",
      "         Gradient evaluations: 120\n"
     ]
    }
   ],
   "source": [
    "#Train network with new data:\n",
    "T = trainer(NN)\n",
    "T.train(X,y)"
   ]
  },
  {
   "cell_type": "code",
   "execution_count": 13,
   "metadata": {},
   "outputs": [
    {
     "data": {
      "image/png": "[encoded data removed]",
      "text/plain": [
       "<Figure size 432x288 with 1 Axes>"
      ]
     },
     "metadata": {
      "needs_background": "light"
     },
     "output_type": "display_data"
    }
   ],
   "source": [
    "#Plot cost during training:\n",
    "plot.plot(T.J)\n",
    "plot.grid(1)\n",
    "plot.xlabel('Iterations')\n",
    "plot.ylabel('Cost')\n",
    "plot.show()"
   ]
  },
  {
   "cell_type": "code",
   "execution_count": 14,
   "metadata": {},
   "outputs": [],
   "source": [
    "#Training Data:\n",
    "trainX = np.array(([\t0\t,\t0.051924996\t,\t0.148319042\t,\t0.112113419\t]\t,\n",
    "[\t0.051924996\t,\t0.148319042\t,\t0.112113419\t,\t0.170734062\t]\t,\n",
    "[\t0.148319042\t,\t0.112113419\t,\t0.170734062\t,\t0.223256598\t]\t,\n",
    "[\t0.112113419\t,\t0.170734062\t,\t0.223256598\t,\t0.241974687\t]\t,\n",
    "[\t0.170734062\t,\t0.223256598\t,\t0.241974687\t,\t0.365733465\t]\t,\n",
    "[\t0.223256598\t,\t0.241974687\t,\t0.365733465\t,\t0.552558994\t]\t,\n",
    "[\t0.241974687\t,\t0.365733465\t,\t0.552558994\t,\t0.370023519\t]\t,\n",
    "[\t0.365733465\t,\t0.552558994\t,\t0.370023519\t,\t0.332531703\t]\t,\n",
    "[\t0.552558994\t,\t0.370023519\t,\t0.332531703\t,\t0.387887522\t]\t,\n",
    "[\t0.370023519\t,\t0.332531703\t,\t0.387887522\t,\t0.398363943\t]\t,\n",
    "[\t0.332531703\t,\t0.387887522\t,\t0.398363943\t,\t0.284826299\t]\t,\n",
    "[\t0.387887522\t,\t0.398363943\t,\t0.284826299\t,\t0.186735022\t]\t,\n",
    "[\t0.398363943\t,\t0.284826299\t,\t0.186735022\t,\t0.182694768\t]\t,\n",
    "[\t0.284826299\t,\t0.186735022\t,\t0.182694768\t,\t0.255617002\t]\t,\n",
    "[\t0.186735022\t,\t0.182694768\t,\t0.255617002\t,\t0.23597043\t]\t,\n",
    "[\t0.182694768\t,\t0.255617002\t,\t0.23597043\t,\t0.164134134\t]\t,\n",
    "[\t0.255617002\t,\t0.23597043\t,\t0.164134134\t,\t0.178176635\t]\t,\n",
    "[\t0.23597043\t,\t0.164134134\t,\t0.178176635\t,\t0.163956101\t]\t,\n",
    "[\t0.164134134\t,\t0.178176635\t,\t0.163956101\t,\t0.133241484\t]\t,\n",
    "[\t0.178176635\t,\t0.163956101\t,\t0.133241484\t,\t0.226399017\t]\t,\n",
    "[\t0.163956101\t,\t0.133241484\t,\t0.226399017\t,\t0.255013861\t]\t,\n",
    "[\t0.133241484\t,\t0.226399017\t,\t0.255013861\t,\t0.23708614\t]\t,\n",
    "[\t0.226399017\t,\t0.255013861\t,\t0.23708614\t,\t0.231651119\t]\t,\n",
    "[\t0.255013861\t,\t0.23708614\t,\t0.231651119\t,\t0.233067608\t]\t,\n",
    "[\t0.23708614\t,\t0.231651119\t,\t0.233067608\t,\t0.221173719\t]\t,\n",
    "[\t0.231651119\t,\t0.233067608\t,\t0.221173719\t,\t0.22633168\t]\t,\n",
    "[\t0.233067608\t,\t0.221173719\t,\t0.22633168\t,\t0.218698642\t]\t,\n",
    "[\t0.221173719\t,\t0.22633168\t,\t0.218698642\t,\t0.232032203\t]\t,\n",
    "[\t0.22633168\t,\t0.218698642\t,\t0.232032203\t,\t0.231947948\t]\t,\n",
    "[\t0.218698642\t,\t0.232032203\t,\t0.231947948\t,\t0.221547817\t]\t,\n",
    "[\t0.232032203\t,\t0.231947948\t,\t0.221547817\t,\t0.287958581\t]\t,\n",
    "[\t0.231947948\t,\t0.221547817\t,\t0.287958581\t,\t0.28837327\t]\t,\n",
    "[\t0.221547817\t,\t0.287958581\t,\t0.28837327\t,\t0.297145757\t]\t,\n",
    "[\t0.287958581\t,\t0.28837327\t,\t0.297145757\t,\t0.243669818\t]\t,\n",
    "[\t0.28837327\t,\t0.297145757\t,\t0.243669818\t,\t0.307437314\t]\t,\n",
    "[\t0.297145757\t,\t0.243669818\t,\t0.307437314\t,\t0.358597855\t]\t,\n",
    "[\t0.243669818\t,\t0.307437314\t,\t0.358597855\t,\t0.372181217\t]\t,\n",
    "[\t0.307437314\t,\t0.358597855\t,\t0.372181217\t,\t0.450259481\t]\t,\n",
    "[\t0.358597855\t,\t0.372181217\t,\t0.450259481\t,\t0.443095634\t]\t,\n",
    "[\t0.372181217\t,\t0.450259481\t,\t0.443095634\t,\t0.558155976\t]\t,\n",
    "[\t0.450259481\t,\t0.443095634\t,\t0.558155976\t,\t0.602359827\t]\t,\n",
    "[\t0.443095634\t,\t0.558155976\t,\t0.602359827\t,\t0.696291723\t]\t,\n",
    "[\t0.558155976\t,\t0.602359827\t,\t0.696291723\t,\t0.790604671\t]\t,\n",
    "[\t0.602359827\t,\t0.696291723\t,\t0.790604671\t,\t0.644022227\t]\t,\n",
    "[\t0.696291723\t,\t0.790604671\t,\t0.644022227\t,\t0.583228643\t]\t,\n",
    "\n",
    ")\n",
    ", dtype=float)\n",
    "trainY = np.array(([\t0.170734062\t]\t,\n",
    "[\t0.223256598\t]\t,\n",
    "[\t0.241974687\t]\t,\n",
    "[\t0.365733465\t]\t,\n",
    "[\t0.552558994\t]\t,\n",
    "[\t0.370023519\t]\t,\n",
    "[\t0.332531703\t]\t,\n",
    "[\t0.387887522\t]\t,\n",
    "[\t0.398363943\t]\t,\n",
    "[\t0.284826299\t]\t,\n",
    "[\t0.186735022\t]\t,\n",
    "[\t0.182694768\t]\t,\n",
    "[\t0.255617002\t]\t,\n",
    "[\t0.23597043\t]\t,\n",
    "[\t0.164134134\t]\t,\n",
    "[\t0.178176635\t]\t,\n",
    "[\t0.163956101\t]\t,\n",
    "[\t0.133241484\t]\t,\n",
    "[\t0.226399017\t]\t,\n",
    "[\t0.255013861\t]\t,\n",
    "[\t0.23708614\t]\t,\n",
    "[\t0.231651119\t]\t,\n",
    "[\t0.233067608\t]\t,\n",
    "[\t0.221173719\t]\t,\n",
    "[\t0.22633168\t]\t,\n",
    "[\t0.218698642\t]\t,\n",
    "[\t0.232032203\t]\t,\n",
    "[\t0.231947948\t]\t,\n",
    "[\t0.221547817\t]\t,\n",
    "[\t0.287958581\t]\t,\n",
    "[\t0.28837327\t]\t,\n",
    "[\t0.297145757\t]\t,\n",
    "[\t0.243669818\t]\t,\n",
    "[\t0.307437314\t]\t,\n",
    "[\t0.358597855\t]\t,\n",
    "[\t0.372181217\t]\t,\n",
    "[\t0.450259481\t]\t,\n",
    "[\t0.443095634\t]\t,\n",
    "[\t0.558155976\t]\t,\n",
    "[\t0.602359827\t]\t,\n",
    "[\t0.696291723\t]\t,\n",
    "[\t0.790604671\t]\t,\n",
    "[\t0.644022227\t]\t,\n",
    "[\t0.583228643\t]\t,\n",
    "[\t0.481715009\t]\t,\n",
    "\n",
    ")\n",
    ", dtype=float)\n",
    "\n",
    "#Testing Data:\n",
    "testX = np.array(([\t0.790604671\t,\t0.644022227\t,\t0.583228643\t,\t0.481715009\t]\t,\n",
    "[\t0.644022227\t,\t0.583228643\t,\t0.481715009\t,\t0.442812107\t]\t,\n",
    "[\t0.583228643\t,\t0.481715009\t,\t0.442812107\t,\t0.496270585\t]\t,\n",
    "[\t0.481715009\t,\t0.442812107\t,\t0.496270585\t,\t0.475463393\t]\t,\n",
    "[\t0.442812107\t,\t0.496270585\t,\t0.475463393\t,\t0.551559791\t]\t,\n",
    "[\t0.496270585\t,\t0.475463393\t,\t0.551559791\t,\t0.500994351\t]\t,\n",
    "[\t0.475463393\t,\t0.551559791\t,\t0.500994351\t,\t0.445458587\t]\t,\n",
    "[\t0.551559791\t,\t0.500994351\t,\t0.445458587\t,\t0.505711667\t]\t,\n",
    "[\t0.500994351\t,\t0.445458587\t,\t0.505711667\t,\t0.465889036\t]\t,\n",
    "[\t0.445458587\t,\t0.505711667\t,\t0.465889036\t,\t0.46785659\t]\t,\n",
    "[\t0.505711667\t,\t0.465889036\t,\t0.46785659\t,\t0.453001423\t]\t,\n",
    "[\t0.465889036\t,\t0.46785659\t,\t0.453001423\t,\t0.437411724\t]\t,\n",
    "[\t0.46785659\t,\t0.453001423\t,\t0.437411724\t,\t0.350673696\t]\t,\n",
    "\n",
    "\n",
    ")\n",
    ", dtype=float)\n",
    "testY = np.array(([\t0.442812107\t]\t,\n",
    "[\t0.496270585\t]\t,\n",
    "[\t0.475463393\t]\t,\n",
    "[\t0.551559791\t]\t,\n",
    "[\t0.500994351\t]\t,\n",
    "[\t0.445458587\t]\t,\n",
    "[\t0.505711667\t]\t,\n",
    "[\t0.465889036\t]\t,\n",
    "[\t0.46785659\t]\t,\n",
    "[\t0.453001423\t]\t,\n",
    "[\t0.437411724\t]\t,\n",
    "[\t0.350673696\t]\t,\n",
    "[\t0.364031312\t]\t,\n",
    "\n",
    ")\n",
    ", dtype=float)\n",
    "\n",
    "\n",
    "dataprediksi = np.array(([\t0.453001423\t,\t0.437411724\t,\t0.350673696\t,\t0.364031312\t]\t,\n",
    "[\t0.437411724\t,\t0.350673696\t,\t0.364031312\t,\t0.795380412\t]\t,\n",
    "[\t0.350673696\t,\t0.364031312\t,\t0.795380412\t,\t1\t]\t,\n",
    "[\t0.364031312\t,\t0.795380412\t,\t1\t,\t0.707681705\t]\t,\n",
    "\n",
    "\n",
    "\n",
    "), dtype=float)"
   ]
  },
  {
   "cell_type": "code",
   "execution_count": 15,
   "metadata": {},
   "outputs": [
    {
     "data": {
      "text/plain": [
       "array([[0.79060467, 0.64402223, 0.58322864, 0.48171501],\n",
       "       [0.64402223, 0.58322864, 0.48171501, 0.44281211],\n",
       "       [0.58322864, 0.48171501, 0.44281211, 0.49627058],\n",
       "       [0.48171501, 0.44281211, 0.49627058, 0.47546339],\n",
       "       [0.44281211, 0.49627058, 0.47546339, 0.55155979],\n",
       "       [0.49627058, 0.47546339, 0.55155979, 0.50099435],\n",
       "       [0.47546339, 0.55155979, 0.50099435, 0.44545859],\n",
       "       [0.55155979, 0.50099435, 0.44545859, 0.50571167],\n",
       "       [0.50099435, 0.44545859, 0.50571167, 0.46588904],\n",
       "       [0.44545859, 0.50571167, 0.46588904, 0.46785659],\n",
       "       [0.50571167, 0.46588904, 0.46785659, 0.45300142],\n",
       "       [0.46588904, 0.46785659, 0.45300142, 0.43741172],\n",
       "       [0.46785659, 0.45300142, 0.43741172, 0.3506737 ]])"
      ]
     },
     "execution_count": 15,
     "metadata": {},
     "output_type": "execute_result"
    }
   ],
   "source": [
    "testX"
   ]
  },
  {
   "cell_type": "code",
   "execution_count": 16,
   "metadata": {},
   "outputs": [],
   "source": [
    "##Need to modify trainer class a bit to check testing error during training:\n",
    "class trainer(object):\n",
    "    def __init__(self, N):\n",
    "        #Make Local reference to network:\n",
    "        self.N = N\n",
    "        \n",
    "    def callbackF(self, params):\n",
    "        self.N.setParams(params)\n",
    "        self.J.append(self.N.costFunction(self.X, self.y))\n",
    "        self.testJ.append(self.N.costFunction(self.testX, self.testY))\n",
    "        \n",
    "    def costFunctionWrapper(self, params, X, y):\n",
    "        self.N.setParams(params)\n",
    "        cost = self.N.costFunction(X, y)\n",
    "        grad = self.N.computeGradients(X,y)\n",
    "        \n",
    "        return cost, grad\n",
    "        \n",
    "    def train(self, trainX, trainY, testX, testY):\n",
    "        #Make an internal variable for the callback function:\n",
    "        self.X = trainX\n",
    "        self.y = trainY\n",
    "        \n",
    "        self.testX = testX\n",
    "        self.testY = testY\n",
    "\n",
    "        #Make empty list to store training costs:\n",
    "        self.J = []\n",
    "        self.testJ = []\n",
    "        \n",
    "        params0 = self.N.getParams()\n",
    "\n",
    "        options = {'maxiter': 100, 'disp' : True}\n",
    "        _res = optimize.minimize(self.costFunctionWrapper, params0, jac=True, method='BFGS', \\\n",
    "                                 args=(trainX, trainY), options=options, callback=self.callbackF)\n",
    "\n",
    "        self.N.setParams(_res.x)\n",
    "        self.optimizationResults = _res"
   ]
  },
  {
   "cell_type": "code",
   "execution_count": 17,
   "metadata": {},
   "outputs": [
    {
     "name": "stdout",
     "output_type": "stream",
     "text": [
      "Warning: Maximum number of iterations has been exceeded.\n",
      "         Current function value: 0.068106\n",
      "         Iterations: 100\n",
      "         Function evaluations: 110\n",
      "         Gradient evaluations: 110\n"
     ]
    }
   ],
   "source": [
    "#Train network with new data:\n",
    "NN = Neural_Network()\n",
    "\n",
    "T = trainer(NN)\n",
    "T.train(trainX, trainY, testX, testY)"
   ]
  },
  {
   "cell_type": "code",
   "execution_count": 18,
   "metadata": {},
   "outputs": [
    {
     "data": {
      "image/png": "[encoded data removed]",
      "text/plain": [
       "<Figure size 432x288 with 1 Axes>"
      ]
     },
     "metadata": {
      "needs_background": "light"
     },
     "output_type": "display_data"
    }
   ],
   "source": [
    "#Plot cost during training:\n",
    "plot.plot(T.J)\n",
    "plot.plot(T.testJ)\n",
    "plot.grid(1)\n",
    "plot.xlabel('Iterations')\n",
    "plot.ylabel('Cost')\n",
    "plot.legend(['Training', 'Testing'])\n",
    "plot.show()"
   ]
  },
  {
   "cell_type": "code",
   "execution_count": 19,
   "metadata": {},
   "outputs": [
    {
     "data": {
      "text/plain": [
       "[array([0.39614777]),\n",
       " array([0.31800001]),\n",
       " array([0.19161215]),\n",
       " array([0.15135634]),\n",
       " array([0.12510472]),\n",
       " array([0.11653096]),\n",
       " array([0.11171224]),\n",
       " array([0.10383351]),\n",
       " array([0.09794423]),\n",
       " array([0.09689068]),\n",
       " array([0.09543688]),\n",
       " array([0.09422033]),\n",
       " array([0.0933821]),\n",
       " array([0.09313708]),\n",
       " array([0.09307849]),\n",
       " array([0.09298283]),\n",
       " array([0.09282539]),\n",
       " array([0.09255289]),\n",
       " array([0.09206198]),\n",
       " array([0.09117737]),\n",
       " array([0.08979883]),\n",
       " array([0.08916095]),\n",
       " array([0.08829595]),\n",
       " array([0.08735111]),\n",
       " array([0.08653059]),\n",
       " array([0.08585804]),\n",
       " array([0.08511495]),\n",
       " array([0.08447741]),\n",
       " array([0.08361168]),\n",
       " array([0.08239025]),\n",
       " array([0.08182574]),\n",
       " array([0.08175554]),\n",
       " array([0.08166607]),\n",
       " array([0.08160084]),\n",
       " array([0.08149361]),\n",
       " array([0.08130727]),\n",
       " array([0.08097318]),\n",
       " array([0.08037502]),\n",
       " array([0.07941285]),\n",
       " array([0.0787897]),\n",
       " array([0.07780965]),\n",
       " array([0.07635021]),\n",
       " array([0.07558474]),\n",
       " array([0.07508024]),\n",
       " array([0.07474987]),\n",
       " array([0.07427812]),\n",
       " array([0.07380653]),\n",
       " array([0.07360833]),\n",
       " array([0.07348905]),\n",
       " array([0.07346149]),\n",
       " array([0.07345075]),\n",
       " array([0.07344108]),\n",
       " array([0.07343222]),\n",
       " array([0.073423]),\n",
       " array([0.07341588]),\n",
       " array([0.07340739]),\n",
       " array([0.07339391]),\n",
       " array([0.0733712]),\n",
       " array([0.07333128]),\n",
       " array([0.07325942]),\n",
       " array([0.07312821]),\n",
       " array([0.0728862]),\n",
       " array([0.07244971]),\n",
       " array([0.07196265]),\n",
       " array([0.07142315]),\n",
       " array([0.07078656]),\n",
       " array([0.07043186]),\n",
       " array([0.06981253]),\n",
       " array([0.06934045]),\n",
       " array([0.06908041]),\n",
       " array([0.06894868]),\n",
       " array([0.06884519]),\n",
       " array([0.06870472]),\n",
       " array([0.0685988]),\n",
       " array([0.0685634]),\n",
       " array([0.06855312]),\n",
       " array([0.0685502]),\n",
       " array([0.06854964]),\n",
       " array([0.06854927]),\n",
       " array([0.06854862]),\n",
       " array([0.06854746]),\n",
       " array([0.06854535]),\n",
       " array([0.06854151]),\n",
       " array([0.06853474]),\n",
       " array([0.0685236]),\n",
       " array([0.06850752]),\n",
       " array([0.06848585]),\n",
       " array([0.06844996]),\n",
       " array([0.06839511]),\n",
       " array([0.06833988]),\n",
       " array([0.06832558]),\n",
       " array([0.06830218]),\n",
       " array([0.0682662]),\n",
       " array([0.06823553]),\n",
       " array([0.06819973]),\n",
       " array([0.06818145]),\n",
       " array([0.06817031]),\n",
       " array([0.06815621]),\n",
       " array([0.0681333]),\n",
       " array([0.06810582])]"
      ]
     },
     "execution_count": 19,
     "metadata": {},
     "output_type": "execute_result"
    }
   ],
   "source": [
    "T.J"
   ]
  },
  {
   "cell_type": "code",
   "execution_count": 20,
   "metadata": {},
   "outputs": [
    {
     "data": {
      "text/plain": [
       "[array([0.02556064]),\n",
       " array([0.02772796]),\n",
       " array([0.01579158]),\n",
       " array([0.01721266]),\n",
       " array([0.01360638]),\n",
       " array([0.0151912]),\n",
       " array([0.01555663]),\n",
       " array([0.01609466]),\n",
       " array([0.01807792]),\n",
       " array([0.01644091]),\n",
       " array([0.01541087]),\n",
       " array([0.01574258]),\n",
       " array([0.0167352]),\n",
       " array([0.01741834]),\n",
       " array([0.01744659]),\n",
       " array([0.01748133]),\n",
       " array([0.01757468]),\n",
       " array([0.01784514]),\n",
       " array([0.01845455]),\n",
       " array([0.0198305]),\n",
       " array([0.02322823]),\n",
       " array([0.03083648]),\n",
       " array([0.02814269]),\n",
       " array([0.02692856]),\n",
       " array([0.02765915]),\n",
       " array([0.02820866]),\n",
       " array([0.02890837]),\n",
       " array([0.03020498]),\n",
       " array([0.03144487]),\n",
       " array([0.03278848]),\n",
       " array([0.03306665]),\n",
       " array([0.03318258]),\n",
       " array([0.0328313]),\n",
       " array([0.03244019]),\n",
       " array([0.03176558]),\n",
       " array([0.030955]),\n",
       " array([0.03005033]),\n",
       " array([0.02901391]),\n",
       " array([0.0277923]),\n",
       " array([0.02615722]),\n",
       " array([0.02686945]),\n",
       " array([0.02765993]),\n",
       " array([0.02769703]),\n",
       " array([0.02646168]),\n",
       " array([0.02652902]),\n",
       " array([0.02712546]),\n",
       " array([0.02712422]),\n",
       " array([0.02701989]),\n",
       " array([0.02588876]),\n",
       " array([0.02584294]),\n",
       " array([0.02603326]),\n",
       " array([0.02618369]),\n",
       " array([0.02626857]),\n",
       " array([0.02626233]),\n",
       " array([0.0261462]),\n",
       " array([0.02598205]),\n",
       " array([0.02575944]),\n",
       " array([0.02552268]),\n",
       " array([0.02526336]),\n",
       " array([0.02497689]),\n",
       " array([0.02465369]),\n",
       " array([0.02434365]),\n",
       " array([0.02425782]),\n",
       " array([0.02499123]),\n",
       " array([0.02597463]),\n",
       " array([0.02628265]),\n",
       " array([0.02765445]),\n",
       " array([0.03037485]),\n",
       " array([0.03694208]),\n",
       " array([0.03840564]),\n",
       " array([0.03464391]),\n",
       " array([0.03506304]),\n",
       " array([0.03461485]),\n",
       " array([0.03346866]),\n",
       " array([0.03178854]),\n",
       " array([0.03194575]),\n",
       " array([0.03187763]),\n",
       " array([0.03183796]),\n",
       " array([0.03183021]),\n",
       " array([0.03183548]),\n",
       " array([0.03185044]),\n",
       " array([0.03187688]),\n",
       " array([0.03191991]),\n",
       " array([0.03198617]),\n",
       " array([0.03207458]),\n",
       " array([0.03214558]),\n",
       " array([0.03213798]),\n",
       " array([0.03212645]),\n",
       " array([0.03228693]),\n",
       " array([0.03296678]),\n",
       " array([0.03307032]),\n",
       " array([0.03356759]),\n",
       " array([0.03451759]),\n",
       " array([0.03529326]),\n",
       " array([0.03675454]),\n",
       " array([0.03705822]),\n",
       " array([0.03742544]),\n",
       " array([0.03770511]),\n",
       " array([0.0382573]),\n",
       " array([0.03944919])]"
      ]
     },
     "execution_count": 20,
     "metadata": {},
     "output_type": "execute_result"
    }
   ],
   "source": [
    "T.testJ"
   ]
  },
  {
   "cell_type": "code",
   "execution_count": 21,
   "metadata": {},
   "outputs": [
    {
     "data": {
      "text/plain": [
       "0.05783902876918755"
      ]
     },
     "execution_count": 21,
     "metadata": {},
     "output_type": "execute_result"
    }
   ],
   "source": [
    "from sklearn.metrics import mean_absolute_error\n",
    "mean_absolute_error(T.J, T.testJ)"
   ]
  },
  {
   "cell_type": "code",
   "execution_count": 22,
   "metadata": {},
   "outputs": [],
   "source": [
    "yHat = NN.forward(X)"
   ]
  },
  {
   "cell_type": "code",
   "execution_count": 23,
   "metadata": {},
   "outputs": [
    {
     "data": {
      "text/plain": [
       "array([[0.12237001],\n",
       "       [0.23459672],\n",
       "       [0.21573794],\n",
       "       [0.2840201 ],\n",
       "       [0.42613932],\n",
       "       [0.3892306 ],\n",
       "       [0.33150977],\n",
       "       [0.39604663],\n",
       "       [0.38331155],\n",
       "       [0.42839974],\n",
       "       [0.24510435],\n",
       "       [0.15730718],\n",
       "       [0.17558928],\n",
       "       [0.23942644],\n",
       "       [0.2477335 ],\n",
       "       [0.15397046],\n",
       "       [0.18919061],\n",
       "       [0.15217662],\n",
       "       [0.12870958],\n",
       "       [0.27153203],\n",
       "       [0.2376278 ],\n",
       "       [0.26209913],\n",
       "       [0.24983319],\n",
       "       [0.2519031 ],\n",
       "       [0.23482372],\n",
       "       [0.24782068],\n",
       "       [0.23321468],\n",
       "       [0.2585726 ],\n",
       "       [0.25200465],\n",
       "       [0.23766882],\n",
       "       [0.33410363],\n",
       "       [0.30838581],\n",
       "       [0.33115839],\n",
       "       [0.24164927],\n",
       "       [0.35844193],\n",
       "       [0.34679714],\n",
       "       [0.41780916],\n",
       "       [0.50874621],\n",
       "       [0.48442198],\n",
       "       [0.61233689],\n",
       "       [0.59835184],\n",
       "       [0.70937645],\n",
       "       [0.7488716 ],\n",
       "       [0.58167141],\n",
       "       [0.47188974],\n",
       "       [0.53734535],\n",
       "       [0.46332558],\n",
       "       [0.55049774],\n",
       "       [0.52244741],\n",
       "       [0.60225563],\n",
       "       [0.54722721],\n",
       "       [0.41287508],\n",
       "       [0.56758751],\n",
       "       [0.51256148],\n",
       "       [0.48538647],\n",
       "       [0.50292286],\n",
       "       [0.47338193],\n",
       "       [0.34328187]])"
      ]
     },
     "execution_count": 23,
     "metadata": {},
     "output_type": "execute_result"
    }
   ],
   "source": [
    "yHat"
   ]
  },
  {
   "cell_type": "code",
   "execution_count": 24,
   "metadata": {},
   "outputs": [
    {
     "data": {
      "text/plain": [
       "array([[0.17073406],\n",
       "       [0.2232566 ],\n",
       "       [0.24197469],\n",
       "       [0.36573346],\n",
       "       [0.55255899],\n",
       "       [0.37002352],\n",
       "       [0.3325317 ],\n",
       "       [0.38788752],\n",
       "       [0.39836394],\n",
       "       [0.2848263 ],\n",
       "       [0.18673502],\n",
       "       [0.18269477],\n",
       "       [0.255617  ],\n",
       "       [0.23597043],\n",
       "       [0.16413413],\n",
       "       [0.17817663],\n",
       "       [0.1639561 ],\n",
       "       [0.13324148],\n",
       "       [0.22639902],\n",
       "       [0.25501386],\n",
       "       [0.23708614],\n",
       "       [0.23165112],\n",
       "       [0.23306761],\n",
       "       [0.22117372],\n",
       "       [0.22633168],\n",
       "       [0.21869864],\n",
       "       [0.2320322 ],\n",
       "       [0.23194795],\n",
       "       [0.22154782],\n",
       "       [0.28795858],\n",
       "       [0.28837327],\n",
       "       [0.29714576],\n",
       "       [0.24366982],\n",
       "       [0.30743731],\n",
       "       [0.35859786],\n",
       "       [0.37218122],\n",
       "       [0.45025948],\n",
       "       [0.44309563],\n",
       "       [0.55815598],\n",
       "       [0.60235983],\n",
       "       [0.69629172],\n",
       "       [0.79060467],\n",
       "       [0.64402223],\n",
       "       [0.58322864],\n",
       "       [0.48171501],\n",
       "       [0.44281211],\n",
       "       [0.49627058],\n",
       "       [0.47546339],\n",
       "       [0.55155979],\n",
       "       [0.50099435],\n",
       "       [0.44545859],\n",
       "       [0.50571167],\n",
       "       [0.46588904],\n",
       "       [0.46785659],\n",
       "       [0.45300142],\n",
       "       [0.43741172],\n",
       "       [0.3506737 ],\n",
       "       [0.36403131]])"
      ]
     },
     "execution_count": 24,
     "metadata": {},
     "output_type": "execute_result"
    }
   ],
   "source": [
    "y"
   ]
  },
  {
   "cell_type": "code",
   "execution_count": 25,
   "metadata": {},
   "outputs": [
    {
     "data": {
      "text/plain": [
       "0.003708793311426846"
      ]
     },
     "execution_count": 25,
     "metadata": {},
     "output_type": "execute_result"
    }
   ],
   "source": [
    "from sklearn.metrics import mean_squared_error \n",
    "mean_squared_error(y,yHat) "
   ]
  },
  {
   "cell_type": "code",
   "execution_count": 26,
   "metadata": {},
   "outputs": [
    {
     "data": {
      "image/png": "[encoded data removed]",
      "text/plain": [
       "<Figure size 432x288 with 1 Axes>"
      ]
     },
     "metadata": {
      "needs_background": "light"
     },
     "output_type": "display_data"
    }
   ],
   "source": [
    "#Plot cost during training:\n",
    "plot.plot(y)\n",
    "plot.plot(yHat)\n",
    "plot.grid(1)\n",
    "plot.legend(['y', 'yHat'])\n",
    "plot.show()"
   ]
  },
  {
   "cell_type": "code",
   "execution_count": 27,
   "metadata": {},
   "outputs": [],
   "source": [
    "#Regularization Parameter:\n",
    "Lambda = 0.0001"
   ]
  },
  {
   "cell_type": "code",
   "execution_count": 28,
   "metadata": {},
   "outputs": [],
   "source": [
    "#Need to make changes to costFunction and costFunctionPrim:\n",
    "def costFunction(self, X, y):\n",
    "    #Compute cost for given X,y, use weights already stored in class.\n",
    "    self.yHat = self.forward(X)\n",
    "    #We don't want cost to increase with the number of examples, so normalize by dividing the error term by number of examples(X.shape[0])\n",
    "    J = 0.5*sum((y-self.yHat)**2)/X.shape[0] + (self.Lambda/2)*(sum(self.W1**2)+sum(self.W2**2))\n",
    "    return J\n",
    "\n",
    "def costFunctionPrime(self, X, y):\n",
    "    #Compute derivative with respect to W and W2 for a given X and y:\n",
    "    self.yHat = self.forward(X)\n",
    "\n",
    "    delta3 = np.multiply(-(y-self.yHat), self.tanhPrime(self.z3))\n",
    "    #Add gradient of regularization term:\n",
    "    dJdW2 = np.dot(self.a2.T, delta3)/X.shape[0] + self.Lambda*self.W2\n",
    "\n",
    "    delta2 = np.dot(delta3, self.W2.T)*self.tanhPrime(self.z2)\n",
    "    #Add gradient of regularization term:\n",
    "    dJdW1 = np.dot(X.T, delta2)/X.shape[0] + self.Lambda*self.W1\n",
    "\n",
    "    return dJdW1, dJdW2"
   ]
  },
  {
   "cell_type": "code",
   "execution_count": 29,
   "metadata": {},
   "outputs": [],
   "source": [
    "#New complete class, with changes:\n",
    "class Neural_Network(object):\n",
    "    def __init__(self, Lambda=0.0001):        \n",
    "        #Define Hyperparameters\n",
    "        self.inputLayerSize = 4\n",
    "        self.outputLayerSize = 1\n",
    "        self.hiddenLayerSize = 4\n",
    "        \n",
    "        #Weights (parameters)\n",
    "        self.W1 = np.random.randn(self.inputLayerSize,self.hiddenLayerSize)\n",
    "        self.W2 = np.random.randn(self.hiddenLayerSize,self.outputLayerSize)\n",
    "        \n",
    "        #Regularization Parameter:\n",
    "        self.Lambda = Lambda\n",
    "        \n",
    "    def forward(self, X):\n",
    "        #Propogate inputs though network\n",
    "        self.z2 = np.dot(X, self.W1)\n",
    "        self.a2 = self.tanh(self.z2)\n",
    "        self.z3 = np.dot(self.a2, self.W2)\n",
    "        yHat = self.tanh(self.z3) \n",
    "        return yHat\n",
    "        \n",
    "    def tanh(self, z):\n",
    "        # activation function\n",
    "        return (np.exp(z)-np.exp(-z))/(np.exp(z)+np.exp(-z))\n",
    "    \n",
    "    def tanhPrime(self,z): \n",
    "        #derivative of tanh\n",
    "        return 1-((np.exp(z)-np.exp(-z))/(np.exp(z)+np.exp(-z)))**2\n",
    "    \n",
    "    def costFunction(self, X, y):\n",
    "        #Compute cost for given X,y, use weights already stored in class.\n",
    "        self.yHat = self.forward(X)\n",
    "        J = 0.5*sum((y-self.yHat)**2)/X.shape[0] + (self.Lambda/2)*(np.sum(self.W1**2)+np.sum(self.W2**2))\n",
    "        return J\n",
    "        \n",
    "    def costFunctionPrime(self, X, y):\n",
    "        #Compute derivative with respect to W and W2 for a given X and y:\n",
    "        self.yHat = self.forward(X)\n",
    "        \n",
    "        delta3 = np.multiply(-(y-self.yHat), self.tanhPrime(self.z3))\n",
    "        #Add gradient of regularization term:\n",
    "        dJdW2 = np.dot(self.a2.T, delta3)/X.shape[0] + self.Lambda*self.W2\n",
    "        \n",
    "        delta2 = np.dot(delta3, self.W2.T)*self.tanhPrime(self.z2)\n",
    "        #Add gradient of regularization term:\n",
    "        dJdW1 = np.dot(X.T, delta2)/X.shape[0] + self.Lambda*self.W1\n",
    "        \n",
    "        return dJdW1, dJdW2\n",
    "    \n",
    "    def predict(self):\n",
    "        prediksi = self.forward(dataprediksi)\n",
    "        return prediksi\n",
    "    \n",
    "    #Helper functions for interacting with other methods/classes\n",
    "    def getParams(self):\n",
    "        #Get W1 and W2 Rolled into vector:\n",
    "        params = np.concatenate((self.W1.ravel(), self.W2.ravel()))\n",
    "        return params\n",
    "    \n",
    "    def setParams(self, params):\n",
    "        #Set W1 and W2 using single parameter vector:\n",
    "        W1_start = 0\n",
    "        W1_end = self.hiddenLayerSize*self.inputLayerSize\n",
    "        self.W1 = np.reshape(params[W1_start:W1_end], \\\n",
    "                             (self.inputLayerSize, self.hiddenLayerSize))\n",
    "        W2_end = W1_end + self.hiddenLayerSize*self.outputLayerSize\n",
    "        self.W2 = np.reshape(params[W1_end:W2_end], \\\n",
    "                             (self.hiddenLayerSize, self.outputLayerSize))\n",
    "        \n",
    "    def computeGradients(self, X, y):\n",
    "        dJdW1, dJdW2 = self.costFunctionPrime(X, y)\n",
    "        return np.concatenate((dJdW1.ravel(), dJdW2.ravel()))"
   ]
  },
  {
   "cell_type": "code",
   "execution_count": 30,
   "metadata": {},
   "outputs": [],
   "source": [
    "def computeNumericalGradient(N, X, y):\n",
    "    paramsInitial = N.getParams()\n",
    "    numgrad = np.zeros(paramsInitial.shape)\n",
    "    perturb = np.zeros(paramsInitial.shape)\n",
    "    e = 1e-4\n",
    "\n",
    "    for p in range(len(paramsInitial)):\n",
    "        #Set perturbation vector\n",
    "        perturb[p] = e\n",
    "        N.setParams(paramsInitial + perturb)\n",
    "        loss2 = N.costFunction(X, y)\n",
    "            \n",
    "        N.setParams(paramsInitial - perturb)\n",
    "        loss1 = N.costFunction(X, y)\n",
    "\n",
    "        #Compute Numerical Gradient\n",
    "        numgrad[p] = (loss2 - loss1) / (2*e)\n",
    "\n",
    "            #Return the value we changed to zero:\n",
    "        perturb[p] = 0\n",
    "            \n",
    "    #Return Params to original value:\n",
    "    N.setParams(paramsInitial)\n",
    "\n",
    "    return numgrad "
   ]
  },
  {
   "cell_type": "code",
   "execution_count": 31,
   "metadata": {},
   "outputs": [],
   "source": [
    "NN = Neural_Network(Lambda=0.0001)"
   ]
  },
  {
   "cell_type": "code",
   "execution_count": 32,
   "metadata": {},
   "outputs": [],
   "source": [
    "#Make sure our gradients our correct after making changes:\n",
    "numgrad = computeNumericalGradient(NN, X, y)\n",
    "grad = NN.computeGradients(X,y)"
   ]
  },
  {
   "cell_type": "code",
   "execution_count": 33,
   "metadata": {},
   "outputs": [
    {
     "data": {
      "text/plain": [
       "9.058091044551286e-10"
      ]
     },
     "execution_count": 33,
     "metadata": {},
     "output_type": "execute_result"
    }
   ],
   "source": [
    "#Should be less than 1e-8:\n",
    "np.linalg.norm(grad-numgrad)/np.linalg.norm(grad+numgrad)"
   ]
  },
  {
   "cell_type": "code",
   "execution_count": 34,
   "metadata": {},
   "outputs": [],
   "source": [
    "T = trainer(NN)"
   ]
  },
  {
   "cell_type": "code",
   "execution_count": 35,
   "metadata": {},
   "outputs": [
    {
     "name": "stdout",
     "output_type": "stream",
     "text": [
      "Warning: Maximum number of iterations has been exceeded.\n",
      "         Current function value: 0.002113\n",
      "         Iterations: 100\n",
      "         Function evaluations: 114\n",
      "         Gradient evaluations: 114\n"
     ]
    }
   ],
   "source": [
    "T.train(X,y,testX,testY)"
   ]
  },
  {
   "cell_type": "code",
   "execution_count": 36,
   "metadata": {},
   "outputs": [
    {
     "data": {
      "image/png": "[encoded data removed]",
      "text/plain": [
       "<Figure size 432x288 with 1 Axes>"
      ]
     },
     "metadata": {
      "needs_background": "light"
     },
     "output_type": "display_data"
    }
   ],
   "source": [
    "plot.plot(T.J)\n",
    "plot.plot(T.testJ)\n",
    "plot.grid(1)\n",
    "plot.xlabel('Iterations')\n",
    "plot.ylabel('Cost')\n",
    "plot.legend(['Training', 'Testing'])\n",
    "plot.show()"
   ]
  },
  {
   "cell_type": "code",
   "execution_count": 37,
   "metadata": {},
   "outputs": [
    {
     "data": {
      "text/plain": [
       "[array([0.01798556]),\n",
       " array([0.01369574]),\n",
       " array([0.01338529]),\n",
       " array([0.01300746]),\n",
       " array([0.01228967]),\n",
       " array([0.01092528]),\n",
       " array([0.00844219]),\n",
       " array([0.00546462]),\n",
       " array([0.00519876]),\n",
       " array([0.00475053]),\n",
       " array([0.00427131]),\n",
       " array([0.00422918]),\n",
       " array([0.00421442]),\n",
       " array([0.00418888]),\n",
       " array([0.00414311]),\n",
       " array([0.00406144]),\n",
       " array([0.00392374]),\n",
       " array([0.00373114]),\n",
       " array([0.00351726]),\n",
       " array([0.00324565]),\n",
       " array([0.00320636]),\n",
       " array([0.00315809]),\n",
       " array([0.0031218]),\n",
       " array([0.00305759]),\n",
       " array([0.00303195]),\n",
       " array([0.00299764]),\n",
       " array([0.00295172]),\n",
       " array([0.00292011]),\n",
       " array([0.00287273]),\n",
       " array([0.00284431]),\n",
       " array([0.00283346]),\n",
       " array([0.00282885]),\n",
       " array([0.00282594]),\n",
       " array([0.0028204]),\n",
       " array([0.00280993]),\n",
       " array([0.00279096]),\n",
       " array([0.00276063]),\n",
       " array([0.00274042]),\n",
       " array([0.00273899]),\n",
       " array([0.00273798]),\n",
       " array([0.00273757]),\n",
       " array([0.0027368]),\n",
       " array([0.00273535]),\n",
       " array([0.00273259]),\n",
       " array([0.0027274]),\n",
       " array([0.00271777]),\n",
       " array([0.00270009]),\n",
       " array([0.00266712]),\n",
       " array([0.00260388]),\n",
       " array([0.00255965]),\n",
       " array([0.00251119]),\n",
       " array([0.00245301]),\n",
       " array([0.00244084]),\n",
       " array([0.00243069]),\n",
       " array([0.00242481]),\n",
       " array([0.00242308]),\n",
       " array([0.00242273]),\n",
       " array([0.00242223]),\n",
       " array([0.00242136]),\n",
       " array([0.00241979]),\n",
       " array([0.00241695]),\n",
       " array([0.00241183]),\n",
       " array([0.00240276]),\n",
       " array([0.00238793]),\n",
       " array([0.00237055]),\n",
       " array([0.00234271]),\n",
       " array([0.00230104]),\n",
       " array([0.00227638]),\n",
       " array([0.00226162]),\n",
       " array([0.00225305]),\n",
       " array([0.00224646]),\n",
       " array([0.00224496]),\n",
       " array([0.00224256]),\n",
       " array([0.0022392]),\n",
       " array([0.00223617]),\n",
       " array([0.00223119]),\n",
       " array([0.00222311]),\n",
       " array([0.00221024]),\n",
       " array([0.00219078]),\n",
       " array([0.0021837]),\n",
       " array([0.00217215]),\n",
       " array([0.00216363]),\n",
       " array([0.00215074]),\n",
       " array([0.00213915]),\n",
       " array([0.00213629]),\n",
       " array([0.0021351]),\n",
       " array([0.00213302]),\n",
       " array([0.00213127]),\n",
       " array([0.00213109]),\n",
       " array([0.00213085]),\n",
       " array([0.0021306]),\n",
       " array([0.00213014]),\n",
       " array([0.00212928]),\n",
       " array([0.00212767]),\n",
       " array([0.0021247]),\n",
       " array([0.00211974]),\n",
       " array([0.00211514]),\n",
       " array([0.00211458]),\n",
       " array([0.00211381]),\n",
       " array([0.00211316])]"
      ]
     },
     "execution_count": 37,
     "metadata": {},
     "output_type": "execute_result"
    }
   ],
   "source": [
    "T.J"
   ]
  },
  {
   "cell_type": "code",
   "execution_count": 38,
   "metadata": {},
   "outputs": [
    {
     "data": {
      "text/plain": [
       "[array([0.00696106]),\n",
       " array([0.00296038]),\n",
       " array([0.00313794]),\n",
       " array([0.00331917]),\n",
       " array([0.00347224]),\n",
       " array([0.00346967]),\n",
       " array([0.00287139]),\n",
       " array([0.00223045]),\n",
       " array([0.00223269]),\n",
       " array([0.00202956]),\n",
       " array([0.00187339]),\n",
       " array([0.00189313]),\n",
       " array([0.00190429]),\n",
       " array([0.00191424]),\n",
       " array([0.0019195]),\n",
       " array([0.00191782]),\n",
       " array([0.00191067]),\n",
       " array([0.00191787]),\n",
       " array([0.0018036]),\n",
       " array([0.0017965]),\n",
       " array([0.00175029]),\n",
       " array([0.00186196]),\n",
       " array([0.00191314]),\n",
       " array([0.00186384]),\n",
       " array([0.00184975]),\n",
       " array([0.00191111]),\n",
       " array([0.00196891]),\n",
       " array([0.00202897]),\n",
       " array([0.00207981]),\n",
       " array([0.00217191]),\n",
       " array([0.00219252]),\n",
       " array([0.00221876]),\n",
       " array([0.00222189]),\n",
       " array([0.00221678]),\n",
       " array([0.00219869]),\n",
       " array([0.00215432]),\n",
       " array([0.00205534]),\n",
       " array([0.00191289]),\n",
       " array([0.00190292]),\n",
       " array([0.00189485]),\n",
       " array([0.00189263]),\n",
       " array([0.00188982]),\n",
       " array([0.00188574]),\n",
       " array([0.00187925]),\n",
       " array([0.00186846]),\n",
       " array([0.00184998]),\n",
       " array([0.00181767]),\n",
       " array([0.00175886]),\n",
       " array([0.00164811]),\n",
       " array([0.00159429]),\n",
       " array([0.00163338]),\n",
       " array([0.00158103]),\n",
       " array([0.00158486]),\n",
       " array([0.0015982]),\n",
       " array([0.00163979]),\n",
       " array([0.00165391]),\n",
       " array([0.0016567]),\n",
       " array([0.00165774]),\n",
       " array([0.00165747]),\n",
       " array([0.0016561]),\n",
       " array([0.00165337]),\n",
       " array([0.00164822]),\n",
       " array([0.00163754]),\n",
       " array([0.00161318]),\n",
       " array([0.00157103]),\n",
       " array([0.00155776]),\n",
       " array([0.0014998]),\n",
       " array([0.00148413]),\n",
       " array([0.00146674]),\n",
       " array([0.00146377]),\n",
       " array([0.00148358]),\n",
       " array([0.00147713]),\n",
       " array([0.00145923]),\n",
       " array([0.00143856]),\n",
       " array([0.00142196]),\n",
       " array([0.00140083]),\n",
       " array([0.00137287]),\n",
       " array([0.00133646]),\n",
       " array([0.00130477]),\n",
       " array([0.00129648]),\n",
       " array([0.00127761]),\n",
       " array([0.00125946]),\n",
       " array([0.0012269]),\n",
       " array([0.00124927]),\n",
       " array([0.00123092]),\n",
       " array([0.00122013]),\n",
       " array([0.00122657]),\n",
       " array([0.00124779]),\n",
       " array([0.00124854]),\n",
       " array([0.00124261]),\n",
       " array([0.00124203]),\n",
       " array([0.00124094]),\n",
       " array([0.00123956]),\n",
       " array([0.00123756]),\n",
       " array([0.00123462]),\n",
       " array([0.00123049]),\n",
       " array([0.00122451]),\n",
       " array([0.00123151]),\n",
       " array([0.00123745]),\n",
       " array([0.0012382])]"
      ]
     },
     "execution_count": 38,
     "metadata": {},
     "output_type": "execute_result"
    }
   ],
   "source": [
    "T.testJ"
   ]
  },
  {
   "cell_type": "code",
   "execution_count": 39,
   "metadata": {},
   "outputs": [
    {
     "data": {
      "text/plain": [
       "0.0016164201859107802"
      ]
     },
     "execution_count": 39,
     "metadata": {},
     "output_type": "execute_result"
    }
   ],
   "source": [
    "from sklearn.metrics import mean_absolute_error\n",
    "mean_absolute_error(T.J, T.testJ)"
   ]
  },
  {
   "cell_type": "code",
   "execution_count": 40,
   "metadata": {},
   "outputs": [],
   "source": [
    "yHat=NN.forward(X)"
   ]
  },
  {
   "cell_type": "code",
   "execution_count": 41,
   "metadata": {},
   "outputs": [
    {
     "data": {
      "text/plain": [
       "array([[0.12020973],\n",
       "       [0.21678428],\n",
       "       [0.23934023],\n",
       "       [0.27022179],\n",
       "       [0.40393861],\n",
       "       [0.54790777],\n",
       "       [0.36349939],\n",
       "       [0.38197221],\n",
       "       [0.37954689],\n",
       "       [0.40005814],\n",
       "       [0.29250713],\n",
       "       [0.19520664],\n",
       "       [0.18348437],\n",
       "       [0.26856503],\n",
       "       [0.24517026],\n",
       "       [0.18178615],\n",
       "       [0.19776849],\n",
       "       [0.16207508],\n",
       "       [0.14454719],\n",
       "       [0.2591803 ],\n",
       "       [0.26637929],\n",
       "       [0.26693687],\n",
       "       [0.25493824],\n",
       "       [0.24832768],\n",
       "       [0.23573824],\n",
       "       [0.24602352],\n",
       "       [0.23249847],\n",
       "       [0.25360142],\n",
       "       [0.24758849],\n",
       "       [0.23989724],\n",
       "       [0.31687543],\n",
       "       [0.30016994],\n",
       "       [0.32715837],\n",
       "       [0.25215196],\n",
       "       [0.33909999],\n",
       "       [0.36754073],\n",
       "       [0.39356253],\n",
       "       [0.46836918],\n",
       "       [0.44219619],\n",
       "       [0.55642505],\n",
       "       [0.5629473 ],\n",
       "       [0.63965954],\n",
       "       [0.67948603],\n",
       "       [0.57896892],\n",
       "       [0.55772991],\n",
       "       [0.44208091],\n",
       "       [0.43440504],\n",
       "       [0.48217252],\n",
       "       [0.46011322],\n",
       "       [0.54491628],\n",
       "       [0.47763507],\n",
       "       [0.45206111],\n",
       "       [0.49796377],\n",
       "       [0.4468757 ],\n",
       "       [0.47548126],\n",
       "       [0.44495683],\n",
       "       [0.43895506],\n",
       "       [0.34911102]])"
      ]
     },
     "execution_count": 41,
     "metadata": {},
     "output_type": "execute_result"
    }
   ],
   "source": [
    "yHat"
   ]
  },
  {
   "cell_type": "code",
   "execution_count": 42,
   "metadata": {},
   "outputs": [
    {
     "data": {
      "text/plain": [
       "array([[0.17073406],\n",
       "       [0.2232566 ],\n",
       "       [0.24197469],\n",
       "       [0.36573346],\n",
       "       [0.55255899],\n",
       "       [0.37002352],\n",
       "       [0.3325317 ],\n",
       "       [0.38788752],\n",
       "       [0.39836394],\n",
       "       [0.2848263 ],\n",
       "       [0.18673502],\n",
       "       [0.18269477],\n",
       "       [0.255617  ],\n",
       "       [0.23597043],\n",
       "       [0.16413413],\n",
       "       [0.17817663],\n",
       "       [0.1639561 ],\n",
       "       [0.13324148],\n",
       "       [0.22639902],\n",
       "       [0.25501386],\n",
       "       [0.23708614],\n",
       "       [0.23165112],\n",
       "       [0.23306761],\n",
       "       [0.22117372],\n",
       "       [0.22633168],\n",
       "       [0.21869864],\n",
       "       [0.2320322 ],\n",
       "       [0.23194795],\n",
       "       [0.22154782],\n",
       "       [0.28795858],\n",
       "       [0.28837327],\n",
       "       [0.29714576],\n",
       "       [0.24366982],\n",
       "       [0.30743731],\n",
       "       [0.35859786],\n",
       "       [0.37218122],\n",
       "       [0.45025948],\n",
       "       [0.44309563],\n",
       "       [0.55815598],\n",
       "       [0.60235983],\n",
       "       [0.69629172],\n",
       "       [0.79060467],\n",
       "       [0.64402223],\n",
       "       [0.58322864],\n",
       "       [0.48171501],\n",
       "       [0.44281211],\n",
       "       [0.49627058],\n",
       "       [0.47546339],\n",
       "       [0.55155979],\n",
       "       [0.50099435],\n",
       "       [0.44545859],\n",
       "       [0.50571167],\n",
       "       [0.46588904],\n",
       "       [0.46785659],\n",
       "       [0.45300142],\n",
       "       [0.43741172],\n",
       "       [0.3506737 ],\n",
       "       [0.36403131]])"
      ]
     },
     "execution_count": 42,
     "metadata": {},
     "output_type": "execute_result"
    }
   ],
   "source": [
    "y"
   ]
  },
  {
   "cell_type": "code",
   "execution_count": 43,
   "metadata": {},
   "outputs": [
    {
     "data": {
      "text/plain": [
       "0.003913426403062716"
      ]
     },
     "execution_count": 43,
     "metadata": {},
     "output_type": "execute_result"
    }
   ],
   "source": [
    "from sklearn.metrics import mean_squared_error \n",
    "mean_squared_error(y,yHat) "
   ]
  },
  {
   "cell_type": "code",
   "execution_count": 44,
   "metadata": {},
   "outputs": [
    {
     "data": {
      "image/png": "[encoded data removed]",
      "text/plain": [
       "<Figure size 432x288 with 1 Axes>"
      ]
     },
     "metadata": {
      "needs_background": "light"
     },
     "output_type": "display_data"
    }
   ],
   "source": [
    "#Plot cost during training:\n",
    "plot.plot(y)\n",
    "plot.plot(yHat)\n",
    "plot.grid(1)\n",
    "plot.legend(['y', 'yHat'])\n",
    "plot.show()"
   ]
  },
  {
   "cell_type": "code",
   "execution_count": 45,
   "metadata": {},
   "outputs": [],
   "source": [
    "prediksi=NN.forward(dataprediksi)"
   ]
  },
  {
   "cell_type": "code",
   "execution_count": 46,
   "metadata": {},
   "outputs": [
    {
     "data": {
      "text/plain": [
       "array([[0.38099626],\n",
       "       [0.69810357],\n",
       "       [0.7599511 ],\n",
       "       [0.63159834]])"
      ]
     },
     "execution_count": 46,
     "metadata": {},
     "output_type": "execute_result"
    }
   ],
   "source": [
    "prediksi"
   ]
  },
  {
   "cell_type": "code",
   "execution_count": 47,
   "metadata": {},
   "outputs": [],
   "source": [
    "from sklearn.metrics import mean_squared_error "
   ]
  },
  {
   "cell_type": "code",
   "execution_count": 48,
   "metadata": {},
   "outputs": [
    {
     "data": {
      "text/plain": [
       "0.07129015500850089"
      ]
     },
     "execution_count": 48,
     "metadata": {},
     "output_type": "execute_result"
    }
   ],
   "source": [
    "Y_true= ([\t0.795380412\t]\t,\n",
    "[\t1\t]\t,\n",
    "[\t0.707681705\t]\t,\n",
    "[\t0.491695324\t]\t,\n",
    "\n",
    ")\n",
    "\n",
    "\n",
    "Y_pred=prediksi\n",
    "mean_squared_error(Y_true,Y_pred) "
   ]
  },
  {
   "cell_type": "code",
   "execution_count": 49,
   "metadata": {},
   "outputs": [
    {
     "data": {
      "text/plain": [
       "array([[0.45300142, 0.43741172, 0.3506737 , 0.36403131],\n",
       "       [0.43741172, 0.3506737 , 0.36403131, 0.79538041],\n",
       "       [0.3506737 , 0.36403131, 0.79538041, 1.        ],\n",
       "       [0.36403131, 0.79538041, 1.        , 0.70768171]])"
      ]
     },
     "execution_count": 49,
     "metadata": {},
     "output_type": "execute_result"
    }
   ],
   "source": [
    "dataprediksi"
   ]
  },
  {
   "cell_type": "code",
   "execution_count": 50,
   "metadata": {},
   "outputs": [],
   "source": [
    "a=np.array([\t0.795380412\t,\t1\t,\t0.707681705\t,\t0.491695324\t])"
   ]
  },
  {
   "cell_type": "code",
   "execution_count": 51,
   "metadata": {},
   "outputs": [
    {
     "data": {
      "text/plain": [
       "array([0.48866208])"
      ]
     },
     "execution_count": 51,
     "metadata": {},
     "output_type": "execute_result"
    }
   ],
   "source": [
    "#prediksi 1\n",
    "prediksi=NN.forward(a)\n",
    "prediksi"
   ]
  },
  {
   "cell_type": "code",
   "execution_count": 52,
   "metadata": {},
   "outputs": [
    {
     "data": {
      "text/plain": [
       "array([0.44775894])"
      ]
     },
     "execution_count": 52,
     "metadata": {},
     "output_type": "execute_result"
    }
   ],
   "source": [
    "#prediksi 2\n",
    "c=prediksi\n",
    "b=a[1:]\n",
    "d=np.concatenate((b,c))\n",
    "prediksi=NN.forward(d)\n",
    "prediksi"
   ]
  },
  {
   "cell_type": "code",
   "execution_count": 53,
   "metadata": {},
   "outputs": [
    {
     "data": {
      "text/plain": [
       "array([0.41018506])"
      ]
     },
     "execution_count": 53,
     "metadata": {},
     "output_type": "execute_result"
    }
   ],
   "source": [
    "#prediksi 3\n",
    "c=prediksi\n",
    "b=d[1:]\n",
    "e=np.concatenate((b,c))\n",
    "prediksi=NN.forward(e)\n",
    "prediksi"
   ]
  },
  {
   "cell_type": "code",
   "execution_count": 54,
   "metadata": {},
   "outputs": [
    {
     "data": {
      "text/plain": [
       "array([0.41316542])"
      ]
     },
     "execution_count": 54,
     "metadata": {},
     "output_type": "execute_result"
    }
   ],
   "source": [
    "#prediksi 4\n",
    "c=prediksi\n",
    "b=e[1:]\n",
    "f=np.concatenate((b,c))\n",
    "prediksi=NN.forward(f)\n",
    "prediksi"
   ]
  },
  {
   "cell_type": "code",
   "execution_count": 55,
   "metadata": {},
   "outputs": [
    {
     "data": {
      "text/plain": [
       "array([0.41594838])"
      ]
     },
     "execution_count": 55,
     "metadata": {},
     "output_type": "execute_result"
    }
   ],
   "source": [
    "#prediksi 5\n",
    "c=prediksi\n",
    "b=f[1:]\n",
    "g=np.concatenate((b,c))\n",
    "prediksi=NN.forward(g)\n",
    "prediksi"
   ]
  },
  {
   "cell_type": "code",
   "execution_count": 56,
   "metadata": {},
   "outputs": [
    {
     "data": {
      "text/plain": [
       "array([0.41681458])"
      ]
     },
     "execution_count": 56,
     "metadata": {},
     "output_type": "execute_result"
    }
   ],
   "source": [
    "#prediksi 6\n",
    "c=prediksi\n",
    "b=g[1:]\n",
    "h=np.concatenate((b,c))\n",
    "prediksi=NN.forward(h)\n",
    "prediksi"
   ]
  },
  {
   "cell_type": "code",
   "execution_count": 57,
   "metadata": {},
   "outputs": [
    {
     "data": {
      "text/plain": [
       "array([0.41768508])"
      ]
     },
     "execution_count": 57,
     "metadata": {},
     "output_type": "execute_result"
    }
   ],
   "source": [
    "#prediksi 7\n",
    "c=prediksi\n",
    "b=g[1:]\n",
    "i=np.concatenate((b,c))\n",
    "prediksi=NN.forward(i)\n",
    "prediksi"
   ]
  },
  {
   "cell_type": "code",
   "execution_count": 58,
   "metadata": {},
   "outputs": [
    {
     "data": {
      "text/plain": [
       "array([0.41855886])"
      ]
     },
     "execution_count": 58,
     "metadata": {},
     "output_type": "execute_result"
    }
   ],
   "source": [
    "#prediksi 8\n",
    "c=prediksi\n",
    "b=g[1:]\n",
    "j=np.concatenate((b,c))\n",
    "prediksi=NN.forward(j)\n",
    "prediksi"
   ]
  },
  {
   "cell_type": "code",
   "execution_count": 59,
   "metadata": {},
   "outputs": [
    {
     "data": {
      "text/plain": [
       "array([0.41943488])"
      ]
     },
     "execution_count": 59,
     "metadata": {},
     "output_type": "execute_result"
    }
   ],
   "source": [
    "#prediksi 9\n",
    "c=prediksi\n",
    "b=g[1:]\n",
    "k=np.concatenate((b,c))\n",
    "prediksi=NN.forward(k)\n",
    "prediksi"
   ]
  },
  {
   "cell_type": "code",
   "execution_count": 60,
   "metadata": {},
   "outputs": [
    {
     "data": {
      "text/plain": [
       "array([0.4203121])"
      ]
     },
     "execution_count": 60,
     "metadata": {},
     "output_type": "execute_result"
    }
   ],
   "source": [
    "#prediksi 10\n",
    "c=prediksi\n",
    "b=g[1:]\n",
    "l=np.concatenate((b,c))\n",
    "prediksi=NN.forward(l)\n",
    "prediksi"
   ]
  },
  {
   "cell_type": "code",
   "execution_count": 61,
   "metadata": {},
   "outputs": [
    {
     "data": {
      "text/plain": [
       "array([0.42118946])"
      ]
     },
     "execution_count": 61,
     "metadata": {},
     "output_type": "execute_result"
    }
   ],
   "source": [
    "#prediksi 11\n",
    "c=prediksi\n",
    "b=g[1:]\n",
    "m=np.concatenate((b,c))\n",
    "prediksi=NN.forward(m)\n",
    "prediksi"
   ]
  },
  {
   "cell_type": "code",
   "execution_count": 62,
   "metadata": {},
   "outputs": [
    {
     "data": {
      "text/plain": [
       "array([0.42206591])"
      ]
     },
     "execution_count": 62,
     "metadata": {},
     "output_type": "execute_result"
    }
   ],
   "source": [
    "#prediksi 12\n",
    "c=prediksi\n",
    "b=g[1:]\n",
    "n=np.concatenate((b,c))\n",
    "prediksi=NN.forward(n)\n",
    "prediksi"
   ]
  },
  {
   "cell_type": "code",
   "execution_count": null,
   "metadata": {},
   "outputs": [],
   "source": []
  }
 ],
 "metadata": {
  "kernelspec": {
   "display_name": "Python 3",
   "language": "python",
   "name": "python3"
  },
  "language_info": {
   "codemirror_mode": {
    "name": "ipython",
    "version": 3
   },
   "file_extension": ".py",
   "mimetype": "text/x-python",
   "name": "python",
   "nbconvert_exporter": "python",
   "pygments_lexer": "ipython3",
   "version": "3.7.3"
  }
 },
 "nbformat": 4,
 "nbformat_minor": 2
}
