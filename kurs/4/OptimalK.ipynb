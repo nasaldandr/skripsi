{
 "cells": [
  {
   "cell_type": "code",
   "execution_count": 1,
   "metadata": {},
   "outputs": [
    {
     "name": "stdout",
     "output_type": "stream",
     "text": [
      "Warning: Maximum number of iterations has been exceeded.\n",
      "         Current function value: 0.093502\n",
      "         Iterations: 100\n",
      "         Function evaluations: 109\n",
      "         Gradient evaluations: 109\n"
     ]
    },
    {
     "data": {
      "text/plain": [
       "<Figure size 640x480 with 1 Axes>"
      ]
     },
     "metadata": {},
     "output_type": "display_data"
    },
    {
     "name": "stdout",
     "output_type": "stream",
     "text": [
      "Warning: Maximum number of iterations has been exceeded.\n",
      "         Current function value: 0.068984\n",
      "         Iterations: 100\n",
      "         Function evaluations: 107\n",
      "         Gradient evaluations: 107\n"
     ]
    },
    {
     "data": {
      "text/plain": [
       "<Figure size 640x480 with 1 Axes>"
      ]
     },
     "metadata": {},
     "output_type": "display_data"
    },
    {
     "data": {
      "text/plain": [
       "<Figure size 640x480 with 1 Axes>"
      ]
     },
     "metadata": {},
     "output_type": "display_data"
    }
   ],
   "source": [
    "#Import code from last time\n",
    "%run k4-6.ipynb"
   ]
  },
  {
   "cell_type": "code",
   "execution_count": 2,
   "metadata": {},
   "outputs": [
    {
     "data": {
      "text/plain": [
       "array([[0.79060467, 0.64402223, 0.58322864, 0.48171501],\n",
       "       [0.64402223, 0.58322864, 0.48171501, 0.44281211],\n",
       "       [0.58322864, 0.48171501, 0.44281211, 0.49627058],\n",
       "       [0.48171501, 0.44281211, 0.49627058, 0.47546339],\n",
       "       [0.44281211, 0.49627058, 0.47546339, 0.55155979],\n",
       "       [0.49627058, 0.47546339, 0.55155979, 0.50099435],\n",
       "       [0.47546339, 0.55155979, 0.50099435, 0.44545859],\n",
       "       [0.55155979, 0.50099435, 0.44545859, 0.50571167],\n",
       "       [0.50099435, 0.44545859, 0.50571167, 0.46588904],\n",
       "       [0.44545859, 0.50571167, 0.46588904, 0.46785659],\n",
       "       [0.50571167, 0.46588904, 0.46785659, 0.45300142],\n",
       "       [0.46588904, 0.46785659, 0.45300142, 0.43741172],\n",
       "       [0.46785659, 0.45300142, 0.43741172, 0.3506737 ]])"
      ]
     },
     "execution_count": 2,
     "metadata": {},
     "output_type": "execute_result"
    }
   ],
   "source": [
    "testX"
   ]
  },
  {
   "cell_type": "code",
   "execution_count": 3,
   "metadata": {},
   "outputs": [
    {
     "data": {
      "text/plain": [
       "array([[0.44281211],\n",
       "       [0.49627058],\n",
       "       [0.47546339],\n",
       "       [0.55155979],\n",
       "       [0.50099435],\n",
       "       [0.44545859],\n",
       "       [0.50571167],\n",
       "       [0.46588904],\n",
       "       [0.46785659],\n",
       "       [0.45300142],\n",
       "       [0.43741172],\n",
       "       [0.3506737 ],\n",
       "       [0.36403131]])"
      ]
     },
     "execution_count": 3,
     "metadata": {},
     "output_type": "execute_result"
    }
   ],
   "source": [
    "testY"
   ]
  },
  {
   "cell_type": "code",
   "execution_count": 4,
   "metadata": {},
   "outputs": [
    {
     "data": {
      "text/plain": [
       "array([[0.        , 0.051925  , 0.14831904, 0.11211342],\n",
       "       [0.051925  , 0.14831904, 0.11211342, 0.17073406],\n",
       "       [0.14831904, 0.11211342, 0.17073406, 0.2232566 ],\n",
       "       [0.11211342, 0.17073406, 0.2232566 , 0.24197469],\n",
       "       [0.17073406, 0.2232566 , 0.24197469, 0.36573346],\n",
       "       [0.2232566 , 0.24197469, 0.36573346, 0.55255899],\n",
       "       [0.24197469, 0.36573346, 0.55255899, 0.37002352],\n",
       "       [0.36573346, 0.55255899, 0.37002352, 0.3325317 ],\n",
       "       [0.55255899, 0.37002352, 0.3325317 , 0.38788752],\n",
       "       [0.37002352, 0.3325317 , 0.38788752, 0.39836394],\n",
       "       [0.3325317 , 0.38788752, 0.39836394, 0.2848263 ],\n",
       "       [0.38788752, 0.39836394, 0.2848263 , 0.18673502],\n",
       "       [0.39836394, 0.2848263 , 0.18673502, 0.18269477],\n",
       "       [0.2848263 , 0.18673502, 0.18269477, 0.255617  ],\n",
       "       [0.18673502, 0.18269477, 0.255617  , 0.23597043],\n",
       "       [0.18269477, 0.255617  , 0.23597043, 0.16413413],\n",
       "       [0.255617  , 0.23597043, 0.16413413, 0.17817663],\n",
       "       [0.23597043, 0.16413413, 0.17817663, 0.1639561 ],\n",
       "       [0.16413413, 0.17817663, 0.1639561 , 0.13324148],\n",
       "       [0.17817663, 0.1639561 , 0.13324148, 0.22639902],\n",
       "       [0.1639561 , 0.13324148, 0.22639902, 0.25501386],\n",
       "       [0.13324148, 0.22639902, 0.25501386, 0.23708614],\n",
       "       [0.22639902, 0.25501386, 0.23708614, 0.23165112],\n",
       "       [0.25501386, 0.23708614, 0.23165112, 0.23306761],\n",
       "       [0.23708614, 0.23165112, 0.23306761, 0.22117372],\n",
       "       [0.23165112, 0.23306761, 0.22117372, 0.22633168],\n",
       "       [0.23306761, 0.22117372, 0.22633168, 0.21869864],\n",
       "       [0.22117372, 0.22633168, 0.21869864, 0.2320322 ],\n",
       "       [0.22633168, 0.21869864, 0.2320322 , 0.23194795],\n",
       "       [0.21869864, 0.2320322 , 0.23194795, 0.22154782],\n",
       "       [0.2320322 , 0.23194795, 0.22154782, 0.28795858],\n",
       "       [0.23194795, 0.22154782, 0.28795858, 0.28837327],\n",
       "       [0.22154782, 0.28795858, 0.28837327, 0.29714576],\n",
       "       [0.28795858, 0.28837327, 0.29714576, 0.24366982],\n",
       "       [0.28837327, 0.29714576, 0.24366982, 0.30743731],\n",
       "       [0.29714576, 0.24366982, 0.30743731, 0.35859786],\n",
       "       [0.24366982, 0.30743731, 0.35859786, 0.37218122],\n",
       "       [0.30743731, 0.35859786, 0.37218122, 0.45025948],\n",
       "       [0.35859786, 0.37218122, 0.45025948, 0.44309563],\n",
       "       [0.37218122, 0.45025948, 0.44309563, 0.55815598],\n",
       "       [0.45025948, 0.44309563, 0.55815598, 0.60235983],\n",
       "       [0.44309563, 0.55815598, 0.60235983, 0.69629172],\n",
       "       [0.55815598, 0.60235983, 0.69629172, 0.79060467],\n",
       "       [0.60235983, 0.69629172, 0.79060467, 0.64402223],\n",
       "       [0.69629172, 0.79060467, 0.64402223, 0.58322864]])"
      ]
     },
     "execution_count": 4,
     "metadata": {},
     "output_type": "execute_result"
    }
   ],
   "source": [
    "trainX"
   ]
  },
  {
   "cell_type": "code",
   "execution_count": 5,
   "metadata": {},
   "outputs": [
    {
     "data": {
      "text/plain": [
       "array([[0.17073406],\n",
       "       [0.2232566 ],\n",
       "       [0.24197469],\n",
       "       [0.36573346],\n",
       "       [0.55255899],\n",
       "       [0.37002352],\n",
       "       [0.3325317 ],\n",
       "       [0.38788752],\n",
       "       [0.39836394],\n",
       "       [0.2848263 ],\n",
       "       [0.18673502],\n",
       "       [0.18269477],\n",
       "       [0.255617  ],\n",
       "       [0.23597043],\n",
       "       [0.16413413],\n",
       "       [0.17817663],\n",
       "       [0.1639561 ],\n",
       "       [0.13324148],\n",
       "       [0.22639902],\n",
       "       [0.25501386],\n",
       "       [0.23708614],\n",
       "       [0.23165112],\n",
       "       [0.23306761],\n",
       "       [0.22117372],\n",
       "       [0.22633168],\n",
       "       [0.21869864],\n",
       "       [0.2320322 ],\n",
       "       [0.23194795],\n",
       "       [0.22154782],\n",
       "       [0.28795858],\n",
       "       [0.28837327],\n",
       "       [0.29714576],\n",
       "       [0.24366982],\n",
       "       [0.30743731],\n",
       "       [0.35859786],\n",
       "       [0.37218122],\n",
       "       [0.45025948],\n",
       "       [0.44309563],\n",
       "       [0.55815598],\n",
       "       [0.60235983],\n",
       "       [0.69629172],\n",
       "       [0.79060467],\n",
       "       [0.64402223],\n",
       "       [0.58322864],\n",
       "       [0.48171501]])"
      ]
     },
     "execution_count": 5,
     "metadata": {},
     "output_type": "execute_result"
    }
   ],
   "source": [
    "trainY"
   ]
  },
  {
   "cell_type": "code",
   "execution_count": 6,
   "metadata": {},
   "outputs": [],
   "source": [
    "#Regularization Parameter:\n",
    "Lambda = 0.0001"
   ]
  },
  {
   "cell_type": "code",
   "execution_count": 7,
   "metadata": {},
   "outputs": [],
   "source": [
    "#Need to make changes to costFunction and costFunctionPrim:\n",
    "def costFunction(self, X, y):\n",
    "    #Compute cost for given X,y, use weights already stored in class.\n",
    "    self.yHat = self.forward(X)\n",
    "    #We don't want cost to increase with the number of examples, so normalize by dividing the error term by number of examples(X.shape[0])\n",
    "    J = 0.5*sum((y-self.yHat)**2)/X.shape[0] + (self.Lambda/2)*(sum(self.W1**2)+sum(self.W2**2))\n",
    "    return J\n",
    "\n",
    "def costFunctionPrime(self, X, y):\n",
    "    #Compute derivative with respect to W and W2 for a given X and y:\n",
    "    self.yHat = self.forward(X)\n",
    "\n",
    "    delta3 = np.multiply(-(y-self.yHat), self.sigmoidPrime(self.z3))\n",
    "    #Add gradient of regularization term:\n",
    "    dJdW2 = np.dot(self.a2.T, delta3)/X.shape[0] + self.Lambda*self.W2\n",
    "\n",
    "    delta2 = np.dot(delta3, self.W2.T)*self.sigmoidPrime(self.z2)\n",
    "    #Add gradient of regularization term:\n",
    "    dJdW1 = np.dot(X.T, delta2)/X.shape[0] + self.Lambda*self.W1\n",
    "\n",
    "    return dJdW1, dJdW2"
   ]
  },
  {
   "cell_type": "code",
   "execution_count": 8,
   "metadata": {},
   "outputs": [],
   "source": [
    "#New complete class, with changes:\n",
    "class Neural_Network(object):\n",
    "    def __init__(self, Lambda=0.0001):        \n",
    "        #Define Hyperparameters\n",
    "        self.inputLayerSize = 4\n",
    "        self.outputLayerSize = 1\n",
    "        self.hiddenLayerSize = 6\n",
    "        \n",
    "        #Weights (parameters)\n",
    "        self.W1 = np.random.randn(self.inputLayerSize,self.hiddenLayerSize)\n",
    "        self.W2 = np.random.randn(self.hiddenLayerSize,self.outputLayerSize)\n",
    "        \n",
    "        #Regularization Parameter:\n",
    "        self.Lambda = Lambda\n",
    "        \n",
    "    def forward(self, X):\n",
    "        #Propogate inputs though network\n",
    "        self.z2 = np.dot(X, self.W1)\n",
    "        self.a2 = self.sigmoid(self.z2)\n",
    "        self.z3 = np.dot(self.a2, self.W2)\n",
    "        yHat = self.sigmoid(self.z3) \n",
    "        return yHat\n",
    "        \n",
    "    def sigmoid(self, z):\n",
    "        #Apply sigmoid activation function to scalar, vector, or matrix\n",
    "        return 1/(1+np.exp(-z))\n",
    "    \n",
    "    def sigmoidPrime(self,z):\n",
    "        #Gradient of sigmoid\n",
    "        return np.exp(-z)/((1+np.exp(-z))**2)\n",
    "    \n",
    "    def costFunction(self, X, y):\n",
    "        #Compute cost for given X,y, use weights already stored in class.\n",
    "        self.yHat = self.forward(X)\n",
    "        J = 0.5*sum((y-self.yHat)**2)/X.shape[0] + (self.Lambda/2)*(np.sum(self.W1**2)+np.sum(self.W2**2))\n",
    "        return J\n",
    "        \n",
    "    def costFunctionPrime(self, X, y):\n",
    "        #Compute derivative with respect to W and W2 for a given X and y:\n",
    "        self.yHat = self.forward(X)\n",
    "        \n",
    "        delta3 = np.multiply(-(y-self.yHat), self.sigmoidPrime(self.z3))\n",
    "        #Add gradient of regularization term:\n",
    "        dJdW2 = np.dot(self.a2.T, delta3)/X.shape[0] + self.Lambda*self.W2\n",
    "        \n",
    "        delta2 = np.dot(delta3, self.W2.T)*self.sigmoidPrime(self.z2)\n",
    "        #Add gradient of regularization term:\n",
    "        dJdW1 = np.dot(X.T, delta2)/X.shape[0] + self.Lambda*self.W1\n",
    "        \n",
    "        return dJdW1, dJdW2\n",
    "    \n",
    "    def predict(self):\n",
    "        prediksi = self.forward(dataprediksi)\n",
    "        return prediksi\n",
    "    \n",
    "    #Helper functions for interacting with other methods/classes\n",
    "    def getParams(self):\n",
    "        #Get W1 and W2 Rolled into vector:\n",
    "        params = np.concatenate((self.W1.ravel(), self.W2.ravel()))\n",
    "        return params\n",
    "    \n",
    "    def setParams(self, params):\n",
    "        #Set W1 and W2 using single parameter vector:\n",
    "        W1_start = 0\n",
    "        W1_end = self.hiddenLayerSize*self.inputLayerSize\n",
    "        self.W1 = np.reshape(params[W1_start:W1_end], \\\n",
    "                             (self.inputLayerSize, self.hiddenLayerSize))\n",
    "        W2_end = W1_end + self.hiddenLayerSize*self.outputLayerSize\n",
    "        self.W2 = np.reshape(params[W1_end:W2_end], \\\n",
    "                             (self.hiddenLayerSize, self.outputLayerSize))\n",
    "        \n",
    "    def computeGradients(self, X, y):\n",
    "        dJdW1, dJdW2 = self.costFunctionPrime(X, y)\n",
    "        return np.concatenate((dJdW1.ravel(), dJdW2.ravel()))"
   ]
  },
  {
   "cell_type": "code",
   "execution_count": 9,
   "metadata": {},
   "outputs": [],
   "source": [
    "def computeNumericalGradient(N, X, y):\n",
    "    paramsInitial = N.getParams()\n",
    "    numgrad = np.zeros(paramsInitial.shape)\n",
    "    perturb = np.zeros(paramsInitial.shape)\n",
    "    e = 1e-4\n",
    "\n",
    "    for p in range(len(paramsInitial)):\n",
    "        #Set perturbation vector\n",
    "        perturb[p] = e\n",
    "        N.setParams(paramsInitial + perturb)\n",
    "        loss2 = N.costFunction(X, y)\n",
    "            \n",
    "        N.setParams(paramsInitial - perturb)\n",
    "        loss1 = N.costFunction(X, y)\n",
    "\n",
    "        #Compute Numerical Gradient\n",
    "        numgrad[p] = (loss2 - loss1) / (2*e)\n",
    "\n",
    "            #Return the value we changed to zero:\n",
    "        perturb[p] = 0\n",
    "            \n",
    "    #Return Params to original value:\n",
    "    N.setParams(paramsInitial)\n",
    "\n",
    "    return numgrad "
   ]
  },
  {
   "cell_type": "code",
   "execution_count": 10,
   "metadata": {},
   "outputs": [],
   "source": [
    "NN = Neural_Network(Lambda=0.0001)"
   ]
  },
  {
   "cell_type": "code",
   "execution_count": 11,
   "metadata": {},
   "outputs": [],
   "source": [
    "#Make sure our gradients our correct after making changes:\n",
    "numgrad = computeNumericalGradient(NN, X, y)\n",
    "grad = NN.computeGradients(X,y)"
   ]
  },
  {
   "cell_type": "code",
   "execution_count": 12,
   "metadata": {},
   "outputs": [
    {
     "data": {
      "text/plain": [
       "1.057740166745273e-09"
      ]
     },
     "execution_count": 12,
     "metadata": {},
     "output_type": "execute_result"
    }
   ],
   "source": [
    "#Should be less than 1e-8:\n",
    "np.linalg.norm(grad-numgrad)/np.linalg.norm(grad+numgrad)"
   ]
  },
  {
   "cell_type": "code",
   "execution_count": 13,
   "metadata": {},
   "outputs": [],
   "source": [
    "T = trainer(NN)"
   ]
  },
  {
   "cell_type": "code",
   "execution_count": 14,
   "metadata": {},
   "outputs": [
    {
     "name": "stdout",
     "output_type": "stream",
     "text": [
      "Warning: Maximum number of iterations has been exceeded.\n",
      "         Current function value: 0.003686\n",
      "         Iterations: 100\n",
      "         Function evaluations: 110\n",
      "         Gradient evaluations: 110\n"
     ]
    }
   ],
   "source": [
    "T.train(X,y,testX,testY)"
   ]
  },
  {
   "cell_type": "code",
   "execution_count": 15,
   "metadata": {},
   "outputs": [
    {
     "data": {
      "image/png": "[encoded data removed]",
      "text/plain": [
       "<Figure size 432x288 with 1 Axes>"
      ]
     },
     "metadata": {
      "needs_background": "light"
     },
     "output_type": "display_data"
    }
   ],
   "source": [
    "plot.plot(T.J)\n",
    "plot.plot(T.testJ)\n",
    "plot.grid(1)\n",
    "plot.xlabel('Iterations')\n",
    "plot.ylabel('Cost')\n",
    "plot.legend(['Training', 'Testing'])\n",
    "plot.show()"
   ]
  },
  {
   "cell_type": "code",
   "execution_count": 16,
   "metadata": {},
   "outputs": [
    {
     "data": {
      "text/plain": [
       "[array([0.01784864]),\n",
       " array([0.01675352]),\n",
       " array([0.01569771]),\n",
       " array([0.01568884]),\n",
       " array([0.01561298]),\n",
       " array([0.01548035]),\n",
       " array([0.01524407]),\n",
       " array([0.01481761]),\n",
       " array([0.01403557]),\n",
       " array([0.01257645]),\n",
       " array([0.01101415]),\n",
       " array([0.01098248]),\n",
       " array([0.01093784]),\n",
       " array([0.01091862]),\n",
       " array([0.01089451]),\n",
       " array([0.01085019]),\n",
       " array([0.01076916]),\n",
       " array([0.01062767]),\n",
       " array([0.01041261]),\n",
       " array([0.01026021]),\n",
       " array([0.01019038]),\n",
       " array([0.01007254]),\n",
       " array([0.00986172]),\n",
       " array([0.00946312]),\n",
       " array([0.00649182]),\n",
       " array([0.00549553]),\n",
       " array([0.00538968]),\n",
       " array([0.00522784]),\n",
       " array([0.00516573]),\n",
       " array([0.00516313]),\n",
       " array([0.00515915]),\n",
       " array([0.00515178]),\n",
       " array([0.00513788]),\n",
       " array([0.00511246]),\n",
       " array([0.00507201]),\n",
       " array([0.00504381]),\n",
       " array([0.00503038]),\n",
       " array([0.00501061]),\n",
       " array([0.0049998]),\n",
       " array([0.00499692]),\n",
       " array([0.00499258]),\n",
       " array([0.00498493]),\n",
       " array([0.00497108]),\n",
       " array([0.00494588]),\n",
       " array([0.00490104]),\n",
       " array([0.00482479]),\n",
       " array([0.00472494]),\n",
       " array([0.00460121]),\n",
       " array([0.00453986]),\n",
       " array([0.004442]),\n",
       " array([0.00428993]),\n",
       " array([0.00424521]),\n",
       " array([0.00421368]),\n",
       " array([0.00420455]),\n",
       " array([0.00419887]),\n",
       " array([0.00419171]),\n",
       " array([0.00418992]),\n",
       " array([0.00418952]),\n",
       " array([0.00418914]),\n",
       " array([0.00418846]),\n",
       " array([0.00418719]),\n",
       " array([0.00418481]),\n",
       " array([0.00418039]),\n",
       " array([0.00417227]),\n",
       " array([0.00415771]),\n",
       " array([0.00413268]),\n",
       " array([0.00409326]),\n",
       " array([0.00405514]),\n",
       " array([0.0040457]),\n",
       " array([0.00402994]),\n",
       " array([0.00400378]),\n",
       " array([0.00395809]),\n",
       " array([0.0038789]),\n",
       " array([0.00377828]),\n",
       " array([0.00375956]),\n",
       " array([0.0037531]),\n",
       " array([0.00374618]),\n",
       " array([0.00374533]),\n",
       " array([0.00374434]),\n",
       " array([0.00374421]),\n",
       " array([0.00374418]),\n",
       " array([0.00374413]),\n",
       " array([0.00374404]),\n",
       " array([0.00374387]),\n",
       " array([0.00374355]),\n",
       " array([0.00374295]),\n",
       " array([0.00374187]),\n",
       " array([0.00373995]),\n",
       " array([0.00373671]),\n",
       " array([0.00373162]),\n",
       " array([0.00372393]),\n",
       " array([0.00371237]),\n",
       " array([0.00369583]),\n",
       " array([0.00368708]),\n",
       " array([0.00368582]),\n",
       " array([0.0036857]),\n",
       " array([0.00368569]),\n",
       " array([0.00368568]),\n",
       " array([0.00368566]),\n",
       " array([0.00368563])]"
      ]
     },
     "execution_count": 16,
     "metadata": {},
     "output_type": "execute_result"
    }
   ],
   "source": [
    "T.J"
   ]
  },
  {
   "cell_type": "code",
   "execution_count": 17,
   "metadata": {},
   "outputs": [
    {
     "data": {
      "text/plain": [
       "[array([0.02063941]),\n",
       " array([0.00536537]),\n",
       " array([0.0100405]),\n",
       " array([0.00990871]),\n",
       " array([0.00919547]),\n",
       " array([0.00833691]),\n",
       " array([0.00732098]),\n",
       " array([0.00615662]),\n",
       " array([0.00497355]),\n",
       " array([0.00423652]),\n",
       " array([0.00701613]),\n",
       " array([0.00556655]),\n",
       " array([0.00593739]),\n",
       " array([0.00616951]),\n",
       " array([0.00626953]),\n",
       " array([0.00629669]),\n",
       " array([0.00622644]),\n",
       " array([0.00598158]),\n",
       " array([0.00541986]),\n",
       " array([0.0047364]),\n",
       " array([0.00437825]),\n",
       " array([0.00399202]),\n",
       " array([0.00361049]),\n",
       " array([0.00326224]),\n",
       " array([0.00339156]),\n",
       " array([0.00308957]),\n",
       " array([0.0030672]),\n",
       " array([0.00317875]),\n",
       " array([0.00329232]),\n",
       " array([0.00334319]),\n",
       " array([0.00333993]),\n",
       " array([0.0033348]),\n",
       " array([0.00332475]),\n",
       " array([0.00330451]),\n",
       " array([0.003265]),\n",
       " array([0.00323198]),\n",
       " array([0.00326652]),\n",
       " array([0.00327499]),\n",
       " array([0.00324469]),\n",
       " array([0.00323907]),\n",
       " array([0.00322827]),\n",
       " array([0.00322609]),\n",
       " array([0.00321261]),\n",
       " array([0.00320604]),\n",
       " array([0.00316577]),\n",
       " array([0.0031534]),\n",
       " array([0.0030438]),\n",
       " array([0.00308729]),\n",
       " array([0.00309357]),\n",
       " array([0.00312149]),\n",
       " array([0.00314841]),\n",
       " array([0.00319571]),\n",
       " array([0.00309565]),\n",
       " array([0.00300062]),\n",
       " array([0.00300242]),\n",
       " array([0.0030265]),\n",
       " array([0.00302602]),\n",
       " array([0.00302777]),\n",
       " array([0.00302668]),\n",
       " array([0.00302603]),\n",
       " array([0.0030245]),\n",
       " array([0.00302211]),\n",
       " array([0.00301784]),\n",
       " array([0.00301069]),\n",
       " array([0.00299823]),\n",
       " array([0.00297597]),\n",
       " array([0.0029324]),\n",
       " array([0.00288649]),\n",
       " array([0.00285853]),\n",
       " array([0.00283167]),\n",
       " array([0.00278308]),\n",
       " array([0.00270254]),\n",
       " array([0.00257523]),\n",
       " array([0.00240849]),\n",
       " array([0.00240706]),\n",
       " array([0.00242039]),\n",
       " array([0.00243378]),\n",
       " array([0.0024318]),\n",
       " array([0.0024188]),\n",
       " array([0.00241215]),\n",
       " array([0.00240964]),\n",
       " array([0.00240729]),\n",
       " array([0.00240487]),\n",
       " array([0.00240197]),\n",
       " array([0.00239806]),\n",
       " array([0.00239245]),\n",
       " array([0.00238406]),\n",
       " array([0.00237142]),\n",
       " array([0.00235291]),\n",
       " array([0.0023284]),\n",
       " array([0.00230336]),\n",
       " array([0.00228854]),\n",
       " array([0.00229622]),\n",
       " array([0.00233612]),\n",
       " array([0.00235567]),\n",
       " array([0.00235916]),\n",
       " array([0.00235858]),\n",
       " array([0.00235815]),\n",
       " array([0.00235762]),\n",
       " array([0.00235694])]"
      ]
     },
     "execution_count": 17,
     "metadata": {},
     "output_type": "execute_result"
    }
   ],
   "source": [
    "T.testJ"
   ]
  },
  {
   "cell_type": "code",
   "execution_count": 18,
   "metadata": {},
   "outputs": [
    {
     "data": {
      "text/plain": [
       "0.0025685410503271553"
      ]
     },
     "execution_count": 18,
     "metadata": {},
     "output_type": "execute_result"
    }
   ],
   "source": [
    "from sklearn.metrics import mean_absolute_error\n",
    "mean_absolute_error(T.J, T.testJ)"
   ]
  },
  {
   "cell_type": "code",
   "execution_count": 19,
   "metadata": {},
   "outputs": [],
   "source": [
    "yHat=NN.forward(X)"
   ]
  },
  {
   "cell_type": "code",
   "execution_count": 20,
   "metadata": {},
   "outputs": [
    {
     "data": {
      "text/plain": [
       "array([[0.18129374],\n",
       "       [0.21328842],\n",
       "       [0.24235872],\n",
       "       [0.26479664],\n",
       "       [0.3486112 ],\n",
       "       [0.48744292],\n",
       "       [0.39843115],\n",
       "       [0.3645512 ],\n",
       "       [0.37344227],\n",
       "       [0.3905814 ],\n",
       "       [0.32222596],\n",
       "       [0.24806338],\n",
       "       [0.2269532 ],\n",
       "       [0.26454009],\n",
       "       [0.26315554],\n",
       "       [0.2257258 ],\n",
       "       [0.22292842],\n",
       "       [0.21167942],\n",
       "       [0.19750779],\n",
       "       [0.24374336],\n",
       "       [0.26811782],\n",
       "       [0.26925149],\n",
       "       [0.26345126],\n",
       "       [0.26128218],\n",
       "       [0.25447447],\n",
       "       [0.25661546],\n",
       "       [0.25159349],\n",
       "       [0.25953694],\n",
       "       [0.26004872],\n",
       "       [0.25521219],\n",
       "       [0.29440152],\n",
       "       [0.30101462],\n",
       "       [0.31306986],\n",
       "       [0.27782678],\n",
       "       [0.31320867],\n",
       "       [0.34885206],\n",
       "       [0.37185965],\n",
       "       [0.4287559 ],\n",
       "       [0.43229402],\n",
       "       [0.51374906],\n",
       "       [0.54981721],\n",
       "       [0.61596058],\n",
       "       [0.66878627],\n",
       "       [0.60943506],\n",
       "       [0.56504973],\n",
       "       [0.47909264],\n",
       "       [0.4432425 ],\n",
       "       [0.46833005],\n",
       "       [0.46097953],\n",
       "       [0.51458327],\n",
       "       [0.48635008],\n",
       "       [0.45147565],\n",
       "       [0.47787731],\n",
       "       [0.45509296],\n",
       "       [0.45964484],\n",
       "       [0.4438314 ],\n",
       "       [0.43340477],\n",
       "       [0.3711926 ]])"
      ]
     },
     "execution_count": 20,
     "metadata": {},
     "output_type": "execute_result"
    }
   ],
   "source": [
    "yHat"
   ]
  },
  {
   "cell_type": "code",
   "execution_count": 21,
   "metadata": {},
   "outputs": [
    {
     "data": {
      "text/plain": [
       "array([[0.17073406],\n",
       "       [0.2232566 ],\n",
       "       [0.24197469],\n",
       "       [0.36573346],\n",
       "       [0.55255899],\n",
       "       [0.37002352],\n",
       "       [0.3325317 ],\n",
       "       [0.38788752],\n",
       "       [0.39836394],\n",
       "       [0.2848263 ],\n",
       "       [0.18673502],\n",
       "       [0.18269477],\n",
       "       [0.255617  ],\n",
       "       [0.23597043],\n",
       "       [0.16413413],\n",
       "       [0.17817663],\n",
       "       [0.1639561 ],\n",
       "       [0.13324148],\n",
       "       [0.22639902],\n",
       "       [0.25501386],\n",
       "       [0.23708614],\n",
       "       [0.23165112],\n",
       "       [0.23306761],\n",
       "       [0.22117372],\n",
       "       [0.22633168],\n",
       "       [0.21869864],\n",
       "       [0.2320322 ],\n",
       "       [0.23194795],\n",
       "       [0.22154782],\n",
       "       [0.28795858],\n",
       "       [0.28837327],\n",
       "       [0.29714576],\n",
       "       [0.24366982],\n",
       "       [0.30743731],\n",
       "       [0.35859786],\n",
       "       [0.37218122],\n",
       "       [0.45025948],\n",
       "       [0.44309563],\n",
       "       [0.55815598],\n",
       "       [0.60235983],\n",
       "       [0.69629172],\n",
       "       [0.79060467],\n",
       "       [0.64402223],\n",
       "       [0.58322864],\n",
       "       [0.48171501],\n",
       "       [0.44281211],\n",
       "       [0.49627058],\n",
       "       [0.47546339],\n",
       "       [0.55155979],\n",
       "       [0.50099435],\n",
       "       [0.44545859],\n",
       "       [0.50571167],\n",
       "       [0.46588904],\n",
       "       [0.46785659],\n",
       "       [0.45300142],\n",
       "       [0.43741172],\n",
       "       [0.3506737 ],\n",
       "       [0.36403131]])"
      ]
     },
     "execution_count": 21,
     "metadata": {},
     "output_type": "execute_result"
    }
   ],
   "source": [
    "y"
   ]
  },
  {
   "cell_type": "code",
   "execution_count": 22,
   "metadata": {},
   "outputs": [
    {
     "data": {
      "image/png": "[encoded data removed]",
      "text/plain": [
       "<Figure size 432x288 with 1 Axes>"
      ]
     },
     "metadata": {
      "needs_background": "light"
     },
     "output_type": "display_data"
    }
   ],
   "source": [
    "#Plot cost during training:\n",
    "plot.plot(y)\n",
    "plot.plot(yHat)\n",
    "plot.grid(1)\n",
    "plot.legend(['y', 'yHat'])\n",
    "plot.show()"
   ]
  },
  {
   "cell_type": "code",
   "execution_count": 23,
   "metadata": {},
   "outputs": [],
   "source": [
    "prediksi=NN.forward(dataprediksi)"
   ]
  },
  {
   "cell_type": "code",
   "execution_count": 24,
   "metadata": {},
   "outputs": [
    {
     "data": {
      "text/plain": [
       "array([[0.36955483],\n",
       "       [0.62980337],\n",
       "       [0.74319729],\n",
       "       [0.67113967]])"
      ]
     },
     "execution_count": 24,
     "metadata": {},
     "output_type": "execute_result"
    }
   ],
   "source": [
    "prediksi"
   ]
  },
  {
   "cell_type": "code",
   "execution_count": 25,
   "metadata": {},
   "outputs": [],
   "source": [
    "from sklearn.metrics import mean_squared_error "
   ]
  },
  {
   "cell_type": "code",
   "execution_count": 26,
   "metadata": {},
   "outputs": [
    {
     "data": {
      "text/plain": [
       "0.08795865152915762"
      ]
     },
     "execution_count": 26,
     "metadata": {},
     "output_type": "execute_result"
    }
   ],
   "source": [
    "Y_true= ([\t0.795380412\t]\t,\n",
    "[\t1\t]\t,\n",
    "[\t0.707681705\t]\t,\n",
    "[\t0.491695324\t]\t,\n",
    "\n",
    ")\n",
    "\n",
    "\n",
    "Y_pred=prediksi\n",
    "mean_squared_error(Y_true,Y_pred) "
   ]
  },
  {
   "cell_type": "code",
   "execution_count": 27,
   "metadata": {},
   "outputs": [
    {
     "data": {
      "text/plain": [
       "array([[0.45300142, 0.43741172, 0.3506737 , 0.36403131],\n",
       "       [0.43741172, 0.3506737 , 0.36403131, 0.79538041],\n",
       "       [0.3506737 , 0.36403131, 0.79538041, 1.        ],\n",
       "       [0.36403131, 0.79538041, 1.        , 0.70768171]])"
      ]
     },
     "execution_count": 27,
     "metadata": {},
     "output_type": "execute_result"
    }
   ],
   "source": [
    "dataprediksi"
   ]
  },
  {
   "cell_type": "code",
   "execution_count": 28,
   "metadata": {},
   "outputs": [],
   "source": [
    "a=np.array([\t0.795380412\t,\t1\t,\t0.707681705\t,\t0.491695324\t])"
   ]
  },
  {
   "cell_type": "code",
   "execution_count": 29,
   "metadata": {},
   "outputs": [
    {
     "data": {
      "text/plain": [
       "array([0.52646986])"
      ]
     },
     "execution_count": 29,
     "metadata": {},
     "output_type": "execute_result"
    }
   ],
   "source": [
    "#prediksi 1\n",
    "prediksi=NN.forward(a)\n",
    "prediksi"
   ]
  },
  {
   "cell_type": "code",
   "execution_count": 30,
   "metadata": {},
   "outputs": [
    {
     "data": {
      "text/plain": [
       "array([0.49471428])"
      ]
     },
     "execution_count": 30,
     "metadata": {},
     "output_type": "execute_result"
    }
   ],
   "source": [
    "#prediksi 2\n",
    "c=prediksi\n",
    "b=a[1:]\n",
    "d=np.concatenate((b,c))\n",
    "prediksi=NN.forward(d)\n",
    "prediksi"
   ]
  },
  {
   "cell_type": "code",
   "execution_count": 31,
   "metadata": {},
   "outputs": [
    {
     "data": {
      "text/plain": [
       "array([0.47219052])"
      ]
     },
     "execution_count": 31,
     "metadata": {},
     "output_type": "execute_result"
    }
   ],
   "source": [
    "#prediksi 3\n",
    "c=prediksi\n",
    "b=d[1:]\n",
    "e=np.concatenate((b,c))\n",
    "prediksi=NN.forward(e)\n",
    "prediksi"
   ]
  },
  {
   "cell_type": "code",
   "execution_count": 32,
   "metadata": {},
   "outputs": [
    {
     "data": {
      "text/plain": [
       "array([0.46576588])"
      ]
     },
     "execution_count": 32,
     "metadata": {},
     "output_type": "execute_result"
    }
   ],
   "source": [
    "#prediksi 4\n",
    "c=prediksi\n",
    "b=e[1:]\n",
    "f=np.concatenate((b,c))\n",
    "prediksi=NN.forward(f)\n",
    "prediksi"
   ]
  },
  {
   "cell_type": "code",
   "execution_count": 33,
   "metadata": {},
   "outputs": [
    {
     "data": {
      "text/plain": [
       "array([0.4546823])"
      ]
     },
     "execution_count": 33,
     "metadata": {},
     "output_type": "execute_result"
    }
   ],
   "source": [
    "#prediksi 5\n",
    "c=prediksi\n",
    "b=f[1:]\n",
    "g=np.concatenate((b,c))\n",
    "prediksi=NN.forward(g)\n",
    "prediksi"
   ]
  },
  {
   "cell_type": "code",
   "execution_count": 34,
   "metadata": {},
   "outputs": [
    {
     "data": {
      "text/plain": [
       "array([0.44575131])"
      ]
     },
     "execution_count": 34,
     "metadata": {},
     "output_type": "execute_result"
    }
   ],
   "source": [
    "#prediksi 6\n",
    "c=prediksi\n",
    "b=g[1:]\n",
    "h=np.concatenate((b,c))\n",
    "prediksi=NN.forward(h)\n",
    "prediksi"
   ]
  },
  {
   "cell_type": "code",
   "execution_count": 35,
   "metadata": {},
   "outputs": [
    {
     "data": {
      "text/plain": [
       "array([0.43972061])"
      ]
     },
     "execution_count": 35,
     "metadata": {},
     "output_type": "execute_result"
    }
   ],
   "source": [
    "#prediksi 7\n",
    "c=prediksi\n",
    "b=g[1:]\n",
    "i=np.concatenate((b,c))\n",
    "prediksi=NN.forward(i)\n",
    "prediksi"
   ]
  },
  {
   "cell_type": "code",
   "execution_count": 36,
   "metadata": {},
   "outputs": [
    {
     "data": {
      "text/plain": [
       "array([0.43563927])"
      ]
     },
     "execution_count": 36,
     "metadata": {},
     "output_type": "execute_result"
    }
   ],
   "source": [
    "#prediksi 8\n",
    "c=prediksi\n",
    "b=g[1:]\n",
    "j=np.concatenate((b,c))\n",
    "prediksi=NN.forward(j)\n",
    "prediksi"
   ]
  },
  {
   "cell_type": "code",
   "execution_count": 37,
   "metadata": {},
   "outputs": [
    {
     "data": {
      "text/plain": [
       "array([0.43287347])"
      ]
     },
     "execution_count": 37,
     "metadata": {},
     "output_type": "execute_result"
    }
   ],
   "source": [
    "#prediksi 9\n",
    "c=prediksi\n",
    "b=g[1:]\n",
    "k=np.concatenate((b,c))\n",
    "prediksi=NN.forward(k)\n",
    "prediksi"
   ]
  },
  {
   "cell_type": "code",
   "execution_count": 38,
   "metadata": {},
   "outputs": [
    {
     "data": {
      "text/plain": [
       "array([0.43099763])"
      ]
     },
     "execution_count": 38,
     "metadata": {},
     "output_type": "execute_result"
    }
   ],
   "source": [
    "#prediksi 10\n",
    "c=prediksi\n",
    "b=g[1:]\n",
    "l=np.concatenate((b,c))\n",
    "prediksi=NN.forward(l)\n",
    "prediksi"
   ]
  },
  {
   "cell_type": "code",
   "execution_count": 39,
   "metadata": {},
   "outputs": [
    {
     "data": {
      "text/plain": [
       "array([0.4297247])"
      ]
     },
     "execution_count": 39,
     "metadata": {},
     "output_type": "execute_result"
    }
   ],
   "source": [
    "#prediksi 11\n",
    "c=prediksi\n",
    "b=g[1:]\n",
    "m=np.concatenate((b,c))\n",
    "prediksi=NN.forward(m)\n",
    "prediksi"
   ]
  },
  {
   "cell_type": "code",
   "execution_count": 40,
   "metadata": {},
   "outputs": [
    {
     "data": {
      "text/plain": [
       "array([0.42886061])"
      ]
     },
     "execution_count": 40,
     "metadata": {},
     "output_type": "execute_result"
    }
   ],
   "source": [
    "#prediksi 12\n",
    "c=prediksi\n",
    "b=g[1:]\n",
    "n=np.concatenate((b,c))\n",
    "prediksi=NN.forward(n)\n",
    "prediksi"
   ]
  },
  {
   "cell_type": "code",
   "execution_count": null,
   "metadata": {},
   "outputs": [],
   "source": []
  }
 ],
 "metadata": {
  "kernelspec": {
   "display_name": "Python 3",
   "language": "python",
   "name": "python3"
  },
  "language_info": {
   "codemirror_mode": {
    "name": "ipython",
    "version": 3
   },
   "file_extension": ".py",
   "mimetype": "text/x-python",
   "name": "python",
   "nbconvert_exporter": "python",
   "pygments_lexer": "ipython3",
   "version": "3.7.3"
  }
 },
 "nbformat": 4,
 "nbformat_minor": 2
}
