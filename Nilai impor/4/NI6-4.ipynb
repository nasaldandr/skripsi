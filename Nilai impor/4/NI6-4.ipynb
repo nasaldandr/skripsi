{
 "cells": [
  {
   "cell_type": "code",
   "execution_count": 1,
   "metadata": {},
   "outputs": [],
   "source": [
    "import numpy as np"
   ]
  },
  {
   "cell_type": "code",
   "execution_count": 2,
   "metadata": {},
   "outputs": [],
   "source": [
    "#UNTUK NILAI IMPOR\n",
    "class Neural_Network(object):\n",
    "    def __init__(self):\n",
    "        #parameters\n",
    "        self.inputLayerSize = 6\n",
    "        self.outputLayerSize = 1\n",
    "        self.hiddenLayerSize = 4\n",
    "\n",
    "        #weights\n",
    "        self.W1 = np.random.randn(self.inputLayerSize,\\\n",
    "                                 self.hiddenLayerSize)  \n",
    "        self.W2 = np.random.randn(self.hiddenLayerSize,\\\n",
    "                                 self.outputLayerSize)  \n",
    "    \n",
    "    def printw(self):\n",
    "        return self.W1\n",
    "        \n",
    "    def weight(self, W1, W2):\n",
    "        #Make an internal variable for the weight:\n",
    "        self.W1 = W1\n",
    "        self.W2 = W2\n",
    "        \n",
    "    def forward(self, X):\n",
    "        #forward propagation through our network\n",
    "        self.z2 = np.dot(X,self.W1)  \n",
    "        self.a2 = self.tanh(self.z2)  # activation function\n",
    "        self.z3 = np.dot(self.a2, self.W2) \n",
    "        yHat = self.tanh(self.z3)  # final activation function\n",
    "        return yHat\n",
    "\n",
    "    def tanh(self, z):\n",
    "        # activation function\n",
    "        return (np.exp(z)-np.exp(-z))/(np.exp(z)+np.exp(-z))\n",
    "    \n",
    "    def tanhPrime(self,z): \n",
    "        #derivative of tanh\n",
    "        return 1-((np.exp(z)-np.exp(-z))/(np.exp(z)+np.exp(-z)))**2\n",
    "    \n",
    "    def costFunction(self,X,y):\n",
    "        self.yHat = self.forward(X)\n",
    "        J=0.5*sum((y-self.yHat)**2)\n",
    "        return J\n",
    "    \n",
    "    def costFunctionPrime(self,X,y):\n",
    "        self.yHat=self.forward(X)\n",
    "        \n",
    "        delta3=np.multiply(-(y-self.yHat),self.tanhPrime(self.z3))\n",
    "        dJdW2=np.dot(self.a2.T,delta3)\n",
    "        \n",
    "        delta2=np.dot(delta3,self.W2.T)*self.tanhPrime(self.z2)\n",
    "        dJdW1=np.dot(X.T,delta2)\n",
    "        return dJdW1,dJdW2\n",
    "    \n",
    "    def predict(self):\n",
    "        prediksi = self.forward(dataprediksi)\n",
    "        return prediksi\n",
    "    \n",
    "    def getParams(self):\n",
    "        params=np.concatenate((self.W1.ravel(),self.W2.ravel()))\n",
    "        return params\n",
    "    \n",
    "    def setParams(self,params):\n",
    "        W1_start=0\n",
    "        W1_end=self.hiddenLayerSize*self.inputLayerSize\n",
    "        self.W1=np.reshape(params[W1_start:W1_end],\\\n",
    "                          (self.inputLayerSize,self.hiddenLayerSize))\n",
    "        W2_end=W1_end+self.hiddenLayerSize*self.outputLayerSize\n",
    "        self.W2=np.reshape(params[W1_end:W2_end],\\\n",
    "                          (self.hiddenLayerSize,self.outputLayerSize))\n",
    "        \n",
    "    def computeGradients(self, X, y):\n",
    "        dJdW1, dJdW2 = self.costFunctionPrime(X, y)\n",
    "        return np.concatenate((dJdW1.ravel(), dJdW2.ravel()))"
   ]
  },
  {
   "cell_type": "code",
   "execution_count": 3,
   "metadata": {},
   "outputs": [],
   "source": [
    "NN = Neural_Network()"
   ]
  },
  {
   "cell_type": "code",
   "execution_count": 4,
   "metadata": {},
   "outputs": [
    {
     "data": {
      "text/plain": [
       "array([[-1.5363033 ,  0.61967714, -1.59511624,  0.84518373],\n",
       "       [-1.04198908,  0.21603425, -1.57704282, -0.09080995],\n",
       "       [-0.19738379,  0.89757   ,  0.47840902, -0.36172575],\n",
       "       [-1.62735704,  1.82885686,  1.00335063,  0.00751033],\n",
       "       [-1.22789717,  0.144733  ,  0.92667729,  0.79294008],\n",
       "       [-0.50475943, -0.68069348,  1.39198966,  0.52382963]])"
      ]
     },
     "execution_count": 4,
     "metadata": {},
     "output_type": "execute_result"
    }
   ],
   "source": [
    "NN.W1"
   ]
  },
  {
   "cell_type": "code",
   "execution_count": 5,
   "metadata": {},
   "outputs": [
    {
     "data": {
      "text/plain": [
       "array([[-0.00657128],\n",
       "       [-0.75741502],\n",
       "       [ 0.31902398],\n",
       "       [ 0.17698876]])"
      ]
     },
     "execution_count": 5,
     "metadata": {},
     "output_type": "execute_result"
    }
   ],
   "source": [
    "NN.W2"
   ]
  },
  {
   "cell_type": "code",
   "execution_count": 6,
   "metadata": {},
   "outputs": [],
   "source": [
    "#NILAI IMPOR\n",
    "X=np.array(([\t0.669014085\t,\t0.170734062\t,\t0.423360552\t,\t0.311558554\t,\t0.422995385\t,\t0.424780646\t]\t,\n",
    "[\t0.697183099\t,\t0.223256598\t,\t0.311558554\t,\t0.422995385\t,\t0.424780646\t,\t0.322057108\t]\t,\n",
    "[\t0.971830986\t,\t0.241974687\t,\t0.422995385\t,\t0.424780646\t,\t0.322057108\t,\t0.460465588\t]\t,\n",
    "[\t0.591549296\t,\t0.365733465\t,\t0.424780646\t,\t0.322057108\t,\t0.460465588\t,\t0.166688644\t]\t,\n",
    "[\t0.281690141\t,\t0.552558994\t,\t0.322057108\t,\t0.460465588\t,\t0.166688644\t,\t0.401744687\t]\t,\n",
    "[\t0.26056338\t,\t0.370023519\t,\t0.460465588\t,\t0.166688644\t,\t0.401744687\t,\t0.316478166\t]\t,\n",
    "[\t0.464788732\t,\t0.332531703\t,\t0.166688644\t,\t0.401744687\t,\t0.316478166\t,\t0.270862707\t]\t,\n",
    "[\t0.992957746\t,\t0.387887522\t,\t0.401744687\t,\t0.316478166\t,\t0.270862707\t,\t0.312512045\t]\t,\n",
    "[\t0.676056338\t,\t0.398363943\t,\t0.316478166\t,\t0.270862707\t,\t0.312512045\t,\t0.369092661\t]\t,\n",
    "[\t0.253521127\t,\t0.284826299\t,\t0.270862707\t,\t0.312512045\t,\t0.369092661\t,\t0.205751382\t]\t,\n",
    "[\t0.450704225\t,\t0.186735022\t,\t0.312512045\t,\t0.369092661\t,\t0.205751382\t,\t0.176193133\t]\t,\n",
    "[\t0\t,\t0.182694768\t,\t0.369092661\t,\t0.205751382\t,\t0.176193133\t,\t0.290419435\t]\t,\n",
    "[\t0.485915493\t,\t0.255617002\t,\t0.205751382\t,\t0.176193133\t,\t0.290419435\t,\t0.24090886\t]\t,\n",
    "[\t0.781690141\t,\t0.23597043\t,\t0.176193133\t,\t0.290419435\t,\t0.24090886\t,\t0.27408835\t]\t,\n",
    "[\t0.802816901\t,\t0.164134134\t,\t0.290419435\t,\t0.24090886\t,\t0.27408835\t,\t0.370908353\t]\t,\n",
    "[\t0.302816901\t,\t0.178176635\t,\t0.24090886\t,\t0.27408835\t,\t0.370908353\t,\t0.05869047\t]\t,\n",
    "[\t0.471830986\t,\t0.163956101\t,\t0.27408835\t,\t0.370908353\t,\t0.05869047\t,\t0.400324593\t]\t,\n",
    "[\t0.415492958\t,\t0.133241484\t,\t0.370908353\t,\t0.05869047\t,\t0.400324593\t,\t0.289993407\t]\t,\n",
    "[\t0.647887324\t,\t0.226399017\t,\t0.05869047\t,\t0.400324593\t,\t0.289993407\t,\t0.307714155\t]\t,\n",
    "[\t0.612676056\t,\t0.255013861\t,\t0.400324593\t,\t0.289993407\t,\t0.307714155\t,\t0.429152508\t]\t,\n",
    "[\t1\t,\t0.23708614\t,\t0.289993407\t,\t0.307714155\t,\t0.429152508\t,\t0.440624842\t]\t,\n",
    "[\t0.478873239\t,\t0.231651119\t,\t0.307714155\t,\t0.429152508\t,\t0.440624842\t,\t0.358046356\t]\t,\n",
    "[\t0.302816901\t,\t0.233067608\t,\t0.429152508\t,\t0.440624842\t,\t0.358046356\t,\t0.295724502\t]\t,\n",
    "[\t0.38028169\t,\t0.221173719\t,\t0.440624842\t,\t0.358046356\t,\t0.295724502\t,\t0.491413501\t]\t,\n",
    "[\t0.591549296\t,\t0.22633168\t,\t0.358046356\t,\t0.295724502\t,\t0.491413501\t,\t0.356240807\t]\t,\n",
    "[\t0.802816901\t,\t0.218698642\t,\t0.295724502\t,\t0.491413501\t,\t0.356240807\t,\t0.541055942\t]\t,\n",
    "[\t0.471830986\t,\t0.232032203\t,\t0.491413501\t,\t0.356240807\t,\t0.541055942\t,\t0.157529036\t]\t,\n",
    "[\t0.267605634\t,\t0.231947948\t,\t0.356240807\t,\t0.541055942\t,\t0.157529036\t,\t0.55294416\t]\t,\n",
    "[\t0.408450704\t,\t0.221547817\t,\t0.541055942\t,\t0.157529036\t,\t0.55294416\t,\t0.514337881\t]\t,\n",
    "[\t0.323943662\t,\t0.287958581\t,\t0.157529036\t,\t0.55294416\t,\t0.514337881\t,\t0.441213166\t]\t,\n",
    "[\t0.457746479\t,\t0.28837327\t,\t0.55294416\t,\t0.514337881\t,\t0.441213166\t,\t0.58940001\t]\t,\n",
    "[\t0.816901408\t,\t0.297145757\t,\t0.514337881\t,\t0.441213166\t,\t0.58940001\t,\t0.677070548\t]\t,\n",
    "[\t0.753521127\t,\t0.243669818\t,\t0.441213166\t,\t0.58940001\t,\t0.677070548\t,\t0.67615763\t]\t,\n",
    "[\t0.436619718\t,\t0.307437314\t,\t0.58940001\t,\t0.677070548\t,\t0.67615763\t,\t0.696941725\t]\t,\n",
    "[\t0.457746479\t,\t0.358597855\t,\t0.677070548\t,\t0.67615763\t,\t0.696941725\t,\t0.582938581\t]\t,\n",
    "[\t0.387323944\t,\t0.372181217\t,\t0.67615763\t,\t0.696941725\t,\t0.582938581\t,\t0.611147741\t]\t,\n",
    "[\t0.464788732\t,\t0.450259481\t,\t0.696941725\t,\t0.582938581\t,\t0.611147741\t,\t0.783455901\t]\t,\n",
    "[\t0.732394366\t,\t0.443095634\t,\t0.582938581\t,\t0.611147741\t,\t0.783455901\t,\t0.935669727\t]\t,\n",
    "[\t0.514084507\t,\t0.558155976\t,\t0.611147741\t,\t0.783455901\t,\t0.935669727\t,\t0.286990922\t]\t,\n",
    "[\t0.281690141\t,\t0.602359827\t,\t0.783455901\t,\t0.935669727\t,\t0.286990922\t,\t1\t]\t,\n",
    "[\t0.190140845\t,\t0.696291723\t,\t0.935669727\t,\t0.286990922\t,\t1\t,\t0.849977177\t]\t,\n",
    "[\t0.514084507\t,\t0.790604671\t,\t0.286990922\t,\t1\t,\t0.849977177\t,\t0.626008013\t]\t,\n",
    "[\t0.507042254\t,\t0.644022227\t,\t1\t,\t0.849977177\t,\t0.626008013\t,\t0.936146473\t]\t,\n",
    "[\t0.753521127\t,\t0.583228643\t,\t0.849977177\t,\t0.626008013\t,\t0.936146473\t,\t0.858467312\t]\t,\n",
    "[\t0.542253521\t,\t0.481715009\t,\t0.626008013\t,\t0.936146473\t,\t0.858467312\t,\t0.702581529\t]\t,\n",
    "[\t0.26056338\t,\t0.442812107\t,\t0.936146473\t,\t0.858467312\t,\t0.702581529\t,\t0.664685297\t]\t,\n",
    "[\t0.394366197\t,\t0.496270585\t,\t0.858467312\t,\t0.702581529\t,\t0.664685297\t,\t0.384176092\t]\t,\n",
    "[\t0.626760563\t,\t0.475463393\t,\t0.702581529\t,\t0.664685297\t,\t0.384176092\t,\t0.50844449\t]\t,\n",
    "[\t0.795774648\t,\t0.551559791\t,\t0.664685297\t,\t0.384176092\t,\t0.50844449\t,\t0.706050616\t]\t,\n",
    "[\t0.704225352\t,\t0.500994351\t,\t0.384176092\t,\t0.50844449\t,\t0.706050616\t,\t0.625663133\t]\t,\n",
    "[\t0.535211268\t,\t0.445458587\t,\t0.50844449\t,\t0.706050616\t,\t0.625663133\t,\t0.310067454\t]\t,\n",
    "[\t0.401408451\t,\t0.505711667\t,\t0.706050616\t,\t0.625663133\t,\t0.310067454\t,\t0.718151849\t]\t,\n",
    "[\t0.126760563\t,\t0.465889036\t,\t0.625663133\t,\t0.310067454\t,\t0.718151849\t,\t0.581295329\t]\t,\n",
    "[\t0.330985915\t,\t0.46785659\t,\t0.310067454\t,\t0.718151849\t,\t0.581295329\t,\t0.590840392\t]\t,\n",
    "[\t0.415492958\t,\t0.453001423\t,\t0.718151849\t,\t0.581295329\t,\t0.590840392\t,\t0.641121875\t]\t,\n",
    "[\t0.556338028\t,\t0.437411724\t,\t0.581295329\t,\t0.590840392\t,\t0.641121875\t,\t0.700096364\t]\t,\n",
    "[\t0.591549296\t,\t0.350673696\t,\t0.590840392\t,\t0.641121875\t,\t0.700096364\t,\t0.614971852\t]\t,\n",
    "[\t0.514084507\t,\t0.364031312\t,\t0.641121875\t,\t0.700096364\t,\t0.614971852\t,\t0.591377999\t]\t,\n",
    "\n",
    ")           \n",
    ",dtype=float)\n",
    "y=np.array(([\t0.322057108\t]\t,\n",
    "[\t0.460465588\t]\t,\n",
    "[\t0.166688644\t]\t,\n",
    "[\t0.401744687\t]\t,\n",
    "[\t0.316478166\t]\t,\n",
    "[\t0.270862707\t]\t,\n",
    "[\t0.312512045\t]\t,\n",
    "[\t0.369092661\t]\t,\n",
    "[\t0.205751382\t]\t,\n",
    "[\t0.176193133\t]\t,\n",
    "[\t0.290419435\t]\t,\n",
    "[\t0.24090886\t]\t,\n",
    "[\t0.27408835\t]\t,\n",
    "[\t0.370908353\t]\t,\n",
    "[\t0.05869047\t]\t,\n",
    "[\t0.400324593\t]\t,\n",
    "[\t0.289993407\t]\t,\n",
    "[\t0.307714155\t]\t,\n",
    "[\t0.429152508\t]\t,\n",
    "[\t0.440624842\t]\t,\n",
    "[\t0.358046356\t]\t,\n",
    "[\t0.295724502\t]\t,\n",
    "[\t0.491413501\t]\t,\n",
    "[\t0.356240807\t]\t,\n",
    "[\t0.541055942\t]\t,\n",
    "[\t0.157529036\t]\t,\n",
    "[\t0.55294416\t]\t,\n",
    "[\t0.514337881\t]\t,\n",
    "[\t0.441213166\t]\t,\n",
    "[\t0.58940001\t]\t,\n",
    "[\t0.677070548\t]\t,\n",
    "[\t0.67615763\t]\t,\n",
    "[\t0.696941725\t]\t,\n",
    "[\t0.582938581\t]\t,\n",
    "[\t0.611147741\t]\t,\n",
    "[\t0.783455901\t]\t,\n",
    "[\t0.935669727\t]\t,\n",
    "[\t0.286990922\t]\t,\n",
    "[\t1\t]\t,\n",
    "[\t0.849977177\t]\t,\n",
    "[\t0.626008013\t]\t,\n",
    "[\t0.936146473\t]\t,\n",
    "[\t0.858467312\t]\t,\n",
    "[\t0.702581529\t]\t,\n",
    "[\t0.664685297\t]\t,\n",
    "[\t0.384176092\t]\t,\n",
    "[\t0.50844449\t]\t,\n",
    "[\t0.706050616\t]\t,\n",
    "[\t0.625663133\t]\t,\n",
    "[\t0.310067454\t]\t,\n",
    "[\t0.718151849\t]\t,\n",
    "[\t0.581295329\t]\t,\n",
    "[\t0.590840392\t]\t,\n",
    "[\t0.641121875\t]\t,\n",
    "[\t0.700096364\t]\t,\n",
    "[\t0.614971852\t]\t,\n",
    "[\t0.591377999\t]\t,\n",
    "[\t0.32\t]\t,\n",
    "\n",
    ")\n",
    ",dtype=float)\n",
    "\n",
    "dataprediksi = np.array(([\t0.387323944\t,\t0.795380412\t,\t0.700096364\t,\t0.614971852\t,\t0.591377999\t,\t0.32\t]\t,\n",
    "[\t0.373239437\t,\t1\t,\t0.614971852\t,\t0.591377999\t,\t0.32\t,\t0.50\t]\t,\n",
    "[\t0.366197183\t,\t0.707681705\t,\t0.591377999\t,\t0.32\t,\t0.50\t,\t0.415539889\t]\t,\n",
    "[\t0.443661972\t,\t0.491695324\t,\t0.32\t,\t0.50\t,\t0.415539889\t,\t0\t]\t,\n",
    "\n",
    "\n",
    "), dtype=float)\n"
   ]
  },
  {
   "cell_type": "code",
   "execution_count": 7,
   "metadata": {},
   "outputs": [],
   "source": [
    "import matplotlib.pyplot as plot"
   ]
  },
  {
   "cell_type": "code",
   "execution_count": 8,
   "metadata": {},
   "outputs": [],
   "source": [
    "from scipy import optimize"
   ]
  },
  {
   "cell_type": "code",
   "execution_count": 9,
   "metadata": {},
   "outputs": [],
   "source": [
    "class trainer(object):\n",
    "    def __init__(self, N):\n",
    "        #Make Local reference to network:\n",
    "        self.N = N\n",
    "        \n",
    "    def callbackF(self, params):\n",
    "        self.N.setParams(params)\n",
    "        self.J.append(self.N.costFunction(self.X, self.y))   \n",
    "        \n",
    "    def costFunctionWrapper(self, params, X, y):\n",
    "        self.N.setParams(params)\n",
    "        cost = self.N.costFunction(X, y)\n",
    "        grad = self.N.computeGradients(X,y)\n",
    "        \n",
    "        return cost, grad\n",
    "        \n",
    "    def train(self, X, y):\n",
    "        #Make an internal variable for the callback function:\n",
    "        self.X = X\n",
    "        self.y = y\n",
    "\n",
    "        #Make empty list to store costs:\n",
    "        self.J = []\n",
    "        \n",
    "        params0 = self.N.getParams()\n",
    "\n",
    "        options = {'maxiter': 100, 'disp' : True}\n",
    "        _res = optimize.minimize(self.costFunctionWrapper, params0, jac=True, method='BFGS', \\\n",
    "                                 args=(X, y), options=options, callback=self.callbackF)\n",
    "\n",
    "        self.N.setParams(_res.x)\n",
    "        self.optimizationResults = _res"
   ]
  },
  {
   "cell_type": "code",
   "execution_count": 10,
   "metadata": {},
   "outputs": [],
   "source": [
    "NN=Neural_Network()"
   ]
  },
  {
   "cell_type": "code",
   "execution_count": 11,
   "metadata": {},
   "outputs": [],
   "source": [
    "T = trainer(NN)"
   ]
  },
  {
   "cell_type": "code",
   "execution_count": 12,
   "metadata": {},
   "outputs": [
    {
     "name": "stdout",
     "output_type": "stream",
     "text": [
      "Warning: Maximum number of iterations has been exceeded.\n",
      "         Current function value: 0.307812\n",
      "         Iterations: 100\n",
      "         Function evaluations: 113\n",
      "         Gradient evaluations: 113\n"
     ]
    }
   ],
   "source": [
    "#Train network with new data:\n",
    "T = trainer(NN)\n",
    "T.train(X,y)"
   ]
  },
  {
   "cell_type": "code",
   "execution_count": 13,
   "metadata": {},
   "outputs": [
    {
     "data": {
      "image/png": "[encoded data removed]",
      "text/plain": [
       "<Figure size 432x288 with 1 Axes>"
      ]
     },
     "metadata": {
      "needs_background": "light"
     },
     "output_type": "display_data"
    }
   ],
   "source": [
    "#Plot cost during training:\n",
    "plot.plot(T.J)\n",
    "plot.grid(1)\n",
    "plot.xlabel('Iterations')\n",
    "plot.ylabel('Cost')\n",
    "plot.show()"
   ]
  },
  {
   "cell_type": "code",
   "execution_count": 14,
   "metadata": {},
   "outputs": [],
   "source": [
    "#Training Data:\n",
    "trainX = np.array(([\t0.669014085\t,\t0.170734062\t,\t0.423360552\t,\t0.311558554\t,\t0.422995385\t,\t0.424780646\t]\t,\n",
    "[\t0.697183099\t,\t0.223256598\t,\t0.311558554\t,\t0.422995385\t,\t0.424780646\t,\t0.322057108\t]\t,\n",
    "[\t0.971830986\t,\t0.241974687\t,\t0.422995385\t,\t0.424780646\t,\t0.322057108\t,\t0.460465588\t]\t,\n",
    "[\t0.591549296\t,\t0.365733465\t,\t0.424780646\t,\t0.322057108\t,\t0.460465588\t,\t0.166688644\t]\t,\n",
    "[\t0.281690141\t,\t0.552558994\t,\t0.322057108\t,\t0.460465588\t,\t0.166688644\t,\t0.401744687\t]\t,\n",
    "[\t0.26056338\t,\t0.370023519\t,\t0.460465588\t,\t0.166688644\t,\t0.401744687\t,\t0.316478166\t]\t,\n",
    "[\t0.464788732\t,\t0.332531703\t,\t0.166688644\t,\t0.401744687\t,\t0.316478166\t,\t0.270862707\t]\t,\n",
    "[\t0.992957746\t,\t0.387887522\t,\t0.401744687\t,\t0.316478166\t,\t0.270862707\t,\t0.312512045\t]\t,\n",
    "[\t0.676056338\t,\t0.398363943\t,\t0.316478166\t,\t0.270862707\t,\t0.312512045\t,\t0.369092661\t]\t,\n",
    "[\t0.253521127\t,\t0.284826299\t,\t0.270862707\t,\t0.312512045\t,\t0.369092661\t,\t0.205751382\t]\t,\n",
    "[\t0.450704225\t,\t0.186735022\t,\t0.312512045\t,\t0.369092661\t,\t0.205751382\t,\t0.176193133\t]\t,\n",
    "[\t0\t,\t0.182694768\t,\t0.369092661\t,\t0.205751382\t,\t0.176193133\t,\t0.290419435\t]\t,\n",
    "[\t0.485915493\t,\t0.255617002\t,\t0.205751382\t,\t0.176193133\t,\t0.290419435\t,\t0.24090886\t]\t,\n",
    "[\t0.781690141\t,\t0.23597043\t,\t0.176193133\t,\t0.290419435\t,\t0.24090886\t,\t0.27408835\t]\t,\n",
    "[\t0.802816901\t,\t0.164134134\t,\t0.290419435\t,\t0.24090886\t,\t0.27408835\t,\t0.370908353\t]\t,\n",
    "[\t0.302816901\t,\t0.178176635\t,\t0.24090886\t,\t0.27408835\t,\t0.370908353\t,\t0.05869047\t]\t,\n",
    "[\t0.471830986\t,\t0.163956101\t,\t0.27408835\t,\t0.370908353\t,\t0.05869047\t,\t0.400324593\t]\t,\n",
    "[\t0.415492958\t,\t0.133241484\t,\t0.370908353\t,\t0.05869047\t,\t0.400324593\t,\t0.289993407\t]\t,\n",
    "[\t0.647887324\t,\t0.226399017\t,\t0.05869047\t,\t0.400324593\t,\t0.289993407\t,\t0.307714155\t]\t,\n",
    "[\t0.612676056\t,\t0.255013861\t,\t0.400324593\t,\t0.289993407\t,\t0.307714155\t,\t0.429152508\t]\t,\n",
    "[\t1\t,\t0.23708614\t,\t0.289993407\t,\t0.307714155\t,\t0.429152508\t,\t0.440624842\t]\t,\n",
    "[\t0.478873239\t,\t0.231651119\t,\t0.307714155\t,\t0.429152508\t,\t0.440624842\t,\t0.358046356\t]\t,\n",
    "[\t0.302816901\t,\t0.233067608\t,\t0.429152508\t,\t0.440624842\t,\t0.358046356\t,\t0.295724502\t]\t,\n",
    "[\t0.38028169\t,\t0.221173719\t,\t0.440624842\t,\t0.358046356\t,\t0.295724502\t,\t0.491413501\t]\t,\n",
    "[\t0.591549296\t,\t0.22633168\t,\t0.358046356\t,\t0.295724502\t,\t0.491413501\t,\t0.356240807\t]\t,\n",
    "[\t0.802816901\t,\t0.218698642\t,\t0.295724502\t,\t0.491413501\t,\t0.356240807\t,\t0.541055942\t]\t,\n",
    "[\t0.471830986\t,\t0.232032203\t,\t0.491413501\t,\t0.356240807\t,\t0.541055942\t,\t0.157529036\t]\t,\n",
    "[\t0.267605634\t,\t0.231947948\t,\t0.356240807\t,\t0.541055942\t,\t0.157529036\t,\t0.55294416\t]\t,\n",
    "[\t0.408450704\t,\t0.221547817\t,\t0.541055942\t,\t0.157529036\t,\t0.55294416\t,\t0.514337881\t]\t,\n",
    "[\t0.323943662\t,\t0.287958581\t,\t0.157529036\t,\t0.55294416\t,\t0.514337881\t,\t0.441213166\t]\t,\n",
    "[\t0.457746479\t,\t0.28837327\t,\t0.55294416\t,\t0.514337881\t,\t0.441213166\t,\t0.58940001\t]\t,\n",
    "[\t0.816901408\t,\t0.297145757\t,\t0.514337881\t,\t0.441213166\t,\t0.58940001\t,\t0.677070548\t]\t,\n",
    "[\t0.753521127\t,\t0.243669818\t,\t0.441213166\t,\t0.58940001\t,\t0.677070548\t,\t0.67615763\t]\t,\n",
    "[\t0.436619718\t,\t0.307437314\t,\t0.58940001\t,\t0.677070548\t,\t0.67615763\t,\t0.696941725\t]\t,\n",
    "[\t0.457746479\t,\t0.358597855\t,\t0.677070548\t,\t0.67615763\t,\t0.696941725\t,\t0.582938581\t]\t,\n",
    "[\t0.387323944\t,\t0.372181217\t,\t0.67615763\t,\t0.696941725\t,\t0.582938581\t,\t0.611147741\t]\t,\n",
    "[\t0.464788732\t,\t0.450259481\t,\t0.696941725\t,\t0.582938581\t,\t0.611147741\t,\t0.783455901\t]\t,\n",
    "[\t0.732394366\t,\t0.443095634\t,\t0.582938581\t,\t0.611147741\t,\t0.783455901\t,\t0.935669727\t]\t,\n",
    "[\t0.514084507\t,\t0.558155976\t,\t0.611147741\t,\t0.783455901\t,\t0.935669727\t,\t0.286990922\t]\t,\n",
    "[\t0.281690141\t,\t0.602359827\t,\t0.783455901\t,\t0.935669727\t,\t0.286990922\t,\t1\t]\t,\n",
    "[\t0.190140845\t,\t0.696291723\t,\t0.935669727\t,\t0.286990922\t,\t1\t,\t0.849977177\t]\t,\n",
    "[\t0.514084507\t,\t0.790604671\t,\t0.286990922\t,\t1\t,\t0.849977177\t,\t0.626008013\t]\t,\n",
    "[\t0.507042254\t,\t0.644022227\t,\t1\t,\t0.849977177\t,\t0.626008013\t,\t0.936146473\t]\t,\n",
    "[\t0.753521127\t,\t0.583228643\t,\t0.849977177\t,\t0.626008013\t,\t0.936146473\t,\t0.858467312\t]\t,\n",
    "[\t0.542253521\t,\t0.481715009\t,\t0.626008013\t,\t0.936146473\t,\t0.858467312\t,\t0.702581529\t]\t,\n",
    "\n",
    ")\n",
    ", dtype=float)\n",
    "trainY = np.array(([\t0.322057108\t]\t,\n",
    "[\t0.460465588\t]\t,\n",
    "[\t0.166688644\t]\t,\n",
    "[\t0.401744687\t]\t,\n",
    "[\t0.316478166\t]\t,\n",
    "[\t0.270862707\t]\t,\n",
    "[\t0.312512045\t]\t,\n",
    "[\t0.369092661\t]\t,\n",
    "[\t0.205751382\t]\t,\n",
    "[\t0.176193133\t]\t,\n",
    "[\t0.290419435\t]\t,\n",
    "[\t0.24090886\t]\t,\n",
    "[\t0.27408835\t]\t,\n",
    "[\t0.370908353\t]\t,\n",
    "[\t0.05869047\t]\t,\n",
    "[\t0.400324593\t]\t,\n",
    "[\t0.289993407\t]\t,\n",
    "[\t0.307714155\t]\t,\n",
    "[\t0.429152508\t]\t,\n",
    "[\t0.440624842\t]\t,\n",
    "[\t0.358046356\t]\t,\n",
    "[\t0.295724502\t]\t,\n",
    "[\t0.491413501\t]\t,\n",
    "[\t0.356240807\t]\t,\n",
    "[\t0.541055942\t]\t,\n",
    "[\t0.157529036\t]\t,\n",
    "[\t0.55294416\t]\t,\n",
    "[\t0.514337881\t]\t,\n",
    "[\t0.441213166\t]\t,\n",
    "[\t0.58940001\t]\t,\n",
    "[\t0.677070548\t]\t,\n",
    "[\t0.67615763\t]\t,\n",
    "[\t0.696941725\t]\t,\n",
    "[\t0.582938581\t]\t,\n",
    "[\t0.611147741\t]\t,\n",
    "[\t0.783455901\t]\t,\n",
    "[\t0.935669727\t]\t,\n",
    "[\t0.286990922\t]\t,\n",
    "[\t1\t]\t,\n",
    "[\t0.849977177\t]\t,\n",
    "[\t0.626008013\t]\t,\n",
    "[\t0.936146473\t]\t,\n",
    "[\t0.858467312\t]\t,\n",
    "[\t0.702581529\t]\t,\n",
    "[\t0.664685297\t]\t,\n",
    "\n",
    ")\n",
    ", dtype=float)\n",
    "\n",
    "#Testing Data:\n",
    "testX = np.array(([\t0.26056338\t,\t0.442812107\t,\t0.936146473\t,\t0.858467312\t,\t0.702581529\t,\t0.664685297\t]\t,\n",
    "[\t0.394366197\t,\t0.496270585\t,\t0.858467312\t,\t0.702581529\t,\t0.664685297\t,\t0.384176092\t]\t,\n",
    "[\t0.626760563\t,\t0.475463393\t,\t0.702581529\t,\t0.664685297\t,\t0.384176092\t,\t0.50844449\t]\t,\n",
    "[\t0.795774648\t,\t0.551559791\t,\t0.664685297\t,\t0.384176092\t,\t0.50844449\t,\t0.706050616\t]\t,\n",
    "[\t0.704225352\t,\t0.500994351\t,\t0.384176092\t,\t0.50844449\t,\t0.706050616\t,\t0.625663133\t]\t,\n",
    "[\t0.535211268\t,\t0.445458587\t,\t0.50844449\t,\t0.706050616\t,\t0.625663133\t,\t0.310067454\t]\t,\n",
    "[\t0.401408451\t,\t0.505711667\t,\t0.706050616\t,\t0.625663133\t,\t0.310067454\t,\t0.718151849\t]\t,\n",
    "[\t0.126760563\t,\t0.465889036\t,\t0.625663133\t,\t0.310067454\t,\t0.718151849\t,\t0.581295329\t]\t,\n",
    "[\t0.330985915\t,\t0.46785659\t,\t0.310067454\t,\t0.718151849\t,\t0.581295329\t,\t0.590840392\t]\t,\n",
    "[\t0.415492958\t,\t0.453001423\t,\t0.718151849\t,\t0.581295329\t,\t0.590840392\t,\t0.641121875\t]\t,\n",
    "[\t0.556338028\t,\t0.437411724\t,\t0.581295329\t,\t0.590840392\t,\t0.641121875\t,\t0.700096364\t]\t,\n",
    "[\t0.591549296\t,\t0.350673696\t,\t0.590840392\t,\t0.641121875\t,\t0.700096364\t,\t0.614971852\t]\t,\n",
    "[\t0.514084507\t,\t0.364031312\t,\t0.641121875\t,\t0.700096364\t,\t0.614971852\t,\t0.591377999\t]\t,\n",
    "\n",
    ")\n",
    ", dtype=float)\n",
    "testY = np.array(([\t0.384176092\t]\t,\n",
    "[\t0.50844449\t]\t,\n",
    "[\t0.706050616\t]\t,\n",
    "[\t0.625663133\t]\t,\n",
    "[\t0.310067454\t]\t,\n",
    "[\t0.718151849\t]\t,\n",
    "[\t0.581295329\t]\t,\n",
    "[\t0.590840392\t]\t,\n",
    "[\t0.641121875\t]\t,\n",
    "[\t0.700096364\t]\t,\n",
    "[\t0.614971852\t]\t,\n",
    "[\t0.591377999\t]\t,\n",
    "[\t0.32\t]\t,\n",
    "\n",
    ")\n",
    ", dtype=float)\n",
    "\n",
    "\n",
    "dataprediksi = np.array(([\t0.387323944\t,\t0.795380412\t,\t0.700096364\t,\t0.614971852\t,\t0.591377999\t,\t0.32\t]\t,\n",
    "[\t0.373239437\t,\t1\t,\t0.614971852\t,\t0.591377999\t,\t0.32\t,\t0.50\t]\t,\n",
    "[\t0.366197183\t,\t0.707681705\t,\t0.591377999\t,\t0.32\t,\t0.50\t,\t0.415539889\t]\t,\n",
    "[\t0.443661972\t,\t0.491695324\t,\t0.32\t,\t0.50\t,\t0.415539889\t,\t0\t]\t,\n",
    "\n",
    "\n",
    "), dtype=float)"
   ]
  },
  {
   "cell_type": "code",
   "execution_count": 15,
   "metadata": {},
   "outputs": [
    {
     "data": {
      "text/plain": [
       "array([[0.26056338, 0.44281211, 0.93614647, 0.85846731, 0.70258153,\n",
       "        0.6646853 ],\n",
       "       [0.3943662 , 0.49627058, 0.85846731, 0.70258153, 0.6646853 ,\n",
       "        0.38417609],\n",
       "       [0.62676056, 0.47546339, 0.70258153, 0.6646853 , 0.38417609,\n",
       "        0.50844449],\n",
       "       [0.79577465, 0.55155979, 0.6646853 , 0.38417609, 0.50844449,\n",
       "        0.70605062],\n",
       "       [0.70422535, 0.50099435, 0.38417609, 0.50844449, 0.70605062,\n",
       "        0.62566313],\n",
       "       [0.53521127, 0.44545859, 0.50844449, 0.70605062, 0.62566313,\n",
       "        0.31006745],\n",
       "       [0.40140845, 0.50571167, 0.70605062, 0.62566313, 0.31006745,\n",
       "        0.71815185],\n",
       "       [0.12676056, 0.46588904, 0.62566313, 0.31006745, 0.71815185,\n",
       "        0.58129533],\n",
       "       [0.33098592, 0.46785659, 0.31006745, 0.71815185, 0.58129533,\n",
       "        0.59084039],\n",
       "       [0.41549296, 0.45300142, 0.71815185, 0.58129533, 0.59084039,\n",
       "        0.64112187],\n",
       "       [0.55633803, 0.43741172, 0.58129533, 0.59084039, 0.64112187,\n",
       "        0.70009636],\n",
       "       [0.5915493 , 0.3506737 , 0.59084039, 0.64112187, 0.70009636,\n",
       "        0.61497185],\n",
       "       [0.51408451, 0.36403131, 0.64112187, 0.70009636, 0.61497185,\n",
       "        0.591378  ]])"
      ]
     },
     "execution_count": 15,
     "metadata": {},
     "output_type": "execute_result"
    }
   ],
   "source": [
    "testX"
   ]
  },
  {
   "cell_type": "code",
   "execution_count": 16,
   "metadata": {},
   "outputs": [],
   "source": [
    "##Need to modify trainer class a bit to check testing error during training:\n",
    "class trainer(object):\n",
    "    def __init__(self, N):\n",
    "        #Make Local reference to network:\n",
    "        self.N = N\n",
    "        \n",
    "    def callbackF(self, params):\n",
    "        self.N.setParams(params)\n",
    "        self.J.append(self.N.costFunction(self.X, self.y))\n",
    "        self.testJ.append(self.N.costFunction(self.testX, self.testY))\n",
    "        \n",
    "    def costFunctionWrapper(self, params, X, y):\n",
    "        self.N.setParams(params)\n",
    "        cost = self.N.costFunction(X, y)\n",
    "        grad = self.N.computeGradients(X,y)\n",
    "        \n",
    "        return cost, grad\n",
    "        \n",
    "    def train(self, trainX, trainY, testX, testY):\n",
    "        #Make an internal variable for the callback function:\n",
    "        self.X = trainX\n",
    "        self.y = trainY\n",
    "        \n",
    "        self.testX = testX\n",
    "        self.testY = testY\n",
    "\n",
    "        #Make empty list to store training costs:\n",
    "        self.J = []\n",
    "        self.testJ = []\n",
    "        \n",
    "        params0 = self.N.getParams()\n",
    "\n",
    "        options = {'maxiter': 100, 'disp' : True}\n",
    "        _res = optimize.minimize(self.costFunctionWrapper, params0, jac=True, method='BFGS', \\\n",
    "                                 args=(trainX, trainY), options=options, callback=self.callbackF)\n",
    "\n",
    "        self.N.setParams(_res.x)\n",
    "        self.optimizationResults = _res"
   ]
  },
  {
   "cell_type": "code",
   "execution_count": 17,
   "metadata": {},
   "outputs": [
    {
     "name": "stdout",
     "output_type": "stream",
     "text": [
      "Warning: Maximum number of iterations has been exceeded.\n",
      "         Current function value: 0.168613\n",
      "         Iterations: 100\n",
      "         Function evaluations: 110\n",
      "         Gradient evaluations: 110\n"
     ]
    }
   ],
   "source": [
    "#Train network with new data:\n",
    "NN = Neural_Network()\n",
    "\n",
    "T = trainer(NN)\n",
    "T.train(trainX, trainY, testX, testY)"
   ]
  },
  {
   "cell_type": "code",
   "execution_count": 18,
   "metadata": {},
   "outputs": [
    {
     "data": {
      "image/png": "[encoded data removed]",
      "text/plain": [
       "<Figure size 432x288 with 1 Axes>"
      ]
     },
     "metadata": {
      "needs_background": "light"
     },
     "output_type": "display_data"
    }
   ],
   "source": [
    "#Plot cost during training:\n",
    "plot.plot(T.J)\n",
    "plot.plot(T.testJ)\n",
    "plot.grid(1)\n",
    "plot.xlabel('Iterations')\n",
    "plot.ylabel('Cost')\n",
    "plot.legend(['Training', 'Testing'])\n",
    "plot.show()"
   ]
  },
  {
   "cell_type": "code",
   "execution_count": 19,
   "metadata": {},
   "outputs": [
    {
     "data": {
      "text/plain": [
       "[array([1.30068297]),\n",
       " array([0.93142819]),\n",
       " array([0.79264023]),\n",
       " array([0.68822189]),\n",
       " array([0.57575789]),\n",
       " array([0.55098843]),\n",
       " array([0.5274133]),\n",
       " array([0.48943438]),\n",
       " array([0.46442086]),\n",
       " array([0.43485]),\n",
       " array([0.40759057]),\n",
       " array([0.38246308]),\n",
       " array([0.3713587]),\n",
       " array([0.36116475]),\n",
       " array([0.35408043]),\n",
       " array([0.35282091]),\n",
       " array([0.35056067]),\n",
       " array([0.34670781]),\n",
       " array([0.34124091]),\n",
       " array([0.33787011]),\n",
       " array([0.33357093]),\n",
       " array([0.32925703]),\n",
       " array([0.32378045]),\n",
       " array([0.3198091]),\n",
       " array([0.31721849]),\n",
       " array([0.31427762]),\n",
       " array([0.31116533]),\n",
       " array([0.30825087]),\n",
       " array([0.30580743]),\n",
       " array([0.30320911]),\n",
       " array([0.30186255]),\n",
       " array([0.30058485]),\n",
       " array([0.29854804]),\n",
       " array([0.29645408]),\n",
       " array([0.29537563]),\n",
       " array([0.29446033]),\n",
       " array([0.29376666]),\n",
       " array([0.29260148]),\n",
       " array([0.29069651]),\n",
       " array([0.28852401]),\n",
       " array([0.28763778]),\n",
       " array([0.28659997]),\n",
       " array([0.28603358]),\n",
       " array([0.28504943]),\n",
       " array([0.2833644]),\n",
       " array([0.28103765]),\n",
       " array([0.27876123]),\n",
       " array([0.27638104]),\n",
       " array([0.2729287]),\n",
       " array([0.26825431]),\n",
       " array([0.26136133]),\n",
       " array([0.25505042]),\n",
       " array([0.2532971]),\n",
       " array([0.25303424]),\n",
       " array([0.25256744]),\n",
       " array([0.25175198]),\n",
       " array([0.2503889]),\n",
       " array([0.24829128]),\n",
       " array([0.24540459]),\n",
       " array([0.24241066]),\n",
       " array([0.23829778]),\n",
       " array([0.23381073]),\n",
       " array([0.23274182]),\n",
       " array([0.23216533]),\n",
       " array([0.23124863]),\n",
       " array([0.22965964]),\n",
       " array([0.2271537]),\n",
       " array([0.22322818]),\n",
       " array([0.21955487]),\n",
       " array([0.21823725]),\n",
       " array([0.2164948]),\n",
       " array([0.21495724]),\n",
       " array([0.21398287]),\n",
       " array([0.21260244]),\n",
       " array([0.21081498]),\n",
       " array([0.20792039]),\n",
       " array([0.20395965]),\n",
       " array([0.20174647]),\n",
       " array([0.19921304]),\n",
       " array([0.19789953]),\n",
       " array([0.19727055]),\n",
       " array([0.19622549]),\n",
       " array([0.19452355]),\n",
       " array([0.19217718]),\n",
       " array([0.19023225]),\n",
       " array([0.18760569]),\n",
       " array([0.18593983]),\n",
       " array([0.18502508]),\n",
       " array([0.18446402]),\n",
       " array([0.18418248]),\n",
       " array([0.18372061]),\n",
       " array([0.18291766]),\n",
       " array([0.18158688]),\n",
       " array([0.17963071]),\n",
       " array([0.17745813]),\n",
       " array([0.17437872]),\n",
       " array([0.17272605]),\n",
       " array([0.17043523]),\n",
       " array([0.16916505]),\n",
       " array([0.16861314])]"
      ]
     },
     "execution_count": 19,
     "metadata": {},
     "output_type": "execute_result"
    }
   ],
   "source": [
    "T.J"
   ]
  },
  {
   "cell_type": "code",
   "execution_count": 20,
   "metadata": {},
   "outputs": [
    {
     "data": {
      "text/plain": [
       "[array([0.33819443]),\n",
       " array([0.18916]),\n",
       " array([0.21080421]),\n",
       " array([0.16416207]),\n",
       " array([0.18130734]),\n",
       " array([0.19960833]),\n",
       " array([0.20972926]),\n",
       " array([0.23018399]),\n",
       " array([0.24808684]),\n",
       " array([0.25925641]),\n",
       " array([0.20687269]),\n",
       " array([0.2133515]),\n",
       " array([0.21821718]),\n",
       " array([0.21880334]),\n",
       " array([0.23139701]),\n",
       " array([0.2412627]),\n",
       " array([0.24320613]),\n",
       " array([0.24448043]),\n",
       " array([0.25682666]),\n",
       " array([0.26398412]),\n",
       " array([0.27183934]),\n",
       " array([0.27236259]),\n",
       " array([0.27692419]),\n",
       " array([0.2688787]),\n",
       " array([0.26371969]),\n",
       " array([0.25743811]),\n",
       " array([0.26090357]),\n",
       " array([0.26153311]),\n",
       " array([0.28993773]),\n",
       " array([0.2813496]),\n",
       " array([0.28073902]),\n",
       " array([0.27800693]),\n",
       " array([0.27392102]),\n",
       " array([0.2698729]),\n",
       " array([0.26097052]),\n",
       " array([0.26777819]),\n",
       " array([0.27168493]),\n",
       " array([0.27754508]),\n",
       " array([0.28174448]),\n",
       " array([0.28311675]),\n",
       " array([0.28384839]),\n",
       " array([0.28058433]),\n",
       " array([0.28273367]),\n",
       " array([0.28256881]),\n",
       " array([0.28517662]),\n",
       " array([0.28467338]),\n",
       " array([0.28755959]),\n",
       " array([0.277479]),\n",
       " array([0.28828644]),\n",
       " array([0.29188064]),\n",
       " array([0.30698737]),\n",
       " array([0.29716478]),\n",
       " array([0.29924494]),\n",
       " array([0.29892233]),\n",
       " array([0.29961716]),\n",
       " array([0.29929078]),\n",
       " array([0.299927]),\n",
       " array([0.30182591]),\n",
       " array([0.30585629]),\n",
       " array([0.30827015]),\n",
       " array([0.31876932]),\n",
       " array([0.33051527]),\n",
       " array([0.33624945]),\n",
       " array([0.33669265]),\n",
       " array([0.33695773]),\n",
       " array([0.33838812]),\n",
       " array([0.34134277]),\n",
       " array([0.34808389]),\n",
       " array([0.34584412]),\n",
       " array([0.3464465]),\n",
       " array([0.35314415]),\n",
       " array([0.34658624]),\n",
       " array([0.34975024]),\n",
       " array([0.35189845]),\n",
       " array([0.35143464]),\n",
       " array([0.34687122]),\n",
       " array([0.34726046]),\n",
       " array([0.33182704]),\n",
       " array([0.33518571]),\n",
       " array([0.33289778]),\n",
       " array([0.33822781]),\n",
       " array([0.34089096]),\n",
       " array([0.34500004]),\n",
       " array([0.36304175]),\n",
       " array([0.38018311]),\n",
       " array([0.39976162]),\n",
       " array([0.40798992]),\n",
       " array([0.40079605]),\n",
       " array([0.40022329]),\n",
       " array([0.40177998]),\n",
       " array([0.40268254]),\n",
       " array([0.40527392]),\n",
       " array([0.41120182]),\n",
       " array([0.42602378]),\n",
       " array([0.44642331]),\n",
       " array([0.47554282]),\n",
       " array([0.48704085]),\n",
       " array([0.49901037]),\n",
       " array([0.49919851]),\n",
       " array([0.50843101])]"
      ]
     },
     "execution_count": 20,
     "metadata": {},
     "output_type": "execute_result"
    }
   ],
   "source": [
    "T.testJ"
   ]
  },
  {
   "cell_type": "code",
   "execution_count": 21,
   "metadata": {},
   "outputs": [
    {
     "data": {
      "text/plain": [
       "0.1417611975431348"
      ]
     },
     "execution_count": 21,
     "metadata": {},
     "output_type": "execute_result"
    }
   ],
   "source": [
    "from sklearn.metrics import mean_absolute_error\n",
    "mean_absolute_error(T.J, T.testJ)"
   ]
  },
  {
   "cell_type": "code",
   "execution_count": 22,
   "metadata": {},
   "outputs": [],
   "source": [
    "yHat = NN.forward(X)"
   ]
  },
  {
   "cell_type": "code",
   "execution_count": 23,
   "metadata": {},
   "outputs": [
    {
     "data": {
      "text/plain": [
       "array([[0.38050579],\n",
       "       [0.36026537],\n",
       "       [0.23045391],\n",
       "       [0.40684809],\n",
       "       [0.30797572],\n",
       "       [0.24789911],\n",
       "       [0.31916911],\n",
       "       [0.38252488],\n",
       "       [0.22026289],\n",
       "       [0.24782966],\n",
       "       [0.2049186 ],\n",
       "       [0.25315407],\n",
       "       [0.24581656],\n",
       "       [0.36639909],\n",
       "       [0.09581314],\n",
       "       [0.40163925],\n",
       "       [0.29137542],\n",
       "       [0.32079096],\n",
       "       [0.40970477],\n",
       "       [0.35677517],\n",
       "       [0.37932845],\n",
       "       [0.45036506],\n",
       "       [0.59401458],\n",
       "       [0.50227231],\n",
       "       [0.45030586],\n",
       "       [0.12277754],\n",
       "       [0.50898453],\n",
       "       [0.494242  ],\n",
       "       [0.37928006],\n",
       "       [0.55719747],\n",
       "       [0.6100436 ],\n",
       "       [0.53314587],\n",
       "       [0.52414227],\n",
       "       [0.60982961],\n",
       "       [0.68607656],\n",
       "       [0.71226421],\n",
       "       [0.72839219],\n",
       "       [0.61447256],\n",
       "       [0.95487346],\n",
       "       [0.85318862],\n",
       "       [0.62417396],\n",
       "       [0.99147452],\n",
       "       [0.82771168],\n",
       "       [0.71880195],\n",
       "       [0.6903679 ],\n",
       "       [0.74209849],\n",
       "       [0.94944204],\n",
       "       [0.94422216],\n",
       "       [0.87647342],\n",
       "       [0.7826173 ],\n",
       "       [0.90766469],\n",
       "       [0.92035969],\n",
       "       [0.61763096],\n",
       "       [0.8514058 ],\n",
       "       [0.81695252],\n",
       "       [0.72590605],\n",
       "       [0.6422469 ],\n",
       "       [0.67633364]])"
      ]
     },
     "execution_count": 23,
     "metadata": {},
     "output_type": "execute_result"
    }
   ],
   "source": [
    "yHat"
   ]
  },
  {
   "cell_type": "code",
   "execution_count": 24,
   "metadata": {},
   "outputs": [
    {
     "data": {
      "text/plain": [
       "array([[0.32205711],\n",
       "       [0.46046559],\n",
       "       [0.16668864],\n",
       "       [0.40174469],\n",
       "       [0.31647817],\n",
       "       [0.27086271],\n",
       "       [0.31251205],\n",
       "       [0.36909266],\n",
       "       [0.20575138],\n",
       "       [0.17619313],\n",
       "       [0.29041944],\n",
       "       [0.24090886],\n",
       "       [0.27408835],\n",
       "       [0.37090835],\n",
       "       [0.05869047],\n",
       "       [0.40032459],\n",
       "       [0.28999341],\n",
       "       [0.30771415],\n",
       "       [0.42915251],\n",
       "       [0.44062484],\n",
       "       [0.35804636],\n",
       "       [0.2957245 ],\n",
       "       [0.4914135 ],\n",
       "       [0.35624081],\n",
       "       [0.54105594],\n",
       "       [0.15752904],\n",
       "       [0.55294416],\n",
       "       [0.51433788],\n",
       "       [0.44121317],\n",
       "       [0.58940001],\n",
       "       [0.67707055],\n",
       "       [0.67615763],\n",
       "       [0.69694172],\n",
       "       [0.58293858],\n",
       "       [0.61114774],\n",
       "       [0.7834559 ],\n",
       "       [0.93566973],\n",
       "       [0.28699092],\n",
       "       [1.        ],\n",
       "       [0.84997718],\n",
       "       [0.62600801],\n",
       "       [0.93614647],\n",
       "       [0.85846731],\n",
       "       [0.70258153],\n",
       "       [0.6646853 ],\n",
       "       [0.38417609],\n",
       "       [0.50844449],\n",
       "       [0.70605062],\n",
       "       [0.62566313],\n",
       "       [0.31006745],\n",
       "       [0.71815185],\n",
       "       [0.58129533],\n",
       "       [0.59084039],\n",
       "       [0.64112187],\n",
       "       [0.70009636],\n",
       "       [0.61497185],\n",
       "       [0.591378  ],\n",
       "       [0.32      ]])"
      ]
     },
     "execution_count": 24,
     "metadata": {},
     "output_type": "execute_result"
    }
   ],
   "source": [
    "y"
   ]
  },
  {
   "cell_type": "code",
   "execution_count": 25,
   "metadata": {},
   "outputs": [
    {
     "data": {
      "text/plain": [
       "0.023346350025994726"
      ]
     },
     "execution_count": 25,
     "metadata": {},
     "output_type": "execute_result"
    }
   ],
   "source": [
    "from sklearn.metrics import mean_squared_error \n",
    "mean_squared_error(y,yHat) "
   ]
  },
  {
   "cell_type": "code",
   "execution_count": 26,
   "metadata": {},
   "outputs": [
    {
     "data": {
      "image/png": "[encoded data removed]",
      "text/plain": [
       "<Figure size 432x288 with 1 Axes>"
      ]
     },
     "metadata": {
      "needs_background": "light"
     },
     "output_type": "display_data"
    }
   ],
   "source": [
    "#Plot cost during training:\n",
    "plot.plot(y)\n",
    "plot.plot(yHat)\n",
    "plot.grid(1)\n",
    "plot.legend(['y', 'yHat'])\n",
    "plot.show()"
   ]
  },
  {
   "cell_type": "code",
   "execution_count": 27,
   "metadata": {},
   "outputs": [],
   "source": [
    "#Regularization Parameter:\n",
    "Lambda = 0.0001"
   ]
  },
  {
   "cell_type": "code",
   "execution_count": 28,
   "metadata": {},
   "outputs": [],
   "source": [
    "#Need to make changes to costFunction and costFunctionPrim:\n",
    "def costFunction(self, X, y):\n",
    "    #Compute cost for given X,y, use weights already stored in class.\n",
    "    self.yHat = self.forward(X)\n",
    "    #We don't want cost to increase with the number of examples, so normalize by dividing the error term by number of examples(X.shape[0])\n",
    "    J = 0.5*sum((y-self.yHat)**2)/X.shape[0] + (self.Lambda/2)*(sum(self.W1**2)+sum(self.W2**2))\n",
    "    return J\n",
    "\n",
    "def costFunctionPrime(self, X, y):\n",
    "    #Compute derivative with respect to W and W2 for a given X and y:\n",
    "    self.yHat = self.forward(X)\n",
    "\n",
    "    delta3 = np.multiply(-(y-self.yHat), self.tanhPrime(self.z3))\n",
    "    #Add gradient of regularization term:\n",
    "    dJdW2 = np.dot(self.a2.T, delta3)/X.shape[0] + self.Lambda*self.W2\n",
    "\n",
    "    delta2 = np.dot(delta3, self.W2.T)*self.tanhPrime(self.z2)\n",
    "    #Add gradient of regularization term:\n",
    "    dJdW1 = np.dot(X.T, delta2)/X.shape[0] + self.Lambda*self.W1\n",
    "\n",
    "    return dJdW1, dJdW2"
   ]
  },
  {
   "cell_type": "code",
   "execution_count": 29,
   "metadata": {},
   "outputs": [],
   "source": [
    "#New complete class, with changes:\n",
    "class Neural_Network(object):\n",
    "    def __init__(self, Lambda=0.0001):        \n",
    "        #Define Hyperparameters\n",
    "        self.inputLayerSize = 6\n",
    "        self.outputLayerSize = 1\n",
    "        self.hiddenLayerSize = 4\n",
    "        \n",
    "        #Weights (parameters)\n",
    "        self.W1 = np.random.randn(self.inputLayerSize,self.hiddenLayerSize)\n",
    "        self.W2 = np.random.randn(self.hiddenLayerSize,self.outputLayerSize)\n",
    "        \n",
    "        #Regularization Parameter:\n",
    "        self.Lambda = Lambda\n",
    "        \n",
    "    def forward(self, X):\n",
    "        #Propogate inputs though network\n",
    "        self.z2 = np.dot(X, self.W1)\n",
    "        self.a2 = self.tanh(self.z2)\n",
    "        self.z3 = np.dot(self.a2, self.W2)\n",
    "        yHat = self.tanh(self.z3) \n",
    "        return yHat\n",
    "        \n",
    "    def tanh(self, z):\n",
    "        # activation function\n",
    "        return (np.exp(z)-np.exp(-z))/(np.exp(z)+np.exp(-z))\n",
    "    \n",
    "    def tanhPrime(self,z): \n",
    "        #derivative of tanh\n",
    "        return 1-((np.exp(z)-np.exp(-z))/(np.exp(z)+np.exp(-z)))**2\n",
    "    \n",
    "    def costFunction(self, X, y):\n",
    "        #Compute cost for given X,y, use weights already stored in class.\n",
    "        self.yHat = self.forward(X)\n",
    "        J = 0.5*sum((y-self.yHat)**2)/X.shape[0] + (self.Lambda/2)*(np.sum(self.W1**2)+np.sum(self.W2**2))\n",
    "        return J\n",
    "        \n",
    "    def costFunctionPrime(self, X, y):\n",
    "        #Compute derivative with respect to W and W2 for a given X and y:\n",
    "        self.yHat = self.forward(X)\n",
    "        \n",
    "        delta3 = np.multiply(-(y-self.yHat), self.tanhPrime(self.z3))\n",
    "        #Add gradient of regularization term:\n",
    "        dJdW2 = np.dot(self.a2.T, delta3)/X.shape[0] + self.Lambda*self.W2\n",
    "        \n",
    "        delta2 = np.dot(delta3, self.W2.T)*self.tanhPrime(self.z2)\n",
    "        #Add gradient of regularization term:\n",
    "        dJdW1 = np.dot(X.T, delta2)/X.shape[0] + self.Lambda*self.W1\n",
    "        \n",
    "        return dJdW1, dJdW2\n",
    "    \n",
    "    def predict(self):\n",
    "        prediksi = self.forward(dataprediksi)\n",
    "        return prediksi\n",
    "    \n",
    "    #Helper functions for interacting with other methods/classes\n",
    "    def getParams(self):\n",
    "        #Get W1 and W2 Rolled into vector:\n",
    "        params = np.concatenate((self.W1.ravel(), self.W2.ravel()))\n",
    "        return params\n",
    "    \n",
    "    def setParams(self, params):\n",
    "        #Set W1 and W2 using single parameter vector:\n",
    "        W1_start = 0\n",
    "        W1_end = self.hiddenLayerSize*self.inputLayerSize\n",
    "        self.W1 = np.reshape(params[W1_start:W1_end], \\\n",
    "                             (self.inputLayerSize, self.hiddenLayerSize))\n",
    "        W2_end = W1_end + self.hiddenLayerSize*self.outputLayerSize\n",
    "        self.W2 = np.reshape(params[W1_end:W2_end], \\\n",
    "                             (self.hiddenLayerSize, self.outputLayerSize))\n",
    "        \n",
    "    def computeGradients(self, X, y):\n",
    "        dJdW1, dJdW2 = self.costFunctionPrime(X, y)\n",
    "        return np.concatenate((dJdW1.ravel(), dJdW2.ravel()))"
   ]
  },
  {
   "cell_type": "code",
   "execution_count": 30,
   "metadata": {},
   "outputs": [],
   "source": [
    "def computeNumericalGradient(N, X, y):\n",
    "    paramsInitial = N.getParams()\n",
    "    numgrad = np.zeros(paramsInitial.shape)\n",
    "    perturb = np.zeros(paramsInitial.shape)\n",
    "    e = 1e-4\n",
    "\n",
    "    for p in range(len(paramsInitial)):\n",
    "        #Set perturbation vector\n",
    "        perturb[p] = e\n",
    "        N.setParams(paramsInitial + perturb)\n",
    "        loss2 = N.costFunction(X, y)\n",
    "            \n",
    "        N.setParams(paramsInitial - perturb)\n",
    "        loss1 = N.costFunction(X, y)\n",
    "\n",
    "        #Compute Numerical Gradient\n",
    "        numgrad[p] = (loss2 - loss1) / (2*e)\n",
    "\n",
    "            #Return the value we changed to zero:\n",
    "        perturb[p] = 0\n",
    "            \n",
    "    #Return Params to original value:\n",
    "    N.setParams(paramsInitial)\n",
    "\n",
    "    return numgrad "
   ]
  },
  {
   "cell_type": "code",
   "execution_count": 31,
   "metadata": {},
   "outputs": [],
   "source": [
    "NN = Neural_Network(Lambda=0.0001)"
   ]
  },
  {
   "cell_type": "code",
   "execution_count": 32,
   "metadata": {},
   "outputs": [],
   "source": [
    "#Make sure our gradients our correct after making changes:\n",
    "numgrad = computeNumericalGradient(NN, X, y)\n",
    "grad = NN.computeGradients(X,y)"
   ]
  },
  {
   "cell_type": "code",
   "execution_count": 33,
   "metadata": {},
   "outputs": [
    {
     "data": {
      "text/plain": [
       "1.038771577298554e-09"
      ]
     },
     "execution_count": 33,
     "metadata": {},
     "output_type": "execute_result"
    }
   ],
   "source": [
    "#Should be less than 1e-8:\n",
    "np.linalg.norm(grad-numgrad)/np.linalg.norm(grad+numgrad)"
   ]
  },
  {
   "cell_type": "code",
   "execution_count": 34,
   "metadata": {},
   "outputs": [],
   "source": [
    "T = trainer(NN)"
   ]
  },
  {
   "cell_type": "code",
   "execution_count": 35,
   "metadata": {},
   "outputs": [
    {
     "name": "stdout",
     "output_type": "stream",
     "text": [
      "Warning: Maximum number of iterations has been exceeded.\n",
      "         Current function value: 0.009342\n",
      "         Iterations: 100\n",
      "         Function evaluations: 107\n",
      "         Gradient evaluations: 107\n"
     ]
    }
   ],
   "source": [
    "T.train(X,y,testX,testY)"
   ]
  },
  {
   "cell_type": "code",
   "execution_count": 36,
   "metadata": {},
   "outputs": [
    {
     "data": {
      "image/png": "[encoded data removed]",
      "text/plain": [
       "<Figure size 432x288 with 1 Axes>"
      ]
     },
     "metadata": {
      "needs_background": "light"
     },
     "output_type": "display_data"
    }
   ],
   "source": [
    "plot.plot(T.J)\n",
    "plot.plot(T.testJ)\n",
    "plot.grid(1)\n",
    "plot.xlabel('Iterations')\n",
    "plot.ylabel('Cost')\n",
    "plot.legend(['Training', 'Testing'])\n",
    "plot.show()"
   ]
  },
  {
   "cell_type": "code",
   "execution_count": 37,
   "metadata": {},
   "outputs": [
    {
     "data": {
      "text/plain": [
       "[array([0.08910507]),\n",
       " array([0.02580961]),\n",
       " array([0.02121742]),\n",
       " array([0.01754448]),\n",
       " array([0.01712746]),\n",
       " array([0.01654041]),\n",
       " array([0.01569244]),\n",
       " array([0.01529874]),\n",
       " array([0.01512402]),\n",
       " array([0.01491924]),\n",
       " array([0.01458622]),\n",
       " array([0.01404353]),\n",
       " array([0.01332566]),\n",
       " array([0.01306521]),\n",
       " array([0.01301114]),\n",
       " array([0.01296324]),\n",
       " array([0.01288514]),\n",
       " array([0.0127811]),\n",
       " array([0.01271648]),\n",
       " array([0.01262052]),\n",
       " array([0.0125359]),\n",
       " array([0.0124956]),\n",
       " array([0.01247993]),\n",
       " array([0.01246716]),\n",
       " array([0.01244457]),\n",
       " array([0.0124035]),\n",
       " array([0.01232872]),\n",
       " array([0.01219794]),\n",
       " array([0.01202189]),\n",
       " array([0.01190315]),\n",
       " array([0.01186626]),\n",
       " array([0.01181985]),\n",
       " array([0.01181092]),\n",
       " array([0.01180179]),\n",
       " array([0.01178536]),\n",
       " array([0.0117561]),\n",
       " array([0.01170627]),\n",
       " array([0.01162787]),\n",
       " array([0.01151429]),\n",
       " array([0.01137433]),\n",
       " array([0.01120434]),\n",
       " array([0.01108302]),\n",
       " array([0.01097085]),\n",
       " array([0.0108372]),\n",
       " array([0.01076418]),\n",
       " array([0.01074435]),\n",
       " array([0.01073016]),\n",
       " array([0.01072394]),\n",
       " array([0.01071644]),\n",
       " array([0.01070378]),\n",
       " array([0.01068067]),\n",
       " array([0.01063752]),\n",
       " array([0.01056317]),\n",
       " array([0.01045926]),\n",
       " array([0.01041939]),\n",
       " array([0.01041301]),\n",
       " array([0.01036218]),\n",
       " array([0.01028221]),\n",
       " array([0.01019383]),\n",
       " array([0.01016846]),\n",
       " array([0.01016125]),\n",
       " array([0.01015069]),\n",
       " array([0.01013705]),\n",
       " array([0.01012348]),\n",
       " array([0.01010025]),\n",
       " array([0.01006043]),\n",
       " array([0.00999363]),\n",
       " array([0.00988124]),\n",
       " array([0.00980772]),\n",
       " array([0.00978217]),\n",
       " array([0.00974339]),\n",
       " array([0.00971744]),\n",
       " array([0.0097119]),\n",
       " array([0.00970646]),\n",
       " array([0.00970395]),\n",
       " array([0.00970002]),\n",
       " array([0.0096975]),\n",
       " array([0.00969689]),\n",
       " array([0.00969579]),\n",
       " array([0.00969375]),\n",
       " array([0.00968988]),\n",
       " array([0.0096826]),\n",
       " array([0.00966911]),\n",
       " array([0.00964501]),\n",
       " array([0.00960508]),\n",
       " array([0.00955035]),\n",
       " array([0.00951024]),\n",
       " array([0.00948865]),\n",
       " array([0.00946017]),\n",
       " array([0.00944296]),\n",
       " array([0.00942821]),\n",
       " array([0.00942073]),\n",
       " array([0.00941756]),\n",
       " array([0.00941605]),\n",
       " array([0.00941372]),\n",
       " array([0.00941033]),\n",
       " array([0.00940468]),\n",
       " array([0.00939452]),\n",
       " array([0.00937576]),\n",
       " array([0.00934155])]"
      ]
     },
     "execution_count": 37,
     "metadata": {},
     "output_type": "execute_result"
    }
   ],
   "source": [
    "T.J"
   ]
  },
  {
   "cell_type": "code",
   "execution_count": 38,
   "metadata": {},
   "outputs": [
    {
     "data": {
      "text/plain": [
       "[array([0.0756441]),\n",
       " array([0.02503469]),\n",
       " array([0.01972078]),\n",
       " array([0.01206964]),\n",
       " array([0.01299102]),\n",
       " array([0.01231441]),\n",
       " array([0.01172151]),\n",
       " array([0.01178931]),\n",
       " array([0.01206703]),\n",
       " array([0.01240116]),\n",
       " array([0.01275709]),\n",
       " array([0.01304151]),\n",
       " array([0.01322721]),\n",
       " array([0.01341697]),\n",
       " array([0.01349791]),\n",
       " array([0.01352251]),\n",
       " array([0.01351198]),\n",
       " array([0.01340373]),\n",
       " array([0.01334634]),\n",
       " array([0.01344479]),\n",
       " array([0.01386211]),\n",
       " array([0.01431591]),\n",
       " array([0.01456797]),\n",
       " array([0.01468343]),\n",
       " array([0.01476602]),\n",
       " array([0.01481716]),\n",
       " array([0.01480748]),\n",
       " array([0.01463055]),\n",
       " array([0.01402448]),\n",
       " array([0.01379921]),\n",
       " array([0.013484]),\n",
       " array([0.01357531]),\n",
       " array([0.0135217]),\n",
       " array([0.01348384]),\n",
       " array([0.01342669]),\n",
       " array([0.01334305]),\n",
       " array([0.0132256]),\n",
       " array([0.01308755]),\n",
       " array([0.01300046]),\n",
       " array([0.01304464]),\n",
       " array([0.01323858]),\n",
       " array([0.01363437]),\n",
       " array([0.01372131]),\n",
       " array([0.0142559]),\n",
       " array([0.01415226]),\n",
       " array([0.01444808]),\n",
       " array([0.01470565]),\n",
       " array([0.01474023]),\n",
       " array([0.01485063]),\n",
       " array([0.01495755]),\n",
       " array([0.01506486]),\n",
       " array([0.01513357]),\n",
       " array([0.01506774]),\n",
       " array([0.01495706]),\n",
       " array([0.01485956]),\n",
       " array([0.01499127]),\n",
       " array([0.01463918]),\n",
       " array([0.01419199]),\n",
       " array([0.01314278]),\n",
       " array([0.01307518]),\n",
       " array([0.01299074]),\n",
       " array([0.01298739]),\n",
       " array([0.01312155]),\n",
       " array([0.01317952]),\n",
       " array([0.01323907]),\n",
       " array([0.01327471]),\n",
       " array([0.013306]),\n",
       " array([0.01320541]),\n",
       " array([0.01283668]),\n",
       " array([0.01210906]),\n",
       " array([0.01210047]),\n",
       " array([0.0124873]),\n",
       " array([0.01221267]),\n",
       " array([0.01233398]),\n",
       " array([0.01236222]),\n",
       " array([0.01241576]),\n",
       " array([0.01248123]),\n",
       " array([0.01249698]),\n",
       " array([0.01251747]),\n",
       " array([0.01252634]),\n",
       " array([0.01252972]),\n",
       " array([0.0125199]),\n",
       " array([0.01248611]),\n",
       " array([0.01240095]),\n",
       " array([0.01222848]),\n",
       " array([0.01189169]),\n",
       " array([0.01158993]),\n",
       " array([0.01115259]),\n",
       " array([0.01079348]),\n",
       " array([0.0104374]),\n",
       " array([0.01037127]),\n",
       " array([0.010509]),\n",
       " array([0.01061518]),\n",
       " array([0.01059538]),\n",
       " array([0.01054982]),\n",
       " array([0.01044871]),\n",
       " array([0.01034475]),\n",
       " array([0.01020284]),\n",
       " array([0.01002312]),\n",
       " array([0.00974661])]"
      ]
     },
     "execution_count": 38,
     "metadata": {},
     "output_type": "execute_result"
    }
   ],
   "source": [
    "T.testJ"
   ]
  },
  {
   "cell_type": "code",
   "execution_count": 39,
   "metadata": {},
   "outputs": [
    {
     "data": {
      "text/plain": [
       "0.0025054109743683313"
      ]
     },
     "execution_count": 39,
     "metadata": {},
     "output_type": "execute_result"
    }
   ],
   "source": [
    "from sklearn.metrics import mean_absolute_error\n",
    "mean_absolute_error(T.J, T.testJ)"
   ]
  },
  {
   "cell_type": "code",
   "execution_count": 40,
   "metadata": {},
   "outputs": [],
   "source": [
    "yHat=NN.forward(X)"
   ]
  },
  {
   "cell_type": "code",
   "execution_count": 41,
   "metadata": {},
   "outputs": [
    {
     "data": {
      "text/plain": [
       "array([[0.40675488],\n",
       "       [0.41340501],\n",
       "       [0.31414625],\n",
       "       [0.44442483],\n",
       "       [0.44700556],\n",
       "       [0.35761012],\n",
       "       [0.38656338],\n",
       "       [0.27946406],\n",
       "       [0.31513294],\n",
       "       [0.391567  ],\n",
       "       [0.34348061],\n",
       "       [0.20315037],\n",
       "       [0.28524103],\n",
       "       [0.24459426],\n",
       "       [0.27284074],\n",
       "       [0.36411893],\n",
       "       [0.29578651],\n",
       "       [0.3315376 ],\n",
       "       [0.27361958],\n",
       "       [0.35415413],\n",
       "       [0.27926044],\n",
       "       [0.4652518 ],\n",
       "       [0.44764024],\n",
       "       [0.42029202],\n",
       "       [0.42933402],\n",
       "       [0.31374753],\n",
       "       [0.49935942],\n",
       "       [0.47356138],\n",
       "       [0.46408562],\n",
       "       [0.51518183],\n",
       "       [0.54954734],\n",
       "       [0.41947814],\n",
       "       [0.46870991],\n",
       "       [0.66998862],\n",
       "       [0.6837947 ],\n",
       "       [0.6534093 ],\n",
       "       [0.64661426],\n",
       "       [0.48881818],\n",
       "       [0.7335862 ],\n",
       "       [0.72864476],\n",
       "       [0.67985263],\n",
       "       [0.76199637],\n",
       "       [0.73278755],\n",
       "       [0.69457913],\n",
       "       [0.76873419],\n",
       "       [0.57784628],\n",
       "       [0.51222836],\n",
       "       [0.59713851],\n",
       "       [0.46976381],\n",
       "       [0.46085203],\n",
       "       [0.64602205],\n",
       "       [0.59010748],\n",
       "       [0.5698797 ],\n",
       "       [0.64779221],\n",
       "       [0.62911699],\n",
       "       [0.61435702],\n",
       "       [0.64462895],\n",
       "       [0.66727496]])"
      ]
     },
     "execution_count": 41,
     "metadata": {},
     "output_type": "execute_result"
    }
   ],
   "source": [
    "yHat"
   ]
  },
  {
   "cell_type": "code",
   "execution_count": 42,
   "metadata": {},
   "outputs": [
    {
     "data": {
      "text/plain": [
       "array([[0.32205711],\n",
       "       [0.46046559],\n",
       "       [0.16668864],\n",
       "       [0.40174469],\n",
       "       [0.31647817],\n",
       "       [0.27086271],\n",
       "       [0.31251205],\n",
       "       [0.36909266],\n",
       "       [0.20575138],\n",
       "       [0.17619313],\n",
       "       [0.29041944],\n",
       "       [0.24090886],\n",
       "       [0.27408835],\n",
       "       [0.37090835],\n",
       "       [0.05869047],\n",
       "       [0.40032459],\n",
       "       [0.28999341],\n",
       "       [0.30771415],\n",
       "       [0.42915251],\n",
       "       [0.44062484],\n",
       "       [0.35804636],\n",
       "       [0.2957245 ],\n",
       "       [0.4914135 ],\n",
       "       [0.35624081],\n",
       "       [0.54105594],\n",
       "       [0.15752904],\n",
       "       [0.55294416],\n",
       "       [0.51433788],\n",
       "       [0.44121317],\n",
       "       [0.58940001],\n",
       "       [0.67707055],\n",
       "       [0.67615763],\n",
       "       [0.69694172],\n",
       "       [0.58293858],\n",
       "       [0.61114774],\n",
       "       [0.7834559 ],\n",
       "       [0.93566973],\n",
       "       [0.28699092],\n",
       "       [1.        ],\n",
       "       [0.84997718],\n",
       "       [0.62600801],\n",
       "       [0.93614647],\n",
       "       [0.85846731],\n",
       "       [0.70258153],\n",
       "       [0.6646853 ],\n",
       "       [0.38417609],\n",
       "       [0.50844449],\n",
       "       [0.70605062],\n",
       "       [0.62566313],\n",
       "       [0.31006745],\n",
       "       [0.71815185],\n",
       "       [0.58129533],\n",
       "       [0.59084039],\n",
       "       [0.64112187],\n",
       "       [0.70009636],\n",
       "       [0.61497185],\n",
       "       [0.591378  ],\n",
       "       [0.32      ]])"
      ]
     },
     "execution_count": 42,
     "metadata": {},
     "output_type": "execute_result"
    }
   ],
   "source": [
    "y"
   ]
  },
  {
   "cell_type": "code",
   "execution_count": 43,
   "metadata": {},
   "outputs": [
    {
     "data": {
      "text/plain": [
       "0.016933210404715418"
      ]
     },
     "execution_count": 43,
     "metadata": {},
     "output_type": "execute_result"
    }
   ],
   "source": [
    "from sklearn.metrics import mean_squared_error \n",
    "mean_squared_error(y,yHat) "
   ]
  },
  {
   "cell_type": "code",
   "execution_count": 44,
   "metadata": {},
   "outputs": [
    {
     "data": {
      "image/png": "[encoded data removed]",
      "text/plain": [
       "<Figure size 432x288 with 1 Axes>"
      ]
     },
     "metadata": {
      "needs_background": "light"
     },
     "output_type": "display_data"
    }
   ],
   "source": [
    "#Plot cost during training:\n",
    "plot.plot(y)\n",
    "plot.plot(yHat)\n",
    "plot.grid(1)\n",
    "plot.legend(['y', 'yHat'])\n",
    "plot.show()"
   ]
  },
  {
   "cell_type": "code",
   "execution_count": 45,
   "metadata": {},
   "outputs": [],
   "source": [
    "prediksi=NN.forward(dataprediksi)"
   ]
  },
  {
   "cell_type": "code",
   "execution_count": 46,
   "metadata": {},
   "outputs": [
    {
     "data": {
      "text/plain": [
       "array([[0.45779582],\n",
       "       [0.51817555],\n",
       "       [0.460396  ],\n",
       "       [0.44080161]])"
      ]
     },
     "execution_count": 46,
     "metadata": {},
     "output_type": "execute_result"
    }
   ],
   "source": [
    "prediksi"
   ]
  },
  {
   "cell_type": "code",
   "execution_count": 47,
   "metadata": {},
   "outputs": [],
   "source": [
    "from sklearn.metrics import mean_squared_error "
   ]
  },
  {
   "cell_type": "code",
   "execution_count": 48,
   "metadata": {},
   "outputs": [
    {
     "data": {
      "text/plain": [
       "0.06660688145735823"
      ]
     },
     "execution_count": 48,
     "metadata": {},
     "output_type": "execute_result"
    }
   ],
   "source": [
    "Y_true= ([\t0.50\t]\t,\n",
    "[\t0.415539889\t]\t,\n",
    "[\t0\t]\t,\n",
    "[\t0.235502358\t]\t,\n",
    "\n",
    ")\n",
    "\n",
    "\n",
    "Y_pred=prediksi\n",
    "mean_squared_error(Y_true,Y_pred) "
   ]
  },
  {
   "cell_type": "code",
   "execution_count": 49,
   "metadata": {},
   "outputs": [
    {
     "data": {
      "text/plain": [
       "array([[0.38732394, 0.79538041, 0.70009636, 0.61497185, 0.591378  ,\n",
       "        0.32      ],\n",
       "       [0.37323944, 1.        , 0.61497185, 0.591378  , 0.32      ,\n",
       "        0.5       ],\n",
       "       [0.36619718, 0.70768171, 0.591378  , 0.32      , 0.5       ,\n",
       "        0.41553989],\n",
       "       [0.44366197, 0.49169532, 0.32      , 0.5       , 0.41553989,\n",
       "        0.        ]])"
      ]
     },
     "execution_count": 49,
     "metadata": {},
     "output_type": "execute_result"
    }
   ],
   "source": [
    "dataprediksi"
   ]
  },
  {
   "cell_type": "code",
   "execution_count": 50,
   "metadata": {},
   "outputs": [],
   "source": [
    "z=np.array([0.6294\t,\t0.4578])"
   ]
  },
  {
   "cell_type": "code",
   "execution_count": 51,
   "metadata": {},
   "outputs": [],
   "source": [
    "y=np.array([0.50\t,\t0.415539889\t,\t0\t,\t0.235502358\t])"
   ]
  },
  {
   "cell_type": "code",
   "execution_count": 52,
   "metadata": {},
   "outputs": [],
   "source": [
    "a=np.concatenate((z,y))"
   ]
  },
  {
   "cell_type": "code",
   "execution_count": 53,
   "metadata": {},
   "outputs": [
    {
     "data": {
      "text/plain": [
       "array([0.32140309])"
      ]
     },
     "execution_count": 53,
     "metadata": {},
     "output_type": "execute_result"
    }
   ],
   "source": [
    "#prediksi 1\n",
    "prediksi=NN.forward(a)\n",
    "prediksi"
   ]
  },
  {
   "cell_type": "code",
   "execution_count": 54,
   "metadata": {},
   "outputs": [
    {
     "data": {
      "text/plain": [
       "array([0.19894492])"
      ]
     },
     "execution_count": 54,
     "metadata": {},
     "output_type": "execute_result"
    }
   ],
   "source": [
    "#prediksi 2\n",
    "c=prediksi\n",
    "z1=np.array([0.6795\t,\t0.4539])\n",
    "b=y[1:]\n",
    "d=np.concatenate((z1,b,c))\n",
    "prediksi=NN.forward(d)\n",
    "prediksi"
   ]
  },
  {
   "cell_type": "code",
   "execution_count": 55,
   "metadata": {},
   "outputs": [
    {
     "data": {
      "text/plain": [
       "array([0.19293973])"
      ]
     },
     "execution_count": 55,
     "metadata": {},
     "output_type": "execute_result"
    }
   ],
   "source": [
    "#prediksi 3\n",
    "c=prediksi\n",
    "z2=np.array([0.5888\t,\t0.4545])\n",
    "b=y[1:]\n",
    "d=np.concatenate((z2,b,c))\n",
    "prediksi=NN.forward(d)\n",
    "prediksi"
   ]
  },
  {
   "cell_type": "code",
   "execution_count": 56,
   "metadata": {},
   "outputs": [
    {
     "data": {
      "text/plain": [
       "array([0.18980691])"
      ]
     },
     "execution_count": 56,
     "metadata": {},
     "output_type": "execute_result"
    }
   ],
   "source": [
    "#prediksi 4\n",
    "c=prediksi\n",
    "z3=np.array([0.527\t,\t0.4555])\n",
    "b=y[1:]\n",
    "d=np.concatenate((z3,b,c))\n",
    "prediksi=NN.forward(d)\n",
    "prediksi"
   ]
  },
  {
   "cell_type": "code",
   "execution_count": 57,
   "metadata": {},
   "outputs": [
    {
     "data": {
      "text/plain": [
       "array([0.18575629])"
      ]
     },
     "execution_count": 57,
     "metadata": {},
     "output_type": "execute_result"
    }
   ],
   "source": [
    "#prediksi 5\n",
    "c=prediksi\n",
    "z4=np.array([0.4745\t,\t0.4564])\n",
    "b=y[1:]\n",
    "d=np.concatenate((z4,b,c))\n",
    "prediksi=NN.forward(d)\n",
    "prediksi"
   ]
  },
  {
   "cell_type": "code",
   "execution_count": 58,
   "metadata": {},
   "outputs": [
    {
     "data": {
      "text/plain": [
       "array([0.1838534])"
      ]
     },
     "execution_count": 58,
     "metadata": {},
     "output_type": "execute_result"
    }
   ],
   "source": [
    "#prediksi 6\n",
    "c=prediksi\n",
    "z5=np.array([0.4621\t,\t0.4571])\n",
    "b=y[1:]\n",
    "d=np.concatenate((z5,b,c))\n",
    "prediksi=NN.forward(d)\n",
    "prediksi"
   ]
  }
 ],
 "metadata": {
  "kernelspec": {
   "display_name": "Python 3",
   "language": "python",
   "name": "python3"
  },
  "language_info": {
   "codemirror_mode": {
    "name": "ipython",
    "version": 3
   },
   "file_extension": ".py",
   "mimetype": "text/x-python",
   "name": "python",
   "nbconvert_exporter": "python",
   "pygments_lexer": "ipython3",
   "version": "3.7.3"
  }
 },
 "nbformat": 4,
 "nbformat_minor": 2
}
