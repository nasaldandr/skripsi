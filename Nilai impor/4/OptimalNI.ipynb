{
 "cells": [
  {
   "cell_type": "code",
   "execution_count": 1,
   "metadata": {},
   "outputs": [
    {
     "name": "stdout",
     "output_type": "stream",
     "text": [
      "Warning: Maximum number of iterations has been exceeded.\n",
      "         Current function value: 0.297742\n",
      "         Iterations: 100\n",
      "         Function evaluations: 102\n",
      "         Gradient evaluations: 102\n"
     ]
    },
    {
     "data": {
      "text/plain": [
       "<Figure size 640x480 with 1 Axes>"
      ]
     },
     "metadata": {},
     "output_type": "display_data"
    },
    {
     "name": "stdout",
     "output_type": "stream",
     "text": [
      "Warning: Maximum number of iterations has been exceeded.\n",
      "         Current function value: 0.262588\n",
      "         Iterations: 100\n",
      "         Function evaluations: 103\n",
      "         Gradient evaluations: 103\n"
     ]
    },
    {
     "data": {
      "text/plain": [
       "<Figure size 640x480 with 1 Axes>"
      ]
     },
     "metadata": {},
     "output_type": "display_data"
    },
    {
     "data": {
      "text/plain": [
       "<Figure size 640x480 with 1 Axes>"
      ]
     },
     "metadata": {},
     "output_type": "display_data"
    }
   ],
   "source": [
    "#Import code from last time\n",
    "%run NI5-8.ipynb"
   ]
  },
  {
   "cell_type": "code",
   "execution_count": 2,
   "metadata": {},
   "outputs": [
    {
     "data": {
      "text/plain": [
       "array([[0.44281211, 0.93614647, 0.85846731, 0.70258153, 0.6646853 ],\n",
       "       [0.49627058, 0.85846731, 0.70258153, 0.6646853 , 0.38417609],\n",
       "       [0.47546339, 0.70258153, 0.6646853 , 0.38417609, 0.50844449],\n",
       "       [0.55155979, 0.6646853 , 0.38417609, 0.50844449, 0.70605062],\n",
       "       [0.50099435, 0.38417609, 0.50844449, 0.70605062, 0.62566313],\n",
       "       [0.44545859, 0.50844449, 0.70605062, 0.62566313, 0.31006745],\n",
       "       [0.50571167, 0.70605062, 0.62566313, 0.31006745, 0.71815185],\n",
       "       [0.46588904, 0.62566313, 0.31006745, 0.71815185, 0.58129533],\n",
       "       [0.46785659, 0.31006745, 0.71815185, 0.58129533, 0.59084039],\n",
       "       [0.45300142, 0.71815185, 0.58129533, 0.59084039, 0.64112187],\n",
       "       [0.43741172, 0.58129533, 0.59084039, 0.64112187, 0.70009636],\n",
       "       [0.3506737 , 0.59084039, 0.64112187, 0.70009636, 0.61497185],\n",
       "       [0.36403131, 0.64112187, 0.70009636, 0.61497185, 0.591378  ]])"
      ]
     },
     "execution_count": 2,
     "metadata": {},
     "output_type": "execute_result"
    }
   ],
   "source": [
    "testX"
   ]
  },
  {
   "cell_type": "code",
   "execution_count": 3,
   "metadata": {},
   "outputs": [
    {
     "data": {
      "text/plain": [
       "array([[0.38417609],\n",
       "       [0.50844449],\n",
       "       [0.70605062],\n",
       "       [0.62566313],\n",
       "       [0.31006745],\n",
       "       [0.71815185],\n",
       "       [0.58129533],\n",
       "       [0.59084039],\n",
       "       [0.64112187],\n",
       "       [0.70009636],\n",
       "       [0.61497185],\n",
       "       [0.591378  ],\n",
       "       [0.32      ]])"
      ]
     },
     "execution_count": 3,
     "metadata": {},
     "output_type": "execute_result"
    }
   ],
   "source": [
    "testY"
   ]
  },
  {
   "cell_type": "code",
   "execution_count": 4,
   "metadata": {},
   "outputs": [
    {
     "data": {
      "text/plain": [
       "array([[0.17073406, 0.42336055, 0.31155855, 0.42299539, 0.42478065],\n",
       "       [0.2232566 , 0.31155855, 0.42299539, 0.42478065, 0.32205711],\n",
       "       [0.24197469, 0.42299539, 0.42478065, 0.32205711, 0.46046559],\n",
       "       [0.36573346, 0.42478065, 0.32205711, 0.46046559, 0.16668864],\n",
       "       [0.55255899, 0.32205711, 0.46046559, 0.16668864, 0.40174469],\n",
       "       [0.37002352, 0.46046559, 0.16668864, 0.40174469, 0.31647817],\n",
       "       [0.3325317 , 0.16668864, 0.40174469, 0.31647817, 0.27086271],\n",
       "       [0.38788752, 0.40174469, 0.31647817, 0.27086271, 0.31251205],\n",
       "       [0.39836394, 0.31647817, 0.27086271, 0.31251205, 0.36909266],\n",
       "       [0.2848263 , 0.27086271, 0.31251205, 0.36909266, 0.20575138],\n",
       "       [0.18673502, 0.31251205, 0.36909266, 0.20575138, 0.17619313],\n",
       "       [0.18269477, 0.36909266, 0.20575138, 0.17619313, 0.29041944],\n",
       "       [0.255617  , 0.20575138, 0.17619313, 0.29041944, 0.24090886],\n",
       "       [0.23597043, 0.17619313, 0.29041944, 0.24090886, 0.27408835],\n",
       "       [0.16413413, 0.29041944, 0.24090886, 0.27408835, 0.37090835],\n",
       "       [0.17817663, 0.24090886, 0.27408835, 0.37090835, 0.05869047],\n",
       "       [0.1639561 , 0.27408835, 0.37090835, 0.05869047, 0.40032459],\n",
       "       [0.13324148, 0.37090835, 0.05869047, 0.40032459, 0.28999341],\n",
       "       [0.22639902, 0.05869047, 0.40032459, 0.28999341, 0.30771415],\n",
       "       [0.25501386, 0.40032459, 0.28999341, 0.30771415, 0.42915251],\n",
       "       [0.23708614, 0.28999341, 0.30771415, 0.42915251, 0.44062484],\n",
       "       [0.23165112, 0.30771415, 0.42915251, 0.44062484, 0.35804636],\n",
       "       [0.23306761, 0.42915251, 0.44062484, 0.35804636, 0.2957245 ],\n",
       "       [0.22117372, 0.44062484, 0.35804636, 0.2957245 , 0.4914135 ],\n",
       "       [0.22633168, 0.35804636, 0.2957245 , 0.4914135 , 0.35624081],\n",
       "       [0.21869864, 0.2957245 , 0.4914135 , 0.35624081, 0.54105594],\n",
       "       [0.2320322 , 0.4914135 , 0.35624081, 0.54105594, 0.15752904],\n",
       "       [0.23194795, 0.35624081, 0.54105594, 0.15752904, 0.55294416],\n",
       "       [0.22154782, 0.54105594, 0.15752904, 0.55294416, 0.51433788],\n",
       "       [0.28795858, 0.15752904, 0.55294416, 0.51433788, 0.44121317],\n",
       "       [0.28837327, 0.55294416, 0.51433788, 0.44121317, 0.58940001],\n",
       "       [0.29714576, 0.51433788, 0.44121317, 0.58940001, 0.67707055],\n",
       "       [0.24366982, 0.44121317, 0.58940001, 0.67707055, 0.67615763],\n",
       "       [0.30743731, 0.58940001, 0.67707055, 0.67615763, 0.69694172],\n",
       "       [0.35859786, 0.67707055, 0.67615763, 0.69694172, 0.58293858],\n",
       "       [0.37218122, 0.67615763, 0.69694172, 0.58293858, 0.61114774],\n",
       "       [0.45025948, 0.69694172, 0.58293858, 0.61114774, 0.7834559 ],\n",
       "       [0.44309563, 0.58293858, 0.61114774, 0.7834559 , 0.93566973],\n",
       "       [0.55815598, 0.61114774, 0.7834559 , 0.93566973, 0.28699092],\n",
       "       [0.60235983, 0.7834559 , 0.93566973, 0.28699092, 1.        ],\n",
       "       [0.69629172, 0.93566973, 0.28699092, 1.        , 0.84997718],\n",
       "       [0.79060467, 0.28699092, 1.        , 0.84997718, 0.62600801],\n",
       "       [0.64402223, 1.        , 0.84997718, 0.62600801, 0.93614647],\n",
       "       [0.58322864, 0.84997718, 0.62600801, 0.93614647, 0.85846731],\n",
       "       [0.48171501, 0.62600801, 0.93614647, 0.85846731, 0.70258153]])"
      ]
     },
     "execution_count": 4,
     "metadata": {},
     "output_type": "execute_result"
    }
   ],
   "source": [
    "trainX"
   ]
  },
  {
   "cell_type": "code",
   "execution_count": 5,
   "metadata": {},
   "outputs": [
    {
     "data": {
      "text/plain": [
       "array([[0.32205711],\n",
       "       [0.46046559],\n",
       "       [0.16668864],\n",
       "       [0.40174469],\n",
       "       [0.31647817],\n",
       "       [0.27086271],\n",
       "       [0.31251205],\n",
       "       [0.36909266],\n",
       "       [0.20575138],\n",
       "       [0.17619313],\n",
       "       [0.29041944],\n",
       "       [0.24090886],\n",
       "       [0.27408835],\n",
       "       [0.37090835],\n",
       "       [0.05869047],\n",
       "       [0.40032459],\n",
       "       [0.28999341],\n",
       "       [0.30771415],\n",
       "       [0.42915251],\n",
       "       [0.44062484],\n",
       "       [0.35804636],\n",
       "       [0.2957245 ],\n",
       "       [0.4914135 ],\n",
       "       [0.35624081],\n",
       "       [0.54105594],\n",
       "       [0.15752904],\n",
       "       [0.55294416],\n",
       "       [0.51433788],\n",
       "       [0.44121317],\n",
       "       [0.58940001],\n",
       "       [0.67707055],\n",
       "       [0.67615763],\n",
       "       [0.69694172],\n",
       "       [0.58293858],\n",
       "       [0.61114774],\n",
       "       [0.7834559 ],\n",
       "       [0.93566973],\n",
       "       [0.28699092],\n",
       "       [1.        ],\n",
       "       [0.84997718],\n",
       "       [0.62600801],\n",
       "       [0.93614647],\n",
       "       [0.85846731],\n",
       "       [0.70258153],\n",
       "       [0.6646853 ]])"
      ]
     },
     "execution_count": 5,
     "metadata": {},
     "output_type": "execute_result"
    }
   ],
   "source": [
    "trainY"
   ]
  },
  {
   "cell_type": "code",
   "execution_count": 6,
   "metadata": {},
   "outputs": [],
   "source": [
    "#Regularization Parameter:\n",
    "Lambda = 0.0001"
   ]
  },
  {
   "cell_type": "code",
   "execution_count": 7,
   "metadata": {},
   "outputs": [],
   "source": [
    "#Need to make changes to costFunction and costFunctionPrim:\n",
    "def costFunction(self, X, y):\n",
    "    #Compute cost for given X,y, use weights already stored in class.\n",
    "    self.yHat = self.forward(X)\n",
    "    #We don't want cost to increase with the number of examples, so normalize by dividing the error term by number of examples(X.shape[0])\n",
    "    J = 0.5*sum((y-self.yHat)**2)/X.shape[0] + (self.Lambda/2)*(sum(self.W1**2)+sum(self.W2**2))\n",
    "    return J\n",
    "\n",
    "def costFunctionPrime(self, X, y):\n",
    "    #Compute derivative with respect to W and W2 for a given X and y:\n",
    "    self.yHat = self.forward(X)\n",
    "\n",
    "    delta3 = np.multiply(-(y-self.yHat), self.sigmoidPrime(self.z3))\n",
    "    #Add gradient of regularization term:\n",
    "    dJdW2 = np.dot(self.a2.T, delta3)/X.shape[0] + self.Lambda*self.W2\n",
    "\n",
    "    delta2 = np.dot(delta3, self.W2.T)*self.sigmoidPrime(self.z2)\n",
    "    #Add gradient of regularization term:\n",
    "    dJdW1 = np.dot(X.T, delta2)/X.shape[0] + self.Lambda*self.W1\n",
    "\n",
    "    return dJdW1, dJdW2"
   ]
  },
  {
   "cell_type": "code",
   "execution_count": 8,
   "metadata": {},
   "outputs": [],
   "source": [
    "#New complete class, with changes:\n",
    "class Neural_Network(object):\n",
    "    def __init__(self, Lambda=0.0001):        \n",
    "        #Define Hyperparameters\n",
    "        self.inputLayerSize = 5\n",
    "        self.outputLayerSize = 1\n",
    "        self.hiddenLayerSize = 8\n",
    "        \n",
    "        #Weights (parameters)\n",
    "        self.W1 = np.random.randn(self.inputLayerSize,self.hiddenLayerSize)\n",
    "        self.W2 = np.random.randn(self.hiddenLayerSize,self.outputLayerSize)\n",
    "        \n",
    "        #Regularization Parameter:\n",
    "        self.Lambda = Lambda\n",
    "        \n",
    "    def forward(self, X):\n",
    "        #Propogate inputs though network\n",
    "        self.z2 = np.dot(X, self.W1)\n",
    "        self.a2 = self.sigmoid(self.z2)\n",
    "        self.z3 = np.dot(self.a2, self.W2)\n",
    "        yHat = self.sigmoid(self.z3) \n",
    "        return yHat\n",
    "        \n",
    "    def sigmoid(self, z):\n",
    "        #Apply sigmoid activation function to scalar, vector, or matrix\n",
    "        return 1/(1+np.exp(-z))\n",
    "    \n",
    "    def sigmoidPrime(self,z):\n",
    "        #Gradient of sigmoid\n",
    "        return np.exp(-z)/((1+np.exp(-z))**2)\n",
    "    \n",
    "    def costFunction(self, X, y):\n",
    "        #Compute cost for given X,y, use weights already stored in class.\n",
    "        self.yHat = self.forward(X)\n",
    "        J = 0.5*sum((y-self.yHat)**2)/X.shape[0] + (self.Lambda/2)*(np.sum(self.W1**2)+np.sum(self.W2**2))\n",
    "        return J\n",
    "        \n",
    "    def costFunctionPrime(self, X, y):\n",
    "        #Compute derivative with respect to W and W2 for a given X and y:\n",
    "        self.yHat = self.forward(X)\n",
    "        \n",
    "        delta3 = np.multiply(-(y-self.yHat), self.sigmoidPrime(self.z3))\n",
    "        #Add gradient of regularization term:\n",
    "        dJdW2 = np.dot(self.a2.T, delta3)/X.shape[0] + self.Lambda*self.W2\n",
    "        \n",
    "        delta2 = np.dot(delta3, self.W2.T)*self.sigmoidPrime(self.z2)\n",
    "        #Add gradient of regularization term:\n",
    "        dJdW1 = np.dot(X.T, delta2)/X.shape[0] + self.Lambda*self.W1\n",
    "        \n",
    "        return dJdW1, dJdW2\n",
    "    \n",
    "    def predict(self):\n",
    "        prediksi = self.forward(dataprediksi)\n",
    "        return prediksi\n",
    "    \n",
    "    #Helper functions for interacting with other methods/classes\n",
    "    def getParams(self):\n",
    "        #Get W1 and W2 Rolled into vector:\n",
    "        params = np.concatenate((self.W1.ravel(), self.W2.ravel()))\n",
    "        return params\n",
    "    \n",
    "    def setParams(self, params):\n",
    "        #Set W1 and W2 using single parameter vector:\n",
    "        W1_start = 0\n",
    "        W1_end = self.hiddenLayerSize*self.inputLayerSize\n",
    "        self.W1 = np.reshape(params[W1_start:W1_end], \\\n",
    "                             (self.inputLayerSize, self.hiddenLayerSize))\n",
    "        W2_end = W1_end + self.hiddenLayerSize*self.outputLayerSize\n",
    "        self.W2 = np.reshape(params[W1_end:W2_end], \\\n",
    "                             (self.hiddenLayerSize, self.outputLayerSize))\n",
    "        \n",
    "    def computeGradients(self, X, y):\n",
    "        dJdW1, dJdW2 = self.costFunctionPrime(X, y)\n",
    "        return np.concatenate((dJdW1.ravel(), dJdW2.ravel()))"
   ]
  },
  {
   "cell_type": "code",
   "execution_count": 9,
   "metadata": {},
   "outputs": [],
   "source": [
    "def computeNumericalGradient(N, X, y):\n",
    "    paramsInitial = N.getParams()\n",
    "    numgrad = np.zeros(paramsInitial.shape)\n",
    "    perturb = np.zeros(paramsInitial.shape)\n",
    "    e = 1e-4\n",
    "\n",
    "    for p in range(len(paramsInitial)):\n",
    "        #Set perturbation vector\n",
    "        perturb[p] = e\n",
    "        N.setParams(paramsInitial + perturb)\n",
    "        loss2 = N.costFunction(X, y)\n",
    "            \n",
    "        N.setParams(paramsInitial - perturb)\n",
    "        loss1 = N.costFunction(X, y)\n",
    "\n",
    "        #Compute Numerical Gradient\n",
    "        numgrad[p] = (loss2 - loss1) / (2*e)\n",
    "\n",
    "            #Return the value we changed to zero:\n",
    "        perturb[p] = 0\n",
    "            \n",
    "    #Return Params to original value:\n",
    "    N.setParams(paramsInitial)\n",
    "\n",
    "    return numgrad "
   ]
  },
  {
   "cell_type": "code",
   "execution_count": 10,
   "metadata": {},
   "outputs": [],
   "source": [
    "NN = Neural_Network(Lambda=0.0001)"
   ]
  },
  {
   "cell_type": "code",
   "execution_count": 11,
   "metadata": {},
   "outputs": [],
   "source": [
    "#Make sure our gradients our correct after making changes:\n",
    "numgrad = computeNumericalGradient(NN, X, y)\n",
    "grad = NN.computeGradients(X,y)"
   ]
  },
  {
   "cell_type": "code",
   "execution_count": 12,
   "metadata": {},
   "outputs": [
    {
     "data": {
      "text/plain": [
       "2.7205820630239123e-10"
      ]
     },
     "execution_count": 12,
     "metadata": {},
     "output_type": "execute_result"
    }
   ],
   "source": [
    "#Should be less than 1e-8:\n",
    "np.linalg.norm(grad-numgrad)/np.linalg.norm(grad+numgrad)"
   ]
  },
  {
   "cell_type": "code",
   "execution_count": 13,
   "metadata": {},
   "outputs": [],
   "source": [
    "T = trainer(NN)"
   ]
  },
  {
   "cell_type": "code",
   "execution_count": 14,
   "metadata": {},
   "outputs": [
    {
     "name": "stdout",
     "output_type": "stream",
     "text": [
      "Warning: Maximum number of iterations has been exceeded.\n",
      "         Current function value: 0.011688\n",
      "         Iterations: 100\n",
      "         Function evaluations: 103\n",
      "         Gradient evaluations: 103\n"
     ]
    }
   ],
   "source": [
    "T.train(X,y,testX,testY)"
   ]
  },
  {
   "cell_type": "code",
   "execution_count": 15,
   "metadata": {},
   "outputs": [
    {
     "data": {
      "image/png": "[encoded data removed]",
      "text/plain": [
       "<Figure size 432x288 with 1 Axes>"
      ]
     },
     "metadata": {
      "needs_background": "light"
     },
     "output_type": "display_data"
    }
   ],
   "source": [
    "plot.plot(T.J)\n",
    "plot.plot(T.testJ)\n",
    "plot.grid(1)\n",
    "plot.xlabel('Iterations')\n",
    "plot.ylabel('Cost')\n",
    "plot.legend(['Training', 'Testing'])\n",
    "plot.show()"
   ]
  },
  {
   "cell_type": "code",
   "execution_count": 16,
   "metadata": {},
   "outputs": [
    {
     "data": {
      "text/plain": [
       "[array([0.04472737]),\n",
       " array([0.03559716]),\n",
       " array([0.03170766]),\n",
       " array([0.03163658]),\n",
       " array([0.03150486]),\n",
       " array([0.0312567]),\n",
       " array([0.03079145]),\n",
       " array([0.02993935]),\n",
       " array([0.0284613]),\n",
       " array([0.02618084]),\n",
       " array([0.02360859]),\n",
       " array([0.02051734]),\n",
       " array([0.01692484]),\n",
       " array([0.01595699]),\n",
       " array([0.01586706]),\n",
       " array([0.01585347]),\n",
       " array([0.01584757]),\n",
       " array([0.01584305]),\n",
       " array([0.01583527]),\n",
       " array([0.01582123]),\n",
       " array([0.01579543]),\n",
       " array([0.01574794]),\n",
       " array([0.01566136]),\n",
       " array([0.01550727]),\n",
       " array([0.0152455]),\n",
       " array([0.0148424]),\n",
       " array([0.01442934]),\n",
       " array([0.0140718]),\n",
       " array([0.0137079]),\n",
       " array([0.01350019]),\n",
       " array([0.01343951]),\n",
       " array([0.01342887]),\n",
       " array([0.01342618]),\n",
       " array([0.01342437]),\n",
       " array([0.01342318]),\n",
       " array([0.01342095]),\n",
       " array([0.01341671]),\n",
       " array([0.01340867]),\n",
       " array([0.0133936]),\n",
       " array([0.01336597]),\n",
       " array([0.01331728]),\n",
       " array([0.01323717]),\n",
       " array([0.01311851]),\n",
       " array([0.01297714]),\n",
       " array([0.01274536]),\n",
       " array([0.01240383]),\n",
       " array([0.01230587]),\n",
       " array([0.01228883]),\n",
       " array([0.0122859]),\n",
       " array([0.01228105]),\n",
       " array([0.01227709]),\n",
       " array([0.01227647]),\n",
       " array([0.01227529]),\n",
       " array([0.01227306]),\n",
       " array([0.01226885]),\n",
       " array([0.01226099]),\n",
       " array([0.01224679]),\n",
       " array([0.01222263]),\n",
       " array([0.01218539]),\n",
       " array([0.01212633]),\n",
       " array([0.01202829]),\n",
       " array([0.01189976]),\n",
       " array([0.01186783]),\n",
       " array([0.01185377]),\n",
       " array([0.01184071]),\n",
       " array([0.01183521]),\n",
       " array([0.01183397]),\n",
       " array([0.01183378]),\n",
       " array([0.01183363]),\n",
       " array([0.01183336]),\n",
       " array([0.01183287]),\n",
       " array([0.01183197]),\n",
       " array([0.01183034]),\n",
       " array([0.0118274]),\n",
       " array([0.01182228]),\n",
       " array([0.01181369]),\n",
       " array([0.01179996]),\n",
       " array([0.01177924]),\n",
       " array([0.0117541]),\n",
       " array([0.01173006]),\n",
       " array([0.01172023]),\n",
       " array([0.01171929]),\n",
       " array([0.01171925]),\n",
       " array([0.01171923]),\n",
       " array([0.01171918]),\n",
       " array([0.0117191]),\n",
       " array([0.01171896]),\n",
       " array([0.01171868]),\n",
       " array([0.01171818]),\n",
       " array([0.01171728]),\n",
       " array([0.01171575]),\n",
       " array([0.01171327]),\n",
       " array([0.01170941]),\n",
       " array([0.01170357]),\n",
       " array([0.0116959]),\n",
       " array([0.0116898]),\n",
       " array([0.01168785]),\n",
       " array([0.01168756]),\n",
       " array([0.01168752]),\n",
       " array([0.01168751])]"
      ]
     },
     "execution_count": 16,
     "metadata": {},
     "output_type": "execute_result"
    }
   ],
   "source": [
    "T.J"
   ]
  },
  {
   "cell_type": "code",
   "execution_count": 17,
   "metadata": {},
   "outputs": [
    {
     "data": {
      "text/plain": [
       "[array([0.01651947]),\n",
       " array([0.02887188]),\n",
       " array([0.015942]),\n",
       " array([0.01636304]),\n",
       " array([0.01676201]),\n",
       " array([0.01720905]),\n",
       " array([0.01774997]),\n",
       " array([0.0184018]),\n",
       " array([0.01909947]),\n",
       " array([0.01953864]),\n",
       " array([0.01871257]),\n",
       " array([0.01633858]),\n",
       " array([0.01413563]),\n",
       " array([0.01481637]),\n",
       " array([0.01543383]),\n",
       " array([0.01565798]),\n",
       " array([0.01574919]),\n",
       " array([0.01577188]),\n",
       " array([0.01577701]),\n",
       " array([0.01577476]),\n",
       " array([0.01576887]),\n",
       " array([0.01576097]),\n",
       " array([0.01575487]),\n",
       " array([0.01576541]),\n",
       " array([0.01584273]),\n",
       " array([0.01611852]),\n",
       " array([0.01646245]),\n",
       " array([0.01662174]),\n",
       " array([0.01691975]),\n",
       " array([0.01704526]),\n",
       " array([0.01679195]),\n",
       " array([0.01684481]),\n",
       " array([0.01650967]),\n",
       " array([0.01661332]),\n",
       " array([0.01665104]),\n",
       " array([0.0166876]),\n",
       " array([0.01673102]),\n",
       " array([0.01678824]),\n",
       " array([0.01686782]),\n",
       " array([0.01698074]),\n",
       " array([0.01713826]),\n",
       " array([0.01733951]),\n",
       " array([0.01752947]),\n",
       " array([0.01757577]),\n",
       " array([0.01738081]),\n",
       " array([0.01657552]),\n",
       " array([0.01587236]),\n",
       " array([0.01590816]),\n",
       " array([0.01594446]),\n",
       " array([0.01584782]),\n",
       " array([0.01562605]),\n",
       " array([0.01563159]),\n",
       " array([0.01563057]),\n",
       " array([0.0156271]),\n",
       " array([0.01562015]),\n",
       " array([0.01560631]),\n",
       " array([0.01557753]),\n",
       " array([0.0155161]),\n",
       " array([0.01539759]),\n",
       " array([0.01527271]),\n",
       " array([0.01524816]),\n",
       " array([0.01546202]),\n",
       " array([0.01544055]),\n",
       " array([0.01545785]),\n",
       " array([0.01529179]),\n",
       " array([0.01508532]),\n",
       " array([0.01515455]),\n",
       " array([0.01514794]),\n",
       " array([0.01514031]),\n",
       " array([0.01513049]),\n",
       " array([0.01511766]),\n",
       " array([0.01510004]),\n",
       " array([0.01507484]),\n",
       " array([0.01503791]),\n",
       " array([0.01498377]),\n",
       " array([0.01490706]),\n",
       " array([0.01480851]),\n",
       " array([0.01470943]),\n",
       " array([0.01468779]),\n",
       " array([0.01480609]),\n",
       " array([0.01496838]),\n",
       " array([0.0150059]),\n",
       " array([0.0150065]),\n",
       " array([0.01500608]),\n",
       " array([0.01500542]),\n",
       " array([0.01500449]),\n",
       " array([0.01500301]),\n",
       " array([0.01500054]),\n",
       " array([0.01499619]),\n",
       " array([0.01498836]),\n",
       " array([0.01497409]),\n",
       " array([0.01494857]),\n",
       " array([0.01490632]),\n",
       " array([0.01484813]),\n",
       " array([0.01479481]),\n",
       " array([0.01478834]),\n",
       " array([0.0147957]),\n",
       " array([0.01480504]),\n",
       " array([0.01479701]),\n",
       " array([0.0147973])]"
      ]
     },
     "execution_count": 17,
     "metadata": {},
     "output_type": "execute_result"
    }
   ],
   "source": [
    "T.testJ"
   ]
  },
  {
   "cell_type": "code",
   "execution_count": 18,
   "metadata": {},
   "outputs": [
    {
     "data": {
      "text/plain": [
       "0.0039880287993276295"
      ]
     },
     "execution_count": 18,
     "metadata": {},
     "output_type": "execute_result"
    }
   ],
   "source": [
    "from sklearn.metrics import mean_absolute_error\n",
    "mean_absolute_error(T.J, T.testJ)"
   ]
  },
  {
   "cell_type": "code",
   "execution_count": 19,
   "metadata": {},
   "outputs": [],
   "source": [
    "yHat=NN.forward(X)"
   ]
  },
  {
   "cell_type": "code",
   "execution_count": 20,
   "metadata": {},
   "outputs": [
    {
     "data": {
      "text/plain": [
       "array([[0.37751538],\n",
       "       [0.41059331],\n",
       "       [0.41105644],\n",
       "       [0.42592115],\n",
       "       [0.42272255],\n",
       "       [0.35656809],\n",
       "       [0.36712096],\n",
       "       [0.37705801],\n",
       "       [0.3537529 ],\n",
       "       [0.35626795],\n",
       "       [0.33176648],\n",
       "       [0.27273985],\n",
       "       [0.26945067],\n",
       "       [0.29205775],\n",
       "       [0.28967721],\n",
       "       [0.31866826],\n",
       "       [0.28732499],\n",
       "       [0.26049069],\n",
       "       [0.32154123],\n",
       "       [0.35161046],\n",
       "       [0.36298277],\n",
       "       [0.41742577],\n",
       "       [0.42634649],\n",
       "       [0.37759297],\n",
       "       [0.38474067],\n",
       "       [0.41691044],\n",
       "       [0.44844719],\n",
       "       [0.40333977],\n",
       "       [0.37792444],\n",
       "       [0.46486712],\n",
       "       [0.5067158 ],\n",
       "       [0.50653529],\n",
       "       [0.55908857],\n",
       "       [0.6214208 ],\n",
       "       [0.64455606],\n",
       "       [0.63208446],\n",
       "       [0.61537373],\n",
       "       [0.63775551],\n",
       "       [0.72324646],\n",
       "       [0.69146707],\n",
       "       [0.66253686],\n",
       "       [0.74716336],\n",
       "       [0.74485342],\n",
       "       [0.71583213],\n",
       "       [0.74003963],\n",
       "       [0.73120586],\n",
       "       [0.68683077],\n",
       "       [0.60298928],\n",
       "       [0.53571325],\n",
       "       [0.56667361],\n",
       "       [0.62849777],\n",
       "       [0.57970817],\n",
       "       [0.53414278],\n",
       "       [0.59611006],\n",
       "       [0.61485221],\n",
       "       [0.60417795],\n",
       "       [0.62094417],\n",
       "       [0.63271281]])"
      ]
     },
     "execution_count": 20,
     "metadata": {},
     "output_type": "execute_result"
    }
   ],
   "source": [
    "yHat"
   ]
  },
  {
   "cell_type": "code",
   "execution_count": 21,
   "metadata": {},
   "outputs": [
    {
     "data": {
      "text/plain": [
       "array([[0.32205711],\n",
       "       [0.46046559],\n",
       "       [0.16668864],\n",
       "       [0.40174469],\n",
       "       [0.31647817],\n",
       "       [0.27086271],\n",
       "       [0.31251205],\n",
       "       [0.36909266],\n",
       "       [0.20575138],\n",
       "       [0.17619313],\n",
       "       [0.29041944],\n",
       "       [0.24090886],\n",
       "       [0.27408835],\n",
       "       [0.37090835],\n",
       "       [0.05869047],\n",
       "       [0.40032459],\n",
       "       [0.28999341],\n",
       "       [0.30771415],\n",
       "       [0.42915251],\n",
       "       [0.44062484],\n",
       "       [0.35804636],\n",
       "       [0.2957245 ],\n",
       "       [0.4914135 ],\n",
       "       [0.35624081],\n",
       "       [0.54105594],\n",
       "       [0.15752904],\n",
       "       [0.55294416],\n",
       "       [0.51433788],\n",
       "       [0.44121317],\n",
       "       [0.58940001],\n",
       "       [0.67707055],\n",
       "       [0.67615763],\n",
       "       [0.69694172],\n",
       "       [0.58293858],\n",
       "       [0.61114774],\n",
       "       [0.7834559 ],\n",
       "       [0.93566973],\n",
       "       [0.28699092],\n",
       "       [1.        ],\n",
       "       [0.84997718],\n",
       "       [0.62600801],\n",
       "       [0.93614647],\n",
       "       [0.85846731],\n",
       "       [0.70258153],\n",
       "       [0.6646853 ],\n",
       "       [0.38417609],\n",
       "       [0.50844449],\n",
       "       [0.70605062],\n",
       "       [0.62566313],\n",
       "       [0.31006745],\n",
       "       [0.71815185],\n",
       "       [0.58129533],\n",
       "       [0.59084039],\n",
       "       [0.64112187],\n",
       "       [0.70009636],\n",
       "       [0.61497185],\n",
       "       [0.591378  ],\n",
       "       [0.32      ]])"
      ]
     },
     "execution_count": 21,
     "metadata": {},
     "output_type": "execute_result"
    }
   ],
   "source": [
    "y"
   ]
  },
  {
   "cell_type": "code",
   "execution_count": 22,
   "metadata": {},
   "outputs": [
    {
     "data": {
      "image/png": "[encoded data removed]",
      "text/plain": [
       "<Figure size 432x288 with 1 Axes>"
      ]
     },
     "metadata": {
      "needs_background": "light"
     },
     "output_type": "display_data"
    }
   ],
   "source": [
    "#Plot cost during training:\n",
    "plot.plot(y)\n",
    "plot.plot(yHat)\n",
    "plot.grid(1)\n",
    "plot.legend(['y', 'yHat'])\n",
    "plot.show()"
   ]
  },
  {
   "cell_type": "code",
   "execution_count": 23,
   "metadata": {},
   "outputs": [],
   "source": [
    "prediksi=NN.forward(dataprediksi)"
   ]
  },
  {
   "cell_type": "code",
   "execution_count": 24,
   "metadata": {},
   "outputs": [
    {
     "data": {
      "text/plain": [
       "array([[0.66741879],\n",
       "       [0.62714141],\n",
       "       [0.52291654],\n",
       "       [0.48805521]])"
      ]
     },
     "execution_count": 24,
     "metadata": {},
     "output_type": "execute_result"
    }
   ],
   "source": [
    "prediksi"
   ]
  },
  {
   "cell_type": "code",
   "execution_count": 25,
   "metadata": {},
   "outputs": [],
   "source": [
    "from sklearn.metrics import mean_squared_error "
   ]
  },
  {
   "cell_type": "code",
   "execution_count": 26,
   "metadata": {},
   "outputs": [
    {
     "data": {
      "text/plain": [
       "0.10250722659261349"
      ]
     },
     "execution_count": 26,
     "metadata": {},
     "output_type": "execute_result"
    }
   ],
   "source": [
    "Y_true= ([\t0.50\t]\t,\n",
    "[\t0.415539889\t]\t,\n",
    "[\t0\t]\t,\n",
    "[\t0.235502358\t]\t,\n",
    "\n",
    ")\n",
    "\n",
    "\n",
    "Y_pred=prediksi\n",
    "mean_squared_error(Y_true,Y_pred) "
   ]
  },
  {
   "cell_type": "code",
   "execution_count": 27,
   "metadata": {},
   "outputs": [
    {
     "data": {
      "text/plain": [
       "array([[0.79538041, 0.70009636, 0.61497185, 0.591378  , 0.32      ],\n",
       "       [1.        , 0.61497185, 0.591378  , 0.32      , 0.5       ],\n",
       "       [0.70768171, 0.591378  , 0.32      , 0.5       , 0.41553989],\n",
       "       [0.49169532, 0.32      , 0.5       , 0.41553989, 0.        ]])"
      ]
     },
     "execution_count": 27,
     "metadata": {},
     "output_type": "execute_result"
    }
   ],
   "source": [
    "dataprediksi"
   ]
  },
  {
   "cell_type": "code",
   "execution_count": 28,
   "metadata": {},
   "outputs": [],
   "source": [
    "z=np.array([0.51319034])"
   ]
  },
  {
   "cell_type": "code",
   "execution_count": 29,
   "metadata": {},
   "outputs": [],
   "source": [
    "y=np.array([0.50\t,\t0.415539889\t,\t0\t,\t0.235502358\t])"
   ]
  },
  {
   "cell_type": "code",
   "execution_count": 30,
   "metadata": {},
   "outputs": [],
   "source": [
    "a=np.concatenate((z,y))"
   ]
  },
  {
   "cell_type": "code",
   "execution_count": 31,
   "metadata": {},
   "outputs": [
    {
     "ename": "ValueError",
     "evalue": "shapes (2,) and (5,8) not aligned: 2 (dim 0) != 5 (dim 0)",
     "output_type": "error",
     "traceback": [
      "\u001b[1;31m---------------------------------------------------------------------------\u001b[0m",
      "\u001b[1;31mValueError\u001b[0m                                Traceback (most recent call last)",
      "\u001b[1;32m<ipython-input-31-c8cc67aa6fab>\u001b[0m in \u001b[0;36m<module>\u001b[1;34m\u001b[0m\n\u001b[0;32m      1\u001b[0m \u001b[1;31m#prediksi 1\u001b[0m\u001b[1;33m\u001b[0m\u001b[1;33m\u001b[0m\u001b[1;33m\u001b[0m\u001b[0m\n\u001b[1;32m----> 2\u001b[1;33m \u001b[0mprediksi\u001b[0m\u001b[1;33m=\u001b[0m\u001b[0mNN\u001b[0m\u001b[1;33m.\u001b[0m\u001b[0mforward\u001b[0m\u001b[1;33m(\u001b[0m\u001b[0ma\u001b[0m\u001b[1;33m)\u001b[0m\u001b[1;33m\u001b[0m\u001b[1;33m\u001b[0m\u001b[0m\n\u001b[0m\u001b[0;32m      3\u001b[0m \u001b[0mprediksi\u001b[0m\u001b[1;33m\u001b[0m\u001b[1;33m\u001b[0m\u001b[0m\n",
      "\u001b[1;32m<ipython-input-8-985c12f38540>\u001b[0m in \u001b[0;36mforward\u001b[1;34m(self, X)\u001b[0m\n\u001b[0;32m     16\u001b[0m     \u001b[1;32mdef\u001b[0m \u001b[0mforward\u001b[0m\u001b[1;33m(\u001b[0m\u001b[0mself\u001b[0m\u001b[1;33m,\u001b[0m \u001b[0mX\u001b[0m\u001b[1;33m)\u001b[0m\u001b[1;33m:\u001b[0m\u001b[1;33m\u001b[0m\u001b[1;33m\u001b[0m\u001b[0m\n\u001b[0;32m     17\u001b[0m         \u001b[1;31m#Propogate inputs though network\u001b[0m\u001b[1;33m\u001b[0m\u001b[1;33m\u001b[0m\u001b[1;33m\u001b[0m\u001b[0m\n\u001b[1;32m---> 18\u001b[1;33m         \u001b[0mself\u001b[0m\u001b[1;33m.\u001b[0m\u001b[0mz2\u001b[0m \u001b[1;33m=\u001b[0m \u001b[0mnp\u001b[0m\u001b[1;33m.\u001b[0m\u001b[0mdot\u001b[0m\u001b[1;33m(\u001b[0m\u001b[0mX\u001b[0m\u001b[1;33m,\u001b[0m \u001b[0mself\u001b[0m\u001b[1;33m.\u001b[0m\u001b[0mW1\u001b[0m\u001b[1;33m)\u001b[0m\u001b[1;33m\u001b[0m\u001b[1;33m\u001b[0m\u001b[0m\n\u001b[0m\u001b[0;32m     19\u001b[0m         \u001b[0mself\u001b[0m\u001b[1;33m.\u001b[0m\u001b[0ma2\u001b[0m \u001b[1;33m=\u001b[0m \u001b[0mself\u001b[0m\u001b[1;33m.\u001b[0m\u001b[0msigmoid\u001b[0m\u001b[1;33m(\u001b[0m\u001b[0mself\u001b[0m\u001b[1;33m.\u001b[0m\u001b[0mz2\u001b[0m\u001b[1;33m)\u001b[0m\u001b[1;33m\u001b[0m\u001b[1;33m\u001b[0m\u001b[0m\n\u001b[0;32m     20\u001b[0m         \u001b[0mself\u001b[0m\u001b[1;33m.\u001b[0m\u001b[0mz3\u001b[0m \u001b[1;33m=\u001b[0m \u001b[0mnp\u001b[0m\u001b[1;33m.\u001b[0m\u001b[0mdot\u001b[0m\u001b[1;33m(\u001b[0m\u001b[0mself\u001b[0m\u001b[1;33m.\u001b[0m\u001b[0ma2\u001b[0m\u001b[1;33m,\u001b[0m \u001b[0mself\u001b[0m\u001b[1;33m.\u001b[0m\u001b[0mW2\u001b[0m\u001b[1;33m)\u001b[0m\u001b[1;33m\u001b[0m\u001b[1;33m\u001b[0m\u001b[0m\n",
      "\u001b[1;31mValueError\u001b[0m: shapes (2,) and (5,8) not aligned: 2 (dim 0) != 5 (dim 0)"
     ]
    }
   ],
   "source": [
    "#prediksi 1\n",
    "prediksi=NN.forward(a)\n",
    "prediksi"
   ]
  },
  {
   "cell_type": "code",
   "execution_count": null,
   "metadata": {},
   "outputs": [],
   "source": [
    "#prediksi 2\n",
    "c=prediksi\n",
    "z1=np.array([0.48673204])\n",
    "b=y[1:]\n",
    "d=np.concatenate((z1,b,c))\n",
    "prediksi=NN.forward(d)\n",
    "prediksi"
   ]
  },
  {
   "cell_type": "code",
   "execution_count": null,
   "metadata": {},
   "outputs": [],
   "source": [
    "#prediksi 3\n",
    "c=prediksi\n",
    "z2=np.array([0.43012934])\n",
    "b=y[1:]\n",
    "d=np.concatenate((z2,b,c))\n",
    "prediksi=NN.forward(d)\n",
    "prediksi"
   ]
  },
  {
   "cell_type": "code",
   "execution_count": null,
   "metadata": {},
   "outputs": [],
   "source": [
    "#prediksi 4\n",
    "c=prediksi\n",
    "z3=np.array([0.41357631])\n",
    "b=y[1:]\n",
    "d=np.concatenate((z3,b,c))\n",
    "prediksi=NN.forward(d)\n",
    "prediksi"
   ]
  },
  {
   "cell_type": "code",
   "execution_count": null,
   "metadata": {},
   "outputs": [],
   "source": [
    "#prediksi 5\n",
    "c=prediksi\n",
    "z4=np.array([0.41626853])\n",
    "b=y[1:]\n",
    "d=np.concatenate((z4,b,c))\n",
    "prediksi=NN.forward(d)\n",
    "prediksi"
   ]
  },
  {
   "cell_type": "code",
   "execution_count": null,
   "metadata": {},
   "outputs": [],
   "source": [
    "#prediksi 6\n",
    "c=prediksi\n",
    "z5=np.array([0.41314695])\n",
    "b=y[1:]\n",
    "d=np.concatenate((z5,b,c))\n",
    "prediksi=NN.forward(d)\n",
    "prediksi"
   ]
  }
 ],
 "metadata": {
  "kernelspec": {
   "display_name": "Python 3",
   "language": "python",
   "name": "python3"
  },
  "language_info": {
   "codemirror_mode": {
    "name": "ipython",
    "version": 3
   },
   "file_extension": ".py",
   "mimetype": "text/x-python",
   "name": "python",
   "nbconvert_exporter": "python",
   "pygments_lexer": "ipython3",
   "version": "3.7.3"
  }
 },
 "nbformat": 4,
 "nbformat_minor": 2
}
