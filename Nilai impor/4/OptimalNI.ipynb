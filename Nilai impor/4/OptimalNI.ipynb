{
 "cells": [
  {
   "cell_type": "code",
   "execution_count": 1,
   "metadata": {},
   "outputs": [
    {
     "name": "stdout",
     "output_type": "stream",
     "text": [
      "Warning: Maximum number of iterations has been exceeded.\n",
      "         Current function value: 0.355042\n",
      "         Iterations: 100\n",
      "         Function evaluations: 106\n",
      "         Gradient evaluations: 106\n"
     ]
    },
    {
     "data": {
      "text/plain": [
       "<Figure size 640x480 with 1 Axes>"
      ]
     },
     "metadata": {},
     "output_type": "display_data"
    },
    {
     "name": "stdout",
     "output_type": "stream",
     "text": [
      "Warning: Maximum number of iterations has been exceeded.\n",
      "         Current function value: 0.255975\n",
      "         Iterations: 100\n",
      "         Function evaluations: 104\n",
      "         Gradient evaluations: 104\n"
     ]
    },
    {
     "data": {
      "text/plain": [
       "<Figure size 640x480 with 1 Axes>"
      ]
     },
     "metadata": {},
     "output_type": "display_data"
    },
    {
     "data": {
      "text/plain": [
       "<Figure size 640x480 with 1 Axes>"
      ]
     },
     "metadata": {},
     "output_type": "display_data"
    }
   ],
   "source": [
    "#Import code from last time\n",
    "%run NI6-5.ipynb"
   ]
  },
  {
   "cell_type": "code",
   "execution_count": 2,
   "metadata": {},
   "outputs": [
    {
     "data": {
      "text/plain": [
       "array([[0.26056338, 0.44281211, 0.93614647, 0.85846731, 0.70258153,\n",
       "        0.6646853 ],\n",
       "       [0.3943662 , 0.49627058, 0.85846731, 0.70258153, 0.6646853 ,\n",
       "        0.38417609],\n",
       "       [0.62676056, 0.47546339, 0.70258153, 0.6646853 , 0.38417609,\n",
       "        0.50844449],\n",
       "       [0.79577465, 0.55155979, 0.6646853 , 0.38417609, 0.50844449,\n",
       "        0.70605062],\n",
       "       [0.70422535, 0.50099435, 0.38417609, 0.50844449, 0.70605062,\n",
       "        0.62566313],\n",
       "       [0.53521127, 0.44545859, 0.50844449, 0.70605062, 0.62566313,\n",
       "        0.31006745],\n",
       "       [0.40140845, 0.50571167, 0.70605062, 0.62566313, 0.31006745,\n",
       "        0.71815185],\n",
       "       [0.12676056, 0.46588904, 0.62566313, 0.31006745, 0.71815185,\n",
       "        0.58129533],\n",
       "       [0.33098592, 0.46785659, 0.31006745, 0.71815185, 0.58129533,\n",
       "        0.59084039],\n",
       "       [0.41549296, 0.45300142, 0.71815185, 0.58129533, 0.59084039,\n",
       "        0.64112187],\n",
       "       [0.55633803, 0.43741172, 0.58129533, 0.59084039, 0.64112187,\n",
       "        0.70009636],\n",
       "       [0.5915493 , 0.3506737 , 0.59084039, 0.64112187, 0.70009636,\n",
       "        0.61497185],\n",
       "       [0.51408451, 0.36403131, 0.64112187, 0.70009636, 0.61497185,\n",
       "        0.591378  ]])"
      ]
     },
     "execution_count": 2,
     "metadata": {},
     "output_type": "execute_result"
    }
   ],
   "source": [
    "testX"
   ]
  },
  {
   "cell_type": "code",
   "execution_count": 3,
   "metadata": {},
   "outputs": [
    {
     "data": {
      "text/plain": [
       "array([[0.38417609],\n",
       "       [0.50844449],\n",
       "       [0.70605062],\n",
       "       [0.62566313],\n",
       "       [0.31006745],\n",
       "       [0.71815185],\n",
       "       [0.58129533],\n",
       "       [0.59084039],\n",
       "       [0.64112187],\n",
       "       [0.70009636],\n",
       "       [0.61497185],\n",
       "       [0.591378  ],\n",
       "       [0.32      ]])"
      ]
     },
     "execution_count": 3,
     "metadata": {},
     "output_type": "execute_result"
    }
   ],
   "source": [
    "testY"
   ]
  },
  {
   "cell_type": "code",
   "execution_count": 4,
   "metadata": {},
   "outputs": [
    {
     "data": {
      "text/plain": [
       "array([[0.66901409, 0.17073406, 0.42336055, 0.31155855, 0.42299539,\n",
       "        0.42478065],\n",
       "       [0.6971831 , 0.2232566 , 0.31155855, 0.42299539, 0.42478065,\n",
       "        0.32205711],\n",
       "       [0.97183099, 0.24197469, 0.42299539, 0.42478065, 0.32205711,\n",
       "        0.46046559],\n",
       "       [0.5915493 , 0.36573346, 0.42478065, 0.32205711, 0.46046559,\n",
       "        0.16668864],\n",
       "       [0.28169014, 0.55255899, 0.32205711, 0.46046559, 0.16668864,\n",
       "        0.40174469],\n",
       "       [0.26056338, 0.37002352, 0.46046559, 0.16668864, 0.40174469,\n",
       "        0.31647817],\n",
       "       [0.46478873, 0.3325317 , 0.16668864, 0.40174469, 0.31647817,\n",
       "        0.27086271],\n",
       "       [0.99295775, 0.38788752, 0.40174469, 0.31647817, 0.27086271,\n",
       "        0.31251205],\n",
       "       [0.67605634, 0.39836394, 0.31647817, 0.27086271, 0.31251205,\n",
       "        0.36909266],\n",
       "       [0.25352113, 0.2848263 , 0.27086271, 0.31251205, 0.36909266,\n",
       "        0.20575138],\n",
       "       [0.45070423, 0.18673502, 0.31251205, 0.36909266, 0.20575138,\n",
       "        0.17619313],\n",
       "       [0.        , 0.18269477, 0.36909266, 0.20575138, 0.17619313,\n",
       "        0.29041944],\n",
       "       [0.48591549, 0.255617  , 0.20575138, 0.17619313, 0.29041944,\n",
       "        0.24090886],\n",
       "       [0.78169014, 0.23597043, 0.17619313, 0.29041944, 0.24090886,\n",
       "        0.27408835],\n",
       "       [0.8028169 , 0.16413413, 0.29041944, 0.24090886, 0.27408835,\n",
       "        0.37090835],\n",
       "       [0.3028169 , 0.17817663, 0.24090886, 0.27408835, 0.37090835,\n",
       "        0.05869047],\n",
       "       [0.47183099, 0.1639561 , 0.27408835, 0.37090835, 0.05869047,\n",
       "        0.40032459],\n",
       "       [0.41549296, 0.13324148, 0.37090835, 0.05869047, 0.40032459,\n",
       "        0.28999341],\n",
       "       [0.64788732, 0.22639902, 0.05869047, 0.40032459, 0.28999341,\n",
       "        0.30771415],\n",
       "       [0.61267606, 0.25501386, 0.40032459, 0.28999341, 0.30771415,\n",
       "        0.42915251],\n",
       "       [1.        , 0.23708614, 0.28999341, 0.30771415, 0.42915251,\n",
       "        0.44062484],\n",
       "       [0.47887324, 0.23165112, 0.30771415, 0.42915251, 0.44062484,\n",
       "        0.35804636],\n",
       "       [0.3028169 , 0.23306761, 0.42915251, 0.44062484, 0.35804636,\n",
       "        0.2957245 ],\n",
       "       [0.38028169, 0.22117372, 0.44062484, 0.35804636, 0.2957245 ,\n",
       "        0.4914135 ],\n",
       "       [0.5915493 , 0.22633168, 0.35804636, 0.2957245 , 0.4914135 ,\n",
       "        0.35624081],\n",
       "       [0.8028169 , 0.21869864, 0.2957245 , 0.4914135 , 0.35624081,\n",
       "        0.54105594],\n",
       "       [0.47183099, 0.2320322 , 0.4914135 , 0.35624081, 0.54105594,\n",
       "        0.15752904],\n",
       "       [0.26760563, 0.23194795, 0.35624081, 0.54105594, 0.15752904,\n",
       "        0.55294416],\n",
       "       [0.4084507 , 0.22154782, 0.54105594, 0.15752904, 0.55294416,\n",
       "        0.51433788],\n",
       "       [0.32394366, 0.28795858, 0.15752904, 0.55294416, 0.51433788,\n",
       "        0.44121317],\n",
       "       [0.45774648, 0.28837327, 0.55294416, 0.51433788, 0.44121317,\n",
       "        0.58940001],\n",
       "       [0.81690141, 0.29714576, 0.51433788, 0.44121317, 0.58940001,\n",
       "        0.67707055],\n",
       "       [0.75352113, 0.24366982, 0.44121317, 0.58940001, 0.67707055,\n",
       "        0.67615763],\n",
       "       [0.43661972, 0.30743731, 0.58940001, 0.67707055, 0.67615763,\n",
       "        0.69694172],\n",
       "       [0.45774648, 0.35859786, 0.67707055, 0.67615763, 0.69694172,\n",
       "        0.58293858],\n",
       "       [0.38732394, 0.37218122, 0.67615763, 0.69694172, 0.58293858,\n",
       "        0.61114774],\n",
       "       [0.46478873, 0.45025948, 0.69694172, 0.58293858, 0.61114774,\n",
       "        0.7834559 ],\n",
       "       [0.73239437, 0.44309563, 0.58293858, 0.61114774, 0.7834559 ,\n",
       "        0.93566973],\n",
       "       [0.51408451, 0.55815598, 0.61114774, 0.7834559 , 0.93566973,\n",
       "        0.28699092],\n",
       "       [0.28169014, 0.60235983, 0.7834559 , 0.93566973, 0.28699092,\n",
       "        1.        ],\n",
       "       [0.19014085, 0.69629172, 0.93566973, 0.28699092, 1.        ,\n",
       "        0.84997718],\n",
       "       [0.51408451, 0.79060467, 0.28699092, 1.        , 0.84997718,\n",
       "        0.62600801],\n",
       "       [0.50704225, 0.64402223, 1.        , 0.84997718, 0.62600801,\n",
       "        0.93614647],\n",
       "       [0.75352113, 0.58322864, 0.84997718, 0.62600801, 0.93614647,\n",
       "        0.85846731],\n",
       "       [0.54225352, 0.48171501, 0.62600801, 0.93614647, 0.85846731,\n",
       "        0.70258153]])"
      ]
     },
     "execution_count": 4,
     "metadata": {},
     "output_type": "execute_result"
    }
   ],
   "source": [
    "trainX"
   ]
  },
  {
   "cell_type": "code",
   "execution_count": 5,
   "metadata": {},
   "outputs": [
    {
     "data": {
      "text/plain": [
       "array([[0.32205711],\n",
       "       [0.46046559],\n",
       "       [0.16668864],\n",
       "       [0.40174469],\n",
       "       [0.31647817],\n",
       "       [0.27086271],\n",
       "       [0.31251205],\n",
       "       [0.36909266],\n",
       "       [0.20575138],\n",
       "       [0.17619313],\n",
       "       [0.29041944],\n",
       "       [0.24090886],\n",
       "       [0.27408835],\n",
       "       [0.37090835],\n",
       "       [0.05869047],\n",
       "       [0.40032459],\n",
       "       [0.28999341],\n",
       "       [0.30771415],\n",
       "       [0.42915251],\n",
       "       [0.44062484],\n",
       "       [0.35804636],\n",
       "       [0.2957245 ],\n",
       "       [0.4914135 ],\n",
       "       [0.35624081],\n",
       "       [0.54105594],\n",
       "       [0.15752904],\n",
       "       [0.55294416],\n",
       "       [0.51433788],\n",
       "       [0.44121317],\n",
       "       [0.58940001],\n",
       "       [0.67707055],\n",
       "       [0.67615763],\n",
       "       [0.69694172],\n",
       "       [0.58293858],\n",
       "       [0.61114774],\n",
       "       [0.7834559 ],\n",
       "       [0.93566973],\n",
       "       [0.28699092],\n",
       "       [1.        ],\n",
       "       [0.84997718],\n",
       "       [0.62600801],\n",
       "       [0.93614647],\n",
       "       [0.85846731],\n",
       "       [0.70258153],\n",
       "       [0.6646853 ]])"
      ]
     },
     "execution_count": 5,
     "metadata": {},
     "output_type": "execute_result"
    }
   ],
   "source": [
    "trainY"
   ]
  },
  {
   "cell_type": "code",
   "execution_count": 6,
   "metadata": {},
   "outputs": [],
   "source": [
    "#Regularization Parameter:\n",
    "Lambda = 0.0001"
   ]
  },
  {
   "cell_type": "code",
   "execution_count": 7,
   "metadata": {},
   "outputs": [],
   "source": [
    "#Need to make changes to costFunction and costFunctionPrim:\n",
    "def costFunction(self, X, y):\n",
    "    #Compute cost for given X,y, use weights already stored in class.\n",
    "    self.yHat = self.forward(X)\n",
    "    #We don't want cost to increase with the number of examples, so normalize by dividing the error term by number of examples(X.shape[0])\n",
    "    J = 0.5*sum((y-self.yHat)**2)/X.shape[0] + (self.Lambda/2)*(sum(self.W1**2)+sum(self.W2**2))\n",
    "    return J\n",
    "\n",
    "def costFunctionPrime(self, X, y):\n",
    "    #Compute derivative with respect to W and W2 for a given X and y:\n",
    "    self.yHat = self.forward(X)\n",
    "\n",
    "    delta3 = np.multiply(-(y-self.yHat), self.sigmoidPrime(self.z3))\n",
    "    #Add gradient of regularization term:\n",
    "    dJdW2 = np.dot(self.a2.T, delta3)/X.shape[0] + self.Lambda*self.W2\n",
    "\n",
    "    delta2 = np.dot(delta3, self.W2.T)*self.sigmoidPrime(self.z2)\n",
    "    #Add gradient of regularization term:\n",
    "    dJdW1 = np.dot(X.T, delta2)/X.shape[0] + self.Lambda*self.W1\n",
    "\n",
    "    return dJdW1, dJdW2"
   ]
  },
  {
   "cell_type": "code",
   "execution_count": 8,
   "metadata": {},
   "outputs": [],
   "source": [
    "#New complete class, with changes:\n",
    "class Neural_Network(object):\n",
    "    def __init__(self, Lambda=0.0001):        \n",
    "        #Define Hyperparameters\n",
    "        self.inputLayerSize = 6\n",
    "        self.outputLayerSize = 1\n",
    "        self.hiddenLayerSize = 5\n",
    "        \n",
    "        #Weights (parameters)\n",
    "        self.W1 = np.random.randn(self.inputLayerSize,self.hiddenLayerSize)\n",
    "        self.W2 = np.random.randn(self.hiddenLayerSize,self.outputLayerSize)\n",
    "        \n",
    "        #Regularization Parameter:\n",
    "        self.Lambda = Lambda\n",
    "        \n",
    "    def forward(self, X):\n",
    "        #Propogate inputs though network\n",
    "        self.z2 = np.dot(X, self.W1)\n",
    "        self.a2 = self.sigmoid(self.z2)\n",
    "        self.z3 = np.dot(self.a2, self.W2)\n",
    "        yHat = self.sigmoid(self.z3) \n",
    "        return yHat\n",
    "        \n",
    "    def sigmoid(self, z):\n",
    "        #Apply sigmoid activation function to scalar, vector, or matrix\n",
    "        return 1/(1+np.exp(-z))\n",
    "    \n",
    "    def sigmoidPrime(self,z):\n",
    "        #Gradient of sigmoid\n",
    "        return np.exp(-z)/((1+np.exp(-z))**2)\n",
    "    \n",
    "    def costFunction(self, X, y):\n",
    "        #Compute cost for given X,y, use weights already stored in class.\n",
    "        self.yHat = self.forward(X)\n",
    "        J = 0.5*sum((y-self.yHat)**2)/X.shape[0] + (self.Lambda/2)*(np.sum(self.W1**2)+np.sum(self.W2**2))\n",
    "        return J\n",
    "        \n",
    "    def costFunctionPrime(self, X, y):\n",
    "        #Compute derivative with respect to W and W2 for a given X and y:\n",
    "        self.yHat = self.forward(X)\n",
    "        \n",
    "        delta3 = np.multiply(-(y-self.yHat), self.sigmoidPrime(self.z3))\n",
    "        #Add gradient of regularization term:\n",
    "        dJdW2 = np.dot(self.a2.T, delta3)/X.shape[0] + self.Lambda*self.W2\n",
    "        \n",
    "        delta2 = np.dot(delta3, self.W2.T)*self.sigmoidPrime(self.z2)\n",
    "        #Add gradient of regularization term:\n",
    "        dJdW1 = np.dot(X.T, delta2)/X.shape[0] + self.Lambda*self.W1\n",
    "        \n",
    "        return dJdW1, dJdW2\n",
    "    \n",
    "    def predict(self):\n",
    "        prediksi = self.forward(dataprediksi)\n",
    "        return prediksi\n",
    "    \n",
    "    #Helper functions for interacting with other methods/classes\n",
    "    def getParams(self):\n",
    "        #Get W1 and W2 Rolled into vector:\n",
    "        params = np.concatenate((self.W1.ravel(), self.W2.ravel()))\n",
    "        return params\n",
    "    \n",
    "    def setParams(self, params):\n",
    "        #Set W1 and W2 using single parameter vector:\n",
    "        W1_start = 0\n",
    "        W1_end = self.hiddenLayerSize*self.inputLayerSize\n",
    "        self.W1 = np.reshape(params[W1_start:W1_end], \\\n",
    "                             (self.inputLayerSize, self.hiddenLayerSize))\n",
    "        W2_end = W1_end + self.hiddenLayerSize*self.outputLayerSize\n",
    "        self.W2 = np.reshape(params[W1_end:W2_end], \\\n",
    "                             (self.hiddenLayerSize, self.outputLayerSize))\n",
    "        \n",
    "    def computeGradients(self, X, y):\n",
    "        dJdW1, dJdW2 = self.costFunctionPrime(X, y)\n",
    "        return np.concatenate((dJdW1.ravel(), dJdW2.ravel()))"
   ]
  },
  {
   "cell_type": "code",
   "execution_count": 9,
   "metadata": {},
   "outputs": [],
   "source": [
    "def computeNumericalGradient(N, X, y):\n",
    "    paramsInitial = N.getParams()\n",
    "    numgrad = np.zeros(paramsInitial.shape)\n",
    "    perturb = np.zeros(paramsInitial.shape)\n",
    "    e = 1e-4\n",
    "\n",
    "    for p in range(len(paramsInitial)):\n",
    "        #Set perturbation vector\n",
    "        perturb[p] = e\n",
    "        N.setParams(paramsInitial + perturb)\n",
    "        loss2 = N.costFunction(X, y)\n",
    "            \n",
    "        N.setParams(paramsInitial - perturb)\n",
    "        loss1 = N.costFunction(X, y)\n",
    "\n",
    "        #Compute Numerical Gradient\n",
    "        numgrad[p] = (loss2 - loss1) / (2*e)\n",
    "\n",
    "            #Return the value we changed to zero:\n",
    "        perturb[p] = 0\n",
    "            \n",
    "    #Return Params to original value:\n",
    "    N.setParams(paramsInitial)\n",
    "\n",
    "    return numgrad "
   ]
  },
  {
   "cell_type": "code",
   "execution_count": 10,
   "metadata": {},
   "outputs": [],
   "source": [
    "NN = Neural_Network(Lambda=0.0001)"
   ]
  },
  {
   "cell_type": "code",
   "execution_count": 11,
   "metadata": {},
   "outputs": [],
   "source": [
    "#Make sure our gradients our correct after making changes:\n",
    "numgrad = computeNumericalGradient(NN, X, y)\n",
    "grad = NN.computeGradients(X,y)"
   ]
  },
  {
   "cell_type": "code",
   "execution_count": 12,
   "metadata": {},
   "outputs": [
    {
     "data": {
      "text/plain": [
       "9.427242424499798e-10"
      ]
     },
     "execution_count": 12,
     "metadata": {},
     "output_type": "execute_result"
    }
   ],
   "source": [
    "#Should be less than 1e-8:\n",
    "np.linalg.norm(grad-numgrad)/np.linalg.norm(grad+numgrad)"
   ]
  },
  {
   "cell_type": "code",
   "execution_count": 13,
   "metadata": {},
   "outputs": [],
   "source": [
    "T = trainer(NN)"
   ]
  },
  {
   "cell_type": "code",
   "execution_count": 14,
   "metadata": {},
   "outputs": [
    {
     "name": "stdout",
     "output_type": "stream",
     "text": [
      "Warning: Maximum number of iterations has been exceeded.\n",
      "         Current function value: 0.011648\n",
      "         Iterations: 100\n",
      "         Function evaluations: 104\n",
      "         Gradient evaluations: 104\n"
     ]
    }
   ],
   "source": [
    "T.train(X,y,testX,testY)"
   ]
  },
  {
   "cell_type": "code",
   "execution_count": 15,
   "metadata": {},
   "outputs": [
    {
     "data": {
      "image/png": "[encoded data removed]",
      "text/plain": [
       "<Figure size 432x288 with 1 Axes>"
      ]
     },
     "metadata": {
      "needs_background": "light"
     },
     "output_type": "display_data"
    }
   ],
   "source": [
    "plot.plot(T.J)\n",
    "plot.plot(T.testJ)\n",
    "plot.grid(1)\n",
    "plot.xlabel('Iterations')\n",
    "plot.ylabel('Cost')\n",
    "plot.legend(['Training', 'Testing'])\n",
    "plot.show()"
   ]
  },
  {
   "cell_type": "code",
   "execution_count": 16,
   "metadata": {},
   "outputs": [
    {
     "data": {
      "text/plain": [
       "[array([0.02225834]),\n",
       " array([0.02214437]),\n",
       " array([0.02211524]),\n",
       " array([0.02186407]),\n",
       " array([0.02142624]),\n",
       " array([0.02067529]),\n",
       " array([0.01945876]),\n",
       " array([0.01769226]),\n",
       " array([0.01604367]),\n",
       " array([0.01460403]),\n",
       " array([0.01429859]),\n",
       " array([0.01428149]),\n",
       " array([0.01427734]),\n",
       " array([0.01427038]),\n",
       " array([0.01425865]),\n",
       " array([0.01423847]),\n",
       " array([0.01420321]),\n",
       " array([0.01414125]),\n",
       " array([0.01403328]),\n",
       " array([0.01385006]),\n",
       " array([0.0135682]),\n",
       " array([0.01336994]),\n",
       " array([0.01313711]),\n",
       " array([0.01302469]),\n",
       " array([0.01297563]),\n",
       " array([0.01294886]),\n",
       " array([0.01290879]),\n",
       " array([0.01288648]),\n",
       " array([0.01288084]),\n",
       " array([0.01287847]),\n",
       " array([0.01287519]),\n",
       " array([0.01284725]),\n",
       " array([0.01279914]),\n",
       " array([0.01272074]),\n",
       " array([0.01261409]),\n",
       " array([0.01253508]),\n",
       " array([0.01241]),\n",
       " array([0.01230236]),\n",
       " array([0.01227398]),\n",
       " array([0.01227235]),\n",
       " array([0.01227041]),\n",
       " array([0.01227002]),\n",
       " array([0.01226931]),\n",
       " array([0.01226798]),\n",
       " array([0.0122655]),\n",
       " array([0.01226092]),\n",
       " array([0.01225258]),\n",
       " array([0.01223798]),\n",
       " array([0.01221401]),\n",
       " array([0.0121782]),\n",
       " array([0.01213155]),\n",
       " array([0.01205732]),\n",
       " array([0.0119512]),\n",
       " array([0.01190241]),\n",
       " array([0.01189288]),\n",
       " array([0.0118895]),\n",
       " array([0.011889]),\n",
       " array([0.01188872]),\n",
       " array([0.01188826]),\n",
       " array([0.01188744]),\n",
       " array([0.01188594]),\n",
       " array([0.01188318]),\n",
       " array([0.01187813]),\n",
       " array([0.01186913]),\n",
       " array([0.01185383]),\n",
       " array([0.01183017]),\n",
       " array([0.01180443]),\n",
       " array([0.0117816]),\n",
       " array([0.01176172]),\n",
       " array([0.01175577]),\n",
       " array([0.01175452]),\n",
       " array([0.01175444]),\n",
       " array([0.0117543]),\n",
       " array([0.01175407]),\n",
       " array([0.01175365]),\n",
       " array([0.01175289]),\n",
       " array([0.01175152]),\n",
       " array([0.01174905]),\n",
       " array([0.01174465]),\n",
       " array([0.01173707]),\n",
       " array([0.01172473]),\n",
       " array([0.01170657]),\n",
       " array([0.01168859]),\n",
       " array([0.0116714]),\n",
       " array([0.01166395]),\n",
       " array([0.01166285]),\n",
       " array([0.01166278]),\n",
       " array([0.01166276]),\n",
       " array([0.01166274]),\n",
       " array([0.01166271]),\n",
       " array([0.01166265]),\n",
       " array([0.01166254]),\n",
       " array([0.01166235]),\n",
       " array([0.01166198]),\n",
       " array([0.01166133]),\n",
       " array([0.01166021]),\n",
       " array([0.0116584]),\n",
       " array([0.01165566]),\n",
       " array([0.01165208]),\n",
       " array([0.01164783])]"
      ]
     },
     "execution_count": 16,
     "metadata": {},
     "output_type": "execute_result"
    }
   ],
   "source": [
    "T.J"
   ]
  },
  {
   "cell_type": "code",
   "execution_count": 17,
   "metadata": {},
   "outputs": [
    {
     "data": {
      "text/plain": [
       "[array([0.01349931]),\n",
       " array([0.01300393]),\n",
       " array([0.01295291]),\n",
       " array([0.01275762]),\n",
       " array([0.0126844]),\n",
       " array([0.01287563]),\n",
       " array([0.01359647]),\n",
       " array([0.01505717]),\n",
       " array([0.01566609]),\n",
       " array([0.01524585]),\n",
       " array([0.01491569]),\n",
       " array([0.01490348]),\n",
       " array([0.01493511]),\n",
       " array([0.01499736]),\n",
       " array([0.01509073]),\n",
       " array([0.01521713]),\n",
       " array([0.01538374]),\n",
       " array([0.01560599]),\n",
       " array([0.01590453]),\n",
       " array([0.01627884]),\n",
       " array([0.016562]),\n",
       " array([0.01622443]),\n",
       " array([0.01621849]),\n",
       " array([0.01578398]),\n",
       " array([0.01618576]),\n",
       " array([0.01632595]),\n",
       " array([0.01656636]),\n",
       " array([0.01671226]),\n",
       " array([0.01686264]),\n",
       " array([0.01683858]),\n",
       " array([0.01686518]),\n",
       " array([0.01697621]),\n",
       " array([0.01701097]),\n",
       " array([0.01695062]),\n",
       " array([0.0167671]),\n",
       " array([0.01651552]),\n",
       " array([0.01631232]),\n",
       " array([0.01508706]),\n",
       " array([0.01518045]),\n",
       " array([0.01544779]),\n",
       " array([0.01533357]),\n",
       " array([0.01530702]),\n",
       " array([0.01528046]),\n",
       " array([0.01524951]),\n",
       " array([0.01520953]),\n",
       " array([0.01515469]),\n",
       " array([0.01507749]),\n",
       " array([0.01496966]),\n",
       " array([0.01482813]),\n",
       " array([0.01467695]),\n",
       " array([0.01462868]),\n",
       " array([0.01473414]),\n",
       " array([0.01512889]),\n",
       " array([0.01557336]),\n",
       " array([0.01562697]),\n",
       " array([0.01560363]),\n",
       " array([0.01558563]),\n",
       " array([0.01557608]),\n",
       " array([0.01555837]),\n",
       " array([0.01554128]),\n",
       " array([0.01551596]),\n",
       " array([0.01548302]),\n",
       " array([0.0154309]),\n",
       " array([0.01535277]),\n",
       " array([0.0152284]),\n",
       " array([0.01505425]),\n",
       " array([0.01489959]),\n",
       " array([0.01483919]),\n",
       " array([0.01479955]),\n",
       " array([0.01488212]),\n",
       " array([0.01497621]),\n",
       " array([0.01497147]),\n",
       " array([0.01496332]),\n",
       " array([0.0149517]),\n",
       " array([0.01493783]),\n",
       " array([0.01492052]),\n",
       " array([0.01489794]),\n",
       " array([0.01486733]),\n",
       " array([0.0148252]),\n",
       " array([0.01476838]),\n",
       " array([0.01469804]),\n",
       " array([0.01463385]),\n",
       " array([0.01465165]),\n",
       " array([0.01476396]),\n",
       " array([0.01487443]),\n",
       " array([0.01490659]),\n",
       " array([0.01491284]),\n",
       " array([0.01491183]),\n",
       " array([0.01491212]),\n",
       " array([0.01491056]),\n",
       " array([0.01490954]),\n",
       " array([0.01490788]),\n",
       " array([0.01490598]),\n",
       " array([0.01490337]),\n",
       " array([0.01489998]),\n",
       " array([0.01489554]),\n",
       " array([0.01489036]),\n",
       " array([0.01488685]),\n",
       " array([0.01489443]),\n",
       " array([0.01492683])]"
      ]
     },
     "execution_count": 17,
     "metadata": {},
     "output_type": "execute_result"
    }
   ],
   "source": [
    "T.testJ"
   ]
  },
  {
   "cell_type": "code",
   "execution_count": 18,
   "metadata": {},
   "outputs": [
    {
     "data": {
      "text/plain": [
       "0.00336147834997116"
      ]
     },
     "execution_count": 18,
     "metadata": {},
     "output_type": "execute_result"
    }
   ],
   "source": [
    "from sklearn.metrics import mean_absolute_error\n",
    "mean_absolute_error(T.J, T.testJ)"
   ]
  },
  {
   "cell_type": "code",
   "execution_count": 19,
   "metadata": {},
   "outputs": [],
   "source": [
    "yHat=NN.forward(X)"
   ]
  },
  {
   "cell_type": "code",
   "execution_count": 20,
   "metadata": {},
   "outputs": [
    {
     "data": {
      "text/plain": [
       "array([[0.36930935],\n",
       "       [0.39637189],\n",
       "       [0.35515   ],\n",
       "       [0.40988129],\n",
       "       [0.43632941],\n",
       "       [0.3838461 ],\n",
       "       [0.37459857],\n",
       "       [0.30186784],\n",
       "       [0.32424865],\n",
       "       [0.39321171],\n",
       "       [0.34345136],\n",
       "       [0.34087778],\n",
       "       [0.27197815],\n",
       "       [0.26000667],\n",
       "       [0.26011754],\n",
       "       [0.35240685],\n",
       "       [0.29793184],\n",
       "       [0.27947043],\n",
       "       [0.31290804],\n",
       "       [0.34157444],\n",
       "       [0.30666582],\n",
       "       [0.43418224],\n",
       "       [0.46134736],\n",
       "       [0.40419012],\n",
       "       [0.38441446],\n",
       "       [0.39246619],\n",
       "       [0.4603539 ],\n",
       "       [0.44643037],\n",
       "       [0.40304063],\n",
       "       [0.50455502],\n",
       "       [0.52214685],\n",
       "       [0.48015909],\n",
       "       [0.54981281],\n",
       "       [0.63619027],\n",
       "       [0.65011092],\n",
       "       [0.64315676],\n",
       "       [0.61859283],\n",
       "       [0.62121284],\n",
       "       [0.70877513],\n",
       "       [0.69297486],\n",
       "       [0.67308184],\n",
       "       [0.72763328],\n",
       "       [0.72526309],\n",
       "       [0.68734783],\n",
       "       [0.72792205],\n",
       "       [0.73228852],\n",
       "       [0.68194771],\n",
       "       [0.58121366],\n",
       "       [0.4896213 ],\n",
       "       [0.54561363],\n",
       "       [0.62138021],\n",
       "       [0.58235294],\n",
       "       [0.57615053],\n",
       "       [0.61580234],\n",
       "       [0.62001297],\n",
       "       [0.60068801],\n",
       "       [0.61813595],\n",
       "       [0.63369846]])"
      ]
     },
     "execution_count": 20,
     "metadata": {},
     "output_type": "execute_result"
    }
   ],
   "source": [
    "yHat"
   ]
  },
  {
   "cell_type": "code",
   "execution_count": 21,
   "metadata": {},
   "outputs": [
    {
     "data": {
      "text/plain": [
       "array([[0.32205711],\n",
       "       [0.46046559],\n",
       "       [0.16668864],\n",
       "       [0.40174469],\n",
       "       [0.31647817],\n",
       "       [0.27086271],\n",
       "       [0.31251205],\n",
       "       [0.36909266],\n",
       "       [0.20575138],\n",
       "       [0.17619313],\n",
       "       [0.29041944],\n",
       "       [0.24090886],\n",
       "       [0.27408835],\n",
       "       [0.37090835],\n",
       "       [0.05869047],\n",
       "       [0.40032459],\n",
       "       [0.28999341],\n",
       "       [0.30771415],\n",
       "       [0.42915251],\n",
       "       [0.44062484],\n",
       "       [0.35804636],\n",
       "       [0.2957245 ],\n",
       "       [0.4914135 ],\n",
       "       [0.35624081],\n",
       "       [0.54105594],\n",
       "       [0.15752904],\n",
       "       [0.55294416],\n",
       "       [0.51433788],\n",
       "       [0.44121317],\n",
       "       [0.58940001],\n",
       "       [0.67707055],\n",
       "       [0.67615763],\n",
       "       [0.69694172],\n",
       "       [0.58293858],\n",
       "       [0.61114774],\n",
       "       [0.7834559 ],\n",
       "       [0.93566973],\n",
       "       [0.28699092],\n",
       "       [1.        ],\n",
       "       [0.84997718],\n",
       "       [0.62600801],\n",
       "       [0.93614647],\n",
       "       [0.85846731],\n",
       "       [0.70258153],\n",
       "       [0.6646853 ],\n",
       "       [0.38417609],\n",
       "       [0.50844449],\n",
       "       [0.70605062],\n",
       "       [0.62566313],\n",
       "       [0.31006745],\n",
       "       [0.71815185],\n",
       "       [0.58129533],\n",
       "       [0.59084039],\n",
       "       [0.64112187],\n",
       "       [0.70009636],\n",
       "       [0.61497185],\n",
       "       [0.591378  ],\n",
       "       [0.32      ]])"
      ]
     },
     "execution_count": 21,
     "metadata": {},
     "output_type": "execute_result"
    }
   ],
   "source": [
    "y"
   ]
  },
  {
   "cell_type": "code",
   "execution_count": 22,
   "metadata": {},
   "outputs": [
    {
     "data": {
      "text/plain": [
       "0.020889847448175295"
      ]
     },
     "execution_count": 22,
     "metadata": {},
     "output_type": "execute_result"
    }
   ],
   "source": [
    "from sklearn.metrics import mean_squared_error \n",
    "mean_squared_error(y,yHat) "
   ]
  },
  {
   "cell_type": "code",
   "execution_count": 23,
   "metadata": {},
   "outputs": [
    {
     "data": {
      "image/png": "[encoded data removed]",
      "text/plain": [
       "<Figure size 432x288 with 1 Axes>"
      ]
     },
     "metadata": {
      "needs_background": "light"
     },
     "output_type": "display_data"
    }
   ],
   "source": [
    "#Plot cost during training:\n",
    "plot.plot(y)\n",
    "plot.plot(yHat)\n",
    "plot.grid(1)\n",
    "plot.legend(['y', 'yHat'])\n",
    "plot.show()"
   ]
  },
  {
   "cell_type": "code",
   "execution_count": 24,
   "metadata": {},
   "outputs": [],
   "source": [
    "prediksi=NN.forward(dataprediksi)"
   ]
  },
  {
   "cell_type": "code",
   "execution_count": 25,
   "metadata": {},
   "outputs": [
    {
     "data": {
      "text/plain": [
       "array([[0.64980008],\n",
       "       [0.59925671],\n",
       "       [0.51512255],\n",
       "       [0.48273972]])"
      ]
     },
     "execution_count": 25,
     "metadata": {},
     "output_type": "execute_result"
    }
   ],
   "source": [
    "prediksi"
   ]
  },
  {
   "cell_type": "code",
   "execution_count": 26,
   "metadata": {},
   "outputs": [],
   "source": [
    "from sklearn.metrics import mean_squared_error "
   ]
  },
  {
   "cell_type": "code",
   "execution_count": 27,
   "metadata": {},
   "outputs": [
    {
     "data": {
      "text/plain": [
       "0.09566737127237186"
      ]
     },
     "execution_count": 27,
     "metadata": {},
     "output_type": "execute_result"
    }
   ],
   "source": [
    "Y_true= ([\t0.50\t]\t,\n",
    "[\t0.415539889\t]\t,\n",
    "[\t0\t]\t,\n",
    "[\t0.235502358\t]\t,\n",
    "\n",
    ")\n",
    "\n",
    "\n",
    "Y_pred=prediksi\n",
    "mean_squared_error(Y_true,Y_pred) "
   ]
  },
  {
   "cell_type": "code",
   "execution_count": 28,
   "metadata": {},
   "outputs": [
    {
     "data": {
      "text/plain": [
       "array([[0.38732394, 0.79538041, 0.70009636, 0.61497185, 0.591378  ,\n",
       "        0.32      ],\n",
       "       [0.37323944, 1.        , 0.61497185, 0.591378  , 0.32      ,\n",
       "        0.5       ],\n",
       "       [0.36619718, 0.70768171, 0.591378  , 0.32      , 0.5       ,\n",
       "        0.41553989],\n",
       "       [0.44366197, 0.49169532, 0.32      , 0.5       , 0.41553989,\n",
       "        0.        ]])"
      ]
     },
     "execution_count": 28,
     "metadata": {},
     "output_type": "execute_result"
    }
   ],
   "source": [
    "dataprediksi"
   ]
  },
  {
   "cell_type": "code",
   "execution_count": 29,
   "metadata": {},
   "outputs": [],
   "source": [
    "z=np.array([0.56136209\t,\t0.51319034])"
   ]
  },
  {
   "cell_type": "code",
   "execution_count": 30,
   "metadata": {},
   "outputs": [],
   "source": [
    "y=np.array([0.50\t,\t0.415539889\t,\t0\t,\t0.235502358\t])"
   ]
  },
  {
   "cell_type": "code",
   "execution_count": 31,
   "metadata": {},
   "outputs": [],
   "source": [
    "a=np.concatenate((z,y))"
   ]
  },
  {
   "cell_type": "code",
   "execution_count": 32,
   "metadata": {},
   "outputs": [
    {
     "data": {
      "text/plain": [
       "array([0.35911602])"
      ]
     },
     "execution_count": 32,
     "metadata": {},
     "output_type": "execute_result"
    }
   ],
   "source": [
    "#prediksi 1\n",
    "prediksi=NN.forward(a)\n",
    "prediksi"
   ]
  },
  {
   "cell_type": "code",
   "execution_count": 33,
   "metadata": {},
   "outputs": [
    {
     "data": {
      "text/plain": [
       "array([0.23565199])"
      ]
     },
     "execution_count": 33,
     "metadata": {},
     "output_type": "execute_result"
    }
   ],
   "source": [
    "#prediksi 2\n",
    "c=prediksi\n",
    "z1=np.array([0.59014524\t,\t0.48673204])\n",
    "b=y[1:]\n",
    "d=np.concatenate((z1,b,c))\n",
    "prediksi=NN.forward(d)\n",
    "prediksi"
   ]
  },
  {
   "cell_type": "code",
   "execution_count": 34,
   "metadata": {},
   "outputs": [
    {
     "data": {
      "text/plain": [
       "array([0.23668695])"
      ]
     },
     "execution_count": 34,
     "metadata": {},
     "output_type": "execute_result"
    }
   ],
   "source": [
    "#prediksi 3\n",
    "c=prediksi\n",
    "z2=np.array([0.52737156\t,\t0.43012934])\n",
    "b=y[1:]\n",
    "d=np.concatenate((z2,b,c))\n",
    "prediksi=NN.forward(d)\n",
    "prediksi"
   ]
  },
  {
   "cell_type": "code",
   "execution_count": 35,
   "metadata": {},
   "outputs": [
    {
     "data": {
      "text/plain": [
       "array([0.24335525])"
      ]
     },
     "execution_count": 35,
     "metadata": {},
     "output_type": "execute_result"
    }
   ],
   "source": [
    "#prediksi 4\n",
    "c=prediksi\n",
    "z3=np.array([0.460205\t,\t0.41357631])\n",
    "b=y[1:]\n",
    "d=np.concatenate((z3,b,c))\n",
    "prediksi=NN.forward(d)\n",
    "prediksi"
   ]
  },
  {
   "cell_type": "code",
   "execution_count": 36,
   "metadata": {},
   "outputs": [
    {
     "data": {
      "text/plain": [
       "array([0.2499765])"
      ]
     },
     "execution_count": 36,
     "metadata": {},
     "output_type": "execute_result"
    }
   ],
   "source": [
    "#prediksi 5\n",
    "c=prediksi\n",
    "z4=np.array([0.40834019\t,\t0.41626853])\n",
    "b=y[1:]\n",
    "d=np.concatenate((z4,b,c))\n",
    "prediksi=NN.forward(d)\n",
    "prediksi"
   ]
  },
  {
   "cell_type": "code",
   "execution_count": 37,
   "metadata": {},
   "outputs": [
    {
     "data": {
      "text/plain": [
       "array([0.24742578])"
      ]
     },
     "execution_count": 37,
     "metadata": {},
     "output_type": "execute_result"
    }
   ],
   "source": [
    "#prediksi 6\n",
    "c=prediksi\n",
    "z5=np.array([0.42786469\t,\t0.41314695])\n",
    "b=y[1:]\n",
    "d=np.concatenate((z5,b,c))\n",
    "prediksi=NN.forward(d)\n",
    "prediksi"
   ]
  }
 ],
 "metadata": {
  "kernelspec": {
   "display_name": "Python 3",
   "language": "python",
   "name": "python3"
  },
  "language_info": {
   "codemirror_mode": {
    "name": "ipython",
    "version": 3
   },
   "file_extension": ".py",
   "mimetype": "text/x-python",
   "name": "python",
   "nbconvert_exporter": "python",
   "pygments_lexer": "ipython3",
   "version": "3.7.3"
  }
 },
 "nbformat": 4,
 "nbformat_minor": 2
}
