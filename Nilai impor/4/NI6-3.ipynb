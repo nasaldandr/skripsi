{
 "cells": [
  {
   "cell_type": "code",
   "execution_count": 1,
   "metadata": {},
   "outputs": [],
   "source": [
    "import numpy as np"
   ]
  },
  {
   "cell_type": "code",
   "execution_count": 2,
   "metadata": {},
   "outputs": [],
   "source": [
    "#UNTUK NILAI IMPOR\n",
    "class Neural_Network(object):\n",
    "    def __init__(self):\n",
    "        #parameters\n",
    "        self.inputLayerSize = 6\n",
    "        self.outputLayerSize = 1\n",
    "        self.hiddenLayerSize = 3\n",
    "\n",
    "        #weights\n",
    "        self.W1 = np.random.randn(self.inputLayerSize,\\\n",
    "                                 self.hiddenLayerSize)  \n",
    "        self.W2 = np.random.randn(self.hiddenLayerSize,\\\n",
    "                                 self.outputLayerSize)  \n",
    "    \n",
    "    def printw(self):\n",
    "        return self.W1\n",
    "        \n",
    "    def weight(self, W1, W2):\n",
    "        #Make an internal variable for the weight:\n",
    "        self.W1 = W1\n",
    "        self.W2 = W2\n",
    "        \n",
    "    def forward(self, X):\n",
    "        #forward propagation through our network\n",
    "        self.z2 = np.dot(X,self.W1)  \n",
    "        self.a2 = self.sigmoid(self.z2)  # activation function\n",
    "        self.z3 = np.dot(self.a2, self.W2) \n",
    "        yHat = self.sigmoid(self.z3)  # final activation function\n",
    "        return yHat\n",
    "\n",
    "    def sigmoid(self, z):\n",
    "        # activation function\n",
    "        return 1 / (1 + np.exp(-z))\n",
    "    \n",
    "    def sigmoidPrime(self,z): \n",
    "        #derivative of sigmoid     \n",
    "        return np.exp(-z)/((1+np.exp(-z))**2)\n",
    "    \n",
    "    def costFunction(self,X,y):\n",
    "        self.yHat = self.forward(X)\n",
    "        J=0.5*sum((y-self.yHat)**2)\n",
    "        return J\n",
    "    \n",
    "    def costFunctionPrime(self,X,y):\n",
    "        self.yHat=self.forward(X)\n",
    "        \n",
    "        delta3=np.multiply(-(y-self.yHat),self.sigmoidPrime(self.z3))\n",
    "        dJdW2=np.dot(self.a2.T,delta3)\n",
    "        \n",
    "        delta2=np.dot(delta3,self.W2.T)*self.sigmoidPrime(self.z2)\n",
    "        dJdW1=np.dot(X.T,delta2)\n",
    "        return dJdW1,dJdW2\n",
    "    \n",
    "    def predict(self):\n",
    "        prediksi = self.forward(dataprediksi)\n",
    "        return prediksi\n",
    "    \n",
    "    def getParams(self):\n",
    "        params=np.concatenate((self.W1.ravel(),self.W2.ravel()))\n",
    "        return params\n",
    "    \n",
    "    def setParams(self,params):\n",
    "        W1_start=0\n",
    "        W1_end=self.hiddenLayerSize*self.inputLayerSize\n",
    "        self.W1=np.reshape(params[W1_start:W1_end],\\\n",
    "                          (self.inputLayerSize,self.hiddenLayerSize))\n",
    "        W2_end=W1_end+self.hiddenLayerSize*self.outputLayerSize\n",
    "        self.W2=np.reshape(params[W1_end:W2_end],\\\n",
    "                          (self.hiddenLayerSize,self.outputLayerSize))\n",
    "        \n",
    "    def computeGradients(self, X, y):\n",
    "        dJdW1, dJdW2 = self.costFunctionPrime(X, y)\n",
    "        return np.concatenate((dJdW1.ravel(), dJdW2.ravel()))"
   ]
  },
  {
   "cell_type": "code",
   "execution_count": 3,
   "metadata": {},
   "outputs": [],
   "source": [
    "NN = Neural_Network()"
   ]
  },
  {
   "cell_type": "code",
   "execution_count": 4,
   "metadata": {},
   "outputs": [
    {
     "data": {
      "text/plain": [
       "array([[-1.27446004, -0.86354764,  0.57924897],\n",
       "       [-1.31981319, -0.41823375,  0.48388499],\n",
       "       [-1.11791524, -0.26936404,  0.38026916],\n",
       "       [ 0.71017941, -0.71552514, -2.21417672],\n",
       "       [ 0.05554836,  0.19320741,  0.49415677],\n",
       "       [-0.33840432, -1.49621667, -1.9505454 ]])"
      ]
     },
     "execution_count": 4,
     "metadata": {},
     "output_type": "execute_result"
    }
   ],
   "source": [
    "NN.W1"
   ]
  },
  {
   "cell_type": "code",
   "execution_count": 5,
   "metadata": {},
   "outputs": [
    {
     "data": {
      "text/plain": [
       "array([[-1.71675797],\n",
       "       [-0.35575024],\n",
       "       [ 0.78978921]])"
      ]
     },
     "execution_count": 5,
     "metadata": {},
     "output_type": "execute_result"
    }
   ],
   "source": [
    "NN.W2"
   ]
  },
  {
   "cell_type": "code",
   "execution_count": 6,
   "metadata": {},
   "outputs": [],
   "source": [
    "#NILAI IMPOR\n",
    "X=np.array(([\t0.669014085\t,\t0.170734062\t,\t0.423360552\t,\t0.311558554\t,\t0.422995385\t,\t0.424780646\t]\t,\n",
    "[\t0.697183099\t,\t0.223256598\t,\t0.311558554\t,\t0.422995385\t,\t0.424780646\t,\t0.322057108\t]\t,\n",
    "[\t0.971830986\t,\t0.241974687\t,\t0.422995385\t,\t0.424780646\t,\t0.322057108\t,\t0.460465588\t]\t,\n",
    "[\t0.591549296\t,\t0.365733465\t,\t0.424780646\t,\t0.322057108\t,\t0.460465588\t,\t0.166688644\t]\t,\n",
    "[\t0.281690141\t,\t0.552558994\t,\t0.322057108\t,\t0.460465588\t,\t0.166688644\t,\t0.401744687\t]\t,\n",
    "[\t0.26056338\t,\t0.370023519\t,\t0.460465588\t,\t0.166688644\t,\t0.401744687\t,\t0.316478166\t]\t,\n",
    "[\t0.464788732\t,\t0.332531703\t,\t0.166688644\t,\t0.401744687\t,\t0.316478166\t,\t0.270862707\t]\t,\n",
    "[\t0.992957746\t,\t0.387887522\t,\t0.401744687\t,\t0.316478166\t,\t0.270862707\t,\t0.312512045\t]\t,\n",
    "[\t0.676056338\t,\t0.398363943\t,\t0.316478166\t,\t0.270862707\t,\t0.312512045\t,\t0.369092661\t]\t,\n",
    "[\t0.253521127\t,\t0.284826299\t,\t0.270862707\t,\t0.312512045\t,\t0.369092661\t,\t0.205751382\t]\t,\n",
    "[\t0.450704225\t,\t0.186735022\t,\t0.312512045\t,\t0.369092661\t,\t0.205751382\t,\t0.176193133\t]\t,\n",
    "[\t0\t,\t0.182694768\t,\t0.369092661\t,\t0.205751382\t,\t0.176193133\t,\t0.290419435\t]\t,\n",
    "[\t0.485915493\t,\t0.255617002\t,\t0.205751382\t,\t0.176193133\t,\t0.290419435\t,\t0.24090886\t]\t,\n",
    "[\t0.781690141\t,\t0.23597043\t,\t0.176193133\t,\t0.290419435\t,\t0.24090886\t,\t0.27408835\t]\t,\n",
    "[\t0.802816901\t,\t0.164134134\t,\t0.290419435\t,\t0.24090886\t,\t0.27408835\t,\t0.370908353\t]\t,\n",
    "[\t0.302816901\t,\t0.178176635\t,\t0.24090886\t,\t0.27408835\t,\t0.370908353\t,\t0.05869047\t]\t,\n",
    "[\t0.471830986\t,\t0.163956101\t,\t0.27408835\t,\t0.370908353\t,\t0.05869047\t,\t0.400324593\t]\t,\n",
    "[\t0.415492958\t,\t0.133241484\t,\t0.370908353\t,\t0.05869047\t,\t0.400324593\t,\t0.289993407\t]\t,\n",
    "[\t0.647887324\t,\t0.226399017\t,\t0.05869047\t,\t0.400324593\t,\t0.289993407\t,\t0.307714155\t]\t,\n",
    "[\t0.612676056\t,\t0.255013861\t,\t0.400324593\t,\t0.289993407\t,\t0.307714155\t,\t0.429152508\t]\t,\n",
    "[\t1\t,\t0.23708614\t,\t0.289993407\t,\t0.307714155\t,\t0.429152508\t,\t0.440624842\t]\t,\n",
    "[\t0.478873239\t,\t0.231651119\t,\t0.307714155\t,\t0.429152508\t,\t0.440624842\t,\t0.358046356\t]\t,\n",
    "[\t0.302816901\t,\t0.233067608\t,\t0.429152508\t,\t0.440624842\t,\t0.358046356\t,\t0.295724502\t]\t,\n",
    "[\t0.38028169\t,\t0.221173719\t,\t0.440624842\t,\t0.358046356\t,\t0.295724502\t,\t0.491413501\t]\t,\n",
    "[\t0.591549296\t,\t0.22633168\t,\t0.358046356\t,\t0.295724502\t,\t0.491413501\t,\t0.356240807\t]\t,\n",
    "[\t0.802816901\t,\t0.218698642\t,\t0.295724502\t,\t0.491413501\t,\t0.356240807\t,\t0.541055942\t]\t,\n",
    "[\t0.471830986\t,\t0.232032203\t,\t0.491413501\t,\t0.356240807\t,\t0.541055942\t,\t0.157529036\t]\t,\n",
    "[\t0.267605634\t,\t0.231947948\t,\t0.356240807\t,\t0.541055942\t,\t0.157529036\t,\t0.55294416\t]\t,\n",
    "[\t0.408450704\t,\t0.221547817\t,\t0.541055942\t,\t0.157529036\t,\t0.55294416\t,\t0.514337881\t]\t,\n",
    "[\t0.323943662\t,\t0.287958581\t,\t0.157529036\t,\t0.55294416\t,\t0.514337881\t,\t0.441213166\t]\t,\n",
    "[\t0.457746479\t,\t0.28837327\t,\t0.55294416\t,\t0.514337881\t,\t0.441213166\t,\t0.58940001\t]\t,\n",
    "[\t0.816901408\t,\t0.297145757\t,\t0.514337881\t,\t0.441213166\t,\t0.58940001\t,\t0.677070548\t]\t,\n",
    "[\t0.753521127\t,\t0.243669818\t,\t0.441213166\t,\t0.58940001\t,\t0.677070548\t,\t0.67615763\t]\t,\n",
    "[\t0.436619718\t,\t0.307437314\t,\t0.58940001\t,\t0.677070548\t,\t0.67615763\t,\t0.696941725\t]\t,\n",
    "[\t0.457746479\t,\t0.358597855\t,\t0.677070548\t,\t0.67615763\t,\t0.696941725\t,\t0.582938581\t]\t,\n",
    "[\t0.387323944\t,\t0.372181217\t,\t0.67615763\t,\t0.696941725\t,\t0.582938581\t,\t0.611147741\t]\t,\n",
    "[\t0.464788732\t,\t0.450259481\t,\t0.696941725\t,\t0.582938581\t,\t0.611147741\t,\t0.783455901\t]\t,\n",
    "[\t0.732394366\t,\t0.443095634\t,\t0.582938581\t,\t0.611147741\t,\t0.783455901\t,\t0.935669727\t]\t,\n",
    "[\t0.514084507\t,\t0.558155976\t,\t0.611147741\t,\t0.783455901\t,\t0.935669727\t,\t0.286990922\t]\t,\n",
    "[\t0.281690141\t,\t0.602359827\t,\t0.783455901\t,\t0.935669727\t,\t0.286990922\t,\t1\t]\t,\n",
    "[\t0.190140845\t,\t0.696291723\t,\t0.935669727\t,\t0.286990922\t,\t1\t,\t0.849977177\t]\t,\n",
    "[\t0.514084507\t,\t0.790604671\t,\t0.286990922\t,\t1\t,\t0.849977177\t,\t0.626008013\t]\t,\n",
    "[\t0.507042254\t,\t0.644022227\t,\t1\t,\t0.849977177\t,\t0.626008013\t,\t0.936146473\t]\t,\n",
    "[\t0.753521127\t,\t0.583228643\t,\t0.849977177\t,\t0.626008013\t,\t0.936146473\t,\t0.858467312\t]\t,\n",
    "[\t0.542253521\t,\t0.481715009\t,\t0.626008013\t,\t0.936146473\t,\t0.858467312\t,\t0.702581529\t]\t,\n",
    "[\t0.26056338\t,\t0.442812107\t,\t0.936146473\t,\t0.858467312\t,\t0.702581529\t,\t0.664685297\t]\t,\n",
    "[\t0.394366197\t,\t0.496270585\t,\t0.858467312\t,\t0.702581529\t,\t0.664685297\t,\t0.384176092\t]\t,\n",
    "[\t0.626760563\t,\t0.475463393\t,\t0.702581529\t,\t0.664685297\t,\t0.384176092\t,\t0.50844449\t]\t,\n",
    "[\t0.795774648\t,\t0.551559791\t,\t0.664685297\t,\t0.384176092\t,\t0.50844449\t,\t0.706050616\t]\t,\n",
    "[\t0.704225352\t,\t0.500994351\t,\t0.384176092\t,\t0.50844449\t,\t0.706050616\t,\t0.625663133\t]\t,\n",
    "[\t0.535211268\t,\t0.445458587\t,\t0.50844449\t,\t0.706050616\t,\t0.625663133\t,\t0.310067454\t]\t,\n",
    "[\t0.401408451\t,\t0.505711667\t,\t0.706050616\t,\t0.625663133\t,\t0.310067454\t,\t0.718151849\t]\t,\n",
    "[\t0.126760563\t,\t0.465889036\t,\t0.625663133\t,\t0.310067454\t,\t0.718151849\t,\t0.581295329\t]\t,\n",
    "[\t0.330985915\t,\t0.46785659\t,\t0.310067454\t,\t0.718151849\t,\t0.581295329\t,\t0.590840392\t]\t,\n",
    "[\t0.415492958\t,\t0.453001423\t,\t0.718151849\t,\t0.581295329\t,\t0.590840392\t,\t0.641121875\t]\t,\n",
    "[\t0.556338028\t,\t0.437411724\t,\t0.581295329\t,\t0.590840392\t,\t0.641121875\t,\t0.700096364\t]\t,\n",
    "[\t0.591549296\t,\t0.350673696\t,\t0.590840392\t,\t0.641121875\t,\t0.700096364\t,\t0.614971852\t]\t,\n",
    "[\t0.514084507\t,\t0.364031312\t,\t0.641121875\t,\t0.700096364\t,\t0.614971852\t,\t0.591377999\t]\t,\n",
    "\n",
    ")           \n",
    ",dtype=float)\n",
    "y=np.array(([\t0.322057108\t]\t,\n",
    "[\t0.460465588\t]\t,\n",
    "[\t0.166688644\t]\t,\n",
    "[\t0.401744687\t]\t,\n",
    "[\t0.316478166\t]\t,\n",
    "[\t0.270862707\t]\t,\n",
    "[\t0.312512045\t]\t,\n",
    "[\t0.369092661\t]\t,\n",
    "[\t0.205751382\t]\t,\n",
    "[\t0.176193133\t]\t,\n",
    "[\t0.290419435\t]\t,\n",
    "[\t0.24090886\t]\t,\n",
    "[\t0.27408835\t]\t,\n",
    "[\t0.370908353\t]\t,\n",
    "[\t0.05869047\t]\t,\n",
    "[\t0.400324593\t]\t,\n",
    "[\t0.289993407\t]\t,\n",
    "[\t0.307714155\t]\t,\n",
    "[\t0.429152508\t]\t,\n",
    "[\t0.440624842\t]\t,\n",
    "[\t0.358046356\t]\t,\n",
    "[\t0.295724502\t]\t,\n",
    "[\t0.491413501\t]\t,\n",
    "[\t0.356240807\t]\t,\n",
    "[\t0.541055942\t]\t,\n",
    "[\t0.157529036\t]\t,\n",
    "[\t0.55294416\t]\t,\n",
    "[\t0.514337881\t]\t,\n",
    "[\t0.441213166\t]\t,\n",
    "[\t0.58940001\t]\t,\n",
    "[\t0.677070548\t]\t,\n",
    "[\t0.67615763\t]\t,\n",
    "[\t0.696941725\t]\t,\n",
    "[\t0.582938581\t]\t,\n",
    "[\t0.611147741\t]\t,\n",
    "[\t0.783455901\t]\t,\n",
    "[\t0.935669727\t]\t,\n",
    "[\t0.286990922\t]\t,\n",
    "[\t1\t]\t,\n",
    "[\t0.849977177\t]\t,\n",
    "[\t0.626008013\t]\t,\n",
    "[\t0.936146473\t]\t,\n",
    "[\t0.858467312\t]\t,\n",
    "[\t0.702581529\t]\t,\n",
    "[\t0.664685297\t]\t,\n",
    "[\t0.384176092\t]\t,\n",
    "[\t0.50844449\t]\t,\n",
    "[\t0.706050616\t]\t,\n",
    "[\t0.625663133\t]\t,\n",
    "[\t0.310067454\t]\t,\n",
    "[\t0.718151849\t]\t,\n",
    "[\t0.581295329\t]\t,\n",
    "[\t0.590840392\t]\t,\n",
    "[\t0.641121875\t]\t,\n",
    "[\t0.700096364\t]\t,\n",
    "[\t0.614971852\t]\t,\n",
    "[\t0.591377999\t]\t,\n",
    "[\t0.32\t]\t,\n",
    "\n",
    ")\n",
    ",dtype=float)\n",
    "\n",
    "dataprediksi = np.array(([\t0.387323944\t,\t0.795380412\t,\t0.700096364\t,\t0.614971852\t,\t0.591377999\t,\t0.32\t]\t,\n",
    "[\t0.373239437\t,\t1\t,\t0.614971852\t,\t0.591377999\t,\t0.32\t,\t0.50\t]\t,\n",
    "[\t0.366197183\t,\t0.707681705\t,\t0.591377999\t,\t0.32\t,\t0.50\t,\t0.415539889\t]\t,\n",
    "[\t0.443661972\t,\t0.491695324\t,\t0.32\t,\t0.50\t,\t0.415539889\t,\t0\t]\t,\n",
    "\n",
    "\n",
    "), dtype=float)\n"
   ]
  },
  {
   "cell_type": "code",
   "execution_count": 7,
   "metadata": {},
   "outputs": [],
   "source": [
    "import matplotlib.pyplot as plot"
   ]
  },
  {
   "cell_type": "code",
   "execution_count": 8,
   "metadata": {},
   "outputs": [],
   "source": [
    "from scipy import optimize"
   ]
  },
  {
   "cell_type": "code",
   "execution_count": 9,
   "metadata": {},
   "outputs": [],
   "source": [
    "class trainer(object):\n",
    "    def __init__(self, N):\n",
    "        #Make Local reference to network:\n",
    "        self.N = N\n",
    "        \n",
    "    def callbackF(self, params):\n",
    "        self.N.setParams(params)\n",
    "        self.J.append(self.N.costFunction(self.X, self.y))   \n",
    "        \n",
    "    def costFunctionWrapper(self, params, X, y):\n",
    "        self.N.setParams(params)\n",
    "        cost = self.N.costFunction(X, y)\n",
    "        grad = self.N.computeGradients(X,y)\n",
    "        \n",
    "        return cost, grad\n",
    "        \n",
    "    def train(self, X, y):\n",
    "        #Make an internal variable for the callback function:\n",
    "        self.X = X\n",
    "        self.y = y\n",
    "\n",
    "        #Make empty list to store costs:\n",
    "        self.J = []\n",
    "        \n",
    "        params0 = self.N.getParams()\n",
    "\n",
    "        options = {'maxiter': 100, 'disp' : True}\n",
    "        _res = optimize.minimize(self.costFunctionWrapper, params0, jac=True, method='BFGS', \\\n",
    "                                 args=(X, y), options=options, callback=self.callbackF)\n",
    "\n",
    "        self.N.setParams(_res.x)\n",
    "        self.optimizationResults = _res"
   ]
  },
  {
   "cell_type": "code",
   "execution_count": 10,
   "metadata": {},
   "outputs": [],
   "source": [
    "NN=Neural_Network()"
   ]
  },
  {
   "cell_type": "code",
   "execution_count": 11,
   "metadata": {},
   "outputs": [],
   "source": [
    "T = trainer(NN)"
   ]
  },
  {
   "cell_type": "code",
   "execution_count": 12,
   "metadata": {},
   "outputs": [
    {
     "name": "stdout",
     "output_type": "stream",
     "text": [
      "Warning: Maximum number of iterations has been exceeded.\n",
      "         Current function value: 0.423329\n",
      "         Iterations: 100\n",
      "         Function evaluations: 105\n",
      "         Gradient evaluations: 105\n"
     ]
    }
   ],
   "source": [
    "#Train network with new data:\n",
    "T = trainer(NN)\n",
    "T.train(X,y)"
   ]
  },
  {
   "cell_type": "code",
   "execution_count": 13,
   "metadata": {},
   "outputs": [
    {
     "data": {
      "image/png": "[encoded data removed]",
      "text/plain": [
       "<Figure size 432x288 with 1 Axes>"
      ]
     },
     "metadata": {
      "needs_background": "light"
     },
     "output_type": "display_data"
    }
   ],
   "source": [
    "#Plot cost during training:\n",
    "plot.plot(T.J)\n",
    "plot.grid(1)\n",
    "plot.xlabel('Iterations')\n",
    "plot.ylabel('Cost')\n",
    "plot.show()"
   ]
  },
  {
   "cell_type": "code",
   "execution_count": 14,
   "metadata": {},
   "outputs": [],
   "source": [
    "#Training Data:\n",
    "trainX = np.array(([\t0.669014085\t,\t0.170734062\t,\t0.423360552\t,\t0.311558554\t,\t0.422995385\t,\t0.424780646\t]\t,\n",
    "[\t0.697183099\t,\t0.223256598\t,\t0.311558554\t,\t0.422995385\t,\t0.424780646\t,\t0.322057108\t]\t,\n",
    "[\t0.971830986\t,\t0.241974687\t,\t0.422995385\t,\t0.424780646\t,\t0.322057108\t,\t0.460465588\t]\t,\n",
    "[\t0.591549296\t,\t0.365733465\t,\t0.424780646\t,\t0.322057108\t,\t0.460465588\t,\t0.166688644\t]\t,\n",
    "[\t0.281690141\t,\t0.552558994\t,\t0.322057108\t,\t0.460465588\t,\t0.166688644\t,\t0.401744687\t]\t,\n",
    "[\t0.26056338\t,\t0.370023519\t,\t0.460465588\t,\t0.166688644\t,\t0.401744687\t,\t0.316478166\t]\t,\n",
    "[\t0.464788732\t,\t0.332531703\t,\t0.166688644\t,\t0.401744687\t,\t0.316478166\t,\t0.270862707\t]\t,\n",
    "[\t0.992957746\t,\t0.387887522\t,\t0.401744687\t,\t0.316478166\t,\t0.270862707\t,\t0.312512045\t]\t,\n",
    "[\t0.676056338\t,\t0.398363943\t,\t0.316478166\t,\t0.270862707\t,\t0.312512045\t,\t0.369092661\t]\t,\n",
    "[\t0.253521127\t,\t0.284826299\t,\t0.270862707\t,\t0.312512045\t,\t0.369092661\t,\t0.205751382\t]\t,\n",
    "[\t0.450704225\t,\t0.186735022\t,\t0.312512045\t,\t0.369092661\t,\t0.205751382\t,\t0.176193133\t]\t,\n",
    "[\t0\t,\t0.182694768\t,\t0.369092661\t,\t0.205751382\t,\t0.176193133\t,\t0.290419435\t]\t,\n",
    "[\t0.485915493\t,\t0.255617002\t,\t0.205751382\t,\t0.176193133\t,\t0.290419435\t,\t0.24090886\t]\t,\n",
    "[\t0.781690141\t,\t0.23597043\t,\t0.176193133\t,\t0.290419435\t,\t0.24090886\t,\t0.27408835\t]\t,\n",
    "[\t0.802816901\t,\t0.164134134\t,\t0.290419435\t,\t0.24090886\t,\t0.27408835\t,\t0.370908353\t]\t,\n",
    "[\t0.302816901\t,\t0.178176635\t,\t0.24090886\t,\t0.27408835\t,\t0.370908353\t,\t0.05869047\t]\t,\n",
    "[\t0.471830986\t,\t0.163956101\t,\t0.27408835\t,\t0.370908353\t,\t0.05869047\t,\t0.400324593\t]\t,\n",
    "[\t0.415492958\t,\t0.133241484\t,\t0.370908353\t,\t0.05869047\t,\t0.400324593\t,\t0.289993407\t]\t,\n",
    "[\t0.647887324\t,\t0.226399017\t,\t0.05869047\t,\t0.400324593\t,\t0.289993407\t,\t0.307714155\t]\t,\n",
    "[\t0.612676056\t,\t0.255013861\t,\t0.400324593\t,\t0.289993407\t,\t0.307714155\t,\t0.429152508\t]\t,\n",
    "[\t1\t,\t0.23708614\t,\t0.289993407\t,\t0.307714155\t,\t0.429152508\t,\t0.440624842\t]\t,\n",
    "[\t0.478873239\t,\t0.231651119\t,\t0.307714155\t,\t0.429152508\t,\t0.440624842\t,\t0.358046356\t]\t,\n",
    "[\t0.302816901\t,\t0.233067608\t,\t0.429152508\t,\t0.440624842\t,\t0.358046356\t,\t0.295724502\t]\t,\n",
    "[\t0.38028169\t,\t0.221173719\t,\t0.440624842\t,\t0.358046356\t,\t0.295724502\t,\t0.491413501\t]\t,\n",
    "[\t0.591549296\t,\t0.22633168\t,\t0.358046356\t,\t0.295724502\t,\t0.491413501\t,\t0.356240807\t]\t,\n",
    "[\t0.802816901\t,\t0.218698642\t,\t0.295724502\t,\t0.491413501\t,\t0.356240807\t,\t0.541055942\t]\t,\n",
    "[\t0.471830986\t,\t0.232032203\t,\t0.491413501\t,\t0.356240807\t,\t0.541055942\t,\t0.157529036\t]\t,\n",
    "[\t0.267605634\t,\t0.231947948\t,\t0.356240807\t,\t0.541055942\t,\t0.157529036\t,\t0.55294416\t]\t,\n",
    "[\t0.408450704\t,\t0.221547817\t,\t0.541055942\t,\t0.157529036\t,\t0.55294416\t,\t0.514337881\t]\t,\n",
    "[\t0.323943662\t,\t0.287958581\t,\t0.157529036\t,\t0.55294416\t,\t0.514337881\t,\t0.441213166\t]\t,\n",
    "[\t0.457746479\t,\t0.28837327\t,\t0.55294416\t,\t0.514337881\t,\t0.441213166\t,\t0.58940001\t]\t,\n",
    "[\t0.816901408\t,\t0.297145757\t,\t0.514337881\t,\t0.441213166\t,\t0.58940001\t,\t0.677070548\t]\t,\n",
    "[\t0.753521127\t,\t0.243669818\t,\t0.441213166\t,\t0.58940001\t,\t0.677070548\t,\t0.67615763\t]\t,\n",
    "[\t0.436619718\t,\t0.307437314\t,\t0.58940001\t,\t0.677070548\t,\t0.67615763\t,\t0.696941725\t]\t,\n",
    "[\t0.457746479\t,\t0.358597855\t,\t0.677070548\t,\t0.67615763\t,\t0.696941725\t,\t0.582938581\t]\t,\n",
    "[\t0.387323944\t,\t0.372181217\t,\t0.67615763\t,\t0.696941725\t,\t0.582938581\t,\t0.611147741\t]\t,\n",
    "[\t0.464788732\t,\t0.450259481\t,\t0.696941725\t,\t0.582938581\t,\t0.611147741\t,\t0.783455901\t]\t,\n",
    "[\t0.732394366\t,\t0.443095634\t,\t0.582938581\t,\t0.611147741\t,\t0.783455901\t,\t0.935669727\t]\t,\n",
    "[\t0.514084507\t,\t0.558155976\t,\t0.611147741\t,\t0.783455901\t,\t0.935669727\t,\t0.286990922\t]\t,\n",
    "[\t0.281690141\t,\t0.602359827\t,\t0.783455901\t,\t0.935669727\t,\t0.286990922\t,\t1\t]\t,\n",
    "[\t0.190140845\t,\t0.696291723\t,\t0.935669727\t,\t0.286990922\t,\t1\t,\t0.849977177\t]\t,\n",
    "[\t0.514084507\t,\t0.790604671\t,\t0.286990922\t,\t1\t,\t0.849977177\t,\t0.626008013\t]\t,\n",
    "[\t0.507042254\t,\t0.644022227\t,\t1\t,\t0.849977177\t,\t0.626008013\t,\t0.936146473\t]\t,\n",
    "[\t0.753521127\t,\t0.583228643\t,\t0.849977177\t,\t0.626008013\t,\t0.936146473\t,\t0.858467312\t]\t,\n",
    "[\t0.542253521\t,\t0.481715009\t,\t0.626008013\t,\t0.936146473\t,\t0.858467312\t,\t0.702581529\t]\t,\n",
    "\n",
    ")\n",
    ", dtype=float)\n",
    "trainY = np.array(([\t0.322057108\t]\t,\n",
    "[\t0.460465588\t]\t,\n",
    "[\t0.166688644\t]\t,\n",
    "[\t0.401744687\t]\t,\n",
    "[\t0.316478166\t]\t,\n",
    "[\t0.270862707\t]\t,\n",
    "[\t0.312512045\t]\t,\n",
    "[\t0.369092661\t]\t,\n",
    "[\t0.205751382\t]\t,\n",
    "[\t0.176193133\t]\t,\n",
    "[\t0.290419435\t]\t,\n",
    "[\t0.24090886\t]\t,\n",
    "[\t0.27408835\t]\t,\n",
    "[\t0.370908353\t]\t,\n",
    "[\t0.05869047\t]\t,\n",
    "[\t0.400324593\t]\t,\n",
    "[\t0.289993407\t]\t,\n",
    "[\t0.307714155\t]\t,\n",
    "[\t0.429152508\t]\t,\n",
    "[\t0.440624842\t]\t,\n",
    "[\t0.358046356\t]\t,\n",
    "[\t0.295724502\t]\t,\n",
    "[\t0.491413501\t]\t,\n",
    "[\t0.356240807\t]\t,\n",
    "[\t0.541055942\t]\t,\n",
    "[\t0.157529036\t]\t,\n",
    "[\t0.55294416\t]\t,\n",
    "[\t0.514337881\t]\t,\n",
    "[\t0.441213166\t]\t,\n",
    "[\t0.58940001\t]\t,\n",
    "[\t0.677070548\t]\t,\n",
    "[\t0.67615763\t]\t,\n",
    "[\t0.696941725\t]\t,\n",
    "[\t0.582938581\t]\t,\n",
    "[\t0.611147741\t]\t,\n",
    "[\t0.783455901\t]\t,\n",
    "[\t0.935669727\t]\t,\n",
    "[\t0.286990922\t]\t,\n",
    "[\t1\t]\t,\n",
    "[\t0.849977177\t]\t,\n",
    "[\t0.626008013\t]\t,\n",
    "[\t0.936146473\t]\t,\n",
    "[\t0.858467312\t]\t,\n",
    "[\t0.702581529\t]\t,\n",
    "[\t0.664685297\t]\t,\n",
    "\n",
    ")\n",
    ", dtype=float)\n",
    "\n",
    "#Testing Data:\n",
    "testX = np.array(([\t0.26056338\t,\t0.442812107\t,\t0.936146473\t,\t0.858467312\t,\t0.702581529\t,\t0.664685297\t]\t,\n",
    "[\t0.394366197\t,\t0.496270585\t,\t0.858467312\t,\t0.702581529\t,\t0.664685297\t,\t0.384176092\t]\t,\n",
    "[\t0.626760563\t,\t0.475463393\t,\t0.702581529\t,\t0.664685297\t,\t0.384176092\t,\t0.50844449\t]\t,\n",
    "[\t0.795774648\t,\t0.551559791\t,\t0.664685297\t,\t0.384176092\t,\t0.50844449\t,\t0.706050616\t]\t,\n",
    "[\t0.704225352\t,\t0.500994351\t,\t0.384176092\t,\t0.50844449\t,\t0.706050616\t,\t0.625663133\t]\t,\n",
    "[\t0.535211268\t,\t0.445458587\t,\t0.50844449\t,\t0.706050616\t,\t0.625663133\t,\t0.310067454\t]\t,\n",
    "[\t0.401408451\t,\t0.505711667\t,\t0.706050616\t,\t0.625663133\t,\t0.310067454\t,\t0.718151849\t]\t,\n",
    "[\t0.126760563\t,\t0.465889036\t,\t0.625663133\t,\t0.310067454\t,\t0.718151849\t,\t0.581295329\t]\t,\n",
    "[\t0.330985915\t,\t0.46785659\t,\t0.310067454\t,\t0.718151849\t,\t0.581295329\t,\t0.590840392\t]\t,\n",
    "[\t0.415492958\t,\t0.453001423\t,\t0.718151849\t,\t0.581295329\t,\t0.590840392\t,\t0.641121875\t]\t,\n",
    "[\t0.556338028\t,\t0.437411724\t,\t0.581295329\t,\t0.590840392\t,\t0.641121875\t,\t0.700096364\t]\t,\n",
    "[\t0.591549296\t,\t0.350673696\t,\t0.590840392\t,\t0.641121875\t,\t0.700096364\t,\t0.614971852\t]\t,\n",
    "[\t0.514084507\t,\t0.364031312\t,\t0.641121875\t,\t0.700096364\t,\t0.614971852\t,\t0.591377999\t]\t,\n",
    "\n",
    ")\n",
    ", dtype=float)\n",
    "testY = np.array(([\t0.384176092\t]\t,\n",
    "[\t0.50844449\t]\t,\n",
    "[\t0.706050616\t]\t,\n",
    "[\t0.625663133\t]\t,\n",
    "[\t0.310067454\t]\t,\n",
    "[\t0.718151849\t]\t,\n",
    "[\t0.581295329\t]\t,\n",
    "[\t0.590840392\t]\t,\n",
    "[\t0.641121875\t]\t,\n",
    "[\t0.700096364\t]\t,\n",
    "[\t0.614971852\t]\t,\n",
    "[\t0.591377999\t]\t,\n",
    "[\t0.32\t]\t,\n",
    "\n",
    ")\n",
    ", dtype=float)\n",
    "\n",
    "\n",
    "dataprediksi = np.array(([\t0.387323944\t,\t0.795380412\t,\t0.700096364\t,\t0.614971852\t,\t0.591377999\t,\t0.32\t]\t,\n",
    "[\t0.373239437\t,\t1\t,\t0.614971852\t,\t0.591377999\t,\t0.32\t,\t0.50\t]\t,\n",
    "[\t0.366197183\t,\t0.707681705\t,\t0.591377999\t,\t0.32\t,\t0.50\t,\t0.415539889\t]\t,\n",
    "[\t0.443661972\t,\t0.491695324\t,\t0.32\t,\t0.50\t,\t0.415539889\t,\t0\t]\t,\n",
    "\n",
    "\n",
    "), dtype=float)"
   ]
  },
  {
   "cell_type": "code",
   "execution_count": 15,
   "metadata": {},
   "outputs": [
    {
     "data": {
      "text/plain": [
       "array([[0.26056338, 0.44281211, 0.93614647, 0.85846731, 0.70258153,\n",
       "        0.6646853 ],\n",
       "       [0.3943662 , 0.49627058, 0.85846731, 0.70258153, 0.6646853 ,\n",
       "        0.38417609],\n",
       "       [0.62676056, 0.47546339, 0.70258153, 0.6646853 , 0.38417609,\n",
       "        0.50844449],\n",
       "       [0.79577465, 0.55155979, 0.6646853 , 0.38417609, 0.50844449,\n",
       "        0.70605062],\n",
       "       [0.70422535, 0.50099435, 0.38417609, 0.50844449, 0.70605062,\n",
       "        0.62566313],\n",
       "       [0.53521127, 0.44545859, 0.50844449, 0.70605062, 0.62566313,\n",
       "        0.31006745],\n",
       "       [0.40140845, 0.50571167, 0.70605062, 0.62566313, 0.31006745,\n",
       "        0.71815185],\n",
       "       [0.12676056, 0.46588904, 0.62566313, 0.31006745, 0.71815185,\n",
       "        0.58129533],\n",
       "       [0.33098592, 0.46785659, 0.31006745, 0.71815185, 0.58129533,\n",
       "        0.59084039],\n",
       "       [0.41549296, 0.45300142, 0.71815185, 0.58129533, 0.59084039,\n",
       "        0.64112187],\n",
       "       [0.55633803, 0.43741172, 0.58129533, 0.59084039, 0.64112187,\n",
       "        0.70009636],\n",
       "       [0.5915493 , 0.3506737 , 0.59084039, 0.64112187, 0.70009636,\n",
       "        0.61497185],\n",
       "       [0.51408451, 0.36403131, 0.64112187, 0.70009636, 0.61497185,\n",
       "        0.591378  ]])"
      ]
     },
     "execution_count": 15,
     "metadata": {},
     "output_type": "execute_result"
    }
   ],
   "source": [
    "testX"
   ]
  },
  {
   "cell_type": "code",
   "execution_count": 16,
   "metadata": {},
   "outputs": [],
   "source": [
    "##Need to modify trainer class a bit to check testing error during training:\n",
    "class trainer(object):\n",
    "    def __init__(self, N):\n",
    "        #Make Local reference to network:\n",
    "        self.N = N\n",
    "        \n",
    "    def callbackF(self, params):\n",
    "        self.N.setParams(params)\n",
    "        self.J.append(self.N.costFunction(self.X, self.y))\n",
    "        self.testJ.append(self.N.costFunction(self.testX, self.testY))\n",
    "        \n",
    "    def costFunctionWrapper(self, params, X, y):\n",
    "        self.N.setParams(params)\n",
    "        cost = self.N.costFunction(X, y)\n",
    "        grad = self.N.computeGradients(X,y)\n",
    "        \n",
    "        return cost, grad\n",
    "        \n",
    "    def train(self, trainX, trainY, testX, testY):\n",
    "        #Make an internal variable for the callback function:\n",
    "        self.X = trainX\n",
    "        self.y = trainY\n",
    "        \n",
    "        self.testX = testX\n",
    "        self.testY = testY\n",
    "\n",
    "        #Make empty list to store training costs:\n",
    "        self.J = []\n",
    "        self.testJ = []\n",
    "        \n",
    "        params0 = self.N.getParams()\n",
    "\n",
    "        options = {'maxiter': 100, 'disp' : True}\n",
    "        _res = optimize.minimize(self.costFunctionWrapper, params0, jac=True, method='BFGS', \\\n",
    "                                 args=(trainX, trainY), options=options, callback=self.callbackF)\n",
    "\n",
    "        self.N.setParams(_res.x)\n",
    "        self.optimizationResults = _res"
   ]
  },
  {
   "cell_type": "code",
   "execution_count": 17,
   "metadata": {},
   "outputs": [
    {
     "name": "stdout",
     "output_type": "stream",
     "text": [
      "Warning: Maximum number of iterations has been exceeded.\n",
      "         Current function value: 0.244919\n",
      "         Iterations: 100\n",
      "         Function evaluations: 104\n",
      "         Gradient evaluations: 104\n"
     ]
    }
   ],
   "source": [
    "#Train network with new data:\n",
    "NN = Neural_Network()\n",
    "\n",
    "T = trainer(NN)\n",
    "T.train(trainX, trainY, testX, testY)"
   ]
  },
  {
   "cell_type": "code",
   "execution_count": 18,
   "metadata": {},
   "outputs": [
    {
     "data": {
      "image/png": "[encoded data removed]",
      "text/plain": [
       "<Figure size 432x288 with 1 Axes>"
      ]
     },
     "metadata": {
      "needs_background": "light"
     },
     "output_type": "display_data"
    }
   ],
   "source": [
    "#Plot cost during training:\n",
    "plot.plot(T.J)\n",
    "plot.plot(T.testJ)\n",
    "plot.grid(1)\n",
    "plot.xlabel('Iterations')\n",
    "plot.ylabel('Cost')\n",
    "plot.legend(['Training', 'Testing'])\n",
    "plot.show()"
   ]
  },
  {
   "cell_type": "code",
   "execution_count": 19,
   "metadata": {},
   "outputs": [
    {
     "data": {
      "text/plain": [
       "[array([1.04259763]),\n",
       " array([0.89035607]),\n",
       " array([0.7424287]),\n",
       " array([0.67849169]),\n",
       " array([0.64274388]),\n",
       " array([0.61846663]),\n",
       " array([0.60126134]),\n",
       " array([0.57565399]),\n",
       " array([0.56506045]),\n",
       " array([0.55035753]),\n",
       " array([0.52336828]),\n",
       " array([0.47643432]),\n",
       " array([0.4539975]),\n",
       " array([0.4291817]),\n",
       " array([0.42289227]),\n",
       " array([0.4121204]),\n",
       " array([0.39485792]),\n",
       " array([0.37863254]),\n",
       " array([0.37435282]),\n",
       " array([0.37142502]),\n",
       " array([0.36737978]),\n",
       " array([0.36075932]),\n",
       " array([0.35235928]),\n",
       " array([0.34928576]),\n",
       " array([0.34706995]),\n",
       " array([0.34531002]),\n",
       " array([0.34368082]),\n",
       " array([0.34280432]),\n",
       " array([0.34240827]),\n",
       " array([0.34201384]),\n",
       " array([0.34132173]),\n",
       " array([0.3400808]),\n",
       " array([0.33789617]),\n",
       " array([0.33431985]),\n",
       " array([0.32948333]),\n",
       " array([0.32629993]),\n",
       " array([0.32538077]),\n",
       " array([0.32522143]),\n",
       " array([0.32510854]),\n",
       " array([0.32502171]),\n",
       " array([0.32487077]),\n",
       " array([0.32460456]),\n",
       " array([0.324148]),\n",
       " array([0.32343944]),\n",
       " array([0.32270585]),\n",
       " array([0.3221149]),\n",
       " array([0.32126425]),\n",
       " array([0.32025068]),\n",
       " array([0.31847504]),\n",
       " array([0.31603164]),\n",
       " array([0.3128596]),\n",
       " array([0.30753627]),\n",
       " array([0.30015799]),\n",
       " array([0.29746284]),\n",
       " array([0.29391675]),\n",
       " array([0.29264991]),\n",
       " array([0.29230337]),\n",
       " array([0.29192758]),\n",
       " array([0.29124565]),\n",
       " array([0.29003595]),\n",
       " array([0.28821948]),\n",
       " array([0.28625659]),\n",
       " array([0.28345255]),\n",
       " array([0.27990827]),\n",
       " array([0.27778162]),\n",
       " array([0.27511734]),\n",
       " array([0.27403267]),\n",
       " array([0.27298853]),\n",
       " array([0.27262086]),\n",
       " array([0.27211637]),\n",
       " array([0.27120395]),\n",
       " array([0.26950817]),\n",
       " array([0.26644222]),\n",
       " array([0.26177025]),\n",
       " array([0.26019229]),\n",
       " array([0.25967946]),\n",
       " array([0.25946522]),\n",
       " array([0.25926861]),\n",
       " array([0.25915255]),\n",
       " array([0.25896558]),\n",
       " array([0.25861182]),\n",
       " array([0.25795583]),\n",
       " array([0.25680903]),\n",
       " array([0.25515357]),\n",
       " array([0.25427553]),\n",
       " array([0.25381826]),\n",
       " array([0.25349721]),\n",
       " array([0.25335884]),\n",
       " array([0.25319937]),\n",
       " array([0.25293778]),\n",
       " array([0.25248331]),\n",
       " array([0.2516886]),\n",
       " array([0.2503742]),\n",
       " array([0.24860102]),\n",
       " array([0.24727846]),\n",
       " array([0.24627073]),\n",
       " array([0.24557224]),\n",
       " array([0.24528893]),\n",
       " array([0.24499126]),\n",
       " array([0.24491932])]"
      ]
     },
     "execution_count": 19,
     "metadata": {},
     "output_type": "execute_result"
    }
   ],
   "source": [
    "T.J"
   ]
  },
  {
   "cell_type": "code",
   "execution_count": 20,
   "metadata": {},
   "outputs": [
    {
     "data": {
      "text/plain": [
       "[array([0.15099799]),\n",
       " array([0.13164156]),\n",
       " array([0.13753415]),\n",
       " array([0.12851221]),\n",
       " array([0.13633645]),\n",
       " array([0.15755916]),\n",
       " array([0.17160114]),\n",
       " array([0.18247038]),\n",
       " array([0.18537515]),\n",
       " array([0.20099578]),\n",
       " array([0.22605961]),\n",
       " array([0.23089466]),\n",
       " array([0.24146158]),\n",
       " array([0.30039166]),\n",
       " array([0.30029127]),\n",
       " array([0.29456141]),\n",
       " array([0.28130102]),\n",
       " array([0.26150375]),\n",
       " array([0.26229266]),\n",
       " array([0.2648734]),\n",
       " array([0.26771083]),\n",
       " array([0.27260444]),\n",
       " array([0.28226912]),\n",
       " array([0.28633281]),\n",
       " array([0.28955233]),\n",
       " array([0.29181572]),\n",
       " array([0.29631643]),\n",
       " array([0.30072046]),\n",
       " array([0.30304752]),\n",
       " array([0.30430387]),\n",
       " array([0.30568878]),\n",
       " array([0.30744307]),\n",
       " array([0.30972614]),\n",
       " array([0.31230227]),\n",
       " array([0.3131117]),\n",
       " array([0.31415914]),\n",
       " array([0.3085281]),\n",
       " array([0.31104854]),\n",
       " array([0.30947388]),\n",
       " array([0.30828705]),\n",
       " array([0.30684183]),\n",
       " array([0.30512327]),\n",
       " array([0.30291126]),\n",
       " array([0.30025862]),\n",
       " array([0.29878798]),\n",
       " array([0.30008229]),\n",
       " array([0.30366859]),\n",
       " array([0.30800521]),\n",
       " array([0.31294191]),\n",
       " array([0.32165758]),\n",
       " array([0.33424253]),\n",
       " array([0.33463799]),\n",
       " array([0.32883194]),\n",
       " array([0.30640661]),\n",
       " array([0.31265484]),\n",
       " array([0.30439948]),\n",
       " array([0.30711886]),\n",
       " array([0.30485317]),\n",
       " array([0.30275643]),\n",
       " array([0.30093129]),\n",
       " array([0.29661653]),\n",
       " array([0.2938755]),\n",
       " array([0.30109474]),\n",
       " array([0.30793779]),\n",
       " array([0.33776222]),\n",
       " array([0.31503406]),\n",
       " array([0.31465394]),\n",
       " array([0.31173912]),\n",
       " array([0.31896072]),\n",
       " array([0.31787015]),\n",
       " array([0.31950791]),\n",
       " array([0.32173792]),\n",
       " array([0.32670657]),\n",
       " array([0.33335906]),\n",
       " array([0.33646264]),\n",
       " array([0.33789805]),\n",
       " array([0.34125748]),\n",
       " array([0.34486906]),\n",
       " array([0.3444284]),\n",
       " array([0.34407126]),\n",
       " array([0.34346036]),\n",
       " array([0.34276918]),\n",
       " array([0.34205091]),\n",
       " array([0.34208001]),\n",
       " array([0.34480224]),\n",
       " array([0.34984226]),\n",
       " array([0.356081]),\n",
       " array([0.35887917]),\n",
       " array([0.36127136]),\n",
       " array([0.36367965]),\n",
       " array([0.36610813]),\n",
       " array([0.36818985]),\n",
       " array([0.36803984]),\n",
       " array([0.35930591]),\n",
       " array([0.35538986]),\n",
       " array([0.35980702]),\n",
       " array([0.36771166]),\n",
       " array([0.36417164]),\n",
       " array([0.37082172]),\n",
       " array([0.37365603])]"
      ]
     },
     "execution_count": 20,
     "metadata": {},
     "output_type": "execute_result"
    }
   ],
   "source": [
    "T.testJ"
   ]
  },
  {
   "cell_type": "code",
   "execution_count": 21,
   "metadata": {},
   "outputs": [
    {
     "data": {
      "text/plain": [
       "0.11231137879620239"
      ]
     },
     "execution_count": 21,
     "metadata": {},
     "output_type": "execute_result"
    }
   ],
   "source": [
    "from sklearn.metrics import mean_absolute_error\n",
    "mean_absolute_error(T.J, T.testJ)"
   ]
  },
  {
   "cell_type": "code",
   "execution_count": 22,
   "metadata": {},
   "outputs": [],
   "source": [
    "yHat = NN.forward(X)"
   ]
  },
  {
   "cell_type": "code",
   "execution_count": 23,
   "metadata": {},
   "outputs": [
    {
     "data": {
      "text/plain": [
       "array([[0.37795449],\n",
       "       [0.41921109],\n",
       "       [0.23905971],\n",
       "       [0.38451493],\n",
       "       [0.24267435],\n",
       "       [0.29784466],\n",
       "       [0.4003497 ],\n",
       "       [0.33309691],\n",
       "       [0.34127451],\n",
       "       [0.32957372],\n",
       "       [0.28123743],\n",
       "       [0.21902019],\n",
       "       [0.21813576],\n",
       "       [0.23841468],\n",
       "       [0.20910536],\n",
       "       [0.23904154],\n",
       "       [0.2328592 ],\n",
       "       [0.29580781],\n",
       "       [0.33715485],\n",
       "       [0.36184912],\n",
       "       [0.26974398],\n",
       "       [0.53044472],\n",
       "       [0.54061759],\n",
       "       [0.46872392],\n",
       "       [0.48241126],\n",
       "       [0.32969165],\n",
       "       [0.54792878],\n",
       "       [0.47889147],\n",
       "       [0.4847776 ],\n",
       "       [0.53277504],\n",
       "       [0.60055965],\n",
       "       [0.50368463],\n",
       "       [0.47928214],\n",
       "       [0.56765332],\n",
       "       [0.7148257 ],\n",
       "       [0.74743137],\n",
       "       [0.72964156],\n",
       "       [0.53861195],\n",
       "       [0.91591327],\n",
       "       [0.82162879],\n",
       "       [0.59134849],\n",
       "       [0.91925015],\n",
       "       [0.88429708],\n",
       "       [0.76508237],\n",
       "       [0.71003838],\n",
       "       [0.84283251],\n",
       "       [0.8578653 ],\n",
       "       [0.55366426],\n",
       "       [0.64177271],\n",
       "       [0.72712677],\n",
       "       [0.80486697],\n",
       "       [0.6856634 ],\n",
       "       [0.52129761],\n",
       "       [0.73164721],\n",
       "       [0.8002114 ],\n",
       "       [0.71616718],\n",
       "       [0.65594422],\n",
       "       [0.72194066]])"
      ]
     },
     "execution_count": 23,
     "metadata": {},
     "output_type": "execute_result"
    }
   ],
   "source": [
    "yHat"
   ]
  },
  {
   "cell_type": "code",
   "execution_count": 24,
   "metadata": {},
   "outputs": [
    {
     "data": {
      "text/plain": [
       "array([[0.32205711],\n",
       "       [0.46046559],\n",
       "       [0.16668864],\n",
       "       [0.40174469],\n",
       "       [0.31647817],\n",
       "       [0.27086271],\n",
       "       [0.31251205],\n",
       "       [0.36909266],\n",
       "       [0.20575138],\n",
       "       [0.17619313],\n",
       "       [0.29041944],\n",
       "       [0.24090886],\n",
       "       [0.27408835],\n",
       "       [0.37090835],\n",
       "       [0.05869047],\n",
       "       [0.40032459],\n",
       "       [0.28999341],\n",
       "       [0.30771415],\n",
       "       [0.42915251],\n",
       "       [0.44062484],\n",
       "       [0.35804636],\n",
       "       [0.2957245 ],\n",
       "       [0.4914135 ],\n",
       "       [0.35624081],\n",
       "       [0.54105594],\n",
       "       [0.15752904],\n",
       "       [0.55294416],\n",
       "       [0.51433788],\n",
       "       [0.44121317],\n",
       "       [0.58940001],\n",
       "       [0.67707055],\n",
       "       [0.67615763],\n",
       "       [0.69694172],\n",
       "       [0.58293858],\n",
       "       [0.61114774],\n",
       "       [0.7834559 ],\n",
       "       [0.93566973],\n",
       "       [0.28699092],\n",
       "       [1.        ],\n",
       "       [0.84997718],\n",
       "       [0.62600801],\n",
       "       [0.93614647],\n",
       "       [0.85846731],\n",
       "       [0.70258153],\n",
       "       [0.6646853 ],\n",
       "       [0.38417609],\n",
       "       [0.50844449],\n",
       "       [0.70605062],\n",
       "       [0.62566313],\n",
       "       [0.31006745],\n",
       "       [0.71815185],\n",
       "       [0.58129533],\n",
       "       [0.59084039],\n",
       "       [0.64112187],\n",
       "       [0.70009636],\n",
       "       [0.61497185],\n",
       "       [0.591378  ],\n",
       "       [0.32      ]])"
      ]
     },
     "execution_count": 24,
     "metadata": {},
     "output_type": "execute_result"
    }
   ],
   "source": [
    "y"
   ]
  },
  {
   "cell_type": "code",
   "execution_count": 25,
   "metadata": {},
   "outputs": [
    {
     "data": {
      "text/plain": [
       "0.02133018423933091"
      ]
     },
     "execution_count": 25,
     "metadata": {},
     "output_type": "execute_result"
    }
   ],
   "source": [
    "from sklearn.metrics import mean_squared_error \n",
    "mean_squared_error(y,yHat) "
   ]
  },
  {
   "cell_type": "code",
   "execution_count": 26,
   "metadata": {},
   "outputs": [
    {
     "data": {
      "image/png": "[encoded data removed]",
      "text/plain": [
       "<Figure size 432x288 with 1 Axes>"
      ]
     },
     "metadata": {
      "needs_background": "light"
     },
     "output_type": "display_data"
    }
   ],
   "source": [
    "#Plot cost during training:\n",
    "plot.plot(y)\n",
    "plot.plot(yHat)\n",
    "plot.grid(1)\n",
    "plot.legend(['y', 'yHat'])\n",
    "plot.show()"
   ]
  },
  {
   "cell_type": "code",
   "execution_count": 27,
   "metadata": {},
   "outputs": [],
   "source": [
    "#Regularization Parameter:\n",
    "Lambda = 0.0001"
   ]
  },
  {
   "cell_type": "code",
   "execution_count": 28,
   "metadata": {},
   "outputs": [],
   "source": [
    "#Need to make changes to costFunction and costFunctionPrim:\n",
    "def costFunction(self, X, y):\n",
    "    #Compute cost for given X,y, use weights already stored in class.\n",
    "    self.yHat = self.forward(X)\n",
    "    #We don't want cost to increase with the number of examples, so normalize by dividing the error term by number of examples(X.shape[0])\n",
    "    J = 0.5*sum((y-self.yHat)**2)/X.shape[0] + (self.Lambda/2)*(sum(self.W1**2)+sum(self.W2**2))\n",
    "    return J\n",
    "\n",
    "def costFunctionPrime(self, X, y):\n",
    "    #Compute derivative with respect to W and W2 for a given X and y:\n",
    "    self.yHat = self.forward(X)\n",
    "\n",
    "    delta3 = np.multiply(-(y-self.yHat), self.sigmoidPrime(self.z3))\n",
    "    #Add gradient of regularization term:\n",
    "    dJdW2 = np.dot(self.a2.T, delta3)/X.shape[0] + self.Lambda*self.W2\n",
    "\n",
    "    delta2 = np.dot(delta3, self.W2.T)*self.sigmoidPrime(self.z2)\n",
    "    #Add gradient of regularization term:\n",
    "    dJdW1 = np.dot(X.T, delta2)/X.shape[0] + self.Lambda*self.W1\n",
    "\n",
    "    return dJdW1, dJdW2"
   ]
  },
  {
   "cell_type": "code",
   "execution_count": 29,
   "metadata": {},
   "outputs": [],
   "source": [
    "#New complete class, with changes:\n",
    "class Neural_Network(object):\n",
    "    def __init__(self, Lambda=0.0001):        \n",
    "        #Define Hyperparameters\n",
    "        self.inputLayerSize = 6\n",
    "        self.outputLayerSize = 1\n",
    "        self.hiddenLayerSize = 3\n",
    "        \n",
    "        #Weights (parameters)\n",
    "        self.W1 = np.random.randn(self.inputLayerSize,self.hiddenLayerSize)\n",
    "        self.W2 = np.random.randn(self.hiddenLayerSize,self.outputLayerSize)\n",
    "        \n",
    "        #Regularization Parameter:\n",
    "        self.Lambda = Lambda\n",
    "        \n",
    "    def forward(self, X):\n",
    "        #Propogate inputs though network\n",
    "        self.z2 = np.dot(X, self.W1)\n",
    "        self.a2 = self.sigmoid(self.z2)\n",
    "        self.z3 = np.dot(self.a2, self.W2)\n",
    "        yHat = self.sigmoid(self.z3) \n",
    "        return yHat\n",
    "        \n",
    "    def sigmoid(self, z):\n",
    "        #Apply sigmoid activation function to scalar, vector, or matrix\n",
    "        return 1/(1+np.exp(-z))\n",
    "    \n",
    "    def sigmoidPrime(self,z):\n",
    "        #Gradient of sigmoid\n",
    "        return np.exp(-z)/((1+np.exp(-z))**2)\n",
    "    \n",
    "    def costFunction(self, X, y):\n",
    "        #Compute cost for given X,y, use weights already stored in class.\n",
    "        self.yHat = self.forward(X)\n",
    "        J = 0.5*sum((y-self.yHat)**2)/X.shape[0] + (self.Lambda/2)*(np.sum(self.W1**2)+np.sum(self.W2**2))\n",
    "        return J\n",
    "        \n",
    "    def costFunctionPrime(self, X, y):\n",
    "        #Compute derivative with respect to W and W2 for a given X and y:\n",
    "        self.yHat = self.forward(X)\n",
    "        \n",
    "        delta3 = np.multiply(-(y-self.yHat), self.sigmoidPrime(self.z3))\n",
    "        #Add gradient of regularization term:\n",
    "        dJdW2 = np.dot(self.a2.T, delta3)/X.shape[0] + self.Lambda*self.W2\n",
    "        \n",
    "        delta2 = np.dot(delta3, self.W2.T)*self.sigmoidPrime(self.z2)\n",
    "        #Add gradient of regularization term:\n",
    "        dJdW1 = np.dot(X.T, delta2)/X.shape[0] + self.Lambda*self.W1\n",
    "        \n",
    "        return dJdW1, dJdW2\n",
    "    \n",
    "    def predict(self):\n",
    "        prediksi = self.forward(dataprediksi)\n",
    "        return prediksi\n",
    "    \n",
    "    #Helper functions for interacting with other methods/classes\n",
    "    def getParams(self):\n",
    "        #Get W1 and W2 Rolled into vector:\n",
    "        params = np.concatenate((self.W1.ravel(), self.W2.ravel()))\n",
    "        return params\n",
    "    \n",
    "    def setParams(self, params):\n",
    "        #Set W1 and W2 using single parameter vector:\n",
    "        W1_start = 0\n",
    "        W1_end = self.hiddenLayerSize*self.inputLayerSize\n",
    "        self.W1 = np.reshape(params[W1_start:W1_end], \\\n",
    "                             (self.inputLayerSize, self.hiddenLayerSize))\n",
    "        W2_end = W1_end + self.hiddenLayerSize*self.outputLayerSize\n",
    "        self.W2 = np.reshape(params[W1_end:W2_end], \\\n",
    "                             (self.hiddenLayerSize, self.outputLayerSize))\n",
    "        \n",
    "    def computeGradients(self, X, y):\n",
    "        dJdW1, dJdW2 = self.costFunctionPrime(X, y)\n",
    "        return np.concatenate((dJdW1.ravel(), dJdW2.ravel()))"
   ]
  },
  {
   "cell_type": "code",
   "execution_count": 30,
   "metadata": {},
   "outputs": [],
   "source": [
    "def computeNumericalGradient(N, X, y):\n",
    "    paramsInitial = N.getParams()\n",
    "    numgrad = np.zeros(paramsInitial.shape)\n",
    "    perturb = np.zeros(paramsInitial.shape)\n",
    "    e = 1e-4\n",
    "\n",
    "    for p in range(len(paramsInitial)):\n",
    "        #Set perturbation vector\n",
    "        perturb[p] = e\n",
    "        N.setParams(paramsInitial + perturb)\n",
    "        loss2 = N.costFunction(X, y)\n",
    "            \n",
    "        N.setParams(paramsInitial - perturb)\n",
    "        loss1 = N.costFunction(X, y)\n",
    "\n",
    "        #Compute Numerical Gradient\n",
    "        numgrad[p] = (loss2 - loss1) / (2*e)\n",
    "\n",
    "            #Return the value we changed to zero:\n",
    "        perturb[p] = 0\n",
    "            \n",
    "    #Return Params to original value:\n",
    "    N.setParams(paramsInitial)\n",
    "\n",
    "    return numgrad "
   ]
  },
  {
   "cell_type": "code",
   "execution_count": 31,
   "metadata": {},
   "outputs": [],
   "source": [
    "NN = Neural_Network(Lambda=0.0001)"
   ]
  },
  {
   "cell_type": "code",
   "execution_count": 32,
   "metadata": {},
   "outputs": [],
   "source": [
    "#Make sure our gradients our correct after making changes:\n",
    "numgrad = computeNumericalGradient(NN, X, y)\n",
    "grad = NN.computeGradients(X,y)"
   ]
  },
  {
   "cell_type": "code",
   "execution_count": 33,
   "metadata": {},
   "outputs": [
    {
     "data": {
      "text/plain": [
       "5.258044862037317e-10"
      ]
     },
     "execution_count": 33,
     "metadata": {},
     "output_type": "execute_result"
    }
   ],
   "source": [
    "#Should be less than 1e-8:\n",
    "np.linalg.norm(grad-numgrad)/np.linalg.norm(grad+numgrad)"
   ]
  },
  {
   "cell_type": "code",
   "execution_count": 34,
   "metadata": {},
   "outputs": [],
   "source": [
    "T = trainer(NN)"
   ]
  },
  {
   "cell_type": "code",
   "execution_count": 35,
   "metadata": {},
   "outputs": [
    {
     "name": "stdout",
     "output_type": "stream",
     "text": [
      "Warning: Maximum number of iterations has been exceeded.\n",
      "         Current function value: 0.011675\n",
      "         Iterations: 100\n",
      "         Function evaluations: 104\n",
      "         Gradient evaluations: 104\n"
     ]
    }
   ],
   "source": [
    "T.train(X,y,testX,testY)"
   ]
  },
  {
   "cell_type": "code",
   "execution_count": 36,
   "metadata": {},
   "outputs": [
    {
     "data": {
      "image/png": "[encoded data removed]",
      "text/plain": [
       "<Figure size 432x288 with 1 Axes>"
      ]
     },
     "metadata": {
      "needs_background": "light"
     },
     "output_type": "display_data"
    }
   ],
   "source": [
    "plot.plot(T.J)\n",
    "plot.plot(T.testJ)\n",
    "plot.grid(1)\n",
    "plot.xlabel('Iterations')\n",
    "plot.ylabel('Cost')\n",
    "plot.legend(['Training', 'Testing'])\n",
    "plot.show()"
   ]
  },
  {
   "cell_type": "code",
   "execution_count": 37,
   "metadata": {},
   "outputs": [
    {
     "data": {
      "text/plain": [
       "[array([0.02688532]),\n",
       " array([0.02464104]),\n",
       " array([0.02246414]),\n",
       " array([0.02240753]),\n",
       " array([0.02235236]),\n",
       " array([0.02225418]),\n",
       " array([0.02207383]),\n",
       " array([0.02174025]),\n",
       " array([0.02112783]),\n",
       " array([0.02002549]),\n",
       " array([0.01812426]),\n",
       " array([0.0156292]),\n",
       " array([0.01546034]),\n",
       " array([0.01510413]),\n",
       " array([0.01486281]),\n",
       " array([0.01470217]),\n",
       " array([0.01464753]),\n",
       " array([0.01457432]),\n",
       " array([0.01446366]),\n",
       " array([0.0142708]),\n",
       " array([0.01394913]),\n",
       " array([0.01351673]),\n",
       " array([0.01325109]),\n",
       " array([0.01292099]),\n",
       " array([0.01282502]),\n",
       " array([0.01276066]),\n",
       " array([0.01275003]),\n",
       " array([0.01274485]),\n",
       " array([0.01274273]),\n",
       " array([0.0127414]),\n",
       " array([0.01273909]),\n",
       " array([0.01273487]),\n",
       " array([0.01272701]),\n",
       " array([0.0127124]),\n",
       " array([0.01268562]),\n",
       " array([0.01263813]),\n",
       " array([0.0125593]),\n",
       " array([0.01244562]),\n",
       " array([0.01232578]),\n",
       " array([0.01214996]),\n",
       " array([0.01203315]),\n",
       " array([0.0120162]),\n",
       " array([0.01201467]),\n",
       " array([0.01201346]),\n",
       " array([0.01201321]),\n",
       " array([0.01201275]),\n",
       " array([0.01201188]),\n",
       " array([0.01201027]),\n",
       " array([0.01200735]),\n",
       " array([0.0120023]),\n",
       " array([0.0119941]),\n",
       " array([0.01198123]),\n",
       " array([0.01196051]),\n",
       " array([0.01192899]),\n",
       " array([0.01190305]),\n",
       " array([0.01189122]),\n",
       " array([0.01187902]),\n",
       " array([0.01187124]),\n",
       " array([0.01186965]),\n",
       " array([0.01186906]),\n",
       " array([0.01186891]),\n",
       " array([0.01186862]),\n",
       " array([0.01186807]),\n",
       " array([0.01186703]),\n",
       " array([0.01186507]),\n",
       " array([0.01186149]),\n",
       " array([0.01185525]),\n",
       " array([0.01184501]),\n",
       " array([0.01182901]),\n",
       " array([0.01180381]),\n",
       " array([0.01176544]),\n",
       " array([0.01172759]),\n",
       " array([0.01171196]),\n",
       " array([0.01170796]),\n",
       " array([0.01170765]),\n",
       " array([0.01170762]),\n",
       " array([0.01170758]),\n",
       " array([0.01170751]),\n",
       " array([0.01170739]),\n",
       " array([0.01170717]),\n",
       " array([0.01170677]),\n",
       " array([0.01170603]),\n",
       " array([0.01170472]),\n",
       " array([0.01170251]),\n",
       " array([0.01169905]),\n",
       " array([0.01169444]),\n",
       " array([0.0116897]),\n",
       " array([0.01168371]),\n",
       " array([0.011681]),\n",
       " array([0.01168055]),\n",
       " array([0.01168053]),\n",
       " array([0.01168051]),\n",
       " array([0.01168047]),\n",
       " array([0.0116804]),\n",
       " array([0.01168026]),\n",
       " array([0.01168001]),\n",
       " array([0.01167953]),\n",
       " array([0.01167871]),\n",
       " array([0.01167733]),\n",
       " array([0.01167523])]"
      ]
     },
     "execution_count": 37,
     "metadata": {},
     "output_type": "execute_result"
    }
   ],
   "source": [
    "T.J"
   ]
  },
  {
   "cell_type": "code",
   "execution_count": 38,
   "metadata": {},
   "outputs": [
    {
     "data": {
      "text/plain": [
       "[array([0.02223613]),\n",
       " array([0.0181765]),\n",
       " array([0.01241654]),\n",
       " array([0.01198418]),\n",
       " array([0.01168743]),\n",
       " array([0.01140242]),\n",
       " array([0.01110755]),\n",
       " array([0.01080089]),\n",
       " array([0.01054814]),\n",
       " array([0.01058741]),\n",
       " array([0.01149845]),\n",
       " array([0.01402167]),\n",
       " array([0.01463008]),\n",
       " array([0.01362185]),\n",
       " array([0.01239386]),\n",
       " array([0.01305735]),\n",
       " array([0.01315874]),\n",
       " array([0.01326804]),\n",
       " array([0.01342096]),\n",
       " array([0.01367537]),\n",
       " array([0.0141608]),\n",
       " array([0.01508533]),\n",
       " array([0.0147025]),\n",
       " array([0.01507975]),\n",
       " array([0.0142412]),\n",
       " array([0.01410596]),\n",
       " array([0.01413144]),\n",
       " array([0.01412077]),\n",
       " array([0.01421789]),\n",
       " array([0.0142167]),\n",
       " array([0.01425358]),\n",
       " array([0.0142911]),\n",
       " array([0.01434041]),\n",
       " array([0.01440943]),\n",
       " array([0.01451187]),\n",
       " array([0.01466766]),\n",
       " array([0.01490216]),\n",
       " array([0.01522959]),\n",
       " array([0.01548643]),\n",
       " array([0.01561685]),\n",
       " array([0.01531359]),\n",
       " array([0.01498142]),\n",
       " array([0.01505206]),\n",
       " array([0.015044]),\n",
       " array([0.01504385]),\n",
       " array([0.01505009]),\n",
       " array([0.01506303]),\n",
       " array([0.0150863]),\n",
       " array([0.01512583]),\n",
       " array([0.01519052]),\n",
       " array([0.01529155]),\n",
       " array([0.01543756]),\n",
       " array([0.01562364]),\n",
       " array([0.01581372]),\n",
       " array([0.0158319]),\n",
       " array([0.01575632]),\n",
       " array([0.0154593]),\n",
       " array([0.0152305]),\n",
       " array([0.01525411]),\n",
       " array([0.01526229]),\n",
       " array([0.01527025]),\n",
       " array([0.01527482]),\n",
       " array([0.01528179]),\n",
       " array([0.01529066]),\n",
       " array([0.01530358]),\n",
       " array([0.01532211]),\n",
       " array([0.0153484]),\n",
       " array([0.01538267]),\n",
       " array([0.01541698]),\n",
       " array([0.0154297]),\n",
       " array([0.01539974]),\n",
       " array([0.01530301]),\n",
       " array([0.01517701]),\n",
       " array([0.01510538]),\n",
       " array([0.01509219]),\n",
       " array([0.0150928]),\n",
       " array([0.0150939]),\n",
       " array([0.01509642]),\n",
       " array([0.01509753]),\n",
       " array([0.01510052]),\n",
       " array([0.01510055]),\n",
       " array([0.01510397]),\n",
       " array([0.01509771]),\n",
       " array([0.01509976]),\n",
       " array([0.01505832]),\n",
       " array([0.01507293]),\n",
       " array([0.01494484]),\n",
       " array([0.01491695]),\n",
       " array([0.014867]),\n",
       " array([0.01489736]),\n",
       " array([0.01490174]),\n",
       " array([0.01490378]),\n",
       " array([0.01490579]),\n",
       " array([0.01490814]),\n",
       " array([0.01491122]),\n",
       " array([0.0149155]),\n",
       " array([0.01492153]),\n",
       " array([0.01492977]),\n",
       " array([0.01493973]),\n",
       " array([0.01494808])]"
      ]
     },
     "execution_count": 38,
     "metadata": {},
     "output_type": "execute_result"
    }
   ],
   "source": [
    "T.testJ"
   ]
  },
  {
   "cell_type": "code",
   "execution_count": 39,
   "metadata": {},
   "outputs": [
    {
     "data": {
      "text/plain": [
       "0.0035138938097951595"
      ]
     },
     "execution_count": 39,
     "metadata": {},
     "output_type": "execute_result"
    }
   ],
   "source": [
    "from sklearn.metrics import mean_absolute_error\n",
    "mean_absolute_error(T.J, T.testJ)"
   ]
  },
  {
   "cell_type": "code",
   "execution_count": 40,
   "metadata": {},
   "outputs": [],
   "source": [
    "yHat=NN.forward(X)"
   ]
  },
  {
   "cell_type": "code",
   "execution_count": 41,
   "metadata": {},
   "outputs": [
    {
     "data": {
      "text/plain": [
       "array([[0.3718714 ],\n",
       "       [0.39972681],\n",
       "       [0.36038967],\n",
       "       [0.41457755],\n",
       "       [0.43607405],\n",
       "       [0.38407469],\n",
       "       [0.37461271],\n",
       "       [0.30683826],\n",
       "       [0.32581486],\n",
       "       [0.39273127],\n",
       "       [0.3428939 ],\n",
       "       [0.33579932],\n",
       "       [0.26953601],\n",
       "       [0.25957251],\n",
       "       [0.26003207],\n",
       "       [0.35150525],\n",
       "       [0.29448158],\n",
       "       [0.27732281],\n",
       "       [0.3119905 ],\n",
       "       [0.34264891],\n",
       "       [0.31079888],\n",
       "       [0.43595116],\n",
       "       [0.46281117],\n",
       "       [0.40409936],\n",
       "       [0.38694763],\n",
       "       [0.39541359],\n",
       "       [0.46475498],\n",
       "       [0.44491149],\n",
       "       [0.40456063],\n",
       "       [0.50508927],\n",
       "       [0.52464353],\n",
       "       [0.4853929 ],\n",
       "       [0.55331736],\n",
       "       [0.63712365],\n",
       "       [0.65163373],\n",
       "       [0.64458224],\n",
       "       [0.62023875],\n",
       "       [0.62277014],\n",
       "       [0.70909392],\n",
       "       [0.69149677],\n",
       "       [0.67301413],\n",
       "       [0.72486747],\n",
       "       [0.72319851],\n",
       "       [0.68747652],\n",
       "       [0.72554047],\n",
       "       [0.73096311],\n",
       "       [0.6838664 ],\n",
       "       [0.58547611],\n",
       "       [0.49568212],\n",
       "       [0.54974975],\n",
       "       [0.62463132],\n",
       "       [0.58442148],\n",
       "       [0.57810014],\n",
       "       [0.61656256],\n",
       "       [0.62228566],\n",
       "       [0.60310098],\n",
       "       [0.62051973],\n",
       "       [0.6355991 ]])"
      ]
     },
     "execution_count": 41,
     "metadata": {},
     "output_type": "execute_result"
    }
   ],
   "source": [
    "yHat"
   ]
  },
  {
   "cell_type": "code",
   "execution_count": 42,
   "metadata": {},
   "outputs": [
    {
     "data": {
      "text/plain": [
       "array([[0.32205711],\n",
       "       [0.46046559],\n",
       "       [0.16668864],\n",
       "       [0.40174469],\n",
       "       [0.31647817],\n",
       "       [0.27086271],\n",
       "       [0.31251205],\n",
       "       [0.36909266],\n",
       "       [0.20575138],\n",
       "       [0.17619313],\n",
       "       [0.29041944],\n",
       "       [0.24090886],\n",
       "       [0.27408835],\n",
       "       [0.37090835],\n",
       "       [0.05869047],\n",
       "       [0.40032459],\n",
       "       [0.28999341],\n",
       "       [0.30771415],\n",
       "       [0.42915251],\n",
       "       [0.44062484],\n",
       "       [0.35804636],\n",
       "       [0.2957245 ],\n",
       "       [0.4914135 ],\n",
       "       [0.35624081],\n",
       "       [0.54105594],\n",
       "       [0.15752904],\n",
       "       [0.55294416],\n",
       "       [0.51433788],\n",
       "       [0.44121317],\n",
       "       [0.58940001],\n",
       "       [0.67707055],\n",
       "       [0.67615763],\n",
       "       [0.69694172],\n",
       "       [0.58293858],\n",
       "       [0.61114774],\n",
       "       [0.7834559 ],\n",
       "       [0.93566973],\n",
       "       [0.28699092],\n",
       "       [1.        ],\n",
       "       [0.84997718],\n",
       "       [0.62600801],\n",
       "       [0.93614647],\n",
       "       [0.85846731],\n",
       "       [0.70258153],\n",
       "       [0.6646853 ],\n",
       "       [0.38417609],\n",
       "       [0.50844449],\n",
       "       [0.70605062],\n",
       "       [0.62566313],\n",
       "       [0.31006745],\n",
       "       [0.71815185],\n",
       "       [0.58129533],\n",
       "       [0.59084039],\n",
       "       [0.64112187],\n",
       "       [0.70009636],\n",
       "       [0.61497185],\n",
       "       [0.591378  ],\n",
       "       [0.32      ]])"
      ]
     },
     "execution_count": 42,
     "metadata": {},
     "output_type": "execute_result"
    }
   ],
   "source": [
    "y"
   ]
  },
  {
   "cell_type": "code",
   "execution_count": 43,
   "metadata": {},
   "outputs": [
    {
     "data": {
      "text/plain": [
       "0.02084537439138419"
      ]
     },
     "execution_count": 43,
     "metadata": {},
     "output_type": "execute_result"
    }
   ],
   "source": [
    "from sklearn.metrics import mean_squared_error \n",
    "mean_squared_error(y,yHat) "
   ]
  },
  {
   "cell_type": "code",
   "execution_count": 44,
   "metadata": {},
   "outputs": [
    {
     "data": {
      "image/png": "[encoded data removed]",
      "text/plain": [
       "<Figure size 432x288 with 1 Axes>"
      ]
     },
     "metadata": {
      "needs_background": "light"
     },
     "output_type": "display_data"
    }
   ],
   "source": [
    "#Plot cost during training:\n",
    "plot.plot(y)\n",
    "plot.plot(yHat)\n",
    "plot.grid(1)\n",
    "plot.legend(['y', 'yHat'])\n",
    "plot.show()"
   ]
  },
  {
   "cell_type": "code",
   "execution_count": 45,
   "metadata": {},
   "outputs": [],
   "source": [
    "prediksi=NN.forward(dataprediksi)"
   ]
  },
  {
   "cell_type": "code",
   "execution_count": 46,
   "metadata": {},
   "outputs": [
    {
     "data": {
      "text/plain": [
       "array([[0.65287918],\n",
       "       [0.60143672],\n",
       "       [0.5189293 ],\n",
       "       [0.48730306]])"
      ]
     },
     "execution_count": 46,
     "metadata": {},
     "output_type": "execute_result"
    }
   ],
   "source": [
    "prediksi"
   ]
  },
  {
   "cell_type": "code",
   "execution_count": 47,
   "metadata": {},
   "outputs": [],
   "source": [
    "from sklearn.metrics import mean_squared_error "
   ]
  },
  {
   "cell_type": "code",
   "execution_count": 48,
   "metadata": {},
   "outputs": [
    {
     "data": {
      "text/plain": [
       "0.09765522059509003"
      ]
     },
     "execution_count": 48,
     "metadata": {},
     "output_type": "execute_result"
    }
   ],
   "source": [
    "Y_true= ([\t0.50\t]\t,\n",
    "[\t0.415539889\t]\t,\n",
    "[\t0\t]\t,\n",
    "[\t0.235502358\t]\t,\n",
    "\n",
    ")\n",
    "\n",
    "\n",
    "Y_pred=prediksi\n",
    "mean_squared_error(Y_true,Y_pred) "
   ]
  },
  {
   "cell_type": "code",
   "execution_count": 49,
   "metadata": {},
   "outputs": [
    {
     "data": {
      "text/plain": [
       "array([[0.38732394, 0.79538041, 0.70009636, 0.61497185, 0.591378  ,\n",
       "        0.32      ],\n",
       "       [0.37323944, 1.        , 0.61497185, 0.591378  , 0.32      ,\n",
       "        0.5       ],\n",
       "       [0.36619718, 0.70768171, 0.591378  , 0.32      , 0.5       ,\n",
       "        0.41553989],\n",
       "       [0.44366197, 0.49169532, 0.32      , 0.5       , 0.41553989,\n",
       "        0.        ]])"
      ]
     },
     "execution_count": 49,
     "metadata": {},
     "output_type": "execute_result"
    }
   ],
   "source": [
    "dataprediksi"
   ]
  },
  {
   "cell_type": "code",
   "execution_count": 50,
   "metadata": {},
   "outputs": [],
   "source": [
    "z=np.array([0.6294\t,\t0.4578])"
   ]
  },
  {
   "cell_type": "code",
   "execution_count": 51,
   "metadata": {},
   "outputs": [],
   "source": [
    "y=np.array([0.50\t,\t0.415539889\t,\t0\t,\t0.235502358\t])"
   ]
  },
  {
   "cell_type": "code",
   "execution_count": 52,
   "metadata": {},
   "outputs": [],
   "source": [
    "a=np.concatenate((z,y))"
   ]
  },
  {
   "cell_type": "code",
   "execution_count": 53,
   "metadata": {},
   "outputs": [
    {
     "data": {
      "text/plain": [
       "array([0.34639958])"
      ]
     },
     "execution_count": 53,
     "metadata": {},
     "output_type": "execute_result"
    }
   ],
   "source": [
    "#prediksi 1\n",
    "prediksi=NN.forward(a)\n",
    "prediksi"
   ]
  },
  {
   "cell_type": "code",
   "execution_count": 54,
   "metadata": {},
   "outputs": [
    {
     "data": {
      "text/plain": [
       "array([0.22120497])"
      ]
     },
     "execution_count": 54,
     "metadata": {},
     "output_type": "execute_result"
    }
   ],
   "source": [
    "#prediksi 2\n",
    "c=prediksi\n",
    "z1=np.array([0.6795\t,\t0.4539])\n",
    "b=y[1:]\n",
    "d=np.concatenate((z1,b,c))\n",
    "prediksi=NN.forward(d)\n",
    "prediksi"
   ]
  },
  {
   "cell_type": "code",
   "execution_count": 55,
   "metadata": {},
   "outputs": [
    {
     "data": {
      "text/plain": [
       "array([0.22999335])"
      ]
     },
     "execution_count": 55,
     "metadata": {},
     "output_type": "execute_result"
    }
   ],
   "source": [
    "#prediksi 3\n",
    "c=prediksi\n",
    "z2=np.array([0.5888\t,\t0.4545])\n",
    "b=y[1:]\n",
    "d=np.concatenate((z2,b,c))\n",
    "prediksi=NN.forward(d)\n",
    "prediksi"
   ]
  },
  {
   "cell_type": "code",
   "execution_count": 56,
   "metadata": {},
   "outputs": [
    {
     "data": {
      "text/plain": [
       "array([0.23713343])"
      ]
     },
     "execution_count": 56,
     "metadata": {},
     "output_type": "execute_result"
    }
   ],
   "source": [
    "#prediksi 4\n",
    "c=prediksi\n",
    "z3=np.array([0.527\t,\t0.4555])\n",
    "b=y[1:]\n",
    "d=np.concatenate((z3,b,c))\n",
    "prediksi=NN.forward(d)\n",
    "prediksi"
   ]
  },
  {
   "cell_type": "code",
   "execution_count": 57,
   "metadata": {},
   "outputs": [
    {
     "data": {
      "text/plain": [
       "array([0.24329545])"
      ]
     },
     "execution_count": 57,
     "metadata": {},
     "output_type": "execute_result"
    }
   ],
   "source": [
    "#prediksi 5\n",
    "c=prediksi\n",
    "z4=np.array([0.4745\t,\t0.4564])\n",
    "b=y[1:]\n",
    "d=np.concatenate((z4,b,c))\n",
    "prediksi=NN.forward(d)\n",
    "prediksi"
   ]
  },
  {
   "cell_type": "code",
   "execution_count": 58,
   "metadata": {},
   "outputs": [
    {
     "data": {
      "text/plain": [
       "array([0.24485422])"
      ]
     },
     "execution_count": 58,
     "metadata": {},
     "output_type": "execute_result"
    }
   ],
   "source": [
    "#prediksi 6\n",
    "c=prediksi\n",
    "z5=np.array([0.4621\t,\t0.4571])\n",
    "b=y[1:]\n",
    "d=np.concatenate((z5,b,c))\n",
    "prediksi=NN.forward(d)\n",
    "prediksi"
   ]
  }
 ],
 "metadata": {
  "kernelspec": {
   "display_name": "Python 3",
   "language": "python",
   "name": "python3"
  },
  "language_info": {
   "codemirror_mode": {
    "name": "ipython",
    "version": 3
   },
   "file_extension": ".py",
   "mimetype": "text/x-python",
   "name": "python",
   "nbconvert_exporter": "python",
   "pygments_lexer": "ipython3",
   "version": "3.7.3"
  }
 },
 "nbformat": 4,
 "nbformat_minor": 2
}
