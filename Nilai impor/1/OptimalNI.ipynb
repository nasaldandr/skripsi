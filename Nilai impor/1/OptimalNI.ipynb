{
 "cells": [
  {
   "cell_type": "code",
   "execution_count": 1,
   "metadata": {},
   "outputs": [
    {
     "name": "stdout",
     "output_type": "stream",
     "text": [
      "Warning: Maximum number of iterations has been exceeded.\n",
      "         Current function value: 0.811590\n",
      "         Iterations: 100\n",
      "         Function evaluations: 118\n",
      "         Gradient evaluations: 118\n"
     ]
    },
    {
     "data": {
      "text/plain": [
       "<Figure size 640x480 with 1 Axes>"
      ]
     },
     "metadata": {},
     "output_type": "display_data"
    },
    {
     "name": "stdout",
     "output_type": "stream",
     "text": [
      "Warning: Maximum number of iterations has been exceeded.\n",
      "         Current function value: 0.646439\n",
      "         Iterations: 100\n",
      "         Function evaluations: 114\n",
      "         Gradient evaluations: 114\n"
     ]
    },
    {
     "data": {
      "text/plain": [
       "<Figure size 640x480 with 1 Axes>"
      ]
     },
     "metadata": {},
     "output_type": "display_data"
    },
    {
     "data": {
      "text/plain": [
       "<Figure size 640x480 with 1 Axes>"
      ]
     },
     "metadata": {},
     "output_type": "display_data"
    }
   ],
   "source": [
    "#Import code from last time\n",
    "%run NI2-3.ipynb"
   ]
  },
  {
   "cell_type": "code",
   "execution_count": 2,
   "metadata": {},
   "outputs": [
    {
     "data": {
      "text/plain": [
       "array([[0.44281211, 0.6646853 ],\n",
       "       [0.49627058, 0.38417609],\n",
       "       [0.47546339, 0.50844449],\n",
       "       [0.55155979, 0.70605062],\n",
       "       [0.50099435, 0.62566313],\n",
       "       [0.44545859, 0.31006745],\n",
       "       [0.50571167, 0.71815185],\n",
       "       [0.46588904, 0.58129533],\n",
       "       [0.46785659, 0.59084039],\n",
       "       [0.45300142, 0.64112187],\n",
       "       [0.43741172, 0.70009636],\n",
       "       [0.3506737 , 0.61497185],\n",
       "       [0.36403131, 0.591378  ]])"
      ]
     },
     "execution_count": 2,
     "metadata": {},
     "output_type": "execute_result"
    }
   ],
   "source": [
    "testX"
   ]
  },
  {
   "cell_type": "code",
   "execution_count": 3,
   "metadata": {},
   "outputs": [
    {
     "data": {
      "text/plain": [
       "array([[0.38417609],\n",
       "       [0.50844449],\n",
       "       [0.70605062],\n",
       "       [0.62566313],\n",
       "       [0.31006745],\n",
       "       [0.71815185],\n",
       "       [0.58129533],\n",
       "       [0.59084039],\n",
       "       [0.64112187],\n",
       "       [0.70009636],\n",
       "       [0.61497185],\n",
       "       [0.591378  ],\n",
       "       [0.32      ]])"
      ]
     },
     "execution_count": 3,
     "metadata": {},
     "output_type": "execute_result"
    }
   ],
   "source": [
    "testY"
   ]
  },
  {
   "cell_type": "code",
   "execution_count": 4,
   "metadata": {},
   "outputs": [
    {
     "data": {
      "text/plain": [
       "array([[0.051925  , 0.42336055],\n",
       "       [0.14831904, 0.31155855],\n",
       "       [0.11211342, 0.42299539],\n",
       "       [0.17073406, 0.42478065],\n",
       "       [0.2232566 , 0.32205711],\n",
       "       [0.24197469, 0.46046559],\n",
       "       [0.36573346, 0.16668864],\n",
       "       [0.55255899, 0.40174469],\n",
       "       [0.37002352, 0.31647817],\n",
       "       [0.3325317 , 0.27086271],\n",
       "       [0.38788752, 0.31251205],\n",
       "       [0.39836394, 0.36909266],\n",
       "       [0.2848263 , 0.20575138],\n",
       "       [0.18673502, 0.17619313],\n",
       "       [0.18269477, 0.29041944],\n",
       "       [0.255617  , 0.24090886],\n",
       "       [0.23597043, 0.27408835],\n",
       "       [0.16413413, 0.37090835],\n",
       "       [0.17817663, 0.05869047],\n",
       "       [0.1639561 , 0.40032459],\n",
       "       [0.13324148, 0.28999341],\n",
       "       [0.22639902, 0.30771415],\n",
       "       [0.25501386, 0.42915251],\n",
       "       [0.23708614, 0.44062484],\n",
       "       [0.23165112, 0.35804636],\n",
       "       [0.23306761, 0.2957245 ],\n",
       "       [0.22117372, 0.4914135 ],\n",
       "       [0.22633168, 0.35624081],\n",
       "       [0.21869864, 0.54105594],\n",
       "       [0.2320322 , 0.15752904],\n",
       "       [0.23194795, 0.55294416],\n",
       "       [0.22154782, 0.51433788],\n",
       "       [0.28795858, 0.44121317],\n",
       "       [0.28837327, 0.58940001],\n",
       "       [0.29714576, 0.67707055],\n",
       "       [0.24366982, 0.67615763],\n",
       "       [0.30743731, 0.69694172],\n",
       "       [0.35859786, 0.58293858],\n",
       "       [0.37218122, 0.61114774],\n",
       "       [0.45025948, 0.7834559 ],\n",
       "       [0.44309563, 0.93566973],\n",
       "       [0.55815598, 0.28699092],\n",
       "       [0.60235983, 1.        ],\n",
       "       [0.69629172, 0.84997718],\n",
       "       [0.79060467, 0.62600801],\n",
       "       [0.64402223, 0.93614647],\n",
       "       [0.58322864, 0.85846731],\n",
       "       [0.48171501, 0.70258153]])"
      ]
     },
     "execution_count": 4,
     "metadata": {},
     "output_type": "execute_result"
    }
   ],
   "source": [
    "trainX"
   ]
  },
  {
   "cell_type": "code",
   "execution_count": 5,
   "metadata": {},
   "outputs": [
    {
     "data": {
      "text/plain": [
       "array([[0.31155855],\n",
       "       [0.42299539],\n",
       "       [0.42478065],\n",
       "       [0.32205711],\n",
       "       [0.46046559],\n",
       "       [0.16668864],\n",
       "       [0.40174469],\n",
       "       [0.31647817],\n",
       "       [0.27086271],\n",
       "       [0.31251205],\n",
       "       [0.36909266],\n",
       "       [0.20575138],\n",
       "       [0.17619313],\n",
       "       [0.29041944],\n",
       "       [0.24090886],\n",
       "       [0.27408835],\n",
       "       [0.37090835],\n",
       "       [0.05869047],\n",
       "       [0.40032459],\n",
       "       [0.28999341],\n",
       "       [0.30771415],\n",
       "       [0.42915251],\n",
       "       [0.44062484],\n",
       "       [0.35804636],\n",
       "       [0.2957245 ],\n",
       "       [0.4914135 ],\n",
       "       [0.35624081],\n",
       "       [0.54105594],\n",
       "       [0.15752904],\n",
       "       [0.55294416],\n",
       "       [0.51433788],\n",
       "       [0.44121317],\n",
       "       [0.58940001],\n",
       "       [0.67707055],\n",
       "       [0.67615763],\n",
       "       [0.69694172],\n",
       "       [0.58293858],\n",
       "       [0.61114774],\n",
       "       [0.7834559 ],\n",
       "       [0.93566973],\n",
       "       [0.28699092],\n",
       "       [1.        ],\n",
       "       [0.84997718],\n",
       "       [0.62600801],\n",
       "       [0.93614647],\n",
       "       [0.85846731],\n",
       "       [0.70258153],\n",
       "       [0.6646853 ]])"
      ]
     },
     "execution_count": 5,
     "metadata": {},
     "output_type": "execute_result"
    }
   ],
   "source": [
    "trainY"
   ]
  },
  {
   "cell_type": "code",
   "execution_count": 6,
   "metadata": {},
   "outputs": [],
   "source": [
    "#Regularization Parameter:\n",
    "Lambda = 0.0001"
   ]
  },
  {
   "cell_type": "code",
   "execution_count": 7,
   "metadata": {},
   "outputs": [],
   "source": [
    "#Need to make changes to costFunction and costFunctionPrim:\n",
    "def costFunction(self, X, y):\n",
    "    #Compute cost for given X,y, use weights already stored in class.\n",
    "    self.yHat = self.forward(X)\n",
    "    #We don't want cost to increase with the number of examples, so normalize by dividing the error term by number of examples(X.shape[0])\n",
    "    J = 0.5*sum((y-self.yHat)**2)/X.shape[0] + (self.Lambda/2)*(sum(self.W1**2)+sum(self.W2**2))\n",
    "    return J\n",
    "\n",
    "def costFunctionPrime(self, X, y):\n",
    "    #Compute derivative with respect to W and W2 for a given X and y:\n",
    "    self.yHat = self.forward(X)\n",
    "\n",
    "    delta3 = np.multiply(-(y-self.yHat), self.sigmoidPrime(self.z3))\n",
    "    #Add gradient of regularization term:\n",
    "    dJdW2 = np.dot(self.a2.T, delta3)/X.shape[0] + self.Lambda*self.W2\n",
    "\n",
    "    delta2 = np.dot(delta3, self.W2.T)*self.sigmoidPrime(self.z2)\n",
    "    #Add gradient of regularization term:\n",
    "    dJdW1 = np.dot(X.T, delta2)/X.shape[0] + self.Lambda*self.W1\n",
    "\n",
    "    return dJdW1, dJdW2"
   ]
  },
  {
   "cell_type": "code",
   "execution_count": 8,
   "metadata": {},
   "outputs": [],
   "source": [
    "#New complete class, with changes:\n",
    "class Neural_Network(object):\n",
    "    def __init__(self, Lambda=0.0001):        \n",
    "        #Define Hyperparameters\n",
    "        self.inputLayerSize = 2\n",
    "        self.outputLayerSize = 1\n",
    "        self.hiddenLayerSize = 3\n",
    "        \n",
    "        #Weights (parameters)\n",
    "        self.W1 = np.random.randn(self.inputLayerSize,self.hiddenLayerSize)\n",
    "        self.W2 = np.random.randn(self.hiddenLayerSize,self.outputLayerSize)\n",
    "        \n",
    "        #Regularization Parameter:\n",
    "        self.Lambda = Lambda\n",
    "        \n",
    "    def forward(self, X):\n",
    "        #Propogate inputs though network\n",
    "        self.z2 = np.dot(X, self.W1)\n",
    "        self.a2 = self.sigmoid(self.z2)\n",
    "        self.z3 = np.dot(self.a2, self.W2)\n",
    "        yHat = self.sigmoid(self.z3) \n",
    "        return yHat\n",
    "        \n",
    "    def sigmoid(self, z):\n",
    "        #Apply sigmoid activation function to scalar, vector, or matrix\n",
    "        return 1/(1+np.exp(-z))\n",
    "    \n",
    "    def sigmoidPrime(self,z):\n",
    "        #Gradient of sigmoid\n",
    "        return np.exp(-z)/((1+np.exp(-z))**2)\n",
    "    \n",
    "    def costFunction(self, X, y):\n",
    "        #Compute cost for given X,y, use weights already stored in class.\n",
    "        self.yHat = self.forward(X)\n",
    "        J = 0.5*sum((y-self.yHat)**2)/X.shape[0] + (self.Lambda/2)*(np.sum(self.W1**2)+np.sum(self.W2**2))\n",
    "        return J\n",
    "        \n",
    "    def costFunctionPrime(self, X, y):\n",
    "        #Compute derivative with respect to W and W2 for a given X and y:\n",
    "        self.yHat = self.forward(X)\n",
    "        \n",
    "        delta3 = np.multiply(-(y-self.yHat), self.sigmoidPrime(self.z3))\n",
    "        #Add gradient of regularization term:\n",
    "        dJdW2 = np.dot(self.a2.T, delta3)/X.shape[0] + self.Lambda*self.W2\n",
    "        \n",
    "        delta2 = np.dot(delta3, self.W2.T)*self.sigmoidPrime(self.z2)\n",
    "        #Add gradient of regularization term:\n",
    "        dJdW1 = np.dot(X.T, delta2)/X.shape[0] + self.Lambda*self.W1\n",
    "        \n",
    "        return dJdW1, dJdW2\n",
    "    \n",
    "    def predict(self):\n",
    "        prediksi = self.forward(dataprediksi)\n",
    "        return prediksi\n",
    "    \n",
    "    #Helper functions for interacting with other methods/classes\n",
    "    def getParams(self):\n",
    "        #Get W1 and W2 Rolled into vector:\n",
    "        params = np.concatenate((self.W1.ravel(), self.W2.ravel()))\n",
    "        return params\n",
    "    \n",
    "    def setParams(self, params):\n",
    "        #Set W1 and W2 using single parameter vector:\n",
    "        W1_start = 0\n",
    "        W1_end = self.hiddenLayerSize*self.inputLayerSize\n",
    "        self.W1 = np.reshape(params[W1_start:W1_end], \\\n",
    "                             (self.inputLayerSize, self.hiddenLayerSize))\n",
    "        W2_end = W1_end + self.hiddenLayerSize*self.outputLayerSize\n",
    "        self.W2 = np.reshape(params[W1_end:W2_end], \\\n",
    "                             (self.hiddenLayerSize, self.outputLayerSize))\n",
    "        \n",
    "    def computeGradients(self, X, y):\n",
    "        dJdW1, dJdW2 = self.costFunctionPrime(X, y)\n",
    "        return np.concatenate((dJdW1.ravel(), dJdW2.ravel()))"
   ]
  },
  {
   "cell_type": "code",
   "execution_count": 9,
   "metadata": {},
   "outputs": [],
   "source": [
    "def computeNumericalGradient(N, X, y):\n",
    "    paramsInitial = N.getParams()\n",
    "    numgrad = np.zeros(paramsInitial.shape)\n",
    "    perturb = np.zeros(paramsInitial.shape)\n",
    "    e = 1e-4\n",
    "\n",
    "    for p in range(len(paramsInitial)):\n",
    "        #Set perturbation vector\n",
    "        perturb[p] = e\n",
    "        N.setParams(paramsInitial + perturb)\n",
    "        loss2 = N.costFunction(X, y)\n",
    "            \n",
    "        N.setParams(paramsInitial - perturb)\n",
    "        loss1 = N.costFunction(X, y)\n",
    "\n",
    "        #Compute Numerical Gradient\n",
    "        numgrad[p] = (loss2 - loss1) / (2*e)\n",
    "\n",
    "            #Return the value we changed to zero:\n",
    "        perturb[p] = 0\n",
    "            \n",
    "    #Return Params to original value:\n",
    "    N.setParams(paramsInitial)\n",
    "\n",
    "    return numgrad "
   ]
  },
  {
   "cell_type": "code",
   "execution_count": 10,
   "metadata": {},
   "outputs": [],
   "source": [
    "NN = Neural_Network(Lambda=0.0001)"
   ]
  },
  {
   "cell_type": "code",
   "execution_count": 11,
   "metadata": {},
   "outputs": [],
   "source": [
    "#Make sure our gradients our correct after making changes:\n",
    "numgrad = computeNumericalGradient(NN, X, y)\n",
    "grad = NN.computeGradients(X,y)"
   ]
  },
  {
   "cell_type": "code",
   "execution_count": 12,
   "metadata": {},
   "outputs": [
    {
     "data": {
      "text/plain": [
       "7.481185517193671e-10"
      ]
     },
     "execution_count": 12,
     "metadata": {},
     "output_type": "execute_result"
    }
   ],
   "source": [
    "#Should be less than 1e-8:\n",
    "np.linalg.norm(grad-numgrad)/np.linalg.norm(grad+numgrad)"
   ]
  },
  {
   "cell_type": "code",
   "execution_count": 13,
   "metadata": {},
   "outputs": [],
   "source": [
    "T = trainer(NN)"
   ]
  },
  {
   "cell_type": "code",
   "execution_count": 14,
   "metadata": {},
   "outputs": [
    {
     "name": "stdout",
     "output_type": "stream",
     "text": [
      "Optimization terminated successfully.\n",
      "         Current function value: 0.015180\n",
      "         Iterations: 88\n",
      "         Function evaluations: 96\n",
      "         Gradient evaluations: 96\n"
     ]
    }
   ],
   "source": [
    "T.train(X,y,testX,testY)"
   ]
  },
  {
   "cell_type": "code",
   "execution_count": 15,
   "metadata": {},
   "outputs": [
    {
     "data": {
      "image/png": "[encoded data removed]",
      "text/plain": [
       "<Figure size 432x288 with 1 Axes>"
      ]
     },
     "metadata": {
      "needs_background": "light"
     },
     "output_type": "display_data"
    }
   ],
   "source": [
    "plot.plot(T.J)\n",
    "plot.plot(T.testJ)\n",
    "plot.grid(1)\n",
    "plot.xlabel('Iterations')\n",
    "plot.ylabel('Cost')\n",
    "plot.legend(['Training', 'Testing'])\n",
    "plot.show()"
   ]
  },
  {
   "cell_type": "code",
   "execution_count": 16,
   "metadata": {},
   "outputs": [
    {
     "data": {
      "text/plain": [
       "[array([0.02475818]),\n",
       " array([0.02379112]),\n",
       " array([0.02354292]),\n",
       " array([0.02308008]),\n",
       " array([0.02221286]),\n",
       " array([0.02064758]),\n",
       " array([0.01838372]),\n",
       " array([0.01798448]),\n",
       " array([0.01778791]),\n",
       " array([0.01747883]),\n",
       " array([0.01720392]),\n",
       " array([0.017138]),\n",
       " array([0.01713188]),\n",
       " array([0.01712801]),\n",
       " array([0.01712144]),\n",
       " array([0.01710967]),\n",
       " array([0.01708815]),\n",
       " array([0.01704896]),\n",
       " array([0.01697939]),\n",
       " array([0.01686147]),\n",
       " array([0.01666578]),\n",
       " array([0.01577531]),\n",
       " array([0.01573674]),\n",
       " array([0.01572179]),\n",
       " array([0.01569715]),\n",
       " array([0.01566022]),\n",
       " array([0.01562614]),\n",
       " array([0.01560633]),\n",
       " array([0.01560326]),\n",
       " array([0.01560293]),\n",
       " array([0.01560231]),\n",
       " array([0.01560112]),\n",
       " array([0.01559195]),\n",
       " array([0.01557872]),\n",
       " array([0.01555661]),\n",
       " array([0.01551987]),\n",
       " array([0.0154632]),\n",
       " array([0.01539043]),\n",
       " array([0.0153244]),\n",
       " array([0.01530943]),\n",
       " array([0.0153088]),\n",
       " array([0.01530852]),\n",
       " array([0.01530841]),\n",
       " array([0.0153082]),\n",
       " array([0.01530781]),\n",
       " array([0.01530706]),\n",
       " array([0.01530566]),\n",
       " array([0.01530307]),\n",
       " array([0.0152985]),\n",
       " array([0.01529096]),\n",
       " array([0.01527984]),\n",
       " array([0.01526729]),\n",
       " array([0.01524725]),\n",
       " array([0.01521726]),\n",
       " array([0.01519577]),\n",
       " array([0.01518913]),\n",
       " array([0.015187]),\n",
       " array([0.01518653]),\n",
       " array([0.01518651]),\n",
       " array([0.0151865]),\n",
       " array([0.01518649]),\n",
       " array([0.01518648]),\n",
       " array([0.01518645]),\n",
       " array([0.0151864]),\n",
       " array([0.01518631]),\n",
       " array([0.01518614]),\n",
       " array([0.01518584]),\n",
       " array([0.01518535]),\n",
       " array([0.01518459]),\n",
       " array([0.01518371]),\n",
       " array([0.01518267]),\n",
       " array([0.0151819]),\n",
       " array([0.01518173]),\n",
       " array([0.01518172]),\n",
       " array([0.01518172]),\n",
       " array([0.01518171]),\n",
       " array([0.01518171]),\n",
       " array([0.0151817]),\n",
       " array([0.01518169]),\n",
       " array([0.01518167]),\n",
       " array([0.01518163]),\n",
       " array([0.01518156]),\n",
       " array([0.01518144]),\n",
       " array([0.01518124]),\n",
       " array([0.01518094]),\n",
       " array([0.0151805]),\n",
       " array([0.01517995]),\n",
       " array([0.0151796])]"
      ]
     },
     "execution_count": 16,
     "metadata": {},
     "output_type": "execute_result"
    }
   ],
   "source": [
    "T.J"
   ]
  },
  {
   "cell_type": "code",
   "execution_count": 17,
   "metadata": {},
   "outputs": [
    {
     "data": {
      "text/plain": [
       "[array([0.01656804]),\n",
       " array([0.01227985]),\n",
       " array([0.01154059]),\n",
       " array([0.01104459]),\n",
       " array([0.01064725]),\n",
       " array([0.01046011]),\n",
       " array([0.01113373]),\n",
       " array([0.01228435]),\n",
       " array([0.01179295]),\n",
       " array([0.01134685]),\n",
       " array([0.01134664]),\n",
       " array([0.01159069]),\n",
       " array([0.0116197]),\n",
       " array([0.01162416]),\n",
       " array([0.01163242]),\n",
       " array([0.01164553]),\n",
       " array([0.01166648]),\n",
       " array([0.01170226]),\n",
       " array([0.01176757]),\n",
       " array([0.0118902]),\n",
       " array([0.01208389]),\n",
       " array([0.01205283]),\n",
       " array([0.01196864]),\n",
       " array([0.01198379]),\n",
       " array([0.01202052]),\n",
       " array([0.01205712]),\n",
       " array([0.01204668]),\n",
       " array([0.0119873]),\n",
       " array([0.0119343]),\n",
       " array([0.01194024]),\n",
       " array([0.01193056]),\n",
       " array([0.01191966]),\n",
       " array([0.0118469]),\n",
       " array([0.01176373]),\n",
       " array([0.01167203]),\n",
       " array([0.01155931]),\n",
       " array([0.0114143]),\n",
       " array([0.01128398]),\n",
       " array([0.0113222]),\n",
       " array([0.01145618]),\n",
       " array([0.01144182]),\n",
       " array([0.0114306]),\n",
       " array([0.01143137]),\n",
       " array([0.01143264]),\n",
       " array([0.0114345]),\n",
       " array([0.01143714]),\n",
       " array([0.01144114]),\n",
       " array([0.01144735]),\n",
       " array([0.01145722]),\n",
       " array([0.01147348]),\n",
       " array([0.01150305]),\n",
       " array([0.0115461]),\n",
       " array([0.01157932]),\n",
       " array([0.01160822]),\n",
       " array([0.0115248]),\n",
       " array([0.01156359]),\n",
       " array([0.01154852]),\n",
       " array([0.01152731]),\n",
       " array([0.01153491]),\n",
       " array([0.01153573]),\n",
       " array([0.01153659]),\n",
       " array([0.01153733]),\n",
       " array([0.01153801]),\n",
       " array([0.01153864]),\n",
       " array([0.01153912]),\n",
       " array([0.01153917]),\n",
       " array([0.01153802]),\n",
       " array([0.01153388]),\n",
       " array([0.01152289]),\n",
       " array([0.0115044]),\n",
       " array([0.01147883]),\n",
       " array([0.01145577]),\n",
       " array([0.01145059]),\n",
       " array([0.01145202]),\n",
       " array([0.01145273]),\n",
       " array([0.0114534]),\n",
       " array([0.01145408]),\n",
       " array([0.01145488]),\n",
       " array([0.01145593]),\n",
       " array([0.01145743]),\n",
       " array([0.01145965]),\n",
       " array([0.01146301]),\n",
       " array([0.01146805]),\n",
       " array([0.0114752]),\n",
       " array([0.01148383]),\n",
       " array([0.01149039]),\n",
       " array([0.01149052]),\n",
       " array([0.01148092])]"
      ]
     },
     "execution_count": 17,
     "metadata": {},
     "output_type": "execute_result"
    }
   ],
   "source": [
    "T.testJ"
   ]
  },
  {
   "cell_type": "code",
   "execution_count": 18,
   "metadata": {},
   "outputs": [
    {
     "data": {
      "text/plain": [
       "0.004545375063956501"
      ]
     },
     "execution_count": 18,
     "metadata": {},
     "output_type": "execute_result"
    }
   ],
   "source": [
    "from sklearn.metrics import mean_absolute_error\n",
    "mean_absolute_error(T.J, T.testJ)"
   ]
  },
  {
   "cell_type": "code",
   "execution_count": 19,
   "metadata": {},
   "outputs": [],
   "source": [
    "yHat=NN.forward(X)"
   ]
  },
  {
   "cell_type": "code",
   "execution_count": 20,
   "metadata": {},
   "outputs": [
    {
     "data": {
      "text/plain": [
       "array([[0.31576562],\n",
       "       [0.342304  ],\n",
       "       [0.34949506],\n",
       "       [0.38354445],\n",
       "       [0.387774  ],\n",
       "       [0.43348238],\n",
       "       [0.43005345],\n",
       "       [0.58117167],\n",
       "       [0.46963538],\n",
       "       [0.4373578 ],\n",
       "       [0.47847794],\n",
       "       [0.49772426],\n",
       "       [0.39371013],\n",
       "       [0.3304908 ],\n",
       "       [0.35655737],\n",
       "       [0.38584076],\n",
       "       [0.38294909],\n",
       "       [0.36615494],\n",
       "       [0.29744321],\n",
       "       [0.37346586],\n",
       "       [0.32849871],\n",
       "       [0.3859522 ],\n",
       "       [0.43304347],\n",
       "       [0.42569858],\n",
       "       [0.40171016],\n",
       "       [0.38675174],\n",
       "       [0.42939584],\n",
       "       [0.3981945 ],\n",
       "       [0.44045392],\n",
       "       [0.35140191],\n",
       "       [0.45093073],\n",
       "       [0.43537384],\n",
       "       [0.4546944 ],\n",
       "       [0.49112777],\n",
       "       [0.51650394],\n",
       "       [0.48767398],\n",
       "       [0.52642359],\n",
       "       [0.52670133],\n",
       "       [0.53994606],\n",
       "       [0.61128267],\n",
       "       [0.6358193 ],\n",
       "       [0.55988735],\n",
       "       [0.69854103],\n",
       "       [0.70549654],\n",
       "       [0.70299453],\n",
       "       [0.70203158],\n",
       "       [0.67309606],\n",
       "       [0.60924414],\n",
       "       [0.58494001],\n",
       "       [0.55114172],\n",
       "       [0.56777681],\n",
       "       [0.63769511],\n",
       "       [0.60276968],\n",
       "       [0.50873572],\n",
       "       [0.62196079],\n",
       "       [0.57845747],\n",
       "       [0.58130184],\n",
       "       [0.58477462],\n",
       "       [0.58962267],\n",
       "       [0.52993282],\n",
       "       [0.53139393]])"
      ]
     },
     "execution_count": 20,
     "metadata": {},
     "output_type": "execute_result"
    }
   ],
   "source": [
    "yHat"
   ]
  },
  {
   "cell_type": "code",
   "execution_count": 21,
   "metadata": {},
   "outputs": [
    {
     "data": {
      "text/plain": [
       "array([[0.31155855],\n",
       "       [0.42299539],\n",
       "       [0.42478065],\n",
       "       [0.32205711],\n",
       "       [0.46046559],\n",
       "       [0.16668864],\n",
       "       [0.40174469],\n",
       "       [0.31647817],\n",
       "       [0.27086271],\n",
       "       [0.31251205],\n",
       "       [0.36909266],\n",
       "       [0.20575138],\n",
       "       [0.17619313],\n",
       "       [0.29041944],\n",
       "       [0.24090886],\n",
       "       [0.27408835],\n",
       "       [0.37090835],\n",
       "       [0.05869047],\n",
       "       [0.40032459],\n",
       "       [0.28999341],\n",
       "       [0.30771415],\n",
       "       [0.42915251],\n",
       "       [0.44062484],\n",
       "       [0.35804636],\n",
       "       [0.2957245 ],\n",
       "       [0.4914135 ],\n",
       "       [0.35624081],\n",
       "       [0.54105594],\n",
       "       [0.15752904],\n",
       "       [0.55294416],\n",
       "       [0.51433788],\n",
       "       [0.44121317],\n",
       "       [0.58940001],\n",
       "       [0.67707055],\n",
       "       [0.67615763],\n",
       "       [0.69694172],\n",
       "       [0.58293858],\n",
       "       [0.61114774],\n",
       "       [0.7834559 ],\n",
       "       [0.93566973],\n",
       "       [0.28699092],\n",
       "       [1.        ],\n",
       "       [0.84997718],\n",
       "       [0.62600801],\n",
       "       [0.93614647],\n",
       "       [0.85846731],\n",
       "       [0.70258153],\n",
       "       [0.6646853 ],\n",
       "       [0.38417609],\n",
       "       [0.50844449],\n",
       "       [0.70605062],\n",
       "       [0.62566313],\n",
       "       [0.31006745],\n",
       "       [0.71815185],\n",
       "       [0.58129533],\n",
       "       [0.59084039],\n",
       "       [0.64112187],\n",
       "       [0.70009636],\n",
       "       [0.61497185],\n",
       "       [0.591378  ],\n",
       "       [0.32      ]])"
      ]
     },
     "execution_count": 21,
     "metadata": {},
     "output_type": "execute_result"
    }
   ],
   "source": [
    "y"
   ]
  },
  {
   "cell_type": "code",
   "execution_count": 22,
   "metadata": {},
   "outputs": [
    {
     "data": {
      "text/plain": [
       "0.027298390318305745"
      ]
     },
     "execution_count": 22,
     "metadata": {},
     "output_type": "execute_result"
    }
   ],
   "source": [
    "from sklearn.metrics import mean_squared_error \n",
    "mean_squared_error(y,yHat) "
   ]
  },
  {
   "cell_type": "code",
   "execution_count": 23,
   "metadata": {},
   "outputs": [
    {
     "data": {
      "image/png": "[encoded data removed]",
      "text/plain": [
       "<Figure size 432x288 with 1 Axes>"
      ]
     },
     "metadata": {
      "needs_background": "light"
     },
     "output_type": "display_data"
    }
   ],
   "source": [
    "#Plot cost during training:\n",
    "plot.plot(y)\n",
    "plot.plot(yHat)\n",
    "plot.grid(1)\n",
    "plot.legend(['y', 'yHat'])\n",
    "plot.show()"
   ]
  },
  {
   "cell_type": "code",
   "execution_count": 24,
   "metadata": {},
   "outputs": [],
   "source": [
    "prediksi=NN.forward(dataprediksi)"
   ]
  },
  {
   "cell_type": "code",
   "execution_count": 25,
   "metadata": {},
   "outputs": [
    {
     "data": {
      "text/plain": [
       "array([[0.66168925],\n",
       "       [0.73868483],\n",
       "       [0.64650772],\n",
       "       [0.45915431]])"
      ]
     },
     "execution_count": 25,
     "metadata": {},
     "output_type": "execute_result"
    }
   ],
   "source": [
    "prediksi"
   ]
  },
  {
   "cell_type": "code",
   "execution_count": 26,
   "metadata": {},
   "outputs": [],
   "source": [
    "from sklearn.metrics import mean_squared_error "
   ]
  },
  {
   "cell_type": "code",
   "execution_count": 27,
   "metadata": {},
   "outputs": [
    {
     "data": {
      "text/plain": [
       "0.14963962387569138"
      ]
     },
     "execution_count": 27,
     "metadata": {},
     "output_type": "execute_result"
    }
   ],
   "source": [
    "Y_true= ([\t0.50\t]\t,\n",
    "[\t0.415539889\t]\t,\n",
    "[\t0\t]\t,\n",
    "[\t0.235502358\t]\t,\n",
    "\n",
    ")\n",
    "\n",
    "\n",
    "Y_pred=prediksi\n",
    "mean_squared_error(Y_true,Y_pred) "
   ]
  },
  {
   "cell_type": "code",
   "execution_count": 28,
   "metadata": {},
   "outputs": [
    {
     "data": {
      "text/plain": [
       "array([[0.79538041, 0.32      ],\n",
       "       [1.        , 0.5       ],\n",
       "       [0.70768171, 0.41553989],\n",
       "       [0.49169532, 0.        ]])"
      ]
     },
     "execution_count": 28,
     "metadata": {},
     "output_type": "execute_result"
    }
   ],
   "source": [
    "dataprediksi"
   ]
  },
  {
   "cell_type": "code",
   "execution_count": 29,
   "metadata": {},
   "outputs": [],
   "source": [
    "z=np.array([0.51319034])"
   ]
  },
  {
   "cell_type": "code",
   "execution_count": 30,
   "metadata": {},
   "outputs": [],
   "source": [
    "y=np.array([\t0.235502358\t])"
   ]
  },
  {
   "cell_type": "code",
   "execution_count": 31,
   "metadata": {},
   "outputs": [],
   "source": [
    "a=np.concatenate((z,y))"
   ]
  },
  {
   "cell_type": "code",
   "execution_count": 32,
   "metadata": {},
   "outputs": [
    {
     "data": {
      "text/plain": [
       "array([0.52648708])"
      ]
     },
     "execution_count": 32,
     "metadata": {},
     "output_type": "execute_result"
    }
   ],
   "source": [
    "#prediksi 1\n",
    "prediksi=NN.forward(a)\n",
    "prediksi"
   ]
  },
  {
   "cell_type": "code",
   "execution_count": 33,
   "metadata": {},
   "outputs": [
    {
     "data": {
      "text/plain": [
       "array([0.57674676])"
      ]
     },
     "execution_count": 33,
     "metadata": {},
     "output_type": "execute_result"
    }
   ],
   "source": [
    "#prediksi 2\n",
    "c=prediksi\n",
    "z1=np.array([0.48673204])\n",
    "b=y[1:]\n",
    "d=np.concatenate((z1,b,c))\n",
    "prediksi=NN.forward(d)\n",
    "prediksi"
   ]
  },
  {
   "cell_type": "code",
   "execution_count": 34,
   "metadata": {},
   "outputs": [
    {
     "data": {
      "text/plain": [
       "array([0.56079133])"
      ]
     },
     "execution_count": 34,
     "metadata": {},
     "output_type": "execute_result"
    }
   ],
   "source": [
    "#prediksi 3\n",
    "c=prediksi\n",
    "z2=np.array([0.43012934])\n",
    "b=y[1:]\n",
    "d=np.concatenate((z2,b,c))\n",
    "prediksi=NN.forward(d)\n",
    "prediksi"
   ]
  },
  {
   "cell_type": "code",
   "execution_count": 35,
   "metadata": {},
   "outputs": [
    {
     "data": {
      "text/plain": [
       "array([0.54933332])"
      ]
     },
     "execution_count": 35,
     "metadata": {},
     "output_type": "execute_result"
    }
   ],
   "source": [
    "#prediksi 4\n",
    "c=prediksi\n",
    "z3=np.array([0.41357631])\n",
    "b=y[1:]\n",
    "d=np.concatenate((z3,b,c))\n",
    "prediksi=NN.forward(d)\n",
    "prediksi"
   ]
  },
  {
   "cell_type": "code",
   "execution_count": 36,
   "metadata": {},
   "outputs": [
    {
     "data": {
      "text/plain": [
       "array([0.54814558])"
      ]
     },
     "execution_count": 36,
     "metadata": {},
     "output_type": "execute_result"
    }
   ],
   "source": [
    "#prediksi 5\n",
    "c=prediksi\n",
    "z4=np.array([0.41626853])\n",
    "b=y[1:]\n",
    "d=np.concatenate((z4,b,c))\n",
    "prediksi=NN.forward(d)\n",
    "prediksi"
   ]
  },
  {
   "cell_type": "code",
   "execution_count": 37,
   "metadata": {},
   "outputs": [
    {
     "data": {
      "text/plain": [
       "array([0.54634894])"
      ]
     },
     "execution_count": 37,
     "metadata": {},
     "output_type": "execute_result"
    }
   ],
   "source": [
    "#prediksi 6\n",
    "c=prediksi\n",
    "z5=np.array([0.41314695])\n",
    "b=y[1:]\n",
    "d=np.concatenate((z5,b,c))\n",
    "prediksi=NN.forward(d)\n",
    "prediksi"
   ]
  }
 ],
 "metadata": {
  "kernelspec": {
   "display_name": "Python 3",
   "language": "python",
   "name": "python3"
  },
  "language_info": {
   "codemirror_mode": {
    "name": "ipython",
    "version": 3
   },
   "file_extension": ".py",
   "mimetype": "text/x-python",
   "name": "python",
   "nbconvert_exporter": "python",
   "pygments_lexer": "ipython3",
   "version": "3.7.3"
  }
 },
 "nbformat": 4,
 "nbformat_minor": 2
}
