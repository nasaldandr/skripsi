{
 "cells": [
  {
   "cell_type": "code",
   "execution_count": 1,
   "metadata": {},
   "outputs": [
    {
     "name": "stdout",
     "output_type": "stream",
     "text": [
      "Warning: Maximum number of iterations has been exceeded.\n",
      "         Current function value: 0.593681\n",
      "         Iterations: 100\n",
      "         Function evaluations: 109\n",
      "         Gradient evaluations: 109\n"
     ]
    },
    {
     "data": {
      "text/plain": [
       "<Figure size 640x480 with 1 Axes>"
      ]
     },
     "metadata": {},
     "output_type": "display_data"
    },
    {
     "name": "stdout",
     "output_type": "stream",
     "text": [
      "Warning: Maximum number of iterations has been exceeded.\n",
      "         Current function value: 0.436269\n",
      "         Iterations: 100\n",
      "         Function evaluations: 107\n",
      "         Gradient evaluations: 107\n"
     ]
    },
    {
     "data": {
      "text/plain": [
       "<Figure size 640x480 with 1 Axes>"
      ]
     },
     "metadata": {},
     "output_type": "display_data"
    },
    {
     "data": {
      "text/plain": [
       "<Figure size 640x480 with 1 Axes>"
      ]
     },
     "metadata": {},
     "output_type": "display_data"
    }
   ],
   "source": [
    "#Import code from last time\n",
    "%run NI3-4.ipynb"
   ]
  },
  {
   "cell_type": "code",
   "execution_count": 2,
   "metadata": {},
   "outputs": [
    {
     "data": {
      "text/plain": [
       "array([[0.26056338, 0.44281211, 0.6646853 ],\n",
       "       [0.3943662 , 0.49627058, 0.38417609],\n",
       "       [0.62676056, 0.47546339, 0.50844449],\n",
       "       [0.79577465, 0.55155979, 0.70605062],\n",
       "       [0.70422535, 0.50099435, 0.62566313],\n",
       "       [0.53521127, 0.44545859, 0.31006745],\n",
       "       [0.40140845, 0.50571167, 0.71815185],\n",
       "       [0.12676056, 0.46588904, 0.58129533],\n",
       "       [0.33098592, 0.46785659, 0.59084039],\n",
       "       [0.41549296, 0.45300142, 0.64112187],\n",
       "       [0.55633803, 0.43741172, 0.70009636],\n",
       "       [0.5915493 , 0.3506737 , 0.61497185],\n",
       "       [0.51408451, 0.36403131, 0.591378  ]])"
      ]
     },
     "execution_count": 2,
     "metadata": {},
     "output_type": "execute_result"
    }
   ],
   "source": [
    "testX"
   ]
  },
  {
   "cell_type": "code",
   "execution_count": 3,
   "metadata": {},
   "outputs": [
    {
     "data": {
      "text/plain": [
       "array([[0.38417609],\n",
       "       [0.50844449],\n",
       "       [0.70605062],\n",
       "       [0.62566313],\n",
       "       [0.31006745],\n",
       "       [0.71815185],\n",
       "       [0.58129533],\n",
       "       [0.59084039],\n",
       "       [0.64112187],\n",
       "       [0.70009636],\n",
       "       [0.61497185],\n",
       "       [0.591378  ],\n",
       "       [0.32      ]])"
      ]
     },
     "execution_count": 3,
     "metadata": {},
     "output_type": "execute_result"
    }
   ],
   "source": [
    "testY"
   ]
  },
  {
   "cell_type": "code",
   "execution_count": 4,
   "metadata": {},
   "outputs": [
    {
     "data": {
      "text/plain": [
       "array([[0.06338028, 0.051925  , 0.42336055],\n",
       "       [0.43661972, 0.14831904, 0.31155855],\n",
       "       [0.57042253, 0.11211342, 0.42299539],\n",
       "       [0.66901409, 0.17073406, 0.42478065],\n",
       "       [0.6971831 , 0.2232566 , 0.32205711],\n",
       "       [0.97183099, 0.24197469, 0.46046559],\n",
       "       [0.5915493 , 0.36573346, 0.16668864],\n",
       "       [0.28169014, 0.55255899, 0.40174469],\n",
       "       [0.26056338, 0.37002352, 0.31647817],\n",
       "       [0.46478873, 0.3325317 , 0.27086271],\n",
       "       [0.99295775, 0.38788752, 0.31251205],\n",
       "       [0.67605634, 0.39836394, 0.36909266],\n",
       "       [0.25352113, 0.2848263 , 0.20575138],\n",
       "       [0.45070423, 0.18673502, 0.17619313],\n",
       "       [0.        , 0.18269477, 0.29041944],\n",
       "       [0.48591549, 0.255617  , 0.24090886],\n",
       "       [0.78169014, 0.23597043, 0.27408835],\n",
       "       [0.8028169 , 0.16413413, 0.37090835],\n",
       "       [0.3028169 , 0.17817663, 0.05869047],\n",
       "       [0.47183099, 0.1639561 , 0.40032459],\n",
       "       [0.41549296, 0.13324148, 0.28999341],\n",
       "       [0.64788732, 0.22639902, 0.30771415],\n",
       "       [0.61267606, 0.25501386, 0.42915251],\n",
       "       [1.        , 0.23708614, 0.44062484],\n",
       "       [0.47887324, 0.23165112, 0.35804636],\n",
       "       [0.3028169 , 0.23306761, 0.2957245 ],\n",
       "       [0.38028169, 0.22117372, 0.4914135 ],\n",
       "       [0.5915493 , 0.22633168, 0.35624081],\n",
       "       [0.8028169 , 0.21869864, 0.54105594],\n",
       "       [0.47183099, 0.2320322 , 0.15752904],\n",
       "       [0.26760563, 0.23194795, 0.55294416],\n",
       "       [0.4084507 , 0.22154782, 0.51433788],\n",
       "       [0.32394366, 0.28795858, 0.44121317],\n",
       "       [0.45774648, 0.28837327, 0.58940001],\n",
       "       [0.81690141, 0.29714576, 0.67707055],\n",
       "       [0.75352113, 0.24366982, 0.67615763],\n",
       "       [0.43661972, 0.30743731, 0.69694172],\n",
       "       [0.45774648, 0.35859786, 0.58293858],\n",
       "       [0.38732394, 0.37218122, 0.61114774],\n",
       "       [0.46478873, 0.45025948, 0.7834559 ],\n",
       "       [0.73239437, 0.44309563, 0.93566973],\n",
       "       [0.51408451, 0.55815598, 0.28699092],\n",
       "       [0.28169014, 0.60235983, 1.        ],\n",
       "       [0.19014085, 0.69629172, 0.84997718],\n",
       "       [0.51408451, 0.79060467, 0.62600801],\n",
       "       [0.50704225, 0.64402223, 0.93614647],\n",
       "       [0.75352113, 0.58322864, 0.85846731],\n",
       "       [0.54225352, 0.48171501, 0.70258153]])"
      ]
     },
     "execution_count": 4,
     "metadata": {},
     "output_type": "execute_result"
    }
   ],
   "source": [
    "trainX"
   ]
  },
  {
   "cell_type": "code",
   "execution_count": 5,
   "metadata": {},
   "outputs": [
    {
     "data": {
      "text/plain": [
       "array([[0.31155855],\n",
       "       [0.42299539],\n",
       "       [0.42478065],\n",
       "       [0.32205711],\n",
       "       [0.46046559],\n",
       "       [0.16668864],\n",
       "       [0.40174469],\n",
       "       [0.31647817],\n",
       "       [0.27086271],\n",
       "       [0.31251205],\n",
       "       [0.36909266],\n",
       "       [0.20575138],\n",
       "       [0.17619313],\n",
       "       [0.29041944],\n",
       "       [0.24090886],\n",
       "       [0.27408835],\n",
       "       [0.37090835],\n",
       "       [0.05869047],\n",
       "       [0.40032459],\n",
       "       [0.28999341],\n",
       "       [0.30771415],\n",
       "       [0.42915251],\n",
       "       [0.44062484],\n",
       "       [0.35804636],\n",
       "       [0.2957245 ],\n",
       "       [0.4914135 ],\n",
       "       [0.35624081],\n",
       "       [0.54105594],\n",
       "       [0.15752904],\n",
       "       [0.55294416],\n",
       "       [0.51433788],\n",
       "       [0.44121317],\n",
       "       [0.58940001],\n",
       "       [0.67707055],\n",
       "       [0.67615763],\n",
       "       [0.69694172],\n",
       "       [0.58293858],\n",
       "       [0.61114774],\n",
       "       [0.7834559 ],\n",
       "       [0.93566973],\n",
       "       [0.28699092],\n",
       "       [1.        ],\n",
       "       [0.84997718],\n",
       "       [0.62600801],\n",
       "       [0.93614647],\n",
       "       [0.85846731],\n",
       "       [0.70258153],\n",
       "       [0.6646853 ]])"
      ]
     },
     "execution_count": 5,
     "metadata": {},
     "output_type": "execute_result"
    }
   ],
   "source": [
    "trainY"
   ]
  },
  {
   "cell_type": "code",
   "execution_count": 6,
   "metadata": {},
   "outputs": [],
   "source": [
    "#Regularization Parameter:\n",
    "Lambda = 0.0001"
   ]
  },
  {
   "cell_type": "code",
   "execution_count": 7,
   "metadata": {},
   "outputs": [],
   "source": [
    "#Need to make changes to costFunction and costFunctionPrim:\n",
    "def costFunction(self, X, y):\n",
    "    #Compute cost for given X,y, use weights already stored in class.\n",
    "    self.yHat = self.forward(X)\n",
    "    #We don't want cost to increase with the number of examples, so normalize by dividing the error term by number of examples(X.shape[0])\n",
    "    J = 0.5*sum((y-self.yHat)**2)/X.shape[0] + (self.Lambda/2)*(sum(self.W1**2)+sum(self.W2**2))\n",
    "    return J\n",
    "\n",
    "def costFunctionPrime(self, X, y):\n",
    "    #Compute derivative with respect to W and W2 for a given X and y:\n",
    "    self.yHat = self.forward(X)\n",
    "\n",
    "    delta3 = np.multiply(-(y-self.yHat), self.sigmoidPrime(self.z3))\n",
    "    #Add gradient of regularization term:\n",
    "    dJdW2 = np.dot(self.a2.T, delta3)/X.shape[0] + self.Lambda*self.W2\n",
    "\n",
    "    delta2 = np.dot(delta3, self.W2.T)*self.sigmoidPrime(self.z2)\n",
    "    #Add gradient of regularization term:\n",
    "    dJdW1 = np.dot(X.T, delta2)/X.shape[0] + self.Lambda*self.W1\n",
    "\n",
    "    return dJdW1, dJdW2"
   ]
  },
  {
   "cell_type": "code",
   "execution_count": 8,
   "metadata": {},
   "outputs": [],
   "source": [
    "#New complete class, with changes:\n",
    "class Neural_Network(object):\n",
    "    def __init__(self, Lambda=0.0001):        \n",
    "        #Define Hyperparameters\n",
    "        self.inputLayerSize = 3\n",
    "        self.outputLayerSize = 1\n",
    "        self.hiddenLayerSize = 4\n",
    "        \n",
    "        #Weights (parameters)\n",
    "        self.W1 = np.random.randn(self.inputLayerSize,self.hiddenLayerSize)\n",
    "        self.W2 = np.random.randn(self.hiddenLayerSize,self.outputLayerSize)\n",
    "        \n",
    "        #Regularization Parameter:\n",
    "        self.Lambda = Lambda\n",
    "        \n",
    "    def forward(self, X):\n",
    "        #Propogate inputs though network\n",
    "        self.z2 = np.dot(X, self.W1)\n",
    "        self.a2 = self.sigmoid(self.z2)\n",
    "        self.z3 = np.dot(self.a2, self.W2)\n",
    "        yHat = self.sigmoid(self.z3) \n",
    "        return yHat\n",
    "        \n",
    "    def sigmoid(self, z):\n",
    "        #Apply sigmoid activation function to scalar, vector, or matrix\n",
    "        return 1/(1+np.exp(-z))\n",
    "    \n",
    "    def sigmoidPrime(self,z):\n",
    "        #Gradient of sigmoid\n",
    "        return np.exp(-z)/((1+np.exp(-z))**2)\n",
    "    \n",
    "    def costFunction(self, X, y):\n",
    "        #Compute cost for given X,y, use weights already stored in class.\n",
    "        self.yHat = self.forward(X)\n",
    "        J = 0.5*sum((y-self.yHat)**2)/X.shape[0] + (self.Lambda/2)*(np.sum(self.W1**2)+np.sum(self.W2**2))\n",
    "        return J\n",
    "        \n",
    "    def costFunctionPrime(self, X, y):\n",
    "        #Compute derivative with respect to W and W2 for a given X and y:\n",
    "        self.yHat = self.forward(X)\n",
    "        \n",
    "        delta3 = np.multiply(-(y-self.yHat), self.sigmoidPrime(self.z3))\n",
    "        #Add gradient of regularization term:\n",
    "        dJdW2 = np.dot(self.a2.T, delta3)/X.shape[0] + self.Lambda*self.W2\n",
    "        \n",
    "        delta2 = np.dot(delta3, self.W2.T)*self.sigmoidPrime(self.z2)\n",
    "        #Add gradient of regularization term:\n",
    "        dJdW1 = np.dot(X.T, delta2)/X.shape[0] + self.Lambda*self.W1\n",
    "        \n",
    "        return dJdW1, dJdW2\n",
    "    \n",
    "    def predict(self):\n",
    "        prediksi = self.forward(dataprediksi)\n",
    "        return prediksi\n",
    "    \n",
    "    #Helper functions for interacting with other methods/classes\n",
    "    def getParams(self):\n",
    "        #Get W1 and W2 Rolled into vector:\n",
    "        params = np.concatenate((self.W1.ravel(), self.W2.ravel()))\n",
    "        return params\n",
    "    \n",
    "    def setParams(self, params):\n",
    "        #Set W1 and W2 using single parameter vector:\n",
    "        W1_start = 0\n",
    "        W1_end = self.hiddenLayerSize*self.inputLayerSize\n",
    "        self.W1 = np.reshape(params[W1_start:W1_end], \\\n",
    "                             (self.inputLayerSize, self.hiddenLayerSize))\n",
    "        W2_end = W1_end + self.hiddenLayerSize*self.outputLayerSize\n",
    "        self.W2 = np.reshape(params[W1_end:W2_end], \\\n",
    "                             (self.hiddenLayerSize, self.outputLayerSize))\n",
    "        \n",
    "    def computeGradients(self, X, y):\n",
    "        dJdW1, dJdW2 = self.costFunctionPrime(X, y)\n",
    "        return np.concatenate((dJdW1.ravel(), dJdW2.ravel()))"
   ]
  },
  {
   "cell_type": "code",
   "execution_count": 9,
   "metadata": {},
   "outputs": [],
   "source": [
    "def computeNumericalGradient(N, X, y):\n",
    "    paramsInitial = N.getParams()\n",
    "    numgrad = np.zeros(paramsInitial.shape)\n",
    "    perturb = np.zeros(paramsInitial.shape)\n",
    "    e = 1e-4\n",
    "\n",
    "    for p in range(len(paramsInitial)):\n",
    "        #Set perturbation vector\n",
    "        perturb[p] = e\n",
    "        N.setParams(paramsInitial + perturb)\n",
    "        loss2 = N.costFunction(X, y)\n",
    "            \n",
    "        N.setParams(paramsInitial - perturb)\n",
    "        loss1 = N.costFunction(X, y)\n",
    "\n",
    "        #Compute Numerical Gradient\n",
    "        numgrad[p] = (loss2 - loss1) / (2*e)\n",
    "\n",
    "            #Return the value we changed to zero:\n",
    "        perturb[p] = 0\n",
    "            \n",
    "    #Return Params to original value:\n",
    "    N.setParams(paramsInitial)\n",
    "\n",
    "    return numgrad "
   ]
  },
  {
   "cell_type": "code",
   "execution_count": 10,
   "metadata": {},
   "outputs": [],
   "source": [
    "NN = Neural_Network(Lambda=0.0001)"
   ]
  },
  {
   "cell_type": "code",
   "execution_count": 11,
   "metadata": {},
   "outputs": [],
   "source": [
    "#Make sure our gradients our correct after making changes:\n",
    "numgrad = computeNumericalGradient(NN, X, y)\n",
    "grad = NN.computeGradients(X,y)"
   ]
  },
  {
   "cell_type": "code",
   "execution_count": 12,
   "metadata": {},
   "outputs": [
    {
     "data": {
      "text/plain": [
       "5.640358167747245e-10"
      ]
     },
     "execution_count": 12,
     "metadata": {},
     "output_type": "execute_result"
    }
   ],
   "source": [
    "#Should be less than 1e-8:\n",
    "np.linalg.norm(grad-numgrad)/np.linalg.norm(grad+numgrad)"
   ]
  },
  {
   "cell_type": "code",
   "execution_count": 13,
   "metadata": {},
   "outputs": [],
   "source": [
    "T = trainer(NN)"
   ]
  },
  {
   "cell_type": "code",
   "execution_count": 14,
   "metadata": {},
   "outputs": [
    {
     "name": "stdout",
     "output_type": "stream",
     "text": [
      "Warning: Maximum number of iterations has been exceeded.\n",
      "         Current function value: 0.014375\n",
      "         Iterations: 100\n",
      "         Function evaluations: 102\n",
      "         Gradient evaluations: 102\n"
     ]
    }
   ],
   "source": [
    "T.train(X,y,testX,testY)"
   ]
  },
  {
   "cell_type": "code",
   "execution_count": 15,
   "metadata": {},
   "outputs": [
    {
     "data": {
      "image/png": "[encoded data removed]",
      "text/plain": [
       "<Figure size 432x288 with 1 Axes>"
      ]
     },
     "metadata": {
      "needs_background": "light"
     },
     "output_type": "display_data"
    }
   ],
   "source": [
    "plot.plot(T.J)\n",
    "plot.plot(T.testJ)\n",
    "plot.grid(1)\n",
    "plot.xlabel('Iterations')\n",
    "plot.ylabel('Cost')\n",
    "plot.legend(['Training', 'Testing'])\n",
    "plot.show()"
   ]
  },
  {
   "cell_type": "code",
   "execution_count": 16,
   "metadata": {},
   "outputs": [
    {
     "data": {
      "text/plain": [
       "[array([0.0221854]),\n",
       " array([0.02135325]),\n",
       " array([0.0213485]),\n",
       " array([0.02133956]),\n",
       " array([0.02132252]),\n",
       " array([0.02129003]),\n",
       " array([0.02122859]),\n",
       " array([0.02111441]),\n",
       " array([0.02090905]),\n",
       " array([0.02056344]),\n",
       " array([0.02006624]),\n",
       " array([0.01952953]),\n",
       " array([0.01862604]),\n",
       " array([0.01716482]),\n",
       " array([0.01532237]),\n",
       " array([0.01499817]),\n",
       " array([0.01499526]),\n",
       " array([0.01499425]),\n",
       " array([0.01499236]),\n",
       " array([0.01498874]),\n",
       " array([0.01498185]),\n",
       " array([0.01496893]),\n",
       " array([0.01494535]),\n",
       " array([0.01490461]),\n",
       " array([0.01484193]),\n",
       " array([0.01478026]),\n",
       " array([0.0147244]),\n",
       " array([0.01464853]),\n",
       " array([0.01459563]),\n",
       " array([0.01458329]),\n",
       " array([0.01458263]),\n",
       " array([0.01458218]),\n",
       " array([0.01458143]),\n",
       " array([0.0145801]),\n",
       " array([0.01457768]),\n",
       " array([0.01457328]),\n",
       " array([0.01456538]),\n",
       " array([0.01455183]),\n",
       " array([0.01453085]),\n",
       " array([0.01450926]),\n",
       " array([0.01449533]),\n",
       " array([0.01448741]),\n",
       " array([0.01448615]),\n",
       " array([0.01448606]),\n",
       " array([0.01448602]),\n",
       " array([0.01448596]),\n",
       " array([0.01448583]),\n",
       " array([0.01448559]),\n",
       " array([0.01448515]),\n",
       " array([0.01448434]),\n",
       " array([0.01448289]),\n",
       " array([0.01448042]),\n",
       " array([0.01447646]),\n",
       " array([0.01447028]),\n",
       " array([0.01446054]),\n",
       " array([0.01444542]),\n",
       " array([0.01442402]),\n",
       " array([0.01440778]),\n",
       " array([0.0144058]),\n",
       " array([0.0144057]),\n",
       " array([0.01440565]),\n",
       " array([0.01440561]),\n",
       " array([0.01440558]),\n",
       " array([0.01440552]),\n",
       " array([0.01440542]),\n",
       " array([0.01440523]),\n",
       " array([0.01440488]),\n",
       " array([0.01440424]),\n",
       " array([0.0144031]),\n",
       " array([0.01440112]),\n",
       " array([0.01439805]),\n",
       " array([0.01439485]),\n",
       " array([0.01439246]),\n",
       " array([0.01438979]),\n",
       " array([0.01438805]),\n",
       " array([0.01438685]),\n",
       " array([0.01438676]),\n",
       " array([0.01438675]),\n",
       " array([0.01438675]),\n",
       " array([0.01438674]),\n",
       " array([0.01438672]),\n",
       " array([0.01438669]),\n",
       " array([0.01438663]),\n",
       " array([0.01438652]),\n",
       " array([0.01438633]),\n",
       " array([0.01438599]),\n",
       " array([0.0143854]),\n",
       " array([0.01438446]),\n",
       " array([0.014383]),\n",
       " array([0.01438084]),\n",
       " array([0.01437786]),\n",
       " array([0.01437567]),\n",
       " array([0.01437517]),\n",
       " array([0.01437513]),\n",
       " array([0.01437513]),\n",
       " array([0.01437512]),\n",
       " array([0.01437511]),\n",
       " array([0.01437509]),\n",
       " array([0.01437506]),\n",
       " array([0.014375])]"
      ]
     },
     "execution_count": 16,
     "metadata": {},
     "output_type": "execute_result"
    }
   ],
   "source": [
    "T.J"
   ]
  },
  {
   "cell_type": "code",
   "execution_count": 17,
   "metadata": {},
   "outputs": [
    {
     "data": {
      "text/plain": [
       "[array([0.00962816]),\n",
       " array([0.01155625]),\n",
       " array([0.01147861]),\n",
       " array([0.01140051]),\n",
       " array([0.01130438]),\n",
       " array([0.01117245]),\n",
       " array([0.01098138]),\n",
       " array([0.01070153]),\n",
       " array([0.01030928]),\n",
       " array([0.00985146]),\n",
       " array([0.00969343]),\n",
       " array([0.01016522]),\n",
       " array([0.01108098]),\n",
       " array([0.01228305]),\n",
       " array([0.01301177]),\n",
       " array([0.01237936]),\n",
       " array([0.01241208]),\n",
       " array([0.01242601]),\n",
       " array([0.01243946]),\n",
       " array([0.01245492]),\n",
       " array([0.01247434]),\n",
       " array([0.01249951]),\n",
       " array([0.01253149]),\n",
       " array([0.01256812]),\n",
       " array([0.0125957]),\n",
       " array([0.01256575]),\n",
       " array([0.01246965]),\n",
       " array([0.01226174]),\n",
       " array([0.01205002]),\n",
       " array([0.01191543]),\n",
       " array([0.01190031]),\n",
       " array([0.01189473]),\n",
       " array([0.01189425]),\n",
       " array([0.01189216]),\n",
       " array([0.01189007]),\n",
       " array([0.01188374]),\n",
       " array([0.01187154]),\n",
       " array([0.01184548]),\n",
       " array([0.01179336]),\n",
       " array([0.01171579]),\n",
       " array([0.01166514]),\n",
       " array([0.0116538]),\n",
       " array([0.01166542]),\n",
       " array([0.0116672]),\n",
       " array([0.01166962]),\n",
       " array([0.01167143]),\n",
       " array([0.01167406]),\n",
       " array([0.0116775]),\n",
       " array([0.01168271]),\n",
       " array([0.01169069]),\n",
       " array([0.01170334]),\n",
       " array([0.01172322]),\n",
       " array([0.01175306]),\n",
       " array([0.01179183]),\n",
       " array([0.01183102]),\n",
       " array([0.0118593]),\n",
       " array([0.01185518]),\n",
       " array([0.01181602]),\n",
       " array([0.01183488]),\n",
       " array([0.01180941]),\n",
       " array([0.0118192]),\n",
       " array([0.01182829]),\n",
       " array([0.01183094]),\n",
       " array([0.01183272]),\n",
       " array([0.01183315]),\n",
       " array([0.01183344]),\n",
       " array([0.01183331]),\n",
       " array([0.01183269]),\n",
       " array([0.011831]),\n",
       " array([0.01182711]),\n",
       " array([0.01181758]),\n",
       " array([0.01179487]),\n",
       " array([0.01177125]),\n",
       " array([0.01172095]),\n",
       " array([0.01171755]),\n",
       " array([0.01173146]),\n",
       " array([0.01174362]),\n",
       " array([0.01174526]),\n",
       " array([0.0117468]),\n",
       " array([0.01174846]),\n",
       " array([0.0117502]),\n",
       " array([0.01175225]),\n",
       " array([0.0117549]),\n",
       " array([0.01175855]),\n",
       " array([0.01176374]),\n",
       " array([0.01177123]),\n",
       " array([0.01178183]),\n",
       " array([0.01179583]),\n",
       " array([0.01181101]),\n",
       " array([0.01181923]),\n",
       " array([0.01180744]),\n",
       " array([0.01176902]),\n",
       " array([0.01174711]),\n",
       " array([0.01174395]),\n",
       " array([0.01174404]),\n",
       " array([0.01174447]),\n",
       " array([0.01174504]),\n",
       " array([0.01174584]),\n",
       " array([0.01174695]),\n",
       " array([0.01174854])]"
      ]
     },
     "execution_count": 17,
     "metadata": {},
     "output_type": "execute_result"
    }
   ],
   "source": [
    "T.testJ"
   ]
  },
  {
   "cell_type": "code",
   "execution_count": 18,
   "metadata": {},
   "outputs": [
    {
     "data": {
      "text/plain": [
       "0.0036174031020168736"
      ]
     },
     "execution_count": 18,
     "metadata": {},
     "output_type": "execute_result"
    }
   ],
   "source": [
    "from sklearn.metrics import mean_absolute_error\n",
    "mean_absolute_error(T.J, T.testJ)"
   ]
  },
  {
   "cell_type": "code",
   "execution_count": 19,
   "metadata": {},
   "outputs": [],
   "source": [
    "yHat=NN.forward(X)"
   ]
  },
  {
   "cell_type": "code",
   "execution_count": 20,
   "metadata": {},
   "outputs": [
    {
     "data": {
      "text/plain": [
       "array([[0.36050439],\n",
       "       [0.34045282],\n",
       "       [0.33655536],\n",
       "       [0.35820363],\n",
       "       [0.35507076],\n",
       "       [0.37194323],\n",
       "       [0.40385361],\n",
       "       [0.60433449],\n",
       "       [0.48873161],\n",
       "       [0.43044046],\n",
       "       [0.40973987],\n",
       "       [0.47169795],\n",
       "       [0.40842539],\n",
       "       [0.32212774],\n",
       "       [0.40333073],\n",
       "       [0.37488417],\n",
       "       [0.33872645],\n",
       "       [0.32396416],\n",
       "       [0.30153063],\n",
       "       [0.37055632],\n",
       "       [0.32848354],\n",
       "       [0.35854712],\n",
       "       [0.41440044],\n",
       "       [0.36014109],\n",
       "       [0.39614752],\n",
       "       [0.39935899],\n",
       "       [0.4409985 ],\n",
       "       [0.37916022],\n",
       "       [0.40282901],\n",
       "       [0.33937129],\n",
       "       [0.47817949],\n",
       "       [0.44462301],\n",
       "       [0.47118429],\n",
       "       [0.49867584],\n",
       "       [0.48560065],\n",
       "       [0.46275304],\n",
       "       [0.54143685],\n",
       "       [0.53542778],\n",
       "       [0.55776032],\n",
       "       [0.6303467 ],\n",
       "       [0.6366282 ],\n",
       "       [0.55517179],\n",
       "       [0.73812195],\n",
       "       [0.74700437],\n",
       "       [0.72421418],\n",
       "       [0.72836209],\n",
       "       [0.67648165],\n",
       "       [0.61881118],\n",
       "       [0.6177697 ],\n",
       "       [0.56129529],\n",
       "       [0.55865285],\n",
       "       [0.62700499],\n",
       "       [0.59331469],\n",
       "       [0.49807462],\n",
       "       [0.64542371],\n",
       "       [0.6202194 ],\n",
       "       [0.60555254],\n",
       "       [0.60277367],\n",
       "       [0.59592949],\n",
       "       [0.52489596],\n",
       "       [0.5344143 ]])"
      ]
     },
     "execution_count": 20,
     "metadata": {},
     "output_type": "execute_result"
    }
   ],
   "source": [
    "yHat"
   ]
  },
  {
   "cell_type": "code",
   "execution_count": 21,
   "metadata": {},
   "outputs": [
    {
     "data": {
      "text/plain": [
       "array([[0.31155855],\n",
       "       [0.42299539],\n",
       "       [0.42478065],\n",
       "       [0.32205711],\n",
       "       [0.46046559],\n",
       "       [0.16668864],\n",
       "       [0.40174469],\n",
       "       [0.31647817],\n",
       "       [0.27086271],\n",
       "       [0.31251205],\n",
       "       [0.36909266],\n",
       "       [0.20575138],\n",
       "       [0.17619313],\n",
       "       [0.29041944],\n",
       "       [0.24090886],\n",
       "       [0.27408835],\n",
       "       [0.37090835],\n",
       "       [0.05869047],\n",
       "       [0.40032459],\n",
       "       [0.28999341],\n",
       "       [0.30771415],\n",
       "       [0.42915251],\n",
       "       [0.44062484],\n",
       "       [0.35804636],\n",
       "       [0.2957245 ],\n",
       "       [0.4914135 ],\n",
       "       [0.35624081],\n",
       "       [0.54105594],\n",
       "       [0.15752904],\n",
       "       [0.55294416],\n",
       "       [0.51433788],\n",
       "       [0.44121317],\n",
       "       [0.58940001],\n",
       "       [0.67707055],\n",
       "       [0.67615763],\n",
       "       [0.69694172],\n",
       "       [0.58293858],\n",
       "       [0.61114774],\n",
       "       [0.7834559 ],\n",
       "       [0.93566973],\n",
       "       [0.28699092],\n",
       "       [1.        ],\n",
       "       [0.84997718],\n",
       "       [0.62600801],\n",
       "       [0.93614647],\n",
       "       [0.85846731],\n",
       "       [0.70258153],\n",
       "       [0.6646853 ],\n",
       "       [0.38417609],\n",
       "       [0.50844449],\n",
       "       [0.70605062],\n",
       "       [0.62566313],\n",
       "       [0.31006745],\n",
       "       [0.71815185],\n",
       "       [0.58129533],\n",
       "       [0.59084039],\n",
       "       [0.64112187],\n",
       "       [0.70009636],\n",
       "       [0.61497185],\n",
       "       [0.591378  ],\n",
       "       [0.32      ]])"
      ]
     },
     "execution_count": 21,
     "metadata": {},
     "output_type": "execute_result"
    }
   ],
   "source": [
    "y"
   ]
  },
  {
   "cell_type": "code",
   "execution_count": 22,
   "metadata": {},
   "outputs": [
    {
     "data": {
      "text/plain": [
       "0.026346654149771262"
      ]
     },
     "execution_count": 22,
     "metadata": {},
     "output_type": "execute_result"
    }
   ],
   "source": [
    "from sklearn.metrics import mean_squared_error \n",
    "mean_squared_error(y,yHat) "
   ]
  },
  {
   "cell_type": "code",
   "execution_count": 23,
   "metadata": {},
   "outputs": [
    {
     "data": {
      "image/png": "[encoded data removed]",
      "text/plain": [
       "<Figure size 432x288 with 1 Axes>"
      ]
     },
     "metadata": {
      "needs_background": "light"
     },
     "output_type": "display_data"
    }
   ],
   "source": [
    "#Plot cost during training:\n",
    "plot.plot(y)\n",
    "plot.plot(yHat)\n",
    "plot.grid(1)\n",
    "plot.legend(['y', 'yHat'])\n",
    "plot.show()"
   ]
  },
  {
   "cell_type": "code",
   "execution_count": 24,
   "metadata": {},
   "outputs": [],
   "source": [
    "prediksi=NN.forward(dataprediksi)"
   ]
  },
  {
   "cell_type": "code",
   "execution_count": 25,
   "metadata": {},
   "outputs": [
    {
     "data": {
      "text/plain": [
       "array([[0.68059142],\n",
       "       [0.76964196],\n",
       "       [0.66733986],\n",
       "       [0.44512897]])"
      ]
     },
     "execution_count": 25,
     "metadata": {},
     "output_type": "execute_result"
    }
   ],
   "source": [
    "prediksi"
   ]
  },
  {
   "cell_type": "code",
   "execution_count": 26,
   "metadata": {},
   "outputs": [],
   "source": [
    "from sklearn.metrics import mean_squared_error "
   ]
  },
  {
   "cell_type": "code",
   "execution_count": 27,
   "metadata": {},
   "outputs": [
    {
     "data": {
      "text/plain": [
       "0.16182183500240666"
      ]
     },
     "execution_count": 27,
     "metadata": {},
     "output_type": "execute_result"
    }
   ],
   "source": [
    "Y_true= ([\t0.50\t]\t,\n",
    "[\t0.415539889\t]\t,\n",
    "[\t0\t]\t,\n",
    "[\t0.235502358\t]\t,\n",
    "\n",
    ")\n",
    "\n",
    "\n",
    "Y_pred=prediksi\n",
    "mean_squared_error(Y_true,Y_pred) "
   ]
  },
  {
   "cell_type": "code",
   "execution_count": 28,
   "metadata": {},
   "outputs": [
    {
     "data": {
      "text/plain": [
       "array([[0.38732394, 0.79538041, 0.32      ],\n",
       "       [0.37323944, 1.        , 0.5       ],\n",
       "       [0.36619718, 0.70768171, 0.41553989],\n",
       "       [0.44366197, 0.49169532, 0.        ]])"
      ]
     },
     "execution_count": 28,
     "metadata": {},
     "output_type": "execute_result"
    }
   ],
   "source": [
    "dataprediksi"
   ]
  },
  {
   "cell_type": "code",
   "execution_count": 33,
   "metadata": {},
   "outputs": [],
   "source": [
    "z=np.array([\t0.56136209\t,\t0.51319034])"
   ]
  },
  {
   "cell_type": "code",
   "execution_count": 34,
   "metadata": {},
   "outputs": [],
   "source": [
    "y=np.array([\t0.235502358\t])"
   ]
  },
  {
   "cell_type": "code",
   "execution_count": 35,
   "metadata": {},
   "outputs": [],
   "source": [
    "a=np.concatenate((z,y))"
   ]
  },
  {
   "cell_type": "code",
   "execution_count": 36,
   "metadata": {},
   "outputs": [
    {
     "data": {
      "text/plain": [
       "array([0.51164313])"
      ]
     },
     "execution_count": 36,
     "metadata": {},
     "output_type": "execute_result"
    }
   ],
   "source": [
    "#prediksi 1\n",
    "prediksi=NN.forward(a)\n",
    "prediksi"
   ]
  },
  {
   "cell_type": "code",
   "execution_count": 37,
   "metadata": {},
   "outputs": [
    {
     "data": {
      "text/plain": [
       "array([0.5692567])"
      ]
     },
     "execution_count": 37,
     "metadata": {},
     "output_type": "execute_result"
    }
   ],
   "source": [
    "#prediksi 2\n",
    "c=prediksi\n",
    "z1=np.array([\t0.59014524\t,\t0.48673204])\n",
    "b=y[1:]\n",
    "d=np.concatenate((z1,b,c))\n",
    "prediksi=NN.forward(d)\n",
    "prediksi"
   ]
  },
  {
   "cell_type": "code",
   "execution_count": 38,
   "metadata": {},
   "outputs": [
    {
     "data": {
      "text/plain": [
       "array([0.56192217])"
      ]
     },
     "execution_count": 38,
     "metadata": {},
     "output_type": "execute_result"
    }
   ],
   "source": [
    "#prediksi 3\n",
    "c=prediksi\n",
    "z2=np.array([\t0.52737156\t,\t0.43012934])\n",
    "b=y[1:]\n",
    "d=np.concatenate((z2,b,c))\n",
    "prediksi=NN.forward(d)\n",
    "prediksi"
   ]
  },
  {
   "cell_type": "code",
   "execution_count": 39,
   "metadata": {},
   "outputs": [
    {
     "data": {
      "text/plain": [
       "array([0.55855381])"
      ]
     },
     "execution_count": 39,
     "metadata": {},
     "output_type": "execute_result"
    }
   ],
   "source": [
    "#prediksi 4\n",
    "c=prediksi\n",
    "z3=np.array([\t0.460205\t,\t0.41357631])\n",
    "b=y[1:]\n",
    "d=np.concatenate((z3,b,c))\n",
    "prediksi=NN.forward(d)\n",
    "prediksi"
   ]
  },
  {
   "cell_type": "code",
   "execution_count": 40,
   "metadata": {},
   "outputs": [
    {
     "data": {
      "text/plain": [
       "array([0.56448108])"
      ]
     },
     "execution_count": 40,
     "metadata": {},
     "output_type": "execute_result"
    }
   ],
   "source": [
    "#prediksi 5\n",
    "c=prediksi\n",
    "z4=np.array([\t0.40834019\t,\t0.41626853])\n",
    "b=y[1:]\n",
    "d=np.concatenate((z4,b,c))\n",
    "prediksi=NN.forward(d)\n",
    "prediksi"
   ]
  },
  {
   "cell_type": "code",
   "execution_count": 41,
   "metadata": {},
   "outputs": [
    {
     "data": {
      "text/plain": [
       "array([0.56240362])"
      ]
     },
     "execution_count": 41,
     "metadata": {},
     "output_type": "execute_result"
    }
   ],
   "source": [
    "#prediksi 6\n",
    "c=prediksi\n",
    "z5=np.array([\t0.42786469\t,\t0.41314695])\n",
    "b=y[1:]\n",
    "d=np.concatenate((z5,b,c))\n",
    "prediksi=NN.forward(d)\n",
    "prediksi"
   ]
  },
  {
   "cell_type": "code",
   "execution_count": null,
   "metadata": {},
   "outputs": [],
   "source": []
  }
 ],
 "metadata": {
  "kernelspec": {
   "display_name": "Python 3",
   "language": "python",
   "name": "python3"
  },
  "language_info": {
   "codemirror_mode": {
    "name": "ipython",
    "version": 3
   },
   "file_extension": ".py",
   "mimetype": "text/x-python",
   "name": "python",
   "nbconvert_exporter": "python",
   "pygments_lexer": "ipython3",
   "version": "3.7.3"
  }
 },
 "nbformat": 4,
 "nbformat_minor": 2
}
