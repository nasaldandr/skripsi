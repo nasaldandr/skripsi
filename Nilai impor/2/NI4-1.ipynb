{
 "cells": [
  {
   "cell_type": "code",
   "execution_count": 1,
   "metadata": {},
   "outputs": [],
   "source": [
    "import numpy as np"
   ]
  },
  {
   "cell_type": "code",
   "execution_count": 2,
   "metadata": {},
   "outputs": [],
   "source": [
    "#UNTUK NILAI IMPOR\n",
    "class Neural_Network(object):\n",
    "    def __init__(self):\n",
    "        #parameters\n",
    "        self.inputLayerSize = 4\n",
    "        self.outputLayerSize = 1\n",
    "        self.hiddenLayerSize = 1\n",
    "\n",
    "        #weights\n",
    "        self.W1 = np.random.randn(self.inputLayerSize,\\\n",
    "                                 self.hiddenLayerSize)  \n",
    "        self.W2 = np.random.randn(self.hiddenLayerSize,\\\n",
    "                                 self.outputLayerSize)  \n",
    "    \n",
    "    def printw(self):\n",
    "        return self.W1\n",
    "        \n",
    "    def weight(self, W1, W2):\n",
    "        #Make an internal variable for the weight:\n",
    "        self.W1 = W1\n",
    "        self.W2 = W2\n",
    "        \n",
    "    def forward(self, X):\n",
    "        #forward propagation through our network\n",
    "        self.z2 = np.dot(X,self.W1)  \n",
    "        self.a2 = self.sigmoid(self.z2)  # activation function\n",
    "        self.z3 = np.dot(self.a2, self.W2) \n",
    "        yHat = self.sigmoid(self.z3)  # final activation function\n",
    "        return yHat\n",
    "\n",
    "    def sigmoid(self, z):\n",
    "        # activation function\n",
    "        return 1 / (1 + np.exp(-z))\n",
    "    \n",
    "    def sigmoidPrime(self,z): \n",
    "        #derivative of sigmoid     \n",
    "        return np.exp(-z)/((1+np.exp(-z))**2)\n",
    "    \n",
    "    def costFunction(self,X,y):\n",
    "        self.yHat = self.forward(X)\n",
    "        J=0.5*sum((y-self.yHat)**2)\n",
    "        return J\n",
    "    \n",
    "    def costFunctionPrime(self,X,y):\n",
    "        self.yHat=self.forward(X)\n",
    "        \n",
    "        delta3=np.multiply(-(y-self.yHat),self.sigmoidPrime(self.z3))\n",
    "        dJdW2=np.dot(self.a2.T,delta3)\n",
    "        \n",
    "        delta2=np.dot(delta3,self.W2.T)*self.sigmoidPrime(self.z2)\n",
    "        dJdW1=np.dot(X.T,delta2)\n",
    "        return dJdW1,dJdW2\n",
    "    \n",
    "    def predict(self):\n",
    "        prediksi = self.forward(dataprediksi)\n",
    "        return prediksi\n",
    "    \n",
    "    def getParams(self):\n",
    "        params=np.concatenate((self.W1.ravel(),self.W2.ravel()))\n",
    "        return params\n",
    "    \n",
    "    def setParams(self,params):\n",
    "        W1_start=0\n",
    "        W1_end=self.hiddenLayerSize*self.inputLayerSize\n",
    "        self.W1=np.reshape(params[W1_start:W1_end],\\\n",
    "                          (self.inputLayerSize,self.hiddenLayerSize))\n",
    "        W2_end=W1_end+self.hiddenLayerSize*self.outputLayerSize\n",
    "        self.W2=np.reshape(params[W1_end:W2_end],\\\n",
    "                          (self.hiddenLayerSize,self.outputLayerSize))\n",
    "        \n",
    "    def computeGradients(self, X, y):\n",
    "        dJdW1, dJdW2 = self.costFunctionPrime(X, y)\n",
    "        return np.concatenate((dJdW1.ravel(), dJdW2.ravel()))"
   ]
  },
  {
   "cell_type": "code",
   "execution_count": 3,
   "metadata": {},
   "outputs": [],
   "source": [
    "NN = Neural_Network()"
   ]
  },
  {
   "cell_type": "code",
   "execution_count": 4,
   "metadata": {},
   "outputs": [
    {
     "data": {
      "text/plain": [
       "array([[ 0.35186795],\n",
       "       [-1.00061473],\n",
       "       [ 0.12290757],\n",
       "       [ 1.94172936]])"
      ]
     },
     "execution_count": 4,
     "metadata": {},
     "output_type": "execute_result"
    }
   ],
   "source": [
    "NN.W1"
   ]
  },
  {
   "cell_type": "code",
   "execution_count": 5,
   "metadata": {},
   "outputs": [
    {
     "data": {
      "text/plain": [
       "array([[1.6056924]])"
      ]
     },
     "execution_count": 5,
     "metadata": {},
     "output_type": "execute_result"
    }
   ],
   "source": [
    "NN.W2"
   ]
  },
  {
   "cell_type": "code",
   "execution_count": 6,
   "metadata": {},
   "outputs": [],
   "source": [
    "#NILAI IMPOR\n",
    "X=np.array(([\t0.436619718\t,\t0.148319042\t,\t0.423360552\t,\t0.311558554\t]\t,\n",
    "[\t0.570422535\t,\t0.112113419\t,\t0.311558554\t,\t0.422995385\t]\t,\n",
    "[\t0.669014085\t,\t0.170734062\t,\t0.422995385\t,\t0.424780646\t]\t,\n",
    "[\t0.697183099\t,\t0.223256598\t,\t0.424780646\t,\t0.322057108\t]\t,\n",
    "[\t0.971830986\t,\t0.241974687\t,\t0.322057108\t,\t0.460465588\t]\t,\n",
    "[\t0.591549296\t,\t0.365733465\t,\t0.460465588\t,\t0.166688644\t]\t,\n",
    "[\t0.281690141\t,\t0.552558994\t,\t0.166688644\t,\t0.401744687\t]\t,\n",
    "[\t0.26056338\t,\t0.370023519\t,\t0.401744687\t,\t0.316478166\t]\t,\n",
    "[\t0.464788732\t,\t0.332531703\t,\t0.316478166\t,\t0.270862707\t]\t,\n",
    "[\t0.992957746\t,\t0.387887522\t,\t0.270862707\t,\t0.312512045\t]\t,\n",
    "[\t0.676056338\t,\t0.398363943\t,\t0.312512045\t,\t0.369092661\t]\t,\n",
    "[\t0.253521127\t,\t0.284826299\t,\t0.369092661\t,\t0.205751382\t]\t,\n",
    "[\t0.450704225\t,\t0.186735022\t,\t0.205751382\t,\t0.176193133\t]\t,\n",
    "[\t0\t,\t0.182694768\t,\t0.176193133\t,\t0.290419435\t]\t,\n",
    "[\t0.485915493\t,\t0.255617002\t,\t0.290419435\t,\t0.24090886\t]\t,\n",
    "[\t0.781690141\t,\t0.23597043\t,\t0.24090886\t,\t0.27408835\t]\t,\n",
    "[\t0.802816901\t,\t0.164134134\t,\t0.27408835\t,\t0.370908353\t]\t,\n",
    "[\t0.302816901\t,\t0.178176635\t,\t0.370908353\t,\t0.05869047\t]\t,\n",
    "[\t0.471830986\t,\t0.163956101\t,\t0.05869047\t,\t0.400324593\t]\t,\n",
    "[\t0.415492958\t,\t0.133241484\t,\t0.400324593\t,\t0.289993407\t]\t,\n",
    "[\t0.647887324\t,\t0.226399017\t,\t0.289993407\t,\t0.307714155\t]\t,\n",
    "[\t0.612676056\t,\t0.255013861\t,\t0.307714155\t,\t0.429152508\t]\t,\n",
    "[\t1\t,\t0.23708614\t,\t0.429152508\t,\t0.440624842\t]\t,\n",
    "[\t0.478873239\t,\t0.231651119\t,\t0.440624842\t,\t0.358046356\t]\t,\n",
    "[\t0.302816901\t,\t0.233067608\t,\t0.358046356\t,\t0.295724502\t]\t,\n",
    "[\t0.38028169\t,\t0.221173719\t,\t0.295724502\t,\t0.491413501\t]\t,\n",
    "[\t0.591549296\t,\t0.22633168\t,\t0.491413501\t,\t0.356240807\t]\t,\n",
    "[\t0.802816901\t,\t0.218698642\t,\t0.356240807\t,\t0.541055942\t]\t,\n",
    "[\t0.471830986\t,\t0.232032203\t,\t0.541055942\t,\t0.157529036\t]\t,\n",
    "[\t0.267605634\t,\t0.231947948\t,\t0.157529036\t,\t0.55294416\t]\t,\n",
    "[\t0.408450704\t,\t0.221547817\t,\t0.55294416\t,\t0.514337881\t]\t,\n",
    "[\t0.323943662\t,\t0.287958581\t,\t0.514337881\t,\t0.441213166\t]\t,\n",
    "[\t0.457746479\t,\t0.28837327\t,\t0.441213166\t,\t0.58940001\t]\t,\n",
    "[\t0.816901408\t,\t0.297145757\t,\t0.58940001\t,\t0.677070548\t]\t,\n",
    "[\t0.753521127\t,\t0.243669818\t,\t0.677070548\t,\t0.67615763\t]\t,\n",
    "[\t0.436619718\t,\t0.307437314\t,\t0.67615763\t,\t0.696941725\t]\t,\n",
    "[\t0.457746479\t,\t0.358597855\t,\t0.696941725\t,\t0.582938581\t]\t,\n",
    "[\t0.387323944\t,\t0.372181217\t,\t0.582938581\t,\t0.611147741\t]\t,\n",
    "[\t0.464788732\t,\t0.450259481\t,\t0.611147741\t,\t0.783455901\t]\t,\n",
    "[\t0.732394366\t,\t0.443095634\t,\t0.783455901\t,\t0.935669727\t]\t,\n",
    "[\t0.514084507\t,\t0.558155976\t,\t0.935669727\t,\t0.286990922\t]\t,\n",
    "[\t0.281690141\t,\t0.602359827\t,\t0.286990922\t,\t1\t]\t,\n",
    "[\t0.190140845\t,\t0.696291723\t,\t1\t,\t0.849977177\t]\t,\n",
    "[\t0.514084507\t,\t0.790604671\t,\t0.849977177\t,\t0.626008013\t]\t,\n",
    "[\t0.507042254\t,\t0.644022227\t,\t0.626008013\t,\t0.936146473\t]\t,\n",
    "[\t0.753521127\t,\t0.583228643\t,\t0.936146473\t,\t0.858467312\t]\t,\n",
    "[\t0.542253521\t,\t0.481715009\t,\t0.858467312\t,\t0.702581529\t]\t,\n",
    "[\t0.26056338\t,\t0.442812107\t,\t0.702581529\t,\t0.664685297\t]\t,\n",
    "[\t0.394366197\t,\t0.496270585\t,\t0.664685297\t,\t0.384176092\t]\t,\n",
    "[\t0.626760563\t,\t0.475463393\t,\t0.384176092\t,\t0.50844449\t]\t,\n",
    "[\t0.795774648\t,\t0.551559791\t,\t0.50844449\t,\t0.706050616\t]\t,\n",
    "[\t0.704225352\t,\t0.500994351\t,\t0.706050616\t,\t0.625663133\t]\t,\n",
    "[\t0.535211268\t,\t0.445458587\t,\t0.625663133\t,\t0.310067454\t]\t,\n",
    "[\t0.401408451\t,\t0.505711667\t,\t0.310067454\t,\t0.718151849\t]\t,\n",
    "[\t0.126760563\t,\t0.465889036\t,\t0.718151849\t,\t0.581295329\t]\t,\n",
    "[\t0.330985915\t,\t0.46785659\t,\t0.581295329\t,\t0.590840392\t]\t,\n",
    "[\t0.415492958\t,\t0.453001423\t,\t0.590840392\t,\t0.641121875\t]\t,\n",
    "[\t0.556338028\t,\t0.437411724\t,\t0.641121875\t,\t0.700096364\t]\t,\n",
    "[\t0.591549296\t,\t0.350673696\t,\t0.700096364\t,\t0.614971852\t]\t,\n",
    "[\t0.514084507\t,\t0.364031312\t,\t0.614971852\t,\t0.591377999\t]\t,\n",
    "\n",
    ")           \n",
    ",dtype=float)\n",
    "y=np.array(([\t0.422995385\t]\t,\n",
    "[\t0.424780646\t]\t,\n",
    "[\t0.322057108\t]\t,\n",
    "[\t0.460465588\t]\t,\n",
    "[\t0.166688644\t]\t,\n",
    "[\t0.401744687\t]\t,\n",
    "[\t0.316478166\t]\t,\n",
    "[\t0.270862707\t]\t,\n",
    "[\t0.312512045\t]\t,\n",
    "[\t0.369092661\t]\t,\n",
    "[\t0.205751382\t]\t,\n",
    "[\t0.176193133\t]\t,\n",
    "[\t0.290419435\t]\t,\n",
    "[\t0.24090886\t]\t,\n",
    "[\t0.27408835\t]\t,\n",
    "[\t0.370908353\t]\t,\n",
    "[\t0.05869047\t]\t,\n",
    "[\t0.400324593\t]\t,\n",
    "[\t0.289993407\t]\t,\n",
    "[\t0.307714155\t]\t,\n",
    "[\t0.429152508\t]\t,\n",
    "[\t0.440624842\t]\t,\n",
    "[\t0.358046356\t]\t,\n",
    "[\t0.295724502\t]\t,\n",
    "[\t0.491413501\t]\t,\n",
    "[\t0.356240807\t]\t,\n",
    "[\t0.541055942\t]\t,\n",
    "[\t0.157529036\t]\t,\n",
    "[\t0.55294416\t]\t,\n",
    "[\t0.514337881\t]\t,\n",
    "[\t0.441213166\t]\t,\n",
    "[\t0.58940001\t]\t,\n",
    "[\t0.677070548\t]\t,\n",
    "[\t0.67615763\t]\t,\n",
    "[\t0.696941725\t]\t,\n",
    "[\t0.582938581\t]\t,\n",
    "[\t0.611147741\t]\t,\n",
    "[\t0.783455901\t]\t,\n",
    "[\t0.935669727\t]\t,\n",
    "[\t0.286990922\t]\t,\n",
    "[\t1\t]\t,\n",
    "[\t0.849977177\t]\t,\n",
    "[\t0.626008013\t]\t,\n",
    "[\t0.936146473\t]\t,\n",
    "[\t0.858467312\t]\t,\n",
    "[\t0.702581529\t]\t,\n",
    "[\t0.664685297\t]\t,\n",
    "[\t0.384176092\t]\t,\n",
    "[\t0.50844449\t]\t,\n",
    "[\t0.706050616\t]\t,\n",
    "[\t0.625663133\t]\t,\n",
    "[\t0.310067454\t]\t,\n",
    "[\t0.718151849\t]\t,\n",
    "[\t0.581295329\t]\t,\n",
    "[\t0.590840392\t]\t,\n",
    "[\t0.641121875\t]\t,\n",
    "[\t0.700096364\t]\t,\n",
    "[\t0.614971852\t]\t,\n",
    "[\t0.591377999\t]\t,\n",
    "[\t0.32\t]\t,\n",
    "\n",
    ")\n",
    ",dtype=float)\n",
    "\n",
    "dataprediksi = np.array(([\t0.387323944\t,\t0.795380412\t,\t0.591377999\t,\t0.32\t]\t,\n",
    "[\t0.373239437\t,\t1\t,\t0.32\t,\t0.50\t]\t,\n",
    "[\t0.366197183\t,\t0.707681705\t,\t0.50\t,\t0.415539889\t]\t,\n",
    "[\t0.443661972\t,\t0.491695324\t,\t0.415539889\t,\t0\t]\t,\n",
    "\n",
    "), dtype=float)\n"
   ]
  },
  {
   "cell_type": "code",
   "execution_count": 7,
   "metadata": {},
   "outputs": [],
   "source": [
    "import matplotlib.pyplot as plot"
   ]
  },
  {
   "cell_type": "code",
   "execution_count": 8,
   "metadata": {},
   "outputs": [],
   "source": [
    "from scipy import optimize"
   ]
  },
  {
   "cell_type": "code",
   "execution_count": 9,
   "metadata": {},
   "outputs": [],
   "source": [
    "class trainer(object):\n",
    "    def __init__(self, N):\n",
    "        #Make Local reference to network:\n",
    "        self.N = N\n",
    "        \n",
    "    def callbackF(self, params):\n",
    "        self.N.setParams(params)\n",
    "        self.J.append(self.N.costFunction(self.X, self.y))   \n",
    "        \n",
    "    def costFunctionWrapper(self, params, X, y):\n",
    "        self.N.setParams(params)\n",
    "        cost = self.N.costFunction(X, y)\n",
    "        grad = self.N.computeGradients(X,y)\n",
    "        \n",
    "        return cost, grad\n",
    "        \n",
    "    def train(self, X, y):\n",
    "        #Make an internal variable for the callback function:\n",
    "        self.X = X\n",
    "        self.y = y\n",
    "\n",
    "        #Make empty list to store costs:\n",
    "        self.J = []\n",
    "        \n",
    "        params0 = self.N.getParams()\n",
    "\n",
    "        options = {'maxiter': 100, 'disp' : True}\n",
    "        _res = optimize.minimize(self.costFunctionWrapper, params0, jac=True, method='BFGS', \\\n",
    "                                 args=(X, y), options=options, callback=self.callbackF)\n",
    "\n",
    "        self.N.setParams(_res.x)\n",
    "        self.optimizationResults = _res"
   ]
  },
  {
   "cell_type": "code",
   "execution_count": 10,
   "metadata": {},
   "outputs": [],
   "source": [
    "NN=Neural_Network()"
   ]
  },
  {
   "cell_type": "code",
   "execution_count": 11,
   "metadata": {},
   "outputs": [],
   "source": [
    "T = trainer(NN)"
   ]
  },
  {
   "cell_type": "code",
   "execution_count": 12,
   "metadata": {},
   "outputs": [
    {
     "name": "stdout",
     "output_type": "stream",
     "text": [
      "Warning: Desired error not necessarily achieved due to precision loss.\n",
      "         Current function value: 1.241677\n",
      "         Iterations: 41\n",
      "         Function evaluations: 69\n",
      "         Gradient evaluations: 58\n"
     ]
    },
    {
     "name": "stderr",
     "output_type": "stream",
     "text": [
      "C:\\Users\\ASUS\\Anaconda3\\lib\\site-packages\\ipykernel_launcher.py:37: RuntimeWarning: overflow encountered in square\n",
      "C:\\Users\\ASUS\\Anaconda3\\lib\\site-packages\\ipykernel_launcher.py:37: RuntimeWarning: invalid value encountered in true_divide\n",
      "C:\\Users\\ASUS\\Anaconda3\\lib\\site-packages\\ipykernel_launcher.py:37: RuntimeWarning: overflow encountered in square\n",
      "C:\\Users\\ASUS\\Anaconda3\\lib\\site-packages\\ipykernel_launcher.py:37: RuntimeWarning: invalid value encountered in true_divide\n"
     ]
    }
   ],
   "source": [
    "#Train network with new data:\n",
    "T = trainer(NN)\n",
    "T.train(X,y)"
   ]
  },
  {
   "cell_type": "code",
   "execution_count": 13,
   "metadata": {},
   "outputs": [
    {
     "data": {
      "image/png": "[encoded data removed]",
      "text/plain": [
       "<Figure size 432x288 with 1 Axes>"
      ]
     },
     "metadata": {
      "needs_background": "light"
     },
     "output_type": "display_data"
    }
   ],
   "source": [
    "#Plot cost during training:\n",
    "plot.plot(T.J)\n",
    "plot.grid(1)\n",
    "plot.xlabel('Iterations')\n",
    "plot.ylabel('Cost')\n",
    "plot.show()"
   ]
  },
  {
   "cell_type": "code",
   "execution_count": 14,
   "metadata": {},
   "outputs": [],
   "source": [
    "#Training Data:\n",
    "trainX = np.array(([\t0.436619718\t,\t0.148319042\t,\t0.423360552\t,\t0.311558554\t]\t,\n",
    "[\t0.570422535\t,\t0.112113419\t,\t0.311558554\t,\t0.422995385\t]\t,\n",
    "[\t0.669014085\t,\t0.170734062\t,\t0.422995385\t,\t0.424780646\t]\t,\n",
    "[\t0.697183099\t,\t0.223256598\t,\t0.424780646\t,\t0.322057108\t]\t,\n",
    "[\t0.971830986\t,\t0.241974687\t,\t0.322057108\t,\t0.460465588\t]\t,\n",
    "[\t0.591549296\t,\t0.365733465\t,\t0.460465588\t,\t0.166688644\t]\t,\n",
    "[\t0.281690141\t,\t0.552558994\t,\t0.166688644\t,\t0.401744687\t]\t,\n",
    "[\t0.26056338\t,\t0.370023519\t,\t0.401744687\t,\t0.316478166\t]\t,\n",
    "[\t0.464788732\t,\t0.332531703\t,\t0.316478166\t,\t0.270862707\t]\t,\n",
    "[\t0.992957746\t,\t0.387887522\t,\t0.270862707\t,\t0.312512045\t]\t,\n",
    "[\t0.676056338\t,\t0.398363943\t,\t0.312512045\t,\t0.369092661\t]\t,\n",
    "[\t0.253521127\t,\t0.284826299\t,\t0.369092661\t,\t0.205751382\t]\t,\n",
    "[\t0.450704225\t,\t0.186735022\t,\t0.205751382\t,\t0.176193133\t]\t,\n",
    "[\t0\t,\t0.182694768\t,\t0.176193133\t,\t0.290419435\t]\t,\n",
    "[\t0.485915493\t,\t0.255617002\t,\t0.290419435\t,\t0.24090886\t]\t,\n",
    "[\t0.781690141\t,\t0.23597043\t,\t0.24090886\t,\t0.27408835\t]\t,\n",
    "[\t0.802816901\t,\t0.164134134\t,\t0.27408835\t,\t0.370908353\t]\t,\n",
    "[\t0.302816901\t,\t0.178176635\t,\t0.370908353\t,\t0.05869047\t]\t,\n",
    "[\t0.471830986\t,\t0.163956101\t,\t0.05869047\t,\t0.400324593\t]\t,\n",
    "[\t0.415492958\t,\t0.133241484\t,\t0.400324593\t,\t0.289993407\t]\t,\n",
    "[\t0.647887324\t,\t0.226399017\t,\t0.289993407\t,\t0.307714155\t]\t,\n",
    "[\t0.612676056\t,\t0.255013861\t,\t0.307714155\t,\t0.429152508\t]\t,\n",
    "[\t1\t,\t0.23708614\t,\t0.429152508\t,\t0.440624842\t]\t,\n",
    "[\t0.478873239\t,\t0.231651119\t,\t0.440624842\t,\t0.358046356\t]\t,\n",
    "[\t0.302816901\t,\t0.233067608\t,\t0.358046356\t,\t0.295724502\t]\t,\n",
    "[\t0.38028169\t,\t0.221173719\t,\t0.295724502\t,\t0.491413501\t]\t,\n",
    "[\t0.591549296\t,\t0.22633168\t,\t0.491413501\t,\t0.356240807\t]\t,\n",
    "[\t0.802816901\t,\t0.218698642\t,\t0.356240807\t,\t0.541055942\t]\t,\n",
    "[\t0.471830986\t,\t0.232032203\t,\t0.541055942\t,\t0.157529036\t]\t,\n",
    "[\t0.267605634\t,\t0.231947948\t,\t0.157529036\t,\t0.55294416\t]\t,\n",
    "[\t0.408450704\t,\t0.221547817\t,\t0.55294416\t,\t0.514337881\t]\t,\n",
    "[\t0.323943662\t,\t0.287958581\t,\t0.514337881\t,\t0.441213166\t]\t,\n",
    "[\t0.457746479\t,\t0.28837327\t,\t0.441213166\t,\t0.58940001\t]\t,\n",
    "[\t0.816901408\t,\t0.297145757\t,\t0.58940001\t,\t0.677070548\t]\t,\n",
    "[\t0.753521127\t,\t0.243669818\t,\t0.677070548\t,\t0.67615763\t]\t,\n",
    "[\t0.436619718\t,\t0.307437314\t,\t0.67615763\t,\t0.696941725\t]\t,\n",
    "[\t0.457746479\t,\t0.358597855\t,\t0.696941725\t,\t0.582938581\t]\t,\n",
    "[\t0.387323944\t,\t0.372181217\t,\t0.582938581\t,\t0.611147741\t]\t,\n",
    "[\t0.464788732\t,\t0.450259481\t,\t0.611147741\t,\t0.783455901\t]\t,\n",
    "[\t0.732394366\t,\t0.443095634\t,\t0.783455901\t,\t0.935669727\t]\t,\n",
    "[\t0.514084507\t,\t0.558155976\t,\t0.935669727\t,\t0.286990922\t]\t,\n",
    "[\t0.281690141\t,\t0.602359827\t,\t0.286990922\t,\t1\t]\t,\n",
    "[\t0.190140845\t,\t0.696291723\t,\t1\t,\t0.849977177\t]\t,\n",
    "[\t0.514084507\t,\t0.790604671\t,\t0.849977177\t,\t0.626008013\t]\t,\n",
    "[\t0.507042254\t,\t0.644022227\t,\t0.626008013\t,\t0.936146473\t]\t,\n",
    "[\t0.753521127\t,\t0.583228643\t,\t0.936146473\t,\t0.858467312\t]\t,\n",
    "[\t0.542253521\t,\t0.481715009\t,\t0.858467312\t,\t0.702581529\t]\t,\n",
    "\n",
    ")\n",
    ", dtype=float)\n",
    "trainY = np.array(([\t0.422995385\t]\t,\n",
    "[\t0.424780646\t]\t,\n",
    "[\t0.322057108\t]\t,\n",
    "[\t0.460465588\t]\t,\n",
    "[\t0.166688644\t]\t,\n",
    "[\t0.401744687\t]\t,\n",
    "[\t0.316478166\t]\t,\n",
    "[\t0.270862707\t]\t,\n",
    "[\t0.312512045\t]\t,\n",
    "[\t0.369092661\t]\t,\n",
    "[\t0.205751382\t]\t,\n",
    "[\t0.176193133\t]\t,\n",
    "[\t0.290419435\t]\t,\n",
    "[\t0.24090886\t]\t,\n",
    "[\t0.27408835\t]\t,\n",
    "[\t0.370908353\t]\t,\n",
    "[\t0.05869047\t]\t,\n",
    "[\t0.400324593\t]\t,\n",
    "[\t0.289993407\t]\t,\n",
    "[\t0.307714155\t]\t,\n",
    "[\t0.429152508\t]\t,\n",
    "[\t0.440624842\t]\t,\n",
    "[\t0.358046356\t]\t,\n",
    "[\t0.295724502\t]\t,\n",
    "[\t0.491413501\t]\t,\n",
    "[\t0.356240807\t]\t,\n",
    "[\t0.541055942\t]\t,\n",
    "[\t0.157529036\t]\t,\n",
    "[\t0.55294416\t]\t,\n",
    "[\t0.514337881\t]\t,\n",
    "[\t0.441213166\t]\t,\n",
    "[\t0.58940001\t]\t,\n",
    "[\t0.677070548\t]\t,\n",
    "[\t0.67615763\t]\t,\n",
    "[\t0.696941725\t]\t,\n",
    "[\t0.582938581\t]\t,\n",
    "[\t0.611147741\t]\t,\n",
    "[\t0.783455901\t]\t,\n",
    "[\t0.935669727\t]\t,\n",
    "[\t0.286990922\t]\t,\n",
    "[\t1\t]\t,\n",
    "[\t0.849977177\t]\t,\n",
    "[\t0.626008013\t]\t,\n",
    "[\t0.936146473\t]\t,\n",
    "[\t0.858467312\t]\t,\n",
    "[\t0.702581529\t]\t,\n",
    "[\t0.664685297\t]\t,\n",
    "\n",
    ")\n",
    ", dtype=float)\n",
    "\n",
    "#Testing Data:\n",
    "testX = np.array(([\t0.26056338\t,\t0.442812107\t,\t0.702581529\t,\t0.664685297\t]\t,\n",
    "[\t0.394366197\t,\t0.496270585\t,\t0.664685297\t,\t0.384176092\t]\t,\n",
    "[\t0.626760563\t,\t0.475463393\t,\t0.384176092\t,\t0.50844449\t]\t,\n",
    "[\t0.795774648\t,\t0.551559791\t,\t0.50844449\t,\t0.706050616\t]\t,\n",
    "[\t0.704225352\t,\t0.500994351\t,\t0.706050616\t,\t0.625663133\t]\t,\n",
    "[\t0.535211268\t,\t0.445458587\t,\t0.625663133\t,\t0.310067454\t]\t,\n",
    "[\t0.401408451\t,\t0.505711667\t,\t0.310067454\t,\t0.718151849\t]\t,\n",
    "[\t0.126760563\t,\t0.465889036\t,\t0.718151849\t,\t0.581295329\t]\t,\n",
    "[\t0.330985915\t,\t0.46785659\t,\t0.581295329\t,\t0.590840392\t]\t,\n",
    "[\t0.415492958\t,\t0.453001423\t,\t0.590840392\t,\t0.641121875\t]\t,\n",
    "[\t0.556338028\t,\t0.437411724\t,\t0.641121875\t,\t0.700096364\t]\t,\n",
    "[\t0.591549296\t,\t0.350673696\t,\t0.700096364\t,\t0.614971852\t]\t,\n",
    "[\t0.514084507\t,\t0.364031312\t,\t0.614971852\t,\t0.591377999\t]\t,\n",
    "\n",
    ")\n",
    ", dtype=float)\n",
    "testY = np.array(([\t0.384176092\t]\t,\n",
    "[\t0.50844449\t]\t,\n",
    "[\t0.706050616\t]\t,\n",
    "[\t0.625663133\t]\t,\n",
    "[\t0.310067454\t]\t,\n",
    "[\t0.718151849\t]\t,\n",
    "[\t0.581295329\t]\t,\n",
    "[\t0.590840392\t]\t,\n",
    "[\t0.641121875\t]\t,\n",
    "[\t0.700096364\t]\t,\n",
    "[\t0.614971852\t]\t,\n",
    "[\t0.591377999\t]\t,\n",
    "[\t0.32\t]\t,\n",
    "\n",
    "\n",
    ")\n",
    ", dtype=float)\n",
    "\n",
    "\n",
    "dataprediksi = np.array(([\t0.387323944\t,\t0.795380412\t,\t0.591377999\t,\t0.32\t]\t,\n",
    "[\t0.373239437\t,\t1\t,\t0.32\t,\t0.50\t]\t,\n",
    "[\t0.366197183\t,\t0.707681705\t,\t0.50\t,\t0.415539889\t]\t,\n",
    "[\t0.443661972\t,\t0.491695324\t,\t0.415539889\t,\t0\t]\t,\n",
    "\n",
    "), dtype=float)"
   ]
  },
  {
   "cell_type": "code",
   "execution_count": 15,
   "metadata": {},
   "outputs": [
    {
     "data": {
      "text/plain": [
       "array([[0.26056338, 0.44281211, 0.70258153, 0.6646853 ],\n",
       "       [0.3943662 , 0.49627058, 0.6646853 , 0.38417609],\n",
       "       [0.62676056, 0.47546339, 0.38417609, 0.50844449],\n",
       "       [0.79577465, 0.55155979, 0.50844449, 0.70605062],\n",
       "       [0.70422535, 0.50099435, 0.70605062, 0.62566313],\n",
       "       [0.53521127, 0.44545859, 0.62566313, 0.31006745],\n",
       "       [0.40140845, 0.50571167, 0.31006745, 0.71815185],\n",
       "       [0.12676056, 0.46588904, 0.71815185, 0.58129533],\n",
       "       [0.33098592, 0.46785659, 0.58129533, 0.59084039],\n",
       "       [0.41549296, 0.45300142, 0.59084039, 0.64112187],\n",
       "       [0.55633803, 0.43741172, 0.64112187, 0.70009636],\n",
       "       [0.5915493 , 0.3506737 , 0.70009636, 0.61497185],\n",
       "       [0.51408451, 0.36403131, 0.61497185, 0.591378  ]])"
      ]
     },
     "execution_count": 15,
     "metadata": {},
     "output_type": "execute_result"
    }
   ],
   "source": [
    "testX"
   ]
  },
  {
   "cell_type": "code",
   "execution_count": 16,
   "metadata": {},
   "outputs": [],
   "source": [
    "##Need to modify trainer class a bit to check testing error during training:\n",
    "class trainer(object):\n",
    "    def __init__(self, N):\n",
    "        #Make Local reference to network:\n",
    "        self.N = N\n",
    "        \n",
    "    def callbackF(self, params):\n",
    "        self.N.setParams(params)\n",
    "        self.J.append(self.N.costFunction(self.X, self.y))\n",
    "        self.testJ.append(self.N.costFunction(self.testX, self.testY))\n",
    "        \n",
    "    def costFunctionWrapper(self, params, X, y):\n",
    "        self.N.setParams(params)\n",
    "        cost = self.N.costFunction(X, y)\n",
    "        grad = self.N.computeGradients(X,y)\n",
    "        \n",
    "        return cost, grad\n",
    "        \n",
    "    def train(self, trainX, trainY, testX, testY):\n",
    "        #Make an internal variable for the callback function:\n",
    "        self.X = trainX\n",
    "        self.y = trainY\n",
    "        \n",
    "        self.testX = testX\n",
    "        self.testY = testY\n",
    "\n",
    "        #Make empty list to store training costs:\n",
    "        self.J = []\n",
    "        self.testJ = []\n",
    "        \n",
    "        params0 = self.N.getParams()\n",
    "\n",
    "        options = {'maxiter': 100, 'disp' : True}\n",
    "        _res = optimize.minimize(self.costFunctionWrapper, params0, jac=True, method='BFGS', \\\n",
    "                                 args=(trainX, trainY), options=options, callback=self.callbackF)\n",
    "\n",
    "        self.N.setParams(_res.x)\n",
    "        self.optimizationResults = _res"
   ]
  },
  {
   "cell_type": "code",
   "execution_count": 17,
   "metadata": {},
   "outputs": [
    {
     "name": "stdout",
     "output_type": "stream",
     "text": [
      "Optimization terminated successfully.\n",
      "         Current function value: 0.851620\n",
      "         Iterations: 53\n",
      "         Function evaluations: 59\n",
      "         Gradient evaluations: 59\n"
     ]
    }
   ],
   "source": [
    "#Train network with new data:\n",
    "NN = Neural_Network()\n",
    "\n",
    "T = trainer(NN)\n",
    "T.train(trainX, trainY, testX, testY)"
   ]
  },
  {
   "cell_type": "code",
   "execution_count": 18,
   "metadata": {},
   "outputs": [
    {
     "data": {
      "image/png": "[encoded data removed]",
      "text/plain": [
       "<Figure size 432x288 with 1 Axes>"
      ]
     },
     "metadata": {
      "needs_background": "light"
     },
     "output_type": "display_data"
    }
   ],
   "source": [
    "#Plot cost during training:\n",
    "plot.plot(T.J)\n",
    "plot.plot(T.testJ)\n",
    "plot.grid(1)\n",
    "plot.xlabel('Iterations')\n",
    "plot.ylabel('Cost')\n",
    "plot.legend(['Training', 'Testing'])\n",
    "plot.show()"
   ]
  },
  {
   "cell_type": "code",
   "execution_count": 19,
   "metadata": {},
   "outputs": [
    {
     "data": {
      "text/plain": [
       "[array([1.27284218]),\n",
       " array([1.18670825]),\n",
       " array([1.18640297]),\n",
       " array([1.18612631]),\n",
       " array([1.18398118]),\n",
       " array([1.17868601]),\n",
       " array([1.12920038]),\n",
       " array([1.04032508]),\n",
       " array([0.92251214]),\n",
       " array([0.88712992]),\n",
       " array([0.88420888]),\n",
       " array([0.88393005]),\n",
       " array([0.88382966]),\n",
       " array([0.88364807]),\n",
       " array([0.8833118]),\n",
       " array([0.88268724]),\n",
       " array([0.8815391]),\n",
       " array([0.87947992]),\n",
       " array([0.87595578]),\n",
       " array([0.87048646]),\n",
       " array([0.86601991]),\n",
       " array([0.86367232]),\n",
       " array([0.86095125]),\n",
       " array([0.86082105]),\n",
       " array([0.86078577]),\n",
       " array([0.86076103]),\n",
       " array([0.86071484]),\n",
       " array([0.86062711]),\n",
       " array([0.86046094]),\n",
       " array([0.86015181]),\n",
       " array([0.85960125]),\n",
       " array([0.85872525]),\n",
       " array([0.85786492]),\n",
       " array([0.8573848]),\n",
       " array([0.85676926]),\n",
       " array([0.85666484]),\n",
       " array([0.8566482]),\n",
       " array([0.85661956]),\n",
       " array([0.85656809]),\n",
       " array([0.85647384]),\n",
       " array([0.8563017]),\n",
       " array([0.85599719]),\n",
       " array([0.85551399]),\n",
       " array([0.85487426]),\n",
       " array([0.85397538]),\n",
       " array([0.85261523]),\n",
       " array([0.85180699]),\n",
       " array([0.85168581]),\n",
       " array([0.85162666]),\n",
       " array([0.85162238]),\n",
       " array([0.85162047]),\n",
       " array([0.8516204]),\n",
       " array([0.85162039])]"
      ]
     },
     "execution_count": 19,
     "metadata": {},
     "output_type": "execute_result"
    }
   ],
   "source": [
    "T.J"
   ]
  },
  {
   "cell_type": "code",
   "execution_count": 20,
   "metadata": {},
   "outputs": [
    {
     "data": {
      "text/plain": [
       "[array([0.12100936]),\n",
       " array([0.1672204]),\n",
       " array([0.16355525]),\n",
       " array([0.16173894]),\n",
       " array([0.15682797]),\n",
       " array([0.14467564]),\n",
       " array([0.1525497]),\n",
       " array([0.15542753]),\n",
       " array([0.15562658]),\n",
       " array([0.16271072]),\n",
       " array([0.16495533]),\n",
       " array([0.16344926]),\n",
       " array([0.16301844]),\n",
       " array([0.16261409]),\n",
       " array([0.16220791]),\n",
       " array([0.16179308]),\n",
       " array([0.16141636]),\n",
       " array([0.16125602]),\n",
       " array([0.16186957]),\n",
       " array([0.16512469]),\n",
       " array([0.17440505]),\n",
       " array([0.17474015]),\n",
       " array([0.17843758]),\n",
       " array([0.17880705]),\n",
       " array([0.1799754]),\n",
       " array([0.17993134]),\n",
       " array([0.17993339]),\n",
       " array([0.17998298]),\n",
       " array([0.18012516]),\n",
       " array([0.1804609]),\n",
       " array([0.18121106]),\n",
       " array([0.18286899]),\n",
       " array([0.18560285]),\n",
       " array([0.18658536]),\n",
       " array([0.18776635]),\n",
       " array([0.18786762]),\n",
       " array([0.18790894]),\n",
       " array([0.1879691]),\n",
       " array([0.18809298]),\n",
       " array([0.18833354]),\n",
       " array([0.18879519]),\n",
       " array([0.18967347]),\n",
       " array([0.19132883]),\n",
       " array([0.19434821]),\n",
       " array([0.1976539]),\n",
       " array([0.20158867]),\n",
       " array([0.20566334]),\n",
       " array([0.20649534]),\n",
       " array([0.20751297]),\n",
       " array([0.20749847]),\n",
       " array([0.20735197]),\n",
       " array([0.20729739]),\n",
       " array([0.20727079])]"
      ]
     },
     "execution_count": 20,
     "metadata": {},
     "output_type": "execute_result"
    }
   ],
   "source": [
    "T.testJ"
   ]
  },
  {
   "cell_type": "code",
   "execution_count": 21,
   "metadata": {},
   "outputs": [
    {
     "data": {
      "text/plain": [
       "0.7326344750055409"
      ]
     },
     "execution_count": 21,
     "metadata": {},
     "output_type": "execute_result"
    }
   ],
   "source": [
    "from sklearn.metrics import mean_absolute_error\n",
    "mean_absolute_error(T.J, T.testJ)"
   ]
  },
  {
   "cell_type": "code",
   "execution_count": 22,
   "metadata": {},
   "outputs": [],
   "source": [
    "yHat = NN.forward(X)"
   ]
  },
  {
   "cell_type": "code",
   "execution_count": 23,
   "metadata": {},
   "outputs": [
    {
     "data": {
      "text/plain": [
       "array([[0.46851514],\n",
       "       [0.40499695],\n",
       "       [0.41433114],\n",
       "       [0.35125419],\n",
       "       [0.2554371 ],\n",
       "       [0.33402164],\n",
       "       [0.32573742],\n",
       "       [0.47428763],\n",
       "       [0.34662115],\n",
       "       [0.24259817],\n",
       "       [0.27777343],\n",
       "       [0.45888594],\n",
       "       [0.29491528],\n",
       "       [0.48077041],\n",
       "       [0.32968878],\n",
       "       [0.25099551],\n",
       "       [0.26724885],\n",
       "       [0.42710184],\n",
       "       [0.28130154],\n",
       "       [0.46469435],\n",
       "       [0.29119178],\n",
       "       [0.34472401],\n",
       "       [0.27140382],\n",
       "       [0.46120761],\n",
       "       [0.4659742 ],\n",
       "       [0.46255394],\n",
       "       [0.44894101],\n",
       "       [0.33281335],\n",
       "       [0.46068173],\n",
       "       [0.453121  ],\n",
       "       [0.49665456],\n",
       "       [0.4949017 ],\n",
       "       [0.48703441],\n",
       "       [0.47317357],\n",
       "       [0.49414414],\n",
       "       [0.49937628],\n",
       "       [0.49863562],\n",
       "       [0.49768237],\n",
       "       [0.49830532],\n",
       "       [0.49905437],\n",
       "       [0.49789894],\n",
       "       [0.49342009],\n",
       "       [0.49999246],\n",
       "       [0.49791549],\n",
       "       [0.49804794],\n",
       "       [0.49936372],\n",
       "       [0.49956749],\n",
       "       [0.49973945],\n",
       "       [0.49393612],\n",
       "       [0.35716531],\n",
       "       [0.40592348],\n",
       "       [0.48871717],\n",
       "       [0.4705345 ],\n",
       "       [0.46384969],\n",
       "       [0.49986098],\n",
       "       [0.49744931],\n",
       "       [0.49685902],\n",
       "       [0.49627657],\n",
       "       [0.49703778],\n",
       "       [0.49530844]])"
      ]
     },
     "execution_count": 23,
     "metadata": {},
     "output_type": "execute_result"
    }
   ],
   "source": [
    "yHat"
   ]
  },
  {
   "cell_type": "code",
   "execution_count": 24,
   "metadata": {},
   "outputs": [
    {
     "data": {
      "text/plain": [
       "array([[0.42299539],\n",
       "       [0.42478065],\n",
       "       [0.32205711],\n",
       "       [0.46046559],\n",
       "       [0.16668864],\n",
       "       [0.40174469],\n",
       "       [0.31647817],\n",
       "       [0.27086271],\n",
       "       [0.31251205],\n",
       "       [0.36909266],\n",
       "       [0.20575138],\n",
       "       [0.17619313],\n",
       "       [0.29041944],\n",
       "       [0.24090886],\n",
       "       [0.27408835],\n",
       "       [0.37090835],\n",
       "       [0.05869047],\n",
       "       [0.40032459],\n",
       "       [0.28999341],\n",
       "       [0.30771415],\n",
       "       [0.42915251],\n",
       "       [0.44062484],\n",
       "       [0.35804636],\n",
       "       [0.2957245 ],\n",
       "       [0.4914135 ],\n",
       "       [0.35624081],\n",
       "       [0.54105594],\n",
       "       [0.15752904],\n",
       "       [0.55294416],\n",
       "       [0.51433788],\n",
       "       [0.44121317],\n",
       "       [0.58940001],\n",
       "       [0.67707055],\n",
       "       [0.67615763],\n",
       "       [0.69694172],\n",
       "       [0.58293858],\n",
       "       [0.61114774],\n",
       "       [0.7834559 ],\n",
       "       [0.93566973],\n",
       "       [0.28699092],\n",
       "       [1.        ],\n",
       "       [0.84997718],\n",
       "       [0.62600801],\n",
       "       [0.93614647],\n",
       "       [0.85846731],\n",
       "       [0.70258153],\n",
       "       [0.6646853 ],\n",
       "       [0.38417609],\n",
       "       [0.50844449],\n",
       "       [0.70605062],\n",
       "       [0.62566313],\n",
       "       [0.31006745],\n",
       "       [0.71815185],\n",
       "       [0.58129533],\n",
       "       [0.59084039],\n",
       "       [0.64112187],\n",
       "       [0.70009636],\n",
       "       [0.61497185],\n",
       "       [0.591378  ],\n",
       "       [0.32      ]])"
      ]
     },
     "execution_count": 24,
     "metadata": {},
     "output_type": "execute_result"
    }
   ],
   "source": [
    "y"
   ]
  },
  {
   "cell_type": "code",
   "execution_count": 25,
   "metadata": {},
   "outputs": [
    {
     "data": {
      "text/plain": [
       "0.035296372828155696"
      ]
     },
     "execution_count": 25,
     "metadata": {},
     "output_type": "execute_result"
    }
   ],
   "source": [
    "from sklearn.metrics import mean_squared_error \n",
    "mean_squared_error(y,yHat)"
   ]
  },
  {
   "cell_type": "code",
   "execution_count": 26,
   "metadata": {},
   "outputs": [
    {
     "data": {
      "image/png": "[encoded data removed]",
      "text/plain": [
       "<Figure size 432x288 with 1 Axes>"
      ]
     },
     "metadata": {
      "needs_background": "light"
     },
     "output_type": "display_data"
    }
   ],
   "source": [
    "#Plot cost during training:\n",
    "plot.plot(y)\n",
    "plot.plot(yHat)\n",
    "plot.grid(1)\n",
    "plot.legend(['y', 'yHat'])\n",
    "plot.show()"
   ]
  },
  {
   "cell_type": "code",
   "execution_count": 27,
   "metadata": {},
   "outputs": [],
   "source": [
    "#Regularization Parameter:\n",
    "Lambda = 0.0001"
   ]
  },
  {
   "cell_type": "code",
   "execution_count": 28,
   "metadata": {},
   "outputs": [],
   "source": [
    "#Need to make changes to costFunction and costFunctionPrim:\n",
    "def costFunction(self, X, y):\n",
    "    #Compute cost for given X,y, use weights already stored in class.\n",
    "    self.yHat = self.forward(X)\n",
    "    #We don't want cost to increase with the number of examples, so normalize by dividing the error term by number of examples(X.shape[0])\n",
    "    J = 0.5*sum((y-self.yHat)**2)/X.shape[0] + (self.Lambda/2)*(sum(self.W1**2)+sum(self.W2**2))\n",
    "    return J\n",
    "\n",
    "def costFunctionPrime(self, X, y):\n",
    "    #Compute derivative with respect to W and W2 for a given X and y:\n",
    "    self.yHat = self.forward(X)\n",
    "\n",
    "    delta3 = np.multiply(-(y-self.yHat), self.sigmoidPrime(self.z3))\n",
    "    #Add gradient of regularization term:\n",
    "    dJdW2 = np.dot(self.a2.T, delta3)/X.shape[0] + self.Lambda*self.W2\n",
    "\n",
    "    delta2 = np.dot(delta3, self.W2.T)*self.sigmoidPrime(self.z2)\n",
    "    #Add gradient of regularization term:\n",
    "    dJdW1 = np.dot(X.T, delta2)/X.shape[0] + self.Lambda*self.W1\n",
    "\n",
    "    return dJdW1, dJdW2"
   ]
  },
  {
   "cell_type": "code",
   "execution_count": 29,
   "metadata": {},
   "outputs": [],
   "source": [
    "#New complete class, with changes:\n",
    "class Neural_Network(object):\n",
    "    def __init__(self, Lambda=0.0001):        \n",
    "        #Define Hyperparameters\n",
    "        self.inputLayerSize = 4\n",
    "        self.outputLayerSize = 1\n",
    "        self.hiddenLayerSize = 1\n",
    "        \n",
    "        #Weights (parameters)\n",
    "        self.W1 = np.random.randn(self.inputLayerSize,self.hiddenLayerSize)\n",
    "        self.W2 = np.random.randn(self.hiddenLayerSize,self.outputLayerSize)\n",
    "        \n",
    "        #Regularization Parameter:\n",
    "        self.Lambda = Lambda\n",
    "        \n",
    "    def forward(self, X):\n",
    "        #Propogate inputs though network\n",
    "        self.z2 = np.dot(X, self.W1)\n",
    "        self.a2 = self.sigmoid(self.z2)\n",
    "        self.z3 = np.dot(self.a2, self.W2)\n",
    "        yHat = self.sigmoid(self.z3) \n",
    "        return yHat\n",
    "        \n",
    "    def sigmoid(self, z):\n",
    "        #Apply sigmoid activation function to scalar, vector, or matrix\n",
    "        return 1/(1+np.exp(-z))\n",
    "    \n",
    "    def sigmoidPrime(self,z):\n",
    "        #Gradient of sigmoid\n",
    "        return np.exp(-z)/((1+np.exp(-z))**2)\n",
    "    \n",
    "    def costFunction(self, X, y):\n",
    "        #Compute cost for given X,y, use weights already stored in class.\n",
    "        self.yHat = self.forward(X)\n",
    "        J = 0.5*sum((y-self.yHat)**2)/X.shape[0] + (self.Lambda/2)*(np.sum(self.W1**2)+np.sum(self.W2**2))\n",
    "        return J\n",
    "        \n",
    "    def costFunctionPrime(self, X, y):\n",
    "        #Compute derivative with respect to W and W2 for a given X and y:\n",
    "        self.yHat = self.forward(X)\n",
    "        \n",
    "        delta3 = np.multiply(-(y-self.yHat), self.sigmoidPrime(self.z3))\n",
    "        #Add gradient of regularization term:\n",
    "        dJdW2 = np.dot(self.a2.T, delta3)/X.shape[0] + self.Lambda*self.W2\n",
    "        \n",
    "        delta2 = np.dot(delta3, self.W2.T)*self.sigmoidPrime(self.z2)\n",
    "        #Add gradient of regularization term:\n",
    "        dJdW1 = np.dot(X.T, delta2)/X.shape[0] + self.Lambda*self.W1\n",
    "        \n",
    "        return dJdW1, dJdW2\n",
    "    \n",
    "    def predict(self):\n",
    "        prediksi = self.forward(dataprediksi)\n",
    "        return prediksi\n",
    "    \n",
    "    #Helper functions for interacting with other methods/classes\n",
    "    def getParams(self):\n",
    "        #Get W1 and W2 Rolled into vector:\n",
    "        params = np.concatenate((self.W1.ravel(), self.W2.ravel()))\n",
    "        return params\n",
    "    \n",
    "    def setParams(self, params):\n",
    "        #Set W1 and W2 using single parameter vector:\n",
    "        W1_start = 0\n",
    "        W1_end = self.hiddenLayerSize*self.inputLayerSize\n",
    "        self.W1 = np.reshape(params[W1_start:W1_end], \\\n",
    "                             (self.inputLayerSize, self.hiddenLayerSize))\n",
    "        W2_end = W1_end + self.hiddenLayerSize*self.outputLayerSize\n",
    "        self.W2 = np.reshape(params[W1_end:W2_end], \\\n",
    "                             (self.hiddenLayerSize, self.outputLayerSize))\n",
    "        \n",
    "    def computeGradients(self, X, y):\n",
    "        dJdW1, dJdW2 = self.costFunctionPrime(X, y)\n",
    "        return np.concatenate((dJdW1.ravel(), dJdW2.ravel()))"
   ]
  },
  {
   "cell_type": "code",
   "execution_count": 30,
   "metadata": {},
   "outputs": [],
   "source": [
    "def computeNumericalGradient(N, X, y):\n",
    "    paramsInitial = N.getParams()\n",
    "    numgrad = np.zeros(paramsInitial.shape)\n",
    "    perturb = np.zeros(paramsInitial.shape)\n",
    "    e = 1e-4\n",
    "\n",
    "    for p in range(len(paramsInitial)):\n",
    "        #Set perturbation vector\n",
    "        perturb[p] = e\n",
    "        N.setParams(paramsInitial + perturb)\n",
    "        loss2 = N.costFunction(X, y)\n",
    "            \n",
    "        N.setParams(paramsInitial - perturb)\n",
    "        loss1 = N.costFunction(X, y)\n",
    "\n",
    "        #Compute Numerical Gradient\n",
    "        numgrad[p] = (loss2 - loss1) / (2*e)\n",
    "\n",
    "            #Return the value we changed to zero:\n",
    "        perturb[p] = 0\n",
    "            \n",
    "    #Return Params to original value:\n",
    "    N.setParams(paramsInitial)\n",
    "\n",
    "    return numgrad "
   ]
  },
  {
   "cell_type": "code",
   "execution_count": 31,
   "metadata": {},
   "outputs": [],
   "source": [
    "NN = Neural_Network(Lambda=0.0001)"
   ]
  },
  {
   "cell_type": "code",
   "execution_count": 32,
   "metadata": {},
   "outputs": [],
   "source": [
    "#Make sure our gradients our correct after making changes:\n",
    "numgrad = computeNumericalGradient(NN, X, y)\n",
    "grad = NN.computeGradients(X,y)"
   ]
  },
  {
   "cell_type": "code",
   "execution_count": 33,
   "metadata": {},
   "outputs": [
    {
     "data": {
      "text/plain": [
       "7.618880343602676e-10"
      ]
     },
     "execution_count": 33,
     "metadata": {},
     "output_type": "execute_result"
    }
   ],
   "source": [
    "#Should be less than 1e-8:\n",
    "np.linalg.norm(grad-numgrad)/np.linalg.norm(grad+numgrad)"
   ]
  },
  {
   "cell_type": "code",
   "execution_count": 34,
   "metadata": {},
   "outputs": [],
   "source": [
    "T = trainer(NN)"
   ]
  },
  {
   "cell_type": "code",
   "execution_count": 35,
   "metadata": {},
   "outputs": [
    {
     "name": "stdout",
     "output_type": "stream",
     "text": [
      "Optimization terminated successfully.\n",
      "         Current function value: 0.019038\n",
      "         Iterations: 54\n",
      "         Function evaluations: 59\n",
      "         Gradient evaluations: 59\n"
     ]
    }
   ],
   "source": [
    "T.train(X,y,testX,testY)"
   ]
  },
  {
   "cell_type": "code",
   "execution_count": 36,
   "metadata": {},
   "outputs": [
    {
     "data": {
      "image/png": "[encoded data removed]",
      "text/plain": [
       "<Figure size 432x288 with 1 Axes>"
      ]
     },
     "metadata": {
      "needs_background": "light"
     },
     "output_type": "display_data"
    }
   ],
   "source": [
    "plot.plot(T.J)\n",
    "plot.plot(T.testJ)\n",
    "plot.grid(1)\n",
    "plot.xlabel('Iterations')\n",
    "plot.ylabel('Cost')\n",
    "plot.legend(['Training', 'Testing'])\n",
    "plot.show()"
   ]
  },
  {
   "cell_type": "code",
   "execution_count": 37,
   "metadata": {},
   "outputs": [
    {
     "data": {
      "text/plain": [
       "[array([0.02544216]),\n",
       " array([0.02370046]),\n",
       " array([0.02262274]),\n",
       " array([0.02262177]),\n",
       " array([0.02262109]),\n",
       " array([0.0226198]),\n",
       " array([0.02260971]),\n",
       " array([0.02259258]),\n",
       " array([0.02256156]),\n",
       " array([0.02250415]),\n",
       " array([0.02239951]),\n",
       " array([0.02223392]),\n",
       " array([0.02212237]),\n",
       " array([0.02171712]),\n",
       " array([0.02121956]),\n",
       " array([0.02068778]),\n",
       " array([0.02049478]),\n",
       " array([0.02027102]),\n",
       " array([0.02020908]),\n",
       " array([0.02019417]),\n",
       " array([0.0201918]),\n",
       " array([0.02019104]),\n",
       " array([0.02018963]),\n",
       " array([0.02018694]),\n",
       " array([0.02018187]),\n",
       " array([0.02017237]),\n",
       " array([0.02015492]),\n",
       " array([0.02012391]),\n",
       " array([0.02007166]),\n",
       " array([0.01999102]),\n",
       " array([0.01989282]),\n",
       " array([0.01976248]),\n",
       " array([0.01955273]),\n",
       " array([0.01923376]),\n",
       " array([0.01908897]),\n",
       " array([0.01906785]),\n",
       " array([0.01906128]),\n",
       " array([0.01906084]),\n",
       " array([0.0190608]),\n",
       " array([0.01906079]),\n",
       " array([0.01906076]),\n",
       " array([0.01906071]),\n",
       " array([0.01906062]),\n",
       " array([0.01906045]),\n",
       " array([0.01906014]),\n",
       " array([0.01905958]),\n",
       " array([0.01905863]),\n",
       " array([0.01905711]),\n",
       " array([0.01905473]),\n",
       " array([0.01905099]),\n",
       " array([0.01904533]),\n",
       " array([0.01904017]),\n",
       " array([0.01903855]),\n",
       " array([0.01903836])]"
      ]
     },
     "execution_count": 37,
     "metadata": {},
     "output_type": "execute_result"
    }
   ],
   "source": [
    "T.J"
   ]
  },
  {
   "cell_type": "code",
   "execution_count": 38,
   "metadata": {},
   "outputs": [
    {
     "data": {
      "text/plain": [
       "[array([0.00936779]),\n",
       " array([0.009923]),\n",
       " array([0.01258365]),\n",
       " array([0.0124847]),\n",
       " array([0.01244041]),\n",
       " array([0.01240867]),\n",
       " array([0.01224528]),\n",
       " array([0.01208952]),\n",
       " array([0.01194846]),\n",
       " array([0.011813]),\n",
       " array([0.01168053]),\n",
       " array([0.01155035]),\n",
       " array([0.0114984]),\n",
       " array([0.01213296]),\n",
       " array([0.01389083]),\n",
       " array([0.01304374]),\n",
       " array([0.01340198]),\n",
       " array([0.01443754]),\n",
       " array([0.01409791]),\n",
       " array([0.01433711]),\n",
       " array([0.01442811]),\n",
       " array([0.01443932]),\n",
       " array([0.01445117]),\n",
       " array([0.01446636]),\n",
       " array([0.01448792]),\n",
       " array([0.01452032]),\n",
       " array([0.01457046]),\n",
       " array([0.01464883]),\n",
       " array([0.01477123]),\n",
       " array([0.01496099]),\n",
       " array([0.01517649]),\n",
       " array([0.01530932]),\n",
       " array([0.01530564]),\n",
       " array([0.01500939]),\n",
       " array([0.01450385]),\n",
       " array([0.01486732]),\n",
       " array([0.01475678]),\n",
       " array([0.01475757]),\n",
       " array([0.01475978]),\n",
       " array([0.01476107]),\n",
       " array([0.01476237]),\n",
       " array([0.01476392]),\n",
       " array([0.01476598]),\n",
       " array([0.01476892]),\n",
       " array([0.01477327]),\n",
       " array([0.01477981]),\n",
       " array([0.01478945]),\n",
       " array([0.01480253]),\n",
       " array([0.01481659]),\n",
       " array([0.01482488]),\n",
       " array([0.01481797]),\n",
       " array([0.01478735]),\n",
       " array([0.01475912]),\n",
       " array([0.01475066])]"
      ]
     },
     "execution_count": 38,
     "metadata": {},
     "output_type": "execute_result"
    }
   ],
   "source": [
    "T.testJ"
   ]
  },
  {
   "cell_type": "code",
   "execution_count": 39,
   "metadata": {},
   "outputs": [
    {
     "data": {
      "text/plain": [
       "0.006540710861604764"
      ]
     },
     "execution_count": 39,
     "metadata": {},
     "output_type": "execute_result"
    }
   ],
   "source": [
    "from sklearn.metrics import mean_absolute_error\n",
    "mean_absolute_error(T.J, T.testJ)"
   ]
  },
  {
   "cell_type": "code",
   "execution_count": 40,
   "metadata": {},
   "outputs": [],
   "source": [
    "yHat=NN.forward(X)"
   ]
  },
  {
   "cell_type": "code",
   "execution_count": 41,
   "metadata": {},
   "outputs": [
    {
     "data": {
      "text/plain": [
       "array([[0.40716411],\n",
       "       [0.37094643],\n",
       "       [0.40010631],\n",
       "       [0.38616745],\n",
       "       [0.34126917],\n",
       "       [0.40424639],\n",
       "       [0.42905491],\n",
       "       [0.44610616],\n",
       "       [0.39459732],\n",
       "       [0.31265595],\n",
       "       [0.39284984],\n",
       "       [0.4169242 ],\n",
       "       [0.3114533 ],\n",
       "       [0.39800084],\n",
       "       [0.36459673],\n",
       "       [0.29863117],\n",
       "       [0.31633576],\n",
       "       [0.36769516],\n",
       "       [0.30125078],\n",
       "       [0.39780336],\n",
       "       [0.3470807 ],\n",
       "       [0.3887592 ],\n",
       "       [0.36839309],\n",
       "       [0.42437532],\n",
       "       [0.41569273],\n",
       "       [0.42020849],\n",
       "       [0.42285205],\n",
       "       [0.39160682],\n",
       "       [0.41895534],\n",
       "       [0.41073283],\n",
       "       [0.46365571],\n",
       "       [0.46260265],\n",
       "       [0.45732352],\n",
       "       [0.46212084],\n",
       "       [0.47140685],\n",
       "       [0.48499471],\n",
       "       [0.48320257],\n",
       "       [0.47987779],\n",
       "       [0.48745789],\n",
       "       [0.49207983],\n",
       "       [0.48911608],\n",
       "       [0.48676175],\n",
       "       [0.49878487],\n",
       "       [0.49538554],\n",
       "       [0.49349961],\n",
       "       [0.49550906],\n",
       "       [0.49301739],\n",
       "       [0.49126353],\n",
       "       [0.47993396],\n",
       "       [0.44407304],\n",
       "       [0.47116158],\n",
       "       [0.48299729],\n",
       "       [0.4640542 ],\n",
       "       [0.46847128],\n",
       "       [0.4923182 ],\n",
       "       [0.48369172],\n",
       "       [0.4833315 ],\n",
       "       [0.48399913],\n",
       "       [0.48057154],\n",
       "       [0.4766763 ]])"
      ]
     },
     "execution_count": 41,
     "metadata": {},
     "output_type": "execute_result"
    }
   ],
   "source": [
    "yHat"
   ]
  },
  {
   "cell_type": "code",
   "execution_count": 42,
   "metadata": {},
   "outputs": [
    {
     "data": {
      "text/plain": [
       "array([[0.42299539],\n",
       "       [0.42478065],\n",
       "       [0.32205711],\n",
       "       [0.46046559],\n",
       "       [0.16668864],\n",
       "       [0.40174469],\n",
       "       [0.31647817],\n",
       "       [0.27086271],\n",
       "       [0.31251205],\n",
       "       [0.36909266],\n",
       "       [0.20575138],\n",
       "       [0.17619313],\n",
       "       [0.29041944],\n",
       "       [0.24090886],\n",
       "       [0.27408835],\n",
       "       [0.37090835],\n",
       "       [0.05869047],\n",
       "       [0.40032459],\n",
       "       [0.28999341],\n",
       "       [0.30771415],\n",
       "       [0.42915251],\n",
       "       [0.44062484],\n",
       "       [0.35804636],\n",
       "       [0.2957245 ],\n",
       "       [0.4914135 ],\n",
       "       [0.35624081],\n",
       "       [0.54105594],\n",
       "       [0.15752904],\n",
       "       [0.55294416],\n",
       "       [0.51433788],\n",
       "       [0.44121317],\n",
       "       [0.58940001],\n",
       "       [0.67707055],\n",
       "       [0.67615763],\n",
       "       [0.69694172],\n",
       "       [0.58293858],\n",
       "       [0.61114774],\n",
       "       [0.7834559 ],\n",
       "       [0.93566973],\n",
       "       [0.28699092],\n",
       "       [1.        ],\n",
       "       [0.84997718],\n",
       "       [0.62600801],\n",
       "       [0.93614647],\n",
       "       [0.85846731],\n",
       "       [0.70258153],\n",
       "       [0.6646853 ],\n",
       "       [0.38417609],\n",
       "       [0.50844449],\n",
       "       [0.70605062],\n",
       "       [0.62566313],\n",
       "       [0.31006745],\n",
       "       [0.71815185],\n",
       "       [0.58129533],\n",
       "       [0.59084039],\n",
       "       [0.64112187],\n",
       "       [0.70009636],\n",
       "       [0.61497185],\n",
       "       [0.591378  ],\n",
       "       [0.32      ]])"
      ]
     },
     "execution_count": 42,
     "metadata": {},
     "output_type": "execute_result"
    }
   ],
   "source": [
    "y"
   ]
  },
  {
   "cell_type": "code",
   "execution_count": 43,
   "metadata": {},
   "outputs": [
    {
     "data": {
      "text/plain": [
       "0.035301586795819365"
      ]
     },
     "execution_count": 43,
     "metadata": {},
     "output_type": "execute_result"
    }
   ],
   "source": [
    "from sklearn.metrics import mean_squared_error \n",
    "mean_squared_error(y,yHat) "
   ]
  },
  {
   "cell_type": "code",
   "execution_count": 44,
   "metadata": {},
   "outputs": [
    {
     "data": {
      "image/png": "[encoded data removed]",
      "text/plain": [
       "<Figure size 432x288 with 1 Axes>"
      ]
     },
     "metadata": {
      "needs_background": "light"
     },
     "output_type": "display_data"
    }
   ],
   "source": [
    "#Plot cost during training:\n",
    "plot.plot(y)\n",
    "plot.plot(yHat)\n",
    "plot.grid(1)\n",
    "plot.legend(['y', 'yHat'])\n",
    "plot.show()"
   ]
  },
  {
   "cell_type": "code",
   "execution_count": 45,
   "metadata": {},
   "outputs": [],
   "source": [
    "prediksi=NN.forward(dataprediksi)"
   ]
  },
  {
   "cell_type": "code",
   "execution_count": 46,
   "metadata": {},
   "outputs": [
    {
     "data": {
      "text/plain": [
       "array([[0.48303991],\n",
       "       [0.4807381 ],\n",
       "       [0.47881748],\n",
       "       [0.40087059]])"
      ]
     },
     "execution_count": 46,
     "metadata": {},
     "output_type": "execute_result"
    }
   ],
   "source": [
    "prediksi"
   ]
  },
  {
   "cell_type": "code",
   "execution_count": 47,
   "metadata": {},
   "outputs": [],
   "source": [
    "from sklearn.metrics import mean_squared_error "
   ]
  },
  {
   "cell_type": "code",
   "execution_count": 48,
   "metadata": {},
   "outputs": [
    {
     "data": {
      "text/plain": [
       "0.06528782183001897"
      ]
     },
     "execution_count": 48,
     "metadata": {},
     "output_type": "execute_result"
    }
   ],
   "source": [
    "Y_true= ([\t0.50\t]\t,\n",
    "[\t0.415539889\t]\t,\n",
    "[\t0\t]\t,\n",
    "[\t0.235502358\t]\t,\n",
    "\n",
    ")\n",
    "\n",
    "\n",
    "Y_pred=prediksi\n",
    "mean_squared_error(Y_true,Y_pred) "
   ]
  },
  {
   "cell_type": "code",
   "execution_count": 49,
   "metadata": {},
   "outputs": [
    {
     "data": {
      "text/plain": [
       "array([[0.38732394, 0.79538041, 0.591378  , 0.32      ],\n",
       "       [0.37323944, 1.        , 0.32      , 0.5       ],\n",
       "       [0.36619718, 0.70768171, 0.5       , 0.41553989],\n",
       "       [0.44366197, 0.49169532, 0.41553989, 0.        ]])"
      ]
     },
     "execution_count": 49,
     "metadata": {},
     "output_type": "execute_result"
    }
   ],
   "source": [
    "dataprediksi"
   ]
  },
  {
   "cell_type": "code",
   "execution_count": 50,
   "metadata": {},
   "outputs": [],
   "source": [
    "z=np.array([0.6294\t,\t0.4578])"
   ]
  },
  {
   "cell_type": "code",
   "execution_count": 51,
   "metadata": {},
   "outputs": [],
   "source": [
    "y=np.array([0\t,\t0.235502358\t])"
   ]
  },
  {
   "cell_type": "code",
   "execution_count": 52,
   "metadata": {},
   "outputs": [],
   "source": [
    "a=np.concatenate((z,y))"
   ]
  },
  {
   "cell_type": "code",
   "execution_count": 53,
   "metadata": {},
   "outputs": [
    {
     "data": {
      "text/plain": [
       "array([0.27036795])"
      ]
     },
     "execution_count": 53,
     "metadata": {},
     "output_type": "execute_result"
    }
   ],
   "source": [
    "#prediksi 1\n",
    "prediksi=NN.forward(a)\n",
    "prediksi"
   ]
  },
  {
   "cell_type": "code",
   "execution_count": 54,
   "metadata": {},
   "outputs": [
    {
     "data": {
      "text/plain": [
       "array([0.35758537])"
      ]
     },
     "execution_count": 54,
     "metadata": {},
     "output_type": "execute_result"
    }
   ],
   "source": [
    "#prediksi 2\n",
    "c=prediksi\n",
    "z1=np.array([0.6795\t,\t0.4539])\n",
    "b=y[1:]\n",
    "d=np.concatenate((z1,b,c))\n",
    "prediksi=NN.forward(d)\n",
    "prediksi"
   ]
  },
  {
   "cell_type": "code",
   "execution_count": 55,
   "metadata": {},
   "outputs": [
    {
     "data": {
      "text/plain": [
       "array([0.38925431])"
      ]
     },
     "execution_count": 55,
     "metadata": {},
     "output_type": "execute_result"
    }
   ],
   "source": [
    "#prediksi 3\n",
    "c=prediksi\n",
    "z2=np.array([0.5888\t,\t0.4545])\n",
    "b=y[1:]\n",
    "d=np.concatenate((z2,b,c))\n",
    "prediksi=NN.forward(d)\n",
    "prediksi"
   ]
  },
  {
   "cell_type": "code",
   "execution_count": 56,
   "metadata": {},
   "outputs": [
    {
     "data": {
      "text/plain": [
       "array([0.40331227])"
      ]
     },
     "execution_count": 56,
     "metadata": {},
     "output_type": "execute_result"
    }
   ],
   "source": [
    "#prediksi 4\n",
    "c=prediksi\n",
    "z3=np.array([0.527\t,\t0.4555])\n",
    "b=y[1:]\n",
    "d=np.concatenate((z3,b,c))\n",
    "prediksi=NN.forward(d)\n",
    "prediksi"
   ]
  },
  {
   "cell_type": "code",
   "execution_count": 57,
   "metadata": {},
   "outputs": [
    {
     "data": {
      "text/plain": [
       "array([0.41216829])"
      ]
     },
     "execution_count": 57,
     "metadata": {},
     "output_type": "execute_result"
    }
   ],
   "source": [
    "#prediksi 5\n",
    "c=prediksi\n",
    "z4=np.array([0.4745\t,\t0.4564])\n",
    "b=y[1:]\n",
    "d=np.concatenate((z4,b,c))\n",
    "prediksi=NN.forward(d)\n",
    "prediksi"
   ]
  },
  {
   "cell_type": "code",
   "execution_count": 58,
   "metadata": {},
   "outputs": [
    {
     "data": {
      "text/plain": [
       "array([0.41508537])"
      ]
     },
     "execution_count": 58,
     "metadata": {},
     "output_type": "execute_result"
    }
   ],
   "source": [
    "#prediksi 6\n",
    "c=prediksi\n",
    "z5=np.array([0.4621\t,\t0.4571])\n",
    "b=y[1:]\n",
    "d=np.concatenate((z5,b,c))\n",
    "prediksi=NN.forward(d)\n",
    "prediksi"
   ]
  },
  {
   "cell_type": "code",
   "execution_count": null,
   "metadata": {},
   "outputs": [],
   "source": []
  }
 ],
 "metadata": {
  "kernelspec": {
   "display_name": "Python 3",
   "language": "python",
   "name": "python3"
  },
  "language_info": {
   "codemirror_mode": {
    "name": "ipython",
    "version": 3
   },
   "file_extension": ".py",
   "mimetype": "text/x-python",
   "name": "python",
   "nbconvert_exporter": "python",
   "pygments_lexer": "ipython3",
   "version": "3.7.3"
  }
 },
 "nbformat": 4,
 "nbformat_minor": 2
}
