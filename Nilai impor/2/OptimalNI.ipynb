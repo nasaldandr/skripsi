{
 "cells": [
  {
   "cell_type": "code",
   "execution_count": 2,
   "metadata": {},
   "outputs": [
    {
     "name": "stdout",
     "output_type": "stream",
     "text": [
      "Warning: Maximum number of iterations has been exceeded.\n",
      "         Current function value: 0.500931\n",
      "         Iterations: 100\n",
      "         Function evaluations: 106\n",
      "         Gradient evaluations: 106\n"
     ]
    },
    {
     "data": {
      "text/plain": [
       "<Figure size 640x480 with 1 Axes>"
      ]
     },
     "metadata": {},
     "output_type": "display_data"
    },
    {
     "name": "stdout",
     "output_type": "stream",
     "text": [
      "Warning: Maximum number of iterations has been exceeded.\n",
      "         Current function value: 0.381375\n",
      "         Iterations: 100\n",
      "         Function evaluations: 105\n",
      "         Gradient evaluations: 105\n"
     ]
    },
    {
     "data": {
      "text/plain": [
       "<Figure size 640x480 with 1 Axes>"
      ]
     },
     "metadata": {},
     "output_type": "display_data"
    },
    {
     "data": {
      "text/plain": [
       "<Figure size 640x480 with 1 Axes>"
      ]
     },
     "metadata": {},
     "output_type": "display_data"
    }
   ],
   "source": [
    "#Import code from last time\n",
    "%run NI3-6.ipynb"
   ]
  },
  {
   "cell_type": "code",
   "execution_count": 2,
   "metadata": {},
   "outputs": [
    {
     "data": {
      "text/plain": [
       "array([[0.44281211, 0.70258153, 0.6646853 ],\n",
       "       [0.49627058, 0.6646853 , 0.38417609],\n",
       "       [0.47546339, 0.38417609, 0.50844449],\n",
       "       [0.55155979, 0.50844449, 0.70605062],\n",
       "       [0.50099435, 0.70605062, 0.62566313],\n",
       "       [0.44545859, 0.62566313, 0.31006745],\n",
       "       [0.50571167, 0.31006745, 0.71815185],\n",
       "       [0.46588904, 0.71815185, 0.58129533],\n",
       "       [0.46785659, 0.58129533, 0.59084039],\n",
       "       [0.45300142, 0.59084039, 0.64112187],\n",
       "       [0.43741172, 0.64112187, 0.70009636],\n",
       "       [0.3506737 , 0.70009636, 0.61497185],\n",
       "       [0.36403131, 0.61497185, 0.591378  ]])"
      ]
     },
     "execution_count": 2,
     "metadata": {},
     "output_type": "execute_result"
    }
   ],
   "source": [
    "testX"
   ]
  },
  {
   "cell_type": "code",
   "execution_count": 3,
   "metadata": {},
   "outputs": [
    {
     "data": {
      "text/plain": [
       "array([[0.38417609],\n",
       "       [0.50844449],\n",
       "       [0.70605062],\n",
       "       [0.62566313],\n",
       "       [0.31006745],\n",
       "       [0.71815185],\n",
       "       [0.58129533],\n",
       "       [0.59084039],\n",
       "       [0.64112187],\n",
       "       [0.70009636],\n",
       "       [0.61497185],\n",
       "       [0.591378  ],\n",
       "       [0.32      ]])"
      ]
     },
     "execution_count": 3,
     "metadata": {},
     "output_type": "execute_result"
    }
   ],
   "source": [
    "testY"
   ]
  },
  {
   "cell_type": "code",
   "execution_count": 4,
   "metadata": {},
   "outputs": [
    {
     "data": {
      "text/plain": [
       "array([[0.14831904, 0.42336055, 0.31155855],\n",
       "       [0.11211342, 0.31155855, 0.42299539],\n",
       "       [0.17073406, 0.42299539, 0.42478065],\n",
       "       [0.2232566 , 0.42478065, 0.32205711],\n",
       "       [0.24197469, 0.32205711, 0.46046559],\n",
       "       [0.36573346, 0.46046559, 0.16668864],\n",
       "       [0.55255899, 0.16668864, 0.40174469],\n",
       "       [0.37002352, 0.40174469, 0.31647817],\n",
       "       [0.3325317 , 0.31647817, 0.27086271],\n",
       "       [0.38788752, 0.27086271, 0.31251205],\n",
       "       [0.39836394, 0.31251205, 0.36909266],\n",
       "       [0.2848263 , 0.36909266, 0.20575138],\n",
       "       [0.18673502, 0.20575138, 0.17619313],\n",
       "       [0.18269477, 0.17619313, 0.29041944],\n",
       "       [0.255617  , 0.29041944, 0.24090886],\n",
       "       [0.23597043, 0.24090886, 0.27408835],\n",
       "       [0.16413413, 0.27408835, 0.37090835],\n",
       "       [0.17817663, 0.37090835, 0.05869047],\n",
       "       [0.1639561 , 0.05869047, 0.40032459],\n",
       "       [0.13324148, 0.40032459, 0.28999341],\n",
       "       [0.22639902, 0.28999341, 0.30771415],\n",
       "       [0.25501386, 0.30771415, 0.42915251],\n",
       "       [0.23708614, 0.42915251, 0.44062484],\n",
       "       [0.23165112, 0.44062484, 0.35804636],\n",
       "       [0.23306761, 0.35804636, 0.2957245 ],\n",
       "       [0.22117372, 0.2957245 , 0.4914135 ],\n",
       "       [0.22633168, 0.4914135 , 0.35624081],\n",
       "       [0.21869864, 0.35624081, 0.54105594],\n",
       "       [0.2320322 , 0.54105594, 0.15752904],\n",
       "       [0.23194795, 0.15752904, 0.55294416],\n",
       "       [0.22154782, 0.55294416, 0.51433788],\n",
       "       [0.28795858, 0.51433788, 0.44121317],\n",
       "       [0.28837327, 0.44121317, 0.58940001],\n",
       "       [0.29714576, 0.58940001, 0.67707055],\n",
       "       [0.24366982, 0.67707055, 0.67615763],\n",
       "       [0.30743731, 0.67615763, 0.69694172],\n",
       "       [0.35859786, 0.69694172, 0.58293858],\n",
       "       [0.37218122, 0.58293858, 0.61114774],\n",
       "       [0.45025948, 0.61114774, 0.7834559 ],\n",
       "       [0.44309563, 0.7834559 , 0.93566973],\n",
       "       [0.55815598, 0.93566973, 0.28699092],\n",
       "       [0.60235983, 0.28699092, 1.        ],\n",
       "       [0.69629172, 1.        , 0.84997718],\n",
       "       [0.79060467, 0.84997718, 0.62600801],\n",
       "       [0.64402223, 0.62600801, 0.93614647],\n",
       "       [0.58322864, 0.93614647, 0.85846731],\n",
       "       [0.48171501, 0.85846731, 0.70258153]])"
      ]
     },
     "execution_count": 4,
     "metadata": {},
     "output_type": "execute_result"
    }
   ],
   "source": [
    "trainX"
   ]
  },
  {
   "cell_type": "code",
   "execution_count": 5,
   "metadata": {},
   "outputs": [
    {
     "data": {
      "text/plain": [
       "array([[0.42299539],\n",
       "       [0.42478065],\n",
       "       [0.32205711],\n",
       "       [0.46046559],\n",
       "       [0.16668864],\n",
       "       [0.40174469],\n",
       "       [0.31647817],\n",
       "       [0.27086271],\n",
       "       [0.31251205],\n",
       "       [0.36909266],\n",
       "       [0.20575138],\n",
       "       [0.17619313],\n",
       "       [0.29041944],\n",
       "       [0.24090886],\n",
       "       [0.27408835],\n",
       "       [0.37090835],\n",
       "       [0.05869047],\n",
       "       [0.40032459],\n",
       "       [0.28999341],\n",
       "       [0.30771415],\n",
       "       [0.42915251],\n",
       "       [0.44062484],\n",
       "       [0.35804636],\n",
       "       [0.2957245 ],\n",
       "       [0.4914135 ],\n",
       "       [0.35624081],\n",
       "       [0.54105594],\n",
       "       [0.15752904],\n",
       "       [0.55294416],\n",
       "       [0.51433788],\n",
       "       [0.44121317],\n",
       "       [0.58940001],\n",
       "       [0.67707055],\n",
       "       [0.67615763],\n",
       "       [0.69694172],\n",
       "       [0.58293858],\n",
       "       [0.61114774],\n",
       "       [0.7834559 ],\n",
       "       [0.93566973],\n",
       "       [0.28699092],\n",
       "       [1.        ],\n",
       "       [0.84997718],\n",
       "       [0.62600801],\n",
       "       [0.93614647],\n",
       "       [0.85846731],\n",
       "       [0.70258153],\n",
       "       [0.6646853 ]])"
      ]
     },
     "execution_count": 5,
     "metadata": {},
     "output_type": "execute_result"
    }
   ],
   "source": [
    "trainY"
   ]
  },
  {
   "cell_type": "code",
   "execution_count": 6,
   "metadata": {},
   "outputs": [],
   "source": [
    "#Regularization Parameter:\n",
    "Lambda = 0.0001"
   ]
  },
  {
   "cell_type": "code",
   "execution_count": 7,
   "metadata": {},
   "outputs": [],
   "source": [
    "#Need to make changes to costFunction and costFunctionPrim:\n",
    "def costFunction(self, X, y):\n",
    "    #Compute cost for given X,y, use weights already stored in class.\n",
    "    self.yHat = self.forward(X)\n",
    "    #We don't want cost to increase with the number of examples, so normalize by dividing the error term by number of examples(X.shape[0])\n",
    "    J = 0.5*sum((y-self.yHat)**2)/X.shape[0] + (self.Lambda/2)*(sum(self.W1**2)+sum(self.W2**2))\n",
    "    return J\n",
    "\n",
    "def costFunctionPrime(self, X, y):\n",
    "    #Compute derivative with respect to W and W2 for a given X and y:\n",
    "    self.yHat = self.forward(X)\n",
    "\n",
    "    delta3 = np.multiply(-(y-self.yHat), self.sigmoidPrime(self.z3))\n",
    "    #Add gradient of regularization term:\n",
    "    dJdW2 = np.dot(self.a2.T, delta3)/X.shape[0] + self.Lambda*self.W2\n",
    "\n",
    "    delta2 = np.dot(delta3, self.W2.T)*self.sigmoidPrime(self.z2)\n",
    "    #Add gradient of regularization term:\n",
    "    dJdW1 = np.dot(X.T, delta2)/X.shape[0] + self.Lambda*self.W1\n",
    "\n",
    "    return dJdW1, dJdW2"
   ]
  },
  {
   "cell_type": "code",
   "execution_count": 8,
   "metadata": {},
   "outputs": [],
   "source": [
    "#New complete class, with changes:\n",
    "class Neural_Network(object):\n",
    "    def __init__(self, Lambda=0.0001):        \n",
    "        #Define Hyperparameters\n",
    "        self.inputLayerSize = 3\n",
    "        self.outputLayerSize = 1\n",
    "        self.hiddenLayerSize = 6\n",
    "        \n",
    "        #Weights (parameters)\n",
    "        self.W1 = np.random.randn(self.inputLayerSize,self.hiddenLayerSize)\n",
    "        self.W2 = np.random.randn(self.hiddenLayerSize,self.outputLayerSize)\n",
    "        \n",
    "        #Regularization Parameter:\n",
    "        self.Lambda = Lambda\n",
    "        \n",
    "    def forward(self, X):\n",
    "        #Propogate inputs though network\n",
    "        self.z2 = np.dot(X, self.W1)\n",
    "        self.a2 = self.sigmoid(self.z2)\n",
    "        self.z3 = np.dot(self.a2, self.W2)\n",
    "        yHat = self.sigmoid(self.z3) \n",
    "        return yHat\n",
    "        \n",
    "    def sigmoid(self, z):\n",
    "        #Apply sigmoid activation function to scalar, vector, or matrix\n",
    "        return 1/(1+np.exp(-z))\n",
    "    \n",
    "    def sigmoidPrime(self,z):\n",
    "        #Gradient of sigmoid\n",
    "        return np.exp(-z)/((1+np.exp(-z))**2)\n",
    "    \n",
    "    def costFunction(self, X, y):\n",
    "        #Compute cost for given X,y, use weights already stored in class.\n",
    "        self.yHat = self.forward(X)\n",
    "        J = 0.5*sum((y-self.yHat)**2)/X.shape[0] + (self.Lambda/2)*(np.sum(self.W1**2)+np.sum(self.W2**2))\n",
    "        return J\n",
    "        \n",
    "    def costFunctionPrime(self, X, y):\n",
    "        #Compute derivative with respect to W and W2 for a given X and y:\n",
    "        self.yHat = self.forward(X)\n",
    "        \n",
    "        delta3 = np.multiply(-(y-self.yHat), self.sigmoidPrime(self.z3))\n",
    "        #Add gradient of regularization term:\n",
    "        dJdW2 = np.dot(self.a2.T, delta3)/X.shape[0] + self.Lambda*self.W2\n",
    "        \n",
    "        delta2 = np.dot(delta3, self.W2.T)*self.sigmoidPrime(self.z2)\n",
    "        #Add gradient of regularization term:\n",
    "        dJdW1 = np.dot(X.T, delta2)/X.shape[0] + self.Lambda*self.W1\n",
    "        \n",
    "        return dJdW1, dJdW2\n",
    "    \n",
    "    def predict(self):\n",
    "        prediksi = self.forward(dataprediksi)\n",
    "        return prediksi\n",
    "    \n",
    "    #Helper functions for interacting with other methods/classes\n",
    "    def getParams(self):\n",
    "        #Get W1 and W2 Rolled into vector:\n",
    "        params = np.concatenate((self.W1.ravel(), self.W2.ravel()))\n",
    "        return params\n",
    "    \n",
    "    def setParams(self, params):\n",
    "        #Set W1 and W2 using single parameter vector:\n",
    "        W1_start = 0\n",
    "        W1_end = self.hiddenLayerSize*self.inputLayerSize\n",
    "        self.W1 = np.reshape(params[W1_start:W1_end], \\\n",
    "                             (self.inputLayerSize, self.hiddenLayerSize))\n",
    "        W2_end = W1_end + self.hiddenLayerSize*self.outputLayerSize\n",
    "        self.W2 = np.reshape(params[W1_end:W2_end], \\\n",
    "                             (self.hiddenLayerSize, self.outputLayerSize))\n",
    "        \n",
    "    def computeGradients(self, X, y):\n",
    "        dJdW1, dJdW2 = self.costFunctionPrime(X, y)\n",
    "        return np.concatenate((dJdW1.ravel(), dJdW2.ravel()))"
   ]
  },
  {
   "cell_type": "code",
   "execution_count": 9,
   "metadata": {},
   "outputs": [],
   "source": [
    "def computeNumericalGradient(N, X, y):\n",
    "    paramsInitial = N.getParams()\n",
    "    numgrad = np.zeros(paramsInitial.shape)\n",
    "    perturb = np.zeros(paramsInitial.shape)\n",
    "    e = 1e-4\n",
    "\n",
    "    for p in range(len(paramsInitial)):\n",
    "        #Set perturbation vector\n",
    "        perturb[p] = e\n",
    "        N.setParams(paramsInitial + perturb)\n",
    "        loss2 = N.costFunction(X, y)\n",
    "            \n",
    "        N.setParams(paramsInitial - perturb)\n",
    "        loss1 = N.costFunction(X, y)\n",
    "\n",
    "        #Compute Numerical Gradient\n",
    "        numgrad[p] = (loss2 - loss1) / (2*e)\n",
    "\n",
    "            #Return the value we changed to zero:\n",
    "        perturb[p] = 0\n",
    "            \n",
    "    #Return Params to original value:\n",
    "    N.setParams(paramsInitial)\n",
    "\n",
    "    return numgrad "
   ]
  },
  {
   "cell_type": "code",
   "execution_count": 10,
   "metadata": {},
   "outputs": [],
   "source": [
    "NN = Neural_Network(Lambda=0.0001)"
   ]
  },
  {
   "cell_type": "code",
   "execution_count": 11,
   "metadata": {},
   "outputs": [],
   "source": [
    "#Make sure our gradients our correct after making changes:\n",
    "numgrad = computeNumericalGradient(NN, X, y)\n",
    "grad = NN.computeGradients(X,y)"
   ]
  },
  {
   "cell_type": "code",
   "execution_count": 12,
   "metadata": {},
   "outputs": [
    {
     "data": {
      "text/plain": [
       "4.5885806496981775e-10"
      ]
     },
     "execution_count": 12,
     "metadata": {},
     "output_type": "execute_result"
    }
   ],
   "source": [
    "#Should be less than 1e-8:\n",
    "np.linalg.norm(grad-numgrad)/np.linalg.norm(grad+numgrad)"
   ]
  },
  {
   "cell_type": "code",
   "execution_count": 13,
   "metadata": {},
   "outputs": [],
   "source": [
    "T = trainer(NN)"
   ]
  },
  {
   "cell_type": "code",
   "execution_count": 14,
   "metadata": {},
   "outputs": [
    {
     "name": "stdout",
     "output_type": "stream",
     "text": [
      "Warning: Maximum number of iterations has been exceeded.\n",
      "         Current function value: 0.013183\n",
      "         Iterations: 100\n",
      "         Function evaluations: 102\n",
      "         Gradient evaluations: 102\n"
     ]
    }
   ],
   "source": [
    "T.train(X,y,testX,testY)"
   ]
  },
  {
   "cell_type": "code",
   "execution_count": 15,
   "metadata": {},
   "outputs": [
    {
     "data": {
      "image/png": "[encoded data removed]",
      "text/plain": [
       "<Figure size 432x288 with 1 Axes>"
      ]
     },
     "metadata": {
      "needs_background": "light"
     },
     "output_type": "display_data"
    }
   ],
   "source": [
    "plot.plot(T.J)\n",
    "plot.plot(T.testJ)\n",
    "plot.grid(1)\n",
    "plot.xlabel('Iterations')\n",
    "plot.ylabel('Cost')\n",
    "plot.legend(['Training', 'Testing'])\n",
    "plot.show()"
   ]
  },
  {
   "cell_type": "code",
   "execution_count": 16,
   "metadata": {},
   "outputs": [
    {
     "data": {
      "text/plain": [
       "[array([0.02432128]),\n",
       " array([0.02373006]),\n",
       " array([0.02296323]),\n",
       " array([0.0228626]),\n",
       " array([0.02281375]),\n",
       " array([0.0224372]),\n",
       " array([0.02180292]),\n",
       " array([0.02067642]),\n",
       " array([0.01866627]),\n",
       " array([0.0159999]),\n",
       " array([0.01599086]),\n",
       " array([0.01597623]),\n",
       " array([0.01596253]),\n",
       " array([0.01595548]),\n",
       " array([0.01594257]),\n",
       " array([0.01591913]),\n",
       " array([0.01587854]),\n",
       " array([0.01581565]),\n",
       " array([0.01574963]),\n",
       " array([0.01568996]),\n",
       " array([0.01561192]),\n",
       " array([0.0154977]),\n",
       " array([0.01529409]),\n",
       " array([0.0149312]),\n",
       " array([0.01437653]),\n",
       " array([0.01407864]),\n",
       " array([0.01404293]),\n",
       " array([0.0139787]),\n",
       " array([0.01388735]),\n",
       " array([0.01385801]),\n",
       " array([0.01385434]),\n",
       " array([0.0138524]),\n",
       " array([0.01385188]),\n",
       " array([0.01385088]),\n",
       " array([0.01384899]),\n",
       " array([0.01384541]),\n",
       " array([0.01383874]),\n",
       " array([0.01382663]),\n",
       " array([0.01380566]),\n",
       " array([0.01377181]),\n",
       " array([0.01372018]),\n",
       " array([0.01364244]),\n",
       " array([0.01353881]),\n",
       " array([0.01351449]),\n",
       " array([0.0134789]),\n",
       " array([0.01344538]),\n",
       " array([0.01341873]),\n",
       " array([0.01340593]),\n",
       " array([0.0133952]),\n",
       " array([0.0133942]),\n",
       " array([0.01339382]),\n",
       " array([0.01339369]),\n",
       " array([0.01339359]),\n",
       " array([0.01339339]),\n",
       " array([0.01339303]),\n",
       " array([0.01339236]),\n",
       " array([0.01339111]),\n",
       " array([0.01338883]),\n",
       " array([0.01338476]),\n",
       " array([0.01337778]),\n",
       " array([0.01336649]),\n",
       " array([0.01334937]),\n",
       " array([0.01332795]),\n",
       " array([0.01330006]),\n",
       " array([0.01327786]),\n",
       " array([0.01326399]),\n",
       " array([0.01325677]),\n",
       " array([0.01325554]),\n",
       " array([0.01325403]),\n",
       " array([0.0132536]),\n",
       " array([0.01325345]),\n",
       " array([0.01325326]),\n",
       " array([0.01325295]),\n",
       " array([0.01325238]),\n",
       " array([0.01325135]),\n",
       " array([0.01324945]),\n",
       " array([0.01324602]),\n",
       " array([0.01324001]),\n",
       " array([0.0132304]),\n",
       " array([0.01321943]),\n",
       " array([0.01321485]),\n",
       " array([0.01321027]),\n",
       " array([0.01320411]),\n",
       " array([0.01319617]),\n",
       " array([0.01319479]),\n",
       " array([0.01319382]),\n",
       " array([0.01319372]),\n",
       " array([0.01319369]),\n",
       " array([0.01319368]),\n",
       " array([0.01319367]),\n",
       " array([0.01319364]),\n",
       " array([0.01319358]),\n",
       " array([0.01319346]),\n",
       " array([0.01319325]),\n",
       " array([0.01319287]),\n",
       " array([0.01319224]),\n",
       " array([0.01319125]),\n",
       " array([0.01318982]),\n",
       " array([0.01318741]),\n",
       " array([0.0131832])]"
      ]
     },
     "execution_count": 16,
     "metadata": {},
     "output_type": "execute_result"
    }
   ],
   "source": [
    "T.J"
   ]
  },
  {
   "cell_type": "code",
   "execution_count": 17,
   "metadata": {},
   "outputs": [
    {
     "data": {
      "text/plain": [
       "[array([0.01805778]),\n",
       " array([0.01659532]),\n",
       " array([0.0139286]),\n",
       " array([0.01314752]),\n",
       " array([0.01297019]),\n",
       " array([0.01225716]),\n",
       " array([0.01190693]),\n",
       " array([0.01195584]),\n",
       " array([0.01227241]),\n",
       " array([0.01233366]),\n",
       " array([0.01248864]),\n",
       " array([0.01244639]),\n",
       " array([0.01238631]),\n",
       " array([0.01236309]),\n",
       " array([0.0123361]),\n",
       " array([0.01230218]),\n",
       " array([0.0122627]),\n",
       " array([0.01223183]),\n",
       " array([0.01223435]),\n",
       " array([0.01224969]),\n",
       " array([0.01228272]),\n",
       " array([0.01236029]),\n",
       " array([0.01251581]),\n",
       " array([0.01283482]),\n",
       " array([0.01368688]),\n",
       " array([0.01468876]),\n",
       " array([0.0147431]),\n",
       " array([0.0147885]),\n",
       " array([0.01473384]),\n",
       " array([0.0148943]),\n",
       " array([0.01494853]),\n",
       " array([0.01506386]),\n",
       " array([0.01505443]),\n",
       " array([0.01504654]),\n",
       " array([0.01503516]),\n",
       " array([0.01501682]),\n",
       " array([0.01498551]),\n",
       " array([0.0149299]),\n",
       " array([0.01482856]),\n",
       " array([0.01464483]),\n",
       " array([0.01435043]),\n",
       " array([0.01403239]),\n",
       " array([0.01376305]),\n",
       " array([0.01420974]),\n",
       " array([0.0140746]),\n",
       " array([0.013924]),\n",
       " array([0.01368446]),\n",
       " array([0.0136351]),\n",
       " array([0.01346025]),\n",
       " array([0.01349589]),\n",
       " array([0.01349906]),\n",
       " array([0.01351736]),\n",
       " array([0.01353174]),\n",
       " array([0.01354652]),\n",
       " array([0.01356353]),\n",
       " array([0.01358536]),\n",
       " array([0.0136154]),\n",
       " array([0.01365844]),\n",
       " array([0.01372085]),\n",
       " array([0.01380978]),\n",
       " array([0.01392858]),\n",
       " array([0.01406493]),\n",
       " array([0.01414526]),\n",
       " array([0.01411157]),\n",
       " array([0.01393508]),\n",
       " array([0.01370975]),\n",
       " array([0.01358039]),\n",
       " array([0.01351534]),\n",
       " array([0.01359811]),\n",
       " array([0.01364226]),\n",
       " array([0.01364686]),\n",
       " array([0.0136437]),\n",
       " array([0.01363729]),\n",
       " array([0.01362887]),\n",
       " array([0.01361825]),\n",
       " array([0.01360489]),\n",
       " array([0.0135888]),\n",
       " array([0.01357143]),\n",
       " array([0.01355298]),\n",
       " array([0.01350239]),\n",
       " array([0.01349846]),\n",
       " array([0.01344495]),\n",
       " array([0.01352429]),\n",
       " array([0.0135941]),\n",
       " array([0.01365305]),\n",
       " array([0.01359826]),\n",
       " array([0.01359257]),\n",
       " array([0.01358833]),\n",
       " array([0.01358735]),\n",
       " array([0.01358641]),\n",
       " array([0.01358529]),\n",
       " array([0.01358377]),\n",
       " array([0.01358158]),\n",
       " array([0.01357831]),\n",
       " array([0.01357341]),\n",
       " array([0.01356631]),\n",
       " array([0.01355721]),\n",
       " array([0.01355009]),\n",
       " array([0.01354902]),\n",
       " array([0.01355959])]"
      ]
     },
     "execution_count": 17,
     "metadata": {},
     "output_type": "execute_result"
    }
   ],
   "source": [
    "T.testJ"
   ]
  },
  {
   "cell_type": "code",
   "execution_count": 18,
   "metadata": {},
   "outputs": [
    {
     "data": {
      "text/plain": [
       "0.0016581530116401072"
      ]
     },
     "execution_count": 18,
     "metadata": {},
     "output_type": "execute_result"
    }
   ],
   "source": [
    "from sklearn.metrics import mean_absolute_error\n",
    "mean_absolute_error(T.J, T.testJ)"
   ]
  },
  {
   "cell_type": "code",
   "execution_count": 19,
   "metadata": {},
   "outputs": [],
   "source": [
    "yHat=NN.forward(X)"
   ]
  },
  {
   "cell_type": "code",
   "execution_count": 20,
   "metadata": {},
   "outputs": [
    {
     "data": {
      "text/plain": [
       "array([[0.36374897],\n",
       "       [0.33306375],\n",
       "       [0.3967438 ],\n",
       "       [0.39490134],\n",
       "       [0.39381221],\n",
       "       [0.42831292],\n",
       "       [0.44039106],\n",
       "       [0.44067017],\n",
       "       [0.38453908],\n",
       "       [0.39754432],\n",
       "       [0.42955515],\n",
       "       [0.3719477 ],\n",
       "       [0.27141808],\n",
       "       [0.28274303],\n",
       "       [0.33945186],\n",
       "       [0.32124347],\n",
       "       [0.32749779],\n",
       "       [0.30184627],\n",
       "       [0.25840496],\n",
       "       [0.34493817],\n",
       "       [0.34280687],\n",
       "       [0.38653912],\n",
       "       [0.42765696],\n",
       "       [0.41188253],\n",
       "       [0.36792223],\n",
       "       [0.38283889],\n",
       "       [0.42842593],\n",
       "       [0.41536828],\n",
       "       [0.4057859 ],\n",
       "       [0.3488699 ],\n",
       "       [0.48299416],\n",
       "       [0.47812933],\n",
       "       [0.48309215],\n",
       "       [0.55466206],\n",
       "       [0.56499478],\n",
       "       [0.58890651],\n",
       "       [0.59105601],\n",
       "       [0.56503572],\n",
       "       [0.62731906],\n",
       "       [0.68997788],\n",
       "       [0.66544262],\n",
       "       [0.6156393 ],\n",
       "       [0.76748267],\n",
       "       [0.73874207],\n",
       "       [0.70115256],\n",
       "       [0.73958454],\n",
       "       [0.68547927],\n",
       "       [0.63131273],\n",
       "       [0.58898561],\n",
       "       [0.51366847],\n",
       "       [0.61506967],\n",
       "       [0.64224336],\n",
       "       [0.54613392],\n",
       "       [0.54077515],\n",
       "       [0.6287982 ],\n",
       "       [0.59142484],\n",
       "       [0.59852364],\n",
       "       [0.61843892],\n",
       "       [0.59516281],\n",
       "       [0.56890663]])"
      ]
     },
     "execution_count": 20,
     "metadata": {},
     "output_type": "execute_result"
    }
   ],
   "source": [
    "yHat"
   ]
  },
  {
   "cell_type": "code",
   "execution_count": 21,
   "metadata": {},
   "outputs": [
    {
     "data": {
      "text/plain": [
       "array([[0.42299539],\n",
       "       [0.42478065],\n",
       "       [0.32205711],\n",
       "       [0.46046559],\n",
       "       [0.16668864],\n",
       "       [0.40174469],\n",
       "       [0.31647817],\n",
       "       [0.27086271],\n",
       "       [0.31251205],\n",
       "       [0.36909266],\n",
       "       [0.20575138],\n",
       "       [0.17619313],\n",
       "       [0.29041944],\n",
       "       [0.24090886],\n",
       "       [0.27408835],\n",
       "       [0.37090835],\n",
       "       [0.05869047],\n",
       "       [0.40032459],\n",
       "       [0.28999341],\n",
       "       [0.30771415],\n",
       "       [0.42915251],\n",
       "       [0.44062484],\n",
       "       [0.35804636],\n",
       "       [0.2957245 ],\n",
       "       [0.4914135 ],\n",
       "       [0.35624081],\n",
       "       [0.54105594],\n",
       "       [0.15752904],\n",
       "       [0.55294416],\n",
       "       [0.51433788],\n",
       "       [0.44121317],\n",
       "       [0.58940001],\n",
       "       [0.67707055],\n",
       "       [0.67615763],\n",
       "       [0.69694172],\n",
       "       [0.58293858],\n",
       "       [0.61114774],\n",
       "       [0.7834559 ],\n",
       "       [0.93566973],\n",
       "       [0.28699092],\n",
       "       [1.        ],\n",
       "       [0.84997718],\n",
       "       [0.62600801],\n",
       "       [0.93614647],\n",
       "       [0.85846731],\n",
       "       [0.70258153],\n",
       "       [0.6646853 ],\n",
       "       [0.38417609],\n",
       "       [0.50844449],\n",
       "       [0.70605062],\n",
       "       [0.62566313],\n",
       "       [0.31006745],\n",
       "       [0.71815185],\n",
       "       [0.58129533],\n",
       "       [0.59084039],\n",
       "       [0.64112187],\n",
       "       [0.70009636],\n",
       "       [0.61497185],\n",
       "       [0.591378  ],\n",
       "       [0.32      ]])"
      ]
     },
     "execution_count": 21,
     "metadata": {},
     "output_type": "execute_result"
    }
   ],
   "source": [
    "y"
   ]
  },
  {
   "cell_type": "code",
   "execution_count": 22,
   "metadata": {},
   "outputs": [
    {
     "data": {
      "image/png": "[encoded data removed]",
      "text/plain": [
       "<Figure size 432x288 with 1 Axes>"
      ]
     },
     "metadata": {
      "needs_background": "light"
     },
     "output_type": "display_data"
    }
   ],
   "source": [
    "#Plot cost during training:\n",
    "plot.plot(y)\n",
    "plot.plot(yHat)\n",
    "plot.grid(1)\n",
    "plot.legend(['y', 'yHat'])\n",
    "plot.show()"
   ]
  },
  {
   "cell_type": "code",
   "execution_count": 23,
   "metadata": {},
   "outputs": [],
   "source": [
    "prediksi=NN.forward(dataprediksi)"
   ]
  },
  {
   "cell_type": "code",
   "execution_count": 24,
   "metadata": {},
   "outputs": [
    {
     "data": {
      "text/plain": [
       "array([[0.64458444],\n",
       "       [0.65543026],\n",
       "       [0.609745  ],\n",
       "       [0.42263089]])"
      ]
     },
     "execution_count": 24,
     "metadata": {},
     "output_type": "execute_result"
    }
   ],
   "source": [
    "prediksi"
   ]
  },
  {
   "cell_type": "code",
   "execution_count": 25,
   "metadata": {},
   "outputs": [],
   "source": [
    "from sklearn.metrics import mean_squared_error "
   ]
  },
  {
   "cell_type": "code",
   "execution_count": 26,
   "metadata": {},
   "outputs": [
    {
     "data": {
      "text/plain": [
       "0.1213145263644831"
      ]
     },
     "execution_count": 26,
     "metadata": {},
     "output_type": "execute_result"
    }
   ],
   "source": [
    "Y_true= ([\t0.50\t]\t,\n",
    "[\t0.415539889\t]\t,\n",
    "[\t0\t]\t,\n",
    "[\t0.235502358\t]\t,\n",
    "\n",
    ")\n",
    "\n",
    "\n",
    "Y_pred=prediksi\n",
    "mean_squared_error(Y_true,Y_pred) "
   ]
  },
  {
   "cell_type": "code",
   "execution_count": 27,
   "metadata": {},
   "outputs": [
    {
     "data": {
      "text/plain": [
       "array([[0.79538041, 0.591378  , 0.32      ],\n",
       "       [1.        , 0.32      , 0.5       ],\n",
       "       [0.70768171, 0.5       , 0.41553989],\n",
       "       [0.49169532, 0.41553989, 0.        ]])"
      ]
     },
     "execution_count": 27,
     "metadata": {},
     "output_type": "execute_result"
    }
   ],
   "source": [
    "dataprediksi"
   ]
  },
  {
   "cell_type": "code",
   "execution_count": 8,
   "metadata": {},
   "outputs": [],
   "source": [
    "z=np.array([0.51319034])"
   ]
  },
  {
   "cell_type": "code",
   "execution_count": 9,
   "metadata": {},
   "outputs": [],
   "source": [
    "y=np.array([0\t,\t0.235502358\t])"
   ]
  },
  {
   "cell_type": "code",
   "execution_count": 10,
   "metadata": {},
   "outputs": [],
   "source": [
    "a=np.concatenate((z,y))"
   ]
  },
  {
   "cell_type": "code",
   "execution_count": 11,
   "metadata": {},
   "outputs": [
    {
     "data": {
      "text/plain": [
       "array([0.04617805])"
      ]
     },
     "execution_count": 11,
     "metadata": {},
     "output_type": "execute_result"
    }
   ],
   "source": [
    "#prediksi 1\n",
    "prediksi=NN.forward(a)\n",
    "prediksi"
   ]
  },
  {
   "cell_type": "code",
   "execution_count": 12,
   "metadata": {},
   "outputs": [
    {
     "data": {
      "text/plain": [
       "array([0.09579511])"
      ]
     },
     "execution_count": 12,
     "metadata": {},
     "output_type": "execute_result"
    }
   ],
   "source": [
    "#prediksi 2\n",
    "c=prediksi\n",
    "z1=np.array([0.48673204])\n",
    "b=y[1:]\n",
    "d=np.concatenate((z1,b,c))\n",
    "prediksi=NN.forward(d)\n",
    "prediksi"
   ]
  },
  {
   "cell_type": "code",
   "execution_count": 13,
   "metadata": {},
   "outputs": [
    {
     "data": {
      "text/plain": [
       "array([0.11613135])"
      ]
     },
     "execution_count": 13,
     "metadata": {},
     "output_type": "execute_result"
    }
   ],
   "source": [
    "#prediksi 3\n",
    "c=prediksi\n",
    "z2=np.array([0.43012934])\n",
    "b=y[1:]\n",
    "d=np.concatenate((z2,b,c))\n",
    "prediksi=NN.forward(d)\n",
    "prediksi"
   ]
  },
  {
   "cell_type": "code",
   "execution_count": 14,
   "metadata": {},
   "outputs": [
    {
     "data": {
      "text/plain": [
       "array([0.12420559])"
      ]
     },
     "execution_count": 14,
     "metadata": {},
     "output_type": "execute_result"
    }
   ],
   "source": [
    "#prediksi 4\n",
    "c=prediksi\n",
    "z3=np.array([0.41357631])\n",
    "b=y[1:]\n",
    "d=np.concatenate((z3,b,c))\n",
    "prediksi=NN.forward(d)\n",
    "prediksi"
   ]
  },
  {
   "cell_type": "code",
   "execution_count": 15,
   "metadata": {},
   "outputs": [
    {
     "data": {
      "text/plain": [
       "array([0.12498938])"
      ]
     },
     "execution_count": 15,
     "metadata": {},
     "output_type": "execute_result"
    }
   ],
   "source": [
    "#prediksi 5\n",
    "c=prediksi\n",
    "z4=np.array([0.41626853])\n",
    "b=y[1:]\n",
    "d=np.concatenate((z4,b,c))\n",
    "prediksi=NN.forward(d)\n",
    "prediksi"
   ]
  },
  {
   "cell_type": "code",
   "execution_count": 16,
   "metadata": {},
   "outputs": [
    {
     "data": {
      "text/plain": [
       "array([0.12605885])"
      ]
     },
     "execution_count": 16,
     "metadata": {},
     "output_type": "execute_result"
    }
   ],
   "source": [
    "#prediksi 6\n",
    "c=prediksi\n",
    "z5=np.array([0.41314695])\n",
    "b=y[1:]\n",
    "d=np.concatenate((z5,b,c))\n",
    "prediksi=NN.forward(d)\n",
    "prediksi"
   ]
  },
  {
   "cell_type": "code",
   "execution_count": null,
   "metadata": {},
   "outputs": [],
   "source": []
  }
 ],
 "metadata": {
  "kernelspec": {
   "display_name": "Python 3",
   "language": "python",
   "name": "python3"
  },
  "language_info": {
   "codemirror_mode": {
    "name": "ipython",
    "version": 3
   },
   "file_extension": ".py",
   "mimetype": "text/x-python",
   "name": "python",
   "nbconvert_exporter": "python",
   "pygments_lexer": "ipython3",
   "version": "3.7.3"
  }
 },
 "nbformat": 4,
 "nbformat_minor": 2
}
