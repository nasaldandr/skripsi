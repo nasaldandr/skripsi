{
 "cells": [
  {
   "cell_type": "code",
   "execution_count": 1,
   "metadata": {},
   "outputs": [],
   "source": [
    "import numpy as np"
   ]
  },
  {
   "cell_type": "code",
   "execution_count": 2,
   "metadata": {},
   "outputs": [],
   "source": [
    "#UNTUK NILAI IMPOR\n",
    "class Neural_Network(object):\n",
    "    def __init__(self):\n",
    "        #parameters\n",
    "        self.inputLayerSize = 4\n",
    "        self.outputLayerSize = 1\n",
    "        self.hiddenLayerSize = 4\n",
    "\n",
    "        #weights\n",
    "        self.W1 = np.random.randn(self.inputLayerSize,\\\n",
    "                                 self.hiddenLayerSize)  \n",
    "        self.W2 = np.random.randn(self.hiddenLayerSize,\\\n",
    "                                 self.outputLayerSize)  \n",
    "    \n",
    "    def printw(self):\n",
    "        return self.W1\n",
    "        \n",
    "    def weight(self, W1, W2):\n",
    "        #Make an internal variable for the weight:\n",
    "        self.W1 = W1\n",
    "        self.W2 = W2\n",
    "        \n",
    "    def forward(self, X):\n",
    "        #forward propagation through our network\n",
    "        self.z2 = np.dot(X,self.W1)  \n",
    "        self.a2 = self.tanh(self.z2)  # activation function\n",
    "        self.z3 = np.dot(self.a2, self.W2) \n",
    "        yHat = self.tanh(self.z3)  # final activation function\n",
    "        return yHat\n",
    "\n",
    "    def tanh(self, z):\n",
    "        # activation function\n",
    "        return (np.exp(z)-np.exp(-z))/(np.exp(z)+np.exp(-z))\n",
    "    \n",
    "    def tanhPrime(self,z): \n",
    "        #derivative of tanh\n",
    "        return 1-((np.exp(z)-np.exp(-z))/(np.exp(z)+np.exp(-z)))**2\n",
    "    \n",
    "    def costFunction(self,X,y):\n",
    "        self.yHat = self.forward(X)\n",
    "        J=0.5*sum((y-self.yHat)**2)\n",
    "        return J\n",
    "    \n",
    "    def costFunctionPrime(self,X,y):\n",
    "        self.yHat=self.forward(X)\n",
    "        \n",
    "        delta3=np.multiply(-(y-self.yHat),self.tanhPrime(self.z3))\n",
    "        dJdW2=np.dot(self.a2.T,delta3)\n",
    "        \n",
    "        delta2=np.dot(delta3,self.W2.T)*self.tanhPrime(self.z2)\n",
    "        dJdW1=np.dot(X.T,delta2)\n",
    "        return dJdW1,dJdW2\n",
    "    \n",
    "    def predict(self):\n",
    "        prediksi = self.forward(dataprediksi)\n",
    "        return prediksi\n",
    "    \n",
    "    def getParams(self):\n",
    "        params=np.concatenate((self.W1.ravel(),self.W2.ravel()))\n",
    "        return params\n",
    "    \n",
    "    def setParams(self,params):\n",
    "        W1_start=0\n",
    "        W1_end=self.hiddenLayerSize*self.inputLayerSize\n",
    "        self.W1=np.reshape(params[W1_start:W1_end],\\\n",
    "                          (self.inputLayerSize,self.hiddenLayerSize))\n",
    "        W2_end=W1_end+self.hiddenLayerSize*self.outputLayerSize\n",
    "        self.W2=np.reshape(params[W1_end:W2_end],\\\n",
    "                          (self.hiddenLayerSize,self.outputLayerSize))\n",
    "        \n",
    "    def computeGradients(self, X, y):\n",
    "        dJdW1, dJdW2 = self.costFunctionPrime(X, y)\n",
    "        return np.concatenate((dJdW1.ravel(), dJdW2.ravel()))"
   ]
  },
  {
   "cell_type": "code",
   "execution_count": 3,
   "metadata": {},
   "outputs": [],
   "source": [
    "NN = Neural_Network()"
   ]
  },
  {
   "cell_type": "code",
   "execution_count": 4,
   "metadata": {},
   "outputs": [
    {
     "data": {
      "text/plain": [
       "array([[-0.23076184,  1.36911013, -0.35891659, -0.78174695],\n",
       "       [ 0.26718356, -0.29703137, -0.61938187,  0.17376563],\n",
       "       [ 1.65700594,  1.03362672,  1.63076367, -0.18174537],\n",
       "       [-0.27379443,  0.32820357, -0.04469596, -0.78075939]])"
      ]
     },
     "execution_count": 4,
     "metadata": {},
     "output_type": "execute_result"
    }
   ],
   "source": [
    "NN.W1"
   ]
  },
  {
   "cell_type": "code",
   "execution_count": 5,
   "metadata": {},
   "outputs": [
    {
     "data": {
      "text/plain": [
       "array([[-1.54236767],\n",
       "       [ 0.04541484],\n",
       "       [-0.44640595],\n",
       "       [ 2.21070717]])"
      ]
     },
     "execution_count": 5,
     "metadata": {},
     "output_type": "execute_result"
    }
   ],
   "source": [
    "NN.W2"
   ]
  },
  {
   "cell_type": "code",
   "execution_count": 6,
   "metadata": {},
   "outputs": [],
   "source": [
    "#NILAI IMPOR\n",
    "X=np.array(([\t0.436619718\t,\t0.148319042\t,\t0.423360552\t,\t0.311558554\t]\t,\n",
    "[\t0.570422535\t,\t0.112113419\t,\t0.311558554\t,\t0.422995385\t]\t,\n",
    "[\t0.669014085\t,\t0.170734062\t,\t0.422995385\t,\t0.424780646\t]\t,\n",
    "[\t0.697183099\t,\t0.223256598\t,\t0.424780646\t,\t0.322057108\t]\t,\n",
    "[\t0.971830986\t,\t0.241974687\t,\t0.322057108\t,\t0.460465588\t]\t,\n",
    "[\t0.591549296\t,\t0.365733465\t,\t0.460465588\t,\t0.166688644\t]\t,\n",
    "[\t0.281690141\t,\t0.552558994\t,\t0.166688644\t,\t0.401744687\t]\t,\n",
    "[\t0.26056338\t,\t0.370023519\t,\t0.401744687\t,\t0.316478166\t]\t,\n",
    "[\t0.464788732\t,\t0.332531703\t,\t0.316478166\t,\t0.270862707\t]\t,\n",
    "[\t0.992957746\t,\t0.387887522\t,\t0.270862707\t,\t0.312512045\t]\t,\n",
    "[\t0.676056338\t,\t0.398363943\t,\t0.312512045\t,\t0.369092661\t]\t,\n",
    "[\t0.253521127\t,\t0.284826299\t,\t0.369092661\t,\t0.205751382\t]\t,\n",
    "[\t0.450704225\t,\t0.186735022\t,\t0.205751382\t,\t0.176193133\t]\t,\n",
    "[\t0\t,\t0.182694768\t,\t0.176193133\t,\t0.290419435\t]\t,\n",
    "[\t0.485915493\t,\t0.255617002\t,\t0.290419435\t,\t0.24090886\t]\t,\n",
    "[\t0.781690141\t,\t0.23597043\t,\t0.24090886\t,\t0.27408835\t]\t,\n",
    "[\t0.802816901\t,\t0.164134134\t,\t0.27408835\t,\t0.370908353\t]\t,\n",
    "[\t0.302816901\t,\t0.178176635\t,\t0.370908353\t,\t0.05869047\t]\t,\n",
    "[\t0.471830986\t,\t0.163956101\t,\t0.05869047\t,\t0.400324593\t]\t,\n",
    "[\t0.415492958\t,\t0.133241484\t,\t0.400324593\t,\t0.289993407\t]\t,\n",
    "[\t0.647887324\t,\t0.226399017\t,\t0.289993407\t,\t0.307714155\t]\t,\n",
    "[\t0.612676056\t,\t0.255013861\t,\t0.307714155\t,\t0.429152508\t]\t,\n",
    "[\t1\t,\t0.23708614\t,\t0.429152508\t,\t0.440624842\t]\t,\n",
    "[\t0.478873239\t,\t0.231651119\t,\t0.440624842\t,\t0.358046356\t]\t,\n",
    "[\t0.302816901\t,\t0.233067608\t,\t0.358046356\t,\t0.295724502\t]\t,\n",
    "[\t0.38028169\t,\t0.221173719\t,\t0.295724502\t,\t0.491413501\t]\t,\n",
    "[\t0.591549296\t,\t0.22633168\t,\t0.491413501\t,\t0.356240807\t]\t,\n",
    "[\t0.802816901\t,\t0.218698642\t,\t0.356240807\t,\t0.541055942\t]\t,\n",
    "[\t0.471830986\t,\t0.232032203\t,\t0.541055942\t,\t0.157529036\t]\t,\n",
    "[\t0.267605634\t,\t0.231947948\t,\t0.157529036\t,\t0.55294416\t]\t,\n",
    "[\t0.408450704\t,\t0.221547817\t,\t0.55294416\t,\t0.514337881\t]\t,\n",
    "[\t0.323943662\t,\t0.287958581\t,\t0.514337881\t,\t0.441213166\t]\t,\n",
    "[\t0.457746479\t,\t0.28837327\t,\t0.441213166\t,\t0.58940001\t]\t,\n",
    "[\t0.816901408\t,\t0.297145757\t,\t0.58940001\t,\t0.677070548\t]\t,\n",
    "[\t0.753521127\t,\t0.243669818\t,\t0.677070548\t,\t0.67615763\t]\t,\n",
    "[\t0.436619718\t,\t0.307437314\t,\t0.67615763\t,\t0.696941725\t]\t,\n",
    "[\t0.457746479\t,\t0.358597855\t,\t0.696941725\t,\t0.582938581\t]\t,\n",
    "[\t0.387323944\t,\t0.372181217\t,\t0.582938581\t,\t0.611147741\t]\t,\n",
    "[\t0.464788732\t,\t0.450259481\t,\t0.611147741\t,\t0.783455901\t]\t,\n",
    "[\t0.732394366\t,\t0.443095634\t,\t0.783455901\t,\t0.935669727\t]\t,\n",
    "[\t0.514084507\t,\t0.558155976\t,\t0.935669727\t,\t0.286990922\t]\t,\n",
    "[\t0.281690141\t,\t0.602359827\t,\t0.286990922\t,\t1\t]\t,\n",
    "[\t0.190140845\t,\t0.696291723\t,\t1\t,\t0.849977177\t]\t,\n",
    "[\t0.514084507\t,\t0.790604671\t,\t0.849977177\t,\t0.626008013\t]\t,\n",
    "[\t0.507042254\t,\t0.644022227\t,\t0.626008013\t,\t0.936146473\t]\t,\n",
    "[\t0.753521127\t,\t0.583228643\t,\t0.936146473\t,\t0.858467312\t]\t,\n",
    "[\t0.542253521\t,\t0.481715009\t,\t0.858467312\t,\t0.702581529\t]\t,\n",
    "[\t0.26056338\t,\t0.442812107\t,\t0.702581529\t,\t0.664685297\t]\t,\n",
    "[\t0.394366197\t,\t0.496270585\t,\t0.664685297\t,\t0.384176092\t]\t,\n",
    "[\t0.626760563\t,\t0.475463393\t,\t0.384176092\t,\t0.50844449\t]\t,\n",
    "[\t0.795774648\t,\t0.551559791\t,\t0.50844449\t,\t0.706050616\t]\t,\n",
    "[\t0.704225352\t,\t0.500994351\t,\t0.706050616\t,\t0.625663133\t]\t,\n",
    "[\t0.535211268\t,\t0.445458587\t,\t0.625663133\t,\t0.310067454\t]\t,\n",
    "[\t0.401408451\t,\t0.505711667\t,\t0.310067454\t,\t0.718151849\t]\t,\n",
    "[\t0.126760563\t,\t0.465889036\t,\t0.718151849\t,\t0.581295329\t]\t,\n",
    "[\t0.330985915\t,\t0.46785659\t,\t0.581295329\t,\t0.590840392\t]\t,\n",
    "[\t0.415492958\t,\t0.453001423\t,\t0.590840392\t,\t0.641121875\t]\t,\n",
    "[\t0.556338028\t,\t0.437411724\t,\t0.641121875\t,\t0.700096364\t]\t,\n",
    "[\t0.591549296\t,\t0.350673696\t,\t0.700096364\t,\t0.614971852\t]\t,\n",
    "[\t0.514084507\t,\t0.364031312\t,\t0.614971852\t,\t0.591377999\t]\t,\n",
    "\n",
    ")           \n",
    ",dtype=float)\n",
    "y=np.array(([\t0.422995385\t]\t,\n",
    "[\t0.424780646\t]\t,\n",
    "[\t0.322057108\t]\t,\n",
    "[\t0.460465588\t]\t,\n",
    "[\t0.166688644\t]\t,\n",
    "[\t0.401744687\t]\t,\n",
    "[\t0.316478166\t]\t,\n",
    "[\t0.270862707\t]\t,\n",
    "[\t0.312512045\t]\t,\n",
    "[\t0.369092661\t]\t,\n",
    "[\t0.205751382\t]\t,\n",
    "[\t0.176193133\t]\t,\n",
    "[\t0.290419435\t]\t,\n",
    "[\t0.24090886\t]\t,\n",
    "[\t0.27408835\t]\t,\n",
    "[\t0.370908353\t]\t,\n",
    "[\t0.05869047\t]\t,\n",
    "[\t0.400324593\t]\t,\n",
    "[\t0.289993407\t]\t,\n",
    "[\t0.307714155\t]\t,\n",
    "[\t0.429152508\t]\t,\n",
    "[\t0.440624842\t]\t,\n",
    "[\t0.358046356\t]\t,\n",
    "[\t0.295724502\t]\t,\n",
    "[\t0.491413501\t]\t,\n",
    "[\t0.356240807\t]\t,\n",
    "[\t0.541055942\t]\t,\n",
    "[\t0.157529036\t]\t,\n",
    "[\t0.55294416\t]\t,\n",
    "[\t0.514337881\t]\t,\n",
    "[\t0.441213166\t]\t,\n",
    "[\t0.58940001\t]\t,\n",
    "[\t0.677070548\t]\t,\n",
    "[\t0.67615763\t]\t,\n",
    "[\t0.696941725\t]\t,\n",
    "[\t0.582938581\t]\t,\n",
    "[\t0.611147741\t]\t,\n",
    "[\t0.783455901\t]\t,\n",
    "[\t0.935669727\t]\t,\n",
    "[\t0.286990922\t]\t,\n",
    "[\t1\t]\t,\n",
    "[\t0.849977177\t]\t,\n",
    "[\t0.626008013\t]\t,\n",
    "[\t0.936146473\t]\t,\n",
    "[\t0.858467312\t]\t,\n",
    "[\t0.702581529\t]\t,\n",
    "[\t0.664685297\t]\t,\n",
    "[\t0.384176092\t]\t,\n",
    "[\t0.50844449\t]\t,\n",
    "[\t0.706050616\t]\t,\n",
    "[\t0.625663133\t]\t,\n",
    "[\t0.310067454\t]\t,\n",
    "[\t0.718151849\t]\t,\n",
    "[\t0.581295329\t]\t,\n",
    "[\t0.590840392\t]\t,\n",
    "[\t0.641121875\t]\t,\n",
    "[\t0.700096364\t]\t,\n",
    "[\t0.614971852\t]\t,\n",
    "[\t0.591377999\t]\t,\n",
    "[\t0.32\t]\t,\n",
    "\n",
    ")\n",
    ",dtype=float)\n",
    "\n",
    "dataprediksi = np.array(([\t0.387323944\t,\t0.795380412\t,\t0.591377999\t,\t0.32\t]\t,\n",
    "[\t0.373239437\t,\t1\t,\t0.32\t,\t0.50\t]\t,\n",
    "[\t0.366197183\t,\t0.707681705\t,\t0.50\t,\t0.415539889\t]\t,\n",
    "[\t0.443661972\t,\t0.491695324\t,\t0.415539889\t,\t0\t]\t,\n",
    "\n",
    "), dtype=float)\n"
   ]
  },
  {
   "cell_type": "code",
   "execution_count": 7,
   "metadata": {},
   "outputs": [],
   "source": [
    "import matplotlib.pyplot as plot"
   ]
  },
  {
   "cell_type": "code",
   "execution_count": 8,
   "metadata": {},
   "outputs": [],
   "source": [
    "from scipy import optimize"
   ]
  },
  {
   "cell_type": "code",
   "execution_count": 9,
   "metadata": {},
   "outputs": [],
   "source": [
    "class trainer(object):\n",
    "    def __init__(self, N):\n",
    "        #Make Local reference to network:\n",
    "        self.N = N\n",
    "        \n",
    "    def callbackF(self, params):\n",
    "        self.N.setParams(params)\n",
    "        self.J.append(self.N.costFunction(self.X, self.y))   \n",
    "        \n",
    "    def costFunctionWrapper(self, params, X, y):\n",
    "        self.N.setParams(params)\n",
    "        cost = self.N.costFunction(X, y)\n",
    "        grad = self.N.computeGradients(X,y)\n",
    "        \n",
    "        return cost, grad\n",
    "        \n",
    "    def train(self, X, y):\n",
    "        #Make an internal variable for the callback function:\n",
    "        self.X = X\n",
    "        self.y = y\n",
    "\n",
    "        #Make empty list to store costs:\n",
    "        self.J = []\n",
    "        \n",
    "        params0 = self.N.getParams()\n",
    "\n",
    "        options = {'maxiter': 100, 'disp' : True}\n",
    "        _res = optimize.minimize(self.costFunctionWrapper, params0, jac=True, method='BFGS', \\\n",
    "                                 args=(X, y), options=options, callback=self.callbackF)\n",
    "\n",
    "        self.N.setParams(_res.x)\n",
    "        self.optimizationResults = _res"
   ]
  },
  {
   "cell_type": "code",
   "execution_count": 10,
   "metadata": {},
   "outputs": [],
   "source": [
    "NN=Neural_Network()"
   ]
  },
  {
   "cell_type": "code",
   "execution_count": 11,
   "metadata": {},
   "outputs": [],
   "source": [
    "T = trainer(NN)"
   ]
  },
  {
   "cell_type": "code",
   "execution_count": 12,
   "metadata": {},
   "outputs": [
    {
     "name": "stdout",
     "output_type": "stream",
     "text": [
      "Warning: Maximum number of iterations has been exceeded.\n",
      "         Current function value: 0.447017\n",
      "         Iterations: 100\n",
      "         Function evaluations: 109\n",
      "         Gradient evaluations: 109\n"
     ]
    }
   ],
   "source": [
    "#Train network with new data:\n",
    "T = trainer(NN)\n",
    "T.train(X,y)"
   ]
  },
  {
   "cell_type": "code",
   "execution_count": 13,
   "metadata": {},
   "outputs": [
    {
     "data": {
      "image/png": "[encoded data removed]",
      "text/plain": [
       "<Figure size 432x288 with 1 Axes>"
      ]
     },
     "metadata": {
      "needs_background": "light"
     },
     "output_type": "display_data"
    }
   ],
   "source": [
    "#Plot cost during training:\n",
    "plot.plot(T.J)\n",
    "plot.grid(1)\n",
    "plot.xlabel('Iterations')\n",
    "plot.ylabel('Cost')\n",
    "plot.show()"
   ]
  },
  {
   "cell_type": "code",
   "execution_count": 14,
   "metadata": {},
   "outputs": [],
   "source": [
    "#Training Data:\n",
    "trainX = np.array(([\t0.436619718\t,\t0.148319042\t,\t0.423360552\t,\t0.311558554\t]\t,\n",
    "[\t0.570422535\t,\t0.112113419\t,\t0.311558554\t,\t0.422995385\t]\t,\n",
    "[\t0.669014085\t,\t0.170734062\t,\t0.422995385\t,\t0.424780646\t]\t,\n",
    "[\t0.697183099\t,\t0.223256598\t,\t0.424780646\t,\t0.322057108\t]\t,\n",
    "[\t0.971830986\t,\t0.241974687\t,\t0.322057108\t,\t0.460465588\t]\t,\n",
    "[\t0.591549296\t,\t0.365733465\t,\t0.460465588\t,\t0.166688644\t]\t,\n",
    "[\t0.281690141\t,\t0.552558994\t,\t0.166688644\t,\t0.401744687\t]\t,\n",
    "[\t0.26056338\t,\t0.370023519\t,\t0.401744687\t,\t0.316478166\t]\t,\n",
    "[\t0.464788732\t,\t0.332531703\t,\t0.316478166\t,\t0.270862707\t]\t,\n",
    "[\t0.992957746\t,\t0.387887522\t,\t0.270862707\t,\t0.312512045\t]\t,\n",
    "[\t0.676056338\t,\t0.398363943\t,\t0.312512045\t,\t0.369092661\t]\t,\n",
    "[\t0.253521127\t,\t0.284826299\t,\t0.369092661\t,\t0.205751382\t]\t,\n",
    "[\t0.450704225\t,\t0.186735022\t,\t0.205751382\t,\t0.176193133\t]\t,\n",
    "[\t0\t,\t0.182694768\t,\t0.176193133\t,\t0.290419435\t]\t,\n",
    "[\t0.485915493\t,\t0.255617002\t,\t0.290419435\t,\t0.24090886\t]\t,\n",
    "[\t0.781690141\t,\t0.23597043\t,\t0.24090886\t,\t0.27408835\t]\t,\n",
    "[\t0.802816901\t,\t0.164134134\t,\t0.27408835\t,\t0.370908353\t]\t,\n",
    "[\t0.302816901\t,\t0.178176635\t,\t0.370908353\t,\t0.05869047\t]\t,\n",
    "[\t0.471830986\t,\t0.163956101\t,\t0.05869047\t,\t0.400324593\t]\t,\n",
    "[\t0.415492958\t,\t0.133241484\t,\t0.400324593\t,\t0.289993407\t]\t,\n",
    "[\t0.647887324\t,\t0.226399017\t,\t0.289993407\t,\t0.307714155\t]\t,\n",
    "[\t0.612676056\t,\t0.255013861\t,\t0.307714155\t,\t0.429152508\t]\t,\n",
    "[\t1\t,\t0.23708614\t,\t0.429152508\t,\t0.440624842\t]\t,\n",
    "[\t0.478873239\t,\t0.231651119\t,\t0.440624842\t,\t0.358046356\t]\t,\n",
    "[\t0.302816901\t,\t0.233067608\t,\t0.358046356\t,\t0.295724502\t]\t,\n",
    "[\t0.38028169\t,\t0.221173719\t,\t0.295724502\t,\t0.491413501\t]\t,\n",
    "[\t0.591549296\t,\t0.22633168\t,\t0.491413501\t,\t0.356240807\t]\t,\n",
    "[\t0.802816901\t,\t0.218698642\t,\t0.356240807\t,\t0.541055942\t]\t,\n",
    "[\t0.471830986\t,\t0.232032203\t,\t0.541055942\t,\t0.157529036\t]\t,\n",
    "[\t0.267605634\t,\t0.231947948\t,\t0.157529036\t,\t0.55294416\t]\t,\n",
    "[\t0.408450704\t,\t0.221547817\t,\t0.55294416\t,\t0.514337881\t]\t,\n",
    "[\t0.323943662\t,\t0.287958581\t,\t0.514337881\t,\t0.441213166\t]\t,\n",
    "[\t0.457746479\t,\t0.28837327\t,\t0.441213166\t,\t0.58940001\t]\t,\n",
    "[\t0.816901408\t,\t0.297145757\t,\t0.58940001\t,\t0.677070548\t]\t,\n",
    "[\t0.753521127\t,\t0.243669818\t,\t0.677070548\t,\t0.67615763\t]\t,\n",
    "[\t0.436619718\t,\t0.307437314\t,\t0.67615763\t,\t0.696941725\t]\t,\n",
    "[\t0.457746479\t,\t0.358597855\t,\t0.696941725\t,\t0.582938581\t]\t,\n",
    "[\t0.387323944\t,\t0.372181217\t,\t0.582938581\t,\t0.611147741\t]\t,\n",
    "[\t0.464788732\t,\t0.450259481\t,\t0.611147741\t,\t0.783455901\t]\t,\n",
    "[\t0.732394366\t,\t0.443095634\t,\t0.783455901\t,\t0.935669727\t]\t,\n",
    "[\t0.514084507\t,\t0.558155976\t,\t0.935669727\t,\t0.286990922\t]\t,\n",
    "[\t0.281690141\t,\t0.602359827\t,\t0.286990922\t,\t1\t]\t,\n",
    "[\t0.190140845\t,\t0.696291723\t,\t1\t,\t0.849977177\t]\t,\n",
    "[\t0.514084507\t,\t0.790604671\t,\t0.849977177\t,\t0.626008013\t]\t,\n",
    "[\t0.507042254\t,\t0.644022227\t,\t0.626008013\t,\t0.936146473\t]\t,\n",
    "[\t0.753521127\t,\t0.583228643\t,\t0.936146473\t,\t0.858467312\t]\t,\n",
    "[\t0.542253521\t,\t0.481715009\t,\t0.858467312\t,\t0.702581529\t]\t,\n",
    "\n",
    ")\n",
    ", dtype=float)\n",
    "trainY = np.array(([\t0.422995385\t]\t,\n",
    "[\t0.424780646\t]\t,\n",
    "[\t0.322057108\t]\t,\n",
    "[\t0.460465588\t]\t,\n",
    "[\t0.166688644\t]\t,\n",
    "[\t0.401744687\t]\t,\n",
    "[\t0.316478166\t]\t,\n",
    "[\t0.270862707\t]\t,\n",
    "[\t0.312512045\t]\t,\n",
    "[\t0.369092661\t]\t,\n",
    "[\t0.205751382\t]\t,\n",
    "[\t0.176193133\t]\t,\n",
    "[\t0.290419435\t]\t,\n",
    "[\t0.24090886\t]\t,\n",
    "[\t0.27408835\t]\t,\n",
    "[\t0.370908353\t]\t,\n",
    "[\t0.05869047\t]\t,\n",
    "[\t0.400324593\t]\t,\n",
    "[\t0.289993407\t]\t,\n",
    "[\t0.307714155\t]\t,\n",
    "[\t0.429152508\t]\t,\n",
    "[\t0.440624842\t]\t,\n",
    "[\t0.358046356\t]\t,\n",
    "[\t0.295724502\t]\t,\n",
    "[\t0.491413501\t]\t,\n",
    "[\t0.356240807\t]\t,\n",
    "[\t0.541055942\t]\t,\n",
    "[\t0.157529036\t]\t,\n",
    "[\t0.55294416\t]\t,\n",
    "[\t0.514337881\t]\t,\n",
    "[\t0.441213166\t]\t,\n",
    "[\t0.58940001\t]\t,\n",
    "[\t0.677070548\t]\t,\n",
    "[\t0.67615763\t]\t,\n",
    "[\t0.696941725\t]\t,\n",
    "[\t0.582938581\t]\t,\n",
    "[\t0.611147741\t]\t,\n",
    "[\t0.783455901\t]\t,\n",
    "[\t0.935669727\t]\t,\n",
    "[\t0.286990922\t]\t,\n",
    "[\t1\t]\t,\n",
    "[\t0.849977177\t]\t,\n",
    "[\t0.626008013\t]\t,\n",
    "[\t0.936146473\t]\t,\n",
    "[\t0.858467312\t]\t,\n",
    "[\t0.702581529\t]\t,\n",
    "[\t0.664685297\t]\t,\n",
    "\n",
    ")\n",
    ", dtype=float)\n",
    "\n",
    "#Testing Data:\n",
    "testX = np.array(([\t0.26056338\t,\t0.442812107\t,\t0.702581529\t,\t0.664685297\t]\t,\n",
    "[\t0.394366197\t,\t0.496270585\t,\t0.664685297\t,\t0.384176092\t]\t,\n",
    "[\t0.626760563\t,\t0.475463393\t,\t0.384176092\t,\t0.50844449\t]\t,\n",
    "[\t0.795774648\t,\t0.551559791\t,\t0.50844449\t,\t0.706050616\t]\t,\n",
    "[\t0.704225352\t,\t0.500994351\t,\t0.706050616\t,\t0.625663133\t]\t,\n",
    "[\t0.535211268\t,\t0.445458587\t,\t0.625663133\t,\t0.310067454\t]\t,\n",
    "[\t0.401408451\t,\t0.505711667\t,\t0.310067454\t,\t0.718151849\t]\t,\n",
    "[\t0.126760563\t,\t0.465889036\t,\t0.718151849\t,\t0.581295329\t]\t,\n",
    "[\t0.330985915\t,\t0.46785659\t,\t0.581295329\t,\t0.590840392\t]\t,\n",
    "[\t0.415492958\t,\t0.453001423\t,\t0.590840392\t,\t0.641121875\t]\t,\n",
    "[\t0.556338028\t,\t0.437411724\t,\t0.641121875\t,\t0.700096364\t]\t,\n",
    "[\t0.591549296\t,\t0.350673696\t,\t0.700096364\t,\t0.614971852\t]\t,\n",
    "[\t0.514084507\t,\t0.364031312\t,\t0.614971852\t,\t0.591377999\t]\t,\n",
    "\n",
    ")\n",
    ", dtype=float)\n",
    "testY = np.array(([\t0.384176092\t]\t,\n",
    "[\t0.50844449\t]\t,\n",
    "[\t0.706050616\t]\t,\n",
    "[\t0.625663133\t]\t,\n",
    "[\t0.310067454\t]\t,\n",
    "[\t0.718151849\t]\t,\n",
    "[\t0.581295329\t]\t,\n",
    "[\t0.590840392\t]\t,\n",
    "[\t0.641121875\t]\t,\n",
    "[\t0.700096364\t]\t,\n",
    "[\t0.614971852\t]\t,\n",
    "[\t0.591377999\t]\t,\n",
    "[\t0.32\t]\t,\n",
    "\n",
    "\n",
    ")\n",
    ", dtype=float)\n",
    "\n",
    "\n",
    "dataprediksi = np.array(([\t0.387323944\t,\t0.795380412\t,\t0.591377999\t,\t0.32\t]\t,\n",
    "[\t0.373239437\t,\t1\t,\t0.32\t,\t0.50\t]\t,\n",
    "[\t0.366197183\t,\t0.707681705\t,\t0.50\t,\t0.415539889\t]\t,\n",
    "[\t0.443661972\t,\t0.491695324\t,\t0.415539889\t,\t0\t]\t,\n",
    "\n",
    "), dtype=float)"
   ]
  },
  {
   "cell_type": "code",
   "execution_count": 15,
   "metadata": {},
   "outputs": [
    {
     "data": {
      "text/plain": [
       "array([[0.26056338, 0.44281211, 0.70258153, 0.6646853 ],\n",
       "       [0.3943662 , 0.49627058, 0.6646853 , 0.38417609],\n",
       "       [0.62676056, 0.47546339, 0.38417609, 0.50844449],\n",
       "       [0.79577465, 0.55155979, 0.50844449, 0.70605062],\n",
       "       [0.70422535, 0.50099435, 0.70605062, 0.62566313],\n",
       "       [0.53521127, 0.44545859, 0.62566313, 0.31006745],\n",
       "       [0.40140845, 0.50571167, 0.31006745, 0.71815185],\n",
       "       [0.12676056, 0.46588904, 0.71815185, 0.58129533],\n",
       "       [0.33098592, 0.46785659, 0.58129533, 0.59084039],\n",
       "       [0.41549296, 0.45300142, 0.59084039, 0.64112187],\n",
       "       [0.55633803, 0.43741172, 0.64112187, 0.70009636],\n",
       "       [0.5915493 , 0.3506737 , 0.70009636, 0.61497185],\n",
       "       [0.51408451, 0.36403131, 0.61497185, 0.591378  ]])"
      ]
     },
     "execution_count": 15,
     "metadata": {},
     "output_type": "execute_result"
    }
   ],
   "source": [
    "testX"
   ]
  },
  {
   "cell_type": "code",
   "execution_count": 16,
   "metadata": {},
   "outputs": [],
   "source": [
    "##Need to modify trainer class a bit to check testing error during training:\n",
    "class trainer(object):\n",
    "    def __init__(self, N):\n",
    "        #Make Local reference to network:\n",
    "        self.N = N\n",
    "        \n",
    "    def callbackF(self, params):\n",
    "        self.N.setParams(params)\n",
    "        self.J.append(self.N.costFunction(self.X, self.y))\n",
    "        self.testJ.append(self.N.costFunction(self.testX, self.testY))\n",
    "        \n",
    "    def costFunctionWrapper(self, params, X, y):\n",
    "        self.N.setParams(params)\n",
    "        cost = self.N.costFunction(X, y)\n",
    "        grad = self.N.computeGradients(X,y)\n",
    "        \n",
    "        return cost, grad\n",
    "        \n",
    "    def train(self, trainX, trainY, testX, testY):\n",
    "        #Make an internal variable for the callback function:\n",
    "        self.X = trainX\n",
    "        self.y = trainY\n",
    "        \n",
    "        self.testX = testX\n",
    "        self.testY = testY\n",
    "\n",
    "        #Make empty list to store training costs:\n",
    "        self.J = []\n",
    "        self.testJ = []\n",
    "        \n",
    "        params0 = self.N.getParams()\n",
    "\n",
    "        options = {'maxiter': 100, 'disp' : True}\n",
    "        _res = optimize.minimize(self.costFunctionWrapper, params0, jac=True, method='BFGS', \\\n",
    "                                 args=(trainX, trainY), options=options, callback=self.callbackF)\n",
    "\n",
    "        self.N.setParams(_res.x)\n",
    "        self.optimizationResults = _res"
   ]
  },
  {
   "cell_type": "code",
   "execution_count": 17,
   "metadata": {},
   "outputs": [
    {
     "name": "stdout",
     "output_type": "stream",
     "text": [
      "Warning: Maximum number of iterations has been exceeded.\n",
      "         Current function value: 0.323641\n",
      "         Iterations: 100\n",
      "         Function evaluations: 121\n",
      "         Gradient evaluations: 121\n"
     ]
    }
   ],
   "source": [
    "#Train network with new data:\n",
    "NN = Neural_Network()\n",
    "\n",
    "T = trainer(NN)\n",
    "T.train(trainX, trainY, testX, testY)"
   ]
  },
  {
   "cell_type": "code",
   "execution_count": 18,
   "metadata": {},
   "outputs": [
    {
     "data": {
      "image/png": "[encoded data removed]",
      "text/plain": [
       "<Figure size 432x288 with 1 Axes>"
      ]
     },
     "metadata": {
      "needs_background": "light"
     },
     "output_type": "display_data"
    }
   ],
   "source": [
    "#Plot cost during training:\n",
    "plot.plot(T.J)\n",
    "plot.plot(T.testJ)\n",
    "plot.grid(1)\n",
    "plot.xlabel('Iterations')\n",
    "plot.ylabel('Cost')\n",
    "plot.legend(['Training', 'Testing'])\n",
    "plot.show()"
   ]
  },
  {
   "cell_type": "code",
   "execution_count": 19,
   "metadata": {},
   "outputs": [
    {
     "data": {
      "text/plain": [
       "[array([3.33198941]),\n",
       " array([3.32034633]),\n",
       " array([1.99991022]),\n",
       " array([1.82496533]),\n",
       " array([0.89400694]),\n",
       " array([0.70878948]),\n",
       " array([0.68871929]),\n",
       " array([0.65499344]),\n",
       " array([0.60457268]),\n",
       " array([0.5682296]),\n",
       " array([0.54285349]),\n",
       " array([0.52911784]),\n",
       " array([0.52469184]),\n",
       " array([0.52086762]),\n",
       " array([0.51462978]),\n",
       " array([0.50726171]),\n",
       " array([0.50684083]),\n",
       " array([0.50607085]),\n",
       " array([0.50464388]),\n",
       " array([0.50208241]),\n",
       " array([0.49785487]),\n",
       " array([0.49186636]),\n",
       " array([0.48622827]),\n",
       " array([0.48295176]),\n",
       " array([0.47790435]),\n",
       " array([0.46887696]),\n",
       " array([0.46428376]),\n",
       " array([0.45623536]),\n",
       " array([0.44325438]),\n",
       " array([0.43543833]),\n",
       " array([0.42641292]),\n",
       " array([0.42085014]),\n",
       " array([0.41238677]),\n",
       " array([0.39976533]),\n",
       " array([0.38916796]),\n",
       " array([0.386146]),\n",
       " array([0.38380783]),\n",
       " array([0.38044458]),\n",
       " array([0.37470269]),\n",
       " array([0.3655044]),\n",
       " array([0.3565626]),\n",
       " array([0.35569666]),\n",
       " array([0.35467996]),\n",
       " array([0.35413253]),\n",
       " array([0.35369036]),\n",
       " array([0.35336719]),\n",
       " array([0.35279541]),\n",
       " array([0.35180855]),\n",
       " array([0.3502888]),\n",
       " array([0.34873337]),\n",
       " array([0.34764238]),\n",
       " array([0.34665995]),\n",
       " array([0.34636315]),\n",
       " array([0.34592958]),\n",
       " array([0.34542822]),\n",
       " array([0.34461033]),\n",
       " array([0.34329264]),\n",
       " array([0.34168896]),\n",
       " array([0.34111993]),\n",
       " array([0.34033787]),\n",
       " array([0.33953381]),\n",
       " array([0.33905335]),\n",
       " array([0.33883626]),\n",
       " array([0.33846134]),\n",
       " array([0.33781843]),\n",
       " array([0.3369395]),\n",
       " array([0.3363808]),\n",
       " array([0.33588713]),\n",
       " array([0.33565417]),\n",
       " array([0.33541868]),\n",
       " array([0.33522465]),\n",
       " array([0.3349038]),\n",
       " array([0.33437968]),\n",
       " array([0.33362028]),\n",
       " array([0.33301487]),\n",
       " array([0.33278323]),\n",
       " array([0.33269816]),\n",
       " array([0.33260457]),\n",
       " array([0.33234221]),\n",
       " array([0.33191229]),\n",
       " array([0.33132388]),\n",
       " array([0.33099455]),\n",
       " array([0.33066321]),\n",
       " array([0.33013735]),\n",
       " array([0.32947738]),\n",
       " array([0.32922355]),\n",
       " array([0.32896767]),\n",
       " array([0.32888583]),\n",
       " array([0.32875941]),\n",
       " array([0.32864715]),\n",
       " array([0.32858325]),\n",
       " array([0.32848392]),\n",
       " array([0.32832278]),\n",
       " array([0.3280296]),\n",
       " array([0.32746829]),\n",
       " array([0.32679444]),\n",
       " array([0.326029]),\n",
       " array([0.32499429]),\n",
       " array([0.32408595]),\n",
       " array([0.32364124])]"
      ]
     },
     "execution_count": 19,
     "metadata": {},
     "output_type": "execute_result"
    }
   ],
   "source": [
    "T.J"
   ]
  },
  {
   "cell_type": "code",
   "execution_count": 20,
   "metadata": {},
   "outputs": [
    {
     "data": {
      "text/plain": [
       "[array([0.36662134]),\n",
       " array([0.38179572]),\n",
       " array([0.40052704]),\n",
       " array([0.39499416]),\n",
       " array([0.30605708]),\n",
       " array([0.32396658]),\n",
       " array([0.23547417]),\n",
       " array([0.20620768]),\n",
       " array([0.19014639]),\n",
       " array([0.22607729]),\n",
       " array([0.21352257]),\n",
       " array([0.19227243]),\n",
       " array([0.20118537]),\n",
       " array([0.20362532]),\n",
       " array([0.20455634]),\n",
       " array([0.20326978]),\n",
       " array([0.20024806]),\n",
       " array([0.20034503]),\n",
       " array([0.20062404]),\n",
       " array([0.20068643]),\n",
       " array([0.20058338]),\n",
       " array([0.19990526]),\n",
       " array([0.20257045]),\n",
       " array([0.1908578]),\n",
       " array([0.19957234]),\n",
       " array([0.2111285]),\n",
       " array([0.21856175]),\n",
       " array([0.21841313]),\n",
       " array([0.21903729]),\n",
       " array([0.21387126]),\n",
       " array([0.20871804]),\n",
       " array([0.20641275]),\n",
       " array([0.20918153]),\n",
       " array([0.21515051]),\n",
       " array([0.23367325]),\n",
       " array([0.23308038]),\n",
       " array([0.23717793]),\n",
       " array([0.2351728]),\n",
       " array([0.23331649]),\n",
       " array([0.2329623]),\n",
       " array([0.24213167]),\n",
       " array([0.24604074]),\n",
       " array([0.2467776]),\n",
       " array([0.24440852]),\n",
       " array([0.24326378]),\n",
       " array([0.24379183]),\n",
       " array([0.24320837]),\n",
       " array([0.24213976]),\n",
       " array([0.24056696]),\n",
       " array([0.23976806]),\n",
       " array([0.2395405]),\n",
       " array([0.23938485]),\n",
       " array([0.23954784]),\n",
       " array([0.23829193]),\n",
       " array([0.23686021]),\n",
       " array([0.23379231]),\n",
       " array([0.22977315]),\n",
       " array([0.22227098]),\n",
       " array([0.22303985]),\n",
       " array([0.22346003]),\n",
       " array([0.22196906]),\n",
       " array([0.22248591]),\n",
       " array([0.22279158]),\n",
       " array([0.22217906]),\n",
       " array([0.22190984]),\n",
       " array([0.22308417]),\n",
       " array([0.222646]),\n",
       " array([0.22472625]),\n",
       " array([0.22558042]),\n",
       " array([0.22735311]),\n",
       " array([0.23029673]),\n",
       " array([0.23296596]),\n",
       " array([0.23730986]),\n",
       " array([0.24225469]),\n",
       " array([0.24718215]),\n",
       " array([0.24626442]),\n",
       " array([0.24525133]),\n",
       " array([0.24527231]),\n",
       " array([0.24573409]),\n",
       " array([0.24555311]),\n",
       " array([0.24297425]),\n",
       " array([0.24253959]),\n",
       " array([0.24015658]),\n",
       " array([0.2393246]),\n",
       " array([0.24321905]),\n",
       " array([0.24567998]),\n",
       " array([0.24816159]),\n",
       " array([0.24984545]),\n",
       " array([0.24908288]),\n",
       " array([0.24806368]),\n",
       " array([0.24736133]),\n",
       " array([0.24626521]),\n",
       " array([0.24447824]),\n",
       " array([0.24172063]),\n",
       " array([0.2371493]),\n",
       " array([0.22824951]),\n",
       " array([0.22819051]),\n",
       " array([0.22593034]),\n",
       " array([0.22402112]),\n",
       " array([0.22960088])]"
      ]
     },
     "execution_count": 20,
     "metadata": {},
     "output_type": "execute_result"
    }
   ],
   "source": [
    "T.testJ"
   ]
  },
  {
   "cell_type": "code",
   "execution_count": 21,
   "metadata": {},
   "outputs": [
    {
     "data": {
      "text/plain": [
       "0.25061040754939684"
      ]
     },
     "execution_count": 21,
     "metadata": {},
     "output_type": "execute_result"
    }
   ],
   "source": [
    "from sklearn.metrics import mean_absolute_error\n",
    "mean_absolute_error(T.J, T.testJ)"
   ]
  },
  {
   "cell_type": "code",
   "execution_count": 22,
   "metadata": {},
   "outputs": [],
   "source": [
    "yHat = NN.forward(X)"
   ]
  },
  {
   "cell_type": "code",
   "execution_count": 23,
   "metadata": {},
   "outputs": [
    {
     "data": {
      "text/plain": [
       "array([[0.43683631],\n",
       "       [0.34787019],\n",
       "       [0.41943414],\n",
       "       [0.4327297 ],\n",
       "       [0.20402574],\n",
       "       [0.50933843],\n",
       "       [0.33771797],\n",
       "       [0.43075462],\n",
       "       [0.33196836],\n",
       "       [0.38748804],\n",
       "       [0.31249179],\n",
       "       [0.35561653],\n",
       "       [0.20900095],\n",
       "       [0.40023874],\n",
       "       [0.30220149],\n",
       "       [0.24094578],\n",
       "       [0.19564254],\n",
       "       [0.36298793],\n",
       "       [0.19270989],\n",
       "       [0.41422346],\n",
       "       [0.27324181],\n",
       "       [0.29789849],\n",
       "       [0.34008231],\n",
       "       [0.4686506 ],\n",
       "       [0.39906614],\n",
       "       [0.52950447],\n",
       "       [0.51466246],\n",
       "       [0.27689965],\n",
       "       [0.59301343],\n",
       "       [0.62659323],\n",
       "       [0.52308801],\n",
       "       [0.53033797],\n",
       "       [0.58223086],\n",
       "       [0.51706249],\n",
       "       [0.53292327],\n",
       "       [0.58853239],\n",
       "       [0.59480925],\n",
       "       [0.62730978],\n",
       "       [0.71130494],\n",
       "       [0.61443357],\n",
       "       [0.84648082],\n",
       "       [0.77609695],\n",
       "       [0.62600537],\n",
       "       [0.77232152],\n",
       "       [0.79117829],\n",
       "       [0.72099732],\n",
       "       [0.66266284],\n",
       "       [0.6313633 ],\n",
       "       [0.65577678],\n",
       "       [0.36786557],\n",
       "       [0.43488085],\n",
       "       [0.66954463],\n",
       "       [0.64746113],\n",
       "       [0.67503235],\n",
       "       [0.5623187 ],\n",
       "       [0.65172888],\n",
       "       [0.65492102],\n",
       "       [0.63677842],\n",
       "       [0.61131348],\n",
       "       [0.60067605]])"
      ]
     },
     "execution_count": 23,
     "metadata": {},
     "output_type": "execute_result"
    }
   ],
   "source": [
    "yHat"
   ]
  },
  {
   "cell_type": "code",
   "execution_count": 24,
   "metadata": {},
   "outputs": [
    {
     "data": {
      "text/plain": [
       "array([[0.42299539],\n",
       "       [0.42478065],\n",
       "       [0.32205711],\n",
       "       [0.46046559],\n",
       "       [0.16668864],\n",
       "       [0.40174469],\n",
       "       [0.31647817],\n",
       "       [0.27086271],\n",
       "       [0.31251205],\n",
       "       [0.36909266],\n",
       "       [0.20575138],\n",
       "       [0.17619313],\n",
       "       [0.29041944],\n",
       "       [0.24090886],\n",
       "       [0.27408835],\n",
       "       [0.37090835],\n",
       "       [0.05869047],\n",
       "       [0.40032459],\n",
       "       [0.28999341],\n",
       "       [0.30771415],\n",
       "       [0.42915251],\n",
       "       [0.44062484],\n",
       "       [0.35804636],\n",
       "       [0.2957245 ],\n",
       "       [0.4914135 ],\n",
       "       [0.35624081],\n",
       "       [0.54105594],\n",
       "       [0.15752904],\n",
       "       [0.55294416],\n",
       "       [0.51433788],\n",
       "       [0.44121317],\n",
       "       [0.58940001],\n",
       "       [0.67707055],\n",
       "       [0.67615763],\n",
       "       [0.69694172],\n",
       "       [0.58293858],\n",
       "       [0.61114774],\n",
       "       [0.7834559 ],\n",
       "       [0.93566973],\n",
       "       [0.28699092],\n",
       "       [1.        ],\n",
       "       [0.84997718],\n",
       "       [0.62600801],\n",
       "       [0.93614647],\n",
       "       [0.85846731],\n",
       "       [0.70258153],\n",
       "       [0.6646853 ],\n",
       "       [0.38417609],\n",
       "       [0.50844449],\n",
       "       [0.70605062],\n",
       "       [0.62566313],\n",
       "       [0.31006745],\n",
       "       [0.71815185],\n",
       "       [0.58129533],\n",
       "       [0.59084039],\n",
       "       [0.64112187],\n",
       "       [0.70009636],\n",
       "       [0.61497185],\n",
       "       [0.591378  ],\n",
       "       [0.32      ]])"
      ]
     },
     "execution_count": 24,
     "metadata": {},
     "output_type": "execute_result"
    }
   ],
   "source": [
    "y"
   ]
  },
  {
   "cell_type": "code",
   "execution_count": 25,
   "metadata": {},
   "outputs": [
    {
     "data": {
      "text/plain": [
       "0.018441404145313808"
      ]
     },
     "execution_count": 25,
     "metadata": {},
     "output_type": "execute_result"
    }
   ],
   "source": [
    "from sklearn.metrics import mean_squared_error \n",
    "mean_squared_error(y,yHat) "
   ]
  },
  {
   "cell_type": "code",
   "execution_count": 26,
   "metadata": {},
   "outputs": [
    {
     "data": {
      "image/png": "[encoded data removed]",
      "text/plain": [
       "<Figure size 432x288 with 1 Axes>"
      ]
     },
     "metadata": {
      "needs_background": "light"
     },
     "output_type": "display_data"
    }
   ],
   "source": [
    "#Plot cost during training:\n",
    "plot.plot(y)\n",
    "plot.plot(yHat)\n",
    "plot.grid(1)\n",
    "plot.legend(['y', 'yHat'])\n",
    "plot.show()"
   ]
  },
  {
   "cell_type": "code",
   "execution_count": 27,
   "metadata": {},
   "outputs": [],
   "source": [
    "#Regularization Parameter:\n",
    "Lambda = 0.0001"
   ]
  },
  {
   "cell_type": "code",
   "execution_count": 28,
   "metadata": {},
   "outputs": [],
   "source": [
    "#Need to make changes to costFunction and costFunctionPrim:\n",
    "def costFunction(self, X, y):\n",
    "    #Compute cost for given X,y, use weights already stored in class.\n",
    "    self.yHat = self.forward(X)\n",
    "    #We don't want cost to increase with the number of examples, so normalize by dividing the error term by number of examples(X.shape[0])\n",
    "    J = 0.5*sum((y-self.yHat)**2)/X.shape[0] + (self.Lambda/2)*(sum(self.W1**2)+sum(self.W2**2))\n",
    "    return J\n",
    "\n",
    "def costFunctionPrime(self, X, y):\n",
    "    #Compute derivative with respect to W and W2 for a given X and y:\n",
    "    self.yHat = self.forward(X)\n",
    "\n",
    "    delta3 = np.multiply(-(y-self.yHat), self.tanhPrime(self.z3))\n",
    "    #Add gradient of regularization term:\n",
    "    dJdW2 = np.dot(self.a2.T, delta3)/X.shape[0] + self.Lambda*self.W2\n",
    "\n",
    "    delta2 = np.dot(delta3, self.W2.T)*self.tanhPrime(self.z2)\n",
    "    #Add gradient of regularization term:\n",
    "    dJdW1 = np.dot(X.T, delta2)/X.shape[0] + self.Lambda*self.W1\n",
    "\n",
    "    return dJdW1, dJdW2"
   ]
  },
  {
   "cell_type": "code",
   "execution_count": 29,
   "metadata": {},
   "outputs": [],
   "source": [
    "#New complete class, with changes:\n",
    "class Neural_Network(object):\n",
    "    def __init__(self, Lambda=0.0001):        \n",
    "        #Define Hyperparameters\n",
    "        self.inputLayerSize = 4\n",
    "        self.outputLayerSize = 1\n",
    "        self.hiddenLayerSize = 4\n",
    "        \n",
    "        #Weights (parameters)\n",
    "        self.W1 = np.random.randn(self.inputLayerSize,self.hiddenLayerSize)\n",
    "        self.W2 = np.random.randn(self.hiddenLayerSize,self.outputLayerSize)\n",
    "        \n",
    "        #Regularization Parameter:\n",
    "        self.Lambda = Lambda\n",
    "        \n",
    "    def forward(self, X):\n",
    "        #Propogate inputs though network\n",
    "        self.z2 = np.dot(X, self.W1)\n",
    "        self.a2 = self.tanh(self.z2)\n",
    "        self.z3 = np.dot(self.a2, self.W2)\n",
    "        yHat = self.tanh(self.z3) \n",
    "        return yHat\n",
    "        \n",
    "    def tanh(self, z):\n",
    "        # activation function\n",
    "        return (np.exp(z)-np.exp(-z))/(np.exp(z)+np.exp(-z))\n",
    "    \n",
    "    def tanhPrime(self,z): \n",
    "        #derivative of tanh\n",
    "        return 1-((np.exp(z)-np.exp(-z))/(np.exp(z)+np.exp(-z)))**2\n",
    "    \n",
    "    def costFunction(self, X, y):\n",
    "        #Compute cost for given X,y, use weights already stored in class.\n",
    "        self.yHat = self.forward(X)\n",
    "        J = 0.5*sum((y-self.yHat)**2)/X.shape[0] + (self.Lambda/2)*(np.sum(self.W1**2)+np.sum(self.W2**2))\n",
    "        return J\n",
    "        \n",
    "    def costFunctionPrime(self, X, y):\n",
    "        #Compute derivative with respect to W and W2 for a given X and y:\n",
    "        self.yHat = self.forward(X)\n",
    "        \n",
    "        delta3 = np.multiply(-(y-self.yHat), self.tanhPrime(self.z3))\n",
    "        #Add gradient of regularization term:\n",
    "        dJdW2 = np.dot(self.a2.T, delta3)/X.shape[0] + self.Lambda*self.W2\n",
    "        \n",
    "        delta2 = np.dot(delta3, self.W2.T)*self.tanhPrime(self.z2)\n",
    "        #Add gradient of regularization term:\n",
    "        dJdW1 = np.dot(X.T, delta2)/X.shape[0] + self.Lambda*self.W1\n",
    "        \n",
    "        return dJdW1, dJdW2\n",
    "    \n",
    "    def predict(self):\n",
    "        prediksi = self.forward(dataprediksi)\n",
    "        return prediksi\n",
    "    \n",
    "    #Helper functions for interacting with other methods/classes\n",
    "    def getParams(self):\n",
    "        #Get W1 and W2 Rolled into vector:\n",
    "        params = np.concatenate((self.W1.ravel(), self.W2.ravel()))\n",
    "        return params\n",
    "    \n",
    "    def setParams(self, params):\n",
    "        #Set W1 and W2 using single parameter vector:\n",
    "        W1_start = 0\n",
    "        W1_end = self.hiddenLayerSize*self.inputLayerSize\n",
    "        self.W1 = np.reshape(params[W1_start:W1_end], \\\n",
    "                             (self.inputLayerSize, self.hiddenLayerSize))\n",
    "        W2_end = W1_end + self.hiddenLayerSize*self.outputLayerSize\n",
    "        self.W2 = np.reshape(params[W1_end:W2_end], \\\n",
    "                             (self.hiddenLayerSize, self.outputLayerSize))\n",
    "        \n",
    "    def computeGradients(self, X, y):\n",
    "        dJdW1, dJdW2 = self.costFunctionPrime(X, y)\n",
    "        return np.concatenate((dJdW1.ravel(), dJdW2.ravel()))"
   ]
  },
  {
   "cell_type": "code",
   "execution_count": 30,
   "metadata": {},
   "outputs": [],
   "source": [
    "def computeNumericalGradient(N, X, y):\n",
    "    paramsInitial = N.getParams()\n",
    "    numgrad = np.zeros(paramsInitial.shape)\n",
    "    perturb = np.zeros(paramsInitial.shape)\n",
    "    e = 1e-4\n",
    "\n",
    "    for p in range(len(paramsInitial)):\n",
    "        #Set perturbation vector\n",
    "        perturb[p] = e\n",
    "        N.setParams(paramsInitial + perturb)\n",
    "        loss2 = N.costFunction(X, y)\n",
    "            \n",
    "        N.setParams(paramsInitial - perturb)\n",
    "        loss1 = N.costFunction(X, y)\n",
    "\n",
    "        #Compute Numerical Gradient\n",
    "        numgrad[p] = (loss2 - loss1) / (2*e)\n",
    "\n",
    "            #Return the value we changed to zero:\n",
    "        perturb[p] = 0\n",
    "            \n",
    "    #Return Params to original value:\n",
    "    N.setParams(paramsInitial)\n",
    "\n",
    "    return numgrad "
   ]
  },
  {
   "cell_type": "code",
   "execution_count": 31,
   "metadata": {},
   "outputs": [],
   "source": [
    "NN = Neural_Network(Lambda=0.0001)"
   ]
  },
  {
   "cell_type": "code",
   "execution_count": 32,
   "metadata": {},
   "outputs": [],
   "source": [
    "#Make sure our gradients our correct after making changes:\n",
    "numgrad = computeNumericalGradient(NN, X, y)\n",
    "grad = NN.computeGradients(X,y)"
   ]
  },
  {
   "cell_type": "code",
   "execution_count": 33,
   "metadata": {},
   "outputs": [
    {
     "data": {
      "text/plain": [
       "1.402304460427931e-09"
      ]
     },
     "execution_count": 33,
     "metadata": {},
     "output_type": "execute_result"
    }
   ],
   "source": [
    "#Should be less than 1e-8:\n",
    "np.linalg.norm(grad-numgrad)/np.linalg.norm(grad+numgrad)"
   ]
  },
  {
   "cell_type": "code",
   "execution_count": 34,
   "metadata": {},
   "outputs": [],
   "source": [
    "T = trainer(NN)"
   ]
  },
  {
   "cell_type": "code",
   "execution_count": 35,
   "metadata": {},
   "outputs": [
    {
     "name": "stdout",
     "output_type": "stream",
     "text": [
      "Warning: Maximum number of iterations has been exceeded.\n",
      "         Current function value: 0.011433\n",
      "         Iterations: 100\n",
      "         Function evaluations: 116\n",
      "         Gradient evaluations: 116\n"
     ]
    }
   ],
   "source": [
    "T.train(X,y,testX,testY)"
   ]
  },
  {
   "cell_type": "code",
   "execution_count": 36,
   "metadata": {},
   "outputs": [
    {
     "data": {
      "image/png": "[encoded data removed]",
      "text/plain": [
       "<Figure size 432x288 with 1 Axes>"
      ]
     },
     "metadata": {
      "needs_background": "light"
     },
     "output_type": "display_data"
    }
   ],
   "source": [
    "plot.plot(T.J)\n",
    "plot.plot(T.testJ)\n",
    "plot.grid(1)\n",
    "plot.xlabel('Iterations')\n",
    "plot.ylabel('Cost')\n",
    "plot.legend(['Training', 'Testing'])\n",
    "plot.show()"
   ]
  },
  {
   "cell_type": "code",
   "execution_count": 37,
   "metadata": {},
   "outputs": [
    {
     "data": {
      "text/plain": [
       "[array([0.01624328]),\n",
       " array([0.01618817]),\n",
       " array([0.01567809]),\n",
       " array([0.01485063]),\n",
       " array([0.01424306]),\n",
       " array([0.01406978]),\n",
       " array([0.01379774]),\n",
       " array([0.01350081]),\n",
       " array([0.0132682]),\n",
       " array([0.01324553]),\n",
       " array([0.01322811]),\n",
       " array([0.01320232]),\n",
       " array([0.01315558]),\n",
       " array([0.01307748]),\n",
       " array([0.0130356]),\n",
       " array([0.0130125]),\n",
       " array([0.0129912]),\n",
       " array([0.01295118]),\n",
       " array([0.0128787]),\n",
       " array([0.01276059]),\n",
       " array([0.01262654]),\n",
       " array([0.01256846]),\n",
       " array([0.01255488]),\n",
       " array([0.01254605]),\n",
       " array([0.01254151]),\n",
       " array([0.01253999]),\n",
       " array([0.01253849]),\n",
       " array([0.01253664]),\n",
       " array([0.0125333]),\n",
       " array([0.01252715]),\n",
       " array([0.0125157]),\n",
       " array([0.01249461]),\n",
       " array([0.01245672]),\n",
       " array([0.01239244]),\n",
       " array([0.01229809]),\n",
       " array([0.01224098]),\n",
       " array([0.01219587]),\n",
       " array([0.01212657]),\n",
       " array([0.01208667]),\n",
       " array([0.01204903]),\n",
       " array([0.01203765]),\n",
       " array([0.01203458]),\n",
       " array([0.01203281]),\n",
       " array([0.01202988]),\n",
       " array([0.01202528]),\n",
       " array([0.012021]),\n",
       " array([0.01201935]),\n",
       " array([0.01201672]),\n",
       " array([0.01201189]),\n",
       " array([0.01200354]),\n",
       " array([0.01199879]),\n",
       " array([0.01199477]),\n",
       " array([0.01199313]),\n",
       " array([0.01199245]),\n",
       " array([0.01199132]),\n",
       " array([0.01198964]),\n",
       " array([0.01198854]),\n",
       " array([0.01198762]),\n",
       " array([0.01198595]),\n",
       " array([0.01198286]),\n",
       " array([0.01197708]),\n",
       " array([0.01196689]),\n",
       " array([0.01195421]),\n",
       " array([0.01193427]),\n",
       " array([0.01190022]),\n",
       " array([0.01185072]),\n",
       " array([0.01182846]),\n",
       " array([0.01181763]),\n",
       " array([0.01181025]),\n",
       " array([0.01180852]),\n",
       " array([0.0118078]),\n",
       " array([0.01180757]),\n",
       " array([0.01180713]),\n",
       " array([0.0118038]),\n",
       " array([0.01179822]),\n",
       " array([0.01178834]),\n",
       " array([0.01177146]),\n",
       " array([0.01174848]),\n",
       " array([0.01171739]),\n",
       " array([0.01167608]),\n",
       " array([0.01165773]),\n",
       " array([0.01163209]),\n",
       " array([0.01162157]),\n",
       " array([0.01161621]),\n",
       " array([0.01160802]),\n",
       " array([0.01159289]),\n",
       " array([0.01157062]),\n",
       " array([0.01155978]),\n",
       " array([0.01154697]),\n",
       " array([0.01154474]),\n",
       " array([0.01154178]),\n",
       " array([0.01154018]),\n",
       " array([0.01153729]),\n",
       " array([0.01153191]),\n",
       " array([0.01152194]),\n",
       " array([0.01150364]),\n",
       " array([0.01147196]),\n",
       " array([0.01144136]),\n",
       " array([0.01143848]),\n",
       " array([0.01143339])]"
      ]
     },
     "execution_count": 37,
     "metadata": {},
     "output_type": "execute_result"
    }
   ],
   "source": [
    "T.J"
   ]
  },
  {
   "cell_type": "code",
   "execution_count": 38,
   "metadata": {},
   "outputs": [
    {
     "data": {
      "text/plain": [
       "[array([0.01816662]),\n",
       " array([0.01796584]),\n",
       " array([0.0177792]),\n",
       " array([0.0173356]),\n",
       " array([0.01646487]),\n",
       " array([0.01622249]),\n",
       " array([0.01559265]),\n",
       " array([0.01435988]),\n",
       " array([0.01308876]),\n",
       " array([0.01281045]),\n",
       " array([0.01280641]),\n",
       " array([0.01259745]),\n",
       " array([0.01264429]),\n",
       " array([0.01289465]),\n",
       " array([0.01355567]),\n",
       " array([0.01336741]),\n",
       " array([0.01338662]),\n",
       " array([0.01345043]),\n",
       " array([0.01357661]),\n",
       " array([0.01378717]),\n",
       " array([0.01383786]),\n",
       " array([0.01334604]),\n",
       " array([0.01329668]),\n",
       " array([0.01336839]),\n",
       " array([0.01344258]),\n",
       " array([0.01348457]),\n",
       " array([0.01350805]),\n",
       " array([0.01352356]),\n",
       " array([0.01353571]),\n",
       " array([0.01354937]),\n",
       " array([0.01356645]),\n",
       " array([0.01359026]),\n",
       " array([0.01362635]),\n",
       " array([0.01368323]),\n",
       " array([0.01368444]),\n",
       " array([0.01399345]),\n",
       " array([0.01340139]),\n",
       " array([0.01379488]),\n",
       " array([0.01448523]),\n",
       " array([0.01421635]),\n",
       " array([0.01377368]),\n",
       " array([0.01385982]),\n",
       " array([0.01390477]),\n",
       " array([0.01392899]),\n",
       " array([0.01394123]),\n",
       " array([0.01388791]),\n",
       " array([0.0138969]),\n",
       " array([0.01380602]),\n",
       " array([0.01371774]),\n",
       " array([0.0135568]),\n",
       " array([0.01342162]),\n",
       " array([0.01340448]),\n",
       " array([0.0134398]),\n",
       " array([0.01345398]),\n",
       " array([0.01349091]),\n",
       " array([0.01353559]),\n",
       " array([0.01356075]),\n",
       " array([0.01354736]),\n",
       " array([0.01352008]),\n",
       " array([0.01347722]),\n",
       " array([0.01340486]),\n",
       " array([0.01326007]),\n",
       " array([0.01299105]),\n",
       " array([0.01291806]),\n",
       " array([0.01277325]),\n",
       " array([0.01271306]),\n",
       " array([0.01288719]),\n",
       " array([0.01318952]),\n",
       " array([0.01314329]),\n",
       " array([0.01321005]),\n",
       " array([0.01324415]),\n",
       " array([0.01327249]),\n",
       " array([0.01328665]),\n",
       " array([0.01336173]),\n",
       " array([0.01343172]),\n",
       " array([0.01348608]),\n",
       " array([0.01350476]),\n",
       " array([0.01340322]),\n",
       " array([0.01333068]),\n",
       " array([0.01372713]),\n",
       " array([0.01365605]),\n",
       " array([0.01347938]),\n",
       " array([0.01328693]),\n",
       " array([0.0134178]),\n",
       " array([0.0133473]),\n",
       " array([0.01324937]),\n",
       " array([0.01296279]),\n",
       " array([0.01290321]),\n",
       " array([0.01299507]),\n",
       " array([0.01316283]),\n",
       " array([0.01304243]),\n",
       " array([0.01298825]),\n",
       " array([0.01293321]),\n",
       " array([0.01287165]),\n",
       " array([0.01279253]),\n",
       " array([0.0126958]),\n",
       " array([0.01263478]),\n",
       " array([0.01269061]),\n",
       " array([0.01263012]),\n",
       " array([0.01267531])]"
      ]
     },
     "execution_count": 38,
     "metadata": {},
     "output_type": "execute_result"
    }
   ],
   "source": [
    "T.testJ"
   ]
  },
  {
   "cell_type": "code",
   "execution_count": 39,
   "metadata": {},
   "outputs": [
    {
     "data": {
      "text/plain": [
       "0.001361653464810811"
      ]
     },
     "execution_count": 39,
     "metadata": {},
     "output_type": "execute_result"
    }
   ],
   "source": [
    "from sklearn.metrics import mean_absolute_error\n",
    "mean_absolute_error(T.J, T.testJ)"
   ]
  },
  {
   "cell_type": "code",
   "execution_count": 40,
   "metadata": {},
   "outputs": [],
   "source": [
    "yHat=NN.forward(X)"
   ]
  },
  {
   "cell_type": "code",
   "execution_count": 41,
   "metadata": {},
   "outputs": [
    {
     "data": {
      "text/plain": [
       "array([[0.3945216 ],\n",
       "       [0.33312347],\n",
       "       [0.39582595],\n",
       "       [0.38528828],\n",
       "       [0.33228111],\n",
       "       [0.42549712],\n",
       "       [0.46909678],\n",
       "       [0.50674923],\n",
       "       [0.39371554],\n",
       "       [0.28418109],\n",
       "       [0.41285017],\n",
       "       [0.42302712],\n",
       "       [0.21987311],\n",
       "       [0.35255758],\n",
       "       [0.33007707],\n",
       "       [0.23491192],\n",
       "       [0.26880183],\n",
       "       [0.31204152],\n",
       "       [0.20978036],\n",
       "       [0.37435881],\n",
       "       [0.31186785],\n",
       "       [0.38831937],\n",
       "       [0.37641664],\n",
       "       [0.44429208],\n",
       "       [0.41811773],\n",
       "       [0.42692019],\n",
       "       [0.44518697],\n",
       "       [0.39651123],\n",
       "       [0.43593983],\n",
       "       [0.40384641],\n",
       "       [0.50891114],\n",
       "       [0.53169824],\n",
       "       [0.51541195],\n",
       "       [0.52222964],\n",
       "       [0.512908  ],\n",
       "       [0.56662422],\n",
       "       [0.59428081],\n",
       "       [0.59115669],\n",
       "       [0.62458084],\n",
       "       [0.60237228],\n",
       "       [0.69368633],\n",
       "       [0.66446281],\n",
       "       [0.73387297],\n",
       "       [0.76657581],\n",
       "       [0.69909692],\n",
       "       [0.6732606 ],\n",
       "       [0.65040396],\n",
       "       [0.6434246 ],\n",
       "       [0.63864495],\n",
       "       [0.53360685],\n",
       "       [0.61930946],\n",
       "       [0.63920184],\n",
       "       [0.58196359],\n",
       "       [0.5931683 ],\n",
       "       [0.66417708],\n",
       "       [0.63465529],\n",
       "       [0.62573354],\n",
       "       [0.61642393],\n",
       "       [0.58116256],\n",
       "       [0.58116032]])"
      ]
     },
     "execution_count": 41,
     "metadata": {},
     "output_type": "execute_result"
    }
   ],
   "source": [
    "yHat"
   ]
  },
  {
   "cell_type": "code",
   "execution_count": 42,
   "metadata": {},
   "outputs": [
    {
     "data": {
      "text/plain": [
       "array([[0.42299539],\n",
       "       [0.42478065],\n",
       "       [0.32205711],\n",
       "       [0.46046559],\n",
       "       [0.16668864],\n",
       "       [0.40174469],\n",
       "       [0.31647817],\n",
       "       [0.27086271],\n",
       "       [0.31251205],\n",
       "       [0.36909266],\n",
       "       [0.20575138],\n",
       "       [0.17619313],\n",
       "       [0.29041944],\n",
       "       [0.24090886],\n",
       "       [0.27408835],\n",
       "       [0.37090835],\n",
       "       [0.05869047],\n",
       "       [0.40032459],\n",
       "       [0.28999341],\n",
       "       [0.30771415],\n",
       "       [0.42915251],\n",
       "       [0.44062484],\n",
       "       [0.35804636],\n",
       "       [0.2957245 ],\n",
       "       [0.4914135 ],\n",
       "       [0.35624081],\n",
       "       [0.54105594],\n",
       "       [0.15752904],\n",
       "       [0.55294416],\n",
       "       [0.51433788],\n",
       "       [0.44121317],\n",
       "       [0.58940001],\n",
       "       [0.67707055],\n",
       "       [0.67615763],\n",
       "       [0.69694172],\n",
       "       [0.58293858],\n",
       "       [0.61114774],\n",
       "       [0.7834559 ],\n",
       "       [0.93566973],\n",
       "       [0.28699092],\n",
       "       [1.        ],\n",
       "       [0.84997718],\n",
       "       [0.62600801],\n",
       "       [0.93614647],\n",
       "       [0.85846731],\n",
       "       [0.70258153],\n",
       "       [0.6646853 ],\n",
       "       [0.38417609],\n",
       "       [0.50844449],\n",
       "       [0.70605062],\n",
       "       [0.62566313],\n",
       "       [0.31006745],\n",
       "       [0.71815185],\n",
       "       [0.58129533],\n",
       "       [0.59084039],\n",
       "       [0.64112187],\n",
       "       [0.70009636],\n",
       "       [0.61497185],\n",
       "       [0.591378  ],\n",
       "       [0.32      ]])"
      ]
     },
     "execution_count": 42,
     "metadata": {},
     "output_type": "execute_result"
    }
   ],
   "source": [
    "y"
   ]
  },
  {
   "cell_type": "code",
   "execution_count": 43,
   "metadata": {},
   "outputs": [
    {
     "data": {
      "text/plain": [
       "0.022148302592177475"
      ]
     },
     "execution_count": 43,
     "metadata": {},
     "output_type": "execute_result"
    }
   ],
   "source": [
    "from sklearn.metrics import mean_squared_error \n",
    "mean_squared_error(y,yHat) "
   ]
  },
  {
   "cell_type": "code",
   "execution_count": 44,
   "metadata": {},
   "outputs": [
    {
     "data": {
      "image/png": "[encoded data removed]",
      "text/plain": [
       "<Figure size 432x288 with 1 Axes>"
      ]
     },
     "metadata": {
      "needs_background": "light"
     },
     "output_type": "display_data"
    }
   ],
   "source": [
    "#Plot cost during training:\n",
    "plot.plot(y)\n",
    "plot.plot(yHat)\n",
    "plot.grid(1)\n",
    "plot.legend(['y', 'yHat'])\n",
    "plot.show()"
   ]
  },
  {
   "cell_type": "code",
   "execution_count": 45,
   "metadata": {},
   "outputs": [],
   "source": [
    "prediksi=NN.forward(dataprediksi)"
   ]
  },
  {
   "cell_type": "code",
   "execution_count": 46,
   "metadata": {},
   "outputs": [
    {
     "data": {
      "text/plain": [
       "array([[0.69479161],\n",
       "       [0.67912165],\n",
       "       [0.664932  ],\n",
       "       [0.39663682]])"
      ]
     },
     "execution_count": 46,
     "metadata": {},
     "output_type": "execute_result"
    }
   ],
   "source": [
    "prediksi"
   ]
  },
  {
   "cell_type": "code",
   "execution_count": 47,
   "metadata": {},
   "outputs": [],
   "source": [
    "from sklearn.metrics import mean_squared_error "
   ]
  },
  {
   "cell_type": "code",
   "execution_count": 48,
   "metadata": {},
   "outputs": [
    {
     "data": {
      "text/plain": [
       "0.1438794979793439"
      ]
     },
     "execution_count": 48,
     "metadata": {},
     "output_type": "execute_result"
    }
   ],
   "source": [
    "Y_true= ([\t0.50\t]\t,\n",
    "[\t0.415539889\t]\t,\n",
    "[\t0\t]\t,\n",
    "[\t0.235502358\t]\t,\n",
    "\n",
    ")\n",
    "\n",
    "\n",
    "Y_pred=prediksi\n",
    "mean_squared_error(Y_true,Y_pred) "
   ]
  },
  {
   "cell_type": "code",
   "execution_count": 49,
   "metadata": {},
   "outputs": [
    {
     "data": {
      "text/plain": [
       "array([[0.38732394, 0.79538041, 0.591378  , 0.32      ],\n",
       "       [0.37323944, 1.        , 0.32      , 0.5       ],\n",
       "       [0.36619718, 0.70768171, 0.5       , 0.41553989],\n",
       "       [0.44366197, 0.49169532, 0.41553989, 0.        ]])"
      ]
     },
     "execution_count": 49,
     "metadata": {},
     "output_type": "execute_result"
    }
   ],
   "source": [
    "dataprediksi"
   ]
  },
  {
   "cell_type": "code",
   "execution_count": 50,
   "metadata": {},
   "outputs": [],
   "source": [
    "z=np.array([0.6294\t,\t0.4578])"
   ]
  },
  {
   "cell_type": "code",
   "execution_count": 51,
   "metadata": {},
   "outputs": [],
   "source": [
    "y=np.array([0\t,\t0.235502358\t])"
   ]
  },
  {
   "cell_type": "code",
   "execution_count": 52,
   "metadata": {},
   "outputs": [],
   "source": [
    "a=np.concatenate((z,y))"
   ]
  },
  {
   "cell_type": "code",
   "execution_count": 53,
   "metadata": {},
   "outputs": [
    {
     "data": {
      "text/plain": [
       "array([0.1471403])"
      ]
     },
     "execution_count": 53,
     "metadata": {},
     "output_type": "execute_result"
    }
   ],
   "source": [
    "#prediksi 1\n",
    "prediksi=NN.forward(a)\n",
    "prediksi"
   ]
  },
  {
   "cell_type": "code",
   "execution_count": 54,
   "metadata": {},
   "outputs": [
    {
     "data": {
      "text/plain": [
       "array([0.27055655])"
      ]
     },
     "execution_count": 54,
     "metadata": {},
     "output_type": "execute_result"
    }
   ],
   "source": [
    "#prediksi 2\n",
    "c=prediksi\n",
    "z1=np.array([0.6795\t,\t0.4539])\n",
    "b=y[1:]\n",
    "d=np.concatenate((z1,b,c))\n",
    "prediksi=NN.forward(d)\n",
    "prediksi"
   ]
  },
  {
   "cell_type": "code",
   "execution_count": 55,
   "metadata": {},
   "outputs": [
    {
     "data": {
      "text/plain": [
       "array([0.35641067])"
      ]
     },
     "execution_count": 55,
     "metadata": {},
     "output_type": "execute_result"
    }
   ],
   "source": [
    "#prediksi 3\n",
    "c=prediksi\n",
    "z2=np.array([0.5888\t,\t0.4545])\n",
    "b=y[1:]\n",
    "d=np.concatenate((z2,b,c))\n",
    "prediksi=NN.forward(d)\n",
    "prediksi"
   ]
  },
  {
   "cell_type": "code",
   "execution_count": 56,
   "metadata": {},
   "outputs": [
    {
     "data": {
      "text/plain": [
       "array([0.41051474])"
      ]
     },
     "execution_count": 56,
     "metadata": {},
     "output_type": "execute_result"
    }
   ],
   "source": [
    "#prediksi 4\n",
    "c=prediksi\n",
    "z3=np.array([0.527\t,\t0.4555])\n",
    "b=y[1:]\n",
    "d=np.concatenate((z3,b,c))\n",
    "prediksi=NN.forward(d)\n",
    "prediksi"
   ]
  },
  {
   "cell_type": "code",
   "execution_count": 57,
   "metadata": {},
   "outputs": [
    {
     "data": {
      "text/plain": [
       "array([0.44440552])"
      ]
     },
     "execution_count": 57,
     "metadata": {},
     "output_type": "execute_result"
    }
   ],
   "source": [
    "#prediksi 5\n",
    "c=prediksi\n",
    "z4=np.array([0.4745\t,\t0.4564])\n",
    "b=y[1:]\n",
    "d=np.concatenate((z4,b,c))\n",
    "prediksi=NN.forward(d)\n",
    "prediksi"
   ]
  },
  {
   "cell_type": "code",
   "execution_count": 58,
   "metadata": {},
   "outputs": [
    {
     "data": {
      "text/plain": [
       "array([0.46031499])"
      ]
     },
     "execution_count": 58,
     "metadata": {},
     "output_type": "execute_result"
    }
   ],
   "source": [
    "#prediksi 6\n",
    "c=prediksi\n",
    "z5=np.array([0.4621\t,\t0.4571])\n",
    "b=y[1:]\n",
    "d=np.concatenate((z5,b,c))\n",
    "prediksi=NN.forward(d)\n",
    "prediksi"
   ]
  }
 ],
 "metadata": {
  "kernelspec": {
   "display_name": "Python 3",
   "language": "python",
   "name": "python3"
  },
  "language_info": {
   "codemirror_mode": {
    "name": "ipython",
    "version": 3
   },
   "file_extension": ".py",
   "mimetype": "text/x-python",
   "name": "python",
   "nbconvert_exporter": "python",
   "pygments_lexer": "ipython3",
   "version": "3.7.3"
  }
 },
 "nbformat": 4,
 "nbformat_minor": 2
}
