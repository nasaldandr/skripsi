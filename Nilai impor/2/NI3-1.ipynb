{
 "cells": [
  {
   "cell_type": "code",
   "execution_count": 1,
   "metadata": {},
   "outputs": [],
   "source": [
    "import numpy as np"
   ]
  },
  {
   "cell_type": "code",
   "execution_count": 2,
   "metadata": {},
   "outputs": [],
   "source": [
    "#UNTUK NILAI IMPOR\n",
    "class Neural_Network(object):\n",
    "    def __init__(self):\n",
    "        #parameters\n",
    "        self.inputLayerSize = 3\n",
    "        self.outputLayerSize = 1\n",
    "        self.hiddenLayerSize = 1\n",
    "\n",
    "        #weights\n",
    "        self.W1 = np.random.randn(self.inputLayerSize,\\\n",
    "                                 self.hiddenLayerSize)  \n",
    "        self.W2 = np.random.randn(self.hiddenLayerSize,\\\n",
    "                                 self.outputLayerSize)  \n",
    "    \n",
    "    def printw(self):\n",
    "        return self.W1\n",
    "        \n",
    "    def weight(self, W1, W2):\n",
    "        #Make an internal variable for the weight:\n",
    "        self.W1 = W1\n",
    "        self.W2 = W2\n",
    "        \n",
    "    def forward(self, X):\n",
    "        #forward propagation through our network\n",
    "        self.z2 = np.dot(X,self.W1)  \n",
    "        self.a2 = self.sigmoid(self.z2)  # activation function\n",
    "        self.z3 = np.dot(self.a2, self.W2) \n",
    "        yHat = self.sigmoid(self.z3)  # final activation function\n",
    "        return yHat\n",
    "\n",
    "    def sigmoid(self, z):\n",
    "        # activation function\n",
    "        return 1 / (1 + np.exp(-z))\n",
    "    \n",
    "    def sigmoidPrime(self,z): \n",
    "        #derivative of sigmoid     \n",
    "        return np.exp(-z)/((1+np.exp(-z))**2)\n",
    "    \n",
    "    def costFunction(self,X,y):\n",
    "        self.yHat = self.forward(X)\n",
    "        J=0.5*sum((y-self.yHat)**2)\n",
    "        return J\n",
    "    \n",
    "    def costFunctionPrime(self,X,y):\n",
    "        self.yHat=self.forward(X)\n",
    "        \n",
    "        delta3=np.multiply(-(y-self.yHat),self.sigmoidPrime(self.z3))\n",
    "        dJdW2=np.dot(self.a2.T,delta3)\n",
    "        \n",
    "        delta2=np.dot(delta3,self.W2.T)*self.sigmoidPrime(self.z2)\n",
    "        dJdW1=np.dot(X.T,delta2)\n",
    "        return dJdW1,dJdW2\n",
    "    \n",
    "    def predict(self):\n",
    "        prediksi = self.forward(dataprediksi)\n",
    "        return prediksi\n",
    "    \n",
    "    def getParams(self):\n",
    "        params=np.concatenate((self.W1.ravel(),self.W2.ravel()))\n",
    "        return params\n",
    "    \n",
    "    def setParams(self,params):\n",
    "        W1_start=0\n",
    "        W1_end=self.hiddenLayerSize*self.inputLayerSize\n",
    "        self.W1=np.reshape(params[W1_start:W1_end],\\\n",
    "                          (self.inputLayerSize,self.hiddenLayerSize))\n",
    "        W2_end=W1_end+self.hiddenLayerSize*self.outputLayerSize\n",
    "        self.W2=np.reshape(params[W1_end:W2_end],\\\n",
    "                          (self.hiddenLayerSize,self.outputLayerSize))\n",
    "        \n",
    "    def computeGradients(self, X, y):\n",
    "        dJdW1, dJdW2 = self.costFunctionPrime(X, y)\n",
    "        return np.concatenate((dJdW1.ravel(), dJdW2.ravel()))"
   ]
  },
  {
   "cell_type": "code",
   "execution_count": 3,
   "metadata": {},
   "outputs": [],
   "source": [
    "NN = Neural_Network()"
   ]
  },
  {
   "cell_type": "code",
   "execution_count": 4,
   "metadata": {},
   "outputs": [
    {
     "data": {
      "text/plain": [
       "array([[ 0.76505899],\n",
       "       [ 0.78647722],\n",
       "       [-0.14498612]])"
      ]
     },
     "execution_count": 4,
     "metadata": {},
     "output_type": "execute_result"
    }
   ],
   "source": [
    "NN.W1"
   ]
  },
  {
   "cell_type": "code",
   "execution_count": 5,
   "metadata": {},
   "outputs": [
    {
     "data": {
      "text/plain": [
       "array([[-0.41012903]])"
      ]
     },
     "execution_count": 5,
     "metadata": {},
     "output_type": "execute_result"
    }
   ],
   "source": [
    "NN.W2"
   ]
  },
  {
   "cell_type": "code",
   "execution_count": 6,
   "metadata": {},
   "outputs": [],
   "source": [
    "#NILAI IMPOR\n",
    "X=np.array(([\t0.148319042\t,\t0.423360552\t,\t0.311558554\t]\t,\n",
    "[\t0.112113419\t,\t0.311558554\t,\t0.422995385\t]\t,\n",
    "[\t0.170734062\t,\t0.422995385\t,\t0.424780646\t]\t,\n",
    "[\t0.223256598\t,\t0.424780646\t,\t0.322057108\t]\t,\n",
    "[\t0.241974687\t,\t0.322057108\t,\t0.460465588\t]\t,\n",
    "[\t0.365733465\t,\t0.460465588\t,\t0.166688644\t]\t,\n",
    "[\t0.552558994\t,\t0.166688644\t,\t0.401744687\t]\t,\n",
    "[\t0.370023519\t,\t0.401744687\t,\t0.316478166\t]\t,\n",
    "[\t0.332531703\t,\t0.316478166\t,\t0.270862707\t]\t,\n",
    "[\t0.387887522\t,\t0.270862707\t,\t0.312512045\t]\t,\n",
    "[\t0.398363943\t,\t0.312512045\t,\t0.369092661\t]\t,\n",
    "[\t0.284826299\t,\t0.369092661\t,\t0.205751382\t]\t,\n",
    "[\t0.186735022\t,\t0.205751382\t,\t0.176193133\t]\t,\n",
    "[\t0.182694768\t,\t0.176193133\t,\t0.290419435\t]\t,\n",
    "[\t0.255617002\t,\t0.290419435\t,\t0.24090886\t]\t,\n",
    "[\t0.23597043\t,\t0.24090886\t,\t0.27408835\t]\t,\n",
    "[\t0.164134134\t,\t0.27408835\t,\t0.370908353\t]\t,\n",
    "[\t0.178176635\t,\t0.370908353\t,\t0.05869047\t]\t,\n",
    "[\t0.163956101\t,\t0.05869047\t,\t0.400324593\t]\t,\n",
    "[\t0.133241484\t,\t0.400324593\t,\t0.289993407\t]\t,\n",
    "[\t0.226399017\t,\t0.289993407\t,\t0.307714155\t]\t,\n",
    "[\t0.255013861\t,\t0.307714155\t,\t0.429152508\t]\t,\n",
    "[\t0.23708614\t,\t0.429152508\t,\t0.440624842\t]\t,\n",
    "[\t0.231651119\t,\t0.440624842\t,\t0.358046356\t]\t,\n",
    "[\t0.233067608\t,\t0.358046356\t,\t0.295724502\t]\t,\n",
    "[\t0.221173719\t,\t0.295724502\t,\t0.491413501\t]\t,\n",
    "[\t0.22633168\t,\t0.491413501\t,\t0.356240807\t]\t,\n",
    "[\t0.218698642\t,\t0.356240807\t,\t0.541055942\t]\t,\n",
    "[\t0.232032203\t,\t0.541055942\t,\t0.157529036\t]\t,\n",
    "[\t0.231947948\t,\t0.157529036\t,\t0.55294416\t]\t,\n",
    "[\t0.221547817\t,\t0.55294416\t,\t0.514337881\t]\t,\n",
    "[\t0.287958581\t,\t0.514337881\t,\t0.441213166\t]\t,\n",
    "[\t0.28837327\t,\t0.441213166\t,\t0.58940001\t]\t,\n",
    "[\t0.297145757\t,\t0.58940001\t,\t0.677070548\t]\t,\n",
    "[\t0.243669818\t,\t0.677070548\t,\t0.67615763\t]\t,\n",
    "[\t0.307437314\t,\t0.67615763\t,\t0.696941725\t]\t,\n",
    "[\t0.358597855\t,\t0.696941725\t,\t0.582938581\t]\t,\n",
    "[\t0.372181217\t,\t0.582938581\t,\t0.611147741\t]\t,\n",
    "[\t0.450259481\t,\t0.611147741\t,\t0.783455901\t]\t,\n",
    "[\t0.443095634\t,\t0.783455901\t,\t0.935669727\t]\t,\n",
    "[\t0.558155976\t,\t0.935669727\t,\t0.286990922\t]\t,\n",
    "[\t0.602359827\t,\t0.286990922\t,\t1\t]\t,\n",
    "[\t0.696291723\t,\t1\t,\t0.849977177\t]\t,\n",
    "[\t0.790604671\t,\t0.849977177\t,\t0.626008013\t]\t,\n",
    "[\t0.644022227\t,\t0.626008013\t,\t0.936146473\t]\t,\n",
    "[\t0.583228643\t,\t0.936146473\t,\t0.858467312\t]\t,\n",
    "[\t0.481715009\t,\t0.858467312\t,\t0.702581529\t]\t,\n",
    "[\t0.442812107\t,\t0.702581529\t,\t0.664685297\t]\t,\n",
    "[\t0.496270585\t,\t0.664685297\t,\t0.384176092\t]\t,\n",
    "[\t0.475463393\t,\t0.384176092\t,\t0.50844449\t]\t,\n",
    "[\t0.551559791\t,\t0.50844449\t,\t0.706050616\t]\t,\n",
    "[\t0.500994351\t,\t0.706050616\t,\t0.625663133\t]\t,\n",
    "[\t0.445458587\t,\t0.625663133\t,\t0.310067454\t]\t,\n",
    "[\t0.505711667\t,\t0.310067454\t,\t0.718151849\t]\t,\n",
    "[\t0.465889036\t,\t0.718151849\t,\t0.581295329\t]\t,\n",
    "[\t0.46785659\t,\t0.581295329\t,\t0.590840392\t]\t,\n",
    "[\t0.453001423\t,\t0.590840392\t,\t0.641121875\t]\t,\n",
    "[\t0.437411724\t,\t0.641121875\t,\t0.700096364\t]\t,\n",
    "[\t0.350673696\t,\t0.700096364\t,\t0.614971852\t]\t,\n",
    "[\t0.364031312\t,\t0.614971852\t,\t0.591377999\t]\t,\n",
    "\n",
    ")           \n",
    ",dtype=float)\n",
    "y=np.array(([\t0.422995385\t]\t,\n",
    "[\t0.424780646\t]\t,\n",
    "[\t0.322057108\t]\t,\n",
    "[\t0.460465588\t]\t,\n",
    "[\t0.166688644\t]\t,\n",
    "[\t0.401744687\t]\t,\n",
    "[\t0.316478166\t]\t,\n",
    "[\t0.270862707\t]\t,\n",
    "[\t0.312512045\t]\t,\n",
    "[\t0.369092661\t]\t,\n",
    "[\t0.205751382\t]\t,\n",
    "[\t0.176193133\t]\t,\n",
    "[\t0.290419435\t]\t,\n",
    "[\t0.24090886\t]\t,\n",
    "[\t0.27408835\t]\t,\n",
    "[\t0.370908353\t]\t,\n",
    "[\t0.05869047\t]\t,\n",
    "[\t0.400324593\t]\t,\n",
    "[\t0.289993407\t]\t,\n",
    "[\t0.307714155\t]\t,\n",
    "[\t0.429152508\t]\t,\n",
    "[\t0.440624842\t]\t,\n",
    "[\t0.358046356\t]\t,\n",
    "[\t0.295724502\t]\t,\n",
    "[\t0.491413501\t]\t,\n",
    "[\t0.356240807\t]\t,\n",
    "[\t0.541055942\t]\t,\n",
    "[\t0.157529036\t]\t,\n",
    "[\t0.55294416\t]\t,\n",
    "[\t0.514337881\t]\t,\n",
    "[\t0.441213166\t]\t,\n",
    "[\t0.58940001\t]\t,\n",
    "[\t0.677070548\t]\t,\n",
    "[\t0.67615763\t]\t,\n",
    "[\t0.696941725\t]\t,\n",
    "[\t0.582938581\t]\t,\n",
    "[\t0.611147741\t]\t,\n",
    "[\t0.783455901\t]\t,\n",
    "[\t0.935669727\t]\t,\n",
    "[\t0.286990922\t]\t,\n",
    "[\t1\t]\t,\n",
    "[\t0.849977177\t]\t,\n",
    "[\t0.626008013\t]\t,\n",
    "[\t0.936146473\t]\t,\n",
    "[\t0.858467312\t]\t,\n",
    "[\t0.702581529\t]\t,\n",
    "[\t0.664685297\t]\t,\n",
    "[\t0.384176092\t]\t,\n",
    "[\t0.50844449\t]\t,\n",
    "[\t0.706050616\t]\t,\n",
    "[\t0.625663133\t]\t,\n",
    "[\t0.310067454\t]\t,\n",
    "[\t0.718151849\t]\t,\n",
    "[\t0.581295329\t]\t,\n",
    "[\t0.590840392\t]\t,\n",
    "[\t0.641121875\t]\t,\n",
    "[\t0.700096364\t]\t,\n",
    "[\t0.614971852\t]\t,\n",
    "[\t0.591377999\t]\t,\n",
    "[\t0.32\t]\t,\n",
    "\n",
    ")\n",
    ",dtype=float)\n",
    "\n",
    "dataprediksi = np.array(([\t0.795380412\t,\t0.591377999\t,\t0.32\t]\t,\n",
    "[\t1\t,\t0.32\t,\t0.50\t]\t,\n",
    "[\t0.707681705\t,\t0.50\t,\t0.415539889\t]\t,\n",
    "[\t0.491695324\t,\t0.415539889\t,\t0\t]\t,\n",
    "\n",
    "), dtype=float)\n"
   ]
  },
  {
   "cell_type": "code",
   "execution_count": 7,
   "metadata": {},
   "outputs": [],
   "source": [
    "import matplotlib.pyplot as plot"
   ]
  },
  {
   "cell_type": "code",
   "execution_count": 8,
   "metadata": {},
   "outputs": [],
   "source": [
    "from scipy import optimize"
   ]
  },
  {
   "cell_type": "code",
   "execution_count": 9,
   "metadata": {},
   "outputs": [],
   "source": [
    "class trainer(object):\n",
    "    def __init__(self, N):\n",
    "        #Make Local reference to network:\n",
    "        self.N = N\n",
    "        \n",
    "    def callbackF(self, params):\n",
    "        self.N.setParams(params)\n",
    "        self.J.append(self.N.costFunction(self.X, self.y))   \n",
    "        \n",
    "    def costFunctionWrapper(self, params, X, y):\n",
    "        self.N.setParams(params)\n",
    "        cost = self.N.costFunction(X, y)\n",
    "        grad = self.N.computeGradients(X,y)\n",
    "        \n",
    "        return cost, grad\n",
    "        \n",
    "    def train(self, X, y):\n",
    "        #Make an internal variable for the callback function:\n",
    "        self.X = X\n",
    "        self.y = y\n",
    "\n",
    "        #Make empty list to store costs:\n",
    "        self.J = []\n",
    "        \n",
    "        params0 = self.N.getParams()\n",
    "\n",
    "        options = {'maxiter': 100, 'disp' : True}\n",
    "        _res = optimize.minimize(self.costFunctionWrapper, params0, jac=True, method='BFGS', \\\n",
    "                                 args=(X, y), options=options, callback=self.callbackF)\n",
    "\n",
    "        self.N.setParams(_res.x)\n",
    "        self.optimizationResults = _res"
   ]
  },
  {
   "cell_type": "code",
   "execution_count": 10,
   "metadata": {},
   "outputs": [],
   "source": [
    "NN=Neural_Network()"
   ]
  },
  {
   "cell_type": "code",
   "execution_count": 11,
   "metadata": {},
   "outputs": [],
   "source": [
    "T = trainer(NN)"
   ]
  },
  {
   "cell_type": "code",
   "execution_count": 12,
   "metadata": {},
   "outputs": [
    {
     "name": "stdout",
     "output_type": "stream",
     "text": [
      "Optimization terminated successfully.\n",
      "         Current function value: 1.050424\n",
      "         Iterations: 36\n",
      "         Function evaluations: 45\n",
      "         Gradient evaluations: 45\n"
     ]
    }
   ],
   "source": [
    "#Train network with new data:\n",
    "T = trainer(NN)\n",
    "T.train(X,y)"
   ]
  },
  {
   "cell_type": "code",
   "execution_count": 13,
   "metadata": {},
   "outputs": [
    {
     "data": {
      "image/png": "[encoded data removed]",
      "text/plain": [
       "<Figure size 432x288 with 1 Axes>"
      ]
     },
     "metadata": {
      "needs_background": "light"
     },
     "output_type": "display_data"
    }
   ],
   "source": [
    "#Plot cost during training:\n",
    "plot.plot(T.J)\n",
    "plot.grid(1)\n",
    "plot.xlabel('Iterations')\n",
    "plot.ylabel('Cost')\n",
    "plot.show()"
   ]
  },
  {
   "cell_type": "code",
   "execution_count": 14,
   "metadata": {},
   "outputs": [],
   "source": [
    "#Training Data:\n",
    "trainX = np.array(([\t0.148319042\t,\t0.423360552\t,\t0.311558554\t]\t,\n",
    "[\t0.112113419\t,\t0.311558554\t,\t0.422995385\t]\t,\n",
    "[\t0.170734062\t,\t0.422995385\t,\t0.424780646\t]\t,\n",
    "[\t0.223256598\t,\t0.424780646\t,\t0.322057108\t]\t,\n",
    "[\t0.241974687\t,\t0.322057108\t,\t0.460465588\t]\t,\n",
    "[\t0.365733465\t,\t0.460465588\t,\t0.166688644\t]\t,\n",
    "[\t0.552558994\t,\t0.166688644\t,\t0.401744687\t]\t,\n",
    "[\t0.370023519\t,\t0.401744687\t,\t0.316478166\t]\t,\n",
    "[\t0.332531703\t,\t0.316478166\t,\t0.270862707\t]\t,\n",
    "[\t0.387887522\t,\t0.270862707\t,\t0.312512045\t]\t,\n",
    "[\t0.398363943\t,\t0.312512045\t,\t0.369092661\t]\t,\n",
    "[\t0.284826299\t,\t0.369092661\t,\t0.205751382\t]\t,\n",
    "[\t0.186735022\t,\t0.205751382\t,\t0.176193133\t]\t,\n",
    "[\t0.182694768\t,\t0.176193133\t,\t0.290419435\t]\t,\n",
    "[\t0.255617002\t,\t0.290419435\t,\t0.24090886\t]\t,\n",
    "[\t0.23597043\t,\t0.24090886\t,\t0.27408835\t]\t,\n",
    "[\t0.164134134\t,\t0.27408835\t,\t0.370908353\t]\t,\n",
    "[\t0.178176635\t,\t0.370908353\t,\t0.05869047\t]\t,\n",
    "[\t0.163956101\t,\t0.05869047\t,\t0.400324593\t]\t,\n",
    "[\t0.133241484\t,\t0.400324593\t,\t0.289993407\t]\t,\n",
    "[\t0.226399017\t,\t0.289993407\t,\t0.307714155\t]\t,\n",
    "[\t0.255013861\t,\t0.307714155\t,\t0.429152508\t]\t,\n",
    "[\t0.23708614\t,\t0.429152508\t,\t0.440624842\t]\t,\n",
    "[\t0.231651119\t,\t0.440624842\t,\t0.358046356\t]\t,\n",
    "[\t0.233067608\t,\t0.358046356\t,\t0.295724502\t]\t,\n",
    "[\t0.221173719\t,\t0.295724502\t,\t0.491413501\t]\t,\n",
    "[\t0.22633168\t,\t0.491413501\t,\t0.356240807\t]\t,\n",
    "[\t0.218698642\t,\t0.356240807\t,\t0.541055942\t]\t,\n",
    "[\t0.232032203\t,\t0.541055942\t,\t0.157529036\t]\t,\n",
    "[\t0.231947948\t,\t0.157529036\t,\t0.55294416\t]\t,\n",
    "[\t0.221547817\t,\t0.55294416\t,\t0.514337881\t]\t,\n",
    "[\t0.287958581\t,\t0.514337881\t,\t0.441213166\t]\t,\n",
    "[\t0.28837327\t,\t0.441213166\t,\t0.58940001\t]\t,\n",
    "[\t0.297145757\t,\t0.58940001\t,\t0.677070548\t]\t,\n",
    "[\t0.243669818\t,\t0.677070548\t,\t0.67615763\t]\t,\n",
    "[\t0.307437314\t,\t0.67615763\t,\t0.696941725\t]\t,\n",
    "[\t0.358597855\t,\t0.696941725\t,\t0.582938581\t]\t,\n",
    "[\t0.372181217\t,\t0.582938581\t,\t0.611147741\t]\t,\n",
    "[\t0.450259481\t,\t0.611147741\t,\t0.783455901\t]\t,\n",
    "[\t0.443095634\t,\t0.783455901\t,\t0.935669727\t]\t,\n",
    "[\t0.558155976\t,\t0.935669727\t,\t0.286990922\t]\t,\n",
    "[\t0.602359827\t,\t0.286990922\t,\t1\t]\t,\n",
    "[\t0.696291723\t,\t1\t,\t0.849977177\t]\t,\n",
    "[\t0.790604671\t,\t0.849977177\t,\t0.626008013\t]\t,\n",
    "[\t0.644022227\t,\t0.626008013\t,\t0.936146473\t]\t,\n",
    "[\t0.583228643\t,\t0.936146473\t,\t0.858467312\t]\t,\n",
    "[\t0.481715009\t,\t0.858467312\t,\t0.702581529\t]\t,\n",
    "\n",
    ")\n",
    ", dtype=float)\n",
    "trainY = np.array(([\t0.422995385\t]\t,\n",
    "[\t0.424780646\t]\t,\n",
    "[\t0.322057108\t]\t,\n",
    "[\t0.460465588\t]\t,\n",
    "[\t0.166688644\t]\t,\n",
    "[\t0.401744687\t]\t,\n",
    "[\t0.316478166\t]\t,\n",
    "[\t0.270862707\t]\t,\n",
    "[\t0.312512045\t]\t,\n",
    "[\t0.369092661\t]\t,\n",
    "[\t0.205751382\t]\t,\n",
    "[\t0.176193133\t]\t,\n",
    "[\t0.290419435\t]\t,\n",
    "[\t0.24090886\t]\t,\n",
    "[\t0.27408835\t]\t,\n",
    "[\t0.370908353\t]\t,\n",
    "[\t0.05869047\t]\t,\n",
    "[\t0.400324593\t]\t,\n",
    "[\t0.289993407\t]\t,\n",
    "[\t0.307714155\t]\t,\n",
    "[\t0.429152508\t]\t,\n",
    "[\t0.440624842\t]\t,\n",
    "[\t0.358046356\t]\t,\n",
    "[\t0.295724502\t]\t,\n",
    "[\t0.491413501\t]\t,\n",
    "[\t0.356240807\t]\t,\n",
    "[\t0.541055942\t]\t,\n",
    "[\t0.157529036\t]\t,\n",
    "[\t0.55294416\t]\t,\n",
    "[\t0.514337881\t]\t,\n",
    "[\t0.441213166\t]\t,\n",
    "[\t0.58940001\t]\t,\n",
    "[\t0.677070548\t]\t,\n",
    "[\t0.67615763\t]\t,\n",
    "[\t0.696941725\t]\t,\n",
    "[\t0.582938581\t]\t,\n",
    "[\t0.611147741\t]\t,\n",
    "[\t0.783455901\t]\t,\n",
    "[\t0.935669727\t]\t,\n",
    "[\t0.286990922\t]\t,\n",
    "[\t1\t]\t,\n",
    "[\t0.849977177\t]\t,\n",
    "[\t0.626008013\t]\t,\n",
    "[\t0.936146473\t]\t,\n",
    "[\t0.858467312\t]\t,\n",
    "[\t0.702581529\t]\t,\n",
    "[\t0.664685297\t]\t,\n",
    "\n",
    ")\n",
    ", dtype=float)\n",
    "\n",
    "#Testing Data:\n",
    "testX = np.array(([\t0.442812107\t,\t0.702581529\t,\t0.664685297\t]\t,\n",
    "[\t0.496270585\t,\t0.664685297\t,\t0.384176092\t]\t,\n",
    "[\t0.475463393\t,\t0.384176092\t,\t0.50844449\t]\t,\n",
    "[\t0.551559791\t,\t0.50844449\t,\t0.706050616\t]\t,\n",
    "[\t0.500994351\t,\t0.706050616\t,\t0.625663133\t]\t,\n",
    "[\t0.445458587\t,\t0.625663133\t,\t0.310067454\t]\t,\n",
    "[\t0.505711667\t,\t0.310067454\t,\t0.718151849\t]\t,\n",
    "[\t0.465889036\t,\t0.718151849\t,\t0.581295329\t]\t,\n",
    "[\t0.46785659\t,\t0.581295329\t,\t0.590840392\t]\t,\n",
    "[\t0.453001423\t,\t0.590840392\t,\t0.641121875\t]\t,\n",
    "[\t0.437411724\t,\t0.641121875\t,\t0.700096364\t]\t,\n",
    "[\t0.350673696\t,\t0.700096364\t,\t0.614971852\t]\t,\n",
    "[\t0.364031312\t,\t0.614971852\t,\t0.591377999\t]\t,\n",
    "\n",
    ")\n",
    ", dtype=float)\n",
    "testY = np.array(([\t0.384176092\t]\t,\n",
    "[\t0.50844449\t]\t,\n",
    "[\t0.706050616\t]\t,\n",
    "[\t0.625663133\t]\t,\n",
    "[\t0.310067454\t]\t,\n",
    "[\t0.718151849\t]\t,\n",
    "[\t0.581295329\t]\t,\n",
    "[\t0.590840392\t]\t,\n",
    "[\t0.641121875\t]\t,\n",
    "[\t0.700096364\t]\t,\n",
    "[\t0.614971852\t]\t,\n",
    "[\t0.591377999\t]\t,\n",
    "[\t0.32\t]\t,\n",
    "\n",
    "\n",
    ")\n",
    ", dtype=float)\n",
    "\n",
    "\n",
    "dataprediksi = np.array(([\t0.795380412\t,\t0.591377999\t,\t0.32\t]\t,\n",
    "[\t1\t,\t0.32\t,\t0.50\t]\t,\n",
    "[\t0.707681705\t,\t0.50\t,\t0.415539889\t]\t,\n",
    "[\t0.491695324\t,\t0.415539889\t,\t0\t]\t,\n",
    "\n",
    "), dtype=float)"
   ]
  },
  {
   "cell_type": "code",
   "execution_count": 15,
   "metadata": {},
   "outputs": [
    {
     "data": {
      "text/plain": [
       "array([[0.44281211, 0.70258153, 0.6646853 ],\n",
       "       [0.49627058, 0.6646853 , 0.38417609],\n",
       "       [0.47546339, 0.38417609, 0.50844449],\n",
       "       [0.55155979, 0.50844449, 0.70605062],\n",
       "       [0.50099435, 0.70605062, 0.62566313],\n",
       "       [0.44545859, 0.62566313, 0.31006745],\n",
       "       [0.50571167, 0.31006745, 0.71815185],\n",
       "       [0.46588904, 0.71815185, 0.58129533],\n",
       "       [0.46785659, 0.58129533, 0.59084039],\n",
       "       [0.45300142, 0.59084039, 0.64112187],\n",
       "       [0.43741172, 0.64112187, 0.70009636],\n",
       "       [0.3506737 , 0.70009636, 0.61497185],\n",
       "       [0.36403131, 0.61497185, 0.591378  ]])"
      ]
     },
     "execution_count": 15,
     "metadata": {},
     "output_type": "execute_result"
    }
   ],
   "source": [
    "testX"
   ]
  },
  {
   "cell_type": "code",
   "execution_count": 16,
   "metadata": {},
   "outputs": [],
   "source": [
    "##Need to modify trainer class a bit to check testing error during training:\n",
    "class trainer(object):\n",
    "    def __init__(self, N):\n",
    "        #Make Local reference to network:\n",
    "        self.N = N\n",
    "        \n",
    "    def callbackF(self, params):\n",
    "        self.N.setParams(params)\n",
    "        self.J.append(self.N.costFunction(self.X, self.y))\n",
    "        self.testJ.append(self.N.costFunction(self.testX, self.testY))\n",
    "        \n",
    "    def costFunctionWrapper(self, params, X, y):\n",
    "        self.N.setParams(params)\n",
    "        cost = self.N.costFunction(X, y)\n",
    "        grad = self.N.computeGradients(X,y)\n",
    "        \n",
    "        return cost, grad\n",
    "        \n",
    "    def train(self, trainX, trainY, testX, testY):\n",
    "        #Make an internal variable for the callback function:\n",
    "        self.X = trainX\n",
    "        self.y = trainY\n",
    "        \n",
    "        self.testX = testX\n",
    "        self.testY = testY\n",
    "\n",
    "        #Make empty list to store training costs:\n",
    "        self.J = []\n",
    "        self.testJ = []\n",
    "        \n",
    "        params0 = self.N.getParams()\n",
    "\n",
    "        options = {'maxiter': 100, 'disp' : True}\n",
    "        _res = optimize.minimize(self.costFunctionWrapper, params0, jac=True, method='BFGS', \\\n",
    "                                 args=(trainX, trainY), options=options, callback=self.callbackF)\n",
    "\n",
    "        self.N.setParams(_res.x)\n",
    "        self.optimizationResults = _res"
   ]
  },
  {
   "cell_type": "code",
   "execution_count": 17,
   "metadata": {},
   "outputs": [
    {
     "name": "stdout",
     "output_type": "stream",
     "text": [
      "Optimization terminated successfully.\n",
      "         Current function value: 0.885651\n",
      "         Iterations: 37\n",
      "         Function evaluations: 38\n",
      "         Gradient evaluations: 38\n"
     ]
    }
   ],
   "source": [
    "#Train network with new data:\n",
    "NN = Neural_Network()\n",
    "\n",
    "T = trainer(NN)\n",
    "T.train(trainX, trainY, testX, testY)"
   ]
  },
  {
   "cell_type": "code",
   "execution_count": 18,
   "metadata": {},
   "outputs": [
    {
     "data": {
      "image/png": "[encoded data removed]",
      "text/plain": [
       "<Figure size 432x288 with 1 Axes>"
      ]
     },
     "metadata": {
      "needs_background": "light"
     },
     "output_type": "display_data"
    }
   ],
   "source": [
    "#Plot cost during training:\n",
    "plot.plot(T.J)\n",
    "plot.plot(T.testJ)\n",
    "plot.grid(1)\n",
    "plot.xlabel('Iterations')\n",
    "plot.ylabel('Cost')\n",
    "plot.legend(['Training', 'Testing'])\n",
    "plot.show()"
   ]
  },
  {
   "cell_type": "code",
   "execution_count": 19,
   "metadata": {},
   "outputs": [
    {
     "data": {
      "text/plain": [
       "[array([1.58557055]),\n",
       " array([1.15962575]),\n",
       " array([1.07294011]),\n",
       " array([1.05603063]),\n",
       " array([1.02638113]),\n",
       " array([0.97028961]),\n",
       " array([0.90648545]),\n",
       " array([0.90543353]),\n",
       " array([0.90465767]),\n",
       " array([0.90327347]),\n",
       " array([0.90083247]),\n",
       " array([0.89678301]),\n",
       " array([0.89139699]),\n",
       " array([0.88981356]),\n",
       " array([0.88961416]),\n",
       " array([0.8895856]),\n",
       " array([0.88954092]),\n",
       " array([0.88946903]),\n",
       " array([0.8893456]),\n",
       " array([0.88912572]),\n",
       " array([0.88873268]),\n",
       " array([0.88805456]),\n",
       " array([0.88702942]),\n",
       " array([0.88620466]),\n",
       " array([0.8858305]),\n",
       " array([0.88569118]),\n",
       " array([0.88565471]),\n",
       " array([0.88565422]),\n",
       " array([0.88565413]),\n",
       " array([0.88565396]),\n",
       " array([0.88565366]),\n",
       " array([0.88565313]),\n",
       " array([0.88565225]),\n",
       " array([0.88565119]),\n",
       " array([0.88565083]),\n",
       " array([0.8856506]),\n",
       " array([0.88565059])]"
      ]
     },
     "execution_count": 19,
     "metadata": {},
     "output_type": "execute_result"
    }
   ],
   "source": [
    "T.J"
   ]
  },
  {
   "cell_type": "code",
   "execution_count": 20,
   "metadata": {},
   "outputs": [
    {
     "data": {
      "text/plain": [
       "[array([0.11531699]),\n",
       " array([0.15003282]),\n",
       " array([0.18685506]),\n",
       " array([0.20079899]),\n",
       " array([0.20988102]),\n",
       " array([0.20055878]),\n",
       " array([0.16713561]),\n",
       " array([0.16476329]),\n",
       " array([0.16375184]),\n",
       " array([0.16291374]),\n",
       " array([0.16223371]),\n",
       " array([0.16188045]),\n",
       " array([0.16239733]),\n",
       " array([0.16338999]),\n",
       " array([0.16377697]),\n",
       " array([0.16375325]),\n",
       " array([0.16362515]),\n",
       " array([0.16344106]),\n",
       " array([0.16328758]),\n",
       " array([0.16323049]),\n",
       " array([0.16336543]),\n",
       " array([0.16390796]),\n",
       " array([0.16536281]),\n",
       " array([0.16739782]),\n",
       " array([0.16841059]),\n",
       " array([0.16902608]),\n",
       " array([0.16946122]),\n",
       " array([0.16952891]),\n",
       " array([0.16954376]),\n",
       " array([0.16955909]),\n",
       " array([0.169577]),\n",
       " array([0.16959937]),\n",
       " array([0.16962667]),\n",
       " array([0.16964919]),\n",
       " array([0.16963041]),\n",
       " array([0.16959045]),\n",
       " array([0.16957985])]"
      ]
     },
     "execution_count": 20,
     "metadata": {},
     "output_type": "execute_result"
    }
   ],
   "source": [
    "T.testJ"
   ]
  },
  {
   "cell_type": "code",
   "execution_count": 21,
   "metadata": {},
   "outputs": [
    {
     "data": {
      "text/plain": [
       "0.763623688220699"
      ]
     },
     "execution_count": 21,
     "metadata": {},
     "output_type": "execute_result"
    }
   ],
   "source": [
    "from sklearn.metrics import mean_absolute_error\n",
    "mean_absolute_error(T.J, T.testJ)"
   ]
  },
  {
   "cell_type": "code",
   "execution_count": 22,
   "metadata": {},
   "outputs": [],
   "source": [
    "yHat = NN.forward(X)"
   ]
  },
  {
   "cell_type": "code",
   "execution_count": 23,
   "metadata": {},
   "outputs": [
    {
     "data": {
      "text/plain": [
       "array([[0.40822697],\n",
       "       [0.38832667],\n",
       "       [0.43450445],\n",
       "       [0.41578831],\n",
       "       [0.41179759],\n",
       "       [0.39842214],\n",
       "       [0.33680192],\n",
       "       [0.41417374],\n",
       "       [0.35651923],\n",
       "       [0.35034779],\n",
       "       [0.39287287],\n",
       "       [0.35846785],\n",
       "       [0.21035394],\n",
       "       [0.24747803],\n",
       "       [0.31978215],\n",
       "       [0.29722604],\n",
       "       [0.35449419],\n",
       "       [0.28354215],\n",
       "       [0.20531726],\n",
       "       [0.39121791],\n",
       "       [0.34508883],\n",
       "       [0.39834848],\n",
       "       [0.44185638],\n",
       "       [0.42958766],\n",
       "       [0.37981376],\n",
       "       [0.40804354],\n",
       "       [0.44344937],\n",
       "       [0.4389356 ],\n",
       "       [0.41992265],\n",
       "       [0.36107467],\n",
       "       [0.4731518 ],\n",
       "       [0.46196683],\n",
       "       [0.46571162],\n",
       "       [0.48679525],\n",
       "       [0.49086006],\n",
       "       [0.49175959],\n",
       "       [0.48983348],\n",
       "       [0.48427136],\n",
       "       [0.49222879],\n",
       "       [0.49779638],\n",
       "       [0.49293683],\n",
       "       [0.48352855],\n",
       "       [0.49913541],\n",
       "       [0.49678763],\n",
       "       [0.49601495],\n",
       "       [0.49876811],\n",
       "       [0.49694795],\n",
       "       [0.49270807],\n",
       "       [0.48053606],\n",
       "       [0.45038892],\n",
       "       [0.48526589],\n",
       "       [0.49225639],\n",
       "       [0.46985939],\n",
       "       [0.46327149],\n",
       "       [0.49142382],\n",
       "       [0.48425671],\n",
       "       [0.48691394],\n",
       "       [0.49123472],\n",
       "       [0.49085171],\n",
       "       [0.48553632]])"
      ]
     },
     "execution_count": 23,
     "metadata": {},
     "output_type": "execute_result"
    }
   ],
   "source": [
    "yHat"
   ]
  },
  {
   "cell_type": "code",
   "execution_count": 24,
   "metadata": {},
   "outputs": [
    {
     "data": {
      "text/plain": [
       "array([[0.42299539],\n",
       "       [0.42478065],\n",
       "       [0.32205711],\n",
       "       [0.46046559],\n",
       "       [0.16668864],\n",
       "       [0.40174469],\n",
       "       [0.31647817],\n",
       "       [0.27086271],\n",
       "       [0.31251205],\n",
       "       [0.36909266],\n",
       "       [0.20575138],\n",
       "       [0.17619313],\n",
       "       [0.29041944],\n",
       "       [0.24090886],\n",
       "       [0.27408835],\n",
       "       [0.37090835],\n",
       "       [0.05869047],\n",
       "       [0.40032459],\n",
       "       [0.28999341],\n",
       "       [0.30771415],\n",
       "       [0.42915251],\n",
       "       [0.44062484],\n",
       "       [0.35804636],\n",
       "       [0.2957245 ],\n",
       "       [0.4914135 ],\n",
       "       [0.35624081],\n",
       "       [0.54105594],\n",
       "       [0.15752904],\n",
       "       [0.55294416],\n",
       "       [0.51433788],\n",
       "       [0.44121317],\n",
       "       [0.58940001],\n",
       "       [0.67707055],\n",
       "       [0.67615763],\n",
       "       [0.69694172],\n",
       "       [0.58293858],\n",
       "       [0.61114774],\n",
       "       [0.7834559 ],\n",
       "       [0.93566973],\n",
       "       [0.28699092],\n",
       "       [1.        ],\n",
       "       [0.84997718],\n",
       "       [0.62600801],\n",
       "       [0.93614647],\n",
       "       [0.85846731],\n",
       "       [0.70258153],\n",
       "       [0.6646853 ],\n",
       "       [0.38417609],\n",
       "       [0.50844449],\n",
       "       [0.70605062],\n",
       "       [0.62566313],\n",
       "       [0.31006745],\n",
       "       [0.71815185],\n",
       "       [0.58129533],\n",
       "       [0.59084039],\n",
       "       [0.64112187],\n",
       "       [0.70009636],\n",
       "       [0.61497185],\n",
       "       [0.591378  ],\n",
       "       [0.32      ]])"
      ]
     },
     "execution_count": 24,
     "metadata": {},
     "output_type": "execute_result"
    }
   ],
   "source": [
    "y"
   ]
  },
  {
   "cell_type": "code",
   "execution_count": 25,
   "metadata": {},
   "outputs": [
    {
     "data": {
      "text/plain": [
       "0.03517434806658772"
      ]
     },
     "execution_count": 25,
     "metadata": {},
     "output_type": "execute_result"
    }
   ],
   "source": [
    "from sklearn.metrics import mean_squared_error \n",
    "mean_squared_error(y,yHat)"
   ]
  },
  {
   "cell_type": "code",
   "execution_count": 26,
   "metadata": {},
   "outputs": [
    {
     "data": {
      "image/png": "[encoded data removed]",
      "text/plain": [
       "<Figure size 432x288 with 1 Axes>"
      ]
     },
     "metadata": {
      "needs_background": "light"
     },
     "output_type": "display_data"
    }
   ],
   "source": [
    "#Plot cost during training:\n",
    "plot.plot(y)\n",
    "plot.plot(yHat)\n",
    "plot.grid(1)\n",
    "plot.legend(['y', 'yHat'])\n",
    "plot.show()"
   ]
  },
  {
   "cell_type": "code",
   "execution_count": null,
   "metadata": {},
   "outputs": [],
   "source": []
  }
 ],
 "metadata": {
  "kernelspec": {
   "display_name": "Python 3",
   "language": "python",
   "name": "python3"
  },
  "language_info": {
   "codemirror_mode": {
    "name": "ipython",
    "version": 3
   },
   "file_extension": ".py",
   "mimetype": "text/x-python",
   "name": "python",
   "nbconvert_exporter": "python",
   "pygments_lexer": "ipython3",
   "version": "3.7.3"
  }
 },
 "nbformat": 4,
 "nbformat_minor": 2
}
