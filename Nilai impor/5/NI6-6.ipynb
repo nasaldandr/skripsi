{
 "cells": [
  {
   "cell_type": "code",
   "execution_count": 1,
   "metadata": {},
   "outputs": [],
   "source": [
    "import numpy as np"
   ]
  },
  {
   "cell_type": "code",
   "execution_count": 2,
   "metadata": {},
   "outputs": [],
   "source": [
    "#UNTUK NILAI IMPOR\n",
    "class Neural_Network(object):\n",
    "    def __init__(self):\n",
    "        #parameters\n",
    "        self.inputLayerSize = 6\n",
    "        self.outputLayerSize = 1\n",
    "        self.hiddenLayerSize = 1\n",
    "\n",
    "        #weights\n",
    "        self.W1 = np.random.randn(self.inputLayerSize,\\\n",
    "                                 self.hiddenLayerSize)  \n",
    "        self.W2 = np.random.randn(self.hiddenLayerSize,\\\n",
    "                                 self.outputLayerSize)  \n",
    "    \n",
    "    def printw(self):\n",
    "        return self.W1\n",
    "        \n",
    "    def weight(self, W1, W2):\n",
    "        #Make an internal variable for the weight:\n",
    "        self.W1 = W1\n",
    "        self.W2 = W2\n",
    "        \n",
    "    def forward(self, X):\n",
    "        #forward propagation through our network\n",
    "        self.z2 = np.dot(X,self.W1)  \n",
    "        self.a2 = self.sigmoid(self.z2)  # activation function\n",
    "        self.z3 = np.dot(self.a2, self.W2) \n",
    "        yHat = self.sigmoid(self.z3)  # final activation function\n",
    "        return yHat\n",
    "\n",
    "    def sigmoid(self, z):\n",
    "        # activation function\n",
    "        return 1 / (1 + np.exp(-z))\n",
    "    \n",
    "    def sigmoidPrime(self,z): \n",
    "        #derivative of sigmoid     \n",
    "        return np.exp(-z)/((1+np.exp(-z))**2)\n",
    "    \n",
    "    def costFunction(self,X,y):\n",
    "        self.yHat = self.forward(X)\n",
    "        J=0.5*sum((y-self.yHat)**2)\n",
    "        return J\n",
    "    \n",
    "    def costFunctionPrime(self,X,y):\n",
    "        self.yHat=self.forward(X)\n",
    "        \n",
    "        delta3=np.multiply(-(y-self.yHat),self.sigmoidPrime(self.z3))\n",
    "        dJdW2=np.dot(self.a2.T,delta3)\n",
    "        \n",
    "        delta2=np.dot(delta3,self.W2.T)*self.sigmoidPrime(self.z2)\n",
    "        dJdW1=np.dot(X.T,delta2)\n",
    "        return dJdW1,dJdW2\n",
    "    \n",
    "    def predict(self):\n",
    "        prediksi = self.forward(dataprediksi)\n",
    "        return prediksi\n",
    "    \n",
    "    def getParams(self):\n",
    "        params=np.concatenate((self.W1.ravel(),self.W2.ravel()))\n",
    "        return params\n",
    "    \n",
    "    def setParams(self,params):\n",
    "        W1_start=0\n",
    "        W1_end=self.hiddenLayerSize*self.inputLayerSize\n",
    "        self.W1=np.reshape(params[W1_start:W1_end],\\\n",
    "                          (self.inputLayerSize,self.hiddenLayerSize))\n",
    "        W2_end=W1_end+self.hiddenLayerSize*self.outputLayerSize\n",
    "        self.W2=np.reshape(params[W1_end:W2_end],\\\n",
    "                          (self.hiddenLayerSize,self.outputLayerSize))\n",
    "        \n",
    "    def computeGradients(self, X, y):\n",
    "        dJdW1, dJdW2 = self.costFunctionPrime(X, y)\n",
    "        return np.concatenate((dJdW1.ravel(), dJdW2.ravel()))"
   ]
  },
  {
   "cell_type": "code",
   "execution_count": 3,
   "metadata": {},
   "outputs": [],
   "source": [
    "NN = Neural_Network()"
   ]
  },
  {
   "cell_type": "code",
   "execution_count": 4,
   "metadata": {},
   "outputs": [
    {
     "data": {
      "text/plain": [
       "array([[-0.57940219],\n",
       "       [-0.01270133],\n",
       "       [ 0.62639619],\n",
       "       [-0.05766226],\n",
       "       [-0.91516749],\n",
       "       [ 1.91962492]])"
      ]
     },
     "execution_count": 4,
     "metadata": {},
     "output_type": "execute_result"
    }
   ],
   "source": [
    "NN.W1"
   ]
  },
  {
   "cell_type": "code",
   "execution_count": 5,
   "metadata": {},
   "outputs": [
    {
     "data": {
      "text/plain": [
       "array([[1.08804773]])"
      ]
     },
     "execution_count": 5,
     "metadata": {},
     "output_type": "execute_result"
    }
   ],
   "source": [
    "NN.W2"
   ]
  },
  {
   "cell_type": "code",
   "execution_count": 6,
   "metadata": {},
   "outputs": [],
   "source": [
    "#NILAI IMPOR\n",
    "X=np.array(([\t0.223256598\t,\t0.423360552\t,\t0.311558554\t,\t0.422995385\t,\t0.424780646\t,\t0.322057108\t]\t,\n",
    "[\t0.241974687\t,\t0.311558554\t,\t0.422995385\t,\t0.424780646\t,\t0.322057108\t,\t0.460465588\t]\t,\n",
    "[\t0.365733465\t,\t0.422995385\t,\t0.424780646\t,\t0.322057108\t,\t0.460465588\t,\t0.166688644\t]\t,\n",
    "[\t0.552558994\t,\t0.424780646\t,\t0.322057108\t,\t0.460465588\t,\t0.166688644\t,\t0.401744687\t]\t,\n",
    "[\t0.370023519\t,\t0.322057108\t,\t0.460465588\t,\t0.166688644\t,\t0.401744687\t,\t0.316478166\t]\t,\n",
    "[\t0.332531703\t,\t0.460465588\t,\t0.166688644\t,\t0.401744687\t,\t0.316478166\t,\t0.270862707\t]\t,\n",
    "[\t0.387887522\t,\t0.166688644\t,\t0.401744687\t,\t0.316478166\t,\t0.270862707\t,\t0.312512045\t]\t,\n",
    "[\t0.398363943\t,\t0.401744687\t,\t0.316478166\t,\t0.270862707\t,\t0.312512045\t,\t0.369092661\t]\t,\n",
    "[\t0.284826299\t,\t0.316478166\t,\t0.270862707\t,\t0.312512045\t,\t0.369092661\t,\t0.205751382\t]\t,\n",
    "[\t0.186735022\t,\t0.270862707\t,\t0.312512045\t,\t0.369092661\t,\t0.205751382\t,\t0.176193133\t]\t,\n",
    "[\t0.182694768\t,\t0.312512045\t,\t0.369092661\t,\t0.205751382\t,\t0.176193133\t,\t0.290419435\t]\t,\n",
    "[\t0.255617002\t,\t0.369092661\t,\t0.205751382\t,\t0.176193133\t,\t0.290419435\t,\t0.24090886\t]\t,\n",
    "[\t0.23597043\t,\t0.205751382\t,\t0.176193133\t,\t0.290419435\t,\t0.24090886\t,\t0.27408835\t]\t,\n",
    "[\t0.164134134\t,\t0.176193133\t,\t0.290419435\t,\t0.24090886\t,\t0.27408835\t,\t0.370908353\t]\t,\n",
    "[\t0.178176635\t,\t0.290419435\t,\t0.24090886\t,\t0.27408835\t,\t0.370908353\t,\t0.05869047\t]\t,\n",
    "[\t0.163956101\t,\t0.24090886\t,\t0.27408835\t,\t0.370908353\t,\t0.05869047\t,\t0.400324593\t]\t,\n",
    "[\t0.133241484\t,\t0.27408835\t,\t0.370908353\t,\t0.05869047\t,\t0.400324593\t,\t0.289993407\t]\t,\n",
    "[\t0.226399017\t,\t0.370908353\t,\t0.05869047\t,\t0.400324593\t,\t0.289993407\t,\t0.307714155\t]\t,\n",
    "[\t0.255013861\t,\t0.05869047\t,\t0.400324593\t,\t0.289993407\t,\t0.307714155\t,\t0.429152508\t]\t,\n",
    "[\t0.23708614\t,\t0.400324593\t,\t0.289993407\t,\t0.307714155\t,\t0.429152508\t,\t0.440624842\t]\t,\n",
    "[\t0.231651119\t,\t0.289993407\t,\t0.307714155\t,\t0.429152508\t,\t0.440624842\t,\t0.358046356\t]\t,\n",
    "[\t0.233067608\t,\t0.307714155\t,\t0.429152508\t,\t0.440624842\t,\t0.358046356\t,\t0.295724502\t]\t,\n",
    "[\t0.221173719\t,\t0.429152508\t,\t0.440624842\t,\t0.358046356\t,\t0.295724502\t,\t0.491413501\t]\t,\n",
    "[\t0.22633168\t,\t0.440624842\t,\t0.358046356\t,\t0.295724502\t,\t0.491413501\t,\t0.356240807\t]\t,\n",
    "[\t0.218698642\t,\t0.358046356\t,\t0.295724502\t,\t0.491413501\t,\t0.356240807\t,\t0.541055942\t]\t,\n",
    "[\t0.232032203\t,\t0.295724502\t,\t0.491413501\t,\t0.356240807\t,\t0.541055942\t,\t0.157529036\t]\t,\n",
    "[\t0.231947948\t,\t0.491413501\t,\t0.356240807\t,\t0.541055942\t,\t0.157529036\t,\t0.55294416\t]\t,\n",
    "[\t0.221547817\t,\t0.356240807\t,\t0.541055942\t,\t0.157529036\t,\t0.55294416\t,\t0.514337881\t]\t,\n",
    "[\t0.287958581\t,\t0.541055942\t,\t0.157529036\t,\t0.55294416\t,\t0.514337881\t,\t0.441213166\t]\t,\n",
    "[\t0.28837327\t,\t0.157529036\t,\t0.55294416\t,\t0.514337881\t,\t0.441213166\t,\t0.58940001\t]\t,\n",
    "[\t0.297145757\t,\t0.55294416\t,\t0.514337881\t,\t0.441213166\t,\t0.58940001\t,\t0.677070548\t]\t,\n",
    "[\t0.243669818\t,\t0.514337881\t,\t0.441213166\t,\t0.58940001\t,\t0.677070548\t,\t0.67615763\t]\t,\n",
    "[\t0.307437314\t,\t0.441213166\t,\t0.58940001\t,\t0.677070548\t,\t0.67615763\t,\t0.696941725\t]\t,\n",
    "[\t0.358597855\t,\t0.58940001\t,\t0.677070548\t,\t0.67615763\t,\t0.696941725\t,\t0.582938581\t]\t,\n",
    "[\t0.372181217\t,\t0.677070548\t,\t0.67615763\t,\t0.696941725\t,\t0.582938581\t,\t0.611147741\t]\t,\n",
    "[\t0.450259481\t,\t0.67615763\t,\t0.696941725\t,\t0.582938581\t,\t0.611147741\t,\t0.783455901\t]\t,\n",
    "[\t0.443095634\t,\t0.696941725\t,\t0.582938581\t,\t0.611147741\t,\t0.783455901\t,\t0.935669727\t]\t,\n",
    "[\t0.558155976\t,\t0.582938581\t,\t0.611147741\t,\t0.783455901\t,\t0.935669727\t,\t0.286990922\t]\t,\n",
    "[\t0.602359827\t,\t0.611147741\t,\t0.783455901\t,\t0.935669727\t,\t0.286990922\t,\t1\t]\t,\n",
    "[\t0.696291723\t,\t0.783455901\t,\t0.935669727\t,\t0.286990922\t,\t1\t,\t0.849977177\t]\t,\n",
    "[\t0.790604671\t,\t0.935669727\t,\t0.286990922\t,\t1\t,\t0.849977177\t,\t0.626008013\t]\t,\n",
    "[\t0.644022227\t,\t0.286990922\t,\t1\t,\t0.849977177\t,\t0.626008013\t,\t0.936146473\t]\t,\n",
    "[\t0.583228643\t,\t1\t,\t0.849977177\t,\t0.626008013\t,\t0.936146473\t,\t0.858467312\t]\t,\n",
    "[\t0.481715009\t,\t0.849977177\t,\t0.626008013\t,\t0.936146473\t,\t0.858467312\t,\t0.702581529\t]\t,\n",
    "[\t0.442812107\t,\t0.626008013\t,\t0.936146473\t,\t0.858467312\t,\t0.702581529\t,\t0.664685297\t]\t,\n",
    "[\t0.496270585\t,\t0.936146473\t,\t0.858467312\t,\t0.702581529\t,\t0.664685297\t,\t0.384176092\t]\t,\n",
    "[\t0.475463393\t,\t0.858467312\t,\t0.702581529\t,\t0.664685297\t,\t0.384176092\t,\t0.50844449\t]\t,\n",
    "[\t0.551559791\t,\t0.702581529\t,\t0.664685297\t,\t0.384176092\t,\t0.50844449\t,\t0.706050616\t]\t,\n",
    "[\t0.500994351\t,\t0.664685297\t,\t0.384176092\t,\t0.50844449\t,\t0.706050616\t,\t0.625663133\t]\t,\n",
    "[\t0.445458587\t,\t0.384176092\t,\t0.50844449\t,\t0.706050616\t,\t0.625663133\t,\t0.310067454\t]\t,\n",
    "[\t0.505711667\t,\t0.50844449\t,\t0.706050616\t,\t0.625663133\t,\t0.310067454\t,\t0.718151849\t]\t,\n",
    "[\t0.465889036\t,\t0.706050616\t,\t0.625663133\t,\t0.310067454\t,\t0.718151849\t,\t0.581295329\t]\t,\n",
    "[\t0.46785659\t,\t0.625663133\t,\t0.310067454\t,\t0.718151849\t,\t0.581295329\t,\t0.590840392\t]\t,\n",
    "[\t0.453001423\t,\t0.310067454\t,\t0.718151849\t,\t0.581295329\t,\t0.590840392\t,\t0.641121875\t]\t,\n",
    "[\t0.437411724\t,\t0.718151849\t,\t0.581295329\t,\t0.590840392\t,\t0.641121875\t,\t0.700096364\t]\t,\n",
    "[\t0.350673696\t,\t0.581295329\t,\t0.590840392\t,\t0.641121875\t,\t0.700096364\t,\t0.614971852\t]\t,\n",
    "[\t0.364031312\t,\t0.590840392\t,\t0.641121875\t,\t0.700096364\t,\t0.614971852\t,\t0.591377999\t]\t,\n",
    "\n",
    ")           \n",
    ",dtype=float)\n",
    "y=np.array(([\t0.460465588\t]\t,\n",
    "[\t0.166688644\t]\t,\n",
    "[\t0.401744687\t]\t,\n",
    "[\t0.316478166\t]\t,\n",
    "[\t0.270862707\t]\t,\n",
    "[\t0.312512045\t]\t,\n",
    "[\t0.369092661\t]\t,\n",
    "[\t0.205751382\t]\t,\n",
    "[\t0.176193133\t]\t,\n",
    "[\t0.290419435\t]\t,\n",
    "[\t0.24090886\t]\t,\n",
    "[\t0.27408835\t]\t,\n",
    "[\t0.370908353\t]\t,\n",
    "[\t0.05869047\t]\t,\n",
    "[\t0.400324593\t]\t,\n",
    "[\t0.289993407\t]\t,\n",
    "[\t0.307714155\t]\t,\n",
    "[\t0.429152508\t]\t,\n",
    "[\t0.440624842\t]\t,\n",
    "[\t0.358046356\t]\t,\n",
    "[\t0.295724502\t]\t,\n",
    "[\t0.491413501\t]\t,\n",
    "[\t0.356240807\t]\t,\n",
    "[\t0.541055942\t]\t,\n",
    "[\t0.157529036\t]\t,\n",
    "[\t0.55294416\t]\t,\n",
    "[\t0.514337881\t]\t,\n",
    "[\t0.441213166\t]\t,\n",
    "[\t0.58940001\t]\t,\n",
    "[\t0.677070548\t]\t,\n",
    "[\t0.67615763\t]\t,\n",
    "[\t0.696941725\t]\t,\n",
    "[\t0.582938581\t]\t,\n",
    "[\t0.611147741\t]\t,\n",
    "[\t0.783455901\t]\t,\n",
    "[\t0.935669727\t]\t,\n",
    "[\t0.286990922\t]\t,\n",
    "[\t1\t]\t,\n",
    "[\t0.849977177\t]\t,\n",
    "[\t0.626008013\t]\t,\n",
    "[\t0.936146473\t]\t,\n",
    "[\t0.858467312\t]\t,\n",
    "[\t0.702581529\t]\t,\n",
    "[\t0.664685297\t]\t,\n",
    "[\t0.384176092\t]\t,\n",
    "[\t0.50844449\t]\t,\n",
    "[\t0.706050616\t]\t,\n",
    "[\t0.625663133\t]\t,\n",
    "[\t0.310067454\t]\t,\n",
    "[\t0.718151849\t]\t,\n",
    "[\t0.581295329\t]\t,\n",
    "[\t0.590840392\t]\t,\n",
    "[\t0.641121875\t]\t,\n",
    "[\t0.700096364\t]\t,\n",
    "[\t0.614971852\t]\t,\n",
    "[\t0.591377999\t]\t,\n",
    "[\t0.32\t]\t,\n",
    "\n",
    "\n",
    ")\n",
    ",dtype=float)\n",
    "\n",
    "dataprediksi = np.array(([\t0.795380412\t,\t0.641121875\t,\t0.700096364\t,\t0.614971852\t,\t0.591377999\t,\t0.32\t]\t,\n",
    "[\t1\t,\t0.700096364\t,\t0.614971852\t,\t0.591377999\t,\t0.32\t,\t0.50\t]\t,\n",
    "[\t0.707681705\t,\t0.614971852\t,\t0.591377999\t,\t0.32\t,\t0.50\t,\t0.415539889\t]\t,\n",
    "[\t0.491695324\t,\t0.591377999\t,\t0.32\t,\t0.50\t,\t0.415539889\t,\t0\t]\t,\n",
    "\n",
    "), dtype=float)\n"
   ]
  },
  {
   "cell_type": "code",
   "execution_count": 7,
   "metadata": {},
   "outputs": [],
   "source": [
    "import matplotlib.pyplot as plot"
   ]
  },
  {
   "cell_type": "code",
   "execution_count": 8,
   "metadata": {},
   "outputs": [],
   "source": [
    "from scipy import optimize"
   ]
  },
  {
   "cell_type": "code",
   "execution_count": 9,
   "metadata": {},
   "outputs": [],
   "source": [
    "class trainer(object):\n",
    "    def __init__(self, N):\n",
    "        #Make Local reference to network:\n",
    "        self.N = N\n",
    "        \n",
    "    def callbackF(self, params):\n",
    "        self.N.setParams(params)\n",
    "        self.J.append(self.N.costFunction(self.X, self.y))   \n",
    "        \n",
    "    def costFunctionWrapper(self, params, X, y):\n",
    "        self.N.setParams(params)\n",
    "        cost = self.N.costFunction(X, y)\n",
    "        grad = self.N.computeGradients(X,y)\n",
    "        \n",
    "        return cost, grad\n",
    "        \n",
    "    def train(self, X, y):\n",
    "        #Make an internal variable for the callback function:\n",
    "        self.X = X\n",
    "        self.y = y\n",
    "\n",
    "        #Make empty list to store costs:\n",
    "        self.J = []\n",
    "        \n",
    "        params0 = self.N.getParams()\n",
    "\n",
    "        options = {'maxiter': 100, 'disp' : True}\n",
    "        _res = optimize.minimize(self.costFunctionWrapper, params0, jac=True, method='BFGS', \\\n",
    "                                 args=(X, y), options=options, callback=self.callbackF)\n",
    "\n",
    "        self.N.setParams(_res.x)\n",
    "        self.optimizationResults = _res"
   ]
  },
  {
   "cell_type": "code",
   "execution_count": 10,
   "metadata": {},
   "outputs": [],
   "source": [
    "NN=Neural_Network()"
   ]
  },
  {
   "cell_type": "code",
   "execution_count": 11,
   "metadata": {},
   "outputs": [],
   "source": [
    "T = trainer(NN)"
   ]
  },
  {
   "cell_type": "code",
   "execution_count": 12,
   "metadata": {},
   "outputs": [
    {
     "name": "stdout",
     "output_type": "stream",
     "text": [
      "Optimization terminated successfully.\n",
      "         Current function value: 0.966958\n",
      "         Iterations: 71\n",
      "         Function evaluations: 72\n",
      "         Gradient evaluations: 72\n"
     ]
    }
   ],
   "source": [
    "#Train network with new data:\n",
    "T = trainer(NN)\n",
    "T.train(X,y)"
   ]
  },
  {
   "cell_type": "code",
   "execution_count": 13,
   "metadata": {},
   "outputs": [
    {
     "data": {
      "image/png": "[encoded data removed]",
      "text/plain": [
       "<Figure size 432x288 with 1 Axes>"
      ]
     },
     "metadata": {
      "needs_background": "light"
     },
     "output_type": "display_data"
    }
   ],
   "source": [
    "#Plot cost during training:\n",
    "plot.plot(T.J)\n",
    "plot.grid(1)\n",
    "plot.xlabel('Iterations')\n",
    "plot.ylabel('Cost')\n",
    "plot.show()"
   ]
  },
  {
   "cell_type": "code",
   "execution_count": 14,
   "metadata": {},
   "outputs": [],
   "source": [
    "#Training Data:\n",
    "trainX = np.array(([\t0.223256598\t,\t0.423360552\t,\t0.311558554\t,\t0.422995385\t,\t0.424780646\t,\t0.322057108\t]\t,\n",
    "[\t0.241974687\t,\t0.311558554\t,\t0.422995385\t,\t0.424780646\t,\t0.322057108\t,\t0.460465588\t]\t,\n",
    "[\t0.365733465\t,\t0.422995385\t,\t0.424780646\t,\t0.322057108\t,\t0.460465588\t,\t0.166688644\t]\t,\n",
    "[\t0.552558994\t,\t0.424780646\t,\t0.322057108\t,\t0.460465588\t,\t0.166688644\t,\t0.401744687\t]\t,\n",
    "[\t0.370023519\t,\t0.322057108\t,\t0.460465588\t,\t0.166688644\t,\t0.401744687\t,\t0.316478166\t]\t,\n",
    "[\t0.332531703\t,\t0.460465588\t,\t0.166688644\t,\t0.401744687\t,\t0.316478166\t,\t0.270862707\t]\t,\n",
    "[\t0.387887522\t,\t0.166688644\t,\t0.401744687\t,\t0.316478166\t,\t0.270862707\t,\t0.312512045\t]\t,\n",
    "[\t0.398363943\t,\t0.401744687\t,\t0.316478166\t,\t0.270862707\t,\t0.312512045\t,\t0.369092661\t]\t,\n",
    "[\t0.284826299\t,\t0.316478166\t,\t0.270862707\t,\t0.312512045\t,\t0.369092661\t,\t0.205751382\t]\t,\n",
    "[\t0.186735022\t,\t0.270862707\t,\t0.312512045\t,\t0.369092661\t,\t0.205751382\t,\t0.176193133\t]\t,\n",
    "[\t0.182694768\t,\t0.312512045\t,\t0.369092661\t,\t0.205751382\t,\t0.176193133\t,\t0.290419435\t]\t,\n",
    "[\t0.255617002\t,\t0.369092661\t,\t0.205751382\t,\t0.176193133\t,\t0.290419435\t,\t0.24090886\t]\t,\n",
    "[\t0.23597043\t,\t0.205751382\t,\t0.176193133\t,\t0.290419435\t,\t0.24090886\t,\t0.27408835\t]\t,\n",
    "[\t0.164134134\t,\t0.176193133\t,\t0.290419435\t,\t0.24090886\t,\t0.27408835\t,\t0.370908353\t]\t,\n",
    "[\t0.178176635\t,\t0.290419435\t,\t0.24090886\t,\t0.27408835\t,\t0.370908353\t,\t0.05869047\t]\t,\n",
    "[\t0.163956101\t,\t0.24090886\t,\t0.27408835\t,\t0.370908353\t,\t0.05869047\t,\t0.400324593\t]\t,\n",
    "[\t0.133241484\t,\t0.27408835\t,\t0.370908353\t,\t0.05869047\t,\t0.400324593\t,\t0.289993407\t]\t,\n",
    "[\t0.226399017\t,\t0.370908353\t,\t0.05869047\t,\t0.400324593\t,\t0.289993407\t,\t0.307714155\t]\t,\n",
    "[\t0.255013861\t,\t0.05869047\t,\t0.400324593\t,\t0.289993407\t,\t0.307714155\t,\t0.429152508\t]\t,\n",
    "[\t0.23708614\t,\t0.400324593\t,\t0.289993407\t,\t0.307714155\t,\t0.429152508\t,\t0.440624842\t]\t,\n",
    "[\t0.231651119\t,\t0.289993407\t,\t0.307714155\t,\t0.429152508\t,\t0.440624842\t,\t0.358046356\t]\t,\n",
    "[\t0.233067608\t,\t0.307714155\t,\t0.429152508\t,\t0.440624842\t,\t0.358046356\t,\t0.295724502\t]\t,\n",
    "[\t0.221173719\t,\t0.429152508\t,\t0.440624842\t,\t0.358046356\t,\t0.295724502\t,\t0.491413501\t]\t,\n",
    "[\t0.22633168\t,\t0.440624842\t,\t0.358046356\t,\t0.295724502\t,\t0.491413501\t,\t0.356240807\t]\t,\n",
    "[\t0.218698642\t,\t0.358046356\t,\t0.295724502\t,\t0.491413501\t,\t0.356240807\t,\t0.541055942\t]\t,\n",
    "[\t0.232032203\t,\t0.295724502\t,\t0.491413501\t,\t0.356240807\t,\t0.541055942\t,\t0.157529036\t]\t,\n",
    "[\t0.231947948\t,\t0.491413501\t,\t0.356240807\t,\t0.541055942\t,\t0.157529036\t,\t0.55294416\t]\t,\n",
    "[\t0.221547817\t,\t0.356240807\t,\t0.541055942\t,\t0.157529036\t,\t0.55294416\t,\t0.514337881\t]\t,\n",
    "[\t0.287958581\t,\t0.541055942\t,\t0.157529036\t,\t0.55294416\t,\t0.514337881\t,\t0.441213166\t]\t,\n",
    "[\t0.28837327\t,\t0.157529036\t,\t0.55294416\t,\t0.514337881\t,\t0.441213166\t,\t0.58940001\t]\t,\n",
    "[\t0.297145757\t,\t0.55294416\t,\t0.514337881\t,\t0.441213166\t,\t0.58940001\t,\t0.677070548\t]\t,\n",
    "[\t0.243669818\t,\t0.514337881\t,\t0.441213166\t,\t0.58940001\t,\t0.677070548\t,\t0.67615763\t]\t,\n",
    "[\t0.307437314\t,\t0.441213166\t,\t0.58940001\t,\t0.677070548\t,\t0.67615763\t,\t0.696941725\t]\t,\n",
    "[\t0.358597855\t,\t0.58940001\t,\t0.677070548\t,\t0.67615763\t,\t0.696941725\t,\t0.582938581\t]\t,\n",
    "[\t0.372181217\t,\t0.677070548\t,\t0.67615763\t,\t0.696941725\t,\t0.582938581\t,\t0.611147741\t]\t,\n",
    "[\t0.450259481\t,\t0.67615763\t,\t0.696941725\t,\t0.582938581\t,\t0.611147741\t,\t0.783455901\t]\t,\n",
    "[\t0.443095634\t,\t0.696941725\t,\t0.582938581\t,\t0.611147741\t,\t0.783455901\t,\t0.935669727\t]\t,\n",
    "[\t0.558155976\t,\t0.582938581\t,\t0.611147741\t,\t0.783455901\t,\t0.935669727\t,\t0.286990922\t]\t,\n",
    "[\t0.602359827\t,\t0.611147741\t,\t0.783455901\t,\t0.935669727\t,\t0.286990922\t,\t1\t]\t,\n",
    "[\t0.696291723\t,\t0.783455901\t,\t0.935669727\t,\t0.286990922\t,\t1\t,\t0.849977177\t]\t,\n",
    "[\t0.790604671\t,\t0.935669727\t,\t0.286990922\t,\t1\t,\t0.849977177\t,\t0.626008013\t]\t,\n",
    "[\t0.644022227\t,\t0.286990922\t,\t1\t,\t0.849977177\t,\t0.626008013\t,\t0.936146473\t]\t,\n",
    "[\t0.583228643\t,\t1\t,\t0.849977177\t,\t0.626008013\t,\t0.936146473\t,\t0.858467312\t]\t,\n",
    "[\t0.481715009\t,\t0.849977177\t,\t0.626008013\t,\t0.936146473\t,\t0.858467312\t,\t0.702581529\t]\t,\n",
    "[\t0.442812107\t,\t0.626008013\t,\t0.936146473\t,\t0.858467312\t,\t0.702581529\t,\t0.664685297\t]\t,\n",
    "\n",
    "\n",
    ")\n",
    ", dtype=float)\n",
    "trainY = np.array(([\t0.460465588\t]\t,\n",
    "[\t0.166688644\t]\t,\n",
    "[\t0.401744687\t]\t,\n",
    "[\t0.316478166\t]\t,\n",
    "[\t0.270862707\t]\t,\n",
    "[\t0.312512045\t]\t,\n",
    "[\t0.369092661\t]\t,\n",
    "[\t0.205751382\t]\t,\n",
    "[\t0.176193133\t]\t,\n",
    "[\t0.290419435\t]\t,\n",
    "[\t0.24090886\t]\t,\n",
    "[\t0.27408835\t]\t,\n",
    "[\t0.370908353\t]\t,\n",
    "[\t0.05869047\t]\t,\n",
    "[\t0.400324593\t]\t,\n",
    "[\t0.289993407\t]\t,\n",
    "[\t0.307714155\t]\t,\n",
    "[\t0.429152508\t]\t,\n",
    "[\t0.440624842\t]\t,\n",
    "[\t0.358046356\t]\t,\n",
    "[\t0.295724502\t]\t,\n",
    "[\t0.491413501\t]\t,\n",
    "[\t0.356240807\t]\t,\n",
    "[\t0.541055942\t]\t,\n",
    "[\t0.157529036\t]\t,\n",
    "[\t0.55294416\t]\t,\n",
    "[\t0.514337881\t]\t,\n",
    "[\t0.441213166\t]\t,\n",
    "[\t0.58940001\t]\t,\n",
    "[\t0.677070548\t]\t,\n",
    "[\t0.67615763\t]\t,\n",
    "[\t0.696941725\t]\t,\n",
    "[\t0.582938581\t]\t,\n",
    "[\t0.611147741\t]\t,\n",
    "[\t0.783455901\t]\t,\n",
    "[\t0.935669727\t]\t,\n",
    "[\t0.286990922\t]\t,\n",
    "[\t1\t]\t,\n",
    "[\t0.849977177\t]\t,\n",
    "[\t0.626008013\t]\t,\n",
    "[\t0.936146473\t]\t,\n",
    "[\t0.858467312\t]\t,\n",
    "[\t0.702581529\t]\t,\n",
    "[\t0.664685297\t]\t,\n",
    "[\t0.384176092\t]\t,\n",
    "\n",
    "\n",
    ")\n",
    ", dtype=float)\n",
    "\n",
    "#Testing Data:\n",
    "testX = np.array(([\t0.496270585\t,\t0.936146473\t,\t0.858467312\t,\t0.702581529\t,\t0.664685297\t,\t0.384176092\t]\t,\n",
    "[\t0.475463393\t,\t0.858467312\t,\t0.702581529\t,\t0.664685297\t,\t0.384176092\t,\t0.50844449\t]\t,\n",
    "[\t0.551559791\t,\t0.702581529\t,\t0.664685297\t,\t0.384176092\t,\t0.50844449\t,\t0.706050616\t]\t,\n",
    "[\t0.500994351\t,\t0.664685297\t,\t0.384176092\t,\t0.50844449\t,\t0.706050616\t,\t0.625663133\t]\t,\n",
    "[\t0.445458587\t,\t0.384176092\t,\t0.50844449\t,\t0.706050616\t,\t0.625663133\t,\t0.310067454\t]\t,\n",
    "[\t0.505711667\t,\t0.50844449\t,\t0.706050616\t,\t0.625663133\t,\t0.310067454\t,\t0.718151849\t]\t,\n",
    "[\t0.465889036\t,\t0.706050616\t,\t0.625663133\t,\t0.310067454\t,\t0.718151849\t,\t0.581295329\t]\t,\n",
    "[\t0.46785659\t,\t0.625663133\t,\t0.310067454\t,\t0.718151849\t,\t0.581295329\t,\t0.590840392\t]\t,\n",
    "[\t0.453001423\t,\t0.310067454\t,\t0.718151849\t,\t0.581295329\t,\t0.590840392\t,\t0.641121875\t]\t,\n",
    "[\t0.437411724\t,\t0.718151849\t,\t0.581295329\t,\t0.590840392\t,\t0.641121875\t,\t0.700096364\t]\t,\n",
    "[\t0.350673696\t,\t0.581295329\t,\t0.590840392\t,\t0.641121875\t,\t0.700096364\t,\t0.614971852\t]\t,\n",
    "[\t0.364031312\t,\t0.590840392\t,\t0.641121875\t,\t0.700096364\t,\t0.614971852\t,\t0.591377999\t]\t,\n",
    "\n",
    ")\n",
    ", dtype=float)\n",
    "testY = np.array(([\t0.50844449\t]\t,\n",
    "[\t0.706050616\t]\t,\n",
    "[\t0.625663133\t]\t,\n",
    "[\t0.310067454\t]\t,\n",
    "[\t0.718151849\t]\t,\n",
    "[\t0.581295329\t]\t,\n",
    "[\t0.590840392\t]\t,\n",
    "[\t0.641121875\t]\t,\n",
    "[\t0.700096364\t]\t,\n",
    "[\t0.614971852\t]\t,\n",
    "[\t0.591377999\t]\t,\n",
    "[\t0.32\t]\t,\n",
    "\n",
    ")\n",
    ", dtype=float)\n",
    "\n",
    "\n",
    "dataprediksi = np.array(([\t0.795380412\t,\t0.641121875\t,\t0.700096364\t,\t0.614971852\t,\t0.591377999\t,\t0.32\t]\t,\n",
    "[\t1\t,\t0.700096364\t,\t0.614971852\t,\t0.591377999\t,\t0.32\t,\t0.50\t]\t,\n",
    "[\t0.707681705\t,\t0.614971852\t,\t0.591377999\t,\t0.32\t,\t0.50\t,\t0.415539889\t]\t,\n",
    "[\t0.491695324\t,\t0.591377999\t,\t0.32\t,\t0.50\t,\t0.415539889\t,\t0\t]\t,\n",
    "\n",
    "\n",
    "), dtype=float)"
   ]
  },
  {
   "cell_type": "code",
   "execution_count": 15,
   "metadata": {},
   "outputs": [
    {
     "data": {
      "text/plain": [
       "array([[0.49627058, 0.93614647, 0.85846731, 0.70258153, 0.6646853 ,\n",
       "        0.38417609],\n",
       "       [0.47546339, 0.85846731, 0.70258153, 0.6646853 , 0.38417609,\n",
       "        0.50844449],\n",
       "       [0.55155979, 0.70258153, 0.6646853 , 0.38417609, 0.50844449,\n",
       "        0.70605062],\n",
       "       [0.50099435, 0.6646853 , 0.38417609, 0.50844449, 0.70605062,\n",
       "        0.62566313],\n",
       "       [0.44545859, 0.38417609, 0.50844449, 0.70605062, 0.62566313,\n",
       "        0.31006745],\n",
       "       [0.50571167, 0.50844449, 0.70605062, 0.62566313, 0.31006745,\n",
       "        0.71815185],\n",
       "       [0.46588904, 0.70605062, 0.62566313, 0.31006745, 0.71815185,\n",
       "        0.58129533],\n",
       "       [0.46785659, 0.62566313, 0.31006745, 0.71815185, 0.58129533,\n",
       "        0.59084039],\n",
       "       [0.45300142, 0.31006745, 0.71815185, 0.58129533, 0.59084039,\n",
       "        0.64112187],\n",
       "       [0.43741172, 0.71815185, 0.58129533, 0.59084039, 0.64112187,\n",
       "        0.70009636],\n",
       "       [0.3506737 , 0.58129533, 0.59084039, 0.64112187, 0.70009636,\n",
       "        0.61497185],\n",
       "       [0.36403131, 0.59084039, 0.64112187, 0.70009636, 0.61497185,\n",
       "        0.591378  ]])"
      ]
     },
     "execution_count": 15,
     "metadata": {},
     "output_type": "execute_result"
    }
   ],
   "source": [
    "testX"
   ]
  },
  {
   "cell_type": "code",
   "execution_count": 16,
   "metadata": {},
   "outputs": [],
   "source": [
    "##Need to modify trainer class a bit to check testing error during training:\n",
    "class trainer(object):\n",
    "    def __init__(self, N):\n",
    "        #Make Local reference to network:\n",
    "        self.N = N\n",
    "        \n",
    "    def callbackF(self, params):\n",
    "        self.N.setParams(params)\n",
    "        self.J.append(self.N.costFunction(self.X, self.y))\n",
    "        self.testJ.append(self.N.costFunction(self.testX, self.testY))\n",
    "        \n",
    "    def costFunctionWrapper(self, params, X, y):\n",
    "        self.N.setParams(params)\n",
    "        cost = self.N.costFunction(X, y)\n",
    "        grad = self.N.computeGradients(X,y)\n",
    "        \n",
    "        return cost, grad\n",
    "        \n",
    "    def train(self, trainX, trainY, testX, testY):\n",
    "        #Make an internal variable for the callback function:\n",
    "        self.X = trainX\n",
    "        self.y = trainY\n",
    "        \n",
    "        self.testX = testX\n",
    "        self.testY = testY\n",
    "\n",
    "        #Make empty list to store training costs:\n",
    "        self.J = []\n",
    "        self.testJ = []\n",
    "        \n",
    "        params0 = self.N.getParams()\n",
    "\n",
    "        options = {'maxiter': 100, 'disp' : True}\n",
    "        _res = optimize.minimize(self.costFunctionWrapper, params0, jac=True, method='BFGS', \\\n",
    "                                 args=(trainX, trainY), options=options, callback=self.callbackF)\n",
    "\n",
    "        self.N.setParams(_res.x)\n",
    "        self.optimizationResults = _res"
   ]
  },
  {
   "cell_type": "code",
   "execution_count": 17,
   "metadata": {},
   "outputs": [
    {
     "name": "stdout",
     "output_type": "stream",
     "text": [
      "Optimization terminated successfully.\n",
      "         Current function value: 0.820534\n",
      "         Iterations: 55\n",
      "         Function evaluations: 63\n",
      "         Gradient evaluations: 63\n"
     ]
    }
   ],
   "source": [
    "#Train network with new data:\n",
    "NN = Neural_Network()\n",
    "\n",
    "T = trainer(NN)\n",
    "T.train(trainX, trainY, testX, testY)"
   ]
  },
  {
   "cell_type": "code",
   "execution_count": 18,
   "metadata": {},
   "outputs": [
    {
     "data": {
      "image/png": "[encoded data removed]",
      "text/plain": [
       "<Figure size 432x288 with 1 Axes>"
      ]
     },
     "metadata": {
      "needs_background": "light"
     },
     "output_type": "display_data"
    }
   ],
   "source": [
    "#Plot cost during training:\n",
    "plot.plot(T.J)\n",
    "plot.plot(T.testJ)\n",
    "plot.grid(1)\n",
    "plot.xlabel('Iterations')\n",
    "plot.ylabel('Cost')\n",
    "plot.legend(['Training', 'Testing'])\n",
    "plot.show()"
   ]
  },
  {
   "cell_type": "code",
   "execution_count": 19,
   "metadata": {},
   "outputs": [
    {
     "data": {
      "text/plain": [
       "[array([1.17408758]),\n",
       " array([1.01899093]),\n",
       " array([1.01400709]),\n",
       " array([0.97307602]),\n",
       " array([0.91259998]),\n",
       " array([0.87657316]),\n",
       " array([0.85367567]),\n",
       " array([0.83939209]),\n",
       " array([0.83063376]),\n",
       " array([0.82579677]),\n",
       " array([0.82316314]),\n",
       " array([0.82262152]),\n",
       " array([0.82193033]),\n",
       " array([0.82176231]),\n",
       " array([0.82169403]),\n",
       " array([0.82166276]),\n",
       " array([0.82164502]),\n",
       " array([0.8216132]),\n",
       " array([0.82155542]),\n",
       " array([0.82145267]),\n",
       " array([0.82128205]),\n",
       " array([0.82105183]),\n",
       " array([0.82093611]),\n",
       " array([0.82087573]),\n",
       " array([0.82086443]),\n",
       " array([0.82085951]),\n",
       " array([0.82085461]),\n",
       " array([0.82084551]),\n",
       " array([0.82082847]),\n",
       " array([0.82079708]),\n",
       " array([0.82074195]),\n",
       " array([0.82065763]),\n",
       " array([0.82059345]),\n",
       " array([0.82056284]),\n",
       " array([0.82054342]),\n",
       " array([0.82054156]),\n",
       " array([0.82054133]),\n",
       " array([0.82054108]),\n",
       " array([0.82054063]),\n",
       " array([0.82053983]),\n",
       " array([0.82053846]),\n",
       " array([0.82053645]),\n",
       " array([0.82053529]),\n",
       " array([0.82053487]),\n",
       " array([0.82053475]),\n",
       " array([0.82053474]),\n",
       " array([0.82053474]),\n",
       " array([0.82053473]),\n",
       " array([0.82053471]),\n",
       " array([0.82053468]),\n",
       " array([0.82053463]),\n",
       " array([0.82053454]),\n",
       " array([0.82053442]),\n",
       " array([0.82053437]),\n",
       " array([0.82053432])]"
      ]
     },
     "execution_count": 19,
     "metadata": {},
     "output_type": "execute_result"
    }
   ],
   "source": [
    "T.J"
   ]
  },
  {
   "cell_type": "code",
   "execution_count": 20,
   "metadata": {},
   "outputs": [
    {
     "data": {
      "text/plain": [
       "[array([0.15515951]),\n",
       " array([0.14765005]),\n",
       " array([0.15383471]),\n",
       " array([0.16886249]),\n",
       " array([0.16857816]),\n",
       " array([0.16551731]),\n",
       " array([0.16150444]),\n",
       " array([0.15750305]),\n",
       " array([0.15437716]),\n",
       " array([0.15108328]),\n",
       " array([0.15054384]),\n",
       " array([0.14613026]),\n",
       " array([0.14738939]),\n",
       " array([0.14758444]),\n",
       " array([0.14734645]),\n",
       " array([0.14705651]),\n",
       " array([0.1469349]),\n",
       " array([0.14682993]),\n",
       " array([0.14673641]),\n",
       " array([0.14666882]),\n",
       " array([0.14668565]),\n",
       " array([0.14697305]),\n",
       " array([0.14737283]),\n",
       " array([0.14783681]),\n",
       " array([0.14795491]),\n",
       " array([0.14800993]),\n",
       " array([0.14805018]),\n",
       " array([0.14809903]),\n",
       " array([0.14817144]),\n",
       " array([0.14828974]),\n",
       " array([0.14849451]),\n",
       " array([0.14886244]),\n",
       " array([0.14922464]),\n",
       " array([0.14928331]),\n",
       " array([0.14918492]),\n",
       " array([0.14910805]),\n",
       " array([0.14908838]),\n",
       " array([0.14907601]),\n",
       " array([0.14906651]),\n",
       " array([0.14905963]),\n",
       " array([0.14905907]),\n",
       " array([0.14907651]),\n",
       " array([0.14911298]),\n",
       " array([0.14914234]),\n",
       " array([0.14915828]),\n",
       " array([0.14915914]),\n",
       " array([0.14915892]),\n",
       " array([0.14915855]),\n",
       " array([0.14915803]),\n",
       " array([0.14915721]),\n",
       " array([0.14915586]),\n",
       " array([0.14915353]),\n",
       " array([0.14914961]),\n",
       " array([0.14914836]),\n",
       " array([0.14914839])]"
      ]
     },
     "execution_count": 20,
     "metadata": {},
     "output_type": "execute_result"
    }
   ],
   "source": [
    "T.testJ"
   ]
  },
  {
   "cell_type": "code",
   "execution_count": 21,
   "metadata": {},
   "outputs": [
    {
     "data": {
      "text/plain": [
       "0.6908850611691354"
      ]
     },
     "execution_count": 21,
     "metadata": {},
     "output_type": "execute_result"
    }
   ],
   "source": [
    "from sklearn.metrics import mean_absolute_error\n",
    "mean_absolute_error(T.J, T.testJ)"
   ]
  },
  {
   "cell_type": "code",
   "execution_count": 22,
   "metadata": {},
   "outputs": [],
   "source": [
    "yHat = NN.forward(X)"
   ]
  },
  {
   "cell_type": "code",
   "execution_count": 23,
   "metadata": {},
   "outputs": [
    {
     "data": {
      "text/plain": [
       "array([[0.44717741],\n",
       "       [0.431852  ],\n",
       "       [0.42442852],\n",
       "       [0.31982734],\n",
       "       [0.31544317],\n",
       "       [0.36937189],\n",
       "       [0.31460168],\n",
       "       [0.29747522],\n",
       "       [0.36450424],\n",
       "       [0.34565971],\n",
       "       [0.21415607],\n",
       "       [0.19393105],\n",
       "       [0.24256067],\n",
       "       [0.28068143],\n",
       "       [0.35347609],\n",
       "       [0.245614  ],\n",
       "       [0.25453793],\n",
       "       [0.34422394],\n",
       "       [0.33938148],\n",
       "       [0.40451195],\n",
       "       [0.44694614],\n",
       "       [0.44565812],\n",
       "       [0.40997199],\n",
       "       [0.43156832],\n",
       "       [0.44800137],\n",
       "       [0.46338144],\n",
       "       [0.42679652],\n",
       "       [0.42320063],\n",
       "       [0.47208514],\n",
       "       [0.47400694],\n",
       "       [0.48171581],\n",
       "       [0.49309944],\n",
       "       [0.4960583 ],\n",
       "       [0.49690121],\n",
       "       [0.49577878],\n",
       "       [0.49288414],\n",
       "       [0.49612734],\n",
       "       [0.4988346 ],\n",
       "       [0.4950204 ],\n",
       "       [0.49408293],\n",
       "       [0.49876854],\n",
       "       [0.49824815],\n",
       "       [0.49872577],\n",
       "       [0.49945451],\n",
       "       [0.49914413],\n",
       "       [0.49774942],\n",
       "       [0.48928247],\n",
       "       [0.46620689],\n",
       "       [0.48591817],\n",
       "       [0.49367774],\n",
       "       [0.47836287],\n",
       "       [0.47951738],\n",
       "       [0.49078135],\n",
       "       [0.49075342],\n",
       "       [0.49270085],\n",
       "       [0.49576557],\n",
       "       [0.49592324]])"
      ]
     },
     "execution_count": 23,
     "metadata": {},
     "output_type": "execute_result"
    }
   ],
   "source": [
    "yHat"
   ]
  },
  {
   "cell_type": "code",
   "execution_count": 24,
   "metadata": {},
   "outputs": [
    {
     "data": {
      "text/plain": [
       "array([[0.46046559],\n",
       "       [0.16668864],\n",
       "       [0.40174469],\n",
       "       [0.31647817],\n",
       "       [0.27086271],\n",
       "       [0.31251205],\n",
       "       [0.36909266],\n",
       "       [0.20575138],\n",
       "       [0.17619313],\n",
       "       [0.29041944],\n",
       "       [0.24090886],\n",
       "       [0.27408835],\n",
       "       [0.37090835],\n",
       "       [0.05869047],\n",
       "       [0.40032459],\n",
       "       [0.28999341],\n",
       "       [0.30771415],\n",
       "       [0.42915251],\n",
       "       [0.44062484],\n",
       "       [0.35804636],\n",
       "       [0.2957245 ],\n",
       "       [0.4914135 ],\n",
       "       [0.35624081],\n",
       "       [0.54105594],\n",
       "       [0.15752904],\n",
       "       [0.55294416],\n",
       "       [0.51433788],\n",
       "       [0.44121317],\n",
       "       [0.58940001],\n",
       "       [0.67707055],\n",
       "       [0.67615763],\n",
       "       [0.69694172],\n",
       "       [0.58293858],\n",
       "       [0.61114774],\n",
       "       [0.7834559 ],\n",
       "       [0.93566973],\n",
       "       [0.28699092],\n",
       "       [1.        ],\n",
       "       [0.84997718],\n",
       "       [0.62600801],\n",
       "       [0.93614647],\n",
       "       [0.85846731],\n",
       "       [0.70258153],\n",
       "       [0.6646853 ],\n",
       "       [0.38417609],\n",
       "       [0.50844449],\n",
       "       [0.70605062],\n",
       "       [0.62566313],\n",
       "       [0.31006745],\n",
       "       [0.71815185],\n",
       "       [0.58129533],\n",
       "       [0.59084039],\n",
       "       [0.64112187],\n",
       "       [0.70009636],\n",
       "       [0.61497185],\n",
       "       [0.591378  ],\n",
       "       [0.32      ]])"
      ]
     },
     "execution_count": 24,
     "metadata": {},
     "output_type": "execute_result"
    }
   ],
   "source": [
    "y"
   ]
  },
  {
   "cell_type": "code",
   "execution_count": 25,
   "metadata": {},
   "outputs": [
    {
     "data": {
      "text/plain": [
       "0.03402395453136889"
      ]
     },
     "execution_count": 25,
     "metadata": {},
     "output_type": "execute_result"
    }
   ],
   "source": [
    "from sklearn.metrics import mean_squared_error \n",
    "mean_squared_error(y,yHat) "
   ]
  },
  {
   "cell_type": "code",
   "execution_count": 26,
   "metadata": {},
   "outputs": [
    {
     "data": {
      "image/png": "[encoded data removed]",
      "text/plain": [
       "<Figure size 432x288 with 1 Axes>"
      ]
     },
     "metadata": {
      "needs_background": "light"
     },
     "output_type": "display_data"
    }
   ],
   "source": [
    "#Plot cost during training:\n",
    "plot.plot(y)\n",
    "plot.plot(yHat)\n",
    "plot.grid(1)\n",
    "plot.legend(['y', 'yHat'])\n",
    "plot.show()"
   ]
  },
  {
   "cell_type": "code",
   "execution_count": null,
   "metadata": {},
   "outputs": [],
   "source": []
  }
 ],
 "metadata": {
  "kernelspec": {
   "display_name": "Python 3",
   "language": "python",
   "name": "python3"
  },
  "language_info": {
   "codemirror_mode": {
    "name": "ipython",
    "version": 3
   },
   "file_extension": ".py",
   "mimetype": "text/x-python",
   "name": "python",
   "nbconvert_exporter": "python",
   "pygments_lexer": "ipython3",
   "version": "3.7.3"
  }
 },
 "nbformat": 4,
 "nbformat_minor": 2
}
