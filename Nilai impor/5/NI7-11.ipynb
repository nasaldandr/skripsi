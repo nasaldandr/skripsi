{
 "cells": [
  {
   "cell_type": "code",
   "execution_count": 1,
   "metadata": {},
   "outputs": [],
   "source": [
    "import numpy as np"
   ]
  },
  {
   "cell_type": "code",
   "execution_count": 2,
   "metadata": {},
   "outputs": [],
   "source": [
    "#UNTUK NILAI IMPOR\n",
    "class Neural_Network(object):\n",
    "    def __init__(self):\n",
    "        #parameters\n",
    "        self.inputLayerSize = 7\n",
    "        self.outputLayerSize = 1\n",
    "        self.hiddenLayerSize = 11\n",
    "\n",
    "        #weights\n",
    "        self.W1 = np.random.randn(self.inputLayerSize,\\\n",
    "                                 self.hiddenLayerSize)  \n",
    "        self.W2 = np.random.randn(self.hiddenLayerSize,\\\n",
    "                                 self.outputLayerSize)  \n",
    "    \n",
    "    def printw(self):\n",
    "        return self.W1\n",
    "        \n",
    "    def weight(self, W1, W2):\n",
    "        #Make an internal variable for the weight:\n",
    "        self.W1 = W1\n",
    "        self.W2 = W2\n",
    "        \n",
    "    def forward(self, X):\n",
    "        #forward propagation through our network\n",
    "        self.z2 = np.dot(X,self.W1)  \n",
    "        self.a2 = self.sigmoid(self.z2)  # activation function\n",
    "        self.z3 = np.dot(self.a2, self.W2) \n",
    "        yHat = self.sigmoid(self.z3)  # final activation function\n",
    "        return yHat\n",
    "\n",
    "    def sigmoid(self, z):\n",
    "        # activation function\n",
    "        return 1 / (1 + np.exp(-z))\n",
    "    \n",
    "    def sigmoidPrime(self,z): \n",
    "        #derivative of sigmoid     \n",
    "        return np.exp(-z)/((1+np.exp(-z))**2)\n",
    "    \n",
    "    def costFunction(self,X,y):\n",
    "        self.yHat = self.forward(X)\n",
    "        J=0.5*sum((y-self.yHat)**2)\n",
    "        return J\n",
    "    \n",
    "    def costFunctionPrime(self,X,y):\n",
    "        self.yHat=self.forward(X)\n",
    "        \n",
    "        delta3=np.multiply(-(y-self.yHat),self.sigmoidPrime(self.z3))\n",
    "        dJdW2=np.dot(self.a2.T,delta3)\n",
    "        \n",
    "        delta2=np.dot(delta3,self.W2.T)*self.sigmoidPrime(self.z2)\n",
    "        dJdW1=np.dot(X.T,delta2)\n",
    "        return dJdW1,dJdW2\n",
    "    \n",
    "    def predict(self):\n",
    "        prediksi = self.forward(dataprediksi)\n",
    "        return prediksi\n",
    "    \n",
    "    def getParams(self):\n",
    "        params=np.concatenate((self.W1.ravel(),self.W2.ravel()))\n",
    "        return params\n",
    "    \n",
    "    def setParams(self,params):\n",
    "        W1_start=0\n",
    "        W1_end=self.hiddenLayerSize*self.inputLayerSize\n",
    "        self.W1=np.reshape(params[W1_start:W1_end],\\\n",
    "                          (self.inputLayerSize,self.hiddenLayerSize))\n",
    "        W2_end=W1_end+self.hiddenLayerSize*self.outputLayerSize\n",
    "        self.W2=np.reshape(params[W1_end:W2_end],\\\n",
    "                          (self.hiddenLayerSize,self.outputLayerSize))\n",
    "        \n",
    "    def computeGradients(self, X, y):\n",
    "        dJdW1, dJdW2 = self.costFunctionPrime(X, y)\n",
    "        return np.concatenate((dJdW1.ravel(), dJdW2.ravel()))"
   ]
  },
  {
   "cell_type": "code",
   "execution_count": 3,
   "metadata": {},
   "outputs": [],
   "source": [
    "NN = Neural_Network()"
   ]
  },
  {
   "cell_type": "code",
   "execution_count": 4,
   "metadata": {},
   "outputs": [
    {
     "data": {
      "text/plain": [
       "array([[-1.22350312, -0.64006714,  0.47828159,  2.11199278,  0.77549566,\n",
       "         1.4448702 , -0.63295939,  3.06328166,  0.0749141 , -0.96867525,\n",
       "        -1.06612407],\n",
       "       [ 0.3338924 ,  1.07058947,  0.50979043,  0.77095871,  0.41130952,\n",
       "         0.82744391, -0.57468453, -0.68281516,  1.58536817, -0.29845506,\n",
       "        -0.66532177],\n",
       "       [ 2.00402084,  1.2795067 ,  0.92939543, -0.89793809,  0.89433487,\n",
       "         1.15072819, -0.43911539,  0.30460559, -0.70636784, -0.21538091,\n",
       "        -0.93102035],\n",
       "       [ 0.78434269, -0.18841804,  0.17172358,  0.15671405,  1.52178713,\n",
       "        -0.18399037, -0.33902628,  2.20724852, -1.0748902 , -0.57220268,\n",
       "         1.97050872],\n",
       "       [-0.36301956,  0.08447912, -0.01378628, -0.14365697,  0.16726335,\n",
       "        -0.90282632, -0.02018224,  0.79904157, -0.35954254, -0.89350481,\n",
       "         0.81393768],\n",
       "       [ 0.78429057,  0.27051867,  0.51350374, -0.15332272,  0.381258  ,\n",
       "        -0.30919721,  0.74523749, -0.79130563, -0.84036697, -0.29572423,\n",
       "         0.28722062],\n",
       "       [-0.77249246, -0.63964169, -0.40237811,  0.8236592 ,  0.10012601,\n",
       "        -1.12669326,  0.34361377, -0.16842334,  0.0292864 ,  1.2468722 ,\n",
       "         0.51185088]])"
      ]
     },
     "execution_count": 4,
     "metadata": {},
     "output_type": "execute_result"
    }
   ],
   "source": [
    "NN.W1"
   ]
  },
  {
   "cell_type": "code",
   "execution_count": 5,
   "metadata": {},
   "outputs": [
    {
     "data": {
      "text/plain": [
       "array([[-0.56454134],\n",
       "       [-0.44174702],\n",
       "       [ 0.49525155],\n",
       "       [ 0.44149877],\n",
       "       [ 0.4275608 ],\n",
       "       [-0.09593093],\n",
       "       [-0.72729504],\n",
       "       [ 0.67016292],\n",
       "       [ 0.02527671],\n",
       "       [ 1.07900204],\n",
       "       [-0.43642689]])"
      ]
     },
     "execution_count": 5,
     "metadata": {},
     "output_type": "execute_result"
    }
   ],
   "source": [
    "NN.W2"
   ]
  },
  {
   "cell_type": "code",
   "execution_count": 6,
   "metadata": {},
   "outputs": [],
   "source": [
    "#NILAI IMPOR\n",
    "X=np.array(([\t0.697183099\t,\t0.223256598\t,\t0.423360552\t,\t0.311558554\t,\t0.422995385\t,\t0.424780646\t,\t0.322057108\t]\t,\n",
    "[\t0.971830986\t,\t0.241974687\t,\t0.311558554\t,\t0.422995385\t,\t0.424780646\t,\t0.322057108\t,\t0.460465588\t]\t,\n",
    "[\t0.591549296\t,\t0.365733465\t,\t0.422995385\t,\t0.424780646\t,\t0.322057108\t,\t0.460465588\t,\t0.166688644\t]\t,\n",
    "[\t0.281690141\t,\t0.552558994\t,\t0.424780646\t,\t0.322057108\t,\t0.460465588\t,\t0.166688644\t,\t0.401744687\t]\t,\n",
    "[\t0.26056338\t,\t0.370023519\t,\t0.322057108\t,\t0.460465588\t,\t0.166688644\t,\t0.401744687\t,\t0.316478166\t]\t,\n",
    "[\t0.464788732\t,\t0.332531703\t,\t0.460465588\t,\t0.166688644\t,\t0.401744687\t,\t0.316478166\t,\t0.270862707\t]\t,\n",
    "[\t0.992957746\t,\t0.387887522\t,\t0.166688644\t,\t0.401744687\t,\t0.316478166\t,\t0.270862707\t,\t0.312512045\t]\t,\n",
    "[\t0.676056338\t,\t0.398363943\t,\t0.401744687\t,\t0.316478166\t,\t0.270862707\t,\t0.312512045\t,\t0.369092661\t]\t,\n",
    "[\t0.253521127\t,\t0.284826299\t,\t0.316478166\t,\t0.270862707\t,\t0.312512045\t,\t0.369092661\t,\t0.205751382\t]\t,\n",
    "[\t0.450704225\t,\t0.186735022\t,\t0.270862707\t,\t0.312512045\t,\t0.369092661\t,\t0.205751382\t,\t0.176193133\t]\t,\n",
    "[\t0\t,\t0.182694768\t,\t0.312512045\t,\t0.369092661\t,\t0.205751382\t,\t0.176193133\t,\t0.290419435\t]\t,\n",
    "[\t0.485915493\t,\t0.255617002\t,\t0.369092661\t,\t0.205751382\t,\t0.176193133\t,\t0.290419435\t,\t0.24090886\t]\t,\n",
    "[\t0.781690141\t,\t0.23597043\t,\t0.205751382\t,\t0.176193133\t,\t0.290419435\t,\t0.24090886\t,\t0.27408835\t]\t,\n",
    "[\t0.802816901\t,\t0.164134134\t,\t0.176193133\t,\t0.290419435\t,\t0.24090886\t,\t0.27408835\t,\t0.370908353\t]\t,\n",
    "[\t0.302816901\t,\t0.178176635\t,\t0.290419435\t,\t0.24090886\t,\t0.27408835\t,\t0.370908353\t,\t0.05869047\t]\t,\n",
    "[\t0.471830986\t,\t0.163956101\t,\t0.24090886\t,\t0.27408835\t,\t0.370908353\t,\t0.05869047\t,\t0.400324593\t]\t,\n",
    "[\t0.415492958\t,\t0.133241484\t,\t0.27408835\t,\t0.370908353\t,\t0.05869047\t,\t0.400324593\t,\t0.289993407\t]\t,\n",
    "[\t0.647887324\t,\t0.226399017\t,\t0.370908353\t,\t0.05869047\t,\t0.400324593\t,\t0.289993407\t,\t0.307714155\t]\t,\n",
    "[\t0.612676056\t,\t0.255013861\t,\t0.05869047\t,\t0.400324593\t,\t0.289993407\t,\t0.307714155\t,\t0.429152508\t]\t,\n",
    "[\t1\t,\t0.23708614\t,\t0.400324593\t,\t0.289993407\t,\t0.307714155\t,\t0.429152508\t,\t0.440624842\t]\t,\n",
    "[\t0.478873239\t,\t0.231651119\t,\t0.289993407\t,\t0.307714155\t,\t0.429152508\t,\t0.440624842\t,\t0.358046356\t]\t,\n",
    "[\t0.302816901\t,\t0.233067608\t,\t0.307714155\t,\t0.429152508\t,\t0.440624842\t,\t0.358046356\t,\t0.295724502\t]\t,\n",
    "[\t0.38028169\t,\t0.221173719\t,\t0.429152508\t,\t0.440624842\t,\t0.358046356\t,\t0.295724502\t,\t0.491413501\t]\t,\n",
    "[\t0.591549296\t,\t0.22633168\t,\t0.440624842\t,\t0.358046356\t,\t0.295724502\t,\t0.491413501\t,\t0.356240807\t]\t,\n",
    "[\t0.802816901\t,\t0.218698642\t,\t0.358046356\t,\t0.295724502\t,\t0.491413501\t,\t0.356240807\t,\t0.541055942\t]\t,\n",
    "[\t0.471830986\t,\t0.232032203\t,\t0.295724502\t,\t0.491413501\t,\t0.356240807\t,\t0.541055942\t,\t0.157529036\t]\t,\n",
    "[\t0.267605634\t,\t0.231947948\t,\t0.491413501\t,\t0.356240807\t,\t0.541055942\t,\t0.157529036\t,\t0.55294416\t]\t,\n",
    "[\t0.408450704\t,\t0.221547817\t,\t0.356240807\t,\t0.541055942\t,\t0.157529036\t,\t0.55294416\t,\t0.514337881\t]\t,\n",
    "[\t0.323943662\t,\t0.287958581\t,\t0.541055942\t,\t0.157529036\t,\t0.55294416\t,\t0.514337881\t,\t0.441213166\t]\t,\n",
    "[\t0.457746479\t,\t0.28837327\t,\t0.157529036\t,\t0.55294416\t,\t0.514337881\t,\t0.441213166\t,\t0.58940001\t]\t,\n",
    "[\t0.816901408\t,\t0.297145757\t,\t0.55294416\t,\t0.514337881\t,\t0.441213166\t,\t0.58940001\t,\t0.677070548\t]\t,\n",
    "[\t0.753521127\t,\t0.243669818\t,\t0.514337881\t,\t0.441213166\t,\t0.58940001\t,\t0.677070548\t,\t0.67615763\t]\t,\n",
    "[\t0.436619718\t,\t0.307437314\t,\t0.441213166\t,\t0.58940001\t,\t0.677070548\t,\t0.67615763\t,\t0.696941725\t]\t,\n",
    "[\t0.457746479\t,\t0.358597855\t,\t0.58940001\t,\t0.677070548\t,\t0.67615763\t,\t0.696941725\t,\t0.582938581\t]\t,\n",
    "[\t0.387323944\t,\t0.372181217\t,\t0.677070548\t,\t0.67615763\t,\t0.696941725\t,\t0.582938581\t,\t0.611147741\t]\t,\n",
    "[\t0.464788732\t,\t0.450259481\t,\t0.67615763\t,\t0.696941725\t,\t0.582938581\t,\t0.611147741\t,\t0.783455901\t]\t,\n",
    "[\t0.732394366\t,\t0.443095634\t,\t0.696941725\t,\t0.582938581\t,\t0.611147741\t,\t0.783455901\t,\t0.935669727\t]\t,\n",
    "[\t0.514084507\t,\t0.558155976\t,\t0.582938581\t,\t0.611147741\t,\t0.783455901\t,\t0.935669727\t,\t0.286990922\t]\t,\n",
    "[\t0.281690141\t,\t0.602359827\t,\t0.611147741\t,\t0.783455901\t,\t0.935669727\t,\t0.286990922\t,\t1\t]\t,\n",
    "[\t0.190140845\t,\t0.696291723\t,\t0.783455901\t,\t0.935669727\t,\t0.286990922\t,\t1\t,\t0.849977177\t]\t,\n",
    "[\t0.514084507\t,\t0.790604671\t,\t0.935669727\t,\t0.286990922\t,\t1\t,\t0.849977177\t,\t0.626008013\t]\t,\n",
    "[\t0.507042254\t,\t0.644022227\t,\t0.286990922\t,\t1\t,\t0.849977177\t,\t0.626008013\t,\t0.936146473\t]\t,\n",
    "[\t0.753521127\t,\t0.583228643\t,\t1\t,\t0.849977177\t,\t0.626008013\t,\t0.936146473\t,\t0.858467312\t]\t,\n",
    "[\t0.542253521\t,\t0.481715009\t,\t0.849977177\t,\t0.626008013\t,\t0.936146473\t,\t0.858467312\t,\t0.702581529\t]\t,\n",
    "[\t0.26056338\t,\t0.442812107\t,\t0.626008013\t,\t0.936146473\t,\t0.858467312\t,\t0.702581529\t,\t0.664685297\t]\t,\n",
    "[\t0.394366197\t,\t0.496270585\t,\t0.936146473\t,\t0.858467312\t,\t0.702581529\t,\t0.664685297\t,\t0.384176092\t]\t,\n",
    "[\t0.626760563\t,\t0.475463393\t,\t0.858467312\t,\t0.702581529\t,\t0.664685297\t,\t0.384176092\t,\t0.50844449\t]\t,\n",
    "[\t0.795774648\t,\t0.551559791\t,\t0.702581529\t,\t0.664685297\t,\t0.384176092\t,\t0.50844449\t,\t0.706050616\t]\t,\n",
    "[\t0.704225352\t,\t0.500994351\t,\t0.664685297\t,\t0.384176092\t,\t0.50844449\t,\t0.706050616\t,\t0.625663133\t]\t,\n",
    "[\t0.535211268\t,\t0.445458587\t,\t0.384176092\t,\t0.50844449\t,\t0.706050616\t,\t0.625663133\t,\t0.310067454\t]\t,\n",
    "[\t0.401408451\t,\t0.505711667\t,\t0.50844449\t,\t0.706050616\t,\t0.625663133\t,\t0.310067454\t,\t0.718151849\t]\t,\n",
    "[\t0.126760563\t,\t0.465889036\t,\t0.706050616\t,\t0.625663133\t,\t0.310067454\t,\t0.718151849\t,\t0.581295329\t]\t,\n",
    "[\t0.330985915\t,\t0.46785659\t,\t0.625663133\t,\t0.310067454\t,\t0.718151849\t,\t0.581295329\t,\t0.590840392\t]\t,\n",
    "[\t0.415492958\t,\t0.453001423\t,\t0.310067454\t,\t0.718151849\t,\t0.581295329\t,\t0.590840392\t,\t0.641121875\t]\t,\n",
    "[\t0.556338028\t,\t0.437411724\t,\t0.718151849\t,\t0.581295329\t,\t0.590840392\t,\t0.641121875\t,\t0.700096364\t]\t,\n",
    "[\t0.591549296\t,\t0.350673696\t,\t0.581295329\t,\t0.590840392\t,\t0.641121875\t,\t0.700096364\t,\t0.614971852\t]\t,\n",
    "[\t0.514084507\t,\t0.364031312\t,\t0.590840392\t,\t0.641121875\t,\t0.700096364\t,\t0.614971852\t,\t0.591377999\t]\t,\n",
    "\n",
    ")           \n",
    ",dtype=float)\n",
    "y=np.array(([\t0.460465588\t]\t,\n",
    "[\t0.166688644\t]\t,\n",
    "[\t0.401744687\t]\t,\n",
    "[\t0.316478166\t]\t,\n",
    "[\t0.270862707\t]\t,\n",
    "[\t0.312512045\t]\t,\n",
    "[\t0.369092661\t]\t,\n",
    "[\t0.205751382\t]\t,\n",
    "[\t0.176193133\t]\t,\n",
    "[\t0.290419435\t]\t,\n",
    "[\t0.24090886\t]\t,\n",
    "[\t0.27408835\t]\t,\n",
    "[\t0.370908353\t]\t,\n",
    "[\t0.05869047\t]\t,\n",
    "[\t0.400324593\t]\t,\n",
    "[\t0.289993407\t]\t,\n",
    "[\t0.307714155\t]\t,\n",
    "[\t0.429152508\t]\t,\n",
    "[\t0.440624842\t]\t,\n",
    "[\t0.358046356\t]\t,\n",
    "[\t0.295724502\t]\t,\n",
    "[\t0.491413501\t]\t,\n",
    "[\t0.356240807\t]\t,\n",
    "[\t0.541055942\t]\t,\n",
    "[\t0.157529036\t]\t,\n",
    "[\t0.55294416\t]\t,\n",
    "[\t0.514337881\t]\t,\n",
    "[\t0.441213166\t]\t,\n",
    "[\t0.58940001\t]\t,\n",
    "[\t0.677070548\t]\t,\n",
    "[\t0.67615763\t]\t,\n",
    "[\t0.696941725\t]\t,\n",
    "[\t0.582938581\t]\t,\n",
    "[\t0.611147741\t]\t,\n",
    "[\t0.783455901\t]\t,\n",
    "[\t0.935669727\t]\t,\n",
    "[\t0.286990922\t]\t,\n",
    "[\t1\t]\t,\n",
    "[\t0.849977177\t]\t,\n",
    "[\t0.626008013\t]\t,\n",
    "[\t0.936146473\t]\t,\n",
    "[\t0.858467312\t]\t,\n",
    "[\t0.702581529\t]\t,\n",
    "[\t0.664685297\t]\t,\n",
    "[\t0.384176092\t]\t,\n",
    "[\t0.50844449\t]\t,\n",
    "[\t0.706050616\t]\t,\n",
    "[\t0.625663133\t]\t,\n",
    "[\t0.310067454\t]\t,\n",
    "[\t0.718151849\t]\t,\n",
    "[\t0.581295329\t]\t,\n",
    "[\t0.590840392\t]\t,\n",
    "[\t0.641121875\t]\t,\n",
    "[\t0.700096364\t]\t,\n",
    "[\t0.614971852\t]\t,\n",
    "[\t0.591377999\t]\t,\n",
    "[\t0.32\t]\t,\n",
    "\n",
    "\n",
    ")\n",
    ",dtype=float)\n",
    "\n",
    "dataprediksi = np.array(([\t0.387323944\t,\t0.795380412\t,\t0.641121875\t,\t0.700096364\t,\t0.614971852\t,\t0.591377999\t,\t0.32\t]\t,\n",
    "[\t0.373239437\t,\t1\t,\t0.700096364\t,\t0.614971852\t,\t0.591377999\t,\t0.32\t,\t0.50\t]\t,\n",
    "[\t0.366197183\t,\t0.707681705\t,\t0.614971852\t,\t0.591377999\t,\t0.32\t,\t0.50\t,\t0.415539889\t]\t,\n",
    "[\t0.443661972\t,\t0.491695324\t,\t0.591377999\t,\t0.32\t,\t0.50\t,\t0.415539889\t,\t0\t]\t,\n",
    "\n",
    "), dtype=float)\n"
   ]
  },
  {
   "cell_type": "code",
   "execution_count": 7,
   "metadata": {},
   "outputs": [],
   "source": [
    "import matplotlib.pyplot as plot"
   ]
  },
  {
   "cell_type": "code",
   "execution_count": 8,
   "metadata": {},
   "outputs": [],
   "source": [
    "from scipy import optimize"
   ]
  },
  {
   "cell_type": "code",
   "execution_count": 9,
   "metadata": {},
   "outputs": [],
   "source": [
    "class trainer(object):\n",
    "    def __init__(self, N):\n",
    "        #Make Local reference to network:\n",
    "        self.N = N\n",
    "        \n",
    "    def callbackF(self, params):\n",
    "        self.N.setParams(params)\n",
    "        self.J.append(self.N.costFunction(self.X, self.y))   \n",
    "        \n",
    "    def costFunctionWrapper(self, params, X, y):\n",
    "        self.N.setParams(params)\n",
    "        cost = self.N.costFunction(X, y)\n",
    "        grad = self.N.computeGradients(X,y)\n",
    "        \n",
    "        return cost, grad\n",
    "        \n",
    "    def train(self, X, y):\n",
    "        #Make an internal variable for the callback function:\n",
    "        self.X = X\n",
    "        self.y = y\n",
    "\n",
    "        #Make empty list to store costs:\n",
    "        self.J = []\n",
    "        \n",
    "        params0 = self.N.getParams()\n",
    "\n",
    "        options = {'maxiter': 100, 'disp' : True}\n",
    "        _res = optimize.minimize(self.costFunctionWrapper, params0, jac=True, method='BFGS', \\\n",
    "                                 args=(X, y), options=options, callback=self.callbackF)\n",
    "\n",
    "        self.N.setParams(_res.x)\n",
    "        self.optimizationResults = _res"
   ]
  },
  {
   "cell_type": "code",
   "execution_count": 10,
   "metadata": {},
   "outputs": [],
   "source": [
    "NN=Neural_Network()"
   ]
  },
  {
   "cell_type": "code",
   "execution_count": 11,
   "metadata": {},
   "outputs": [],
   "source": [
    "T = trainer(NN)"
   ]
  },
  {
   "cell_type": "code",
   "execution_count": 12,
   "metadata": {},
   "outputs": [
    {
     "name": "stdout",
     "output_type": "stream",
     "text": [
      "Warning: Maximum number of iterations has been exceeded.\n",
      "         Current function value: 0.272652\n",
      "         Iterations: 100\n",
      "         Function evaluations: 103\n",
      "         Gradient evaluations: 103\n"
     ]
    }
   ],
   "source": [
    "#Train network with new data:\n",
    "T = trainer(NN)\n",
    "T.train(X,y)"
   ]
  },
  {
   "cell_type": "code",
   "execution_count": 13,
   "metadata": {},
   "outputs": [
    {
     "data": {
      "image/png": "[encoded data removed]",
      "text/plain": [
       "<Figure size 432x288 with 1 Axes>"
      ]
     },
     "metadata": {
      "needs_background": "light"
     },
     "output_type": "display_data"
    }
   ],
   "source": [
    "#Plot cost during training:\n",
    "plot.plot(T.J)\n",
    "plot.grid(1)\n",
    "plot.xlabel('Iterations')\n",
    "plot.ylabel('Cost')\n",
    "plot.show()"
   ]
  },
  {
   "cell_type": "code",
   "execution_count": 14,
   "metadata": {},
   "outputs": [],
   "source": [
    "#Training Data:\n",
    "trainX = np.array(([\t0.697183099\t,\t0.223256598\t,\t0.423360552\t,\t0.311558554\t,\t0.422995385\t,\t0.424780646\t,\t0.322057108\t]\t,\n",
    "[\t0.971830986\t,\t0.241974687\t,\t0.311558554\t,\t0.422995385\t,\t0.424780646\t,\t0.322057108\t,\t0.460465588\t]\t,\n",
    "[\t0.591549296\t,\t0.365733465\t,\t0.422995385\t,\t0.424780646\t,\t0.322057108\t,\t0.460465588\t,\t0.166688644\t]\t,\n",
    "[\t0.281690141\t,\t0.552558994\t,\t0.424780646\t,\t0.322057108\t,\t0.460465588\t,\t0.166688644\t,\t0.401744687\t]\t,\n",
    "[\t0.26056338\t,\t0.370023519\t,\t0.322057108\t,\t0.460465588\t,\t0.166688644\t,\t0.401744687\t,\t0.316478166\t]\t,\n",
    "[\t0.464788732\t,\t0.332531703\t,\t0.460465588\t,\t0.166688644\t,\t0.401744687\t,\t0.316478166\t,\t0.270862707\t]\t,\n",
    "[\t0.992957746\t,\t0.387887522\t,\t0.166688644\t,\t0.401744687\t,\t0.316478166\t,\t0.270862707\t,\t0.312512045\t]\t,\n",
    "[\t0.676056338\t,\t0.398363943\t,\t0.401744687\t,\t0.316478166\t,\t0.270862707\t,\t0.312512045\t,\t0.369092661\t]\t,\n",
    "[\t0.253521127\t,\t0.284826299\t,\t0.316478166\t,\t0.270862707\t,\t0.312512045\t,\t0.369092661\t,\t0.205751382\t]\t,\n",
    "[\t0.450704225\t,\t0.186735022\t,\t0.270862707\t,\t0.312512045\t,\t0.369092661\t,\t0.205751382\t,\t0.176193133\t]\t,\n",
    "[\t0\t,\t0.182694768\t,\t0.312512045\t,\t0.369092661\t,\t0.205751382\t,\t0.176193133\t,\t0.290419435\t]\t,\n",
    "[\t0.485915493\t,\t0.255617002\t,\t0.369092661\t,\t0.205751382\t,\t0.176193133\t,\t0.290419435\t,\t0.24090886\t]\t,\n",
    "[\t0.781690141\t,\t0.23597043\t,\t0.205751382\t,\t0.176193133\t,\t0.290419435\t,\t0.24090886\t,\t0.27408835\t]\t,\n",
    "[\t0.802816901\t,\t0.164134134\t,\t0.176193133\t,\t0.290419435\t,\t0.24090886\t,\t0.27408835\t,\t0.370908353\t]\t,\n",
    "[\t0.302816901\t,\t0.178176635\t,\t0.290419435\t,\t0.24090886\t,\t0.27408835\t,\t0.370908353\t,\t0.05869047\t]\t,\n",
    "[\t0.471830986\t,\t0.163956101\t,\t0.24090886\t,\t0.27408835\t,\t0.370908353\t,\t0.05869047\t,\t0.400324593\t]\t,\n",
    "[\t0.415492958\t,\t0.133241484\t,\t0.27408835\t,\t0.370908353\t,\t0.05869047\t,\t0.400324593\t,\t0.289993407\t]\t,\n",
    "[\t0.647887324\t,\t0.226399017\t,\t0.370908353\t,\t0.05869047\t,\t0.400324593\t,\t0.289993407\t,\t0.307714155\t]\t,\n",
    "[\t0.612676056\t,\t0.255013861\t,\t0.05869047\t,\t0.400324593\t,\t0.289993407\t,\t0.307714155\t,\t0.429152508\t]\t,\n",
    "[\t1\t,\t0.23708614\t,\t0.400324593\t,\t0.289993407\t,\t0.307714155\t,\t0.429152508\t,\t0.440624842\t]\t,\n",
    "[\t0.478873239\t,\t0.231651119\t,\t0.289993407\t,\t0.307714155\t,\t0.429152508\t,\t0.440624842\t,\t0.358046356\t]\t,\n",
    "[\t0.302816901\t,\t0.233067608\t,\t0.307714155\t,\t0.429152508\t,\t0.440624842\t,\t0.358046356\t,\t0.295724502\t]\t,\n",
    "[\t0.38028169\t,\t0.221173719\t,\t0.429152508\t,\t0.440624842\t,\t0.358046356\t,\t0.295724502\t,\t0.491413501\t]\t,\n",
    "[\t0.591549296\t,\t0.22633168\t,\t0.440624842\t,\t0.358046356\t,\t0.295724502\t,\t0.491413501\t,\t0.356240807\t]\t,\n",
    "[\t0.802816901\t,\t0.218698642\t,\t0.358046356\t,\t0.295724502\t,\t0.491413501\t,\t0.356240807\t,\t0.541055942\t]\t,\n",
    "[\t0.471830986\t,\t0.232032203\t,\t0.295724502\t,\t0.491413501\t,\t0.356240807\t,\t0.541055942\t,\t0.157529036\t]\t,\n",
    "[\t0.267605634\t,\t0.231947948\t,\t0.491413501\t,\t0.356240807\t,\t0.541055942\t,\t0.157529036\t,\t0.55294416\t]\t,\n",
    "[\t0.408450704\t,\t0.221547817\t,\t0.356240807\t,\t0.541055942\t,\t0.157529036\t,\t0.55294416\t,\t0.514337881\t]\t,\n",
    "[\t0.323943662\t,\t0.287958581\t,\t0.541055942\t,\t0.157529036\t,\t0.55294416\t,\t0.514337881\t,\t0.441213166\t]\t,\n",
    "[\t0.457746479\t,\t0.28837327\t,\t0.157529036\t,\t0.55294416\t,\t0.514337881\t,\t0.441213166\t,\t0.58940001\t]\t,\n",
    "[\t0.816901408\t,\t0.297145757\t,\t0.55294416\t,\t0.514337881\t,\t0.441213166\t,\t0.58940001\t,\t0.677070548\t]\t,\n",
    "[\t0.753521127\t,\t0.243669818\t,\t0.514337881\t,\t0.441213166\t,\t0.58940001\t,\t0.677070548\t,\t0.67615763\t]\t,\n",
    "[\t0.436619718\t,\t0.307437314\t,\t0.441213166\t,\t0.58940001\t,\t0.677070548\t,\t0.67615763\t,\t0.696941725\t]\t,\n",
    "[\t0.457746479\t,\t0.358597855\t,\t0.58940001\t,\t0.677070548\t,\t0.67615763\t,\t0.696941725\t,\t0.582938581\t]\t,\n",
    "[\t0.387323944\t,\t0.372181217\t,\t0.677070548\t,\t0.67615763\t,\t0.696941725\t,\t0.582938581\t,\t0.611147741\t]\t,\n",
    "[\t0.464788732\t,\t0.450259481\t,\t0.67615763\t,\t0.696941725\t,\t0.582938581\t,\t0.611147741\t,\t0.783455901\t]\t,\n",
    "[\t0.732394366\t,\t0.443095634\t,\t0.696941725\t,\t0.582938581\t,\t0.611147741\t,\t0.783455901\t,\t0.935669727\t]\t,\n",
    "[\t0.514084507\t,\t0.558155976\t,\t0.582938581\t,\t0.611147741\t,\t0.783455901\t,\t0.935669727\t,\t0.286990922\t]\t,\n",
    "[\t0.281690141\t,\t0.602359827\t,\t0.611147741\t,\t0.783455901\t,\t0.935669727\t,\t0.286990922\t,\t1\t]\t,\n",
    "[\t0.190140845\t,\t0.696291723\t,\t0.783455901\t,\t0.935669727\t,\t0.286990922\t,\t1\t,\t0.849977177\t]\t,\n",
    "[\t0.514084507\t,\t0.790604671\t,\t0.935669727\t,\t0.286990922\t,\t1\t,\t0.849977177\t,\t0.626008013\t]\t,\n",
    "[\t0.507042254\t,\t0.644022227\t,\t0.286990922\t,\t1\t,\t0.849977177\t,\t0.626008013\t,\t0.936146473\t]\t,\n",
    "[\t0.753521127\t,\t0.583228643\t,\t1\t,\t0.849977177\t,\t0.626008013\t,\t0.936146473\t,\t0.858467312\t]\t,\n",
    "[\t0.542253521\t,\t0.481715009\t,\t0.849977177\t,\t0.626008013\t,\t0.936146473\t,\t0.858467312\t,\t0.702581529\t]\t,\n",
    "[\t0.26056338\t,\t0.442812107\t,\t0.626008013\t,\t0.936146473\t,\t0.858467312\t,\t0.702581529\t,\t0.664685297\t]\t,\n",
    "\n",
    ")\n",
    ", dtype=float)\n",
    "trainY = np.array(([\t0.460465588\t]\t,\n",
    "[\t0.166688644\t]\t,\n",
    "[\t0.401744687\t]\t,\n",
    "[\t0.316478166\t]\t,\n",
    "[\t0.270862707\t]\t,\n",
    "[\t0.312512045\t]\t,\n",
    "[\t0.369092661\t]\t,\n",
    "[\t0.205751382\t]\t,\n",
    "[\t0.176193133\t]\t,\n",
    "[\t0.290419435\t]\t,\n",
    "[\t0.24090886\t]\t,\n",
    "[\t0.27408835\t]\t,\n",
    "[\t0.370908353\t]\t,\n",
    "[\t0.05869047\t]\t,\n",
    "[\t0.400324593\t]\t,\n",
    "[\t0.289993407\t]\t,\n",
    "[\t0.307714155\t]\t,\n",
    "[\t0.429152508\t]\t,\n",
    "[\t0.440624842\t]\t,\n",
    "[\t0.358046356\t]\t,\n",
    "[\t0.295724502\t]\t,\n",
    "[\t0.491413501\t]\t,\n",
    "[\t0.356240807\t]\t,\n",
    "[\t0.541055942\t]\t,\n",
    "[\t0.157529036\t]\t,\n",
    "[\t0.55294416\t]\t,\n",
    "[\t0.514337881\t]\t,\n",
    "[\t0.441213166\t]\t,\n",
    "[\t0.58940001\t]\t,\n",
    "[\t0.677070548\t]\t,\n",
    "[\t0.67615763\t]\t,\n",
    "[\t0.696941725\t]\t,\n",
    "[\t0.582938581\t]\t,\n",
    "[\t0.611147741\t]\t,\n",
    "[\t0.783455901\t]\t,\n",
    "[\t0.935669727\t]\t,\n",
    "[\t0.286990922\t]\t,\n",
    "[\t1\t]\t,\n",
    "[\t0.849977177\t]\t,\n",
    "[\t0.626008013\t]\t,\n",
    "[\t0.936146473\t]\t,\n",
    "[\t0.858467312\t]\t,\n",
    "[\t0.702581529\t]\t,\n",
    "[\t0.664685297\t]\t,\n",
    "[\t0.384176092\t]\t,\n",
    "\n",
    "\n",
    ")\n",
    ", dtype=float)\n",
    "\n",
    "#Testing Data:\n",
    "testX = np.array(([\t0.394366197\t,\t0.496270585\t,\t0.936146473\t,\t0.858467312\t,\t0.702581529\t,\t0.664685297\t,\t0.384176092\t]\t,\n",
    "[\t0.626760563\t,\t0.475463393\t,\t0.858467312\t,\t0.702581529\t,\t0.664685297\t,\t0.384176092\t,\t0.50844449\t]\t,\n",
    "[\t0.795774648\t,\t0.551559791\t,\t0.702581529\t,\t0.664685297\t,\t0.384176092\t,\t0.50844449\t,\t0.706050616\t]\t,\n",
    "[\t0.704225352\t,\t0.500994351\t,\t0.664685297\t,\t0.384176092\t,\t0.50844449\t,\t0.706050616\t,\t0.625663133\t]\t,\n",
    "[\t0.535211268\t,\t0.445458587\t,\t0.384176092\t,\t0.50844449\t,\t0.706050616\t,\t0.625663133\t,\t0.310067454\t]\t,\n",
    "[\t0.401408451\t,\t0.505711667\t,\t0.50844449\t,\t0.706050616\t,\t0.625663133\t,\t0.310067454\t,\t0.718151849\t]\t,\n",
    "[\t0.126760563\t,\t0.465889036\t,\t0.706050616\t,\t0.625663133\t,\t0.310067454\t,\t0.718151849\t,\t0.581295329\t]\t,\n",
    "[\t0.330985915\t,\t0.46785659\t,\t0.625663133\t,\t0.310067454\t,\t0.718151849\t,\t0.581295329\t,\t0.590840392\t]\t,\n",
    "[\t0.415492958\t,\t0.453001423\t,\t0.310067454\t,\t0.718151849\t,\t0.581295329\t,\t0.590840392\t,\t0.641121875\t]\t,\n",
    "[\t0.556338028\t,\t0.437411724\t,\t0.718151849\t,\t0.581295329\t,\t0.590840392\t,\t0.641121875\t,\t0.700096364\t]\t,\n",
    "[\t0.591549296\t,\t0.350673696\t,\t0.581295329\t,\t0.590840392\t,\t0.641121875\t,\t0.700096364\t,\t0.614971852\t]\t,\n",
    "[\t0.514084507\t,\t0.364031312\t,\t0.590840392\t,\t0.641121875\t,\t0.700096364\t,\t0.614971852\t,\t0.591377999\t]\t,\n",
    "\n",
    ")\n",
    ", dtype=float)\n",
    "testY = np.array(([\t0.50844449\t]\t,\n",
    "[\t0.706050616\t]\t,\n",
    "[\t0.625663133\t]\t,\n",
    "[\t0.310067454\t]\t,\n",
    "[\t0.718151849\t]\t,\n",
    "[\t0.581295329\t]\t,\n",
    "[\t0.590840392\t]\t,\n",
    "[\t0.641121875\t]\t,\n",
    "[\t0.700096364\t]\t,\n",
    "[\t0.614971852\t]\t,\n",
    "[\t0.591377999\t]\t,\n",
    "[\t0.32\t]\t,\n",
    "\n",
    ")\n",
    ", dtype=float)\n",
    "\n",
    "\n",
    "dataprediksi = np.array(([\t0.387323944\t,\t0.795380412\t,\t0.641121875\t,\t0.700096364\t,\t0.614971852\t,\t0.591377999\t,\t0.32\t]\t,\n",
    "[\t0.373239437\t,\t1\t,\t0.700096364\t,\t0.614971852\t,\t0.591377999\t,\t0.32\t,\t0.50\t]\t,\n",
    "[\t0.366197183\t,\t0.707681705\t,\t0.614971852\t,\t0.591377999\t,\t0.32\t,\t0.50\t,\t0.415539889\t]\t,\n",
    "[\t0.443661972\t,\t0.491695324\t,\t0.591377999\t,\t0.32\t,\t0.50\t,\t0.415539889\t,\t0\t]\t,\n",
    "\n",
    "), dtype=float)"
   ]
  },
  {
   "cell_type": "code",
   "execution_count": 15,
   "metadata": {},
   "outputs": [
    {
     "data": {
      "text/plain": [
       "array([[0.3943662 , 0.49627058, 0.93614647, 0.85846731, 0.70258153,\n",
       "        0.6646853 , 0.38417609],\n",
       "       [0.62676056, 0.47546339, 0.85846731, 0.70258153, 0.6646853 ,\n",
       "        0.38417609, 0.50844449],\n",
       "       [0.79577465, 0.55155979, 0.70258153, 0.6646853 , 0.38417609,\n",
       "        0.50844449, 0.70605062],\n",
       "       [0.70422535, 0.50099435, 0.6646853 , 0.38417609, 0.50844449,\n",
       "        0.70605062, 0.62566313],\n",
       "       [0.53521127, 0.44545859, 0.38417609, 0.50844449, 0.70605062,\n",
       "        0.62566313, 0.31006745],\n",
       "       [0.40140845, 0.50571167, 0.50844449, 0.70605062, 0.62566313,\n",
       "        0.31006745, 0.71815185],\n",
       "       [0.12676056, 0.46588904, 0.70605062, 0.62566313, 0.31006745,\n",
       "        0.71815185, 0.58129533],\n",
       "       [0.33098592, 0.46785659, 0.62566313, 0.31006745, 0.71815185,\n",
       "        0.58129533, 0.59084039],\n",
       "       [0.41549296, 0.45300142, 0.31006745, 0.71815185, 0.58129533,\n",
       "        0.59084039, 0.64112187],\n",
       "       [0.55633803, 0.43741172, 0.71815185, 0.58129533, 0.59084039,\n",
       "        0.64112187, 0.70009636],\n",
       "       [0.5915493 , 0.3506737 , 0.58129533, 0.59084039, 0.64112187,\n",
       "        0.70009636, 0.61497185],\n",
       "       [0.51408451, 0.36403131, 0.59084039, 0.64112187, 0.70009636,\n",
       "        0.61497185, 0.591378  ]])"
      ]
     },
     "execution_count": 15,
     "metadata": {},
     "output_type": "execute_result"
    }
   ],
   "source": [
    "testX"
   ]
  },
  {
   "cell_type": "code",
   "execution_count": 16,
   "metadata": {},
   "outputs": [],
   "source": [
    "##Need to modify trainer class a bit to check testing error during training:\n",
    "class trainer(object):\n",
    "    def __init__(self, N):\n",
    "        #Make Local reference to network:\n",
    "        self.N = N\n",
    "        \n",
    "    def callbackF(self, params):\n",
    "        self.N.setParams(params)\n",
    "        self.J.append(self.N.costFunction(self.X, self.y))\n",
    "        self.testJ.append(self.N.costFunction(self.testX, self.testY))\n",
    "        \n",
    "    def costFunctionWrapper(self, params, X, y):\n",
    "        self.N.setParams(params)\n",
    "        cost = self.N.costFunction(X, y)\n",
    "        grad = self.N.computeGradients(X,y)\n",
    "        \n",
    "        return cost, grad\n",
    "        \n",
    "    def train(self, trainX, trainY, testX, testY):\n",
    "        #Make an internal variable for the callback function:\n",
    "        self.X = trainX\n",
    "        self.y = trainY\n",
    "        \n",
    "        self.testX = testX\n",
    "        self.testY = testY\n",
    "\n",
    "        #Make empty list to store training costs:\n",
    "        self.J = []\n",
    "        self.testJ = []\n",
    "        \n",
    "        params0 = self.N.getParams()\n",
    "\n",
    "        options = {'maxiter': 100, 'disp' : True}\n",
    "        _res = optimize.minimize(self.costFunctionWrapper, params0, jac=True, method='BFGS', \\\n",
    "                                 args=(trainX, trainY), options=options, callback=self.callbackF)\n",
    "\n",
    "        self.N.setParams(_res.x)\n",
    "        self.optimizationResults = _res"
   ]
  },
  {
   "cell_type": "code",
   "execution_count": 17,
   "metadata": {},
   "outputs": [
    {
     "name": "stdout",
     "output_type": "stream",
     "text": [
      "Warning: Maximum number of iterations has been exceeded.\n",
      "         Current function value: 0.245519\n",
      "         Iterations: 100\n",
      "         Function evaluations: 105\n",
      "         Gradient evaluations: 105\n"
     ]
    }
   ],
   "source": [
    "#Train network with new data:\n",
    "NN = Neural_Network()\n",
    "\n",
    "T = trainer(NN)\n",
    "T.train(trainX, trainY, testX, testY)"
   ]
  },
  {
   "cell_type": "code",
   "execution_count": 18,
   "metadata": {},
   "outputs": [
    {
     "data": {
      "image/png": "[encoded data removed]",
      "text/plain": [
       "<Figure size 432x288 with 1 Axes>"
      ]
     },
     "metadata": {
      "needs_background": "light"
     },
     "output_type": "display_data"
    }
   ],
   "source": [
    "#Plot cost during training:\n",
    "plot.plot(T.J)\n",
    "plot.plot(T.testJ)\n",
    "plot.grid(1)\n",
    "plot.xlabel('Iterations')\n",
    "plot.ylabel('Cost')\n",
    "plot.legend(['Training', 'Testing'])\n",
    "plot.show()"
   ]
  },
  {
   "cell_type": "code",
   "execution_count": 19,
   "metadata": {},
   "outputs": [
    {
     "data": {
      "text/plain": [
       "[array([1.42548751]),\n",
       " array([0.96825162]),\n",
       " array([0.58888834]),\n",
       " array([0.55920667]),\n",
       " array([0.54352139]),\n",
       " array([0.52991522]),\n",
       " array([0.50969663]),\n",
       " array([0.49393966]),\n",
       " array([0.48574905]),\n",
       " array([0.48131221]),\n",
       " array([0.47757729]),\n",
       " array([0.473151]),\n",
       " array([0.4677066]),\n",
       " array([0.46220912]),\n",
       " array([0.45892264]),\n",
       " array([0.4572711]),\n",
       " array([0.45633729]),\n",
       " array([0.45572901]),\n",
       " array([0.45515552]),\n",
       " array([0.45424754]),\n",
       " array([0.45295474]),\n",
       " array([0.45149593]),\n",
       " array([0.44940509]),\n",
       " array([0.44778149]),\n",
       " array([0.44658368]),\n",
       " array([0.44587153]),\n",
       " array([0.44468315]),\n",
       " array([0.44269632]),\n",
       " array([0.43955556]),\n",
       " array([0.43567998]),\n",
       " array([0.43229868]),\n",
       " array([0.42744335]),\n",
       " array([0.42619567]),\n",
       " array([0.42410113]),\n",
       " array([0.4215571]),\n",
       " array([0.42047079]),\n",
       " array([0.41855545]),\n",
       " array([0.4152375]),\n",
       " array([0.40979129]),\n",
       " array([0.40358009]),\n",
       " array([0.40227355]),\n",
       " array([0.40012878]),\n",
       " array([0.39749966]),\n",
       " array([0.39625074]),\n",
       " array([0.39416027]),\n",
       " array([0.39057352]),\n",
       " array([0.38490708]),\n",
       " array([0.38087708]),\n",
       " array([0.37615103]),\n",
       " array([0.37335895]),\n",
       " array([0.37146799]),\n",
       " array([0.37080103]),\n",
       " array([0.36981586]),\n",
       " array([0.36864237]),\n",
       " array([0.36699321]),\n",
       " array([0.36489871]),\n",
       " array([0.36284287]),\n",
       " array([0.36135134]),\n",
       " array([0.3599257]),\n",
       " array([0.35816857]),\n",
       " array([0.35608662]),\n",
       " array([0.35285181]),\n",
       " array([0.34854236]),\n",
       " array([0.34731656]),\n",
       " array([0.34551965]),\n",
       " array([0.34417436]),\n",
       " array([0.34279971]),\n",
       " array([0.34068504]),\n",
       " array([0.33734258]),\n",
       " array([0.33229259]),\n",
       " array([0.3278865]),\n",
       " array([0.32553694]),\n",
       " array([0.32195926]),\n",
       " array([0.31903199]),\n",
       " array([0.31677328]),\n",
       " array([0.31274231]),\n",
       " array([0.3057332]),\n",
       " array([0.29767261]),\n",
       " array([0.29612237]),\n",
       " array([0.29475026]),\n",
       " array([0.29366844]),\n",
       " array([0.29254876]),\n",
       " array([0.29063691]),\n",
       " array([0.28774432]),\n",
       " array([0.28535878]),\n",
       " array([0.28361121]),\n",
       " array([0.28151186]),\n",
       " array([0.28006448]),\n",
       " array([0.2782631]),\n",
       " array([0.27600881]),\n",
       " array([0.27236055]),\n",
       " array([0.26722089]),\n",
       " array([0.26487795]),\n",
       " array([0.26282495]),\n",
       " array([0.26141071]),\n",
       " array([0.25898317]),\n",
       " array([0.2550093]),\n",
       " array([0.25023788]),\n",
       " array([0.2477392]),\n",
       " array([0.24551864])]"
      ]
     },
     "execution_count": 19,
     "metadata": {},
     "output_type": "execute_result"
    }
   ],
   "source": [
    "T.J"
   ]
  },
  {
   "cell_type": "code",
   "execution_count": 20,
   "metadata": {},
   "outputs": [
    {
     "data": {
      "text/plain": [
       "[array([0.17876953]),\n",
       " array([0.10714568]),\n",
       " array([0.11763059]),\n",
       " array([0.13443353]),\n",
       " array([0.14352103]),\n",
       " array([0.15447534]),\n",
       " array([0.16432443]),\n",
       " array([0.16891094]),\n",
       " array([0.16690184]),\n",
       " array([0.16165381]),\n",
       " array([0.15479192]),\n",
       " array([0.14696797]),\n",
       " array([0.14045153]),\n",
       " array([0.13921216]),\n",
       " array([0.14257609]),\n",
       " array([0.14765345]),\n",
       " array([0.14934817]),\n",
       " array([0.15553149]),\n",
       " array([0.15417204]),\n",
       " array([0.1521173]),\n",
       " array([0.14877029]),\n",
       " array([0.1464346]),\n",
       " array([0.14467484]),\n",
       " array([0.14357496]),\n",
       " array([0.14333592]),\n",
       " array([0.14424437]),\n",
       " array([0.14579584]),\n",
       " array([0.14797628]),\n",
       " array([0.15075204]),\n",
       " array([0.15466516]),\n",
       " array([0.15551034]),\n",
       " array([0.15770413]),\n",
       " array([0.13798109]),\n",
       " array([0.14038047]),\n",
       " array([0.14534211]),\n",
       " array([0.14650845]),\n",
       " array([0.14785052]),\n",
       " array([0.15004677]),\n",
       " array([0.15416691]),\n",
       " array([0.16985167]),\n",
       " array([0.16559224]),\n",
       " array([0.16704515]),\n",
       " array([0.16704781]),\n",
       " array([0.1640934]),\n",
       " array([0.16115881]),\n",
       " array([0.1566337]),\n",
       " array([0.15282726]),\n",
       " array([0.13958445]),\n",
       " array([0.14406894]),\n",
       " array([0.14657739]),\n",
       " array([0.15233294]),\n",
       " array([0.15767686]),\n",
       " array([0.16280234]),\n",
       " array([0.16772051]),\n",
       " array([0.16798591]),\n",
       " array([0.16721512]),\n",
       " array([0.17644189]),\n",
       " array([0.17514943]),\n",
       " array([0.18105397]),\n",
       " array([0.18412378]),\n",
       " array([0.20151857]),\n",
       " array([0.20874411]),\n",
       " array([0.21204913]),\n",
       " array([0.20349657]),\n",
       " array([0.20724913]),\n",
       " array([0.21701206]),\n",
       " array([0.20661767]),\n",
       " array([0.19550491]),\n",
       " array([0.18514363]),\n",
       " array([0.18129813]),\n",
       " array([0.19217948]),\n",
       " array([0.19799471]),\n",
       " array([0.21290143]),\n",
       " array([0.21777923]),\n",
       " array([0.22375869]),\n",
       " array([0.22841668]),\n",
       " array([0.2315623]),\n",
       " array([0.22627573]),\n",
       " array([0.2262124]),\n",
       " array([0.21874413]),\n",
       " array([0.21581735]),\n",
       " array([0.21071034]),\n",
       " array([0.20534338]),\n",
       " array([0.19648653]),\n",
       " array([0.19270438]),\n",
       " array([0.19430961]),\n",
       " array([0.19956574]),\n",
       " array([0.20104822]),\n",
       " array([0.204958]),\n",
       " array([0.20275333]),\n",
       " array([0.20599623]),\n",
       " array([0.20259706]),\n",
       " array([0.21491929]),\n",
       " array([0.2041768]),\n",
       " array([0.20493693]),\n",
       " array([0.20601693]),\n",
       " array([0.21115472]),\n",
       " array([0.22112404]),\n",
       " array([0.2220357]),\n",
       " array([0.22303087])]"
      ]
     },
     "execution_count": 20,
     "metadata": {},
     "output_type": "execute_result"
    }
   ],
   "source": [
    "T.testJ"
   ]
  },
  {
   "cell_type": "code",
   "execution_count": 21,
   "metadata": {},
   "outputs": [
    {
     "data": {
      "text/plain": [
       "0.21865290539539678"
      ]
     },
     "execution_count": 21,
     "metadata": {},
     "output_type": "execute_result"
    }
   ],
   "source": [
    "from sklearn.metrics import mean_absolute_error\n",
    "mean_absolute_error(T.J, T.testJ)"
   ]
  },
  {
   "cell_type": "code",
   "execution_count": 22,
   "metadata": {},
   "outputs": [],
   "source": [
    "yHat = NN.forward(X)"
   ]
  },
  {
   "cell_type": "code",
   "execution_count": 23,
   "metadata": {},
   "outputs": [
    {
     "data": {
      "text/plain": [
       "array([[0.47797084],\n",
       "       [0.21331301],\n",
       "       [0.40960943],\n",
       "       [0.33503785],\n",
       "       [0.23084795],\n",
       "       [0.33335926],\n",
       "       [0.37027764],\n",
       "       [0.26530707],\n",
       "       [0.33070053],\n",
       "       [0.24797377],\n",
       "       [0.21619945],\n",
       "       [0.20219716],\n",
       "       [0.35923391],\n",
       "       [0.21763076],\n",
       "       [0.346952  ],\n",
       "       [0.1904144 ],\n",
       "       [0.25544009],\n",
       "       [0.29828582],\n",
       "       [0.36183693],\n",
       "       [0.35753257],\n",
       "       [0.51604057],\n",
       "       [0.46112748],\n",
       "       [0.49545255],\n",
       "       [0.53634629],\n",
       "       [0.17921609],\n",
       "       [0.58477451],\n",
       "       [0.54220163],\n",
       "       [0.45278702],\n",
       "       [0.5270625 ],\n",
       "       [0.60007159],\n",
       "       [0.51313543],\n",
       "       [0.5138106 ],\n",
       "       [0.58522265],\n",
       "       [0.61470462],\n",
       "       [0.61748865],\n",
       "       [0.71860868],\n",
       "       [0.60411302],\n",
       "       [0.91428678],\n",
       "       [0.86391643],\n",
       "       [0.6025539 ],\n",
       "       [0.90717162],\n",
       "       [0.89142557],\n",
       "       [0.75283881],\n",
       "       [0.6569117 ],\n",
       "       [0.62470819],\n",
       "       [0.63458053],\n",
       "       [0.5712183 ],\n",
       "       [0.66425161],\n",
       "       [0.79054075],\n",
       "       [0.8430087 ],\n",
       "       [0.82293928],\n",
       "       [0.48073095],\n",
       "       [0.68664103],\n",
       "       [0.75629493],\n",
       "       [0.66428246],\n",
       "       [0.62708133],\n",
       "       [0.61083736]])"
      ]
     },
     "execution_count": 23,
     "metadata": {},
     "output_type": "execute_result"
    }
   ],
   "source": [
    "yHat"
   ]
  },
  {
   "cell_type": "code",
   "execution_count": 24,
   "metadata": {},
   "outputs": [
    {
     "data": {
      "text/plain": [
       "array([[0.46046559],\n",
       "       [0.16668864],\n",
       "       [0.40174469],\n",
       "       [0.31647817],\n",
       "       [0.27086271],\n",
       "       [0.31251205],\n",
       "       [0.36909266],\n",
       "       [0.20575138],\n",
       "       [0.17619313],\n",
       "       [0.29041944],\n",
       "       [0.24090886],\n",
       "       [0.27408835],\n",
       "       [0.37090835],\n",
       "       [0.05869047],\n",
       "       [0.40032459],\n",
       "       [0.28999341],\n",
       "       [0.30771415],\n",
       "       [0.42915251],\n",
       "       [0.44062484],\n",
       "       [0.35804636],\n",
       "       [0.2957245 ],\n",
       "       [0.4914135 ],\n",
       "       [0.35624081],\n",
       "       [0.54105594],\n",
       "       [0.15752904],\n",
       "       [0.55294416],\n",
       "       [0.51433788],\n",
       "       [0.44121317],\n",
       "       [0.58940001],\n",
       "       [0.67707055],\n",
       "       [0.67615763],\n",
       "       [0.69694172],\n",
       "       [0.58293858],\n",
       "       [0.61114774],\n",
       "       [0.7834559 ],\n",
       "       [0.93566973],\n",
       "       [0.28699092],\n",
       "       [1.        ],\n",
       "       [0.84997718],\n",
       "       [0.62600801],\n",
       "       [0.93614647],\n",
       "       [0.85846731],\n",
       "       [0.70258153],\n",
       "       [0.6646853 ],\n",
       "       [0.38417609],\n",
       "       [0.50844449],\n",
       "       [0.70605062],\n",
       "       [0.62566313],\n",
       "       [0.31006745],\n",
       "       [0.71815185],\n",
       "       [0.58129533],\n",
       "       [0.59084039],\n",
       "       [0.64112187],\n",
       "       [0.70009636],\n",
       "       [0.61497185],\n",
       "       [0.591378  ],\n",
       "       [0.32      ]])"
      ]
     },
     "execution_count": 24,
     "metadata": {},
     "output_type": "execute_result"
    }
   ],
   "source": [
    "y"
   ]
  },
  {
   "cell_type": "code",
   "execution_count": 25,
   "metadata": {},
   "outputs": [
    {
     "data": {
      "text/plain": [
       "0.01644033368262087"
      ]
     },
     "execution_count": 25,
     "metadata": {},
     "output_type": "execute_result"
    }
   ],
   "source": [
    "from sklearn.metrics import mean_squared_error \n",
    "mean_squared_error(y,yHat) "
   ]
  },
  {
   "cell_type": "code",
   "execution_count": 26,
   "metadata": {},
   "outputs": [
    {
     "data": {
      "image/png": "[encoded data removed]",
      "text/plain": [
       "<Figure size 432x288 with 1 Axes>"
      ]
     },
     "metadata": {
      "needs_background": "light"
     },
     "output_type": "display_data"
    }
   ],
   "source": [
    "#Plot cost during training:\n",
    "plot.plot(y)\n",
    "plot.plot(yHat)\n",
    "plot.grid(1)\n",
    "plot.legend(['y', 'yHat'])\n",
    "plot.show()"
   ]
  },
  {
   "cell_type": "code",
   "execution_count": 27,
   "metadata": {},
   "outputs": [],
   "source": [
    "#Regularization Parameter:\n",
    "Lambda = 0.0001"
   ]
  },
  {
   "cell_type": "code",
   "execution_count": 28,
   "metadata": {},
   "outputs": [],
   "source": [
    "#Need to make changes to costFunction and costFunctionPrim:\n",
    "def costFunction(self, X, y):\n",
    "    #Compute cost for given X,y, use weights already stored in class.\n",
    "    self.yHat = self.forward(X)\n",
    "    #We don't want cost to increase with the number of examples, so normalize by dividing the error term by number of examples(X.shape[0])\n",
    "    J = 0.5*sum((y-self.yHat)**2)/X.shape[0] + (self.Lambda/2)*(sum(self.W1**2)+sum(self.W2**2))\n",
    "    return J\n",
    "\n",
    "def costFunctionPrime(self, X, y):\n",
    "    #Compute derivative with respect to W and W2 for a given X and y:\n",
    "    self.yHat = self.forward(X)\n",
    "\n",
    "    delta3 = np.multiply(-(y-self.yHat), self.sigmoidPrime(self.z3))\n",
    "    #Add gradient of regularization term:\n",
    "    dJdW2 = np.dot(self.a2.T, delta3)/X.shape[0] + self.Lambda*self.W2\n",
    "\n",
    "    delta2 = np.dot(delta3, self.W2.T)*self.sigmoidPrime(self.z2)\n",
    "    #Add gradient of regularization term:\n",
    "    dJdW1 = np.dot(X.T, delta2)/X.shape[0] + self.Lambda*self.W1\n",
    "\n",
    "    return dJdW1, dJdW2"
   ]
  },
  {
   "cell_type": "code",
   "execution_count": 29,
   "metadata": {},
   "outputs": [],
   "source": [
    "#New complete class, with changes:\n",
    "class Neural_Network(object):\n",
    "    def __init__(self, Lambda=0.0001):        \n",
    "        #Define Hyperparameters\n",
    "        self.inputLayerSize = 7\n",
    "        self.outputLayerSize = 1\n",
    "        self.hiddenLayerSize = 11\n",
    "        \n",
    "        #Weights (parameters)\n",
    "        self.W1 = np.random.randn(self.inputLayerSize,self.hiddenLayerSize)\n",
    "        self.W2 = np.random.randn(self.hiddenLayerSize,self.outputLayerSize)\n",
    "        \n",
    "        #Regularization Parameter:\n",
    "        self.Lambda = Lambda\n",
    "        \n",
    "    def forward(self, X):\n",
    "        #Propogate inputs though network\n",
    "        self.z2 = np.dot(X, self.W1)\n",
    "        self.a2 = self.sigmoid(self.z2)\n",
    "        self.z3 = np.dot(self.a2, self.W2)\n",
    "        yHat = self.sigmoid(self.z3) \n",
    "        return yHat\n",
    "        \n",
    "    def sigmoid(self, z):\n",
    "        #Apply sigmoid activation function to scalar, vector, or matrix\n",
    "        return 1/(1+np.exp(-z))\n",
    "    \n",
    "    def sigmoidPrime(self,z):\n",
    "        #Gradient of sigmoid\n",
    "        return np.exp(-z)/((1+np.exp(-z))**2)\n",
    "    \n",
    "    def costFunction(self, X, y):\n",
    "        #Compute cost for given X,y, use weights already stored in class.\n",
    "        self.yHat = self.forward(X)\n",
    "        J = 0.5*sum((y-self.yHat)**2)/X.shape[0] + (self.Lambda/2)*(np.sum(self.W1**2)+np.sum(self.W2**2))\n",
    "        return J\n",
    "        \n",
    "    def costFunctionPrime(self, X, y):\n",
    "        #Compute derivative with respect to W and W2 for a given X and y:\n",
    "        self.yHat = self.forward(X)\n",
    "        \n",
    "        delta3 = np.multiply(-(y-self.yHat), self.sigmoidPrime(self.z3))\n",
    "        #Add gradient of regularization term:\n",
    "        dJdW2 = np.dot(self.a2.T, delta3)/X.shape[0] + self.Lambda*self.W2\n",
    "        \n",
    "        delta2 = np.dot(delta3, self.W2.T)*self.sigmoidPrime(self.z2)\n",
    "        #Add gradient of regularization term:\n",
    "        dJdW1 = np.dot(X.T, delta2)/X.shape[0] + self.Lambda*self.W1\n",
    "        \n",
    "        return dJdW1, dJdW2\n",
    "    \n",
    "    def predict(self):\n",
    "        prediksi = self.forward(dataprediksi)\n",
    "        return prediksi\n",
    "    \n",
    "    #Helper functions for interacting with other methods/classes\n",
    "    def getParams(self):\n",
    "        #Get W1 and W2 Rolled into vector:\n",
    "        params = np.concatenate((self.W1.ravel(), self.W2.ravel()))\n",
    "        return params\n",
    "    \n",
    "    def setParams(self, params):\n",
    "        #Set W1 and W2 using single parameter vector:\n",
    "        W1_start = 0\n",
    "        W1_end = self.hiddenLayerSize*self.inputLayerSize\n",
    "        self.W1 = np.reshape(params[W1_start:W1_end], \\\n",
    "                             (self.inputLayerSize, self.hiddenLayerSize))\n",
    "        W2_end = W1_end + self.hiddenLayerSize*self.outputLayerSize\n",
    "        self.W2 = np.reshape(params[W1_end:W2_end], \\\n",
    "                             (self.hiddenLayerSize, self.outputLayerSize))\n",
    "        \n",
    "    def computeGradients(self, X, y):\n",
    "        dJdW1, dJdW2 = self.costFunctionPrime(X, y)\n",
    "        return np.concatenate((dJdW1.ravel(), dJdW2.ravel()))"
   ]
  },
  {
   "cell_type": "code",
   "execution_count": 30,
   "metadata": {},
   "outputs": [],
   "source": [
    "def computeNumericalGradient(N, X, y):\n",
    "    paramsInitial = N.getParams()\n",
    "    numgrad = np.zeros(paramsInitial.shape)\n",
    "    perturb = np.zeros(paramsInitial.shape)\n",
    "    e = 1e-4\n",
    "\n",
    "    for p in range(len(paramsInitial)):\n",
    "        #Set perturbation vector\n",
    "        perturb[p] = e\n",
    "        N.setParams(paramsInitial + perturb)\n",
    "        loss2 = N.costFunction(X, y)\n",
    "            \n",
    "        N.setParams(paramsInitial - perturb)\n",
    "        loss1 = N.costFunction(X, y)\n",
    "\n",
    "        #Compute Numerical Gradient\n",
    "        numgrad[p] = (loss2 - loss1) / (2*e)\n",
    "\n",
    "            #Return the value we changed to zero:\n",
    "        perturb[p] = 0\n",
    "            \n",
    "    #Return Params to original value:\n",
    "    N.setParams(paramsInitial)\n",
    "\n",
    "    return numgrad "
   ]
  },
  {
   "cell_type": "code",
   "execution_count": 31,
   "metadata": {},
   "outputs": [],
   "source": [
    "NN = Neural_Network(Lambda=0.0001)"
   ]
  },
  {
   "cell_type": "code",
   "execution_count": 32,
   "metadata": {},
   "outputs": [],
   "source": [
    "#Make sure our gradients our correct after making changes:\n",
    "numgrad = computeNumericalGradient(NN, X, y)\n",
    "grad = NN.computeGradients(X,y)"
   ]
  },
  {
   "cell_type": "code",
   "execution_count": 33,
   "metadata": {},
   "outputs": [
    {
     "data": {
      "text/plain": [
       "4.927112355775723e-10"
      ]
     },
     "execution_count": 33,
     "metadata": {},
     "output_type": "execute_result"
    }
   ],
   "source": [
    "#Should be less than 1e-8:\n",
    "np.linalg.norm(grad-numgrad)/np.linalg.norm(grad+numgrad)"
   ]
  },
  {
   "cell_type": "code",
   "execution_count": 34,
   "metadata": {},
   "outputs": [],
   "source": [
    "T = trainer(NN)"
   ]
  },
  {
   "cell_type": "code",
   "execution_count": 35,
   "metadata": {},
   "outputs": [
    {
     "name": "stdout",
     "output_type": "stream",
     "text": [
      "Warning: Maximum number of iterations has been exceeded.\n",
      "         Current function value: 0.011628\n",
      "         Iterations: 100\n",
      "         Function evaluations: 104\n",
      "         Gradient evaluations: 104\n"
     ]
    }
   ],
   "source": [
    "T.train(X,y,testX,testY)"
   ]
  },
  {
   "cell_type": "code",
   "execution_count": 36,
   "metadata": {},
   "outputs": [
    {
     "data": {
      "image/png": "[encoded data removed]",
      "text/plain": [
       "<Figure size 432x288 with 1 Axes>"
      ]
     },
     "metadata": {
      "needs_background": "light"
     },
     "output_type": "display_data"
    }
   ],
   "source": [
    "plot.plot(T.J)\n",
    "plot.plot(T.testJ)\n",
    "plot.grid(1)\n",
    "plot.xlabel('Iterations')\n",
    "plot.ylabel('Cost')\n",
    "plot.legend(['Training', 'Testing'])\n",
    "plot.show()"
   ]
  },
  {
   "cell_type": "code",
   "execution_count": 37,
   "metadata": {},
   "outputs": [
    {
     "data": {
      "text/plain": [
       "[array([0.04341183]),\n",
       " array([0.03321761]),\n",
       " array([0.02945026]),\n",
       " array([0.0289585]),\n",
       " array([0.02836365]),\n",
       " array([0.02726898]),\n",
       " array([0.02524724]),\n",
       " array([0.02171375]),\n",
       " array([0.01686253]),\n",
       " array([0.01586101]),\n",
       " array([0.01582545]),\n",
       " array([0.015818]),\n",
       " array([0.01580408]),\n",
       " array([0.01577804]),\n",
       " array([0.01573026]),\n",
       " array([0.01564586]),\n",
       " array([0.01550551]),\n",
       " array([0.01529671]),\n",
       " array([0.01511335]),\n",
       " array([0.01488996]),\n",
       " array([0.0147603]),\n",
       " array([0.01473925]),\n",
       " array([0.01473283]),\n",
       " array([0.01472183]),\n",
       " array([0.01470212]),\n",
       " array([0.014667]),\n",
       " array([0.0146157]),\n",
       " array([0.01460895]),\n",
       " array([0.01460009]),\n",
       " array([0.01459397]),\n",
       " array([0.01458745]),\n",
       " array([0.01457789]),\n",
       " array([0.01456057]),\n",
       " array([0.01452854]),\n",
       " array([0.01446947]),\n",
       " array([0.01436311]),\n",
       " array([0.01418194]),\n",
       " array([0.0139067]),\n",
       " array([0.01361674]),\n",
       " array([0.0133352]),\n",
       " array([0.01320324]),\n",
       " array([0.01318168]),\n",
       " array([0.01317447]),\n",
       " array([0.0131719]),\n",
       " array([0.01316762]),\n",
       " array([0.01316007]),\n",
       " array([0.01314645]),\n",
       " array([0.01312183]),\n",
       " array([0.0130781]),\n",
       " array([0.01300391]),\n",
       " array([0.01289105]),\n",
       " array([0.01278589]),\n",
       " array([0.01268768]),\n",
       " array([0.01252398]),\n",
       " array([0.01239483]),\n",
       " array([0.01235579]),\n",
       " array([0.01230588]),\n",
       " array([0.01229499]),\n",
       " array([0.01228919]),\n",
       " array([0.01228279]),\n",
       " array([0.01227473]),\n",
       " array([0.01227224]),\n",
       " array([0.01226991]),\n",
       " array([0.01226679]),\n",
       " array([0.01226466]),\n",
       " array([0.01226291]),\n",
       " array([0.01226095]),\n",
       " array([0.01225729]),\n",
       " array([0.01225047]),\n",
       " array([0.01223806]),\n",
       " array([0.01221684]),\n",
       " array([0.01218309]),\n",
       " array([0.01212825]),\n",
       " array([0.01203874]),\n",
       " array([0.01191958]),\n",
       " array([0.01188546]),\n",
       " array([0.01188081]),\n",
       " array([0.01188031]),\n",
       " array([0.0118799]),\n",
       " array([0.01187924]),\n",
       " array([0.01187807]),\n",
       " array([0.01187594]),\n",
       " array([0.01187199]),\n",
       " array([0.01186474]),\n",
       " array([0.01185159]),\n",
       " array([0.01182848]),\n",
       " array([0.01179006]),\n",
       " array([0.01173432]),\n",
       " array([0.01169886]),\n",
       " array([0.01167771]),\n",
       " array([0.01166675]),\n",
       " array([0.01165141]),\n",
       " array([0.0116406]),\n",
       " array([0.01163355]),\n",
       " array([0.01162912]),\n",
       " array([0.01162867]),\n",
       " array([0.01162858]),\n",
       " array([0.01162844]),\n",
       " array([0.01162823]),\n",
       " array([0.01162793])]"
      ]
     },
     "execution_count": 37,
     "metadata": {},
     "output_type": "execute_result"
    }
   ],
   "source": [
    "T.J"
   ]
  },
  {
   "cell_type": "code",
   "execution_count": 38,
   "metadata": {},
   "outputs": [
    {
     "data": {
      "text/plain": [
       "[array([0.02000071]),\n",
       " array([0.01419032]),\n",
       " array([0.01892033]),\n",
       " array([0.01627247]),\n",
       " array([0.01500903]),\n",
       " array([0.01424781]),\n",
       " array([0.0137915]),\n",
       " array([0.01394827]),\n",
       " array([0.0150689]),\n",
       " array([0.01527121]),\n",
       " array([0.01527734]),\n",
       " array([0.01529]),\n",
       " array([0.01531478]),\n",
       " array([0.01535748]),\n",
       " array([0.0154268]),\n",
       " array([0.01552859]),\n",
       " array([0.01563561]),\n",
       " array([0.0155852]),\n",
       " array([0.01538094]),\n",
       " array([0.01528901]),\n",
       " array([0.01533981]),\n",
       " array([0.01512676]),\n",
       " array([0.01512996]),\n",
       " array([0.01509768]),\n",
       " array([0.0150232]),\n",
       " array([0.01486218]),\n",
       " array([0.014482]),\n",
       " array([0.0142422]),\n",
       " array([0.01435209]),\n",
       " array([0.01437843]),\n",
       " array([0.01436894]),\n",
       " array([0.01433319]),\n",
       " array([0.01427278]),\n",
       " array([0.01417458]),\n",
       " array([0.01401067]),\n",
       " array([0.01373347]),\n",
       " array([0.01327283]),\n",
       " array([0.01256732]),\n",
       " array([0.01192038]),\n",
       " array([0.01147176]),\n",
       " array([0.01139569]),\n",
       " array([0.01151493]),\n",
       " array([0.01162182]),\n",
       " array([0.01166164]),\n",
       " array([0.01170174]),\n",
       " array([0.01174103]),\n",
       " array([0.01178235]),\n",
       " array([0.01182831]),\n",
       " array([0.01188034]),\n",
       " array([0.01193986]),\n",
       " array([0.01201882]),\n",
       " array([0.01212655]),\n",
       " array([0.01210297]),\n",
       " array([0.01210067]),\n",
       " array([0.01174901]),\n",
       " array([0.01157671]),\n",
       " array([0.01147722]),\n",
       " array([0.01151657]),\n",
       " array([0.01143662]),\n",
       " array([0.01148424]),\n",
       " array([0.0115398]),\n",
       " array([0.01159486]),\n",
       " array([0.01161387]),\n",
       " array([0.01167373]),\n",
       " array([0.01165768]),\n",
       " array([0.0116815]),\n",
       " array([0.01166976]),\n",
       " array([0.01165442]),\n",
       " array([0.01162827]),\n",
       " array([0.01158347]),\n",
       " array([0.01150958]),\n",
       " array([0.01142349]),\n",
       " array([0.0113844]),\n",
       " array([0.01134728]),\n",
       " array([0.01136499]),\n",
       " array([0.01142673]),\n",
       " array([0.01142634]),\n",
       " array([0.01142931]),\n",
       " array([0.01143136]),\n",
       " array([0.01143459]),\n",
       " array([0.01143789]),\n",
       " array([0.01144066]),\n",
       " array([0.01144156]),\n",
       " array([0.01143734]),\n",
       " array([0.01141966]),\n",
       " array([0.01136798]),\n",
       " array([0.01124619]),\n",
       " array([0.01107808]),\n",
       " array([0.01083519]),\n",
       " array([0.01093738]),\n",
       " array([0.01078857]),\n",
       " array([0.01084354]),\n",
       " array([0.01084677]),\n",
       " array([0.01079283]),\n",
       " array([0.01075494]),\n",
       " array([0.0107544]),\n",
       " array([0.01075122]),\n",
       " array([0.01075473]),\n",
       " array([0.01076395]),\n",
       " array([0.01077676])]"
      ]
     },
     "execution_count": 38,
     "metadata": {},
     "output_type": "execute_result"
    }
   ],
   "source": [
    "T.testJ"
   ]
  },
  {
   "cell_type": "code",
   "execution_count": 39,
   "metadata": {},
   "outputs": [
    {
     "data": {
      "text/plain": [
       "0.0017591313129484364"
      ]
     },
     "execution_count": 39,
     "metadata": {},
     "output_type": "execute_result"
    }
   ],
   "source": [
    "from sklearn.metrics import mean_absolute_error\n",
    "mean_absolute_error(T.J, T.testJ)"
   ]
  },
  {
   "cell_type": "code",
   "execution_count": 40,
   "metadata": {},
   "outputs": [],
   "source": [
    "yHat=NN.forward(X)"
   ]
  },
  {
   "cell_type": "code",
   "execution_count": 41,
   "metadata": {},
   "outputs": [
    {
     "data": {
      "text/plain": [
       "array([[0.39126224],\n",
       "       [0.3655642 ],\n",
       "       [0.40109751],\n",
       "       [0.44035629],\n",
       "       [0.37833214],\n",
       "       [0.3704013 ],\n",
       "       [0.31690908],\n",
       "       [0.33666847],\n",
       "       [0.37712435],\n",
       "       [0.33174977],\n",
       "       [0.3270166 ],\n",
       "       [0.27520232],\n",
       "       [0.26807731],\n",
       "       [0.26988294],\n",
       "       [0.33013267],\n",
       "       [0.30122012],\n",
       "       [0.27751149],\n",
       "       [0.31440935],\n",
       "       [0.34505536],\n",
       "       [0.32107335],\n",
       "       [0.42287769],\n",
       "       [0.44305727],\n",
       "       [0.40193712],\n",
       "       [0.38039423],\n",
       "       [0.39851142],\n",
       "       [0.43757808],\n",
       "       [0.44276336],\n",
       "       [0.40061217],\n",
       "       [0.49247715],\n",
       "       [0.51868128],\n",
       "       [0.48909891],\n",
       "       [0.55057563],\n",
       "       [0.63686344],\n",
       "       [0.64910625],\n",
       "       [0.64267441],\n",
       "       [0.6269711 ],\n",
       "       [0.63654513],\n",
       "       [0.7108984 ],\n",
       "       [0.71639575],\n",
       "       [0.68228749],\n",
       "       [0.74740938],\n",
       "       [0.75168433],\n",
       "       [0.7030585 ],\n",
       "       [0.7414936 ],\n",
       "       [0.74291866],\n",
       "       [0.67814845],\n",
       "       [0.58531575],\n",
       "       [0.51167555],\n",
       "       [0.55455112],\n",
       "       [0.61420413],\n",
       "       [0.59284465],\n",
       "       [0.56915427],\n",
       "       [0.61648181],\n",
       "       [0.62378426],\n",
       "       [0.60683174],\n",
       "       [0.61853476],\n",
       "       [0.63394099]])"
      ]
     },
     "execution_count": 41,
     "metadata": {},
     "output_type": "execute_result"
    }
   ],
   "source": [
    "yHat"
   ]
  },
  {
   "cell_type": "code",
   "execution_count": 42,
   "metadata": {},
   "outputs": [
    {
     "data": {
      "text/plain": [
       "array([[0.46046559],\n",
       "       [0.16668864],\n",
       "       [0.40174469],\n",
       "       [0.31647817],\n",
       "       [0.27086271],\n",
       "       [0.31251205],\n",
       "       [0.36909266],\n",
       "       [0.20575138],\n",
       "       [0.17619313],\n",
       "       [0.29041944],\n",
       "       [0.24090886],\n",
       "       [0.27408835],\n",
       "       [0.37090835],\n",
       "       [0.05869047],\n",
       "       [0.40032459],\n",
       "       [0.28999341],\n",
       "       [0.30771415],\n",
       "       [0.42915251],\n",
       "       [0.44062484],\n",
       "       [0.35804636],\n",
       "       [0.2957245 ],\n",
       "       [0.4914135 ],\n",
       "       [0.35624081],\n",
       "       [0.54105594],\n",
       "       [0.15752904],\n",
       "       [0.55294416],\n",
       "       [0.51433788],\n",
       "       [0.44121317],\n",
       "       [0.58940001],\n",
       "       [0.67707055],\n",
       "       [0.67615763],\n",
       "       [0.69694172],\n",
       "       [0.58293858],\n",
       "       [0.61114774],\n",
       "       [0.7834559 ],\n",
       "       [0.93566973],\n",
       "       [0.28699092],\n",
       "       [1.        ],\n",
       "       [0.84997718],\n",
       "       [0.62600801],\n",
       "       [0.93614647],\n",
       "       [0.85846731],\n",
       "       [0.70258153],\n",
       "       [0.6646853 ],\n",
       "       [0.38417609],\n",
       "       [0.50844449],\n",
       "       [0.70605062],\n",
       "       [0.62566313],\n",
       "       [0.31006745],\n",
       "       [0.71815185],\n",
       "       [0.58129533],\n",
       "       [0.59084039],\n",
       "       [0.64112187],\n",
       "       [0.70009636],\n",
       "       [0.61497185],\n",
       "       [0.591378  ],\n",
       "       [0.32      ]])"
      ]
     },
     "execution_count": 42,
     "metadata": {},
     "output_type": "execute_result"
    }
   ],
   "source": [
    "y"
   ]
  },
  {
   "cell_type": "code",
   "execution_count": 43,
   "metadata": {},
   "outputs": [
    {
     "data": {
      "text/plain": [
       "0.021147666828162173"
      ]
     },
     "execution_count": 43,
     "metadata": {},
     "output_type": "execute_result"
    }
   ],
   "source": [
    "from sklearn.metrics import mean_squared_error \n",
    "mean_squared_error(y,yHat) "
   ]
  },
  {
   "cell_type": "code",
   "execution_count": 44,
   "metadata": {},
   "outputs": [
    {
     "data": {
      "image/png": "[encoded data removed]",
      "text/plain": [
       "<Figure size 432x288 with 1 Axes>"
      ]
     },
     "metadata": {
      "needs_background": "light"
     },
     "output_type": "display_data"
    }
   ],
   "source": [
    "#Plot cost during training:\n",
    "plot.plot(y)\n",
    "plot.plot(yHat)\n",
    "plot.grid(1)\n",
    "plot.legend(['y', 'yHat'])\n",
    "plot.show()"
   ]
  },
  {
   "cell_type": "code",
   "execution_count": 45,
   "metadata": {},
   "outputs": [],
   "source": [
    "prediksi=NN.forward(dataprediksi)"
   ]
  },
  {
   "cell_type": "code",
   "execution_count": 46,
   "metadata": {},
   "outputs": [
    {
     "data": {
      "text/plain": [
       "array([[0.65406351],\n",
       "       [0.61935312],\n",
       "       [0.5211937 ],\n",
       "       [0.46390232]])"
      ]
     },
     "execution_count": 46,
     "metadata": {},
     "output_type": "execute_result"
    }
   ],
   "source": [
    "prediksi"
   ]
  },
  {
   "cell_type": "code",
   "execution_count": 47,
   "metadata": {},
   "outputs": [],
   "source": [
    "from sklearn.metrics import mean_squared_error "
   ]
  },
  {
   "cell_type": "code",
   "execution_count": 48,
   "metadata": {},
   "outputs": [
    {
     "data": {
      "text/plain": [
       "0.0972712014563072"
      ]
     },
     "execution_count": 48,
     "metadata": {},
     "output_type": "execute_result"
    }
   ],
   "source": [
    "Y_true= ([\t0.50\t]\t,\n",
    "[\t0.415539889\t]\t,\n",
    "[\t0\t]\t,\n",
    "[\t0.235502358\t]\t,\n",
    "\n",
    ")\n",
    "\n",
    "\n",
    "Y_pred=prediksi\n",
    "mean_squared_error(Y_true,Y_pred) "
   ]
  },
  {
   "cell_type": "code",
   "execution_count": 49,
   "metadata": {},
   "outputs": [
    {
     "data": {
      "text/plain": [
       "array([[0.38732394, 0.79538041, 0.64112187, 0.70009636, 0.61497185,\n",
       "        0.591378  , 0.32      ],\n",
       "       [0.37323944, 1.        , 0.70009636, 0.61497185, 0.591378  ,\n",
       "        0.32      , 0.5       ],\n",
       "       [0.36619718, 0.70768171, 0.61497185, 0.591378  , 0.32      ,\n",
       "        0.5       , 0.41553989],\n",
       "       [0.44366197, 0.49169532, 0.591378  , 0.32      , 0.5       ,\n",
       "        0.41553989, 0.        ]])"
      ]
     },
     "execution_count": 49,
     "metadata": {},
     "output_type": "execute_result"
    }
   ],
   "source": [
    "dataprediksi"
   ]
  },
  {
   "cell_type": "code",
   "execution_count": 50,
   "metadata": {},
   "outputs": [],
   "source": [
    "z=np.array([0.6294\t,\t0.4578])"
   ]
  },
  {
   "cell_type": "code",
   "execution_count": 51,
   "metadata": {},
   "outputs": [],
   "source": [
    "y=np.array([0.32\t,\t0.50\t,\t0.415539889\t,\t0\t,\t0.235502358\t])"
   ]
  },
  {
   "cell_type": "code",
   "execution_count": 52,
   "metadata": {},
   "outputs": [],
   "source": [
    "a=np.concatenate((z,y))"
   ]
  },
  {
   "cell_type": "code",
   "execution_count": 53,
   "metadata": {},
   "outputs": [
    {
     "data": {
      "text/plain": [
       "array([0.35232707])"
      ]
     },
     "execution_count": 53,
     "metadata": {},
     "output_type": "execute_result"
    }
   ],
   "source": [
    "#prediksi 1\n",
    "prediksi=NN.forward(a)\n",
    "prediksi"
   ]
  },
  {
   "cell_type": "code",
   "execution_count": 54,
   "metadata": {},
   "outputs": [
    {
     "data": {
      "text/plain": [
       "array([0.24806909])"
      ]
     },
     "execution_count": 54,
     "metadata": {},
     "output_type": "execute_result"
    }
   ],
   "source": [
    "#prediksi 2\n",
    "c=prediksi\n",
    "z1=np.array([0.6795\t,\t0.4539])\n",
    "b=y[1:]\n",
    "d=np.concatenate((z1,b,c))\n",
    "prediksi=NN.forward(d)\n",
    "prediksi"
   ]
  },
  {
   "cell_type": "code",
   "execution_count": 55,
   "metadata": {},
   "outputs": [
    {
     "data": {
      "text/plain": [
       "array([0.25101152])"
      ]
     },
     "execution_count": 55,
     "metadata": {},
     "output_type": "execute_result"
    }
   ],
   "source": [
    "#prediksi 3\n",
    "c=prediksi\n",
    "z2=np.array([0.5888\t,\t0.4545])\n",
    "b=y[1:]\n",
    "d=np.concatenate((z2,b,c))\n",
    "prediksi=NN.forward(d)\n",
    "prediksi"
   ]
  },
  {
   "cell_type": "code",
   "execution_count": 56,
   "metadata": {},
   "outputs": [
    {
     "data": {
      "text/plain": [
       "array([0.25695395])"
      ]
     },
     "execution_count": 56,
     "metadata": {},
     "output_type": "execute_result"
    }
   ],
   "source": [
    "#prediksi 4\n",
    "c=prediksi\n",
    "z3=np.array([0.527\t,\t0.4555])\n",
    "b=y[1:]\n",
    "d=np.concatenate((z3,b,c))\n",
    "prediksi=NN.forward(d)\n",
    "prediksi"
   ]
  },
  {
   "cell_type": "code",
   "execution_count": 57,
   "metadata": {},
   "outputs": [
    {
     "data": {
      "text/plain": [
       "array([0.26223694])"
      ]
     },
     "execution_count": 57,
     "metadata": {},
     "output_type": "execute_result"
    }
   ],
   "source": [
    "#prediksi 5\n",
    "c=prediksi\n",
    "z4=np.array([0.4745\t,\t0.4564])\n",
    "b=y[1:]\n",
    "d=np.concatenate((z4,b,c))\n",
    "prediksi=NN.forward(d)\n",
    "prediksi"
   ]
  },
  {
   "cell_type": "code",
   "execution_count": 58,
   "metadata": {},
   "outputs": [
    {
     "data": {
      "text/plain": [
       "array([0.26375662])"
      ]
     },
     "execution_count": 58,
     "metadata": {},
     "output_type": "execute_result"
    }
   ],
   "source": [
    "#prediksi 6\n",
    "c=prediksi\n",
    "z5=np.array([0.4621\t,\t0.4571])\n",
    "b=y[1:]\n",
    "d=np.concatenate((z5,b,c))\n",
    "prediksi=NN.forward(d)\n",
    "prediksi"
   ]
  }
 ],
 "metadata": {
  "kernelspec": {
   "display_name": "Python 3",
   "language": "python",
   "name": "python3"
  },
  "language_info": {
   "codemirror_mode": {
    "name": "ipython",
    "version": 3
   },
   "file_extension": ".py",
   "mimetype": "text/x-python",
   "name": "python",
   "nbconvert_exporter": "python",
   "pygments_lexer": "ipython3",
   "version": "3.7.3"
  }
 },
 "nbformat": 4,
 "nbformat_minor": 2
}
