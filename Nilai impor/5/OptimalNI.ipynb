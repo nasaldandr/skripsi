{
 "cells": [
  {
   "cell_type": "code",
   "execution_count": 1,
   "metadata": {},
   "outputs": [
    {
     "name": "stdout",
     "output_type": "stream",
     "text": [
      "Optimization terminated successfully.\n",
      "         Current function value: 0.966958\n",
      "         Iterations: 70\n",
      "         Function evaluations: 72\n",
      "         Gradient evaluations: 72\n"
     ]
    },
    {
     "data": {
      "text/plain": [
       "<Figure size 640x480 with 1 Axes>"
      ]
     },
     "metadata": {},
     "output_type": "display_data"
    },
    {
     "name": "stdout",
     "output_type": "stream",
     "text": [
      "Optimization terminated successfully.\n",
      "         Current function value: 0.820534\n",
      "         Iterations: 67\n",
      "         Function evaluations: 75\n",
      "         Gradient evaluations: 75\n"
     ]
    },
    {
     "data": {
      "text/plain": [
       "<Figure size 640x480 with 1 Axes>"
      ]
     },
     "metadata": {},
     "output_type": "display_data"
    },
    {
     "data": {
      "text/plain": [
       "<Figure size 640x480 with 1 Axes>"
      ]
     },
     "metadata": {},
     "output_type": "display_data"
    }
   ],
   "source": [
    "#Import code from last time\n",
    "%run NI6-1.ipynb"
   ]
  },
  {
   "cell_type": "code",
   "execution_count": 2,
   "metadata": {},
   "outputs": [
    {
     "data": {
      "text/plain": [
       "array([[0.49627058, 0.93614647, 0.85846731, 0.70258153, 0.6646853 ,\n",
       "        0.38417609],\n",
       "       [0.47546339, 0.85846731, 0.70258153, 0.6646853 , 0.38417609,\n",
       "        0.50844449],\n",
       "       [0.55155979, 0.70258153, 0.6646853 , 0.38417609, 0.50844449,\n",
       "        0.70605062],\n",
       "       [0.50099435, 0.6646853 , 0.38417609, 0.50844449, 0.70605062,\n",
       "        0.62566313],\n",
       "       [0.44545859, 0.38417609, 0.50844449, 0.70605062, 0.62566313,\n",
       "        0.31006745],\n",
       "       [0.50571167, 0.50844449, 0.70605062, 0.62566313, 0.31006745,\n",
       "        0.71815185],\n",
       "       [0.46588904, 0.70605062, 0.62566313, 0.31006745, 0.71815185,\n",
       "        0.58129533],\n",
       "       [0.46785659, 0.62566313, 0.31006745, 0.71815185, 0.58129533,\n",
       "        0.59084039],\n",
       "       [0.45300142, 0.31006745, 0.71815185, 0.58129533, 0.59084039,\n",
       "        0.64112187],\n",
       "       [0.43741172, 0.71815185, 0.58129533, 0.59084039, 0.64112187,\n",
       "        0.70009636],\n",
       "       [0.3506737 , 0.58129533, 0.59084039, 0.64112187, 0.70009636,\n",
       "        0.61497185],\n",
       "       [0.36403131, 0.59084039, 0.64112187, 0.70009636, 0.61497185,\n",
       "        0.591378  ]])"
      ]
     },
     "execution_count": 2,
     "metadata": {},
     "output_type": "execute_result"
    }
   ],
   "source": [
    "testX"
   ]
  },
  {
   "cell_type": "code",
   "execution_count": 3,
   "metadata": {},
   "outputs": [
    {
     "data": {
      "text/plain": [
       "array([[0.50844449],\n",
       "       [0.70605062],\n",
       "       [0.62566313],\n",
       "       [0.31006745],\n",
       "       [0.71815185],\n",
       "       [0.58129533],\n",
       "       [0.59084039],\n",
       "       [0.64112187],\n",
       "       [0.70009636],\n",
       "       [0.61497185],\n",
       "       [0.591378  ],\n",
       "       [0.32      ]])"
      ]
     },
     "execution_count": 3,
     "metadata": {},
     "output_type": "execute_result"
    }
   ],
   "source": [
    "testY"
   ]
  },
  {
   "cell_type": "code",
   "execution_count": 4,
   "metadata": {},
   "outputs": [
    {
     "data": {
      "text/plain": [
       "array([[0.2232566 , 0.42336055, 0.31155855, 0.42299539, 0.42478065,\n",
       "        0.32205711],\n",
       "       [0.24197469, 0.31155855, 0.42299539, 0.42478065, 0.32205711,\n",
       "        0.46046559],\n",
       "       [0.36573346, 0.42299539, 0.42478065, 0.32205711, 0.46046559,\n",
       "        0.16668864],\n",
       "       [0.55255899, 0.42478065, 0.32205711, 0.46046559, 0.16668864,\n",
       "        0.40174469],\n",
       "       [0.37002352, 0.32205711, 0.46046559, 0.16668864, 0.40174469,\n",
       "        0.31647817],\n",
       "       [0.3325317 , 0.46046559, 0.16668864, 0.40174469, 0.31647817,\n",
       "        0.27086271],\n",
       "       [0.38788752, 0.16668864, 0.40174469, 0.31647817, 0.27086271,\n",
       "        0.31251205],\n",
       "       [0.39836394, 0.40174469, 0.31647817, 0.27086271, 0.31251205,\n",
       "        0.36909266],\n",
       "       [0.2848263 , 0.31647817, 0.27086271, 0.31251205, 0.36909266,\n",
       "        0.20575138],\n",
       "       [0.18673502, 0.27086271, 0.31251205, 0.36909266, 0.20575138,\n",
       "        0.17619313],\n",
       "       [0.18269477, 0.31251205, 0.36909266, 0.20575138, 0.17619313,\n",
       "        0.29041944],\n",
       "       [0.255617  , 0.36909266, 0.20575138, 0.17619313, 0.29041944,\n",
       "        0.24090886],\n",
       "       [0.23597043, 0.20575138, 0.17619313, 0.29041944, 0.24090886,\n",
       "        0.27408835],\n",
       "       [0.16413413, 0.17619313, 0.29041944, 0.24090886, 0.27408835,\n",
       "        0.37090835],\n",
       "       [0.17817663, 0.29041944, 0.24090886, 0.27408835, 0.37090835,\n",
       "        0.05869047],\n",
       "       [0.1639561 , 0.24090886, 0.27408835, 0.37090835, 0.05869047,\n",
       "        0.40032459],\n",
       "       [0.13324148, 0.27408835, 0.37090835, 0.05869047, 0.40032459,\n",
       "        0.28999341],\n",
       "       [0.22639902, 0.37090835, 0.05869047, 0.40032459, 0.28999341,\n",
       "        0.30771415],\n",
       "       [0.25501386, 0.05869047, 0.40032459, 0.28999341, 0.30771415,\n",
       "        0.42915251],\n",
       "       [0.23708614, 0.40032459, 0.28999341, 0.30771415, 0.42915251,\n",
       "        0.44062484],\n",
       "       [0.23165112, 0.28999341, 0.30771415, 0.42915251, 0.44062484,\n",
       "        0.35804636],\n",
       "       [0.23306761, 0.30771415, 0.42915251, 0.44062484, 0.35804636,\n",
       "        0.2957245 ],\n",
       "       [0.22117372, 0.42915251, 0.44062484, 0.35804636, 0.2957245 ,\n",
       "        0.4914135 ],\n",
       "       [0.22633168, 0.44062484, 0.35804636, 0.2957245 , 0.4914135 ,\n",
       "        0.35624081],\n",
       "       [0.21869864, 0.35804636, 0.2957245 , 0.4914135 , 0.35624081,\n",
       "        0.54105594],\n",
       "       [0.2320322 , 0.2957245 , 0.4914135 , 0.35624081, 0.54105594,\n",
       "        0.15752904],\n",
       "       [0.23194795, 0.4914135 , 0.35624081, 0.54105594, 0.15752904,\n",
       "        0.55294416],\n",
       "       [0.22154782, 0.35624081, 0.54105594, 0.15752904, 0.55294416,\n",
       "        0.51433788],\n",
       "       [0.28795858, 0.54105594, 0.15752904, 0.55294416, 0.51433788,\n",
       "        0.44121317],\n",
       "       [0.28837327, 0.15752904, 0.55294416, 0.51433788, 0.44121317,\n",
       "        0.58940001],\n",
       "       [0.29714576, 0.55294416, 0.51433788, 0.44121317, 0.58940001,\n",
       "        0.67707055],\n",
       "       [0.24366982, 0.51433788, 0.44121317, 0.58940001, 0.67707055,\n",
       "        0.67615763],\n",
       "       [0.30743731, 0.44121317, 0.58940001, 0.67707055, 0.67615763,\n",
       "        0.69694172],\n",
       "       [0.35859786, 0.58940001, 0.67707055, 0.67615763, 0.69694172,\n",
       "        0.58293858],\n",
       "       [0.37218122, 0.67707055, 0.67615763, 0.69694172, 0.58293858,\n",
       "        0.61114774],\n",
       "       [0.45025948, 0.67615763, 0.69694172, 0.58293858, 0.61114774,\n",
       "        0.7834559 ],\n",
       "       [0.44309563, 0.69694172, 0.58293858, 0.61114774, 0.7834559 ,\n",
       "        0.93566973],\n",
       "       [0.55815598, 0.58293858, 0.61114774, 0.7834559 , 0.93566973,\n",
       "        0.28699092],\n",
       "       [0.60235983, 0.61114774, 0.7834559 , 0.93566973, 0.28699092,\n",
       "        1.        ],\n",
       "       [0.69629172, 0.7834559 , 0.93566973, 0.28699092, 1.        ,\n",
       "        0.84997718],\n",
       "       [0.79060467, 0.93566973, 0.28699092, 1.        , 0.84997718,\n",
       "        0.62600801],\n",
       "       [0.64402223, 0.28699092, 1.        , 0.84997718, 0.62600801,\n",
       "        0.93614647],\n",
       "       [0.58322864, 1.        , 0.84997718, 0.62600801, 0.93614647,\n",
       "        0.85846731],\n",
       "       [0.48171501, 0.84997718, 0.62600801, 0.93614647, 0.85846731,\n",
       "        0.70258153],\n",
       "       [0.44281211, 0.62600801, 0.93614647, 0.85846731, 0.70258153,\n",
       "        0.6646853 ]])"
      ]
     },
     "execution_count": 4,
     "metadata": {},
     "output_type": "execute_result"
    }
   ],
   "source": [
    "trainX"
   ]
  },
  {
   "cell_type": "code",
   "execution_count": 5,
   "metadata": {},
   "outputs": [
    {
     "data": {
      "text/plain": [
       "array([[0.46046559],\n",
       "       [0.16668864],\n",
       "       [0.40174469],\n",
       "       [0.31647817],\n",
       "       [0.27086271],\n",
       "       [0.31251205],\n",
       "       [0.36909266],\n",
       "       [0.20575138],\n",
       "       [0.17619313],\n",
       "       [0.29041944],\n",
       "       [0.24090886],\n",
       "       [0.27408835],\n",
       "       [0.37090835],\n",
       "       [0.05869047],\n",
       "       [0.40032459],\n",
       "       [0.28999341],\n",
       "       [0.30771415],\n",
       "       [0.42915251],\n",
       "       [0.44062484],\n",
       "       [0.35804636],\n",
       "       [0.2957245 ],\n",
       "       [0.4914135 ],\n",
       "       [0.35624081],\n",
       "       [0.54105594],\n",
       "       [0.15752904],\n",
       "       [0.55294416],\n",
       "       [0.51433788],\n",
       "       [0.44121317],\n",
       "       [0.58940001],\n",
       "       [0.67707055],\n",
       "       [0.67615763],\n",
       "       [0.69694172],\n",
       "       [0.58293858],\n",
       "       [0.61114774],\n",
       "       [0.7834559 ],\n",
       "       [0.93566973],\n",
       "       [0.28699092],\n",
       "       [1.        ],\n",
       "       [0.84997718],\n",
       "       [0.62600801],\n",
       "       [0.93614647],\n",
       "       [0.85846731],\n",
       "       [0.70258153],\n",
       "       [0.6646853 ],\n",
       "       [0.38417609]])"
      ]
     },
     "execution_count": 5,
     "metadata": {},
     "output_type": "execute_result"
    }
   ],
   "source": [
    "trainY"
   ]
  },
  {
   "cell_type": "code",
   "execution_count": 6,
   "metadata": {},
   "outputs": [],
   "source": [
    "#Regularization Parameter:\n",
    "Lambda = 0.0001"
   ]
  },
  {
   "cell_type": "code",
   "execution_count": 7,
   "metadata": {},
   "outputs": [],
   "source": [
    "#Need to make changes to costFunction and costFunctionPrim:\n",
    "def costFunction(self, X, y):\n",
    "    #Compute cost for given X,y, use weights already stored in class.\n",
    "    self.yHat = self.forward(X)\n",
    "    #We don't want cost to increase with the number of examples, so normalize by dividing the error term by number of examples(X.shape[0])\n",
    "    J = 0.5*sum((y-self.yHat)**2)/X.shape[0] + (self.Lambda/2)*(sum(self.W1**2)+sum(self.W2**2))\n",
    "    return J\n",
    "\n",
    "def costFunctionPrime(self, X, y):\n",
    "    #Compute derivative with respect to W and W2 for a given X and y:\n",
    "    self.yHat = self.forward(X)\n",
    "\n",
    "    delta3 = np.multiply(-(y-self.yHat), self.sigmoidPrime(self.z3))\n",
    "    #Add gradient of regularization term:\n",
    "    dJdW2 = np.dot(self.a2.T, delta3)/X.shape[0] + self.Lambda*self.W2\n",
    "\n",
    "    delta2 = np.dot(delta3, self.W2.T)*self.sigmoidPrime(self.z2)\n",
    "    #Add gradient of regularization term:\n",
    "    dJdW1 = np.dot(X.T, delta2)/X.shape[0] + self.Lambda*self.W1\n",
    "\n",
    "    return dJdW1, dJdW2"
   ]
  },
  {
   "cell_type": "code",
   "execution_count": 8,
   "metadata": {},
   "outputs": [],
   "source": [
    "#New complete class, with changes:\n",
    "class Neural_Network(object):\n",
    "    def __init__(self, Lambda=0.0001):        \n",
    "        #Define Hyperparameters\n",
    "        self.inputLayerSize = 6\n",
    "        self.outputLayerSize = 1\n",
    "        self.hiddenLayerSize = 1\n",
    "        \n",
    "        #Weights (parameters)\n",
    "        self.W1 = np.random.randn(self.inputLayerSize,self.hiddenLayerSize)\n",
    "        self.W2 = np.random.randn(self.hiddenLayerSize,self.outputLayerSize)\n",
    "        \n",
    "        #Regularization Parameter:\n",
    "        self.Lambda = Lambda\n",
    "        \n",
    "    def forward(self, X):\n",
    "        #Propogate inputs though network\n",
    "        self.z2 = np.dot(X, self.W1)\n",
    "        self.a2 = self.sigmoid(self.z2)\n",
    "        self.z3 = np.dot(self.a2, self.W2)\n",
    "        yHat = self.sigmoid(self.z3) \n",
    "        return yHat\n",
    "        \n",
    "    def sigmoid(self, z):\n",
    "        #Apply sigmoid activation function to scalar, vector, or matrix\n",
    "        return 1/(1+np.exp(-z))\n",
    "    \n",
    "    def sigmoidPrime(self,z):\n",
    "        #Gradient of sigmoid\n",
    "        return np.exp(-z)/((1+np.exp(-z))**2)\n",
    "    \n",
    "    def costFunction(self, X, y):\n",
    "        #Compute cost for given X,y, use weights already stored in class.\n",
    "        self.yHat = self.forward(X)\n",
    "        J = 0.5*sum((y-self.yHat)**2)/X.shape[0] + (self.Lambda/2)*(np.sum(self.W1**2)+np.sum(self.W2**2))\n",
    "        return J\n",
    "        \n",
    "    def costFunctionPrime(self, X, y):\n",
    "        #Compute derivative with respect to W and W2 for a given X and y:\n",
    "        self.yHat = self.forward(X)\n",
    "        \n",
    "        delta3 = np.multiply(-(y-self.yHat), self.sigmoidPrime(self.z3))\n",
    "        #Add gradient of regularization term:\n",
    "        dJdW2 = np.dot(self.a2.T, delta3)/X.shape[0] + self.Lambda*self.W2\n",
    "        \n",
    "        delta2 = np.dot(delta3, self.W2.T)*self.sigmoidPrime(self.z2)\n",
    "        #Add gradient of regularization term:\n",
    "        dJdW1 = np.dot(X.T, delta2)/X.shape[0] + self.Lambda*self.W1\n",
    "        \n",
    "        return dJdW1, dJdW2\n",
    "    \n",
    "    def predict(self):\n",
    "        prediksi = self.forward(dataprediksi)\n",
    "        return prediksi\n",
    "    \n",
    "    #Helper functions for interacting with other methods/classes\n",
    "    def getParams(self):\n",
    "        #Get W1 and W2 Rolled into vector:\n",
    "        params = np.concatenate((self.W1.ravel(), self.W2.ravel()))\n",
    "        return params\n",
    "    \n",
    "    def setParams(self, params):\n",
    "        #Set W1 and W2 using single parameter vector:\n",
    "        W1_start = 0\n",
    "        W1_end = self.hiddenLayerSize*self.inputLayerSize\n",
    "        self.W1 = np.reshape(params[W1_start:W1_end], \\\n",
    "                             (self.inputLayerSize, self.hiddenLayerSize))\n",
    "        W2_end = W1_end + self.hiddenLayerSize*self.outputLayerSize\n",
    "        self.W2 = np.reshape(params[W1_end:W2_end], \\\n",
    "                             (self.hiddenLayerSize, self.outputLayerSize))\n",
    "        \n",
    "    def computeGradients(self, X, y):\n",
    "        dJdW1, dJdW2 = self.costFunctionPrime(X, y)\n",
    "        return np.concatenate((dJdW1.ravel(), dJdW2.ravel()))"
   ]
  },
  {
   "cell_type": "code",
   "execution_count": 9,
   "metadata": {},
   "outputs": [],
   "source": [
    "def computeNumericalGradient(N, X, y):\n",
    "    paramsInitial = N.getParams()\n",
    "    numgrad = np.zeros(paramsInitial.shape)\n",
    "    perturb = np.zeros(paramsInitial.shape)\n",
    "    e = 1e-4\n",
    "\n",
    "    for p in range(len(paramsInitial)):\n",
    "        #Set perturbation vector\n",
    "        perturb[p] = e\n",
    "        N.setParams(paramsInitial + perturb)\n",
    "        loss2 = N.costFunction(X, y)\n",
    "            \n",
    "        N.setParams(paramsInitial - perturb)\n",
    "        loss1 = N.costFunction(X, y)\n",
    "\n",
    "        #Compute Numerical Gradient\n",
    "        numgrad[p] = (loss2 - loss1) / (2*e)\n",
    "\n",
    "            #Return the value we changed to zero:\n",
    "        perturb[p] = 0\n",
    "            \n",
    "    #Return Params to original value:\n",
    "    N.setParams(paramsInitial)\n",
    "\n",
    "    return numgrad "
   ]
  },
  {
   "cell_type": "code",
   "execution_count": 10,
   "metadata": {},
   "outputs": [],
   "source": [
    "NN = Neural_Network(Lambda=0.0001)"
   ]
  },
  {
   "cell_type": "code",
   "execution_count": 11,
   "metadata": {},
   "outputs": [],
   "source": [
    "#Make sure our gradients our correct after making changes:\n",
    "numgrad = computeNumericalGradient(NN, X, y)\n",
    "grad = NN.computeGradients(X,y)"
   ]
  },
  {
   "cell_type": "code",
   "execution_count": 12,
   "metadata": {},
   "outputs": [
    {
     "data": {
      "text/plain": [
       "9.403120219821748e-11"
      ]
     },
     "execution_count": 12,
     "metadata": {},
     "output_type": "execute_result"
    }
   ],
   "source": [
    "#Should be less than 1e-8:\n",
    "np.linalg.norm(grad-numgrad)/np.linalg.norm(grad+numgrad)"
   ]
  },
  {
   "cell_type": "code",
   "execution_count": 13,
   "metadata": {},
   "outputs": [],
   "source": [
    "T = trainer(NN)"
   ]
  },
  {
   "cell_type": "code",
   "execution_count": 14,
   "metadata": {},
   "outputs": [
    {
     "name": "stdout",
     "output_type": "stream",
     "text": [
      "Optimization terminated successfully.\n",
      "         Current function value: 0.019623\n",
      "         Iterations: 46\n",
      "         Function evaluations: 54\n",
      "         Gradient evaluations: 54\n"
     ]
    }
   ],
   "source": [
    "T.train(X,y,testX,testY)"
   ]
  },
  {
   "cell_type": "code",
   "execution_count": 15,
   "metadata": {},
   "outputs": [
    {
     "data": {
      "image/png": "[encoded data removed]",
      "text/plain": [
       "<Figure size 432x288 with 1 Axes>"
      ]
     },
     "metadata": {
      "needs_background": "light"
     },
     "output_type": "display_data"
    }
   ],
   "source": [
    "plot.plot(T.J)\n",
    "plot.plot(T.testJ)\n",
    "plot.grid(1)\n",
    "plot.xlabel('Iterations')\n",
    "plot.ylabel('Cost')\n",
    "plot.legend(['Training', 'Testing'])\n",
    "plot.show()"
   ]
  },
  {
   "cell_type": "code",
   "execution_count": 16,
   "metadata": {},
   "outputs": [
    {
     "data": {
      "text/plain": [
       "[array([0.02325022]),\n",
       " array([0.02300465]),\n",
       " array([0.02272966]),\n",
       " array([0.0227245]),\n",
       " array([0.02272113]),\n",
       " array([0.02271468]),\n",
       " array([0.02266138]),\n",
       " array([0.02018269]),\n",
       " array([0.02017019]),\n",
       " array([0.02013881]),\n",
       " array([0.02008419]),\n",
       " array([0.02002973]),\n",
       " array([0.02002848]),\n",
       " array([0.02002826]),\n",
       " array([0.02002788]),\n",
       " array([0.02002716]),\n",
       " array([0.02002584]),\n",
       " array([0.02002338]),\n",
       " array([0.02001886]),\n",
       " array([0.02001073]),\n",
       " array([0.01999657]),\n",
       " array([0.01997294]),\n",
       " array([0.0199353]),\n",
       " array([0.01987728]),\n",
       " array([0.01979795]),\n",
       " array([0.01971322]),\n",
       " array([0.01966842]),\n",
       " array([0.01965546]),\n",
       " array([0.01965475]),\n",
       " array([0.01965474]),\n",
       " array([0.01965471]),\n",
       " array([0.01965467]),\n",
       " array([0.0196546]),\n",
       " array([0.01965445]),\n",
       " array([0.01965418]),\n",
       " array([0.0196537]),\n",
       " array([0.01965285]),\n",
       " array([0.0196514]),\n",
       " array([0.01964906]),\n",
       " array([0.01964536]),\n",
       " array([0.01963954]),\n",
       " array([0.01963113]),\n",
       " array([0.01962492]),\n",
       " array([0.01962276]),\n",
       " array([0.01962255]),\n",
       " array([0.01962254])]"
      ]
     },
     "execution_count": 16,
     "metadata": {},
     "output_type": "execute_result"
    }
   ],
   "source": [
    "T.J"
   ]
  },
  {
   "cell_type": "code",
   "execution_count": 17,
   "metadata": {},
   "outputs": [
    {
     "data": {
      "text/plain": [
       "[array([0.01177427]),\n",
       " array([0.01228799]),\n",
       " array([0.01372882]),\n",
       " array([0.0139194]),\n",
       " array([0.01399097]),\n",
       " array([0.01406948]),\n",
       " array([0.0145963]),\n",
       " array([0.01484671]),\n",
       " array([0.01491449]),\n",
       " array([0.01483227]),\n",
       " array([0.01465517]),\n",
       " array([0.01422599]),\n",
       " array([0.0142241]),\n",
       " array([0.01421451]),\n",
       " array([0.01420442]),\n",
       " array([0.01419317]),\n",
       " array([0.01417918]),\n",
       " array([0.01416046]),\n",
       " array([0.01413432]),\n",
       " array([0.01409729]),\n",
       " array([0.01404578]),\n",
       " array([0.01397884]),\n",
       " array([0.01390598]),\n",
       " array([0.01386249]),\n",
       " array([0.01392429]),\n",
       " array([0.01417615]),\n",
       " array([0.01444773]),\n",
       " array([0.01452216]),\n",
       " array([0.01450318]),\n",
       " array([0.01450359]),\n",
       " array([0.01450362]),\n",
       " array([0.01450377]),\n",
       " array([0.01450401]),\n",
       " array([0.01450444]),\n",
       " array([0.01450524]),\n",
       " array([0.01450674]),\n",
       " array([0.01450963]),\n",
       " array([0.01451511]),\n",
       " array([0.01452525]),\n",
       " array([0.01454269]),\n",
       " array([0.0145699]),\n",
       " array([0.01460906]),\n",
       " array([0.01462966]),\n",
       " array([0.01462596]),\n",
       " array([0.01462263]),\n",
       " array([0.01462138])]"
      ]
     },
     "execution_count": 17,
     "metadata": {},
     "output_type": "execute_result"
    }
   ],
   "source": [
    "T.testJ"
   ]
  },
  {
   "cell_type": "code",
   "execution_count": 18,
   "metadata": {},
   "outputs": [
    {
     "data": {
      "text/plain": [
       "0.006019541744209735"
      ]
     },
     "execution_count": 18,
     "metadata": {},
     "output_type": "execute_result"
    }
   ],
   "source": [
    "from sklearn.metrics import mean_absolute_error\n",
    "mean_absolute_error(T.J, T.testJ)"
   ]
  },
  {
   "cell_type": "code",
   "execution_count": 19,
   "metadata": {},
   "outputs": [],
   "source": [
    "yHat=NN.forward(X)"
   ]
  },
  {
   "cell_type": "code",
   "execution_count": 20,
   "metadata": {},
   "outputs": [
    {
     "data": {
      "text/plain": [
       "array([[0.42729535],\n",
       "       [0.4235993 ],\n",
       "       [0.42181518],\n",
       "       [0.40411653],\n",
       "       [0.39048562],\n",
       "       [0.39642385],\n",
       "       [0.38261562],\n",
       "       [0.38755134],\n",
       "       [0.38762799],\n",
       "       [0.37021395],\n",
       "       [0.34129573],\n",
       "       [0.33764328],\n",
       "       [0.3415291 ],\n",
       "       [0.35435399],\n",
       "       [0.36695361],\n",
       "       [0.34536364],\n",
       "       [0.34914779],\n",
       "       [0.37524121],\n",
       "       [0.38130991],\n",
       "       [0.41153413],\n",
       "       [0.42543381],\n",
       "       [0.42536974],\n",
       "       [0.41772899],\n",
       "       [0.42261688],\n",
       "       [0.43141501],\n",
       "       [0.43492825],\n",
       "       [0.42539141],\n",
       "       [0.42609669],\n",
       "       [0.4492178 ],\n",
       "       [0.45279358],\n",
       "       [0.46619566],\n",
       "       [0.47607612],\n",
       "       [0.48256671],\n",
       "       [0.4853741 ],\n",
       "       [0.48396652],\n",
       "       [0.48262674],\n",
       "       [0.48730407],\n",
       "       [0.49062837],\n",
       "       [0.48750254],\n",
       "       [0.48897007],\n",
       "       [0.49316442],\n",
       "       [0.49199866],\n",
       "       [0.49410368],\n",
       "       [0.4945834 ],\n",
       "       [0.49310873],\n",
       "       [0.48952991],\n",
       "       [0.47801847],\n",
       "       [0.46720132],\n",
       "       [0.4736807 ],\n",
       "       [0.47599914],\n",
       "       [0.46979547],\n",
       "       [0.47057427],\n",
       "       [0.47591337],\n",
       "       [0.47656959],\n",
       "       [0.48126503],\n",
       "       [0.48290367],\n",
       "       [0.48333665]])"
      ]
     },
     "execution_count": 20,
     "metadata": {},
     "output_type": "execute_result"
    }
   ],
   "source": [
    "yHat"
   ]
  },
  {
   "cell_type": "code",
   "execution_count": 21,
   "metadata": {},
   "outputs": [
    {
     "data": {
      "text/plain": [
       "array([[0.46046559],\n",
       "       [0.16668864],\n",
       "       [0.40174469],\n",
       "       [0.31647817],\n",
       "       [0.27086271],\n",
       "       [0.31251205],\n",
       "       [0.36909266],\n",
       "       [0.20575138],\n",
       "       [0.17619313],\n",
       "       [0.29041944],\n",
       "       [0.24090886],\n",
       "       [0.27408835],\n",
       "       [0.37090835],\n",
       "       [0.05869047],\n",
       "       [0.40032459],\n",
       "       [0.28999341],\n",
       "       [0.30771415],\n",
       "       [0.42915251],\n",
       "       [0.44062484],\n",
       "       [0.35804636],\n",
       "       [0.2957245 ],\n",
       "       [0.4914135 ],\n",
       "       [0.35624081],\n",
       "       [0.54105594],\n",
       "       [0.15752904],\n",
       "       [0.55294416],\n",
       "       [0.51433788],\n",
       "       [0.44121317],\n",
       "       [0.58940001],\n",
       "       [0.67707055],\n",
       "       [0.67615763],\n",
       "       [0.69694172],\n",
       "       [0.58293858],\n",
       "       [0.61114774],\n",
       "       [0.7834559 ],\n",
       "       [0.93566973],\n",
       "       [0.28699092],\n",
       "       [1.        ],\n",
       "       [0.84997718],\n",
       "       [0.62600801],\n",
       "       [0.93614647],\n",
       "       [0.85846731],\n",
       "       [0.70258153],\n",
       "       [0.6646853 ],\n",
       "       [0.38417609],\n",
       "       [0.50844449],\n",
       "       [0.70605062],\n",
       "       [0.62566313],\n",
       "       [0.31006745],\n",
       "       [0.71815185],\n",
       "       [0.58129533],\n",
       "       [0.59084039],\n",
       "       [0.64112187],\n",
       "       [0.70009636],\n",
       "       [0.61497185],\n",
       "       [0.591378  ],\n",
       "       [0.32      ]])"
      ]
     },
     "execution_count": 21,
     "metadata": {},
     "output_type": "execute_result"
    }
   ],
   "source": [
    "y"
   ]
  },
  {
   "cell_type": "code",
   "execution_count": 22,
   "metadata": {},
   "outputs": [
    {
     "data": {
      "image/png": "[encoded data removed]",
      "text/plain": [
       "<Figure size 432x288 with 1 Axes>"
      ]
     },
     "metadata": {
      "needs_background": "light"
     },
     "output_type": "display_data"
    }
   ],
   "source": [
    "#Plot cost during training:\n",
    "plot.plot(y)\n",
    "plot.plot(yHat)\n",
    "plot.grid(1)\n",
    "plot.legend(['y', 'yHat'])\n",
    "plot.show()"
   ]
  },
  {
   "cell_type": "code",
   "execution_count": 23,
   "metadata": {},
   "outputs": [],
   "source": [
    "prediksi=NN.forward(dataprediksi)"
   ]
  },
  {
   "cell_type": "code",
   "execution_count": 24,
   "metadata": {},
   "outputs": [
    {
     "data": {
      "text/plain": [
       "array([[0.47935855],\n",
       "       [0.46645319],\n",
       "       [0.45140478],\n",
       "       [0.43536424]])"
      ]
     },
     "execution_count": 24,
     "metadata": {},
     "output_type": "execute_result"
    }
   ],
   "source": [
    "prediksi"
   ]
  },
  {
   "cell_type": "code",
   "execution_count": 25,
   "metadata": {},
   "outputs": [],
   "source": [
    "from sklearn.metrics import mean_squared_error "
   ]
  },
  {
   "cell_type": "code",
   "execution_count": 26,
   "metadata": {},
   "outputs": [
    {
     "data": {
      "text/plain": [
       "0.06168232061502174"
      ]
     },
     "execution_count": 26,
     "metadata": {},
     "output_type": "execute_result"
    }
   ],
   "source": [
    "Y_true= ([\t0.50\t]\t,\n",
    "[\t0.415539889\t]\t,\n",
    "[\t0\t]\t,\n",
    "[\t0.235502358\t]\t,\n",
    "\n",
    ")\n",
    "\n",
    "\n",
    "Y_pred=prediksi\n",
    "mean_squared_error(Y_true,Y_pred) "
   ]
  },
  {
   "cell_type": "code",
   "execution_count": 27,
   "metadata": {},
   "outputs": [
    {
     "data": {
      "text/plain": [
       "array([[0.79538041, 0.64112187, 0.70009636, 0.61497185, 0.591378  ,\n",
       "        0.32      ],\n",
       "       [1.        , 0.70009636, 0.61497185, 0.591378  , 0.32      ,\n",
       "        0.5       ],\n",
       "       [0.70768171, 0.61497185, 0.591378  , 0.32      , 0.5       ,\n",
       "        0.41553989],\n",
       "       [0.49169532, 0.591378  , 0.32      , 0.5       , 0.41553989,\n",
       "        0.        ]])"
      ]
     },
     "execution_count": 27,
     "metadata": {},
     "output_type": "execute_result"
    }
   ],
   "source": [
    "dataprediksi"
   ]
  },
  {
   "cell_type": "code",
   "execution_count": 28,
   "metadata": {},
   "outputs": [],
   "source": [
    "z=np.array([0.51319034])"
   ]
  },
  {
   "cell_type": "code",
   "execution_count": 29,
   "metadata": {},
   "outputs": [],
   "source": [
    "y=np.array([0.32\t,\t0.50\t,\t0.415539889\t,\t0\t,\t0.235502358\t])"
   ]
  },
  {
   "cell_type": "code",
   "execution_count": 30,
   "metadata": {},
   "outputs": [],
   "source": [
    "a=np.concatenate((z,y))"
   ]
  },
  {
   "cell_type": "code",
   "execution_count": 31,
   "metadata": {},
   "outputs": [
    {
     "data": {
      "text/plain": [
       "array([0.3730026])"
      ]
     },
     "execution_count": 31,
     "metadata": {},
     "output_type": "execute_result"
    }
   ],
   "source": [
    "#prediksi 1\n",
    "prediksi=NN.forward(a)\n",
    "prediksi"
   ]
  },
  {
   "cell_type": "code",
   "execution_count": 32,
   "metadata": {},
   "outputs": [
    {
     "data": {
      "text/plain": [
       "array([0.32886812])"
      ]
     },
     "execution_count": 32,
     "metadata": {},
     "output_type": "execute_result"
    }
   ],
   "source": [
    "#prediksi 2\n",
    "c=prediksi\n",
    "z1=np.array([0.48673204])\n",
    "b=y[1:]\n",
    "d=np.concatenate((z1,b,c))\n",
    "prediksi=NN.forward(d)\n",
    "prediksi"
   ]
  },
  {
   "cell_type": "code",
   "execution_count": 33,
   "metadata": {},
   "outputs": [
    {
     "data": {
      "text/plain": [
       "array([0.32577576])"
      ]
     },
     "execution_count": 33,
     "metadata": {},
     "output_type": "execute_result"
    }
   ],
   "source": [
    "#prediksi 3\n",
    "c=prediksi\n",
    "z2=np.array([0.43012934])\n",
    "b=y[1:]\n",
    "d=np.concatenate((z2,b,c))\n",
    "prediksi=NN.forward(d)\n",
    "prediksi"
   ]
  },
  {
   "cell_type": "code",
   "execution_count": 34,
   "metadata": {},
   "outputs": [
    {
     "data": {
      "text/plain": [
       "array([0.32544731])"
      ]
     },
     "execution_count": 34,
     "metadata": {},
     "output_type": "execute_result"
    }
   ],
   "source": [
    "#prediksi 4\n",
    "c=prediksi\n",
    "z3=np.array([0.41357631])\n",
    "b=y[1:]\n",
    "d=np.concatenate((z3,b,c))\n",
    "prediksi=NN.forward(d)\n",
    "prediksi"
   ]
  },
  {
   "cell_type": "code",
   "execution_count": 35,
   "metadata": {},
   "outputs": [
    {
     "data": {
      "text/plain": [
       "array([0.32545153])"
      ]
     },
     "execution_count": 35,
     "metadata": {},
     "output_type": "execute_result"
    }
   ],
   "source": [
    "#prediksi 5\n",
    "c=prediksi\n",
    "z4=np.array([0.41626853])\n",
    "b=y[1:]\n",
    "d=np.concatenate((z4,b,c))\n",
    "prediksi=NN.forward(d)\n",
    "prediksi"
   ]
  },
  {
   "cell_type": "code",
   "execution_count": 36,
   "metadata": {},
   "outputs": [
    {
     "data": {
      "text/plain": [
       "array([0.32542434])"
      ]
     },
     "execution_count": 36,
     "metadata": {},
     "output_type": "execute_result"
    }
   ],
   "source": [
    "#prediksi 6\n",
    "c=prediksi\n",
    "z5=np.array([0.41314695])\n",
    "b=y[1:]\n",
    "d=np.concatenate((z5,b,c))\n",
    "prediksi=NN.forward(d)\n",
    "prediksi"
   ]
  }
 ],
 "metadata": {
  "kernelspec": {
   "display_name": "Python 3",
   "language": "python",
   "name": "python3"
  },
  "language_info": {
   "codemirror_mode": {
    "name": "ipython",
    "version": 3
   },
   "file_extension": ".py",
   "mimetype": "text/x-python",
   "name": "python",
   "nbconvert_exporter": "python",
   "pygments_lexer": "ipython3",
   "version": "3.7.3"
  }
 },
 "nbformat": 4,
 "nbformat_minor": 2
}
