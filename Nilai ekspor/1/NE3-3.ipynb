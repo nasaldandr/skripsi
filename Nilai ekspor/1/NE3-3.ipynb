{
 "cells": [
  {
   "cell_type": "code",
   "execution_count": 1,
   "metadata": {},
   "outputs": [],
   "source": [
    "import numpy as np"
   ]
  },
  {
   "cell_type": "code",
   "execution_count": 2,
   "metadata": {},
   "outputs": [],
   "source": [
    "#UNTUK NILAI IMPOR\n",
    "class Neural_Network(object):\n",
    "    def __init__(self):\n",
    "        #parameters\n",
    "        self.inputLayerSize = 3\n",
    "        self.outputLayerSize = 1\n",
    "        self.hiddenLayerSize = 3\n",
    "\n",
    "        #weights\n",
    "        self.W1 = np.random.randn(self.inputLayerSize,\\\n",
    "                                 self.hiddenLayerSize)  \n",
    "        self.W2 = np.random.randn(self.hiddenLayerSize,\\\n",
    "                                 self.outputLayerSize)  \n",
    "    \n",
    "    def printw(self):\n",
    "        return self.W1\n",
    "        \n",
    "    def weight(self, W1, W2):\n",
    "        #Make an internal variable for the weight:\n",
    "        self.W1 = W1\n",
    "        self.W2 = W2\n",
    "        \n",
    "    def forward(self, X):\n",
    "        #forward propagation through our network\n",
    "        self.z2 = np.dot(X,self.W1)  \n",
    "        self.a2 = self.tanh(self.z2)  # activation function\n",
    "        self.z3 = np.dot(self.a2, self.W2) \n",
    "        yHat = self.tanh(self.z3)  # final activation function\n",
    "        return yHat\n",
    "\n",
    "    def tanh(self, z):\n",
    "        # activation function\n",
    "        return (np.exp(z)-np.exp(-z))/(np.exp(z)+np.exp(-z))\n",
    "    \n",
    "    def tanhPrime(self,z): \n",
    "        #derivative of tanh\n",
    "        return 1-((np.exp(z)-np.exp(-z))/(np.exp(z)+np.exp(-z)))**2\n",
    "    \n",
    "    def costFunction(self,X,y):\n",
    "        self.yHat = self.forward(X)\n",
    "        J=0.5*sum((y-self.yHat)**2)\n",
    "        return J\n",
    "    \n",
    "    def costFunctionPrime(self,X,y):\n",
    "        self.yHat=self.forward(X)\n",
    "        \n",
    "        delta3=np.multiply(-(y-self.yHat),self.tanhPrime(self.z3))\n",
    "        dJdW2=np.dot(self.a2.T,delta3)\n",
    "        \n",
    "        delta2=np.dot(delta3,self.W2.T)*self.tanhPrime(self.z2)\n",
    "        dJdW1=np.dot(X.T,delta2)\n",
    "        return dJdW1,dJdW2\n",
    "    \n",
    "    def predict(self):\n",
    "        prediksi = self.forward(dataprediksi)\n",
    "        return prediksi\n",
    "    \n",
    "    def getParams(self):\n",
    "        params=np.concatenate((self.W1.ravel(),self.W2.ravel()))\n",
    "        return params\n",
    "    \n",
    "    def setParams(self,params):\n",
    "        W1_start=0\n",
    "        W1_end=self.hiddenLayerSize*self.inputLayerSize\n",
    "        self.W1=np.reshape(params[W1_start:W1_end],\\\n",
    "                          (self.inputLayerSize,self.hiddenLayerSize))\n",
    "        W2_end=W1_end+self.hiddenLayerSize*self.outputLayerSize\n",
    "        self.W2=np.reshape(params[W1_end:W2_end],\\\n",
    "                          (self.hiddenLayerSize,self.outputLayerSize))\n",
    "        \n",
    "    def computeGradients(self, X, y):\n",
    "        dJdW1, dJdW2 = self.costFunctionPrime(X, y)\n",
    "        return np.concatenate((dJdW1.ravel(), dJdW2.ravel()))"
   ]
  },
  {
   "cell_type": "code",
   "execution_count": 3,
   "metadata": {},
   "outputs": [],
   "source": [
    "NN = Neural_Network()"
   ]
  },
  {
   "cell_type": "code",
   "execution_count": 4,
   "metadata": {},
   "outputs": [
    {
     "data": {
      "text/plain": [
       "array([[-0.85044578,  0.84442465,  0.98453742],\n",
       "       [ 0.532265  ,  0.3402564 ,  2.02577977],\n",
       "       [ 0.34745741,  0.75768267,  1.52092366]])"
      ]
     },
     "execution_count": 4,
     "metadata": {},
     "output_type": "execute_result"
    }
   ],
   "source": [
    "NN.W1"
   ]
  },
  {
   "cell_type": "code",
   "execution_count": 5,
   "metadata": {},
   "outputs": [
    {
     "data": {
      "text/plain": [
       "array([[-0.13705448],\n",
       "       [ 0.28101474],\n",
       "       [-0.1506139 ]])"
      ]
     },
     "execution_count": 5,
     "metadata": {},
     "output_type": "execute_result"
    }
   ],
   "source": [
    "NN.W2"
   ]
  },
  {
   "cell_type": "code",
   "execution_count": 6,
   "metadata": {},
   "outputs": [],
   "source": [
    "#NILAI IMPOR\n",
    "X=np.array(([\t0.063380282\t,\t0.051924996\t,\t0.566339448\t]\t,\n",
    "[\t0.436619718\t,\t0.148319042\t,\t0.263729105\t]\t,\n",
    "[\t0.570422535\t,\t0.112113419\t,\t0.334917603\t]\t,\n",
    "[\t0.669014085\t,\t0.170734062\t,\t0.529012867\t]\t,\n",
    "[\t0.697183099\t,\t0.223256598\t,\t0.467788981\t]\t,\n",
    "[\t0.971830986\t,\t0.241974687\t,\t0.588593257\t]\t,\n",
    "[\t0.591549296\t,\t0.365733465\t,\t0.286501133\t]\t,\n",
    "[\t0.281690141\t,\t0.552558994\t,\t0.473208072\t]\t,\n",
    "[\t0.26056338\t,\t0.370023519\t,\t0.452716208\t]\t,\n",
    "[\t0.464788732\t,\t0.332531703\t,\t0.383674618\t]\t,\n",
    "[\t0.992957746\t,\t0.387887522\t,\t0.233998134\t]\t,\n",
    "[\t0.676056338\t,\t0.398363943\t,\t0.353173722\t]\t,\n",
    "[\t0.253521127\t,\t0.284826299\t,\t0.140629858\t]\t,\n",
    "[\t0.450704225\t,\t0.186735022\t,\t0.263729105\t]\t,\n",
    "[\t0\t,\t0.182694768\t,\t0.33746428\t]\t,\n",
    "[\t0.485915493\t,\t0.255617002\t,\t0.287996565\t]\t,\n",
    "[\t0.781690141\t,\t0.23597043\t,\t0.509868372\t]\t,\n",
    "[\t0.802816901\t,\t0.164134134\t,\t0.509868372\t]\t,\n",
    "[\t0.302816901\t,\t0.178176635\t,\t0\t]\t,\n",
    "[\t0.471830986\t,\t0.163956101\t,\t0.476391418\t]\t,\n",
    "[\t0.415492958\t,\t0.133241484\t,\t0.449769763\t]\t,\n",
    "[\t0.647887324\t,\t0.226399017\t,\t0.46613068\t]\t,\n",
    "[\t0.612676056\t,\t0.255013861\t,\t0.588223101\t]\t,\n",
    "[\t1\t,\t0.23708614\t,\t0.636358252\t]\t,\n",
    "[\t0.478873239\t,\t0.231651119\t,\t0.573135522\t]\t,\n",
    "[\t0.302816901\t,\t0.233067608\t,\t0.45643258\t]\t,\n",
    "[\t0.38028169\t,\t0.221173719\t,\t0.762226269\t]\t,\n",
    "[\t0.591549296\t,\t0.22633168\t,\t0.553591258\t]\t,\n",
    "[\t0.802816901\t,\t0.218698642\t,\t0.711159478\t]\t,\n",
    "[\t0.471830986\t,\t0.232032203\t,\t0.315462177\t]\t,\n",
    "[\t0.267605634\t,\t0.231947948\t,\t0.60413983\t]\t,\n",
    "[\t0.408450704\t,\t0.221547817\t,\t0.837619746\t]\t,\n",
    "[\t0.323943662\t,\t0.287958581\t,\t0.747627297\t]\t,\n",
    "[\t0.457746479\t,\t0.28837327\t,\t0.84718459\t]\t,\n",
    "[\t0.816901408\t,\t0.297145757\t,\t0.859340529\t]\t,\n",
    "[\t0.753521127\t,\t0.243669818\t,\t0.789721494\t]\t,\n",
    "[\t0.436619718\t,\t0.307437314\t,\t0.743659219\t]\t,\n",
    "[\t0.457746479\t,\t0.358597855\t,\t0.681354477\t]\t,\n",
    "[\t0.387323944\t,\t0.372181217\t,\t0.896681917\t]\t,\n",
    "[\t0.464788732\t,\t0.450259481\t,\t0.735190038\t]\t,\n",
    "[\t0.732394366\t,\t0.443095634\t,\t0.987207391\t]\t,\n",
    "[\t0.514084507\t,\t0.558155976\t,\t0.505026725\t]\t,\n",
    "[\t0.281690141\t,\t0.602359827\t,\t1\t]\t,\n",
    "[\t0.190140845\t,\t0.696291723\t,\t0.937872933\t]\t,\n",
    "[\t0.514084507\t,\t0.790604671\t,\t0.803313641\t]\t,\n",
    "[\t0.507042254\t,\t0.644022227\t,\t0.944387687\t]\t,\n",
    "[\t0.753521127\t,\t0.583228643\t,\t0.787826293\t]\t,\n",
    "[\t0.542253521\t,\t0.481715009\t,\t0.704674336\t]\t,\n",
    "[\t0.26056338\t,\t0.442812107\t,\t0.651046062\t]\t,\n",
    "[\t0.394366197\t,\t0.496270585\t,\t0.447904174\t]\t,\n",
    "[\t0.626760563\t,\t0.475463393\t,\t0.679770207\t]\t,\n",
    "[\t0.795774648\t,\t0.551559791\t,\t0.53034543\t]\t,\n",
    "[\t0.704225352\t,\t0.500994351\t,\t0.783902634\t]\t,\n",
    "[\t0.535211268\t,\t0.445458587\t,\t0.334902797\t]\t,\n",
    "[\t0.401408451\t,\t0.505711667\t,\t0.87703401\t]\t,\n",
    "[\t0.126760563\t,\t0.465889036\t,\t0.70343061\t]\t,\n",
    "[\t0.330985915\t,\t0.46785659\t,\t0.676453605\t]\t,\n",
    "[\t0.415492958\t,\t0.453001423\t,\t0.799656495\t]\t,\n",
    "[\t0.556338028\t,\t0.437411724\t,\t0.653962896\t]\t,\n",
    "[\t0.591549296\t,\t0.350673696\t,\t0.731769792\t]\t,\n",
    "[\t0.514084507\t,\t0.364031312\t,\t0.607234339\t]\t,\n",
    "\n",
    ")           \n",
    ",dtype=float)\n",
    "y=np.array(([\t0.263729105\t]\t,\n",
    "[\t0.334917603\t]\t,\n",
    "[\t0.529012867\t]\t,\n",
    "[\t0.467788981\t]\t,\n",
    "[\t0.588593257\t]\t,\n",
    "[\t0.286501133\t]\t,\n",
    "[\t0.473208072\t]\t,\n",
    "[\t0.452716208\t]\t,\n",
    "[\t0.383674618\t]\t,\n",
    "[\t0.233998134\t]\t,\n",
    "[\t0.353173722\t]\t,\n",
    "[\t0.140629858\t]\t,\n",
    "[\t0.263729105\t]\t,\n",
    "[\t0.33746428\t]\t,\n",
    "[\t0.287996565\t]\t,\n",
    "[\t0.509868372\t]\t,\n",
    "[\t0.509868372\t]\t,\n",
    "[\t0\t]\t,\n",
    "[\t0.476391418\t]\t,\n",
    "[\t0.449769763\t]\t,\n",
    "[\t0.46613068\t]\t,\n",
    "[\t0.588223101\t]\t,\n",
    "[\t0.636358252\t]\t,\n",
    "[\t0.573135522\t]\t,\n",
    "[\t0.45643258\t]\t,\n",
    "[\t0.762226269\t]\t,\n",
    "[\t0.553591258\t]\t,\n",
    "[\t0.711159478\t]\t,\n",
    "[\t0.315462177\t]\t,\n",
    "[\t0.60413983\t]\t,\n",
    "[\t0.837619746\t]\t,\n",
    "[\t0.747627297\t]\t,\n",
    "[\t0.84718459\t]\t,\n",
    "[\t0.859340529\t]\t,\n",
    "[\t0.789721494\t]\t,\n",
    "[\t0.743659219\t]\t,\n",
    "[\t0.681354477\t]\t,\n",
    "[\t0.896681917\t]\t,\n",
    "[\t0.735190038\t]\t,\n",
    "[\t0.987207391\t]\t,\n",
    "[\t0.505026725\t]\t,\n",
    "[\t1\t]\t,\n",
    "[\t0.937872933\t]\t,\n",
    "[\t0.803313641\t]\t,\n",
    "[\t0.944387687\t]\t,\n",
    "[\t0.787826293\t]\t,\n",
    "[\t0.704674336\t]\t,\n",
    "[\t0.651046062\t]\t,\n",
    "[\t0.447904174\t]\t,\n",
    "[\t0.679770207\t]\t,\n",
    "[\t0.53034543\t]\t,\n",
    "[\t0.783902634\t]\t,\n",
    "[\t0.334902797\t]\t,\n",
    "[\t0.87703401\t]\t,\n",
    "[\t0.70343061\t]\t,\n",
    "[\t0.676453605\t]\t,\n",
    "[\t0.799656495\t]\t,\n",
    "[\t0.653962896\t]\t,\n",
    "[\t0.731769792\t]\t,\n",
    "[\t0.607234339\t]\t,\n",
    "[\t0.67\t]\t,\n",
    "\n",
    ")\n",
    ",dtype=float)\n",
    "\n",
    "dataprediksi = np.array(([\t0.387323944\t,\t0.795380412\t,\t0.67\t]\t,\n",
    "[\t0.373239437\t,\t1\t,\t0.67\t]\t,\n",
    "[\t0.366197183\t,\t0.707681705\t,\t0.389745184\t]\t,\n",
    "[\t0.443661972\t,\t0.491695324\t,\t0.136735812\t]\t,\n",
    "\n",
    "\n",
    "\n",
    "), dtype=float)\n"
   ]
  },
  {
   "cell_type": "code",
   "execution_count": 7,
   "metadata": {},
   "outputs": [],
   "source": [
    "import matplotlib.pyplot as plot"
   ]
  },
  {
   "cell_type": "code",
   "execution_count": 8,
   "metadata": {},
   "outputs": [],
   "source": [
    "from scipy import optimize"
   ]
  },
  {
   "cell_type": "code",
   "execution_count": 9,
   "metadata": {},
   "outputs": [],
   "source": [
    "class trainer(object):\n",
    "    def __init__(self, N):\n",
    "        #Make Local reference to network:\n",
    "        self.N = N\n",
    "        \n",
    "    def callbackF(self, params):\n",
    "        self.N.setParams(params)\n",
    "        self.J.append(self.N.costFunction(self.X, self.y))   \n",
    "        \n",
    "    def costFunctionWrapper(self, params, X, y):\n",
    "        self.N.setParams(params)\n",
    "        cost = self.N.costFunction(X, y)\n",
    "        grad = self.N.computeGradients(X,y)\n",
    "        \n",
    "        return cost, grad\n",
    "        \n",
    "    def train(self, X, y):\n",
    "        #Make an internal variable for the callback function:\n",
    "        self.X = X\n",
    "        self.y = y\n",
    "\n",
    "        #Make empty list to store costs:\n",
    "        self.J = []\n",
    "        \n",
    "        params0 = self.N.getParams()\n",
    "\n",
    "        options = {'maxiter': 100, 'disp' : True}\n",
    "        _res = optimize.minimize(self.costFunctionWrapper, params0, jac=True, method='BFGS', \\\n",
    "                                 args=(X, y), options=options, callback=self.callbackF)\n",
    "\n",
    "        self.N.setParams(_res.x)\n",
    "        self.optimizationResults = _res"
   ]
  },
  {
   "cell_type": "code",
   "execution_count": 10,
   "metadata": {},
   "outputs": [],
   "source": [
    "NN=Neural_Network()"
   ]
  },
  {
   "cell_type": "code",
   "execution_count": 11,
   "metadata": {},
   "outputs": [],
   "source": [
    "T = trainer(NN)"
   ]
  },
  {
   "cell_type": "code",
   "execution_count": 12,
   "metadata": {},
   "outputs": [
    {
     "name": "stdout",
     "output_type": "stream",
     "text": [
      "Warning: Maximum number of iterations has been exceeded.\n",
      "         Current function value: 0.753324\n",
      "         Iterations: 100\n",
      "         Function evaluations: 111\n",
      "         Gradient evaluations: 111\n"
     ]
    }
   ],
   "source": [
    "#Train network with new data:\n",
    "T = trainer(NN)\n",
    "T.train(X,y)"
   ]
  },
  {
   "cell_type": "code",
   "execution_count": 13,
   "metadata": {},
   "outputs": [
    {
     "data": {
      "image/png": "[encoded data removed]",
      "text/plain": [
       "<Figure size 432x288 with 1 Axes>"
      ]
     },
     "metadata": {
      "needs_background": "light"
     },
     "output_type": "display_data"
    }
   ],
   "source": [
    "#Plot cost during training:\n",
    "plot.plot(T.J)\n",
    "plot.grid(1)\n",
    "plot.xlabel('Iterations')\n",
    "plot.ylabel('Cost')\n",
    "plot.show()"
   ]
  },
  {
   "cell_type": "code",
   "execution_count": 14,
   "metadata": {},
   "outputs": [],
   "source": [
    "#Training Data:\n",
    "trainX = np.array(([\t0.063380282\t,\t0.051924996\t,\t0.566339448\t]\t,\n",
    "[\t0.436619718\t,\t0.148319042\t,\t0.263729105\t]\t,\n",
    "[\t0.570422535\t,\t0.112113419\t,\t0.334917603\t]\t,\n",
    "[\t0.669014085\t,\t0.170734062\t,\t0.529012867\t]\t,\n",
    "[\t0.697183099\t,\t0.223256598\t,\t0.467788981\t]\t,\n",
    "[\t0.971830986\t,\t0.241974687\t,\t0.588593257\t]\t,\n",
    "[\t0.591549296\t,\t0.365733465\t,\t0.286501133\t]\t,\n",
    "[\t0.281690141\t,\t0.552558994\t,\t0.473208072\t]\t,\n",
    "[\t0.26056338\t,\t0.370023519\t,\t0.452716208\t]\t,\n",
    "[\t0.464788732\t,\t0.332531703\t,\t0.383674618\t]\t,\n",
    "[\t0.992957746\t,\t0.387887522\t,\t0.233998134\t]\t,\n",
    "[\t0.676056338\t,\t0.398363943\t,\t0.353173722\t]\t,\n",
    "[\t0.253521127\t,\t0.284826299\t,\t0.140629858\t]\t,\n",
    "[\t0.450704225\t,\t0.186735022\t,\t0.263729105\t]\t,\n",
    "[\t0\t,\t0.182694768\t,\t0.33746428\t]\t,\n",
    "[\t0.485915493\t,\t0.255617002\t,\t0.287996565\t]\t,\n",
    "[\t0.781690141\t,\t0.23597043\t,\t0.509868372\t]\t,\n",
    "[\t0.802816901\t,\t0.164134134\t,\t0.509868372\t]\t,\n",
    "[\t0.302816901\t,\t0.178176635\t,\t0\t]\t,\n",
    "[\t0.471830986\t,\t0.163956101\t,\t0.476391418\t]\t,\n",
    "[\t0.415492958\t,\t0.133241484\t,\t0.449769763\t]\t,\n",
    "[\t0.647887324\t,\t0.226399017\t,\t0.46613068\t]\t,\n",
    "[\t0.612676056\t,\t0.255013861\t,\t0.588223101\t]\t,\n",
    "[\t1\t,\t0.23708614\t,\t0.636358252\t]\t,\n",
    "[\t0.478873239\t,\t0.231651119\t,\t0.573135522\t]\t,\n",
    "[\t0.302816901\t,\t0.233067608\t,\t0.45643258\t]\t,\n",
    "[\t0.38028169\t,\t0.221173719\t,\t0.762226269\t]\t,\n",
    "[\t0.591549296\t,\t0.22633168\t,\t0.553591258\t]\t,\n",
    "[\t0.802816901\t,\t0.218698642\t,\t0.711159478\t]\t,\n",
    "[\t0.471830986\t,\t0.232032203\t,\t0.315462177\t]\t,\n",
    "[\t0.267605634\t,\t0.231947948\t,\t0.60413983\t]\t,\n",
    "[\t0.408450704\t,\t0.221547817\t,\t0.837619746\t]\t,\n",
    "[\t0.323943662\t,\t0.287958581\t,\t0.747627297\t]\t,\n",
    "[\t0.457746479\t,\t0.28837327\t,\t0.84718459\t]\t,\n",
    "[\t0.816901408\t,\t0.297145757\t,\t0.859340529\t]\t,\n",
    "[\t0.753521127\t,\t0.243669818\t,\t0.789721494\t]\t,\n",
    "[\t0.436619718\t,\t0.307437314\t,\t0.743659219\t]\t,\n",
    "[\t0.457746479\t,\t0.358597855\t,\t0.681354477\t]\t,\n",
    "[\t0.387323944\t,\t0.372181217\t,\t0.896681917\t]\t,\n",
    "[\t0.464788732\t,\t0.450259481\t,\t0.735190038\t]\t,\n",
    "[\t0.732394366\t,\t0.443095634\t,\t0.987207391\t]\t,\n",
    "[\t0.514084507\t,\t0.558155976\t,\t0.505026725\t]\t,\n",
    "[\t0.281690141\t,\t0.602359827\t,\t1\t]\t,\n",
    "[\t0.190140845\t,\t0.696291723\t,\t0.937872933\t]\t,\n",
    "[\t0.514084507\t,\t0.790604671\t,\t0.803313641\t]\t,\n",
    "[\t0.507042254\t,\t0.644022227\t,\t0.944387687\t]\t,\n",
    "[\t0.753521127\t,\t0.583228643\t,\t0.787826293\t]\t,\n",
    "[\t0.542253521\t,\t0.481715009\t,\t0.704674336\t]\t,\n",
    "\n",
    "\n",
    ")\n",
    ", dtype=float)\n",
    "trainY = np.array(([\t0.263729105\t]\t,\n",
    "[\t0.334917603\t]\t,\n",
    "[\t0.529012867\t]\t,\n",
    "[\t0.467788981\t]\t,\n",
    "[\t0.588593257\t]\t,\n",
    "[\t0.286501133\t]\t,\n",
    "[\t0.473208072\t]\t,\n",
    "[\t0.452716208\t]\t,\n",
    "[\t0.383674618\t]\t,\n",
    "[\t0.233998134\t]\t,\n",
    "[\t0.353173722\t]\t,\n",
    "[\t0.140629858\t]\t,\n",
    "[\t0.263729105\t]\t,\n",
    "[\t0.33746428\t]\t,\n",
    "[\t0.287996565\t]\t,\n",
    "[\t0.509868372\t]\t,\n",
    "[\t0.509868372\t]\t,\n",
    "[\t0\t]\t,\n",
    "[\t0.476391418\t]\t,\n",
    "[\t0.449769763\t]\t,\n",
    "[\t0.46613068\t]\t,\n",
    "[\t0.588223101\t]\t,\n",
    "[\t0.636358252\t]\t,\n",
    "[\t0.573135522\t]\t,\n",
    "[\t0.45643258\t]\t,\n",
    "[\t0.762226269\t]\t,\n",
    "[\t0.553591258\t]\t,\n",
    "[\t0.711159478\t]\t,\n",
    "[\t0.315462177\t]\t,\n",
    "[\t0.60413983\t]\t,\n",
    "[\t0.837619746\t]\t,\n",
    "[\t0.747627297\t]\t,\n",
    "[\t0.84718459\t]\t,\n",
    "[\t0.859340529\t]\t,\n",
    "[\t0.789721494\t]\t,\n",
    "[\t0.743659219\t]\t,\n",
    "[\t0.681354477\t]\t,\n",
    "[\t0.896681917\t]\t,\n",
    "[\t0.735190038\t]\t,\n",
    "[\t0.987207391\t]\t,\n",
    "[\t0.505026725\t]\t,\n",
    "[\t1\t]\t,\n",
    "[\t0.937872933\t]\t,\n",
    "[\t0.803313641\t]\t,\n",
    "[\t0.944387687\t]\t,\n",
    "[\t0.787826293\t]\t,\n",
    "[\t0.704674336\t]\t,\n",
    "[\t0.651046062\t]\t,\n",
    "\n",
    ")\n",
    ", dtype=float)\n",
    "\n",
    "#Testing Data:\n",
    "testX = np.array(([\t0.26056338\t,\t0.442812107\t,\t0.651046062\t]\t,\n",
    "[\t0.394366197\t,\t0.496270585\t,\t0.447904174\t]\t,\n",
    "[\t0.626760563\t,\t0.475463393\t,\t0.679770207\t]\t,\n",
    "[\t0.795774648\t,\t0.551559791\t,\t0.53034543\t]\t,\n",
    "[\t0.704225352\t,\t0.500994351\t,\t0.783902634\t]\t,\n",
    "[\t0.535211268\t,\t0.445458587\t,\t0.334902797\t]\t,\n",
    "[\t0.401408451\t,\t0.505711667\t,\t0.87703401\t]\t,\n",
    "[\t0.126760563\t,\t0.465889036\t,\t0.70343061\t]\t,\n",
    "[\t0.330985915\t,\t0.46785659\t,\t0.676453605\t]\t,\n",
    "[\t0.415492958\t,\t0.453001423\t,\t0.799656495\t]\t,\n",
    "[\t0.556338028\t,\t0.437411724\t,\t0.653962896\t]\t,\n",
    "[\t0.591549296\t,\t0.350673696\t,\t0.731769792\t]\t,\n",
    "[\t0.514084507\t,\t0.364031312\t,\t0.607234339\t]\t,\n",
    "\n",
    ")\n",
    ", dtype=float)\n",
    "testY = np.array(([\t0.447904174\t]\t,\n",
    "[\t0.679770207\t]\t,\n",
    "[\t0.53034543\t]\t,\n",
    "[\t0.783902634\t]\t,\n",
    "[\t0.334902797\t]\t,\n",
    "[\t0.87703401\t]\t,\n",
    "[\t0.70343061\t]\t,\n",
    "[\t0.676453605\t]\t,\n",
    "[\t0.799656495\t]\t,\n",
    "[\t0.653962896\t]\t,\n",
    "[\t0.731769792\t]\t,\n",
    "[\t0.607234339\t]\t,\n",
    "[\t0.67\t]\t,\n",
    "\n",
    ")\n",
    ", dtype=float)\n",
    "\n",
    "\n",
    "dataprediksi = np.array(([\t0.387323944\t,\t0.795380412\t,\t0.67\t]\t,\n",
    "[\t0.373239437\t,\t1\t,\t0.67\t]\t,\n",
    "[\t0.366197183\t,\t0.707681705\t,\t0.389745184\t]\t,\n",
    "[\t0.443661972\t,\t0.491695324\t,\t0.136735812\t]\t,\n",
    "\n",
    "\n",
    "), dtype=float)"
   ]
  },
  {
   "cell_type": "code",
   "execution_count": 15,
   "metadata": {},
   "outputs": [
    {
     "data": {
      "text/plain": [
       "array([[0.26056338, 0.44281211, 0.65104606],\n",
       "       [0.3943662 , 0.49627058, 0.44790417],\n",
       "       [0.62676056, 0.47546339, 0.67977021],\n",
       "       [0.79577465, 0.55155979, 0.53034543],\n",
       "       [0.70422535, 0.50099435, 0.78390263],\n",
       "       [0.53521127, 0.44545859, 0.3349028 ],\n",
       "       [0.40140845, 0.50571167, 0.87703401],\n",
       "       [0.12676056, 0.46588904, 0.70343061],\n",
       "       [0.33098592, 0.46785659, 0.6764536 ],\n",
       "       [0.41549296, 0.45300142, 0.7996565 ],\n",
       "       [0.55633803, 0.43741172, 0.6539629 ],\n",
       "       [0.5915493 , 0.3506737 , 0.73176979],\n",
       "       [0.51408451, 0.36403131, 0.60723434]])"
      ]
     },
     "execution_count": 15,
     "metadata": {},
     "output_type": "execute_result"
    }
   ],
   "source": [
    "testX"
   ]
  },
  {
   "cell_type": "code",
   "execution_count": 16,
   "metadata": {},
   "outputs": [],
   "source": [
    "##Need to modify trainer class a bit to check testing error during training:\n",
    "class trainer(object):\n",
    "    def __init__(self, N):\n",
    "        #Make Local reference to network:\n",
    "        self.N = N\n",
    "        \n",
    "    def callbackF(self, params):\n",
    "        self.N.setParams(params)\n",
    "        self.J.append(self.N.costFunction(self.X, self.y))\n",
    "        self.testJ.append(self.N.costFunction(self.testX, self.testY))\n",
    "        \n",
    "    def costFunctionWrapper(self, params, X, y):\n",
    "        self.N.setParams(params)\n",
    "        cost = self.N.costFunction(X, y)\n",
    "        grad = self.N.computeGradients(X,y)\n",
    "        \n",
    "        return cost, grad\n",
    "        \n",
    "    def train(self, trainX, trainY, testX, testY):\n",
    "        #Make an internal variable for the callback function:\n",
    "        self.X = trainX\n",
    "        self.y = trainY\n",
    "        \n",
    "        self.testX = testX\n",
    "        self.testY = testY\n",
    "\n",
    "        #Make empty list to store training costs:\n",
    "        self.J = []\n",
    "        self.testJ = []\n",
    "        \n",
    "        params0 = self.N.getParams()\n",
    "\n",
    "        options = {'maxiter': 100, 'disp' : True}\n",
    "        _res = optimize.minimize(self.costFunctionWrapper, params0, jac=True, method='BFGS', \\\n",
    "                                 args=(trainX, trainY), options=options, callback=self.callbackF)\n",
    "\n",
    "        self.N.setParams(_res.x)\n",
    "        self.optimizationResults = _res"
   ]
  },
  {
   "cell_type": "code",
   "execution_count": 17,
   "metadata": {},
   "outputs": [
    {
     "name": "stdout",
     "output_type": "stream",
     "text": [
      "Warning: Maximum number of iterations has been exceeded.\n",
      "         Current function value: 0.610255\n",
      "         Iterations: 100\n",
      "         Function evaluations: 114\n",
      "         Gradient evaluations: 114\n"
     ]
    }
   ],
   "source": [
    "#Train network with new data:\n",
    "NN = Neural_Network()\n",
    "\n",
    "T = trainer(NN)\n",
    "T.train(trainX, trainY, testX, testY)"
   ]
  },
  {
   "cell_type": "code",
   "execution_count": 18,
   "metadata": {},
   "outputs": [
    {
     "data": {
      "image/png": "[encoded data removed]",
      "text/plain": [
       "<Figure size 432x288 with 1 Axes>"
      ]
     },
     "metadata": {
      "needs_background": "light"
     },
     "output_type": "display_data"
    }
   ],
   "source": [
    "#Plot cost during training:\n",
    "plot.plot(T.J)\n",
    "plot.plot(T.testJ)\n",
    "plot.grid(1)\n",
    "plot.xlabel('Iterations')\n",
    "plot.ylabel('Cost')\n",
    "plot.legend(['Training', 'Testing'])\n",
    "plot.show()"
   ]
  },
  {
   "cell_type": "code",
   "execution_count": 19,
   "metadata": {},
   "outputs": [
    {
     "data": {
      "text/plain": [
       "[array([1.10480761]),\n",
       " array([1.0560845]),\n",
       " array([0.98866354]),\n",
       " array([0.88291992]),\n",
       " array([0.8388821]),\n",
       " array([0.81696338]),\n",
       " array([0.80948262]),\n",
       " array([0.80019208]),\n",
       " array([0.78876506]),\n",
       " array([0.78325822]),\n",
       " array([0.78038485]),\n",
       " array([0.78008602]),\n",
       " array([0.77964131]),\n",
       " array([0.77888278]),\n",
       " array([0.77770693]),\n",
       " array([0.77586498]),\n",
       " array([0.77259888]),\n",
       " array([0.76727878]),\n",
       " array([0.75901874]),\n",
       " array([0.74574393]),\n",
       " array([0.73867255]),\n",
       " array([0.73486277]),\n",
       " array([0.73310988]),\n",
       " array([0.73068867]),\n",
       " array([0.7280622]),\n",
       " array([0.72531029]),\n",
       " array([0.72194965]),\n",
       " array([0.72025741]),\n",
       " array([0.71830648]),\n",
       " array([0.71473763]),\n",
       " array([0.69808905]),\n",
       " array([0.68754454]),\n",
       " array([0.67409583]),\n",
       " array([0.668042]),\n",
       " array([0.66227772]),\n",
       " array([0.65599785]),\n",
       " array([0.65330627]),\n",
       " array([0.65141159]),\n",
       " array([0.64815363]),\n",
       " array([0.6431997]),\n",
       " array([0.64005685]),\n",
       " array([0.63931768]),\n",
       " array([0.63877202]),\n",
       " array([0.63804897]),\n",
       " array([0.63692159]),\n",
       " array([0.63519413]),\n",
       " array([0.63294764]),\n",
       " array([0.63122596]),\n",
       " array([0.6301889]),\n",
       " array([0.62953203]),\n",
       " array([0.62882798]),\n",
       " array([0.62784867]),\n",
       " array([0.62681299]),\n",
       " array([0.62634197]),\n",
       " array([0.62567257]),\n",
       " array([0.6254014]),\n",
       " array([0.62527967]),\n",
       " array([0.62507413]),\n",
       " array([0.62472889]),\n",
       " array([0.62423105]),\n",
       " array([0.62395883]),\n",
       " array([0.62384629]),\n",
       " array([0.62377113]),\n",
       " array([0.62374515]),\n",
       " array([0.62370095]),\n",
       " array([0.62362721]),\n",
       " array([0.62350982]),\n",
       " array([0.62332282]),\n",
       " array([0.62300791]),\n",
       " array([0.62246658]),\n",
       " array([0.62159809]),\n",
       " array([0.62045749]),\n",
       " array([0.61944741]),\n",
       " array([0.61898635]),\n",
       " array([0.61870504]),\n",
       " array([0.61863276]),\n",
       " array([0.61860268]),\n",
       " array([0.61858453]),\n",
       " array([0.61855248]),\n",
       " array([0.61849492]),\n",
       " array([0.61839275]),\n",
       " array([0.61821691]),\n",
       " array([0.6179289]),\n",
       " array([0.61749929]),\n",
       " array([0.61688793]),\n",
       " array([0.61586012]),\n",
       " array([0.61437773]),\n",
       " array([0.61355593]),\n",
       " array([0.61303279]),\n",
       " array([0.61256027]),\n",
       " array([0.61243325]),\n",
       " array([0.6122335]),\n",
       " array([0.61192014]),\n",
       " array([0.61152345]),\n",
       " array([0.61122375]),\n",
       " array([0.61107991]),\n",
       " array([0.61093374]),\n",
       " array([0.61070636]),\n",
       " array([0.61040856]),\n",
       " array([0.61025456])]"
      ]
     },
     "execution_count": 19,
     "metadata": {},
     "output_type": "execute_result"
    }
   ],
   "source": [
    "T.J"
   ]
  },
  {
   "cell_type": "code",
   "execution_count": 20,
   "metadata": {},
   "outputs": [
    {
     "data": {
      "text/plain": [
       "[array([0.29294129]),\n",
       " array([0.26818694]),\n",
       " array([0.21097879]),\n",
       " array([0.18889129]),\n",
       " array([0.18302651]),\n",
       " array([0.19372429]),\n",
       " array([0.19571521]),\n",
       " array([0.19384174]),\n",
       " array([0.19703038]),\n",
       " array([0.20685511]),\n",
       " array([0.21752284]),\n",
       " array([0.22174579]),\n",
       " array([0.2232076]),\n",
       " array([0.22494546]),\n",
       " array([0.22704933]),\n",
       " array([0.22890846]),\n",
       " array([0.2310191]),\n",
       " array([0.23436184]),\n",
       " array([0.23668475]),\n",
       " array([0.23958471]),\n",
       " array([0.25152398]),\n",
       " array([0.25720092]),\n",
       " array([0.25591406]),\n",
       " array([0.25451199]),\n",
       " array([0.25843935]),\n",
       " array([0.26233162]),\n",
       " array([0.25859207]),\n",
       " array([0.25633978]),\n",
       " array([0.25468456]),\n",
       " array([0.25437065]),\n",
       " array([0.24898295]),\n",
       " array([0.26874184]),\n",
       " array([0.28692347]),\n",
       " array([0.28158446]),\n",
       " array([0.30499357]),\n",
       " array([0.29297922]),\n",
       " array([0.28652295]),\n",
       " array([0.28792737]),\n",
       " array([0.28996281]),\n",
       " array([0.29319183]),\n",
       " array([0.29736553]),\n",
       " array([0.30025827]),\n",
       " array([0.30148665]),\n",
       " array([0.30198924]),\n",
       " array([0.29993096]),\n",
       " array([0.29471193]),\n",
       " array([0.28593664]),\n",
       " array([0.28130767]),\n",
       " array([0.28129089]),\n",
       " array([0.27994864]),\n",
       " array([0.27981615]),\n",
       " array([0.27603639]),\n",
       " array([0.26966606]),\n",
       " array([0.27010201]),\n",
       " array([0.26948386]),\n",
       " array([0.27072643]),\n",
       " array([0.27010193]),\n",
       " array([0.27099704]),\n",
       " array([0.27225391]),\n",
       " array([0.2762944]),\n",
       " array([0.28092411]),\n",
       " array([0.28313777]),\n",
       " array([0.28353187]),\n",
       " array([0.28404381]),\n",
       " array([0.28413853]),\n",
       " array([0.28459777]),\n",
       " array([0.28540069]),\n",
       " array([0.28669192]),\n",
       " array([0.2884468]),\n",
       " array([0.29082948]),\n",
       " array([0.29393951]),\n",
       " array([0.29682017]),\n",
       " array([0.29753412]),\n",
       " array([0.29838628]),\n",
       " array([0.3005315]),\n",
       " array([0.30010189]),\n",
       " array([0.29972457]),\n",
       " array([0.29954784]),\n",
       " array([0.29957667]),\n",
       " array([0.29965258]),\n",
       " array([0.29985842]),\n",
       " array([0.30005724]),\n",
       " array([0.30007907]),\n",
       " array([0.2987788]),\n",
       " array([0.29546908]),\n",
       " array([0.29047119]),\n",
       " array([0.28260098]),\n",
       " array([0.27594468]),\n",
       " array([0.26793086]),\n",
       " array([0.26701742]),\n",
       " array([0.26523111]),\n",
       " array([0.2664702]),\n",
       " array([0.26548936]),\n",
       " array([0.25906297]),\n",
       " array([0.25687383]),\n",
       " array([0.2509905]),\n",
       " array([0.24471805]),\n",
       " array([0.24178915]),\n",
       " array([0.23549]),\n",
       " array([0.23078069])]"
      ]
     },
     "execution_count": 20,
     "metadata": {},
     "output_type": "execute_result"
    }
   ],
   "source": [
    "T.testJ"
   ]
  },
  {
   "cell_type": "code",
   "execution_count": 21,
   "metadata": {},
   "outputs": [
    {
     "data": {
      "text/plain": [
       "0.41101468340172026"
      ]
     },
     "execution_count": 21,
     "metadata": {},
     "output_type": "execute_result"
    }
   ],
   "source": [
    "from sklearn.metrics import mean_absolute_error\n",
    "mean_absolute_error(T.J, T.testJ)"
   ]
  },
  {
   "cell_type": "code",
   "execution_count": 22,
   "metadata": {},
   "outputs": [],
   "source": [
    "yHat = NN.forward(X)"
   ]
  },
  {
   "cell_type": "code",
   "execution_count": 23,
   "metadata": {},
   "outputs": [
    {
     "data": {
      "text/plain": [
       "array([[0.30759445],\n",
       "       [0.38398737],\n",
       "       [0.33227556],\n",
       "       [0.4483502 ],\n",
       "       [0.42618606],\n",
       "       [0.37518853],\n",
       "       [0.44950109],\n",
       "       [0.56983723],\n",
       "       [0.58695622],\n",
       "       [0.5656217 ],\n",
       "       [0.32743282],\n",
       "       [0.45611062],\n",
       "       [0.43135688],\n",
       "       [0.40574115],\n",
       "       [0.23665069],\n",
       "       [0.44882978],\n",
       "       [0.41438763],\n",
       "       [0.36353785],\n",
       "       [0.29444723],\n",
       "       [0.52679706],\n",
       "       [0.51796218],\n",
       "       [0.45429132],\n",
       "       [0.57379591],\n",
       "       [0.38293918],\n",
       "       [0.63022003],\n",
       "       [0.6158069 ],\n",
       "       [0.74465955],\n",
       "       [0.54749133],\n",
       "       [0.51690618],\n",
       "       [0.46013062],\n",
       "       [0.65745041],\n",
       "       [0.76743454],\n",
       "       [0.74030043],\n",
       "       [0.79234314],\n",
       "       [0.64143599],\n",
       "       [0.6132378 ],\n",
       "       [0.76606437],\n",
       "       [0.75190654],\n",
       "       [0.8101541 ],\n",
       "       [0.79299505],\n",
       "       [0.80428222],\n",
       "       [0.6806784 ],\n",
       "       [0.78058971],\n",
       "       [0.80663046],\n",
       "       [0.77998369],\n",
       "       [0.85750803],\n",
       "       [0.71580966],\n",
       "       [0.76579093],\n",
       "       [0.6488923 ],\n",
       "       [0.6588436 ],\n",
       "       [0.70803727],\n",
       "       [0.53053097],\n",
       "       [0.72825032],\n",
       "       [0.54000653],\n",
       "       [0.81139995],\n",
       "       [0.63464321],\n",
       "       [0.71707324],\n",
       "       [0.80670792],\n",
       "       [0.72193538],\n",
       "       [0.71884225],\n",
       "       [0.69315748]])"
      ]
     },
     "execution_count": 23,
     "metadata": {},
     "output_type": "execute_result"
    }
   ],
   "source": [
    "yHat"
   ]
  },
  {
   "cell_type": "code",
   "execution_count": 24,
   "metadata": {},
   "outputs": [
    {
     "data": {
      "text/plain": [
       "array([[0.26372911],\n",
       "       [0.3349176 ],\n",
       "       [0.52901287],\n",
       "       [0.46778898],\n",
       "       [0.58859326],\n",
       "       [0.28650113],\n",
       "       [0.47320807],\n",
       "       [0.45271621],\n",
       "       [0.38367462],\n",
       "       [0.23399813],\n",
       "       [0.35317372],\n",
       "       [0.14062986],\n",
       "       [0.26372911],\n",
       "       [0.33746428],\n",
       "       [0.28799656],\n",
       "       [0.50986837],\n",
       "       [0.50986837],\n",
       "       [0.        ],\n",
       "       [0.47639142],\n",
       "       [0.44976976],\n",
       "       [0.46613068],\n",
       "       [0.5882231 ],\n",
       "       [0.63635825],\n",
       "       [0.57313552],\n",
       "       [0.45643258],\n",
       "       [0.76222627],\n",
       "       [0.55359126],\n",
       "       [0.71115948],\n",
       "       [0.31546218],\n",
       "       [0.60413983],\n",
       "       [0.83761975],\n",
       "       [0.7476273 ],\n",
       "       [0.84718459],\n",
       "       [0.85934053],\n",
       "       [0.78972149],\n",
       "       [0.74365922],\n",
       "       [0.68135448],\n",
       "       [0.89668192],\n",
       "       [0.73519004],\n",
       "       [0.98720739],\n",
       "       [0.50502673],\n",
       "       [1.        ],\n",
       "       [0.93787293],\n",
       "       [0.80331364],\n",
       "       [0.94438769],\n",
       "       [0.78782629],\n",
       "       [0.70467434],\n",
       "       [0.65104606],\n",
       "       [0.44790417],\n",
       "       [0.67977021],\n",
       "       [0.53034543],\n",
       "       [0.78390263],\n",
       "       [0.3349028 ],\n",
       "       [0.87703401],\n",
       "       [0.70343061],\n",
       "       [0.6764536 ],\n",
       "       [0.7996565 ],\n",
       "       [0.6539629 ],\n",
       "       [0.73176979],\n",
       "       [0.60723434],\n",
       "       [0.67      ]])"
      ]
     },
     "execution_count": 24,
     "metadata": {},
     "output_type": "execute_result"
    }
   ],
   "source": [
    "y"
   ]
  },
  {
   "cell_type": "code",
   "execution_count": 25,
   "metadata": {},
   "outputs": [
    {
     "data": {
      "text/plain": [
       "0.02757492622890604"
      ]
     },
     "execution_count": 25,
     "metadata": {},
     "output_type": "execute_result"
    }
   ],
   "source": [
    "from sklearn.metrics import mean_squared_error \n",
    "mean_squared_error(y,yHat) "
   ]
  },
  {
   "cell_type": "code",
   "execution_count": 26,
   "metadata": {},
   "outputs": [
    {
     "data": {
      "image/png": "[encoded data removed]",
      "text/plain": [
       "<Figure size 432x288 with 1 Axes>"
      ]
     },
     "metadata": {
      "needs_background": "light"
     },
     "output_type": "display_data"
    }
   ],
   "source": [
    "#Plot cost during training:\n",
    "plot.plot(y)\n",
    "plot.plot(yHat)\n",
    "plot.grid(1)\n",
    "plot.legend(['y', 'yHat'])\n",
    "plot.show()"
   ]
  },
  {
   "cell_type": "code",
   "execution_count": 27,
   "metadata": {},
   "outputs": [],
   "source": [
    "#Regularization Parameter:\n",
    "Lambda = 0.0001"
   ]
  },
  {
   "cell_type": "code",
   "execution_count": 28,
   "metadata": {},
   "outputs": [],
   "source": [
    "#Need to make changes to costFunction and costFunctionPrim:\n",
    "def costFunction(self, X, y):\n",
    "    #Compute cost for given X,y, use weights already stored in class.\n",
    "    self.yHat = self.forward(X)\n",
    "    #We don't want cost to increase with the number of examples, so normalize by dividing the error term by number of examples(X.shape[0])\n",
    "    J = 0.5*sum((y-self.yHat)**2)/X.shape[0] + (self.Lambda/2)*(sum(self.W1**2)+sum(self.W2**2))\n",
    "    return J\n",
    "\n",
    "def costFunctionPrime(self, X, y):\n",
    "    #Compute derivative with respect to W and W2 for a given X and y:\n",
    "    self.yHat = self.forward(X)\n",
    "\n",
    "    delta3 = np.multiply(-(y-self.yHat), self.tanhPrime(self.z3))\n",
    "    #Add gradient of regularization term:\n",
    "    dJdW2 = np.dot(self.a2.T, delta3)/X.shape[0] + self.Lambda*self.W2\n",
    "\n",
    "    delta2 = np.dot(delta3, self.W2.T)*self.tanhPrime(self.z2)\n",
    "    #Add gradient of regularization term:\n",
    "    dJdW1 = np.dot(X.T, delta2)/X.shape[0] + self.Lambda*self.W1\n",
    "\n",
    "    return dJdW1, dJdW2"
   ]
  },
  {
   "cell_type": "code",
   "execution_count": 29,
   "metadata": {},
   "outputs": [],
   "source": [
    "#New complete class, with changes:\n",
    "class Neural_Network(object):\n",
    "    def __init__(self, Lambda=0.0001):        \n",
    "        #Define Hyperparameters\n",
    "        self.inputLayerSize = 3\n",
    "        self.outputLayerSize = 1\n",
    "        self.hiddenLayerSize = 3\n",
    "        \n",
    "        #Weights (parameters)\n",
    "        self.W1 = np.random.randn(self.inputLayerSize,self.hiddenLayerSize)\n",
    "        self.W2 = np.random.randn(self.hiddenLayerSize,self.outputLayerSize)\n",
    "        \n",
    "        #Regularization Parameter:\n",
    "        self.Lambda = Lambda\n",
    "        \n",
    "    def forward(self, X):\n",
    "        #Propogate inputs though network\n",
    "        self.z2 = np.dot(X, self.W1)\n",
    "        self.a2 = self.tanh(self.z2)\n",
    "        self.z3 = np.dot(self.a2, self.W2)\n",
    "        yHat = self.tanh(self.z3) \n",
    "        return yHat\n",
    "        \n",
    "    def tanh(self, z):\n",
    "        # activation function\n",
    "        return (np.exp(z)-np.exp(-z))/(np.exp(z)+np.exp(-z))\n",
    "    \n",
    "    def tanhPrime(self,z): \n",
    "        #derivative of tanh\n",
    "        return 1-((np.exp(z)-np.exp(-z))/(np.exp(z)+np.exp(-z)))**2\n",
    "    \n",
    "    def costFunction(self, X, y):\n",
    "        #Compute cost for given X,y, use weights already stored in class.\n",
    "        self.yHat = self.forward(X)\n",
    "        J = 0.5*sum((y-self.yHat)**2)/X.shape[0] + (self.Lambda/2)*(np.sum(self.W1**2)+np.sum(self.W2**2))\n",
    "        return J\n",
    "        \n",
    "    def costFunctionPrime(self, X, y):\n",
    "        #Compute derivative with respect to W and W2 for a given X and y:\n",
    "        self.yHat = self.forward(X)\n",
    "        \n",
    "        delta3 = np.multiply(-(y-self.yHat), self.tanhPrime(self.z3))\n",
    "        #Add gradient of regularization term:\n",
    "        dJdW2 = np.dot(self.a2.T, delta3)/X.shape[0] + self.Lambda*self.W2\n",
    "        \n",
    "        delta2 = np.dot(delta3, self.W2.T)*self.tanhPrime(self.z2)\n",
    "        #Add gradient of regularization term:\n",
    "        dJdW1 = np.dot(X.T, delta2)/X.shape[0] + self.Lambda*self.W1\n",
    "        \n",
    "        return dJdW1, dJdW2\n",
    "    \n",
    "    def predict(self):\n",
    "        prediksi = self.forward(dataprediksi)\n",
    "        return prediksi\n",
    "    \n",
    "    #Helper functions for interacting with other methods/classes\n",
    "    def getParams(self):\n",
    "        #Get W1 and W2 Rolled into vector:\n",
    "        params = np.concatenate((self.W1.ravel(), self.W2.ravel()))\n",
    "        return params\n",
    "    \n",
    "    def setParams(self, params):\n",
    "        #Set W1 and W2 using single parameter vector:\n",
    "        W1_start = 0\n",
    "        W1_end = self.hiddenLayerSize*self.inputLayerSize\n",
    "        self.W1 = np.reshape(params[W1_start:W1_end], \\\n",
    "                             (self.inputLayerSize, self.hiddenLayerSize))\n",
    "        W2_end = W1_end + self.hiddenLayerSize*self.outputLayerSize\n",
    "        self.W2 = np.reshape(params[W1_end:W2_end], \\\n",
    "                             (self.hiddenLayerSize, self.outputLayerSize))\n",
    "        \n",
    "    def computeGradients(self, X, y):\n",
    "        dJdW1, dJdW2 = self.costFunctionPrime(X, y)\n",
    "        return np.concatenate((dJdW1.ravel(), dJdW2.ravel()))"
   ]
  },
  {
   "cell_type": "code",
   "execution_count": 30,
   "metadata": {},
   "outputs": [],
   "source": [
    "def computeNumericalGradient(N, X, y):\n",
    "    paramsInitial = N.getParams()\n",
    "    numgrad = np.zeros(paramsInitial.shape)\n",
    "    perturb = np.zeros(paramsInitial.shape)\n",
    "    e = 1e-4\n",
    "\n",
    "    for p in range(len(paramsInitial)):\n",
    "        #Set perturbation vector\n",
    "        perturb[p] = e\n",
    "        N.setParams(paramsInitial + perturb)\n",
    "        loss2 = N.costFunction(X, y)\n",
    "            \n",
    "        N.setParams(paramsInitial - perturb)\n",
    "        loss1 = N.costFunction(X, y)\n",
    "\n",
    "        #Compute Numerical Gradient\n",
    "        numgrad[p] = (loss2 - loss1) / (2*e)\n",
    "\n",
    "            #Return the value we changed to zero:\n",
    "        perturb[p] = 0\n",
    "            \n",
    "    #Return Params to original value:\n",
    "    N.setParams(paramsInitial)\n",
    "\n",
    "    return numgrad "
   ]
  },
  {
   "cell_type": "code",
   "execution_count": 31,
   "metadata": {},
   "outputs": [],
   "source": [
    "NN = Neural_Network(Lambda=0.0001)"
   ]
  },
  {
   "cell_type": "code",
   "execution_count": 32,
   "metadata": {},
   "outputs": [],
   "source": [
    "#Make sure our gradients our correct after making changes:\n",
    "numgrad = computeNumericalGradient(NN, X, y)\n",
    "grad = NN.computeGradients(X,y)"
   ]
  },
  {
   "cell_type": "code",
   "execution_count": 33,
   "metadata": {},
   "outputs": [
    {
     "data": {
      "text/plain": [
       "1.002204231477475e-09"
      ]
     },
     "execution_count": 33,
     "metadata": {},
     "output_type": "execute_result"
    }
   ],
   "source": [
    "#Should be less than 1e-8:\n",
    "np.linalg.norm(grad-numgrad)/np.linalg.norm(grad+numgrad)"
   ]
  },
  {
   "cell_type": "code",
   "execution_count": 34,
   "metadata": {},
   "outputs": [],
   "source": [
    "T = trainer(NN)"
   ]
  },
  {
   "cell_type": "code",
   "execution_count": 35,
   "metadata": {},
   "outputs": [
    {
     "name": "stdout",
     "output_type": "stream",
     "text": [
      "Warning: Maximum number of iterations has been exceeded.\n",
      "         Current function value: 0.014388\n",
      "         Iterations: 100\n",
      "         Function evaluations: 114\n",
      "         Gradient evaluations: 114\n"
     ]
    }
   ],
   "source": [
    "T.train(X,y,testX,testY)"
   ]
  },
  {
   "cell_type": "code",
   "execution_count": 36,
   "metadata": {},
   "outputs": [
    {
     "data": {
      "image/png": "[encoded data removed]",
      "text/plain": [
       "<Figure size 432x288 with 1 Axes>"
      ]
     },
     "metadata": {
      "needs_background": "light"
     },
     "output_type": "display_data"
    }
   ],
   "source": [
    "plot.plot(T.J)\n",
    "plot.plot(T.testJ)\n",
    "plot.grid(1)\n",
    "plot.xlabel('Iterations')\n",
    "plot.ylabel('Cost')\n",
    "plot.legend(['Training', 'Testing'])\n",
    "plot.show()"
   ]
  },
  {
   "cell_type": "code",
   "execution_count": 37,
   "metadata": {},
   "outputs": [
    {
     "data": {
      "text/plain": [
       "[array([0.03060285]),\n",
       " array([0.02878808]),\n",
       " array([0.02809006]),\n",
       " array([0.02699513]),\n",
       " array([0.02516688]),\n",
       " array([0.02269812]),\n",
       " array([0.02255579]),\n",
       " array([0.02248359]),\n",
       " array([0.02240606]),\n",
       " array([0.0223435]),\n",
       " array([0.02231444]),\n",
       " array([0.02230682]),\n",
       " array([0.02230227]),\n",
       " array([0.02229414]),\n",
       " array([0.02227919]),\n",
       " array([0.02225127]),\n",
       " array([0.0221983]),\n",
       " array([0.02198775]),\n",
       " array([0.02192121]),\n",
       " array([0.02180096]),\n",
       " array([0.02160136]),\n",
       " array([0.02135928]),\n",
       " array([0.02103262]),\n",
       " array([0.02053958]),\n",
       " array([0.02032184]),\n",
       " array([0.01805777]),\n",
       " array([0.0179907]),\n",
       " array([0.01795822]),\n",
       " array([0.01792135]),\n",
       " array([0.01785702]),\n",
       " array([0.01774537]),\n",
       " array([0.01755625]),\n",
       " array([0.01727507]),\n",
       " array([0.01712023]),\n",
       " array([0.0170379]),\n",
       " array([0.0169377]),\n",
       " array([0.01691264]),\n",
       " array([0.01689387]),\n",
       " array([0.01687557]),\n",
       " array([0.01684378]),\n",
       " array([0.01678636]),\n",
       " array([0.01668579]),\n",
       " array([0.01655307]),\n",
       " array([0.01649262]),\n",
       " array([0.01644158]),\n",
       " array([0.01643884]),\n",
       " array([0.01643495]),\n",
       " array([0.01643248]),\n",
       " array([0.01642975]),\n",
       " array([0.01642613]),\n",
       " array([0.01642262]),\n",
       " array([0.01641666]),\n",
       " array([0.01640611]),\n",
       " array([0.01638738]),\n",
       " array([0.01635543]),\n",
       " array([0.0163076]),\n",
       " array([0.01624943]),\n",
       " array([0.01615388]),\n",
       " array([0.01599854]),\n",
       " array([0.01585648]),\n",
       " array([0.0157927]),\n",
       " array([0.01570364]),\n",
       " array([0.01564481]),\n",
       " array([0.01558291]),\n",
       " array([0.01549418]),\n",
       " array([0.01544245]),\n",
       " array([0.01536579]),\n",
       " array([0.01529975]),\n",
       " array([0.01528351]),\n",
       " array([0.01526146]),\n",
       " array([0.01525056]),\n",
       " array([0.01523536]),\n",
       " array([0.01521087]),\n",
       " array([0.01517243]),\n",
       " array([0.01512046]),\n",
       " array([0.01504701]),\n",
       " array([0.01491596]),\n",
       " array([0.0147455]),\n",
       " array([0.01472831]),\n",
       " array([0.01471347]),\n",
       " array([0.01470815]),\n",
       " array([0.01470319]),\n",
       " array([0.01469998]),\n",
       " array([0.01469469]),\n",
       " array([0.01468616]),\n",
       " array([0.01467463]),\n",
       " array([0.01466779]),\n",
       " array([0.01466499]),\n",
       " array([0.01466373]),\n",
       " array([0.01466218]),\n",
       " array([0.0146593]),\n",
       " array([0.01465408]),\n",
       " array([0.01464503]),\n",
       " array([0.0146304]),\n",
       " array([0.01460813]),\n",
       " array([0.01457206]),\n",
       " array([0.01451151]),\n",
       " array([0.01442604]),\n",
       " array([0.01441153]),\n",
       " array([0.01438807])]"
      ]
     },
     "execution_count": 37,
     "metadata": {},
     "output_type": "execute_result"
    }
   ],
   "source": [
    "T.J"
   ]
  },
  {
   "cell_type": "code",
   "execution_count": 38,
   "metadata": {},
   "outputs": [
    {
     "data": {
      "text/plain": [
       "[array([0.02678394]),\n",
       " array([0.0215597]),\n",
       " array([0.01955543]),\n",
       " array([0.01742468]),\n",
       " array([0.01532126]),\n",
       " array([0.01393304]),\n",
       " array([0.0142096]),\n",
       " array([0.01383609]),\n",
       " array([0.01333554]),\n",
       " array([0.01288513]),\n",
       " array([0.01267564]),\n",
       " array([0.01259232]),\n",
       " array([0.01253777]),\n",
       " array([0.01246817]),\n",
       " array([0.01237793]),\n",
       " array([0.01225589]),\n",
       " array([0.01209048]),\n",
       " array([0.01186285]),\n",
       " array([0.01184152]),\n",
       " array([0.01164628]),\n",
       " array([0.01132742]),\n",
       " array([0.01114751]),\n",
       " array([0.01112283]),\n",
       " array([0.01118241]),\n",
       " array([0.0110813]),\n",
       " array([0.01208391]),\n",
       " array([0.01242552]),\n",
       " array([0.01266376]),\n",
       " array([0.01276859]),\n",
       " array([0.01290632]),\n",
       " array([0.01319545]),\n",
       " array([0.01382569]),\n",
       " array([0.01517234]),\n",
       " array([0.01625063]),\n",
       " array([0.01616658]),\n",
       " array([0.01566927]),\n",
       " array([0.01495248]),\n",
       " array([0.01522703]),\n",
       " array([0.01545575]),\n",
       " array([0.01572927]),\n",
       " array([0.01602657]),\n",
       " array([0.01634073]),\n",
       " array([0.01639245]),\n",
       " array([0.01594834]),\n",
       " array([0.01548334]),\n",
       " array([0.01529488]),\n",
       " array([0.01529755]),\n",
       " array([0.01532606]),\n",
       " array([0.01537091]),\n",
       " array([0.01542719]),\n",
       " array([0.01544864]),\n",
       " array([0.01544613]),\n",
       " array([0.01542261]),\n",
       " array([0.01537476]),\n",
       " array([0.01529016]),\n",
       " array([0.01514673]),\n",
       " array([0.01499815]),\n",
       " array([0.01492461]),\n",
       " array([0.01493628]),\n",
       " array([0.01440593]),\n",
       " array([0.01455417]),\n",
       " array([0.01482035]),\n",
       " array([0.01474639]),\n",
       " array([0.01495651]),\n",
       " array([0.01523624]),\n",
       " array([0.01507914]),\n",
       " array([0.01489227]),\n",
       " array([0.01474023]),\n",
       " array([0.01463426]),\n",
       " array([0.01457267]),\n",
       " array([0.0144811]),\n",
       " array([0.01438048]),\n",
       " array([0.01422849]),\n",
       " array([0.01411012]),\n",
       " array([0.01386211]),\n",
       " array([0.01385669]),\n",
       " array([0.0138653]),\n",
       " array([0.01359389]),\n",
       " array([0.01365609]),\n",
       " array([0.01372505]),\n",
       " array([0.01372428]),\n",
       " array([0.01381491]),\n",
       " array([0.01376923]),\n",
       " array([0.01376233]),\n",
       " array([0.01377935]),\n",
       " array([0.01389108]),\n",
       " array([0.01406541]),\n",
       " array([0.01419158]),\n",
       " array([0.0142594]),\n",
       " array([0.01427287]),\n",
       " array([0.01427783]),\n",
       " array([0.01429446]),\n",
       " array([0.01429657]),\n",
       " array([0.01430683]),\n",
       " array([0.01426428]),\n",
       " array([0.01426539]),\n",
       " array([0.01430278]),\n",
       " array([0.01453022]),\n",
       " array([0.0144314]),\n",
       " array([0.01446319])]"
      ]
     },
     "execution_count": 38,
     "metadata": {},
     "output_type": "execute_result"
    }
   ],
   "source": [
    "T.testJ"
   ]
  },
  {
   "cell_type": "code",
   "execution_count": 39,
   "metadata": {},
   "outputs": [
    {
     "data": {
      "text/plain": [
       "0.003242370719191526"
      ]
     },
     "execution_count": 39,
     "metadata": {},
     "output_type": "execute_result"
    }
   ],
   "source": [
    "from sklearn.metrics import mean_absolute_error\n",
    "mean_absolute_error(T.J, T.testJ)"
   ]
  },
  {
   "cell_type": "code",
   "execution_count": 40,
   "metadata": {},
   "outputs": [],
   "source": [
    "yHat=NN.forward(X)"
   ]
  },
  {
   "cell_type": "code",
   "execution_count": 41,
   "metadata": {},
   "outputs": [
    {
     "data": {
      "text/plain": [
       "array([[0.41619797],\n",
       "       [0.4243421 ],\n",
       "       [0.41292461],\n",
       "       [0.48291125],\n",
       "       [0.47147293],\n",
       "       [0.38179286],\n",
       "       [0.50751221],\n",
       "       [0.65563729],\n",
       "       [0.58453243],\n",
       "       [0.56063747],\n",
       "       [0.31428244],\n",
       "       [0.51874569],\n",
       "       [0.39963653],\n",
       "       [0.44177437],\n",
       "       [0.29343779],\n",
       "       [0.4812215 ],\n",
       "       [0.45290639],\n",
       "       [0.40922074],\n",
       "       [0.28858795],\n",
       "       [0.52197601],\n",
       "       [0.50370127],\n",
       "       [0.49345327],\n",
       "       [0.56787415],\n",
       "       [0.38015461],\n",
       "       [0.59010285],\n",
       "       [0.54509471],\n",
       "       [0.66483371],\n",
       "       [0.54923306],\n",
       "       [0.5078368 ],\n",
       "       [0.48429253],\n",
       "       [0.59858884],\n",
       "       [0.68844012],\n",
       "       [0.67866652],\n",
       "       [0.70874178],\n",
       "       [0.58833466],\n",
       "       [0.57329318],\n",
       "       [0.68551154],\n",
       "       [0.68116241],\n",
       "       [0.74926909],\n",
       "       [0.72622624],\n",
       "       [0.72629993],\n",
       "       [0.68745073],\n",
       "       [0.79461705],\n",
       "       [0.75597088],\n",
       "       [0.81920178],\n",
       "       [0.81745208],\n",
       "       [0.7127356 ],\n",
       "       [0.71718281],\n",
       "       [0.67697715],\n",
       "       [0.65210257],\n",
       "       [0.68642615],\n",
       "       [0.59923051],\n",
       "       [0.70049556],\n",
       "       [0.5786514 ],\n",
       "       [0.77601659],\n",
       "       [0.63252233],\n",
       "       [0.70859884],\n",
       "       [0.74578412],\n",
       "       [0.68361294],\n",
       "       [0.66628344],\n",
       "       [0.6498053 ]])"
      ]
     },
     "execution_count": 41,
     "metadata": {},
     "output_type": "execute_result"
    }
   ],
   "source": [
    "yHat"
   ]
  },
  {
   "cell_type": "code",
   "execution_count": 42,
   "metadata": {},
   "outputs": [
    {
     "data": {
      "text/plain": [
       "array([[0.26372911],\n",
       "       [0.3349176 ],\n",
       "       [0.52901287],\n",
       "       [0.46778898],\n",
       "       [0.58859326],\n",
       "       [0.28650113],\n",
       "       [0.47320807],\n",
       "       [0.45271621],\n",
       "       [0.38367462],\n",
       "       [0.23399813],\n",
       "       [0.35317372],\n",
       "       [0.14062986],\n",
       "       [0.26372911],\n",
       "       [0.33746428],\n",
       "       [0.28799656],\n",
       "       [0.50986837],\n",
       "       [0.50986837],\n",
       "       [0.        ],\n",
       "       [0.47639142],\n",
       "       [0.44976976],\n",
       "       [0.46613068],\n",
       "       [0.5882231 ],\n",
       "       [0.63635825],\n",
       "       [0.57313552],\n",
       "       [0.45643258],\n",
       "       [0.76222627],\n",
       "       [0.55359126],\n",
       "       [0.71115948],\n",
       "       [0.31546218],\n",
       "       [0.60413983],\n",
       "       [0.83761975],\n",
       "       [0.7476273 ],\n",
       "       [0.84718459],\n",
       "       [0.85934053],\n",
       "       [0.78972149],\n",
       "       [0.74365922],\n",
       "       [0.68135448],\n",
       "       [0.89668192],\n",
       "       [0.73519004],\n",
       "       [0.98720739],\n",
       "       [0.50502673],\n",
       "       [1.        ],\n",
       "       [0.93787293],\n",
       "       [0.80331364],\n",
       "       [0.94438769],\n",
       "       [0.78782629],\n",
       "       [0.70467434],\n",
       "       [0.65104606],\n",
       "       [0.44790417],\n",
       "       [0.67977021],\n",
       "       [0.53034543],\n",
       "       [0.78390263],\n",
       "       [0.3349028 ],\n",
       "       [0.87703401],\n",
       "       [0.70343061],\n",
       "       [0.6764536 ],\n",
       "       [0.7996565 ],\n",
       "       [0.6539629 ],\n",
       "       [0.73176979],\n",
       "       [0.60723434],\n",
       "       [0.67      ]])"
      ]
     },
     "execution_count": 42,
     "metadata": {},
     "output_type": "execute_result"
    }
   ],
   "source": [
    "y"
   ]
  },
  {
   "cell_type": "code",
   "execution_count": 43,
   "metadata": {},
   "outputs": [
    {
     "data": {
      "text/plain": [
       "0.027890535885062687"
      ]
     },
     "execution_count": 43,
     "metadata": {},
     "output_type": "execute_result"
    }
   ],
   "source": [
    "from sklearn.metrics import mean_squared_error \n",
    "mean_squared_error(y,yHat) "
   ]
  },
  {
   "cell_type": "code",
   "execution_count": 44,
   "metadata": {},
   "outputs": [
    {
     "data": {
      "image/png": "[encoded data removed]",
      "text/plain": [
       "<Figure size 432x288 with 1 Axes>"
      ]
     },
     "metadata": {
      "needs_background": "light"
     },
     "output_type": "display_data"
    }
   ],
   "source": [
    "#Plot cost during training:\n",
    "plot.plot(y)\n",
    "plot.plot(yHat)\n",
    "plot.grid(1)\n",
    "plot.legend(['y', 'yHat'])\n",
    "plot.show()"
   ]
  },
  {
   "cell_type": "code",
   "execution_count": 45,
   "metadata": {},
   "outputs": [],
   "source": [
    "prediksi=NN.forward(dataprediksi)"
   ]
  },
  {
   "cell_type": "code",
   "execution_count": 46,
   "metadata": {},
   "outputs": [
    {
     "data": {
      "text/plain": [
       "array([[0.78563584],\n",
       "       [0.80995472],\n",
       "       [0.69375172],\n",
       "       [0.52803462]])"
      ]
     },
     "execution_count": 46,
     "metadata": {},
     "output_type": "execute_result"
    }
   ],
   "source": [
    "prediksi"
   ]
  },
  {
   "cell_type": "code",
   "execution_count": 47,
   "metadata": {},
   "outputs": [],
   "source": [
    "from sklearn.metrics import mean_squared_error "
   ]
  },
  {
   "cell_type": "code",
   "execution_count": 48,
   "metadata": {},
   "outputs": [
    {
     "data": {
      "text/plain": [
       "0.13153880309762084"
      ]
     },
     "execution_count": 48,
     "metadata": {},
     "output_type": "execute_result"
    }
   ],
   "source": [
    "Y_true= ([\t0.67\t]\t,\n",
    "[\t0.389745184\t]\t,\n",
    "[\t0.136735812\t]\t,\n",
    "[\t0.366973156\t]\t,\n",
    "\n",
    ")\n",
    "\n",
    "\n",
    "Y_pred=prediksi\n",
    "mean_squared_error(Y_true,Y_pred) "
   ]
  },
  {
   "cell_type": "code",
   "execution_count": 49,
   "metadata": {},
   "outputs": [
    {
     "data": {
      "text/plain": [
       "array([[0.38732394, 0.79538041, 0.67      ],\n",
       "       [0.37323944, 1.        , 0.67      ],\n",
       "       [0.36619718, 0.70768171, 0.38974518],\n",
       "       [0.44366197, 0.49169532, 0.13673581]])"
      ]
     },
     "execution_count": 49,
     "metadata": {},
     "output_type": "execute_result"
    }
   ],
   "source": [
    "dataprediksi"
   ]
  },
  {
   "cell_type": "code",
   "execution_count": 50,
   "metadata": {},
   "outputs": [],
   "source": [
    "z=np.array([0.6294\t,\t0.4578])"
   ]
  },
  {
   "cell_type": "code",
   "execution_count": 51,
   "metadata": {},
   "outputs": [],
   "source": [
    "y=np.array([\t0.366973156250463\t])"
   ]
  },
  {
   "cell_type": "code",
   "execution_count": 52,
   "metadata": {},
   "outputs": [],
   "source": [
    "a=np.concatenate((z,y))"
   ]
  },
  {
   "cell_type": "code",
   "execution_count": 53,
   "metadata": {},
   "outputs": [
    {
     "data": {
      "text/plain": [
       "array([0.56957871])"
      ]
     },
     "execution_count": 53,
     "metadata": {},
     "output_type": "execute_result"
    }
   ],
   "source": [
    "#prediksi 1\n",
    "prediksi=NN.forward(a)\n",
    "prediksi"
   ]
  },
  {
   "cell_type": "code",
   "execution_count": 54,
   "metadata": {},
   "outputs": [
    {
     "data": {
      "text/plain": [
       "array([0.62267546])"
      ]
     },
     "execution_count": 54,
     "metadata": {},
     "output_type": "execute_result"
    }
   ],
   "source": [
    "#prediksi 2\n",
    "c=prediksi\n",
    "z1=np.array([0.6795\t,\t0.4539])\n",
    "b=y[1:]\n",
    "d=np.concatenate((z1,b,c))\n",
    "prediksi=NN.forward(d)\n",
    "prediksi"
   ]
  },
  {
   "cell_type": "code",
   "execution_count": 55,
   "metadata": {},
   "outputs": [
    {
     "data": {
      "text/plain": [
       "array([0.67170354])"
      ]
     },
     "execution_count": 55,
     "metadata": {},
     "output_type": "execute_result"
    }
   ],
   "source": [
    "#prediksi 3\n",
    "c=prediksi\n",
    "z2=np.array([0.5888\t,\t0.4545])\n",
    "b=y[1:]\n",
    "d=np.concatenate((z2,b,c))\n",
    "prediksi=NN.forward(d)\n",
    "prediksi"
   ]
  },
  {
   "cell_type": "code",
   "execution_count": 56,
   "metadata": {},
   "outputs": [
    {
     "data": {
      "text/plain": [
       "array([0.70153092])"
      ]
     },
     "execution_count": 56,
     "metadata": {},
     "output_type": "execute_result"
    }
   ],
   "source": [
    "#prediksi 4\n",
    "c=prediksi\n",
    "z3=np.array([0.527\t,\t0.4555])\n",
    "b=y[1:]\n",
    "d=np.concatenate((z3,b,c))\n",
    "prediksi=NN.forward(d)\n",
    "prediksi"
   ]
  },
  {
   "cell_type": "code",
   "execution_count": 57,
   "metadata": {},
   "outputs": [
    {
     "data": {
      "text/plain": [
       "array([0.71775662])"
      ]
     },
     "execution_count": 57,
     "metadata": {},
     "output_type": "execute_result"
    }
   ],
   "source": [
    "#prediksi 5\n",
    "c=prediksi\n",
    "z4=np.array([0.4745\t,\t0.4564])\n",
    "b=y[1:]\n",
    "d=np.concatenate((z4,b,c))\n",
    "prediksi=NN.forward(d)\n",
    "prediksi"
   ]
  },
  {
   "cell_type": "code",
   "execution_count": 58,
   "metadata": {},
   "outputs": [
    {
     "data": {
      "text/plain": [
       "array([0.7235883])"
      ]
     },
     "execution_count": 58,
     "metadata": {},
     "output_type": "execute_result"
    }
   ],
   "source": [
    "#prediksi 6\n",
    "c=prediksi\n",
    "z5=np.array([0.4621\t,\t0.4571])\n",
    "b=y[1:]\n",
    "d=np.concatenate((z5,b,c))\n",
    "prediksi=NN.forward(d)\n",
    "prediksi"
   ]
  }
 ],
 "metadata": {
  "kernelspec": {
   "display_name": "Python 3",
   "language": "python",
   "name": "python3"
  },
  "language_info": {
   "codemirror_mode": {
    "name": "ipython",
    "version": 3
   },
   "file_extension": ".py",
   "mimetype": "text/x-python",
   "name": "python",
   "nbconvert_exporter": "python",
   "pygments_lexer": "ipython3",
   "version": "3.7.3"
  }
 },
 "nbformat": 4,
 "nbformat_minor": 2
}
