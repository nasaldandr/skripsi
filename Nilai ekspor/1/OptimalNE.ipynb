{
 "cells": [
  {
   "cell_type": "code",
   "execution_count": 6,
   "metadata": {},
   "outputs": [],
   "source": [
    "#Regularization Parameter:\n",
    "Lambda = 0.0001"
   ]
  },
  {
   "cell_type": "code",
   "execution_count": 7,
   "metadata": {},
   "outputs": [],
   "source": [
    "#Need to make changes to costFunction and costFunctionPrim:\n",
    "def costFunction(self, X, y):\n",
    "    #Compute cost for given X,y, use weights already stored in class.\n",
    "    self.yHat = self.forward(X)\n",
    "    #We don't want cost to increase with the number of examples, so normalize by dividing the error term by number of examples(X.shape[0])\n",
    "    J = 0.5*sum((y-self.yHat)**2)/X.shape[0] + (self.Lambda/2)*(sum(self.W1**2)+sum(self.W2**2))\n",
    "    return J\n",
    "\n",
    "def costFunctionPrime(self, X, y):\n",
    "    #Compute derivative with respect to W and W2 for a given X and y:\n",
    "    self.yHat = self.forward(X)\n",
    "\n",
    "    delta3 = np.multiply(-(y-self.yHat), self.tanhPrime(self.z3))\n",
    "    #Add gradient of regularization term:\n",
    "    dJdW2 = np.dot(self.a2.T, delta3)/X.shape[0] + self.Lambda*self.W2\n",
    "\n",
    "    delta2 = np.dot(delta3, self.W2.T)*self.tanhPrime(self.z2)\n",
    "    #Add gradient of regularization term:\n",
    "    dJdW1 = np.dot(X.T, delta2)/X.shape[0] + self.Lambda*self.W1\n",
    "\n",
    "    return dJdW1, dJdW2"
   ]
  },
  {
   "cell_type": "code",
   "execution_count": 8,
   "metadata": {},
   "outputs": [],
   "source": [
    "#New complete class, with changes:\n",
    "class Neural_Network(object):\n",
    "    def __init__(self, Lambda=0.0001):        \n",
    "        #Define Hyperparameters\n",
    "        self.inputLayerSize = 3\n",
    "        self.outputLayerSize = 1\n",
    "        self.hiddenLayerSize = 5\n",
    "        \n",
    "        #Weights (parameters)\n",
    "        self.W1 = np.random.randn(self.inputLayerSize,self.hiddenLayerSize)\n",
    "        self.W2 = np.random.randn(self.hiddenLayerSize,self.outputLayerSize)\n",
    "        \n",
    "        #Regularization Parameter:\n",
    "        self.Lambda = Lambda\n",
    "        \n",
    "    def forward(self, X):\n",
    "        #Propogate inputs though network\n",
    "        self.z2 = np.dot(X, self.W1)\n",
    "        self.a2 = self.tanh(self.z2)\n",
    "        self.z3 = np.dot(self.a2, self.W2)\n",
    "        yHat = self.tanh(self.z3) \n",
    "        return yHat\n",
    "        \n",
    "    def tanh(self, z):\n",
    "        # activation function\n",
    "        return (np.exp(z)-np.exp(-z))/(np.exp(z)+np.exp(-z))\n",
    "    \n",
    "    def tanhPrime(self,z): \n",
    "        #derivative of tanh\n",
    "        return 1-((np.exp(z)-np.exp(-z))/(np.exp(z)+np.exp(-z)))**2\n",
    "    \n",
    "    def costFunction(self, X, y):\n",
    "        #Compute cost for given X,y, use weights already stored in class.\n",
    "        self.yHat = self.forward(X)\n",
    "        J = 0.5*sum((y-self.yHat)**2)/X.shape[0] + (self.Lambda/2)*(np.sum(self.W1**2)+np.sum(self.W2**2))\n",
    "        return J\n",
    "        \n",
    "    def costFunctionPrime(self, X, y):\n",
    "        #Compute derivative with respect to W and W2 for a given X and y:\n",
    "        self.yHat = self.forward(X)\n",
    "        \n",
    "        delta3 = np.multiply(-(y-self.yHat), self.tanhPrime(self.z3))\n",
    "        #Add gradient of regularization term:\n",
    "        dJdW2 = np.dot(self.a2.T, delta3)/X.shape[0] + self.Lambda*self.W2\n",
    "        \n",
    "        delta2 = np.dot(delta3, self.W2.T)*self.tanhPrime(self.z2)\n",
    "        #Add gradient of regularization term:\n",
    "        dJdW1 = np.dot(X.T, delta2)/X.shape[0] + self.Lambda*self.W1\n",
    "        \n",
    "        return dJdW1, dJdW2\n",
    "    \n",
    "    def predict(self):\n",
    "        prediksi = self.forward(dataprediksi)\n",
    "        return prediksi\n",
    "    \n",
    "    #Helper functions for interacting with other methods/classes\n",
    "    def getParams(self):\n",
    "        #Get W1 and W2 Rolled into vector:\n",
    "        params = np.concatenate((self.W1.ravel(), self.W2.ravel()))\n",
    "        return params\n",
    "    \n",
    "    def setParams(self, params):\n",
    "        #Set W1 and W2 using single parameter vector:\n",
    "        W1_start = 0\n",
    "        W1_end = self.hiddenLayerSize*self.inputLayerSize\n",
    "        self.W1 = np.reshape(params[W1_start:W1_end], \\\n",
    "                             (self.inputLayerSize, self.hiddenLayerSize))\n",
    "        W2_end = W1_end + self.hiddenLayerSize*self.outputLayerSize\n",
    "        self.W2 = np.reshape(params[W1_end:W2_end], \\\n",
    "                             (self.hiddenLayerSize, self.outputLayerSize))\n",
    "        \n",
    "    def computeGradients(self, X, y):\n",
    "        dJdW1, dJdW2 = self.costFunctionPrime(X, y)\n",
    "        return np.concatenate((dJdW1.ravel(), dJdW2.ravel()))"
   ]
  },
  {
   "cell_type": "code",
   "execution_count": 9,
   "metadata": {},
   "outputs": [],
   "source": [
    "def computeNumericalGradient(N, X, y):\n",
    "    paramsInitial = N.getParams()\n",
    "    numgrad = np.zeros(paramsInitial.shape)\n",
    "    perturb = np.zeros(paramsInitial.shape)\n",
    "    e = 1e-4\n",
    "\n",
    "    for p in range(len(paramsInitial)):\n",
    "        #Set perturbation vector\n",
    "        perturb[p] = e\n",
    "        N.setParams(paramsInitial + perturb)\n",
    "        loss2 = N.costFunction(X, y)\n",
    "            \n",
    "        N.setParams(paramsInitial - perturb)\n",
    "        loss1 = N.costFunction(X, y)\n",
    "\n",
    "        #Compute Numerical Gradient\n",
    "        numgrad[p] = (loss2 - loss1) / (2*e)\n",
    "\n",
    "            #Return the value we changed to zero:\n",
    "        perturb[p] = 0\n",
    "            \n",
    "    #Return Params to original value:\n",
    "    N.setParams(paramsInitial)\n",
    "\n",
    "    return numgrad "
   ]
  },
  {
   "cell_type": "code",
   "execution_count": 10,
   "metadata": {},
   "outputs": [],
   "source": [
    "NN = Neural_Network(Lambda=0.0001)"
   ]
  },
  {
   "cell_type": "code",
   "execution_count": 11,
   "metadata": {},
   "outputs": [],
   "source": [
    "#Make sure our gradients our correct after making changes:\n",
    "numgrad = computeNumericalGradient(NN, X, y)\n",
    "grad = NN.computeGradients(X,y)"
   ]
  },
  {
   "cell_type": "code",
   "execution_count": 12,
   "metadata": {},
   "outputs": [
    {
     "data": {
      "text/plain": [
       "2.65372890705424e-09"
      ]
     },
     "execution_count": 12,
     "metadata": {},
     "output_type": "execute_result"
    }
   ],
   "source": [
    "#Should be less than 1e-8:\n",
    "np.linalg.norm(grad-numgrad)/np.linalg.norm(grad+numgrad)"
   ]
  },
  {
   "cell_type": "code",
   "execution_count": 13,
   "metadata": {},
   "outputs": [],
   "source": [
    "T = trainer(NN)"
   ]
  },
  {
   "cell_type": "code",
   "execution_count": 14,
   "metadata": {},
   "outputs": [
    {
     "name": "stdout",
     "output_type": "stream",
     "text": [
      "Warning: Maximum number of iterations has been exceeded.\n",
      "         Current function value: 0.014474\n",
      "         Iterations: 100\n",
      "         Function evaluations: 108\n",
      "         Gradient evaluations: 108\n"
     ]
    }
   ],
   "source": [
    "T.train(X,y,testX,testY)"
   ]
  },
  {
   "cell_type": "code",
   "execution_count": 15,
   "metadata": {},
   "outputs": [
    {
     "data": {
      "image/png": "[encoded data removed]",
      "text/plain": [
       "<Figure size 432x288 with 1 Axes>"
      ]
     },
     "metadata": {
      "needs_background": "light"
     },
     "output_type": "display_data"
    }
   ],
   "source": [
    "plot.plot(T.J)\n",
    "plot.plot(T.testJ)\n",
    "plot.grid(1)\n",
    "plot.xlabel('Iterations')\n",
    "plot.ylabel('Cost')\n",
    "plot.legend(['Training', 'Testing'])\n",
    "plot.show()"
   ]
  },
  {
   "cell_type": "code",
   "execution_count": 16,
   "metadata": {},
   "outputs": [
    {
     "data": {
      "text/plain": [
       "[array([0.03375658]),\n",
       " array([0.03310257]),\n",
       " array([0.03190146]),\n",
       " array([0.02973649]),\n",
       " array([0.02613555]),\n",
       " array([0.02186002]),\n",
       " array([0.02050346]),\n",
       " array([0.01958158]),\n",
       " array([0.01951302]),\n",
       " array([0.01948798]),\n",
       " array([0.01944243]),\n",
       " array([0.01935803]),\n",
       " array([0.0192024]),\n",
       " array([0.01892395]),\n",
       " array([0.01846937]),\n",
       " array([0.01796954]),\n",
       " array([0.01750212]),\n",
       " array([0.01713541]),\n",
       " array([0.01711812]),\n",
       " array([0.01709364]),\n",
       " array([0.01705654]),\n",
       " array([0.01699698]),\n",
       " array([0.01689468]),\n",
       " array([0.01671637]),\n",
       " array([0.0164174]),\n",
       " array([0.01599162]),\n",
       " array([0.01583294]),\n",
       " array([0.01582726]),\n",
       " array([0.01581833]),\n",
       " array([0.01580125]),\n",
       " array([0.01576866]),\n",
       " array([0.01570753]),\n",
       " array([0.01560009]),\n",
       " array([0.01547568]),\n",
       " array([0.0154618]),\n",
       " array([0.01544229]),\n",
       " array([0.01542607]),\n",
       " array([0.0153992]),\n",
       " array([0.01535579]),\n",
       " array([0.01529622]),\n",
       " array([0.01524757]),\n",
       " array([0.01516953]),\n",
       " array([0.01505789]),\n",
       " array([0.01497881]),\n",
       " array([0.0149497]),\n",
       " array([0.01493529]),\n",
       " array([0.01492313]),\n",
       " array([0.01492043]),\n",
       " array([0.01491793]),\n",
       " array([0.01491328]),\n",
       " array([0.01490471]),\n",
       " array([0.01488848]),\n",
       " array([0.01485807]),\n",
       " array([0.01480417]),\n",
       " array([0.0147333]),\n",
       " array([0.0147116]),\n",
       " array([0.01468218]),\n",
       " array([0.01466946]),\n",
       " array([0.01466494]),\n",
       " array([0.01466378]),\n",
       " array([0.01466289]),\n",
       " array([0.01466209]),\n",
       " array([0.01466067]),\n",
       " array([0.01465803]),\n",
       " array([0.01465325]),\n",
       " array([0.01464556]),\n",
       " array([0.01463337]),\n",
       " array([0.01461934]),\n",
       " array([0.01460824]),\n",
       " array([0.01460471]),\n",
       " array([0.01459948]),\n",
       " array([0.01459565]),\n",
       " array([0.01459408]),\n",
       " array([0.01459157]),\n",
       " array([0.01458802]),\n",
       " array([0.0145826]),\n",
       " array([0.01457646]),\n",
       " array([0.01457524]),\n",
       " array([0.01457485]),\n",
       " array([0.01457412]),\n",
       " array([0.01457271]),\n",
       " array([0.01457006]),\n",
       " array([0.01456525]),\n",
       " array([0.01455714]),\n",
       " array([0.01454514]),\n",
       " array([0.01453326]),\n",
       " array([0.01451898]),\n",
       " array([0.01451262]),\n",
       " array([0.01450303]),\n",
       " array([0.01449366]),\n",
       " array([0.01448536]),\n",
       " array([0.0144795]),\n",
       " array([0.01447674]),\n",
       " array([0.01447625]),\n",
       " array([0.01447564]),\n",
       " array([0.01447515]),\n",
       " array([0.01447491]),\n",
       " array([0.0144747]),\n",
       " array([0.01447436]),\n",
       " array([0.01447374])]"
      ]
     },
     "execution_count": 16,
     "metadata": {},
     "output_type": "execute_result"
    }
   ],
   "source": [
    "T.J"
   ]
  },
  {
   "cell_type": "code",
   "execution_count": 17,
   "metadata": {},
   "outputs": [
    {
     "data": {
      "text/plain": [
       "[array([0.03649375]),\n",
       " array([0.03648333]),\n",
       " array([0.03555663]),\n",
       " array([0.03294029]),\n",
       " array([0.02709876]),\n",
       " array([0.01659321]),\n",
       " array([0.01396323]),\n",
       " array([0.01261688]),\n",
       " array([0.0129166]),\n",
       " array([0.01305555]),\n",
       " array([0.013214]),\n",
       " array([0.01342354]),\n",
       " array([0.01372963]),\n",
       " array([0.01419909]),\n",
       " array([0.01490891]),\n",
       " array([0.01585358]),\n",
       " array([0.01570701]),\n",
       " array([0.01584554]),\n",
       " array([0.0156035]),\n",
       " array([0.015724]),\n",
       " array([0.01592879]),\n",
       " array([0.01614474]),\n",
       " array([0.01629161]),\n",
       " array([0.01630228]),\n",
       " array([0.01602826]),\n",
       " array([0.01524688]),\n",
       " array([0.01470318]),\n",
       " array([0.01460102]),\n",
       " array([0.01460751]),\n",
       " array([0.01463908]),\n",
       " array([0.014713]),\n",
       " array([0.01486497]),\n",
       " array([0.01515981]),\n",
       " array([0.01577484]),\n",
       " array([0.01621759]),\n",
       " array([0.01603961]),\n",
       " array([0.01591706]),\n",
       " array([0.01583203]),\n",
       " array([0.01579161]),\n",
       " array([0.01572761]),\n",
       " array([0.01559014]),\n",
       " array([0.01529661]),\n",
       " array([0.01477379]),\n",
       " array([0.01425905]),\n",
       " array([0.01409575]),\n",
       " array([0.01413525]),\n",
       " array([0.01427052]),\n",
       " array([0.01438111]),\n",
       " array([0.01443593]),\n",
       " array([0.01434572]),\n",
       " array([0.01430335]),\n",
       " array([0.01426949]),\n",
       " array([0.01425092]),\n",
       " array([0.014276]),\n",
       " array([0.01440514]),\n",
       " array([0.01431011]),\n",
       " array([0.01424819]),\n",
       " array([0.01408538]),\n",
       " array([0.01409514]),\n",
       " array([0.01403658]),\n",
       " array([0.01402186]),\n",
       " array([0.01400158]),\n",
       " array([0.01398]),\n",
       " array([0.01394634]),\n",
       " array([0.01390816]),\n",
       " array([0.0138772]),\n",
       " array([0.01386887]),\n",
       " array([0.01382044]),\n",
       " array([0.01388866]),\n",
       " array([0.0139473]),\n",
       " array([0.01388974]),\n",
       " array([0.0138031]),\n",
       " array([0.01379613]),\n",
       " array([0.01380154]),\n",
       " array([0.01383223]),\n",
       " array([0.01384689]),\n",
       " array([0.01388663]),\n",
       " array([0.01390891]),\n",
       " array([0.01388133]),\n",
       " array([0.01387802]),\n",
       " array([0.01387394]),\n",
       " array([0.01386939]),\n",
       " array([0.01386512]),\n",
       " array([0.01385751]),\n",
       " array([0.01382701]),\n",
       " array([0.01382492]),\n",
       " array([0.01391776]),\n",
       " array([0.01389269]),\n",
       " array([0.01401309]),\n",
       " array([0.01411036]),\n",
       " array([0.0141561]),\n",
       " array([0.01412076]),\n",
       " array([0.0140236]),\n",
       " array([0.01398975]),\n",
       " array([0.01394074]),\n",
       " array([0.01391663]),\n",
       " array([0.0139265]),\n",
       " array([0.01394415]),\n",
       " array([0.01396481]),\n",
       " array([0.0139869])]"
      ]
     },
     "execution_count": 17,
     "metadata": {},
     "output_type": "execute_result"
    }
   ],
   "source": [
    "T.testJ"
   ]
  },
  {
   "cell_type": "code",
   "execution_count": 18,
   "metadata": {},
   "outputs": [
    {
     "data": {
      "text/plain": [
       "0.001306498823786785"
      ]
     },
     "execution_count": 18,
     "metadata": {},
     "output_type": "execute_result"
    }
   ],
   "source": [
    "from sklearn.metrics import mean_absolute_error\n",
    "mean_absolute_error(T.J, T.testJ)"
   ]
  },
  {
   "cell_type": "code",
   "execution_count": 19,
   "metadata": {},
   "outputs": [],
   "source": [
    "yHat=NN.forward(X)"
   ]
  },
  {
   "cell_type": "code",
   "execution_count": 20,
   "metadata": {},
   "outputs": [
    {
     "data": {
      "text/plain": [
       "array([[0.42467004],\n",
       "       [0.42774882],\n",
       "       [0.41735628],\n",
       "       [0.48991369],\n",
       "       [0.47696711],\n",
       "       [0.36736376],\n",
       "       [0.52084496],\n",
       "       [0.65716912],\n",
       "       [0.58396283],\n",
       "       [0.56412272],\n",
       "       [0.29566932],\n",
       "       [0.53363218],\n",
       "       [0.40012651],\n",
       "       [0.44571761],\n",
       "       [0.30641735],\n",
       "       [0.48690742],\n",
       "       [0.45587056],\n",
       "       [0.4087729 ],\n",
       "       [0.28889205],\n",
       "       [0.52576779],\n",
       "       [0.50680792],\n",
       "       [0.49968608],\n",
       "       [0.57233072],\n",
       "       [0.36478585],\n",
       "       [0.59095126],\n",
       "       [0.54393178],\n",
       "       [0.66109855],\n",
       "       [0.55422391],\n",
       "       [0.51467396],\n",
       "       [0.48883915],\n",
       "       [0.59787717],\n",
       "       [0.6836385 ],\n",
       "       [0.67632905],\n",
       "       [0.7033237 ],\n",
       "       [0.59257445],\n",
       "       [0.57919738],\n",
       "       [0.68122112],\n",
       "       [0.67744088],\n",
       "       [0.74544412],\n",
       "       [0.72165655],\n",
       "       [0.72025053],\n",
       "       [0.69107821],\n",
       "       [0.80928086],\n",
       "       [0.78855294],\n",
       "       [0.81869003],\n",
       "       [0.81329885],\n",
       "       [0.71391571],\n",
       "       [0.71396272],\n",
       "       [0.6800679 ],\n",
       "       [0.65254222],\n",
       "       [0.68656452],\n",
       "       [0.61757195],\n",
       "       [0.69946384],\n",
       "       [0.59013532],\n",
       "       [0.77366881],\n",
       "       [0.65712315],\n",
       "       [0.70777483],\n",
       "       [0.74171567],\n",
       "       [0.68218988],\n",
       "       [0.66464288],\n",
       "       [0.64877324]])"
      ]
     },
     "execution_count": 20,
     "metadata": {},
     "output_type": "execute_result"
    }
   ],
   "source": [
    "yHat"
   ]
  },
  {
   "cell_type": "code",
   "execution_count": 21,
   "metadata": {},
   "outputs": [
    {
     "data": {
      "text/plain": [
       "array([[0.26372911],\n",
       "       [0.3349176 ],\n",
       "       [0.52901287],\n",
       "       [0.46778898],\n",
       "       [0.58859326],\n",
       "       [0.28650113],\n",
       "       [0.47320807],\n",
       "       [0.45271621],\n",
       "       [0.38367462],\n",
       "       [0.23399813],\n",
       "       [0.35317372],\n",
       "       [0.14062986],\n",
       "       [0.26372911],\n",
       "       [0.33746428],\n",
       "       [0.28799656],\n",
       "       [0.50986837],\n",
       "       [0.50986837],\n",
       "       [0.        ],\n",
       "       [0.47639142],\n",
       "       [0.44976976],\n",
       "       [0.46613068],\n",
       "       [0.5882231 ],\n",
       "       [0.63635825],\n",
       "       [0.57313552],\n",
       "       [0.45643258],\n",
       "       [0.76222627],\n",
       "       [0.55359126],\n",
       "       [0.71115948],\n",
       "       [0.31546218],\n",
       "       [0.60413983],\n",
       "       [0.83761975],\n",
       "       [0.7476273 ],\n",
       "       [0.84718459],\n",
       "       [0.85934053],\n",
       "       [0.78972149],\n",
       "       [0.74365922],\n",
       "       [0.68135448],\n",
       "       [0.89668192],\n",
       "       [0.73519004],\n",
       "       [0.98720739],\n",
       "       [0.50502673],\n",
       "       [1.        ],\n",
       "       [0.93787293],\n",
       "       [0.80331364],\n",
       "       [0.94438769],\n",
       "       [0.78782629],\n",
       "       [0.70467434],\n",
       "       [0.65104606],\n",
       "       [0.44790417],\n",
       "       [0.67977021],\n",
       "       [0.53034543],\n",
       "       [0.78390263],\n",
       "       [0.3349028 ],\n",
       "       [0.87703401],\n",
       "       [0.70343061],\n",
       "       [0.6764536 ],\n",
       "       [0.7996565 ],\n",
       "       [0.6539629 ],\n",
       "       [0.73176979],\n",
       "       [0.60723434],\n",
       "       [0.67      ]])"
      ]
     },
     "execution_count": 21,
     "metadata": {},
     "output_type": "execute_result"
    }
   ],
   "source": [
    "y"
   ]
  },
  {
   "cell_type": "code",
   "execution_count": 22,
   "metadata": {},
   "outputs": [
    {
     "data": {
      "text/plain": [
       "0.027864580854833915"
      ]
     },
     "execution_count": 22,
     "metadata": {},
     "output_type": "execute_result"
    }
   ],
   "source": [
    "from sklearn.metrics import mean_squared_error \n",
    "mean_squared_error(y,yHat) "
   ]
  },
  {
   "cell_type": "code",
   "execution_count": 23,
   "metadata": {},
   "outputs": [
    {
     "data": {
      "image/png": "[encoded data removed]",
      "text/plain": [
       "<Figure size 432x288 with 1 Axes>"
      ]
     },
     "metadata": {
      "needs_background": "light"
     },
     "output_type": "display_data"
    }
   ],
   "source": [
    "#Plot cost during training:\n",
    "plot.plot(y)\n",
    "plot.plot(yHat)\n",
    "plot.grid(1)\n",
    "plot.legend(['y', 'yHat'])\n",
    "plot.show()"
   ]
  },
  {
   "cell_type": "code",
   "execution_count": 24,
   "metadata": {},
   "outputs": [],
   "source": [
    "prediksi=NN.forward(dataprediksi)"
   ]
  },
  {
   "cell_type": "code",
   "execution_count": 25,
   "metadata": {},
   "outputs": [
    {
     "data": {
      "text/plain": [
       "array([[0.78930627],\n",
       "       [0.81982262],\n",
       "       [0.69942478],\n",
       "       [0.54752758]])"
      ]
     },
     "execution_count": 25,
     "metadata": {},
     "output_type": "execute_result"
    }
   ],
   "source": [
    "prediksi"
   ]
  },
  {
   "cell_type": "code",
   "execution_count": 26,
   "metadata": {},
   "outputs": [],
   "source": [
    "from sklearn.metrics import mean_squared_error "
   ]
  },
  {
   "cell_type": "code",
   "execution_count": 27,
   "metadata": {},
   "outputs": [
    {
     "data": {
      "text/plain": [
       "0.13710483967651899"
      ]
     },
     "execution_count": 27,
     "metadata": {},
     "output_type": "execute_result"
    }
   ],
   "source": [
    "Y_true= ([\t0.67\t]\t,\n",
    "[\t0.389745184\t]\t,\n",
    "[\t0.136735812\t]\t,\n",
    "[\t0.366973156\t]\t,\n",
    "\n",
    ")\n",
    "\n",
    "\n",
    "Y_pred=prediksi\n",
    "mean_squared_error(Y_true,Y_pred) "
   ]
  },
  {
   "cell_type": "code",
   "execution_count": 28,
   "metadata": {},
   "outputs": [
    {
     "data": {
      "text/plain": [
       "array([[0.38732394, 0.79538041, 0.67      ],\n",
       "       [0.37323944, 1.        , 0.67      ],\n",
       "       [0.36619718, 0.70768171, 0.38974518],\n",
       "       [0.44366197, 0.49169532, 0.13673581]])"
      ]
     },
     "execution_count": 28,
     "metadata": {},
     "output_type": "execute_result"
    }
   ],
   "source": [
    "dataprediksi"
   ]
  },
  {
   "cell_type": "code",
   "execution_count": null,
   "metadata": {},
   "outputs": [],
   "source": [
    "z=np.array([0.6294\t,\t0.4578])"
   ]
  },
  {
   "cell_type": "code",
   "execution_count": null,
   "metadata": {},
   "outputs": [],
   "source": [
    "y=np.array([\t0.366973156250463\t])"
   ]
  },
  {
   "cell_type": "code",
   "execution_count": null,
   "metadata": {},
   "outputs": [],
   "source": [
    "a=np.concatenate((z,y))"
   ]
  },
  {
   "cell_type": "code",
   "execution_count": null,
   "metadata": {},
   "outputs": [],
   "source": [
    "#prediksi 1\n",
    "prediksi=NN.forward(a)\n",
    "prediksi"
   ]
  },
  {
   "cell_type": "code",
   "execution_count": null,
   "metadata": {},
   "outputs": [],
   "source": [
    "#prediksi 2\n",
    "c=prediksi\n",
    "z1=np.array([0.6795\t,\t0.4539])\n",
    "b=y[1:]\n",
    "d=np.concatenate((z1,b,c))\n",
    "prediksi=NN.forward(d)\n",
    "prediksi"
   ]
  },
  {
   "cell_type": "code",
   "execution_count": null,
   "metadata": {},
   "outputs": [],
   "source": [
    "#prediksi 3\n",
    "c=prediksi\n",
    "z2=np.array([0.5888\t,\t0.4545])\n",
    "b=y[1:]\n",
    "d=np.concatenate((z2,b,c))\n",
    "prediksi=NN.forward(d)\n",
    "prediksi"
   ]
  },
  {
   "cell_type": "code",
   "execution_count": null,
   "metadata": {},
   "outputs": [],
   "source": [
    "#prediksi 4\n",
    "c=prediksi\n",
    "z3=np.array([0.527\t,\t0.4555])\n",
    "b=y[1:]\n",
    "d=np.concatenate((z3,b,c))\n",
    "prediksi=NN.forward(d)\n",
    "prediksi"
   ]
  },
  {
   "cell_type": "code",
   "execution_count": null,
   "metadata": {},
   "outputs": [],
   "source": [
    "#prediksi 5\n",
    "c=prediksi\n",
    "z4=np.array([0.4745\t,\t0.4564])\n",
    "b=y[1:]\n",
    "d=np.concatenate((z4,b,c))\n",
    "prediksi=NN.forward(d)\n",
    "prediksi"
   ]
  },
  {
   "cell_type": "code",
   "execution_count": null,
   "metadata": {},
   "outputs": [],
   "source": [
    "#prediksi 6\n",
    "c=prediksi\n",
    "z5=np.array([0.4621\t,\t0.4571])\n",
    "b=y[1:]\n",
    "d=np.concatenate((z5,b,c))\n",
    "prediksi=NN.forward(d)\n",
    "prediksi"
   ]
  }
 ],
 "metadata": {
  "kernelspec": {
   "display_name": "Python 3",
   "language": "python",
   "name": "python3"
  },
  "language_info": {
   "codemirror_mode": {
    "name": "ipython",
    "version": 3
   },
   "file_extension": ".py",
   "mimetype": "text/x-python",
   "name": "python",
   "nbconvert_exporter": "python",
   "pygments_lexer": "ipython3",
   "version": "3.7.3"
  }
 },
 "nbformat": 4,
 "nbformat_minor": 2
}
