{
 "cells": [
  {
   "cell_type": "code",
   "execution_count": 15,
   "metadata": {},
   "outputs": [],
   "source": [
    "#Regularization Parameter:\n",
    "Lambda = 0.0001"
   ]
  },
  {
   "cell_type": "code",
   "execution_count": 16,
   "metadata": {},
   "outputs": [],
   "source": [
    "#Need to make changes to costFunction and costFunctionPrim:\n",
    "def costFunction(self, X, y):\n",
    "    #Compute cost for given X,y, use weights already stored in class.\n",
    "    self.yHat = self.forward(X)\n",
    "    #We don't want cost to increase with the number of examples, so normalize by dividing the error term by number of examples(X.shape[0])\n",
    "    J = 0.5*sum((y-self.yHat)**2)/X.shape[0] + (self.Lambda/2)*(sum(self.W1**2)+sum(self.W2**2))\n",
    "    return J\n",
    "\n",
    "def costFunctionPrime(self, X, y):\n",
    "    #Compute derivative with respect to W and W2 for a given X and y:\n",
    "    self.yHat = self.forward(X)\n",
    "\n",
    "    delta3 = np.multiply(-(y-self.yHat), self.sigmoidPrime(self.z3))\n",
    "    #Add gradient of regularization term:\n",
    "    dJdW2 = np.dot(self.a2.T, delta3)/X.shape[0] + self.Lambda*self.W2\n",
    "\n",
    "    delta2 = np.dot(delta3, self.W2.T)*self.sigmoidPrime(self.z2)\n",
    "    #Add gradient of regularization term:\n",
    "    dJdW1 = np.dot(X.T, delta2)/X.shape[0] + self.Lambda*self.W1\n",
    "\n",
    "    return dJdW1, dJdW2"
   ]
  },
  {
   "cell_type": "code",
   "execution_count": 17,
   "metadata": {},
   "outputs": [],
   "source": [
    "#New complete class, with changes:\n",
    "class Neural_Network(object):\n",
    "    def __init__(self, Lambda=0.0001):        \n",
    "        #Define Hyperparameters\n",
    "        self.inputLayerSize = 3\n",
    "        self.outputLayerSize = 1\n",
    "        self.hiddenLayerSize = 4\n",
    "        \n",
    "        #Weights (parameters)\n",
    "        self.W1 = np.random.randn(self.inputLayerSize,self.hiddenLayerSize)\n",
    "        self.W2 = np.random.randn(self.hiddenLayerSize,self.outputLayerSize)\n",
    "        \n",
    "        #Regularization Parameter:\n",
    "        self.Lambda = Lambda\n",
    "        \n",
    "    def forward(self, X):\n",
    "        #Propogate inputs though network\n",
    "        self.z2 = np.dot(X, self.W1)\n",
    "        self.a2 = self.sigmoid(self.z2)\n",
    "        self.z3 = np.dot(self.a2, self.W2)\n",
    "        yHat = self.sigmoid(self.z3) \n",
    "        return yHat\n",
    "        \n",
    "    def sigmoid(self, z):\n",
    "        #Apply sigmoid activation function to scalar, vector, or matrix\n",
    "        return 1/(1+np.exp(-z))\n",
    "    \n",
    "    def sigmoidPrime(self,z):\n",
    "        #Gradient of sigmoid\n",
    "        return np.exp(-z)/((1+np.exp(-z))**2)\n",
    "    \n",
    "    def costFunction(self, X, y):\n",
    "        #Compute cost for given X,y, use weights already stored in class.\n",
    "        self.yHat = self.forward(X)\n",
    "        J = 0.5*sum((y-self.yHat)**2)/X.shape[0] + (self.Lambda/2)*(np.sum(self.W1**2)+np.sum(self.W2**2))\n",
    "        return J\n",
    "        \n",
    "    def costFunctionPrime(self, X, y):\n",
    "        #Compute derivative with respect to W and W2 for a given X and y:\n",
    "        self.yHat = self.forward(X)\n",
    "        \n",
    "        delta3 = np.multiply(-(y-self.yHat), self.sigmoidPrime(self.z3))\n",
    "        #Add gradient of regularization term:\n",
    "        dJdW2 = np.dot(self.a2.T, delta3)/X.shape[0] + self.Lambda*self.W2\n",
    "        \n",
    "        delta2 = np.dot(delta3, self.W2.T)*self.sigmoidPrime(self.z2)\n",
    "        #Add gradient of regularization term:\n",
    "        dJdW1 = np.dot(X.T, delta2)/X.shape[0] + self.Lambda*self.W1\n",
    "        \n",
    "        return dJdW1, dJdW2\n",
    "    \n",
    "    def predict(self):\n",
    "        prediksi = self.forward(dataprediksi)\n",
    "        return prediksi\n",
    "    \n",
    "    #Helper functions for interacting with other methods/classes\n",
    "    def getParams(self):\n",
    "        #Get W1 and W2 Rolled into vector:\n",
    "        params = np.concatenate((self.W1.ravel(), self.W2.ravel()))\n",
    "        return params\n",
    "    \n",
    "    def setParams(self, params):\n",
    "        #Set W1 and W2 using single parameter vector:\n",
    "        W1_start = 0\n",
    "        W1_end = self.hiddenLayerSize*self.inputLayerSize\n",
    "        self.W1 = np.reshape(params[W1_start:W1_end], \\\n",
    "                             (self.inputLayerSize, self.hiddenLayerSize))\n",
    "        W2_end = W1_end + self.hiddenLayerSize*self.outputLayerSize\n",
    "        self.W2 = np.reshape(params[W1_end:W2_end], \\\n",
    "                             (self.hiddenLayerSize, self.outputLayerSize))\n",
    "        \n",
    "    def computeGradients(self, X, y):\n",
    "        dJdW1, dJdW2 = self.costFunctionPrime(X, y)\n",
    "        return np.concatenate((dJdW1.ravel(), dJdW2.ravel()))"
   ]
  },
  {
   "cell_type": "code",
   "execution_count": 18,
   "metadata": {},
   "outputs": [],
   "source": [
    "def computeNumericalGradient(N, X, y):\n",
    "    paramsInitial = N.getParams()\n",
    "    numgrad = np.zeros(paramsInitial.shape)\n",
    "    perturb = np.zeros(paramsInitial.shape)\n",
    "    e = 1e-4\n",
    "\n",
    "    for p in range(len(paramsInitial)):\n",
    "        #Set perturbation vector\n",
    "        perturb[p] = e\n",
    "        N.setParams(paramsInitial + perturb)\n",
    "        loss2 = N.costFunction(X, y)\n",
    "            \n",
    "        N.setParams(paramsInitial - perturb)\n",
    "        loss1 = N.costFunction(X, y)\n",
    "\n",
    "        #Compute Numerical Gradient\n",
    "        numgrad[p] = (loss2 - loss1) / (2*e)\n",
    "\n",
    "            #Return the value we changed to zero:\n",
    "        perturb[p] = 0\n",
    "            \n",
    "    #Return Params to original value:\n",
    "    N.setParams(paramsInitial)\n",
    "\n",
    "    return numgrad "
   ]
  },
  {
   "cell_type": "code",
   "execution_count": 19,
   "metadata": {},
   "outputs": [],
   "source": [
    "NN = Neural_Network(Lambda=0.0001)"
   ]
  },
  {
   "cell_type": "code",
   "execution_count": 20,
   "metadata": {},
   "outputs": [],
   "source": [
    "#Make sure our gradients our correct after making changes:\n",
    "numgrad = computeNumericalGradient(NN, X, y)\n",
    "grad = NN.computeGradients(X,y)"
   ]
  },
  {
   "cell_type": "code",
   "execution_count": 21,
   "metadata": {},
   "outputs": [
    {
     "data": {
      "text/plain": [
       "6.426229043198855e-10"
      ]
     },
     "execution_count": 21,
     "metadata": {},
     "output_type": "execute_result"
    }
   ],
   "source": [
    "#Should be less than 1e-8:\n",
    "np.linalg.norm(grad-numgrad)/np.linalg.norm(grad+numgrad)"
   ]
  },
  {
   "cell_type": "code",
   "execution_count": 22,
   "metadata": {},
   "outputs": [],
   "source": [
    "T = trainer(NN)"
   ]
  },
  {
   "cell_type": "code",
   "execution_count": 23,
   "metadata": {},
   "outputs": [
    {
     "name": "stdout",
     "output_type": "stream",
     "text": [
      "Warning: Maximum number of iterations has been exceeded.\n",
      "         Current function value: 0.016790\n",
      "         Iterations: 100\n",
      "         Function evaluations: 105\n",
      "         Gradient evaluations: 105\n"
     ]
    }
   ],
   "source": [
    "T.train(X,y,testX,testY)"
   ]
  },
  {
   "cell_type": "code",
   "execution_count": 24,
   "metadata": {},
   "outputs": [
    {
     "data": {
      "image/png": "[encoded data removed]",
      "text/plain": [
       "<Figure size 432x288 with 1 Axes>"
      ]
     },
     "metadata": {
      "needs_background": "light"
     },
     "output_type": "display_data"
    }
   ],
   "source": [
    "plot.plot(T.J)\n",
    "plot.plot(T.testJ)\n",
    "plot.grid(1)\n",
    "plot.xlabel('Iterations')\n",
    "plot.ylabel('Cost')\n",
    "plot.legend(['Training', 'Testing'])\n",
    "plot.show()"
   ]
  },
  {
   "cell_type": "code",
   "execution_count": 25,
   "metadata": {},
   "outputs": [
    {
     "data": {
      "text/plain": [
       "[array([0.03675237]),\n",
       " array([0.02861511]),\n",
       " array([0.02668899]),\n",
       " array([0.02627192]),\n",
       " array([0.02626189]),\n",
       " array([0.02624327]),\n",
       " array([0.02620821]),\n",
       " array([0.02614231]),\n",
       " array([0.02602034]),\n",
       " array([0.02580229]),\n",
       " array([0.02544019]),\n",
       " array([0.02492732]),\n",
       " array([0.02443837]),\n",
       " array([0.02366254]),\n",
       " array([0.02281589]),\n",
       " array([0.02267237]),\n",
       " array([0.02266124]),\n",
       " array([0.02264774]),\n",
       " array([0.02262357]),\n",
       " array([0.022579]),\n",
       " array([0.02249651]),\n",
       " array([0.02234707]),\n",
       " array([0.02209743]),\n",
       " array([0.02177358]),\n",
       " array([0.02137303]),\n",
       " array([0.02062433]),\n",
       " array([0.01931046]),\n",
       " array([0.01767059]),\n",
       " array([0.01744556]),\n",
       " array([0.01738647]),\n",
       " array([0.01736599]),\n",
       " array([0.01735179]),\n",
       " array([0.01732837]),\n",
       " array([0.01730455]),\n",
       " array([0.01730219]),\n",
       " array([0.01729936]),\n",
       " array([0.01729422]),\n",
       " array([0.01728473]),\n",
       " array([0.01726734]),\n",
       " array([0.01723652]),\n",
       " array([0.01718666]),\n",
       " array([0.01713152]),\n",
       " array([0.01710408]),\n",
       " array([0.01706982]),\n",
       " array([0.01705968]),\n",
       " array([0.01705595]),\n",
       " array([0.01705515]),\n",
       " array([0.01705456]),\n",
       " array([0.01705441]),\n",
       " array([0.01705414]),\n",
       " array([0.01705363]),\n",
       " array([0.01705266]),\n",
       " array([0.01705084]),\n",
       " array([0.01704752]),\n",
       " array([0.01704161]),\n",
       " array([0.01703164]),\n",
       " array([0.01701605]),\n",
       " array([0.01699562]),\n",
       " array([0.0169707]),\n",
       " array([0.01693623]),\n",
       " array([0.01690671]),\n",
       " array([0.01689584]),\n",
       " array([0.01689256]),\n",
       " array([0.01689191]),\n",
       " array([0.01689179]),\n",
       " array([0.01689174]),\n",
       " array([0.01689166]),\n",
       " array([0.01689103]),\n",
       " array([0.01689002]),\n",
       " array([0.01688824]),\n",
       " array([0.01688497]),\n",
       " array([0.01687896]),\n",
       " array([0.01686823]),\n",
       " array([0.01685102]),\n",
       " array([0.01683405]),\n",
       " array([0.01682981]),\n",
       " array([0.01682461]),\n",
       " array([0.01681877]),\n",
       " array([0.01681575]),\n",
       " array([0.01681525]),\n",
       " array([0.0168152]),\n",
       " array([0.01681517]),\n",
       " array([0.01681512]),\n",
       " array([0.01681502]),\n",
       " array([0.01681484]),\n",
       " array([0.0168145]),\n",
       " array([0.0168139]),\n",
       " array([0.01681283]),\n",
       " array([0.01681105]),\n",
       " array([0.0168083]),\n",
       " array([0.01680476]),\n",
       " array([0.01680003]),\n",
       " array([0.01679389]),\n",
       " array([0.0167908]),\n",
       " array([0.01679049]),\n",
       " array([0.01679044]),\n",
       " array([0.01679042]),\n",
       " array([0.01679038]),\n",
       " array([0.01679007]),\n",
       " array([0.0167896])]"
      ]
     },
     "execution_count": 25,
     "metadata": {},
     "output_type": "execute_result"
    }
   ],
   "source": [
    "T.J"
   ]
  },
  {
   "cell_type": "code",
   "execution_count": 26,
   "metadata": {},
   "outputs": [
    {
     "data": {
      "text/plain": [
       "[array([0.01368291]),\n",
       " array([0.01053803]),\n",
       " array([0.01521578]),\n",
       " array([0.01269313]),\n",
       " array([0.01280986]),\n",
       " array([0.0129297]),\n",
       " array([0.013075]),\n",
       " array([0.01327031]),\n",
       " array([0.01354898]),\n",
       " array([0.01395853]),\n",
       " array([0.01455807]),\n",
       " array([0.01534313]),\n",
       " array([0.0153782]),\n",
       " array([0.01455694]),\n",
       " array([0.01277089]),\n",
       " array([0.01200351]),\n",
       " array([0.01188299]),\n",
       " array([0.01180003]),\n",
       " array([0.01172479]),\n",
       " array([0.01164557]),\n",
       " array([0.01155492]),\n",
       " array([0.01145567]),\n",
       " array([0.01139599]),\n",
       " array([0.01161644]),\n",
       " array([0.01190316]),\n",
       " array([0.01230038]),\n",
       " array([0.01299815]),\n",
       " array([0.0145773]),\n",
       " array([0.0158097]),\n",
       " array([0.01574963]),\n",
       " array([0.01572295]),\n",
       " array([0.01570031]),\n",
       " array([0.01564318]),\n",
       " array([0.01553048]),\n",
       " array([0.01553388]),\n",
       " array([0.01554934]),\n",
       " array([0.01557404]),\n",
       " array([0.01561243]),\n",
       " array([0.01567481]),\n",
       " array([0.01578055]),\n",
       " array([0.01596495]),\n",
       " array([0.016222]),\n",
       " array([0.01624356]),\n",
       " array([0.01612084]),\n",
       " array([0.01604219]),\n",
       " array([0.01607063]),\n",
       " array([0.01610491]),\n",
       " array([0.01613968]),\n",
       " array([0.01614077]),\n",
       " array([0.0161419]),\n",
       " array([0.01614283]),\n",
       " array([0.01614369]),\n",
       " array([0.01614409]),\n",
       " array([0.01614308]),\n",
       " array([0.01613809]),\n",
       " array([0.01612314]),\n",
       " array([0.01608722]),\n",
       " array([0.01603436]),\n",
       " array([0.0159649]),\n",
       " array([0.01584363]),\n",
       " array([0.01573363]),\n",
       " array([0.01577797]),\n",
       " array([0.01577933]),\n",
       " array([0.01582031]),\n",
       " array([0.01579867]),\n",
       " array([0.01580028]),\n",
       " array([0.01580219]),\n",
       " array([0.01581363]),\n",
       " array([0.01582502]),\n",
       " array([0.01583573]),\n",
       " array([0.01584705]),\n",
       " array([0.01586003]),\n",
       " array([0.01587619]),\n",
       " array([0.01590656]),\n",
       " array([0.01601431]),\n",
       " array([0.01602707]),\n",
       " array([0.01592942]),\n",
       " array([0.01590986]),\n",
       " array([0.01593262]),\n",
       " array([0.01596641]),\n",
       " array([0.01597168]),\n",
       " array([0.01597311]),\n",
       " array([0.01597439]),\n",
       " array([0.01597562]),\n",
       " array([0.01597674]),\n",
       " array([0.01597742]),\n",
       " array([0.01597677]),\n",
       " array([0.0159727]),\n",
       " array([0.01596043]),\n",
       " array([0.01593044]),\n",
       " array([0.01587896]),\n",
       " array([0.01580735]),\n",
       " array([0.01571871]),\n",
       " array([0.01567097]),\n",
       " array([0.01567241]),\n",
       " array([0.01567807]),\n",
       " array([0.0156819]),\n",
       " array([0.01568565]),\n",
       " array([0.01570753]),\n",
       " array([0.01572961])]"
      ]
     },
     "execution_count": 26,
     "metadata": {},
     "output_type": "execute_result"
    }
   ],
   "source": [
    "T.testJ"
   ]
  },
  {
   "cell_type": "code",
   "execution_count": 27,
   "metadata": {},
   "outputs": [
    {
     "data": {
      "text/plain": [
       "0.00394274358138253"
      ]
     },
     "execution_count": 27,
     "metadata": {},
     "output_type": "execute_result"
    }
   ],
   "source": [
    "from sklearn.metrics import mean_absolute_error\n",
    "mean_absolute_error(T.J, T.testJ)"
   ]
  },
  {
   "cell_type": "code",
   "execution_count": 28,
   "metadata": {},
   "outputs": [],
   "source": [
    "yHat=NN.forward(X)"
   ]
  },
  {
   "cell_type": "code",
   "execution_count": 29,
   "metadata": {},
   "outputs": [
    {
     "data": {
      "text/plain": [
       "array([[0.53664972],\n",
       "       [0.38911162],\n",
       "       [0.37727678],\n",
       "       [0.4710561 ],\n",
       "       [0.46589346],\n",
       "       [0.47547807],\n",
       "       [0.47898247],\n",
       "       [0.67804606],\n",
       "       [0.60393152],\n",
       "       [0.52633172],\n",
       "       [0.39372792],\n",
       "       [0.50778306],\n",
       "       [0.43779032],\n",
       "       [0.40561121],\n",
       "       [0.51593526],\n",
       "       [0.44403083],\n",
       "       [0.4744794 ],\n",
       "       [0.43479449],\n",
       "       [0.31840496],\n",
       "       [0.48150567],\n",
       "       [0.46514195],\n",
       "       [0.47585652],\n",
       "       [0.54682028],\n",
       "       [0.48792819],\n",
       "       [0.5529827 ],\n",
       "       [0.53685791],\n",
       "       [0.63421449],\n",
       "       [0.52280244],\n",
       "       [0.54574   ],\n",
       "       [0.44660371],\n",
       "       [0.59947194],\n",
       "       [0.6553351 ],\n",
       "       [0.66259996],\n",
       "       [0.67599203],\n",
       "       [0.63298897],\n",
       "       [0.59584377],\n",
       "       [0.65345643],\n",
       "       [0.64967211],\n",
       "       [0.72422041],\n",
       "       [0.69724738],\n",
       "       [0.73058438],\n",
       "       [0.66003994],\n",
       "       [0.80344217],\n",
       "       [0.81458468],\n",
       "       [0.79256741],\n",
       "       [0.7883057 ],\n",
       "       [0.71951806],\n",
       "       [0.6897273 ],\n",
       "       [0.695032  ],\n",
       "       [0.63424431],\n",
       "       [0.66942021],\n",
       "       [0.62538392],\n",
       "       [0.69873121],\n",
       "       [0.54778242],\n",
       "       [0.75376227],\n",
       "       [0.72936312],\n",
       "       [0.70205617],\n",
       "       [0.72055211],\n",
       "       [0.65690782],\n",
       "       [0.6443514 ],\n",
       "       [0.61842406]])"
      ]
     },
     "execution_count": 29,
     "metadata": {},
     "output_type": "execute_result"
    }
   ],
   "source": [
    "yHat"
   ]
  },
  {
   "cell_type": "code",
   "execution_count": 30,
   "metadata": {},
   "outputs": [
    {
     "data": {
      "text/plain": [
       "array([[0.26372911],\n",
       "       [0.3349176 ],\n",
       "       [0.52901287],\n",
       "       [0.46778898],\n",
       "       [0.58859326],\n",
       "       [0.28650113],\n",
       "       [0.47320807],\n",
       "       [0.45271621],\n",
       "       [0.38367462],\n",
       "       [0.23399813],\n",
       "       [0.35317372],\n",
       "       [0.14062986],\n",
       "       [0.26372911],\n",
       "       [0.33746428],\n",
       "       [0.28799656],\n",
       "       [0.50986837],\n",
       "       [0.50986837],\n",
       "       [0.        ],\n",
       "       [0.47639142],\n",
       "       [0.44976976],\n",
       "       [0.46613068],\n",
       "       [0.5882231 ],\n",
       "       [0.63635825],\n",
       "       [0.57313552],\n",
       "       [0.45643258],\n",
       "       [0.76222627],\n",
       "       [0.55359126],\n",
       "       [0.71115948],\n",
       "       [0.31546218],\n",
       "       [0.60413983],\n",
       "       [0.83761975],\n",
       "       [0.7476273 ],\n",
       "       [0.84718459],\n",
       "       [0.85934053],\n",
       "       [0.78972149],\n",
       "       [0.74365922],\n",
       "       [0.68135448],\n",
       "       [0.89668192],\n",
       "       [0.73519004],\n",
       "       [0.98720739],\n",
       "       [0.50502673],\n",
       "       [1.        ],\n",
       "       [0.93787293],\n",
       "       [0.80331364],\n",
       "       [0.94438769],\n",
       "       [0.78782629],\n",
       "       [0.70467434],\n",
       "       [0.65104606],\n",
       "       [0.44790417],\n",
       "       [0.67977021],\n",
       "       [0.53034543],\n",
       "       [0.78390263],\n",
       "       [0.3349028 ],\n",
       "       [0.87703401],\n",
       "       [0.70343061],\n",
       "       [0.6764536 ],\n",
       "       [0.7996565 ],\n",
       "       [0.6539629 ],\n",
       "       [0.73176979],\n",
       "       [0.60723434],\n",
       "       [0.67      ]])"
      ]
     },
     "execution_count": 30,
     "metadata": {},
     "output_type": "execute_result"
    }
   ],
   "source": [
    "y"
   ]
  },
  {
   "cell_type": "code",
   "execution_count": null,
   "metadata": {},
   "outputs": [],
   "source": [
    "from sklearn.metrics import mean_squared_error \n",
    "mean_squared_error(y,yHat) "
   ]
  },
  {
   "cell_type": "code",
   "execution_count": 31,
   "metadata": {},
   "outputs": [
    {
     "data": {
      "image/png": "[encoded data removed]",
      "text/plain": [
       "<Figure size 432x288 with 1 Axes>"
      ]
     },
     "metadata": {
      "needs_background": "light"
     },
     "output_type": "display_data"
    }
   ],
   "source": [
    "#Plot cost during training:\n",
    "plot.plot(y)\n",
    "plot.plot(yHat)\n",
    "plot.grid(1)\n",
    "plot.legend(['y', 'yHat'])\n",
    "plot.show()"
   ]
  },
  {
   "cell_type": "code",
   "execution_count": 32,
   "metadata": {},
   "outputs": [],
   "source": [
    "prediksi=NN.forward(dataprediksi)"
   ]
  },
  {
   "cell_type": "code",
   "execution_count": 33,
   "metadata": {},
   "outputs": [
    {
     "data": {
      "text/plain": [
       "array([[0.77970183],\n",
       "       [0.81617589],\n",
       "       [0.6958456 ],\n",
       "       [0.50457072]])"
      ]
     },
     "execution_count": 33,
     "metadata": {},
     "output_type": "execute_result"
    }
   ],
   "source": [
    "prediksi"
   ]
  },
  {
   "cell_type": "code",
   "execution_count": 34,
   "metadata": {},
   "outputs": [],
   "source": [
    "from sklearn.metrics import mean_squared_error "
   ]
  },
  {
   "cell_type": "code",
   "execution_count": 35,
   "metadata": {},
   "outputs": [
    {
     "data": {
      "text/plain": [
       "0.1313536210942686"
      ]
     },
     "execution_count": 35,
     "metadata": {},
     "output_type": "execute_result"
    }
   ],
   "source": [
    "Y_true= ([\t0.67\t]\t,\n",
    "[\t0.389745184\t]\t,\n",
    "[\t0.136735812\t]\t,\n",
    "[\t0.366973156\t]\t,\n",
    "\n",
    ")\n",
    "\n",
    "\n",
    "Y_pred=prediksi\n",
    "mean_squared_error(Y_true,Y_pred) "
   ]
  },
  {
   "cell_type": "code",
   "execution_count": 36,
   "metadata": {},
   "outputs": [
    {
     "data": {
      "text/plain": [
       "array([[0.38732394, 0.79538041, 0.67      ],\n",
       "       [0.37323944, 1.        , 0.67      ],\n",
       "       [0.36619718, 0.70768171, 0.38974518],\n",
       "       [0.44366197, 0.49169532, 0.13673581]])"
      ]
     },
     "execution_count": 36,
     "metadata": {},
     "output_type": "execute_result"
    }
   ],
   "source": [
    "dataprediksi"
   ]
  },
  {
   "cell_type": "code",
   "execution_count": 37,
   "metadata": {},
   "outputs": [],
   "source": [
    "z=np.array([0.6294\t,\t0.4578])"
   ]
  },
  {
   "cell_type": "code",
   "execution_count": 38,
   "metadata": {},
   "outputs": [],
   "source": [
    "y=np.array([\t0.366973156250463\t])"
   ]
  },
  {
   "cell_type": "code",
   "execution_count": 39,
   "metadata": {},
   "outputs": [],
   "source": [
    "a=np.concatenate((z,y))"
   ]
  },
  {
   "cell_type": "code",
   "execution_count": 40,
   "metadata": {},
   "outputs": [
    {
     "data": {
      "text/plain": [
       "array([0.55134826])"
      ]
     },
     "execution_count": 40,
     "metadata": {},
     "output_type": "execute_result"
    }
   ],
   "source": [
    "#prediksi 1\n",
    "prediksi=NN.forward(a)\n",
    "prediksi"
   ]
  },
  {
   "cell_type": "code",
   "execution_count": 41,
   "metadata": {},
   "outputs": [
    {
     "data": {
      "text/plain": [
       "array([0.61145222])"
      ]
     },
     "execution_count": 41,
     "metadata": {},
     "output_type": "execute_result"
    }
   ],
   "source": [
    "#prediksi 2\n",
    "c=prediksi\n",
    "z1=np.array([0.6795\t,\t0.4539])\n",
    "b=y[1:]\n",
    "d=np.concatenate((z1,b,c))\n",
    "prediksi=NN.forward(d)\n",
    "prediksi"
   ]
  },
  {
   "cell_type": "code",
   "execution_count": 42,
   "metadata": {},
   "outputs": [
    {
     "data": {
      "text/plain": [
       "array([0.64076808])"
      ]
     },
     "execution_count": 42,
     "metadata": {},
     "output_type": "execute_result"
    }
   ],
   "source": [
    "#prediksi 3\n",
    "c=prediksi\n",
    "z2=np.array([0.5888\t,\t0.4545])\n",
    "b=y[1:]\n",
    "d=np.concatenate((z2,b,c))\n",
    "prediksi=NN.forward(d)\n",
    "prediksi"
   ]
  },
  {
   "cell_type": "code",
   "execution_count": 43,
   "metadata": {},
   "outputs": [
    {
     "data": {
      "text/plain": [
       "array([0.65546264])"
      ]
     },
     "execution_count": 43,
     "metadata": {},
     "output_type": "execute_result"
    }
   ],
   "source": [
    "#prediksi 4\n",
    "c=prediksi\n",
    "z3=np.array([0.527\t,\t0.4555])\n",
    "b=y[1:]\n",
    "d=np.concatenate((z3,b,c))\n",
    "prediksi=NN.forward(d)\n",
    "prediksi"
   ]
  },
  {
   "cell_type": "code",
   "execution_count": 44,
   "metadata": {},
   "outputs": [
    {
     "data": {
      "text/plain": [
       "array([0.66047207])"
      ]
     },
     "execution_count": 44,
     "metadata": {},
     "output_type": "execute_result"
    }
   ],
   "source": [
    "#prediksi 5\n",
    "c=prediksi\n",
    "z4=np.array([0.4745\t,\t0.4564])\n",
    "b=y[1:]\n",
    "d=np.concatenate((z4,b,c))\n",
    "prediksi=NN.forward(d)\n",
    "prediksi"
   ]
  },
  {
   "cell_type": "code",
   "execution_count": 45,
   "metadata": {},
   "outputs": [
    {
     "data": {
      "text/plain": [
       "array([0.65359931])"
      ]
     },
     "execution_count": 45,
     "metadata": {},
     "output_type": "execute_result"
    }
   ],
   "source": [
    "#prediksi 6\n",
    "c=prediksi\n",
    "z5=np.array([0.4621\t,\t0.4571])\n",
    "b=y[1:]\n",
    "d=np.concatenate((z5,b,c))\n",
    "prediksi=NN.forward(d)\n",
    "prediksi"
   ]
  },
  {
   "cell_type": "code",
   "execution_count": null,
   "metadata": {},
   "outputs": [],
   "source": []
  }
 ],
 "metadata": {
  "kernelspec": {
   "display_name": "Python 3",
   "language": "python",
   "name": "python3"
  },
  "language_info": {
   "codemirror_mode": {
    "name": "ipython",
    "version": 3
   },
   "file_extension": ".py",
   "mimetype": "text/x-python",
   "name": "python",
   "nbconvert_exporter": "python",
   "pygments_lexer": "ipython3",
   "version": "3.7.3"
  }
 },
 "nbformat": 4,
 "nbformat_minor": 2
}
