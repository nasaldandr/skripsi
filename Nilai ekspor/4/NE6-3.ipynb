{
 "cells": [
  {
   "cell_type": "code",
   "execution_count": 1,
   "metadata": {},
   "outputs": [],
   "source": [
    "import numpy as np"
   ]
  },
  {
   "cell_type": "code",
   "execution_count": 2,
   "metadata": {},
   "outputs": [],
   "source": [
    "#UNTUK NILAI IMPOR\n",
    "class Neural_Network(object):\n",
    "    def __init__(self):\n",
    "        #parameters\n",
    "        self.inputLayerSize = 6\n",
    "        self.outputLayerSize = 1\n",
    "        self.hiddenLayerSize = 3\n",
    "\n",
    "        #weights\n",
    "        self.W1 = np.random.randn(self.inputLayerSize,\\\n",
    "                                 self.hiddenLayerSize)  \n",
    "        self.W2 = np.random.randn(self.hiddenLayerSize,\\\n",
    "                                 self.outputLayerSize)  \n",
    "    \n",
    "    def printw(self):\n",
    "        return self.W1\n",
    "        \n",
    "    def weight(self, W1, W2):\n",
    "        #Make an internal variable for the weight:\n",
    "        self.W1 = W1\n",
    "        self.W2 = W2\n",
    "        \n",
    "    def forward(self, X):\n",
    "        #forward propagation through our network\n",
    "        self.z2 = np.dot(X,self.W1)  \n",
    "        self.a2 = self.tanh(self.z2)  # activation function\n",
    "        self.z3 = np.dot(self.a2, self.W2) \n",
    "        yHat = self.tanh(self.z3)  # final activation function\n",
    "        return yHat\n",
    "\n",
    "    def tanh(self, z):\n",
    "        # activation function\n",
    "        return (np.exp(z)-np.exp(-z))/(np.exp(z)+np.exp(-z))\n",
    "    \n",
    "    def tanhPrime(self,z): \n",
    "        #derivative of tanh\n",
    "        return 1-((np.exp(z)-np.exp(-z))/(np.exp(z)+np.exp(-z)))**2\n",
    "    \n",
    "    def costFunction(self,X,y):\n",
    "        self.yHat = self.forward(X)\n",
    "        J=0.5*sum((y-self.yHat)**2)\n",
    "        return J\n",
    "    \n",
    "    def costFunctionPrime(self,X,y):\n",
    "        self.yHat=self.forward(X)\n",
    "        \n",
    "        delta3=np.multiply(-(y-self.yHat),self.tanhPrime(self.z3))\n",
    "        dJdW2=np.dot(self.a2.T,delta3)\n",
    "        \n",
    "        delta2=np.dot(delta3,self.W2.T)*self.tanhPrime(self.z2)\n",
    "        dJdW1=np.dot(X.T,delta2)\n",
    "        return dJdW1,dJdW2\n",
    "    \n",
    "    def predict(self):\n",
    "        prediksi = self.forward(dataprediksi)\n",
    "        return prediksi\n",
    "    \n",
    "    def getParams(self):\n",
    "        params=np.concatenate((self.W1.ravel(),self.W2.ravel()))\n",
    "        return params\n",
    "    \n",
    "    def setParams(self,params):\n",
    "        W1_start=0\n",
    "        W1_end=self.hiddenLayerSize*self.inputLayerSize\n",
    "        self.W1=np.reshape(params[W1_start:W1_end],\\\n",
    "                          (self.inputLayerSize,self.hiddenLayerSize))\n",
    "        W2_end=W1_end+self.hiddenLayerSize*self.outputLayerSize\n",
    "        self.W2=np.reshape(params[W1_end:W2_end],\\\n",
    "                          (self.hiddenLayerSize,self.outputLayerSize))\n",
    "        \n",
    "    def computeGradients(self, X, y):\n",
    "        dJdW1, dJdW2 = self.costFunctionPrime(X, y)\n",
    "        return np.concatenate((dJdW1.ravel(), dJdW2.ravel()))"
   ]
  },
  {
   "cell_type": "code",
   "execution_count": 3,
   "metadata": {},
   "outputs": [],
   "source": [
    "NN = Neural_Network()"
   ]
  },
  {
   "cell_type": "code",
   "execution_count": 4,
   "metadata": {},
   "outputs": [
    {
     "data": {
      "text/plain": [
       "array([[ 0.74512304, -0.88823154,  0.09864791],\n",
       "       [ 0.40748822, -0.22936911,  1.65523585],\n",
       "       [-2.53508658, -0.70580841, -3.02687129],\n",
       "       [-1.09648983,  1.25924271, -1.5154583 ],\n",
       "       [-1.3089146 ,  0.12598704, -0.55147919],\n",
       "       [ 0.74536565, -0.0324523 ,  0.34499291]])"
      ]
     },
     "execution_count": 4,
     "metadata": {},
     "output_type": "execute_result"
    }
   ],
   "source": [
    "NN.W1"
   ]
  },
  {
   "cell_type": "code",
   "execution_count": 5,
   "metadata": {},
   "outputs": [
    {
     "data": {
      "text/plain": [
       "array([[ 2.17031808],\n",
       "       [ 1.34860236],\n",
       "       [-0.84129846]])"
      ]
     },
     "execution_count": 5,
     "metadata": {},
     "output_type": "execute_result"
    }
   ],
   "source": [
    "NN.W2"
   ]
  },
  {
   "cell_type": "code",
   "execution_count": 6,
   "metadata": {},
   "outputs": [],
   "source": [
    "#NILAI IMPOR\n",
    "X=np.array(([\t0.669014085\t,\t0.170734062\t,\t0.566339448\t,\t0.263729105\t,\t0.334917603\t,\t0.529012867\t]\t,\n",
    "[\t0.697183099\t,\t0.223256598\t,\t0.263729105\t,\t0.334917603\t,\t0.529012867\t,\t0.467788981\t]\t,\n",
    "[\t0.971830986\t,\t0.241974687\t,\t0.334917603\t,\t0.529012867\t,\t0.467788981\t,\t0.588593257\t]\t,\n",
    "[\t0.591549296\t,\t0.365733465\t,\t0.529012867\t,\t0.467788981\t,\t0.588593257\t,\t0.286501133\t]\t,\n",
    "[\t0.281690141\t,\t0.552558994\t,\t0.467788981\t,\t0.588593257\t,\t0.286501133\t,\t0.473208072\t]\t,\n",
    "[\t0.26056338\t,\t0.370023519\t,\t0.588593257\t,\t0.286501133\t,\t0.473208072\t,\t0.452716208\t]\t,\n",
    "[\t0.464788732\t,\t0.332531703\t,\t0.286501133\t,\t0.473208072\t,\t0.452716208\t,\t0.383674618\t]\t,\n",
    "[\t0.992957746\t,\t0.387887522\t,\t0.473208072\t,\t0.452716208\t,\t0.383674618\t,\t0.233998134\t]\t,\n",
    "[\t0.676056338\t,\t0.398363943\t,\t0.452716208\t,\t0.383674618\t,\t0.233998134\t,\t0.353173722\t]\t,\n",
    "[\t0.253521127\t,\t0.284826299\t,\t0.383674618\t,\t0.233998134\t,\t0.353173722\t,\t0.140629858\t]\t,\n",
    "[\t0.450704225\t,\t0.186735022\t,\t0.233998134\t,\t0.353173722\t,\t0.140629858\t,\t0.263729105\t]\t,\n",
    "[\t0\t,\t0.182694768\t,\t0.353173722\t,\t0.140629858\t,\t0.263729105\t,\t0.33746428\t]\t,\n",
    "[\t0.485915493\t,\t0.255617002\t,\t0.140629858\t,\t0.263729105\t,\t0.33746428\t,\t0.287996565\t]\t,\n",
    "[\t0.781690141\t,\t0.23597043\t,\t0.263729105\t,\t0.33746428\t,\t0.287996565\t,\t0.509868372\t]\t,\n",
    "[\t0.802816901\t,\t0.164134134\t,\t0.33746428\t,\t0.287996565\t,\t0.509868372\t,\t0.509868372\t]\t,\n",
    "[\t0.302816901\t,\t0.178176635\t,\t0.287996565\t,\t0.509868372\t,\t0.509868372\t,\t0\t]\t,\n",
    "[\t0.471830986\t,\t0.163956101\t,\t0.509868372\t,\t0.509868372\t,\t0\t,\t0.476391418\t]\t,\n",
    "[\t0.415492958\t,\t0.133241484\t,\t0.509868372\t,\t0\t,\t0.476391418\t,\t0.449769763\t]\t,\n",
    "[\t0.647887324\t,\t0.226399017\t,\t0\t,\t0.476391418\t,\t0.449769763\t,\t0.46613068\t]\t,\n",
    "[\t0.612676056\t,\t0.255013861\t,\t0.476391418\t,\t0.449769763\t,\t0.46613068\t,\t0.588223101\t]\t,\n",
    "[\t1\t,\t0.23708614\t,\t0.449769763\t,\t0.46613068\t,\t0.588223101\t,\t0.636358252\t]\t,\n",
    "[\t0.478873239\t,\t0.231651119\t,\t0.46613068\t,\t0.588223101\t,\t0.636358252\t,\t0.573135522\t]\t,\n",
    "[\t0.302816901\t,\t0.233067608\t,\t0.588223101\t,\t0.636358252\t,\t0.573135522\t,\t0.45643258\t]\t,\n",
    "[\t0.38028169\t,\t0.221173719\t,\t0.636358252\t,\t0.573135522\t,\t0.45643258\t,\t0.762226269\t]\t,\n",
    "[\t0.591549296\t,\t0.22633168\t,\t0.573135522\t,\t0.45643258\t,\t0.762226269\t,\t0.553591258\t]\t,\n",
    "[\t0.802816901\t,\t0.218698642\t,\t0.45643258\t,\t0.762226269\t,\t0.553591258\t,\t0.711159478\t]\t,\n",
    "[\t0.471830986\t,\t0.232032203\t,\t0.762226269\t,\t0.553591258\t,\t0.711159478\t,\t0.315462177\t]\t,\n",
    "[\t0.267605634\t,\t0.231947948\t,\t0.553591258\t,\t0.711159478\t,\t0.315462177\t,\t0.60413983\t]\t,\n",
    "[\t0.408450704\t,\t0.221547817\t,\t0.711159478\t,\t0.315462177\t,\t0.60413983\t,\t0.837619746\t]\t,\n",
    "[\t0.323943662\t,\t0.287958581\t,\t0.315462177\t,\t0.60413983\t,\t0.837619746\t,\t0.747627297\t]\t,\n",
    "[\t0.457746479\t,\t0.28837327\t,\t0.60413983\t,\t0.837619746\t,\t0.747627297\t,\t0.84718459\t]\t,\n",
    "[\t0.816901408\t,\t0.297145757\t,\t0.837619746\t,\t0.747627297\t,\t0.84718459\t,\t0.859340529\t]\t,\n",
    "[\t0.753521127\t,\t0.243669818\t,\t0.747627297\t,\t0.84718459\t,\t0.859340529\t,\t0.789721494\t]\t,\n",
    "[\t0.436619718\t,\t0.307437314\t,\t0.84718459\t,\t0.859340529\t,\t0.789721494\t,\t0.743659219\t]\t,\n",
    "[\t0.457746479\t,\t0.358597855\t,\t0.859340529\t,\t0.789721494\t,\t0.743659219\t,\t0.681354477\t]\t,\n",
    "[\t0.387323944\t,\t0.372181217\t,\t0.789721494\t,\t0.743659219\t,\t0.681354477\t,\t0.896681917\t]\t,\n",
    "[\t0.464788732\t,\t0.450259481\t,\t0.743659219\t,\t0.681354477\t,\t0.896681917\t,\t0.735190038\t]\t,\n",
    "[\t0.732394366\t,\t0.443095634\t,\t0.681354477\t,\t0.896681917\t,\t0.735190038\t,\t0.987207391\t]\t,\n",
    "[\t0.514084507\t,\t0.558155976\t,\t0.896681917\t,\t0.735190038\t,\t0.987207391\t,\t0.505026725\t]\t,\n",
    "[\t0.281690141\t,\t0.602359827\t,\t0.735190038\t,\t0.987207391\t,\t0.505026725\t,\t1\t]\t,\n",
    "[\t0.190140845\t,\t0.696291723\t,\t0.987207391\t,\t0.505026725\t,\t1\t,\t0.937872933\t]\t,\n",
    "[\t0.514084507\t,\t0.790604671\t,\t0.505026725\t,\t1\t,\t0.937872933\t,\t0.803313641\t]\t,\n",
    "[\t0.507042254\t,\t0.644022227\t,\t1\t,\t0.937872933\t,\t0.803313641\t,\t0.944387687\t]\t,\n",
    "[\t0.753521127\t,\t0.583228643\t,\t0.937872933\t,\t0.803313641\t,\t0.944387687\t,\t0.787826293\t]\t,\n",
    "[\t0.542253521\t,\t0.481715009\t,\t0.803313641\t,\t0.944387687\t,\t0.787826293\t,\t0.704674336\t]\t,\n",
    "[\t0.26056338\t,\t0.442812107\t,\t0.944387687\t,\t0.787826293\t,\t0.704674336\t,\t0.651046062\t]\t,\n",
    "[\t0.394366197\t,\t0.496270585\t,\t0.787826293\t,\t0.704674336\t,\t0.651046062\t,\t0.447904174\t]\t,\n",
    "[\t0.626760563\t,\t0.475463393\t,\t0.704674336\t,\t0.651046062\t,\t0.447904174\t,\t0.679770207\t]\t,\n",
    "[\t0.795774648\t,\t0.551559791\t,\t0.651046062\t,\t0.447904174\t,\t0.679770207\t,\t0.53034543\t]\t,\n",
    "[\t0.704225352\t,\t0.500994351\t,\t0.447904174\t,\t0.679770207\t,\t0.53034543\t,\t0.783902634\t]\t,\n",
    "[\t0.535211268\t,\t0.445458587\t,\t0.679770207\t,\t0.53034543\t,\t0.783902634\t,\t0.334902797\t]\t,\n",
    "[\t0.401408451\t,\t0.505711667\t,\t0.53034543\t,\t0.783902634\t,\t0.334902797\t,\t0.87703401\t]\t,\n",
    "[\t0.126760563\t,\t0.465889036\t,\t0.783902634\t,\t0.334902797\t,\t0.87703401\t,\t0.70343061\t]\t,\n",
    "[\t0.330985915\t,\t0.46785659\t,\t0.334902797\t,\t0.87703401\t,\t0.70343061\t,\t0.676453605\t]\t,\n",
    "[\t0.415492958\t,\t0.453001423\t,\t0.87703401\t,\t0.70343061\t,\t0.676453605\t,\t0.799656495\t]\t,\n",
    "[\t0.556338028\t,\t0.437411724\t,\t0.70343061\t,\t0.676453605\t,\t0.799656495\t,\t0.653962896\t]\t,\n",
    "[\t0.591549296\t,\t0.350673696\t,\t0.676453605\t,\t0.799656495\t,\t0.653962896\t,\t0.731769792\t]\t,\n",
    "[\t0.514084507\t,\t0.364031312\t,\t0.799656495\t,\t0.653962896\t,\t0.731769792\t,\t0.607234339\t]\t,\n",
    "\n",
    "\n",
    ")           \n",
    ",dtype=float)\n",
    "y=np.array(([\t0.467788981\t]\t,\n",
    "[\t0.588593257\t]\t,\n",
    "[\t0.286501133\t]\t,\n",
    "[\t0.473208072\t]\t,\n",
    "[\t0.452716208\t]\t,\n",
    "[\t0.383674618\t]\t,\n",
    "[\t0.233998134\t]\t,\n",
    "[\t0.353173722\t]\t,\n",
    "[\t0.140629858\t]\t,\n",
    "[\t0.263729105\t]\t,\n",
    "[\t0.33746428\t]\t,\n",
    "[\t0.287996565\t]\t,\n",
    "[\t0.509868372\t]\t,\n",
    "[\t0.509868372\t]\t,\n",
    "[\t0\t]\t,\n",
    "[\t0.476391418\t]\t,\n",
    "[\t0.449769763\t]\t,\n",
    "[\t0.46613068\t]\t,\n",
    "[\t0.588223101\t]\t,\n",
    "[\t0.636358252\t]\t,\n",
    "[\t0.573135522\t]\t,\n",
    "[\t0.45643258\t]\t,\n",
    "[\t0.762226269\t]\t,\n",
    "[\t0.553591258\t]\t,\n",
    "[\t0.711159478\t]\t,\n",
    "[\t0.315462177\t]\t,\n",
    "[\t0.60413983\t]\t,\n",
    "[\t0.837619746\t]\t,\n",
    "[\t0.747627297\t]\t,\n",
    "[\t0.84718459\t]\t,\n",
    "[\t0.859340529\t]\t,\n",
    "[\t0.789721494\t]\t,\n",
    "[\t0.743659219\t]\t,\n",
    "[\t0.681354477\t]\t,\n",
    "[\t0.896681917\t]\t,\n",
    "[\t0.735190038\t]\t,\n",
    "[\t0.987207391\t]\t,\n",
    "[\t0.505026725\t]\t,\n",
    "[\t1\t]\t,\n",
    "[\t0.937872933\t]\t,\n",
    "[\t0.803313641\t]\t,\n",
    "[\t0.944387687\t]\t,\n",
    "[\t0.787826293\t]\t,\n",
    "[\t0.704674336\t]\t,\n",
    "[\t0.651046062\t]\t,\n",
    "[\t0.447904174\t]\t,\n",
    "[\t0.679770207\t]\t,\n",
    "[\t0.53034543\t]\t,\n",
    "[\t0.783902634\t]\t,\n",
    "[\t0.334902797\t]\t,\n",
    "[\t0.87703401\t]\t,\n",
    "[\t0.70343061\t]\t,\n",
    "[\t0.676453605\t]\t,\n",
    "[\t0.799656495\t]\t,\n",
    "[\t0.653962896\t]\t,\n",
    "[\t0.731769792\t]\t,\n",
    "[\t0.607234339\t]\t,\n",
    "[\t0.67\t]\t,\n",
    "\n",
    ")\n",
    ",dtype=float)\n",
    "\n",
    "dataprediksi = np.array(([\t0.387323944\t,\t0.795380412\t,\t0.653962896\t,\t0.731769792\t,\t0.607234339\t,\t0.67\t]\t,\n",
    "[\t0.373239437\t,\t1\t,\t0.731769792\t,\t0.607234339\t,\t0.67\t,\t0.67\t]\t,\n",
    "[\t0.366197183\t,\t0.707681705\t,\t0.607234339\t,\t0.67\t,\t0.67\t,\t0.389745184\t]\t,\n",
    "[\t0.443661972\t,\t0.491695324\t,\t0.67\t,\t0.67\t,\t0.389745184\t,\t0.136735812\t]\t,\n",
    "\n",
    "), dtype=float)\n"
   ]
  },
  {
   "cell_type": "code",
   "execution_count": 7,
   "metadata": {},
   "outputs": [],
   "source": [
    "import matplotlib.pyplot as plot"
   ]
  },
  {
   "cell_type": "code",
   "execution_count": 8,
   "metadata": {},
   "outputs": [],
   "source": [
    "from scipy import optimize"
   ]
  },
  {
   "cell_type": "code",
   "execution_count": 9,
   "metadata": {},
   "outputs": [],
   "source": [
    "class trainer(object):\n",
    "    def __init__(self, N):\n",
    "        #Make Local reference to network:\n",
    "        self.N = N\n",
    "        \n",
    "    def callbackF(self, params):\n",
    "        self.N.setParams(params)\n",
    "        self.J.append(self.N.costFunction(self.X, self.y))   \n",
    "        \n",
    "    def costFunctionWrapper(self, params, X, y):\n",
    "        self.N.setParams(params)\n",
    "        cost = self.N.costFunction(X, y)\n",
    "        grad = self.N.computeGradients(X,y)\n",
    "        \n",
    "        return cost, grad\n",
    "        \n",
    "    def train(self, X, y):\n",
    "        #Make an internal variable for the callback function:\n",
    "        self.X = X\n",
    "        self.y = y\n",
    "\n",
    "        #Make empty list to store costs:\n",
    "        self.J = []\n",
    "        \n",
    "        params0 = self.N.getParams()\n",
    "\n",
    "        options = {'maxiter': 100, 'disp' : True}\n",
    "        _res = optimize.minimize(self.costFunctionWrapper, params0, jac=True, method='BFGS', \\\n",
    "                                 args=(X, y), options=options, callback=self.callbackF)\n",
    "\n",
    "        self.N.setParams(_res.x)\n",
    "        self.optimizationResults = _res"
   ]
  },
  {
   "cell_type": "code",
   "execution_count": 10,
   "metadata": {},
   "outputs": [],
   "source": [
    "NN=Neural_Network()"
   ]
  },
  {
   "cell_type": "code",
   "execution_count": 11,
   "metadata": {},
   "outputs": [],
   "source": [
    "T = trainer(NN)"
   ]
  },
  {
   "cell_type": "code",
   "execution_count": 12,
   "metadata": {},
   "outputs": [
    {
     "name": "stdout",
     "output_type": "stream",
     "text": [
      "Warning: Maximum number of iterations has been exceeded.\n",
      "         Current function value: 0.374777\n",
      "         Iterations: 100\n",
      "         Function evaluations: 111\n",
      "         Gradient evaluations: 111\n"
     ]
    }
   ],
   "source": [
    "#Train network with new data:\n",
    "T = trainer(NN)\n",
    "T.train(X,y)"
   ]
  },
  {
   "cell_type": "code",
   "execution_count": 13,
   "metadata": {},
   "outputs": [
    {
     "data": {
      "image/png": "[encoded data removed]",
      "text/plain": [
       "<Figure size 432x288 with 1 Axes>"
      ]
     },
     "metadata": {
      "needs_background": "light"
     },
     "output_type": "display_data"
    }
   ],
   "source": [
    "#Plot cost during training:\n",
    "plot.plot(T.J)\n",
    "plot.grid(1)\n",
    "plot.xlabel('Iterations')\n",
    "plot.ylabel('Cost')\n",
    "plot.show()"
   ]
  },
  {
   "cell_type": "code",
   "execution_count": 14,
   "metadata": {},
   "outputs": [],
   "source": [
    "#Training Data:\n",
    "trainX = np.array(([\t0.669014085\t,\t0.170734062\t,\t0.566339448\t,\t0.263729105\t,\t0.334917603\t,\t0.529012867\t]\t,\n",
    "[\t0.697183099\t,\t0.223256598\t,\t0.263729105\t,\t0.334917603\t,\t0.529012867\t,\t0.467788981\t]\t,\n",
    "[\t0.971830986\t,\t0.241974687\t,\t0.334917603\t,\t0.529012867\t,\t0.467788981\t,\t0.588593257\t]\t,\n",
    "[\t0.591549296\t,\t0.365733465\t,\t0.529012867\t,\t0.467788981\t,\t0.588593257\t,\t0.286501133\t]\t,\n",
    "[\t0.281690141\t,\t0.552558994\t,\t0.467788981\t,\t0.588593257\t,\t0.286501133\t,\t0.473208072\t]\t,\n",
    "[\t0.26056338\t,\t0.370023519\t,\t0.588593257\t,\t0.286501133\t,\t0.473208072\t,\t0.452716208\t]\t,\n",
    "[\t0.464788732\t,\t0.332531703\t,\t0.286501133\t,\t0.473208072\t,\t0.452716208\t,\t0.383674618\t]\t,\n",
    "[\t0.992957746\t,\t0.387887522\t,\t0.473208072\t,\t0.452716208\t,\t0.383674618\t,\t0.233998134\t]\t,\n",
    "[\t0.676056338\t,\t0.398363943\t,\t0.452716208\t,\t0.383674618\t,\t0.233998134\t,\t0.353173722\t]\t,\n",
    "[\t0.253521127\t,\t0.284826299\t,\t0.383674618\t,\t0.233998134\t,\t0.353173722\t,\t0.140629858\t]\t,\n",
    "[\t0.450704225\t,\t0.186735022\t,\t0.233998134\t,\t0.353173722\t,\t0.140629858\t,\t0.263729105\t]\t,\n",
    "[\t0\t,\t0.182694768\t,\t0.353173722\t,\t0.140629858\t,\t0.263729105\t,\t0.33746428\t]\t,\n",
    "[\t0.485915493\t,\t0.255617002\t,\t0.140629858\t,\t0.263729105\t,\t0.33746428\t,\t0.287996565\t]\t,\n",
    "[\t0.781690141\t,\t0.23597043\t,\t0.263729105\t,\t0.33746428\t,\t0.287996565\t,\t0.509868372\t]\t,\n",
    "[\t0.802816901\t,\t0.164134134\t,\t0.33746428\t,\t0.287996565\t,\t0.509868372\t,\t0.509868372\t]\t,\n",
    "[\t0.302816901\t,\t0.178176635\t,\t0.287996565\t,\t0.509868372\t,\t0.509868372\t,\t0\t]\t,\n",
    "[\t0.471830986\t,\t0.163956101\t,\t0.509868372\t,\t0.509868372\t,\t0\t,\t0.476391418\t]\t,\n",
    "[\t0.415492958\t,\t0.133241484\t,\t0.509868372\t,\t0\t,\t0.476391418\t,\t0.449769763\t]\t,\n",
    "[\t0.647887324\t,\t0.226399017\t,\t0\t,\t0.476391418\t,\t0.449769763\t,\t0.46613068\t]\t,\n",
    "[\t0.612676056\t,\t0.255013861\t,\t0.476391418\t,\t0.449769763\t,\t0.46613068\t,\t0.588223101\t]\t,\n",
    "[\t1\t,\t0.23708614\t,\t0.449769763\t,\t0.46613068\t,\t0.588223101\t,\t0.636358252\t]\t,\n",
    "[\t0.478873239\t,\t0.231651119\t,\t0.46613068\t,\t0.588223101\t,\t0.636358252\t,\t0.573135522\t]\t,\n",
    "[\t0.302816901\t,\t0.233067608\t,\t0.588223101\t,\t0.636358252\t,\t0.573135522\t,\t0.45643258\t]\t,\n",
    "[\t0.38028169\t,\t0.221173719\t,\t0.636358252\t,\t0.573135522\t,\t0.45643258\t,\t0.762226269\t]\t,\n",
    "[\t0.591549296\t,\t0.22633168\t,\t0.573135522\t,\t0.45643258\t,\t0.762226269\t,\t0.553591258\t]\t,\n",
    "[\t0.802816901\t,\t0.218698642\t,\t0.45643258\t,\t0.762226269\t,\t0.553591258\t,\t0.711159478\t]\t,\n",
    "[\t0.471830986\t,\t0.232032203\t,\t0.762226269\t,\t0.553591258\t,\t0.711159478\t,\t0.315462177\t]\t,\n",
    "[\t0.267605634\t,\t0.231947948\t,\t0.553591258\t,\t0.711159478\t,\t0.315462177\t,\t0.60413983\t]\t,\n",
    "[\t0.408450704\t,\t0.221547817\t,\t0.711159478\t,\t0.315462177\t,\t0.60413983\t,\t0.837619746\t]\t,\n",
    "[\t0.323943662\t,\t0.287958581\t,\t0.315462177\t,\t0.60413983\t,\t0.837619746\t,\t0.747627297\t]\t,\n",
    "[\t0.457746479\t,\t0.28837327\t,\t0.60413983\t,\t0.837619746\t,\t0.747627297\t,\t0.84718459\t]\t,\n",
    "[\t0.816901408\t,\t0.297145757\t,\t0.837619746\t,\t0.747627297\t,\t0.84718459\t,\t0.859340529\t]\t,\n",
    "[\t0.753521127\t,\t0.243669818\t,\t0.747627297\t,\t0.84718459\t,\t0.859340529\t,\t0.789721494\t]\t,\n",
    "[\t0.436619718\t,\t0.307437314\t,\t0.84718459\t,\t0.859340529\t,\t0.789721494\t,\t0.743659219\t]\t,\n",
    "[\t0.457746479\t,\t0.358597855\t,\t0.859340529\t,\t0.789721494\t,\t0.743659219\t,\t0.681354477\t]\t,\n",
    "[\t0.387323944\t,\t0.372181217\t,\t0.789721494\t,\t0.743659219\t,\t0.681354477\t,\t0.896681917\t]\t,\n",
    "[\t0.464788732\t,\t0.450259481\t,\t0.743659219\t,\t0.681354477\t,\t0.896681917\t,\t0.735190038\t]\t,\n",
    "[\t0.732394366\t,\t0.443095634\t,\t0.681354477\t,\t0.896681917\t,\t0.735190038\t,\t0.987207391\t]\t,\n",
    "[\t0.514084507\t,\t0.558155976\t,\t0.896681917\t,\t0.735190038\t,\t0.987207391\t,\t0.505026725\t]\t,\n",
    "[\t0.281690141\t,\t0.602359827\t,\t0.735190038\t,\t0.987207391\t,\t0.505026725\t,\t1\t]\t,\n",
    "[\t0.190140845\t,\t0.696291723\t,\t0.987207391\t,\t0.505026725\t,\t1\t,\t0.937872933\t]\t,\n",
    "[\t0.514084507\t,\t0.790604671\t,\t0.505026725\t,\t1\t,\t0.937872933\t,\t0.803313641\t]\t,\n",
    "[\t0.507042254\t,\t0.644022227\t,\t1\t,\t0.937872933\t,\t0.803313641\t,\t0.944387687\t]\t,\n",
    "[\t0.753521127\t,\t0.583228643\t,\t0.937872933\t,\t0.803313641\t,\t0.944387687\t,\t0.787826293\t]\t,\n",
    "[\t0.542253521\t,\t0.481715009\t,\t0.803313641\t,\t0.944387687\t,\t0.787826293\t,\t0.704674336\t]\t,\n",
    "\n",
    ")\n",
    ", dtype=float)\n",
    "trainY = np.array(([\t0.467788981\t]\t,\n",
    "[\t0.588593257\t]\t,\n",
    "[\t0.286501133\t]\t,\n",
    "[\t0.473208072\t]\t,\n",
    "[\t0.452716208\t]\t,\n",
    "[\t0.383674618\t]\t,\n",
    "[\t0.233998134\t]\t,\n",
    "[\t0.353173722\t]\t,\n",
    "[\t0.140629858\t]\t,\n",
    "[\t0.263729105\t]\t,\n",
    "[\t0.33746428\t]\t,\n",
    "[\t0.287996565\t]\t,\n",
    "[\t0.509868372\t]\t,\n",
    "[\t0.509868372\t]\t,\n",
    "[\t0\t]\t,\n",
    "[\t0.476391418\t]\t,\n",
    "[\t0.449769763\t]\t,\n",
    "[\t0.46613068\t]\t,\n",
    "[\t0.588223101\t]\t,\n",
    "[\t0.636358252\t]\t,\n",
    "[\t0.573135522\t]\t,\n",
    "[\t0.45643258\t]\t,\n",
    "[\t0.762226269\t]\t,\n",
    "[\t0.553591258\t]\t,\n",
    "[\t0.711159478\t]\t,\n",
    "[\t0.315462177\t]\t,\n",
    "[\t0.60413983\t]\t,\n",
    "[\t0.837619746\t]\t,\n",
    "[\t0.747627297\t]\t,\n",
    "[\t0.84718459\t]\t,\n",
    "[\t0.859340529\t]\t,\n",
    "[\t0.789721494\t]\t,\n",
    "[\t0.743659219\t]\t,\n",
    "[\t0.681354477\t]\t,\n",
    "[\t0.896681917\t]\t,\n",
    "[\t0.735190038\t]\t,\n",
    "[\t0.987207391\t]\t,\n",
    "[\t0.505026725\t]\t,\n",
    "[\t1\t]\t,\n",
    "[\t0.937872933\t]\t,\n",
    "[\t0.803313641\t]\t,\n",
    "[\t0.944387687\t]\t,\n",
    "[\t0.787826293\t]\t,\n",
    "[\t0.704674336\t]\t,\n",
    "[\t0.651046062\t]\t,\n",
    "\n",
    ")\n",
    ", dtype=float)\n",
    "\n",
    "#Testing Data:\n",
    "testX = np.array(([\t0.26056338\t,\t0.442812107\t,\t0.944387687\t,\t0.787826293\t,\t0.704674336\t,\t0.651046062\t]\t,\n",
    "[\t0.394366197\t,\t0.496270585\t,\t0.787826293\t,\t0.704674336\t,\t0.651046062\t,\t0.447904174\t]\t,\n",
    "[\t0.626760563\t,\t0.475463393\t,\t0.704674336\t,\t0.651046062\t,\t0.447904174\t,\t0.679770207\t]\t,\n",
    "[\t0.795774648\t,\t0.551559791\t,\t0.651046062\t,\t0.447904174\t,\t0.679770207\t,\t0.53034543\t]\t,\n",
    "[\t0.704225352\t,\t0.500994351\t,\t0.447904174\t,\t0.679770207\t,\t0.53034543\t,\t0.783902634\t]\t,\n",
    "[\t0.535211268\t,\t0.445458587\t,\t0.679770207\t,\t0.53034543\t,\t0.783902634\t,\t0.334902797\t]\t,\n",
    "[\t0.401408451\t,\t0.505711667\t,\t0.53034543\t,\t0.783902634\t,\t0.334902797\t,\t0.87703401\t]\t,\n",
    "[\t0.126760563\t,\t0.465889036\t,\t0.783902634\t,\t0.334902797\t,\t0.87703401\t,\t0.70343061\t]\t,\n",
    "[\t0.330985915\t,\t0.46785659\t,\t0.334902797\t,\t0.87703401\t,\t0.70343061\t,\t0.676453605\t]\t,\n",
    "[\t0.415492958\t,\t0.453001423\t,\t0.87703401\t,\t0.70343061\t,\t0.676453605\t,\t0.799656495\t]\t,\n",
    "[\t0.556338028\t,\t0.437411724\t,\t0.70343061\t,\t0.676453605\t,\t0.799656495\t,\t0.653962896\t]\t,\n",
    "[\t0.591549296\t,\t0.350673696\t,\t0.676453605\t,\t0.799656495\t,\t0.653962896\t,\t0.731769792\t]\t,\n",
    "[\t0.514084507\t,\t0.364031312\t,\t0.799656495\t,\t0.653962896\t,\t0.731769792\t,\t0.607234339\t]\t,\n",
    "\n",
    ")\n",
    ", dtype=float)\n",
    "testY = np.array(([\t0.447904174\t]\t,\n",
    "[\t0.679770207\t]\t,\n",
    "[\t0.53034543\t]\t,\n",
    "[\t0.783902634\t]\t,\n",
    "[\t0.334902797\t]\t,\n",
    "[\t0.87703401\t]\t,\n",
    "[\t0.70343061\t]\t,\n",
    "[\t0.676453605\t]\t,\n",
    "[\t0.799656495\t]\t,\n",
    "[\t0.653962896\t]\t,\n",
    "[\t0.731769792\t]\t,\n",
    "[\t0.607234339\t]\t,\n",
    "[\t0.67\t]\t,\n",
    "\n",
    ")\n",
    ", dtype=float)\n",
    "\n",
    "\n",
    "dataprediksi = np.array(([\t0.387323944\t,\t0.795380412\t,\t0.653962896\t,\t0.731769792\t,\t0.607234339\t,\t0.67\t]\t,\n",
    "[\t0.373239437\t,\t1\t,\t0.731769792\t,\t0.607234339\t,\t0.67\t,\t0.67\t]\t,\n",
    "[\t0.366197183\t,\t0.707681705\t,\t0.607234339\t,\t0.67\t,\t0.67\t,\t0.389745184\t]\t,\n",
    "[\t0.443661972\t,\t0.491695324\t,\t0.67\t,\t0.67\t,\t0.389745184\t,\t0.136735812\t]\t,\n",
    "\n",
    "), dtype=float)"
   ]
  },
  {
   "cell_type": "code",
   "execution_count": 15,
   "metadata": {},
   "outputs": [
    {
     "data": {
      "text/plain": [
       "array([[0.26056338, 0.44281211, 0.94438769, 0.78782629, 0.70467434,\n",
       "        0.65104606],\n",
       "       [0.3943662 , 0.49627058, 0.78782629, 0.70467434, 0.65104606,\n",
       "        0.44790417],\n",
       "       [0.62676056, 0.47546339, 0.70467434, 0.65104606, 0.44790417,\n",
       "        0.67977021],\n",
       "       [0.79577465, 0.55155979, 0.65104606, 0.44790417, 0.67977021,\n",
       "        0.53034543],\n",
       "       [0.70422535, 0.50099435, 0.44790417, 0.67977021, 0.53034543,\n",
       "        0.78390263],\n",
       "       [0.53521127, 0.44545859, 0.67977021, 0.53034543, 0.78390263,\n",
       "        0.3349028 ],\n",
       "       [0.40140845, 0.50571167, 0.53034543, 0.78390263, 0.3349028 ,\n",
       "        0.87703401],\n",
       "       [0.12676056, 0.46588904, 0.78390263, 0.3349028 , 0.87703401,\n",
       "        0.70343061],\n",
       "       [0.33098592, 0.46785659, 0.3349028 , 0.87703401, 0.70343061,\n",
       "        0.6764536 ],\n",
       "       [0.41549296, 0.45300142, 0.87703401, 0.70343061, 0.6764536 ,\n",
       "        0.7996565 ],\n",
       "       [0.55633803, 0.43741172, 0.70343061, 0.6764536 , 0.7996565 ,\n",
       "        0.6539629 ],\n",
       "       [0.5915493 , 0.3506737 , 0.6764536 , 0.7996565 , 0.6539629 ,\n",
       "        0.73176979],\n",
       "       [0.51408451, 0.36403131, 0.7996565 , 0.6539629 , 0.73176979,\n",
       "        0.60723434]])"
      ]
     },
     "execution_count": 15,
     "metadata": {},
     "output_type": "execute_result"
    }
   ],
   "source": [
    "testX"
   ]
  },
  {
   "cell_type": "code",
   "execution_count": 16,
   "metadata": {},
   "outputs": [],
   "source": [
    "##Need to modify trainer class a bit to check testing error during training:\n",
    "class trainer(object):\n",
    "    def __init__(self, N):\n",
    "        #Make Local reference to network:\n",
    "        self.N = N\n",
    "        \n",
    "    def callbackF(self, params):\n",
    "        self.N.setParams(params)\n",
    "        self.J.append(self.N.costFunction(self.X, self.y))\n",
    "        self.testJ.append(self.N.costFunction(self.testX, self.testY))\n",
    "        \n",
    "    def costFunctionWrapper(self, params, X, y):\n",
    "        self.N.setParams(params)\n",
    "        cost = self.N.costFunction(X, y)\n",
    "        grad = self.N.computeGradients(X,y)\n",
    "        \n",
    "        return cost, grad\n",
    "        \n",
    "    def train(self, trainX, trainY, testX, testY):\n",
    "        #Make an internal variable for the callback function:\n",
    "        self.X = trainX\n",
    "        self.y = trainY\n",
    "        \n",
    "        self.testX = testX\n",
    "        self.testY = testY\n",
    "\n",
    "        #Make empty list to store training costs:\n",
    "        self.J = []\n",
    "        self.testJ = []\n",
    "        \n",
    "        params0 = self.N.getParams()\n",
    "\n",
    "        options = {'maxiter': 100, 'disp' : True}\n",
    "        _res = optimize.minimize(self.costFunctionWrapper, params0, jac=True, method='BFGS', \\\n",
    "                                 args=(trainX, trainY), options=options, callback=self.callbackF)\n",
    "\n",
    "        self.N.setParams(_res.x)\n",
    "        self.optimizationResults = _res"
   ]
  },
  {
   "cell_type": "code",
   "execution_count": 17,
   "metadata": {},
   "outputs": [
    {
     "name": "stdout",
     "output_type": "stream",
     "text": [
      "Warning: Maximum number of iterations has been exceeded.\n",
      "         Current function value: 0.309690\n",
      "         Iterations: 100\n",
      "         Function evaluations: 121\n",
      "         Gradient evaluations: 121\n"
     ]
    }
   ],
   "source": [
    "#Train network with new data:\n",
    "NN = Neural_Network()\n",
    "\n",
    "T = trainer(NN)\n",
    "T.train(trainX, trainY, testX, testY)"
   ]
  },
  {
   "cell_type": "code",
   "execution_count": 18,
   "metadata": {},
   "outputs": [
    {
     "data": {
      "image/png": "[encoded data removed]",
      "text/plain": [
       "<Figure size 432x288 with 1 Axes>"
      ]
     },
     "metadata": {
      "needs_background": "light"
     },
     "output_type": "display_data"
    }
   ],
   "source": [
    "#Plot cost during training:\n",
    "plot.plot(T.J)\n",
    "plot.plot(T.testJ)\n",
    "plot.grid(1)\n",
    "plot.xlabel('Iterations')\n",
    "plot.ylabel('Cost')\n",
    "plot.legend(['Training', 'Testing'])\n",
    "plot.show()"
   ]
  },
  {
   "cell_type": "code",
   "execution_count": 19,
   "metadata": {},
   "outputs": [
    {
     "data": {
      "text/plain": [
       "[array([1.43339612]),\n",
       " array([1.43261568]),\n",
       " array([1.31924132]),\n",
       " array([1.16933798]),\n",
       " array([1.08206601]),\n",
       " array([1.06216418]),\n",
       " array([1.04507514]),\n",
       " array([0.633929]),\n",
       " array([0.63114288]),\n",
       " array([0.62626393]),\n",
       " array([0.6173124]),\n",
       " array([0.60131885]),\n",
       " array([0.57597516]),\n",
       " array([0.55720622]),\n",
       " array([0.54562849]),\n",
       " array([0.53319141]),\n",
       " array([0.51510203]),\n",
       " array([0.51216714]),\n",
       " array([0.50828704]),\n",
       " array([0.50523958]),\n",
       " array([0.5015101]),\n",
       " array([0.49565501]),\n",
       " array([0.49047779]),\n",
       " array([0.48480417]),\n",
       " array([0.48096633]),\n",
       " array([0.4792611]),\n",
       " array([0.47644874]),\n",
       " array([0.47233018]),\n",
       " array([0.47077163]),\n",
       " array([0.46862935]),\n",
       " array([0.46584852]),\n",
       " array([0.46083697]),\n",
       " array([0.45212283]),\n",
       " array([0.4439996]),\n",
       " array([0.44180372]),\n",
       " array([0.43857718]),\n",
       " array([0.43328731]),\n",
       " array([0.42792998]),\n",
       " array([0.42466159]),\n",
       " array([0.41939494]),\n",
       " array([0.41065648]),\n",
       " array([0.39921774]),\n",
       " array([0.3913709]),\n",
       " array([0.38471768]),\n",
       " array([0.37751783]),\n",
       " array([0.37554337]),\n",
       " array([0.37382294]),\n",
       " array([0.37174925]),\n",
       " array([0.36839783]),\n",
       " array([0.3627844]),\n",
       " array([0.35618617]),\n",
       " array([0.35366211]),\n",
       " array([0.35135306]),\n",
       " array([0.34990226]),\n",
       " array([0.34927809]),\n",
       " array([0.34817473]),\n",
       " array([0.34624493]),\n",
       " array([0.34310929]),\n",
       " array([0.33888505]),\n",
       " array([0.33599369]),\n",
       " array([0.33340144]),\n",
       " array([0.33248538]),\n",
       " array([0.33172819]),\n",
       " array([0.33132284]),\n",
       " array([0.33100508]),\n",
       " array([0.33049926]),\n",
       " array([0.32968157]),\n",
       " array([0.3285098]),\n",
       " array([0.32744645]),\n",
       " array([0.32660918]),\n",
       " array([0.32595154]),\n",
       " array([0.32527472]),\n",
       " array([0.32415374]),\n",
       " array([0.32251975]),\n",
       " array([0.3215827]),\n",
       " array([0.32131472]),\n",
       " array([0.3210136]),\n",
       " array([0.32050694]),\n",
       " array([0.31963307]),\n",
       " array([0.31811782]),\n",
       " array([0.31574369]),\n",
       " array([0.3142921]),\n",
       " array([0.31383907]),\n",
       " array([0.31347475]),\n",
       " array([0.31320865]),\n",
       " array([0.31302754]),\n",
       " array([0.31294366]),\n",
       " array([0.3128044]),\n",
       " array([0.31258452]),\n",
       " array([0.31229679]),\n",
       " array([0.31203315]),\n",
       " array([0.31169152]),\n",
       " array([0.31145856]),\n",
       " array([0.31124615]),\n",
       " array([0.31101201]),\n",
       " array([0.31076205]),\n",
       " array([0.31051851]),\n",
       " array([0.31024516]),\n",
       " array([0.30994019]),\n",
       " array([0.30969043])]"
      ]
     },
     "execution_count": 19,
     "metadata": {},
     "output_type": "execute_result"
    }
   ],
   "source": [
    "T.J"
   ]
  },
  {
   "cell_type": "code",
   "execution_count": 20,
   "metadata": {},
   "outputs": [
    {
     "data": {
      "text/plain": [
       "[array([0.12529361]),\n",
       " array([0.12692957]),\n",
       " array([0.13157149]),\n",
       " array([0.13481499]),\n",
       " array([0.14907092]),\n",
       " array([0.16814987]),\n",
       " array([0.15229457]),\n",
       " array([0.15065419]),\n",
       " array([0.1520973]),\n",
       " array([0.15160333]),\n",
       " array([0.15201871]),\n",
       " array([0.15684367]),\n",
       " array([0.16811769]),\n",
       " array([0.20138445]),\n",
       " array([0.20129574]),\n",
       " array([0.19508639]),\n",
       " array([0.17268337]),\n",
       " array([0.15099185]),\n",
       " array([0.1529975]),\n",
       " array([0.16085527]),\n",
       " array([0.15907948]),\n",
       " array([0.15596258]),\n",
       " array([0.14243491]),\n",
       " array([0.14247857]),\n",
       " array([0.13957964]),\n",
       " array([0.13451067]),\n",
       " array([0.13459509]),\n",
       " array([0.1375062]),\n",
       " array([0.13570284]),\n",
       " array([0.13961673]),\n",
       " array([0.14081606]),\n",
       " array([0.14151132]),\n",
       " array([0.14351594]),\n",
       " array([0.1496838]),\n",
       " array([0.15703588]),\n",
       " array([0.15526984]),\n",
       " array([0.15011562]),\n",
       " array([0.14029146]),\n",
       " array([0.13067765]),\n",
       " array([0.12112339]),\n",
       " array([0.11447565]),\n",
       " array([0.12106877]),\n",
       " array([0.12684177]),\n",
       " array([0.13051355]),\n",
       " array([0.12645582]),\n",
       " array([0.13367192]),\n",
       " array([0.13317801]),\n",
       " array([0.13176821]),\n",
       " array([0.1323904]),\n",
       " array([0.1379745]),\n",
       " array([0.14606069]),\n",
       " array([0.15117638]),\n",
       " array([0.15754224]),\n",
       " array([0.15929835]),\n",
       " array([0.17702164]),\n",
       " array([0.17458238]),\n",
       " array([0.17298709]),\n",
       " array([0.17162961]),\n",
       " array([0.17192505]),\n",
       " array([0.17424831]),\n",
       " array([0.18023407]),\n",
       " array([0.17682058]),\n",
       " array([0.17589762]),\n",
       " array([0.17491002]),\n",
       " array([0.17492861]),\n",
       " array([0.17587832]),\n",
       " array([0.17685648]),\n",
       " array([0.17863693]),\n",
       " array([0.17838661]),\n",
       " array([0.17721573]),\n",
       " array([0.17404455]),\n",
       " array([0.17401028]),\n",
       " array([0.17329945]),\n",
       " array([0.17278781]),\n",
       " array([0.17250739]),\n",
       " array([0.17507125]),\n",
       " array([0.17469286]),\n",
       " array([0.1751503]),\n",
       " array([0.17610361]),\n",
       " array([0.1774698]),\n",
       " array([0.17914449]),\n",
       " array([0.18100415]),\n",
       " array([0.17917361]),\n",
       " array([0.17364701]),\n",
       " array([0.17042249]),\n",
       " array([0.170232]),\n",
       " array([0.16986361]),\n",
       " array([0.16876808]),\n",
       " array([0.16688376]),\n",
       " array([0.16409991]),\n",
       " array([0.16197707]),\n",
       " array([0.15980308]),\n",
       " array([0.15878217]),\n",
       " array([0.15840309]),\n",
       " array([0.15803448]),\n",
       " array([0.1577951]),\n",
       " array([0.157128]),\n",
       " array([0.15677042]),\n",
       " array([0.15593125]),\n",
       " array([0.15648925])]"
      ]
     },
     "execution_count": 20,
     "metadata": {},
     "output_type": "execute_result"
    }
   ],
   "source": [
    "T.testJ"
   ]
  },
  {
   "cell_type": "code",
   "execution_count": 21,
   "metadata": {},
   "outputs": [
    {
     "data": {
      "text/plain": [
       "0.2941978834969631"
      ]
     },
     "execution_count": 21,
     "metadata": {},
     "output_type": "execute_result"
    }
   ],
   "source": [
    "from sklearn.metrics import mean_absolute_error\n",
    "mean_absolute_error(T.J, T.testJ)"
   ]
  },
  {
   "cell_type": "code",
   "execution_count": 22,
   "metadata": {},
   "outputs": [],
   "source": [
    "yHat = NN.forward(X)"
   ]
  },
  {
   "cell_type": "code",
   "execution_count": 23,
   "metadata": {},
   "outputs": [
    {
     "data": {
      "text/plain": [
       "array([[0.46840958],\n",
       "       [0.48588181],\n",
       "       [0.35372502],\n",
       "       [0.43831967],\n",
       "       [0.43532767],\n",
       "       [0.50368434],\n",
       "       [0.55032543],\n",
       "       [0.29507127],\n",
       "       [0.17814839],\n",
       "       [0.27376715],\n",
       "       [0.23908982],\n",
       "       [0.33095493],\n",
       "       [0.51117998],\n",
       "       [0.39708537],\n",
       "       [0.37387554],\n",
       "       [0.46672052],\n",
       "       [0.47823339],\n",
       "       [0.42905559],\n",
       "       [0.59019456],\n",
       "       [0.4891972 ],\n",
       "       [0.34274192],\n",
       "       [0.65118192],\n",
       "       [0.75041584],\n",
       "       [0.74074686],\n",
       "       [0.69868819],\n",
       "       [0.32649525],\n",
       "       [0.69564193],\n",
       "       [0.7287276 ],\n",
       "       [0.70069454],\n",
       "       [0.75217642],\n",
       "       [0.76761843],\n",
       "       [0.72812391],\n",
       "       [0.70026986],\n",
       "       [0.77233573],\n",
       "       [0.76532145],\n",
       "       [0.80089123],\n",
       "       [0.84227089],\n",
       "       [0.54893685],\n",
       "       [0.82139724],\n",
       "       [0.86082881],\n",
       "       [0.72454273],\n",
       "       [0.85994764],\n",
       "       [0.83996356],\n",
       "       [0.76416404],\n",
       "       [0.7662123 ],\n",
       "       [0.71297761],\n",
       "       [0.73652603],\n",
       "       [0.56617619],\n",
       "       [0.52007195],\n",
       "       [0.62885512],\n",
       "       [0.66737383],\n",
       "       [0.68016997],\n",
       "       [0.68688947],\n",
       "       [0.70895488],\n",
       "       [0.76993937],\n",
       "       [0.75706818],\n",
       "       [0.69309924],\n",
       "       [0.75886753]])"
      ]
     },
     "execution_count": 23,
     "metadata": {},
     "output_type": "execute_result"
    }
   ],
   "source": [
    "yHat"
   ]
  },
  {
   "cell_type": "code",
   "execution_count": 24,
   "metadata": {},
   "outputs": [
    {
     "data": {
      "text/plain": [
       "array([[0.46778898],\n",
       "       [0.58859326],\n",
       "       [0.28650113],\n",
       "       [0.47320807],\n",
       "       [0.45271621],\n",
       "       [0.38367462],\n",
       "       [0.23399813],\n",
       "       [0.35317372],\n",
       "       [0.14062986],\n",
       "       [0.26372911],\n",
       "       [0.33746428],\n",
       "       [0.28799656],\n",
       "       [0.50986837],\n",
       "       [0.50986837],\n",
       "       [0.        ],\n",
       "       [0.47639142],\n",
       "       [0.44976976],\n",
       "       [0.46613068],\n",
       "       [0.5882231 ],\n",
       "       [0.63635825],\n",
       "       [0.57313552],\n",
       "       [0.45643258],\n",
       "       [0.76222627],\n",
       "       [0.55359126],\n",
       "       [0.71115948],\n",
       "       [0.31546218],\n",
       "       [0.60413983],\n",
       "       [0.83761975],\n",
       "       [0.7476273 ],\n",
       "       [0.84718459],\n",
       "       [0.85934053],\n",
       "       [0.78972149],\n",
       "       [0.74365922],\n",
       "       [0.68135448],\n",
       "       [0.89668192],\n",
       "       [0.73519004],\n",
       "       [0.98720739],\n",
       "       [0.50502673],\n",
       "       [1.        ],\n",
       "       [0.93787293],\n",
       "       [0.80331364],\n",
       "       [0.94438769],\n",
       "       [0.78782629],\n",
       "       [0.70467434],\n",
       "       [0.65104606],\n",
       "       [0.44790417],\n",
       "       [0.67977021],\n",
       "       [0.53034543],\n",
       "       [0.78390263],\n",
       "       [0.3349028 ],\n",
       "       [0.87703401],\n",
       "       [0.70343061],\n",
       "       [0.6764536 ],\n",
       "       [0.7996565 ],\n",
       "       [0.6539629 ],\n",
       "       [0.73176979],\n",
       "       [0.60723434],\n",
       "       [0.67      ]])"
      ]
     },
     "execution_count": 24,
     "metadata": {},
     "output_type": "execute_result"
    }
   ],
   "source": [
    "y"
   ]
  },
  {
   "cell_type": "code",
   "execution_count": 25,
   "metadata": {},
   "outputs": [
    {
     "data": {
      "text/plain": [
       "0.01607516130749264"
      ]
     },
     "execution_count": 25,
     "metadata": {},
     "output_type": "execute_result"
    }
   ],
   "source": [
    "from sklearn.metrics import mean_squared_error \n",
    "mean_squared_error(y,yHat) "
   ]
  },
  {
   "cell_type": "code",
   "execution_count": 26,
   "metadata": {},
   "outputs": [
    {
     "data": {
      "image/png": "[encoded data removed]",
      "text/plain": [
       "<Figure size 432x288 with 1 Axes>"
      ]
     },
     "metadata": {
      "needs_background": "light"
     },
     "output_type": "display_data"
    }
   ],
   "source": [
    "#Plot cost during training:\n",
    "plot.plot(y)\n",
    "plot.plot(yHat)\n",
    "plot.grid(1)\n",
    "plot.legend(['y', 'yHat'])\n",
    "plot.show()"
   ]
  },
  {
   "cell_type": "code",
   "execution_count": 27,
   "metadata": {},
   "outputs": [],
   "source": [
    "#Regularization Parameter:\n",
    "Lambda = 0.0001"
   ]
  },
  {
   "cell_type": "code",
   "execution_count": 28,
   "metadata": {},
   "outputs": [],
   "source": [
    "#Need to make changes to costFunction and costFunctionPrim:\n",
    "def costFunction(self, X, y):\n",
    "    #Compute cost for given X,y, use weights already stored in class.\n",
    "    self.yHat = self.forward(X)\n",
    "    #We don't want cost to increase with the number of examples, so normalize by dividing the error term by number of examples(X.shape[0])\n",
    "    J = 0.5*sum((y-self.yHat)**2)/X.shape[0] + (self.Lambda/2)*(sum(self.W1**2)+sum(self.W2**2))\n",
    "    return J\n",
    "\n",
    "def costFunctionPrime(self, X, y):\n",
    "    #Compute derivative with respect to W and W2 for a given X and y:\n",
    "    self.yHat = self.forward(X)\n",
    "\n",
    "    delta3 = np.multiply(-(y-self.yHat), self.tanhPrime(self.z3))\n",
    "    #Add gradient of regularization term:\n",
    "    dJdW2 = np.dot(self.a2.T, delta3)/X.shape[0] + self.Lambda*self.W2\n",
    "\n",
    "    delta2 = np.dot(delta3, self.W2.T)*self.tanhPrime(self.z2)\n",
    "    #Add gradient of regularization term:\n",
    "    dJdW1 = np.dot(X.T, delta2)/X.shape[0] + self.Lambda*self.W1\n",
    "\n",
    "    return dJdW1, dJdW2"
   ]
  },
  {
   "cell_type": "code",
   "execution_count": 29,
   "metadata": {},
   "outputs": [],
   "source": [
    "#New complete class, with changes:\n",
    "class Neural_Network(object):\n",
    "    def __init__(self, Lambda=0.0001):        \n",
    "        #Define Hyperparameters\n",
    "        self.inputLayerSize = 6\n",
    "        self.outputLayerSize = 1\n",
    "        self.hiddenLayerSize = 3\n",
    "        \n",
    "        #Weights (parameters)\n",
    "        self.W1 = np.random.randn(self.inputLayerSize,self.hiddenLayerSize)\n",
    "        self.W2 = np.random.randn(self.hiddenLayerSize,self.outputLayerSize)\n",
    "        \n",
    "        #Regularization Parameter:\n",
    "        self.Lambda = Lambda\n",
    "        \n",
    "    def forward(self, X):\n",
    "        #Propogate inputs though network\n",
    "        self.z2 = np.dot(X, self.W1)\n",
    "        self.a2 = self.tanh(self.z2)\n",
    "        self.z3 = np.dot(self.a2, self.W2)\n",
    "        yHat = self.tanh(self.z3) \n",
    "        return yHat\n",
    "        \n",
    "    def tanh(self, z):\n",
    "        # activation function\n",
    "        return (np.exp(z)-np.exp(-z))/(np.exp(z)+np.exp(-z))\n",
    "    \n",
    "    def tanhPrime(self,z): \n",
    "        #derivative of tanh\n",
    "        return 1-((np.exp(z)-np.exp(-z))/(np.exp(z)+np.exp(-z)))**2\n",
    "    \n",
    "    def costFunction(self, X, y):\n",
    "        #Compute cost for given X,y, use weights already stored in class.\n",
    "        self.yHat = self.forward(X)\n",
    "        J = 0.5*sum((y-self.yHat)**2)/X.shape[0] + (self.Lambda/2)*(np.sum(self.W1**2)+np.sum(self.W2**2))\n",
    "        return J\n",
    "        \n",
    "    def costFunctionPrime(self, X, y):\n",
    "        #Compute derivative with respect to W and W2 for a given X and y:\n",
    "        self.yHat = self.forward(X)\n",
    "        \n",
    "        delta3 = np.multiply(-(y-self.yHat), self.tanhPrime(self.z3))\n",
    "        #Add gradient of regularization term:\n",
    "        dJdW2 = np.dot(self.a2.T, delta3)/X.shape[0] + self.Lambda*self.W2\n",
    "        \n",
    "        delta2 = np.dot(delta3, self.W2.T)*self.tanhPrime(self.z2)\n",
    "        #Add gradient of regularization term:\n",
    "        dJdW1 = np.dot(X.T, delta2)/X.shape[0] + self.Lambda*self.W1\n",
    "        \n",
    "        return dJdW1, dJdW2\n",
    "    \n",
    "    def predict(self):\n",
    "        prediksi = self.forward(dataprediksi)\n",
    "        return prediksi\n",
    "    \n",
    "    #Helper functions for interacting with other methods/classes\n",
    "    def getParams(self):\n",
    "        #Get W1 and W2 Rolled into vector:\n",
    "        params = np.concatenate((self.W1.ravel(), self.W2.ravel()))\n",
    "        return params\n",
    "    \n",
    "    def setParams(self, params):\n",
    "        #Set W1 and W2 using single parameter vector:\n",
    "        W1_start = 0\n",
    "        W1_end = self.hiddenLayerSize*self.inputLayerSize\n",
    "        self.W1 = np.reshape(params[W1_start:W1_end], \\\n",
    "                             (self.inputLayerSize, self.hiddenLayerSize))\n",
    "        W2_end = W1_end + self.hiddenLayerSize*self.outputLayerSize\n",
    "        self.W2 = np.reshape(params[W1_end:W2_end], \\\n",
    "                             (self.hiddenLayerSize, self.outputLayerSize))\n",
    "        \n",
    "    def computeGradients(self, X, y):\n",
    "        dJdW1, dJdW2 = self.costFunctionPrime(X, y)\n",
    "        return np.concatenate((dJdW1.ravel(), dJdW2.ravel()))"
   ]
  },
  {
   "cell_type": "code",
   "execution_count": 30,
   "metadata": {},
   "outputs": [],
   "source": [
    "def computeNumericalGradient(N, X, y):\n",
    "    paramsInitial = N.getParams()\n",
    "    numgrad = np.zeros(paramsInitial.shape)\n",
    "    perturb = np.zeros(paramsInitial.shape)\n",
    "    e = 1e-4\n",
    "\n",
    "    for p in range(len(paramsInitial)):\n",
    "        #Set perturbation vector\n",
    "        perturb[p] = e\n",
    "        N.setParams(paramsInitial + perturb)\n",
    "        loss2 = N.costFunction(X, y)\n",
    "            \n",
    "        N.setParams(paramsInitial - perturb)\n",
    "        loss1 = N.costFunction(X, y)\n",
    "\n",
    "        #Compute Numerical Gradient\n",
    "        numgrad[p] = (loss2 - loss1) / (2*e)\n",
    "\n",
    "            #Return the value we changed to zero:\n",
    "        perturb[p] = 0\n",
    "            \n",
    "    #Return Params to original value:\n",
    "    N.setParams(paramsInitial)\n",
    "\n",
    "    return numgrad "
   ]
  },
  {
   "cell_type": "code",
   "execution_count": 31,
   "metadata": {},
   "outputs": [],
   "source": [
    "NN = Neural_Network(Lambda=0.0001)"
   ]
  },
  {
   "cell_type": "code",
   "execution_count": 32,
   "metadata": {},
   "outputs": [],
   "source": [
    "#Make sure our gradients our correct after making changes:\n",
    "numgrad = computeNumericalGradient(NN, X, y)\n",
    "grad = NN.computeGradients(X,y)"
   ]
  },
  {
   "cell_type": "code",
   "execution_count": 33,
   "metadata": {},
   "outputs": [
    {
     "data": {
      "text/plain": [
       "5.924610259661928e-10"
      ]
     },
     "execution_count": 33,
     "metadata": {},
     "output_type": "execute_result"
    }
   ],
   "source": [
    "#Should be less than 1e-8:\n",
    "np.linalg.norm(grad-numgrad)/np.linalg.norm(grad+numgrad)"
   ]
  },
  {
   "cell_type": "code",
   "execution_count": 34,
   "metadata": {},
   "outputs": [],
   "source": [
    "T = trainer(NN)"
   ]
  },
  {
   "cell_type": "code",
   "execution_count": 35,
   "metadata": {},
   "outputs": [
    {
     "name": "stdout",
     "output_type": "stream",
     "text": [
      "Warning: Maximum number of iterations has been exceeded.\n",
      "         Current function value: 0.009547\n",
      "         Iterations: 100\n",
      "         Function evaluations: 109\n",
      "         Gradient evaluations: 109\n"
     ]
    }
   ],
   "source": [
    "T.train(X,y,testX,testY)"
   ]
  },
  {
   "cell_type": "code",
   "execution_count": 36,
   "metadata": {},
   "outputs": [
    {
     "data": {
      "image/png": "[encoded data removed]",
      "text/plain": [
       "<Figure size 432x288 with 1 Axes>"
      ]
     },
     "metadata": {
      "needs_background": "light"
     },
     "output_type": "display_data"
    }
   ],
   "source": [
    "plot.plot(T.J)\n",
    "plot.plot(T.testJ)\n",
    "plot.grid(1)\n",
    "plot.xlabel('Iterations')\n",
    "plot.ylabel('Cost')\n",
    "plot.legend(['Training', 'Testing'])\n",
    "plot.show()"
   ]
  },
  {
   "cell_type": "code",
   "execution_count": 37,
   "metadata": {},
   "outputs": [
    {
     "data": {
      "text/plain": [
       "[array([0.06328391]),\n",
       " array([0.03021919]),\n",
       " array([0.02664025]),\n",
       " array([0.02505097]),\n",
       " array([0.02425942]),\n",
       " array([0.02264583]),\n",
       " array([0.021042]),\n",
       " array([0.02082307]),\n",
       " array([0.020612]),\n",
       " array([0.0203703]),\n",
       " array([0.01994124]),\n",
       " array([0.01914016]),\n",
       " array([0.01780306]),\n",
       " array([0.01727747]),\n",
       " array([0.01657009]),\n",
       " array([0.01604462]),\n",
       " array([0.01522949]),\n",
       " array([0.01472799]),\n",
       " array([0.01453344]),\n",
       " array([0.01439968]),\n",
       " array([0.01436215]),\n",
       " array([0.01405148]),\n",
       " array([0.01360669]),\n",
       " array([0.01339641]),\n",
       " array([0.01335163]),\n",
       " array([0.01333817]),\n",
       " array([0.01331964]),\n",
       " array([0.01328747]),\n",
       " array([0.01323037]),\n",
       " array([0.01313128]),\n",
       " array([0.01297913]),\n",
       " array([0.01282993]),\n",
       " array([0.01265599]),\n",
       " array([0.01249629]),\n",
       " array([0.01247295]),\n",
       " array([0.01246101]),\n",
       " array([0.01244832]),\n",
       " array([0.01244273]),\n",
       " array([0.01243324]),\n",
       " array([0.01241688]),\n",
       " array([0.01238941]),\n",
       " array([0.01234697]),\n",
       " array([0.01228611]),\n",
       " array([0.01225321]),\n",
       " array([0.01220276]),\n",
       " array([0.01216915]),\n",
       " array([0.01216425]),\n",
       " array([0.01215628]),\n",
       " array([0.01214223]),\n",
       " array([0.01211731]),\n",
       " array([0.01207581]),\n",
       " array([0.01202021]),\n",
       " array([0.0119692]),\n",
       " array([0.01189149]),\n",
       " array([0.01179693]),\n",
       " array([0.01168999]),\n",
       " array([0.01156861]),\n",
       " array([0.01147587]),\n",
       " array([0.01142471]),\n",
       " array([0.0114063]),\n",
       " array([0.01139903]),\n",
       " array([0.01139176]),\n",
       " array([0.01138153]),\n",
       " array([0.01137561]),\n",
       " array([0.01137166]),\n",
       " array([0.01136574]),\n",
       " array([0.01135662]),\n",
       " array([0.01134103]),\n",
       " array([0.01131435]),\n",
       " array([0.01127392]),\n",
       " array([0.01123979]),\n",
       " array([0.01121004]),\n",
       " array([0.01115941]),\n",
       " array([0.01114164]),\n",
       " array([0.01113254]),\n",
       " array([0.01112618]),\n",
       " array([0.01111827]),\n",
       " array([0.01110431]),\n",
       " array([0.01107938]),\n",
       " array([0.01103563]),\n",
       " array([0.01096174]),\n",
       " array([0.0108299]),\n",
       " array([0.01063805]),\n",
       " array([0.01042559]),\n",
       " array([0.01021074]),\n",
       " array([0.01007541]),\n",
       " array([0.00996289]),\n",
       " array([0.00992993]),\n",
       " array([0.0099113]),\n",
       " array([0.0099025]),\n",
       " array([0.00988672]),\n",
       " array([0.00985797]),\n",
       " array([0.00980672]),\n",
       " array([0.00972265]),\n",
       " array([0.00962018]),\n",
       " array([0.00960213]),\n",
       " array([0.00957957]),\n",
       " array([0.00956608]),\n",
       " array([0.00955822]),\n",
       " array([0.0095467])]"
      ]
     },
     "execution_count": 37,
     "metadata": {},
     "output_type": "execute_result"
    }
   ],
   "source": [
    "T.J"
   ]
  },
  {
   "cell_type": "code",
   "execution_count": 38,
   "metadata": {},
   "outputs": [
    {
     "data": {
      "text/plain": [
       "[array([0.0437641]),\n",
       " array([0.01836877]),\n",
       " array([0.01590031]),\n",
       " array([0.01632909]),\n",
       " array([0.01472005]),\n",
       " array([0.01270787]),\n",
       " array([0.01126186]),\n",
       " array([0.01100136]),\n",
       " array([0.01071549]),\n",
       " array([0.01055041]),\n",
       " array([0.01046056]),\n",
       " array([0.01049407]),\n",
       " array([0.01082605]),\n",
       " array([0.01116812]),\n",
       " array([0.01175815]),\n",
       " array([0.01216273]),\n",
       " array([0.01230517]),\n",
       " array([0.01176935]),\n",
       " array([0.01125753]),\n",
       " array([0.01054446]),\n",
       " array([0.01060507]),\n",
       " array([0.01102512]),\n",
       " array([0.01168544]),\n",
       " array([0.01210072]),\n",
       " array([0.01223363]),\n",
       " array([0.01225987]),\n",
       " array([0.01225471]),\n",
       " array([0.01223286]),\n",
       " array([0.01219194]),\n",
       " array([0.01212501]),\n",
       " array([0.01200093]),\n",
       " array([0.0118585]),\n",
       " array([0.01192938]),\n",
       " array([0.01232958]),\n",
       " array([0.01224409]),\n",
       " array([0.01229684]),\n",
       " array([0.01249433]),\n",
       " array([0.01244402]),\n",
       " array([0.01240609]),\n",
       " array([0.01235222]),\n",
       " array([0.01226914]),\n",
       " array([0.01214804]),\n",
       " array([0.01211188]),\n",
       " array([0.01207604]),\n",
       " array([0.01223121]),\n",
       " array([0.01241534]),\n",
       " array([0.0124285]),\n",
       " array([0.01247545]),\n",
       " array([0.01247636]),\n",
       " array([0.01246842]),\n",
       " array([0.0123969]),\n",
       " array([0.01222268]),\n",
       " array([0.01216267]),\n",
       " array([0.01198222]),\n",
       " array([0.01180906]),\n",
       " array([0.01155957]),\n",
       " array([0.01172316]),\n",
       " array([0.01113681]),\n",
       " array([0.01152149]),\n",
       " array([0.01156022]),\n",
       " array([0.01156645]),\n",
       " array([0.01159759]),\n",
       " array([0.01161176]),\n",
       " array([0.01160262]),\n",
       " array([0.01159596]),\n",
       " array([0.01161651]),\n",
       " array([0.01163158]),\n",
       " array([0.011674]),\n",
       " array([0.01171238]),\n",
       " array([0.01177978]),\n",
       " array([0.01183814]),\n",
       " array([0.0117341]),\n",
       " array([0.01141781]),\n",
       " array([0.01114395]),\n",
       " array([0.01102772]),\n",
       " array([0.01102849]),\n",
       " array([0.01097217]),\n",
       " array([0.01092278]),\n",
       " array([0.01084207]),\n",
       " array([0.0107458]),\n",
       " array([0.01063825]),\n",
       " array([0.01055961]),\n",
       " array([0.01017557]),\n",
       " array([0.0100531]),\n",
       " array([0.00998863]),\n",
       " array([0.008875]),\n",
       " array([0.00907962]),\n",
       " array([0.00896311]),\n",
       " array([0.00878354]),\n",
       " array([0.00873202]),\n",
       " array([0.00868096]),\n",
       " array([0.00859123]),\n",
       " array([0.00848444]),\n",
       " array([0.00824729]),\n",
       " array([0.00802382]),\n",
       " array([0.00805888]),\n",
       " array([0.00799192]),\n",
       " array([0.00812878]),\n",
       " array([0.00814167]),\n",
       " array([0.00814795])]"
      ]
     },
     "execution_count": 38,
     "metadata": {},
     "output_type": "execute_result"
    }
   ],
   "source": [
    "T.testJ"
   ]
  },
  {
   "cell_type": "code",
   "execution_count": 39,
   "metadata": {},
   "outputs": [
    {
     "data": {
      "text/plain": [
       "0.002127004974867869"
      ]
     },
     "execution_count": 39,
     "metadata": {},
     "output_type": "execute_result"
    }
   ],
   "source": [
    "from sklearn.metrics import mean_absolute_error\n",
    "mean_absolute_error(T.J, T.testJ)"
   ]
  },
  {
   "cell_type": "code",
   "execution_count": 40,
   "metadata": {},
   "outputs": [],
   "source": [
    "yHat=NN.forward(X)"
   ]
  },
  {
   "cell_type": "code",
   "execution_count": 41,
   "metadata": {},
   "outputs": [
    {
     "data": {
      "text/plain": [
       "array([[0.43947976],\n",
       "       [0.47650223],\n",
       "       [0.26260304],\n",
       "       [0.55812634],\n",
       "       [0.55053526],\n",
       "       [0.49318532],\n",
       "       [0.52923203],\n",
       "       [0.3286178 ],\n",
       "       [0.30125097],\n",
       "       [0.22041247],\n",
       "       [0.33125443],\n",
       "       [0.29651695],\n",
       "       [0.39783711],\n",
       "       [0.28034969],\n",
       "       [0.43939647],\n",
       "       [0.39206738],\n",
       "       [0.31742002],\n",
       "       [0.40627928],\n",
       "       [0.57274414],\n",
       "       [0.51953584],\n",
       "       [0.40468271],\n",
       "       [0.66115867],\n",
       "       [0.65238434],\n",
       "       [0.66520779],\n",
       "       [0.67588243],\n",
       "       [0.44609467],\n",
       "       [0.66527645],\n",
       "       [0.67119279],\n",
       "       [0.69029893],\n",
       "       [0.84016016],\n",
       "       [0.7625313 ],\n",
       "       [0.70346759],\n",
       "       [0.68814046],\n",
       "       [0.76194504],\n",
       "       [0.74185849],\n",
       "       [0.75313276],\n",
       "       [0.7756913 ],\n",
       "       [0.60427406],\n",
       "       [0.80380176],\n",
       "       [0.77478421],\n",
       "       [0.80621787],\n",
       "       [0.76868239],\n",
       "       [0.76950283],\n",
       "       [0.78785473],\n",
       "       [0.72245061],\n",
       "       [0.7546589 ],\n",
       "       [0.68276675],\n",
       "       [0.5320803 ],\n",
       "       [0.65171345],\n",
       "       [0.50453109],\n",
       "       [0.6852413 ],\n",
       "       [0.66920446],\n",
       "       [0.65805194],\n",
       "       [0.82254688],\n",
       "       [0.73755252],\n",
       "       [0.72348185],\n",
       "       [0.64361998],\n",
       "       [0.72001121]])"
      ]
     },
     "execution_count": 41,
     "metadata": {},
     "output_type": "execute_result"
    }
   ],
   "source": [
    "yHat"
   ]
  },
  {
   "cell_type": "code",
   "execution_count": 42,
   "metadata": {},
   "outputs": [
    {
     "data": {
      "text/plain": [
       "array([[0.46778898],\n",
       "       [0.58859326],\n",
       "       [0.28650113],\n",
       "       [0.47320807],\n",
       "       [0.45271621],\n",
       "       [0.38367462],\n",
       "       [0.23399813],\n",
       "       [0.35317372],\n",
       "       [0.14062986],\n",
       "       [0.26372911],\n",
       "       [0.33746428],\n",
       "       [0.28799656],\n",
       "       [0.50986837],\n",
       "       [0.50986837],\n",
       "       [0.        ],\n",
       "       [0.47639142],\n",
       "       [0.44976976],\n",
       "       [0.46613068],\n",
       "       [0.5882231 ],\n",
       "       [0.63635825],\n",
       "       [0.57313552],\n",
       "       [0.45643258],\n",
       "       [0.76222627],\n",
       "       [0.55359126],\n",
       "       [0.71115948],\n",
       "       [0.31546218],\n",
       "       [0.60413983],\n",
       "       [0.83761975],\n",
       "       [0.7476273 ],\n",
       "       [0.84718459],\n",
       "       [0.85934053],\n",
       "       [0.78972149],\n",
       "       [0.74365922],\n",
       "       [0.68135448],\n",
       "       [0.89668192],\n",
       "       [0.73519004],\n",
       "       [0.98720739],\n",
       "       [0.50502673],\n",
       "       [1.        ],\n",
       "       [0.93787293],\n",
       "       [0.80331364],\n",
       "       [0.94438769],\n",
       "       [0.78782629],\n",
       "       [0.70467434],\n",
       "       [0.65104606],\n",
       "       [0.44790417],\n",
       "       [0.67977021],\n",
       "       [0.53034543],\n",
       "       [0.78390263],\n",
       "       [0.3349028 ],\n",
       "       [0.87703401],\n",
       "       [0.70343061],\n",
       "       [0.6764536 ],\n",
       "       [0.7996565 ],\n",
       "       [0.6539629 ],\n",
       "       [0.73176979],\n",
       "       [0.60723434],\n",
       "       [0.67      ]])"
      ]
     },
     "execution_count": 42,
     "metadata": {},
     "output_type": "execute_result"
    }
   ],
   "source": [
    "y"
   ]
  },
  {
   "cell_type": "code",
   "execution_count": 43,
   "metadata": {},
   "outputs": [
    {
     "data": {
      "text/plain": [
       "0.017417316196246445"
      ]
     },
     "execution_count": 43,
     "metadata": {},
     "output_type": "execute_result"
    }
   ],
   "source": [
    "from sklearn.metrics import mean_squared_error \n",
    "mean_squared_error(y,yHat) "
   ]
  },
  {
   "cell_type": "code",
   "execution_count": 44,
   "metadata": {},
   "outputs": [
    {
     "data": {
      "image/png": "[encoded data removed]",
      "text/plain": [
       "<Figure size 432x288 with 1 Axes>"
      ]
     },
     "metadata": {
      "needs_background": "light"
     },
     "output_type": "display_data"
    }
   ],
   "source": [
    "#Plot cost during training:\n",
    "plot.plot(y)\n",
    "plot.plot(yHat)\n",
    "plot.grid(1)\n",
    "plot.legend(['y', 'yHat'])\n",
    "plot.show()"
   ]
  },
  {
   "cell_type": "code",
   "execution_count": 45,
   "metadata": {},
   "outputs": [],
   "source": [
    "prediksi=NN.forward(dataprediksi)"
   ]
  },
  {
   "cell_type": "code",
   "execution_count": 46,
   "metadata": {},
   "outputs": [
    {
     "data": {
      "text/plain": [
       "array([[0.67855601],\n",
       "       [0.70574474],\n",
       "       [0.64861999],\n",
       "       [0.48754678]])"
      ]
     },
     "execution_count": 46,
     "metadata": {},
     "output_type": "execute_result"
    }
   ],
   "source": [
    "prediksi"
   ]
  },
  {
   "cell_type": "code",
   "execution_count": 47,
   "metadata": {},
   "outputs": [],
   "source": [
    "from sklearn.metrics import mean_squared_error "
   ]
  },
  {
   "cell_type": "code",
   "execution_count": 48,
   "metadata": {},
   "outputs": [
    {
     "data": {
      "text/plain": [
       "0.09412308560508893"
      ]
     },
     "execution_count": 48,
     "metadata": {},
     "output_type": "execute_result"
    }
   ],
   "source": [
    "Y_true= ([\t0.67\t]\t,\n",
    "[\t0.389745184\t]\t,\n",
    "[\t0.136735812\t]\t,\n",
    "[\t0.366973156\t]\t,\n",
    "\n",
    ")\n",
    "\n",
    "\n",
    "Y_pred=prediksi\n",
    "mean_squared_error(Y_true,Y_pred) "
   ]
  },
  {
   "cell_type": "code",
   "execution_count": 49,
   "metadata": {},
   "outputs": [
    {
     "data": {
      "text/plain": [
       "array([[0.38732394, 0.79538041, 0.6539629 , 0.73176979, 0.60723434,\n",
       "        0.67      ],\n",
       "       [0.37323944, 1.        , 0.73176979, 0.60723434, 0.67      ,\n",
       "        0.67      ],\n",
       "       [0.36619718, 0.70768171, 0.60723434, 0.67      , 0.67      ,\n",
       "        0.38974518],\n",
       "       [0.44366197, 0.49169532, 0.67      , 0.67      , 0.38974518,\n",
       "        0.13673581]])"
      ]
     },
     "execution_count": 49,
     "metadata": {},
     "output_type": "execute_result"
    }
   ],
   "source": [
    "dataprediksi"
   ]
  },
  {
   "cell_type": "code",
   "execution_count": 50,
   "metadata": {},
   "outputs": [],
   "source": [
    "z=np.array([0.6294\t,\t0.4578])"
   ]
  },
  {
   "cell_type": "code",
   "execution_count": 51,
   "metadata": {},
   "outputs": [],
   "source": [
    "y=np.array([0.67\t,\t0.389745184\t,\t0.136735812\t,\t0.366973156\t])"
   ]
  },
  {
   "cell_type": "code",
   "execution_count": 52,
   "metadata": {},
   "outputs": [],
   "source": [
    "a=np.concatenate((z,y))"
   ]
  },
  {
   "cell_type": "code",
   "execution_count": 53,
   "metadata": {},
   "outputs": [
    {
     "data": {
      "text/plain": [
       "array([0.33856678])"
      ]
     },
     "execution_count": 53,
     "metadata": {},
     "output_type": "execute_result"
    }
   ],
   "source": [
    "#prediksi 1\n",
    "prediksi=NN.forward(a)\n",
    "prediksi"
   ]
  },
  {
   "cell_type": "code",
   "execution_count": 54,
   "metadata": {},
   "outputs": [
    {
     "data": {
      "text/plain": [
       "array([0.37711375])"
      ]
     },
     "execution_count": 54,
     "metadata": {},
     "output_type": "execute_result"
    }
   ],
   "source": [
    "#prediksi 2\n",
    "c=prediksi\n",
    "z1=np.array([0.6795\t,\t0.4539])\n",
    "b=y[1:]\n",
    "d=np.concatenate((z1,b,c))\n",
    "prediksi=NN.forward(d)\n",
    "prediksi"
   ]
  },
  {
   "cell_type": "code",
   "execution_count": 55,
   "metadata": {},
   "outputs": [
    {
     "data": {
      "text/plain": [
       "array([0.38335995])"
      ]
     },
     "execution_count": 55,
     "metadata": {},
     "output_type": "execute_result"
    }
   ],
   "source": [
    "#prediksi 3\n",
    "c=prediksi\n",
    "z2=np.array([0.5888\t,\t0.4545])\n",
    "b=y[1:]\n",
    "d=np.concatenate((z2,b,c))\n",
    "prediksi=NN.forward(d)\n",
    "prediksi"
   ]
  },
  {
   "cell_type": "code",
   "execution_count": 56,
   "metadata": {},
   "outputs": [
    {
     "data": {
      "text/plain": [
       "array([0.38234581])"
      ]
     },
     "execution_count": 56,
     "metadata": {},
     "output_type": "execute_result"
    }
   ],
   "source": [
    "#prediksi 4\n",
    "c=prediksi\n",
    "z3=np.array([0.527\t,\t0.4555])\n",
    "b=y[1:]\n",
    "d=np.concatenate((z3,b,c))\n",
    "prediksi=NN.forward(d)\n",
    "prediksi"
   ]
  },
  {
   "cell_type": "code",
   "execution_count": 57,
   "metadata": {},
   "outputs": [
    {
     "data": {
      "text/plain": [
       "array([0.377561])"
      ]
     },
     "execution_count": 57,
     "metadata": {},
     "output_type": "execute_result"
    }
   ],
   "source": [
    "#prediksi 5\n",
    "c=prediksi\n",
    "z4=np.array([0.4745\t,\t0.4564])\n",
    "b=y[1:]\n",
    "d=np.concatenate((z4,b,c))\n",
    "prediksi=NN.forward(d)\n",
    "prediksi"
   ]
  },
  {
   "cell_type": "code",
   "execution_count": 58,
   "metadata": {},
   "outputs": [
    {
     "data": {
      "text/plain": [
       "array([0.37407291])"
      ]
     },
     "execution_count": 58,
     "metadata": {},
     "output_type": "execute_result"
    }
   ],
   "source": [
    "#prediksi 6\n",
    "c=prediksi\n",
    "z5=np.array([0.4621\t,\t0.4571])\n",
    "b=y[1:]\n",
    "d=np.concatenate((z5,b,c))\n",
    "prediksi=NN.forward(d)\n",
    "prediksi"
   ]
  }
 ],
 "metadata": {
  "kernelspec": {
   "display_name": "Python 3",
   "language": "python",
   "name": "python3"
  },
  "language_info": {
   "codemirror_mode": {
    "name": "ipython",
    "version": 3
   },
   "file_extension": ".py",
   "mimetype": "text/x-python",
   "name": "python",
   "nbconvert_exporter": "python",
   "pygments_lexer": "ipython3",
   "version": "3.7.3"
  }
 },
 "nbformat": 4,
 "nbformat_minor": 2
}
