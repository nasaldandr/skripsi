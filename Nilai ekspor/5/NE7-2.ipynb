{
 "cells": [
  {
   "cell_type": "code",
   "execution_count": 1,
   "metadata": {},
   "outputs": [],
   "source": [
    "import numpy as np"
   ]
  },
  {
   "cell_type": "code",
   "execution_count": 2,
   "metadata": {},
   "outputs": [],
   "source": [
    "#UNTUK NILAI IMPOR\n",
    "class Neural_Network(object):\n",
    "    def __init__(self):\n",
    "        #parameters\n",
    "        self.inputLayerSize = 7\n",
    "        self.outputLayerSize = 1\n",
    "        self.hiddenLayerSize = 2\n",
    "\n",
    "        #weights\n",
    "        self.W1 = np.random.randn(self.inputLayerSize,\\\n",
    "                                 self.hiddenLayerSize)  \n",
    "        self.W2 = np.random.randn(self.hiddenLayerSize,\\\n",
    "                                 self.outputLayerSize)  \n",
    "    \n",
    "    def printw(self):\n",
    "        return self.W1\n",
    "        \n",
    "    def weight(self, W1, W2):\n",
    "        #Make an internal variable for the weight:\n",
    "        self.W1 = W1\n",
    "        self.W2 = W2\n",
    "        \n",
    "    def forward(self, X):\n",
    "        #forward propagation through our network\n",
    "        self.z2 = np.dot(X,self.W1)  \n",
    "        self.a2 = self.tanh(self.z2)  # activation function\n",
    "        self.z3 = np.dot(self.a2, self.W2) \n",
    "        yHat = self.tanh(self.z3)  # final activation function\n",
    "        return yHat\n",
    "\n",
    "    def tanh(self, z):\n",
    "        # activation function\n",
    "        return (np.exp(z)-np.exp(-z))/(np.exp(z)+np.exp(-z))\n",
    "    \n",
    "    def tanhPrime(self,z): \n",
    "        #derivative of tanh\n",
    "        return 1-((np.exp(z)-np.exp(-z))/(np.exp(z)+np.exp(-z)))**2\n",
    "    \n",
    "    def costFunction(self,X,y):\n",
    "        self.yHat = self.forward(X)\n",
    "        J=0.5*sum((y-self.yHat)**2)\n",
    "        return J\n",
    "    \n",
    "    def costFunctionPrime(self,X,y):\n",
    "        self.yHat=self.forward(X)\n",
    "        \n",
    "        delta3=np.multiply(-(y-self.yHat),self.tanhPrime(self.z3))\n",
    "        dJdW2=np.dot(self.a2.T,delta3)\n",
    "        \n",
    "        delta2=np.dot(delta3,self.W2.T)*self.tanhPrime(self.z2)\n",
    "        dJdW1=np.dot(X.T,delta2)\n",
    "        return dJdW1,dJdW2\n",
    "    \n",
    "    def predict(self):\n",
    "        prediksi = self.forward(dataprediksi)\n",
    "        return prediksi\n",
    "    \n",
    "    def getParams(self):\n",
    "        params=np.concatenate((self.W1.ravel(),self.W2.ravel()))\n",
    "        return params\n",
    "    \n",
    "    def setParams(self,params):\n",
    "        W1_start=0\n",
    "        W1_end=self.hiddenLayerSize*self.inputLayerSize\n",
    "        self.W1=np.reshape(params[W1_start:W1_end],\\\n",
    "                          (self.inputLayerSize,self.hiddenLayerSize))\n",
    "        W2_end=W1_end+self.hiddenLayerSize*self.outputLayerSize\n",
    "        self.W2=np.reshape(params[W1_end:W2_end],\\\n",
    "                          (self.hiddenLayerSize,self.outputLayerSize))\n",
    "        \n",
    "    def computeGradients(self, X, y):\n",
    "        dJdW1, dJdW2 = self.costFunctionPrime(X, y)\n",
    "        return np.concatenate((dJdW1.ravel(), dJdW2.ravel()))"
   ]
  },
  {
   "cell_type": "code",
   "execution_count": 3,
   "metadata": {},
   "outputs": [],
   "source": [
    "NN = Neural_Network()"
   ]
  },
  {
   "cell_type": "code",
   "execution_count": 4,
   "metadata": {},
   "outputs": [
    {
     "data": {
      "text/plain": [
       "array([[-1.0733347 , -0.92793978],\n",
       "       [ 0.69567276,  0.62420435],\n",
       "       [ 1.7019904 ,  0.26396897],\n",
       "       [-0.19132188,  0.58861591],\n",
       "       [ 0.62350094, -0.18446223],\n",
       "       [-0.12240015,  0.79959118],\n",
       "       [-0.39915083, -1.64505908]])"
      ]
     },
     "execution_count": 4,
     "metadata": {},
     "output_type": "execute_result"
    }
   ],
   "source": [
    "NN.W1"
   ]
  },
  {
   "cell_type": "code",
   "execution_count": 5,
   "metadata": {},
   "outputs": [
    {
     "data": {
      "text/plain": [
       "array([[-0.7485904],\n",
       "       [ 1.1728367]])"
      ]
     },
     "execution_count": 5,
     "metadata": {},
     "output_type": "execute_result"
    }
   ],
   "source": [
    "NN.W2"
   ]
  },
  {
   "cell_type": "code",
   "execution_count": 6,
   "metadata": {},
   "outputs": [],
   "source": [
    "#NILAI IMPOR\n",
    "X=np.array(([\t0.697183099\t,\t0.223256598\t,\t0.566339448\t,\t0.263729105\t,\t0.334917603\t,\t0.529012867\t,\t0.467788981\t]\t,\n",
    "[\t0.971830986\t,\t0.241974687\t,\t0.263729105\t,\t0.334917603\t,\t0.529012867\t,\t0.467788981\t,\t0.588593257\t]\t,\n",
    "[\t0.591549296\t,\t0.365733465\t,\t0.334917603\t,\t0.529012867\t,\t0.467788981\t,\t0.588593257\t,\t0.286501133\t]\t,\n",
    "[\t0.281690141\t,\t0.552558994\t,\t0.529012867\t,\t0.467788981\t,\t0.588593257\t,\t0.286501133\t,\t0.473208072\t]\t,\n",
    "[\t0.26056338\t,\t0.370023519\t,\t0.467788981\t,\t0.588593257\t,\t0.286501133\t,\t0.473208072\t,\t0.452716208\t]\t,\n",
    "[\t0.464788732\t,\t0.332531703\t,\t0.588593257\t,\t0.286501133\t,\t0.473208072\t,\t0.452716208\t,\t0.383674618\t]\t,\n",
    "[\t0.992957746\t,\t0.387887522\t,\t0.286501133\t,\t0.473208072\t,\t0.452716208\t,\t0.383674618\t,\t0.233998134\t]\t,\n",
    "[\t0.676056338\t,\t0.398363943\t,\t0.473208072\t,\t0.452716208\t,\t0.383674618\t,\t0.233998134\t,\t0.353173722\t]\t,\n",
    "[\t0.253521127\t,\t0.284826299\t,\t0.452716208\t,\t0.383674618\t,\t0.233998134\t,\t0.353173722\t,\t0.140629858\t]\t,\n",
    "[\t0.450704225\t,\t0.186735022\t,\t0.383674618\t,\t0.233998134\t,\t0.353173722\t,\t0.140629858\t,\t0.263729105\t]\t,\n",
    "[\t0\t,\t0.182694768\t,\t0.233998134\t,\t0.353173722\t,\t0.140629858\t,\t0.263729105\t,\t0.33746428\t]\t,\n",
    "[\t0.485915493\t,\t0.255617002\t,\t0.353173722\t,\t0.140629858\t,\t0.263729105\t,\t0.33746428\t,\t0.287996565\t]\t,\n",
    "[\t0.781690141\t,\t0.23597043\t,\t0.140629858\t,\t0.263729105\t,\t0.33746428\t,\t0.287996565\t,\t0.509868372\t]\t,\n",
    "[\t0.802816901\t,\t0.164134134\t,\t0.263729105\t,\t0.33746428\t,\t0.287996565\t,\t0.509868372\t,\t0.509868372\t]\t,\n",
    "[\t0.302816901\t,\t0.178176635\t,\t0.33746428\t,\t0.287996565\t,\t0.509868372\t,\t0.509868372\t,\t0\t]\t,\n",
    "[\t0.471830986\t,\t0.163956101\t,\t0.287996565\t,\t0.509868372\t,\t0.509868372\t,\t0\t,\t0.476391418\t]\t,\n",
    "[\t0.415492958\t,\t0.133241484\t,\t0.509868372\t,\t0.509868372\t,\t0\t,\t0.476391418\t,\t0.449769763\t]\t,\n",
    "[\t0.647887324\t,\t0.226399017\t,\t0.509868372\t,\t0\t,\t0.476391418\t,\t0.449769763\t,\t0.46613068\t]\t,\n",
    "[\t0.612676056\t,\t0.255013861\t,\t0\t,\t0.476391418\t,\t0.449769763\t,\t0.46613068\t,\t0.588223101\t]\t,\n",
    "[\t1\t,\t0.23708614\t,\t0.476391418\t,\t0.449769763\t,\t0.46613068\t,\t0.588223101\t,\t0.636358252\t]\t,\n",
    "[\t0.478873239\t,\t0.231651119\t,\t0.449769763\t,\t0.46613068\t,\t0.588223101\t,\t0.636358252\t,\t0.573135522\t]\t,\n",
    "[\t0.302816901\t,\t0.233067608\t,\t0.46613068\t,\t0.588223101\t,\t0.636358252\t,\t0.573135522\t,\t0.45643258\t]\t,\n",
    "[\t0.38028169\t,\t0.221173719\t,\t0.588223101\t,\t0.636358252\t,\t0.573135522\t,\t0.45643258\t,\t0.762226269\t]\t,\n",
    "[\t0.591549296\t,\t0.22633168\t,\t0.636358252\t,\t0.573135522\t,\t0.45643258\t,\t0.762226269\t,\t0.553591258\t]\t,\n",
    "[\t0.802816901\t,\t0.218698642\t,\t0.573135522\t,\t0.45643258\t,\t0.762226269\t,\t0.553591258\t,\t0.711159478\t]\t,\n",
    "[\t0.471830986\t,\t0.232032203\t,\t0.45643258\t,\t0.762226269\t,\t0.553591258\t,\t0.711159478\t,\t0.315462177\t]\t,\n",
    "[\t0.267605634\t,\t0.231947948\t,\t0.762226269\t,\t0.553591258\t,\t0.711159478\t,\t0.315462177\t,\t0.60413983\t]\t,\n",
    "[\t0.408450704\t,\t0.221547817\t,\t0.553591258\t,\t0.711159478\t,\t0.315462177\t,\t0.60413983\t,\t0.837619746\t]\t,\n",
    "[\t0.323943662\t,\t0.287958581\t,\t0.711159478\t,\t0.315462177\t,\t0.60413983\t,\t0.837619746\t,\t0.747627297\t]\t,\n",
    "[\t0.457746479\t,\t0.28837327\t,\t0.315462177\t,\t0.60413983\t,\t0.837619746\t,\t0.747627297\t,\t0.84718459\t]\t,\n",
    "[\t0.816901408\t,\t0.297145757\t,\t0.60413983\t,\t0.837619746\t,\t0.747627297\t,\t0.84718459\t,\t0.859340529\t]\t,\n",
    "[\t0.753521127\t,\t0.243669818\t,\t0.837619746\t,\t0.747627297\t,\t0.84718459\t,\t0.859340529\t,\t0.789721494\t]\t,\n",
    "[\t0.436619718\t,\t0.307437314\t,\t0.747627297\t,\t0.84718459\t,\t0.859340529\t,\t0.789721494\t,\t0.743659219\t]\t,\n",
    "[\t0.457746479\t,\t0.358597855\t,\t0.84718459\t,\t0.859340529\t,\t0.789721494\t,\t0.743659219\t,\t0.681354477\t]\t,\n",
    "[\t0.387323944\t,\t0.372181217\t,\t0.859340529\t,\t0.789721494\t,\t0.743659219\t,\t0.681354477\t,\t0.896681917\t]\t,\n",
    "[\t0.464788732\t,\t0.450259481\t,\t0.789721494\t,\t0.743659219\t,\t0.681354477\t,\t0.896681917\t,\t0.735190038\t]\t,\n",
    "[\t0.732394366\t,\t0.443095634\t,\t0.743659219\t,\t0.681354477\t,\t0.896681917\t,\t0.735190038\t,\t0.987207391\t]\t,\n",
    "[\t0.514084507\t,\t0.558155976\t,\t0.681354477\t,\t0.896681917\t,\t0.735190038\t,\t0.987207391\t,\t0.505026725\t]\t,\n",
    "[\t0.281690141\t,\t0.602359827\t,\t0.896681917\t,\t0.735190038\t,\t0.987207391\t,\t0.505026725\t,\t1\t]\t,\n",
    "[\t0.190140845\t,\t0.696291723\t,\t0.735190038\t,\t0.987207391\t,\t0.505026725\t,\t1\t,\t0.937872933\t]\t,\n",
    "[\t0.514084507\t,\t0.790604671\t,\t0.987207391\t,\t0.505026725\t,\t1\t,\t0.937872933\t,\t0.803313641\t]\t,\n",
    "[\t0.507042254\t,\t0.644022227\t,\t0.505026725\t,\t1\t,\t0.937872933\t,\t0.803313641\t,\t0.944387687\t]\t,\n",
    "[\t0.753521127\t,\t0.583228643\t,\t1\t,\t0.937872933\t,\t0.803313641\t,\t0.944387687\t,\t0.787826293\t]\t,\n",
    "[\t0.542253521\t,\t0.481715009\t,\t0.937872933\t,\t0.803313641\t,\t0.944387687\t,\t0.787826293\t,\t0.704674336\t]\t,\n",
    "[\t0.26056338\t,\t0.442812107\t,\t0.803313641\t,\t0.944387687\t,\t0.787826293\t,\t0.704674336\t,\t0.651046062\t]\t,\n",
    "[\t0.394366197\t,\t0.496270585\t,\t0.944387687\t,\t0.787826293\t,\t0.704674336\t,\t0.651046062\t,\t0.447904174\t]\t,\n",
    "[\t0.626760563\t,\t0.475463393\t,\t0.787826293\t,\t0.704674336\t,\t0.651046062\t,\t0.447904174\t,\t0.679770207\t]\t,\n",
    "[\t0.795774648\t,\t0.551559791\t,\t0.704674336\t,\t0.651046062\t,\t0.447904174\t,\t0.679770207\t,\t0.53034543\t]\t,\n",
    "[\t0.704225352\t,\t0.500994351\t,\t0.651046062\t,\t0.447904174\t,\t0.679770207\t,\t0.53034543\t,\t0.783902634\t]\t,\n",
    "[\t0.535211268\t,\t0.445458587\t,\t0.447904174\t,\t0.679770207\t,\t0.53034543\t,\t0.783902634\t,\t0.334902797\t]\t,\n",
    "[\t0.401408451\t,\t0.505711667\t,\t0.679770207\t,\t0.53034543\t,\t0.783902634\t,\t0.334902797\t,\t0.87703401\t]\t,\n",
    "[\t0.126760563\t,\t0.465889036\t,\t0.53034543\t,\t0.783902634\t,\t0.334902797\t,\t0.87703401\t,\t0.70343061\t]\t,\n",
    "[\t0.330985915\t,\t0.46785659\t,\t0.783902634\t,\t0.334902797\t,\t0.87703401\t,\t0.70343061\t,\t0.676453605\t]\t,\n",
    "[\t0.415492958\t,\t0.453001423\t,\t0.334902797\t,\t0.87703401\t,\t0.70343061\t,\t0.676453605\t,\t0.799656495\t]\t,\n",
    "[\t0.556338028\t,\t0.437411724\t,\t0.87703401\t,\t0.70343061\t,\t0.676453605\t,\t0.799656495\t,\t0.653962896\t]\t,\n",
    "[\t0.591549296\t,\t0.350673696\t,\t0.70343061\t,\t0.676453605\t,\t0.799656495\t,\t0.653962896\t,\t0.731769792\t]\t,\n",
    "[\t0.514084507\t,\t0.364031312\t,\t0.676453605\t,\t0.799656495\t,\t0.653962896\t,\t0.731769792\t,\t0.607234339\t]\t,\n",
    "\n",
    "\n",
    ")           \n",
    ",dtype=float)\n",
    "y=np.array(([\t0.588593257\t]\t,\n",
    "[\t0.286501133\t]\t,\n",
    "[\t0.473208072\t]\t,\n",
    "[\t0.452716208\t]\t,\n",
    "[\t0.383674618\t]\t,\n",
    "[\t0.233998134\t]\t,\n",
    "[\t0.353173722\t]\t,\n",
    "[\t0.140629858\t]\t,\n",
    "[\t0.263729105\t]\t,\n",
    "[\t0.33746428\t]\t,\n",
    "[\t0.287996565\t]\t,\n",
    "[\t0.509868372\t]\t,\n",
    "[\t0.509868372\t]\t,\n",
    "[\t0\t]\t,\n",
    "[\t0.476391418\t]\t,\n",
    "[\t0.449769763\t]\t,\n",
    "[\t0.46613068\t]\t,\n",
    "[\t0.588223101\t]\t,\n",
    "[\t0.636358252\t]\t,\n",
    "[\t0.573135522\t]\t,\n",
    "[\t0.45643258\t]\t,\n",
    "[\t0.762226269\t]\t,\n",
    "[\t0.553591258\t]\t,\n",
    "[\t0.711159478\t]\t,\n",
    "[\t0.315462177\t]\t,\n",
    "[\t0.60413983\t]\t,\n",
    "[\t0.837619746\t]\t,\n",
    "[\t0.747627297\t]\t,\n",
    "[\t0.84718459\t]\t,\n",
    "[\t0.859340529\t]\t,\n",
    "[\t0.789721494\t]\t,\n",
    "[\t0.743659219\t]\t,\n",
    "[\t0.681354477\t]\t,\n",
    "[\t0.896681917\t]\t,\n",
    "[\t0.735190038\t]\t,\n",
    "[\t0.987207391\t]\t,\n",
    "[\t0.505026725\t]\t,\n",
    "[\t1\t]\t,\n",
    "[\t0.937872933\t]\t,\n",
    "[\t0.803313641\t]\t,\n",
    "[\t0.944387687\t]\t,\n",
    "[\t0.787826293\t]\t,\n",
    "[\t0.704674336\t]\t,\n",
    "[\t0.651046062\t]\t,\n",
    "[\t0.447904174\t]\t,\n",
    "[\t0.679770207\t]\t,\n",
    "[\t0.53034543\t]\t,\n",
    "[\t0.783902634\t]\t,\n",
    "[\t0.334902797\t]\t,\n",
    "[\t0.87703401\t]\t,\n",
    "[\t0.70343061\t]\t,\n",
    "[\t0.676453605\t]\t,\n",
    "[\t0.799656495\t]\t,\n",
    "[\t0.653962896\t]\t,\n",
    "[\t0.731769792\t]\t,\n",
    "[\t0.607234339\t]\t,\n",
    "[\t0.67\t]\t,\n",
    "\n",
    ")\n",
    ",dtype=float)\n",
    "\n",
    "dataprediksi = np.array(([\t0.387323944\t,\t0.795380412\t,\t0.799656495\t,\t0.653962896\t,\t0.731769792\t,\t0.607234339\t,\t0.67\t]\t,\n",
    "[\t0.373239437\t,\t1\t,\t0.653962896\t,\t0.731769792\t,\t0.607234339\t,\t0.67\t,\t0.67\t]\t,\n",
    "[\t0.366197183\t,\t0.707681705\t,\t0.731769792\t,\t0.607234339\t,\t0.67\t,\t0.67\t,\t0.389745184\t]\t,\n",
    "[\t0.443661972\t,\t0.491695324\t,\t0.607234339\t,\t0.67\t,\t0.67\t,\t0.389745184\t,\t0.136735812\t]\t,\n",
    "\n",
    "), dtype=float)\n"
   ]
  },
  {
   "cell_type": "code",
   "execution_count": 7,
   "metadata": {},
   "outputs": [],
   "source": [
    "import matplotlib.pyplot as plot"
   ]
  },
  {
   "cell_type": "code",
   "execution_count": 8,
   "metadata": {},
   "outputs": [],
   "source": [
    "from scipy import optimize"
   ]
  },
  {
   "cell_type": "code",
   "execution_count": 9,
   "metadata": {},
   "outputs": [],
   "source": [
    "class trainer(object):\n",
    "    def __init__(self, N):\n",
    "        #Make Local reference to network:\n",
    "        self.N = N\n",
    "        \n",
    "    def callbackF(self, params):\n",
    "        self.N.setParams(params)\n",
    "        self.J.append(self.N.costFunction(self.X, self.y))   \n",
    "        \n",
    "    def costFunctionWrapper(self, params, X, y):\n",
    "        self.N.setParams(params)\n",
    "        cost = self.N.costFunction(X, y)\n",
    "        grad = self.N.computeGradients(X,y)\n",
    "        \n",
    "        return cost, grad\n",
    "        \n",
    "    def train(self, X, y):\n",
    "        #Make an internal variable for the callback function:\n",
    "        self.X = X\n",
    "        self.y = y\n",
    "\n",
    "        #Make empty list to store costs:\n",
    "        self.J = []\n",
    "        \n",
    "        params0 = self.N.getParams()\n",
    "\n",
    "        options = {'maxiter': 100, 'disp' : True}\n",
    "        _res = optimize.minimize(self.costFunctionWrapper, params0, jac=True, method='BFGS', \\\n",
    "                                 args=(X, y), options=options, callback=self.callbackF)\n",
    "\n",
    "        self.N.setParams(_res.x)\n",
    "        self.optimizationResults = _res"
   ]
  },
  {
   "cell_type": "code",
   "execution_count": 10,
   "metadata": {},
   "outputs": [],
   "source": [
    "NN=Neural_Network()"
   ]
  },
  {
   "cell_type": "code",
   "execution_count": 11,
   "metadata": {},
   "outputs": [],
   "source": [
    "T = trainer(NN)"
   ]
  },
  {
   "cell_type": "code",
   "execution_count": 12,
   "metadata": {},
   "outputs": [
    {
     "name": "stdout",
     "output_type": "stream",
     "text": [
      "Warning: Maximum number of iterations has been exceeded.\n",
      "         Current function value: 0.517049\n",
      "         Iterations: 100\n",
      "         Function evaluations: 108\n",
      "         Gradient evaluations: 108\n"
     ]
    }
   ],
   "source": [
    "#Train network with new data:\n",
    "T = trainer(NN)\n",
    "T.train(X,y)"
   ]
  },
  {
   "cell_type": "code",
   "execution_count": 13,
   "metadata": {},
   "outputs": [
    {
     "data": {
      "image/png": "[encoded data removed]",
      "text/plain": [
       "<Figure size 432x288 with 1 Axes>"
      ]
     },
     "metadata": {
      "needs_background": "light"
     },
     "output_type": "display_data"
    }
   ],
   "source": [
    "#Plot cost during training:\n",
    "plot.plot(T.J)\n",
    "plot.grid(1)\n",
    "plot.xlabel('Iterations')\n",
    "plot.ylabel('Cost')\n",
    "plot.show()"
   ]
  },
  {
   "cell_type": "code",
   "execution_count": 14,
   "metadata": {},
   "outputs": [],
   "source": [
    "#Training Data:\n",
    "trainX = np.array(([\t0.697183099\t,\t0.223256598\t,\t0.566339448\t,\t0.263729105\t,\t0.334917603\t,\t0.529012867\t,\t0.467788981\t]\t,\n",
    "[\t0.971830986\t,\t0.241974687\t,\t0.263729105\t,\t0.334917603\t,\t0.529012867\t,\t0.467788981\t,\t0.588593257\t]\t,\n",
    "[\t0.591549296\t,\t0.365733465\t,\t0.334917603\t,\t0.529012867\t,\t0.467788981\t,\t0.588593257\t,\t0.286501133\t]\t,\n",
    "[\t0.281690141\t,\t0.552558994\t,\t0.529012867\t,\t0.467788981\t,\t0.588593257\t,\t0.286501133\t,\t0.473208072\t]\t,\n",
    "[\t0.26056338\t,\t0.370023519\t,\t0.467788981\t,\t0.588593257\t,\t0.286501133\t,\t0.473208072\t,\t0.452716208\t]\t,\n",
    "[\t0.464788732\t,\t0.332531703\t,\t0.588593257\t,\t0.286501133\t,\t0.473208072\t,\t0.452716208\t,\t0.383674618\t]\t,\n",
    "[\t0.992957746\t,\t0.387887522\t,\t0.286501133\t,\t0.473208072\t,\t0.452716208\t,\t0.383674618\t,\t0.233998134\t]\t,\n",
    "[\t0.676056338\t,\t0.398363943\t,\t0.473208072\t,\t0.452716208\t,\t0.383674618\t,\t0.233998134\t,\t0.353173722\t]\t,\n",
    "[\t0.253521127\t,\t0.284826299\t,\t0.452716208\t,\t0.383674618\t,\t0.233998134\t,\t0.353173722\t,\t0.140629858\t]\t,\n",
    "[\t0.450704225\t,\t0.186735022\t,\t0.383674618\t,\t0.233998134\t,\t0.353173722\t,\t0.140629858\t,\t0.263729105\t]\t,\n",
    "[\t0\t,\t0.182694768\t,\t0.233998134\t,\t0.353173722\t,\t0.140629858\t,\t0.263729105\t,\t0.33746428\t]\t,\n",
    "[\t0.485915493\t,\t0.255617002\t,\t0.353173722\t,\t0.140629858\t,\t0.263729105\t,\t0.33746428\t,\t0.287996565\t]\t,\n",
    "[\t0.781690141\t,\t0.23597043\t,\t0.140629858\t,\t0.263729105\t,\t0.33746428\t,\t0.287996565\t,\t0.509868372\t]\t,\n",
    "[\t0.802816901\t,\t0.164134134\t,\t0.263729105\t,\t0.33746428\t,\t0.287996565\t,\t0.509868372\t,\t0.509868372\t]\t,\n",
    "[\t0.302816901\t,\t0.178176635\t,\t0.33746428\t,\t0.287996565\t,\t0.509868372\t,\t0.509868372\t,\t0\t]\t,\n",
    "[\t0.471830986\t,\t0.163956101\t,\t0.287996565\t,\t0.509868372\t,\t0.509868372\t,\t0\t,\t0.476391418\t]\t,\n",
    "[\t0.415492958\t,\t0.133241484\t,\t0.509868372\t,\t0.509868372\t,\t0\t,\t0.476391418\t,\t0.449769763\t]\t,\n",
    "[\t0.647887324\t,\t0.226399017\t,\t0.509868372\t,\t0\t,\t0.476391418\t,\t0.449769763\t,\t0.46613068\t]\t,\n",
    "[\t0.612676056\t,\t0.255013861\t,\t0\t,\t0.476391418\t,\t0.449769763\t,\t0.46613068\t,\t0.588223101\t]\t,\n",
    "[\t1\t,\t0.23708614\t,\t0.476391418\t,\t0.449769763\t,\t0.46613068\t,\t0.588223101\t,\t0.636358252\t]\t,\n",
    "[\t0.478873239\t,\t0.231651119\t,\t0.449769763\t,\t0.46613068\t,\t0.588223101\t,\t0.636358252\t,\t0.573135522\t]\t,\n",
    "[\t0.302816901\t,\t0.233067608\t,\t0.46613068\t,\t0.588223101\t,\t0.636358252\t,\t0.573135522\t,\t0.45643258\t]\t,\n",
    "[\t0.38028169\t,\t0.221173719\t,\t0.588223101\t,\t0.636358252\t,\t0.573135522\t,\t0.45643258\t,\t0.762226269\t]\t,\n",
    "[\t0.591549296\t,\t0.22633168\t,\t0.636358252\t,\t0.573135522\t,\t0.45643258\t,\t0.762226269\t,\t0.553591258\t]\t,\n",
    "[\t0.802816901\t,\t0.218698642\t,\t0.573135522\t,\t0.45643258\t,\t0.762226269\t,\t0.553591258\t,\t0.711159478\t]\t,\n",
    "[\t0.471830986\t,\t0.232032203\t,\t0.45643258\t,\t0.762226269\t,\t0.553591258\t,\t0.711159478\t,\t0.315462177\t]\t,\n",
    "[\t0.267605634\t,\t0.231947948\t,\t0.762226269\t,\t0.553591258\t,\t0.711159478\t,\t0.315462177\t,\t0.60413983\t]\t,\n",
    "[\t0.408450704\t,\t0.221547817\t,\t0.553591258\t,\t0.711159478\t,\t0.315462177\t,\t0.60413983\t,\t0.837619746\t]\t,\n",
    "[\t0.323943662\t,\t0.287958581\t,\t0.711159478\t,\t0.315462177\t,\t0.60413983\t,\t0.837619746\t,\t0.747627297\t]\t,\n",
    "[\t0.457746479\t,\t0.28837327\t,\t0.315462177\t,\t0.60413983\t,\t0.837619746\t,\t0.747627297\t,\t0.84718459\t]\t,\n",
    "[\t0.816901408\t,\t0.297145757\t,\t0.60413983\t,\t0.837619746\t,\t0.747627297\t,\t0.84718459\t,\t0.859340529\t]\t,\n",
    "[\t0.753521127\t,\t0.243669818\t,\t0.837619746\t,\t0.747627297\t,\t0.84718459\t,\t0.859340529\t,\t0.789721494\t]\t,\n",
    "[\t0.436619718\t,\t0.307437314\t,\t0.747627297\t,\t0.84718459\t,\t0.859340529\t,\t0.789721494\t,\t0.743659219\t]\t,\n",
    "[\t0.457746479\t,\t0.358597855\t,\t0.84718459\t,\t0.859340529\t,\t0.789721494\t,\t0.743659219\t,\t0.681354477\t]\t,\n",
    "[\t0.387323944\t,\t0.372181217\t,\t0.859340529\t,\t0.789721494\t,\t0.743659219\t,\t0.681354477\t,\t0.896681917\t]\t,\n",
    "[\t0.464788732\t,\t0.450259481\t,\t0.789721494\t,\t0.743659219\t,\t0.681354477\t,\t0.896681917\t,\t0.735190038\t]\t,\n",
    "[\t0.732394366\t,\t0.443095634\t,\t0.743659219\t,\t0.681354477\t,\t0.896681917\t,\t0.735190038\t,\t0.987207391\t]\t,\n",
    "[\t0.514084507\t,\t0.558155976\t,\t0.681354477\t,\t0.896681917\t,\t0.735190038\t,\t0.987207391\t,\t0.505026725\t]\t,\n",
    "[\t0.281690141\t,\t0.602359827\t,\t0.896681917\t,\t0.735190038\t,\t0.987207391\t,\t0.505026725\t,\t1\t]\t,\n",
    "[\t0.190140845\t,\t0.696291723\t,\t0.735190038\t,\t0.987207391\t,\t0.505026725\t,\t1\t,\t0.937872933\t]\t,\n",
    "[\t0.514084507\t,\t0.790604671\t,\t0.987207391\t,\t0.505026725\t,\t1\t,\t0.937872933\t,\t0.803313641\t]\t,\n",
    "[\t0.507042254\t,\t0.644022227\t,\t0.505026725\t,\t1\t,\t0.937872933\t,\t0.803313641\t,\t0.944387687\t]\t,\n",
    "[\t0.753521127\t,\t0.583228643\t,\t1\t,\t0.937872933\t,\t0.803313641\t,\t0.944387687\t,\t0.787826293\t]\t,\n",
    "[\t0.542253521\t,\t0.481715009\t,\t0.937872933\t,\t0.803313641\t,\t0.944387687\t,\t0.787826293\t,\t0.704674336\t]\t,\n",
    "[\t0.26056338\t,\t0.442812107\t,\t0.803313641\t,\t0.944387687\t,\t0.787826293\t,\t0.704674336\t,\t0.651046062\t]\t,\n",
    "\n",
    ")\n",
    ", dtype=float)\n",
    "trainY = np.array(([\t0.588593257\t]\t,\n",
    "[\t0.286501133\t]\t,\n",
    "[\t0.473208072\t]\t,\n",
    "[\t0.452716208\t]\t,\n",
    "[\t0.383674618\t]\t,\n",
    "[\t0.233998134\t]\t,\n",
    "[\t0.353173722\t]\t,\n",
    "[\t0.140629858\t]\t,\n",
    "[\t0.263729105\t]\t,\n",
    "[\t0.33746428\t]\t,\n",
    "[\t0.287996565\t]\t,\n",
    "[\t0.509868372\t]\t,\n",
    "[\t0.509868372\t]\t,\n",
    "[\t0\t]\t,\n",
    "[\t0.476391418\t]\t,\n",
    "[\t0.449769763\t]\t,\n",
    "[\t0.46613068\t]\t,\n",
    "[\t0.588223101\t]\t,\n",
    "[\t0.636358252\t]\t,\n",
    "[\t0.573135522\t]\t,\n",
    "[\t0.45643258\t]\t,\n",
    "[\t0.762226269\t]\t,\n",
    "[\t0.553591258\t]\t,\n",
    "[\t0.711159478\t]\t,\n",
    "[\t0.315462177\t]\t,\n",
    "[\t0.60413983\t]\t,\n",
    "[\t0.837619746\t]\t,\n",
    "[\t0.747627297\t]\t,\n",
    "[\t0.84718459\t]\t,\n",
    "[\t0.859340529\t]\t,\n",
    "[\t0.789721494\t]\t,\n",
    "[\t0.743659219\t]\t,\n",
    "[\t0.681354477\t]\t,\n",
    "[\t0.896681917\t]\t,\n",
    "[\t0.735190038\t]\t,\n",
    "[\t0.987207391\t]\t,\n",
    "[\t0.505026725\t]\t,\n",
    "[\t1\t]\t,\n",
    "[\t0.937872933\t]\t,\n",
    "[\t0.803313641\t]\t,\n",
    "[\t0.944387687\t]\t,\n",
    "[\t0.787826293\t]\t,\n",
    "[\t0.704674336\t]\t,\n",
    "[\t0.651046062\t]\t,\n",
    "[\t0.447904174\t]\t,\n",
    "\n",
    ")\n",
    ", dtype=float)\n",
    "\n",
    "#Testing Data:\n",
    "testX = np.array(([\t0.394366197\t,\t0.496270585\t,\t0.944387687\t,\t0.787826293\t,\t0.704674336\t,\t0.651046062\t,\t0.447904174\t]\t,\n",
    "[\t0.626760563\t,\t0.475463393\t,\t0.787826293\t,\t0.704674336\t,\t0.651046062\t,\t0.447904174\t,\t0.679770207\t]\t,\n",
    "[\t0.795774648\t,\t0.551559791\t,\t0.704674336\t,\t0.651046062\t,\t0.447904174\t,\t0.679770207\t,\t0.53034543\t]\t,\n",
    "[\t0.704225352\t,\t0.500994351\t,\t0.651046062\t,\t0.447904174\t,\t0.679770207\t,\t0.53034543\t,\t0.783902634\t]\t,\n",
    "[\t0.535211268\t,\t0.445458587\t,\t0.447904174\t,\t0.679770207\t,\t0.53034543\t,\t0.783902634\t,\t0.334902797\t]\t,\n",
    "[\t0.401408451\t,\t0.505711667\t,\t0.679770207\t,\t0.53034543\t,\t0.783902634\t,\t0.334902797\t,\t0.87703401\t]\t,\n",
    "[\t0.126760563\t,\t0.465889036\t,\t0.53034543\t,\t0.783902634\t,\t0.334902797\t,\t0.87703401\t,\t0.70343061\t]\t,\n",
    "[\t0.330985915\t,\t0.46785659\t,\t0.783902634\t,\t0.334902797\t,\t0.87703401\t,\t0.70343061\t,\t0.676453605\t]\t,\n",
    "[\t0.415492958\t,\t0.453001423\t,\t0.334902797\t,\t0.87703401\t,\t0.70343061\t,\t0.676453605\t,\t0.799656495\t]\t,\n",
    "[\t0.556338028\t,\t0.437411724\t,\t0.87703401\t,\t0.70343061\t,\t0.676453605\t,\t0.799656495\t,\t0.653962896\t]\t,\n",
    "[\t0.591549296\t,\t0.350673696\t,\t0.70343061\t,\t0.676453605\t,\t0.799656495\t,\t0.653962896\t,\t0.731769792\t]\t,\n",
    "[\t0.514084507\t,\t0.364031312\t,\t0.676453605\t,\t0.799656495\t,\t0.653962896\t,\t0.731769792\t,\t0.607234339\t]\t,\n",
    "\n",
    ")\n",
    ", dtype=float)\n",
    "testY = np.array(([\t0.679770207\t]\t,\n",
    "[\t0.53034543\t]\t,\n",
    "[\t0.783902634\t]\t,\n",
    "[\t0.334902797\t]\t,\n",
    "[\t0.87703401\t]\t,\n",
    "[\t0.70343061\t]\t,\n",
    "[\t0.676453605\t]\t,\n",
    "[\t0.799656495\t]\t,\n",
    "[\t0.653962896\t]\t,\n",
    "[\t0.731769792\t]\t,\n",
    "[\t0.607234339\t]\t,\n",
    "[\t0.67\t]\t,\n",
    "\n",
    ")\n",
    ", dtype=float)\n",
    "\n",
    "\n",
    "dataprediksi = np.array(([\t0.387323944\t,\t0.795380412\t,\t0.799656495\t,\t0.653962896\t,\t0.731769792\t,\t0.607234339\t,\t0.67\t]\t,\n",
    "[\t0.373239437\t,\t1\t,\t0.653962896\t,\t0.731769792\t,\t0.607234339\t,\t0.67\t,\t0.67\t]\t,\n",
    "[\t0.366197183\t,\t0.707681705\t,\t0.731769792\t,\t0.607234339\t,\t0.67\t,\t0.67\t,\t0.389745184\t]\t,\n",
    "[\t0.443661972\t,\t0.491695324\t,\t0.607234339\t,\t0.67\t,\t0.67\t,\t0.389745184\t,\t0.136735812\t]\t,\n",
    "\n",
    "), dtype=float)"
   ]
  },
  {
   "cell_type": "code",
   "execution_count": 15,
   "metadata": {},
   "outputs": [
    {
     "data": {
      "text/plain": [
       "array([[0.3943662 , 0.49627058, 0.94438769, 0.78782629, 0.70467434,\n",
       "        0.65104606, 0.44790417],\n",
       "       [0.62676056, 0.47546339, 0.78782629, 0.70467434, 0.65104606,\n",
       "        0.44790417, 0.67977021],\n",
       "       [0.79577465, 0.55155979, 0.70467434, 0.65104606, 0.44790417,\n",
       "        0.67977021, 0.53034543],\n",
       "       [0.70422535, 0.50099435, 0.65104606, 0.44790417, 0.67977021,\n",
       "        0.53034543, 0.78390263],\n",
       "       [0.53521127, 0.44545859, 0.44790417, 0.67977021, 0.53034543,\n",
       "        0.78390263, 0.3349028 ],\n",
       "       [0.40140845, 0.50571167, 0.67977021, 0.53034543, 0.78390263,\n",
       "        0.3349028 , 0.87703401],\n",
       "       [0.12676056, 0.46588904, 0.53034543, 0.78390263, 0.3349028 ,\n",
       "        0.87703401, 0.70343061],\n",
       "       [0.33098592, 0.46785659, 0.78390263, 0.3349028 , 0.87703401,\n",
       "        0.70343061, 0.6764536 ],\n",
       "       [0.41549296, 0.45300142, 0.3349028 , 0.87703401, 0.70343061,\n",
       "        0.6764536 , 0.7996565 ],\n",
       "       [0.55633803, 0.43741172, 0.87703401, 0.70343061, 0.6764536 ,\n",
       "        0.7996565 , 0.6539629 ],\n",
       "       [0.5915493 , 0.3506737 , 0.70343061, 0.6764536 , 0.7996565 ,\n",
       "        0.6539629 , 0.73176979],\n",
       "       [0.51408451, 0.36403131, 0.6764536 , 0.7996565 , 0.6539629 ,\n",
       "        0.73176979, 0.60723434]])"
      ]
     },
     "execution_count": 15,
     "metadata": {},
     "output_type": "execute_result"
    }
   ],
   "source": [
    "testX"
   ]
  },
  {
   "cell_type": "code",
   "execution_count": 16,
   "metadata": {},
   "outputs": [],
   "source": [
    "##Need to modify trainer class a bit to check testing error during training:\n",
    "class trainer(object):\n",
    "    def __init__(self, N):\n",
    "        #Make Local reference to network:\n",
    "        self.N = N\n",
    "        \n",
    "    def callbackF(self, params):\n",
    "        self.N.setParams(params)\n",
    "        self.J.append(self.N.costFunction(self.X, self.y))\n",
    "        self.testJ.append(self.N.costFunction(self.testX, self.testY))\n",
    "        \n",
    "    def costFunctionWrapper(self, params, X, y):\n",
    "        self.N.setParams(params)\n",
    "        cost = self.N.costFunction(X, y)\n",
    "        grad = self.N.computeGradients(X,y)\n",
    "        \n",
    "        return cost, grad\n",
    "        \n",
    "    def train(self, trainX, trainY, testX, testY):\n",
    "        #Make an internal variable for the callback function:\n",
    "        self.X = trainX\n",
    "        self.y = trainY\n",
    "        \n",
    "        self.testX = testX\n",
    "        self.testY = testY\n",
    "\n",
    "        #Make empty list to store training costs:\n",
    "        self.J = []\n",
    "        self.testJ = []\n",
    "        \n",
    "        params0 = self.N.getParams()\n",
    "\n",
    "        options = {'maxiter': 100, 'disp' : True}\n",
    "        _res = optimize.minimize(self.costFunctionWrapper, params0, jac=True, method='BFGS', \\\n",
    "                                 args=(trainX, trainY), options=options, callback=self.callbackF)\n",
    "\n",
    "        self.N.setParams(_res.x)\n",
    "        self.optimizationResults = _res"
   ]
  },
  {
   "cell_type": "code",
   "execution_count": 17,
   "metadata": {},
   "outputs": [
    {
     "name": "stdout",
     "output_type": "stream",
     "text": [
      "Warning: Maximum number of iterations has been exceeded.\n",
      "         Current function value: 0.414293\n",
      "         Iterations: 100\n",
      "         Function evaluations: 105\n",
      "         Gradient evaluations: 105\n"
     ]
    }
   ],
   "source": [
    "#Train network with new data:\n",
    "NN = Neural_Network()\n",
    "\n",
    "T = trainer(NN)\n",
    "T.train(trainX, trainY, testX, testY)"
   ]
  },
  {
   "cell_type": "code",
   "execution_count": 18,
   "metadata": {},
   "outputs": [
    {
     "data": {
      "image/png": "[encoded data removed]",
      "text/plain": [
       "<Figure size 432x288 with 1 Axes>"
      ]
     },
     "metadata": {
      "needs_background": "light"
     },
     "output_type": "display_data"
    }
   ],
   "source": [
    "#Plot cost during training:\n",
    "plot.plot(T.J)\n",
    "plot.plot(T.testJ)\n",
    "plot.grid(1)\n",
    "plot.xlabel('Iterations')\n",
    "plot.ylabel('Cost')\n",
    "plot.legend(['Training', 'Testing'])\n",
    "plot.show()"
   ]
  },
  {
   "cell_type": "code",
   "execution_count": 19,
   "metadata": {},
   "outputs": [
    {
     "data": {
      "text/plain": [
       "[array([3.13028094]),\n",
       " array([1.48101898]),\n",
       " array([0.96961027]),\n",
       " array([0.91518178]),\n",
       " array([0.83268615]),\n",
       " array([0.78194495]),\n",
       " array([0.73850811]),\n",
       " array([0.66297755]),\n",
       " array([0.59883639]),\n",
       " array([0.58609083]),\n",
       " array([0.57613062]),\n",
       " array([0.56652057]),\n",
       " array([0.55344137]),\n",
       " array([0.5349163]),\n",
       " array([0.51575632]),\n",
       " array([0.49738011]),\n",
       " array([0.48806243]),\n",
       " array([0.47888477]),\n",
       " array([0.4716303]),\n",
       " array([0.46464175]),\n",
       " array([0.46042284]),\n",
       " array([0.45804242]),\n",
       " array([0.45438977]),\n",
       " array([0.44908609]),\n",
       " array([0.44252662]),\n",
       " array([0.43717009]),\n",
       " array([0.43577699]),\n",
       " array([0.43462719]),\n",
       " array([0.43357641]),\n",
       " array([0.43244437]),\n",
       " array([0.43107639]),\n",
       " array([0.42932671]),\n",
       " array([0.42850165]),\n",
       " array([0.42719499]),\n",
       " array([0.42523413]),\n",
       " array([0.422826]),\n",
       " array([0.42084747]),\n",
       " array([0.4202726]),\n",
       " array([0.4200242]),\n",
       " array([0.41965176]),\n",
       " array([0.4191784]),\n",
       " array([0.4188644]),\n",
       " array([0.41836898]),\n",
       " array([0.41763726]),\n",
       " array([0.41688813]),\n",
       " array([0.41640153]),\n",
       " array([0.41620769]),\n",
       " array([0.4160819]),\n",
       " array([0.4159499]),\n",
       " array([0.41589129]),\n",
       " array([0.41587092]),\n",
       " array([0.41584397]),\n",
       " array([0.41579728]),\n",
       " array([0.41571461]),\n",
       " array([0.41557256]),\n",
       " array([0.41536333]),\n",
       " array([0.41524511]),\n",
       " array([0.41521186]),\n",
       " array([0.41519821]),\n",
       " array([0.41519638]),\n",
       " array([0.41519418]),\n",
       " array([0.41519002]),\n",
       " array([0.41518222]),\n",
       " array([0.41516819]),\n",
       " array([0.41514605]),\n",
       " array([0.41512773]),\n",
       " array([0.41511959]),\n",
       " array([0.41510952]),\n",
       " array([0.41510439]),\n",
       " array([0.4150953]),\n",
       " array([0.41507877]),\n",
       " array([0.41504892]),\n",
       " array([0.4149981]),\n",
       " array([0.4149395]),\n",
       " array([0.41492345]),\n",
       " array([0.41490666]),\n",
       " array([0.41489702]),\n",
       " array([0.41488407]),\n",
       " array([0.41486305]),\n",
       " array([0.41482937]),\n",
       " array([0.41478148]),\n",
       " array([0.4147419]),\n",
       " array([0.41469851]),\n",
       " array([0.41464666]),\n",
       " array([0.41458953]),\n",
       " array([0.41454737]),\n",
       " array([0.41450861]),\n",
       " array([0.41447278]),\n",
       " array([0.41444821]),\n",
       " array([0.41443102]),\n",
       " array([0.41441043]),\n",
       " array([0.4143913]),\n",
       " array([0.41436729]),\n",
       " array([0.41435306]),\n",
       " array([0.41434459]),\n",
       " array([0.41433467]),\n",
       " array([0.41432365]),\n",
       " array([0.41430957]),\n",
       " array([0.41429836]),\n",
       " array([0.4142934])]"
      ]
     },
     "execution_count": 19,
     "metadata": {},
     "output_type": "execute_result"
    }
   ],
   "source": [
    "T.J"
   ]
  },
  {
   "cell_type": "code",
   "execution_count": 20,
   "metadata": {},
   "outputs": [
    {
     "data": {
      "text/plain": [
       "[array([0.67707427]),\n",
       " array([0.20090604]),\n",
       " array([0.0895135]),\n",
       " array([0.09730006]),\n",
       " array([0.07460467]),\n",
       " array([0.07399493]),\n",
       " array([0.07319867]),\n",
       " array([0.0781818]),\n",
       " array([0.12197263]),\n",
       " array([0.10210542]),\n",
       " array([0.10449233]),\n",
       " array([0.11303757]),\n",
       " array([0.1210058]),\n",
       " array([0.13028365]),\n",
       " array([0.12567899]),\n",
       " array([0.11163435]),\n",
       " array([0.11194707]),\n",
       " array([0.11100189]),\n",
       " array([0.11614181]),\n",
       " array([0.12572338]),\n",
       " array([0.13402194]),\n",
       " array([0.13853067]),\n",
       " array([0.1394273]),\n",
       " array([0.13733316]),\n",
       " array([0.12990161]),\n",
       " array([0.12452382]),\n",
       " array([0.12377713]),\n",
       " array([0.12460789]),\n",
       " array([0.12080804]),\n",
       " array([0.12291983]),\n",
       " array([0.12167298]),\n",
       " array([0.11935846]),\n",
       " array([0.11835738]),\n",
       " array([0.11747007]),\n",
       " array([0.11715843]),\n",
       " array([0.1179224]),\n",
       " array([0.11933701]),\n",
       " array([0.12024336]),\n",
       " array([0.12062505]),\n",
       " array([0.12124304]),\n",
       " array([0.1216846]),\n",
       " array([0.12144268]),\n",
       " array([0.12119962]),\n",
       " array([0.12081215]),\n",
       " array([0.12147141]),\n",
       " array([0.12212991]),\n",
       " array([0.12411334]),\n",
       " array([0.12461777]),\n",
       " array([0.12567401]),\n",
       " array([0.12616022]),\n",
       " array([0.12617508]),\n",
       " array([0.12620417]),\n",
       " array([0.12602725]),\n",
       " array([0.12588667]),\n",
       " array([0.12538106]),\n",
       " array([0.12468898]),\n",
       " array([0.12363749]),\n",
       " array([0.12377541]),\n",
       " array([0.1236899]),\n",
       " array([0.12383382]),\n",
       " array([0.12388706]),\n",
       " array([0.12392498]),\n",
       " array([0.12394653]),\n",
       " array([0.12393332]),\n",
       " array([0.12382195]),\n",
       " array([0.12355029]),\n",
       " array([0.12334573]),\n",
       " array([0.12301135]),\n",
       " array([0.12289018]),\n",
       " array([0.12278611]),\n",
       " array([0.12267955]),\n",
       " array([0.12258961]),\n",
       " array([0.12256471]),\n",
       " array([0.12292508]),\n",
       " array([0.12335871]),\n",
       " array([0.1233538]),\n",
       " array([0.12343618]),\n",
       " array([0.12360024]),\n",
       " array([0.12383839]),\n",
       " array([0.12416965]),\n",
       " array([0.12450019]),\n",
       " array([0.12459681]),\n",
       " array([0.12443924]),\n",
       " array([0.12422588]),\n",
       " array([0.12370572]),\n",
       " array([0.12380572]),\n",
       " array([0.12419996]),\n",
       " array([0.1243788]),\n",
       " array([0.12433758]),\n",
       " array([0.12466159]),\n",
       " array([0.12448035]),\n",
       " array([0.12459113]),\n",
       " array([0.12457691]),\n",
       " array([0.12460086]),\n",
       " array([0.12472696]),\n",
       " array([0.12451622]),\n",
       " array([0.1245203]),\n",
       " array([0.12476475]),\n",
       " array([0.12502634]),\n",
       " array([0.12503868])]"
      ]
     },
     "execution_count": 20,
     "metadata": {},
     "output_type": "execute_result"
    }
   ],
   "source": [
    "T.testJ"
   ]
  },
  {
   "cell_type": "code",
   "execution_count": 21,
   "metadata": {},
   "outputs": [
    {
     "data": {
      "text/plain": [
       "0.36759150015963366"
      ]
     },
     "execution_count": 21,
     "metadata": {},
     "output_type": "execute_result"
    }
   ],
   "source": [
    "from sklearn.metrics import mean_absolute_error\n",
    "mean_absolute_error(T.J, T.testJ)"
   ]
  },
  {
   "cell_type": "code",
   "execution_count": 22,
   "metadata": {},
   "outputs": [],
   "source": [
    "yHat = NN.forward(X)"
   ]
  },
  {
   "cell_type": "code",
   "execution_count": 23,
   "metadata": {},
   "outputs": [
    {
     "data": {
      "text/plain": [
       "array([[0.41779484],\n",
       "       [0.40376705],\n",
       "       [0.49937925],\n",
       "       [0.47446   ],\n",
       "       [0.49250377],\n",
       "       [0.48680761],\n",
       "       [0.35536002],\n",
       "       [0.30211773],\n",
       "       [0.2134816 ],\n",
       "       [0.30624993],\n",
       "       [0.31144078],\n",
       "       [0.3795307 ],\n",
       "       [0.39108013],\n",
       "       [0.40863472],\n",
       "       [0.48669202],\n",
       "       [0.32189246],\n",
       "       [0.42861356],\n",
       "       [0.41659496],\n",
       "       [0.50039657],\n",
       "       [0.40719828],\n",
       "       [0.69839826],\n",
       "       [0.71685603],\n",
       "       [0.72553119],\n",
       "       [0.64639079],\n",
       "       [0.4661165 ],\n",
       "       [0.62959998],\n",
       "       [0.67682575],\n",
       "       [0.71908626],\n",
       "       [0.81437785],\n",
       "       [0.84818885],\n",
       "       [0.63632987],\n",
       "       [0.69755893],\n",
       "       [0.85950784],\n",
       "       [0.80585976],\n",
       "       [0.84348037],\n",
       "       [0.84384672],\n",
       "       [0.59228732],\n",
       "       [0.77269674],\n",
       "       [0.84486673],\n",
       "       [0.73469034],\n",
       "       [0.78642101],\n",
       "       [0.86958649],\n",
       "       [0.7380178 ],\n",
       "       [0.82757134],\n",
       "       [0.53241439],\n",
       "       [0.57228478],\n",
       "       [0.50890749],\n",
       "       [0.43315565],\n",
       "       [0.4599779 ],\n",
       "       [0.65821503],\n",
       "       [0.63392927],\n",
       "       [0.65086568],\n",
       "       [0.81658408],\n",
       "       [0.81579129],\n",
       "       [0.74815324],\n",
       "       [0.71212706],\n",
       "       [0.76101996]])"
      ]
     },
     "execution_count": 23,
     "metadata": {},
     "output_type": "execute_result"
    }
   ],
   "source": [
    "yHat"
   ]
  },
  {
   "cell_type": "code",
   "execution_count": 24,
   "metadata": {},
   "outputs": [
    {
     "data": {
      "text/plain": [
       "array([[0.58859326],\n",
       "       [0.28650113],\n",
       "       [0.47320807],\n",
       "       [0.45271621],\n",
       "       [0.38367462],\n",
       "       [0.23399813],\n",
       "       [0.35317372],\n",
       "       [0.14062986],\n",
       "       [0.26372911],\n",
       "       [0.33746428],\n",
       "       [0.28799656],\n",
       "       [0.50986837],\n",
       "       [0.50986837],\n",
       "       [0.        ],\n",
       "       [0.47639142],\n",
       "       [0.44976976],\n",
       "       [0.46613068],\n",
       "       [0.5882231 ],\n",
       "       [0.63635825],\n",
       "       [0.57313552],\n",
       "       [0.45643258],\n",
       "       [0.76222627],\n",
       "       [0.55359126],\n",
       "       [0.71115948],\n",
       "       [0.31546218],\n",
       "       [0.60413983],\n",
       "       [0.83761975],\n",
       "       [0.7476273 ],\n",
       "       [0.84718459],\n",
       "       [0.85934053],\n",
       "       [0.78972149],\n",
       "       [0.74365922],\n",
       "       [0.68135448],\n",
       "       [0.89668192],\n",
       "       [0.73519004],\n",
       "       [0.98720739],\n",
       "       [0.50502673],\n",
       "       [1.        ],\n",
       "       [0.93787293],\n",
       "       [0.80331364],\n",
       "       [0.94438769],\n",
       "       [0.78782629],\n",
       "       [0.70467434],\n",
       "       [0.65104606],\n",
       "       [0.44790417],\n",
       "       [0.67977021],\n",
       "       [0.53034543],\n",
       "       [0.78390263],\n",
       "       [0.3349028 ],\n",
       "       [0.87703401],\n",
       "       [0.70343061],\n",
       "       [0.6764536 ],\n",
       "       [0.7996565 ],\n",
       "       [0.6539629 ],\n",
       "       [0.73176979],\n",
       "       [0.60723434],\n",
       "       [0.67      ]])"
      ]
     },
     "execution_count": 24,
     "metadata": {},
     "output_type": "execute_result"
    }
   ],
   "source": [
    "y"
   ]
  },
  {
   "cell_type": "code",
   "execution_count": 25,
   "metadata": {},
   "outputs": [
    {
     "data": {
      "text/plain": [
       "0.018923932674194947"
      ]
     },
     "execution_count": 25,
     "metadata": {},
     "output_type": "execute_result"
    }
   ],
   "source": [
    "from sklearn.metrics import mean_squared_error \n",
    "mean_squared_error(y,yHat) "
   ]
  },
  {
   "cell_type": "code",
   "execution_count": 26,
   "metadata": {},
   "outputs": [
    {
     "data": {
      "image/png": "[encoded data removed]",
      "text/plain": [
       "<Figure size 432x288 with 1 Axes>"
      ]
     },
     "metadata": {
      "needs_background": "light"
     },
     "output_type": "display_data"
    }
   ],
   "source": [
    "#Plot cost during training:\n",
    "plot.plot(y)\n",
    "plot.plot(yHat)\n",
    "plot.grid(1)\n",
    "plot.legend(['y', 'yHat'])\n",
    "plot.show()"
   ]
  },
  {
   "cell_type": "code",
   "execution_count": 27,
   "metadata": {},
   "outputs": [],
   "source": [
    "#Regularization Parameter:\n",
    "Lambda = 0.0001"
   ]
  },
  {
   "cell_type": "code",
   "execution_count": 28,
   "metadata": {},
   "outputs": [],
   "source": [
    "#Need to make changes to costFunction and costFunctionPrim:\n",
    "def costFunction(self, X, y):\n",
    "    #Compute cost for given X,y, use weights already stored in class.\n",
    "    self.yHat = self.forward(X)\n",
    "    #We don't want cost to increase with the number of examples, so normalize by dividing the error term by number of examples(X.shape[0])\n",
    "    J = 0.5*sum((y-self.yHat)**2)/X.shape[0] + (self.Lambda/2)*(sum(self.W1**2)+sum(self.W2**2))\n",
    "    return J\n",
    "\n",
    "def costFunctionPrime(self, X, y):\n",
    "    #Compute derivative with respect to W and W2 for a given X and y:\n",
    "    self.yHat = self.forward(X)\n",
    "\n",
    "    delta3 = np.multiply(-(y-self.yHat), self.tanhPrime(self.z3))\n",
    "    #Add gradient of regularization term:\n",
    "    dJdW2 = np.dot(self.a2.T, delta3)/X.shape[0] + self.Lambda*self.W2\n",
    "\n",
    "    delta2 = np.dot(delta3, self.W2.T)*self.tanhPrime(self.z2)\n",
    "    #Add gradient of regularization term:\n",
    "    dJdW1 = np.dot(X.T, delta2)/X.shape[0] + self.Lambda*self.W1\n",
    "\n",
    "    return dJdW1, dJdW2"
   ]
  },
  {
   "cell_type": "code",
   "execution_count": 29,
   "metadata": {},
   "outputs": [],
   "source": [
    "#New complete class, with changes:\n",
    "class Neural_Network(object):\n",
    "    def __init__(self, Lambda=0.0001):        \n",
    "        #Define Hyperparameters\n",
    "        self.inputLayerSize = 7\n",
    "        self.outputLayerSize = 1\n",
    "        self.hiddenLayerSize = 2\n",
    "        \n",
    "        #Weights (parameters)\n",
    "        self.W1 = np.random.randn(self.inputLayerSize,self.hiddenLayerSize)\n",
    "        self.W2 = np.random.randn(self.hiddenLayerSize,self.outputLayerSize)\n",
    "        \n",
    "        #Regularization Parameter:\n",
    "        self.Lambda = Lambda\n",
    "        \n",
    "    def forward(self, X):\n",
    "        #Propogate inputs though network\n",
    "        self.z2 = np.dot(X, self.W1)\n",
    "        self.a2 = self.tanh(self.z2)\n",
    "        self.z3 = np.dot(self.a2, self.W2)\n",
    "        yHat = self.tanh(self.z3) \n",
    "        return yHat\n",
    "        \n",
    "    def tanh(self, z):\n",
    "        # activation function\n",
    "        return (np.exp(z)-np.exp(-z))/(np.exp(z)+np.exp(-z))\n",
    "    \n",
    "    def tanhPrime(self,z): \n",
    "        #derivative of tanh\n",
    "        return 1-((np.exp(z)-np.exp(-z))/(np.exp(z)+np.exp(-z)))**2\n",
    "    \n",
    "    def costFunction(self, X, y):\n",
    "        #Compute cost for given X,y, use weights already stored in class.\n",
    "        self.yHat = self.forward(X)\n",
    "        J = 0.5*sum((y-self.yHat)**2)/X.shape[0] + (self.Lambda/2)*(np.sum(self.W1**2)+np.sum(self.W2**2))\n",
    "        return J\n",
    "        \n",
    "    def costFunctionPrime(self, X, y):\n",
    "        #Compute derivative with respect to W and W2 for a given X and y:\n",
    "        self.yHat = self.forward(X)\n",
    "        \n",
    "        delta3 = np.multiply(-(y-self.yHat), self.tanhPrime(self.z3))\n",
    "        #Add gradient of regularization term:\n",
    "        dJdW2 = np.dot(self.a2.T, delta3)/X.shape[0] + self.Lambda*self.W2\n",
    "        \n",
    "        delta2 = np.dot(delta3, self.W2.T)*self.tanhPrime(self.z2)\n",
    "        #Add gradient of regularization term:\n",
    "        dJdW1 = np.dot(X.T, delta2)/X.shape[0] + self.Lambda*self.W1\n",
    "        \n",
    "        return dJdW1, dJdW2\n",
    "    \n",
    "    def predict(self):\n",
    "        prediksi = self.forward(dataprediksi)\n",
    "        return prediksi\n",
    "    \n",
    "    #Helper functions for interacting with other methods/classes\n",
    "    def getParams(self):\n",
    "        #Get W1 and W2 Rolled into vector:\n",
    "        params = np.concatenate((self.W1.ravel(), self.W2.ravel()))\n",
    "        return params\n",
    "    \n",
    "    def setParams(self, params):\n",
    "        #Set W1 and W2 using single parameter vector:\n",
    "        W1_start = 0\n",
    "        W1_end = self.hiddenLayerSize*self.inputLayerSize\n",
    "        self.W1 = np.reshape(params[W1_start:W1_end], \\\n",
    "                             (self.inputLayerSize, self.hiddenLayerSize))\n",
    "        W2_end = W1_end + self.hiddenLayerSize*self.outputLayerSize\n",
    "        self.W2 = np.reshape(params[W1_end:W2_end], \\\n",
    "                             (self.hiddenLayerSize, self.outputLayerSize))\n",
    "        \n",
    "    def computeGradients(self, X, y):\n",
    "        dJdW1, dJdW2 = self.costFunctionPrime(X, y)\n",
    "        return np.concatenate((dJdW1.ravel(), dJdW2.ravel()))"
   ]
  },
  {
   "cell_type": "code",
   "execution_count": 30,
   "metadata": {},
   "outputs": [],
   "source": [
    "def computeNumericalGradient(N, X, y):\n",
    "    paramsInitial = N.getParams()\n",
    "    numgrad = np.zeros(paramsInitial.shape)\n",
    "    perturb = np.zeros(paramsInitial.shape)\n",
    "    e = 1e-4\n",
    "\n",
    "    for p in range(len(paramsInitial)):\n",
    "        #Set perturbation vector\n",
    "        perturb[p] = e\n",
    "        N.setParams(paramsInitial + perturb)\n",
    "        loss2 = N.costFunction(X, y)\n",
    "            \n",
    "        N.setParams(paramsInitial - perturb)\n",
    "        loss1 = N.costFunction(X, y)\n",
    "\n",
    "        #Compute Numerical Gradient\n",
    "        numgrad[p] = (loss2 - loss1) / (2*e)\n",
    "\n",
    "            #Return the value we changed to zero:\n",
    "        perturb[p] = 0\n",
    "            \n",
    "    #Return Params to original value:\n",
    "    N.setParams(paramsInitial)\n",
    "\n",
    "    return numgrad "
   ]
  },
  {
   "cell_type": "code",
   "execution_count": 31,
   "metadata": {},
   "outputs": [],
   "source": [
    "NN = Neural_Network(Lambda=0.0001)"
   ]
  },
  {
   "cell_type": "code",
   "execution_count": 32,
   "metadata": {},
   "outputs": [],
   "source": [
    "#Make sure our gradients our correct after making changes:\n",
    "numgrad = computeNumericalGradient(NN, X, y)\n",
    "grad = NN.computeGradients(X,y)"
   ]
  },
  {
   "cell_type": "code",
   "execution_count": 33,
   "metadata": {},
   "outputs": [
    {
     "data": {
      "text/plain": [
       "1.4563489704596144e-09"
      ]
     },
     "execution_count": 33,
     "metadata": {},
     "output_type": "execute_result"
    }
   ],
   "source": [
    "#Should be less than 1e-8:\n",
    "np.linalg.norm(grad-numgrad)/np.linalg.norm(grad+numgrad)"
   ]
  },
  {
   "cell_type": "code",
   "execution_count": 34,
   "metadata": {},
   "outputs": [],
   "source": [
    "T = trainer(NN)"
   ]
  },
  {
   "cell_type": "code",
   "execution_count": 35,
   "metadata": {},
   "outputs": [
    {
     "name": "stdout",
     "output_type": "stream",
     "text": [
      "Warning: Maximum number of iterations has been exceeded.\n",
      "         Current function value: 0.011848\n",
      "         Iterations: 100\n",
      "         Function evaluations: 105\n",
      "         Gradient evaluations: 105\n"
     ]
    }
   ],
   "source": [
    "T.train(X,y,testX,testY)"
   ]
  },
  {
   "cell_type": "code",
   "execution_count": 36,
   "metadata": {},
   "outputs": [
    {
     "data": {
      "image/png": "[encoded data removed]",
      "text/plain": [
       "<Figure size 432x288 with 1 Axes>"
      ]
     },
     "metadata": {
      "needs_background": "light"
     },
     "output_type": "display_data"
    }
   ],
   "source": [
    "plot.plot(T.J)\n",
    "plot.plot(T.testJ)\n",
    "plot.grid(1)\n",
    "plot.xlabel('Iterations')\n",
    "plot.ylabel('Cost')\n",
    "plot.legend(['Training', 'Testing'])\n",
    "plot.show()"
   ]
  },
  {
   "cell_type": "code",
   "execution_count": 37,
   "metadata": {},
   "outputs": [
    {
     "data": {
      "text/plain": [
       "[array([0.02398104]),\n",
       " array([0.02236744]),\n",
       " array([0.02087346]),\n",
       " array([0.02070863]),\n",
       " array([0.02041832]),\n",
       " array([0.01990777]),\n",
       " array([0.01908675]),\n",
       " array([0.01859673]),\n",
       " array([0.0184342]),\n",
       " array([0.01816507]),\n",
       " array([0.01783267]),\n",
       " array([0.01774639]),\n",
       " array([0.01772343]),\n",
       " array([0.01769462]),\n",
       " array([0.01764028]),\n",
       " array([0.01753659]),\n",
       " array([0.01734043]),\n",
       " array([0.01698198]),\n",
       " array([0.01639243]),\n",
       " array([0.01572363]),\n",
       " array([0.01543738]),\n",
       " array([0.01501758]),\n",
       " array([0.01462777]),\n",
       " array([0.0145996]),\n",
       " array([0.01458751]),\n",
       " array([0.01456558]),\n",
       " array([0.01452514]),\n",
       " array([0.01445141]),\n",
       " array([0.01432325]),\n",
       " array([0.01412981]),\n",
       " array([0.01392399]),\n",
       " array([0.01370203]),\n",
       " array([0.01353639]),\n",
       " array([0.01345336]),\n",
       " array([0.01342405]),\n",
       " array([0.01341477]),\n",
       " array([0.01340053]),\n",
       " array([0.01337468]),\n",
       " array([0.01332772]),\n",
       " array([0.01324584]),\n",
       " array([0.01312482]),\n",
       " array([0.01303401]),\n",
       " array([0.01291629]),\n",
       " array([0.01272823]),\n",
       " array([0.01266203]),\n",
       " array([0.01263558]),\n",
       " array([0.0126286]),\n",
       " array([0.01262624]),\n",
       " array([0.01262175]),\n",
       " array([0.01261317]),\n",
       " array([0.01259685]),\n",
       " array([0.0125664]),\n",
       " array([0.01251296]),\n",
       " array([0.01244399]),\n",
       " array([0.01242552]),\n",
       " array([0.01240573]),\n",
       " array([0.01237459]),\n",
       " array([0.01235251]),\n",
       " array([0.01234913]),\n",
       " array([0.0123441]),\n",
       " array([0.01230408]),\n",
       " array([0.01223096]),\n",
       " array([0.01218735]),\n",
       " array([0.01211488]),\n",
       " array([0.01204978]),\n",
       " array([0.01203122]),\n",
       " array([0.01200527]),\n",
       " array([0.0120008]),\n",
       " array([0.01199392]),\n",
       " array([0.01199015]),\n",
       " array([0.01198822]),\n",
       " array([0.01198761]),\n",
       " array([0.01198648]),\n",
       " array([0.01198436]),\n",
       " array([0.01198055]),\n",
       " array([0.01197498]),\n",
       " array([0.01197319]),\n",
       " array([0.01197293]),\n",
       " array([0.01197248]),\n",
       " array([0.01197166]),\n",
       " array([0.01197022]),\n",
       " array([0.01196781]),\n",
       " array([0.01196426]),\n",
       " array([0.01196016]),\n",
       " array([0.01195803]),\n",
       " array([0.01195526]),\n",
       " array([0.01195455]),\n",
       " array([0.01195424]),\n",
       " array([0.01195372]),\n",
       " array([0.0119529]),\n",
       " array([0.01195186]),\n",
       " array([0.01195064]),\n",
       " array([0.01194849]),\n",
       " array([0.01194455]),\n",
       " array([0.01193713]),\n",
       " array([0.01192353]),\n",
       " array([0.01191147]),\n",
       " array([0.01189792]),\n",
       " array([0.01187767]),\n",
       " array([0.01184792])]"
      ]
     },
     "execution_count": 37,
     "metadata": {},
     "output_type": "execute_result"
    }
   ],
   "source": [
    "T.J"
   ]
  },
  {
   "cell_type": "code",
   "execution_count": 38,
   "metadata": {},
   "outputs": [
    {
     "data": {
      "text/plain": [
       "[array([0.01153121]),\n",
       " array([0.01062844]),\n",
       " array([0.01086493]),\n",
       " array([0.01048109]),\n",
       " array([0.01007605]),\n",
       " array([0.00960588]),\n",
       " array([0.00921676]),\n",
       " array([0.00957984]),\n",
       " array([0.00928372]),\n",
       " array([0.00899301]),\n",
       " array([0.00874332]),\n",
       " array([0.00853794]),\n",
       " array([0.00847727]),\n",
       " array([0.00844095]),\n",
       " array([0.00841077]),\n",
       " array([0.00838131]),\n",
       " array([0.008358]),\n",
       " array([0.00837028]),\n",
       " array([0.0085278]),\n",
       " array([0.00920698]),\n",
       " array([0.00938642]),\n",
       " array([0.00964884]),\n",
       " array([0.00958163]),\n",
       " array([0.00956382]),\n",
       " array([0.00952038]),\n",
       " array([0.00947093]),\n",
       " array([0.00941197]),\n",
       " array([0.00933791]),\n",
       " array([0.00925237]),\n",
       " array([0.00921806]),\n",
       " array([0.00937161]),\n",
       " array([0.00944298]),\n",
       " array([0.00953092]),\n",
       " array([0.00974429]),\n",
       " array([0.00973241]),\n",
       " array([0.00994062]),\n",
       " array([0.00996537]),\n",
       " array([0.00997705]),\n",
       " array([0.01000356]),\n",
       " array([0.01003607]),\n",
       " array([0.01002998]),\n",
       " array([0.00983385]),\n",
       " array([0.0096593]),\n",
       " array([0.00924588]),\n",
       " array([0.0091696]),\n",
       " array([0.00917081]),\n",
       " array([0.00918965]),\n",
       " array([0.00917799]),\n",
       " array([0.0091628]),\n",
       " array([0.00913865]),\n",
       " array([0.00909762]),\n",
       " array([0.00902374]),\n",
       " array([0.00888582]),\n",
       " array([0.00862936]),\n",
       " array([0.0086037]),\n",
       " array([0.00861773]),\n",
       " array([0.00871227]),\n",
       " array([0.00878587]),\n",
       " array([0.00881753]),\n",
       " array([0.00880027]),\n",
       " array([0.0087996]),\n",
       " array([0.00881671]),\n",
       " array([0.00882551]),\n",
       " array([0.00875624]),\n",
       " array([0.00891998]),\n",
       " array([0.00887838]),\n",
       " array([0.00894775]),\n",
       " array([0.00890322]),\n",
       " array([0.00896538]),\n",
       " array([0.0090379]),\n",
       " array([0.00901703]),\n",
       " array([0.009019]),\n",
       " array([0.00900534]),\n",
       " array([0.00897904]),\n",
       " array([0.00892607]),\n",
       " array([0.00881055]),\n",
       " array([0.00871506]),\n",
       " array([0.00871904]),\n",
       " array([0.00872473]),\n",
       " array([0.00873527]),\n",
       " array([0.00875404]),\n",
       " array([0.0087857]),\n",
       " array([0.00883816]),\n",
       " array([0.00892223]),\n",
       " array([0.00892437]),\n",
       " array([0.00890175]),\n",
       " array([0.00886577]),\n",
       " array([0.00886515]),\n",
       " array([0.00886143]),\n",
       " array([0.00885409]),\n",
       " array([0.00885664]),\n",
       " array([0.00884902]),\n",
       " array([0.00885516]),\n",
       " array([0.00884707]),\n",
       " array([0.00885135]),\n",
       " array([0.00885916]),\n",
       " array([0.00891653]),\n",
       " array([0.00891642]),\n",
       " array([0.00881691]),\n",
       " array([0.00875231])]"
      ]
     },
     "execution_count": 38,
     "metadata": {},
     "output_type": "execute_result"
    }
   ],
   "source": [
    "T.testJ"
   ]
  },
  {
   "cell_type": "code",
   "execution_count": 39,
   "metadata": {},
   "outputs": [
    {
     "data": {
      "text/plain": [
       "0.0047346565520022515"
      ]
     },
     "execution_count": 39,
     "metadata": {},
     "output_type": "execute_result"
    }
   ],
   "source": [
    "from sklearn.metrics import mean_absolute_error\n",
    "mean_absolute_error(T.J, T.testJ)"
   ]
  },
  {
   "cell_type": "code",
   "execution_count": 40,
   "metadata": {},
   "outputs": [],
   "source": [
    "yHat=NN.forward(X)"
   ]
  },
  {
   "cell_type": "code",
   "execution_count": 41,
   "metadata": {},
   "outputs": [
    {
     "data": {
      "text/plain": [
       "array([[0.45635299],\n",
       "       [0.42242556],\n",
       "       [0.52461957],\n",
       "       [0.50597786],\n",
       "       [0.51762992],\n",
       "       [0.50113212],\n",
       "       [0.28824426],\n",
       "       [0.29689442],\n",
       "       [0.37973623],\n",
       "       [0.26299731],\n",
       "       [0.35720189],\n",
       "       [0.3232906 ],\n",
       "       [0.28143448],\n",
       "       [0.40250902],\n",
       "       [0.5150263 ],\n",
       "       [0.29407449],\n",
       "       [0.40016073],\n",
       "       [0.45108601],\n",
       "       [0.48116652],\n",
       "       [0.47904859],\n",
       "       [0.63944117],\n",
       "       [0.65285768],\n",
       "       [0.62114038],\n",
       "       [0.64502156],\n",
       "       [0.60747591],\n",
       "       [0.64970375],\n",
       "       [0.60722925],\n",
       "       [0.61893188],\n",
       "       [0.74274155],\n",
       "       [0.74933497],\n",
       "       [0.7245802 ],\n",
       "       [0.75370464],\n",
       "       [0.77622756],\n",
       "       [0.74839403],\n",
       "       [0.74689149],\n",
       "       [0.76375436],\n",
       "       [0.73478125],\n",
       "       [0.77086373],\n",
       "       [0.75389537],\n",
       "       [0.80299599],\n",
       "       [0.80258315],\n",
       "       [0.78248293],\n",
       "       [0.76356871],\n",
       "       [0.76962818],\n",
       "       [0.76079955],\n",
       "       [0.69276496],\n",
       "       [0.57662275],\n",
       "       [0.55356428],\n",
       "       [0.59275075],\n",
       "       [0.6463078 ],\n",
       "       [0.61857435],\n",
       "       [0.73417038],\n",
       "       [0.74516801],\n",
       "       [0.71295133],\n",
       "       [0.72020188],\n",
       "       [0.69891181],\n",
       "       [0.6998574 ]])"
      ]
     },
     "execution_count": 41,
     "metadata": {},
     "output_type": "execute_result"
    }
   ],
   "source": [
    "yHat"
   ]
  },
  {
   "cell_type": "code",
   "execution_count": 42,
   "metadata": {},
   "outputs": [
    {
     "data": {
      "text/plain": [
       "array([[0.58859326],\n",
       "       [0.28650113],\n",
       "       [0.47320807],\n",
       "       [0.45271621],\n",
       "       [0.38367462],\n",
       "       [0.23399813],\n",
       "       [0.35317372],\n",
       "       [0.14062986],\n",
       "       [0.26372911],\n",
       "       [0.33746428],\n",
       "       [0.28799656],\n",
       "       [0.50986837],\n",
       "       [0.50986837],\n",
       "       [0.        ],\n",
       "       [0.47639142],\n",
       "       [0.44976976],\n",
       "       [0.46613068],\n",
       "       [0.5882231 ],\n",
       "       [0.63635825],\n",
       "       [0.57313552],\n",
       "       [0.45643258],\n",
       "       [0.76222627],\n",
       "       [0.55359126],\n",
       "       [0.71115948],\n",
       "       [0.31546218],\n",
       "       [0.60413983],\n",
       "       [0.83761975],\n",
       "       [0.7476273 ],\n",
       "       [0.84718459],\n",
       "       [0.85934053],\n",
       "       [0.78972149],\n",
       "       [0.74365922],\n",
       "       [0.68135448],\n",
       "       [0.89668192],\n",
       "       [0.73519004],\n",
       "       [0.98720739],\n",
       "       [0.50502673],\n",
       "       [1.        ],\n",
       "       [0.93787293],\n",
       "       [0.80331364],\n",
       "       [0.94438769],\n",
       "       [0.78782629],\n",
       "       [0.70467434],\n",
       "       [0.65104606],\n",
       "       [0.44790417],\n",
       "       [0.67977021],\n",
       "       [0.53034543],\n",
       "       [0.78390263],\n",
       "       [0.3349028 ],\n",
       "       [0.87703401],\n",
       "       [0.70343061],\n",
       "       [0.6764536 ],\n",
       "       [0.7996565 ],\n",
       "       [0.6539629 ],\n",
       "       [0.73176979],\n",
       "       [0.60723434],\n",
       "       [0.67      ]])"
      ]
     },
     "execution_count": 42,
     "metadata": {},
     "output_type": "execute_result"
    }
   ],
   "source": [
    "y"
   ]
  },
  {
   "cell_type": "code",
   "execution_count": 43,
   "metadata": {},
   "outputs": [
    {
     "data": {
      "text/plain": [
       "0.022982626559628308"
      ]
     },
     "execution_count": 43,
     "metadata": {},
     "output_type": "execute_result"
    }
   ],
   "source": [
    "from sklearn.metrics import mean_squared_error \n",
    "mean_squared_error(y,yHat) "
   ]
  },
  {
   "cell_type": "code",
   "execution_count": 44,
   "metadata": {},
   "outputs": [
    {
     "data": {
      "image/png": "[encoded data removed]",
      "text/plain": [
       "<Figure size 432x288 with 1 Axes>"
      ]
     },
     "metadata": {
      "needs_background": "light"
     },
     "output_type": "display_data"
    }
   ],
   "source": [
    "#Plot cost during training:\n",
    "plot.plot(y)\n",
    "plot.plot(yHat)\n",
    "plot.grid(1)\n",
    "plot.legend(['y', 'yHat'])\n",
    "plot.show()"
   ]
  },
  {
   "cell_type": "code",
   "execution_count": 45,
   "metadata": {},
   "outputs": [],
   "source": [
    "prediksi=NN.forward(dataprediksi)"
   ]
  },
  {
   "cell_type": "code",
   "execution_count": 46,
   "metadata": {},
   "outputs": [
    {
     "data": {
      "text/plain": [
       "array([[0.68145275],\n",
       "       [0.66742445],\n",
       "       [0.66693228],\n",
       "       [0.52270304]])"
      ]
     },
     "execution_count": 46,
     "metadata": {},
     "output_type": "execute_result"
    }
   ],
   "source": [
    "prediksi"
   ]
  },
  {
   "cell_type": "code",
   "execution_count": 47,
   "metadata": {},
   "outputs": [],
   "source": [
    "from sklearn.metrics import mean_squared_error "
   ]
  },
  {
   "cell_type": "code",
   "execution_count": 48,
   "metadata": {},
   "outputs": [
    {
     "data": {
      "text/plain": [
       "0.09564925742035488"
      ]
     },
     "execution_count": 48,
     "metadata": {},
     "output_type": "execute_result"
    }
   ],
   "source": [
    "Y_true= ([\t0.67\t]\t,\n",
    "[\t0.389745184\t]\t,\n",
    "[\t0.136735812\t]\t,\n",
    "[\t0.366973156\t]\t,\n",
    "\n",
    ")\n",
    "\n",
    "\n",
    "Y_pred=prediksi\n",
    "mean_squared_error(Y_true,Y_pred) "
   ]
  },
  {
   "cell_type": "code",
   "execution_count": 49,
   "metadata": {},
   "outputs": [
    {
     "data": {
      "text/plain": [
       "array([[0.38732394, 0.79538041, 0.7996565 , 0.6539629 , 0.73176979,\n",
       "        0.60723434, 0.67      ],\n",
       "       [0.37323944, 1.        , 0.6539629 , 0.73176979, 0.60723434,\n",
       "        0.67      , 0.67      ],\n",
       "       [0.36619718, 0.70768171, 0.73176979, 0.60723434, 0.67      ,\n",
       "        0.67      , 0.38974518],\n",
       "       [0.44366197, 0.49169532, 0.60723434, 0.67      , 0.67      ,\n",
       "        0.38974518, 0.13673581]])"
      ]
     },
     "execution_count": 49,
     "metadata": {},
     "output_type": "execute_result"
    }
   ],
   "source": [
    "dataprediksi"
   ]
  },
  {
   "cell_type": "code",
   "execution_count": 50,
   "metadata": {},
   "outputs": [],
   "source": [
    "z=np.array([0.6294\t,\t0.4578])"
   ]
  },
  {
   "cell_type": "code",
   "execution_count": 51,
   "metadata": {},
   "outputs": [],
   "source": [
    "y=np.array([0.67\t,\t0.67\t,\t0.389745184\t,\t0.136735812\t,\t0.366973156\t])"
   ]
  },
  {
   "cell_type": "code",
   "execution_count": 52,
   "metadata": {},
   "outputs": [],
   "source": [
    "a=np.concatenate((z,y))"
   ]
  },
  {
   "cell_type": "code",
   "execution_count": 53,
   "metadata": {},
   "outputs": [
    {
     "data": {
      "text/plain": [
       "array([0.2828277])"
      ]
     },
     "execution_count": 53,
     "metadata": {},
     "output_type": "execute_result"
    }
   ],
   "source": [
    "#prediksi 1\n",
    "prediksi=NN.forward(a)\n",
    "prediksi"
   ]
  },
  {
   "cell_type": "code",
   "execution_count": 54,
   "metadata": {},
   "outputs": [
    {
     "data": {
      "text/plain": [
       "array([0.27091665])"
      ]
     },
     "execution_count": 54,
     "metadata": {},
     "output_type": "execute_result"
    }
   ],
   "source": [
    "#prediksi 2\n",
    "c=prediksi\n",
    "z1=np.array([0.6795\t,\t0.4539])\n",
    "b=y[1:]\n",
    "d=np.concatenate((z1,b,c))\n",
    "prediksi=NN.forward(d)\n",
    "prediksi"
   ]
  },
  {
   "cell_type": "code",
   "execution_count": 55,
   "metadata": {},
   "outputs": [
    {
     "data": {
      "text/plain": [
       "array([0.29447472])"
      ]
     },
     "execution_count": 55,
     "metadata": {},
     "output_type": "execute_result"
    }
   ],
   "source": [
    "#prediksi 3\n",
    "c=prediksi\n",
    "z2=np.array([0.5888\t,\t0.4545])\n",
    "b=y[1:]\n",
    "d=np.concatenate((z2,b,c))\n",
    "prediksi=NN.forward(d)\n",
    "prediksi"
   ]
  },
  {
   "cell_type": "code",
   "execution_count": 56,
   "metadata": {},
   "outputs": [
    {
     "data": {
      "text/plain": [
       "array([0.31489016])"
      ]
     },
     "execution_count": 56,
     "metadata": {},
     "output_type": "execute_result"
    }
   ],
   "source": [
    "#prediksi 4\n",
    "c=prediksi\n",
    "z3=np.array([0.527\t,\t0.4555])\n",
    "b=y[1:]\n",
    "d=np.concatenate((z3,b,c))\n",
    "prediksi=NN.forward(d)\n",
    "prediksi"
   ]
  },
  {
   "cell_type": "code",
   "execution_count": 57,
   "metadata": {},
   "outputs": [
    {
     "data": {
      "text/plain": [
       "array([0.33176642])"
      ]
     },
     "execution_count": 57,
     "metadata": {},
     "output_type": "execute_result"
    }
   ],
   "source": [
    "#prediksi 5\n",
    "c=prediksi\n",
    "z4=np.array([0.4745\t,\t0.4564])\n",
    "b=y[1:]\n",
    "d=np.concatenate((z4,b,c))\n",
    "prediksi=NN.forward(d)\n",
    "prediksi"
   ]
  },
  {
   "cell_type": "code",
   "execution_count": 58,
   "metadata": {},
   "outputs": [
    {
     "data": {
      "text/plain": [
       "array([0.33756759])"
      ]
     },
     "execution_count": 58,
     "metadata": {},
     "output_type": "execute_result"
    }
   ],
   "source": [
    "#prediksi 6\n",
    "c=prediksi\n",
    "z5=np.array([0.4621\t,\t0.4571])\n",
    "b=y[1:]\n",
    "d=np.concatenate((z5,b,c))\n",
    "prediksi=NN.forward(d)\n",
    "prediksi"
   ]
  }
 ],
 "metadata": {
  "kernelspec": {
   "display_name": "Python 3",
   "language": "python",
   "name": "python3"
  },
  "language_info": {
   "codemirror_mode": {
    "name": "ipython",
    "version": 3
   },
   "file_extension": ".py",
   "mimetype": "text/x-python",
   "name": "python",
   "nbconvert_exporter": "python",
   "pygments_lexer": "ipython3",
   "version": "3.7.3"
  }
 },
 "nbformat": 4,
 "nbformat_minor": 2
}
