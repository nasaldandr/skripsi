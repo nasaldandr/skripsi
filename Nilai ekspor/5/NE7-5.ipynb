{
 "cells": [
  {
   "cell_type": "code",
   "execution_count": 1,
   "metadata": {},
   "outputs": [],
   "source": [
    "import numpy as np"
   ]
  },
  {
   "cell_type": "code",
   "execution_count": 2,
   "metadata": {},
   "outputs": [],
   "source": [
    "#UNTUK NILAI IMPOR\n",
    "class Neural_Network(object):\n",
    "    def __init__(self):\n",
    "        #parameters\n",
    "        self.inputLayerSize = 7\n",
    "        self.outputLayerSize = 1\n",
    "        self.hiddenLayerSize = 5\n",
    "\n",
    "        #weights\n",
    "        self.W1 = np.random.randn(self.inputLayerSize,\\\n",
    "                                 self.hiddenLayerSize)  \n",
    "        self.W2 = np.random.randn(self.hiddenLayerSize,\\\n",
    "                                 self.outputLayerSize)  \n",
    "    \n",
    "    def printw(self):\n",
    "        return self.W1\n",
    "        \n",
    "    def weight(self, W1, W2):\n",
    "        #Make an internal variable for the weight:\n",
    "        self.W1 = W1\n",
    "        self.W2 = W2\n",
    "        \n",
    "    def forward(self, X):\n",
    "        #forward propagation through our network\n",
    "        self.z2 = np.dot(X,self.W1)  \n",
    "        self.a2 = self.tanh(self.z2)  # activation function\n",
    "        self.z3 = np.dot(self.a2, self.W2) \n",
    "        yHat = self.tanh(self.z3)  # final activation function\n",
    "        return yHat\n",
    "\n",
    "    def tanh(self, z):\n",
    "        # activation function\n",
    "        return (np.exp(z)-np.exp(-z))/(np.exp(z)+np.exp(-z))\n",
    "    \n",
    "    def tanhPrime(self,z): \n",
    "        #derivative of tanh\n",
    "        return 1-((np.exp(z)-np.exp(-z))/(np.exp(z)+np.exp(-z)))**2\n",
    "    \n",
    "    def costFunction(self,X,y):\n",
    "        self.yHat = self.forward(X)\n",
    "        J=0.5*sum((y-self.yHat)**2)\n",
    "        return J\n",
    "    \n",
    "    def costFunctionPrime(self,X,y):\n",
    "        self.yHat=self.forward(X)\n",
    "        \n",
    "        delta3=np.multiply(-(y-self.yHat),self.tanhPrime(self.z3))\n",
    "        dJdW2=np.dot(self.a2.T,delta3)\n",
    "        \n",
    "        delta2=np.dot(delta3,self.W2.T)*self.tanhPrime(self.z2)\n",
    "        dJdW1=np.dot(X.T,delta2)\n",
    "        return dJdW1,dJdW2\n",
    "    \n",
    "    def predict(self):\n",
    "        prediksi = self.forward(dataprediksi)\n",
    "        return prediksi\n",
    "    \n",
    "    def getParams(self):\n",
    "        params=np.concatenate((self.W1.ravel(),self.W2.ravel()))\n",
    "        return params\n",
    "    \n",
    "    def setParams(self,params):\n",
    "        W1_start=0\n",
    "        W1_end=self.hiddenLayerSize*self.inputLayerSize\n",
    "        self.W1=np.reshape(params[W1_start:W1_end],\\\n",
    "                          (self.inputLayerSize,self.hiddenLayerSize))\n",
    "        W2_end=W1_end+self.hiddenLayerSize*self.outputLayerSize\n",
    "        self.W2=np.reshape(params[W1_end:W2_end],\\\n",
    "                          (self.hiddenLayerSize,self.outputLayerSize))\n",
    "        \n",
    "    def computeGradients(self, X, y):\n",
    "        dJdW1, dJdW2 = self.costFunctionPrime(X, y)\n",
    "        return np.concatenate((dJdW1.ravel(), dJdW2.ravel()))"
   ]
  },
  {
   "cell_type": "code",
   "execution_count": 3,
   "metadata": {},
   "outputs": [],
   "source": [
    "NN = Neural_Network()"
   ]
  },
  {
   "cell_type": "code",
   "execution_count": 4,
   "metadata": {},
   "outputs": [
    {
     "data": {
      "text/plain": [
       "array([[ 0.75521023,  2.01566838, -0.52001151,  0.96158642, -0.39447903],\n",
       "       [ 1.35068521,  0.49757775, -1.68947603,  0.60772658,  0.36338333],\n",
       "       [ 0.59109818,  0.73387108, -1.57433804,  0.57398023,  0.78189836],\n",
       "       [ 0.70105424, -0.55074258, -0.7955812 ,  0.08958822, -0.0774542 ],\n",
       "       [-0.40303539,  0.19242252, -1.06712245,  1.0524054 , -0.6806232 ],\n",
       "       [ 1.40579926,  1.272599  , -0.10493004, -0.9425044 , -1.40067762],\n",
       "       [ 0.44390436,  1.9183411 ,  0.90028215,  0.0168928 ,  0.14314234]])"
      ]
     },
     "execution_count": 4,
     "metadata": {},
     "output_type": "execute_result"
    }
   ],
   "source": [
    "NN.W1"
   ]
  },
  {
   "cell_type": "code",
   "execution_count": 5,
   "metadata": {},
   "outputs": [
    {
     "data": {
      "text/plain": [
       "array([[ 0.34578365],\n",
       "       [ 0.49158544],\n",
       "       [-0.81131535],\n",
       "       [ 0.20657632],\n",
       "       [ 0.4394306 ]])"
      ]
     },
     "execution_count": 5,
     "metadata": {},
     "output_type": "execute_result"
    }
   ],
   "source": [
    "NN.W2"
   ]
  },
  {
   "cell_type": "code",
   "execution_count": 6,
   "metadata": {},
   "outputs": [],
   "source": [
    "#NILAI IMPOR\n",
    "X=np.array(([\t0.697183099\t,\t0.223256598\t,\t0.566339448\t,\t0.263729105\t,\t0.334917603\t,\t0.529012867\t,\t0.467788981\t]\t,\n",
    "[\t0.971830986\t,\t0.241974687\t,\t0.263729105\t,\t0.334917603\t,\t0.529012867\t,\t0.467788981\t,\t0.588593257\t]\t,\n",
    "[\t0.591549296\t,\t0.365733465\t,\t0.334917603\t,\t0.529012867\t,\t0.467788981\t,\t0.588593257\t,\t0.286501133\t]\t,\n",
    "[\t0.281690141\t,\t0.552558994\t,\t0.529012867\t,\t0.467788981\t,\t0.588593257\t,\t0.286501133\t,\t0.473208072\t]\t,\n",
    "[\t0.26056338\t,\t0.370023519\t,\t0.467788981\t,\t0.588593257\t,\t0.286501133\t,\t0.473208072\t,\t0.452716208\t]\t,\n",
    "[\t0.464788732\t,\t0.332531703\t,\t0.588593257\t,\t0.286501133\t,\t0.473208072\t,\t0.452716208\t,\t0.383674618\t]\t,\n",
    "[\t0.992957746\t,\t0.387887522\t,\t0.286501133\t,\t0.473208072\t,\t0.452716208\t,\t0.383674618\t,\t0.233998134\t]\t,\n",
    "[\t0.676056338\t,\t0.398363943\t,\t0.473208072\t,\t0.452716208\t,\t0.383674618\t,\t0.233998134\t,\t0.353173722\t]\t,\n",
    "[\t0.253521127\t,\t0.284826299\t,\t0.452716208\t,\t0.383674618\t,\t0.233998134\t,\t0.353173722\t,\t0.140629858\t]\t,\n",
    "[\t0.450704225\t,\t0.186735022\t,\t0.383674618\t,\t0.233998134\t,\t0.353173722\t,\t0.140629858\t,\t0.263729105\t]\t,\n",
    "[\t0\t,\t0.182694768\t,\t0.233998134\t,\t0.353173722\t,\t0.140629858\t,\t0.263729105\t,\t0.33746428\t]\t,\n",
    "[\t0.485915493\t,\t0.255617002\t,\t0.353173722\t,\t0.140629858\t,\t0.263729105\t,\t0.33746428\t,\t0.287996565\t]\t,\n",
    "[\t0.781690141\t,\t0.23597043\t,\t0.140629858\t,\t0.263729105\t,\t0.33746428\t,\t0.287996565\t,\t0.509868372\t]\t,\n",
    "[\t0.802816901\t,\t0.164134134\t,\t0.263729105\t,\t0.33746428\t,\t0.287996565\t,\t0.509868372\t,\t0.509868372\t]\t,\n",
    "[\t0.302816901\t,\t0.178176635\t,\t0.33746428\t,\t0.287996565\t,\t0.509868372\t,\t0.509868372\t,\t0\t]\t,\n",
    "[\t0.471830986\t,\t0.163956101\t,\t0.287996565\t,\t0.509868372\t,\t0.509868372\t,\t0\t,\t0.476391418\t]\t,\n",
    "[\t0.415492958\t,\t0.133241484\t,\t0.509868372\t,\t0.509868372\t,\t0\t,\t0.476391418\t,\t0.449769763\t]\t,\n",
    "[\t0.647887324\t,\t0.226399017\t,\t0.509868372\t,\t0\t,\t0.476391418\t,\t0.449769763\t,\t0.46613068\t]\t,\n",
    "[\t0.612676056\t,\t0.255013861\t,\t0\t,\t0.476391418\t,\t0.449769763\t,\t0.46613068\t,\t0.588223101\t]\t,\n",
    "[\t1\t,\t0.23708614\t,\t0.476391418\t,\t0.449769763\t,\t0.46613068\t,\t0.588223101\t,\t0.636358252\t]\t,\n",
    "[\t0.478873239\t,\t0.231651119\t,\t0.449769763\t,\t0.46613068\t,\t0.588223101\t,\t0.636358252\t,\t0.573135522\t]\t,\n",
    "[\t0.302816901\t,\t0.233067608\t,\t0.46613068\t,\t0.588223101\t,\t0.636358252\t,\t0.573135522\t,\t0.45643258\t]\t,\n",
    "[\t0.38028169\t,\t0.221173719\t,\t0.588223101\t,\t0.636358252\t,\t0.573135522\t,\t0.45643258\t,\t0.762226269\t]\t,\n",
    "[\t0.591549296\t,\t0.22633168\t,\t0.636358252\t,\t0.573135522\t,\t0.45643258\t,\t0.762226269\t,\t0.553591258\t]\t,\n",
    "[\t0.802816901\t,\t0.218698642\t,\t0.573135522\t,\t0.45643258\t,\t0.762226269\t,\t0.553591258\t,\t0.711159478\t]\t,\n",
    "[\t0.471830986\t,\t0.232032203\t,\t0.45643258\t,\t0.762226269\t,\t0.553591258\t,\t0.711159478\t,\t0.315462177\t]\t,\n",
    "[\t0.267605634\t,\t0.231947948\t,\t0.762226269\t,\t0.553591258\t,\t0.711159478\t,\t0.315462177\t,\t0.60413983\t]\t,\n",
    "[\t0.408450704\t,\t0.221547817\t,\t0.553591258\t,\t0.711159478\t,\t0.315462177\t,\t0.60413983\t,\t0.837619746\t]\t,\n",
    "[\t0.323943662\t,\t0.287958581\t,\t0.711159478\t,\t0.315462177\t,\t0.60413983\t,\t0.837619746\t,\t0.747627297\t]\t,\n",
    "[\t0.457746479\t,\t0.28837327\t,\t0.315462177\t,\t0.60413983\t,\t0.837619746\t,\t0.747627297\t,\t0.84718459\t]\t,\n",
    "[\t0.816901408\t,\t0.297145757\t,\t0.60413983\t,\t0.837619746\t,\t0.747627297\t,\t0.84718459\t,\t0.859340529\t]\t,\n",
    "[\t0.753521127\t,\t0.243669818\t,\t0.837619746\t,\t0.747627297\t,\t0.84718459\t,\t0.859340529\t,\t0.789721494\t]\t,\n",
    "[\t0.436619718\t,\t0.307437314\t,\t0.747627297\t,\t0.84718459\t,\t0.859340529\t,\t0.789721494\t,\t0.743659219\t]\t,\n",
    "[\t0.457746479\t,\t0.358597855\t,\t0.84718459\t,\t0.859340529\t,\t0.789721494\t,\t0.743659219\t,\t0.681354477\t]\t,\n",
    "[\t0.387323944\t,\t0.372181217\t,\t0.859340529\t,\t0.789721494\t,\t0.743659219\t,\t0.681354477\t,\t0.896681917\t]\t,\n",
    "[\t0.464788732\t,\t0.450259481\t,\t0.789721494\t,\t0.743659219\t,\t0.681354477\t,\t0.896681917\t,\t0.735190038\t]\t,\n",
    "[\t0.732394366\t,\t0.443095634\t,\t0.743659219\t,\t0.681354477\t,\t0.896681917\t,\t0.735190038\t,\t0.987207391\t]\t,\n",
    "[\t0.514084507\t,\t0.558155976\t,\t0.681354477\t,\t0.896681917\t,\t0.735190038\t,\t0.987207391\t,\t0.505026725\t]\t,\n",
    "[\t0.281690141\t,\t0.602359827\t,\t0.896681917\t,\t0.735190038\t,\t0.987207391\t,\t0.505026725\t,\t1\t]\t,\n",
    "[\t0.190140845\t,\t0.696291723\t,\t0.735190038\t,\t0.987207391\t,\t0.505026725\t,\t1\t,\t0.937872933\t]\t,\n",
    "[\t0.514084507\t,\t0.790604671\t,\t0.987207391\t,\t0.505026725\t,\t1\t,\t0.937872933\t,\t0.803313641\t]\t,\n",
    "[\t0.507042254\t,\t0.644022227\t,\t0.505026725\t,\t1\t,\t0.937872933\t,\t0.803313641\t,\t0.944387687\t]\t,\n",
    "[\t0.753521127\t,\t0.583228643\t,\t1\t,\t0.937872933\t,\t0.803313641\t,\t0.944387687\t,\t0.787826293\t]\t,\n",
    "[\t0.542253521\t,\t0.481715009\t,\t0.937872933\t,\t0.803313641\t,\t0.944387687\t,\t0.787826293\t,\t0.704674336\t]\t,\n",
    "[\t0.26056338\t,\t0.442812107\t,\t0.803313641\t,\t0.944387687\t,\t0.787826293\t,\t0.704674336\t,\t0.651046062\t]\t,\n",
    "[\t0.394366197\t,\t0.496270585\t,\t0.944387687\t,\t0.787826293\t,\t0.704674336\t,\t0.651046062\t,\t0.447904174\t]\t,\n",
    "[\t0.626760563\t,\t0.475463393\t,\t0.787826293\t,\t0.704674336\t,\t0.651046062\t,\t0.447904174\t,\t0.679770207\t]\t,\n",
    "[\t0.795774648\t,\t0.551559791\t,\t0.704674336\t,\t0.651046062\t,\t0.447904174\t,\t0.679770207\t,\t0.53034543\t]\t,\n",
    "[\t0.704225352\t,\t0.500994351\t,\t0.651046062\t,\t0.447904174\t,\t0.679770207\t,\t0.53034543\t,\t0.783902634\t]\t,\n",
    "[\t0.535211268\t,\t0.445458587\t,\t0.447904174\t,\t0.679770207\t,\t0.53034543\t,\t0.783902634\t,\t0.334902797\t]\t,\n",
    "[\t0.401408451\t,\t0.505711667\t,\t0.679770207\t,\t0.53034543\t,\t0.783902634\t,\t0.334902797\t,\t0.87703401\t]\t,\n",
    "[\t0.126760563\t,\t0.465889036\t,\t0.53034543\t,\t0.783902634\t,\t0.334902797\t,\t0.87703401\t,\t0.70343061\t]\t,\n",
    "[\t0.330985915\t,\t0.46785659\t,\t0.783902634\t,\t0.334902797\t,\t0.87703401\t,\t0.70343061\t,\t0.676453605\t]\t,\n",
    "[\t0.415492958\t,\t0.453001423\t,\t0.334902797\t,\t0.87703401\t,\t0.70343061\t,\t0.676453605\t,\t0.799656495\t]\t,\n",
    "[\t0.556338028\t,\t0.437411724\t,\t0.87703401\t,\t0.70343061\t,\t0.676453605\t,\t0.799656495\t,\t0.653962896\t]\t,\n",
    "[\t0.591549296\t,\t0.350673696\t,\t0.70343061\t,\t0.676453605\t,\t0.799656495\t,\t0.653962896\t,\t0.731769792\t]\t,\n",
    "[\t0.514084507\t,\t0.364031312\t,\t0.676453605\t,\t0.799656495\t,\t0.653962896\t,\t0.731769792\t,\t0.607234339\t]\t,\n",
    "\n",
    "\n",
    ")           \n",
    ",dtype=float)\n",
    "y=np.array(([\t0.588593257\t]\t,\n",
    "[\t0.286501133\t]\t,\n",
    "[\t0.473208072\t]\t,\n",
    "[\t0.452716208\t]\t,\n",
    "[\t0.383674618\t]\t,\n",
    "[\t0.233998134\t]\t,\n",
    "[\t0.353173722\t]\t,\n",
    "[\t0.140629858\t]\t,\n",
    "[\t0.263729105\t]\t,\n",
    "[\t0.33746428\t]\t,\n",
    "[\t0.287996565\t]\t,\n",
    "[\t0.509868372\t]\t,\n",
    "[\t0.509868372\t]\t,\n",
    "[\t0\t]\t,\n",
    "[\t0.476391418\t]\t,\n",
    "[\t0.449769763\t]\t,\n",
    "[\t0.46613068\t]\t,\n",
    "[\t0.588223101\t]\t,\n",
    "[\t0.636358252\t]\t,\n",
    "[\t0.573135522\t]\t,\n",
    "[\t0.45643258\t]\t,\n",
    "[\t0.762226269\t]\t,\n",
    "[\t0.553591258\t]\t,\n",
    "[\t0.711159478\t]\t,\n",
    "[\t0.315462177\t]\t,\n",
    "[\t0.60413983\t]\t,\n",
    "[\t0.837619746\t]\t,\n",
    "[\t0.747627297\t]\t,\n",
    "[\t0.84718459\t]\t,\n",
    "[\t0.859340529\t]\t,\n",
    "[\t0.789721494\t]\t,\n",
    "[\t0.743659219\t]\t,\n",
    "[\t0.681354477\t]\t,\n",
    "[\t0.896681917\t]\t,\n",
    "[\t0.735190038\t]\t,\n",
    "[\t0.987207391\t]\t,\n",
    "[\t0.505026725\t]\t,\n",
    "[\t1\t]\t,\n",
    "[\t0.937872933\t]\t,\n",
    "[\t0.803313641\t]\t,\n",
    "[\t0.944387687\t]\t,\n",
    "[\t0.787826293\t]\t,\n",
    "[\t0.704674336\t]\t,\n",
    "[\t0.651046062\t]\t,\n",
    "[\t0.447904174\t]\t,\n",
    "[\t0.679770207\t]\t,\n",
    "[\t0.53034543\t]\t,\n",
    "[\t0.783902634\t]\t,\n",
    "[\t0.334902797\t]\t,\n",
    "[\t0.87703401\t]\t,\n",
    "[\t0.70343061\t]\t,\n",
    "[\t0.676453605\t]\t,\n",
    "[\t0.799656495\t]\t,\n",
    "[\t0.653962896\t]\t,\n",
    "[\t0.731769792\t]\t,\n",
    "[\t0.607234339\t]\t,\n",
    "[\t0.67\t]\t,\n",
    "\n",
    ")\n",
    ",dtype=float)\n",
    "\n",
    "dataprediksi = np.array(([\t0.387323944\t,\t0.795380412\t,\t0.799656495\t,\t0.653962896\t,\t0.731769792\t,\t0.607234339\t,\t0.67\t]\t,\n",
    "[\t0.373239437\t,\t1\t,\t0.653962896\t,\t0.731769792\t,\t0.607234339\t,\t0.67\t,\t0.67\t]\t,\n",
    "[\t0.366197183\t,\t0.707681705\t,\t0.731769792\t,\t0.607234339\t,\t0.67\t,\t0.67\t,\t0.389745184\t]\t,\n",
    "[\t0.443661972\t,\t0.491695324\t,\t0.607234339\t,\t0.67\t,\t0.67\t,\t0.389745184\t,\t0.136735812\t]\t,\n",
    "\n",
    "), dtype=float)\n"
   ]
  },
  {
   "cell_type": "code",
   "execution_count": 7,
   "metadata": {},
   "outputs": [],
   "source": [
    "import matplotlib.pyplot as plot"
   ]
  },
  {
   "cell_type": "code",
   "execution_count": 8,
   "metadata": {},
   "outputs": [],
   "source": [
    "from scipy import optimize"
   ]
  },
  {
   "cell_type": "code",
   "execution_count": 9,
   "metadata": {},
   "outputs": [],
   "source": [
    "class trainer(object):\n",
    "    def __init__(self, N):\n",
    "        #Make Local reference to network:\n",
    "        self.N = N\n",
    "        \n",
    "    def callbackF(self, params):\n",
    "        self.N.setParams(params)\n",
    "        self.J.append(self.N.costFunction(self.X, self.y))   \n",
    "        \n",
    "    def costFunctionWrapper(self, params, X, y):\n",
    "        self.N.setParams(params)\n",
    "        cost = self.N.costFunction(X, y)\n",
    "        grad = self.N.computeGradients(X,y)\n",
    "        \n",
    "        return cost, grad\n",
    "        \n",
    "    def train(self, X, y):\n",
    "        #Make an internal variable for the callback function:\n",
    "        self.X = X\n",
    "        self.y = y\n",
    "\n",
    "        #Make empty list to store costs:\n",
    "        self.J = []\n",
    "        \n",
    "        params0 = self.N.getParams()\n",
    "\n",
    "        options = {'maxiter': 100, 'disp' : True}\n",
    "        _res = optimize.minimize(self.costFunctionWrapper, params0, jac=True, method='BFGS', \\\n",
    "                                 args=(X, y), options=options, callback=self.callbackF)\n",
    "\n",
    "        self.N.setParams(_res.x)\n",
    "        self.optimizationResults = _res"
   ]
  },
  {
   "cell_type": "code",
   "execution_count": 10,
   "metadata": {},
   "outputs": [],
   "source": [
    "NN=Neural_Network()"
   ]
  },
  {
   "cell_type": "code",
   "execution_count": 11,
   "metadata": {},
   "outputs": [],
   "source": [
    "T = trainer(NN)"
   ]
  },
  {
   "cell_type": "code",
   "execution_count": 12,
   "metadata": {},
   "outputs": [
    {
     "name": "stdout",
     "output_type": "stream",
     "text": [
      "Warning: Maximum number of iterations has been exceeded.\n",
      "         Current function value: 0.243787\n",
      "         Iterations: 100\n",
      "         Function evaluations: 107\n",
      "         Gradient evaluations: 107\n"
     ]
    }
   ],
   "source": [
    "#Train network with new data:\n",
    "T = trainer(NN)\n",
    "T.train(X,y)"
   ]
  },
  {
   "cell_type": "code",
   "execution_count": 13,
   "metadata": {},
   "outputs": [
    {
     "data": {
      "image/png": "[encoded data removed]",
      "text/plain": [
       "<Figure size 432x288 with 1 Axes>"
      ]
     },
     "metadata": {
      "needs_background": "light"
     },
     "output_type": "display_data"
    }
   ],
   "source": [
    "#Plot cost during training:\n",
    "plot.plot(T.J)\n",
    "plot.grid(1)\n",
    "plot.xlabel('Iterations')\n",
    "plot.ylabel('Cost')\n",
    "plot.show()"
   ]
  },
  {
   "cell_type": "code",
   "execution_count": 14,
   "metadata": {},
   "outputs": [],
   "source": [
    "#Training Data:\n",
    "trainX = np.array(([\t0.697183099\t,\t0.223256598\t,\t0.566339448\t,\t0.263729105\t,\t0.334917603\t,\t0.529012867\t,\t0.467788981\t]\t,\n",
    "[\t0.971830986\t,\t0.241974687\t,\t0.263729105\t,\t0.334917603\t,\t0.529012867\t,\t0.467788981\t,\t0.588593257\t]\t,\n",
    "[\t0.591549296\t,\t0.365733465\t,\t0.334917603\t,\t0.529012867\t,\t0.467788981\t,\t0.588593257\t,\t0.286501133\t]\t,\n",
    "[\t0.281690141\t,\t0.552558994\t,\t0.529012867\t,\t0.467788981\t,\t0.588593257\t,\t0.286501133\t,\t0.473208072\t]\t,\n",
    "[\t0.26056338\t,\t0.370023519\t,\t0.467788981\t,\t0.588593257\t,\t0.286501133\t,\t0.473208072\t,\t0.452716208\t]\t,\n",
    "[\t0.464788732\t,\t0.332531703\t,\t0.588593257\t,\t0.286501133\t,\t0.473208072\t,\t0.452716208\t,\t0.383674618\t]\t,\n",
    "[\t0.992957746\t,\t0.387887522\t,\t0.286501133\t,\t0.473208072\t,\t0.452716208\t,\t0.383674618\t,\t0.233998134\t]\t,\n",
    "[\t0.676056338\t,\t0.398363943\t,\t0.473208072\t,\t0.452716208\t,\t0.383674618\t,\t0.233998134\t,\t0.353173722\t]\t,\n",
    "[\t0.253521127\t,\t0.284826299\t,\t0.452716208\t,\t0.383674618\t,\t0.233998134\t,\t0.353173722\t,\t0.140629858\t]\t,\n",
    "[\t0.450704225\t,\t0.186735022\t,\t0.383674618\t,\t0.233998134\t,\t0.353173722\t,\t0.140629858\t,\t0.263729105\t]\t,\n",
    "[\t0\t,\t0.182694768\t,\t0.233998134\t,\t0.353173722\t,\t0.140629858\t,\t0.263729105\t,\t0.33746428\t]\t,\n",
    "[\t0.485915493\t,\t0.255617002\t,\t0.353173722\t,\t0.140629858\t,\t0.263729105\t,\t0.33746428\t,\t0.287996565\t]\t,\n",
    "[\t0.781690141\t,\t0.23597043\t,\t0.140629858\t,\t0.263729105\t,\t0.33746428\t,\t0.287996565\t,\t0.509868372\t]\t,\n",
    "[\t0.802816901\t,\t0.164134134\t,\t0.263729105\t,\t0.33746428\t,\t0.287996565\t,\t0.509868372\t,\t0.509868372\t]\t,\n",
    "[\t0.302816901\t,\t0.178176635\t,\t0.33746428\t,\t0.287996565\t,\t0.509868372\t,\t0.509868372\t,\t0\t]\t,\n",
    "[\t0.471830986\t,\t0.163956101\t,\t0.287996565\t,\t0.509868372\t,\t0.509868372\t,\t0\t,\t0.476391418\t]\t,\n",
    "[\t0.415492958\t,\t0.133241484\t,\t0.509868372\t,\t0.509868372\t,\t0\t,\t0.476391418\t,\t0.449769763\t]\t,\n",
    "[\t0.647887324\t,\t0.226399017\t,\t0.509868372\t,\t0\t,\t0.476391418\t,\t0.449769763\t,\t0.46613068\t]\t,\n",
    "[\t0.612676056\t,\t0.255013861\t,\t0\t,\t0.476391418\t,\t0.449769763\t,\t0.46613068\t,\t0.588223101\t]\t,\n",
    "[\t1\t,\t0.23708614\t,\t0.476391418\t,\t0.449769763\t,\t0.46613068\t,\t0.588223101\t,\t0.636358252\t]\t,\n",
    "[\t0.478873239\t,\t0.231651119\t,\t0.449769763\t,\t0.46613068\t,\t0.588223101\t,\t0.636358252\t,\t0.573135522\t]\t,\n",
    "[\t0.302816901\t,\t0.233067608\t,\t0.46613068\t,\t0.588223101\t,\t0.636358252\t,\t0.573135522\t,\t0.45643258\t]\t,\n",
    "[\t0.38028169\t,\t0.221173719\t,\t0.588223101\t,\t0.636358252\t,\t0.573135522\t,\t0.45643258\t,\t0.762226269\t]\t,\n",
    "[\t0.591549296\t,\t0.22633168\t,\t0.636358252\t,\t0.573135522\t,\t0.45643258\t,\t0.762226269\t,\t0.553591258\t]\t,\n",
    "[\t0.802816901\t,\t0.218698642\t,\t0.573135522\t,\t0.45643258\t,\t0.762226269\t,\t0.553591258\t,\t0.711159478\t]\t,\n",
    "[\t0.471830986\t,\t0.232032203\t,\t0.45643258\t,\t0.762226269\t,\t0.553591258\t,\t0.711159478\t,\t0.315462177\t]\t,\n",
    "[\t0.267605634\t,\t0.231947948\t,\t0.762226269\t,\t0.553591258\t,\t0.711159478\t,\t0.315462177\t,\t0.60413983\t]\t,\n",
    "[\t0.408450704\t,\t0.221547817\t,\t0.553591258\t,\t0.711159478\t,\t0.315462177\t,\t0.60413983\t,\t0.837619746\t]\t,\n",
    "[\t0.323943662\t,\t0.287958581\t,\t0.711159478\t,\t0.315462177\t,\t0.60413983\t,\t0.837619746\t,\t0.747627297\t]\t,\n",
    "[\t0.457746479\t,\t0.28837327\t,\t0.315462177\t,\t0.60413983\t,\t0.837619746\t,\t0.747627297\t,\t0.84718459\t]\t,\n",
    "[\t0.816901408\t,\t0.297145757\t,\t0.60413983\t,\t0.837619746\t,\t0.747627297\t,\t0.84718459\t,\t0.859340529\t]\t,\n",
    "[\t0.753521127\t,\t0.243669818\t,\t0.837619746\t,\t0.747627297\t,\t0.84718459\t,\t0.859340529\t,\t0.789721494\t]\t,\n",
    "[\t0.436619718\t,\t0.307437314\t,\t0.747627297\t,\t0.84718459\t,\t0.859340529\t,\t0.789721494\t,\t0.743659219\t]\t,\n",
    "[\t0.457746479\t,\t0.358597855\t,\t0.84718459\t,\t0.859340529\t,\t0.789721494\t,\t0.743659219\t,\t0.681354477\t]\t,\n",
    "[\t0.387323944\t,\t0.372181217\t,\t0.859340529\t,\t0.789721494\t,\t0.743659219\t,\t0.681354477\t,\t0.896681917\t]\t,\n",
    "[\t0.464788732\t,\t0.450259481\t,\t0.789721494\t,\t0.743659219\t,\t0.681354477\t,\t0.896681917\t,\t0.735190038\t]\t,\n",
    "[\t0.732394366\t,\t0.443095634\t,\t0.743659219\t,\t0.681354477\t,\t0.896681917\t,\t0.735190038\t,\t0.987207391\t]\t,\n",
    "[\t0.514084507\t,\t0.558155976\t,\t0.681354477\t,\t0.896681917\t,\t0.735190038\t,\t0.987207391\t,\t0.505026725\t]\t,\n",
    "[\t0.281690141\t,\t0.602359827\t,\t0.896681917\t,\t0.735190038\t,\t0.987207391\t,\t0.505026725\t,\t1\t]\t,\n",
    "[\t0.190140845\t,\t0.696291723\t,\t0.735190038\t,\t0.987207391\t,\t0.505026725\t,\t1\t,\t0.937872933\t]\t,\n",
    "[\t0.514084507\t,\t0.790604671\t,\t0.987207391\t,\t0.505026725\t,\t1\t,\t0.937872933\t,\t0.803313641\t]\t,\n",
    "[\t0.507042254\t,\t0.644022227\t,\t0.505026725\t,\t1\t,\t0.937872933\t,\t0.803313641\t,\t0.944387687\t]\t,\n",
    "[\t0.753521127\t,\t0.583228643\t,\t1\t,\t0.937872933\t,\t0.803313641\t,\t0.944387687\t,\t0.787826293\t]\t,\n",
    "[\t0.542253521\t,\t0.481715009\t,\t0.937872933\t,\t0.803313641\t,\t0.944387687\t,\t0.787826293\t,\t0.704674336\t]\t,\n",
    "[\t0.26056338\t,\t0.442812107\t,\t0.803313641\t,\t0.944387687\t,\t0.787826293\t,\t0.704674336\t,\t0.651046062\t]\t,\n",
    "\n",
    ")\n",
    ", dtype=float)\n",
    "trainY = np.array(([\t0.588593257\t]\t,\n",
    "[\t0.286501133\t]\t,\n",
    "[\t0.473208072\t]\t,\n",
    "[\t0.452716208\t]\t,\n",
    "[\t0.383674618\t]\t,\n",
    "[\t0.233998134\t]\t,\n",
    "[\t0.353173722\t]\t,\n",
    "[\t0.140629858\t]\t,\n",
    "[\t0.263729105\t]\t,\n",
    "[\t0.33746428\t]\t,\n",
    "[\t0.287996565\t]\t,\n",
    "[\t0.509868372\t]\t,\n",
    "[\t0.509868372\t]\t,\n",
    "[\t0\t]\t,\n",
    "[\t0.476391418\t]\t,\n",
    "[\t0.449769763\t]\t,\n",
    "[\t0.46613068\t]\t,\n",
    "[\t0.588223101\t]\t,\n",
    "[\t0.636358252\t]\t,\n",
    "[\t0.573135522\t]\t,\n",
    "[\t0.45643258\t]\t,\n",
    "[\t0.762226269\t]\t,\n",
    "[\t0.553591258\t]\t,\n",
    "[\t0.711159478\t]\t,\n",
    "[\t0.315462177\t]\t,\n",
    "[\t0.60413983\t]\t,\n",
    "[\t0.837619746\t]\t,\n",
    "[\t0.747627297\t]\t,\n",
    "[\t0.84718459\t]\t,\n",
    "[\t0.859340529\t]\t,\n",
    "[\t0.789721494\t]\t,\n",
    "[\t0.743659219\t]\t,\n",
    "[\t0.681354477\t]\t,\n",
    "[\t0.896681917\t]\t,\n",
    "[\t0.735190038\t]\t,\n",
    "[\t0.987207391\t]\t,\n",
    "[\t0.505026725\t]\t,\n",
    "[\t1\t]\t,\n",
    "[\t0.937872933\t]\t,\n",
    "[\t0.803313641\t]\t,\n",
    "[\t0.944387687\t]\t,\n",
    "[\t0.787826293\t]\t,\n",
    "[\t0.704674336\t]\t,\n",
    "[\t0.651046062\t]\t,\n",
    "[\t0.447904174\t]\t,\n",
    "\n",
    ")\n",
    ", dtype=float)\n",
    "\n",
    "#Testing Data:\n",
    "testX = np.array(([\t0.394366197\t,\t0.496270585\t,\t0.944387687\t,\t0.787826293\t,\t0.704674336\t,\t0.651046062\t,\t0.447904174\t]\t,\n",
    "[\t0.626760563\t,\t0.475463393\t,\t0.787826293\t,\t0.704674336\t,\t0.651046062\t,\t0.447904174\t,\t0.679770207\t]\t,\n",
    "[\t0.795774648\t,\t0.551559791\t,\t0.704674336\t,\t0.651046062\t,\t0.447904174\t,\t0.679770207\t,\t0.53034543\t]\t,\n",
    "[\t0.704225352\t,\t0.500994351\t,\t0.651046062\t,\t0.447904174\t,\t0.679770207\t,\t0.53034543\t,\t0.783902634\t]\t,\n",
    "[\t0.535211268\t,\t0.445458587\t,\t0.447904174\t,\t0.679770207\t,\t0.53034543\t,\t0.783902634\t,\t0.334902797\t]\t,\n",
    "[\t0.401408451\t,\t0.505711667\t,\t0.679770207\t,\t0.53034543\t,\t0.783902634\t,\t0.334902797\t,\t0.87703401\t]\t,\n",
    "[\t0.126760563\t,\t0.465889036\t,\t0.53034543\t,\t0.783902634\t,\t0.334902797\t,\t0.87703401\t,\t0.70343061\t]\t,\n",
    "[\t0.330985915\t,\t0.46785659\t,\t0.783902634\t,\t0.334902797\t,\t0.87703401\t,\t0.70343061\t,\t0.676453605\t]\t,\n",
    "[\t0.415492958\t,\t0.453001423\t,\t0.334902797\t,\t0.87703401\t,\t0.70343061\t,\t0.676453605\t,\t0.799656495\t]\t,\n",
    "[\t0.556338028\t,\t0.437411724\t,\t0.87703401\t,\t0.70343061\t,\t0.676453605\t,\t0.799656495\t,\t0.653962896\t]\t,\n",
    "[\t0.591549296\t,\t0.350673696\t,\t0.70343061\t,\t0.676453605\t,\t0.799656495\t,\t0.653962896\t,\t0.731769792\t]\t,\n",
    "[\t0.514084507\t,\t0.364031312\t,\t0.676453605\t,\t0.799656495\t,\t0.653962896\t,\t0.731769792\t,\t0.607234339\t]\t,\n",
    "\n",
    ")\n",
    ", dtype=float)\n",
    "testY = np.array(([\t0.679770207\t]\t,\n",
    "[\t0.53034543\t]\t,\n",
    "[\t0.783902634\t]\t,\n",
    "[\t0.334902797\t]\t,\n",
    "[\t0.87703401\t]\t,\n",
    "[\t0.70343061\t]\t,\n",
    "[\t0.676453605\t]\t,\n",
    "[\t0.799656495\t]\t,\n",
    "[\t0.653962896\t]\t,\n",
    "[\t0.731769792\t]\t,\n",
    "[\t0.607234339\t]\t,\n",
    "[\t0.67\t]\t,\n",
    "\n",
    ")\n",
    ", dtype=float)\n",
    "\n",
    "\n",
    "dataprediksi = np.array(([\t0.387323944\t,\t0.795380412\t,\t0.799656495\t,\t0.653962896\t,\t0.731769792\t,\t0.607234339\t,\t0.67\t]\t,\n",
    "[\t0.373239437\t,\t1\t,\t0.653962896\t,\t0.731769792\t,\t0.607234339\t,\t0.67\t,\t0.67\t]\t,\n",
    "[\t0.366197183\t,\t0.707681705\t,\t0.731769792\t,\t0.607234339\t,\t0.67\t,\t0.67\t,\t0.389745184\t]\t,\n",
    "[\t0.443661972\t,\t0.491695324\t,\t0.607234339\t,\t0.67\t,\t0.67\t,\t0.389745184\t,\t0.136735812\t]\t,\n",
    "\n",
    "), dtype=float)"
   ]
  },
  {
   "cell_type": "code",
   "execution_count": 15,
   "metadata": {},
   "outputs": [
    {
     "data": {
      "text/plain": [
       "array([[0.3943662 , 0.49627058, 0.94438769, 0.78782629, 0.70467434,\n",
       "        0.65104606, 0.44790417],\n",
       "       [0.62676056, 0.47546339, 0.78782629, 0.70467434, 0.65104606,\n",
       "        0.44790417, 0.67977021],\n",
       "       [0.79577465, 0.55155979, 0.70467434, 0.65104606, 0.44790417,\n",
       "        0.67977021, 0.53034543],\n",
       "       [0.70422535, 0.50099435, 0.65104606, 0.44790417, 0.67977021,\n",
       "        0.53034543, 0.78390263],\n",
       "       [0.53521127, 0.44545859, 0.44790417, 0.67977021, 0.53034543,\n",
       "        0.78390263, 0.3349028 ],\n",
       "       [0.40140845, 0.50571167, 0.67977021, 0.53034543, 0.78390263,\n",
       "        0.3349028 , 0.87703401],\n",
       "       [0.12676056, 0.46588904, 0.53034543, 0.78390263, 0.3349028 ,\n",
       "        0.87703401, 0.70343061],\n",
       "       [0.33098592, 0.46785659, 0.78390263, 0.3349028 , 0.87703401,\n",
       "        0.70343061, 0.6764536 ],\n",
       "       [0.41549296, 0.45300142, 0.3349028 , 0.87703401, 0.70343061,\n",
       "        0.6764536 , 0.7996565 ],\n",
       "       [0.55633803, 0.43741172, 0.87703401, 0.70343061, 0.6764536 ,\n",
       "        0.7996565 , 0.6539629 ],\n",
       "       [0.5915493 , 0.3506737 , 0.70343061, 0.6764536 , 0.7996565 ,\n",
       "        0.6539629 , 0.73176979],\n",
       "       [0.51408451, 0.36403131, 0.6764536 , 0.7996565 , 0.6539629 ,\n",
       "        0.73176979, 0.60723434]])"
      ]
     },
     "execution_count": 15,
     "metadata": {},
     "output_type": "execute_result"
    }
   ],
   "source": [
    "testX"
   ]
  },
  {
   "cell_type": "code",
   "execution_count": 16,
   "metadata": {},
   "outputs": [],
   "source": [
    "##Need to modify trainer class a bit to check testing error during training:\n",
    "class trainer(object):\n",
    "    def __init__(self, N):\n",
    "        #Make Local reference to network:\n",
    "        self.N = N\n",
    "        \n",
    "    def callbackF(self, params):\n",
    "        self.N.setParams(params)\n",
    "        self.J.append(self.N.costFunction(self.X, self.y))\n",
    "        self.testJ.append(self.N.costFunction(self.testX, self.testY))\n",
    "        \n",
    "    def costFunctionWrapper(self, params, X, y):\n",
    "        self.N.setParams(params)\n",
    "        cost = self.N.costFunction(X, y)\n",
    "        grad = self.N.computeGradients(X,y)\n",
    "        \n",
    "        return cost, grad\n",
    "        \n",
    "    def train(self, trainX, trainY, testX, testY):\n",
    "        #Make an internal variable for the callback function:\n",
    "        self.X = trainX\n",
    "        self.y = trainY\n",
    "        \n",
    "        self.testX = testX\n",
    "        self.testY = testY\n",
    "\n",
    "        #Make empty list to store training costs:\n",
    "        self.J = []\n",
    "        self.testJ = []\n",
    "        \n",
    "        params0 = self.N.getParams()\n",
    "\n",
    "        options = {'maxiter': 100, 'disp' : True}\n",
    "        _res = optimize.minimize(self.costFunctionWrapper, params0, jac=True, method='BFGS', \\\n",
    "                                 args=(trainX, trainY), options=options, callback=self.callbackF)\n",
    "\n",
    "        self.N.setParams(_res.x)\n",
    "        self.optimizationResults = _res"
   ]
  },
  {
   "cell_type": "code",
   "execution_count": 17,
   "metadata": {},
   "outputs": [
    {
     "name": "stdout",
     "output_type": "stream",
     "text": [
      "Warning: Maximum number of iterations has been exceeded.\n",
      "         Current function value: 0.234359\n",
      "         Iterations: 100\n",
      "         Function evaluations: 130\n",
      "         Gradient evaluations: 130\n"
     ]
    }
   ],
   "source": [
    "#Train network with new data:\n",
    "NN = Neural_Network()\n",
    "\n",
    "T = trainer(NN)\n",
    "T.train(trainX, trainY, testX, testY)"
   ]
  },
  {
   "cell_type": "code",
   "execution_count": 18,
   "metadata": {},
   "outputs": [
    {
     "data": {
      "image/png": "[encoded data removed]",
      "text/plain": [
       "<Figure size 432x288 with 1 Axes>"
      ]
     },
     "metadata": {
      "needs_background": "light"
     },
     "output_type": "display_data"
    }
   ],
   "source": [
    "#Plot cost during training:\n",
    "plot.plot(T.J)\n",
    "plot.plot(T.testJ)\n",
    "plot.grid(1)\n",
    "plot.xlabel('Iterations')\n",
    "plot.ylabel('Cost')\n",
    "plot.legend(['Training', 'Testing'])\n",
    "plot.show()"
   ]
  },
  {
   "cell_type": "code",
   "execution_count": 19,
   "metadata": {},
   "outputs": [
    {
     "data": {
      "text/plain": [
       "[array([5.10998651]),\n",
       " array([2.55685856]),\n",
       " array([2.55685569]),\n",
       " array([1.09741292]),\n",
       " array([1.03780705]),\n",
       " array([0.92275561]),\n",
       " array([0.76684051]),\n",
       " array([0.72402117]),\n",
       " array([0.68155691]),\n",
       " array([0.63427777]),\n",
       " array([0.61028162]),\n",
       " array([0.59653426]),\n",
       " array([0.58817249]),\n",
       " array([0.57981347]),\n",
       " array([0.57550523]),\n",
       " array([0.56775895]),\n",
       " array([0.55529673]),\n",
       " array([0.5401769]),\n",
       " array([0.52830312]),\n",
       " array([0.51985644]),\n",
       " array([0.50781502]),\n",
       " array([0.49400967]),\n",
       " array([0.48179589]),\n",
       " array([0.4785633]),\n",
       " array([0.47337156]),\n",
       " array([0.46552513]),\n",
       " array([0.45837017]),\n",
       " array([0.45463686]),\n",
       " array([0.45228597]),\n",
       " array([0.44955558]),\n",
       " array([0.4473788]),\n",
       " array([0.44563037]),\n",
       " array([0.44283293]),\n",
       " array([0.43852381]),\n",
       " array([0.43412328]),\n",
       " array([0.42936449]),\n",
       " array([0.42754799]),\n",
       " array([0.42488175]),\n",
       " array([0.42284927]),\n",
       " array([0.42080309]),\n",
       " array([0.41734662]),\n",
       " array([0.41253859]),\n",
       " array([0.41037793]),\n",
       " array([0.40660084]),\n",
       " array([0.40017457]),\n",
       " array([0.39211383]),\n",
       " array([0.38928668]),\n",
       " array([0.38643705]),\n",
       " array([0.38371813]),\n",
       " array([0.38006717]),\n",
       " array([0.37686153]),\n",
       " array([0.37213981]),\n",
       " array([0.36461324]),\n",
       " array([0.3558132]),\n",
       " array([0.35016168]),\n",
       " array([0.34620289]),\n",
       " array([0.34311715]),\n",
       " array([0.33943234]),\n",
       " array([0.33749437]),\n",
       " array([0.33615239]),\n",
       " array([0.33454267]),\n",
       " array([0.33178854]),\n",
       " array([0.32721746]),\n",
       " array([0.32088734]),\n",
       " array([0.31707061]),\n",
       " array([0.31449413]),\n",
       " array([0.31338909]),\n",
       " array([0.31163867]),\n",
       " array([0.30907002]),\n",
       " array([0.30571069]),\n",
       " array([0.30173639]),\n",
       " array([0.29946459]),\n",
       " array([0.29689625]),\n",
       " array([0.29462261]),\n",
       " array([0.29118481]),\n",
       " array([0.28810054]),\n",
       " array([0.28640027]),\n",
       " array([0.28464711]),\n",
       " array([0.28248548]),\n",
       " array([0.28145581]),\n",
       " array([0.27999265]),\n",
       " array([0.27792423]),\n",
       " array([0.27491767]),\n",
       " array([0.27083628]),\n",
       " array([0.26866708]),\n",
       " array([0.26614335]),\n",
       " array([0.26495838]),\n",
       " array([0.26338835]),\n",
       " array([0.2615707]),\n",
       " array([0.25938066]),\n",
       " array([0.25675283]),\n",
       " array([0.25306419]),\n",
       " array([0.249706]),\n",
       " array([0.24703714]),\n",
       " array([0.24463798]),\n",
       " array([0.24187003]),\n",
       " array([0.2395206]),\n",
       " array([0.23730209]),\n",
       " array([0.23523932]),\n",
       " array([0.23435875])]"
      ]
     },
     "execution_count": 19,
     "metadata": {},
     "output_type": "execute_result"
    }
   ],
   "source": [
    "T.J"
   ]
  },
  {
   "cell_type": "code",
   "execution_count": 20,
   "metadata": {},
   "outputs": [
    {
     "data": {
      "text/plain": [
       "[array([0.75686025]),\n",
       " array([0.19202815]),\n",
       " array([0.19222574]),\n",
       " array([0.10160586]),\n",
       " array([0.10065911]),\n",
       " array([0.10302134]),\n",
       " array([0.13233339]),\n",
       " array([0.14522243]),\n",
       " array([0.13967049]),\n",
       " array([0.14598983]),\n",
       " array([0.13923162]),\n",
       " array([0.13304991]),\n",
       " array([0.1291214]),\n",
       " array([0.12674109]),\n",
       " array([0.13276838]),\n",
       " array([0.13369579]),\n",
       " array([0.13999174]),\n",
       " array([0.1524748]),\n",
       " array([0.15309673]),\n",
       " array([0.17593093]),\n",
       " array([0.16488216]),\n",
       " array([0.15268013]),\n",
       " array([0.13384179]),\n",
       " array([0.13489208]),\n",
       " array([0.13293883]),\n",
       " array([0.13245549]),\n",
       " array([0.13110388]),\n",
       " array([0.13160153]),\n",
       " array([0.12251862]),\n",
       " array([0.12931413]),\n",
       " array([0.13442754]),\n",
       " array([0.13888513]),\n",
       " array([0.14557613]),\n",
       " array([0.15448902]),\n",
       " array([0.16410187]),\n",
       " array([0.14891829]),\n",
       " array([0.14368274]),\n",
       " array([0.13769627]),\n",
       " array([0.13510805]),\n",
       " array([0.13023591]),\n",
       " array([0.12757243]),\n",
       " array([0.12681772]),\n",
       " array([0.12287881]),\n",
       " array([0.12419277]),\n",
       " array([0.12578456]),\n",
       " array([0.13690921]),\n",
       " array([0.13393472]),\n",
       " array([0.13922113]),\n",
       " array([0.14208571]),\n",
       " array([0.13920529]),\n",
       " array([0.13914155]),\n",
       " array([0.13571539]),\n",
       " array([0.13144245]),\n",
       " array([0.12812581]),\n",
       " array([0.12170194]),\n",
       " array([0.1159245]),\n",
       " array([0.11383077]),\n",
       " array([0.11537896]),\n",
       " array([0.11204896]),\n",
       " array([0.11264797]),\n",
       " array([0.11221688]),\n",
       " array([0.11242532]),\n",
       " array([0.11400235]),\n",
       " array([0.11765682]),\n",
       " array([0.1200993]),\n",
       " array([0.12412837]),\n",
       " array([0.13242709]),\n",
       " array([0.13061889]),\n",
       " array([0.13036441]),\n",
       " array([0.12711756]),\n",
       " array([0.12736298]),\n",
       " array([0.12841728]),\n",
       " array([0.13115891]),\n",
       " array([0.13779144]),\n",
       " array([0.14145762]),\n",
       " array([0.14816973]),\n",
       " array([0.14101856]),\n",
       " array([0.13752872]),\n",
       " array([0.13636318]),\n",
       " array([0.13749289]),\n",
       " array([0.14246421]),\n",
       " array([0.1515583]),\n",
       " array([0.16658105]),\n",
       " array([0.21677522]),\n",
       " array([0.28519221]),\n",
       " array([0.32699266]),\n",
       " array([0.32103324]),\n",
       " array([0.31466931]),\n",
       " array([0.3276994]),\n",
       " array([0.40954001]),\n",
       " array([0.48033589]),\n",
       " array([0.62516595]),\n",
       " array([0.77388392]),\n",
       " array([0.95543556]),\n",
       " array([0.93015525]),\n",
       " array([1.02770863]),\n",
       " array([1.16959738]),\n",
       " array([1.4589193]),\n",
       " array([1.41780134]),\n",
       " array([1.55640582])]"
      ]
     },
     "execution_count": 20,
     "metadata": {},
     "output_type": "execute_result"
    }
   ],
   "source": [
    "T.testJ"
   ]
  },
  {
   "cell_type": "code",
   "execution_count": 21,
   "metadata": {},
   "outputs": [
    {
     "data": {
      "text/plain": [
       "0.41819172860405657"
      ]
     },
     "execution_count": 21,
     "metadata": {},
     "output_type": "execute_result"
    }
   ],
   "source": [
    "from sklearn.metrics import mean_absolute_error\n",
    "mean_absolute_error(T.J, T.testJ)"
   ]
  },
  {
   "cell_type": "code",
   "execution_count": 22,
   "metadata": {},
   "outputs": [],
   "source": [
    "yHat = NN.forward(X)"
   ]
  },
  {
   "cell_type": "code",
   "execution_count": 23,
   "metadata": {},
   "outputs": [
    {
     "data": {
      "text/plain": [
       "array([[ 0.47298288],\n",
       "       [ 0.35492068],\n",
       "       [ 0.54031417],\n",
       "       [ 0.33585504],\n",
       "       [ 0.40437356],\n",
       "       [ 0.43021091],\n",
       "       [ 0.35426907],\n",
       "       [ 0.31423952],\n",
       "       [ 0.24439287],\n",
       "       [ 0.27114613],\n",
       "       [ 0.30052507],\n",
       "       [ 0.54799779],\n",
       "       [ 0.31745819],\n",
       "       [ 0.30970497],\n",
       "       [ 0.43724556],\n",
       "       [ 0.4641414 ],\n",
       "       [ 0.46038245],\n",
       "       [ 0.5935401 ],\n",
       "       [ 0.59517562],\n",
       "       [ 0.35144642],\n",
       "       [ 0.47902984],\n",
       "       [ 0.7202458 ],\n",
       "       [ 0.58219955],\n",
       "       [ 0.62620851],\n",
       "       [ 0.35640072],\n",
       "       [ 0.61268686],\n",
       "       [ 0.80326085],\n",
       "       [ 0.71753396],\n",
       "       [ 0.99993959],\n",
       "       [ 0.84724733],\n",
       "       [ 0.84998821],\n",
       "       [ 0.78065657],\n",
       "       [ 0.81362761],\n",
       "       [ 0.82355537],\n",
       "       [ 0.95225058],\n",
       "       [ 0.91966633],\n",
       "       [ 0.37421941],\n",
       "       [ 0.84360814],\n",
       "       [ 0.8919242 ],\n",
       "       [ 0.81018623],\n",
       "       [ 0.94581962],\n",
       "       [ 0.7733932 ],\n",
       "       [ 0.68277411],\n",
       "       [ 0.75003033],\n",
       "       [ 0.43709746],\n",
       "       [ 0.84344557],\n",
       "       [ 0.56853545],\n",
       "       [ 0.3455329 ],\n",
       "       [ 0.42674022],\n",
       "       [ 0.80249815],\n",
       "       [ 0.64775404],\n",
       "       [-0.556443  ],\n",
       "       [ 0.96415258],\n",
       "       [-0.45937611],\n",
       "       [ 0.48183685],\n",
       "       [ 0.70741174],\n",
       "       [ 0.79722891]])"
      ]
     },
     "execution_count": 23,
     "metadata": {},
     "output_type": "execute_result"
    }
   ],
   "source": [
    "yHat"
   ]
  },
  {
   "cell_type": "code",
   "execution_count": 24,
   "metadata": {},
   "outputs": [
    {
     "data": {
      "text/plain": [
       "array([[0.58859326],\n",
       "       [0.28650113],\n",
       "       [0.47320807],\n",
       "       [0.45271621],\n",
       "       [0.38367462],\n",
       "       [0.23399813],\n",
       "       [0.35317372],\n",
       "       [0.14062986],\n",
       "       [0.26372911],\n",
       "       [0.33746428],\n",
       "       [0.28799656],\n",
       "       [0.50986837],\n",
       "       [0.50986837],\n",
       "       [0.        ],\n",
       "       [0.47639142],\n",
       "       [0.44976976],\n",
       "       [0.46613068],\n",
       "       [0.5882231 ],\n",
       "       [0.63635825],\n",
       "       [0.57313552],\n",
       "       [0.45643258],\n",
       "       [0.76222627],\n",
       "       [0.55359126],\n",
       "       [0.71115948],\n",
       "       [0.31546218],\n",
       "       [0.60413983],\n",
       "       [0.83761975],\n",
       "       [0.7476273 ],\n",
       "       [0.84718459],\n",
       "       [0.85934053],\n",
       "       [0.78972149],\n",
       "       [0.74365922],\n",
       "       [0.68135448],\n",
       "       [0.89668192],\n",
       "       [0.73519004],\n",
       "       [0.98720739],\n",
       "       [0.50502673],\n",
       "       [1.        ],\n",
       "       [0.93787293],\n",
       "       [0.80331364],\n",
       "       [0.94438769],\n",
       "       [0.78782629],\n",
       "       [0.70467434],\n",
       "       [0.65104606],\n",
       "       [0.44790417],\n",
       "       [0.67977021],\n",
       "       [0.53034543],\n",
       "       [0.78390263],\n",
       "       [0.3349028 ],\n",
       "       [0.87703401],\n",
       "       [0.70343061],\n",
       "       [0.6764536 ],\n",
       "       [0.7996565 ],\n",
       "       [0.6539629 ],\n",
       "       [0.73176979],\n",
       "       [0.60723434],\n",
       "       [0.67      ]])"
      ]
     },
     "execution_count": 24,
     "metadata": {},
     "output_type": "execute_result"
    }
   ],
   "source": [
    "y"
   ]
  },
  {
   "cell_type": "code",
   "execution_count": 25,
   "metadata": {},
   "outputs": [
    {
     "data": {
      "text/plain": [
       "0.06283384476016089"
      ]
     },
     "execution_count": 25,
     "metadata": {},
     "output_type": "execute_result"
    }
   ],
   "source": [
    "from sklearn.metrics import mean_squared_error \n",
    "mean_squared_error(y,yHat) "
   ]
  },
  {
   "cell_type": "code",
   "execution_count": 26,
   "metadata": {},
   "outputs": [
    {
     "data": {
      "image/png": "[encoded data removed]",
      "text/plain": [
       "<Figure size 432x288 with 1 Axes>"
      ]
     },
     "metadata": {
      "needs_background": "light"
     },
     "output_type": "display_data"
    }
   ],
   "source": [
    "#Plot cost during training:\n",
    "plot.plot(y)\n",
    "plot.plot(yHat)\n",
    "plot.grid(1)\n",
    "plot.legend(['y', 'yHat'])\n",
    "plot.show()"
   ]
  },
  {
   "cell_type": "code",
   "execution_count": 27,
   "metadata": {},
   "outputs": [],
   "source": [
    "#Regularization Parameter:\n",
    "Lambda = 0.0001"
   ]
  },
  {
   "cell_type": "code",
   "execution_count": 28,
   "metadata": {},
   "outputs": [],
   "source": [
    "#Need to make changes to costFunction and costFunctionPrim:\n",
    "def costFunction(self, X, y):\n",
    "    #Compute cost for given X,y, use weights already stored in class.\n",
    "    self.yHat = self.forward(X)\n",
    "    #We don't want cost to increase with the number of examples, so normalize by dividing the error term by number of examples(X.shape[0])\n",
    "    J = 0.5*sum((y-self.yHat)**2)/X.shape[0] + (self.Lambda/2)*(sum(self.W1**2)+sum(self.W2**2))\n",
    "    return J\n",
    "\n",
    "def costFunctionPrime(self, X, y):\n",
    "    #Compute derivative with respect to W and W2 for a given X and y:\n",
    "    self.yHat = self.forward(X)\n",
    "\n",
    "    delta3 = np.multiply(-(y-self.yHat), self.tanhPrime(self.z3))\n",
    "    #Add gradient of regularization term:\n",
    "    dJdW2 = np.dot(self.a2.T, delta3)/X.shape[0] + self.Lambda*self.W2\n",
    "\n",
    "    delta2 = np.dot(delta3, self.W2.T)*self.tanhPrime(self.z2)\n",
    "    #Add gradient of regularization term:\n",
    "    dJdW1 = np.dot(X.T, delta2)/X.shape[0] + self.Lambda*self.W1\n",
    "\n",
    "    return dJdW1, dJdW2"
   ]
  },
  {
   "cell_type": "code",
   "execution_count": 29,
   "metadata": {},
   "outputs": [],
   "source": [
    "#New complete class, with changes:\n",
    "class Neural_Network(object):\n",
    "    def __init__(self, Lambda=0.0001):        \n",
    "        #Define Hyperparameters\n",
    "        self.inputLayerSize = 7\n",
    "        self.outputLayerSize = 1\n",
    "        self.hiddenLayerSize = 5\n",
    "        \n",
    "        #Weights (parameters)\n",
    "        self.W1 = np.random.randn(self.inputLayerSize,self.hiddenLayerSize)\n",
    "        self.W2 = np.random.randn(self.hiddenLayerSize,self.outputLayerSize)\n",
    "        \n",
    "        #Regularization Parameter:\n",
    "        self.Lambda = Lambda\n",
    "        \n",
    "    def forward(self, X):\n",
    "        #Propogate inputs though network\n",
    "        self.z2 = np.dot(X, self.W1)\n",
    "        self.a2 = self.tanh(self.z2)\n",
    "        self.z3 = np.dot(self.a2, self.W2)\n",
    "        yHat = self.tanh(self.z3) \n",
    "        return yHat\n",
    "        \n",
    "    def tanh(self, z):\n",
    "        # activation function\n",
    "        return (np.exp(z)-np.exp(-z))/(np.exp(z)+np.exp(-z))\n",
    "    \n",
    "    def tanhPrime(self,z): \n",
    "        #derivative of tanh\n",
    "        return 1-((np.exp(z)-np.exp(-z))/(np.exp(z)+np.exp(-z)))**2\n",
    "    \n",
    "    def costFunction(self, X, y):\n",
    "        #Compute cost for given X,y, use weights already stored in class.\n",
    "        self.yHat = self.forward(X)\n",
    "        J = 0.5*sum((y-self.yHat)**2)/X.shape[0] + (self.Lambda/2)*(np.sum(self.W1**2)+np.sum(self.W2**2))\n",
    "        return J\n",
    "        \n",
    "    def costFunctionPrime(self, X, y):\n",
    "        #Compute derivative with respect to W and W2 for a given X and y:\n",
    "        self.yHat = self.forward(X)\n",
    "        \n",
    "        delta3 = np.multiply(-(y-self.yHat), self.tanhPrime(self.z3))\n",
    "        #Add gradient of regularization term:\n",
    "        dJdW2 = np.dot(self.a2.T, delta3)/X.shape[0] + self.Lambda*self.W2\n",
    "        \n",
    "        delta2 = np.dot(delta3, self.W2.T)*self.tanhPrime(self.z2)\n",
    "        #Add gradient of regularization term:\n",
    "        dJdW1 = np.dot(X.T, delta2)/X.shape[0] + self.Lambda*self.W1\n",
    "        \n",
    "        return dJdW1, dJdW2\n",
    "    \n",
    "    def predict(self):\n",
    "        prediksi = self.forward(dataprediksi)\n",
    "        return prediksi\n",
    "    \n",
    "    #Helper functions for interacting with other methods/classes\n",
    "    def getParams(self):\n",
    "        #Get W1 and W2 Rolled into vector:\n",
    "        params = np.concatenate((self.W1.ravel(), self.W2.ravel()))\n",
    "        return params\n",
    "    \n",
    "    def setParams(self, params):\n",
    "        #Set W1 and W2 using single parameter vector:\n",
    "        W1_start = 0\n",
    "        W1_end = self.hiddenLayerSize*self.inputLayerSize\n",
    "        self.W1 = np.reshape(params[W1_start:W1_end], \\\n",
    "                             (self.inputLayerSize, self.hiddenLayerSize))\n",
    "        W2_end = W1_end + self.hiddenLayerSize*self.outputLayerSize\n",
    "        self.W2 = np.reshape(params[W1_end:W2_end], \\\n",
    "                             (self.hiddenLayerSize, self.outputLayerSize))\n",
    "        \n",
    "    def computeGradients(self, X, y):\n",
    "        dJdW1, dJdW2 = self.costFunctionPrime(X, y)\n",
    "        return np.concatenate((dJdW1.ravel(), dJdW2.ravel()))"
   ]
  },
  {
   "cell_type": "code",
   "execution_count": 30,
   "metadata": {},
   "outputs": [],
   "source": [
    "def computeNumericalGradient(N, X, y):\n",
    "    paramsInitial = N.getParams()\n",
    "    numgrad = np.zeros(paramsInitial.shape)\n",
    "    perturb = np.zeros(paramsInitial.shape)\n",
    "    e = 1e-4\n",
    "\n",
    "    for p in range(len(paramsInitial)):\n",
    "        #Set perturbation vector\n",
    "        perturb[p] = e\n",
    "        N.setParams(paramsInitial + perturb)\n",
    "        loss2 = N.costFunction(X, y)\n",
    "            \n",
    "        N.setParams(paramsInitial - perturb)\n",
    "        loss1 = N.costFunction(X, y)\n",
    "\n",
    "        #Compute Numerical Gradient\n",
    "        numgrad[p] = (loss2 - loss1) / (2*e)\n",
    "\n",
    "            #Return the value we changed to zero:\n",
    "        perturb[p] = 0\n",
    "            \n",
    "    #Return Params to original value:\n",
    "    N.setParams(paramsInitial)\n",
    "\n",
    "    return numgrad "
   ]
  },
  {
   "cell_type": "code",
   "execution_count": 31,
   "metadata": {},
   "outputs": [],
   "source": [
    "NN = Neural_Network(Lambda=0.0001)"
   ]
  },
  {
   "cell_type": "code",
   "execution_count": 32,
   "metadata": {},
   "outputs": [],
   "source": [
    "#Make sure our gradients our correct after making changes:\n",
    "numgrad = computeNumericalGradient(NN, X, y)\n",
    "grad = NN.computeGradients(X,y)"
   ]
  },
  {
   "cell_type": "code",
   "execution_count": 33,
   "metadata": {},
   "outputs": [
    {
     "data": {
      "text/plain": [
       "1.864917278900338e-09"
      ]
     },
     "execution_count": 33,
     "metadata": {},
     "output_type": "execute_result"
    }
   ],
   "source": [
    "#Should be less than 1e-8:\n",
    "np.linalg.norm(grad-numgrad)/np.linalg.norm(grad+numgrad)"
   ]
  },
  {
   "cell_type": "code",
   "execution_count": 34,
   "metadata": {},
   "outputs": [],
   "source": [
    "T = trainer(NN)"
   ]
  },
  {
   "cell_type": "code",
   "execution_count": 35,
   "metadata": {},
   "outputs": [
    {
     "name": "stdout",
     "output_type": "stream",
     "text": [
      "Warning: Maximum number of iterations has been exceeded.\n",
      "         Current function value: 0.010369\n",
      "         Iterations: 100\n",
      "         Function evaluations: 107\n",
      "         Gradient evaluations: 107\n"
     ]
    }
   ],
   "source": [
    "T.train(X,y,testX,testY)"
   ]
  },
  {
   "cell_type": "code",
   "execution_count": 36,
   "metadata": {},
   "outputs": [
    {
     "data": {
      "image/png": "[encoded data removed]",
      "text/plain": [
       "<Figure size 432x288 with 1 Axes>"
      ]
     },
     "metadata": {
      "needs_background": "light"
     },
     "output_type": "display_data"
    }
   ],
   "source": [
    "plot.plot(T.J)\n",
    "plot.plot(T.testJ)\n",
    "plot.grid(1)\n",
    "plot.xlabel('Iterations')\n",
    "plot.ylabel('Cost')\n",
    "plot.legend(['Training', 'Testing'])\n",
    "plot.show()"
   ]
  },
  {
   "cell_type": "code",
   "execution_count": 37,
   "metadata": {},
   "outputs": [
    {
     "data": {
      "text/plain": [
       "[array([0.05347816]),\n",
       " array([0.05203016]),\n",
       " array([0.03978049]),\n",
       " array([0.02702062]),\n",
       " array([0.02368236]),\n",
       " array([0.02270961]),\n",
       " array([0.02217899]),\n",
       " array([0.02199157]),\n",
       " array([0.0218521]),\n",
       " array([0.02175289]),\n",
       " array([0.02158825]),\n",
       " array([0.02131275]),\n",
       " array([0.0208692]),\n",
       " array([0.02025508]),\n",
       " array([0.01949851]),\n",
       " array([0.01844763]),\n",
       " array([0.01787541]),\n",
       " array([0.01755988]),\n",
       " array([0.01732771]),\n",
       " array([0.01689884]),\n",
       " array([0.01619336]),\n",
       " array([0.01555482]),\n",
       " array([0.01534638]),\n",
       " array([0.01504749]),\n",
       " array([0.01476751]),\n",
       " array([0.01445854]),\n",
       " array([0.0140468]),\n",
       " array([0.01370735]),\n",
       " array([0.01360746]),\n",
       " array([0.01357669]),\n",
       " array([0.01353054]),\n",
       " array([0.01348947]),\n",
       " array([0.01346771]),\n",
       " array([0.01343154]),\n",
       " array([0.01337294]),\n",
       " array([0.01328514]),\n",
       " array([0.01317466]),\n",
       " array([0.01304204]),\n",
       " array([0.01290598]),\n",
       " array([0.0128681]),\n",
       " array([0.01285756]),\n",
       " array([0.0128532]),\n",
       " array([0.01284699]),\n",
       " array([0.01283566]),\n",
       " array([0.01281506]),\n",
       " array([0.01277869]),\n",
       " array([0.01271928]),\n",
       " array([0.01263953]),\n",
       " array([0.01258415]),\n",
       " array([0.01252644]),\n",
       " array([0.01250913]),\n",
       " array([0.01250043]),\n",
       " array([0.01248506]),\n",
       " array([0.01245718]),\n",
       " array([0.01240654]),\n",
       " array([0.01231683]),\n",
       " array([0.01217029]),\n",
       " array([0.01199774]),\n",
       " array([0.01189126]),\n",
       " array([0.01183148]),\n",
       " array([0.01180559]),\n",
       " array([0.01179045]),\n",
       " array([0.01177007]),\n",
       " array([0.01174065]),\n",
       " array([0.01171174]),\n",
       " array([0.01167309]),\n",
       " array([0.01164593]),\n",
       " array([0.01162396]),\n",
       " array([0.01159968]),\n",
       " array([0.01155764]),\n",
       " array([0.01148021]),\n",
       " array([0.01134326]),\n",
       " array([0.01115807]),\n",
       " array([0.01113186]),\n",
       " array([0.01111251]),\n",
       " array([0.0111051]),\n",
       " array([0.01109623]),\n",
       " array([0.0110931]),\n",
       " array([0.01108927]),\n",
       " array([0.011083]),\n",
       " array([0.01107195]),\n",
       " array([0.01105183]),\n",
       " array([0.01101516]),\n",
       " array([0.01095115]),\n",
       " array([0.01085765]),\n",
       " array([0.01082091]),\n",
       " array([0.01079288]),\n",
       " array([0.01076706]),\n",
       " array([0.01075744]),\n",
       " array([0.01075155]),\n",
       " array([0.01074799]),\n",
       " array([0.01074148]),\n",
       " array([0.01072943]),\n",
       " array([0.0107073]),\n",
       " array([0.01066814]),\n",
       " array([0.01060632]),\n",
       " array([0.01053998]),\n",
       " array([0.01049588]),\n",
       " array([0.01044045]),\n",
       " array([0.01036872])]"
      ]
     },
     "execution_count": 37,
     "metadata": {},
     "output_type": "execute_result"
    }
   ],
   "source": [
    "T.J"
   ]
  },
  {
   "cell_type": "code",
   "execution_count": 38,
   "metadata": {},
   "outputs": [
    {
     "data": {
      "text/plain": [
       "[array([0.03143754]),\n",
       " array([0.02771801]),\n",
       " array([0.0211936]),\n",
       " array([0.01929226]),\n",
       " array([0.01406899]),\n",
       " array([0.01406446]),\n",
       " array([0.01437603]),\n",
       " array([0.01423274]),\n",
       " array([0.01402402]),\n",
       " array([0.01395642]),\n",
       " array([0.01395829]),\n",
       " array([0.01407077]),\n",
       " array([0.01441367]),\n",
       " array([0.01523995]),\n",
       " array([0.01553665]),\n",
       " array([0.01536261]),\n",
       " array([0.01453995]),\n",
       " array([0.01367375]),\n",
       " array([0.01369463]),\n",
       " array([0.01374596]),\n",
       " array([0.01389308]),\n",
       " array([0.01454219]),\n",
       " array([0.0145507]),\n",
       " array([0.01460325]),\n",
       " array([0.01437273]),\n",
       " array([0.01458746]),\n",
       " array([0.01411223]),\n",
       " array([0.01237999]),\n",
       " array([0.01220626]),\n",
       " array([0.01204912]),\n",
       " array([0.01184494]),\n",
       " array([0.0115582]),\n",
       " array([0.01138155]),\n",
       " array([0.01118144]),\n",
       " array([0.01096335]),\n",
       " array([0.01077874]),\n",
       " array([0.01067027]),\n",
       " array([0.01049975]),\n",
       " array([0.01018398]),\n",
       " array([0.01008795]),\n",
       " array([0.01008544]),\n",
       " array([0.01012691]),\n",
       " array([0.01012952]),\n",
       " array([0.01012996]),\n",
       " array([0.01012268]),\n",
       " array([0.01010307]),\n",
       " array([0.01006727]),\n",
       " array([0.01001852]),\n",
       " array([0.01000845]),\n",
       " array([0.01013708]),\n",
       " array([0.01025864]),\n",
       " array([0.01031578]),\n",
       " array([0.01036284]),\n",
       " array([0.01040463]),\n",
       " array([0.01043441]),\n",
       " array([0.01043899]),\n",
       " array([0.01038389]),\n",
       " array([0.01022827]),\n",
       " array([0.00996675]),\n",
       " array([0.00918169]),\n",
       " array([0.00937646]),\n",
       " array([0.00946574]),\n",
       " array([0.00939856]),\n",
       " array([0.00931744]),\n",
       " array([0.00930218]),\n",
       " array([0.0093573]),\n",
       " array([0.00960528]),\n",
       " array([0.00972237]),\n",
       " array([0.00997696]),\n",
       " array([0.0100302]),\n",
       " array([0.01000446]),\n",
       " array([0.0098977]),\n",
       " array([0.00989185]),\n",
       " array([0.00961517]),\n",
       " array([0.00986189]),\n",
       " array([0.00986837]),\n",
       " array([0.00976952]),\n",
       " array([0.00981176]),\n",
       " array([0.00974634]),\n",
       " array([0.00966664]),\n",
       " array([0.00956612]),\n",
       " array([0.00941579]),\n",
       " array([0.00919471]),\n",
       " array([0.00885724]),\n",
       " array([0.0083279]),\n",
       " array([0.00784796]),\n",
       " array([0.00772314]),\n",
       " array([0.00792708]),\n",
       " array([0.0079851]),\n",
       " array([0.00801275]),\n",
       " array([0.00801254]),\n",
       " array([0.00802244]),\n",
       " array([0.00804478]),\n",
       " array([0.00809059]),\n",
       " array([0.00817464]),\n",
       " array([0.00831273]),\n",
       " array([0.00830978]),\n",
       " array([0.00840093]),\n",
       " array([0.00805969]),\n",
       " array([0.0081366])]"
      ]
     },
     "execution_count": 38,
     "metadata": {},
     "output_type": "execute_result"
    }
   ],
   "source": [
    "T.testJ"
   ]
  },
  {
   "cell_type": "code",
   "execution_count": 39,
   "metadata": {},
   "outputs": [
    {
     "data": {
      "text/plain": [
       "0.0033282965237884233"
      ]
     },
     "execution_count": 39,
     "metadata": {},
     "output_type": "execute_result"
    }
   ],
   "source": [
    "from sklearn.metrics import mean_absolute_error\n",
    "mean_absolute_error(T.J, T.testJ)"
   ]
  },
  {
   "cell_type": "code",
   "execution_count": 40,
   "metadata": {},
   "outputs": [],
   "source": [
    "yHat=NN.forward(X)"
   ]
  },
  {
   "cell_type": "code",
   "execution_count": 41,
   "metadata": {},
   "outputs": [
    {
     "data": {
      "text/plain": [
       "array([[0.45715446],\n",
       "       [0.37095661],\n",
       "       [0.54177082],\n",
       "       [0.55272482],\n",
       "       [0.50158345],\n",
       "       [0.54885358],\n",
       "       [0.31314378],\n",
       "       [0.29838677],\n",
       "       [0.26072881],\n",
       "       [0.29677537],\n",
       "       [0.26163027],\n",
       "       [0.45124727],\n",
       "       [0.38536771],\n",
       "       [0.40200169],\n",
       "       [0.48297671],\n",
       "       [0.26721991],\n",
       "       [0.48427756],\n",
       "       [0.50494423],\n",
       "       [0.50663055],\n",
       "       [0.33768229],\n",
       "       [0.67056783],\n",
       "       [0.66845495],\n",
       "       [0.68422172],\n",
       "       [0.68860671],\n",
       "       [0.41376987],\n",
       "       [0.62499451],\n",
       "       [0.63492889],\n",
       "       [0.73162874],\n",
       "       [0.83246612],\n",
       "       [0.75001254],\n",
       "       [0.63087917],\n",
       "       [0.70104106],\n",
       "       [0.81045525],\n",
       "       [0.78275901],\n",
       "       [0.80788768],\n",
       "       [0.81748357],\n",
       "       [0.59557699],\n",
       "       [0.79119479],\n",
       "       [0.79964003],\n",
       "       [0.73113436],\n",
       "       [0.84394213],\n",
       "       [0.80722275],\n",
       "       [0.78557668],\n",
       "       [0.79124523],\n",
       "       [0.68657747],\n",
       "       [0.65363183],\n",
       "       [0.55853436],\n",
       "       [0.54003106],\n",
       "       [0.50322012],\n",
       "       [0.67829247],\n",
       "       [0.61248753],\n",
       "       [0.59885925],\n",
       "       [0.80376458],\n",
       "       [0.75947945],\n",
       "       [0.76387135],\n",
       "       [0.67487568],\n",
       "       [0.73729631]])"
      ]
     },
     "execution_count": 41,
     "metadata": {},
     "output_type": "execute_result"
    }
   ],
   "source": [
    "yHat"
   ]
  },
  {
   "cell_type": "code",
   "execution_count": 42,
   "metadata": {},
   "outputs": [
    {
     "data": {
      "text/plain": [
       "array([[0.58859326],\n",
       "       [0.28650113],\n",
       "       [0.47320807],\n",
       "       [0.45271621],\n",
       "       [0.38367462],\n",
       "       [0.23399813],\n",
       "       [0.35317372],\n",
       "       [0.14062986],\n",
       "       [0.26372911],\n",
       "       [0.33746428],\n",
       "       [0.28799656],\n",
       "       [0.50986837],\n",
       "       [0.50986837],\n",
       "       [0.        ],\n",
       "       [0.47639142],\n",
       "       [0.44976976],\n",
       "       [0.46613068],\n",
       "       [0.5882231 ],\n",
       "       [0.63635825],\n",
       "       [0.57313552],\n",
       "       [0.45643258],\n",
       "       [0.76222627],\n",
       "       [0.55359126],\n",
       "       [0.71115948],\n",
       "       [0.31546218],\n",
       "       [0.60413983],\n",
       "       [0.83761975],\n",
       "       [0.7476273 ],\n",
       "       [0.84718459],\n",
       "       [0.85934053],\n",
       "       [0.78972149],\n",
       "       [0.74365922],\n",
       "       [0.68135448],\n",
       "       [0.89668192],\n",
       "       [0.73519004],\n",
       "       [0.98720739],\n",
       "       [0.50502673],\n",
       "       [1.        ],\n",
       "       [0.93787293],\n",
       "       [0.80331364],\n",
       "       [0.94438769],\n",
       "       [0.78782629],\n",
       "       [0.70467434],\n",
       "       [0.65104606],\n",
       "       [0.44790417],\n",
       "       [0.67977021],\n",
       "       [0.53034543],\n",
       "       [0.78390263],\n",
       "       [0.3349028 ],\n",
       "       [0.87703401],\n",
       "       [0.70343061],\n",
       "       [0.6764536 ],\n",
       "       [0.7996565 ],\n",
       "       [0.6539629 ],\n",
       "       [0.73176979],\n",
       "       [0.60723434],\n",
       "       [0.67      ]])"
      ]
     },
     "execution_count": 42,
     "metadata": {},
     "output_type": "execute_result"
    }
   ],
   "source": [
    "y"
   ]
  },
  {
   "cell_type": "code",
   "execution_count": 43,
   "metadata": {},
   "outputs": [
    {
     "data": {
      "text/plain": [
       "0.018160645483154107"
      ]
     },
     "execution_count": 43,
     "metadata": {},
     "output_type": "execute_result"
    }
   ],
   "source": [
    "from sklearn.metrics import mean_squared_error \n",
    "mean_squared_error(y,yHat) "
   ]
  },
  {
   "cell_type": "code",
   "execution_count": 44,
   "metadata": {},
   "outputs": [
    {
     "data": {
      "image/png": "[encoded data removed]",
      "text/plain": [
       "<Figure size 432x288 with 1 Axes>"
      ]
     },
     "metadata": {
      "needs_background": "light"
     },
     "output_type": "display_data"
    }
   ],
   "source": [
    "#Plot cost during training:\n",
    "plot.plot(y)\n",
    "plot.plot(yHat)\n",
    "plot.grid(1)\n",
    "plot.legend(['y', 'yHat'])\n",
    "plot.show()"
   ]
  },
  {
   "cell_type": "code",
   "execution_count": 45,
   "metadata": {},
   "outputs": [],
   "source": [
    "prediksi=NN.forward(dataprediksi)"
   ]
  },
  {
   "cell_type": "code",
   "execution_count": 46,
   "metadata": {},
   "outputs": [
    {
     "data": {
      "text/plain": [
       "array([[0.75405854],\n",
       "       [0.7775169 ],\n",
       "       [0.70548478],\n",
       "       [0.40848719]])"
      ]
     },
     "execution_count": 46,
     "metadata": {},
     "output_type": "execute_result"
    }
   ],
   "source": [
    "prediksi"
   ]
  },
  {
   "cell_type": "code",
   "execution_count": 47,
   "metadata": {},
   "outputs": [],
   "source": [
    "from sklearn.metrics import mean_squared_error "
   ]
  },
  {
   "cell_type": "code",
   "execution_count": 48,
   "metadata": {},
   "outputs": [
    {
     "data": {
      "text/plain": [
       "0.12065788693497162"
      ]
     },
     "execution_count": 48,
     "metadata": {},
     "output_type": "execute_result"
    }
   ],
   "source": [
    "Y_true= ([\t0.67\t]\t,\n",
    "[\t0.389745184\t]\t,\n",
    "[\t0.136735812\t]\t,\n",
    "[\t0.366973156\t]\t,\n",
    "\n",
    ")\n",
    "\n",
    "\n",
    "Y_pred=prediksi\n",
    "mean_squared_error(Y_true,Y_pred) "
   ]
  },
  {
   "cell_type": "code",
   "execution_count": 49,
   "metadata": {},
   "outputs": [
    {
     "data": {
      "text/plain": [
       "array([[0.38732394, 0.79538041, 0.7996565 , 0.6539629 , 0.73176979,\n",
       "        0.60723434, 0.67      ],\n",
       "       [0.37323944, 1.        , 0.6539629 , 0.73176979, 0.60723434,\n",
       "        0.67      , 0.67      ],\n",
       "       [0.36619718, 0.70768171, 0.73176979, 0.60723434, 0.67      ,\n",
       "        0.67      , 0.38974518],\n",
       "       [0.44366197, 0.49169532, 0.60723434, 0.67      , 0.67      ,\n",
       "        0.38974518, 0.13673581]])"
      ]
     },
     "execution_count": 49,
     "metadata": {},
     "output_type": "execute_result"
    }
   ],
   "source": [
    "dataprediksi"
   ]
  },
  {
   "cell_type": "code",
   "execution_count": 50,
   "metadata": {},
   "outputs": [],
   "source": [
    "z=np.array([0.6294\t,\t0.4578])"
   ]
  },
  {
   "cell_type": "code",
   "execution_count": 51,
   "metadata": {},
   "outputs": [],
   "source": [
    "y=np.array([0.67\t,\t0.67\t,\t0.389745184\t,\t0.136735812\t,\t0.366973156\t])"
   ]
  },
  {
   "cell_type": "code",
   "execution_count": 52,
   "metadata": {},
   "outputs": [],
   "source": [
    "a=np.concatenate((z,y))"
   ]
  },
  {
   "cell_type": "code",
   "execution_count": 53,
   "metadata": {},
   "outputs": [
    {
     "data": {
      "text/plain": [
       "array([0.25501753])"
      ]
     },
     "execution_count": 53,
     "metadata": {},
     "output_type": "execute_result"
    }
   ],
   "source": [
    "#prediksi 1\n",
    "prediksi=NN.forward(a)\n",
    "prediksi"
   ]
  },
  {
   "cell_type": "code",
   "execution_count": 54,
   "metadata": {},
   "outputs": [
    {
     "data": {
      "text/plain": [
       "array([0.31206453])"
      ]
     },
     "execution_count": 54,
     "metadata": {},
     "output_type": "execute_result"
    }
   ],
   "source": [
    "#prediksi 2\n",
    "c=prediksi\n",
    "z1=np.array([0.6795\t,\t0.4539])\n",
    "b=y[1:]\n",
    "d=np.concatenate((z1,b,c))\n",
    "prediksi=NN.forward(d)\n",
    "prediksi"
   ]
  },
  {
   "cell_type": "code",
   "execution_count": 55,
   "metadata": {},
   "outputs": [
    {
     "data": {
      "text/plain": [
       "array([0.35870773])"
      ]
     },
     "execution_count": 55,
     "metadata": {},
     "output_type": "execute_result"
    }
   ],
   "source": [
    "#prediksi 3\n",
    "c=prediksi\n",
    "z2=np.array([0.5888\t,\t0.4545])\n",
    "b=y[1:]\n",
    "d=np.concatenate((z2,b,c))\n",
    "prediksi=NN.forward(d)\n",
    "prediksi"
   ]
  },
  {
   "cell_type": "code",
   "execution_count": 56,
   "metadata": {},
   "outputs": [
    {
     "data": {
      "text/plain": [
       "array([0.39394228])"
      ]
     },
     "execution_count": 56,
     "metadata": {},
     "output_type": "execute_result"
    }
   ],
   "source": [
    "#prediksi 4\n",
    "c=prediksi\n",
    "z3=np.array([0.527\t,\t0.4555])\n",
    "b=y[1:]\n",
    "d=np.concatenate((z3,b,c))\n",
    "prediksi=NN.forward(d)\n",
    "prediksi"
   ]
  },
  {
   "cell_type": "code",
   "execution_count": 57,
   "metadata": {},
   "outputs": [
    {
     "data": {
      "text/plain": [
       "array([0.42105075])"
      ]
     },
     "execution_count": 57,
     "metadata": {},
     "output_type": "execute_result"
    }
   ],
   "source": [
    "#prediksi 5\n",
    "c=prediksi\n",
    "z4=np.array([0.4745\t,\t0.4564])\n",
    "b=y[1:]\n",
    "d=np.concatenate((z4,b,c))\n",
    "prediksi=NN.forward(d)\n",
    "prediksi"
   ]
  },
  {
   "cell_type": "code",
   "execution_count": 58,
   "metadata": {},
   "outputs": [
    {
     "data": {
      "text/plain": [
       "array([0.43572707])"
      ]
     },
     "execution_count": 58,
     "metadata": {},
     "output_type": "execute_result"
    }
   ],
   "source": [
    "#prediksi 6\n",
    "c=prediksi\n",
    "z5=np.array([0.4621\t,\t0.4571])\n",
    "b=y[1:]\n",
    "d=np.concatenate((z5,b,c))\n",
    "prediksi=NN.forward(d)\n",
    "prediksi"
   ]
  }
 ],
 "metadata": {
  "kernelspec": {
   "display_name": "Python 3",
   "language": "python",
   "name": "python3"
  },
  "language_info": {
   "codemirror_mode": {
    "name": "ipython",
    "version": 3
   },
   "file_extension": ".py",
   "mimetype": "text/x-python",
   "name": "python",
   "nbconvert_exporter": "python",
   "pygments_lexer": "ipython3",
   "version": "3.7.3"
  }
 },
 "nbformat": 4,
 "nbformat_minor": 2
}
