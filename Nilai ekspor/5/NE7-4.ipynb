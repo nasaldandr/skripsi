{
 "cells": [
  {
   "cell_type": "code",
   "execution_count": 1,
   "metadata": {},
   "outputs": [],
   "source": [
    "import numpy as np"
   ]
  },
  {
   "cell_type": "code",
   "execution_count": 2,
   "metadata": {},
   "outputs": [],
   "source": [
    "#UNTUK NILAI IMPOR\n",
    "class Neural_Network(object):\n",
    "    def __init__(self):\n",
    "        #parameters\n",
    "        self.inputLayerSize = 7\n",
    "        self.outputLayerSize = 1\n",
    "        self.hiddenLayerSize = 4\n",
    "\n",
    "        #weights\n",
    "        self.W1 = np.random.randn(self.inputLayerSize,\\\n",
    "                                 self.hiddenLayerSize)  \n",
    "        self.W2 = np.random.randn(self.hiddenLayerSize,\\\n",
    "                                 self.outputLayerSize)  \n",
    "    \n",
    "    def printw(self):\n",
    "        return self.W1\n",
    "        \n",
    "    def weight(self, W1, W2):\n",
    "        #Make an internal variable for the weight:\n",
    "        self.W1 = W1\n",
    "        self.W2 = W2\n",
    "        \n",
    "    def forward(self, X):\n",
    "        #forward propagation through our network\n",
    "        self.z2 = np.dot(X,self.W1)  \n",
    "        self.a2 = self.sigmoid(self.z2)  # activation function\n",
    "        self.z3 = np.dot(self.a2, self.W2) \n",
    "        yHat = self.sigmoid(self.z3)  # final activation function\n",
    "        return yHat\n",
    "\n",
    "    def sigmoid(self, z):\n",
    "        # activation function\n",
    "        return 1 / (1 + np.exp(-z))\n",
    "    \n",
    "    def sigmoidPrime(self,z): \n",
    "        #derivative of sigmoid     \n",
    "        return np.exp(-z)/((1+np.exp(-z))**2)\n",
    "    \n",
    "    def costFunction(self,X,y):\n",
    "        self.yHat = self.forward(X)\n",
    "        J=0.5*sum((y-self.yHat)**2)\n",
    "        return J\n",
    "    \n",
    "    def costFunctionPrime(self,X,y):\n",
    "        self.yHat=self.forward(X)\n",
    "        \n",
    "        delta3=np.multiply(-(y-self.yHat),self.sigmoidPrime(self.z3))\n",
    "        dJdW2=np.dot(self.a2.T,delta3)\n",
    "        \n",
    "        delta2=np.dot(delta3,self.W2.T)*self.sigmoidPrime(self.z2)\n",
    "        dJdW1=np.dot(X.T,delta2)\n",
    "        return dJdW1,dJdW2\n",
    "    \n",
    "    def predict(self):\n",
    "        prediksi = self.forward(dataprediksi)\n",
    "        return prediksi\n",
    "    \n",
    "    def getParams(self):\n",
    "        params=np.concatenate((self.W1.ravel(),self.W2.ravel()))\n",
    "        return params\n",
    "    \n",
    "    def setParams(self,params):\n",
    "        W1_start=0\n",
    "        W1_end=self.hiddenLayerSize*self.inputLayerSize\n",
    "        self.W1=np.reshape(params[W1_start:W1_end],\\\n",
    "                          (self.inputLayerSize,self.hiddenLayerSize))\n",
    "        W2_end=W1_end+self.hiddenLayerSize*self.outputLayerSize\n",
    "        self.W2=np.reshape(params[W1_end:W2_end],\\\n",
    "                          (self.hiddenLayerSize,self.outputLayerSize))\n",
    "        \n",
    "    def computeGradients(self, X, y):\n",
    "        dJdW1, dJdW2 = self.costFunctionPrime(X, y)\n",
    "        return np.concatenate((dJdW1.ravel(), dJdW2.ravel()))"
   ]
  },
  {
   "cell_type": "code",
   "execution_count": 3,
   "metadata": {},
   "outputs": [],
   "source": [
    "NN = Neural_Network()"
   ]
  },
  {
   "cell_type": "code",
   "execution_count": 4,
   "metadata": {},
   "outputs": [
    {
     "data": {
      "text/plain": [
       "array([[ 0.53739401, -0.18597054, -0.13022938,  1.03893254],\n",
       "       [-0.55897581,  1.90478964,  1.27585261,  1.23423505],\n",
       "       [-0.70137637, -0.34424278,  1.19699287,  1.51554403],\n",
       "       [ 1.41731863, -0.0436961 ,  0.2786605 , -0.8827756 ],\n",
       "       [-0.81748571,  0.48366763, -0.83589109, -1.71508703],\n",
       "       [-1.9517548 , -0.49911341,  0.41990924,  0.29262449],\n",
       "       [-0.59989695, -1.32806018, -0.53617374, -0.92230132]])"
      ]
     },
     "execution_count": 4,
     "metadata": {},
     "output_type": "execute_result"
    }
   ],
   "source": [
    "NN.W1"
   ]
  },
  {
   "cell_type": "code",
   "execution_count": 5,
   "metadata": {},
   "outputs": [
    {
     "data": {
      "text/plain": [
       "array([[-0.08558806],\n",
       "       [-0.10175965],\n",
       "       [ 0.56101707],\n",
       "       [ 1.27518695]])"
      ]
     },
     "execution_count": 5,
     "metadata": {},
     "output_type": "execute_result"
    }
   ],
   "source": [
    "NN.W2"
   ]
  },
  {
   "cell_type": "code",
   "execution_count": 6,
   "metadata": {},
   "outputs": [],
   "source": [
    "#NILAI IMPOR\n",
    "X=np.array(([\t0.697183099\t,\t0.223256598\t,\t0.566339448\t,\t0.263729105\t,\t0.334917603\t,\t0.529012867\t,\t0.467788981\t]\t,\n",
    "[\t0.971830986\t,\t0.241974687\t,\t0.263729105\t,\t0.334917603\t,\t0.529012867\t,\t0.467788981\t,\t0.588593257\t]\t,\n",
    "[\t0.591549296\t,\t0.365733465\t,\t0.334917603\t,\t0.529012867\t,\t0.467788981\t,\t0.588593257\t,\t0.286501133\t]\t,\n",
    "[\t0.281690141\t,\t0.552558994\t,\t0.529012867\t,\t0.467788981\t,\t0.588593257\t,\t0.286501133\t,\t0.473208072\t]\t,\n",
    "[\t0.26056338\t,\t0.370023519\t,\t0.467788981\t,\t0.588593257\t,\t0.286501133\t,\t0.473208072\t,\t0.452716208\t]\t,\n",
    "[\t0.464788732\t,\t0.332531703\t,\t0.588593257\t,\t0.286501133\t,\t0.473208072\t,\t0.452716208\t,\t0.383674618\t]\t,\n",
    "[\t0.992957746\t,\t0.387887522\t,\t0.286501133\t,\t0.473208072\t,\t0.452716208\t,\t0.383674618\t,\t0.233998134\t]\t,\n",
    "[\t0.676056338\t,\t0.398363943\t,\t0.473208072\t,\t0.452716208\t,\t0.383674618\t,\t0.233998134\t,\t0.353173722\t]\t,\n",
    "[\t0.253521127\t,\t0.284826299\t,\t0.452716208\t,\t0.383674618\t,\t0.233998134\t,\t0.353173722\t,\t0.140629858\t]\t,\n",
    "[\t0.450704225\t,\t0.186735022\t,\t0.383674618\t,\t0.233998134\t,\t0.353173722\t,\t0.140629858\t,\t0.263729105\t]\t,\n",
    "[\t0\t,\t0.182694768\t,\t0.233998134\t,\t0.353173722\t,\t0.140629858\t,\t0.263729105\t,\t0.33746428\t]\t,\n",
    "[\t0.485915493\t,\t0.255617002\t,\t0.353173722\t,\t0.140629858\t,\t0.263729105\t,\t0.33746428\t,\t0.287996565\t]\t,\n",
    "[\t0.781690141\t,\t0.23597043\t,\t0.140629858\t,\t0.263729105\t,\t0.33746428\t,\t0.287996565\t,\t0.509868372\t]\t,\n",
    "[\t0.802816901\t,\t0.164134134\t,\t0.263729105\t,\t0.33746428\t,\t0.287996565\t,\t0.509868372\t,\t0.509868372\t]\t,\n",
    "[\t0.302816901\t,\t0.178176635\t,\t0.33746428\t,\t0.287996565\t,\t0.509868372\t,\t0.509868372\t,\t0\t]\t,\n",
    "[\t0.471830986\t,\t0.163956101\t,\t0.287996565\t,\t0.509868372\t,\t0.509868372\t,\t0\t,\t0.476391418\t]\t,\n",
    "[\t0.415492958\t,\t0.133241484\t,\t0.509868372\t,\t0.509868372\t,\t0\t,\t0.476391418\t,\t0.449769763\t]\t,\n",
    "[\t0.647887324\t,\t0.226399017\t,\t0.509868372\t,\t0\t,\t0.476391418\t,\t0.449769763\t,\t0.46613068\t]\t,\n",
    "[\t0.612676056\t,\t0.255013861\t,\t0\t,\t0.476391418\t,\t0.449769763\t,\t0.46613068\t,\t0.588223101\t]\t,\n",
    "[\t1\t,\t0.23708614\t,\t0.476391418\t,\t0.449769763\t,\t0.46613068\t,\t0.588223101\t,\t0.636358252\t]\t,\n",
    "[\t0.478873239\t,\t0.231651119\t,\t0.449769763\t,\t0.46613068\t,\t0.588223101\t,\t0.636358252\t,\t0.573135522\t]\t,\n",
    "[\t0.302816901\t,\t0.233067608\t,\t0.46613068\t,\t0.588223101\t,\t0.636358252\t,\t0.573135522\t,\t0.45643258\t]\t,\n",
    "[\t0.38028169\t,\t0.221173719\t,\t0.588223101\t,\t0.636358252\t,\t0.573135522\t,\t0.45643258\t,\t0.762226269\t]\t,\n",
    "[\t0.591549296\t,\t0.22633168\t,\t0.636358252\t,\t0.573135522\t,\t0.45643258\t,\t0.762226269\t,\t0.553591258\t]\t,\n",
    "[\t0.802816901\t,\t0.218698642\t,\t0.573135522\t,\t0.45643258\t,\t0.762226269\t,\t0.553591258\t,\t0.711159478\t]\t,\n",
    "[\t0.471830986\t,\t0.232032203\t,\t0.45643258\t,\t0.762226269\t,\t0.553591258\t,\t0.711159478\t,\t0.315462177\t]\t,\n",
    "[\t0.267605634\t,\t0.231947948\t,\t0.762226269\t,\t0.553591258\t,\t0.711159478\t,\t0.315462177\t,\t0.60413983\t]\t,\n",
    "[\t0.408450704\t,\t0.221547817\t,\t0.553591258\t,\t0.711159478\t,\t0.315462177\t,\t0.60413983\t,\t0.837619746\t]\t,\n",
    "[\t0.323943662\t,\t0.287958581\t,\t0.711159478\t,\t0.315462177\t,\t0.60413983\t,\t0.837619746\t,\t0.747627297\t]\t,\n",
    "[\t0.457746479\t,\t0.28837327\t,\t0.315462177\t,\t0.60413983\t,\t0.837619746\t,\t0.747627297\t,\t0.84718459\t]\t,\n",
    "[\t0.816901408\t,\t0.297145757\t,\t0.60413983\t,\t0.837619746\t,\t0.747627297\t,\t0.84718459\t,\t0.859340529\t]\t,\n",
    "[\t0.753521127\t,\t0.243669818\t,\t0.837619746\t,\t0.747627297\t,\t0.84718459\t,\t0.859340529\t,\t0.789721494\t]\t,\n",
    "[\t0.436619718\t,\t0.307437314\t,\t0.747627297\t,\t0.84718459\t,\t0.859340529\t,\t0.789721494\t,\t0.743659219\t]\t,\n",
    "[\t0.457746479\t,\t0.358597855\t,\t0.84718459\t,\t0.859340529\t,\t0.789721494\t,\t0.743659219\t,\t0.681354477\t]\t,\n",
    "[\t0.387323944\t,\t0.372181217\t,\t0.859340529\t,\t0.789721494\t,\t0.743659219\t,\t0.681354477\t,\t0.896681917\t]\t,\n",
    "[\t0.464788732\t,\t0.450259481\t,\t0.789721494\t,\t0.743659219\t,\t0.681354477\t,\t0.896681917\t,\t0.735190038\t]\t,\n",
    "[\t0.732394366\t,\t0.443095634\t,\t0.743659219\t,\t0.681354477\t,\t0.896681917\t,\t0.735190038\t,\t0.987207391\t]\t,\n",
    "[\t0.514084507\t,\t0.558155976\t,\t0.681354477\t,\t0.896681917\t,\t0.735190038\t,\t0.987207391\t,\t0.505026725\t]\t,\n",
    "[\t0.281690141\t,\t0.602359827\t,\t0.896681917\t,\t0.735190038\t,\t0.987207391\t,\t0.505026725\t,\t1\t]\t,\n",
    "[\t0.190140845\t,\t0.696291723\t,\t0.735190038\t,\t0.987207391\t,\t0.505026725\t,\t1\t,\t0.937872933\t]\t,\n",
    "[\t0.514084507\t,\t0.790604671\t,\t0.987207391\t,\t0.505026725\t,\t1\t,\t0.937872933\t,\t0.803313641\t]\t,\n",
    "[\t0.507042254\t,\t0.644022227\t,\t0.505026725\t,\t1\t,\t0.937872933\t,\t0.803313641\t,\t0.944387687\t]\t,\n",
    "[\t0.753521127\t,\t0.583228643\t,\t1\t,\t0.937872933\t,\t0.803313641\t,\t0.944387687\t,\t0.787826293\t]\t,\n",
    "[\t0.542253521\t,\t0.481715009\t,\t0.937872933\t,\t0.803313641\t,\t0.944387687\t,\t0.787826293\t,\t0.704674336\t]\t,\n",
    "[\t0.26056338\t,\t0.442812107\t,\t0.803313641\t,\t0.944387687\t,\t0.787826293\t,\t0.704674336\t,\t0.651046062\t]\t,\n",
    "[\t0.394366197\t,\t0.496270585\t,\t0.944387687\t,\t0.787826293\t,\t0.704674336\t,\t0.651046062\t,\t0.447904174\t]\t,\n",
    "[\t0.626760563\t,\t0.475463393\t,\t0.787826293\t,\t0.704674336\t,\t0.651046062\t,\t0.447904174\t,\t0.679770207\t]\t,\n",
    "[\t0.795774648\t,\t0.551559791\t,\t0.704674336\t,\t0.651046062\t,\t0.447904174\t,\t0.679770207\t,\t0.53034543\t]\t,\n",
    "[\t0.704225352\t,\t0.500994351\t,\t0.651046062\t,\t0.447904174\t,\t0.679770207\t,\t0.53034543\t,\t0.783902634\t]\t,\n",
    "[\t0.535211268\t,\t0.445458587\t,\t0.447904174\t,\t0.679770207\t,\t0.53034543\t,\t0.783902634\t,\t0.334902797\t]\t,\n",
    "[\t0.401408451\t,\t0.505711667\t,\t0.679770207\t,\t0.53034543\t,\t0.783902634\t,\t0.334902797\t,\t0.87703401\t]\t,\n",
    "[\t0.126760563\t,\t0.465889036\t,\t0.53034543\t,\t0.783902634\t,\t0.334902797\t,\t0.87703401\t,\t0.70343061\t]\t,\n",
    "[\t0.330985915\t,\t0.46785659\t,\t0.783902634\t,\t0.334902797\t,\t0.87703401\t,\t0.70343061\t,\t0.676453605\t]\t,\n",
    "[\t0.415492958\t,\t0.453001423\t,\t0.334902797\t,\t0.87703401\t,\t0.70343061\t,\t0.676453605\t,\t0.799656495\t]\t,\n",
    "[\t0.556338028\t,\t0.437411724\t,\t0.87703401\t,\t0.70343061\t,\t0.676453605\t,\t0.799656495\t,\t0.653962896\t]\t,\n",
    "[\t0.591549296\t,\t0.350673696\t,\t0.70343061\t,\t0.676453605\t,\t0.799656495\t,\t0.653962896\t,\t0.731769792\t]\t,\n",
    "[\t0.514084507\t,\t0.364031312\t,\t0.676453605\t,\t0.799656495\t,\t0.653962896\t,\t0.731769792\t,\t0.607234339\t]\t,\n",
    "\n",
    "\n",
    ")           \n",
    ",dtype=float)\n",
    "y=np.array(([\t0.588593257\t]\t,\n",
    "[\t0.286501133\t]\t,\n",
    "[\t0.473208072\t]\t,\n",
    "[\t0.452716208\t]\t,\n",
    "[\t0.383674618\t]\t,\n",
    "[\t0.233998134\t]\t,\n",
    "[\t0.353173722\t]\t,\n",
    "[\t0.140629858\t]\t,\n",
    "[\t0.263729105\t]\t,\n",
    "[\t0.33746428\t]\t,\n",
    "[\t0.287996565\t]\t,\n",
    "[\t0.509868372\t]\t,\n",
    "[\t0.509868372\t]\t,\n",
    "[\t0\t]\t,\n",
    "[\t0.476391418\t]\t,\n",
    "[\t0.449769763\t]\t,\n",
    "[\t0.46613068\t]\t,\n",
    "[\t0.588223101\t]\t,\n",
    "[\t0.636358252\t]\t,\n",
    "[\t0.573135522\t]\t,\n",
    "[\t0.45643258\t]\t,\n",
    "[\t0.762226269\t]\t,\n",
    "[\t0.553591258\t]\t,\n",
    "[\t0.711159478\t]\t,\n",
    "[\t0.315462177\t]\t,\n",
    "[\t0.60413983\t]\t,\n",
    "[\t0.837619746\t]\t,\n",
    "[\t0.747627297\t]\t,\n",
    "[\t0.84718459\t]\t,\n",
    "[\t0.859340529\t]\t,\n",
    "[\t0.789721494\t]\t,\n",
    "[\t0.743659219\t]\t,\n",
    "[\t0.681354477\t]\t,\n",
    "[\t0.896681917\t]\t,\n",
    "[\t0.735190038\t]\t,\n",
    "[\t0.987207391\t]\t,\n",
    "[\t0.505026725\t]\t,\n",
    "[\t1\t]\t,\n",
    "[\t0.937872933\t]\t,\n",
    "[\t0.803313641\t]\t,\n",
    "[\t0.944387687\t]\t,\n",
    "[\t0.787826293\t]\t,\n",
    "[\t0.704674336\t]\t,\n",
    "[\t0.651046062\t]\t,\n",
    "[\t0.447904174\t]\t,\n",
    "[\t0.679770207\t]\t,\n",
    "[\t0.53034543\t]\t,\n",
    "[\t0.783902634\t]\t,\n",
    "[\t0.334902797\t]\t,\n",
    "[\t0.87703401\t]\t,\n",
    "[\t0.70343061\t]\t,\n",
    "[\t0.676453605\t]\t,\n",
    "[\t0.799656495\t]\t,\n",
    "[\t0.653962896\t]\t,\n",
    "[\t0.731769792\t]\t,\n",
    "[\t0.607234339\t]\t,\n",
    "[\t0.67\t]\t,\n",
    "\n",
    ")\n",
    ",dtype=float)\n",
    "\n",
    "dataprediksi = np.array(([\t0.387323944\t,\t0.795380412\t,\t0.799656495\t,\t0.653962896\t,\t0.731769792\t,\t0.607234339\t,\t0.67\t]\t,\n",
    "[\t0.373239437\t,\t1\t,\t0.653962896\t,\t0.731769792\t,\t0.607234339\t,\t0.67\t,\t0.67\t]\t,\n",
    "[\t0.366197183\t,\t0.707681705\t,\t0.731769792\t,\t0.607234339\t,\t0.67\t,\t0.67\t,\t0.389745184\t]\t,\n",
    "[\t0.443661972\t,\t0.491695324\t,\t0.607234339\t,\t0.67\t,\t0.67\t,\t0.389745184\t,\t0.136735812\t]\t,\n",
    "\n",
    "), dtype=float)\n"
   ]
  },
  {
   "cell_type": "code",
   "execution_count": 7,
   "metadata": {},
   "outputs": [],
   "source": [
    "import matplotlib.pyplot as plot"
   ]
  },
  {
   "cell_type": "code",
   "execution_count": 8,
   "metadata": {},
   "outputs": [],
   "source": [
    "from scipy import optimize"
   ]
  },
  {
   "cell_type": "code",
   "execution_count": 9,
   "metadata": {},
   "outputs": [],
   "source": [
    "class trainer(object):\n",
    "    def __init__(self, N):\n",
    "        #Make Local reference to network:\n",
    "        self.N = N\n",
    "        \n",
    "    def callbackF(self, params):\n",
    "        self.N.setParams(params)\n",
    "        self.J.append(self.N.costFunction(self.X, self.y))   \n",
    "        \n",
    "    def costFunctionWrapper(self, params, X, y):\n",
    "        self.N.setParams(params)\n",
    "        cost = self.N.costFunction(X, y)\n",
    "        grad = self.N.computeGradients(X,y)\n",
    "        \n",
    "        return cost, grad\n",
    "        \n",
    "    def train(self, X, y):\n",
    "        #Make an internal variable for the callback function:\n",
    "        self.X = X\n",
    "        self.y = y\n",
    "\n",
    "        #Make empty list to store costs:\n",
    "        self.J = []\n",
    "        \n",
    "        params0 = self.N.getParams()\n",
    "\n",
    "        options = {'maxiter': 100, 'disp' : True}\n",
    "        _res = optimize.minimize(self.costFunctionWrapper, params0, jac=True, method='BFGS', \\\n",
    "                                 args=(X, y), options=options, callback=self.callbackF)\n",
    "\n",
    "        self.N.setParams(_res.x)\n",
    "        self.optimizationResults = _res"
   ]
  },
  {
   "cell_type": "code",
   "execution_count": 10,
   "metadata": {},
   "outputs": [],
   "source": [
    "NN=Neural_Network()"
   ]
  },
  {
   "cell_type": "code",
   "execution_count": 11,
   "metadata": {},
   "outputs": [],
   "source": [
    "T = trainer(NN)"
   ]
  },
  {
   "cell_type": "code",
   "execution_count": 12,
   "metadata": {},
   "outputs": [
    {
     "name": "stdout",
     "output_type": "stream",
     "text": [
      "Warning: Maximum number of iterations has been exceeded.\n",
      "         Current function value: 0.479485\n",
      "         Iterations: 100\n",
      "         Function evaluations: 103\n",
      "         Gradient evaluations: 103\n"
     ]
    }
   ],
   "source": [
    "#Train network with new data:\n",
    "T = trainer(NN)\n",
    "T.train(X,y)"
   ]
  },
  {
   "cell_type": "code",
   "execution_count": 13,
   "metadata": {},
   "outputs": [
    {
     "data": {
      "image/png": "[encoded data removed]",
      "text/plain": [
       "<Figure size 432x288 with 1 Axes>"
      ]
     },
     "metadata": {
      "needs_background": "light"
     },
     "output_type": "display_data"
    }
   ],
   "source": [
    "#Plot cost during training:\n",
    "plot.plot(T.J)\n",
    "plot.grid(1)\n",
    "plot.xlabel('Iterations')\n",
    "plot.ylabel('Cost')\n",
    "plot.show()"
   ]
  },
  {
   "cell_type": "code",
   "execution_count": 14,
   "metadata": {},
   "outputs": [],
   "source": [
    "#Training Data:\n",
    "trainX = np.array(([\t0.697183099\t,\t0.223256598\t,\t0.566339448\t,\t0.263729105\t,\t0.334917603\t,\t0.529012867\t,\t0.467788981\t]\t,\n",
    "[\t0.971830986\t,\t0.241974687\t,\t0.263729105\t,\t0.334917603\t,\t0.529012867\t,\t0.467788981\t,\t0.588593257\t]\t,\n",
    "[\t0.591549296\t,\t0.365733465\t,\t0.334917603\t,\t0.529012867\t,\t0.467788981\t,\t0.588593257\t,\t0.286501133\t]\t,\n",
    "[\t0.281690141\t,\t0.552558994\t,\t0.529012867\t,\t0.467788981\t,\t0.588593257\t,\t0.286501133\t,\t0.473208072\t]\t,\n",
    "[\t0.26056338\t,\t0.370023519\t,\t0.467788981\t,\t0.588593257\t,\t0.286501133\t,\t0.473208072\t,\t0.452716208\t]\t,\n",
    "[\t0.464788732\t,\t0.332531703\t,\t0.588593257\t,\t0.286501133\t,\t0.473208072\t,\t0.452716208\t,\t0.383674618\t]\t,\n",
    "[\t0.992957746\t,\t0.387887522\t,\t0.286501133\t,\t0.473208072\t,\t0.452716208\t,\t0.383674618\t,\t0.233998134\t]\t,\n",
    "[\t0.676056338\t,\t0.398363943\t,\t0.473208072\t,\t0.452716208\t,\t0.383674618\t,\t0.233998134\t,\t0.353173722\t]\t,\n",
    "[\t0.253521127\t,\t0.284826299\t,\t0.452716208\t,\t0.383674618\t,\t0.233998134\t,\t0.353173722\t,\t0.140629858\t]\t,\n",
    "[\t0.450704225\t,\t0.186735022\t,\t0.383674618\t,\t0.233998134\t,\t0.353173722\t,\t0.140629858\t,\t0.263729105\t]\t,\n",
    "[\t0\t,\t0.182694768\t,\t0.233998134\t,\t0.353173722\t,\t0.140629858\t,\t0.263729105\t,\t0.33746428\t]\t,\n",
    "[\t0.485915493\t,\t0.255617002\t,\t0.353173722\t,\t0.140629858\t,\t0.263729105\t,\t0.33746428\t,\t0.287996565\t]\t,\n",
    "[\t0.781690141\t,\t0.23597043\t,\t0.140629858\t,\t0.263729105\t,\t0.33746428\t,\t0.287996565\t,\t0.509868372\t]\t,\n",
    "[\t0.802816901\t,\t0.164134134\t,\t0.263729105\t,\t0.33746428\t,\t0.287996565\t,\t0.509868372\t,\t0.509868372\t]\t,\n",
    "[\t0.302816901\t,\t0.178176635\t,\t0.33746428\t,\t0.287996565\t,\t0.509868372\t,\t0.509868372\t,\t0\t]\t,\n",
    "[\t0.471830986\t,\t0.163956101\t,\t0.287996565\t,\t0.509868372\t,\t0.509868372\t,\t0\t,\t0.476391418\t]\t,\n",
    "[\t0.415492958\t,\t0.133241484\t,\t0.509868372\t,\t0.509868372\t,\t0\t,\t0.476391418\t,\t0.449769763\t]\t,\n",
    "[\t0.647887324\t,\t0.226399017\t,\t0.509868372\t,\t0\t,\t0.476391418\t,\t0.449769763\t,\t0.46613068\t]\t,\n",
    "[\t0.612676056\t,\t0.255013861\t,\t0\t,\t0.476391418\t,\t0.449769763\t,\t0.46613068\t,\t0.588223101\t]\t,\n",
    "[\t1\t,\t0.23708614\t,\t0.476391418\t,\t0.449769763\t,\t0.46613068\t,\t0.588223101\t,\t0.636358252\t]\t,\n",
    "[\t0.478873239\t,\t0.231651119\t,\t0.449769763\t,\t0.46613068\t,\t0.588223101\t,\t0.636358252\t,\t0.573135522\t]\t,\n",
    "[\t0.302816901\t,\t0.233067608\t,\t0.46613068\t,\t0.588223101\t,\t0.636358252\t,\t0.573135522\t,\t0.45643258\t]\t,\n",
    "[\t0.38028169\t,\t0.221173719\t,\t0.588223101\t,\t0.636358252\t,\t0.573135522\t,\t0.45643258\t,\t0.762226269\t]\t,\n",
    "[\t0.591549296\t,\t0.22633168\t,\t0.636358252\t,\t0.573135522\t,\t0.45643258\t,\t0.762226269\t,\t0.553591258\t]\t,\n",
    "[\t0.802816901\t,\t0.218698642\t,\t0.573135522\t,\t0.45643258\t,\t0.762226269\t,\t0.553591258\t,\t0.711159478\t]\t,\n",
    "[\t0.471830986\t,\t0.232032203\t,\t0.45643258\t,\t0.762226269\t,\t0.553591258\t,\t0.711159478\t,\t0.315462177\t]\t,\n",
    "[\t0.267605634\t,\t0.231947948\t,\t0.762226269\t,\t0.553591258\t,\t0.711159478\t,\t0.315462177\t,\t0.60413983\t]\t,\n",
    "[\t0.408450704\t,\t0.221547817\t,\t0.553591258\t,\t0.711159478\t,\t0.315462177\t,\t0.60413983\t,\t0.837619746\t]\t,\n",
    "[\t0.323943662\t,\t0.287958581\t,\t0.711159478\t,\t0.315462177\t,\t0.60413983\t,\t0.837619746\t,\t0.747627297\t]\t,\n",
    "[\t0.457746479\t,\t0.28837327\t,\t0.315462177\t,\t0.60413983\t,\t0.837619746\t,\t0.747627297\t,\t0.84718459\t]\t,\n",
    "[\t0.816901408\t,\t0.297145757\t,\t0.60413983\t,\t0.837619746\t,\t0.747627297\t,\t0.84718459\t,\t0.859340529\t]\t,\n",
    "[\t0.753521127\t,\t0.243669818\t,\t0.837619746\t,\t0.747627297\t,\t0.84718459\t,\t0.859340529\t,\t0.789721494\t]\t,\n",
    "[\t0.436619718\t,\t0.307437314\t,\t0.747627297\t,\t0.84718459\t,\t0.859340529\t,\t0.789721494\t,\t0.743659219\t]\t,\n",
    "[\t0.457746479\t,\t0.358597855\t,\t0.84718459\t,\t0.859340529\t,\t0.789721494\t,\t0.743659219\t,\t0.681354477\t]\t,\n",
    "[\t0.387323944\t,\t0.372181217\t,\t0.859340529\t,\t0.789721494\t,\t0.743659219\t,\t0.681354477\t,\t0.896681917\t]\t,\n",
    "[\t0.464788732\t,\t0.450259481\t,\t0.789721494\t,\t0.743659219\t,\t0.681354477\t,\t0.896681917\t,\t0.735190038\t]\t,\n",
    "[\t0.732394366\t,\t0.443095634\t,\t0.743659219\t,\t0.681354477\t,\t0.896681917\t,\t0.735190038\t,\t0.987207391\t]\t,\n",
    "[\t0.514084507\t,\t0.558155976\t,\t0.681354477\t,\t0.896681917\t,\t0.735190038\t,\t0.987207391\t,\t0.505026725\t]\t,\n",
    "[\t0.281690141\t,\t0.602359827\t,\t0.896681917\t,\t0.735190038\t,\t0.987207391\t,\t0.505026725\t,\t1\t]\t,\n",
    "[\t0.190140845\t,\t0.696291723\t,\t0.735190038\t,\t0.987207391\t,\t0.505026725\t,\t1\t,\t0.937872933\t]\t,\n",
    "[\t0.514084507\t,\t0.790604671\t,\t0.987207391\t,\t0.505026725\t,\t1\t,\t0.937872933\t,\t0.803313641\t]\t,\n",
    "[\t0.507042254\t,\t0.644022227\t,\t0.505026725\t,\t1\t,\t0.937872933\t,\t0.803313641\t,\t0.944387687\t]\t,\n",
    "[\t0.753521127\t,\t0.583228643\t,\t1\t,\t0.937872933\t,\t0.803313641\t,\t0.944387687\t,\t0.787826293\t]\t,\n",
    "[\t0.542253521\t,\t0.481715009\t,\t0.937872933\t,\t0.803313641\t,\t0.944387687\t,\t0.787826293\t,\t0.704674336\t]\t,\n",
    "[\t0.26056338\t,\t0.442812107\t,\t0.803313641\t,\t0.944387687\t,\t0.787826293\t,\t0.704674336\t,\t0.651046062\t]\t,\n",
    "\n",
    ")\n",
    ", dtype=float)\n",
    "trainY = np.array(([\t0.588593257\t]\t,\n",
    "[\t0.286501133\t]\t,\n",
    "[\t0.473208072\t]\t,\n",
    "[\t0.452716208\t]\t,\n",
    "[\t0.383674618\t]\t,\n",
    "[\t0.233998134\t]\t,\n",
    "[\t0.353173722\t]\t,\n",
    "[\t0.140629858\t]\t,\n",
    "[\t0.263729105\t]\t,\n",
    "[\t0.33746428\t]\t,\n",
    "[\t0.287996565\t]\t,\n",
    "[\t0.509868372\t]\t,\n",
    "[\t0.509868372\t]\t,\n",
    "[\t0\t]\t,\n",
    "[\t0.476391418\t]\t,\n",
    "[\t0.449769763\t]\t,\n",
    "[\t0.46613068\t]\t,\n",
    "[\t0.588223101\t]\t,\n",
    "[\t0.636358252\t]\t,\n",
    "[\t0.573135522\t]\t,\n",
    "[\t0.45643258\t]\t,\n",
    "[\t0.762226269\t]\t,\n",
    "[\t0.553591258\t]\t,\n",
    "[\t0.711159478\t]\t,\n",
    "[\t0.315462177\t]\t,\n",
    "[\t0.60413983\t]\t,\n",
    "[\t0.837619746\t]\t,\n",
    "[\t0.747627297\t]\t,\n",
    "[\t0.84718459\t]\t,\n",
    "[\t0.859340529\t]\t,\n",
    "[\t0.789721494\t]\t,\n",
    "[\t0.743659219\t]\t,\n",
    "[\t0.681354477\t]\t,\n",
    "[\t0.896681917\t]\t,\n",
    "[\t0.735190038\t]\t,\n",
    "[\t0.987207391\t]\t,\n",
    "[\t0.505026725\t]\t,\n",
    "[\t1\t]\t,\n",
    "[\t0.937872933\t]\t,\n",
    "[\t0.803313641\t]\t,\n",
    "[\t0.944387687\t]\t,\n",
    "[\t0.787826293\t]\t,\n",
    "[\t0.704674336\t]\t,\n",
    "[\t0.651046062\t]\t,\n",
    "[\t0.447904174\t]\t,\n",
    "\n",
    ")\n",
    ", dtype=float)\n",
    "\n",
    "#Testing Data:\n",
    "testX = np.array(([\t0.394366197\t,\t0.496270585\t,\t0.944387687\t,\t0.787826293\t,\t0.704674336\t,\t0.651046062\t,\t0.447904174\t]\t,\n",
    "[\t0.626760563\t,\t0.475463393\t,\t0.787826293\t,\t0.704674336\t,\t0.651046062\t,\t0.447904174\t,\t0.679770207\t]\t,\n",
    "[\t0.795774648\t,\t0.551559791\t,\t0.704674336\t,\t0.651046062\t,\t0.447904174\t,\t0.679770207\t,\t0.53034543\t]\t,\n",
    "[\t0.704225352\t,\t0.500994351\t,\t0.651046062\t,\t0.447904174\t,\t0.679770207\t,\t0.53034543\t,\t0.783902634\t]\t,\n",
    "[\t0.535211268\t,\t0.445458587\t,\t0.447904174\t,\t0.679770207\t,\t0.53034543\t,\t0.783902634\t,\t0.334902797\t]\t,\n",
    "[\t0.401408451\t,\t0.505711667\t,\t0.679770207\t,\t0.53034543\t,\t0.783902634\t,\t0.334902797\t,\t0.87703401\t]\t,\n",
    "[\t0.126760563\t,\t0.465889036\t,\t0.53034543\t,\t0.783902634\t,\t0.334902797\t,\t0.87703401\t,\t0.70343061\t]\t,\n",
    "[\t0.330985915\t,\t0.46785659\t,\t0.783902634\t,\t0.334902797\t,\t0.87703401\t,\t0.70343061\t,\t0.676453605\t]\t,\n",
    "[\t0.415492958\t,\t0.453001423\t,\t0.334902797\t,\t0.87703401\t,\t0.70343061\t,\t0.676453605\t,\t0.799656495\t]\t,\n",
    "[\t0.556338028\t,\t0.437411724\t,\t0.87703401\t,\t0.70343061\t,\t0.676453605\t,\t0.799656495\t,\t0.653962896\t]\t,\n",
    "[\t0.591549296\t,\t0.350673696\t,\t0.70343061\t,\t0.676453605\t,\t0.799656495\t,\t0.653962896\t,\t0.731769792\t]\t,\n",
    "[\t0.514084507\t,\t0.364031312\t,\t0.676453605\t,\t0.799656495\t,\t0.653962896\t,\t0.731769792\t,\t0.607234339\t]\t,\n",
    "\n",
    ")\n",
    ", dtype=float)\n",
    "testY = np.array(([\t0.679770207\t]\t,\n",
    "[\t0.53034543\t]\t,\n",
    "[\t0.783902634\t]\t,\n",
    "[\t0.334902797\t]\t,\n",
    "[\t0.87703401\t]\t,\n",
    "[\t0.70343061\t]\t,\n",
    "[\t0.676453605\t]\t,\n",
    "[\t0.799656495\t]\t,\n",
    "[\t0.653962896\t]\t,\n",
    "[\t0.731769792\t]\t,\n",
    "[\t0.607234339\t]\t,\n",
    "[\t0.67\t]\t,\n",
    "\n",
    ")\n",
    ", dtype=float)\n",
    "\n",
    "\n",
    "dataprediksi = np.array(([\t0.387323944\t,\t0.795380412\t,\t0.799656495\t,\t0.653962896\t,\t0.731769792\t,\t0.607234339\t,\t0.67\t]\t,\n",
    "[\t0.373239437\t,\t1\t,\t0.653962896\t,\t0.731769792\t,\t0.607234339\t,\t0.67\t,\t0.67\t]\t,\n",
    "[\t0.366197183\t,\t0.707681705\t,\t0.731769792\t,\t0.607234339\t,\t0.67\t,\t0.67\t,\t0.389745184\t]\t,\n",
    "[\t0.443661972\t,\t0.491695324\t,\t0.607234339\t,\t0.67\t,\t0.67\t,\t0.389745184\t,\t0.136735812\t]\t,\n",
    "\n",
    "), dtype=float)"
   ]
  },
  {
   "cell_type": "code",
   "execution_count": 15,
   "metadata": {},
   "outputs": [
    {
     "data": {
      "text/plain": [
       "array([[0.3943662 , 0.49627058, 0.94438769, 0.78782629, 0.70467434,\n",
       "        0.65104606, 0.44790417],\n",
       "       [0.62676056, 0.47546339, 0.78782629, 0.70467434, 0.65104606,\n",
       "        0.44790417, 0.67977021],\n",
       "       [0.79577465, 0.55155979, 0.70467434, 0.65104606, 0.44790417,\n",
       "        0.67977021, 0.53034543],\n",
       "       [0.70422535, 0.50099435, 0.65104606, 0.44790417, 0.67977021,\n",
       "        0.53034543, 0.78390263],\n",
       "       [0.53521127, 0.44545859, 0.44790417, 0.67977021, 0.53034543,\n",
       "        0.78390263, 0.3349028 ],\n",
       "       [0.40140845, 0.50571167, 0.67977021, 0.53034543, 0.78390263,\n",
       "        0.3349028 , 0.87703401],\n",
       "       [0.12676056, 0.46588904, 0.53034543, 0.78390263, 0.3349028 ,\n",
       "        0.87703401, 0.70343061],\n",
       "       [0.33098592, 0.46785659, 0.78390263, 0.3349028 , 0.87703401,\n",
       "        0.70343061, 0.6764536 ],\n",
       "       [0.41549296, 0.45300142, 0.3349028 , 0.87703401, 0.70343061,\n",
       "        0.6764536 , 0.7996565 ],\n",
       "       [0.55633803, 0.43741172, 0.87703401, 0.70343061, 0.6764536 ,\n",
       "        0.7996565 , 0.6539629 ],\n",
       "       [0.5915493 , 0.3506737 , 0.70343061, 0.6764536 , 0.7996565 ,\n",
       "        0.6539629 , 0.73176979],\n",
       "       [0.51408451, 0.36403131, 0.6764536 , 0.7996565 , 0.6539629 ,\n",
       "        0.73176979, 0.60723434]])"
      ]
     },
     "execution_count": 15,
     "metadata": {},
     "output_type": "execute_result"
    }
   ],
   "source": [
    "testX"
   ]
  },
  {
   "cell_type": "code",
   "execution_count": 16,
   "metadata": {},
   "outputs": [],
   "source": [
    "##Need to modify trainer class a bit to check testing error during training:\n",
    "class trainer(object):\n",
    "    def __init__(self, N):\n",
    "        #Make Local reference to network:\n",
    "        self.N = N\n",
    "        \n",
    "    def callbackF(self, params):\n",
    "        self.N.setParams(params)\n",
    "        self.J.append(self.N.costFunction(self.X, self.y))\n",
    "        self.testJ.append(self.N.costFunction(self.testX, self.testY))\n",
    "        \n",
    "    def costFunctionWrapper(self, params, X, y):\n",
    "        self.N.setParams(params)\n",
    "        cost = self.N.costFunction(X, y)\n",
    "        grad = self.N.computeGradients(X,y)\n",
    "        \n",
    "        return cost, grad\n",
    "        \n",
    "    def train(self, trainX, trainY, testX, testY):\n",
    "        #Make an internal variable for the callback function:\n",
    "        self.X = trainX\n",
    "        self.y = trainY\n",
    "        \n",
    "        self.testX = testX\n",
    "        self.testY = testY\n",
    "\n",
    "        #Make empty list to store training costs:\n",
    "        self.J = []\n",
    "        self.testJ = []\n",
    "        \n",
    "        params0 = self.N.getParams()\n",
    "\n",
    "        options = {'maxiter': 100, 'disp' : True}\n",
    "        _res = optimize.minimize(self.costFunctionWrapper, params0, jac=True, method='BFGS', \\\n",
    "                                 args=(trainX, trainY), options=options, callback=self.callbackF)\n",
    "\n",
    "        self.N.setParams(_res.x)\n",
    "        self.optimizationResults = _res"
   ]
  },
  {
   "cell_type": "code",
   "execution_count": 17,
   "metadata": {},
   "outputs": [
    {
     "name": "stdout",
     "output_type": "stream",
     "text": [
      "Warning: Maximum number of iterations has been exceeded.\n",
      "         Current function value: 0.292905\n",
      "         Iterations: 100\n",
      "         Function evaluations: 102\n",
      "         Gradient evaluations: 102\n"
     ]
    }
   ],
   "source": [
    "#Train network with new data:\n",
    "NN = Neural_Network()\n",
    "\n",
    "T = trainer(NN)\n",
    "T.train(trainX, trainY, testX, testY)"
   ]
  },
  {
   "cell_type": "code",
   "execution_count": 18,
   "metadata": {},
   "outputs": [
    {
     "data": {
      "image/png": "[encoded data removed]",
      "text/plain": [
       "<Figure size 432x288 with 1 Axes>"
      ]
     },
     "metadata": {
      "needs_background": "light"
     },
     "output_type": "display_data"
    }
   ],
   "source": [
    "#Plot cost during training:\n",
    "plot.plot(T.J)\n",
    "plot.plot(T.testJ)\n",
    "plot.grid(1)\n",
    "plot.xlabel('Iterations')\n",
    "plot.ylabel('Cost')\n",
    "plot.legend(['Training', 'Testing'])\n",
    "plot.show()"
   ]
  },
  {
   "cell_type": "code",
   "execution_count": 19,
   "metadata": {},
   "outputs": [
    {
     "data": {
      "text/plain": [
       "[array([0.83896315]),\n",
       " array([0.80711743]),\n",
       " array([0.75541958]),\n",
       " array([0.71042683]),\n",
       " array([0.69296996]),\n",
       " array([0.67695514]),\n",
       " array([0.65689362]),\n",
       " array([0.64215959]),\n",
       " array([0.63169327]),\n",
       " array([0.61435938]),\n",
       " array([0.58468231]),\n",
       " array([0.56026203]),\n",
       " array([0.54582618]),\n",
       " array([0.5367481]),\n",
       " array([0.53217863]),\n",
       " array([0.52636744]),\n",
       " array([0.52333532]),\n",
       " array([0.52085657]),\n",
       " array([0.5186306]),\n",
       " array([0.51725324]),\n",
       " array([0.51480203]),\n",
       " array([0.51038718]),\n",
       " array([0.50290186]),\n",
       " array([0.49544605]),\n",
       " array([0.49307418]),\n",
       " array([0.49082205]),\n",
       " array([0.4877219]),\n",
       " array([0.4843454]),\n",
       " array([0.47924887]),\n",
       " array([0.47185239]),\n",
       " array([0.46116764]),\n",
       " array([0.45119344]),\n",
       " array([0.44518817]),\n",
       " array([0.43771119]),\n",
       " array([0.43486936]),\n",
       " array([0.43359151]),\n",
       " array([0.43300388]),\n",
       " array([0.43248277]),\n",
       " array([0.43156701]),\n",
       " array([0.42999169]),\n",
       " array([0.42761444]),\n",
       " array([0.42581248]),\n",
       " array([0.42453879]),\n",
       " array([0.42257972]),\n",
       " array([0.41978882]),\n",
       " array([0.41610566]),\n",
       " array([0.41116275]),\n",
       " array([0.40573694]),\n",
       " array([0.40449123]),\n",
       " array([0.40273347]),\n",
       " array([0.40027059]),\n",
       " array([0.39644267]),\n",
       " array([0.3905594]),\n",
       " array([0.38715968]),\n",
       " array([0.38529825]),\n",
       " array([0.38361533]),\n",
       " array([0.38072568]),\n",
       " array([0.37700032]),\n",
       " array([0.37574926]),\n",
       " array([0.37376012]),\n",
       " array([0.37053475]),\n",
       " array([0.36586873]),\n",
       " array([0.36152574]),\n",
       " array([0.35710533]),\n",
       " array([0.35511363]),\n",
       " array([0.35430269]),\n",
       " array([0.35325957]),\n",
       " array([0.35174733]),\n",
       " array([0.349235]),\n",
       " array([0.34513732]),\n",
       " array([0.33931166]),\n",
       " array([0.33659765]),\n",
       " array([0.33580577]),\n",
       " array([0.33499224]),\n",
       " array([0.33421102]),\n",
       " array([0.33280716]),\n",
       " array([0.33032225]),\n",
       " array([0.32642406]),\n",
       " array([0.32375385]),\n",
       " array([0.32319747]),\n",
       " array([0.32264416]),\n",
       " array([0.32231373]),\n",
       " array([0.32174938]),\n",
       " array([0.32078653]),\n",
       " array([0.31913831]),\n",
       " array([0.31634844]),\n",
       " array([0.3119696]),\n",
       " array([0.30677703]),\n",
       " array([0.30582437]),\n",
       " array([0.30410836]),\n",
       " array([0.301471]),\n",
       " array([0.30009948]),\n",
       " array([0.29974892]),\n",
       " array([0.29915906]),\n",
       " array([0.29827947]),\n",
       " array([0.29756067]),\n",
       " array([0.29690842]),\n",
       " array([0.29609357]),\n",
       " array([0.29484878]),\n",
       " array([0.29290525])]"
      ]
     },
     "execution_count": 19,
     "metadata": {},
     "output_type": "execute_result"
    }
   ],
   "source": [
    "T.J"
   ]
  },
  {
   "cell_type": "code",
   "execution_count": 20,
   "metadata": {},
   "outputs": [
    {
     "data": {
      "text/plain": [
       "[array([0.10234787]),\n",
       " array([0.1026491]),\n",
       " array([0.09942213]),\n",
       " array([0.1031869]),\n",
       " array([0.10215965]),\n",
       " array([0.10928718]),\n",
       " array([0.12223011]),\n",
       " array([0.13362926]),\n",
       " array([0.13784457]),\n",
       " array([0.13810858]),\n",
       " array([0.13330635]),\n",
       " array([0.1394666]),\n",
       " array([0.13014434]),\n",
       " array([0.13093846]),\n",
       " array([0.13805371]),\n",
       " array([0.13300141]),\n",
       " array([0.13274101]),\n",
       " array([0.13541314]),\n",
       " array([0.14095444]),\n",
       " array([0.14398657]),\n",
       " array([0.14657369]),\n",
       " array([0.14867603]),\n",
       " array([0.14800482]),\n",
       " array([0.13751108]),\n",
       " array([0.13388854]),\n",
       " array([0.13039083]),\n",
       " array([0.12592463]),\n",
       " array([0.12230288]),\n",
       " array([0.12013217]),\n",
       " array([0.11902263]),\n",
       " array([0.11772002]),\n",
       " array([0.11954323]),\n",
       " array([0.11153723]),\n",
       " array([0.11289349]),\n",
       " array([0.11003585]),\n",
       " array([0.10812502]),\n",
       " array([0.10666396]),\n",
       " array([0.10714945]),\n",
       " array([0.10833036]),\n",
       " array([0.11223482]),\n",
       " array([0.12081958]),\n",
       " array([0.13238802]),\n",
       " array([0.13661309]),\n",
       " array([0.14209312]),\n",
       " array([0.14175019]),\n",
       " array([0.14293973]),\n",
       " array([0.14302196]),\n",
       " array([0.14553701]),\n",
       " array([0.14544747]),\n",
       " array([0.13952419]),\n",
       " array([0.13447919]),\n",
       " array([0.12755489]),\n",
       " array([0.12280619]),\n",
       " array([0.12757438]),\n",
       " array([0.13092675]),\n",
       " array([0.13127334]),\n",
       " array([0.13365987]),\n",
       " array([0.13912979]),\n",
       " array([0.14030748]),\n",
       " array([0.13926072]),\n",
       " array([0.13663329]),\n",
       " array([0.13113813]),\n",
       " array([0.13009522]),\n",
       " array([0.12821673]),\n",
       " array([0.13153635]),\n",
       " array([0.1282625]),\n",
       " array([0.12883195]),\n",
       " array([0.12888612]),\n",
       " array([0.12778514]),\n",
       " array([0.12394194]),\n",
       " array([0.11457665]),\n",
       " array([0.10640031]),\n",
       " array([0.10674581]),\n",
       " array([0.10643383]),\n",
       " array([0.10737538]),\n",
       " array([0.10742928]),\n",
       " array([0.10695637]),\n",
       " array([0.10446046]),\n",
       " array([0.1000106]),\n",
       " array([0.09843579]),\n",
       " array([0.09674288]),\n",
       " array([0.09595814]),\n",
       " array([0.09518902]),\n",
       " array([0.09422164]),\n",
       " array([0.09241199]),\n",
       " array([0.08998069]),\n",
       " array([0.08397719]),\n",
       " array([0.07957182]),\n",
       " array([0.06430523]),\n",
       " array([0.06559211]),\n",
       " array([0.06749746]),\n",
       " array([0.07189429]),\n",
       " array([0.07012734]),\n",
       " array([0.06884948]),\n",
       " array([0.06686752]),\n",
       " array([0.06591295]),\n",
       " array([0.0641077]),\n",
       " array([0.06353841]),\n",
       " array([0.06285004]),\n",
       " array([0.06260923])]"
      ]
     },
     "execution_count": 20,
     "metadata": {},
     "output_type": "execute_result"
    }
   ],
   "source": [
    "T.testJ"
   ]
  },
  {
   "cell_type": "code",
   "execution_count": 21,
   "metadata": {},
   "outputs": [
    {
     "data": {
      "text/plain": [
       "0.3118660420261015"
      ]
     },
     "execution_count": 21,
     "metadata": {},
     "output_type": "execute_result"
    }
   ],
   "source": [
    "from sklearn.metrics import mean_absolute_error\n",
    "mean_absolute_error(T.J, T.testJ)"
   ]
  },
  {
   "cell_type": "code",
   "execution_count": 22,
   "metadata": {},
   "outputs": [],
   "source": [
    "yHat = NN.forward(X)"
   ]
  },
  {
   "cell_type": "code",
   "execution_count": 23,
   "metadata": {},
   "outputs": [
    {
     "data": {
      "text/plain": [
       "array([[0.49461656],\n",
       "       [0.33203959],\n",
       "       [0.44749758],\n",
       "       [0.41656772],\n",
       "       [0.49120222],\n",
       "       [0.49719515],\n",
       "       [0.32906403],\n",
       "       [0.19203604],\n",
       "       [0.2350119 ],\n",
       "       [0.17982061],\n",
       "       [0.27497568],\n",
       "       [0.53877035],\n",
       "       [0.32103182],\n",
       "       [0.35218841],\n",
       "       [0.41615598],\n",
       "       [0.46221135],\n",
       "       [0.41884903],\n",
       "       [0.56111498],\n",
       "       [0.54019521],\n",
       "       [0.33565576],\n",
       "       [0.64190817],\n",
       "       [0.71755516],\n",
       "       [0.71969418],\n",
       "       [0.59767368],\n",
       "       [0.32113705],\n",
       "       [0.63622031],\n",
       "       [0.6785479 ],\n",
       "       [0.68067849],\n",
       "       [0.8047297 ],\n",
       "       [0.85613863],\n",
       "       [0.76479189],\n",
       "       [0.66951377],\n",
       "       [0.81840779],\n",
       "       [0.77731883],\n",
       "       [0.79966298],\n",
       "       [0.89548109],\n",
       "       [0.57834684],\n",
       "       [0.87859679],\n",
       "       [0.81477123],\n",
       "       [0.75702793],\n",
       "       [0.90465597],\n",
       "       [0.82016141],\n",
       "       [0.76789526],\n",
       "       [0.80188219],\n",
       "       [0.49344566],\n",
       "       [0.59835879],\n",
       "       [0.4338185 ],\n",
       "       [0.59468796],\n",
       "       [0.47172815],\n",
       "       [0.73378109],\n",
       "       [0.65993923],\n",
       "       [0.70158686],\n",
       "       [0.70372341],\n",
       "       [0.71066793],\n",
       "       [0.74207747],\n",
       "       [0.71099455],\n",
       "       [0.76172892]])"
      ]
     },
     "execution_count": 23,
     "metadata": {},
     "output_type": "execute_result"
    }
   ],
   "source": [
    "yHat"
   ]
  },
  {
   "cell_type": "code",
   "execution_count": 24,
   "metadata": {},
   "outputs": [
    {
     "data": {
      "text/plain": [
       "array([[0.58859326],\n",
       "       [0.28650113],\n",
       "       [0.47320807],\n",
       "       [0.45271621],\n",
       "       [0.38367462],\n",
       "       [0.23399813],\n",
       "       [0.35317372],\n",
       "       [0.14062986],\n",
       "       [0.26372911],\n",
       "       [0.33746428],\n",
       "       [0.28799656],\n",
       "       [0.50986837],\n",
       "       [0.50986837],\n",
       "       [0.        ],\n",
       "       [0.47639142],\n",
       "       [0.44976976],\n",
       "       [0.46613068],\n",
       "       [0.5882231 ],\n",
       "       [0.63635825],\n",
       "       [0.57313552],\n",
       "       [0.45643258],\n",
       "       [0.76222627],\n",
       "       [0.55359126],\n",
       "       [0.71115948],\n",
       "       [0.31546218],\n",
       "       [0.60413983],\n",
       "       [0.83761975],\n",
       "       [0.7476273 ],\n",
       "       [0.84718459],\n",
       "       [0.85934053],\n",
       "       [0.78972149],\n",
       "       [0.74365922],\n",
       "       [0.68135448],\n",
       "       [0.89668192],\n",
       "       [0.73519004],\n",
       "       [0.98720739],\n",
       "       [0.50502673],\n",
       "       [1.        ],\n",
       "       [0.93787293],\n",
       "       [0.80331364],\n",
       "       [0.94438769],\n",
       "       [0.78782629],\n",
       "       [0.70467434],\n",
       "       [0.65104606],\n",
       "       [0.44790417],\n",
       "       [0.67977021],\n",
       "       [0.53034543],\n",
       "       [0.78390263],\n",
       "       [0.3349028 ],\n",
       "       [0.87703401],\n",
       "       [0.70343061],\n",
       "       [0.6764536 ],\n",
       "       [0.7996565 ],\n",
       "       [0.6539629 ],\n",
       "       [0.73176979],\n",
       "       [0.60723434],\n",
       "       [0.67      ]])"
      ]
     },
     "execution_count": 24,
     "metadata": {},
     "output_type": "execute_result"
    }
   ],
   "source": [
    "y"
   ]
  },
  {
   "cell_type": "code",
   "execution_count": 25,
   "metadata": {},
   "outputs": [
    {
     "data": {
      "text/plain": [
       "0.012474192286520754"
      ]
     },
     "execution_count": 25,
     "metadata": {},
     "output_type": "execute_result"
    }
   ],
   "source": [
    "from sklearn.metrics import mean_squared_error \n",
    "mean_squared_error(y,yHat) "
   ]
  },
  {
   "cell_type": "code",
   "execution_count": 26,
   "metadata": {},
   "outputs": [
    {
     "data": {
      "image/png": "[encoded data removed]",
      "text/plain": [
       "<Figure size 432x288 with 1 Axes>"
      ]
     },
     "metadata": {
      "needs_background": "light"
     },
     "output_type": "display_data"
    }
   ],
   "source": [
    "#Plot cost during training:\n",
    "plot.plot(y)\n",
    "plot.plot(yHat)\n",
    "plot.grid(1)\n",
    "plot.legend(['y', 'yHat'])\n",
    "plot.show()"
   ]
  },
  {
   "cell_type": "code",
   "execution_count": 27,
   "metadata": {},
   "outputs": [],
   "source": [
    "#Regularization Parameter:\n",
    "Lambda = 0.0001"
   ]
  },
  {
   "cell_type": "code",
   "execution_count": 28,
   "metadata": {},
   "outputs": [],
   "source": [
    "#Need to make changes to costFunction and costFunctionPrim:\n",
    "def costFunction(self, X, y):\n",
    "    #Compute cost for given X,y, use weights already stored in class.\n",
    "    self.yHat = self.forward(X)\n",
    "    #We don't want cost to increase with the number of examples, so normalize by dividing the error term by number of examples(X.shape[0])\n",
    "    J = 0.5*sum((y-self.yHat)**2)/X.shape[0] + (self.Lambda/2)*(sum(self.W1**2)+sum(self.W2**2))\n",
    "    return J\n",
    "\n",
    "def costFunctionPrime(self, X, y):\n",
    "    #Compute derivative with respect to W and W2 for a given X and y:\n",
    "    self.yHat = self.forward(X)\n",
    "\n",
    "    delta3 = np.multiply(-(y-self.yHat), self.sigmoidPrime(self.z3))\n",
    "    #Add gradient of regularization term:\n",
    "    dJdW2 = np.dot(self.a2.T, delta3)/X.shape[0] + self.Lambda*self.W2\n",
    "\n",
    "    delta2 = np.dot(delta3, self.W2.T)*self.sigmoidPrime(self.z2)\n",
    "    #Add gradient of regularization term:\n",
    "    dJdW1 = np.dot(X.T, delta2)/X.shape[0] + self.Lambda*self.W1\n",
    "\n",
    "    return dJdW1, dJdW2"
   ]
  },
  {
   "cell_type": "code",
   "execution_count": 29,
   "metadata": {},
   "outputs": [],
   "source": [
    "#New complete class, with changes:\n",
    "class Neural_Network(object):\n",
    "    def __init__(self, Lambda=0.0001):        \n",
    "        #Define Hyperparameters\n",
    "        self.inputLayerSize = 7\n",
    "        self.outputLayerSize = 1\n",
    "        self.hiddenLayerSize = 4\n",
    "        \n",
    "        #Weights (parameters)\n",
    "        self.W1 = np.random.randn(self.inputLayerSize,self.hiddenLayerSize)\n",
    "        self.W2 = np.random.randn(self.hiddenLayerSize,self.outputLayerSize)\n",
    "        \n",
    "        #Regularization Parameter:\n",
    "        self.Lambda = Lambda\n",
    "        \n",
    "    def forward(self, X):\n",
    "        #Propogate inputs though network\n",
    "        self.z2 = np.dot(X, self.W1)\n",
    "        self.a2 = self.sigmoid(self.z2)\n",
    "        self.z3 = np.dot(self.a2, self.W2)\n",
    "        yHat = self.sigmoid(self.z3) \n",
    "        return yHat\n",
    "        \n",
    "    def sigmoid(self, z):\n",
    "        #Apply sigmoid activation function to scalar, vector, or matrix\n",
    "        return 1/(1+np.exp(-z))\n",
    "    \n",
    "    def sigmoidPrime(self,z):\n",
    "        #Gradient of sigmoid\n",
    "        return np.exp(-z)/((1+np.exp(-z))**2)\n",
    "    \n",
    "    def costFunction(self, X, y):\n",
    "        #Compute cost for given X,y, use weights already stored in class.\n",
    "        self.yHat = self.forward(X)\n",
    "        J = 0.5*sum((y-self.yHat)**2)/X.shape[0] + (self.Lambda/2)*(np.sum(self.W1**2)+np.sum(self.W2**2))\n",
    "        return J\n",
    "        \n",
    "    def costFunctionPrime(self, X, y):\n",
    "        #Compute derivative with respect to W and W2 for a given X and y:\n",
    "        self.yHat = self.forward(X)\n",
    "        \n",
    "        delta3 = np.multiply(-(y-self.yHat), self.sigmoidPrime(self.z3))\n",
    "        #Add gradient of regularization term:\n",
    "        dJdW2 = np.dot(self.a2.T, delta3)/X.shape[0] + self.Lambda*self.W2\n",
    "        \n",
    "        delta2 = np.dot(delta3, self.W2.T)*self.sigmoidPrime(self.z2)\n",
    "        #Add gradient of regularization term:\n",
    "        dJdW1 = np.dot(X.T, delta2)/X.shape[0] + self.Lambda*self.W1\n",
    "        \n",
    "        return dJdW1, dJdW2\n",
    "    \n",
    "    def predict(self):\n",
    "        prediksi = self.forward(dataprediksi)\n",
    "        return prediksi\n",
    "    \n",
    "    #Helper functions for interacting with other methods/classes\n",
    "    def getParams(self):\n",
    "        #Get W1 and W2 Rolled into vector:\n",
    "        params = np.concatenate((self.W1.ravel(), self.W2.ravel()))\n",
    "        return params\n",
    "    \n",
    "    def setParams(self, params):\n",
    "        #Set W1 and W2 using single parameter vector:\n",
    "        W1_start = 0\n",
    "        W1_end = self.hiddenLayerSize*self.inputLayerSize\n",
    "        self.W1 = np.reshape(params[W1_start:W1_end], \\\n",
    "                             (self.inputLayerSize, self.hiddenLayerSize))\n",
    "        W2_end = W1_end + self.hiddenLayerSize*self.outputLayerSize\n",
    "        self.W2 = np.reshape(params[W1_end:W2_end], \\\n",
    "                             (self.hiddenLayerSize, self.outputLayerSize))\n",
    "        \n",
    "    def computeGradients(self, X, y):\n",
    "        dJdW1, dJdW2 = self.costFunctionPrime(X, y)\n",
    "        return np.concatenate((dJdW1.ravel(), dJdW2.ravel()))"
   ]
  },
  {
   "cell_type": "code",
   "execution_count": 30,
   "metadata": {},
   "outputs": [],
   "source": [
    "def computeNumericalGradient(N, X, y):\n",
    "    paramsInitial = N.getParams()\n",
    "    numgrad = np.zeros(paramsInitial.shape)\n",
    "    perturb = np.zeros(paramsInitial.shape)\n",
    "    e = 1e-4\n",
    "\n",
    "    for p in range(len(paramsInitial)):\n",
    "        #Set perturbation vector\n",
    "        perturb[p] = e\n",
    "        N.setParams(paramsInitial + perturb)\n",
    "        loss2 = N.costFunction(X, y)\n",
    "            \n",
    "        N.setParams(paramsInitial - perturb)\n",
    "        loss1 = N.costFunction(X, y)\n",
    "\n",
    "        #Compute Numerical Gradient\n",
    "        numgrad[p] = (loss2 - loss1) / (2*e)\n",
    "\n",
    "            #Return the value we changed to zero:\n",
    "        perturb[p] = 0\n",
    "            \n",
    "    #Return Params to original value:\n",
    "    N.setParams(paramsInitial)\n",
    "\n",
    "    return numgrad "
   ]
  },
  {
   "cell_type": "code",
   "execution_count": 31,
   "metadata": {},
   "outputs": [],
   "source": [
    "NN = Neural_Network(Lambda=0.0001)"
   ]
  },
  {
   "cell_type": "code",
   "execution_count": 32,
   "metadata": {},
   "outputs": [],
   "source": [
    "#Make sure our gradients our correct after making changes:\n",
    "numgrad = computeNumericalGradient(NN, X, y)\n",
    "grad = NN.computeGradients(X,y)"
   ]
  },
  {
   "cell_type": "code",
   "execution_count": 33,
   "metadata": {},
   "outputs": [
    {
     "data": {
      "text/plain": [
       "1.5164313788497781e-09"
      ]
     },
     "execution_count": 33,
     "metadata": {},
     "output_type": "execute_result"
    }
   ],
   "source": [
    "#Should be less than 1e-8:\n",
    "np.linalg.norm(grad-numgrad)/np.linalg.norm(grad+numgrad)"
   ]
  },
  {
   "cell_type": "code",
   "execution_count": 34,
   "metadata": {},
   "outputs": [],
   "source": [
    "T = trainer(NN)"
   ]
  },
  {
   "cell_type": "code",
   "execution_count": 35,
   "metadata": {},
   "outputs": [
    {
     "name": "stdout",
     "output_type": "stream",
     "text": [
      "Warning: Maximum number of iterations has been exceeded.\n",
      "         Current function value: 0.012660\n",
      "         Iterations: 100\n",
      "         Function evaluations: 104\n",
      "         Gradient evaluations: 104\n"
     ]
    }
   ],
   "source": [
    "T.train(X,y,testX,testY)"
   ]
  },
  {
   "cell_type": "code",
   "execution_count": 36,
   "metadata": {},
   "outputs": [
    {
     "data": {
      "image/png": "[encoded data removed]",
      "text/plain": [
       "<Figure size 432x288 with 1 Axes>"
      ]
     },
     "metadata": {
      "needs_background": "light"
     },
     "output_type": "display_data"
    }
   ],
   "source": [
    "plot.plot(T.J)\n",
    "plot.plot(T.testJ)\n",
    "plot.grid(1)\n",
    "plot.xlabel('Iterations')\n",
    "plot.ylabel('Cost')\n",
    "plot.legend(['Training', 'Testing'])\n",
    "plot.show()"
   ]
  },
  {
   "cell_type": "code",
   "execution_count": 37,
   "metadata": {},
   "outputs": [
    {
     "data": {
      "text/plain": [
       "[array([0.02743031]),\n",
       " array([0.02657806]),\n",
       " array([0.02654925]),\n",
       " array([0.02651742]),\n",
       " array([0.02645755]),\n",
       " array([0.02634366]),\n",
       " array([0.02612813]),\n",
       " array([0.02572876]),\n",
       " array([0.02502585]),\n",
       " array([0.02393582]),\n",
       " array([0.02283986]),\n",
       " array([0.02181651]),\n",
       " array([0.02045955]),\n",
       " array([0.01973718]),\n",
       " array([0.0194851]),\n",
       " array([0.0193866]),\n",
       " array([0.01934767]),\n",
       " array([0.01932656]),\n",
       " array([0.0192914]),\n",
       " array([0.01922898]),\n",
       " array([0.01911403]),\n",
       " array([0.01889899]),\n",
       " array([0.01849494]),\n",
       " array([0.0177466]),\n",
       " array([0.0165092]),\n",
       " array([0.01608188]),\n",
       " array([0.01568549]),\n",
       " array([0.01564709]),\n",
       " array([0.01557402]),\n",
       " array([0.01544333]),\n",
       " array([0.01526946]),\n",
       " array([0.01523506]),\n",
       " array([0.01523192]),\n",
       " array([0.01522762]),\n",
       " array([0.01521997]),\n",
       " array([0.01520592]),\n",
       " array([0.01517996]),\n",
       " array([0.01513252]),\n",
       " array([0.01504848]),\n",
       " array([0.01490922]),\n",
       " array([0.01471127]),\n",
       " array([0.01455503]),\n",
       " array([0.01435586]),\n",
       " array([0.01419588]),\n",
       " array([0.01417296]),\n",
       " array([0.01416631]),\n",
       " array([0.01416509]),\n",
       " array([0.0141547]),\n",
       " array([0.01413646]),\n",
       " array([0.01410415]),\n",
       " array([0.01404741]),\n",
       " array([0.01395105]),\n",
       " array([0.01379797]),\n",
       " array([0.01358038]),\n",
       " array([0.01334963]),\n",
       " array([0.01321967]),\n",
       " array([0.01319369]),\n",
       " array([0.01318742]),\n",
       " array([0.01318588]),\n",
       " array([0.01318545]),\n",
       " array([0.01318485]),\n",
       " array([0.01318384]),\n",
       " array([0.01318204]),\n",
       " array([0.01317879]),\n",
       " array([0.01317285]),\n",
       " array([0.01316212]),\n",
       " array([0.01314327]),\n",
       " array([0.01311197]),\n",
       " array([0.01306568]),\n",
       " array([0.01301983]),\n",
       " array([0.01297769]),\n",
       " array([0.01295578]),\n",
       " array([0.0129519]),\n",
       " array([0.01294725]),\n",
       " array([0.01294638]),\n",
       " array([0.01294573]),\n",
       " array([0.01294525]),\n",
       " array([0.0129444]),\n",
       " array([0.01294283]),\n",
       " array([0.01293996]),\n",
       " array([0.01293471]),\n",
       " array([0.01292524]),\n",
       " array([0.01290849]),\n",
       " array([0.01287992]),\n",
       " array([0.01283451]),\n",
       " array([0.01277897]),\n",
       " array([0.01274]),\n",
       " array([0.01270166]),\n",
       " array([0.01268202]),\n",
       " array([0.01267198]),\n",
       " array([0.01267001]),\n",
       " array([0.01266966]),\n",
       " array([0.01266957]),\n",
       " array([0.01266943]),\n",
       " array([0.0126692]),\n",
       " array([0.0126688]),\n",
       " array([0.01266805]),\n",
       " array([0.01266666]),\n",
       " array([0.01266411]),\n",
       " array([0.01265956])]"
      ]
     },
     "execution_count": 37,
     "metadata": {},
     "output_type": "execute_result"
    }
   ],
   "source": [
    "T.J"
   ]
  },
  {
   "cell_type": "code",
   "execution_count": 38,
   "metadata": {},
   "outputs": [
    {
     "data": {
      "text/plain": [
       "[array([0.00988197]),\n",
       " array([0.01166402]),\n",
       " array([0.01134087]),\n",
       " array([0.01116837]),\n",
       " array([0.01099664]),\n",
       " array([0.01078903]),\n",
       " array([0.01051562]),\n",
       " array([0.01015298]),\n",
       " array([0.00971861]),\n",
       " array([0.00939736]),\n",
       " array([0.00948514]),\n",
       " array([0.0095877]),\n",
       " array([0.00964451]),\n",
       " array([0.00989027]),\n",
       " array([0.01023481]),\n",
       " array([0.01047935]),\n",
       " array([0.0105384]),\n",
       " array([0.01047146]),\n",
       " array([0.01035463]),\n",
       " array([0.01022385]),\n",
       " array([0.01007572]),\n",
       " array([0.00989754]),\n",
       " array([0.0096845]),\n",
       " array([0.00947178]),\n",
       " array([0.00946377]),\n",
       " array([0.01044564]),\n",
       " array([0.00990557]),\n",
       " array([0.0096768]),\n",
       " array([0.00972872]),\n",
       " array([0.00981315]),\n",
       " array([0.01003696]),\n",
       " array([0.01019534]),\n",
       " array([0.01023201]),\n",
       " array([0.01026707]),\n",
       " array([0.01030272]),\n",
       " array([0.01034244]),\n",
       " array([0.01039067]),\n",
       " array([0.01045235]),\n",
       " array([0.0105341]),\n",
       " array([0.01065041]),\n",
       " array([0.01084694]),\n",
       " array([0.01097148]),\n",
       " array([0.01104752]),\n",
       " array([0.01083037]),\n",
       " array([0.01054653]),\n",
       " array([0.01060889]),\n",
       " array([0.01061269]),\n",
       " array([0.01061702]),\n",
       " array([0.01061408]),\n",
       " array([0.01060635]),\n",
       " array([0.01059625]),\n",
       " array([0.01059346]),\n",
       " array([0.01062534]),\n",
       " array([0.01072179]),\n",
       " array([0.0106232]),\n",
       " array([0.01043932]),\n",
       " array([0.01065566]),\n",
       " array([0.01061748]),\n",
       " array([0.0106185]),\n",
       " array([0.01062442]),\n",
       " array([0.01063315]),\n",
       " array([0.01064093]),\n",
       " array([0.01064672]),\n",
       " array([0.01064813]),\n",
       " array([0.01064166]),\n",
       " array([0.01061833]),\n",
       " array([0.01056012]),\n",
       " array([0.01043021]),\n",
       " array([0.01016445]),\n",
       " array([0.00985408]),\n",
       " array([0.00961659]),\n",
       " array([0.00944468]),\n",
       " array([0.00947561]),\n",
       " array([0.00947144]),\n",
       " array([0.00946656]),\n",
       " array([0.00945496]),\n",
       " array([0.00944546]),\n",
       " array([0.00943446]),\n",
       " array([0.00942128]),\n",
       " array([0.00940433]),\n",
       " array([0.00938129]),\n",
       " array([0.00934908]),\n",
       " array([0.00930421]),\n",
       " array([0.00924529]),\n",
       " array([0.00918566]),\n",
       " array([0.00920899]),\n",
       " array([0.00937682]),\n",
       " array([0.00954583]),\n",
       " array([0.00981287]),\n",
       " array([0.00969748]),\n",
       " array([0.00966831]),\n",
       " array([0.00965856]),\n",
       " array([0.00966093]),\n",
       " array([0.00966552]),\n",
       " array([0.00966982]),\n",
       " array([0.00967357]),\n",
       " array([0.00967707]),\n",
       " array([0.00968036]),\n",
       " array([0.00968295]),\n",
       " array([0.00968354])]"
      ]
     },
     "execution_count": 38,
     "metadata": {},
     "output_type": "execute_result"
    }
   ],
   "source": [
    "T.testJ"
   ]
  },
  {
   "cell_type": "code",
   "execution_count": 39,
   "metadata": {},
   "outputs": [
    {
     "data": {
      "text/plain": [
       "0.0056369968020431715"
      ]
     },
     "execution_count": 39,
     "metadata": {},
     "output_type": "execute_result"
    }
   ],
   "source": [
    "from sklearn.metrics import mean_absolute_error\n",
    "mean_absolute_error(T.J, T.testJ)"
   ]
  },
  {
   "cell_type": "code",
   "execution_count": 40,
   "metadata": {},
   "outputs": [],
   "source": [
    "yHat=NN.forward(X)"
   ]
  },
  {
   "cell_type": "code",
   "execution_count": 41,
   "metadata": {},
   "outputs": [
    {
     "data": {
      "text/plain": [
       "array([[0.46124677],\n",
       "       [0.40068024],\n",
       "       [0.51737334],\n",
       "       [0.53097337],\n",
       "       [0.54533996],\n",
       "       [0.51027566],\n",
       "       [0.30537815],\n",
       "       [0.33366876],\n",
       "       [0.41544986],\n",
       "       [0.31240952],\n",
       "       [0.43024825],\n",
       "       [0.37255812],\n",
       "       [0.32191799],\n",
       "       [0.40742054],\n",
       "       [0.50436052],\n",
       "       [0.31615796],\n",
       "       [0.43630779],\n",
       "       [0.4575806 ],\n",
       "       [0.48160494],\n",
       "       [0.45211264],\n",
       "       [0.63184547],\n",
       "       [0.64377949],\n",
       "       [0.61752477],\n",
       "       [0.63719582],\n",
       "       [0.56331014],\n",
       "       [0.62787449],\n",
       "       [0.59549633],\n",
       "       [0.63352369],\n",
       "       [0.75477039],\n",
       "       [0.74003375],\n",
       "       [0.69868814],\n",
       "       [0.72471809],\n",
       "       [0.76292272],\n",
       "       [0.73686846],\n",
       "       [0.7465268 ],\n",
       "       [0.76666226],\n",
       "       [0.71688508],\n",
       "       [0.76869465],\n",
       "       [0.75887006],\n",
       "       [0.82243053],\n",
       "       [0.80804404],\n",
       "       [0.78127191],\n",
       "       [0.75590622],\n",
       "       [0.75659842],\n",
       "       [0.75777328],\n",
       "       [0.6878647 ],\n",
       "       [0.56707056],\n",
       "       [0.55788048],\n",
       "       [0.58879715],\n",
       "       [0.64287481],\n",
       "       [0.62462164],\n",
       "       [0.75899875],\n",
       "       [0.74951083],\n",
       "       [0.71477408],\n",
       "       [0.71710273],\n",
       "       [0.68048187],\n",
       "       [0.69074112]])"
      ]
     },
     "execution_count": 41,
     "metadata": {},
     "output_type": "execute_result"
    }
   ],
   "source": [
    "yHat"
   ]
  },
  {
   "cell_type": "code",
   "execution_count": 42,
   "metadata": {},
   "outputs": [
    {
     "data": {
      "text/plain": [
       "array([[0.58859326],\n",
       "       [0.28650113],\n",
       "       [0.47320807],\n",
       "       [0.45271621],\n",
       "       [0.38367462],\n",
       "       [0.23399813],\n",
       "       [0.35317372],\n",
       "       [0.14062986],\n",
       "       [0.26372911],\n",
       "       [0.33746428],\n",
       "       [0.28799656],\n",
       "       [0.50986837],\n",
       "       [0.50986837],\n",
       "       [0.        ],\n",
       "       [0.47639142],\n",
       "       [0.44976976],\n",
       "       [0.46613068],\n",
       "       [0.5882231 ],\n",
       "       [0.63635825],\n",
       "       [0.57313552],\n",
       "       [0.45643258],\n",
       "       [0.76222627],\n",
       "       [0.55359126],\n",
       "       [0.71115948],\n",
       "       [0.31546218],\n",
       "       [0.60413983],\n",
       "       [0.83761975],\n",
       "       [0.7476273 ],\n",
       "       [0.84718459],\n",
       "       [0.85934053],\n",
       "       [0.78972149],\n",
       "       [0.74365922],\n",
       "       [0.68135448],\n",
       "       [0.89668192],\n",
       "       [0.73519004],\n",
       "       [0.98720739],\n",
       "       [0.50502673],\n",
       "       [1.        ],\n",
       "       [0.93787293],\n",
       "       [0.80331364],\n",
       "       [0.94438769],\n",
       "       [0.78782629],\n",
       "       [0.70467434],\n",
       "       [0.65104606],\n",
       "       [0.44790417],\n",
       "       [0.67977021],\n",
       "       [0.53034543],\n",
       "       [0.78390263],\n",
       "       [0.3349028 ],\n",
       "       [0.87703401],\n",
       "       [0.70343061],\n",
       "       [0.6764536 ],\n",
       "       [0.7996565 ],\n",
       "       [0.6539629 ],\n",
       "       [0.73176979],\n",
       "       [0.60723434],\n",
       "       [0.67      ]])"
      ]
     },
     "execution_count": 42,
     "metadata": {},
     "output_type": "execute_result"
    }
   ],
   "source": [
    "y"
   ]
  },
  {
   "cell_type": "code",
   "execution_count": 43,
   "metadata": {},
   "outputs": [
    {
     "data": {
      "text/plain": [
       "0.022372092396691984"
      ]
     },
     "execution_count": 43,
     "metadata": {},
     "output_type": "execute_result"
    }
   ],
   "source": [
    "from sklearn.metrics import mean_squared_error \n",
    "mean_squared_error(y,yHat) "
   ]
  },
  {
   "cell_type": "code",
   "execution_count": 44,
   "metadata": {},
   "outputs": [
    {
     "data": {
      "image/png": "[encoded data removed]",
      "text/plain": [
       "<Figure size 432x288 with 1 Axes>"
      ]
     },
     "metadata": {
      "needs_background": "light"
     },
     "output_type": "display_data"
    }
   ],
   "source": [
    "#Plot cost during training:\n",
    "plot.plot(y)\n",
    "plot.plot(yHat)\n",
    "plot.grid(1)\n",
    "plot.legend(['y', 'yHat'])\n",
    "plot.show()"
   ]
  },
  {
   "cell_type": "code",
   "execution_count": 45,
   "metadata": {},
   "outputs": [],
   "source": [
    "prediksi=NN.forward(dataprediksi)"
   ]
  },
  {
   "cell_type": "code",
   "execution_count": 46,
   "metadata": {},
   "outputs": [
    {
     "data": {
      "text/plain": [
       "array([[0.70428114],\n",
       "       [0.71002681],\n",
       "       [0.68224422],\n",
       "       [0.50384451]])"
      ]
     },
     "execution_count": 46,
     "metadata": {},
     "output_type": "execute_result"
    }
   ],
   "source": [
    "prediksi"
   ]
  },
  {
   "cell_type": "code",
   "execution_count": 47,
   "metadata": {},
   "outputs": [],
   "source": [
    "from sklearn.metrics import mean_squared_error "
   ]
  },
  {
   "cell_type": "code",
   "execution_count": 48,
   "metadata": {},
   "outputs": [
    {
     "data": {
      "text/plain": [
       "0.1050171777148701"
      ]
     },
     "execution_count": 48,
     "metadata": {},
     "output_type": "execute_result"
    }
   ],
   "source": [
    "Y_true= ([\t0.67\t]\t,\n",
    "[\t0.389745184\t]\t,\n",
    "[\t0.136735812\t]\t,\n",
    "[\t0.366973156\t]\t,\n",
    "\n",
    ")\n",
    "\n",
    "\n",
    "Y_pred=prediksi\n",
    "mean_squared_error(Y_true,Y_pred) "
   ]
  },
  {
   "cell_type": "code",
   "execution_count": 49,
   "metadata": {},
   "outputs": [
    {
     "data": {
      "text/plain": [
       "array([[0.38732394, 0.79538041, 0.7996565 , 0.6539629 , 0.73176979,\n",
       "        0.60723434, 0.67      ],\n",
       "       [0.37323944, 1.        , 0.6539629 , 0.73176979, 0.60723434,\n",
       "        0.67      , 0.67      ],\n",
       "       [0.36619718, 0.70768171, 0.73176979, 0.60723434, 0.67      ,\n",
       "        0.67      , 0.38974518],\n",
       "       [0.44366197, 0.49169532, 0.60723434, 0.67      , 0.67      ,\n",
       "        0.38974518, 0.13673581]])"
      ]
     },
     "execution_count": 49,
     "metadata": {},
     "output_type": "execute_result"
    }
   ],
   "source": [
    "dataprediksi"
   ]
  },
  {
   "cell_type": "code",
   "execution_count": 50,
   "metadata": {},
   "outputs": [],
   "source": [
    "z=np.array([0.6294\t,\t0.4578])"
   ]
  },
  {
   "cell_type": "code",
   "execution_count": 51,
   "metadata": {},
   "outputs": [],
   "source": [
    "y=np.array([0.67\t,\t0.67\t,\t0.389745184\t,\t0.136735812\t,\t0.366973156\t])"
   ]
  },
  {
   "cell_type": "code",
   "execution_count": 52,
   "metadata": {},
   "outputs": [],
   "source": [
    "a=np.concatenate((z,y))"
   ]
  },
  {
   "cell_type": "code",
   "execution_count": 53,
   "metadata": {},
   "outputs": [
    {
     "data": {
      "text/plain": [
       "array([0.3232495])"
      ]
     },
     "execution_count": 53,
     "metadata": {},
     "output_type": "execute_result"
    }
   ],
   "source": [
    "#prediksi 1\n",
    "prediksi=NN.forward(a)\n",
    "prediksi"
   ]
  },
  {
   "cell_type": "code",
   "execution_count": 54,
   "metadata": {},
   "outputs": [
    {
     "data": {
      "text/plain": [
       "array([0.34350887])"
      ]
     },
     "execution_count": 54,
     "metadata": {},
     "output_type": "execute_result"
    }
   ],
   "source": [
    "#prediksi 2\n",
    "c=prediksi\n",
    "z1=np.array([0.6795\t,\t0.4539])\n",
    "b=y[1:]\n",
    "d=np.concatenate((z1,b,c))\n",
    "prediksi=NN.forward(d)\n",
    "prediksi"
   ]
  },
  {
   "cell_type": "code",
   "execution_count": 55,
   "metadata": {},
   "outputs": [
    {
     "data": {
      "text/plain": [
       "array([0.36902039])"
      ]
     },
     "execution_count": 55,
     "metadata": {},
     "output_type": "execute_result"
    }
   ],
   "source": [
    "#prediksi 3\n",
    "c=prediksi\n",
    "z2=np.array([0.5888\t,\t0.4545])\n",
    "b=y[1:]\n",
    "d=np.concatenate((z2,b,c))\n",
    "prediksi=NN.forward(d)\n",
    "prediksi"
   ]
  },
  {
   "cell_type": "code",
   "execution_count": 56,
   "metadata": {},
   "outputs": [
    {
     "data": {
      "text/plain": [
       "array([0.38869535])"
      ]
     },
     "execution_count": 56,
     "metadata": {},
     "output_type": "execute_result"
    }
   ],
   "source": [
    "#prediksi 4\n",
    "c=prediksi\n",
    "z3=np.array([0.527\t,\t0.4555])\n",
    "b=y[1:]\n",
    "d=np.concatenate((z3,b,c))\n",
    "prediksi=NN.forward(d)\n",
    "prediksi"
   ]
  },
  {
   "cell_type": "code",
   "execution_count": 57,
   "metadata": {},
   "outputs": [
    {
     "data": {
      "text/plain": [
       "array([0.40523159])"
      ]
     },
     "execution_count": 57,
     "metadata": {},
     "output_type": "execute_result"
    }
   ],
   "source": [
    "#prediksi 5\n",
    "c=prediksi\n",
    "z4=np.array([0.4745\t,\t0.4564])\n",
    "b=y[1:]\n",
    "d=np.concatenate((z4,b,c))\n",
    "prediksi=NN.forward(d)\n",
    "prediksi"
   ]
  },
  {
   "cell_type": "code",
   "execution_count": 58,
   "metadata": {},
   "outputs": [
    {
     "data": {
      "text/plain": [
       "array([0.41122887])"
      ]
     },
     "execution_count": 58,
     "metadata": {},
     "output_type": "execute_result"
    }
   ],
   "source": [
    "#prediksi 6\n",
    "c=prediksi\n",
    "z5=np.array([0.4621\t,\t0.4571])\n",
    "b=y[1:]\n",
    "d=np.concatenate((z5,b,c))\n",
    "prediksi=NN.forward(d)\n",
    "prediksi"
   ]
  }
 ],
 "metadata": {
  "kernelspec": {
   "display_name": "Python 3",
   "language": "python",
   "name": "python3"
  },
  "language_info": {
   "codemirror_mode": {
    "name": "ipython",
    "version": 3
   },
   "file_extension": ".py",
   "mimetype": "text/x-python",
   "name": "python",
   "nbconvert_exporter": "python",
   "pygments_lexer": "ipython3",
   "version": "3.7.3"
  }
 },
 "nbformat": 4,
 "nbformat_minor": 2
}
