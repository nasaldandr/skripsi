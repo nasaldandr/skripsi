{
 "cells": [
  {
   "cell_type": "code",
   "execution_count": 1,
   "metadata": {},
   "outputs": [],
   "source": [
    "import numpy as np"
   ]
  },
  {
   "cell_type": "code",
   "execution_count": 2,
   "metadata": {},
   "outputs": [],
   "source": [
    "#UNTUK NILAI IMPOR\n",
    "class Neural_Network(object):\n",
    "    def __init__(self):\n",
    "        #parameters\n",
    "        self.inputLayerSize = 7\n",
    "        self.outputLayerSize = 1\n",
    "        self.hiddenLayerSize = 4\n",
    "\n",
    "        #weights\n",
    "        self.W1 = np.random.randn(self.inputLayerSize,\\\n",
    "                                 self.hiddenLayerSize)  \n",
    "        self.W2 = np.random.randn(self.hiddenLayerSize,\\\n",
    "                                 self.outputLayerSize)  \n",
    "    \n",
    "    def printw(self):\n",
    "        return self.W1\n",
    "        \n",
    "    def weight(self, W1, W2):\n",
    "        #Make an internal variable for the weight:\n",
    "        self.W1 = W1\n",
    "        self.W2 = W2\n",
    "        \n",
    "    def forward(self, X):\n",
    "        #forward propagation through our network\n",
    "        self.z2 = np.dot(X,self.W1)  \n",
    "        self.a2 = self.tanh(self.z2)  # activation function\n",
    "        self.z3 = np.dot(self.a2, self.W2) \n",
    "        yHat = self.tanh(self.z3)  # final activation function\n",
    "        return yHat\n",
    "\n",
    "    def tanh(self, z):\n",
    "        # activation function\n",
    "        return (np.exp(z)-np.exp(-z))/(np.exp(z)+np.exp(-z))\n",
    "    \n",
    "    def tanhPrime(self,z): \n",
    "        #derivative of tanh\n",
    "        return 1-((np.exp(z)-np.exp(-z))/(np.exp(z)+np.exp(-z)))**2\n",
    "    \n",
    "    def costFunction(self,X,y):\n",
    "        self.yHat = self.forward(X)\n",
    "        J=0.5*sum((y-self.yHat)**2)\n",
    "        return J\n",
    "    \n",
    "    def costFunctionPrime(self,X,y):\n",
    "        self.yHat=self.forward(X)\n",
    "        \n",
    "        delta3=np.multiply(-(y-self.yHat),self.tanhPrime(self.z3))\n",
    "        dJdW2=np.dot(self.a2.T,delta3)\n",
    "        \n",
    "        delta2=np.dot(delta3,self.W2.T)*self.tanhPrime(self.z2)\n",
    "        dJdW1=np.dot(X.T,delta2)\n",
    "        return dJdW1,dJdW2\n",
    "    \n",
    "    def predict(self):\n",
    "        prediksi = self.forward(dataprediksi)\n",
    "        return prediksi\n",
    "    \n",
    "    def getParams(self):\n",
    "        params=np.concatenate((self.W1.ravel(),self.W2.ravel()))\n",
    "        return params\n",
    "    \n",
    "    def setParams(self,params):\n",
    "        W1_start=0\n",
    "        W1_end=self.hiddenLayerSize*self.inputLayerSize\n",
    "        self.W1=np.reshape(params[W1_start:W1_end],\\\n",
    "                          (self.inputLayerSize,self.hiddenLayerSize))\n",
    "        W2_end=W1_end+self.hiddenLayerSize*self.outputLayerSize\n",
    "        self.W2=np.reshape(params[W1_end:W2_end],\\\n",
    "                          (self.hiddenLayerSize,self.outputLayerSize))\n",
    "        \n",
    "    def computeGradients(self, X, y):\n",
    "        dJdW1, dJdW2 = self.costFunctionPrime(X, y)\n",
    "        return np.concatenate((dJdW1.ravel(), dJdW2.ravel()))"
   ]
  },
  {
   "cell_type": "code",
   "execution_count": 3,
   "metadata": {},
   "outputs": [],
   "source": [
    "NN = Neural_Network()"
   ]
  },
  {
   "cell_type": "code",
   "execution_count": 4,
   "metadata": {},
   "outputs": [
    {
     "data": {
      "text/plain": [
       "array([[-0.40211095, -0.58188099, -1.65665675, -0.9507624 ],\n",
       "       [-0.52714111,  1.67392308,  0.59604704, -0.12517918],\n",
       "       [-0.56858202,  0.16334271, -2.19675229,  1.36620693],\n",
       "       [-0.45944117,  0.31169638,  0.48463184,  0.45872001],\n",
       "       [ 0.08711402,  1.10754173, -0.98896909,  1.16139754],\n",
       "       [ 0.29847977, -2.19294801, -0.24316484, -0.35715752],\n",
       "       [-0.04250008, -1.23961864, -0.65198053, -0.99571182]])"
      ]
     },
     "execution_count": 4,
     "metadata": {},
     "output_type": "execute_result"
    }
   ],
   "source": [
    "NN.W1"
   ]
  },
  {
   "cell_type": "code",
   "execution_count": 5,
   "metadata": {},
   "outputs": [
    {
     "data": {
      "text/plain": [
       "array([[-0.9923676 ],\n",
       "       [-0.41960276],\n",
       "       [-1.150553  ],\n",
       "       [ 0.53228596]])"
      ]
     },
     "execution_count": 5,
     "metadata": {},
     "output_type": "execute_result"
    }
   ],
   "source": [
    "NN.W2"
   ]
  },
  {
   "cell_type": "code",
   "execution_count": 6,
   "metadata": {},
   "outputs": [],
   "source": [
    "#NILAI IMPOR\n",
    "X=np.array(([\t0.697183099\t,\t0.223256598\t,\t0.566339448\t,\t0.263729105\t,\t0.334917603\t,\t0.529012867\t,\t0.467788981\t]\t,\n",
    "[\t0.971830986\t,\t0.241974687\t,\t0.263729105\t,\t0.334917603\t,\t0.529012867\t,\t0.467788981\t,\t0.588593257\t]\t,\n",
    "[\t0.591549296\t,\t0.365733465\t,\t0.334917603\t,\t0.529012867\t,\t0.467788981\t,\t0.588593257\t,\t0.286501133\t]\t,\n",
    "[\t0.281690141\t,\t0.552558994\t,\t0.529012867\t,\t0.467788981\t,\t0.588593257\t,\t0.286501133\t,\t0.473208072\t]\t,\n",
    "[\t0.26056338\t,\t0.370023519\t,\t0.467788981\t,\t0.588593257\t,\t0.286501133\t,\t0.473208072\t,\t0.452716208\t]\t,\n",
    "[\t0.464788732\t,\t0.332531703\t,\t0.588593257\t,\t0.286501133\t,\t0.473208072\t,\t0.452716208\t,\t0.383674618\t]\t,\n",
    "[\t0.992957746\t,\t0.387887522\t,\t0.286501133\t,\t0.473208072\t,\t0.452716208\t,\t0.383674618\t,\t0.233998134\t]\t,\n",
    "[\t0.676056338\t,\t0.398363943\t,\t0.473208072\t,\t0.452716208\t,\t0.383674618\t,\t0.233998134\t,\t0.353173722\t]\t,\n",
    "[\t0.253521127\t,\t0.284826299\t,\t0.452716208\t,\t0.383674618\t,\t0.233998134\t,\t0.353173722\t,\t0.140629858\t]\t,\n",
    "[\t0.450704225\t,\t0.186735022\t,\t0.383674618\t,\t0.233998134\t,\t0.353173722\t,\t0.140629858\t,\t0.263729105\t]\t,\n",
    "[\t0\t,\t0.182694768\t,\t0.233998134\t,\t0.353173722\t,\t0.140629858\t,\t0.263729105\t,\t0.33746428\t]\t,\n",
    "[\t0.485915493\t,\t0.255617002\t,\t0.353173722\t,\t0.140629858\t,\t0.263729105\t,\t0.33746428\t,\t0.287996565\t]\t,\n",
    "[\t0.781690141\t,\t0.23597043\t,\t0.140629858\t,\t0.263729105\t,\t0.33746428\t,\t0.287996565\t,\t0.509868372\t]\t,\n",
    "[\t0.802816901\t,\t0.164134134\t,\t0.263729105\t,\t0.33746428\t,\t0.287996565\t,\t0.509868372\t,\t0.509868372\t]\t,\n",
    "[\t0.302816901\t,\t0.178176635\t,\t0.33746428\t,\t0.287996565\t,\t0.509868372\t,\t0.509868372\t,\t0\t]\t,\n",
    "[\t0.471830986\t,\t0.163956101\t,\t0.287996565\t,\t0.509868372\t,\t0.509868372\t,\t0\t,\t0.476391418\t]\t,\n",
    "[\t0.415492958\t,\t0.133241484\t,\t0.509868372\t,\t0.509868372\t,\t0\t,\t0.476391418\t,\t0.449769763\t]\t,\n",
    "[\t0.647887324\t,\t0.226399017\t,\t0.509868372\t,\t0\t,\t0.476391418\t,\t0.449769763\t,\t0.46613068\t]\t,\n",
    "[\t0.612676056\t,\t0.255013861\t,\t0\t,\t0.476391418\t,\t0.449769763\t,\t0.46613068\t,\t0.588223101\t]\t,\n",
    "[\t1\t,\t0.23708614\t,\t0.476391418\t,\t0.449769763\t,\t0.46613068\t,\t0.588223101\t,\t0.636358252\t]\t,\n",
    "[\t0.478873239\t,\t0.231651119\t,\t0.449769763\t,\t0.46613068\t,\t0.588223101\t,\t0.636358252\t,\t0.573135522\t]\t,\n",
    "[\t0.302816901\t,\t0.233067608\t,\t0.46613068\t,\t0.588223101\t,\t0.636358252\t,\t0.573135522\t,\t0.45643258\t]\t,\n",
    "[\t0.38028169\t,\t0.221173719\t,\t0.588223101\t,\t0.636358252\t,\t0.573135522\t,\t0.45643258\t,\t0.762226269\t]\t,\n",
    "[\t0.591549296\t,\t0.22633168\t,\t0.636358252\t,\t0.573135522\t,\t0.45643258\t,\t0.762226269\t,\t0.553591258\t]\t,\n",
    "[\t0.802816901\t,\t0.218698642\t,\t0.573135522\t,\t0.45643258\t,\t0.762226269\t,\t0.553591258\t,\t0.711159478\t]\t,\n",
    "[\t0.471830986\t,\t0.232032203\t,\t0.45643258\t,\t0.762226269\t,\t0.553591258\t,\t0.711159478\t,\t0.315462177\t]\t,\n",
    "[\t0.267605634\t,\t0.231947948\t,\t0.762226269\t,\t0.553591258\t,\t0.711159478\t,\t0.315462177\t,\t0.60413983\t]\t,\n",
    "[\t0.408450704\t,\t0.221547817\t,\t0.553591258\t,\t0.711159478\t,\t0.315462177\t,\t0.60413983\t,\t0.837619746\t]\t,\n",
    "[\t0.323943662\t,\t0.287958581\t,\t0.711159478\t,\t0.315462177\t,\t0.60413983\t,\t0.837619746\t,\t0.747627297\t]\t,\n",
    "[\t0.457746479\t,\t0.28837327\t,\t0.315462177\t,\t0.60413983\t,\t0.837619746\t,\t0.747627297\t,\t0.84718459\t]\t,\n",
    "[\t0.816901408\t,\t0.297145757\t,\t0.60413983\t,\t0.837619746\t,\t0.747627297\t,\t0.84718459\t,\t0.859340529\t]\t,\n",
    "[\t0.753521127\t,\t0.243669818\t,\t0.837619746\t,\t0.747627297\t,\t0.84718459\t,\t0.859340529\t,\t0.789721494\t]\t,\n",
    "[\t0.436619718\t,\t0.307437314\t,\t0.747627297\t,\t0.84718459\t,\t0.859340529\t,\t0.789721494\t,\t0.743659219\t]\t,\n",
    "[\t0.457746479\t,\t0.358597855\t,\t0.84718459\t,\t0.859340529\t,\t0.789721494\t,\t0.743659219\t,\t0.681354477\t]\t,\n",
    "[\t0.387323944\t,\t0.372181217\t,\t0.859340529\t,\t0.789721494\t,\t0.743659219\t,\t0.681354477\t,\t0.896681917\t]\t,\n",
    "[\t0.464788732\t,\t0.450259481\t,\t0.789721494\t,\t0.743659219\t,\t0.681354477\t,\t0.896681917\t,\t0.735190038\t]\t,\n",
    "[\t0.732394366\t,\t0.443095634\t,\t0.743659219\t,\t0.681354477\t,\t0.896681917\t,\t0.735190038\t,\t0.987207391\t]\t,\n",
    "[\t0.514084507\t,\t0.558155976\t,\t0.681354477\t,\t0.896681917\t,\t0.735190038\t,\t0.987207391\t,\t0.505026725\t]\t,\n",
    "[\t0.281690141\t,\t0.602359827\t,\t0.896681917\t,\t0.735190038\t,\t0.987207391\t,\t0.505026725\t,\t1\t]\t,\n",
    "[\t0.190140845\t,\t0.696291723\t,\t0.735190038\t,\t0.987207391\t,\t0.505026725\t,\t1\t,\t0.937872933\t]\t,\n",
    "[\t0.514084507\t,\t0.790604671\t,\t0.987207391\t,\t0.505026725\t,\t1\t,\t0.937872933\t,\t0.803313641\t]\t,\n",
    "[\t0.507042254\t,\t0.644022227\t,\t0.505026725\t,\t1\t,\t0.937872933\t,\t0.803313641\t,\t0.944387687\t]\t,\n",
    "[\t0.753521127\t,\t0.583228643\t,\t1\t,\t0.937872933\t,\t0.803313641\t,\t0.944387687\t,\t0.787826293\t]\t,\n",
    "[\t0.542253521\t,\t0.481715009\t,\t0.937872933\t,\t0.803313641\t,\t0.944387687\t,\t0.787826293\t,\t0.704674336\t]\t,\n",
    "[\t0.26056338\t,\t0.442812107\t,\t0.803313641\t,\t0.944387687\t,\t0.787826293\t,\t0.704674336\t,\t0.651046062\t]\t,\n",
    "[\t0.394366197\t,\t0.496270585\t,\t0.944387687\t,\t0.787826293\t,\t0.704674336\t,\t0.651046062\t,\t0.447904174\t]\t,\n",
    "[\t0.626760563\t,\t0.475463393\t,\t0.787826293\t,\t0.704674336\t,\t0.651046062\t,\t0.447904174\t,\t0.679770207\t]\t,\n",
    "[\t0.795774648\t,\t0.551559791\t,\t0.704674336\t,\t0.651046062\t,\t0.447904174\t,\t0.679770207\t,\t0.53034543\t]\t,\n",
    "[\t0.704225352\t,\t0.500994351\t,\t0.651046062\t,\t0.447904174\t,\t0.679770207\t,\t0.53034543\t,\t0.783902634\t]\t,\n",
    "[\t0.535211268\t,\t0.445458587\t,\t0.447904174\t,\t0.679770207\t,\t0.53034543\t,\t0.783902634\t,\t0.334902797\t]\t,\n",
    "[\t0.401408451\t,\t0.505711667\t,\t0.679770207\t,\t0.53034543\t,\t0.783902634\t,\t0.334902797\t,\t0.87703401\t]\t,\n",
    "[\t0.126760563\t,\t0.465889036\t,\t0.53034543\t,\t0.783902634\t,\t0.334902797\t,\t0.87703401\t,\t0.70343061\t]\t,\n",
    "[\t0.330985915\t,\t0.46785659\t,\t0.783902634\t,\t0.334902797\t,\t0.87703401\t,\t0.70343061\t,\t0.676453605\t]\t,\n",
    "[\t0.415492958\t,\t0.453001423\t,\t0.334902797\t,\t0.87703401\t,\t0.70343061\t,\t0.676453605\t,\t0.799656495\t]\t,\n",
    "[\t0.556338028\t,\t0.437411724\t,\t0.87703401\t,\t0.70343061\t,\t0.676453605\t,\t0.799656495\t,\t0.653962896\t]\t,\n",
    "[\t0.591549296\t,\t0.350673696\t,\t0.70343061\t,\t0.676453605\t,\t0.799656495\t,\t0.653962896\t,\t0.731769792\t]\t,\n",
    "[\t0.514084507\t,\t0.364031312\t,\t0.676453605\t,\t0.799656495\t,\t0.653962896\t,\t0.731769792\t,\t0.607234339\t]\t,\n",
    "\n",
    "\n",
    ")           \n",
    ",dtype=float)\n",
    "y=np.array(([\t0.588593257\t]\t,\n",
    "[\t0.286501133\t]\t,\n",
    "[\t0.473208072\t]\t,\n",
    "[\t0.452716208\t]\t,\n",
    "[\t0.383674618\t]\t,\n",
    "[\t0.233998134\t]\t,\n",
    "[\t0.353173722\t]\t,\n",
    "[\t0.140629858\t]\t,\n",
    "[\t0.263729105\t]\t,\n",
    "[\t0.33746428\t]\t,\n",
    "[\t0.287996565\t]\t,\n",
    "[\t0.509868372\t]\t,\n",
    "[\t0.509868372\t]\t,\n",
    "[\t0\t]\t,\n",
    "[\t0.476391418\t]\t,\n",
    "[\t0.449769763\t]\t,\n",
    "[\t0.46613068\t]\t,\n",
    "[\t0.588223101\t]\t,\n",
    "[\t0.636358252\t]\t,\n",
    "[\t0.573135522\t]\t,\n",
    "[\t0.45643258\t]\t,\n",
    "[\t0.762226269\t]\t,\n",
    "[\t0.553591258\t]\t,\n",
    "[\t0.711159478\t]\t,\n",
    "[\t0.315462177\t]\t,\n",
    "[\t0.60413983\t]\t,\n",
    "[\t0.837619746\t]\t,\n",
    "[\t0.747627297\t]\t,\n",
    "[\t0.84718459\t]\t,\n",
    "[\t0.859340529\t]\t,\n",
    "[\t0.789721494\t]\t,\n",
    "[\t0.743659219\t]\t,\n",
    "[\t0.681354477\t]\t,\n",
    "[\t0.896681917\t]\t,\n",
    "[\t0.735190038\t]\t,\n",
    "[\t0.987207391\t]\t,\n",
    "[\t0.505026725\t]\t,\n",
    "[\t1\t]\t,\n",
    "[\t0.937872933\t]\t,\n",
    "[\t0.803313641\t]\t,\n",
    "[\t0.944387687\t]\t,\n",
    "[\t0.787826293\t]\t,\n",
    "[\t0.704674336\t]\t,\n",
    "[\t0.651046062\t]\t,\n",
    "[\t0.447904174\t]\t,\n",
    "[\t0.679770207\t]\t,\n",
    "[\t0.53034543\t]\t,\n",
    "[\t0.783902634\t]\t,\n",
    "[\t0.334902797\t]\t,\n",
    "[\t0.87703401\t]\t,\n",
    "[\t0.70343061\t]\t,\n",
    "[\t0.676453605\t]\t,\n",
    "[\t0.799656495\t]\t,\n",
    "[\t0.653962896\t]\t,\n",
    "[\t0.731769792\t]\t,\n",
    "[\t0.607234339\t]\t,\n",
    "[\t0.67\t]\t,\n",
    "\n",
    ")\n",
    ",dtype=float)\n",
    "\n",
    "dataprediksi = np.array(([\t0.387323944\t,\t0.795380412\t,\t0.799656495\t,\t0.653962896\t,\t0.731769792\t,\t0.607234339\t,\t0.67\t]\t,\n",
    "[\t0.373239437\t,\t1\t,\t0.653962896\t,\t0.731769792\t,\t0.607234339\t,\t0.67\t,\t0.67\t]\t,\n",
    "[\t0.366197183\t,\t0.707681705\t,\t0.731769792\t,\t0.607234339\t,\t0.67\t,\t0.67\t,\t0.389745184\t]\t,\n",
    "[\t0.443661972\t,\t0.491695324\t,\t0.607234339\t,\t0.67\t,\t0.67\t,\t0.389745184\t,\t0.136735812\t]\t,\n",
    "\n",
    "), dtype=float)\n"
   ]
  },
  {
   "cell_type": "code",
   "execution_count": 7,
   "metadata": {},
   "outputs": [],
   "source": [
    "import matplotlib.pyplot as plot"
   ]
  },
  {
   "cell_type": "code",
   "execution_count": 8,
   "metadata": {},
   "outputs": [],
   "source": [
    "from scipy import optimize"
   ]
  },
  {
   "cell_type": "code",
   "execution_count": 9,
   "metadata": {},
   "outputs": [],
   "source": [
    "class trainer(object):\n",
    "    def __init__(self, N):\n",
    "        #Make Local reference to network:\n",
    "        self.N = N\n",
    "        \n",
    "    def callbackF(self, params):\n",
    "        self.N.setParams(params)\n",
    "        self.J.append(self.N.costFunction(self.X, self.y))   \n",
    "        \n",
    "    def costFunctionWrapper(self, params, X, y):\n",
    "        self.N.setParams(params)\n",
    "        cost = self.N.costFunction(X, y)\n",
    "        grad = self.N.computeGradients(X,y)\n",
    "        \n",
    "        return cost, grad\n",
    "        \n",
    "    def train(self, X, y):\n",
    "        #Make an internal variable for the callback function:\n",
    "        self.X = X\n",
    "        self.y = y\n",
    "\n",
    "        #Make empty list to store costs:\n",
    "        self.J = []\n",
    "        \n",
    "        params0 = self.N.getParams()\n",
    "\n",
    "        options = {'maxiter': 100, 'disp' : True}\n",
    "        _res = optimize.minimize(self.costFunctionWrapper, params0, jac=True, method='BFGS', \\\n",
    "                                 args=(X, y), options=options, callback=self.callbackF)\n",
    "\n",
    "        self.N.setParams(_res.x)\n",
    "        self.optimizationResults = _res"
   ]
  },
  {
   "cell_type": "code",
   "execution_count": 10,
   "metadata": {},
   "outputs": [],
   "source": [
    "NN=Neural_Network()"
   ]
  },
  {
   "cell_type": "code",
   "execution_count": 11,
   "metadata": {},
   "outputs": [],
   "source": [
    "T = trainer(NN)"
   ]
  },
  {
   "cell_type": "code",
   "execution_count": 12,
   "metadata": {},
   "outputs": [
    {
     "name": "stdout",
     "output_type": "stream",
     "text": [
      "Warning: Maximum number of iterations has been exceeded.\n",
      "         Current function value: 0.259442\n",
      "         Iterations: 100\n",
      "         Function evaluations: 110\n",
      "         Gradient evaluations: 110\n"
     ]
    }
   ],
   "source": [
    "#Train network with new data:\n",
    "T = trainer(NN)\n",
    "T.train(X,y)"
   ]
  },
  {
   "cell_type": "code",
   "execution_count": 13,
   "metadata": {},
   "outputs": [
    {
     "data": {
      "image/png": "[encoded data removed]",
      "text/plain": [
       "<Figure size 432x288 with 1 Axes>"
      ]
     },
     "metadata": {
      "needs_background": "light"
     },
     "output_type": "display_data"
    }
   ],
   "source": [
    "#Plot cost during training:\n",
    "plot.plot(T.J)\n",
    "plot.grid(1)\n",
    "plot.xlabel('Iterations')\n",
    "plot.ylabel('Cost')\n",
    "plot.show()"
   ]
  },
  {
   "cell_type": "code",
   "execution_count": 14,
   "metadata": {},
   "outputs": [],
   "source": [
    "#Training Data:\n",
    "trainX = np.array(([\t0.697183099\t,\t0.223256598\t,\t0.566339448\t,\t0.263729105\t,\t0.334917603\t,\t0.529012867\t,\t0.467788981\t]\t,\n",
    "[\t0.971830986\t,\t0.241974687\t,\t0.263729105\t,\t0.334917603\t,\t0.529012867\t,\t0.467788981\t,\t0.588593257\t]\t,\n",
    "[\t0.591549296\t,\t0.365733465\t,\t0.334917603\t,\t0.529012867\t,\t0.467788981\t,\t0.588593257\t,\t0.286501133\t]\t,\n",
    "[\t0.281690141\t,\t0.552558994\t,\t0.529012867\t,\t0.467788981\t,\t0.588593257\t,\t0.286501133\t,\t0.473208072\t]\t,\n",
    "[\t0.26056338\t,\t0.370023519\t,\t0.467788981\t,\t0.588593257\t,\t0.286501133\t,\t0.473208072\t,\t0.452716208\t]\t,\n",
    "[\t0.464788732\t,\t0.332531703\t,\t0.588593257\t,\t0.286501133\t,\t0.473208072\t,\t0.452716208\t,\t0.383674618\t]\t,\n",
    "[\t0.992957746\t,\t0.387887522\t,\t0.286501133\t,\t0.473208072\t,\t0.452716208\t,\t0.383674618\t,\t0.233998134\t]\t,\n",
    "[\t0.676056338\t,\t0.398363943\t,\t0.473208072\t,\t0.452716208\t,\t0.383674618\t,\t0.233998134\t,\t0.353173722\t]\t,\n",
    "[\t0.253521127\t,\t0.284826299\t,\t0.452716208\t,\t0.383674618\t,\t0.233998134\t,\t0.353173722\t,\t0.140629858\t]\t,\n",
    "[\t0.450704225\t,\t0.186735022\t,\t0.383674618\t,\t0.233998134\t,\t0.353173722\t,\t0.140629858\t,\t0.263729105\t]\t,\n",
    "[\t0\t,\t0.182694768\t,\t0.233998134\t,\t0.353173722\t,\t0.140629858\t,\t0.263729105\t,\t0.33746428\t]\t,\n",
    "[\t0.485915493\t,\t0.255617002\t,\t0.353173722\t,\t0.140629858\t,\t0.263729105\t,\t0.33746428\t,\t0.287996565\t]\t,\n",
    "[\t0.781690141\t,\t0.23597043\t,\t0.140629858\t,\t0.263729105\t,\t0.33746428\t,\t0.287996565\t,\t0.509868372\t]\t,\n",
    "[\t0.802816901\t,\t0.164134134\t,\t0.263729105\t,\t0.33746428\t,\t0.287996565\t,\t0.509868372\t,\t0.509868372\t]\t,\n",
    "[\t0.302816901\t,\t0.178176635\t,\t0.33746428\t,\t0.287996565\t,\t0.509868372\t,\t0.509868372\t,\t0\t]\t,\n",
    "[\t0.471830986\t,\t0.163956101\t,\t0.287996565\t,\t0.509868372\t,\t0.509868372\t,\t0\t,\t0.476391418\t]\t,\n",
    "[\t0.415492958\t,\t0.133241484\t,\t0.509868372\t,\t0.509868372\t,\t0\t,\t0.476391418\t,\t0.449769763\t]\t,\n",
    "[\t0.647887324\t,\t0.226399017\t,\t0.509868372\t,\t0\t,\t0.476391418\t,\t0.449769763\t,\t0.46613068\t]\t,\n",
    "[\t0.612676056\t,\t0.255013861\t,\t0\t,\t0.476391418\t,\t0.449769763\t,\t0.46613068\t,\t0.588223101\t]\t,\n",
    "[\t1\t,\t0.23708614\t,\t0.476391418\t,\t0.449769763\t,\t0.46613068\t,\t0.588223101\t,\t0.636358252\t]\t,\n",
    "[\t0.478873239\t,\t0.231651119\t,\t0.449769763\t,\t0.46613068\t,\t0.588223101\t,\t0.636358252\t,\t0.573135522\t]\t,\n",
    "[\t0.302816901\t,\t0.233067608\t,\t0.46613068\t,\t0.588223101\t,\t0.636358252\t,\t0.573135522\t,\t0.45643258\t]\t,\n",
    "[\t0.38028169\t,\t0.221173719\t,\t0.588223101\t,\t0.636358252\t,\t0.573135522\t,\t0.45643258\t,\t0.762226269\t]\t,\n",
    "[\t0.591549296\t,\t0.22633168\t,\t0.636358252\t,\t0.573135522\t,\t0.45643258\t,\t0.762226269\t,\t0.553591258\t]\t,\n",
    "[\t0.802816901\t,\t0.218698642\t,\t0.573135522\t,\t0.45643258\t,\t0.762226269\t,\t0.553591258\t,\t0.711159478\t]\t,\n",
    "[\t0.471830986\t,\t0.232032203\t,\t0.45643258\t,\t0.762226269\t,\t0.553591258\t,\t0.711159478\t,\t0.315462177\t]\t,\n",
    "[\t0.267605634\t,\t0.231947948\t,\t0.762226269\t,\t0.553591258\t,\t0.711159478\t,\t0.315462177\t,\t0.60413983\t]\t,\n",
    "[\t0.408450704\t,\t0.221547817\t,\t0.553591258\t,\t0.711159478\t,\t0.315462177\t,\t0.60413983\t,\t0.837619746\t]\t,\n",
    "[\t0.323943662\t,\t0.287958581\t,\t0.711159478\t,\t0.315462177\t,\t0.60413983\t,\t0.837619746\t,\t0.747627297\t]\t,\n",
    "[\t0.457746479\t,\t0.28837327\t,\t0.315462177\t,\t0.60413983\t,\t0.837619746\t,\t0.747627297\t,\t0.84718459\t]\t,\n",
    "[\t0.816901408\t,\t0.297145757\t,\t0.60413983\t,\t0.837619746\t,\t0.747627297\t,\t0.84718459\t,\t0.859340529\t]\t,\n",
    "[\t0.753521127\t,\t0.243669818\t,\t0.837619746\t,\t0.747627297\t,\t0.84718459\t,\t0.859340529\t,\t0.789721494\t]\t,\n",
    "[\t0.436619718\t,\t0.307437314\t,\t0.747627297\t,\t0.84718459\t,\t0.859340529\t,\t0.789721494\t,\t0.743659219\t]\t,\n",
    "[\t0.457746479\t,\t0.358597855\t,\t0.84718459\t,\t0.859340529\t,\t0.789721494\t,\t0.743659219\t,\t0.681354477\t]\t,\n",
    "[\t0.387323944\t,\t0.372181217\t,\t0.859340529\t,\t0.789721494\t,\t0.743659219\t,\t0.681354477\t,\t0.896681917\t]\t,\n",
    "[\t0.464788732\t,\t0.450259481\t,\t0.789721494\t,\t0.743659219\t,\t0.681354477\t,\t0.896681917\t,\t0.735190038\t]\t,\n",
    "[\t0.732394366\t,\t0.443095634\t,\t0.743659219\t,\t0.681354477\t,\t0.896681917\t,\t0.735190038\t,\t0.987207391\t]\t,\n",
    "[\t0.514084507\t,\t0.558155976\t,\t0.681354477\t,\t0.896681917\t,\t0.735190038\t,\t0.987207391\t,\t0.505026725\t]\t,\n",
    "[\t0.281690141\t,\t0.602359827\t,\t0.896681917\t,\t0.735190038\t,\t0.987207391\t,\t0.505026725\t,\t1\t]\t,\n",
    "[\t0.190140845\t,\t0.696291723\t,\t0.735190038\t,\t0.987207391\t,\t0.505026725\t,\t1\t,\t0.937872933\t]\t,\n",
    "[\t0.514084507\t,\t0.790604671\t,\t0.987207391\t,\t0.505026725\t,\t1\t,\t0.937872933\t,\t0.803313641\t]\t,\n",
    "[\t0.507042254\t,\t0.644022227\t,\t0.505026725\t,\t1\t,\t0.937872933\t,\t0.803313641\t,\t0.944387687\t]\t,\n",
    "[\t0.753521127\t,\t0.583228643\t,\t1\t,\t0.937872933\t,\t0.803313641\t,\t0.944387687\t,\t0.787826293\t]\t,\n",
    "[\t0.542253521\t,\t0.481715009\t,\t0.937872933\t,\t0.803313641\t,\t0.944387687\t,\t0.787826293\t,\t0.704674336\t]\t,\n",
    "[\t0.26056338\t,\t0.442812107\t,\t0.803313641\t,\t0.944387687\t,\t0.787826293\t,\t0.704674336\t,\t0.651046062\t]\t,\n",
    "\n",
    ")\n",
    ", dtype=float)\n",
    "trainY = np.array(([\t0.588593257\t]\t,\n",
    "[\t0.286501133\t]\t,\n",
    "[\t0.473208072\t]\t,\n",
    "[\t0.452716208\t]\t,\n",
    "[\t0.383674618\t]\t,\n",
    "[\t0.233998134\t]\t,\n",
    "[\t0.353173722\t]\t,\n",
    "[\t0.140629858\t]\t,\n",
    "[\t0.263729105\t]\t,\n",
    "[\t0.33746428\t]\t,\n",
    "[\t0.287996565\t]\t,\n",
    "[\t0.509868372\t]\t,\n",
    "[\t0.509868372\t]\t,\n",
    "[\t0\t]\t,\n",
    "[\t0.476391418\t]\t,\n",
    "[\t0.449769763\t]\t,\n",
    "[\t0.46613068\t]\t,\n",
    "[\t0.588223101\t]\t,\n",
    "[\t0.636358252\t]\t,\n",
    "[\t0.573135522\t]\t,\n",
    "[\t0.45643258\t]\t,\n",
    "[\t0.762226269\t]\t,\n",
    "[\t0.553591258\t]\t,\n",
    "[\t0.711159478\t]\t,\n",
    "[\t0.315462177\t]\t,\n",
    "[\t0.60413983\t]\t,\n",
    "[\t0.837619746\t]\t,\n",
    "[\t0.747627297\t]\t,\n",
    "[\t0.84718459\t]\t,\n",
    "[\t0.859340529\t]\t,\n",
    "[\t0.789721494\t]\t,\n",
    "[\t0.743659219\t]\t,\n",
    "[\t0.681354477\t]\t,\n",
    "[\t0.896681917\t]\t,\n",
    "[\t0.735190038\t]\t,\n",
    "[\t0.987207391\t]\t,\n",
    "[\t0.505026725\t]\t,\n",
    "[\t1\t]\t,\n",
    "[\t0.937872933\t]\t,\n",
    "[\t0.803313641\t]\t,\n",
    "[\t0.944387687\t]\t,\n",
    "[\t0.787826293\t]\t,\n",
    "[\t0.704674336\t]\t,\n",
    "[\t0.651046062\t]\t,\n",
    "[\t0.447904174\t]\t,\n",
    "\n",
    ")\n",
    ", dtype=float)\n",
    "\n",
    "#Testing Data:\n",
    "testX = np.array(([\t0.394366197\t,\t0.496270585\t,\t0.944387687\t,\t0.787826293\t,\t0.704674336\t,\t0.651046062\t,\t0.447904174\t]\t,\n",
    "[\t0.626760563\t,\t0.475463393\t,\t0.787826293\t,\t0.704674336\t,\t0.651046062\t,\t0.447904174\t,\t0.679770207\t]\t,\n",
    "[\t0.795774648\t,\t0.551559791\t,\t0.704674336\t,\t0.651046062\t,\t0.447904174\t,\t0.679770207\t,\t0.53034543\t]\t,\n",
    "[\t0.704225352\t,\t0.500994351\t,\t0.651046062\t,\t0.447904174\t,\t0.679770207\t,\t0.53034543\t,\t0.783902634\t]\t,\n",
    "[\t0.535211268\t,\t0.445458587\t,\t0.447904174\t,\t0.679770207\t,\t0.53034543\t,\t0.783902634\t,\t0.334902797\t]\t,\n",
    "[\t0.401408451\t,\t0.505711667\t,\t0.679770207\t,\t0.53034543\t,\t0.783902634\t,\t0.334902797\t,\t0.87703401\t]\t,\n",
    "[\t0.126760563\t,\t0.465889036\t,\t0.53034543\t,\t0.783902634\t,\t0.334902797\t,\t0.87703401\t,\t0.70343061\t]\t,\n",
    "[\t0.330985915\t,\t0.46785659\t,\t0.783902634\t,\t0.334902797\t,\t0.87703401\t,\t0.70343061\t,\t0.676453605\t]\t,\n",
    "[\t0.415492958\t,\t0.453001423\t,\t0.334902797\t,\t0.87703401\t,\t0.70343061\t,\t0.676453605\t,\t0.799656495\t]\t,\n",
    "[\t0.556338028\t,\t0.437411724\t,\t0.87703401\t,\t0.70343061\t,\t0.676453605\t,\t0.799656495\t,\t0.653962896\t]\t,\n",
    "[\t0.591549296\t,\t0.350673696\t,\t0.70343061\t,\t0.676453605\t,\t0.799656495\t,\t0.653962896\t,\t0.731769792\t]\t,\n",
    "[\t0.514084507\t,\t0.364031312\t,\t0.676453605\t,\t0.799656495\t,\t0.653962896\t,\t0.731769792\t,\t0.607234339\t]\t,\n",
    "\n",
    ")\n",
    ", dtype=float)\n",
    "testY = np.array(([\t0.679770207\t]\t,\n",
    "[\t0.53034543\t]\t,\n",
    "[\t0.783902634\t]\t,\n",
    "[\t0.334902797\t]\t,\n",
    "[\t0.87703401\t]\t,\n",
    "[\t0.70343061\t]\t,\n",
    "[\t0.676453605\t]\t,\n",
    "[\t0.799656495\t]\t,\n",
    "[\t0.653962896\t]\t,\n",
    "[\t0.731769792\t]\t,\n",
    "[\t0.607234339\t]\t,\n",
    "[\t0.67\t]\t,\n",
    "\n",
    ")\n",
    ", dtype=float)\n",
    "\n",
    "\n",
    "dataprediksi = np.array(([\t0.387323944\t,\t0.795380412\t,\t0.799656495\t,\t0.653962896\t,\t0.731769792\t,\t0.607234339\t,\t0.67\t]\t,\n",
    "[\t0.373239437\t,\t1\t,\t0.653962896\t,\t0.731769792\t,\t0.607234339\t,\t0.67\t,\t0.67\t]\t,\n",
    "[\t0.366197183\t,\t0.707681705\t,\t0.731769792\t,\t0.607234339\t,\t0.67\t,\t0.67\t,\t0.389745184\t]\t,\n",
    "[\t0.443661972\t,\t0.491695324\t,\t0.607234339\t,\t0.67\t,\t0.67\t,\t0.389745184\t,\t0.136735812\t]\t,\n",
    "\n",
    "), dtype=float)"
   ]
  },
  {
   "cell_type": "code",
   "execution_count": 15,
   "metadata": {},
   "outputs": [
    {
     "data": {
      "text/plain": [
       "array([[0.3943662 , 0.49627058, 0.94438769, 0.78782629, 0.70467434,\n",
       "        0.65104606, 0.44790417],\n",
       "       [0.62676056, 0.47546339, 0.78782629, 0.70467434, 0.65104606,\n",
       "        0.44790417, 0.67977021],\n",
       "       [0.79577465, 0.55155979, 0.70467434, 0.65104606, 0.44790417,\n",
       "        0.67977021, 0.53034543],\n",
       "       [0.70422535, 0.50099435, 0.65104606, 0.44790417, 0.67977021,\n",
       "        0.53034543, 0.78390263],\n",
       "       [0.53521127, 0.44545859, 0.44790417, 0.67977021, 0.53034543,\n",
       "        0.78390263, 0.3349028 ],\n",
       "       [0.40140845, 0.50571167, 0.67977021, 0.53034543, 0.78390263,\n",
       "        0.3349028 , 0.87703401],\n",
       "       [0.12676056, 0.46588904, 0.53034543, 0.78390263, 0.3349028 ,\n",
       "        0.87703401, 0.70343061],\n",
       "       [0.33098592, 0.46785659, 0.78390263, 0.3349028 , 0.87703401,\n",
       "        0.70343061, 0.6764536 ],\n",
       "       [0.41549296, 0.45300142, 0.3349028 , 0.87703401, 0.70343061,\n",
       "        0.6764536 , 0.7996565 ],\n",
       "       [0.55633803, 0.43741172, 0.87703401, 0.70343061, 0.6764536 ,\n",
       "        0.7996565 , 0.6539629 ],\n",
       "       [0.5915493 , 0.3506737 , 0.70343061, 0.6764536 , 0.7996565 ,\n",
       "        0.6539629 , 0.73176979],\n",
       "       [0.51408451, 0.36403131, 0.6764536 , 0.7996565 , 0.6539629 ,\n",
       "        0.73176979, 0.60723434]])"
      ]
     },
     "execution_count": 15,
     "metadata": {},
     "output_type": "execute_result"
    }
   ],
   "source": [
    "testX"
   ]
  },
  {
   "cell_type": "code",
   "execution_count": 16,
   "metadata": {},
   "outputs": [],
   "source": [
    "##Need to modify trainer class a bit to check testing error during training:\n",
    "class trainer(object):\n",
    "    def __init__(self, N):\n",
    "        #Make Local reference to network:\n",
    "        self.N = N\n",
    "        \n",
    "    def callbackF(self, params):\n",
    "        self.N.setParams(params)\n",
    "        self.J.append(self.N.costFunction(self.X, self.y))\n",
    "        self.testJ.append(self.N.costFunction(self.testX, self.testY))\n",
    "        \n",
    "    def costFunctionWrapper(self, params, X, y):\n",
    "        self.N.setParams(params)\n",
    "        cost = self.N.costFunction(X, y)\n",
    "        grad = self.N.computeGradients(X,y)\n",
    "        \n",
    "        return cost, grad\n",
    "        \n",
    "    def train(self, trainX, trainY, testX, testY):\n",
    "        #Make an internal variable for the callback function:\n",
    "        self.X = trainX\n",
    "        self.y = trainY\n",
    "        \n",
    "        self.testX = testX\n",
    "        self.testY = testY\n",
    "\n",
    "        #Make empty list to store training costs:\n",
    "        self.J = []\n",
    "        self.testJ = []\n",
    "        \n",
    "        params0 = self.N.getParams()\n",
    "\n",
    "        options = {'maxiter': 100, 'disp' : True}\n",
    "        _res = optimize.minimize(self.costFunctionWrapper, params0, jac=True, method='BFGS', \\\n",
    "                                 args=(trainX, trainY), options=options, callback=self.callbackF)\n",
    "\n",
    "        self.N.setParams(_res.x)\n",
    "        self.optimizationResults = _res"
   ]
  },
  {
   "cell_type": "code",
   "execution_count": 17,
   "metadata": {},
   "outputs": [
    {
     "name": "stdout",
     "output_type": "stream",
     "text": [
      "Warning: Maximum number of iterations has been exceeded.\n",
      "         Current function value: 0.193449\n",
      "         Iterations: 100\n",
      "         Function evaluations: 108\n",
      "         Gradient evaluations: 108\n"
     ]
    }
   ],
   "source": [
    "#Train network with new data:\n",
    "NN = Neural_Network()\n",
    "\n",
    "T = trainer(NN)\n",
    "T.train(trainX, trainY, testX, testY)"
   ]
  },
  {
   "cell_type": "code",
   "execution_count": 18,
   "metadata": {},
   "outputs": [
    {
     "data": {
      "image/png": "[encoded data removed]",
      "text/plain": [
       "<Figure size 432x288 with 1 Axes>"
      ]
     },
     "metadata": {
      "needs_background": "light"
     },
     "output_type": "display_data"
    }
   ],
   "source": [
    "#Plot cost during training:\n",
    "plot.plot(T.J)\n",
    "plot.plot(T.testJ)\n",
    "plot.grid(1)\n",
    "plot.xlabel('Iterations')\n",
    "plot.ylabel('Cost')\n",
    "plot.legend(['Training', 'Testing'])\n",
    "plot.show()"
   ]
  },
  {
   "cell_type": "code",
   "execution_count": 19,
   "metadata": {},
   "outputs": [
    {
     "data": {
      "text/plain": [
       "[array([4.19865691]),\n",
       " array([1.63630575]),\n",
       " array([1.5962928]),\n",
       " array([1.51954683]),\n",
       " array([1.37497471]),\n",
       " array([1.11650949]),\n",
       " array([0.91150187]),\n",
       " array([0.72685421]),\n",
       " array([0.70950243]),\n",
       " array([0.68522728]),\n",
       " array([0.67030021]),\n",
       " array([0.64923906]),\n",
       " array([0.63537132]),\n",
       " array([0.61548894]),\n",
       " array([0.6071435]),\n",
       " array([0.59860652]),\n",
       " array([0.5885918]),\n",
       " array([0.57707537]),\n",
       " array([0.56400575]),\n",
       " array([0.54553671]),\n",
       " array([0.53341043]),\n",
       " array([0.51863444]),\n",
       " array([0.51363722]),\n",
       " array([0.50432835]),\n",
       " array([0.48677877]),\n",
       " array([0.45900122]),\n",
       " array([0.44797075]),\n",
       " array([0.43369367]),\n",
       " array([0.4206227]),\n",
       " array([0.40769358]),\n",
       " array([0.40152969]),\n",
       " array([0.39756489]),\n",
       " array([0.39444921]),\n",
       " array([0.39107387]),\n",
       " array([0.38576029]),\n",
       " array([0.3809023]),\n",
       " array([0.37970067]),\n",
       " array([0.37787815]),\n",
       " array([0.37538147]),\n",
       " array([0.37221764]),\n",
       " array([0.36871382]),\n",
       " array([0.3644147]),\n",
       " array([0.36197813]),\n",
       " array([0.36039386]),\n",
       " array([0.35828528]),\n",
       " array([0.35476224]),\n",
       " array([0.34922653]),\n",
       " array([0.34523546]),\n",
       " array([0.33925965]),\n",
       " array([0.330198]),\n",
       " array([0.32405326]),\n",
       " array([0.32159782]),\n",
       " array([0.31842141]),\n",
       " array([0.31420111]),\n",
       " array([0.31186367]),\n",
       " array([0.30960334]),\n",
       " array([0.30758694]),\n",
       " array([0.30489204]),\n",
       " array([0.30105285]),\n",
       " array([0.29562829]),\n",
       " array([0.29059397]),\n",
       " array([0.28867628]),\n",
       " array([0.28698863]),\n",
       " array([0.28549433]),\n",
       " array([0.28433535]),\n",
       " array([0.28354359]),\n",
       " array([0.28251272]),\n",
       " array([0.28070158]),\n",
       " array([0.2774673]),\n",
       " array([0.27235016]),\n",
       " array([0.26696176]),\n",
       " array([0.2636034]),\n",
       " array([0.26179529]),\n",
       " array([0.26105479]),\n",
       " array([0.25969868]),\n",
       " array([0.25719299]),\n",
       " array([0.25271253]),\n",
       " array([0.24564021]),\n",
       " array([0.24057672]),\n",
       " array([0.23728302]),\n",
       " array([0.2336598]),\n",
       " array([0.23202275]),\n",
       " array([0.23012512]),\n",
       " array([0.22899767]),\n",
       " array([0.22816074]),\n",
       " array([0.22675822]),\n",
       " array([0.22435036]),\n",
       " array([0.22075807]),\n",
       " array([0.218319]),\n",
       " array([0.21752416]),\n",
       " array([0.21713161]),\n",
       " array([0.21671]),\n",
       " array([0.21594533]),\n",
       " array([0.21455656]),\n",
       " array([0.21214814]),\n",
       " array([0.20864501]),\n",
       " array([0.20555684]),\n",
       " array([0.2016192]),\n",
       " array([0.1968713]),\n",
       " array([0.19344918])]"
      ]
     },
     "execution_count": 19,
     "metadata": {},
     "output_type": "execute_result"
    }
   ],
   "source": [
    "T.J"
   ]
  },
  {
   "cell_type": "code",
   "execution_count": 20,
   "metadata": {},
   "outputs": [
    {
     "data": {
      "text/plain": [
       "[array([0.51716892]),\n",
       " array([0.18642807]),\n",
       " array([0.14033048]),\n",
       " array([0.13260846]),\n",
       " array([0.12751405]),\n",
       " array([0.11085867]),\n",
       " array([0.1143511]),\n",
       " array([0.15592702]),\n",
       " array([0.15840734]),\n",
       " array([0.13864933]),\n",
       " array([0.13251872]),\n",
       " array([0.1283932]),\n",
       " array([0.11314366]),\n",
       " array([0.11513097]),\n",
       " array([0.11523657]),\n",
       " array([0.11915066]),\n",
       " array([0.13024904]),\n",
       " array([0.14363613]),\n",
       " array([0.14129068]),\n",
       " array([0.12232582]),\n",
       " array([0.11035877]),\n",
       " array([0.11787559]),\n",
       " array([0.11873992]),\n",
       " array([0.11792206]),\n",
       " array([0.11792419]),\n",
       " array([0.11721916]),\n",
       " array([0.15980994]),\n",
       " array([0.14314824]),\n",
       " array([0.12391177]),\n",
       " array([0.12880918]),\n",
       " array([0.13040781]),\n",
       " array([0.14514438]),\n",
       " array([0.14661379]),\n",
       " array([0.1493067]),\n",
       " array([0.1532866]),\n",
       " array([0.15822429]),\n",
       " array([0.155914]),\n",
       " array([0.15437778]),\n",
       " array([0.1521013]),\n",
       " array([0.15265503]),\n",
       " array([0.15622928]),\n",
       " array([0.16520967]),\n",
       " array([0.16650591]),\n",
       " array([0.17244946]),\n",
       " array([0.16926352]),\n",
       " array([0.16209358]),\n",
       " array([0.15333667]),\n",
       " array([0.13614891]),\n",
       " array([0.136614]),\n",
       " array([0.13926278]),\n",
       " array([0.12694963]),\n",
       " array([0.13229708]),\n",
       " array([0.13316279]),\n",
       " array([0.12503373]),\n",
       " array([0.12202596]),\n",
       " array([0.11436336]),\n",
       " array([0.11514078]),\n",
       " array([0.11912722]),\n",
       " array([0.1231735]),\n",
       " array([0.12992085]),\n",
       " array([0.13812572]),\n",
       " array([0.13568557]),\n",
       " array([0.13553556]),\n",
       " array([0.1346532]),\n",
       " array([0.13231007]),\n",
       " array([0.13565336]),\n",
       " array([0.13421281]),\n",
       " array([0.13636882]),\n",
       " array([0.14060004]),\n",
       " array([0.14980102]),\n",
       " array([0.16602588]),\n",
       " array([0.17008901]),\n",
       " array([0.17676163]),\n",
       " array([0.17641646]),\n",
       " array([0.17599426]),\n",
       " array([0.17576811]),\n",
       " array([0.17630458]),\n",
       " array([0.17907871]),\n",
       " array([0.18397184]),\n",
       " array([0.18403634]),\n",
       " array([0.17320694]),\n",
       " array([0.17147189]),\n",
       " array([0.1725527]),\n",
       " array([0.17950308]),\n",
       " array([0.17677528]),\n",
       " array([0.17416258]),\n",
       " array([0.170556]),\n",
       " array([0.16593348]),\n",
       " array([0.16424769]),\n",
       " array([0.16613904]),\n",
       " array([0.16802936]),\n",
       " array([0.17008373]),\n",
       " array([0.17268125]),\n",
       " array([0.17681912]),\n",
       " array([0.1840625]),\n",
       " array([0.19702373]),\n",
       " array([0.20303733]),\n",
       " array([0.20234881]),\n",
       " array([0.19661742]),\n",
       " array([0.20289658])]"
      ]
     },
     "execution_count": 20,
     "metadata": {},
     "output_type": "execute_result"
    }
   ],
   "source": [
    "T.testJ"
   ]
  },
  {
   "cell_type": "code",
   "execution_count": 21,
   "metadata": {},
   "outputs": [
    {
     "data": {
      "text/plain": [
       "0.3017225598956033"
      ]
     },
     "execution_count": 21,
     "metadata": {},
     "output_type": "execute_result"
    }
   ],
   "source": [
    "from sklearn.metrics import mean_absolute_error\n",
    "mean_absolute_error(T.J, T.testJ)"
   ]
  },
  {
   "cell_type": "code",
   "execution_count": 22,
   "metadata": {},
   "outputs": [],
   "source": [
    "yHat = NN.forward(X)"
   ]
  },
  {
   "cell_type": "code",
   "execution_count": 23,
   "metadata": {},
   "outputs": [
    {
     "data": {
      "text/plain": [
       "array([[0.50790398],\n",
       "       [0.38456853],\n",
       "       [0.48290743],\n",
       "       [0.52144247],\n",
       "       [0.54876343],\n",
       "       [0.2604257 ],\n",
       "       [0.254899  ],\n",
       "       [0.22763875],\n",
       "       [0.11921113],\n",
       "       [0.31369123],\n",
       "       [0.31451685],\n",
       "       [0.3979713 ],\n",
       "       [0.437612  ],\n",
       "       [0.14175934],\n",
       "       [0.58555516],\n",
       "       [0.37808946],\n",
       "       [0.57292101],\n",
       "       [0.81122553],\n",
       "       [0.60041866],\n",
       "       [0.39838552],\n",
       "       [0.5450502 ],\n",
       "       [0.60548831],\n",
       "       [0.65393106],\n",
       "       [0.54277401],\n",
       "       [0.38053787],\n",
       "       [0.6623357 ],\n",
       "       [0.75321267],\n",
       "       [0.61645312],\n",
       "       [0.84175487],\n",
       "       [0.8189339 ],\n",
       "       [0.77312882],\n",
       "       [0.71351436],\n",
       "       [0.71595937],\n",
       "       [0.82610658],\n",
       "       [0.78104659],\n",
       "       [0.85735405],\n",
       "       [0.47071003],\n",
       "       [0.95961565],\n",
       "       [0.88341558],\n",
       "       [0.78576889],\n",
       "       [0.90432205],\n",
       "       [0.82177118],\n",
       "       [0.70106804],\n",
       "       [0.75100951],\n",
       "       [0.48156545],\n",
       "       [0.76209817],\n",
       "       [0.38714021],\n",
       "       [0.31246895],\n",
       "       [0.67928905],\n",
       "       [0.89538818],\n",
       "       [0.6638954 ],\n",
       "       [0.66742451],\n",
       "       [0.84879153],\n",
       "       [0.59361771],\n",
       "       [0.60163923],\n",
       "       [0.562673  ],\n",
       "       [0.77343606]])"
      ]
     },
     "execution_count": 23,
     "metadata": {},
     "output_type": "execute_result"
    }
   ],
   "source": [
    "yHat"
   ]
  },
  {
   "cell_type": "code",
   "execution_count": 24,
   "metadata": {},
   "outputs": [
    {
     "data": {
      "text/plain": [
       "array([[0.58859326],\n",
       "       [0.28650113],\n",
       "       [0.47320807],\n",
       "       [0.45271621],\n",
       "       [0.38367462],\n",
       "       [0.23399813],\n",
       "       [0.35317372],\n",
       "       [0.14062986],\n",
       "       [0.26372911],\n",
       "       [0.33746428],\n",
       "       [0.28799656],\n",
       "       [0.50986837],\n",
       "       [0.50986837],\n",
       "       [0.        ],\n",
       "       [0.47639142],\n",
       "       [0.44976976],\n",
       "       [0.46613068],\n",
       "       [0.5882231 ],\n",
       "       [0.63635825],\n",
       "       [0.57313552],\n",
       "       [0.45643258],\n",
       "       [0.76222627],\n",
       "       [0.55359126],\n",
       "       [0.71115948],\n",
       "       [0.31546218],\n",
       "       [0.60413983],\n",
       "       [0.83761975],\n",
       "       [0.7476273 ],\n",
       "       [0.84718459],\n",
       "       [0.85934053],\n",
       "       [0.78972149],\n",
       "       [0.74365922],\n",
       "       [0.68135448],\n",
       "       [0.89668192],\n",
       "       [0.73519004],\n",
       "       [0.98720739],\n",
       "       [0.50502673],\n",
       "       [1.        ],\n",
       "       [0.93787293],\n",
       "       [0.80331364],\n",
       "       [0.94438769],\n",
       "       [0.78782629],\n",
       "       [0.70467434],\n",
       "       [0.65104606],\n",
       "       [0.44790417],\n",
       "       [0.67977021],\n",
       "       [0.53034543],\n",
       "       [0.78390263],\n",
       "       [0.3349028 ],\n",
       "       [0.87703401],\n",
       "       [0.70343061],\n",
       "       [0.6764536 ],\n",
       "       [0.7996565 ],\n",
       "       [0.6539629 ],\n",
       "       [0.73176979],\n",
       "       [0.60723434],\n",
       "       [0.67      ]])"
      ]
     },
     "execution_count": 24,
     "metadata": {},
     "output_type": "execute_result"
    }
   ],
   "source": [
    "y"
   ]
  },
  {
   "cell_type": "code",
   "execution_count": 25,
   "metadata": {},
   "outputs": [
    {
     "data": {
      "text/plain": [
       "0.013906868845237771"
      ]
     },
     "execution_count": 25,
     "metadata": {},
     "output_type": "execute_result"
    }
   ],
   "source": [
    "from sklearn.metrics import mean_squared_error \n",
    "mean_squared_error(y,yHat) "
   ]
  },
  {
   "cell_type": "code",
   "execution_count": 26,
   "metadata": {},
   "outputs": [
    {
     "data": {
      "image/png": "[encoded data removed]",
      "text/plain": [
       "<Figure size 432x288 with 1 Axes>"
      ]
     },
     "metadata": {
      "needs_background": "light"
     },
     "output_type": "display_data"
    }
   ],
   "source": [
    "#Plot cost during training:\n",
    "plot.plot(y)\n",
    "plot.plot(yHat)\n",
    "plot.grid(1)\n",
    "plot.legend(['y', 'yHat'])\n",
    "plot.show()"
   ]
  },
  {
   "cell_type": "code",
   "execution_count": 27,
   "metadata": {},
   "outputs": [],
   "source": [
    "#Regularization Parameter:\n",
    "Lambda = 0.0001"
   ]
  },
  {
   "cell_type": "code",
   "execution_count": 28,
   "metadata": {},
   "outputs": [],
   "source": [
    "#Need to make changes to costFunction and costFunctionPrim:\n",
    "def costFunction(self, X, y):\n",
    "    #Compute cost for given X,y, use weights already stored in class.\n",
    "    self.yHat = self.forward(X)\n",
    "    #We don't want cost to increase with the number of examples, so normalize by dividing the error term by number of examples(X.shape[0])\n",
    "    J = 0.5*sum((y-self.yHat)**2)/X.shape[0] + (self.Lambda/2)*(sum(self.W1**2)+sum(self.W2**2))\n",
    "    return J\n",
    "\n",
    "def costFunctionPrime(self, X, y):\n",
    "    #Compute derivative with respect to W and W2 for a given X and y:\n",
    "    self.yHat = self.forward(X)\n",
    "\n",
    "    delta3 = np.multiply(-(y-self.yHat), self.tanhPrime(self.z3))\n",
    "    #Add gradient of regularization term:\n",
    "    dJdW2 = np.dot(self.a2.T, delta3)/X.shape[0] + self.Lambda*self.W2\n",
    "\n",
    "    delta2 = np.dot(delta3, self.W2.T)*self.tanhPrime(self.z2)\n",
    "    #Add gradient of regularization term:\n",
    "    dJdW1 = np.dot(X.T, delta2)/X.shape[0] + self.Lambda*self.W1\n",
    "\n",
    "    return dJdW1, dJdW2"
   ]
  },
  {
   "cell_type": "code",
   "execution_count": 29,
   "metadata": {},
   "outputs": [],
   "source": [
    "#New complete class, with changes:\n",
    "class Neural_Network(object):\n",
    "    def __init__(self, Lambda=0.0001):        \n",
    "        #Define Hyperparameters\n",
    "        self.inputLayerSize = 7\n",
    "        self.outputLayerSize = 1\n",
    "        self.hiddenLayerSize = 4\n",
    "        \n",
    "        #Weights (parameters)\n",
    "        self.W1 = np.random.randn(self.inputLayerSize,self.hiddenLayerSize)\n",
    "        self.W2 = np.random.randn(self.hiddenLayerSize,self.outputLayerSize)\n",
    "        \n",
    "        #Regularization Parameter:\n",
    "        self.Lambda = Lambda\n",
    "        \n",
    "    def forward(self, X):\n",
    "        #Propogate inputs though network\n",
    "        self.z2 = np.dot(X, self.W1)\n",
    "        self.a2 = self.tanh(self.z2)\n",
    "        self.z3 = np.dot(self.a2, self.W2)\n",
    "        yHat = self.tanh(self.z3) \n",
    "        return yHat\n",
    "        \n",
    "    def tanh(self, z):\n",
    "        # activation function\n",
    "        return (np.exp(z)-np.exp(-z))/(np.exp(z)+np.exp(-z))\n",
    "    \n",
    "    def tanhPrime(self,z): \n",
    "        #derivative of tanh\n",
    "        return 1-((np.exp(z)-np.exp(-z))/(np.exp(z)+np.exp(-z)))**2\n",
    "    \n",
    "    def costFunction(self, X, y):\n",
    "        #Compute cost for given X,y, use weights already stored in class.\n",
    "        self.yHat = self.forward(X)\n",
    "        J = 0.5*sum((y-self.yHat)**2)/X.shape[0] + (self.Lambda/2)*(np.sum(self.W1**2)+np.sum(self.W2**2))\n",
    "        return J\n",
    "        \n",
    "    def costFunctionPrime(self, X, y):\n",
    "        #Compute derivative with respect to W and W2 for a given X and y:\n",
    "        self.yHat = self.forward(X)\n",
    "        \n",
    "        delta3 = np.multiply(-(y-self.yHat), self.tanhPrime(self.z3))\n",
    "        #Add gradient of regularization term:\n",
    "        dJdW2 = np.dot(self.a2.T, delta3)/X.shape[0] + self.Lambda*self.W2\n",
    "        \n",
    "        delta2 = np.dot(delta3, self.W2.T)*self.tanhPrime(self.z2)\n",
    "        #Add gradient of regularization term:\n",
    "        dJdW1 = np.dot(X.T, delta2)/X.shape[0] + self.Lambda*self.W1\n",
    "        \n",
    "        return dJdW1, dJdW2\n",
    "    \n",
    "    def predict(self):\n",
    "        prediksi = self.forward(dataprediksi)\n",
    "        return prediksi\n",
    "    \n",
    "    #Helper functions for interacting with other methods/classes\n",
    "    def getParams(self):\n",
    "        #Get W1 and W2 Rolled into vector:\n",
    "        params = np.concatenate((self.W1.ravel(), self.W2.ravel()))\n",
    "        return params\n",
    "    \n",
    "    def setParams(self, params):\n",
    "        #Set W1 and W2 using single parameter vector:\n",
    "        W1_start = 0\n",
    "        W1_end = self.hiddenLayerSize*self.inputLayerSize\n",
    "        self.W1 = np.reshape(params[W1_start:W1_end], \\\n",
    "                             (self.inputLayerSize, self.hiddenLayerSize))\n",
    "        W2_end = W1_end + self.hiddenLayerSize*self.outputLayerSize\n",
    "        self.W2 = np.reshape(params[W1_end:W2_end], \\\n",
    "                             (self.hiddenLayerSize, self.outputLayerSize))\n",
    "        \n",
    "    def computeGradients(self, X, y):\n",
    "        dJdW1, dJdW2 = self.costFunctionPrime(X, y)\n",
    "        return np.concatenate((dJdW1.ravel(), dJdW2.ravel()))"
   ]
  },
  {
   "cell_type": "code",
   "execution_count": 30,
   "metadata": {},
   "outputs": [],
   "source": [
    "def computeNumericalGradient(N, X, y):\n",
    "    paramsInitial = N.getParams()\n",
    "    numgrad = np.zeros(paramsInitial.shape)\n",
    "    perturb = np.zeros(paramsInitial.shape)\n",
    "    e = 1e-4\n",
    "\n",
    "    for p in range(len(paramsInitial)):\n",
    "        #Set perturbation vector\n",
    "        perturb[p] = e\n",
    "        N.setParams(paramsInitial + perturb)\n",
    "        loss2 = N.costFunction(X, y)\n",
    "            \n",
    "        N.setParams(paramsInitial - perturb)\n",
    "        loss1 = N.costFunction(X, y)\n",
    "\n",
    "        #Compute Numerical Gradient\n",
    "        numgrad[p] = (loss2 - loss1) / (2*e)\n",
    "\n",
    "            #Return the value we changed to zero:\n",
    "        perturb[p] = 0\n",
    "            \n",
    "    #Return Params to original value:\n",
    "    N.setParams(paramsInitial)\n",
    "\n",
    "    return numgrad "
   ]
  },
  {
   "cell_type": "code",
   "execution_count": 31,
   "metadata": {},
   "outputs": [],
   "source": [
    "NN = Neural_Network(Lambda=0.0001)"
   ]
  },
  {
   "cell_type": "code",
   "execution_count": 32,
   "metadata": {},
   "outputs": [],
   "source": [
    "#Make sure our gradients our correct after making changes:\n",
    "numgrad = computeNumericalGradient(NN, X, y)\n",
    "grad = NN.computeGradients(X,y)"
   ]
  },
  {
   "cell_type": "code",
   "execution_count": 33,
   "metadata": {},
   "outputs": [
    {
     "data": {
      "text/plain": [
       "1.2053632077004678e-09"
      ]
     },
     "execution_count": 33,
     "metadata": {},
     "output_type": "execute_result"
    }
   ],
   "source": [
    "#Should be less than 1e-8:\n",
    "np.linalg.norm(grad-numgrad)/np.linalg.norm(grad+numgrad)"
   ]
  },
  {
   "cell_type": "code",
   "execution_count": 34,
   "metadata": {},
   "outputs": [],
   "source": [
    "T = trainer(NN)"
   ]
  },
  {
   "cell_type": "code",
   "execution_count": 35,
   "metadata": {},
   "outputs": [
    {
     "name": "stdout",
     "output_type": "stream",
     "text": [
      "Warning: Maximum number of iterations has been exceeded.\n",
      "         Current function value: 0.009868\n",
      "         Iterations: 100\n",
      "         Function evaluations: 103\n",
      "         Gradient evaluations: 103\n"
     ]
    }
   ],
   "source": [
    "T.train(X,y,testX,testY)"
   ]
  },
  {
   "cell_type": "code",
   "execution_count": 36,
   "metadata": {},
   "outputs": [
    {
     "data": {
      "image/png": "[encoded data removed]",
      "text/plain": [
       "<Figure size 432x288 with 1 Axes>"
      ]
     },
     "metadata": {
      "needs_background": "light"
     },
     "output_type": "display_data"
    }
   ],
   "source": [
    "plot.plot(T.J)\n",
    "plot.plot(T.testJ)\n",
    "plot.grid(1)\n",
    "plot.xlabel('Iterations')\n",
    "plot.ylabel('Cost')\n",
    "plot.legend(['Training', 'Testing'])\n",
    "plot.show()"
   ]
  },
  {
   "cell_type": "code",
   "execution_count": 37,
   "metadata": {},
   "outputs": [
    {
     "data": {
      "text/plain": [
       "[array([0.06237898]),\n",
       " array([0.05702017]),\n",
       " array([0.05058929]),\n",
       " array([0.0390305]),\n",
       " array([0.03161584]),\n",
       " array([0.02823419]),\n",
       " array([0.0267128]),\n",
       " array([0.02394917]),\n",
       " array([0.01987355]),\n",
       " array([0.01735855]),\n",
       " array([0.01562871]),\n",
       " array([0.01479292]),\n",
       " array([0.01363887]),\n",
       " array([0.01311544]),\n",
       " array([0.01294205]),\n",
       " array([0.01290166]),\n",
       " array([0.01287303]),\n",
       " array([0.0128241]),\n",
       " array([0.01273775]),\n",
       " array([0.01258619]),\n",
       " array([0.01233445]),\n",
       " array([0.01199516]),\n",
       " array([0.01183253]),\n",
       " array([0.01171979]),\n",
       " array([0.01168833]),\n",
       " array([0.01168069]),\n",
       " array([0.01167024]),\n",
       " array([0.01165141]),\n",
       " array([0.01161713]),\n",
       " array([0.01155679]),\n",
       " array([0.01146244]),\n",
       " array([0.01137879]),\n",
       " array([0.01134138]),\n",
       " array([0.01131853]),\n",
       " array([0.01131403]),\n",
       " array([0.01130901]),\n",
       " array([0.01130028]),\n",
       " array([0.01128453]),\n",
       " array([0.01125605]),\n",
       " array([0.01120586]),\n",
       " array([0.01112471]),\n",
       " array([0.01103725]),\n",
       " array([0.01100044]),\n",
       " array([0.01095873]),\n",
       " array([0.01094475]),\n",
       " array([0.01093622]),\n",
       " array([0.01092587]),\n",
       " array([0.01090902]),\n",
       " array([0.01088211]),\n",
       " array([0.01084107]),\n",
       " array([0.01078524]),\n",
       " array([0.01071125]),\n",
       " array([0.01064839]),\n",
       " array([0.0106008]),\n",
       " array([0.01057877]),\n",
       " array([0.01057669]),\n",
       " array([0.01057535]),\n",
       " array([0.01057301]),\n",
       " array([0.01056875]),\n",
       " array([0.01056094]),\n",
       " array([0.01054671]),\n",
       " array([0.01052161]),\n",
       " array([0.01048067]),\n",
       " array([0.01042799]),\n",
       " array([0.01039997]),\n",
       " array([0.0103847]),\n",
       " array([0.01038142]),\n",
       " array([0.01037789]),\n",
       " array([0.01037603]),\n",
       " array([0.01037295]),\n",
       " array([0.01036779]),\n",
       " array([0.01035896]),\n",
       " array([0.01034358]),\n",
       " array([0.01031677]),\n",
       " array([0.01027203]),\n",
       " array([0.01021034]),\n",
       " array([0.0101806]),\n",
       " array([0.01015968]),\n",
       " array([0.01014752]),\n",
       " array([0.0101446]),\n",
       " array([0.01014194]),\n",
       " array([0.01013984]),\n",
       " array([0.01013776]),\n",
       " array([0.01013419]),\n",
       " array([0.01012773]),\n",
       " array([0.01011622]),\n",
       " array([0.01009716]),\n",
       " array([0.01007296]),\n",
       " array([0.01006053]),\n",
       " array([0.01004777]),\n",
       " array([0.01004676]),\n",
       " array([0.01004516]),\n",
       " array([0.01004255]),\n",
       " array([0.01003813]),\n",
       " array([0.01003037]),\n",
       " array([0.0100167]),\n",
       " array([0.00999346]),\n",
       " array([0.00995648]),\n",
       " array([0.00990325]),\n",
       " array([0.00986755])]"
      ]
     },
     "execution_count": 37,
     "metadata": {},
     "output_type": "execute_result"
    }
   ],
   "source": [
    "T.J"
   ]
  },
  {
   "cell_type": "code",
   "execution_count": 38,
   "metadata": {},
   "outputs": [
    {
     "data": {
      "text/plain": [
       "[array([0.04678827]),\n",
       " array([0.04799577]),\n",
       " array([0.04687896]),\n",
       " array([0.03877474]),\n",
       " array([0.03241026]),\n",
       " array([0.03067807]),\n",
       " array([0.03001637]),\n",
       " array([0.02789763]),\n",
       " array([0.02359058]),\n",
       " array([0.01806536]),\n",
       " array([0.01514124]),\n",
       " array([0.0134412]),\n",
       " array([0.01117149]),\n",
       " array([0.01002348]),\n",
       " array([0.00956391]),\n",
       " array([0.009393]),\n",
       " array([0.00934416]),\n",
       " array([0.00927327]),\n",
       " array([0.00923202]),\n",
       " array([0.00915693]),\n",
       " array([0.00907904]),\n",
       " array([0.0089328]),\n",
       " array([0.0087944]),\n",
       " array([0.00855798]),\n",
       " array([0.0085343]),\n",
       " array([0.00850112]),\n",
       " array([0.00853615]),\n",
       " array([0.00857206]),\n",
       " array([0.00864318]),\n",
       " array([0.00876733]),\n",
       " array([0.00900443]),\n",
       " array([0.00926785]),\n",
       " array([0.00920737]),\n",
       " array([0.00900202]),\n",
       " array([0.008909]),\n",
       " array([0.00882145]),\n",
       " array([0.00873316]),\n",
       " array([0.00863263]),\n",
       " array([0.00851302]),\n",
       " array([0.00836045]),\n",
       " array([0.0081742]),\n",
       " array([0.00801569]),\n",
       " array([0.00807636]),\n",
       " array([0.00827104]),\n",
       " array([0.00849393]),\n",
       " array([0.00856471]),\n",
       " array([0.00863689]),\n",
       " array([0.00867084]),\n",
       " array([0.00870001]),\n",
       " array([0.00870709]),\n",
       " array([0.00864261]),\n",
       " array([0.00846967]),\n",
       " array([0.00824371]),\n",
       " array([0.00799344]),\n",
       " array([0.00782892]),\n",
       " array([0.00780624]),\n",
       " array([0.00781933]),\n",
       " array([0.0078253]),\n",
       " array([0.00784176]),\n",
       " array([0.00785476]),\n",
       " array([0.00787496]),\n",
       " array([0.00789407]),\n",
       " array([0.00792033]),\n",
       " array([0.00793925]),\n",
       " array([0.00793257]),\n",
       " array([0.00805616]),\n",
       " array([0.0078688]),\n",
       " array([0.00790367]),\n",
       " array([0.00790937]),\n",
       " array([0.00790137]),\n",
       " array([0.00787536]),\n",
       " array([0.00783884]),\n",
       " array([0.00778555]),\n",
       " array([0.00771413]),\n",
       " array([0.00760413]),\n",
       " array([0.00743519]),\n",
       " array([0.00737635]),\n",
       " array([0.0074622]),\n",
       " array([0.00753729]),\n",
       " array([0.00760816]),\n",
       " array([0.0075946]),\n",
       " array([0.0075595]),\n",
       " array([0.00754445]),\n",
       " array([0.00752355]),\n",
       " array([0.00750133]),\n",
       " array([0.00746619]),\n",
       " array([0.00740824]),\n",
       " array([0.00731696]),\n",
       " array([0.00731766]),\n",
       " array([0.00727969]),\n",
       " array([0.00729938]),\n",
       " array([0.0072903]),\n",
       " array([0.00727466]),\n",
       " array([0.00726777]),\n",
       " array([0.00725711]),\n",
       " array([0.0072535]),\n",
       " array([0.00725569]),\n",
       " array([0.00729712]),\n",
       " array([0.00739491]),\n",
       " array([0.00741677])]"
      ]
     },
     "execution_count": 38,
     "metadata": {},
     "output_type": "execute_result"
    }
   ],
   "source": [
    "T.testJ"
   ]
  },
  {
   "cell_type": "code",
   "execution_count": 39,
   "metadata": {},
   "outputs": [
    {
     "data": {
      "text/plain": [
       "0.002832771066817848"
      ]
     },
     "execution_count": 39,
     "metadata": {},
     "output_type": "execute_result"
    }
   ],
   "source": [
    "from sklearn.metrics import mean_absolute_error\n",
    "mean_absolute_error(T.J, T.testJ)"
   ]
  },
  {
   "cell_type": "code",
   "execution_count": 40,
   "metadata": {},
   "outputs": [],
   "source": [
    "yHat=NN.forward(X)"
   ]
  },
  {
   "cell_type": "code",
   "execution_count": 41,
   "metadata": {},
   "outputs": [
    {
     "data": {
      "text/plain": [
       "array([[0.46689854],\n",
       "       [0.36602285],\n",
       "       [0.54758014],\n",
       "       [0.51383972],\n",
       "       [0.49598224],\n",
       "       [0.53674785],\n",
       "       [0.30619911],\n",
       "       [0.30765115],\n",
       "       [0.2454362 ],\n",
       "       [0.32751368],\n",
       "       [0.27626883],\n",
       "       [0.42718236],\n",
       "       [0.37981734],\n",
       "       [0.42840367],\n",
       "       [0.48789013],\n",
       "       [0.32645302],\n",
       "       [0.4851353 ],\n",
       "       [0.43879684],\n",
       "       [0.53737825],\n",
       "       [0.38700013],\n",
       "       [0.68276642],\n",
       "       [0.69225904],\n",
       "       [0.69183532],\n",
       "       [0.6887272 ],\n",
       "       [0.45297169],\n",
       "       [0.64636549],\n",
       "       [0.62501877],\n",
       "       [0.74017601],\n",
       "       [0.8164709 ],\n",
       "       [0.77836643],\n",
       "       [0.66209437],\n",
       "       [0.67262415],\n",
       "       [0.8147703 ],\n",
       "       [0.77885232],\n",
       "       [0.80607424],\n",
       "       [0.82731934],\n",
       "       [0.63173891],\n",
       "       [0.80524956],\n",
       "       [0.80477284],\n",
       "       [0.74773608],\n",
       "       [0.82153931],\n",
       "       [0.84533347],\n",
       "       [0.78455734],\n",
       "       [0.78408513],\n",
       "       [0.70277929],\n",
       "       [0.63941127],\n",
       "       [0.56481724],\n",
       "       [0.56363882],\n",
       "       [0.5234235 ],\n",
       "       [0.6902481 ],\n",
       "       [0.6488459 ],\n",
       "       [0.64725895],\n",
       "       [0.77811905],\n",
       "       [0.79304716],\n",
       "       [0.75957968],\n",
       "       [0.68498783],\n",
       "       [0.74284147]])"
      ]
     },
     "execution_count": 41,
     "metadata": {},
     "output_type": "execute_result"
    }
   ],
   "source": [
    "yHat"
   ]
  },
  {
   "cell_type": "code",
   "execution_count": 42,
   "metadata": {},
   "outputs": [
    {
     "data": {
      "text/plain": [
       "array([[0.58859326],\n",
       "       [0.28650113],\n",
       "       [0.47320807],\n",
       "       [0.45271621],\n",
       "       [0.38367462],\n",
       "       [0.23399813],\n",
       "       [0.35317372],\n",
       "       [0.14062986],\n",
       "       [0.26372911],\n",
       "       [0.33746428],\n",
       "       [0.28799656],\n",
       "       [0.50986837],\n",
       "       [0.50986837],\n",
       "       [0.        ],\n",
       "       [0.47639142],\n",
       "       [0.44976976],\n",
       "       [0.46613068],\n",
       "       [0.5882231 ],\n",
       "       [0.63635825],\n",
       "       [0.57313552],\n",
       "       [0.45643258],\n",
       "       [0.76222627],\n",
       "       [0.55359126],\n",
       "       [0.71115948],\n",
       "       [0.31546218],\n",
       "       [0.60413983],\n",
       "       [0.83761975],\n",
       "       [0.7476273 ],\n",
       "       [0.84718459],\n",
       "       [0.85934053],\n",
       "       [0.78972149],\n",
       "       [0.74365922],\n",
       "       [0.68135448],\n",
       "       [0.89668192],\n",
       "       [0.73519004],\n",
       "       [0.98720739],\n",
       "       [0.50502673],\n",
       "       [1.        ],\n",
       "       [0.93787293],\n",
       "       [0.80331364],\n",
       "       [0.94438769],\n",
       "       [0.78782629],\n",
       "       [0.70467434],\n",
       "       [0.65104606],\n",
       "       [0.44790417],\n",
       "       [0.67977021],\n",
       "       [0.53034543],\n",
       "       [0.78390263],\n",
       "       [0.3349028 ],\n",
       "       [0.87703401],\n",
       "       [0.70343061],\n",
       "       [0.6764536 ],\n",
       "       [0.7996565 ],\n",
       "       [0.6539629 ],\n",
       "       [0.73176979],\n",
       "       [0.60723434],\n",
       "       [0.67      ]])"
      ]
     },
     "execution_count": 42,
     "metadata": {},
     "output_type": "execute_result"
    }
   ],
   "source": [
    "y"
   ]
  },
  {
   "cell_type": "code",
   "execution_count": 43,
   "metadata": {},
   "outputs": [
    {
     "data": {
      "text/plain": [
       "0.01802884229398436"
      ]
     },
     "execution_count": 43,
     "metadata": {},
     "output_type": "execute_result"
    }
   ],
   "source": [
    "from sklearn.metrics import mean_squared_error \n",
    "mean_squared_error(y,yHat) "
   ]
  },
  {
   "cell_type": "code",
   "execution_count": 44,
   "metadata": {},
   "outputs": [
    {
     "data": {
      "image/png": "[encoded data removed]",
      "text/plain": [
       "<Figure size 432x288 with 1 Axes>"
      ]
     },
     "metadata": {
      "needs_background": "light"
     },
     "output_type": "display_data"
    }
   ],
   "source": [
    "#Plot cost during training:\n",
    "plot.plot(y)\n",
    "plot.plot(yHat)\n",
    "plot.grid(1)\n",
    "plot.legend(['y', 'yHat'])\n",
    "plot.show()"
   ]
  },
  {
   "cell_type": "code",
   "execution_count": 45,
   "metadata": {},
   "outputs": [],
   "source": [
    "prediksi=NN.forward(dataprediksi)"
   ]
  },
  {
   "cell_type": "code",
   "execution_count": 46,
   "metadata": {},
   "outputs": [
    {
     "data": {
      "text/plain": [
       "array([[0.73914265],\n",
       "       [0.7267649 ],\n",
       "       [0.66655783],\n",
       "       [0.30998357]])"
      ]
     },
     "execution_count": 46,
     "metadata": {},
     "output_type": "execute_result"
    }
   ],
   "source": [
    "prediksi"
   ]
  },
  {
   "cell_type": "code",
   "execution_count": 47,
   "metadata": {},
   "outputs": [],
   "source": [
    "from sklearn.metrics import mean_squared_error "
   ]
  },
  {
   "cell_type": "code",
   "execution_count": 48,
   "metadata": {},
   "outputs": [
    {
     "data": {
      "text/plain": [
       "0.10058054573697857"
      ]
     },
     "execution_count": 48,
     "metadata": {},
     "output_type": "execute_result"
    }
   ],
   "source": [
    "Y_true= ([\t0.67\t]\t,\n",
    "[\t0.389745184\t]\t,\n",
    "[\t0.136735812\t]\t,\n",
    "[\t0.366973156\t]\t,\n",
    "\n",
    ")\n",
    "\n",
    "\n",
    "Y_pred=prediksi\n",
    "mean_squared_error(Y_true,Y_pred) "
   ]
  },
  {
   "cell_type": "code",
   "execution_count": 49,
   "metadata": {},
   "outputs": [
    {
     "data": {
      "text/plain": [
       "array([[0.38732394, 0.79538041, 0.7996565 , 0.6539629 , 0.73176979,\n",
       "        0.60723434, 0.67      ],\n",
       "       [0.37323944, 1.        , 0.6539629 , 0.73176979, 0.60723434,\n",
       "        0.67      , 0.67      ],\n",
       "       [0.36619718, 0.70768171, 0.73176979, 0.60723434, 0.67      ,\n",
       "        0.67      , 0.38974518],\n",
       "       [0.44366197, 0.49169532, 0.60723434, 0.67      , 0.67      ,\n",
       "        0.38974518, 0.13673581]])"
      ]
     },
     "execution_count": 49,
     "metadata": {},
     "output_type": "execute_result"
    }
   ],
   "source": [
    "dataprediksi"
   ]
  },
  {
   "cell_type": "code",
   "execution_count": 50,
   "metadata": {},
   "outputs": [],
   "source": [
    "z=np.array([0.6294\t,\t0.4578])"
   ]
  },
  {
   "cell_type": "code",
   "execution_count": 51,
   "metadata": {},
   "outputs": [],
   "source": [
    "y=np.array([0.67\t,\t0.67\t,\t0.389745184\t,\t0.136735812\t,\t0.366973156\t])"
   ]
  },
  {
   "cell_type": "code",
   "execution_count": 52,
   "metadata": {},
   "outputs": [],
   "source": [
    "a=np.concatenate((z,y))"
   ]
  },
  {
   "cell_type": "code",
   "execution_count": 53,
   "metadata": {},
   "outputs": [
    {
     "data": {
      "text/plain": [
       "array([0.14991957])"
      ]
     },
     "execution_count": 53,
     "metadata": {},
     "output_type": "execute_result"
    }
   ],
   "source": [
    "#prediksi 1\n",
    "prediksi=NN.forward(a)\n",
    "prediksi"
   ]
  },
  {
   "cell_type": "code",
   "execution_count": 54,
   "metadata": {},
   "outputs": [
    {
     "data": {
      "text/plain": [
       "array([0.20645978])"
      ]
     },
     "execution_count": 54,
     "metadata": {},
     "output_type": "execute_result"
    }
   ],
   "source": [
    "#prediksi 2\n",
    "c=prediksi\n",
    "z1=np.array([0.6795\t,\t0.4539])\n",
    "b=y[1:]\n",
    "d=np.concatenate((z1,b,c))\n",
    "prediksi=NN.forward(d)\n",
    "prediksi"
   ]
  },
  {
   "cell_type": "code",
   "execution_count": 55,
   "metadata": {},
   "outputs": [
    {
     "data": {
      "text/plain": [
       "array([0.24596086])"
      ]
     },
     "execution_count": 55,
     "metadata": {},
     "output_type": "execute_result"
    }
   ],
   "source": [
    "#prediksi 3\n",
    "c=prediksi\n",
    "z2=np.array([0.5888\t,\t0.4545])\n",
    "b=y[1:]\n",
    "d=np.concatenate((z2,b,c))\n",
    "prediksi=NN.forward(d)\n",
    "prediksi"
   ]
  },
  {
   "cell_type": "code",
   "execution_count": 56,
   "metadata": {},
   "outputs": [
    {
     "data": {
      "text/plain": [
       "array([0.2760407])"
      ]
     },
     "execution_count": 56,
     "metadata": {},
     "output_type": "execute_result"
    }
   ],
   "source": [
    "#prediksi 4\n",
    "c=prediksi\n",
    "z3=np.array([0.527\t,\t0.4555])\n",
    "b=y[1:]\n",
    "d=np.concatenate((z3,b,c))\n",
    "prediksi=NN.forward(d)\n",
    "prediksi"
   ]
  },
  {
   "cell_type": "code",
   "execution_count": 57,
   "metadata": {},
   "outputs": [
    {
     "data": {
      "text/plain": [
       "array([0.29906723])"
      ]
     },
     "execution_count": 57,
     "metadata": {},
     "output_type": "execute_result"
    }
   ],
   "source": [
    "#prediksi 5\n",
    "c=prediksi\n",
    "z4=np.array([0.4745\t,\t0.4564])\n",
    "b=y[1:]\n",
    "d=np.concatenate((z4,b,c))\n",
    "prediksi=NN.forward(d)\n",
    "prediksi"
   ]
  },
  {
   "cell_type": "code",
   "execution_count": 58,
   "metadata": {},
   "outputs": [
    {
     "data": {
      "text/plain": [
       "array([0.31677813])"
      ]
     },
     "execution_count": 58,
     "metadata": {},
     "output_type": "execute_result"
    }
   ],
   "source": [
    "#prediksi 6\n",
    "c=prediksi\n",
    "z5=np.array([0.4621\t,\t0.4571])\n",
    "b=y[1:]\n",
    "d=np.concatenate((z5,b,c))\n",
    "prediksi=NN.forward(d)\n",
    "prediksi"
   ]
  }
 ],
 "metadata": {
  "kernelspec": {
   "display_name": "Python 3",
   "language": "python",
   "name": "python3"
  },
  "language_info": {
   "codemirror_mode": {
    "name": "ipython",
    "version": 3
   },
   "file_extension": ".py",
   "mimetype": "text/x-python",
   "name": "python",
   "nbconvert_exporter": "python",
   "pygments_lexer": "ipython3",
   "version": "3.7.3"
  }
 },
 "nbformat": 4,
 "nbformat_minor": 2
}
