{
 "cells": [
  {
   "cell_type": "code",
   "execution_count": 1,
   "metadata": {},
   "outputs": [
    {
     "name": "stdout",
     "output_type": "stream",
     "text": [
      "Optimization terminated successfully.\n",
      "         Current function value: 0.988123\n",
      "         Iterations: 44\n",
      "         Function evaluations: 50\n",
      "         Gradient evaluations: 50\n"
     ]
    },
    {
     "name": "stderr",
     "output_type": "stream",
     "text": [
      "NE7-1.ipynb:37: RuntimeWarning: overflow encountered in square\n",
      "  \"        self.W1 = W1\\n\",\n"
     ]
    },
    {
     "data": {
      "text/plain": [
       "<Figure size 640x480 with 1 Axes>"
      ]
     },
     "metadata": {},
     "output_type": "display_data"
    },
    {
     "name": "stderr",
     "output_type": "stream",
     "text": [
      "NE7-1.ipynb:37: RuntimeWarning: overflow encountered in square\n",
      "  \"        self.W1 = W1\\n\",\n",
      "NE7-1.ipynb:37: RuntimeWarning: invalid value encountered in true_divide\n",
      "  \"        self.W1 = W1\\n\",\n",
      "NE7-1.ipynb:37: RuntimeWarning: overflow encountered in square\n",
      "  \"        self.W1 = W1\\n\",\n",
      "NE7-1.ipynb:37: RuntimeWarning: invalid value encountered in true_divide\n",
      "  \"        self.W1 = W1\\n\",\n",
      "C:\\Users\\asus\\Anaconda3\\lib\\site-packages\\scipy\\optimize\\linesearch.py:581: RuntimeWarning: invalid value encountered in greater_equal\n",
      "  if derphi_aj*(a_hi - a_lo) >= 0:\n"
     ]
    },
    {
     "name": "stdout",
     "output_type": "stream",
     "text": [
      "Warning: Desired error not necessarily achieved due to precision loss.\n",
      "         Current function value: 0.830210\n",
      "         Iterations: 49\n",
      "         Function evaluations: 76\n",
      "         Gradient evaluations: 66\n"
     ]
    },
    {
     "data": {
      "text/plain": [
       "<Figure size 640x480 with 1 Axes>"
      ]
     },
     "metadata": {},
     "output_type": "display_data"
    },
    {
     "data": {
      "text/plain": [
       "<Figure size 640x480 with 1 Axes>"
      ]
     },
     "metadata": {},
     "output_type": "display_data"
    }
   ],
   "source": [
    "#Import code from last time\n",
    "%run NE7-1.ipynb"
   ]
  },
  {
   "cell_type": "code",
   "execution_count": 2,
   "metadata": {},
   "outputs": [
    {
     "data": {
      "text/plain": [
       "array([[0.3943662 , 0.49627058, 0.94438769, 0.78782629, 0.70467434,\n",
       "        0.65104606, 0.44790417],\n",
       "       [0.62676056, 0.47546339, 0.78782629, 0.70467434, 0.65104606,\n",
       "        0.44790417, 0.67977021],\n",
       "       [0.79577465, 0.55155979, 0.70467434, 0.65104606, 0.44790417,\n",
       "        0.67977021, 0.53034543],\n",
       "       [0.70422535, 0.50099435, 0.65104606, 0.44790417, 0.67977021,\n",
       "        0.53034543, 0.78390263],\n",
       "       [0.53521127, 0.44545859, 0.44790417, 0.67977021, 0.53034543,\n",
       "        0.78390263, 0.3349028 ],\n",
       "       [0.40140845, 0.50571167, 0.67977021, 0.53034543, 0.78390263,\n",
       "        0.3349028 , 0.87703401],\n",
       "       [0.12676056, 0.46588904, 0.53034543, 0.78390263, 0.3349028 ,\n",
       "        0.87703401, 0.70343061],\n",
       "       [0.33098592, 0.46785659, 0.78390263, 0.3349028 , 0.87703401,\n",
       "        0.70343061, 0.6764536 ],\n",
       "       [0.41549296, 0.45300142, 0.3349028 , 0.87703401, 0.70343061,\n",
       "        0.6764536 , 0.7996565 ],\n",
       "       [0.55633803, 0.43741172, 0.87703401, 0.70343061, 0.6764536 ,\n",
       "        0.7996565 , 0.6539629 ],\n",
       "       [0.5915493 , 0.3506737 , 0.70343061, 0.6764536 , 0.7996565 ,\n",
       "        0.6539629 , 0.73176979],\n",
       "       [0.51408451, 0.36403131, 0.6764536 , 0.7996565 , 0.6539629 ,\n",
       "        0.73176979, 0.60723434]])"
      ]
     },
     "execution_count": 2,
     "metadata": {},
     "output_type": "execute_result"
    }
   ],
   "source": [
    "testX"
   ]
  },
  {
   "cell_type": "code",
   "execution_count": 3,
   "metadata": {},
   "outputs": [
    {
     "data": {
      "text/plain": [
       "array([[0.67977021],\n",
       "       [0.53034543],\n",
       "       [0.78390263],\n",
       "       [0.3349028 ],\n",
       "       [0.87703401],\n",
       "       [0.70343061],\n",
       "       [0.6764536 ],\n",
       "       [0.7996565 ],\n",
       "       [0.6539629 ],\n",
       "       [0.73176979],\n",
       "       [0.60723434],\n",
       "       [0.67      ]])"
      ]
     },
     "execution_count": 3,
     "metadata": {},
     "output_type": "execute_result"
    }
   ],
   "source": [
    "testY"
   ]
  },
  {
   "cell_type": "code",
   "execution_count": 4,
   "metadata": {},
   "outputs": [
    {
     "data": {
      "text/plain": [
       "array([[0.6971831 , 0.2232566 , 0.56633945, 0.26372911, 0.3349176 ,\n",
       "        0.52901287, 0.46778898],\n",
       "       [0.97183099, 0.24197469, 0.26372911, 0.3349176 , 0.52901287,\n",
       "        0.46778898, 0.58859326],\n",
       "       [0.5915493 , 0.36573346, 0.3349176 , 0.52901287, 0.46778898,\n",
       "        0.58859326, 0.28650113],\n",
       "       [0.28169014, 0.55255899, 0.52901287, 0.46778898, 0.58859326,\n",
       "        0.28650113, 0.47320807],\n",
       "       [0.26056338, 0.37002352, 0.46778898, 0.58859326, 0.28650113,\n",
       "        0.47320807, 0.45271621],\n",
       "       [0.46478873, 0.3325317 , 0.58859326, 0.28650113, 0.47320807,\n",
       "        0.45271621, 0.38367462],\n",
       "       [0.99295775, 0.38788752, 0.28650113, 0.47320807, 0.45271621,\n",
       "        0.38367462, 0.23399813],\n",
       "       [0.67605634, 0.39836394, 0.47320807, 0.45271621, 0.38367462,\n",
       "        0.23399813, 0.35317372],\n",
       "       [0.25352113, 0.2848263 , 0.45271621, 0.38367462, 0.23399813,\n",
       "        0.35317372, 0.14062986],\n",
       "       [0.45070423, 0.18673502, 0.38367462, 0.23399813, 0.35317372,\n",
       "        0.14062986, 0.26372911],\n",
       "       [0.        , 0.18269477, 0.23399813, 0.35317372, 0.14062986,\n",
       "        0.26372911, 0.33746428],\n",
       "       [0.48591549, 0.255617  , 0.35317372, 0.14062986, 0.26372911,\n",
       "        0.33746428, 0.28799656],\n",
       "       [0.78169014, 0.23597043, 0.14062986, 0.26372911, 0.33746428,\n",
       "        0.28799656, 0.50986837],\n",
       "       [0.8028169 , 0.16413413, 0.26372911, 0.33746428, 0.28799656,\n",
       "        0.50986837, 0.50986837],\n",
       "       [0.3028169 , 0.17817663, 0.33746428, 0.28799656, 0.50986837,\n",
       "        0.50986837, 0.        ],\n",
       "       [0.47183099, 0.1639561 , 0.28799656, 0.50986837, 0.50986837,\n",
       "        0.        , 0.47639142],\n",
       "       [0.41549296, 0.13324148, 0.50986837, 0.50986837, 0.        ,\n",
       "        0.47639142, 0.44976976],\n",
       "       [0.64788732, 0.22639902, 0.50986837, 0.        , 0.47639142,\n",
       "        0.44976976, 0.46613068],\n",
       "       [0.61267606, 0.25501386, 0.        , 0.47639142, 0.44976976,\n",
       "        0.46613068, 0.5882231 ],\n",
       "       [1.        , 0.23708614, 0.47639142, 0.44976976, 0.46613068,\n",
       "        0.5882231 , 0.63635825],\n",
       "       [0.47887324, 0.23165112, 0.44976976, 0.46613068, 0.5882231 ,\n",
       "        0.63635825, 0.57313552],\n",
       "       [0.3028169 , 0.23306761, 0.46613068, 0.5882231 , 0.63635825,\n",
       "        0.57313552, 0.45643258],\n",
       "       [0.38028169, 0.22117372, 0.5882231 , 0.63635825, 0.57313552,\n",
       "        0.45643258, 0.76222627],\n",
       "       [0.5915493 , 0.22633168, 0.63635825, 0.57313552, 0.45643258,\n",
       "        0.76222627, 0.55359126],\n",
       "       [0.8028169 , 0.21869864, 0.57313552, 0.45643258, 0.76222627,\n",
       "        0.55359126, 0.71115948],\n",
       "       [0.47183099, 0.2320322 , 0.45643258, 0.76222627, 0.55359126,\n",
       "        0.71115948, 0.31546218],\n",
       "       [0.26760563, 0.23194795, 0.76222627, 0.55359126, 0.71115948,\n",
       "        0.31546218, 0.60413983],\n",
       "       [0.4084507 , 0.22154782, 0.55359126, 0.71115948, 0.31546218,\n",
       "        0.60413983, 0.83761975],\n",
       "       [0.32394366, 0.28795858, 0.71115948, 0.31546218, 0.60413983,\n",
       "        0.83761975, 0.7476273 ],\n",
       "       [0.45774648, 0.28837327, 0.31546218, 0.60413983, 0.83761975,\n",
       "        0.7476273 , 0.84718459],\n",
       "       [0.81690141, 0.29714576, 0.60413983, 0.83761975, 0.7476273 ,\n",
       "        0.84718459, 0.85934053],\n",
       "       [0.75352113, 0.24366982, 0.83761975, 0.7476273 , 0.84718459,\n",
       "        0.85934053, 0.78972149],\n",
       "       [0.43661972, 0.30743731, 0.7476273 , 0.84718459, 0.85934053,\n",
       "        0.78972149, 0.74365922],\n",
       "       [0.45774648, 0.35859786, 0.84718459, 0.85934053, 0.78972149,\n",
       "        0.74365922, 0.68135448],\n",
       "       [0.38732394, 0.37218122, 0.85934053, 0.78972149, 0.74365922,\n",
       "        0.68135448, 0.89668192],\n",
       "       [0.46478873, 0.45025948, 0.78972149, 0.74365922, 0.68135448,\n",
       "        0.89668192, 0.73519004],\n",
       "       [0.73239437, 0.44309563, 0.74365922, 0.68135448, 0.89668192,\n",
       "        0.73519004, 0.98720739],\n",
       "       [0.51408451, 0.55815598, 0.68135448, 0.89668192, 0.73519004,\n",
       "        0.98720739, 0.50502673],\n",
       "       [0.28169014, 0.60235983, 0.89668192, 0.73519004, 0.98720739,\n",
       "        0.50502673, 1.        ],\n",
       "       [0.19014085, 0.69629172, 0.73519004, 0.98720739, 0.50502673,\n",
       "        1.        , 0.93787293],\n",
       "       [0.51408451, 0.79060467, 0.98720739, 0.50502673, 1.        ,\n",
       "        0.93787293, 0.80331364],\n",
       "       [0.50704225, 0.64402223, 0.50502673, 1.        , 0.93787293,\n",
       "        0.80331364, 0.94438769],\n",
       "       [0.75352113, 0.58322864, 1.        , 0.93787293, 0.80331364,\n",
       "        0.94438769, 0.78782629],\n",
       "       [0.54225352, 0.48171501, 0.93787293, 0.80331364, 0.94438769,\n",
       "        0.78782629, 0.70467434],\n",
       "       [0.26056338, 0.44281211, 0.80331364, 0.94438769, 0.78782629,\n",
       "        0.70467434, 0.65104606]])"
      ]
     },
     "execution_count": 4,
     "metadata": {},
     "output_type": "execute_result"
    }
   ],
   "source": [
    "trainX"
   ]
  },
  {
   "cell_type": "code",
   "execution_count": 5,
   "metadata": {},
   "outputs": [
    {
     "data": {
      "text/plain": [
       "array([[0.58859326],\n",
       "       [0.28650113],\n",
       "       [0.47320807],\n",
       "       [0.45271621],\n",
       "       [0.38367462],\n",
       "       [0.23399813],\n",
       "       [0.35317372],\n",
       "       [0.14062986],\n",
       "       [0.26372911],\n",
       "       [0.33746428],\n",
       "       [0.28799656],\n",
       "       [0.50986837],\n",
       "       [0.50986837],\n",
       "       [0.        ],\n",
       "       [0.47639142],\n",
       "       [0.44976976],\n",
       "       [0.46613068],\n",
       "       [0.5882231 ],\n",
       "       [0.63635825],\n",
       "       [0.57313552],\n",
       "       [0.45643258],\n",
       "       [0.76222627],\n",
       "       [0.55359126],\n",
       "       [0.71115948],\n",
       "       [0.31546218],\n",
       "       [0.60413983],\n",
       "       [0.83761975],\n",
       "       [0.7476273 ],\n",
       "       [0.84718459],\n",
       "       [0.85934053],\n",
       "       [0.78972149],\n",
       "       [0.74365922],\n",
       "       [0.68135448],\n",
       "       [0.89668192],\n",
       "       [0.73519004],\n",
       "       [0.98720739],\n",
       "       [0.50502673],\n",
       "       [1.        ],\n",
       "       [0.93787293],\n",
       "       [0.80331364],\n",
       "       [0.94438769],\n",
       "       [0.78782629],\n",
       "       [0.70467434],\n",
       "       [0.65104606],\n",
       "       [0.44790417]])"
      ]
     },
     "execution_count": 5,
     "metadata": {},
     "output_type": "execute_result"
    }
   ],
   "source": [
    "trainY"
   ]
  },
  {
   "cell_type": "code",
   "execution_count": 6,
   "metadata": {},
   "outputs": [],
   "source": [
    "#Regularization Parameter:\n",
    "Lambda = 0.0001"
   ]
  },
  {
   "cell_type": "code",
   "execution_count": 7,
   "metadata": {},
   "outputs": [],
   "source": [
    "#Need to make changes to costFunction and costFunctionPrim:\n",
    "def costFunction(self, X, y):\n",
    "    #Compute cost for given X,y, use weights already stored in class.\n",
    "    self.yHat = self.forward(X)\n",
    "    #We don't want cost to increase with the number of examples, so normalize by dividing the error term by number of examples(X.shape[0])\n",
    "    J = 0.5*sum((y-self.yHat)**2)/X.shape[0] + (self.Lambda/2)*(sum(self.W1**2)+sum(self.W2**2))\n",
    "    return J\n",
    "\n",
    "def costFunctionPrime(self, X, y):\n",
    "    #Compute derivative with respect to W and W2 for a given X and y:\n",
    "    self.yHat = self.forward(X)\n",
    "\n",
    "    delta3 = np.multiply(-(y-self.yHat), self.sigmoidPrime(self.z3))\n",
    "    #Add gradient of regularization term:\n",
    "    dJdW2 = np.dot(self.a2.T, delta3)/X.shape[0] + self.Lambda*self.W2\n",
    "\n",
    "    delta2 = np.dot(delta3, self.W2.T)*self.sigmoidPrime(self.z2)\n",
    "    #Add gradient of regularization term:\n",
    "    dJdW1 = np.dot(X.T, delta2)/X.shape[0] + self.Lambda*self.W1\n",
    "\n",
    "    return dJdW1, dJdW2"
   ]
  },
  {
   "cell_type": "code",
   "execution_count": 8,
   "metadata": {},
   "outputs": [],
   "source": [
    "#New complete class, with changes:\n",
    "class Neural_Network(object):\n",
    "    def __init__(self, Lambda=0.0001):        \n",
    "        #Define Hyperparameters\n",
    "        self.inputLayerSize = 7\n",
    "        self.outputLayerSize = 1\n",
    "        self.hiddenLayerSize = 1\n",
    "        \n",
    "        #Weights (parameters)\n",
    "        self.W1 = np.random.randn(self.inputLayerSize,self.hiddenLayerSize)\n",
    "        self.W2 = np.random.randn(self.hiddenLayerSize,self.outputLayerSize)\n",
    "        \n",
    "        #Regularization Parameter:\n",
    "        self.Lambda = Lambda\n",
    "        \n",
    "    def forward(self, X):\n",
    "        #Propogate inputs though network\n",
    "        self.z2 = np.dot(X, self.W1)\n",
    "        self.a2 = self.sigmoid(self.z2)\n",
    "        self.z3 = np.dot(self.a2, self.W2)\n",
    "        yHat = self.sigmoid(self.z3) \n",
    "        return yHat\n",
    "        \n",
    "    def sigmoid(self, z):\n",
    "        #Apply sigmoid activation function to scalar, vector, or matrix\n",
    "        return 1/(1+np.exp(-z))\n",
    "    \n",
    "    def sigmoidPrime(self,z):\n",
    "        #Gradient of sigmoid\n",
    "        return np.exp(-z)/((1+np.exp(-z))**2)\n",
    "    \n",
    "    def costFunction(self, X, y):\n",
    "        #Compute cost for given X,y, use weights already stored in class.\n",
    "        self.yHat = self.forward(X)\n",
    "        J = 0.5*sum((y-self.yHat)**2)/X.shape[0] + (self.Lambda/2)*(np.sum(self.W1**2)+np.sum(self.W2**2))\n",
    "        return J\n",
    "        \n",
    "    def costFunctionPrime(self, X, y):\n",
    "        #Compute derivative with respect to W and W2 for a given X and y:\n",
    "        self.yHat = self.forward(X)\n",
    "        \n",
    "        delta3 = np.multiply(-(y-self.yHat), self.sigmoidPrime(self.z3))\n",
    "        #Add gradient of regularization term:\n",
    "        dJdW2 = np.dot(self.a2.T, delta3)/X.shape[0] + self.Lambda*self.W2\n",
    "        \n",
    "        delta2 = np.dot(delta3, self.W2.T)*self.sigmoidPrime(self.z2)\n",
    "        #Add gradient of regularization term:\n",
    "        dJdW1 = np.dot(X.T, delta2)/X.shape[0] + self.Lambda*self.W1\n",
    "        \n",
    "        return dJdW1, dJdW2\n",
    "    \n",
    "    def predict(self):\n",
    "        prediksi = self.forward(dataprediksi)\n",
    "        return prediksi\n",
    "    \n",
    "    #Helper functions for interacting with other methods/classes\n",
    "    def getParams(self):\n",
    "        #Get W1 and W2 Rolled into vector:\n",
    "        params = np.concatenate((self.W1.ravel(), self.W2.ravel()))\n",
    "        return params\n",
    "    \n",
    "    def setParams(self, params):\n",
    "        #Set W1 and W2 using single parameter vector:\n",
    "        W1_start = 0\n",
    "        W1_end = self.hiddenLayerSize*self.inputLayerSize\n",
    "        self.W1 = np.reshape(params[W1_start:W1_end], \\\n",
    "                             (self.inputLayerSize, self.hiddenLayerSize))\n",
    "        W2_end = W1_end + self.hiddenLayerSize*self.outputLayerSize\n",
    "        self.W2 = np.reshape(params[W1_end:W2_end], \\\n",
    "                             (self.hiddenLayerSize, self.outputLayerSize))\n",
    "        \n",
    "    def computeGradients(self, X, y):\n",
    "        dJdW1, dJdW2 = self.costFunctionPrime(X, y)\n",
    "        return np.concatenate((dJdW1.ravel(), dJdW2.ravel()))"
   ]
  },
  {
   "cell_type": "code",
   "execution_count": 9,
   "metadata": {},
   "outputs": [],
   "source": [
    "def computeNumericalGradient(N, X, y):\n",
    "    paramsInitial = N.getParams()\n",
    "    numgrad = np.zeros(paramsInitial.shape)\n",
    "    perturb = np.zeros(paramsInitial.shape)\n",
    "    e = 1e-4\n",
    "\n",
    "    for p in range(len(paramsInitial)):\n",
    "        #Set perturbation vector\n",
    "        perturb[p] = e\n",
    "        N.setParams(paramsInitial + perturb)\n",
    "        loss2 = N.costFunction(X, y)\n",
    "            \n",
    "        N.setParams(paramsInitial - perturb)\n",
    "        loss1 = N.costFunction(X, y)\n",
    "\n",
    "        #Compute Numerical Gradient\n",
    "        numgrad[p] = (loss2 - loss1) / (2*e)\n",
    "\n",
    "            #Return the value we changed to zero:\n",
    "        perturb[p] = 0\n",
    "            \n",
    "    #Return Params to original value:\n",
    "    N.setParams(paramsInitial)\n",
    "\n",
    "    return numgrad "
   ]
  },
  {
   "cell_type": "code",
   "execution_count": 10,
   "metadata": {},
   "outputs": [],
   "source": [
    "NN = Neural_Network(Lambda=0.0001)"
   ]
  },
  {
   "cell_type": "code",
   "execution_count": 11,
   "metadata": {},
   "outputs": [],
   "source": [
    "#Make sure our gradients our correct after making changes:\n",
    "numgrad = computeNumericalGradient(NN, X, y)\n",
    "grad = NN.computeGradients(X,y)"
   ]
  },
  {
   "cell_type": "code",
   "execution_count": 12,
   "metadata": {},
   "outputs": [
    {
     "data": {
      "text/plain": [
       "5.962751145807557e-10"
      ]
     },
     "execution_count": 12,
     "metadata": {},
     "output_type": "execute_result"
    }
   ],
   "source": [
    "#Should be less than 1e-8:\n",
    "np.linalg.norm(grad-numgrad)/np.linalg.norm(grad+numgrad)"
   ]
  },
  {
   "cell_type": "code",
   "execution_count": 13,
   "metadata": {},
   "outputs": [],
   "source": [
    "T = trainer(NN)"
   ]
  },
  {
   "cell_type": "code",
   "execution_count": 14,
   "metadata": {},
   "outputs": [
    {
     "name": "stdout",
     "output_type": "stream",
     "text": [
      "Optimization terminated successfully.\n",
      "         Current function value: 0.019889\n",
      "         Iterations: 56\n",
      "         Function evaluations: 63\n",
      "         Gradient evaluations: 63\n"
     ]
    }
   ],
   "source": [
    "T.train(X,y,testX,testY)"
   ]
  },
  {
   "cell_type": "code",
   "execution_count": 15,
   "metadata": {},
   "outputs": [
    {
     "data": {
      "image/png": "[encoded data removed]",
      "text/plain": [
       "<Figure size 432x288 with 1 Axes>"
      ]
     },
     "metadata": {
      "needs_background": "light"
     },
     "output_type": "display_data"
    }
   ],
   "source": [
    "plot.plot(T.J)\n",
    "plot.plot(T.testJ)\n",
    "plot.grid(1)\n",
    "plot.xlabel('Iterations')\n",
    "plot.ylabel('Cost')\n",
    "plot.legend(['Training', 'Testing'])\n",
    "plot.show()"
   ]
  },
  {
   "cell_type": "code",
   "execution_count": 16,
   "metadata": {},
   "outputs": [
    {
     "data": {
      "text/plain": [
       "[array([0.02468774]),\n",
       " array([0.02409525]),\n",
       " array([0.02400311]),\n",
       " array([0.0239825]),\n",
       " array([0.02397012]),\n",
       " array([0.02386795]),\n",
       " array([0.02370299]),\n",
       " array([0.02346874]),\n",
       " array([0.0232462]),\n",
       " array([0.02294708]),\n",
       " array([0.02287061]),\n",
       " array([0.022867]),\n",
       " array([0.02286563]),\n",
       " array([0.02286369]),\n",
       " array([0.02286018]),\n",
       " array([0.02285362]),\n",
       " array([0.02284132]),\n",
       " array([0.02281834]),\n",
       " array([0.02277588]),\n",
       " array([0.0226989]),\n",
       " array([0.02256284]),\n",
       " array([0.02233117]),\n",
       " array([0.02197141]),\n",
       " array([0.02159808]),\n",
       " array([0.02122975]),\n",
       " array([0.02063594]),\n",
       " array([0.02046024]),\n",
       " array([0.02023926]),\n",
       " array([0.02018931]),\n",
       " array([0.02018436]),\n",
       " array([0.02018318]),\n",
       " array([0.02018306]),\n",
       " array([0.02018282]),\n",
       " array([0.02018096]),\n",
       " array([0.02017814]),\n",
       " array([0.02017321]),\n",
       " array([0.02016425]),\n",
       " array([0.02014786]),\n",
       " array([0.02011848]),\n",
       " array([0.02006895]),\n",
       " array([0.01999989]),\n",
       " array([0.01995578]),\n",
       " array([0.01991413]),\n",
       " array([0.01990271]),\n",
       " array([0.01990221]),\n",
       " array([0.01990218]),\n",
       " array([0.01990215]),\n",
       " array([0.01990211]),\n",
       " array([0.01990177]),\n",
       " array([0.01990121]),\n",
       " array([0.01990023]),\n",
       " array([0.01989849]),\n",
       " array([0.01989556]),\n",
       " array([0.01989142]),\n",
       " array([0.01988936]),\n",
       " array([0.01988859])]"
      ]
     },
     "execution_count": 16,
     "metadata": {},
     "output_type": "execute_result"
    }
   ],
   "source": [
    "T.J"
   ]
  },
  {
   "cell_type": "code",
   "execution_count": 17,
   "metadata": {},
   "outputs": [
    {
     "data": {
      "text/plain": [
       "[array([0.01332119]),\n",
       " array([0.01171191]),\n",
       " array([0.01084501]),\n",
       " array([0.01103799]),\n",
       " array([0.01108438]),\n",
       " array([0.01132536]),\n",
       " array([0.01162762]),\n",
       " array([0.01199287]),\n",
       " array([0.01196961]),\n",
       " array([0.01133746]),\n",
       " array([0.01080483]),\n",
       " array([0.01079281]),\n",
       " array([0.01079393]),\n",
       " array([0.01079265]),\n",
       " array([0.01078984]),\n",
       " array([0.01078485]),\n",
       " array([0.01077599]),\n",
       " array([0.01076025]),\n",
       " array([0.01073249]),\n",
       " array([0.01068493]),\n",
       " array([0.0106087]),\n",
       " array([0.01050525]),\n",
       " array([0.01043248]),\n",
       " array([0.01051443]),\n",
       " array([0.01047945]),\n",
       " array([0.01035273]),\n",
       " array([0.01057822]),\n",
       " array([0.01006182]),\n",
       " array([0.00978843]),\n",
       " array([0.00974923]),\n",
       " array([0.00974415]),\n",
       " array([0.00974408]),\n",
       " array([0.00974385]),\n",
       " array([0.00974173]),\n",
       " array([0.0097375]),\n",
       " array([0.00972913]),\n",
       " array([0.00971377]),\n",
       " array([0.00968587]),\n",
       " array([0.00963547]),\n",
       " array([0.00954676]),\n",
       " array([0.00940083]),\n",
       " array([0.00930154]),\n",
       " array([0.00925101]),\n",
       " array([0.00928401]),\n",
       " array([0.00928487]),\n",
       " array([0.00928441]),\n",
       " array([0.00928472]),\n",
       " array([0.00928517]),\n",
       " array([0.00928922]),\n",
       " array([0.00929665]),\n",
       " array([0.00930892]),\n",
       " array([0.0093298]),\n",
       " array([0.00936715]),\n",
       " array([0.00943702]),\n",
       " array([0.00948062]),\n",
       " array([0.00948722])]"
      ]
     },
     "execution_count": 17,
     "metadata": {},
     "output_type": "execute_result"
    }
   ],
   "source": [
    "T.testJ"
   ]
  },
  {
   "cell_type": "code",
   "execution_count": 18,
   "metadata": {},
   "outputs": [
    {
     "data": {
      "text/plain": [
       "0.011149745132398822"
      ]
     },
     "execution_count": 18,
     "metadata": {},
     "output_type": "execute_result"
    }
   ],
   "source": [
    "from sklearn.metrics import mean_absolute_error\n",
    "mean_absolute_error(T.J, T.testJ)"
   ]
  },
  {
   "cell_type": "code",
   "execution_count": 19,
   "metadata": {},
   "outputs": [],
   "source": [
    "yHat=NN.forward(X)"
   ]
  },
  {
   "cell_type": "code",
   "execution_count": 20,
   "metadata": {},
   "outputs": [
    {
     "data": {
      "text/plain": [
       "array([[0.55299673],\n",
       "       [0.52135089],\n",
       "       [0.59238124],\n",
       "       [0.64039838],\n",
       "       [0.66043653],\n",
       "       [0.60325938],\n",
       "       [0.51229011],\n",
       "       [0.53170247],\n",
       "       [0.62914502],\n",
       "       [0.55935881],\n",
       "       [0.68607574],\n",
       "       [0.56703537],\n",
       "       [0.52501147],\n",
       "       [0.53643328],\n",
       "       [0.6553836 ],\n",
       "       [0.55891133],\n",
       "       [0.60154714],\n",
       "       [0.55729171],\n",
       "       [0.58275996],\n",
       "       [0.52393013],\n",
       "       [0.65001411],\n",
       "       [0.68692324],\n",
       "       [0.65846489],\n",
       "       [0.62774509],\n",
       "       [0.56522434],\n",
       "       [0.65928293],\n",
       "       [0.66863826],\n",
       "       [0.65890478],\n",
       "       [0.70570934],\n",
       "       [0.69349919],\n",
       "       [0.61155465],\n",
       "       [0.63319851],\n",
       "       [0.70059069],\n",
       "       [0.68574562],\n",
       "       [0.69416739],\n",
       "       [0.69288756],\n",
       "       [0.62387219],\n",
       "       [0.69148584],\n",
       "       [0.70379069],\n",
       "       [0.73010498],\n",
       "       [0.69215751],\n",
       "       [0.69475567],\n",
       "       [0.63578783],\n",
       "       [0.67668004],\n",
       "       [0.71456608],\n",
       "       [0.6728757 ],\n",
       "       [0.58353303],\n",
       "       [0.55514981],\n",
       "       [0.57482127],\n",
       "       [0.64370292],\n",
       "       [0.64159054],\n",
       "       [0.72597343],\n",
       "       [0.69961882],\n",
       "       [0.68794958],\n",
       "       [0.65611251],\n",
       "       [0.63982002],\n",
       "       [0.66122089]])"
      ]
     },
     "execution_count": 20,
     "metadata": {},
     "output_type": "execute_result"
    }
   ],
   "source": [
    "yHat"
   ]
  },
  {
   "cell_type": "code",
   "execution_count": 21,
   "metadata": {},
   "outputs": [
    {
     "data": {
      "text/plain": [
       "array([[0.58859326],\n",
       "       [0.28650113],\n",
       "       [0.47320807],\n",
       "       [0.45271621],\n",
       "       [0.38367462],\n",
       "       [0.23399813],\n",
       "       [0.35317372],\n",
       "       [0.14062986],\n",
       "       [0.26372911],\n",
       "       [0.33746428],\n",
       "       [0.28799656],\n",
       "       [0.50986837],\n",
       "       [0.50986837],\n",
       "       [0.        ],\n",
       "       [0.47639142],\n",
       "       [0.44976976],\n",
       "       [0.46613068],\n",
       "       [0.5882231 ],\n",
       "       [0.63635825],\n",
       "       [0.57313552],\n",
       "       [0.45643258],\n",
       "       [0.76222627],\n",
       "       [0.55359126],\n",
       "       [0.71115948],\n",
       "       [0.31546218],\n",
       "       [0.60413983],\n",
       "       [0.83761975],\n",
       "       [0.7476273 ],\n",
       "       [0.84718459],\n",
       "       [0.85934053],\n",
       "       [0.78972149],\n",
       "       [0.74365922],\n",
       "       [0.68135448],\n",
       "       [0.89668192],\n",
       "       [0.73519004],\n",
       "       [0.98720739],\n",
       "       [0.50502673],\n",
       "       [1.        ],\n",
       "       [0.93787293],\n",
       "       [0.80331364],\n",
       "       [0.94438769],\n",
       "       [0.78782629],\n",
       "       [0.70467434],\n",
       "       [0.65104606],\n",
       "       [0.44790417],\n",
       "       [0.67977021],\n",
       "       [0.53034543],\n",
       "       [0.78390263],\n",
       "       [0.3349028 ],\n",
       "       [0.87703401],\n",
       "       [0.70343061],\n",
       "       [0.6764536 ],\n",
       "       [0.7996565 ],\n",
       "       [0.6539629 ],\n",
       "       [0.73176979],\n",
       "       [0.60723434],\n",
       "       [0.67      ]])"
      ]
     },
     "execution_count": 21,
     "metadata": {},
     "output_type": "execute_result"
    }
   ],
   "source": [
    "y"
   ]
  },
  {
   "cell_type": "code",
   "execution_count": 22,
   "metadata": {},
   "outputs": [
    {
     "data": {
      "image/png": "[encoded data removed]",
      "text/plain": [
       "<Figure size 432x288 with 1 Axes>"
      ]
     },
     "metadata": {
      "needs_background": "light"
     },
     "output_type": "display_data"
    }
   ],
   "source": [
    "#Plot cost during training:\n",
    "plot.plot(y)\n",
    "plot.plot(yHat)\n",
    "plot.grid(1)\n",
    "plot.legend(['y', 'yHat'])\n",
    "plot.show()"
   ]
  },
  {
   "cell_type": "code",
   "execution_count": 23,
   "metadata": {},
   "outputs": [],
   "source": [
    "prediksi=NN.forward(dataprediksi)"
   ]
  },
  {
   "cell_type": "code",
   "execution_count": 24,
   "metadata": {},
   "outputs": [
    {
     "data": {
      "text/plain": [
       "array([[0.66773674],\n",
       "       [0.6696261 ],\n",
       "       [0.6714222 ],\n",
       "       [0.61058889]])"
      ]
     },
     "execution_count": 24,
     "metadata": {},
     "output_type": "execute_result"
    }
   ],
   "source": [
    "prediksi"
   ]
  },
  {
   "cell_type": "code",
   "execution_count": 25,
   "metadata": {},
   "outputs": [],
   "source": [
    "from sklearn.metrics import mean_squared_error "
   ]
  },
  {
   "cell_type": "code",
   "execution_count": 26,
   "metadata": {},
   "outputs": [
    {
     "data": {
      "text/plain": [
       "0.10589415062728884"
      ]
     },
     "execution_count": 26,
     "metadata": {},
     "output_type": "execute_result"
    }
   ],
   "source": [
    "Y_true= ([\t0.67\t]\t,\n",
    "[\t0.389745184\t]\t,\n",
    "[\t0.136735812\t]\t,\n",
    "[\t0.366973156\t]\t,\n",
    "\n",
    ")\n",
    "\n",
    "\n",
    "Y_pred=prediksi\n",
    "mean_squared_error(Y_true,Y_pred) "
   ]
  },
  {
   "cell_type": "code",
   "execution_count": 27,
   "metadata": {},
   "outputs": [
    {
     "data": {
      "text/plain": [
       "array([[0.38732394, 0.79538041, 0.7996565 , 0.6539629 , 0.73176979,\n",
       "        0.60723434, 0.67      ],\n",
       "       [0.37323944, 1.        , 0.6539629 , 0.73176979, 0.60723434,\n",
       "        0.67      , 0.67      ],\n",
       "       [0.36619718, 0.70768171, 0.73176979, 0.60723434, 0.67      ,\n",
       "        0.67      , 0.38974518],\n",
       "       [0.44366197, 0.49169532, 0.60723434, 0.67      , 0.67      ,\n",
       "        0.38974518, 0.13673581]])"
      ]
     },
     "execution_count": 27,
     "metadata": {},
     "output_type": "execute_result"
    }
   ],
   "source": [
    "dataprediksi"
   ]
  },
  {
   "cell_type": "code",
   "execution_count": null,
   "metadata": {},
   "outputs": [],
   "source": [
    "z=np.array([\t0.56136209\t,\t0.51319034])"
   ]
  },
  {
   "cell_type": "code",
   "execution_count": null,
   "metadata": {},
   "outputs": [],
   "source": [
    "y=np.array([0.67\t,\t0.67\t,\t0.389745184\t,\t0.136735812\t,\t0.366973156\t])"
   ]
  },
  {
   "cell_type": "code",
   "execution_count": null,
   "metadata": {},
   "outputs": [],
   "source": [
    "a=np.concatenate((z,y))"
   ]
  },
  {
   "cell_type": "code",
   "execution_count": null,
   "metadata": {},
   "outputs": [],
   "source": [
    "#prediksi 1\n",
    "prediksi=NN.forward(a)\n",
    "prediksi"
   ]
  },
  {
   "cell_type": "code",
   "execution_count": null,
   "metadata": {},
   "outputs": [],
   "source": [
    "#prediksi 2\n",
    "c=prediksi\n",
    "z1=np.array([0.59014524\t,\t0.48673204])\n",
    "b=y[1:]\n",
    "d=np.concatenate((z1,b,c))\n",
    "prediksi=NN.forward(d)\n",
    "prediksi"
   ]
  },
  {
   "cell_type": "code",
   "execution_count": null,
   "metadata": {},
   "outputs": [],
   "source": [
    "#prediksi 3\n",
    "c=prediksi\n",
    "z2=np.array([0.52737156\t,\t0.43012934])\n",
    "b=y[1:]\n",
    "d=np.concatenate((z2,b,c))\n",
    "prediksi=NN.forward(d)\n",
    "prediksi"
   ]
  },
  {
   "cell_type": "code",
   "execution_count": null,
   "metadata": {},
   "outputs": [],
   "source": [
    "#prediksi 4\n",
    "c=prediksi\n",
    "z3=np.array([0.460205\t,\t0.41357631])\n",
    "b=y[1:]\n",
    "d=np.concatenate((z3,b,c))\n",
    "prediksi=NN.forward(d)\n",
    "prediksi"
   ]
  },
  {
   "cell_type": "code",
   "execution_count": null,
   "metadata": {},
   "outputs": [],
   "source": [
    "#prediksi 5\n",
    "c=prediksi\n",
    "z4=np.array([0.40834019\t,\t0.41626853])\n",
    "b=y[1:]\n",
    "d=np.concatenate((z4,b,c))\n",
    "prediksi=NN.forward(d)\n",
    "prediksi"
   ]
  },
  {
   "cell_type": "code",
   "execution_count": null,
   "metadata": {},
   "outputs": [],
   "source": [
    "#prediksi 6\n",
    "c=prediksi\n",
    "z5=np.array([0.42786469\t,\t0.41314695])\n",
    "b=y[1:]\n",
    "d=np.concatenate((z5,b,c))\n",
    "prediksi=NN.forward(d)\n",
    "prediksi"
   ]
  }
 ],
 "metadata": {
  "kernelspec": {
   "display_name": "Python 3",
   "language": "python",
   "name": "python3"
  },
  "language_info": {
   "codemirror_mode": {
    "name": "ipython",
    "version": 3
   },
   "file_extension": ".py",
   "mimetype": "text/x-python",
   "name": "python",
   "nbconvert_exporter": "python",
   "pygments_lexer": "ipython3",
   "version": "3.7.3"
  }
 },
 "nbformat": 4,
 "nbformat_minor": 2
}
