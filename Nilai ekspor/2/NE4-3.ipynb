{
 "cells": [
  {
   "cell_type": "code",
   "execution_count": 1,
   "metadata": {},
   "outputs": [],
   "source": [
    "import numpy as np"
   ]
  },
  {
   "cell_type": "code",
   "execution_count": 2,
   "metadata": {},
   "outputs": [],
   "source": [
    "#UNTUK NILAI IMPOR\n",
    "class Neural_Network(object):\n",
    "    def __init__(self):\n",
    "        #parameters\n",
    "        self.inputLayerSize = 4\n",
    "        self.outputLayerSize = 1\n",
    "        self.hiddenLayerSize = 3\n",
    "\n",
    "        #weights\n",
    "        self.W1 = np.random.randn(self.inputLayerSize,\\\n",
    "                                 self.hiddenLayerSize)  \n",
    "        self.W2 = np.random.randn(self.hiddenLayerSize,\\\n",
    "                                 self.outputLayerSize)  \n",
    "    \n",
    "    def printw(self):\n",
    "        return self.W1\n",
    "        \n",
    "    def weight(self, W1, W2):\n",
    "        #Make an internal variable for the weight:\n",
    "        self.W1 = W1\n",
    "        self.W2 = W2\n",
    "        \n",
    "    def forward(self, X):\n",
    "        #forward propagation through our network\n",
    "        self.z2 = np.dot(X,self.W1)  \n",
    "        self.a2 = self.sigmoid(self.z2)  # activation function\n",
    "        self.z3 = np.dot(self.a2, self.W2) \n",
    "        yHat = self.sigmoid(self.z3)  # final activation function\n",
    "        return yHat\n",
    "\n",
    "    def sigmoid(self, z):\n",
    "        # activation function\n",
    "        return 1 / (1 + np.exp(-z))\n",
    "    \n",
    "    def sigmoidPrime(self,z): \n",
    "        #derivative of sigmoid     \n",
    "        return np.exp(-z)/((1+np.exp(-z))**2)\n",
    "    \n",
    "    def costFunction(self,X,y):\n",
    "        self.yHat = self.forward(X)\n",
    "        J=0.5*sum((y-self.yHat)**2)\n",
    "        return J\n",
    "    \n",
    "    def costFunctionPrime(self,X,y):\n",
    "        self.yHat=self.forward(X)\n",
    "        \n",
    "        delta3=np.multiply(-(y-self.yHat),self.sigmoidPrime(self.z3))\n",
    "        dJdW2=np.dot(self.a2.T,delta3)\n",
    "        \n",
    "        delta2=np.dot(delta3,self.W2.T)*self.sigmoidPrime(self.z2)\n",
    "        dJdW1=np.dot(X.T,delta2)\n",
    "        return dJdW1,dJdW2\n",
    "    \n",
    "    def predict(self):\n",
    "        prediksi = self.forward(dataprediksi)\n",
    "        return prediksi\n",
    "    \n",
    "    def getParams(self):\n",
    "        params=np.concatenate((self.W1.ravel(),self.W2.ravel()))\n",
    "        return params\n",
    "    \n",
    "    def setParams(self,params):\n",
    "        W1_start=0\n",
    "        W1_end=self.hiddenLayerSize*self.inputLayerSize\n",
    "        self.W1=np.reshape(params[W1_start:W1_end],\\\n",
    "                          (self.inputLayerSize,self.hiddenLayerSize))\n",
    "        W2_end=W1_end+self.hiddenLayerSize*self.outputLayerSize\n",
    "        self.W2=np.reshape(params[W1_end:W2_end],\\\n",
    "                          (self.hiddenLayerSize,self.outputLayerSize))\n",
    "        \n",
    "    def computeGradients(self, X, y):\n",
    "        dJdW1, dJdW2 = self.costFunctionPrime(X, y)\n",
    "        return np.concatenate((dJdW1.ravel(), dJdW2.ravel()))"
   ]
  },
  {
   "cell_type": "code",
   "execution_count": 3,
   "metadata": {},
   "outputs": [],
   "source": [
    "NN = Neural_Network()"
   ]
  },
  {
   "cell_type": "code",
   "execution_count": 4,
   "metadata": {},
   "outputs": [
    {
     "data": {
      "text/plain": [
       "array([[-0.4832184 , -0.94709376,  0.05683981],\n",
       "       [-2.29444876,  0.92115605, -0.74653175],\n",
       "       [-1.32110775,  1.25245942, -0.40478388],\n",
       "       [ 0.85762694, -1.85461161,  0.14350972]])"
      ]
     },
     "execution_count": 4,
     "metadata": {},
     "output_type": "execute_result"
    }
   ],
   "source": [
    "NN.W1"
   ]
  },
  {
   "cell_type": "code",
   "execution_count": 5,
   "metadata": {},
   "outputs": [
    {
     "data": {
      "text/plain": [
       "array([[-0.64040277],\n",
       "       [-0.10056558],\n",
       "       [-0.43901668]])"
      ]
     },
     "execution_count": 5,
     "metadata": {},
     "output_type": "execute_result"
    }
   ],
   "source": [
    "NN.W2"
   ]
  },
  {
   "cell_type": "code",
   "execution_count": 6,
   "metadata": {},
   "outputs": [],
   "source": [
    "#NILAI IMPOR\n",
    "X=np.array(([\t0.436619718\t,\t0.148319042\t,\t0.566339448\t,\t0.263729105\t]\t,\n",
    "[\t0.570422535\t,\t0.112113419\t,\t0.263729105\t,\t0.334917603\t]\t,\n",
    "[\t0.669014085\t,\t0.170734062\t,\t0.334917603\t,\t0.529012867\t]\t,\n",
    "[\t0.697183099\t,\t0.223256598\t,\t0.529012867\t,\t0.467788981\t]\t,\n",
    "[\t0.971830986\t,\t0.241974687\t,\t0.467788981\t,\t0.588593257\t]\t,\n",
    "[\t0.591549296\t,\t0.365733465\t,\t0.588593257\t,\t0.286501133\t]\t,\n",
    "[\t0.281690141\t,\t0.552558994\t,\t0.286501133\t,\t0.473208072\t]\t,\n",
    "[\t0.26056338\t,\t0.370023519\t,\t0.473208072\t,\t0.452716208\t]\t,\n",
    "[\t0.464788732\t,\t0.332531703\t,\t0.452716208\t,\t0.383674618\t]\t,\n",
    "[\t0.992957746\t,\t0.387887522\t,\t0.383674618\t,\t0.233998134\t]\t,\n",
    "[\t0.676056338\t,\t0.398363943\t,\t0.233998134\t,\t0.353173722\t]\t,\n",
    "[\t0.253521127\t,\t0.284826299\t,\t0.353173722\t,\t0.140629858\t]\t,\n",
    "[\t0.450704225\t,\t0.186735022\t,\t0.140629858\t,\t0.263729105\t]\t,\n",
    "[\t0\t,\t0.182694768\t,\t0.263729105\t,\t0.33746428\t]\t,\n",
    "[\t0.485915493\t,\t0.255617002\t,\t0.33746428\t,\t0.287996565\t]\t,\n",
    "[\t0.781690141\t,\t0.23597043\t,\t0.287996565\t,\t0.509868372\t]\t,\n",
    "[\t0.802816901\t,\t0.164134134\t,\t0.509868372\t,\t0.509868372\t]\t,\n",
    "[\t0.302816901\t,\t0.178176635\t,\t0.509868372\t,\t0\t]\t,\n",
    "[\t0.471830986\t,\t0.163956101\t,\t0\t,\t0.476391418\t]\t,\n",
    "[\t0.415492958\t,\t0.133241484\t,\t0.476391418\t,\t0.449769763\t]\t,\n",
    "[\t0.647887324\t,\t0.226399017\t,\t0.449769763\t,\t0.46613068\t]\t,\n",
    "[\t0.612676056\t,\t0.255013861\t,\t0.46613068\t,\t0.588223101\t]\t,\n",
    "[\t1\t,\t0.23708614\t,\t0.588223101\t,\t0.636358252\t]\t,\n",
    "[\t0.478873239\t,\t0.231651119\t,\t0.636358252\t,\t0.573135522\t]\t,\n",
    "[\t0.302816901\t,\t0.233067608\t,\t0.573135522\t,\t0.45643258\t]\t,\n",
    "[\t0.38028169\t,\t0.221173719\t,\t0.45643258\t,\t0.762226269\t]\t,\n",
    "[\t0.591549296\t,\t0.22633168\t,\t0.762226269\t,\t0.553591258\t]\t,\n",
    "[\t0.802816901\t,\t0.218698642\t,\t0.553591258\t,\t0.711159478\t]\t,\n",
    "[\t0.471830986\t,\t0.232032203\t,\t0.711159478\t,\t0.315462177\t]\t,\n",
    "[\t0.267605634\t,\t0.231947948\t,\t0.315462177\t,\t0.60413983\t]\t,\n",
    "[\t0.408450704\t,\t0.221547817\t,\t0.60413983\t,\t0.837619746\t]\t,\n",
    "[\t0.323943662\t,\t0.287958581\t,\t0.837619746\t,\t0.747627297\t]\t,\n",
    "[\t0.457746479\t,\t0.28837327\t,\t0.747627297\t,\t0.84718459\t]\t,\n",
    "[\t0.816901408\t,\t0.297145757\t,\t0.84718459\t,\t0.859340529\t]\t,\n",
    "[\t0.753521127\t,\t0.243669818\t,\t0.859340529\t,\t0.789721494\t]\t,\n",
    "[\t0.436619718\t,\t0.307437314\t,\t0.789721494\t,\t0.743659219\t]\t,\n",
    "[\t0.457746479\t,\t0.358597855\t,\t0.743659219\t,\t0.681354477\t]\t,\n",
    "[\t0.387323944\t,\t0.372181217\t,\t0.681354477\t,\t0.896681917\t]\t,\n",
    "[\t0.464788732\t,\t0.450259481\t,\t0.896681917\t,\t0.735190038\t]\t,\n",
    "[\t0.732394366\t,\t0.443095634\t,\t0.735190038\t,\t0.987207391\t]\t,\n",
    "[\t0.514084507\t,\t0.558155976\t,\t0.987207391\t,\t0.505026725\t]\t,\n",
    "[\t0.281690141\t,\t0.602359827\t,\t0.505026725\t,\t1\t]\t,\n",
    "[\t0.190140845\t,\t0.696291723\t,\t1\t,\t0.937872933\t]\t,\n",
    "[\t0.514084507\t,\t0.790604671\t,\t0.937872933\t,\t0.803313641\t]\t,\n",
    "[\t0.507042254\t,\t0.644022227\t,\t0.803313641\t,\t0.944387687\t]\t,\n",
    "[\t0.753521127\t,\t0.583228643\t,\t0.944387687\t,\t0.787826293\t]\t,\n",
    "[\t0.542253521\t,\t0.481715009\t,\t0.787826293\t,\t0.704674336\t]\t,\n",
    "[\t0.26056338\t,\t0.442812107\t,\t0.704674336\t,\t0.651046062\t]\t,\n",
    "[\t0.394366197\t,\t0.496270585\t,\t0.651046062\t,\t0.447904174\t]\t,\n",
    "[\t0.626760563\t,\t0.475463393\t,\t0.447904174\t,\t0.679770207\t]\t,\n",
    "[\t0.795774648\t,\t0.551559791\t,\t0.679770207\t,\t0.53034543\t]\t,\n",
    "[\t0.704225352\t,\t0.500994351\t,\t0.53034543\t,\t0.783902634\t]\t,\n",
    "[\t0.535211268\t,\t0.445458587\t,\t0.783902634\t,\t0.334902797\t]\t,\n",
    "[\t0.401408451\t,\t0.505711667\t,\t0.334902797\t,\t0.87703401\t]\t,\n",
    "[\t0.126760563\t,\t0.465889036\t,\t0.87703401\t,\t0.70343061\t]\t,\n",
    "[\t0.330985915\t,\t0.46785659\t,\t0.70343061\t,\t0.676453605\t]\t,\n",
    "[\t0.415492958\t,\t0.453001423\t,\t0.676453605\t,\t0.799656495\t]\t,\n",
    "[\t0.556338028\t,\t0.437411724\t,\t0.799656495\t,\t0.653962896\t]\t,\n",
    "[\t0.591549296\t,\t0.350673696\t,\t0.653962896\t,\t0.731769792\t]\t,\n",
    "[\t0.514084507\t,\t0.364031312\t,\t0.731769792\t,\t0.607234339\t]\t,\n",
    "\n",
    ")           \n",
    ",dtype=float)\n",
    "y=np.array(([\t0.334917603\t]\t,\n",
    "[\t0.529012867\t]\t,\n",
    "[\t0.467788981\t]\t,\n",
    "[\t0.588593257\t]\t,\n",
    "[\t0.286501133\t]\t,\n",
    "[\t0.473208072\t]\t,\n",
    "[\t0.452716208\t]\t,\n",
    "[\t0.383674618\t]\t,\n",
    "[\t0.233998134\t]\t,\n",
    "[\t0.353173722\t]\t,\n",
    "[\t0.140629858\t]\t,\n",
    "[\t0.263729105\t]\t,\n",
    "[\t0.33746428\t]\t,\n",
    "[\t0.287996565\t]\t,\n",
    "[\t0.509868372\t]\t,\n",
    "[\t0.509868372\t]\t,\n",
    "[\t0\t]\t,\n",
    "[\t0.476391418\t]\t,\n",
    "[\t0.449769763\t]\t,\n",
    "[\t0.46613068\t]\t,\n",
    "[\t0.588223101\t]\t,\n",
    "[\t0.636358252\t]\t,\n",
    "[\t0.573135522\t]\t,\n",
    "[\t0.45643258\t]\t,\n",
    "[\t0.762226269\t]\t,\n",
    "[\t0.553591258\t]\t,\n",
    "[\t0.711159478\t]\t,\n",
    "[\t0.315462177\t]\t,\n",
    "[\t0.60413983\t]\t,\n",
    "[\t0.837619746\t]\t,\n",
    "[\t0.747627297\t]\t,\n",
    "[\t0.84718459\t]\t,\n",
    "[\t0.859340529\t]\t,\n",
    "[\t0.789721494\t]\t,\n",
    "[\t0.743659219\t]\t,\n",
    "[\t0.681354477\t]\t,\n",
    "[\t0.896681917\t]\t,\n",
    "[\t0.735190038\t]\t,\n",
    "[\t0.987207391\t]\t,\n",
    "[\t0.505026725\t]\t,\n",
    "[\t1\t]\t,\n",
    "[\t0.937872933\t]\t,\n",
    "[\t0.803313641\t]\t,\n",
    "[\t0.944387687\t]\t,\n",
    "[\t0.787826293\t]\t,\n",
    "[\t0.704674336\t]\t,\n",
    "[\t0.651046062\t]\t,\n",
    "[\t0.447904174\t]\t,\n",
    "[\t0.679770207\t]\t,\n",
    "[\t0.53034543\t]\t,\n",
    "[\t0.783902634\t]\t,\n",
    "[\t0.334902797\t]\t,\n",
    "[\t0.87703401\t]\t,\n",
    "[\t0.70343061\t]\t,\n",
    "[\t0.676453605\t]\t,\n",
    "[\t0.799656495\t]\t,\n",
    "[\t0.653962896\t]\t,\n",
    "[\t0.731769792\t]\t,\n",
    "[\t0.607234339\t]\t,\n",
    "[\t0.67\t]\t,\n",
    "\n",
    ")\n",
    ",dtype=float)\n",
    "\n",
    "dataprediksi = np.array(([\t0.387323944\t,\t0.795380412\t,\t0.607234339\t,\t0.67\t]\t,\n",
    "[\t0.373239437\t,\t1\t,\t0.67\t,\t0.67\t]\t,\n",
    "[\t0.366197183\t,\t0.707681705\t,\t0.67\t,\t0.389745184\t]\t,\n",
    "[\t0.443661972\t,\t0.491695324\t,\t0.389745184\t,\t0.136735812\t]\t,\n",
    "\n",
    "\n",
    "\n",
    "\n",
    "), dtype=float)\n"
   ]
  },
  {
   "cell_type": "code",
   "execution_count": 7,
   "metadata": {},
   "outputs": [],
   "source": [
    "import matplotlib.pyplot as plot"
   ]
  },
  {
   "cell_type": "code",
   "execution_count": 8,
   "metadata": {},
   "outputs": [],
   "source": [
    "from scipy import optimize"
   ]
  },
  {
   "cell_type": "code",
   "execution_count": 9,
   "metadata": {},
   "outputs": [],
   "source": [
    "class trainer(object):\n",
    "    def __init__(self, N):\n",
    "        #Make Local reference to network:\n",
    "        self.N = N\n",
    "        \n",
    "    def callbackF(self, params):\n",
    "        self.N.setParams(params)\n",
    "        self.J.append(self.N.costFunction(self.X, self.y))   \n",
    "        \n",
    "    def costFunctionWrapper(self, params, X, y):\n",
    "        self.N.setParams(params)\n",
    "        cost = self.N.costFunction(X, y)\n",
    "        grad = self.N.computeGradients(X,y)\n",
    "        \n",
    "        return cost, grad\n",
    "        \n",
    "    def train(self, X, y):\n",
    "        #Make an internal variable for the callback function:\n",
    "        self.X = X\n",
    "        self.y = y\n",
    "\n",
    "        #Make empty list to store costs:\n",
    "        self.J = []\n",
    "        \n",
    "        params0 = self.N.getParams()\n",
    "\n",
    "        options = {'maxiter': 100, 'disp' : True}\n",
    "        _res = optimize.minimize(self.costFunctionWrapper, params0, jac=True, method='BFGS', \\\n",
    "                                 args=(X, y), options=options, callback=self.callbackF)\n",
    "\n",
    "        self.N.setParams(_res.x)\n",
    "        self.optimizationResults = _res"
   ]
  },
  {
   "cell_type": "code",
   "execution_count": 10,
   "metadata": {},
   "outputs": [],
   "source": [
    "NN=Neural_Network()"
   ]
  },
  {
   "cell_type": "code",
   "execution_count": 11,
   "metadata": {},
   "outputs": [],
   "source": [
    "T = trainer(NN)"
   ]
  },
  {
   "cell_type": "code",
   "execution_count": 12,
   "metadata": {},
   "outputs": [
    {
     "name": "stdout",
     "output_type": "stream",
     "text": [
      "Warning: Maximum number of iterations has been exceeded.\n",
      "         Current function value: 0.599624\n",
      "         Iterations: 100\n",
      "         Function evaluations: 104\n",
      "         Gradient evaluations: 104\n"
     ]
    }
   ],
   "source": [
    "#Train network with new data:\n",
    "T = trainer(NN)\n",
    "T.train(X,y)"
   ]
  },
  {
   "cell_type": "code",
   "execution_count": 13,
   "metadata": {},
   "outputs": [
    {
     "data": {
      "image/png": "[encoded data removed]",
      "text/plain": [
       "<Figure size 432x288 with 1 Axes>"
      ]
     },
     "metadata": {
      "needs_background": "light"
     },
     "output_type": "display_data"
    }
   ],
   "source": [
    "#Plot cost during training:\n",
    "plot.plot(T.J)\n",
    "plot.grid(1)\n",
    "plot.xlabel('Iterations')\n",
    "plot.ylabel('Cost')\n",
    "plot.show()"
   ]
  },
  {
   "cell_type": "code",
   "execution_count": 14,
   "metadata": {},
   "outputs": [],
   "source": [
    "#Training Data:\n",
    "trainX = np.array(([\t0.436619718\t,\t0.148319042\t,\t0.566339448\t,\t0.263729105\t]\t,\n",
    "[\t0.570422535\t,\t0.112113419\t,\t0.263729105\t,\t0.334917603\t]\t,\n",
    "[\t0.669014085\t,\t0.170734062\t,\t0.334917603\t,\t0.529012867\t]\t,\n",
    "[\t0.697183099\t,\t0.223256598\t,\t0.529012867\t,\t0.467788981\t]\t,\n",
    "[\t0.971830986\t,\t0.241974687\t,\t0.467788981\t,\t0.588593257\t]\t,\n",
    "[\t0.591549296\t,\t0.365733465\t,\t0.588593257\t,\t0.286501133\t]\t,\n",
    "[\t0.281690141\t,\t0.552558994\t,\t0.286501133\t,\t0.473208072\t]\t,\n",
    "[\t0.26056338\t,\t0.370023519\t,\t0.473208072\t,\t0.452716208\t]\t,\n",
    "[\t0.464788732\t,\t0.332531703\t,\t0.452716208\t,\t0.383674618\t]\t,\n",
    "[\t0.992957746\t,\t0.387887522\t,\t0.383674618\t,\t0.233998134\t]\t,\n",
    "[\t0.676056338\t,\t0.398363943\t,\t0.233998134\t,\t0.353173722\t]\t,\n",
    "[\t0.253521127\t,\t0.284826299\t,\t0.353173722\t,\t0.140629858\t]\t,\n",
    "[\t0.450704225\t,\t0.186735022\t,\t0.140629858\t,\t0.263729105\t]\t,\n",
    "[\t0\t,\t0.182694768\t,\t0.263729105\t,\t0.33746428\t]\t,\n",
    "[\t0.485915493\t,\t0.255617002\t,\t0.33746428\t,\t0.287996565\t]\t,\n",
    "[\t0.781690141\t,\t0.23597043\t,\t0.287996565\t,\t0.509868372\t]\t,\n",
    "[\t0.802816901\t,\t0.164134134\t,\t0.509868372\t,\t0.509868372\t]\t,\n",
    "[\t0.302816901\t,\t0.178176635\t,\t0.509868372\t,\t0\t]\t,\n",
    "[\t0.471830986\t,\t0.163956101\t,\t0\t,\t0.476391418\t]\t,\n",
    "[\t0.415492958\t,\t0.133241484\t,\t0.476391418\t,\t0.449769763\t]\t,\n",
    "[\t0.647887324\t,\t0.226399017\t,\t0.449769763\t,\t0.46613068\t]\t,\n",
    "[\t0.612676056\t,\t0.255013861\t,\t0.46613068\t,\t0.588223101\t]\t,\n",
    "[\t1\t,\t0.23708614\t,\t0.588223101\t,\t0.636358252\t]\t,\n",
    "[\t0.478873239\t,\t0.231651119\t,\t0.636358252\t,\t0.573135522\t]\t,\n",
    "[\t0.302816901\t,\t0.233067608\t,\t0.573135522\t,\t0.45643258\t]\t,\n",
    "[\t0.38028169\t,\t0.221173719\t,\t0.45643258\t,\t0.762226269\t]\t,\n",
    "[\t0.591549296\t,\t0.22633168\t,\t0.762226269\t,\t0.553591258\t]\t,\n",
    "[\t0.802816901\t,\t0.218698642\t,\t0.553591258\t,\t0.711159478\t]\t,\n",
    "[\t0.471830986\t,\t0.232032203\t,\t0.711159478\t,\t0.315462177\t]\t,\n",
    "[\t0.267605634\t,\t0.231947948\t,\t0.315462177\t,\t0.60413983\t]\t,\n",
    "[\t0.408450704\t,\t0.221547817\t,\t0.60413983\t,\t0.837619746\t]\t,\n",
    "[\t0.323943662\t,\t0.287958581\t,\t0.837619746\t,\t0.747627297\t]\t,\n",
    "[\t0.457746479\t,\t0.28837327\t,\t0.747627297\t,\t0.84718459\t]\t,\n",
    "[\t0.816901408\t,\t0.297145757\t,\t0.84718459\t,\t0.859340529\t]\t,\n",
    "[\t0.753521127\t,\t0.243669818\t,\t0.859340529\t,\t0.789721494\t]\t,\n",
    "[\t0.436619718\t,\t0.307437314\t,\t0.789721494\t,\t0.743659219\t]\t,\n",
    "[\t0.457746479\t,\t0.358597855\t,\t0.743659219\t,\t0.681354477\t]\t,\n",
    "[\t0.387323944\t,\t0.372181217\t,\t0.681354477\t,\t0.896681917\t]\t,\n",
    "[\t0.464788732\t,\t0.450259481\t,\t0.896681917\t,\t0.735190038\t]\t,\n",
    "[\t0.732394366\t,\t0.443095634\t,\t0.735190038\t,\t0.987207391\t]\t,\n",
    "[\t0.514084507\t,\t0.558155976\t,\t0.987207391\t,\t0.505026725\t]\t,\n",
    "[\t0.281690141\t,\t0.602359827\t,\t0.505026725\t,\t1\t]\t,\n",
    "[\t0.190140845\t,\t0.696291723\t,\t1\t,\t0.937872933\t]\t,\n",
    "[\t0.514084507\t,\t0.790604671\t,\t0.937872933\t,\t0.803313641\t]\t,\n",
    "[\t0.507042254\t,\t0.644022227\t,\t0.803313641\t,\t0.944387687\t]\t,\n",
    "[\t0.753521127\t,\t0.583228643\t,\t0.944387687\t,\t0.787826293\t]\t,\n",
    "[\t0.542253521\t,\t0.481715009\t,\t0.787826293\t,\t0.704674336\t]\t,\n",
    "\n",
    ")\n",
    ", dtype=float)\n",
    "trainY = np.array(([\t0.334917603\t]\t,\n",
    "[\t0.529012867\t]\t,\n",
    "[\t0.467788981\t]\t,\n",
    "[\t0.588593257\t]\t,\n",
    "[\t0.286501133\t]\t,\n",
    "[\t0.473208072\t]\t,\n",
    "[\t0.452716208\t]\t,\n",
    "[\t0.383674618\t]\t,\n",
    "[\t0.233998134\t]\t,\n",
    "[\t0.353173722\t]\t,\n",
    "[\t0.140629858\t]\t,\n",
    "[\t0.263729105\t]\t,\n",
    "[\t0.33746428\t]\t,\n",
    "[\t0.287996565\t]\t,\n",
    "[\t0.509868372\t]\t,\n",
    "[\t0.509868372\t]\t,\n",
    "[\t0\t]\t,\n",
    "[\t0.476391418\t]\t,\n",
    "[\t0.449769763\t]\t,\n",
    "[\t0.46613068\t]\t,\n",
    "[\t0.588223101\t]\t,\n",
    "[\t0.636358252\t]\t,\n",
    "[\t0.573135522\t]\t,\n",
    "[\t0.45643258\t]\t,\n",
    "[\t0.762226269\t]\t,\n",
    "[\t0.553591258\t]\t,\n",
    "[\t0.711159478\t]\t,\n",
    "[\t0.315462177\t]\t,\n",
    "[\t0.60413983\t]\t,\n",
    "[\t0.837619746\t]\t,\n",
    "[\t0.747627297\t]\t,\n",
    "[\t0.84718459\t]\t,\n",
    "[\t0.859340529\t]\t,\n",
    "[\t0.789721494\t]\t,\n",
    "[\t0.743659219\t]\t,\n",
    "[\t0.681354477\t]\t,\n",
    "[\t0.896681917\t]\t,\n",
    "[\t0.735190038\t]\t,\n",
    "[\t0.987207391\t]\t,\n",
    "[\t0.505026725\t]\t,\n",
    "[\t1\t]\t,\n",
    "[\t0.937872933\t]\t,\n",
    "[\t0.803313641\t]\t,\n",
    "[\t0.944387687\t]\t,\n",
    "[\t0.787826293\t]\t,\n",
    "[\t0.704674336\t]\t,\n",
    "[\t0.651046062\t]\t,\n",
    "\n",
    ")\n",
    ", dtype=float)\n",
    "\n",
    "#Testing Data:\n",
    "testX = np.array(([\t0.26056338\t,\t0.442812107\t,\t0.704674336\t,\t0.651046062\t]\t,\n",
    "[\t0.394366197\t,\t0.496270585\t,\t0.651046062\t,\t0.447904174\t]\t,\n",
    "[\t0.626760563\t,\t0.475463393\t,\t0.447904174\t,\t0.679770207\t]\t,\n",
    "[\t0.795774648\t,\t0.551559791\t,\t0.679770207\t,\t0.53034543\t]\t,\n",
    "[\t0.704225352\t,\t0.500994351\t,\t0.53034543\t,\t0.783902634\t]\t,\n",
    "[\t0.535211268\t,\t0.445458587\t,\t0.783902634\t,\t0.334902797\t]\t,\n",
    "[\t0.401408451\t,\t0.505711667\t,\t0.334902797\t,\t0.87703401\t]\t,\n",
    "[\t0.126760563\t,\t0.465889036\t,\t0.87703401\t,\t0.70343061\t]\t,\n",
    "[\t0.330985915\t,\t0.46785659\t,\t0.70343061\t,\t0.676453605\t]\t,\n",
    "[\t0.415492958\t,\t0.453001423\t,\t0.676453605\t,\t0.799656495\t]\t,\n",
    "[\t0.556338028\t,\t0.437411724\t,\t0.799656495\t,\t0.653962896\t]\t,\n",
    "[\t0.591549296\t,\t0.350673696\t,\t0.653962896\t,\t0.731769792\t]\t,\n",
    "[\t0.514084507\t,\t0.364031312\t,\t0.731769792\t,\t0.607234339\t]\t,\n",
    "\n",
    ")\n",
    ", dtype=float)\n",
    "testY = np.array(([\t0.447904174\t]\t,\n",
    "[\t0.679770207\t]\t,\n",
    "[\t0.53034543\t]\t,\n",
    "[\t0.783902634\t]\t,\n",
    "[\t0.334902797\t]\t,\n",
    "[\t0.87703401\t]\t,\n",
    "[\t0.70343061\t]\t,\n",
    "[\t0.676453605\t]\t,\n",
    "[\t0.799656495\t]\t,\n",
    "[\t0.653962896\t]\t,\n",
    "[\t0.731769792\t]\t,\n",
    "[\t0.607234339\t]\t,\n",
    "[\t0.67\t]\t,\n",
    "\n",
    ")\n",
    ", dtype=float)\n",
    "\n",
    "\n",
    "dataprediksi = np.array(([\t0.387323944\t,\t0.795380412\t,\t0.607234339\t,\t0.67\t]\t,\n",
    "[\t0.373239437\t,\t1\t,\t0.67\t,\t0.67\t]\t,\n",
    "[\t0.366197183\t,\t0.707681705\t,\t0.67\t,\t0.389745184\t]\t,\n",
    "[\t0.443661972\t,\t0.491695324\t,\t0.389745184\t,\t0.136735812\t]\t,\n",
    "\n",
    "\n",
    "\n",
    "), dtype=float)"
   ]
  },
  {
   "cell_type": "code",
   "execution_count": 15,
   "metadata": {},
   "outputs": [
    {
     "data": {
      "text/plain": [
       "array([[0.26056338, 0.44281211, 0.70467434, 0.65104606],\n",
       "       [0.3943662 , 0.49627058, 0.65104606, 0.44790417],\n",
       "       [0.62676056, 0.47546339, 0.44790417, 0.67977021],\n",
       "       [0.79577465, 0.55155979, 0.67977021, 0.53034543],\n",
       "       [0.70422535, 0.50099435, 0.53034543, 0.78390263],\n",
       "       [0.53521127, 0.44545859, 0.78390263, 0.3349028 ],\n",
       "       [0.40140845, 0.50571167, 0.3349028 , 0.87703401],\n",
       "       [0.12676056, 0.46588904, 0.87703401, 0.70343061],\n",
       "       [0.33098592, 0.46785659, 0.70343061, 0.6764536 ],\n",
       "       [0.41549296, 0.45300142, 0.6764536 , 0.7996565 ],\n",
       "       [0.55633803, 0.43741172, 0.7996565 , 0.6539629 ],\n",
       "       [0.5915493 , 0.3506737 , 0.6539629 , 0.73176979],\n",
       "       [0.51408451, 0.36403131, 0.73176979, 0.60723434]])"
      ]
     },
     "execution_count": 15,
     "metadata": {},
     "output_type": "execute_result"
    }
   ],
   "source": [
    "testX"
   ]
  },
  {
   "cell_type": "code",
   "execution_count": 16,
   "metadata": {},
   "outputs": [],
   "source": [
    "##Need to modify trainer class a bit to check testing error during training:\n",
    "class trainer(object):\n",
    "    def __init__(self, N):\n",
    "        #Make Local reference to network:\n",
    "        self.N = N\n",
    "        \n",
    "    def callbackF(self, params):\n",
    "        self.N.setParams(params)\n",
    "        self.J.append(self.N.costFunction(self.X, self.y))\n",
    "        self.testJ.append(self.N.costFunction(self.testX, self.testY))\n",
    "        \n",
    "    def costFunctionWrapper(self, params, X, y):\n",
    "        self.N.setParams(params)\n",
    "        cost = self.N.costFunction(X, y)\n",
    "        grad = self.N.computeGradients(X,y)\n",
    "        \n",
    "        return cost, grad\n",
    "        \n",
    "    def train(self, trainX, trainY, testX, testY):\n",
    "        #Make an internal variable for the callback function:\n",
    "        self.X = trainX\n",
    "        self.y = trainY\n",
    "        \n",
    "        self.testX = testX\n",
    "        self.testY = testY\n",
    "\n",
    "        #Make empty list to store training costs:\n",
    "        self.J = []\n",
    "        self.testJ = []\n",
    "        \n",
    "        params0 = self.N.getParams()\n",
    "\n",
    "        options = {'maxiter': 100, 'disp' : True}\n",
    "        _res = optimize.minimize(self.costFunctionWrapper, params0, jac=True, method='BFGS', \\\n",
    "                                 args=(trainX, trainY), options=options, callback=self.callbackF)\n",
    "\n",
    "        self.N.setParams(_res.x)\n",
    "        self.optimizationResults = _res"
   ]
  },
  {
   "cell_type": "code",
   "execution_count": 17,
   "metadata": {},
   "outputs": [
    {
     "name": "stdout",
     "output_type": "stream",
     "text": [
      "Warning: Maximum number of iterations has been exceeded.\n",
      "         Current function value: 0.455722\n",
      "         Iterations: 100\n",
      "         Function evaluations: 104\n",
      "         Gradient evaluations: 104\n"
     ]
    }
   ],
   "source": [
    "#Train network with new data:\n",
    "NN = Neural_Network()\n",
    "\n",
    "T = trainer(NN)\n",
    "T.train(trainX, trainY, testX, testY)"
   ]
  },
  {
   "cell_type": "code",
   "execution_count": 18,
   "metadata": {},
   "outputs": [
    {
     "data": {
      "image/png": "[encoded data removed]",
      "text/plain": [
       "<Figure size 432x288 with 1 Axes>"
      ]
     },
     "metadata": {
      "needs_background": "light"
     },
     "output_type": "display_data"
    }
   ],
   "source": [
    "#Plot cost during training:\n",
    "plot.plot(T.J)\n",
    "plot.plot(T.testJ)\n",
    "plot.grid(1)\n",
    "plot.xlabel('Iterations')\n",
    "plot.ylabel('Cost')\n",
    "plot.legend(['Training', 'Testing'])\n",
    "plot.show()"
   ]
  },
  {
   "cell_type": "code",
   "execution_count": 19,
   "metadata": {},
   "outputs": [
    {
     "data": {
      "text/plain": [
       "[array([1.86049822]),\n",
       " array([1.18827288]),\n",
       " array([0.90756953]),\n",
       " array([0.70376267]),\n",
       " array([0.59542933]),\n",
       " array([0.58816757]),\n",
       " array([0.58665226]),\n",
       " array([0.58472583]),\n",
       " array([0.58124698]),\n",
       " array([0.57514747]),\n",
       " array([0.56622368]),\n",
       " array([0.56180091]),\n",
       " array([0.55960918]),\n",
       " array([0.55749383]),\n",
       " array([0.55603794]),\n",
       " array([0.54432679]),\n",
       " array([0.52577837]),\n",
       " array([0.52206032]),\n",
       " array([0.52064337]),\n",
       " array([0.51831829]),\n",
       " array([0.51508499]),\n",
       " array([0.51229786]),\n",
       " array([0.50769256]),\n",
       " array([0.50052231]),\n",
       " array([0.49284573]),\n",
       " array([0.48673246]),\n",
       " array([0.4824788]),\n",
       " array([0.48069513]),\n",
       " array([0.47769276]),\n",
       " array([0.47332815]),\n",
       " array([0.47192011]),\n",
       " array([0.47169365]),\n",
       " array([0.47127154]),\n",
       " array([0.47054009]),\n",
       " array([0.46960473]),\n",
       " array([0.46920893]),\n",
       " array([0.46859552]),\n",
       " array([0.46805559]),\n",
       " array([0.46787454]),\n",
       " array([0.46780246]),\n",
       " array([0.46777297]),\n",
       " array([0.46772206]),\n",
       " array([0.4676304]),\n",
       " array([0.46746295]),\n",
       " array([0.46715516]),\n",
       " array([0.46658544]),\n",
       " array([0.46554185]),\n",
       " array([0.46470673]),\n",
       " array([0.46395083]),\n",
       " array([0.46332618]),\n",
       " array([0.46305473]),\n",
       " array([0.46297877]),\n",
       " array([0.46295204]),\n",
       " array([0.46290146]),\n",
       " array([0.46280755]),\n",
       " array([0.46264356]),\n",
       " array([0.46240505]),\n",
       " array([0.46222773]),\n",
       " array([0.46194423]),\n",
       " array([0.4614618]),\n",
       " array([0.46071128]),\n",
       " array([0.46013341]),\n",
       " array([0.46003384]),\n",
       " array([0.45998406]),\n",
       " array([0.4599612]),\n",
       " array([0.4599357]),\n",
       " array([0.4598913]),\n",
       " array([0.45981141]),\n",
       " array([0.45966777]),\n",
       " array([0.45941798]),\n",
       " array([0.45902302]),\n",
       " array([0.45860946]),\n",
       " array([0.45839351]),\n",
       " array([0.45826877]),\n",
       " array([0.45824887]),\n",
       " array([0.45824383]),\n",
       " array([0.45824048]),\n",
       " array([0.45823486]),\n",
       " array([0.45822485]),\n",
       " array([0.45820644]),\n",
       " array([0.45817228]),\n",
       " array([0.45810953]),\n",
       " array([0.45799805]),\n",
       " array([0.45781649]),\n",
       " array([0.45758987]),\n",
       " array([0.45742794]),\n",
       " array([0.45721304]),\n",
       " array([0.4571412]),\n",
       " array([0.45707887]),\n",
       " array([0.45706486]),\n",
       " array([0.45704214]),\n",
       " array([0.45700909]),\n",
       " array([0.45697148]),\n",
       " array([0.45690674]),\n",
       " array([0.45679197]),\n",
       " array([0.45659184]),\n",
       " array([0.45627431]),\n",
       " array([0.4559454]),\n",
       " array([0.45586058]),\n",
       " array([0.45572209])]"
      ]
     },
     "execution_count": 19,
     "metadata": {},
     "output_type": "execute_result"
    }
   ],
   "source": [
    "T.J"
   ]
  },
  {
   "cell_type": "code",
   "execution_count": 20,
   "metadata": {},
   "outputs": [
    {
     "data": {
      "text/plain": [
       "[array([0.56371626]),\n",
       " array([0.14768659]),\n",
       " array([0.14502815]),\n",
       " array([0.13453593]),\n",
       " array([0.16540302]),\n",
       " array([0.16064018]),\n",
       " array([0.15920268]),\n",
       " array([0.15932129]),\n",
       " array([0.16087033]),\n",
       " array([0.16524492]),\n",
       " array([0.1767533]),\n",
       " array([0.18942632]),\n",
       " array([0.19212828]),\n",
       " array([0.19225102]),\n",
       " array([0.19178016]),\n",
       " array([0.18485605]),\n",
       " array([0.17083948]),\n",
       " array([0.16827538]),\n",
       " array([0.17089786]),\n",
       " array([0.17233272]),\n",
       " array([0.17171894]),\n",
       " array([0.17039225]),\n",
       " array([0.16769791]),\n",
       " array([0.16819538]),\n",
       " array([0.17645419]),\n",
       " array([0.19481506]),\n",
       " array([0.19905716]),\n",
       " array([0.19653893]),\n",
       " array([0.19748838]),\n",
       " array([0.19806046]),\n",
       " array([0.19783894]),\n",
       " array([0.19571722]),\n",
       " array([0.1937613]),\n",
       " array([0.19056104]),\n",
       " array([0.18455824]),\n",
       " array([0.18308392]),\n",
       " array([0.18230517]),\n",
       " array([0.1822118]),\n",
       " array([0.18319527]),\n",
       " array([0.18334142]),\n",
       " array([0.18360869]),\n",
       " array([0.1833853]),\n",
       " array([0.1829726]),\n",
       " array([0.18226443]),\n",
       " array([0.181071]),\n",
       " array([0.17890602]),\n",
       " array([0.17439013]),\n",
       " array([0.16354974]),\n",
       " array([0.17068234]),\n",
       " array([0.17105886]),\n",
       " array([0.17026937]),\n",
       " array([0.17190219]),\n",
       " array([0.17193713]),\n",
       " array([0.17193352]),\n",
       " array([0.17188692]),\n",
       " array([0.17171272]),\n",
       " array([0.17122154]),\n",
       " array([0.17057274]),\n",
       " array([0.16947005]),\n",
       " array([0.16783353]),\n",
       " array([0.16553308]),\n",
       " array([0.16380538]),\n",
       " array([0.16367099]),\n",
       " array([0.16365393]),\n",
       " array([0.16368384]),\n",
       " array([0.1637181]),\n",
       " array([0.16381892]),\n",
       " array([0.16394728]),\n",
       " array([0.16419889]),\n",
       " array([0.16463054]),\n",
       " array([0.16561179]),\n",
       " array([0.16716423]),\n",
       " array([0.16757152]),\n",
       " array([0.16707819]),\n",
       " array([0.16696363]),\n",
       " array([0.16688127]),\n",
       " array([0.16698379]),\n",
       " array([0.16703489]),\n",
       " array([0.16711047]),\n",
       " array([0.16719816]),\n",
       " array([0.16734511]),\n",
       " array([0.16758501]),\n",
       " array([0.16800461]),\n",
       " array([0.16871573]),\n",
       " array([0.16983813]),\n",
       " array([0.1703702]),\n",
       " array([0.17124051]),\n",
       " array([0.17209787]),\n",
       " array([0.17220286]),\n",
       " array([0.17203804]),\n",
       " array([0.1720364]),\n",
       " array([0.17192723]),\n",
       " array([0.17219958]),\n",
       " array([0.17245828]),\n",
       " array([0.17298858]),\n",
       " array([0.17365135]),\n",
       " array([0.17454973]),\n",
       " array([0.17553209]),\n",
       " array([0.17517399]),\n",
       " array([0.17588568])]"
      ]
     },
     "execution_count": 20,
     "metadata": {},
     "output_type": "execute_result"
    }
   ],
   "source": [
    "T.testJ"
   ]
  },
  {
   "cell_type": "code",
   "execution_count": 21,
   "metadata": {},
   "outputs": [
    {
     "data": {
      "text/plain": [
       "0.33125993042184076"
      ]
     },
     "execution_count": 21,
     "metadata": {},
     "output_type": "execute_result"
    }
   ],
   "source": [
    "from sklearn.metrics import mean_absolute_error\n",
    "mean_absolute_error(T.J, T.testJ)"
   ]
  },
  {
   "cell_type": "code",
   "execution_count": 22,
   "metadata": {},
   "outputs": [],
   "source": [
    "yHat = NN.forward(X)"
   ]
  },
  {
   "cell_type": "code",
   "execution_count": 23,
   "metadata": {},
   "outputs": [
    {
     "data": {
      "text/plain": [
       "array([[0.51602788],\n",
       "       [0.37203501],\n",
       "       [0.4312942 ],\n",
       "       [0.45171583],\n",
       "       [0.44272435],\n",
       "       [0.4398218 ],\n",
       "       [0.43309055],\n",
       "       [0.60161887],\n",
       "       [0.4820156 ],\n",
       "       [0.32833573],\n",
       "       [0.31628736],\n",
       "       [0.32378641],\n",
       "       [0.3072006 ],\n",
       "       [0.27158432],\n",
       "       [0.37133107],\n",
       "       [0.40774358],\n",
       "       [0.4436503 ],\n",
       "       [0.3561018 ],\n",
       "       [0.36617837],\n",
       "       [0.55632183],\n",
       "       [0.44041543],\n",
       "       [0.49251119],\n",
       "       [0.45915921],\n",
       "       [0.65300108],\n",
       "       [0.68828103],\n",
       "       [0.66742736],\n",
       "       [0.63274704],\n",
       "       [0.48615698],\n",
       "       [0.61113087],\n",
       "       [0.6131557 ],\n",
       "       [0.73775262],\n",
       "       [0.88553628],\n",
       "       [0.78883602],\n",
       "       [0.57858613],\n",
       "       [0.60462007],\n",
       "       [0.8149948 ],\n",
       "       [0.77414738],\n",
       "       [0.82716419],\n",
       "       [0.8588087 ],\n",
       "       [0.61869574],\n",
       "       [0.81258144],\n",
       "       [0.83386592],\n",
       "       [0.80489236],\n",
       "       [0.87327965],\n",
       "       [0.85313641],\n",
       "       [0.71327408],\n",
       "       [0.75998362],\n",
       "       [0.803189  ],\n",
       "       [0.66181183],\n",
       "       [0.50784396],\n",
       "       [0.47942   ],\n",
       "       [0.53143401],\n",
       "       [0.62279392],\n",
       "       [0.64942936],\n",
       "       [0.71030412],\n",
       "       [0.81419322],\n",
       "       [0.80341279],\n",
       "       [0.73813489],\n",
       "       [0.63071091],\n",
       "       [0.70927818]])"
      ]
     },
     "execution_count": 23,
     "metadata": {},
     "output_type": "execute_result"
    }
   ],
   "source": [
    "yHat"
   ]
  },
  {
   "cell_type": "code",
   "execution_count": 24,
   "metadata": {},
   "outputs": [
    {
     "data": {
      "text/plain": [
       "array([[0.3349176 ],\n",
       "       [0.52901287],\n",
       "       [0.46778898],\n",
       "       [0.58859326],\n",
       "       [0.28650113],\n",
       "       [0.47320807],\n",
       "       [0.45271621],\n",
       "       [0.38367462],\n",
       "       [0.23399813],\n",
       "       [0.35317372],\n",
       "       [0.14062986],\n",
       "       [0.26372911],\n",
       "       [0.33746428],\n",
       "       [0.28799656],\n",
       "       [0.50986837],\n",
       "       [0.50986837],\n",
       "       [0.        ],\n",
       "       [0.47639142],\n",
       "       [0.44976976],\n",
       "       [0.46613068],\n",
       "       [0.5882231 ],\n",
       "       [0.63635825],\n",
       "       [0.57313552],\n",
       "       [0.45643258],\n",
       "       [0.76222627],\n",
       "       [0.55359126],\n",
       "       [0.71115948],\n",
       "       [0.31546218],\n",
       "       [0.60413983],\n",
       "       [0.83761975],\n",
       "       [0.7476273 ],\n",
       "       [0.84718459],\n",
       "       [0.85934053],\n",
       "       [0.78972149],\n",
       "       [0.74365922],\n",
       "       [0.68135448],\n",
       "       [0.89668192],\n",
       "       [0.73519004],\n",
       "       [0.98720739],\n",
       "       [0.50502673],\n",
       "       [1.        ],\n",
       "       [0.93787293],\n",
       "       [0.80331364],\n",
       "       [0.94438769],\n",
       "       [0.78782629],\n",
       "       [0.70467434],\n",
       "       [0.65104606],\n",
       "       [0.44790417],\n",
       "       [0.67977021],\n",
       "       [0.53034543],\n",
       "       [0.78390263],\n",
       "       [0.3349028 ],\n",
       "       [0.87703401],\n",
       "       [0.70343061],\n",
       "       [0.6764536 ],\n",
       "       [0.7996565 ],\n",
       "       [0.6539629 ],\n",
       "       [0.73176979],\n",
       "       [0.60723434],\n",
       "       [0.67      ]])"
      ]
     },
     "execution_count": 24,
     "metadata": {},
     "output_type": "execute_result"
    }
   ],
   "source": [
    "y"
   ]
  },
  {
   "cell_type": "code",
   "execution_count": 25,
   "metadata": {},
   "outputs": [
    {
     "data": {
      "text/plain": [
       "0.021053592587777992"
      ]
     },
     "execution_count": 25,
     "metadata": {},
     "output_type": "execute_result"
    }
   ],
   "source": [
    "from sklearn.metrics import mean_squared_error \n",
    "mean_squared_error(y,yHat) "
   ]
  },
  {
   "cell_type": "code",
   "execution_count": 26,
   "metadata": {},
   "outputs": [
    {
     "data": {
      "image/png": "[encoded data removed]",
      "text/plain": [
       "<Figure size 432x288 with 1 Axes>"
      ]
     },
     "metadata": {
      "needs_background": "light"
     },
     "output_type": "display_data"
    }
   ],
   "source": [
    "#Plot cost during training:\n",
    "plot.plot(y)\n",
    "plot.plot(yHat)\n",
    "plot.grid(1)\n",
    "plot.legend(['y', 'yHat'])\n",
    "plot.show()"
   ]
  },
  {
   "cell_type": "code",
   "execution_count": 27,
   "metadata": {},
   "outputs": [],
   "source": [
    "#Regularization Parameter:\n",
    "Lambda = 0.0001"
   ]
  },
  {
   "cell_type": "code",
   "execution_count": 28,
   "metadata": {},
   "outputs": [],
   "source": [
    "#Need to make changes to costFunction and costFunctionPrim:\n",
    "def costFunction(self, X, y):\n",
    "    #Compute cost for given X,y, use weights already stored in class.\n",
    "    self.yHat = self.forward(X)\n",
    "    #We don't want cost to increase with the number of examples, so normalize by dividing the error term by number of examples(X.shape[0])\n",
    "    J = 0.5*sum((y-self.yHat)**2)/X.shape[0] + (self.Lambda/2)*(sum(self.W1**2)+sum(self.W2**2))\n",
    "    return J\n",
    "\n",
    "def costFunctionPrime(self, X, y):\n",
    "    #Compute derivative with respect to W and W2 for a given X and y:\n",
    "    self.yHat = self.forward(X)\n",
    "\n",
    "    delta3 = np.multiply(-(y-self.yHat), self.sigmoidPrime(self.z3))\n",
    "    #Add gradient of regularization term:\n",
    "    dJdW2 = np.dot(self.a2.T, delta3)/X.shape[0] + self.Lambda*self.W2\n",
    "\n",
    "    delta2 = np.dot(delta3, self.W2.T)*self.sigmoidPrime(self.z2)\n",
    "    #Add gradient of regularization term:\n",
    "    dJdW1 = np.dot(X.T, delta2)/X.shape[0] + self.Lambda*self.W1\n",
    "\n",
    "    return dJdW1, dJdW2"
   ]
  },
  {
   "cell_type": "code",
   "execution_count": 29,
   "metadata": {},
   "outputs": [],
   "source": [
    "#New complete class, with changes:\n",
    "class Neural_Network(object):\n",
    "    def __init__(self, Lambda=0.0001):        \n",
    "        #Define Hyperparameters\n",
    "        self.inputLayerSize = 4\n",
    "        self.outputLayerSize = 1\n",
    "        self.hiddenLayerSize = 3\n",
    "        \n",
    "        #Weights (parameters)\n",
    "        self.W1 = np.random.randn(self.inputLayerSize,self.hiddenLayerSize)\n",
    "        self.W2 = np.random.randn(self.hiddenLayerSize,self.outputLayerSize)\n",
    "        \n",
    "        #Regularization Parameter:\n",
    "        self.Lambda = Lambda\n",
    "        \n",
    "    def forward(self, X):\n",
    "        #Propogate inputs though network\n",
    "        self.z2 = np.dot(X, self.W1)\n",
    "        self.a2 = self.sigmoid(self.z2)\n",
    "        self.z3 = np.dot(self.a2, self.W2)\n",
    "        yHat = self.sigmoid(self.z3) \n",
    "        return yHat\n",
    "        \n",
    "    def sigmoid(self, z):\n",
    "        #Apply sigmoid activation function to scalar, vector, or matrix\n",
    "        return 1/(1+np.exp(-z))\n",
    "    \n",
    "    def sigmoidPrime(self,z):\n",
    "        #Gradient of sigmoid\n",
    "        return np.exp(-z)/((1+np.exp(-z))**2)\n",
    "    \n",
    "    def costFunction(self, X, y):\n",
    "        #Compute cost for given X,y, use weights already stored in class.\n",
    "        self.yHat = self.forward(X)\n",
    "        J = 0.5*sum((y-self.yHat)**2)/X.shape[0] + (self.Lambda/2)*(np.sum(self.W1**2)+np.sum(self.W2**2))\n",
    "        return J\n",
    "        \n",
    "    def costFunctionPrime(self, X, y):\n",
    "        #Compute derivative with respect to W and W2 for a given X and y:\n",
    "        self.yHat = self.forward(X)\n",
    "        \n",
    "        delta3 = np.multiply(-(y-self.yHat), self.sigmoidPrime(self.z3))\n",
    "        #Add gradient of regularization term:\n",
    "        dJdW2 = np.dot(self.a2.T, delta3)/X.shape[0] + self.Lambda*self.W2\n",
    "        \n",
    "        delta2 = np.dot(delta3, self.W2.T)*self.sigmoidPrime(self.z2)\n",
    "        #Add gradient of regularization term:\n",
    "        dJdW1 = np.dot(X.T, delta2)/X.shape[0] + self.Lambda*self.W1\n",
    "        \n",
    "        return dJdW1, dJdW2\n",
    "    \n",
    "    def predict(self):\n",
    "        prediksi = self.forward(dataprediksi)\n",
    "        return prediksi\n",
    "    \n",
    "    #Helper functions for interacting with other methods/classes\n",
    "    def getParams(self):\n",
    "        #Get W1 and W2 Rolled into vector:\n",
    "        params = np.concatenate((self.W1.ravel(), self.W2.ravel()))\n",
    "        return params\n",
    "    \n",
    "    def setParams(self, params):\n",
    "        #Set W1 and W2 using single parameter vector:\n",
    "        W1_start = 0\n",
    "        W1_end = self.hiddenLayerSize*self.inputLayerSize\n",
    "        self.W1 = np.reshape(params[W1_start:W1_end], \\\n",
    "                             (self.inputLayerSize, self.hiddenLayerSize))\n",
    "        W2_end = W1_end + self.hiddenLayerSize*self.outputLayerSize\n",
    "        self.W2 = np.reshape(params[W1_end:W2_end], \\\n",
    "                             (self.hiddenLayerSize, self.outputLayerSize))\n",
    "        \n",
    "    def computeGradients(self, X, y):\n",
    "        dJdW1, dJdW2 = self.costFunctionPrime(X, y)\n",
    "        return np.concatenate((dJdW1.ravel(), dJdW2.ravel()))"
   ]
  },
  {
   "cell_type": "code",
   "execution_count": 30,
   "metadata": {},
   "outputs": [],
   "source": [
    "def computeNumericalGradient(N, X, y):\n",
    "    paramsInitial = N.getParams()\n",
    "    numgrad = np.zeros(paramsInitial.shape)\n",
    "    perturb = np.zeros(paramsInitial.shape)\n",
    "    e = 1e-4\n",
    "\n",
    "    for p in range(len(paramsInitial)):\n",
    "        #Set perturbation vector\n",
    "        perturb[p] = e\n",
    "        N.setParams(paramsInitial + perturb)\n",
    "        loss2 = N.costFunction(X, y)\n",
    "            \n",
    "        N.setParams(paramsInitial - perturb)\n",
    "        loss1 = N.costFunction(X, y)\n",
    "\n",
    "        #Compute Numerical Gradient\n",
    "        numgrad[p] = (loss2 - loss1) / (2*e)\n",
    "\n",
    "            #Return the value we changed to zero:\n",
    "        perturb[p] = 0\n",
    "            \n",
    "    #Return Params to original value:\n",
    "    N.setParams(paramsInitial)\n",
    "\n",
    "    return numgrad "
   ]
  },
  {
   "cell_type": "code",
   "execution_count": 31,
   "metadata": {},
   "outputs": [],
   "source": [
    "NN = Neural_Network(Lambda=0.0001)"
   ]
  },
  {
   "cell_type": "code",
   "execution_count": 32,
   "metadata": {},
   "outputs": [],
   "source": [
    "#Make sure our gradients our correct after making changes:\n",
    "numgrad = computeNumericalGradient(NN, X, y)\n",
    "grad = NN.computeGradients(X,y)"
   ]
  },
  {
   "cell_type": "code",
   "execution_count": 33,
   "metadata": {},
   "outputs": [
    {
     "data": {
      "text/plain": [
       "1.0372968866108224e-09"
      ]
     },
     "execution_count": 33,
     "metadata": {},
     "output_type": "execute_result"
    }
   ],
   "source": [
    "#Should be less than 1e-8:\n",
    "np.linalg.norm(grad-numgrad)/np.linalg.norm(grad+numgrad)"
   ]
  },
  {
   "cell_type": "code",
   "execution_count": 34,
   "metadata": {},
   "outputs": [],
   "source": [
    "T = trainer(NN)"
   ]
  },
  {
   "cell_type": "code",
   "execution_count": 35,
   "metadata": {},
   "outputs": [
    {
     "name": "stdout",
     "output_type": "stream",
     "text": [
      "Warning: Maximum number of iterations has been exceeded.\n",
      "         Current function value: 0.013214\n",
      "         Iterations: 100\n",
      "         Function evaluations: 106\n",
      "         Gradient evaluations: 106\n"
     ]
    }
   ],
   "source": [
    "T.train(X,y,testX,testY)"
   ]
  },
  {
   "cell_type": "code",
   "execution_count": 36,
   "metadata": {},
   "outputs": [
    {
     "data": {
      "image/png": "[encoded data removed]",
      "text/plain": [
       "<Figure size 432x288 with 1 Axes>"
      ]
     },
     "metadata": {
      "needs_background": "light"
     },
     "output_type": "display_data"
    }
   ],
   "source": [
    "plot.plot(T.J)\n",
    "plot.plot(T.testJ)\n",
    "plot.grid(1)\n",
    "plot.xlabel('Iterations')\n",
    "plot.ylabel('Cost')\n",
    "plot.legend(['Training', 'Testing'])\n",
    "plot.show()"
   ]
  },
  {
   "cell_type": "code",
   "execution_count": 37,
   "metadata": {},
   "outputs": [
    {
     "data": {
      "text/plain": [
       "[array([0.02972338]),\n",
       " array([0.02537967]),\n",
       " array([0.02369773]),\n",
       " array([0.02359698]),\n",
       " array([0.02010102]),\n",
       " array([0.0166785]),\n",
       " array([0.01573118]),\n",
       " array([0.01516634]),\n",
       " array([0.01502375]),\n",
       " array([0.01499228]),\n",
       " array([0.01497385]),\n",
       " array([0.01494162]),\n",
       " array([0.01488414]),\n",
       " array([0.01478332]),\n",
       " array([0.01461662]),\n",
       " array([0.0143676]),\n",
       " array([0.01407691]),\n",
       " array([0.0137079]),\n",
       " array([0.01364233]),\n",
       " array([0.01363964]),\n",
       " array([0.01363582]),\n",
       " array([0.01363224]),\n",
       " array([0.01362586]),\n",
       " array([0.01361417]),\n",
       " array([0.01359285]),\n",
       " array([0.01355535]),\n",
       " array([0.0134956]),\n",
       " array([0.01342907]),\n",
       " array([0.01338802]),\n",
       " array([0.01335282]),\n",
       " array([0.01334647]),\n",
       " array([0.01334474]),\n",
       " array([0.01334446]),\n",
       " array([0.01334437]),\n",
       " array([0.01334419]),\n",
       " array([0.01334385]),\n",
       " array([0.01334321]),\n",
       " array([0.01334201]),\n",
       " array([0.01333981]),\n",
       " array([0.01333596]),\n",
       " array([0.01332979]),\n",
       " array([0.01332112]),\n",
       " array([0.01331159]),\n",
       " array([0.01329659]),\n",
       " array([0.01327917]),\n",
       " array([0.01327327]),\n",
       " array([0.01327275]),\n",
       " array([0.0132727]),\n",
       " array([0.01327265]),\n",
       " array([0.01327255]),\n",
       " array([0.01327238]),\n",
       " array([0.01327206]),\n",
       " array([0.01327146]),\n",
       " array([0.01327037]),\n",
       " array([0.01326842]),\n",
       " array([0.01326505]),\n",
       " array([0.01325954]),\n",
       " array([0.01325111]),\n",
       " array([0.01324083]),\n",
       " array([0.01322994]),\n",
       " array([0.01322167]),\n",
       " array([0.01321872]),\n",
       " array([0.0132185]),\n",
       " array([0.01321848]),\n",
       " array([0.01321848]),\n",
       " array([0.01321847]),\n",
       " array([0.01321847]),\n",
       " array([0.01321846]),\n",
       " array([0.01321844]),\n",
       " array([0.01321841]),\n",
       " array([0.01321835]),\n",
       " array([0.01321825]),\n",
       " array([0.01321808]),\n",
       " array([0.0132178]),\n",
       " array([0.01321738]),\n",
       " array([0.01321684]),\n",
       " array([0.01321627]),\n",
       " array([0.01321599]),\n",
       " array([0.01321594]),\n",
       " array([0.01321593]),\n",
       " array([0.01321593]),\n",
       " array([0.01321593]),\n",
       " array([0.01321592]),\n",
       " array([0.01321591]),\n",
       " array([0.01321588]),\n",
       " array([0.01321583]),\n",
       " array([0.01321575]),\n",
       " array([0.01321561]),\n",
       " array([0.01321539]),\n",
       " array([0.01321513]),\n",
       " array([0.01321474]),\n",
       " array([0.01321441]),\n",
       " array([0.01321431]),\n",
       " array([0.0132143]),\n",
       " array([0.0132143]),\n",
       " array([0.01321429]),\n",
       " array([0.01321429]),\n",
       " array([0.01321428]),\n",
       " array([0.01321426]),\n",
       " array([0.01321423])]"
      ]
     },
     "execution_count": 37,
     "metadata": {},
     "output_type": "execute_result"
    }
   ],
   "source": [
    "T.J"
   ]
  },
  {
   "cell_type": "code",
   "execution_count": 38,
   "metadata": {},
   "outputs": [
    {
     "data": {
      "text/plain": [
       "[array([0.01202068]),\n",
       " array([0.01044289]),\n",
       " array([0.01266806]),\n",
       " array([0.01182131]),\n",
       " array([0.01100173]),\n",
       " array([0.0127527]),\n",
       " array([0.0116266]),\n",
       " array([0.01197067]),\n",
       " array([0.01240954]),\n",
       " array([0.01260905]),\n",
       " array([0.01273648]),\n",
       " array([0.01288105]),\n",
       " array([0.01305889]),\n",
       " array([0.01328918]),\n",
       " array([0.0135839]),\n",
       " array([0.01387194]),\n",
       " array([0.01374539]),\n",
       " array([0.01291206]),\n",
       " array([0.01246419]),\n",
       " array([0.01249164]),\n",
       " array([0.01246485]),\n",
       " array([0.01243194]),\n",
       " array([0.01239521]),\n",
       " array([0.01235102]),\n",
       " array([0.01229323]),\n",
       " array([0.01221548]),\n",
       " array([0.01211612]),\n",
       " array([0.01204247]),\n",
       " array([0.01206325]),\n",
       " array([0.0120657]),\n",
       " array([0.0121705]),\n",
       " array([0.01210357]),\n",
       " array([0.01211623]),\n",
       " array([0.01211826]),\n",
       " array([0.01212034]),\n",
       " array([0.01212315]),\n",
       " array([0.01212742]),\n",
       " array([0.01213429]),\n",
       " array([0.01214576]),\n",
       " array([0.01216539]),\n",
       " array([0.01219942]),\n",
       " array([0.01225532]),\n",
       " array([0.01230504]),\n",
       " array([0.01235355]),\n",
       " array([0.01236534]),\n",
       " array([0.01231466]),\n",
       " array([0.01229066]),\n",
       " array([0.01228621]),\n",
       " array([0.01228232]),\n",
       " array([0.01227811]),\n",
       " array([0.01227312]),\n",
       " array([0.01226663]),\n",
       " array([0.01225759]),\n",
       " array([0.01224448]),\n",
       " array([0.0122251]),\n",
       " array([0.01219666]),\n",
       " array([0.01215661]),\n",
       " array([0.01210599]),\n",
       " array([0.01206895]),\n",
       " array([0.01207098]),\n",
       " array([0.01211915]),\n",
       " array([0.01216713]),\n",
       " array([0.01217647]),\n",
       " array([0.01217623]),\n",
       " array([0.01217596]),\n",
       " array([0.01217595]),\n",
       " array([0.01217604]),\n",
       " array([0.01217622]),\n",
       " array([0.01217653]),\n",
       " array([0.01217705]),\n",
       " array([0.01217799]),\n",
       " array([0.01217967]),\n",
       " array([0.01218273]),\n",
       " array([0.01218824]),\n",
       " array([0.01219766]),\n",
       " array([0.01220962]),\n",
       " array([0.01222102]),\n",
       " array([0.01222351]),\n",
       " array([0.01222072]),\n",
       " array([0.01221939]),\n",
       " array([0.01221876]),\n",
       " array([0.01221805]),\n",
       " array([0.01221712]),\n",
       " array([0.01221573]),\n",
       " array([0.01221354]),\n",
       " array([0.0122099]),\n",
       " array([0.01220375]),\n",
       " array([0.01219334]),\n",
       " array([0.01217671]),\n",
       " array([0.01215899]),\n",
       " array([0.01214109]),\n",
       " array([0.01213588]),\n",
       " array([0.01214356]),\n",
       " array([0.01214871]),\n",
       " array([0.01215007]),\n",
       " array([0.01215153]),\n",
       " array([0.01215311]),\n",
       " array([0.01215506]),\n",
       " array([0.01215775]),\n",
       " array([0.01216172])]"
      ]
     },
     "execution_count": 38,
     "metadata": {},
     "output_type": "execute_result"
    }
   ],
   "source": [
    "T.testJ"
   ]
  },
  {
   "cell_type": "code",
   "execution_count": 39,
   "metadata": {},
   "outputs": [
    {
     "data": {
      "text/plain": [
       "0.0018047811135439545"
      ]
     },
     "execution_count": 39,
     "metadata": {},
     "output_type": "execute_result"
    }
   ],
   "source": [
    "from sklearn.metrics import mean_absolute_error\n",
    "mean_absolute_error(T.J, T.testJ)"
   ]
  },
  {
   "cell_type": "code",
   "execution_count": 40,
   "metadata": {},
   "outputs": [],
   "source": [
    "yHat=NN.forward(X)"
   ]
  },
  {
   "cell_type": "code",
   "execution_count": 41,
   "metadata": {},
   "outputs": [
    {
     "data": {
      "text/plain": [
       "array([[0.51010754],\n",
       "       [0.34324443],\n",
       "       [0.41122691],\n",
       "       [0.48769238],\n",
       "       [0.41028456],\n",
       "       [0.51482897],\n",
       "       [0.52862043],\n",
       "       [0.59096121],\n",
       "       [0.50664038],\n",
       "       [0.2985205 ],\n",
       "       [0.34343766],\n",
       "       [0.43201861],\n",
       "       [0.30632552],\n",
       "       [0.49699192],\n",
       "       [0.40561375],\n",
       "       [0.36102521],\n",
       "       [0.45045214],\n",
       "       [0.43970389],\n",
       "       [0.29408641],\n",
       "       [0.52399258],\n",
       "       [0.46331985],\n",
       "       [0.51886914],\n",
       "       [0.46975085],\n",
       "       [0.6241437 ],\n",
       "       [0.60959146],\n",
       "       [0.61727363],\n",
       "       [0.64308283],\n",
       "       [0.53099688],\n",
       "       [0.59325143],\n",
       "       [0.54254038],\n",
       "       [0.68427736],\n",
       "       [0.75816393],\n",
       "       [0.72865485],\n",
       "       [0.68994893],\n",
       "       [0.69086016],\n",
       "       [0.72886914],\n",
       "       [0.70414122],\n",
       "       [0.73640508],\n",
       "       [0.76244733],\n",
       "       [0.70768805],\n",
       "       [0.75155235],\n",
       "       [0.73859901],\n",
       "       [0.84011266],\n",
       "       [0.7946758 ],\n",
       "       [0.77541593],\n",
       "       [0.74637706],\n",
       "       [0.71742725],\n",
       "       [0.72683722],\n",
       "       [0.6479809 ],\n",
       "       [0.55919997],\n",
       "       [0.5888911 ],\n",
       "       [0.60285629],\n",
       "       [0.63812513],\n",
       "       [0.62158412],\n",
       "       [0.79270382],\n",
       "       [0.72206614],\n",
       "       [0.72033722],\n",
       "       [0.70553691],\n",
       "       [0.65325924],\n",
       "       [0.6747728 ]])"
      ]
     },
     "execution_count": 41,
     "metadata": {},
     "output_type": "execute_result"
    }
   ],
   "source": [
    "yHat"
   ]
  },
  {
   "cell_type": "code",
   "execution_count": 42,
   "metadata": {},
   "outputs": [
    {
     "data": {
      "text/plain": [
       "array([[0.3349176 ],\n",
       "       [0.52901287],\n",
       "       [0.46778898],\n",
       "       [0.58859326],\n",
       "       [0.28650113],\n",
       "       [0.47320807],\n",
       "       [0.45271621],\n",
       "       [0.38367462],\n",
       "       [0.23399813],\n",
       "       [0.35317372],\n",
       "       [0.14062986],\n",
       "       [0.26372911],\n",
       "       [0.33746428],\n",
       "       [0.28799656],\n",
       "       [0.50986837],\n",
       "       [0.50986837],\n",
       "       [0.        ],\n",
       "       [0.47639142],\n",
       "       [0.44976976],\n",
       "       [0.46613068],\n",
       "       [0.5882231 ],\n",
       "       [0.63635825],\n",
       "       [0.57313552],\n",
       "       [0.45643258],\n",
       "       [0.76222627],\n",
       "       [0.55359126],\n",
       "       [0.71115948],\n",
       "       [0.31546218],\n",
       "       [0.60413983],\n",
       "       [0.83761975],\n",
       "       [0.7476273 ],\n",
       "       [0.84718459],\n",
       "       [0.85934053],\n",
       "       [0.78972149],\n",
       "       [0.74365922],\n",
       "       [0.68135448],\n",
       "       [0.89668192],\n",
       "       [0.73519004],\n",
       "       [0.98720739],\n",
       "       [0.50502673],\n",
       "       [1.        ],\n",
       "       [0.93787293],\n",
       "       [0.80331364],\n",
       "       [0.94438769],\n",
       "       [0.78782629],\n",
       "       [0.70467434],\n",
       "       [0.65104606],\n",
       "       [0.44790417],\n",
       "       [0.67977021],\n",
       "       [0.53034543],\n",
       "       [0.78390263],\n",
       "       [0.3349028 ],\n",
       "       [0.87703401],\n",
       "       [0.70343061],\n",
       "       [0.6764536 ],\n",
       "       [0.7996565 ],\n",
       "       [0.6539629 ],\n",
       "       [0.73176979],\n",
       "       [0.60723434],\n",
       "       [0.67      ]])"
      ]
     },
     "execution_count": 42,
     "metadata": {},
     "output_type": "execute_result"
    }
   ],
   "source": [
    "y"
   ]
  },
  {
   "cell_type": "code",
   "execution_count": 43,
   "metadata": {},
   "outputs": [
    {
     "data": {
      "text/plain": [
       "0.0236450844743548"
      ]
     },
     "execution_count": 43,
     "metadata": {},
     "output_type": "execute_result"
    }
   ],
   "source": [
    "from sklearn.metrics import mean_squared_error \n",
    "mean_squared_error(y,yHat) "
   ]
  },
  {
   "cell_type": "code",
   "execution_count": 44,
   "metadata": {},
   "outputs": [
    {
     "data": {
      "image/png": "[encoded data removed]",
      "text/plain": [
       "<Figure size 432x288 with 1 Axes>"
      ]
     },
     "metadata": {
      "needs_background": "light"
     },
     "output_type": "display_data"
    }
   ],
   "source": [
    "#Plot cost during training:\n",
    "plot.plot(y)\n",
    "plot.plot(yHat)\n",
    "plot.grid(1)\n",
    "plot.legend(['y', 'yHat'])\n",
    "plot.show()"
   ]
  },
  {
   "cell_type": "code",
   "execution_count": 45,
   "metadata": {},
   "outputs": [],
   "source": [
    "prediksi=NN.forward(dataprediksi)"
   ]
  },
  {
   "cell_type": "code",
   "execution_count": 46,
   "metadata": {},
   "outputs": [
    {
     "data": {
      "text/plain": [
       "array([[0.7091906 ],\n",
       "       [0.74560679],\n",
       "       [0.66840721],\n",
       "       [0.42843711]])"
      ]
     },
     "execution_count": 46,
     "metadata": {},
     "output_type": "execute_result"
    }
   ],
   "source": [
    "prediksi"
   ]
  },
  {
   "cell_type": "code",
   "execution_count": 47,
   "metadata": {},
   "outputs": [],
   "source": [
    "from sklearn.metrics import mean_squared_error "
   ]
  },
  {
   "cell_type": "code",
   "execution_count": 48,
   "metadata": {},
   "outputs": [
    {
     "data": {
      "text/plain": [
       "0.10365642072973572"
      ]
     },
     "execution_count": 48,
     "metadata": {},
     "output_type": "execute_result"
    }
   ],
   "source": [
    "Y_true= ([\t0.67\t]\t,\n",
    "[\t0.389745184\t]\t,\n",
    "[\t0.136735812\t]\t,\n",
    "[\t0.366973156\t]\t,\n",
    "\n",
    ")\n",
    "\n",
    "\n",
    "Y_pred=prediksi\n",
    "mean_squared_error(Y_true,Y_pred) "
   ]
  },
  {
   "cell_type": "code",
   "execution_count": 49,
   "metadata": {},
   "outputs": [
    {
     "data": {
      "text/plain": [
       "array([[0.38732394, 0.79538041, 0.60723434, 0.67      ],\n",
       "       [0.37323944, 1.        , 0.67      , 0.67      ],\n",
       "       [0.36619718, 0.70768171, 0.67      , 0.38974518],\n",
       "       [0.44366197, 0.49169532, 0.38974518, 0.13673581]])"
      ]
     },
     "execution_count": 49,
     "metadata": {},
     "output_type": "execute_result"
    }
   ],
   "source": [
    "dataprediksi"
   ]
  },
  {
   "cell_type": "code",
   "execution_count": 50,
   "metadata": {},
   "outputs": [],
   "source": [
    "z=np.array([0.6294\t,\t0.4578])"
   ]
  },
  {
   "cell_type": "code",
   "execution_count": 51,
   "metadata": {},
   "outputs": [],
   "source": [
    "y=np.array([0.136735812\t,\t0.366973156\t])"
   ]
  },
  {
   "cell_type": "code",
   "execution_count": 52,
   "metadata": {},
   "outputs": [],
   "source": [
    "a=np.concatenate((z,y))"
   ]
  },
  {
   "cell_type": "code",
   "execution_count": 53,
   "metadata": {},
   "outputs": [
    {
     "data": {
      "text/plain": [
       "array([0.3223002])"
      ]
     },
     "execution_count": 53,
     "metadata": {},
     "output_type": "execute_result"
    }
   ],
   "source": [
    "#prediksi 1\n",
    "prediksi=NN.forward(a)\n",
    "prediksi"
   ]
  },
  {
   "cell_type": "code",
   "execution_count": 54,
   "metadata": {},
   "outputs": [
    {
     "data": {
      "text/plain": [
       "array([0.40393173])"
      ]
     },
     "execution_count": 54,
     "metadata": {},
     "output_type": "execute_result"
    }
   ],
   "source": [
    "#prediksi 2\n",
    "c=prediksi\n",
    "z1=np.array([0.6795\t,\t0.4539])\n",
    "b=y[1:]\n",
    "d=np.concatenate((z1,b,c))\n",
    "prediksi=NN.forward(d)\n",
    "prediksi"
   ]
  },
  {
   "cell_type": "code",
   "execution_count": 55,
   "metadata": {},
   "outputs": [
    {
     "data": {
      "text/plain": [
       "array([0.45265545])"
      ]
     },
     "execution_count": 55,
     "metadata": {},
     "output_type": "execute_result"
    }
   ],
   "source": [
    "#prediksi 3\n",
    "c=prediksi\n",
    "z2=np.array([0.5888\t,\t0.4545])\n",
    "b=y[1:]\n",
    "d=np.concatenate((z2,b,c))\n",
    "prediksi=NN.forward(d)\n",
    "prediksi"
   ]
  },
  {
   "cell_type": "code",
   "execution_count": 56,
   "metadata": {},
   "outputs": [
    {
     "data": {
      "text/plain": [
       "array([0.4840695])"
      ]
     },
     "execution_count": 56,
     "metadata": {},
     "output_type": "execute_result"
    }
   ],
   "source": [
    "#prediksi 4\n",
    "c=prediksi\n",
    "z3=np.array([0.527\t,\t0.4555])\n",
    "b=y[1:]\n",
    "d=np.concatenate((z3,b,c))\n",
    "prediksi=NN.forward(d)\n",
    "prediksi"
   ]
  },
  {
   "cell_type": "code",
   "execution_count": 57,
   "metadata": {},
   "outputs": [
    {
     "data": {
      "text/plain": [
       "array([0.50762558])"
      ]
     },
     "execution_count": 57,
     "metadata": {},
     "output_type": "execute_result"
    }
   ],
   "source": [
    "#prediksi 5\n",
    "c=prediksi\n",
    "z4=np.array([0.4745\t,\t0.4564])\n",
    "b=y[1:]\n",
    "d=np.concatenate((z4,b,c))\n",
    "prediksi=NN.forward(d)\n",
    "prediksi"
   ]
  },
  {
   "cell_type": "code",
   "execution_count": 58,
   "metadata": {},
   "outputs": [
    {
     "data": {
      "text/plain": [
       "array([0.51778033])"
      ]
     },
     "execution_count": 58,
     "metadata": {},
     "output_type": "execute_result"
    }
   ],
   "source": [
    "#prediksi 6\n",
    "c=prediksi\n",
    "z5=np.array([0.4621\t,\t0.4571])\n",
    "b=y[1:]\n",
    "d=np.concatenate((z5,b,c))\n",
    "prediksi=NN.forward(d)\n",
    "prediksi"
   ]
  }
 ],
 "metadata": {
  "kernelspec": {
   "display_name": "Python 3",
   "language": "python",
   "name": "python3"
  },
  "language_info": {
   "codemirror_mode": {
    "name": "ipython",
    "version": 3
   },
   "file_extension": ".py",
   "mimetype": "text/x-python",
   "name": "python",
   "nbconvert_exporter": "python",
   "pygments_lexer": "ipython3",
   "version": "3.7.3"
  }
 },
 "nbformat": 4,
 "nbformat_minor": 2
}
