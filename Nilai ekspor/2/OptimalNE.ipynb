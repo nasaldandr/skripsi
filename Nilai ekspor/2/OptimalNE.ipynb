{
 "cells": [
  {
   "cell_type": "code",
   "execution_count": 1,
   "metadata": {},
   "outputs": [
    {
     "name": "stdout",
     "output_type": "stream",
     "text": [
      "Warning: Maximum number of iterations has been exceeded.\n",
      "         Current function value: 0.586818\n",
      "         Iterations: 100\n",
      "         Function evaluations: 104\n",
      "         Gradient evaluations: 104\n"
     ]
    },
    {
     "data": {
      "text/plain": [
       "<Figure size 640x480 with 1 Axes>"
      ]
     },
     "metadata": {},
     "output_type": "display_data"
    },
    {
     "name": "stdout",
     "output_type": "stream",
     "text": [
      "Warning: Maximum number of iterations has been exceeded.\n",
      "         Current function value: 0.413475\n",
      "         Iterations: 100\n",
      "         Function evaluations: 105\n",
      "         Gradient evaluations: 105\n"
     ]
    },
    {
     "data": {
      "text/plain": [
       "<Figure size 640x480 with 1 Axes>"
      ]
     },
     "metadata": {},
     "output_type": "display_data"
    },
    {
     "data": {
      "text/plain": [
       "<Figure size 640x480 with 1 Axes>"
      ]
     },
     "metadata": {},
     "output_type": "display_data"
    }
   ],
   "source": [
    "#Import code from last time\n",
    "%run NE4-6.ipynb"
   ]
  },
  {
   "cell_type": "code",
   "execution_count": 2,
   "metadata": {},
   "outputs": [
    {
     "data": {
      "text/plain": [
       "array([[0.26056338, 0.44281211, 0.70467434, 0.65104606],\n",
       "       [0.3943662 , 0.49627058, 0.65104606, 0.44790417],\n",
       "       [0.62676056, 0.47546339, 0.44790417, 0.67977021],\n",
       "       [0.79577465, 0.55155979, 0.67977021, 0.53034543],\n",
       "       [0.70422535, 0.50099435, 0.53034543, 0.78390263],\n",
       "       [0.53521127, 0.44545859, 0.78390263, 0.3349028 ],\n",
       "       [0.40140845, 0.50571167, 0.3349028 , 0.87703401],\n",
       "       [0.12676056, 0.46588904, 0.87703401, 0.70343061],\n",
       "       [0.33098592, 0.46785659, 0.70343061, 0.6764536 ],\n",
       "       [0.41549296, 0.45300142, 0.6764536 , 0.7996565 ],\n",
       "       [0.55633803, 0.43741172, 0.7996565 , 0.6539629 ],\n",
       "       [0.5915493 , 0.3506737 , 0.6539629 , 0.73176979],\n",
       "       [0.51408451, 0.36403131, 0.73176979, 0.60723434]])"
      ]
     },
     "execution_count": 2,
     "metadata": {},
     "output_type": "execute_result"
    }
   ],
   "source": [
    "testX"
   ]
  },
  {
   "cell_type": "code",
   "execution_count": 3,
   "metadata": {},
   "outputs": [
    {
     "data": {
      "text/plain": [
       "array([[0.44790417],\n",
       "       [0.67977021],\n",
       "       [0.53034543],\n",
       "       [0.78390263],\n",
       "       [0.3349028 ],\n",
       "       [0.87703401],\n",
       "       [0.70343061],\n",
       "       [0.6764536 ],\n",
       "       [0.7996565 ],\n",
       "       [0.6539629 ],\n",
       "       [0.73176979],\n",
       "       [0.60723434],\n",
       "       [0.67      ]])"
      ]
     },
     "execution_count": 3,
     "metadata": {},
     "output_type": "execute_result"
    }
   ],
   "source": [
    "testY"
   ]
  },
  {
   "cell_type": "code",
   "execution_count": 4,
   "metadata": {},
   "outputs": [
    {
     "data": {
      "text/plain": [
       "array([[0.43661972, 0.14831904, 0.56633945, 0.26372911],\n",
       "       [0.57042253, 0.11211342, 0.26372911, 0.3349176 ],\n",
       "       [0.66901409, 0.17073406, 0.3349176 , 0.52901287],\n",
       "       [0.6971831 , 0.2232566 , 0.52901287, 0.46778898],\n",
       "       [0.97183099, 0.24197469, 0.46778898, 0.58859326],\n",
       "       [0.5915493 , 0.36573346, 0.58859326, 0.28650113],\n",
       "       [0.28169014, 0.55255899, 0.28650113, 0.47320807],\n",
       "       [0.26056338, 0.37002352, 0.47320807, 0.45271621],\n",
       "       [0.46478873, 0.3325317 , 0.45271621, 0.38367462],\n",
       "       [0.99295775, 0.38788752, 0.38367462, 0.23399813],\n",
       "       [0.67605634, 0.39836394, 0.23399813, 0.35317372],\n",
       "       [0.25352113, 0.2848263 , 0.35317372, 0.14062986],\n",
       "       [0.45070423, 0.18673502, 0.14062986, 0.26372911],\n",
       "       [0.        , 0.18269477, 0.26372911, 0.33746428],\n",
       "       [0.48591549, 0.255617  , 0.33746428, 0.28799656],\n",
       "       [0.78169014, 0.23597043, 0.28799656, 0.50986837],\n",
       "       [0.8028169 , 0.16413413, 0.50986837, 0.50986837],\n",
       "       [0.3028169 , 0.17817663, 0.50986837, 0.        ],\n",
       "       [0.47183099, 0.1639561 , 0.        , 0.47639142],\n",
       "       [0.41549296, 0.13324148, 0.47639142, 0.44976976],\n",
       "       [0.64788732, 0.22639902, 0.44976976, 0.46613068],\n",
       "       [0.61267606, 0.25501386, 0.46613068, 0.5882231 ],\n",
       "       [1.        , 0.23708614, 0.5882231 , 0.63635825],\n",
       "       [0.47887324, 0.23165112, 0.63635825, 0.57313552],\n",
       "       [0.3028169 , 0.23306761, 0.57313552, 0.45643258],\n",
       "       [0.38028169, 0.22117372, 0.45643258, 0.76222627],\n",
       "       [0.5915493 , 0.22633168, 0.76222627, 0.55359126],\n",
       "       [0.8028169 , 0.21869864, 0.55359126, 0.71115948],\n",
       "       [0.47183099, 0.2320322 , 0.71115948, 0.31546218],\n",
       "       [0.26760563, 0.23194795, 0.31546218, 0.60413983],\n",
       "       [0.4084507 , 0.22154782, 0.60413983, 0.83761975],\n",
       "       [0.32394366, 0.28795858, 0.83761975, 0.7476273 ],\n",
       "       [0.45774648, 0.28837327, 0.7476273 , 0.84718459],\n",
       "       [0.81690141, 0.29714576, 0.84718459, 0.85934053],\n",
       "       [0.75352113, 0.24366982, 0.85934053, 0.78972149],\n",
       "       [0.43661972, 0.30743731, 0.78972149, 0.74365922],\n",
       "       [0.45774648, 0.35859786, 0.74365922, 0.68135448],\n",
       "       [0.38732394, 0.37218122, 0.68135448, 0.89668192],\n",
       "       [0.46478873, 0.45025948, 0.89668192, 0.73519004],\n",
       "       [0.73239437, 0.44309563, 0.73519004, 0.98720739],\n",
       "       [0.51408451, 0.55815598, 0.98720739, 0.50502673],\n",
       "       [0.28169014, 0.60235983, 0.50502673, 1.        ],\n",
       "       [0.19014085, 0.69629172, 1.        , 0.93787293],\n",
       "       [0.51408451, 0.79060467, 0.93787293, 0.80331364],\n",
       "       [0.50704225, 0.64402223, 0.80331364, 0.94438769],\n",
       "       [0.75352113, 0.58322864, 0.94438769, 0.78782629],\n",
       "       [0.54225352, 0.48171501, 0.78782629, 0.70467434]])"
      ]
     },
     "execution_count": 4,
     "metadata": {},
     "output_type": "execute_result"
    }
   ],
   "source": [
    "trainX"
   ]
  },
  {
   "cell_type": "code",
   "execution_count": 5,
   "metadata": {},
   "outputs": [
    {
     "data": {
      "text/plain": [
       "array([[0.3349176 ],\n",
       "       [0.52901287],\n",
       "       [0.46778898],\n",
       "       [0.58859326],\n",
       "       [0.28650113],\n",
       "       [0.47320807],\n",
       "       [0.45271621],\n",
       "       [0.38367462],\n",
       "       [0.23399813],\n",
       "       [0.35317372],\n",
       "       [0.14062986],\n",
       "       [0.26372911],\n",
       "       [0.33746428],\n",
       "       [0.28799656],\n",
       "       [0.50986837],\n",
       "       [0.50986837],\n",
       "       [0.        ],\n",
       "       [0.47639142],\n",
       "       [0.44976976],\n",
       "       [0.46613068],\n",
       "       [0.5882231 ],\n",
       "       [0.63635825],\n",
       "       [0.57313552],\n",
       "       [0.45643258],\n",
       "       [0.76222627],\n",
       "       [0.55359126],\n",
       "       [0.71115948],\n",
       "       [0.31546218],\n",
       "       [0.60413983],\n",
       "       [0.83761975],\n",
       "       [0.7476273 ],\n",
       "       [0.84718459],\n",
       "       [0.85934053],\n",
       "       [0.78972149],\n",
       "       [0.74365922],\n",
       "       [0.68135448],\n",
       "       [0.89668192],\n",
       "       [0.73519004],\n",
       "       [0.98720739],\n",
       "       [0.50502673],\n",
       "       [1.        ],\n",
       "       [0.93787293],\n",
       "       [0.80331364],\n",
       "       [0.94438769],\n",
       "       [0.78782629],\n",
       "       [0.70467434],\n",
       "       [0.65104606]])"
      ]
     },
     "execution_count": 5,
     "metadata": {},
     "output_type": "execute_result"
    }
   ],
   "source": [
    "trainY"
   ]
  },
  {
   "cell_type": "code",
   "execution_count": 6,
   "metadata": {},
   "outputs": [],
   "source": [
    "#Regularization Parameter:\n",
    "Lambda = 0.0001"
   ]
  },
  {
   "cell_type": "code",
   "execution_count": 7,
   "metadata": {},
   "outputs": [],
   "source": [
    "#Need to make changes to costFunction and costFunctionPrim:\n",
    "def costFunction(self, X, y):\n",
    "    #Compute cost for given X,y, use weights already stored in class.\n",
    "    self.yHat = self.forward(X)\n",
    "    #We don't want cost to increase with the number of examples, so normalize by dividing the error term by number of examples(X.shape[0])\n",
    "    J = 0.5*sum((y-self.yHat)**2)/X.shape[0] + (self.Lambda/2)*(sum(self.W1**2)+sum(self.W2**2))\n",
    "    return J\n",
    "\n",
    "def costFunctionPrime(self, X, y):\n",
    "    #Compute derivative with respect to W and W2 for a given X and y:\n",
    "    self.yHat = self.forward(X)\n",
    "\n",
    "    delta3 = np.multiply(-(y-self.yHat), self.sigmoidPrime(self.z3))\n",
    "    #Add gradient of regularization term:\n",
    "    dJdW2 = np.dot(self.a2.T, delta3)/X.shape[0] + self.Lambda*self.W2\n",
    "\n",
    "    delta2 = np.dot(delta3, self.W2.T)*self.sigmoidPrime(self.z2)\n",
    "    #Add gradient of regularization term:\n",
    "    dJdW1 = np.dot(X.T, delta2)/X.shape[0] + self.Lambda*self.W1\n",
    "\n",
    "    return dJdW1, dJdW2"
   ]
  },
  {
   "cell_type": "code",
   "execution_count": 8,
   "metadata": {},
   "outputs": [],
   "source": [
    "#New complete class, with changes:\n",
    "class Neural_Network(object):\n",
    "    def __init__(self, Lambda=0.0001):        \n",
    "        #Define Hyperparameters\n",
    "        self.inputLayerSize = 4\n",
    "        self.outputLayerSize = 1\n",
    "        self.hiddenLayerSize = 6\n",
    "        \n",
    "        #Weights (parameters)\n",
    "        self.W1 = np.random.randn(self.inputLayerSize,self.hiddenLayerSize)\n",
    "        self.W2 = np.random.randn(self.hiddenLayerSize,self.outputLayerSize)\n",
    "        \n",
    "        #Regularization Parameter:\n",
    "        self.Lambda = Lambda\n",
    "        \n",
    "    def forward(self, X):\n",
    "        #Propogate inputs though network\n",
    "        self.z2 = np.dot(X, self.W1)\n",
    "        self.a2 = self.sigmoid(self.z2)\n",
    "        self.z3 = np.dot(self.a2, self.W2)\n",
    "        yHat = self.sigmoid(self.z3) \n",
    "        return yHat\n",
    "        \n",
    "    def sigmoid(self, z):\n",
    "        #Apply sigmoid activation function to scalar, vector, or matrix\n",
    "        return 1/(1+np.exp(-z))\n",
    "    \n",
    "    def sigmoidPrime(self,z):\n",
    "        #Gradient of sigmoid\n",
    "        return np.exp(-z)/((1+np.exp(-z))**2)\n",
    "    \n",
    "    def costFunction(self, X, y):\n",
    "        #Compute cost for given X,y, use weights already stored in class.\n",
    "        self.yHat = self.forward(X)\n",
    "        J = 0.5*sum((y-self.yHat)**2)/X.shape[0] + (self.Lambda/2)*(np.sum(self.W1**2)+np.sum(self.W2**2))\n",
    "        return J\n",
    "        \n",
    "    def costFunctionPrime(self, X, y):\n",
    "        #Compute derivative with respect to W and W2 for a given X and y:\n",
    "        self.yHat = self.forward(X)\n",
    "        \n",
    "        delta3 = np.multiply(-(y-self.yHat), self.sigmoidPrime(self.z3))\n",
    "        #Add gradient of regularization term:\n",
    "        dJdW2 = np.dot(self.a2.T, delta3)/X.shape[0] + self.Lambda*self.W2\n",
    "        \n",
    "        delta2 = np.dot(delta3, self.W2.T)*self.sigmoidPrime(self.z2)\n",
    "        #Add gradient of regularization term:\n",
    "        dJdW1 = np.dot(X.T, delta2)/X.shape[0] + self.Lambda*self.W1\n",
    "        \n",
    "        return dJdW1, dJdW2\n",
    "    \n",
    "    def predict(self):\n",
    "        prediksi = self.forward(dataprediksi)\n",
    "        return prediksi\n",
    "    \n",
    "    #Helper functions for interacting with other methods/classes\n",
    "    def getParams(self):\n",
    "        #Get W1 and W2 Rolled into vector:\n",
    "        params = np.concatenate((self.W1.ravel(), self.W2.ravel()))\n",
    "        return params\n",
    "    \n",
    "    def setParams(self, params):\n",
    "        #Set W1 and W2 using single parameter vector:\n",
    "        W1_start = 0\n",
    "        W1_end = self.hiddenLayerSize*self.inputLayerSize\n",
    "        self.W1 = np.reshape(params[W1_start:W1_end], \\\n",
    "                             (self.inputLayerSize, self.hiddenLayerSize))\n",
    "        W2_end = W1_end + self.hiddenLayerSize*self.outputLayerSize\n",
    "        self.W2 = np.reshape(params[W1_end:W2_end], \\\n",
    "                             (self.hiddenLayerSize, self.outputLayerSize))\n",
    "        \n",
    "    def computeGradients(self, X, y):\n",
    "        dJdW1, dJdW2 = self.costFunctionPrime(X, y)\n",
    "        return np.concatenate((dJdW1.ravel(), dJdW2.ravel()))"
   ]
  },
  {
   "cell_type": "code",
   "execution_count": 9,
   "metadata": {},
   "outputs": [],
   "source": [
    "def computeNumericalGradient(N, X, y):\n",
    "    paramsInitial = N.getParams()\n",
    "    numgrad = np.zeros(paramsInitial.shape)\n",
    "    perturb = np.zeros(paramsInitial.shape)\n",
    "    e = 1e-4\n",
    "\n",
    "    for p in range(len(paramsInitial)):\n",
    "        #Set perturbation vector\n",
    "        perturb[p] = e\n",
    "        N.setParams(paramsInitial + perturb)\n",
    "        loss2 = N.costFunction(X, y)\n",
    "            \n",
    "        N.setParams(paramsInitial - perturb)\n",
    "        loss1 = N.costFunction(X, y)\n",
    "\n",
    "        #Compute Numerical Gradient\n",
    "        numgrad[p] = (loss2 - loss1) / (2*e)\n",
    "\n",
    "            #Return the value we changed to zero:\n",
    "        perturb[p] = 0\n",
    "            \n",
    "    #Return Params to original value:\n",
    "    N.setParams(paramsInitial)\n",
    "\n",
    "    return numgrad "
   ]
  },
  {
   "cell_type": "code",
   "execution_count": 10,
   "metadata": {},
   "outputs": [],
   "source": [
    "NN = Neural_Network(Lambda=0.0001)"
   ]
  },
  {
   "cell_type": "code",
   "execution_count": 11,
   "metadata": {},
   "outputs": [],
   "source": [
    "#Make sure our gradients our correct after making changes:\n",
    "numgrad = computeNumericalGradient(NN, X, y)\n",
    "grad = NN.computeGradients(X,y)"
   ]
  },
  {
   "cell_type": "code",
   "execution_count": 12,
   "metadata": {},
   "outputs": [
    {
     "data": {
      "text/plain": [
       "4.1210944284385943e-10"
      ]
     },
     "execution_count": 12,
     "metadata": {},
     "output_type": "execute_result"
    }
   ],
   "source": [
    "#Should be less than 1e-8:\n",
    "np.linalg.norm(grad-numgrad)/np.linalg.norm(grad+numgrad)"
   ]
  },
  {
   "cell_type": "code",
   "execution_count": 13,
   "metadata": {},
   "outputs": [],
   "source": [
    "T = trainer(NN)"
   ]
  },
  {
   "cell_type": "code",
   "execution_count": 14,
   "metadata": {},
   "outputs": [
    {
     "name": "stdout",
     "output_type": "stream",
     "text": [
      "Warning: Maximum number of iterations has been exceeded.\n",
      "         Current function value: 0.013092\n",
      "         Iterations: 100\n",
      "         Function evaluations: 103\n",
      "         Gradient evaluations: 103\n"
     ]
    }
   ],
   "source": [
    "T.train(X,y,testX,testY)"
   ]
  },
  {
   "cell_type": "code",
   "execution_count": 15,
   "metadata": {},
   "outputs": [
    {
     "data": {
      "image/png": "[encoded data removed]",
      "text/plain": [
       "<Figure size 432x288 with 1 Axes>"
      ]
     },
     "metadata": {
      "needs_background": "light"
     },
     "output_type": "display_data"
    }
   ],
   "source": [
    "plot.plot(T.J)\n",
    "plot.plot(T.testJ)\n",
    "plot.grid(1)\n",
    "plot.xlabel('Iterations')\n",
    "plot.ylabel('Cost')\n",
    "plot.legend(['Training', 'Testing'])\n",
    "plot.show()"
   ]
  },
  {
   "cell_type": "code",
   "execution_count": 16,
   "metadata": {},
   "outputs": [
    {
     "data": {
      "text/plain": [
       "[array([0.02425514]),\n",
       " array([0.02373605]),\n",
       " array([0.02305737]),\n",
       " array([0.02294559]),\n",
       " array([0.02288043]),\n",
       " array([0.02275797]),\n",
       " array([0.02252567]),\n",
       " array([0.0220883]),\n",
       " array([0.02128402]),\n",
       " array([0.01987258]),\n",
       " array([0.01756828]),\n",
       " array([0.01486364]),\n",
       " array([0.01479555]),\n",
       " array([0.01478858]),\n",
       " array([0.01477585]),\n",
       " array([0.01475418]),\n",
       " array([0.01473176]),\n",
       " array([0.01472869]),\n",
       " array([0.01472441]),\n",
       " array([0.01472137]),\n",
       " array([0.01471601]),\n",
       " array([0.01470616]),\n",
       " array([0.0146879]),\n",
       " array([0.0146541]),\n",
       " array([0.01459246]),\n",
       " array([0.01448466]),\n",
       " array([0.01432829]),\n",
       " array([0.01426852]),\n",
       " array([0.01425389]),\n",
       " array([0.01422717]),\n",
       " array([0.01418089]),\n",
       " array([0.0141284]),\n",
       " array([0.01412482]),\n",
       " array([0.01412302]),\n",
       " array([0.0141197]),\n",
       " array([0.01411345]),\n",
       " array([0.01410182]),\n",
       " array([0.01408062]),\n",
       " array([0.01404367]),\n",
       " array([0.01398511]),\n",
       " array([0.01391793]),\n",
       " array([0.01386092]),\n",
       " array([0.01377593]),\n",
       " array([0.01372355]),\n",
       " array([0.01371522]),\n",
       " array([0.01371352]),\n",
       " array([0.01371302]),\n",
       " array([0.0137089]),\n",
       " array([0.0137019]),\n",
       " array([0.01368966]),\n",
       " array([0.01366791]),\n",
       " array([0.01362947]),\n",
       " array([0.01356384]),\n",
       " array([0.01346485]),\n",
       " array([0.01339176]),\n",
       " array([0.01336269]),\n",
       " array([0.01334572]),\n",
       " array([0.01334417]),\n",
       " array([0.01334394]),\n",
       " array([0.0133437]),\n",
       " array([0.01334335]),\n",
       " array([0.01334272]),\n",
       " array([0.01334152]),\n",
       " array([0.01333927]),\n",
       " array([0.01333508]),\n",
       " array([0.01332747]),\n",
       " array([0.0133142]),\n",
       " array([0.0132928]),\n",
       " array([0.01326336]),\n",
       " array([0.01323866]),\n",
       " array([0.01320703]),\n",
       " array([0.01319099]),\n",
       " array([0.01318781]),\n",
       " array([0.01318759]),\n",
       " array([0.0131875]),\n",
       " array([0.01318735]),\n",
       " array([0.01318706]),\n",
       " array([0.01318654]),\n",
       " array([0.01318556]),\n",
       " array([0.01318377]),\n",
       " array([0.01318061]),\n",
       " array([0.01317521]),\n",
       " array([0.01316641]),\n",
       " array([0.01315265]),\n",
       " array([0.0131328]),\n",
       " array([0.0131141]),\n",
       " array([0.01310451]),\n",
       " array([0.01310046]),\n",
       " array([0.01309976]),\n",
       " array([0.01309968]),\n",
       " array([0.01309963]),\n",
       " array([0.0130996]),\n",
       " array([0.01309955]),\n",
       " array([0.01309945]),\n",
       " array([0.01309925]),\n",
       " array([0.0130989]),\n",
       " array([0.01309825]),\n",
       " array([0.01309712]),\n",
       " array([0.01309526]),\n",
       " array([0.01309233])]"
      ]
     },
     "execution_count": 16,
     "metadata": {},
     "output_type": "execute_result"
    }
   ],
   "source": [
    "T.J"
   ]
  },
  {
   "cell_type": "code",
   "execution_count": 17,
   "metadata": {},
   "outputs": [
    {
     "data": {
      "text/plain": [
       "[array([0.01810196]),\n",
       " array([0.01704213]),\n",
       " array([0.01522279]),\n",
       " array([0.0146938]),\n",
       " array([0.01453966]),\n",
       " array([0.01440686]),\n",
       " array([0.01427789]),\n",
       " array([0.01416518]),\n",
       " array([0.01413017]),\n",
       " array([0.01431926]),\n",
       " array([0.01478976]),\n",
       " array([0.01427251]),\n",
       " array([0.01417715]),\n",
       " array([0.01417757]),\n",
       " array([0.01419377]),\n",
       " array([0.01424122]),\n",
       " array([0.014379]),\n",
       " array([0.01437452]),\n",
       " array([0.01437322]),\n",
       " array([0.0143714]),\n",
       " array([0.01436844]),\n",
       " array([0.01436243]),\n",
       " array([0.01435069]),\n",
       " array([0.01432753]),\n",
       " array([0.01427991]),\n",
       " array([0.01417379]),\n",
       " array([0.01392582]),\n",
       " array([0.01375271]),\n",
       " array([0.01369062]),\n",
       " array([0.01371061]),\n",
       " array([0.01373446]),\n",
       " array([0.01374581]),\n",
       " array([0.0137168]),\n",
       " array([0.01370522]),\n",
       " array([0.01368769]),\n",
       " array([0.01365824]),\n",
       " array([0.01360523]),\n",
       " array([0.01350751]),\n",
       " array([0.01332695]),\n",
       " array([0.01300079]),\n",
       " array([0.01255109]),\n",
       " array([0.01222265]),\n",
       " array([0.01180094]),\n",
       " array([0.01148706]),\n",
       " array([0.01161338]),\n",
       " array([0.01168859]),\n",
       " array([0.0116987]),\n",
       " array([0.01174282]),\n",
       " array([0.01179039]),\n",
       " array([0.01184205]),\n",
       " array([0.01190398]),\n",
       " array([0.01198413]),\n",
       " array([0.0120991]),\n",
       " array([0.01229171]),\n",
       " array([0.01247206]),\n",
       " array([0.01248144]),\n",
       " array([0.01240939]),\n",
       " array([0.01238895]),\n",
       " array([0.01238936]),\n",
       " array([0.01241098]),\n",
       " array([0.01242662]),\n",
       " array([0.01244585]),\n",
       " array([0.01246885]),\n",
       " array([0.01249921]),\n",
       " array([0.01254159]),\n",
       " array([0.01260235]),\n",
       " array([0.01268895]),\n",
       " array([0.01280438]),\n",
       " array([0.01291748]),\n",
       " array([0.01289418]),\n",
       " array([0.01269872]),\n",
       " array([0.01245995]),\n",
       " array([0.01233386]),\n",
       " array([0.01231706]),\n",
       " array([0.01231501]),\n",
       " array([0.01231353]),\n",
       " array([0.01231172]),\n",
       " array([0.01230911]),\n",
       " array([0.012305]),\n",
       " array([0.01229824]),\n",
       " array([0.0122868]),\n",
       " array([0.01226736]),\n",
       " array([0.01223528]),\n",
       " array([0.01218723]),\n",
       " array([0.01213259]),\n",
       " array([0.012117]),\n",
       " array([0.01212536]),\n",
       " array([0.01216071]),\n",
       " array([0.01216481]),\n",
       " array([0.01218183]),\n",
       " array([0.01217542]),\n",
       " array([0.01217299]),\n",
       " array([0.01217066]),\n",
       " array([0.0121679]),\n",
       " array([0.01216424]),\n",
       " array([0.01215903]),\n",
       " array([0.01215146]),\n",
       " array([0.01214059]),\n",
       " array([0.01212618]),\n",
       " array([0.01211133])]"
      ]
     },
     "execution_count": 17,
     "metadata": {},
     "output_type": "execute_result"
    }
   ],
   "source": [
    "T.testJ"
   ]
  },
  {
   "cell_type": "code",
   "execution_count": 18,
   "metadata": {},
   "outputs": [
    {
     "data": {
      "text/plain": [
       "0.001555896445557261"
      ]
     },
     "execution_count": 18,
     "metadata": {},
     "output_type": "execute_result"
    }
   ],
   "source": [
    "from sklearn.metrics import mean_absolute_error\n",
    "mean_absolute_error(T.J, T.testJ)"
   ]
  },
  {
   "cell_type": "code",
   "execution_count": 19,
   "metadata": {},
   "outputs": [],
   "source": [
    "yHat=NN.forward(X)"
   ]
  },
  {
   "cell_type": "code",
   "execution_count": 20,
   "metadata": {},
   "outputs": [
    {
     "data": {
      "text/plain": [
       "array([[0.50058857],\n",
       "       [0.33920055],\n",
       "       [0.40835775],\n",
       "       [0.48328967],\n",
       "       [0.41448764],\n",
       "       [0.51110931],\n",
       "       [0.53041161],\n",
       "       [0.58682842],\n",
       "       [0.50263434],\n",
       "       [0.30493133],\n",
       "       [0.34680852],\n",
       "       [0.42895464],\n",
       "       [0.30507179],\n",
       "       [0.49126009],\n",
       "       [0.4022207 ],\n",
       "       [0.36261309],\n",
       "       [0.44746945],\n",
       "       [0.43286874],\n",
       "       [0.29392323],\n",
       "       [0.51478642],\n",
       "       [0.45923619],\n",
       "       [0.51491733],\n",
       "       [0.47307959],\n",
       "       [0.61744786],\n",
       "       [0.60193885],\n",
       "       [0.6111187 ],\n",
       "       [0.6369354 ],\n",
       "       [0.52968334],\n",
       "       [0.58502558],\n",
       "       [0.53622766],\n",
       "       [0.67934375],\n",
       "       [0.75576899],\n",
       "       [0.72636963],\n",
       "       [0.69082912],\n",
       "       [0.68934299],\n",
       "       [0.72616544],\n",
       "       [0.70146707],\n",
       "       [0.73551561],\n",
       "       [0.76318912],\n",
       "       [0.71128093],\n",
       "       [0.75276414],\n",
       "       [0.74135509],\n",
       "       [0.84706388],\n",
       "       [0.80131941],\n",
       "       [0.78043165],\n",
       "       [0.7510758 ],\n",
       "       [0.71779621],\n",
       "       [0.72541612],\n",
       "       [0.6462432 ],\n",
       "       [0.56062602],\n",
       "       [0.59164877],\n",
       "       [0.60587898],\n",
       "       [0.63496498],\n",
       "       [0.62260132],\n",
       "       [0.79421295],\n",
       "       [0.72117902],\n",
       "       [0.72005472],\n",
       "       [0.70472283],\n",
       "       [0.65116558],\n",
       "       [0.67161332]])"
      ]
     },
     "execution_count": 20,
     "metadata": {},
     "output_type": "execute_result"
    }
   ],
   "source": [
    "yHat"
   ]
  },
  {
   "cell_type": "code",
   "execution_count": 21,
   "metadata": {},
   "outputs": [
    {
     "data": {
      "text/plain": [
       "array([[0.3349176 ],\n",
       "       [0.52901287],\n",
       "       [0.46778898],\n",
       "       [0.58859326],\n",
       "       [0.28650113],\n",
       "       [0.47320807],\n",
       "       [0.45271621],\n",
       "       [0.38367462],\n",
       "       [0.23399813],\n",
       "       [0.35317372],\n",
       "       [0.14062986],\n",
       "       [0.26372911],\n",
       "       [0.33746428],\n",
       "       [0.28799656],\n",
       "       [0.50986837],\n",
       "       [0.50986837],\n",
       "       [0.        ],\n",
       "       [0.47639142],\n",
       "       [0.44976976],\n",
       "       [0.46613068],\n",
       "       [0.5882231 ],\n",
       "       [0.63635825],\n",
       "       [0.57313552],\n",
       "       [0.45643258],\n",
       "       [0.76222627],\n",
       "       [0.55359126],\n",
       "       [0.71115948],\n",
       "       [0.31546218],\n",
       "       [0.60413983],\n",
       "       [0.83761975],\n",
       "       [0.7476273 ],\n",
       "       [0.84718459],\n",
       "       [0.85934053],\n",
       "       [0.78972149],\n",
       "       [0.74365922],\n",
       "       [0.68135448],\n",
       "       [0.89668192],\n",
       "       [0.73519004],\n",
       "       [0.98720739],\n",
       "       [0.50502673],\n",
       "       [1.        ],\n",
       "       [0.93787293],\n",
       "       [0.80331364],\n",
       "       [0.94438769],\n",
       "       [0.78782629],\n",
       "       [0.70467434],\n",
       "       [0.65104606],\n",
       "       [0.44790417],\n",
       "       [0.67977021],\n",
       "       [0.53034543],\n",
       "       [0.78390263],\n",
       "       [0.3349028 ],\n",
       "       [0.87703401],\n",
       "       [0.70343061],\n",
       "       [0.6764536 ],\n",
       "       [0.7996565 ],\n",
       "       [0.6539629 ],\n",
       "       [0.73176979],\n",
       "       [0.60723434],\n",
       "       [0.67      ]])"
      ]
     },
     "execution_count": 21,
     "metadata": {},
     "output_type": "execute_result"
    }
   ],
   "source": [
    "y"
   ]
  },
  {
   "cell_type": "code",
   "execution_count": 22,
   "metadata": {},
   "outputs": [
    {
     "data": {
      "image/png": "[encoded data removed]",
      "text/plain": [
       "<Figure size 432x288 with 1 Axes>"
      ]
     },
     "metadata": {
      "needs_background": "light"
     },
     "output_type": "display_data"
    }
   ],
   "source": [
    "#Plot cost during training:\n",
    "plot.plot(y)\n",
    "plot.plot(yHat)\n",
    "plot.grid(1)\n",
    "plot.legend(['y', 'yHat'])\n",
    "plot.show()"
   ]
  },
  {
   "cell_type": "code",
   "execution_count": 23,
   "metadata": {},
   "outputs": [],
   "source": [
    "prediksi=NN.forward(dataprediksi)"
   ]
  },
  {
   "cell_type": "code",
   "execution_count": 24,
   "metadata": {},
   "outputs": [
    {
     "data": {
      "text/plain": [
       "array([[0.71409702],\n",
       "       [0.75371541],\n",
       "       [0.67093396],\n",
       "       [0.42997514]])"
      ]
     },
     "execution_count": 24,
     "metadata": {},
     "output_type": "execute_result"
    }
   ],
   "source": [
    "prediksi"
   ]
  },
  {
   "cell_type": "code",
   "execution_count": 25,
   "metadata": {},
   "outputs": [],
   "source": [
    "from sklearn.metrics import mean_squared_error "
   ]
  },
  {
   "cell_type": "code",
   "execution_count": 26,
   "metadata": {},
   "outputs": [
    {
     "data": {
      "text/plain": [
       "0.1059389459662618"
      ]
     },
     "execution_count": 26,
     "metadata": {},
     "output_type": "execute_result"
    }
   ],
   "source": [
    "Y_true= ([\t0.67\t]\t,\n",
    "[\t0.389745184\t]\t,\n",
    "[\t0.136735812\t]\t,\n",
    "[\t0.366973156\t]\t,\n",
    "\n",
    ")\n",
    "\n",
    "\n",
    "Y_pred=prediksi\n",
    "mean_squared_error(Y_true,Y_pred) "
   ]
  },
  {
   "cell_type": "code",
   "execution_count": 27,
   "metadata": {},
   "outputs": [
    {
     "data": {
      "text/plain": [
       "array([[0.38732394, 0.79538041, 0.60723434, 0.67      ],\n",
       "       [0.37323944, 1.        , 0.67      , 0.67      ],\n",
       "       [0.36619718, 0.70768171, 0.67      , 0.38974518],\n",
       "       [0.44366197, 0.49169532, 0.38974518, 0.13673581]])"
      ]
     },
     "execution_count": 27,
     "metadata": {},
     "output_type": "execute_result"
    }
   ],
   "source": [
    "dataprediksi"
   ]
  },
  {
   "cell_type": "code",
   "execution_count": 28,
   "metadata": {},
   "outputs": [],
   "source": [
    "z=np.array([\t0.56136209\t,\t0.51319034])"
   ]
  },
  {
   "cell_type": "code",
   "execution_count": 29,
   "metadata": {},
   "outputs": [],
   "source": [
    "y=np.array([0.136735812\t,\t0.366973156\t])"
   ]
  },
  {
   "cell_type": "code",
   "execution_count": 30,
   "metadata": {},
   "outputs": [],
   "source": [
    "a=np.concatenate((z,y))"
   ]
  },
  {
   "cell_type": "code",
   "execution_count": 31,
   "metadata": {},
   "outputs": [
    {
     "ename": "ValueError",
     "evalue": "shapes (3,) and (4,6) not aligned: 3 (dim 0) != 4 (dim 0)",
     "output_type": "error",
     "traceback": [
      "\u001b[1;31m---------------------------------------------------------------------------\u001b[0m",
      "\u001b[1;31mValueError\u001b[0m                                Traceback (most recent call last)",
      "\u001b[1;32m<ipython-input-31-c8cc67aa6fab>\u001b[0m in \u001b[0;36m<module>\u001b[1;34m\u001b[0m\n\u001b[0;32m      1\u001b[0m \u001b[1;31m#prediksi 1\u001b[0m\u001b[1;33m\u001b[0m\u001b[1;33m\u001b[0m\u001b[1;33m\u001b[0m\u001b[0m\n\u001b[1;32m----> 2\u001b[1;33m \u001b[0mprediksi\u001b[0m\u001b[1;33m=\u001b[0m\u001b[0mNN\u001b[0m\u001b[1;33m.\u001b[0m\u001b[0mforward\u001b[0m\u001b[1;33m(\u001b[0m\u001b[0ma\u001b[0m\u001b[1;33m)\u001b[0m\u001b[1;33m\u001b[0m\u001b[1;33m\u001b[0m\u001b[0m\n\u001b[0m\u001b[0;32m      3\u001b[0m \u001b[0mprediksi\u001b[0m\u001b[1;33m\u001b[0m\u001b[1;33m\u001b[0m\u001b[0m\n",
      "\u001b[1;32m<ipython-input-8-ec2542b40f0a>\u001b[0m in \u001b[0;36mforward\u001b[1;34m(self, X)\u001b[0m\n\u001b[0;32m     16\u001b[0m     \u001b[1;32mdef\u001b[0m \u001b[0mforward\u001b[0m\u001b[1;33m(\u001b[0m\u001b[0mself\u001b[0m\u001b[1;33m,\u001b[0m \u001b[0mX\u001b[0m\u001b[1;33m)\u001b[0m\u001b[1;33m:\u001b[0m\u001b[1;33m\u001b[0m\u001b[1;33m\u001b[0m\u001b[0m\n\u001b[0;32m     17\u001b[0m         \u001b[1;31m#Propogate inputs though network\u001b[0m\u001b[1;33m\u001b[0m\u001b[1;33m\u001b[0m\u001b[1;33m\u001b[0m\u001b[0m\n\u001b[1;32m---> 18\u001b[1;33m         \u001b[0mself\u001b[0m\u001b[1;33m.\u001b[0m\u001b[0mz2\u001b[0m \u001b[1;33m=\u001b[0m \u001b[0mnp\u001b[0m\u001b[1;33m.\u001b[0m\u001b[0mdot\u001b[0m\u001b[1;33m(\u001b[0m\u001b[0mX\u001b[0m\u001b[1;33m,\u001b[0m \u001b[0mself\u001b[0m\u001b[1;33m.\u001b[0m\u001b[0mW1\u001b[0m\u001b[1;33m)\u001b[0m\u001b[1;33m\u001b[0m\u001b[1;33m\u001b[0m\u001b[0m\n\u001b[0m\u001b[0;32m     19\u001b[0m         \u001b[0mself\u001b[0m\u001b[1;33m.\u001b[0m\u001b[0ma2\u001b[0m \u001b[1;33m=\u001b[0m \u001b[0mself\u001b[0m\u001b[1;33m.\u001b[0m\u001b[0msigmoid\u001b[0m\u001b[1;33m(\u001b[0m\u001b[0mself\u001b[0m\u001b[1;33m.\u001b[0m\u001b[0mz2\u001b[0m\u001b[1;33m)\u001b[0m\u001b[1;33m\u001b[0m\u001b[1;33m\u001b[0m\u001b[0m\n\u001b[0;32m     20\u001b[0m         \u001b[0mself\u001b[0m\u001b[1;33m.\u001b[0m\u001b[0mz3\u001b[0m \u001b[1;33m=\u001b[0m \u001b[0mnp\u001b[0m\u001b[1;33m.\u001b[0m\u001b[0mdot\u001b[0m\u001b[1;33m(\u001b[0m\u001b[0mself\u001b[0m\u001b[1;33m.\u001b[0m\u001b[0ma2\u001b[0m\u001b[1;33m,\u001b[0m \u001b[0mself\u001b[0m\u001b[1;33m.\u001b[0m\u001b[0mW2\u001b[0m\u001b[1;33m)\u001b[0m\u001b[1;33m\u001b[0m\u001b[1;33m\u001b[0m\u001b[0m\n",
      "\u001b[1;31mValueError\u001b[0m: shapes (3,) and (4,6) not aligned: 3 (dim 0) != 4 (dim 0)"
     ]
    }
   ],
   "source": [
    "#prediksi 1\n",
    "prediksi=NN.forward(a)\n",
    "prediksi"
   ]
  },
  {
   "cell_type": "code",
   "execution_count": null,
   "metadata": {},
   "outputs": [],
   "source": [
    "#prediksi 2\n",
    "c=prediksi\n",
    "z1=np.array([0.59014524\t,\t0.48673204])\n",
    "b=y[1:]\n",
    "d=np.concatenate((z1,b,c))\n",
    "prediksi=NN.forward(d)\n",
    "prediksi"
   ]
  },
  {
   "cell_type": "code",
   "execution_count": null,
   "metadata": {},
   "outputs": [],
   "source": [
    "#prediksi 3\n",
    "c=prediksi\n",
    "z2=np.array([0.52737156\t,\t0.43012934])\n",
    "b=y[1:]\n",
    "d=np.concatenate((z2,b,c))\n",
    "prediksi=NN.forward(d)\n",
    "prediksi"
   ]
  },
  {
   "cell_type": "code",
   "execution_count": null,
   "metadata": {},
   "outputs": [],
   "source": [
    "#prediksi 4\n",
    "c=prediksi\n",
    "z3=np.array([0.460205\t,\t0.41357631])\n",
    "b=y[1:]\n",
    "d=np.concatenate((z3,b,c))\n",
    "prediksi=NN.forward(d)\n",
    "prediksi"
   ]
  },
  {
   "cell_type": "code",
   "execution_count": null,
   "metadata": {},
   "outputs": [],
   "source": [
    "#prediksi 5\n",
    "c=prediksi\n",
    "z4=np.array([0.40834019\t,\t0.41626853])\n",
    "b=y[1:]\n",
    "d=np.concatenate((z4,b,c))\n",
    "prediksi=NN.forward(d)\n",
    "prediksi"
   ]
  },
  {
   "cell_type": "code",
   "execution_count": null,
   "metadata": {},
   "outputs": [],
   "source": [
    "#prediksi 6\n",
    "c=prediksi\n",
    "z5=np.array([0.42786469\t,\t0.41314695])\n",
    "b=y[1:]\n",
    "d=np.concatenate((z5,b,c))\n",
    "prediksi=NN.forward(d)\n",
    "prediksi"
   ]
  }
 ],
 "metadata": {
  "kernelspec": {
   "display_name": "Python 3",
   "language": "python",
   "name": "python3"
  },
  "language_info": {
   "codemirror_mode": {
    "name": "ipython",
    "version": 3
   },
   "file_extension": ".py",
   "mimetype": "text/x-python",
   "name": "python",
   "nbconvert_exporter": "python",
   "pygments_lexer": "ipython3",
   "version": "3.7.3"
  }
 },
 "nbformat": 4,
 "nbformat_minor": 2
}
